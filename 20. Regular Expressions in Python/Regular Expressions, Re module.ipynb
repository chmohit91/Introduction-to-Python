{
 "cells": [
  {
   "cell_type": "markdown",
   "id": "d7d9bc16",
   "metadata": {},
   "source": [
    "### re module in Python to deal with Regular Expressions (also called RegEx)"
   ]
  },
  {
   "cell_type": "code",
   "execution_count": 2,
   "id": "7fae8817",
   "metadata": {},
   "outputs": [],
   "source": [
    "import re"
   ]
  },
  {
   "cell_type": "code",
   "execution_count": null,
   "id": "0479bb7d",
   "metadata": {},
   "outputs": [],
   "source": [
    "'''Rikkis email id is rikki@gmail.com\n",
    "raheela@hotmail.com is Raheelas email\n",
    "In my contact book ashish@yahoo.com is saved as email for Ashish\n",
    "Taniya goes by at least two email IDs taniya@rediff.com and taaaaaaaniya@outlook.com'\n",
    "\n",
    "{<alphanum>+@<alphanumeric>[.]com}"
   ]
  },
  {
   "cell_type": "code",
   "execution_count": null,
   "id": "55f977ab",
   "metadata": {},
   "outputs": [],
   "source": [
    "# We build patterns using:\n",
    "\n",
    "# Sequences\n",
    "# Quantifiers\n",
    "# Metacharacters\n",
    "\n",
    "# re module also has useful functions/methods to help us in our task of extracting patterns from text. "
   ]
  },
  {
   "cell_type": "code",
   "execution_count": null,
   "id": "0f22699b",
   "metadata": {},
   "outputs": [],
   "source": [
    "#1. Regex pattern matches character by character\n",
    "#2. It performs a greedy match"
   ]
  },
  {
   "cell_type": "code",
   "execution_count": null,
   "id": "46f02e2b",
   "metadata": {},
   "outputs": [],
   "source": [
    "'Baaataaaaataaaaa'\n",
    "\n",
    "# {a+}\n",
    "\n",
    "# aaa\n",
    "# aaaaa\n",
    "# aaaaa"
   ]
  },
  {
   "cell_type": "code",
   "execution_count": null,
   "id": "14cb1aa2",
   "metadata": {},
   "outputs": [],
   "source": [
    "# We use r (raw string) before a pattern definition in regex to avoid having Python treat the \\ in regex sequences as \n",
    "# escape characters."
   ]
  },
  {
   "cell_type": "code",
   "execution_count": 8,
   "id": "bfe58f6e",
   "metadata": {},
   "outputs": [
    {
     "name": "stdout",
     "output_type": "stream",
     "text": [
      "['sells', 'sea', 'shells', 'sea', 'shore']\n"
     ]
    }
   ],
   "source": [
    "str1 = 'She sells sea shells on the sea shore'\n",
    "\n",
    "pattern = r'\\bs\\w+'\n",
    "\n",
    "output = re.findall(pattern, str1)\n",
    "\n",
    "print(output)"
   ]
  },
  {
   "cell_type": "code",
   "execution_count": null,
   "id": "af693353",
   "metadata": {},
   "outputs": [],
   "source": [
    "# \\b = look at beginning of word\n",
    "# s = alphabet s\n",
    "# \\w = alphanumeric character\n",
    "# + = 1 or more occurrences of the character preceding it. "
   ]
  },
  {
   "cell_type": "markdown",
   "id": "9360415f",
   "metadata": {},
   "source": [
    "#### Common regex methods"
   ]
  },
  {
   "cell_type": "code",
   "execution_count": 21,
   "id": "3a30651c",
   "metadata": {},
   "outputs": [
    {
     "name": "stdout",
     "output_type": "stream",
     "text": [
      "['sells', 'sea', 'shells', 'sea', 'shore']\n"
     ]
    }
   ],
   "source": [
    "# findall method - outputs all the matches of the pattern inside a list. \n",
    "\n",
    "str1 = 'She sells sea shells on the sea shore'\n",
    "\n",
    "pattern = r'\\bs\\w+'\n",
    "\n",
    "output = re.findall(pattern, str1)\n",
    "\n",
    "print(output)"
   ]
  },
  {
   "cell_type": "code",
   "execution_count": 22,
   "id": "abceb6ce",
   "metadata": {},
   "outputs": [],
   "source": [
    "# search method - finds the first occurrence of the pattern and outputs a match object"
   ]
  },
  {
   "cell_type": "code",
   "execution_count": 10,
   "id": "808d3557",
   "metadata": {},
   "outputs": [
    {
     "name": "stdout",
     "output_type": "stream",
     "text": [
      "<re.Match object; span=(4, 9), match='sells'>\n"
     ]
    }
   ],
   "source": [
    "output = re.search(pattern,str1)\n",
    "\n",
    "print(output)"
   ]
  },
  {
   "cell_type": "code",
   "execution_count": 23,
   "id": "f1e77467",
   "metadata": {},
   "outputs": [],
   "source": [
    "# match method - checks if the pattern we want to match is at the beginning of the string."
   ]
  },
  {
   "cell_type": "code",
   "execution_count": 24,
   "id": "46466f32",
   "metadata": {},
   "outputs": [
    {
     "name": "stdout",
     "output_type": "stream",
     "text": [
      "<re.Match object; span=(0, 3), match='She'>\n"
     ]
    }
   ],
   "source": [
    "pattern = r'S\\w+'\n",
    "\n",
    "output = re.match(pattern,str1)\n",
    "\n",
    "print(output)"
   ]
  },
  {
   "cell_type": "code",
   "execution_count": 25,
   "id": "35b8bc12",
   "metadata": {},
   "outputs": [
    {
     "name": "stdout",
     "output_type": "stream",
     "text": [
      "None\n"
     ]
    }
   ],
   "source": [
    "pattern = r's\\w+'\n",
    "\n",
    "output = re.match(pattern,str1)\n",
    "\n",
    "print(output)"
   ]
  },
  {
   "cell_type": "code",
   "execution_count": null,
   "id": "7efe075c",
   "metadata": {},
   "outputs": [],
   "source": [
    "# finditer method - finds ALL the occurences of the pattern in the input string, but unlike findall - returns an iterator\n",
    "# object which in turn contains the match objects for each of the pattern matches."
   ]
  },
  {
   "cell_type": "code",
   "execution_count": null,
   "id": "d309554c",
   "metadata": {},
   "outputs": [],
   "source": [
    "iterator object\n",
    "[match object\n",
    "match object\n",
    "match object]"
   ]
  },
  {
   "cell_type": "code",
   "execution_count": 29,
   "id": "efcf0131",
   "metadata": {},
   "outputs": [
    {
     "name": "stdout",
     "output_type": "stream",
     "text": [
      "<callable_iterator object at 0x000001A1B4A35430>\n"
     ]
    }
   ],
   "source": [
    "str1 = 'She sells sea shells on the sea shore'\n",
    "\n",
    "pattern = r'\\bs\\w+'\n",
    "\n",
    "output = re.finditer(pattern, str1)\n",
    "\n",
    "print(output)"
   ]
  },
  {
   "cell_type": "code",
   "execution_count": 27,
   "id": "4c7fde37",
   "metadata": {},
   "outputs": [
    {
     "name": "stdout",
     "output_type": "stream",
     "text": [
      "<re.Match object; span=(4, 9), match='sells'>\n",
      "<re.Match object; span=(10, 13), match='sea'>\n",
      "<re.Match object; span=(14, 20), match='shells'>\n",
      "<re.Match object; span=(28, 31), match='sea'>\n",
      "<re.Match object; span=(32, 37), match='shore'>\n"
     ]
    }
   ],
   "source": [
    "for match in output:\n",
    "    print(match)"
   ]
  },
  {
   "cell_type": "code",
   "execution_count": 30,
   "id": "40296501",
   "metadata": {},
   "outputs": [
    {
     "name": "stdout",
     "output_type": "stream",
     "text": [
      "(4, 9)--->sells\n",
      "(10, 13)--->sea\n",
      "(14, 20)--->shells\n",
      "(28, 31)--->sea\n",
      "(32, 37)--->shore\n"
     ]
    }
   ],
   "source": [
    "for match in output:\n",
    "    print(match.span(), match.group(), sep = '--->')\n",
    "    "
   ]
  },
  {
   "cell_type": "code",
   "execution_count": 31,
   "id": "a7175bed",
   "metadata": {},
   "outputs": [
    {
     "name": "stdout",
     "output_type": "stream",
     "text": [
      "re.compile('\\\\bs\\\\w+')\n",
      "<class 're.Pattern'>\n",
      "['sells', 'sea', 'shells', 'sea', 'shore']\n"
     ]
    }
   ],
   "source": [
    "# compile method - compiles the given pattern into a pattern object. This is the most basic class of regex which actually\n",
    "# helps to do the pattern matching.\n",
    "\n",
    "\n",
    "\n",
    "str1 = 'She sells sea shells on the sea shore'\n",
    "\n",
    "pattern = re.compile(r'\\bs\\w+')\n",
    "\n",
    "output = re.findall(pattern, str1)\n",
    "\n",
    "print(pattern)\n",
    "print(type(pattern))\n",
    "print(output)"
   ]
  },
  {
   "cell_type": "code",
   "execution_count": 32,
   "id": "09b812a8",
   "metadata": {},
   "outputs": [
    {
     "name": "stdout",
     "output_type": "stream",
     "text": [
      "['sells', 'sea', 'shells', 'sea', 'shore']\n"
     ]
    }
   ],
   "source": [
    "output2 = pattern.findall(str1)\n",
    "\n",
    "print(output2)"
   ]
  },
  {
   "cell_type": "code",
   "execution_count": null,
   "id": "c1546f36",
   "metadata": {},
   "outputs": [],
   "source": [
    "# match objects have certain methods and attributes. Generally used ones are:"
   ]
  },
  {
   "cell_type": "code",
   "execution_count": 33,
   "id": "a6f46c7e",
   "metadata": {},
   "outputs": [],
   "source": [
    "# group() - to output the string that matched our pattern\n",
    "# span() - start,end index of the match in the form of a tuple\n",
    "# start() - start index of the match\n",
    "# end() - end index of the match\n",
    "# string - <attribute> - The input string where the match(es) was(were) found."
   ]
  },
  {
   "cell_type": "code",
   "execution_count": 15,
   "id": "f86e5efe",
   "metadata": {},
   "outputs": [
    {
     "data": {
      "text/plain": [
       "'sells'"
      ]
     },
     "execution_count": 15,
     "metadata": {},
     "output_type": "execute_result"
    }
   ],
   "source": [
    "output.group()"
   ]
  },
  {
   "cell_type": "code",
   "execution_count": 16,
   "id": "92561c0b",
   "metadata": {},
   "outputs": [
    {
     "data": {
      "text/plain": [
       "(4, 9)"
      ]
     },
     "execution_count": 16,
     "metadata": {},
     "output_type": "execute_result"
    }
   ],
   "source": [
    "output.span()"
   ]
  },
  {
   "cell_type": "code",
   "execution_count": 17,
   "id": "068a2b2c",
   "metadata": {},
   "outputs": [
    {
     "data": {
      "text/plain": [
       "4"
      ]
     },
     "execution_count": 17,
     "metadata": {},
     "output_type": "execute_result"
    }
   ],
   "source": [
    "output.start()"
   ]
  },
  {
   "cell_type": "code",
   "execution_count": 18,
   "id": "74ee2f85",
   "metadata": {},
   "outputs": [
    {
     "data": {
      "text/plain": [
       "9"
      ]
     },
     "execution_count": 18,
     "metadata": {},
     "output_type": "execute_result"
    }
   ],
   "source": [
    "output.end()"
   ]
  },
  {
   "cell_type": "code",
   "execution_count": 20,
   "id": "a14bbe0b",
   "metadata": {},
   "outputs": [
    {
     "data": {
      "text/plain": [
       "'She sells sea shells on the sea shore'"
      ]
     },
     "execution_count": 20,
     "metadata": {},
     "output_type": "execute_result"
    }
   ],
   "source": [
    "output.string"
   ]
  },
  {
   "cell_type": "code",
   "execution_count": 14,
   "id": "1d1750a8",
   "metadata": {},
   "outputs": [
    {
     "name": "stdout",
     "output_type": "stream",
     "text": [
      "['__class__', '__class_getitem__', '__copy__', '__deepcopy__', '__delattr__', '__dir__', '__doc__', '__eq__', '__format__', '__ge__', '__getattribute__', '__getitem__', '__gt__', '__hash__', '__init__', '__init_subclass__', '__le__', '__lt__', '__ne__', '__new__', '__reduce__', '__reduce_ex__', '__repr__', '__setattr__', '__sizeof__', '__str__', '__subclasshook__', 'end', 'endpos', 'expand', 'group', 'groupdict', 'groups', 'lastgroup', 'lastindex', 'pos', 're', 'regs', 'span', 'start', 'string']\n"
     ]
    }
   ],
   "source": [
    "print(dir(output))"
   ]
  },
  {
   "cell_type": "code",
   "execution_count": null,
   "id": "1837d296",
   "metadata": {},
   "outputs": [],
   "source": [
    "# pattern = 'boot*'\n",
    "\n",
    "# str1 = 'boottttttttttt'"
   ]
  },
  {
   "cell_type": "code",
   "execution_count": null,
   "id": "e4b35579",
   "metadata": {},
   "outputs": [],
   "source": [
    "# + = 1 or more occurrences of the character/sequence preceding it\n",
    "# * = 0 or more occurrences of the character/sequence preceding it."
   ]
  },
  {
   "cell_type": "markdown",
   "id": "be40675a",
   "metadata": {},
   "source": [
    "#### Sequences in Regex"
   ]
  },
  {
   "cell_type": "code",
   "execution_count": null,
   "id": "aec2318f",
   "metadata": {},
   "outputs": [],
   "source": [
    "# Special Sequence             Description\n",
    "# \\A                           Matches if the string begins with the given pattern\n",
    "\n",
    "# \\b                           Matches if the word begins or ends with the given character.(\\b before pattern to check if it\n",
    "#                              begins with the pattern and \\b after pattern to see if it ends with the specified pattern).\n",
    "# \\B                           It is the opposite of the \\b i.e. the word should not start or end with the given regex.\n",
    "# \\d                           Matches any decimal digit, this is equivalent to the set class [0-9]\n",
    "# \\D                           Matches any non-digit character, this is equivalent to the set class [^0-9]\n",
    "# \\s                           Matches any whitespace character.\n",
    "# \\S                           Matches any non-whitespace character\n",
    "# \\w                           Matches any alphanumeric character, this is equivalent to the class [a-zA-Z0-9_].\n",
    "# \\W                           Matches any non-alphanumeric character.\n",
    "# \\Z                           Matches if the string ends with the given regex"
   ]
  },
  {
   "cell_type": "code",
   "execution_count": null,
   "id": "ad7a6a70",
   "metadata": {},
   "outputs": [],
   "source": [
    "# \\A - Matches pattern at beginning of string. Almost exactly as metacharacter ^. \n",
    "# \\Z - Matches pattern at end of string. Almost exactly as metacharacter $."
   ]
  },
  {
   "cell_type": "code",
   "execution_count": 36,
   "id": "8bdecd75",
   "metadata": {},
   "outputs": [
    {
     "name": "stdout",
     "output_type": "stream",
     "text": [
      "[]\n"
     ]
    }
   ],
   "source": [
    "str1 = 'Peter Piper picked a peck of pickled peppers'\n",
    "\n",
    "pattern = r'\\APe\\w+'\n",
    "\n",
    "# Match at beginning of string\n",
    "# Pattern should begin with P\n",
    "# have at least 1 alphanumeric character\n",
    "# continue matching till alphanumeric characters are matching.\n",
    "\n",
    "output = re.findall(pattern, str1)\n",
    "\n",
    "print(output)"
   ]
  },
  {
   "cell_type": "code",
   "execution_count": 39,
   "id": "0c6b3096",
   "metadata": {},
   "outputs": [
    {
     "name": "stdout",
     "output_type": "stream",
     "text": [
      "['Peter']\n"
     ]
    }
   ],
   "source": [
    "str1 = 'Peter Piper picked a peck of pickled peppers'\n",
    "\n",
    "pattern = r'^Pe\\w+'\n",
    "\n",
    "output = re.findall(pattern, str1)\n",
    "\n",
    "print(output)"
   ]
  },
  {
   "cell_type": "code",
   "execution_count": 41,
   "id": "be10237d",
   "metadata": {},
   "outputs": [
    {
     "name": "stdout",
     "output_type": "stream",
     "text": [
      "['peppers']\n"
     ]
    }
   ],
   "source": [
    "str1 = 'Peter Piper picked a peck of pickled peppers'\n",
    "\n",
    "pattern = r'\\w+rs\\Z'\n",
    "\n",
    "output = re.findall(pattern, str1)\n",
    "\n",
    "print(output)"
   ]
  },
  {
   "cell_type": "code",
   "execution_count": 43,
   "id": "320bce6f",
   "metadata": {},
   "outputs": [
    {
     "name": "stdout",
     "output_type": "stream",
     "text": [
      "[]\n"
     ]
    }
   ],
   "source": [
    "str1 = 'Peter Piper picked a peck of pickled peppers'\n",
    "\n",
    "pattern = r'\\w+d\\Z'\n",
    "\n",
    "output = re.findall(pattern, str1)\n",
    "\n",
    "print(output)"
   ]
  },
  {
   "cell_type": "code",
   "execution_count": 44,
   "id": "ef023a8b",
   "metadata": {},
   "outputs": [
    {
     "name": "stdout",
     "output_type": "stream",
     "text": [
      "['peppers']\n"
     ]
    }
   ],
   "source": [
    "str1 = 'Peter Piper picked a peck of pickled peppers'\n",
    "\n",
    "pattern = r'\\w+rs$'\n",
    "\n",
    "output = re.findall(pattern, str1)\n",
    "\n",
    "print(output)"
   ]
  },
  {
   "cell_type": "code",
   "execution_count": 45,
   "id": "141fda2b",
   "metadata": {},
   "outputs": [
    {
     "name": "stdout",
     "output_type": "stream",
     "text": [
      "['picked', 'peck', 'pickled', 'peppers']\n"
     ]
    }
   ],
   "source": [
    "# \\b - Looks for the pattern at the beginning (or end - depending on placement) of the word boundary for the pattern.\n",
    "\n",
    "str1 = 'Peter Piper picked a peck of pickled peppers'\n",
    "\n",
    "pattern = r'\\bp\\w+'\n",
    "\n",
    "output = re.findall(pattern, str1)\n",
    "\n",
    "print(output)"
   ]
  },
  {
   "cell_type": "code",
   "execution_count": 46,
   "id": "2619cbd5",
   "metadata": {},
   "outputs": [
    {
     "name": "stdout",
     "output_type": "stream",
     "text": [
      "['picked', 'pickled']\n"
     ]
    }
   ],
   "source": [
    "str1 = 'Peter Piper picked a peck of pickled peppers'\n",
    "\n",
    "pattern = r'\\w+d\\b'\n",
    "\n",
    "output = re.findall(pattern, str1)\n",
    "\n",
    "print(output)"
   ]
  },
  {
   "cell_type": "code",
   "execution_count": null,
   "id": "9fede90b",
   "metadata": {},
   "outputs": [],
   "source": [
    "# \\b (at the beginning of pattern) - \\A\n",
    "# \\b (at the end of pattern) - \\Z\n",
    "\n",
    "# Difference?\n",
    "\n",
    "#\\b - looks at beginning or end of word depending on placement while \\A(^) and \\Z($) look at beginning or end of string."
   ]
  },
  {
   "cell_type": "code",
   "execution_count": 47,
   "id": "360ecada",
   "metadata": {},
   "outputs": [
    {
     "name": "stdout",
     "output_type": "stream",
     "text": [
      "['per', 'ppers']\n"
     ]
    }
   ],
   "source": [
    "# \\B - Look for pattern but the pattern CANNOT occur at beginning (or end - depending on placement) of word. \n",
    "\n",
    "# \\B - Match any word that does not begin with the given pattern. - THIS IS COMPLETELY INCORRECT!\n",
    "\n",
    "str1 = 'Peter Piper picked a peck of pickled peppers'\n",
    "\n",
    "pattern = r'\\Bp\\w+'\n",
    "\n",
    "output = re.findall(pattern, str1)\n",
    "\n",
    "print(output)"
   ]
  },
  {
   "cell_type": "code",
   "execution_count": 48,
   "id": "de4c2d13",
   "metadata": {},
   "outputs": [
    {
     "name": "stdout",
     "output_type": "stream",
     "text": [
      "['4er', '1per', '1cked', '1ckled']\n"
     ]
    }
   ],
   "source": [
    "# \\d matches any digits - set class [0 - 9].\n",
    "\n",
    "\n",
    "str1 = 'Pe4er P1per p1cked a peck of p1ckled peppers'\n",
    "\n",
    "pattern = r'\\d\\w+'\n",
    "\n",
    "output = re.findall(pattern, str1)\n",
    "\n",
    "print(output)"
   ]
  },
  {
   "cell_type": "code",
   "execution_count": 49,
   "id": "fd11dfd8",
   "metadata": {},
   "outputs": [
    {
     "name": "stdout",
     "output_type": "stream",
     "text": [
      "['Peter P%per picked @ peck of p', 'ckled pepper']\n"
     ]
    }
   ],
   "source": [
    "#\\D matches any NON DIGIT characters. \n",
    "\n",
    "# Alphabets (a to z, A to Z)\n",
    "# Special Characters - @, %, ?, > ....  INCLUDING SPACE!\n",
    "# Special sequences \\n\n",
    "\n",
    "str1 = 'Peter P%per picked @ peck of p1ckled pepper5'\n",
    "\n",
    "pattern = r'\\D+'\n",
    "\n",
    "output = re.findall(pattern, str1)\n",
    "\n",
    "print(output)"
   ]
  },
  {
   "cell_type": "code",
   "execution_count": null,
   "id": "dc4b2919",
   "metadata": {},
   "outputs": [],
   "source": [
    "small a to small z\n",
    "capital a to capital z"
   ]
  },
  {
   "cell_type": "code",
   "execution_count": 63,
   "id": "2bf87ca7",
   "metadata": {},
   "outputs": [
    {
     "name": "stdout",
     "output_type": "stream",
     "text": [
      "['Taniya Pal', 'Raheela Shabreen', 'Rajat Bhat', 'Rashmika Saravanan']\n"
     ]
    }
   ],
   "source": [
    "# \\s matches any character whitespace character\n",
    "\n",
    "str1 = 'Taniya Pal 100 Raheela Shabreen 100 Rajat Bhat 100 Rashmika Saravanan 100'\n",
    "\n",
    "pattern = r'[a-zA-Z]\\w+\\s\\w+'\n",
    "\n",
    "output = re.findall(pattern, str1)\n",
    "\n",
    "print(output)"
   ]
  },
  {
   "cell_type": "code",
   "execution_count": 3,
   "id": "e46f58df",
   "metadata": {},
   "outputs": [
    {
     "name": "stdout",
     "output_type": "stream",
     "text": [
      "['Taniya', 'Pal', 'Raheela', 'Shabreen', 'Rajat', 'Bhat', 'Rashmika', 'Saravanan']\n"
     ]
    }
   ],
   "source": [
    "str1 = 'Taniya Pal 100 Marks Raheela Shabreen 100 Marks Rajat Bhat 100 Marks Rashmika Saravanan 100 Marks'\n",
    "\n",
    "pattern = r'\\b(?!100\\b|\\bMarks\\b)[A-Za-z]+\\b'\n",
    "\n",
    "output = re.findall(pattern, str1)\n",
    "\n",
    "print(output)"
   ]
  },
  {
   "cell_type": "code",
   "execution_count": 65,
   "id": "e04f48d5",
   "metadata": {},
   "outputs": [
    {
     "name": "stdout",
     "output_type": "stream",
     "text": [
      "['Taniya Pal', '100 Raheela', 'Shabreen 100', 'Rajat Bhat', '100 Rashmika', 'Saravanan 100']\n"
     ]
    }
   ],
   "source": [
    "pattern = r'\\w+\\D\\w+'\n",
    "\n",
    "output = re.findall(pattern, str1)\n",
    "print(output)"
   ]
  },
  {
   "cell_type": "code",
   "execution_count": 68,
   "id": "a7a10b96",
   "metadata": {},
   "outputs": [
    {
     "name": "stdout",
     "output_type": "stream",
     "text": [
      "['Taniya', 'Pal', '!00', 'Raheela', 'Shabreen', '!00', 'Rajat_Bhat', '100', 'Rashmika', 'Saravanan', '100']\n"
     ]
    }
   ],
   "source": [
    "# \\S matches any character that is NOT whitespace character\n",
    "\n",
    "# Includes:\n",
    "# Alphabets\n",
    "# Numbers\n",
    "# Symbols\n",
    "\n",
    "str1 = 'Taniya Pal !00 Raheela Shabreen !00 Rajat_Bhat 100 Rashmika Saravanan 100'\n",
    "\n",
    "pattern = r'\\S+'\n",
    "\n",
    "output = re.findall(pattern, str1)\n",
    "\n",
    "print(output)"
   ]
  },
  {
   "cell_type": "code",
   "execution_count": 70,
   "id": "6d966ed6",
   "metadata": {},
   "outputs": [
    {
     "name": "stdout",
     "output_type": "stream",
     "text": [
      "['Taniya', 'Pal', '00', 'Raheela', 'Shabreen', '00', 'Rajat_Bhat', '100', 'Rashmika', 'Saravanan', '100']\n"
     ]
    }
   ],
   "source": [
    "# \\w matches any alphanumeric character and underscore i.e. A to Z, a to z, 0 to 9 and _\n",
    "\n",
    "str1 = 'Taniya Pal !00 Raheela Shabreen !00 Rajat_Bhat 100 Rashmika Saravanan 100'\n",
    "\n",
    "pattern = r'\\w+'\n",
    "\n",
    "output = re.findall(pattern, str1)\n",
    "\n",
    "print(output)"
   ]
  },
  {
   "cell_type": "code",
   "execution_count": 71,
   "id": "c0d82ff3",
   "metadata": {},
   "outputs": [
    {
     "name": "stdout",
     "output_type": "stream",
     "text": [
      "[' ', ' !', ' ', ' ', ' !', ' ', ' ', ' ', ' ', ' ']\n"
     ]
    }
   ],
   "source": [
    "# \\W matches any NON alphanumeric character or underscore\n",
    "\n",
    "str1 = 'Taniya Pal !00 Raheela Shabreen !00 Rajat_Bhat 100 Rashmika Saravanan 100'\n",
    "\n",
    "pattern = r'\\W+'\n",
    "\n",
    "output = re.findall(pattern, str1)\n",
    "\n",
    "print(output)"
   ]
  },
  {
   "cell_type": "code",
   "execution_count": null,
   "id": "aec546ab",
   "metadata": {},
   "outputs": [],
   "source": [
    "# There are also Metacharacters.\n",
    "\n",
    "# MetaCharacters               Description\n",
    "# \\                            Used to drop the special meaning of character following it\n",
    "# []                           Represent a character class\n",
    "# ^                            Matches the beginning of string = \\A\n",
    "# $                            Matches the end of string = \\Z\n",
    "# .                            Matches any character except newline\n",
    "# |                            Means OR (Matches with any of the characters separated by it).\n",
    "\n",
    "# And Quantifiers\n",
    "\n",
    "# ?                            Matches zero or one occurrence - It signifies optional character.\n",
    "# *                            Any number of occurrences (including 0 occurrences)\n",
    "# +                            One or more occurrences\n",
    "# {}                           Indicate the number of occurrences of a preceding regex to match.\n",
    "# ()                           Enclose a group of Regex\n"
   ]
  },
  {
   "cell_type": "code",
   "execution_count": null,
   "id": "f69f1410",
   "metadata": {},
   "outputs": [],
   "source": [
    "# [apr] - will search for any one of the enclosed characters\n",
    "# [^apr] - will NOT include the enclosed characters as part of search pattern.\n",
    "# [0-5] - will include range of digits between 0 to 5\n",
    "# [a-p] - will include range of alphabets between a to p\n",
    "# [a-zA-Z] - Any alphabets between small a to small z and capital A to capital Z\n",
    "# [1-5][3-7] - Any numbers that are between 1 to 5 as first digit and 3 to 7 as second digit\n",
    "# [+*] - Except for caret ^ - the other symbols have no special meaning inside square brackets. So + means we will look for \n",
    "# + character in pattern, * means we will look for * character in pattern and so on...."
   ]
  },
  {
   "cell_type": "code",
   "execution_count": 10,
   "id": "1df0153c",
   "metadata": {},
   "outputs": [
    {
     "name": "stdout",
     "output_type": "stream",
     "text": [
      "['Boot', 'Coot', 'Foot', 'Moot', 'Toot']\n"
     ]
    }
   ],
   "source": [
    "import re\n",
    "\n",
    "str1 = 'Hoot Boot Coot Loot Soot Foot Moot Root Toot SHoot GRoot'\n",
    "\n",
    "pattern = r'\\b[HLSR]oot'\n",
    "\n",
    "result = re.findall(pattern, str1)\n",
    "\n",
    "print(result)"
   ]
  },
  {
   "cell_type": "code",
   "execution_count": 11,
   "id": "f73d65a9",
   "metadata": {},
   "outputs": [
    {
     "name": "stdout",
     "output_type": "stream",
     "text": [
      "['Boot', 'Coot', 'Foot', 'Moot', 'Toot']\n"
     ]
    }
   ],
   "source": [
    "str1 = 'Hoot Boot Coot Loot Soot Foot Moot Root Toot SHoot GRoot'\n",
    "\n",
    "pattern = r'\\b[^HLSR]oot'\n",
    "\n",
    "result = re.findall(pattern, str1)\n",
    "\n",
    "print(result)"
   ]
  },
  {
   "cell_type": "code",
   "execution_count": 12,
   "id": "fcdb89f2",
   "metadata": {},
   "outputs": [
    {
     "name": "stdout",
     "output_type": "stream",
     "text": [
      "['Hoot', 'Boot', 'Coot', 'Loot', 'Foot']\n"
     ]
    }
   ],
   "source": [
    "str1 = 'Hoot Boot Coot Loot Soot Foot Moot Root Toot SHoot GRoot'\n",
    "\n",
    "pattern = r'\\b[B-L]oot'\n",
    "\n",
    "result = re.findall(pattern, str1)\n",
    "\n",
    "print(result)"
   ]
  },
  {
   "cell_type": "code",
   "execution_count": 13,
   "id": "6c3917b4",
   "metadata": {},
   "outputs": [
    {
     "name": "stdout",
     "output_type": "stream",
     "text": [
      "['hoot', 'Boot', 'Coot', 'loot', 'foot']\n"
     ]
    }
   ],
   "source": [
    "str1 = 'hoot Boot Coot loot Soot foot Moot Root Toot SHoot GRoot'\n",
    "\n",
    "pattern = r'\\b[B-Lb-l]oot'\n",
    "\n",
    "result = re.findall(pattern, str1)\n",
    "\n",
    "print(result)"
   ]
  },
  {
   "cell_type": "code",
   "execution_count": 14,
   "id": "d408abaa",
   "metadata": {},
   "outputs": [
    {
     "name": "stdout",
     "output_type": "stream",
     "text": [
      "['Soot', 'Root', 'Hoot', 'Root']\n"
     ]
    }
   ],
   "source": [
    "str1 = 'hoot Boot Coot loot Soot foot Moot Root Toot SHoot GRoot'\n",
    "\n",
    "pattern = r'[HLSR]oot'\n",
    "\n",
    "result = re.findall(pattern, str1)\n",
    "\n",
    "print(result)"
   ]
  },
  {
   "cell_type": "code",
   "execution_count": 17,
   "id": "891e93e8",
   "metadata": {},
   "outputs": [
    {
     "name": "stdout",
     "output_type": "stream",
     "text": [
      "['5', '6', '7', '3', '2', '4', '2', '6', '3', '8', '8']\n"
     ]
    }
   ],
   "source": [
    "str1 = '56 79 32 41 12 63 88'\n",
    "\n",
    "pattern = r'[5-8][2-6]'\n",
    "\n",
    "result = re.findall(pattern, str1)\n",
    "\n",
    "print(result)"
   ]
  },
  {
   "cell_type": "code",
   "execution_count": 18,
   "id": "92a247f1",
   "metadata": {},
   "outputs": [
    {
     "name": "stdout",
     "output_type": "stream",
     "text": [
      "['* and', 't up', '. You', '+ me']\n"
     ]
    }
   ],
   "source": [
    "str1 = 'I am a shooting * and light up the sky. You + me makes a symphony'\n",
    "\n",
    "pattern = r'[t*+.]\\s\\w+'\n",
    "\n",
    "result = re.findall(pattern, str1)\n",
    "\n",
    "print(result)"
   ]
  },
  {
   "cell_type": "code",
   "execution_count": 20,
   "id": "89e4568d",
   "metadata": {},
   "outputs": [
    {
     "name": "stdout",
     "output_type": "stream",
     "text": [
      "['Jack and Jill went up the hill ', 'To Fetch a pail of water']\n"
     ]
    }
   ],
   "source": [
    "str1 = 'Jack and Jill went up the hill \\nTo Fetch a pail of water'\n",
    "\n",
    "pattern = r'.+'\n",
    "\n",
    "result = re.findall(pattern, str1)\n",
    "\n",
    "print(result)"
   ]
  },
  {
   "cell_type": "code",
   "execution_count": 25,
   "id": "5c8778db",
   "metadata": {},
   "outputs": [
    {
     "name": "stdout",
     "output_type": "stream",
     "text": [
      "['Monkey', 'Donkey']\n"
     ]
    }
   ],
   "source": [
    "str1 = 'Monkey Donkey Ponkey'\n",
    "\n",
    "pattern = r'Monkey|Donkey'\n",
    "\n",
    "result = re.findall(pattern, str1)\n",
    "\n",
    "print(result)"
   ]
  },
  {
   "cell_type": "code",
   "execution_count": 26,
   "id": "2481f8e5",
   "metadata": {},
   "outputs": [
    {
     "name": "stdout",
     "output_type": "stream",
     "text": [
      "['mj@gmail.com', 'kb24@hotmail.com']\n"
     ]
    }
   ],
   "source": [
    "emails = 'MJ mj@gmail.com Kobe kb24@hotmail.com LeBron lbj@rediff.com'\n",
    "\n",
    "pattern = r'\\w+@gmail.com|\\w+@hotmail.com'\n",
    "\n",
    "result = re.findall(pattern, emails)\n",
    "\n",
    "print(result)"
   ]
  },
  {
   "cell_type": "code",
   "execution_count": null,
   "id": "3b0589fd",
   "metadata": {},
   "outputs": [],
   "source": [
    "# * means 0 or more occurrences of character preceding it - 0 to infinity\n",
    "# + means 1 or more occurrences of character preceding it - 1 to infinity\n",
    "# ? means 0 or 1 occurrences of character preceding it. "
   ]
  },
  {
   "cell_type": "code",
   "execution_count": 27,
   "id": "c798265a",
   "metadata": {},
   "outputs": [
    {
     "name": "stdout",
     "output_type": "stream",
     "text": [
      "['colour', 'color']\n"
     ]
    }
   ],
   "source": [
    "str1 = 'colour color colouur'\n",
    "\n",
    "pattern = r'colou?r'\n",
    "\n",
    "result = re.findall(pattern, str1)\n",
    "\n",
    "print(result)"
   ]
  },
  {
   "cell_type": "code",
   "execution_count": 28,
   "id": "2938d588",
   "metadata": {},
   "outputs": [
    {
     "name": "stdout",
     "output_type": "stream",
     "text": [
      "['colouuur']\n"
     ]
    }
   ],
   "source": [
    "str1 = 'colouuur colouur colour colouuuuuuuuuuur colouuuur'\n",
    "\n",
    "pattern = r'colou{3}r'\n",
    "\n",
    "result = re.findall(pattern, str1)\n",
    "\n",
    "print(result)"
   ]
  },
  {
   "cell_type": "code",
   "execution_count": 30,
   "id": "60f08b37",
   "metadata": {},
   "outputs": [
    {
     "name": "stdout",
     "output_type": "stream",
     "text": [
      "['colouuur', 'colouur', 'colouuuur']\n"
     ]
    }
   ],
   "source": [
    "str1 = 'colouuur colouur colour colouuuuuuuuuuur colouuuur'\n",
    "\n",
    "pattern = r'colou{2,4}r'\n",
    "\n",
    "result = re.findall(pattern, str1)\n",
    "\n",
    "print(result)"
   ]
  },
  {
   "cell_type": "code",
   "execution_count": 37,
   "id": "6ec205a6",
   "metadata": {},
   "outputs": [
    {
     "name": "stdout",
     "output_type": "stream",
     "text": [
      "['I love basketball ', ' You love football ', ' She loves volleyball ', ' They love throwball ', ' We love baseball']\n"
     ]
    }
   ],
   "source": [
    "# groups\n",
    "\n",
    "str1 = 'I love basketball * You love football * She loves volleyball * They love throwball * We love baseball'\n",
    "\n",
    "strlst = str1.split('*')\n",
    "\n",
    "print(strlst)"
   ]
  },
  {
   "cell_type": "code",
   "execution_count": 41,
   "id": "0f35987f",
   "metadata": {},
   "outputs": [
    {
     "name": "stdout",
     "output_type": "stream",
     "text": [
      "<re.Match object; span=(0, 17), match='I love basketball'>\n",
      "I love basketball\n",
      "<re.Match object; span=(1, 17), match='We love baseball'>\n",
      "We love baseball\n"
     ]
    }
   ],
   "source": [
    "for item in strlst:\n",
    "    match = re.search(r'\\w+ love (basket|base)ball', item)\n",
    "    if match:\n",
    "        print(match)\n",
    "        print(match.group())"
   ]
  },
  {
   "cell_type": "code",
   "execution_count": 54,
   "id": "95e6f4c1",
   "metadata": {},
   "outputs": [
    {
     "name": "stdout",
     "output_type": "stream",
     "text": [
      "<callable_iterator object at 0x0000020BF3EE7130>\n"
     ]
    }
   ],
   "source": [
    "emails = 'Michael Jordan email mj@gmail.com   Kobe Bryant email kb24@hotmail.com LeBron James email lbj@outlook.com'\n",
    "\n",
    "pattern = r'(\\w+) (\\w+) email (\\w+@\\w+[.]com)'\n",
    "\n",
    "result = re.finditer(pattern, emails)\n",
    "\n",
    "print(result)"
   ]
  },
  {
   "cell_type": "code",
   "execution_count": 55,
   "id": "9742283b",
   "metadata": {},
   "outputs": [
    {
     "name": "stdout",
     "output_type": "stream",
     "text": [
      "<re.Match object; span=(0, 33), match='Michael Jordan email mj@gmail.com'>\n",
      "('Michael', 'Jordan', 'mj@gmail.com')\n",
      "Name : Michael\n",
      "Last Name : Jordan\n",
      "Email : mj@gmail.com\n",
      "<re.Match object; span=(36, 70), match='Kobe Bryant email kb24@hotmail.com'>\n",
      "('Kobe', 'Bryant', 'kb24@hotmail.com')\n",
      "Name : Kobe\n",
      "Last Name : Bryant\n",
      "Email : kb24@hotmail.com\n",
      "<re.Match object; span=(71, 105), match='LeBron James email lbj@outlook.com'>\n",
      "('LeBron', 'James', 'lbj@outlook.com')\n",
      "Name : LeBron\n",
      "Last Name : James\n",
      "Email : lbj@outlook.com\n"
     ]
    }
   ],
   "source": [
    "for item in result:\n",
    "    print(item)\n",
    "    print(item.groups())\n",
    "    print(f'Name : {item.group(1)}')\n",
    "    print(f'Last Name : {item.group(2)}')\n",
    "    print(f'Email : {item.group(3)}')"
   ]
  },
  {
   "cell_type": "code",
   "execution_count": 56,
   "id": "6af4a53e",
   "metadata": {},
   "outputs": [],
   "source": [
    "#split method in re takes 4 parameters\n",
    "\n",
    "#re.split(pattern, string, maxsplit=0, flags=0)\n",
    "\n",
    "#1. The regex pattern - mandatory\n",
    "#2. The string to be checked - mandatory\n",
    "#3. Maxsplit - count of how many maximum splits we want\n",
    "#4. flags - as discussed above. \n"
   ]
  },
  {
   "cell_type": "code",
   "execution_count": 57,
   "id": "16f929f5",
   "metadata": {},
   "outputs": [
    {
     "name": "stdout",
     "output_type": "stream",
     "text": [
      "['Michael Jordan', '   Kobe Bryant', ' LeBron James', '']\n"
     ]
    }
   ],
   "source": [
    "emails = 'Michael Jordan email mj@gmail.com   Kobe Bryant email kb24@hotmail.com LeBron James email lbj@outlook.com'\n",
    "\n",
    "pattern = r' email \\w+@\\w+[.]com'\n",
    "\n",
    "result = re.split(pattern,emails)\n",
    "\n",
    "print(result)"
   ]
  },
  {
   "cell_type": "code",
   "execution_count": 58,
   "id": "cda19e8c",
   "metadata": {},
   "outputs": [
    {
     "name": "stdout",
     "output_type": "stream",
     "text": [
      "['Michael Jordan', '   Kobe Bryant', ' LeBron James email lbj@outlook.com']\n"
     ]
    }
   ],
   "source": [
    "emails = 'Michael Jordan email mj@gmail.com   Kobe Bryant email kb24@hotmail.com LeBron James email lbj@outlook.com'\n",
    "\n",
    "pattern = r' email \\w+@\\w+[.]com'\n",
    "\n",
    "result = re.split(pattern,emails, maxsplit = 2)\n",
    "\n",
    "print(result)"
   ]
  },
  {
   "cell_type": "code",
   "execution_count": 59,
   "id": "b5238fcf",
   "metadata": {},
   "outputs": [
    {
     "name": "stdout",
     "output_type": "stream",
     "text": [
      "PQR PQR xyz Abc xyz PQR\n"
     ]
    }
   ],
   "source": [
    "#sub method takes in 5 parameters\n",
    "\n",
    "#1. The regex expression to be matched - mandatory\n",
    "#2. The replacement string - mandatory\n",
    "#3. The string to be checked - mandatory\n",
    "#4. Count - the max number of times the replacement is to be performed - optional\n",
    "#5. Flag - optional\n",
    "\n",
    "input_str = 'ayz abc xyz Abc xyz aBc'\n",
    "\n",
    "sub_str = r'a\\w+'\n",
    "repl_str = r'PQR'\n",
    "\n",
    "result = re.sub(sub_str, repl_str, input_str)\n",
    "print(result)"
   ]
  },
  {
   "cell_type": "code",
   "execution_count": 60,
   "id": "e195d350",
   "metadata": {},
   "outputs": [
    {
     "name": "stdout",
     "output_type": "stream",
     "text": [
      "PQR PQR xyz Abc xyz aBc\n"
     ]
    }
   ],
   "source": [
    "input_str = 'ayz abc xyz Abc xyz aBc'\n",
    "\n",
    "sub_str = r'a\\w+'\n",
    "repl_str = r'PQR'\n",
    "\n",
    "result = re.sub(sub_str, repl_str, input_str, count = 2)\n",
    "print(result)"
   ]
  },
  {
   "cell_type": "code",
   "execution_count": 61,
   "id": "323ba021",
   "metadata": {},
   "outputs": [
    {
     "name": "stdout",
     "output_type": "stream",
     "text": [
      "('PQR PQR xyz Abc xyz PQR', 3)\n"
     ]
    }
   ],
   "source": [
    "#Subn method is the same as the sub method except it provides the replacement count along with the replaced string as a \n",
    "# tuple\n",
    "\n",
    "result = re.subn(sub_str, repl_str, input_str)\n",
    "\n",
    "print(result)"
   ]
  },
  {
   "cell_type": "code",
   "execution_count": 63,
   "id": "50eb1f94",
   "metadata": {},
   "outputs": [
    {
     "name": "stdout",
     "output_type": "stream",
     "text": [
      "('PQR PQR xyz Abc xyz PQR', 3)\n"
     ]
    }
   ],
   "source": [
    "result = re.subn(sub_str, repl_str, input_str, count = 10)\n",
    "\n",
    "print(result)"
   ]
  },
  {
   "cell_type": "code",
   "execution_count": 65,
   "id": "bae35de4",
   "metadata": {},
   "outputs": [],
   "source": [
    "# Short Name          Long Name         Effect\n",
    "# re.I                re.IGNORECASE     Makes matching of alphabetic characters case-insensitive\n",
    "# re.M                re.MULTILINE      Causes start-of-string and end-of-string anchors to match embedded newlines\n",
    "# re.S                re.DOTALL         Causes the dot metacharacter to match a newline"
   ]
  },
  {
   "cell_type": "code",
   "execution_count": 66,
   "id": "39469b58",
   "metadata": {},
   "outputs": [
    {
     "name": "stdout",
     "output_type": "stream",
     "text": [
      "['bought', 'butter', 'but', 'butter', 'bitter', 'bought', 'better', 'butter', 'bitter', 'butter', 'better']\n"
     ]
    }
   ],
   "source": [
    "# re.IGNORECASE - makes the pattern matching case insensitive. Short code re.I\n",
    "\n",
    "str1 = 'Betty bought some butter but the butter was bitter so Betty bought some better butter to make the bitter butter better'\n",
    "\n",
    "pattern = r'\\bb\\w+'\n",
    "\n",
    "result = re.findall(pattern, str1)\n",
    "\n",
    "print(result)"
   ]
  },
  {
   "cell_type": "code",
   "execution_count": 67,
   "id": "fdb252bc",
   "metadata": {},
   "outputs": [
    {
     "name": "stdout",
     "output_type": "stream",
     "text": [
      "['Betty', 'bought', 'butter', 'but', 'butter', 'bitter', 'Betty', 'bought', 'better', 'butter', 'bitter', 'butter', 'better']\n"
     ]
    }
   ],
   "source": [
    "result = re.findall(pattern, str1, flags = re.I)\n",
    "\n",
    "print(result)\n"
   ]
  },
  {
   "cell_type": "code",
   "execution_count": 87,
   "id": "a35ad7bc",
   "metadata": {},
   "outputs": [
    {
     "name": "stdout",
     "output_type": "stream",
     "text": [
      "Monkey sees banana\n",
      "Monkey dances the salsa\n",
      "Monkey runs to banana\n",
      "Monkey picks up banana\n",
      "Monkey sees hungry baby Monkey cry\n",
      "Monkey gives baby Monkey banana\n"
     ]
    }
   ],
   "source": [
    "# re.MULTILINE treats every new line as a new string. Short code re.M\n",
    "\n",
    "str1 = \"\"\"Monkey sees banana\\nMonkey dances the salsa\\nMonkey runs to banana\\nMonkey picks up banana\\nMonkey sees hungry baby Monkey cry\n",
    "Monkey gives baby Monkey banana\"\"\"\n",
    "\n",
    "print(str1)"
   ]
  },
  {
   "cell_type": "code",
   "execution_count": 88,
   "id": "20b80198",
   "metadata": {},
   "outputs": [
    {
     "name": "stdout",
     "output_type": "stream",
     "text": [
      "['Monkey sees', 'Monkey dances', 'Monkey runs', 'Monkey picks', 'Monkey sees', 'Monkey gives']\n"
     ]
    }
   ],
   "source": [
    "pattern = r'^Monkey \\w+'\n",
    "\n",
    "result = re.findall(pattern,str1, flags = re.M)\n",
    "\n",
    "print(result)"
   ]
  },
  {
   "cell_type": "code",
   "execution_count": 90,
   "id": "e2335787",
   "metadata": {},
   "outputs": [
    {
     "name": "stdout",
     "output_type": "stream",
     "text": [
      "Monkey sees banana\n",
      "Monkey dances the salsa\n",
      "Monkey runs to banana\n",
      "Monkey picks up banana\n",
      "Monkey sees hungry baby Monkey cry\n",
      "Monkey gives baby Monkey banana\n",
      "['Monkey sees']\n"
     ]
    }
   ],
   "source": [
    "str1 = \"\"\"Monkey sees banana\\nMonkey dances the salsa\\nMonkey runs to banana\\nMonkey picks up banana\\nMonkey sees hungry baby Monkey cry\n",
    "Monkey gives baby Monkey banana\"\"\"\n",
    "\n",
    "print(str1)\n",
    "\n",
    "pattern = r'\\AMonkey \\w+'\n",
    "\n",
    "result = re.findall(pattern,str1, flags = re.M)\n",
    "\n",
    "print(result)"
   ]
  },
  {
   "cell_type": "code",
   "execution_count": 95,
   "id": "f92a9b0b",
   "metadata": {},
   "outputs": [
    {
     "name": "stdout",
     "output_type": "stream",
     "text": [
      "['Monkey sees', 'banana\\nMonkey', 'dances the', 'salsa\\nMonkey', 'runs to', 'banana\\nMonkey', 'picks up', 'banana\\nMonkey', 'sees hungry', 'baby Monkey', 'cry\\nMonkey', 'gives baby', 'Monkey banana']\n"
     ]
    }
   ],
   "source": [
    "# re.DOTALL includes newline character when . quantifier is used. Short code re.S\n",
    "\n",
    "pattern = r'\\b\\w+\\b.\\b\\w+\\b'\n",
    "\n",
    "result = re.findall(pattern, str1, flags = re.S)\n",
    "\n",
    "print(result)"
   ]
  },
  {
   "cell_type": "code",
   "execution_count": null,
   "id": "213c6b10",
   "metadata": {},
   "outputs": [],
   "source": [
    "# Find all the email addresses in the following text (no extra spaces or characters allowed. Include all the different domain\n",
    "# names such as gmail.co, yahoo.co.id etc..)\n",
    "\n",
    "str_email = '''boleh di kirim ke email saya ekoprasetyo.crb@outlook.com tks...\n",
    "boleh minta kirim ke db.maulana@gmail.com. \n",
    "dee.wien@yahoo.com. .\n",
    "deninainggolan@yahoo.co.id Senior Quantity Surveyor\n",
    "Fajar.rohita@hotmail.com, terimakasih bu Cindy Hartanto\n",
    "firmansyah1404@gmail.com saya mau dong bu cindy\n",
    "fransiscajw@gmail.com\n",
    "Hi Cindy ...pls share the Salary guide to donny_tri_wardono@yahoo.co.id thank a'''"
   ]
  },
  {
   "cell_type": "code",
   "execution_count": null,
   "id": "1f5e954b",
   "metadata": {},
   "outputs": [],
   "source": [
    "# Find all the phone numbers. No extra spaces or characters allowed. \n",
    "\n",
    "str_phone = '''<p><strong>Kuala Lumpur</strong><strong>:</strong> +60 (0)3 2723 7900</p>\n",
    "        <p><strong>Mutiara Damansara:</strong> +60 (0)3 2723 7900</p>\n",
    "        <p><strong>Penang:</strong> + 60 (0)4 255 9000</p>\n",
    "        <h2>Where we are </h2>\n",
    "        <strong>&nbsp;Call us on:</strong>&nbsp;+6 (03) 8924 8686\n",
    "        </p></div><div class=\"sys_two\">\n",
    "    <h3 class=\"parentSchool\">General enquiries</h3><p style=\"FONT-SIZE: 11px\">\n",
    "     <strong>&nbsp;Call us on:</strong>&nbsp;+6 (03) 8924 8000\n",
    "+ 60 (7) 268-6200 <br />\n",
    " Fax:<br /> \n",
    " +60 (7) 228-6202<br /> \n",
    "Phone:</strong><strong style=\"color: #f00\"> +601-4228-8055</strong>'''"
   ]
  }
 ],
 "metadata": {
  "kernelspec": {
   "display_name": "Python 3 (ipykernel)",
   "language": "python",
   "name": "python3"
  },
  "language_info": {
   "codemirror_mode": {
    "name": "ipython",
    "version": 3
   },
   "file_extension": ".py",
   "mimetype": "text/x-python",
   "name": "python",
   "nbconvert_exporter": "python",
   "pygments_lexer": "ipython3",
   "version": "3.9.13"
  }
 },
 "nbformat": 4,
 "nbformat_minor": 5
}
