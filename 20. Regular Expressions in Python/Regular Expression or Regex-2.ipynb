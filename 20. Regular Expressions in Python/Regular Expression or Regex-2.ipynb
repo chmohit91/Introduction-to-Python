{
 "cells": [
  {
   "cell_type": "markdown",
   "id": "6a685a70",
   "metadata": {},
   "source": [
    "### Special Sequence \n",
    "\n",
    "- \\w - It matches all the alphanumeric characters (A-Z, a-z, 0-9, _)\n",
    "- \\W = It matches everything except the alphanumeric characters\n",
    "- \\d - It matches all the digits (0-9)\n",
    "- \\D - It matches everything except the digits \n",
    "- \\s - It matches all the space characters (\\n, \\t, \\v, \\r, space)\n",
    "- \\S - It matches everything except the space characters \n",
    "- \\b - It matches a boundary character or a word\n",
    "- \\B - It matches everything except the boundary character or a word "
   ]
  },
  {
   "cell_type": "code",
   "execution_count": 2,
   "id": "236e715f",
   "metadata": {},
   "outputs": [],
   "source": [
    "import re"
   ]
  },
  {
   "cell_type": "code",
   "execution_count": 3,
   "id": "cda25369",
   "metadata": {},
   "outputs": [
    {
     "name": "stdout",
     "output_type": "stream",
     "text": [
      "<callable_iterator object at 0x000002068E3602B0>\n",
      "<re.Match object; span=(0, 1), match='1'>\n",
      "<re.Match object; span=(1, 2), match='3'>\n",
      "<re.Match object; span=(2, 3), match='2'>\n",
      "<re.Match object; span=(3, 4), match='4'>\n",
      "<re.Match object; span=(12, 13), match='b'>\n",
      "<re.Match object; span=(13, 14), match='f'>\n",
      "<re.Match object; span=(14, 15), match='h'>\n",
      "<re.Match object; span=(16, 17), match='A'>\n",
      "<re.Match object; span=(17, 18), match='W'>\n",
      "<re.Match object; span=(18, 19), match='R'>\n",
      "<re.Match object; span=(19, 20), match='E'>\n",
      "<re.Match object; span=(21, 22), match='_'>\n",
      "<re.Match object; span=(24, 25), match='G'>\n",
      "<re.Match object; span=(25, 26), match='T'>\n"
     ]
    }
   ],
   "source": [
    "text = '1324 !@@$$#%bfh AWRE@_@$GT'\n",
    "\n",
    "pat = r'\\w'\n",
    "\n",
    "x = re.finditer(pat, text)\n",
    "print(x)\n",
    "\n",
    "for i in x:\n",
    "    print(i)"
   ]
  },
  {
   "cell_type": "code",
   "execution_count": 4,
   "id": "1ab4d201",
   "metadata": {},
   "outputs": [
    {
     "name": "stdout",
     "output_type": "stream",
     "text": [
      "<callable_iterator object at 0x000002068E3601C0>\n",
      "<re.Match object; span=(4, 5), match=' '>\n",
      "<re.Match object; span=(5, 6), match='!'>\n",
      "<re.Match object; span=(6, 7), match='@'>\n",
      "<re.Match object; span=(7, 8), match='@'>\n",
      "<re.Match object; span=(8, 9), match='$'>\n",
      "<re.Match object; span=(9, 10), match='$'>\n",
      "<re.Match object; span=(10, 11), match='#'>\n",
      "<re.Match object; span=(11, 12), match='%'>\n",
      "<re.Match object; span=(15, 16), match=' '>\n",
      "<re.Match object; span=(20, 21), match='@'>\n",
      "<re.Match object; span=(22, 23), match='@'>\n",
      "<re.Match object; span=(23, 24), match='$'>\n"
     ]
    }
   ],
   "source": [
    "text = '1324 !@@$$#%bfh AWRE@_@$GT'\n",
    "\n",
    "pat = r'\\W'\n",
    "\n",
    "x = re.finditer(pat, text)\n",
    "print(x)\n",
    "\n",
    "for i in x:\n",
    "    print(i)"
   ]
  },
  {
   "cell_type": "code",
   "execution_count": 5,
   "id": "350969b1",
   "metadata": {},
   "outputs": [
    {
     "name": "stdout",
     "output_type": "stream",
     "text": [
      "<callable_iterator object at 0x000002068E3625C0>\n",
      "<re.Match object; span=(0, 1), match='1'>\n",
      "<re.Match object; span=(1, 2), match='3'>\n",
      "<re.Match object; span=(2, 3), match='2'>\n",
      "<re.Match object; span=(3, 4), match='4'>\n"
     ]
    }
   ],
   "source": [
    "text = '1324 !@@$$#%bfh AWRE@_@$GT'\n",
    "\n",
    "pat = r'\\d'\n",
    "\n",
    "x = re.finditer(pat, text)\n",
    "print(x)\n",
    "\n",
    "for i in x:\n",
    "    print(i)"
   ]
  },
  {
   "cell_type": "code",
   "execution_count": 6,
   "id": "67af82e1",
   "metadata": {},
   "outputs": [
    {
     "name": "stdout",
     "output_type": "stream",
     "text": [
      "<callable_iterator object at 0x000002068E360490>\n",
      "<re.Match object; span=(4, 5), match=' '>\n",
      "<re.Match object; span=(5, 6), match='!'>\n",
      "<re.Match object; span=(6, 7), match='@'>\n",
      "<re.Match object; span=(7, 8), match='@'>\n",
      "<re.Match object; span=(8, 9), match='$'>\n",
      "<re.Match object; span=(9, 10), match='$'>\n",
      "<re.Match object; span=(10, 11), match='#'>\n",
      "<re.Match object; span=(11, 12), match='%'>\n",
      "<re.Match object; span=(12, 13), match='b'>\n",
      "<re.Match object; span=(13, 14), match='f'>\n",
      "<re.Match object; span=(14, 15), match='h'>\n",
      "<re.Match object; span=(15, 16), match=' '>\n",
      "<re.Match object; span=(16, 17), match='A'>\n",
      "<re.Match object; span=(17, 18), match='W'>\n",
      "<re.Match object; span=(18, 19), match='R'>\n",
      "<re.Match object; span=(19, 20), match='E'>\n",
      "<re.Match object; span=(20, 21), match='@'>\n",
      "<re.Match object; span=(21, 22), match='_'>\n",
      "<re.Match object; span=(22, 23), match='@'>\n",
      "<re.Match object; span=(23, 24), match='$'>\n",
      "<re.Match object; span=(24, 25), match='G'>\n",
      "<re.Match object; span=(25, 26), match='T'>\n"
     ]
    }
   ],
   "source": [
    "text = '1324 !@@$$#%bfh AWRE@_@$GT'\n",
    "\n",
    "pat = r'\\D'\n",
    "\n",
    "x = re.finditer(pat, text)\n",
    "print(x)\n",
    "\n",
    "for i in x:\n",
    "    print(i)"
   ]
  },
  {
   "cell_type": "code",
   "execution_count": 7,
   "id": "da12dfcb",
   "metadata": {},
   "outputs": [
    {
     "name": "stdout",
     "output_type": "stream",
     "text": [
      "<callable_iterator object at 0x000002068E3624D0>\n",
      "<re.Match object; span=(4, 5), match=' '>\n",
      "<re.Match object; span=(8, 9), match='\\n'>\n",
      "<re.Match object; span=(11, 12), match='\\t'>\n",
      "<re.Match object; span=(15, 16), match='\\x0b'>\n",
      "<re.Match object; span=(18, 19), match=' '>\n",
      "<re.Match object; span=(20, 21), match='\\r'>\n"
     ]
    }
   ],
   "source": [
    "text = '1324 !@@\\n$$\\t#%b\\vfh A\\rWRE@_@$GT'\n",
    "\n",
    "pat = r'\\s'\n",
    "\n",
    "x = re.finditer(pat, text)\n",
    "print(x)\n",
    "\n",
    "for i in x:\n",
    "    print(i)"
   ]
  },
  {
   "cell_type": "code",
   "execution_count": 8,
   "id": "bff2adfc",
   "metadata": {},
   "outputs": [
    {
     "name": "stdout",
     "output_type": "stream",
     "text": [
      "<callable_iterator object at 0x000002068E3624A0>\n",
      "<re.Match object; span=(0, 1), match='1'>\n",
      "<re.Match object; span=(1, 2), match='3'>\n",
      "<re.Match object; span=(2, 3), match='2'>\n",
      "<re.Match object; span=(3, 4), match='4'>\n",
      "<re.Match object; span=(5, 6), match='!'>\n",
      "<re.Match object; span=(6, 7), match='@'>\n",
      "<re.Match object; span=(7, 8), match='@'>\n",
      "<re.Match object; span=(9, 10), match='$'>\n",
      "<re.Match object; span=(10, 11), match='$'>\n",
      "<re.Match object; span=(12, 13), match='#'>\n",
      "<re.Match object; span=(13, 14), match='%'>\n",
      "<re.Match object; span=(14, 15), match='b'>\n",
      "<re.Match object; span=(16, 17), match='f'>\n",
      "<re.Match object; span=(17, 18), match='h'>\n",
      "<re.Match object; span=(19, 20), match='A'>\n",
      "<re.Match object; span=(21, 22), match='W'>\n",
      "<re.Match object; span=(22, 23), match='R'>\n",
      "<re.Match object; span=(23, 24), match='E'>\n",
      "<re.Match object; span=(24, 25), match='@'>\n",
      "<re.Match object; span=(25, 26), match='_'>\n",
      "<re.Match object; span=(26, 27), match='@'>\n",
      "<re.Match object; span=(27, 28), match='$'>\n",
      "<re.Match object; span=(28, 29), match='G'>\n",
      "<re.Match object; span=(29, 30), match='T'>\n"
     ]
    }
   ],
   "source": [
    "text = '1324 !@@\\n$$\\t#%b\\vfh A\\rWRE@_@$GT'\n",
    "\n",
    "pat = r'\\S'\n",
    "\n",
    "x = re.finditer(pat, text)\n",
    "print(x)\n",
    "\n",
    "for i in x:\n",
    "    print(i)"
   ]
  },
  {
   "cell_type": "code",
   "execution_count": 9,
   "id": "528eda40",
   "metadata": {},
   "outputs": [
    {
     "name": "stdout",
     "output_type": "stream",
     "text": [
      "<callable_iterator object at 0x000002068E3602E0>\n",
      "<re.Match object; span=(0, 3), match='cat'>\n",
      "<re.Match object; span=(20, 23), match='cat'>\n",
      "<re.Match object; span=(28, 31), match='cat'>\n",
      "<re.Match object; span=(56, 59), match='cat'>\n"
     ]
    }
   ],
   "source": [
    "text = 'catherine brought a cat and catherine takes care of the cat and she names it tom'\n",
    "\n",
    "pat = r'cat'\n",
    "\n",
    "x = re.finditer(pat, text)\n",
    "print(x)\n",
    "\n",
    "for i in x:\n",
    "    print(i)"
   ]
  },
  {
   "cell_type": "code",
   "execution_count": 10,
   "id": "18d268e0",
   "metadata": {},
   "outputs": [
    {
     "name": "stdout",
     "output_type": "stream",
     "text": [
      "<callable_iterator object at 0x000002068E361F30>\n",
      "<re.Match object; span=(0, 3), match='cat'>\n",
      "<re.Match object; span=(20, 23), match='cat'>\n",
      "<re.Match object; span=(28, 31), match='cat'>\n",
      "<re.Match object; span=(56, 59), match='cat'>\n"
     ]
    }
   ],
   "source": [
    "text = 'catherine brought a cat and catherine takes care of the cat and she names it tom'\n",
    "\n",
    "pat = r'\\bcat'\n",
    "\n",
    "x = re.finditer(pat, text)\n",
    "print(x)\n",
    "\n",
    "for i in x:\n",
    "    print(i)"
   ]
  },
  {
   "cell_type": "code",
   "execution_count": 11,
   "id": "36c99014",
   "metadata": {},
   "outputs": [
    {
     "name": "stdout",
     "output_type": "stream",
     "text": [
      "<callable_iterator object at 0x000002068E3601C0>\n",
      "<re.Match object; span=(20, 23), match='cat'>\n",
      "<re.Match object; span=(56, 59), match='cat'>\n"
     ]
    }
   ],
   "source": [
    "text = 'catherine brought a cat and catherine takes care of the cat and she names it tom'\n",
    "\n",
    "pat = r'\\bcat\\b'\n",
    "\n",
    "x = re.finditer(pat, text)\n",
    "print(x)\n",
    "\n",
    "for i in x:\n",
    "    print(i)"
   ]
  },
  {
   "cell_type": "code",
   "execution_count": 12,
   "id": "4e7324fa",
   "metadata": {},
   "outputs": [
    {
     "name": "stdout",
     "output_type": "stream",
     "text": [
      "<callable_iterator object at 0x000002068E3604C0>\n",
      "<re.Match object; span=(20, 23), match='cat'>\n",
      "<re.Match object; span=(56, 59), match='cat'>\n",
      "<re.Match object; span=(80, 83), match='cat'>\n"
     ]
    }
   ],
   "source": [
    "text = 'catherine brought a cat and catherine takes care of the cat and she names it muscat'\n",
    "\n",
    "pat = r'cat\\b'\n",
    "\n",
    "x = re.finditer(pat, text)\n",
    "print(x)\n",
    "\n",
    "for i in x:\n",
    "    print(i)"
   ]
  },
  {
   "cell_type": "code",
   "execution_count": 13,
   "id": "3802ff77",
   "metadata": {},
   "outputs": [
    {
     "name": "stdout",
     "output_type": "stream",
     "text": [
      "<callable_iterator object at 0x000002068E3624A0>\n",
      "<re.Match object; span=(80, 83), match='cat'>\n"
     ]
    }
   ],
   "source": [
    "text = 'catherine brought a cat and catherine takes care of the cat and she names it muscat'\n",
    "\n",
    "pat = r'\\Bcat'\n",
    "\n",
    "x = re.finditer(pat, text)\n",
    "print(x)\n",
    "\n",
    "for i in x:\n",
    "    print(i)"
   ]
  },
  {
   "cell_type": "code",
   "execution_count": 16,
   "id": "a89cf84d",
   "metadata": {},
   "outputs": [
    {
     "name": "stdout",
     "output_type": "stream",
     "text": [
      "<callable_iterator object at 0x000002068E360190>\n",
      "<re.Match object; span=(0, 3), match='cat'>\n",
      "<re.Match object; span=(28, 31), match='cat'>\n"
     ]
    }
   ],
   "source": [
    "text = 'catherine brought a cat and catherine takes care of the cat and she names it muscat'\n",
    "\n",
    "pat = r'cat\\B'\n",
    "\n",
    "x = re.finditer(pat, text)\n",
    "print(x)\n",
    "\n",
    "for i in x:\n",
    "    print(i)"
   ]
  },
  {
   "cell_type": "code",
   "execution_count": 14,
   "id": "d0f93f7f",
   "metadata": {},
   "outputs": [
    {
     "name": "stdout",
     "output_type": "stream",
     "text": [
      "<callable_iterator object at 0x000002068E362380>\n"
     ]
    }
   ],
   "source": [
    "text = 'catherine brought a cat and catherine takes care of the cat and she names it muscat'\n",
    "\n",
    "pat = r'\\Bcat\\B'\n",
    "\n",
    "x = re.finditer(pat, text)\n",
    "print(x)\n",
    "\n",
    "for i in x:\n",
    "    print(i)"
   ]
  },
  {
   "cell_type": "code",
   "execution_count": 15,
   "id": "0004e443",
   "metadata": {},
   "outputs": [
    {
     "name": "stdout",
     "output_type": "stream",
     "text": [
      "<callable_iterator object at 0x000002068E360340>\n",
      "<re.Match object; span=(6, 9), match='cat'>\n"
     ]
    }
   ],
   "source": [
    "text = 'purification'\n",
    "pat = r'\\Bcat\\B'\n",
    "\n",
    "x = re.finditer(pat, text)\n",
    "print(x)\n",
    "\n",
    "for i in x:\n",
    "    print(i)"
   ]
  },
  {
   "cell_type": "markdown",
   "id": "7aed9892",
   "metadata": {},
   "source": [
    "### Quantifier\n",
    "\n",
    "- {2} - It matches two repetitions of the pattern\n",
    "- {2,3} - It will match the repetition in the range of 2 and 3\n",
    "- ? - It matches 1 or 0 repetition \n",
    "- (*) - It matches no repetition or n repetition\n",
    "- (+) - It matches 1 or more than 1 repetition"
   ]
  },
  {
   "cell_type": "code",
   "execution_count": 22,
   "id": "4157bd37",
   "metadata": {},
   "outputs": [
    {
     "name": "stdout",
     "output_type": "stream",
     "text": [
      "<callable_iterator object at 0x000002068E360190>\n",
      "<re.Match object; span=(0, 2), match='Jo'>\n",
      "<re.Match object; span=(4, 6), match='Am'>\n",
      "<re.Match object; span=(6, 8), match='it'>\n",
      "<re.Match object; span=(9, 11), match='go'>\n",
      "<re.Match object; span=(12, 14), match='ha'>\n",
      "<re.Match object; span=(14, 16), match='pp'>\n",
      "<re.Match object; span=(18, 20), match='to'>\n",
      "<re.Match object; span=(21, 23), match='sl'>\n",
      "<re.Match object; span=(23, 25), match='ee'>\n"
     ]
    }
   ],
   "source": [
    "# Match all the words having length of 2 \n",
    "\n",
    "text = 'Joy Amit go happy to sleep'\n",
    "\n",
    "pat = r'\\w{2}'\n",
    "\n",
    "x = re.finditer(pat,text)\n",
    "print(x)\n",
    "\n",
    "for i in x:\n",
    "    print(i)"
   ]
  },
  {
   "cell_type": "code",
   "execution_count": 23,
   "id": "786dcc61",
   "metadata": {},
   "outputs": [
    {
     "name": "stdout",
     "output_type": "stream",
     "text": [
      "<callable_iterator object at 0x000002068E360040>\n",
      "<re.Match object; span=(0, 2), match='Jo'>\n",
      "<re.Match object; span=(4, 6), match='Am'>\n",
      "<re.Match object; span=(6, 8), match='it'>\n",
      "<re.Match object; span=(9, 11), match='go'>\n",
      "<re.Match object; span=(12, 14), match='ha'>\n",
      "<re.Match object; span=(14, 16), match='pp'>\n",
      "<re.Match object; span=(18, 20), match='to'>\n",
      "<re.Match object; span=(21, 23), match='sl'>\n",
      "<re.Match object; span=(23, 25), match='ee'>\n"
     ]
    }
   ],
   "source": [
    "# Match all the words having length of 2 \n",
    "\n",
    "text = 'Joy Amit go happy to sleep'\n",
    "\n",
    "pat = r'[A-Za-z]{2}'\n",
    "\n",
    "x = re.finditer(pat,text)\n",
    "print(x)\n",
    "\n",
    "for i in x:\n",
    "    print(i)"
   ]
  },
  {
   "cell_type": "code",
   "execution_count": 24,
   "id": "a822e129",
   "metadata": {},
   "outputs": [
    {
     "name": "stdout",
     "output_type": "stream",
     "text": [
      "<callable_iterator object at 0x000002068E362290>\n",
      "<re.Match object; span=(1, 3), match='oy'>\n",
      "<re.Match object; span=(5, 7), match='mi'>\n",
      "<re.Match object; span=(9, 11), match='go'>\n",
      "<re.Match object; span=(12, 14), match='ha'>\n",
      "<re.Match object; span=(14, 16), match='pp'>\n",
      "<re.Match object; span=(18, 20), match='to'>\n",
      "<re.Match object; span=(21, 23), match='sl'>\n",
      "<re.Match object; span=(23, 25), match='ee'>\n"
     ]
    }
   ],
   "source": [
    "# Match all the words(lowerletter) having length of 2 \n",
    "\n",
    "text = 'Joy Amit go happy to sleep'\n",
    "\n",
    "pat = r'[a-z]{2}'\n",
    "\n",
    "x = re.finditer(pat,text)\n",
    "print(x)\n",
    "\n",
    "for i in x:\n",
    "    print(i)"
   ]
  },
  {
   "cell_type": "code",
   "execution_count": 25,
   "id": "1ee1d05e",
   "metadata": {},
   "outputs": [
    {
     "name": "stdout",
     "output_type": "stream",
     "text": [
      "<callable_iterator object at 0x000002068E360550>\n",
      "<re.Match object; span=(9, 11), match='go'>\n",
      "<re.Match object; span=(18, 20), match='to'>\n"
     ]
    }
   ],
   "source": [
    "# match all the words haviing length of 2 and are boundary characters\n",
    "\n",
    "text = 'Joy Amit go happy to sleep'\n",
    "\n",
    "pat = r'\\b[A-Za-z]{2}\\b'\n",
    "\n",
    "x = re.finditer(pat,text)\n",
    "print(x)\n",
    "\n",
    "for i in x:\n",
    "    print(i)"
   ]
  },
  {
   "cell_type": "code",
   "execution_count": 36,
   "id": "d7585b4e",
   "metadata": {},
   "outputs": [
    {
     "name": "stdout",
     "output_type": "stream",
     "text": [
      "<callable_iterator object at 0x000002068E3603D0>\n",
      "<re.Match object; span=(0, 2), match='12'>\n",
      "<re.Match object; span=(3, 7), match='5467'>\n",
      "<re.Match object; span=(8, 12), match='2287'>\n",
      "<re.Match object; span=(15, 18), match='456'>\n",
      "<re.Match object; span=(21, 23), match='32'>\n",
      "<re.Match object; span=(31, 36), match='88997'>\n",
      "<re.Match object; span=(36, 38), match='65'>\n"
     ]
    }
   ],
   "source": [
    "text = '12 5467 2287 DT456ab 32# a1 9$ 8899765'\n",
    "\n",
    "pat = r'\\d{2,5}' #{2,4} -  it will give you the repetition in a range from 2 to 5 means [2,3,4.5]\n",
    "\n",
    "x = re.finditer(pat,text)\n",
    "print(x)\n",
    "\n",
    "for i in x:\n",
    "    print(i)"
   ]
  },
  {
   "cell_type": "code",
   "execution_count": 28,
   "id": "0ae8231e",
   "metadata": {},
   "outputs": [
    {
     "name": "stdout",
     "output_type": "stream",
     "text": [
      "<callable_iterator object at 0x000002068E361FF0>\n",
      "<re.Match object; span=(0, 2), match='12'>\n",
      "<re.Match object; span=(3, 7), match='5467'>\n",
      "<re.Match object; span=(8, 12), match='2287'>\n",
      "<re.Match object; span=(15, 18), match='456'>\n",
      "<re.Match object; span=(21, 23), match='32'>\n",
      "<re.Match object; span=(31, 35), match='8899'>\n",
      "<re.Match object; span=(35, 38), match='765'>\n"
     ]
    }
   ],
   "source": [
    "text = '12 5467 2287 DT456ab 32# a1 9$ 8899765'\n",
    "\n",
    "pat = r'[0-9]{2,4}'\n",
    "\n",
    "x = re.finditer(pat,text)\n",
    "print(x)\n",
    "\n",
    "for i in x:\n",
    "    print(i)"
   ]
  },
  {
   "cell_type": "code",
   "execution_count": 29,
   "id": "47440501",
   "metadata": {},
   "outputs": [
    {
     "name": "stdout",
     "output_type": "stream",
     "text": [
      "<callable_iterator object at 0x000002068E362AD0>\n",
      "<re.Match object; span=(0, 1), match='1'>\n",
      "<re.Match object; span=(1, 2), match='2'>\n",
      "<re.Match object; span=(2, 2), match=''>\n",
      "<re.Match object; span=(3, 4), match='5'>\n",
      "<re.Match object; span=(4, 5), match='4'>\n",
      "<re.Match object; span=(5, 6), match='6'>\n",
      "<re.Match object; span=(6, 7), match='7'>\n",
      "<re.Match object; span=(7, 7), match=''>\n",
      "<re.Match object; span=(8, 9), match='2'>\n",
      "<re.Match object; span=(9, 10), match='2'>\n",
      "<re.Match object; span=(10, 11), match='8'>\n",
      "<re.Match object; span=(11, 12), match='7'>\n",
      "<re.Match object; span=(12, 12), match=''>\n",
      "<re.Match object; span=(13, 13), match=''>\n",
      "<re.Match object; span=(14, 14), match=''>\n",
      "<re.Match object; span=(15, 16), match='4'>\n",
      "<re.Match object; span=(16, 17), match='5'>\n",
      "<re.Match object; span=(17, 18), match='6'>\n",
      "<re.Match object; span=(18, 18), match=''>\n",
      "<re.Match object; span=(19, 19), match=''>\n",
      "<re.Match object; span=(20, 20), match=''>\n",
      "<re.Match object; span=(21, 22), match='3'>\n",
      "<re.Match object; span=(22, 23), match='2'>\n",
      "<re.Match object; span=(23, 23), match=''>\n",
      "<re.Match object; span=(24, 24), match=''>\n",
      "<re.Match object; span=(25, 25), match=''>\n",
      "<re.Match object; span=(26, 27), match='1'>\n",
      "<re.Match object; span=(27, 27), match=''>\n",
      "<re.Match object; span=(28, 29), match='9'>\n",
      "<re.Match object; span=(29, 29), match=''>\n",
      "<re.Match object; span=(30, 30), match=''>\n",
      "<re.Match object; span=(31, 32), match='8'>\n",
      "<re.Match object; span=(32, 33), match='8'>\n",
      "<re.Match object; span=(33, 34), match='9'>\n",
      "<re.Match object; span=(34, 35), match='9'>\n",
      "<re.Match object; span=(35, 36), match='7'>\n",
      "<re.Match object; span=(36, 37), match='6'>\n",
      "<re.Match object; span=(37, 38), match='5'>\n",
      "<re.Match object; span=(38, 38), match=''>\n"
     ]
    }
   ],
   "source": [
    "text = '12 5467 2287 DT456ab 32# a1 9$ 8899765'\n",
    "\n",
    "pat = r'\\d?' #? the repetiton should be either 1 or 0 \n",
    "\n",
    "x = re.finditer(pat,text)\n",
    "print(x)\n",
    "\n",
    "for i in x:\n",
    "    print(i)"
   ]
  },
  {
   "cell_type": "code",
   "execution_count": 30,
   "id": "3dd3ca4a",
   "metadata": {},
   "outputs": [
    {
     "name": "stdout",
     "output_type": "stream",
     "text": [
      "<callable_iterator object at 0x000002068E362410>\n",
      "<re.Match object; span=(0, 1), match='1'>\n",
      "<re.Match object; span=(1, 2), match='2'>\n",
      "<re.Match object; span=(2, 2), match=''>\n",
      "<re.Match object; span=(3, 4), match='5'>\n",
      "<re.Match object; span=(4, 5), match='4'>\n",
      "<re.Match object; span=(5, 6), match='6'>\n",
      "<re.Match object; span=(6, 7), match='7'>\n",
      "<re.Match object; span=(7, 7), match=''>\n",
      "<re.Match object; span=(8, 9), match='2'>\n",
      "<re.Match object; span=(9, 10), match='2'>\n",
      "<re.Match object; span=(10, 11), match='8'>\n",
      "<re.Match object; span=(11, 12), match='7'>\n",
      "<re.Match object; span=(12, 12), match=''>\n",
      "<re.Match object; span=(13, 13), match=''>\n",
      "<re.Match object; span=(14, 14), match=''>\n",
      "<re.Match object; span=(15, 16), match='4'>\n",
      "<re.Match object; span=(16, 17), match='5'>\n",
      "<re.Match object; span=(17, 18), match='6'>\n",
      "<re.Match object; span=(18, 18), match=''>\n",
      "<re.Match object; span=(19, 19), match=''>\n",
      "<re.Match object; span=(20, 20), match=''>\n",
      "<re.Match object; span=(21, 22), match='3'>\n",
      "<re.Match object; span=(22, 23), match='2'>\n",
      "<re.Match object; span=(23, 23), match=''>\n",
      "<re.Match object; span=(24, 24), match=''>\n",
      "<re.Match object; span=(25, 25), match=''>\n",
      "<re.Match object; span=(26, 27), match='1'>\n",
      "<re.Match object; span=(27, 27), match=''>\n",
      "<re.Match object; span=(28, 29), match='9'>\n",
      "<re.Match object; span=(29, 29), match=''>\n",
      "<re.Match object; span=(30, 30), match=''>\n",
      "<re.Match object; span=(31, 32), match='8'>\n",
      "<re.Match object; span=(32, 33), match='8'>\n",
      "<re.Match object; span=(33, 34), match='9'>\n",
      "<re.Match object; span=(34, 35), match='9'>\n",
      "<re.Match object; span=(35, 36), match='7'>\n",
      "<re.Match object; span=(36, 37), match='6'>\n",
      "<re.Match object; span=(37, 38), match='5'>\n",
      "<re.Match object; span=(38, 38), match=''>\n"
     ]
    }
   ],
   "source": [
    "text = '12 5467 2287 DT456ab 32# a1 9$ 8899765'\n",
    "\n",
    "pat = r'[0-9]?'\n",
    "\n",
    "x = re.finditer(pat,text)\n",
    "print(x)\n",
    "\n",
    "for i in x:\n",
    "    print(i)"
   ]
  },
  {
   "cell_type": "markdown",
   "id": "c011c5cb",
   "metadata": {},
   "source": [
    "- ? - It returns only one repetition if the pattern is found\n",
    "- ? - It returns empty string \"\" if the pattern is not found\n",
    "- (*) - It returns all the repetition if the pattern is found\n",
    "- (*) - It returns an empty string \"\" if the pattern is not found\n",
    "- (+) - It returns all the repetitions if the pattern is found\n",
    "- (+) - Itdoes not match anything if the pattern is not found"
   ]
  },
  {
   "cell_type": "code",
   "execution_count": 31,
   "id": "139b23de",
   "metadata": {},
   "outputs": [
    {
     "name": "stdout",
     "output_type": "stream",
     "text": [
      "<callable_iterator object at 0x000002068E362CB0>\n",
      "<re.Match object; span=(0, 2), match='12'>\n",
      "<re.Match object; span=(2, 2), match=''>\n",
      "<re.Match object; span=(3, 7), match='5467'>\n",
      "<re.Match object; span=(7, 7), match=''>\n",
      "<re.Match object; span=(8, 12), match='2287'>\n",
      "<re.Match object; span=(12, 12), match=''>\n",
      "<re.Match object; span=(13, 13), match=''>\n",
      "<re.Match object; span=(14, 14), match=''>\n",
      "<re.Match object; span=(15, 18), match='456'>\n",
      "<re.Match object; span=(18, 18), match=''>\n",
      "<re.Match object; span=(19, 19), match=''>\n",
      "<re.Match object; span=(20, 20), match=''>\n",
      "<re.Match object; span=(21, 23), match='32'>\n",
      "<re.Match object; span=(23, 23), match=''>\n",
      "<re.Match object; span=(24, 24), match=''>\n",
      "<re.Match object; span=(25, 25), match=''>\n",
      "<re.Match object; span=(26, 27), match='1'>\n",
      "<re.Match object; span=(27, 27), match=''>\n",
      "<re.Match object; span=(28, 29), match='9'>\n",
      "<re.Match object; span=(29, 29), match=''>\n",
      "<re.Match object; span=(30, 30), match=''>\n",
      "<re.Match object; span=(31, 38), match='8899765'>\n",
      "<re.Match object; span=(38, 38), match=''>\n"
     ]
    }
   ],
   "source": [
    "text = '12 5467 2287 DT456ab 32# a1 9$ 8899765'\n",
    "\n",
    "pat = r'[0-9]*'\n",
    "\n",
    "x = re.finditer(pat,text)\n",
    "print(x)\n",
    "\n",
    "for i in x:\n",
    "    print(i)"
   ]
  },
  {
   "cell_type": "code",
   "execution_count": 37,
   "id": "be7276d4",
   "metadata": {},
   "outputs": [
    {
     "name": "stdout",
     "output_type": "stream",
     "text": [
      "<callable_iterator object at 0x000002068E361F60>\n",
      "<re.Match object; span=(0, 4), match='Amit'>\n",
      "<re.Match object; span=(8, 9), match='A'>\n",
      "<re.Match object; span=(20, 22), match='He'>\n",
      "<re.Match object; span=(38, 44), match='Ramesh'>\n"
     ]
    }
   ],
   "source": [
    "text= 'Amit is A good boy, He is a friend of Ramesh'\n",
    "\n",
    "pat = r'[A-Z][a-z]*' # I want my first character should be Uppercase letter and the rest can be lowercase letter\n",
    "\n",
    "x = re.finditer(pat,text)\n",
    "print(x)\n",
    "\n",
    "for i in x:\n",
    "    print(i)"
   ]
  },
  {
   "cell_type": "code",
   "execution_count": 38,
   "id": "2ce7b70d",
   "metadata": {},
   "outputs": [
    {
     "name": "stdout",
     "output_type": "stream",
     "text": [
      "<callable_iterator object at 0x000002068E362680>\n",
      "<re.Match object; span=(0, 4), match='Amit'>\n",
      "<re.Match object; span=(8, 9), match='A'>\n"
     ]
    }
   ],
   "source": [
    "text= 'Amit is A good boy, He is a friend of Ramesh'\n",
    "\n",
    "pat = r'[A][a-z]*' # I want my first character should be Uppercase A and the rest can be any repetition of lowercase letter\n",
    "\n",
    "x = re.finditer(pat,text)\n",
    "print(x)\n",
    "\n",
    "for i in x:\n",
    "    print(i)"
   ]
  },
  {
   "cell_type": "code",
   "execution_count": 39,
   "id": "94ab83fb",
   "metadata": {},
   "outputs": [
    {
     "name": "stdout",
     "output_type": "stream",
     "text": [
      "<callable_iterator object at 0x000002068E360190>\n"
     ]
    }
   ],
   "source": [
    "text= 'Amit is A good boy, He is a friend of Ramesh'\n",
    "\n",
    "pat = r'[B][a-z]*' # I want my first character should be Uppercase B and the rest can be any repetition of lowercase letter\n",
    "\n",
    "x = re.finditer(pat,text)\n",
    "print(x)\n",
    "\n",
    "for i in x:\n",
    "    print(i)"
   ]
  },
  {
   "cell_type": "code",
   "execution_count": 34,
   "id": "cd7c8e93",
   "metadata": {},
   "outputs": [
    {
     "name": "stdout",
     "output_type": "stream",
     "text": [
      "<callable_iterator object at 0x000002068E360070>\n",
      "<re.Match object; span=(1, 2), match='m'>\n",
      "<re.Match object; span=(2, 3), match='i'>\n",
      "<re.Match object; span=(3, 4), match='t'>\n",
      "<re.Match object; span=(5, 6), match='i'>\n",
      "<re.Match object; span=(6, 7), match='s'>\n",
      "<re.Match object; span=(10, 11), match='g'>\n",
      "<re.Match object; span=(11, 12), match='o'>\n",
      "<re.Match object; span=(12, 13), match='o'>\n",
      "<re.Match object; span=(13, 14), match='d'>\n",
      "<re.Match object; span=(15, 16), match='b'>\n",
      "<re.Match object; span=(16, 17), match='o'>\n",
      "<re.Match object; span=(17, 18), match='y'>\n",
      "<re.Match object; span=(21, 22), match='e'>\n",
      "<re.Match object; span=(23, 24), match='i'>\n",
      "<re.Match object; span=(24, 25), match='s'>\n",
      "<re.Match object; span=(26, 27), match='a'>\n",
      "<re.Match object; span=(28, 29), match='f'>\n",
      "<re.Match object; span=(29, 30), match='r'>\n",
      "<re.Match object; span=(30, 31), match='i'>\n",
      "<re.Match object; span=(31, 32), match='e'>\n",
      "<re.Match object; span=(32, 33), match='n'>\n",
      "<re.Match object; span=(33, 34), match='d'>\n",
      "<re.Match object; span=(35, 36), match='o'>\n",
      "<re.Match object; span=(36, 37), match='f'>\n",
      "<re.Match object; span=(38, 39), match='r'>\n",
      "<re.Match object; span=(39, 40), match='a'>\n",
      "<re.Match object; span=(40, 41), match='m'>\n",
      "<re.Match object; span=(41, 42), match='e'>\n",
      "<re.Match object; span=(42, 43), match='s'>\n",
      "<re.Match object; span=(43, 44), match='h'>\n"
     ]
    }
   ],
   "source": [
    "text= 'Amit is A good boy, He is a friend of ramesh'\n",
    "\n",
    "pat = r'[a-z][A-Z]*'\n",
    "\n",
    "x = re.finditer(pat,text)\n",
    "print(x)\n",
    "\n",
    "for i in x:\n",
    "    print(i)"
   ]
  },
  {
   "cell_type": "code",
   "execution_count": 35,
   "id": "5a751e56",
   "metadata": {},
   "outputs": [
    {
     "name": "stdout",
     "output_type": "stream",
     "text": [
      "<callable_iterator object at 0x000002068E360370>\n",
      "<re.Match object; span=(0, 4), match='Amit'>\n",
      "<re.Match object; span=(20, 22), match='He'>\n"
     ]
    }
   ],
   "source": [
    "text= 'Amit is A good boy, He is a friend of ramesh'\n",
    "\n",
    "pat = r'[A-Z][a-z]+' # + - It matches 1 repetition or n repetiton\n",
    "\n",
    "x = re.finditer(pat,text)\n",
    "print(x)\n",
    "\n",
    "for i in x:\n",
    "    print(i)"
   ]
  },
  {
   "cell_type": "code",
   "execution_count": 40,
   "id": "2191c86c",
   "metadata": {},
   "outputs": [
    {
     "name": "stdout",
     "output_type": "stream",
     "text": [
      "<callable_iterator object at 0x000002068E362770>\n",
      "<re.Match object; span=(0, 4), match='Amit'>\n"
     ]
    }
   ],
   "source": [
    "text= 'Amit is A good boy, He is a friend of ramesh'\n",
    "\n",
    "pat = r'[A][a-z]+' # + - It matches 1 repetition or n repetiton\n",
    "\n",
    "x = re.finditer(pat,text)\n",
    "print(x)\n",
    "\n",
    "for i in x:\n",
    "    print(i)"
   ]
  },
  {
   "cell_type": "markdown",
   "id": "bded3e77",
   "metadata": {},
   "source": [
    "### Matching the meta-characters from the strings"
   ]
  },
  {
   "cell_type": "code",
   "execution_count": 43,
   "id": "9a67a852",
   "metadata": {},
   "outputs": [
    {
     "name": "stdout",
     "output_type": "stream",
     "text": [
      "<callable_iterator object at 0x000002068E362290>\n",
      "<re.Match object; span=(17, 17), match=''>\n"
     ]
    }
   ],
   "source": [
    "# Match $\n",
    "\n",
    "text = 'a$bc$d1422$!@#$@#'\n",
    "\n",
    "pat = '$'\n",
    "\n",
    "x = re.finditer(pat,text)\n",
    "print(x)\n",
    "\n",
    "for i in x:\n",
    "    print(i)"
   ]
  },
  {
   "cell_type": "code",
   "execution_count": 46,
   "id": "01cf4d01",
   "metadata": {},
   "outputs": [
    {
     "name": "stdout",
     "output_type": "stream",
     "text": [
      "<callable_iterator object at 0x000002068E3603D0>\n",
      "<re.Match object; span=(1, 2), match='$'>\n",
      "<re.Match object; span=(4, 5), match='$'>\n",
      "<re.Match object; span=(10, 11), match='$'>\n",
      "<re.Match object; span=(14, 15), match='$'>\n"
     ]
    }
   ],
   "source": [
    "#Match $\n",
    "\n",
    "text = 'a$bc$d1422$!@#$@#'\n",
    "\n",
    "pat = '\\$'\n",
    "\n",
    "x = re.finditer(pat,text)\n",
    "print(x)\n",
    "\n",
    "for i in x:\n",
    "    print(i)"
   ]
  },
  {
   "cell_type": "code",
   "execution_count": 49,
   "id": "a48b5289",
   "metadata": {},
   "outputs": [
    {
     "name": "stdout",
     "output_type": "stream",
     "text": [
      "<callable_iterator object at 0x000002068E3625F0>\n",
      "<re.Match object; span=(0, 0), match=''>\n"
     ]
    }
   ],
   "source": [
    "#Match ^\n",
    "\n",
    "text = 'a^bc^d1422^!@^#^$@^#'\n",
    "\n",
    "pat = '^'\n",
    "\n",
    "x = re.finditer(pat,text)\n",
    "print(x)\n",
    "\n",
    "for i in x:\n",
    "    print(i)"
   ]
  },
  {
   "cell_type": "code",
   "execution_count": 52,
   "id": "352e68d1",
   "metadata": {},
   "outputs": [
    {
     "name": "stdout",
     "output_type": "stream",
     "text": [
      "<callable_iterator object at 0x000002068E3602E0>\n",
      "<re.Match object; span=(1, 2), match='^'>\n",
      "<re.Match object; span=(4, 5), match='^'>\n",
      "<re.Match object; span=(10, 11), match='^'>\n",
      "<re.Match object; span=(13, 14), match='^'>\n",
      "<re.Match object; span=(15, 16), match='^'>\n",
      "<re.Match object; span=(18, 19), match='^'>\n"
     ]
    }
   ],
   "source": [
    "#Match ^\n",
    "\n",
    "text = 'a^bc^d1422^!@^#^$@^#'\n",
    "\n",
    "pat = '\\^'\n",
    "\n",
    "x = re.finditer(pat,text)\n",
    "print(x)\n",
    "\n",
    "for i in x:\n",
    "    print(i)"
   ]
  },
  {
   "cell_type": "code",
   "execution_count": 53,
   "id": "820f6528",
   "metadata": {},
   "outputs": [
    {
     "name": "stdout",
     "output_type": "stream",
     "text": [
      "<callable_iterator object at 0x000002068E362410>\n",
      "<re.Match object; span=(1, 2), match='.'>\n",
      "<re.Match object; span=(3, 4), match='.'>\n",
      "<re.Match object; span=(5, 6), match='.'>\n",
      "<re.Match object; span=(7, 8), match='.'>\n",
      "<re.Match object; span=(9, 10), match='.'>\n",
      "<re.Match object; span=(11, 12), match='.'>\n",
      "<re.Match object; span=(13, 14), match='.'>\n",
      "<re.Match object; span=(15, 16), match='.'>\n",
      "<re.Match object; span=(17, 18), match='.'>\n",
      "<re.Match object; span=(19, 20), match='.'>\n",
      "<re.Match object; span=(21, 22), match='.'>\n",
      "<re.Match object; span=(23, 24), match='.'>\n",
      "<re.Match object; span=(25, 26), match='.'>\n",
      "<re.Match object; span=(27, 28), match='.'>\n",
      "<re.Match object; span=(29, 30), match='.'>\n",
      "<re.Match object; span=(31, 32), match='.'>\n",
      "<re.Match object; span=(33, 34), match='.'>\n",
      "<re.Match object; span=(35, 36), match='.'>\n",
      "<re.Match object; span=(37, 38), match='.'>\n"
     ]
    }
   ],
   "source": [
    "#Match .\n",
    "\n",
    "text = 'a.^.b.c.^.d.1.4.2.2.^.!.@.^.#.^.$.@.^.#'\n",
    "\n",
    "pat = r'\\.'\n",
    "\n",
    "x = re.finditer(pat,text)\n",
    "print(x)\n",
    "\n",
    "for i in x:\n",
    "    print(i)"
   ]
  },
  {
   "cell_type": "code",
   "execution_count": 59,
   "id": "d1a8097e",
   "metadata": {},
   "outputs": [
    {
     "name": "stdout",
     "output_type": "stream",
     "text": [
      "mayank.ghai@learnbay.co\n",
      "mayank_ghai@gmail.com\n",
      "mayankatulghai@gmail.com\n",
      "123amitgoek@gmail.com\n",
      "info@gov.in\n",
      "mail@info.com\n",
      "shweta_analyst@hotmail.com\n",
      "rajesh_mba.123@yahoo.com\n"
     ]
    }
   ],
   "source": [
    "# fetch out the valid email ids \n",
    "\n",
    "email= '''mayank.ghai@learnbay.co\n",
    "mayank_ghai@gmail.com\n",
    "mayankghai10122@gmail\n",
    "mayankatulghai@gmail.com\n",
    "123amitgoek@gmail.com\n",
    "xyz.com\n",
    "!@#$%^%^%%^&*%$@#%@^*#\n",
    "njlfnsajdbvjkbvjkb\n",
    "122331543526751623572565364\n",
    "info@gov.in\n",
    "mail@info.com\n",
    "shweta_analyst@hotmail.com\n",
    "rajesh_mba.123@yahoo.com'''\n",
    "\n",
    "pat = r'\\d*[a-z]+(\\.|_)?[a-z]*\\.?\\d*@[a-z]+\\.[a-z]+'\n",
    "\n",
    "x = re.finditer(pat, email)\n",
    "\n",
    "for i in x:\n",
    "    print(i.group())"
   ]
  },
  {
   "cell_type": "markdown",
   "id": "5fc4ebd1",
   "metadata": {},
   "source": [
    "### sub()\n",
    "\n",
    "- It replaces a pattern with some other string\n",
    "\n",
    "    Synatx:\n",
    "        \n",
    "        re.sub(pat, new_string, original_string)"
   ]
  },
  {
   "cell_type": "code",
   "execution_count": 61,
   "id": "40865157",
   "metadata": {},
   "outputs": [
    {
     "name": "stdout",
     "output_type": "stream",
     "text": [
      "this is Python Class\n"
     ]
    }
   ],
   "source": [
    "text = 'this!is@Python#Class'\n",
    "\n",
    "pat = r'[!@#]'\n",
    "\n",
    "x = re.sub(pat, ' ', text)\n",
    "print(x)"
   ]
  },
  {
   "cell_type": "code",
   "execution_count": 64,
   "id": "1c11c231",
   "metadata": {},
   "outputs": [
    {
     "name": "stdout",
     "output_type": "stream",
     "text": [
      "this is Python Class\n"
     ]
    }
   ],
   "source": [
    "text = 'this123is1324Python48847Class'\n",
    "\n",
    "pat = r'[0-9]+'\n",
    "\n",
    "x = re.sub(pat, ' ', text)\n",
    "print(x)"
   ]
  },
  {
   "cell_type": "markdown",
   "id": "14cd7d9c",
   "metadata": {},
   "source": [
    "### split()\n",
    "\n",
    "- It splits the string from the pattern that we pass\n",
    "- It returns list\n",
    "\n",
    "    Syntax:\n",
    "    \n",
    "        re.split(pattern, string)"
   ]
  },
  {
   "cell_type": "code",
   "execution_count": 65,
   "id": "5e70b736",
   "metadata": {},
   "outputs": [
    {
     "name": "stdout",
     "output_type": "stream",
     "text": [
      "['HELLO', 'good', 'morning']\n"
     ]
    }
   ],
   "source": [
    "text = 'HELLO1good5morning'\n",
    "\n",
    "pat = '[0-9]'\n",
    "\n",
    "x = re.split(pat,text)\n",
    "print(x)"
   ]
  },
  {
   "cell_type": "code",
   "execution_count": 66,
   "id": "15a32194",
   "metadata": {},
   "outputs": [
    {
     "name": "stdout",
     "output_type": "stream",
     "text": [
      "['HELLO', 'good', 'morning']\n"
     ]
    }
   ],
   "source": [
    "text = 'HELLO1good5morning'\n",
    "\n",
    "pat = '\\d'\n",
    "\n",
    "x = re.split(pat,text)\n",
    "print(x)"
   ]
  },
  {
   "cell_type": "markdown",
   "id": "4342b933",
   "metadata": {},
   "source": [
    "### fullmatch()\n",
    "\n",
    "- It matches the complete pattern\n",
    "- If the pattern matches it will retunr me the match object otherwise it will return a None"
   ]
  },
  {
   "cell_type": "code",
   "execution_count": 67,
   "id": "a0d5a991",
   "metadata": {},
   "outputs": [
    {
     "name": "stdout",
     "output_type": "stream",
     "text": [
      "<re.Match object; span=(0, 10), match='mayank@123'>\n"
     ]
    }
   ],
   "source": [
    "user_name = 'mayank@123'\n",
    "pat = r'mayank@123'\n",
    "\n",
    "x = re.fullmatch(pat, user_name)\n",
    "print(x)"
   ]
  },
  {
   "cell_type": "code",
   "execution_count": 68,
   "id": "3d7d1174",
   "metadata": {},
   "outputs": [
    {
     "name": "stdout",
     "output_type": "stream",
     "text": [
      "None\n"
     ]
    }
   ],
   "source": [
    "user_name = 'mayank@1231241t4174t23yr'\n",
    "pat = r'mayank@123'\n",
    "\n",
    "x = re.fullmatch(pat, user_name)\n",
    "print(x)"
   ]
  },
  {
   "cell_type": "markdown",
   "id": "80bb5fb1",
   "metadata": {},
   "source": [
    "### compile()\n",
    "\n",
    "- It is used t0 create a Regex pattern\n",
    "- It returns a re.Pattern object\n",
    "- we can call any regex function on re.Pattern object"
   ]
  },
  {
   "cell_type": "code",
   "execution_count": 70,
   "id": "d5f3bb2a",
   "metadata": {},
   "outputs": [
    {
     "name": "stdout",
     "output_type": "stream",
     "text": [
      "re.compile('Python') <class 're.Pattern'>\n"
     ]
    }
   ],
   "source": [
    "text = 'This is a Python Class'\n",
    "\n",
    "pat = 'Python'\n",
    "\n",
    "x = re.compile(pat)\n",
    "print(x, type(x))"
   ]
  },
  {
   "cell_type": "code",
   "execution_count": 72,
   "id": "abfdcc18",
   "metadata": {},
   "outputs": [
    {
     "name": "stdout",
     "output_type": "stream",
     "text": [
      "None\n"
     ]
    }
   ],
   "source": [
    "print(x.match(text))"
   ]
  },
  {
   "cell_type": "code",
   "execution_count": 73,
   "id": "528f41bf",
   "metadata": {},
   "outputs": [
    {
     "name": "stdout",
     "output_type": "stream",
     "text": [
      "<re.Match object; span=(10, 16), match='Python'>\n"
     ]
    }
   ],
   "source": [
    "print(x.search(text))"
   ]
  },
  {
   "cell_type": "code",
   "execution_count": 75,
   "id": "d7d8ad2e",
   "metadata": {},
   "outputs": [
    {
     "name": "stdout",
     "output_type": "stream",
     "text": [
      "<callable_iterator object at 0x000002068E362A10>\n"
     ]
    }
   ],
   "source": [
    "print(x.finditer(text))"
   ]
  },
  {
   "cell_type": "code",
   "execution_count": 76,
   "id": "9be10383",
   "metadata": {},
   "outputs": [
    {
     "name": "stdout",
     "output_type": "stream",
     "text": [
      "<re.Match object; span=(10, 16), match='Python'>\n"
     ]
    }
   ],
   "source": [
    "for i in x.finditer(text):\n",
    "    print(i)"
   ]
  },
  {
   "cell_type": "code",
   "execution_count": null,
   "id": "a042e7de",
   "metadata": {},
   "outputs": [],
   "source": []
  }
 ],
 "metadata": {
  "kernelspec": {
   "display_name": "Python 3 (ipykernel)",
   "language": "python",
   "name": "python3"
  },
  "language_info": {
   "codemirror_mode": {
    "name": "ipython",
    "version": 3
   },
   "file_extension": ".py",
   "mimetype": "text/x-python",
   "name": "python",
   "nbconvert_exporter": "python",
   "pygments_lexer": "ipython3",
   "version": "3.11.5"
  }
 },
 "nbformat": 4,
 "nbformat_minor": 5
}
