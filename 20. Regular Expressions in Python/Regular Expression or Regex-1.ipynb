{
 "cells": [
  {
   "cell_type": "markdown",
   "id": "a24b0661",
   "metadata": {},
   "source": [
    "### ReGex \n",
    "\n",
    "- Regex stands for regular Expresssion.\n",
    "- It is a concept that is used to match and update a pattern from a string\n",
    "- To use Regex, we have to import re module"
   ]
  },
  {
   "cell_type": "code",
   "execution_count": 2,
   "id": "212ae596",
   "metadata": {},
   "outputs": [],
   "source": [
    "import re "
   ]
  },
  {
   "cell_type": "markdown",
   "id": "61600ccd",
   "metadata": {},
   "source": [
    "### Components of Regex\n",
    "\n",
    "- Functions\n",
    "- Metacharacters\n",
    "- Special Characters \n",
    "- Quantifiers"
   ]
  },
  {
   "cell_type": "markdown",
   "id": "9ff299dd",
   "metadata": {},
   "source": [
    "### Functions used in Regex\n",
    "\n",
    "- match()\n",
    "- search()\n",
    "- find()\n",
    "- finditer()\n",
    "- fullmatch()\n",
    "- sub()\n",
    "- split()\n",
    "- compile()"
   ]
  },
  {
   "cell_type": "markdown",
   "id": "df216d10",
   "metadata": {},
   "source": [
    "### match()\n",
    "\n",
    "- It matches the pattern at the beginning of a string\n",
    "- If the pattern is found at the beginning then it will return the matched object \n",
    "- If the pattern is not found at the beginning, then it will return None\n",
    "\n",
    "    Syntax:\n",
    "    \n",
    "        re.match(pattern, string)"
   ]
  },
  {
   "cell_type": "code",
   "execution_count": 5,
   "id": "dc8aeaa5",
   "metadata": {},
   "outputs": [
    {
     "name": "stdout",
     "output_type": "stream",
     "text": [
      "<re.Match object; span=(0, 5), match='India'>\n"
     ]
    }
   ],
   "source": [
    "text = 'India is my country and I love India'\n",
    "\n",
    "pat = r'India'\n",
    "\n",
    "x = re.match(pat, text)\n",
    "print(x)"
   ]
  },
  {
   "cell_type": "code",
   "execution_count": 6,
   "id": "b2338bdf",
   "metadata": {},
   "outputs": [
    {
     "name": "stdout",
     "output_type": "stream",
     "text": [
      "None\n"
     ]
    }
   ],
   "source": [
    "text = 'India is my country and I love India'\n",
    "\n",
    "pat = r'ind'\n",
    "\n",
    "x = re.match(pat, text)\n",
    "print(x)"
   ]
  },
  {
   "cell_type": "markdown",
   "id": "d71e5829",
   "metadata": {},
   "source": [
    "### Methods and attributes associated in match object\n",
    "\n",
    "- group() ----> It returns the pattern matched from the matched object\n",
    "- span() ---> It retruns a tuple of two element, the first element is the starting index and the second element is the ending index\n",
    "- start() ----> It returns the starting index\n",
    "- end() ---> It returns the stopping index(Excluded)\n",
    "\n",
    "__Note__: Stoping/ending index will always be exlcuded"
   ]
  },
  {
   "cell_type": "code",
   "execution_count": 7,
   "id": "7319018d",
   "metadata": {},
   "outputs": [
    {
     "name": "stdout",
     "output_type": "stream",
     "text": [
      "<re.Match object; span=(0, 5), match='India'>\n"
     ]
    }
   ],
   "source": [
    "text = 'India is my country'\n",
    "\n",
    "pat = r'India'\n",
    "\n",
    "x = re.match(pat, text)\n",
    "print(x)"
   ]
  },
  {
   "cell_type": "code",
   "execution_count": 8,
   "id": "ccaead4c",
   "metadata": {},
   "outputs": [
    {
     "name": "stdout",
     "output_type": "stream",
     "text": [
      "India\n"
     ]
    }
   ],
   "source": [
    "print(x.group())"
   ]
  },
  {
   "cell_type": "code",
   "execution_count": 13,
   "id": "535d30f7",
   "metadata": {},
   "outputs": [
    {
     "name": "stdout",
     "output_type": "stream",
     "text": [
      "India\n"
     ]
    }
   ],
   "source": [
    "print(re.match(pat, text).group())"
   ]
  },
  {
   "cell_type": "code",
   "execution_count": 9,
   "id": "88b432db",
   "metadata": {},
   "outputs": [
    {
     "name": "stdout",
     "output_type": "stream",
     "text": [
      "(0, 5)\n"
     ]
    }
   ],
   "source": [
    "print(x.span())"
   ]
  },
  {
   "cell_type": "code",
   "execution_count": 10,
   "id": "f76ee9cb",
   "metadata": {},
   "outputs": [
    {
     "name": "stdout",
     "output_type": "stream",
     "text": [
      "0\n"
     ]
    }
   ],
   "source": [
    "print(x.start())"
   ]
  },
  {
   "cell_type": "code",
   "execution_count": 12,
   "id": "4e23d112",
   "metadata": {},
   "outputs": [
    {
     "name": "stdout",
     "output_type": "stream",
     "text": [
      "5\n"
     ]
    }
   ],
   "source": [
    "print(x.end())"
   ]
  },
  {
   "cell_type": "markdown",
   "id": "bdb26a55",
   "metadata": {},
   "source": [
    "### search()\n",
    "\n",
    "- It matches the first occurance of the pattern from left to right in a string\n",
    "- If the pattern is found, it will retunr the matched object\n",
    "- If the pattern is not found, it will return a None\n",
    "\n",
    "    Syntax:\n",
    "    \n",
    "        re.search(pattern, string)"
   ]
  },
  {
   "cell_type": "code",
   "execution_count": 16,
   "id": "6402e2d5",
   "metadata": {},
   "outputs": [
    {
     "name": "stdout",
     "output_type": "stream",
     "text": [
      "<re.Match object; span=(7, 12), match='India'>\n"
     ]
    }
   ],
   "source": [
    "text = 'I love India very much, India is a country in South Asia, India has the 5th biggest econonmy in the world'\n",
    "\n",
    "pat = r'India'\n",
    "\n",
    "x = re.search(pat, text)\n",
    "print(x)"
   ]
  },
  {
   "cell_type": "code",
   "execution_count": 17,
   "id": "8a6461de",
   "metadata": {},
   "outputs": [
    {
     "name": "stdout",
     "output_type": "stream",
     "text": [
      "India\n"
     ]
    }
   ],
   "source": [
    "print(x.group())"
   ]
  },
  {
   "cell_type": "code",
   "execution_count": 18,
   "id": "aa73750f",
   "metadata": {},
   "outputs": [
    {
     "name": "stdout",
     "output_type": "stream",
     "text": [
      "(7, 12)\n"
     ]
    }
   ],
   "source": [
    "print(x.span())"
   ]
  },
  {
   "cell_type": "code",
   "execution_count": 19,
   "id": "c72901ea",
   "metadata": {},
   "outputs": [
    {
     "name": "stdout",
     "output_type": "stream",
     "text": [
      "7\n"
     ]
    }
   ],
   "source": [
    "print(x.start())"
   ]
  },
  {
   "cell_type": "code",
   "execution_count": 20,
   "id": "5034386e",
   "metadata": {},
   "outputs": [
    {
     "name": "stdout",
     "output_type": "stream",
     "text": [
      "12\n"
     ]
    }
   ],
   "source": [
    "print(x.end())"
   ]
  },
  {
   "cell_type": "code",
   "execution_count": 21,
   "id": "ebdf99db",
   "metadata": {},
   "outputs": [
    {
     "name": "stdout",
     "output_type": "stream",
     "text": [
      "None\n"
     ]
    }
   ],
   "source": [
    "text = 'I love India very much, India is a country in South Asia, India has the 5th biggest econonmy in the world'\n",
    "\n",
    "pat = r'China'\n",
    "\n",
    "x = re.search(pat, text)\n",
    "print(x)"
   ]
  },
  {
   "cell_type": "markdown",
   "id": "01fa3fb9",
   "metadata": {},
   "source": [
    "### findall()\n",
    "\n",
    "- It matches all the occuarnce of the pattern in the string and will return a list of the matched patern\n",
    "- If the pattern is not found, then it will return empty list"
   ]
  },
  {
   "cell_type": "code",
   "execution_count": 23,
   "id": "368baeb4",
   "metadata": {},
   "outputs": [
    {
     "name": "stdout",
     "output_type": "stream",
     "text": [
      "['India', 'India', 'India', 'India']\n"
     ]
    }
   ],
   "source": [
    "text = 'India is my country, I love India. India lies in Asia and I live in Benagluru India'\n",
    "\n",
    "pat = r'India'\n",
    "\n",
    "x = re.findall(pat, text)\n",
    "print(x)\n"
   ]
  },
  {
   "cell_type": "code",
   "execution_count": 24,
   "id": "a741f543",
   "metadata": {},
   "outputs": [
    {
     "name": "stdout",
     "output_type": "stream",
     "text": [
      "[]\n"
     ]
    }
   ],
   "source": [
    "text = 'India is my country, I love India. India lies in Asia and I live in Benagluru India'\n",
    "\n",
    "pat = r'China'\n",
    "\n",
    "x = re.findall(pat, text)\n",
    "print(x)"
   ]
  },
  {
   "cell_type": "markdown",
   "id": "0ad81d15",
   "metadata": {},
   "source": [
    "### finditer()\n",
    "\n",
    "- It matches all the  occurance of the pattern in the string\n",
    "- It returns an iterator object where each element in the iterator object is a matched object\n",
    "- If the pattern is not found, then it will return an empty iterator object\n",
    "- To fetch the elements from an iterator object, we will use for loop"
   ]
  },
  {
   "cell_type": "code",
   "execution_count": 28,
   "id": "8a9daff8",
   "metadata": {},
   "outputs": [
    {
     "name": "stdout",
     "output_type": "stream",
     "text": [
      "<callable_iterator object at 0x000002215555DD80>\n"
     ]
    }
   ],
   "source": [
    "text = 'India is my country, I love India. India lies in Asia and I live in Benagluru India'\n",
    "\n",
    "pat = r'India'\n",
    "\n",
    "x = re.finditer(pat, text)\n",
    "print(x)"
   ]
  },
  {
   "cell_type": "code",
   "execution_count": 29,
   "id": "791d2e7c",
   "metadata": {},
   "outputs": [
    {
     "name": "stdout",
     "output_type": "stream",
     "text": [
      "<re.Match object; span=(0, 5), match='India'>\n",
      "India\n",
      "(0, 5)\n",
      "0\n",
      "5\n",
      "-------------------------------------\n",
      "<re.Match object; span=(28, 33), match='India'>\n",
      "India\n",
      "(28, 33)\n",
      "28\n",
      "33\n",
      "-------------------------------------\n",
      "<re.Match object; span=(35, 40), match='India'>\n",
      "India\n",
      "(35, 40)\n",
      "35\n",
      "40\n",
      "-------------------------------------\n",
      "<re.Match object; span=(78, 83), match='India'>\n",
      "India\n",
      "(78, 83)\n",
      "78\n",
      "83\n",
      "-------------------------------------\n"
     ]
    }
   ],
   "source": [
    "for i in x:\n",
    "    print(i)\n",
    "    print(i.group())\n",
    "    print(i.span())\n",
    "    print(i.start())\n",
    "    print(i.end())\n",
    "    print('-------------------------------------')"
   ]
  },
  {
   "cell_type": "code",
   "execution_count": 30,
   "id": "86b18f1e",
   "metadata": {},
   "outputs": [
    {
     "name": "stdout",
     "output_type": "stream",
     "text": [
      "<callable_iterator object at 0x000002215555EB60>\n"
     ]
    }
   ],
   "source": [
    "text = \"Something seems fishy and it's not a fish I tell you.\"\n",
    "\n",
    "pat = r\"fish\"\n",
    "\n",
    "x = re.finditer(pat, text)\n",
    "print(x)\n"
   ]
  },
  {
   "cell_type": "code",
   "execution_count": 31,
   "id": "78e72914",
   "metadata": {},
   "outputs": [
    {
     "name": "stdout",
     "output_type": "stream",
     "text": [
      "<re.Match object; span=(16, 20), match='fish'>\n",
      "fish\n",
      "(16, 20)\n",
      "16\n",
      "20\n",
      "-------------------------------------\n",
      "<re.Match object; span=(37, 41), match='fish'>\n",
      "fish\n",
      "(37, 41)\n",
      "37\n",
      "41\n",
      "-------------------------------------\n"
     ]
    }
   ],
   "source": [
    "for i in x:\n",
    "    print(i)\n",
    "    print(i.group())\n",
    "    print(i.span())\n",
    "    print(i.start())\n",
    "    print(i.end())\n",
    "    print('-------------------------------------')   "
   ]
  },
  {
   "cell_type": "markdown",
   "id": "cd58144a",
   "metadata": {},
   "source": [
    "### Meta-characters\n",
    "\n",
    "- These are some special characters in Regex\n",
    "- These characters carry some important information / message and are used for specific purpose \n",
    "\n",
    "#### Different types of Meta-characters\n",
    "\n",
    "    - [..] --- set\n",
    "    - () ---group\n",
    "    - ^ --- caret\n",
    "    - $ --- dollar\n",
    "    - | ----(or)\n",
    "    - . ----(dot)"
   ]
  },
  {
   "cell_type": "markdown",
   "id": "c011e6a7",
   "metadata": {},
   "source": [
    "### - [] --- Set\n",
    "\n",
    "- [A] - It will match all A one by one in the string\n",
    "- [AB] - It will match A and B sepearately one by one in the string\n",
    "- [A-Z] - It will macth all the uppercase letter from A to Z in the string\n",
    "- [a-z] - It will math all the lowercase letter from a to z in the string\n",
    "- [0-9] - It will macth all the digits from 0 to 9.\n",
    "- [A-Za-z0-9] - It will macth all the uppercase letter, lowecase letter and digits\n",
    "- [^A] - It will macth everything in the string except A character\n",
    "- [^A-Z] - It will match everything in the string except the upper case letters"
   ]
  },
  {
   "cell_type": "code",
   "execution_count": 32,
   "id": "14553c18",
   "metadata": {},
   "outputs": [
    {
     "name": "stdout",
     "output_type": "stream",
     "text": [
      "<callable_iterator object at 0x000002215555DCF0>\n",
      "<re.Match object; span=(6, 7), match='A'>\n",
      "<re.Match object; span=(7, 8), match='A'>\n",
      "<re.Match object; span=(14, 15), match='A'>\n",
      "<re.Match object; span=(18, 19), match='B'>\n",
      "<re.Match object; span=(38, 39), match='A'>\n"
     ]
    }
   ],
   "source": [
    "text = 'da 19 AA@ 72@ AIJ Bsk fjwu! @@#%^ 1548A48'\n",
    "\n",
    "pat = '[AB]'\n",
    "\n",
    "x = re.finditer(pat, text)\n",
    "print(x)\n",
    "\n",
    "for i in x:\n",
    "    print(i)"
   ]
  },
  {
   "cell_type": "code",
   "execution_count": 33,
   "id": "a15b14b9",
   "metadata": {},
   "outputs": [
    {
     "name": "stdout",
     "output_type": "stream",
     "text": [
      "<callable_iterator object at 0x000002215555E230>\n",
      "<re.Match object; span=(6, 7), match='A'>\n",
      "<re.Match object; span=(7, 8), match='B'>\n",
      "<re.Match object; span=(8, 9), match='A'>\n",
      "<re.Match object; span=(9, 10), match='B'>\n",
      "<re.Match object; span=(10, 11), match='A'>\n",
      "<re.Match object; span=(11, 12), match='A'>\n",
      "<re.Match object; span=(12, 13), match='B'>\n",
      "<re.Match object; span=(13, 14), match='B'>\n",
      "<re.Match object; span=(14, 15), match='A'>\n",
      "<re.Match object; span=(15, 16), match='A'>\n",
      "<re.Match object; span=(16, 17), match='B'>\n",
      "<re.Match object; span=(23, 24), match='A'>\n",
      "<re.Match object; span=(27, 28), match='B'>\n",
      "<re.Match object; span=(47, 48), match='A'>\n"
     ]
    }
   ],
   "source": [
    "text = 'da 19 ABABAABBAAB@ 72@ AIJ Bsk fjwu! @@#%^ 1548A48'\n",
    "\n",
    "pat = '[AB]'\n",
    "\n",
    "x = re.finditer(pat, text)\n",
    "print(x)\n",
    "\n",
    "for i in x:\n",
    "    print(i)"
   ]
  },
  {
   "cell_type": "code",
   "execution_count": 34,
   "id": "125a2e53",
   "metadata": {},
   "outputs": [
    {
     "name": "stdout",
     "output_type": "stream",
     "text": [
      "<callable_iterator object at 0x000002215555FD30>\n",
      "<re.Match object; span=(6, 8), match='AB'>\n",
      "<re.Match object; span=(8, 10), match='AB'>\n",
      "<re.Match object; span=(11, 13), match='AB'>\n",
      "<re.Match object; span=(15, 17), match='AB'>\n"
     ]
    }
   ],
   "source": [
    "text = 'da 19 ABABAABBAAB@ 72@ AIJ Bsk fjwu! @@#%^ 1548A48'\n",
    "\n",
    "pat = 'AB'\n",
    "\n",
    "x = re.finditer(pat, text)\n",
    "print(x)\n",
    "\n",
    "for i in x:\n",
    "    print(i)"
   ]
  },
  {
   "cell_type": "code",
   "execution_count": 35,
   "id": "ed9764b4",
   "metadata": {},
   "outputs": [
    {
     "name": "stdout",
     "output_type": "stream",
     "text": [
      "<callable_iterator object at 0x000002215555E9B0>\n"
     ]
    }
   ],
   "source": [
    "text = 'India is my country, I love India. India lies in Asia and I live in Benagluru India'\n",
    "\n",
    "pat = r'[^A-Z]'\n",
    "\n",
    "x = re.finditer(pat, text)\n",
    "print(x)"
   ]
  },
  {
   "cell_type": "code",
   "execution_count": 36,
   "id": "bc166f02",
   "metadata": {},
   "outputs": [
    {
     "name": "stdout",
     "output_type": "stream",
     "text": [
      "<re.Match object; span=(1, 2), match='n'>\n",
      "<re.Match object; span=(2, 3), match='d'>\n",
      "<re.Match object; span=(3, 4), match='i'>\n",
      "<re.Match object; span=(4, 5), match='a'>\n",
      "<re.Match object; span=(5, 6), match=' '>\n",
      "<re.Match object; span=(6, 7), match='i'>\n",
      "<re.Match object; span=(7, 8), match='s'>\n",
      "<re.Match object; span=(8, 9), match=' '>\n",
      "<re.Match object; span=(9, 10), match='m'>\n",
      "<re.Match object; span=(10, 11), match='y'>\n",
      "<re.Match object; span=(11, 12), match=' '>\n",
      "<re.Match object; span=(12, 13), match='c'>\n",
      "<re.Match object; span=(13, 14), match='o'>\n",
      "<re.Match object; span=(14, 15), match='u'>\n",
      "<re.Match object; span=(15, 16), match='n'>\n",
      "<re.Match object; span=(16, 17), match='t'>\n",
      "<re.Match object; span=(17, 18), match='r'>\n",
      "<re.Match object; span=(18, 19), match='y'>\n",
      "<re.Match object; span=(19, 20), match=','>\n",
      "<re.Match object; span=(20, 21), match=' '>\n",
      "<re.Match object; span=(22, 23), match=' '>\n",
      "<re.Match object; span=(23, 24), match='l'>\n",
      "<re.Match object; span=(24, 25), match='o'>\n",
      "<re.Match object; span=(25, 26), match='v'>\n",
      "<re.Match object; span=(26, 27), match='e'>\n",
      "<re.Match object; span=(27, 28), match=' '>\n",
      "<re.Match object; span=(29, 30), match='n'>\n",
      "<re.Match object; span=(30, 31), match='d'>\n",
      "<re.Match object; span=(31, 32), match='i'>\n",
      "<re.Match object; span=(32, 33), match='a'>\n",
      "<re.Match object; span=(33, 34), match='.'>\n",
      "<re.Match object; span=(34, 35), match=' '>\n",
      "<re.Match object; span=(36, 37), match='n'>\n",
      "<re.Match object; span=(37, 38), match='d'>\n",
      "<re.Match object; span=(38, 39), match='i'>\n",
      "<re.Match object; span=(39, 40), match='a'>\n",
      "<re.Match object; span=(40, 41), match=' '>\n",
      "<re.Match object; span=(41, 42), match='l'>\n",
      "<re.Match object; span=(42, 43), match='i'>\n",
      "<re.Match object; span=(43, 44), match='e'>\n",
      "<re.Match object; span=(44, 45), match='s'>\n",
      "<re.Match object; span=(45, 46), match=' '>\n",
      "<re.Match object; span=(46, 47), match='i'>\n",
      "<re.Match object; span=(47, 48), match='n'>\n",
      "<re.Match object; span=(48, 49), match=' '>\n",
      "<re.Match object; span=(50, 51), match='s'>\n",
      "<re.Match object; span=(51, 52), match='i'>\n",
      "<re.Match object; span=(52, 53), match='a'>\n",
      "<re.Match object; span=(53, 54), match=' '>\n",
      "<re.Match object; span=(54, 55), match='a'>\n",
      "<re.Match object; span=(55, 56), match='n'>\n",
      "<re.Match object; span=(56, 57), match='d'>\n",
      "<re.Match object; span=(57, 58), match=' '>\n",
      "<re.Match object; span=(59, 60), match=' '>\n",
      "<re.Match object; span=(60, 61), match='l'>\n",
      "<re.Match object; span=(61, 62), match='i'>\n",
      "<re.Match object; span=(62, 63), match='v'>\n",
      "<re.Match object; span=(63, 64), match='e'>\n",
      "<re.Match object; span=(64, 65), match=' '>\n",
      "<re.Match object; span=(65, 66), match='i'>\n",
      "<re.Match object; span=(66, 67), match='n'>\n",
      "<re.Match object; span=(67, 68), match=' '>\n",
      "<re.Match object; span=(69, 70), match='e'>\n",
      "<re.Match object; span=(70, 71), match='n'>\n",
      "<re.Match object; span=(71, 72), match='a'>\n",
      "<re.Match object; span=(72, 73), match='g'>\n",
      "<re.Match object; span=(73, 74), match='l'>\n",
      "<re.Match object; span=(74, 75), match='u'>\n",
      "<re.Match object; span=(75, 76), match='r'>\n",
      "<re.Match object; span=(76, 77), match='u'>\n",
      "<re.Match object; span=(77, 78), match=' '>\n",
      "<re.Match object; span=(79, 80), match='n'>\n",
      "<re.Match object; span=(80, 81), match='d'>\n",
      "<re.Match object; span=(81, 82), match='i'>\n",
      "<re.Match object; span=(82, 83), match='a'>\n"
     ]
    }
   ],
   "source": [
    "for i in x:\n",
    "    print(i)"
   ]
  },
  {
   "cell_type": "code",
   "execution_count": 37,
   "id": "68070a33",
   "metadata": {},
   "outputs": [
    {
     "name": "stdout",
     "output_type": "stream",
     "text": [
      "<callable_iterator object at 0x000002215555FD30>\n"
     ]
    }
   ],
   "source": [
    "text = 'India is my country, I love India. India lies in Asia and I live in Benagluru India'\n",
    "\n",
    "pat = r'[^a-z]'\n",
    "\n",
    "x = re.finditer(pat, text)\n",
    "print(x)"
   ]
  },
  {
   "cell_type": "code",
   "execution_count": 38,
   "id": "31a1c02d",
   "metadata": {},
   "outputs": [
    {
     "name": "stdout",
     "output_type": "stream",
     "text": [
      "<re.Match object; span=(0, 1), match='I'>\n",
      "<re.Match object; span=(5, 6), match=' '>\n",
      "<re.Match object; span=(8, 9), match=' '>\n",
      "<re.Match object; span=(11, 12), match=' '>\n",
      "<re.Match object; span=(19, 20), match=','>\n",
      "<re.Match object; span=(20, 21), match=' '>\n",
      "<re.Match object; span=(21, 22), match='I'>\n",
      "<re.Match object; span=(22, 23), match=' '>\n",
      "<re.Match object; span=(27, 28), match=' '>\n",
      "<re.Match object; span=(28, 29), match='I'>\n",
      "<re.Match object; span=(33, 34), match='.'>\n",
      "<re.Match object; span=(34, 35), match=' '>\n",
      "<re.Match object; span=(35, 36), match='I'>\n",
      "<re.Match object; span=(40, 41), match=' '>\n",
      "<re.Match object; span=(45, 46), match=' '>\n",
      "<re.Match object; span=(48, 49), match=' '>\n",
      "<re.Match object; span=(49, 50), match='A'>\n",
      "<re.Match object; span=(53, 54), match=' '>\n",
      "<re.Match object; span=(57, 58), match=' '>\n",
      "<re.Match object; span=(58, 59), match='I'>\n",
      "<re.Match object; span=(59, 60), match=' '>\n",
      "<re.Match object; span=(64, 65), match=' '>\n",
      "<re.Match object; span=(67, 68), match=' '>\n",
      "<re.Match object; span=(68, 69), match='B'>\n",
      "<re.Match object; span=(77, 78), match=' '>\n",
      "<re.Match object; span=(78, 79), match='I'>\n"
     ]
    }
   ],
   "source": [
    "for i in x:\n",
    "    print(i)"
   ]
  },
  {
   "cell_type": "code",
   "execution_count": 39,
   "id": "6ecfd181",
   "metadata": {},
   "outputs": [
    {
     "name": "stdout",
     "output_type": "stream",
     "text": [
      "<callable_iterator object at 0x000002215555D7B0>\n"
     ]
    }
   ],
   "source": [
    "text = 'India is my country, I love India. India lies in Asia and I live in Benagluru India'\n",
    "\n",
    "pat = r'[^A-za-z]'\n",
    "\n",
    "x = re.finditer(pat, text)\n",
    "print(x)"
   ]
  },
  {
   "cell_type": "code",
   "execution_count": 40,
   "id": "533464ff",
   "metadata": {},
   "outputs": [
    {
     "name": "stdout",
     "output_type": "stream",
     "text": [
      "<re.Match object; span=(5, 6), match=' '>\n",
      "<re.Match object; span=(8, 9), match=' '>\n",
      "<re.Match object; span=(11, 12), match=' '>\n",
      "<re.Match object; span=(19, 20), match=','>\n",
      "<re.Match object; span=(20, 21), match=' '>\n",
      "<re.Match object; span=(22, 23), match=' '>\n",
      "<re.Match object; span=(27, 28), match=' '>\n",
      "<re.Match object; span=(33, 34), match='.'>\n",
      "<re.Match object; span=(34, 35), match=' '>\n",
      "<re.Match object; span=(40, 41), match=' '>\n",
      "<re.Match object; span=(45, 46), match=' '>\n",
      "<re.Match object; span=(48, 49), match=' '>\n",
      "<re.Match object; span=(53, 54), match=' '>\n",
      "<re.Match object; span=(57, 58), match=' '>\n",
      "<re.Match object; span=(59, 60), match=' '>\n",
      "<re.Match object; span=(64, 65), match=' '>\n",
      "<re.Match object; span=(67, 68), match=' '>\n",
      "<re.Match object; span=(77, 78), match=' '>\n"
     ]
    }
   ],
   "source": [
    "for i in x:\n",
    "    print(i)"
   ]
  },
  {
   "cell_type": "code",
   "execution_count": 44,
   "id": "834055f6",
   "metadata": {},
   "outputs": [
    {
     "name": "stdout",
     "output_type": "stream",
     "text": [
      "<callable_iterator object at 0x000002215570B250>\n",
      "<re.Match object; span=(17, 18), match='@'>\n",
      "<re.Match object; span=(21, 22), match='@'>\n",
      "<re.Match object; span=(35, 36), match='!'>\n",
      "<re.Match object; span=(37, 38), match='@'>\n",
      "<re.Match object; span=(38, 39), match='@'>\n",
      "<re.Match object; span=(39, 40), match='#'>\n",
      "<re.Match object; span=(40, 41), match='%'>\n",
      "<re.Match object; span=(41, 42), match='^'>\n"
     ]
    }
   ],
   "source": [
    "text = 'da 19 ABABAABBAAB@ 72@ AIJ Bsk fjwu! @@#%^ 1548A48'\n",
    "\n",
    "pat = '[!@#$%^&*()]'\n",
    "\n",
    "x = re.finditer(pat, text)\n",
    "print(x)\n",
    "\n",
    "for i in x:\n",
    "    print(i)"
   ]
  },
  {
   "cell_type": "code",
   "execution_count": 43,
   "id": "91301aa2",
   "metadata": {},
   "outputs": [
    {
     "name": "stdout",
     "output_type": "stream",
     "text": [
      "<callable_iterator object at 0x000002215555CD90>\n",
      "<re.Match object; span=(0, 1), match='d'>\n",
      "<re.Match object; span=(1, 2), match='a'>\n",
      "<re.Match object; span=(2, 3), match=' '>\n",
      "<re.Match object; span=(3, 4), match='1'>\n",
      "<re.Match object; span=(4, 5), match='9'>\n",
      "<re.Match object; span=(5, 6), match=' '>\n",
      "<re.Match object; span=(6, 7), match='A'>\n",
      "<re.Match object; span=(7, 8), match='B'>\n",
      "<re.Match object; span=(8, 9), match='A'>\n",
      "<re.Match object; span=(9, 10), match='B'>\n",
      "<re.Match object; span=(10, 11), match='A'>\n",
      "<re.Match object; span=(11, 12), match='A'>\n",
      "<re.Match object; span=(12, 13), match='B'>\n",
      "<re.Match object; span=(13, 14), match='B'>\n",
      "<re.Match object; span=(14, 15), match='A'>\n",
      "<re.Match object; span=(15, 16), match='A'>\n",
      "<re.Match object; span=(16, 17), match='B'>\n",
      "<re.Match object; span=(18, 19), match=' '>\n",
      "<re.Match object; span=(19, 20), match='7'>\n",
      "<re.Match object; span=(20, 21), match='2'>\n",
      "<re.Match object; span=(22, 23), match=' '>\n",
      "<re.Match object; span=(23, 24), match='A'>\n",
      "<re.Match object; span=(24, 25), match='I'>\n",
      "<re.Match object; span=(25, 26), match='J'>\n",
      "<re.Match object; span=(26, 27), match=' '>\n",
      "<re.Match object; span=(27, 28), match='B'>\n",
      "<re.Match object; span=(28, 29), match='s'>\n",
      "<re.Match object; span=(29, 30), match='k'>\n",
      "<re.Match object; span=(30, 31), match=' '>\n",
      "<re.Match object; span=(31, 32), match='f'>\n",
      "<re.Match object; span=(32, 33), match='j'>\n",
      "<re.Match object; span=(33, 34), match='w'>\n",
      "<re.Match object; span=(34, 35), match='u'>\n",
      "<re.Match object; span=(36, 37), match=' '>\n",
      "<re.Match object; span=(42, 43), match=' '>\n",
      "<re.Match object; span=(43, 44), match='1'>\n",
      "<re.Match object; span=(44, 45), match='5'>\n",
      "<re.Match object; span=(45, 46), match='4'>\n",
      "<re.Match object; span=(46, 47), match='8'>\n",
      "<re.Match object; span=(47, 48), match='A'>\n",
      "<re.Match object; span=(48, 49), match='4'>\n",
      "<re.Match object; span=(49, 50), match='8'>\n"
     ]
    }
   ],
   "source": [
    "text = 'da 19 ABABAABBAAB@ 72@ AIJ Bsk fjwu! @@#%^ 1548A48'\n",
    "\n",
    "pat = '[^!@#$%^&*()]'\n",
    "\n",
    "x = re.finditer(pat, text)\n",
    "print(x)\n",
    "\n",
    "for i in x:\n",
    "    print(i)"
   ]
  },
  {
   "cell_type": "code",
   "execution_count": 47,
   "id": "f332b909",
   "metadata": {},
   "outputs": [
    {
     "name": "stdout",
     "output_type": "stream",
     "text": [
      "<re.Match object; span=(1, 2), match='9'>\n",
      "<re.Match object; span=(2, 3), match='1'>\n",
      "<re.Match object; span=(4, 5), match='8'>\n",
      "<re.Match object; span=(5, 6), match='3'>\n",
      "<re.Match object; span=(6, 7), match='6'>\n",
      "<re.Match object; span=(7, 8), match='0'>\n",
      "<re.Match object; span=(8, 9), match='9'>\n",
      "<re.Match object; span=(9, 10), match='8'>\n",
      "<re.Match object; span=(10, 11), match='4'>\n",
      "<re.Match object; span=(11, 12), match='4'>\n",
      "<re.Match object; span=(12, 13), match='7'>\n",
      "<re.Match object; span=(13, 14), match='9'>\n"
     ]
    }
   ],
   "source": [
    "text = '+91-8360984479'\n",
    "pat = r'[0-9]'\n",
    "x = re.finditer(pat, text)\n",
    "for i in x:\n",
    "    print(i)"
   ]
  },
  {
   "cell_type": "markdown",
   "id": "2761a3dd",
   "metadata": {},
   "source": [
    "### ^ Carot\n",
    "\n",
    "- It matches the pattern from the beginning of the string and will return matched object"
   ]
  },
  {
   "cell_type": "code",
   "execution_count": 56,
   "id": "1fb7fd6d",
   "metadata": {},
   "outputs": [
    {
     "name": "stdout",
     "output_type": "stream",
     "text": [
      "<callable_iterator object at 0x000002215555FCD0>\n",
      "<re.Match object; span=(0, 15), match='da 19 ABABAABBA'>\n"
     ]
    }
   ],
   "source": [
    "text = 'da 19 ABABAABBAAB@ 72@ AIJ Bsk fjwu! @@#%^ 1548A48'\n",
    "\n",
    "pat = '^da 19 ABABAABBA'\n",
    "\n",
    "x = re.finditer(pat, text)\n",
    "print(x)\n",
    "\n",
    "for i in x:\n",
    "    print(i)"
   ]
  },
  {
   "cell_type": "code",
   "execution_count": 57,
   "id": "cf6b0cc4",
   "metadata": {},
   "outputs": [
    {
     "name": "stdout",
     "output_type": "stream",
     "text": [
      "None\n"
     ]
    }
   ],
   "source": [
    "text = 'Python is a high level langauge'\n",
    "pat = 'l'\n",
    "x = re.match(pat, text)\n",
    "print(x)"
   ]
  },
  {
   "cell_type": "code",
   "execution_count": 58,
   "id": "dfe5b8b3",
   "metadata": {},
   "outputs": [
    {
     "name": "stdout",
     "output_type": "stream",
     "text": [
      "<callable_iterator object at 0x000002215555FB80>\n"
     ]
    }
   ],
   "source": [
    "text = 'Python is a high level langauge'\n",
    "pat = '^l'\n",
    "x = re.finditer(pat, text)\n",
    "print(x)"
   ]
  },
  {
   "cell_type": "markdown",
   "id": "28eb473d",
   "metadata": {},
   "source": [
    "### $ dollar \n",
    "\n",
    "- It matches the pattern from the end of the string"
   ]
  },
  {
   "cell_type": "code",
   "execution_count": 63,
   "id": "81a5d3e6",
   "metadata": {},
   "outputs": [
    {
     "name": "stdout",
     "output_type": "stream",
     "text": [
      "<callable_iterator object at 0x000002215555DA80>\n",
      "<re.Match object; span=(28, 31), match='age'>\n"
     ]
    }
   ],
   "source": [
    "text = 'Python is a high level language'\n",
    "pat = r'age$'\n",
    "x = re.finditer(pat, text)\n",
    "print(x)\n",
    "\n",
    "for i in x:\n",
    "    print(i)"
   ]
  },
  {
   "cell_type": "code",
   "execution_count": 68,
   "id": "fcb78363",
   "metadata": {},
   "outputs": [
    {
     "name": "stdout",
     "output_type": "stream",
     "text": [
      "<callable_iterator object at 0x000002215555DC30>\n"
     ]
    }
   ],
   "source": [
    "text = 'Python is a high level language'\n",
    "pat = r'high$'\n",
    "x = re.finditer(pat, text)\n",
    "print(x)\n",
    "\n",
    "for i in x:\n",
    "    print(i)"
   ]
  },
  {
   "cell_type": "markdown",
   "id": "71418be7",
   "metadata": {},
   "source": [
    "### .(dot)\n",
    "\n",
    "- It matches all the characters expect the \\n character "
   ]
  },
  {
   "cell_type": "code",
   "execution_count": 77,
   "id": "cdfa58ba",
   "metadata": {},
   "outputs": [
    {
     "name": "stdout",
     "output_type": "stream",
     "text": [
      "My name is Mayank Ghai. \n",
      "I am a Python Trainer. \n",
      "I am working as a Sr. Data Analyst\n"
     ]
    }
   ],
   "source": [
    "text = '''My name is Mayank Ghai. \\nI am a Python Trainer. \\nI am working as a Sr. Data Analyst'''\n",
    "print(text)"
   ]
  },
  {
   "cell_type": "code",
   "execution_count": 83,
   "id": "8b1d4565",
   "metadata": {},
   "outputs": [
    {
     "name": "stdout",
     "output_type": "stream",
     "text": [
      "<callable_iterator object at 0x0000022156CB3BB0>\n"
     ]
    }
   ],
   "source": [
    "pat = r'.'\n",
    "\n",
    "x = re.finditer(pat, text)\n",
    "print(x)"
   ]
  },
  {
   "cell_type": "code",
   "execution_count": 84,
   "id": "e71fe2a4",
   "metadata": {},
   "outputs": [
    {
     "name": "stdout",
     "output_type": "stream",
     "text": [
      "<re.Match object; span=(0, 1), match='M'>\n",
      "<re.Match object; span=(1, 2), match='y'>\n",
      "<re.Match object; span=(2, 3), match=' '>\n",
      "<re.Match object; span=(3, 4), match='n'>\n",
      "<re.Match object; span=(4, 5), match='a'>\n",
      "<re.Match object; span=(5, 6), match='m'>\n",
      "<re.Match object; span=(6, 7), match='e'>\n",
      "<re.Match object; span=(7, 8), match=' '>\n",
      "<re.Match object; span=(8, 9), match='i'>\n",
      "<re.Match object; span=(9, 10), match='s'>\n",
      "<re.Match object; span=(10, 11), match=' '>\n",
      "<re.Match object; span=(11, 12), match='M'>\n",
      "<re.Match object; span=(12, 13), match='a'>\n",
      "<re.Match object; span=(13, 14), match='y'>\n",
      "<re.Match object; span=(14, 15), match='a'>\n",
      "<re.Match object; span=(15, 16), match='n'>\n",
      "<re.Match object; span=(16, 17), match='k'>\n",
      "<re.Match object; span=(17, 18), match=' '>\n",
      "<re.Match object; span=(18, 19), match='G'>\n",
      "<re.Match object; span=(19, 20), match='h'>\n",
      "<re.Match object; span=(20, 21), match='a'>\n",
      "<re.Match object; span=(21, 22), match='i'>\n",
      "<re.Match object; span=(22, 23), match='.'>\n",
      "<re.Match object; span=(23, 24), match=' '>\n",
      "<re.Match object; span=(25, 26), match='I'>\n",
      "<re.Match object; span=(26, 27), match=' '>\n",
      "<re.Match object; span=(27, 28), match='a'>\n",
      "<re.Match object; span=(28, 29), match='m'>\n",
      "<re.Match object; span=(29, 30), match=' '>\n",
      "<re.Match object; span=(30, 31), match='a'>\n",
      "<re.Match object; span=(31, 32), match=' '>\n",
      "<re.Match object; span=(32, 33), match='P'>\n",
      "<re.Match object; span=(33, 34), match='y'>\n",
      "<re.Match object; span=(34, 35), match='t'>\n",
      "<re.Match object; span=(35, 36), match='h'>\n",
      "<re.Match object; span=(36, 37), match='o'>\n",
      "<re.Match object; span=(37, 38), match='n'>\n",
      "<re.Match object; span=(38, 39), match=' '>\n",
      "<re.Match object; span=(39, 40), match='T'>\n",
      "<re.Match object; span=(40, 41), match='r'>\n",
      "<re.Match object; span=(41, 42), match='a'>\n",
      "<re.Match object; span=(42, 43), match='i'>\n",
      "<re.Match object; span=(43, 44), match='n'>\n",
      "<re.Match object; span=(44, 45), match='e'>\n",
      "<re.Match object; span=(45, 46), match='r'>\n",
      "<re.Match object; span=(46, 47), match='.'>\n",
      "<re.Match object; span=(47, 48), match=' '>\n",
      "<re.Match object; span=(49, 50), match='I'>\n",
      "<re.Match object; span=(50, 51), match=' '>\n",
      "<re.Match object; span=(51, 52), match='a'>\n",
      "<re.Match object; span=(52, 53), match='m'>\n",
      "<re.Match object; span=(53, 54), match=' '>\n",
      "<re.Match object; span=(54, 55), match='w'>\n",
      "<re.Match object; span=(55, 56), match='o'>\n",
      "<re.Match object; span=(56, 57), match='r'>\n",
      "<re.Match object; span=(57, 58), match='k'>\n",
      "<re.Match object; span=(58, 59), match='i'>\n",
      "<re.Match object; span=(59, 60), match='n'>\n",
      "<re.Match object; span=(60, 61), match='g'>\n",
      "<re.Match object; span=(61, 62), match=' '>\n",
      "<re.Match object; span=(62, 63), match='a'>\n",
      "<re.Match object; span=(63, 64), match='s'>\n",
      "<re.Match object; span=(64, 65), match=' '>\n",
      "<re.Match object; span=(65, 66), match='a'>\n",
      "<re.Match object; span=(66, 67), match=' '>\n",
      "<re.Match object; span=(67, 68), match='S'>\n",
      "<re.Match object; span=(68, 69), match='r'>\n",
      "<re.Match object; span=(69, 70), match='.'>\n",
      "<re.Match object; span=(70, 71), match=' '>\n",
      "<re.Match object; span=(71, 72), match='D'>\n",
      "<re.Match object; span=(72, 73), match='a'>\n",
      "<re.Match object; span=(73, 74), match='t'>\n",
      "<re.Match object; span=(74, 75), match='a'>\n",
      "<re.Match object; span=(75, 76), match=' '>\n",
      "<re.Match object; span=(76, 77), match='A'>\n",
      "<re.Match object; span=(77, 78), match='n'>\n",
      "<re.Match object; span=(78, 79), match='a'>\n",
      "<re.Match object; span=(79, 80), match='l'>\n",
      "<re.Match object; span=(80, 81), match='y'>\n",
      "<re.Match object; span=(81, 82), match='s'>\n",
      "<re.Match object; span=(82, 83), match='t'>\n"
     ]
    }
   ],
   "source": [
    "for i in x:\n",
    "    print(i)"
   ]
  },
  {
   "cell_type": "code",
   "execution_count": 79,
   "id": "71971706",
   "metadata": {},
   "outputs": [
    {
     "name": "stdout",
     "output_type": "stream",
     "text": [
      "<callable_iterator object at 0x000002215555E9B0>\n",
      "<re.Match object; span=(0, 1), match='M'>\n",
      "<re.Match object; span=(1, 2), match='y'>\n",
      "<re.Match object; span=(2, 3), match=' '>\n",
      "<re.Match object; span=(3, 4), match='n'>\n",
      "<re.Match object; span=(4, 5), match='a'>\n",
      "<re.Match object; span=(5, 6), match='m'>\n",
      "<re.Match object; span=(6, 7), match='e'>\n",
      "<re.Match object; span=(7, 8), match=' '>\n",
      "<re.Match object; span=(8, 9), match='i'>\n",
      "<re.Match object; span=(9, 10), match='s'>\n",
      "<re.Match object; span=(10, 11), match=' '>\n",
      "<re.Match object; span=(11, 12), match='M'>\n",
      "<re.Match object; span=(12, 13), match='a'>\n",
      "<re.Match object; span=(13, 14), match='y'>\n",
      "<re.Match object; span=(14, 15), match='a'>\n",
      "<re.Match object; span=(15, 16), match='n'>\n",
      "<re.Match object; span=(16, 17), match='k'>\n",
      "<re.Match object; span=(17, 18), match=' '>\n",
      "<re.Match object; span=(18, 19), match='G'>\n",
      "<re.Match object; span=(19, 20), match='h'>\n",
      "<re.Match object; span=(20, 21), match='a'>\n",
      "<re.Match object; span=(21, 22), match='i'>\n",
      "<re.Match object; span=(22, 23), match='.'>\n",
      "<re.Match object; span=(23, 24), match=' '>\n",
      "<re.Match object; span=(24, 25), match='\\n'>\n",
      "<re.Match object; span=(25, 26), match='I'>\n",
      "<re.Match object; span=(26, 27), match=' '>\n",
      "<re.Match object; span=(27, 28), match='a'>\n",
      "<re.Match object; span=(28, 29), match='m'>\n",
      "<re.Match object; span=(29, 30), match=' '>\n",
      "<re.Match object; span=(30, 31), match='a'>\n",
      "<re.Match object; span=(31, 32), match=' '>\n",
      "<re.Match object; span=(32, 33), match='P'>\n",
      "<re.Match object; span=(33, 34), match='y'>\n",
      "<re.Match object; span=(34, 35), match='t'>\n",
      "<re.Match object; span=(35, 36), match='h'>\n",
      "<re.Match object; span=(36, 37), match='o'>\n",
      "<re.Match object; span=(37, 38), match='n'>\n",
      "<re.Match object; span=(38, 39), match=' '>\n",
      "<re.Match object; span=(39, 40), match='T'>\n",
      "<re.Match object; span=(40, 41), match='r'>\n",
      "<re.Match object; span=(41, 42), match='a'>\n",
      "<re.Match object; span=(42, 43), match='i'>\n",
      "<re.Match object; span=(43, 44), match='n'>\n",
      "<re.Match object; span=(44, 45), match='e'>\n",
      "<re.Match object; span=(45, 46), match='r'>\n",
      "<re.Match object; span=(46, 47), match='.'>\n",
      "<re.Match object; span=(47, 48), match=' '>\n",
      "<re.Match object; span=(48, 49), match='\\n'>\n",
      "<re.Match object; span=(49, 50), match='I'>\n",
      "<re.Match object; span=(50, 51), match=' '>\n",
      "<re.Match object; span=(51, 52), match='a'>\n",
      "<re.Match object; span=(52, 53), match='m'>\n",
      "<re.Match object; span=(53, 54), match=' '>\n",
      "<re.Match object; span=(54, 55), match='w'>\n",
      "<re.Match object; span=(55, 56), match='o'>\n",
      "<re.Match object; span=(56, 57), match='r'>\n",
      "<re.Match object; span=(57, 58), match='k'>\n",
      "<re.Match object; span=(58, 59), match='i'>\n",
      "<re.Match object; span=(59, 60), match='n'>\n",
      "<re.Match object; span=(60, 61), match='g'>\n",
      "<re.Match object; span=(61, 62), match=' '>\n",
      "<re.Match object; span=(62, 63), match='a'>\n",
      "<re.Match object; span=(63, 64), match='s'>\n",
      "<re.Match object; span=(64, 65), match=' '>\n",
      "<re.Match object; span=(65, 66), match='a'>\n",
      "<re.Match object; span=(66, 67), match=' '>\n",
      "<re.Match object; span=(67, 68), match='S'>\n",
      "<re.Match object; span=(68, 69), match='r'>\n",
      "<re.Match object; span=(69, 70), match='.'>\n",
      "<re.Match object; span=(70, 71), match=' '>\n",
      "<re.Match object; span=(71, 72), match='D'>\n",
      "<re.Match object; span=(72, 73), match='a'>\n",
      "<re.Match object; span=(73, 74), match='t'>\n",
      "<re.Match object; span=(74, 75), match='a'>\n",
      "<re.Match object; span=(75, 76), match=' '>\n",
      "<re.Match object; span=(77, 78), match='n'>\n",
      "<re.Match object; span=(78, 79), match='a'>\n",
      "<re.Match object; span=(79, 80), match='l'>\n",
      "<re.Match object; span=(80, 81), match='y'>\n",
      "<re.Match object; span=(81, 82), match='s'>\n",
      "<re.Match object; span=(82, 83), match='t'>\n"
     ]
    }
   ],
   "source": [
    "pat = r'[^A]'\n",
    "\n",
    "x = re.finditer(pat, text)\n",
    "print(x)\n",
    "\n",
    "for i in x:\n",
    "    print(i)"
   ]
  },
  {
   "cell_type": "markdown",
   "id": "8d9e4df8",
   "metadata": {},
   "source": [
    "### | (or) \n",
    "\n",
    "abc|xyz\n",
    "\n",
    "- It matches either abc or xyz whatever the case may be "
   ]
  },
  {
   "cell_type": "code",
   "execution_count": 86,
   "id": "ed37f50e",
   "metadata": {},
   "outputs": [
    {
     "name": "stdout",
     "output_type": "stream",
     "text": [
      "<callable_iterator object at 0x0000022156CB3A60>\n",
      "<re.Match object; span=(0, 3), match='abc'>\n",
      "<re.Match object; span=(8, 11), match='xyz'>\n",
      "<re.Match object; span=(41, 44), match='abc'>\n",
      "<re.Match object; span=(48, 51), match='xyz'>\n"
     ]
    }
   ],
   "source": [
    "text = 'abc.com xyz.com jkl.com mno.com info.com abc.in xyz.co'\n",
    "\n",
    "pat = r'abc|xyz'\n",
    "\n",
    "x = re.finditer(pat, text)\n",
    "print(x)\n",
    "\n",
    "for i in x:\n",
    "    print(i)"
   ]
  },
  {
   "cell_type": "markdown",
   "id": "7207434e",
   "metadata": {},
   "source": [
    "### () - group\n",
    "\n",
    "- It is used to group pattern together"
   ]
  },
  {
   "cell_type": "code",
   "execution_count": 89,
   "id": "b6adf940",
   "metadata": {},
   "outputs": [
    {
     "name": "stdout",
     "output_type": "stream",
     "text": [
      "<callable_iterator object at 0x0000022156D06EC0>\n",
      "<re.Match object; span=(0, 7), match='abc.com'>\n",
      "<re.Match object; span=(8, 15), match='xyz.com'>\n",
      "<re.Match object; span=(32, 40), match='info.com'>\n",
      "<re.Match object; span=(41, 47), match='abc.in'>\n",
      "<re.Match object; span=(48, 54), match='xyz.co'>\n"
     ]
    }
   ],
   "source": [
    "# abc.com xyz.com info.com\n",
    "\n",
    "text = 'abc.com xyz.com jkl.com mno.com info.com abc.in xyz.co'\n",
    "\n",
    "pat = r'(abc|xyz|info).(com|in|co)'\n",
    "\n",
    "x = re.finditer(pat, text)\n",
    "print(x)\n",
    "\n",
    "for i in x:\n",
    "    print(i)"
   ]
  },
  {
   "cell_type": "code",
   "execution_count": 90,
   "id": "c00a70a4",
   "metadata": {},
   "outputs": [
    {
     "name": "stdout",
     "output_type": "stream",
     "text": [
      "<callable_iterator object at 0x0000022156D06E60>\n",
      "<re.Match object; span=(0, 3), match='bat'>\n",
      "<re.Match object; span=(4, 7), match='mat'>\n",
      "<re.Match object; span=(8, 11), match='cat'>\n",
      "<re.Match object; span=(20, 23), match='hat'>\n"
     ]
    }
   ],
   "source": [
    "text = 'bat mat cat pet set hat jet bed'\n",
    "\n",
    "pat = r'(b|m|c|h|j|s)at'\n",
    "\n",
    "x = re.finditer(pat, text)\n",
    "print(x)\n",
    "\n",
    "for i in x:\n",
    "    print(i)"
   ]
  },
  {
   "cell_type": "code",
   "execution_count": 92,
   "id": "8e93f618",
   "metadata": {},
   "outputs": [
    {
     "name": "stdout",
     "output_type": "stream",
     "text": [
      "<callable_iterator object at 0x0000022156D06440>\n",
      "<re.Match object; span=(0, 3), match='bat'>\n",
      "<re.Match object; span=(4, 7), match='mat'>\n",
      "<re.Match object; span=(8, 11), match='cat'>\n",
      "<re.Match object; span=(20, 23), match='hat'>\n",
      "<re.Match object; span=(28, 31), match='bed'>\n"
     ]
    }
   ],
   "source": [
    "text = 'bat mat cat pet set hat jet bed'\n",
    "\n",
    "pat = r'([a-z])(at|ed)'\n",
    "\n",
    "x = re.finditer(pat, text)\n",
    "print(x)\n",
    "\n",
    "for i in x:\n",
    "    print(i)"
   ]
  },
  {
   "cell_type": "code",
   "execution_count": null,
   "id": "76e054d4",
   "metadata": {},
   "outputs": [],
   "source": []
  }
 ],
 "metadata": {
  "kernelspec": {
   "display_name": "Python 3 (ipykernel)",
   "language": "python",
   "name": "python3"
  },
  "language_info": {
   "codemirror_mode": {
    "name": "ipython",
    "version": 3
   },
   "file_extension": ".py",
   "mimetype": "text/x-python",
   "name": "python",
   "nbconvert_exporter": "python",
   "pygments_lexer": "ipython3",
   "version": "3.11.5"
  }
 },
 "nbformat": 4,
 "nbformat_minor": 5
}
