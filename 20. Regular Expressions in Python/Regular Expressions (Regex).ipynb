{
 "cells": [
  {
   "cell_type": "markdown",
   "id": "f3f82a6c",
   "metadata": {},
   "source": [
    "### Regex - Regular Expressions"
   ]
  },
  {
   "cell_type": "markdown",
   "id": "a9fd49eb",
   "metadata": {},
   "source": [
    "What we will cover:\n",
    "\n",
    "1. What are regular expressions? How are they different from string find or index method?\n",
    "2. Why do we use r' (raw string) while creating our patterns to match? \\ the escape character\n",
    "3. Some functions in regex library : findall, finditer, search, match, compile\n",
    "4. Match objects and methods on match objects\n",
    "5. Special sequences\n",
    "6. Metacharacters\n",
    "7. Quantifiers\n",
    "8. Flags\n",
    "9. Some more regular expression functions"
   ]
  },
  {
   "cell_type": "code",
   "execution_count": 1,
   "id": "5539402f",
   "metadata": {},
   "outputs": [
    {
     "data": {
      "text/plain": [
       "' Yashoda is the VP of Marketing     yashoda@gmail.com\\nnoorjahan@yahoo.com CEO of XYZ company\\nabhijit@outlook.com  Owns his own startup in the AI space\\narun@hotmail.com   jkagakjg\\na;iugagj   afrin@rediffmail.com'"
      ]
     },
     "execution_count": 1,
     "metadata": {},
     "output_type": "execute_result"
    }
   ],
   "source": [
    "''' Yashoda is the VP of Marketing     yashoda@gmail.com\n",
    "noorjahan@yahoo.com CEO of XYZ company\n",
    "abhijit@outlook.com  Owns his own startup in the AI space\n",
    "arun@hotmail.com   jkagakjg\n",
    "a;iugagj   afrin@rediffmail.com'''\n"
   ]
  },
  {
   "cell_type": "code",
   "execution_count": null,
   "id": "bc19bb76",
   "metadata": {},
   "outputs": [],
   "source": [
    "# Many times, we need to extract required information from given text data. For example, we want to know the number of\n",
    "# people who contacted us in the last month through Gmail or we want to know the phone numbers of employees in a company \n",
    "# whose names start with 'A' or we want to retrieve the date of births of the patients in a hospital who joined for\n",
    "# treatment for hypertension, etc. To get such information, we have to conduct a searching operation on the text data. Once\n",
    "# the required information is found, we may have to perform further operations on such data. Regular expressions are useful\n",
    "# to perform such operations on data."
   ]
  },
  {
   "cell_type": "code",
   "execution_count": 1,
   "id": "4dc47361",
   "metadata": {},
   "outputs": [
    {
     "data": {
      "text/plain": [
       "6"
      ]
     },
     "execution_count": 1,
     "metadata": {},
     "output_type": "execute_result"
    }
   ],
   "source": [
    "# Regular Expressions\n",
    "# A regular expression is a string that contains special symbols and characters to find and extract the information needed\n",
    "# by us from the given data. \n",
    "\n",
    "# Where a string method in Python to search for a substring in a string would look like this:\n",
    "\n",
    "input_str = 'Betty bought some butter but the butter was bitter so Betty bought some better butter to make\\\n",
    "the bitter butter better'\n",
    "\n",
    "sub_str = 'bought'\n",
    "\n",
    "input_str.find(sub_str)\n"
   ]
  },
  {
   "cell_type": "code",
   "execution_count": 2,
   "id": "df03acf7",
   "metadata": {},
   "outputs": [
    {
     "name": "stdout",
     "output_type": "stream",
     "text": [
      "['bought', 'butter', 'but', 'butter', 'bitter', 'bought', 'better', 'butter', 'bitter', 'butter', 'better']\n"
     ]
    }
   ],
   "source": [
    "import re\n",
    "\n",
    "sub_re = 'b\\w+'\n",
    "\n",
    "result = re.findall(sub_re, input_str)\n",
    "print(result)"
   ]
  },
  {
   "cell_type": "code",
   "execution_count": null,
   "id": "f9427236",
   "metadata": {},
   "outputs": [],
   "source": [
    "print(len(result))\n",
    "\n",
    "# We can use the findall method of the re module to look for all the occurrences of 'b'. "
   ]
  },
  {
   "cell_type": "code",
   "execution_count": 3,
   "id": "d3d37267",
   "metadata": {},
   "outputs": [
    {
     "name": "stdout",
     "output_type": "stream",
     "text": [
      "['A', 'ASCII', 'DEBUG', 'DOTALL', 'I', 'IGNORECASE', 'L', 'LOCALE', 'M', 'MULTILINE', 'Match', 'Pattern', 'RegexFlag', 'S', 'Scanner', 'T', 'TEMPLATE', 'U', 'UNICODE', 'VERBOSE', 'X', '_MAXCACHE', '__all__', '__builtins__', '__cached__', '__doc__', '__file__', '__loader__', '__name__', '__package__', '__spec__', '__version__', '_cache', '_compile', '_compile_repl', '_expand', '_locale', '_pickle', '_special_chars_map', '_subx', 'compile', 'copyreg', 'enum', 'error', 'escape', 'findall', 'finditer', 'fullmatch', 'functools', 'match', 'purge', 'search', 'split', 'sre_compile', 'sre_parse', 'sub', 'subn', 'template']\n"
     ]
    }
   ],
   "source": [
    "print(dir(re))"
   ]
  },
  {
   "cell_type": "code",
   "execution_count": 8,
   "id": "d34110a3",
   "metadata": {},
   "outputs": [
    {
     "name": "stdout",
     "output_type": "stream",
     "text": [
      "['bought', 'butter', 'but', 'butter', 'bitter', 'bought', 'better', 'butter', 'bitter', 'butter', 'better']\n"
     ]
    }
   ],
   "source": [
    "sub_re = re.compile('b\\w+')\n",
    "\n",
    "result = re.findall(re.compile('b\\w+'), input_str)\n",
    "print(result)"
   ]
  },
  {
   "cell_type": "code",
   "execution_count": 7,
   "id": "41ce8512",
   "metadata": {},
   "outputs": [
    {
     "name": "stdout",
     "output_type": "stream",
     "text": [
      "<class 're.Pattern'>\n"
     ]
    }
   ],
   "source": [
    "print(type(sub_re))"
   ]
  },
  {
   "cell_type": "code",
   "execution_count": 9,
   "id": "73d6309f",
   "metadata": {},
   "outputs": [
    {
     "name": "stdout",
     "output_type": "stream",
     "text": [
      "['bought', 'butter', 'but', 'butter', 'bitter', 'bought', 'better', 'butter', 'bitter', 'butter', 'better']\n"
     ]
    }
   ],
   "source": [
    "result2 = sub_re.findall(input_str)\n",
    "\n",
    "print(result2)"
   ]
  },
  {
   "cell_type": "code",
   "execution_count": 10,
   "id": "ae9884de",
   "metadata": {},
   "outputs": [],
   "source": [
    "# search, finditer and match - all these ouput 'match objects'\n",
    "\n",
    "# search will only find the first occurrence of the pattern match"
   ]
  },
  {
   "cell_type": "code",
   "execution_count": 11,
   "id": "44c7032d",
   "metadata": {},
   "outputs": [
    {
     "name": "stdout",
     "output_type": "stream",
     "text": [
      "Betty bought some butter but the butter was bitter so Betty bought some better butter to makethe bitter butter better\n"
     ]
    }
   ],
   "source": [
    "print(input_str)"
   ]
  },
  {
   "cell_type": "code",
   "execution_count": 12,
   "id": "265b93d4",
   "metadata": {},
   "outputs": [
    {
     "name": "stdout",
     "output_type": "stream",
     "text": [
      "<re.Match object; span=(6, 12), match='bought'>\n"
     ]
    }
   ],
   "source": [
    "sub_re = 'b\\w+'\n",
    "\n",
    "result = re.search(sub_re, input_str)\n",
    "\n",
    "print(result)"
   ]
  },
  {
   "cell_type": "code",
   "execution_count": 13,
   "id": "e22ca846",
   "metadata": {},
   "outputs": [
    {
     "name": "stdout",
     "output_type": "stream",
     "text": [
      "(6, 12)\n"
     ]
    }
   ],
   "source": [
    "# Attributes/methods of a match object. \n",
    "\n",
    "print(result.span())"
   ]
  },
  {
   "cell_type": "code",
   "execution_count": 14,
   "id": "45d8d525",
   "metadata": {},
   "outputs": [
    {
     "name": "stdout",
     "output_type": "stream",
     "text": [
      "6\n"
     ]
    }
   ],
   "source": [
    "print(result.start())"
   ]
  },
  {
   "cell_type": "code",
   "execution_count": 15,
   "id": "f75bbaf2",
   "metadata": {},
   "outputs": [
    {
     "name": "stdout",
     "output_type": "stream",
     "text": [
      "12\n"
     ]
    }
   ],
   "source": [
    "print(result.end())"
   ]
  },
  {
   "cell_type": "code",
   "execution_count": 16,
   "id": "760dd0c6",
   "metadata": {},
   "outputs": [
    {
     "name": "stdout",
     "output_type": "stream",
     "text": [
      "Betty bought some butter but the butter was bitter so Betty bought some better butter to makethe bitter butter better\n"
     ]
    }
   ],
   "source": [
    "print(result.string)"
   ]
  },
  {
   "cell_type": "code",
   "execution_count": 18,
   "id": "db7b9177",
   "metadata": {},
   "outputs": [
    {
     "name": "stdout",
     "output_type": "stream",
     "text": [
      "bought\n"
     ]
    }
   ],
   "source": [
    "print(result.group())"
   ]
  },
  {
   "cell_type": "code",
   "execution_count": 17,
   "id": "b265f386",
   "metadata": {},
   "outputs": [
    {
     "name": "stdout",
     "output_type": "stream",
     "text": [
      "['__class__', '__class_getitem__', '__copy__', '__deepcopy__', '__delattr__', '__dir__', '__doc__', '__eq__', '__format__', '__ge__', '__getattribute__', '__getitem__', '__gt__', '__hash__', '__init__', '__init_subclass__', '__le__', '__lt__', '__ne__', '__new__', '__reduce__', '__reduce_ex__', '__repr__', '__setattr__', '__sizeof__', '__str__', '__subclasshook__', 'end', 'endpos', 'expand', 'group', 'groupdict', 'groups', 'lastgroup', 'lastindex', 'pos', 're', 'regs', 'span', 'start', 'string']\n"
     ]
    }
   ],
   "source": [
    "print(dir(result))"
   ]
  },
  {
   "cell_type": "code",
   "execution_count": null,
   "id": "5713d399",
   "metadata": {},
   "outputs": [],
   "source": [
    "# match method will only find the match at the beginning of the string"
   ]
  },
  {
   "cell_type": "code",
   "execution_count": 19,
   "id": "115a31bf",
   "metadata": {},
   "outputs": [
    {
     "name": "stdout",
     "output_type": "stream",
     "text": [
      "Betty bought some butter but the butter was bitter so Betty bought some better butter to makethe bitter butter better\n"
     ]
    }
   ],
   "source": [
    "print(input_str)"
   ]
  },
  {
   "cell_type": "code",
   "execution_count": 25,
   "id": "ed246bb5",
   "metadata": {},
   "outputs": [
    {
     "name": "stdout",
     "output_type": "stream",
     "text": [
      "<re.Match object; span=(0, 5), match='Betty'>\n",
      "(0, 5)\n",
      "Betty\n"
     ]
    }
   ],
   "source": [
    "input_str = 'Betty bought some butter but the butter was bitter so Betty bought some better butter to makethe bitter butter better'\n",
    "\n",
    "sub_re = 'B\\w+'\n",
    "\n",
    "result = re.match(sub_re, input_str)\n",
    "\n",
    "print(result)\n",
    "\n",
    "print(result.span())\n",
    "print(result.group())"
   ]
  },
  {
   "cell_type": "code",
   "execution_count": 33,
   "id": "bad5627b",
   "metadata": {},
   "outputs": [
    {
     "name": "stdout",
     "output_type": "stream",
     "text": [
      "<callable_iterator object at 0x000001F74BD511F0>\n"
     ]
    }
   ],
   "source": [
    "# finditer method - finds ALL the matches of the patter but returns iter object with the match objects in it.\n",
    "\n",
    "input_str = 'Betty bought some butter but the butter was bitter so Betty bought some better butter to makethe bitter butter better'\n",
    "\n",
    "sub_re = 'b\\w+'\n",
    "\n",
    "result = re.finditer(sub_re, input_str)\n",
    "\n",
    "print(result)\n"
   ]
  },
  {
   "cell_type": "code",
   "execution_count": 32,
   "id": "69dcd411",
   "metadata": {},
   "outputs": [
    {
     "name": "stdout",
     "output_type": "stream",
     "text": [
      "6 bought\n",
      "18 butter\n",
      "25 but\n",
      "33 butter\n",
      "44 bitter\n",
      "60 bought\n",
      "72 better\n",
      "79 butter\n",
      "97 bitter\n",
      "104 butter\n",
      "111 better\n"
     ]
    }
   ],
   "source": [
    "for everymatch in result:\n",
    "    print(everymatch.start(), everymatch.group())\n",
    "    "
   ]
  },
  {
   "cell_type": "code",
   "execution_count": 35,
   "id": "2f00bfdf",
   "metadata": {},
   "outputs": [
    {
     "name": "stdout",
     "output_type": "stream",
     "text": [
      "Betty bought some butter but the butter was bitter so Betty bought some better butter to makethe bitter butter better\n"
     ]
    }
   ],
   "source": [
    "print(input_str)"
   ]
  },
  {
   "cell_type": "code",
   "execution_count": 42,
   "id": "a5356513",
   "metadata": {},
   "outputs": [
    {
     "name": "stdout",
     "output_type": "stream",
     "text": [
      "['bought', 'butterbut', 'butter', 'bitter', 'bought', 'better', 'butter', 'bitter', 'butter', 'better']\n"
     ]
    }
   ],
   "source": [
    "input_str = 'Betty bought some butterbut the butter was bitter so Betty bought some better butter to makethe bitter butter better'\n",
    "\n",
    "sub_re = r'b\\w+'\n",
    "\n",
    "result = re.findall(sub_re, input_str)\n",
    "\n",
    "print(result)"
   ]
  },
  {
   "cell_type": "code",
   "execution_count": null,
   "id": "fd6dbb4b",
   "metadata": {},
   "outputs": [],
   "source": [
    "# RegEx always moves character by character to find the match and performs a 'greedy' match. "
   ]
  },
  {
   "cell_type": "code",
   "execution_count": null,
   "id": "361a0997",
   "metadata": {},
   "outputs": [],
   "source": [
    "# However, if we wanted to find out all the occurrences of b - whether small or capital, we would have to do some\n",
    "# manipulations to get the desired result. Regex gives us tools to handle these queries and operations in a much simpler\n",
    "# manner. \n",
    "\n",
    "input_str = 'Betty bought some butterbut the butter was bitter so Betty bought some better butter to make\\\n",
    "the bitter butter better'\n",
    "\n",
    "sub_re = 'b\\w+'\n",
    "result = re.findall(sub_re, input_str)\n",
    "print(result)\n",
    "print(len(result))\n"
   ]
  },
  {
   "cell_type": "code",
   "execution_count": null,
   "id": "0f9c9e7c",
   "metadata": {},
   "outputs": [],
   "source": []
  },
  {
   "cell_type": "code",
   "execution_count": null,
   "id": "196dbe8d",
   "metadata": {},
   "outputs": [],
   "source": [
    "# Note here how the capital B was also returned in the result. We shall see the other available methods in regex module \n",
    "# shortly."
   ]
  },
  {
   "cell_type": "code",
   "execution_count": null,
   "id": "e01441d3",
   "metadata": {},
   "outputs": [],
   "source": [
    "# A regular expression helps us to search match, find and split based on specified patterns as per\n",
    "# our requirements. A regular expression is also called simply regex. Regular expressions are available in many languages\n",
    "# besides Python. \n",
    "\n",
    "\n",
    "# Python provides re module that stands for regular expressions. This module contains methods\n",
    "# like compile(), search(), match(), findall(), split(), etc. which are used in finding the information in\n",
    "# the available data. So, when we write a regular expression, we should import re module as:\n",
    "\n",
    "import re"
   ]
  },
  {
   "cell_type": "markdown",
   "id": "6072474c",
   "metadata": {},
   "source": [
    "#### The re module has several methods to help us write regex. \n",
    "\n",
    "search - returns a match object if the substring is matched in the string to be searched. It returns only the first\n",
    "occurrence of the match.\n",
    "\n",
    "findall - returns a list containing all matches\n",
    "\n",
    "split - returns a list where string has been split at each pattern match. \n",
    "\n",
    "sub - replaces one or many pattern matches with a specified string. \n",
    "\n",
    "As well as other methods which we shall see in a bit."
   ]
  },
  {
   "cell_type": "code",
   "execution_count": null,
   "id": "4edae214",
   "metadata": {},
   "outputs": [],
   "source": [
    "import re\n",
    "\n",
    "input_str = 'Betty bought some butter but the butter was bitter so Betty bought some better butter to make\\\n",
    "the bitter butter better'\n",
    "\n",
    "sub_re = '[bB]\\w+'\n",
    "result = re.findall(sub_re, input_str)\n"
   ]
  },
  {
   "cell_type": "code",
   "execution_count": null,
   "id": "35676a47",
   "metadata": {},
   "outputs": [],
   "source": [
    "print(result)"
   ]
  },
  {
   "cell_type": "code",
   "execution_count": null,
   "id": "a520c944",
   "metadata": {},
   "outputs": [],
   "source": [
    "#compile method"
   ]
  },
  {
   "cell_type": "code",
   "execution_count": null,
   "id": "76be24f7",
   "metadata": {},
   "outputs": [],
   "source": [
    "sub_re = '[bB]\\w+'\n",
    "\n",
    "print(sub_re)\n",
    "\n",
    "result = re.findall(re.compile(sub_re), input_str)\\\n",
    "\n",
    "print(result)"
   ]
  },
  {
   "cell_type": "code",
   "execution_count": null,
   "id": "70314cf5",
   "metadata": {},
   "outputs": [],
   "source": [
    "result = sub_re.findall(input_str)\n",
    "\n",
    "print(result)"
   ]
  },
  {
   "cell_type": "code",
   "execution_count": null,
   "id": "5640c7d9",
   "metadata": {},
   "outputs": [],
   "source": [
    "print(input_str)"
   ]
  },
  {
   "cell_type": "code",
   "execution_count": null,
   "id": "0c9b7254",
   "metadata": {},
   "outputs": [],
   "source": [
    "input_str = 'Betty bought some butter but the butter was bitter so Betty bought some better butter to make the bitter butter better.'"
   ]
  },
  {
   "cell_type": "code",
   "execution_count": null,
   "id": "a4b65553",
   "metadata": {},
   "outputs": [],
   "source": [
    "sub_re = r'\\bt\\w+'\n",
    "\n",
    "searchobj = re.findall(sub_re, input_str)\n",
    "\n",
    "print(searchobj)"
   ]
  },
  {
   "cell_type": "code",
   "execution_count": null,
   "id": "c4a12fc9",
   "metadata": {},
   "outputs": [],
   "source": [
    "print(searchobj.span())"
   ]
  },
  {
   "cell_type": "code",
   "execution_count": null,
   "id": "ff9e4b1a",
   "metadata": {},
   "outputs": [],
   "source": [
    "print(searchobj.group())"
   ]
  },
  {
   "cell_type": "code",
   "execution_count": null,
   "id": "e5a3c804",
   "metadata": {},
   "outputs": [],
   "source": [
    "print(searchobj.start())\n",
    "print(searchobj.end())"
   ]
  },
  {
   "cell_type": "code",
   "execution_count": null,
   "id": "1b24d8d2",
   "metadata": {},
   "outputs": [],
   "source": [
    "print(searchobj.string)"
   ]
  },
  {
   "cell_type": "code",
   "execution_count": null,
   "id": "0d6ed3ef",
   "metadata": {},
   "outputs": [],
   "source": [
    "sub_re = r'b\\w+'\n",
    "\n",
    "matchobj = re.match(sub_re, input_str)\n",
    "\n",
    "print(matchobj)"
   ]
  },
  {
   "cell_type": "code",
   "execution_count": null,
   "id": "8aced24c",
   "metadata": {},
   "outputs": [],
   "source": [
    "print(matchobj.span())"
   ]
  },
  {
   "cell_type": "code",
   "execution_count": null,
   "id": "77a7b8fb",
   "metadata": {},
   "outputs": [],
   "source": [
    "finditerobj = list(re.finditer(sub_re, input_str))\n",
    "\n",
    "print(finditerobj)"
   ]
  },
  {
   "cell_type": "code",
   "execution_count": null,
   "id": "9d4fb051",
   "metadata": {},
   "outputs": [],
   "source": [
    "input_str[6:12]"
   ]
  },
  {
   "cell_type": "code",
   "execution_count": null,
   "id": "ceb5fae9",
   "metadata": {},
   "outputs": [],
   "source": [
    "for each in finditerobj:\n",
    "    print(each.group())"
   ]
  },
  {
   "cell_type": "code",
   "execution_count": null,
   "id": "7d63a7ff",
   "metadata": {},
   "outputs": [],
   "source": [
    "# While going forward - it is important to remember that the RegEx module works character by character from left to right \n",
    "# i.e. continues matching the pattern and keeps going on as long as the conditions for matching are continuing to be\n",
    "# satisfied (or not satisfied depending on how the regex pattern is written). You shall see examples of this later in the\n",
    "# class."
   ]
  },
  {
   "cell_type": "code",
   "execution_count": null,
   "id": "f72978ed",
   "metadata": {},
   "outputs": [],
   "source": [
    "* - 0 to infinity occurrences of the preceding sequence or character\n",
    "+ - 1 to infinity occurrences of the preceding sequence or character"
   ]
  },
  {
   "cell_type": "code",
   "execution_count": null,
   "id": "352e5c3e",
   "metadata": {},
   "outputs": [],
   "source": [
    "input_str = 'a b bx bxx bxyz'\n",
    "\n",
    "sub_str = r'b\\w+'\n",
    "\n",
    "result = re.findall(sub_str, input_str)\n",
    "\n",
    "print(result)"
   ]
  },
  {
   "cell_type": "code",
   "execution_count": null,
   "id": "b7c1fc92",
   "metadata": {},
   "outputs": [],
   "source": [
    "* = Whatever character preceding the star - look for 0 to infinity occurrences\n",
    "+ = Whatever character preceding the plus - look for 1 to infinity occurrences\n"
   ]
  },
  {
   "cell_type": "code",
   "execution_count": null,
   "id": "4d6e2c34",
   "metadata": {},
   "outputs": [],
   "source": [
    "input_str = 'buuuuuutter btter butter'\n",
    "\n",
    "sub_str = r'bu+tter'\n",
    "\n",
    "result = re.findall(sub_str, input_str)\n",
    "\n",
    "print(result)"
   ]
  },
  {
   "cell_type": "code",
   "execution_count": null,
   "id": "bd35124e",
   "metadata": {},
   "outputs": [],
   "source": [
    "\\A = ^ means beginning of string\n",
    "\n",
    "\\Z = $ - means at end of string\n",
    "\n",
    "\n"
   ]
  },
  {
   "cell_type": "code",
   "execution_count": null,
   "id": "743e2735",
   "metadata": {},
   "outputs": [],
   "source": [
    "# List of special sequences. A special sequence is a \\ followed by one of the characters from list below and each special\n",
    "# sequence has a special meaning.\n",
    "\n",
    "# Special Sequence             Description\n",
    "# \\A                           Matches if the string begins with the given pattern\n",
    "\n",
    "# \\b                           Matches if the word begins or ends with the given character.(\\b before pattern to check if it\n",
    "#                              begins with the pattern and \\b after pattern to see if it ends with the specified pattern).\n",
    "# \\B                           It is the opposite of the \\b i.e. the word should not start or end with the given regex.\n",
    "# \\d                           Matches any decimal digit, this is equivalent to the set class [0-9]\n",
    "# \\D                           Matches any non-digit character, this is equivalent to the set class [^0-9]\n",
    "# \\s                           Matches any whitespace character.\n",
    "# \\S                           Matches any non-whitespace character\n",
    "# \\w                           Matches any alphanumeric character, this is equivalent to the class [a-zA-Z0-9_].\n",
    "# \\W                           Matches any non-alphanumeric character.\n",
    "# \\Z                           Matches if the string ends with the given regex"
   ]
  },
  {
   "cell_type": "code",
   "execution_count": null,
   "id": "c89f1dd3",
   "metadata": {},
   "outputs": [],
   "source": [
    "* - 0 or more occurrences of the character or sequence preceding\n",
    "\n",
    "a* = 0 or more occurrences of a\n",
    "\\w* = 0 or more ocurrences of \\w alphanumeric character\n",
    "\n",
    "+ - 1 or more occurrences of the character or sequence preceding it.\n",
    "\n",
    "a+ - 1 or more occurrences of a\n",
    "\\w+ - 1 or more occurrences of alphanumeric character."
   ]
  },
  {
   "cell_type": "code",
   "execution_count": 52,
   "id": "06909fa7",
   "metadata": {},
   "outputs": [],
   "source": [
    "import re\n",
    "\n",
    "input_str = 'Betty b0ught some butt3r but the bu!tb3rrrr w@s b!tbt3r s0 Betty b0u6ht s0me Bett3r butt3r to m@k3 the b!tt3r\\\n",
    "butt3r b3tt3r'"
   ]
  },
  {
   "cell_type": "code",
   "execution_count": 53,
   "id": "e758137f",
   "metadata": {},
   "outputs": [
    {
     "name": "stdout",
     "output_type": "stream",
     "text": [
      "['Betty']\n"
     ]
    }
   ],
   "source": [
    "sub_re = r'\\AB\\w+'\n",
    "\n",
    "result = re.findall(sub_re, input_str)\n",
    "\n",
    "print(result)"
   ]
  },
  {
   "cell_type": "code",
   "execution_count": 55,
   "id": "3b756bf4",
   "metadata": {},
   "outputs": [
    {
     "name": "stdout",
     "output_type": "stream",
     "text": [
      "['b3tt3r']\n"
     ]
    }
   ],
   "source": [
    "sub_str = r'\\w+r\\Z'\n",
    "\n",
    "result = re.findall(sub_str, input_str)\n",
    "\n",
    "print(result)"
   ]
  },
  {
   "cell_type": "code",
   "execution_count": 59,
   "id": "15652b4b",
   "metadata": {},
   "outputs": [
    {
     "name": "stdout",
     "output_type": "stream",
     "text": [
      "['b0ught', 'but', 'b0u6ht']\n"
     ]
    }
   ],
   "source": [
    "sub_str = r'\\w+t\\b'\n",
    "\n",
    "result = re.findall(sub_str,input_str)\n",
    "\n",
    "print(result)"
   ]
  },
  {
   "cell_type": "code",
   "execution_count": 60,
   "id": "ea354e77",
   "metadata": {},
   "outputs": [],
   "source": [
    "#\\B - Means the pattern should be matched BUT should not be at the beginning of the string \n",
    "\n",
    "# IT DOES NOT MEAN\n",
    "\n",
    "# Match any string where the given pattern is not at the beginning. "
   ]
  },
  {
   "cell_type": "code",
   "execution_count": 61,
   "id": "38521553",
   "metadata": {},
   "outputs": [
    {
     "name": "stdout",
     "output_type": "stream",
     "text": [
      "Betty b0ught some butt3r but the bu!tb3rrrr w@s b!tbt3r s0 Betty b0u6ht s0me Bett3r butt3r to m@k3 the b!tt3rbutt3r b3tt3r\n"
     ]
    }
   ],
   "source": [
    "print(input_str)"
   ]
  },
  {
   "cell_type": "code",
   "execution_count": null,
   "id": "787d2f3d",
   "metadata": {},
   "outputs": [],
   "source": [
    "\\b is either beginning or end of word\n",
    "\\B is NOT at beginning or end of word"
   ]
  },
  {
   "cell_type": "code",
   "execution_count": 63,
   "id": "f29ee58e",
   "metadata": {},
   "outputs": [
    {
     "name": "stdout",
     "output_type": "stream",
     "text": [
      "['Bett', 'butt', 'tbt', 'Bett', 'Bett', 'butt', 'tt3rbutt', 'b3tt']\n"
     ]
    }
   ],
   "source": [
    "input_str = 'Betty b0ught some butt3r but the bu!tb3rrrr w@s b!tbt3r s0 Betty b0u6ht s0me Bett3r butt3r to m@k3 the b!tt3rbutt3r b3tt3r'\n",
    "\n",
    "sub_re = '\\w+t\\B'\n",
    "\n",
    "result = re.findall(sub_re, input_str)\n",
    "\n",
    "print(result)"
   ]
  },
  {
   "cell_type": "code",
   "execution_count": null,
   "id": "2864eb5c",
   "metadata": {},
   "outputs": [],
   "source": [
    "# \\d - for any digit (0~9), \\D - Non digit"
   ]
  },
  {
   "cell_type": "code",
   "execution_count": 64,
   "id": "9580f5a3",
   "metadata": {},
   "outputs": [
    {
     "name": "stdout",
     "output_type": "stream",
     "text": [
      "['b0ught', 'b3rrrr', 'b0u6ht', 'b3tt3r']\n"
     ]
    }
   ],
   "source": [
    "sub_re = 'b\\d\\w+'\n",
    "\n",
    "result = re.findall(sub_re, input_str)\n",
    "\n",
    "print(result)"
   ]
  },
  {
   "cell_type": "code",
   "execution_count": 65,
   "id": "05c66e38",
   "metadata": {},
   "outputs": [
    {
     "name": "stdout",
     "output_type": "stream",
     "text": [
      "['Betty ', 'b0ught ', 'some ', 'butt3r ', 'but ', 'the ', 'bu!', 'tb3rrrr ', 'w@', 's ', 'b!', 'tbt3r ', 's0 ', 'Betty ', 'b0u6ht ', 's0me ', 'Bett3r ', 'butt3r ', 'to ', 'm@', 'k3 ', 'the ', 'b!', 'tt3rbutt3r ', 'b3tt3r']\n"
     ]
    }
   ],
   "source": [
    "sub_re = '\\w+\\D'\n",
    "\n",
    "result = re.findall(sub_re, input_str)\n",
    "\n",
    "print(result)"
   ]
  },
  {
   "cell_type": "code",
   "execution_count": 66,
   "id": "b54c3e8e",
   "metadata": {},
   "outputs": [
    {
     "name": "stdout",
     "output_type": "stream",
     "text": [
      "Betty b0ught some butt3r but the bu!tb3rrrr w@s b!tbt3r s0 Betty b0u6ht s0me Bett3r butt3r to m@k3 the b!tt3rbutt3r b3tt3r\n"
     ]
    }
   ],
   "source": [
    "print(input_str)"
   ]
  },
  {
   "cell_type": "code",
   "execution_count": 67,
   "id": "0384ce5f",
   "metadata": {},
   "outputs": [],
   "source": [
    "input_str = 'Aayush Nanda CEO, Sankara Narayan VP Finance, Raja Imitha CTO, Harsha Singh Founder/Owner, Sravanthi Reddy CFO'"
   ]
  },
  {
   "cell_type": "code",
   "execution_count": 72,
   "id": "fc7b16dc",
   "metadata": {},
   "outputs": [
    {
     "name": "stdout",
     "output_type": "stream",
     "text": [
      "['Aayush Nanda', 'Sankara Narayan', 'VP Finance', 'Raja Imitha', 'Harsha Singh', 'Sravanthi Reddy']\n"
     ]
    }
   ],
   "source": [
    "sub_re = '\\w+\\s\\w+'\n",
    "\n",
    "result = re.findall(sub_re, input_str)\n",
    "\n",
    "print(result)"
   ]
  },
  {
   "cell_type": "code",
   "execution_count": null,
   "id": "27bd8b8e",
   "metadata": {},
   "outputs": [],
   "source": [
    "# \\w - Alphanumeric"
   ]
  },
  {
   "cell_type": "code",
   "execution_count": 73,
   "id": "76cc8bcb",
   "metadata": {},
   "outputs": [
    {
     "name": "stdout",
     "output_type": "stream",
     "text": [
      "[' ', ' ', ' ', ' ', ' ', ' ', '!', ' ', '@', ' ', '!', ' ', ' ', ' ', ' ', ' ', ' ', ' ', ' ', '@', ' ', ' ', '!', ' ']\n"
     ]
    }
   ],
   "source": [
    "# \\W - Non-Alphanumeric\n",
    "\n",
    "\n",
    "input_str = 'Betty b0ught some butt3r but the bu!tb3rrrr w@s b!tbt3r s0 Betty b0u6ht s0me Bett3r butt3r to m@k3 the b!tt3rbutt3r b3tt3r'\n",
    "sub_re = r'\\W+'\n",
    "\n",
    "result = re.findall(sub_re, input_str)\n",
    "\n",
    "print(result)"
   ]
  },
  {
   "cell_type": "code",
   "execution_count": null,
   "id": "e27c5029",
   "metadata": {},
   "outputs": [],
   "source": [
    "input_str1 = '''Line 1\n",
    "Hello there\n",
    "My name is Khan'''\n",
    "\n",
    "templist = input_str1.splitlines()\n",
    "\n",
    "print(templist)"
   ]
  },
  {
   "cell_type": "code",
   "execution_count": null,
   "id": "ea5cda1a",
   "metadata": {},
   "outputs": [],
   "source": [
    "for x in templist:\n",
    "    print(re.findall(r'\\A\\w+', x))"
   ]
  },
  {
   "cell_type": "code",
   "execution_count": null,
   "id": "8512ec45",
   "metadata": {},
   "outputs": [],
   "source": [
    "sub_str = r'\\A\\w+'\n",
    "\n",
    "result = re.findall(sub_str, input_str)\n",
    "\n",
    "print(result)"
   ]
  },
  {
   "cell_type": "code",
   "execution_count": null,
   "id": "57da2e31",
   "metadata": {},
   "outputs": [],
   "source": [
    "print(input_str)"
   ]
  },
  {
   "cell_type": "code",
   "execution_count": null,
   "id": "f30a73ec",
   "metadata": {},
   "outputs": [],
   "source": [
    "input_str = '''Betty b0ught some butt3r but the bu!tb3rrrr w@s b!tbt3r s0 Betty b0u6ht s0me Bett3r butt3r to m@k3\n",
    "the b!tt3r butter better'''\n"
   ]
  },
  {
   "cell_type": "code",
   "execution_count": null,
   "id": "620cbdff",
   "metadata": {},
   "outputs": [],
   "source": [
    "sub_str = r'\\B'\n",
    "\n",
    "result = re.findall(sub_str, input_str)"
   ]
  },
  {
   "cell_type": "code",
   "execution_count": null,
   "id": "a6b84cf8",
   "metadata": {},
   "outputs": [],
   "source": [
    "\\B - Means the pattern should be matched BUT should not be at the beginning of the string \n",
    "\n",
    "IT DOES NOT MEAN\n",
    "\n",
    "Match any string where the given pattern is not at the beginning. "
   ]
  },
  {
   "cell_type": "code",
   "execution_count": null,
   "id": "0e9efdab",
   "metadata": {},
   "outputs": [],
   "source": [
    "print(result)"
   ]
  },
  {
   "cell_type": "code",
   "execution_count": null,
   "id": "4f825885",
   "metadata": {},
   "outputs": [],
   "source": [
    "print(input_str)"
   ]
  },
  {
   "cell_type": "code",
   "execution_count": null,
   "id": "cf1c255d",
   "metadata": {},
   "outputs": [],
   "source": [
    "input_str = '''Betty b0ught some butst3r but the butb3rrrr w@s b!tbt3r s0 Betty b0u6ht s0me Bett3r butt3r to m@k3\n",
    "the b!tt3r butter better'''"
   ]
  },
  {
   "cell_type": "code",
   "execution_count": null,
   "id": "9ab867ee",
   "metadata": {},
   "outputs": [],
   "source": [
    "sub_str = r'\\Bb\\w+'\n",
    "\n",
    "result = re.findall(sub_str, input_str)\n",
    "print(result)"
   ]
  },
  {
   "cell_type": "code",
   "execution_count": null,
   "id": "24618626",
   "metadata": {},
   "outputs": [],
   "source": [
    "sub_str = r'\\W\\w+'\n",
    "result = re.findall(sub_str, input_str)\n",
    "\n",
    "print(result)"
   ]
  },
  {
   "cell_type": "code",
   "execution_count": null,
   "id": "4ea15a49",
   "metadata": {},
   "outputs": [],
   "source": [
    "print(input_str)"
   ]
  },
  {
   "cell_type": "code",
   "execution_count": null,
   "id": "a8f5ad8c",
   "metadata": {},
   "outputs": [],
   "source": [
    "#\\B - Pattern should be matched but should NOT be at beginning of the word\n",
    "\n",
    "#\\B - DOES NOT mean - any word that does not have the pattern at the beginning of the word."
   ]
  },
  {
   "cell_type": "code",
   "execution_count": null,
   "id": "b4de3a29",
   "metadata": {},
   "outputs": [],
   "source": [
    "print(input_str)"
   ]
  },
  {
   "cell_type": "code",
   "execution_count": null,
   "id": "57bda91b",
   "metadata": {},
   "outputs": [],
   "source": [
    "input_str = '''Betty b0ught somebody butst3r but the butb3rrrr w@s b!tbt3r s0 Betty b0u6ht s0me Bett3r butt3r to m@k3\n",
    "the b!tt3r butter better'''"
   ]
  },
  {
   "cell_type": "code",
   "execution_count": null,
   "id": "6a085531",
   "metadata": {},
   "outputs": [],
   "source": []
  },
  {
   "cell_type": "code",
   "execution_count": null,
   "id": "1317b24c",
   "metadata": {},
   "outputs": [],
   "source": [
    "sub_str = r'\\Bb\\w+'\n",
    "\n",
    "result = re.findall(sub_str, input_str)\n",
    "print(result)\n",
    "\n",
    "# The findall function takes the two parameters, substring and the string to be searched. It returns the matches in a list \n",
    "# in the order they are found. If no matches are found, it returns an empty list."
   ]
  },
  {
   "cell_type": "code",
   "execution_count": null,
   "id": "eaa4f855",
   "metadata": {},
   "outputs": [],
   "source": [
    "print(input_str)"
   ]
  },
  {
   "cell_type": "code",
   "execution_count": null,
   "id": "3ebc1384",
   "metadata": {},
   "outputs": [],
   "source": [
    "sub_str = r'\\D+'\n",
    "\n",
    "result = re.findall(sub_str, input_str)\n",
    "print(result)"
   ]
  },
  {
   "cell_type": "code",
   "execution_count": null,
   "id": "e0234680",
   "metadata": {},
   "outputs": [],
   "source": [
    "print(input_str)"
   ]
  },
  {
   "cell_type": "code",
   "execution_count": null,
   "id": "aea47e73",
   "metadata": {},
   "outputs": [],
   "source": [
    "#\\A Returns a match if the specified characters are at the beginning of the string(NOT words but the whole string)\n",
    "sub_str = r'\\AB\\w+'\n",
    "\n",
    "print(re.findall(sub_str, input_str))"
   ]
  },
  {
   "cell_type": "code",
   "execution_count": null,
   "id": "d7cac8c7",
   "metadata": {},
   "outputs": [],
   "source": [
    "input_str = r'''Betty b0u6ht 5ome cutt3r but the betbt3r w@s \\n xyzb tbt3r s0 Betty!b0u6ht \\n s0me Bett3r butt3r to m@k3 the b!tt3r  \n",
    "butt3r b3tter'''"
   ]
  },
  {
   "cell_type": "code",
   "execution_count": null,
   "id": "686d2db7",
   "metadata": {},
   "outputs": [],
   "source": [
    "print(input_str)"
   ]
  },
  {
   "cell_type": "code",
   "execution_count": null,
   "id": "4bc47bb0",
   "metadata": {},
   "outputs": [],
   "source": [
    "input_str = 'The Terminator The Avengers The Invincibles The Minions Lion King'"
   ]
  },
  {
   "cell_type": "code",
   "execution_count": null,
   "id": "ff130443",
   "metadata": {},
   "outputs": [],
   "source": [
    "sub_str = r'\\W+'\n",
    "\n",
    "\n",
    "result = re.findall(sub_str, input_str)\n",
    "\n",
    "print(result)"
   ]
  },
  {
   "cell_type": "code",
   "execution_count": null,
   "id": "1878c905",
   "metadata": {},
   "outputs": [],
   "source": [
    "sub_str = r'y\\Sb0u'\n",
    "\n",
    "print(type(sub_str))\n",
    "\n",
    "result = re.findall(sub_str, input_str)\n",
    "      \n",
    "print(result)"
   ]
  },
  {
   "cell_type": "code",
   "execution_count": null,
   "id": "31a6ed4a",
   "metadata": {},
   "outputs": [],
   "source": [
    "print(input_str)\n",
    "print(sub_str)"
   ]
  },
  {
   "cell_type": "code",
   "execution_count": null,
   "id": "ac854317",
   "metadata": {},
   "outputs": [],
   "source": [
    "result = re.search(sub_str, input_str)\n",
    "\n",
    "print(result)\n",
    "\n",
    "print(dir(result))"
   ]
  },
  {
   "cell_type": "code",
   "execution_count": null,
   "id": "c769489a",
   "metadata": {},
   "outputs": [],
   "source": [
    "for i in result:\n",
    "    print(i.span())"
   ]
  },
  {
   "cell_type": "code",
   "execution_count": null,
   "id": "daf6d460",
   "metadata": {},
   "outputs": [],
   "source": [
    "# Note here how we started using r denoting (raw-string) before the regex? This is because in Regex \\ is used in front of\n",
    "# many shorthand notations while \\ is also an escape character in Python. To avoid conflict, we always put regular\n",
    "# expressions to be searched in r format. "
   ]
  },
  {
   "cell_type": "code",
   "execution_count": null,
   "id": "444f568d",
   "metadata": {},
   "outputs": [],
   "source": [
    "input_str = 'betty b0u6ht some butt3r but the butt3r w@s b!tt3r s0 Betty b0u6ht s0me bett3r butt3r to m@k3 the b!tt3r\\\n",
    "butt3r b3tt3r'\n",
    "\n",
    "sub_str = '\\w+3r\\Z'\n",
    "\n",
    "result = re.findall(sub_str, input_str)\n",
    "\n",
    "print(result)\n",
    "#print(result.group())\n",
    "\n",
    "#Note the result when not putting the r rawstring"
   ]
  },
  {
   "cell_type": "code",
   "execution_count": null,
   "id": "d5c6a846",
   "metadata": {},
   "outputs": [],
   "source": [
    "#Workaround\n",
    "\n",
    "sub_str = r'\\bbu\\w+'\n",
    "\n",
    "result = re.search(sub_str, input_str)\n",
    "\n",
    "print(result)\n",
    "print(result.group())"
   ]
  },
  {
   "cell_type": "code",
   "execution_count": null,
   "id": "c87492b8",
   "metadata": {},
   "outputs": [],
   "source": [
    "#Easiest way\n",
    "\n",
    "sub_str = r'\\bbu\\w+'\n",
    "\n",
    "result = re.search(sub_str, input_str)\n",
    "\n",
    "print(result)\n",
    "print(result.group())"
   ]
  },
  {
   "cell_type": "code",
   "execution_count": null,
   "id": "8a9c9f0f",
   "metadata": {},
   "outputs": [],
   "source": [
    "print(input_str)"
   ]
  },
  {
   "cell_type": "code",
   "execution_count": null,
   "id": "5c19f6e5",
   "metadata": {},
   "outputs": [],
   "source": [
    "input_str = 'betty b0u6ht some butt3r but the butt3r w@s b!tt3r s0 Betty b0u6ht s0me bett3r butt3r to m@k3 the b!tt3r\\\n",
    "butt3r b3tt3r'\n",
    "\n",
    "sub_str = r'\\bbu\\w+'\n",
    "\n",
    "\n",
    "result = re.findall(sub_str, input_str)\n",
    "\n",
    "print(result)"
   ]
  },
  {
   "cell_type": "code",
   "execution_count": null,
   "id": "4679334d",
   "metadata": {},
   "outputs": [],
   "source": [
    "result = re.search(sub_str, input_str)\n",
    "\n",
    "print(result)"
   ]
  },
  {
   "cell_type": "code",
   "execution_count": null,
   "id": "fe29797f",
   "metadata": {},
   "outputs": [],
   "source": [
    "print(result.span())"
   ]
  },
  {
   "cell_type": "code",
   "execution_count": null,
   "id": "eca68b31",
   "metadata": {},
   "outputs": [],
   "source": [
    "print(result.start())"
   ]
  },
  {
   "cell_type": "code",
   "execution_count": null,
   "id": "ce5480f6",
   "metadata": {},
   "outputs": [],
   "source": [
    "print(result.end())"
   ]
  },
  {
   "cell_type": "code",
   "execution_count": null,
   "id": "bca9966a",
   "metadata": {},
   "outputs": [],
   "source": [
    "print(result.group())"
   ]
  },
  {
   "cell_type": "code",
   "execution_count": null,
   "id": "6dde83cb",
   "metadata": {},
   "outputs": [],
   "source": [
    "print(result.string)"
   ]
  },
  {
   "cell_type": "code",
   "execution_count": null,
   "id": "585b825e",
   "metadata": {},
   "outputs": [],
   "source": [
    "sub_str = r'be\\w+'"
   ]
  },
  {
   "cell_type": "code",
   "execution_count": null,
   "id": "df228d3d",
   "metadata": {},
   "outputs": [],
   "source": [
    "print(input_str)"
   ]
  },
  {
   "cell_type": "code",
   "execution_count": null,
   "id": "8b3a89b1",
   "metadata": {},
   "outputs": [],
   "source": [
    "input_str = 'betty b0bu6ht some butt3r but the butt3r w@s b!tt3r s0 Betty b0u6ht s0me bett3r butt3r to m@k3 the b!tt3rbutt3r b3tt3r'"
   ]
  },
  {
   "cell_type": "code",
   "execution_count": null,
   "id": "8d954688",
   "metadata": {},
   "outputs": [],
   "source": [
    "sub_str = r'\\bbu\\w+'"
   ]
  },
  {
   "cell_type": "code",
   "execution_count": null,
   "id": "6db9c09d",
   "metadata": {},
   "outputs": [],
   "source": [
    "result = re.match(sub_str, input_str)\n",
    "result1 = re.search(sub_str, input_str)\n",
    "\n",
    "print(result)\n",
    "print(result1)"
   ]
  },
  {
   "cell_type": "code",
   "execution_count": null,
   "id": "0193adcf",
   "metadata": {},
   "outputs": [],
   "source": [
    "result = re.finditer(sub_str, input_str)\n",
    "\n",
    "print(result)"
   ]
  },
  {
   "cell_type": "code",
   "execution_count": null,
   "id": "8b9fb7bb",
   "metadata": {},
   "outputs": [],
   "source": [
    "for match in result:\n",
    "    print(match.span(), ' ', match.group())"
   ]
  },
  {
   "cell_type": "code",
   "execution_count": null,
   "id": "a4ceceb5",
   "metadata": {},
   "outputs": [],
   "source": [
    "input_str = 'Betty b0u6ht some butt3r but the bu!tb3rrrr w@s b!tbt3r s0 Betty b0u6ht s0me Bett3r butt3r to m@k3 the b!tt3r\\\n",
    "butt3r b3tt3r.'"
   ]
  },
  {
   "cell_type": "code",
   "execution_count": null,
   "id": "d80c2a00",
   "metadata": {},
   "outputs": [],
   "source": [
    "\\B - Match this pattern BUT not at the beginning (or end) of word. \n",
    "\\B - NOT ------> Match anything that does not have this pattern."
   ]
  },
  {
   "cell_type": "code",
   "execution_count": null,
   "id": "94662e68",
   "metadata": {},
   "outputs": [],
   "source": [
    "sub_str = r'\\D+3r.\\Z'\n",
    "\n",
    "result = re.findall(sub_str, input_str)\n",
    "print(result)"
   ]
  },
  {
   "cell_type": "code",
   "execution_count": null,
   "id": "c650d768",
   "metadata": {},
   "outputs": [],
   "source": [
    "sub_str = re.compile(r'\\bbu\\w+')\n",
    "\n",
    "print(sub_str)\n",
    "\n",
    "result = re.findall(re.compile(r'\\bbu\\w+'), input_str)\n",
    "\n",
    "print(result)"
   ]
  },
  {
   "cell_type": "code",
   "execution_count": null,
   "id": "d171312e",
   "metadata": {},
   "outputs": [],
   "source": [
    "result = sub_str.search(input_str)\n",
    "\n",
    "print(result)"
   ]
  },
  {
   "cell_type": "code",
   "execution_count": null,
   "id": "f5b380b0",
   "metadata": {},
   "outputs": [],
   "source": [
    "result = re.finditer(sub_str, input_str)\n",
    "\n",
    "print(result)"
   ]
  },
  {
   "cell_type": "code",
   "execution_count": null,
   "id": "e3b27b43",
   "metadata": {},
   "outputs": [],
   "source": [
    "for x in result:\n",
    "    print(x.group(), x.span())"
   ]
  },
  {
   "cell_type": "code",
   "execution_count": null,
   "id": "0373f9e4",
   "metadata": {},
   "outputs": [],
   "source": [
    "#\\b Returns a match if the specificed characters are at the beginning or end of a word. \n",
    "\n",
    "\n",
    "input_str = 'B3tty 3b0u6ht 5ome butt3r but the butt3r w@s bitt3r s0 Betty b0u6ht s0me b3tt3r butt3r to mak3 the bitt3r \\\n",
    "butt3r b3tt3r'\n",
    "\n",
    "sub_str = r'\\B\\d\\w+'\n",
    "\n",
    "result = re.findall(sub_str, input_str)\n",
    "print(result)"
   ]
  },
  {
   "cell_type": "code",
   "execution_count": null,
   "id": "85945e88",
   "metadata": {},
   "outputs": [],
   "source": [
    "result = re.findall(sub_str, input_str)\n",
    "print(result)"
   ]
  },
  {
   "cell_type": "code",
   "execution_count": null,
   "id": "5b9e3863",
   "metadata": {},
   "outputs": [],
   "source": [
    "import re\n",
    "\n",
    "input_str = 'B3tty b0u6ht some butt3r but the butt3r w@s b!tt3r s0 Betty b0u6ht s0me b3tt3r butt3r to m@k3 the b!tt3r\\\n",
    "butt3r b3tt3r.'\n",
    "\n",
    "print(input_str)\n",
    "\n",
    "sub_str = r'\\b\\w+t\\w*'\n",
    "\n",
    "result = re.findall(sub_str, input_str)\n",
    "print(result)"
   ]
  },
  {
   "cell_type": "code",
   "execution_count": null,
   "id": "3e898ecf",
   "metadata": {},
   "outputs": [],
   "source": [
    "sub_str = r'\\bt\\w+'\n",
    "\n",
    "result = re.findall(sub_str, input_str)\n",
    "print(result)"
   ]
  },
  {
   "cell_type": "code",
   "execution_count": null,
   "id": "6a7d71b3",
   "metadata": {},
   "outputs": [],
   "source": [
    "print(input_str.index('the'))"
   ]
  },
  {
   "cell_type": "code",
   "execution_count": null,
   "id": "fce6697d",
   "metadata": {},
   "outputs": [],
   "source": [
    "input_str = 'B3tty b0u6ht some butt3r but the butt3r w@s b!tt3r s0 Betty b0u6ht s0me b3tt3r butt3r to m@k3 the b!tt3r\\\n",
    "butt3r b3tt3r.'\n",
    "\n",
    "sub_str = r'\\bb0u6\\w*'\n",
    "\n",
    "result = re.search(sub_str, input_str)\n",
    "print(result)"
   ]
  },
  {
   "cell_type": "code",
   "execution_count": null,
   "id": "392dd6c9",
   "metadata": {},
   "outputs": [],
   "source": [
    "print(input_str.index('b0u6'))"
   ]
  },
  {
   "cell_type": "code",
   "execution_count": null,
   "id": "c20e5bb6",
   "metadata": {},
   "outputs": [],
   "source": [
    "print(result.group())"
   ]
  },
  {
   "cell_type": "code",
   "execution_count": null,
   "id": "6f8eee89",
   "metadata": {},
   "outputs": [],
   "source": [
    "print(result.span())"
   ]
  },
  {
   "cell_type": "code",
   "execution_count": null,
   "id": "d6d98a29",
   "metadata": {},
   "outputs": [],
   "source": [
    "print(result.start())"
   ]
  },
  {
   "cell_type": "code",
   "execution_count": null,
   "id": "c5853ba6",
   "metadata": {},
   "outputs": [],
   "source": [
    "print(result.end())"
   ]
  },
  {
   "cell_type": "code",
   "execution_count": null,
   "id": "22631f1a",
   "metadata": {},
   "outputs": [],
   "source": [
    "print(result.string)"
   ]
  },
  {
   "cell_type": "code",
   "execution_count": null,
   "id": "30afd085",
   "metadata": {},
   "outputs": [],
   "source": [
    "result = re.finditer(sub_str, input_str)\n",
    "\n",
    "print(result)"
   ]
  },
  {
   "cell_type": "code",
   "execution_count": null,
   "id": "c0b677b2",
   "metadata": {},
   "outputs": [],
   "source": [
    "for x in result:\n",
    "    print(x.span(), x.group())"
   ]
  },
  {
   "cell_type": "code",
   "execution_count": null,
   "id": "95282688",
   "metadata": {},
   "outputs": [],
   "source": [
    "print(f'Found match {result.group()} beginning at {result.start()} and ending at {result.end()} and span is {result.span()}.')"
   ]
  },
  {
   "cell_type": "code",
   "execution_count": null,
   "id": "8d6f36bb",
   "metadata": {},
   "outputs": [],
   "source": [
    "# The match object returned from the search function has the following methods to retrieve the information:\n",
    "\n",
    "# .span() - returns the beginning and end index numbers of the matched string in a tuple. \n",
    "# .string - returns the string passed into the function to be searched. \n",
    "# .group() - returns the part of the string where there was a match. \n",
    "# .start() - returns the start index\n",
    "# .end() - returns the end index"
   ]
  },
  {
   "cell_type": "code",
   "execution_count": null,
   "id": "dc8d6ed0",
   "metadata": {},
   "outputs": [],
   "source": [
    "print(result.span())"
   ]
  },
  {
   "cell_type": "code",
   "execution_count": null,
   "id": "78f0b8c2",
   "metadata": {},
   "outputs": [],
   "source": [
    "print(result.start())"
   ]
  },
  {
   "cell_type": "code",
   "execution_count": null,
   "id": "29474a30",
   "metadata": {},
   "outputs": [],
   "source": [
    "print(result.end())"
   ]
  },
  {
   "cell_type": "code",
   "execution_count": null,
   "id": "4fd59c0e",
   "metadata": {},
   "outputs": [],
   "source": [
    "print(result.string)"
   ]
  },
  {
   "cell_type": "code",
   "execution_count": null,
   "id": "c61701ed",
   "metadata": {},
   "outputs": [],
   "source": [
    "print(result.group())"
   ]
  },
  {
   "cell_type": "code",
   "execution_count": null,
   "id": "bdab5490",
   "metadata": {},
   "outputs": [],
   "source": [
    "#Finding all match objects for a pattern using finditer\n",
    "\n",
    "input_str = 'B3tty b0u6ht some butt3r but the butt3r w@s b!tt3r s0 Betty b0u6ht s0me b3tt3r butt3r to m@k3 the b!tt3r\\\n",
    "butt3r b3tt3r.'\n",
    "\n",
    "sub_str = 'but\\w+'\n",
    "\n",
    "result = re.finditer(sub_str, input_str)\n",
    "\n",
    "print(result)"
   ]
  },
  {
   "cell_type": "code",
   "execution_count": null,
   "id": "ed9a511c",
   "metadata": {},
   "outputs": [],
   "source": [
    "for x in result:\n",
    "    print('-'*100)\n",
    "    print(x)\n",
    "    print(f'Found match {x.group()} beginning at {x.start()} and ending at {x.end()}.')"
   ]
  },
  {
   "cell_type": "code",
   "execution_count": null,
   "id": "ba2a263c",
   "metadata": {},
   "outputs": [],
   "source": [
    "input_str = 'B3tty b0u6ht some butt3r but the butt3r w@s b!tt3r s0 Betty b0u6ht s0me b3tt3r butt3r to m@k3 the b!tt3r\\\n",
    "butt3r b3tt3r.'\n",
    "\n",
    "sub_str = r'\\w+e\\b'\n",
    "\n",
    "result = re.findall(sub_str, input_str)\n",
    "\n",
    "print(result)"
   ]
  },
  {
   "cell_type": "code",
   "execution_count": null,
   "id": "59acebf3",
   "metadata": {},
   "outputs": [],
   "source": [
    "#\\w returns a match where the strings contains any word characters - upper, lower case alphabets, digits - 0 to 9 and _\n",
    "# underscore. \n",
    "# + (outside square brackets) is a metacharacter specifying 1 or more occurrences. \n",
    "\n",
    "# So in the above substring - r'\\bbu\\w+' - we specified:\n",
    "\n",
    "# r - this is a raw string - do not consider \\ escape characters. \n",
    "# '' - quotes denoting strings.\n",
    "# \\b - pattern begins with\n",
    "# bu - characters to search - so, pattern we are looking for - begins with 'bu'\n",
    "# \\w - After 'bu' search for any word character\n",
    "# + - One or more occurrences of word character. \n",
    "\n",
    "# So, in summary: \n",
    "\n",
    "# Search for a pattern in the string which begins with 'bu' and has one or more word characters after bu. Note here that - \n",
    "# it wont catch 'bu' if it occurred in the input string in this case."
   ]
  },
  {
   "cell_type": "code",
   "execution_count": null,
   "id": "7358bf28",
   "metadata": {},
   "outputs": [],
   "source": [
    "input_str = 'B3tty b0u6ht some bu but the butt3r w@s b!tt3r s0 betty b0u6ht s0me b3tt3r butt3r to m@k3 the b!tt3r\\\n",
    "butt3r b3tt3r.'\n",
    "\n",
    "sub_str = r'\\w\\d\\W'\n",
    "result = re.findall(sub_str, input_str)\n",
    "\n",
    "print(result)"
   ]
  },
  {
   "cell_type": "code",
   "execution_count": null,
   "id": "40744093",
   "metadata": {},
   "outputs": [],
   "source": [
    "input_str = 'B3tty b0u6ht some the butt3r w@s b!tt3r s0 betty b0u6ht s0me b3tt3r butt3r to m@k3 the b!tt3r\\\n",
    "butt3r b3tt3r.'\n",
    "\n",
    "sub_str = r'\\bbu\\w+'\n",
    "result = re.search(sub_str, input_str)\n",
    "\n",
    "print(result.group())\n",
    "print(result.span())"
   ]
  },
  {
   "cell_type": "code",
   "execution_count": null,
   "id": "25a64d42",
   "metadata": {},
   "outputs": [],
   "source": [
    "# Changing the + to * will return bu. \n",
    "\n",
    "sub_str = r'\\bbu\\w*'\n",
    "\n",
    "result = re.search(sub_str, input_str)\n",
    "\n",
    "print(result.group())"
   ]
  },
  {
   "cell_type": "code",
   "execution_count": null,
   "id": "111892f7",
   "metadata": {},
   "outputs": [],
   "source": [
    "input_str = 'B3tty b0u6ht some butt3r but the butt3r w@s b!tt3r s0 betty b0u6ht s0me b3tt3r butt3r to m@k3 the b!tt3r\\\n",
    "butt3r b3tt3r.'\n",
    "\n",
    "sub_str = r'\\bbu\\w*'\n",
    "\n",
    "result = re.search(sub_str, input_str)\n",
    "\n",
    "print(result.group())"
   ]
  },
  {
   "cell_type": "code",
   "execution_count": null,
   "id": "b8ad82a6",
   "metadata": {},
   "outputs": [],
   "source": [
    "input_str = 'B3tty b0u6ht some butt3r but the butt3r w@s b!tt3r s0 betty b0u6ht s0me b3tt3r butt3r to m@k3 the b!tt3r\\\n",
    "butt3r b3tt3r.'\n",
    "\n",
    "sub_str = r'\\w+r\\b'\n",
    "\n",
    "result = re.findall(sub_str, input_str)\n",
    "\n",
    "print(result)"
   ]
  },
  {
   "cell_type": "code",
   "execution_count": null,
   "id": "9de7aad6",
   "metadata": {},
   "outputs": [],
   "source": []
  },
  {
   "cell_type": "code",
   "execution_count": null,
   "id": "fc45227d",
   "metadata": {},
   "outputs": [],
   "source": []
  },
  {
   "cell_type": "code",
   "execution_count": null,
   "id": "af626869",
   "metadata": {},
   "outputs": [],
   "source": []
  },
  {
   "cell_type": "code",
   "execution_count": null,
   "id": "2f90ea4c",
   "metadata": {},
   "outputs": [],
   "source": []
  },
  {
   "cell_type": "code",
   "execution_count": null,
   "id": "7cf8819f",
   "metadata": {},
   "outputs": [],
   "source": [
    "# \\B Returns a match where the specified pattern is NOT at beginning or end of string.\n",
    "\n",
    "\n",
    "input_str = 'B3tty b0u6ht some butt3r but the butt3r w@s b!tt3r s0 Betty b0u6ht s0me b3tt3r butt3r to m@k3 the b!tt3r\\\n",
    "butt3r b3tt3r.'\n",
    "\n",
    "print(input_str)"
   ]
  },
  {
   "cell_type": "code",
   "execution_count": null,
   "id": "8f0ea87a",
   "metadata": {},
   "outputs": [],
   "source": [
    "#print(input_str.index('b!tt3rbutt3r'))"
   ]
  },
  {
   "cell_type": "code",
   "execution_count": null,
   "id": "3a76704e",
   "metadata": {},
   "outputs": [],
   "source": [
    "sub_str = r'\\B'\n",
    "\n",
    "result = re.findall(sub_str, input_str)\n",
    "\n",
    "print(result)\n",
    "\n"
   ]
  },
  {
   "cell_type": "code",
   "execution_count": null,
   "id": "5d6410f9",
   "metadata": {},
   "outputs": [],
   "source": [
    "input_str = 'B3tty b0u6ht some butt3r but hello therefore butt3r w@s b!tt3r s0 hermit Betty b0u6ht helium s0me b3tt3r butt3r \\\n",
    "to m@k3 tehe b!tt3r butt3r b3tt3r.'\n",
    "\n",
    "sub_str = r't\\w*he\\B'\n",
    "\n",
    "result = re.findall(sub_str, input_str)\n",
    "\n",
    "print(result)"
   ]
  },
  {
   "cell_type": "code",
   "execution_count": null,
   "id": "e4e11439",
   "metadata": {},
   "outputs": [],
   "source": [
    "import re\n",
    "\n",
    "input_str = 'B3tty b0u6ht  some butt3r but the butt3r w@s b!tt3r s0 Bettyb0u6ht s0me b3tt3rbutt3r to m@k3 the b!tt3r \\\n",
    "butt3r b3tt3r.'\n",
    "\n",
    "sub_str = r'\\Bb\\w+'\n",
    "\n",
    "result = re.finditer(sub_str, input_str)\n",
    "\n",
    "for x in result:\n",
    "    print(x.span(), x.group())\n",
    "    print(input_str[x.start()-5:x.end()+5])\n"
   ]
  },
  {
   "cell_type": "code",
   "execution_count": null,
   "id": "07109f28",
   "metadata": {},
   "outputs": [],
   "source": [
    "sub_str = r'\\w+ht\\w*'\n",
    "\n",
    "result = re.findall(sub_str, input_str)\n",
    "\n",
    "print(result)"
   ]
  },
  {
   "cell_type": "code",
   "execution_count": null,
   "id": "f7af6c9a",
   "metadata": {},
   "outputs": [],
   "source": [
    "input_str = 'B3tty b0u6ht some butt3r but the butt3r w@s b!tt3r s0 betty b0u6ht s0me b3tt3r butt3r to m@k3 the b!tt3r \\\n",
    "butt3r b3tt3r.'"
   ]
  },
  {
   "cell_type": "code",
   "execution_count": null,
   "id": "4089d365",
   "metadata": {},
   "outputs": [],
   "source": [
    "print(input_str)"
   ]
  },
  {
   "cell_type": "code",
   "execution_count": null,
   "id": "600d44b5",
   "metadata": {},
   "outputs": [],
   "source": [
    "name1 = 'My name is Anthony Gonsalvez. Roop nagar, Prem Galli kholi no. 420. Excuse me please'\n",
    "\n",
    "sub_str = r'[a-zA-Z]*'\n",
    "\n",
    "result = re.findall(sub_str, name1)\n",
    "\n",
    "print(result)"
   ]
  },
  {
   "cell_type": "code",
   "execution_count": null,
   "id": "3674a8eb",
   "metadata": {},
   "outputs": [],
   "source": [
    "print(input_str)"
   ]
  },
  {
   "cell_type": "code",
   "execution_count": null,
   "id": "7ebe74d7",
   "metadata": {},
   "outputs": [],
   "source": [
    "input_str = 'B3tty b0u6ht some butt3r but the butt3r w@s 3b!tt3r 50 betty b0u6ht 5ome b3tt3r butt3r to m@k3 the b!tt3r butt3r b3tt3r.'"
   ]
  },
  {
   "cell_type": "code",
   "execution_count": null,
   "id": "3add147b",
   "metadata": {},
   "outputs": [],
   "source": [
    "input_str = 'Rishabh! 8141980914 Neha 0918410984 Rinkey Pal 091490148'"
   ]
  },
  {
   "cell_type": "code",
   "execution_count": null,
   "id": "b146229d",
   "metadata": {},
   "outputs": [],
   "source": [
    "#\\d Returns a match where the string contains digits.\n",
    "\n",
    "sub_str = r'\\D+'\n",
    "\n",
    "result = re.findall(sub_str, input_str)\n",
    "\n",
    "print(result)\n"
   ]
  },
  {
   "cell_type": "code",
   "execution_count": null,
   "id": "5816cbd4",
   "metadata": {},
   "outputs": [],
   "source": [
    "# Note here how '6ht' and '3r' are not separate outputs from '0u6ht' and '3tt3r'. This is because the regex takes a match\n",
    "# till the pattern continues to match and starts searching for the next match from the next index number. "
   ]
  },
  {
   "cell_type": "code",
   "execution_count": null,
   "id": "207a141a",
   "metadata": {},
   "outputs": [],
   "source": [
    "input_str = 'Rishabh Rajpoot 8141980914 Neha Agrawal 0918410984 Rinkey Pal 091490148'"
   ]
  },
  {
   "cell_type": "code",
   "execution_count": null,
   "id": "aa8d139b",
   "metadata": {},
   "outputs": [],
   "source": [
    "sub_str = '\\w+\\s\\w+'"
   ]
  },
  {
   "cell_type": "code",
   "execution_count": null,
   "id": "e7da4b1b",
   "metadata": {},
   "outputs": [],
   "source": [
    "result = re.findall(sub_str, input_str)\n",
    "\n",
    "print(result)"
   ]
  },
  {
   "cell_type": "code",
   "execution_count": null,
   "id": "c69892c8",
   "metadata": {},
   "outputs": [],
   "source": []
  },
  {
   "cell_type": "code",
   "execution_count": null,
   "id": "451d1365",
   "metadata": {},
   "outputs": [],
   "source": [
    "sub_str = r'\\w+\\d\\w+'\n",
    "\n",
    "result = re.findall(sub_str, input_str)\n",
    "\n",
    "print(result)"
   ]
  },
  {
   "cell_type": "code",
   "execution_count": null,
   "id": "99ac4774",
   "metadata": {},
   "outputs": [],
   "source": [
    "input_str = 'B3tty b0u6ht some butt3r but the butt3r w@s b!tt3r s0 betty b0u6ht s0me b3tt3r butt3r to m@k3 the b!tt3r \\\n",
    "butt3r b3tt3r.'"
   ]
  },
  {
   "cell_type": "code",
   "execution_count": null,
   "id": "635c3edd",
   "metadata": {},
   "outputs": [],
   "source": [
    "#\\s Returns a match where the string contains a space character. "
   ]
  },
  {
   "cell_type": "code",
   "execution_count": null,
   "id": "f7091463",
   "metadata": {},
   "outputs": [],
   "source": [
    "sub_str = r'\\S+'\n",
    "\n",
    "result = re.findall(sub_str, input_str)\n",
    "\n",
    "print(result)"
   ]
  },
  {
   "cell_type": "code",
   "execution_count": null,
   "id": "9bc0060b",
   "metadata": {},
   "outputs": [],
   "source": [
    "sub_str = r'\\w+\\St\\w+'\n",
    "\n",
    "result = re.findall(sub_str, input_str)\n",
    "\n",
    "print(result)"
   ]
  },
  {
   "cell_type": "code",
   "execution_count": null,
   "id": "1a32718c",
   "metadata": {},
   "outputs": [],
   "source": [
    "input_str = 'B3ttyb0u6ht some butt3rbut the butt3r w@s b!tt3r s0 bettyb0u6ht s0me b3tt3r butt3r to m@k3 the b!tt3r \\\n",
    "butt3r b3tt3r.'\n",
    "\n",
    "sub_str = r'\\w+\\Sb\\w+'\n",
    "\n",
    "result = re.findall(sub_str, input_str)\n",
    "\n",
    "print(result)"
   ]
  },
  {
   "cell_type": "code",
   "execution_count": null,
   "id": "a8bafe4a",
   "metadata": {},
   "outputs": [],
   "source": [
    "#\\w Returns a match where the pattern match contains any word characters - a to z, A to Z and 0 to 9\n",
    "\n",
    "input_str = 'B3tty b0u6ht some butt3r but the butt3r w@s b!tt3r s0 betty b0u6ht s0me b3tt3r butt3r to m@k3 the b!tt3r \\\n",
    "butt3r b3tt3r.'\n",
    "\n",
    "sub_str = r'\\w+'\n",
    "\n",
    "result = re.findall(sub_str, input_str)\n",
    "\n",
    "print(result)"
   ]
  },
  {
   "cell_type": "code",
   "execution_count": null,
   "id": "7896e82d",
   "metadata": {},
   "outputs": [],
   "source": [
    "sub_str = r'\\w+\\W\\w+'\n",
    "\n",
    "result = re.findall(sub_str, input_str)\n",
    "\n",
    "print(result)"
   ]
  },
  {
   "cell_type": "code",
   "execution_count": null,
   "id": "3e6126c4",
   "metadata": {},
   "outputs": [],
   "source": [
    "#\\Z - returns a match if the pattern is found at the end of the string(not each word)\n",
    "\n",
    "input_str = 'B3tty b0u6ht some butt3r but the butt3r w@s b!tt3r s0 betty b0u6ht s0me b3tt3r butt3r to m@k3 the b!tt3r \\\n",
    "butt3r b3tt3r'\n",
    "\n",
    "sub_str = r'\\w+t3r\\Z'\n",
    "\n",
    "result = re.findall(sub_str,input_str)\n",
    "\n",
    "print(result)\n",
    "#print(result.start())\n",
    "\n",
    "#print(input_str[:116])"
   ]
  },
  {
   "cell_type": "code",
   "execution_count": null,
   "id": "cc8b2f4a",
   "metadata": {},
   "outputs": [],
   "source": [
    "\\A - Match at start of string. Same as ^. r'\\AB\\w+', r'^B\\w+' \n",
    "\\Z - Match at end of string. Same as $. r'\\w+3r.\\Z', r'\\w+3r.$'\n",
    "\\s - Match space\n",
    "\\S - Non space character (anything that is not space)\n",
    "\\w - Alphanumeric characters (a-z, A-Z, 0-9)\n",
    "\\W - Non Alphanumeric characters (Any non-numeric character)\n",
    "\\d - Digits\n",
    "\\D - Non Digits\n",
    "\\b - Pattern should be at beginning of word\n",
    "\\B - Pattern should be present BUT NOT at the beginning of word."
   ]
  },
  {
   "cell_type": "code",
   "execution_count": null,
   "id": "abbeca4f",
   "metadata": {},
   "outputs": [],
   "source": []
  },
  {
   "cell_type": "code",
   "execution_count": null,
   "id": "1679cbcc",
   "metadata": {},
   "outputs": [],
   "source": []
  },
  {
   "cell_type": "code",
   "execution_count": null,
   "id": "f2736ecf",
   "metadata": {},
   "outputs": [],
   "source": []
  },
  {
   "cell_type": "code",
   "execution_count": null,
   "id": "0eebed20",
   "metadata": {},
   "outputs": [],
   "source": []
  },
  {
   "cell_type": "code",
   "execution_count": null,
   "id": "b3174bb9",
   "metadata": {},
   "outputs": [],
   "source": [
    "# Regex will match character by character but performing greedy match."
   ]
  },
  {
   "cell_type": "code",
   "execution_count": null,
   "id": "94ca6755",
   "metadata": {},
   "outputs": [],
   "source": [
    "input_str = 'a  xyzbut butbut butbutbut'\n",
    "\n",
    "sub_str = r'b\\w+'\n",
    "\n",
    "result = re.findall(sub_str, input_str)\n",
    "\n",
    "print(result)"
   ]
  },
  {
   "cell_type": "code",
   "execution_count": null,
   "id": "629e1cca",
   "metadata": {},
   "outputs": [],
   "source": []
  },
  {
   "cell_type": "code",
   "execution_count": null,
   "id": "31245ce1",
   "metadata": {},
   "outputs": [],
   "source": [
    "# Regex used for extracting matches of a pattern from text. \n",
    "\n",
    "# Greedy match - Tries to match as much of the text as part of its pattern. It wont stop as soon as a match is found but \n",
    "# continue to add characters to the pattern as long as the conditions for the pattern are being met. \n",
    "\n",
    "# \\A\n",
    "# \\b\n",
    "# \\B\n",
    "# \\d\n",
    "# \\D\n",
    "# \\s\n",
    "# \\S\n",
    "# \\w\n",
    "# \\W\n",
    "# \\Z\n"
   ]
  },
  {
   "cell_type": "code",
   "execution_count": null,
   "id": "6c6e585b",
   "metadata": {},
   "outputs": [],
   "source": [
    "# There are also Metacharacters.\n",
    "\n",
    "# MetaCharacters               Description\n",
    "# \\                            Used to drop the special meaning of character following it\n",
    "# []                           Represent a character class\n",
    "# ^                            Matches the beginning of string = \\A\n",
    "# $                            Matches the end of string = \\Z\n",
    "# .                            Matches any character except newline\n",
    "# |                            Means OR (Matches with any of the characters separated by it).\n",
    "\n",
    "# And Quantifiers\n",
    "\n",
    "# ?                            Matches zero or one occurrence - It signifies optional character.\n",
    "# *                            Any number of occurrences (including 0 occurrences)\n",
    "# +                            One or more occurrences\n",
    "# {}                           Indicate the number of occurrences of a preceding regex to match.\n",
    "# ()                           Enclose a group of Regex\n"
   ]
  },
  {
   "cell_type": "code",
   "execution_count": null,
   "id": "097188fe",
   "metadata": {},
   "outputs": [],
   "source": [
    "* = 0 or more occurrences of the character preceding it\n",
    "+ = 1 or more occurrences of the character/sequence preceding it. \n",
    "? = 0 or 1 occurrences of the character/sequence preceding it. "
   ]
  },
  {
   "cell_type": "code",
   "execution_count": 49,
   "id": "22e468c5",
   "metadata": {},
   "outputs": [
    {
     "name": "stdout",
     "output_type": "stream",
     "text": [
      "['colour']\n"
     ]
    }
   ],
   "source": [
    "import re\n",
    "\n",
    "input_str = 'He likes Red colour'\n",
    "\n",
    "sub_str = r'colou?r'\n",
    "\n",
    "result = re.findall(sub_str,input_str)\n",
    "\n",
    "print(result)"
   ]
  },
  {
   "cell_type": "code",
   "execution_count": 3,
   "id": "dfbac455",
   "metadata": {},
   "outputs": [],
   "source": [
    "import re"
   ]
  },
  {
   "cell_type": "code",
   "execution_count": 4,
   "id": "30f76908",
   "metadata": {},
   "outputs": [],
   "source": [
    "input_str = 'yamini@yahoo.com sankara.N@yahoo.co.in'"
   ]
  },
  {
   "cell_type": "code",
   "execution_count": 5,
   "id": "48d3de7e",
   "metadata": {},
   "outputs": [
    {
     "name": "stdout",
     "output_type": "stream",
     "text": [
      "['yamini@yahoo.com', 'sankara.N@yahoo.co.in']\n"
     ]
    }
   ],
   "source": [
    "sub_str = r'\\w+[.]?\\w+@\\w+[.]?\\w+[.]\\w+'\n",
    "\n",
    "result = re.findall(sub_str, input_str)\n",
    "\n",
    "print(result)"
   ]
  },
  {
   "cell_type": "code",
   "execution_count": null,
   "id": "2cf7b18c",
   "metadata": {},
   "outputs": [],
   "source": [
    "{} - specifying number of occurrences - either static or range\n",
    "\n"
   ]
  },
  {
   "cell_type": "code",
   "execution_count": 15,
   "id": "e79ae586",
   "metadata": {},
   "outputs": [
    {
     "name": "stdout",
     "output_type": "stream",
     "text": [
      "['hoooooot', 'booooot']\n"
     ]
    }
   ],
   "source": [
    "input_str = 'cot dot Foot got hot hoooooot Jot lot loot Moot not opt pot rot root soot tot toot booooot'\n",
    "\n",
    "sub_str = r'[a-zA-Z]o{3,7}t'\n",
    "\n",
    "result = re.findall(sub_str, input_str)\n",
    "\n",
    "print(result)"
   ]
  },
  {
   "cell_type": "code",
   "execution_count": null,
   "id": "ad04cc88",
   "metadata": {},
   "outputs": [],
   "source": [
    "\\A - ^ - Checks at beginning of string. \n",
    "\n",
    "[^]"
   ]
  },
  {
   "cell_type": "code",
   "execution_count": null,
   "id": "ef2145e0",
   "metadata": {},
   "outputs": [],
   "source": [
    "input_str = 'Betty b0u6ht some butt3r but \\n the butt3r w@s b!tt3r s0 betty b0u6ht \\t s0me b3tt3r butt3r \\r to m@k3 the \\r\\n b!tt3r butt3r b3tt3r.'\n",
    "\n",
    "\n",
    "print(input_str)"
   ]
  },
  {
   "cell_type": "code",
   "execution_count": null,
   "id": "4b7f46a0",
   "metadata": {},
   "outputs": [],
   "source": [
    "print(input_str)"
   ]
  },
  {
   "cell_type": "code",
   "execution_count": 76,
   "id": "66e800e3",
   "metadata": {},
   "outputs": [
    {
     "ename": "SyntaxError",
     "evalue": "invalid syntax (1322935084.py, line 1)",
     "output_type": "error",
     "traceback": [
      "\u001b[1;36m  File \u001b[1;32m\"C:\\Users\\Lenovo\\AppData\\Local\\Temp\\ipykernel_11432\\1322935084.py\"\u001b[1;36m, line \u001b[1;32m1\u001b[0m\n\u001b[1;33m    ^ = The same as \\A - looks for pattern at beginning of string.\u001b[0m\n\u001b[1;37m    ^\u001b[0m\n\u001b[1;31mSyntaxError\u001b[0m\u001b[1;31m:\u001b[0m invalid syntax\n"
     ]
    }
   ],
   "source": [
    "# ^ = The same as \\A - looks for pattern at beginning of string. \n",
    "# $ - The same as \\Z - looks for pattern at end of string."
   ]
  },
  {
   "cell_type": "code",
   "execution_count": 89,
   "id": "f0fb3d2e",
   "metadata": {},
   "outputs": [
    {
     "name": "stdout",
     "output_type": "stream",
     "text": [
      "['Betty']\n"
     ]
    }
   ],
   "source": [
    "input_str = 'Betty b0u6ht some butt3r but \\n the butt3r w@s b!tt3r s0 betty b0u6ht \\t s0me b3tt3r butt3r \\r to m@k3 the \\r\\n b!tt3r butt3r b3tt3r.'\n",
    "\n",
    "sub_re = r'^B\\w+'\n",
    "\n",
    "result = re.findall(sub_re, input_str)\n",
    "\n",
    "print(result)"
   ]
  },
  {
   "cell_type": "code",
   "execution_count": 90,
   "id": "5db01310",
   "metadata": {},
   "outputs": [
    {
     "name": "stdout",
     "output_type": "stream",
     "text": [
      "['Betty b0u6ht some butt3r but ', ' the butt3r w@s b!tt3r s0 betty b0u6ht \\t s0me b3tt3r butt3r \\r to m@k3 the \\r', ' b!tt3r butt3r b3tt3r']\n"
     ]
    }
   ],
   "source": [
    "input_str = 'Betty b0u6ht some butt3r but \\n the butt3r w@s b!tt3r s0 betty b0u6ht \\t s0me b3tt3r butt3r \\r to m@k3 the \\r\\n b!tt3r butt3r b3tt3r'\n",
    "\n",
    "sub_re = r'.+'\n",
    "\n",
    "result = re.findall(sub_re, input_str)\n",
    "\n",
    "print(result)"
   ]
  },
  {
   "cell_type": "code",
   "execution_count": 95,
   "id": "23452c7e",
   "metadata": {},
   "outputs": [
    {
     "name": "stdout",
     "output_type": "stream",
     "text": [
      "['sat', 'mat', 'rat', 'cat', 'bat', 'Oat', 'pat', 'Tat', 'Wat', '1at', '7at']\n"
     ]
    }
   ],
   "source": [
    "input_str = 'hat sat mat fat rat cat bat Oat pat Tat Wat 1at 7at'\n",
    "\n",
    "sub_re = r'[^fhtxy]at'\n",
    "\n",
    "result = re.findall(sub_re, input_str)\n",
    "\n",
    "print(result)"
   ]
  },
  {
   "cell_type": "code",
   "execution_count": null,
   "id": "bf03ef55",
   "metadata": {},
   "outputs": [],
   "source": [
    "[a-fA-F7-9]"
   ]
  },
  {
   "cell_type": "code",
   "execution_count": 96,
   "id": "bb855da2",
   "metadata": {},
   "outputs": [
    {
     "name": "stdout",
     "output_type": "stream",
     "text": [
      "['fat', 'cat', 'bat', 'Tat', '1at']\n"
     ]
    }
   ],
   "source": [
    "sub_re = r'[a-fT-V1-5]at'\n",
    "\n",
    "result = re.findall(sub_re, input_str)\n",
    "\n",
    "print(result)"
   ]
  },
  {
   "cell_type": "code",
   "execution_count": 100,
   "id": "c4dc235c",
   "metadata": {},
   "outputs": [
    {
     "name": "stdout",
     "output_type": "stream",
     "text": [
      "['basket', 'foot']\n"
     ]
    }
   ],
   "source": [
    "input_str = 'I like basketball. He likes football. We dont like volleyball'\n",
    "\n",
    "sub_re = r'b\\w+t|f\\w+t'\n",
    "\n",
    "result = re.findall(sub_re, input_str)\n",
    "\n",
    "print(result)"
   ]
  },
  {
   "cell_type": "code",
   "execution_count": null,
   "id": "2803f25c",
   "metadata": {},
   "outputs": [],
   "source": [
    "sub_str = r'.+'\n",
    "\n",
    "\n",
    "result = re.findall(sub_str, input_str)\n",
    "\n",
    "print(result)"
   ]
  },
  {
   "cell_type": "code",
   "execution_count": 4,
   "id": "1ea6cef7",
   "metadata": {},
   "outputs": [
    {
     "name": "stdout",
     "output_type": "stream",
     "text": [
      "['humour', 'humor']\n"
     ]
    }
   ],
   "source": [
    "input_str = 'colour humour color humor'\n",
    "\n",
    "input_strAm = 'color humor'\n",
    "\n",
    "sub_str = 'humou?r'\n",
    "\n",
    "result = re.findall(sub_str, input_str)\n",
    "\n",
    "print(result)"
   ]
  },
  {
   "cell_type": "code",
   "execution_count": null,
   "id": "de8002e6",
   "metadata": {},
   "outputs": [],
   "source": [
    "sub_str = '\\.+'\n",
    "\n",
    "result = re.findall(sub_str, input_str)\n",
    "\n",
    "print(result)"
   ]
  },
  {
   "cell_type": "code",
   "execution_count": 1,
   "id": "78f14a9d",
   "metadata": {},
   "outputs": [],
   "source": [
    "import re"
   ]
  },
  {
   "cell_type": "code",
   "execution_count": 3,
   "id": "6b9e96b8",
   "metadata": {},
   "outputs": [
    {
     "name": "stdout",
     "output_type": "stream",
     "text": [
      "['boot', 'hoot', 'hot', 'hot']\n"
     ]
    }
   ],
   "source": [
    "input_str = 'boot hoot hot got soot moooot looooooot bought however shot  ,oooot'\n",
    "\n",
    "sub_str = r'bo+t|ho+t'\n",
    "\n",
    "result = re.findall(sub_str, input_str)\n",
    "print(result)"
   ]
  },
  {
   "cell_type": "code",
   "execution_count": null,
   "id": "81ee3ed1",
   "metadata": {},
   "outputs": [],
   "source": [
    "input_str = '897983  yashoda@gmail.com vishal@hotmail.com 7981301490'\n",
    "\n",
    "sub_str = '\\d+|\\w+@\\w+\\.com'\n",
    "\n",
    "result = re.findall(sub_str, input_str)\n",
    "\n",
    "print(result)"
   ]
  },
  {
   "cell_type": "code",
   "execution_count": 6,
   "id": "3e9322d3",
   "metadata": {},
   "outputs": [
    {
     "name": "stdout",
     "output_type": "stream",
     "text": [
      "['humouur', 'humouuur']\n"
     ]
    }
   ],
   "source": [
    "input_str = 'colour color colouuur humour humouur humor humouuur humouuuuuuur'\n",
    "\n",
    "sub_str = 'humou{2,4}r'\n",
    "    \n",
    "result = re.findall(sub_str, input_str)\n",
    "\n",
    "print(result)"
   ]
  },
  {
   "cell_type": "code",
   "execution_count": null,
   "id": "bfd36507",
   "metadata": {},
   "outputs": [],
   "source": [
    "input_str = 'Ghosts say boo. Babies cry booohooohooobooooohoooohoooo. I wear a brown boot'\n",
    "\n",
    "sub_str = r'bo{2,4}\\w'\n",
    "\n",
    "result = re.findall(sub_str, input_str)\n",
    "\n",
    "print(result)"
   ]
  },
  {
   "cell_type": "code",
   "execution_count": null,
   "id": "324d5eef",
   "metadata": {},
   "outputs": [],
   "source": []
  },
  {
   "cell_type": "code",
   "execution_count": null,
   "id": "e685d725",
   "metadata": {},
   "outputs": [],
   "source": []
  },
  {
   "cell_type": "code",
   "execution_count": null,
   "id": "ff1a4ade",
   "metadata": {},
   "outputs": [],
   "source": []
  },
  {
   "cell_type": "code",
   "execution_count": null,
   "id": "b7286ad4",
   "metadata": {},
   "outputs": [],
   "source": [
    "input_str = 'Hello \\n Hi \\n Satsriakal \\n namaste \\n arigato \\n hola'\n",
    "\n",
    "print(input_str)"
   ]
  },
  {
   "cell_type": "code",
   "execution_count": null,
   "id": "b301ed72",
   "metadata": {},
   "outputs": [],
   "source": [
    "sub_str = '\\.+'\n",
    "\n",
    "result = "
   ]
  },
  {
   "cell_type": "code",
   "execution_count": null,
   "id": "6af1b1f2",
   "metadata": {},
   "outputs": [],
   "source": [
    "# Metacharacters - Characters with special meaning in RegEx"
   ]
  },
  {
   "cell_type": "code",
   "execution_count": null,
   "id": "e958885a",
   "metadata": {},
   "outputs": [],
   "source": [
    "input_str = 'B3tty b0u6ht some butt3r but the butt3r w@s b!tt3r s0 Betty B0u6ht s0me b3tt3r butt3r to m@k3 the b!tt3r\\\n",
    "butt3r b3tt3r.'"
   ]
  },
  {
   "cell_type": "code",
   "execution_count": null,
   "id": "d3b834e9",
   "metadata": {},
   "outputs": [],
   "source": [
    "#[] Any 'set' of characters inside the braces. "
   ]
  },
  {
   "cell_type": "code",
   "execution_count": null,
   "id": "099195d5",
   "metadata": {},
   "outputs": [],
   "source": [
    "^ - Outside the square brackets means match pattern at beginning of string. \n",
    "^ - Inside square brackets means - DO NOT MATCH the given characters"
   ]
  },
  {
   "cell_type": "code",
   "execution_count": null,
   "id": "36814eb0",
   "metadata": {},
   "outputs": [],
   "source": [
    "sub_str = r'[^ Bb]\\w+'\n",
    "\n",
    "result = re.findall(sub_str, input_str)\n",
    "\n",
    "print(result)"
   ]
  },
  {
   "cell_type": "code",
   "execution_count": null,
   "id": "55c765e2",
   "metadata": {},
   "outputs": [],
   "source": [
    "input_str = 'hello hill helium happy hover hall hulahoop'\n",
    "\n",
    "sub_str = 'h[au]l\\w*'\n",
    "\n",
    "result = re.findall(sub_str, input_str)\n",
    "\n",
    "print(result)"
   ]
  },
  {
   "cell_type": "code",
   "execution_count": null,
   "id": "edf4efef",
   "metadata": {},
   "outputs": [],
   "source": [
    "import re\n",
    "\n",
    "input_str = 'B3tty b0u6ht some butt3r but the butt3r w@s b!tt3r s0 betty b0u6ht some b3tt3r butt3r to make the b!tt3r \\\n",
    "butt3r b3tt3r.'\n",
    "\n",
    "sub_str = r'\\w+t|\\w+h'\n",
    "\n",
    "result = re.findall(sub_str, input_str)\n",
    "\n",
    "print(result)\n",
    "\n",
    "# Matches any word with EITHER t or h in it. Gives a match including any alphanumeric characters before and after the t or h\n",
    "# is found. "
   ]
  },
  {
   "cell_type": "code",
   "execution_count": null,
   "id": "12d9a28b",
   "metadata": {},
   "outputs": [],
   "source": [
    "import re\n",
    "\n",
    "input_str = 'B3tty b0u6ht some cutter but the butt3r \\n w@s b!tt3r s0 Betty b0u6ht \\n s0me b3tter butt3r to m@k3 \\n the bitt3r \\\n",
    "butt3r b3tter'\n",
    "\n",
    "print(input_str)"
   ]
  },
  {
   "cell_type": "code",
   "execution_count": null,
   "id": "e9abd7a1",
   "metadata": {},
   "outputs": [],
   "source": [
    "sub_str = r'[^Bcb][ue3!]tt\\w+'\n",
    "\n",
    "result = re.findall(sub_str, input_str)\n",
    "\n",
    "print(result)\n",
    "\n",
    "# Returns match of any words that have either e or t in them. Matches any number of characters before the e or t is found."
   ]
  },
  {
   "cell_type": "code",
   "execution_count": null,
   "id": "d34c1b33",
   "metadata": {},
   "outputs": [],
   "source": [
    "print(input_str)"
   ]
  },
  {
   "cell_type": "code",
   "execution_count": null,
   "id": "1963406c",
   "metadata": {},
   "outputs": [],
   "source": [
    "#^ = \\A\n",
    "#$ = \\Z\n",
    "\n",
    "\n",
    "sub_str = r'\\w+r\\Z'\n",
    "\n",
    "result = re.findall(sub_str, input_str)\n",
    "\n",
    "print(result)"
   ]
  },
  {
   "cell_type": "code",
   "execution_count": null,
   "id": "146efcd9",
   "metadata": {},
   "outputs": [],
   "source": [
    "sub_str = r'\\w+er$'\n",
    "\n",
    "result = re.finditer(sub_str, input_str)\n",
    "\n",
    "for x in result:\n",
    "    print(x.span(), x.group())\n",
    "\n",
    "    \n",
    "print(input_str[90:119])"
   ]
  },
  {
   "cell_type": "code",
   "execution_count": null,
   "id": "48e3369b",
   "metadata": {},
   "outputs": [],
   "source": [
    "# Note here how - 'B3tt', 'butt', 'tt', 'bett' - the match wasnt stopped as soon as the first t was found. That is because\n",
    "# regex patterns perform 'greedy' matches as much as they can match - they will try to match. In the example above - when \n",
    "# the regex program reaches the first t of b3tt - it satisfies BOTH conditions that it is an alphanumeric character \\w AND\n",
    "# it is part of the set [et], so it moves on to the next character which also satisfies both conditions - BUT we have not\n",
    "# specified that after it finds e or t - can there be any text after that? Since we have not specified that - the match\n",
    "# stops. However, if we were to add more t's after the first 2 - they would continue to get matched till the last t. \n",
    "\n",
    "input_str = 'B3tty b0u6ht some butt3r but the buttttt3r w@s b!tt3r s0 betty b0u6ht some b3tt3r butt3r to m@k3 the b!tt3r\\\n",
    "butt3r b3tt3r.'\n",
    "\n",
    "sub_str = r'b\\w+'\n",
    "\n",
    "result = re.finditer(sub_str, input_str)\n",
    "\n",
    "print(result)\n",
    "\n",
    "for x in result:\n",
    "    print(x.span(), x.group())\n",
    "    \n",
    "\n",
    "# print(result.span())\n",
    "# print(result.start())\n",
    "# print(result.end())\n",
    "# print(result.group())\n",
    "# print(result.string)"
   ]
  },
  {
   "cell_type": "code",
   "execution_count": null,
   "id": "0f1d154f",
   "metadata": {},
   "outputs": [],
   "source": [
    "print(dir(result))"
   ]
  },
  {
   "cell_type": "code",
   "execution_count": null,
   "id": "e2bfd9ce",
   "metadata": {},
   "outputs": [],
   "source": [
    "['Nestle 4Q profit rises'\n",
    "'Amazon becomes king of online retail'\n",
    "'CEO of Nestle steps down'\n",
    "\n",
    ".......]\n",
    "\n",
    "\n",
    "for x in lst:\n",
    "    result = re.search('Nestle', x)\n",
    "    print(result.span(), result.string)"
   ]
  },
  {
   "cell_type": "code",
   "execution_count": null,
   "id": "f5db3a59",
   "metadata": {},
   "outputs": [],
   "source": []
  },
  {
   "cell_type": "code",
   "execution_count": null,
   "id": "d300ffd2",
   "metadata": {},
   "outputs": [],
   "source": [
    "# \\ Usually signifies a special sequence but put before a special character can be used to signify escaping. \n",
    "\n",
    "input_str = '''B3tty b0u6ht some butt3r but the butt3r w@s b!tt3r s0 betty b0u6ht s0me b3tt3r butt3r to m@k3 the b!tt3r \\\n",
    "butt3r b3tt3r.'''\n",
    "\n",
    "print(input_str)"
   ]
  },
  {
   "cell_type": "code",
   "execution_count": null,
   "id": "88291fe4",
   "metadata": {},
   "outputs": [],
   "source": [
    "sub_str = r'\\\\'\n",
    "\n",
    "result = re.search(sub_str, input_str)\n",
    "\n",
    "print(result)"
   ]
  },
  {
   "cell_type": "code",
   "execution_count": null,
   "id": "85f75911",
   "metadata": {},
   "outputs": [],
   "source": [
    "input_str = '''B3tty b0u6ht some butt3r but the butt3r w@s 'btt3r s0 betty b0u6ht s0me b3tt3r butt3r to m@k3 the b!tt3r \\\n",
    "butt3r b3tt3r.'''\n",
    "\n",
    "print(input_str)"
   ]
  },
  {
   "cell_type": "code",
   "execution_count": null,
   "id": "69b3bb7f",
   "metadata": {},
   "outputs": [],
   "source": [
    "sub_str = r'\\'\\w+'\n",
    "\n",
    "result = re.search(sub_str, input_str)\n",
    "\n",
    "print(result)\n",
    "#print(input_str.index('\\\\'))"
   ]
  },
  {
   "cell_type": "code",
   "execution_count": null,
   "id": "80f4c4ae",
   "metadata": {},
   "outputs": [],
   "source": [
    "input_str = r\"B3tty b0u6ht some butt3r but the bu\\tt3r w@s b!tt3r s0 Betty b0u6ht s0me b3tt3r butt3r to m@k3 the b!tt3r\\\n",
    "butt3r b3tt3r.\"\n",
    "\n",
    "print(input_str)"
   ]
  },
  {
   "cell_type": "code",
   "execution_count": null,
   "id": "9d6d47c9",
   "metadata": {},
   "outputs": [],
   "source": [
    "sub_str = r'\\\\t\\w+'\n",
    "result = re.search(sub_str, input_str)\n",
    "\n",
    "print(result.group())"
   ]
  },
  {
   "cell_type": "code",
   "execution_count": null,
   "id": "c1ca0fa2",
   "metadata": {},
   "outputs": [],
   "source": [
    "input_str = r'B3tty b0u6ht some butt3r but the bu\\tt3r w@s b!tt3r s0 Betty b0u6ht s0me b3tt3r butt3r to m@k3 the b!tt3r\\\n",
    "butt3r b3tt3r.'\n",
    "\n",
    "print(input_str)"
   ]
  },
  {
   "cell_type": "code",
   "execution_count": null,
   "id": "c47658a9",
   "metadata": {},
   "outputs": [],
   "source": [
    "sub_str = r'\\\\'\n",
    "\n",
    "result = re.search(sub_str, input_str)\n",
    "\n",
    "print(result)"
   ]
  },
  {
   "cell_type": "code",
   "execution_count": null,
   "id": "08ead166",
   "metadata": {},
   "outputs": [],
   "source": [
    "# Methods - \n",
    "\n",
    "# findall - matches all the patterns that are available in the input string and the output is in a list.\n",
    "# finditer - matches all the patterns that are available in the input string. Output is an iterator object that contains all\n",
    "# the found match objects.\n",
    "# search - matches First occurrence of pattern in input string. Output is a match object\n",
    "# match - matches pattern if it occurs at beginning of input string. Output is a match object.\n",
    "# compile - compiles the pattern to search into a pattern object. This pattern object can be saved for reusability also for\n",
    "# applying regex methods(methods available in re library) directly onto the pattern object.\n",
    "\n",
    "# Methods available to match objects?\n",
    "# ((start, end) index, matched pattern)\n",
    "\n",
    "# span - shows the start and end index of the matched pattern in the form of a tuple. \n",
    "# start - shows the start index of the matched pattern. \n",
    "# end - ouputs the end index of the matched pattern. \n",
    "# group - ouputs the string which was matched by the pattern. \n",
    "# string (attribute) - outputs the input string on which the pattern matching was performed. \n",
    "\n",
    "# Special Sequences\n",
    "\n",
    "# \\A - searches for pattern at beginning of string\n",
    "# \\Z - searches for pattern at end of string. \n",
    "# \\b - searches for pattern which must be at the beginning of a word. \n",
    "# \\B - searches for pattern but pattern must NOT be at the beginning of word. \n",
    "# \\d - searches for digit characters\n",
    "# \\D - searches for Non-Digit characters\n",
    "# \\s - searches for space character. \n",
    "# \\S - searches for any character that is not a space.\n",
    "# \\w - searches for alphanumeric characters\n",
    "# \\W - searches for NON - alphanumeric characters\n",
    "\n",
    "# Metacharacters\n",
    "\n",
    "# \\ - As escape character\n",
    "# [] - Sets of characters\n",
    "# ^ - Outside square brackets - means search for pattern at beginning of string (same as \\A)\n",
    "# $ - means search for pattern at end of string (same as \\Z)\n",
    "# . - Looks for any character except newline\n",
    "# | - OR looks for one pattern OR another.\n",
    "\n",
    "# Sets examples\n",
    "# [apr] - will search for any one of the enclosed characters\n",
    "# [^apr] - will NOT include the enclosed characters as part of search pattern.\n",
    "# [0-5] - will include range of digits between 0 to 5\n",
    "# [a-p] - will include range of alphabets between a to p\n",
    "# [a-zA-Z] - Any alphabets between small a to small z and capital A to capital Z\n",
    "# [1-5][3-7] - Any numbers that are between 1 to 5 as first digit and 3 to 7 as second digit\n",
    "# [+*] - Except for caret ^ - the other symbols have no special meaning inside square brackets. So + means we will look for \n",
    "# + character in patter, * means we will look for * character in pattern and so on...."
   ]
  },
  {
   "cell_type": "code",
   "execution_count": null,
   "id": "c3e69471",
   "metadata": {},
   "outputs": [],
   "source": [
    "1 3,4,5,6,7 - 13 to 17 or \n",
    "2 3,4,5,6,7 - 23 to 27\n",
    "3.....      - 33 to 37\n",
    "4             43 to 47      \n",
    "5             53 to 57"
   ]
  },
  {
   "cell_type": "code",
   "execution_count": null,
   "id": "782feada",
   "metadata": {},
   "outputs": [],
   "source": [
    "# . Signifies any chaaracter except newline characters, \\r, \\r\\n"
   ]
  },
  {
   "cell_type": "code",
   "execution_count": null,
   "id": "d96aabbb",
   "metadata": {},
   "outputs": [],
   "source": [
    "import re\n",
    "\n",
    "input_str = 'B3tty b0u6ht some butt3r but the butt3r w@s \\n b!tt3r s0 Betty b0u6ht \\r\\n s0me b3tt3r butt3r \\n to m@k3 \\\n",
    "the b!tt3r \\n butt3r b3tt3r.'\n",
    "\n",
    "print(input_str)"
   ]
  },
  {
   "cell_type": "code",
   "execution_count": null,
   "id": "3b0d4db7",
   "metadata": {},
   "outputs": [],
   "source": [
    "sub_str = r'.+'\n",
    "\n",
    "result = re.findall(sub_str,input_str)\n",
    "\n",
    "print(result)"
   ]
  },
  {
   "cell_type": "code",
   "execution_count": null,
   "id": "669d7f4f",
   "metadata": {},
   "outputs": [],
   "source": [
    "sub_str = '\\w+.'\n",
    "\n",
    "result = re.findall(sub_str, input_str)\n",
    "print(result)"
   ]
  },
  {
   "cell_type": "code",
   "execution_count": null,
   "id": "10f95f73",
   "metadata": {},
   "outputs": [],
   "source": [
    "# ^ Starts with specified character - same as \\A"
   ]
  },
  {
   "cell_type": "code",
   "execution_count": null,
   "id": "26570e6a",
   "metadata": {},
   "outputs": [],
   "source": [
    "input_str = 'B3tty b0u6ht some butt3r but the butt3r w@s b!tt3r s0 Betty b0u6ht s0me b3tt3r butt3r to m@k3 the b!tt3r\\\n",
    "butt3r b3tt3r.'\n",
    "\n",
    "sub_str = r'^B\\w+'\n",
    "\n",
    "\n",
    "result = re.findall(sub_str, input_str)\n",
    "\n",
    "print(result)"
   ]
  },
  {
   "cell_type": "code",
   "execution_count": null,
   "id": "3c4c1cea",
   "metadata": {},
   "outputs": [],
   "source": [
    "sub_str = r'\\AB\\w+'\n",
    "\n",
    "result = re.findall(sub_str, input_str)\n",
    "\n",
    "print(result)"
   ]
  },
  {
   "cell_type": "code",
   "execution_count": null,
   "id": "9b49db8f",
   "metadata": {},
   "outputs": [],
   "source": [
    "sub_str = r'\\bB\\w+'\n",
    "\n",
    "result = re.findall(sub_str, input_str)\n",
    "\n",
    "print(result)"
   ]
  },
  {
   "cell_type": "code",
   "execution_count": null,
   "id": "279fac04",
   "metadata": {},
   "outputs": [],
   "source": [
    "sub_str = r'^b\\w+'\n",
    "\n",
    "result = re.findall(sub_str, input_str)\n",
    "\n",
    "print(result)"
   ]
  },
  {
   "cell_type": "code",
   "execution_count": null,
   "id": "6d17ccee",
   "metadata": {},
   "outputs": [],
   "source": [
    "input_str = 'b3tty b0u6ht some butt3r but the butt3r w@s b!tt3r s0 betty b0u6ht s0me b3tt3r butt3r to m@k3 the b!tt3r\\\n",
    "butt3r b3tt3r.'\n",
    "\n",
    "sub_str = r'^b.+'\n",
    "\n",
    "result = re.findall(sub_str, input_str)\n",
    "\n",
    "print(result)"
   ]
  },
  {
   "cell_type": "code",
   "execution_count": null,
   "id": "3fb2882c",
   "metadata": {},
   "outputs": [],
   "source": [
    "sub_str = r'\\Ab\\w+'\n",
    "\n",
    "result = re.findall(sub_str, input_str)\n",
    "\n",
    "print(result)"
   ]
  },
  {
   "cell_type": "code",
   "execution_count": null,
   "id": "32e69ba2",
   "metadata": {},
   "outputs": [],
   "source": [
    "# $ - Checks if whole string ends with specified characters. Same as \\Z"
   ]
  },
  {
   "cell_type": "code",
   "execution_count": null,
   "id": "5ed4252c",
   "metadata": {},
   "outputs": [],
   "source": [
    "input_str = 'B3tty b0u6ht some butt3r but the butt3r w@s b!tt3r s0 Betty b0u6ht s0me b3tt3r butt3r to m@k3 the b!tt3r\\\n",
    "butt3r b3tt3r.'\n",
    "\n",
    "sub_str = r'\\w+t3r.$'\n",
    "\n",
    "result = re.findall(sub_str, input_str)\n",
    "\n",
    "print(result)"
   ]
  },
  {
   "cell_type": "code",
   "execution_count": null,
   "id": "5a166193",
   "metadata": {},
   "outputs": [],
   "source": [
    "#Note no result since the string does not end with 't3r' but with 't3r.'\n",
    "\n",
    "sub_str = r't3r.$'\n",
    "\n",
    "result = re.findall(sub_str, input_str)\n",
    "\n",
    "print(result)"
   ]
  },
  {
   "cell_type": "code",
   "execution_count": null,
   "id": "0eed1cbf",
   "metadata": {},
   "outputs": [],
   "source": [
    "sub_str = r't3r\\.'\n",
    "\n",
    "result = re.findall(sub_str, input_str)\n",
    "\n",
    "print(result)"
   ]
  },
  {
   "cell_type": "code",
   "execution_count": null,
   "id": "68e4e717",
   "metadata": {},
   "outputs": [],
   "source": [
    "sub_str = r't3r\\.'\n",
    "\n",
    "result = re.search(sub_str, input_str)\n",
    "\n",
    "print(result)"
   ]
  },
  {
   "cell_type": "code",
   "execution_count": null,
   "id": "f3b552c4",
   "metadata": {},
   "outputs": [],
   "source": [
    "# * - 0 or more occurrences of specified characters(placed on the right of the characters we wish to specify)\n",
    "\n",
    "input_str = 'B3tty b0u6ht some butt3r but the butt3r w@s b!tt3r s0 Betty b0u6ht s0me b3tt3r butt3r to m@k3 the b!773r\\\n",
    "butt3r b3tt3r.'\n",
    "\n",
    "input_str = 'fin find final finaal finale finals finish finash finl'\n",
    "sub_str = r'fina*l'\n",
    "\n",
    "result = re.findall(sub_str, input_str)\n",
    "\n",
    "print(result)\n"
   ]
  },
  {
   "cell_type": "code",
   "execution_count": null,
   "id": "6c0c0c88",
   "metadata": {},
   "outputs": [],
   "source": [
    "# + - 1 or more occurrences of specified characters(placed on the right side of the characters we wish to specify)\n",
    "input_str = 'B3tty b0u6ht some butt3r but the butt3r w@s b!tt3r s0 Betty b0u6ht s0me b3tt3r butt3r to m@k3 the b!773r\\\n",
    "butt3r b3tt3r.'\n",
    "\n",
    "sub_str = r'\\w+ht+'\n",
    "\n",
    "result = re.findall(sub_str, input_str)\n",
    "\n",
    "print(result)"
   ]
  },
  {
   "cell_type": "code",
   "execution_count": null,
   "id": "5f0ca402",
   "metadata": {},
   "outputs": [],
   "source": [
    "# {} - Exactly the specified number of occurrences. \n",
    "print(input_str)"
   ]
  },
  {
   "cell_type": "code",
   "execution_count": null,
   "id": "a876cc80",
   "metadata": {},
   "outputs": [],
   "source": [
    "input_str = 'B3tty b0u6ht some buttttttt3r buter the buttttt3r w@s bitt3r s0 Betty b0u6ht s0me b3tttt3r buttt3r to m@k3 the bi773r \\\n",
    "butt3r b3tt3r.'\n"
   ]
  },
  {
   "cell_type": "code",
   "execution_count": null,
   "id": "c38773de",
   "metadata": {},
   "outputs": [],
   "source": [
    "sub_str = r'b[3uie]t{2,4}[3e]r'\n",
    "\n",
    "result = re.findall(sub_str, input_str)\n",
    "\n",
    "print(result)"
   ]
  },
  {
   "cell_type": "code",
   "execution_count": null,
   "id": "80f2b259",
   "metadata": {},
   "outputs": [],
   "source": []
  },
  {
   "cell_type": "code",
   "execution_count": null,
   "id": "6398bff2",
   "metadata": {},
   "outputs": [],
   "source": [
    "# {} - Exactly the specified number of occurrences. \n",
    "\n",
    "sub_str = r'\\w+t{2}'\n",
    "\n",
    "result = re.findall(sub_str, input_str)\n",
    "\n",
    "print(result)"
   ]
  },
  {
   "cell_type": "code",
   "execution_count": null,
   "id": "e00ab3ee",
   "metadata": {},
   "outputs": [],
   "source": [
    "# {} - Exactly the specified number of occurrences. \n",
    "\n",
    "sub_str = r'\\w+t{2}\\w+'\n",
    "\n",
    "result = re.findall(sub_str, input_str)\n",
    "\n",
    "print(result)\n"
   ]
  },
  {
   "cell_type": "code",
   "execution_count": null,
   "id": "20b2386b",
   "metadata": {},
   "outputs": [],
   "source": [
    "# {x,y} - Between the specified number of occurrences. \n",
    "\n",
    "input_str = 'B3tty b0u6ht some butt3r but the butt3r w@s b!t3r s0 Betty b0u6ht s0me b3tttttt3r butt3r to m@k3 the b!t3r\\\n",
    "butt3r b3tttt3r.'\n",
    "\n",
    "sub_str = r'\\w+[3ue]t{2,4}'\n",
    "\n",
    "result = re.findall(sub_str, input_str)\n",
    "\n",
    "print(result)"
   ]
  },
  {
   "cell_type": "code",
   "execution_count": null,
   "id": "86dc5b66",
   "metadata": {},
   "outputs": [],
   "source": [
    "# | - Either / or any of the specified characcters in pattern. \n",
    "\n",
    "input_str = 'B3tty b0u6ht some butt3r but the butt3r w@s b!tt3r s0 Betty b0u6ht s0me b3tt3r butt3r to m@k3 the b!tt3r\\\n",
    "butt3r b3tt3r.'\n",
    "\n",
    "\n",
    "sub_str = r'b\\w+|s\\w+'\n",
    "\n",
    "result = re.findall(sub_str, input_str)\n",
    "\n",
    "print(result)"
   ]
  },
  {
   "cell_type": "code",
   "execution_count": null,
   "id": "0226b8e3",
   "metadata": {},
   "outputs": [],
   "source": [
    "# ? - Makes the character preceding the ? mark optional.\n",
    "\n",
    "text = 'The colonel colours the car in a Red color'\n",
    "\n",
    "sub_str = r'colou?r'\n",
    "\n",
    "result = re.findall(sub_str, text)\n",
    "\n",
    "print(result)"
   ]
  },
  {
   "cell_type": "code",
   "execution_count": null,
   "id": "20061efa",
   "metadata": {},
   "outputs": [],
   "source": [
    "# As you probably noticed, the regex query matched both 'colour' and 'color' since it was optional to match the u, if\n",
    "# present it was matched, even if not present the pattern was matched."
   ]
  },
  {
   "cell_type": "code",
   "execution_count": null,
   "id": "fc671467",
   "metadata": {},
   "outputs": [],
   "source": [
    "# () Capture and group the specified characters pattern. Allows you to match (or capture) a specific group of characters\n",
    "# collectively."
   ]
  },
  {
   "cell_type": "code",
   "execution_count": null,
   "id": "b6011846",
   "metadata": {},
   "outputs": [],
   "source": [
    "input_str = 'B3tty b0u6ht some btt3r but the btt3r w@s btt3r s0 Betty b0u6ht s0me b3tt3r butt3r to m@k3 the b!tt3r\\\n",
    "butt3r b3tt3r.'\n",
    "\n",
    "sub_str = r'[bB]3?t\\w+'\n",
    "\n",
    "result = re.findall(sub_str, input_str)\n",
    "\n",
    "print(result)"
   ]
  },
  {
   "cell_type": "code",
   "execution_count": null,
   "id": "d34e62b0",
   "metadata": {},
   "outputs": [],
   "source": [
    "sub_str = r'(bar)'\n",
    "\n",
    "result = re.search(sub_str, input_str)\n",
    "\n",
    "print(result)"
   ]
  },
  {
   "cell_type": "code",
   "execution_count": null,
   "id": "ca1fea91",
   "metadata": {},
   "outputs": [],
   "source": [
    "# The difference though - between regular regex without the parenthesis and with is that now the characters defined in the\n",
    "# parentheses are treated as one group. e.g.\n",
    "\n",
    "import re\n",
    "\n",
    "input_str = 'foo barbar baz'\n",
    "\n",
    "sub_str = r'\\sbar'\n",
    "\n",
    "result = re.findall(sub_str, input_str)\n",
    "\n",
    "print(result)"
   ]
  },
  {
   "cell_type": "code",
   "execution_count": null,
   "id": "26909783",
   "metadata": {},
   "outputs": [],
   "source": [
    "# As we can see it took the r as an optional character in this case. "
   ]
  },
  {
   "cell_type": "code",
   "execution_count": null,
   "id": "4a406eca",
   "metadata": {},
   "outputs": [],
   "source": [
    "# input_str = 'B3tty b0u6ht boon goon opt option soon moon some butt3r but the butt3r w@s b!tt3r s0 Betty b0u6ht s0me b3tt3r butt3r to m@k3 the b!tt3r\\\n",
    "# butt3r b3tt3r.'\n",
    "\n",
    "# sub_str = r'(opt(ion)?)'\n",
    "\n",
    "# result = re.findall(sub_str, input_str)\n",
    "\n",
    "# print(result)"
   ]
  },
  {
   "cell_type": "code",
   "execution_count": 36,
   "id": "67ec3277",
   "metadata": {},
   "outputs": [
    {
     "name": "stdout",
     "output_type": "stream",
     "text": [
      "[('butter', 'ter'), ('but', ''), ('butter', 'ter'), ('butter', 'ter'), ('butter', 'ter'), ('butter', 'ter'), ('but', ''), ('but', ''), ('but', ''), ('but', '')]\n"
     ]
    }
   ],
   "source": [
    "input_str = 'B3tty b0u6ht s0me butter but the butter was bitt3r so B3tty b0u6ht some butter butter to mak3 the bitt3r \\\n",
    "butter b3tt3r but butt bute butr'\n",
    "\n",
    "sub_str = r'(but(ter)?)'\n",
    "\n",
    "result = re.findall(sub_str, input_str)\n",
    "\n",
    "print(result)"
   ]
  },
  {
   "cell_type": "code",
   "execution_count": 35,
   "id": "c176edd5",
   "metadata": {},
   "outputs": [
    {
     "name": "stdout",
     "output_type": "stream",
     "text": [
      "butter\n",
      "but\n",
      "butter\n",
      "butter\n",
      "butter\n",
      "butter\n",
      "but\n",
      "but\n",
      "but\n",
      "but\n"
     ]
    }
   ],
   "source": [
    "for x in result:\n",
    "    print(x.groups()[0])"
   ]
  },
  {
   "cell_type": "code",
   "execution_count": 22,
   "id": "d30b6796",
   "metadata": {},
   "outputs": [
    {
     "name": "stdout",
     "output_type": "stream",
     "text": [
      "<callable_iterator object at 0x0000020F89C91400>\n"
     ]
    }
   ],
   "source": [
    "#We can use nested grouping to capture specific characters.\n",
    "\n",
    "input_str = 'B3tty b0u6ht s0me butter but the butter was bitt3r so B3tty b0u6ht some butter butter to mak3 the bitt3r \\\n",
    "butter b3tt3r but butt bute butr'\n",
    "\n",
    "sub_str = r'(but)(ter)?'\n",
    "\n",
    "result = re.finditer(sub_str, input_str)\n",
    "\n",
    "print(result)"
   ]
  },
  {
   "cell_type": "code",
   "execution_count": 81,
   "id": "0e15c6aa",
   "metadata": {},
   "outputs": [
    {
     "name": "stdout",
     "output_type": "stream",
     "text": [
      "B3tty b0u64t s0me butter but t4e butt3r was bitt3r 3rxB3 so B3tty bou64t s0m3 b3tt3r butt3r to mak3 t43 bitt3r butt3r b3tt3r\n",
      "B3tty b0u64t s0me butter but t4e butt3r was bitt3r so 3rxB3 B3tty bou64t s0m3 b3tt3r butt3r to mak3 t43 bitt3r butt3r b3tt3r\n",
      "B3tty b0u64t s0me butter but t4e butt3r was bitt3r so 3rxB3 B3tty bou64t s0m3 b3tt3r butt3r to mak3 t43 bitt3r butt3r b3tt3r\n"
     ]
    }
   ],
   "source": [
    "print(input_str)"
   ]
  },
  {
   "cell_type": "code",
   "execution_count": 105,
   "id": "ecc67bad",
   "metadata": {},
   "outputs": [],
   "source": [
    "sub_str2 = r'(but)(ter)?'\n",
    "result = re.findall(sub_str, input_str)\n",
    "result2 = re.finditer(sub_str2, input_str)"
   ]
  },
  {
   "cell_type": "code",
   "execution_count": 106,
   "id": "f030404f",
   "metadata": {},
   "outputs": [
    {
     "name": "stdout",
     "output_type": "stream",
     "text": [
      "[('but', 'ter'), ('but', ''), ('but', 'ter'), ('but', 'ter'), ('but', 'ter'), ('but', 'ter'), ('but', ''), ('but', ''), ('but', ''), ('but', '')]\n"
     ]
    }
   ],
   "source": [
    "print(result)"
   ]
  },
  {
   "cell_type": "code",
   "execution_count": 107,
   "id": "53a51833",
   "metadata": {},
   "outputs": [
    {
     "name": "stdout",
     "output_type": "stream",
     "text": [
      "<callable_iterator object at 0x0000025D9AC20D90>\n"
     ]
    }
   ],
   "source": [
    "print(result2)\n",
    "#print(result.group())"
   ]
  },
  {
   "cell_type": "code",
   "execution_count": 108,
   "id": "789eb332",
   "metadata": {},
   "outputs": [
    {
     "name": "stdout",
     "output_type": "stream",
     "text": [
      "<re.Match object; span=(18, 24), match='butter'>\n",
      "('but', 'ter')\n",
      "butter\n",
      "but\n",
      "ter\n",
      "<re.Match object; span=(25, 28), match='but'>\n",
      "('but', None)\n",
      "but\n",
      "but\n",
      "None\n",
      "<re.Match object; span=(33, 39), match='butter'>\n",
      "('but', 'ter')\n",
      "butter\n",
      "but\n",
      "ter\n",
      "<re.Match object; span=(72, 78), match='butter'>\n",
      "('but', 'ter')\n",
      "butter\n",
      "but\n",
      "ter\n",
      "<re.Match object; span=(79, 85), match='butter'>\n",
      "('but', 'ter')\n",
      "butter\n",
      "but\n",
      "ter\n",
      "<re.Match object; span=(105, 111), match='butter'>\n",
      "('but', 'ter')\n",
      "butter\n",
      "but\n",
      "ter\n",
      "<re.Match object; span=(119, 122), match='but'>\n",
      "('but', None)\n",
      "but\n",
      "but\n",
      "None\n",
      "<re.Match object; span=(123, 126), match='but'>\n",
      "('but', None)\n",
      "but\n",
      "but\n",
      "None\n",
      "<re.Match object; span=(128, 131), match='but'>\n",
      "('but', None)\n",
      "but\n",
      "but\n",
      "None\n",
      "<re.Match object; span=(133, 136), match='but'>\n",
      "('but', None)\n",
      "but\n",
      "but\n",
      "None\n"
     ]
    }
   ],
   "source": [
    "for x in result2:\n",
    "    print(x)\n",
    "    print(x.groups())\n",
    "    print(x.group(0))\n",
    "    print(x.group(1))\n",
    "    print(x.group(2))"
   ]
  },
  {
   "cell_type": "code",
   "execution_count": null,
   "id": "4c7486cd",
   "metadata": {},
   "outputs": [],
   "source": [
    "# Note how the groups() method gave out a tuple of the matches. We have seen 3 captures in our regex - outer capture 1, \n",
    "# inner capture 1 and inner capture2. \n",
    "\n",
    "# ((innercap1)(innercap2)) - Not all captures may have participated in the group. To get the breakdown of the groups\n",
    "# captured by the regex in a match object, we can use the group or groups methods. "
   ]
  },
  {
   "cell_type": "code",
   "execution_count": null,
   "id": "735d521d",
   "metadata": {},
   "outputs": [],
   "source": [
    "span\n",
    "start\n",
    "end\n",
    "group\n",
    "string\n",
    "\n",
    "groups()"
   ]
  },
  {
   "cell_type": "code",
   "execution_count": null,
   "id": "8e20a94e",
   "metadata": {},
   "outputs": [],
   "source": [
    "input_str = 'I love basketball. But I am not very good at it.'\n",
    "input_str2 = 'I also like badminton which I am actually pretty good at'\n",
    "\n",
    "sub_str = r'I (also )?(love|like) (basketball|badminton)'\n",
    "\n",
    "result = re.search(sub_str, input_str)\n",
    "\n",
    "print(result)\n",
    "print(result.group())\n",
    "print(result.groups())"
   ]
  },
  {
   "cell_type": "code",
   "execution_count": 45,
   "id": "adca25fc",
   "metadata": {},
   "outputs": [
    {
     "name": "stdout",
     "output_type": "stream",
     "text": [
      "<callable_iterator object at 0x0000020F89DD81C0>\n",
      "<re.Match object; span=(0, 17), match='I love basketball'>\n",
      "I love basketball\n",
      "(None, 'love', 'basketball')\n",
      "<re.Match object; span=(49, 70), match='I also like badminton'>\n",
      "I also like badminton\n",
      "('also ', 'like', 'badminton')\n"
     ]
    }
   ],
   "source": [
    "input_str = 'I love basketball. But I am not very good at it. I also like badminton which I am actually pretty good at. \\\n",
    "Rohit does not play either badminton or basketball'\n",
    "\n",
    "sub_str = r'I (also )?(love|like) (basketball|badminton)'\n",
    "\n",
    "result = re.finditer(sub_str, input_str)\n",
    "\n",
    "print(result)\n",
    "\n",
    "for x in result:\n",
    "    print(x)\n",
    "    print(x.group())\n",
    "    print(x.groups())"
   ]
  },
  {
   "cell_type": "code",
   "execution_count": null,
   "id": "10619636",
   "metadata": {},
   "outputs": [],
   "source": [
    "result = re.search(sub_str, input_str2)\n",
    "\n",
    "print(result)\n",
    "print(result.group())\n",
    "print(result.groups())"
   ]
  },
  {
   "cell_type": "code",
   "execution_count": 3,
   "id": "5a03489d",
   "metadata": {},
   "outputs": [
    {
     "name": "stdout",
     "output_type": "stream",
     "text": [
      "<callable_iterator object at 0x000001686F1BEFD0>\n",
      "Name : Michael\n",
      "Last Name : Jordan\n",
      "Email : mj@gmail.com\n",
      "Name : Kobe\n",
      "Last Name : Bryant\n",
      "Email : kobe@hotmail.com\n",
      "Name : LeBron\n",
      "Last Name : James\n",
      "Email : lbj@rediff.com\n"
     ]
    }
   ],
   "source": [
    "import re\n",
    "inputstr = 'Michael Jordan email mj@gmail.com  Kobe Bryant email kobe@hotmail.com LeBron James email lbj@rediff.com'\n",
    "\n",
    "pattern = r'(\\w+) (\\w+) email (\\w+@\\w+[.]com)'\n",
    "\n",
    "result = re.finditer(pattern, inputstr)\n",
    "\n",
    "print(result)\n",
    "\n",
    "for player in result:\n",
    "    print(f'Name : {player.group(1)}')\n",
    "    print(f'Last Name : {player.group(2)}')\n",
    "    print(f'Email : {player.group(3)}')\n",
    "          "
   ]
  },
  {
   "cell_type": "code",
   "execution_count": null,
   "id": "678525ce",
   "metadata": {},
   "outputs": [],
   "source": [
    "# Sets - A set in Regex is a set of characters inside a pair of square brackets [] with a special meaning. \n",
    "\n",
    "# Set        Description\n",
    "# [apz]      Returns a match where any one of the specified characters (a, p, or z) are present\n",
    "# [a-e]      Returns a match for any lower case character, alphabetically between a and e\n",
    "# [^apz]     Returns a match for any character EXCEPT a, p, and z\n",
    "# [0279]     Returns a match where any of the specified digits (0, 2, 7 or 9) are present\n",
    "# [0-5]      Returns a match for any digit between 0 and 5\n",
    "# [0-5][0-9] Returns a match for any two-digit numbers from 00 and 59\t\n",
    "# [2-5][4-7] Returns a match of numbers from 24 to 27, 34 to 37, 44 to 47 and 54 to 57\n",
    "# [a-zA-Z]   Returns a match for any character alphabetically between a and z, lower case OR upper case\t\n",
    "# [+]        In sets, +, *, ., |, (), $,{} has no special meaning, so [+] means: return a match for any + character\n",
    "#            in the string, [*] for any * character and so on. Only the ^ character retains its special meaning.\n",
    "\n",
    "\n",
    ". - Anything except newline\n",
    "\n"
   ]
  },
  {
   "cell_type": "code",
   "execution_count": null,
   "id": "d7463a2a",
   "metadata": {},
   "outputs": [],
   "source": [
    "0  - 0 1 2 3 4 5 6 7 8 9 = 00 to 09\n",
    "1  - 0 1 2 3 4 5 6 7 8 9 = 10 to 19\n",
    "2  - 0 1 2 3 4 5 6 7 8 9\n",
    "3  - 0 1 2 3 4 5 6 7 8 9\n",
    "4  - 0 1 2 3 4 5 6 7 8 9\n",
    "5  - 0 1 2 3 4 5 6 7 8 9 = 50 to 59\n",
    "\n",
    "\n"
   ]
  },
  {
   "cell_type": "code",
   "execution_count": null,
   "id": "0c9df33e",
   "metadata": {},
   "outputs": [],
   "source": [
    "input_str = '0279ABC'\n",
    "input_str2 = '0ABC'\n",
    "input_str3 = '9ABC'\n",
    "\n",
    "sub_str = r'[0279]\\w+'"
   ]
  },
  {
   "cell_type": "code",
   "execution_count": null,
   "id": "bc7974c5",
   "metadata": {},
   "outputs": [],
   "source": [
    "^ - Search at the beginning of string (same as \\A) - Slight difference I will explain later\n",
    "$ - Search at END of string (same as \\Z)\n",
    "\n",
    "^ - Search at the beginning of string (same as \\A) - Slight difference I will explain later - This meaning caret character\n",
    "# is ONLY APPLICABLE outside square brackets (character class). INSIDE square brackets - it means except. \n"
   ]
  },
  {
   "cell_type": "code",
   "execution_count": null,
   "id": "8a697697",
   "metadata": {},
   "outputs": [],
   "source": [
    "0 [0 1 2 3 4 5 6 7 8 9] - 00 ~ 09\n",
    "1 [0 1 2 3 4 5 6 7 8 9] - 10 ~ 19\n",
    "2 [0 1 2 3 4 5 6 7 8 9] - 20 ~ 29\n",
    "3 [0 1 2 3 4 5 6 7 8 9] - 30 ~ 39\n",
    "4 [0 1 2 3 4 5 6 7 8 9] - 40 ~ 49\n",
    "5 [0 1 2 3 4 5 6 7 8 9] - 50 ~ 59"
   ]
  },
  {
   "cell_type": "code",
   "execution_count": null,
   "id": "54eac268",
   "metadata": {},
   "outputs": [],
   "source": [
    "24,25,26,27\n",
    "34,35,36,37\n",
    "44,45,46,47\n",
    "54,55,56,57"
   ]
  },
  {
   "cell_type": "code",
   "execution_count": null,
   "id": "207690c9",
   "metadata": {},
   "outputs": [],
   "source": [
    "inputstr = 'abpzxyz'\n",
    "\n",
    "substr = r'[^apz]\\w+'\n",
    "\n",
    "result = re.findall(substr, inputstr)\n",
    "\n",
    "print(result)"
   ]
  },
  {
   "cell_type": "code",
   "execution_count": null,
   "id": "4e73fcd6",
   "metadata": {},
   "outputs": [],
   "source": [
    "# [apz] - Square brackets around specified characters - Returns a match where any one of the specified characters\n",
    "# (a, p, or z) are present\n",
    "\n",
    "\n",
    "input_str = 'Betty bought some butter but the butter was bitter so Betty bought some better butter to make the bitter \\\n",
    "butter better'\n",
    "\n",
    "sub_str = r'\\w+[mh]'\n",
    "\n",
    "result = re.findall(sub_str, input_str)\n",
    "\n",
    "print(result)"
   ]
  },
  {
   "cell_type": "code",
   "execution_count": null,
   "id": "7ddc586d",
   "metadata": {},
   "outputs": [],
   "source": [
    "# [a-e] - Returns a match for any lower case character, alphabetically between a and e\n",
    "\n",
    "input_str = 'Betty bought some bubtter but the butter was bitter so Betty bocught some bedtter butter to make the bitter \\\n",
    "butter better'\n",
    "\n",
    "sub_str = r'\\w+[a-d]'\n",
    "\n",
    "result = re.findall(sub_str, input_str)\n",
    "\n",
    "print(result)"
   ]
  },
  {
   "cell_type": "code",
   "execution_count": null,
   "id": "6cba61f0",
   "metadata": {},
   "outputs": [],
   "source": [
    "# [^apz] - Returns a match for any character EXCEPT a, p, and z\n",
    "\n",
    "input_str = 'betty b0u6ht s0me butter but the but^3r was bitter so Betty bou6ht s0m3 better butt3r to mak3 th3 bitt3r \\\n",
    "butt3r b3tt3r'\n",
    "\n",
    "sub_str = r'b\\w+t[\\^3]\\w+'\n",
    "\n",
    "result = re.findall(sub_str, input_str)\n",
    "\n",
    "print(result)"
   ]
  },
  {
   "cell_type": "code",
   "execution_count": null,
   "id": "4eb02882",
   "metadata": {},
   "outputs": [],
   "source": [
    "# [0123]     Returns a match where any of the specified digits (0, 1, 2, or 3) are present\n",
    "\n",
    "input_str = 'B3tty b0u6ht s0me butter but the butt3r was bitter so Betty bou6ht s0m3 better butt3r to mak3 th3 bitt3r \\\n",
    "butt3r b3tt3r'\n",
    "\n",
    "sub_str = r'\\w+[03]'\n",
    "\n",
    "result = re.findall(sub_str, input_str)\n",
    "\n",
    "print(result)"
   ]
  },
  {
   "cell_type": "code",
   "execution_count": null,
   "id": "cfcfc6e2",
   "metadata": {},
   "outputs": [],
   "source": [
    "# [0-9]      Returns a match for any digit between 0 and 9\n",
    "\n",
    "input_str = 'B3tty b0u64t s0me butter but 43 t4e butt3r was bitt3r so B3tty bou64t s0m3 b3tt3r butt3r to mak3 t43 bitt3r \\\n",
    "butt3r b3tt3r'\n",
    "\n",
    "sub_str = r'\\w+[0-9]'\n",
    "\n",
    "result = re.findall(sub_str, input_str)\n",
    "print(result)"
   ]
  },
  {
   "cell_type": "code",
   "execution_count": null,
   "id": "1bd9c1c6",
   "metadata": {},
   "outputs": [],
   "source": [
    "# compile method"
   ]
  },
  {
   "cell_type": "code",
   "execution_count": 26,
   "id": "beaadb9f",
   "metadata": {},
   "outputs": [],
   "source": [
    "input_str = 'B3tty b0u64t s0me butter but 43 t4e butt3r was bitt3r so B3tty bou64t s0m3 b3tt3r butt3r to mak3 t43 bitt3r \\\n",
    "butt3r b3tt3r'"
   ]
  },
  {
   "cell_type": "code",
   "execution_count": 27,
   "id": "21716ded",
   "metadata": {},
   "outputs": [],
   "source": [
    "sub_str = r'b\\w+'"
   ]
  },
  {
   "cell_type": "code",
   "execution_count": 28,
   "id": "f1f8a0ae",
   "metadata": {},
   "outputs": [
    {
     "name": "stdout",
     "output_type": "stream",
     "text": [
      "['b0u64t', 'butter', 'but', 'butt3r', 'bitt3r', 'bou64t', 'b3tt3r', 'butt3r', 'bitt3r', 'butt3r', 'b3tt3r']\n"
     ]
    }
   ],
   "source": [
    "result = re.findall(sub_str, input_str)\n",
    "\n",
    "print(result)"
   ]
  },
  {
   "cell_type": "code",
   "execution_count": 33,
   "id": "6f286161",
   "metadata": {},
   "outputs": [
    {
     "name": "stdout",
     "output_type": "stream",
     "text": [
      "<class 'str'>\n"
     ]
    }
   ],
   "source": [
    "x = str(10)\n",
    "\n",
    "print(type(x))"
   ]
  },
  {
   "cell_type": "code",
   "execution_count": 29,
   "id": "fd8f7b46",
   "metadata": {},
   "outputs": [
    {
     "name": "stdout",
     "output_type": "stream",
     "text": [
      "re.compile('b\\\\w+')\n",
      "<class 're.Pattern'>\n"
     ]
    }
   ],
   "source": [
    "sub_str2 = re.compile(r'b\\w+')\n",
    "\n",
    "print(sub_str2)\n",
    "print(type(sub_str2))"
   ]
  },
  {
   "cell_type": "code",
   "execution_count": 31,
   "id": "fa632427",
   "metadata": {},
   "outputs": [
    {
     "name": "stdout",
     "output_type": "stream",
     "text": [
      "['b0u64t', 'butter', 'but', 'butt3r', 'bitt3r', 'bou64t', 'b3tt3r', 'butt3r', 'bitt3r', 'butt3r', 'b3tt3r']\n"
     ]
    }
   ],
   "source": [
    "result = re.findall(re.compile(sub_str), input_str)\n",
    "\n",
    "print(result)"
   ]
  },
  {
   "cell_type": "code",
   "execution_count": 35,
   "id": "77f1a889",
   "metadata": {},
   "outputs": [
    {
     "name": "stdout",
     "output_type": "stream",
     "text": [
      "['b0u64t', 'butter', 'but', 'butt3r', 'bitt3r', 'bou64t', 'b3tt3r', 'butt3r', 'bitt3r', 'butt3r', 'b3tt3r']\n",
      "['b0u64t', 'butter', 'but', 'butt3r', 'bitt3r', 'bou64t', 'b3tt3r', 'butt3r', 'bitt3r', 'butt3r', 'b3tt3r']\n"
     ]
    }
   ],
   "source": [
    "result = re.findall(sub_str, input_str)\n",
    "result2 = sub_str2.findall(input_str)\n",
    "\n",
    "print(result)\n",
    "print(result2)\n",
    "\n"
   ]
  },
  {
   "cell_type": "code",
   "execution_count": null,
   "id": "58b9fee3",
   "metadata": {},
   "outputs": [],
   "source": [
    "re\n",
    "\n",
    "functions1(obj, input_str)\n",
    "functions2\n",
    "functions3\n",
    "\n",
    "\n",
    "\n",
    "class pattern\n",
    "\n",
    "functions1(input_str)\n",
    "functions2\n",
    "\n",
    "\n",
    "\n",
    "\n",
    "\n",
    "class match\n",
    "\n",
    "functions3"
   ]
  },
  {
   "cell_type": "code",
   "execution_count": null,
   "id": "48801727",
   "metadata": {},
   "outputs": [],
   "source": [
    "# search method"
   ]
  },
  {
   "cell_type": "code",
   "execution_count": 38,
   "id": "95d85a72",
   "metadata": {},
   "outputs": [
    {
     "name": "stdout",
     "output_type": "stream",
     "text": [
      "b\\w+\n",
      "B3tty b0u64t s0me butter but 43 t4e butt3r was bitt3r so B3tty bou64t s0m3 b3tt3r butt3r to mak3 t43 bitt3r butt3r b3tt3r\n"
     ]
    }
   ],
   "source": [
    "\n",
    "print(sub_str)\n",
    "print(input_str)"
   ]
  },
  {
   "cell_type": "code",
   "execution_count": 36,
   "id": "70314647",
   "metadata": {},
   "outputs": [
    {
     "name": "stdout",
     "output_type": "stream",
     "text": [
      "<re.Match object; span=(6, 12), match='b0u64t'>\n"
     ]
    }
   ],
   "source": [
    "result = re.search(sub_str, input_str)\n",
    "\n",
    "print(result)"
   ]
  },
  {
   "cell_type": "code",
   "execution_count": 39,
   "id": "3da55c83",
   "metadata": {},
   "outputs": [
    {
     "name": "stdout",
     "output_type": "stream",
     "text": [
      "(6, 12)\n"
     ]
    }
   ],
   "source": [
    "print(result.span())"
   ]
  },
  {
   "cell_type": "code",
   "execution_count": 40,
   "id": "e6a61f3f",
   "metadata": {},
   "outputs": [
    {
     "name": "stdout",
     "output_type": "stream",
     "text": [
      "6\n"
     ]
    }
   ],
   "source": [
    "print(result.start())"
   ]
  },
  {
   "cell_type": "code",
   "execution_count": 41,
   "id": "b96a93bf",
   "metadata": {},
   "outputs": [
    {
     "name": "stdout",
     "output_type": "stream",
     "text": [
      "12\n"
     ]
    }
   ],
   "source": [
    "print(result.end())"
   ]
  },
  {
   "cell_type": "code",
   "execution_count": 42,
   "id": "59f199d4",
   "metadata": {},
   "outputs": [
    {
     "name": "stdout",
     "output_type": "stream",
     "text": [
      "b0u64t\n"
     ]
    }
   ],
   "source": [
    "print(result.group())"
   ]
  },
  {
   "cell_type": "code",
   "execution_count": 43,
   "id": "a56146e6",
   "metadata": {},
   "outputs": [
    {
     "name": "stdout",
     "output_type": "stream",
     "text": [
      "B3tty b0u64t s0me butter but 43 t4e butt3r was bitt3r so B3tty bou64t s0m3 b3tt3r butt3r to mak3 t43 bitt3r butt3r b3tt3r\n"
     ]
    }
   ],
   "source": [
    "print(result.string)"
   ]
  },
  {
   "cell_type": "code",
   "execution_count": null,
   "id": "5df865b5",
   "metadata": {},
   "outputs": [],
   "source": []
  },
  {
   "cell_type": "code",
   "execution_count": 56,
   "id": "70407e24",
   "metadata": {},
   "outputs": [
    {
     "name": "stdout",
     "output_type": "stream",
     "text": [
      "None\n"
     ]
    }
   ],
   "source": [
    "# match \n",
    "\n",
    "sub_str = r'b\\w+'\n",
    "\n",
    "result = re.match(sub_str, input_str)\n",
    "\n",
    "print(result)"
   ]
  },
  {
   "cell_type": "code",
   "execution_count": 57,
   "id": "79a9c0c6",
   "metadata": {},
   "outputs": [
    {
     "name": "stdout",
     "output_type": "stream",
     "text": [
      "<callable_iterator object at 0x0000025D9AC20E80>\n"
     ]
    }
   ],
   "source": [
    "# finditer\n",
    "\n",
    "sub_str2 = re.compile(r'b\\w+')\n",
    "result = re.finditer(sub_str,input_str)\n",
    "result2 = sub_str2.finditer(input_str)\n",
    "\n",
    "print(result)"
   ]
  },
  {
   "cell_type": "code",
   "execution_count": null,
   "id": "0b7d91fe",
   "metadata": {},
   "outputs": [],
   "source": []
  },
  {
   "cell_type": "code",
   "execution_count": 59,
   "id": "7f2ea3c9",
   "metadata": {},
   "outputs": [
    {
     "name": "stdout",
     "output_type": "stream",
     "text": [
      "<re.Match object; span=(6, 12), match='b0u64t'>\n",
      "(6, 12)\n",
      "b0u64t\n",
      "<re.Match object; span=(18, 24), match='butter'>\n",
      "(18, 24)\n",
      "butter\n",
      "<re.Match object; span=(25, 28), match='but'>\n",
      "(25, 28)\n",
      "but\n",
      "<re.Match object; span=(36, 42), match='butt3r'>\n",
      "(36, 42)\n",
      "butt3r\n",
      "<re.Match object; span=(47, 53), match='bitt3r'>\n",
      "(47, 53)\n",
      "bitt3r\n",
      "<re.Match object; span=(63, 69), match='bou64t'>\n",
      "(63, 69)\n",
      "bou64t\n",
      "<re.Match object; span=(75, 81), match='b3tt3r'>\n",
      "(75, 81)\n",
      "b3tt3r\n",
      "<re.Match object; span=(82, 88), match='butt3r'>\n",
      "(82, 88)\n",
      "butt3r\n",
      "<re.Match object; span=(101, 107), match='bitt3r'>\n",
      "(101, 107)\n",
      "bitt3r\n",
      "<re.Match object; span=(108, 114), match='butt3r'>\n",
      "(108, 114)\n",
      "butt3r\n",
      "<re.Match object; span=(115, 121), match='b3tt3r'>\n",
      "(115, 121)\n",
      "b3tt3r\n"
     ]
    }
   ],
   "source": [
    "for x in result2:\n",
    "    print(x)\n",
    "    print(x.span())\n",
    "    print(x.group())"
   ]
  },
  {
   "cell_type": "code",
   "execution_count": null,
   "id": "164bd684",
   "metadata": {},
   "outputs": [],
   "source": [
    "\n",
    "for y in result"
   ]
  },
  {
   "cell_type": "code",
   "execution_count": null,
   "id": "02d3fc58",
   "metadata": {},
   "outputs": [],
   "source": [
    "sub_str = r'(s0me)|(t4e)'\n",
    "\n",
    "result = re.finditer(sub_str,input_str)\n",
    "\n",
    "print(result)\n",
    "\n",
    "for x in result:\n",
    "    print(x.group(), x.span())"
   ]
  },
  {
   "cell_type": "code",
   "execution_count": null,
   "id": "9e14abed",
   "metadata": {},
   "outputs": [],
   "source": [
    "# [0-5][0-9] Returns a match for any two-digit numbers from 00 and 59\n",
    "\n",
    "input_str = 'B3tty b0u64t s0me butter but 43 t4e butt3r was bitt3r so B3tty bou64t s0m3 b3tt3r butt3r to mak3 t43 bitt3r \\\n",
    "butt3r b3tt3r'\n",
    "\n",
    "sub_str = r'\\w+[2-6][3-5]'\n",
    "\n",
    "result = re.findall(sub_str, input_str)\n",
    "\n",
    "print( result)"
   ]
  },
  {
   "cell_type": "code",
   "execution_count": null,
   "id": "959fd1ff",
   "metadata": {},
   "outputs": [],
   "source": [
    "sub_str = r'\\w+[2-6][4-5]'\n",
    "\n",
    "result = re.findall(sub_str, input_str)\n",
    "\n",
    "print( result)"
   ]
  },
  {
   "cell_type": "code",
   "execution_count": null,
   "id": "47c1e398",
   "metadata": {},
   "outputs": [],
   "source": [
    "# [a-zA-Z]   Returns a match for any character alphabetically between a and z, lower case OR upper case\n",
    "\n",
    "input_str = 'B3tty b0ught s0m3 b~tt3r'\n",
    "\n",
    "sub_str = r'[a-zA-Z]'\n",
    "\n",
    "result = re.findall(sub_str, input_str)\n",
    "\n",
    "print(result)"
   ]
  },
  {
   "cell_type": "code",
   "execution_count": null,
   "id": "d621e304",
   "metadata": {},
   "outputs": [],
   "source": [
    "# [+]        In sets, +, *, ., |, (), $,{} has no special meaning, so [+] means: return a match for any + character\n",
    "#            in the string, [*] for any * character and so on."
   ]
  },
  {
   "cell_type": "code",
   "execution_count": null,
   "id": "057f5174",
   "metadata": {},
   "outputs": [],
   "source": [
    "import re\n",
    "\n",
    "input_str = 'B3++y b*ugh+ s*m3 b~tt3r'\n",
    "\n",
    "sub_str = r'\\w+[*~+]'\n",
    "\n",
    "result = re.findall(sub_str, input_str)\n",
    "\n",
    "print(result)"
   ]
  },
  {
   "cell_type": "code",
   "execution_count": null,
   "id": "33e67de2",
   "metadata": {},
   "outputs": [],
   "source": [
    "result "
   ]
  },
  {
   "cell_type": "code",
   "execution_count": null,
   "id": "0d2025b1",
   "metadata": {},
   "outputs": [],
   "source": [
    "# Flags - Most regex methods allow a third parameter called flags. The most common flags used are: "
   ]
  },
  {
   "cell_type": "code",
   "execution_count": null,
   "id": "29882e10",
   "metadata": {},
   "outputs": [],
   "source": [
    "# Short Name          Long Name         Effect\n",
    "# re.I                re.IGNORECASE     Makes matching of alphabetic characters case-insensitive\n",
    "# re.M                re.MULTILINE      Causes start-of-string and end-of-string anchors to match embedded newlines\n",
    "# re.S                re.DOTALL         Causes the dot metacharacter to match a newline"
   ]
  },
  {
   "cell_type": "code",
   "execution_count": 53,
   "id": "d9bd20a4",
   "metadata": {},
   "outputs": [
    {
     "name": "stdout",
     "output_type": "stream",
     "text": [
      "['Betty', 'bought', 'butter', 'but', 'butter', 'bitter', 'Betty', 'bought', 'better', 'butter', 'bitter', 'butter', 'better']\n"
     ]
    }
   ],
   "source": [
    "input_str = 'Betty bought some butter but the butter was bitter so Betty bought some better butter to make the bitter butter better'\n",
    "\n",
    "sub_str = r'b\\w+'\n",
    "\n",
    "result = re.findall(sub_str, input_str, flags = re.I)\n",
    "\n",
    "print(result)"
   ]
  },
  {
   "cell_type": "code",
   "execution_count": null,
   "id": "3f648e9b",
   "metadata": {},
   "outputs": [],
   "source": []
  },
  {
   "cell_type": "code",
   "execution_count": null,
   "id": "d2bb98bf",
   "metadata": {},
   "outputs": [],
   "source": []
  },
  {
   "cell_type": "code",
   "execution_count": null,
   "id": "b6e1ad2f",
   "metadata": {},
   "outputs": [],
   "source": [
    ". - Any character except new line ---> when we use re.S - dot also starts accepting newline as match.\n",
    "\n",
    "[.] - Only dot"
   ]
  },
  {
   "cell_type": "code",
   "execution_count": 55,
   "id": "21183be3",
   "metadata": {},
   "outputs": [
    {
     "name": "stdout",
     "output_type": "stream",
     "text": [
      "Alikya entered a cooking competion. She placed 2nd\n",
      "Yashoda went to the library. She checked out \"The Forest of enchantement\" from there\n",
      "Vishal plays chess. He hopes to one day be a grandmaster\n"
     ]
    }
   ],
   "source": [
    "input_str = '''Alikya entered a cooking competion. She placed 2nd\n",
    "Yashoda went to the library. She checked out \"The Forest of enchantement\" from there\n",
    "Vishal plays chess. He hopes to one day be a grandmaster'''\n",
    "\n",
    "print(input_str)"
   ]
  },
  {
   "cell_type": "markdown",
   "id": "2fc4540c",
   "metadata": {},
   "source": [
    "^ beginning of string - \\A - same but slight difference\n",
    "$ end of string - \\Z - same but slight difference\n"
   ]
  },
  {
   "cell_type": "code",
   "execution_count": 60,
   "id": "141122e7",
   "metadata": {},
   "outputs": [
    {
     "name": "stdout",
     "output_type": "stream",
     "text": [
      "['Alikya', 'Yashoda', 'Vishal']\n"
     ]
    }
   ],
   "source": [
    "sub_str = r'^[A-Z]\\w+'\n",
    "\n",
    "result = re.findall(sub_str, input_str, flags = re.M)\n",
    "\n",
    "print(result)"
   ]
  },
  {
   "cell_type": "code",
   "execution_count": 70,
   "id": "9eb3aef4",
   "metadata": {},
   "outputs": [
    {
     "name": "stdout",
     "output_type": "stream",
     "text": [
      "['B3tty', 'b0u64t', 'butter', 'but', 'butt3r', 'bitt3r', 'B3tty', 'bought', 'b3tt3r', 'butt3r', 'bitt3r', 'butt3r', 'b3tt3r']\n"
     ]
    }
   ],
   "source": [
    "# Ignore case\n",
    "\n",
    "input_str = 'B3tty b0u64t s0me butter but the butt3r was bitt3r so B3tty bought s0m3 b3tt3r butt3r to mak3 the bitt3r \\n\\\n",
    "butt3r b3tt3r'\n",
    "\n",
    "sub_str = r'b\\w+'\n",
    "\n",
    "result = re.findall(sub_str, input_str, flags = re.I)\n",
    "\n",
    "print(result)"
   ]
  },
  {
   "cell_type": "code",
   "execution_count": null,
   "id": "e0400b6e",
   "metadata": {},
   "outputs": [],
   "source": [
    "result = re.findall(sub_str, input_str, flags = re.I)\n",
    "\n",
    "print(result)"
   ]
  },
  {
   "cell_type": "code",
   "execution_count": null,
   "id": "3a9918df",
   "metadata": {},
   "outputs": [],
   "source": [
    "# Multiline"
   ]
  },
  {
   "cell_type": "code",
   "execution_count": 61,
   "id": "dc51ea7a",
   "metadata": {},
   "outputs": [
    {
     "name": "stdout",
     "output_type": "stream",
     "text": [
      "B3tty b0u64t s0me butter but t4e butt3r was bitt3r so B3tty bou64t s0m3 b3tt3r butt3r to mak3 t43 bitt3r butt3r b3tt3r\n",
      "Betty b0u64t s0me butter but t4e butt3r was bitt3r so B3tty bou64t s0m3 b3tt3r butt3r to mak3 t43 bitt3r butt3r b3tt3r\n",
      "Bitty b0u64t s0me butter but t4e butt3r was bitt3r so B3tty bou64t s0m3 b3tt3r butt3r to mak3 t43 bitt3r butt3r b3tt3r\n"
     ]
    }
   ],
   "source": [
    "input_str = 'B3tty b0u64t s0me butter but t4e butt3r was bitt3r so B3tty bou64t s0m3 b3tt3r butt3r to mak3 t43 bitt3r \\\n",
    "butt3r b3tt3r\\nBetty b0u64t s0me butter but t4e butt3r was bitt3r so B3tty bou64t s0m3 b3tt3r butt3r to mak3 t43 bitt3r \\\n",
    "butt3r b3tt3r\\nBitty b0u64t s0me butter but t4e butt3r was bitt3r so B3tty bou64t s0m3 b3tt3r butt3r to mak3 t43 bitt3r \\\n",
    "butt3r b3tt3r'\n",
    "\n",
    "\n",
    "print(input_str)"
   ]
  },
  {
   "cell_type": "code",
   "execution_count": null,
   "id": "d85b0855",
   "metadata": {},
   "outputs": [],
   "source": []
  },
  {
   "cell_type": "code",
   "execution_count": null,
   "id": "0bec3a92",
   "metadata": {},
   "outputs": [],
   "source": [
    "sub_str = r'^B\\w+y'\n",
    "\n",
    "result = re.findall(sub_str, input_str)\n",
    "\n",
    "print(result)"
   ]
  },
  {
   "cell_type": "code",
   "execution_count": null,
   "id": "b44e2733",
   "metadata": {},
   "outputs": [],
   "source": [
    "result = re.findall(sub_str, input_str, flags = re.M)\n",
    "\n",
    "print(result)"
   ]
  },
  {
   "cell_type": "code",
   "execution_count": 62,
   "id": "6ed02d58",
   "metadata": {},
   "outputs": [
    {
     "name": "stdout",
     "output_type": "stream",
     "text": [
      "B3tty b0u64t s0me butter but t4e butt3r was bitt3r 3rxB3 so B3tty bou64t s0m3 b3tt3r butt3r to mak3 t43 bitt3r butt3r b3tt3r\n",
      "B3tty b0u64t s0me butter but t4e butt3r was bitt3r so 3rxB3 B3tty bou64t s0m3 b3tt3r butt3r to mak3 t43 bitt3r butt3r b3tt3r\n",
      "B3tty b0u64t s0me butter but t4e butt3r was bitt3r so 3rxB3 B3tty bou64t s0m3 b3tt3r butt3r to mak3 t43 bitt3r butt3r b3tt3r\n"
     ]
    }
   ],
   "source": [
    "#Dotall includes the \\n characters in the . search character set. \n",
    "\n",
    "input_str = 'B3tty b0u64t s0me butter but t4e butt3r was bitt3r 3rxB3 so B3tty bou64t s0m3 b3tt3r butt3r to mak3 t43 bitt3r \\\n",
    "butt3r b3tt3r\\nB3tty b0u64t s0me butter but t4e butt3r was bitt3r so 3rxB3 B3tty bou64t s0m3 b3tt3r butt3r to mak3 t43 bitt3r \\\n",
    "butt3r b3tt3r\\nB3tty b0u64t s0me butter but t4e butt3r was bitt3r so 3rxB3 B3tty bou64t s0m3 b3tt3r butt3r to mak3 t43 bitt3r \\\n",
    "butt3r b3tt3r'\n",
    "\n",
    "print(input_str)"
   ]
  },
  {
   "cell_type": "code",
   "execution_count": 66,
   "id": "e8328810",
   "metadata": {},
   "outputs": [
    {
     "name": "stdout",
     "output_type": "stream",
     "text": [
      "['3rxB3', '3r bu', '3r bu', '3r b3', '3r\\nB3', '3rxB3', '3r bu', '3r bu', '3r b3', '3r\\nB3', '3rxB3', '3r bu', '3r bu', '3r b3']\n"
     ]
    }
   ],
   "source": [
    "sub_str = r'3r.B\\w'\n",
    "\n",
    "result = re.findall(sub_str, input_str, flags = re.S|re.I)\n",
    "\n",
    "print(result)"
   ]
  },
  {
   "cell_type": "code",
   "execution_count": 76,
   "id": "0770bb4c",
   "metadata": {},
   "outputs": [
    {
     "name": "stdout",
     "output_type": "stream",
     "text": [
      "['3rxB3', '3r bu', '3r bu', '3r b3', '3r\\nB3', '3rxB3', '3r bu', '3r bu', '3r b3', '3r\\nB3', '3rxB3', '3r bu', '3r bu', '3r b3']\n"
     ]
    }
   ],
   "source": [
    "result = re.findall(sub_str, input_str, flags=re.S | re.I)\n",
    "\n",
    "print(result)"
   ]
  },
  {
   "cell_type": "code",
   "execution_count": null,
   "id": "4bfda7cf",
   "metadata": {},
   "outputs": [],
   "source": [
    "\n",
    "input_str = 'B3tty b0u64t s0me butter but t4e butt3r was bitt3r so B3tty bou64t s0m3 b3tt3r butt3r to mak3 t43 bitt3r \\n\\\n",
    "butt3r b3tt3r'\n",
    "\n",
    "sub_str = r'b.*r'\n",
    "\n",
    "result = re.findall(sub_str, input_str)\n",
    "\n",
    "print(result)"
   ]
  },
  {
   "cell_type": "code",
   "execution_count": null,
   "id": "66196230",
   "metadata": {},
   "outputs": [],
   "source": [
    "input_str = 'B3tty b0u64t s0me butter but t4e butt3r was bitt3r so B3tty bou64t s0m3 b3tt3r butt3r to mak3 t43 bitt3r \\n\\\n",
    "butt3r b3tt3r'\n",
    "\n",
    "sub_str = r'b\\w+'\n",
    "\n",
    "result = re.finditer(sub_str, input_str)\n",
    "\n",
    "print(result)\n",
    "\n",
    "\n",
    "for x in result:\n",
    "    print(x)"
   ]
  },
  {
   "cell_type": "code",
   "execution_count": null,
   "id": "58e262c2",
   "metadata": {},
   "outputs": [],
   "source": [
    "# Other methods in re module\n",
    "\n",
    "# We have already seen search (along with span, start, end, string, group and groups methods on match objects) method.\n",
    "# We have also seen findall method. \n",
    "\n",
    "# Some other methods in regex are:"
   ]
  },
  {
   "cell_type": "code",
   "execution_count": null,
   "id": "69950680",
   "metadata": {},
   "outputs": [],
   "source": [
    "# compile method - compiles the stated regex into a regex object that can be reused and methods can be applied to it\n",
    "# directly. \n",
    "\n",
    "input_str = 'B3tty b0u64t s0me butter but t4e butt3r was bitt3r so B3tty bou64t s0m3 b3tt3r butt3r to mak3 t43 bitt3r \\n\\\n",
    "butt3r b3tt3r'\n",
    "\n",
    "\n",
    "sub_str = re.compile(r'\\bb\\w+')\n",
    "sub_str1 = r'\\bb\\w+'\n",
    "\n",
    "print(sub_str)\n",
    "print(type(sub_str))\n",
    "\n",
    "result = re.findall(sub_str, input_str)\n",
    "\n",
    "print(result)"
   ]
  },
  {
   "cell_type": "code",
   "execution_count": null,
   "id": "ce89e709",
   "metadata": {},
   "outputs": [],
   "source": [
    "print(sub_str.findall(input_str))"
   ]
  },
  {
   "cell_type": "code",
   "execution_count": null,
   "id": "0c801c19",
   "metadata": {},
   "outputs": [],
   "source": []
  },
  {
   "cell_type": "code",
   "execution_count": null,
   "id": "43ccc5ef",
   "metadata": {},
   "outputs": [],
   "source": []
  },
  {
   "cell_type": "code",
   "execution_count": null,
   "id": "3388195f",
   "metadata": {},
   "outputs": [],
   "source": [
    "input_str = 'B3tty b0u64t s0me butter but t4e butt3r was bitt3r so B3tty bou64t s0m3 b3tt3r butt3r to mak3 t43 bitt3r \\n\\\n",
    "butt3r b3tt3r'\n",
    "\n",
    "sub_str = r'\\bB\\w+'\n",
    "\n",
    "result = re.match(sub_str, input_str)\n",
    "\n",
    "print(result)"
   ]
  },
  {
   "cell_type": "code",
   "execution_count": null,
   "id": "f18cae26",
   "metadata": {},
   "outputs": [],
   "source": [
    "for x in result:\n",
    "    print(x.group(), x.span())"
   ]
  },
  {
   "cell_type": "code",
   "execution_count": null,
   "id": "5b7b07ac",
   "metadata": {},
   "outputs": [],
   "source": [
    "print(result.string)"
   ]
  },
  {
   "cell_type": "code",
   "execution_count": null,
   "id": "d3627f3a",
   "metadata": {},
   "outputs": [],
   "source": [
    "result"
   ]
  },
  {
   "cell_type": "code",
   "execution_count": null,
   "id": "62023319",
   "metadata": {},
   "outputs": [],
   "source": [
    "ss = r'\\w+[+*~]'\n",
    "\n",
    "result = re.findall(ss, input_str)"
   ]
  },
  {
   "cell_type": "code",
   "execution_count": null,
   "id": "cb209070",
   "metadata": {},
   "outputs": [],
   "source": [
    "ss = re.compile(r'\\w+[+*~]')\n",
    "\n",
    "result = ss.findall(input_str)\n",
    "\n",
    "print(result)\n",
    "print(type(ss))"
   ]
  },
  {
   "cell_type": "code",
   "execution_count": null,
   "id": "3d526db5",
   "metadata": {},
   "outputs": [],
   "source": [
    "# Note above when we used the compile method on the regex we converted it to a re.Pattern object. And now we can apply the\n",
    "# methods directly on the ss object. If we have a lot of operations to perform with the same regex pattern, or the pattern\n",
    "# may be used frequently, it may be better to save it as a re.Pattern object.\n",
    "\n",
    "# Intenally compilation of substring happens when we call the sub_str we want to search as the parameter to the different\n",
    "# method as follows: \n",
    "\n",
    "sub_str = re.compile(r'\\w+[+*~]')\n",
    "\n",
    "result = re.findall(re.compile(sub_str), input_str)\n",
    "\n",
    "print(result)"
   ]
  },
  {
   "cell_type": "code",
   "execution_count": null,
   "id": "e3e553d0",
   "metadata": {},
   "outputs": [],
   "source": [
    "# For our current module, since we were changing the regex frequently, we did not compile the regex patterns. However, \n",
    "# complex patterns that are frequently used, more often than not are compiled and stashed. "
   ]
  },
  {
   "cell_type": "code",
   "execution_count": null,
   "id": "5ab43c12",
   "metadata": {},
   "outputs": [],
   "source": [
    "#match method - only returns the match if it is at the beginning of the string"
   ]
  },
  {
   "cell_type": "code",
   "execution_count": null,
   "id": "659bd619",
   "metadata": {},
   "outputs": [],
   "source": [
    "input_str = 'Xyz abc xyz abc'\n",
    "\n",
    "sub_str = r'xyz'\n",
    "\n",
    "result = re.match(sub_str, input_str, flags = re.I)\n",
    "\n",
    "print(result)"
   ]
  },
  {
   "cell_type": "code",
   "execution_count": null,
   "id": "d5195bbd",
   "metadata": {},
   "outputs": [],
   "source": [
    "sub_str = r'xyz'\n",
    "\n",
    "result = re.match(sub_str, input_str)\n",
    "\n",
    "print(result)"
   ]
  },
  {
   "cell_type": "code",
   "execution_count": null,
   "id": "a9925ee0",
   "metadata": {},
   "outputs": [],
   "source": [
    "sub_str = r'xyz'\n",
    "\n",
    "result = re.match(sub_str, input_str, flags = re.I)\n",
    "\n",
    "print(result)"
   ]
  },
  {
   "cell_type": "code",
   "execution_count": 72,
   "id": "a9a428c8",
   "metadata": {},
   "outputs": [
    {
     "name": "stdout",
     "output_type": "stream",
     "text": [
      "['Rajasekhar scored 100', ' Rohit bowled 5/20', ' Srinivas fielded superbly', ' Utkarsh danced energetically', ' Lovish dropped a catch']\n"
     ]
    }
   ],
   "source": [
    "input_str = 'Rajasekhar scored 100, Rohit bowled 5/20, Srinivas fielded superbly, Utkarsh danced energetically, \\\n",
    "Lovish dropped a catch'\n",
    "\n",
    "result = input_str.split(',')\n",
    "\n",
    "print(result)"
   ]
  },
  {
   "cell_type": "code",
   "execution_count": 76,
   "id": "28a95e1d",
   "metadata": {},
   "outputs": [
    {
     "name": "stdout",
     "output_type": "stream",
     "text": [
      "['Rajasekhar scored 100', ' Rohit bowled 5/20', ' Srinivas fielded superbly', ' Utkarsh danced energetically', ' Lovish dropped a catch']\n"
     ]
    }
   ],
   "source": [
    "sub_str = r'\\w+ed\\s'\n",
    "\n",
    "#result = re.split(',', input_str)\n",
    "result = input_str.split(',')\n",
    "print(result)"
   ]
  },
  {
   "cell_type": "code",
   "execution_count": 77,
   "id": "c21fd56b",
   "metadata": {},
   "outputs": [
    {
     "name": "stdout",
     "output_type": "stream",
     "text": [
      "[['Rajasekhar ', '100'], [' Rohit ', '5/20'], [' Srinivas ', 'superbly'], [' Utkarsh ', 'energetically'], [' Lovish ', 'a catch']]\n"
     ]
    }
   ],
   "source": [
    "lst1 = []\n",
    "for x in result:\n",
    "    lst1.append(re.split(sub_str, x))\n",
    "    \n",
    "print(lst1)"
   ]
  },
  {
   "cell_type": "code",
   "execution_count": 109,
   "id": "96f89803",
   "metadata": {},
   "outputs": [
    {
     "name": "stdout",
     "output_type": "stream",
     "text": [
      "['B', 'ty b', '6', ' s', 'e butter but t', ' butt', ' was bitt', ' so B', 'ty bou6', ' s', '3 b', 't', ' butter to mak3 t43 bitt', ' \\nbutt', ' b', 't', '']\n"
     ]
    }
   ],
   "source": [
    "#split method in re takes 4 parameters\n",
    "\n",
    "#re.split(pattern, string, maxsplit=0, flags=0)\n",
    "\n",
    "#1. The regex pattern - mandatory\n",
    "#2. The string to be checked - mandatory\n",
    "#3. Maxsplit - count of how many maximum splits we want\n",
    "#4. flags - as discussed above. \n",
    "\n",
    "input_str = 'B3tty b0u64t s0me butter but t4e butt3r was bitt3r so B3tty bou64t s0m3 b3tt3r butter to mak3 t43 bitt3r \\n\\\n",
    "butt3r b3tt3r'\n",
    "sub_str = r'\\d[a-zA-Z]'\n",
    "\n",
    "result = re.split(sub_str, input_str)\n",
    "\n",
    "print(result)"
   ]
  },
  {
   "cell_type": "code",
   "execution_count": 110,
   "id": "04fe621b",
   "metadata": {},
   "outputs": [
    {
     "name": "stdout",
     "output_type": "stream",
     "text": [
      "['B', 'ty b', '6', ' s', 'e butter but t', ' butt3r was bitt3r so B3tty bou64t s0m3 b3tt3r butter to mak3 t43 bitt3r \\nbutt3r b3tt3r']\n"
     ]
    }
   ],
   "source": [
    "result = re.split(sub_str, input_str, maxsplit = 5)\n",
    "\n",
    "print(result)"
   ]
  },
  {
   "cell_type": "code",
   "execution_count": null,
   "id": "aa0edb53",
   "metadata": {},
   "outputs": [],
   "source": [
    "re.Ignorecase, re.I"
   ]
  },
  {
   "cell_type": "code",
   "execution_count": null,
   "id": "1e593738",
   "metadata": {},
   "outputs": [],
   "source": [
    "input_str = 'B3tty b0u64t S0me butter but t4e Butter was bitter so Betty bought some Better butter to make the Bitter butter better'\n",
    "sub_str = r'b[uei]tter'\n",
    "\n",
    "#result = re.findall(sub_str, input_str, flags = re.I)\n",
    "\n",
    "\n",
    "result = re.split(sub_str, input_str, flags = re.I)\n",
    "\n",
    "print(result)"
   ]
  },
  {
   "cell_type": "code",
   "execution_count": 81,
   "id": "04214d0b",
   "metadata": {},
   "outputs": [
    {
     "name": "stdout",
     "output_type": "stream",
     "text": [
      "PQR PQR xyz Abc xyz aBc\n"
     ]
    }
   ],
   "source": [
    "#sub method takes in 5 parameters\n",
    "\n",
    "#1. The regex expression to be matched - mandatory\n",
    "#2. The replacement string - mandatory\n",
    "#3. The string to be checked - mandatory\n",
    "#4. Count - the max number of times the replacement is to be performed - optional\n",
    "#5. Flag - optional\n",
    "\n",
    "input_str = 'ayz abc xyz Abc xyz aBc'\n",
    "\n",
    "sub_str = r'a\\w+'\n",
    "repl_str = r'PQR'\n",
    "\n",
    "result = re.sub(sub_str, repl_str, input_str, count = 2)\n",
    "print(result)"
   ]
  },
  {
   "cell_type": "code",
   "execution_count": null,
   "id": "462b2061",
   "metadata": {},
   "outputs": [],
   "source": [
    "repl = r'pqrst'\n",
    "\n",
    "print(input_str)"
   ]
  },
  {
   "cell_type": "code",
   "execution_count": null,
   "id": "22102690",
   "metadata": {},
   "outputs": [],
   "source": [
    "result = re.sub(sub_str, repl, input_str, flags = re.I, count = 2)\n",
    "\n",
    "print(result)"
   ]
  },
  {
   "cell_type": "code",
   "execution_count": null,
   "id": "78fe7cd9",
   "metadata": {},
   "outputs": [],
   "source": [
    "result = re.sub(sub_str, repl, input_str, flags = re.I)\n",
    "\n",
    "print(result)"
   ]
  },
  {
   "cell_type": "code",
   "execution_count": null,
   "id": "942f987d",
   "metadata": {},
   "outputs": [],
   "source": [
    "input_str = 'Xyz Abc xyz abc xyz aBc'\n",
    "\n",
    "sub_str = r'abc'\n",
    "\n",
    "repl = r'pqr'\n",
    "\n",
    "print(input_str)"
   ]
  },
  {
   "cell_type": "code",
   "execution_count": null,
   "id": "61931b7b",
   "metadata": {},
   "outputs": [],
   "source": [
    "result = re.sub(sub_str, repl, input_str, flags = re.I, count = 2)\n",
    "\n",
    "print(result)"
   ]
  },
  {
   "cell_type": "code",
   "execution_count": null,
   "id": "502308b3",
   "metadata": {},
   "outputs": [],
   "source": [
    "print(input_str)\n",
    "print(sub_str)"
   ]
  },
  {
   "cell_type": "code",
   "execution_count": 82,
   "id": "64aa26cf",
   "metadata": {},
   "outputs": [
    {
     "name": "stdout",
     "output_type": "stream",
     "text": [
      "ayz abc xyz Abc xyz aBc\n",
      "a\\w+\n",
      "PQR\n"
     ]
    }
   ],
   "source": [
    "print(input_str)\n",
    "print(sub_str)\n",
    "print(repl_str)"
   ]
  },
  {
   "cell_type": "code",
   "execution_count": 85,
   "id": "1cd6064b",
   "metadata": {},
   "outputs": [
    {
     "name": "stdout",
     "output_type": "stream",
     "text": [
      "('PQR PQR xyz Abc xyz PQR', 3)\n"
     ]
    }
   ],
   "source": [
    "#Subn method is the same as the sub method except it provides the replacement count along with the replaced string as a \n",
    "# tuple\n",
    "\n",
    "result = re.subn(sub_str, repl_str, input_str, count = 4)\n",
    "\n",
    "print(result)"
   ]
  },
  {
   "cell_type": "code",
   "execution_count": null,
   "id": "9c93234e",
   "metadata": {},
   "outputs": [],
   "source": [
    "result = re.subn(sub_str, repl_str, input_str, flags = re.I)\n",
    "\n",
    "print(result)"
   ]
  },
  {
   "cell_type": "code",
   "execution_count": null,
   "id": "a2b6d26e",
   "metadata": {},
   "outputs": [],
   "source": [
    "input_str = 'abc xyz XYZ lmn'\n",
    "repl_str = 'PQR'\n",
    "sub_str = r'a\\w+'"
   ]
  },
  {
   "cell_type": "code",
   "execution_count": null,
   "id": "98214d66",
   "metadata": {},
   "outputs": [],
   "source": [
    "result = re.subn(sub_str, repl_str, input_str, count = 2)\n",
    "\n",
    "print(result)"
   ]
  },
  {
   "cell_type": "code",
   "execution_count": null,
   "id": "e4e3b8bf",
   "metadata": {},
   "outputs": [],
   "source": [
    "str_email = '''boleh di kirim ke email saya ekoprasetyo.crb@outlook.com tks...\n",
    "boleh minta kirim ke db.maulana@gmail.com. \n",
    "dee.wien@yahoo.com. .\n",
    "deninainggolan@yahoo.co.id Senior Quantity Surveyor\n",
    "Fajar.rohita@hotmail.com, terimakasih bu Cindy Hartanto\n",
    "firmansyah1404@gmail.com saya mau dong bu cindy\n",
    "fransiscajw@gmail.com \n",
    "Hi Cindy ...pls share the Salary guide to donny_tri_wardono@yahoo.co.id thank a'''"
   ]
  },
  {
   "cell_type": "code",
   "execution_count": null,
   "id": "1597622f",
   "metadata": {},
   "outputs": [],
   "source": []
  },
  {
   "cell_type": "code",
   "execution_count": null,
   "id": "d0134a02",
   "metadata": {},
   "outputs": [],
   "source": []
  },
  {
   "cell_type": "code",
   "execution_count": null,
   "id": "e36f536c",
   "metadata": {},
   "outputs": [],
   "source": []
  },
  {
   "cell_type": "code",
   "execution_count": null,
   "id": "c3d02c45",
   "metadata": {},
   "outputs": [],
   "source": [
    "#Ansh\n",
    "\n",
    "sub_string=r'\\[a-zA-Z0-9]\\S*@\\S*[a-zA-Z]'\n",
    "result = re.findall(sub_string, str_email)\n",
    "\n",
    "print(result)\n"
   ]
  },
  {
   "cell_type": "code",
   "execution_count": null,
   "id": "42cf6f38",
   "metadata": {},
   "outputs": [],
   "source": [
    "#Chandrabose\n",
    "\n",
    "substr=r'\\w+[.]?\\w+@\\w+.co(.)?\\w+'\n",
    "result=re.finditer(substr,str_email)\n",
    "\n",
    "for x in result:\n",
    "    print(x.group())\n",
    "\n"
   ]
  },
  {
   "cell_type": "code",
   "execution_count": null,
   "id": "cec370f8",
   "metadata": {},
   "outputs": [],
   "source": [
    "#Grishma\n",
    "\n",
    "sub_str= r\"[a-z0-9\\.\\-+_]+@[a-z0-9\\.\\-+_]+\\.[a-z]+\"\n",
    "result= re.findall(sub_str , str_email)\n",
    "print(result)\n"
   ]
  },
  {
   "cell_type": "code",
   "execution_count": null,
   "id": "9e859f11",
   "metadata": {},
   "outputs": [],
   "source": [
    "#mithila\n",
    "\n",
    "#sub_str = r'\\b\\w+[.]?\\w+@\\w+.\\w+\\b'\n",
    "sub_str = r'\\b\\w+[.]?\\w+@'\n",
    "\n",
    "result= re.findall(sub_str , str_email)\n",
    "print(result)\n",
    "\n"
   ]
  },
  {
   "cell_type": "code",
   "execution_count": null,
   "id": "e9ea5dca",
   "metadata": {},
   "outputs": [],
   "source": [
    "#Sachin\n",
    "\n",
    "sub_str = r\"[a-z0-9\\.\\-+_]+@[a-z0-9\\.\\-+_]+\\.[a-z]+\"\n",
    "result = re.findall(sub_str, str_email)\n",
    "print(result)"
   ]
  },
  {
   "cell_type": "code",
   "execution_count": null,
   "id": "2f1c8d4a",
   "metadata": {},
   "outputs": [],
   "source": []
  },
  {
   "cell_type": "code",
   "execution_count": null,
   "id": "e5e85141",
   "metadata": {},
   "outputs": [],
   "source": []
  },
  {
   "cell_type": "code",
   "execution_count": null,
   "id": "5da73ebd",
   "metadata": {},
   "outputs": [],
   "source": []
  },
  {
   "cell_type": "code",
   "execution_count": null,
   "id": "3e3877d0",
   "metadata": {},
   "outputs": [],
   "source": []
  },
  {
   "cell_type": "code",
   "execution_count": null,
   "id": "6d30c4bd",
   "metadata": {},
   "outputs": [],
   "source": []
  },
  {
   "cell_type": "code",
   "execution_count": null,
   "id": "53892397",
   "metadata": {},
   "outputs": [],
   "source": []
  },
  {
   "cell_type": "code",
   "execution_count": null,
   "id": "ccff7467",
   "metadata": {},
   "outputs": [],
   "source": [
    "# Find all the email addresses in the following text (no extra spaces or characters allowed. Include all the different domain\n",
    "# names such as gmail.co, yahoo.co.id etc..)\n",
    "\n",
    "\n",
    "str_email = '''boleh di kirim ke email saya ekoprasetyo.crb@outlook.com tks...\n",
    "boleh minta kirim ke db.maulana@gmail.com. \n",
    "dee.wien@yahoo.com. .\n",
    "deninainggolan@yahoo.co.id Senior Quantity Surveyor\n",
    "Fajar.rohita@hotmail.com, terimakasih bu Cindy Hartanto\n",
    "firmansyah1404@gmail.com saya mau dong bu cindy\n",
    "fransiscajw@gmail.com \n",
    "Hi Cindy ...pls share the Salary guide to donny_tri_wardono@yahoo.co.id thank a'''"
   ]
  },
  {
   "cell_type": "code",
   "execution_count": null,
   "id": "2b8a5410",
   "metadata": {},
   "outputs": [],
   "source": [
    "# Find all the phone numbers. No extra spaces or characters allowed. \n",
    "\n",
    "str_phone = '''<p><strong>Kuala Lumpur</strong><strong>:</strong> +60 (0)3 2723 7900</p>\n",
    "        <p><strong>Mutiara Damansara:</strong> +60 (0)3 2723 7900</p>\n",
    "        <p><strong>Penang:</strong> + 60 (0)4 255 9000</p>\n",
    "        <h2>Where we are </h2>\n",
    "        <strong>&nbsp;Call us on:</strong>&nbsp;+6 (03) 8924 8686\n",
    "        </p></div><div class=\"sys_two\">\n",
    "    <h3 class=\"parentSchool\">General enquiries</h3><p style=\"FONT-SIZE: 11px\">\n",
    "     <strong>&nbsp;Call us on:</strong>&nbsp;+6 (03) 8924 8000\n",
    "+ 60 (7) 268-6200 <br />\n",
    " Fax:<br /> \n",
    " +60 (7) 228-6202<br /> \n",
    "Phone:</strong><strong style=\"color: #f00\"> +601-4228-8055</strong>'''"
   ]
  },
  {
   "cell_type": "code",
   "execution_count": null,
   "id": "077c2da0",
   "metadata": {},
   "outputs": [],
   "source": []
  },
  {
   "cell_type": "code",
   "execution_count": null,
   "id": "94ed143a",
   "metadata": {},
   "outputs": [],
   "source": [
    "# Sahel\n",
    "\n",
    "sub_str = r'\\S+@\\S+'\n",
    "\n",
    "result = re.findall(sub_str, str_email)\n",
    "\n",
    "print(result)"
   ]
  },
  {
   "cell_type": "code",
   "execution_count": null,
   "id": "450ccb1b",
   "metadata": {},
   "outputs": [],
   "source": [
    "#Adarsh\n",
    "\n",
    "sub_str = r'\\b[A-Za-z0-9._%+-]+@[A-Za-z0-9.-]+\\.[A-Za-z]{2,6}\\b'\n",
    "\n",
    "z = re.findall(sub_str, str_email)\n",
    "print(z)\n"
   ]
  },
  {
   "cell_type": "code",
   "execution_count": null,
   "id": "64ec82b6",
   "metadata": {},
   "outputs": [],
   "source": [
    "#Omkar\n",
    "\n",
    "sub_str = r'\\w*[.]?\\w*@\\w+[.]\\w+[.]?\\w+'\n",
    "\n",
    "result = re.findall(sub_str, str_email)\n",
    "\n",
    "print(result)"
   ]
  },
  {
   "cell_type": "code",
   "execution_count": null,
   "id": "af12ef47",
   "metadata": {},
   "outputs": [],
   "source": [
    "#Nagarajan\n",
    "\n",
    "sub_str = r'\\b[A-Za-z0-9._%+-]+@[A-Za-z0-9.-]+\\.[A-Za-z]{2,6}\\b'\n",
    "\n",
    "\n"
   ]
  },
  {
   "cell_type": "code",
   "execution_count": null,
   "id": "4cebad81",
   "metadata": {},
   "outputs": [],
   "source": []
  },
  {
   "cell_type": "code",
   "execution_count": null,
   "id": "0350c635",
   "metadata": {},
   "outputs": [],
   "source": []
  },
  {
   "cell_type": "code",
   "execution_count": null,
   "id": "8dde42e7",
   "metadata": {},
   "outputs": [],
   "source": []
  },
  {
   "cell_type": "code",
   "execution_count": null,
   "id": "8b567a02",
   "metadata": {},
   "outputs": [],
   "source": []
  },
  {
   "cell_type": "code",
   "execution_count": null,
   "id": "89dba1cb",
   "metadata": {},
   "outputs": [],
   "source": []
  },
  {
   "cell_type": "code",
   "execution_count": null,
   "id": "d7124f52",
   "metadata": {},
   "outputs": [],
   "source": []
  },
  {
   "cell_type": "code",
   "execution_count": null,
   "id": "6c20e415",
   "metadata": {},
   "outputs": [],
   "source": []
  },
  {
   "cell_type": "code",
   "execution_count": null,
   "id": "1acbfead",
   "metadata": {},
   "outputs": [],
   "source": []
  },
  {
   "cell_type": "code",
   "execution_count": null,
   "id": "cba3a1ae",
   "metadata": {},
   "outputs": [],
   "source": []
  },
  {
   "cell_type": "code",
   "execution_count": null,
   "id": "4f92e75e",
   "metadata": {},
   "outputs": [],
   "source": []
  },
  {
   "cell_type": "code",
   "execution_count": null,
   "id": "2479288c",
   "metadata": {},
   "outputs": [],
   "source": []
  },
  {
   "cell_type": "code",
   "execution_count": null,
   "id": "d9c7b691",
   "metadata": {},
   "outputs": [],
   "source": []
  },
  {
   "cell_type": "code",
   "execution_count": null,
   "id": "441b6fd8",
   "metadata": {},
   "outputs": [],
   "source": []
  },
  {
   "cell_type": "code",
   "execution_count": null,
   "id": "3a9410c8",
   "metadata": {},
   "outputs": [],
   "source": []
  },
  {
   "cell_type": "code",
   "execution_count": null,
   "id": "8ca52945",
   "metadata": {},
   "outputs": [],
   "source": []
  },
  {
   "cell_type": "code",
   "execution_count": null,
   "id": "f705bae6",
   "metadata": {},
   "outputs": [],
   "source": []
  },
  {
   "cell_type": "code",
   "execution_count": null,
   "id": "fe9ad064",
   "metadata": {},
   "outputs": [],
   "source": []
  },
  {
   "cell_type": "code",
   "execution_count": null,
   "id": "d367d426",
   "metadata": {},
   "outputs": [],
   "source": []
  },
  {
   "cell_type": "code",
   "execution_count": null,
   "id": "b30e2a38",
   "metadata": {},
   "outputs": [],
   "source": []
  },
  {
   "cell_type": "code",
   "execution_count": null,
   "id": "e09c477b",
   "metadata": {},
   "outputs": [],
   "source": [
    "#Hitesh\n",
    "\n",
    "sub_str = r'\\w*[.]?\\w*@\\w*.\\w*.?\\w*?'\n",
    "\n",
    "result = re.findall(sub_str, str_email)\n",
    "\n",
    "print(result)"
   ]
  },
  {
   "cell_type": "code",
   "execution_count": null,
   "id": "179c0f99",
   "metadata": {},
   "outputs": [],
   "source": [
    "#Geetha\n",
    "\n",
    "a= r'\\w+[.]?\\w+@\\w+.com?'\n",
    "result=re.findall(a,str_email)\n",
    "print(result)\n"
   ]
  },
  {
   "cell_type": "code",
   "execution_count": null,
   "id": "7d4bbf86",
   "metadata": {},
   "outputs": [],
   "source": [
    "#Shivam\n",
    "\n",
    "a= r'(\\w+[.]?\\w+?@\\w+((.com)|(.co.id)))'\n",
    "result=re.findall(a,str_email)\n",
    "print(result)\n"
   ]
  },
  {
   "cell_type": "code",
   "execution_count": null,
   "id": "fe4b2926",
   "metadata": {},
   "outputs": [],
   "source": [
    "#Vidya\n",
    "\n",
    "sub_str = re.compile(r'[A-z.0-9]*@\\w+[.](com|co[.]id)')   \n",
    "result = sub_str.finditer(str_email)  \n",
    "for match in result:\n",
    "    print(match)\n"
   ]
  },
  {
   "cell_type": "code",
   "execution_count": null,
   "id": "52b72daf",
   "metadata": {},
   "outputs": [],
   "source": []
  },
  {
   "cell_type": "code",
   "execution_count": null,
   "id": "c249b599",
   "metadata": {},
   "outputs": [],
   "source": []
  },
  {
   "cell_type": "code",
   "execution_count": null,
   "id": "9c2968cc",
   "metadata": {},
   "outputs": [],
   "source": []
  },
  {
   "cell_type": "code",
   "execution_count": null,
   "id": "b8b0e2b7",
   "metadata": {},
   "outputs": [],
   "source": []
  },
  {
   "cell_type": "code",
   "execution_count": null,
   "id": "ace087c9",
   "metadata": {},
   "outputs": [],
   "source": []
  },
  {
   "cell_type": "code",
   "execution_count": null,
   "id": "48aa3251",
   "metadata": {},
   "outputs": [],
   "source": []
  },
  {
   "cell_type": "code",
   "execution_count": null,
   "id": "28c7d053",
   "metadata": {},
   "outputs": [],
   "source": []
  },
  {
   "cell_type": "code",
   "execution_count": null,
   "id": "b0023c54",
   "metadata": {},
   "outputs": [],
   "source": []
  },
  {
   "cell_type": "code",
   "execution_count": null,
   "id": "976046bf",
   "metadata": {},
   "outputs": [],
   "source": []
  },
  {
   "cell_type": "code",
   "execution_count": null,
   "id": "088313ac",
   "metadata": {},
   "outputs": [],
   "source": []
  },
  {
   "cell_type": "code",
   "execution_count": null,
   "id": "5cd2391e",
   "metadata": {},
   "outputs": [],
   "source": [
    "#Ashwini\n",
    "\n",
    "import re\n",
    "str_email = '''boleh di kirim ke email saya ekoprasetyo.crb@outlook.com tks...\n",
    "boleh minta kirim ke db.maulana@gmail.com. \n",
    "dee.wien@yahoo.com. .\n",
    "deninainggolan@yahoo.co.id Senior Quantity Surveyor\n",
    "Fajar.rohita@hotmail.com, terimakasih bu Cindy Hartanto\n",
    "firmansyah1404@gmail.com saya mau dong bu cindy\n",
    "fransiscajw@gmail.com \n",
    "Hi Cindy ...pls share the Salary guide to donny_tri_wardono@yahoo.co.id thank a'''\n",
    "\n",
    "\n",
    "sub_str = r'\\w+[.]?\\w+[@]\\w+[.]\\w+[.]?\\w+'\n",
    "result = re.findall(sub_str, str_email)\n",
    "print(result)"
   ]
  },
  {
   "cell_type": "code",
   "execution_count": null,
   "id": "25315b36",
   "metadata": {},
   "outputs": [],
   "source": [
    "#Archana\n",
    "\n",
    "sub_str = r'\\w+@\\w+[.]\\w+[.]\\w+|\\w+[._]?\\w+@\\w+[.]\\w+'\n",
    "\n",
    "result = re.findall(sub_str, str_email)\n",
    "print(result)"
   ]
  },
  {
   "cell_type": "code",
   "execution_count": null,
   "id": "a418f3f5",
   "metadata": {},
   "outputs": [],
   "source": [
    "#Sowjanya\n",
    "\n",
    "result = re.findall(r\"[a-z0-9\\.\\-+_]+@[a-z0-9\\.\\-+_]+\\.[a-z]+\", str_email)\n",
    "print(result)"
   ]
  },
  {
   "cell_type": "code",
   "execution_count": null,
   "id": "eff62502",
   "metadata": {},
   "outputs": [],
   "source": [
    "#Apurva\n",
    "\n",
    "sub_str=r'[^ \\n]+[@]\\w+[.]\\w+[.]?\\w*'\n",
    "result=re.finditer(sub_str,str_email)\n",
    "for i in result:\n",
    "    print(i.group())"
   ]
  },
  {
   "cell_type": "code",
   "execution_count": null,
   "id": "2e61fb6d",
   "metadata": {},
   "outputs": [],
   "source": [
    "#Vinti\n",
    "\n",
    "sub_str=r'[\\w\\._]+@+[\\w\\._]'\n",
    "\n",
    "result = re.findall(sub_str, str_email)\n",
    "\n",
    "print(result)\n"
   ]
  },
  {
   "cell_type": "code",
   "execution_count": null,
   "id": "374cfb2a",
   "metadata": {},
   "outputs": [],
   "source": [
    "#Shilpy\n",
    "\n",
    "sub_str=r'\\w+[._]?\\w*\\@\\w+.\\w.*?\\w+\\w.*?'\n",
    "result=re.finditer(sub_str,str_email)\n",
    "for x in result:\n",
    "    print(x.group())\n"
   ]
  },
  {
   "cell_type": "markdown",
   "id": "ab3454c9",
   "metadata": {},
   "source": [
    "<!-- # What is RegEx library - for pattern matching in text to be able to extract certain patterns which could be examples - \n",
    "email addresses, phone numbers, names, etc. \n",
    "\n",
    "It performs a 'greedy match' i.e. will check for match character by character and then continue matching the pattern till\n",
    "conditions specified in the pattern are being met - will output longest possible match and then start matching from next\n",
    "character again.\n",
    "\n",
    "Why do we raw string 'r' in front of a pattern? Because regex sequences also use a lot of \\ and this is also an escape \n",
    "character in Python. To avoid conflict, we make everything a raw string.\n",
    "\n",
    "# Special sequences\n",
    "\\A - Match pattern at beginning of string.\n",
    "\\b - Words begin or end with the specified letter (or sequence). \n",
    "\\B - Match the pattern as long as the match is NOT at the beginning of the word.\n",
    "\\d - match digits.\n",
    "\\D - Match any non digit\n",
    "\\s - Match space\n",
    "\\S - Match any non space character\n",
    "\\w - Match alphanumeric (which means a-z, A-Z, 0-9, _)\n",
    "\\W - Match non alphanumeric\n",
    "\\Z - Match pattern at end of string.\n",
    "\n",
    "\n",
    "# Methods\n",
    "findall - finds all matches to the pattern and outputs all the matches in a list. \n",
    "search - finds the first occurrence of the pattern and outputs a match object. \n",
    "match - finds the pattern at the beginning of the string. Outputs - match object\n",
    "finditer - finds all occurrences of matches to the pattern in the string and outputs an iterator object which in turn contains all the match objects. \n",
    "compile - converts the pattern to be searched into a re.pattern object. Makes it easier to search for a given pattern that\n",
    "is used regularly and also methods can now be performed directly on this pattern object. \n",
    "\n",
    "# Match object methods\n",
    ".span - outputs the beginning and ending index numbers of the match in the form of a tuple. \n",
    ".start - ouputs the beginning index number of the match\n",
    ".end - outputs the ending index number of the match\n",
    ".group - outputs the match that the pattern was able to extract. \n",
    ".string (attribute) - outputs the input string on which pattern matching was performed.  \n",
    "\n",
    " -->"
   ]
  },
  {
   "cell_type": "markdown",
   "id": "b9f122bd",
   "metadata": {},
   "source": [
    "What is the re library?\n",
    "\n",
    "RegEx (Or regular expressions) - is a module that helps us search for patterns in text / string. \n",
    "\n",
    "###### Methods \n",
    "findall\n",
    "finditer\n",
    "search\n",
    "match\n",
    "compile\n",
    "sub\n",
    "subn\n",
    "split\n",
    "\n",
    "###### Sequences\n",
    "\\A - Search pattern at the beginning of a string. \n",
    "\\b - Search for pattern at the beginning (or end) of the word\n",
    "\\B - Opposite i.e. pattern should be present but NOT at the begining (or end) of the word.\n",
    "\\d - Search for digits\n",
    "\\D - Search for Non Digit (alphabets, special chars, spaces, newline characters)\n",
    "\\s - Search for whitespace\n",
    "\\S - Search for non-whitespace characters(alphanumeric, special chars, newline chars). \n",
    "\\w - Search for alphanumeric i.e a-z, A-Z, 0-9, _\n",
    "\\W - Search for non-alphanumeric i.e special characters, spaces, newline chars.\n",
    "\\Z - Search pattern at the end of the string. "
   ]
  },
  {
   "cell_type": "code",
   "execution_count": null,
   "id": "c8b44162",
   "metadata": {},
   "outputs": [],
   "source": [
    "import re"
   ]
  },
  {
   "cell_type": "code",
   "execution_count": null,
   "id": "1e7764dd",
   "metadata": {},
   "outputs": [],
   "source": [
    "input_str = '''Yashoda's phone number is 133456 and email is yashoda.learnbay@gmail.com and the phone number of Vineet is 1311314 along \n",
    "with an email ID of vineet@hotmail.com. The Learnbay teams email ID is teams@learnbay.co.in and can be reached at 1130851. Rikkis\n",
    "phone number is 1458195 and he has not given his email ID'''"
   ]
  },
  {
   "cell_type": "code",
   "execution_count": null,
   "id": "5ef7ddc0",
   "metadata": {},
   "outputs": [],
   "source": [
    "patt = r'(\\b[A-Z][a-z]+\\b)[^0-9]+(\\d+).+(\\b[a-z.]+@[a-z.]+[a-z]\\b)'\n",
    "\n",
    "result = re.finditer(patt, input_str)"
   ]
  },
  {
   "cell_type": "code",
   "execution_count": null,
   "id": "77ebcf55",
   "metadata": {},
   "outputs": [],
   "source": [
    "print(result)"
   ]
  },
  {
   "cell_type": "code",
   "execution_count": null,
   "id": "c6b04285",
   "metadata": {},
   "outputs": [],
   "source": [
    "for x in result:\n",
    "    print(x.groups())\n",
    "    print(x.group(1), x.group(2), x.group(3))"
   ]
  },
  {
   "cell_type": "code",
   "execution_count": null,
   "id": "a9c30dd7",
   "metadata": {},
   "outputs": [],
   "source": []
  },
  {
   "cell_type": "code",
   "execution_count": null,
   "id": "1fd16907",
   "metadata": {},
   "outputs": [],
   "source": []
  },
  {
   "cell_type": "code",
   "execution_count": null,
   "id": "263cb404",
   "metadata": {},
   "outputs": [],
   "source": []
  },
  {
   "cell_type": "code",
   "execution_count": 4,
   "id": "bf6f941b",
   "metadata": {},
   "outputs": [],
   "source": [
    "import re"
   ]
  },
  {
   "cell_type": "code",
   "execution_count": 5,
   "id": "e6afb373",
   "metadata": {},
   "outputs": [
    {
     "name": "stdout",
     "output_type": "stream",
     "text": [
      "['', 'the ', '', '']\n"
     ]
    }
   ],
   "source": [
    "input_str = '''I play basketball. She plays the piano. He plays drums. He also plays cricket'''\n",
    "\n",
    "sub_str = r'plays?\\s(the )?\\w+'\n",
    "\n",
    "result = re.findall(sub_str, input_str)\n",
    "\n",
    "print(result)"
   ]
  },
  {
   "cell_type": "code",
   "execution_count": 6,
   "id": "2805f596",
   "metadata": {},
   "outputs": [
    {
     "name": "stdout",
     "output_type": "stream",
     "text": [
      "['play basketball', 'plays the piano', 'plays drums', 'plays cricket']\n"
     ]
    }
   ],
   "source": [
    "sub_str = r'plays?\\s(?:the )?\\w+'\n",
    "\n",
    "result = re.findall(sub_str, input_str)\n",
    "\n",
    "print(result)"
   ]
  },
  {
   "cell_type": "code",
   "execution_count": null,
   "id": "e2a4a9d1",
   "metadata": {},
   "outputs": [],
   "source": []
  }
 ],
 "metadata": {
  "kernelspec": {
   "display_name": "Python 3 (ipykernel)",
   "language": "python",
   "name": "python3"
  },
  "language_info": {
   "codemirror_mode": {
    "name": "ipython",
    "version": 3
   },
   "file_extension": ".py",
   "mimetype": "text/x-python",
   "name": "python",
   "nbconvert_exporter": "python",
   "pygments_lexer": "ipython3",
   "version": "3.9.13"
  }
 },
 "nbformat": 4,
 "nbformat_minor": 5
}
