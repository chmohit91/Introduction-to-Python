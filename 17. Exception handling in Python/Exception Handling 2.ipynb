{
 "cells": [
  {
   "cell_type": "markdown",
   "id": "48383db4",
   "metadata": {},
   "source": [
    "### Exception Handling\n",
    "\n",
    "#### Errors \n",
    "\n",
    "- Compile time error (Syntax error or Indentation error)\n",
    "- Run Time Error or Exceptions\n",
    "\n",
    "Whenever an error occurs, it dirsupts the normal flow of the execution "
   ]
  },
  {
   "cell_type": "markdown",
   "id": "68397963",
   "metadata": {},
   "source": [
    "### Where to use Exception Handling?\n",
    "\n",
    "- AS we know, when an exception is raised it disrupt sthe normal flow of execution.\n",
    "- Exception Handling is the process to generate some response against the exception raised\n",
    "- By handling the exceptions, the normal flow of wxecution does not get disrupted"
   ]
  },
  {
   "cell_type": "markdown",
   "id": "7a4fa13d",
   "metadata": {},
   "source": [
    "### How to use exception handling\n",
    "\n",
    "- try\n",
    "- except\n",
    "- else\n",
    "- finally\n",
    "- raise"
   ]
  },
  {
   "cell_type": "markdown",
   "id": "87070bf6",
   "metadata": {},
   "source": [
    "### try and except statement\n",
    "\n",
    "- The code that may raise an exception is kept inside the try block and the reponse to that particular exception is kept inside the except block\n",
    "\n",
    "\n",
    "    Syntax:\n",
    "    \n",
    "        try:\n",
    "\n",
    "            code_1\n",
    "            code_2\n",
    "\n",
    "        except: \n",
    "\n",
    "            response"
   ]
  },
  {
   "cell_type": "code",
   "execution_count": 3,
   "id": "e860c8ab",
   "metadata": {},
   "outputs": [
    {
     "name": "stdout",
     "output_type": "stream",
     "text": [
      "Hello\n",
      "Python\n"
     ]
    },
    {
     "ename": "NameError",
     "evalue": "name 'y' is not defined",
     "output_type": "error",
     "traceback": [
      "\u001b[1;31m---------------------------------------------------------------------------\u001b[0m",
      "\u001b[1;31mNameError\u001b[0m                                 Traceback (most recent call last)",
      "Cell \u001b[1;32mIn[3], line 3\u001b[0m\n\u001b[0;32m      1\u001b[0m \u001b[38;5;28mprint\u001b[39m(\u001b[38;5;124m'\u001b[39m\u001b[38;5;124mHello\u001b[39m\u001b[38;5;124m'\u001b[39m)\n\u001b[0;32m      2\u001b[0m \u001b[38;5;28mprint\u001b[39m(\u001b[38;5;124m'\u001b[39m\u001b[38;5;124mPython\u001b[39m\u001b[38;5;124m'\u001b[39m)\n\u001b[1;32m----> 3\u001b[0m \u001b[38;5;28mprint\u001b[39m(y)\n\u001b[0;32m      4\u001b[0m \u001b[38;5;28mprint\u001b[39m(\u001b[38;5;124m'\u001b[39m\u001b[38;5;124mthankyou\u001b[39m\u001b[38;5;124m'\u001b[39m)\n",
      "\u001b[1;31mNameError\u001b[0m: name 'y' is not defined"
     ]
    }
   ],
   "source": [
    "print('Hello')\n",
    "print('Python')\n",
    "print(y)\n",
    "print('thankyou')"
   ]
  },
  {
   "cell_type": "code",
   "execution_count": 5,
   "id": "20747459",
   "metadata": {},
   "outputs": [
    {
     "name": "stdout",
     "output_type": "stream",
     "text": [
      "Hello\n",
      "Python\n",
      "Check your code\n",
      "thankyou\n"
     ]
    }
   ],
   "source": [
    "try:\n",
    "    print('Hello')\n",
    "    print('Python')\n",
    "    print(y)\n",
    "    \n",
    "except:\n",
    "    print('Check your code')\n",
    "print('thankyou')"
   ]
  },
  {
   "cell_type": "code",
   "execution_count": 6,
   "id": "ed909cc7",
   "metadata": {},
   "outputs": [
    {
     "name": "stdout",
     "output_type": "stream",
     "text": [
      "Hello\n",
      "Python\n",
      "thankyou\n"
     ]
    }
   ],
   "source": [
    "try:\n",
    "    print('Hello')\n",
    "    print('Python')\n",
    "#     print(y)\n",
    "    \n",
    "except:\n",
    "    print('Check your code')\n",
    "print('thankyou')"
   ]
  },
  {
   "cell_type": "code",
   "execution_count": 8,
   "id": "d01fe20c",
   "metadata": {},
   "outputs": [
    {
     "name": "stdout",
     "output_type": "stream",
     "text": [
      "Enter first number: 10\n",
      "Enter the second number: 0\n"
     ]
    },
    {
     "ename": "ZeroDivisionError",
     "evalue": "division by zero",
     "output_type": "error",
     "traceback": [
      "\u001b[1;31m---------------------------------------------------------------------------\u001b[0m",
      "\u001b[1;31mZeroDivisionError\u001b[0m                         Traceback (most recent call last)",
      "Cell \u001b[1;32mIn[8], line 3\u001b[0m\n\u001b[0;32m      1\u001b[0m a \u001b[38;5;241m=\u001b[39m \u001b[38;5;28mint\u001b[39m(\u001b[38;5;28minput\u001b[39m(\u001b[38;5;124m'\u001b[39m\u001b[38;5;124mEnter first number: \u001b[39m\u001b[38;5;124m'\u001b[39m))\n\u001b[0;32m      2\u001b[0m b \u001b[38;5;241m=\u001b[39m \u001b[38;5;28mint\u001b[39m(\u001b[38;5;28minput\u001b[39m(\u001b[38;5;124m'\u001b[39m\u001b[38;5;124mEnter the second number: \u001b[39m\u001b[38;5;124m'\u001b[39m))\n\u001b[1;32m----> 3\u001b[0m c \u001b[38;5;241m=\u001b[39m a\u001b[38;5;241m/\u001b[39mb\n\u001b[0;32m      4\u001b[0m \u001b[38;5;28mprint\u001b[39m(c)\n",
      "\u001b[1;31mZeroDivisionError\u001b[0m: division by zero"
     ]
    }
   ],
   "source": [
    "a = int(input('Enter first number: '))\n",
    "b = int(input('Enter the second number: '))\n",
    "c = a/b\n",
    "print(c)"
   ]
  },
  {
   "cell_type": "code",
   "execution_count": 9,
   "id": "c47ee5ae",
   "metadata": {},
   "outputs": [
    {
     "name": "stdout",
     "output_type": "stream",
     "text": [
      "Enter first number: 10\n",
      "Enter the second number: 2\n",
      "5.0\n",
      "Thanks\n"
     ]
    }
   ],
   "source": [
    "a = int(input('Enter first number: '))\n",
    "b = int(input('Enter the second number: '))\n",
    "\n",
    "try:\n",
    "    c = a/b\n",
    "    print(c)\n",
    "    \n",
    "except:\n",
    "    print('Division by zero is not Possible')\n",
    "    \n",
    "print('Thanks')"
   ]
  },
  {
   "cell_type": "code",
   "execution_count": 10,
   "id": "def11948",
   "metadata": {},
   "outputs": [
    {
     "name": "stdout",
     "output_type": "stream",
     "text": [
      "Enter first number: 10\n",
      "Enter the second number: 0\n",
      "Division by zero is not Possible\n",
      "Thanks\n"
     ]
    }
   ],
   "source": [
    "a = int(input('Enter first number: '))\n",
    "b = int(input('Enter the second number: '))\n",
    "\n",
    "try:\n",
    "    c = a/b\n",
    "    print(c)\n",
    "    \n",
    "except:\n",
    "    print('Division by zero is not Possible')\n",
    "    \n",
    "print('Thanks')"
   ]
  },
  {
   "cell_type": "markdown",
   "id": "d753a650",
   "metadata": {},
   "source": [
    "### How to get proper error message\n"
   ]
  },
  {
   "cell_type": "markdown",
   "id": "96759b25",
   "metadata": {},
   "source": [
    "    try:\n",
    "        code_1\n",
    "        code_2\n",
    "    except Exception as name:\n",
    "        print(name)"
   ]
  },
  {
   "cell_type": "code",
   "execution_count": 11,
   "id": "b2838b2e",
   "metadata": {},
   "outputs": [
    {
     "name": "stdout",
     "output_type": "stream",
     "text": [
      "['ArithmeticError', 'AssertionError', 'AttributeError', 'BaseException', 'BaseExceptionGroup', 'BlockingIOError', 'BrokenPipeError', 'BufferError', 'BytesWarning', 'ChildProcessError', 'ConnectionAbortedError', 'ConnectionError', 'ConnectionRefusedError', 'ConnectionResetError', 'DeprecationWarning', 'EOFError', 'Ellipsis', 'EncodingWarning', 'EnvironmentError', 'Exception', 'ExceptionGroup', 'False', 'FileExistsError', 'FileNotFoundError', 'FloatingPointError', 'FutureWarning', 'GeneratorExit', 'IOError', 'ImportError', 'ImportWarning', 'IndentationError', 'IndexError', 'InterruptedError', 'IsADirectoryError', 'KeyError', 'KeyboardInterrupt', 'LookupError', 'MemoryError', 'ModuleNotFoundError', 'NameError', 'None', 'NotADirectoryError', 'NotImplemented', 'NotImplementedError', 'OSError', 'OverflowError', 'PendingDeprecationWarning', 'PermissionError', 'ProcessLookupError', 'RecursionError', 'ReferenceError', 'ResourceWarning', 'RuntimeError', 'RuntimeWarning', 'StopAsyncIteration', 'StopIteration', 'SyntaxError', 'SyntaxWarning', 'SystemError', 'SystemExit', 'TabError', 'TimeoutError', 'True', 'TypeError', 'UnboundLocalError', 'UnicodeDecodeError', 'UnicodeEncodeError', 'UnicodeError', 'UnicodeTranslateError', 'UnicodeWarning', 'UserWarning', 'ValueError', 'Warning', 'WindowsError', 'ZeroDivisionError', '__IPYTHON__', '__build_class__', '__debug__', '__doc__', '__import__', '__loader__', '__name__', '__package__', '__spec__', 'abs', 'aiter', 'all', 'anext', 'any', 'ascii', 'bin', 'bool', 'breakpoint', 'bytearray', 'bytes', 'callable', 'chr', 'classmethod', 'compile', 'complex', 'copyright', 'credits', 'delattr', 'dict', 'dir', 'display', 'divmod', 'enumerate', 'eval', 'exec', 'execfile', 'filter', 'float', 'format', 'frozenset', 'get_ipython', 'getattr', 'globals', 'hasattr', 'hash', 'help', 'hex', 'id', 'input', 'int', 'isinstance', 'issubclass', 'iter', 'len', 'license', 'list', 'locals', 'map', 'max', 'memoryview', 'min', 'next', 'object', 'oct', 'open', 'ord', 'pow', 'print', 'property', 'range', 'repr', 'reversed', 'round', 'runfile', 'set', 'setattr', 'slice', 'sorted', 'staticmethod', 'str', 'sum', 'super', 'tuple', 'type', 'vars', 'zip']\n"
     ]
    }
   ],
   "source": [
    "print(dir(__builtins__))"
   ]
  },
  {
   "cell_type": "code",
   "execution_count": 23,
   "id": "d3b8f2b6",
   "metadata": {},
   "outputs": [
    {
     "name": "stdout",
     "output_type": "stream",
     "text": [
      "Enter first number: 10\n",
      "Enter the second number: 0\n",
      "division by zero\n",
      "Thanks\n"
     ]
    }
   ],
   "source": [
    "a = int(input('Enter first number: '))\n",
    "b = int(input('Enter the second number: '))\n",
    "\n",
    "try:\n",
    "    c = a/b\n",
    "    print(c)\n",
    "    \n",
    "except Exception as e:\n",
    "    print(e)\n",
    "    \n",
    "print('Thanks')"
   ]
  },
  {
   "cell_type": "code",
   "execution_count": 15,
   "id": "ae53e6b2",
   "metadata": {},
   "outputs": [
    {
     "name": "stdout",
     "output_type": "stream",
     "text": [
      "Enter first number: 10\n",
      "Enter the second number: 8\n",
      "1.25\n",
      "name 'y' is not defined\n",
      "Thanks\n"
     ]
    }
   ],
   "source": [
    "a = int(input('Enter first number: '))\n",
    "b = int(input('Enter the second number: '))\n",
    "\n",
    "try:\n",
    "    c = a/b\n",
    "    print(c)\n",
    "    print(y)\n",
    "    \n",
    "except Exception as e:\n",
    "    print(e)\n",
    "    \n",
    "print('Thanks')"
   ]
  },
  {
   "cell_type": "code",
   "execution_count": 16,
   "id": "a452423c",
   "metadata": {},
   "outputs": [
    {
     "name": "stdout",
     "output_type": "stream",
     "text": [
      "Enter first number: 10\n",
      "Enter the second number: 0\n",
      "division by zero\n",
      "Thanks\n"
     ]
    }
   ],
   "source": [
    "a = int(input('Enter first number: '))\n",
    "b = int(input('Enter the second number: '))\n",
    "\n",
    "try:\n",
    "    c = a/b\n",
    "    print(c)\n",
    "    print(y)\n",
    "    \n",
    "except Exception as e:\n",
    "    print(e)\n",
    "    \n",
    "print('Thanks')"
   ]
  },
  {
   "cell_type": "code",
   "execution_count": 21,
   "id": "3b9259ad",
   "metadata": {},
   "outputs": [
    {
     "name": "stdout",
     "output_type": "stream",
     "text": [
      "Enter first number: 10\n",
      "Enter the second number: j\n",
      "invalid literal for int() with base 10: 'j'\n",
      "Thanks\n"
     ]
    }
   ],
   "source": [
    "try:\n",
    "    \n",
    "    a = int(input('Enter first number: '))\n",
    "    b = int(input('Enter the second number: '))\n",
    "\n",
    "\n",
    "    c = a/b\n",
    "    print(c)\n",
    "    print(y)\n",
    "    \n",
    "except Exception as e:\n",
    "    print(e)\n",
    "    \n",
    "print('Thanks')"
   ]
  },
  {
   "cell_type": "markdown",
   "id": "ed98f8fc",
   "metadata": {},
   "source": [
    "### How to get a customized message for Different errors"
   ]
  },
  {
   "cell_type": "code",
   "execution_count": 24,
   "id": "59fe24c4",
   "metadata": {},
   "outputs": [
    {
     "name": "stdout",
     "output_type": "stream",
     "text": [
      "Enter first number: 10\n",
      "Enter the second number: p\n",
      "only digits are allowed!!\n",
      "Thanks\n"
     ]
    }
   ],
   "source": [
    "try:\n",
    "    \n",
    "    a = int(input('Enter first number: '))\n",
    "    b = int(input('Enter the second number: '))\n",
    "\n",
    "\n",
    "    c = a/b\n",
    "    print(c)\n",
    "    print(y)\n",
    "    \n",
    "except ValueError:\n",
    "    print('only digits are allowed!!')\n",
    "\n",
    "except ZeroDivisionError:\n",
    "    print('Division by zero is not possible')\n",
    "    \n",
    "except NameError:\n",
    "    print('You have not defined a particuar name')\n",
    "print('Thanks')"
   ]
  },
  {
   "cell_type": "code",
   "execution_count": 25,
   "id": "7c3de9b0",
   "metadata": {},
   "outputs": [
    {
     "name": "stdout",
     "output_type": "stream",
     "text": [
      "Enter first number: 10\n",
      "Enter the second number: 0\n",
      "Division by zero is not possible\n",
      "Thanks\n"
     ]
    }
   ],
   "source": [
    "try:\n",
    "    \n",
    "    a = int(input('Enter first number: '))\n",
    "    b = int(input('Enter the second number: '))\n",
    "\n",
    "\n",
    "    c = a/b\n",
    "    print(c)\n",
    "    print(y)\n",
    "    \n",
    "except ValueError:\n",
    "    print('only digits are allowed!!')\n",
    "\n",
    "except ZeroDivisionError:\n",
    "    print('Division by zero is not possible')\n",
    "    \n",
    "except NameError:\n",
    "    print('You have not defined a particuar name')\n",
    "print('Thanks')"
   ]
  },
  {
   "cell_type": "code",
   "execution_count": 26,
   "id": "b77141cc",
   "metadata": {},
   "outputs": [
    {
     "name": "stdout",
     "output_type": "stream",
     "text": [
      "Enter first number: 10\n",
      "Enter the second number: 5\n",
      "2.0\n",
      "You have not defined a particuar name\n",
      "Thanks\n"
     ]
    }
   ],
   "source": [
    "try:\n",
    "    \n",
    "    a = int(input('Enter first number: '))\n",
    "    b = int(input('Enter the second number: '))\n",
    "\n",
    "\n",
    "    c = a/b\n",
    "    print(c)\n",
    "    print(y)\n",
    "    \n",
    "except ValueError:\n",
    "    print('only digits are allowed!!')\n",
    "\n",
    "except ZeroDivisionError:\n",
    "    print('Division by zero is not possible')\n",
    "    \n",
    "except NameError:\n",
    "    print('You have not defined a particuar name')\n",
    "print('Thanks')"
   ]
  },
  {
   "cell_type": "code",
   "execution_count": 37,
   "id": "28ed1944",
   "metadata": {},
   "outputs": [
    {
     "name": "stdout",
     "output_type": "stream",
     "text": [
      "Enter first number: mayank\n",
      "invalid literal for int() with base 10: 'mayank'\n",
      "Thanks\n"
     ]
    }
   ],
   "source": [
    "try:\n",
    "    \n",
    "    a = int(input('Enter first number: '))\n",
    "    b = int(input('Enter the second number: '))\n",
    "\n",
    "\n",
    "    c = a/b\n",
    "    print(c)\n",
    "    print(y)\n",
    "    \n",
    "# except ValueError:\n",
    "#     print('only digits are allowed!!')\n",
    "\n",
    "except ZeroDivisionError:\n",
    "    print('Division by zero is not possible')\n",
    "    \n",
    "except NameError:\n",
    "    print('You have not defined a particuar name')\n",
    "    \n",
    "except Exception as e:\n",
    "    print(e)\n",
    "    \n",
    "print('Thanks')"
   ]
  },
  {
   "cell_type": "markdown",
   "id": "3a1e5e6b",
   "metadata": {},
   "source": [
    "### Nested try and except"
   ]
  },
  {
   "cell_type": "markdown",
   "id": "ca6ccb5a",
   "metadata": {},
   "source": [
    "    Syntax\n",
    "    \n",
    "    try:\n",
    "       code\n",
    "       code\n",
    "       try:\n",
    "           code\n",
    "           code\n",
    "       except:\n",
    "           respose\n",
    "    except:\n",
    "        response"
   ]
  },
  {
   "cell_type": "code",
   "execution_count": 32,
   "id": "6dd8308c",
   "metadata": {},
   "outputs": [
    {
     "name": "stdout",
     "output_type": "stream",
     "text": [
      "Outer Try block\n",
      "Inner Try block\n"
     ]
    }
   ],
   "source": [
    "try:\n",
    "    print('Outer Try block')\n",
    "    try:\n",
    "        print('Inner Try block')\n",
    "    except:\n",
    "        print('Inner Except block')\n",
    "except:\n",
    "    print('Outer Except Block')"
   ]
  },
  {
   "cell_type": "code",
   "execution_count": 34,
   "id": "37fb1907",
   "metadata": {},
   "outputs": [
    {
     "name": "stdout",
     "output_type": "stream",
     "text": [
      "Outer Try block\n",
      "Inner Except block\n"
     ]
    }
   ],
   "source": [
    "try:\n",
    "    print('Outer Try block')\n",
    "    try:\n",
    "        2/0\n",
    "        print('Inner Try block')\n",
    "        \n",
    "    except:\n",
    "        print('Inner Except block')\n",
    "except:\n",
    "    print('Outer Except Block')"
   ]
  },
  {
   "cell_type": "code",
   "execution_count": 35,
   "id": "be8c1bbe",
   "metadata": {},
   "outputs": [
    {
     "name": "stdout",
     "output_type": "stream",
     "text": [
      "Outer Try block\n",
      "Outer Except Block\n"
     ]
    }
   ],
   "source": [
    "try:\n",
    "    print('Outer Try block')\n",
    "    2/0\n",
    "    try:\n",
    "        \n",
    "        print('Inner Try block')\n",
    "        \n",
    "    except:\n",
    "        print('Inner Except block')\n",
    "except:\n",
    "    print('Outer Except Block')"
   ]
  },
  {
   "cell_type": "code",
   "execution_count": 36,
   "id": "40d3af5d",
   "metadata": {},
   "outputs": [
    {
     "name": "stdout",
     "output_type": "stream",
     "text": [
      "Outer Except Block\n"
     ]
    }
   ],
   "source": [
    "try:\n",
    "    2/0\n",
    "    print('Outer Try block')\n",
    "    \n",
    "    try:\n",
    "        \n",
    "        print('Inner Try block')\n",
    "        \n",
    "    except:\n",
    "        print('Inner Except block')\n",
    "except:\n",
    "    print('Outer Except Block')"
   ]
  },
  {
   "cell_type": "markdown",
   "id": "068d6eb2",
   "metadata": {},
   "source": [
    "### Multiple try and except\n",
    "\n",
    "    Syntax:\n",
    "        \n",
    "        try:\n",
    "            code_1\n",
    "            code_2\n",
    "        except:\n",
    "            respose\n",
    "            \n",
    "         try:\n",
    "             code_1\n",
    "             code_2\n",
    "         except:\n",
    "             response_2"
   ]
  },
  {
   "cell_type": "code",
   "execution_count": 3,
   "id": "3694516b",
   "metadata": {},
   "outputs": [
    {
     "name": "stdout",
     "output_type": "stream",
     "text": [
      "Enter first number: 10\n",
      "Enter second number: m\n",
      "Only digits are allowed!!!\n",
      "name 'n' is not defined\n"
     ]
    }
   ],
   "source": [
    "#here both the except block will be executed reason in first try and except we have not provided a valid inpt for m\n",
    "# and in second it will give a name error because n is not defined as the code after m is ignored\n",
    "\n",
    "try:\n",
    "    # this except block will take care that only digits are being entered \n",
    "    m = int(input('Enter first number: '))\n",
    "    n = int(input('Enter second number: '))\n",
    "except:\n",
    "    print('Only digits are allowed!!!')\n",
    "    \n",
    "try:\n",
    "    #this try and except block is going to take care of the division operation\n",
    "    z= m/n\n",
    "    print(z)\n",
    "except Exception as f:\n",
    "    print(f)"
   ]
  },
  {
   "cell_type": "code",
   "execution_count": 4,
   "id": "89e734cf",
   "metadata": {},
   "outputs": [
    {
     "name": "stdout",
     "output_type": "stream",
     "text": [
      "Enter first number: 10\n",
      "Enter second number: 0\n",
      "division by zero\n"
     ]
    }
   ],
   "source": [
    "try:\n",
    "    # this except block will take care that only digits are being entered \n",
    "    m = int(input('Enter first number: '))\n",
    "    n = int(input('Enter second number: '))\n",
    "except:\n",
    "    print('Only digits are allowed!!!')\n",
    "    \n",
    "try:\n",
    "    #this try and except block is going to take care of the division operation\n",
    "    z= m/n\n",
    "    print(z)\n",
    "except Exception as f:\n",
    "    print(f)"
   ]
  },
  {
   "cell_type": "code",
   "execution_count": 5,
   "id": "b188c5d5",
   "metadata": {},
   "outputs": [
    {
     "name": "stdout",
     "output_type": "stream",
     "text": [
      "Enter first number: 10\n",
      "Enter second number: 5\n",
      "2.0\n"
     ]
    }
   ],
   "source": [
    "try:\n",
    "    # this except block will take care that only digits are being entered \n",
    "    m = int(input('Enter first number: '))\n",
    "    n = int(input('Enter second number: '))\n",
    "except:\n",
    "    print('Only digits are allowed!!!')\n",
    "    \n",
    "try:\n",
    "    #this try and except block is going to take care of the division operation\n",
    "    z= m/n\n",
    "    print(z)\n",
    "except Exception as f:\n",
    "    print(f)"
   ]
  },
  {
   "cell_type": "markdown",
   "id": "864a680c",
   "metadata": {},
   "source": [
    "### try...except and else statement\n",
    "\n",
    "- If try block raises an exception then the except block will be executed\n",
    "- If in the try block an exception is not raised then else block will get executed"
   ]
  },
  {
   "cell_type": "markdown",
   "id": "0ffc9dcd",
   "metadata": {},
   "source": [
    "    Syntax:\n",
    "    \n",
    "        try:\n",
    "            code_1\n",
    "            code_2\n",
    "        except:\n",
    "            respose\n",
    "        else:\n",
    "            code\n",
    "            code"
   ]
  },
  {
   "cell_type": "code",
   "execution_count": 6,
   "id": "cf48d450",
   "metadata": {},
   "outputs": [
    {
     "name": "stdout",
     "output_type": "stream",
     "text": [
      "Enter the first number: 10\n",
      "Enter the second number: 5\n",
      "2.0\n"
     ]
    }
   ],
   "source": [
    "a = int(input('Enter the first number: '))\n",
    "b = int(input('Enter the second number: '))\n",
    "\n",
    "try:\n",
    "    c = a/b\n",
    "except Exception as e:\n",
    "    print(e)\n",
    "else:\n",
    "    print(c)\n",
    "\n"
   ]
  },
  {
   "cell_type": "code",
   "execution_count": 7,
   "id": "f5a147b2",
   "metadata": {},
   "outputs": [
    {
     "name": "stdout",
     "output_type": "stream",
     "text": [
      "Enter the first number: 10\n",
      "Enter the second number: 0\n",
      "division by zero\n"
     ]
    }
   ],
   "source": [
    "a = int(input('Enter the first number: '))\n",
    "b = int(input('Enter the second number: '))\n",
    "\n",
    "try:\n",
    "    c = a/b\n",
    "except Exception as e:\n",
    "    print(e)\n",
    "else:\n",
    "    print(c)"
   ]
  },
  {
   "cell_type": "markdown",
   "id": "f7cdaebf",
   "metadata": {},
   "source": [
    "### Finally block \n",
    "\n",
    "- In finally block, the code written will get executed anyways "
   ]
  },
  {
   "cell_type": "markdown",
   "id": "af02f0a0",
   "metadata": {},
   "source": [
    "###    Syntax:\n",
    "    \n",
    "        try:\n",
    "            code_1\n",
    "            code_2\n",
    "        except:\n",
    "            respose\n",
    "        else:\n",
    "            code\n",
    "            code\n",
    "        finally:\n",
    "            code"
   ]
  },
  {
   "cell_type": "markdown",
   "id": "8045cdc5",
   "metadata": {},
   "source": [
    "### Case-1\n",
    "\n",
    "- When no exception is raise"
   ]
  },
  {
   "cell_type": "code",
   "execution_count": 8,
   "id": "f27e1473",
   "metadata": {},
   "outputs": [
    {
     "name": "stdout",
     "output_type": "stream",
     "text": [
      "Try block\n",
      "Else block\n",
      "Finally block\n"
     ]
    }
   ],
   "source": [
    "try:\n",
    "    print('Try block')\n",
    "except:\n",
    "    print('Except block')\n",
    "else:\n",
    "    print('Else block')\n",
    "finally:\n",
    "    print('Finally block')"
   ]
  },
  {
   "cell_type": "markdown",
   "id": "1f57946b",
   "metadata": {},
   "source": [
    "### Case-2\n",
    "\n",
    "- When an exception is rasied and handled"
   ]
  },
  {
   "cell_type": "code",
   "execution_count": 9,
   "id": "d56cf772",
   "metadata": {},
   "outputs": [
    {
     "name": "stdout",
     "output_type": "stream",
     "text": [
      "Try block\n",
      "Except block\n",
      "Finally block\n"
     ]
    }
   ],
   "source": [
    "try:\n",
    "    print('Try block')\n",
    "    2/0\n",
    "except:\n",
    "    print('Except block')\n",
    "else:\n",
    "    print('Else block')\n",
    "finally:\n",
    "    print('Finally block')"
   ]
  },
  {
   "cell_type": "code",
   "execution_count": 11,
   "id": "3d9669c5",
   "metadata": {},
   "outputs": [
    {
     "name": "stdout",
     "output_type": "stream",
     "text": [
      "Enter the first number: 10\n",
      "Enter the second number: 5\n",
      "2.0\n",
      "This is an example\n"
     ]
    }
   ],
   "source": [
    "a = int(input('Enter the first number: '))\n",
    "b = int(input('Enter the second number: '))\n",
    "\n",
    "try:\n",
    "    c = a/b\n",
    "except Exception as e:\n",
    "    print(e)\n",
    "else:\n",
    "    print(c)\n",
    "finally :\n",
    "    print('This is an example')"
   ]
  },
  {
   "cell_type": "code",
   "execution_count": 12,
   "id": "eceff7ee",
   "metadata": {},
   "outputs": [
    {
     "name": "stdout",
     "output_type": "stream",
     "text": [
      "Enter the first number: 10\n",
      "Enter the second number: 0\n",
      "division by zero\n",
      "This is an example\n"
     ]
    }
   ],
   "source": [
    "a = int(input('Enter the first number: '))\n",
    "b = int(input('Enter the second number: '))\n",
    "\n",
    "try:\n",
    "    c = a/b\n",
    "except Exception as e:\n",
    "    print(e)\n",
    "else:\n",
    "    print(c)\n",
    "finally :\n",
    "    print('This is an example')"
   ]
  },
  {
   "cell_type": "code",
   "execution_count": 5,
   "id": "c0ee217f",
   "metadata": {},
   "outputs": [
    {
     "name": "stdout",
     "output_type": "stream",
     "text": [
      "Enter the first number: 10\n",
      "Enter the second number: 5\n",
      "2.0\n"
     ]
    }
   ],
   "source": [
    "a = int(input('Enter the first number: '))\n",
    "b = int(input('Enter the second number: '))\n",
    "\n",
    "try:\n",
    "    c = a/b\n",
    "except Exception as e:\n",
    "    print(e)\n",
    "else:\n",
    "    print(c)"
   ]
  },
  {
   "cell_type": "markdown",
   "id": "a0bc018e",
   "metadata": {},
   "source": [
    "### Case-3\n",
    "\n",
    "- when an exception is raise and not handled"
   ]
  },
  {
   "cell_type": "code",
   "execution_count": 6,
   "id": "b69ee731",
   "metadata": {},
   "outputs": [
    {
     "name": "stdout",
     "output_type": "stream",
     "text": [
      "Outer Try block\n",
      "finally block\n"
     ]
    },
    {
     "ename": "ZeroDivisionError",
     "evalue": "division by zero",
     "output_type": "error",
     "traceback": [
      "\u001b[1;31m---------------------------------------------------------------------------\u001b[0m",
      "\u001b[1;31mZeroDivisionError\u001b[0m                         Traceback (most recent call last)",
      "Cell \u001b[1;32mIn[6], line 3\u001b[0m\n\u001b[0;32m      1\u001b[0m \u001b[38;5;28;01mtry\u001b[39;00m:\n\u001b[0;32m      2\u001b[0m     \u001b[38;5;28mprint\u001b[39m(\u001b[38;5;124m'\u001b[39m\u001b[38;5;124mOuter Try block\u001b[39m\u001b[38;5;124m'\u001b[39m)\n\u001b[1;32m----> 3\u001b[0m     \u001b[38;5;241m2\u001b[39m\u001b[38;5;241m/\u001b[39m\u001b[38;5;241m0\u001b[39m\n\u001b[0;32m      4\u001b[0m \u001b[38;5;28;01mexcept\u001b[39;00m \u001b[38;5;167;01mValueError\u001b[39;00m:\n\u001b[0;32m      5\u001b[0m     \u001b[38;5;28mprint\u001b[39m(\u001b[38;5;124m'\u001b[39m\u001b[38;5;124mOnly digits are allowed\u001b[39m\u001b[38;5;124m'\u001b[39m)\n",
      "\u001b[1;31mZeroDivisionError\u001b[0m: division by zero"
     ]
    }
   ],
   "source": [
    "try:\n",
    "    print('Outer Try block')\n",
    "    2/0\n",
    "except ValueError:\n",
    "    print('Only digits are allowed')\n",
    "else:\n",
    "    print('Else block')\n",
    "finally:\n",
    "    print('finally block')"
   ]
  },
  {
   "cell_type": "markdown",
   "id": "86c6a96b",
   "metadata": {},
   "source": [
    "### Raise\n",
    "\n",
    "- It is used to raise a user defined exception"
   ]
  },
  {
   "cell_type": "code",
   "execution_count": 13,
   "id": "c877743a",
   "metadata": {},
   "outputs": [
    {
     "name": "stdout",
     "output_type": "stream",
     "text": [
      "Enter a number: 10\n",
      "Enter a number again: 0\n",
      "name 'ZeroDivisio' is not defined\n",
      "Bye\n"
     ]
    }
   ],
   "source": [
    "def divide(a,b):\n",
    "    if b == 0:\n",
    "        raise ZeroDivisio('Cannot divide by zero')\n",
    "    return a/b\n",
    "\n",
    "try:\n",
    "    x = int(input('Enter a number: '))\n",
    "    y = int(input('Enter a number again: '))\n",
    "    \n",
    "    result = divide(x,y)\n",
    "    print(result)\n",
    "    \n",
    "    x = int(input('Enter a number: '))\n",
    "    y = int(input('Enter a number again: '))\n",
    "    \n",
    "    result = divide(x,y)\n",
    "    print(result)   \n",
    "    \n",
    "except Exception as e:\n",
    "    print(e)\n",
    "\n",
    "else:\n",
    "    print('No exception occured ')\n",
    "    \n",
    "finally:\n",
    "    print('Bye')"
   ]
  },
  {
   "cell_type": "code",
   "execution_count": 11,
   "id": "846a972b",
   "metadata": {},
   "outputs": [
    {
     "ename": "ZeroDivisionError",
     "evalue": "division by zero",
     "output_type": "error",
     "traceback": [
      "\u001b[1;31m---------------------------------------------------------------------------\u001b[0m",
      "\u001b[1;31mZeroDivisionError\u001b[0m                         Traceback (most recent call last)",
      "Cell \u001b[1;32mIn[11], line 1\u001b[0m\n\u001b[1;32m----> 1\u001b[0m \u001b[38;5;241m10\u001b[39m\u001b[38;5;241m/\u001b[39m\u001b[38;5;241m0\u001b[39m\n",
      "\u001b[1;31mZeroDivisionError\u001b[0m: division by zero"
     ]
    }
   ],
   "source": [
    "10/0\n"
   ]
  },
  {
   "cell_type": "code",
   "execution_count": null,
   "id": "37f6f78a",
   "metadata": {},
   "outputs": [],
   "source": []
  }
 ],
 "metadata": {
  "kernelspec": {
   "display_name": "Python 3 (ipykernel)",
   "language": "python",
   "name": "python3"
  },
  "language_info": {
   "codemirror_mode": {
    "name": "ipython",
    "version": 3
   },
   "file_extension": ".py",
   "mimetype": "text/x-python",
   "name": "python",
   "nbconvert_exporter": "python",
   "pygments_lexer": "ipython3",
   "version": "3.11.5"
  }
 },
 "nbformat": 4,
 "nbformat_minor": 5
}
