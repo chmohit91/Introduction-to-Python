{
 "cells": [
  {
   "cell_type": "markdown",
   "id": "0371e14d",
   "metadata": {},
   "source": [
    "### Exception Handling"
   ]
  },
  {
   "cell_type": "code",
   "execution_count": null,
   "id": "55271dc9",
   "metadata": {},
   "outputs": [],
   "source": [
    "# Exception handling in Python allows us to handle RUNTIME exceptions in the way we want i.e. to tell the program what to\n",
    "# do in case a RUNTIME exception has occurred. \n",
    "\n",
    "#1. Compile Time errors - Syntax errors that stop the program from converting your code to Byte Code. Since the computer \n",
    "# cannot understand what we want to do at all - we MUST resolve syntax errors before translation can take place. \n",
    "#2. Runtime Errors - Errors that occur during execution(interpretation) of our programs. If we already anticipate such errors\n",
    "# at a certain part of our program, Python allows exception handling to handle the errors as per our logic/convenience. \n",
    "#3. Logical Errors - Errors that are not compiletime or runtime. These kind of errors end up giving us unexpected outputs.\n",
    "# The computer has no way of knowing that the output is different from our expectation. The way to solve logical errors is\n",
    "# by rigourous testing and resolution. \n",
    "\n"
   ]
  },
  {
   "cell_type": "code",
   "execution_count": null,
   "id": "d6b66f09",
   "metadata": {},
   "outputs": [],
   "source": [
    "print('Ravi)"
   ]
  },
  {
   "cell_type": "code",
   "execution_count": null,
   "id": "bcb54421",
   "metadata": {},
   "outputs": [],
   "source": [
    "a = 10\n",
    "c = a+b"
   ]
  },
  {
   "cell_type": "code",
   "execution_count": null,
   "id": "4c852f6e",
   "metadata": {},
   "outputs": [],
   "source": [
    "a = 10\n",
    "b = 5\n",
    "\n",
    "print(a/b)"
   ]
  },
  {
   "cell_type": "code",
   "execution_count": null,
   "id": "4151a144",
   "metadata": {},
   "outputs": [],
   "source": [
    "print(b/a)"
   ]
  },
  {
   "cell_type": "code",
   "execution_count": null,
   "id": "2f0ce5c4",
   "metadata": {},
   "outputs": [],
   "source": [
    "# Runtime errors allow us to handle exceptions\n",
    "\n",
    "\n",
    "a = 10\n",
    "\n",
    "try:\n",
    "    print('Program will execute till here - proving that this is caught during RUNTIME or execution/interpretation')\n",
    "    c = a+b\n",
    "    print(c)\n",
    "except:\n",
    "    print('There was a runtime error')"
   ]
  },
  {
   "cell_type": "code",
   "execution_count": null,
   "id": "7621d2f1",
   "metadata": {},
   "outputs": [],
   "source": [
    "a = 10\n",
    "\n",
    "try:\n",
    "    print('Program will execute till here - proving that this is caught during RUNTIME or execution/interpretation')\n",
    "    c = a+b\n",
    "    print(c\n",
    "except:\n",
    "    print('There was a runtime error')"
   ]
  },
  {
   "cell_type": "code",
   "execution_count": null,
   "id": "c7d684d1",
   "metadata": {},
   "outputs": [],
   "source": [
    "a = 10\n",
    "y = 0\n",
    "\n",
    "try:\n",
    "    c = a+b\n",
    "    print(c)\n",
    "    x = a/y\n",
    "    print(x)\n",
    "except:\n",
    "    print('Default except block')"
   ]
  },
  {
   "cell_type": "code",
   "execution_count": null,
   "id": "9fcc9439",
   "metadata": {},
   "outputs": [],
   "source": [
    "a = 10\n",
    "y = 0\n",
    "b = 5\n",
    "\n",
    "try:\n",
    "    c = a+b\n",
    "    print(c)\n",
    "    x = a/y\n",
    "    print(x)\n",
    "except:\n",
    "    print('Default except block')"
   ]
  },
  {
   "cell_type": "code",
   "execution_count": null,
   "id": "b57efa33",
   "metadata": {},
   "outputs": [],
   "source": [
    "a = 10\n",
    "y = 2\n",
    "b = 5\n",
    "\n",
    "try:\n",
    "    c = a+b\n",
    "    print(c)\n",
    "    x = a/y\n",
    "    print(x)\n",
    "except:\n",
    "    print('Default except block')"
   ]
  },
  {
   "cell_type": "code",
   "execution_count": null,
   "id": "90a533de",
   "metadata": {},
   "outputs": [],
   "source": [
    "# Specific except blocks\n",
    "\n",
    "a = 10\n",
    "y = 0\n",
    "\n",
    "try:\n",
    "    c = a+b\n",
    "    print(c)\n",
    "    x = a/y\n",
    "    print(x)\n",
    "except NameError:\n",
    "    print('NameError except block')\n",
    "except:\n",
    "    print('Default Except block')"
   ]
  },
  {
   "cell_type": "code",
   "execution_count": null,
   "id": "6d521a1c",
   "metadata": {},
   "outputs": [],
   "source": [
    "a = 10\n",
    "y = 0\n",
    "b = 5\n",
    "\n",
    "try:\n",
    "    c = a+b\n",
    "    print(c)\n",
    "    x = a/y\n",
    "    print(x)\n",
    "except NameError:\n",
    "    print('NameError except block')\n",
    "except:\n",
    "    print('Default Except block')"
   ]
  },
  {
   "cell_type": "code",
   "execution_count": null,
   "id": "3d09c4b6",
   "metadata": {},
   "outputs": [],
   "source": [
    "a = 10\n",
    "c = a+b"
   ]
  },
  {
   "cell_type": "code",
   "execution_count": null,
   "id": "11ec4ecb",
   "metadata": {},
   "outputs": [],
   "source": [
    "a = 10\n",
    "y = 0\n",
    "\n",
    "try:\n",
    "    c = a+b\n",
    "    print(c)\n",
    "    x = a/y\n",
    "    print(x)\n",
    "except nameerror:\n",
    "    print('NameError except block')\n",
    "except:\n",
    "    print('Default Except Block')\n"
   ]
  },
  {
   "cell_type": "code",
   "execution_count": null,
   "id": "caee9df7",
   "metadata": {},
   "outputs": [],
   "source": [
    "a = 10\n",
    "y = 2\n",
    "b = 5\n",
    "try:\n",
    "    c = a+b\n",
    "    print(c)\n",
    "    x = a/y\n",
    "    print(x)\n",
    "except NameError:\n",
    "    print('NameError except block')\n",
    "except:\n",
    "    print('Default Except Block')\n"
   ]
  },
  {
   "cell_type": "code",
   "execution_count": null,
   "id": "6393c218",
   "metadata": {},
   "outputs": [],
   "source": [
    "a = 10\n",
    "y = 0\n",
    "#b = 5\n",
    "name = 'adit'\n",
    "try:\n",
    "    c = a+b\n",
    "    print(c)\n",
    "    x = a/y\n",
    "    print(x)\n",
    "    for x in range(len(name)):\n",
    "        print(name[x+1])\n",
    "    \n",
    "except (NameError,ZeroDivisionError):\n",
    "    print('NameError and ZeroDivision Error except block')\n",
    "except:\n",
    "    print('Default Except Block')\n"
   ]
  },
  {
   "cell_type": "code",
   "execution_count": null,
   "id": "0ee78c85",
   "metadata": {},
   "outputs": [],
   "source": [
    "a = 10\n",
    "y = 2\n",
    "b = 5\n",
    "name = 'adit'\n",
    "try:\n",
    "    c = a+b\n",
    "    print(c)\n",
    "    x = a/y\n",
    "    print(x)\n",
    "    for x in range(len(name)):\n",
    "        print(name[x+1])\n",
    "    \n",
    "except (NameError,ZeroDivisionError):\n",
    "    print('NameError and ZeroDivision Error except block')\n",
    "except IndexError:\n",
    "    print('IndexError except block')\n",
    "except:\n",
    "    print('Default Except Block')\n"
   ]
  },
  {
   "cell_type": "code",
   "execution_count": null,
   "id": "e7ea3e0b",
   "metadata": {},
   "outputs": [],
   "source": [
    "# We can have multiple specific exception blocks either individually or in combination of 2 or more specific exceptions \n",
    "# handled the same way."
   ]
  },
  {
   "cell_type": "code",
   "execution_count": null,
   "id": "4a443626",
   "metadata": {},
   "outputs": [],
   "source": [
    "a = 10\n",
    "y = 0\n",
    "b = 5\n",
    "name = 'adit'\n",
    "try:\n",
    "    c = a+b\n",
    "    print(c)\n",
    "    x = a/y\n",
    "    print(x)\n",
    "    for x in range(len(name)):\n",
    "        print(name[x+1])\n",
    "    \n",
    "except (NameError,ZeroDivisionError):\n",
    "    print('NameError and ZeroDivision Error except block')\n",
    "except:\n",
    "    print('Default Except Block')\n"
   ]
  },
  {
   "cell_type": "code",
   "execution_count": null,
   "id": "00745688",
   "metadata": {},
   "outputs": [],
   "source": [
    "a = 10\n",
    "y = 2\n",
    "b = 5\n",
    "name = 'adit'\n",
    "try:\n",
    "    c = a+b\n",
    "    print(c)\n",
    "    x = a/y\n",
    "    print(x)\n",
    "    for x in range(len(name)):\n",
    "        print(name[x+1])\n",
    "    \n",
    "except (NameError,ZeroDivisionError):\n",
    "    print('NameError and ZeroDivision Error except block')\n",
    "except:\n",
    "    print('Default Except Block')\n"
   ]
  },
  {
   "cell_type": "code",
   "execution_count": null,
   "id": "bb48299c",
   "metadata": {},
   "outputs": [],
   "source": [
    "a = 10\n",
    "y = 0\n",
    "name = 'adit'\n",
    "try:\n",
    "    c = a+b\n",
    "    print(c)\n",
    "    x = a/y\n",
    "    print(x)\n",
    "    for x in range(len(name)):\n",
    "        print(name[x+1])\n",
    "    \n",
    "except (NameError,ZeroDivisionError):\n",
    "    print('NameError and ZeroDivision Error except block')\n",
    "except:\n",
    "    print('Default Except Block')\n"
   ]
  },
  {
   "cell_type": "code",
   "execution_count": null,
   "id": "756ebb83",
   "metadata": {},
   "outputs": [],
   "source": [
    "# Else and Finally blocks.\n",
    "\n",
    "# Else block executes ONLY if Try block was successful\n",
    "# Finally block executes IRRESPECTIVE of whether Try block was successful or not. \n",
    "\n",
    "a = 10\n",
    "y = 0\n",
    "name = 'adit'\n",
    "try:\n",
    "    c = a+b\n",
    "    print(c)\n",
    "    x = a/y\n",
    "    print(x)\n",
    "    for x in range(len(name)):\n",
    "        print(name[x+1])  \n",
    "except:\n",
    "    print('Default Except Block')\n",
    "else:\n",
    "    print('Else block executed')\n",
    "finally:\n",
    "    print('Finally block executed')\n"
   ]
  },
  {
   "cell_type": "code",
   "execution_count": null,
   "id": "56ff1bca",
   "metadata": {},
   "outputs": [],
   "source": [
    "a = 10\n",
    "y = 2\n",
    "b = 5\n",
    "name = 'adit'\n",
    "try:\n",
    "    c = a+b\n",
    "    print(c)\n",
    "    x = a/y\n",
    "    print(x)\n",
    "    for x in range(len(name)):\n",
    "        print(name[x])  \n",
    "except:\n",
    "    print('Default Except Block')\n",
    "else:\n",
    "    print('Else block executed')\n",
    "finally:\n",
    "    print('Finally block executed')\n"
   ]
  },
  {
   "cell_type": "code",
   "execution_count": null,
   "id": "157a6fbc",
   "metadata": {},
   "outputs": [],
   "source": [
    "# Try block will run - and give output\n",
    "# Else block will run\n",
    "# Finally block will run"
   ]
  },
  {
   "cell_type": "code",
   "execution_count": null,
   "id": "e5f44f98",
   "metadata": {},
   "outputs": [],
   "source": [
    "a = 10\n",
    "b = 20\n",
    "\n",
    "\n",
    "try:\n",
    "    c = a+b\n",
    "    print(c)"
   ]
  },
  {
   "cell_type": "code",
   "execution_count": null,
   "id": "269b42ac",
   "metadata": {},
   "outputs": [],
   "source": [
    "a = 10\n",
    "b = 20\n",
    "\n",
    "\n",
    "try:\n",
    "    c = a+b\n",
    "    print(c)\n",
    "else:\n",
    "    print('Hi there')"
   ]
  },
  {
   "cell_type": "code",
   "execution_count": null,
   "id": "7f772334",
   "metadata": {},
   "outputs": [],
   "source": [
    "a = 10\n",
    "b = 20\n",
    "\n",
    "\n",
    "try:\n",
    "    c = a+b\n",
    "    print(c)\n",
    "except:\n",
    "    print('Hi there')"
   ]
  },
  {
   "cell_type": "code",
   "execution_count": null,
   "id": "9b7b869d",
   "metadata": {},
   "outputs": [],
   "source": [
    "a = 10\n",
    "b = 20\n",
    "\n",
    "\n",
    "try:\n",
    "    c = a+b\n",
    "    print(c)\n",
    "except IndexError:\n",
    "    print('Hi there')"
   ]
  },
  {
   "cell_type": "code",
   "execution_count": null,
   "id": "6842243f",
   "metadata": {},
   "outputs": [],
   "source": [
    "a = 10\n",
    "b = 20\n",
    "\n",
    "\n",
    "try:\n",
    "    c = a+b\n",
    "    print(c)\n",
    "finally:\n",
    "    print('Hi there')"
   ]
  },
  {
   "cell_type": "code",
   "execution_count": null,
   "id": "06a89c88",
   "metadata": {},
   "outputs": [],
   "source": [
    "# if/else - block - if it encounters an error - it will raise the error and terminate the program. \n",
    "# try/except block - it it encounters the error - it will follow our instructions for handling the error. \n",
    "\n",
    "# if/else - is created to handle logical control flow\n",
    "# try/except - is created to handle exceptions - control flow. \n",
    "\n"
   ]
  },
  {
   "cell_type": "code",
   "execution_count": null,
   "id": "0dde06f5",
   "metadata": {},
   "outputs": [],
   "source": [
    "#input function - Used to take input from user\n",
    "\n",
    "var1 = input()\n",
    "\n",
    "print(f'Input from user is : {var1}')"
   ]
  },
  {
   "cell_type": "code",
   "execution_count": null,
   "id": "4c4689bc",
   "metadata": {},
   "outputs": [],
   "source": [
    "# It can take an optional parameter - a string that prompts the user (gives instructions?)\n",
    "\n",
    "var1 = input('Please input a number between 1 to 100 : ')\n",
    "\n",
    "print(f'Input from user is : {var1}')"
   ]
  },
  {
   "cell_type": "code",
   "execution_count": null,
   "id": "f65deeca",
   "metadata": {},
   "outputs": [],
   "source": [
    "var1 = input('Please input a number between 1 to 100 : ')\n",
    "\n",
    "print(f'Input from user is : {var1}')\n",
    "print(f'Type of var1 is : {type(var1)}')"
   ]
  },
  {
   "cell_type": "code",
   "execution_count": null,
   "id": "6f56bef9",
   "metadata": {},
   "outputs": [],
   "source": [
    "var1 = int(input('Please input a number between 1 to 100 : '))\n",
    "\n",
    "print(f'Input from user is : {var1}')\n",
    "print(f'Type of var1 is : {type(var1)}')\n",
    "print(var1*5)"
   ]
  },
  {
   "cell_type": "code",
   "execution_count": null,
   "id": "fa239916",
   "metadata": {},
   "outputs": [],
   "source": [
    "var1 = int(input('Please input a number between 1 to 100 : '))\n",
    "\n",
    "print(f'Input from user is : {var1}')\n",
    "print(f'Type of var1 is : {type(var1)}')\n",
    "print(var1*5)"
   ]
  },
  {
   "cell_type": "code",
   "execution_count": null,
   "id": "44c11191",
   "metadata": {},
   "outputs": [],
   "source": [
    "# eval function - takes a string as an input and 'evaluates' the contents of the string. \n",
    "\n",
    "var1 = '10+2'\n",
    "\n",
    "print(var1)\n",
    "print(type(var1))"
   ]
  },
  {
   "cell_type": "code",
   "execution_count": null,
   "id": "aa282eb3",
   "metadata": {},
   "outputs": [],
   "source": [
    "var1 = eval('10+2')\n",
    "\n",
    "print(var1)\n",
    "print(type(var1))"
   ]
  },
  {
   "cell_type": "code",
   "execution_count": null,
   "id": "69ac3b3d",
   "metadata": {},
   "outputs": [],
   "source": [
    "var1 = eval('100*2 if 20>10 else 100*3')\n",
    "\n",
    "print(var1)"
   ]
  },
  {
   "cell_type": "code",
   "execution_count": null,
   "id": "47fcae6f",
   "metadata": {},
   "outputs": [],
   "source": [
    "var1 = eval('100*2 if 20<10 else 100*3')\n",
    "\n",
    "print(var1)"
   ]
  },
  {
   "cell_type": "code",
   "execution_count": null,
   "id": "39a5ae95",
   "metadata": {},
   "outputs": [],
   "source": [
    "var1 = eval('[1,2,3,4]')\n",
    "\n",
    "print(var1)\n",
    "print(type(var1))"
   ]
  },
  {
   "cell_type": "code",
   "execution_count": null,
   "id": "f055ae85",
   "metadata": {},
   "outputs": [],
   "source": [
    "# input function outputs a string\n",
    "# eval function input a string\n",
    "\n",
    "var1 = eval(input('Please input a number between 1 to 100 : '))\n",
    "\n",
    "print(f'Input from user is : {var1}')\n",
    "print(f'Type of var1 is : {type(var1)}')\n",
    "print(var1*5)"
   ]
  },
  {
   "cell_type": "code",
   "execution_count": null,
   "id": "258c4724",
   "metadata": {},
   "outputs": [],
   "source": [
    "# Eval function can be dangerous when used in realtime environments. Usually, we use this internally or with trusted \n",
    "# collaborators.\n",
    "\n",
    "# Eval takes two optional parameters - the global scope, local scope"
   ]
  },
  {
   "cell_type": "code",
   "execution_count": null,
   "id": "5290471c",
   "metadata": {},
   "outputs": [],
   "source": [
    "dict1 = {'X': {'S':72,'CS':81, 'DS':62}, 'Y':{'S':75,'Psy':67}, 'Z':{'Psy':72,'CS':91}}"
   ]
  },
  {
   "cell_type": "code",
   "execution_count": null,
   "id": "25d6bc45",
   "metadata": {},
   "outputs": [],
   "source": [
    "for stud in dict1:\n",
    "    print(f'{stud} has average marks of {sum(dict1[stud].values())/len(dict1[stud].values())}')"
   ]
  },
  {
   "cell_type": "code",
   "execution_count": null,
   "id": "64d5c122",
   "metadata": {},
   "outputs": [],
   "source": [
    "dict1 = {'X': {'S':72,'CS':81, 'DS':62}, 'Y':{'S':75,'Psy':67}, 'A': {}, 'Z':{'Psy':72,'CS':91}}"
   ]
  },
  {
   "cell_type": "code",
   "execution_count": null,
   "id": "d4e5cda3",
   "metadata": {},
   "outputs": [],
   "source": [
    "try:\n",
    "    for stud in dict1:\n",
    "        print(f'{stud} has average marks of {sum(dict1[stud].values())/len(dict1[stud].values())}')\n",
    "except ZeroDivisionError:\n",
    "    print('There is a student in the file that has not taken any tests. Please remove from file and rerun program')"
   ]
  },
  {
   "cell_type": "code",
   "execution_count": null,
   "id": "c9fa770c",
   "metadata": {},
   "outputs": [],
   "source": [
    "dict2 = {'X':{'Balance':100000, 'Loan':50000}, 'Y':{'Balance': 500000, 'Loan':20000}, 'Z':{'Balance':400000, 'Loan':420000}}\n",
    "\n",
    "print(dict2)"
   ]
  },
  {
   "cell_type": "code",
   "execution_count": null,
   "id": "a5cd4a32",
   "metadata": {},
   "outputs": [],
   "source": [
    "\n",
    "for client in dict2:\n",
    "    if dict2[client]['Balance']/dict2[client]['Loan'] < 1.2:\n",
    "        print(f\"{client}'s balance is less than required. Call {client}\")"
   ]
  },
  {
   "cell_type": "code",
   "execution_count": null,
   "id": "bfe80247",
   "metadata": {},
   "outputs": [],
   "source": [
    "dict2 = {'X':{'Balance':100000, 'Loan':50000}, 'Y':{'Balance': 500000, 'Loan':20000}, 'Z':{'Balance':400000, 'Loan':420000}, \\\n",
    "         'A':{'Balance':200000, 'Loan':0}, 'B': {'Bal':100000, 'Loan':90000}}\n",
    "\n",
    "print(dict2)"
   ]
  },
  {
   "cell_type": "code",
   "execution_count": null,
   "id": "47e56e64",
   "metadata": {},
   "outputs": [],
   "source": [
    "for client in dict2:\n",
    "    if dict2[client]['Balance']/dict2[client]['Loan'] < 1.2:\n",
    "        print(f\"{client}'s balance is less than required. Call {client}\")"
   ]
  },
  {
   "cell_type": "code",
   "execution_count": null,
   "id": "204092b3",
   "metadata": {},
   "outputs": [],
   "source": [
    "# In the above dictionary, we expect two kinds of exceptions to be raised. Make a program to handle both exceptions in\n",
    "# in different manners. \n",
    "\n",
    "#1. Handle the zero division error by popping out the client who has 0 loan. \n",
    "#2. Handle the key error by taking a new input from user which will be a dictionary containing the correct key names along\n",
    "# with corresponding values. "
   ]
  },
  {
   "cell_type": "code",
   "execution_count": null,
   "id": "a96e9460",
   "metadata": {},
   "outputs": [],
   "source": [
    "dict2 = {'X':{'Balance':100000, 'Loan':50000}, 'Y':{'Balance': 500000, 'Loan':20000}, 'Z':{'Balance':400000, 'Loan':420000}, \\\n",
    "         'A':{'Balance':200000, 'Loan':0}, 'B': {'Bal':100000, 'Loan':90000}}\n",
    "\n",
    "print(dict2)\n",
    "\n",
    "#for client in dict2:\n",
    "try:\n",
    "    print(dict2['a'])\n",
    "            \n",
    "except (KeyError):\n",
    "    #print('\\nEnter the new Key for the dict')\n",
    "    var1 = input('Enter the new Key for the dict')\n",
    "    print('Enter the new Balance value for the dict')\n",
    "    var2 = input()\n",
    "    print('Enter the new Loan value for the dict')\n",
    "    var3 = input()\n",
    "    dict3 = {var1: {'Balance' : int(var2), 'Loan' : int(var3)}}\n",
    "    dict2.update(dict3)\n",
    "    \n",
    "print(dict2)\n"
   ]
  },
  {
   "cell_type": "code",
   "execution_count": null,
   "id": "f6fe7220",
   "metadata": {},
   "outputs": [],
   "source": [
    "for k,v in dict2.items():\n",
    "    print(k, v, sep = '----->')"
   ]
  },
  {
   "cell_type": "code",
   "execution_count": null,
   "id": "beda3471",
   "metadata": {},
   "outputs": [],
   "source": []
  },
  {
   "cell_type": "code",
   "execution_count": null,
   "id": "493d64aa",
   "metadata": {},
   "outputs": [],
   "source": [
    "# dict2 = {'X': {'Balance': 100000, 'Loan': 50000},\n",
    "#          'B': {'Bal': 100000, 'Loan': 90000},\n",
    "#          'Y': {'Balance': 500000, 'Loan': 20000},\n",
    "#          'Z': {'Balance': 400000, 'Loan': 420000},\n",
    "#          'A': {'Balance': 200000, 'Loan': 0}         \n",
    "#          }\n",
    "# bad_keys = []\n",
    "# try:\n",
    "#     for k, v in dict2.items():\n",
    "#         balToLoanRatio = v['Balance'] / v['Loan']\n",
    "#         if balToLoanRatio < 1.2:\n",
    "#             print(f\"{k}'s balance to loan ratio is {balToLoanRatio}, which is less than required. Call {k}\")\n",
    "#         else:\n",
    "#             print(f\"{k}'s Balance to loan ratio is {balToLoanRatio}, which is within acceptable limits\")\n",
    "\n",
    "# except ZeroDivisionError:\n",
    "#     for k, v in dict2.items():\n",
    "#         if v['Loan'] == 0:\n",
    "#             bad_keys.append(k)\n",
    "# #             print(k, v, sep = '----->')\n",
    "# #             print(bad_keys)\n",
    "        \n",
    "\n",
    "# except KeyError:\n",
    "#     print('Entered KeyError Block')\n",
    "#     for k, v in dict2.items():\n",
    "#         if 'Balance' not in v or 'Loan' not in v:\n",
    "#             new_input = eval(input(r\"There was a key-error. Please enter a key-value pair in the following format ' {'Key1': {'Balance': integer value, 'Loan': integer value}, ... }'\"))\n",
    "#             dict2[k] = new_input[k]\n",
    "#             print(k,v, sep = '---->')\n",
    "# for bk in bad_keys:\n",
    "#     dict2.pop(bk)\n",
    "\n",
    "            \n",
    "# print(dict2)\n"
   ]
  },
  {
   "cell_type": "code",
   "execution_count": null,
   "id": "367d290f",
   "metadata": {},
   "outputs": [],
   "source": []
  },
  {
   "cell_type": "markdown",
   "id": "29d0a92f",
   "metadata": {},
   "source": [
    "#### Souviks solution corrected"
   ]
  },
  {
   "cell_type": "code",
   "execution_count": null,
   "id": "8d8d8064",
   "metadata": {},
   "outputs": [],
   "source": [
    "dict2 = {'X': {'Balance': 100000, 'Loan': 50000},\n",
    "         'Y': {'Balance': 500000, 'Loan': 20000},\n",
    "         'Z': {'Balance': 400000, 'Loan': 420000},\n",
    "         'A': {'Balance': 200000, 'Loan': 0},        \n",
    "         'B': {'Bal': 100000, 'Loan': 90000},\n",
    "         }\n",
    "bad_keys = []\n",
    "for k,v in dict2.items():\n",
    "    try:\n",
    "        balToLoanRatio = v['Balance'] / v['Loan']\n",
    "        if balToLoanRatio < 1.2:\n",
    "            print(f\"{k}'s balance to loan ratio is {balToLoanRatio}, which is less than required. Call {k}\")\n",
    "        else:\n",
    "            print(f\"{k}'s Balance to loan ratio is {balToLoanRatio}, which is within acceptable limits\")\n",
    "\n",
    "    except ZeroDivisionError:\n",
    "        for k, v in dict2.items():\n",
    "            if v['Loan'] == 0:\n",
    "                bad_keys.append(k)\n",
    "        \n",
    "    except KeyError:\n",
    "        print('Entered KeyError Block')\n",
    "        for k, v in dict2.items():\n",
    "            if 'Balance' not in v or 'Loan' not in v:\n",
    "                new_input = eval(input(r\"There was a key-error. Please enter a key-value pair in the following format ' {'Key1': {'Balance': integer value, 'Loan': integer value}, ... }'\"))\n",
    "                dict2[k] = new_input[k]\n",
    "                \n",
    "\n",
    "for bk in bad_keys:\n",
    "            dict2.pop(bk)\n",
    "    \n",
    "print(dict2)\n",
    "\n",
    "# I would suggest to loop through the outer dictionary keys and not through the items. Unneccessary loops required when\n",
    "# iterating through .items(). Re-Write logic accordingly.\n"
   ]
  },
  {
   "cell_type": "code",
   "execution_count": null,
   "id": "7a83d83f",
   "metadata": {},
   "outputs": [],
   "source": []
  },
  {
   "cell_type": "code",
   "execution_count": null,
   "id": "510f28b9",
   "metadata": {},
   "outputs": [],
   "source": []
  },
  {
   "cell_type": "markdown",
   "id": "d3cfcfa1",
   "metadata": {},
   "source": [
    "#### Rikkis Solution"
   ]
  },
  {
   "cell_type": "code",
   "execution_count": 1,
   "id": "f34f1d2a",
   "metadata": {},
   "outputs": [
    {
     "name": "stdout",
     "output_type": "stream",
     "text": [
      "{'X': {'Balance': 100000, 'Loan': 50000}, 'Y': {'Balance': 500000, 'Loan': 20000}, 'Z': {'Balance': 400000, 'Loan': 420000}, 'A': {'Balance': 200000, 'Loan': 0}, 'B': {'Bal': 100000, 'Loan': 90000}}\n",
      "Z's balance is less than required. Please call Z.\n",
      "Data for client B is not in correct format. Please input Balance and Loan amounts in following steps\n",
      "Please enter balance as an integer or float100000\n",
      "Please enter balance as an integer or float90000\n",
      "B's balance is less than required. Please call B.\n",
      "{'X': {'Balance': 100000, 'Loan': 50000}, 'Y': {'Balance': 500000, 'Loan': 20000}, 'Z': {'Balance': 400000, 'Loan': 420000}, 'B': {'Balance': 100000, 'Loan': 90000}}\n"
     ]
    }
   ],
   "source": [
    "dict2 = {'X':{'Balance':100000, 'Loan':50000}, 'Y':{'Balance': 500000, 'Loan':20000}, 'Z':{'Balance':400000, 'Loan':420000}, \\\n",
    "         'A':{'Balance':200000, 'Loan':0}, 'B': {'Bal':100000, 'Loan':90000}}\n",
    "\n",
    "print(dict2)\n",
    "\n",
    "no_loan = []\n",
    "for client in dict2:\n",
    "    try:\n",
    "        if dict2[client]['Balance']/dict2[client]['Loan'] <1.2:\n",
    "            print(f\"{client}'s balance is less than required. Please call {client}.\")\n",
    "    except ZeroDivisionError:\n",
    "        no_loan.append(client)\n",
    "    except KeyError:\n",
    "        print(f'Data for client {client} is not in correct format. Please input Balance and Loan amounts in following steps')\n",
    "        balance = eval(input('Please enter balance as an integer or float'))\n",
    "        loan = eval(input('Please enter balance as an integer or float'))\n",
    "        dict2[client] = {'Balance':balance, 'Loan':loan}\n",
    "#         if isinstance(balance, (int, float)) and isinstance(loan, (int,float)):\n",
    "#             dict2[client] = {'Balance': balance, 'Loan': loan}\n",
    "#         else:\n",
    "#             print('You have not entered balance and/or loan in integer or float format')\n",
    "        if dict2[client]['Balance']/dict2[client]['Loan'] <1.2:\n",
    "            print(f\"{client}'s balance is less than required. Please call {client}.\")\n",
    "            \n",
    "for client in no_loan:\n",
    "    dict2.pop(client)\n",
    "    \n",
    "print(dict2)"
   ]
  },
  {
   "cell_type": "markdown",
   "id": "5961222d",
   "metadata": {},
   "source": [
    "#### Raise Keyword\n",
    "\n",
    "This keyword is used to 'raise' an exception"
   ]
  },
  {
   "cell_type": "code",
   "execution_count": null,
   "id": "80f9a72d",
   "metadata": {},
   "outputs": [],
   "source": [
    "raise"
   ]
  },
  {
   "cell_type": "code",
   "execution_count": null,
   "id": "6e403d2f",
   "metadata": {},
   "outputs": [],
   "source": [
    "a = 10\n",
    "b = 20\n",
    "\n",
    "try:\n",
    "    c = a+b\n",
    "    print(c)\n",
    "    raise\n",
    "except:\n",
    "    print('No exception but yet exception was raised because of the raise keyword')"
   ]
  },
  {
   "cell_type": "code",
   "execution_count": null,
   "id": "29e341da",
   "metadata": {},
   "outputs": [],
   "source": [
    "a = 10\n",
    "b = 20\n",
    "\n",
    "try:\n",
    "    c = a+b\n",
    "    print(c)\n",
    "    raise\n",
    "except:\n",
    "    print('No exception but yet exception was raised because of the raise keyword')"
   ]
  },
  {
   "cell_type": "code",
   "execution_count": null,
   "id": "addd1c52",
   "metadata": {},
   "outputs": [],
   "source": [
    "try:\n",
    "    c = a+b\n",
    "    print(c)\n",
    "    raise\n",
    "except:\n",
    "    print('Exception raised')\n",
    "finally:\n",
    "    print('No exception but yet exception was raised because of the raise keyword')"
   ]
  },
  {
   "cell_type": "code",
   "execution_count": null,
   "id": "43357b5a",
   "metadata": {},
   "outputs": [],
   "source": [
    "try:\n",
    "    c = a+b\n",
    "    print(c)\n",
    "    print(100/0)\n",
    "    \n",
    "except:\n",
    "    print('Exception raised')\n",
    "    raise"
   ]
  },
  {
   "cell_type": "code",
   "execution_count": null,
   "id": "6fe1b10e",
   "metadata": {},
   "outputs": [],
   "source": [
    "#1. raise keyword is used at any point in the program to raise an exception.\n",
    "#2. If used in an except block - reraises the Active exception\n",
    "#3. It can be used to raise specific exceptions (including user-defined)\n",
    "#4. A prompt message with info about the specific exception raised can be added. "
   ]
  },
  {
   "cell_type": "code",
   "execution_count": null,
   "id": "5f115447",
   "metadata": {},
   "outputs": [],
   "source": [
    "try:\n",
    "    c = a+b\n",
    "    print(c)\n",
    "    print(100/0)\n",
    "    \n",
    "except:\n",
    "    raise IndexError(\"Raising IndexError for time pass\")\n",
    "    print('Exception raised')\n",
    "    "
   ]
  },
  {
   "cell_type": "code",
   "execution_count": null,
   "id": "abb4c96f",
   "metadata": {},
   "outputs": [],
   "source": [
    "x = 'Manita'\n",
    "y = 'Sagar'\n",
    "\n",
    "print(type(x))\n",
    "print(type(y))"
   ]
  },
  {
   "cell_type": "code",
   "execution_count": null,
   "id": "516279a2",
   "metadata": {},
   "outputs": [],
   "source": [
    "'Manita'.upper()"
   ]
  },
  {
   "cell_type": "code",
   "execution_count": null,
   "id": "7b81fd57",
   "metadata": {},
   "outputs": [],
   "source": [
    "'Sagar'.upper()"
   ]
  },
  {
   "cell_type": "code",
   "execution_count": null,
   "id": "4d636265",
   "metadata": {},
   "outputs": [],
   "source": []
  },
  {
   "cell_type": "code",
   "execution_count": null,
   "id": "9e497326",
   "metadata": {},
   "outputs": [],
   "source": []
  },
  {
   "cell_type": "code",
   "execution_count": null,
   "id": "1460ff4e",
   "metadata": {},
   "outputs": [],
   "source": [
    "class Boy:\n",
    "    - attributes and properties\n",
    "    \n",
    "Bharath\n",
    "Ashish\n",
    "Sagar\n",
    "Sameer\n",
    "\n",
    "class Girl:\n",
    "    -attributes and properties\n",
    "\n",
    "Antara\n",
    "Manita"
   ]
  },
  {
   "cell_type": "code",
   "execution_count": null,
   "id": "4a636c79",
   "metadata": {},
   "outputs": [],
   "source": [
    "class xyz:\n",
    "    def __init__(self,msg):\n",
    "        self.msg = msg\n",
    "        #print(self.msg)\n",
    "        "
   ]
  },
  {
   "cell_type": "code",
   "execution_count": null,
   "id": "5ab585f6",
   "metadata": {},
   "outputs": [],
   "source": [
    "abc = xyz('Hi There')\n",
    "\n",
    "print(abc.msg)"
   ]
  },
  {
   "cell_type": "code",
   "execution_count": null,
   "id": "be507712",
   "metadata": {},
   "outputs": [],
   "source": [
    "print(type(abc))"
   ]
  },
  {
   "cell_type": "code",
   "execution_count": null,
   "id": "04bc5622",
   "metadata": {},
   "outputs": [],
   "source": [
    "dfe = xyz('Hello')\n"
   ]
  },
  {
   "cell_type": "code",
   "execution_count": null,
   "id": "f545c8f1",
   "metadata": {},
   "outputs": [],
   "source": [
    "print(type(dfe))"
   ]
  },
  {
   "cell_type": "code",
   "execution_count": null,
   "id": "c0878a95",
   "metadata": {},
   "outputs": [],
   "source": [
    "# Parent / child inheritance in classes\n",
    "\n",
    "class parent:\n",
    "    - attributes and properties\n",
    "    \n",
    "class child(parent):\n",
    "    - attributes and properties of parent\n",
    "    # Then I can change some of the attributes and functions and properties using .super() and now child class will have \n",
    "    # some properties different from parent\n",
    "    \n",
    "class grandchild(child):\n",
    "    - attributes and properties of child\n",
    "    # Then I can change some of the attributes and functions and properties using .super() and now grandchild class will have \n",
    "    # some properties different from child\n",
    "    \n",
    "    \n",
    "    \n"
   ]
  },
  {
   "cell_type": "code",
   "execution_count": null,
   "id": "cafb552c",
   "metadata": {},
   "outputs": [],
   "source": [
    "class MyException(Exception):\n",
    "    def __init__(self,msg):\n",
    "        self.msg = msg\n",
    "        print(self.msg)\n",
    "\n",
    "exception1 = MyException('User Logged out')\n",
    "\n",
    "#print(exception1)"
   ]
  },
  {
   "cell_type": "code",
   "execution_count": null,
   "id": "6e2a6720",
   "metadata": {},
   "outputs": [],
   "source": [
    "bank_bal = {'Bezos' : 25000, 'Gates' : 15000, 'Zuckerburg': 21000}"
   ]
  },
  {
   "cell_type": "code",
   "execution_count": null,
   "id": "81cf77e8",
   "metadata": {},
   "outputs": [],
   "source": [
    "def check_act_bal(bank_bal):\n",
    "    for client, bal in bank_bal.items():\n",
    "        print(f'Balance for client {client} is {bal}.')\n",
    "        try:\n",
    "            if bal < 20000:\n",
    "                raise MyException(f'Balance for client {client} is {bal} and less than 20000.')\n",
    "        except MyException:\n",
    "            print('Exception raised')"
   ]
  },
  {
   "cell_type": "code",
   "execution_count": null,
   "id": "9a3353cd",
   "metadata": {},
   "outputs": [],
   "source": [
    "check_act_bal(bank_bal)"
   ]
  },
  {
   "cell_type": "markdown",
   "id": "978c5364",
   "metadata": {},
   "source": [
    "### Logging Exceptions"
   ]
  },
  {
   "cell_type": "code",
   "execution_count": null,
   "id": "b9b2e98f",
   "metadata": {},
   "outputs": [],
   "source": [
    "import logging"
   ]
  },
  {
   "cell_type": "code",
   "execution_count": null,
   "id": "1508c1bf",
   "metadata": {},
   "outputs": [],
   "source": [
    "print(logging)"
   ]
  },
  {
   "cell_type": "code",
   "execution_count": null,
   "id": "b9ac5773",
   "metadata": {},
   "outputs": [],
   "source": []
  }
 ],
 "metadata": {
  "kernelspec": {
   "display_name": "Python 3 (ipykernel)",
   "language": "python",
   "name": "python3"
  },
  "language_info": {
   "codemirror_mode": {
    "name": "ipython",
    "version": 3
   },
   "file_extension": ".py",
   "mimetype": "text/x-python",
   "name": "python",
   "nbconvert_exporter": "python",
   "pygments_lexer": "ipython3",
   "version": "3.9.13"
  }
 },
 "nbformat": 4,
 "nbformat_minor": 5
}
