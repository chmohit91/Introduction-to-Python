{
 "cells": [
  {
   "cell_type": "markdown",
   "id": "e1c954ae",
   "metadata": {},
   "source": [
    "### Exception Handling in Python"
   ]
  },
  {
   "cell_type": "code",
   "execution_count": null,
   "id": "1f1da47e",
   "metadata": {},
   "outputs": [],
   "source": [
    "# When writing a program, there is the possibility of errors in the program - called 'bugs'. The process of removing 'bugs'\n",
    "# from a program is called 'debugging'. To successfully debug a program, we have to understand the types of errors and the\n",
    "# possible ways to solve them. "
   ]
  },
  {
   "cell_type": "code",
   "execution_count": null,
   "id": "2104f848",
   "metadata": {},
   "outputs": [],
   "source": [
    "# There are 3 possible type of errors:\n",
    "\n",
    "#1. Compile time errors - We have seen what compile time errors are and that Python is both a compiled and interpreted \n",
    "# language. Errors in the syntax of the program which are caught by the compliler even before execution of the code \n",
    "# irrespective of where they occur in the program - whether that block of code is entered or not <determined by control \n",
    "# flow which we discussed in the last chapter> during execution. \n",
    "#2. Run - Time errors - Errors that are captured by the interpreter during execution of code. Some run-time errors may\n",
    "# escape detection during execution if the code of block is not executed during program runs. \n",
    "#3. Logical errors - Errors in the logic of our program i.e. the output of a certain expression or the program itself \n",
    "# is not what is expected. These errors cannot be caught either during compile time or run-time since the program cannot\n",
    "# determine what our intent with that block of code was and can only see that no syntactical or run-time errors have been\n",
    "# committed. It is completely on the programmer / developer to thoroughly test the program for logical errors and confirm\n",
    "# the desired output is being produced.\n",
    "\n",
    "# However, the programmer can resolve compile-time and run-time errors that the program catches. This is because the\n",
    "# program will raise exceptions for these type of errors. \n",
    "\n",
    "# Compile Time - errors must be resolved using the messages in the exception raised before the program can go on to\n",
    "# execution phase.\n",
    "\n",
    "# Run-Time - The errors should be resolved to the maximum level possible by following the exception raised by the program\n",
    "# at run-time. However, sometimes it may not be possible to know in advance whether an exception is going to be raised. \n",
    "# For example, if some execution is dependent on user input and the user enters incorrect information. \n",
    "\n"
   ]
  },
  {
   "cell_type": "code",
   "execution_count": null,
   "id": "e3e95bb0",
   "metadata": {},
   "outputs": [],
   "source": [
    "1. Syntax or compile time - \n",
    "2. Runtime errors - Exceptions - (a) Continue the program after we give instruction of how to handle the exception. (b)\n",
    "Do some operations BEFORE stopping the program. \n",
    "3. Logical errors - Can only be rectified through rigorous testing. \n"
   ]
  },
  {
   "cell_type": "code",
   "execution_count": null,
   "id": "2c81f9c1",
   "metadata": {},
   "outputs": [],
   "source": [
    "1. Syntax or compile time errors - \n",
    "2. Runtime errors - Index, ZeroDivision, Index, Key etc. - \n",
    "3. Logical"
   ]
  },
  {
   "cell_type": "code",
   "execution_count": null,
   "id": "867aa86d",
   "metadata": {},
   "outputs": [],
   "source": [
    "Ten = 10\n",
    "\n",
    "if 10 < 20:\n",
    "    print ('This is a runtime error')\n",
    "    print Ten\n",
    "else:\n",
    "    print('I found an error in your code')\n",
    "    \n",
    "    \n",
    "print('Program Continues here')"
   ]
  },
  {
   "cell_type": "code",
   "execution_count": null,
   "id": "c5e27775",
   "metadata": {},
   "outputs": [],
   "source": [
    "try:\n",
    "    if 10 < 20:\n",
    "        print(Ten)\n",
    "except:\n",
    "    print('I found an error in your code')\n",
    "    \n",
    "print('Program Continues here')"
   ]
  },
  {
   "cell_type": "code",
   "execution_count": null,
   "id": "fe800dd4",
   "metadata": {},
   "outputs": [],
   "source": []
  },
  {
   "cell_type": "code",
   "execution_count": null,
   "id": "703edd97",
   "metadata": {},
   "outputs": [],
   "source": [
    "\n",
    "\n",
    "if 10 < 20: \n",
    "    print( 'Error follows')\n",
    "    print(Ten)\n",
    "else:\n",
    "    print('Twenty')"
   ]
  },
  {
   "cell_type": "code",
   "execution_count": null,
   "id": "baebb206",
   "metadata": {},
   "outputs": [],
   "source": [
    "try:\n",
    "    if 10 < 20: \n",
    "        print( 'Error follows')\n",
    "        print(Ten)\n",
    "    else:\n",
    "        print('Twenty')\n",
    "except:\n",
    "    print('I will follow the instructions provided by developer to handle this error')"
   ]
  },
  {
   "cell_type": "code",
   "execution_count": null,
   "id": "bc9a711c",
   "metadata": {},
   "outputs": [],
   "source": [
    "# What is the difference between if/else block and try/except block\n",
    "\n",
    "\n",
    "# When an error is encountered in an if/else block, program stops execution immediately. \n",
    "# When an error is encountered in try/except block, program follows our instructions and does NOT stop execution. "
   ]
  },
  {
   "cell_type": "code",
   "execution_count": null,
   "id": "73fec977",
   "metadata": {},
   "outputs": [],
   "source": [
    "print('a')\n",
    "\n",
    "print(a)\n"
   ]
  },
  {
   "cell_type": "code",
   "execution_count": null,
   "id": "7ba06502",
   "metadata": {},
   "outputs": [],
   "source": [
    "lst1 = [1,2,3]\n",
    "\n",
    "lst1.pop(4)"
   ]
  },
  {
   "cell_type": "code",
   "execution_count": null,
   "id": "9c63f668",
   "metadata": {},
   "outputs": [],
   "source": [
    "dict1 = {1:100, 2:200}\n",
    "\n",
    "print('Hi')\n",
    "print(dict1[4])"
   ]
  },
  {
   "cell_type": "code",
   "execution_count": null,
   "id": "b95ccbd0",
   "metadata": {},
   "outputs": [],
   "source": [
    "# Logical errors\n",
    "\n",
    "print(10/5)\n",
    "print(5/10)"
   ]
  },
  {
   "cell_type": "code",
   "execution_count": null,
   "id": "f97c9602",
   "metadata": {},
   "outputs": [],
   "source": [
    "# Examples of Compile time errors. \n",
    "\n",
    "if 20 > 10:\n",
    "    print ('Hi')\n",
    "else:\n",
    "    print 'Hello'\n",
    "    \n",
    "#Note how even though the else block does not have to be entered as per the logic, a SyntaxError is still thrown."
   ]
  },
  {
   "cell_type": "code",
   "execution_count": null,
   "id": "9eea31dd",
   "metadata": {},
   "outputs": [],
   "source": [
    "# The compiler displays a SyntaxError along with the line number and an indication of where the error occurred. Note here\n",
    "# how the else block is not even entered but the SyntaxError exception is still raised. "
   ]
  },
  {
   "cell_type": "code",
   "execution_count": null,
   "id": "563f9594",
   "metadata": {},
   "outputs": [],
   "source": [
    "Hi = 'Adarsh'\n",
    "\n",
    "\n",
    "if 10 > 20:\n",
    "    print (Hi)\n",
    "else:\n",
    "    print (Hello)"
   ]
  },
  {
   "cell_type": "code",
   "execution_count": null,
   "id": "72a9461a",
   "metadata": {},
   "outputs": [],
   "source": [
    "\n",
    "if 20>10:\n",
    "    print('Hi')\n",
    "else:\n",
    "    print('Hello')\n",
    "\n",
    "#Note how even though the else block does not have to be entered as per the logic, a SyntaxError is still thrown."
   ]
  },
  {
   "cell_type": "code",
   "execution_count": null,
   "id": "e5dc77a1",
   "metadata": {},
   "outputs": [],
   "source": [
    "# Examples of run-time errors\n",
    "\n",
    "a = 10\n",
    "b = 20\n",
    "\n",
    "if b>a:\n",
    "    print(a)\n",
    "else:\n",
    "    print(c)\n",
    "    \n",
    "#Note how no syntactical error is thrown. Program has been checked at compile time and syntax is correct.\n",
    "\n",
    "# "
   ]
  },
  {
   "cell_type": "code",
   "execution_count": null,
   "id": "7bb835f7",
   "metadata": {},
   "outputs": [],
   "source": [
    "a = 10\n",
    "b = 5\n",
    "x = 'Python'\n",
    "\n",
    "if b>a:\n",
    "    print(a)\n",
    "else:\n",
    "    print('Hello')\n",
    "    print(c)\n",
    "    print('World')\n",
    "    \n",
    "# Note here how the program DID execute line 8. Only when faced with an error in line 9 did it stop and did not continue\n",
    "# to execute. "
   ]
  },
  {
   "cell_type": "code",
   "execution_count": null,
   "id": "3f45f550",
   "metadata": {},
   "outputs": [],
   "source": [
    "x = 'Python'\n",
    "a = 10\n",
    "b = 5\n",
    "\n",
    "if a > b:\n",
    "    for y in range(len(x)):\n",
    "        print(x[y])\n",
    "else:\n",
    "    print(x[y+1])\n",
    "    \n",
    "#Note - no syntactical error thrown. Program syntax is checked at compile time and is correct."
   ]
  },
  {
   "cell_type": "code",
   "execution_count": null,
   "id": "24270398",
   "metadata": {},
   "outputs": [],
   "source": [
    "x = 'Python'\n",
    "a = 10\n",
    "b = 5\n",
    "\n",
    "if b > a:\n",
    "    for y in range(len(x)):\n",
    "        print(x[y])\n",
    "else:\n",
    "    for y in range(len(x)):\n",
    "        print(x[y+1])"
   ]
  },
  {
   "cell_type": "code",
   "execution_count": null,
   "id": "7c6935bb",
   "metadata": {},
   "outputs": [],
   "source": [
    "x = 10\n",
    "y = 5\n",
    "\n",
    "print(x/y)\n",
    "\n",
    "\n",
    "\n",
    "print(y/x)"
   ]
  },
  {
   "cell_type": "code",
   "execution_count": null,
   "id": "f9b4d8d7",
   "metadata": {},
   "outputs": [],
   "source": [
    "a = 5\n",
    "b = 10\n",
    "\n",
    "try:\n",
    "    if b > a:\n",
    "        for y in range(len(x)):\n",
    "            print(x[y])\n",
    "    else:\n",
    "        for y in range(len(x)):\n",
    "            print(x[y+1])\n",
    "except:\n",
    "    print('There is a Runtime Error in your code')"
   ]
  },
  {
   "cell_type": "code",
   "execution_count": null,
   "id": "db3da8a6",
   "metadata": {},
   "outputs": [],
   "source": [
    "lst1 = [17,20,4,71,47]\n",
    "\n",
    "try:\n",
    "    print(lst1.index(99))\n",
    "except:\n",
    "    print('I am going to give certain instructions what to do')"
   ]
  },
  {
   "cell_type": "code",
   "execution_count": null,
   "id": "af614885",
   "metadata": {},
   "outputs": [],
   "source": [
    "lst1 = [17,20,4,71,47]\n",
    "\n",
    "if True:\n",
    "    print(lst1.index(99))\n",
    "else:\n",
    "    print('I am going to give certain instructions what to do')"
   ]
  },
  {
   "cell_type": "code",
   "execution_count": null,
   "id": "c00df2b8",
   "metadata": {},
   "outputs": [],
   "source": [
    "if False:\n",
    "    if b > a:\n",
    "        for y in range(len(x)):\n",
    "            print(x[y])\n",
    "    else:\n",
    "        for y in range(len(x)-1):\n",
    "            print(x[y+1])\n",
    "else:\n",
    "    for y in range(len(x)):\n",
    "            print(x[y+1])\n",
    "            continue\n",
    "    print('There is a Runtime Error in your code')"
   ]
  },
  {
   "cell_type": "code",
   "execution_count": null,
   "id": "ef241f31",
   "metadata": {},
   "outputs": [],
   "source": [
    "# Note how - a runtime error can be handled by a try/except block. "
   ]
  },
  {
   "cell_type": "code",
   "execution_count": null,
   "id": "41ab204d",
   "metadata": {},
   "outputs": [],
   "source": [
    "#1. Compile Time Error\n",
    "#2. Runtime error\n",
    "#3. Logical error\n",
    "\n",
    "# Exception handling can be used to resolve runtime errors.\n",
    "\n",
    "# Compile time errors need to be resolved by fixing the errors causing it. Code will not convert to Byte code and execution\n",
    "# will not begin unless these are resolved. \n",
    "\n",
    "# Logical errors - are resolved by conducting rigorous testing on code and the developer ensuring output is as expected. If\n",
    "# not, developer has to resolve these errors. \n",
    "\n",
    "#syntax for exception handling:\n",
    "\n",
    "# try:\n",
    "# code to attempt\n",
    "# exception (default or specific) or finally block::\n",
    "# code to instruct how to handle the exception.\n",
    "\n",
    "# Difference between if/else and try/except blocks - if/else cannot handle the exceptions and program stops executing at \n",
    "# point where exception is raised. try/except block - is specifically designed to follow the developers instructions for how\n",
    "# to handle the exception raised(if raised at all)."
   ]
  },
  {
   "cell_type": "code",
   "execution_count": null,
   "id": "b0ecf2ed",
   "metadata": {},
   "outputs": [],
   "source": [
    "#Input function\n",
    "\n",
    "input1 = int(input('Enter a number'))\n",
    "\n",
    "print(input1*10)\n",
    "print(type(input1))"
   ]
  },
  {
   "cell_type": "code",
   "execution_count": null,
   "id": "25a6e75f",
   "metadata": {},
   "outputs": [],
   "source": [
    "evalinput = eval('\"Saumya\"*3 if 10 > 20 else \"Saumya\"*5')\n",
    "\n",
    "print(evalinput)\n",
    "print(type(evalinput))\n"
   ]
  },
  {
   "cell_type": "code",
   "execution_count": null,
   "id": "6f041606",
   "metadata": {},
   "outputs": [],
   "source": [
    "x = 100 if 10 > 20 else 50\n",
    "\n",
    "print(x)"
   ]
  },
  {
   "cell_type": "code",
   "execution_count": null,
   "id": "76aab034",
   "metadata": {},
   "outputs": [],
   "source": [
    "input - outputs a string datatype\n",
    "eval - inputs a string datatype"
   ]
  },
  {
   "cell_type": "code",
   "execution_count": null,
   "id": "bdea8424",
   "metadata": {},
   "outputs": [],
   "source": [
    "evalinput2 = eval(input('Type in a list of numbers'))\n",
    "\n",
    "print(sum(evalinput2))"
   ]
  },
  {
   "cell_type": "code",
   "execution_count": null,
   "id": "db902162",
   "metadata": {},
   "outputs": [],
   "source": [
    "# eval can be a risky function to use if we are actually taking user input. {global, local}"
   ]
  },
  {
   "cell_type": "code",
   "execution_count": null,
   "id": "59e11cc2",
   "metadata": {},
   "outputs": [],
   "source": [
    "try:\n",
    "    if 20 > 10:\n",
    "        print ('Hi')\n",
    "    else:\n",
    "        print 'Hello'\n",
    "except:\n",
    "    print('SyntaxError - Check your code')"
   ]
  },
  {
   "cell_type": "code",
   "execution_count": null,
   "id": "73ec76d1",
   "metadata": {},
   "outputs": [],
   "source": [
    "if 20 > 10:\n",
    "    print ('Hi')\n",
    "else:\n",
    "    print('Hello')\n"
   ]
  },
  {
   "cell_type": "markdown",
   "id": "ca4dd018",
   "metadata": {},
   "source": [
    "1. Compile Errors - Syntax errors which computer cannot translate/decipher. \n",
    "- Need to correct the syntax / error before executing.\n",
    "2. Runtime errors - Computer catches when executing\n",
    "- Either correcting directly or if cannot anticipate whether this error will occur - then putting in try/except.\n",
    "3. Logical errors - Output is not as expected and computer has no way of catching these. \n",
    "- Rigorous testing."
   ]
  },
  {
   "cell_type": "code",
   "execution_count": null,
   "id": "aecc545a",
   "metadata": {},
   "outputs": [],
   "source": [
    "#Note how - a syntaxerror is caught by the compiler and since the code has not begun execution, a syntaxerror is thrown and\n",
    "# cannot be handled by the try/except block."
   ]
  },
  {
   "cell_type": "code",
   "execution_count": null,
   "id": "a733e34b",
   "metadata": {},
   "outputs": [],
   "source": [
    "#However, sometimes we may be taking input from a user in those errors - we can use exception handling to handle the syntax\n",
    "# errors."
   ]
  },
  {
   "cell_type": "code",
   "execution_count": null,
   "id": "0aa575a0",
   "metadata": {},
   "outputs": [],
   "source": [
    "a = 'is funny'\n",
    "input()\n",
    "\n",
    "b = 'he thinks'\n",
    "b"
   ]
  },
  {
   "cell_type": "code",
   "execution_count": null,
   "id": "5cb3f477",
   "metadata": {},
   "outputs": [],
   "source": [
    "var1 = input()"
   ]
  },
  {
   "cell_type": "code",
   "execution_count": null,
   "id": "c5767607",
   "metadata": {},
   "outputs": [],
   "source": [
    "print(var1)"
   ]
  },
  {
   "cell_type": "code",
   "execution_count": null,
   "id": "cb014a1b",
   "metadata": {},
   "outputs": [],
   "source": [
    "print(type(var1))"
   ]
  },
  {
   "cell_type": "code",
   "execution_count": null,
   "id": "cef52a24",
   "metadata": {},
   "outputs": [],
   "source": [
    "for x in var1:\n",
    "    print(x)"
   ]
  },
  {
   "cell_type": "code",
   "execution_count": null,
   "id": "3ac0cb9a",
   "metadata": {},
   "outputs": [],
   "source": [
    "loginpwds = {user1:pwd1, user2:pwd2, user3:pwd3.....}\n",
    "\n",
    "\n",
    "input = USER1\n",
    "\n",
    "KeyError"
   ]
  },
  {
   "cell_type": "code",
   "execution_count": null,
   "id": "5eacad02",
   "metadata": {},
   "outputs": [],
   "source": [
    "var1 = input()\n",
    "\n",
    "print(var1)\n"
   ]
  },
  {
   "cell_type": "code",
   "execution_count": null,
   "id": "9278a736",
   "metadata": {},
   "outputs": [],
   "source": [
    "var1 = input('Please input your name:')\n"
   ]
  },
  {
   "cell_type": "code",
   "execution_count": null,
   "id": "e611f60b",
   "metadata": {},
   "outputs": [],
   "source": [
    "print(var1)\n",
    "print(type(var1))"
   ]
  },
  {
   "cell_type": "code",
   "execution_count": null,
   "id": "949d0103",
   "metadata": {},
   "outputs": [],
   "source": [
    "var1 = int(input('Please input any integer value : '))\n",
    "\n",
    "print(var1+20)"
   ]
  },
  {
   "cell_type": "code",
   "execution_count": null,
   "id": "51afccb5",
   "metadata": {},
   "outputs": [],
   "source": [
    "print(var1)\n",
    "print(type(var1))\n"
   ]
  },
  {
   "cell_type": "code",
   "execution_count": null,
   "id": "af747e18",
   "metadata": {},
   "outputs": [],
   "source": [
    "lst1 = list(input('Please input a list of numbers : '))"
   ]
  },
  {
   "cell_type": "code",
   "execution_count": null,
   "id": "66f03a3f",
   "metadata": {},
   "outputs": [],
   "source": [
    "print(lst1)"
   ]
  },
  {
   "cell_type": "code",
   "execution_count": null,
   "id": "79e81997",
   "metadata": {},
   "outputs": [],
   "source": [
    "x = input('Please input a list of numbers:')"
   ]
  },
  {
   "cell_type": "code",
   "execution_count": null,
   "id": "f3be0bc1",
   "metadata": {},
   "outputs": [],
   "source": [
    "print(x)\n",
    "print(type(x))"
   ]
  },
  {
   "cell_type": "code",
   "execution_count": null,
   "id": "2030c420",
   "metadata": {},
   "outputs": [],
   "source": [
    "x = eval(x)\n",
    "\n",
    "print(x)\n",
    "print(type(x))"
   ]
  },
  {
   "cell_type": "code",
   "execution_count": null,
   "id": "220ebf51",
   "metadata": {},
   "outputs": [],
   "source": [
    "x = [10,20,30,40]\n",
    "\n",
    "print(x)\n",
    "print(type(x))"
   ]
  },
  {
   "cell_type": "code",
   "execution_count": null,
   "id": "fbf6eca7",
   "metadata": {},
   "outputs": [],
   "source": [
    "print(10+20)"
   ]
  },
  {
   "cell_type": "code",
   "execution_count": null,
   "id": "48daf352",
   "metadata": {},
   "outputs": [],
   "source": [
    "a = 10\n",
    "b = 20\n",
    "print(f'The sum of {a} and {b} is {eval(\"a+b\")}')"
   ]
  },
  {
   "cell_type": "code",
   "execution_count": null,
   "id": "cf6fd180",
   "metadata": {},
   "outputs": [],
   "source": [
    "evaloutput = eval(\"{'a':10, 'b':20}\")\n",
    "\n",
    "print(evaloutput)\n",
    "print(type(evaloutput))"
   ]
  },
  {
   "cell_type": "code",
   "execution_count": null,
   "id": "6fcc1d47",
   "metadata": {},
   "outputs": [],
   "source": [
    "a = 20\n",
    "b = 10\n",
    "\n",
    "y = eval('a if a > b else b', globals, locals)\n",
    "\n",
    "print(y)"
   ]
  },
  {
   "cell_type": "code",
   "execution_count": null,
   "id": "362e889c",
   "metadata": {},
   "outputs": [],
   "source": [
    "a = 10\n",
    "b = 20\n",
    "c = 30\n",
    "a = 100"
   ]
  },
  {
   "cell_type": "code",
   "execution_count": null,
   "id": "a650d3c4",
   "metadata": {},
   "outputs": [],
   "source": [
    "globalscope = {a:100, b:20, c:30}\n",
    "localscope = {}"
   ]
  },
  {
   "cell_type": "code",
   "execution_count": null,
   "id": "71b40f13",
   "metadata": {},
   "outputs": [],
   "source": [
    "y = (1+2+3,)\n",
    "\n",
    "print(y)\n",
    "print(type(y))"
   ]
  },
  {
   "cell_type": "code",
   "execution_count": null,
   "id": "5d01db88",
   "metadata": {},
   "outputs": [],
   "source": [
    "x = (1,2,3,4)\n",
    "\n",
    "print(x)\n",
    "print(type(x))"
   ]
  },
  {
   "cell_type": "code",
   "execution_count": null,
   "id": "054c7eb3",
   "metadata": {},
   "outputs": [],
   "source": [
    "Rikki = 1,2,3,4"
   ]
  },
  {
   "cell_type": "code",
   "execution_count": null,
   "id": "e9e5b732",
   "metadata": {},
   "outputs": [],
   "source": [
    "lst1 = eval(input('Please input a list of numbers:'))\n",
    "\n",
    "print(lst1)\n",
    "print(type(lst1))"
   ]
  },
  {
   "cell_type": "code",
   "execution_count": null,
   "id": "2c0f4cbc",
   "metadata": {},
   "outputs": [],
   "source": [
    "var2 = eval('\"Rikki\"')\n",
    "\n",
    "print(var2)\n",
    "print(type(var2))"
   ]
  },
  {
   "cell_type": "code",
   "execution_count": null,
   "id": "a6f35404",
   "metadata": {},
   "outputs": [],
   "source": [
    "lst1 = eval(input('Please put any integer value: '))\n",
    "            \n",
    "x = eval('[1,2,3,4]')\n",
    "\n",
    "print(lst1)\n",
    "print(type(lst1))"
   ]
  },
  {
   "cell_type": "code",
   "execution_count": null,
   "id": "b04098d2",
   "metadata": {},
   "outputs": [],
   "source": [
    "a = 10\n",
    "b = 5"
   ]
  },
  {
   "cell_type": "code",
   "execution_count": null,
   "id": "be6ff4da",
   "metadata": {},
   "outputs": [],
   "source": [
    "print('Hello' if a > b else 'Hi')"
   ]
  },
  {
   "cell_type": "code",
   "execution_count": null,
   "id": "b80e3b27",
   "metadata": {},
   "outputs": [],
   "source": [
    "print(100 if a > b else 200)"
   ]
  },
  {
   "cell_type": "code",
   "execution_count": null,
   "id": "33debdb4",
   "metadata": {},
   "outputs": [],
   "source": [
    "a = 15\n",
    "b = 10\n",
    "\n",
    "lst1 = eval('100 if a > b else 200')\n",
    "\n",
    "print(lst1)\n",
    "print(type(lst1))"
   ]
  },
  {
   "cell_type": "code",
   "execution_count": null,
   "id": "6ffb36eb",
   "metadata": {},
   "outputs": [],
   "source": [
    "input - gives the user a prompt box where they can input any values. \n",
    "String Dtype is always the output of input function\n",
    "input function takes an optional parameter -  prompt to the user in dtype string\n",
    "\n",
    "eval function - evaluates the contents of a string. \n",
    "eval function is always of dtype string. \n",
    "\n"
   ]
  },
  {
   "cell_type": "code",
   "execution_count": null,
   "id": "b124707e",
   "metadata": {},
   "outputs": [],
   "source": [
    "var1 = eval(input('Input any expression :'))"
   ]
  },
  {
   "cell_type": "code",
   "execution_count": null,
   "id": "8b93d943",
   "metadata": {},
   "outputs": [],
   "source": [
    "print(var1)\n",
    "print(type(var1))"
   ]
  },
  {
   "cell_type": "code",
   "execution_count": null,
   "id": "a996dcf7",
   "metadata": {},
   "outputs": [],
   "source": []
  },
  {
   "cell_type": "code",
   "execution_count": null,
   "id": "41b149ad",
   "metadata": {},
   "outputs": [],
   "source": [
    "result = eval(input('Try typing an expression here :'))\n",
    "print(result)"
   ]
  },
  {
   "cell_type": "code",
   "execution_count": null,
   "id": "1b7d25dc",
   "metadata": {},
   "outputs": [],
   "source": [
    "print(type(result))"
   ]
  },
  {
   "cell_type": "code",
   "execution_count": null,
   "id": "41ecd8dd",
   "metadata": {},
   "outputs": [],
   "source": [
    "try:\n",
    "    result = eval(input('Try typing an expression here :'))\n",
    "    print(result)\n",
    "except:\n",
    "    print('Your expression has a syntax error')\n",
    "    \n"
   ]
  },
  {
   "cell_type": "code",
   "execution_count": null,
   "id": "bfe84cbb",
   "metadata": {},
   "outputs": [],
   "source": [
    "a = 15\n",
    "b = 10"
   ]
  },
  {
   "cell_type": "code",
   "execution_count": null,
   "id": "5f2e6937",
   "metadata": {},
   "outputs": [],
   "source": [
    "try:\n",
    "    if True:\n",
    "        print('Hi')\n",
    "    else:\n",
    "        print('Hello)\n",
    "except:\n",
    "    print('Exception')"
   ]
  },
  {
   "cell_type": "code",
   "execution_count": null,
   "id": "450749b5",
   "metadata": {},
   "outputs": [],
   "source": [
    "\n",
    "result = eval(input('Try typing an expression here :'))\n",
    "print(result)"
   ]
  },
  {
   "cell_type": "code",
   "execution_count": null,
   "id": "787fe0c2",
   "metadata": {},
   "outputs": [],
   "source": [
    "try:\n",
    "    x = eval(input('Enter any expresion here'))\n",
    "    print(x)\n",
    "    \n",
    "except:\n",
    "    raise\n",
    "    "
   ]
  },
  {
   "cell_type": "code",
   "execution_count": null,
   "id": "fe2e16a8",
   "metadata": {},
   "outputs": [],
   "source": [
    "# Example of logical error\n",
    "\n",
    "# A bank requires that all clients who have loans from the bank must have at least 120% of the loan amount as security. \n",
    "\n",
    "names = ('Somya', 'Mangal', 'Buddha', 'Guru', 'Shukra', 'Sunny', 'Ravi')\n",
    "assets = (100000, 151000, 21000, 56000, 10000, 240000, 91000)\n",
    "loans = (75000, 1000, 21000, 39000, 3000, 5000, 16000)"
   ]
  },
  {
   "cell_type": "code",
   "execution_count": null,
   "id": "6abe538e",
   "metadata": {},
   "outputs": [],
   "source": [
    "client_dets = dict(zip(names, zip(assets,loans)))\n",
    "\n",
    "print(client_dets)"
   ]
  },
  {
   "cell_type": "code",
   "execution_count": null,
   "id": "01dc21db",
   "metadata": {},
   "outputs": [],
   "source": [
    "print(client_dets['Somya'])"
   ]
  },
  {
   "cell_type": "code",
   "execution_count": null,
   "id": "31e07506",
   "metadata": {},
   "outputs": [],
   "source": [
    "for x in client_dets:\n",
    "    if client_dets[x][0]/client_dets[x][1] < 1.2:\n",
    "        print(f'{x} does not have enough assets as security. Schedule a call with client.')"
   ]
  },
  {
   "cell_type": "code",
   "execution_count": null,
   "id": "7264ace7",
   "metadata": {},
   "outputs": [],
   "source": [
    "# Note how when defining the logic for the program, we have mistakenly inverted the numerator and\n",
    "# denominator. Therefore, all the clients do not seem to have enough assets. \n",
    "\n",
    "# Once we fix the calculation expression - the program runs fine."
   ]
  },
  {
   "cell_type": "code",
   "execution_count": null,
   "id": "8f740363",
   "metadata": {},
   "outputs": [],
   "source": [
    "for x in client_dets:\n",
    "    if client_dets[x][1]/client_dets[x][0] > 0.8:\n",
    "        print(f'{x} does not have enough assets as security. Schedule a call with client.')"
   ]
  },
  {
   "cell_type": "code",
   "execution_count": null,
   "id": "5a125062",
   "metadata": {},
   "outputs": [],
   "source": [
    "lst1 = list(range(6))\n",
    "\n",
    "print(lst1)"
   ]
  },
  {
   "cell_type": "code",
   "execution_count": null,
   "id": "66d9ba77",
   "metadata": {},
   "outputs": [],
   "source": [
    "lst1[4:-1:-1]"
   ]
  },
  {
   "cell_type": "code",
   "execution_count": null,
   "id": "22613ace",
   "metadata": {},
   "outputs": [],
   "source": [
    "x = list(range(4,-5,-1))\n",
    "\n",
    "print(x)"
   ]
  },
  {
   "cell_type": "code",
   "execution_count": null,
   "id": "93e40b77",
   "metadata": {},
   "outputs": [],
   "source": []
  },
  {
   "cell_type": "code",
   "execution_count": null,
   "id": "9e837528",
   "metadata": {},
   "outputs": [],
   "source": [
    "# So, in summary, \n",
    "\n",
    "# - compile time errors are mandatory to be fixed before executing a program. \n",
    "\n",
    "# - Logical errors will not cause the program to throw out any errors but likely will result in incorrect or unexpected\n",
    "# output.\n",
    "\n",
    "# Run-Time errors - where there is no ambiguity or possibility of an exception due to uncontrollable factors - should be\n",
    "# fixed. But this is dependent on whether the error was detected in the first place and needs testing to be performed\n",
    "# repeatedly. However, in cases where the programmer is aware that exceptions may occur - it is best to build\n",
    "# in exception handling into the program. \n",
    "\n",
    "# Remember that the program stops running at the point where the error is discovered at run-time. The whole point of \n",
    "# exception handling is to not interrupt the program and to tell the program how to proceed once an exception is raised.\n",
    "\n",
    "# Some hypothetical issues if exceptional handling is not built in - \n",
    "\n",
    "# For example a consumer is using an app and an exception is raised due to incorrect entry. Rather than inform the user of \n",
    "# their error - the program stops running and throws the exception to the user. This exception is undecipherable to the \n",
    "# user creating a very bad customer experience.\n",
    "\n",
    "# Let us say our program is interfacing with a database and retrieving and updating information in the database. Once a\n",
    "# runtime error is thrown - the following issues could occur:\n",
    "\n",
    "# 1. Part of the data is updated and part is not. A rerun after fixing will make the program run from the beginning all over\n",
    "# again and data that had already been updated, now gets updated with incorrect values. \n",
    "# 2. The connection with the database is not closed properly causing security issues and / or the data to get corrupt. \n",
    "# 3. Other processes running simultaneously based on output from this program also crash causing a domino effect."
   ]
  },
  {
   "cell_type": "markdown",
   "id": "dbff43c8",
   "metadata": {},
   "source": [
    "### Exceptions"
   ]
  },
  {
   "cell_type": "code",
   "execution_count": null,
   "id": "df58fc46",
   "metadata": {},
   "outputs": [],
   "source": [
    "# An exception is a runtime error which can be handled by the programmer. That means if the programmer can guess an error\n",
    "# in the program and he can do something to eliminate the harm caused by that error, then it is called an 'exception'. If\n",
    "# the programmer cannot do anything in case of an error, then it is called an 'error' and not an exception. \n",
    "\n",
    "# All exceptions are represented as classes in Python. The exceptions which are already available in Python are called\n",
    "# built-in' exceptions. The base class for all built-in exceptions is 'BaseException' class. From the BaseException class,\n",
    "# the sub class 'Exception' is derived. From the Exception class, the subclasses ‘StandardError' and 'Warning' are derived."
   ]
  },
  {
   "cell_type": "markdown",
   "id": "ed0c959d",
   "metadata": {},
   "source": [
    "#### Note that this is not the complete hierarchy of the BaseException class. The BaseException class hierarchy is given as a separate image file in your course material shared drive. However, of most interest to us is the 'Standard Error' subclass. "
   ]
  },
  {
   "cell_type": "code",
   "execution_count": null,
   "id": "399d0f02",
   "metadata": {},
   "outputs": [],
   "source": [
    "try\n",
    "except - Default Except, Specific Except (ZeroDivision), (IndexError)\n",
    "else - No exception in try block then only else will execute\n",
    "finally - Irrespective of whether exception raised or not - will always be executed."
   ]
  },
  {
   "cell_type": "code",
   "execution_count": null,
   "id": "094fba18",
   "metadata": {},
   "outputs": [],
   "source": [
    "# To handle exceptions, one can take 3 steps:\n",
    "\n",
    "#1. Try Block - Run blocks of code that are suspect to raise exceptions - inside a Try block. In our example for the python\n",
    "# program connecting to a database and performing operations, the program could probably be run inside a try block to ensure\n",
    "# if some errors do occur - the program can keep running although its flow will change. \n",
    "#2. Except Block - Statements for controlling the program flow in case an exception is raised are written in an \n",
    "# Except block. Statements inside this block are called 'handlers' since they handle the exception raised. In our example\n",
    "# for the connection to the database, besides an error message, also perform roll-back i.e. rollback data to before the\n",
    "# program execution began. Multiple Except blocks can be written to handle multiple types of exceptions.\n",
    "#2a. Else block - A block of code to be run if no exceptions raised. \n",
    "#3. Finally Block - Statements to be run irrespective of if there was an exception raised or not. For e.g. in the example\n",
    "# of your app connecting to a database to retrieve/update data, there probably would have been a statement in the program\n",
    "# to close the database connection correctly. This statement would not go in the Try block but in the Finally block since\n",
    "# the connection has to be closed whether an exception was raised or not. "
   ]
  },
  {
   "cell_type": "code",
   "execution_count": null,
   "id": "1b8b2d64",
   "metadata": {},
   "outputs": [],
   "source": [
    "# A try block must have one of either an except block or a finally block. \n",
    "\n",
    "# An except block cannot exist without a try block. However, we can have multiple except statements with one try\n",
    "# block. \n",
    "\n",
    "# The finally block is optional but of course, cannot be run without the try blocks.\n",
    "\n",
    "# The else block is also optional and cannot be run without the try."
   ]
  },
  {
   "cell_type": "code",
   "execution_count": null,
   "id": "e1a0642f",
   "metadata": {},
   "outputs": [],
   "source": [
    "str1 = 'Rikki'\n",
    "for x in range(len(str1)):\n",
    "    print(str1[x+1])"
   ]
  },
  {
   "cell_type": "code",
   "execution_count": null,
   "id": "1f7ff6de",
   "metadata": {},
   "outputs": [],
   "source": [
    "try:\n",
    "    str1 = 'Rikki'\n",
    "    for x in range(len(str1)):\n",
    "        print(str1[x+1])\n",
    "except:\n",
    "    print('Exception Raised')"
   ]
  },
  {
   "cell_type": "markdown",
   "id": "71072e2f",
   "metadata": {},
   "source": [
    "### Try / Except Block - Generic Except Block"
   ]
  },
  {
   "cell_type": "code",
   "execution_count": null,
   "id": "8cc62130",
   "metadata": {},
   "outputs": [],
   "source": [
    "print(100/0)"
   ]
  },
  {
   "cell_type": "code",
   "execution_count": null,
   "id": "c5993482",
   "metadata": {},
   "outputs": [],
   "source": [
    "try:\n",
    "    print(100/0)\n",
    "except:\n",
    "    print('Just to show a generic except block')"
   ]
  },
  {
   "cell_type": "code",
   "execution_count": null,
   "id": "3edafc4e",
   "metadata": {},
   "outputs": [],
   "source": [
    "try:\n",
    "    print('Hello there')\n",
    "    print(100/0)\n",
    "    print('How you doing?')\n",
    "except:\n",
    "    print('Note how the first print statement was executed but as soon as the exception was raised next block of code \\\n",
    "was not executed')"
   ]
  },
  {
   "cell_type": "code",
   "execution_count": null,
   "id": "f2fe9296",
   "metadata": {},
   "outputs": [],
   "source": [
    "#Code after exception raised in Try block is not executed and immediately flows to the pertinent except block (in this case\n",
    "# generic except Block)"
   ]
  },
  {
   "cell_type": "code",
   "execution_count": null,
   "id": "2cc27d62",
   "metadata": {},
   "outputs": [],
   "source": [
    "# Can only have ONE GENERIC EXCEPT Block. "
   ]
  },
  {
   "cell_type": "code",
   "execution_count": null,
   "id": "a40d0f25",
   "metadata": {},
   "outputs": [],
   "source": [
    "try:\n",
    "    print('Hello there')\n",
    "    #print('Neither of the following 2 except blocks will be printed and we will get thrown a syntax error.')\n",
    "except:\n",
    "    print('1st generic block')\n",
    "\n",
    "# except:\n",
    "#     print('2nd generic block')\n",
    "\n"
   ]
  },
  {
   "cell_type": "code",
   "execution_count": null,
   "id": "9b739a89",
   "metadata": {},
   "outputs": [],
   "source": [
    "# Compile time error irrespective of how I try to handle with try/except block - will not be permitted.\n",
    "\n",
    "try:\n",
    "    try:\n",
    "        print('Hello there')\n",
    "        print('Neither of the following 2 except blocks will be printed and we will get thrown a syntax error.')\n",
    "    except:\n",
    "        print('1st generic block')\n",
    "#     except:\n",
    "#         print('2nd generic block')\n",
    "except:\n",
    "    print('Neither can we get away with this since it is a compile time error.')"
   ]
  },
  {
   "cell_type": "code",
   "execution_count": null,
   "id": "643bcb4d",
   "metadata": {},
   "outputs": [],
   "source": [
    "#Since this is a syntactical compile time error - even putting it in another try and except block wont work. "
   ]
  },
  {
   "cell_type": "code",
   "execution_count": null,
   "id": "17427ccd",
   "metadata": {},
   "outputs": [],
   "source": [
    "print(100/0)"
   ]
  },
  {
   "cell_type": "code",
   "execution_count": null,
   "id": "b6bac0f8",
   "metadata": {},
   "outputs": [],
   "source": [
    "# We can have except blocks only for specific errors. \n",
    "\n",
    "c = 25\n",
    "str1 = 'Learnbay'\n",
    "try:\n",
    "    print(100/0)\n",
    "    print(100/c)\n",
    "    print(str1[4])\n",
    "    \n",
    "except ZeroDivisionError:\n",
    "    print('I will dance if I face a ZeroDivisionError')\n",
    "except NameError:\n",
    "    print('I will sing instead if I face a NameError')\n",
    "except:\n",
    "    print('Default exception raised')\n",
    "else:\n",
    "    print('Try block executed successfully so I executed')\n",
    "finally:\n",
    "    print('I will execute irrespective of whether there was exception or not')"
   ]
  },
  {
   "cell_type": "code",
   "execution_count": null,
   "id": "ea9d20a7",
   "metadata": {},
   "outputs": [],
   "source": [
    "try:\n",
    "    print('123')\n",
    "finally:\n",
    "    print('xyz')\n"
   ]
  },
  {
   "cell_type": "code",
   "execution_count": null,
   "id": "c64c6fac",
   "metadata": {},
   "outputs": [],
   "source": [
    "print(100/0)"
   ]
  },
  {
   "cell_type": "code",
   "execution_count": null,
   "id": "ab4307c8",
   "metadata": {},
   "outputs": [],
   "source": [
    "print(100/c)"
   ]
  },
  {
   "cell_type": "code",
   "execution_count": null,
   "id": "d240b61c",
   "metadata": {},
   "outputs": [],
   "source": [
    "0,1,2,3,4,5,6\n",
    "\n",
    "P,y,t,h,o,n"
   ]
  },
  {
   "cell_type": "code",
   "execution_count": null,
   "id": "733b5213",
   "metadata": {},
   "outputs": [],
   "source": [
    "c = 25\n",
    "try:\n",
    "    print(100/2)\n",
    "    print(100/c)\n",
    "    for x in range(7):\n",
    "        print(x, '--', 'Python'[x])\n",
    "except (ZeroDivisionError, IndexError):\n",
    "    print('Cant have ZERO in the denominator neither can we go over the Index')\n",
    "except NameError:\n",
    "    print('NameError')\n",
    "except:\n",
    "    print('Generic Except block to catch all other exceptions')\n",
    "finally:\n",
    "    print('Finally block will run regardless of whether exception was raised or not.')"
   ]
  },
  {
   "cell_type": "code",
   "execution_count": null,
   "id": "6fb0f65f",
   "metadata": {},
   "outputs": [],
   "source": [
    "We can have multiple specific exception blocks and in specific exception blocks we can have multiple exception types."
   ]
  },
  {
   "cell_type": "code",
   "execution_count": null,
   "id": "26e22f40",
   "metadata": {},
   "outputs": [],
   "source": [
    "try:\n",
    "    print(xyz/2)\n",
    "except ZeroDivisionError:\n",
    "    print('Cant have ZERO in the denominator')\n",
    "    "
   ]
  },
  {
   "cell_type": "code",
   "execution_count": null,
   "id": "1756baf2",
   "metadata": {},
   "outputs": [],
   "source": [
    "#If the except block cannot handle the raised exception because we have defined a specific error to be handled and there is\n",
    "# no generic except block, then the exception is raised as normal."
   ]
  },
  {
   "cell_type": "code",
   "execution_count": null,
   "id": "56255a5e",
   "metadata": {},
   "outputs": [],
   "source": [
    "try:\n",
    "    try:\n",
    "        print(100/2)\n",
    "        print(100/d)\n",
    "    except ZeroDivisionError:\n",
    "        print('Cannot divide by Zero')\n",
    "except:\n",
    "    print('Exception was raised in inner block')"
   ]
  },
  {
   "cell_type": "code",
   "execution_count": null,
   "id": "f4c07b59",
   "metadata": {},
   "outputs": [],
   "source": [
    "try:\n",
    "    print(100/0)\n",
    "    print(100/d)\n",
    "except ZeroDivisionError:\n",
    "    print('Cannot divide by Zero')\n",
    "except:\n",
    "    print('Generic Exception was raised')"
   ]
  },
  {
   "cell_type": "code",
   "execution_count": null,
   "id": "97602b2d",
   "metadata": {},
   "outputs": [],
   "source": [
    "# Though we can have nested try/except blocks, usually they are not required if we just handle the non-handled exceptions\n",
    "# in a generic except blcok. "
   ]
  },
  {
   "cell_type": "markdown",
   "id": "9cdec13d",
   "metadata": {},
   "source": [
    "### Multiple Except Blocks to handle different errors differently."
   ]
  },
  {
   "cell_type": "code",
   "execution_count": null,
   "id": "63d70f10",
   "metadata": {},
   "outputs": [],
   "source": []
  },
  {
   "cell_type": "code",
   "execution_count": null,
   "id": "538cc0ea",
   "metadata": {},
   "outputs": [],
   "source": []
  },
  {
   "cell_type": "code",
   "execution_count": null,
   "id": "69087605",
   "metadata": {},
   "outputs": [],
   "source": [
    "numerat = 100\n",
    "div = 0\n",
    "idx = 6\n",
    "pyt = 'Python'"
   ]
  },
  {
   "cell_type": "code",
   "execution_count": null,
   "id": "cb861902",
   "metadata": {},
   "outputs": [],
   "source": [
    "print(pyt[idx])"
   ]
  },
  {
   "cell_type": "code",
   "execution_count": null,
   "id": "ba6753a5",
   "metadata": {},
   "outputs": [],
   "source": [
    "try:\n",
    "    print(numerat/div)\n",
    "    print(pyt[idx])\n",
    "except ZeroDivisionError:\n",
    "    print('We entered the ZeroDivisionError Exception and reset div to 2.')\n",
    "    div = 2\n",
    "except IndexError:\n",
    "    idx = eval(input('Enter a new number less than the length of \"Python\" :'))\n",
    "    print('We entered the IndexError Exception block and reset idx to a reasonable number.')"
   ]
  },
  {
   "cell_type": "markdown",
   "id": "a59b8e6b",
   "metadata": {},
   "source": [
    "#### In Python there is no syntactical way to send the flow back to the try block after resolving the error. \n",
    "\n",
    "#### There are programming hacks but are highly highly dissuaded. "
   ]
  },
  {
   "cell_type": "code",
   "execution_count": null,
   "id": "1e8b5bb8",
   "metadata": {},
   "outputs": [],
   "source": [
    "zero = 5\n",
    "numerat = 100\n",
    "idx = 4 \n",
    "\n",
    "try:\n",
    "    try:\n",
    "        print(numerat/zero)\n",
    "        print('Python'[idx])\n",
    "    except ZeroDivisionError:\n",
    "        zero = 2\n",
    "    except IndexError:\n",
    "        idx = eval(input('Enter a new number less than the length of \"Python\" :'))\n",
    "    finally:\n",
    "        print(numerat/zero)\n",
    "        print('Python'[idx])\n",
    "except IndexError:\n",
    "    idx = eval(input('Enter a new number less than the length of \"Python\" :'))\n",
    "    print('Python'[idx])"
   ]
  },
  {
   "cell_type": "code",
   "execution_count": null,
   "id": "d5c8203b",
   "metadata": {},
   "outputs": [],
   "source": [
    "#Note however that the finally block will be executed irrespective of if there was an error or not - so if there was no\n",
    "# error the block of code ends up giving the output twice. "
   ]
  },
  {
   "cell_type": "markdown",
   "id": "61df7b6c",
   "metadata": {},
   "source": [
    "### Multiple error types in one except block"
   ]
  },
  {
   "cell_type": "code",
   "execution_count": null,
   "id": "dc42726a",
   "metadata": {},
   "outputs": [],
   "source": [
    "# We can have multiple error types in one except block. \n",
    "\n",
    "def funct_tp():\n",
    "    print('Just for fun. \\n'*5)\n",
    "    \n",
    "num = 100\n",
    "divi = 2\n",
    "str1 = 'Python'\n",
    "idx = 6\n",
    "c = 50\n",
    "p = 10\n",
    "\n",
    "try:\n",
    "    print(c/p)\n",
    "    print(num/divi)\n",
    "    print(str1[idx])\n",
    "except (ZeroDivisionError, IndexError):\n",
    "    funct_tp()\n",
    "except:\n",
    "    print('Some other exception')"
   ]
  },
  {
   "cell_type": "code",
   "execution_count": null,
   "id": "3a504159",
   "metadata": {},
   "outputs": [],
   "source": [
    "try block is mandatory\n",
    "\n",
    "except - Generic - MAXIMUM 1\n",
    "\n",
    "except block specific - We can 0 or multiple and in each of these mutliple blocks I can have multiple exceptions defined.\n",
    "\n",
    "Finally block - "
   ]
  },
  {
   "cell_type": "code",
   "execution_count": null,
   "id": "9cbb67af",
   "metadata": {},
   "outputs": [],
   "source": [
    "def funct_tp():\n",
    "    print('Just for fun. \\n'*5)\n",
    "    \n",
    "num = 100\n",
    "divi = 2\n",
    "str1 = 'Python'\n",
    "idx = 5\n",
    "\n",
    "try:\n",
    "    print(num/divi)\n",
    "    print(str1[idx])\n",
    "except (ZeroDivisionError, IndexError):\n",
    "    funct_tp()\n",
    "except:\n",
    "    print('Some other exception')"
   ]
  },
  {
   "cell_type": "code",
   "execution_count": null,
   "id": "e8b78cfc",
   "metadata": {},
   "outputs": [],
   "source": [
    "#Note that the generic except block is not mandatory and this would run fine in this case without the generic except block.\n",
    "\n",
    "num = 100\n",
    "divi = 0\n",
    "str1 = 'Python'\n",
    "idx = 5\n",
    "\n",
    "try:\n",
    "    print(num/divi)\n",
    "    print(str1[idx])\n",
    "except (ZeroDivisionError, IndexError):\n",
    "    funct_tp()\n"
   ]
  },
  {
   "cell_type": "code",
   "execution_count": null,
   "id": "68a7ea5b",
   "metadata": {},
   "outputs": [],
   "source": [
    "def funct_badSha():\n",
    "    print(\"Iz yo boyee BAAD-SHAA!\")\n",
    "\n",
    "num = 100\n",
    "divi = 2\n",
    "str1 = 'Python'\n",
    "idx = 5\n",
    "\n",
    "try:\n",
    "    print(num/str1)\n",
    "    print(str11[idx])\n",
    "except (ZeroDivisionError, IndexError):\n",
    "    funct_tp()\n",
    "except (TypeError, NameError):\n",
    "    funct_badSha()\n",
    "\n"
   ]
  },
  {
   "cell_type": "markdown",
   "id": "f5bdea1a",
   "metadata": {},
   "source": [
    "### Else Block"
   ]
  },
  {
   "cell_type": "code",
   "execution_count": null,
   "id": "1eed8302",
   "metadata": {},
   "outputs": [],
   "source": [
    "# The else block runs only if no exceptions were raised in the try/except block. It should come before the finally block\n",
    "# but after the try and except blocks. \n",
    "# Finally block runs irrespective of if there were exceptions raised or not.\n",
    "\n",
    "try:\n",
    "    print(100/2)\n",
    "except:\n",
    "    print('Exception Raised')\n",
    "else:\n",
    "    print('You were successful')\n",
    "finally:\n",
    "    print('Finally block ran')"
   ]
  },
  {
   "cell_type": "code",
   "execution_count": null,
   "id": "bb6c78ad",
   "metadata": {},
   "outputs": [],
   "source": [
    "try:\n",
    "    print(100/0)\n",
    "except:\n",
    "    print('Exception Raised')\n",
    "else:\n",
    "    print('You were successful')\n",
    "finally:\n",
    "    print('Finally block ran')"
   ]
  },
  {
   "cell_type": "code",
   "execution_count": null,
   "id": "43b366bb",
   "metadata": {},
   "outputs": [],
   "source": [
    "try - only 1\n",
    "\n",
    "specific exceptions - can be multiple\n",
    "\n",
    "default exception - only 1\n",
    "\n",
    "else - only 1\n",
    "\n",
    "finally - only 1"
   ]
  },
  {
   "cell_type": "code",
   "execution_count": null,
   "id": "f50108d9",
   "metadata": {},
   "outputs": [],
   "source": [
    "try:\n",
    "    print(100/0)\n",
    "except:\n",
    "    print('Exception Raised')\n",
    "else:\n",
    "    print('You were successful')\n",
    "\n",
    "finally:\n",
    "    print('-'*100)"
   ]
  },
  {
   "cell_type": "code",
   "execution_count": null,
   "id": "0f27226b",
   "metadata": {},
   "outputs": [],
   "source": [
    "try:\n",
    "    print(100/0)\n",
    "except:\n",
    "    print('Exception Raised')\n",
    "finally:\n",
    "    print('-'*100)\n",
    "else:\n",
    "    print('You were successful')\n"
   ]
  },
  {
   "cell_type": "code",
   "execution_count": null,
   "id": "f411c8c0",
   "metadata": {},
   "outputs": [],
   "source": [
    "# back_order = back_order_orig.copy()\n",
    "\n",
    "# parts_order = {k:list(v) for k,v in zip(part_name,zip(reorder_lev,stock,back_order))}\n",
    "\n",
    "# def roll_back():\n",
    "#     back_order = [0,0,0,0,0]\n",
    "#     parts_order = {k:list(v) for k,v in zip(part_name,zip(reorder_lev,stock,back_order))}\n",
    "#     return parts_order\n",
    "# try:\n",
    "#     bo_idx = 0\n",
    "#     for part in parts_order:\n",
    "#             qty_diff = parts_order[part][0]-parts_order[part][1]-parts_order[part][2]\n",
    "#             if qty_diff > 0:\n",
    "#                 print(f'''\\nYou have {parts_order[part][1]} of {part} and the reorder level is {parts_order[part][0]}. \\\n",
    "# You are short {qty_diff}.''')\n",
    "            \n",
    "#                 reord_qty = eval(input('How much more would you like to order? :'))\n",
    "#                 extra_pct = eval(input('And how many percent extra for transit breakages? :'))\n",
    "#                 ro_qty_wextra = round(reord_qty*((100+extra_pct)/100),0) \n",
    "#                 parts_order[part][2] = ro_qty_wextra\n",
    "#                 back_order[bo_idx] = ro_qty_wextra\n",
    "#                 print('\\n',parts_order)\n",
    "#             bo_idx += 1\n",
    "#     print('\\n',parts_order)\n",
    "# except (TypeError, NameError):\n",
    "#     parts_order = roll_back()\n",
    "#     print(parts_order)\n",
    "# else:\n",
    "#     print(f'\\nSend email to supplier for following quantities : {back_order}.')\n",
    "\n"
   ]
  },
  {
   "cell_type": "markdown",
   "id": "44521c4d",
   "metadata": {},
   "source": [
    "### Finally Block"
   ]
  },
  {
   "cell_type": "code",
   "execution_count": null,
   "id": "2dc6a7e5",
   "metadata": {},
   "outputs": [],
   "source": [
    "# The finally block executes irrespective of whether an exception was raised or not. You could use the finally block to \n",
    "# perform clean-up operations in case of an exception. "
   ]
  },
  {
   "cell_type": "code",
   "execution_count": null,
   "id": "e72795e8",
   "metadata": {},
   "outputs": [],
   "source": [
    "try:\n",
    "    print(100/0)\n",
    "except:\n",
    "    print('Exception was raised')\n",
    "else:\n",
    "    print('No exceptions')\n",
    "finally:\n",
    "    print('Clean-up operations performed.')"
   ]
  },
  {
   "cell_type": "code",
   "execution_count": null,
   "id": "b845e50f",
   "metadata": {},
   "outputs": [],
   "source": [
    "# As seen previously, finally should be the last block in the try/except block. \n",
    "\n",
    "finally:\n",
    "    print('Cleanup operations performed')\n",
    "try:\n",
    "    print(100/2)\n",
    "except:\n",
    "    print('Exception Raised')\n",
    "else:\n",
    "    print('No Exceptions.')"
   ]
  },
  {
   "cell_type": "code",
   "execution_count": null,
   "id": "1db8c5b8",
   "metadata": {},
   "outputs": [],
   "source": [
    "try:\n",
    "    print(100/2)\n",
    "finally:\n",
    "    print('Cleanup operations performed')\n",
    "except:\n",
    "    print('Exception Raised')\n",
    "else:\n",
    "    print('No Exceptions.')"
   ]
  },
  {
   "cell_type": "code",
   "execution_count": null,
   "id": "7ea23a90",
   "metadata": {},
   "outputs": [],
   "source": [
    "try:\n",
    "    print(100/2)\n",
    "except:\n",
    "    print('Exception Raised')\n",
    "finally:\n",
    "    print('Cleanup operations performed')\n",
    "else:\n",
    "    print('No Exceptions.')"
   ]
  },
  {
   "cell_type": "code",
   "execution_count": null,
   "id": "c18202da",
   "metadata": {},
   "outputs": [],
   "source": [
    "try:\n",
    "    print(100/2)\n",
    "except:\n",
    "    print('Exception Raised')\n",
    "else:\n",
    "    print('No Exceptions.')\n",
    "finally:\n",
    "    print('Cleanup operations performed')\n"
   ]
  },
  {
   "cell_type": "code",
   "execution_count": null,
   "id": "150ad4be",
   "metadata": {},
   "outputs": [],
   "source": [
    "# Imagine this is information pulled from database.\n",
    "\n",
    "part_name = ['Motor', 'Gearbox', 'Shaft', 'Brakes', 'Alternator']\n",
    "reorder_lev = [10, 20, 20, 50, 100]\n",
    "stock = [8, 24, 27, 36, 41]\n",
    "back_order_orig = [0,0,0,0,0]"
   ]
  },
  {
   "attachments": {
    "Exception%20Handling%20Flowchart.JPG": {
     "image/jpeg": "[encoded data removed]"
    }
   },
   "cell_type": "markdown",
   "id": "14638319",
   "metadata": {},
   "source": [
    "![Exception%20Handling%20Flowchart.JPG](attachment:Exception%20Handling%20Flowchart.JPG)"
   ]
  },
  {
   "cell_type": "code",
   "execution_count": null,
   "id": "0aae4480",
   "metadata": {},
   "outputs": [],
   "source": [
    "# part_name = ['Motor', 'Gearbox', 'Shaft', 'Brakes', 'Alternator']\n",
    "# reorder_lev = [10, 20, 20, 50, 100]\n",
    "# stock = [8, 24, 27, 36, 41]\n",
    "back_order = back_order_orig.copy()\n",
    "\n",
    "parts_order = {k:list(v) for k,v in zip(part_name,zip(reorder_lev,stock,back_order))}\n",
    "\n",
    "print(parts_order)"
   ]
  },
  {
   "cell_type": "code",
   "execution_count": null,
   "id": "138a61be",
   "metadata": {},
   "outputs": [],
   "source": [
    "def roll_back():\n",
    "    back_order = back_order_orig.copy()\n",
    "    parts_order = {k:list(v) for k,v in zip(part_name,zip(reorder_lev,stock,back_order))}\n",
    "    return parts_order\n",
    "try:\n",
    "    part_ord_file = open('part_ord_file', 'w')\n",
    "    bo_idx = 0\n",
    "    for part in parts_order:\n",
    "            qty_diff = parts_order[part][0]-parts_order[part][1]-parts_order[part][2]\n",
    "            if qty_diff > 0:\n",
    "                print(f'\\nYou have {parts_order[part][1]} of {part} and the reorder level is {parts_order[part][0]}. \\\n",
    "You are short {qty_diff}.')\n",
    "            \n",
    "                reord_qty = eval(input('How much more would you like to order? :'))\n",
    "                extra_pct = eval(input('And how many percent extra for transit breakages? :'))\n",
    "                ro_qty_wextra = round(reord_qty*((100+extra_pct)/100),0) \n",
    "                parts_order[part][2] = parts_order[part][2] + ro_qty_wextra\n",
    "                back_order[bo_idx] = ro_qty_wextra\n",
    "            bo_idx += 1\n",
    "    print('\\n',parts_order)\n",
    "except:\n",
    "    parts_order = roll_back()\n",
    "    print('\\nException raised. Parts Order file rolled back.')\n",
    "    print(parts_order)\n",
    "else:\n",
    "    print(f'\\nSend email to supplier for following quantities : {back_order}.')\n",
    "finally:\n",
    "    part_ord_file.write(str(parts_order))\n",
    "    part_ord_file.close()\n",
    "    print('\\nParts Order file updated to database and database connection closed.')"
   ]
  },
  {
   "cell_type": "markdown",
   "id": "69cf5d2d",
   "metadata": {},
   "source": [
    "### Raise keyword"
   ]
  },
  {
   "cell_type": "code",
   "execution_count": null,
   "id": "892f49ed",
   "metadata": {},
   "outputs": [],
   "source": [
    "# Forces an exception (actual exception or specific) to be raised.\n",
    "# Without specific exception, only causes the exception to be re-raised and can only be used in the except block. \n",
    "# Raise with argument - can give additional info on the error."
   ]
  },
  {
   "cell_type": "code",
   "execution_count": null,
   "id": "befceeff",
   "metadata": {},
   "outputs": [],
   "source": [
    "a = 100\n",
    "b = 2\n",
    "\n",
    "try:\n",
    "    if b == 2: \n",
    "        print(a/b)\n",
    "except IndexError:\n",
    "    print('Why are you raising an IndexError for a ZeroDivisionError??')\n",
    "# except:\n",
    "#     print('Some other error was raised')\n"
   ]
  },
  {
   "cell_type": "code",
   "execution_count": null,
   "id": "ec278001",
   "metadata": {},
   "outputs": [],
   "source": [
    "a = 100\n",
    "b = 0\n",
    "\n",
    "try:\n",
    "    if b == 0:\n",
    "        raise IndexError\n",
    "    print(a/b)\n",
    "except IndexError:\n",
    "    print('Why are you raising an IndexError for a ZeroDivisionError??')\n",
    "except:\n",
    "    print('Some other error was raised')\n"
   ]
  },
  {
   "cell_type": "code",
   "execution_count": null,
   "id": "94c29d2f",
   "metadata": {},
   "outputs": [],
   "source": [
    "a = 100\n",
    "b = 'b'\n",
    "\n",
    "try:\n",
    "    if b == 0: \n",
    "        raise IndexError\n",
    "    print(a/b)\n",
    "except IndexError:\n",
    "    print('Why are you raising an IndexError for a ZeroDivisionError??')\n",
    "except:\n",
    "    print('Some other error was raised')\n"
   ]
  },
  {
   "cell_type": "code",
   "execution_count": null,
   "id": "a32a59ca",
   "metadata": {},
   "outputs": [],
   "source": [
    "try:\n",
    "    raise\n",
    "except:\n",
    "    print('Raised exception on purpose')"
   ]
  },
  {
   "cell_type": "code",
   "execution_count": null,
   "id": "54d8457e",
   "metadata": {},
   "outputs": [],
   "source": [
    "raise keyword - raises exception\n",
    "\n",
    "Exception raised - run to except block"
   ]
  },
  {
   "cell_type": "code",
   "execution_count": null,
   "id": "c16bf777",
   "metadata": {},
   "outputs": [],
   "source": [
    "# Raise without specific exception just reraises the exception and should only be used in the except block unless we want\n",
    "# to raise an error just for nothing.\n",
    "\n",
    "a = 100\n",
    "b = 10\n",
    "\n",
    "try:\n",
    "    print(a/b)\n",
    "    raise \n",
    "except:\n",
    "    print('Some other error was raised')\n"
   ]
  },
  {
   "cell_type": "code",
   "execution_count": null,
   "id": "84f22107",
   "metadata": {},
   "outputs": [],
   "source": [
    "a = 100\n",
    "b = 0\n",
    "\n",
    "try:\n",
    "    print(a/b)\n",
    "except:\n",
    "    print('Inform your team of error in program.')\n",
    "    raise IndexError('Additional information provided')"
   ]
  },
  {
   "cell_type": "code",
   "execution_count": null,
   "id": "426c6c8e",
   "metadata": {},
   "outputs": [],
   "source": [
    "# Raise with argument - can give additional info on the error."
   ]
  },
  {
   "cell_type": "code",
   "execution_count": null,
   "id": "5d454df6",
   "metadata": {},
   "outputs": [],
   "source": [
    "print(100/0)"
   ]
  },
  {
   "cell_type": "code",
   "execution_count": null,
   "id": "0bded3e4",
   "metadata": {},
   "outputs": [],
   "source": [
    "a = 100\n",
    "b = 0\n",
    "\n",
    "try:\n",
    "    if b == 0: \n",
    "        #raise IndexError('Why are you raising an IndexError for a ZeroDivisionError??')\n",
    "        print(a/b)\n",
    "except:\n",
    "    print('Error was raised')\n",
    "    raise ZeroDivisionError('Optional information provided')"
   ]
  },
  {
   "cell_type": "markdown",
   "id": "6fe8cf3e",
   "metadata": {},
   "source": [
    "### User-Defined Exceptions"
   ]
  },
  {
   "cell_type": "code",
   "execution_count": null,
   "id": "437f6534",
   "metadata": {},
   "outputs": [],
   "source": [
    "# We can create user-defined exceptions which inherit from the Exceptions class. DO NOT DERIVE FROM BASEEXCEPTION CLASS."
   ]
  },
  {
   "cell_type": "code",
   "execution_count": null,
   "id": "bc336295",
   "metadata": {},
   "outputs": [],
   "source": []
  },
  {
   "cell_type": "code",
   "execution_count": null,
   "id": "568c552c",
   "metadata": {},
   "outputs": [],
   "source": [
    "a = 'Python'\n",
    "\n",
    "b = 'Learnbay'\n",
    "\n",
    "Indian Parent Class\n",
    "functions and variables - methods and attributes\n",
    "\n",
    "attributes and methods\n",
    "\n",
    "State - inherit certain properties from parent - This is Child Class\n",
    "attributes and methods can be modified from parent class\n",
    "\n"
   ]
  },
  {
   "cell_type": "code",
   "execution_count": null,
   "id": "8b07a790",
   "metadata": {},
   "outputs": [],
   "source": [
    "BaseException\n",
    "\n",
    "- System\n",
    "- Keyboard\n",
    "- Generator\n",
    "- Exception\n",
    "  -------\n",
    "    - MyException"
   ]
  },
  {
   "cell_type": "code",
   "execution_count": null,
   "id": "c7176563",
   "metadata": {},
   "outputs": [],
   "source": [
    "classA - Parent\n",
    "\n",
    "classB inheriting from classA - Child class\n",
    "-We can modify, remove, add properties to the child class which are different from the parent. "
   ]
  },
  {
   "cell_type": "code",
   "execution_count": null,
   "id": "f520e473",
   "metadata": {},
   "outputs": [],
   "source": [
    "# BaseException class complete hierarchy"
   ]
  },
  {
   "cell_type": "code",
   "execution_count": null,
   "id": "12934f55",
   "metadata": {},
   "outputs": [],
   "source": [
    "class Parent: \n",
    "properties\n",
    "functionality\n",
    "\n",
    "\n",
    "class child(Parent): \n",
    "- Alter certain methods and properties of the parent \n",
    "\n",
    "\n",
    "class grandchild(child):\n",
    "- Alter certain methods and properties of child/parent"
   ]
  },
  {
   "cell_type": "code",
   "execution_count": null,
   "id": "fbb2c744",
   "metadata": {},
   "outputs": [],
   "source": [
    "class BaseException:\n",
    "    # - properties\n",
    "    \n",
    "class SystemExit(BaseException):\n",
    "    # properties\n",
    "    \n",
    "class KeyboardInterrupt(BaseException):\n",
    "    # properties\n",
    "\n",
    "class GeneratorExit(BaseException):\n",
    "    # properties\n",
    "\n",
    "class Exception(BaseException):\n",
    "    # properties\n",
    "    \n",
    "    \n",
    "class StopIteration(Exception):\n",
    "    # properties\n",
    "    \n",
    "class StandardError(Exception):\n",
    "    # properties\n",
    "    \n",
    "class Warning(Exception):\n",
    "    # properties\n"
   ]
  },
  {
   "attachments": {
    "BaseException%20Class%20Hierarchy.JPG": {
     "image/jpeg": "[encoded data removed]"
    }
   },
   "cell_type": "markdown",
   "id": "d3d98c62",
   "metadata": {},
   "source": [
    "![BaseException%20Class%20Hierarchy.JPG](attachment:BaseException%20Class%20Hierarchy.JPG)"
   ]
  },
  {
   "cell_type": "code",
   "execution_count": null,
   "id": "b9ac6c8c",
   "metadata": {},
   "outputs": [],
   "source": [
    "# Python documentation for all exceptions and their explanations. \n",
    "\n",
    "'https://docs.python.org/3/library/exceptions.html'"
   ]
  },
  {
   "cell_type": "code",
   "execution_count": null,
   "id": "d186b765",
   "metadata": {},
   "outputs": [],
   "source": [
    "# Base class hierarchy of most common errors and warnings"
   ]
  },
  {
   "attachments": {
    "BaseException%20Class%20Hierarchy%20for%20common%20errors%20and%20warnings.JPG": {
     "image/jpeg": "[encoded data removed]"
    }
   },
   "cell_type": "markdown",
   "id": "42e1337c",
   "metadata": {},
   "source": [
    "![BaseException%20Class%20Hierarchy%20for%20common%20errors%20and%20warnings.JPG](attachment:BaseException%20Class%20Hierarchy%20for%20common%20errors%20and%20warnings.JPG)"
   ]
  },
  {
   "cell_type": "code",
   "execution_count": null,
   "id": "a0f9fb90",
   "metadata": {},
   "outputs": [],
   "source": [
    "# ArithmeticError - errors from Arithmetic operations like Zero Divisions, Floating Point or Overflow\n",
    "# AssertionError - when the result of assertion method is False.\n",
    "# EOFError - When reading from an input file - if the program cannot find the End of File character.\n",
    "# ImportError - When the file to be imported cannot be located\n",
    "# NameError - An object reference that is incorrectly defined or cannot be located\n",
    "# RuntimeError - When an error is raised which doesnt fit into any other Exception categories.\n",
    "# SyntaxError - An error in syntax AFTER compile time - probably due to incorrect user input or other incoming datapoints.\n",
    "# TypeError - Incorrect datatype for particular operation"
   ]
  },
  {
   "cell_type": "code",
   "execution_count": null,
   "id": "5a9ebee2",
   "metadata": {},
   "outputs": [],
   "source": [
    "# And one of the most common uses for raise keyword is to raise the specifically created user-defined exception."
   ]
  },
  {
   "cell_type": "code",
   "execution_count": null,
   "id": "aa4e4ca6",
   "metadata": {},
   "outputs": [],
   "source": []
  },
  {
   "cell_type": "code",
   "execution_count": null,
   "id": "9f9a3d17",
   "metadata": {},
   "outputs": [],
   "source": [
    "str1 = 'A'\n",
    "str2 = 'B'\n",
    "\n",
    "print(type(str1))"
   ]
  },
  {
   "cell_type": "code",
   "execution_count": null,
   "id": "3d6d5cf5",
   "metadata": {},
   "outputs": [],
   "source": [
    "print(str1.lower())"
   ]
  },
  {
   "cell_type": "code",
   "execution_count": null,
   "id": "735b1c97",
   "metadata": {},
   "outputs": [],
   "source": [
    "       \n",
    "        \n",
    "x = 'Rikki'\n",
    "y = 'Vishal'\n",
    "z = 'Yashoda'\n",
    "\n",
    "instance1 'Rikki'\n",
    "instance2 'Vishal'\n",
    "instance3 'Yashoda'\n",
    "\n",
    "class string"
   ]
  },
  {
   "cell_type": "code",
   "execution_count": null,
   "id": "01aab344",
   "metadata": {},
   "outputs": [],
   "source": [
    "def funct1(x,y):\n",
    "    print(x, y)\n",
    "    \n",
    "    \n",
    "funct1(10)"
   ]
  },
  {
   "cell_type": "code",
   "execution_count": null,
   "id": "243ae86d",
   "metadata": {},
   "outputs": [],
   "source": [
    "class MyException(Exception):\n",
    "    def __init__(self,msg):\n",
    "        self.msg = msg\n",
    "        print(self.msg)\n",
    "        \n",
    "#print(dir(MyException))\n",
    "x = MyException(\"User was logged out\")\n",
    "\n"
   ]
  },
  {
   "cell_type": "code",
   "execution_count": null,
   "id": "a6b4a79a",
   "metadata": {},
   "outputs": [],
   "source": [
    "object.method()\n",
    "\n",
    "funct()"
   ]
  },
  {
   "cell_type": "code",
   "execution_count": null,
   "id": "ac948cc1",
   "metadata": {},
   "outputs": [],
   "source": [
    "x = MyException('User was logged out')"
   ]
  },
  {
   "cell_type": "code",
   "execution_count": null,
   "id": "5bfb3620",
   "metadata": {},
   "outputs": [],
   "source": [
    "print(x)\n",
    "print(id(x))\n",
    "print(type(x))"
   ]
  },
  {
   "cell_type": "code",
   "execution_count": null,
   "id": "c0aa7ef3",
   "metadata": {},
   "outputs": [],
   "source": [
    "print(dir(MyException))"
   ]
  },
  {
   "cell_type": "code",
   "execution_count": null,
   "id": "a998c3ea",
   "metadata": {},
   "outputs": [],
   "source": [
    "print(dir(Exception))"
   ]
  },
  {
   "cell_type": "code",
   "execution_count": null,
   "id": "96da9547",
   "metadata": {},
   "outputs": [],
   "source": [
    "def check_act_bal(bank_bal):\n",
    "    for client, bal in bank_bal.items():\n",
    "        print(f'Balance for client {client} is {bal}.')\n",
    "        try:\n",
    "            if bal < 20000:\n",
    "                raise MyException(f'Balance for client {client} is {bal} and less than 20000.')\n",
    "        except MyException:\n",
    "            print('Exception raised')"
   ]
  },
  {
   "cell_type": "code",
   "execution_count": null,
   "id": "2ec186ab",
   "metadata": {},
   "outputs": [],
   "source": [
    "bank_bal = {'Bezos' : 25000, 'Gates' : 15000, 'Zuckerburg': 21000}"
   ]
  },
  {
   "cell_type": "code",
   "execution_count": null,
   "id": "3c3cac6f",
   "metadata": {},
   "outputs": [],
   "source": [
    "print(bank_bal.items())"
   ]
  },
  {
   "cell_type": "code",
   "execution_count": null,
   "id": "05377f00",
   "metadata": {},
   "outputs": [],
   "source": [
    "tup1 = (1,2)\n",
    "a,b = tup1\n",
    "\n",
    "print(a)\n",
    "print(b)"
   ]
  },
  {
   "cell_type": "code",
   "execution_count": null,
   "id": "1b132fed",
   "metadata": {},
   "outputs": [],
   "source": [
    "for client, bal in bank_bal.items():\n",
    "    print(f'Balance for client {client} is {bal}.')\n",
    "    try:\n",
    "        if bal < 20000:\n",
    "            raise MyException(f'Balance for client {client} is {bal} and less than 20000.')\n",
    "    except MyException:\n",
    "        print('Exception raised')"
   ]
  },
  {
   "cell_type": "code",
   "execution_count": null,
   "id": "9e069ac6",
   "metadata": {},
   "outputs": [],
   "source": [
    "bank_bal = {'Bezos' : 25000, 'Gates' : 15000, 'Zuckerburg': 21000}\n",
    "\n",
    "check_act_bal(bank_bal)"
   ]
  },
  {
   "cell_type": "code",
   "execution_count": null,
   "id": "b3459798",
   "metadata": {},
   "outputs": [],
   "source": [
    "#bank_bal2 = {'Jatin': 10000000, 'Vaibhav' : 2000000, 'Rikki' : 100}\n",
    "\n",
    "check_act_bal({'Jatin': 10000000, 'Vaibhav' : 2000000, 'Rikki' : 100})"
   ]
  },
  {
   "cell_type": "markdown",
   "id": "53eefcdf",
   "metadata": {},
   "source": [
    "# Logging exceptions"
   ]
  },
  {
   "cell_type": "code",
   "execution_count": null,
   "id": "ffdee587",
   "metadata": {},
   "outputs": [],
   "source": [
    "# It is a good idea to store all the error messages raised by a program into a file. The file which stores the messages,\n",
    "# especially of errors or exceptions is called a log' file and this technique is called ‘logging'. When we store the\n",
    "# messages into a log file, we can open the file and read it or take a print out of the file later. This helps the\n",
    "# programmers to understand how many errors are there, the names of those errors and where they are occurring in the program\n",
    "# This information will enable them to pinpoint the errors and also rectify them easily. So, logging helps in debugging the\n",
    "# programs."
   ]
  },
  {
   "cell_type": "code",
   "execution_count": null,
   "id": "308e59c9",
   "metadata": {},
   "outputs": [],
   "source": [
    "#Python provides a module ‘logging' that is useful to create a log file that can store all error messages that\n",
    "# may occur while executing a program. \n",
    "\n",
    "import logging\n",
    "\n",
    "#print(dir(logging))"
   ]
  },
  {
   "cell_type": "code",
   "execution_count": null,
   "id": "a79247e3",
   "metadata": {},
   "outputs": [],
   "source": [
    "#There may be different levels of error messages. For example, an error that crashes\n",
    "# the system should be given more importance than an error that merely displays a warning message. So, depending on the\n",
    "# seriousness of the error, they are classified into 6 levels in logging' module, as shown in the table below: \n",
    "\n",
    "# Level       Numeric Value    Description\n",
    "# CRITICAL    50               Represents a very serious error that needs high attention.\n",
    "# ERROR       40               Represents a serious error.\n",
    "# WARNING     30               Represents a warning message, some caution is needed.\n",
    "# INFO        20               Represents a message with some important information.\n",
    "# DEBUG       10               Represents a message with debugging information.\n",
    "# NOTSET       0               Represents that the level is not set. "
   ]
  },
  {
   "cell_type": "code",
   "execution_count": null,
   "id": "0592100b",
   "metadata": {},
   "outputs": [],
   "source": [
    "filename\n",
    "\n",
    "def funct1():\n",
    "    code\n",
    "    \n",
    "def funct2():\n",
    "    code\n",
    "    \n",
    "varname = 10"
   ]
  },
  {
   "cell_type": "code",
   "execution_count": null,
   "id": "b4768cd3",
   "metadata": {},
   "outputs": [],
   "source": [
    "#Another file\n",
    "\n",
    "import filename\n",
    "\n",
    "filename.funct1()\n",
    "\n",
    "filename.varname"
   ]
  },
  {
   "cell_type": "code",
   "execution_count": null,
   "id": "e2e0bff2",
   "metadata": {},
   "outputs": [],
   "source": [
    "# Class methods\n",
    "\n",
    "list1.pop()"
   ]
  },
  {
   "cell_type": "code",
   "execution_count": null,
   "id": "604f7ba1",
   "metadata": {},
   "outputs": [],
   "source": []
  },
  {
   "cell_type": "code",
   "execution_count": null,
   "id": "a96e53c0",
   "metadata": {},
   "outputs": [],
   "source": []
  },
  {
   "cell_type": "code",
   "execution_count": 1,
   "id": "b0c65b61",
   "metadata": {},
   "outputs": [],
   "source": [
    "# As we know, by default, the error messages that occur at the time of executing a program are displayed on the user's\n",
    "# monitor. Only the messages which are equal to or above the level of a WARNING are displayed. That means WARNINGS, ERRORS\n",
    "# and CRITICAL ERRORS are displayed. It is possible that we can set this default behavior as we need.\n",
    "\n",
    "# To understand different levels of logging messages, we are going to write a Python program. In this program, first we have\n",
    "# to create a file for logging (storing) the messages. This is done using basicConfig() method of logging module as:\n",
    "\n",
    "import logging\n",
    "logging.basicConfig(filename=r'mylog.txt', level = logging.ERROR)\n"
   ]
  },
  {
   "cell_type": "code",
   "execution_count": 2,
   "id": "53be887a",
   "metadata": {},
   "outputs": [],
   "source": [
    "logging.debug('Debug')\n",
    "logging.info('Info')\n",
    "logging.warning('Warning')\n",
    "logging.error('Error')\n",
    "logging.critical('Critical')"
   ]
  },
  {
   "cell_type": "code",
   "execution_count": null,
   "id": "a4ce680d",
   "metadata": {},
   "outputs": [],
   "source": [
    "# Here, the log file name is given as 'mylog.txt'. The level is set to ERROR. Hence the messages whose level will be at\n",
    "# ERROR or above, (i.e. ERROR or CRITICAL) will only be stored into the log file. Once, this is done, we can add the\n",
    "# messages to the 'mylog.txt' file as:\n",
    "\n",
    "# logging.<methodname>('message')\n",
    "\n",
    "# The methodnames can be critical(), error(), warning(), info(), debug() or exception(). \n",
    "\n",
    "# For example, we want to add a critical message, we should use critical() method as:\n",
    "\n",
    "logging.critical('System crash imminent- Immediate attention required')\n",
    "\n",
    "# Now, this error message is stored for critical errors that happen i.e. for critical errors - the logfile will now display\n",
    "# the meessage 'System crash - Immediate attention required'. "
   ]
  },
  {
   "cell_type": "code",
   "execution_count": null,
   "id": "fa783d7d",
   "metadata": {},
   "outputs": [],
   "source": [
    "logging.error('An exception or error was raised.')\n",
    "logging.warning('Program warning was raised. Program execution continued.')\n",
    "logging.info('Look up the logs for more information on what caused this log message.')\n",
    "logging.debug('Your program may require some debugging.')\n",
    "\n",
    "#Note here - how only the error message was logged into the logfile. The other messages were not logged since they were \n",
    "# below the set level."
   ]
  },
  {
   "cell_type": "code",
   "execution_count": null,
   "id": "9720d292",
   "metadata": {},
   "outputs": [],
   "source": [
    "#From Python documentation, the typical levels and their uses:\n",
    "\n",
    "# Level           When it’s used\n",
    "# DEBUG           Detailed information, typically of interest only when diagnosing problems.\n",
    "# INFO            Confirmation that things are working as expected.\n",
    "# WARNING         An indication that something unexpected happened, or indicative of some problem in the near future\n",
    "                  #(e.g. ‘disk space low’). The software is still working as expected.\n",
    "# ERROR           Due to a more serious problem, the software has not been able to perform some function.\n",
    "# CRITICAL        A serious error, indicating that the program itself may be unable to continue running."
   ]
  },
  {
   "cell_type": "code",
   "execution_count": 3,
   "id": "8f79a982",
   "metadata": {},
   "outputs": [],
   "source": [
    "a = 100\n",
    "b = 0\n",
    "\n",
    "try:\n",
    "    print(a/b)\n",
    "except:\n",
    "    #functtofixerror()\n",
    "    logging.error('Error Level')"
   ]
  },
  {
   "cell_type": "code",
   "execution_count": null,
   "id": "d113908f",
   "metadata": {},
   "outputs": [],
   "source": [
    "logging.critical\n",
    "logging.error\n",
    "logging.warning"
   ]
  },
  {
   "cell_type": "code",
   "execution_count": 4,
   "id": "b670fe68",
   "metadata": {},
   "outputs": [],
   "source": [
    "# We use the exception method in logging module to send an exception to the log file. Note here, how the error is not\n",
    "# raised on the users monitor.\n",
    "\n",
    "a = 100\n",
    "b = 0\n",
    "\n",
    "try:\n",
    "    print(a/b)\n",
    "except:\n",
    "    #functtofixerror()\n",
    "    logging.exception('An Exception was raised with full details')"
   ]
  },
  {
   "cell_type": "code",
   "execution_count": 5,
   "id": "c69ce064",
   "metadata": {},
   "outputs": [
    {
     "name": "stdout",
     "output_type": "stream",
     "text": [
      "1.0\n",
      "2.0\n",
      "Function to handle error\n",
      "5.0\n"
     ]
    }
   ],
   "source": [
    "for x in [2,4,None,10]:\n",
    "    try:\n",
    "        print(x/2)\n",
    "    except:\n",
    "        print('Function to handle error')\n",
    "        logging.exception(f'An error was created because value was {x}')"
   ]
  },
  {
   "cell_type": "code",
   "execution_count": null,
   "id": "28f02d43",
   "metadata": {},
   "outputs": [],
   "source": [
    "logging.critical\n",
    "logging.error\n",
    "logging.warning\n",
    "logging.info\n",
    "logging.debut\n",
    "\n",
    "\n",
    "logging.exception (which will give the original traceback)"
   ]
  },
  {
   "cell_type": "code",
   "execution_count": 6,
   "id": "4e0fd478",
   "metadata": {},
   "outputs": [],
   "source": [
    "#As we can see, no exception was raised to the users monitor leaving them unaware of an exception. Here is another use for\n",
    "# the raise keyword without specifying exception. If you recall, raise keyword without arguments or specific error just \n",
    "# reraises the exception. \n",
    "\n",
    "a = 100\n",
    "b = 0"
   ]
  },
  {
   "cell_type": "code",
   "execution_count": 7,
   "id": "660112db",
   "metadata": {},
   "outputs": [
    {
     "ename": "ZeroDivisionError",
     "evalue": "division by zero",
     "output_type": "error",
     "traceback": [
      "\u001b[1;31m---------------------------------------------------------------------------\u001b[0m",
      "\u001b[1;31mZeroDivisionError\u001b[0m                         Traceback (most recent call last)",
      "\u001b[1;32m~\\AppData\\Local\\Temp\\ipykernel_15804\\4070583000.py\u001b[0m in \u001b[0;36m<module>\u001b[1;34m\u001b[0m\n\u001b[1;32m----> 1\u001b[1;33m \u001b[0mprint\u001b[0m\u001b[1;33m(\u001b[0m\u001b[0ma\u001b[0m\u001b[1;33m/\u001b[0m\u001b[0mb\u001b[0m\u001b[1;33m)\u001b[0m\u001b[1;33m\u001b[0m\u001b[1;33m\u001b[0m\u001b[0m\n\u001b[0m",
      "\u001b[1;31mZeroDivisionError\u001b[0m: division by zero"
     ]
    }
   ],
   "source": [
    "print(a/b)"
   ]
  },
  {
   "cell_type": "code",
   "execution_count": 8,
   "id": "8a52065e",
   "metadata": {},
   "outputs": [
    {
     "name": "stdout",
     "output_type": "stream",
     "text": [
      "Raised an exception\n"
     ]
    },
    {
     "ename": "ZeroDivisionError",
     "evalue": "division by zero",
     "output_type": "error",
     "traceback": [
      "\u001b[1;31m---------------------------------------------------------------------------\u001b[0m",
      "\u001b[1;31mZeroDivisionError\u001b[0m                         Traceback (most recent call last)",
      "\u001b[1;32m~\\AppData\\Local\\Temp\\ipykernel_15804\\1627660714.py\u001b[0m in \u001b[0;36m<module>\u001b[1;34m\u001b[0m\n\u001b[0;32m      1\u001b[0m \u001b[1;32mtry\u001b[0m\u001b[1;33m:\u001b[0m\u001b[1;33m\u001b[0m\u001b[1;33m\u001b[0m\u001b[0m\n\u001b[1;32m----> 2\u001b[1;33m     \u001b[0mprint\u001b[0m\u001b[1;33m(\u001b[0m\u001b[0ma\u001b[0m\u001b[1;33m/\u001b[0m\u001b[0mb\u001b[0m\u001b[1;33m)\u001b[0m\u001b[1;33m\u001b[0m\u001b[1;33m\u001b[0m\u001b[0m\n\u001b[0m\u001b[0;32m      3\u001b[0m \u001b[1;32mexcept\u001b[0m\u001b[1;33m:\u001b[0m\u001b[1;33m\u001b[0m\u001b[1;33m\u001b[0m\u001b[0m\n\u001b[0;32m      4\u001b[0m \u001b[1;31m#     logging.exception('Exception')\u001b[0m\u001b[1;33m\u001b[0m\u001b[1;33m\u001b[0m\u001b[0m\n\u001b[0;32m      5\u001b[0m     \u001b[0mprint\u001b[0m\u001b[1;33m(\u001b[0m\u001b[1;34m'Raised an exception'\u001b[0m\u001b[1;33m)\u001b[0m\u001b[1;33m\u001b[0m\u001b[1;33m\u001b[0m\u001b[0m\n",
      "\u001b[1;31mZeroDivisionError\u001b[0m: division by zero"
     ]
    }
   ],
   "source": [
    "try:\n",
    "    print(a/b)\n",
    "except:\n",
    "#     logging.exception('Exception')\n",
    "    print('Raised an exception')\n",
    "    raise\n",
    "    print('After raise nothing will get executed.')"
   ]
  },
  {
   "cell_type": "code",
   "execution_count": null,
   "id": "ad40812c",
   "metadata": {},
   "outputs": [],
   "source": []
  },
  {
   "cell_type": "code",
   "execution_count": null,
   "id": "6f5f4d48",
   "metadata": {},
   "outputs": [],
   "source": [
    "Types of errors while programming\n",
    "\n",
    "\n",
    "1. Syntax Error - Compile time errors\n",
    "2. Runtime Errors - Exception - Exception Handling\n",
    "3. Logical Error"
   ]
  },
  {
   "cell_type": "code",
   "execution_count": null,
   "id": "e733b698",
   "metadata": {},
   "outputs": [],
   "source": [
    "print('Hello')\n",
    "print(100/0)\n",
    "\n",
    "print('Hi')\n"
   ]
  },
  {
   "cell_type": "code",
   "execution_count": null,
   "id": "2ac7501c",
   "metadata": {},
   "outputs": [],
   "source": [
    "try:\n",
    "    print(100/0)\n",
    "except:\n",
    "    print('Faced an exception')"
   ]
  },
  {
   "cell_type": "code",
   "execution_count": null,
   "id": "97d48d4e",
   "metadata": {},
   "outputs": [],
   "source": [
    "if 20>0:\n",
    "    print(20/0)\n",
    "else:\n",
    "    print('Not greater than 0')"
   ]
  },
  {
   "cell_type": "code",
   "execution_count": null,
   "id": "7943c93c",
   "metadata": {},
   "outputs": [],
   "source": [
    "for x in [4,7,None,20]:\n",
    "    try:\n",
    "        print(x/2)\n",
    "    except:\n",
    "        print('Error')\n",
    "        continue"
   ]
  },
  {
   "cell_type": "code",
   "execution_count": null,
   "id": "e40c9f66",
   "metadata": {},
   "outputs": [],
   "source": [
    "# What type of errors do we face in Python programming?\n",
    "\n",
    "#1. CompileTime\n",
    "#2. Runtime\n",
    "#3. Logical\n",
    "\n",
    "# - There is NO way to fix compile time errors except to fix the syntax of the code - because if there is a syntax error -\n",
    "# the computer cannot translate the code to byte code and execution never starts. \n",
    "\n",
    "# - We can give instructions to the computer on how to handle runtime errors (if we are able to anticipate where the \n",
    "# runtime error might occur) by using exception handling.\n",
    "\n",
    "# - Logical errors are discovered and fixed by running rigourous testing on our code to ensure the output is as expected. \n",
    "# If we have unexpected output (without running into compile or runtime errors), then we need to debug our program by \n",
    "# isolating where the error is occurring.\n",
    "\n",
    "# What is the difference between if/else blocks and try/except blocks?\n",
    "\n",
    "# If/else - are conditional statements. A runtime error occuring in an if/else block will halt your program. The next line\n",
    "# of code will NOT be executed. \n",
    "\n",
    "# Exception handling block - if a runtime error occurs here, the program continues on to look for our instructions on how \n",
    "# to handle this error and does not stop the program(unless specifically instructed to handle excpetion AND stop program).\n"
   ]
  },
  {
   "cell_type": "code",
   "execution_count": null,
   "id": "bdeb8245",
   "metadata": {},
   "outputs": [],
   "source": [
    "#1 - Syntax (or compile time errors) ----> byte code ----> then begins executing\n",
    "\n",
    "#2 - Runtime errors (while code begins executing) - Exception handling. Usually (but not always) such exceptions are due to \n",
    "# incorrect outside input.\n",
    "\n",
    "#3 - Logical errors - Errors in the program where there is output but only that the output is not as expected. \n",
    "# Only developers can identify and resolve by using rigorous testing."
   ]
  },
  {
   "cell_type": "code",
   "execution_count": null,
   "id": "6d02a661",
   "metadata": {},
   "outputs": [],
   "source": [
    "x = 10\n",
    "y = 5\n",
    "\n",
    "print(y/x)"
   ]
  },
  {
   "cell_type": "code",
   "execution_count": 9,
   "id": "fe4c9484",
   "metadata": {},
   "outputs": [
    {
     "name": "stdout",
     "output_type": "stream",
     "text": [
      "Bharath Mutusivam\n"
     ]
    }
   ],
   "source": [
    "class Boy:\n",
    "    def __init__(self, name):\n",
    "        self.name = name\n",
    "        \n",
    "bharath = Boy('Bharath Mutusivam')\n",
    "\n",
    "print(bharath.name)"
   ]
  },
  {
   "cell_type": "code",
   "execution_count": 10,
   "id": "9d985015",
   "metadata": {},
   "outputs": [
    {
     "name": "stdout",
     "output_type": "stream",
     "text": [
      "Ashish\n"
     ]
    }
   ],
   "source": [
    "ashish = Boy('Ashish')\n",
    "\n",
    "print(ashish.name)"
   ]
  },
  {
   "cell_type": "code",
   "execution_count": null,
   "id": "7638e358",
   "metadata": {},
   "outputs": [],
   "source": []
  }
 ],
 "metadata": {
  "kernelspec": {
   "display_name": "Python 3 (ipykernel)",
   "language": "python",
   "name": "python3"
  },
  "language_info": {
   "codemirror_mode": {
    "name": "ipython",
    "version": 3
   },
   "file_extension": ".py",
   "mimetype": "text/x-python",
   "name": "python",
   "nbconvert_exporter": "python",
   "pygments_lexer": "ipython3",
   "version": "3.9.13"
  }
 },
 "nbformat": 4,
 "nbformat_minor": 5
}
