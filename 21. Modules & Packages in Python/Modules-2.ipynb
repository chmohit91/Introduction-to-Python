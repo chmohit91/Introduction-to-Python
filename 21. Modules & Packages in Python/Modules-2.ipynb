{
 "cells": [
  {
   "cell_type": "markdown",
   "id": "d07830d0",
   "metadata": {},
   "source": [
    "### Namespaces \n",
    "\n",
    "- Built-In Namespace\n",
    "- Global Namespace \n",
    "- Local Namespace"
   ]
  },
  {
   "cell_type": "markdown",
   "id": "01710c89",
   "metadata": {},
   "source": [
    "### Built-In Namespace\n",
    "\n",
    "- It refers to the namespace that contains the name of all the builtin functions, exception and the variables that are available for use without the need for explicit import statement "
   ]
  },
  {
   "cell_type": "code",
   "execution_count": 1,
   "id": "a6ea80a7",
   "metadata": {},
   "outputs": [
    {
     "name": "stdout",
     "output_type": "stream",
     "text": [
      "['ArithmeticError', 'AssertionError', 'AttributeError', 'BaseException', 'BaseExceptionGroup', 'BlockingIOError', 'BrokenPipeError', 'BufferError', 'BytesWarning', 'ChildProcessError', 'ConnectionAbortedError', 'ConnectionError', 'ConnectionRefusedError', 'ConnectionResetError', 'DeprecationWarning', 'EOFError', 'Ellipsis', 'EncodingWarning', 'EnvironmentError', 'Exception', 'ExceptionGroup', 'False', 'FileExistsError', 'FileNotFoundError', 'FloatingPointError', 'FutureWarning', 'GeneratorExit', 'IOError', 'ImportError', 'ImportWarning', 'IndentationError', 'IndexError', 'InterruptedError', 'IsADirectoryError', 'KeyError', 'KeyboardInterrupt', 'LookupError', 'MemoryError', 'ModuleNotFoundError', 'NameError', 'None', 'NotADirectoryError', 'NotImplemented', 'NotImplementedError', 'OSError', 'OverflowError', 'PendingDeprecationWarning', 'PermissionError', 'ProcessLookupError', 'RecursionError', 'ReferenceError', 'ResourceWarning', 'RuntimeError', 'RuntimeWarning', 'StopAsyncIteration', 'StopIteration', 'SyntaxError', 'SyntaxWarning', 'SystemError', 'SystemExit', 'TabError', 'TimeoutError', 'True', 'TypeError', 'UnboundLocalError', 'UnicodeDecodeError', 'UnicodeEncodeError', 'UnicodeError', 'UnicodeTranslateError', 'UnicodeWarning', 'UserWarning', 'ValueError', 'Warning', 'WindowsError', 'ZeroDivisionError', '__IPYTHON__', '__build_class__', '__debug__', '__doc__', '__import__', '__loader__', '__name__', '__package__', '__spec__', 'abs', 'aiter', 'all', 'anext', 'any', 'ascii', 'bin', 'bool', 'breakpoint', 'bytearray', 'bytes', 'callable', 'chr', 'classmethod', 'compile', 'complex', 'copyright', 'credits', 'delattr', 'dict', 'dir', 'display', 'divmod', 'enumerate', 'eval', 'exec', 'execfile', 'filter', 'float', 'format', 'frozenset', 'get_ipython', 'getattr', 'globals', 'hasattr', 'hash', 'help', 'hex', 'id', 'input', 'int', 'isinstance', 'issubclass', 'iter', 'len', 'license', 'list', 'locals', 'map', 'max', 'memoryview', 'min', 'next', 'object', 'oct', 'open', 'ord', 'pow', 'print', 'property', 'range', 'repr', 'reversed', 'round', 'runfile', 'set', 'setattr', 'slice', 'sorted', 'staticmethod', 'str', 'sum', 'super', 'tuple', 'type', 'vars', 'zip']\n"
     ]
    }
   ],
   "source": [
    "print(dir(__builtins__))"
   ]
  },
  {
   "cell_type": "markdown",
   "id": "30816c86",
   "metadata": {},
   "source": [
    "### - Global Namespace\n",
    "\n",
    "- This namespace is going to contain the names defined at the top level of the script or the module \n",
    "- This namespace includes the variable, function, classes and object "
   ]
  },
  {
   "cell_type": "code",
   "execution_count": 2,
   "id": "8b2ec2de",
   "metadata": {},
   "outputs": [
    {
     "name": "stdout",
     "output_type": "stream",
     "text": [
      "['In', 'Out', '_', '__', '___', '__builtin__', '__builtins__', '__doc__', '__loader__', '__name__', '__package__', '__spec__', '_dh', '_i', '_i1', '_i2', '_ih', '_ii', '_iii', '_oh', 'exit', 'get_ipython', 'open', 'quit']\n"
     ]
    }
   ],
   "source": [
    "print(dir())"
   ]
  },
  {
   "cell_type": "code",
   "execution_count": 3,
   "id": "cf19e1d7",
   "metadata": {},
   "outputs": [],
   "source": [
    "import sys, os, math "
   ]
  },
  {
   "cell_type": "code",
   "execution_count": 4,
   "id": "f94a2020",
   "metadata": {},
   "outputs": [
    {
     "name": "stdout",
     "output_type": "stream",
     "text": [
      "['In', 'Out', '_', '__', '___', '__builtin__', '__builtins__', '__doc__', '__loader__', '__name__', '__package__', '__spec__', '_dh', '_i', '_i1', '_i2', '_i3', '_i4', '_ih', '_ii', '_iii', '_oh', 'exit', 'get_ipython', 'math', 'open', 'os', 'quit', 'sys']\n"
     ]
    }
   ],
   "source": [
    "print(dir())"
   ]
  },
  {
   "cell_type": "code",
   "execution_count": 5,
   "id": "2b6b5d14",
   "metadata": {},
   "outputs": [],
   "source": [
    "def sum_two_numbers(a, b):\n",
    "    sum_of_numbers = a+b\n",
    "    return sum_of_numbers"
   ]
  },
  {
   "cell_type": "code",
   "execution_count": 6,
   "id": "857eb7ba",
   "metadata": {
    "scrolled": true
   },
   "outputs": [
    {
     "name": "stdout",
     "output_type": "stream",
     "text": [
      "['In', 'Out', '_', '__', '___', '__builtin__', '__builtins__', '__doc__', '__loader__', '__name__', '__package__', '__spec__', '_dh', '_i', '_i1', '_i2', '_i3', '_i4', '_i5', '_i6', '_ih', '_ii', '_iii', '_oh', 'exit', 'get_ipython', 'math', 'open', 'os', 'quit', 'sum_two_numbers', 'sys']\n"
     ]
    }
   ],
   "source": [
    "print(dir())"
   ]
  },
  {
   "cell_type": "markdown",
   "id": "a1055bf8",
   "metadata": {},
   "source": [
    "### Local Namespace \n",
    "\n",
    "- This namespace is going to contain names defined within a particular function or a code \n",
    "- Everytime a function is being called, a new local namespace is created for that function scope"
   ]
  },
  {
   "cell_type": "code",
   "execution_count": 7,
   "id": "9fa764dd",
   "metadata": {},
   "outputs": [],
   "source": [
    "a = 10\n",
    "\n",
    "def num():\n",
    "    print(a)"
   ]
  },
  {
   "cell_type": "code",
   "execution_count": 8,
   "id": "d9a5fae1",
   "metadata": {},
   "outputs": [
    {
     "name": "stdout",
     "output_type": "stream",
     "text": [
      "10\n"
     ]
    }
   ],
   "source": [
    "num()"
   ]
  },
  {
   "cell_type": "code",
   "execution_count": 12,
   "id": "eb56044a",
   "metadata": {},
   "outputs": [],
   "source": [
    "a = 10\n",
    "\n",
    "def num():\n",
    "    a_1 = 6\n",
    "    print(a)"
   ]
  },
  {
   "cell_type": "code",
   "execution_count": 10,
   "id": "51b3b69a",
   "metadata": {},
   "outputs": [
    {
     "name": "stdout",
     "output_type": "stream",
     "text": [
      "6\n"
     ]
    }
   ],
   "source": [
    "num()"
   ]
  },
  {
   "cell_type": "code",
   "execution_count": 13,
   "id": "6533f34a",
   "metadata": {},
   "outputs": [
    {
     "name": "stdout",
     "output_type": "stream",
     "text": [
      "['In', 'Out', '_', '__', '___', '__builtin__', '__builtins__', '__doc__', '__loader__', '__name__', '__package__', '__spec__', '_dh', '_i', '_i1', '_i10', '_i11', '_i12', '_i13', '_i2', '_i3', '_i4', '_i5', '_i6', '_i7', '_i8', '_i9', '_ih', '_ii', '_iii', '_oh', 'a', 'exit', 'get_ipython', 'math', 'num', 'open', 'os', 'quit', 'sum_two_numbers', 'sys']\n"
     ]
    }
   ],
   "source": [
    "print(dir())"
   ]
  },
  {
   "cell_type": "code",
   "execution_count": 17,
   "id": "ae0a5364",
   "metadata": {},
   "outputs": [
    {
     "name": "stdout",
     "output_type": "stream",
     "text": [
      "{'__name__': '__main__', '__doc__': 'Automatically created module for IPython interactive environment', '__package__': None, '__loader__': None, '__spec__': None, '__builtin__': <module 'builtins' (built-in)>, '__builtins__': <module 'builtins' (built-in)>, '_ih': ['', 'print(dir(__builtins__))', 'print(dir())', 'import sys, os, math ', 'print(dir())', 'def sum_two_numbers(a, b):\\n    sum_of_numbers = a+b\\n    return sum_of_numbers', 'print(dir())', 'a = 10\\n\\ndef num():\\n    print(a)', 'num()', 'a = 10\\n\\ndef num():\\n    a = 6\\n    print(a)', 'num()', 'print(dir())', 'a = 10\\n\\ndef num():\\n    a_1 = 6\\n    print(a)', 'print(dir())', 'print(dir(local))', 'print(dir(__local__\\n         ))', 'locals()', 'print(locals())'], '_oh': {16: {...}}, '_dh': [WindowsPath('C:/Users/Mayank')], 'In': ['', 'print(dir(__builtins__))', 'print(dir())', 'import sys, os, math ', 'print(dir())', 'def sum_two_numbers(a, b):\\n    sum_of_numbers = a+b\\n    return sum_of_numbers', 'print(dir())', 'a = 10\\n\\ndef num():\\n    print(a)', 'num()', 'a = 10\\n\\ndef num():\\n    a = 6\\n    print(a)', 'num()', 'print(dir())', 'a = 10\\n\\ndef num():\\n    a_1 = 6\\n    print(a)', 'print(dir())', 'print(dir(local))', 'print(dir(__local__\\n         ))', 'locals()', 'print(locals())'], 'Out': {16: {...}}, 'get_ipython': <bound method InteractiveShell.get_ipython of <ipykernel.zmqshell.ZMQInteractiveShell object at 0x000001C872B1D950>>, 'exit': <IPython.core.autocall.ZMQExitAutocall object at 0x000001C872B259D0>, 'quit': <IPython.core.autocall.ZMQExitAutocall object at 0x000001C872B259D0>, 'open': <function open at 0x000001C870AB4CC0>, '_': {...}, '__': '', '___': '', '_i': 'locals()', '_ii': 'print(dir(__local__\\n         ))', '_iii': 'print(dir(local))', '_i1': 'print(dir(__builtins__))', '_i2': 'print(dir())', '_i3': 'import sys, os, math ', 'sys': <module 'sys' (built-in)>, 'os': <module 'os' (frozen)>, 'math': <module 'math' (built-in)>, '_i4': 'print(dir())', '_i5': 'def sum_two_numbers(a, b):\\n    sum_of_numbers = a+b\\n    return sum_of_numbers', 'sum_two_numbers': <function sum_two_numbers at 0x000001C872B2E160>, '_i6': 'print(dir())', '_i7': 'a = 10\\n\\ndef num():\\n    print(a)', 'a': 10, 'num': <function num at 0x000001C872B2E2A0>, '_i8': 'num()', '_i9': 'a = 10\\n\\ndef num():\\n    a = 6\\n    print(a)', '_i10': 'num()', '_i11': 'print(dir())', '_i12': 'a = 10\\n\\ndef num():\\n    a_1 = 6\\n    print(a)', '_i13': 'print(dir())', '_i14': 'print(dir(local))', '_i15': 'print(dir(__local__\\n         ))', '_i16': 'locals()', '_16': {...}, '_i17': 'print(locals())'}\n"
     ]
    }
   ],
   "source": [
    "print(locals())"
   ]
  },
  {
   "cell_type": "markdown",
   "id": "a2cc1e56",
   "metadata": {},
   "source": [
    "### if name == 'main'\n",
    "\n",
    "- This is called a construct in a python and it is used to determine whether the Python script (anything written with the extension .py) being run as the main program or if it is being imported as a module to another script"
   ]
  },
  {
   "cell_type": "code",
   "execution_count": 36,
   "id": "ceb6b7e9",
   "metadata": {
    "scrolled": true
   },
   "outputs": [
    {
     "name": "stdout",
     "output_type": "stream",
     "text": [
      " Volume in drive C is Windows\n",
      " Volume Serial Number is 2E31-173E\n",
      "\n",
      " Directory of C:\\Users\\Mayank\n",
      "\n",
      "14-12-2023  20:43    <DIR>          .\n",
      "09-10-2023  10:35    <DIR>          ..\n",
      "07-10-2023  17:59    <DIR>          .anaconda\n",
      "11-12-2023  19:57    <DIR>          .conda\n",
      "07-10-2023  17:59                25 .condarc\n",
      "07-10-2023  17:59    <DIR>          .continuum\n",
      "14-12-2023  19:55    <DIR>          .ipynb_checkpoints\n",
      "07-10-2023  20:06    <DIR>          .ipython\n",
      "03-12-2023  09:22    <DIR>          .jupyter\n",
      "21-10-2023  20:16    <DIR>          .matplotlib\n",
      "07-10-2023  17:36    <DIR>          .ms-ad\n",
      "02-11-2023  10:27    <DIR>          .vscode\n",
      "14-12-2023  20:37    <DIR>          __pycache__\n",
      "11-12-2023  14:54    <DIR>          anaconda3\n",
      "07-10-2023  17:24    <DIR>          Contacts\n",
      "07-12-2023  21:58            27,257 Dictionary Methods and Functions.ipynb\n",
      "25-10-2023  10:46    <DIR>          Documents\n",
      "07-12-2023  17:16             8,350 Doubt_Solving_Session.ipynb\n",
      "13-12-2023  22:01    <DIR>          Downloads\n",
      "07-10-2023  17:24    <DIR>          Favorites\n",
      "12-12-2023  22:11            76,489 Function - 2.ipynb\n",
      "12-12-2023  22:00            16,433 Function-3.ipynb\n",
      "11-12-2023  20:29            29,092 Functions.ipynb\n",
      "07-10-2023  17:24    <DIR>          Links\n",
      "14-12-2023  20:43               182 main_1.py\n",
      "14-12-2023  20:43            11,519 Modules and File handling.ipynb\n",
      "13-12-2023  21:47            38,681 Modules.ipynb\n",
      "07-10-2023  17:24    <DIR>          Music\n",
      "13-12-2023  21:22               128 my_module_1.py\n",
      "09-12-2023  12:21           124,536 Numpy-3.ipynb\n",
      "14-12-2023  19:53    <DIR>          OneDrive\n",
      "10-12-2023  13:49           571,295 Pandas .ipynb\n",
      "10-12-2023  09:24               589 Pandas-2 .ipynb\n",
      "07-12-2023  17:07    <DIR>          Python Class files\n",
      "07-10-2023  17:24    <DIR>          Saved Games\n",
      "09-10-2023  10:29    <DIR>          Searches\n",
      "14-12-2023  13:22             5,406 Untitled.ipynb\n",
      "11-12-2023  14:55            19,020 Untitled1.ipynb\n",
      "07-12-2023  12:55    <DIR>          Videos\n",
      "              15 File(s)        929,002 bytes\n",
      "              24 Dir(s)  117,114,122,240 bytes free\n"
     ]
    }
   ],
   "source": [
    "ls"
   ]
  },
  {
   "cell_type": "code",
   "execution_count": 37,
   "id": "89c9090d",
   "metadata": {},
   "outputs": [],
   "source": [
    "import main_1"
   ]
  },
  {
   "cell_type": "code",
   "execution_count": 38,
   "id": "4bacbe8c",
   "metadata": {},
   "outputs": [
    {
     "data": {
      "text/plain": [
       "17"
      ]
     },
     "execution_count": 38,
     "metadata": {},
     "output_type": "execute_result"
    }
   ],
   "source": [
    "main_1.add_num(9,8)"
   ]
  },
  {
   "cell_type": "code",
   "execution_count": 39,
   "id": "ef18911f",
   "metadata": {},
   "outputs": [
    {
     "data": {
      "text/plain": [
       "1"
      ]
     },
     "execution_count": 39,
     "metadata": {},
     "output_type": "execute_result"
    }
   ],
   "source": [
    "main_1.sub_num(9,8)"
   ]
  },
  {
   "cell_type": "code",
   "execution_count": 40,
   "id": "71a9d97d",
   "metadata": {},
   "outputs": [
    {
     "data": {
      "text/plain": [
       "'Hello guys! Welcome to Python Class by Learnbay'"
      ]
     },
     "execution_count": 40,
     "metadata": {},
     "output_type": "execute_result"
    }
   ],
   "source": [
    "main_1.greet()"
   ]
  },
  {
   "cell_type": "code",
   "execution_count": 41,
   "id": "cc4db03d",
   "metadata": {},
   "outputs": [],
   "source": [
    "%run main_1.py"
   ]
  },
  {
   "cell_type": "code",
   "execution_count": 47,
   "id": "3ac7c458",
   "metadata": {},
   "outputs": [
    {
     "name": "stdout",
     "output_type": "stream",
     "text": [
      " Volume in drive C is Windows\n",
      " Volume Serial Number is 2E31-173E\n",
      "\n",
      " Directory of C:\\Users\\Mayank\n",
      "\n",
      "14-12-2023  20:51    <DIR>          .\n",
      "09-10-2023  10:35    <DIR>          ..\n",
      "07-10-2023  17:59    <DIR>          .anaconda\n",
      "11-12-2023  19:57    <DIR>          .conda\n",
      "07-10-2023  17:59                25 .condarc\n",
      "07-10-2023  17:59    <DIR>          .continuum\n",
      "14-12-2023  19:55    <DIR>          .ipynb_checkpoints\n",
      "07-10-2023  20:06    <DIR>          .ipython\n",
      "03-12-2023  09:22    <DIR>          .jupyter\n",
      "21-10-2023  20:16    <DIR>          .matplotlib\n",
      "07-10-2023  17:36    <DIR>          .ms-ad\n",
      "02-11-2023  10:27    <DIR>          .vscode\n",
      "14-12-2023  20:37    <DIR>          __pycache__\n",
      "11-12-2023  14:54    <DIR>          anaconda3\n",
      "07-10-2023  17:24    <DIR>          Contacts\n",
      "07-12-2023  21:58            27,257 Dictionary Methods and Functions.ipynb\n",
      "25-10-2023  10:46    <DIR>          Documents\n",
      "07-12-2023  17:16             8,350 Doubt_Solving_Session.ipynb\n",
      "13-12-2023  22:01    <DIR>          Downloads\n",
      "07-10-2023  17:24    <DIR>          Favorites\n",
      "12-12-2023  22:11            76,489 Function - 2.ipynb\n",
      "12-12-2023  22:00            16,433 Function-3.ipynb\n",
      "11-12-2023  20:29            29,092 Functions.ipynb\n",
      "07-10-2023  17:24    <DIR>          Links\n",
      "14-12-2023  20:51               364 main_1.py\n",
      "14-12-2023  20:51            18,360 Modules and File handling.ipynb\n",
      "13-12-2023  21:47            38,681 Modules.ipynb\n",
      "07-10-2023  17:24    <DIR>          Music\n",
      "13-12-2023  21:22               128 my_module_1.py\n",
      "09-12-2023  12:21           124,536 Numpy-3.ipynb\n",
      "14-12-2023  19:53    <DIR>          OneDrive\n",
      "10-12-2023  13:49           571,295 Pandas .ipynb\n",
      "10-12-2023  09:24               589 Pandas-2 .ipynb\n",
      "07-12-2023  17:07    <DIR>          Python Class files\n",
      "07-10-2023  17:24    <DIR>          Saved Games\n",
      "09-10-2023  10:29    <DIR>          Searches\n",
      "14-12-2023  13:22             5,406 Untitled.ipynb\n",
      "11-12-2023  14:55            19,020 Untitled1.ipynb\n",
      "07-12-2023  12:55    <DIR>          Videos\n",
      "              15 File(s)        936,025 bytes\n",
      "              24 Dir(s)  117,110,640,640 bytes free\n"
     ]
    }
   ],
   "source": [
    "ls"
   ]
  },
  {
   "cell_type": "code",
   "execution_count": 48,
   "id": "97baf90b",
   "metadata": {},
   "outputs": [],
   "source": [
    "import main_1"
   ]
  },
  {
   "cell_type": "code",
   "execution_count": 49,
   "id": "0e1b366f",
   "metadata": {},
   "outputs": [
    {
     "name": "stdout",
     "output_type": "stream",
     "text": [
      "16 1 63 Hello guys\n"
     ]
    }
   ],
   "source": [
    "%run main_1.py"
   ]
  },
  {
   "cell_type": "code",
   "execution_count": 50,
   "id": "833eb6b5",
   "metadata": {},
   "outputs": [
    {
     "name": "stdout",
     "output_type": "stream",
     "text": [
      " Volume in drive C is Windows\n",
      " Volume Serial Number is 2E31-173E\n",
      "\n",
      " Directory of C:\\Users\\Mayank\n",
      "\n",
      "14-12-2023  20:58    <DIR>          .\n",
      "09-10-2023  10:35    <DIR>          ..\n",
      "07-10-2023  17:59    <DIR>          .anaconda\n",
      "11-12-2023  19:57    <DIR>          .conda\n",
      "07-10-2023  17:59                25 .condarc\n",
      "07-10-2023  17:59    <DIR>          .continuum\n",
      "14-12-2023  19:55    <DIR>          .ipynb_checkpoints\n",
      "07-10-2023  20:06    <DIR>          .ipython\n",
      "03-12-2023  09:22    <DIR>          .jupyter\n",
      "21-10-2023  20:16    <DIR>          .matplotlib\n",
      "07-10-2023  17:36    <DIR>          .ms-ad\n",
      "02-11-2023  10:27    <DIR>          .vscode\n",
      "14-12-2023  20:37    <DIR>          __pycache__\n",
      "11-12-2023  14:54    <DIR>          anaconda3\n",
      "07-10-2023  17:24    <DIR>          Contacts\n",
      "07-12-2023  21:58            27,257 Dictionary Methods and Functions.ipynb\n",
      "25-10-2023  10:46    <DIR>          Documents\n",
      "07-12-2023  17:16             8,350 Doubt_Solving_Session.ipynb\n",
      "13-12-2023  22:01    <DIR>          Downloads\n",
      "07-10-2023  17:24    <DIR>          Favorites\n",
      "12-12-2023  22:11            76,489 Function - 2.ipynb\n",
      "12-12-2023  22:00            16,433 Function-3.ipynb\n",
      "11-12-2023  20:29            29,092 Functions.ipynb\n",
      "07-10-2023  17:24    <DIR>          Links\n",
      "14-12-2023  20:58               500 main_2.py\n",
      "14-12-2023  20:53            18,486 Modules and File handling.ipynb\n",
      "13-12-2023  21:47            38,681 Modules.ipynb\n",
      "07-10-2023  17:24    <DIR>          Music\n",
      "13-12-2023  21:22               128 my_module_1.py\n",
      "09-12-2023  12:21           124,536 Numpy-3.ipynb\n",
      "14-12-2023  19:53    <DIR>          OneDrive\n",
      "10-12-2023  13:49           571,295 Pandas .ipynb\n",
      "10-12-2023  09:24               589 Pandas-2 .ipynb\n",
      "07-12-2023  17:07    <DIR>          Python Class files\n",
      "07-10-2023  17:24    <DIR>          Saved Games\n",
      "09-10-2023  10:29    <DIR>          Searches\n",
      "14-12-2023  13:22             5,406 Untitled.ipynb\n",
      "11-12-2023  14:55            19,020 Untitled1.ipynb\n",
      "07-12-2023  12:55    <DIR>          Videos\n",
      "              15 File(s)        936,287 bytes\n",
      "              24 Dir(s)  117,096,247,296 bytes free\n"
     ]
    }
   ],
   "source": [
    "ls"
   ]
  },
  {
   "cell_type": "code",
   "execution_count": 51,
   "id": "229fc745",
   "metadata": {},
   "outputs": [],
   "source": [
    "import main_2"
   ]
  },
  {
   "cell_type": "code",
   "execution_count": 52,
   "id": "c4ef3215",
   "metadata": {},
   "outputs": [
    {
     "name": "stdout",
     "output_type": "stream",
     "text": [
      "Enter the first number: 100\n",
      "Enter the first number: 50\n",
      "150 50 5000 Hello guys\n"
     ]
    }
   ],
   "source": [
    "%run main_2.py"
   ]
  },
  {
   "cell_type": "code",
   "execution_count": null,
   "id": "21b7b534",
   "metadata": {},
   "outputs": [],
   "source": []
  }
 ],
 "metadata": {
  "kernelspec": {
   "display_name": "Python 3 (ipykernel)",
   "language": "python",
   "name": "python3"
  },
  "language_info": {
   "codemirror_mode": {
    "name": "ipython",
    "version": 3
   },
   "file_extension": ".py",
   "mimetype": "text/x-python",
   "name": "python",
   "nbconvert_exporter": "python",
   "pygments_lexer": "ipython3",
   "version": "3.11.5"
  }
 },
 "nbformat": 4,
 "nbformat_minor": 5
}
