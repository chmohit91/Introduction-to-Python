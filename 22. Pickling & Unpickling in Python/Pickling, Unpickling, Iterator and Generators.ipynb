{
 "cells": [
  {
   "cell_type": "markdown",
   "id": "ff3868ad",
   "metadata": {},
   "source": [
    "### Pickling and Unpickling \n",
    "\n",
    "#### Pickling \n",
    "\n",
    "- It is also known as searlization, it is a process of converting any datatype into the byte format and storing it in a binary file \n",
    "    \n",
    "#### Unpickling\n",
    "\n",
    "- It is also known as desearlization, it is a process of reading the data from the file and converting it into the actual format \n",
    "\n",
    "__Note__:- We are going to use pickle module to achieve pickling and unpickling"
   ]
  },
  {
   "cell_type": "code",
   "execution_count": 1,
   "id": "8c212909",
   "metadata": {},
   "outputs": [],
   "source": [
    "import pickle"
   ]
  },
  {
   "cell_type": "markdown",
   "id": "147ef1cd",
   "metadata": {},
   "source": [
    "### dump()\n",
    "\n",
    "- It is used to pickle a data\n",
    "\n",
    "    Syntax:- \n",
    "        \n",
    "        pickle.dump(data, file_object)"
   ]
  },
  {
   "cell_type": "code",
   "execution_count": 2,
   "id": "eb966443",
   "metadata": {},
   "outputs": [],
   "source": [
    "lst = [1,2,3,4,5]\n",
    "\n",
    "# store the data in lst.dat file "
   ]
  },
  {
   "cell_type": "code",
   "execution_count": 5,
   "id": "5f3fc350",
   "metadata": {},
   "outputs": [],
   "source": [
    "with open('lst.dat', mode = 'wb') as f:\n",
    "    pickle.dump(lst, f)"
   ]
  },
  {
   "cell_type": "code",
   "execution_count": 6,
   "id": "f7858657",
   "metadata": {},
   "outputs": [
    {
     "name": "stdout",
     "output_type": "stream",
     "text": [
      " Volume in drive C is Windows\n",
      " Volume Serial Number is 2E31-173E\n",
      "\n",
      " Directory of C:\\Users\\Mayank\n",
      "\n",
      "19-12-2023  20:11    <DIR>          .\n",
      "09-10-2023  10:35    <DIR>          ..\n",
      "07-10-2023  17:59    <DIR>          .anaconda\n",
      "11-12-2023  19:57    <DIR>          .conda\n",
      "07-10-2023  17:59                25 .condarc\n",
      "07-10-2023  17:59    <DIR>          .continuum\n",
      "19-12-2023  19:57    <DIR>          .ipynb_checkpoints\n",
      "07-10-2023  20:06    <DIR>          .ipython\n",
      "03-12-2023  09:22    <DIR>          .jupyter\n",
      "21-10-2023  20:16    <DIR>          .matplotlib\n",
      "07-10-2023  17:36    <DIR>          .ms-ad\n",
      "02-11-2023  10:27    <DIR>          .vscode\n",
      "14-12-2023  20:58    <DIR>          __pycache__\n",
      "15-12-2023  21:25                12 abcd1.txt\n",
      "18-12-2023  21:09                82 add.py\n",
      "18-12-2023  21:22               108 add_1.py\n",
      "11-12-2023  14:54    <DIR>          anaconda3\n",
      "07-10-2023  17:24    <DIR>          Contacts\n",
      "15-12-2023  21:21               109 data.txt\n",
      "25-10-2023  10:46    <DIR>          Documents\n",
      "18-12-2023  21:54    <DIR>          Downloads\n",
      "07-10-2023  17:24    <DIR>          Favorites\n",
      "18-12-2023  20:13               113 host_1.txt\n",
      "18-12-2023  21:01               114 intro.txt\n",
      "19-12-2023  11:54               132 learn.txt\n",
      "07-10-2023  17:24    <DIR>          Links\n",
      "18-12-2023  21:33                49 loop.py\n",
      "19-12-2023  20:12                26 lst.dat\n",
      "19-12-2023  20:11                26 lst.data\n",
      "14-12-2023  20:58               500 main_2.py\n",
      "16-12-2023  10:41               192 March_employee.csv\n",
      "15-12-2023  20:58               401 mayank.txt\n",
      "07-10-2023  17:24    <DIR>          Music\n",
      "13-12-2023  21:22               128 my_module_1.py\n",
      "19-12-2023  19:53    <DIR>          OneDrive\n",
      "07-12-2023  17:07    <DIR>          Python Class files\n",
      "07-10-2023  17:24    <DIR>          Saved Games\n",
      "09-10-2023  10:29    <DIR>          Searches\n",
      "18-12-2023  21:48                 5 tt.bin\n",
      "19-12-2023  15:11            11,871 Untitled.ipynb\n",
      "19-12-2023  20:11             1,908 Untitled1.ipynb\n",
      "19-12-2023  16:18    <DIR>          Videos\n",
      "15-12-2023  21:40                53 xyz.csv\n",
      "15-12-2023  21:39                12 xyz.txt\n",
      "              20 File(s)         15,866 bytes\n",
      "              24 Dir(s)  121,120,878,592 bytes free\n"
     ]
    }
   ],
   "source": [
    "ls"
   ]
  },
  {
   "cell_type": "code",
   "execution_count": 7,
   "id": "09f72d32",
   "metadata": {},
   "outputs": [],
   "source": [
    "with open('lst.dat', mode = 'rb') as f:\n",
    "    x = f.read()"
   ]
  },
  {
   "cell_type": "code",
   "execution_count": 8,
   "id": "4a822aaa",
   "metadata": {},
   "outputs": [
    {
     "name": "stdout",
     "output_type": "stream",
     "text": [
      "b'\\x80\\x04\\x95\\x0f\\x00\\x00\\x00\\x00\\x00\\x00\\x00]\\x94(K\\x01K\\x02K\\x03K\\x04K\\x05e.'\n"
     ]
    }
   ],
   "source": [
    "print(x)"
   ]
  },
  {
   "cell_type": "markdown",
   "id": "fcc6ea19",
   "metadata": {},
   "source": [
    "### load()\n",
    "\n",
    "- It is used to unpickle the data\n",
    "\n",
    "    Syntax:-\n",
    "    \n",
    "        pickle.load(file_object)"
   ]
  },
  {
   "cell_type": "code",
   "execution_count": 10,
   "id": "394a3814",
   "metadata": {},
   "outputs": [
    {
     "name": "stdout",
     "output_type": "stream",
     "text": [
      "[1, 2, 3, 4, 5]\n"
     ]
    }
   ],
   "source": [
    "with open('lst.dat', mode = 'rb') as f:\n",
    "    print(pickle.load(f))"
   ]
  },
  {
   "cell_type": "code",
   "execution_count": 11,
   "id": "5f5cb68f",
   "metadata": {},
   "outputs": [],
   "source": [
    "emp = {'name':'Ankit', 'age':26, 'city':'Bengaluru', 'salary':95000}"
   ]
  },
  {
   "cell_type": "code",
   "execution_count": 21,
   "id": "608672d9",
   "metadata": {},
   "outputs": [
    {
     "name": "stdout",
     "output_type": "stream",
     "text": [
      "72\n",
      "b'\\x80\\x04\\x95=\\x00\\x00\\x00\\x00\\x00\\x00\\x00}\\x94(\\x8c\\x04name\\x94\\x8c\\x05Ankit\\x94\\x8c\\x03age\\x94K\\x1a\\x8c\\x04city\\x94\\x8c\\tBengaluru\\x94\\x8c\\x06salary\\x94J\\x18s\\x01\\x00u.'\n"
     ]
    }
   ],
   "source": [
    "with open('emp.dat', mode = 'wb+') as f:\n",
    "    pickle.dump(emp, f)\n",
    "    print(f.tell())\n",
    "    f.seek(0)\n",
    "    print(f.read())"
   ]
  },
  {
   "cell_type": "code",
   "execution_count": 19,
   "id": "7437d379",
   "metadata": {},
   "outputs": [
    {
     "name": "stdout",
     "output_type": "stream",
     "text": [
      "{'name': 'Ankit', 'age': 26, 'city': 'Bengaluru', 'salary': 95000}\n"
     ]
    }
   ],
   "source": [
    "with open('emp.dat', mode = 'rb') as x:\n",
    "    print(pickle.load(x))"
   ]
  },
  {
   "cell_type": "markdown",
   "id": "34c32d68",
   "metadata": {},
   "source": [
    "### Iterators and Generators\n",
    "\n",
    "#### Iterables \n",
    "\n",
    "- Any object, over which we can apply loops(especially for loop) are known as itearble\n",
    "- strings, list, tuple, dictionaries, set, frozenset and range\n",
    "- Any object which has the iter method defined in their class is known as an iterable object "
   ]
  },
  {
   "cell_type": "code",
   "execution_count": 22,
   "id": "c3138cd5",
   "metadata": {},
   "outputs": [
    {
     "name": "stdout",
     "output_type": "stream",
     "text": [
      "['__add__', '__class__', '__class_getitem__', '__contains__', '__delattr__', '__delitem__', '__dir__', '__doc__', '__eq__', '__format__', '__ge__', '__getattribute__', '__getitem__', '__getstate__', '__gt__', '__hash__', '__iadd__', '__imul__', '__init__', '__init_subclass__', '__iter__', '__le__', '__len__', '__lt__', '__mul__', '__ne__', '__new__', '__reduce__', '__reduce_ex__', '__repr__', '__reversed__', '__rmul__', '__setattr__', '__setitem__', '__sizeof__', '__str__', '__subclasshook__', 'append', 'clear', 'copy', 'count', 'extend', 'index', 'insert', 'pop', 'remove', 'reverse', 'sort']\n"
     ]
    }
   ],
   "source": [
    "print(dir(list))"
   ]
  },
  {
   "cell_type": "code",
   "execution_count": 23,
   "id": "3c6837bc",
   "metadata": {},
   "outputs": [
    {
     "name": "stdout",
     "output_type": "stream",
     "text": [
      "['__add__', '__class__', '__contains__', '__delattr__', '__dir__', '__doc__', '__eq__', '__format__', '__ge__', '__getattribute__', '__getitem__', '__getnewargs__', '__getstate__', '__gt__', '__hash__', '__init__', '__init_subclass__', '__iter__', '__le__', '__len__', '__lt__', '__mod__', '__mul__', '__ne__', '__new__', '__reduce__', '__reduce_ex__', '__repr__', '__rmod__', '__rmul__', '__setattr__', '__sizeof__', '__str__', '__subclasshook__', 'capitalize', 'casefold', 'center', 'count', 'encode', 'endswith', 'expandtabs', 'find', 'format', 'format_map', 'index', 'isalnum', 'isalpha', 'isascii', 'isdecimal', 'isdigit', 'isidentifier', 'islower', 'isnumeric', 'isprintable', 'isspace', 'istitle', 'isupper', 'join', 'ljust', 'lower', 'lstrip', 'maketrans', 'partition', 'removeprefix', 'removesuffix', 'replace', 'rfind', 'rindex', 'rjust', 'rpartition', 'rsplit', 'rstrip', 'split', 'splitlines', 'startswith', 'strip', 'swapcase', 'title', 'translate', 'upper', 'zfill']\n"
     ]
    }
   ],
   "source": [
    "print(dir(str))"
   ]
  },
  {
   "cell_type": "code",
   "execution_count": 24,
   "id": "fae0c15e",
   "metadata": {},
   "outputs": [
    {
     "name": "stdout",
     "output_type": "stream",
     "text": [
      "['__abs__', '__add__', '__and__', '__bool__', '__ceil__', '__class__', '__delattr__', '__dir__', '__divmod__', '__doc__', '__eq__', '__float__', '__floor__', '__floordiv__', '__format__', '__ge__', '__getattribute__', '__getnewargs__', '__getstate__', '__gt__', '__hash__', '__index__', '__init__', '__init_subclass__', '__int__', '__invert__', '__le__', '__lshift__', '__lt__', '__mod__', '__mul__', '__ne__', '__neg__', '__new__', '__or__', '__pos__', '__pow__', '__radd__', '__rand__', '__rdivmod__', '__reduce__', '__reduce_ex__', '__repr__', '__rfloordiv__', '__rlshift__', '__rmod__', '__rmul__', '__ror__', '__round__', '__rpow__', '__rrshift__', '__rshift__', '__rsub__', '__rtruediv__', '__rxor__', '__setattr__', '__sizeof__', '__str__', '__sub__', '__subclasshook__', '__truediv__', '__trunc__', '__xor__', 'as_integer_ratio', 'bit_count', 'bit_length', 'conjugate', 'denominator', 'from_bytes', 'imag', 'numerator', 'real', 'to_bytes']\n"
     ]
    }
   ],
   "source": [
    "print(dir(int))"
   ]
  },
  {
   "cell_type": "markdown",
   "id": "bf5357e9",
   "metadata": {},
   "source": [
    "### Iterations \n",
    "\n",
    "- Transversing or jumping upon the elements one by one of an itearble object is known as iterations\n",
    "- The number of iteration is equal to the number of elements in an iterable object"
   ]
  },
  {
   "cell_type": "code",
   "execution_count": 25,
   "id": "2064650f",
   "metadata": {},
   "outputs": [
    {
     "name": "stdout",
     "output_type": "stream",
     "text": [
      "p\n",
      "y\n",
      "t\n",
      "h\n",
      "o\n",
      "n\n"
     ]
    }
   ],
   "source": [
    "s = 'python'\n",
    "\n",
    "for i in s:\n",
    "    print(i)"
   ]
  },
  {
   "cell_type": "markdown",
   "id": "040017ec",
   "metadata": {},
   "source": [
    "__Note__:- We cannot directly fetch the elements from an iterable one by one "
   ]
  },
  {
   "cell_type": "markdown",
   "id": "eeaea0a5",
   "metadata": {},
   "source": [
    "#### How the elements are fetched from an itearble object one by one \n",
    "\n",
    "- __Step-1__ :- Convert the iterable object to an iterator object \n",
    "- __Step-2__ :- Fetch the elements from an iterator object using a __next__ method"
   ]
  },
  {
   "cell_type": "markdown",
   "id": "4523192f",
   "metadata": {},
   "source": [
    "### Iterator Object \n",
    "\n",
    "- Any object, which has __iter__ and __next__ method defined in their class, are knwon as iterator object\n",
    "- __Example__:- filter, map, reduce, enumerate, zip"
   ]
  },
  {
   "cell_type": "code",
   "execution_count": 27,
   "id": "09476051",
   "metadata": {},
   "outputs": [],
   "source": [
    "my_str = 'Python'"
   ]
  },
  {
   "cell_type": "code",
   "execution_count": 28,
   "id": "1dbd99ce",
   "metadata": {},
   "outputs": [
    {
     "name": "stdout",
     "output_type": "stream",
     "text": [
      "<str_ascii_iterator object at 0x000001CA381251B0>\n"
     ]
    }
   ],
   "source": [
    "x = iter(my_str)\n",
    "print(x)"
   ]
  },
  {
   "cell_type": "code",
   "execution_count": 29,
   "id": "628a02f2",
   "metadata": {},
   "outputs": [
    {
     "data": {
      "text/plain": [
       "'P'"
      ]
     },
     "execution_count": 29,
     "metadata": {},
     "output_type": "execute_result"
    }
   ],
   "source": [
    "next(x)"
   ]
  },
  {
   "cell_type": "code",
   "execution_count": 31,
   "id": "b0a0cc75",
   "metadata": {},
   "outputs": [
    {
     "data": {
      "text/plain": [
       "'y'"
      ]
     },
     "execution_count": 31,
     "metadata": {},
     "output_type": "execute_result"
    }
   ],
   "source": [
    "next(x)"
   ]
  },
  {
   "cell_type": "code",
   "execution_count": 33,
   "id": "05844379",
   "metadata": {},
   "outputs": [
    {
     "data": {
      "text/plain": [
       "'t'"
      ]
     },
     "execution_count": 33,
     "metadata": {},
     "output_type": "execute_result"
    }
   ],
   "source": [
    "next(x)"
   ]
  },
  {
   "cell_type": "code",
   "execution_count": 34,
   "id": "3f15159c",
   "metadata": {},
   "outputs": [
    {
     "data": {
      "text/plain": [
       "'h'"
      ]
     },
     "execution_count": 34,
     "metadata": {},
     "output_type": "execute_result"
    }
   ],
   "source": [
    "next(x)"
   ]
  },
  {
   "cell_type": "code",
   "execution_count": 35,
   "id": "107a6926",
   "metadata": {},
   "outputs": [
    {
     "data": {
      "text/plain": [
       "'o'"
      ]
     },
     "execution_count": 35,
     "metadata": {},
     "output_type": "execute_result"
    }
   ],
   "source": [
    "next(x)"
   ]
  },
  {
   "cell_type": "code",
   "execution_count": 36,
   "id": "856ef2ab",
   "metadata": {},
   "outputs": [
    {
     "data": {
      "text/plain": [
       "'n'"
      ]
     },
     "execution_count": 36,
     "metadata": {},
     "output_type": "execute_result"
    }
   ],
   "source": [
    "next(x)"
   ]
  },
  {
   "cell_type": "code",
   "execution_count": 37,
   "id": "d7f9a137",
   "metadata": {},
   "outputs": [
    {
     "ename": "StopIteration",
     "evalue": "",
     "output_type": "error",
     "traceback": [
      "\u001b[1;31m---------------------------------------------------------------------------\u001b[0m",
      "\u001b[1;31mStopIteration\u001b[0m                             Traceback (most recent call last)",
      "Cell \u001b[1;32mIn[37], line 1\u001b[0m\n\u001b[1;32m----> 1\u001b[0m \u001b[38;5;28mnext\u001b[39m(x)\n",
      "\u001b[1;31mStopIteration\u001b[0m: "
     ]
    }
   ],
   "source": [
    "next(x)"
   ]
  },
  {
   "cell_type": "code",
   "execution_count": 38,
   "id": "1fc9a997",
   "metadata": {},
   "outputs": [
    {
     "name": "stdout",
     "output_type": "stream",
     "text": [
      "0 P\n",
      "1 y\n",
      "2 t\n",
      "3 h\n",
      "4 o\n",
      "5 n\n"
     ]
    }
   ],
   "source": [
    "for i, j in enumerate(my_str):\n",
    "    print(i,j)"
   ]
  },
  {
   "cell_type": "code",
   "execution_count": 39,
   "id": "39f0943d",
   "metadata": {},
   "outputs": [
    {
     "name": "stdout",
     "output_type": "stream",
     "text": [
      "['__class__', '__class_getitem__', '__delattr__', '__dir__', '__doc__', '__eq__', '__format__', '__ge__', '__getattribute__', '__getstate__', '__gt__', '__hash__', '__init__', '__init_subclass__', '__iter__', '__le__', '__lt__', '__ne__', '__new__', '__next__', '__reduce__', '__reduce_ex__', '__repr__', '__setattr__', '__sizeof__', '__str__', '__subclasshook__']\n"
     ]
    }
   ],
   "source": [
    "print(dir(enumerate))"
   ]
  },
  {
   "cell_type": "code",
   "execution_count": 41,
   "id": "97de9eab",
   "metadata": {},
   "outputs": [
    {
     "name": "stdout",
     "output_type": "stream",
     "text": [
      "['__class__', '__delattr__', '__dir__', '__doc__', '__eq__', '__format__', '__ge__', '__getattribute__', '__getstate__', '__gt__', '__hash__', '__init__', '__init_subclass__', '__iter__', '__le__', '__lt__', '__ne__', '__new__', '__next__', '__reduce__', '__reduce_ex__', '__repr__', '__setattr__', '__sizeof__', '__str__', '__subclasshook__']\n"
     ]
    }
   ],
   "source": [
    "print(dir(filter))"
   ]
  },
  {
   "cell_type": "code",
   "execution_count": 42,
   "id": "d89bfc15",
   "metadata": {},
   "outputs": [],
   "source": [
    "a = [1,2,3,4]"
   ]
  },
  {
   "cell_type": "code",
   "execution_count": 44,
   "id": "73189876",
   "metadata": {},
   "outputs": [
    {
     "name": "stdout",
     "output_type": "stream",
     "text": [
      "['__add__', '__class__', '__class_getitem__', '__contains__', '__delattr__', '__delitem__', '__dir__', '__doc__', '__eq__', '__format__', '__ge__', '__getattribute__', '__getitem__', '__getstate__', '__gt__', '__hash__', '__iadd__', '__imul__', '__init__', '__init_subclass__', '__iter__', '__le__', '__len__', '__lt__', '__mul__', '__ne__', '__new__', '__reduce__', '__reduce_ex__', '__repr__', '__reversed__', '__rmul__', '__setattr__', '__setitem__', '__sizeof__', '__str__', '__subclasshook__', 'append', 'clear', 'copy', 'count', 'extend', 'index', 'insert', 'pop', 'remove', 'reverse', 'sort']\n"
     ]
    }
   ],
   "source": [
    "print(dir(a))"
   ]
  },
  {
   "cell_type": "code",
   "execution_count": 45,
   "id": "3f22aae2",
   "metadata": {},
   "outputs": [
    {
     "name": "stdout",
     "output_type": "stream",
     "text": [
      "['__bool__', '__class__', '__contains__', '__delattr__', '__dir__', '__doc__', '__eq__', '__format__', '__ge__', '__getattribute__', '__getitem__', '__getstate__', '__gt__', '__hash__', '__init__', '__init_subclass__', '__iter__', '__le__', '__len__', '__lt__', '__ne__', '__new__', '__reduce__', '__reduce_ex__', '__repr__', '__reversed__', '__setattr__', '__sizeof__', '__str__', '__subclasshook__', 'count', 'index', 'start', 'step', 'stop']\n"
     ]
    }
   ],
   "source": [
    "print(dir(range))"
   ]
  },
  {
   "cell_type": "code",
   "execution_count": 47,
   "id": "7b23d1bc",
   "metadata": {},
   "outputs": [],
   "source": [
    "my_str = 'Mayank'\n",
    "itr = iter(my_str)"
   ]
  },
  {
   "cell_type": "code",
   "execution_count": 48,
   "id": "eaedd582",
   "metadata": {},
   "outputs": [
    {
     "name": "stdout",
     "output_type": "stream",
     "text": [
      "M\n"
     ]
    }
   ],
   "source": [
    "i = next(itr)\n",
    "print(i)"
   ]
  },
  {
   "cell_type": "code",
   "execution_count": 49,
   "id": "f0be7e85",
   "metadata": {},
   "outputs": [
    {
     "name": "stdout",
     "output_type": "stream",
     "text": [
      "a\n"
     ]
    }
   ],
   "source": [
    "i = next(itr)\n",
    "print(i)"
   ]
  },
  {
   "cell_type": "code",
   "execution_count": 50,
   "id": "8afb8c7e",
   "metadata": {},
   "outputs": [
    {
     "name": "stdout",
     "output_type": "stream",
     "text": [
      "y\n"
     ]
    }
   ],
   "source": [
    "i = next(itr)\n",
    "print(i)"
   ]
  },
  {
   "cell_type": "code",
   "execution_count": 51,
   "id": "f8abd838",
   "metadata": {},
   "outputs": [
    {
     "name": "stdout",
     "output_type": "stream",
     "text": [
      "a\n"
     ]
    }
   ],
   "source": [
    "i = next(itr)\n",
    "print(i)"
   ]
  },
  {
   "cell_type": "code",
   "execution_count": 52,
   "id": "20eeab4b",
   "metadata": {},
   "outputs": [
    {
     "name": "stdout",
     "output_type": "stream",
     "text": [
      "n\n"
     ]
    }
   ],
   "source": [
    "i = next(itr)\n",
    "print(i)"
   ]
  },
  {
   "cell_type": "code",
   "execution_count": 53,
   "id": "40fa13cd",
   "metadata": {},
   "outputs": [
    {
     "name": "stdout",
     "output_type": "stream",
     "text": [
      "k\n"
     ]
    }
   ],
   "source": [
    "i = next(itr)\n",
    "print(i)"
   ]
  },
  {
   "cell_type": "code",
   "execution_count": 54,
   "id": "f2a86077",
   "metadata": {},
   "outputs": [
    {
     "ename": "StopIteration",
     "evalue": "",
     "output_type": "error",
     "traceback": [
      "\u001b[1;31m---------------------------------------------------------------------------\u001b[0m",
      "\u001b[1;31mStopIteration\u001b[0m                             Traceback (most recent call last)",
      "Cell \u001b[1;32mIn[54], line 1\u001b[0m\n\u001b[1;32m----> 1\u001b[0m i \u001b[38;5;241m=\u001b[39m \u001b[38;5;28mnext\u001b[39m(itr)\n\u001b[0;32m      2\u001b[0m \u001b[38;5;28mprint\u001b[39m(i)\n",
      "\u001b[1;31mStopIteration\u001b[0m: "
     ]
    }
   ],
   "source": [
    "i = next(itr)\n",
    "print(i)"
   ]
  },
  {
   "cell_type": "code",
   "execution_count": 56,
   "id": "dfa00cb0",
   "metadata": {},
   "outputs": [
    {
     "name": "stdout",
     "output_type": "stream",
     "text": [
      "0\n",
      "2\n",
      "4\n",
      "6\n",
      "8\n"
     ]
    }
   ],
   "source": [
    "lst=[1,2,3,4,5,6,7,8,9,0]\n",
    "for i in range(0,len(lst),2): #0,2,4,6,8\n",
    "    print(i)"
   ]
  },
  {
   "cell_type": "code",
   "execution_count": 58,
   "id": "8bdc7b51",
   "metadata": {},
   "outputs": [
    {
     "data": {
      "text/plain": [
       "range(0, 10, 2)"
      ]
     },
     "execution_count": 58,
     "metadata": {},
     "output_type": "execute_result"
    }
   ],
   "source": [
    "a = range(0, len(lst), 2)\n",
    "a"
   ]
  },
  {
   "cell_type": "code",
   "execution_count": 59,
   "id": "e76fac1a",
   "metadata": {},
   "outputs": [],
   "source": [
    "itr = iter(a)"
   ]
  },
  {
   "cell_type": "code",
   "execution_count": 60,
   "id": "1ddf22a4",
   "metadata": {},
   "outputs": [
    {
     "data": {
      "text/plain": [
       "0"
      ]
     },
     "execution_count": 60,
     "metadata": {},
     "output_type": "execute_result"
    }
   ],
   "source": [
    "next(itr)"
   ]
  },
  {
   "cell_type": "code",
   "execution_count": 61,
   "id": "cb7edc36",
   "metadata": {},
   "outputs": [
    {
     "data": {
      "text/plain": [
       "2"
      ]
     },
     "execution_count": 61,
     "metadata": {},
     "output_type": "execute_result"
    }
   ],
   "source": [
    "next(itr)"
   ]
  },
  {
   "cell_type": "code",
   "execution_count": 62,
   "id": "ece9af0c",
   "metadata": {},
   "outputs": [
    {
     "data": {
      "text/plain": [
       "4"
      ]
     },
     "execution_count": 62,
     "metadata": {},
     "output_type": "execute_result"
    }
   ],
   "source": [
    "next(itr)"
   ]
  },
  {
   "cell_type": "code",
   "execution_count": 63,
   "id": "0abc5c4e",
   "metadata": {},
   "outputs": [
    {
     "data": {
      "text/plain": [
       "6"
      ]
     },
     "execution_count": 63,
     "metadata": {},
     "output_type": "execute_result"
    }
   ],
   "source": [
    "next(itr)"
   ]
  },
  {
   "cell_type": "code",
   "execution_count": 64,
   "id": "8d0dd075",
   "metadata": {},
   "outputs": [
    {
     "data": {
      "text/plain": [
       "8"
      ]
     },
     "execution_count": 64,
     "metadata": {},
     "output_type": "execute_result"
    }
   ],
   "source": [
    "next(itr)"
   ]
  },
  {
   "cell_type": "code",
   "execution_count": 71,
   "id": "cc20a728",
   "metadata": {},
   "outputs": [
    {
     "name": "stdout",
     "output_type": "stream",
     "text": [
      "0\n",
      "2\n",
      "4\n",
      "6\n",
      "8\n"
     ]
    }
   ],
   "source": [
    "a = range(0, len(lst), 2)\n",
    "\n",
    "itr = iter(a)\n",
    "\n",
    "i = next(itr)\n",
    "print(i)\n",
    "i = next(itr)\n",
    "print(i)\n",
    "i = next(itr)\n",
    "print(i)\n",
    "i = next(itr)\n",
    "print(i)\n",
    "i = next(itr)\n",
    "print(i)"
   ]
  },
  {
   "cell_type": "code",
   "execution_count": 72,
   "id": "43deed25",
   "metadata": {},
   "outputs": [
    {
     "name": "stdout",
     "output_type": "stream",
     "text": [
      "0\n",
      "2\n",
      "4\n",
      "6\n",
      "8\n"
     ]
    }
   ],
   "source": [
    "for x in range(0,len(lst), 2):\n",
    "    print(x)"
   ]
  },
  {
   "cell_type": "markdown",
   "id": "fa01d8d4",
   "metadata": {},
   "source": [
    "### Generators "
   ]
  },
  {
   "cell_type": "markdown",
   "id": "1e3e8fe1",
   "metadata": {},
   "source": [
    "- A generator object is used to create a user defined iterator object \n",
    "- A generator object is an iterator object "
   ]
  },
  {
   "cell_type": "markdown",
   "id": "05eb1c3f",
   "metadata": {},
   "source": [
    "### How to create a generator object\n",
    "\n",
    "- 1. Tuple Comprehension\n",
    "- 2. Generator Function"
   ]
  },
  {
   "cell_type": "markdown",
   "id": "e3da6708",
   "metadata": {},
   "source": [
    "### Tuple comprehension \n",
    "\n",
    "- It is something similar to the list comprehension\n",
    "- A tuple comprehension return a generator object"
   ]
  },
  {
   "cell_type": "code",
   "execution_count": 74,
   "id": "5bc4ee6f",
   "metadata": {},
   "outputs": [
    {
     "data": {
      "text/plain": [
       "<generator object <genexpr> at 0x000001CA387D7780>"
      ]
     },
     "execution_count": 74,
     "metadata": {},
     "output_type": "execute_result"
    }
   ],
   "source": [
    "t = (i for i in range(19))\n",
    "t"
   ]
  },
  {
   "cell_type": "code",
   "execution_count": 76,
   "id": "abcd81ae",
   "metadata": {},
   "outputs": [
    {
     "data": {
      "text/plain": [
       "0"
      ]
     },
     "execution_count": 76,
     "metadata": {},
     "output_type": "execute_result"
    }
   ],
   "source": [
    "next(t)"
   ]
  },
  {
   "cell_type": "code",
   "execution_count": 77,
   "id": "786bd916",
   "metadata": {},
   "outputs": [
    {
     "data": {
      "text/plain": [
       "1"
      ]
     },
     "execution_count": 77,
     "metadata": {},
     "output_type": "execute_result"
    }
   ],
   "source": [
    "next(t)"
   ]
  },
  {
   "cell_type": "code",
   "execution_count": 78,
   "id": "e4580e7b",
   "metadata": {},
   "outputs": [
    {
     "data": {
      "text/plain": [
       "2"
      ]
     },
     "execution_count": 78,
     "metadata": {},
     "output_type": "execute_result"
    }
   ],
   "source": [
    "next(t)"
   ]
  },
  {
   "cell_type": "code",
   "execution_count": 79,
   "id": "d63465b3",
   "metadata": {},
   "outputs": [
    {
     "data": {
      "text/plain": [
       "3"
      ]
     },
     "execution_count": 79,
     "metadata": {},
     "output_type": "execute_result"
    }
   ],
   "source": [
    "next(t)"
   ]
  },
  {
   "cell_type": "code",
   "execution_count": 80,
   "id": "bb79470a",
   "metadata": {},
   "outputs": [
    {
     "data": {
      "text/plain": [
       "4"
      ]
     },
     "execution_count": 80,
     "metadata": {},
     "output_type": "execute_result"
    }
   ],
   "source": [
    "next(t)"
   ]
  },
  {
   "cell_type": "markdown",
   "id": "a9c37cc8",
   "metadata": {},
   "source": [
    "### How to fetch the elements from a Generator object?\n",
    "\n",
    "- Apply next() again and again \n",
    "- for loop"
   ]
  },
  {
   "cell_type": "code",
   "execution_count": 81,
   "id": "1176c7d1",
   "metadata": {},
   "outputs": [
    {
     "name": "stdout",
     "output_type": "stream",
     "text": [
      "5\n",
      "6\n",
      "7\n",
      "8\n",
      "9\n",
      "10\n",
      "11\n",
      "12\n",
      "13\n",
      "14\n",
      "15\n",
      "16\n",
      "17\n",
      "18\n"
     ]
    }
   ],
   "source": [
    "for i in t:\n",
    "    print(i)"
   ]
  },
  {
   "cell_type": "code",
   "execution_count": 82,
   "id": "9506d803",
   "metadata": {},
   "outputs": [],
   "source": [
    "for i in t:\n",
    "    print(i)"
   ]
  },
  {
   "cell_type": "markdown",
   "id": "affd7ba0",
   "metadata": {},
   "source": [
    "### Why we are using Generator object?\n",
    "\n",
    "- A generator object is used for memory efficient operations\n",
    "- It generates one value at a time in the memory"
   ]
  },
  {
   "cell_type": "code",
   "execution_count": 85,
   "id": "c0536447",
   "metadata": {},
   "outputs": [],
   "source": [
    "import sys"
   ]
  },
  {
   "cell_type": "code",
   "execution_count": 89,
   "id": "2ef8a765",
   "metadata": {
    "scrolled": true
   },
   "outputs": [
    {
     "name": "stdout",
     "output_type": "stream",
     "text": [
      "8448728\n"
     ]
    }
   ],
   "source": [
    "lst =[ i for i in range(1000000)]\n",
    "print(sys.getsizeof(lst))"
   ]
  },
  {
   "cell_type": "code",
   "execution_count": 87,
   "id": "86003002",
   "metadata": {},
   "outputs": [
    {
     "name": "stdout",
     "output_type": "stream",
     "text": [
      "200\n"
     ]
    }
   ],
   "source": [
    "t = (i for i in range(1000000))\n",
    "print(sys.getsizeof(t))"
   ]
  },
  {
   "cell_type": "code",
   "execution_count": 90,
   "id": "f231e042",
   "metadata": {},
   "outputs": [
    {
     "data": {
      "text/plain": [
       "0"
      ]
     },
     "execution_count": 90,
     "metadata": {},
     "output_type": "execute_result"
    }
   ],
   "source": [
    "i = next(t)\n",
    "i"
   ]
  },
  {
   "cell_type": "code",
   "execution_count": 91,
   "id": "82f677da",
   "metadata": {},
   "outputs": [
    {
     "data": {
      "text/plain": [
       "1"
      ]
     },
     "execution_count": 91,
     "metadata": {},
     "output_type": "execute_result"
    }
   ],
   "source": [
    "i = next(t)\n",
    "i"
   ]
  },
  {
   "cell_type": "markdown",
   "id": "5ef8d036",
   "metadata": {},
   "source": [
    "### 2. Generator function"
   ]
  },
  {
   "cell_type": "markdown",
   "id": "87f0551c",
   "metadata": {},
   "source": [
    "- A generator function will return a generator object"
   ]
  },
  {
   "cell_type": "code",
   "execution_count": 93,
   "id": "d720d4f8",
   "metadata": {},
   "outputs": [],
   "source": [
    "def function_name():\n",
    "    yield value\n",
    "    yield value"
   ]
  },
  {
   "cell_type": "code",
   "execution_count": 94,
   "id": "808e5381",
   "metadata": {},
   "outputs": [],
   "source": [
    "def gen():\n",
    "    yield 'Hello'\n",
    "    yield 'Python'\n",
    "    yield 10+20j\n",
    "    yield True"
   ]
  },
  {
   "cell_type": "code",
   "execution_count": 95,
   "id": "d868a101",
   "metadata": {},
   "outputs": [
    {
     "data": {
      "text/plain": [
       "<generator object gen at 0x000001CA38A0E140>"
      ]
     },
     "execution_count": 95,
     "metadata": {},
     "output_type": "execute_result"
    }
   ],
   "source": [
    "x = gen()\n",
    "x"
   ]
  },
  {
   "cell_type": "code",
   "execution_count": 96,
   "id": "39e10325",
   "metadata": {},
   "outputs": [
    {
     "data": {
      "text/plain": [
       "'Hello'"
      ]
     },
     "execution_count": 96,
     "metadata": {},
     "output_type": "execute_result"
    }
   ],
   "source": [
    "next(x)"
   ]
  },
  {
   "cell_type": "code",
   "execution_count": 97,
   "id": "7c69fa4e",
   "metadata": {},
   "outputs": [
    {
     "data": {
      "text/plain": [
       "'Python'"
      ]
     },
     "execution_count": 97,
     "metadata": {},
     "output_type": "execute_result"
    }
   ],
   "source": [
    "next(x)"
   ]
  },
  {
   "cell_type": "code",
   "execution_count": 98,
   "id": "39acadcb",
   "metadata": {},
   "outputs": [
    {
     "data": {
      "text/plain": [
       "(10+20j)"
      ]
     },
     "execution_count": 98,
     "metadata": {},
     "output_type": "execute_result"
    }
   ],
   "source": [
    "next(x)"
   ]
  },
  {
   "cell_type": "code",
   "execution_count": 99,
   "id": "2f0c235f",
   "metadata": {},
   "outputs": [
    {
     "data": {
      "text/plain": [
       "True"
      ]
     },
     "execution_count": 99,
     "metadata": {},
     "output_type": "execute_result"
    }
   ],
   "source": [
    "next(x)"
   ]
  },
  {
   "cell_type": "markdown",
   "id": "181aef4e",
   "metadata": {},
   "source": [
    "### Return vs Yield \n",
    "\n",
    "- return statement terminate the function declaration\n",
    "- yield stataemnet pauses teh function\n",
    "- yield stataemnt does not terminates the function\n",
    "- When we call next() on generator object, then it will return the next yield value and pauses the function until we call the next method again"
   ]
  },
  {
   "cell_type": "code",
   "execution_count": 105,
   "id": "c7610b01",
   "metadata": {},
   "outputs": [],
   "source": [
    "def greet():\n",
    "    print(\"Hello\")\n",
    "    return \"Hello\""
   ]
  },
  {
   "cell_type": "code",
   "execution_count": 106,
   "id": "95fa6e46",
   "metadata": {},
   "outputs": [
    {
     "name": "stdout",
     "output_type": "stream",
     "text": [
      "Hello\n"
     ]
    }
   ],
   "source": [
    "x = greet()"
   ]
  },
  {
   "cell_type": "code",
   "execution_count": 107,
   "id": "3d34ef55",
   "metadata": {},
   "outputs": [
    {
     "ename": "TypeError",
     "evalue": "'str' object is not an iterator",
     "output_type": "error",
     "traceback": [
      "\u001b[1;31m---------------------------------------------------------------------------\u001b[0m",
      "\u001b[1;31mTypeError\u001b[0m                                 Traceback (most recent call last)",
      "Cell \u001b[1;32mIn[107], line 1\u001b[0m\n\u001b[1;32m----> 1\u001b[0m \u001b[38;5;28mnext\u001b[39m(x)\n",
      "\u001b[1;31mTypeError\u001b[0m: 'str' object is not an iterator"
     ]
    }
   ],
   "source": [
    "next(x)"
   ]
  },
  {
   "cell_type": "code",
   "execution_count": 100,
   "id": "ce1852eb",
   "metadata": {},
   "outputs": [],
   "source": [
    "def values():\n",
    "    print(\"Hello\")\n",
    "    print('Python')\n",
    "    \n",
    "    yield [1,2,3,4]\n",
    "    \n",
    "    print('Data analyst')\n",
    "    print('Business analyst')\n",
    "    \n",
    "    yield {1:10, 2:20}\n",
    "    \n",
    "    print('Thankyou')"
   ]
  },
  {
   "cell_type": "code",
   "execution_count": 101,
   "id": "8554c112",
   "metadata": {},
   "outputs": [
    {
     "data": {
      "text/plain": [
       "<generator object values at 0x000001CA38321E40>"
      ]
     },
     "execution_count": 101,
     "metadata": {},
     "output_type": "execute_result"
    }
   ],
   "source": [
    "x = values()\n",
    "x"
   ]
  },
  {
   "cell_type": "code",
   "execution_count": 102,
   "id": "da9eca90",
   "metadata": {},
   "outputs": [
    {
     "name": "stdout",
     "output_type": "stream",
     "text": [
      "Hello\n",
      "Python\n"
     ]
    },
    {
     "data": {
      "text/plain": [
       "[1, 2, 3, 4]"
      ]
     },
     "execution_count": 102,
     "metadata": {},
     "output_type": "execute_result"
    }
   ],
   "source": [
    "next(x)"
   ]
  },
  {
   "cell_type": "code",
   "execution_count": 103,
   "id": "86c2d71a",
   "metadata": {},
   "outputs": [
    {
     "name": "stdout",
     "output_type": "stream",
     "text": [
      "Data analyst\n",
      "Business analyst\n"
     ]
    },
    {
     "data": {
      "text/plain": [
       "{1: 10, 2: 20}"
      ]
     },
     "execution_count": 103,
     "metadata": {},
     "output_type": "execute_result"
    }
   ],
   "source": [
    "next(x)"
   ]
  },
  {
   "cell_type": "code",
   "execution_count": 104,
   "id": "85346fa2",
   "metadata": {},
   "outputs": [
    {
     "name": "stdout",
     "output_type": "stream",
     "text": [
      "Thankyou\n"
     ]
    },
    {
     "ename": "StopIteration",
     "evalue": "",
     "output_type": "error",
     "traceback": [
      "\u001b[1;31m---------------------------------------------------------------------------\u001b[0m",
      "\u001b[1;31mStopIteration\u001b[0m                             Traceback (most recent call last)",
      "Cell \u001b[1;32mIn[104], line 1\u001b[0m\n\u001b[1;32m----> 1\u001b[0m \u001b[38;5;28mnext\u001b[39m(x)\n",
      "\u001b[1;31mStopIteration\u001b[0m: "
     ]
    }
   ],
   "source": [
    "next(x)"
   ]
  },
  {
   "cell_type": "markdown",
   "id": "cf686326",
   "metadata": {},
   "source": [
    "### Defined function vs Generator function "
   ]
  },
  {
   "cell_type": "markdown",
   "id": "124500d2",
   "metadata": {},
   "source": [
    "#### Defined Function \n",
    "\n",
    "- Definition : - A regular function is created using a def keyword and typically uses return statemenr to send a value back to the caller \n",
    "- Execution :- When a regular function is called, its executes the entire function body and the result are retruned to the caller\n",
    "- Memory: - All the functions results are stored in the memory until the function completes its execution "
   ]
  },
  {
   "cell_type": "markdown",
   "id": "e047ec85",
   "metadata": {},
   "source": [
    "#### Generator Functions\n",
    "\n",
    "- Definition:- It also uses the def keyword and a yield statement to produce a series of values lazily\n",
    "- Execution:- When a generator function is called, it returns a generator iterator and the function body is not executed immediately, the code inside the generator is executed only whem the generator is iterated over or we are using next method\n",
    "- Memory: - Generates a value at a time, so it can be memory efficiet for large dataset as it doesnot store all the result in the memory simulataeously"
   ]
  },
  {
   "cell_type": "code",
   "execution_count": 111,
   "id": "8bd068e8",
   "metadata": {},
   "outputs": [],
   "source": [
    "def values():\n",
    "    print(\"Hello\")\n",
    "    print('Python')\n",
    "    \n",
    "    yield [1,2,3,4]\n",
    "    \n",
    "    print('Data analyst')\n",
    "    print('Business analyst')\n",
    "    \n",
    "    yield {1:10, 2:20}\n",
    "    \n",
    "    print('Thankyou')"
   ]
  },
  {
   "cell_type": "code",
   "execution_count": 113,
   "id": "9c2078ff",
   "metadata": {},
   "outputs": [],
   "source": [
    "x = values()"
   ]
  },
  {
   "cell_type": "code",
   "execution_count": 114,
   "id": "58a2925b",
   "metadata": {},
   "outputs": [
    {
     "name": "stdout",
     "output_type": "stream",
     "text": [
      "Hello\n",
      "Python\n",
      "[1, 2, 3, 4]\n",
      "Data analyst\n",
      "Business analyst\n",
      "{1: 10, 2: 20}\n",
      "Thankyou\n"
     ]
    }
   ],
   "source": [
    "for i in x:\n",
    "    print(i)"
   ]
  },
  {
   "cell_type": "code",
   "execution_count": null,
   "id": "80f36e87",
   "metadata": {},
   "outputs": [],
   "source": []
  }
 ],
 "metadata": {
  "kernelspec": {
   "display_name": "Python 3 (ipykernel)",
   "language": "python",
   "name": "python3"
  },
  "language_info": {
   "codemirror_mode": {
    "name": "ipython",
    "version": 3
   },
   "file_extension": ".py",
   "mimetype": "text/x-python",
   "name": "python",
   "nbconvert_exporter": "python",
   "pygments_lexer": "ipython3",
   "version": "3.11.5"
  }
 },
 "nbformat": 4,
 "nbformat_minor": 5
}
