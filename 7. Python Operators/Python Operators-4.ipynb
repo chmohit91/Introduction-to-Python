{
 "cells": [
  {
   "cell_type": "markdown",
   "id": "8ce5addb",
   "metadata": {},
   "source": [
    "### Bitwise Right shift Operator (>>)\n",
    "\n",
    "Steps for Bitwise Right Shift Operator:-\n",
    "\n",
    "    - convert the number into a binary digit \n",
    "    - Express the binary didgit into a 32 bit format \n",
    "    - Remove the specified numbers of bits from right and add the same number of 0's on the left hand side \n",
    "    - convert it to number "
   ]
  },
  {
   "cell_type": "code",
   "execution_count": 5,
   "id": "3d25ccad",
   "metadata": {},
   "outputs": [
    {
     "data": {
      "text/plain": [
       "11"
      ]
     },
     "execution_count": 5,
     "metadata": {},
     "output_type": "execute_result"
    }
   ],
   "source": [
    "45>>2"
   ]
  },
  {
   "cell_type": "code",
   "execution_count": 1,
   "id": "8c1e7f0b",
   "metadata": {},
   "outputs": [
    {
     "data": {
      "text/plain": [
       "'0b101101'"
      ]
     },
     "execution_count": 1,
     "metadata": {},
     "output_type": "execute_result"
    }
   ],
   "source": [
    "bin(45)"
   ]
  },
  {
   "cell_type": "code",
   "execution_count": null,
   "id": "86532769",
   "metadata": {},
   "outputs": [],
   "source": [
    "00000000000000000000000000001011"
   ]
  },
  {
   "cell_type": "code",
   "execution_count": 4,
   "id": "b5207ecd",
   "metadata": {},
   "outputs": [
    {
     "data": {
      "text/plain": [
       "11"
      ]
     },
     "execution_count": 4,
     "metadata": {},
     "output_type": "execute_result"
    }
   ],
   "source": [
    "0b00000000000000000000000000001011"
   ]
  },
  {
   "cell_type": "code",
   "execution_count": null,
   "id": "95c3f994",
   "metadata": {},
   "outputs": [],
   "source": [
    "1478>>6"
   ]
  },
  {
   "cell_type": "code",
   "execution_count": 6,
   "id": "f0302c7e",
   "metadata": {},
   "outputs": [
    {
     "data": {
      "text/plain": [
       "'0b10111000110'"
      ]
     },
     "execution_count": 6,
     "metadata": {},
     "output_type": "execute_result"
    }
   ],
   "source": [
    "bin(1478)"
   ]
  },
  {
   "cell_type": "code",
   "execution_count": 7,
   "id": "1d26a660",
   "metadata": {},
   "outputs": [
    {
     "data": {
      "text/plain": [
       "32"
      ]
     },
     "execution_count": 7,
     "metadata": {},
     "output_type": "execute_result"
    }
   ],
   "source": [
    "len('00000000000000000000010111000110')"
   ]
  },
  {
   "cell_type": "code",
   "execution_count": 8,
   "id": "ae034ed3",
   "metadata": {},
   "outputs": [
    {
     "data": {
      "text/plain": [
       "23"
      ]
     },
     "execution_count": 8,
     "metadata": {},
     "output_type": "execute_result"
    }
   ],
   "source": [
    "0b00000000000000000000000000010111"
   ]
  },
  {
   "cell_type": "code",
   "execution_count": null,
   "id": "0eea135e",
   "metadata": {},
   "outputs": [],
   "source": [
    "Formula :-\n",
    "    \n",
    "    (num)//2**(number of bits)"
   ]
  },
  {
   "cell_type": "code",
   "execution_count": 9,
   "id": "80d32b70",
   "metadata": {},
   "outputs": [
    {
     "data": {
      "text/plain": [
       "11"
      ]
     },
     "execution_count": 9,
     "metadata": {},
     "output_type": "execute_result"
    }
   ],
   "source": [
    "45//2**(2)"
   ]
  },
  {
   "cell_type": "code",
   "execution_count": 10,
   "id": "08fc0311",
   "metadata": {},
   "outputs": [
    {
     "data": {
      "text/plain": [
       "23"
      ]
     },
     "execution_count": 10,
     "metadata": {},
     "output_type": "execute_result"
    }
   ],
   "source": [
    "1478//2**(6)"
   ]
  },
  {
   "cell_type": "markdown",
   "id": "06b273ad",
   "metadata": {},
   "source": [
    "### Compounding Operator \n",
    "\n",
    "Type of Compounding Operator \n",
    "\n",
    "- += \n",
    "- -=\n",
    "- *=\n",
    "- /=\n",
    "- //=\n",
    "- %= \n",
    "- **= "
   ]
  },
  {
   "cell_type": "code",
   "execution_count": 11,
   "id": "6328daf5",
   "metadata": {},
   "outputs": [],
   "source": [
    "z = 6"
   ]
  },
  {
   "cell_type": "code",
   "execution_count": 12,
   "id": "46c7aafb",
   "metadata": {},
   "outputs": [
    {
     "data": {
      "text/plain": [
       "7"
      ]
     },
     "execution_count": 12,
     "metadata": {},
     "output_type": "execute_result"
    }
   ],
   "source": [
    "z += 1 #------> z = z+1\n",
    "z"
   ]
  },
  {
   "cell_type": "code",
   "execution_count": 14,
   "id": "7029e261",
   "metadata": {},
   "outputs": [
    {
     "name": "stdout",
     "output_type": "stream",
     "text": [
      "5\n",
      "12\n",
      "2.0\n",
      "2\n",
      "0\n",
      "1296\n"
     ]
    }
   ],
   "source": [
    "z = 6 \n",
    "z -= 1  # z = z-1\n",
    "print(z)\n",
    "\n",
    "z = 6\n",
    "z *= 2 # z= z*2\n",
    "print(z)\n",
    "\n",
    "z = 6\n",
    "z /= 3 #z = z/3\n",
    "print(z)\n",
    "\n",
    "z = 6\n",
    "z //= 3 # z = z//3\n",
    "print(z)\n",
    "\n",
    "z = 6\n",
    "z %= 2 #z = z%2\n",
    "print(z)\n",
    "\n",
    "\n",
    "z = 6\n",
    "z **= 4 #z = z**4\n",
    "print(z)"
   ]
  },
  {
   "cell_type": "code",
   "execution_count": 16,
   "id": "19f96ef2",
   "metadata": {},
   "outputs": [
    {
     "name": "stdout",
     "output_type": "stream",
     "text": [
      "5\n",
      "54\n",
      "543\n",
      "5432\n",
      "54321\n"
     ]
    }
   ],
   "source": [
    "a = 12345\n",
    "# Output = 54321\n",
    "rev = 0\n",
    "while a>0:\n",
    "    b = a%10  # storing the value of the remainder in variable b  \n",
    "    rev *= 10 #this step is increasing the unit place # rev = rev*10\n",
    "    rev += b # remainder is added to the rev and is reassigned to the variable rev # rev = rev+b\n",
    "    a //= 10 # a = 1234 #a = a//10\n",
    "    print(rev)\n",
    "    "
   ]
  },
  {
   "cell_type": "markdown",
   "id": "cc1078c0",
   "metadata": {},
   "source": [
    "### Ternary Operator\n",
    "\n",
    "- It is called a ternary operator because it uses 3 operand or values in it \n",
    "- It is used to generate a result based on some condition "
   ]
  },
  {
   "cell_type": "markdown",
   "id": "3d265ad3",
   "metadata": {},
   "source": [
    "Syntax for Conditional Statement with 2 operands :-\n",
    "    \n",
    "    expression_1 if condition_is_true else expression_2\n",
    "    \n",
    "- When the if condition is True then expression_1 is the result \n",
    "- when the if condition is False then expression_2 is the result"
   ]
  },
  {
   "cell_type": "code",
   "execution_count": 21,
   "id": "fac9a36c",
   "metadata": {},
   "outputs": [
    {
     "name": "stdout",
     "output_type": "stream",
     "text": [
      "Enter a number: 100\n",
      "Even\n"
     ]
    }
   ],
   "source": [
    "a = int(input('Enter a number: '))\n",
    "\n",
    "print('Even' if a%2==0 else 'Odd')"
   ]
  },
  {
   "cell_type": "markdown",
   "id": "bbb6ce9d",
   "metadata": {},
   "source": [
    "Syntax for Condition Statement with 3 Operands :-\n",
    "    \n",
    "    expression_1 if condition_1 else expression_2 if condition_2 else expression_3\n",
    "\n",
    "- When the condition_1 is True then expression_1 is the result\n",
    "- When the condition_1 is False then condition _2 is checked and if condition_2 is True, then expression_2 is the result\n",
    "- When both the conditions are False then expression_3 is the result"
   ]
  },
  {
   "cell_type": "code",
   "execution_count": 23,
   "id": "f6a9ede6",
   "metadata": {},
   "outputs": [
    {
     "name": "stdout",
     "output_type": "stream",
     "text": [
      "300\n"
     ]
    }
   ],
   "source": [
    "a = 5\n",
    "b = 30\n",
    "c = 300\n",
    "\n",
    "#find the maximum number among the three number \n",
    "\n",
    "print(a if a>b and a>c else b if b>a and b>c else c)"
   ]
  },
  {
   "cell_type": "code",
   "execution_count": 22,
   "id": "1044005a",
   "metadata": {},
   "outputs": [
    {
     "name": "stdout",
     "output_type": "stream",
     "text": [
      "300\n"
     ]
    }
   ],
   "source": [
    "a = 5\n",
    "b = 30\n",
    "c = 300\n",
    "\n",
    "if (a>b and a>c):\n",
    "    print(a)\n",
    "elif (b>a and b>c):\n",
    "    print(b)\n",
    "else:\n",
    "    print(c)\n"
   ]
  },
  {
   "cell_type": "code",
   "execution_count": null,
   "id": "738270ab",
   "metadata": {},
   "outputs": [],
   "source": [
    "x = 10\n",
    "\n",
    "if x > 0:\n",
    "    print(\"Positive\")\n",
    "elif x == 0:\n",
    "    print(\"Zero\")\n",
    "else:\n",
    "    print(\"Negative\")\n"
   ]
  },
  {
   "cell_type": "code",
   "execution_count": 26,
   "id": "068438a4",
   "metadata": {},
   "outputs": [
    {
     "name": "stdout",
     "output_type": "stream",
     "text": [
      "Positive\n"
     ]
    }
   ],
   "source": [
    "x = 100\n",
    "print('Positive' if x>0 else 'Zero' if x == 0 else 'Negative')"
   ]
  },
  {
   "cell_type": "markdown",
   "id": "dd0e5f22",
   "metadata": {},
   "source": [
    "### Unary minus \n",
    "\n"
   ]
  },
  {
   "cell_type": "code",
   "execution_count": 27,
   "id": "6b2b2ca9",
   "metadata": {},
   "outputs": [
    {
     "name": "stdout",
     "output_type": "stream",
     "text": [
      "-10\n"
     ]
    }
   ],
   "source": [
    "n = 10\n",
    "num = -n\n",
    "print(num)"
   ]
  },
  {
   "cell_type": "markdown",
   "id": "2b30659b",
   "metadata": {},
   "source": [
    "### Precedence Of Different Operator \n",
    "\n",
    "- Paranthese ()\n",
    "- Exponential **\n",
    "- Unary minus (-), bitwise complement (~)\n",
    "- Multiplication (*), Float Division (/), Floor Division (//), modulus (%)\n",
    "- Addition (+), subtraction (-)\n",
    "- Bitwise left shift (<<), bitwise right shift (>>)\n",
    "- Bitwise And operator (&)\n",
    "- Bitwise XOR operator (^)\n",
    "- Bitwise OR operatoer (|)\n",
    "- Comparision operator and eqaulity operator (>, >=, <, <=, ==, !=)\n",
    "- Assignmnet Operator  (=), compounding operator (%=, /=, //=, -=, +=, *=, **=)\n",
    "- Identity Operator (is, is not)\n",
    "- Membership Operator (in, not in)\n",
    "- Logical NOT\n",
    "- Logical or\n",
    "- Logical and "
   ]
  },
  {
   "cell_type": "markdown",
   "id": "8a9d91db",
   "metadata": {},
   "source": [
    "## Strings \n",
    "\n",
    "- Anything written inside single quotes ('....'), double quotes (\".....\"), single triple quotes ('''......''') or double triple quotes(\"\"\".......\"\"\")\n",
    "- Though single triple quotes and Double Triple quotes are used generally to write the docstring (Documentational Strings) and also to write multiple line comments "
   ]
  },
  {
   "cell_type": "code",
   "execution_count": 28,
   "id": "498c49fa",
   "metadata": {},
   "outputs": [
    {
     "name": "stdout",
     "output_type": "stream",
     "text": [
      "Hello <class 'str'>\n"
     ]
    }
   ],
   "source": [
    "a = 'Hello'\n",
    "print(a, type(a))"
   ]
  },
  {
   "cell_type": "code",
   "execution_count": 29,
   "id": "d8b18770",
   "metadata": {},
   "outputs": [
    {
     "name": "stdout",
     "output_type": "stream",
     "text": [
      "Hello <class 'str'>\n"
     ]
    }
   ],
   "source": [
    "b = \"Hello\"\n",
    "print(b, type(b))"
   ]
  },
  {
   "cell_type": "code",
   "execution_count": 30,
   "id": "e40e6082",
   "metadata": {},
   "outputs": [
    {
     "name": "stdout",
     "output_type": "stream",
     "text": [
      "My name is Mayank Atul Ghai <class 'str'>\n"
     ]
    }
   ],
   "source": [
    "a = 'My name is Mayank Atul Ghai'\n",
    "print(a, type(a))"
   ]
  },
  {
   "cell_type": "code",
   "execution_count": 31,
   "id": "7fa5c265",
   "metadata": {},
   "outputs": [
    {
     "name": "stdout",
     "output_type": "stream",
     "text": [
      "I am a Senior Data Analyst <class 'str'>\n"
     ]
    }
   ],
   "source": [
    "b = \"I am a Senior Data Analyst\"\n",
    "print(b, type(b))"
   ]
  },
  {
   "cell_type": "code",
   "execution_count": 32,
   "id": "95c01181",
   "metadata": {},
   "outputs": [
    {
     "name": "stdout",
     "output_type": "stream",
     "text": [
      "Hello world\n",
      "Welcome, to the python class by mayank <class 'str'>\n"
     ]
    }
   ],
   "source": [
    "c = '''Hello world\n",
    "Welcome, to the python class by mayank'''\n",
    "print(c, type(c))"
   ]
  },
  {
   "cell_type": "code",
   "execution_count": 33,
   "id": "51a61fe0",
   "metadata": {},
   "outputs": [
    {
     "name": "stdout",
     "output_type": "stream",
     "text": [
      " We have done Operators and\n",
      "Now we are doing Strings <class 'str'>\n"
     ]
    }
   ],
   "source": [
    "d = \"\"\" We have done Operators and\n",
    "Now we are doing Strings\"\"\"\n",
    "print(d, type(d))"
   ]
  },
  {
   "cell_type": "markdown",
   "id": "c9dcb89c",
   "metadata": {},
   "source": [
    "### Operations that we can do on Strings\n",
    "\n",
    "- Length\n",
    "- Concatination\n",
    "- Repetitions \n",
    "- Indexing and Slicing (Important)"
   ]
  },
  {
   "cell_type": "code",
   "execution_count": 39,
   "id": "765a0b51",
   "metadata": {},
   "outputs": [
    {
     "name": "stdout",
     "output_type": "stream",
     "text": [
      "Enter your number:--10\n",
      "-10 is Negative integer\n"
     ]
    }
   ],
   "source": [
    "num=int(input(\"Enter your number:-\"))\n",
    "print(num, \"is a Positive integer\" if num>0 else \"is Negative integer\" if num<0 else \"is Zero\" )\n"
   ]
  },
  {
   "cell_type": "code",
   "execution_count": null,
   "id": "bbcbe77a",
   "metadata": {},
   "outputs": [],
   "source": []
  },
  {
   "cell_type": "code",
   "execution_count": null,
   "id": "ac580a43",
   "metadata": {},
   "outputs": [],
   "source": []
  }
 ],
 "metadata": {
  "kernelspec": {
   "display_name": "Python 3 (ipykernel)",
   "language": "python",
   "name": "python3"
  },
  "language_info": {
   "codemirror_mode": {
    "name": "ipython",
    "version": 3
   },
   "file_extension": ".py",
   "mimetype": "text/x-python",
   "name": "python",
   "nbconvert_exporter": "python",
   "pygments_lexer": "ipython3",
   "version": "3.11.5"
  }
 },
 "nbformat": 4,
 "nbformat_minor": 5
}
