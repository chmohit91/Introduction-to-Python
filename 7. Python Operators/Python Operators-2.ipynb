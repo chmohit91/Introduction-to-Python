{
 "cells": [
  {
   "cell_type": "code",
   "execution_count": null,
   "id": "09e559b7",
   "metadata": {},
   "outputs": [],
   "source": [
    "- Logical Operators\n",
    "- Comparison Operator \n",
    "- Equality Operator \n",
    "\n",
    "    - The answer is going to be either True(1) or False(0) , i.e. it is going to return a Boolean Value"
   ]
  },
  {
   "cell_type": "code",
   "execution_count": null,
   "id": "b5b145fa",
   "metadata": {},
   "outputs": [],
   "source": [
    "- Numerical Data type \n",
    "    - int : 0 is False else True\n",
    "    - float: 0.0 is False else True \n",
    "    - complex : 0+0j is False else True \n",
    "        \n",
    "- Sequential Datatype \n",
    "    - string : empty string ('' or \"\") is False else True\n",
    "    - list : empty list ([]) is False else True \n",
    "    - Tuple: empty tuple (()) is False else True \n",
    "        \n",
    "- Non sequential Datatype/Mapping Datatype \n",
    "    - dict : empty dict ({}) is False else True \n",
    "    - Frozenset : empty frozenset (frozrenset()) is False else True "
   ]
  },
  {
   "cell_type": "code",
   "execution_count": 6,
   "id": "48ab547d",
   "metadata": {},
   "outputs": [
    {
     "name": "stdout",
     "output_type": "stream",
     "text": [
      "<class 'dict'>\n"
     ]
    }
   ],
   "source": [
    "a = {}\n",
    "print(type(a))"
   ]
  },
  {
   "cell_type": "code",
   "execution_count": 8,
   "id": "9ad9b068",
   "metadata": {},
   "outputs": [
    {
     "name": "stdout",
     "output_type": "stream",
     "text": [
      "<class 'set'>\n"
     ]
    }
   ],
   "source": [
    "a = {1}\n",
    "print(type(a))"
   ]
  },
  {
   "cell_type": "code",
   "execution_count": 7,
   "id": "e94346c3",
   "metadata": {},
   "outputs": [
    {
     "name": "stdout",
     "output_type": "stream",
     "text": [
      "<class 'set'>\n"
     ]
    }
   ],
   "source": [
    "a = {1,}\n",
    "print(type(a))"
   ]
  },
  {
   "cell_type": "markdown",
   "id": "b00f1e89",
   "metadata": {},
   "source": [
    "#### We cannot define with the help of conventional way an empty set thats why i ahave to typecast some other datatype (empty datatype) to a set to get an empty set"
   ]
  },
  {
   "cell_type": "code",
   "execution_count": 9,
   "id": "bbcd2ed6",
   "metadata": {},
   "outputs": [
    {
     "data": {
      "text/plain": [
       "set"
      ]
     },
     "execution_count": 9,
     "metadata": {},
     "output_type": "execute_result"
    }
   ],
   "source": [
    "a =set('')\n",
    "type(a)"
   ]
  },
  {
   "cell_type": "code",
   "execution_count": 10,
   "id": "e49bc6db",
   "metadata": {},
   "outputs": [
    {
     "data": {
      "text/plain": [
       "set()"
      ]
     },
     "execution_count": 10,
     "metadata": {},
     "output_type": "execute_result"
    }
   ],
   "source": [
    "a"
   ]
  },
  {
   "cell_type": "markdown",
   "id": "163cf860",
   "metadata": {},
   "source": [
    "### Logical Operator \n",
    "\n",
    "- These operators are used to perform logical operations on the value \n",
    "- They are going to return a boolean value (True or False)\n",
    "\n",
    "    - and\n",
    "    - or \n",
    "    - not "
   ]
  },
  {
   "cell_type": "markdown",
   "id": "e828e612",
   "metadata": {},
   "source": [
    "#### and logical operator \n",
    "\n",
    "- and operator looks for False, as soon as it gets false, it will return your false \n",
    "\n",
    "    - if there is no false then it will return me True \n",
    "    - if two false appear in a statement, it will return me the first false in the statement\n",
    "    - if two True appear in  a statement, it will return me the second True statement"
   ]
  },
  {
   "cell_type": "code",
   "execution_count": 11,
   "id": "51a9c305",
   "metadata": {},
   "outputs": [
    {
     "name": "stdout",
     "output_type": "stream",
     "text": [
      "False\n"
     ]
    }
   ],
   "source": [
    "print(True and False)"
   ]
  },
  {
   "cell_type": "code",
   "execution_count": 12,
   "id": "8054620b",
   "metadata": {},
   "outputs": [
    {
     "name": "stdout",
     "output_type": "stream",
     "text": [
      "False\n"
     ]
    }
   ],
   "source": [
    "print(False and True)"
   ]
  },
  {
   "cell_type": "code",
   "execution_count": 13,
   "id": "cd55fa73",
   "metadata": {},
   "outputs": [
    {
     "name": "stdout",
     "output_type": "stream",
     "text": [
      "True\n"
     ]
    }
   ],
   "source": [
    "print(True and True)"
   ]
  },
  {
   "cell_type": "code",
   "execution_count": 14,
   "id": "2dfc499e",
   "metadata": {},
   "outputs": [
    {
     "name": "stdout",
     "output_type": "stream",
     "text": [
      "False\n"
     ]
    }
   ],
   "source": [
    "print(False and False)"
   ]
  },
  {
   "cell_type": "code",
   "execution_count": 16,
   "id": "9355f155",
   "metadata": {},
   "outputs": [
    {
     "data": {
      "text/plain": [
       "''"
      ]
     },
     "execution_count": 16,
     "metadata": {},
     "output_type": "execute_result"
    }
   ],
   "source": [
    "'' and []"
   ]
  },
  {
   "cell_type": "code",
   "execution_count": 17,
   "id": "8ef4d297",
   "metadata": {},
   "outputs": [
    {
     "data": {
      "text/plain": [
       "''"
      ]
     },
     "execution_count": 17,
     "metadata": {},
     "output_type": "execute_result"
    }
   ],
   "source": [
    "'' and [1,2,3]"
   ]
  },
  {
   "cell_type": "code",
   "execution_count": 18,
   "id": "c9426b69",
   "metadata": {},
   "outputs": [
    {
     "data": {
      "text/plain": [
       "()"
      ]
     },
     "execution_count": 18,
     "metadata": {},
     "output_type": "execute_result"
    }
   ],
   "source": [
    "'mayank' and ()"
   ]
  },
  {
   "cell_type": "code",
   "execution_count": 19,
   "id": "b507a7e1",
   "metadata": {},
   "outputs": [
    {
     "data": {
      "text/plain": [
       "['python']"
      ]
     },
     "execution_count": 19,
     "metadata": {},
     "output_type": "execute_result"
    }
   ],
   "source": [
    "'mayank' and ['python']"
   ]
  },
  {
   "cell_type": "code",
   "execution_count": null,
   "id": "2aaf33e4",
   "metadata": {},
   "outputs": [],
   "source": [
    "# And logical gate works like this \n",
    "0  0 ----0\n",
    "1  0 ----0\n",
    "0  1 ----0\n",
    "1  1 ----1 "
   ]
  },
  {
   "cell_type": "code",
   "execution_count": 21,
   "id": "1c23639f",
   "metadata": {},
   "outputs": [
    {
     "data": {
      "text/plain": [
       "True"
      ]
     },
     "execution_count": 21,
     "metadata": {},
     "output_type": "execute_result"
    }
   ],
   "source": [
    "bool(1)"
   ]
  },
  {
   "cell_type": "code",
   "execution_count": 22,
   "id": "b10581aa",
   "metadata": {},
   "outputs": [
    {
     "data": {
      "text/plain": [
       "False"
      ]
     },
     "execution_count": 22,
     "metadata": {},
     "output_type": "execute_result"
    }
   ],
   "source": [
    "bool(0)"
   ]
  },
  {
   "cell_type": "code",
   "execution_count": 25,
   "id": "db94ec89",
   "metadata": {},
   "outputs": [
    {
     "name": "stdout",
     "output_type": "stream",
     "text": [
      "0\n"
     ]
    }
   ],
   "source": [
    "print(0 and '')\n",
    "\n"
   ]
  },
  {
   "cell_type": "code",
   "execution_count": 23,
   "id": "76d8f3a1",
   "metadata": {},
   "outputs": [
    {
     "data": {
      "text/plain": [
       "False"
      ]
     },
     "execution_count": 23,
     "metadata": {},
     "output_type": "execute_result"
    }
   ],
   "source": [
    "bool(0)"
   ]
  },
  {
   "cell_type": "code",
   "execution_count": 24,
   "id": "8e4b39ca",
   "metadata": {},
   "outputs": [
    {
     "data": {
      "text/plain": [
       "False"
      ]
     },
     "execution_count": 24,
     "metadata": {},
     "output_type": "execute_result"
    }
   ],
   "source": [
    "bool('')"
   ]
  },
  {
   "cell_type": "code",
   "execution_count": 27,
   "id": "ad433b24",
   "metadata": {},
   "outputs": [
    {
     "name": "stdout",
     "output_type": "stream",
     "text": [
      "(2, 3)\n"
     ]
    }
   ],
   "source": [
    "print('0+0j' and (2,3))"
   ]
  },
  {
   "cell_type": "code",
   "execution_count": 26,
   "id": "08acbf92",
   "metadata": {},
   "outputs": [
    {
     "data": {
      "text/plain": [
       "True"
      ]
     },
     "execution_count": 26,
     "metadata": {},
     "output_type": "execute_result"
    }
   ],
   "source": [
    "bool('0+0j')"
   ]
  },
  {
   "cell_type": "code",
   "execution_count": 28,
   "id": "d5f19556",
   "metadata": {},
   "outputs": [
    {
     "data": {
      "text/plain": [
       "True"
      ]
     },
     "execution_count": 28,
     "metadata": {},
     "output_type": "execute_result"
    }
   ],
   "source": [
    "bool('False')"
   ]
  },
  {
   "cell_type": "code",
   "execution_count": 29,
   "id": "bc5d30a4",
   "metadata": {},
   "outputs": [
    {
     "name": "stdout",
     "output_type": "stream",
     "text": [
      "<class 'str'>\n"
     ]
    }
   ],
   "source": [
    "a = '0+0j'\n",
    "print(type(a))"
   ]
  },
  {
   "cell_type": "markdown",
   "id": "6c452f49",
   "metadata": {},
   "source": [
    "### or Logical Operator \n",
    "\n",
    "- It is going to look for True, as soon as it will get it, it is going to return True statemnet\n",
    "- if no True is there, it will return me False\n",
    "- if both are True, then it will return me the first True \n",
    "- if both are False, then it will return me the second False"
   ]
  },
  {
   "cell_type": "code",
   "execution_count": null,
   "id": "fc1f1d37",
   "metadata": {},
   "outputs": [],
   "source": [
    "# OR logical gate \n",
    "\n",
    "0 0 -----0\n",
    "1 0 -----1\n",
    "0 1 -----1\n",
    "1 1 -----1"
   ]
  },
  {
   "cell_type": "code",
   "execution_count": 31,
   "id": "a8e6bc40",
   "metadata": {},
   "outputs": [
    {
     "name": "stdout",
     "output_type": "stream",
     "text": [
      "True\n"
     ]
    }
   ],
   "source": [
    "print(False or True)"
   ]
  },
  {
   "cell_type": "code",
   "execution_count": 33,
   "id": "a7ad6a9c",
   "metadata": {},
   "outputs": [
    {
     "name": "stdout",
     "output_type": "stream",
     "text": [
      "True\n"
     ]
    }
   ],
   "source": [
    "print(True or False)"
   ]
  },
  {
   "cell_type": "code",
   "execution_count": 34,
   "id": "cefbc427",
   "metadata": {},
   "outputs": [
    {
     "name": "stdout",
     "output_type": "stream",
     "text": [
      "True\n"
     ]
    }
   ],
   "source": [
    "print(True or True)"
   ]
  },
  {
   "cell_type": "code",
   "execution_count": 35,
   "id": "786d1830",
   "metadata": {},
   "outputs": [
    {
     "name": "stdout",
     "output_type": "stream",
     "text": [
      "False\n"
     ]
    }
   ],
   "source": [
    "print(False or False)"
   ]
  },
  {
   "cell_type": "code",
   "execution_count": 36,
   "id": "0b6665d2",
   "metadata": {},
   "outputs": [
    {
     "name": "stdout",
     "output_type": "stream",
     "text": [
      "Mayank\n"
     ]
    }
   ],
   "source": [
    "print('Mayank' or [])"
   ]
  },
  {
   "cell_type": "code",
   "execution_count": 37,
   "id": "ac121bfa",
   "metadata": {},
   "outputs": [
    {
     "name": "stdout",
     "output_type": "stream",
     "text": [
      "[1, 2, 3]\n"
     ]
    }
   ],
   "source": [
    "print('' or [1,2,3])"
   ]
  },
  {
   "cell_type": "code",
   "execution_count": 39,
   "id": "c284e57d",
   "metadata": {},
   "outputs": [
    {
     "name": "stdout",
     "output_type": "stream",
     "text": [
      "[1, 2, 3]\n"
     ]
    }
   ],
   "source": [
    "print([1,2,3] or (1,2,3))"
   ]
  },
  {
   "cell_type": "code",
   "execution_count": 40,
   "id": "c81102eb",
   "metadata": {},
   "outputs": [
    {
     "name": "stdout",
     "output_type": "stream",
     "text": [
      "[]\n"
     ]
    }
   ],
   "source": [
    "print('' or [])"
   ]
  },
  {
   "cell_type": "markdown",
   "id": "029f88c0",
   "metadata": {},
   "source": [
    "#### Not (Unary Operator)\n",
    "\n",
    "- it is called unary because we are going to use only one operand\n",
    "- it will return the opposite of the passed operand "
   ]
  },
  {
   "cell_type": "code",
   "execution_count": 41,
   "id": "f0b6e422",
   "metadata": {},
   "outputs": [
    {
     "name": "stdout",
     "output_type": "stream",
     "text": [
      "False\n"
     ]
    }
   ],
   "source": [
    "print(not True)"
   ]
  },
  {
   "cell_type": "code",
   "execution_count": 42,
   "id": "82bdf427",
   "metadata": {},
   "outputs": [
    {
     "name": "stdout",
     "output_type": "stream",
     "text": [
      "True\n"
     ]
    }
   ],
   "source": [
    "print(not False)"
   ]
  },
  {
   "cell_type": "code",
   "execution_count": 43,
   "id": "263b13c9",
   "metadata": {},
   "outputs": [
    {
     "name": "stdout",
     "output_type": "stream",
     "text": [
      "False\n"
     ]
    }
   ],
   "source": [
    "print(not 10)"
   ]
  },
  {
   "cell_type": "code",
   "execution_count": 44,
   "id": "0a6d961a",
   "metadata": {},
   "outputs": [
    {
     "name": "stdout",
     "output_type": "stream",
     "text": [
      "True\n"
     ]
    }
   ],
   "source": [
    "print(not '')"
   ]
  },
  {
   "cell_type": "code",
   "execution_count": 47,
   "id": "f9afd222",
   "metadata": {},
   "outputs": [
    {
     "name": "stdout",
     "output_type": "stream",
     "text": [
      "False\n"
     ]
    }
   ],
   "source": [
    "print(not True and False)"
   ]
  },
  {
   "cell_type": "markdown",
   "id": "74a00757",
   "metadata": {},
   "source": [
    "### Comparison Operator\n",
    "\n",
    "- it is used to compare two value \n",
    "- it will return me a boolean value (True or False)"
   ]
  },
  {
   "cell_type": "code",
   "execution_count": null,
   "id": "65c367d6",
   "metadata": {},
   "outputs": [],
   "source": [
    "< -------less than\n",
    "> ------ greater than\n",
    "<= ------ less than equal to --- It will be true if some value is less than the other or equal to it else False\n",
    ">= ----- greater than equal to  ----- It will be True if some value is greater than the other or equal to it else False"
   ]
  },
  {
   "cell_type": "code",
   "execution_count": 48,
   "id": "c75edf20",
   "metadata": {},
   "outputs": [
    {
     "name": "stdout",
     "output_type": "stream",
     "text": [
      "False\n"
     ]
    }
   ],
   "source": [
    "print(10>50)"
   ]
  },
  {
   "cell_type": "code",
   "execution_count": 49,
   "id": "6efaf646",
   "metadata": {},
   "outputs": [
    {
     "name": "stdout",
     "output_type": "stream",
     "text": [
      "True\n"
     ]
    }
   ],
   "source": [
    "print(10<50)"
   ]
  },
  {
   "cell_type": "code",
   "execution_count": 50,
   "id": "f5ac825f",
   "metadata": {},
   "outputs": [
    {
     "name": "stdout",
     "output_type": "stream",
     "text": [
      "False\n"
     ]
    }
   ],
   "source": [
    "print(2.6>6.8)"
   ]
  },
  {
   "cell_type": "code",
   "execution_count": 51,
   "id": "55626dc9",
   "metadata": {},
   "outputs": [
    {
     "name": "stdout",
     "output_type": "stream",
     "text": [
      "False\n"
     ]
    }
   ],
   "source": [
    "print(-2.6>-1.8)"
   ]
  },
  {
   "cell_type": "markdown",
   "id": "bd1241ee",
   "metadata": {},
   "source": [
    "ASCII "
   ]
  },
  {
   "cell_type": "code",
   "execution_count": 54,
   "id": "2b1a1a03",
   "metadata": {},
   "outputs": [
    {
     "name": "stdout",
     "output_type": "stream",
     "text": [
      "False\n"
     ]
    }
   ],
   "source": [
    "print('A'>'a')"
   ]
  },
  {
   "cell_type": "code",
   "execution_count": 52,
   "id": "a2e388a5",
   "metadata": {},
   "outputs": [
    {
     "data": {
      "text/plain": [
       "65"
      ]
     },
     "execution_count": 52,
     "metadata": {},
     "output_type": "execute_result"
    }
   ],
   "source": [
    "ord('A')"
   ]
  },
  {
   "cell_type": "code",
   "execution_count": 53,
   "id": "adcc9cdf",
   "metadata": {},
   "outputs": [
    {
     "data": {
      "text/plain": [
       "97"
      ]
     },
     "execution_count": 53,
     "metadata": {},
     "output_type": "execute_result"
    }
   ],
   "source": [
    "ord('a')"
   ]
  },
  {
   "cell_type": "code",
   "execution_count": 56,
   "id": "12351848",
   "metadata": {},
   "outputs": [
    {
     "data": {
      "text/plain": [
       "'A'"
      ]
     },
     "execution_count": 56,
     "metadata": {},
     "output_type": "execute_result"
    }
   ],
   "source": [
    "chr(65)"
   ]
  },
  {
   "cell_type": "code",
   "execution_count": 57,
   "id": "e44cac6b",
   "metadata": {},
   "outputs": [
    {
     "ename": "TypeError",
     "evalue": "'>=' not supported between instances of 'str' and 'int'",
     "output_type": "error",
     "traceback": [
      "\u001b[1;31m---------------------------------------------------------------------------\u001b[0m",
      "\u001b[1;31mTypeError\u001b[0m                                 Traceback (most recent call last)",
      "Cell \u001b[1;32mIn[57], line 1\u001b[0m\n\u001b[1;32m----> 1\u001b[0m \u001b[38;5;28mprint\u001b[39m(\u001b[38;5;124m'\u001b[39m\u001b[38;5;124mA\u001b[39m\u001b[38;5;124m'\u001b[39m\u001b[38;5;241m>\u001b[39m\u001b[38;5;241m=\u001b[39m\u001b[38;5;241m65\u001b[39m)\n",
      "\u001b[1;31mTypeError\u001b[0m: '>=' not supported between instances of 'str' and 'int'"
     ]
    }
   ],
   "source": [
    "print('A'>=65)"
   ]
  },
  {
   "cell_type": "code",
   "execution_count": 58,
   "id": "dce46566",
   "metadata": {},
   "outputs": [
    {
     "name": "stdout",
     "output_type": "stream",
     "text": [
      "True\n"
     ]
    }
   ],
   "source": [
    "print(ord('A')>=65)"
   ]
  },
  {
   "cell_type": "markdown",
   "id": "fd953ce6",
   "metadata": {},
   "source": [
    "#### The following example is an exception, community is still working over it, never use typecasted values in comparison operator"
   ]
  },
  {
   "cell_type": "code",
   "execution_count": 63,
   "id": "b5a082dc",
   "metadata": {
    "scrolled": true
   },
   "outputs": [
    {
     "name": "stdout",
     "output_type": "stream",
     "text": [
      "True\n"
     ]
    }
   ],
   "source": [
    "print('A'>str(65))"
   ]
  },
  {
   "cell_type": "code",
   "execution_count": 62,
   "id": "c335b5c1",
   "metadata": {},
   "outputs": [
    {
     "name": "stdout",
     "output_type": "stream",
     "text": [
      "65\n"
     ]
    }
   ],
   "source": [
    "a = 65\n",
    "print(str(65))"
   ]
  },
  {
   "cell_type": "code",
   "execution_count": 65,
   "id": "5725d900",
   "metadata": {},
   "outputs": [
    {
     "ename": "TypeError",
     "evalue": "ord() expected a character, but string of length 2 found",
     "output_type": "error",
     "traceback": [
      "\u001b[1;31m---------------------------------------------------------------------------\u001b[0m",
      "\u001b[1;31mTypeError\u001b[0m                                 Traceback (most recent call last)",
      "Cell \u001b[1;32mIn[65], line 1\u001b[0m\n\u001b[1;32m----> 1\u001b[0m \u001b[38;5;28mord\u001b[39m(\u001b[38;5;28mstr\u001b[39m(\u001b[38;5;241m65\u001b[39m))\n",
      "\u001b[1;31mTypeError\u001b[0m: ord() expected a character, but string of length 2 found"
     ]
    }
   ],
   "source": [
    "ord(str(65))"
   ]
  },
  {
   "cell_type": "code",
   "execution_count": 66,
   "id": "29b67943",
   "metadata": {},
   "outputs": [
    {
     "data": {
      "text/plain": [
       "False"
      ]
     },
     "execution_count": 66,
     "metadata": {},
     "output_type": "execute_result"
    }
   ],
   "source": [
    "True>True ----- 1>1"
   ]
  },
  {
   "cell_type": "code",
   "execution_count": 67,
   "id": "da4eeeb2",
   "metadata": {},
   "outputs": [
    {
     "data": {
      "text/plain": [
       "False"
      ]
     },
     "execution_count": 67,
     "metadata": {},
     "output_type": "execute_result"
    }
   ],
   "source": [
    "False>False"
   ]
  },
  {
   "cell_type": "code",
   "execution_count": 68,
   "id": "c8f10b87",
   "metadata": {},
   "outputs": [
    {
     "data": {
      "text/plain": [
       "False"
      ]
     },
     "execution_count": 68,
     "metadata": {},
     "output_type": "execute_result"
    }
   ],
   "source": [
    "True<True"
   ]
  },
  {
   "cell_type": "code",
   "execution_count": 69,
   "id": "ce9ff2dd",
   "metadata": {},
   "outputs": [
    {
     "data": {
      "text/plain": [
       "False"
      ]
     },
     "execution_count": 69,
     "metadata": {},
     "output_type": "execute_result"
    }
   ],
   "source": [
    "False<False"
   ]
  },
  {
   "cell_type": "code",
   "execution_count": 70,
   "id": "12e6aef9",
   "metadata": {},
   "outputs": [
    {
     "data": {
      "text/plain": [
       "True"
      ]
     },
     "execution_count": 70,
     "metadata": {},
     "output_type": "execute_result"
    }
   ],
   "source": [
    "True>=True  ----1 >= 1"
   ]
  },
  {
   "cell_type": "code",
   "execution_count": 71,
   "id": "abdd62ed",
   "metadata": {},
   "outputs": [
    {
     "data": {
      "text/plain": [
       "True"
      ]
     },
     "execution_count": 71,
     "metadata": {},
     "output_type": "execute_result"
    }
   ],
   "source": [
    "False<= False"
   ]
  },
  {
   "cell_type": "code",
   "execution_count": 72,
   "id": "aa563545",
   "metadata": {},
   "outputs": [
    {
     "data": {
      "text/plain": [
       "True"
      ]
     },
     "execution_count": 72,
     "metadata": {},
     "output_type": "execute_result"
    }
   ],
   "source": [
    "bool('A')"
   ]
  },
  {
   "cell_type": "code",
   "execution_count": 74,
   "id": "58475894",
   "metadata": {},
   "outputs": [
    {
     "data": {
      "text/plain": [
       "True"
      ]
     },
     "execution_count": 74,
     "metadata": {},
     "output_type": "execute_result"
    }
   ],
   "source": [
    "bool(str(65))"
   ]
  },
  {
   "cell_type": "code",
   "execution_count": 75,
   "id": "96cb5163",
   "metadata": {},
   "outputs": [
    {
     "name": "stdout",
     "output_type": "stream",
     "text": [
      "True\n"
     ]
    }
   ],
   "source": [
    "print('A'>str(65))"
   ]
  },
  {
   "cell_type": "code",
   "execution_count": 76,
   "id": "b6f25d74",
   "metadata": {},
   "outputs": [
    {
     "data": {
      "text/plain": [
       "True"
      ]
     },
     "execution_count": 76,
     "metadata": {},
     "output_type": "execute_result"
    }
   ],
   "source": [
    "'A'>str(65)"
   ]
  },
  {
   "cell_type": "code",
   "execution_count": 79,
   "id": "8c7fb90a",
   "metadata": {},
   "outputs": [
    {
     "data": {
      "text/plain": [
       "True"
      ]
     },
     "execution_count": 79,
     "metadata": {},
     "output_type": "execute_result"
    }
   ],
   "source": [
    "a = str(65)\n",
    "bool(a)"
   ]
  },
  {
   "cell_type": "code",
   "execution_count": 80,
   "id": "b157c452",
   "metadata": {},
   "outputs": [
    {
     "name": "stdout",
     "output_type": "stream",
     "text": [
      "True\n"
     ]
    }
   ],
   "source": [
    "a = 'A'\n",
    "b = str(65)\n",
    "print(a>b)"
   ]
  },
  {
   "cell_type": "code",
   "execution_count": 81,
   "id": "b4d0e4dd",
   "metadata": {},
   "outputs": [
    {
     "data": {
      "text/plain": [
       "False"
      ]
     },
     "execution_count": 81,
     "metadata": {},
     "output_type": "execute_result"
    }
   ],
   "source": [
    "a = 'Mayank'\n",
    "b = 'Mayank Atul Ghai'\n",
    "\n",
    "len(a)>len(b)"
   ]
  },
  {
   "cell_type": "markdown",
   "id": "f4d11a7f",
   "metadata": {},
   "source": [
    "#### Equality Operator \n",
    "\n",
    "- this is a comparison operator also \n",
    "- this also returns the boolean value \n",
    "- this is going to check that whether two values are equal to each other or not\n",
    "\n",
    "  - == (equal to equal to) ---- it checks that whether two value are equal, if they are equal it will return True else False\n",
    "  - != (not eqaul to) ---- it checks that whether two value are not equal to each other, if they are nt equal it will return a True else a False"
   ]
  },
  {
   "cell_type": "code",
   "execution_count": 83,
   "id": "ea73e4f7",
   "metadata": {},
   "outputs": [
    {
     "name": "stdout",
     "output_type": "stream",
     "text": [
      "False\n"
     ]
    }
   ],
   "source": [
    "a = 10\n",
    "b = 20\n",
    "\n",
    "print(a == b)"
   ]
  },
  {
   "cell_type": "code",
   "execution_count": 85,
   "id": "a0505d40",
   "metadata": {},
   "outputs": [
    {
     "name": "stdout",
     "output_type": "stream",
     "text": [
      "True\n"
     ]
    }
   ],
   "source": [
    "a = 'mayank'\n",
    "b = \"mayank\"\n",
    "\n",
    "print(a == b)"
   ]
  },
  {
   "cell_type": "code",
   "execution_count": 86,
   "id": "4fe4394d",
   "metadata": {},
   "outputs": [
    {
     "ename": "TypeError",
     "evalue": "'a' is an invalid keyword argument for print()",
     "output_type": "error",
     "traceback": [
      "\u001b[1;31m---------------------------------------------------------------------------\u001b[0m",
      "\u001b[1;31mTypeError\u001b[0m                                 Traceback (most recent call last)",
      "Cell \u001b[1;32mIn[86], line 4\u001b[0m\n\u001b[0;32m      1\u001b[0m a \u001b[38;5;241m=\u001b[39m \u001b[38;5;241m20\u001b[39m\n\u001b[0;32m      2\u001b[0m b \u001b[38;5;241m=\u001b[39m \u001b[38;5;241m30\u001b[39m\n\u001b[1;32m----> 4\u001b[0m \u001b[38;5;28mprint\u001b[39m(a\u001b[38;5;241m=\u001b[39mb)\n",
      "\u001b[1;31mTypeError\u001b[0m: 'a' is an invalid keyword argument for print()"
     ]
    }
   ],
   "source": [
    "a = 20\n",
    "b = 30\n",
    "\n",
    "print(a=b)"
   ]
  },
  {
   "cell_type": "markdown",
   "id": "2fd2c110",
   "metadata": {},
   "source": [
    "### Assignmnet Operator \n",
    "\n",
    "- it is used to assign a value to a particular variable"
   ]
  },
  {
   "cell_type": "code",
   "execution_count": 87,
   "id": "08bd996e",
   "metadata": {},
   "outputs": [],
   "source": [
    "a = 10\n",
    "b = 20\n",
    "c = 30 "
   ]
  },
  {
   "cell_type": "code",
   "execution_count": 88,
   "id": "0d316c3a",
   "metadata": {},
   "outputs": [
    {
     "name": "stdout",
     "output_type": "stream",
     "text": [
      "10 20 30\n"
     ]
    }
   ],
   "source": [
    "print(a,b,c)"
   ]
  },
  {
   "cell_type": "markdown",
   "id": "5a9fcec3",
   "metadata": {},
   "source": [
    "### Membership Operator \n",
    "\n",
    "- these operators check whether a value is a part of a container type or not \n",
    "- it is going to return a boolean value \n",
    "- ity checks the container element by element and return True as soon as the value is found\n",
    "\n",
    "Container Datatype -----> String, list , tuple , dictionary, set, frozenset\n",
    "\n",
    "- in (if teh value is in the container datatype it will return a True else False)\n",
    "- not in (if teh value is not in the container datatype it will return a True else False)"
   ]
  },
  {
   "cell_type": "code",
   "execution_count": 89,
   "id": "44487d2e",
   "metadata": {},
   "outputs": [
    {
     "name": "stdout",
     "output_type": "stream",
     "text": [
      "True\n"
     ]
    }
   ],
   "source": [
    "a = \"Mayank Ghai\" #------'m'+'a'+'y'+'a'+'n'+'k'+' '+'g'+'h'+'a'+'i'\n",
    "print('k' in a)"
   ]
  },
  {
   "cell_type": "code",
   "execution_count": 90,
   "id": "c65813e7",
   "metadata": {},
   "outputs": [
    {
     "name": "stdout",
     "output_type": "stream",
     "text": [
      "False\n"
     ]
    }
   ],
   "source": [
    "print('u' in a)"
   ]
  },
  {
   "cell_type": "code",
   "execution_count": 91,
   "id": "7eb50e5b",
   "metadata": {},
   "outputs": [
    {
     "name": "stdout",
     "output_type": "stream",
     "text": [
      "False\n"
     ]
    }
   ],
   "source": [
    "lst = [1,2,3,4,5,6,7]\n",
    "print(8 in lst)"
   ]
  },
  {
   "cell_type": "code",
   "execution_count": 93,
   "id": "b66e7d9a",
   "metadata": {},
   "outputs": [
    {
     "name": "stdout",
     "output_type": "stream",
     "text": [
      "False\n"
     ]
    }
   ],
   "source": [
    "lst = ['Apple', 'Boy', 'Cat']\n",
    "print('cat' in lst)"
   ]
  },
  {
   "cell_type": "code",
   "execution_count": 94,
   "id": "e7f4584b",
   "metadata": {},
   "outputs": [
    {
     "name": "stdout",
     "output_type": "stream",
     "text": [
      "True\n"
     ]
    }
   ],
   "source": [
    "print('cat' not in lst)"
   ]
  },
  {
   "cell_type": "markdown",
   "id": "9e03dbeb",
   "metadata": {},
   "source": [
    "#### Identity Operator \n",
    "\n",
    "- it is used to check whether two values are having the same memory location (or address) or not\n",
    "- it compares the memory address of the value, they donot compare the values \n",
    "- it also returns boolean value \n",
    "\n",
    "    - is \n",
    "    - not is "
   ]
  },
  {
   "cell_type": "code",
   "execution_count": null,
   "id": "8d22352c",
   "metadata": {},
   "outputs": [],
   "source": []
  }
 ],
 "metadata": {
  "kernelspec": {
   "display_name": "Python 3 (ipykernel)",
   "language": "python",
   "name": "python3"
  },
  "language_info": {
   "codemirror_mode": {
    "name": "ipython",
    "version": 3
   },
   "file_extension": ".py",
   "mimetype": "text/x-python",
   "name": "python",
   "nbconvert_exporter": "python",
   "pygments_lexer": "ipython3",
   "version": "3.11.5"
  }
 },
 "nbformat": 4,
 "nbformat_minor": 5
}
