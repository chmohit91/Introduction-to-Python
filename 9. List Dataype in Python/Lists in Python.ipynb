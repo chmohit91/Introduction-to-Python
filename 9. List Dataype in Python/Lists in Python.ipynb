{
 "cells": [
  {
   "cell_type": "markdown",
   "id": "5cbe1adc",
   "metadata": {},
   "source": [
    "### Lists - Datatype"
   ]
  },
  {
   "cell_type": "code",
   "execution_count": 6,
   "id": "a218fd75",
   "metadata": {},
   "outputs": [],
   "source": [
    "# Properties of lists\n",
    "\n",
    "#1. Derived datatype i.e. collection - made up of other elements\n",
    "#2. Mutable\n",
    "#3. Iterable\n",
    "#4. Subscription - Indexing, Slicing, Index assignment, slice assignment - all are supported\n",
    "#5. Heterogenous datatypes can be stored in lists. \n",
    "#6. Nesting supported."
   ]
  },
  {
   "cell_type": "code",
   "execution_count": 7,
   "id": "748eb296",
   "metadata": {},
   "outputs": [
    {
     "name": "stdout",
     "output_type": "stream",
     "text": [
      "[1, 2, 3, 4]\n",
      "<class 'list'>\n"
     ]
    }
   ],
   "source": [
    "# Ways to initialise a list\n",
    "# Square brackets\n",
    "\n",
    "lst1 = [1,2,3,4]\n",
    "\n",
    "print(lst1)\n",
    "print(type(lst1))"
   ]
  },
  {
   "cell_type": "code",
   "execution_count": 8,
   "id": "5347765f",
   "metadata": {},
   "outputs": [
    {
     "name": "stdout",
     "output_type": "stream",
     "text": [
      "[1, 2, 3, 4, ['a', 'b'], (2+3j), 111.11, {'x': 100, 'y': 200}, {8, 2, 4, 6}, (10, 20, 30)]\n"
     ]
    }
   ],
   "source": [
    "lst2 = [1,2,3,4,['a','b'],2+3j, 111.11, {'x':100, 'y':200}, {2,4,6,8}, (10,20,30)]\n",
    "\n",
    "print(lst2)"
   ]
  },
  {
   "cell_type": "code",
   "execution_count": 9,
   "id": "953b16c4",
   "metadata": {},
   "outputs": [
    {
     "name": "stdout",
     "output_type": "stream",
     "text": [
      "1\n",
      "2\n",
      "3\n",
      "4\n",
      "['a', 'b']\n",
      "(2+3j)\n",
      "111.11\n",
      "{'x': 100, 'y': 200}\n",
      "{8, 2, 4, 6}\n",
      "(10, 20, 30)\n"
     ]
    }
   ],
   "source": [
    "for item in lst2:\n",
    "    print(item)"
   ]
  },
  {
   "cell_type": "code",
   "execution_count": 10,
   "id": "389e2157",
   "metadata": {},
   "outputs": [
    {
     "name": "stdout",
     "output_type": "stream",
     "text": [
      "[1, 2, 3, 44, ['a', 'b'], (2+3j), 111.11, {'x': 100, 'y': 200}, {8, 2, 4, 6}, (10, 20, 30)]\n"
     ]
    }
   ],
   "source": [
    "lst2[3] = 44\n",
    "\n",
    "print(lst2)"
   ]
  },
  {
   "cell_type": "code",
   "execution_count": 11,
   "id": "b927d9fa",
   "metadata": {},
   "outputs": [
    {
     "data": {
      "text/plain": [
       "44"
      ]
     },
     "execution_count": 11,
     "metadata": {},
     "output_type": "execute_result"
    }
   ],
   "source": [
    "lst2[3]"
   ]
  },
  {
   "cell_type": "code",
   "execution_count": 12,
   "id": "47dfb7f3",
   "metadata": {},
   "outputs": [
    {
     "data": {
      "text/plain": [
       "[2, 3, 44]"
      ]
     },
     "execution_count": 12,
     "metadata": {},
     "output_type": "execute_result"
    }
   ],
   "source": [
    "lst2[1:4]"
   ]
  },
  {
   "cell_type": "code",
   "execution_count": null,
   "id": "1e9818ca",
   "metadata": {},
   "outputs": [],
   "source": [
    "# Slice assignment in lists rules:\n",
    "# 1. Elements being replaced do not necessarily have to number the elements replacing them. \n",
    "# 2. The items replacing the elements in the list must be in an iterable"
   ]
  },
  {
   "cell_type": "code",
   "execution_count": 13,
   "id": "82e92bf6",
   "metadata": {},
   "outputs": [
    {
     "name": "stdout",
     "output_type": "stream",
     "text": [
      "[1, 'a', 'b', 'c', 'd', 'e', 'f', 'g', 'h', 'i', 'j', ['a', 'b'], (2+3j), 111.11, {'x': 100, 'y': 200}, {8, 2, 4, 6}, (10, 20, 30)]\n"
     ]
    }
   ],
   "source": [
    "lst2[1:4] = 'abcdefghij'\n",
    "\n",
    "print(lst2)"
   ]
  },
  {
   "cell_type": "code",
   "execution_count": null,
   "id": "cf038924",
   "metadata": {},
   "outputs": [],
   "source": [
    "# By using the list function"
   ]
  },
  {
   "cell_type": "code",
   "execution_count": 14,
   "id": "a00183b6",
   "metadata": {},
   "outputs": [
    {
     "name": "stdout",
     "output_type": "stream",
     "text": [
      "range(0, 100)\n",
      "100\n"
     ]
    }
   ],
   "source": [
    "range1 = range(100)\n",
    "\n",
    "print(range1)\n",
    "print(len(range1))"
   ]
  },
  {
   "cell_type": "code",
   "execution_count": 15,
   "id": "7bddf26e",
   "metadata": {},
   "outputs": [
    {
     "name": "stdout",
     "output_type": "stream",
     "text": [
      "[0, 1, 2, 3, 4, 5, 6, 7, 8, 9, 10, 11, 12, 13, 14, 15, 16, 17, 18, 19, 20, 21, 22, 23, 24, 25, 26, 27, 28, 29, 30, 31, 32, 33, 34, 35, 36, 37, 38, 39, 40, 41, 42, 43, 44, 45, 46, 47, 48, 49, 50, 51, 52, 53, 54, 55, 56, 57, 58, 59, 60, 61, 62, 63, 64, 65, 66, 67, 68, 69, 70, 71, 72, 73, 74, 75, 76, 77, 78, 79, 80, 81, 82, 83, 84, 85, 86, 87, 88, 89, 90, 91, 92, 93, 94, 95, 96, 97, 98, 99]\n",
      "100\n"
     ]
    }
   ],
   "source": [
    "lstrange = list(range(100))\n",
    "\n",
    "print(lstrange)\n",
    "print(len(lstrange))"
   ]
  },
  {
   "cell_type": "code",
   "execution_count": 16,
   "id": "33b82da0",
   "metadata": {},
   "outputs": [
    {
     "name": "stdout",
     "output_type": "stream",
     "text": [
      "['a', 'b', 'c', 'd', 'e', 'f', 'g', 'h', 'i', 'j']\n"
     ]
    }
   ],
   "source": [
    "lstalpha = list('abcdefghij')\n",
    "\n",
    "print(lstalpha)\n"
   ]
  },
  {
   "cell_type": "code",
   "execution_count": 17,
   "id": "e8ca5549",
   "metadata": {},
   "outputs": [
    {
     "name": "stdout",
     "output_type": "stream",
     "text": [
      "['abcdefghij']\n"
     ]
    }
   ],
   "source": [
    "lstalpha2 = list(('abcdefghij',))\n",
    "\n",
    "print(lstalpha2)"
   ]
  },
  {
   "cell_type": "code",
   "execution_count": 18,
   "id": "7a338571",
   "metadata": {},
   "outputs": [
    {
     "name": "stdout",
     "output_type": "stream",
     "text": [
      "['abcdefghij']\n"
     ]
    }
   ],
   "source": [
    "lstalpha2 = ['abcdefghij']\n",
    "\n",
    "print(lstalpha2)"
   ]
  },
  {
   "cell_type": "code",
   "execution_count": 21,
   "id": "27541271",
   "metadata": {},
   "outputs": [
    {
     "name": "stdout",
     "output_type": "stream",
     "text": [
      "[10, 20]\n"
     ]
    }
   ],
   "source": [
    "lst1 = list((10,20))\n",
    "\n",
    "print(lst1)"
   ]
  },
  {
   "cell_type": "code",
   "execution_count": 22,
   "id": "7a3081a6",
   "metadata": {},
   "outputs": [
    {
     "name": "stdout",
     "output_type": "stream",
     "text": [
      "['a', 'b', 'c', 'd', 'e']\n",
      "['f', 'g', 'h', 'i', 'j']\n"
     ]
    }
   ],
   "source": [
    "# Concatenation and multiplication\n",
    "\n",
    "lst1 = list('abcde')\n",
    "lst2 = list('fghij')\n",
    "\n",
    "print(lst1)\n",
    "print(lst2)"
   ]
  },
  {
   "cell_type": "code",
   "execution_count": 23,
   "id": "84f74905",
   "metadata": {},
   "outputs": [
    {
     "name": "stdout",
     "output_type": "stream",
     "text": [
      "['a', 'b', 'c', 'd', 'e', 'f', 'g', 'h', 'i', 'j']\n"
     ]
    }
   ],
   "source": [
    "lst3 = lst1 + lst2\n",
    "\n",
    "print(lst3)"
   ]
  },
  {
   "cell_type": "code",
   "execution_count": 24,
   "id": "ae8c3af6",
   "metadata": {},
   "outputs": [
    {
     "ename": "TypeError",
     "evalue": "can only concatenate list (not \"str\") to list",
     "output_type": "error",
     "traceback": [
      "\u001b[1;31m---------------------------------------------------------------------------\u001b[0m",
      "\u001b[1;31mTypeError\u001b[0m                                 Traceback (most recent call last)",
      "\u001b[1;32m~\\AppData\\Local\\Temp\\ipykernel_6732\\1913998659.py\u001b[0m in \u001b[0;36m<module>\u001b[1;34m\u001b[0m\n\u001b[1;32m----> 1\u001b[1;33m \u001b[0mlst4\u001b[0m \u001b[1;33m=\u001b[0m \u001b[0mlst1\u001b[0m \u001b[1;33m+\u001b[0m \u001b[1;34m'fghij'\u001b[0m\u001b[1;33m\u001b[0m\u001b[1;33m\u001b[0m\u001b[0m\n\u001b[0m\u001b[0;32m      2\u001b[0m \u001b[1;33m\u001b[0m\u001b[0m\n\u001b[0;32m      3\u001b[0m \u001b[0mprint\u001b[0m\u001b[1;33m(\u001b[0m\u001b[0mlst4\u001b[0m\u001b[1;33m)\u001b[0m\u001b[1;33m\u001b[0m\u001b[1;33m\u001b[0m\u001b[0m\n",
      "\u001b[1;31mTypeError\u001b[0m: can only concatenate list (not \"str\") to list"
     ]
    }
   ],
   "source": [
    "# Concatenation can only be performed between same datatype\n",
    "\n",
    "# All overloaded operators - >,<,==,!=, <=, >= - when they are not being used for arithmetic i.e. special capabilities given\n",
    "# to these operators in programming will only work between same datatype\n",
    "lst4 = lst1 + 'fghij'\n",
    "\n",
    "print(lst4)"
   ]
  },
  {
   "cell_type": "code",
   "execution_count": 25,
   "id": "d71b8d47",
   "metadata": {},
   "outputs": [
    {
     "ename": "TypeError",
     "evalue": "'>' not supported between instances of 'str' and 'int'",
     "output_type": "error",
     "traceback": [
      "\u001b[1;31m---------------------------------------------------------------------------\u001b[0m",
      "\u001b[1;31mTypeError\u001b[0m                                 Traceback (most recent call last)",
      "\u001b[1;32m~\\AppData\\Local\\Temp\\ipykernel_6732\\2010192534.py\u001b[0m in \u001b[0;36m<module>\u001b[1;34m\u001b[0m\n\u001b[1;32m----> 1\u001b[1;33m \u001b[0mprint\u001b[0m\u001b[1;33m(\u001b[0m\u001b[1;34m'a'\u001b[0m \u001b[1;33m>\u001b[0m \u001b[1;36m10\u001b[0m\u001b[1;33m)\u001b[0m\u001b[1;33m\u001b[0m\u001b[1;33m\u001b[0m\u001b[0m\n\u001b[0m",
      "\u001b[1;31mTypeError\u001b[0m: '>' not supported between instances of 'str' and 'int'"
     ]
    }
   ],
   "source": [
    "print('a' > 10)"
   ]
  },
  {
   "cell_type": "code",
   "execution_count": 26,
   "id": "faaa6612",
   "metadata": {},
   "outputs": [
    {
     "ename": "TypeError",
     "evalue": "'>' not supported between instances of 'str' and 'list'",
     "output_type": "error",
     "traceback": [
      "\u001b[1;31m---------------------------------------------------------------------------\u001b[0m",
      "\u001b[1;31mTypeError\u001b[0m                                 Traceback (most recent call last)",
      "\u001b[1;32m~\\AppData\\Local\\Temp\\ipykernel_6732\\1241170313.py\u001b[0m in \u001b[0;36m<module>\u001b[1;34m\u001b[0m\n\u001b[1;32m----> 1\u001b[1;33m \u001b[0mprint\u001b[0m\u001b[1;33m(\u001b[0m\u001b[1;34m'a'\u001b[0m \u001b[1;33m>\u001b[0m \u001b[1;33m[\u001b[0m\u001b[1;34m'a'\u001b[0m\u001b[1;33m]\u001b[0m\u001b[1;33m)\u001b[0m\u001b[1;33m\u001b[0m\u001b[1;33m\u001b[0m\u001b[0m\n\u001b[0m",
      "\u001b[1;31mTypeError\u001b[0m: '>' not supported between instances of 'str' and 'list'"
     ]
    }
   ],
   "source": [
    "print('a' > ['a'])"
   ]
  },
  {
   "cell_type": "code",
   "execution_count": 27,
   "id": "28fa59c5",
   "metadata": {},
   "outputs": [
    {
     "name": "stdout",
     "output_type": "stream",
     "text": [
      "False\n"
     ]
    }
   ],
   "source": [
    "print('a' == ['a'])"
   ]
  },
  {
   "cell_type": "code",
   "execution_count": null,
   "id": "4c441b0b",
   "metadata": {},
   "outputs": [],
   "source": [
    "# 'Rikki'\n",
    "\n",
    "# Internal algorithm that calculates a value BASED ON THE ELEMENTS CONTAINED. Hash Value - stored in metadata\n",
    "\n",
    "# == \n",
    "# 1. R i k k i = [R i k k i ]\n",
    "\n",
    "# 2. Compare the hash values\n",
    "\n",
    "# Rikki \n",
    "# Rikki\n",
    "\n",
    "# Same hash values for same object\n",
    "\n",
    "\n",
    "# x * 5 + 7 x 3 / 14 ** 3 ** (1/5) \n",
    "\n",
    "\n",
    "# x = 5\n",
    "# x = 7\n",
    "\n",
    "# Expect different results\n",
    "# x = 5, x = 5\n",
    "\n",
    "\n",
    "# If it is an immutable datatype - Can its hash value change over the objects lifetime?\n",
    "\n",
    "# lst1 = ['R', 'i', 'k', 'k','i']\n",
    "\n",
    "# For mutable objects - their hash values can change over time. \n",
    "\n",
    "\n",
    "# == hash value is only checked\n",
    "\n",
    "# immutable datatypes - are hashable\n",
    "# mutable datatypes = are unhashable"
   ]
  },
  {
   "cell_type": "code",
   "execution_count": 28,
   "id": "9672891b",
   "metadata": {},
   "outputs": [
    {
     "name": "stdout",
     "output_type": "stream",
     "text": [
      "{'a': 100, 'b': 200}\n"
     ]
    }
   ],
   "source": [
    "dict1 = {'a':100, 'b':200}\n",
    "\n",
    "print(dict1)\n",
    "\n"
   ]
  },
  {
   "cell_type": "code",
   "execution_count": 30,
   "id": "2f49a2c8",
   "metadata": {},
   "outputs": [
    {
     "ename": "TypeError",
     "evalue": "unhashable type: 'list'",
     "output_type": "error",
     "traceback": [
      "\u001b[1;31m---------------------------------------------------------------------------\u001b[0m",
      "\u001b[1;31mTypeError\u001b[0m                                 Traceback (most recent call last)",
      "\u001b[1;32m~\\AppData\\Local\\Temp\\ipykernel_6732\\1001365523.py\u001b[0m in \u001b[0;36m<module>\u001b[1;34m\u001b[0m\n\u001b[1;32m----> 1\u001b[1;33m \u001b[0mdict2\u001b[0m \u001b[1;33m=\u001b[0m \u001b[1;33m{\u001b[0m\u001b[1;33m[\u001b[0m\u001b[1;34m'a'\u001b[0m\u001b[1;33m,\u001b[0m\u001b[1;34m'b'\u001b[0m\u001b[1;33m]\u001b[0m\u001b[1;33m:\u001b[0m\u001b[1;36m100\u001b[0m\u001b[1;33m,\u001b[0m \u001b[1;34m'c'\u001b[0m\u001b[1;33m:\u001b[0m\u001b[1;36m200\u001b[0m\u001b[1;33m}\u001b[0m\u001b[1;33m\u001b[0m\u001b[1;33m\u001b[0m\u001b[0m\n\u001b[0m\u001b[0;32m      2\u001b[0m \u001b[1;33m\u001b[0m\u001b[0m\n\u001b[0;32m      3\u001b[0m \u001b[0mprint\u001b[0m\u001b[1;33m(\u001b[0m\u001b[0mdict2\u001b[0m\u001b[1;33m)\u001b[0m\u001b[1;33m\u001b[0m\u001b[1;33m\u001b[0m\u001b[0m\n",
      "\u001b[1;31mTypeError\u001b[0m: unhashable type: 'list'"
     ]
    }
   ],
   "source": [
    "dict2 = {['a','b']:100, 'c':200}\n",
    "\n",
    "print(dict2)"
   ]
  },
  {
   "cell_type": "code",
   "execution_count": 31,
   "id": "9af8c794",
   "metadata": {},
   "outputs": [
    {
     "name": "stdout",
     "output_type": "stream",
     "text": [
      "abcabcabcabcabc\n"
     ]
    }
   ],
   "source": [
    "# Multiplication of lists\n",
    "\n",
    "str1 = 'abc'*5\n",
    "\n",
    "print(str1)"
   ]
  },
  {
   "cell_type": "code",
   "execution_count": 32,
   "id": "fc7d6aa0",
   "metadata": {},
   "outputs": [
    {
     "name": "stdout",
     "output_type": "stream",
     "text": [
      "[1, 2, 3, 4, 1, 2, 3, 4, 1, 2, 3, 4, 1, 2, 3, 4, 1, 2, 3, 4]\n"
     ]
    }
   ],
   "source": [
    "lst1 = [1,2,3,4]\n",
    "\n",
    "print(lst1*5)\n",
    "\n",
    "# Will this give one list with 1,2,3,4 repeated 5 times\n",
    "# Will this give 5 lists of 1,2,3,4"
   ]
  },
  {
   "cell_type": "code",
   "execution_count": 33,
   "id": "631a777b",
   "metadata": {},
   "outputs": [
    {
     "name": "stdout",
     "output_type": "stream",
     "text": [
      "[1, 2, 3, 4]\n"
     ]
    },
    {
     "ename": "TypeError",
     "evalue": "unsupported operand type(s) for *: 'NoneType' and 'int'",
     "output_type": "error",
     "traceback": [
      "\u001b[1;31m---------------------------------------------------------------------------\u001b[0m",
      "\u001b[1;31mTypeError\u001b[0m                                 Traceback (most recent call last)",
      "\u001b[1;32m~\\AppData\\Local\\Temp\\ipykernel_6732\\3073070187.py\u001b[0m in \u001b[0;36m<module>\u001b[1;34m\u001b[0m\n\u001b[1;32m----> 1\u001b[1;33m \u001b[0mprint\u001b[0m\u001b[1;33m(\u001b[0m\u001b[0mlst1\u001b[0m\u001b[1;33m)\u001b[0m\u001b[1;33m*\u001b[0m\u001b[1;36m5\u001b[0m\u001b[1;33m\u001b[0m\u001b[1;33m\u001b[0m\u001b[0m\n\u001b[0m",
      "\u001b[1;31mTypeError\u001b[0m: unsupported operand type(s) for *: 'NoneType' and 'int'"
     ]
    }
   ],
   "source": [
    "#print(lst1)*5"
   ]
  },
  {
   "cell_type": "code",
   "execution_count": null,
   "id": "58f57116",
   "metadata": {},
   "outputs": [],
   "source": [
    "# Aliasing, copying, deepcopying\n",
    "\n",
    "# methods of lists\n",
    "# + List comprehension (easy syntax for creating lists)"
   ]
  },
  {
   "cell_type": "code",
   "execution_count": 34,
   "id": "16347edf",
   "metadata": {},
   "outputs": [],
   "source": [
    "import numpy as np"
   ]
  },
  {
   "cell_type": "code",
   "execution_count": 35,
   "id": "0424f0a8",
   "metadata": {},
   "outputs": [
    {
     "name": "stdout",
     "output_type": "stream",
     "text": [
      "Methods\n"
     ]
    }
   ],
   "source": [
    "x = np.random.choice(['AliasingEtc', 'Methods'])\n",
    "\n",
    "print(x)"
   ]
  },
  {
   "cell_type": "code",
   "execution_count": 36,
   "id": "45d4649e",
   "metadata": {},
   "outputs": [
    {
     "name": "stdout",
     "output_type": "stream",
     "text": [
      "['__add__', '__class__', '__class_getitem__', '__contains__', '__delattr__', '__delitem__', '__dir__', '__doc__', '__eq__', '__format__', '__ge__', '__getattribute__', '__getitem__', '__gt__', '__hash__', '__iadd__', '__imul__', '__init__', '__init_subclass__', '__iter__', '__le__', '__len__', '__lt__', '__mul__', '__ne__', '__new__', '__reduce__', '__reduce_ex__', '__repr__', '__reversed__', '__rmul__', '__setattr__', '__setitem__', '__sizeof__', '__str__', '__subclasshook__', 'append', 'clear', 'copy', 'count', 'extend', 'index', 'insert', 'pop', 'remove', 'reverse', 'sort']\n"
     ]
    }
   ],
   "source": [
    "print(dir(list))"
   ]
  },
  {
   "cell_type": "code",
   "execution_count": null,
   "id": "12da00e5",
   "metadata": {},
   "outputs": [],
   "source": [
    "# 'append',- X\n",
    "# 'clear', - X\n",
    "# 'copy', - X \n",
    "# 'count', - X\n",
    "# 'extend' - X\n",
    "# 'index', - X\n",
    "# 'insert', - X\n",
    "# 'pop', - X\n",
    "# 'remove', - X\n",
    "# 'reverse', - X\n",
    "# 'sort'"
   ]
  },
  {
   "cell_type": "code",
   "execution_count": 37,
   "id": "1784d5a8",
   "metadata": {},
   "outputs": [
    {
     "name": "stdout",
     "output_type": "stream",
     "text": [
      "['x', 'y', 'z', 'a', 'b', 'p', 'q', 'b', 'r', 'a', 'b', 'c', 'd', 'a', 'b', 'b', 'a']\n"
     ]
    }
   ],
   "source": [
    "# Count method\n",
    "\n",
    "#1 Parameter - Elements to be counted\n",
    "\n",
    "lst1 = list('xyzabpqbrabcdabba')\n",
    "\n",
    "print(lst1)"
   ]
  },
  {
   "cell_type": "code",
   "execution_count": 38,
   "id": "559deb58",
   "metadata": {},
   "outputs": [
    {
     "name": "stdout",
     "output_type": "stream",
     "text": [
      "4\n"
     ]
    }
   ],
   "source": [
    "print(lst1.count('a'))"
   ]
  },
  {
   "cell_type": "code",
   "execution_count": 39,
   "id": "472e49c2",
   "metadata": {},
   "outputs": [
    {
     "name": "stdout",
     "output_type": "stream",
     "text": [
      "['x', 'y', 'z', 'a', 'b', 'p', 'q', 'b', 'r', 'a', 'b', 'c', 'd', 'a', 'b', 'b', 'a']\n"
     ]
    }
   ],
   "source": [
    "# Copy method creates a copy of the list being copied.\n",
    "\n",
    "# 1 No parameters.\n",
    "\n",
    "lst2 = lst1.copy()\n",
    "\n",
    "print(lst2)"
   ]
  },
  {
   "cell_type": "code",
   "execution_count": 40,
   "id": "ccff27d1",
   "metadata": {},
   "outputs": [
    {
     "name": "stdout",
     "output_type": "stream",
     "text": [
      "['x', 'y', 'z', 'a', 'b', 'p', 'q', 'b', 'r', 'a', 'b', 'c', 'd', 'a', 'b', 'b', 'a']\n"
     ]
    }
   ],
   "source": [
    "lst3 = []\n",
    "\n",
    "lst3 += lst1\n",
    "\n",
    "print(lst3)"
   ]
  },
  {
   "cell_type": "code",
   "execution_count": 41,
   "id": "90c03c66",
   "metadata": {},
   "outputs": [
    {
     "name": "stdout",
     "output_type": "stream",
     "text": [
      "2008500211328\n",
      "2008478565888\n"
     ]
    }
   ],
   "source": [
    "print(id(lst1))\n",
    "print(id(lst3))"
   ]
  },
  {
   "cell_type": "code",
   "execution_count": 42,
   "id": "94f1ee35",
   "metadata": {},
   "outputs": [
    {
     "name": "stdout",
     "output_type": "stream",
     "text": [
      "['x', 'y', 'z', 'a', 'b', 'p', 'q', 'b', 'r', 'a', 'b', 'c', 'd', 'a', 'b', 'b', 'a']\n"
     ]
    }
   ],
   "source": [
    "print(lst3)"
   ]
  },
  {
   "cell_type": "code",
   "execution_count": 86,
   "id": "100db56d",
   "metadata": {},
   "outputs": [
    {
     "name": "stdout",
     "output_type": "stream",
     "text": [
      "[]\n"
     ]
    }
   ],
   "source": [
    "# Clear method - clears the list of all elements while retaining the memory ID i.e. list itself exists but is empty.\n",
    "\n",
    "# No parameters\n",
    "\n",
    "lst3.clear()\n",
    "\n",
    "print(lst3)"
   ]
  },
  {
   "cell_type": "code",
   "execution_count": 60,
   "id": "280ef809",
   "metadata": {},
   "outputs": [
    {
     "name": "stdout",
     "output_type": "stream",
     "text": [
      "[0, 1, 2, 3, 4, 5, 6, 7, 8, 9]\n"
     ]
    }
   ],
   "source": [
    "lst1 = list(range(10))\n",
    "\n",
    "print(lst1)"
   ]
  },
  {
   "cell_type": "code",
   "execution_count": 61,
   "id": "bb84d01b",
   "metadata": {},
   "outputs": [
    {
     "name": "stdout",
     "output_type": "stream",
     "text": [
      "None\n"
     ]
    }
   ],
   "source": [
    "lst2 = lst1.clear()\n",
    "\n",
    "print(lst2)"
   ]
  },
  {
   "cell_type": "code",
   "execution_count": 62,
   "id": "1a87446b",
   "metadata": {},
   "outputs": [
    {
     "name": "stdout",
     "output_type": "stream",
     "text": [
      "[]\n"
     ]
    }
   ],
   "source": [
    "print(lst1)"
   ]
  },
  {
   "cell_type": "code",
   "execution_count": null,
   "id": "0ba0e591",
   "metadata": {},
   "outputs": [],
   "source": []
  },
  {
   "cell_type": "code",
   "execution_count": 44,
   "id": "ce1fc6b4",
   "metadata": {},
   "outputs": [
    {
     "name": "stdout",
     "output_type": "stream",
     "text": [
      "2008478565888\n"
     ]
    }
   ],
   "source": [
    "print(id(lst3))"
   ]
  },
  {
   "cell_type": "code",
   "execution_count": 66,
   "id": "65da56ed",
   "metadata": {},
   "outputs": [
    {
     "name": "stdout",
     "output_type": "stream",
     "text": [
      "[1, 2, 3, 4]\n"
     ]
    }
   ],
   "source": [
    "# Functions and return keyword\n",
    "\n",
    "# This function only performs an action\n",
    "lst1 = [1,2,3,4]\n",
    "\n",
    "print(lst1)"
   ]
  },
  {
   "cell_type": "code",
   "execution_count": 67,
   "id": "cc52c85f",
   "metadata": {},
   "outputs": [],
   "source": [
    "def append1(arg1, element):\n",
    "    arg1 += [element]"
   ]
  },
  {
   "cell_type": "code",
   "execution_count": 53,
   "id": "3fe9d321",
   "metadata": {},
   "outputs": [],
   "source": [
    "def funct1(arg1,element):\n",
    "    arg1 += [element]\n",
    "    return arg1"
   ]
  },
  {
   "cell_type": "code",
   "execution_count": 49,
   "id": "e215b1e9",
   "metadata": {},
   "outputs": [
    {
     "name": "stdout",
     "output_type": "stream",
     "text": [
      "None\n"
     ]
    }
   ],
   "source": [
    "x = funct(lst1,5)\n",
    "\n",
    "print(x)"
   ]
  },
  {
   "cell_type": "code",
   "execution_count": 50,
   "id": "ee4704b4",
   "metadata": {},
   "outputs": [
    {
     "name": "stdout",
     "output_type": "stream",
     "text": [
      "[1, 2, 3, 4, 5]\n"
     ]
    }
   ],
   "source": [
    "print(lst1)"
   ]
  },
  {
   "cell_type": "code",
   "execution_count": 54,
   "id": "4f9cb45d",
   "metadata": {},
   "outputs": [
    {
     "name": "stdout",
     "output_type": "stream",
     "text": [
      "[1, 2, 3, 4, 5]\n",
      "[1, 2, 3, 4, 5]\n"
     ]
    }
   ],
   "source": [
    "x = funct1(lst1, 5)\n",
    "\n",
    "print(x)\n",
    "print(lst1)"
   ]
  },
  {
   "cell_type": "code",
   "execution_count": 56,
   "id": "12378437",
   "metadata": {},
   "outputs": [],
   "source": [
    "def funct1():\n",
    "    print('Deliver Mobile phone')"
   ]
  },
  {
   "cell_type": "code",
   "execution_count": 57,
   "id": "7ed93313",
   "metadata": {},
   "outputs": [],
   "source": [
    "def funct2():\n",
    "    print('Deliver Mobile Phone')\n",
    "    return 'Money'"
   ]
  },
  {
   "cell_type": "code",
   "execution_count": 58,
   "id": "1b247995",
   "metadata": {},
   "outputs": [
    {
     "name": "stdout",
     "output_type": "stream",
     "text": [
      "Deliver Mobile phone\n",
      "None\n"
     ]
    }
   ],
   "source": [
    "drawer = funct1()\n",
    "\n",
    "print(drawer)"
   ]
  },
  {
   "cell_type": "code",
   "execution_count": 59,
   "id": "5ab0fb5f",
   "metadata": {},
   "outputs": [
    {
     "name": "stdout",
     "output_type": "stream",
     "text": [
      "Deliver Mobile Phone\n",
      "Money\n"
     ]
    }
   ],
   "source": [
    "drawer = funct2()\n",
    "print(drawer)"
   ]
  },
  {
   "cell_type": "code",
   "execution_count": 63,
   "id": "674cc4ce",
   "metadata": {},
   "outputs": [
    {
     "name": "stdout",
     "output_type": "stream",
     "text": [
      "[1, 2, 3, 4]\n"
     ]
    }
   ],
   "source": [
    "# append\n",
    "\n",
    "lst1 = [1,2,3,4]\n",
    "\n",
    "print(lst1)"
   ]
  },
  {
   "cell_type": "code",
   "execution_count": 68,
   "id": "ba857635",
   "metadata": {},
   "outputs": [
    {
     "name": "stdout",
     "output_type": "stream",
     "text": [
      "None\n"
     ]
    }
   ],
   "source": [
    "x = lst1.append(5)\n",
    "\n",
    "print(x)"
   ]
  },
  {
   "cell_type": "code",
   "execution_count": 65,
   "id": "4ad9fa75",
   "metadata": {},
   "outputs": [
    {
     "name": "stdout",
     "output_type": "stream",
     "text": [
      "[1, 2, 3, 4, 5]\n"
     ]
    }
   ],
   "source": [
    "print(lst1)"
   ]
  },
  {
   "cell_type": "code",
   "execution_count": 69,
   "id": "847f1d5c",
   "metadata": {},
   "outputs": [
    {
     "name": "stdout",
     "output_type": "stream",
     "text": [
      "[1, 2, 3, 4, 5, 5]\n"
     ]
    }
   ],
   "source": [
    "lst2 = lst1 + [5]\n",
    "\n",
    "print(lst2)"
   ]
  },
  {
   "cell_type": "code",
   "execution_count": 73,
   "id": "8382cf19",
   "metadata": {},
   "outputs": [
    {
     "name": "stdout",
     "output_type": "stream",
     "text": [
      "[0, 1, 2, 3, 4]\n",
      "[6, 7, 8, 9, 10]\n"
     ]
    }
   ],
   "source": [
    "# extend function extends the original list by adding the elements of specified iterable\n",
    "\n",
    "# 1 Parameter - iterable whose elements to be added to original list.\n",
    "\n",
    "lst1 = list(range(5))\n",
    "lst2 = list(range(6,11))\n",
    "\n",
    "print(lst1)\n",
    "print(lst2)"
   ]
  },
  {
   "cell_type": "code",
   "execution_count": 71,
   "id": "300dce6b",
   "metadata": {},
   "outputs": [
    {
     "name": "stdout",
     "output_type": "stream",
     "text": [
      "None\n"
     ]
    }
   ],
   "source": [
    "lst3 = lst1.extend(lst2)\n",
    "\n",
    "print(lst3)"
   ]
  },
  {
   "cell_type": "code",
   "execution_count": 72,
   "id": "81887752",
   "metadata": {},
   "outputs": [
    {
     "name": "stdout",
     "output_type": "stream",
     "text": [
      "[0, 1, 2, 3, 4, 6, 7, 8, 9, 10]\n"
     ]
    }
   ],
   "source": [
    "print(lst1)"
   ]
  },
  {
   "cell_type": "code",
   "execution_count": 74,
   "id": "5288f644",
   "metadata": {},
   "outputs": [
    {
     "name": "stdout",
     "output_type": "stream",
     "text": [
      "(6, 7, 8, 9, 10)\n"
     ]
    }
   ],
   "source": [
    "tup1 = tuple(lst2)\n",
    "\n",
    "print(tup1)"
   ]
  },
  {
   "cell_type": "code",
   "execution_count": 75,
   "id": "f9df7eaa",
   "metadata": {},
   "outputs": [
    {
     "name": "stdout",
     "output_type": "stream",
     "text": [
      "[0, 1, 2, 3, 4, 6, 7, 8, 9, 10]\n"
     ]
    }
   ],
   "source": [
    "lst1.extend(tup1)\n",
    "\n",
    "print(lst1)"
   ]
  },
  {
   "cell_type": "code",
   "execution_count": null,
   "id": "8861ad40",
   "metadata": {},
   "outputs": [],
   "source": [
    "# Concatenation and extend - Difference?\n",
    "\n",
    "# 1. Concatenation can only be performed between same datatype. Extend will allow one iterable as its parameter and the \n",
    "# elements of that iterable will be added to list.\n",
    "# 2. Concatenation - Creates a new object while extend modifies the ORIGINAL list. "
   ]
  },
  {
   "cell_type": "code",
   "execution_count": 79,
   "id": "36f7f3df",
   "metadata": {},
   "outputs": [
    {
     "name": "stdout",
     "output_type": "stream",
     "text": [
      "[0, 1, 2, 3, 4, 6, 7, 8, 9, 10]\n"
     ]
    }
   ],
   "source": [
    "lst1 = list(range(5))\n",
    "lst2 = list(range(6,11))\n",
    "\n",
    "lst3 = lst1 + lst2\n",
    "\n",
    "print(lst3)"
   ]
  },
  {
   "cell_type": "code",
   "execution_count": 80,
   "id": "2f4183f6",
   "metadata": {},
   "outputs": [
    {
     "name": "stdout",
     "output_type": "stream",
     "text": [
      "[0, 1, 2, 3, 4, 6, 7, 8, 9, 10]\n"
     ]
    }
   ],
   "source": [
    "lst1.extend(lst2)\n",
    "\n",
    "print(lst1)"
   ]
  },
  {
   "cell_type": "code",
   "execution_count": 85,
   "id": "b54f3bd3",
   "metadata": {},
   "outputs": [],
   "source": [
    "# Index\n",
    "\n",
    "# String has - find, index, rfind and rindex. LISTS HAVE ONLY INDEX METHOD!!!\n",
    "\n",
    "# Like the string index method - it takes 3 parameters:\n",
    "\n",
    "#1. Element to be found in list - Mandatory\n",
    "#2. Start index - Optional. Defaults to begining of list\n",
    "#3. Stop Index - Optional - Defaults to end of list. However, if we need to give stop then start index must be given(can be\n",
    "# set to 0)"
   ]
  },
  {
   "cell_type": "code",
   "execution_count": 82,
   "id": "d9ba4bd5",
   "metadata": {},
   "outputs": [
    {
     "name": "stdout",
     "output_type": "stream",
     "text": [
      "['a', 'b', 'c', 'd', 'e', 'f', 'g', 'h', 'i', 'j', 'a', 'b', 'c', 'd', 'e']\n"
     ]
    }
   ],
   "source": [
    "lst1 = list('abcdefghijabcde')\n",
    "\n",
    "print(lst1)\n",
    "\n"
   ]
  },
  {
   "cell_type": "code",
   "execution_count": 84,
   "id": "54d3ba7c",
   "metadata": {},
   "outputs": [
    {
     "name": "stdout",
     "output_type": "stream",
     "text": [
      "9\n"
     ]
    }
   ],
   "source": [
    "x = lst1.index('j')\n",
    "\n",
    "print(x)"
   ]
  },
  {
   "cell_type": "code",
   "execution_count": 108,
   "id": "d6ac5b01",
   "metadata": {},
   "outputs": [
    {
     "name": "stdout",
     "output_type": "stream",
     "text": [
      "1\n"
     ]
    }
   ],
   "source": [
    "idx = lst1.index('a')\n",
    "\n",
    "print(idx) "
   ]
  },
  {
   "cell_type": "code",
   "execution_count": null,
   "id": "65d1c4ba",
   "metadata": {},
   "outputs": [],
   "source": []
  },
  {
   "cell_type": "code",
   "execution_count": null,
   "id": "b176cfd4",
   "metadata": {},
   "outputs": [],
   "source": []
  },
  {
   "cell_type": "code",
   "execution_count": 87,
   "id": "5b14fce7",
   "metadata": {},
   "outputs": [
    {
     "name": "stdout",
     "output_type": "stream",
     "text": [
      "None\n"
     ]
    }
   ],
   "source": [
    "# Append, insert\n",
    "\n",
    "# Append - adds an element to end of list. \n",
    "\n",
    "# 1 Parameter - element to be added to END of list - NOWHERE ELSE.\n",
    "\n",
    "lst1 = [1,2,3,4]\n",
    "\n",
    "lst2 = lst1.append('b')\n",
    "\n",
    "print(lst2)"
   ]
  },
  {
   "cell_type": "code",
   "execution_count": 88,
   "id": "541e18e5",
   "metadata": {},
   "outputs": [
    {
     "name": "stdout",
     "output_type": "stream",
     "text": [
      "[1, 2, 3, 4, 'b']\n"
     ]
    }
   ],
   "source": [
    "print(lst1)"
   ]
  },
  {
   "cell_type": "code",
   "execution_count": 89,
   "id": "5d243b0c",
   "metadata": {},
   "outputs": [
    {
     "name": "stdout",
     "output_type": "stream",
     "text": [
      "['A', 'a', 's', 'h']\n"
     ]
    }
   ],
   "source": [
    "# insert - Inserts an element at specified index position. \n",
    "\n",
    "# Two parameters : \n",
    "\n",
    "#1. Index position at which the element will be added. \n",
    "#2. Element to be added. \n",
    "\n",
    "# Note that when we use insert (as with append) - length of list changes i.e. increase by 1. ALL the elements to the right\n",
    "# of the inserted element increase their index position by 1. \n",
    "\n",
    "lst1 = list('Aash')\n",
    "\n",
    "print(lst1)"
   ]
  },
  {
   "cell_type": "code",
   "execution_count": 90,
   "id": "48371934",
   "metadata": {},
   "outputs": [
    {
     "name": "stdout",
     "output_type": "stream",
     "text": [
      "['A', 'k', 'a', 's', 'h']\n"
     ]
    }
   ],
   "source": [
    "lst1.insert(1,'k')\n",
    "\n",
    "print(lst1)"
   ]
  },
  {
   "cell_type": "code",
   "execution_count": 93,
   "id": "7ebe6921",
   "metadata": {},
   "outputs": [
    {
     "name": "stdout",
     "output_type": "stream",
     "text": [
      "['A', 'k', 'a', 's']\n",
      "s\n"
     ]
    }
   ],
   "source": [
    "lst1 = list('Akas')\n",
    "\n",
    "print(lst1)\n",
    "\n",
    "print(lst1[3])"
   ]
  },
  {
   "cell_type": "code",
   "execution_count": 94,
   "id": "566e636f",
   "metadata": {},
   "outputs": [],
   "source": [
    "lst1.append('h')"
   ]
  },
  {
   "cell_type": "code",
   "execution_count": 95,
   "id": "a2a23749",
   "metadata": {},
   "outputs": [
    {
     "name": "stdout",
     "output_type": "stream",
     "text": [
      "['A', 'k', 'a', 's', 'h']\n"
     ]
    }
   ],
   "source": [
    "print(lst1)"
   ]
  },
  {
   "cell_type": "code",
   "execution_count": 96,
   "id": "108e56c7",
   "metadata": {},
   "outputs": [
    {
     "name": "stdout",
     "output_type": "stream",
     "text": [
      "s\n"
     ]
    }
   ],
   "source": [
    "print(lst1[3])"
   ]
  },
  {
   "cell_type": "code",
   "execution_count": 98,
   "id": "d34d00e9",
   "metadata": {},
   "outputs": [
    {
     "name": "stdout",
     "output_type": "stream",
     "text": [
      "['A', 'a', 's', 'h']\n",
      "a\n"
     ]
    }
   ],
   "source": [
    "lst1 = list('Aash')\n",
    "\n",
    "print(lst1)\n",
    "print(lst1[1])"
   ]
  },
  {
   "cell_type": "code",
   "execution_count": 99,
   "id": "4990b815",
   "metadata": {},
   "outputs": [
    {
     "name": "stdout",
     "output_type": "stream",
     "text": [
      "['A', 'k', 'a', 's', 'h']\n",
      "a\n"
     ]
    }
   ],
   "source": [
    "lst1.insert(1,'k')\n",
    "\n",
    "print(lst1)\n",
    "print(lst1[2])"
   ]
  },
  {
   "cell_type": "code",
   "execution_count": 100,
   "id": "75880581",
   "metadata": {},
   "outputs": [
    {
     "name": "stdout",
     "output_type": "stream",
     "text": [
      "['A', 'k', 'a', 's', 'M', 'h']\n"
     ]
    }
   ],
   "source": [
    "lst1.insert(4,'M')\n",
    "\n",
    "print(lst1)"
   ]
  },
  {
   "cell_type": "code",
   "execution_count": 106,
   "id": "584a909d",
   "metadata": {},
   "outputs": [
    {
     "name": "stdout",
     "output_type": "stream",
     "text": [
      "['C', 'h', 'a', 'u', 'd', 'h', 'a', 'r', 'y', ' ', 'S', 'a', 'g', 'a', 'r']\n"
     ]
    }
   ],
   "source": [
    "# Reverse - Reverses the elements of original list. Takes no parameters.\n",
    "\n",
    "lst1 = list('Chaudhary Sagar')\n",
    "\n",
    "print(lst1)"
   ]
  },
  {
   "cell_type": "code",
   "execution_count": 107,
   "id": "1c8262a3",
   "metadata": {},
   "outputs": [
    {
     "name": "stdout",
     "output_type": "stream",
     "text": [
      "None\n",
      "['r', 'a', 'g', 'a', 'S', ' ', 'y', 'r', 'a', 'h', 'd', 'u', 'a', 'h', 'C']\n"
     ]
    }
   ],
   "source": [
    "x = lst1.reverse()\n",
    "\n",
    "print(x)\n",
    "print(lst1)"
   ]
  },
  {
   "cell_type": "code",
   "execution_count": 111,
   "id": "1f7bdcff",
   "metadata": {},
   "outputs": [
    {
     "name": "stdout",
     "output_type": "stream",
     "text": [
      "['a', 'b', 'c', 'd', 'e', 'e', 'd', 'c', 'b', 'a', 'b', 'c', 'd', 'e', 'a']\n"
     ]
    }
   ],
   "source": [
    "# remove - Removes the first occurrence of specified element from list. \n",
    "\n",
    "# Takes one parameter - the element to be removed. \n",
    "\n",
    "lst1 = list('abcdeedcbabcdea')\n",
    "\n",
    "print(lst1)"
   ]
  },
  {
   "cell_type": "code",
   "execution_count": 110,
   "id": "5c9c434f",
   "metadata": {},
   "outputs": [
    {
     "name": "stdout",
     "output_type": "stream",
     "text": [
      "['b', 'c', 'd', 'e', 'e', 'd', 'c', 'b', 'a', 'b', 'c', 'd', 'e', 'a']\n"
     ]
    }
   ],
   "source": [
    "lst1.remove('a')\n",
    "\n",
    "print(lst1)"
   ]
  },
  {
   "cell_type": "code",
   "execution_count": 112,
   "id": "1348d9f2",
   "metadata": {},
   "outputs": [
    {
     "name": "stdout",
     "output_type": "stream",
     "text": [
      "['b', 'c', 'd', 'e', 'e', 'd', 'c', 'b', 'b', 'c', 'd', 'e']\n"
     ]
    }
   ],
   "source": [
    "for x in range(lst1.count('a')):\n",
    "    lst1.remove('a')\n",
    "    \n",
    "print(lst1)"
   ]
  },
  {
   "cell_type": "code",
   "execution_count": 113,
   "id": "7b72cd56",
   "metadata": {},
   "outputs": [
    {
     "name": "stdout",
     "output_type": "stream",
     "text": [
      "c\n"
     ]
    }
   ],
   "source": [
    "# pop - 'Pops'<removes> the element at specified INDEX position and returns which element was 'popped'<removed>\n",
    "\n",
    "# Takes one parameter - index position of element to be popped. \n",
    "# Defaults to popping last element if not specified\n",
    "\n",
    "lst1 = list('abcdeedcbabcdea')\n",
    "\n",
    "x = lst1.pop(7)\n",
    "\n",
    "print(x)"
   ]
  },
  {
   "cell_type": "code",
   "execution_count": 114,
   "id": "d518ecc4",
   "metadata": {},
   "outputs": [
    {
     "name": "stdout",
     "output_type": "stream",
     "text": [
      "['a', 'b', 'c', 'd', 'e', 'e', 'd', 'b', 'a', 'b', 'c', 'd', 'e', 'a']\n"
     ]
    }
   ],
   "source": [
    "print(lst1)"
   ]
  },
  {
   "cell_type": "code",
   "execution_count": 115,
   "id": "1de81da7",
   "metadata": {},
   "outputs": [
    {
     "name": "stdout",
     "output_type": "stream",
     "text": [
      "a\n"
     ]
    }
   ],
   "source": [
    "y = lst1.pop()\n",
    "\n",
    "print(y)"
   ]
  },
  {
   "cell_type": "code",
   "execution_count": 116,
   "id": "79647347",
   "metadata": {},
   "outputs": [
    {
     "name": "stdout",
     "output_type": "stream",
     "text": [
      "['a', 'b', 'c', 'd', 'e', 'e', 'd', 'b', 'a', 'b', 'c', 'd', 'e']\n"
     ]
    }
   ],
   "source": [
    "print(lst1)"
   ]
  },
  {
   "cell_type": "code",
   "execution_count": 117,
   "id": "0fd5f081",
   "metadata": {},
   "outputs": [],
   "source": [
    "# Difference between remove and pop\n",
    "\n",
    "#1. Remove - we know the element to be removed and are not concerned with its index position. \n",
    "#   Pop - we want to remove an element at specified INDEX position and MAY want to see what the element popped was. \n",
    "#2. Remove modifies original list and returns NOTHING. Pop - modifies the original list but returns the element at the\n",
    "# specified index position. \n",
    "#3. Remove takes one MANDATORY parameter i.e. element to be removed. Pop - takes an OPTIONAL parameter - index position of\n",
    "# element to be removed. If not specified, pops the last element."
   ]
  },
  {
   "cell_type": "code",
   "execution_count": null,
   "id": "e34b53e3",
   "metadata": {},
   "outputs": [],
   "source": [
    "# List methods we have seen:\n",
    "\n",
    "# count, copy, clear, index, extend, append, reverse, remove, pop, insert"
   ]
  },
  {
   "cell_type": "code",
   "execution_count": 4,
   "id": "f1aa21b1",
   "metadata": {},
   "outputs": [
    {
     "name": "stdout",
     "output_type": "stream",
     "text": [
      "['__add__', '__class__', '__class_getitem__', '__contains__', '__delattr__', '__delitem__', '__dir__', '__doc__', '__eq__', '__format__', '__ge__', '__getattribute__', '__getitem__', '__gt__', '__hash__', '__iadd__', '__imul__', '__init__', '__init_subclass__', '__iter__', '__le__', '__len__', '__lt__', '__mul__', '__ne__', '__new__', '__reduce__', '__reduce_ex__', '__repr__', '__reversed__', '__rmul__', '__setattr__', '__setitem__', '__sizeof__', '__str__', '__subclasshook__', 'append', 'clear', 'copy', 'count', 'extend', 'index', 'insert', 'pop', 'remove', 'reverse', 'sort']\n"
     ]
    }
   ],
   "source": [
    "print(dir(list))"
   ]
  },
  {
   "cell_type": "code",
   "execution_count": null,
   "id": "8f0ca906",
   "metadata": {},
   "outputs": [],
   "source": [
    "# Sort method on lists\n",
    "\n",
    "# Sorts the elements of the list in order. \n",
    "\n",
    "# It takes two optional parameters:\n",
    "\n",
    "# Reverse = False by default and sorts in ascending order. If reverse is set to True then will sort in descending order.\n",
    "# Key"
   ]
  },
  {
   "cell_type": "code",
   "execution_count": 8,
   "id": "f637e6d2",
   "metadata": {},
   "outputs": [
    {
     "name": "stdout",
     "output_type": "stream",
     "text": [
      "[9, 10, 98, 51, 53, 53, 71, 55, 3, 82]\n"
     ]
    }
   ],
   "source": [
    "import numpy as np\n",
    "\n",
    "lst1 = list(np.random.randint(1,101,10))\n",
    "\n",
    "print(lst1)"
   ]
  },
  {
   "cell_type": "code",
   "execution_count": 9,
   "id": "90e39638",
   "metadata": {},
   "outputs": [
    {
     "name": "stdout",
     "output_type": "stream",
     "text": [
      "[98, 82, 71, 55, 53, 53, 51, 10, 9, 3]\n"
     ]
    }
   ],
   "source": [
    "lst1.sort(reverse=True)\n",
    "\n",
    "\n",
    "print(lst1)"
   ]
  },
  {
   "cell_type": "code",
   "execution_count": 11,
   "id": "5dcaa107",
   "metadata": {},
   "outputs": [
    {
     "name": "stdout",
     "output_type": "stream",
     "text": [
      "['a', 'k', 'g', 'j', 'X', 'Y', 'k', 'g', 'R', 'v', 'a', 'g']\n",
      "['R', 'X', 'Y', 'a', 'a', 'g', 'g', 'g', 'j', 'k', 'k', 'v']\n"
     ]
    }
   ],
   "source": [
    "lstnames = list('akgjXYkgRvag')\n",
    "\n",
    "print(lstnames)\n",
    "\n",
    "lstnames.sort()\n",
    "\n",
    "print(lstnames)"
   ]
  },
  {
   "cell_type": "code",
   "execution_count": 12,
   "id": "2630770b",
   "metadata": {},
   "outputs": [
    {
     "name": "stdout",
     "output_type": "stream",
     "text": [
      "['Akash', 'Ashish', 'Ashish', 'Rafiya', 'Sachin', 'Taniya']\n"
     ]
    }
   ],
   "source": [
    "lstnames = ['Ashish', 'Sachin', 'Ashish', 'Rafiya', 'Taniya', 'Akash']\n",
    "\n",
    "lstnames.sort()\n",
    "\n",
    "print(lstnames)"
   ]
  },
  {
   "cell_type": "code",
   "execution_count": 13,
   "id": "55d195d2",
   "metadata": {},
   "outputs": [],
   "source": [
    "# Internally the program for sort uses comparison operators <, > to sort the elements in order. "
   ]
  },
  {
   "cell_type": "code",
   "execution_count": 14,
   "id": "5d551944",
   "metadata": {},
   "outputs": [
    {
     "ename": "TypeError",
     "evalue": "'<' not supported between instances of 'str' and 'int'",
     "output_type": "error",
     "traceback": [
      "\u001b[1;31m---------------------------------------------------------------------------\u001b[0m",
      "\u001b[1;31mTypeError\u001b[0m                                 Traceback (most recent call last)",
      "\u001b[1;32m~\\AppData\\Local\\Temp\\ipykernel_13064\\282988041.py\u001b[0m in \u001b[0;36m<module>\u001b[1;34m\u001b[0m\n\u001b[0;32m      1\u001b[0m \u001b[0mlst1\u001b[0m \u001b[1;33m=\u001b[0m \u001b[1;33m[\u001b[0m\u001b[1;36m1\u001b[0m\u001b[1;33m,\u001b[0m\u001b[1;34m'Ashish'\u001b[0m\u001b[1;33m,\u001b[0m \u001b[1;36m2\u001b[0m\u001b[1;33m+\u001b[0m\u001b[1;36m3j\u001b[0m\u001b[1;33m,\u001b[0m \u001b[1;33m{\u001b[0m\u001b[1;36m10\u001b[0m\u001b[1;33m,\u001b[0m\u001b[1;36m20\u001b[0m\u001b[1;33m}\u001b[0m\u001b[1;33m,\u001b[0m \u001b[1;33m(\u001b[0m\u001b[1;36m100\u001b[0m\u001b[1;33m,\u001b[0m\u001b[1;36m200\u001b[0m\u001b[1;33m)\u001b[0m\u001b[1;33m]\u001b[0m\u001b[1;33m\u001b[0m\u001b[1;33m\u001b[0m\u001b[0m\n\u001b[0;32m      2\u001b[0m \u001b[1;33m\u001b[0m\u001b[0m\n\u001b[1;32m----> 3\u001b[1;33m \u001b[0mlst1\u001b[0m\u001b[1;33m.\u001b[0m\u001b[0msort\u001b[0m\u001b[1;33m(\u001b[0m\u001b[1;33m)\u001b[0m\u001b[1;33m\u001b[0m\u001b[1;33m\u001b[0m\u001b[0m\n\u001b[0m",
      "\u001b[1;31mTypeError\u001b[0m: '<' not supported between instances of 'str' and 'int'"
     ]
    }
   ],
   "source": [
    "lst1 = [1,'Ashish', 2+3j, {10,20}, (100,200)]\n",
    "\n",
    "lst1.sort()"
   ]
  },
  {
   "cell_type": "code",
   "execution_count": 16,
   "id": "abcd1c4c",
   "metadata": {},
   "outputs": [
    {
     "name": "stdout",
     "output_type": "stream",
     "text": [
      "['Ebi', 'Ravi', 'Sagar', 'Parth', 'Mehak', 'Ankush', 'Rajnish', 'Bharath', 'Rashmika', 'Ashutosh', 'Himanshu', 'Srinijoy']\n"
     ]
    }
   ],
   "source": [
    "# key parameter in sort\n",
    "\n",
    "lstnames = ['Sagar', 'Ankush', 'Rashmika', 'Ashutosh', 'Rajnish', 'Parth', 'Ebi', 'Himanshu', 'Ravi', 'Mehak', 'Bharath',\\\n",
    "           'Srinijoy']\n",
    "\n",
    "lstnames.sort(key= len)\n",
    "\n",
    "print(lstnames)\n"
   ]
  },
  {
   "cell_type": "code",
   "execution_count": null,
   "id": "6a9a0b24",
   "metadata": {},
   "outputs": [],
   "source": [
    "# Step 1\n",
    "\n",
    "# Each element will be sent to the function that is given and evaluated.\n",
    "\n",
    "# 5, 6, 8, 8, 7, 5, 3, 8, 4, 5, 7, 8\n",
    "\n",
    "# # Step 2\n",
    "\n",
    "# # Output of the function will be sorted\n",
    "\n",
    "# 3,4,5,5,5,6,7,7,8,8,8,8\n",
    "\n",
    "# # Step 3 - The elements that gave the corresponding output will be put in the sorted order.\n",
    "\n",
    "# Ebi, Ravi, Sagar, Parth, Mehak, Ankush, Rajnish, Bharath, Rashmika, Ashutosh, Himanshu, Srinijoy"
   ]
  },
  {
   "cell_type": "code",
   "execution_count": 17,
   "id": "3127b606",
   "metadata": {},
   "outputs": [
    {
     "name": "stdout",
     "output_type": "stream",
     "text": [
      "[[71, 6, 80], [38, 99, 67], [40, 63, 73], [41, 17, 96], [5, 17, 58]]\n"
     ]
    }
   ],
   "source": [
    "lst1 = []\n",
    "for x in range(5):\n",
    "    lst1.append(list(np.random.randint(1,101,3)))\n",
    "    \n",
    "    \n",
    "print(lst1)"
   ]
  },
  {
   "cell_type": "code",
   "execution_count": 19,
   "id": "d331a87a",
   "metadata": {},
   "outputs": [
    {
     "name": "stdout",
     "output_type": "stream",
     "text": [
      "[[38, 99, 67], [40, 63, 73], [71, 6, 80], [41, 17, 96], [5, 17, 58]]\n"
     ]
    }
   ],
   "source": [
    "lst1.sort(key = sum,reverse = True)\n",
    "\n",
    "print(lst1)"
   ]
  },
  {
   "cell_type": "code",
   "execution_count": 20,
   "id": "0af29952",
   "metadata": {},
   "outputs": [],
   "source": [
    "# Definition\n",
    "\n",
    "def funct(x):\n",
    "    return x * 2\n"
   ]
  },
  {
   "cell_type": "code",
   "execution_count": 21,
   "id": "2ef40dcd",
   "metadata": {},
   "outputs": [
    {
     "name": "stdout",
     "output_type": "stream",
     "text": [
      "20\n"
     ]
    }
   ],
   "source": [
    "# Function call\n",
    "\n",
    "y = funct(10)\n",
    "\n",
    "print(y)"
   ]
  },
  {
   "cell_type": "code",
   "execution_count": 22,
   "id": "bbd63b02",
   "metadata": {},
   "outputs": [
    {
     "name": "stdout",
     "output_type": "stream",
     "text": [
      "[('Bharath', 28), ('Rajnish', 27), ('Parth', 24), ('Anindita', 25), ('Ashutosh', 35)]\n"
     ]
    }
   ],
   "source": [
    "lstage = [('Bharath', 28),('Rajnish', 27), ('Parth', 24),('Anindita',25), ('Ashutosh', 35)]\n",
    "\n",
    "print(lstage)"
   ]
  },
  {
   "cell_type": "code",
   "execution_count": 24,
   "id": "797cb10b",
   "metadata": {},
   "outputs": [
    {
     "name": "stdout",
     "output_type": "stream",
     "text": [
      "[('Anindita', 25), ('Ashutosh', 35), ('Bharath', 28), ('Parth', 24), ('Rajnish', 27)]\n"
     ]
    }
   ],
   "source": [
    "lstage.sort()\n",
    "print(lstage)"
   ]
  },
  {
   "cell_type": "code",
   "execution_count": 26,
   "id": "19066100",
   "metadata": {},
   "outputs": [
    {
     "name": "stdout",
     "output_type": "stream",
     "text": [
      "[('Parth', 24), ('Anindita', 25), ('Rajnish', 27), ('Bharath', 28), ('Ashutosh', 35)]\n"
     ]
    }
   ],
   "source": [
    "# Use a userdefined function to sort the lstage by age i.e. 2nd element. Use the key parameter of sort.\n",
    "\n",
    "def funct1(x):\n",
    "    return x[1]\n",
    "\n",
    "\n",
    "lstage.sort(key = funct1)\n",
    "\n",
    "print(lstage)"
   ]
  },
  {
   "cell_type": "code",
   "execution_count": null,
   "id": "048b6bcb",
   "metadata": {},
   "outputs": [],
   "source": [
    "# Step 1\n",
    "\n",
    "# 28, 27, 24, 25, 35\n",
    "\n",
    "# Step 2\n",
    "\n",
    "# 24,25,27,28, 35\n",
    "\n",
    "# Step 3\n",
    "\n",
    "# (\"Parth\", 24), ('Anindita',25)......\n",
    "\n"
   ]
  },
  {
   "cell_type": "code",
   "execution_count": 28,
   "id": "d451b19b",
   "metadata": {},
   "outputs": [
    {
     "name": "stdout",
     "output_type": "stream",
     "text": [
      "[[51, 40, 20], [99, 20, 57], [91, 31, 79], [76, 88, 9], [90, 86, 2]]\n"
     ]
    }
   ],
   "source": [
    "lst1 = []\n",
    "for x in range(5):\n",
    "    lst1.append(list(np.random.randint(1,101,3)))\n",
    "    \n",
    "    \n",
    "print(lst1)"
   ]
  },
  {
   "cell_type": "code",
   "execution_count": 29,
   "id": "608997ae",
   "metadata": {},
   "outputs": [],
   "source": [
    "# Sort the outer list based on the maximum value present in the inner lists.\n",
    "\n",
    "lst1.sort(key = max)"
   ]
  },
  {
   "cell_type": "code",
   "execution_count": 30,
   "id": "9aa8d37c",
   "metadata": {},
   "outputs": [
    {
     "name": "stdout",
     "output_type": "stream",
     "text": [
      "[[51, 40, 20], [76, 88, 9], [90, 86, 2], [91, 31, 79], [99, 20, 57]]\n"
     ]
    }
   ],
   "source": [
    "print(lst1)"
   ]
  },
  {
   "cell_type": "code",
   "execution_count": 31,
   "id": "deb457a5",
   "metadata": {},
   "outputs": [
    {
     "name": "stdout",
     "output_type": "stream",
     "text": [
      "[('Mannava', [51, 40, 20]), ('Rafiya', [99, 20, 57]), ('Sandeep', [91, 31, 79]), ('Taniya', [76, 88, 9]), ('Ebi', [90, 86, 2])]\n"
     ]
    }
   ],
   "source": [
    "lstmarks = [('Mannava',[51, 40, 20]),('Rafiya',[99, 20, 57]),('Sandeep', [91, 31, 79]),('Taniya',[76, 88, 9]),('Ebi',[90, 86, 2])]\n",
    "\n",
    "print(lstmarks)"
   ]
  },
  {
   "cell_type": "code",
   "execution_count": 33,
   "id": "56a5c49f",
   "metadata": {},
   "outputs": [
    {
     "name": "stdout",
     "output_type": "stream",
     "text": [
      "[('Mannava', [51, 40, 20]), ('Taniya', [76, 88, 9]), ('Ebi', [90, 86, 2]), ('Sandeep', [91, 31, 79]), ('Rafiya', [99, 20, 57])]\n"
     ]
    }
   ],
   "source": [
    "def funct1(x):\n",
    "    return max(x[1])\n",
    "\n",
    "\n",
    "lstmarks.sort(key=funct1)\n",
    "\n",
    "print(lstmarks)"
   ]
  },
  {
   "cell_type": "code",
   "execution_count": 34,
   "id": "a95a373d",
   "metadata": {},
   "outputs": [
    {
     "name": "stdout",
     "output_type": "stream",
     "text": [
      "['__add__', '__class__', '__class_getitem__', '__contains__', '__delattr__', '__dir__', '__doc__', '__eq__', '__format__', '__ge__', '__getattribute__', '__getitem__', '__getnewargs__', '__gt__', '__hash__', '__init__', '__init_subclass__', '__iter__', '__le__', '__len__', '__lt__', '__mul__', '__ne__', '__new__', '__reduce__', '__reduce_ex__', '__repr__', '__rmul__', '__setattr__', '__sizeof__', '__str__', '__subclasshook__', 'count', 'index']\n"
     ]
    }
   ],
   "source": [
    "# Sorted Built-In Python function\n",
    "\n",
    "print(dir(tuple))"
   ]
  },
  {
   "cell_type": "code",
   "execution_count": 35,
   "id": "22cff7fc",
   "metadata": {},
   "outputs": [
    {
     "name": "stdout",
     "output_type": "stream",
     "text": [
      "(30, 32, 15, 2, 49, 61, 39, 42, 17, 27)\n"
     ]
    }
   ],
   "source": [
    "tup1 = tuple(np.random.randint(1,100,10))\n",
    "\n",
    "print(tup1)"
   ]
  },
  {
   "cell_type": "code",
   "execution_count": 38,
   "id": "4b5a9787",
   "metadata": {},
   "outputs": [
    {
     "name": "stdout",
     "output_type": "stream",
     "text": [
      "[61, 49, 42, 39, 32, 30, 27, 17, 15, 2]\n"
     ]
    }
   ],
   "source": [
    "tup2 = sorted(tup1, reverse = True)\n",
    "\n",
    "print(tup2)"
   ]
  },
  {
   "cell_type": "code",
   "execution_count": null,
   "id": "9e75aff0",
   "metadata": {},
   "outputs": [],
   "source": [
    "#.sort function is available to lists. \n",
    "# sorted (built-in Python function) is available to any iterable (INCLUDING to LISTs)\n",
    "\n",
    "# And therefore the syntax - Since .sort is a list METHOD syntax is:\n",
    "\n",
    "#lstname.sort()\n",
    "\n",
    "# Since sorted is a built-in python function syntax is:\n",
    "\n",
    "# sorted(iterablename)\n",
    "\n",
    "# .sort function modifies the original list and returns nothing. \n",
    "# sorted function returns a new object <always a list> which can be stored in a variable. If the original datatype is \n",
    "# required back then explicit typecasting has to be performed.\n",
    "\n",
    "# Both .sort and sorted take the key and reverse parameters - and in both cases the functionality of these is IDENTICAL. \n"
   ]
  },
  {
   "cell_type": "code",
   "execution_count": 37,
   "id": "5c8d4a39",
   "metadata": {},
   "outputs": [
    {
     "name": "stdout",
     "output_type": "stream",
     "text": [
      "(30, 32, 15, 2, 49, 61, 39, 42, 17, 27)\n"
     ]
    }
   ],
   "source": [
    "print(tup1)"
   ]
  },
  {
   "cell_type": "code",
   "execution_count": 39,
   "id": "53d9ff1d",
   "metadata": {},
   "outputs": [
    {
     "name": "stdout",
     "output_type": "stream",
     "text": [
      "['R', 'i', 'i', 'k', 'k']\n"
     ]
    }
   ],
   "source": [
    "str1 = 'Rikki'\n",
    "\n",
    "str2 = sorted(str1)\n",
    "\n",
    "\n",
    "print(str2)"
   ]
  },
  {
   "cell_type": "code",
   "execution_count": 40,
   "id": "0c8a967a",
   "metadata": {},
   "outputs": [
    {
     "name": "stdout",
     "output_type": "stream",
     "text": [
      "['R', 'i', 'i', 'k', 'k']\n"
     ]
    }
   ],
   "source": [
    "str3 = str(str2)\n",
    "\n",
    "print(str3)"
   ]
  },
  {
   "cell_type": "code",
   "execution_count": 41,
   "id": "83db984d",
   "metadata": {},
   "outputs": [
    {
     "name": "stdout",
     "output_type": "stream",
     "text": [
      "Riikk\n"
     ]
    }
   ],
   "source": [
    "new_str = ''\n",
    "for x in str2:\n",
    "    new_str += x\n",
    "    \n",
    "print(new_str)"
   ]
  },
  {
   "cell_type": "code",
   "execution_count": 42,
   "id": "f24c0471",
   "metadata": {},
   "outputs": [
    {
     "name": "stdout",
     "output_type": "stream",
     "text": [
      "Riikk\n"
     ]
    }
   ],
   "source": [
    "str3 = ''.join(str2)\n",
    "\n",
    "print(str3)"
   ]
  },
  {
   "cell_type": "markdown",
   "id": "ec8b5735",
   "metadata": {},
   "source": [
    "#### reversed built-in python method\n",
    "\n",
    "#### Reverses the given ITERABLE and outputs a \n",
    "\n",
    "## reversed_iterator_object\n",
    "\n",
    "###### Iterator objects can only be iterated over ONCE. We will learn more about generator objects(sub-class of iterator objects) in the functions topic."
   ]
  },
  {
   "cell_type": "code",
   "execution_count": 43,
   "id": "8c22add9",
   "metadata": {},
   "outputs": [
    {
     "name": "stdout",
     "output_type": "stream",
     "text": [
      "(60, 99, 13, 69, 15, 72, 10, 4, 33, 7)\n"
     ]
    }
   ],
   "source": [
    "tup1 = tuple(np.random.randint(1,100,10))\n",
    "\n",
    "print(tup1)"
   ]
  },
  {
   "cell_type": "code",
   "execution_count": 48,
   "id": "cfe788c9",
   "metadata": {},
   "outputs": [
    {
     "name": "stdout",
     "output_type": "stream",
     "text": [
      "[7, 33, 4, 10, 72, 15, 69, 13, 99, 60]\n"
     ]
    }
   ],
   "source": [
    "tup2 = list(reversed(tup1))\n",
    "\n",
    "print(tup2)"
   ]
  },
  {
   "cell_type": "code",
   "execution_count": 49,
   "id": "1b70e771",
   "metadata": {},
   "outputs": [
    {
     "name": "stdout",
     "output_type": "stream",
     "text": [
      "7\n",
      "33\n",
      "4\n",
      "10\n",
      "72\n",
      "15\n",
      "69\n",
      "13\n",
      "99\n",
      "60\n"
     ]
    }
   ],
   "source": [
    "for x in tup2:\n",
    "    print(x)"
   ]
  },
  {
   "cell_type": "code",
   "execution_count": null,
   "id": "6218a02e",
   "metadata": {},
   "outputs": [],
   "source": [
    "# Differences between .reverse method on lists and reversed built-in python function.\n",
    "\n",
    "# .reverse can only be used on lists while reversed can be used on any iterable\n",
    "# .reverse modifies the original list and returns NONE. reversed returns a new object which is a 'reversed_iterator_object'\n",
    "\n",
    "# If we required the reversed iterator object in some other form we have to explicitly typecast it.\n",
    "# iterator objects can only be iterated over once. \n",
    "# If we need to iterate over the output more than once - we need to explicitly typecast it."
   ]
  },
  {
   "cell_type": "markdown",
   "id": "70e19625",
   "metadata": {},
   "source": [
    "### List Comprehension"
   ]
  },
  {
   "cell_type": "code",
   "execution_count": 50,
   "id": "f6b19c02",
   "metadata": {},
   "outputs": [
    {
     "name": "stdout",
     "output_type": "stream",
     "text": [
      "[4, 98, 62, 94, 25, 61, 25, 85, 87, 68]\n"
     ]
    }
   ],
   "source": [
    "lst1 = list(np.random.randint(1,100,10))\n",
    "\n",
    "print(lst1)"
   ]
  },
  {
   "cell_type": "code",
   "execution_count": 51,
   "id": "816ee58f",
   "metadata": {},
   "outputs": [
    {
     "name": "stdout",
     "output_type": "stream",
     "text": [
      "[8, 196, 124, 188, 50, 122, 50, 170, 174, 136]\n"
     ]
    }
   ],
   "source": [
    "# Need a new list <lst2> with all the elements of lst1 - each multiplied by 2\n",
    "\n",
    "lst2 = []\n",
    "\n",
    "for x in lst1:\n",
    "    lst2.append(x*2)\n",
    "    \n",
    "    \n",
    "print(lst2)"
   ]
  },
  {
   "cell_type": "code",
   "execution_count": null,
   "id": "9e08b6fb",
   "metadata": {},
   "outputs": [],
   "source": [
    "# Python offers a simple syntax to create a new list from an iterable using list comprehension"
   ]
  },
  {
   "cell_type": "code",
   "execution_count": 52,
   "id": "69209f58",
   "metadata": {},
   "outputs": [
    {
     "name": "stdout",
     "output_type": "stream",
     "text": [
      "[8, 196, 124, 188, 50, 122, 50, 170, 174, 136]\n"
     ]
    }
   ],
   "source": [
    "lst3 = [x*2 for x in lst1]\n",
    "\n",
    "print(lst3)"
   ]
  },
  {
   "cell_type": "code",
   "execution_count": 53,
   "id": "3afae5a8",
   "metadata": {},
   "outputs": [
    {
     "name": "stdout",
     "output_type": "stream",
     "text": [
      "[50, 122, 50, 170]\n"
     ]
    }
   ],
   "source": [
    "lst4 = [x*2 for x in lst1[4:8]]\n",
    "\n",
    "print(lst4)"
   ]
  },
  {
   "cell_type": "code",
   "execution_count": 55,
   "id": "dac8a154",
   "metadata": {},
   "outputs": [
    {
     "name": "stdout",
     "output_type": "stream",
     "text": [
      "['Kesariya tera ishq hai Piya', 'Sab se achha Bharath', 'Neela neela Akash']\n"
     ]
    }
   ],
   "source": [
    "lstnames = ['Piya', 'Bharath', 'Akash']\n",
    "line = ['Kesariya tera ishq hai ', 'Sab se achha ', 'Neela neela ']\n",
    "\n",
    "lstline = [line[x]+lstnames[x] for x in range(len(lstnames))]\n",
    "\n",
    "print(lstline)\n",
    "\n"
   ]
  },
  {
   "cell_type": "code",
   "execution_count": null,
   "id": "9daf0f1c",
   "metadata": {},
   "outputs": [],
   "source": [
    "# if and else with comprehensions - <tuples and dictionaries ALSO support comprehension>. \n",
    "\n",
    "# If both if and else are present - the if/else will come BEFORE the for loop\n",
    "# If only IF is present - it comes AFTER the for loop\n",
    "# Elif is NOT supported in comprehensions. \n",
    "# MULTIPLE if / else will be treated as NESTED if else conditons. "
   ]
  },
  {
   "cell_type": "code",
   "execution_count": 57,
   "id": "8d80fe5f",
   "metadata": {},
   "outputs": [
    {
     "name": "stdout",
     "output_type": "stream",
     "text": [
      "[86, 52, 38, 42, 55, 33, 23, 67, 62, 78]\n"
     ]
    }
   ],
   "source": [
    "lst1 = list(np.random.randint(1,100,10))\n",
    "\n",
    "print(lst1)"
   ]
  },
  {
   "cell_type": "code",
   "execution_count": 58,
   "id": "7ac6c2a5",
   "metadata": {},
   "outputs": [
    {
     "name": "stdout",
     "output_type": "stream",
     "text": [
      "[430, 260, 190, 210, 110, 66, 46, 134, 310, 390]\n"
     ]
    }
   ],
   "source": [
    "lst2 = [x*2 if x%2==1 else x*5 for x in lst1]\n",
    "\n",
    "print(lst2)"
   ]
  },
  {
   "cell_type": "code",
   "execution_count": 59,
   "id": "a7df9580",
   "metadata": {},
   "outputs": [
    {
     "name": "stdout",
     "output_type": "stream",
     "text": [
      "[172, 104, 76, 84, 124, 156]\n"
     ]
    }
   ],
   "source": [
    "lst3 = [x*2 for x in lst1 if x%2 == 0]\n",
    "\n",
    "print(lst3)"
   ]
  },
  {
   "cell_type": "code",
   "execution_count": 60,
   "id": "bdcecb4c",
   "metadata": {},
   "outputs": [
    {
     "ename": "SyntaxError",
     "evalue": "invalid syntax (100790868.py, line 1)",
     "output_type": "error",
     "traceback": [
      "\u001b[1;36m  File \u001b[1;32m\"C:\\Users\\Lenovo\\AppData\\Local\\Temp\\ipykernel_13064\\100790868.py\"\u001b[1;36m, line \u001b[1;32m1\u001b[0m\n\u001b[1;33m    lst2 = [x*2 for x in lst1 if x%2==1 else x*5]\u001b[0m\n\u001b[1;37m                                        ^\u001b[0m\n\u001b[1;31mSyntaxError\u001b[0m\u001b[1;31m:\u001b[0m invalid syntax\n"
     ]
    }
   ],
   "source": [
    "lst2 = [x*2 for x in lst1 if x%2==1 else x*5]\n",
    "\n",
    "print(lst2)"
   ]
  },
  {
   "cell_type": "code",
   "execution_count": 61,
   "id": "66afdc94",
   "metadata": {},
   "outputs": [
    {
     "ename": "SyntaxError",
     "evalue": "invalid syntax (2123759018.py, line 1)",
     "output_type": "error",
     "traceback": [
      "\u001b[1;36m  File \u001b[1;32m\"C:\\Users\\Lenovo\\AppData\\Local\\Temp\\ipykernel_13064\\2123759018.py\"\u001b[1;36m, line \u001b[1;32m1\u001b[0m\n\u001b[1;33m    lst3 = [x*2 if x%2 == 0 for x in lst1]\u001b[0m\n\u001b[1;37m                            ^\u001b[0m\n\u001b[1;31mSyntaxError\u001b[0m\u001b[1;31m:\u001b[0m invalid syntax\n"
     ]
    }
   ],
   "source": [
    "lst3 = [x*2 if x%2 == 0 for x in lst1]\n",
    "\n",
    "print(lst3)"
   ]
  },
  {
   "cell_type": "code",
   "execution_count": 78,
   "id": "606bcca9",
   "metadata": {},
   "outputs": [
    {
     "name": "stdout",
     "output_type": "stream",
     "text": [
      "range(0, 10)\n",
      "<class 'range'>\n"
     ]
    }
   ],
   "source": [
    "range1 = range(10)\n",
    "\n",
    "print(range1)\n",
    "print(type(range1))"
   ]
  },
  {
   "cell_type": "code",
   "execution_count": 81,
   "id": "ebd5a46b",
   "metadata": {},
   "outputs": [
    {
     "name": "stdout",
     "output_type": "stream",
     "text": [
      "range(0, 10)\n",
      "<class 'str'>\n",
      "r\n",
      "a\n",
      "n\n",
      "g\n",
      "e\n",
      "(\n",
      "0\n",
      ",\n",
      " \n",
      "1\n",
      "0\n",
      ")\n"
     ]
    }
   ],
   "source": [
    "str1 = str(range1)\n",
    "\n",
    "print(str1)\n",
    "print(type(str1))\n",
    "\n",
    "for x in str1:\n",
    "    print(x)"
   ]
  },
  {
   "cell_type": "code",
   "execution_count": 82,
   "id": "8a677be8",
   "metadata": {},
   "outputs": [
    {
     "name": "stdout",
     "output_type": "stream",
     "text": [
      "[1, 2, 3, 4]\n",
      "[\n",
      "1\n",
      ",\n",
      " \n",
      "2\n",
      ",\n",
      " \n",
      "3\n",
      ",\n",
      " \n",
      "4\n",
      "]\n"
     ]
    }
   ],
   "source": [
    "lst1 = [1,2,3,4]\n",
    "\n",
    "str2 = str(lst1)\n",
    "\n",
    "print(str2)\n",
    "\n",
    "for x in str2:\n",
    "    print(x)"
   ]
  },
  {
   "cell_type": "code",
   "execution_count": 83,
   "id": "17158f61",
   "metadata": {},
   "outputs": [
    {
     "name": "stdout",
     "output_type": "stream",
     "text": [
      "<reversed object at 0x00000201E11AED60>\n"
     ]
    }
   ],
   "source": [
    "name = 'Srinjoy'\n",
    "namerev = reversed(name)\n",
    "\n",
    "print(namerev)"
   ]
  },
  {
   "cell_type": "code",
   "execution_count": 84,
   "id": "4cb9ea3e",
   "metadata": {},
   "outputs": [
    {
     "name": "stdout",
     "output_type": "stream",
     "text": [
      "<reversed object at 0x00000201E11AED60>\n",
      "<class 'str'>\n"
     ]
    }
   ],
   "source": [
    "strrev = str(namerev)\n",
    "\n",
    "print(strrev)\n",
    "print(type(strrev))"
   ]
  },
  {
   "cell_type": "code",
   "execution_count": 85,
   "id": "525d35d8",
   "metadata": {},
   "outputs": [
    {
     "name": "stdout",
     "output_type": "stream",
     "text": [
      "<\n",
      "r\n",
      "e\n",
      "v\n",
      "e\n",
      "r\n",
      "s\n",
      "e\n",
      "d\n",
      " \n",
      "o\n",
      "b\n",
      "j\n",
      "e\n",
      "c\n",
      "t\n",
      " \n",
      "a\n",
      "t\n",
      " \n",
      "0\n",
      "x\n",
      "0\n",
      "0\n",
      "0\n",
      "0\n",
      "0\n",
      "2\n",
      "0\n",
      "1\n",
      "E\n",
      "1\n",
      "1\n",
      "A\n",
      "E\n",
      "D\n",
      "6\n",
      "0\n",
      ">\n"
     ]
    }
   ],
   "source": [
    "for x in strrev:\n",
    "    print(x)"
   ]
  },
  {
   "cell_type": "code",
   "execution_count": 62,
   "id": "022958db",
   "metadata": {},
   "outputs": [
    {
     "name": "stdout",
     "output_type": "stream",
     "text": [
      "[86, 52, 38, 42, 55, 33, 23, 67, 62, 78]\n"
     ]
    }
   ],
   "source": [
    "print(lst1)"
   ]
  },
  {
   "cell_type": "code",
   "execution_count": 63,
   "id": "da0e7a7a",
   "metadata": {},
   "outputs": [
    {
     "name": "stdout",
     "output_type": "stream",
     "text": [
      "172\n",
      "1.72\n",
      "104\n",
      "1.04\n",
      "76\n",
      "84\n",
      "165\n",
      "1.1\n",
      "99\n",
      "69\n",
      "201\n",
      "1.34\n",
      "124\n",
      "1.24\n",
      "156\n",
      "1.56\n"
     ]
    }
   ],
   "source": [
    "\n",
    "for x in lst1:\n",
    "    if x%2==0:\n",
    "        print(x*2)\n",
    "    else:\n",
    "        print(x*3)\n",
    "        if x > 50:\n",
    "            print(x/50)"
   ]
  },
  {
   "cell_type": "code",
   "execution_count": 64,
   "id": "8917e663",
   "metadata": {},
   "outputs": [
    {
     "name": "stdout",
     "output_type": "stream",
     "text": [
      "[86, 52, 38, 42, 55, 33, 23, 67, 62, 78]\n"
     ]
    }
   ],
   "source": [
    "print(lst1)"
   ]
  },
  {
   "cell_type": "code",
   "execution_count": 68,
   "id": "d523ca1b",
   "metadata": {},
   "outputs": [
    {
     "name": "stdout",
     "output_type": "stream",
     "text": [
      "[172, 104, 76, 84, 165, 33, 23, 201, 124, 156]\n"
     ]
    }
   ],
   "source": [
    "lst3 = [x*2 if x%2==0 else x*3 if x>50 else x for x in lst1]\n",
    "\n",
    "print(lst3)"
   ]
  },
  {
   "cell_type": "code",
   "execution_count": 70,
   "id": "a5ab2398",
   "metadata": {},
   "outputs": [
    {
     "name": "stdout",
     "output_type": "stream",
     "text": [
      "1---2---3---4\n"
     ]
    }
   ],
   "source": [
    "### Unpacking\n",
    "\n",
    "x = [1,2,3,4]\n",
    "\n",
    "a = x[0]\n",
    "b = x[1]\n",
    "c = x[2]\n",
    "d = x[3]\n",
    "\n",
    "print(a,b,c,d, sep = '---')"
   ]
  },
  {
   "cell_type": "code",
   "execution_count": 71,
   "id": "e283706a",
   "metadata": {},
   "outputs": [
    {
     "name": "stdout",
     "output_type": "stream",
     "text": [
      "1---2---3---4\n"
     ]
    }
   ],
   "source": [
    "p,q,r,s = x\n",
    "\n",
    "print(p,q,r,s, sep = '---')"
   ]
  },
  {
   "cell_type": "code",
   "execution_count": 72,
   "id": "92187baf",
   "metadata": {},
   "outputs": [
    {
     "ename": "ValueError",
     "evalue": "too many values to unpack (expected 3)",
     "output_type": "error",
     "traceback": [
      "\u001b[1;31m---------------------------------------------------------------------------\u001b[0m",
      "\u001b[1;31mValueError\u001b[0m                                Traceback (most recent call last)",
      "\u001b[1;32m~\\AppData\\Local\\Temp\\ipykernel_13064\\4251200945.py\u001b[0m in \u001b[0;36m<module>\u001b[1;34m\u001b[0m\n\u001b[1;32m----> 1\u001b[1;33m \u001b[0mj\u001b[0m\u001b[1;33m,\u001b[0m\u001b[0mk\u001b[0m\u001b[1;33m,\u001b[0m\u001b[0ml\u001b[0m \u001b[1;33m=\u001b[0m \u001b[0mx\u001b[0m\u001b[1;33m\u001b[0m\u001b[1;33m\u001b[0m\u001b[0m\n\u001b[0m\u001b[0;32m      2\u001b[0m \u001b[1;33m\u001b[0m\u001b[0m\n\u001b[0;32m      3\u001b[0m \u001b[0mprint\u001b[0m\u001b[1;33m(\u001b[0m\u001b[0mj\u001b[0m\u001b[1;33m,\u001b[0m\u001b[0mk\u001b[0m\u001b[1;33m,\u001b[0m\u001b[0ml\u001b[0m\u001b[1;33m,\u001b[0m \u001b[0msep\u001b[0m \u001b[1;33m=\u001b[0m \u001b[1;34m'---'\u001b[0m\u001b[1;33m)\u001b[0m\u001b[1;33m\u001b[0m\u001b[1;33m\u001b[0m\u001b[0m\n",
      "\u001b[1;31mValueError\u001b[0m: too many values to unpack (expected 3)"
     ]
    }
   ],
   "source": [
    "j,k,l = x\n",
    "\n",
    "print(j,k,l, sep = '---')"
   ]
  },
  {
   "cell_type": "code",
   "execution_count": 73,
   "id": "d2f56829",
   "metadata": {},
   "outputs": [
    {
     "name": "stdout",
     "output_type": "stream",
     "text": [
      "1---2---[3, 4]\n"
     ]
    }
   ],
   "source": [
    "j,k,*l = x\n",
    "\n",
    "print(j,k,l, sep = '---')"
   ]
  },
  {
   "cell_type": "code",
   "execution_count": 74,
   "id": "610e6f84",
   "metadata": {},
   "outputs": [
    {
     "name": "stdout",
     "output_type": "stream",
     "text": [
      "1---[2, 3]---4\n"
     ]
    }
   ],
   "source": [
    "j,*k,l = x\n",
    "\n",
    "print(j,k,l, sep = '---')"
   ]
  },
  {
   "cell_type": "code",
   "execution_count": 75,
   "id": "66d6f4ca",
   "metadata": {},
   "outputs": [
    {
     "name": "stdout",
     "output_type": "stream",
     "text": [
      "[1, 2]---3---4\n"
     ]
    }
   ],
   "source": [
    "*j,k,l = x\n",
    "\n",
    "print(j,k,l, sep = '---')"
   ]
  },
  {
   "cell_type": "code",
   "execution_count": 76,
   "id": "f84bc741",
   "metadata": {},
   "outputs": [
    {
     "ename": "SyntaxError",
     "evalue": "multiple starred expressions in assignment (771401005.py, line 1)",
     "output_type": "error",
     "traceback": [
      "\u001b[1;36m  File \u001b[1;32m\"C:\\Users\\Lenovo\\AppData\\Local\\Temp\\ipykernel_13064\\771401005.py\"\u001b[1;36m, line \u001b[1;32m1\u001b[0m\n\u001b[1;33m    j,*k,*l = x\u001b[0m\n\u001b[1;37m    ^\u001b[0m\n\u001b[1;31mSyntaxError\u001b[0m\u001b[1;31m:\u001b[0m multiple starred expressions in assignment\n"
     ]
    }
   ],
   "source": [
    "j,*k,*l = x\n",
    "\n",
    "print(j,k,l, sep = '---')"
   ]
  },
  {
   "cell_type": "code",
   "execution_count": null,
   "id": "1cf00930",
   "metadata": {},
   "outputs": [],
   "source": []
  }
 ],
 "metadata": {
  "kernelspec": {
   "display_name": "Python 3 (ipykernel)",
   "language": "python",
   "name": "python3"
  },
  "language_info": {
   "codemirror_mode": {
    "name": "ipython",
    "version": 3
   },
   "file_extension": ".py",
   "mimetype": "text/x-python",
   "name": "python",
   "nbconvert_exporter": "python",
   "pygments_lexer": "ipython3",
   "version": "3.9.13"
  }
 },
 "nbformat": 4,
 "nbformat_minor": 5
}
