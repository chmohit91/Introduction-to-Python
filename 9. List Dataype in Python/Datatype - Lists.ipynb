{
 "cells": [
  {
   "cell_type": "code",
   "execution_count": null,
   "id": "83a21829",
   "metadata": {},
   "outputs": [],
   "source": [
    "# December 28, 2022"
   ]
  },
  {
   "cell_type": "markdown",
   "id": "a7f2f64e",
   "metadata": {},
   "source": [
    "# Data type - Lists"
   ]
  },
  {
   "cell_type": "code",
   "execution_count": null,
   "id": "ddc7c4bc",
   "metadata": {},
   "outputs": [],
   "source": [
    "# Lists are probably the most commonly used of the derived data types. They allow one to store a collection of elements\n",
    "# in a sequential manner and perform a host of operations on the elements as well as on other lists. They are one of the\n",
    "# most versatile datatypes.\n",
    "\n",
    "# Arrays also allow one to store many datatypes and perform operations on the elements in them. However, arrays limit one\n",
    "# to store only one datatype in them. The operations are faster in arrays and if we know that we will only be saving one\n",
    "# type of data in the object in a structured manner - arrays might be the way to go. But more on arrays later. \n",
    "\n",
    "# Lists have the following properties:\n",
    "\n",
    "#1. They are a derived datatype.\n",
    "#2. They are sequential and ordered i.e. stored in the order of input (insertion of element not withstanding).\n",
    "#3. Lists themselves are mutable i.e. the elements inside a list can be changed.\n",
    "#4. They allow mutable elements to be stored in them. e.g. we can store a set or dictionary (and even another list) in a\n",
    "# list.\n",
    "#5. They allow nesting i.e. a list in another list.\n",
    "#6. They allow indexing and slicing.\n",
    "#7. They are iterable i.e. one can go through each element in a list and perform an operation on each element.\n"
   ]
  },
  {
   "cell_type": "code",
   "execution_count": null,
   "id": "bce7a34d",
   "metadata": {},
   "outputs": [],
   "source": [
    "#Initialising lists\n",
    "\n",
    "x = [1,2,3,4,5]\n",
    "\n",
    "print(x)\n",
    "print(type(x))\n",
    "print(id(x))\n",
    "\n",
    "#To initialise a list, simply enclose the elements of the list in square brackets."
   ]
  },
  {
   "cell_type": "code",
   "execution_count": null,
   "id": "88149d41",
   "metadata": {},
   "outputs": [],
   "source": [
    "xx = []\n",
    "\n",
    "\n",
    "print(xx)\n",
    "print(type(xx))\n",
    "print(id(xx))\n",
    "#Empty square brackets can be used to initialise an empty list."
   ]
  },
  {
   "cell_type": "code",
   "execution_count": null,
   "id": "0a0a4f14",
   "metadata": {},
   "outputs": [],
   "source": [
    "#When would we need an empty list? When we know that we shall be filling the list object with elements and would like to\n",
    "# be able to perform list operations on that object.\n",
    "\n",
    "# For e.g.I have certain values and would like to multiply each one by 2 before appending it to the list. We can use the\n",
    "# append function to do so. (We whall discuss in detail about the append function a bit later)\n",
    "\n",
    "xx.append([1,2,3,4])\n",
    "\n",
    "print(xx)\n",
    "print(id(xx))"
   ]
  },
  {
   "cell_type": "code",
   "execution_count": null,
   "id": "3c5e8f30",
   "metadata": {},
   "outputs": [],
   "source": [
    "print(dir(str))"
   ]
  },
  {
   "cell_type": "code",
   "execution_count": null,
   "id": "3d36b866",
   "metadata": {},
   "outputs": [],
   "source": [
    "print(dir(list))"
   ]
  },
  {
   "cell_type": "code",
   "execution_count": null,
   "id": "57e44ba9",
   "metadata": {},
   "outputs": [],
   "source": [
    "#If I had not initialised the list object - I would not have been able to append. And also, if I had initialised a different\n",
    "# datatype.\n",
    "\n",
    "xx.append(2*10)\n",
    "\n",
    "print(xx)\n"
   ]
  },
  {
   "cell_type": "code",
   "execution_count": null,
   "id": "ba0e7089",
   "metadata": {},
   "outputs": [],
   "source": [
    "#We could also initialise a list by calling list() constructor on an iterable object. This is optional. Calling list without\n",
    "#any parameters initialises an empty list. \n",
    "\n",
    "x = list()\n",
    "print(x)\n",
    "print(type(x))\n"
   ]
  },
  {
   "cell_type": "code",
   "execution_count": null,
   "id": "9649614d",
   "metadata": {},
   "outputs": [],
   "source": [
    "x = (1,2,3,4)\n",
    "print(type(x))\n",
    "print(x)"
   ]
  },
  {
   "cell_type": "code",
   "execution_count": null,
   "id": "03a44ff0",
   "metadata": {},
   "outputs": [],
   "source": [
    "y = list(x)\n",
    "\n",
    "print(y)\n",
    "print(type(y))\n"
   ]
  },
  {
   "cell_type": "code",
   "execution_count": null,
   "id": "066650e0",
   "metadata": {},
   "outputs": [],
   "source": [
    "xwbrackets = [100, (1,2,3,4), 'a']\n",
    "\n",
    "xwfunction = list((1,2,3,4))\n",
    "\n",
    "print(xwbrackets)\n",
    "print(xwfunction)\n",
    "\n",
    "print(len(xwbrackets))\n",
    "print(len(xwfunction))"
   ]
  },
  {
   "cell_type": "code",
   "execution_count": null,
   "id": "7a8678e6",
   "metadata": {},
   "outputs": [],
   "source": [
    "y = [x]\n",
    "\n",
    "print(y)\n",
    "print(type(y))"
   ]
  },
  {
   "cell_type": "code",
   "execution_count": null,
   "id": "e6aa6625",
   "metadata": {},
   "outputs": [],
   "source": [
    "print(y[0])\n",
    "print(type(y[0]))"
   ]
  },
  {
   "cell_type": "code",
   "execution_count": null,
   "id": "24edf52b",
   "metadata": {},
   "outputs": [],
   "source": [
    "a = list(('abcde',))\n",
    "\n",
    "print(a)"
   ]
  },
  {
   "cell_type": "code",
   "execution_count": null,
   "id": "d59c1305",
   "metadata": {},
   "outputs": [],
   "source": [
    "tup1 = 1,2,3,'a',['XYZ', 2+3j]\n",
    "\n",
    "print(tup1)\n",
    "print(type(tup1))"
   ]
  },
  {
   "cell_type": "code",
   "execution_count": null,
   "id": "6129d42c",
   "metadata": {},
   "outputs": [],
   "source": [
    "lst1x = list(tup1)\n",
    "\n",
    "print(lst1x)"
   ]
  },
  {
   "cell_type": "code",
   "execution_count": null,
   "id": "74bfaf8c",
   "metadata": {},
   "outputs": [],
   "source": [
    "print(tup1)\n",
    "print(type(tup1))"
   ]
  },
  {
   "cell_type": "code",
   "execution_count": null,
   "id": "c39e80c1",
   "metadata": {},
   "outputs": [],
   "source": [
    "#creating our own list function. How the list function is probably working in the backend"
   ]
  },
  {
   "cell_type": "code",
   "execution_count": null,
   "id": "d8b7c0c4",
   "metadata": {},
   "outputs": [],
   "source": [
    "def list_funct(x):\n",
    "    lst1 = []\n",
    "    for i in x:\n",
    "        lst1 = lst1 + [i]\n",
    "    return lst1\n",
    "\n",
    "\n",
    "z = list_funct(tup1)\n",
    "\n",
    "\n",
    "print(z)"
   ]
  },
  {
   "cell_type": "code",
   "execution_count": null,
   "id": "64d1424b",
   "metadata": {},
   "outputs": [],
   "source": [
    "b = ['abcde']\n",
    "\n",
    "print(b)\n",
    "print(type(b))"
   ]
  },
  {
   "cell_type": "code",
   "execution_count": null,
   "id": "6e4704c1",
   "metadata": {},
   "outputs": [],
   "source": [
    "a = 'abcde'\n",
    "b = [a]\n",
    "print(b)"
   ]
  },
  {
   "cell_type": "code",
   "execution_count": null,
   "id": "dc2faf53",
   "metadata": {},
   "outputs": [],
   "source": [
    "b = list('abcde')\n",
    "\n",
    "print(b)"
   ]
  },
  {
   "cell_type": "code",
   "execution_count": null,
   "id": "3274eb3c",
   "metadata": {},
   "outputs": [],
   "source": [
    "lst = [1,2,3,4,5]\n",
    "\n",
    "print(lst[2])"
   ]
  },
  {
   "cell_type": "code",
   "execution_count": null,
   "id": "a84806b9",
   "metadata": {},
   "outputs": [],
   "source": [
    "lst = [1,2,3,[10,20,30, list('abcde')], (100,200), 'xyz']\n",
    "\n",
    "print(lst)"
   ]
  },
  {
   "cell_type": "code",
   "execution_count": null,
   "id": "b34b98d3",
   "metadata": {},
   "outputs": [],
   "source": [
    "print(lst[4][1])"
   ]
  },
  {
   "cell_type": "code",
   "execution_count": null,
   "id": "4486320b",
   "metadata": {},
   "outputs": [],
   "source": [
    "print(lst[3:])"
   ]
  },
  {
   "cell_type": "code",
   "execution_count": null,
   "id": "85651f3f",
   "metadata": {},
   "outputs": [],
   "source": [
    "print(lst[3][3][4])"
   ]
  },
  {
   "cell_type": "code",
   "execution_count": null,
   "id": "ffaa8ba3",
   "metadata": {},
   "outputs": [],
   "source": []
  },
  {
   "cell_type": "code",
   "execution_count": null,
   "id": "f6843532",
   "metadata": {},
   "outputs": [],
   "source": []
  },
  {
   "cell_type": "code",
   "execution_count": null,
   "id": "6ed2b898",
   "metadata": {},
   "outputs": [],
   "source": [
    "x = ['abcde', 'fghij']\n",
    "\n",
    "print(x)"
   ]
  },
  {
   "cell_type": "code",
   "execution_count": null,
   "id": "dde781ce",
   "metadata": {},
   "outputs": [],
   "source": [
    "y = list((1,2,3,4))\n",
    "\n",
    "print(y)"
   ]
  },
  {
   "cell_type": "code",
   "execution_count": null,
   "id": "58ee5ecc",
   "metadata": {},
   "outputs": [],
   "source": [
    "lst1 = [[1,20,13,4],['aagag','qgagasd','agagj','dafh']]\n",
    "\n",
    "lst1[0] = sorted(lst1[0], reverse=True)\n",
    "lst1[1] = sorted(lst1[1], key = len)\n",
    "print(lst1)"
   ]
  },
  {
   "cell_type": "code",
   "execution_count": null,
   "id": "82380cca",
   "metadata": {},
   "outputs": [],
   "source": []
  },
  {
   "cell_type": "code",
   "execution_count": null,
   "id": "9fc25510",
   "metadata": {},
   "outputs": [],
   "source": []
  },
  {
   "cell_type": "code",
   "execution_count": null,
   "id": "6dda96a1",
   "metadata": {},
   "outputs": [],
   "source": [
    "print(lst[5][0])"
   ]
  },
  {
   "cell_type": "code",
   "execution_count": null,
   "id": "90e716fd",
   "metadata": {},
   "outputs": [],
   "source": []
  },
  {
   "cell_type": "code",
   "execution_count": null,
   "id": "f6011f3f",
   "metadata": {},
   "outputs": [],
   "source": []
  },
  {
   "cell_type": "code",
   "execution_count": null,
   "id": "43950b32",
   "metadata": {},
   "outputs": [],
   "source": []
  },
  {
   "cell_type": "code",
   "execution_count": null,
   "id": "6b95108c",
   "metadata": {},
   "outputs": [],
   "source": [
    "lst[0] = 'Python'\n",
    "\n",
    "print(lst)"
   ]
  },
  {
   "cell_type": "code",
   "execution_count": null,
   "id": "391efb0b",
   "metadata": {},
   "outputs": [],
   "source": [
    "print(lst[0][3])"
   ]
  },
  {
   "cell_type": "code",
   "execution_count": null,
   "id": "befa9983",
   "metadata": {},
   "outputs": [],
   "source": [
    "lst[0][3] = 'I'"
   ]
  },
  {
   "cell_type": "code",
   "execution_count": null,
   "id": "dc937ba6",
   "metadata": {},
   "outputs": [],
   "source": []
  },
  {
   "cell_type": "code",
   "execution_count": null,
   "id": "c20b2d5e",
   "metadata": {},
   "outputs": [],
   "source": []
  },
  {
   "cell_type": "code",
   "execution_count": null,
   "id": "25a51c97",
   "metadata": {},
   "outputs": [],
   "source": [
    "print(y)\n",
    "\n",
    "y.append(100)\n",
    "print(y)"
   ]
  },
  {
   "cell_type": "code",
   "execution_count": null,
   "id": "87c70767",
   "metadata": {},
   "outputs": [],
   "source": [
    "y[0][1] = 20\n",
    "\n",
    "print(y)"
   ]
  },
  {
   "cell_type": "code",
   "execution_count": null,
   "id": "78626e60",
   "metadata": {},
   "outputs": [],
   "source": [
    "lst1 = ['a', 'bcde']"
   ]
  },
  {
   "cell_type": "code",
   "execution_count": null,
   "id": "b064f958",
   "metadata": {},
   "outputs": [],
   "source": [
    "#Note here how when simply enclosing the different datatype in square brackets put the variable as ONE element in the list."
   ]
  },
  {
   "cell_type": "code",
   "execution_count": null,
   "id": "8e3acb7b",
   "metadata": {},
   "outputs": [],
   "source": [
    "lst1 = [1,2,3,4]"
   ]
  },
  {
   "cell_type": "code",
   "execution_count": null,
   "id": "391977c4",
   "metadata": {},
   "outputs": [],
   "source": [
    "z = {1:100, 2:200, 'a':33, None:True}\n",
    "print(type(z))"
   ]
  },
  {
   "cell_type": "code",
   "execution_count": null,
   "id": "df9cf29d",
   "metadata": {},
   "outputs": [],
   "source": [
    "zz = list(z)\n",
    "\n",
    "print(zz)\n",
    "print(type(zz))\n",
    "\n",
    "#Do note how the list has only taken the keys of the dictionary as its elements."
   ]
  },
  {
   "cell_type": "code",
   "execution_count": null,
   "id": "3bbb165a",
   "metadata": {},
   "outputs": [],
   "source": [
    "for i in z:\n",
    "    print(i)\n",
    "    \n",
    "\n"
   ]
  },
  {
   "cell_type": "code",
   "execution_count": null,
   "id": "e9ee4b07",
   "metadata": {},
   "outputs": [],
   "source": [
    "for i in z.values():\n",
    "    print(i)"
   ]
  },
  {
   "cell_type": "code",
   "execution_count": null,
   "id": "6eeca729",
   "metadata": {},
   "outputs": [],
   "source": [
    "print(z.values())"
   ]
  },
  {
   "cell_type": "code",
   "execution_count": null,
   "id": "b3f4f668",
   "metadata": {},
   "outputs": [],
   "source": [
    "print(zz[0])"
   ]
  },
  {
   "cell_type": "code",
   "execution_count": null,
   "id": "c5d365b7",
   "metadata": {},
   "outputs": [],
   "source": [
    "x = 1,2,3,4\n",
    "print(type(x))"
   ]
  },
  {
   "cell_type": "code",
   "execution_count": null,
   "id": "53074929",
   "metadata": {},
   "outputs": [],
   "source": [
    "zzz = [x]\n",
    "\n",
    "print(zzz)\n",
    "print(type(zzz))\n",
    "print(type(zzz[0]))"
   ]
  },
  {
   "cell_type": "code",
   "execution_count": null,
   "id": "051090bb",
   "metadata": {},
   "outputs": [],
   "source": [
    "print(zzz[0])"
   ]
  },
  {
   "cell_type": "code",
   "execution_count": null,
   "id": "ef1ba440",
   "metadata": {},
   "outputs": [],
   "source": [
    "print(zzz[0][2])"
   ]
  },
  {
   "cell_type": "code",
   "execution_count": null,
   "id": "7d5f44cd",
   "metadata": {},
   "outputs": [],
   "source": [
    "print(zz)"
   ]
  },
  {
   "cell_type": "code",
   "execution_count": null,
   "id": "3c08c1de",
   "metadata": {},
   "outputs": [],
   "source": [
    "lst1 = [1,2,3,4]"
   ]
  },
  {
   "cell_type": "code",
   "execution_count": null,
   "id": "c13b7f2c",
   "metadata": {},
   "outputs": [],
   "source": [
    "lst1.append(5)\n",
    "\n",
    "print(lst1)"
   ]
  },
  {
   "cell_type": "code",
   "execution_count": null,
   "id": "5ea59142",
   "metadata": {},
   "outputs": [],
   "source": [
    "lst1.append([6,7])"
   ]
  },
  {
   "cell_type": "code",
   "execution_count": null,
   "id": "49690816",
   "metadata": {},
   "outputs": [],
   "source": [
    "print(lst1)"
   ]
  },
  {
   "cell_type": "code",
   "execution_count": null,
   "id": "3415fb09",
   "metadata": {},
   "outputs": [],
   "source": []
  },
  {
   "cell_type": "code",
   "execution_count": null,
   "id": "aa4934f8",
   "metadata": {},
   "outputs": [],
   "source": []
  },
  {
   "cell_type": "code",
   "execution_count": null,
   "id": "6ddfc4e9",
   "metadata": {},
   "outputs": [],
   "source": []
  },
  {
   "cell_type": "code",
   "execution_count": null,
   "id": "c59d212d",
   "metadata": {},
   "outputs": [],
   "source": []
  },
  {
   "cell_type": "code",
   "execution_count": null,
   "id": "41f400e3",
   "metadata": {},
   "outputs": [],
   "source": [
    "zzz.append(zz)\n",
    "print(zzz)"
   ]
  },
  {
   "cell_type": "code",
   "execution_count": null,
   "id": "16be6729",
   "metadata": {},
   "outputs": [],
   "source": [
    "print(z)"
   ]
  },
  {
   "cell_type": "code",
   "execution_count": null,
   "id": "65d6db90",
   "metadata": {},
   "outputs": [],
   "source": []
  },
  {
   "cell_type": "code",
   "execution_count": null,
   "id": "78b5ce6f",
   "metadata": {},
   "outputs": [],
   "source": [
    "zzz.append(z)"
   ]
  },
  {
   "cell_type": "code",
   "execution_count": null,
   "id": "819b5936",
   "metadata": {},
   "outputs": [],
   "source": [
    "print(zzz)"
   ]
  },
  {
   "cell_type": "code",
   "execution_count": null,
   "id": "8fb4d4a6",
   "metadata": {},
   "outputs": [],
   "source": [
    "zzz.append(['one', 'two', 'three'])\n",
    "print(zzz)\n",
    "\n",
    "print(len(zzz))"
   ]
  },
  {
   "cell_type": "code",
   "execution_count": null,
   "id": "2c17c4e4",
   "metadata": {},
   "outputs": [],
   "source": [
    "#In short, please remember this difference while trying to create lists - do you want to change the datatype of a sequential\n",
    "# object or just put that iterable itself in a list. "
   ]
  },
  {
   "cell_type": "code",
   "execution_count": null,
   "id": "6b490f92",
   "metadata": {},
   "outputs": [],
   "source": [
    "lst1 = ['abcde']\n",
    "\n",
    "lst2 = list('abcde')\n"
   ]
  },
  {
   "cell_type": "code",
   "execution_count": null,
   "id": "2c4576cc",
   "metadata": {},
   "outputs": [],
   "source": [
    "print(lst1)"
   ]
  },
  {
   "cell_type": "code",
   "execution_count": null,
   "id": "691dafed",
   "metadata": {},
   "outputs": [],
   "source": [
    "print(lst2)"
   ]
  },
  {
   "cell_type": "code",
   "execution_count": null,
   "id": "61281c36",
   "metadata": {},
   "outputs": [],
   "source": [
    "x = []\n",
    "\n",
    "a = [1,2,3,4]\n",
    "b = list('abcde')\n",
    "c = ('one', 'two','three')\n",
    "d = {'A':100, 'B':200}\n"
   ]
  },
  {
   "cell_type": "code",
   "execution_count": null,
   "id": "1554d580",
   "metadata": {},
   "outputs": [],
   "source": [
    "x.append(2*100)\n",
    "\n",
    "print(x)"
   ]
  },
  {
   "cell_type": "code",
   "execution_count": null,
   "id": "4c62c14d",
   "metadata": {},
   "outputs": [],
   "source": [
    "x.append(a)\n",
    "print(x)"
   ]
  },
  {
   "cell_type": "code",
   "execution_count": null,
   "id": "de924655",
   "metadata": {},
   "outputs": [],
   "source": [
    "x.append(b)\n",
    "print(x)"
   ]
  },
  {
   "cell_type": "code",
   "execution_count": null,
   "id": "d76e7b0b",
   "metadata": {},
   "outputs": [],
   "source": [
    "x.append(c)\n",
    "print(x)"
   ]
  },
  {
   "cell_type": "code",
   "execution_count": null,
   "id": "b0b48234",
   "metadata": {},
   "outputs": [],
   "source": [
    "x.append(d)\n",
    "print(x)"
   ]
  },
  {
   "cell_type": "code",
   "execution_count": null,
   "id": "984e92e4",
   "metadata": {},
   "outputs": [],
   "source": [
    "print(len(x))"
   ]
  },
  {
   "cell_type": "code",
   "execution_count": null,
   "id": "00c39ba8",
   "metadata": {},
   "outputs": [],
   "source": [
    "s = ['abc']\n",
    "\n",
    "print(s)"
   ]
  },
  {
   "cell_type": "code",
   "execution_count": null,
   "id": "b7002d17",
   "metadata": {},
   "outputs": [],
   "source": [
    "ss = list('abc')\n",
    "\n",
    "print(ss)"
   ]
  },
  {
   "cell_type": "code",
   "execution_count": null,
   "id": "6f4e492c",
   "metadata": {},
   "outputs": [],
   "source": [
    "#Same thing happened here. Since string is also sequential, in the first example, a list was initialised with one element, \n",
    "# the object 'abc'. The second time when we called the list constructor - the list understood that each individual object\n",
    "# of the 'abc' object was to be put in a list."
   ]
  },
  {
   "cell_type": "code",
   "execution_count": null,
   "id": "81dc873d",
   "metadata": {},
   "outputs": [],
   "source": [
    "#Indexing and slicing can be performed on a list and works exactly as indexing and slicing of other sequential objects. \n",
    "# We have already seen this in the string datatype.\n",
    "\n",
    "lst1 = list(range(3,11))\n",
    "\n",
    "print(lst1)"
   ]
  },
  {
   "cell_type": "code",
   "execution_count": null,
   "id": "e69355c8",
   "metadata": {},
   "outputs": [],
   "source": [
    "print(lst1[2])"
   ]
  },
  {
   "cell_type": "code",
   "execution_count": null,
   "id": "d6904b7c",
   "metadata": {},
   "outputs": [],
   "source": [
    "# A list is a mutable datatype. We can hold mutable datatypes in a list.\n",
    "\n",
    "orig = [1,2*500, 'P'+'y'+'t'+'h'+'o'+'n', {'a':1, 2:200}, ['Amar','Akbar','Anthony'], {'Ironman', 'Krish'}]\n",
    "print(orig)"
   ]
  },
  {
   "cell_type": "code",
   "execution_count": null,
   "id": "68ee36a7",
   "metadata": {},
   "outputs": [],
   "source": [
    "# Getting object at index no. 4\n",
    "\n",
    "idx1 = orig[4]\n",
    "print(idx1)\n",
    "print(type(idx1))"
   ]
  },
  {
   "cell_type": "code",
   "execution_count": null,
   "id": "b38322e7",
   "metadata": {},
   "outputs": [],
   "source": [
    "# Getting object at 1st index of object at index no. 4\n",
    "idx2 = orig[4][1]\n",
    "print(idx2)"
   ]
  },
  {
   "cell_type": "code",
   "execution_count": null,
   "id": "29bdb478",
   "metadata": {},
   "outputs": [],
   "source": [
    "idx3 = orig[2][3]\n",
    "print(idx3)"
   ]
  },
  {
   "cell_type": "code",
   "execution_count": null,
   "id": "4c2eb0ff",
   "metadata": {},
   "outputs": [],
   "source": [
    "orig = [1,2*500, 'P'+'y'+'t'+'h'+'o'+'n', {'a':1, 2:200}, ('Amar','Akbar','Anthony'), {'Ironman', 'Krish'}]\n",
    "\n",
    "#Getting object at 2nd index of object at 1st index of object at 4th index of original list object\n",
    "\n",
    "idx4 = orig[4][1][2]"
   ]
  },
  {
   "cell_type": "code",
   "execution_count": null,
   "id": "c93e7b7e",
   "metadata": {},
   "outputs": [],
   "source": [
    "print(idx4)"
   ]
  },
  {
   "cell_type": "code",
   "execution_count": null,
   "id": "bbeb8af8",
   "metadata": {},
   "outputs": [],
   "source": [
    "#Nested lists. Since list is a mutable datatype and can itself hold mutable datatypes - it goes to show that lists can\n",
    "#hold lists. \n",
    "\n",
    "lst = [1,2,3,4,5,[6,7,[8,9,10], 11, 12, [14,[21,22],27]],100,111]\n",
    "       \n",
    "print(lst)\n"
   ]
  },
  {
   "cell_type": "code",
   "execution_count": null,
   "id": "6e5b4c37",
   "metadata": {},
   "outputs": [],
   "source": [
    "print(lst[5])"
   ]
  },
  {
   "cell_type": "code",
   "execution_count": null,
   "id": "f767e0e1",
   "metadata": {},
   "outputs": [],
   "source": [
    "print(lst[-1])"
   ]
  },
  {
   "cell_type": "code",
   "execution_count": null,
   "id": "f0e688ab",
   "metadata": {},
   "outputs": [],
   "source": [
    "print(lst[5][5])"
   ]
  },
  {
   "cell_type": "code",
   "execution_count": null,
   "id": "fd0911fc",
   "metadata": {},
   "outputs": [],
   "source": [
    "print(lst[5][5][1])"
   ]
  },
  {
   "cell_type": "code",
   "execution_count": null,
   "id": "a7fd4e22",
   "metadata": {},
   "outputs": [],
   "source": [
    "print(lst[5][5][1][0])"
   ]
  },
  {
   "cell_type": "code",
   "execution_count": null,
   "id": "ea0b9e8a",
   "metadata": {},
   "outputs": [],
   "source": [
    "#Slicing on lists\n",
    "\n",
    "orig = [1,2*500, 'P'+'y'+'t'+'h'+'o'+'n', {'a':1, 2:200}, ('Amar','Akbar','Anthony'), {'Ironman', 'Krish'}]\n",
    "\n",
    "slc1 = orig[:]\n",
    "print(slc1)"
   ]
  },
  {
   "cell_type": "code",
   "execution_count": null,
   "id": "328a3b5f",
   "metadata": {},
   "outputs": [],
   "source": [
    "slc2 = orig[::2]\n",
    "print(slc2)"
   ]
  },
  {
   "cell_type": "code",
   "execution_count": null,
   "id": "34848e8e",
   "metadata": {},
   "outputs": [],
   "source": [
    "slc3 = orig[:5:3]\n",
    "print(slc3)\n",
    "\n",
    "print(type(slc3))"
   ]
  },
  {
   "cell_type": "code",
   "execution_count": null,
   "id": "0dccde08",
   "metadata": {},
   "outputs": [],
   "source": [
    "print(type(slc3))"
   ]
  },
  {
   "cell_type": "code",
   "execution_count": null,
   "id": "27f3b8e2",
   "metadata": {},
   "outputs": [],
   "source": [
    "str1 = 'Hello there'\n",
    "\n",
    "str2 = str1[:5]\n",
    "\n",
    "print(type(str2))\n"
   ]
  },
  {
   "cell_type": "code",
   "execution_count": null,
   "id": "29d15931",
   "metadata": {},
   "outputs": [],
   "source": [
    "x = range(20)\n",
    "\n",
    "print(x)\n",
    "print(type(x))\n",
    "\n",
    "y = x[:10]\n",
    "\n",
    "print(y)\n",
    "print(type(y))"
   ]
  },
  {
   "cell_type": "code",
   "execution_count": null,
   "id": "fd3ef476",
   "metadata": {},
   "outputs": [],
   "source": []
  },
  {
   "cell_type": "code",
   "execution_count": null,
   "id": "39f08c33",
   "metadata": {},
   "outputs": [],
   "source": []
  },
  {
   "cell_type": "code",
   "execution_count": null,
   "id": "236d7bd2",
   "metadata": {},
   "outputs": [],
   "source": [
    "#As you can see - slicing a list outputs a list object. "
   ]
  },
  {
   "cell_type": "code",
   "execution_count": null,
   "id": "63fe5f0d",
   "metadata": {},
   "outputs": [],
   "source": [
    "z = list(range(10))\n",
    "print(z)\n",
    "print(type(z))"
   ]
  },
  {
   "cell_type": "code",
   "execution_count": null,
   "id": "5f4822c8",
   "metadata": {},
   "outputs": [],
   "source": [
    "zz = z[:6]\n",
    "\n",
    "print(type(zz))"
   ]
  },
  {
   "cell_type": "code",
   "execution_count": null,
   "id": "404a795f",
   "metadata": {},
   "outputs": [],
   "source": [
    "x = list(range(10))\n",
    "\n",
    "y = x[:5]\n",
    "\n",
    "print(y)\n",
    "\n",
    "print(type(y))"
   ]
  },
  {
   "cell_type": "code",
   "execution_count": null,
   "id": "c243c049",
   "metadata": {},
   "outputs": [],
   "source": [
    "print(orig)"
   ]
  },
  {
   "cell_type": "code",
   "execution_count": null,
   "id": "c439fc08",
   "metadata": {},
   "outputs": [],
   "source": [
    "z = orig[0:3]\n",
    "print(z)\n",
    "print(type(z))"
   ]
  },
  {
   "cell_type": "code",
   "execution_count": null,
   "id": "3b5339de",
   "metadata": {},
   "outputs": [],
   "source": [
    "#As usual the concepts of negative indexing remain the same. \n",
    "\n",
    "lst_alpha = list('abcdefghij')\n",
    "print(lst_alpha)"
   ]
  },
  {
   "cell_type": "code",
   "execution_count": null,
   "id": "2d699564",
   "metadata": {},
   "outputs": [],
   "source": [
    "lst_alpha_rev = lst_alpha[::-1]\n",
    "print(lst_alpha_rev)"
   ]
  },
  {
   "cell_type": "code",
   "execution_count": null,
   "id": "22394b17",
   "metadata": {},
   "outputs": [],
   "source": [
    "x = 'malAyalam'"
   ]
  },
  {
   "cell_type": "code",
   "execution_count": null,
   "id": "fa7b8fde",
   "metadata": {},
   "outputs": [],
   "source": [
    "x2 = x[::-1]\n",
    "\n",
    "print(x2)"
   ]
  },
  {
   "cell_type": "code",
   "execution_count": null,
   "id": "814860bc",
   "metadata": {},
   "outputs": [],
   "source": [
    "lst1 = [1,2,3,4,5]\n",
    "lst2 = []\n",
    "for x in lst1:\n",
    "    if x%2==1:\n",
    "        lst2.append(x)"
   ]
  },
  {
   "cell_type": "code",
   "execution_count": null,
   "id": "684fb577",
   "metadata": {},
   "outputs": [],
   "source": [
    "print(lst2)"
   ]
  },
  {
   "cell_type": "code",
   "execution_count": null,
   "id": "52ec429d",
   "metadata": {},
   "outputs": [],
   "source": [
    "if x == x[::-1]:\n",
    "    print('True')"
   ]
  },
  {
   "cell_type": "code",
   "execution_count": null,
   "id": "adcea163",
   "metadata": {},
   "outputs": [],
   "source": [
    "print(lst_alpha)"
   ]
  },
  {
   "cell_type": "code",
   "execution_count": null,
   "id": "eba6220e",
   "metadata": {},
   "outputs": [],
   "source": [
    "lst_alpha_rev2 = lst_alpha[-5:-2]\n",
    "print(lst_alpha_rev2)"
   ]
  },
  {
   "cell_type": "code",
   "execution_count": null,
   "id": "04291536",
   "metadata": {},
   "outputs": [],
   "source": [
    "print(lst_alpha)"
   ]
  },
  {
   "cell_type": "code",
   "execution_count": null,
   "id": "81c66c6f",
   "metadata": {},
   "outputs": [],
   "source": [
    "print(lst_alpha[-1:-11:-1])"
   ]
  },
  {
   "cell_type": "code",
   "execution_count": null,
   "id": "6efb25ee",
   "metadata": {},
   "outputs": [],
   "source": [
    "print(lst_alpha)"
   ]
  },
  {
   "cell_type": "code",
   "execution_count": null,
   "id": "2d11478c",
   "metadata": {},
   "outputs": [],
   "source": [
    "lst_alpha_rev3 = lst_alpha[-2:-5:-1]\n",
    "print(lst_alpha_rev3)"
   ]
  },
  {
   "cell_type": "code",
   "execution_count": null,
   "id": "94c968e9",
   "metadata": {},
   "outputs": [],
   "source": [
    "lst_alpha_rev4 = lst_alpha[-2:-5:-1]\n",
    "print(lst_alpha_rev4)"
   ]
  },
  {
   "cell_type": "code",
   "execution_count": null,
   "id": "66c12283",
   "metadata": {},
   "outputs": [],
   "source": [
    "print(lst)"
   ]
  },
  {
   "cell_type": "code",
   "execution_count": null,
   "id": "0934d824",
   "metadata": {},
   "outputs": [],
   "source": [
    "lst = list(range(1,11))\n",
    "\n",
    "print(lst)"
   ]
  },
  {
   "cell_type": "code",
   "execution_count": null,
   "id": "5789e9ad",
   "metadata": {},
   "outputs": [],
   "source": [
    "lst[2] = 33\n",
    "\n",
    "print(lst)"
   ]
  },
  {
   "cell_type": "code",
   "execution_count": null,
   "id": "7499d101",
   "metadata": {},
   "outputs": [],
   "source": [
    "str1 = 'abcdefghij'\n",
    "\n",
    "print(str1[4])\n"
   ]
  },
  {
   "cell_type": "code",
   "execution_count": null,
   "id": "2be52d95",
   "metadata": {},
   "outputs": [],
   "source": [
    "str2 = str1[:4]+'E'+str1[5:]\n",
    "\n",
    "print(str2)\n",
    "\n",
    "print(id(str1))\n",
    "print(id(str2))"
   ]
  },
  {
   "cell_type": "code",
   "execution_count": null,
   "id": "ff9b0c0f",
   "metadata": {},
   "outputs": [],
   "source": [
    "lst1 = list(range(10))\n",
    "\n",
    "print(lst1)"
   ]
  },
  {
   "cell_type": "code",
   "execution_count": null,
   "id": "f2e09527",
   "metadata": {},
   "outputs": [],
   "source": [
    "lst1[4] = 400\n",
    "\n",
    "print(lst1)"
   ]
  },
  {
   "cell_type": "code",
   "execution_count": null,
   "id": "d52da456",
   "metadata": {},
   "outputs": [],
   "source": [
    "x = 11,\n",
    "\n",
    "print(x)\n",
    "print(type(x))"
   ]
  },
  {
   "cell_type": "code",
   "execution_count": null,
   "id": "971d13fb",
   "metadata": {},
   "outputs": [],
   "source": [
    "lst1 = list(range(10))\n",
    "print(lst1)\n",
    "print(id(lst1))"
   ]
  },
  {
   "cell_type": "code",
   "execution_count": null,
   "id": "7e36e7b8",
   "metadata": {},
   "outputs": [],
   "source": [
    "lst1[4] = 400\n",
    "\n",
    "print(lst1)"
   ]
  },
  {
   "cell_type": "code",
   "execution_count": null,
   "id": "6c1658b0",
   "metadata": {},
   "outputs": [],
   "source": [
    "x = list(range(21,25))\n",
    "\n",
    "print(x)"
   ]
  },
  {
   "cell_type": "code",
   "execution_count": null,
   "id": "85f3f2cd",
   "metadata": {},
   "outputs": [],
   "source": [
    "print(lst1)"
   ]
  },
  {
   "cell_type": "code",
   "execution_count": null,
   "id": "2e6ffc27",
   "metadata": {},
   "outputs": [],
   "source": [
    "lst1[2:6] = [21,31,41,51]\n",
    "\n",
    "print(lst1)\n",
    "print(id(lst1))"
   ]
  },
  {
   "cell_type": "code",
   "execution_count": null,
   "id": "e0124808",
   "metadata": {},
   "outputs": [],
   "source": [
    "lst1 = list(range(10))"
   ]
  },
  {
   "cell_type": "code",
   "execution_count": null,
   "id": "e53fa2c9",
   "metadata": {},
   "outputs": [],
   "source": [
    "print(lst1)"
   ]
  },
  {
   "cell_type": "code",
   "execution_count": null,
   "id": "68477d79",
   "metadata": {},
   "outputs": [],
   "source": [
    "lst2 = list(range(20))\n",
    "\n",
    "print(lst2)"
   ]
  },
  {
   "cell_type": "code",
   "execution_count": null,
   "id": "1890228c",
   "metadata": {},
   "outputs": [],
   "source": [
    "lst1[2:6] = [100]\n",
    "print(lst1)"
   ]
  },
  {
   "cell_type": "code",
   "execution_count": null,
   "id": "3d1bed1d",
   "metadata": {},
   "outputs": [],
   "source": [
    "lst1[2:6] = [11,15,201,113,1000]\n",
    "\n",
    "print(lst1)"
   ]
  },
  {
   "cell_type": "code",
   "execution_count": null,
   "id": "c0cf7f8b",
   "metadata": {},
   "outputs": [],
   "source": [
    "print(lst)"
   ]
  },
  {
   "cell_type": "code",
   "execution_count": null,
   "id": "9d704482",
   "metadata": {},
   "outputs": [],
   "source": [
    "#Slicing and item assignment can be performed together. \n",
    "\n",
    "lst[2:] = 11,12\n",
    "\n",
    "print(lst)"
   ]
  },
  {
   "cell_type": "code",
   "execution_count": null,
   "id": "69d85b78",
   "metadata": {},
   "outputs": [],
   "source": [
    "lst[2:6] = 11,12\n",
    "\n",
    "print(lst)"
   ]
  },
  {
   "cell_type": "code",
   "execution_count": null,
   "id": "4e01048e",
   "metadata": {},
   "outputs": [],
   "source": [
    "#Note how while slicing we picked up 4 elements but only assigned two new elements? Basically, we told Python to pick up\n",
    "# a certain slice of the list and reassign the values based on what we are giving it - irrespecitive of if the number of\n",
    "# elements match. \n",
    "\n",
    "lst[2:4] = 54,56,58,60\n",
    "print(lst)\n",
    "\n",
    "print(len(lst))"
   ]
  },
  {
   "cell_type": "code",
   "execution_count": null,
   "id": "30a27d3c",
   "metadata": {},
   "outputs": [],
   "source": [
    "lst[2:4] = list(range(53,58))\n",
    "print(lst)\n",
    "print(len(lst))\n",
    "#[1,2,53,54,55,56,57,58,60,100,111]"
   ]
  },
  {
   "cell_type": "code",
   "execution_count": null,
   "id": "b0ff4484",
   "metadata": {},
   "outputs": [],
   "source": [
    "z = list('hetoxyzab')"
   ]
  },
  {
   "cell_type": "code",
   "execution_count": null,
   "id": "92a49f29",
   "metadata": {},
   "outputs": [],
   "source": [
    "#Iteration over a list. \n",
    "print(z)"
   ]
  },
  {
   "cell_type": "code",
   "execution_count": null,
   "id": "264ac24a",
   "metadata": {},
   "outputs": [],
   "source": [
    "for x in z:\n",
    "    print(x)"
   ]
  },
  {
   "cell_type": "code",
   "execution_count": null,
   "id": "2bf55b03",
   "metadata": {},
   "outputs": [],
   "source": [
    "lst1 = [0,1,2,3,4,5]\n",
    "\n",
    "for x in lst1:\n",
    "    print(x*2)"
   ]
  },
  {
   "cell_type": "code",
   "execution_count": null,
   "id": "9e3f5f4b",
   "metadata": {},
   "outputs": [],
   "source": [
    "lst1 = list(range(5))\n",
    "\n",
    "print(lst1)"
   ]
  },
  {
   "cell_type": "code",
   "execution_count": null,
   "id": "4c0e0384",
   "metadata": {},
   "outputs": [],
   "source": [
    "str1 = 'abcde'*5\n",
    "\n",
    "print(str1)"
   ]
  },
  {
   "cell_type": "code",
   "execution_count": null,
   "id": "8d341586",
   "metadata": {},
   "outputs": [],
   "source": [
    "lst = [3,6,11,14,7,4]\n",
    "\n",
    "for x in lst:\n",
    "    print(x+10)"
   ]
  },
  {
   "cell_type": "code",
   "execution_count": null,
   "id": "6d893761",
   "metadata": {},
   "outputs": [],
   "source": [
    "lst2 = []\n",
    "\n",
    "for x in lst:\n",
    "    lst2.append(x+10)\n",
    "    \n",
    "print(lst2)"
   ]
  },
  {
   "cell_type": "code",
   "execution_count": null,
   "id": "9d1404c8",
   "metadata": {},
   "outputs": [],
   "source": [
    "for i in range(len(lst)):\n",
    "    lst[i] = lst[i]+10\n",
    "    \n",
    "print(lst)"
   ]
  },
  {
   "cell_type": "code",
   "execution_count": null,
   "id": "a96522aa",
   "metadata": {},
   "outputs": [],
   "source": [
    "str1 = 'peter pan was a naughty elf'\n",
    "str2 = \"\"\n",
    "for i in range(len(str1)):\n",
    "    if i == 0 or str1[i-1] == ' ':\n",
    "        str2 += str1[i].upper()\n",
    "    else:\n",
    "        str2 += str1[i]\n",
    "               \n",
    "print(str2)\n"
   ]
  },
  {
   "cell_type": "code",
   "execution_count": null,
   "id": "41ed54cc",
   "metadata": {},
   "outputs": [],
   "source": [
    "x = str1.split()\n",
    "\n",
    "print(x)"
   ]
  },
  {
   "cell_type": "code",
   "execution_count": null,
   "id": "286bfe6b",
   "metadata": {},
   "outputs": [],
   "source": [
    "for i in x:"
   ]
  },
  {
   "cell_type": "code",
   "execution_count": null,
   "id": "87ae960f",
   "metadata": {},
   "outputs": [],
   "source": [
    "lst1 = list(range(5))\n",
    "\n",
    "print(lst1)"
   ]
  },
  {
   "cell_type": "code",
   "execution_count": null,
   "id": "996f903f",
   "metadata": {},
   "outputs": [],
   "source": []
  },
  {
   "cell_type": "code",
   "execution_count": null,
   "id": "f649daf6",
   "metadata": {},
   "outputs": [],
   "source": [
    "lst2 = lst1*5\n",
    "\n",
    "print(lst2)"
   ]
  },
  {
   "cell_type": "code",
   "execution_count": null,
   "id": "27bb52b4",
   "metadata": {},
   "outputs": [],
   "source": [
    "lst1 = list('abcde')\n",
    "\n",
    "print(lst1)"
   ]
  },
  {
   "cell_type": "code",
   "execution_count": null,
   "id": "eee42844",
   "metadata": {},
   "outputs": [],
   "source": [
    "lst2 = list('fghij')\n",
    "\n",
    "print(lst2)"
   ]
  },
  {
   "cell_type": "code",
   "execution_count": null,
   "id": "06bfb0b7",
   "metadata": {},
   "outputs": [],
   "source": [
    "str1 = 'abcde'+'fghij'\n",
    "\n",
    "print(str1)"
   ]
  },
  {
   "cell_type": "code",
   "execution_count": null,
   "id": "86d10113",
   "metadata": {},
   "outputs": [],
   "source": [
    "#Concatenation of lists\n",
    "\n",
    "orig_1 = ['a','b','c','d']\n",
    "orig_2 = ['e', 'f', 'g', 'h']\n",
    "lst3 = orig_1 + orig_2\n",
    "\n",
    "print(orig_1)\n",
    "print(orig_2)\n",
    "print(lst3)\n"
   ]
  },
  {
   "cell_type": "code",
   "execution_count": null,
   "id": "0acae57c",
   "metadata": {},
   "outputs": [],
   "source": [
    "orig_tup = tuple(orig_2)\n",
    "\n",
    "print(orig_tup)\n",
    "print(type(orig_tup))"
   ]
  },
  {
   "cell_type": "code",
   "execution_count": null,
   "id": "bb236b5a",
   "metadata": {},
   "outputs": [],
   "source": [
    "lst4 = orig_1 + orig_tup"
   ]
  },
  {
   "cell_type": "code",
   "execution_count": null,
   "id": "98a682dc",
   "metadata": {},
   "outputs": [],
   "source": [
    "lst3 = ['a','b','c','d'] + ['e', 'f', 'g', 'h']\n",
    "\n",
    "print(lst3)"
   ]
  },
  {
   "cell_type": "code",
   "execution_count": null,
   "id": "76a3e4c0",
   "metadata": {},
   "outputs": [],
   "source": [
    "lst4 = ['a', 'b', 'c', 'd'] + list('efgh')\n",
    "\n",
    "print(lst4)"
   ]
  },
  {
   "cell_type": "code",
   "execution_count": null,
   "id": "85378cea",
   "metadata": {},
   "outputs": [],
   "source": [
    "+, -, ^,&,|,/,//,%  = except for between integer and float - you will never be able to use them between datatypes."
   ]
  },
  {
   "cell_type": "code",
   "execution_count": null,
   "id": "603bbfce",
   "metadata": {},
   "outputs": [],
   "source": [
    "lst1 = [1,2,3,4,5] + (6,)\n",
    "\n",
    "print(lst1)"
   ]
  },
  {
   "cell_type": "code",
   "execution_count": null,
   "id": "487dca4f",
   "metadata": {},
   "outputs": [],
   "source": [
    "lst5 = ['a','b','c','d'] + list('efgh')\n",
    "\n",
    "print(lst5)"
   ]
  },
  {
   "cell_type": "code",
   "execution_count": null,
   "id": "8971c3f3",
   "metadata": {},
   "outputs": [],
   "source": [
    "#Membership operations on a list\n",
    "\n",
    "print('d' in lst5)"
   ]
  },
  {
   "cell_type": "code",
   "execution_count": null,
   "id": "573f7400",
   "metadata": {},
   "outputs": [],
   "source": [
    "print('z' in lst5)"
   ]
  },
  {
   "cell_type": "code",
   "execution_count": null,
   "id": "74713bea",
   "metadata": {},
   "outputs": [],
   "source": [
    "print('d' not in lst5)"
   ]
  },
  {
   "cell_type": "code",
   "execution_count": null,
   "id": "3a39ac3d",
   "metadata": {},
   "outputs": [],
   "source": [
    "print('z' not in lst5)"
   ]
  },
  {
   "cell_type": "code",
   "execution_count": null,
   "id": "251fe455",
   "metadata": {},
   "outputs": [],
   "source": [
    "print(lst5)"
   ]
  },
  {
   "cell_type": "code",
   "execution_count": null,
   "id": "d7fccb80",
   "metadata": {},
   "outputs": [],
   "source": [
    "print('d','e'in lst5)"
   ]
  },
  {
   "cell_type": "code",
   "execution_count": null,
   "id": "cd5736e0",
   "metadata": {},
   "outputs": [],
   "source": [
    "print(lst5)"
   ]
  },
  {
   "cell_type": "code",
   "execution_count": null,
   "id": "5edc4d63",
   "metadata": {},
   "outputs": [],
   "source": [
    "lst5.append(['d','e'])\n",
    "\n",
    "print(lst5)"
   ]
  },
  {
   "cell_type": "code",
   "execution_count": null,
   "id": "4494f80f",
   "metadata": {},
   "outputs": [],
   "source": [
    "print(['d','e'] in lst5)"
   ]
  },
  {
   "cell_type": "code",
   "execution_count": null,
   "id": "8d9da5c2",
   "metadata": {},
   "outputs": [],
   "source": [
    "lst5.append(['d','e'])\n",
    "\n",
    "print(lst5)"
   ]
  },
  {
   "cell_type": "code",
   "execution_count": null,
   "id": "622af92e",
   "metadata": {},
   "outputs": [],
   "source": [
    "print('d','e' in lst5)"
   ]
  },
  {
   "cell_type": "code",
   "execution_count": null,
   "id": "96ea3518",
   "metadata": {},
   "outputs": [],
   "source": [
    "print(['d','e'] not in lst5)"
   ]
  },
  {
   "cell_type": "code",
   "execution_count": null,
   "id": "cc5a0609",
   "metadata": {},
   "outputs": [],
   "source": [
    "lst6 = ['a', 'b', 'c', ['d', 'e'], 'f', 'g']\n",
    "\n",
    "print(['d', 'e'] in lst6)"
   ]
  },
  {
   "cell_type": "code",
   "execution_count": null,
   "id": "015e94f5",
   "metadata": {},
   "outputs": [],
   "source": [
    "print('d','e' in lst5)\n",
    "\n",
    "#Note here how though it takes two elements as the elements to search - it actually throws an unexpected output. \n",
    "\n",
    "#For all practical purposes, please assume that the in operator takes only one element to be searched at a time."
   ]
  },
  {
   "cell_type": "code",
   "execution_count": null,
   "id": "43b05dac",
   "metadata": {},
   "outputs": [],
   "source": [
    "print(lst5)"
   ]
  },
  {
   "cell_type": "code",
   "execution_count": null,
   "id": "b37b012e",
   "metadata": {},
   "outputs": [],
   "source": [
    "if('z' in lst5):\n",
    "    print('True')\n",
    "else:\n",
    "    print('False')"
   ]
  },
  {
   "cell_type": "code",
   "execution_count": null,
   "id": "dc5cd2fb",
   "metadata": {},
   "outputs": [],
   "source": [
    "lst1 = list(range(10))"
   ]
  },
  {
   "cell_type": "code",
   "execution_count": null,
   "id": "41e7fb23",
   "metadata": {},
   "outputs": [],
   "source": [
    "lst1 = [1,2,3,[100,200],4,5]"
   ]
  },
  {
   "cell_type": "code",
   "execution_count": null,
   "id": "44a91bef",
   "metadata": {},
   "outputs": [],
   "source": []
  },
  {
   "cell_type": "code",
   "execution_count": null,
   "id": "1b5bfe22",
   "metadata": {},
   "outputs": [],
   "source": [
    "print(100 in lst1)"
   ]
  },
  {
   "cell_type": "code",
   "execution_count": null,
   "id": "603e9cec",
   "metadata": {},
   "outputs": [],
   "source": [
    "print([100,200] in lst1)"
   ]
  },
  {
   "cell_type": "code",
   "execution_count": null,
   "id": "5e249cff",
   "metadata": {},
   "outputs": [],
   "source": [
    "#Length function on lists. As with any other derived datatype - the length function returns the length of the object<in this\n",
    "#case the list. \n",
    "\n",
    "print(lst1)\n",
    "print(len(lst1))\n"
   ]
  },
  {
   "cell_type": "code",
   "execution_count": null,
   "id": "9c11ef4d",
   "metadata": {},
   "outputs": [],
   "source": [
    "print(f'List is. {lst1}. \\nIts length is {len(lst1)}')"
   ]
  },
  {
   "cell_type": "code",
   "execution_count": null,
   "id": "69854601",
   "metadata": {},
   "outputs": [],
   "source": [
    "print(f'List is. {lst3}. \\nIts length is {len(lst3)}')"
   ]
  },
  {
   "cell_type": "code",
   "execution_count": null,
   "id": "f81fc810",
   "metadata": {},
   "outputs": [],
   "source": [
    "print(f'List is. {lst4}. \\nIts length is {len(lst4)}')"
   ]
  },
  {
   "cell_type": "code",
   "execution_count": null,
   "id": "5e8f7f9d",
   "metadata": {},
   "outputs": [],
   "source": [
    "print(f'List is. {lst5}. \\nIts length is {len(lst5)}')"
   ]
  },
  {
   "cell_type": "code",
   "execution_count": null,
   "id": "ec645bfc",
   "metadata": {},
   "outputs": [],
   "source": [
    "# One of the most common functions used with lists is the append function which adds exactly 1 object to the end of the\n",
    "# list. \n",
    "\n",
    "print(lst5)\n",
    "\n"
   ]
  },
  {
   "cell_type": "code",
   "execution_count": null,
   "id": "596aa9f7",
   "metadata": {},
   "outputs": [],
   "source": [
    "lst5.append('i')\n",
    "\n",
    "print(lst5)\n",
    "\n",
    "#It takes exactly one parameter - an object of any datatype to add to the end of the list. Any more (or less) objects than \n",
    "#1 will throw an error."
   ]
  },
  {
   "cell_type": "code",
   "execution_count": null,
   "id": "61482ec5",
   "metadata": {},
   "outputs": [],
   "source": [
    "def lst_append(lst, obj):\n",
    "    lst = lst + [obj]\n",
    "    \n",
    "    \n",
    "lst1 = [1,2,3,4]\n",
    "\n",
    "lst_append(lst1, 'xyz')\n",
    "\n",
    "print(lst1)"
   ]
  },
  {
   "cell_type": "code",
   "execution_count": null,
   "id": "396e0541",
   "metadata": {},
   "outputs": [],
   "source": [
    "lst2 = list(range(5))\n",
    "print(lst2)\n",
    "\n",
    "lst_append(lst2, 1000)\n",
    "\n",
    "print(lst2)"
   ]
  },
  {
   "cell_type": "code",
   "execution_count": null,
   "id": "ac5adf91",
   "metadata": {},
   "outputs": [],
   "source": [
    "y = lst_append(lst1, 'Rinkey')\n",
    "\n",
    "\n",
    "print(y)\n",
    "print(lst1)\n",
    "              \n",
    "              "
   ]
  },
  {
   "cell_type": "code",
   "execution_count": null,
   "id": "d5797e0e",
   "metadata": {},
   "outputs": [],
   "source": [
    "lst5.append(['I','J'])\n",
    "print(lst5)"
   ]
  },
  {
   "cell_type": "code",
   "execution_count": null,
   "id": "82d5d869",
   "metadata": {},
   "outputs": [],
   "source": [
    "lst5.append('ij')\n",
    "print(lst5)"
   ]
  },
  {
   "cell_type": "code",
   "execution_count": null,
   "id": "ee707c5c",
   "metadata": {},
   "outputs": [],
   "source": [
    "lst5.append(('i', 'j'))\n",
    "print(lst5)"
   ]
  },
  {
   "cell_type": "code",
   "execution_count": null,
   "id": "aa69e814",
   "metadata": {},
   "outputs": [],
   "source": [
    "#lst5.append('i')"
   ]
  },
  {
   "cell_type": "code",
   "execution_count": null,
   "id": "11e20e14",
   "metadata": {},
   "outputs": [],
   "source": [
    "def append_to_list(x, y):\n",
    "    x += [y]"
   ]
  },
  {
   "cell_type": "code",
   "execution_count": null,
   "id": "89a6dcd9",
   "metadata": {},
   "outputs": [],
   "source": [
    "lst1 = [1,2,3,4]\n",
    "#append_to_list(lst1, 4)\n",
    "\n",
    "print(lst1)"
   ]
  },
  {
   "cell_type": "code",
   "execution_count": null,
   "id": "316939f4",
   "metadata": {},
   "outputs": [],
   "source": [
    "lst2 = append_to_list(lst1,5)\n",
    "# append(5)\n",
    "print(lst2)\n",
    "print(lst1)"
   ]
  },
  {
   "cell_type": "code",
   "execution_count": null,
   "id": "b11f23df",
   "metadata": {},
   "outputs": [],
   "source": [
    "lst5 = list('abcde')\n",
    "\n",
    "print(lst5)"
   ]
  },
  {
   "cell_type": "code",
   "execution_count": null,
   "id": "73f595d7",
   "metadata": {},
   "outputs": [],
   "source": [
    "def hello():\n",
    "    print('hello')"
   ]
  },
  {
   "cell_type": "code",
   "execution_count": null,
   "id": "a4a5fb19",
   "metadata": {},
   "outputs": [],
   "source": [
    "def hello1():\n",
    "    return 'hello'"
   ]
  },
  {
   "cell_type": "code",
   "execution_count": null,
   "id": "416e453d",
   "metadata": {},
   "outputs": [],
   "source": [
    "x = hello()"
   ]
  },
  {
   "cell_type": "code",
   "execution_count": null,
   "id": "ca942c12",
   "metadata": {},
   "outputs": [],
   "source": [
    "print(x)"
   ]
  },
  {
   "cell_type": "code",
   "execution_count": null,
   "id": "49e06653",
   "metadata": {},
   "outputs": [],
   "source": [
    "y = hello1()"
   ]
  },
  {
   "cell_type": "code",
   "execution_count": null,
   "id": "794a0c0e",
   "metadata": {},
   "outputs": [],
   "source": [
    "print(y)"
   ]
  },
  {
   "cell_type": "code",
   "execution_count": null,
   "id": "128c496e",
   "metadata": {},
   "outputs": [],
   "source": [
    "lst5 = list('abcde')\n",
    "\n",
    "print(lst5)"
   ]
  },
  {
   "cell_type": "code",
   "execution_count": null,
   "id": "71abae62",
   "metadata": {},
   "outputs": [],
   "source": [
    "lst6 = lst5.append('f')\n",
    "\n",
    "print(lst6)"
   ]
  },
  {
   "cell_type": "code",
   "execution_count": null,
   "id": "2b61af90",
   "metadata": {},
   "outputs": [],
   "source": [
    "print(lst5)"
   ]
  },
  {
   "cell_type": "code",
   "execution_count": null,
   "id": "5398c88c",
   "metadata": {},
   "outputs": [],
   "source": [
    "print('Python')"
   ]
  },
  {
   "cell_type": "code",
   "execution_count": null,
   "id": "c738d29f",
   "metadata": {},
   "outputs": [],
   "source": [
    "x = print('Python')\n",
    "\n",
    "print(x)"
   ]
  },
  {
   "cell_type": "code",
   "execution_count": null,
   "id": "7bff0716",
   "metadata": {},
   "outputs": [],
   "source": [
    "print(lst5)"
   ]
  },
  {
   "cell_type": "code",
   "execution_count": null,
   "id": "f556a845",
   "metadata": {},
   "outputs": [],
   "source": [
    "#Append method modifies the ORIGINAL list and doesnt return anything. \n",
    "\n",
    "\n",
    "x = []\n",
    "\n",
    "for i in range(5):\n",
    "    x.append(i)   \n",
    "    \n",
    "print(x)"
   ]
  },
  {
   "cell_type": "code",
   "execution_count": null,
   "id": "8ee1fc3d",
   "metadata": {},
   "outputs": [],
   "source": [
    "lst1 = list(range(10))\n",
    "\n",
    "print(lst1)"
   ]
  },
  {
   "cell_type": "code",
   "execution_count": null,
   "id": "2bccf4bb",
   "metadata": {},
   "outputs": [],
   "source": [
    "def funct1():\n",
    "    return 'Hello'"
   ]
  },
  {
   "cell_type": "code",
   "execution_count": null,
   "id": "949f9265",
   "metadata": {},
   "outputs": [],
   "source": [
    "x = funct1()\n",
    "\n",
    "print(x)"
   ]
  },
  {
   "cell_type": "code",
   "execution_count": null,
   "id": "ef4b83cb",
   "metadata": {},
   "outputs": [],
   "source": [
    "def funct2():\n",
    "    print('Hello')"
   ]
  },
  {
   "cell_type": "code",
   "execution_count": null,
   "id": "d074d2ff",
   "metadata": {},
   "outputs": [],
   "source": [
    "y = funct2()\n",
    "\n",
    "print(y)"
   ]
  },
  {
   "cell_type": "code",
   "execution_count": null,
   "id": "7d0c3bd8",
   "metadata": {},
   "outputs": [],
   "source": [
    "lst2 = lst1.append(10)\n",
    "\n",
    "print('list2 :', lst2)\n",
    "\n",
    "print('list1 :', lst1)"
   ]
  },
  {
   "cell_type": "code",
   "execution_count": null,
   "id": "dd39aba8",
   "metadata": {},
   "outputs": [],
   "source": [
    "print(lst2 == lst1)"
   ]
  },
  {
   "cell_type": "code",
   "execution_count": null,
   "id": "64fd151d",
   "metadata": {},
   "outputs": [],
   "source": [
    "x = [1,2,3,4]\n",
    "y = x + [5,6,7,8]\n",
    "print(y)"
   ]
  },
  {
   "cell_type": "code",
   "execution_count": null,
   "id": "c4db2e0e",
   "metadata": {},
   "outputs": [],
   "source": [
    "a = id(y)\n",
    "\n",
    "print(a)"
   ]
  },
  {
   "cell_type": "code",
   "execution_count": null,
   "id": "630dddc8",
   "metadata": {},
   "outputs": [],
   "source": [
    "y += [9,10]\n",
    "b = id(y)\n",
    "print(y)"
   ]
  },
  {
   "cell_type": "code",
   "execution_count": null,
   "id": "aa66f5ae",
   "metadata": {},
   "outputs": [],
   "source": [
    "print(a, b)"
   ]
  },
  {
   "cell_type": "code",
   "execution_count": null,
   "id": "d09342dd",
   "metadata": {},
   "outputs": [],
   "source": [
    "lst6 = lst5.append('Try this out')\n",
    "\n",
    "print(lst6)\n",
    "print(lst5)"
   ]
  },
  {
   "cell_type": "code",
   "execution_count": null,
   "id": "d832ff79",
   "metadata": {},
   "outputs": [],
   "source": [
    "#If you recall, while performing operations like strip, center, rjust etc on string - the methods would return NEW string\n",
    "# objects. But in lists we CAN modifiy the original list. Why is this so?"
   ]
  },
  {
   "cell_type": "markdown",
   "id": "6dba2e81",
   "metadata": {},
   "source": [
    "##### Because Strings are immutable datatypes while lists are mutable."
   ]
  },
  {
   "cell_type": "code",
   "execution_count": null,
   "id": "ed874e2f",
   "metadata": {},
   "outputs": [],
   "source": [
    "#Before we move on to more methods which can be performded on the list datatype, I would like to illustrate 1 neat trick\n",
    "# and 1 special syntax for use with lists(and some other derived datatypes)"
   ]
  },
  {
   "cell_type": "code",
   "execution_count": null,
   "id": "cc6f2afd",
   "metadata": {},
   "outputs": [],
   "source": [
    "#A neat trick which is very commonly used is to use a range function to get the index numbers of the items in a list.\n",
    "\n",
    "#If you recall, the range object returns a range <object> with numbers in a sequence with specified parameters. \n",
    "#We also know that lists support indexing. \n",
    "#And that lists and range both support iteration.\n",
    "\n",
    "#We can use this to get the index numbers of each element inside a list. \n",
    "\n",
    "lst1 = list('abcdefghij')\n",
    "print(lst1)"
   ]
  },
  {
   "cell_type": "code",
   "execution_count": null,
   "id": "eb26afa6",
   "metadata": {},
   "outputs": [],
   "source": [
    "for element in lst1:\n",
    "    print(element)\n",
    "    "
   ]
  },
  {
   "cell_type": "code",
   "execution_count": null,
   "id": "fce97638",
   "metadata": {},
   "outputs": [],
   "source": [
    "#However, if I only wanted the index numbers of each of the elements in the lst1?\n",
    "\n",
    "for indexno in range(10):  #Here length of lst1 is 10\n",
    "    print(indexno)"
   ]
  },
  {
   "cell_type": "code",
   "execution_count": null,
   "id": "8c70a3ac",
   "metadata": {},
   "outputs": [],
   "source": [
    "# We could simplify this, since we have learnt that length function returns the length of a list\n",
    "\n",
    "for indexno in range(len(lst1)):\n",
    "    print(indexno)"
   ]
  },
  {
   "cell_type": "code",
   "execution_count": null,
   "id": "af890682",
   "metadata": {},
   "outputs": [],
   "source": [
    "# And since we know that indexing works on lists, to get each element of the lst1 I could use indexing to get the element\n",
    "# at that position. \n",
    "print(lst1)"
   ]
  },
  {
   "cell_type": "code",
   "execution_count": null,
   "id": "c8c7b2e1",
   "metadata": {},
   "outputs": [],
   "source": [
    "for i in range(len(lst1)):\n",
    "    print(lst1[i])"
   ]
  },
  {
   "cell_type": "code",
   "execution_count": null,
   "id": "b14a4687",
   "metadata": {},
   "outputs": [],
   "source": [
    "# But why go in a round about way to get the element at a certain position of a list?\n",
    "# Sometimes we need to work on an element in a list(or any other sequential datatype) based on their position in the list.\n",
    "\n",
    "lst1 = [17,20, 30, 11]\n",
    "\n",
    "#Add 1 to every element in lst1 and print it. "
   ]
  },
  {
   "cell_type": "code",
   "execution_count": null,
   "id": "120ec8d3",
   "metadata": {},
   "outputs": [],
   "source": [
    "for i in lst1:\n",
    "    print(i+1)"
   ]
  },
  {
   "cell_type": "code",
   "execution_count": null,
   "id": "bc5ff8ab",
   "metadata": {},
   "outputs": [],
   "source": [
    "lst2 = []\n",
    "\n",
    "for i in lst1:\n",
    "    lst2.append(i+1)\n",
    "    \n",
    "print(lst2)"
   ]
  },
  {
   "cell_type": "code",
   "execution_count": null,
   "id": "7fe99666",
   "metadata": {},
   "outputs": [],
   "source": [
    "print(lst1)"
   ]
  },
  {
   "cell_type": "code",
   "execution_count": null,
   "id": "03eb2f67",
   "metadata": {},
   "outputs": [],
   "source": [
    "for i in range(len(lst1)):\n",
    "    lst1[i] = lst1[i]+1\n",
    "    \n",
    "    \n",
    "print(lst1)\n",
    "    \n",
    "    \n"
   ]
  },
  {
   "cell_type": "code",
   "execution_count": null,
   "id": "7529cd94",
   "metadata": {},
   "outputs": [],
   "source": []
  },
  {
   "cell_type": "code",
   "execution_count": null,
   "id": "12091b61",
   "metadata": {},
   "outputs": [],
   "source": []
  },
  {
   "cell_type": "code",
   "execution_count": null,
   "id": "e24ab285",
   "metadata": {},
   "outputs": [],
   "source": []
  },
  {
   "cell_type": "code",
   "execution_count": null,
   "id": "dc35d14d",
   "metadata": {},
   "outputs": [],
   "source": []
  },
  {
   "cell_type": "code",
   "execution_count": null,
   "id": "609f4204",
   "metadata": {},
   "outputs": [],
   "source": [
    "for elem in lst1:\n",
    "    print(elem+1)\n",
    "    \n",
    "#Great! Problem solved."
   ]
  },
  {
   "cell_type": "code",
   "execution_count": null,
   "id": "c2edbb96",
   "metadata": {},
   "outputs": [],
   "source": [
    "#Add 1 to every 2ND element in lst1.\n",
    "\n",
    "lst1 = [17,20, 30, 11]\n"
   ]
  },
  {
   "cell_type": "code",
   "execution_count": null,
   "id": "93a3bdcc",
   "metadata": {},
   "outputs": [],
   "source": [
    "for elem in range(1,len(lst1),2):\n",
    "    print(f'Index number we are working on {elem}.')\n",
    "    print(f'Original value of element at that index position. {lst1[elem]}.')\n",
    "    print(f'New output = {lst1[elem]+1}.\\n-----------------------------')"
   ]
  },
  {
   "cell_type": "code",
   "execution_count": null,
   "id": "aa0e96bd",
   "metadata": {},
   "outputs": [],
   "source": [
    "print(lst1)"
   ]
  },
  {
   "cell_type": "code",
   "execution_count": null,
   "id": "14562334",
   "metadata": {},
   "outputs": [],
   "source": [
    "# Add 1 to the elements in lst 1 using a for loop. You can use a new list. Fairly easy?\n",
    "\n",
    "lst2 = []\n",
    "\n",
    "for x in lst1:\n",
    "    lst2.append(x+1)\n",
    "\n",
    "print(lst2)"
   ]
  },
  {
   "cell_type": "code",
   "execution_count": null,
   "id": "7fd4f9e1",
   "metadata": {},
   "outputs": [],
   "source": [
    "for x in lst1:\n",
    "    lst1[x] += 1\n",
    "    \n",
    "print(lst1)"
   ]
  },
  {
   "cell_type": "code",
   "execution_count": null,
   "id": "f8e2573b",
   "metadata": {},
   "outputs": [],
   "source": [
    "# Now lets try the same thing. But we cannot use a new list. \n",
    "\n",
    "lst1 = [17,20, 30, 11]\n",
    "\n",
    "for x in lst1:\n",
    "    lst1.append(x+1)\n",
    "    \n",
    "print(lst1)"
   ]
  },
  {
   "cell_type": "code",
   "execution_count": null,
   "id": "91ea8594",
   "metadata": {},
   "outputs": [],
   "source": [
    "#Note how this throws us into an infinite loop? Every time we append an item to lst1 - the length of list 1 grows and the\n",
    "#for loop continues to have to add 1 to the new elements created. So, thats out!"
   ]
  },
  {
   "cell_type": "code",
   "execution_count": null,
   "id": "0843c326",
   "metadata": {},
   "outputs": [],
   "source": [
    "# #How about if we try to change the value of the elements of lst1 in place? Try to reassign the value?\n",
    "\n",
    "lst1 = [17,20, 30, 11]\n",
    "\n",
    "for x in lst1:\n",
    "    x += 1\n",
    "    print(x)\n",
    "print(lst1)\n",
    "\n",
    "#Oops! We did update new values to temporary variable x, but that did us no good - we could not assign that value to \n",
    "# the list we were running the for loop on. But if we were to assign the new value of x to the index position of lst1\n",
    "# that would solve our problem right?\n"
   ]
  },
  {
   "cell_type": "code",
   "execution_count": null,
   "id": "01358bd5",
   "metadata": {},
   "outputs": [],
   "source": [
    "#We could individually assign the values of the list based on their index position. \n",
    "\n",
    "lst1[0] += 1\n",
    "lst1[1] += 1\n",
    "lst1[2] += 1\n",
    "lst1[3] += 1\n",
    "\n",
    "print(lst1)"
   ]
  },
  {
   "cell_type": "code",
   "execution_count": null,
   "id": "95f90d19",
   "metadata": {},
   "outputs": [],
   "source": [
    "#However using the concept of index positions, item assigment(since list is mutable) and the range function, we are able\n",
    "# to accomplish this easily.\n",
    "\n",
    "lst1 = [17,20,30,11]\n",
    "\n",
    "\n",
    "for x in range(len(lst1)):\n",
    "    lst1[x] += 1\n",
    "    \n",
    "print(lst1)"
   ]
  },
  {
   "cell_type": "code",
   "execution_count": null,
   "id": "51a2c42d",
   "metadata": {},
   "outputs": [],
   "source": [
    "# So, important takeaways from this excercise of using range functions with lists:\n",
    "\n",
    "# 1. We can use the range function to act as a proxy for the index numbers of a list.\n",
    "\n",
    "### PLEASE PLEASE understand that the range function is NOT a function that returns the index numbers of a list. What it \n",
    "# returns is a range of numbers(elements) between specified parameters. We then use this range object as a proxy for \n",
    "# index numbers of a list. There is a distinction between these two and it has taken me hours with individual\n",
    "# students making them unlearn and relearn their understanding of this idea. \n",
    "\n",
    "# 2. We can use the index numbers of a list, when we cannot (or do not want to) work on the elements of a list directly,\n",
    "# but need to perform operations on their index positions. \n"
   ]
  },
  {
   "cell_type": "code",
   "execution_count": null,
   "id": "5ad902c8",
   "metadata": {},
   "outputs": [],
   "source": [
    "str1 = 'sept 23rd batch is a great batch'\n",
    "\n",
    "str2 = ''"
   ]
  },
  {
   "cell_type": "code",
   "execution_count": null,
   "id": "c46cd8f3",
   "metadata": {},
   "outputs": [],
   "source": [
    "for i in range(len(str1)):\n",
    "    if str1[i-1] == ' ' or i == 0:\n",
    "        str2 = str2 + str1[i].upper()\n",
    "    else:\n",
    "        str2 = str2 + str1[i]\n",
    "        \n",
    "print(str2)"
   ]
  },
  {
   "cell_type": "code",
   "execution_count": null,
   "id": "f24655c3",
   "metadata": {},
   "outputs": [],
   "source": [
    "print(str2)"
   ]
  },
  {
   "cell_type": "code",
   "execution_count": null,
   "id": "b0104073",
   "metadata": {},
   "outputs": [],
   "source": []
  },
  {
   "cell_type": "code",
   "execution_count": null,
   "id": "227ddcc9",
   "metadata": {},
   "outputs": [],
   "source": []
  },
  {
   "cell_type": "code",
   "execution_count": null,
   "id": "ba1193b9",
   "metadata": {},
   "outputs": [],
   "source": []
  },
  {
   "cell_type": "code",
   "execution_count": null,
   "id": "0a404be1",
   "metadata": {},
   "outputs": [],
   "source": []
  },
  {
   "cell_type": "code",
   "execution_count": null,
   "id": "e10bb07d",
   "metadata": {},
   "outputs": [],
   "source": []
  },
  {
   "cell_type": "code",
   "execution_count": null,
   "id": "f0328bc3",
   "metadata": {},
   "outputs": [],
   "source": [
    "for x in range(len(str1)):\n",
    "    if str1[x-1] == \" \":\n",
    "        str2 += str1[x].upper()\n",
    "    else:\n",
    "        str2 += str1[x]\n",
    "print(str2)"
   ]
  },
  {
   "cell_type": "code",
   "execution_count": null,
   "id": "8a48cd2f",
   "metadata": {},
   "outputs": [],
   "source": [
    "# A cool syntax to use with lists is called list comprehension. It is short form of a for loop with lists. \n",
    "print(lst1)"
   ]
  },
  {
   "cell_type": "code",
   "execution_count": null,
   "id": "7199f336",
   "metadata": {},
   "outputs": [],
   "source": [
    "lst1 = [1,2,3,4]\n",
    "\n",
    "lst2 = []\n",
    "\n",
    "for x in lst1:\n",
    "    lst2.append(x+1)\n",
    "    \n",
    "print(lst2)"
   ]
  },
  {
   "cell_type": "code",
   "execution_count": null,
   "id": "974c856f",
   "metadata": {},
   "outputs": [],
   "source": [
    "lst3 = [x+1 for x in lst1]\n",
    "\n",
    "print(lst3)"
   ]
  },
  {
   "cell_type": "code",
   "execution_count": null,
   "id": "0de1f9e5",
   "metadata": {},
   "outputs": [],
   "source": [
    "lst_alpha = list('abcdefghij')\n",
    "\n",
    "lst4 = [x*3 for x in lst_alpha]\n",
    "\n",
    "print(lst4)\n",
    "print(type(lst4))"
   ]
  },
  {
   "cell_type": "code",
   "execution_count": null,
   "id": "2e7ba471",
   "metadata": {},
   "outputs": [],
   "source": [
    "lst1 = list('abcdefghijklmnopqrstuvwxyz')\n",
    "lst2 = list('ABCDEFGHIJKLMNOPQRSTUVWXYZ')"
   ]
  },
  {
   "cell_type": "code",
   "execution_count": null,
   "id": "f40ed796",
   "metadata": {},
   "outputs": [],
   "source": [
    "if both if - else are there in a list comprehension the syntax is if and else both should come before the for loop. \n",
    "\n",
    "if ONLY if condition is there in a list comprehension the syntax is if will come after the for loop. "
   ]
  },
  {
   "cell_type": "code",
   "execution_count": null,
   "id": "45590334",
   "metadata": {},
   "outputs": [],
   "source": [
    "lst5 = [lst1[x] for x in range(len(lst1)) if x%2 == 1]\n",
    "\n",
    "print(lst5)\n",
    "print(\"\".join(lst5))"
   ]
  },
  {
   "cell_type": "code",
   "execution_count": null,
   "id": "d0593208",
   "metadata": {},
   "outputs": [],
   "source": [
    "lst4 = [lst1[x]+lst2[x] if x%2==1 else 'X' for x in range(len(lst1))]\n",
    "\n",
    "print(lst4)"
   ]
  },
  {
   "cell_type": "code",
   "execution_count": null,
   "id": "add40c38",
   "metadata": {},
   "outputs": [],
   "source": [
    "lst4 = 'abcdefghij'"
   ]
  },
  {
   "cell_type": "code",
   "execution_count": null,
   "id": "d9bcb101",
   "metadata": {},
   "outputs": [],
   "source": [
    "#List comprehension\n",
    "\n",
    "1. Shorter syntax to use 3 steps of code\n",
    "initialize empty list\n",
    "for loop\n",
    "append to empty list\n",
    "\n",
    "[operation for temp var in iterable]\n",
    "\n",
    "\n",
    "2. Returns a new list object. CANNOT run comprehension on an object that already exists to add to its elements.\n",
    "\n",
    "3. Can use if else conditions in a comprehension. But - if only a if condition is present it will come after the for loop. \n",
    "If both if/else are present they will come before the for loop. \n",
    "\n",
    "4. Elif cannot be used in comprehension.\n",
    "\n"
   ]
  },
  {
   "cell_type": "code",
   "execution_count": null,
   "id": "193ed7a3",
   "metadata": {},
   "outputs": [],
   "source": [
    "tuple1 = tuple(range(10))\n",
    "\n",
    "lst_tup = [x * 5 for x in tuple1]\n",
    "\n",
    "print(lst_tup)"
   ]
  },
  {
   "cell_type": "code",
   "execution_count": null,
   "id": "09c9e392",
   "metadata": {},
   "outputs": [],
   "source": [
    "lst2 = [x*2 for x in lst1]\n",
    "\n",
    "print(lst2)"
   ]
  },
  {
   "cell_type": "code",
   "execution_count": null,
   "id": "590aeda9",
   "metadata": {},
   "outputs": [],
   "source": [
    "lst3 = []\n",
    "for x in lst1:\n",
    "    lst3.append(x+1)\n",
    "print(lst3)\n",
    "    "
   ]
  },
  {
   "cell_type": "code",
   "execution_count": null,
   "id": "1390db73",
   "metadata": {},
   "outputs": [],
   "source": [
    "#It returns a new list object based using the for loop in one line of efficient easy code. \n",
    "\n",
    "#it works on any iterable. \n",
    "\n",
    "lst1 = ['abcde','fghij','Tuhin']\n",
    "\n",
    "# str1 = 'abcdef'\n",
    "lst3 = [x[::-1] for x in lst1]\n",
    "print(lst3)"
   ]
  },
  {
   "cell_type": "code",
   "execution_count": null,
   "id": "faa4d871",
   "metadata": {},
   "outputs": [],
   "source": [
    "print(lst4)"
   ]
  },
  {
   "cell_type": "code",
   "execution_count": null,
   "id": "fb5e1118",
   "metadata": {},
   "outputs": [],
   "source": [
    "x = 6\n",
    "\n",
    "if x > 5:\n",
    "    print('A')\n",
    "if x > 0:\n",
    "    print('B')\n",
    "else:\n",
    "    print('C')"
   ]
  },
  {
   "cell_type": "code",
   "execution_count": null,
   "id": "435c6168",
   "metadata": {},
   "outputs": [],
   "source": [
    "x = 10\n",
    "\n",
    "if x > 5:\n",
    "    print('A')\n",
    "else:\n",
    "    print('B')\n",
    "    if x < 0:\n",
    "        print('C')\n",
    "    else:\n",
    "        print('D')"
   ]
  },
  {
   "cell_type": "code",
   "execution_count": null,
   "id": "b286ad1e",
   "metadata": {},
   "outputs": [],
   "source": [
    "lst4a = [0,10,13,12,17,6]\n",
    "lst5a = []\n",
    "\n",
    "\n",
    "for x in lst4a:\n",
    "    if x%2 == 1:\n",
    "        lst5a.append(x+1)\n",
    "    else:\n",
    "        if x > 10:\n",
    "            lst5a.append(x*5)\n",
    "        else:\n",
    "            lst5a.append(x)\n",
    "            \n",
    "            \n",
    "print(lst5a)"
   ]
  },
  {
   "cell_type": "code",
   "execution_count": null,
   "id": "eb904710",
   "metadata": {},
   "outputs": [],
   "source": [
    "lst4 = [0,10,13,12,17,6]\n",
    "\n",
    "lst5 = [x+1 if x%2 == 1 else x*5 if x>10 else x for x in lst4]\n",
    "\n",
    "print(lst5)"
   ]
  },
  {
   "cell_type": "code",
   "execution_count": null,
   "id": "ebca9643",
   "metadata": {},
   "outputs": [],
   "source": [
    "lst4 = [0,10,13,12,17,6]\n",
    "\n",
    "lst5 = []\n",
    "\n",
    "for x in lst4:\n",
    "    if x%2 == 1:\n",
    "        lst5.append(x+1)\n",
    "    else:\n",
    "        if x>10:\n",
    "            lst5.append(x*5)\n",
    "        else:\n",
    "            lst5.append(x)\n",
    "            \n",
    "print(lst5)"
   ]
  },
  {
   "cell_type": "code",
   "execution_count": null,
   "id": "3ca5974e",
   "metadata": {},
   "outputs": [],
   "source": [
    "lst6 = []\n",
    "\n",
    "for x in lst4:\n",
    "    if x%2 == 1:\n",
    "        lst6.append(x+1)\n",
    "    else:\n",
    "        lst6.append(x)\n",
    "        \n",
    "        \n",
    "print(lst6)"
   ]
  },
  {
   "cell_type": "code",
   "execution_count": null,
   "id": "618c51aa",
   "metadata": {},
   "outputs": [],
   "source": [
    "lst7 = [x+1 for x in lst4 if x%2 == 1]\n",
    "\n",
    "print(lst7)\n"
   ]
  },
  {
   "cell_type": "code",
   "execution_count": null,
   "id": "3968a870",
   "metadata": {},
   "outputs": [],
   "source": [
    "lstx = [0,2,7,11,20,4,6]\n",
    "\n",
    "lstx1 = []\n",
    "for i in lstx:\n",
    "    if i > 5 :\n",
    "        #lstx1.append(i*2)\n",
    "        if i > 10 :\n",
    "            lstx1.append(i*2)\n",
    "        \n",
    "print(lstx1)\n",
    "        "
   ]
  },
  {
   "cell_type": "code",
   "execution_count": null,
   "id": "b332d6ed",
   "metadata": {},
   "outputs": [],
   "source": [
    "lstx2 = [i*2 for i in lstx if i > 5 if i > 10]\n",
    "\n",
    "print(lstx2)"
   ]
  },
  {
   "cell_type": "code",
   "execution_count": null,
   "id": "c6745aa5",
   "metadata": {},
   "outputs": [],
   "source": [
    "a = 4\n",
    "\n",
    "if a > 10:\n",
    "    print(a)\n",
    "elif a > 5:\n",
    "    print(a*2)\n",
    "else:\n",
    "    print('less than 5')"
   ]
  },
  {
   "cell_type": "code",
   "execution_count": null,
   "id": "a37de47f",
   "metadata": {},
   "outputs": [],
   "source": [
    "lst5a = []\n",
    "\n",
    "for x in lst4:\n",
    "    if x%2 == 1:\n",
    "        lst5a.append(x+1)\n",
    "    else:\n",
    "        lst5a.append(x)\n",
    "print(lst5a)"
   ]
  },
  {
   "cell_type": "code",
   "execution_count": null,
   "id": "14c186a8",
   "metadata": {},
   "outputs": [],
   "source": [
    "print(lst4)"
   ]
  },
  {
   "cell_type": "code",
   "execution_count": null,
   "id": "ef91a888",
   "metadata": {},
   "outputs": [],
   "source": [
    "lst6 = [x for x in lst4 if x%2 == 1]\n",
    "\n",
    "print(lst6)"
   ]
  },
  {
   "cell_type": "code",
   "execution_count": null,
   "id": "46401ab3",
   "metadata": {},
   "outputs": [],
   "source": [
    "#Note importantly how if we are using both if and else then if else condition comes before the for loop otherwise if only using if\n",
    "# condition this comes after teh for loop. \n",
    "# Also note that do not specify the else condition then for elements that do not satisfy the if condition, nothing is done\n",
    "# and they are not included in the new list. \n",
    "\n"
   ]
  },
  {
   "cell_type": "code",
   "execution_count": null,
   "id": "e8771aa5",
   "metadata": {},
   "outputs": [],
   "source": [
    "print(lst1)"
   ]
  },
  {
   "cell_type": "code",
   "execution_count": null,
   "id": "5a4383cd",
   "metadata": {},
   "outputs": [],
   "source": [
    "lst1 = [x for x in range(10)]\n",
    "print(lst1)"
   ]
  },
  {
   "cell_type": "code",
   "execution_count": null,
   "id": "3cd08aa6",
   "metadata": {},
   "outputs": [],
   "source": [
    "for x in lst1:\n",
    "    if x%2 == 0:\n",
    "        if x%4 == 0:\n",
    "            print(x)\n",
    "\n",
    "#     if x%4 == 0:\n",
    "#         print(x)"
   ]
  },
  {
   "cell_type": "code",
   "execution_count": null,
   "id": "90d06754",
   "metadata": {},
   "outputs": [],
   "source": [
    "# You can use multiple if statements in the list comprehension.\n",
    "\n",
    "print(lst1)\n",
    "\n",
    "lst7 = [x for x in lst1]\n",
    "print(lst7)\n",
    "\n",
    "# The expressions that satisfy all the if conditions will be output to the new list. \n",
    "\n",
    "#However, you cannot use multiple if statements with an else statement. There is a workaround to this which we will \n",
    "# discuss when discussing loops and conditional statements further in the course. "
   ]
  },
  {
   "cell_type": "code",
   "execution_count": null,
   "id": "0ef8bbb1",
   "metadata": {},
   "outputs": [],
   "source": [
    "lst1 = list(range(10))\n",
    "\n",
    "\n",
    "print(lst1)"
   ]
  },
  {
   "cell_type": "code",
   "execution_count": null,
   "id": "84e6f2ca",
   "metadata": {},
   "outputs": [],
   "source": [
    "for x in range(len(lst1)):\n",
    "    for y in range(len(lst1)-1):\n",
    "        if lst1[y]%2 == 1:\n",
    "            temp = lst1[y]\n",
    "            lst1[y] = lst1[y+1]\n",
    "            lst1[y+1] = temp\n",
    "        print(lst1)\n",
    "print(lst1)"
   ]
  },
  {
   "cell_type": "code",
   "execution_count": null,
   "id": "d511f973",
   "metadata": {},
   "outputs": [],
   "source": [
    "#At the time of discussing loops, we shall also look at nested for loops for normal lists and also their use in list\n",
    "# comprehension. "
   ]
  },
  {
   "cell_type": "code",
   "execution_count": null,
   "id": "cd91f6cf",
   "metadata": {},
   "outputs": [],
   "source": [
    "#So, from what we have learnt we can easily use the range function to return a list of numbers to us.\n",
    "\n",
    "# normal for loop. \n",
    "\n",
    "lst = []\n",
    "for x in range(10):\n",
    "    lst.append(x)\n",
    "    \n",
    "print(lst)\n",
    "    "
   ]
  },
  {
   "cell_type": "code",
   "execution_count": null,
   "id": "f1723070",
   "metadata": {},
   "outputs": [],
   "source": [
    "\n",
    "\n",
    "lst = []\n",
    "for x in range(50,70,2):\n",
    "    lst.append(x)\n",
    "    \n",
    "print(lst)"
   ]
  },
  {
   "cell_type": "code",
   "execution_count": null,
   "id": "f010dd58",
   "metadata": {},
   "outputs": [],
   "source": [
    "#And using list comprehension\n",
    "\n",
    "lst = [x for x in range(20)]\n",
    "print(lst)"
   ]
  },
  {
   "cell_type": "code",
   "execution_count": null,
   "id": "cd753070",
   "metadata": {},
   "outputs": [],
   "source": [
    "lst = [x for x in range(50,70,2)]\n",
    "print(lst)"
   ]
  },
  {
   "cell_type": "code",
   "execution_count": null,
   "id": "6e4aa9d7",
   "metadata": {},
   "outputs": [],
   "source": [
    "#Note how using list comprehension - I did not have to reassign variable lst to a new empty list? What would happen in\n",
    "# the normal for loop if I were to not reassign a new empty list to lst? \n",
    "\n",
    "lst = []\n",
    "\n",
    "for x in range(20):\n",
    "    lst.append(x)\n",
    "print(lst)\n",
    "\n",
    "for x in range(50,70,2):\n",
    "    lst.append(x)\n",
    "\n",
    "print(lst)"
   ]
  },
  {
   "cell_type": "code",
   "execution_count": null,
   "id": "d0a496f4",
   "metadata": {},
   "outputs": [],
   "source": [
    "lst1 = [x for x in range(5)]\n",
    "\n",
    "print(lst1)"
   ]
  },
  {
   "cell_type": "code",
   "execution_count": null,
   "id": "9cb8c947",
   "metadata": {},
   "outputs": [],
   "source": [
    "lstcomp = [[x+y for x in range(5)] for y in range(5)]\n",
    "\n",
    "print(lstcomp)"
   ]
  },
  {
   "cell_type": "code",
   "execution_count": null,
   "id": "0fdd309d",
   "metadata": {},
   "outputs": [],
   "source": [
    "lstcomp = []\n",
    "\n",
    "for y in range(5):\n",
    "    temp_lst = []\n",
    "    for x in range(5):\n",
    "        temp_lst.append(x+y)\n",
    "    lstcomp.append(temp_lst)\n",
    "\n",
    "    \n",
    "print(lstcomp)"
   ]
  },
  {
   "cell_type": "code",
   "execution_count": null,
   "id": "186854e0",
   "metadata": {},
   "outputs": [],
   "source": [
    "y comprehension - 0,1,2,3,4\n",
    "\n",
    "\n",
    "x comprehension - 0,1,2,3,4\n",
    "\n",
    "\n",
    "2+0 = [2\n",
    "2+1 = 3\n",
    "2+2 = 4\n",
    "2+3 = 5\n",
    "2+4 = 6]"
   ]
  },
  {
   "cell_type": "code",
   "execution_count": null,
   "id": "ab0773ff",
   "metadata": {},
   "outputs": [],
   "source": [
    "var1 = 4 "
   ]
  },
  {
   "cell_type": "code",
   "execution_count": null,
   "id": "bffc586a",
   "metadata": {},
   "outputs": [],
   "source": [
    "#While the above examples were just to understand the use and differences between for loops with lists and list\n",
    "# comprehension, the easiest way to actually create the above lists would be: \n",
    "\n",
    "lst = list(range(20))\n",
    "\n",
    "print(lst)"
   ]
  },
  {
   "cell_type": "code",
   "execution_count": null,
   "id": "703f301c",
   "metadata": {},
   "outputs": [],
   "source": [
    "lst = list(range(50,70,2))\n",
    "print(lst)"
   ]
  },
  {
   "cell_type": "code",
   "execution_count": null,
   "id": "343eb7ef",
   "metadata": {},
   "outputs": [],
   "source": [
    "# You would probably use for and lists or list comprehensions to perform much more complex tasks than just creating\n",
    "# a list of numbers. "
   ]
  },
  {
   "cell_type": "code",
   "execution_count": null,
   "id": "591a8412",
   "metadata": {},
   "outputs": [],
   "source": [
    "# Delete, remove and pop - Uses and differences in Python\n",
    "\n",
    "# Delete is a Python keyword and works on deleting any Python object."
   ]
  },
  {
   "cell_type": "code",
   "execution_count": null,
   "id": "80ca2a44",
   "metadata": {},
   "outputs": [],
   "source": [
    "lst = list(range(1,10))\n",
    "\n",
    "print(lst)\n",
    "print(id(lst))"
   ]
  },
  {
   "cell_type": "code",
   "execution_count": null,
   "id": "45e68621",
   "metadata": {},
   "outputs": [],
   "source": [
    "lst.clear()\n",
    "print(lst)\n",
    "print(id(lst))"
   ]
  },
  {
   "cell_type": "code",
   "execution_count": null,
   "id": "e657d9cb",
   "metadata": {},
   "outputs": [],
   "source": [
    "del(lst[:])\n",
    "\n",
    "print(lst)\n",
    "print(id(lst))"
   ]
  },
  {
   "cell_type": "code",
   "execution_count": null,
   "id": "a299f479",
   "metadata": {},
   "outputs": [],
   "source": [
    "# With lists and list indexing it will remove the element at specified index position of the list\n",
    "\n",
    "del(lst[2])\n",
    "print(lst)\n",
    "\n",
    "#Note here how it deleted the object at the 2nd index position and not the value 2 inside the list."
   ]
  },
  {
   "cell_type": "code",
   "execution_count": null,
   "id": "ff0e8a08",
   "metadata": {},
   "outputs": [],
   "source": [
    "# With no index number provided it will delete the whole list object. \n",
    "\n",
    "del(lst)"
   ]
  },
  {
   "cell_type": "code",
   "execution_count": null,
   "id": "c1653ecb",
   "metadata": {},
   "outputs": [],
   "source": []
  },
  {
   "cell_type": "code",
   "execution_count": null,
   "id": "f0d0be54",
   "metadata": {},
   "outputs": [],
   "source": [
    "print(lst)"
   ]
  },
  {
   "cell_type": "code",
   "execution_count": null,
   "id": "1c0371a6",
   "metadata": {},
   "outputs": [],
   "source": [
    "lst = [1, 2, 54, 55, 56, 57, 58, 60, 100, 111]\n",
    "print(lst)"
   ]
  },
  {
   "cell_type": "code",
   "execution_count": null,
   "id": "7aa134a0",
   "metadata": {},
   "outputs": [],
   "source": [
    "del(lst[2:4])"
   ]
  },
  {
   "cell_type": "code",
   "execution_count": null,
   "id": "b7a5dd37",
   "metadata": {},
   "outputs": [],
   "source": [
    "print(lst)"
   ]
  },
  {
   "cell_type": "code",
   "execution_count": null,
   "id": "f8604c43",
   "metadata": {},
   "outputs": [],
   "source": [
    "lst.clear()\n",
    "\n",
    "print(lst)"
   ]
  },
  {
   "cell_type": "code",
   "execution_count": null,
   "id": "7610b26a",
   "metadata": {},
   "outputs": [],
   "source": [
    "lst = list(range(1,10))\n",
    "\n",
    "lst.append(20)\n",
    "print(lst)\n",
    "\n",
    "print(len(lst))"
   ]
  },
  {
   "cell_type": "code",
   "execution_count": null,
   "id": "ae6c573b",
   "metadata": {},
   "outputs": [],
   "source": [
    "del(lst[::2])\n",
    "print(lst)\n",
    "\n",
    "#Note here how we get an IndexError - since len of list is only 10"
   ]
  },
  {
   "cell_type": "code",
   "execution_count": null,
   "id": "f4485e90",
   "metadata": {},
   "outputs": [],
   "source": [
    "lst = list(range(1,10))\n",
    "print(lst)"
   ]
  },
  {
   "cell_type": "code",
   "execution_count": null,
   "id": "3ebb2635",
   "metadata": {},
   "outputs": [],
   "source": [
    "lst1 = [1,2,3,4]\n",
    "lst2 = [5,6,7,8]\n",
    "\n",
    "del(lst1, lst2)\n",
    "\n"
   ]
  },
  {
   "cell_type": "code",
   "execution_count": null,
   "id": "954b2953",
   "metadata": {},
   "outputs": [],
   "source": [
    "print(lst1)"
   ]
  },
  {
   "cell_type": "code",
   "execution_count": null,
   "id": "6198d5e9",
   "metadata": {},
   "outputs": [],
   "source": [
    "print(lst2)"
   ]
  },
  {
   "cell_type": "code",
   "execution_count": null,
   "id": "69869476",
   "metadata": {},
   "outputs": [],
   "source": [
    "x = 1001\n",
    "y = 2002\n",
    "\n",
    "lst1 = [1,2,3,x, y, 4]\n",
    "\n",
    "print(lst1)"
   ]
  },
  {
   "cell_type": "code",
   "execution_count": null,
   "id": "0715b707",
   "metadata": {},
   "outputs": [],
   "source": [
    "del(lst1[3])\n",
    "\n",
    "print(lst1)"
   ]
  },
  {
   "cell_type": "code",
   "execution_count": null,
   "id": "817ecf28",
   "metadata": {},
   "outputs": [],
   "source": [
    "print(x)\n",
    "\n",
    "#Note how the object x is deleted from list but not from memory."
   ]
  },
  {
   "cell_type": "code",
   "execution_count": null,
   "id": "6ae13acd",
   "metadata": {},
   "outputs": [],
   "source": [
    "del(x)\n",
    "print(x)"
   ]
  },
  {
   "cell_type": "code",
   "execution_count": null,
   "id": "b60bb8c7",
   "metadata": {},
   "outputs": [],
   "source": [
    "x = 1001\n",
    "\n",
    "lst1.append(x)\n",
    "print(lst1)\n",
    "\n",
    "print(id(x))\n",
    "print(id(lst1[-1]))"
   ]
  },
  {
   "cell_type": "code",
   "execution_count": null,
   "id": "e66fb28e",
   "metadata": {},
   "outputs": [],
   "source": [
    "del(x)\n",
    "print(x)"
   ]
  },
  {
   "cell_type": "code",
   "execution_count": null,
   "id": "1b689cb1",
   "metadata": {},
   "outputs": [],
   "source": [
    "print(lst1)\n",
    "print(id(lst1[-1]))\n",
    "\n",
    "#Note how even though object is supposedly removed from memory, since there is another reference to it inside the list\n",
    "#object, it remains in memory i.e. it has not been deleted. "
   ]
  },
  {
   "cell_type": "code",
   "execution_count": null,
   "id": "24db3dbf",
   "metadata": {},
   "outputs": [],
   "source": [
    "#Delete can also be used to delete a range of objects from the list\n",
    "\n",
    "lst1 = list(range(1,10))\n",
    "print(lst1)"
   ]
  },
  {
   "cell_type": "code",
   "execution_count": null,
   "id": "1002fe5a",
   "metadata": {},
   "outputs": [],
   "source": [
    "del(lst1[1:4])\n",
    "\n",
    "print(lst1)"
   ]
  },
  {
   "cell_type": "code",
   "execution_count": null,
   "id": "a67bc4a8",
   "metadata": {},
   "outputs": [],
   "source": [
    "del(lst1[4])"
   ]
  },
  {
   "cell_type": "code",
   "execution_count": null,
   "id": "bc46c069",
   "metadata": {},
   "outputs": [],
   "source": [
    "print(lst1)"
   ]
  },
  {
   "cell_type": "code",
   "execution_count": null,
   "id": "a5ff1e02",
   "metadata": {},
   "outputs": [],
   "source": [
    "lst1 = list('abcdefghij')"
   ]
  },
  {
   "cell_type": "code",
   "execution_count": null,
   "id": "d9305d09",
   "metadata": {},
   "outputs": [],
   "source": [
    "print(lst1)"
   ]
  },
  {
   "cell_type": "code",
   "execution_count": null,
   "id": "3028a885",
   "metadata": {},
   "outputs": [],
   "source": [
    "lst1.remove('d')\n",
    "\n",
    "print(lst1)\n",
    "\n",
    "lst2 = lst1\n",
    "\n",
    "print(lst2)"
   ]
  },
  {
   "cell_type": "code",
   "execution_count": null,
   "id": "4cf3dacb",
   "metadata": {},
   "outputs": [],
   "source": [
    "#Note here - how remove method removed the element with the value of 2. "
   ]
  },
  {
   "cell_type": "code",
   "execution_count": null,
   "id": "32a46a8d",
   "metadata": {},
   "outputs": [],
   "source": [
    "lst = list(range(1,10))\n",
    "lst.append(20)\n",
    "print(lst)"
   ]
  },
  {
   "cell_type": "code",
   "execution_count": null,
   "id": "8939467d",
   "metadata": {},
   "outputs": [],
   "source": [
    "lst.remove(20)\n",
    "\n",
    "print(lst)"
   ]
  },
  {
   "cell_type": "code",
   "execution_count": null,
   "id": "87211e00",
   "metadata": {},
   "outputs": [],
   "source": [
    "# Note here how lst was able to remove the object with the value 20 from the list. \n",
    "\n",
    "#Both delete and remove perform the operation on the original list and return nothing. \n",
    "\n",
    "lst = list(range(1,10))\n",
    "\n",
    "#lst_del = del(lst[2])\n",
    "\n",
    "print(lst)\n",
    "#print(lst_del)\n",
    "\n",
    "#Since del is a keyword and not a method(function) on the list datatype - we immediately get a syntax error. You cannot\n",
    "#assign a keyword operation to a variable. "
   ]
  },
  {
   "cell_type": "code",
   "execution_count": null,
   "id": "6b02dcb5",
   "metadata": {},
   "outputs": [],
   "source": [
    "lst = list(range(1,10))\n",
    "\n",
    "print(lst)"
   ]
  },
  {
   "cell_type": "code",
   "execution_count": null,
   "id": "0ff42a45",
   "metadata": {},
   "outputs": [],
   "source": [
    "x = lst.remove(2)\n",
    "\n",
    "print(lst)\n",
    "print(x)"
   ]
  },
  {
   "cell_type": "code",
   "execution_count": null,
   "id": "e112671e",
   "metadata": {},
   "outputs": [],
   "source": [
    "print(dir(list))"
   ]
  },
  {
   "cell_type": "code",
   "execution_count": null,
   "id": "428c8620",
   "metadata": {},
   "outputs": [],
   "source": [
    "lst = list(range(1,10))\n",
    "print(lst)"
   ]
  },
  {
   "cell_type": "code",
   "execution_count": null,
   "id": "9994ade4",
   "metadata": {},
   "outputs": [],
   "source": [
    "lst_del = lst.remove(2)\n",
    "\n",
    "print(lst)"
   ]
  },
  {
   "cell_type": "code",
   "execution_count": null,
   "id": "92d1e90f",
   "metadata": {},
   "outputs": [],
   "source": [
    "print(lst_del)"
   ]
  },
  {
   "cell_type": "code",
   "execution_count": null,
   "id": "ef32bd1f",
   "metadata": {},
   "outputs": [],
   "source": [
    "#As expected, the remove operation has been performed on the original list and this is reflected in the original list. \n",
    "# However, since the remove method on lists does not return anything, we receive None as contained in variable lst_del."
   ]
  },
  {
   "cell_type": "code",
   "execution_count": null,
   "id": "aa6f942e",
   "metadata": {},
   "outputs": [],
   "source": []
  },
  {
   "cell_type": "code",
   "execution_count": null,
   "id": "27cba9cd",
   "metadata": {},
   "outputs": [],
   "source": [
    "#Pop method on lists in Python removes the element and the specified index value in a list. It takes one parameter, index \n",
    "# value of the element to be removed. If parameter left empty it defaults to -1 or the last element in the list. \n",
    "\n",
    "lst = list(range(1,10))\n",
    "print(lst)"
   ]
  },
  {
   "cell_type": "code",
   "execution_count": null,
   "id": "59b3b414",
   "metadata": {},
   "outputs": [],
   "source": [
    "x = lst.pop()\n",
    "\n",
    "print(lst)\n",
    "print(x)"
   ]
  },
  {
   "cell_type": "code",
   "execution_count": null,
   "id": "624a5bf6",
   "metadata": {},
   "outputs": [],
   "source": [
    "y = lst.pop(2)\n",
    "print(lst)\n",
    "print(y)"
   ]
  },
  {
   "cell_type": "code",
   "execution_count": null,
   "id": "90d14f40",
   "metadata": {},
   "outputs": [],
   "source": [
    "lstalpha = list('abcdefghij')\n",
    "\n",
    "print(lstalpha)"
   ]
  },
  {
   "cell_type": "code",
   "execution_count": null,
   "id": "8cd48ff9",
   "metadata": {},
   "outputs": [],
   "source": [
    "popped = lstalpha.pop(2)\n",
    "\n",
    "print(lstalpha)\n",
    "print(popped)"
   ]
  },
  {
   "cell_type": "code",
   "execution_count": null,
   "id": "3fa82d1a",
   "metadata": {},
   "outputs": [],
   "source": [
    "pop1 = lstalpha.pop()\n",
    "pop2 = lstalpha.pop()\n",
    "pop3 = lstalpha.pop()\n",
    "\n",
    "\n",
    "print(pop1)\n",
    "print(pop2)\n",
    "print(pop3)"
   ]
  },
  {
   "cell_type": "code",
   "execution_count": null,
   "id": "6ea75a7c",
   "metadata": {},
   "outputs": [],
   "source": [
    "print(lstalpha)"
   ]
  },
  {
   "cell_type": "code",
   "execution_count": null,
   "id": "9065d545",
   "metadata": {},
   "outputs": [],
   "source": [
    "lst_rev = []\n",
    "\n",
    "for x in range(len(lstalpha)):\n",
    "    lst_rev.append(lstalpha.pop())\n",
    "    #print(lst_rev)\n",
    "print(lst_rev)"
   ]
  },
  {
   "cell_type": "code",
   "execution_count": null,
   "id": "3036f8e4",
   "metadata": {},
   "outputs": [],
   "source": [
    "# Difference between remove and pop methods\n",
    "\n",
    "1. Remove takes a mandatory argument - no default. While pop defaults to last element in list. \n",
    "2. Remove takes the element to be removed. While pop takes the index number of element to be removed as its first argument.\n",
    "3. Remove does not return anything. Pop returns the element that was popped. Both modify the original list."
   ]
  },
  {
   "cell_type": "code",
   "execution_count": null,
   "id": "4d4e6991",
   "metadata": {},
   "outputs": [],
   "source": [
    "# Lists\n",
    "\n",
    "1. Derived datatype. \n",
    "2. Mutable\n",
    "3. Iterable\n",
    "4. Supports subscription i.e. indexing, slicing and item assignment - both as single index and as a slice as well. Slice \n",
    "wise assignment - takes an iterable to replace the slice (Not single object). Also, slicing is not mandatory that the number\n",
    "of elements being sliced should be replaced by an equal number.\n",
    "5. It is heterogenous i.e. can contain different types of data including lists themselves i.e. supports nesting.\n",
    "\n",
    "# Initializing lists\n",
    "\n",
    "1. Either square brackets or list function. List function take only one argument which should be an iterable object.\n",
    "\n",
    "# Methods and functions on lists\n",
    "\n",
    "1. append\n",
    "2. pop\n",
    "3. remove\n",
    "4. clear\n",
    "\n",
    "\n",
    "del keyword on list items and list themselves\n",
    "\n",
    "list comprehension - \n",
    "\n",
    "syntax for list comprehension\n",
    "[expression/value for temp_var in iterable ]\n",
    "\n",
    "If / else can be used with list comprehension. \n",
    "Elif cannot be used.\n",
    "Only one if else block to be evaluated can exist in a list comprehension.\n",
    "Nested if else as part of the main if/else block is possible.\n",
    "\n",
    "# Peculiarity of list comprehension syntax with if / else?\n",
    "\n",
    "# 1. If only if condition then the if condition comes after the for loop\n",
    "# 2. If both if / else are there then before for loop.\n",
    "\n",
    "# Covered when to use range and when to iterate over original iterable. \n",
    "# 1. When the operations to be performed are directly on the objects in the iterable, without regard to their index numbers \n",
    "# then we iterate over original iterable. \n",
    "# 2. When the index numbers of the iterable are important (such as when doing item assignment or checking item at certain index\n",
    "# position relative to other item in the iterable etc) then we use range function as a proxy for the index numbers."
   ]
  },
  {
   "cell_type": "code",
   "execution_count": null,
   "id": "22131afd",
   "metadata": {},
   "outputs": [],
   "source": [
    "print(list(range(1,20, 5)))"
   ]
  },
  {
   "cell_type": "code",
   "execution_count": null,
   "id": "ff027c54",
   "metadata": {},
   "outputs": [],
   "source": [
    "str1 = 'Hello there'\n",
    "\n",
    "\n",
    "print(list(range(len(str1))))"
   ]
  },
  {
   "cell_type": "code",
   "execution_count": null,
   "id": "5729ff4d",
   "metadata": {},
   "outputs": [],
   "source": [
    "tuple1 = tuple(range(10))\n",
    "\n",
    "lst1 = [x for x in tuple1]\n",
    "\n",
    "print(lst1)\n"
   ]
  },
  {
   "cell_type": "code",
   "execution_count": null,
   "id": "a79ee26d",
   "metadata": {},
   "outputs": [],
   "source": [
    "lstx = ['x' for i in range(10)]\n",
    "\n",
    "print(lstx)"
   ]
  },
  {
   "cell_type": "code",
   "execution_count": null,
   "id": "bdecc21e",
   "metadata": {},
   "outputs": [],
   "source": []
  },
  {
   "cell_type": "code",
   "execution_count": null,
   "id": "8e1666a6",
   "metadata": {},
   "outputs": [],
   "source": []
  },
  {
   "cell_type": "code",
   "execution_count": null,
   "id": "5d307c03",
   "metadata": {},
   "outputs": [],
   "source": []
  },
  {
   "cell_type": "code",
   "execution_count": null,
   "id": "1d065c19",
   "metadata": {},
   "outputs": [],
   "source": []
  },
  {
   "cell_type": "code",
   "execution_count": null,
   "id": "f471eb94",
   "metadata": {},
   "outputs": [],
   "source": [
    "lstalpha.remove(4)\n",
    "\n",
    "print(lstalpha)"
   ]
  },
  {
   "cell_type": "code",
   "execution_count": null,
   "id": "e7790ec1",
   "metadata": {},
   "outputs": [],
   "source": [
    "lstalpha.pop(4)\n",
    "\n",
    "print(lstalpha)"
   ]
  },
  {
   "cell_type": "code",
   "execution_count": null,
   "id": "f1ba89ac",
   "metadata": {},
   "outputs": [],
   "source": [
    "#However, the pop method removes the element from the original list AND returns the element that was at the specified index\n",
    "# and was removed. \n",
    "\n",
    "lst = list(range(1,10))\n",
    "print(lst)"
   ]
  },
  {
   "cell_type": "code",
   "execution_count": null,
   "id": "525c55a9",
   "metadata": {},
   "outputs": [],
   "source": [
    "popped = lst.pop(3)\n",
    "\n",
    "print(f'List after popping {lst}')"
   ]
  },
  {
   "cell_type": "code",
   "execution_count": null,
   "id": "3c76b5cc",
   "metadata": {},
   "outputs": [],
   "source": [
    "print(f'Popped = {popped}.')"
   ]
  },
  {
   "cell_type": "code",
   "execution_count": null,
   "id": "c0b0b311",
   "metadata": {},
   "outputs": [],
   "source": [
    "lst = list(range(1,10))\n",
    "print(lst)\n",
    "popped = lst.pop(5)"
   ]
  },
  {
   "cell_type": "code",
   "execution_count": null,
   "id": "1edd3459",
   "metadata": {},
   "outputs": [],
   "source": [
    "print(f'List after popping {lst}')\n",
    "print(f'Popped = {popped}.')"
   ]
  },
  {
   "cell_type": "code",
   "execution_count": null,
   "id": "c497d2fb",
   "metadata": {},
   "outputs": [],
   "source": [
    "# Lists\n",
    "\n",
    "1. Derived datatype\n",
    "2. Sequential and ordered\n",
    "3. Mutable\n",
    "4. Can have heterogenous data in a list, including lists themselves.\n",
    "5. Iterable\n",
    "6. Operations can be performed on list\n",
    "7. Subscription - indexing, slicing and item assignment can be performed\n",
    "\n",
    "\n",
    "\n",
    "\n"
   ]
  },
  {
   "cell_type": "code",
   "execution_count": null,
   "id": "0f27918b",
   "metadata": {},
   "outputs": [],
   "source": []
  },
  {
   "cell_type": "code",
   "execution_count": null,
   "id": "50448906",
   "metadata": {},
   "outputs": [],
   "source": []
  },
  {
   "cell_type": "code",
   "execution_count": null,
   "id": "3cac5930",
   "metadata": {},
   "outputs": [],
   "source": []
  },
  {
   "cell_type": "code",
   "execution_count": null,
   "id": "5cdd6f80",
   "metadata": {},
   "outputs": [],
   "source": []
  },
  {
   "cell_type": "code",
   "execution_count": null,
   "id": "a6007748",
   "metadata": {},
   "outputs": [],
   "source": [
    "#Sort method on Lists - sorts the given list in ascending order (by default). For strings does comparison by unicode values\n",
    "# character by character"
   ]
  },
  {
   "cell_type": "code",
   "execution_count": null,
   "id": "bc00c6e5",
   "metadata": {},
   "outputs": [],
   "source": [
    "lst1 = [17, 12, 39, 11, 9, 18]\n",
    "\n",
    "lst2 = lst1.sort()\n",
    "print(lst1)\n",
    "print(lst2)"
   ]
  },
  {
   "cell_type": "code",
   "execution_count": null,
   "id": "8f3ef807",
   "metadata": {},
   "outputs": [],
   "source": [
    "65 - 90 for A - Z\n",
    "91 - 116 for a - z"
   ]
  },
  {
   "cell_type": "code",
   "execution_count": null,
   "id": "06941423",
   "metadata": {},
   "outputs": [],
   "source": [
    "print(ord('a'), ord('P'), ord('X'))"
   ]
  },
  {
   "cell_type": "code",
   "execution_count": null,
   "id": "72d41553",
   "metadata": {},
   "outputs": [],
   "source": [
    "#As we can see - the sort is performed on original list which is modified and there is no return value. "
   ]
  },
  {
   "cell_type": "code",
   "execution_count": null,
   "id": "c62dd778",
   "metadata": {},
   "outputs": [],
   "source": [
    "lst2 = ['a', 'Python', 'XYZ']\n",
    "\n",
    "lst2.sort()\n",
    "print(lst2)\n",
    "\n",
    "#Note here how Python and XYZ are before the alphabet a. This is because the unicode values of capital P and X are lower\n",
    "#than the unicode value for a. "
   ]
  },
  {
   "cell_type": "code",
   "execution_count": null,
   "id": "92a029d2",
   "metadata": {},
   "outputs": [],
   "source": [
    "lst2 = ['ab', 'apython', 'XYZ']\n",
    "\n",
    "lst2.sort()\n",
    "print(lst2)"
   ]
  },
  {
   "cell_type": "code",
   "execution_count": null,
   "id": "c590860b",
   "metadata": {},
   "outputs": [],
   "source": [
    "lst3 = [20, 20.2, 300, 72, 64.2]\n",
    "\n",
    "lst3.sort()\n",
    "\n",
    "print(lst3)"
   ]
  },
  {
   "cell_type": "code",
   "execution_count": null,
   "id": "8c8954b2",
   "metadata": {},
   "outputs": [],
   "source": [
    "#Sort can take in 2 Parameters. \n",
    "\n",
    "#1. Key - This can take in a new function to calculate the values to be sorted on. Optional\n",
    "#2. reverse - Is False by default but if set to True - then will return the list in descending order. \n",
    "\n",
    "lst2 = [17, 24, 1001, 2123, 3, 82]\n",
    "\n",
    "lst2.sort(reverse = True)\n",
    "\n",
    "print(lst2)"
   ]
  },
  {
   "cell_type": "code",
   "execution_count": null,
   "id": "b3306ea0",
   "metadata": {},
   "outputs": [],
   "source": [
    "print(ord('a'), ord('P'), ord('X'))"
   ]
  },
  {
   "cell_type": "code",
   "execution_count": null,
   "id": "3e1f9882",
   "metadata": {},
   "outputs": [],
   "source": [
    "lst3 = ['a', 'Python', 'XYZ']\n",
    "\n",
    "lst3.sort(reverse = True)\n",
    "\n",
    "print(lst3)\n",
    "    \n"
   ]
  },
  {
   "cell_type": "code",
   "execution_count": null,
   "id": "f1405dda",
   "metadata": {},
   "outputs": [],
   "source": [
    "print(len('axe'))\n",
    "print(len('Python'))\n",
    "print(len('WXYZ'))"
   ]
  },
  {
   "cell_type": "code",
   "execution_count": null,
   "id": "9b7c7f9c",
   "metadata": {},
   "outputs": [],
   "source": [
    "lst1 = list(range(10,0,-1))\n",
    "\n",
    "print(lst1)"
   ]
  },
  {
   "cell_type": "code",
   "execution_count": null,
   "id": "5542e9e6",
   "metadata": {},
   "outputs": [],
   "source": [
    "lst1.sort()\n",
    "\n",
    "print(lst1)"
   ]
  },
  {
   "cell_type": "code",
   "execution_count": null,
   "id": "60390c43",
   "metadata": {},
   "outputs": [],
   "source": [
    "lst1.sort(reverse=True)\n",
    "print(lst1)"
   ]
  },
  {
   "cell_type": "code",
   "execution_count": null,
   "id": "99058f12",
   "metadata": {},
   "outputs": [],
   "source": []
  },
  {
   "cell_type": "code",
   "execution_count": null,
   "id": "95def7dd",
   "metadata": {},
   "outputs": [],
   "source": [
    "#The keyword can take any type of function to evaluate the elements. E.g. len() function. \n",
    "\n",
    "lst4 = ['axe', 'Python', 'WXYZ', 'abc', 'PYTHON']\n",
    "\n",
    "# axe, python, wxyz = input\n",
    "\n",
    "# 3 , 6, 4 len function runs\n",
    "\n",
    "# 3,4,6 = sorting happens\n",
    "\n",
    "# axe, wxyz, python = output\n",
    "\n",
    "print(lst4)"
   ]
  },
  {
   "cell_type": "code",
   "execution_count": null,
   "id": "9283bed5",
   "metadata": {},
   "outputs": [],
   "source": [
    "print(len('axe'))"
   ]
  },
  {
   "cell_type": "code",
   "execution_count": null,
   "id": "7fb124ea",
   "metadata": {},
   "outputs": [],
   "source": []
  },
  {
   "cell_type": "code",
   "execution_count": null,
   "id": "43926ee5",
   "metadata": {},
   "outputs": [],
   "source": [
    "lst4.sort(key = len, reverse = True)\n",
    "\n",
    "print(lst4)"
   ]
  },
  {
   "cell_type": "code",
   "execution_count": null,
   "id": "fb5e012a",
   "metadata": {},
   "outputs": [],
   "source": [
    "print(dir(__builtins__))"
   ]
  },
  {
   "cell_type": "code",
   "execution_count": null,
   "id": "34ccb39e",
   "metadata": {},
   "outputs": [],
   "source": [
    "lst5 = [[111,201,300], [111,42, 75], [82, 41, 33], [64,99,101]]\n",
    "\n",
    "# 612, 228, 156, 264\n",
    "\n",
    "# 3, 2, 4, 1\n",
    "\n",
    "# 300, 111, 82, 101\n",
    "\n",
    "# 3, 4, 2, 1\n",
    "\n",
    "lst5.sort()\n",
    "\n",
    "print(lst5)\n",
    "\n",
    "# Step 1 :\n",
    "# Each element of the iterable gets passed to the function. Max - all the four lists are passed to the max function one by one\n",
    "# Max of each inner list is taken out and the result is \n",
    "\n",
    "# 300,111, 82, 101\n",
    "\n",
    "# Step 2:\n",
    "    \n",
    "# The output from step 1 is arranged / sorted. \n",
    "\n",
    "# 82,101, 111, 300\n",
    "\n",
    "# is the output at this step. \n",
    "\n",
    "# step 3: \n",
    "    \n",
    "# The original element that gave us the above output are sorted in the order of step 2 output. \n",
    "\n",
    "\n"
   ]
  },
  {
   "cell_type": "code",
   "execution_count": null,
   "id": "88586f23",
   "metadata": {},
   "outputs": [],
   "source": [
    "lst5 = [[111,201,300], [111,42, 75], [82, 41, 33], [64,99,101]]\n"
   ]
  },
  {
   "cell_type": "code",
   "execution_count": null,
   "id": "049e6ac6",
   "metadata": {},
   "outputs": [],
   "source": [
    "lst5.sort()\n",
    "for x in lst5:\n",
    "    x.sort()\n",
    "    \n",
    "    \n",
    "print(lst5)"
   ]
  },
  {
   "cell_type": "markdown",
   "id": "f75bb78a",
   "metadata": {},
   "source": [
    "1. max = \n",
    "\n",
    "30, 111, 82, 101\n",
    "\n",
    "30,82,101,111\n",
    "\n",
    "2. sum\n",
    "\n",
    "330, 228, 156, 264"
   ]
  },
  {
   "cell_type": "code",
   "execution_count": null,
   "id": "d58cd0ac",
   "metadata": {},
   "outputs": [],
   "source": [
    "reverse parameter is NOT optional but defaults to False which gives you ascending order. If changed to True then gives \n",
    "descending order. \n",
    "\n",
    "key parameter IS optional and takes a function which can be used to decide the basis of sorting. \n"
   ]
  },
  {
   "cell_type": "code",
   "execution_count": null,
   "id": "90040cfe",
   "metadata": {},
   "outputs": [],
   "source": [
    "lstalpha = ['axe', 'Python', 'WXYZ']"
   ]
  },
  {
   "cell_type": "code",
   "execution_count": null,
   "id": "c999c273",
   "metadata": {},
   "outputs": [],
   "source": []
  },
  {
   "cell_type": "code",
   "execution_count": null,
   "id": "ff95d52c",
   "metadata": {},
   "outputs": [],
   "source": [
    "lst2 = [(0,2), (1,1),(7,9), (10,3), (11,6)]\n",
    "\n",
    "# (0,2), (1,1), (7,9), (10,3) = inputs\n",
    "\n",
    "# 2,1,9,3, 6 = function runs\n",
    "\n",
    "# 1,2,3,6,9 = sorting happens\n",
    "\n",
    "#           = Returns elements based on the sort output of previous steps.\n",
    "\n"
   ]
  },
  {
   "cell_type": "code",
   "execution_count": null,
   "id": "f5b73608",
   "metadata": {},
   "outputs": [],
   "source": [
    "def funct1(x):\n",
    "    print(x[1])"
   ]
  },
  {
   "cell_type": "code",
   "execution_count": null,
   "id": "952d3f01",
   "metadata": {},
   "outputs": [],
   "source": [
    "def funct(x):\n",
    "    return x[1]"
   ]
  },
  {
   "cell_type": "code",
   "execution_count": null,
   "id": "0a62fe05",
   "metadata": {},
   "outputs": [],
   "source": [
    "def funct1():\n",
    "    print('Mobile delivered')\n",
    "    \n",
    "def funct():\n",
    "    return 'Money'"
   ]
  },
  {
   "cell_type": "code",
   "execution_count": null,
   "id": "845d9778",
   "metadata": {},
   "outputs": [],
   "source": [
    "drawer = funct1()"
   ]
  },
  {
   "cell_type": "code",
   "execution_count": null,
   "id": "8fcb22c0",
   "metadata": {},
   "outputs": [],
   "source": [
    "print(drawer)"
   ]
  },
  {
   "cell_type": "code",
   "execution_count": null,
   "id": "26032022",
   "metadata": {},
   "outputs": [],
   "source": [
    "drawer = funct()"
   ]
  },
  {
   "cell_type": "code",
   "execution_count": null,
   "id": "c6b6a01b",
   "metadata": {},
   "outputs": [],
   "source": [
    "print(drawer)"
   ]
  },
  {
   "cell_type": "code",
   "execution_count": null,
   "id": "a964aefb",
   "metadata": {},
   "outputs": [],
   "source": [
    "lst2.sort(key= funct)\n",
    "\n",
    "print(lst2)"
   ]
  },
  {
   "cell_type": "code",
   "execution_count": null,
   "id": "3724e44f",
   "metadata": {},
   "outputs": [],
   "source": [
    "lst2 = [(0,2), (1,1),[7,9], (10,3), (11,6)]\n",
    "\n",
    "lst2.sort(key = funct1)\n",
    "\n",
    "print(lst2)"
   ]
  },
  {
   "cell_type": "code",
   "execution_count": null,
   "id": "91bfaea4",
   "metadata": {},
   "outputs": [],
   "source": [
    "lst4.sort(reverse = True, key = len)\n",
    "print(lst4)"
   ]
  },
  {
   "cell_type": "code",
   "execution_count": null,
   "id": "ceea470c",
   "metadata": {},
   "outputs": [],
   "source": [
    "lst4x = ['a', 100, 'Python', 'xYZ', 21]"
   ]
  },
  {
   "cell_type": "code",
   "execution_count": null,
   "id": "ae5cbb9a",
   "metadata": {},
   "outputs": [],
   "source": [
    "lstintfloat = [10, 0.9,13.3, 8, 4.7]\n",
    "\n",
    "x = lstintfloat.sort()\n",
    "\n",
    "print(lstintfloat)\n",
    "print(x)"
   ]
  },
  {
   "cell_type": "code",
   "execution_count": null,
   "id": "e5e70f0e",
   "metadata": {},
   "outputs": [],
   "source": [
    "lst4x.sort()\n",
    "print(lst4x)\n",
    "\n",
    "#Sort not supported between different datatypes. "
   ]
  },
  {
   "cell_type": "code",
   "execution_count": null,
   "id": "36be53d0",
   "metadata": {},
   "outputs": [],
   "source": [
    "print('python'.upper())"
   ]
  },
  {
   "cell_type": "code",
   "execution_count": null,
   "id": "51bc450a",
   "metadata": {},
   "outputs": [],
   "source": [
    "print(len('python'))"
   ]
  },
  {
   "cell_type": "code",
   "execution_count": null,
   "id": "52819a63",
   "metadata": {},
   "outputs": [],
   "source": [
    "class xyz\n",
    "  ---- \n",
    "    \n",
    "    functions that are written for class xyz\n",
    "       \n",
    "    \n",
    "    \n",
    "    \n",
    "'rikki'.upper()\n",
    "\n",
    "'python'.upper()\n",
    "    \n",
    "    \n",
    "    \n",
    "abc = tabulardata(xyz)\n",
    "\n",
    "abc, tabulardata instance\n",
    "\n",
    "\n",
    "deg = tabdata2(xyz)\n",
    "\n",
    "deg, tabdata2 - all functions will be available of xyz"
   ]
  },
  {
   "cell_type": "code",
   "execution_count": null,
   "id": "1d1b5b13",
   "metadata": {},
   "outputs": [],
   "source": []
  },
  {
   "cell_type": "markdown",
   "id": "d563e760",
   "metadata": {},
   "source": [
    "methods are usually part of a class. upper method is a part of string class. \n"
   ]
  },
  {
   "cell_type": "code",
   "execution_count": null,
   "id": "8b62177e",
   "metadata": {},
   "outputs": [],
   "source": []
  },
  {
   "cell_type": "code",
   "execution_count": null,
   "id": "48d3c8b0",
   "metadata": {},
   "outputs": [],
   "source": [
    "#However, as noticed - the sort method on lists - modifies the original list and does not return anything. \n",
    "#If original list order needs to be maintained and/or new object with items sorted is required, use the Python built-in \n",
    "#method sorted()\n",
    "\n",
    "lst5 = ['a', 'Python', 'xYZ']\n",
    "\n",
    "lst7 = lst5.sort()\n",
    "\n",
    "\n",
    "print(lst5)\n",
    "print(lst7)"
   ]
  },
  {
   "cell_type": "code",
   "execution_count": null,
   "id": "c2129c18",
   "metadata": {},
   "outputs": [],
   "source": [
    "lst6 = sorted(lst5)\n",
    "\n",
    "# lstname.sort(key<optional>, reverse<optional>) - returns no output performs sort operation on original list.\n",
    "\n",
    "#sorted(iterablename <mandatory>, key<optional>, reverse<optional>) - returns an output (a list) so needs to be saved to a\n",
    "# new variable. Does not modify original iterable.\n",
    "\n",
    "\n",
    "print(lst5)\n",
    "print(lst6)"
   ]
  },
  {
   "cell_type": "code",
   "execution_count": null,
   "id": "4eec54dd",
   "metadata": {},
   "outputs": [],
   "source": [
    "list1 = tuple([15,17,20,2, 7, 31,12])"
   ]
  },
  {
   "cell_type": "code",
   "execution_count": null,
   "id": "7d09b0a5",
   "metadata": {},
   "outputs": [],
   "source": [
    "lst1.sort()\n",
    "1. .sort() is a list method\n",
    "2. .sort() can only be performed on a list. \n",
    "3. .sort - modifies the original list(so obviously you can say output is a list - not exactly). But has NO RETURN. \n",
    "\n",
    "sorted(lst1)\n",
    "1. sorted is a built-in python function\n",
    "2. sorted can work on other iterables as well.\n",
    "3. sorted returns a list. It has a RETURN"
   ]
  },
  {
   "cell_type": "code",
   "execution_count": null,
   "id": "0e7a3e74",
   "metadata": {},
   "outputs": [],
   "source": [
    "#Sorted built-in method takes in 3 parameters.\n",
    "\n",
    "#1. Iterable to be sorted - In this case, a list - Mandatory\n",
    "#2. Reverse = Set to False as default and returns the list sorted with the elements in ascending order. If set to True, will\n",
    "# return the elements in descending order. \n",
    "#3. Key = A different function on which to evaluate the elements and sort them accordingly. \n",
    "\n",
    "lst7 = sorted(list1)\n",
    "\n",
    "print(lst7)\n",
    "print(list1)"
   ]
  },
  {
   "cell_type": "code",
   "execution_count": null,
   "id": "6ff83b29",
   "metadata": {},
   "outputs": [],
   "source": [
    "# 1. Sort doesnt returns anything(modifies original list). Sorted returns a sorted list.\n",
    "# 2. Sort works with a list. Sorted works with any datatype.\n",
    "# 3. Syntax for sort is <lstname>.sort().\n",
    "#    Syntax for sorted is sorted<functionname>(iterable)."
   ]
  },
  {
   "cell_type": "code",
   "execution_count": null,
   "id": "57c20208",
   "metadata": {},
   "outputs": [],
   "source": [
    "tup1 = (10,11,8, 7, 3, 14, 12)\n",
    "\n",
    "sort_tup = tuple(sorted(tup1, reverse=True))\n",
    "\n",
    "print(sort_tup)"
   ]
  },
  {
   "cell_type": "code",
   "execution_count": null,
   "id": "7552a09a",
   "metadata": {},
   "outputs": [],
   "source": [
    "def funct_mod(a):\n",
    "    return a%5\n",
    "\n",
    "print(funct_mod(24))\n"
   ]
  },
  {
   "cell_type": "code",
   "execution_count": null,
   "id": "2800c1cc",
   "metadata": {},
   "outputs": [],
   "source": [
    "4,2,1,0,3,2,3\n",
    "\n",
    "\n",
    "0,1,2,2,3,3,4"
   ]
  },
  {
   "cell_type": "code",
   "execution_count": null,
   "id": "acbf7b4f",
   "metadata": {},
   "outputs": [],
   "source": [
    "lst3 = [18,12,16]\n",
    "\n",
    "lst4 = sorted(tup1, key = funct_mod)\n",
    "\n",
    "print(lst4)"
   ]
  },
  {
   "cell_type": "code",
   "execution_count": null,
   "id": "66edce5d",
   "metadata": {},
   "outputs": [],
   "source": [
    "#Reverse method on lists.  \n",
    "\n",
    "lst = list('abcghijxyzdef')\n",
    "\n",
    "print(lst)"
   ]
  },
  {
   "cell_type": "code",
   "execution_count": null,
   "id": "c89fd40b",
   "metadata": {},
   "outputs": [],
   "source": [
    "lst.reverse()\n",
    "print(lst)"
   ]
  },
  {
   "cell_type": "code",
   "execution_count": null,
   "id": "0f275c60",
   "metadata": {},
   "outputs": [],
   "source": [
    "lst2 = lst[::-1]\n",
    "\n",
    "print(lst2)\n",
    "print(lst)"
   ]
  },
  {
   "cell_type": "code",
   "execution_count": null,
   "id": "c12be818",
   "metadata": {},
   "outputs": [],
   "source": [
    "lstx = ['a', 100, 300, 'Neetu', 2+3j]\n",
    "\n",
    "lstx.reverse()\n",
    "\n",
    "print(lstx)"
   ]
  },
  {
   "cell_type": "code",
   "execution_count": null,
   "id": "191bf74b",
   "metadata": {},
   "outputs": [],
   "source": [
    "#It performs the operation on the original list object and returns nothing.\n",
    "\n",
    "lst = list('abcdefghij')\n",
    "print(lst)"
   ]
  },
  {
   "cell_type": "code",
   "execution_count": null,
   "id": "15eab47e",
   "metadata": {},
   "outputs": [],
   "source": [
    "lst1 = lst.reverse()\n",
    "print(lst)\n",
    "print(lst1)"
   ]
  },
  {
   "cell_type": "code",
   "execution_count": null,
   "id": "88e859b9",
   "metadata": {},
   "outputs": [],
   "source": [
    "#Reversed iterator. If however, the original list order has to be maintained and/or a new object with elements reversed is\n",
    "# required - use the reversed built-in function of Python to create a reversed iterator object and using list comprehension\n",
    "# create a new list. \n",
    "\n",
    "lst = list('abxcyjrhij')\n",
    "print(lst)"
   ]
  },
  {
   "cell_type": "code",
   "execution_count": null,
   "id": "919acd7d",
   "metadata": {},
   "outputs": [],
   "source": [
    "lstx = list('axgyaglagj')\n",
    "\n",
    "print(lstx)\n",
    "print(type(lstx))"
   ]
  },
  {
   "cell_type": "code",
   "execution_count": null,
   "id": "76e132e0",
   "metadata": {},
   "outputs": [],
   "source": [
    "#sorted built-in python method that outputs a list. \n",
    "\n",
    "\n",
    "lst = list('abcdefghij')"
   ]
  },
  {
   "cell_type": "code",
   "execution_count": null,
   "id": "c4650f3a",
   "metadata": {},
   "outputs": [],
   "source": [
    "lstrev2 = reversed('abcdefghij')\n",
    "\n",
    "print(lstrev2)\n",
    "print(id(lstrev2))\n",
    "print(type(lstrev2))"
   ]
  },
  {
   "cell_type": "code",
   "execution_count": null,
   "id": "699867a9",
   "metadata": {},
   "outputs": [],
   "source": [
    "for x in lstrev2:\n",
    "    print(x)"
   ]
  },
  {
   "cell_type": "code",
   "execution_count": null,
   "id": "76453ce2",
   "metadata": {},
   "outputs": [],
   "source": [
    "lst2 = list(lstrev2)\n",
    "\n",
    "print(lst2)"
   ]
  },
  {
   "cell_type": "code",
   "execution_count": null,
   "id": "8bcca938",
   "metadata": {},
   "outputs": [],
   "source": [
    "for x in lstrev2:\n",
    "    print(x)"
   ]
  },
  {
   "cell_type": "code",
   "execution_count": null,
   "id": "b087031f",
   "metadata": {},
   "outputs": [],
   "source": [
    "for x in lst2:\n",
    "    print(x)"
   ]
  },
  {
   "cell_type": "code",
   "execution_count": null,
   "id": "6836b035",
   "metadata": {},
   "outputs": [],
   "source": [
    "lst2 = list(reversed(lst))\n",
    "\n",
    "print(lst2)\n",
    "print(id(lst2))\n",
    "print(type(lst2))\n",
    "print(lstx)\n",
    "print(id(lstx))"
   ]
  },
  {
   "cell_type": "code",
   "execution_count": null,
   "id": "4ee871b1",
   "metadata": {},
   "outputs": [],
   "source": [
    "x = reversed('Learnbay batch Sept16')\n",
    "\n",
    "xlst = [i for i in x]\n",
    "\n",
    "print(xlst)"
   ]
  },
  {
   "cell_type": "code",
   "execution_count": null,
   "id": "b8e58d8f",
   "metadata": {},
   "outputs": [],
   "source": [
    "lst3 = [x for x in reversed(lst)]\n",
    "print(lst3)"
   ]
  },
  {
   "cell_type": "code",
   "execution_count": null,
   "id": "5151a955",
   "metadata": {},
   "outputs": [],
   "source": [
    "lst4 = [x for x in lst2]\n",
    "\n",
    "print(lst4)"
   ]
  },
  {
   "cell_type": "code",
   "execution_count": null,
   "id": "b757c0c3",
   "metadata": {},
   "outputs": [],
   "source": [
    "lst5 = list(reversed(lst))\n",
    "\n",
    "print(lst5)"
   ]
  },
  {
   "cell_type": "code",
   "execution_count": null,
   "id": "b9714b92",
   "metadata": {},
   "outputs": [],
   "source": [
    "range1 = range(10)\n",
    "\n",
    "print(range1)\n",
    "print(type(range1))"
   ]
  },
  {
   "cell_type": "code",
   "execution_count": null,
   "id": "b7a75d9f",
   "metadata": {},
   "outputs": [],
   "source": [
    "for x in range1:\n",
    "    print(x)"
   ]
  },
  {
   "cell_type": "code",
   "execution_count": null,
   "id": "70222cea",
   "metadata": {},
   "outputs": [],
   "source": [
    "range2 = list(range(10))\n",
    "\n",
    "print(range2)"
   ]
  },
  {
   "cell_type": "code",
   "execution_count": null,
   "id": "29325620",
   "metadata": {},
   "outputs": [],
   "source": [
    "lst2 = [x for x in reversed(lst)]\n",
    "\n",
    "print(lst)\n",
    "print(lst2)"
   ]
  },
  {
   "cell_type": "code",
   "execution_count": null,
   "id": "b67dcc2b",
   "metadata": {},
   "outputs": [],
   "source": []
  },
  {
   "cell_type": "code",
   "execution_count": null,
   "id": "a0513fdd",
   "metadata": {},
   "outputs": [],
   "source": []
  },
  {
   "cell_type": "code",
   "execution_count": null,
   "id": "3569436a",
   "metadata": {},
   "outputs": [],
   "source": []
  },
  {
   "cell_type": "code",
   "execution_count": null,
   "id": "d8df8395",
   "metadata": {},
   "outputs": [],
   "source": []
  },
  {
   "cell_type": "code",
   "execution_count": null,
   "id": "6b408a0a",
   "metadata": {},
   "outputs": [],
   "source": []
  },
  {
   "cell_type": "code",
   "execution_count": null,
   "id": "781a68f3",
   "metadata": {},
   "outputs": [],
   "source": []
  },
  {
   "cell_type": "code",
   "execution_count": null,
   "id": "e61d1f7e",
   "metadata": {},
   "outputs": [],
   "source": [
    "rev_it = reversed(lst)\n",
    "\n",
    "print(rev_it)\n",
    "print(type(rev_it))"
   ]
  },
  {
   "cell_type": "code",
   "execution_count": null,
   "id": "a5581ca6",
   "metadata": {},
   "outputs": [],
   "source": []
  },
  {
   "cell_type": "code",
   "execution_count": null,
   "id": "bc5a413f",
   "metadata": {},
   "outputs": [],
   "source": [
    "#Aliasing and cloning\n",
    "\n",
    "x = [x * 1000 for x in range(1,10)]\n",
    "print(x)"
   ]
  },
  {
   "cell_type": "code",
   "execution_count": null,
   "id": "1d33217b",
   "metadata": {},
   "outputs": [],
   "source": [
    "#Aliasing on lists - is insitialisng a new variable name to the same list object stored in the memory. \n",
    "\n",
    "y = x\n",
    "\n",
    "print(y)\n",
    "print(x is y)\n",
    "print(id(x), id(y))\n",
    "\n",
    "#When we do y = x, all we are doing is adding a new variable name which is pointing to the same object stored in variable.\n",
    "# This is called aliasing"
   ]
  },
  {
   "cell_type": "code",
   "execution_count": null,
   "id": "7cbc066c",
   "metadata": {},
   "outputs": [],
   "source": [
    "x.append([300,400,500])\n",
    "\n",
    "print(x)\n",
    "print(y)"
   ]
  },
  {
   "cell_type": "code",
   "execution_count": null,
   "id": "ab53194f",
   "metadata": {},
   "outputs": [],
   "source": [
    "y = x\n",
    "\n",
    "print(y)\n",
    "print(x is y)\n",
    "print(id(x), id(y))\n"
   ]
  },
  {
   "cell_type": "code",
   "execution_count": null,
   "id": "188ddee9",
   "metadata": {},
   "outputs": [],
   "source": [
    "x[0] = 10001\n",
    "\n",
    "print(x)\n",
    "print(y)\n",
    "print(x is y)\n",
    "print(id(x), id(y))"
   ]
  },
  {
   "cell_type": "code",
   "execution_count": null,
   "id": "71f76304",
   "metadata": {},
   "outputs": [],
   "source": [
    "x[-1][-1] = 501\n",
    "\n",
    "print(x)\n",
    "print(y)\n",
    "print(x is y)\n",
    "print(id(x), id(y))"
   ]
  },
  {
   "cell_type": "code",
   "execution_count": null,
   "id": "741b9ed0",
   "metadata": {},
   "outputs": [],
   "source": [
    "print(x)"
   ]
  },
  {
   "cell_type": "code",
   "execution_count": null,
   "id": "a35a9bfc",
   "metadata": {},
   "outputs": [],
   "source": [
    "z = x.copy()\n",
    "\n",
    "print(x)\n",
    "print(z)\n",
    "print(x is z)\n",
    "print(id(x), id(z))\n",
    "print(x == z)"
   ]
  },
  {
   "cell_type": "code",
   "execution_count": null,
   "id": "dea82a9e",
   "metadata": {},
   "outputs": [],
   "source": [
    "for i in range(len(x)):\n",
    "    print(x[i], ' : ',  x[i] is z[i])\n",
    "    print(id(x[i]), id(z[i]))"
   ]
  },
  {
   "cell_type": "code",
   "execution_count": null,
   "id": "25bbc422",
   "metadata": {},
   "outputs": [],
   "source": [
    "print(x)\n",
    "print(z)"
   ]
  },
  {
   "cell_type": "code",
   "execution_count": null,
   "id": "87561dc4",
   "metadata": {},
   "outputs": [],
   "source": [
    "x[0] = 20001\n",
    "\n",
    "print(x)\n",
    "print(z)"
   ]
  },
  {
   "cell_type": "code",
   "execution_count": null,
   "id": "21b37ee3",
   "metadata": {},
   "outputs": [],
   "source": [
    "x[-1][-1] = 5001\n",
    "\n",
    "print(x)\n",
    "print(z)"
   ]
  },
  {
   "cell_type": "code",
   "execution_count": null,
   "id": "c9da141f",
   "metadata": {},
   "outputs": [],
   "source": [
    "print(x[0] is z[0])\n",
    "print(id(x[0]))\n",
    "print(id(z[0]))"
   ]
  },
  {
   "cell_type": "code",
   "execution_count": null,
   "id": "52c698a5",
   "metadata": {},
   "outputs": [],
   "source": [
    "x[-1][-1] = 50001\n",
    "\n",
    "print(x)\n",
    "print(z)"
   ]
  },
  {
   "cell_type": "code",
   "execution_count": null,
   "id": "a73099bb",
   "metadata": {},
   "outputs": [],
   "source": [
    "print(x[-1] is z[-1])\n",
    "print(id(x[-1]),id(z[-1]))"
   ]
  },
  {
   "cell_type": "code",
   "execution_count": null,
   "id": "cc8a499d",
   "metadata": {},
   "outputs": [],
   "source": [
    "import copy\n",
    "\n",
    "v = copy.deepcopy(x)\n",
    "\n",
    "print(x is v)\n",
    "print(id(x), id(v))"
   ]
  },
  {
   "cell_type": "code",
   "execution_count": null,
   "id": "9bb349fa",
   "metadata": {},
   "outputs": [],
   "source": [
    "print(x)\n",
    "print(v)"
   ]
  },
  {
   "cell_type": "code",
   "execution_count": null,
   "id": "8af43e9e",
   "metadata": {},
   "outputs": [],
   "source": [
    "x[1] = 22\n",
    "\n",
    "print(x)\n",
    "print(v)"
   ]
  },
  {
   "cell_type": "code",
   "execution_count": null,
   "id": "d5cd069c",
   "metadata": {},
   "outputs": [],
   "source": [
    "x[-1][1] = 401\n",
    "\n",
    "print(x)\n",
    "print(v)"
   ]
  },
  {
   "cell_type": "code",
   "execution_count": null,
   "id": "a87b92fd",
   "metadata": {},
   "outputs": [],
   "source": [
    "#copying - there are 3 ways\n",
    "\n",
    "print(x)"
   ]
  },
  {
   "cell_type": "code",
   "execution_count": null,
   "id": "9b223458",
   "metadata": {},
   "outputs": [],
   "source": [
    "y = x[:]\n",
    "z = x.copy()\n",
    "\n",
    "w = copy.copy(x)"
   ]
  },
  {
   "cell_type": "code",
   "execution_count": null,
   "id": "82551035",
   "metadata": {},
   "outputs": [],
   "source": [
    "print(id(x))\n",
    "print(id(y))\n",
    "print(id(z))\n",
    "print(id(w))"
   ]
  },
  {
   "cell_type": "code",
   "execution_count": null,
   "id": "07b685ab",
   "metadata": {},
   "outputs": [],
   "source": []
  },
  {
   "cell_type": "code",
   "execution_count": null,
   "id": "2463c812",
   "metadata": {},
   "outputs": [],
   "source": []
  },
  {
   "cell_type": "code",
   "execution_count": null,
   "id": "31a26dbe",
   "metadata": {},
   "outputs": [],
   "source": []
  },
  {
   "cell_type": "code",
   "execution_count": null,
   "id": "6a3f31f7",
   "metadata": {},
   "outputs": [],
   "source": [
    "#copying is also called cloning\n",
    "\n",
    "x = [i*10 for i in range(10) ]\n",
    "\n",
    "print(x)"
   ]
  },
  {
   "cell_type": "code",
   "execution_count": null,
   "id": "7e0dd139",
   "metadata": {},
   "outputs": [],
   "source": [
    "y = x[:]\n",
    "\n",
    "print(x is y)\n",
    "print(id(x), id(y))\n",
    "print(x)\n",
    "print(y)"
   ]
  },
  {
   "cell_type": "code",
   "execution_count": null,
   "id": "8722e4fd",
   "metadata": {},
   "outputs": [],
   "source": [
    "z = x.copy()\n",
    "\n",
    "print(x)\n",
    "print(z)\n",
    "print(x is z)\n",
    "print(id(x), id(z))"
   ]
  },
  {
   "cell_type": "code",
   "execution_count": null,
   "id": "62a9c3c0",
   "metadata": {},
   "outputs": [],
   "source": [
    "tup1 = (1,2,3,[4,5,6])"
   ]
  },
  {
   "cell_type": "code",
   "execution_count": null,
   "id": "fe4837a1",
   "metadata": {},
   "outputs": [],
   "source": [
    "print(dir(dict))"
   ]
  },
  {
   "cell_type": "code",
   "execution_count": null,
   "id": "2232ccbb",
   "metadata": {},
   "outputs": [],
   "source": [
    "import copy\n",
    "\n",
    "w = copy.copy(x)\n",
    "\n",
    "print(x)\n",
    "print(w)\n",
    "print(x is w)\n",
    "print(id(x), id(w))"
   ]
  },
  {
   "cell_type": "code",
   "execution_count": null,
   "id": "cb0fd811",
   "metadata": {},
   "outputs": [],
   "source": []
  },
  {
   "cell_type": "code",
   "execution_count": null,
   "id": "120a8f0c",
   "metadata": {},
   "outputs": [],
   "source": [
    "for i in range(len(x))\n",
    "    print(x[i], ' : ',  x[i] is v[i])\n",
    "    print(id(x[i]), id(v[i]))"
   ]
  },
  {
   "cell_type": "code",
   "execution_count": null,
   "id": "b3f41f66",
   "metadata": {},
   "outputs": [],
   "source": []
  },
  {
   "cell_type": "code",
   "execution_count": null,
   "id": "4f8b87ed",
   "metadata": {},
   "outputs": [],
   "source": []
  },
  {
   "cell_type": "code",
   "execution_count": null,
   "id": "abcba1ca",
   "metadata": {},
   "outputs": [],
   "source": []
  },
  {
   "cell_type": "code",
   "execution_count": null,
   "id": "e7d13b30",
   "metadata": {},
   "outputs": [],
   "source": []
  },
  {
   "cell_type": "code",
   "execution_count": null,
   "id": "542ad7ab",
   "metadata": {},
   "outputs": [],
   "source": []
  },
  {
   "cell_type": "code",
   "execution_count": null,
   "id": "49af1117",
   "metadata": {},
   "outputs": [],
   "source": [
    "# y = 100\n",
    "\n",
    "# x = y\n",
    "\n",
    "# print(x)"
   ]
  },
  {
   "cell_type": "code",
   "execution_count": null,
   "id": "c78c8462",
   "metadata": {
    "scrolled": true
   },
   "outputs": [],
   "source": [
    "#Any changes to x will also be reflected on y. \n",
    "\n",
    "x[2] = 35\n",
    "\n",
    "print(x)\n",
    "print(y)"
   ]
  },
  {
   "cell_type": "code",
   "execution_count": null,
   "id": "3a8f512a",
   "metadata": {},
   "outputs": [],
   "source": [
    "print(x is y)\n",
    "print(id(x), id(y))"
   ]
  },
  {
   "cell_type": "code",
   "execution_count": null,
   "id": "88039264",
   "metadata": {},
   "outputs": [],
   "source": [
    "#If a new object with the same elements as x is required, we have two options: \n",
    "\n",
    "#The by now familiar and popular - slicing\n",
    "\n",
    "x = [x * 10 for x in range(1,10)]\n",
    "\n",
    "\n",
    "y = x[:]\n",
    "\n",
    "print(x)\n",
    "print(y)"
   ]
  },
  {
   "cell_type": "code",
   "execution_count": null,
   "id": "6c8f0643",
   "metadata": {},
   "outputs": [],
   "source": [
    "print(x is y)\n",
    "print(id(x), id(y))"
   ]
  },
  {
   "cell_type": "code",
   "execution_count": null,
   "id": "b64c39e1",
   "metadata": {},
   "outputs": [],
   "source": [
    "z = x.copy()\n",
    "\n",
    "print(z)\n",
    "\n",
    "print(x is z)\n",
    "print(id(x), id(z))"
   ]
  },
  {
   "cell_type": "code",
   "execution_count": null,
   "id": "141fccdf",
   "metadata": {},
   "outputs": [],
   "source": [
    "import copy\n",
    "\n",
    "t = copy.copy(x)\n",
    "\n",
    "print(t)\n",
    "print(x is t)\n",
    "print(id(x), id(t))"
   ]
  },
  {
   "cell_type": "code",
   "execution_count": null,
   "id": "d3749667",
   "metadata": {},
   "outputs": [],
   "source": [
    "print(x)\n",
    "print(y)"
   ]
  },
  {
   "cell_type": "code",
   "execution_count": null,
   "id": "0d3e963d",
   "metadata": {},
   "outputs": [],
   "source": [
    "#Changing x (or y) does not affect the other\n",
    "\n",
    "x[2] = 37\n",
    "\n",
    "print(x)\n",
    "print(y)"
   ]
  },
  {
   "cell_type": "code",
   "execution_count": null,
   "id": "80eb4143",
   "metadata": {},
   "outputs": [],
   "source": [
    "y = x[:]\n",
    "\n",
    "print(x)\n",
    "print(y)"
   ]
  },
  {
   "cell_type": "code",
   "execution_count": null,
   "id": "067db293",
   "metadata": {},
   "outputs": [],
   "source": [
    "y[2] = 73\n",
    "\n",
    "print(x)\n",
    "print(y)"
   ]
  },
  {
   "cell_type": "code",
   "execution_count": null,
   "id": "f41d3d1a",
   "metadata": {},
   "outputs": [],
   "source": [
    "x = [1020, 2010, 'Python$']\n",
    "\n",
    "y = x[:2]\n",
    "\n",
    "print(x)\n",
    "print(y)"
   ]
  },
  {
   "cell_type": "code",
   "execution_count": null,
   "id": "34e7b1c3",
   "metadata": {},
   "outputs": [],
   "source": [
    "print(x is y)\n",
    "print(id(x), id(y))"
   ]
  },
  {
   "cell_type": "code",
   "execution_count": null,
   "id": "5cb1f6a8",
   "metadata": {},
   "outputs": [],
   "source": [
    "print(id(x[0]))\n",
    "print(id(y[0]))"
   ]
  },
  {
   "cell_type": "code",
   "execution_count": null,
   "id": "3a4d16bb",
   "metadata": {},
   "outputs": [],
   "source": [
    "#Another way is to use the copy method in List class/datatype.\n",
    "\n",
    "x = [x*10 for x in range(10)]\n",
    "y = x.copy()\n",
    "\n",
    "print(x)\n",
    "print(y)"
   ]
  },
  {
   "cell_type": "code",
   "execution_count": null,
   "id": "ab495c1c",
   "metadata": {},
   "outputs": [],
   "source": [
    "print(x is y)\n",
    "print(id(x), id(y))"
   ]
  },
  {
   "cell_type": "code",
   "execution_count": null,
   "id": "3a9023e9",
   "metadata": {},
   "outputs": [],
   "source": [
    "x[2] = 37\n",
    "\n",
    "print(x)\n",
    "print(y)"
   ]
  },
  {
   "cell_type": "code",
   "execution_count": null,
   "id": "a37b8253",
   "metadata": {},
   "outputs": [],
   "source": [
    "y = x.copy()\n",
    "\n",
    "print(x)\n",
    "print(y)\n",
    "print(x is y)\n",
    "print(id(x), id(y))"
   ]
  },
  {
   "cell_type": "code",
   "execution_count": null,
   "id": "e7c2f135",
   "metadata": {},
   "outputs": [],
   "source": [
    "x[1] = 1000\n",
    "\n",
    "print(x)\n",
    "print(y)"
   ]
  },
  {
   "cell_type": "code",
   "execution_count": null,
   "id": "91cc9076",
   "metadata": {},
   "outputs": [],
   "source": [
    "x = [1000, 10, 20, 30]\n",
    "y = x\n",
    "\n",
    "print(x is y)\n",
    "print(id(x), id(y))\n",
    "print(id(x[0]), id(y[0]))\n",
    "print(x[0] is y[0])"
   ]
  },
  {
   "cell_type": "code",
   "execution_count": null,
   "id": "fd25176c",
   "metadata": {},
   "outputs": [],
   "source": []
  },
  {
   "cell_type": "code",
   "execution_count": null,
   "id": "bba6389d",
   "metadata": {},
   "outputs": [],
   "source": []
  },
  {
   "cell_type": "code",
   "execution_count": null,
   "id": "a3fecb15",
   "metadata": {},
   "outputs": [],
   "source": []
  },
  {
   "cell_type": "code",
   "execution_count": null,
   "id": "d6692562",
   "metadata": {},
   "outputs": [],
   "source": []
  },
  {
   "cell_type": "code",
   "execution_count": null,
   "id": "1744942c",
   "metadata": {},
   "outputs": [],
   "source": []
  },
  {
   "cell_type": "code",
   "execution_count": null,
   "id": "4d495856",
   "metadata": {},
   "outputs": [],
   "source": []
  },
  {
   "cell_type": "code",
   "execution_count": null,
   "id": "11c1f921",
   "metadata": {},
   "outputs": [],
   "source": [
    "x = [1000, '#', ['a',100, 200,2]]\n",
    "y = x\n",
    "\n",
    "print(x)\n",
    "print(y)"
   ]
  },
  {
   "cell_type": "code",
   "execution_count": null,
   "id": "5fa3f7ac",
   "metadata": {},
   "outputs": [],
   "source": [
    "for a in range(len(x)):\n",
    "    print(f'Item at index {a} is {x[a]}.')\n",
    "    print(f'Items in x and y are the same object : {x[a] is y[a]}.')\n"
   ]
  },
  {
   "cell_type": "code",
   "execution_count": null,
   "id": "33993b00",
   "metadata": {},
   "outputs": [],
   "source": [
    "print(x)"
   ]
  },
  {
   "cell_type": "code",
   "execution_count": null,
   "id": "11c99087",
   "metadata": {},
   "outputs": [],
   "source": [
    "x[2][0] ='Python'\n",
    "\n",
    "print(x)\n",
    "print(y)"
   ]
  },
  {
   "cell_type": "code",
   "execution_count": null,
   "id": "b893b75e",
   "metadata": {},
   "outputs": [],
   "source": [
    "x = [1000, '#', ['a',100, 200,2]]\n",
    "y = x[:]\n",
    "\n",
    "print(x)\n",
    "print(y)\n",
    "print(x is y)"
   ]
  },
  {
   "cell_type": "code",
   "execution_count": null,
   "id": "044a96dc",
   "metadata": {},
   "outputs": [],
   "source": [
    "for a in range(len(x)):\n",
    "    print(f'Item at index {a} is {x[a]}.')\n",
    "    print(f'Items in x and y are the same object : {x[a] is y[a]}.')\n"
   ]
  },
  {
   "cell_type": "code",
   "execution_count": null,
   "id": "97546426",
   "metadata": {},
   "outputs": [],
   "source": [
    "y[1] = '$'\n",
    "\n",
    "print(x)\n",
    "print(y)"
   ]
  },
  {
   "cell_type": "code",
   "execution_count": null,
   "id": "682bbe2c",
   "metadata": {},
   "outputs": [],
   "source": [
    "for a in range(len(x)):\n",
    "    print(f'Item at index {a} is {x[a]}.')\n",
    "    print(f'Items in x and y are the same object : {x[a] is y[a]}.')\n"
   ]
  },
  {
   "cell_type": "code",
   "execution_count": null,
   "id": "00901b79",
   "metadata": {},
   "outputs": [],
   "source": [
    "x = [1000, '#', ['a',100, 200,2]]\n",
    "y = x.copy()\n",
    "\n",
    "print(x)\n",
    "print(y)"
   ]
  },
  {
   "cell_type": "code",
   "execution_count": null,
   "id": "29f6288a",
   "metadata": {},
   "outputs": [],
   "source": [
    "print(x)\n",
    "print(y)\n",
    "\n",
    "for a in range(len(x)):\n",
    "    print(f'Item at index {a} is {x[a]}.')\n",
    "    print(f'Items in x and y are the same object : {x[a] is y[a]}.')\n"
   ]
  },
  {
   "cell_type": "code",
   "execution_count": null,
   "id": "32a94efa",
   "metadata": {},
   "outputs": [],
   "source": [
    "y[1] = 200\n",
    "\n",
    "print(x)\n",
    "print(y)"
   ]
  },
  {
   "cell_type": "code",
   "execution_count": null,
   "id": "c8dae9ed",
   "metadata": {},
   "outputs": [],
   "source": [
    "print(x is y)"
   ]
  },
  {
   "cell_type": "code",
   "execution_count": null,
   "id": "d84d7893",
   "metadata": {},
   "outputs": [],
   "source": [
    "\n",
    "for a in range(len(x)):\n",
    "    print(f'Item at index {a} is {x[a]}.')\n",
    "    print(f'Items in x and y are the same object : {x[a] is y[a]}.')\n"
   ]
  },
  {
   "cell_type": "code",
   "execution_count": null,
   "id": "b74b6c8c",
   "metadata": {
    "scrolled": true
   },
   "outputs": [],
   "source": [
    "# The above methods of slicing or using the built in copy function is called copying. \n",
    "\n",
    "# Or more precisely creating a 'Shallow' copy.\n",
    "\n",
    "# Shallow copying does not work on compound objects since for the compound objects(sequential) objects y also stores the\n",
    "# same memory id as the x and changing the object at that memory location in x changes the object at that memory location in y as\n",
    "# well. \n",
    "\n",
    "x = [1000, '#', ['a',100, 200,2]]\n",
    "y = x.copy()\n",
    "print(x)\n",
    "print(y)"
   ]
  },
  {
   "cell_type": "code",
   "execution_count": null,
   "id": "0fdd0cfc",
   "metadata": {},
   "outputs": [],
   "source": []
  },
  {
   "cell_type": "code",
   "execution_count": null,
   "id": "fbdf50b7",
   "metadata": {},
   "outputs": [],
   "source": [
    "x[2][1] = 1001\n",
    "print(x)\n",
    "print(y)"
   ]
  },
  {
   "cell_type": "code",
   "execution_count": null,
   "id": "5f8a3caf",
   "metadata": {},
   "outputs": [],
   "source": []
  },
  {
   "cell_type": "code",
   "execution_count": null,
   "id": "3f71a8ef",
   "metadata": {},
   "outputs": [],
   "source": [
    "y[1] = 100\n",
    "\n",
    "print(y)"
   ]
  },
  {
   "cell_type": "code",
   "execution_count": null,
   "id": "5e08e72c",
   "metadata": {},
   "outputs": [],
   "source": [
    "x[1] = 300\n",
    "\n",
    "print(x)\n",
    "print(y)"
   ]
  },
  {
   "cell_type": "code",
   "execution_count": null,
   "id": "8e4422dc",
   "metadata": {},
   "outputs": [],
   "source": []
  },
  {
   "cell_type": "code",
   "execution_count": null,
   "id": "56c5d3b7",
   "metadata": {},
   "outputs": [],
   "source": []
  },
  {
   "cell_type": "code",
   "execution_count": null,
   "id": "4763307c",
   "metadata": {},
   "outputs": [],
   "source": []
  },
  {
   "cell_type": "code",
   "execution_count": null,
   "id": "c8356184",
   "metadata": {},
   "outputs": [],
   "source": [
    "import copy"
   ]
  },
  {
   "cell_type": "code",
   "execution_count": null,
   "id": "ef3e59ea",
   "metadata": {},
   "outputs": [],
   "source": [
    "x = [1000,'#',['a', 1000, 2000, 2020]]\n",
    "\n",
    "y = copy.deepcopy(x)\n",
    "\n",
    "print(x)\n",
    "print(y)"
   ]
  },
  {
   "cell_type": "code",
   "execution_count": null,
   "id": "30f8fe5a",
   "metadata": {},
   "outputs": [],
   "source": [
    "for i in range(len(x)):\n",
    "    print(x[i] is y[i])"
   ]
  },
  {
   "cell_type": "code",
   "execution_count": null,
   "id": "2c308601",
   "metadata": {},
   "outputs": [],
   "source": [
    "x[2][2] = 2001\n",
    "\n",
    "print(x)\n",
    "\n",
    "\n",
    "print(y)"
   ]
  },
  {
   "cell_type": "code",
   "execution_count": null,
   "id": "618c2cd7",
   "metadata": {},
   "outputs": [],
   "source": [
    "x = [1000,'#', ['a', 100, 200, 2,[200,300,['x','y']]]]\n",
    "\n",
    "y = copy.deepcopy(x)\n",
    "\n",
    "print(x)\n",
    "print(y)"
   ]
  },
  {
   "cell_type": "code",
   "execution_count": null,
   "id": "7beb17ac",
   "metadata": {},
   "outputs": [],
   "source": [
    "y[2][4][2][0] = 'C'\n",
    "print(x)\n",
    "print(y)"
   ]
  },
  {
   "cell_type": "code",
   "execution_count": null,
   "id": "32be46c4",
   "metadata": {},
   "outputs": [],
   "source": []
  },
  {
   "cell_type": "code",
   "execution_count": null,
   "id": "ee4ed9e7",
   "metadata": {},
   "outputs": [],
   "source": []
  },
  {
   "cell_type": "code",
   "execution_count": null,
   "id": "d43fc6b2",
   "metadata": {},
   "outputs": [],
   "source": []
  },
  {
   "cell_type": "code",
   "execution_count": null,
   "id": "4917f72a",
   "metadata": {},
   "outputs": [],
   "source": [
    "x = [1,2,3,4, [5,6,7,8]]\n",
    "\n",
    "y = x.copy()\n",
    "\n",
    "z = copy.deepcopy(x)\n",
    "\n",
    "print(x,y,z, sep ='\\n')\n",
    "\n",
    "print(id(x[-1]) is id(z[-1]))\n",
    "\n"
   ]
  },
  {
   "cell_type": "code",
   "execution_count": null,
   "id": "54c02938",
   "metadata": {},
   "outputs": [],
   "source": [
    "import copy\n",
    "\n",
    "x = [1,2,3,4]\n",
    "y = x.copy()\n",
    "z = copy.copy(x)\n",
    "\n",
    "print(x)\n",
    "print(y)\n",
    "print(z)"
   ]
  },
  {
   "cell_type": "code",
   "execution_count": null,
   "id": "a84969d7",
   "metadata": {},
   "outputs": [],
   "source": []
  },
  {
   "cell_type": "code",
   "execution_count": null,
   "id": "902db218",
   "metadata": {},
   "outputs": [],
   "source": []
  },
  {
   "cell_type": "code",
   "execution_count": null,
   "id": "56f7e9ac",
   "metadata": {},
   "outputs": [],
   "source": []
  },
  {
   "cell_type": "code",
   "execution_count": null,
   "id": "5eecb572",
   "metadata": {},
   "outputs": [],
   "source": [
    "x[1] = 2020\n",
    "\n",
    "print(x)\n",
    "print(y)\n",
    "print(z)"
   ]
  },
  {
   "cell_type": "code",
   "execution_count": null,
   "id": "d78721e4",
   "metadata": {},
   "outputs": [],
   "source": [
    "x[4][1] = 60\n",
    "\n",
    "print(x)\n",
    "print(y)\n",
    "print(z)"
   ]
  },
  {
   "cell_type": "code",
   "execution_count": null,
   "id": "976b053a",
   "metadata": {},
   "outputs": [],
   "source": [
    "x[2][0] = 'Python'\n",
    "\n",
    "print(x)\n",
    "print(y)\n"
   ]
  },
  {
   "cell_type": "code",
   "execution_count": null,
   "id": "327fdb0b",
   "metadata": {},
   "outputs": [],
   "source": []
  },
  {
   "cell_type": "code",
   "execution_count": null,
   "id": "61dbc86a",
   "metadata": {},
   "outputs": [],
   "source": [
    "#Note that copy module also has a copy method but the functioning is exactly as the built-in copy method - and it creates\n",
    "# a shallow copy and is rarely used. It MAY be used to highlight that a shallow copy is being created. But even then it is\n",
    "# easier to use the built-in copy method and just comment a '#Shallow copy'"
   ]
  },
  {
   "cell_type": "code",
   "execution_count": null,
   "id": "4125efa2",
   "metadata": {},
   "outputs": [],
   "source": [
    "#Deepcopy on Dictionaries\n",
    "\n",
    "xd = {'a': 100, 'b':{'p': [300, 700, 900]}, 'c':'Python' }\n",
    "\n",
    "yd = copy.deepcopy(xd)\n",
    "\n",
    "xd['a'] = 1001\n",
    "\n",
    "print(xd)\n",
    "print(yd)"
   ]
  },
  {
   "cell_type": "code",
   "execution_count": null,
   "id": "33981436",
   "metadata": {},
   "outputs": [],
   "source": [
    "xd['b']['p'][1] = 7001\n",
    "\n",
    "print(xd)\n",
    "print(yd)"
   ]
  },
  {
   "cell_type": "code",
   "execution_count": null,
   "id": "4026784a",
   "metadata": {},
   "outputs": [],
   "source": [
    "#Deepcopy on Sets\n",
    "\n",
    "xs = {870, 901, 1012, 'Python'}\n",
    "\n",
    "ys = copy.deepcopy(xs)\n",
    "\n",
    "xs.remove(1012)\n",
    "\n",
    "print(xs)\n",
    "print(ys)"
   ]
  },
  {
   "cell_type": "code",
   "execution_count": null,
   "id": "41ca6550",
   "metadata": {},
   "outputs": [],
   "source": [
    "xs.add(2024)\n",
    "\n",
    "print(xs)\n",
    "print(ys)"
   ]
  },
  {
   "cell_type": "code",
   "execution_count": null,
   "id": "9cf3e7fc",
   "metadata": {},
   "outputs": [],
   "source": [
    "#Deepcopy on Tuples\n",
    "\n",
    "xs = ('a', 'b', [300, 500, 800])\n",
    "\n",
    "ys = copy.deepcopy(xs)\n",
    "\n",
    "xs[2][1] = 501\n",
    "\n",
    "print(xs)\n",
    "print(ys)"
   ]
  },
  {
   "cell_type": "code",
   "execution_count": null,
   "id": "84b9817a",
   "metadata": {},
   "outputs": [],
   "source": [
    "#Functions for use with list datatype\n",
    "\n",
    "#Sum function\n",
    "lst1 = list(range(1,10))\n",
    "print(lst1)"
   ]
  },
  {
   "cell_type": "code",
   "execution_count": null,
   "id": "8ea435af",
   "metadata": {},
   "outputs": [],
   "source": [
    "x = sum(lst1)\n",
    "print(x)"
   ]
  },
  {
   "cell_type": "code",
   "execution_count": null,
   "id": "9d53df53",
   "metadata": {},
   "outputs": [],
   "source": [
    "# Sum function in Python can take in two parameters - \n",
    "\n",
    "# 1. The iterable to be summed (e.g. list, tuple, set)\n",
    "# 2. The start - This number will be added to the sum - basically where to start summing from. \n",
    "\n",
    "# All the elements in the iterable must be numbers. \n",
    "\n",
    "x = sum(lst1, 1000)\n",
    "print(x)"
   ]
  },
  {
   "cell_type": "code",
   "execution_count": null,
   "id": "554f402d",
   "metadata": {},
   "outputs": [],
   "source": [
    "import math\n",
    "\n",
    "\n",
    "print(dir(math))"
   ]
  },
  {
   "cell_type": "code",
   "execution_count": null,
   "id": "0c191100",
   "metadata": {},
   "outputs": [],
   "source": [
    "print(math.pow(5,2))"
   ]
  },
  {
   "cell_type": "code",
   "execution_count": null,
   "id": "258dc73d",
   "metadata": {},
   "outputs": [],
   "source": [
    "print(dir(__builtins__))"
   ]
  },
  {
   "cell_type": "code",
   "execution_count": null,
   "id": "18e486c0",
   "metadata": {},
   "outputs": [],
   "source": [
    "lst1 = list('abcdefghij')\n",
    "\n",
    "print(lst1)\n",
    "print(sum(lst1))"
   ]
  },
  {
   "cell_type": "code",
   "execution_count": null,
   "id": "051be243",
   "metadata": {},
   "outputs": [],
   "source": [
    "y = [101, 201, 'Python', 1001]\n",
    "\n",
    "#print(z)"
   ]
  },
  {
   "cell_type": "code",
   "execution_count": null,
   "id": "3f14e2c3",
   "metadata": {},
   "outputs": [],
   "source": [
    "print(y)"
   ]
  },
  {
   "cell_type": "code",
   "execution_count": null,
   "id": "e23615f2",
   "metadata": {},
   "outputs": [],
   "source": [
    "y.append('Python')\n",
    "\n",
    "print(y)"
   ]
  },
  {
   "cell_type": "code",
   "execution_count": null,
   "id": "f3a97d86",
   "metadata": {},
   "outputs": [],
   "source": [
    "y.insert(3,'Python')\n",
    "\n",
    "print(y)"
   ]
  },
  {
   "cell_type": "code",
   "execution_count": null,
   "id": "cec4a6dc",
   "metadata": {},
   "outputs": [],
   "source": [
    "#Index function. \n",
    "\n",
    "#Returns the first occurrence of the element in the list. Takes 3 parameters\n",
    "\n",
    "#1. The element to be searched.\n",
    "#2. Start - the index number of where to start search from. Optional - defaults to 0 if not provided\n",
    "#3. End - the index number of where to end. Optional - defaults to index number of end of list if not provided.\n",
    "\n",
    "# If the element to be searched is not present - it returns a ValueError\n",
    "\n",
    "print(y.index('python',3,5))"
   ]
  },
  {
   "cell_type": "code",
   "execution_count": null,
   "id": "9c165a9b",
   "metadata": {},
   "outputs": [],
   "source": [
    "x = y.index('Python')\n",
    "\n",
    "print(x)"
   ]
  },
  {
   "cell_type": "code",
   "execution_count": null,
   "id": "adc25ae9",
   "metadata": {},
   "outputs": [],
   "source": [
    "y.append('Python')"
   ]
  },
  {
   "cell_type": "code",
   "execution_count": null,
   "id": "cf8107f2",
   "metadata": {},
   "outputs": [],
   "source": [
    "print(y)"
   ]
  },
  {
   "cell_type": "code",
   "execution_count": null,
   "id": "3802e677",
   "metadata": {},
   "outputs": [],
   "source": [
    "x = y.index('Python',3,6)\n",
    "\n",
    "print(x)"
   ]
  },
  {
   "cell_type": "code",
   "execution_count": null,
   "id": "9bdc855e",
   "metadata": {},
   "outputs": [],
   "source": [
    "print(dir(list))"
   ]
  },
  {
   "cell_type": "code",
   "execution_count": null,
   "id": "384be8c9",
   "metadata": {},
   "outputs": [],
   "source": [
    "y = [100,200,'Python',2+3J, 1001, 'abc','Python']\n",
    "\n",
    "x = y.index('Python', 2, 5)\n",
    "\n",
    "print(x)"
   ]
  },
  {
   "cell_type": "code",
   "execution_count": null,
   "id": "22b20ecf",
   "metadata": {},
   "outputs": [],
   "source": [
    "print(y)"
   ]
  },
  {
   "cell_type": "code",
   "execution_count": null,
   "id": "62c160d8",
   "metadata": {},
   "outputs": [],
   "source": [
    "x = y.index('Python',3)\n",
    "\n",
    "print(x)"
   ]
  },
  {
   "cell_type": "code",
   "execution_count": null,
   "id": "c56122c3",
   "metadata": {},
   "outputs": [],
   "source": [
    "x = y.index('Python',3,len(y))\n",
    "\n",
    "print(x)"
   ]
  },
  {
   "cell_type": "code",
   "execution_count": null,
   "id": "668ca9ca",
   "metadata": {},
   "outputs": [],
   "source": [
    "x = y.index('Python',,len(y))\n",
    "\n",
    "print(x)\n",
    "\n",
    "# As always, without providing the start index, we cannot provide the stop index\n",
    "\n",
    "#Unlike strings - No rindex method."
   ]
  },
  {
   "cell_type": "code",
   "execution_count": 3,
   "id": "9c84cf78",
   "metadata": {},
   "outputs": [
    {
     "name": "stdout",
     "output_type": "stream",
     "text": [
      "1\n"
     ]
    }
   ],
   "source": [
    "#Min and Max functions\n",
    "\n",
    "lst1 = [1,2,7,5,11,4]\n",
    "\n",
    "print(min(lst1))\n",
    "\n"
   ]
  },
  {
   "cell_type": "code",
   "execution_count": 4,
   "id": "0f0f8522",
   "metadata": {},
   "outputs": [
    {
     "name": "stdout",
     "output_type": "stream",
     "text": [
      "11\n"
     ]
    }
   ],
   "source": [
    "print(max(lst1))"
   ]
  },
  {
   "cell_type": "code",
   "execution_count": null,
   "id": "c38f4fba",
   "metadata": {},
   "outputs": [],
   "source": [
    "A - Z = 65 - 91\n",
    "a -z = 97-122"
   ]
  },
  {
   "cell_type": "code",
   "execution_count": null,
   "id": "50779c86",
   "metadata": {},
   "outputs": [],
   "source": [
    "print(ord('A'), ord('a'))"
   ]
  },
  {
   "cell_type": "code",
   "execution_count": null,
   "id": "dbcf7151",
   "metadata": {},
   "outputs": [],
   "source": [
    "print(chr(96))"
   ]
  },
  {
   "cell_type": "code",
   "execution_count": 1,
   "id": "576c5823",
   "metadata": {},
   "outputs": [
    {
     "name": "stdout",
     "output_type": "stream",
     "text": [
      "A\n"
     ]
    }
   ],
   "source": [
    "lstalpha = list('jakAgakjgjx')\n",
    "\n",
    "print(min(lstalpha))"
   ]
  },
  {
   "cell_type": "code",
   "execution_count": 5,
   "id": "c43ed7ef",
   "metadata": {},
   "outputs": [
    {
     "name": "stdout",
     "output_type": "stream",
     "text": [
      "1\n"
     ]
    }
   ],
   "source": [
    "a = min(lst1)\n",
    "print(a)"
   ]
  },
  {
   "cell_type": "code",
   "execution_count": 6,
   "id": "cd4f6a99",
   "metadata": {},
   "outputs": [
    {
     "name": "stdout",
     "output_type": "stream",
     "text": [
      "x\n"
     ]
    }
   ],
   "source": [
    "b = max(lstalpha)\n",
    "print(b)"
   ]
  },
  {
   "cell_type": "code",
   "execution_count": null,
   "id": "e2168aa8",
   "metadata": {},
   "outputs": [],
   "source": [
    "print(dir(list))"
   ]
  },
  {
   "cell_type": "code",
   "execution_count": 7,
   "id": "a7fe7559",
   "metadata": {},
   "outputs": [
    {
     "name": "stdout",
     "output_type": "stream",
     "text": [
      "Python\n"
     ]
    }
   ],
   "source": [
    "lst_alpha = ['Python', 'a', 'Seventy-Two']\n",
    "\n",
    "print(min(lst_alpha))"
   ]
  },
  {
   "cell_type": "code",
   "execution_count": 8,
   "id": "b0685618",
   "metadata": {},
   "outputs": [
    {
     "name": "stdout",
     "output_type": "stream",
     "text": [
      "a\n"
     ]
    }
   ],
   "source": [
    "print(max(lst_alpha))"
   ]
  },
  {
   "cell_type": "code",
   "execution_count": 9,
   "id": "521954e5",
   "metadata": {},
   "outputs": [
    {
     "name": "stdout",
     "output_type": "stream",
     "text": [
      "80 97 115\n"
     ]
    }
   ],
   "source": [
    "print(ord('P'), ord('a'), ord('s'))"
   ]
  },
  {
   "cell_type": "code",
   "execution_count": null,
   "id": "b47eccd3",
   "metadata": {},
   "outputs": [],
   "source": [
    "#Note while working with strings - that the min/max method calculates the ORDER in which the characters are stored in\n",
    "# ordinal values and checks for the first character (and each subsequent character if tied). Therefore - Capital A is the \n",
    "# lowest and small z is the highest. \n",
    "\n",
    "lst_alpha2 = [\"Python\", 'a', 'seventy-two']\n",
    "\n",
    "print(max(lst_alpha2))"
   ]
  },
  {
   "cell_type": "code",
   "execution_count": null,
   "id": "cf132aae",
   "metadata": {},
   "outputs": [],
   "source": [
    "lst_alpha3 = ['Python', 'Pithon']\n",
    "\n",
    "print(max(lst_alpha3))"
   ]
  },
  {
   "cell_type": "code",
   "execution_count": null,
   "id": "d0ac5d5b",
   "metadata": {},
   "outputs": [],
   "source": [
    "lst_alpha4 = [\"Python\", \"Qython\"]\n",
    "\n",
    "print(max(lst_alpha4))"
   ]
  },
  {
   "cell_type": "code",
   "execution_count": 10,
   "id": "ec21f022",
   "metadata": {},
   "outputs": [
    {
     "ename": "TypeError",
     "evalue": "'<' not supported between instances of 'int' and 'str'",
     "output_type": "error",
     "traceback": [
      "\u001b[1;31m---------------------------------------------------------------------------\u001b[0m",
      "\u001b[1;31mTypeError\u001b[0m                                 Traceback (most recent call last)",
      "\u001b[1;32m~\\AppData\\Local\\Temp\\ipykernel_14964\\4145602062.py\u001b[0m in \u001b[0;36m<module>\u001b[1;34m\u001b[0m\n\u001b[0;32m      1\u001b[0m \u001b[0mlst5\u001b[0m \u001b[1;33m=\u001b[0m \u001b[1;33m[\u001b[0m\u001b[1;34m'P'\u001b[0m\u001b[1;33m,\u001b[0m \u001b[1;36m200\u001b[0m\u001b[1;33m,\u001b[0m \u001b[1;36m50\u001b[0m\u001b[1;33m,\u001b[0m \u001b[1;36m75\u001b[0m\u001b[1;33m]\u001b[0m\u001b[1;33m\u001b[0m\u001b[1;33m\u001b[0m\u001b[0m\n\u001b[0;32m      2\u001b[0m \u001b[1;33m\u001b[0m\u001b[0m\n\u001b[1;32m----> 3\u001b[1;33m \u001b[0mprint\u001b[0m\u001b[1;33m(\u001b[0m\u001b[0mmin\u001b[0m\u001b[1;33m(\u001b[0m\u001b[0mlst5\u001b[0m\u001b[1;33m)\u001b[0m\u001b[1;33m)\u001b[0m\u001b[1;33m\u001b[0m\u001b[1;33m\u001b[0m\u001b[0m\n\u001b[0m\u001b[0;32m      4\u001b[0m \u001b[1;33m\u001b[0m\u001b[0m\n\u001b[0;32m      5\u001b[0m \u001b[1;31m#With mixed datatypes the comparison of min and max cannot be performed.\u001b[0m\u001b[1;33m\u001b[0m\u001b[1;33m\u001b[0m\u001b[0m\n",
      "\u001b[1;31mTypeError\u001b[0m: '<' not supported between instances of 'int' and 'str'"
     ]
    }
   ],
   "source": [
    "lst5 = ['P', 200, 50, 75]\n",
    "\n",
    "print(min(lst5))\n",
    "\n",
    "#With mixed datatypes the comparison of min and max cannot be performed.\n"
   ]
  },
  {
   "cell_type": "code",
   "execution_count": 16,
   "id": "a7f949bb",
   "metadata": {},
   "outputs": [
    {
     "name": "stdout",
     "output_type": "stream",
     "text": [
      "2\n"
     ]
    }
   ],
   "source": [
    "#Count method in Lists. Counts the number of times an element occurs in a list. \n",
    "\n",
    "lst= ['P', 200, 50, 75, 200, 'P', 50, 'P', 20]\n",
    "\n",
    "print(lst.count(200))"
   ]
  },
  {
   "cell_type": "code",
   "execution_count": null,
   "id": "29ac9e27",
   "metadata": {},
   "outputs": [],
   "source": []
  },
  {
   "cell_type": "code",
   "execution_count": 14,
   "id": "764e21bb",
   "metadata": {},
   "outputs": [
    {
     "name": "stdout",
     "output_type": "stream",
     "text": [
      "3\n"
     ]
    }
   ],
   "source": [
    "y = lst.count('P')\n",
    "print(y)"
   ]
  },
  {
   "cell_type": "code",
   "execution_count": null,
   "id": "08f47b02",
   "metadata": {},
   "outputs": [],
   "source": [
    "#Returns the count as a value so the value can be stored in a variable.\n",
    "\n",
    "#Takes only one parameter - the item to be counted\n",
    "\n",
    "# Returns TypeError if more than one element to count passed into the arguments. \n",
    "\n",
    "y = lst.count(200)\n",
    "print(y)"
   ]
  },
  {
   "cell_type": "code",
   "execution_count": 17,
   "id": "ea29baf6",
   "metadata": {},
   "outputs": [
    {
     "name": "stdout",
     "output_type": "stream",
     "text": [
      "[100, 200, 'Python', (2+3j), 1001, 'abc', 'Python']\n"
     ]
    }
   ],
   "source": [
    "#Insert Method on Lists. Inserts item at specified index position in a list. Performs operation on original list and has\n",
    "# no return. \n",
    "\n",
    "#Takes 2 arguments - Both mandatory:\n",
    "#1. Index position to be inserted at. \n",
    "#2. Item to be inserted\n",
    "\n",
    "lst = [100,200,'Python',2+3J, 1001, 'abc','Python']\n",
    "\n",
    "print(lst)"
   ]
  },
  {
   "cell_type": "code",
   "execution_count": 18,
   "id": "030d4da0",
   "metadata": {},
   "outputs": [
    {
     "name": "stdout",
     "output_type": "stream",
     "text": [
      "[100, 200, 'Python', 'XYZ', (2+3j), 1001, 'abc', 'Python']\n"
     ]
    }
   ],
   "source": [
    "lst.insert(3, 'XYZ')\n",
    "\n",
    "print(lst)"
   ]
  },
  {
   "cell_type": "code",
   "execution_count": 19,
   "id": "f977d588",
   "metadata": {},
   "outputs": [
    {
     "name": "stdout",
     "output_type": "stream",
     "text": [
      "['ABC', 100, 200, 'Python', 'XYZ', (2+3j), 1001, 'abc', 'Python']\n",
      "None\n"
     ]
    }
   ],
   "source": [
    "lst1 = lst.insert(0,'ABC')\n",
    "\n",
    "print(lst)\n",
    "print(lst1)"
   ]
  },
  {
   "cell_type": "code",
   "execution_count": 22,
   "id": "962d1d58",
   "metadata": {},
   "outputs": [
    {
     "name": "stdout",
     "output_type": "stream",
     "text": [
      "['ABC', 100, 200, 'Python', 'XYZ', (2+3j), 1001, 'abc', 'Hi there', 'Hi there', 'Python']\n"
     ]
    }
   ],
   "source": [
    "lst.insert(9,'Hi there')\n",
    "\n",
    "print(lst)"
   ]
  },
  {
   "cell_type": "code",
   "execution_count": null,
   "id": "b440517e",
   "metadata": {},
   "outputs": [],
   "source": [
    "#Cannot specify more than one index position or item to be inserted at one time. \n",
    "\n",
    "lst.insert(12,'Python')"
   ]
  },
  {
   "cell_type": "code",
   "execution_count": null,
   "id": "47c5adf3",
   "metadata": {},
   "outputs": [],
   "source": [
    "print(lst)"
   ]
  },
  {
   "cell_type": "code",
   "execution_count": null,
   "id": "0f782e20",
   "metadata": {},
   "outputs": [],
   "source": [
    "print(len(lst))"
   ]
  },
  {
   "cell_type": "code",
   "execution_count": 21,
   "id": "a3cc6009",
   "metadata": {},
   "outputs": [
    {
     "ename": "TypeError",
     "evalue": "insert expected 2 arguments, got 1",
     "output_type": "error",
     "traceback": [
      "\u001b[1;31m---------------------------------------------------------------------------\u001b[0m",
      "\u001b[1;31mTypeError\u001b[0m                                 Traceback (most recent call last)",
      "\u001b[1;32m~\\AppData\\Local\\Temp\\ipykernel_14964\\1860023590.py\u001b[0m in \u001b[0;36m<module>\u001b[1;34m\u001b[0m\n\u001b[0;32m      1\u001b[0m \u001b[1;31m#Also throws a TypeError if only one parameter specified i.e. there is no default index number.\u001b[0m\u001b[1;33m\u001b[0m\u001b[1;33m\u001b[0m\u001b[0m\n\u001b[1;32m----> 2\u001b[1;33m \u001b[0mlst\u001b[0m\u001b[1;33m.\u001b[0m\u001b[0minsert\u001b[0m\u001b[1;33m(\u001b[0m\u001b[1;34m'ABCD'\u001b[0m\u001b[1;33m)\u001b[0m\u001b[1;33m\u001b[0m\u001b[1;33m\u001b[0m\u001b[0m\n\u001b[0m\u001b[0;32m      3\u001b[0m \u001b[0mprint\u001b[0m\u001b[1;33m(\u001b[0m\u001b[0mlst\u001b[0m\u001b[1;33m)\u001b[0m\u001b[1;33m\u001b[0m\u001b[1;33m\u001b[0m\u001b[0m\n",
      "\u001b[1;31mTypeError\u001b[0m: insert expected 2 arguments, got 1"
     ]
    }
   ],
   "source": [
    "#Also throws a TypeError if only one parameter specified i.e. there is no default index number. \n",
    "lst.insert('ABCD')\n",
    "print(lst)"
   ]
  },
  {
   "cell_type": "code",
   "execution_count": 23,
   "id": "30482e56",
   "metadata": {},
   "outputs": [
    {
     "name": "stdout",
     "output_type": "stream",
     "text": [
      "['a', 100, 2001, 10.2, 'XYZ']\n",
      "['b', 'C for Chair', 1132]\n"
     ]
    }
   ],
   "source": [
    "#Extend method on Lists. Extends the list by the elements specified in the parameter. \n",
    "\n",
    "lst1 = ['a', 100, 2001, 10.2, 'XYZ']\n",
    "lst2 = ['b', 'C for Chair', 1132]\n",
    "\n",
    "print(lst1)\n",
    "print(lst2)"
   ]
  },
  {
   "cell_type": "code",
   "execution_count": 24,
   "id": "0940af93",
   "metadata": {},
   "outputs": [
    {
     "name": "stdout",
     "output_type": "stream",
     "text": [
      "['a', 100, 2001, 10.2, 'XYZ', 'b', 'C for Chair', 1132]\n",
      "['b', 'C for Chair', 1132]\n",
      "None\n"
     ]
    }
   ],
   "source": [
    "lst1x = lst1.extend(lst2)\n",
    "\n",
    "print(lst1)\n",
    "print(lst2)\n",
    "print(lst1x)"
   ]
  },
  {
   "cell_type": "code",
   "execution_count": null,
   "id": "a1e74d6c",
   "metadata": {},
   "outputs": [],
   "source": [
    "Extend modifies the original list and gives no return. \n",
    "\n",
    "Concatenate - creates a new list object and the original list remains unchanged. "
   ]
  },
  {
   "cell_type": "code",
   "execution_count": null,
   "id": "32417e12",
   "metadata": {},
   "outputs": [],
   "source": [
    "print(lst1x)"
   ]
  },
  {
   "cell_type": "code",
   "execution_count": 34,
   "id": "1a8145a0",
   "metadata": {},
   "outputs": [
    {
     "name": "stdout",
     "output_type": "stream",
     "text": [
      "['a', 100, 2001, 10.2, 'XYZ'] <class 'list'>\n",
      "1271865169664\n",
      "['b', 'C for Chair', 1132] <class 'list'>\n",
      "1271865168000\n"
     ]
    }
   ],
   "source": [
    "lst1 = ['a', 100, 2001, 10.2, 'XYZ']\n",
    "lst2 = ['b', 'C for Chair', 1132]\n",
    "\n",
    "print(lst1, type(lst1))\n",
    "print(id(lst1))\n",
    "print(lst2, type(lst2))\n",
    "print(id(lst2))"
   ]
  },
  {
   "cell_type": "code",
   "execution_count": null,
   "id": "d107498e",
   "metadata": {},
   "outputs": [],
   "source": []
  },
  {
   "cell_type": "code",
   "execution_count": 35,
   "id": "efbe7ed7",
   "metadata": {},
   "outputs": [
    {
     "name": "stdout",
     "output_type": "stream",
     "text": [
      "['a', 100, 2001, 10.2, 'XYZ', 'b', 'C for Chair', 1132]\n",
      "<class 'list'>\n",
      "1271865170176\n"
     ]
    }
   ],
   "source": [
    "lst3 = lst1 + lst2\n",
    "\n",
    "print(lst3)\n",
    "print(type(lst3))\n",
    "print(id(lst3))"
   ]
  },
  {
   "cell_type": "code",
   "execution_count": null,
   "id": "79660313",
   "metadata": {},
   "outputs": [],
   "source": [
    "'abcde'"
   ]
  },
  {
   "cell_type": "code",
   "execution_count": 36,
   "id": "55b3f4f3",
   "metadata": {},
   "outputs": [
    {
     "name": "stdout",
     "output_type": "stream",
     "text": [
      "['a', 100, 2001, 10.2, 'XYZ', 'b', 'C for Chair', 1132]\n",
      "1271865169664\n"
     ]
    }
   ],
   "source": [
    "lst1.extend(lst2)\n",
    "\n",
    "print(lst1)\n",
    "print(id(lst1))"
   ]
  },
  {
   "cell_type": "code",
   "execution_count": null,
   "id": "3b81a53c",
   "metadata": {},
   "outputs": [],
   "source": [
    "print(lst1)\n",
    "print(lst2)"
   ]
  },
  {
   "cell_type": "code",
   "execution_count": 37,
   "id": "94acdd24",
   "metadata": {},
   "outputs": [
    {
     "name": "stdout",
     "output_type": "stream",
     "text": [
      "['a', 100, 2001, 10.2, 'XYZ']\n",
      "('b', 'C for Chair', 1132)\n"
     ]
    }
   ],
   "source": [
    "lst1 = ['a', 100, 2001, 10.2, 'XYZ']\n",
    "lst2 = ('b', 'C for Chair', 1132)\n",
    "\n",
    "print(lst1)\n",
    "print(lst2)"
   ]
  },
  {
   "cell_type": "code",
   "execution_count": 38,
   "id": "1f70d23f",
   "metadata": {},
   "outputs": [
    {
     "ename": "TypeError",
     "evalue": "can only concatenate list (not \"tuple\") to list",
     "output_type": "error",
     "traceback": [
      "\u001b[1;31m---------------------------------------------------------------------------\u001b[0m",
      "\u001b[1;31mTypeError\u001b[0m                                 Traceback (most recent call last)",
      "\u001b[1;32m~\\AppData\\Local\\Temp\\ipykernel_14964\\3003673795.py\u001b[0m in \u001b[0;36m<module>\u001b[1;34m\u001b[0m\n\u001b[1;32m----> 1\u001b[1;33m \u001b[0mlst3\u001b[0m \u001b[1;33m=\u001b[0m \u001b[0mlst1\u001b[0m \u001b[1;33m+\u001b[0m \u001b[0mlst2\u001b[0m\u001b[1;33m\u001b[0m\u001b[1;33m\u001b[0m\u001b[0m\n\u001b[0m",
      "\u001b[1;31mTypeError\u001b[0m: can only concatenate list (not \"tuple\") to list"
     ]
    }
   ],
   "source": [
    "lst3 = lst1 + lst2"
   ]
  },
  {
   "cell_type": "code",
   "execution_count": 40,
   "id": "06d892c9",
   "metadata": {},
   "outputs": [
    {
     "name": "stdout",
     "output_type": "stream",
     "text": [
      "['a', 100, 2001, 10.2, 'XYZ', 'b', 'C for Chair', 1132, 'a', 'b', 'c']\n",
      "1271864331520\n"
     ]
    }
   ],
   "source": [
    "lst1.extend('abc')\n",
    "\n",
    "print(lst1)\n",
    "print(id(lst1))"
   ]
  },
  {
   "cell_type": "code",
   "execution_count": null,
   "id": "4a3a534f",
   "metadata": {},
   "outputs": [],
   "source": [
    "print(id(lst1))"
   ]
  },
  {
   "cell_type": "code",
   "execution_count": 41,
   "id": "0d2be64a",
   "metadata": {},
   "outputs": [
    {
     "name": "stdout",
     "output_type": "stream",
     "text": [
      "['a', 100, 2001, 10.2, 'XYZ']\n",
      "['b', 'C for Chair', 1132]\n",
      "['a', 'b', 'c', 'd', 'e']\n"
     ]
    }
   ],
   "source": [
    "lst1 = ['a', 100, 2001, 10.2, 'XYZ']\n",
    "lst2 = ['b', 'C for Chair', 1132]\n",
    "lst3 = list('abcde')\n",
    "\n",
    "\n",
    "print(lst1)\n",
    "print(lst2)\n",
    "print(lst3)"
   ]
  },
  {
   "cell_type": "code",
   "execution_count": 42,
   "id": "a5c19a67",
   "metadata": {},
   "outputs": [
    {
     "name": "stdout",
     "output_type": "stream",
     "text": [
      "['a', 100, 2001, 10.2, 'XYZ', 'b', 'C for Chair', 1132, 'a', 'b', 'c', 'd', 'e']\n",
      "1271864289280\n"
     ]
    }
   ],
   "source": [
    "lstx = lst1 + lst2+lst3\n",
    "\n",
    "print(lstx)\n",
    "print(id(lstx))"
   ]
  },
  {
   "cell_type": "code",
   "execution_count": null,
   "id": "3659eb86",
   "metadata": {},
   "outputs": [],
   "source": [
    "lst1.extend('abcde')\n",
    "\n",
    "print(lst1)"
   ]
  },
  {
   "cell_type": "code",
   "execution_count": null,
   "id": "0907781d",
   "metadata": {},
   "outputs": [],
   "source": [
    "lst1.extend(['abcde'])\n",
    "\n",
    "print(lst1)"
   ]
  },
  {
   "cell_type": "code",
   "execution_count": null,
   "id": "e9761e4f",
   "metadata": {},
   "outputs": [],
   "source": []
  },
  {
   "cell_type": "code",
   "execution_count": null,
   "id": "b84e8453",
   "metadata": {},
   "outputs": [],
   "source": [
    "#Difference between Concatenation and Extend method. \n",
    "\n",
    "#1. Extend method modifies the original list while concatenation creates a new list object. \n",
    "#2. Extend method can be used between datatypes(iterables). Concatenation can only be performed between two lists (same datatypes). \n",
    "\n",
    "lst_x = lst1.extend(lst2)\n",
    "print(lst1)\n",
    "print(lst_x)"
   ]
  },
  {
   "cell_type": "code",
   "execution_count": null,
   "id": "650b2c5d",
   "metadata": {},
   "outputs": [],
   "source": [
    "xy = lst1 + 'abc'\n",
    "\n",
    "print(xy)"
   ]
  },
  {
   "cell_type": "code",
   "execution_count": null,
   "id": "da31bed5",
   "metadata": {},
   "outputs": [],
   "source": [
    "lst1.extend('pqrs')\n",
    "\n",
    "print(lst1)\n",
    "\n"
   ]
  },
  {
   "cell_type": "code",
   "execution_count": null,
   "id": "3b716a7d",
   "metadata": {},
   "outputs": [],
   "source": [
    "lst3 = ['pqrs', 'xyz']\n",
    "\n",
    "lst1.extend(lst3)\n",
    "\n",
    "print(lst1)"
   ]
  },
  {
   "cell_type": "code",
   "execution_count": null,
   "id": "a0761fe0",
   "metadata": {},
   "outputs": [],
   "source": [
    "#Note how extend treats each of the element in the iterable 'pqrs' as a separate element and adds each of them to the\n",
    "# original list. \n",
    "\n",
    "tup_y = (17, 'Airplane', 'Train')\n",
    "\n",
    "lst1.extend(tup_y)\n",
    "\n",
    "print(lst1)"
   ]
  },
  {
   "cell_type": "code",
   "execution_count": null,
   "id": "ad319a07",
   "metadata": {},
   "outputs": [],
   "source": [
    "lst3 = lst1 + tup_y\n",
    "\n",
    "print(lst3)"
   ]
  },
  {
   "cell_type": "code",
   "execution_count": null,
   "id": "4c838cad",
   "metadata": {},
   "outputs": [],
   "source": [
    "#If we need to treat the iterable as a single element - we need to put it in another iterable as one object and then extend\n",
    "# list\n",
    "\n",
    "tup_z = ('pqrs',)\n",
    "\n",
    "print(tup_z)\n",
    "print(type(tup_z))"
   ]
  },
  {
   "cell_type": "code",
   "execution_count": null,
   "id": "17998b9b",
   "metadata": {},
   "outputs": [],
   "source": [
    "lst1.extend(tup_z)\n",
    "\n",
    "print(lst1)"
   ]
  },
  {
   "cell_type": "code",
   "execution_count": null,
   "id": "ce288e56",
   "metadata": {},
   "outputs": [],
   "source": [
    "#Clear method on Lists - clears the original list of all elements. \n",
    "\n",
    "lst2 = lst1.clear()\n",
    "\n",
    "print(lst1)\n",
    "print(id(lst1))\n",
    "print(lst2)\n"
   ]
  },
  {
   "cell_type": "code",
   "execution_count": null,
   "id": "8aa96d93",
   "metadata": {},
   "outputs": [],
   "source": [
    "del(lst1)\n",
    "\n",
    "print(lst1)"
   ]
  },
  {
   "cell_type": "code",
   "execution_count": null,
   "id": "d20fa682",
   "metadata": {},
   "outputs": [],
   "source": [
    "#Modifies original list and returns none. \n",
    "\n",
    "lst1 = list('abcde')\n",
    "\n",
    "print(lst1)"
   ]
  },
  {
   "cell_type": "code",
   "execution_count": null,
   "id": "db1f4ae4",
   "metadata": {},
   "outputs": [],
   "source": [
    "lst2 = lst1.clear()\n",
    "\n",
    "print(lst1)\n",
    "print(lst2)"
   ]
  },
  {
   "cell_type": "code",
   "execution_count": null,
   "id": "f272d85f",
   "metadata": {},
   "outputs": [],
   "source": [
    "#Packing and unpacking list. Packing is nothing but assigning elements / objects to a list which we have seen previously. \n",
    "\n",
    "lst1 = [1,2,3,4,5,6]\n",
    "lst2 = [10,20,30,40,50,60]\n",
    "lst3 = list('abcdef')\n",
    "\n",
    "print(lst1, type(lst1))\n",
    "print(lst2, type(lst2))\n",
    "print(lst3, type(lst3))"
   ]
  },
  {
   "cell_type": "code",
   "execution_count": null,
   "id": "910b4fba",
   "metadata": {},
   "outputs": [],
   "source": [
    "a = lst1[0]\n",
    "b = lst1[1]\n",
    "c = lst1[2]\n",
    "\n",
    "\n",
    "f = lst1[5]\n",
    "print(a, b,c,f)"
   ]
  },
  {
   "cell_type": "code",
   "execution_count": null,
   "id": "1f8bd373",
   "metadata": {},
   "outputs": [],
   "source": []
  },
  {
   "cell_type": "code",
   "execution_count": null,
   "id": "a0c846a9",
   "metadata": {},
   "outputs": [],
   "source": []
  },
  {
   "cell_type": "code",
   "execution_count": null,
   "id": "1e458710",
   "metadata": {},
   "outputs": [],
   "source": []
  },
  {
   "cell_type": "code",
   "execution_count": 49,
   "id": "bb51b709",
   "metadata": {},
   "outputs": [
    {
     "name": "stdout",
     "output_type": "stream",
     "text": [
      "[1, 11, 21, 31, 41]\n"
     ]
    }
   ],
   "source": [
    "lst1 = list(range(1,50,10))\n",
    "print(lst1)"
   ]
  },
  {
   "cell_type": "code",
   "execution_count": null,
   "id": "19f4e63f",
   "metadata": {},
   "outputs": [],
   "source": [
    "a = lst1[0]\n",
    "b = lst1[1]...\n",
    "\n",
    "\n",
    "e = lst1[5]"
   ]
  },
  {
   "cell_type": "code",
   "execution_count": 54,
   "id": "976d81ed",
   "metadata": {},
   "outputs": [
    {
     "name": "stdout",
     "output_type": "stream",
     "text": [
      "1\n",
      "11\n",
      "21\n",
      "31\n",
      "41\n"
     ]
    }
   ],
   "source": [
    "#Unpacking however, is assigning the values inside a list(or a tuple) to variables. The variables are on the left and \n",
    "# the list is on the right of the expression. \n",
    "\n",
    "a,b,c,d,e = lst1\n",
    "\n",
    "print(a,b,c,d,e, sep = '\\n')"
   ]
  },
  {
   "cell_type": "code",
   "execution_count": 55,
   "id": "c89383d6",
   "metadata": {},
   "outputs": [
    {
     "name": "stdout",
     "output_type": "stream",
     "text": [
      "[1, 11, 21, 31, 41]\n"
     ]
    }
   ],
   "source": [
    "print(lst1)"
   ]
  },
  {
   "cell_type": "code",
   "execution_count": 60,
   "id": "662c3b4b",
   "metadata": {},
   "outputs": [
    {
     "name": "stdout",
     "output_type": "stream",
     "text": [
      "(1, 11, 21, 31, 41)\n"
     ]
    }
   ],
   "source": [
    "tup1 = tuple(lst1)\n",
    "\n",
    "print(tup1)"
   ]
  },
  {
   "cell_type": "code",
   "execution_count": 88,
   "id": "c3a198c3",
   "metadata": {},
   "outputs": [
    {
     "name": "stdout",
     "output_type": "stream",
     "text": [
      "[1, 2, 3, 4]\n",
      "[3, 4, 5, 6]\n",
      "[2, 3, 4, 5]\n"
     ]
    }
   ],
   "source": [
    "lst1 = list(range(1,5))\n",
    "lst2 = list(range(3,7))\n",
    "lst3 = list(range(2,6))\n",
    "\n",
    "print(lst1)\n",
    "print(lst2)\n",
    "print(lst3)"
   ]
  },
  {
   "cell_type": "code",
   "execution_count": 89,
   "id": "67c0f291",
   "metadata": {},
   "outputs": [
    {
     "ename": "TypeError",
     "evalue": "unsupported operand type(s) for -: 'list' and 'list'",
     "output_type": "error",
     "traceback": [
      "\u001b[1;31m---------------------------------------------------------------------------\u001b[0m",
      "\u001b[1;31mTypeError\u001b[0m                                 Traceback (most recent call last)",
      "\u001b[1;32m~\\AppData\\Local\\Temp\\ipykernel_14964\\1508768556.py\u001b[0m in \u001b[0;36m<module>\u001b[1;34m\u001b[0m\n\u001b[1;32m----> 1\u001b[1;33m \u001b[0mlstx\u001b[0m \u001b[1;33m=\u001b[0m \u001b[0mlst1\u001b[0m \u001b[1;33m-\u001b[0m \u001b[0mlst2\u001b[0m\u001b[1;33m\u001b[0m\u001b[1;33m\u001b[0m\u001b[0m\n\u001b[0m\u001b[0;32m      2\u001b[0m \u001b[1;33m\u001b[0m\u001b[0m\n\u001b[0;32m      3\u001b[0m \u001b[0mprint\u001b[0m\u001b[1;33m(\u001b[0m\u001b[0mlstx\u001b[0m\u001b[1;33m)\u001b[0m\u001b[1;33m\u001b[0m\u001b[1;33m\u001b[0m\u001b[0m\n",
      "\u001b[1;31mTypeError\u001b[0m: unsupported operand type(s) for -: 'list' and 'list'"
     ]
    }
   ],
   "source": [
    "lstx = lst1 - lst2\n",
    "\n",
    "print(lstx)"
   ]
  },
  {
   "cell_type": "code",
   "execution_count": 65,
   "id": "71120553",
   "metadata": {},
   "outputs": [
    {
     "name": "stdout",
     "output_type": "stream",
     "text": [
      "(1, 2)\n",
      "<class 'tuple'>\n"
     ]
    }
   ],
   "source": [
    "tup2 = ((1,2), 11, 21, 31, 41)\n",
    "\n",
    "\n",
    "a, *b, c = tup2\n",
    "\n",
    "print(a)\n",
    "print(type(a))"
   ]
  },
  {
   "cell_type": "code",
   "execution_count": 69,
   "id": "15b52464",
   "metadata": {},
   "outputs": [
    {
     "name": "stdout",
     "output_type": "stream",
     "text": [
      "1\n",
      "[11, 21, 31]\n",
      "41\n"
     ]
    }
   ],
   "source": [
    "a,*b, c = tup1\n",
    "\n",
    "print(a,b, c, sep = '\\n')"
   ]
  },
  {
   "cell_type": "code",
   "execution_count": null,
   "id": "ad3af4c3",
   "metadata": {},
   "outputs": [],
   "source": [
    "print(lst3)"
   ]
  },
  {
   "cell_type": "code",
   "execution_count": null,
   "id": "80abdd47",
   "metadata": {},
   "outputs": [],
   "source": [
    "a,b,c,d,e,f = lst3\n",
    "\n",
    "print(lst3)\n",
    "\n",
    "print(a,b,c,d,e,f, sep = '\\n')"
   ]
  },
  {
   "cell_type": "code",
   "execution_count": null,
   "id": "61b01710",
   "metadata": {},
   "outputs": [],
   "source": [
    "print(lst2)"
   ]
  },
  {
   "cell_type": "code",
   "execution_count": null,
   "id": "91e744d8",
   "metadata": {},
   "outputs": [],
   "source": [
    "#The number of variables must correspond to the elements in the list (or we use the * to prefix a single variable to collect\n",
    "# the rest of the elements. More on that later).\n",
    "\n",
    "a,*b,c = lst2\n",
    "\n",
    "print(a,b,c, sep = '\\n')\n",
    "\n",
    "print(type(a))\n",
    "print(type(b))"
   ]
  },
  {
   "cell_type": "code",
   "execution_count": null,
   "id": "a5674ff9",
   "metadata": {},
   "outputs": [],
   "source": []
  },
  {
   "cell_type": "code",
   "execution_count": null,
   "id": "3b349aed",
   "metadata": {},
   "outputs": [],
   "source": [
    "print(lst1)"
   ]
  },
  {
   "cell_type": "code",
   "execution_count": null,
   "id": "fd96456c",
   "metadata": {},
   "outputs": [],
   "source": [
    "#However, if we need only some of the variables assigned and the rest in a single list we can add the * prefix infront of\n",
    "# one of the variables - and this will collect all the remaining variables after the n number of variables are each assigned\n",
    "# an element from the list. \n",
    "\n",
    "a,b, *c = lst1\n",
    "\n",
    "print(a,b,c, sep = '\\n')"
   ]
  },
  {
   "cell_type": "code",
   "execution_count": null,
   "id": "5581c896",
   "metadata": {},
   "outputs": [],
   "source": [
    "\n",
    "a,*b,c, d = lst1\n",
    "\n",
    "print(a,b,c, d, sep = '\\n')\n"
   ]
  },
  {
   "cell_type": "code",
   "execution_count": 80,
   "id": "e4f346e4",
   "metadata": {},
   "outputs": [],
   "source": [
    "#Using this logic of unpacking multiple arguments to a function can be packed into a list and a single list with the *\n",
    "#prefix can be passed into the function. \n",
    "\n",
    "def func_list(p,q,r,s,t):\n",
    "    return p+(q*r)+s-t, (p+q+r+s+t)/5"
   ]
  },
  {
   "cell_type": "code",
   "execution_count": 76,
   "id": "9f7bec3b",
   "metadata": {},
   "outputs": [],
   "source": [
    "lst1 = [3,3,2,7, 6]"
   ]
  },
  {
   "cell_type": "code",
   "execution_count": 87,
   "id": "c7aaa72c",
   "metadata": {},
   "outputs": [
    {
     "name": "stdout",
     "output_type": "stream",
     "text": [
      "(1, 2)\n",
      "<class 'tuple'>\n"
     ]
    }
   ],
   "source": [
    "a = 1,2\n",
    "\n",
    "print(a)\n",
    "print(type(a))"
   ]
  },
  {
   "cell_type": "code",
   "execution_count": 78,
   "id": "3475e7ec",
   "metadata": {},
   "outputs": [
    {
     "name": "stdout",
     "output_type": "stream",
     "text": [
      "(10, 4.2)\n"
     ]
    }
   ],
   "source": [
    "print(func_list(*lst1))"
   ]
  },
  {
   "cell_type": "code",
   "execution_count": 83,
   "id": "0dc57015",
   "metadata": {},
   "outputs": [
    {
     "name": "stdout",
     "output_type": "stream",
     "text": [
      "10\n",
      "4.2\n",
      "<class 'int'> <class 'float'>\n"
     ]
    }
   ],
   "source": [
    "x,y = func_list(*lst1)\n",
    "\n",
    "print(x, y, sep = '\\n')\n",
    "print(type(x), type(y))"
   ]
  },
  {
   "cell_type": "code",
   "execution_count": null,
   "id": "6cd2677d",
   "metadata": {},
   "outputs": [],
   "source": [
    "p,q,r,s,t = lst1"
   ]
  },
  {
   "cell_type": "code",
   "execution_count": null,
   "id": "22c1b280",
   "metadata": {},
   "outputs": [],
   "source": [
    "a,b = func_list(*lst1)\n",
    "\n",
    "print(a,b, sep = '\\n')"
   ]
  },
  {
   "cell_type": "code",
   "execution_count": null,
   "id": "8725f595",
   "metadata": {},
   "outputs": [],
   "source": [
    "print(dir(lst1))"
   ]
  },
  {
   "cell_type": "code",
   "execution_count": null,
   "id": "ff388411",
   "metadata": {},
   "outputs": [],
   "source": [
    "print(type(func_list(*lst1)))"
   ]
  },
  {
   "cell_type": "code",
   "execution_count": null,
   "id": "531a1de9",
   "metadata": {},
   "outputs": [],
   "source": [
    "a, b = func_list(*lst1)\n",
    "\n",
    "print(a)\n",
    "print(b)"
   ]
  },
  {
   "cell_type": "code",
   "execution_count": null,
   "id": "ea7e26a7",
   "metadata": {},
   "outputs": [],
   "source": [
    "print(p,q,r,s,t, sep = '\\n')"
   ]
  },
  {
   "cell_type": "code",
   "execution_count": null,
   "id": "b06622f9",
   "metadata": {},
   "outputs": [],
   "source": [
    "#List methods\n",
    "\n",
    "# 1. append - Only 1 parameter - the item to be appended which will only be appended at the end.\n",
    "# 2. sort  - built-in sorted. Key paramenter which takes a function to be applied to each element. Reverse which is by default\n",
    "# false (ascending order) and if made true becomes descending order sort. Sorted built-in function - by default returns a list. \n",
    "# While .sort method on lists - modifies original list and does not return anything.\n",
    "# 3. reverse - built-in reversed - reversed iterator object can only be iterated over once. \n",
    "# 4. extend - difference between concatenate and extend. (a. Concatenate only between same datatypes while extend can take\n",
    "# any iterables element and put them in the list. b. Extend modifies original list while concatenate creates new object.)\n",
    "# 5. insert - Takes two parameters - index position at which to insert item and item itself.\n",
    "# 6. remove - a. removes the element and modifies original list - no return.\n",
    "# 7. pop a. by default removes last element but specific index position element to be removed can be supplied as parameter. \n",
    "# Returns the popped element.\n",
    "# 8. count\n",
    "# 9. clear\n",
    "# 10. index\n",
    "\n",
    "# sum, max, min, len - built-in python functions that can be used on derived datatypes. \n",
    "\n",
    "# Unpacking\n",
    "# Being able to assign values of a iterable to multiple variables in one line. \n",
    "# Using * before a variable name means all unassigned values will be put in this variable as a list."
   ]
  },
  {
   "cell_type": "code",
   "execution_count": null,
   "id": "1751ae77",
   "metadata": {},
   "outputs": [],
   "source": [
    "print(dir(list))"
   ]
  },
  {
   "cell_type": "code",
   "execution_count": null,
   "id": "b0e0533a",
   "metadata": {},
   "outputs": [],
   "source": []
  },
  {
   "cell_type": "code",
   "execution_count": null,
   "id": "40b5499a",
   "metadata": {},
   "outputs": [],
   "source": []
  },
  {
   "cell_type": "code",
   "execution_count": null,
   "id": "586bb7d8",
   "metadata": {},
   "outputs": [],
   "source": []
  }
 ],
 "metadata": {
  "kernelspec": {
   "display_name": "Python 3 (ipykernel)",
   "language": "python",
   "name": "python3"
  },
  "language_info": {
   "codemirror_mode": {
    "name": "ipython",
    "version": 3
   },
   "file_extension": ".py",
   "mimetype": "text/x-python",
   "name": "python",
   "nbconvert_exporter": "python",
   "pygments_lexer": "ipython3",
   "version": "3.9.13"
  }
 },
 "nbformat": 4,
 "nbformat_minor": 5
}
