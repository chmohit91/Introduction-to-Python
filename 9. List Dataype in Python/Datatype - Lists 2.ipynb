{
 "cells": [
  {
   "cell_type": "markdown",
   "id": "a7f2f64e",
   "metadata": {},
   "source": [
    "# Data type - Lists"
   ]
  },
  {
   "cell_type": "code",
   "execution_count": null,
   "id": "ddc7c4bc",
   "metadata": {},
   "outputs": [],
   "source": [
    "# Lists are probably the most commonly used of the derived data types. They allow one to store a collection of elements\n",
    "# in a sequential manner and perform a host of operations on the elements as well as on other lists. They are one of the\n",
    "# most versatile datatypes.\n",
    "\n",
    "# Arrays also allow one to store many datatypes and perform operations on the elements in them. However, arrays limit one\n",
    "# to store only one datatype in them. The operations are faster in arrays and if we know that we will only be saving one\n",
    "# type of data in the object in a structured manner - arrays might be the way to go. But more on arrays later. \n",
    "\n",
    "# Lists have the following properties:\n",
    "\n",
    "#1. They are a derived datatype.\n",
    "#2. They are sequential and ordered i.e. stored in the order of input (insertion of element not withstanding).\n",
    "#3. Lists themselves are mutable i.e. the elements inside a list can be changed.\n",
    "#4. They allow mutable (and immutable) elements to be stored in them. e.g. we can store a set or dictionary (and even another list) in a\n",
    "# list.\n",
    "#5. They allow nesting i.e. a list in another list.\n",
    "#6. They allow indexing and slicing, item assignment - Subscription.\n",
    "#7. They are iterable i.e. one can go through each element in a list and perform an operation on each element.\n"
   ]
  },
  {
   "cell_type": "code",
   "execution_count": null,
   "id": "bce7a34d",
   "metadata": {},
   "outputs": [],
   "source": [
    "#Initialising lists\n",
    "\n",
    "x = [1,2,3,4,5]\n",
    "\n",
    "print(x)\n",
    "print(type(x))\n",
    "print(id(x))\n",
    "\n",
    "#To initialise a list, simply enclose the elements of the list in square brackets."
   ]
  },
  {
   "cell_type": "code",
   "execution_count": null,
   "id": "88149d41",
   "metadata": {},
   "outputs": [],
   "source": [
    "xx = []\n",
    "\n",
    "\n",
    "print(xx)\n",
    "print(type(xx))\n",
    "print(id(xx))\n",
    "#Empty square brackets can be used to initialise an empty list."
   ]
  },
  {
   "cell_type": "code",
   "execution_count": null,
   "id": "0a0a4f14",
   "metadata": {},
   "outputs": [],
   "source": [
    "#When would we need an empty list? When we know that we shall be filling the list object with elements and would like to\n",
    "# be able to perform list operations on that object.\n",
    "\n",
    "# For e.g.I have certain values and would like to multiply each one by 2 before appending it to the list. We can use the\n",
    "# append function to do so. (We whall discuss in detail about the append function a bit later)\n",
    "\n",
    "xx.append([1,2,3,4])\n",
    "\n",
    "print(xx)\n",
    "print(id(xx))"
   ]
  },
  {
   "cell_type": "code",
   "execution_count": null,
   "id": "3c5e8f30",
   "metadata": {},
   "outputs": [],
   "source": [
    "print(dir(str))"
   ]
  },
  {
   "cell_type": "code",
   "execution_count": null,
   "id": "3d36b866",
   "metadata": {},
   "outputs": [],
   "source": [
    "print(dir(list))"
   ]
  },
  {
   "cell_type": "code",
   "execution_count": null,
   "id": "a2bbe196",
   "metadata": {},
   "outputs": [],
   "source": [
    "# Properties of lists \n",
    "\n",
    "#1. Derived datatype\n",
    "#2. Mutable\n",
    "#3. Supports subscription(indexing, slicing, index & slice assignment)\n",
    "#4. Nested lists are possible\n",
    "#5. Iterable\n",
    "#6. Most flexible and one of the most used datatypes\n",
    "#7. Ordered - means the input / output order is maintained. \n",
    "\n",
    "# Initialise lists with a square bracket around the elements\n",
    "# OR\n",
    "# using list function - which takes only ONE ITERABLE as its argument"
   ]
  },
  {
   "cell_type": "code",
   "execution_count": null,
   "id": "9be57eb0",
   "metadata": {},
   "outputs": [],
   "source": []
  },
  {
   "cell_type": "code",
   "execution_count": null,
   "id": "57e44ba9",
   "metadata": {},
   "outputs": [],
   "source": [
    "#If I had not initialised the list object - I would not have been able to append. And also, if I had initialised a different\n",
    "# datatype.\n",
    "\n",
    "xx.append(2*10)\n",
    "\n",
    "print(xx)\n"
   ]
  },
  {
   "cell_type": "code",
   "execution_count": null,
   "id": "ba0e7089",
   "metadata": {},
   "outputs": [],
   "source": [
    "#We could also initialise a list by calling list() constructor on an iterable object. This is optional. Calling list without\n",
    "#any parameters initialises an empty list. \n",
    "\n",
    "x = list()\n",
    "print(x)\n",
    "print(type(x))\n"
   ]
  },
  {
   "cell_type": "code",
   "execution_count": null,
   "id": "9649614d",
   "metadata": {},
   "outputs": [],
   "source": [
    "x = (1,2,3,4)\n",
    "print(type(x))\n",
    "print(x)"
   ]
  },
  {
   "cell_type": "code",
   "execution_count": null,
   "id": "d33e0ce0",
   "metadata": {},
   "outputs": [],
   "source": [
    "str1 = 'Rajesh'\n",
    "\n",
    "for x in str1:\n",
    "    print(x)"
   ]
  },
  {
   "cell_type": "code",
   "execution_count": null,
   "id": "b4657102",
   "metadata": {},
   "outputs": [],
   "source": [
    "lst1 = [1,2,3,4]\n",
    "\n",
    "for x in lst1:\n",
    "    print(x)"
   ]
  },
  {
   "cell_type": "code",
   "execution_count": null,
   "id": "985208c5",
   "metadata": {},
   "outputs": [],
   "source": [
    "range1 = range(10)\n",
    "\n",
    "for x in range1:\n",
    "    print(x)"
   ]
  },
  {
   "cell_type": "code",
   "execution_count": null,
   "id": "c4baaccd",
   "metadata": {},
   "outputs": [],
   "source": [
    "lst1 = [1,2,3,4]\n",
    "\n",
    "print(lst1)"
   ]
  },
  {
   "cell_type": "code",
   "execution_count": null,
   "id": "e4f148fd",
   "metadata": {},
   "outputs": [],
   "source": [
    "lst1.append(5)"
   ]
  },
  {
   "cell_type": "code",
   "execution_count": null,
   "id": "b7c74fa7",
   "metadata": {},
   "outputs": [],
   "source": [
    "print(lst1)"
   ]
  },
  {
   "cell_type": "code",
   "execution_count": null,
   "id": "7cf21904",
   "metadata": {},
   "outputs": [],
   "source": [
    "lstappend = lst1.append(6)\n",
    "\n",
    "print(lst1)\n",
    "print(lstappend)\n",
    "\n",
    "#Clue - append has no return keyword. \n",
    "\n"
   ]
  },
  {
   "cell_type": "code",
   "execution_count": null,
   "id": "48fa5d79",
   "metadata": {},
   "outputs": [],
   "source": [
    "lst1 = [1,2,3,4]"
   ]
  },
  {
   "cell_type": "code",
   "execution_count": null,
   "id": "ac69ee5d",
   "metadata": {},
   "outputs": [],
   "source": [
    "def lst_append(lst, toappend):\n",
    "    lst += [toappend]\n",
    "    return lst\n",
    "    \n",
    "    \n",
    "    \n",
    "    "
   ]
  },
  {
   "cell_type": "code",
   "execution_count": null,
   "id": "44790165",
   "metadata": {},
   "outputs": [],
   "source": [
    "lst_append(lst1,5)\n",
    "\n",
    "print(lst1)"
   ]
  },
  {
   "cell_type": "code",
   "execution_count": null,
   "id": "c27a50e5",
   "metadata": {},
   "outputs": [],
   "source": [
    "lstX = lst_append(lst1,5)\n",
    "\n",
    "print(lstX, id(lstX))\n",
    "print(lst1, id(lst1))"
   ]
  },
  {
   "cell_type": "code",
   "execution_count": null,
   "id": "03a44ff0",
   "metadata": {},
   "outputs": [],
   "source": [
    "y = list([1,2,3,4,5,6])\n",
    "\n",
    "print(y)\n",
    "print(type(y))\n"
   ]
  },
  {
   "cell_type": "code",
   "execution_count": null,
   "id": "066650e0",
   "metadata": {},
   "outputs": [],
   "source": [
    "xwbrackets = [100, (1,2,3,4), 'a']\n",
    "\n",
    "xwfunction = list((1,2,3,4))\n",
    "\n",
    "print(xwbrackets)\n",
    "print(xwfunction)\n",
    "\n",
    "print(len(xwbrackets))\n",
    "print(len(xwfunction))"
   ]
  },
  {
   "cell_type": "code",
   "execution_count": null,
   "id": "7a8678e6",
   "metadata": {},
   "outputs": [],
   "source": [
    "y = [x]\n",
    "\n",
    "print(y)\n",
    "print(type(y))"
   ]
  },
  {
   "cell_type": "code",
   "execution_count": null,
   "id": "e6aa6625",
   "metadata": {},
   "outputs": [],
   "source": [
    "print(y[0])\n",
    "print(type(y[0]))"
   ]
  },
  {
   "cell_type": "code",
   "execution_count": null,
   "id": "24edf52b",
   "metadata": {},
   "outputs": [],
   "source": [
    "a = list(('abcde',))\n",
    "\n",
    "print(a)"
   ]
  },
  {
   "cell_type": "code",
   "execution_count": null,
   "id": "d59c1305",
   "metadata": {},
   "outputs": [],
   "source": [
    "tup1 = 1,2,3,'a',['XYZ', 2+3j]\n",
    "\n",
    "print(tup1)\n",
    "print(type(tup1))"
   ]
  },
  {
   "cell_type": "code",
   "execution_count": null,
   "id": "6129d42c",
   "metadata": {},
   "outputs": [],
   "source": [
    "lst1x = list(tup1)\n",
    "\n",
    "print(lst1x)"
   ]
  },
  {
   "cell_type": "code",
   "execution_count": null,
   "id": "74bfaf8c",
   "metadata": {},
   "outputs": [],
   "source": [
    "print(tup1)\n",
    "print(type(tup1))"
   ]
  },
  {
   "cell_type": "code",
   "execution_count": null,
   "id": "c39e80c1",
   "metadata": {},
   "outputs": [],
   "source": [
    "#creating our own list function. How the list function is probably working in the backend"
   ]
  },
  {
   "cell_type": "code",
   "execution_count": null,
   "id": "d8b7c0c4",
   "metadata": {},
   "outputs": [],
   "source": [
    "def list_funct(x):\n",
    "    lst1 = []\n",
    "    for i in x:\n",
    "        lst1 = lst1 + [i]\n",
    "    return lst1\n",
    "\n",
    "\n",
    "z = list_funct(tup1)\n",
    "\n",
    "\n",
    "print(z)"
   ]
  },
  {
   "cell_type": "code",
   "execution_count": null,
   "id": "64d1424b",
   "metadata": {},
   "outputs": [],
   "source": [
    "b = ['abcde']\n",
    "\n",
    "print(b)\n",
    "print(type(b))"
   ]
  },
  {
   "cell_type": "code",
   "execution_count": null,
   "id": "6e4704c1",
   "metadata": {},
   "outputs": [],
   "source": [
    "a = 'abcde'\n",
    "b = [a]\n",
    "print(b)"
   ]
  },
  {
   "cell_type": "code",
   "execution_count": null,
   "id": "dc2faf53",
   "metadata": {},
   "outputs": [],
   "source": [
    "b = list('abcde')\n",
    "\n",
    "print(b)"
   ]
  },
  {
   "cell_type": "code",
   "execution_count": null,
   "id": "3274eb3c",
   "metadata": {},
   "outputs": [],
   "source": [
    "lst = [1,2,3,4,5]\n",
    "\n",
    "print(lst[2])"
   ]
  },
  {
   "cell_type": "code",
   "execution_count": null,
   "id": "a84806b9",
   "metadata": {},
   "outputs": [],
   "source": [
    "lst = [1,2,3,[10,20,30, list('abcde')], (100,200), 'xyz', 2+3j, None, True]\n",
    "\n",
    "print(lst)"
   ]
  },
  {
   "cell_type": "code",
   "execution_count": null,
   "id": "cd88fb6f",
   "metadata": {},
   "outputs": [],
   "source": [
    "print(lst[2])"
   ]
  },
  {
   "cell_type": "code",
   "execution_count": null,
   "id": "b0f62f96",
   "metadata": {},
   "outputs": [],
   "source": [
    "print(lst[-3])"
   ]
  },
  {
   "cell_type": "code",
   "execution_count": null,
   "id": "3dbe7d1c",
   "metadata": {},
   "outputs": [],
   "source": [
    "print(lst[3])"
   ]
  },
  {
   "cell_type": "code",
   "execution_count": null,
   "id": "8e7857bb",
   "metadata": {},
   "outputs": [],
   "source": [
    "print(lst[3][3][3])"
   ]
  },
  {
   "cell_type": "code",
   "execution_count": null,
   "id": "38fa4a42",
   "metadata": {},
   "outputs": [],
   "source": [
    "print(lst[3])"
   ]
  },
  {
   "cell_type": "code",
   "execution_count": null,
   "id": "8ebc3205",
   "metadata": {},
   "outputs": [],
   "source": [
    "print(lst)"
   ]
  },
  {
   "cell_type": "code",
   "execution_count": null,
   "id": "05e9a327",
   "metadata": {},
   "outputs": [],
   "source": [
    "print(lst[2:-3][2])"
   ]
  },
  {
   "cell_type": "code",
   "execution_count": null,
   "id": "b34b98d3",
   "metadata": {},
   "outputs": [],
   "source": [
    "print(lst[4][1])"
   ]
  },
  {
   "cell_type": "code",
   "execution_count": null,
   "id": "4486320b",
   "metadata": {},
   "outputs": [],
   "source": [
    "print(lst[3:])"
   ]
  },
  {
   "cell_type": "code",
   "execution_count": null,
   "id": "85651f3f",
   "metadata": {},
   "outputs": [],
   "source": [
    "print(lst[3][3][4])"
   ]
  },
  {
   "cell_type": "code",
   "execution_count": null,
   "id": "8bb81713",
   "metadata": {},
   "outputs": [],
   "source": [
    "print(lst)"
   ]
  },
  {
   "cell_type": "code",
   "execution_count": null,
   "id": "ffaa8ba3",
   "metadata": {},
   "outputs": [],
   "source": [
    "print(lst[3][3][::-1])"
   ]
  },
  {
   "cell_type": "code",
   "execution_count": null,
   "id": "f6843532",
   "metadata": {},
   "outputs": [],
   "source": []
  },
  {
   "cell_type": "code",
   "execution_count": null,
   "id": "6ed2b898",
   "metadata": {},
   "outputs": [],
   "source": [
    "x = ['abcde', 'fghij']\n",
    "\n",
    "print(x)"
   ]
  },
  {
   "cell_type": "code",
   "execution_count": null,
   "id": "dde781ce",
   "metadata": {},
   "outputs": [],
   "source": [
    "y = list((1,2,3,4))\n",
    "\n",
    "print(y)"
   ]
  },
  {
   "cell_type": "code",
   "execution_count": null,
   "id": "58ee5ecc",
   "metadata": {},
   "outputs": [],
   "source": [
    "lst1 = [[1,20,13,4],['aagag','qgagasd','agagj','dafh']]\n",
    "\n",
    "lst1[0] = sorted(lst1[0], reverse=True)\n",
    "lst1[1] = sorted(lst1[1], key = len)\n",
    "print(lst1)"
   ]
  },
  {
   "cell_type": "code",
   "execution_count": 1,
   "id": "82380cca",
   "metadata": {},
   "outputs": [
    {
     "name": "stdout",
     "output_type": "stream",
     "text": [
      "[10, 20, 30, 40, 50, 60, 70, 80, 90]\n"
     ]
    }
   ],
   "source": [
    "lst1 = list(range(10,100,10))\n",
    "\n",
    "print(lst1)"
   ]
  },
  {
   "cell_type": "code",
   "execution_count": null,
   "id": "9fc25510",
   "metadata": {},
   "outputs": [],
   "source": [
    "lst1[5:0:-1]"
   ]
  },
  {
   "cell_type": "code",
   "execution_count": 2,
   "id": "6dda96a1",
   "metadata": {},
   "outputs": [
    {
     "name": "stdout",
     "output_type": "stream",
     "text": [
      "[10, 20, 30, 40, 500, 60, 70, 80, 90]\n"
     ]
    }
   ],
   "source": [
    "lst1[4]=500\n",
    "\n",
    "print(lst1)"
   ]
  },
  {
   "cell_type": "code",
   "execution_count": null,
   "id": "00ae3259",
   "metadata": {},
   "outputs": [],
   "source": [
    "# For list item assignment by slice = the items being replaced do not have to equal the length of the items replacing them."
   ]
  },
  {
   "cell_type": "code",
   "execution_count": 3,
   "id": "90e716fd",
   "metadata": {},
   "outputs": [],
   "source": [
    "lst1[1:3] = 100,200"
   ]
  },
  {
   "cell_type": "code",
   "execution_count": 4,
   "id": "f6011f3f",
   "metadata": {},
   "outputs": [
    {
     "name": "stdout",
     "output_type": "stream",
     "text": [
      "[10, 100, 200, 40, 500, 60, 70, 80, 90]\n"
     ]
    }
   ],
   "source": [
    "print(lst1)"
   ]
  },
  {
   "cell_type": "code",
   "execution_count": null,
   "id": "52a94a4c",
   "metadata": {},
   "outputs": [],
   "source": [
    "#1. The assigned value on list slice assignment HAS TO BE an iterable. \n",
    "#2. The elements being replaced do not have to have the same length as elements replacing them."
   ]
  },
  {
   "cell_type": "code",
   "execution_count": 7,
   "id": "43950b32",
   "metadata": {},
   "outputs": [],
   "source": [
    "lst1[3:6] = 1000,"
   ]
  },
  {
   "cell_type": "code",
   "execution_count": 8,
   "id": "2223caa9",
   "metadata": {},
   "outputs": [
    {
     "name": "stdout",
     "output_type": "stream",
     "text": [
      "[10, 100, 200, 1000, 70, 80, 90]\n"
     ]
    }
   ],
   "source": [
    "print(lst1)"
   ]
  },
  {
   "cell_type": "code",
   "execution_count": null,
   "id": "6b95108c",
   "metadata": {},
   "outputs": [],
   "source": [
    "lst[0] = 'Python'\n",
    "\n",
    "print(lst)"
   ]
  },
  {
   "cell_type": "code",
   "execution_count": null,
   "id": "391efb0b",
   "metadata": {},
   "outputs": [],
   "source": [
    "print(lst[0][3])"
   ]
  },
  {
   "cell_type": "code",
   "execution_count": null,
   "id": "befa9983",
   "metadata": {},
   "outputs": [],
   "source": [
    "lst[0][3] = 'I'"
   ]
  },
  {
   "cell_type": "code",
   "execution_count": null,
   "id": "dc937ba6",
   "metadata": {},
   "outputs": [],
   "source": []
  },
  {
   "cell_type": "code",
   "execution_count": null,
   "id": "c20b2d5e",
   "metadata": {},
   "outputs": [],
   "source": []
  },
  {
   "cell_type": "code",
   "execution_count": null,
   "id": "25a51c97",
   "metadata": {},
   "outputs": [],
   "source": [
    "print(y)\n",
    "\n",
    "y.append(100)\n",
    "print(y)"
   ]
  },
  {
   "cell_type": "code",
   "execution_count": null,
   "id": "87c70767",
   "metadata": {},
   "outputs": [],
   "source": [
    "y[0][1] = 20\n",
    "\n",
    "print(y)"
   ]
  },
  {
   "cell_type": "code",
   "execution_count": null,
   "id": "78626e60",
   "metadata": {},
   "outputs": [],
   "source": [
    "lst1 = ['a', 'bcde']"
   ]
  },
  {
   "cell_type": "code",
   "execution_count": null,
   "id": "b064f958",
   "metadata": {},
   "outputs": [],
   "source": [
    "#Note here how when simply enclosing the different datatype in square brackets put the variable as ONE element in the list."
   ]
  },
  {
   "cell_type": "code",
   "execution_count": null,
   "id": "8e3acb7b",
   "metadata": {},
   "outputs": [],
   "source": [
    "lst1 = [1,2,3,4]"
   ]
  },
  {
   "cell_type": "code",
   "execution_count": null,
   "id": "ad453ac7",
   "metadata": {},
   "outputs": [],
   "source": [
    "lst1 = ['abcde']\n",
    "lst2 = list('abcde')\n",
    "\n",
    "print(lst1)\n",
    "print(lst2)"
   ]
  },
  {
   "cell_type": "code",
   "execution_count": null,
   "id": "391977c4",
   "metadata": {},
   "outputs": [],
   "source": [
    "z = {1:100, 2:200, 'a':33, None:True}\n",
    "print(type(z))"
   ]
  },
  {
   "cell_type": "code",
   "execution_count": null,
   "id": "df9cf29d",
   "metadata": {},
   "outputs": [],
   "source": [
    "zz = list(z)\n",
    "\n",
    "print(zz)\n",
    "print(type(zz))\n",
    "\n",
    "#Do note how the list has only taken the keys of the dictionary as its elements."
   ]
  },
  {
   "cell_type": "code",
   "execution_count": null,
   "id": "3bbb165a",
   "metadata": {},
   "outputs": [],
   "source": [
    "for i in z:\n",
    "    print(i)\n",
    "    \n",
    "\n"
   ]
  },
  {
   "cell_type": "code",
   "execution_count": null,
   "id": "e9ee4b07",
   "metadata": {},
   "outputs": [],
   "source": [
    "for i in z.values():\n",
    "    print(i)"
   ]
  },
  {
   "cell_type": "code",
   "execution_count": null,
   "id": "6eeca729",
   "metadata": {},
   "outputs": [],
   "source": [
    "print(z.values())"
   ]
  },
  {
   "cell_type": "code",
   "execution_count": null,
   "id": "b3f4f668",
   "metadata": {},
   "outputs": [],
   "source": [
    "print(zz[0])"
   ]
  },
  {
   "cell_type": "code",
   "execution_count": null,
   "id": "c5d365b7",
   "metadata": {},
   "outputs": [],
   "source": [
    "x = 1,2,3,4\n",
    "print(type(x))"
   ]
  },
  {
   "cell_type": "code",
   "execution_count": null,
   "id": "53074929",
   "metadata": {},
   "outputs": [],
   "source": [
    "zzz = [x]\n",
    "\n",
    "print(zzz)\n",
    "print(type(zzz))\n",
    "print(type(zzz[0]))"
   ]
  },
  {
   "cell_type": "code",
   "execution_count": null,
   "id": "051090bb",
   "metadata": {},
   "outputs": [],
   "source": [
    "print(zzz[0])"
   ]
  },
  {
   "cell_type": "code",
   "execution_count": null,
   "id": "ef1ba440",
   "metadata": {},
   "outputs": [],
   "source": [
    "print(zzz[0][2])"
   ]
  },
  {
   "cell_type": "code",
   "execution_count": null,
   "id": "7d5f44cd",
   "metadata": {},
   "outputs": [],
   "source": [
    "print(zz)"
   ]
  },
  {
   "cell_type": "code",
   "execution_count": null,
   "id": "3c08c1de",
   "metadata": {},
   "outputs": [],
   "source": [
    "lst1 = [1,2,3,4]"
   ]
  },
  {
   "cell_type": "code",
   "execution_count": null,
   "id": "c13b7f2c",
   "metadata": {},
   "outputs": [],
   "source": [
    "lst1.append(5)\n",
    "\n",
    "print(lst1)"
   ]
  },
  {
   "cell_type": "code",
   "execution_count": null,
   "id": "5ea59142",
   "metadata": {},
   "outputs": [],
   "source": [
    "lst1.append([6,7])"
   ]
  },
  {
   "cell_type": "code",
   "execution_count": null,
   "id": "49690816",
   "metadata": {},
   "outputs": [],
   "source": [
    "print(lst1)"
   ]
  },
  {
   "cell_type": "code",
   "execution_count": null,
   "id": "3415fb09",
   "metadata": {},
   "outputs": [],
   "source": []
  },
  {
   "cell_type": "code",
   "execution_count": null,
   "id": "aa4934f8",
   "metadata": {},
   "outputs": [],
   "source": []
  },
  {
   "cell_type": "code",
   "execution_count": null,
   "id": "6ddfc4e9",
   "metadata": {},
   "outputs": [],
   "source": []
  },
  {
   "cell_type": "code",
   "execution_count": null,
   "id": "c59d212d",
   "metadata": {},
   "outputs": [],
   "source": []
  },
  {
   "cell_type": "code",
   "execution_count": null,
   "id": "41f400e3",
   "metadata": {},
   "outputs": [],
   "source": [
    "zzz.append(zz)\n",
    "print(zzz)"
   ]
  },
  {
   "cell_type": "code",
   "execution_count": null,
   "id": "16be6729",
   "metadata": {},
   "outputs": [],
   "source": [
    "print(z)"
   ]
  },
  {
   "cell_type": "code",
   "execution_count": null,
   "id": "65d6db90",
   "metadata": {},
   "outputs": [],
   "source": []
  },
  {
   "cell_type": "code",
   "execution_count": null,
   "id": "78b5ce6f",
   "metadata": {},
   "outputs": [],
   "source": [
    "zzz.append(z)"
   ]
  },
  {
   "cell_type": "code",
   "execution_count": null,
   "id": "819b5936",
   "metadata": {},
   "outputs": [],
   "source": [
    "print(zzz)"
   ]
  },
  {
   "cell_type": "code",
   "execution_count": null,
   "id": "8fb4d4a6",
   "metadata": {},
   "outputs": [],
   "source": [
    "zzz.append(['one', 'two', 'three'])\n",
    "print(zzz)\n",
    "\n",
    "print(len(zzz))"
   ]
  },
  {
   "cell_type": "code",
   "execution_count": null,
   "id": "2c17c4e4",
   "metadata": {},
   "outputs": [],
   "source": [
    "#In short, please remember this difference while trying to create lists - do you want to change the datatype of a sequential\n",
    "# object or just put that iterable itself in a list. "
   ]
  },
  {
   "cell_type": "code",
   "execution_count": null,
   "id": "6b490f92",
   "metadata": {},
   "outputs": [],
   "source": [
    "lst1 = ['abcde']\n",
    "\n",
    "lst2 = list('abcde')\n"
   ]
  },
  {
   "cell_type": "code",
   "execution_count": null,
   "id": "2c4576cc",
   "metadata": {},
   "outputs": [],
   "source": [
    "print(lst1)"
   ]
  },
  {
   "cell_type": "code",
   "execution_count": null,
   "id": "691dafed",
   "metadata": {},
   "outputs": [],
   "source": [
    "print(lst2)"
   ]
  },
  {
   "cell_type": "code",
   "execution_count": null,
   "id": "61281c36",
   "metadata": {},
   "outputs": [],
   "source": [
    "x = []\n",
    "\n",
    "a = [1,2,3,4]\n",
    "b = list('abcde')\n",
    "c = ('one', 'two','three')\n",
    "d = {'A':100, 'B':200}\n"
   ]
  },
  {
   "cell_type": "code",
   "execution_count": null,
   "id": "1554d580",
   "metadata": {},
   "outputs": [],
   "source": [
    "x.append(2*100)\n",
    "\n",
    "print(x)"
   ]
  },
  {
   "cell_type": "code",
   "execution_count": null,
   "id": "4c62c14d",
   "metadata": {},
   "outputs": [],
   "source": [
    "x.append(a)\n",
    "print(x)"
   ]
  },
  {
   "cell_type": "code",
   "execution_count": null,
   "id": "de924655",
   "metadata": {},
   "outputs": [],
   "source": [
    "x.append(b)\n",
    "print(x)"
   ]
  },
  {
   "cell_type": "code",
   "execution_count": null,
   "id": "d76e7b0b",
   "metadata": {},
   "outputs": [],
   "source": [
    "x.append(c)\n",
    "print(x)"
   ]
  },
  {
   "cell_type": "code",
   "execution_count": null,
   "id": "b0b48234",
   "metadata": {},
   "outputs": [],
   "source": [
    "x.append(d)\n",
    "print(x)"
   ]
  },
  {
   "cell_type": "code",
   "execution_count": null,
   "id": "984e92e4",
   "metadata": {},
   "outputs": [],
   "source": [
    "print(len(x))"
   ]
  },
  {
   "cell_type": "code",
   "execution_count": null,
   "id": "00c39ba8",
   "metadata": {},
   "outputs": [],
   "source": [
    "s = ['abc']\n",
    "\n",
    "print(s)"
   ]
  },
  {
   "cell_type": "code",
   "execution_count": null,
   "id": "b7002d17",
   "metadata": {},
   "outputs": [],
   "source": [
    "ss = list('abc')\n",
    "\n",
    "print(ss)"
   ]
  },
  {
   "cell_type": "code",
   "execution_count": null,
   "id": "6f4e492c",
   "metadata": {},
   "outputs": [],
   "source": [
    "#Same thing happened here. Since string is also sequential, in the first example, a list was initialised with one element, \n",
    "# the object 'abc'. The second time when we called the list constructor - the list understood that each individual object\n",
    "# of the 'abc' object was to be put in a list."
   ]
  },
  {
   "cell_type": "code",
   "execution_count": null,
   "id": "81dc873d",
   "metadata": {},
   "outputs": [],
   "source": [
    "#Indexing and slicing can be performed on a list and works exactly as indexing and slicing of other sequential objects. \n",
    "# We have already seen this in the string datatype.\n",
    "\n",
    "lst1 = list(range(3,11))\n",
    "\n",
    "print(lst1)"
   ]
  },
  {
   "cell_type": "code",
   "execution_count": null,
   "id": "e69355c8",
   "metadata": {},
   "outputs": [],
   "source": [
    "print(lst1[2])"
   ]
  },
  {
   "cell_type": "code",
   "execution_count": null,
   "id": "d6904b7c",
   "metadata": {},
   "outputs": [],
   "source": [
    "# A list is a mutable datatype. We can hold mutable datatypes in a list.\n",
    "\n",
    "orig = [1,2*500, 'P'+'y'+'t'+'h'+'o'+'n', {'a':1, 2:200}, ['Amar','Akbar','Anthony'], {'Ironman', 'Krish'}]\n",
    "print(orig)"
   ]
  },
  {
   "cell_type": "code",
   "execution_count": null,
   "id": "68ee36a7",
   "metadata": {},
   "outputs": [],
   "source": [
    "# Getting object at index no. 4\n",
    "\n",
    "idx1 = orig[4]\n",
    "print(idx1)\n",
    "print(type(idx1))"
   ]
  },
  {
   "cell_type": "code",
   "execution_count": null,
   "id": "b38322e7",
   "metadata": {},
   "outputs": [],
   "source": [
    "# Getting object at 1st index of object at index no. 4\n",
    "idx2 = orig[4][1]\n",
    "print(idx2)"
   ]
  },
  {
   "cell_type": "code",
   "execution_count": null,
   "id": "29bdb478",
   "metadata": {},
   "outputs": [],
   "source": [
    "idx3 = orig[2][3]\n",
    "print(idx3)"
   ]
  },
  {
   "cell_type": "code",
   "execution_count": null,
   "id": "4c2eb0ff",
   "metadata": {},
   "outputs": [],
   "source": [
    "orig = [1,2*500, 'P'+'y'+'t'+'h'+'o'+'n', {'a':1, 2:200}, ('Amar','Akbar','Anthony'), {'Ironman', 'Krish'}]\n",
    "\n",
    "#Getting object at 2nd index of object at 1st index of object at 4th index of original list object\n",
    "\n",
    "idx4 = orig[4][1][2]"
   ]
  },
  {
   "cell_type": "code",
   "execution_count": null,
   "id": "c93e7b7e",
   "metadata": {},
   "outputs": [],
   "source": [
    "print(idx4)"
   ]
  },
  {
   "cell_type": "code",
   "execution_count": null,
   "id": "f95ca33f",
   "metadata": {},
   "outputs": [],
   "source": [
    "lst1 = [1,2,3,[4,5]]\n",
    "\n",
    "print(lst1)"
   ]
  },
  {
   "cell_type": "code",
   "execution_count": null,
   "id": "82f1af48",
   "metadata": {},
   "outputs": [],
   "source": [
    "print(len(lst1))"
   ]
  },
  {
   "cell_type": "code",
   "execution_count": null,
   "id": "0ae49648",
   "metadata": {},
   "outputs": [],
   "source": [
    "lst1[3][0]"
   ]
  },
  {
   "cell_type": "code",
   "execution_count": null,
   "id": "bbeb8af8",
   "metadata": {},
   "outputs": [],
   "source": [
    "#Nested lists. Since list is a mutable datatype and can itself hold mutable datatypes - it goes to show that lists can\n",
    "#hold lists. \n",
    "\n",
    "lst = [1,2,3,4,5,[6,7,[8,9,10], 11, 12, [14,[21,22],27]],100,111]\n",
    "       \n",
    "print(lst)\n"
   ]
  },
  {
   "cell_type": "code",
   "execution_count": null,
   "id": "6e5b4c37",
   "metadata": {},
   "outputs": [],
   "source": [
    "print(lst[5])"
   ]
  },
  {
   "cell_type": "code",
   "execution_count": null,
   "id": "f767e0e1",
   "metadata": {},
   "outputs": [],
   "source": [
    "print(lst[-1])"
   ]
  },
  {
   "cell_type": "code",
   "execution_count": null,
   "id": "f0e688ab",
   "metadata": {},
   "outputs": [],
   "source": [
    "print(lst[5][5])"
   ]
  },
  {
   "cell_type": "code",
   "execution_count": null,
   "id": "fd0911fc",
   "metadata": {},
   "outputs": [],
   "source": [
    "print(lst[5][5][1])"
   ]
  },
  {
   "cell_type": "code",
   "execution_count": null,
   "id": "a7fd4e22",
   "metadata": {},
   "outputs": [],
   "source": [
    "print(lst[5][5][1][0])"
   ]
  },
  {
   "cell_type": "code",
   "execution_count": 9,
   "id": "ea0b9e8a",
   "metadata": {},
   "outputs": [
    {
     "name": "stdout",
     "output_type": "stream",
     "text": [
      "[1, 1000, 'Python', {'a': 1, 2: 200}, ('Amar', 'Akbar', 'Anthony'), {'Ironman', 'Krish'}]\n"
     ]
    }
   ],
   "source": [
    "#Slicing on lists\n",
    "\n",
    "orig = [1,2*500, 'P'+'y'+'t'+'h'+'o'+'n', {'a':1, 2:200}, ('Amar','Akbar','Anthony'), {'Ironman', 'Krish'}]\n",
    "\n",
    "slc1 = orig[:]\n",
    "print(slc1)"
   ]
  },
  {
   "cell_type": "code",
   "execution_count": 12,
   "id": "8652fd08",
   "metadata": {},
   "outputs": [
    {
     "name": "stdout",
     "output_type": "stream",
     "text": [
      "1\n",
      "<class 'int'>\n"
     ]
    }
   ],
   "source": [
    "x = orig[0]\n",
    "\n",
    "print(x)\n",
    "print(type(x))"
   ]
  },
  {
   "cell_type": "code",
   "execution_count": null,
   "id": "328a3b5f",
   "metadata": {},
   "outputs": [],
   "source": [
    "slc2 = orig[::2]\n",
    "print(slc2)"
   ]
  },
  {
   "cell_type": "code",
   "execution_count": null,
   "id": "34848e8e",
   "metadata": {},
   "outputs": [],
   "source": [
    "slc3 = orig[:5:3]\n",
    "print(slc3)\n",
    "\n",
    "print(type(slc3))"
   ]
  },
  {
   "cell_type": "code",
   "execution_count": null,
   "id": "0dccde08",
   "metadata": {},
   "outputs": [],
   "source": [
    "print(type(slc3))"
   ]
  },
  {
   "cell_type": "code",
   "execution_count": null,
   "id": "27f3b8e2",
   "metadata": {},
   "outputs": [],
   "source": [
    "str1 = 'Hello there'\n",
    "\n",
    "str2 = str1[:5]\n",
    "\n",
    "print(type(str2))\n"
   ]
  },
  {
   "cell_type": "code",
   "execution_count": null,
   "id": "29d15931",
   "metadata": {},
   "outputs": [],
   "source": [
    "x = range(20)\n",
    "\n",
    "print(x)\n",
    "print(type(x))\n",
    "\n",
    "y = x[:10]\n",
    "\n",
    "print(y)\n",
    "print(type(y))"
   ]
  },
  {
   "cell_type": "code",
   "execution_count": null,
   "id": "fd3ef476",
   "metadata": {},
   "outputs": [],
   "source": [
    "str = slice output will be str\n",
    "list = slice output will be list\n",
    "tuple = slice output will be tuple\n",
    "range = slice output will be range"
   ]
  },
  {
   "cell_type": "code",
   "execution_count": null,
   "id": "39f08c33",
   "metadata": {},
   "outputs": [],
   "source": [
    "x = range(10)\n",
    "\n",
    "y = x[2:5]\n",
    "\n",
    "print(x)\n",
    "print(type(x))\n",
    "print(y)\n",
    "print(type(y))"
   ]
  },
  {
   "cell_type": "code",
   "execution_count": null,
   "id": "236d7bd2",
   "metadata": {},
   "outputs": [],
   "source": [
    "#As you can see - slicing a list outputs a list object. "
   ]
  },
  {
   "cell_type": "code",
   "execution_count": null,
   "id": "63fe5f0d",
   "metadata": {},
   "outputs": [],
   "source": [
    "z = list(range(10))\n",
    "print(z)\n",
    "print(type(z))"
   ]
  },
  {
   "cell_type": "code",
   "execution_count": null,
   "id": "5f4822c8",
   "metadata": {},
   "outputs": [],
   "source": [
    "zz = z[:6]\n",
    "\n",
    "print(type(zz))"
   ]
  },
  {
   "cell_type": "code",
   "execution_count": null,
   "id": "404a795f",
   "metadata": {},
   "outputs": [],
   "source": [
    "x = list(range(10))\n",
    "\n",
    "y = x[:5]\n",
    "\n",
    "print(y)\n",
    "\n",
    "print(type(y))"
   ]
  },
  {
   "cell_type": "code",
   "execution_count": null,
   "id": "c243c049",
   "metadata": {},
   "outputs": [],
   "source": [
    "print(orig)"
   ]
  },
  {
   "cell_type": "code",
   "execution_count": null,
   "id": "c439fc08",
   "metadata": {},
   "outputs": [],
   "source": [
    "z = orig[0:3]\n",
    "print(z)\n",
    "print(type(z))"
   ]
  },
  {
   "cell_type": "code",
   "execution_count": null,
   "id": "3b5339de",
   "metadata": {},
   "outputs": [],
   "source": [
    "#As usual the concepts of negative indexing remain the same. \n",
    "\n",
    "lst_alpha = list('abcdefghij')\n",
    "print(lst_alpha)"
   ]
  },
  {
   "cell_type": "code",
   "execution_count": null,
   "id": "2d699564",
   "metadata": {},
   "outputs": [],
   "source": [
    "lst_alpha_rev = lst_alpha[::-1]\n",
    "print(lst_alpha_rev)"
   ]
  },
  {
   "cell_type": "code",
   "execution_count": null,
   "id": "22394b17",
   "metadata": {},
   "outputs": [],
   "source": [
    "x = 'malAyalam'"
   ]
  },
  {
   "cell_type": "code",
   "execution_count": null,
   "id": "fa7b8fde",
   "metadata": {},
   "outputs": [],
   "source": [
    "x2 = x[::-1]\n",
    "\n",
    "print(x2)"
   ]
  },
  {
   "cell_type": "code",
   "execution_count": null,
   "id": "814860bc",
   "metadata": {},
   "outputs": [],
   "source": [
    "lst1 = [1,2,3,4,5]\n",
    "lst2 = []\n",
    "for x in lst1:\n",
    "    if x%2==1:\n",
    "        lst2.append(x)"
   ]
  },
  {
   "cell_type": "code",
   "execution_count": null,
   "id": "684fb577",
   "metadata": {},
   "outputs": [],
   "source": [
    "print(lst2)"
   ]
  },
  {
   "cell_type": "code",
   "execution_count": null,
   "id": "52ec429d",
   "metadata": {},
   "outputs": [],
   "source": [
    "if x == x[::-1]:\n",
    "    print('True')"
   ]
  },
  {
   "cell_type": "code",
   "execution_count": null,
   "id": "adcea163",
   "metadata": {},
   "outputs": [],
   "source": [
    "print(lst_alpha)"
   ]
  },
  {
   "cell_type": "code",
   "execution_count": null,
   "id": "eba6220e",
   "metadata": {},
   "outputs": [],
   "source": [
    "lst_alpha_rev2 = lst_alpha[-5:-2]\n",
    "print(lst_alpha_rev2)"
   ]
  },
  {
   "cell_type": "code",
   "execution_count": null,
   "id": "04291536",
   "metadata": {},
   "outputs": [],
   "source": [
    "print(lst_alpha)"
   ]
  },
  {
   "cell_type": "code",
   "execution_count": null,
   "id": "81c66c6f",
   "metadata": {},
   "outputs": [],
   "source": [
    "print(lst_alpha[-1:-11:-1])"
   ]
  },
  {
   "cell_type": "code",
   "execution_count": null,
   "id": "6efb25ee",
   "metadata": {},
   "outputs": [],
   "source": [
    "print(lst_alpha)"
   ]
  },
  {
   "cell_type": "code",
   "execution_count": null,
   "id": "2d11478c",
   "metadata": {},
   "outputs": [],
   "source": [
    "lst_alpha_rev3 = lst_alpha[-2:-5:-1]\n",
    "print(lst_alpha_rev3)"
   ]
  },
  {
   "cell_type": "code",
   "execution_count": null,
   "id": "94c968e9",
   "metadata": {},
   "outputs": [],
   "source": [
    "lst_alpha_rev4 = lst_alpha[-2:-5:-1]\n",
    "print(lst_alpha_rev4)"
   ]
  },
  {
   "cell_type": "code",
   "execution_count": null,
   "id": "66c12283",
   "metadata": {},
   "outputs": [],
   "source": [
    "print(lst)"
   ]
  },
  {
   "cell_type": "code",
   "execution_count": null,
   "id": "0934d824",
   "metadata": {},
   "outputs": [],
   "source": [
    "lst = list(range(1,11))\n",
    "\n",
    "print(lst)"
   ]
  },
  {
   "cell_type": "code",
   "execution_count": null,
   "id": "5789e9ad",
   "metadata": {},
   "outputs": [],
   "source": [
    "lst[2] = 33\n",
    "\n",
    "print(lst)"
   ]
  },
  {
   "cell_type": "code",
   "execution_count": null,
   "id": "7499d101",
   "metadata": {},
   "outputs": [],
   "source": [
    "str1 = 'abcdefghij'\n",
    "\n",
    "print(str1[4])\n"
   ]
  },
  {
   "cell_type": "code",
   "execution_count": null,
   "id": "2be52d95",
   "metadata": {},
   "outputs": [],
   "source": [
    "str2 = str1[:4]+'E'+str1[5:]\n",
    "\n",
    "print(str2)\n",
    "\n",
    "print(id(str1))\n",
    "print(id(str2))"
   ]
  },
  {
   "cell_type": "code",
   "execution_count": null,
   "id": "ff9b0c0f",
   "metadata": {},
   "outputs": [],
   "source": [
    "lst1 = list(range(10))\n",
    "\n",
    "print(lst1)"
   ]
  },
  {
   "cell_type": "code",
   "execution_count": null,
   "id": "f2e09527",
   "metadata": {},
   "outputs": [],
   "source": [
    "lst1[4] = 400\n",
    "\n",
    "print(lst1)"
   ]
  },
  {
   "cell_type": "code",
   "execution_count": null,
   "id": "d52da456",
   "metadata": {},
   "outputs": [],
   "source": [
    "x = 11,\n",
    "\n",
    "print(x)\n",
    "print(type(x))"
   ]
  },
  {
   "cell_type": "code",
   "execution_count": null,
   "id": "971d13fb",
   "metadata": {},
   "outputs": [],
   "source": [
    "lst1 = list(range(10))\n",
    "print(lst1)\n",
    "print(id(lst1))"
   ]
  },
  {
   "cell_type": "code",
   "execution_count": null,
   "id": "7e36e7b8",
   "metadata": {},
   "outputs": [],
   "source": [
    "lst1[4] = 400\n",
    "\n",
    "print(lst1)"
   ]
  },
  {
   "cell_type": "code",
   "execution_count": null,
   "id": "6c1658b0",
   "metadata": {},
   "outputs": [],
   "source": [
    "x = list(range(21,25))\n",
    "\n",
    "print(x)"
   ]
  },
  {
   "cell_type": "code",
   "execution_count": null,
   "id": "85f3f2cd",
   "metadata": {},
   "outputs": [],
   "source": [
    "print(lst1)"
   ]
  },
  {
   "cell_type": "code",
   "execution_count": null,
   "id": "2e6ffc27",
   "metadata": {},
   "outputs": [],
   "source": [
    "lst1[2:6] = [21,31,41,51]\n",
    "\n",
    "print(lst1)\n",
    "print(id(lst1))"
   ]
  },
  {
   "cell_type": "code",
   "execution_count": null,
   "id": "e0124808",
   "metadata": {},
   "outputs": [],
   "source": [
    "lst1 = list(range(10))"
   ]
  },
  {
   "cell_type": "code",
   "execution_count": null,
   "id": "e53fa2c9",
   "metadata": {},
   "outputs": [],
   "source": [
    "print(lst1)"
   ]
  },
  {
   "cell_type": "code",
   "execution_count": null,
   "id": "68477d79",
   "metadata": {},
   "outputs": [],
   "source": [
    "lst2 = list(range(20))\n",
    "\n",
    "print(lst2)"
   ]
  },
  {
   "cell_type": "code",
   "execution_count": null,
   "id": "1890228c",
   "metadata": {},
   "outputs": [],
   "source": [
    "lst1[2:6] = [100]\n",
    "print(lst1)"
   ]
  },
  {
   "cell_type": "code",
   "execution_count": null,
   "id": "3d1bed1d",
   "metadata": {},
   "outputs": [],
   "source": [
    "lst1[2:6] = [11,15,201,113,1000]\n",
    "\n",
    "print(lst1)"
   ]
  },
  {
   "cell_type": "code",
   "execution_count": null,
   "id": "c0cf7f8b",
   "metadata": {},
   "outputs": [],
   "source": [
    "print(lst)"
   ]
  },
  {
   "cell_type": "code",
   "execution_count": null,
   "id": "9d704482",
   "metadata": {},
   "outputs": [],
   "source": [
    "#Slicing and item assignment can be performed together. \n",
    "\n",
    "lst[2:] = 11,12\n",
    "\n",
    "print(lst)"
   ]
  },
  {
   "cell_type": "code",
   "execution_count": null,
   "id": "69d85b78",
   "metadata": {},
   "outputs": [],
   "source": [
    "lst[2:6] = 11,12\n",
    "\n",
    "print(lst)"
   ]
  },
  {
   "cell_type": "code",
   "execution_count": null,
   "id": "4e01048e",
   "metadata": {},
   "outputs": [],
   "source": [
    "#Note how while slicing we picked up 4 elements but only assigned two new elements? Basically, we told Python to pick up\n",
    "# a certain slice of the list and reassign the values based on what we are giving it - irrespecitive of if the number of\n",
    "# elements match. \n",
    "\n",
    "lst[2:4] = 54,56,58,60\n",
    "print(lst)\n",
    "\n",
    "print(len(lst))"
   ]
  },
  {
   "cell_type": "code",
   "execution_count": null,
   "id": "30a27d3c",
   "metadata": {},
   "outputs": [],
   "source": [
    "lst[2:4] = list(range(53,58))\n",
    "print(lst)\n",
    "print(len(lst))\n",
    "#[1,2,53,54,55,56,57,58,60,100,111]"
   ]
  },
  {
   "cell_type": "code",
   "execution_count": null,
   "id": "b0ff4484",
   "metadata": {},
   "outputs": [],
   "source": [
    "z = list('hetoxyzab')"
   ]
  },
  {
   "cell_type": "code",
   "execution_count": null,
   "id": "45f9f7b4",
   "metadata": {},
   "outputs": [],
   "source": [
    "lst1 = list(range(10))\n",
    "\n",
    "print(lst1)\n",
    "print(id(lst1))"
   ]
  },
  {
   "cell_type": "code",
   "execution_count": null,
   "id": "4c66900a",
   "metadata": {},
   "outputs": [],
   "source": [
    "lst1[1] = 1001\n",
    "\n",
    "print(lst1)"
   ]
  },
  {
   "cell_type": "code",
   "execution_count": null,
   "id": "d24cb8d4",
   "metadata": {},
   "outputs": [],
   "source": [
    "print(id(lst1))"
   ]
  },
  {
   "cell_type": "code",
   "execution_count": null,
   "id": "92a49f29",
   "metadata": {},
   "outputs": [],
   "source": [
    "#Iteration over a list. \n",
    "print(z)"
   ]
  },
  {
   "cell_type": "code",
   "execution_count": null,
   "id": "264ac24a",
   "metadata": {},
   "outputs": [],
   "source": [
    "for x in z:\n",
    "    print(x)"
   ]
  },
  {
   "cell_type": "code",
   "execution_count": null,
   "id": "2bf55b03",
   "metadata": {},
   "outputs": [],
   "source": [
    "lst1 = [0,1,2,3,4,5]\n",
    "\n",
    "for x in lst1:\n",
    "    print(x*2)"
   ]
  },
  {
   "cell_type": "code",
   "execution_count": null,
   "id": "9e3f5f4b",
   "metadata": {},
   "outputs": [],
   "source": [
    "lst1 = list(range(5))\n",
    "\n",
    "print(lst1)"
   ]
  },
  {
   "cell_type": "code",
   "execution_count": null,
   "id": "4c0e0384",
   "metadata": {},
   "outputs": [],
   "source": [
    "str1 = 'abcde'*5\n",
    "\n",
    "print(str1)"
   ]
  },
  {
   "cell_type": "code",
   "execution_count": null,
   "id": "8d341586",
   "metadata": {},
   "outputs": [],
   "source": [
    "lst = [3,6,11,14,7,4]\n",
    "\n",
    "for x in lst:\n",
    "    print(x+10)"
   ]
  },
  {
   "cell_type": "code",
   "execution_count": null,
   "id": "6d893761",
   "metadata": {},
   "outputs": [],
   "source": [
    "lst2 = []\n",
    "\n",
    "for x in lst:\n",
    "    lst2.append(x+10)\n",
    "    \n",
    "print(lst2)"
   ]
  },
  {
   "cell_type": "code",
   "execution_count": null,
   "id": "9d1404c8",
   "metadata": {},
   "outputs": [],
   "source": [
    "for i in range(len(lst)):\n",
    "    lst[i] = lst[i]+10\n",
    "    \n",
    "print(lst)"
   ]
  },
  {
   "cell_type": "code",
   "execution_count": null,
   "id": "a96522aa",
   "metadata": {},
   "outputs": [],
   "source": [
    "str1 = 'peter pan was a naughty elf'\n",
    "str2 = \"\"\n",
    "for i in range(len(str1)):\n",
    "    if i == 0 or str1[i-1] == ' ':\n",
    "        str2 += str1[i].upper()\n",
    "    else:\n",
    "        str2 += str1[i]\n",
    "               \n",
    "print(str2)\n"
   ]
  },
  {
   "cell_type": "code",
   "execution_count": null,
   "id": "41ed54cc",
   "metadata": {},
   "outputs": [],
   "source": [
    "x = str1.split()\n",
    "\n",
    "print(x)"
   ]
  },
  {
   "cell_type": "code",
   "execution_count": null,
   "id": "286bfe6b",
   "metadata": {},
   "outputs": [],
   "source": [
    "for i in x:"
   ]
  },
  {
   "cell_type": "code",
   "execution_count": null,
   "id": "87ae960f",
   "metadata": {},
   "outputs": [],
   "source": [
    "lst1 = list(range(5))\n",
    "\n",
    "print(lst1)"
   ]
  },
  {
   "cell_type": "code",
   "execution_count": null,
   "id": "996f903f",
   "metadata": {},
   "outputs": [],
   "source": []
  },
  {
   "cell_type": "code",
   "execution_count": null,
   "id": "f649daf6",
   "metadata": {},
   "outputs": [],
   "source": [
    "lst2 = lst1*5\n",
    "\n",
    "print(lst2)"
   ]
  },
  {
   "cell_type": "code",
   "execution_count": null,
   "id": "27bb52b4",
   "metadata": {},
   "outputs": [],
   "source": [
    "lst1 = list('abcde')\n",
    "\n",
    "print(lst1)"
   ]
  },
  {
   "cell_type": "code",
   "execution_count": null,
   "id": "eee42844",
   "metadata": {},
   "outputs": [],
   "source": [
    "lst2 = list('fghij')\n",
    "\n",
    "print(lst2)"
   ]
  },
  {
   "cell_type": "code",
   "execution_count": null,
   "id": "06bfb0b7",
   "metadata": {},
   "outputs": [],
   "source": [
    "str1 = 'abcde'+'fghij'\n",
    "\n",
    "print(str1)"
   ]
  },
  {
   "cell_type": "code",
   "execution_count": null,
   "id": "114905bc",
   "metadata": {},
   "outputs": [],
   "source": [
    "# concatenation can be performed by using the overloaded + operator. \n",
    "\n",
    "# Can only be used between same datatype\n",
    "# str + str,\n",
    "# list + list\n",
    "# tuple + tuple\n",
    "# set + set"
   ]
  },
  {
   "cell_type": "code",
   "execution_count": 13,
   "id": "6d53c329",
   "metadata": {},
   "outputs": [
    {
     "name": "stdout",
     "output_type": "stream",
     "text": [
      "abcdef\n"
     ]
    }
   ],
   "source": [
    "str1 = 'abc'+'def'\n",
    "\n",
    "print(str1)"
   ]
  },
  {
   "cell_type": "code",
   "execution_count": 22,
   "id": "86d10113",
   "metadata": {},
   "outputs": [
    {
     "name": "stdout",
     "output_type": "stream",
     "text": [
      "['a', 'b', 'c', 'd']\n",
      "['e', 'f', 'g', 'h']\n",
      "['a', 'b', 'c', 'd', 'e', 'f', 'g', 'h']\n"
     ]
    }
   ],
   "source": [
    "#Concatenation of lists\n",
    "\n",
    "orig_1 = ['a','b','c','d']\n",
    "orig_2 = ['e', 'f', 'g', 'h']\n",
    "\n",
    "lst3 = orig_1 + orig_2\n",
    "\n",
    "print(orig_1)\n",
    "print(orig_2)\n",
    "print(lst3)\n"
   ]
  },
  {
   "cell_type": "code",
   "execution_count": 15,
   "id": "8d280eff",
   "metadata": {},
   "outputs": [
    {
     "name": "stdout",
     "output_type": "stream",
     "text": [
      "103.4\n"
     ]
    }
   ],
   "source": [
    "x = 100 + 3.4\n",
    "\n",
    "print(x)"
   ]
  },
  {
   "cell_type": "code",
   "execution_count": null,
   "id": "7a688ccf",
   "metadata": {},
   "outputs": [],
   "source": [
    "+, -, *, / - Overloaded operators will not work between datatypes"
   ]
  },
  {
   "cell_type": "code",
   "execution_count": 17,
   "id": "e2a061bc",
   "metadata": {},
   "outputs": [
    {
     "name": "stdout",
     "output_type": "stream",
     "text": [
      "('e', 'f', 'g', 'h')\n"
     ]
    }
   ],
   "source": [
    "tup2 = tuple(orig_2)\n",
    "\n",
    "print(tup2)"
   ]
  },
  {
   "cell_type": "code",
   "execution_count": 18,
   "id": "7a46e224",
   "metadata": {},
   "outputs": [
    {
     "ename": "TypeError",
     "evalue": "can only concatenate list (not \"tuple\") to list",
     "output_type": "error",
     "traceback": [
      "\u001b[1;31m---------------------------------------------------------------------------\u001b[0m",
      "\u001b[1;31mTypeError\u001b[0m                                 Traceback (most recent call last)",
      "\u001b[1;32m~\\AppData\\Local\\Temp\\ipykernel_7128\\2191740895.py\u001b[0m in \u001b[0;36m<module>\u001b[1;34m\u001b[0m\n\u001b[1;32m----> 1\u001b[1;33m \u001b[0mlst4\u001b[0m \u001b[1;33m=\u001b[0m \u001b[0morig_1\u001b[0m \u001b[1;33m+\u001b[0m \u001b[0mtup2\u001b[0m\u001b[1;33m\u001b[0m\u001b[1;33m\u001b[0m\u001b[0m\n\u001b[0m\u001b[0;32m      2\u001b[0m \u001b[1;33m\u001b[0m\u001b[0m\n\u001b[0;32m      3\u001b[0m \u001b[0mprint\u001b[0m\u001b[1;33m(\u001b[0m\u001b[0mlst4\u001b[0m\u001b[1;33m)\u001b[0m\u001b[1;33m\u001b[0m\u001b[1;33m\u001b[0m\u001b[0m\n",
      "\u001b[1;31mTypeError\u001b[0m: can only concatenate list (not \"tuple\") to list"
     ]
    }
   ],
   "source": [
    "lst4 = orig_1 + tup2\n",
    "\n",
    "print(lst4)"
   ]
  },
  {
   "cell_type": "code",
   "execution_count": 19,
   "id": "d40aebb7",
   "metadata": {},
   "outputs": [
    {
     "ename": "TypeError",
     "evalue": "unsupported operand type(s) for -: 'list' and 'list'",
     "output_type": "error",
     "traceback": [
      "\u001b[1;31m---------------------------------------------------------------------------\u001b[0m",
      "\u001b[1;31mTypeError\u001b[0m                                 Traceback (most recent call last)",
      "\u001b[1;32m~\\AppData\\Local\\Temp\\ipykernel_7128\\922355519.py\u001b[0m in \u001b[0;36m<module>\u001b[1;34m\u001b[0m\n\u001b[1;32m----> 1\u001b[1;33m \u001b[0mlstsub\u001b[0m \u001b[1;33m=\u001b[0m \u001b[0morig_1\u001b[0m \u001b[1;33m-\u001b[0m \u001b[0morig_2\u001b[0m\u001b[1;33m\u001b[0m\u001b[1;33m\u001b[0m\u001b[0m\n\u001b[0m\u001b[0;32m      2\u001b[0m \u001b[1;33m\u001b[0m\u001b[0m\n\u001b[0;32m      3\u001b[0m \u001b[0mprint\u001b[0m\u001b[1;33m(\u001b[0m\u001b[0mlstsub\u001b[0m\u001b[1;33m)\u001b[0m\u001b[1;33m\u001b[0m\u001b[1;33m\u001b[0m\u001b[0m\n",
      "\u001b[1;31mTypeError\u001b[0m: unsupported operand type(s) for -: 'list' and 'list'"
     ]
    }
   ],
   "source": [
    "lstsub = orig_1 - orig_2\n",
    "\n",
    "print(lstsub)"
   ]
  },
  {
   "cell_type": "code",
   "execution_count": 23,
   "id": "61e51eac",
   "metadata": {},
   "outputs": [
    {
     "name": "stdout",
     "output_type": "stream",
     "text": [
      "['a', 'b', 'c', 'd']\n"
     ]
    }
   ],
   "source": [
    "print(orig_1)"
   ]
  },
  {
   "cell_type": "code",
   "execution_count": 25,
   "id": "8285c596",
   "metadata": {},
   "outputs": [
    {
     "name": "stdout",
     "output_type": "stream",
     "text": [
      "abcabcabc\n"
     ]
    }
   ],
   "source": [
    "str1 = 'abc'\n",
    "\n",
    "str2 = str1*3\n",
    "\n",
    "print(str2)"
   ]
  },
  {
   "cell_type": "code",
   "execution_count": 26,
   "id": "90b20421",
   "metadata": {},
   "outputs": [
    {
     "name": "stdout",
     "output_type": "stream",
     "text": [
      "['a', 'b', 'c', 'd', 'a', 'b', 'c', 'd', 'a', 'b', 'c', 'd']\n"
     ]
    }
   ],
   "source": [
    "lstmulti = orig_1*3\n",
    "\n",
    "print(lstmulti)"
   ]
  },
  {
   "cell_type": "code",
   "execution_count": 27,
   "id": "9179303e",
   "metadata": {},
   "outputs": [
    {
     "name": "stdout",
     "output_type": "stream",
     "text": [
      "['__add__', '__class__', '__class_getitem__', '__contains__', '__delattr__', '__delitem__', '__dir__', '__doc__', '__eq__', '__format__', '__ge__', '__getattribute__', '__getitem__', '__gt__', '__hash__', '__iadd__', '__imul__', '__init__', '__init_subclass__', '__iter__', '__le__', '__len__', '__lt__', '__mul__', '__ne__', '__new__', '__reduce__', '__reduce_ex__', '__repr__', '__reversed__', '__rmul__', '__setattr__', '__setitem__', '__sizeof__', '__str__', '__subclasshook__', 'append', 'clear', 'copy', 'count', 'extend', 'index', 'insert', 'pop', 'remove', 'reverse', 'sort']\n"
     ]
    }
   ],
   "source": [
    "print(dir(list))"
   ]
  },
  {
   "cell_type": "code",
   "execution_count": null,
   "id": "0acae57c",
   "metadata": {},
   "outputs": [],
   "source": [
    "orig_tup = tuple(orig_2)\n",
    "\n",
    "print(orig_tup)\n",
    "print(type(orig_tup))"
   ]
  },
  {
   "cell_type": "code",
   "execution_count": null,
   "id": "bb236b5a",
   "metadata": {},
   "outputs": [],
   "source": [
    "lst4 = orig_1 + orig_tup"
   ]
  },
  {
   "cell_type": "code",
   "execution_count": null,
   "id": "98a682dc",
   "metadata": {},
   "outputs": [],
   "source": [
    "lst3 = ['a','b','c','d'] + ['e', 'f', 'g', 'h']\n",
    "\n",
    "print(lst3)"
   ]
  },
  {
   "cell_type": "code",
   "execution_count": null,
   "id": "76a3e4c0",
   "metadata": {},
   "outputs": [],
   "source": [
    "lst4 = ['a', 'b', 'c', 'd'] + list('efgh')\n",
    "\n",
    "print(lst4)"
   ]
  },
  {
   "cell_type": "code",
   "execution_count": null,
   "id": "85378cea",
   "metadata": {},
   "outputs": [],
   "source": [
    "+, -, ^,&,|,/,//,%  = except for between integer and float - you will never be able to use them between datatypes."
   ]
  },
  {
   "cell_type": "code",
   "execution_count": null,
   "id": "603bbfce",
   "metadata": {},
   "outputs": [],
   "source": [
    "lst1 = [1,2,3,4,5] + (6,)\n",
    "\n",
    "print(lst1)"
   ]
  },
  {
   "cell_type": "code",
   "execution_count": 28,
   "id": "487dca4f",
   "metadata": {},
   "outputs": [
    {
     "name": "stdout",
     "output_type": "stream",
     "text": [
      "['a', 'b', 'c', 'd', 'e', 'f', 'g', 'h']\n"
     ]
    }
   ],
   "source": [
    "lst5 = ['a','b','c','d'] + list('efgh')\n",
    "\n",
    "print(lst5)"
   ]
  },
  {
   "cell_type": "code",
   "execution_count": 34,
   "id": "52adc5ea",
   "metadata": {},
   "outputs": [
    {
     "name": "stdout",
     "output_type": "stream",
     "text": [
      "['a', 'b', 'c', 'd', 'e', 'f', 'g', 'h', ['d', 'e']]\n"
     ]
    }
   ],
   "source": [
    "lst5.append(['d','e'])\n",
    "\n",
    "print(lst5)"
   ]
  },
  {
   "cell_type": "code",
   "execution_count": 29,
   "id": "8971c3f3",
   "metadata": {},
   "outputs": [
    {
     "name": "stdout",
     "output_type": "stream",
     "text": [
      "True\n"
     ]
    }
   ],
   "source": [
    "#Membership operations on a list\n",
    "\n",
    "print('d' in lst5)"
   ]
  },
  {
   "cell_type": "code",
   "execution_count": 30,
   "id": "573f7400",
   "metadata": {},
   "outputs": [
    {
     "name": "stdout",
     "output_type": "stream",
     "text": [
      "False\n"
     ]
    }
   ],
   "source": [
    "print('z' in lst5)"
   ]
  },
  {
   "cell_type": "code",
   "execution_count": 31,
   "id": "74713bea",
   "metadata": {},
   "outputs": [
    {
     "name": "stdout",
     "output_type": "stream",
     "text": [
      "False\n"
     ]
    }
   ],
   "source": [
    "print('d' not in lst5)"
   ]
  },
  {
   "cell_type": "code",
   "execution_count": 32,
   "id": "3a39ac3d",
   "metadata": {},
   "outputs": [
    {
     "name": "stdout",
     "output_type": "stream",
     "text": [
      "True\n"
     ]
    }
   ],
   "source": [
    "print('z' not in lst5)"
   ]
  },
  {
   "cell_type": "code",
   "execution_count": null,
   "id": "f69523e4",
   "metadata": {},
   "outputs": [],
   "source": []
  },
  {
   "cell_type": "code",
   "execution_count": null,
   "id": "251fe455",
   "metadata": {},
   "outputs": [],
   "source": [
    "print(lst5)"
   ]
  },
  {
   "cell_type": "code",
   "execution_count": 35,
   "id": "d7fccb80",
   "metadata": {},
   "outputs": [
    {
     "name": "stdout",
     "output_type": "stream",
     "text": [
      "True\n"
     ]
    }
   ],
   "source": [
    "print(['d','e']in lst5)"
   ]
  },
  {
   "cell_type": "code",
   "execution_count": null,
   "id": "cd5736e0",
   "metadata": {},
   "outputs": [],
   "source": [
    "print(lst5)"
   ]
  },
  {
   "cell_type": "code",
   "execution_count": null,
   "id": "5edc4d63",
   "metadata": {},
   "outputs": [],
   "source": [
    "lst5.append(['d','e'])\n",
    "\n",
    "print(lst5)"
   ]
  },
  {
   "cell_type": "code",
   "execution_count": null,
   "id": "4494f80f",
   "metadata": {},
   "outputs": [],
   "source": [
    "print(['d','e'] in lst5)"
   ]
  },
  {
   "cell_type": "code",
   "execution_count": null,
   "id": "8d9da5c2",
   "metadata": {},
   "outputs": [],
   "source": [
    "lst5.append(['d','e'])\n",
    "\n",
    "print(lst5)"
   ]
  },
  {
   "cell_type": "code",
   "execution_count": null,
   "id": "622af92e",
   "metadata": {},
   "outputs": [],
   "source": [
    "print('d','e' in lst5)"
   ]
  },
  {
   "cell_type": "code",
   "execution_count": null,
   "id": "96ea3518",
   "metadata": {},
   "outputs": [],
   "source": [
    "print(['d','e'] not in lst5)"
   ]
  },
  {
   "cell_type": "code",
   "execution_count": null,
   "id": "cc5a0609",
   "metadata": {},
   "outputs": [],
   "source": [
    "lst6 = ['a', 'b', 'c', ['d', 'e'], 'f', 'g']\n",
    "\n",
    "print(['d', 'e'] in lst6)"
   ]
  },
  {
   "cell_type": "code",
   "execution_count": null,
   "id": "015e94f5",
   "metadata": {},
   "outputs": [],
   "source": [
    "print('d','e' in lst5)\n",
    "\n",
    "#Note here how though it takes two elements as the elements to search - it actually throws an unexpected output. \n",
    "\n",
    "#For all practical purposes, please assume that the in operator takes only one element to be searched at a time."
   ]
  },
  {
   "cell_type": "code",
   "execution_count": null,
   "id": "43b05dac",
   "metadata": {},
   "outputs": [],
   "source": [
    "print(lst5)"
   ]
  },
  {
   "cell_type": "code",
   "execution_count": null,
   "id": "b37b012e",
   "metadata": {},
   "outputs": [],
   "source": [
    "if('z' in lst5):\n",
    "    print('True')\n",
    "else:\n",
    "    print('False')"
   ]
  },
  {
   "cell_type": "code",
   "execution_count": null,
   "id": "dc5cd2fb",
   "metadata": {},
   "outputs": [],
   "source": [
    "lst1 = list(range(10))"
   ]
  },
  {
   "cell_type": "code",
   "execution_count": 43,
   "id": "41e7fb23",
   "metadata": {},
   "outputs": [],
   "source": [
    "lst1 = [1,2,3,4,5, 70,32, 1.23]"
   ]
  },
  {
   "cell_type": "code",
   "execution_count": null,
   "id": "44a91bef",
   "metadata": {},
   "outputs": [],
   "source": []
  },
  {
   "cell_type": "code",
   "execution_count": null,
   "id": "1b5bfe22",
   "metadata": {},
   "outputs": [],
   "source": [
    "print(100 in lst1)"
   ]
  },
  {
   "cell_type": "code",
   "execution_count": null,
   "id": "603e9cec",
   "metadata": {},
   "outputs": [],
   "source": [
    "print([100,200] in lst1)"
   ]
  },
  {
   "cell_type": "code",
   "execution_count": 44,
   "id": "5e249cff",
   "metadata": {},
   "outputs": [
    {
     "name": "stdout",
     "output_type": "stream",
     "text": [
      "[1, 2, 3, 4, 5, 70, 32, 1.23]\n",
      "8\n",
      "70\n",
      "1\n"
     ]
    }
   ],
   "source": [
    "#Length function on lists. As with any other derived datatype - the length function returns the length of the object<in this\n",
    "#case the list. \n",
    "\n",
    "print(lst1)\n",
    "print(len(lst1))\n",
    "print(max(lst1))\n",
    "print(min(lst1))"
   ]
  },
  {
   "cell_type": "code",
   "execution_count": 46,
   "id": "fdc15b54",
   "metadata": {},
   "outputs": [
    {
     "name": "stdout",
     "output_type": "stream",
     "text": [
      "y\n",
      "A\n"
     ]
    }
   ],
   "source": [
    "lstalpha = list('agjAglkjgxy')\n",
    "\n",
    "\n",
    "print(max(lstalpha))\n",
    "print(min(lstalpha))"
   ]
  },
  {
   "cell_type": "code",
   "execution_count": null,
   "id": "9c11ef4d",
   "metadata": {},
   "outputs": [],
   "source": [
    "print(f'List is. {lst1}. \\nIts length is {len(lst1)}')"
   ]
  },
  {
   "cell_type": "code",
   "execution_count": null,
   "id": "69854601",
   "metadata": {},
   "outputs": [],
   "source": [
    "print(f'List is. {lst3}. \\nIts length is {len(lst3)}')"
   ]
  },
  {
   "cell_type": "code",
   "execution_count": null,
   "id": "f81fc810",
   "metadata": {},
   "outputs": [],
   "source": [
    "print(f'List is. {lst4}. \\nIts length is {len(lst4)}')"
   ]
  },
  {
   "cell_type": "code",
   "execution_count": null,
   "id": "5e8f7f9d",
   "metadata": {},
   "outputs": [],
   "source": [
    "print(f'List is. {lst5}. \\nIts length is {len(lst5)}')"
   ]
  },
  {
   "cell_type": "code",
   "execution_count": null,
   "id": "ec645bfc",
   "metadata": {},
   "outputs": [],
   "source": [
    "# One of the most common functions used with lists is the append function which adds exactly 1 object to the end of the\n",
    "# list. \n",
    "\n",
    "print(lst5)\n",
    "\n"
   ]
  },
  {
   "cell_type": "code",
   "execution_count": null,
   "id": "e1a9b86e",
   "metadata": {},
   "outputs": [],
   "source": [
    "lst5 = list('abcdefgh')"
   ]
  },
  {
   "cell_type": "code",
   "execution_count": null,
   "id": "596aa9f7",
   "metadata": {},
   "outputs": [],
   "source": [
    "lst5.append('i')\n",
    "\n",
    "print(lst5)\n",
    "\n",
    "#It takes exactly one parameter - an object of any datatype to add to the end of the list. Any more (or less) objects than \n",
    "#1 will throw an error."
   ]
  },
  {
   "cell_type": "code",
   "execution_count": null,
   "id": "9042803c",
   "metadata": {},
   "outputs": [],
   "source": [
    "lst6 = lst5.append('j')\n",
    "\n",
    "print(lst5)\n",
    "print(lst6)"
   ]
  },
  {
   "cell_type": "code",
   "execution_count": null,
   "id": "57469c4f",
   "metadata": {},
   "outputs": [],
   "source": [
    "# 1 Both lists will have j appended\n",
    "#2 lst 5 will remain unchanged lst6 will have 'j' appended\n",
    "3 lst 5 will have 'j' appended lst 6 will have none\n",
    "#4 No change to either"
   ]
  },
  {
   "cell_type": "code",
   "execution_count": null,
   "id": "61482ec5",
   "metadata": {},
   "outputs": [],
   "source": [
    "def lst_append(lst, obj):\n",
    "    lst = lst + [obj]\n",
    "    \n",
    "    \n",
    "lst1 = [1,2,3,4]\n",
    "\n",
    "lst_append(lst1, 'xyz')\n",
    "\n",
    "print(lst1)\n"
   ]
  },
  {
   "cell_type": "code",
   "execution_count": null,
   "id": "43e58340",
   "metadata": {},
   "outputs": [],
   "source": [
    "print(lst_append(lst1,'abc'))\n",
    "print(lst1)"
   ]
  },
  {
   "cell_type": "code",
   "execution_count": 52,
   "id": "24fd9dad",
   "metadata": {},
   "outputs": [
    {
     "name": "stdout",
     "output_type": "stream",
     "text": [
      "[1, 2, 3, 4, 5, 6, 7, 8]\n"
     ]
    }
   ],
   "source": [
    "lst1 = [1,2,3,4]\n",
    "lst2 = [5,6,7,8]\n",
    "\n",
    "\n",
    "\n",
    "lst1.extend(lst2)\n",
    "\n",
    "\n",
    "print(lst1)"
   ]
  },
  {
   "cell_type": "code",
   "execution_count": 53,
   "id": "d7c38a11",
   "metadata": {},
   "outputs": [
    {
     "name": "stdout",
     "output_type": "stream",
     "text": [
      "[1, 2, 3, 4, 5, 6, 7, 8, 10, 20, 30]\n"
     ]
    }
   ],
   "source": [
    "lst3 = [10,20,30]\n",
    "\n",
    "\n",
    "lst4 = lst1 + lst3\n",
    "\n",
    "print(lst4)"
   ]
  },
  {
   "cell_type": "code",
   "execution_count": 48,
   "id": "2a3aa555",
   "metadata": {},
   "outputs": [
    {
     "name": "stdout",
     "output_type": "stream",
     "text": [
      "[1, 2, 3, 4, 5, 6, 7, 8, [5, 6, 7, 8]]\n"
     ]
    }
   ],
   "source": [
    "lst1.append(lst2)\n",
    "\n",
    "print(lst1)"
   ]
  },
  {
   "cell_type": "code",
   "execution_count": null,
   "id": "5e27a5cf",
   "metadata": {},
   "outputs": [],
   "source": [
    "#1. Extend modifies the original list. Concatenation gives us a new list as an output and if required for further processing\n",
    "# the new list must be saved to variable. \n",
    "#2. Concatenate works only between same datatype (in this case - lists). Extend allows you to extend using any iterables \n",
    "# elements"
   ]
  },
  {
   "cell_type": "code",
   "execution_count": 49,
   "id": "b91bd345",
   "metadata": {},
   "outputs": [
    {
     "name": "stdout",
     "output_type": "stream",
     "text": [
      "[1, 2, 3, 4, 5, 6, 7, 8, [5, 6, 7, 8]]\n"
     ]
    }
   ],
   "source": [
    "print(lst1)"
   ]
  },
  {
   "cell_type": "code",
   "execution_count": 50,
   "id": "e3888b96",
   "metadata": {},
   "outputs": [
    {
     "name": "stdout",
     "output_type": "stream",
     "text": [
      "(10, 20, 30) <class 'tuple'>\n"
     ]
    }
   ],
   "source": [
    "tup1 = 10,20,30\n",
    "\n",
    "\n",
    "print(tup1, type(tup1))"
   ]
  },
  {
   "cell_type": "code",
   "execution_count": 51,
   "id": "bdce0e53",
   "metadata": {},
   "outputs": [
    {
     "name": "stdout",
     "output_type": "stream",
     "text": [
      "[1, 2, 3, 4, 5, 6, 7, 8, [5, 6, 7, 8], 10, 20, 30]\n"
     ]
    }
   ],
   "source": [
    "lst1.extend(tup1)\n",
    "\n",
    "print(lst1)"
   ]
  },
  {
   "cell_type": "code",
   "execution_count": null,
   "id": "396e0541",
   "metadata": {},
   "outputs": [],
   "source": [
    "lst2 = list(range(5))\n",
    "print(lst2)\n",
    "\n",
    "lst_append(lst2, 1000)\n",
    "\n",
    "print(lst2)"
   ]
  },
  {
   "cell_type": "code",
   "execution_count": null,
   "id": "ac5adf91",
   "metadata": {},
   "outputs": [],
   "source": [
    "y = lst_append(lst1, 'Rinkey')\n",
    "\n",
    "\n",
    "print(y)\n",
    "print(lst1)\n",
    "              \n",
    "              "
   ]
  },
  {
   "cell_type": "code",
   "execution_count": 54,
   "id": "ca3cca58",
   "metadata": {},
   "outputs": [
    {
     "name": "stdout",
     "output_type": "stream",
     "text": [
      "['a', 'b', 'c', 'd', 'e']\n"
     ]
    }
   ],
   "source": [
    "lst5 = list('abcde')\n",
    "\n",
    "print(lst5)"
   ]
  },
  {
   "cell_type": "code",
   "execution_count": null,
   "id": "d5797e0e",
   "metadata": {},
   "outputs": [],
   "source": [
    "lst5.append(['I','J'])\n",
    "print(lst5)"
   ]
  },
  {
   "cell_type": "code",
   "execution_count": 55,
   "id": "82d5d869",
   "metadata": {},
   "outputs": [
    {
     "name": "stdout",
     "output_type": "stream",
     "text": [
      "['a', 'b', 'c', 'd', 'e', 'ij']\n"
     ]
    }
   ],
   "source": [
    "lst5.append('ij')\n",
    "print(lst5)\n",
    "\n",
    "#1. Individual elements\n",
    "#2. IJ - combined as one element will be appended. "
   ]
  },
  {
   "cell_type": "code",
   "execution_count": null,
   "id": "ee707c5c",
   "metadata": {},
   "outputs": [],
   "source": [
    "lst5.append(('i', 'j'))\n",
    "print(lst5)"
   ]
  },
  {
   "cell_type": "code",
   "execution_count": null,
   "id": "aa69e814",
   "metadata": {},
   "outputs": [],
   "source": [
    "#lst5.append('i')"
   ]
  },
  {
   "cell_type": "code",
   "execution_count": null,
   "id": "11e20e14",
   "metadata": {},
   "outputs": [],
   "source": [
    "def append_to_list(x, y):\n",
    "    x += [y]"
   ]
  },
  {
   "cell_type": "code",
   "execution_count": null,
   "id": "89a6dcd9",
   "metadata": {},
   "outputs": [],
   "source": [
    "lst1 = [1,2,3,4]\n",
    "#append_to_list(lst1, 4)\n",
    "\n",
    "print(lst1)"
   ]
  },
  {
   "cell_type": "code",
   "execution_count": null,
   "id": "316939f4",
   "metadata": {},
   "outputs": [],
   "source": [
    "lst2 = append_to_list(lst1,5)\n",
    "# append(5)\n",
    "print(lst2)\n",
    "print(lst1)"
   ]
  },
  {
   "cell_type": "code",
   "execution_count": null,
   "id": "b11f23df",
   "metadata": {},
   "outputs": [],
   "source": [
    "lst5 = list('abcde')\n",
    "\n",
    "print(lst5)"
   ]
  },
  {
   "cell_type": "code",
   "execution_count": null,
   "id": "73f595d7",
   "metadata": {},
   "outputs": [],
   "source": [
    "def hello():\n",
    "    print('hello')"
   ]
  },
  {
   "cell_type": "code",
   "execution_count": null,
   "id": "a4a5fb19",
   "metadata": {},
   "outputs": [],
   "source": [
    "def hello1():\n",
    "    return 'hello'"
   ]
  },
  {
   "cell_type": "code",
   "execution_count": null,
   "id": "416e453d",
   "metadata": {},
   "outputs": [],
   "source": [
    "x = hello()"
   ]
  },
  {
   "cell_type": "code",
   "execution_count": null,
   "id": "ca942c12",
   "metadata": {},
   "outputs": [],
   "source": [
    "print(x)"
   ]
  },
  {
   "cell_type": "code",
   "execution_count": null,
   "id": "49e06653",
   "metadata": {},
   "outputs": [],
   "source": [
    "y = hello1()"
   ]
  },
  {
   "cell_type": "code",
   "execution_count": null,
   "id": "794a0c0e",
   "metadata": {},
   "outputs": [],
   "source": [
    "print(y)"
   ]
  },
  {
   "cell_type": "code",
   "execution_count": null,
   "id": "128c496e",
   "metadata": {},
   "outputs": [],
   "source": [
    "lst5 = list('abcde')\n",
    "\n",
    "print(lst5)"
   ]
  },
  {
   "cell_type": "code",
   "execution_count": null,
   "id": "71abae62",
   "metadata": {},
   "outputs": [],
   "source": [
    "lst6 = lst5.append('f')\n",
    "\n",
    "print(lst6)"
   ]
  },
  {
   "cell_type": "code",
   "execution_count": null,
   "id": "2b61af90",
   "metadata": {},
   "outputs": [],
   "source": [
    "print(lst5)"
   ]
  },
  {
   "cell_type": "code",
   "execution_count": null,
   "id": "5398c88c",
   "metadata": {},
   "outputs": [],
   "source": [
    "print('Python')"
   ]
  },
  {
   "cell_type": "code",
   "execution_count": null,
   "id": "c738d29f",
   "metadata": {},
   "outputs": [],
   "source": [
    "x = print('Python')\n",
    "\n",
    "print(x)"
   ]
  },
  {
   "cell_type": "code",
   "execution_count": null,
   "id": "7bff0716",
   "metadata": {},
   "outputs": [],
   "source": [
    "print(lst5)"
   ]
  },
  {
   "cell_type": "code",
   "execution_count": null,
   "id": "f556a845",
   "metadata": {},
   "outputs": [],
   "source": [
    "#Append method modifies the ORIGINAL list and doesnt return anything. \n",
    "\n",
    "\n",
    "x = []\n",
    "\n",
    "for i in range(5):\n",
    "    x.append(i)   \n",
    "    \n",
    "print(x)"
   ]
  },
  {
   "cell_type": "code",
   "execution_count": null,
   "id": "8ee1fc3d",
   "metadata": {},
   "outputs": [],
   "source": [
    "lst1 = list(range(10))\n",
    "\n",
    "print(lst1)"
   ]
  },
  {
   "cell_type": "code",
   "execution_count": null,
   "id": "2bccf4bb",
   "metadata": {},
   "outputs": [],
   "source": [
    "def funct1():\n",
    "    return 'Hello'"
   ]
  },
  {
   "cell_type": "code",
   "execution_count": null,
   "id": "949f9265",
   "metadata": {},
   "outputs": [],
   "source": [
    "x = funct1()\n",
    "\n",
    "print(x)"
   ]
  },
  {
   "cell_type": "code",
   "execution_count": null,
   "id": "ef4b83cb",
   "metadata": {},
   "outputs": [],
   "source": [
    "def funct2():\n",
    "    print('Hello')"
   ]
  },
  {
   "cell_type": "code",
   "execution_count": null,
   "id": "d074d2ff",
   "metadata": {},
   "outputs": [],
   "source": [
    "y = funct2()\n",
    "\n",
    "print(y)"
   ]
  },
  {
   "cell_type": "code",
   "execution_count": null,
   "id": "7d0c3bd8",
   "metadata": {},
   "outputs": [],
   "source": [
    "lst2 = lst1.append(10)\n",
    "\n",
    "print('list2 :', lst2)\n",
    "\n",
    "print('list1 :', lst1)"
   ]
  },
  {
   "cell_type": "code",
   "execution_count": null,
   "id": "dd39aba8",
   "metadata": {},
   "outputs": [],
   "source": [
    "print(lst2 == lst1)"
   ]
  },
  {
   "cell_type": "code",
   "execution_count": null,
   "id": "64fd151d",
   "metadata": {},
   "outputs": [],
   "source": [
    "x = [1,2,3,4]\n",
    "y = x + [5,6,7,8]\n",
    "print(y)"
   ]
  },
  {
   "cell_type": "code",
   "execution_count": null,
   "id": "c4db2e0e",
   "metadata": {},
   "outputs": [],
   "source": [
    "a = id(y)\n",
    "\n",
    "print(a)"
   ]
  },
  {
   "cell_type": "code",
   "execution_count": null,
   "id": "630dddc8",
   "metadata": {},
   "outputs": [],
   "source": [
    "y += [9,10]\n",
    "b = id(y)\n",
    "print(y)"
   ]
  },
  {
   "cell_type": "code",
   "execution_count": null,
   "id": "aa66f5ae",
   "metadata": {},
   "outputs": [],
   "source": [
    "print(a, b)"
   ]
  },
  {
   "cell_type": "code",
   "execution_count": null,
   "id": "d09342dd",
   "metadata": {},
   "outputs": [],
   "source": [
    "lst6 = lst5.append('Try this out')\n",
    "\n",
    "print(lst6)\n",
    "print(lst5)"
   ]
  },
  {
   "cell_type": "code",
   "execution_count": null,
   "id": "d832ff79",
   "metadata": {},
   "outputs": [],
   "source": [
    "#If you recall, while performing operations like strip, center, rjust etc on string - the methods would return NEW string\n",
    "# objects. But in lists we CAN modifiy the original list. Why is this so?"
   ]
  },
  {
   "cell_type": "markdown",
   "id": "6dba2e81",
   "metadata": {},
   "source": [
    "##### Because Strings are immutable datatypes while lists are mutable."
   ]
  },
  {
   "cell_type": "code",
   "execution_count": null,
   "id": "ed874e2f",
   "metadata": {},
   "outputs": [],
   "source": [
    "#Before we move on to more methods which can be performded on the list datatype, I would like to illustrate 1 neat trick\n",
    "# and 1 special syntax for use with lists(and some other derived datatypes)"
   ]
  },
  {
   "cell_type": "code",
   "execution_count": null,
   "id": "cc6f2afd",
   "metadata": {},
   "outputs": [],
   "source": [
    "#A neat trick which is very commonly used is to use a range function to get the index numbers of the items in a list.\n",
    "\n",
    "#If you recall, the range object returns a range <object> with numbers in a sequence with specified parameters. \n",
    "#We also know that lists support indexing. \n",
    "#And that lists and range both support iteration.\n",
    "\n",
    "#We can use this to get the index numbers of each element inside a list. \n",
    "\n",
    "lst1 = list('abcdefghij')\n",
    "print(lst1)"
   ]
  },
  {
   "cell_type": "code",
   "execution_count": null,
   "id": "eb26afa6",
   "metadata": {},
   "outputs": [],
   "source": [
    "for element in lst1:\n",
    "    print(element)\n",
    "    "
   ]
  },
  {
   "cell_type": "code",
   "execution_count": null,
   "id": "fce97638",
   "metadata": {},
   "outputs": [],
   "source": [
    "#However, if I only wanted the index numbers of each of the elements in the lst1?\n",
    "\n",
    "for indexno in range(10):  #Here length of lst1 is 10\n",
    "    print(indexno)"
   ]
  },
  {
   "cell_type": "code",
   "execution_count": null,
   "id": "8c70a3ac",
   "metadata": {},
   "outputs": [],
   "source": [
    "# We could simplify this, since we have learnt that length function returns the length of a list\n",
    "\n",
    "for indexno in range(len(lst1)):\n",
    "    print(indexno)"
   ]
  },
  {
   "cell_type": "code",
   "execution_count": null,
   "id": "af890682",
   "metadata": {},
   "outputs": [],
   "source": [
    "# And since we know that indexing works on lists, to get each element of the lst1 I could use indexing to get the element\n",
    "# at that position. \n",
    "print(lst1)"
   ]
  },
  {
   "cell_type": "code",
   "execution_count": null,
   "id": "c8c7b2e1",
   "metadata": {},
   "outputs": [],
   "source": [
    "for i in range(len(lst1)):\n",
    "    print(lst1[i])"
   ]
  },
  {
   "cell_type": "code",
   "execution_count": null,
   "id": "b14a4687",
   "metadata": {},
   "outputs": [],
   "source": [
    "# But why go in a round about way to get the element at a certain position of a list?\n",
    "# Sometimes we need to work on an element in a list(or any other sequential datatype) based on their position in the list.\n",
    "\n",
    "lst1 = [17,20, 30, 11]\n",
    "\n",
    "#Add 1 to every element in lst1 and print it. "
   ]
  },
  {
   "cell_type": "code",
   "execution_count": null,
   "id": "120ec8d3",
   "metadata": {},
   "outputs": [],
   "source": [
    "for i in lst1:\n",
    "    print(i+1)"
   ]
  },
  {
   "cell_type": "code",
   "execution_count": null,
   "id": "bc5ff8ab",
   "metadata": {},
   "outputs": [],
   "source": [
    "lst2 = []\n",
    "\n",
    "for i in lst1:\n",
    "    lst2.append(i+1)\n",
    "    \n",
    "print(lst2)"
   ]
  },
  {
   "cell_type": "code",
   "execution_count": null,
   "id": "7fe99666",
   "metadata": {},
   "outputs": [],
   "source": [
    "print(lst1)"
   ]
  },
  {
   "cell_type": "code",
   "execution_count": null,
   "id": "03eb2f67",
   "metadata": {},
   "outputs": [],
   "source": [
    "for i in range(len(lst1)):\n",
    "    lst1[i] = lst1[i]+1\n",
    "    \n",
    "    \n",
    "print(lst1)\n",
    "    \n",
    "    \n"
   ]
  },
  {
   "cell_type": "code",
   "execution_count": null,
   "id": "7529cd94",
   "metadata": {},
   "outputs": [],
   "source": []
  },
  {
   "cell_type": "code",
   "execution_count": null,
   "id": "12091b61",
   "metadata": {},
   "outputs": [],
   "source": []
  },
  {
   "cell_type": "code",
   "execution_count": null,
   "id": "e24ab285",
   "metadata": {},
   "outputs": [],
   "source": []
  },
  {
   "cell_type": "code",
   "execution_count": null,
   "id": "dc35d14d",
   "metadata": {},
   "outputs": [],
   "source": []
  },
  {
   "cell_type": "code",
   "execution_count": null,
   "id": "609f4204",
   "metadata": {},
   "outputs": [],
   "source": [
    "for elem in lst1:\n",
    "    print(elem+1)\n",
    "    \n",
    "#Great! Problem solved."
   ]
  },
  {
   "cell_type": "code",
   "execution_count": null,
   "id": "c2edbb96",
   "metadata": {},
   "outputs": [],
   "source": [
    "#Add 1 to every 2ND element in lst1.\n",
    "\n",
    "lst1 = [17,20, 30, 11]\n"
   ]
  },
  {
   "cell_type": "code",
   "execution_count": null,
   "id": "93a3bdcc",
   "metadata": {},
   "outputs": [],
   "source": [
    "for elem in range(1,len(lst1),2):\n",
    "    print(f'Index number we are working on {elem}.')\n",
    "    print(f'Original value of element at that index position. {lst1[elem]}.')\n",
    "    print(f'New output = {lst1[elem]+1}.\\n-----------------------------')"
   ]
  },
  {
   "cell_type": "code",
   "execution_count": null,
   "id": "aa0e96bd",
   "metadata": {},
   "outputs": [],
   "source": [
    "print(lst1)"
   ]
  },
  {
   "cell_type": "code",
   "execution_count": null,
   "id": "14562334",
   "metadata": {},
   "outputs": [],
   "source": [
    "# Add 1 to the elements in lst 1 using a for loop. You can use a new list. Fairly easy?\n",
    "\n",
    "lst2 = []\n",
    "\n",
    "for x in lst1:\n",
    "    lst2.append(x+1)\n",
    "\n",
    "print(lst2)"
   ]
  },
  {
   "cell_type": "code",
   "execution_count": null,
   "id": "7fd4f9e1",
   "metadata": {},
   "outputs": [],
   "source": [
    "for x in lst1:\n",
    "    lst1[x] += 1\n",
    "    \n",
    "print(lst1)"
   ]
  },
  {
   "cell_type": "code",
   "execution_count": null,
   "id": "f8e2573b",
   "metadata": {},
   "outputs": [],
   "source": [
    "# Now lets try the same thing. But we cannot use a new list. \n",
    "\n",
    "lst1 = [17,20, 30, 11]\n",
    "\n",
    "for x in lst1:\n",
    "    lst1.append(x+1)\n",
    "    \n",
    "print(lst1)"
   ]
  },
  {
   "cell_type": "code",
   "execution_count": null,
   "id": "91ea8594",
   "metadata": {},
   "outputs": [],
   "source": [
    "#Note how this throws us into an infinite loop? Every time we append an item to lst1 - the length of list 1 grows and the\n",
    "#for loop continues to have to add 1 to the new elements created. So, thats out!"
   ]
  },
  {
   "cell_type": "code",
   "execution_count": null,
   "id": "0843c326",
   "metadata": {},
   "outputs": [],
   "source": [
    "# #How about if we try to change the value of the elements of lst1 in place? Try to reassign the value?\n",
    "\n",
    "lst1 = [17,20, 30, 11]\n",
    "\n",
    "for x in lst1:\n",
    "    x += 1\n",
    "    print(x)\n",
    "print(lst1)\n",
    "\n",
    "#Oops! We did update new values to temporary variable x, but that did us no good - we could not assign that value to \n",
    "# the list we were running the for loop on. But if we were to assign the new value of x to the index position of lst1\n",
    "# that would solve our problem right?\n"
   ]
  },
  {
   "cell_type": "code",
   "execution_count": null,
   "id": "01358bd5",
   "metadata": {},
   "outputs": [],
   "source": [
    "#We could individually assign the values of the list based on their index position. \n",
    "\n",
    "lst1[0] += 1\n",
    "lst1[1] += 1\n",
    "lst1[2] += 1\n",
    "lst1[3] += 1\n",
    "\n",
    "print(lst1)"
   ]
  },
  {
   "cell_type": "code",
   "execution_count": null,
   "id": "95f90d19",
   "metadata": {},
   "outputs": [],
   "source": [
    "#However using the concept of index positions, item assigment(since list is mutable) and the range function, we are able\n",
    "# to accomplish this easily.\n",
    "\n",
    "lst1 = [17,20,30,11]\n",
    "\n",
    "\n",
    "for x in range(len(lst1)):\n",
    "    lst1[x] += 1\n",
    "    \n",
    "print(lst1)"
   ]
  },
  {
   "cell_type": "code",
   "execution_count": null,
   "id": "51a2c42d",
   "metadata": {},
   "outputs": [],
   "source": [
    "# So, important takeaways from this excercise of using range functions with lists:\n",
    "\n",
    "# 1. We can use the range function to act as a proxy for the index numbers of a list.\n",
    "\n",
    "### PLEASE PLEASE understand that the range function is NOT a function that returns the index numbers of a list. What it \n",
    "# returns is a range of numbers(elements) between specified parameters. We then use this range object as a proxy for \n",
    "# index numbers of a list. There is a distinction between these two and it has taken me hours with individual\n",
    "# students making them unlearn and relearn their understanding of this idea. \n",
    "\n",
    "# 2. We can use the index numbers of a list, when we cannot (or do not want to) work on the elements of a list directly,\n",
    "# but need to perform operations on their index positions. \n"
   ]
  },
  {
   "cell_type": "code",
   "execution_count": null,
   "id": "5ad902c8",
   "metadata": {},
   "outputs": [],
   "source": [
    "str1 = 'sept 23rd batch is a great batch'\n",
    "\n",
    "str2 = ''"
   ]
  },
  {
   "cell_type": "code",
   "execution_count": null,
   "id": "c46cd8f3",
   "metadata": {},
   "outputs": [],
   "source": [
    "for i in range(len(str1)):\n",
    "    if str1[i-1] == ' ' or i == 0:\n",
    "        str2 = str2 + str1[i].upper()\n",
    "    else:\n",
    "        str2 = str2 + str1[i]\n",
    "        \n",
    "print(str2)"
   ]
  },
  {
   "cell_type": "code",
   "execution_count": null,
   "id": "f24655c3",
   "metadata": {},
   "outputs": [],
   "source": [
    "print(str2)"
   ]
  },
  {
   "cell_type": "code",
   "execution_count": null,
   "id": "b0104073",
   "metadata": {},
   "outputs": [],
   "source": []
  },
  {
   "cell_type": "code",
   "execution_count": null,
   "id": "227ddcc9",
   "metadata": {},
   "outputs": [],
   "source": []
  },
  {
   "cell_type": "code",
   "execution_count": null,
   "id": "ba1193b9",
   "metadata": {},
   "outputs": [],
   "source": []
  },
  {
   "cell_type": "code",
   "execution_count": null,
   "id": "0a404be1",
   "metadata": {},
   "outputs": [],
   "source": []
  },
  {
   "cell_type": "code",
   "execution_count": null,
   "id": "e10bb07d",
   "metadata": {},
   "outputs": [],
   "source": []
  },
  {
   "cell_type": "code",
   "execution_count": null,
   "id": "f0328bc3",
   "metadata": {},
   "outputs": [],
   "source": [
    "for x in range(len(str1)):\n",
    "    if str1[x-1] == \" \":\n",
    "        str2 += str1[x].upper()\n",
    "    else:\n",
    "        str2 += str1[x]\n",
    "print(str2)"
   ]
  },
  {
   "cell_type": "code",
   "execution_count": null,
   "id": "8a48cd2f",
   "metadata": {},
   "outputs": [],
   "source": [
    "# A cool syntax to use with lists is called list comprehension. It is short form of a for loop with lists. \n",
    "print(lst1)"
   ]
  },
  {
   "cell_type": "code",
   "execution_count": null,
   "id": "7199f336",
   "metadata": {},
   "outputs": [],
   "source": [
    "lst1 = [1,2,3,4]\n",
    "\n",
    "lst2 = []\n",
    "\n",
    "for x in lst1:\n",
    "    lst2.append(x+1)\n",
    "    \n",
    "print(lst2)"
   ]
  },
  {
   "cell_type": "code",
   "execution_count": null,
   "id": "974c856f",
   "metadata": {},
   "outputs": [],
   "source": [
    "lst3 = [x+1 for x in lst1]\n",
    "\n",
    "print(lst3)"
   ]
  },
  {
   "cell_type": "code",
   "execution_count": null,
   "id": "0de1f9e5",
   "metadata": {},
   "outputs": [],
   "source": [
    "lst_alpha = list('abcdefghij')\n",
    "\n",
    "lst4 = [x*3 for x in lst_alpha]\n",
    "\n",
    "print(lst4)\n",
    "print(type(lst4))"
   ]
  },
  {
   "cell_type": "code",
   "execution_count": null,
   "id": "2e7ba471",
   "metadata": {},
   "outputs": [],
   "source": [
    "lst1 = list('abcdefghijklmnopqrstuvwxyz')\n",
    "lst2 = list('ABCDEFGHIJKLMNOPQRSTUVWXYZ')\n",
    "\n",
    "\n",
    "print(lst1)\n",
    "print(lst2)"
   ]
  },
  {
   "cell_type": "code",
   "execution_count": null,
   "id": "f40ed796",
   "metadata": {},
   "outputs": [],
   "source": [
    "if both if - else are there in a list comprehension the syntax is if and else both should come before the for loop. \n",
    "\n",
    "if ONLY if condition is there in a list comprehension the syntax is if will come after the for loop. "
   ]
  },
  {
   "cell_type": "code",
   "execution_count": null,
   "id": "45590334",
   "metadata": {},
   "outputs": [],
   "source": [
    "lst5 = [lst1[x] for x in range(len(lst1)) if x%2 == 1]\n",
    "\n",
    "print(lst5)\n",
    "print(\"\".join(lst5))"
   ]
  },
  {
   "cell_type": "code",
   "execution_count": null,
   "id": "a3a670ff",
   "metadata": {},
   "outputs": [],
   "source": [
    "if / else AND only ONE if / else. You cannot have elif, you cannot have multiple if/else statement"
   ]
  },
  {
   "cell_type": "code",
   "execution_count": null,
   "id": "a85e3f73",
   "metadata": {},
   "outputs": [],
   "source": []
  },
  {
   "cell_type": "code",
   "execution_count": null,
   "id": "d0593208",
   "metadata": {},
   "outputs": [],
   "source": [
    "lst4 = [lst1[x]  if x%2==1 else lst2[x] for x in range(len(lst1))] \n",
    "\n",
    "print(lst4)\n",
    "print(\"\".join(lst4))"
   ]
  },
  {
   "cell_type": "code",
   "execution_count": null,
   "id": "add40c38",
   "metadata": {},
   "outputs": [],
   "source": [
    "lst4 = 'abcdefghij'"
   ]
  },
  {
   "cell_type": "code",
   "execution_count": null,
   "id": "d9bcb101",
   "metadata": {},
   "outputs": [],
   "source": [
    "#List comprehension\n",
    "\n",
    "1. Shorter syntax to use 3 steps of code\n",
    "initialize empty list\n",
    "for loop\n",
    "append to empty list\n",
    "\n",
    "[operation for temp var in iterable]\n",
    "\n",
    "\n",
    "2. Returns a new list object. CANNOT run comprehension on an object that already exists to add to its elements.\n",
    "\n",
    "3. Can use if else conditions in a comprehension. But - if only a if condition is present it will come after the for loop. \n",
    "If both if/else are present they will come before the for loop. \n",
    "\n",
    "4. Elif cannot be used in comprehension.\n",
    "\n"
   ]
  },
  {
   "cell_type": "code",
   "execution_count": null,
   "id": "193ed7a3",
   "metadata": {},
   "outputs": [],
   "source": [
    "tuple1 = tuple(range(10))\n",
    "\n",
    "lst_tup = [x * 5 for x in tuple1]\n",
    "\n",
    "print(lst_tup)"
   ]
  },
  {
   "cell_type": "code",
   "execution_count": null,
   "id": "09c9e392",
   "metadata": {},
   "outputs": [],
   "source": [
    "lst2 = [x*2 for x in lst1]\n",
    "\n",
    "print(lst2)"
   ]
  },
  {
   "cell_type": "code",
   "execution_count": null,
   "id": "590aeda9",
   "metadata": {},
   "outputs": [],
   "source": [
    "lst3 = []\n",
    "for x in lst1:\n",
    "    lst3.append(x+1)\n",
    "print(lst3)\n",
    "    "
   ]
  },
  {
   "cell_type": "code",
   "execution_count": null,
   "id": "1390db73",
   "metadata": {},
   "outputs": [],
   "source": [
    "#It returns a new list object based using the for loop in one line of efficient easy code. \n",
    "\n",
    "#it works on any iterable. \n",
    "\n",
    "lst1 = ['abcde','fghij','Tuhin']\n",
    "\n",
    "# str1 = 'abcdef'\n",
    "lst3 = [x[::-1] for x in lst1]\n",
    "print(lst3)"
   ]
  },
  {
   "cell_type": "code",
   "execution_count": null,
   "id": "faa4d871",
   "metadata": {},
   "outputs": [],
   "source": [
    "print(lst4)"
   ]
  },
  {
   "cell_type": "code",
   "execution_count": null,
   "id": "fb5e1118",
   "metadata": {},
   "outputs": [],
   "source": [
    "x = 4\n",
    "\n",
    "if x > 5:\n",
    "    print('A')\n",
    "    if x > 0:\n",
    "        print('B')\n",
    "    else:\n",
    "        print('C')"
   ]
  },
  {
   "cell_type": "code",
   "execution_count": null,
   "id": "435c6168",
   "metadata": {},
   "outputs": [],
   "source": [
    "x = 10\n",
    "\n",
    "if x > 5:\n",
    "    print('A')\n",
    "else:\n",
    "    print('B')\n",
    "    if x < 0:\n",
    "        print('C')\n",
    "    else:\n",
    "        print('D')"
   ]
  },
  {
   "cell_type": "code",
   "execution_count": null,
   "id": "b286ad1e",
   "metadata": {},
   "outputs": [],
   "source": [
    "lst4a = [0,10,13,12,17,6]\n",
    "lst5a = []\n",
    "\n",
    "\n",
    "for x in lst4a:\n",
    "    if x%2 == 1:\n",
    "        lst5a.append(x+1)\n",
    "    else:\n",
    "        if x > 10:\n",
    "            lst5a.append(x*5)\n",
    "        else:\n",
    "            lst5a.append(x)\n",
    "            \n",
    "            \n",
    "print(lst5a)"
   ]
  },
  {
   "cell_type": "code",
   "execution_count": null,
   "id": "2e1e98d8",
   "metadata": {},
   "outputs": [],
   "source": [
    "# Can have only one if/else suite - that means any more if/else will be treated as nested if/else"
   ]
  },
  {
   "cell_type": "code",
   "execution_count": 1,
   "id": "eb904710",
   "metadata": {},
   "outputs": [
    {
     "name": "stdout",
     "output_type": "stream",
     "text": [
      "[0, 10, 14, 60, 18, 6]\n"
     ]
    }
   ],
   "source": [
    "lst4 = [0,10,13,12,17,6]\n",
    "\n",
    "lst5 = [x+1 if x%2 == 1 else x*5 if x>10 else x for x in lst4]\n",
    "\n",
    "print(lst5)"
   ]
  },
  {
   "cell_type": "code",
   "execution_count": null,
   "id": "4e2ca0c4",
   "metadata": {},
   "outputs": [],
   "source": [
    "if x%2 == 1:\n",
    "    append(x+1)\n",
    "else:\n",
    "    if x>10:\n",
    "        append(x*5)\n",
    "    else:\n",
    "        append(x)"
   ]
  },
  {
   "cell_type": "code",
   "execution_count": 3,
   "id": "00c4ea36",
   "metadata": {},
   "outputs": [
    {
     "name": "stdout",
     "output_type": "stream",
     "text": [
      "['__add__', '__class__', '__class_getitem__', '__contains__', '__delattr__', '__delitem__', '__dir__', '__doc__', '__eq__', '__format__', '__ge__', '__getattribute__', '__getitem__', '__gt__', '__hash__', '__iadd__', '__imul__', '__init__', '__init_subclass__', '__iter__', '__le__', '__len__', '__lt__', '__mul__', '__ne__', '__new__', '__reduce__', '__reduce_ex__', '__repr__', '__reversed__', '__rmul__', '__setattr__', '__setitem__', '__sizeof__', '__str__', '__subclasshook__', 'append', 'clear', 'copy', 'count', 'extend', 'index', 'insert', 'pop', 'remove', 'reverse', 'sort']\n"
     ]
    }
   ],
   "source": [
    "print(dir(list))"
   ]
  },
  {
   "cell_type": "code",
   "execution_count": 4,
   "id": "0aefad08",
   "metadata": {},
   "outputs": [
    {
     "name": "stdout",
     "output_type": "stream",
     "text": [
      "['__and__', '__class__', '__class_getitem__', '__contains__', '__delattr__', '__dir__', '__doc__', '__eq__', '__format__', '__ge__', '__getattribute__', '__gt__', '__hash__', '__iand__', '__init__', '__init_subclass__', '__ior__', '__isub__', '__iter__', '__ixor__', '__le__', '__len__', '__lt__', '__ne__', '__new__', '__or__', '__rand__', '__reduce__', '__reduce_ex__', '__repr__', '__ror__', '__rsub__', '__rxor__', '__setattr__', '__sizeof__', '__str__', '__sub__', '__subclasshook__', '__xor__', 'add', 'clear', 'copy', 'difference', 'difference_update', 'discard', 'intersection', 'intersection_update', 'isdisjoint', 'issubset', 'issuperset', 'pop', 'remove', 'symmetric_difference', 'symmetric_difference_update', 'union', 'update']\n"
     ]
    }
   ],
   "source": [
    "print(dir(set))"
   ]
  },
  {
   "cell_type": "code",
   "execution_count": null,
   "id": "ebca9643",
   "metadata": {},
   "outputs": [],
   "source": [
    "lst4 = [0,10,13,12,17,6]\n",
    "\n",
    "lst5 = []\n",
    "\n",
    "for x in lst4:\n",
    "    if x%2 == 1:\n",
    "        lst5.append(x+1)\n",
    "    else:\n",
    "        if x>10:\n",
    "            lst5.append(x*5)\n",
    "        else:\n",
    "            lst5.append(x)\n",
    "            \n",
    "print(lst5)"
   ]
  },
  {
   "cell_type": "code",
   "execution_count": null,
   "id": "3ca5974e",
   "metadata": {},
   "outputs": [],
   "source": [
    "lst6 = []\n",
    "\n",
    "for x in lst4:\n",
    "    if x%2 == 1:\n",
    "        lst6.append(x+1)\n",
    "    else:\n",
    "        lst6.append(x)\n",
    "        \n",
    "        \n",
    "print(lst6)"
   ]
  },
  {
   "cell_type": "code",
   "execution_count": null,
   "id": "618c51aa",
   "metadata": {},
   "outputs": [],
   "source": [
    "lst7 = [x+1 for x in lst4 if x%2 == 1]\n",
    "\n",
    "print(lst7)\n"
   ]
  },
  {
   "cell_type": "code",
   "execution_count": null,
   "id": "3968a870",
   "metadata": {},
   "outputs": [],
   "source": [
    "lstx = [0,2,7,11,20,4,6]\n",
    "\n",
    "lstx1 = []\n",
    "for i in lstx:\n",
    "    if i > 5 :\n",
    "        #lstx1.append(i*2)\n",
    "        if i > 10 :\n",
    "            lstx1.append(i*2)\n",
    "        \n",
    "print(lstx1)\n",
    "        "
   ]
  },
  {
   "cell_type": "code",
   "execution_count": null,
   "id": "b332d6ed",
   "metadata": {},
   "outputs": [],
   "source": [
    "lstx2 = [i*2 for i in lstx if i > 5 if i > 10]\n",
    "\n",
    "print(lstx2)"
   ]
  },
  {
   "cell_type": "code",
   "execution_count": null,
   "id": "c6745aa5",
   "metadata": {},
   "outputs": [],
   "source": [
    "a = 4\n",
    "\n",
    "if a > 10:\n",
    "    print(a)\n",
    "elif a > 5:\n",
    "    print(a*2)\n",
    "else:\n",
    "    print('less than 5')"
   ]
  },
  {
   "cell_type": "code",
   "execution_count": null,
   "id": "a37de47f",
   "metadata": {},
   "outputs": [],
   "source": [
    "lst5a = []\n",
    "\n",
    "for x in lst4:\n",
    "    if x%2 == 1:\n",
    "        lst5a.append(x+1)\n",
    "    else:\n",
    "        lst5a.append(x)\n",
    "print(lst5a)"
   ]
  },
  {
   "cell_type": "code",
   "execution_count": null,
   "id": "14c186a8",
   "metadata": {},
   "outputs": [],
   "source": [
    "print(lst4)"
   ]
  },
  {
   "cell_type": "code",
   "execution_count": null,
   "id": "ef91a888",
   "metadata": {},
   "outputs": [],
   "source": [
    "lst6 = [x for x in lst4 if x%2 == 1]\n",
    "\n",
    "print(lst6)"
   ]
  },
  {
   "cell_type": "code",
   "execution_count": null,
   "id": "46401ab3",
   "metadata": {},
   "outputs": [],
   "source": [
    "#Note importantly how if we are using both if and else then if else condition comes before the for loop otherwise if only using if\n",
    "# condition this comes after teh for loop. \n",
    "# Also note that do not specify the else condition then for elements that do not satisfy the if condition, nothing is done\n",
    "# and they are not included in the new list. \n",
    "\n"
   ]
  },
  {
   "cell_type": "code",
   "execution_count": null,
   "id": "e8771aa5",
   "metadata": {},
   "outputs": [],
   "source": [
    "print(lst1)"
   ]
  },
  {
   "cell_type": "code",
   "execution_count": null,
   "id": "5a4383cd",
   "metadata": {},
   "outputs": [],
   "source": [
    "lst1 = [x for x in range(10)]\n",
    "print(lst1)"
   ]
  },
  {
   "cell_type": "code",
   "execution_count": null,
   "id": "3cd08aa6",
   "metadata": {},
   "outputs": [],
   "source": [
    "for x in lst1:\n",
    "    if x%2 == 0:\n",
    "        if x%4 == 0:\n",
    "            print(x)\n",
    "\n",
    "#     if x%4 == 0:\n",
    "#         print(x)"
   ]
  },
  {
   "cell_type": "code",
   "execution_count": null,
   "id": "90d06754",
   "metadata": {},
   "outputs": [],
   "source": [
    "# You can use multiple if statements in the list comprehension.\n",
    "\n",
    "print(lst1)\n",
    "\n",
    "lst7 = [x for x in lst1]\n",
    "print(lst7)\n",
    "\n",
    "# The expressions that satisfy all the if conditions will be output to the new list. \n",
    "\n",
    "#However, you cannot use multiple if statements with an else statement. There is a workaround to this which we will \n",
    "# discuss when discussing loops and conditional statements further in the course. "
   ]
  },
  {
   "cell_type": "code",
   "execution_count": null,
   "id": "0ef8bbb1",
   "metadata": {},
   "outputs": [],
   "source": [
    "lst1 = list(range(10))\n",
    "\n",
    "\n",
    "print(lst1)"
   ]
  },
  {
   "cell_type": "code",
   "execution_count": null,
   "id": "84e6f2ca",
   "metadata": {},
   "outputs": [],
   "source": [
    "for x in range(len(lst1)):\n",
    "    for y in range(len(lst1)-1):\n",
    "        if lst1[y]%2 == 1:\n",
    "            temp = lst1[y]\n",
    "            lst1[y] = lst1[y+1]\n",
    "            lst1[y+1] = temp\n",
    "        print(lst1)\n",
    "print(lst1)"
   ]
  },
  {
   "cell_type": "code",
   "execution_count": null,
   "id": "d511f973",
   "metadata": {},
   "outputs": [],
   "source": [
    "#At the time of discussing loops, we shall also look at nested for loops for normal lists and also their use in list\n",
    "# comprehension. "
   ]
  },
  {
   "cell_type": "code",
   "execution_count": null,
   "id": "cd91f6cf",
   "metadata": {},
   "outputs": [],
   "source": [
    "#So, from what we have learnt we can easily use the range function to return a list of numbers to us.\n",
    "\n",
    "# normal for loop. \n",
    "\n",
    "lst = []\n",
    "for x in range(10):\n",
    "    lst.append(x)\n",
    "    \n",
    "print(lst)\n",
    "    "
   ]
  },
  {
   "cell_type": "code",
   "execution_count": null,
   "id": "f1723070",
   "metadata": {},
   "outputs": [],
   "source": [
    "\n",
    "\n",
    "lst = []\n",
    "for x in range(50,70,2):\n",
    "    lst.append(x)\n",
    "    \n",
    "print(lst)"
   ]
  },
  {
   "cell_type": "code",
   "execution_count": null,
   "id": "f010dd58",
   "metadata": {},
   "outputs": [],
   "source": [
    "#And using list comprehension\n",
    "\n",
    "lst = [x for x in range(20)]\n",
    "print(lst)"
   ]
  },
  {
   "cell_type": "code",
   "execution_count": null,
   "id": "cd753070",
   "metadata": {},
   "outputs": [],
   "source": [
    "lst = [x for x in range(50,70,2)]\n",
    "print(lst)"
   ]
  },
  {
   "cell_type": "code",
   "execution_count": null,
   "id": "6e4aa9d7",
   "metadata": {},
   "outputs": [],
   "source": [
    "#Note how using list comprehension - I did not have to reassign variable lst to a new empty list? What would happen in\n",
    "# the normal for loop if I were to not reassign a new empty list to lst? \n",
    "\n",
    "lst = []\n",
    "\n",
    "for x in range(20):\n",
    "    lst.append(x)\n",
    "print(lst)\n",
    "\n",
    "for x in range(50,70,2):\n",
    "    lst.append(x)\n",
    "\n",
    "print(lst)"
   ]
  },
  {
   "cell_type": "code",
   "execution_count": null,
   "id": "d0a496f4",
   "metadata": {},
   "outputs": [],
   "source": [
    "lst1 = [x for x in range(5)]\n",
    "\n",
    "print(lst1)"
   ]
  },
  {
   "cell_type": "code",
   "execution_count": null,
   "id": "9cb8c947",
   "metadata": {},
   "outputs": [],
   "source": [
    "lstcomp = [[x+y for x in range(5)] for y in range(5)]\n",
    "\n",
    "print(lstcomp)"
   ]
  },
  {
   "cell_type": "code",
   "execution_count": null,
   "id": "f7cae6f2",
   "metadata": {},
   "outputs": [],
   "source": [
    "a=[[3,5],[1,2],[6,7]]\n",
    "print(a[1:][:1])"
   ]
  },
  {
   "cell_type": "code",
   "execution_count": null,
   "id": "16dd5029",
   "metadata": {},
   "outputs": [],
   "source": [
    "print(a[1:])"
   ]
  },
  {
   "cell_type": "code",
   "execution_count": null,
   "id": "b0515a1b",
   "metadata": {},
   "outputs": [],
   "source": [
    "x = a[1:]\n",
    "\n",
    "print(x)"
   ]
  },
  {
   "cell_type": "code",
   "execution_count": null,
   "id": "e4bb9457",
   "metadata": {},
   "outputs": [],
   "source": [
    "x[:1]"
   ]
  },
  {
   "cell_type": "code",
   "execution_count": null,
   "id": "0fdd309d",
   "metadata": {},
   "outputs": [],
   "source": [
    "lstcomp = []\n",
    "\n",
    "for y in range(5):\n",
    "    temp_lst = []\n",
    "    for x in range(5):\n",
    "        temp_lst.append(x+y)\n",
    "    lstcomp.append(temp_lst)\n",
    "\n",
    "    \n",
    "print(lstcomp)"
   ]
  },
  {
   "cell_type": "code",
   "execution_count": null,
   "id": "186854e0",
   "metadata": {},
   "outputs": [],
   "source": [
    "y comprehension - 0,1,2,3,4\n",
    "\n",
    "\n",
    "x comprehension - 0,1,2,3,4\n",
    "\n",
    "\n",
    "2+0 = [2\n",
    "2+1 = 3\n",
    "2+2 = 4\n",
    "2+3 = 5\n",
    "2+4 = 6]"
   ]
  },
  {
   "cell_type": "code",
   "execution_count": null,
   "id": "ab0773ff",
   "metadata": {},
   "outputs": [],
   "source": [
    "var1 = 4 "
   ]
  },
  {
   "cell_type": "code",
   "execution_count": null,
   "id": "bffc586a",
   "metadata": {},
   "outputs": [],
   "source": [
    "#While the above examples were just to understand the use and differences between for loops with lists and list\n",
    "# comprehension, the easiest way to actually create the above lists would be: \n",
    "\n",
    "lst = list(range(20))\n",
    "\n",
    "print(lst)"
   ]
  },
  {
   "cell_type": "code",
   "execution_count": null,
   "id": "703f301c",
   "metadata": {},
   "outputs": [],
   "source": [
    "lst = list(range(50,70,2))\n",
    "print(lst)"
   ]
  },
  {
   "cell_type": "code",
   "execution_count": null,
   "id": "343eb7ef",
   "metadata": {},
   "outputs": [],
   "source": [
    "# You would probably use for and lists or list comprehensions to perform much more complex tasks than just creating\n",
    "# a list of numbers. "
   ]
  },
  {
   "cell_type": "code",
   "execution_count": null,
   "id": "591a8412",
   "metadata": {},
   "outputs": [],
   "source": [
    "# Delete, remove and pop - Uses and differences in Python\n",
    "\n",
    "# Delete is a Python keyword and works on deleting any Python object."
   ]
  },
  {
   "cell_type": "code",
   "execution_count": null,
   "id": "dd56f1ee",
   "metadata": {},
   "outputs": [],
   "source": []
  },
  {
   "cell_type": "code",
   "execution_count": null,
   "id": "80ca2a44",
   "metadata": {},
   "outputs": [],
   "source": [
    "lst = list(range(1,10))\n",
    "\n",
    "print(lst)\n",
    "print(id(lst))"
   ]
  },
  {
   "cell_type": "markdown",
   "id": "ae5bb6b0",
   "metadata": {},
   "source": [
    "#### lst.clear()\n",
    "print(lst)\n",
    "print(id(lst))"
   ]
  },
  {
   "cell_type": "code",
   "execution_count": 62,
   "id": "8441a834",
   "metadata": {},
   "outputs": [
    {
     "name": "stdout",
     "output_type": "stream",
     "text": [
      "[0, 1, 2, 3, 4, 5, 6, 7, 8, 9]\n",
      "1365159825344\n"
     ]
    }
   ],
   "source": [
    "lst1 = list(range(10))\n",
    "\n",
    "print(lst1)\n",
    "print(id(lst1))"
   ]
  },
  {
   "cell_type": "code",
   "execution_count": 57,
   "id": "d4bf48fe",
   "metadata": {},
   "outputs": [
    {
     "name": "stdout",
     "output_type": "stream",
     "text": [
      "[]\n",
      "1365159826944\n"
     ]
    }
   ],
   "source": [
    "lst1.clear()\n",
    "\n",
    "print(lst1)\n",
    "print(id(lst1))"
   ]
  },
  {
   "cell_type": "code",
   "execution_count": 63,
   "id": "b895b025",
   "metadata": {},
   "outputs": [
    {
     "name": "stdout",
     "output_type": "stream",
     "text": [
      "[0, 1, 2, 3, 5, 6, 7, 8, 9]\n"
     ]
    }
   ],
   "source": [
    "del(lst1[4])\n",
    "\n",
    "print(lst1)"
   ]
  },
  {
   "cell_type": "code",
   "execution_count": null,
   "id": "e657d9cb",
   "metadata": {},
   "outputs": [],
   "source": [
    "print(id(lst))"
   ]
  },
  {
   "cell_type": "code",
   "execution_count": null,
   "id": "a299f479",
   "metadata": {},
   "outputs": [],
   "source": [
    "# With lists and list indexing it will remove the element at specified index position of the list\n",
    "\n",
    "del(lst[2])\n",
    "print(lst)\n",
    "\n",
    "#Note here how it deleted the object at the 2nd index position and not the value 2 inside the list."
   ]
  },
  {
   "cell_type": "code",
   "execution_count": null,
   "id": "ff0e8a08",
   "metadata": {},
   "outputs": [],
   "source": [
    "# With no index number provided it will delete the whole list object. \n",
    "\n",
    "del(lst)"
   ]
  },
  {
   "cell_type": "code",
   "execution_count": null,
   "id": "c1653ecb",
   "metadata": {},
   "outputs": [],
   "source": []
  },
  {
   "cell_type": "code",
   "execution_count": null,
   "id": "f0d0be54",
   "metadata": {},
   "outputs": [],
   "source": [
    "print(lst)"
   ]
  },
  {
   "cell_type": "code",
   "execution_count": 64,
   "id": "1c0371a6",
   "metadata": {},
   "outputs": [
    {
     "name": "stdout",
     "output_type": "stream",
     "text": [
      "[1, 2, 54, 55, 56, 57, 58, 60, 100, 111]\n"
     ]
    }
   ],
   "source": [
    "lst = [1, 2, 54, 55, 56, 57, 58, 60, 100, 111]\n",
    "print(lst)"
   ]
  },
  {
   "cell_type": "code",
   "execution_count": 65,
   "id": "7aa134a0",
   "metadata": {},
   "outputs": [],
   "source": [
    "del(lst[2:4])"
   ]
  },
  {
   "cell_type": "code",
   "execution_count": 66,
   "id": "b7a5dd37",
   "metadata": {},
   "outputs": [
    {
     "name": "stdout",
     "output_type": "stream",
     "text": [
      "[1, 2, 56, 57, 58, 60, 100, 111]\n"
     ]
    }
   ],
   "source": [
    "print(lst)"
   ]
  },
  {
   "cell_type": "code",
   "execution_count": null,
   "id": "f8604c43",
   "metadata": {},
   "outputs": [],
   "source": [
    "lst.clear()\n",
    "\n",
    "print(lst)"
   ]
  },
  {
   "cell_type": "code",
   "execution_count": null,
   "id": "7610b26a",
   "metadata": {},
   "outputs": [],
   "source": [
    "lst = list(range(1,10))\n",
    "\n",
    "lst.append(20)\n",
    "print(lst)\n",
    "\n",
    "print(len(lst))"
   ]
  },
  {
   "cell_type": "code",
   "execution_count": null,
   "id": "ae6c573b",
   "metadata": {},
   "outputs": [],
   "source": [
    "del(lst[::2])\n",
    "print(lst)\n",
    "\n",
    "#Note here how we get an IndexError - since len of list is only 10"
   ]
  },
  {
   "cell_type": "code",
   "execution_count": null,
   "id": "f4485e90",
   "metadata": {},
   "outputs": [],
   "source": [
    "lst = list(range(1,10))\n",
    "print(lst)"
   ]
  },
  {
   "cell_type": "code",
   "execution_count": null,
   "id": "3ebb2635",
   "metadata": {},
   "outputs": [],
   "source": [
    "lst1 = [1,2,3,4]\n",
    "lst2 = [5,6,7,8]\n",
    "\n",
    "del(lst1, lst2)\n",
    "\n"
   ]
  },
  {
   "cell_type": "code",
   "execution_count": null,
   "id": "954b2953",
   "metadata": {},
   "outputs": [],
   "source": [
    "print(lst1)"
   ]
  },
  {
   "cell_type": "code",
   "execution_count": null,
   "id": "6198d5e9",
   "metadata": {},
   "outputs": [],
   "source": [
    "print(lst2)"
   ]
  },
  {
   "cell_type": "code",
   "execution_count": null,
   "id": "69869476",
   "metadata": {},
   "outputs": [],
   "source": [
    "x = 1001\n",
    "y = 2002\n",
    "\n",
    "lst1 = [1,2,3,x, y, 4]\n",
    "\n",
    "print(lst1)"
   ]
  },
  {
   "cell_type": "code",
   "execution_count": null,
   "id": "0715b707",
   "metadata": {},
   "outputs": [],
   "source": [
    "del(lst1[3])\n",
    "\n",
    "print(lst1)"
   ]
  },
  {
   "cell_type": "code",
   "execution_count": null,
   "id": "817ecf28",
   "metadata": {},
   "outputs": [],
   "source": [
    "print(x)\n",
    "\n",
    "#Note how the object x is deleted from list but not from memory."
   ]
  },
  {
   "cell_type": "code",
   "execution_count": null,
   "id": "6ae13acd",
   "metadata": {},
   "outputs": [],
   "source": [
    "del(x)\n",
    "print(x)"
   ]
  },
  {
   "cell_type": "code",
   "execution_count": null,
   "id": "b60bb8c7",
   "metadata": {},
   "outputs": [],
   "source": [
    "x = 1001\n",
    "\n",
    "lst1.append(x)\n",
    "print(lst1)\n",
    "\n",
    "print(id(x))\n",
    "print(id(lst1[-1]))"
   ]
  },
  {
   "cell_type": "code",
   "execution_count": null,
   "id": "e66fb28e",
   "metadata": {},
   "outputs": [],
   "source": [
    "del(x)\n",
    "print(x)"
   ]
  },
  {
   "cell_type": "code",
   "execution_count": null,
   "id": "1b689cb1",
   "metadata": {},
   "outputs": [],
   "source": [
    "print(lst1)\n",
    "print(id(lst1[-1]))\n",
    "\n",
    "#Note how even though object is supposedly removed from memory, since there is another reference to it inside the list\n",
    "#object, it remains in memory i.e. it has not been deleted. "
   ]
  },
  {
   "cell_type": "code",
   "execution_count": null,
   "id": "24db3dbf",
   "metadata": {},
   "outputs": [],
   "source": [
    "#Delete can also be used to delete a range of objects from the list\n",
    "\n",
    "lst1 = list(range(1,10))\n",
    "print(lst1)"
   ]
  },
  {
   "cell_type": "code",
   "execution_count": null,
   "id": "1002fe5a",
   "metadata": {},
   "outputs": [],
   "source": [
    "del(lst1[1:4])\n",
    "\n",
    "print(lst1)"
   ]
  },
  {
   "cell_type": "code",
   "execution_count": null,
   "id": "a67bc4a8",
   "metadata": {},
   "outputs": [],
   "source": [
    "del(lst1[4])"
   ]
  },
  {
   "cell_type": "code",
   "execution_count": null,
   "id": "bc46c069",
   "metadata": {},
   "outputs": [],
   "source": [
    "print(lst1)"
   ]
  },
  {
   "cell_type": "code",
   "execution_count": null,
   "id": "a5ff1e02",
   "metadata": {},
   "outputs": [],
   "source": [
    "lst1 = list('abcdefghij')"
   ]
  },
  {
   "cell_type": "code",
   "execution_count": null,
   "id": "d9305d09",
   "metadata": {},
   "outputs": [],
   "source": [
    "print(lst1)"
   ]
  },
  {
   "cell_type": "code",
   "execution_count": null,
   "id": "3028a885",
   "metadata": {},
   "outputs": [],
   "source": [
    "lst1.remove('d')\n",
    "\n",
    "print(lst1)\n",
    "\n",
    "lst2 = lst1\n",
    "\n",
    "print(lst2)"
   ]
  },
  {
   "cell_type": "code",
   "execution_count": null,
   "id": "4cf3dacb",
   "metadata": {},
   "outputs": [],
   "source": [
    "#Note here - how remove method removed the element with the value of 2. "
   ]
  },
  {
   "cell_type": "code",
   "execution_count": 67,
   "id": "87f9cabe",
   "metadata": {},
   "outputs": [
    {
     "name": "stdout",
     "output_type": "stream",
     "text": [
      "['__add__', '__class__', '__class_getitem__', '__contains__', '__delattr__', '__delitem__', '__dir__', '__doc__', '__eq__', '__format__', '__ge__', '__getattribute__', '__getitem__', '__gt__', '__hash__', '__iadd__', '__imul__', '__init__', '__init_subclass__', '__iter__', '__le__', '__len__', '__lt__', '__mul__', '__ne__', '__new__', '__reduce__', '__reduce_ex__', '__repr__', '__reversed__', '__rmul__', '__setattr__', '__setitem__', '__sizeof__', '__str__', '__subclasshook__', 'append', 'clear', 'copy', 'count', 'extend', 'index', 'insert', 'pop', 'remove', 'reverse', 'sort']\n"
     ]
    }
   ],
   "source": [
    "print(dir(list))"
   ]
  },
  {
   "cell_type": "code",
   "execution_count": 74,
   "id": "c83ffdac",
   "metadata": {},
   "outputs": [
    {
     "name": "stdout",
     "output_type": "stream",
     "text": [
      "[0, 1, 2, 3, 4, 5, 6, 7, 8, 9] 1365160008256\n",
      "[0, 1, 2, 3, 4, 5, 6, 7, 8, 9] 1365159039296\n"
     ]
    }
   ],
   "source": [
    "lst1 = list(range(10))\n",
    "\n",
    "lst2 = lst1.copy()\n",
    "\n",
    "\n",
    "print(lst1, id(lst1))\n",
    "print(lst2, id(lst2))"
   ]
  },
  {
   "cell_type": "code",
   "execution_count": 79,
   "id": "17111994",
   "metadata": {},
   "outputs": [],
   "source": [
    "lst1.append(3)"
   ]
  },
  {
   "cell_type": "code",
   "execution_count": 80,
   "id": "c9eb2f31",
   "metadata": {},
   "outputs": [
    {
     "name": "stdout",
     "output_type": "stream",
     "text": [
      "[0, 1, 2, 3, 4, 5, 6, 7, 8, 9, 3, 3, 3]\n"
     ]
    }
   ],
   "source": [
    "print(lst1)"
   ]
  },
  {
   "cell_type": "code",
   "execution_count": 73,
   "id": "d46f5863",
   "metadata": {},
   "outputs": [
    {
     "name": "stdout",
     "output_type": "stream",
     "text": [
      "4\n"
     ]
    }
   ],
   "source": [
    "x = lst1.count(3)\n",
    "\n",
    "\n",
    "print(x)"
   ]
  },
  {
   "cell_type": "code",
   "execution_count": 82,
   "id": "1e5c2150",
   "metadata": {},
   "outputs": [
    {
     "name": "stdout",
     "output_type": "stream",
     "text": [
      "[11, 16, 21, 26, 31, 36, 41, 46, 51, 56, 61, 66]\n"
     ]
    }
   ],
   "source": [
    "lst1 = list(range(11,71,5))\n",
    "\n",
    "print(lst1)"
   ]
  },
  {
   "cell_type": "code",
   "execution_count": 89,
   "id": "f69b1822",
   "metadata": {},
   "outputs": [
    {
     "name": "stdout",
     "output_type": "stream",
     "text": [
      "11\n"
     ]
    }
   ],
   "source": [
    "x = lst1.index(66)\n",
    "\n",
    "print(x)"
   ]
  },
  {
   "cell_type": "code",
   "execution_count": null,
   "id": "495fd896",
   "metadata": {},
   "outputs": [],
   "source": [
    "#find, rfind or rindex - that are available in strings are not available for lists. "
   ]
  },
  {
   "cell_type": "code",
   "execution_count": 90,
   "id": "32a46a8d",
   "metadata": {},
   "outputs": [
    {
     "name": "stdout",
     "output_type": "stream",
     "text": [
      "[1, 2, 3, 4, 5, 6, 7, 8, 9]\n"
     ]
    }
   ],
   "source": [
    "lst = list(range(1,10))\n",
    "print(lst)"
   ]
  },
  {
   "cell_type": "code",
   "execution_count": 97,
   "id": "5606f595",
   "metadata": {},
   "outputs": [
    {
     "name": "stdout",
     "output_type": "stream",
     "text": [
      "[1, 2, 3, 25, 25, 25, 4, 5, 6, 7, 8, 25, 9, 25, 25]\n"
     ]
    }
   ],
   "source": [
    "lst.insert(10000,25)\n",
    "print(lst)"
   ]
  },
  {
   "cell_type": "code",
   "execution_count": 96,
   "id": "c9386435",
   "metadata": {},
   "outputs": [
    {
     "name": "stdout",
     "output_type": "stream",
     "text": [
      "['__add__', '__class__', '__class_getitem__', '__contains__', '__delattr__', '__delitem__', '__dir__', '__doc__', '__eq__', '__format__', '__ge__', '__getattribute__', '__getitem__', '__gt__', '__hash__', '__iadd__', '__imul__', '__init__', '__init_subclass__', '__iter__', '__le__', '__len__', '__lt__', '__mul__', '__ne__', '__new__', '__reduce__', '__reduce_ex__', '__repr__', '__reversed__', '__rmul__', '__setattr__', '__setitem__', '__sizeof__', '__str__', '__subclasshook__', 'append', 'clear', 'copy', 'count', 'extend', 'index', 'insert', 'pop', 'remove', 'reverse', 'sort']\n"
     ]
    }
   ],
   "source": [
    "print(dir(list))"
   ]
  },
  {
   "cell_type": "code",
   "execution_count": 103,
   "id": "606859f3",
   "metadata": {},
   "outputs": [
    {
     "name": "stdout",
     "output_type": "stream",
     "text": [
      "[11, 16, 21, 26, 31, 36, 41, 46, 51, 56, 61, 66]\n"
     ]
    }
   ],
   "source": [
    "lst = list(range(11,71,5))\n",
    "\n",
    "\n",
    "print(lst)"
   ]
  },
  {
   "cell_type": "code",
   "execution_count": 104,
   "id": "6f061edc",
   "metadata": {},
   "outputs": [
    {
     "name": "stdout",
     "output_type": "stream",
     "text": [
      "[11, 16, 21, 26, 36, 41, 46, 51, 56, 61, 66]\n"
     ]
    }
   ],
   "source": [
    "lst.pop(4)\n",
    "\n",
    "\n",
    "print(lst)"
   ]
  },
  {
   "cell_type": "code",
   "execution_count": null,
   "id": "b38f9804",
   "metadata": {},
   "outputs": [],
   "source": [
    "#1. Remove - removes the first occurrence of the ELEMENT from list. While Pop removes element at INDEX number specified.\n",
    "#2. Remove modifies the origin but returns none. Pop modifies the original list AND returns the popped element.\n",
    "#3. Remove requires a mandatory argument(element to be removed) to be supplied. While pop - if no argument supplied - pops\n",
    "# the last element of the list."
   ]
  },
  {
   "cell_type": "code",
   "execution_count": 105,
   "id": "aa14bbd4",
   "metadata": {},
   "outputs": [
    {
     "name": "stdout",
     "output_type": "stream",
     "text": [
      "[11, 16, 21, 26, 36, 41, 46, 51, 56, 61, 66]\n"
     ]
    }
   ],
   "source": [
    "print(lst)"
   ]
  },
  {
   "cell_type": "code",
   "execution_count": 106,
   "id": "87211e00",
   "metadata": {},
   "outputs": [
    {
     "name": "stdout",
     "output_type": "stream",
     "text": [
      "[11, 16, 21, 36, 41, 46, 51, 56, 61, 66]\n",
      "None\n"
     ]
    }
   ],
   "source": [
    "x = lst.remove(26)\n",
    "\n",
    "print(lst)\n",
    "print(x)\n",
    "\n"
   ]
  },
  {
   "cell_type": "code",
   "execution_count": 107,
   "id": "fd181b77",
   "metadata": {},
   "outputs": [
    {
     "name": "stdout",
     "output_type": "stream",
     "text": [
      "[11, 16, 21, 36, 46, 51, 56, 61, 66]\n",
      "41\n"
     ]
    }
   ],
   "source": [
    "y = lst.pop(4)\n",
    "\n",
    "print(lst)\n",
    "print(y)"
   ]
  },
  {
   "cell_type": "code",
   "execution_count": 108,
   "id": "2bf528a1",
   "metadata": {},
   "outputs": [
    {
     "ename": "TypeError",
     "evalue": "list.remove() takes exactly one argument (0 given)",
     "output_type": "error",
     "traceback": [
      "\u001b[1;31m---------------------------------------------------------------------------\u001b[0m",
      "\u001b[1;31mTypeError\u001b[0m                                 Traceback (most recent call last)",
      "\u001b[1;32m~\\AppData\\Local\\Temp\\ipykernel_7128\\3970535764.py\u001b[0m in \u001b[0;36m<module>\u001b[1;34m\u001b[0m\n\u001b[1;32m----> 1\u001b[1;33m \u001b[0mlst\u001b[0m\u001b[1;33m.\u001b[0m\u001b[0mremove\u001b[0m\u001b[1;33m(\u001b[0m\u001b[1;33m)\u001b[0m\u001b[1;33m\u001b[0m\u001b[1;33m\u001b[0m\u001b[0m\n\u001b[0m",
      "\u001b[1;31mTypeError\u001b[0m: list.remove() takes exactly one argument (0 given)"
     ]
    }
   ],
   "source": [
    "lst.remove()"
   ]
  },
  {
   "cell_type": "code",
   "execution_count": 109,
   "id": "4aa027f0",
   "metadata": {},
   "outputs": [
    {
     "name": "stdout",
     "output_type": "stream",
     "text": [
      "['a', 'x', 'j', 'i', 'n', 'o', 'e', 'n', 'v', 'q', 'l']\n"
     ]
    }
   ],
   "source": [
    "lst1 = list('axjinoenvql')\n",
    "\n",
    "print(lst1)"
   ]
  },
  {
   "cell_type": "code",
   "execution_count": 110,
   "id": "3477033b",
   "metadata": {},
   "outputs": [
    {
     "name": "stdout",
     "output_type": "stream",
     "text": [
      "['l', 'q', 'v', 'n', 'e', 'o', 'n', 'i', 'j', 'x', 'a']\n"
     ]
    }
   ],
   "source": [
    "lst1.reverse()\n",
    "\n",
    "print(lst1)"
   ]
  },
  {
   "cell_type": "code",
   "execution_count": null,
   "id": "93bfdb2f",
   "metadata": {},
   "outputs": [],
   "source": []
  },
  {
   "cell_type": "code",
   "execution_count": null,
   "id": "a95b394a",
   "metadata": {},
   "outputs": [],
   "source": []
  },
  {
   "cell_type": "code",
   "execution_count": null,
   "id": "aa82bf65",
   "metadata": {},
   "outputs": [],
   "source": []
  },
  {
   "cell_type": "code",
   "execution_count": null,
   "id": "6b02dcb5",
   "metadata": {},
   "outputs": [],
   "source": [
    "lst = list(range(1,10))\n",
    "\n",
    "print(lst)"
   ]
  },
  {
   "cell_type": "code",
   "execution_count": null,
   "id": "0ff42a45",
   "metadata": {},
   "outputs": [],
   "source": [
    "x = lst.remove(2)\n",
    "\n",
    "print(lst)\n",
    "print(x)"
   ]
  },
  {
   "cell_type": "code",
   "execution_count": null,
   "id": "e112671e",
   "metadata": {},
   "outputs": [],
   "source": [
    "print(dir(list))"
   ]
  },
  {
   "cell_type": "code",
   "execution_count": null,
   "id": "428c8620",
   "metadata": {},
   "outputs": [],
   "source": [
    "lst = list(range(1,10))\n",
    "print(lst)"
   ]
  },
  {
   "cell_type": "code",
   "execution_count": null,
   "id": "9994ade4",
   "metadata": {},
   "outputs": [],
   "source": [
    "lst_del = lst.remove(2)\n",
    "\n",
    "print(lst)"
   ]
  },
  {
   "cell_type": "code",
   "execution_count": null,
   "id": "92d1e90f",
   "metadata": {},
   "outputs": [],
   "source": [
    "print(lst_del)"
   ]
  },
  {
   "cell_type": "code",
   "execution_count": null,
   "id": "ef32bd1f",
   "metadata": {},
   "outputs": [],
   "source": [
    "#As expected, the remove operation has been performed on the original list and this is reflected in the original list. \n",
    "# However, since the remove method on lists does not return anything, we receive None as contained in variable lst_del."
   ]
  },
  {
   "cell_type": "code",
   "execution_count": null,
   "id": "aa6f942e",
   "metadata": {},
   "outputs": [],
   "source": []
  },
  {
   "cell_type": "code",
   "execution_count": null,
   "id": "27cba9cd",
   "metadata": {},
   "outputs": [],
   "source": [
    "#Pop method on lists in Python removes the element and the specified index value in a list. It takes one parameter, index \n",
    "# value of the element to be removed. If parameter left empty it defaults to -1 or the last element in the list. \n",
    "\n",
    "lst = list(range(1,10))\n",
    "print(lst)"
   ]
  },
  {
   "cell_type": "code",
   "execution_count": null,
   "id": "59b3b414",
   "metadata": {},
   "outputs": [],
   "source": [
    "x = lst.pop(3)\n",
    "\n",
    "print(lst)\n",
    "print(x)"
   ]
  },
  {
   "cell_type": "code",
   "execution_count": null,
   "id": "2962d2e0",
   "metadata": {},
   "outputs": [],
   "source": [
    "#1. Remove will remove the first occurrence of the element value. While pop pops out the item at that particular index position.\n",
    "\n",
    "#2. Remove returns nothing. Pop returns the popped item. \n",
    "\n",
    "#3. Remove NEEDS a mandatory parameter of element to be removed. Pop - if no argument provided will pop the last element. With\n",
    "# argument provided will pop item at that index position. "
   ]
  },
  {
   "cell_type": "code",
   "execution_count": null,
   "id": "624a5bf6",
   "metadata": {},
   "outputs": [],
   "source": [
    "y = lst.pop(2)\n",
    "print(lst)\n",
    "print(y)"
   ]
  },
  {
   "cell_type": "code",
   "execution_count": null,
   "id": "90d14f40",
   "metadata": {},
   "outputs": [],
   "source": [
    "lstalpha = list('abcdefghij')\n",
    "\n",
    "print(lstalpha)"
   ]
  },
  {
   "cell_type": "code",
   "execution_count": null,
   "id": "8cd48ff9",
   "metadata": {},
   "outputs": [],
   "source": [
    "popped = lstalpha.pop(2)\n",
    "\n",
    "print(lstalpha)\n",
    "print(popped)"
   ]
  },
  {
   "cell_type": "code",
   "execution_count": null,
   "id": "3fa82d1a",
   "metadata": {},
   "outputs": [],
   "source": [
    "pop1 = lstalpha.pop()\n",
    "pop2 = lstalpha.pop()\n",
    "pop3 = lstalpha.pop()\n",
    "\n",
    "\n",
    "print(pop1)\n",
    "print(pop2)\n",
    "print(pop3)"
   ]
  },
  {
   "cell_type": "code",
   "execution_count": null,
   "id": "6ea75a7c",
   "metadata": {},
   "outputs": [],
   "source": [
    "print(lstalpha)"
   ]
  },
  {
   "cell_type": "code",
   "execution_count": null,
   "id": "9065d545",
   "metadata": {},
   "outputs": [],
   "source": [
    "lst_rev = []\n",
    "\n",
    "for x in range(len(lstalpha)):\n",
    "    lst_rev.append(lstalpha.pop())\n",
    "    #print(lst_rev)\n",
    "print(lst_rev)"
   ]
  },
  {
   "cell_type": "code",
   "execution_count": null,
   "id": "5729ff4d",
   "metadata": {},
   "outputs": [],
   "source": [
    "tuple1 = tuple(range(10))\n",
    "\n",
    "lst1 = [x for x in tuple1]\n",
    "\n",
    "print(lst1)\n"
   ]
  },
  {
   "cell_type": "code",
   "execution_count": null,
   "id": "a79ee26d",
   "metadata": {},
   "outputs": [],
   "source": []
  },
  {
   "cell_type": "code",
   "execution_count": null,
   "id": "bdecc21e",
   "metadata": {},
   "outputs": [],
   "source": []
  },
  {
   "cell_type": "code",
   "execution_count": null,
   "id": "8e1666a6",
   "metadata": {},
   "outputs": [],
   "source": []
  },
  {
   "cell_type": "code",
   "execution_count": null,
   "id": "5d307c03",
   "metadata": {},
   "outputs": [],
   "source": []
  },
  {
   "cell_type": "code",
   "execution_count": null,
   "id": "1d065c19",
   "metadata": {},
   "outputs": [],
   "source": []
  },
  {
   "cell_type": "code",
   "execution_count": null,
   "id": "f471eb94",
   "metadata": {},
   "outputs": [],
   "source": [
    "lstalpha.remove(4)\n",
    "\n",
    "print(lstalpha)"
   ]
  },
  {
   "cell_type": "code",
   "execution_count": null,
   "id": "e7790ec1",
   "metadata": {},
   "outputs": [],
   "source": [
    "lstalpha.pop(4)\n",
    "\n",
    "print(lstalpha)"
   ]
  },
  {
   "cell_type": "code",
   "execution_count": null,
   "id": "f1ba89ac",
   "metadata": {},
   "outputs": [],
   "source": [
    "#However, the pop method removes the element from the original list AND returns the element that was at the specified index\n",
    "# and was removed. \n",
    "\n",
    "lst = list(range(1,10))\n",
    "print(lst)"
   ]
  },
  {
   "cell_type": "code",
   "execution_count": null,
   "id": "525c55a9",
   "metadata": {},
   "outputs": [],
   "source": [
    "popped = lst.pop(3)\n",
    "\n",
    "print(f'List after popping {lst}')"
   ]
  },
  {
   "cell_type": "code",
   "execution_count": null,
   "id": "3c76b5cc",
   "metadata": {},
   "outputs": [],
   "source": [
    "print(f'Popped = {popped}.')"
   ]
  },
  {
   "cell_type": "code",
   "execution_count": null,
   "id": "c0b0b311",
   "metadata": {},
   "outputs": [],
   "source": [
    "lst = list(range(1,10))\n",
    "print(lst)\n",
    "popped = lst.pop(5)"
   ]
  },
  {
   "cell_type": "code",
   "execution_count": null,
   "id": "1edd3459",
   "metadata": {},
   "outputs": [],
   "source": [
    "print(f'List after popping {lst}')\n",
    "print(f'Popped = {popped}.')"
   ]
  },
  {
   "cell_type": "code",
   "execution_count": null,
   "id": "a6007748",
   "metadata": {},
   "outputs": [],
   "source": [
    "#Sort method on Lists - sorts the given list in ascending order (by default). For strings does comparison by unicode values\n",
    "# character by character"
   ]
  },
  {
   "cell_type": "code",
   "execution_count": 15,
   "id": "bc00c6e5",
   "metadata": {},
   "outputs": [
    {
     "name": "stdout",
     "output_type": "stream",
     "text": [
      "[39, 18, 17, 12, 11, 9]\n",
      "None\n"
     ]
    }
   ],
   "source": [
    "lst1 = [17, 12, 39, 11, 9, 18]\n",
    "\n",
    "lst2 = lst1.sort(reverse=True)\n",
    "print(lst1)\n",
    "print(lst2)"
   ]
  },
  {
   "cell_type": "code",
   "execution_count": 11,
   "id": "3ed905f0",
   "metadata": {},
   "outputs": [
    {
     "name": "stdout",
     "output_type": "stream",
     "text": [
      "63\n",
      "65\n",
      "97\n"
     ]
    }
   ],
   "source": [
    "print(ord('?'))\n",
    "print(ord('A'))\n",
    "print(ord('a'))"
   ]
  },
  {
   "cell_type": "code",
   "execution_count": 9,
   "id": "cb19447d",
   "metadata": {},
   "outputs": [
    {
     "name": "stdout",
     "output_type": "stream",
     "text": [
      "['__add__', '__class__', '__class_getitem__', '__contains__', '__delattr__', '__delitem__', '__dir__', '__doc__', '__eq__', '__format__', '__ge__', '__getattribute__', '__getitem__', '__gt__', '__hash__', '__iadd__', '__imul__', '__init__', '__init_subclass__', '__iter__', '__le__', '__len__', '__lt__', '__mul__', '__ne__', '__new__', '__reduce__', '__reduce_ex__', '__repr__', '__reversed__', '__rmul__', '__setattr__', '__setitem__', '__sizeof__', '__str__', '__subclasshook__', 'append', 'clear', 'copy', 'count', 'extend', 'index', 'insert', 'pop', 'remove', 'reverse', 'sort']\n"
     ]
    }
   ],
   "source": [
    "print(dir(list))"
   ]
  },
  {
   "cell_type": "code",
   "execution_count": 10,
   "id": "d4c8284e",
   "metadata": {},
   "outputs": [
    {
     "name": "stdout",
     "output_type": "stream",
     "text": [
      "['g', 'a', 'h', 'g', 'A', 'l', 'm', 'b', 'q', 'x', 'f', '?']\n"
     ]
    }
   ],
   "source": [
    "lstalpha = list('gahgAlmbqxf?')\n",
    "\n",
    "print(lstalpha)"
   ]
  },
  {
   "cell_type": "code",
   "execution_count": 12,
   "id": "89fdcd73",
   "metadata": {},
   "outputs": [
    {
     "name": "stdout",
     "output_type": "stream",
     "text": [
      "['?', 'A', 'a', 'b', 'f', 'g', 'g', 'h', 'l', 'm', 'q', 'x']\n"
     ]
    }
   ],
   "source": [
    "lstalpha.sort()\n",
    "\n",
    "print(lstalpha)"
   ]
  },
  {
   "cell_type": "code",
   "execution_count": 14,
   "id": "43e52ec2",
   "metadata": {},
   "outputs": [
    {
     "name": "stdout",
     "output_type": "stream",
     "text": [
      "['yashoda', 'sushant', 'rohan', 'rikki', 'prakher', 'mala']\n"
     ]
    }
   ],
   "source": [
    "lstnames = ['yashoda', 'rohan', 'sushant', 'prakher', 'mala', 'rikki']\n",
    "\n",
    "lstnames.sort(reverse=True)\n",
    "\n",
    "print(lstnames)"
   ]
  },
  {
   "cell_type": "code",
   "execution_count": null,
   "id": "c62dd778",
   "metadata": {},
   "outputs": [],
   "source": [
    "#As we can see - the sort is performed on original list which is modified and there is no return value. \n",
    "\n",
    "lst2 = ['a', 'Python', 'XYZ']\n",
    "\n",
    "lst2.sort()\n",
    "print(lst2)\n",
    "\n",
    "#Note here how Python and XYZ are before the alphabet a. This is because the unicode values of capital P and X are lower\n",
    "#than the unicode value for a. "
   ]
  },
  {
   "cell_type": "code",
   "execution_count": null,
   "id": "92a029d2",
   "metadata": {},
   "outputs": [],
   "source": [
    "lst2 = ['ab', 'apython', 'XYZ']\n",
    "\n",
    "lst2.sort()\n",
    "print(lst2)"
   ]
  },
  {
   "cell_type": "code",
   "execution_count": null,
   "id": "c590860b",
   "metadata": {},
   "outputs": [],
   "source": [
    "lst3 = [20, 20.2, 300, 72, 64.2]\n",
    "\n",
    "lst3.sort()\n",
    "\n",
    "print(lst3)"
   ]
  },
  {
   "cell_type": "code",
   "execution_count": null,
   "id": "8c8954b2",
   "metadata": {},
   "outputs": [],
   "source": [
    "#Sort can take in 2 Parameters. \n",
    "\n",
    "#1. Key - This can take in a new function to calculate the values to be sorted on. Optional\n",
    "#2. reverse - Is False by default but if set to True - then will return the list in descending order. \n",
    "\n",
    "lst2 = [17, 24, 1001, 2123, 3, 82]\n",
    "\n",
    "lst2.sort(reverse = True)\n",
    "\n",
    "print(lst2)"
   ]
  },
  {
   "cell_type": "code",
   "execution_count": null,
   "id": "3e1f9882",
   "metadata": {},
   "outputs": [],
   "source": [
    "lst3 = ['a', 'Python', 'XYZ']\n",
    "\n",
    "lst3.sort(reverse = True)\n",
    "\n",
    "print(lst3)\n",
    "    \n"
   ]
  },
  {
   "cell_type": "code",
   "execution_count": null,
   "id": "f1405dda",
   "metadata": {},
   "outputs": [],
   "source": [
    "print(len('axe'))\n",
    "print(len('Python'))\n",
    "print(len('WXYZ'))"
   ]
  },
  {
   "cell_type": "code",
   "execution_count": null,
   "id": "9b7c7f9c",
   "metadata": {},
   "outputs": [],
   "source": [
    "lst1 = list(range(10,0,-1))\n",
    "\n",
    "print(lst1)"
   ]
  },
  {
   "cell_type": "code",
   "execution_count": null,
   "id": "5542e9e6",
   "metadata": {},
   "outputs": [],
   "source": [
    "lst1.sort()\n",
    "\n",
    "print(lst1)"
   ]
  },
  {
   "cell_type": "code",
   "execution_count": null,
   "id": "60390c43",
   "metadata": {},
   "outputs": [],
   "source": [
    "lst1.sort(reverse=True)\n",
    "print(lst1)"
   ]
  },
  {
   "cell_type": "code",
   "execution_count": null,
   "id": "99058f12",
   "metadata": {},
   "outputs": [],
   "source": []
  },
  {
   "cell_type": "code",
   "execution_count": null,
   "id": "95def7dd",
   "metadata": {},
   "outputs": [],
   "source": [
    "#The keyword can take any type of function to evaluate the elements. E.g. len() function. \n",
    "\n",
    "lst4 = ['axe', 'Python', 'WXYZ']\n",
    "\n",
    "# axe, python, wxyz = input\n",
    "\n",
    "# 3 , 6, 4 len function runs\n",
    "\n",
    "# 3,4,6 = sorting happens\n",
    "\n",
    "# axe, wxyz, python = output\n",
    "\n",
    "print(lst4)"
   ]
  },
  {
   "cell_type": "code",
   "execution_count": null,
   "id": "2885960d",
   "metadata": {},
   "outputs": [],
   "source": [
    "lstnames = ['yashoda', 'rohan', 'sushant', 'prakher', 'mala', 'rikki']"
   ]
  },
  {
   "cell_type": "code",
   "execution_count": null,
   "id": "68722ecb",
   "metadata": {},
   "outputs": [],
   "source": [
    "len('yashoda')"
   ]
  },
  {
   "cell_type": "code",
   "execution_count": 16,
   "id": "43926ee5",
   "metadata": {},
   "outputs": [
    {
     "name": "stdout",
     "output_type": "stream",
     "text": [
      "['mala', 'rohan', 'rikki', 'yashoda', 'sushant', 'prakher']\n"
     ]
    }
   ],
   "source": [
    "lstnames.sort(key = len)\n",
    "\n",
    "print(lstnames)"
   ]
  },
  {
   "cell_type": "code",
   "execution_count": null,
   "id": "d566b202",
   "metadata": {},
   "outputs": [],
   "source": [
    "# Key parameter takes a function.\n",
    "\n",
    "# Step1 - Elements of the list will be passed into the function iteratively\n",
    "\n",
    "# Output from step 1\n",
    "\n",
    "# Step 2 - Output from step 1 will be sorted. \n",
    "\n",
    "# Step 3 - The element that gave the corresponding output from the function will take its place in the sorted list."
   ]
  },
  {
   "cell_type": "code",
   "execution_count": 33,
   "id": "494b44a4",
   "metadata": {},
   "outputs": [],
   "source": [
    "lst1 = [30,6,12,-12,14,-99,3.67,-3.14]"
   ]
  },
  {
   "cell_type": "code",
   "execution_count": 20,
   "id": "a5ee37bb",
   "metadata": {},
   "outputs": [
    {
     "name": "stdout",
     "output_type": "stream",
     "text": [
      "22\n"
     ]
    }
   ],
   "source": [
    "print(abs(-22))"
   ]
  },
  {
   "cell_type": "code",
   "execution_count": 34,
   "id": "598733a7",
   "metadata": {},
   "outputs": [
    {
     "name": "stdout",
     "output_type": "stream",
     "text": [
      "[-99, -12, -3.14, 3.67, 6, 12, 14, 30]\n"
     ]
    }
   ],
   "source": [
    "lst1.sort()\n",
    "\n",
    "print(lst1)"
   ]
  },
  {
   "cell_type": "code",
   "execution_count": null,
   "id": "670f1bd2",
   "metadata": {},
   "outputs": [],
   "source": [
    "30,6,12,12,14,99,3.67,3.14\n",
    "\n",
    "3.14,3.67,6,12,12,14,30,99\n",
    "\n",
    "\n",
    "-3.14, 3.67, 6, 12, -12,14,30,-99"
   ]
  },
  {
   "cell_type": "code",
   "execution_count": null,
   "id": "bcce1a78",
   "metadata": {},
   "outputs": [],
   "source": []
  },
  {
   "cell_type": "code",
   "execution_count": null,
   "id": "c1de8654",
   "metadata": {},
   "outputs": [],
   "source": []
  },
  {
   "cell_type": "code",
   "execution_count": null,
   "id": "06fbcd90",
   "metadata": {},
   "outputs": [],
   "source": []
  },
  {
   "cell_type": "code",
   "execution_count": null,
   "id": "33dcb10f",
   "metadata": {},
   "outputs": [],
   "source": []
  },
  {
   "cell_type": "code",
   "execution_count": null,
   "id": "c523b3c7",
   "metadata": {},
   "outputs": [],
   "source": []
  },
  {
   "cell_type": "code",
   "execution_count": null,
   "id": "f771ab5d",
   "metadata": {},
   "outputs": [],
   "source": [
    "# first - each of the elements will be passed to the function and function will be executed. \n",
    "\n",
    "# 7, 5, 7, 7, 4, 5\n",
    "\n",
    "# Step two - the output of the execution of the function will get sorted. \n",
    "\n",
    "# 4,5,5,7,7,7\n",
    "\n",
    "# step 3 - the corresponding inputs that gave the particular output from the function execution, takes the place in the\n",
    "# sorted list. \n",
    "\n",
    "# mala, rohan, rikki, yashoda, sushant, prakher "
   ]
  },
  {
   "cell_type": "code",
   "execution_count": null,
   "id": "fb5e012a",
   "metadata": {},
   "outputs": [],
   "source": [
    "print(dir(__builtins__))"
   ]
  },
  {
   "cell_type": "code",
   "execution_count": null,
   "id": "69884005",
   "metadata": {},
   "outputs": [],
   "source": [
    "len('100')"
   ]
  },
  {
   "cell_type": "code",
   "execution_count": null,
   "id": "6f9ec117",
   "metadata": {},
   "outputs": [],
   "source": [
    "def funct1(x):\n",
    "    print(x)"
   ]
  },
  {
   "cell_type": "code",
   "execution_count": null,
   "id": "64c54d25",
   "metadata": {},
   "outputs": [],
   "source": [
    "funct1('Rohit')"
   ]
  },
  {
   "cell_type": "code",
   "execution_count": null,
   "id": "34ccb39e",
   "metadata": {},
   "outputs": [],
   "source": [
    "lst5 = [[111,201,300], [111,42, 75], [82, 41, 33], [64,99,101]]\n",
    "\n",
    "#lst5.sort()\n",
    "\n",
    "print(lst5)"
   ]
  },
  {
   "cell_type": "code",
   "execution_count": null,
   "id": "6c3733fd",
   "metadata": {},
   "outputs": [],
   "source": [
    "def fsq(x):\n",
    "    return x**3 "
   ]
  },
  {
   "cell_type": "code",
   "execution_count": null,
   "id": "0eff8f2b",
   "metadata": {},
   "outputs": [],
   "source": [
    "lstx = [-3, -7.5, 22, 5,10, 6]\n",
    "\n",
    "lstx.sort(key = fsq)\n",
    "\n",
    "print(lstx)\n"
   ]
  },
  {
   "cell_type": "code",
   "execution_count": null,
   "id": "5da036de",
   "metadata": {},
   "outputs": [],
   "source": [
    "lst5.sort(key = max)\n",
    "\n",
    "# First step \n",
    "\n",
    "300, 111,82,101\n",
    "\n",
    "# Second step\n",
    "\n",
    "# 82,101,111,300\n",
    "\n",
    "# Third step - corresponding input that gave these outputs\n",
    "\n",
    "#3rd, 4th, 2nd, 1st\n",
    "print(lst5)"
   ]
  },
  {
   "cell_type": "code",
   "execution_count": null,
   "id": "8122f3a2",
   "metadata": {},
   "outputs": [],
   "source": []
  },
  {
   "cell_type": "code",
   "execution_count": 36,
   "id": "be054834",
   "metadata": {},
   "outputs": [],
   "source": [
    "def sortindex(x):\n",
    "    return x[2]"
   ]
  },
  {
   "cell_type": "code",
   "execution_count": 49,
   "id": "96e4809d",
   "metadata": {},
   "outputs": [
    {
     "name": "stdout",
     "output_type": "stream",
     "text": [
      "[['Riya', 100, 27], ['Nattu', 95, 32], ['Seyyon', 100, 28], ['Saurabh', 85, 21]]\n"
     ]
    }
   ],
   "source": [
    "lst1 = [['Riya', 100,27],['Nattu', 95, 32],['Seyyon',100,28],['Saurabh',85,21]]\n",
    "\n",
    "\n",
    "#lst1.sort(key = sortindex)\n",
    "\n",
    "\n",
    "print(lst1)"
   ]
  },
  {
   "cell_type": "code",
   "execution_count": 52,
   "id": "459f8416",
   "metadata": {},
   "outputs": [
    {
     "name": "stdout",
     "output_type": "stream",
     "text": [
      "[(21, ['Saurabh', 85, 21]), (27, ['Riya', 100, 27]), (28, ['Seyyon', 100, 28]), (32, ['Nattu', 95, 32])]\n",
      "[(21, ['Saurabh', 85, 21]), (27, ['Riya', 100, 27]), (28, ['Seyyon', 100, 28]), (32, ['Nattu', 95, 32])]\n"
     ]
    }
   ],
   "source": [
    "lst = []\n",
    "for x in lst1:\n",
    "    a = sortindex(x)\n",
    "    b = x\n",
    "    lst.append((a,b))\n",
    "\n",
    "print(lst)\n",
    "\n",
    "lst.sort()\n",
    "\n",
    "print(lst)"
   ]
  },
  {
   "cell_type": "code",
   "execution_count": 51,
   "id": "e1f28681",
   "metadata": {},
   "outputs": [
    {
     "name": "stdout",
     "output_type": "stream",
     "text": [
      "[['Saurabh', 85, 21], ['Riya', 100, 27], ['Seyyon', 100, 28], ['Nattu', 95, 32]]\n"
     ]
    }
   ],
   "source": [
    "return_lst = []\n",
    "\n",
    "for y in lst:\n",
    "    return_lst.append(y[1])\n",
    "    \n",
    "lst1 = return_lst\n",
    "    \n",
    "print(return_lst)\n",
    "    "
   ]
  },
  {
   "cell_type": "code",
   "execution_count": null,
   "id": "797a6364",
   "metadata": {},
   "outputs": [],
   "source": [
    "# Step1 = Pass each of the elements to the function specified.\n",
    "\n",
    "27,32,28,21\n",
    "\n",
    "#Step2 - Sort the output\n",
    "\n",
    "21,27,28,32\n",
    "\n",
    "#Step3 - Return the element corresponding to the sorted values. \n",
    "\n",
    "\n",
    "\n"
   ]
  },
  {
   "cell_type": "code",
   "execution_count": 25,
   "id": "bef247d9",
   "metadata": {},
   "outputs": [],
   "source": [
    "lst5 = [[111,201,242], [111,42, 300], [82, 41, 33], [64,99,101]]\n"
   ]
  },
  {
   "cell_type": "code",
   "execution_count": 26,
   "id": "c4521e53",
   "metadata": {},
   "outputs": [
    {
     "name": "stdout",
     "output_type": "stream",
     "text": [
      "242\n",
      "300\n",
      "82\n",
      "101\n"
     ]
    }
   ],
   "source": [
    "for i in lst5:\n",
    "    print(max(i))"
   ]
  },
  {
   "cell_type": "code",
   "execution_count": 23,
   "id": "1ca33c5f",
   "metadata": {},
   "outputs": [
    {
     "name": "stdout",
     "output_type": "stream",
     "text": [
      "[[82, 41, 33], [64, 99, 101], [111, 201, 242], [111, 42, 300]]\n"
     ]
    }
   ],
   "source": [
    "lst5.sort(key = max)\n",
    "\n",
    "print(lst5)"
   ]
  },
  {
   "cell_type": "code",
   "execution_count": null,
   "id": "dd6c19e1",
   "metadata": {},
   "outputs": [],
   "source": [
    "#Step1\n",
    "- 242, 300, 82, 101\n",
    "\n",
    "Step2\n",
    "82,101,242,300\n",
    "\n",
    "Step3\n",
    "2,3,0,1"
   ]
  },
  {
   "cell_type": "code",
   "execution_count": null,
   "id": "091592e4",
   "metadata": {},
   "outputs": [],
   "source": []
  },
  {
   "cell_type": "code",
   "execution_count": null,
   "id": "b7abff0d",
   "metadata": {},
   "outputs": [],
   "source": []
  },
  {
   "cell_type": "code",
   "execution_count": null,
   "id": "049e6ac6",
   "metadata": {},
   "outputs": [],
   "source": [
    "for x in lst5:\n",
    "    x.sort()\n",
    "    \n",
    "    \n",
    "print(lst5)"
   ]
  },
  {
   "cell_type": "markdown",
   "id": "f75bb78a",
   "metadata": {},
   "source": [
    "1. max = \n",
    "\n",
    "30, 111, 82, 101\n",
    "\n",
    "30,82,101,111\n",
    "\n",
    "2. sum\n",
    "\n",
    "330, 228, 156, 264"
   ]
  },
  {
   "cell_type": "code",
   "execution_count": null,
   "id": "37ecac31",
   "metadata": {},
   "outputs": [],
   "source": [
    "# Difference between method and built-in functions\n",
    "\n",
    "#1. Methods are specific to datatypes i.e. can only be used with that datatype. Built-in functions are general functions\n",
    "# that can be used with any datatype(of course, it should make sense)\n",
    "\n",
    "#2. Syntax of built-in function \n",
    "\n",
    "# functionname(parameters)\n",
    "\n",
    "# Syntax of method\n",
    "\n",
    "#dtypeobject.functionname(parameters)"
   ]
  },
  {
   "cell_type": "code",
   "execution_count": 79,
   "id": "9b31c4c0",
   "metadata": {},
   "outputs": [],
   "source": [
    "import numpy as np\n",
    "\n",
    "x = np.random.randint(-100,100,25)\n",
    "\n",
    "lst1 = tuple(x)"
   ]
  },
  {
   "cell_type": "code",
   "execution_count": 64,
   "id": "4f4fe23d",
   "metadata": {},
   "outputs": [
    {
     "name": "stdout",
     "output_type": "stream",
     "text": [
      "['__add__', '__class__', '__class_getitem__', '__contains__', '__delattr__', '__dir__', '__doc__', '__eq__', '__format__', '__ge__', '__getattribute__', '__getitem__', '__getnewargs__', '__gt__', '__hash__', '__init__', '__init_subclass__', '__iter__', '__le__', '__len__', '__lt__', '__mul__', '__ne__', '__new__', '__reduce__', '__reduce_ex__', '__repr__', '__rmul__', '__setattr__', '__sizeof__', '__str__', '__subclasshook__', 'count', 'index']\n"
     ]
    }
   ],
   "source": [
    "print(dir(tuple))"
   ]
  },
  {
   "cell_type": "code",
   "execution_count": 68,
   "id": "9ac80c0e",
   "metadata": {},
   "outputs": [
    {
     "name": "stdout",
     "output_type": "stream",
     "text": [
      "['a', 'a', 'g', 'g', 'j', 'j', 'k', 'k', 'l']\n"
     ]
    }
   ],
   "source": [
    "sortedlist = sorted('akjglakjg')\n",
    "\n",
    "print(sortedlist)"
   ]
  },
  {
   "cell_type": "code",
   "execution_count": 62,
   "id": "5940d389",
   "metadata": {},
   "outputs": [
    {
     "name": "stdout",
     "output_type": "stream",
     "text": [
      "[12, 95, 59, -28, -8, -46, -69, 47, -7, 0, 91, -64, -63, 41, 87, -11, 90, 13, 35, 74, -44, 48, -14, 21, -52]\n",
      "[0, -7, -8, -11, 12, 13, -14, 21, -28, 35, 41, -44, -46, 47, 48, -52, 59, -63, -64, -69, 74, 87, 90, 91, 95]\n"
     ]
    }
   ],
   "source": [
    "print(lst1)\n",
    "print(sortedlist)"
   ]
  },
  {
   "cell_type": "code",
   "execution_count": 67,
   "id": "e6065d16",
   "metadata": {},
   "outputs": [],
   "source": [
    "# 1. .sort is a method on lists ONLY. sorted is a built-in function that can apply to ANY iterable.\n",
    "# 2. .sort modifies the original list and returns None. sorted returns you a new list which is sorted. \n",
    "\n",
    "\n",
    "# Point to Note : Sorted ALSO returns a list irrespective of the datatype that was input. \n",
    "\n",
    "\n",
    "# 1. .reverse is a method on lists ONLY. reversed is a built-in function that can apply to ANY iterable. \n",
    "# 2. .reverse modifies the original list and returns None. reversed returns you a new list which is sorted. \n",
    "# 3. .reverse returns NONE. reversed returns a reversed_iterator object which if required can by explicity typecast to \n",
    "# another meaninful datatype such as list or tuple. \n"
   ]
  },
  {
   "cell_type": "code",
   "execution_count": 71,
   "id": "f90c0fb6",
   "metadata": {},
   "outputs": [
    {
     "name": "stdout",
     "output_type": "stream",
     "text": [
      "[-58, 28, -67, -39, -11, -27, -81, -74, 68, -62, -97, -80, -51, -16, 29, 52, 55, 62, 31, -35, 41, -43, 46, -16, 43]\n"
     ]
    }
   ],
   "source": [
    "print(lst1)"
   ]
  },
  {
   "cell_type": "code",
   "execution_count": 72,
   "id": "fb8013be",
   "metadata": {},
   "outputs": [
    {
     "name": "stdout",
     "output_type": "stream",
     "text": [
      "[43, -16, 46, -43, 41, -35, 31, 62, 55, 52, 29, -16, -51, -80, -97, -62, 68, -74, -81, -27, -11, -39, -67, 28, -58]\n"
     ]
    }
   ],
   "source": [
    "lst1.reverse()\n",
    "\n",
    "print(lst1)"
   ]
  },
  {
   "cell_type": "code",
   "execution_count": 80,
   "id": "25b114d9",
   "metadata": {},
   "outputs": [
    {
     "name": "stdout",
     "output_type": "stream",
     "text": [
      "[-5, 89, 15, -65, 26, 93, -2, 94, -51, -79, -89, 71, 35, -25, 99, 61, -72, 80, -55, 55, 80, 59, -85, 15, -79]\n"
     ]
    }
   ],
   "source": [
    "reversedlist = list(reversed(lst1))\n",
    "\n",
    "\n",
    "print(reversedlist)"
   ]
  },
  {
   "cell_type": "code",
   "execution_count": 78,
   "id": "b5d0d111",
   "metadata": {},
   "outputs": [
    {
     "name": "stdout",
     "output_type": "stream",
     "text": [
      "-58\n",
      "28\n",
      "-67\n",
      "-39\n",
      "-11\n",
      "-27\n",
      "-81\n",
      "-74\n",
      "68\n",
      "-62\n",
      "-97\n",
      "-80\n",
      "-51\n",
      "-16\n",
      "29\n",
      "52\n",
      "55\n",
      "62\n",
      "31\n",
      "-35\n",
      "41\n",
      "-43\n",
      "46\n",
      "-16\n",
      "43\n"
     ]
    }
   ],
   "source": [
    "for x in reversedlist:\n",
    "    print(x)"
   ]
  },
  {
   "cell_type": "code",
   "execution_count": null,
   "id": "de51da38",
   "metadata": {},
   "outputs": [],
   "source": []
  },
  {
   "cell_type": "code",
   "execution_count": null,
   "id": "a6417eba",
   "metadata": {},
   "outputs": [],
   "source": []
  },
  {
   "cell_type": "code",
   "execution_count": null,
   "id": "793e6668",
   "metadata": {},
   "outputs": [],
   "source": []
  },
  {
   "cell_type": "code",
   "execution_count": null,
   "id": "d58cd0ac",
   "metadata": {},
   "outputs": [],
   "source": [
    "reverse parameter is NOT optional but defaults to False which gives you ascending order. If changed to True then gives \n",
    "descending order. \n",
    "\n",
    "key parameter IS optional and takes a function which can be used to decide the basis of sorting. \n"
   ]
  },
  {
   "cell_type": "code",
   "execution_count": null,
   "id": "90040cfe",
   "metadata": {},
   "outputs": [],
   "source": [
    "lstalpha = ['axe', 'Python', 'WXYZ']"
   ]
  },
  {
   "cell_type": "code",
   "execution_count": null,
   "id": "de7bf5e5",
   "metadata": {},
   "outputs": [],
   "source": [
    "def funct(x):\n",
    "    return x[1]\n",
    "\n",
    "\n",
    "#2, 1, 9, 3, 6\n",
    "\n",
    "# 1,2,3, 6, 9\n",
    "\n",
    "# (1,1), (0,2), (10,3), (11,6), (7,9)"
   ]
  },
  {
   "cell_type": "code",
   "execution_count": null,
   "id": "ff95d52c",
   "metadata": {},
   "outputs": [],
   "source": [
    "lst2 = [(0,2), (1,1),(7,9), (10,3), (11,6)]\n",
    "\n",
    "# (0,2), (1,1), (7,9), (10,3) = inputs\n",
    "\n",
    "# 2,1,9,3, 6 = function runs\n",
    "\n",
    "# 1,2,3,6,9 = sorting happens\n",
    "\n",
    "#           = Returns elements based on the sort output of previous steps.\n",
    "\n"
   ]
  },
  {
   "cell_type": "code",
   "execution_count": null,
   "id": "a964aefb",
   "metadata": {},
   "outputs": [],
   "source": [
    "lst2.sort(key= funct)\n",
    "\n",
    "print(lst2)"
   ]
  },
  {
   "cell_type": "code",
   "execution_count": null,
   "id": "3724e44f",
   "metadata": {},
   "outputs": [],
   "source": [
    "lst2 = [(0,2), (1,1),[7,9], (10,3), (11,6)]\n",
    "\n",
    "lst2.sort(key = funct)\n",
    "\n",
    "print(lst2)"
   ]
  },
  {
   "cell_type": "code",
   "execution_count": null,
   "id": "91bfaea4",
   "metadata": {},
   "outputs": [],
   "source": [
    "lst4.sort(reverse = True, key = len)\n",
    "print(lst4)"
   ]
  },
  {
   "cell_type": "code",
   "execution_count": null,
   "id": "ceea470c",
   "metadata": {},
   "outputs": [],
   "source": [
    "lst4x = ['a', 100, 'Python', 'xYZ', 21]\n",
    "\n",
    "\n"
   ]
  },
  {
   "cell_type": "code",
   "execution_count": null,
   "id": "ae5cbb9a",
   "metadata": {},
   "outputs": [],
   "source": [
    "lstintfloat = [10, 0.9,13.3, 8, 4.7]\n",
    "\n",
    "x = lstintfloat.sort()\n",
    "\n",
    "print(lstintfloat)\n",
    "print(x)"
   ]
  },
  {
   "cell_type": "code",
   "execution_count": null,
   "id": "dd1c2d0b",
   "metadata": {},
   "outputs": [],
   "source": [
    "+, -, *, ==, !=, <, > , <=, >="
   ]
  },
  {
   "cell_type": "code",
   "execution_count": null,
   "id": "e5e70f0e",
   "metadata": {},
   "outputs": [],
   "source": [
    "lst4x.sort()\n",
    "print(lst4x)\n",
    "\n",
    "#Sort not supported between different datatypes. "
   ]
  },
  {
   "cell_type": "code",
   "execution_count": null,
   "id": "36be53d0",
   "metadata": {},
   "outputs": [],
   "source": [
    "print('python'.upper())"
   ]
  },
  {
   "cell_type": "code",
   "execution_count": null,
   "id": "51bc450a",
   "metadata": {},
   "outputs": [],
   "source": [
    "print(len('python'))"
   ]
  },
  {
   "cell_type": "code",
   "execution_count": null,
   "id": "52819a63",
   "metadata": {},
   "outputs": [],
   "source": [
    "class xyz\n",
    "  ---- \n",
    "    \n",
    "    functions that are written for class xyz\n",
    "       \n",
    "    \n",
    "    \n",
    "    \n",
    "'rikki'.upper()\n",
    "\n",
    "'python'.upper()\n",
    "    \n",
    "    \n",
    "    \n",
    "abc = tabulardata(xyz)\n",
    "\n",
    "abc, tabulardata instance\n",
    "\n",
    "\n",
    "deg = tabdata2(xyz)\n",
    "\n",
    "deg, tabdata2 - all functions will be available of xyz"
   ]
  },
  {
   "cell_type": "code",
   "execution_count": null,
   "id": "47332367",
   "metadata": {},
   "outputs": [],
   "source": []
  },
  {
   "cell_type": "markdown",
   "id": "d563e760",
   "metadata": {},
   "source": [
    "methods are usually part of a class. upper method is a part of string class. \n"
   ]
  },
  {
   "cell_type": "code",
   "execution_count": null,
   "id": "48d3c8b0",
   "metadata": {},
   "outputs": [],
   "source": [
    "#However, as noticed - the sort method on lists - modifies the original list and does not return anything. \n",
    "#If original list order needs to be maintained and/or new object with items sorted is required, use the Python built-in \n",
    "#method sorted()\n",
    "\n",
    "lst5 = ['a', 'Python', 'xYZ']\n",
    "\n",
    "lst7 = lst5.sort()\n",
    "\n",
    "\n",
    "print(lst5)\n",
    "print(lst7)"
   ]
  },
  {
   "cell_type": "code",
   "execution_count": null,
   "id": "c2129c18",
   "metadata": {},
   "outputs": [],
   "source": [
    "lst6 = sorted(lst5)\n",
    "\n",
    "# lstname.sort(key<optional>, reverse<optional>) - returns no output performs sort operation on original list.\n",
    "\n",
    "#sorted(iterablename <mandatory>, key<optional>, reverse<optional>) - returns an output (a list) so needs to be saved to a\n",
    "# new variable. Does not modify original iterable.\n",
    "\n",
    "\n",
    "print(lst5)\n",
    "print(lst6)"
   ]
  },
  {
   "cell_type": "code",
   "execution_count": null,
   "id": "4eec54dd",
   "metadata": {},
   "outputs": [],
   "source": [
    "list1 = [15,17,20,2, 7, 31,12]"
   ]
  },
  {
   "cell_type": "code",
   "execution_count": null,
   "id": "0eafbb67",
   "metadata": {},
   "outputs": [],
   "source": [
    "# Diff between method and built-in functions\n",
    "\n",
    "#1. methods are nothing but functions of a class. Built-in functions are functions written by Python developers available to\n",
    "# entire script. \n",
    "#2. Methods are available only to the objects of that particular class. BI Functions are available to any type of object(of \n",
    "# course, the input to the function must make sense i.e. should be used the way it was intended)."
   ]
  },
  {
   "cell_type": "code",
   "execution_count": null,
   "id": "a99eeb40",
   "metadata": {},
   "outputs": [],
   "source": [
    "#.sort will only work on a list datatype. sorted built-in function will take ANY iterable. "
   ]
  },
  {
   "cell_type": "code",
   "execution_count": null,
   "id": "0e7a3e74",
   "metadata": {},
   "outputs": [],
   "source": [
    "#Sorted built-in method takes in 3 parameters.\n",
    "\n",
    "#1. Iterable to be sorted - In this case, a list - Mandatory\n",
    "#2. Reverse = Set to False as default and returns the list sorted with the elements in ascending order. If set to True, will\n",
    "# return the elements in descending order. \n",
    "#3. Key = A different function on which to evaluate the elements and sort them accordingly. \n",
    "\n",
    "lst7 = sorted(list1)\n",
    "\n",
    "print(lst7)\n",
    "print(list1)"
   ]
  },
  {
   "cell_type": "code",
   "execution_count": null,
   "id": "6ff83b29",
   "metadata": {},
   "outputs": [],
   "source": [
    "# 1. Sort doesnt returns anything(modifies original list). Sorted returns a sorted list.\n",
    "# 2. Sort works with a list. Sorted works with any datatype.\n",
    "# 3. Syntax for sort is <lstname>.sort().\n",
    "#    Syntax for sorted is sorted<functionname>(iterable)."
   ]
  },
  {
   "cell_type": "code",
   "execution_count": null,
   "id": "57c20208",
   "metadata": {},
   "outputs": [],
   "source": [
    "tup1 = (10,11,8, 7, 3, 14, 12)\n",
    "\n",
    "sort_tup = (sorted('oldgeyser'))\n",
    "\n",
    "print(sort_tup)\n",
    "print(tup1)"
   ]
  },
  {
   "cell_type": "code",
   "execution_count": null,
   "id": "10a7587d",
   "metadata": {},
   "outputs": [],
   "source": [
    "#Sorted and sort\n",
    "\n",
    "# .sort is a list method only availale to lists. sorted can be used on any iterable. \n",
    "# sorted outputs a new list and original object remains unchanged. .sort modifies original list. \n",
    "# both sort and sorted output a list. "
   ]
  },
  {
   "cell_type": "code",
   "execution_count": null,
   "id": "7552a09a",
   "metadata": {},
   "outputs": [],
   "source": [
    "def funct_mod(a):\n",
    "    return a%5\n",
    "\n",
    "print(funct_mod(24))\n"
   ]
  },
  {
   "cell_type": "code",
   "execution_count": null,
   "id": "2800c1cc",
   "metadata": {},
   "outputs": [],
   "source": [
    "4,2,1,0,3,2,3\n",
    "\n",
    "\n",
    "0,1,2,2,3,3,4"
   ]
  },
  {
   "cell_type": "code",
   "execution_count": null,
   "id": "acbf7b4f",
   "metadata": {},
   "outputs": [],
   "source": [
    "lst3 = [18,12,16]\n",
    "\n",
    "lst4 = sorted(tup1, key = funct_mod)\n",
    "\n",
    "print(lst4)"
   ]
  },
  {
   "cell_type": "code",
   "execution_count": null,
   "id": "66edce5d",
   "metadata": {},
   "outputs": [],
   "source": [
    "#Reverse method on lists.  \n",
    "\n",
    "lst = list('abcghijxyzdef')\n",
    "\n",
    "print(lst)"
   ]
  },
  {
   "cell_type": "code",
   "execution_count": null,
   "id": "c89fd40b",
   "metadata": {},
   "outputs": [],
   "source": [
    "lst.reverse()\n",
    "print(lst)"
   ]
  },
  {
   "cell_type": "code",
   "execution_count": null,
   "id": "0f275c60",
   "metadata": {},
   "outputs": [],
   "source": [
    "lst2 = lst[::-1]\n",
    "\n",
    "print(lst2)\n",
    "print(lst)"
   ]
  },
  {
   "cell_type": "code",
   "execution_count": null,
   "id": "c12be818",
   "metadata": {},
   "outputs": [],
   "source": [
    "lstx = ['a', 100, 300, 'Neetu', 2+3j]\n",
    "\n",
    "lstx.reverse()\n",
    "\n",
    "print(lstx)"
   ]
  },
  {
   "cell_type": "code",
   "execution_count": null,
   "id": "191bf74b",
   "metadata": {},
   "outputs": [],
   "source": [
    "#It performs the operation on the original list object and returns nothing.\n",
    "\n",
    "lst = list('abcdefghij')\n",
    "print(lst)"
   ]
  },
  {
   "cell_type": "code",
   "execution_count": null,
   "id": "15eab47e",
   "metadata": {},
   "outputs": [],
   "source": [
    "lst1 = lst.reverse()\n",
    "print(lst)\n",
    "print(lst1)"
   ]
  },
  {
   "cell_type": "code",
   "execution_count": null,
   "id": "88e859b9",
   "metadata": {},
   "outputs": [],
   "source": [
    "#Reversed iterator. If however, the original list order has to be maintained and/or a new object with elements reversed is\n",
    "# required - use the reversed built-in function of Python to create a reversed iterator object and using list comprehension\n",
    "# create a new list. \n",
    "\n",
    "lst = list('abxcyjrhij')\n",
    "print(lst)"
   ]
  },
  {
   "cell_type": "code",
   "execution_count": null,
   "id": "64cbc12a",
   "metadata": {},
   "outputs": [],
   "source": [
    "# 1. reverse in list method. reversed is a built-in method\n",
    "# 2. reverse works only on lists, reveresed will take any iterable. \n",
    "# 3. reverse outputs a list. reversed outputs a reversed iterator object. \n",
    "\n",
    "# The property of an iterator object is that it can only be iterated over ONCE. \n"
   ]
  },
  {
   "cell_type": "code",
   "execution_count": null,
   "id": "919acd7d",
   "metadata": {},
   "outputs": [],
   "source": [
    "lstx = list('axgyaglagj')\n",
    "\n",
    "print(lstx)\n",
    "print(type(lstx))"
   ]
  },
  {
   "cell_type": "code",
   "execution_count": null,
   "id": "76e132e0",
   "metadata": {},
   "outputs": [],
   "source": [
    "#sorted built-in python method that outputs a list. \n",
    "\n",
    "\n"
   ]
  },
  {
   "cell_type": "code",
   "execution_count": null,
   "id": "c4650f3a",
   "metadata": {},
   "outputs": [],
   "source": [
    "lstrev2 = tuple(reversed('abxyzstrdef'))\n",
    "\n",
    "print(lstrev2)\n",
    "print(id(lstrev2))"
   ]
  },
  {
   "cell_type": "code",
   "execution_count": null,
   "id": "c7bb426a",
   "metadata": {},
   "outputs": [],
   "source": [
    "# The property of an iterator object is that it can only be iterated over ONCE. \n",
    "\n",
    "\n",
    "for x in lstrev2:\n",
    "    print(x)"
   ]
  },
  {
   "cell_type": "code",
   "execution_count": null,
   "id": "76453ce2",
   "metadata": {},
   "outputs": [],
   "source": [
    "lst2 = list(lstrev2)\n",
    "\n",
    "print(lst2)"
   ]
  },
  {
   "cell_type": "code",
   "execution_count": null,
   "id": "8bcca938",
   "metadata": {},
   "outputs": [],
   "source": [
    "for x in lstrev2:\n",
    "    print(x)"
   ]
  },
  {
   "cell_type": "code",
   "execution_count": null,
   "id": "b087031f",
   "metadata": {},
   "outputs": [],
   "source": [
    "for x in lst2:\n",
    "    print(x)"
   ]
  },
  {
   "cell_type": "code",
   "execution_count": null,
   "id": "6836b035",
   "metadata": {},
   "outputs": [],
   "source": [
    "lst2 = list(reversed(lst))\n",
    "\n",
    "print(lst2)\n",
    "print(id(lst2))\n",
    "print(type(lst2))\n",
    "print(lstx)\n",
    "print(id(lstx))"
   ]
  },
  {
   "cell_type": "code",
   "execution_count": null,
   "id": "4ee871b1",
   "metadata": {},
   "outputs": [],
   "source": [
    "x = reversed('Learnbay batch Sept16')\n",
    "\n",
    "xlst = [i for i in x]\n",
    "\n",
    "print(xlst)"
   ]
  },
  {
   "cell_type": "code",
   "execution_count": null,
   "id": "b8e58d8f",
   "metadata": {},
   "outputs": [],
   "source": [
    "lst3 = [x for x in reversed(lst)]\n",
    "print(lst3)"
   ]
  },
  {
   "cell_type": "code",
   "execution_count": null,
   "id": "5151a955",
   "metadata": {},
   "outputs": [],
   "source": [
    "lst4 = [x for x in lst2]\n",
    "\n",
    "print(lst4)"
   ]
  },
  {
   "cell_type": "code",
   "execution_count": null,
   "id": "b757c0c3",
   "metadata": {},
   "outputs": [],
   "source": [
    "lst5 = list(reversed(lst))\n",
    "\n",
    "print(lst5)"
   ]
  },
  {
   "cell_type": "code",
   "execution_count": null,
   "id": "b9714b92",
   "metadata": {},
   "outputs": [],
   "source": [
    "range1 = range(10)\n",
    "\n",
    "print(range1)\n",
    "print(type(range1))"
   ]
  },
  {
   "cell_type": "code",
   "execution_count": null,
   "id": "b7a75d9f",
   "metadata": {},
   "outputs": [],
   "source": [
    "for x in range1:\n",
    "    print(x)"
   ]
  },
  {
   "cell_type": "code",
   "execution_count": null,
   "id": "70222cea",
   "metadata": {},
   "outputs": [],
   "source": [
    "range2 = list(range(10))\n",
    "\n",
    "print(range2)"
   ]
  },
  {
   "cell_type": "code",
   "execution_count": null,
   "id": "29325620",
   "metadata": {},
   "outputs": [],
   "source": [
    "lst2 = [x for x in reversed(lst)]\n",
    "\n",
    "print(lst)\n",
    "print(lst2)"
   ]
  },
  {
   "cell_type": "code",
   "execution_count": null,
   "id": "b67dcc2b",
   "metadata": {},
   "outputs": [],
   "source": []
  },
  {
   "cell_type": "code",
   "execution_count": null,
   "id": "a0513fdd",
   "metadata": {},
   "outputs": [],
   "source": [
    "# Copy\n",
    "\n",
    "lst1 = list(range(5))\n",
    "\n",
    "lst2 = lst1[:]\n",
    "\n",
    "lst3 = lst1.copy()\n",
    "\n",
    "import copy\n",
    "\n",
    "#lst4 = copy.copy(lst1)\n",
    "\n",
    "\n",
    "print(lst1, id(lst1))\n",
    "print(lst2, id(lst2))\n",
    "print(lst3, id(lst3))\n",
    "print(lst4, id(lst4))"
   ]
  },
  {
   "cell_type": "code",
   "execution_count": null,
   "id": "3569436a",
   "metadata": {},
   "outputs": [],
   "source": [
    "print(dir(tuple))"
   ]
  },
  {
   "cell_type": "code",
   "execution_count": null,
   "id": "d8df8395",
   "metadata": {},
   "outputs": [],
   "source": []
  },
  {
   "cell_type": "code",
   "execution_count": null,
   "id": "6b408a0a",
   "metadata": {},
   "outputs": [],
   "source": []
  },
  {
   "cell_type": "code",
   "execution_count": null,
   "id": "781a68f3",
   "metadata": {},
   "outputs": [],
   "source": []
  },
  {
   "cell_type": "code",
   "execution_count": null,
   "id": "e61d1f7e",
   "metadata": {},
   "outputs": [],
   "source": [
    "rev_it = reversed(lst)\n",
    "\n",
    "print(rev_it)\n",
    "print(type(rev_it))"
   ]
  },
  {
   "cell_type": "code",
   "execution_count": null,
   "id": "a5581ca6",
   "metadata": {},
   "outputs": [],
   "source": []
  },
  {
   "cell_type": "code",
   "execution_count": null,
   "id": "bc5a413f",
   "metadata": {},
   "outputs": [],
   "source": [
    "#Aliasing and cloning\n",
    "\n",
    "x = list(range(10))\n",
    "print(x)"
   ]
  },
  {
   "cell_type": "code",
   "execution_count": null,
   "id": "540b1422",
   "metadata": {},
   "outputs": [],
   "source": [
    "x.append([100,200,300])\n",
    "\n",
    "print(x)"
   ]
  },
  {
   "cell_type": "code",
   "execution_count": null,
   "id": "9252a6d1",
   "metadata": {},
   "outputs": [],
   "source": [
    "#Aliasing on lists - is insitialisng a new variable name to the same list object stored in the memory. \n",
    "\n",
    "y = x\n",
    "\n",
    "print(y)"
   ]
  },
  {
   "cell_type": "code",
   "execution_count": null,
   "id": "1d33217b",
   "metadata": {},
   "outputs": [],
   "source": [
    "print(x is y)\n",
    "print(id(x), id(y))\n",
    "\n",
    "#When we do y = x, all we are doing is adding a new variable name which is pointing to the same object stored in variable.\n",
    "# This is called aliasing"
   ]
  },
  {
   "cell_type": "code",
   "execution_count": null,
   "id": "7cbc066c",
   "metadata": {},
   "outputs": [],
   "source": [
    "x.append([300,400,500])\n",
    "\n",
    "print(x)"
   ]
  },
  {
   "cell_type": "code",
   "execution_count": null,
   "id": "ab53194f",
   "metadata": {},
   "outputs": [],
   "source": [
    "y = x\n",
    "\n",
    "print(y)\n",
    "print(x is y)\n",
    "print(id(x), id(y))\n"
   ]
  },
  {
   "cell_type": "code",
   "execution_count": null,
   "id": "188ddee9",
   "metadata": {},
   "outputs": [],
   "source": [
    "x[0] = 10001\n",
    "\n",
    "print(x)\n",
    "print(y)\n",
    "print(x is y)\n",
    "print(id(x), id(y))"
   ]
  },
  {
   "cell_type": "code",
   "execution_count": null,
   "id": "71f76304",
   "metadata": {},
   "outputs": [],
   "source": [
    "x[-1][-1] = 501\n",
    "\n",
    "print(x)\n",
    "print(y)\n",
    "print(x is y)\n",
    "print(id(x), id(y))"
   ]
  },
  {
   "cell_type": "code",
   "execution_count": null,
   "id": "741b9ed0",
   "metadata": {},
   "outputs": [],
   "source": [
    "print(x)"
   ]
  },
  {
   "cell_type": "code",
   "execution_count": null,
   "id": "b2604c29",
   "metadata": {},
   "outputs": [],
   "source": [
    "z = x.copy()\n",
    "\n",
    "print(x)\n",
    "print(z)"
   ]
  },
  {
   "cell_type": "code",
   "execution_count": null,
   "id": "a35a9bfc",
   "metadata": {},
   "outputs": [],
   "source": [
    "print(x is z)\n",
    "print(id(x), id(z))\n",
    "print(x == z)"
   ]
  },
  {
   "cell_type": "code",
   "execution_count": null,
   "id": "dea82a9e",
   "metadata": {},
   "outputs": [],
   "source": [
    "for i in range(len(x)):\n",
    "    print(x[i], ' : ',  x[i] is z[i])\n",
    "    print(id(x[i]), id(z[i]))"
   ]
  },
  {
   "cell_type": "code",
   "execution_count": null,
   "id": "25bbc422",
   "metadata": {},
   "outputs": [],
   "source": [
    "print(x)\n",
    "print(z)"
   ]
  },
  {
   "cell_type": "code",
   "execution_count": null,
   "id": "87561dc4",
   "metadata": {},
   "outputs": [],
   "source": [
    "x[0] = 20001\n",
    "\n",
    "print(x)\n",
    "print(z)"
   ]
  },
  {
   "cell_type": "code",
   "execution_count": null,
   "id": "15497d58",
   "metadata": {},
   "outputs": [],
   "source": [
    "print(id(x[-1]))\n",
    "print(id(z[-1]))\n",
    "\n",
    "print(id(x[-1]) == id(z[-1]))"
   ]
  },
  {
   "cell_type": "code",
   "execution_count": null,
   "id": "52c698a5",
   "metadata": {},
   "outputs": [],
   "source": [
    "x[-1][-1] = 3333\n",
    "\n",
    "print(x)\n",
    "print(z)"
   ]
  },
  {
   "cell_type": "code",
   "execution_count": null,
   "id": "a73099bb",
   "metadata": {},
   "outputs": [],
   "source": [
    "print(x[-1] is z[-1])\n",
    "print(id(x[-1]),id(z[-1]))"
   ]
  },
  {
   "cell_type": "code",
   "execution_count": null,
   "id": "cc8a499d",
   "metadata": {},
   "outputs": [],
   "source": [
    "import copy\n",
    "\n",
    "v = copy.deepcopy(x)\n",
    "\n",
    "print(x is v)\n",
    "print(id(x), id(v))"
   ]
  },
  {
   "cell_type": "code",
   "execution_count": null,
   "id": "9bb349fa",
   "metadata": {},
   "outputs": [],
   "source": [
    "print(x)\n",
    "print(v)"
   ]
  },
  {
   "cell_type": "code",
   "execution_count": null,
   "id": "8af43e9e",
   "metadata": {},
   "outputs": [],
   "source": [
    "print(id(x[-1]), id(v[-1]))\n",
    "print(id(x[-1]) == id(v[-1]))"
   ]
  },
  {
   "cell_type": "code",
   "execution_count": null,
   "id": "d5cd069c",
   "metadata": {},
   "outputs": [],
   "source": [
    "x[-1][1] = 401\n",
    "\n",
    "print(x)\n",
    "print(v)"
   ]
  },
  {
   "cell_type": "code",
   "execution_count": null,
   "id": "6833af60",
   "metadata": {},
   "outputs": [],
   "source": [
    "x.append([10,[1,2,[3,4]]])\n",
    "\n",
    "\n",
    "print(x)"
   ]
  },
  {
   "cell_type": "code",
   "execution_count": null,
   "id": "2bd4e5ed",
   "metadata": {},
   "outputs": [],
   "source": [
    "v = copy.deepcopy(x)\n",
    "\n",
    "print(v)"
   ]
  },
  {
   "cell_type": "code",
   "execution_count": null,
   "id": "1d104d1b",
   "metadata": {},
   "outputs": [],
   "source": [
    "print(id(x[-1]), id(x[-1][-1]), id(x[-1][-1][-1]))\n",
    "\n",
    "print(id(v[-1]), id(v[-1][-1]), id(v[-1][-1][-1]))\n",
    "\n"
   ]
  },
  {
   "cell_type": "code",
   "execution_count": null,
   "id": "f70b2ed6",
   "metadata": {},
   "outputs": [],
   "source": [
    "print(id(x[0]))\n",
    "print(id(v[0]))"
   ]
  },
  {
   "cell_type": "code",
   "execution_count": null,
   "id": "6a3f31f7",
   "metadata": {},
   "outputs": [],
   "source": [
    "#copying is also called cloning\n",
    "\n",
    "x = [i*10 for i in range(10) ]\n",
    "\n",
    "print(x)"
   ]
  },
  {
   "cell_type": "code",
   "execution_count": null,
   "id": "7e0dd139",
   "metadata": {},
   "outputs": [],
   "source": [
    "y = x[:]\n",
    "\n",
    "print(x is y)\n",
    "print(id(x), id(y))\n",
    "print(x)\n",
    "print(y)"
   ]
  },
  {
   "cell_type": "code",
   "execution_count": null,
   "id": "8722e4fd",
   "metadata": {},
   "outputs": [],
   "source": [
    "z = x.copy()\n",
    "\n",
    "print(x)\n",
    "print(z)\n",
    "print(x is z)\n",
    "print(id(x), id(z))"
   ]
  },
  {
   "cell_type": "code",
   "execution_count": null,
   "id": "62a9c3c0",
   "metadata": {},
   "outputs": [],
   "source": [
    "tup1 = (1,2,3,[4,5,6])"
   ]
  },
  {
   "cell_type": "code",
   "execution_count": null,
   "id": "fe4837a1",
   "metadata": {},
   "outputs": [],
   "source": [
    "print(dir(dict))"
   ]
  },
  {
   "cell_type": "code",
   "execution_count": null,
   "id": "2232ccbb",
   "metadata": {},
   "outputs": [],
   "source": [
    "import copy\n",
    "\n",
    "w = copy.copy(x)\n",
    "\n",
    "print(x)\n",
    "print(w)\n",
    "print(x is w)\n",
    "print(id(x), id(w))"
   ]
  },
  {
   "cell_type": "code",
   "execution_count": null,
   "id": "cb0fd811",
   "metadata": {},
   "outputs": [],
   "source": []
  },
  {
   "cell_type": "code",
   "execution_count": null,
   "id": "120a8f0c",
   "metadata": {},
   "outputs": [],
   "source": [
    "for i in range(len(x))\n",
    "    print(x[i], ' : ',  x[i] is v[i])\n",
    "    print(id(x[i]), id(v[i]))"
   ]
  },
  {
   "cell_type": "code",
   "execution_count": null,
   "id": "b3f41f66",
   "metadata": {},
   "outputs": [],
   "source": []
  },
  {
   "cell_type": "code",
   "execution_count": null,
   "id": "4f8b87ed",
   "metadata": {},
   "outputs": [],
   "source": []
  },
  {
   "cell_type": "code",
   "execution_count": null,
   "id": "abcba1ca",
   "metadata": {},
   "outputs": [],
   "source": []
  },
  {
   "cell_type": "code",
   "execution_count": null,
   "id": "e7d13b30",
   "metadata": {},
   "outputs": [],
   "source": []
  },
  {
   "cell_type": "code",
   "execution_count": null,
   "id": "542ad7ab",
   "metadata": {},
   "outputs": [],
   "source": []
  },
  {
   "cell_type": "code",
   "execution_count": null,
   "id": "49af1117",
   "metadata": {},
   "outputs": [],
   "source": [
    "# y = 100\n",
    "\n",
    "# x = y\n",
    "\n",
    "# print(x)"
   ]
  },
  {
   "cell_type": "code",
   "execution_count": null,
   "id": "c78c8462",
   "metadata": {
    "scrolled": true
   },
   "outputs": [],
   "source": [
    "#Any changes to x will also be reflected on y. \n",
    "\n",
    "x[2] = 35\n",
    "\n",
    "print(x)\n",
    "print(y)"
   ]
  },
  {
   "cell_type": "code",
   "execution_count": null,
   "id": "3a8f512a",
   "metadata": {},
   "outputs": [],
   "source": [
    "print(x is y)\n",
    "print(id(x), id(y))"
   ]
  },
  {
   "cell_type": "code",
   "execution_count": null,
   "id": "88039264",
   "metadata": {},
   "outputs": [],
   "source": [
    "#If a new object with the same elements as x is required, we have two options: \n",
    "\n",
    "#The by now familiar and popular - slicing\n",
    "\n",
    "x = [x * 10 for x in range(1,10)]\n",
    "\n",
    "\n",
    "y = x[:]\n",
    "\n",
    "print(x)\n",
    "print(y)"
   ]
  },
  {
   "cell_type": "code",
   "execution_count": null,
   "id": "6c8f0643",
   "metadata": {},
   "outputs": [],
   "source": [
    "print(x is y)\n",
    "print(id(x), id(y))"
   ]
  },
  {
   "cell_type": "code",
   "execution_count": null,
   "id": "b64c39e1",
   "metadata": {},
   "outputs": [],
   "source": [
    "z = x.copy()\n",
    "\n",
    "print(z)\n",
    "\n",
    "print(x is z)\n",
    "print(id(x), id(z))"
   ]
  },
  {
   "cell_type": "code",
   "execution_count": null,
   "id": "141fccdf",
   "metadata": {},
   "outputs": [],
   "source": [
    "import copy\n",
    "\n",
    "t = copy.copy(x)\n",
    "\n",
    "print(t)\n",
    "print(x is t)\n",
    "print(id(x), id(t))"
   ]
  },
  {
   "cell_type": "code",
   "execution_count": null,
   "id": "d3749667",
   "metadata": {},
   "outputs": [],
   "source": [
    "print(x)\n",
    "print(y)"
   ]
  },
  {
   "cell_type": "code",
   "execution_count": null,
   "id": "0d3e963d",
   "metadata": {},
   "outputs": [],
   "source": [
    "#Changing x (or y) does not affect the other\n",
    "\n",
    "x[2] = 37\n",
    "\n",
    "print(x)\n",
    "print(y)"
   ]
  },
  {
   "cell_type": "code",
   "execution_count": null,
   "id": "80eb4143",
   "metadata": {},
   "outputs": [],
   "source": [
    "y = x[:]\n",
    "\n",
    "print(x)\n",
    "print(y)"
   ]
  },
  {
   "cell_type": "code",
   "execution_count": null,
   "id": "067db293",
   "metadata": {},
   "outputs": [],
   "source": [
    "y[2] = 73\n",
    "\n",
    "print(x)\n",
    "print(y)"
   ]
  },
  {
   "cell_type": "code",
   "execution_count": null,
   "id": "f41d3d1a",
   "metadata": {},
   "outputs": [],
   "source": [
    "x = [1020, 2010, 'Python$']\n",
    "\n",
    "y = x[:2]\n",
    "\n",
    "print(x)\n",
    "print(y)"
   ]
  },
  {
   "cell_type": "code",
   "execution_count": null,
   "id": "34e7b1c3",
   "metadata": {},
   "outputs": [],
   "source": [
    "print(x is y)\n",
    "print(id(x), id(y))"
   ]
  },
  {
   "cell_type": "code",
   "execution_count": null,
   "id": "5cb1f6a8",
   "metadata": {},
   "outputs": [],
   "source": [
    "print(id(x[0]))\n",
    "print(id(y[0]))"
   ]
  },
  {
   "cell_type": "code",
   "execution_count": null,
   "id": "3a4d16bb",
   "metadata": {},
   "outputs": [],
   "source": [
    "#Another way is to use the copy method in List class/datatype.\n",
    "\n",
    "x = [x*10 for x in range(10)]\n",
    "y = x.copy()\n",
    "\n",
    "print(x)\n",
    "print(y)"
   ]
  },
  {
   "cell_type": "code",
   "execution_count": null,
   "id": "ab495c1c",
   "metadata": {},
   "outputs": [],
   "source": [
    "print(x is y)\n",
    "print(id(x), id(y))"
   ]
  },
  {
   "cell_type": "code",
   "execution_count": null,
   "id": "3a9023e9",
   "metadata": {},
   "outputs": [],
   "source": [
    "x[2] = 37\n",
    "\n",
    "print(x)\n",
    "print(y)"
   ]
  },
  {
   "cell_type": "code",
   "execution_count": null,
   "id": "a37b8253",
   "metadata": {},
   "outputs": [],
   "source": [
    "y = x.copy()\n",
    "\n",
    "print(x)\n",
    "print(y)\n",
    "print(x is y)\n",
    "print(id(x), id(y))"
   ]
  },
  {
   "cell_type": "code",
   "execution_count": null,
   "id": "e7c2f135",
   "metadata": {},
   "outputs": [],
   "source": [
    "x[1] = 1000\n",
    "\n",
    "print(x)\n",
    "print(y)"
   ]
  },
  {
   "cell_type": "code",
   "execution_count": null,
   "id": "91cc9076",
   "metadata": {},
   "outputs": [],
   "source": [
    "x = [1000, 10, 20, 30]\n",
    "y = x\n",
    "\n",
    "print(x is y)\n",
    "print(id(x), id(y))\n",
    "print(id(x[0]), id(y[0]))\n",
    "print(x[0] is y[0])"
   ]
  },
  {
   "cell_type": "code",
   "execution_count": null,
   "id": "fd25176c",
   "metadata": {},
   "outputs": [],
   "source": []
  },
  {
   "cell_type": "code",
   "execution_count": null,
   "id": "bba6389d",
   "metadata": {},
   "outputs": [],
   "source": []
  },
  {
   "cell_type": "code",
   "execution_count": null,
   "id": "a3fecb15",
   "metadata": {},
   "outputs": [],
   "source": []
  },
  {
   "cell_type": "code",
   "execution_count": null,
   "id": "d6692562",
   "metadata": {},
   "outputs": [],
   "source": []
  },
  {
   "cell_type": "code",
   "execution_count": null,
   "id": "1744942c",
   "metadata": {},
   "outputs": [],
   "source": []
  },
  {
   "cell_type": "code",
   "execution_count": null,
   "id": "4d495856",
   "metadata": {},
   "outputs": [],
   "source": []
  },
  {
   "cell_type": "code",
   "execution_count": null,
   "id": "11c1f921",
   "metadata": {},
   "outputs": [],
   "source": [
    "x = [1000, '#', ['a',100, 200,2]]\n",
    "y = x\n",
    "\n",
    "print(x)\n",
    "print(y)"
   ]
  },
  {
   "cell_type": "code",
   "execution_count": null,
   "id": "5fa3f7ac",
   "metadata": {},
   "outputs": [],
   "source": [
    "for a in range(len(x)):\n",
    "    print(f'Item at index {a} is {x[a]}.')\n",
    "    print(f'Items in x and y are the same object : {x[a] is y[a]}.')\n"
   ]
  },
  {
   "cell_type": "code",
   "execution_count": null,
   "id": "33993b00",
   "metadata": {},
   "outputs": [],
   "source": [
    "print(x)"
   ]
  },
  {
   "cell_type": "code",
   "execution_count": null,
   "id": "11c99087",
   "metadata": {},
   "outputs": [],
   "source": [
    "x[2][0] ='Python'\n",
    "\n",
    "print(x)\n",
    "print(y)"
   ]
  },
  {
   "cell_type": "code",
   "execution_count": null,
   "id": "b893b75e",
   "metadata": {},
   "outputs": [],
   "source": [
    "x = [1000, '#', ['a',100, 200,2]]\n",
    "y = x[:]\n",
    "\n",
    "print(x)\n",
    "print(y)\n",
    "print(x is y)"
   ]
  },
  {
   "cell_type": "code",
   "execution_count": null,
   "id": "044a96dc",
   "metadata": {},
   "outputs": [],
   "source": [
    "for a in range(len(x)):\n",
    "    print(f'Item at index {a} is {x[a]}.')\n",
    "    print(f'Items in x and y are the same object : {x[a] is y[a]}.')\n"
   ]
  },
  {
   "cell_type": "code",
   "execution_count": null,
   "id": "97546426",
   "metadata": {},
   "outputs": [],
   "source": [
    "y[1] = '$'\n",
    "\n",
    "print(x)\n",
    "print(y)"
   ]
  },
  {
   "cell_type": "code",
   "execution_count": null,
   "id": "682bbe2c",
   "metadata": {},
   "outputs": [],
   "source": [
    "for a in range(len(x)):\n",
    "    print(f'Item at index {a} is {x[a]}.')\n",
    "    print(f'Items in x and y are the same object : {x[a] is y[a]}.')\n"
   ]
  },
  {
   "cell_type": "code",
   "execution_count": null,
   "id": "00901b79",
   "metadata": {},
   "outputs": [],
   "source": [
    "x = [1000, '#', ['a',100, 200,2]]\n",
    "y = x.copy()\n",
    "\n",
    "print(x)\n",
    "print(y)"
   ]
  },
  {
   "cell_type": "code",
   "execution_count": null,
   "id": "29f6288a",
   "metadata": {},
   "outputs": [],
   "source": [
    "print(x)\n",
    "print(y)\n",
    "\n",
    "for a in range(len(x)):\n",
    "    print(f'Item at index {a} is {x[a]}.')\n",
    "    print(f'Items in x and y are the same object : {x[a] is y[a]}.')\n"
   ]
  },
  {
   "cell_type": "code",
   "execution_count": null,
   "id": "32a94efa",
   "metadata": {},
   "outputs": [],
   "source": [
    "y[1] = 200\n",
    "\n",
    "print(x)\n",
    "print(y)"
   ]
  },
  {
   "cell_type": "code",
   "execution_count": null,
   "id": "c8dae9ed",
   "metadata": {},
   "outputs": [],
   "source": [
    "print(x is y)"
   ]
  },
  {
   "cell_type": "code",
   "execution_count": null,
   "id": "d84d7893",
   "metadata": {},
   "outputs": [],
   "source": [
    "\n",
    "for a in range(len(x)):\n",
    "    print(f'Item at index {a} is {x[a]}.')\n",
    "    print(f'Items in x and y are the same object : {x[a] is y[a]}.')\n"
   ]
  },
  {
   "cell_type": "code",
   "execution_count": null,
   "id": "b74b6c8c",
   "metadata": {
    "scrolled": true
   },
   "outputs": [],
   "source": [
    "# The above methods of slicing or using the built in copy function is called copying. \n",
    "\n",
    "# Or more precisely creating a 'Shallow' copy.\n",
    "\n",
    "# Shallow copying does not work on compound objects since for the compound objects(sequential) objects y also stores the\n",
    "# same memory id as the x and changing the object at that memory location in x changes the object at that memory location in y as\n",
    "# well. \n",
    "\n",
    "x = [1000, '#', ['a',100, 200,2]]\n",
    "y = x.copy()\n",
    "print(x)\n",
    "print(y)"
   ]
  },
  {
   "cell_type": "code",
   "execution_count": null,
   "id": "0fdd0cfc",
   "metadata": {},
   "outputs": [],
   "source": []
  },
  {
   "cell_type": "code",
   "execution_count": null,
   "id": "fbdf50b7",
   "metadata": {},
   "outputs": [],
   "source": [
    "x[2][1] = 1001\n",
    "print(x)\n",
    "print(y)"
   ]
  },
  {
   "cell_type": "code",
   "execution_count": null,
   "id": "5f8a3caf",
   "metadata": {},
   "outputs": [],
   "source": []
  },
  {
   "cell_type": "code",
   "execution_count": null,
   "id": "3f71a8ef",
   "metadata": {},
   "outputs": [],
   "source": [
    "y[1] = 100\n",
    "\n",
    "print(y)"
   ]
  },
  {
   "cell_type": "code",
   "execution_count": null,
   "id": "5e08e72c",
   "metadata": {},
   "outputs": [],
   "source": [
    "x[1] = 300\n",
    "\n",
    "print(x)\n",
    "print(y)"
   ]
  },
  {
   "cell_type": "code",
   "execution_count": null,
   "id": "8e4422dc",
   "metadata": {},
   "outputs": [],
   "source": []
  },
  {
   "cell_type": "code",
   "execution_count": null,
   "id": "56c5d3b7",
   "metadata": {},
   "outputs": [],
   "source": []
  },
  {
   "cell_type": "code",
   "execution_count": null,
   "id": "4763307c",
   "metadata": {},
   "outputs": [],
   "source": []
  },
  {
   "cell_type": "code",
   "execution_count": null,
   "id": "c8356184",
   "metadata": {},
   "outputs": [],
   "source": [
    "import copy"
   ]
  },
  {
   "cell_type": "code",
   "execution_count": null,
   "id": "ef3e59ea",
   "metadata": {},
   "outputs": [],
   "source": [
    "x = [1000,'#',['a', 1000, 2000, 2020]]\n",
    "\n",
    "y = copy.deepcopy(x)\n",
    "\n",
    "print(x)\n",
    "print(y)"
   ]
  },
  {
   "cell_type": "code",
   "execution_count": null,
   "id": "30f8fe5a",
   "metadata": {},
   "outputs": [],
   "source": [
    "for i in range(len(x)):\n",
    "    print(x[i] is y[i])"
   ]
  },
  {
   "cell_type": "code",
   "execution_count": null,
   "id": "2c308601",
   "metadata": {},
   "outputs": [],
   "source": [
    "x[2][2] = 2001\n",
    "\n",
    "print(x)\n",
    "\n",
    "\n",
    "print(y)"
   ]
  },
  {
   "cell_type": "code",
   "execution_count": null,
   "id": "618c2cd7",
   "metadata": {},
   "outputs": [],
   "source": [
    "x = [1000,'#', ['a', 100, 200, 2,[200,300,['x','y']]]]\n",
    "\n",
    "y = copy.deepcopy(x)\n",
    "\n",
    "print(x)\n",
    "print(y)"
   ]
  },
  {
   "cell_type": "code",
   "execution_count": null,
   "id": "7beb17ac",
   "metadata": {},
   "outputs": [],
   "source": [
    "y[2][4][2][0] = 'C'\n",
    "print(x)\n",
    "print(y)"
   ]
  },
  {
   "cell_type": "code",
   "execution_count": null,
   "id": "32be46c4",
   "metadata": {},
   "outputs": [],
   "source": []
  },
  {
   "cell_type": "code",
   "execution_count": null,
   "id": "ee4ed9e7",
   "metadata": {},
   "outputs": [],
   "source": []
  },
  {
   "cell_type": "code",
   "execution_count": null,
   "id": "d43fc6b2",
   "metadata": {},
   "outputs": [],
   "source": []
  },
  {
   "cell_type": "code",
   "execution_count": null,
   "id": "4917f72a",
   "metadata": {},
   "outputs": [],
   "source": [
    "x = [1,2,3,4, [5,6,7,8]]\n",
    "\n",
    "y = x.copy()\n",
    "\n",
    "z = copy.deepcopy(x)\n",
    "\n",
    "print(x,y,z, sep ='\\n')\n",
    "\n",
    "print(id(x[-1]) is id(z[-1]))\n",
    "\n"
   ]
  },
  {
   "cell_type": "code",
   "execution_count": null,
   "id": "54c02938",
   "metadata": {},
   "outputs": [],
   "source": [
    "import copy\n",
    "\n",
    "x = [1,2,3,4]\n",
    "y = x.copy()\n",
    "z = copy.copy(x)\n",
    "\n",
    "print(x)\n",
    "print(y)\n",
    "print(z)"
   ]
  },
  {
   "cell_type": "code",
   "execution_count": null,
   "id": "a84969d7",
   "metadata": {},
   "outputs": [],
   "source": []
  },
  {
   "cell_type": "code",
   "execution_count": null,
   "id": "902db218",
   "metadata": {},
   "outputs": [],
   "source": []
  },
  {
   "cell_type": "code",
   "execution_count": null,
   "id": "56f7e9ac",
   "metadata": {},
   "outputs": [],
   "source": []
  },
  {
   "cell_type": "code",
   "execution_count": null,
   "id": "5eecb572",
   "metadata": {},
   "outputs": [],
   "source": [
    "x[1] = 2020\n",
    "\n",
    "print(x)\n",
    "print(y)\n",
    "print(z)"
   ]
  },
  {
   "cell_type": "code",
   "execution_count": null,
   "id": "d78721e4",
   "metadata": {},
   "outputs": [],
   "source": [
    "x[4][1] = 60\n",
    "\n",
    "print(x)\n",
    "print(y)\n",
    "print(z)"
   ]
  },
  {
   "cell_type": "code",
   "execution_count": null,
   "id": "976b053a",
   "metadata": {},
   "outputs": [],
   "source": [
    "x[2][0] = 'Python'\n",
    "\n",
    "print(x)\n",
    "print(y)\n"
   ]
  },
  {
   "cell_type": "code",
   "execution_count": null,
   "id": "327fdb0b",
   "metadata": {},
   "outputs": [],
   "source": []
  },
  {
   "cell_type": "code",
   "execution_count": null,
   "id": "61dbc86a",
   "metadata": {},
   "outputs": [],
   "source": [
    "#Note that copy module also has a copy method but the functioning is exactly as the built-in copy method - and it creates\n",
    "# a shallow copy and is rarely used. It MAY be used to highlight that a shallow copy is being created. But even then it is\n",
    "# easier to use the built-in copy method and just comment a '#Shallow copy'"
   ]
  },
  {
   "cell_type": "code",
   "execution_count": null,
   "id": "4125efa2",
   "metadata": {},
   "outputs": [],
   "source": [
    "#Deepcopy on Dictionaries\n",
    "\n",
    "xd = {'a': 100, 'b':{'p': [300, 700, 900]}, 'c':'Python' }\n",
    "\n",
    "yd = copy.deepcopy(xd)\n",
    "\n",
    "xd['a'] = 1001\n",
    "\n",
    "print(xd)\n",
    "print(yd)"
   ]
  },
  {
   "cell_type": "code",
   "execution_count": null,
   "id": "33981436",
   "metadata": {},
   "outputs": [],
   "source": [
    "xd['b']['p'][1] = 7001\n",
    "\n",
    "print(xd)\n",
    "print(yd)"
   ]
  },
  {
   "cell_type": "code",
   "execution_count": null,
   "id": "4026784a",
   "metadata": {},
   "outputs": [],
   "source": [
    "#Deepcopy on Sets\n",
    "\n",
    "xs = {870, 901, 1012, 'Python'}\n",
    "\n",
    "ys = copy.deepcopy(xs)\n",
    "\n",
    "xs.remove(1012)\n",
    "\n",
    "print(xs)\n",
    "print(ys)"
   ]
  },
  {
   "cell_type": "code",
   "execution_count": null,
   "id": "41ca6550",
   "metadata": {},
   "outputs": [],
   "source": [
    "xs.add(2024)\n",
    "\n",
    "print(xs)\n",
    "print(ys)"
   ]
  },
  {
   "cell_type": "code",
   "execution_count": null,
   "id": "9cf3e7fc",
   "metadata": {},
   "outputs": [],
   "source": [
    "#Deepcopy on Tuples\n",
    "\n",
    "xs = ('a', 'b', [300, 500, 800])\n",
    "\n",
    "ys = copy.deepcopy(xs)\n",
    "\n",
    "xs[2][1] = 501\n",
    "\n",
    "print(xs)\n",
    "print(ys)"
   ]
  },
  {
   "cell_type": "code",
   "execution_count": null,
   "id": "84b9817a",
   "metadata": {},
   "outputs": [],
   "source": [
    "#Functions for use with list datatype\n",
    "\n",
    "#Sum function\n",
    "lst1 = list(range(1,10))\n",
    "print(lst1)"
   ]
  },
  {
   "cell_type": "code",
   "execution_count": null,
   "id": "8ea435af",
   "metadata": {},
   "outputs": [],
   "source": [
    "x = sum(lst1, start = 100)\n",
    "print(x)"
   ]
  },
  {
   "cell_type": "code",
   "execution_count": null,
   "id": "9d53df53",
   "metadata": {},
   "outputs": [],
   "source": [
    "# Sum function in Python can take in two parameters - \n",
    "\n",
    "# 1. The iterable to be summed (e.g. list, tuple, set)\n",
    "# 2. The start - This number will be added to the sum - basically where to start summing from. \n",
    "\n",
    "# All the elements in the iterable must be numbers. \n",
    "\n",
    "x = sum(lst1, 1000)\n",
    "print(x)"
   ]
  },
  {
   "cell_type": "code",
   "execution_count": null,
   "id": "554f402d",
   "metadata": {},
   "outputs": [],
   "source": [
    "import math\n",
    "\n",
    "\n",
    "print(dir(math))"
   ]
  },
  {
   "cell_type": "code",
   "execution_count": null,
   "id": "0c191100",
   "metadata": {},
   "outputs": [],
   "source": [
    "print(math.pow(5,2))"
   ]
  },
  {
   "cell_type": "code",
   "execution_count": null,
   "id": "258dc73d",
   "metadata": {},
   "outputs": [],
   "source": [
    "print(dir(__builtins__))"
   ]
  },
  {
   "cell_type": "code",
   "execution_count": null,
   "id": "18e486c0",
   "metadata": {},
   "outputs": [],
   "source": [
    "lst1 = list('abcdefghij')\n",
    "\n",
    "print(lst1)\n",
    "print(sum(lst1))"
   ]
  },
  {
   "cell_type": "code",
   "execution_count": null,
   "id": "051be243",
   "metadata": {},
   "outputs": [],
   "source": [
    "y = [101, 201, 'Python', 1001]\n",
    "\n",
    "#print(z)"
   ]
  },
  {
   "cell_type": "code",
   "execution_count": null,
   "id": "3f14e2c3",
   "metadata": {},
   "outputs": [],
   "source": [
    "print(y)"
   ]
  },
  {
   "cell_type": "code",
   "execution_count": null,
   "id": "e23615f2",
   "metadata": {},
   "outputs": [],
   "source": [
    "y.append('Learnbay')\n",
    "\n",
    "print(y)"
   ]
  },
  {
   "cell_type": "code",
   "execution_count": null,
   "id": "c41f763b",
   "metadata": {},
   "outputs": [],
   "source": [
    "y.append('Python')\n",
    "\n",
    "print(y)"
   ]
  },
  {
   "cell_type": "code",
   "execution_count": null,
   "id": "cec4a6dc",
   "metadata": {},
   "outputs": [],
   "source": [
    "#Index function. \n",
    "\n",
    "#Returns the first occurrence of the element in the list. Takes 3 parameters\n",
    "\n",
    "#1. The element to be searched.\n",
    "#2. Start - the index number of where to start search from. Optional - defaults to 0 if not provided\n",
    "#3. End - the index number of where to end. Optional - defaults to index number of end of list if not provided.\n",
    "\n",
    "# If the element to be searched is not present - it returns a ValueError\n",
    "\n",
    "print(y.index('Python',0,2))"
   ]
  },
  {
   "cell_type": "code",
   "execution_count": null,
   "id": "771c2853",
   "metadata": {},
   "outputs": [],
   "source": [
    "print(dir(list))"
   ]
  },
  {
   "cell_type": "code",
   "execution_count": null,
   "id": "9c165a9b",
   "metadata": {},
   "outputs": [],
   "source": [
    "x = y.index('Python')\n",
    "\n",
    "print(x)"
   ]
  },
  {
   "cell_type": "code",
   "execution_count": null,
   "id": "adc25ae9",
   "metadata": {},
   "outputs": [],
   "source": [
    "y.append('Python')"
   ]
  },
  {
   "cell_type": "code",
   "execution_count": null,
   "id": "cf8107f2",
   "metadata": {},
   "outputs": [],
   "source": [
    "print(y)"
   ]
  },
  {
   "cell_type": "code",
   "execution_count": null,
   "id": "3802e677",
   "metadata": {},
   "outputs": [],
   "source": [
    "x = y.index('Python',3,6)\n",
    "\n",
    "print(x)"
   ]
  },
  {
   "cell_type": "code",
   "execution_count": null,
   "id": "9bdc855e",
   "metadata": {},
   "outputs": [],
   "source": [
    "print(dir(list))"
   ]
  },
  {
   "cell_type": "code",
   "execution_count": null,
   "id": "384be8c9",
   "metadata": {},
   "outputs": [],
   "source": [
    "y = [100,200,'Python',2+3J, 1001, 'abc','Python']\n",
    "\n",
    "x = y.index('Python', 2, 5)\n",
    "\n",
    "print(x)"
   ]
  },
  {
   "cell_type": "code",
   "execution_count": null,
   "id": "22b20ecf",
   "metadata": {},
   "outputs": [],
   "source": [
    "print(y)"
   ]
  },
  {
   "cell_type": "code",
   "execution_count": null,
   "id": "62c160d8",
   "metadata": {},
   "outputs": [],
   "source": [
    "x = y.index('Python',3)\n",
    "\n",
    "print(x)"
   ]
  },
  {
   "cell_type": "code",
   "execution_count": null,
   "id": "c56122c3",
   "metadata": {},
   "outputs": [],
   "source": [
    "x = y.index('Python',3,len(y))\n",
    "\n",
    "print(x)"
   ]
  },
  {
   "cell_type": "code",
   "execution_count": null,
   "id": "668ca9ca",
   "metadata": {},
   "outputs": [],
   "source": [
    "x = y.index('Python',,len(y))\n",
    "\n",
    "print(x)\n",
    "\n",
    "# As always, without providing the start index, we cannot provide the stop index\n",
    "\n",
    "#Unlike strings - No rindex method."
   ]
  },
  {
   "cell_type": "code",
   "execution_count": null,
   "id": "9c84cf78",
   "metadata": {},
   "outputs": [],
   "source": [
    "#Min and Max functions\n",
    "\n",
    "lst1 = [1,2,7,5,11,4]\n",
    "\n",
    "print(min(lst1))\n",
    "\n"
   ]
  },
  {
   "cell_type": "code",
   "execution_count": null,
   "id": "0f0f8522",
   "metadata": {},
   "outputs": [],
   "source": [
    "print(max(lst1))"
   ]
  },
  {
   "cell_type": "code",
   "execution_count": null,
   "id": "576c5823",
   "metadata": {},
   "outputs": [],
   "source": [
    "lstalpha = list('jakAgakjgjx')\n",
    "\n",
    "print(min(lstalpha))"
   ]
  },
  {
   "cell_type": "code",
   "execution_count": null,
   "id": "c43ed7ef",
   "metadata": {},
   "outputs": [],
   "source": [
    "a = min(lst1)\n",
    "print(a)"
   ]
  },
  {
   "cell_type": "code",
   "execution_count": null,
   "id": "cd4f6a99",
   "metadata": {},
   "outputs": [],
   "source": [
    "b = max(lstalpha)\n",
    "print(b)"
   ]
  },
  {
   "cell_type": "code",
   "execution_count": null,
   "id": "e2168aa8",
   "metadata": {},
   "outputs": [],
   "source": [
    "print(dir(list))"
   ]
  },
  {
   "cell_type": "code",
   "execution_count": null,
   "id": "777f32f5",
   "metadata": {},
   "outputs": [],
   "source": [
    "A-Z = 65 - 91\n",
    "a-z = 97 - 123"
   ]
  },
  {
   "cell_type": "code",
   "execution_count": null,
   "id": "a7fe7559",
   "metadata": {},
   "outputs": [],
   "source": [
    "lst_alpha = ['Python', 'a', 'Seventy-Two']\n",
    "\n",
    "print(min(lst_alpha))"
   ]
  },
  {
   "cell_type": "code",
   "execution_count": null,
   "id": "b0685618",
   "metadata": {},
   "outputs": [],
   "source": [
    "print(max(lst_alpha))"
   ]
  },
  {
   "cell_type": "code",
   "execution_count": null,
   "id": "521954e5",
   "metadata": {},
   "outputs": [],
   "source": [
    "print(ord('P'), ord('a'), ord('s'))"
   ]
  },
  {
   "cell_type": "code",
   "execution_count": null,
   "id": "b47eccd3",
   "metadata": {},
   "outputs": [],
   "source": [
    "#Note while working with strings - that the min/max method calculates the ORDER in which the characters are stored in\n",
    "# ordinal values and checks for the first character (and each subsequent character if tied). Therefore - Capital A is the \n",
    "# lowest and small z is the highest. \n",
    "\n",
    "lst_alpha2 = [\"Python\", 'a', 'seventy-two']\n",
    "\n",
    "print(max(lst_alpha2))"
   ]
  },
  {
   "cell_type": "code",
   "execution_count": null,
   "id": "cf132aae",
   "metadata": {},
   "outputs": [],
   "source": [
    "lst_alpha3 = ['Python', 'Pithon']\n",
    "\n",
    "print(max(lst_alpha3))"
   ]
  },
  {
   "cell_type": "code",
   "execution_count": null,
   "id": "d0ac5d5b",
   "metadata": {},
   "outputs": [],
   "source": [
    "lst_alpha4 = [\"Python\", \"Qython\"]\n",
    "\n",
    "print(max(lst_alpha4))"
   ]
  },
  {
   "cell_type": "code",
   "execution_count": null,
   "id": "ec21f022",
   "metadata": {},
   "outputs": [],
   "source": [
    "lst5 = ['P', 200, 50, 75]\n",
    "\n",
    "print(min(lst5))\n",
    "\n",
    "#With mixed datatypes the comparison of min and max cannot be performed.\n"
   ]
  },
  {
   "cell_type": "code",
   "execution_count": null,
   "id": "a7f949bb",
   "metadata": {},
   "outputs": [],
   "source": [
    "#Count method in Lists. Counts the number of times an element occurs in a list. \n",
    "\n",
    "lst= ['P', 200, 50, 75, 200, 'P', 50, 'P', 20]\n",
    "\n",
    "print(lst.count(200))"
   ]
  },
  {
   "cell_type": "code",
   "execution_count": null,
   "id": "29ac9e27",
   "metadata": {},
   "outputs": [],
   "source": []
  },
  {
   "cell_type": "code",
   "execution_count": null,
   "id": "764e21bb",
   "metadata": {},
   "outputs": [],
   "source": [
    "y = lst.count('P')\n",
    "print(y)"
   ]
  },
  {
   "cell_type": "code",
   "execution_count": null,
   "id": "08f47b02",
   "metadata": {},
   "outputs": [],
   "source": [
    "#Returns the count as a value so the value can be stored in a variable.\n",
    "\n",
    "#Takes only one parameter - the item to be counted\n",
    "\n",
    "# Returns TypeError if more than one element to count passed into the arguments. \n",
    "\n",
    "y = lst.count(200)\n",
    "print(y)"
   ]
  },
  {
   "cell_type": "code",
   "execution_count": null,
   "id": "ea29baf6",
   "metadata": {},
   "outputs": [],
   "source": [
    "#Insert Method on Lists. Inserts item at specified index position in a list. Performs operation on original list and has\n",
    "# no return. \n",
    "\n",
    "#Takes 2 arguments - Both mandatory:\n",
    "#1. Index position to be inserted at. \n",
    "#2. Item to be inserted\n",
    "\n",
    "lst = [100,200,'Python',2+3J, 1001, 'abc','Python']\n",
    "\n",
    "print(lst)"
   ]
  },
  {
   "cell_type": "code",
   "execution_count": null,
   "id": "030d4da0",
   "metadata": {},
   "outputs": [],
   "source": [
    "lst.insert(-2, 'XYZ')\n",
    "\n",
    "print(lst)"
   ]
  },
  {
   "cell_type": "code",
   "execution_count": null,
   "id": "f977d588",
   "metadata": {},
   "outputs": [],
   "source": [
    "lst1 = lst.insert(0,'ABC')\n",
    "\n",
    "print(lst)\n",
    "print(lst1)"
   ]
  },
  {
   "cell_type": "code",
   "execution_count": null,
   "id": "b440517e",
   "metadata": {},
   "outputs": [],
   "source": [
    "#Cannot specify more than one index position or item to be inserted at one time. \n",
    "\n",
    "lst.insert(12,'Python')"
   ]
  },
  {
   "cell_type": "code",
   "execution_count": null,
   "id": "47c5adf3",
   "metadata": {},
   "outputs": [],
   "source": [
    "print(lst)"
   ]
  },
  {
   "cell_type": "code",
   "execution_count": null,
   "id": "0f782e20",
   "metadata": {},
   "outputs": [],
   "source": [
    "print(len(lst))"
   ]
  },
  {
   "cell_type": "code",
   "execution_count": null,
   "id": "a3cc6009",
   "metadata": {},
   "outputs": [],
   "source": [
    "#Also throws a TypeError if only one parameter specified i.e. there is no default index number. \n",
    "lst.insert('ABCD')\n",
    "print(lst)"
   ]
  },
  {
   "cell_type": "code",
   "execution_count": null,
   "id": "30482e56",
   "metadata": {},
   "outputs": [],
   "source": [
    "#Extend method on Lists. Extends the list by the elements specified in the parameter. \n",
    "\n",
    "lst1 = ['a', 100, 2001, 10.2, 'XYZ']\n",
    "lst2 = ['b', 'C for Chair', 1132]\n",
    "\n",
    "print(lst1)\n",
    "print(lst2)"
   ]
  },
  {
   "cell_type": "code",
   "execution_count": null,
   "id": "0940af93",
   "metadata": {},
   "outputs": [],
   "source": [
    "lst1x = lst1.extend(lst2)\n",
    "\n",
    "print(lst1)\n",
    "print(lst2)\n",
    "print(lst1x)"
   ]
  },
  {
   "cell_type": "code",
   "execution_count": null,
   "id": "a1e74d6c",
   "metadata": {},
   "outputs": [],
   "source": [
    "Extend modifies the original list and gives no return. \n",
    "\n",
    "Concatenate - creates a new list object and the original list remains unchanged. "
   ]
  },
  {
   "cell_type": "code",
   "execution_count": null,
   "id": "32417e12",
   "metadata": {},
   "outputs": [],
   "source": [
    "print(lst1x)"
   ]
  },
  {
   "cell_type": "code",
   "execution_count": null,
   "id": "1a8145a0",
   "metadata": {},
   "outputs": [],
   "source": [
    "lst1 = ['a', 100, 2001, 10.2, 'XYZ']\n",
    "lst2 = ['b', 'C for Chair', 1132]\n",
    "\n",
    "print(lst1, type(lst1))\n",
    "print(lst2, type(lst2))"
   ]
  },
  {
   "cell_type": "code",
   "execution_count": null,
   "id": "efbe7ed7",
   "metadata": {},
   "outputs": [],
   "source": [
    "lst3 = lst1 + lst2\n",
    "\n",
    "print(lst3)\n",
    "print(lst1)\n",
    "print(lst2)"
   ]
  },
  {
   "cell_type": "code",
   "execution_count": null,
   "id": "79660313",
   "metadata": {},
   "outputs": [],
   "source": []
  },
  {
   "cell_type": "code",
   "execution_count": null,
   "id": "55b3f4f3",
   "metadata": {},
   "outputs": [],
   "source": [
    "lst4 = lst1.extend(lst2)\n",
    "\n",
    "print(lst1)\n",
    "print(lst2)\n",
    "print(lst4)"
   ]
  },
  {
   "cell_type": "code",
   "execution_count": null,
   "id": "3b81a53c",
   "metadata": {},
   "outputs": [],
   "source": [
    "print(lst1)\n",
    "print(lst2)"
   ]
  },
  {
   "cell_type": "code",
   "execution_count": null,
   "id": "94acdd24",
   "metadata": {},
   "outputs": [],
   "source": [
    "lst1 = ['a', 100, 2001, 10.2, 'XYZ']\n",
    "lst2 = ('b', 'C for Chair', 1132)\n",
    "\n",
    "print(lst1)\n",
    "print(lst2)"
   ]
  },
  {
   "cell_type": "code",
   "execution_count": null,
   "id": "b7776a87",
   "metadata": {},
   "outputs": [],
   "source": [
    "lst3 = lst1 + lst2\n",
    "\n",
    "print(lst3)"
   ]
  },
  {
   "cell_type": "code",
   "execution_count": null,
   "id": "06d892c9",
   "metadata": {},
   "outputs": [],
   "source": [
    "lst1.extend(lst2)\n",
    "\n",
    "print(lst1)\n",
    "print(id(lst1))"
   ]
  },
  {
   "cell_type": "code",
   "execution_count": null,
   "id": "4a3a534f",
   "metadata": {},
   "outputs": [],
   "source": [
    "print(id(lst1))"
   ]
  },
  {
   "cell_type": "code",
   "execution_count": null,
   "id": "a5c19a67",
   "metadata": {},
   "outputs": [],
   "source": [
    "lst1 = lst1 + lst2\n",
    "\n",
    "print(lst1)\n",
    "print(id(lst1))"
   ]
  },
  {
   "cell_type": "code",
   "execution_count": null,
   "id": "3659eb86",
   "metadata": {},
   "outputs": [],
   "source": [
    "lst1.extend('abcde')\n",
    "\n",
    "print(lst1)"
   ]
  },
  {
   "cell_type": "code",
   "execution_count": null,
   "id": "0907781d",
   "metadata": {},
   "outputs": [],
   "source": [
    "lst1.extend(['abcde'])\n",
    "\n",
    "print(lst1)"
   ]
  },
  {
   "cell_type": "code",
   "execution_count": null,
   "id": "e9761e4f",
   "metadata": {},
   "outputs": [],
   "source": []
  },
  {
   "cell_type": "code",
   "execution_count": null,
   "id": "b84e8453",
   "metadata": {},
   "outputs": [],
   "source": [
    "#Difference between Concatenation and Extend method. \n",
    "\n",
    "#1. Extend method modifies the original list while concatenation creates a new list object. \n",
    "#2. Extend method can be used between datatypes(iterables). Concatenation can only be performed between two lists (same datatypes). \n",
    "\n",
    "lst_x = lst1.extend(lst2)\n",
    "print(lst1)\n",
    "print(lst_x)"
   ]
  },
  {
   "cell_type": "code",
   "execution_count": null,
   "id": "650b2c5d",
   "metadata": {},
   "outputs": [],
   "source": [
    "xy = lst1 + 'abc'\n",
    "\n",
    "print(xy)"
   ]
  },
  {
   "cell_type": "code",
   "execution_count": null,
   "id": "da31bed5",
   "metadata": {},
   "outputs": [],
   "source": [
    "lst1.extend('pqrs')\n",
    "\n",
    "print(lst1)\n",
    "\n"
   ]
  },
  {
   "cell_type": "code",
   "execution_count": null,
   "id": "3b716a7d",
   "metadata": {},
   "outputs": [],
   "source": [
    "lst3 = ['pqrs', 'xyz']\n",
    "\n",
    "lst1.extend(lst3)\n",
    "\n",
    "print(lst1)"
   ]
  },
  {
   "cell_type": "code",
   "execution_count": null,
   "id": "a0761fe0",
   "metadata": {},
   "outputs": [],
   "source": [
    "#Note how extend treats each of the element in the iterable 'pqrs' as a separate element and adds each of them to the\n",
    "# original list. \n",
    "\n",
    "tup_y = (17, 'Airplane', 'Train')\n",
    "\n",
    "lst1.extend(tup_y)\n",
    "\n",
    "print(lst1)"
   ]
  },
  {
   "cell_type": "code",
   "execution_count": null,
   "id": "ad319a07",
   "metadata": {},
   "outputs": [],
   "source": [
    "lst3 = lst1 + tup_y\n",
    "\n",
    "print(lst3)"
   ]
  },
  {
   "cell_type": "code",
   "execution_count": null,
   "id": "4c838cad",
   "metadata": {},
   "outputs": [],
   "source": [
    "#If we need to treat the iterable as a single element - we need to put it in another iterable as one object and then extend\n",
    "# list\n",
    "\n",
    "tup_z = ('pqrs',)\n",
    "\n",
    "print(tup_z)\n",
    "print(type(tup_z))"
   ]
  },
  {
   "cell_type": "code",
   "execution_count": null,
   "id": "17998b9b",
   "metadata": {},
   "outputs": [],
   "source": [
    "lst1.extend(tup_z)\n",
    "\n",
    "print(lst1)"
   ]
  },
  {
   "cell_type": "code",
   "execution_count": null,
   "id": "ce288e56",
   "metadata": {},
   "outputs": [],
   "source": [
    "#Clear method on Lists - clears the original list of all elements. \n",
    "\n",
    "lst2 = lst1.clear()\n",
    "\n",
    "print(lst1)\n",
    "print(id(lst1))\n",
    "print(lst2)\n"
   ]
  },
  {
   "cell_type": "code",
   "execution_count": null,
   "id": "8aa96d93",
   "metadata": {},
   "outputs": [],
   "source": [
    "del(lst1)\n",
    "\n",
    "print(lst1)"
   ]
  },
  {
   "cell_type": "code",
   "execution_count": null,
   "id": "d20fa682",
   "metadata": {},
   "outputs": [],
   "source": [
    "#Modifies original list and returns none. \n",
    "\n",
    "lst1 = list('abcde')\n",
    "\n",
    "print(lst1)"
   ]
  },
  {
   "cell_type": "code",
   "execution_count": null,
   "id": "db1f4ae4",
   "metadata": {},
   "outputs": [],
   "source": [
    "lst2 = lst1.clear()\n",
    "\n",
    "print(lst1)\n",
    "print(lst2)"
   ]
  },
  {
   "cell_type": "code",
   "execution_count": 1,
   "id": "f272d85f",
   "metadata": {},
   "outputs": [
    {
     "name": "stdout",
     "output_type": "stream",
     "text": [
      "[1, 2, 3, 4, 5, 6] <class 'list'>\n",
      "[10, 20, 30, 40, 50, 60] <class 'list'>\n",
      "['a', 'b', 'c', 'd', 'e', 'f'] <class 'list'>\n"
     ]
    }
   ],
   "source": [
    "#Packing and unpacking list. Packing is nothing but assigning elements / objects to a list which we have seen previously. \n",
    "\n",
    "lst1 = [1,2,3,4,5,6]\n",
    "lst2 = [10,20,30,40,50,60]\n",
    "lst3 = list('abcdef')\n",
    "\n",
    "print(lst1, type(lst1))\n",
    "print(lst2, type(lst2))\n",
    "print(lst3, type(lst3))"
   ]
  },
  {
   "cell_type": "code",
   "execution_count": 2,
   "id": "910b4fba",
   "metadata": {},
   "outputs": [
    {
     "name": "stdout",
     "output_type": "stream",
     "text": [
      "1 2 3 4 5 6\n"
     ]
    }
   ],
   "source": [
    "a = lst1[0]\n",
    "b = lst1[1]\n",
    "c = lst1[2]\n",
    "d = lst1[3]\n",
    "e = lst1[4]\n",
    "f = lst1[5]\n",
    "print(a, b,c,d,e,f)"
   ]
  },
  {
   "cell_type": "code",
   "execution_count": 5,
   "id": "1f8bd373",
   "metadata": {},
   "outputs": [
    {
     "name": "stdout",
     "output_type": "stream",
     "text": [
      "1\n",
      "2\n",
      "3\n",
      "4\n",
      "5\n",
      "6\n"
     ]
    }
   ],
   "source": [
    "# Unpacking\n",
    "\n",
    "p,q,r,s,t,u = lst1\n",
    "\n",
    "print(p,q,r,s,t,u, sep = '\\n')"
   ]
  },
  {
   "cell_type": "code",
   "execution_count": 6,
   "id": "a0c846a9",
   "metadata": {},
   "outputs": [
    {
     "name": "stdout",
     "output_type": "stream",
     "text": [
      "a\n",
      "b\n",
      "c\n",
      "d\n",
      "e\n"
     ]
    }
   ],
   "source": [
    "p,q,r,s,t = 'abcdefghij'\n",
    "\n",
    "print(p,q,r,s,t, sep = '\\n')"
   ]
  },
  {
   "cell_type": "code",
   "execution_count": 8,
   "id": "96a18525",
   "metadata": {},
   "outputs": [
    {
     "name": "stdout",
     "output_type": "stream",
     "text": [
      "['a', 'b', 'c', 'd', 'e', 'f', 'g', 'h', 'i', 'j']\n"
     ]
    }
   ],
   "source": [
    "lstalpha = list('abcdefghij')\n",
    "\n",
    "print(lstalpha)"
   ]
  },
  {
   "cell_type": "code",
   "execution_count": 15,
   "id": "1e458710",
   "metadata": {},
   "outputs": [
    {
     "name": "stdout",
     "output_type": "stream",
     "text": [
      "a\n",
      "b\n",
      "['c', 'd', 'e', 'f', 'g', 'h']\n",
      "i\n",
      "j\n"
     ]
    }
   ],
   "source": [
    "p,q,*r,s,t = lstalpha\n",
    "\n",
    "\n",
    "\n",
    "print(p,q,r,s,t, sep = '\\n')"
   ]
  },
  {
   "cell_type": "code",
   "execution_count": null,
   "id": "bb51b709",
   "metadata": {},
   "outputs": [],
   "source": []
  },
  {
   "cell_type": "code",
   "execution_count": null,
   "id": "976d81ed",
   "metadata": {},
   "outputs": [],
   "source": [
    "#Unpacking however, is assigning the values inside a list(or a tuple) to variables. The variables are on the left and \n",
    "# the list is on the right of the expression. \n",
    "\n",
    "a,b,c,d,e,f = lst1\n",
    "\n",
    "print(a,b,c,d,e,f, sep = '\\n')"
   ]
  },
  {
   "cell_type": "code",
   "execution_count": null,
   "id": "c89383d6",
   "metadata": {},
   "outputs": [],
   "source": [
    "tup1 = tuple(range(6))\n",
    "\n",
    "a,b,c,d,e,f = tup1\n",
    "\n",
    "print(a,b,c,d,e,f)"
   ]
  },
  {
   "cell_type": "code",
   "execution_count": null,
   "id": "15b52464",
   "metadata": {},
   "outputs": [],
   "source": [
    "a,b,c,d,e,f = lst2\n",
    "\n",
    "print(a,b,c,d,e,f, sep = '\\n')"
   ]
  },
  {
   "cell_type": "code",
   "execution_count": null,
   "id": "ad3af4c3",
   "metadata": {},
   "outputs": [],
   "source": [
    "print(lst3)"
   ]
  },
  {
   "cell_type": "code",
   "execution_count": null,
   "id": "80abdd47",
   "metadata": {},
   "outputs": [],
   "source": [
    "a,b,c,d,e,f = lst3\n",
    "\n",
    "print(lst3)\n",
    "\n",
    "print(a,b,c,d,e,f, sep = '\\n')"
   ]
  },
  {
   "cell_type": "code",
   "execution_count": null,
   "id": "61b01710",
   "metadata": {},
   "outputs": [],
   "source": [
    "print(lst2)"
   ]
  },
  {
   "cell_type": "code",
   "execution_count": null,
   "id": "91e744d8",
   "metadata": {},
   "outputs": [],
   "source": [
    "#The number of variables must correspond to the elements in the list (or we use the * to prefix a single variable to collect\n",
    "# the rest of the elements. More on that later).\n",
    "\n",
    "a,*b, c, d = tup1\n",
    "\n",
    "print(a,b, c, d, sep = '\\n')\n",
    "\n",
    "print(type(a))\n",
    "print(type(b))\n",
    "print(type(c))"
   ]
  },
  {
   "cell_type": "code",
   "execution_count": null,
   "id": "a5674ff9",
   "metadata": {},
   "outputs": [],
   "source": []
  },
  {
   "cell_type": "code",
   "execution_count": null,
   "id": "3b349aed",
   "metadata": {},
   "outputs": [],
   "source": [
    "print(lst1)"
   ]
  },
  {
   "cell_type": "code",
   "execution_count": null,
   "id": "fd96456c",
   "metadata": {},
   "outputs": [],
   "source": [
    "#However, if we need only some of the variables assigned and the rest in a single list we can add the * prefix infront of\n",
    "# one of the variables - and this will collect all the remaining variables after the n number of variables are each assigned\n",
    "# an element from the list. \n",
    "\n",
    "a,b, *c = lst1\n",
    "\n",
    "print(a,b,c, sep = '\\n')"
   ]
  },
  {
   "cell_type": "code",
   "execution_count": null,
   "id": "5581c896",
   "metadata": {},
   "outputs": [],
   "source": [
    "\n",
    "a,*b,c, d = lst1\n",
    "\n",
    "print(a,b,c, d, sep = '\\n')\n"
   ]
  },
  {
   "cell_type": "code",
   "execution_count": 16,
   "id": "e4f346e4",
   "metadata": {},
   "outputs": [],
   "source": [
    "#Using this logic of unpacking multiple arguments to a function can be packed into a list and a single list with the *\n",
    "#prefix can be passed into the function. \n",
    "\n",
    "def func_list(p,q,r,s,t):\n",
    "    return p+(q*r), s+t"
   ]
  },
  {
   "cell_type": "code",
   "execution_count": 17,
   "id": "7b6e0b92",
   "metadata": {},
   "outputs": [
    {
     "name": "stdout",
     "output_type": "stream",
     "text": [
      "(9, 'My studentsare amazing!')\n"
     ]
    }
   ],
   "source": [
    "print(func_list(3,3,2,'My students', 'are amazing!'))"
   ]
  },
  {
   "cell_type": "code",
   "execution_count": 27,
   "id": "9f7bec3b",
   "metadata": {},
   "outputs": [],
   "source": [
    "lst1 = [3,3,2,'My students ', 'are amazing! ']"
   ]
  },
  {
   "cell_type": "code",
   "execution_count": 28,
   "id": "3475e7ec",
   "metadata": {},
   "outputs": [
    {
     "name": "stdout",
     "output_type": "stream",
     "text": [
      "(9, 'My students are amazing! ')\n"
     ]
    }
   ],
   "source": [
    "print(func_list(*lst1))"
   ]
  },
  {
   "cell_type": "code",
   "execution_count": 24,
   "id": "afb1452c",
   "metadata": {},
   "outputs": [
    {
     "name": "stdout",
     "output_type": "stream",
     "text": [
      "3\n",
      "3\n",
      "2\n",
      "My students \n",
      "are amazing! \n"
     ]
    }
   ],
   "source": [
    "p,q,r,s,t = lst1\n",
    "\n",
    "print(p,q,r,s,t, sep = '\\n')"
   ]
  },
  {
   "cell_type": "code",
   "execution_count": 33,
   "id": "3b29a70c",
   "metadata": {},
   "outputs": [
    {
     "ename": "NameError",
     "evalue": "name '__built' is not defined",
     "output_type": "error",
     "traceback": [
      "\u001b[1;31m---------------------------------------------------------------------------\u001b[0m",
      "\u001b[1;31mNameError\u001b[0m                                 Traceback (most recent call last)",
      "\u001b[1;32m~\\AppData\\Local\\Temp\\ipykernel_22580\\1335683417.py\u001b[0m in \u001b[0;36m<module>\u001b[1;34m\u001b[0m\n\u001b[1;32m----> 1\u001b[1;33m \u001b[0mprint\u001b[0m\u001b[1;33m(\u001b[0m\u001b[0m__built\u001b[0m\u001b[1;33m-\u001b[0m\u001b[0mins___\u001b[0m\u001b[1;33m)\u001b[0m\u001b[1;33m\u001b[0m\u001b[1;33m\u001b[0m\u001b[0m\n\u001b[0m",
      "\u001b[1;31mNameError\u001b[0m: name '__built' is not defined"
     ]
    }
   ],
   "source": [
    "print(__built-ins___)"
   ]
  },
  {
   "cell_type": "code",
   "execution_count": 23,
   "id": "1e67d69a",
   "metadata": {},
   "outputs": [
    {
     "name": "stdout",
     "output_type": "stream",
     "text": [
      "a b\n"
     ]
    }
   ],
   "source": [
    "print('a', 'b')"
   ]
  },
  {
   "cell_type": "code",
   "execution_count": 29,
   "id": "26d1d850",
   "metadata": {},
   "outputs": [
    {
     "name": "stdout",
     "output_type": "stream",
     "text": [
      "(9, 'My Students are amazing')\n",
      "<class 'tuple'>\n"
     ]
    }
   ],
   "source": [
    "tup1 = 9, 'My Students are amazing'\n",
    "\n",
    "print(tup1)\n",
    "print(type(tup1))"
   ]
  },
  {
   "cell_type": "code",
   "execution_count": null,
   "id": "6cd2677d",
   "metadata": {},
   "outputs": [],
   "source": [
    "p,q,r,s,t = lst1\n",
    "\n",
    "print(p,q,r)"
   ]
  },
  {
   "cell_type": "code",
   "execution_count": null,
   "id": "22c1b280",
   "metadata": {},
   "outputs": [],
   "source": [
    "a,b = func_list(*lst1)\n",
    "\n",
    "print(a,b, sep = '\\n')"
   ]
  },
  {
   "cell_type": "code",
   "execution_count": null,
   "id": "8725f595",
   "metadata": {},
   "outputs": [],
   "source": [
    "print(dir(lst1))"
   ]
  },
  {
   "cell_type": "code",
   "execution_count": null,
   "id": "ff388411",
   "metadata": {},
   "outputs": [],
   "source": [
    "print(type(func_list(*lst1)))"
   ]
  },
  {
   "cell_type": "code",
   "execution_count": null,
   "id": "531a1de9",
   "metadata": {},
   "outputs": [],
   "source": [
    "a, b = func_list(*lst1)\n",
    "\n",
    "print(a)\n",
    "print(b)"
   ]
  },
  {
   "cell_type": "code",
   "execution_count": null,
   "id": "ea7e26a7",
   "metadata": {},
   "outputs": [],
   "source": [
    "print(p,q,r,s,t, sep = '\\n')"
   ]
  },
  {
   "cell_type": "code",
   "execution_count": null,
   "id": "b06622f9",
   "metadata": {},
   "outputs": [],
   "source": [
    "#List methods\n",
    "\n",
    "# 1. append - Only 1 parameter - the item to be appended which will only be appended at the end.\n",
    "# 2. sort  - built-in sorted. Key paramenter which takes a function to be applied to each element. Reverse which is by default\n",
    "# false (ascending order) and if made true becomes descending order sort. Sorted built-in function - by default returns a list. \n",
    "# While .sort method on lists - modifies original list and does not return anything.\n",
    "# 3. reverse - built-in reversed - reversed iterator object can only be iterated over once. \n",
    "# 4. extend - difference between concatenate and extend. (a. Concatenate only between same datatypes while extend can take\n",
    "# any iterables element and put them in the list. b. Extend modifies original list while concatenate creates new object.)\n",
    "# 5. insert - Takes two parameters - index position at which to insert item and item itself.\n",
    "# 6. remove - a. removes the element and modifies original list - no return.\n",
    "# 7. pop a. by default removes last element but specific index position element to be removed can be supplied as parameter. \n",
    "# Returns the popped element.\n",
    "# 8. count\n",
    "# 9. clear\n",
    "# 10. index\n",
    "\n",
    "# sum, max, min, len - built-in python functions that can be used on derived datatypes. \n",
    "\n",
    "# Unpacking\n",
    "# Being able to assign values of a iterable to multiple variables in one line. \n",
    "# Using * before a variable name means all unassigned values will be put in this variable as a list."
   ]
  },
  {
   "cell_type": "code",
   "execution_count": null,
   "id": "1751ae77",
   "metadata": {},
   "outputs": [],
   "source": [
    "print(dir(list))"
   ]
  },
  {
   "cell_type": "code",
   "execution_count": null,
   "id": "b0e0533a",
   "metadata": {},
   "outputs": [],
   "source": []
  },
  {
   "cell_type": "code",
   "execution_count": 1,
   "id": "40b5499a",
   "metadata": {},
   "outputs": [
    {
     "name": "stdout",
     "output_type": "stream",
     "text": [
      "[10, 15, 20, 25, 30, 35, 40, 45, 50, 55, 60, 65, 70, 75, 80, 85, 90, 95]\n"
     ]
    }
   ],
   "source": [
    "lst1 = list(range(10,100,5))\n",
    "\n",
    "print(lst1)"
   ]
  },
  {
   "cell_type": "code",
   "execution_count": 2,
   "id": "87dda53d",
   "metadata": {},
   "outputs": [
    {
     "name": "stdout",
     "output_type": "stream",
     "text": [
      "(102, 103, 104)\n",
      "<class 'tuple'>\n"
     ]
    }
   ],
   "source": [
    "x = 102,103,104\n",
    "\n",
    "print(x)\n",
    "print(type(x))"
   ]
  },
  {
   "cell_type": "code",
   "execution_count": 3,
   "id": "586bb7d8",
   "metadata": {},
   "outputs": [
    {
     "name": "stdout",
     "output_type": "stream",
     "text": [
      "[10, 15, 20, 102, 103, 104, 40, 45, 50, 55, 60, 65, 70, 75, 80, 85, 90, 95]\n"
     ]
    }
   ],
   "source": [
    "lst1[3:6] = 102,103,104\n",
    "\n",
    "print(lst1)"
   ]
  },
  {
   "cell_type": "code",
   "execution_count": 4,
   "id": "d66529bc",
   "metadata": {},
   "outputs": [
    {
     "name": "stdout",
     "output_type": "stream",
     "text": [
      "[10, 15, 105, 102, 103, 104, 40, 45, 50, 55, 60, 65, 70, 75, 80, 85, 90, 95]\n"
     ]
    }
   ],
   "source": [
    "lst1[2] = 105\n",
    "\n",
    "print(lst1)"
   ]
  },
  {
   "cell_type": "code",
   "execution_count": null,
   "id": "8a6ec76c",
   "metadata": {},
   "outputs": [],
   "source": [
    "# #Properties of lists\n",
    "# 1.\tDerived datatype\n",
    "# 2.\tMutable\n",
    "# 3.\tSubscription is supported(indexing, slicing and assignment)\n",
    "# 4.\tIterable\n",
    "# 5.\tOrdered\n",
    "# 6.\tHeterogenous and duplicates are allowed. \n",
    "# 7.\tNested lists are possible. \n",
    "\n",
    "# #Rules Of List slice assignment\n",
    "# 1.\tThe assigned values should be in an iterable. \n",
    "# 2.\tThe assigned values do not necessarily have to be in the same number as the values being assigned by the slice. \n",
    "\n",
    "# List methods\n",
    "# Append – Adds an element to the end of the existing list. No return. Modifies original\n",
    "# Extend – Adds the elements of an iterable to an existing list. No return. Modifies original.\n",
    "# Clear – Removes all the elements of the list. Emptying it out. \n",
    "# Remove – Removes the first occurrence of the element specified in arguments from the list. Modifies original.\n",
    "# Pop – Removes the element at specified index position in parameters (if specified. If not, removes last element). Returns the popped element. Modifies the original list.\n",
    "# Copy – Creates a new list object with a new id but ids of the elements in the original list are copied into the new list object.\n",
    "# Insert – Takes two parameters – index position before which to insert and element to be inserted. \n",
    "# Adds the element to the specified index position. Modifies original list.\n",
    "# Reverse – Reverses the original list. No return.\n",
    "# count – Returns the count of the element in the list specified in the arguments.\n",
    "# Index – Returns the index position in the list of the element specified in arguments. If element not found – throws an error.\n",
    "# <dtypeobject>.methodname(parameters if required)\n",
    "# Concatenation and multiplication of dtypes – are operatiions. (+, *)\n"
   ]
  },
  {
   "cell_type": "code",
   "execution_count": null,
   "id": "ee653e2c",
   "metadata": {},
   "outputs": [],
   "source": []
  },
  {
   "cell_type": "code",
   "execution_count": null,
   "id": "c0dc6098",
   "metadata": {},
   "outputs": [],
   "source": []
  },
  {
   "cell_type": "code",
   "execution_count": null,
   "id": "2a099d1b",
   "metadata": {},
   "outputs": [],
   "source": []
  },
  {
   "cell_type": "code",
   "execution_count": null,
   "id": "ce44d850",
   "metadata": {},
   "outputs": [],
   "source": []
  },
  {
   "cell_type": "code",
   "execution_count": null,
   "id": "026feeb2",
   "metadata": {},
   "outputs": [],
   "source": []
  },
  {
   "cell_type": "code",
   "execution_count": 34,
   "id": "5173aa68",
   "metadata": {},
   "outputs": [],
   "source": [
    "import copy"
   ]
  },
  {
   "cell_type": "code",
   "execution_count": 35,
   "id": "53e9253a",
   "metadata": {},
   "outputs": [
    {
     "name": "stdout",
     "output_type": "stream",
     "text": [
      "1962989826944 1962989826944 True\n",
      "1962989826944 1962989827456 False\n",
      "1962989826944 1962989826304 False\n"
     ]
    }
   ],
   "source": [
    "lst1 = [1,2,3,[4,5,[6,7]]]\n",
    "lst2 = lst1\n",
    "lst3 = copy.copy(lst1)\n",
    "lst4 = copy.deepcopy(lst1)\n",
    "\n",
    "\n",
    "print(id(lst1), id(lst2), lst1 is lst2)\n",
    "\n",
    "print(id(lst1), id(lst3), lst1 is lst3)\n",
    "\n",
    "print(id(lst1), id(lst4), lst1 is lst4)"
   ]
  },
  {
   "cell_type": "code",
   "execution_count": 36,
   "id": "6f395ec2",
   "metadata": {},
   "outputs": [
    {
     "name": "stdout",
     "output_type": "stream",
     "text": [
      "1 -----> 1962909854000 1962909854000 1962909854000 1962909854000\n",
      "2 -----> 1962909854032 1962909854032 1962909854032 1962909854032\n",
      "3 -----> 1962909854064 1962909854064 1962909854064 1962909854064\n",
      "[4, 5, [6, 7]] -----> 1962989826240 1962989826240 1962989826240 1962989822912\n"
     ]
    }
   ],
   "source": [
    "for x in range(len(lst1)):\n",
    "    print(lst1[x], '----->',id(lst1[x]), id(lst2[x]), id(lst3[x]), id(lst4[x]))"
   ]
  },
  {
   "cell_type": "code",
   "execution_count": 38,
   "id": "078c0328",
   "metadata": {},
   "outputs": [
    {
     "name": "stdout",
     "output_type": "stream",
     "text": [
      "4 1962909854096 1962909854096 1962909854096 1962909854096\n",
      "5 1962909854128 1962909854128 1962909854128 1962909854128\n",
      "[6, 7] 1962989826560 1962989826560 1962989826560 1962989825920\n"
     ]
    }
   ],
   "source": [
    "for y in range(len(lst1[3])):\n",
    "    print(lst1[3][y], id(lst1[3][y]), id(lst2[3][y]), id(lst3[3][y]), id(lst4[3][y]))"
   ]
  },
  {
   "cell_type": "code",
   "execution_count": 39,
   "id": "b42ae0e6",
   "metadata": {},
   "outputs": [
    {
     "name": "stdout",
     "output_type": "stream",
     "text": [
      "[1, 2, 3, [4, 5, [6, 7]]]\n"
     ]
    }
   ],
   "source": [
    "print(lst1)"
   ]
  },
  {
   "cell_type": "code",
   "execution_count": null,
   "id": "cd2093f7",
   "metadata": {},
   "outputs": [],
   "source": []
  },
  {
   "cell_type": "code",
   "execution_count": null,
   "id": "74500264",
   "metadata": {},
   "outputs": [],
   "source": []
  },
  {
   "cell_type": "code",
   "execution_count": null,
   "id": "9044482d",
   "metadata": {},
   "outputs": [],
   "source": []
  }
 ],
 "metadata": {
  "kernelspec": {
   "display_name": "Python 3 (ipykernel)",
   "language": "python",
   "name": "python3"
  },
  "language_info": {
   "codemirror_mode": {
    "name": "ipython",
    "version": 3
   },
   "file_extension": ".py",
   "mimetype": "text/x-python",
   "name": "python",
   "nbconvert_exporter": "python",
   "pygments_lexer": "ipython3",
   "version": "3.9.13"
  }
 },
 "nbformat": 4,
 "nbformat_minor": 5
}
