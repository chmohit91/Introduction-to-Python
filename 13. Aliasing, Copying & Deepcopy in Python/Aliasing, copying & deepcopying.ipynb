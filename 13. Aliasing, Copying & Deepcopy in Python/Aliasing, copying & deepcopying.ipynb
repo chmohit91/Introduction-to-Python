{
 "cells": [
  {
   "cell_type": "markdown",
   "id": "65497f5f",
   "metadata": {},
   "source": [
    "### Aliasing/Copying/Deepcopying"
   ]
  },
  {
   "cell_type": "code",
   "execution_count": 91,
   "id": "b44a1ab5",
   "metadata": {},
   "outputs": [],
   "source": [
    "import copy"
   ]
  },
  {
   "cell_type": "code",
   "execution_count": 92,
   "id": "14392ca7",
   "metadata": {},
   "outputs": [
    {
     "name": "stdout",
     "output_type": "stream",
     "text": [
      "[0, 1, 2, 3, 4, 5, 6, 7, 8, 9] 2937697224192\n",
      "[0, 1, 2, 3, 4, 5, 6, 7, 8, 9] 2937697228032\n",
      "[0, 1, 2, 3, 4, 5, 6, 7, 8, 9] 2937697199296\n",
      "[0, 1, 2, 3, 4, 5, 6, 7, 8, 9] 2937697209152\n"
     ]
    }
   ],
   "source": [
    "lst1 = list(range(10))\n",
    "\n",
    "lst2 = lst1[:]\n",
    "lst3 = lst1.copy()\n",
    "lst4 = copy.copy(lst1)\n",
    "\n",
    "print(lst1, id(lst1))\n",
    "print(lst2, id(lst2))\n",
    "print(lst3, id(lst3))\n",
    "print(lst4, id(lst4))"
   ]
  },
  {
   "cell_type": "code",
   "execution_count": 96,
   "id": "f6c5bbae",
   "metadata": {},
   "outputs": [
    {
     "name": "stdout",
     "output_type": "stream",
     "text": [
      "[1, 'a', 10.2, [1000, 2000, 3000]] 2937697243392\n",
      "[1, 'a', 10.2, [1000, 2000, 3000]] 2937697243392\n",
      "[1, 'a', 10.2, [1000, 2000, 3000]] 2937697191424\n",
      "[1, 'a', 10.2, [1000, 2000, 3000]] 2937697155712\n"
     ]
    }
   ],
   "source": [
    "lst1 = [1,'a', 10.2,[1000,2000,3000]]\n",
    "\n",
    "lst2 = lst1\n",
    "lst3 = lst1.copy()\n",
    "lst4 = copy.deepcopy(lst1)\n",
    "\n",
    "\n",
    "\n",
    "print(lst1, id(lst1))\n",
    "print(lst2, id(lst2))\n",
    "print(lst3, id(lst3))\n",
    "print(lst4, id(lst4))"
   ]
  },
  {
   "cell_type": "code",
   "execution_count": 94,
   "id": "9b828416",
   "metadata": {},
   "outputs": [
    {
     "name": "stdout",
     "output_type": "stream",
     "text": [
      "[2, 'a', 10.2, [1000, 2000, 3000]]\n",
      "[2, 'a', 10.2, [1000, 2000, 3000]]\n",
      "[1, 'a', 10.2, [1000, 2000, 3000]]\n",
      "[1, 'a', 10.2, [1000, 2000, 3000]]\n"
     ]
    }
   ],
   "source": [
    "lst1[0] = 2\n",
    "\n",
    "print(lst1)\n",
    "print(lst2)\n",
    "print(lst3)\n",
    "print(lst4)"
   ]
  },
  {
   "cell_type": "code",
   "execution_count": 95,
   "id": "a505b12c",
   "metadata": {},
   "outputs": [
    {
     "name": "stdout",
     "output_type": "stream",
     "text": [
      "[2, 'a', 10.2, [1111, 2000, 3000]]\n",
      "[2, 'a', 10.2, [1111, 2000, 3000]]\n",
      "[1, 'a', 10.2, [1111, 2000, 3000]]\n",
      "[1, 'a', 10.2, [1000, 2000, 3000]]\n"
     ]
    }
   ],
   "source": [
    "lst1[3][0] = 1111\n",
    "\n",
    "print(lst1)\n",
    "print(lst2)\n",
    "print(lst3)\n",
    "print(lst4)"
   ]
  },
  {
   "cell_type": "code",
   "execution_count": 97,
   "id": "420598cf",
   "metadata": {},
   "outputs": [
    {
     "name": "stdout",
     "output_type": "stream",
     "text": [
      "[1, 'a', 10.2, [1000, 2000, 3000]]\n",
      "[1, 'a', 10.2, [1000, 2000, 3000]]\n",
      "[1, 'a', 10.2, [1000, 2000, 3000]]\n",
      "[1, 'a', 10.2, [1000, 2000, 3000]]\n"
     ]
    }
   ],
   "source": [
    "print(lst1, lst2, lst3, lst4, sep = '\\n')"
   ]
  },
  {
   "cell_type": "code",
   "execution_count": 98,
   "id": "1db82809",
   "metadata": {},
   "outputs": [
    {
     "name": "stdout",
     "output_type": "stream",
     "text": [
      "1 is the object.\n",
      "2937616361776---2937616361776---2937616361776---2937616361776\n",
      "a is the object.\n",
      "2937618810352---2937618810352---2937618810352---2937618810352\n",
      "10.2 is the object.\n",
      "2937696268752---2937696268752---2937696268752---2937696268752\n",
      "[1000, 2000, 3000] is the object.\n",
      "2937697209152---2937697209152---2937697209152---2937697200640\n"
     ]
    }
   ],
   "source": [
    "for x in range(len(lst1)):\n",
    "    print(f'{lst1[x]} is the object.')\n",
    "    print(id(lst1[x]), id(lst2[x]), id(lst3[x]), id(lst4[x]), sep = '---')"
   ]
  },
  {
   "cell_type": "code",
   "execution_count": 99,
   "id": "60737167",
   "metadata": {},
   "outputs": [
    {
     "name": "stdout",
     "output_type": "stream",
     "text": [
      "[1, 'a', 10.2, [1000, [2000, 3000, [4000, 5000]]]]\n",
      "[1, 'a', 10.2, [1000, [2000, 3000, [4000, 5000]]]]\n"
     ]
    }
   ],
   "source": [
    "lst1 = [1,'a',10.2,[1000,[2000,3000,[4000,5000]]]]\n",
    "\n",
    "lst2 = copy.deepcopy(lst1)\n",
    "\n",
    "print(lst1)\n",
    "print(lst2)"
   ]
  },
  {
   "cell_type": "code",
   "execution_count": 100,
   "id": "a4f70ba0",
   "metadata": {},
   "outputs": [
    {
     "name": "stdout",
     "output_type": "stream",
     "text": [
      "2937697244096\n",
      "2937696320768\n"
     ]
    }
   ],
   "source": [
    "print(id(lst1[3]))\n",
    "print(id(lst2[3]))"
   ]
  },
  {
   "cell_type": "code",
   "execution_count": 101,
   "id": "4e76d4a0",
   "metadata": {},
   "outputs": [
    {
     "name": "stdout",
     "output_type": "stream",
     "text": [
      "2937697262912\n",
      "2937697223104\n"
     ]
    }
   ],
   "source": [
    "print(id(lst1[3][1]))\n",
    "print(id(lst2[3][1]))"
   ]
  },
  {
   "cell_type": "code",
   "execution_count": 102,
   "id": "5f32df82",
   "metadata": {},
   "outputs": [
    {
     "name": "stdout",
     "output_type": "stream",
     "text": [
      "2937697200704\n",
      "2937697244032\n"
     ]
    }
   ],
   "source": [
    "print(id(lst1[3][1][2]))\n",
    "print(id(lst2[3][1][2]))"
   ]
  },
  {
   "cell_type": "code",
   "execution_count": null,
   "id": "41cd70d3",
   "metadata": {},
   "outputs": [],
   "source": []
  }
 ],
 "metadata": {
  "kernelspec": {
   "display_name": "Python 3 (ipykernel)",
   "language": "python",
   "name": "python3"
  },
  "language_info": {
   "codemirror_mode": {
    "name": "ipython",
    "version": 3
   },
   "file_extension": ".py",
   "mimetype": "text/x-python",
   "name": "python",
   "nbconvert_exporter": "python",
   "pygments_lexer": "ipython3",
   "version": "3.9.13"
  }
 },
 "nbformat": 4,
 "nbformat_minor": 5
}
