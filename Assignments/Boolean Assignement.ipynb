{
 "cells": [
  {
   "cell_type": "markdown",
   "metadata": {
    "tags": []
   },
   "source": [
    "LB_DSC_19thApril_WKDY_MR_2024\n",
    "\n",
    "Mohit Chaudhary 7011883015"
   ]
  },
  {
   "cell_type": "markdown",
   "metadata": {},
   "source": [
    "Q1. Declare a boolean value and store it in a variable.\n",
    "Check the type and print the id of the same."
   ]
  },
  {
   "cell_type": "code",
   "execution_count": 37,
   "metadata": {
    "colab": {
     "base_uri": "https://localhost:8080/"
    },
    "executionInfo": {
     "elapsed": 1303,
     "status": "ok",
     "timestamp": 1613111202422,
     "user": {
      "displayName": "Abhishek Gupta",
      "photoUrl": "",
      "userId": "01308143559053085164"
     },
     "user_tz": -330
    },
    "id": "7JIFn6BP4M0R",
    "outputId": "33047161-8746-480f-c2ec-8b3ae85d8088"
   },
   "outputs": [
    {
     "name": "stdout",
     "output_type": "stream",
     "text": [
      "The type of variable is: <class 'bool'>\n",
      "The id of variable is: 140710509619744\n"
     ]
    }
   ],
   "source": [
    "boolean_variable = True   #Declaring a boolean value and storing it in a variable. \n",
    "\n",
    "print('The type of variable is:',type(boolean_variable))   #Checking the type of variable.\n",
    "print('The id of variable is:',id(boolean_variable))       #Checking the id of variable"
   ]
  },
  {
   "cell_type": "markdown",
   "metadata": {},
   "source": [
    "Q2.  Take one boolean value between 0 - 256.\n",
    "Assign it to two different variables.\n",
    "Check the id of both the variables. It should come the same. Check why?"
   ]
  },
  {
   "cell_type": "code",
   "execution_count": 11,
   "metadata": {
    "colab": {
     "base_uri": "https://localhost:8080/"
    },
    "executionInfo": {
     "elapsed": 760,
     "status": "ok",
     "timestamp": 1613111341097,
     "user": {
      "displayName": "Abhishek Gupta",
      "photoUrl": "",
      "userId": "01308143559053085164"
     },
     "user_tz": -330
    },
    "id": "o9bjjhN64kAP",
    "outputId": "86f385e0-05de-4a17-892d-60d7b5dd4c91"
   },
   "outputs": [
    {
     "name": "stdout",
     "output_type": "stream",
     "text": [
      "The id of first variable is: 140710507457056\n",
      "The id of Second variable is: 140710507457056\n"
     ]
    }
   ],
   "source": [
    "boolean_value1 = True            #Taking one boolean value\n",
    "boolean_value2 = True             #Assigning it to another variable.\n",
    "\n",
    "\n",
    "print('The id of first variable is:',id(boolean_value1))   #Checking the id of boolean_value1\n",
    "print('The id of Second variable is:',id(boolean_value1))   #Checking the id of boolean_value2"
   ]
  },
  {
   "cell_type": "markdown",
   "metadata": {},
   "source": [
    "As we can see that both first and second variable is having same id because both variables has same value which is stored in memory location '140710507457056', this is called memory reusibility."
   ]
  },
  {
   "cell_type": "markdown",
   "metadata": {},
   "source": [
    "Q3. Arithmetic Operations on boolean data, \n",
    "Take two different boolean values, \n",
    "Store them in two different variables, \n",
    "Do below operations on them:-\n",
    "   Find sum of both values\n",
    "   Find difference between them\n",
    "   Find the product of both.\n",
    "   Find value after dividing first value with second value\n",
    "   Find the remainder after dividing first value with second value    Find the quotient after dividing first value with second value    Find the result of first value to the power of second value."
   ]
  },
  {
   "cell_type": "code",
   "execution_count": 35,
   "metadata": {
    "colab": {
     "base_uri": "https://localhost:8080/"
    },
    "executionInfo": {
     "elapsed": 9058,
     "status": "ok",
     "timestamp": 1613111578793,
     "user": {
      "displayName": "Abhishek Gupta",
      "photoUrl": "",
      "userId": "01308143559053085164"
     },
     "user_tz": -330
    },
    "id": "yr4ETGSf4l5y",
    "outputId": "b7c7ba34-1667-480e-db63-60a37eca9d69"
   },
   "outputs": [
    {
     "name": "stdin",
     "output_type": "stream",
     "text": [
      "Enter any number between 0-256:  25\n",
      "Enter any number between 0-256:  10\n"
     ]
    },
    {
     "name": "stdout",
     "output_type": "stream",
     "text": [
      "sum of first and second value is 2\n",
      "Difference of first and second value is 0\n",
      "Product of first and second value is 1\n",
      "Division of first with second value is 1.0\n",
      "Quotient after dividing first value with second value 1\n",
      "Remainder after dividing first value with second value 0\n",
      "first value to the power of second value is 1\n"
     ]
    }
   ],
   "source": [
    "a_bool = bool(int(input('Enter any number between 0-256: ')))  #Taking first value from user.\n",
    "b_bool = bool(int(input('Enter any number between 0-256: ')))  #Taking second value from user.\n",
    "\n",
    "print('sum of first and second value is', a_bool + b_bool)                         #Getting the sum of both values\n",
    "print('Difference of first and second value is', a_bool - b_bool)                  #Finding the differce between both values\n",
    "print('Product of first and second value is', a_bool * b_bool)                     #Finding the product of both values.\n",
    "print('Division of first with second value is', a_bool / b_bool)                   #dividing first value with second value\n",
    "print('Quotient after dividing first value with second value', a_bool // b_bool)   #Quotient after dividing first value with second value\n",
    "print('Remainder after dividing first value with second value', a_bool % b_bool)   #remainder after dividing first value with second value\n",
    "print('first value to the power of second value is', a_bool ** b_bool)             #first value to the power of second value.\n"
   ]
  },
  {
   "cell_type": "markdown",
   "metadata": {},
   "source": [
    "Q4.  Comparison Operators on boolean values\n",
    "Take two different boolean values.\n",
    "Store them in two different variables.\n",
    "Do below operations on them:-\n",
    "Compare these two values with below operator:- Greater than, '>'\n",
    "less than, '<'\n",
    "Greater than or equal to, '>='\n",
    "Less than or equal to, '<='\n",
    "Observe their output(return type should be boolean)"
   ]
  },
  {
   "cell_type": "code",
   "execution_count": 6,
   "metadata": {
    "colab": {
     "base_uri": "https://localhost:8080/"
    },
    "executionInfo": {
     "elapsed": 5417,
     "status": "ok",
     "timestamp": 1613111674792,
     "user": {
      "displayName": "Abhishek Gupta",
      "photoUrl": "",
      "userId": "01308143559053085164"
     },
     "user_tz": -330
    },
    "id": "xG4mX84E4n2O",
    "outputId": "5c641fad-e17d-41db-c59c-c6dc930791e0"
   },
   "outputs": [
    {
     "name": "stdin",
     "output_type": "stream",
     "text": [
      "Enter any number between 0-256:  300\n",
      "Enter any number between 0-256:  123\n"
     ]
    },
    {
     "name": "stdout",
     "output_type": "stream",
     "text": [
      "Is first value Greater than second value: False\n",
      "Is first value Less than second value: False\n",
      "Is first value Less than or equal to second value: True\n",
      "Is first value Greater than or equal to second value True\n"
     ]
    }
   ],
   "source": [
    "bool1 = bool(int(input('Enter any number between 0-256: ')))       #Taking first value from user.\n",
    "bool2 = bool(int(input('Enter any number between 0-256: ')))       #Taking second value from user.\n",
    "\n",
    "print('Is first value Greater than second value:', bool1 > bool2)               #Greater than, '>'\n",
    "print('Is first value Less than second value:', bool1 < bool2)                  #less than, '<'\n",
    "print('Is first value Less than or equal to second value:', bool1 <= bool2)     #Greater than or equal to, '>='\n",
    "print('Is first value Greater than or equal to second value', bool1 >= bool2)   #Less than or equal to, '<='\n"
   ]
  },
  {
   "cell_type": "markdown",
   "metadata": {},
   "source": [
    "As we can observe that the output we have obtained in all scenarios is Boolean (True/False), this is because False=0 while rest all values are stored in boolean as True"
   ]
  },
  {
   "cell_type": "markdown",
   "metadata": {},
   "source": [
    "Q5. Equality Operator\n",
    "Take two different boolean values.\n",
    "Store them in two different variables.\n",
    "Equate them using equality operators (==, !=) Observe the output(return type should be boolean)"
   ]
  },
  {
   "cell_type": "code",
   "execution_count": 14,
   "metadata": {
    "id": "TUIo2Z9V4qBJ"
   },
   "outputs": [
    {
     "name": "stdin",
     "output_type": "stream",
     "text": [
      "Enter any number between 0-256:  45\n",
      "Enter any number between 0-256:  100\n"
     ]
    },
    {
     "name": "stdout",
     "output_type": "stream",
     "text": [
      "Checking if values are equal using == :, True\n",
      "Checking if values are different using != : False\n"
     ]
    }
   ],
   "source": [
    "value1 = bool(int(input('Enter any number between 0-256: ')))              #Taking first value from user.\n",
    "value2 = bool(int(input('Enter any number between 0-256: ')))              #Taking second value from user.\n",
    "print('Checking if values are equal using == :,', value1 == value2)        #Checking if values are equal\n",
    "print('Checking if values are different using != :', value1 != value2)     #Checking if values are different\n"
   ]
  },
  {
   "cell_type": "markdown",
   "metadata": {},
   "source": [
    "As we can observe that the output we have obtained in both scenarios is Boolean (True/False), this is because False=0 while rest all values are stored in boolean as True"
   ]
  },
  {
   "cell_type": "markdown",
   "metadata": {},
   "source": [
    "Q6. Logical operators\n",
    "Observe the output of below code\n",
    "Cross check the output manually\n",
    "print(True and True)\n",
    "#----------------------------------------->Output is Trueprint(False and True)\n",
    "#----------------------------------------->Output is False\n",
    "print(True and False)\n",
    "#----------------------------------------->Output is False\n",
    "print(False and False)\n",
    "#----------------------------------------->Output is False\n",
    "print(True or True)\n",
    "#----------------------------------------->Output is True\n",
    "print(False or True)\n",
    "#----------------------------------------->Output is True\n",
    "print(True or False)\n",
    "#----------------------------------------->Output is True\n",
    "print(False or False)\n",
    "#----------------------------------------->Output is False\n",
    "print(not True)\n",
    "#----------------------------------------->Output is False\n",
    "print(not False)\n",
    "#----------------------------------------->Output is True"
   ]
  },
  {
   "cell_type": "code",
   "execution_count": 27,
   "metadata": {
    "id": "XukEq5E44rxv"
   },
   "outputs": [
    {
     "name": "stdout",
     "output_type": "stream",
     "text": [
      "True\n",
      "False\n",
      "False\n",
      "False\n",
      "True\n",
      "True\n",
      "True\n",
      "False\n",
      "False\n",
      "True\n"
     ]
    }
   ],
   "source": [
    "#Lets check the output manually:\n",
    "\n",
    "print(True and True)        \n",
    "print(False and True)        \n",
    "print(True and False)        \n",
    "print(False and False)       \n",
    "\n",
    "print(True or True)          \n",
    "print(False or True)         \n",
    "print(True or False)         \n",
    "print(False or False)        \n",
    "\n",
    "print(not True)              \n",
    "print(not False)             "
   ]
  },
  {
   "cell_type": "markdown",
   "metadata": {},
   "source": [
    "Q7. Bitwise Operators\n",
    "Do below operations on the values provided below:-\n",
    "   Bitwise and(&) --------------> True, True    -------> Output is True    Bitwise or(|)  --------------> True, False   -------> Output is True    Bitwise(^)     --------------> True, False   -------> Output is True    Bitwise negation(~) ---------> True          -------> Output is -2    Bitwise left shift  ---------> True,2        -------> Output is 4    Bitwise right shift ---------> True,2        -------> Output is 0 Cross check the output manually"
   ]
  },
  {
   "cell_type": "code",
   "execution_count": 30,
   "metadata": {
    "colab": {
     "base_uri": "https://localhost:8080/"
    },
    "executionInfo": {
     "elapsed": 1565,
     "status": "ok",
     "timestamp": 1613111151406,
     "user": {
      "displayName": "Abhishek Gupta",
      "photoUrl": "",
      "userId": "01308143559053085164"
     },
     "user_tz": -330
    },
    "id": "02jPgt094vK-",
    "outputId": "d9039a2c-b421-4e0b-e570-1c244332a728"
   },
   "outputs": [
    {
     "name": "stdout",
     "output_type": "stream",
     "text": [
      "True\n",
      "True\n",
      "True\n",
      "-2\n",
      "4\n",
      "0\n"
     ]
    }
   ],
   "source": [
    "#Lets check the output manually:\n",
    "\n",
    "print(True & True)\n",
    "print(True | False)\n",
    "print(True ^ False)\n",
    "print(~True)\n",
    "print(True << 2)\n",
    "print(True >> 2)"
   ]
  },
  {
   "cell_type": "markdown",
   "metadata": {},
   "source": [
    "Q8. What is the output of expression inside the print statement. Cross check before running the program.\n",
    "a = True\n",
    "b = True\n",
    "print(a is b)          #True or False?   #print(a is not b)      #True or False?"
   ]
  },
  {
   "cell_type": "code",
   "execution_count": 33,
   "metadata": {
    "id": "cy5i7sWz4v_c"
   },
   "outputs": [
    {
     "name": "stdout",
     "output_type": "stream",
     "text": [
      "True\n",
      "False\n",
      "True\n",
      "False\n"
     ]
    }
   ],
   "source": [
    "#lets run the expressions given in the question to us:\n",
    "a = True\n",
    "b = True\n",
    "print(a is b)          \n",
    "print(a is not b)      \n",
    "\n",
    "a = False\n",
    "b = False\n",
    "print(a is b)          \n",
    "print(a is not b)      "
   ]
  },
  {
   "cell_type": "markdown",
   "metadata": {},
   "source": [
    "Q9. Membership operation\n",
    "in, not in are two membership operators and it returns boolean value\n",
    "print(True in [10,10.20,10+20j,'Python', True]) print(False in (10,10.20,10+20j,'Python', False)) print(True in {1,2,3, True})\n",
    "print(True in {True:100, False:200, True:300}) print(False in {True:100, False:200, True:300})"
   ]
  },
  {
   "cell_type": "code",
   "execution_count": 10,
   "metadata": {
    "id": "AOcPQi8544M-"
   },
   "outputs": [
    {
     "name": "stdout",
     "output_type": "stream",
     "text": [
      "True\n",
      "True\n",
      "True\n",
      "True\n",
      "True\n"
     ]
    }
   ],
   "source": [
    "#lets run the expressions given in the question to us:\n",
    "\n",
    "print(True in [10,10.20,10+20j,'Python', True])\n",
    "print(False in (10,10.20,10+20j,'Python', False))\n",
    "print(True in {1,2,3, True})\n",
    "print(True in {True:100, False:200, True:300})\n",
    "print(False in {True:100, False:200, True:300})"
   ]
  },
  {
   "cell_type": "code",
   "execution_count": null,
   "metadata": {},
   "outputs": [],
   "source": []
  }
 ],
 "metadata": {
  "colab": {
   "authorship_tag": "ABX9TyMaWD77gm8/YpBMU+37uAcQ",
   "name": "Sol_Boolean_Assignement.ipynb",
   "provenance": [
    {
     "file_id": "1wADaUpN0law4PANdldEAoj1noqEdLXVU",
     "timestamp": 1613111010745
    }
   ]
  },
  "kernelspec": {
   "display_name": "Python 3 (ipykernel)",
   "language": "python",
   "name": "python3"
  },
  "language_info": {
   "codemirror_mode": {
    "name": "ipython",
    "version": 3
   },
   "file_extension": ".py",
   "mimetype": "text/x-python",
   "name": "python",
   "nbconvert_exporter": "python",
   "pygments_lexer": "ipython3",
   "version": "3.11.5"
  }
 },
 "nbformat": 4,
 "nbformat_minor": 4
}
