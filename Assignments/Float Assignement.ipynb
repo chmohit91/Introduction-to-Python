{
 "cells": [
  {
   "cell_type": "markdown",
   "id": "b8f09db0-09c3-491d-bd15-aaa852700e4f",
   "metadata": {},
   "source": [
    "#LB_DSC_19thApril_WKDY_MR_2024\n",
    "\n",
    "Mohit Chaudhary 7011883015"
   ]
  },
  {
   "cell_type": "markdown",
   "id": "46c48e53-cae2-4ec8-87d0-050a64d3bdfb",
   "metadata": {},
   "source": [
    "Q1. Declare a float value and store it in a variable.\n",
    "Check the type and print the id of the same."
   ]
  },
  {
   "cell_type": "code",
   "execution_count": 6,
   "id": "df80cce2-2fee-4662-8f66-5fe3aff80911",
   "metadata": {
    "tags": []
   },
   "outputs": [
    {
     "name": "stdout",
     "output_type": "stream",
     "text": [
      "The type of variable is: <class 'float'>\n",
      "The id of variable is: 3069576435984\n"
     ]
    }
   ],
   "source": [
    "a = 10.75       #Declaring a float value and storing it in a variable. \n",
    "\n",
    "print('The type of variable is:',type(a))   #Checking the type of variable.\n",
    "print('The id of variable is:',id(a))       #Checking the id of variable"
   ]
  },
  {
   "cell_type": "markdown",
   "id": "b4eca2d4-a1d2-46b6-93ac-c806858ad1b3",
   "metadata": {},
   "source": [
    "Q2.  Arithmetic Operations on float\n",
    "Take two different float values.\n",
    "Store them in two different variables.\n",
    "Do below operations on them:-\n",
    "Find sum of both numbers\n",
    "Find difference between them\n",
    "Find the product of both numbers.\n",
    "Find value after dividing first num with second number\n",
    "Find the remainder after dividing first number with second number Find the quotient after dividing first number with second number Find the result of the first num to the power of the second number."
   ]
  },
  {
   "cell_type": "code",
   "execution_count": 19,
   "id": "13e12454-855f-41e2-8723-74c715b3d0bb",
   "metadata": {
    "tags": []
   },
   "outputs": [
    {
     "name": "stdin",
     "output_type": "stream",
     "text": [
      "Enter any float value type number:  5.5\n",
      "Enter another float value type number:  2.5\n"
     ]
    },
    {
     "name": "stdout",
     "output_type": "stream",
     "text": [
      "sum of first and second value is 8.0\n",
      "Difference of first and second value is 3.0\n",
      "Product of first and second value is 13.75\n",
      "Division of first with second value is 2.2\n",
      "Quotient after dividing first value with second value 2.0\n",
      "Remainder after dividing first value with second value 0.5\n",
      "first value to the power of second value is 70.94253836732938\n"
     ]
    }
   ],
   "source": [
    "a1 = float(input('Enter any float value type number: '))      #Taking first value from user.\n",
    "a2 = float(input('Enter another float value type number: '))  #Taking second value from user.\n",
    "\n",
    "print('sum of first and second value is', a1 + a2)                         #Getting the sum of both values\n",
    "print('Difference of first and second value is', a1 - a2)                  #Finding the differce between both values\n",
    "print('Product of first and second value is', a1 * a2)                     #Finding the product of both values.\n",
    "print('Division of first with second value is', a1 / a2)                   #dividing first value with second value\n",
    "print('Quotient after dividing first value with second value', a1 // a2)   #Quotient after dividing first value with second value\n",
    "print('Remainder after dividing first value with second value', a1 % a2)   #remainder after dividing first value with second value\n",
    "print('first value to the power of second value is', a1 ** a2)             #first value to the power of second value."
   ]
  },
  {
   "cell_type": "markdown",
   "id": "db487f0f-fe1d-4756-bf9c-c79f87d4b825",
   "metadata": {},
   "source": [
    "Q3. Comparison Operators on float\n",
    "Take two different float values.\n",
    "Store them in two different variables.\n",
    "Do below operations on them:-\n",
    "   Compare these two numbers with below operator:-\n",
    "       Greater than, '>'\n",
    " Smaller than, '<'\n",
    " Greater than or equal to, '>='\n",
    " Less than or equal to, '<='\n",
    "Observe their output(return type should be boolean)"
   ]
  },
  {
   "cell_type": "code",
   "execution_count": 23,
   "id": "358fd4c8-ea0e-4b0a-ad8d-e7bc1aeff538",
   "metadata": {
    "tags": []
   },
   "outputs": [
    {
     "name": "stdin",
     "output_type": "stream",
     "text": [
      "Enter any float value type number:  10.59\n",
      "Enter another float value type number:  6.65\n"
     ]
    },
    {
     "name": "stdout",
     "output_type": "stream",
     "text": [
      "Is first value Greater than second value: True\n",
      "Is first value Less than second value: False\n",
      "Is first value Less than or equal to second value: False\n",
      "Is first value Greater than or equal to second value True\n"
     ]
    }
   ],
   "source": [
    "b1 = float(input('Enter any float value type number: '))      #Taking first value from user.\n",
    "b2 = float(input('Enter another float value type number: '))  #Taking second value from user.\n",
    "\n",
    "print('Is first value Greater than second value:', b1 > b2)               #Greater than, '>'\n",
    "print('Is first value Less than second value:', b1 < b2)                  #less than, '<'\n",
    "print('Is first value Less than or equal to second value:', b1 <= b2)     #Greater than or equal to, '>='\n",
    "print('Is first value Greater than or equal to second value', b1 >= b2)   #Less than or equal to, '<='\n"
   ]
  },
  {
   "cell_type": "markdown",
   "id": "5c78b4bc-e5e5-4c7c-9b74-f4f776d74366",
   "metadata": {},
   "source": [
    "As we can observe that the output we have obtained in all scenarios is Boolean (True/False), this is because comparison operator always gives us Either True or False"
   ]
  },
  {
   "cell_type": "markdown",
   "id": "801cea64-653d-4e13-9f8d-f5b51b62f0c6",
   "metadata": {},
   "source": [
    "Q4.  Equality Operator\n",
    "Take two different float values.\n",
    "Store them in two different variables.\n",
    "Equate them using equality operators (==, !=)\n",
    "Observe the output(return type should be boolean)"
   ]
  },
  {
   "cell_type": "code",
   "execution_count": 29,
   "id": "799b32f1-c047-4e01-bfaf-287f24379eee",
   "metadata": {
    "tags": []
   },
   "outputs": [
    {
     "name": "stdin",
     "output_type": "stream",
     "text": [
      "Enter any float value type number:  40.59\n",
      "Enter another float value type number:  32.25\n"
     ]
    },
    {
     "name": "stdout",
     "output_type": "stream",
     "text": [
      "Checking if values are equal using == :, False\n",
      "Checking if values are different using != : True\n"
     ]
    }
   ],
   "source": [
    "c1 = float(input('Enter any float value type number: '))      #Taking first value from user.\n",
    "c2 = float(input('Enter another float value type number: '))  #Taking second value from user.\n",
    "print('Checking if values are equal using == :,', c1 == c2)        #Checking if values are equal\n",
    "print('Checking if values are different using != :', c1 != c2)     #Checking if values are different"
   ]
  },
  {
   "cell_type": "markdown",
   "id": "593df670-2648-4697-9296-8601ee563535",
   "metadata": {},
   "source": [
    "As we can observe that the output we have obtained in all scenarios is Boolean (True/False), this is because Equality operator always gives us Either True or False"
   ]
  },
  {
   "cell_type": "markdown",
   "id": "89df17fe-bad3-485e-ad0f-a304b763cb79",
   "metadata": {
    "tags": []
   },
   "source": [
    "Q5.Logical operators\n",
    "Observe the output of below code\n",
    "Cross check the output manually\n",
    "print(10.20 and 20.30)       #both are true and second value taken >Output is 20.3\n",
    "print(0.0 and 20.30)         #First is false so first value taken->Output is 0.0print(20.30 and 0.0)         #Goes to till second and second value is false so second is taken>Output is 0.0\n",
    "print(0.0 and 0.0)           #First is false so first value is\n",
    "taken->Output is 0.0\n",
    "print(10.20 or 20.30)        #First is True so first value is\n",
    "taken>Output is 10.2\n",
    "print(0.0 or 20.30)          #Goes to till second and second is true second value is taken->Output is 20.3\n",
    "print(20.30 or 0.0)          #First is True so first value is\n",
    "taken->Output is 20.3\n",
    "print(0.0 or 0.0)            #Goes to till second and second is also false and second value is taken>Output is 0.0\n",
    "print(not 10.20)             #-Not of true is false->Output is False print(not 0.0)               #Not of false is True>Output is True"
   ]
  },
  {
   "cell_type": "code",
   "execution_count": 41,
   "id": "215d7fab-5699-4a52-97e1-f3663828e02d",
   "metadata": {
    "tags": []
   },
   "outputs": [
    {
     "name": "stdout",
     "output_type": "stream",
     "text": [
      "20.3\n",
      "0.0\n",
      "0.0\n",
      "0.0\n",
      "10.2\n",
      "20.3\n",
      "20.3\n",
      "0.0\n",
      "False\n",
      "True\n"
     ]
    }
   ],
   "source": [
    "#Lets check the output manually:\n",
    "\n",
    "print(10.20 and 20.30)       \n",
    "print(0.0 and 20.30) \n",
    "print(20.30 and 0.0)\n",
    "print(0.0 and 0.0)           \n",
    "\n",
    "print(10.20 or 20.30)       \n",
    "print(0.0 or 20.30)          \n",
    "print(20.30 or 0.0)         \n",
    "print(0.0 or 0.0)  \n",
    "\n",
    "print(not 10.20)  \n",
    "print(not 0.0)"
   ]
  },
  {
   "cell_type": "markdown",
   "id": "7e949b7c-1916-412f-988e-2aafb866f421",
   "metadata": {
    "tags": []
   },
   "source": [
    "Q6. What is the output of expression inside print statement. Cross check before running the program.\n",
    "a = 10.20\n",
    "b - 10.20\n",
    "print(a is b)          #True or False? True 10.20<256\n",
    "print(a is not b)      #True or False? False\n",
    "Why the Id of float values are different when the same value is assigned to two different variables\n",
    "ex: a = 10.5 b=10.5. but id will be same if I assign the variable having float i.e. a=c then both a and c's Id are same"
   ]
  },
  {
   "cell_type": "code",
   "execution_count": 6,
   "id": "33a46197-a940-4fdd-9e49-96f79932302e",
   "metadata": {
    "tags": []
   },
   "outputs": [
    {
     "name": "stdout",
     "output_type": "stream",
     "text": [
      "The id of variable a is: 2887129518640\n",
      "The id of variable b is: 2887154937488\n",
      "False\n",
      "True\n",
      "The id of variable c is: 2887129518640\n"
     ]
    }
   ],
   "source": [
    "#Lets check the output manually:\n",
    "\n",
    "a = 10.20\n",
    "b = 10.20\n",
    "\n",
    "print('The id of variable a is:',id(a))\n",
    "print('The id of variable b is:',id(b))\n",
    "\n",
    "print(a is b)          \n",
    "print(a is not b) \n",
    "\n",
    "c=a                                       #assigning the value of a to variable c\n",
    "print('The id of variable c is:',id(c))"
   ]
  },
  {
   "cell_type": "markdown",
   "id": "c848b8f9-274e-45ca-b0a9-ad7d6e8d01b5",
   "metadata": {},
   "source": [
    "Id of float values are different when the same value is assigned to two different variables because the memory reusibility is not applicable on float datatypes, but when only one value is stored and equality assignment (a=c) is done then both variables point to same memory address."
   ]
  },
  {
   "cell_type": "markdown",
   "id": "803cfabb-9606-4000-8b2f-499ecd3995cf",
   "metadata": {},
   "source": [
    "Q7. Bitwise operation is not applicable between instances of float. Why the Id of float values are different when the same value is assigned to two different variables\n",
    "ex: a = 10.5 b=10.5. but id will be same if I assign the variable having float i.e. a=c then both a and c's Id are same\n",
    "Object reusability concept is not applicable on float values."
   ]
  },
  {
   "cell_type": "code",
   "execution_count": 69,
   "id": "672a337e-a6de-4007-ab76-1b01bdb2e8d6",
   "metadata": {
    "tags": []
   },
   "outputs": [
    {
     "ename": "TypeError",
     "evalue": "unsupported operand type(s) for &: 'float' and 'float'",
     "output_type": "error",
     "traceback": [
      "\u001b[1;31m---------------------------------------------------------------------------\u001b[0m",
      "\u001b[1;31mTypeError\u001b[0m                                 Traceback (most recent call last)",
      "Cell \u001b[1;32mIn[69], line 3\u001b[0m\n\u001b[0;32m      1\u001b[0m x\u001b[38;5;241m=\u001b[39m\u001b[38;5;241m10.25\u001b[39m\n\u001b[0;32m      2\u001b[0m y\u001b[38;5;241m=\u001b[39m\u001b[38;5;241m13.20\u001b[39m\n\u001b[1;32m----> 3\u001b[0m \u001b[38;5;28mprint\u001b[39m(x \u001b[38;5;241m&\u001b[39m y)\n",
      "\u001b[1;31mTypeError\u001b[0m: unsupported operand type(s) for &: 'float' and 'float'"
     ]
    }
   ],
   "source": [
    "x=10.25\n",
    "y=13.20\n",
    "print(x & y)"
   ]
  },
  {
   "cell_type": "markdown",
   "id": "f372651d-eaba-481d-a532-1eee9070b462",
   "metadata": {},
   "source": [
    "So we can say that the Bitwise operation is not applicable between instances of float"
   ]
  },
  {
   "cell_type": "code",
   "execution_count": 8,
   "id": "a8885658-482e-4b8a-a0e8-5996b1345f55",
   "metadata": {
    "tags": []
   },
   "outputs": [
    {
     "name": "stdout",
     "output_type": "stream",
     "text": [
      "The id of variable a is: 2887154938000\n",
      "The id of variable b is: 2887154937136\n",
      "The id of variable c is: 2887154938000\n"
     ]
    }
   ],
   "source": [
    "a = 10.20\n",
    "b = 10.20\n",
    "\n",
    "print('The id of variable a is:',id(a))\n",
    "print('The id of variable b is:',id(b))\n",
    "\n",
    "c=a                                       #assigning the value of a to variable c\n",
    "print('The id of variable c is:',id(c))"
   ]
  },
  {
   "cell_type": "markdown",
   "id": "a0543be6-0ff2-455b-9d7c-26fcf00cd7ad",
   "metadata": {},
   "source": [
    "Id of float values are different when the same value is assigned to two different variables because the memory reusibility is not applicable on float datatypes, but when only one value is stored and equality assignment (a=c) is done then both variables point to same memory address."
   ]
  },
  {
   "cell_type": "markdown",
   "id": "600da4ff-4463-465c-a09a-07fb8b952c98",
   "metadata": {},
   "source": [
    "Q8. Membership operation\n",
    "in, not in are two membership operators and it returns boolean value\n",
    "print('2.7' in 'Python2.7.8')              #True print(10.20 in [10,10.20,10+20j,'Python']) #True print(10.20 in (10,10.20,10+20j,'Python')) # True print(20.30 in {1,20.30,30+40j})           # True print(2.3 in {1:100, 2.3:200, 30+40j:300}) # True print(10 in range(20))                     # True"
   ]
  },
  {
   "cell_type": "code",
   "execution_count": 15,
   "id": "a25bf7ae-15d3-4bf5-b5d5-652f8926f27a",
   "metadata": {
    "tags": []
   },
   "outputs": [
    {
     "name": "stdout",
     "output_type": "stream",
     "text": [
      "True\n",
      "True\n",
      "True\n",
      "True\n",
      "True\n",
      "True\n"
     ]
    }
   ],
   "source": [
    "#Lets check the output manually:\n",
    "\n",
    "print('2.7' in 'Python2.7.8')\n",
    "print(10.20 in [10,10.20,10+20j,'Python']) \n",
    "print(10.20 in (10,10.20,10+20j,'Python')) \n",
    "print(20.30 in {1,20.30,30+40j})           \n",
    "print(2.3 in {1:100, 2.3:200, 30+40j:300}) \n",
    "print(10 in range(20))                     "
   ]
  },
  {
   "cell_type": "code",
   "execution_count": null,
   "id": "b26cc832-d56c-4ff9-a63c-7296350120fe",
   "metadata": {},
   "outputs": [],
   "source": []
  }
 ],
 "metadata": {
  "kernelspec": {
   "display_name": "Python 3 (ipykernel)",
   "language": "python",
   "name": "python3"
  },
  "language_info": {
   "codemirror_mode": {
    "name": "ipython",
    "version": 3
   },
   "file_extension": ".py",
   "mimetype": "text/x-python",
   "name": "python",
   "nbconvert_exporter": "python",
   "pygments_lexer": "ipython3",
   "version": "3.11.5"
  }
 },
 "nbformat": 4,
 "nbformat_minor": 5
}
