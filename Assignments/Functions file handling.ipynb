{
 "cells": [
  {
   "cell_type": "markdown",
   "id": "af9c9c70-db0a-4deb-8ae6-eb2e4d59fa69",
   "metadata": {},
   "source": [
    "LB_DSC_19thApril_WKDY_MR_2024\n",
    "\n",
    "Mohit Chaudhary 7011883015"
   ]
  },
  {
   "cell_type": "markdown",
   "id": "f7d0b870-b428-4f7f-9492-214df0efe822",
   "metadata": {},
   "source": [
    "# File Handling"
   ]
  },
  {
   "cell_type": "markdown",
   "id": "906bd730-1190-43d6-8472-a14a8e72d1df",
   "metadata": {},
   "source": [
    "Q1. Write a Python program to read a file line by line and store it into a list"
   ]
  },
  {
   "cell_type": "code",
   "execution_count": 3,
   "id": "000b9f7c-137c-42a3-8d51-0c946040cf84",
   "metadata": {},
   "outputs": [
    {
     "name": "stdout",
     "output_type": "stream",
     "text": [
      "['Today is the anniversary of the publication of Robert Frost\\'s iconic poem \"Stopping by Woods on a Snowy Evening,\" a fact that spurred the  \\n', ' Literary Hub office into a long conversation about their favorite poems, the most iconic poems written in English, and which poems we should all  \\n', ' have already read (or at least be reading next). Turns out, despite frequent (false) claims that poetry is dead and/or irrelevant and/or boring, there are plenty of poems that have sunk deep into our collective consciousness as cultural icons. (What makes a poem iconic? For our purposes \\n', \" here, it's primarily a matter of cultural ubiquity, though unimpeachable excellence helps any case.) So for those of you who were not present \\n\", ' for our epic office argument, I have listed some of them here. \\n', ' NB that I limited myself to one poem per poetâ€”which means that the impetus for this list actually gets bumped for the widely quoted (and \\n', ' misunderstood) \"The Road Not Taken,\" but so it goes. I also excluded book-length poems, because they\\'re really a different form. Finally, \\n', \" despite the headline, I'm sure there are many, many iconic poems out there that Iâ€™ve missedâ€”so feel free to extend this list in the comments. \\n\", ' But for now, happy reading (and re-reading):'] <class 'list'>\n"
     ]
    }
   ],
   "source": [
    "f =open('file.txt','r')             # opening file named file.txt\n",
    "b=f.readlines()                     # reading file line by line and storing in b\n",
    "print(b,type(b))"
   ]
  },
  {
   "cell_type": "markdown",
   "id": "79214d51-7358-4e99-ac38-380ad4e3dcde",
   "metadata": {},
   "source": [
    "#### user defined file name"
   ]
  },
  {
   "cell_type": "code",
   "execution_count": 5,
   "id": "12784e8e-ca5d-4c79-8e52-4b3ee3940566",
   "metadata": {},
   "outputs": [
    {
     "name": "stdin",
     "output_type": "stream",
     "text": [
      "Enter the name of the file to read:  file.txt\n"
     ]
    },
    {
     "name": "stdout",
     "output_type": "stream",
     "text": [
      "Contents of the file as a list: \n",
      " ['Today is the anniversary of the publication of Robert Frost\\'s iconic poem \"Stopping by Woods on a Snowy Evening,\" a fact that spurred the  \\n', ' Literary Hub office into a long conversation about their favorite poems, the most iconic poems written in English, and which poems we should all  \\n', ' have already read (or at least be reading next). Turns out, despite frequent (false) claims that poetry is dead and/or irrelevant and/or boring, there are plenty of poems that have sunk deep into our collective consciousness as cultural icons. (What makes a poem iconic? For our purposes \\n', \" here, it's primarily a matter of cultural ubiquity, though unimpeachable excellence helps any case.) So for those of you who were not present \\n\", ' for our epic office argument, I have listed some of them here. \\n', ' NB that I limited myself to one poem per poetâ€”which means that the impetus for this list actually gets bumped for the widely quoted (and \\n', ' misunderstood) \"The Road Not Taken,\" but so it goes. I also excluded book-length poems, because they\\'re really a different form. Finally, \\n', \" despite the headline, I'm sure there are many, many iconic poems out there that Iâ€™ve missedâ€”so feel free to extend this list in the comments. \\n\", ' But for now, happy reading (and re-reading):']\n"
     ]
    }
   ],
   "source": [
    "def read_file_to_list(filename):                            # defining function\n",
    "  with open(filename, 'r') as f:                            # opening file using new method\n",
    "    lines = f.readlines()                                   # reading line by line and storing \n",
    "  return lines                                              # returning the saved list\n",
    "\n",
    "def main():                                                 # defining main function\n",
    "  filename = input(\"Enter the name of the file to read: \")  # taking name of file from user\n",
    "  try:                                                      # trying to open the file and if sucessful then performing next steps\n",
    "    file_lines = read_file_to_list(filename)                # calling function to read line into list\n",
    "    print(\"Contents of the file as a list:\",'\\n',file_lines)              \n",
    "\n",
    "  except FileNotFoundError:                                 # if file not found then using exeption handling to tell user that file not found\n",
    "    print(\"Error: File\", filename, \"not found.\")            \n",
    "\n",
    "if __name__ == \"__main__\":                                  # Calling the main function to start the program \n",
    "  main()\n"
   ]
  },
  {
   "cell_type": "markdown",
   "id": "c360664b-143a-4950-b186-18319191fcf3",
   "metadata": {},
   "source": [
    "Q2. Write a Python program to extract characters from various text files and puts them into a list.</b>\r\n"
   ]
  },
  {
   "cell_type": "code",
   "execution_count": 8,
   "id": "d33c4f91-7884-40aa-936e-5a87178e6801",
   "metadata": {},
   "outputs": [
    {
     "name": "stdin",
     "output_type": "stream",
     "text": [
      "Enter a file name (or 'q' to quit):  word1.txt\n",
      "Enter a file name (or 'q' to quit):  word2.txt\n",
      "Enter a file name (or 'q' to quit):  q\n"
     ]
    },
    {
     "name": "stdout",
     "output_type": "stream",
     "text": [
      "Extracted characters from all files: ['W', 'e', 'l', 'c', 'o', 'm', 'e', ' ', 't', 'o', ' ', 't', 'h', 'e', ' ', 'P', 'y', 't', 'h', 'o', 'n', ' ', 'W', 'i', 'k', 'i', ',', ' ', 'a', ' ', 'u', 's', 'e', 'r', '-', 'e', 'd', 'i', 't', 'a', 'b', 'l', 'e', ' ', 'c', 'o', 'm', 'p', 'e', 'n', 'd', 'i', 'u', 'm', ' ', 'o', 'f', ' ', 'k', 'n', 'o', 'w', 'l', 'e', 'd', 'g', 'e', 'b', 'a', 's', 'e', 'd', ' ', 'a', 'r', 'o', 'u', 'n', 'd', ' ', 't', 'h', 'e', ' ', 'P', 'y', 't', 'h', 'o', 'n', ' ', 'p', 'r', 'o', 'g', 'r', 'a', 'm', 'm', 'i', 'n', 'g', ' ', 'l', 'a', 'n', 'g', 'u', 'a', 'g', 'e', '.', ' ', 'S', 'o', 'm', 'e', ' ', 'p', 'a', 'g', 'e', 's', ' ', 'a', 'r', 'e', ' ', 'p', 'r', 'o', 't', 'e', 'c', 't', 'e', 'd', 'a', 'g', 'a', 'i', 'n', 's', 't', ' ', 'c', 'a', 's', 'u', 'a', 'l', ' ', 'e', 'd', 'i', 't', 'i', 'n', 'g', ' ', '-', ' ', 's', 'e', 'e', ' ', 'W', 'i', 'k', 'i', 'E', 'd', 'i', 't', 'i', 'n', 'g', 'G', 'u', 'i', 'd', 'e', 'l', 'i', 'n', 'e', 's', ' ', 'f', 'o', 'r', ' ', 'm', 'o', 'r', 'e', ' ', 'i', 'n', 'f', 'o', 'r', 'm', 'a', 't', 'i', 'o', 'n', 'a', 'b', 'o', 'u', 't', ' ', 'e', 'd', 'i', 't', 'i', 'n', 'g', ' ', 'c', 'o', 'n', 't', 'e', 'n', 't', '.', 'P', 'y', 't', 'h', 'o', 'n', ' ', 'i', 's', ' ', 'a', ' ', 'g', 'r', 'e', 'a', 't', ' ', 'o', 'b', 'j', 'e', 'c', 't', '-', 'o', 'r', 'i', 'e', 'n', 't', 'e', 'd', ',', ' ', 'i', 'n', 't', 'e', 'r', 'p', 'r', 'e', 't', 'e', 'd', ',', ' ', 'a', 'n', 'd', ' ', 'i', 'n', 't', 'e', 'r', 'a', 'c', 't', 'i', 'v', 'e', 'p', 'r', 'o', 'g', 'r', 'a', 'm', 'm', 'i', 'n', 'g', ' ', 'l', 'a', 'n', 'g', 'u', 'a', 'g', 'e', '.', ' ', 'I', 't', ' ', 'i', 's', ' ', 'o', 'f', 't', 'e', 'n', ' ', 'c', 'o', 'm', 'p', 'a', 'r', 'e', 'd', ' ', '(', 'f', 'a', 'v', 'o', 'r', 'a', 'b', 'l', 'y', ' ', 'o', 'f', ' ', 'c', 'o', 'u', 'r', 's', 'e', ' ', ':', '-', ')', ' ', ')', 't', 'o', ' ', 'L', 'i', 's', 'p', ',', ' ', 'T', 'c', 'l', ',', ' ', 'P', 'e', 'r', 'l', ',', ' ', 'R', 'u', 'b', 'y', ',', ' ', 'C', '#', ',', ' ', 'V', 'i', 's', 'u', 'a', 'l', ' ', 'B', 'a', 's', 'i', 'c', ',', ' ', 'V', 'i', 's', 'u', 'a', 'l', ' ', 'F', 'o', 'x', ' ', 'P', 'r', 'o', ',', ' ', 'S', 'c', 'h', 'e', 'm', 'e', ' ', 'o', 'r', ' ', 'J', 'a', 'v', 'a', '.', '.', '.', 'a', 'n', 'd', ' ', 'i', 't', \"'\", 's', ' ', 'm', 'u', 'c', 'h', ' ', 'm', 'o', 'r', 'e', ' ', 'f', 'u', 'n', '.']\n"
     ]
    }
   ],
   "source": [
    "def extract_char_files(filenames):                                       # defining function\n",
    "  all_chars = []                                                         # creating empty list to store characters\n",
    "  for i in filenames:                                                    # itertaing in file names and opening all input files\n",
    "    try:\n",
    "      with open(i, 'r') as file:                                         # trying to open the files and if sucessful then performing next steps\n",
    "        file_contents = file.read()                                      # reading complete file at once and storing\n",
    "        all_chars.extend(char for char in file_contents if char != '\\n') # using list comprehension to get all characters from the file\n",
    "    except FileNotFoundError:                                            # if file not found then using exeption handling to tell user that file not found\n",
    "      print(\"Error: File\", filename, \"not found.\")\n",
    "  return all_chars                                                       # returning the saved list of charcaters\n",
    "\n",
    "def main():                                                              # defining main function\n",
    "  filenames = []                                                         # creating empty list to store file names to open files later\n",
    "  while True:                                                            # using while loop to get all file names\n",
    "    user_input = input(\"Enter a file name (or 'q' to quit): \")           \n",
    "    if user_input.lower() == 'q':\n",
    "      break\n",
    "    filenames.append(user_input)                                         # saving all files names entered by user\n",
    "  extracted_chars = extract_char_files(filenames)                        # calling function to get all characters from the files\n",
    "  print(\"Extracted characters from all files:\", extracted_chars)\n",
    "\n",
    "if __name__ == \"__main__\":                                               # Calling the main function to start the program \n",
    "  main()"
   ]
  },
  {
   "cell_type": "markdown",
   "id": "4c21dc2e-ddac-4d01-bea2-13c939bd079c",
   "metadata": {},
   "source": [
    "# Functions"
   ]
  },
  {
   "cell_type": "markdown",
   "id": "f00fe0d5-f9ae-41e6-b703-88a6b2cc8ec2",
   "metadata": {},
   "source": [
    "Q1. Write a Python function to find the Max of three numbers."
   ]
  },
  {
   "cell_type": "code",
   "execution_count": 10,
   "id": "5c378dfe-250c-4355-8331-b3718c1a5297",
   "metadata": {},
   "outputs": [
    {
     "name": "stdin",
     "output_type": "stream",
     "text": [
      "Enter first number: 65\n",
      "Enter second number: 50\n",
      "Enter third number: 85\n"
     ]
    },
    {
     "name": "stdout",
     "output_type": "stream",
     "text": [
      "The largest of three numbers is: 85\n"
     ]
    }
   ],
   "source": [
    "def max_num(num1,num2,num3):                                              # defining function to find greatest number\n",
    "    large = max(num1,num2)                                                # checking for largest of num1 & num2\n",
    "    return (max(large,num3))                                              # returning the largest of three numbers\n",
    "\n",
    "def main():                                                               # defining main function\n",
    "    num1 = eval(input('Enter first number:'))                             # Taking first user input\n",
    "    num2 = eval(input('Enter second number:'))                            # Taking second user input\n",
    "    num3 = eval(input('Enter third number:'))                             # Taking third user input\n",
    "    print('The largest of three numbers is:',max_num(num1,num2,num3))\n",
    "\n",
    "if __name__ == \"__main__\":                                                # Calling the main function to start the program \n",
    "  main()"
   ]
  },
  {
   "cell_type": "markdown",
   "id": "93ac7dea-7727-4231-bb08-21827507788c",
   "metadata": {},
   "source": [
    "Q2. Write a Python function to sum all the numbers in a list"
   ]
  },
  {
   "cell_type": "code",
   "execution_count": 12,
   "id": "e44b7567-899b-4550-acf1-2ad7fc84991d",
   "metadata": {},
   "outputs": [
    {
     "name": "stdin",
     "output_type": "stream",
     "text": [
      "Enter list of integers separated by ',':  1,2,3,4,5,6,7,8,9,7,8,9,4,5,6,1,2,3,5\n"
     ]
    },
    {
     "name": "stdout",
     "output_type": "stream",
     "text": [
      "The sum of elements of list is: 95\n"
     ]
    }
   ],
   "source": [
    "def sum_list_elements(lst):                                               # Defining function\n",
    "    sum_lst=0                                                             # initialising sum = 0\n",
    "    for i in lst:                                                         # iterating in user entered list\n",
    "        sum_lst+=i                                                        # adding the elements of lists\n",
    "    return sum_lst                                                        # returning the sum of elements\n",
    "\n",
    "def main():\n",
    "    user_input = input(\"Enter list of integers separated by ',': \")       # Taking the user input list of integers\n",
    "    numbers = list(map(int, user_input.split(',')))                       # Converting the user input into a list of integers\n",
    "    print('The sum of elements of list is:',sum_list_elements(numbers))\n",
    "\n",
    "if __name__ == \"__main__\":                                                # Calling the main function to start the program \n",
    "  main()\n",
    "    "
   ]
  },
  {
   "cell_type": "markdown",
   "id": "4491e22c-4118-43fc-95f1-f41329b92711",
   "metadata": {},
   "source": [
    "Q3. Write a Python function to check whether a string is a pangram or not. </b> <br>\r\n",
    "Note : Pangrams are words or sentences containing every letter of the alphabet at least once.<br>\r\n",
    "For example : \"The quick brown fox jumps over the lazy dog\""
   ]
  },
  {
   "cell_type": "code",
   "execution_count": 13,
   "id": "f8aed3bf-bb4b-4483-a8f2-dee9f8722d6a",
   "metadata": {},
   "outputs": [
    {
     "name": "stdin",
     "output_type": "stream",
     "text": [
      "Enter a string: The quick brown fox jumps over the lazy dog\n"
     ]
    },
    {
     "name": "stdout",
     "output_type": "stream",
     "text": [
      "The entered string is a pargram ? , The answer is: True\n"
     ]
    }
   ],
   "source": [
    "def is_pangram(text):                                                      # defining function\n",
    "  alphabet = set('abcdefghijklmnopqrstuvwxyz')                             # creating set all alphabets (a-z)\n",
    "  check_text = set(char.lower() for char in text if char.isalpha())        # storing as set only alphabets from the string\n",
    "  return check_text == alphabet                                            # checking if all a-z all alphabets are in string or not\n",
    "\n",
    "def main(): \n",
    "    user_input = input(\"Enter a string:\")                                  # Taking the user input string\n",
    "    print('The entered string is a pargram ? , The answer is:',is_pangram(user_input))\n",
    "\n",
    "if __name__ == \"__main__\":                                                # Calling the main function to start the program \n",
    "  main()\n"
   ]
  },
  {
   "cell_type": "code",
   "execution_count": 14,
   "id": "8332f42d-ae7d-4b6a-83ed-09299c43dcd3",
   "metadata": {},
   "outputs": [
    {
     "data": {
      "text/plain": [
       "False"
      ]
     },
     "execution_count": 14,
     "metadata": {},
     "output_type": "execute_result"
    }
   ],
   "source": [
    "is_pangram('The fox jumps over the lazy dog')"
   ]
  },
  {
   "cell_type": "markdown",
   "id": "fca16594-d873-4894-91cb-2ded295d667d",
   "metadata": {},
   "source": [
    "Q4. Write a Python program to sort a list of tuples using Lambda.\r\n",
    "Original list of tuples>\r\n",
    "[('English', 88), ('Science', 90), ('Maths', 97), ('Social sciencr>\r\n",
    "Sorting the Liof tuplesbr>\r\n",
    "[('Social sciences', 82), ('English', 88), ('Science', 90), ('Maths', 97)]"
   ]
  },
  {
   "cell_type": "code",
   "execution_count": 1,
   "id": "cb563095-eb8e-46da-af53-03e23868aaa7",
   "metadata": {},
   "outputs": [
    {
     "name": "stdout",
     "output_type": "stream",
     "text": [
      "The sorted list based on marks is: \n",
      " [('Social Science', 82), ('English', 88), ('Science', 90), ('Maths', 97)]\n"
     ]
    }
   ],
   "source": [
    "def sort_tuple(lst):                          # defining function\n",
    "    output = sorted(lst, key=lambda x: x[1])  # Sort the list using the key function to sort based on the second element inside tuple \n",
    "    return output                             # returning the output\n",
    "\n",
    "my_list = [('English', 88), ('Science', 90), ('Maths', 97),('Social Science',82)]\n",
    "sorted_list = sort_tuple(my_list.copy())  \n",
    "print('The sorted list based on marks is:','\\n',sorted_list)    "
   ]
  },
  {
   "cell_type": "markdown",
   "id": "f6823f5f-eca9-4f75-8003-d272540cb28a",
   "metadata": {},
   "source": [
    "Q5. Write a Python program to get the Fibonacci series between 0 to 50"
   ]
  },
  {
   "cell_type": "code",
   "execution_count": 2,
   "id": "2dd883f2-47b1-4537-ae7e-555264a20f8f",
   "metadata": {},
   "outputs": [
    {
     "name": "stdin",
     "output_type": "stream",
     "text": [
      "Enter upto which number you want Fibonacci Numbers: 50\n"
     ]
    },
    {
     "name": "stdout",
     "output_type": "stream",
     "text": [
      "The Febonacci series till 50 is: \n",
      " [0, 1, 1, 2, 3, 5, 8, 13, 21, 34]\n"
     ]
    }
   ],
   "source": [
    "def fibonacci(limit):                         # defining function\n",
    "  fibo = [0, 1]                               # initialising list for first febonacci number\n",
    "  while fibo[-1]+fibo[-2] < limit:            # iterating till sum of last 2 elements is less than given limit\n",
    "    fibo.append(fibo[-2] + fibo[-1])          # finding febonacci and appending to the list\n",
    "  return fibo                                 # returning the output list\n",
    "\n",
    "user_limit = int(input('Enter upto which number you want Fibonacci Numbers:'))\n",
    "fibonacci_sequence = fibonacci(user_limit)    # calling function to find febonacci number till user input\n",
    "print(f'The Febonacci series till {user_limit} is:','\\n',fibonacci_sequence)                     \n"
   ]
  },
  {
   "cell_type": "markdown",
   "id": "3f45cdeb-4c03-483b-93b1-44fc8d7ab07f",
   "metadata": {},
   "source": [
    "Q6. Write a Python program to convert temperatures to and from celsius, fahrenheit"
   ]
  },
  {
   "cell_type": "code",
   "execution_count": 3,
   "id": "0638fff6-8a6c-4d93-be55-07f8ae59970f",
   "metadata": {},
   "outputs": [
    {
     "name": "stdin",
     "output_type": "stream",
     "text": [
      "Enter temprature in degree celcius (C): 99\n"
     ]
    },
    {
     "name": "stdout",
     "output_type": "stream",
     "text": [
      "The temprature 99 degree Celcius converted to degree Farenheit is: 210.20000000000002\n"
     ]
    }
   ],
   "source": [
    "def CeltoFah(degree):                    # Defining function\n",
    "    faren = 9/5*degree+32                # converting degree c to degree f\n",
    "    return faren\n",
    "a = eval(input('Enter temprature in degree celcius (C):'))          # Taking user input\n",
    "print(f'The temprature {a} degree Celcius converted to degree Farenheit is: {CeltoFah(a)}')"
   ]
  },
  {
   "cell_type": "markdown",
   "id": "94aaf554-0fc3-40c5-8efb-deb9eaccda17",
   "metadata": {},
   "source": [
    "Q7. Write a Python program to count the number of even and odd numbers from a series of numbers."
   ]
  },
  {
   "cell_type": "code",
   "execution_count": 4,
   "id": "4425c8fe-34bc-411a-b215-3e3bfe278c6b",
   "metadata": {},
   "outputs": [
    {
     "name": "stdin",
     "output_type": "stream",
     "text": [
      "Enter Series of integers separated by ',':  1,2,3,4,5,6,7,8,9,10,11\n"
     ]
    },
    {
     "name": "stdout",
     "output_type": "stream",
     "text": [
      "The No of Even numbers in the series is: 5\n",
      "The No of Odd numbers in the series is: 6\n"
     ]
    }
   ],
   "source": [
    "def even_odd_count(lst):                                                 # Defining function\n",
    "    even_lst = [i for i in lst if i%2==0]                                # Separating even numbers\n",
    "    odd_lst = [i for i in lst if i%2!=0]                                 # Separating odd numbers\n",
    "    return len(even_lst),len(odd_lst)                                    # returning no of even and odd numbers\n",
    "\n",
    "def main():\n",
    "    user_input = input(\"Enter Series of integers separated by ',': \")       # Taking the user input list of integers\n",
    "    numbers = list(map(int, user_input.split(',')))                       # Converting the user input into a list of integers\n",
    "    even_num,odd_num = even_odd_count(numbers)\n",
    "    print('The No of Even numbers in the series is:',even_num)\n",
    "    print('The No of Odd numbers in the series is:',odd_num)\n",
    "\n",
    "if __name__ == \"__main__\":                                                # Calling the main function to start the program \n",
    "  main()"
   ]
  },
  {
   "cell_type": "markdown",
   "id": "8c6b6018-f89e-4f6b-8caa-f63865c47462",
   "metadata": {},
   "source": [
    "Q8. Write a Python program which iterates the integers from 1 to 50. For multiples of three print \"Fizz\" instead of the number and for the multiples of five print \"Buzz\". For numbers which are multiples of both three and five print \"FizzBuzz\""
   ]
  },
  {
   "cell_type": "code",
   "execution_count": 10,
   "id": "90e80c97-36b0-496f-9538-f46ba4c08931",
   "metadata": {},
   "outputs": [
    {
     "name": "stdin",
     "output_type": "stream",
     "text": [
      "Enter number to start from: 1\n",
      "Enter number till output is required: 50\n"
     ]
    },
    {
     "name": "stdout",
     "output_type": "stream",
     "text": [
      "The required output is: \n",
      " [1, 2, 'Fizz', 4, 'Buzz', 'Fizz', 7, 8, 'Fizz', 'Buzz', 11, 'Fizz', 13, 14, 'FizzBuzz', 16, 17, 'Fizz', 19, 'Buzz', 'Fizz', 22, 23, 'Fizz', 'Buzz', 26, 'Fizz', 28, 29, 'FizzBuzz', 31, 32, 'Fizz', 34, 'Buzz', 'Fizz', 37, 38, 'Fizz', 'Buzz', 41, 'Fizz', 43, 44, 'FizzBuzz', 46, 47, 'Fizz', 49, 'Buzz']\n"
     ]
    }
   ],
   "source": [
    "def fizzbuzz(start, end):\n",
    "    output = [\"FizzBuzz\" if i % 3 == 0 and i % 5 == 0 else \"Fizz\" if i % 3 == 0 else \"Buzz\" if i % 5 == 0 else i for i in range(start, end+1)]\n",
    "    return output\n",
    "\n",
    "def main():\n",
    "    user_input_start = int(input(\"Enter number to start from:\"))       # Taking the user input list of integers\n",
    "    user_input_end = int(input(\"Enter number till output is required:\")) \n",
    "    print('The required output is:','\\n',fizzbuzz(user_input_start,user_input_end))\n",
    "\n",
    "if __name__ == \"__main__\":                                                # Calling the main function to start the program \n",
    "  main()"
   ]
  },
  {
   "cell_type": "code",
   "execution_count": null,
   "id": "1d2dc746-0a84-416d-a1e1-a1880f072d3c",
   "metadata": {},
   "outputs": [],
   "source": []
  }
 ],
 "metadata": {
  "kernelspec": {
   "display_name": "Python 3 (ipykernel)",
   "language": "python",
   "name": "python3"
  },
  "language_info": {
   "codemirror_mode": {
    "name": "ipython",
    "version": 3
   },
   "file_extension": ".py",
   "mimetype": "text/x-python",
   "name": "python",
   "nbconvert_exporter": "python",
   "pygments_lexer": "ipython3",
   "version": "3.11.7"
  }
 },
 "nbformat": 4,
 "nbformat_minor": 5
}
