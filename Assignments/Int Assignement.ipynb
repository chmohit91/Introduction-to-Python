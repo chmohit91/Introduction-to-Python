{
 "cells": [
  {
   "cell_type": "markdown",
   "metadata": {},
   "source": [
    "LB_DSC_19thApril_WKDY_MR_2024\n",
    "\n",
    "Mohit Chaudhary 7011883015"
   ]
  },
  {
   "cell_type": "markdown",
   "metadata": {},
   "source": [
    "Q1. Declare a integer value and store it in a variable.\n",
    "Check the type and print the id of the same."
   ]
  },
  {
   "cell_type": "code",
   "execution_count": 23,
   "metadata": {
    "colab": {
     "base_uri": "https://localhost:8080/"
    },
    "executionInfo": {
     "elapsed": 1303,
     "status": "ok",
     "timestamp": 1613111202422,
     "user": {
      "displayName": "Abhishek Gupta",
      "photoUrl": "",
      "userId": "01308143559053085164"
     },
     "user_tz": -330
    },
    "id": "7JIFn6BP4M0R",
    "outputId": "33047161-8746-480f-c2ec-8b3ae85d8088"
   },
   "outputs": [
    {
     "name": "stdout",
     "output_type": "stream",
     "text": [
      "The type of variable is: <class 'int'>\n",
      "The id of variable is: 140710734042504\n"
     ]
    }
   ],
   "source": [
    "a = 20       #Declaring a integer value and storing it in a variable. \n",
    "\n",
    "print('The type of variable is:',type(a))   #Checking the type of variable.\n",
    "print('The id of variable is:',id(a))       #Checking the id of variable"
   ]
  },
  {
   "cell_type": "markdown",
   "metadata": {},
   "source": [
    "Q2.  Take one integer value between 0 - 256.\n",
    "Assign it to two different variables.\n",
    "Check the id of both the variables. It should come the same. Check why?"
   ]
  },
  {
   "cell_type": "code",
   "execution_count": 8,
   "metadata": {
    "colab": {
     "base_uri": "https://localhost:8080/"
    },
    "executionInfo": {
     "elapsed": 760,
     "status": "ok",
     "timestamp": 1613111341097,
     "user": {
      "displayName": "Abhishek Gupta",
      "photoUrl": "",
      "userId": "01308143559053085164"
     },
     "user_tz": -330
    },
    "id": "o9bjjhN64kAP",
    "outputId": "86f385e0-05de-4a17-892d-60d7b5dd4c91"
   },
   "outputs": [
    {
     "name": "stdout",
     "output_type": "stream",
     "text": [
      "The id of first variable is: 140710508926504\n",
      "The id of Second variable is: 140710508926504\n"
     ]
    }
   ],
   "source": [
    "b = 25            #Taking one integer value\n",
    "c = 25            #Assigning it to another variable.\n",
    "\n",
    "\n",
    "print('The id of first variable is:',id(b))   #Checking the id of integer a\n",
    "print('The id of Second variable is:',id(c))  #Checking the id of integer b"
   ]
  },
  {
   "cell_type": "markdown",
   "metadata": {},
   "source": [
    "As we can see that both first and second variable is having same id because both variables has same value which is stored in memory location '140710508926504', this is called memory reusibility."
   ]
  },
  {
   "cell_type": "markdown",
   "metadata": {},
   "source": [
    "Q3. Take one int value either less than -5 or greater than 256.\n",
    "Assign it to two different variables.\n",
    "Check the id of both the variables. It should come different.Check why?"
   ]
  },
  {
   "cell_type": "code",
   "execution_count": 16,
   "metadata": {
    "tags": []
   },
   "outputs": [
    {
     "name": "stdout",
     "output_type": "stream",
     "text": [
      "The id of first variable is: 1872390009424\n",
      "The id of Second variable is: 1872390009264\n"
     ]
    }
   ],
   "source": [
    "b = -15            #Taking one integer value\n",
    "c = -15            #Assigning it to another variable.\n",
    "\n",
    "\n",
    "print('The id of first variable is:',id(b))   #Checking the id of integer a\n",
    "print('The id of Second variable is:',id(c))  #Checking the id of integer b"
   ]
  },
  {
   "cell_type": "markdown",
   "metadata": {},
   "source": [
    "As we can see that both first and second variable is having different id because both variables has same value but not in the range (-5 to 256) so the memory reusibility is not applicable beyond this range."
   ]
  },
  {
   "cell_type": "markdown",
   "metadata": {},
   "source": [
    "Q4.  Arithmetic Operations on integers\n",
    "Take two different integer values.\n",
    "Store them in two different variables.\n",
    "Do below operations on them:-\n",
    "Find sum of both numbers\n",
    "Find difference between them\n",
    "Find the product of both numbers.\n",
    "Find value after dividing first num with second number\n",
    "Find the remainder after dividing first number with second number Find the quotient after dividing first number with second number Find the result of the first num to the power of the second number."
   ]
  },
  {
   "cell_type": "code",
   "execution_count": 24,
   "metadata": {
    "colab": {
     "base_uri": "https://localhost:8080/"
    },
    "executionInfo": {
     "elapsed": 9058,
     "status": "ok",
     "timestamp": 1613111578793,
     "user": {
      "displayName": "Abhishek Gupta",
      "photoUrl": "",
      "userId": "01308143559053085164"
     },
     "user_tz": -330
    },
    "id": "yr4ETGSf4l5y",
    "outputId": "b7c7ba34-1667-480e-db63-60a37eca9d69"
   },
   "outputs": [
    {
     "name": "stdin",
     "output_type": "stream",
     "text": [
      "Enter any integer number:  10\n",
      "Enter another integer number:  5\n"
     ]
    },
    {
     "name": "stdout",
     "output_type": "stream",
     "text": [
      "sum of first and second value is 15\n",
      "Difference of first and second value is 5\n",
      "Product of first and second value is 50\n",
      "Division of first with second value is 2.0\n",
      "Quotient after dividing first value with second value 2\n",
      "Remainder after dividing first value with second value 0\n",
      "first value to the power of second value is 100000\n"
     ]
    }
   ],
   "source": [
    "a1 = int(input('Enter any integer number: '))      #Taking first value from user.\n",
    "a2 = int(input('Enter another integer number: '))  #Taking second value from user.\n",
    "\n",
    "print('sum of first and second value is', a1 + a2)                         #Getting the sum of both values\n",
    "print('Difference of first and second value is', a1 - a2)                  #Finding the differce between both values\n",
    "print('Product of first and second value is', a1 * a2)                     #Finding the product of both values.\n",
    "print('Division of first with second value is', a1 / a2)                   #dividing first value with second value\n",
    "print('Quotient after dividing first value with second value', a1 // a2)   #Quotient after dividing first value with second value\n",
    "print('Remainder after dividing first value with second value', a1 % a2)   #remainder after dividing first value with second value\n",
    "print('first value to the power of second value is', a1 ** a2)             #first value to the power of second value.\n"
   ]
  },
  {
   "cell_type": "markdown",
   "metadata": {},
   "source": [
    "Q5. Comparison Operators on integers\n",
    "Take two different integer values.\n",
    "Store them in two different variables.\n",
    "Do below operations on them:-\n",
    "   Compare se two numbers with below operator:-        Greater than, '>'\n",
    "       Smaller than, '<'\n",
    "       Greater than or equal to, '>='\n",
    "       Less than or equal to, '<='\n",
    "Observe their output(return type should be boolean)Q. Comparison Operators on integers\n",
    "Take two different integer values.\n",
    "Store them in two different variables.\n",
    "Do below operations on them:-\n",
    "   Compare se two numbers with below operator:-        Greater than, '>'\n",
    "       Smaller than, '<'\n",
    "       Greater than or equal to, '>='\n",
    "       Less than or equal to, '<='\n",
    "Observe their output(return type should be boolean)"
   ]
  },
  {
   "cell_type": "code",
   "execution_count": 27,
   "metadata": {
    "colab": {
     "base_uri": "https://localhost:8080/"
    },
    "executionInfo": {
     "elapsed": 5417,
     "status": "ok",
     "timestamp": 1613111674792,
     "user": {
      "displayName": "Abhishek Gupta",
      "photoUrl": "",
      "userId": "01308143559053085164"
     },
     "user_tz": -330
    },
    "id": "xG4mX84E4n2O",
    "outputId": "5c641fad-e17d-41db-c59c-c6dc930791e0"
   },
   "outputs": [
    {
     "name": "stdin",
     "output_type": "stream",
     "text": [
      "Enter any integer number:  25\n",
      "Enter another integer number:  10\n"
     ]
    },
    {
     "name": "stdout",
     "output_type": "stream",
     "text": [
      "Is first value Greater than second value: True\n",
      "Is first value Less than second value: False\n",
      "Is first value Less than or equal to second value: False\n",
      "Is first value Greater than or equal to second value True\n"
     ]
    }
   ],
   "source": [
    "b1 = int(input('Enter any integer number: '))      #Taking first value from user.\n",
    "b2 = int(input('Enter another integer number: '))  #Taking second value from user.\n",
    "\n",
    "print('Is first value Greater than second value:', b1 > b2)               #Greater than, '>'\n",
    "print('Is first value Less than second value:', b1 < b2)                  #less than, '<'\n",
    "print('Is first value Less than or equal to second value:', b1 <= b2)     #Greater than or equal to, '>='\n",
    "print('Is first value Greater than or equal to second value', b1 >= b2)   #Less than or equal to, '<='\n"
   ]
  },
  {
   "cell_type": "markdown",
   "metadata": {},
   "source": [
    "As we can observe that the output we have obtained in all scenarios is Boolean (True/False), this is because comparison operator always gives us Either True or False"
   ]
  },
  {
   "cell_type": "markdown",
   "metadata": {},
   "source": [
    "Q6. Equality Operator\n",
    "Take two different integer values.\n",
    "Store them in two different variables. Equate them using equality operators (==, !=) Observe the output(return type should be boolean)Q. Equality Operator\n",
    "Take two different integer values.\n",
    "Store them in two different variables. Equate them using equality operators (==, !=) Observe the output(return type should be boolean)"
   ]
  },
  {
   "cell_type": "code",
   "execution_count": 31,
   "metadata": {
    "id": "TUIo2Z9V4qBJ"
   },
   "outputs": [
    {
     "name": "stdin",
     "output_type": "stream",
     "text": [
      "Enter any integer number:  20\n",
      "Enter another integer number:  25\n"
     ]
    },
    {
     "name": "stdout",
     "output_type": "stream",
     "text": [
      "Checking if values are equal using == :, False\n",
      "Checking if values are different using != : True\n"
     ]
    }
   ],
   "source": [
    "c1 = int(input('Enter any integer number: '))            #Taking first value from user.\n",
    "c2 = int(input('Enter another integer number: '))        #Taking second value from user.\n",
    "print('Checking if values are equal using == :,', c1 == c2)        #Checking if values are equal\n",
    "print('Checking if values are different using != :', c1 != c2)     #Checking if values are different\n"
   ]
  },
  {
   "cell_type": "markdown",
   "metadata": {},
   "source": [
    "As we can observe that the output we have obtained in all scenarios is Boolean (True/False), this is because Equality operator always gives us Either True or False"
   ]
  },
  {
   "cell_type": "markdown",
   "metadata": {},
   "source": [
    "Q7. Logical operators\n",
    "Observe the output of below codeCross check the output manually\n",
    "print(10 and 20)\n",
    "#----------------------------------------->Output is 20\n",
    "print(0 and 20)\n",
    "#----------------------------------------->Output is 0\n",
    "print(20 and 0)\n",
    "#----------------------------------------->Output is 0\n",
    "print(0 and 0)\n",
    "#----------------------------------------->Output is 0\n",
    "print(10 or 20)\n",
    "#----------------------------------------->Output is 10\n",
    "print(0 or 20)\n",
    "#----------------------------------------->Output is 20\n",
    "print(20 or 0)\n",
    "#----------------------------------------->Output is 20\n",
    "print(0 or 0)\n",
    "#----------------------------------------->Output is 0\n",
    "print(not 10)\n",
    "#----------------------------------------->Output is False\n",
    "print(not 0)\n",
    "#----------------------------------------->Output is TrueQ. Logical operators\n",
    "Observe the output of below codeCross check the output manually\n",
    "print(10 and 20)\n",
    "#----------------------------------------->Output is 20\n",
    "print(0 and 20)\n",
    "#----------------------------------------->Output is 0\n",
    "print(20 and 0)\n",
    "#----------------------------------------->Output is 0\n",
    "print(0 and 0)\n",
    "#----------------------------------------->Output is 0\n",
    "print(10 or 20)\n",
    "#----------------------------------------->Output is 10\n",
    "print(0 or 20)\n",
    "#----------------------------------------->Output is 20\n",
    "print(20 or 0)\n",
    "#----------------------------------------->Output is 20\n",
    "print(0 or 0)\n",
    "#----------------------------------------->Output is 0\n",
    "print(not 10)\n",
    "#----------------------------------------->Output is False\n",
    "print(not 0)\n",
    "#----------------------------------------->Output is True"
   ]
  },
  {
   "cell_type": "code",
   "execution_count": 38,
   "metadata": {
    "id": "XukEq5E44rxv"
   },
   "outputs": [
    {
     "name": "stdout",
     "output_type": "stream",
     "text": [
      "20\n",
      "0\n",
      "0\n",
      "0\n",
      "10\n",
      "20\n",
      "20\n",
      "0\n",
      "False\n",
      "True\n"
     ]
    }
   ],
   "source": [
    "#Lets check the output manually:\n",
    "\n",
    "print(10 and 20)       \n",
    "print(0 and 20)        \n",
    "print(20 and 0)        \n",
    "print(0 and 0)         \n",
    "\n",
    "print(10 or 20)       \n",
    "print(0 or 20)         \n",
    "print(20 or 0)         \n",
    "print(0 or 0)          \n",
    "\n",
    "print(not 10)         \n",
    "print(not 0)           "
   ]
  },
  {
   "cell_type": "markdown",
   "metadata": {},
   "source": [
    "Q8. Bitwise Operators\n",
    "Do below operations on the values provided below:-\n",
    "   Bitwise and(&) -----------------------------------------> 10, 20\n",
    "-------> Output is 0\n",
    "   Bitwise or(|)  -----------------------------------------> 10, 20\n",
    "-------> Output is 30\n",
    "   Bitwise(^)     -----------------------------------------> 10, 20 -------> Output is 30\n",
    "   Bitwise negation(~) ------------------------------------> 10 -------> Output is -11\n",
    "   Bitwise left shift  ------------------------------------> 10,2 -------> Output is 40\n",
    "   Bitwise right shift ------------------------------------> 10,2 -------> Output is 2\n",
    "Cross check the output manuallyQ. Bitwise Operators\n",
    "Do below operations on the values provided below:-\n",
    "   Bitwise and(&) -----------------------------------------> 10, 20\n",
    "-------> Output is 0\n",
    "   Bitwise or(|)  -----------------------------------------> 10, 20\n",
    "-------> Output is 30\n",
    "   Bitwise(^)     -----------------------------------------> 10, 20 -------> Output is 30\n",
    "   Bitwise negation(~) ------------------------------------> 10 -------> Output is -11\n",
    "   Bitwise left shift  ------------------------------------> 10,2 -------> Output is 40\n",
    "   Bitwise right shift ------------------------------------> 10,2 -------> Output is 2\n",
    "Cross check the output manually"
   ]
  },
  {
   "cell_type": "code",
   "execution_count": 42,
   "metadata": {
    "colab": {
     "base_uri": "https://localhost:8080/"
    },
    "executionInfo": {
     "elapsed": 1565,
     "status": "ok",
     "timestamp": 1613111151406,
     "user": {
      "displayName": "Abhishek Gupta",
      "photoUrl": "",
      "userId": "01308143559053085164"
     },
     "user_tz": -330
    },
    "id": "02jPgt094vK-",
    "outputId": "d9039a2c-b421-4e0b-e570-1c244332a728"
   },
   "outputs": [
    {
     "name": "stdout",
     "output_type": "stream",
     "text": [
      "0\n",
      "30\n",
      "30\n",
      "-11\n",
      "40\n",
      "2\n"
     ]
    }
   ],
   "source": [
    "#Lets check the output manually:\n",
    "\n",
    "print(10&20)\n",
    "print(10|20)\n",
    "print(10^20)\n",
    "print(~10)\n",
    "print(10<<2)\n",
    "print(10>>2)"
   ]
  },
  {
   "cell_type": "markdown",
   "metadata": {},
   "source": [
    "Q9. What is the output of expression inside print statement. Cross check before running the program.a = 10\n",
    "b = 10\n",
    "print(a is b)          #True or False?\n",
    "print(a is not b)      #True or False?\n",
    "a = 1000\n",
    "b = 1000\n",
    "print(a is b)          #True or False?\n",
    "print(a is not b)      #True or False?Q. What is the output of expression inside print statement. Cross check before running the program.a = 10\n",
    "b = 10\n",
    "print(a is b)          #True or False?\n",
    "print(a is not b)      #True or False?\n",
    "a = 1000\n",
    "b = 1000\n",
    "print(a is b)          #True or False?\n",
    "print(a is not b)      #True or False?"
   ]
  },
  {
   "cell_type": "code",
   "execution_count": 45,
   "metadata": {
    "id": "cy5i7sWz4v_c"
   },
   "outputs": [
    {
     "name": "stdout",
     "output_type": "stream",
     "text": [
      "True\n",
      "False\n",
      "False\n",
      "True\n"
     ]
    }
   ],
   "source": [
    "#lets run the expressions given in the question to us:\n",
    "a = 10\n",
    "b = 10\n",
    "print(a is b)          \n",
    "print(a is not b)      \n",
    "a = 1000\n",
    "b = 1000\n",
    "print(a is b)          \n",
    "print(a is not b)         "
   ]
  },
  {
   "cell_type": "markdown",
   "metadata": {},
   "source": [
    "Q10. What is the output of expression inside print statement. Cross check before running the program.\n",
    "print(10+(10*32)//2**5&20+(~(-10))<<2)"
   ]
  },
  {
   "cell_type": "code",
   "execution_count": 49,
   "metadata": {
    "tags": []
   },
   "outputs": [
    {
     "name": "stdout",
     "output_type": "stream",
     "text": [
      "20\n"
     ]
    }
   ],
   "source": [
    "#lets run the expression given in the question to us:\n",
    "print(10+(10*32)//2**5&20+(~(-10))<<2)"
   ]
  },
  {
   "cell_type": "markdown",
   "metadata": {},
   "source": [
    "Q11. Membership operation\n",
    "in, not in are two membership operators and it returns boolean value\n",
    "print('2' in 'Python2.7.8')\n",
    "print(10 in [10,10.20,10+20j,'Python'])\n",
    "print(10 in (10,10.20,10+20j,'Python'))\n",
    "print(2 in {1,2,3})\n",
    "print(3 in {1:100, 2:200, 3:300})\n",
    "print(10 in range(20))Q. Membership operation"
   ]
  },
  {
   "cell_type": "code",
   "execution_count": 52,
   "metadata": {
    "id": "AOcPQi8544M-"
   },
   "outputs": [
    {
     "name": "stdout",
     "output_type": "stream",
     "text": [
      "True\n",
      "True\n",
      "True\n",
      "True\n",
      "True\n",
      "True\n"
     ]
    }
   ],
   "source": [
    "#lets run the expressions given in the question to us:\n",
    "\n",
    "print('2' in 'Python2.7.8')\n",
    "print(10 in [10,10.20,10+20j,'Python'])\n",
    "print(10 in (10,10.20,10+20j,'Python'))\n",
    "print(2 in {1,2,3})\n",
    "print(3 in {1:100, 2:200, 3:300})\n",
    "print(10 in range(20))"
   ]
  },
  {
   "cell_type": "markdown",
   "metadata": {
    "id": "MPa1Lpco46Ja"
   },
   "source": [
    "Q12. An integer can be represented in binary, octal or hexadecimal form. Declare one binary, one octal and one hexadecimal value and store them in three different variables.\n",
    "Convert 9876 to its binary, octal and hexadecimal equivalent and print their corresponding value."
   ]
  },
  {
   "cell_type": "code",
   "execution_count": 14,
   "metadata": {
    "tags": []
   },
   "outputs": [
    {
     "name": "stdout",
     "output_type": "stream",
     "text": [
      "Printing declared Binary value: 10\n",
      "Printing declared Octal value: 20\n",
      "Printing declared Hexadecimal value: 30\n",
      "Converting 9876 to its binary: 0b10011010010100\n",
      "Converting 9876 to its Octal: 0o23224\n",
      "Converting 9876 to its hexadecimal: 0x2694\n"
     ]
    }
   ],
   "source": [
    "bin_num = 0b1010            #Declaring Binary value\n",
    "oct_num = 0o24              #Declaring Octal value\n",
    "hex_num = 0x1e              #Declaring Hexadecimal value\n",
    "\n",
    "print('Printing declared Binary value:',bin_num)\n",
    "print('Printing declared Octal value:',oct_num)\n",
    "print('Printing declared Hexadecimal value:',hex_num)\n",
    "\n",
    "print('Converting 9876 to its binary:',bin(9876))         #converting to binary\n",
    "print('Converting 9876 to its Octal:',oct(9876))          #converting to octal\n",
    "print('Converting 9876 to its hexadecimal:',hex(9876))    #converting to hexadecimal"
   ]
  },
  {
   "cell_type": "markdown",
   "metadata": {
    "tags": []
   },
   "source": [
    "Q13. What will be the output of following:- a = 0b1010000\n",
    "print(a)\n",
    "b = 0o7436 print(b)\n",
    "c = 0xfade print(c) print(bin(80))print(oct(3870)) print(hex(64222)) print(bin(0b1010000)) print(bin(0xfade)) print(oct(0xfade)) print(oct(0o7436)) print(hex(0b1010000)) print(hex(0xfade))"
   ]
  },
  {
   "cell_type": "code",
   "execution_count": 16,
   "metadata": {
    "tags": []
   },
   "outputs": [
    {
     "name": "stdout",
     "output_type": "stream",
     "text": [
      "80\n",
      "3870\n",
      "64222\n",
      "0b1010000\n",
      "0o7436\n",
      "0xfade\n",
      "0b1010000\n",
      "0b1111101011011110\n",
      "0o175336\n",
      "0o7436\n",
      "0x50\n",
      "0xfade\n"
     ]
    }
   ],
   "source": [
    "a = 0b1010000\n",
    "print(a)\n",
    "\n",
    "b = 0o7436 \n",
    "print(b)\n",
    "\n",
    "c = 0xfade \n",
    "print(c) \n",
    "\n",
    "print(bin(80))\n",
    "\n",
    "print(oct(3870)) \n",
    "\n",
    "print(hex(64222)) \n",
    "\n",
    "print(bin(0b1010000)) \n",
    "\n",
    "print(bin(0xfade)) \n",
    "\n",
    "print(oct(0xfade)) \n",
    "\n",
    "print(oct(0o7436)) \n",
    "\n",
    "print(hex(0b1010000))\n",
    "\n",
    "print(hex(0xfade))"
   ]
  },
  {
   "cell_type": "code",
   "execution_count": null,
   "metadata": {},
   "outputs": [],
   "source": []
  }
 ],
 "metadata": {
  "colab": {
   "authorship_tag": "ABX9TyMaWD77gm8/YpBMU+37uAcQ",
   "name": "Sol_Boolean_Assignement.ipynb",
   "provenance": [
    {
     "file_id": "1wADaUpN0law4PANdldEAoj1noqEdLXVU",
     "timestamp": 1613111010745
    }
   ]
  },
  "kernelspec": {
   "display_name": "Python 3 (ipykernel)",
   "language": "python",
   "name": "python3"
  },
  "language_info": {
   "codemirror_mode": {
    "name": "ipython",
    "version": 3
   },
   "file_extension": ".py",
   "mimetype": "text/x-python",
   "name": "python",
   "nbconvert_exporter": "python",
   "pygments_lexer": "ipython3",
   "version": "3.11.5"
  }
 },
 "nbformat": 4,
 "nbformat_minor": 4
}
