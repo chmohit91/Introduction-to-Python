{
 "cells": [
  {
   "cell_type": "markdown",
   "id": "457e2107-66ba-4d13-88ec-b51d576b7f4b",
   "metadata": {},
   "source": [
    "LB_DSC_19thApril_WKDY_MR_2024\n",
    "\n",
    "Mohit Chaudhary 7011883015"
   ]
  },
  {
   "cell_type": "markdown",
   "id": "380277b7-9201-4acd-8ccb-4acd37f1de0c",
   "metadata": {},
   "source": [
    "Q1. W. A P. which takes one number from 0 to 9 from the user and prints it in the word. And if the word is not from 0 to 9 then\n",
    "it should print that number is outside of the range and program should exit.\n",
    "For exapmple:-\n",
    "input = 1\n",
    "output = one"
   ]
  },
  {
   "cell_type": "code",
   "execution_count": 4,
   "id": "62ec42f2-587a-4145-8e80-8e34fb92d4aa",
   "metadata": {
    "tags": []
   },
   "outputs": [
    {
     "name": "stdin",
     "output_type": "stream",
     "text": [
      "Enter a number:  6\n"
     ]
    },
    {
     "name": "stdout",
     "output_type": "stream",
     "text": [
      "Six\n"
     ]
    }
   ],
   "source": [
    "num = int(input('Enter a number: '))         # Taking integer input from user\n",
    "\n",
    "# using if-elif-else:\n",
    "\n",
    "if num == 0:\n",
    "  print('Zero')\n",
    "elif num == 1:\n",
    "  print('One')\n",
    "elif num == 2:\n",
    "  print('Two')\n",
    "elif num == 4:\n",
    "  print('Four')\n",
    "elif num == 5:\n",
    "  print('Five')\n",
    "elif num == 6:\n",
    "  print('Six')\n",
    "elif num == 7:\n",
    "  print('Seven')\n",
    "elif num == 8:\n",
    "  print('Eight')\n",
    "elif num == 9:\n",
    "  print('Nine')\n",
    "else:\n",
    "  print('Number is outside the range!!!')"
   ]
  },
  {
   "cell_type": "code",
   "execution_count": 44,
   "id": "9c7a87ed-4575-4e28-bb47-7494a76939b5",
   "metadata": {
    "tags": []
   },
   "outputs": [
    {
     "name": "stdin",
     "output_type": "stream",
     "text": [
      "Enter a number:  10\n"
     ]
    },
    {
     "name": "stdout",
     "output_type": "stream",
     "text": [
      "Number is outside the range!!!\n"
     ]
    }
   ],
   "source": [
    "# using dictionary:\n",
    "num_word={ 1 :'One',2 : 'Two', 3 :'Three', 4 :'Four', 5 :'Five',  6 :'Six',  7 :'Seven',\n",
    "          8 :'Eight', 9 :'Nine'}\n",
    "\n",
    "num = int(input('Enter a number: '))         # Taking integer input from user\n",
    "for i in num_word.keys():\n",
    "    if num_word.get(num):\n",
    "        print('The number you entered is:',num_word[num])\n",
    "        break\n",
    "else:\n",
    "  print('Number is outside the range!!!')"
   ]
  },
  {
   "cell_type": "markdown",
   "id": "c9405561-7fd1-464c-bce8-f5479c39a471",
   "metadata": {},
   "source": [
    "Q2. W. A P. to implement calculator but the operation to be done and two numbers will be taken as input from user:-\n",
    "Operation console should show below:-\n",
    "   Please select any one operation from below:-\n",
    "       * To add enter 1\n",
    "       * to subtract enter 2\n",
    "       * To multiply enter 3\n",
    "       * To divide enter 4\n",
    "       * To divide and find quotient enter 5\n",
    "       * To divide and find remainder enter 6\n",
    "       * To divide and find num1 to the power of num2 enter 7\n",
    "       * To Come out of the program enter 8"
   ]
  },
  {
   "cell_type": "code",
   "execution_count": 65,
   "id": "3cc845ab-25a1-491f-b27e-f34fd417492c",
   "metadata": {
    "tags": []
   },
   "outputs": [
    {
     "name": "stdout",
     "output_type": "stream",
     "text": [
      "\t\tCalculator:-\n",
      "                          \n",
      "  \t For Addition enter 1\n",
      "\n",
      "  \t For Subtraction enter 2\n",
      "\n",
      "  \t For Multiplication enter 3\n",
      "\n",
      "  \t For Division enter 4\n",
      "\n",
      "  \t For Dividing and find quotient enter 5\n",
      "\n",
      "  \t For Dividing and find remainder enter 6\n",
      "\n",
      "  \t For Diving and find num1 to the power of num2 enter 7\n",
      "\n",
      "  \t exit Enter 8\n",
      "\n"
     ]
    },
    {
     "name": "stdin",
     "output_type": "stream",
     "text": [
      "Enter the first input:  2\n",
      "Enter the second input:  3\n",
      "Please provide which type of operation you want to perform:  7\n"
     ]
    },
    {
     "name": "stdout",
     "output_type": "stream",
     "text": [
      "Your answer is:  8\n"
     ]
    }
   ],
   "source": [
    "#To display Calculator and its Options\n",
    "print('''\\t\\tCalculator:-\\n                          \n",
    "  \\t For Addition enter 1\\n\n",
    "  \\t For Subtraction enter 2\\n\n",
    "  \\t For Multiplication enter 3\\n\n",
    "  \\t For Division enter 4\\n\n",
    "  \\t For Dividing and find quotient enter 5\\n\n",
    "  \\t For Dividing and find remainder enter 6\\n\n",
    "  \\t For Diving and find num1 to the power of num2 enter 7\\n\n",
    "  \\t exit Enter 8\\n''')\n",
    "\n",
    "p = int(input(\"Enter the first input: \"))                                      # Getting first number\n",
    "q = int(input(\"Enter the second input: \"))                                     # Getting second number\n",
    "\n",
    "oper = int(input(\"Please provide which type of operation you want to perform: \"))   # Getting operation input from user\n",
    "\n",
    "result = 0\n",
    "\n",
    "if oper == 1:\n",
    "    result = p+q            # Addition\n",
    "elif oper == 2:\n",
    "    result = p-q            # Subtraction\n",
    "elif oper == 3:\n",
    "    result = p*q            # Multiplication\n",
    "elif oper == 4:\n",
    "    result = p/q            # Division\n",
    "elif oper == 5:\n",
    "    result = p//q           # Quotient after Division\n",
    "elif oper == 6:\n",
    "    result = p%q            # Remainder after Division\n",
    "elif oper == 7:\n",
    "    result = p**q           # Num1 to power of num2\n",
    "elif oper == 8:\n",
    "    print('Exiting the calculator')\n",
    "else:\n",
    "    print(\"Invalid Input\")\n",
    "print(\"Your answer is: \",result)"
   ]
  },
  {
   "cell_type": "markdown",
   "id": "0452285a-4126-4de8-8dbb-a90abebc8899",
   "metadata": {},
   "source": [
    " Q3. W A P to check whether a year entered by user is an leap year or not? Check with below input:-\n",
    "   leap year:- 2012, 1968, 2004, 1200, 1600,2400\n",
    "   Non-leap year:- 1971, 2006, 1700,1800,1900"
   ]
  },
  {
   "cell_type": "code",
   "execution_count": 83,
   "id": "417276bd-4d8d-4b6c-8817-f25b7504dd06",
   "metadata": {
    "tags": []
   },
   "outputs": [
    {
     "name": "stdin",
     "output_type": "stream",
     "text": [
      "Please enter the year:  2012\n"
     ]
    },
    {
     "name": "stdout",
     "output_type": "stream",
     "text": [
      "This is a leap year\n"
     ]
    }
   ],
   "source": [
    "year = int(input(\"Please enter the year: \"))                # Taking input year from the user\n",
    "if year % 4 == 0 and (year % 100 != 0 or year % 400 == 0):  #checking if the year is leap year  \n",
    "   print(\"This is a leap year\")\n",
    "else:\n",
    "   print(\"This is not a leap year\")"
   ]
  },
  {
   "cell_type": "code",
   "execution_count": 85,
   "id": "38552099-4064-4e3c-99d9-8fe466d1619e",
   "metadata": {
    "tags": []
   },
   "outputs": [
    {
     "name": "stdin",
     "output_type": "stream",
     "text": [
      "Please enter the year:  1968\n"
     ]
    },
    {
     "name": "stdout",
     "output_type": "stream",
     "text": [
      "This is a leap year\n"
     ]
    }
   ],
   "source": [
    "year = int(input(\"Please enter the year: \"))                # Taking input year from the user\n",
    "if year % 4 == 0 and (year % 100 != 0 or year % 400 == 0):  # checking if the year is leap year  \n",
    "   print(\"This is a leap year\")\n",
    "else:\n",
    "   print(\"This is not a leap year\")"
   ]
  },
  {
   "cell_type": "code",
   "execution_count": 90,
   "id": "de07f6cd-4b11-47fa-883d-704e9f74be7b",
   "metadata": {
    "tags": []
   },
   "outputs": [
    {
     "name": "stdin",
     "output_type": "stream",
     "text": [
      "Please enter the year:  2004\n"
     ]
    },
    {
     "name": "stdout",
     "output_type": "stream",
     "text": [
      "This is a leap year\n"
     ]
    }
   ],
   "source": [
    "year = int(input(\"Please enter the year: \"))                # Taking input year from the user\n",
    "if year % 4 == 0 and (year % 100 != 0 or year % 400 == 0):  # checking if the year is leap year  \n",
    "   print(\"This is a leap year\")\n",
    "else:\n",
    "   print(\"This is not a leap year\")"
   ]
  },
  {
   "cell_type": "code",
   "execution_count": 92,
   "id": "4d11d985-d1a0-4546-95e8-aa51fad2228e",
   "metadata": {
    "tags": []
   },
   "outputs": [
    {
     "name": "stdin",
     "output_type": "stream",
     "text": [
      "Please enter the year:  1200\n"
     ]
    },
    {
     "name": "stdout",
     "output_type": "stream",
     "text": [
      "This is a leap year\n"
     ]
    }
   ],
   "source": [
    "year = int(input(\"Please enter the year: \"))                # Taking input year from the user\n",
    "if year % 4 == 0 and (year % 100 != 0 or year % 400 == 0):  # checking if the year is leap year  \n",
    "   print(\"This is a leap year\")\n",
    "else:\n",
    "   print(\"This is not a leap year\")"
   ]
  },
  {
   "cell_type": "code",
   "execution_count": 94,
   "id": "8c32bd1c-8f52-4034-a444-9e7ce0be81a3",
   "metadata": {
    "tags": []
   },
   "outputs": [
    {
     "name": "stdin",
     "output_type": "stream",
     "text": [
      "Please enter the year:  1600\n"
     ]
    },
    {
     "name": "stdout",
     "output_type": "stream",
     "text": [
      "This is a leap year\n"
     ]
    }
   ],
   "source": [
    "year = int(input(\"Please enter the year: \"))                # Taking input year from the user\n",
    "if year % 4 == 0 and (year % 100 != 0 or year % 400 == 0):  # checking if the year is leap year  \n",
    "   print(\"This is a leap year\")\n",
    "else:\n",
    "   print(\"This is not a leap year\")"
   ]
  },
  {
   "cell_type": "code",
   "execution_count": 96,
   "id": "8ff8733b-3018-422a-9f36-0939278b4e68",
   "metadata": {
    "tags": []
   },
   "outputs": [
    {
     "name": "stdin",
     "output_type": "stream",
     "text": [
      "Please enter the year:  2400\n"
     ]
    },
    {
     "name": "stdout",
     "output_type": "stream",
     "text": [
      "This is a leap year\n"
     ]
    }
   ],
   "source": [
    "year = int(input(\"Please enter the year: \"))                # Taking input year from the user\n",
    "if year % 4 == 0 and (year % 100 != 0 or year % 400 == 0):  # checking if the year is leap year  \n",
    "   print(\"This is a leap year\")\n",
    "else:\n",
    "   print(\"This is not a leap year\")"
   ]
  },
  {
   "cell_type": "code",
   "execution_count": 98,
   "id": "19795d76-37d4-493d-91a8-49e588f55126",
   "metadata": {
    "tags": []
   },
   "outputs": [
    {
     "name": "stdin",
     "output_type": "stream",
     "text": [
      "Please enter the year:  1971\n"
     ]
    },
    {
     "name": "stdout",
     "output_type": "stream",
     "text": [
      "This is not a leap year\n"
     ]
    }
   ],
   "source": [
    "year = int(input(\"Please enter the year: \"))                # Taking input year from the user\n",
    "if year % 4 == 0 and (year % 100 != 0 or year % 400 == 0):  # checking if the year is leap year  \n",
    "   print(\"This is a leap year\")\n",
    "else:\n",
    "   print(\"This is not a leap year\")"
   ]
  },
  {
   "cell_type": "code",
   "execution_count": 100,
   "id": "bf1c4ca0-36e7-4a0a-b85c-b4056d34eb64",
   "metadata": {
    "tags": []
   },
   "outputs": [
    {
     "name": "stdin",
     "output_type": "stream",
     "text": [
      "Please enter the year:  2006\n"
     ]
    },
    {
     "name": "stdout",
     "output_type": "stream",
     "text": [
      "This is not a leap year\n"
     ]
    }
   ],
   "source": [
    "year = int(input(\"Please enter the year: \"))                # Taking input year from the user\n",
    "if year % 4 == 0 and (year % 100 != 0 or year % 400 == 0):  # checking if the year is leap year  \n",
    "   print(\"This is a leap year\")\n",
    "else:\n",
    "   print(\"This is not a leap year\")"
   ]
  },
  {
   "cell_type": "code",
   "execution_count": 102,
   "id": "94e8e26c-61c5-4c69-9ef4-ffd5b43fb2fa",
   "metadata": {
    "tags": []
   },
   "outputs": [
    {
     "name": "stdin",
     "output_type": "stream",
     "text": [
      "Please enter the year:  1700\n"
     ]
    },
    {
     "name": "stdout",
     "output_type": "stream",
     "text": [
      "This is not a leap year\n"
     ]
    }
   ],
   "source": [
    "year = int(input(\"Please enter the year: \"))                # Taking input year from the user\n",
    "if year % 4 == 0 and (year % 100 != 0 or year % 400 == 0):  # checking if the year is leap year  \n",
    "   print(\"This is a leap year\")\n",
    "else:\n",
    "   print(\"This is not a leap year\")"
   ]
  },
  {
   "cell_type": "code",
   "execution_count": 104,
   "id": "e8e5e880-49db-4b49-ae7e-ed1d11c022ba",
   "metadata": {
    "tags": []
   },
   "outputs": [
    {
     "name": "stdin",
     "output_type": "stream",
     "text": [
      "Please enter the year:  1800\n"
     ]
    },
    {
     "name": "stdout",
     "output_type": "stream",
     "text": [
      "This is not a leap year\n"
     ]
    }
   ],
   "source": [
    "year = int(input(\"Please enter the year: \"))                # Taking input year from the user\n",
    "if year % 4 == 0 and (year % 100 != 0 or year % 400 == 0):  # checking if the year is leap year  \n",
    "   print(\"This is a leap year\")\n",
    "else:\n",
    "   print(\"This is not a leap year\")"
   ]
  },
  {
   "cell_type": "code",
   "execution_count": 106,
   "id": "0a39b08d-ddc7-4f30-9c4b-b9b39fc71576",
   "metadata": {
    "tags": []
   },
   "outputs": [
    {
     "name": "stdin",
     "output_type": "stream",
     "text": [
      "Please enter the year:  1900\n"
     ]
    },
    {
     "name": "stdout",
     "output_type": "stream",
     "text": [
      "This is not a leap year\n"
     ]
    }
   ],
   "source": [
    "year = int(input(\"Please enter the year: \"))                # Taking input year from the user\n",
    "if year % 4 == 0 and (year % 100 != 0 or year % 400 == 0):  # checking if the year is leap year  \n",
    "   print(\"This is a leap year\")\n",
    "else:\n",
    "   print(\"This is not a leap year\")"
   ]
  },
  {
   "cell_type": "markdown",
   "id": "6a101c92-0b94-4d16-88dd-0959f6dcd7a3",
   "metadata": {},
   "source": [
    "Q4. W A P which takes one number from the user and checks whether it is an even or odd number?, If it even then prints number is\n",
    "even number else prints that number is odd number."
   ]
  },
  {
   "cell_type": "code",
   "execution_count": 109,
   "id": "1636a28e-8a1a-403d-96e9-5dac3516b641",
   "metadata": {
    "tags": []
   },
   "outputs": [
    {
     "name": "stdin",
     "output_type": "stream",
     "text": [
      "Enter a number:  25\n"
     ]
    },
    {
     "name": "stdout",
     "output_type": "stream",
     "text": [
      "The number you entered is a Odd Number\n"
     ]
    }
   ],
   "source": [
    "num = int(input(\"Enter a number: \"))                      # Getting number from user\n",
    "if num % 2 == 0:                                          # Checking if number is even or not\n",
    "    print('The number you entered is an Even Number')\n",
    "else:\n",
    "    print('The number you entered is a Odd Number')"
   ]
  },
  {
   "cell_type": "code",
   "execution_count": 111,
   "id": "33cee015-b6db-4384-bd79-c5c335a7f3dc",
   "metadata": {
    "tags": []
   },
   "outputs": [
    {
     "name": "stdin",
     "output_type": "stream",
     "text": [
      "Enter a number:  16\n"
     ]
    },
    {
     "name": "stdout",
     "output_type": "stream",
     "text": [
      "The number you entered is an Even Number\n"
     ]
    }
   ],
   "source": [
    "num = int(input(\"Enter a number: \"))                      # Getting number from user\n",
    "if num % 2 == 0:                                          # Checking if number is even or not\n",
    "    print('The number you entered is an Even Number')\n",
    "else:\n",
    "    print('The number you entered is a Odd Number')"
   ]
  },
  {
   "cell_type": "markdown",
   "id": "f378361e-31e7-44a7-ba73-080c259b8e1a",
   "metadata": {},
   "source": [
    "Q5. W A P which takes two numbers from the user and prints below output:-\n",
    "1. num1 is greater than num2 if num1 is greater than num2\n",
    "2. num1 is smaller than num2 if num1 is smaller than num2\n",
    "3. num1 is equal to num2 if num1 and num2 are equal"
   ]
  },
  {
   "cell_type": "markdown",
   "id": "ee46cbcf-586b-4ba1-a705-df8481d47f06",
   "metadata": {
    "tags": []
   },
   "source": [
    "#### Using If-Else"
   ]
  },
  {
   "cell_type": "code",
   "execution_count": 124,
   "id": "c6227769-a030-4f34-b7f5-1bb7c493575e",
   "metadata": {
    "tags": []
   },
   "outputs": [
    {
     "name": "stdin",
     "output_type": "stream",
     "text": [
      "Enter the first input:  25\n",
      "Enter the second input:  10\n"
     ]
    },
    {
     "name": "stdout",
     "output_type": "stream",
     "text": [
      "First number 25 is greater than Second number 10\n"
     ]
    }
   ],
   "source": [
    "num1 = int(input(\"Enter the first input: \"))                # Getting first number\n",
    "num2 = int(input(\"Enter the second input: \"))               # Getting second number\n",
    "if num1 > num2:                                             # checking if number 1 is greater than number 2\n",
    "    print(f'First number {num1} is greater than Second number {num2}')\n",
    "else:\n",
    "    if num2 > num1:\n",
    "        print(f'Second number {num2} is greater than First number {num1}')\n",
    "    else:\n",
    "        print(f'First number {num1} is equal to Second number {num2}')"
   ]
  },
  {
   "cell_type": "code",
   "execution_count": 126,
   "id": "514e4638-b636-46d8-ab38-fe2afdf98fec",
   "metadata": {
    "tags": []
   },
   "outputs": [
    {
     "name": "stdin",
     "output_type": "stream",
     "text": [
      "Enter the first input:  15\n",
      "Enter the second input:  25\n"
     ]
    },
    {
     "name": "stdout",
     "output_type": "stream",
     "text": [
      "Second number 25 is greater than First number 15\n"
     ]
    }
   ],
   "source": [
    "num1 = int(input(\"Enter the first input: \"))                # Getting first number\n",
    "num2 = int(input(\"Enter the second input: \"))               # Getting second number\n",
    "if num1 > num2:                                             # checking if number 1 is greater than number 2\n",
    "    print(f'First number {num1} is greater than Second number {num2}')\n",
    "else:\n",
    "    if num2 > num1:\n",
    "        print(f'Second number {num2} is greater than First number {num1}')\n",
    "    else:\n",
    "        print(f'First number {num1} is equal to Second number {num2}')"
   ]
  },
  {
   "cell_type": "code",
   "execution_count": 128,
   "id": "3f8a8a47-d5e0-4788-9828-2e201fd6c067",
   "metadata": {
    "tags": []
   },
   "outputs": [
    {
     "name": "stdin",
     "output_type": "stream",
     "text": [
      "Enter the first input:  35\n",
      "Enter the second input:  35\n"
     ]
    },
    {
     "name": "stdout",
     "output_type": "stream",
     "text": [
      "First number 35 is equal to Second number 35\n"
     ]
    }
   ],
   "source": [
    "num1 = int(input(\"Enter the first input: \"))                # Getting first number\n",
    "num2 = int(input(\"Enter the second input: \"))               # Getting second number\n",
    "if num1 > num2:                                             # checking if number 1 is greater than number 2\n",
    "    print(f'First number {num1} is greater than Second number {num2}')\n",
    "else:\n",
    "    if num2 > num1:\n",
    "        print(f'Second number {num2} is greater than First number {num1}')\n",
    "    else:\n",
    "        print(f'First number {num1} is equal to Second number {num2}')"
   ]
  },
  {
   "cell_type": "markdown",
   "id": "dcc9260e-f819-453c-a321-e609a966eacd",
   "metadata": {},
   "source": [
    "#### Using ternary operator"
   ]
  },
  {
   "cell_type": "code",
   "execution_count": 142,
   "id": "006c1269-e55b-452e-93df-e902d28133f7",
   "metadata": {
    "tags": []
   },
   "outputs": [
    {
     "name": "stdin",
     "output_type": "stream",
     "text": [
      "Enter the first input:  20\n",
      "Enter the second input:  10\n"
     ]
    },
    {
     "name": "stdout",
     "output_type": "stream",
     "text": [
      "First number 20 is greater than Second number 10\n"
     ]
    }
   ],
   "source": [
    "num1 = int(input(\"Enter the first input: \"))                # Getting first number\n",
    "num2 = int(input(\"Enter the second input: \"))               # Getting second number\n",
    "\n",
    "# Ternary Method\n",
    "print(f'Second number {num2} is greater than First number {num1}' if num1 < num2 else (f'First number {num1} is greater than Second number {num2}' if num2 < num1 else f'First number {num1} is equal to Second number {num2}'))\n"
   ]
  },
  {
   "cell_type": "code",
   "execution_count": 144,
   "id": "a4e5730d-1672-460b-adc4-92bc5e2cd04c",
   "metadata": {
    "tags": []
   },
   "outputs": [
    {
     "name": "stdin",
     "output_type": "stream",
     "text": [
      "Enter the first input:  10\n",
      "Enter the second input:  15\n"
     ]
    },
    {
     "name": "stdout",
     "output_type": "stream",
     "text": [
      "Second number 15 is greater than First number 10\n"
     ]
    }
   ],
   "source": [
    "num1 = int(input(\"Enter the first input: \"))                # Getting first number\n",
    "num2 = int(input(\"Enter the second input: \"))               # Getting second number\n",
    "\n",
    "# Ternary Method\n",
    "print(f'Second number {num2} is greater than First number {num1}' if num1 < num2 else (f'First number {num1} is greater than Second number {num2}' if num2 < num1 else f'First number {num1} is equal to Second number {num2}'))\n"
   ]
  },
  {
   "cell_type": "code",
   "execution_count": 146,
   "id": "437ea43d-2fea-46fa-9368-478419a98245",
   "metadata": {
    "tags": []
   },
   "outputs": [
    {
     "name": "stdin",
     "output_type": "stream",
     "text": [
      "Enter the first input:  20\n",
      "Enter the second input:  20\n"
     ]
    },
    {
     "name": "stdout",
     "output_type": "stream",
     "text": [
      "First number 20 is equal to Second number 20\n"
     ]
    }
   ],
   "source": [
    "num1 = int(input(\"Enter the first input: \"))                # Getting first number\n",
    "num2 = int(input(\"Enter the second input: \"))               # Getting second number\n",
    "\n",
    "# Ternary Method\n",
    "print(f'Second number {num2} is greater than First number {num1}' if num1 < num2 else (f'First number {num1} is greater than Second number {num2}' if num2 < num1 else f'First number {num1} is equal to Second number {num2}'))\n"
   ]
  },
  {
   "cell_type": "markdown",
   "id": "88b7e385-5512-412e-be61-a96bdd16252c",
   "metadata": {},
   "source": [
    "Q6. W A P which takes three numbers from the user and prints below output:-\n",
    "1. num1 is greater than num2 and num3 if num1 is greater than num2 and num3\n",
    "2. num2 is greater than num1 and num3 if num2 is greater than num1 and num33. num3 is greater than num1 and num2 if num3 is greater than num1 and num2\n",
    "Note:- 1. Do this problem using if - elif - else 2. Do this using ternary operator"
   ]
  },
  {
   "cell_type": "markdown",
   "id": "d5051e9a-9067-4301-b160-b6033861c340",
   "metadata": {},
   "source": [
    "#### Using if - elif - else"
   ]
  },
  {
   "cell_type": "code",
   "execution_count": 150,
   "id": "744f6f3e-bb2d-4e5a-ac53-7f22b1670c7f",
   "metadata": {
    "tags": []
   },
   "outputs": [
    {
     "name": "stdin",
     "output_type": "stream",
     "text": [
      "Enter the first input:  10\n",
      "Enter the second input:  5\n",
      "Enter the second input:  6\n"
     ]
    },
    {
     "name": "stdout",
     "output_type": "stream",
     "text": [
      "First number 10 is greater than other numbers 5 & 6\n"
     ]
    }
   ],
   "source": [
    "num1 = int(input(\"Enter the first input: \"))                # Getting first number\n",
    "num2 = int(input(\"Enter the second input: \"))               # Getting second number\n",
    "num3 = int(input(\"Enter the second input: \"))               # Getting third number\n",
    "if (num1 > num2) and (num1 > num3):                         # checking if number 1 is greater than other numbers\n",
    "    print(f'First number {num1} is greater than other numbers {num2} & {num3}')\n",
    "elif (num2 > num1) and (num2 > num3):\n",
    "    print(f'Second number {num2} is greater than other numbers {num2} & {num3}')\n",
    "else:\n",
    "    print(f'Second number {num3} is greater than other numbers {num1} & {num2}')"
   ]
  },
  {
   "cell_type": "code",
   "execution_count": 152,
   "id": "07aaa282-1c33-48fc-a744-26c10ed6098b",
   "metadata": {
    "tags": []
   },
   "outputs": [
    {
     "name": "stdin",
     "output_type": "stream",
     "text": [
      "Enter the first input:  7\n",
      "Enter the second input:  10\n",
      "Enter the second input:  6\n"
     ]
    },
    {
     "name": "stdout",
     "output_type": "stream",
     "text": [
      "Second number 10 is greater than other numbers 10 & 6\n"
     ]
    }
   ],
   "source": [
    "num1 = int(input(\"Enter the first input: \"))                # Getting first number\n",
    "num2 = int(input(\"Enter the second input: \"))               # Getting second number\n",
    "num3 = int(input(\"Enter the second input: \"))               # Getting third number\n",
    "if (num1 > num2) and (num1 > num3):                         # checking if number 1 is greater than other numbers\n",
    "    print(f'First number {num1} is greater than other numbers {num2} & {num3}')\n",
    "elif (num2 > num1) and (num2 > num3):\n",
    "    print(f'Second number {num2} is greater than other numbers {num2} & {num3}')\n",
    "else:\n",
    "    print(f'Second number {num3} is greater than other numbers {num1} & {num2}')"
   ]
  },
  {
   "cell_type": "code",
   "execution_count": 156,
   "id": "f0908b9a-6666-4fa1-b459-4dfe35ad7101",
   "metadata": {
    "tags": []
   },
   "outputs": [
    {
     "name": "stdin",
     "output_type": "stream",
     "text": [
      "Enter the first input:  10\n",
      "Enter the second input:  20\n",
      "Enter the second input:  30\n"
     ]
    },
    {
     "name": "stdout",
     "output_type": "stream",
     "text": [
      "Third number 30 is greater than other numbers 10 & 20\n"
     ]
    }
   ],
   "source": [
    "num1 = int(input(\"Enter the first input: \"))                # Getting first number\n",
    "num2 = int(input(\"Enter the second input: \"))               # Getting second number\n",
    "num3 = int(input(\"Enter the second input: \"))               # Getting third number\n",
    "if (num1 > num2) and (num1 > num3):                         # checking if number 1 is greater than other numbers\n",
    "    print(f'First number {num1} is greater than other numbers {num2} & {num3}')\n",
    "elif (num2 > num1) and (num2 > num3):\n",
    "    print(f'Second number {num2} is greater than other numbers {num2} & {num3}')\n",
    "else:\n",
    "    print(f'Third number {num3} is greater than other numbers {num1} & {num2}')"
   ]
  },
  {
   "cell_type": "markdown",
   "id": "43e281f5-3387-490b-aa38-13dfbde4ef02",
   "metadata": {},
   "source": [
    "#### Using ternary operator"
   ]
  },
  {
   "cell_type": "code",
   "execution_count": 166,
   "id": "071acc98-a1ae-4d6e-a662-d957b74a132f",
   "metadata": {
    "tags": []
   },
   "outputs": [
    {
     "name": "stdin",
     "output_type": "stream",
     "text": [
      "Enter the first input:  10\n",
      "Enter the second input:  20\n",
      "Enter the second input:  30\n"
     ]
    },
    {
     "name": "stdout",
     "output_type": "stream",
     "text": [
      "Third number 30 is greater than other numbers 10 & 20\n"
     ]
    }
   ],
   "source": [
    "num1 = int(input(\"Enter the first input: \"))                # Getting first number\n",
    "num2 = int(input(\"Enter the second input: \"))               # Getting second number\n",
    "num3 = int(input(\"Enter the second input: \"))               # Getting third number\n",
    "\n",
    "# Ternary Method\n",
    "print(f'Second number {num2} is greater than other numbers {num1} & {num3}' if num1 < num2 and num3 < num2 else (f'First number {num1} is greater than other numbers {num2} & {num3}' if num2 < num1 and num3 < num1 else f'Third number {num3} is greater than other numbers {num1} & {num2}'))\n"
   ]
  },
  {
   "cell_type": "code",
   "execution_count": 168,
   "id": "cef65489-c4a9-454f-93d3-d9d14c71de28",
   "metadata": {
    "tags": []
   },
   "outputs": [
    {
     "name": "stdin",
     "output_type": "stream",
     "text": [
      "Enter the first input:  25\n",
      "Enter the second input:  15\n",
      "Enter the second input:  10\n"
     ]
    },
    {
     "name": "stdout",
     "output_type": "stream",
     "text": [
      "First number 25 is greater than other numbers 15 & 10\n"
     ]
    }
   ],
   "source": [
    "num1 = int(input(\"Enter the first input: \"))                # Getting first number\n",
    "num2 = int(input(\"Enter the second input: \"))               # Getting second number\n",
    "num3 = int(input(\"Enter the second input: \"))               # Getting third number\n",
    "\n",
    "# Ternary Method\n",
    "print(f'Second number {num2} is greater than other numbers {num1} & {num3}' if num1 < num2 and num3 < num2 else (f'First number {num1} is greater than other numbers {num2} & {num3}' if num2 < num1 and num3 < num1 else f'Third number {num3} is greater than other numbers {num1} & {num2}'))\n"
   ]
  },
  {
   "cell_type": "code",
   "execution_count": 170,
   "id": "d36c0d88-5a58-43a2-a4f3-31c818d4a964",
   "metadata": {
    "tags": []
   },
   "outputs": [
    {
     "name": "stdin",
     "output_type": "stream",
     "text": [
      "Enter the first input:  10\n",
      "Enter the second input:  25\n",
      "Enter the second input:  20\n"
     ]
    },
    {
     "name": "stdout",
     "output_type": "stream",
     "text": [
      "Second number 25 is greater than other numbers 10 & 20\n"
     ]
    }
   ],
   "source": [
    "num1 = int(input(\"Enter the first input: \"))                # Getting first number\n",
    "num2 = int(input(\"Enter the second input: \"))               # Getting second number\n",
    "num3 = int(input(\"Enter the second input: \"))               # Getting third number\n",
    "\n",
    "# Ternary Method\n",
    "print(f'Second number {num2} is greater than other numbers {num1} & {num3}' if num1 < num2 and num3 < num2 else (f'First number {num1} is greater than other numbers {num2} & {num3}' if num2 < num1 and num3 < num1 else f'Third number {num3} is greater than other numbers {num1} & {num2}'))\n"
   ]
  },
  {
   "cell_type": "markdown",
   "id": "b78fd13e-d987-475c-90e3-ce93f7d7ba41",
   "metadata": {},
   "source": [
    "Q7. Write a Python program to find the length of the my_str using loop:-"
   ]
  },
  {
   "cell_type": "code",
   "execution_count": 180,
   "id": "b188e738-894c-4c40-903b-e2ea2dfe5e49",
   "metadata": {
    "tags": []
   },
   "outputs": [
    {
     "name": "stdin",
     "output_type": "stream",
     "text": [
      "Enter the string:  Write a Python program to find the length of the my_str\n"
     ]
    },
    {
     "name": "stdout",
     "output_type": "stream",
     "text": [
      "The length of the String you entered is:  55\n"
     ]
    }
   ],
   "source": [
    "str_1 = (input(\"Enter the string: \"))           # Getting string from user\n",
    "count=0\n",
    "for i in str_1:\n",
    "    count+=1\n",
    "print('The length of the String you entered is: ',count)"
   ]
  },
  {
   "cell_type": "markdown",
   "id": "935c55f0-bcbe-478a-8c11-45a62015b79d",
   "metadata": {},
   "source": [
    "Q8. Write a Python program to find the total number of times letter 'p' is appeared in the below string using loop:-\n",
    "Input:- 'peter piper picked a peck of pickled peppers.\\n'"
   ]
  },
  {
   "cell_type": "code",
   "execution_count": 233,
   "id": "7a7c0e3e-9188-4102-87cb-1ec1f69978df",
   "metadata": {
    "tags": []
   },
   "outputs": [
    {
     "name": "stdout",
     "output_type": "stream",
     "text": [
      "Total count of p in the string is:  9\n"
     ]
    }
   ],
   "source": [
    "str_1 = 'peter piper picked a peck of pickled peppers.'    # string defining\n",
    "ind = -1                                                   # setting index to -1\n",
    "count = 0                                                  # setting initial count to 0\n",
    "while True:                                                # running loop till the consition is True\n",
    "    ind = str_1.find('p', ind+1)                           # checking the lowest index of p in sring using find() and then setting increment to the index\n",
    "    if ind == -1:                                          \n",
    "        break                                              # if p is not found in str_1 then loop will break as find gives -1 output by default\n",
    "    else:\n",
    "        count += 1                                         # if p is found then value of count will be incremented\n",
    "print('Total count of p in the string is: ',count)"
   ]
  },
  {
   "cell_type": "markdown",
   "id": "36c3accb-62c3-4c19-b373-3622d0ca5c82",
   "metadata": {},
   "source": [
    "Q9. Write a Python program to find the total number of times letter 'p' is appeared in the below string using loop:-\n",
    "Input:- 'peter piper picked a peck of pickled peppers.\\n'"
   ]
  },
  {
   "cell_type": "code",
   "execution_count": 196,
   "id": "f8346cb1-f2df-4888-a6a3-2da77ff21b53",
   "metadata": {
    "tags": []
   },
   "outputs": [
    {
     "name": "stdout",
     "output_type": "stream",
     "text": [
      "Total count of p in the string is:  9\n"
     ]
    }
   ],
   "source": [
    "str_1 = 'peter piper picked a peck of pickled peppers.'           # string defining\n",
    "count=0                                                           # setting initial count to 0\n",
    "for i in str_1:                                                   # itrerating in str_1 using for loop\n",
    "    if i=='p':                                                    # checking if 'p' is present in current iteration i\n",
    "        count+=1                                                  # if p is found then value of count will be incremented\n",
    "    else:\n",
    "        continue                                                  # if 'p' is not found then continue will send compliler to next iteration\n",
    "print('Total count of p in the string is: ',count)"
   ]
  },
  {
   "cell_type": "markdown",
   "id": "d9d28dd6-eb03-4248-8198-47cdbe905cb7",
   "metadata": {},
   "source": [
    "Q10. Write a Python Program, to print all the indexes of all occurences of letter 'p' appeared in the string using loop:-\n",
    "Input:- 'peter piper picked a peck of pickled peppers.'"
   ]
  },
  {
   "cell_type": "code",
   "execution_count": 258,
   "id": "ac4b62e3-130f-4c51-bbcb-eca9d77f8101",
   "metadata": {
    "tags": []
   },
   "outputs": [
    {
     "name": "stdout",
     "output_type": "stream",
     "text": [
      "The index vale of p is:  0\n",
      "The index vale of p is:  6\n",
      "The index vale of p is:  8\n",
      "The index vale of p is:  12\n",
      "The index vale of p is:  21\n",
      "The index vale of p is:  29\n",
      "The index vale of p is:  37\n",
      "The index vale of p is:  39\n",
      "The index vale of p is:  40\n"
     ]
    }
   ],
   "source": [
    "str_1 = 'peter piper picked a peck of pickled peppers.'         # string defining\n",
    "for i in range(0, len(str_1)):                                  # itrerating in str_1 using for loop\n",
    "    if str_1[i] == 'p':\n",
    "        print('The index vale of p is: ',str_1.find('p',i))     # finding p in str_1 and printing it's index value"
   ]
  },
  {
   "cell_type": "markdown",
   "id": "8a625802-8e17-402f-85c9-8c67f68bb0de",
   "metadata": {},
   "source": [
    "Q11. Write a python program to find below output using loop:-\n",
    "Input:- 'peter piper picked a peck of pickled peppers.'\n",
    "Output:- ['peter', 'piper', 'picked', 'a', 'peck', 'of', 'pickled', 'peppers']"
   ]
  },
  {
   "cell_type": "code",
   "execution_count": 38,
   "id": "74274bc4-bee6-4ae3-a7b4-8cdf46e0613e",
   "metadata": {
    "tags": []
   },
   "outputs": [
    {
     "name": "stdout",
     "output_type": "stream",
     "text": [
      "['peter', 'piper', 'picked', 'a', 'peck', 'of', 'pickled', 'peppers']\n"
     ]
    }
   ],
   "source": [
    "str_1 = 'peter piper picked a peck of pickled peppers.'         # string defining\n",
    "str_req=\"\"                                                      # creating empty string\n",
    "for i in range(0, len(str_1)):                                  # itrerating in str_1 using for loop\n",
    "    str_req = (str_1.rstrip('.').split(' ',i))                  # spliting str_1 via space and storing it\n",
    "print(str_req)    "
   ]
  },
  {
   "cell_type": "markdown",
   "id": "bcc91390-6669-43a8-93e9-8e2a0f0d8208",
   "metadata": {},
   "source": [
    "Q12. Write a python program to find below output using loop:-\n",
    "Input:- 'peter piper picked a peck of pickled peppers.'\n",
    "Output:- 'peppers pickled of peck a picked piper peter'"
   ]
  },
  {
   "cell_type": "code",
   "execution_count": 32,
   "id": "3bd9999f-fc8c-4985-80ee-7198adb917fa",
   "metadata": {
    "tags": []
   },
   "outputs": [
    {
     "name": "stdout",
     "output_type": "stream",
     "text": [
      "The required Output is: peppers pickled of peck a picked piper peter\n"
     ]
    }
   ],
   "source": [
    "str_1 = 'peter piper picked a peck of pickled peppers.'         # string defining\n",
    "str_2=\"\"                                                        # creating empty string\n",
    "for i in range(0, len(str_1)):                                  # itrerating in str_1 using for loop\n",
    "    if str_1[i] == ' ':\n",
    "       str_2 = (str_1.rstrip('.').split(' ',i))                 # spliting str_1 via space and storing it\n",
    "print('The required Output is:',' '.join(str_2[::-1]))          # joining back into string from backside"
   ]
  },
  {
   "cell_type": "markdown",
   "id": "06c052f3-3ee2-4627-9185-09aa77037b9f",
   "metadata": {},
   "source": [
    "Q13. Write a python program to find below output using loop:-\n",
    "Input:- 'peter piper picked a peck of pickled peppers.'\n",
    "Output:- '.sreppep delkcip fo kcep a dekcip repip retep'"
   ]
  },
  {
   "cell_type": "code",
   "execution_count": 288,
   "id": "b2e377dd-426e-44df-8368-b6a1a616f2ab",
   "metadata": {
    "tags": []
   },
   "outputs": [
    {
     "name": "stdout",
     "output_type": "stream",
     "text": [
      "The required Output is:  .sreppep delkcip fo kcep a dekcip repip retep\n"
     ]
    }
   ],
   "source": [
    "str_1 = 'peter piper picked a peck of pickled peppers.'         # string defining\n",
    "i = len(str_1)                                                  # storing string lenth in i\n",
    "str_2=\"\"                                                        # creating empty string\n",
    "while i>0:                                                      # itrerating till i>0 using while loop\n",
    "    str_2 += str_1[i-1]                                         # storing str_1 in reverse order in str_2\n",
    "    i-=1\n",
    "print('The required Output is: ',str_2)         "
   ]
  },
  {
   "cell_type": "markdown",
   "id": "95dab8c5-b872-4cc5-915a-170d388f1810",
   "metadata": {},
   "source": [
    "Q14. Write a python program to find below output using loop:-\n",
    "Input:- 'peter piper picked a peck of pickled peppers.'\n",
    "Output:- 'retep repip dekcip a kcep fo delkcip sreppep'"
   ]
  },
  {
   "cell_type": "code",
   "execution_count": 34,
   "id": "db38fbb9-a1b7-4d39-b468-e7e1ed30c88d",
   "metadata": {
    "tags": []
   },
   "outputs": [
    {
     "name": "stdout",
     "output_type": "stream",
     "text": [
      "retep repip dekcip a kcep fo delkcip sreppep\n"
     ]
    }
   ],
   "source": [
    "str_1 = 'peter piper picked a peck of pickled peppers.'         # string defining\n",
    "print(' '.join([i[::-1] for i in str_1.rstrip('.').split()]))"
   ]
  },
  {
   "cell_type": "markdown",
   "id": "23548d5b-1da2-40b1-87ec-abe18392d5fa",
   "metadata": {},
   "source": [
    "Q15. Write a python program to find below output using loop:-\n",
    "Input:- 'peter piper picked a peck of pickled peppers.'\n",
    "Output:- 'Peter Piper Picked A Peck Of Pickled Peppers'"
   ]
  },
  {
   "cell_type": "code",
   "execution_count": 36,
   "id": "540a3150-c316-40db-bb69-2445b44604c5",
   "metadata": {
    "tags": []
   },
   "outputs": [
    {
     "name": "stdout",
     "output_type": "stream",
     "text": [
      "Peter Piper Picked A Peck Of Pickled Peppers\n"
     ]
    }
   ],
   "source": [
    "str_1 = 'peter piper picked a peck of pickled peppers.'         # string defining\n",
    "str_req=\"\"                                                      # creating empty string\n",
    "for i in range(0, len(str_1)):                                  # itrerating in str_1 using for loop\n",
    "    str_req = (str_1.rstrip('.').split(' ',i))                  # spliting str_1 via space and storing it\n",
    "    str_req=' '.join(str_req[::]).title()\n",
    "print(str_req)"
   ]
  },
  {
   "cell_type": "markdown",
   "id": "84d6a25c-d633-46a7-b3d1-71fd4f7478c0",
   "metadata": {},
   "source": [
    "Q16. Write a python program to find below output using loop:-\n",
    "Input:- 'Peter Piper Picked A Peck Of Pickled Peppers.'\n",
    "Output:- 'Peter piper picked a peck of pickled peppers'"
   ]
  },
  {
   "cell_type": "code",
   "execution_count": 57,
   "id": "ee59ee38-e6d1-4120-baa5-821ee65345cd",
   "metadata": {
    "tags": []
   },
   "outputs": [
    {
     "name": "stdout",
     "output_type": "stream",
     "text": [
      "Peter piper picked a peck of pickled peppers\n"
     ]
    }
   ],
   "source": [
    "str_1 = 'peter piper picked a peck of pickled peppers.'         # string defining\n",
    "str_req=\"\"                                                      # creating empty string\n",
    "for i in range(0, len(str_1)):                                  # itrerating in str_1 using for loop\n",
    "    str_req = (str_1.rstrip('.').split(' ',i))                  # spliting str_1 via space and storing it\n",
    "    str_req=' '.join(str_req[::]).capitalize()\n",
    "print(str_req)"
   ]
  },
  {
   "cell_type": "markdown",
   "id": "8f6e3a62-12cb-4f96-bccf-04745b505693",
   "metadata": {},
   "source": [
    "Q17. Write a python program to implement index method using loop. If\n",
    "sub_str is found in my_str then it will print the index\n",
    "of first occurrence of first character of matching string in my_str:-\n",
    "Input:- my_str = 'Peter Piper Picked A Peck Of Pickled Peppers.',\n",
    "sub_str = 'Pickl'\n",
    "Output:- 29"
   ]
  },
  {
   "cell_type": "code",
   "execution_count": 71,
   "id": "70359157-0d26-458c-81cf-7237e8f2c44b",
   "metadata": {
    "tags": []
   },
   "outputs": [
    {
     "name": "stdout",
     "output_type": "stream",
     "text": [
      "The Index value of 'pickl' in the string is:  29\n"
     ]
    }
   ],
   "source": [
    "str_1 = 'peter piper picked a peck of pickled peppers.'   # string defining\n",
    "ind = -1                                                  # setting index to -1\n",
    "while True:                                               # running loop till the consition is True\n",
    "    ind = str_1.index('pickl', ind+1)                     # find the phrase using index()\n",
    "    index=ind\n",
    "    break                                                 # if p is not found in str_1 then loop will break\n",
    "print(\"The Index value of 'pickl' in the string is: \",index)"
   ]
  },
  {
   "cell_type": "markdown",
   "id": "8ae37804-0ea6-477d-998f-aef669d18e11",
   "metadata": {},
   "source": [
    "Q18. Write a python program to implement replace method using loop. If sub_str is found in my_str then it will replace the first\n",
    "occurrence of sub_str with new_str else it will will print sub_str not found:-\n",
    "Input:- my_str = 'Peter Piper Picked A Peck Of Pickled Peppers.', sub_str = 'Peck', new_str = 'Pack'\n",
    "Output:- 'Peter Piper Picked A Pack Of Pickled Peppers.'"
   ]
  },
  {
   "cell_type": "code",
   "execution_count": 88,
   "id": "ada0d306-8d17-449d-86aa-f0f92f507f8f",
   "metadata": {
    "tags": []
   },
   "outputs": [
    {
     "name": "stdout",
     "output_type": "stream",
     "text": [
      "The required String is:  Peter Piper Picked A Pack Of Pickled Peppers.\n"
     ]
    }
   ],
   "source": [
    "my_str = 'Peter Piper Picked A Peck Of Pickled Peppers.'              # string defining\n",
    "sub_str = 'Peck'                                                      # Substring to be found\n",
    "new_str = 'Pack'                                                      # New Substring to be changed into\n",
    "\n",
    "for i in range(len(my_str)):                                          # Iterating in length of string\n",
    "    if my_str[i:i+len(sub_str)] == sub_str:                           # checking if the substring of my_str starting at index i and having the same length as sub_str matches sub_str\n",
    "        ind = i                                                       # storing index value\n",
    "        output_str = my_str[:ind] + new_str + my_str[ind+len(sub_str):]  # replacing sub_str with new_str1 and concatinating back to my_str\n",
    "        print('The required String is: ',output_str)\n",
    "        break\n",
    "else:\n",
    "    print('String not found!')                                        # If sub string not foudn then displaying messsage"
   ]
  },
  {
   "cell_type": "markdown",
   "id": "c1e2a088-bbb7-4e0b-b076-8a36cfae1c29",
   "metadata": {},
   "source": [
    "Q19. Write a python program to find below output (implements rjust and ljust) using loop:-\n",
    "Input:- 'Peter Piper Picked A Peck Of Pickled Peppers.', sub_str = 'Peck',\n",
    "Output:- '*********************Peck********************'"
   ]
  },
  {
   "cell_type": "code",
   "execution_count": 104,
   "id": "ec3192ee-6737-485f-960c-b5eb4a1f6d36",
   "metadata": {
    "tags": []
   },
   "outputs": [
    {
     "name": "stdout",
     "output_type": "stream",
     "text": [
      "*********************Peck*********************\n"
     ]
    }
   ],
   "source": [
    "my_str='Peter Piper Picked A Peck Of Pickled Peppers.'      # string defining\n",
    "sub_str='Peck'                                              # Substring to be found\n",
    "output_str=''                                               # creating empty string\n",
    "i=0\n",
    "while i in range(0,len(my_str)):                            # Iterating in length of string\n",
    "    if my_str[i:(i+len(sub_str)):1]==sub_str:               # checking if the substring of my_str starting at index i and having the same length as sub_str matches sub_str\n",
    "        output_str+=sub_str\n",
    "        i = i+(len(sub_str)-1)\n",
    "    else:\n",
    "        output_str+='*'                                     # adding * in places of other characters apart from Peck\n",
    "        i=i+1\n",
    "print(output_str)"
   ]
  },
  {
   "cell_type": "markdown",
   "id": "9de1db76-916c-4697-a163-843ac69a9d2e",
   "metadata": {},
   "source": [
    "Q20. Write a python program to find below output using loop:-\n",
    "Input:- 'This is Python class', sep = ' is', Output:- ['This', 'is', 'Python class']"
   ]
  },
  {
   "cell_type": "code",
   "execution_count": 116,
   "id": "fab5e6c1-6538-40b4-915a-fedff4f1089b",
   "metadata": {
    "tags": []
   },
   "outputs": [
    {
     "name": "stdout",
     "output_type": "stream",
     "text": [
      "Required Output is:  ['This', 'is', 'Python Class']\n"
     ]
    }
   ],
   "source": [
    "my_str = 'This is Python Class'                  # string defining\n",
    "sep = 'is'                                       # Defining sep as substring to be used \n",
    "my_lst = []                                      # creating empty list  \n",
    "word = ''                                        # creating empty string  \n",
    "for i in my_str:                                 # iterating for required character in string length\n",
    "    if i != ' ':\n",
    "        word += i                                # if ' ' space not found then increment the iteration\n",
    "    else:\n",
    "        if sep not in my_lst:                    # checking if substring sep is is already present in my_lst\n",
    "            my_lst.append(word)                  # If sep is not present then append in empty string word\n",
    "            word = ''\n",
    "        else:\n",
    "            word += ' '\n",
    "my_lst.append(word.strip())                      # appends the last word after loop is completed\n",
    "print('Required Output is: ',my_lst)"
   ]
  },
  {
   "cell_type": "code",
   "execution_count": null,
   "id": "3f07301b-0044-4be7-8a71-6a57cfdb2019",
   "metadata": {},
   "outputs": [],
   "source": []
  }
 ],
 "metadata": {
  "kernelspec": {
   "display_name": "Python 3 (ipykernel)",
   "language": "python",
   "name": "python3"
  },
  "language_info": {
   "codemirror_mode": {
    "name": "ipython",
    "version": 3
   },
   "file_extension": ".py",
   "mimetype": "text/x-python",
   "name": "python",
   "nbconvert_exporter": "python",
   "pygments_lexer": "ipython3",
   "version": "3.11.5"
  }
 },
 "nbformat": 4,
 "nbformat_minor": 5
}
