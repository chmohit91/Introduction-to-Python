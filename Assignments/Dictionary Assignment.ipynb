{
 "cells": [
  {
   "cell_type": "markdown",
   "id": "22f83bec-a372-414d-bf01-cc257a898094",
   "metadata": {},
   "source": [
    "LB_DSC_19thApril_WKDY_MR_2024\n",
    "\n",
    "Mohit Chaudhary 7011883015"
   ]
  },
  {
   "cell_type": "markdown",
   "id": "653e1413-302c-4f8f-85ba-8b7e675d95fc",
   "metadata": {},
   "source": [
    "Q1. Initialize a dictionary \"emp_info\" with below details\n",
    " In - emp_info['Tom']\n",
    " Out - {'email':'tom_latham019@gmail.com', 'Phone': +1987654321, 'City': 'California'}\n",
    "\n",
    " In - emp_info['Kathy']\n",
    " Out - {'email':'kathy_abram897@gmail.com', 'Phone': +1887654321, 'City': 'New York'}\n",
    "\n"
   ]
  },
  {
   "cell_type": "code",
   "execution_count": 12,
   "id": "9a88bb66-b166-47c6-85ef-23fbb876881d",
   "metadata": {
    "tags": []
   },
   "outputs": [
    {
     "name": "stdout",
     "output_type": "stream",
     "text": [
      "{'email': 'tom_latham019@gmail.com', 'Phone': 1987654321, 'City': 'California'}\n",
      "{'email': 'kathy_abram897@gmail.com', 'Phone': 1887654321, 'City': 'New York'}\n"
     ]
    }
   ],
   "source": [
    "emp_info = { 'Tom': {'email':'tom_latham019@gmail.com', 'Phone': +1987654321, 'City': 'California'},       # intializing dictionary\n",
    "            'Kathy': {'email':'kathy_abram897@gmail.com', 'Phone': +1887654321, 'City': 'New York'}\n",
    "           }\n",
    "\n",
    "print(emp_info['Tom'])\n",
    "print(emp_info['Kathy'])"
   ]
  },
  {
   "cell_type": "markdown",
   "id": "fc6f4d93-4b91-48e1-911c-f3329481bcb4",
   "metadata": {},
   "source": [
    "Q2. Create a dictionary out of below inputs\n",
    "lst1 = ['emp1', 'emp2', 'emp3']\n",
    "emp_key = ['e_name', 'e_id', 'e_sal']\n",
    "emp1_val = ['John', 'SG101', '$10,000']\n",
    "emp2_val = ['Smith', 'SG102', '$9,000']\n",
    "emp3_val = ['Peter', 'SG103', '$9,500']\n",
    "\n",
    "Expected Output:- {'emp1':{'e_name':'John', 'e_id':'SG101', 'e_sal':$10,000}, \n",
    "                    'emp2':{'e_name':'Smith', 'e_id':'SG102', 'e_sal':$9,000}, \n",
    "                    'emp3':{'e_name':'Peter', 'e_id':'SG103', 'e_sal':$9,500}}"
   ]
  },
  {
   "cell_type": "code",
   "execution_count": 28,
   "id": "c1fc9d50-3376-4ae1-9064-105c28020114",
   "metadata": {
    "tags": []
   },
   "outputs": [
    {
     "name": "stdout",
     "output_type": "stream",
     "text": [
      "The required Output is:  \n",
      " {'emp1': {'e_name': 'John', 'e_id': 'SG101', 'e_sal': '$10,000'}, 'emp2': {'e_name': 'Smith', 'e_id': 'SG102', 'e_sal': '$9,000'}, 'emp3': {'e_name': 'Peter', 'e_id': 'SG103', 'e_sal': '$9,500'}}\n"
     ]
    }
   ],
   "source": [
    "lst1 = ['emp1', 'emp2', 'emp3']\n",
    "emp_key = ['e_name', 'e_id', 'e_sal']\n",
    "emp1_val = ['John', 'SG101', '$10,000']\n",
    "emp2_val = ['Smith', 'SG102', '$9,000']\n",
    "emp3_val = ['Peter', 'SG103', '$9,500']\n",
    "new_dic  = dict(zip(emp_key, emp1_val)), dict(zip(emp_key, emp2_val)), dict(zip(emp_key, emp3_val))                # zipping list emp_key with emp_value lists to convert to dictionary\n",
    "print('The required Output is: ','\\n', dict(zip(lst1, new_dic)))                                                                                           # zipping into dictionary "
   ]
  },
  {
   "cell_type": "markdown",
   "id": "7f6414b3-b3b2-42d6-94ef-7207a78bc212",
   "metadata": {},
   "source": [
    "Q3. # Acess the value of key 'history'\n",
    "\n",
    "sampleDict = { \n",
    "   \"class\":{ \n",
    "      \"student\":{ \n",
    "         \"name\":\"Mike\",\n",
    "         \"marks\":{ \n",
    "            \"physics\":70,\n",
    "            \"history\":80\n",
    "         }\n",
    "      }\n",
    "   }\n",
    "}"
   ]
  },
  {
   "cell_type": "code",
   "execution_count": 33,
   "id": "b9fc608b-cb79-4d10-8e96-a822bdd13e49",
   "metadata": {
    "tags": []
   },
   "outputs": [
    {
     "name": "stdout",
     "output_type": "stream",
     "text": [
      "The key value of history is: 80\n"
     ]
    }
   ],
   "source": [
    "sampleDict = { \n",
    "   \"class\":{ \n",
    "      \"student\":{ \n",
    "         \"name\":\"Mike\",\n",
    "         \"marks\":{ \n",
    "            \"physics\":70,\n",
    "            \"history\":80\n",
    "         }\n",
    "      }\n",
    "   }\n",
    "}\n",
    "\n",
    "print('The key value of history is:',sampleDict[\"class\"][\"student\"][\"marks\"][\"history\"])"
   ]
  },
  {
   "cell_type": "markdown",
   "id": "e6979bf4-ac87-488b-81fe-282cb7751d59",
   "metadata": {},
   "source": [
    "Q4. # Initialize dictionary with default values. Inputs are:-\n",
    " employees = ['Kelly', 'Emma', 'John']\n",
    " defaults = {\"designation\": 'Application Developer', \"salary\": 8000}\n",
    "\n",
    "#Expected output:- {'Kelly': {'designation': 'Application Developer', 'salary': 8000}, \n",
    "                   'Emma': {'designation': 'Application Developer', 'salary': 8000}, \n",
    "                   'John': {'designation': 'Application Developer', 'salary': 8000}}\n",
    "\n",
    "\n"
   ]
  },
  {
   "cell_type": "code",
   "execution_count": 39,
   "id": "b153471c-90de-4a75-ad61-1cdeefc765c1",
   "metadata": {
    "tags": []
   },
   "outputs": [
    {
     "name": "stdout",
     "output_type": "stream",
     "text": [
      "The required output is: \n",
      " {'Kelly': {'designation': 'Application Developer', 'salary': 8000}, 'Emma': {'designation': 'Application Developer', 'salary': 8000}, 'John': {'designation': 'Application Developer', 'salary': 8000}}\n"
     ]
    }
   ],
   "source": [
    "employees = ['Kelly', 'Emma', 'John']\n",
    "defaults = {\"designation\": 'Application Developer', \"salary\": 8000}\n",
    "\n",
    "employee_dict = {employee: defaults for employee in employees}            # looping in employees and storing as dictionary\n",
    "\n",
    "print('The required output is:','\\n',employee_dict)"
   ]
  },
  {
   "cell_type": "markdown",
   "id": "528e41fe-200e-44f3-9daa-2a0ecc6d508a",
   "metadata": {},
   "source": [
    "Q5. # In gene expression, mRNA is transcribed from a DNA template. \n",
    " The 4 nucleotide bases of A, T, C, G corresponds to the U, A, G, C bases of the mRNA. \n",
    " Write a function that returns the mRNA transcript given the sequence of a DNA strand.\n",
    "\n",
    " Use a dictionary to provide the mapping of DNA to RNA bases."
   ]
  },
  {
   "cell_type": "code",
   "execution_count": 50,
   "id": "238ca6b1-30b6-4141-b16e-27b265844a03",
   "metadata": {
    "tags": []
   },
   "outputs": [
    {
     "name": "stdin",
     "output_type": "stream",
     "text": [
      "Enter the DNA sequence: ATCG\n"
     ]
    },
    {
     "name": "stdout",
     "output_type": "stream",
     "text": [
      "The Corresponding MRNA sequence is: UAGC\n"
     ]
    }
   ],
   "source": [
    "def dna_to_mrna(dna_sequence):           # Mapping dictionary from DNA bases to RNA bases\n",
    "    dict_1 = {'A':'U',\n",
    "              'T':'A',\n",
    "              'C':'G',\n",
    "              'G':'C'}\n",
    "    mrna_sequence = ''.join([dict_1[i] for i in dna_sequence])      # Converting the DNA sequence to the corresponding mRNA sequence\n",
    "    return mrna_sequence\n",
    "\n",
    "\n",
    "dna_sequence = input('Enter the DNA sequence:')\n",
    "mrna_sequence = dna_to_mrna(dna_sequence)\n",
    "print('The Corresponding MRNA sequence is:',mrna_sequence) \n"
   ]
  },
  {
   "cell_type": "markdown",
   "id": "a6aa4fcb-bd0e-4532-9331-998e0f927e9e",
   "metadata": {},
   "source": [
    "Q6. # Write a function which takes a word as input and returns a dictionary with letters as key and no of time letters are repeated as value.\n",
    "In - count_letter('google.com')\n",
    "Out - {'g': 2, 'o': 3, 'l': 1, 'e': 1, '.': 1, 'c': 1, 'm': 1}"
   ]
  },
  {
   "cell_type": "code",
   "execution_count": 56,
   "id": "c7ce55ba-d262-4811-be9d-36bb10c6caca",
   "metadata": {
    "tags": []
   },
   "outputs": [
    {
     "name": "stdin",
     "output_type": "stream",
     "text": [
      "Enter a String: www.google.com\n"
     ]
    },
    {
     "name": "stdout",
     "output_type": "stream",
     "text": [
      "The count of each Alphabet in the entered string is: \n",
      " {'w': 3, '.': 2, 'g': 2, 'o': 3, 'l': 1, 'e': 1, 'c': 1, 'm': 1}\n"
     ]
    }
   ],
   "source": [
    "def count_letter(word):\n",
    "    count = {}                           # Initialize an empty dictionary to hold the letter counts    \n",
    "    for char in word:                    # Iterate over each character in the string       \n",
    "        if char in count:             \n",
    "            count[char] += 1             # If the character is already in the dictionary, increment its count\n",
    "        else:\n",
    "            count[char] = 1              # If the character is not in the dictionary, add it with a count of 1           \n",
    "    return count\n",
    "\n",
    "word = input('Enter a String:')\n",
    "result = count_letter(word)              # calling the declared funtion to perform count of Alphabets\n",
    "print('The count of each Alphabet in the entered string is:','\\n',result)"
   ]
  },
  {
   "cell_type": "markdown",
   "id": "cc2459a1-356f-4bff-ab53-5c30866d7ef1",
   "metadata": {},
   "source": [
    "Q7. # A DNA strand consisting of the 4 nucleotide bases is usually represented with a string of letters: A,T, C, G. \n",
    " Write a function that computes the base composition of a given DNA sequence.\n",
    "\n",
    " In - baseComposition(\"CTATCGGCACCCTTTCAGCA\")\n",
    " Out - {'A': 4, 'C': 8, 'T': 5,  'G': 3 }\n",
    "    \n",
    " In - baseComposition(\"AGT\")\n",
    " Out - {'A': 1, 'C': 0, 'T': 1,  'G': 1 }"
   ]
  },
  {
   "cell_type": "code",
   "execution_count": 64,
   "id": "80890864-1279-47b9-b5d5-99119f0cb836",
   "metadata": {
    "tags": []
   },
   "outputs": [
    {
     "name": "stdout",
     "output_type": "stream",
     "text": [
      "The computed base composition of a given DNA sequence CTATCGGCACCCTTTCAGCA is: {'A': 4, 'T': 5, 'C': 8, 'G': 3}\n",
      "The computed base composition of a given DNA sequence AGT is: {'A': 1, 'T': 1, 'C': 0, 'G': 1}\n"
     ]
    }
   ],
   "source": [
    "def baseComposition(dna_sequence):   \n",
    "    base_count = {'A': 0, 'T': 0, 'C': 0, 'G': 0}        # Initialize the dictionary with all nucleotide bases set to 0\n",
    "        \n",
    "    for i in dna_sequence:                               # Iterate over each character in the DNA sequence       \n",
    "        if i in base_count:                              \n",
    "            base_count[i] += 1                           # Increment the count for the corresponding base           \n",
    "    return base_count\n",
    "\n",
    "dna_sequence1 = \"CTATCGGCACCCTTTCAGCA\"\n",
    "result1 = baseComposition(dna_sequence1)                 # calling the declared funtion to compute base composition\n",
    "print(f'The computed base composition of a given DNA sequence {dna_sequence1} is:',result1)  \n",
    "\n",
    "dna_sequence2 = \"AGT\"\n",
    "result2 = baseComposition(dna_sequence2)\n",
    "print(f'The computed base composition of a given DNA sequence {dna_sequence2} is:',result2)  \n"
   ]
  },
  {
   "cell_type": "markdown",
   "id": "ea0e97d7-8fda-4ae3-a519-ed6101f35a66",
   "metadata": {},
   "source": [
    "Q8.  [MCQ] Suppose \"d\" is an empty dictionary, which statement does not assign \"d\" with {\"Name\":\"Tom\"}? \n",
    " 1. d = {\"Name\": \"Tom\" }\n",
    " 2. d[\"Name\"] = \"Tom\"\n",
    " 3. d.update({\"Name\": \"Tom\" })\n",
    " 4. d.setdefault(\"Name\", \"Tom\")\n",
    " 5. None of the above."
   ]
  },
  {
   "cell_type": "code",
   "execution_count": 2,
   "id": "41c8b7ff-353a-4e3e-b95f-0574020b1a53",
   "metadata": {},
   "outputs": [
    {
     "data": {
      "text/plain": [
       "{'Name': 'Tom'}"
      ]
     },
     "execution_count": 2,
     "metadata": {},
     "output_type": "execute_result"
    }
   ],
   "source": [
    "# checking 1\n",
    "d={}                                              # empty dictionary initialized\n",
    "d = {\"Name\": \"Tom\" }\n",
    "d"
   ]
  },
  {
   "cell_type": "code",
   "execution_count": 3,
   "id": "da0d4a8a-8c47-486a-af4e-88c5d1a6bfee",
   "metadata": {},
   "outputs": [
    {
     "data": {
      "text/plain": [
       "{'Name': 'Tom'}"
      ]
     },
     "execution_count": 3,
     "metadata": {},
     "output_type": "execute_result"
    }
   ],
   "source": [
    "# checking 2\n",
    "d={}                                              # empty dictionary initialized\n",
    "d[\"Name\"] = \"Tom\"\n",
    "d"
   ]
  },
  {
   "cell_type": "code",
   "execution_count": 4,
   "id": "60798b3b-4f3c-4ae6-9b44-6468308b682d",
   "metadata": {},
   "outputs": [
    {
     "data": {
      "text/plain": [
       "{'Name': 'Tom'}"
      ]
     },
     "execution_count": 4,
     "metadata": {},
     "output_type": "execute_result"
    }
   ],
   "source": [
    "# checking 3\n",
    "d={}                                              # empty dictionary initialized\n",
    "d.update({\"Name\": \"Tom\" })\n",
    "d"
   ]
  },
  {
   "cell_type": "code",
   "execution_count": 5,
   "id": "4ecd79b9-f843-4d22-9186-8171a93fe054",
   "metadata": {},
   "outputs": [
    {
     "data": {
      "text/plain": [
       "{'Name': 'Tom'}"
      ]
     },
     "execution_count": 5,
     "metadata": {},
     "output_type": "execute_result"
    }
   ],
   "source": [
    "# checking 4\n",
    "d={}                                              # empty dictionary initialized\n",
    "d.setdefault(\"Name\", \"Tom\")\n",
    "d"
   ]
  },
  {
   "cell_type": "markdown",
   "id": "08dd5cbc-6586-4ec4-92c0-de3a4991aedc",
   "metadata": {},
   "source": [
    "A we can see that all scenarios are assigning \"d\" with {\"Name\":\"Tom\"},\n",
    "So the right option is 5. None of the above"
   ]
  },
  {
   "cell_type": "markdown",
   "id": "5b006e4b-c492-4796-bff4-cb0de78d9a0f",
   "metadata": {},
   "source": [
    "Q9 [MCQ] d = {\"a\":1, \"b\":2}. Which of the statements returns [1,2]? \n",
    " 1. d.keys()\n",
    " 2. d.values()\n",
    " 3. d.items()\n",
    " 4. d.popitem()\n",
    " 5. None of the above."
   ]
  },
  {
   "cell_type": "code",
   "execution_count": 6,
   "id": "219d5627-aaab-47e7-8bae-9f2d67750def",
   "metadata": {},
   "outputs": [
    {
     "data": {
      "text/plain": [
       "dict_keys(['a', 'b'])"
      ]
     },
     "execution_count": 6,
     "metadata": {},
     "output_type": "execute_result"
    }
   ],
   "source": [
    "# checking 1\n",
    "d = {\"a\":1, \"b\":2}\n",
    "d.keys()"
   ]
  },
  {
   "cell_type": "code",
   "execution_count": 4,
   "id": "782220d4-fc18-4245-80dd-3ace8d3f086b",
   "metadata": {},
   "outputs": [
    {
     "data": {
      "text/plain": [
       "dict_values([1, 2])"
      ]
     },
     "execution_count": 4,
     "metadata": {},
     "output_type": "execute_result"
    }
   ],
   "source": [
    "# checking 2\n",
    "d = {\"a\":1, \"b\":2}\n",
    "d.values()"
   ]
  },
  {
   "cell_type": "code",
   "execution_count": 5,
   "id": "18be5a36-0133-49af-8b25-eb28ba141c3d",
   "metadata": {},
   "outputs": [
    {
     "data": {
      "text/plain": [
       "[1, 2]"
      ]
     },
     "execution_count": 5,
     "metadata": {},
     "output_type": "execute_result"
    }
   ],
   "source": [
    "# d.values() returns dict_values([1, 2]), Converting this to a list would give\n",
    "list(d.values())"
   ]
  },
  {
   "cell_type": "code",
   "execution_count": 8,
   "id": "2277443b-cbb5-4ef4-a7a9-f8714d519361",
   "metadata": {},
   "outputs": [
    {
     "data": {
      "text/plain": [
       "dict_items([('a', 1), ('b', 2)])"
      ]
     },
     "execution_count": 8,
     "metadata": {},
     "output_type": "execute_result"
    }
   ],
   "source": [
    "# checking 3\n",
    "d = {\"a\":1, \"b\":2}\n",
    "d.items()"
   ]
  },
  {
   "cell_type": "code",
   "execution_count": 9,
   "id": "7e994936-b3a1-4e77-948f-41d2bafd3bee",
   "metadata": {},
   "outputs": [
    {
     "data": {
      "text/plain": [
       "('b', 2)"
      ]
     },
     "execution_count": 9,
     "metadata": {},
     "output_type": "execute_result"
    }
   ],
   "source": [
    "# checking 4\n",
    "d = {\"a\":1, \"b\":2}\n",
    "d.popitem()"
   ]
  },
  {
   "cell_type": "markdown",
   "id": "0705ae88-e5eb-4efb-a834-6131a061822c",
   "metadata": {},
   "source": [
    "The code d.values() returns dict_values([1, 2]), Converting this to a list give [1,2], so the correct option is 2"
   ]
  },
  {
   "cell_type": "markdown",
   "id": "41958e9a-0151-474d-b04c-b5840eb80a30",
   "metadata": {},
   "source": [
    "Q10.  [MCQ] Which of the following declarations is not valid for 'dict' type?\r",
    " 1. d = {\"Name\": \"Tom\" \n",
    "2. . d = { (1,3,4): 4.5\n",
    "3. 3. d = { [\"First\", \"Last\"]: (1,3\n",
    "4. d = { 1: 0.4 }\n",
    "5.# 5. None of the above"
   ]
  },
  {
   "cell_type": "code",
   "execution_count": 6,
   "id": "92fce9bd-7c4c-4374-bc5c-9f010492f884",
   "metadata": {},
   "outputs": [
    {
     "data": {
      "text/plain": [
       "{'Name': 'Tom'}"
      ]
     },
     "execution_count": 6,
     "metadata": {},
     "output_type": "execute_result"
    }
   ],
   "source": [
    "# checking 1\n",
    "d={}                                              # empty dictionary initialized\n",
    "d = {\"Name\": \"Tom\" }\n",
    "d"
   ]
  },
  {
   "cell_type": "code",
   "execution_count": 7,
   "id": "8b2736bc-3935-41b4-bcf6-0eace594d915",
   "metadata": {},
   "outputs": [
    {
     "data": {
      "text/plain": [
       "{(1, 3, 4): 4.5}"
      ]
     },
     "execution_count": 7,
     "metadata": {},
     "output_type": "execute_result"
    }
   ],
   "source": [
    "# checking 2\n",
    "d={}                                              # empty dictionary initialized\n",
    "d = { (1,3,4): 4.5 }\n",
    "d"
   ]
  },
  {
   "cell_type": "code",
   "execution_count": 8,
   "id": "ef1ec657-da27-473d-9ae4-2fcec7c01019",
   "metadata": {},
   "outputs": [
    {
     "ename": "TypeError",
     "evalue": "unhashable type: 'list'",
     "output_type": "error",
     "traceback": [
      "\u001b[1;31m---------------------------------------------------------------------------\u001b[0m",
      "\u001b[1;31mTypeError\u001b[0m                                 Traceback (most recent call last)",
      "Cell \u001b[1;32mIn[8], line 3\u001b[0m\n\u001b[0;32m      1\u001b[0m \u001b[38;5;66;03m# checking 3\u001b[39;00m\n\u001b[0;32m      2\u001b[0m d\u001b[38;5;241m=\u001b[39m{}                                              \u001b[38;5;66;03m# empty dictionary initialized\u001b[39;00m\n\u001b[1;32m----> 3\u001b[0m d \u001b[38;5;241m=\u001b[39m { [\u001b[38;5;124m\"\u001b[39m\u001b[38;5;124mFirst\u001b[39m\u001b[38;5;124m\"\u001b[39m, \u001b[38;5;124m\"\u001b[39m\u001b[38;5;124mLast\u001b[39m\u001b[38;5;124m\"\u001b[39m]: (\u001b[38;5;241m1\u001b[39m,\u001b[38;5;241m3\u001b[39m) }\n\u001b[0;32m      4\u001b[0m d\n",
      "\u001b[1;31mTypeError\u001b[0m: unhashable type: 'list'"
     ]
    }
   ],
   "source": [
    "# checking 3\n",
    "d={}                                              # empty dictionary initialized\n",
    "d = { [\"First\", \"Last\"]: (1,3) }\n",
    "d"
   ]
  },
  {
   "cell_type": "code",
   "execution_count": 9,
   "id": "47dbe179-454a-491d-86fa-646d8c91b4ea",
   "metadata": {},
   "outputs": [
    {
     "data": {
      "text/plain": [
       "{1: 0.4}"
      ]
     },
     "execution_count": 9,
     "metadata": {},
     "output_type": "execute_result"
    }
   ],
   "source": [
    "# checking 4\n",
    "d={}                                              # empty dictionary initialized\n",
    "d = { 1: 0.4 }\n",
    "d"
   ]
  },
  {
   "cell_type": "markdown",
   "id": "52cb973b-d461-4267-8cfd-b415ea67838c",
   "metadata": {},
   "source": [
    "In option no 3, the declarations is not valid for 'dict' type because dictionary keys must be of an immutable type"
   ]
  },
  {
   "cell_type": "markdown",
   "id": "fbdbd1d7-f626-4319-8cd4-4354974e9a1b",
   "metadata": {},
   "source": [
    "Q 11. Write a function reverseLookup(dictionary, value) that takes in a dictionary and a value as arguments and returns a sorted list of all keys that contains the value. The function will return an empty list if no match is found.\n",
    "In - reverseLookup({'a':1, 'b':2, 'c':2}, 1)  Out - ['a']\n",
    "In - reverseLookup({'a':1, 'b':2, 'c':2}, 2)  Out - ['b', 'c']\n",
    "In - reverseLookup({'a':1, 'b':2, 'c':2}, 3)  Out - []"
   ]
  },
  {
   "cell_type": "code",
   "execution_count": 11,
   "id": "3fc6270a-adfd-4a16-bb92-9ea9d8fb51c9",
   "metadata": {},
   "outputs": [
    {
     "name": "stdout",
     "output_type": "stream",
     "text": [
      "The Output is: ['a']\n",
      "The Output is: ['b', 'c']\n",
      "The Output is: []\n"
     ]
    }
   ],
   "source": [
    "def reverseLookup(dictionary, value):                               # defining function\n",
    "    key_empty_list=[]                                               # creatng an empty list\n",
    "    for i in dictionary:                                            # iterating in elements of dictionary\n",
    "        if dictionary[i]== value:                                   # checking if the dictionary value matches the entered value\n",
    "            key_empty_list.append(i)                                # the key is appended to the key_empty_list list.\n",
    "    return sorted(key_empty_list)                                   # Returning sorted list appended using loop\n",
    "\n",
    "print('The Output is:',reverseLookup({'a': 1, 'b': 2, 'c': 2}, 1))  \n",
    "print('The Output is:',reverseLookup({'a': 1, 'b': 2, 'c': 2}, 2)) \n",
    "print('The Output is:',reverseLookup({'a': 1, 'b': 2, 'c': 2}, 3)) "
   ]
  },
  {
   "cell_type": "markdown",
   "id": "a74e6344-87ef-4bb2-91d9-3be1c9125fbc",
   "metadata": {},
   "source": [
    "Q12.Write a function invertDictionary(d) that takes in a dictionary as argument and return a dictionary that inverts the keys and the values of the original dictionary.\n",
    "In - invertDictionary({'a':1, 'b':2, 'c':3, 'd':2})\n",
    "Out - {1: ['a'], 2: ['b', 'd'], 3: ['c']}\n",
    "In - invertDictionary({'a':3, 'b':3, 'c':3})\n",
    "Out - {3: ['a', 'c', 'b']}\n",
    "In - invertDictionary({'a':2, 'b':1, 'c':2, 'd':1})\n",
    "Out - {1: ['b', 'd'], 2: ['a', 'c']}\n"
   ]
  },
  {
   "cell_type": "code",
   "execution_count": 12,
   "id": "2dd09950-1444-4c08-9e84-5373527c12a7",
   "metadata": {},
   "outputs": [
    {
     "name": "stdout",
     "output_type": "stream",
     "text": [
      "The Output is: {1: ['a'], 2: ['b', 'd'], 3: ['c']}\n",
      "The Output is: {3: ['a', 'b', 'c']}\n",
      "The Output is: {2: ['a', 'c'], 1: ['b', 'd']}\n"
     ]
    }
   ],
   "source": [
    "def invertDictionary(d):                        # defining function\n",
    "    inverted = {}                               # creatng an empty dictionary\n",
    "    for key, value in d.items():                # iterating in key & value pair of dictionary\n",
    "        if value not in inverted:               # checking if value is not in empty dictionary\n",
    "            inverted[value] = [key]             # value is stored in inverted with the value as the key in list\n",
    "        else:\n",
    "            inverted[value].append(key)         # the original key is appended to the list of keys associated with that value\n",
    "    return inverted                             # returning dictionary inverted\n",
    "\n",
    "print('The Output is:',invertDictionary({'a': 1, 'b': 2, 'c': 3, 'd': 2})) \n",
    "print('The Output is:',invertDictionary({'a': 3, 'b': 3, 'c': 3}))         \n",
    "print('The Output is:',invertDictionary({'a': 2, 'b': 1, 'c': 2, 'd': 1})) "
   ]
  },
  {
   "cell_type": "markdown",
   "id": "8f6732a5-df8d-438b-90b7-7d6e9d8abf6d",
   "metadata": {},
   "source": [
    "Q13. Write a function that converts a sparse vector into a dictionary as described above.\n",
    "In - convertVector([1, 0, 0, 2, 0, 0, 0, 3, 0, 0, 0, 0, 4])\n",
    "Out - {0: 1, 3: 2, 7: 3, 12: 4}\n",
    "In - convertVector([1, 0, 1 , 0, 2, 0, 1, 0, 0, 1, 0])\n",
    "Out - {0: 1, 2: 1, 4: 2, 6: 1, 9: 1}\n",
    "In - convertVector([0, 0, 0, 0, 0])\n",
    "Out - {}\n"
   ]
  },
  {
   "cell_type": "code",
   "execution_count": 14,
   "id": "9d536f8d-5c72-43a2-95b3-989f7e841764",
   "metadata": {},
   "outputs": [
    {
     "name": "stdout",
     "output_type": "stream",
     "text": [
      "The Output is: {0: 1, 3: 2, 7: 3, 12: 4}\n",
      "The Output is: {0: 1, 2: 1, 4: 2, 6: 1, 9: 1}\n",
      "The Output is: {}\n"
     ]
    }
   ],
   "source": [
    "def convertVector(vector):                                # defining function\n",
    "    out_dict = {}                                         # creatng an empty dictionary\n",
    "    for index, value in enumerate(vector):                # iterating in index postion & value of vector list using enumerate function\n",
    "        if value != 0:                                    # checking for non zero values\n",
    "            out_dict[index] = value                       # storing index of non zero values as keys of dictionary\n",
    "    return out_dict\n",
    "\n",
    "\n",
    "print('The Output is:',convertVector([1, 0, 0, 2, 0, 0, 0, 3, 0, 0, 0, 0, 4]))  \n",
    "print('The Output is:',convertVector([1, 0, 1, 0, 2, 0, 1, 0, 0, 1, 0]))        \n",
    "print('The Output is:',convertVector([0, 0, 0, 0, 0]))                         \n"
   ]
  },
  {
   "cell_type": "markdown",
   "id": "b344faa0-e596-4d18-8d00-f56843614a10",
   "metadata": {},
   "source": [
    "Q14. Write a function that converts a dictionary back to its sparse vector representation.\n",
    "In - convertDictionary({0: 1, 3: 2, 7: 3, 12: 4})\n",
    "Out - [1, 0, 0, 2, 0, 0, 0, 3, 0, 0, 0, 0, 4]\n",
    "In - convertDictionary({0: 1, 2: 1, 4: 2, 6: 1, 9: 1})\n",
    "Out - [1, 0, 1, 0, 2, 0, 1, 0, 0, 1]\n",
    "In - convertDictionary({})\n",
    "Out - []"
   ]
  },
  {
   "cell_type": "code",
   "execution_count": 15,
   "id": "1fba42e5-5d2a-48c2-bae9-398e47945c7d",
   "metadata": {},
   "outputs": [
    {
     "name": "stdout",
     "output_type": "stream",
     "text": [
      "The Output is: [1, 0, 0, 2, 0, 0, 0, 3, 0, 0, 0, 0, 4]\n",
      "The Output is: [1, 0, 1, 0, 2, 0, 1, 0, 0, 1]\n",
      "The Output is: []\n"
     ]
    }
   ],
   "source": [
    "def convertDictionary(dict_1):                             # defining function\n",
    "    if not dict_1:                                         \n",
    "        return []                                          # If the dictionary is empty then function returns an empty list\n",
    "    max_index = max(dict_1.keys())                         # finding maximum no of entries required in vector list\n",
    "    vector = [0] * (max_index + 1)                         # Initially filling all values as 0 in required vector list\n",
    "    for index, value in dict_1.items():                    # iterating to index postion of non zero values \n",
    "        vector[index] = value                              # assigning values as per index postion in vector list\n",
    "    return vector\n",
    "\n",
    "print('The Output is:',convertDictionary({0: 1, 3: 2, 7: 3, 12: 4}))  \n",
    "print('The Output is:',convertDictionary({0: 1, 2: 1, 4: 2, 6: 1, 9: 1}))  \n",
    "print('The Output is:',convertDictionary({}))\n"
   ]
  },
  {
   "cell_type": "markdown",
   "id": "78525c48-05ff-4fc7-9879-2e375a22863d",
   "metadata": {},
   "source": [
    "Q 15 Given a Python dictionary, Change Brad’s salary to 8500\r",
    " sampleDict = {\n",
    "     'emp1': {'name': 'Jhon', 'salary': 7500}\r",
    "      'emp2': {'name': 'Emma', 'salary': 8000,\n",
    "      'emp3': {'name': 'Brad', 'salary': 650}\n",
    "      \n",
    "      Expected up\n",
    "      sampleDc {\n",
    "       'emp1': {'name': 'Jhon', 'salary' 5}\n",
    "        'emp2': {'name': 'Emma', 'salary 00\n",
    "         'emp3': {'name': 'Brad', 'salay:5}"
   ]
  },
  {
   "cell_type": "code",
   "execution_count": 19,
   "id": "fdb91c3d-6577-4431-9ff2-26a9a38e709e",
   "metadata": {},
   "outputs": [
    {
     "data": {
      "text/plain": [
       "{'emp1': {'name': 'Jhon', 'salary': 7500},\n",
       " 'emp2': {'name': 'Emma', 'salary': 8000},\n",
       " 'emp3': {'name': 'Brad', 'salary': 6500}}"
      ]
     },
     "execution_count": 19,
     "metadata": {},
     "output_type": "execute_result"
    }
   ],
   "source": [
    "sampleDict = {\n",
    "      'emp1': {'name': 'Jhon', 'salary': 7500},\n",
    "      'emp2': {'name': 'Emma', 'salary': 8000},\n",
    "      'emp3': {'name': 'Brad', 'salary': 6500}\n",
    "}\n",
    "sampleDict"
   ]
  },
  {
   "cell_type": "code",
   "execution_count": 20,
   "id": "901a3340-fe01-4581-8a71-92b8cf400d91",
   "metadata": {},
   "outputs": [
    {
     "data": {
      "text/plain": [
       "{'emp1': {'name': 'Jhon', 'salary': 7500},\n",
       " 'emp2': {'name': 'Emma', 'salary': 8000},\n",
       " 'emp3': {'name': 'Brad', 'salary': 8500}}"
      ]
     },
     "execution_count": 20,
     "metadata": {},
     "output_type": "execute_result"
    }
   ],
   "source": [
    "sampleDict['emp3']['salary']=8500                       # Changing salary of emp3 (Brad)\n",
    "sampleDict"
   ]
  },
  {
   "cell_type": "markdown",
   "id": "f27824d6-e19b-4981-889f-256fee91da58",
   "metadata": {},
   "source": [
    "Q16. Get the key corresponding to the minimum value from the following dictionary\n",
    "sampleDict = {\n",
    "  'Physics': 82,   'Math': 65,  'history': 75\n",
    " }\n",
    "\n",
    "Expected Output Math\n"
   ]
  },
  {
   "cell_type": "code",
   "execution_count": 21,
   "id": "9115bfb7-8856-4f2b-87f0-c35904c48414",
   "metadata": {},
   "outputs": [
    {
     "name": "stdout",
     "output_type": "stream",
     "text": [
      "Math\n"
     ]
    }
   ],
   "source": [
    "sampleDict = { 'Physics': 82, 'Math': 65, 'history': 75 }\n",
    "\n",
    "min_key = min(sampleDict, key=sampleDict.get)                 # Using the min function with a custom key to find min value key\n",
    "\n",
    "print(min_key)  \n"
   ]
  },
  {
   "cell_type": "markdown",
   "id": "53f4439d-4adc-471a-bba2-eb2e83b918fd",
   "metadata": {},
   "source": [
    "Q17. Rename key city to location in the following dictionary\n",
    "sampleDict = {\n",
    "  \"name\": \"Kelly\",\n",
    "   \"age\":25,\n",
    "   \"salary\": 8000,\n",
    "   \"city\": \"New york\"\n",
    "}\n",
    "\n",
    " Expected Output\n",
    " {\n",
    "   \"name\": \"Kelly\",\n",
    "   \"age\":25,\n",
    "   \"salary\": 8000,\n",
    "   \"location\": \"New york\"\n",
    " }"
   ]
  },
  {
   "cell_type": "code",
   "execution_count": 28,
   "id": "6934bb37-ee45-41b0-8a60-20a81f299a9a",
   "metadata": {},
   "outputs": [
    {
     "name": "stdout",
     "output_type": "stream",
     "text": [
      "{'name': 'Kelly', 'age': 25, 'salary': 8000, 'location': 'New York'}\n"
     ]
    }
   ],
   "source": [
    "sampleDict = {\"name\": \"Kelly\",\n",
    "              \"age\": 25,\n",
    "              \"salary\": 8000,\n",
    "              \"city\": \"New York\"\n",
    "}\n",
    "\n",
    "sampleDict['location'] = sampleDict.pop('city')         # Rename 'city' key to 'location' as only way is to remove city data from dictionary and store it as location\n",
    "print(sampleDict)\n"
   ]
  },
  {
   "cell_type": "markdown",
   "id": "d759ebba-14b5-45fc-8729-53b47264ba03",
   "metadata": {},
   "source": [
    "Q18. Check if a value 200 exists in a dictionary\n",
    "sampleDict = {'a': 100, 'b': 200, 'c': 300}\n",
    "\n",
    "Expected Output: True"
   ]
  },
  {
   "cell_type": "code",
   "execution_count": 29,
   "id": "a8d96907-6ea7-4165-87fb-9fc676a20655",
   "metadata": {},
   "outputs": [
    {
     "name": "stdout",
     "output_type": "stream",
     "text": [
      "True\n"
     ]
    }
   ],
   "source": [
    "sampleDict = {'a': 100, 'b': 200, 'c': 300}\n",
    "for i in sampleDict.values():                       # iterating in values of dictionary sampleDict\n",
    "    if i==200:                                      # checking if 200 is present in values\n",
    "        print('True')"
   ]
  },
  {
   "cell_type": "markdown",
   "id": "aafa9e43-d9db-421e-b381-096af5a9f86b",
   "metadata": {},
   "source": [
    "Q19. Delete set of keys from Python Dictionary\n",
    "sampleDict = {\n",
    "  \"name\": \"Kelly\",\n",
    "   \"age\":25,\n",
    "  \"salary\": 8000,\n",
    "   \"city\": \"New york\"\n",
    "  \n",
    " }\n",
    " keysToRemove = [\"name\", \"salary\"]\n",
    "\n",
    " Expected Output:\n",
    " {'city': 'New york', 'age': 25}"
   ]
  },
  {
   "cell_type": "code",
   "execution_count": 30,
   "id": "237b24d6-567d-4a04-b145-dbd02ae41cd6",
   "metadata": {},
   "outputs": [
    {
     "data": {
      "text/plain": [
       "{'age': 25, 'city': 'New york'}"
      ]
     },
     "execution_count": 30,
     "metadata": {},
     "output_type": "execute_result"
    }
   ],
   "source": [
    "sampleDict = {\"name\": \"Kelly\",\n",
    "              \"age\":25,\n",
    "              \"salary\": 8000,\n",
    "              \"city\": \"New york\"\n",
    "}\n",
    "sampleDict.pop('name') and sampleDict.pop('salary')         # removing 'name' & 'salary' together using and operator\n",
    "sampleDict"
   ]
  },
  {
   "cell_type": "code",
   "execution_count": null,
   "id": "507d2390-d7c1-4a88-b89a-b59aceaabafa",
   "metadata": {},
   "outputs": [],
   "source": []
  }
 ],
 "metadata": {
  "kernelspec": {
   "display_name": "Python 3 (ipykernel)",
   "language": "python",
   "name": "python3"
  },
  "language_info": {
   "codemirror_mode": {
    "name": "ipython",
    "version": 3
   },
   "file_extension": ".py",
   "mimetype": "text/x-python",
   "name": "python",
   "nbconvert_exporter": "python",
   "pygments_lexer": "ipython3",
   "version": "3.11.7"
  }
 },
 "nbformat": 4,
 "nbformat_minor": 5
}
