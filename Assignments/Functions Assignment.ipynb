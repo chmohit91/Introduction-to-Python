{
 "cells": [
  {
   "cell_type": "markdown",
   "id": "a05925a7-6fae-4ca0-856f-a801a209704f",
   "metadata": {},
   "source": [
    "LB_DSC_19thApril_WKDY_MR_2024\r\n",
    "\r\n",
    "Mohit Chaudhary 7011883015"
   ]
  },
  {
   "cell_type": "markdown",
   "id": "62e087d4-9f42-45e4-af93-9100e836f1c8",
   "metadata": {},
   "source": [
    "Q1.  Define a function calls addNumber(x, y) that takes in two number and returns the sum of the two numbers."
   ]
  },
  {
   "cell_type": "code",
   "execution_count": 2,
   "id": "932aca68-fe35-45e3-aa73-2dd0377b38bc",
   "metadata": {},
   "outputs": [
    {
     "name": "stdin",
     "output_type": "stream",
     "text": [
      "Enter first integer value: 25\n",
      "Enter second integer value: 30\n"
     ]
    },
    {
     "name": "stdout",
     "output_type": "stream",
     "text": [
      "The sum of the given integers is: 55\n"
     ]
    }
   ],
   "source": [
    "def addNumber(x, y):                # defining function\n",
    "    sum_num = x+y                   # adding both input numbers\n",
    "    return sum_num                  # returning the sum of two numbers \n",
    "\n",
    "a = eval(input('Enter first integer value:'))\n",
    "b = eval(input('Enter second integer value:'))\n",
    "print('The sum of the given integers is:',addNumber(a,b))     # calling function to find sum"
   ]
  },
  {
   "cell_type": "markdown",
   "id": "7eec616c-72ed-47be-afa5-e715089fe592",
   "metadata": {},
   "source": [
    "Q2.  Define a function calls subtractNumber(x, y) that takes in two numbers and returns the difference of the two numbers."
   ]
  },
  {
   "cell_type": "code",
   "execution_count": 5,
   "id": "b21001cb-8a96-4176-9140-a51335dc709e",
   "metadata": {},
   "outputs": [
    {
     "name": "stdin",
     "output_type": "stream",
     "text": [
      "Enter first integer value: 50\n",
      "Enter second integer value: 29\n"
     ]
    },
    {
     "name": "stdout",
     "output_type": "stream",
     "text": [
      "The Difference of the given integers is: 21\n"
     ]
    }
   ],
   "source": [
    "def subtractNumber(x, y):           # defining function\n",
    "    diff_num = x-y                  # subtracting both input numbers\n",
    "    return diff_num                 # returning the difference of two numbers \n",
    "\n",
    "a = eval(input('Enter first integer value:'))\n",
    "b = eval(input('Enter second integer value:'))\n",
    "print('The Difference of the given integers is:',subtractNumber(a,b))   # calling function to find sum"
   ]
  },
  {
   "cell_type": "markdown",
   "id": "4bc63ce4-505e-46fc-890c-d8e7ccca948e",
   "metadata": {},
   "source": [
    "Q3.  Write a function getBiggerNumber(x, y) that takes in two numbers as arguments and returns the bigger number."
   ]
  },
  {
   "cell_type": "code",
   "execution_count": 7,
   "id": "62e22a00-3e46-4ca3-95f0-1e35b595b484",
   "metadata": {},
   "outputs": [
    {
     "name": "stdin",
     "output_type": "stream",
     "text": [
      "Enter first integer value: 95\n",
      "Enter second integer value: 75\n"
     ]
    },
    {
     "name": "stdout",
     "output_type": "stream",
     "text": [
      "The Bigger from the given integers is: 95\n"
     ]
    }
   ],
   "source": [
    "def getBiggerNumber(x, y):          # defining function\n",
    "    bigg_num = x if x>y else y      # finding greater of both input numbers\n",
    "    return bigg_num                 # returning the greater of two numbers \n",
    "\n",
    "a = eval(input('Enter first integer value:'))\n",
    "b = eval(input('Enter second integer value:'))\n",
    "print('The Bigger from the given integers is:',getBiggerNumber(a,b))   # calling function to find sum"
   ]
  },
  {
   "cell_type": "markdown",
   "id": "5eda4bb7-b974-4551-ab3b-d81f8cab0e48",
   "metadata": {},
   "source": [
    "Q4. # Python provides many built-in modules with many useful functions. \r",
    "One such module is the math module. The math module provides many useful functions such as sqrt(x), pow(x, y), ceil(x), floor(x) etc. \n",
    "You will need to do a \"import math\" before you are allowed to use the functions within the math module\n",
    "Calculate the square root of 16 and stores it in the variab\r",
    "\r",
    " Calculate 3 to the power of 5 and stores it in the vare\n",
    " Calculate area of circle with radius = 3.0 by making use of the math.pi constant and store it in the variable c"
   ]
  },
  {
   "cell_type": "code",
   "execution_count": 8,
   "id": "45734140-937f-4e5c-8a9b-f9ca2142efcd",
   "metadata": {},
   "outputs": [
    {
     "name": "stdout",
     "output_type": "stream",
     "text": [
      " The area of the circle of given radius is:  28.274333882308138\n",
      " The Square root of 16 is:  4.0\n",
      " 3 to the power 5 is:  243.0\n"
     ]
    }
   ],
   "source": [
    "import math as mt                          # importing math function as mt\n",
    "a = mt.sqrt(16)                            # finding sqrt of 16\n",
    "b = mt.pow(3,5)                            # finding power\n",
    "\n",
    "Radius = 3.0\n",
    "area_of_the_circle = mt.pi* Radius * Radius   # Calculating area of circle\n",
    "print (\" The area of the circle of given radius is: \", area_of_the_circle)\n",
    "print (\" The Square root of 16 is: \", a)\n",
    "print (\" 3 to the power 5 is: \", b)"
   ]
  },
  {
   "cell_type": "markdown",
   "id": "b1a84fab-89ca-401c-b0cd-3c08fe446f53",
   "metadata": {},
   "source": [
    "#### Using user defined input"
   ]
  },
  {
   "cell_type": "code",
   "execution_count": 11,
   "id": "0a4275a0-9233-4b43-9121-e185a913aa73",
   "metadata": {},
   "outputs": [
    {
     "name": "stdin",
     "output_type": "stream",
     "text": [
      "Enter a positive integer: 625\n",
      "Enter an integer: 10\n",
      "Enter a power of integer: 6\n",
      "Please enter the radius of the given circle:  12.5\n"
     ]
    },
    {
     "name": "stdout",
     "output_type": "stream",
     "text": [
      "The area of the circle of given radius is:  490.8738521234052\n",
      "The Square root of given number is:  25.0\n",
      "The given number to given power is:  1000000.0\n"
     ]
    }
   ],
   "source": [
    "import math as mt                                                                         # importing math function as mt\n",
    "a = mt.sqrt(eval(input('Enter a positive integer:')))                                     # finding sqrt \n",
    "b = mt.pow(eval(input('Enter an integer:')),eval(input('Enter a power of integer:')))     # finding power\n",
    "\n",
    "Radius = eval(input (\"Please enter the radius of the given circle: \"))                    # Getting radius of circle\n",
    "area_of_the_circle = mt.pi* Radius * Radius  \n",
    "print(\"The area of the circle of given radius is: \", area_of_the_circle)                  # Calculating area of circle\n",
    "print(\"The Square root of given number is: \", a)\n",
    "print(\"The given number to given power is: \", b)"
   ]
  },
  {
   "cell_type": "markdown",
   "id": "103919ee-ac1c-4c71-9bcf-6fa6d3497cf9",
   "metadata": {},
   "source": [
    "Q5. Write a function to convert temperature from Celsius to Fahrenheit scale.\r",
    "oC to oF Conversion: Multipy by 9, then divide by 5, then add 32.\r",
    " Note: Return a string of 2 decimal place.# In - Cel2Fah(280\n",
    " Out - '824\r",
    " In - Cel2Fah(\n",
    ")\n",
    " Out - '32.00'"
   ]
  },
  {
   "cell_type": "code",
   "execution_count": 13,
   "id": "87fd83f3-7fc5-4d07-b856-19dcf5418a87",
   "metadata": {},
   "outputs": [
    {
     "name": "stdin",
     "output_type": "stream",
     "text": [
      "Enter temprature in degree celcius (C): 98.60\n"
     ]
    },
    {
     "name": "stdout",
     "output_type": "stream",
     "text": [
      "The temprature 98.6 degree Celcius converted to degree Farenheit is: 209.48\n"
     ]
    }
   ],
   "source": [
    "def CeltoFah(degree):                    # Defining function\n",
    "    faren = 9/5*degree+32                # converting degree c to degree f\n",
    "    return faren\n",
    "a = eval(input('Enter temprature in degree celcius (C):'))          # Taking user input\n",
    "print(f'The temprature {a} degree Celcius converted to degree Farenheit is: {CeltoFah(a)}')"
   ]
  },
  {
   "cell_type": "markdown",
   "id": "19360ca9-fef4-4f08-9fcc-12c3812fd0cd",
   "metadata": {},
   "source": [
    "Q6.  Write a function to compute the BMI of a person.\r",
    "     BMI = weight(kg)  /  ( height(m)*height(m) )\r",
    "\r",
    " Note: Return a string of 1 decimal plac.\n",
    " In - BMI(63, 17\r",
    " Out - '2.'\n",
    " In - BMI(11,2\r",
    " Out - '27.5'"
   ]
  },
  {
   "cell_type": "code",
   "execution_count": 14,
   "id": "8cf4048b-4862-4f80-9d56-a7a4da1c7da8",
   "metadata": {},
   "outputs": [
    {
     "name": "stdin",
     "output_type": "stream",
     "text": [
      "Enter weight in (kg) of a person: 85\n",
      "Enter height in (m) of a person: 1.71\n"
     ]
    },
    {
     "name": "stdout",
     "output_type": "stream",
     "text": [
      "The BMI of the person is: 29.1\n"
     ]
    }
   ],
   "source": [
    "def BMI(bmi_wt,bmi_ht):                                    # defining function\n",
    "    bmi_person = (bmi_wt)/(bmi_ht*bmi_ht)                  # calculating BMI of person\n",
    "    return bmi_person                                      # returing bmi value\n",
    "\n",
    "wt = eval(input('Enter weight in (kg) of a person:'))      # taking weight from user    \n",
    "ht = eval(input('Enter height in (m) of a person:'))       # taking height from user\n",
    "print('The BMI of the person is:', round(BMI(wt,ht),1))    # rounding off value to 1 decimal place and printing output"
   ]
  },
  {
   "cell_type": "markdown",
   "id": "fa4209d7-de84-4f4d-9a7f-78823a65cfa4",
   "metadata": {},
   "source": [
    "Q7.  Write a function percent(value, total) that takes in two numbers as arguments, and returns the percentage value as an integer.\r",
    " In - percent(46, 90)# Out - 5\n",
    "In - percent(51, 5\r",
    " Out - 0\n",
    " In - percent(63,2\n",
    "Out - 525\r\n",
    " "
   ]
  },
  {
   "cell_type": "code",
   "execution_count": 17,
   "id": "74a84631-e137-4483-9c3e-ba83e12bd972",
   "metadata": {},
   "outputs": [
    {
     "name": "stdout",
     "output_type": "stream",
     "text": [
      "The percentage of (46, 90) is: 51 %\n",
      "The percentageof (51, 51) is: 100 %\n",
      "The percentage of (63, 12) is: 525 %\n"
     ]
    }
   ],
   "source": [
    "def percent(value, total):                          # defining function\n",
    "    percentage = (value/total)*100                  # Calculating the percentage\n",
    "    return int(percentage)                          # returing perecentage as integer\n",
    "\n",
    "print(f\"The percentage of (46, 90) is:\",percent(46, 90),'%')\n",
    "print(f\"The percentageof (51, 51) is:\",percent(51, 51),'%')\n",
    "print(f\"The percentage of (63, 12) is:\",percent(63, 12),'%')\n"
   ]
  },
  {
   "cell_type": "markdown",
   "id": "93bcfd45-2bf6-4a1a-89b7-78c394b3a319",
   "metadata": {},
   "source": [
    "#### Using user defined input"
   ]
  },
  {
   "cell_type": "code",
   "execution_count": 19,
   "id": "d1eb2e37-592d-426e-9c8f-c63900cdb1aa",
   "metadata": {},
   "outputs": [
    {
     "name": "stdin",
     "output_type": "stream",
     "text": [
      "Enter the value:  63\n",
      "Enter the total:  12\n"
     ]
    },
    {
     "name": "stdout",
     "output_type": "stream",
     "text": [
      "The percentage is: 525%\n"
     ]
    }
   ],
   "source": [
    "def percent(value, total):                          # defining function\n",
    "    percentage = (value/total)*100                  # Calculating the percentage\n",
    "    return int(percentage)                          # returing perecentage as integer\n",
    "\n",
    "value = float(input(\"Enter the value: \"))           # Getting user input for value \n",
    "total = float(input(\"Enter the total: \"))           # Getting user input for total\n",
    " \n",
    "print(f\"The percentage is: {percent(value, total)}%\")"
   ]
  },
  {
   "cell_type": "markdown",
   "id": "0cf65415-85ce-4848-9abb-a48446437884",
   "metadata": {},
   "source": [
    "Q8. Write a function to compute the hypotenuse given sides a and b of the triangle.\r",
    " Hint: You can use math.sqrt(x) to compute the square root of x.\n",
    " In - hypotenuse(3, 4\r",
    " Out -5 # In - hypotenuse(5, 2\r",
    " Out - 13"
   ]
  },
  {
   "cell_type": "code",
   "execution_count": 22,
   "id": "4b60fc60-a066-42f0-8cac-83d8447bbb93",
   "metadata": {},
   "outputs": [
    {
     "name": "stdin",
     "output_type": "stream",
     "text": [
      "Enter the dimension of perpendicular side: 30\n",
      "Enter the dimension of base side: 40\n"
     ]
    },
    {
     "name": "stdout",
     "output_type": "stream",
     "text": [
      "The dimension of Hypotenuse side is: 50.0\n"
     ]
    }
   ],
   "source": [
    "import math as mt                                                         # importing maths functions \n",
    "def hypotenuse(perpendicular,base):                                       # defining function\n",
    "    hypotenuse_cal = mt.sqrt((perpendicular*perpendicular)+(base*base))   # calculating hypotenuse\n",
    "    return hypotenuse_cal                                                 # returning valu of hypotenuse caluculated\n",
    "\n",
    "p = eval(input('Enter the dimension of perpendicular side:'))          # Getting user input for perpendicular side\n",
    "b = eval(input('Enter the dimension of base side:'))                   # Getting user input for base side\n",
    " \n",
    "print('The dimension of Hypotenuse side is:',hypotenuse(p,b))"
   ]
  },
  {
   "cell_type": "code",
   "execution_count": 24,
   "id": "854929f8-8937-4040-b607-70186e6060b2",
   "metadata": {},
   "outputs": [
    {
     "name": "stdout",
     "output_type": "stream",
     "text": [
      "The dimension of Hypotenuse side is: 5.0\n",
      "The dimension of Hypotenuse side is: 13.0\n"
     ]
    }
   ],
   "source": [
    "print('The dimension of Hypotenuse side is:',hypotenuse(3, 4))\n",
    "print('The dimension of Hypotenuse side is:',hypotenuse(5, 12))"
   ]
  },
  {
   "cell_type": "markdown",
   "id": "f2d73189-6e98-40a8-93c1-151f0443320a",
   "metadata": {},
   "source": [
    "Q9.  Write a function getSumOfLastDigits() that takes in a list of positive numbers and returns the sum of all the last digits in the list.\n",
    "getSumOfLastDigits([2, 3, 4])\n",
    " 9\n",
    " getSumOfLastDigits([1, 23, 456])\n",
    " 10"
   ]
  },
  {
   "cell_type": "code",
   "execution_count": 25,
   "id": "da1d9267-a876-4c52-8a39-b9a6905cd718",
   "metadata": {},
   "outputs": [
    {
     "name": "stdout",
     "output_type": "stream",
     "text": [
      "The sum of the last digits is: 9\n",
      "The sum of the last digits is: 10\n"
     ]
    }
   ],
   "source": [
    "def getSumOfLastDigits(numbers):            # defining function\n",
    "    a = sum([i % 10 for i in numbers])      # Using list comprehension to get the last digits and sum them up\n",
    "    return a\n",
    "\n",
    "print('The sum of the last digits is:',getSumOfLastDigits([2, 3, 4]))     \n",
    "print('The sum of the last digits is:',getSumOfLastDigits([1, 23, 456]))      \n"
   ]
  },
  {
   "cell_type": "markdown",
   "id": "005294d0-c172-419c-ae5e-8a80def95797",
   "metadata": {},
   "source": [
    "#### Using user defined input"
   ]
  },
  {
   "cell_type": "code",
   "execution_count": 26,
   "id": "6ce65e21-ad1b-47b6-ae7c-a81b5d62598c",
   "metadata": {},
   "outputs": [
    {
     "name": "stdin",
     "output_type": "stream",
     "text": [
      "Enter list of integers separated by ',':  1,5,9,15,25,658,20\n"
     ]
    },
    {
     "name": "stdout",
     "output_type": "stream",
     "text": [
      "The sum of the last digits of [1, 5, 9, 15, 25, 658, 20] is: 33\n"
     ]
    }
   ],
   "source": [
    "def getSumOfLastDigits(numbers):            # defining function\n",
    "    a = sum([i % 10 for i in numbers])      # Using list comprehension to get the last digits and sum them up\n",
    "    return a\n",
    "\n",
    "user_input = input(\"Enter list of integers separated by ',': \")        # Taking the user input list of integers\n",
    "numbers = list(map(int, user_input.split(',')))                        # Converting the user input into a list of integers\n",
    "\n",
    "print(f'The sum of the last digits of {numbers} is:',getSumOfLastDigits(numbers))       \n"
   ]
  },
  {
   "cell_type": "markdown",
   "id": "28fb798c-fb23-4ec7-941b-b9f62c2af9d6",
   "metadata": {},
   "source": [
    "Q10. Write a function that uses a default value.\n",
    " In - introduce('Lim', 20)\n",
    " Out - 'My name is Lim. I am 20 years old.'\n",
    " In - introduce('Ahmad')\n",
    " Out - 'My name is Ahmad. My age is secret.'\n"
   ]
  },
  {
   "cell_type": "code",
   "execution_count": 31,
   "id": "a4c319b9-e402-43f9-a0f8-f6fb18c17a3e",
   "metadata": {},
   "outputs": [
    {
     "name": "stdout",
     "output_type": "stream",
     "text": [
      "My Name is Lim. My age is 20\n",
      "My Name is Ahmad. My age is secret\n"
     ]
    }
   ],
   "source": [
    "def introduce(name,age = 'secret'):                        # defining fucntion with default value to argument\n",
    "    print(f'My Name is {name}. My age is {age}')           # printing required output\n",
    "\n",
    "introduce('Lim',20)\n",
    "introduce('Ahmad')"
   ]
  },
  {
   "cell_type": "markdown",
   "id": "5e64caa9-f5e9-4aa8-9a6e-2d86d5229a04",
   "metadata": {},
   "source": [
    "Q11. Write a function isEquilateral(x, y, z) that accepts the 3 sides of a triangle as arguments. \r",
    " The program should return True if it is an equilateral triangle.\r",
    " In - isEquilateral(2, 4,\n",
    "\n",
    " False - Fas\r",
    " In - isEquilateral(3, 3 )\n",
    " Out -Tu\r",
    " In - isEquilateral(-3, -,-)\n",
    " Out - False"
   ]
  },
  {
   "cell_type": "code",
   "execution_count": 39,
   "id": "832104c7-988f-41e1-8150-1fe48fcd35cf",
   "metadata": {},
   "outputs": [
    {
     "name": "stdin",
     "output_type": "stream",
     "text": [
      "Enter First side of a Triangle: 3\n",
      "Enter Second side of a Triangle: 4\n",
      "Enter Third side of a Triangle: 5\n"
     ]
    },
    {
     "name": "stdout",
     "output_type": "stream",
     "text": [
      "Are the sides entered are of Equilateral Triangle ?, The answer is: False\n"
     ]
    }
   ],
   "source": [
    "def isEquilateral(x, y, z):                                 # defining fucntion    \n",
    "    answer = True if x==y==z>0 else False                   # checking if sides are equal or not\n",
    "    return answer                                           # returing true if sides are equal else returning false\n",
    "\n",
    "side1 = eval(input('Enter First side of a Triangle:'))      # taking first side from user  \n",
    "side2 = eval(input('Enter Second side of a Triangle:'))     # taking second side from user  \n",
    "side3 = eval(input('Enter Third side of a Triangle:'))      # taking third side from user  \n",
    "\n",
    "print('Are the sides entered are of Equilateral Triangle ?, The answer is:',isEquilateral(side1,side2,side3))"
   ]
  },
  {
   "cell_type": "code",
   "execution_count": 40,
   "id": "a391b5bc-c6ba-4a8a-b6b9-522624a652e1",
   "metadata": {},
   "outputs": [
    {
     "data": {
      "text/plain": [
       "True"
      ]
     },
     "execution_count": 40,
     "metadata": {},
     "output_type": "execute_result"
    }
   ],
   "source": [
    "isEquilateral(3, 3, 3)"
   ]
  },
  {
   "cell_type": "code",
   "execution_count": 41,
   "id": "c59b7156-3d39-4805-81df-0c8f33bf24b1",
   "metadata": {},
   "outputs": [
    {
     "data": {
      "text/plain": [
       "False"
      ]
     },
     "execution_count": 41,
     "metadata": {},
     "output_type": "execute_result"
    }
   ],
   "source": [
    "isEquilateral(-3, -3, -3)"
   ]
  },
  {
   "cell_type": "code",
   "execution_count": 42,
   "id": "938d7a59-9b6b-40d8-8e1e-11c03658a345",
   "metadata": {},
   "outputs": [
    {
     "data": {
      "text/plain": [
       "False"
      ]
     },
     "execution_count": 42,
     "metadata": {},
     "output_type": "execute_result"
    }
   ],
   "source": [
    "isEquilateral(2, 4, 3)"
   ]
  },
  {
   "cell_type": "markdown",
   "id": "571c53cf-459b-4363-81d6-122ea9f651ee",
   "metadata": {},
   "source": [
    "Q12. # For a quadratic equation in the form of ax2+bx+c, the discriminant, D is b2-4ac. Write a function to compute the discriminant, D.\n",
    " In - quadratic(1, 2, 3)\n",
    " Out - 'The discriminant is -8.\n",
    " In - quadratic(1, 3, \r",
    "  Out - 'The discriminant is '\n",
    " In - quadratic(1, 44\r",
    " Out - 'The discriminant is 0.'\r\n"
   ]
  },
  {
   "cell_type": "code",
   "execution_count": 43,
   "id": "f4dd7593-6877-4f49-96a9-fe39a80c66f5",
   "metadata": {},
   "outputs": [
    {
     "name": "stdout",
     "output_type": "stream",
     "text": [
      "The discriminant is -8.\n",
      "The discriminant is 1.\n",
      "The discriminant is 0.\n"
     ]
    }
   ],
   "source": [
    "def quadratic(a, b, c):                                               # defining function\n",
    "    D = b**2 - 4*a*c                                                  # Calculating the discriminant \n",
    "    return f'The discriminant is {D}.'                                # Returning value of D\n",
    "\n",
    "print(quadratic(1, 2, 3))\n",
    "print(quadratic(1, 3, 2)) \n",
    "print(quadratic(1, 4, 4)) "
   ]
  },
  {
   "cell_type": "markdown",
   "id": "07274d0c-9f44-4cd4-93e9-23a208ab1483",
   "metadata": {},
   "source": [
    "#### Using user defined input"
   ]
  },
  {
   "cell_type": "code",
   "execution_count": 47,
   "id": "c5e7fb8d-c635-4553-9e17-2a6a08d20fe8",
   "metadata": {},
   "outputs": [
    {
     "name": "stdin",
     "output_type": "stream",
     "text": [
      "Enter Value of Cofficient of x2 (a): 1\n",
      "Enter Value of Cofficient of x (b): 3\n",
      "Enter Value of Constant (c): 2\n"
     ]
    },
    {
     "name": "stdout",
     "output_type": "stream",
     "text": [
      "The value of discriminant is: 1\n"
     ]
    }
   ],
   "source": [
    "def quadratic(a, b, c):                                               # defining function\n",
    "    D = b**2 - 4*a*c                                                  # Calculating the discriminant \n",
    "    return D                                                          # Returning value of D\n",
    "    \n",
    "a = eval(input('Enter Value of Cofficient of x2 (a):'))               # taking Value of Cofficient of x2 from user  \n",
    "b = eval(input('Enter Value of Cofficient of x (b):'))                # taking Value of Cofficient of x from user  \n",
    "c = eval(input('Enter Value of Constant (c):'))                       # taking value of constant from user  \n",
    "\n",
    "print('The value of discriminant is:',quadratic(a, b, c))"
   ]
  },
  {
   "cell_type": "markdown",
   "id": "3296331b-51f2-413a-84a5-a8a2d9a218a0",
   "metadata": {},
   "source": [
    "Q13. # Define a function calls addFirstAndLast(x) that takes in a list of numbers and returns the sum of the first and last numbers.\n",
    " In - addFirstAndLast([])\n",
    " Out - 0\n",
    " In - addFirstAndLast([2, 7, 3])\n",
    " Out - 5\n",
    " In - addFirstAndLast([10])\n",
    " Out - 10\n",
    "\n",
    "def addFirstAndLast(lst):\n",
    "    pass\n",
    "\n",
    "addFirstAndLast([2,7,3])\n",
    "addFirstAndLast([])\n",
    "addFirstAndLast([10])"
   ]
  },
  {
   "cell_type": "code",
   "execution_count": 5,
   "id": "52fc3a71-03d3-4c97-998b-5ec6c5baa1f3",
   "metadata": {},
   "outputs": [
    {
     "name": "stdin",
     "output_type": "stream",
     "text": [
      "Enter list of integers separated by ',':  4,6,8,9,7,4,5,45,12,10\n"
     ]
    },
    {
     "name": "stdout",
     "output_type": "stream",
     "text": [
      "The sum of first and last elements is: 14\n"
     ]
    }
   ],
   "source": [
    "def addFirstAndLast(lst_numbers):                                      # defining function\n",
    "    if len(lst_numbers) != 0:                                          # checking for empty list\n",
    "        sum_first_last = lst_numbers[0] + lst_numbers[-1]              # Calculating the sum of first and last elements using indexing \n",
    "        return sum_first_last\n",
    "    else:\n",
    "        return 0                                                       # returning zero if list is empty\n",
    "\n",
    "user_input = input(\"Enter list of integers separated by ',': \")        # Taking the user input list of integers\n",
    "numbers = list(map(int, user_input.split(',')))                        # Converting the user input into a list of integers\n",
    "\n",
    "print('The sum of first and last elements is:',addFirstAndLast(numbers))"
   ]
  },
  {
   "cell_type": "code",
   "execution_count": 6,
   "id": "140c322c-5700-43d0-82e7-f01cfaae13ec",
   "metadata": {},
   "outputs": [
    {
     "data": {
      "text/plain": [
       "5"
      ]
     },
     "execution_count": 6,
     "metadata": {},
     "output_type": "execute_result"
    }
   ],
   "source": [
    "addFirstAndLast([2,7,3])"
   ]
  },
  {
   "cell_type": "code",
   "execution_count": 7,
   "id": "1261749b-5e45-4ac6-be54-fca028342805",
   "metadata": {},
   "outputs": [
    {
     "data": {
      "text/plain": [
       "0"
      ]
     },
     "execution_count": 7,
     "metadata": {},
     "output_type": "execute_result"
    }
   ],
   "source": [
    "addFirstAndLast([])"
   ]
  },
  {
   "cell_type": "code",
   "execution_count": 8,
   "id": "4448ab09-04bd-4168-8ec3-3bd67674c131",
   "metadata": {},
   "outputs": [
    {
     "data": {
      "text/plain": [
       "20"
      ]
     },
     "execution_count": 8,
     "metadata": {},
     "output_type": "execute_result"
    }
   ],
   "source": [
    "addFirstAndLast([10])    "
   ]
  },
  {
   "cell_type": "markdown",
   "id": "4149e3c9-5bc7-43ef-9c57-1f994982c069",
   "metadata": {},
   "source": [
    "Q14. Complete the 'lambda' expression so that it returns True if the argument is an even number, and False otherwise.\n",
    "\n",
    "(lambda num : ---------------------------------------)(6)"
   ]
  },
  {
   "cell_type": "code",
   "execution_count": 15,
   "id": "ee53df08-b3df-4c34-afdf-0c1c704f25e7",
   "metadata": {},
   "outputs": [
    {
     "name": "stdin",
     "output_type": "stream",
     "text": [
      "Enter an integer: 4\n"
     ]
    },
    {
     "name": "stdout",
     "output_type": "stream",
     "text": [
      "The entered number4 is an Even number? , The answer is: True\n"
     ]
    }
   ],
   "source": [
    "number = eval(input('Enter an integer:'))\n",
    "even_odd = lambda num: True if num%2==0 else False                     # This returns True if the argument is an even number\n",
    "print(f'The entered number {num} is an Even number? , The answer is:',even_odd(number))"
   ]
  },
  {
   "cell_type": "code",
   "execution_count": 16,
   "id": "6f547cb6-116c-4ef1-b2b7-9c657c41b442",
   "metadata": {},
   "outputs": [
    {
     "name": "stdin",
     "output_type": "stream",
     "text": [
      "Enter an integer: 9\n"
     ]
    },
    {
     "name": "stdout",
     "output_type": "stream",
     "text": [
      "The entered number4 is an Even number? , The answer is: False\n"
     ]
    }
   ],
   "source": [
    "number = eval(input('Enter an integer:'))\n",
    "even_odd = lambda num: True if num%2==0 else False                     # This returns True if the argument is an even number\n",
    "print(f'The entered number {num} is an Even number? , The answer is:',even_odd(number))"
   ]
  },
  {
   "cell_type": "markdown",
   "id": "bcd650f6-021d-4461-8180-4255843b01cd",
   "metadata": {},
   "source": [
    "Q15. Get the documentation of below function\n",
    "\n",
    "def getScore():\n",
    "  ''''A function that computes and returns the final score.'''\n",
    "  pass\n"
   ]
  },
  {
   "cell_type": "code",
   "execution_count": 1,
   "id": "16243013-2943-484b-a4a7-50bb1be24ab7",
   "metadata": {},
   "outputs": [
    {
     "name": "stdout",
     "output_type": "stream",
     "text": [
      "The final score is: 83.1\n"
     ]
    }
   ],
   "source": [
    "def getScore(test_scores, assignment_scores, participation_score):      # Assuming the weightage of marks: 50% for tests, 40% for assignments, and 10% for participation          \n",
    "    if not test_scores or not assignment_scores:                        # checking for empty list\n",
    "        return \"Scores list can't be empty\"\n",
    "   \n",
    "    avg_test_score = sum(test_scores) / len(test_scores)                          # Calculating average test score\n",
    "    avg_assignment_score = sum(assignment_scores) / len(assignment_scores)        # Calculating average assignment score\n",
    "    \n",
    "    final_score = (0.5 * avg_test_score) + (0.4 * avg_assignment_score) + (0.1 * participation_score)   # computing final score \n",
    "    return final_score                                                                                  # Returning final score\n",
    "\n",
    "\n",
    "test_scores = [80, 85, 90]           # List of test scores\n",
    "assignment_scores = [75, 80, 82]     # List of assignment scores\n",
    "participation_score = 90             # Participation score\n",
    "\n",
    "final_score = getScore(test_scores, assignment_scores, participation_score)\n",
    "print(f'The final score is: {final_score}')\n"
   ]
  },
  {
   "cell_type": "markdown",
   "id": "210fb8de-24d0-4bf0-9457-d2670660c051",
   "metadata": {},
   "source": [
    "Q16.  In Python, it is possible to pass a function as a argument to another function. \n",
    " Write a function useFunction(func, num) that takes in a function and a number as arguments. \n",
    " The useFunction should produce the output shown in the examples given below.\n",
    "\n",
    " def addOne(x):\n",
    "   return x + 1\n",
    " useFunction(addOne, 4)\n",
    " 25\n",
    " useFunction(addOne, 9)\n",
    " 100\n",
    " useFunction(addOne, 0)\n",
    " 1"
   ]
  },
  {
   "cell_type": "code",
   "execution_count": 2,
   "id": "08cf30e4-c3c5-4c33-ac36-efbf854a5080",
   "metadata": {},
   "outputs": [
    {
     "name": "stdout",
     "output_type": "stream",
     "text": [
      "The required output is: 25\n"
     ]
    }
   ],
   "source": [
    "def addOne(x):                       # defining first function\n",
    "    return x + 1                     # returning x+1 from first function\n",
    "\n",
    "def useFunction(a,b):                # defining second function\n",
    "    output = (b+2)*b                 # performing required calculations\n",
    "    return addOne(output)            # passing output of second function to first function and returning final output\n",
    "\n",
    "print('The required output is:',useFunction(addOne, 4))"
   ]
  },
  {
   "cell_type": "code",
   "execution_count": 3,
   "id": "d9329bba-f321-4c00-89e1-c27b7bcc0b7f",
   "metadata": {},
   "outputs": [
    {
     "data": {
      "text/plain": [
       "100"
      ]
     },
     "execution_count": 3,
     "metadata": {},
     "output_type": "execute_result"
    }
   ],
   "source": [
    "useFunction(addOne, 9)"
   ]
  },
  {
   "cell_type": "code",
   "execution_count": 4,
   "id": "08cccecc-2505-4b5c-87bc-0c048e7ffe8d",
   "metadata": {},
   "outputs": [
    {
     "data": {
      "text/plain": [
       "1"
      ]
     },
     "execution_count": 4,
     "metadata": {},
     "output_type": "execute_result"
    }
   ],
   "source": [
    "useFunction(addOne, 0)"
   ]
  },
  {
   "cell_type": "markdown",
   "id": "7e043c63-a725-42e0-9348-d330a40e2481",
   "metadata": {},
   "source": [
    "So we can clearly see that it is possible to pass a function as a argument to another function"
   ]
  },
  {
   "cell_type": "markdown",
   "id": "8b1040b2-5fc7-400a-9b45-493ecf856bd1",
   "metadata": {},
   "source": [
    "Q17. Write a function find_max that accepts three numbers as arguments and returns the largest number among three. \r",
    " Write another function main, in main() function accept three numbers from user and call find_max."
   ]
  },
  {
   "cell_type": "code",
   "execution_count": 7,
   "id": "e6bb9095-79c2-455e-b6de-e0fe4e637209",
   "metadata": {},
   "outputs": [
    {
     "name": "stdin",
     "output_type": "stream",
     "text": [
      "Enter the first number:  65\n",
      "Enter the second number:  85\n",
      "Enter the third number:  62\n"
     ]
    },
    {
     "name": "stdout",
     "output_type": "stream",
     "text": [
      "The largest number between 65 , 85 , 62 is: 85\n"
     ]
    }
   ],
   "source": [
    "def find_max(num1, num2, num3):      # Defining function to find largest of 3 numbers    \n",
    "  largest = max(num1, num2)  \n",
    "  return int (max(largest, num3))    # Comparing the largest with the third number and returning the final maximum \n",
    "\n",
    "def main():                                         # Defining main function to get user input  \n",
    "  num1 = eval(input(\"Enter the first number: \"))    # Getting first input from the user\n",
    "  num2 = eval(input(\"Enter the second number: \"))   # Getting second input from the user\n",
    "  num3 = eval(input(\"Enter the third number: \"))    # Getting third input from the user\n",
    "  \n",
    "  largest = find_max(num1, num2, num3)              # Calling the find_max function to find the largest number   \n",
    "  print(f\"The largest number between {num1} , {num2} , {num3} is:\", largest)\n",
    "\n",
    "if __name__ == \"__main__\":                          \n",
    "  main()                                            # Calling the main function to start the program \n"
   ]
  },
  {
   "cell_type": "markdown",
   "id": "5370ebab-8376-40c3-9a35-814a2bdac893",
   "metadata": {},
   "source": [
    "Q18.  Write a function, is_vowel that returns the value true if a given character is a vowel, \r",
    " and otherwise returns false. \n",
    " Write another function main, in main() function accept a string from user and count number of vowels in that string."
   ]
  },
  {
   "cell_type": "code",
   "execution_count": 8,
   "id": "1eea4123-ca7f-4e0b-b68c-c78392894f78",
   "metadata": {},
   "outputs": [
    {
     "name": "stdin",
     "output_type": "stream",
     "text": [
      "Enter a String: This is Python Class\n"
     ]
    },
    {
     "name": "stdout",
     "output_type": "stream",
     "text": [
      "Does the String contains Vowels? , The answer is: True\n",
      "The Total number of Vowels in the Entered String is: 4\n"
     ]
    }
   ],
   "source": [
    "def is_vowel(string):                        # Defining function to check for vowels\n",
    "    a='aeiou'\n",
    "    if a.lower() in a:                       # checking if string has vowels or not\n",
    "        return True                          # returning true if vowel is present\n",
    "    else:\n",
    "        return False                         # returning false if vowel is not present\n",
    "\n",
    "def main():                                  # Defining another fucntion main to calculate no of vowels\n",
    "    string = input('Enter a String:')        # Taking user input\n",
    "    print('Does the String contains Vowels? , The answer is:',is_vowel(string))    # Checking for vovwels using first function and displaying output \n",
    "    count = 0                                                                      # Initialising count as 0\n",
    "    for i in string:                                                               # Iterating in string\n",
    "        if (i.lower()=='a' or i.lower()=='e'or i.lower()=='i'or i.lower()=='o' or i.lower()=='u'):        # Checking for vowels in each character of string\n",
    "            count+=1                          # incrementing count if vowel is found\n",
    "        else:\n",
    "            continue\n",
    "    print('The Total number of Vowels in the Entered String is:',count)\n",
    "\n",
    "if __name__ == \"__main__\":                          \n",
    "  main()                                      # Calling the main function to start the program \n"
   ]
  },
  {
   "cell_type": "markdown",
   "id": "69fcbc4f-b731-4b56-b901-4f5cd31e5fb8",
   "metadata": {},
   "source": [
    "Q19. Write a function named is_prime, which takes an integer as an argument and returns true \n",
    " if the argument is a prime number, or false otherwise. # Also, write the main function that displays prime numbers between 1 to 500."
   ]
  },
  {
   "cell_type": "code",
   "execution_count": 2,
   "id": "c849e141-da34-462d-b200-78320a9a6a0a",
   "metadata": {},
   "outputs": [
    {
     "name": "stdin",
     "output_type": "stream",
     "text": [
      "Enter an integer value: 19\n"
     ]
    },
    {
     "name": "stdout",
     "output_type": "stream",
     "text": [
      "Is the integer 19 a Prime Number ?, The answer is: True\n",
      "The Prime numbers between 1 & 500 are: [2, 3, 5, 7, 11, 13, 17, 19, 23, 29, 31, 37, 41, 43, 47, 53, 59, 61, 67, 71, 73, 79, 83, 89, 97, 101, 103, 107, 109, 113, 127, 131, 137, 139, 149, 151, 157, 163, 167, 173, 179, 181, 191, 193, 197, 199, 211, 223, 227, 229, 233, 239, 241, 251, 257, 263, 269, 271, 277, 281, 283, 293, 307, 311, 313, 317, 331, 337, 347, 349, 353, 359, 367, 373, 379, 383, 389, 397, 401, 409, 419, 421, 431, 433, 439, 443, 449, 457, 461, 463, 467, 479, 487, 491, 499]\n"
     ]
    }
   ],
   "source": [
    "def is_prime(num):                                    # Defining function to check for prime number\n",
    "    if num > 1:    \n",
    "        for i in range(2, (num//2)+1):                # Iterating from 2 to n // 2         \n",
    "            if (num % i) == 0:                        # If num is divisible by any number between 2 and n / 2, then it is not prime number \n",
    "                return False                          # Returing False if number is divisible by any other number then its not a prime number\n",
    "                break                                 # breaking the loop if number is not a prime number\n",
    "        else:\n",
    "            return True                               # Returing True if number is not divisible by any other number then its is a prime number\n",
    "    else:\n",
    "        return False\n",
    "\n",
    "def main():                                               # defining main function\n",
    "    integer = eval(input('Enter an integer value:'))      # Taking user input\n",
    "    print(f'Is the integer {integer} a Prime Number ?, The answer is: {is_prime(integer)}')    # Calling function to check for Even number\n",
    "    i=2                                               # Initalising i=1 for iteration use\n",
    "    output=[]                                         # Empty list to store values of even numbers\n",
    "    for num in range(2, 501):                         # Iterating from 2 to 501\n",
    "        if is_prime(num):                             # calling above function to check for to check for prime number\n",
    "            output.append(num)                        # appending to list to store prime number value\n",
    "    print('The Prime numbers between 1 & 500 are:',output)      \n",
    "\n",
    "if __name__ == \"__main__\":                          \n",
    "  main()                                      # Calling the main function to start the program \n"
   ]
  },
  {
   "cell_type": "markdown",
   "id": "89b6723a-12fa-4693-9d2d-e8f218ac4284",
   "metadata": {},
   "source": [
    "Q20.  Write a function in python to find the sum of the cube of elements in a list. \r",
    "The list is received as an argument to the function, in turn, the function must return the sum. \n",
    "Write the main function which invokes the above function."
   ]
  },
  {
   "cell_type": "code",
   "execution_count": 3,
   "id": "95b3d475-e7c2-4607-8f9a-aeefcef3a12c",
   "metadata": {},
   "outputs": [
    {
     "name": "stdin",
     "output_type": "stream",
     "text": [
      "Enter list of integers separated by ',':  1,2,3,4\n"
     ]
    },
    {
     "name": "stdout",
     "output_type": "stream",
     "text": [
      "The sum of cubes of the elements of the list entered is: 100\n"
     ]
    }
   ],
   "source": [
    "def cube_sum(lst_numbers):                             # Defining function to find cube       \n",
    "    sum_cube = 0                                       # Initalising sum=0 \n",
    "    for i in lst_numbers:                              # Iterating in elements of the list\n",
    "        sum_cube+=i**3                                 # calculating sum of cubes of elements of list \n",
    "    return sum_cube                                    # returning sum\n",
    "\n",
    "def main():\n",
    "    user_input = input(\"Enter list of integers separated by ',': \")        # Taking the user input list of integers\n",
    "    numbers = list(map(int, user_input.split(',')))                        # Converting the user input into a list of integers\n",
    "    print('The sum of cubes of the elements of the list entered is:',cube_sum(numbers))\n",
    "\n",
    "if __name__ == \"__main__\":                          \n",
    "  main()                                      # Calling the main function to start the program \n"
   ]
  },
  {
   "cell_type": "markdown",
   "id": "f7cf7214-35ba-49a4-8834-cd9effee1597",
   "metadata": {},
   "source": [
    "Q21.  Write the definition of a function zero_ending(scores) to add all those values in the list of scores, \n",
    " which are ending with zero and display the sum.\n",
    " For example: If the scores contain [200, 456, 300, 100, 234, 678] The sum should be displayed as 600"
   ]
  },
  {
   "cell_type": "code",
   "execution_count": 7,
   "id": "183777ff-ef2a-4c62-8a91-8febd610c4b9",
   "metadata": {},
   "outputs": [
    {
     "name": "stdin",
     "output_type": "stream",
     "text": [
      "Enter list of numbers separated by ',':  200, 456, 300, 100, 234, 678\n"
     ]
    },
    {
     "name": "stdout",
     "output_type": "stream",
     "text": [
      "The sum of values ending with zero of the list entered is: 600\n"
     ]
    }
   ],
   "source": [
    "def zero_ending(scores):                               # Defining function to find sum of values ending with zero\n",
    "    sum_zeros = 0                                      # Initalising sum_zeros=0\n",
    "    for i in scores:                                   # Iterating in elements of the list\n",
    "        if i%10==0:                                    # Checking if value is ending with zero or not\n",
    "            sum_zeros+=i                               # calculating sum of elements of list ending with zero\n",
    "    return sum_zeros\n",
    "\n",
    "def main():\n",
    "    user_input = input(\"Enter list of numbers separated by ',': \")        # Taking the user input list of integers\n",
    "    numbers = list(map(int, user_input.split(',')))                        # Converting the user input into a list of integers\n",
    "    print('The sum of values ending with zero of the list entered is:',zero_ending(numbers))\n",
    "\n",
    "if __name__ == \"__main__\":                          \n",
    "  main()                                      # Calling the main function to start the program \n"
   ]
  },
  {
   "cell_type": "markdown",
   "id": "2867021a-127d-42b9-9112-56848cdb8485",
   "metadata": {},
   "source": [
    "Q22.  Write a definition of a method count_now(places) to find and display those place names, in which there are more than 5 characters.\n",
    "\n",
    " For example :\n",
    " If the list places contains\n",
    " [\"DELHI\",\"LONDON\",\"PARIS\",\"NEW YORK\",\"DUBAI\"]\n",
    " The following should get displayed :\n",
    " LONDON\n",
    " NEW YORK"
   ]
  },
  {
   "cell_type": "code",
   "execution_count": 8,
   "id": "287da731-09cf-42b8-9168-a827aaaa32fb",
   "metadata": {},
   "outputs": [
    {
     "name": "stdin",
     "output_type": "stream",
     "text": [
      "Enter list of Places separated by ',':  DELHI,LONDON,PARIS,NEW YORK,DUBAI\n"
     ]
    },
    {
     "name": "stdout",
     "output_type": "stream",
     "text": [
      "The elements of the list entered which are greater than 5 characters is: \n",
      " ['LONDON', 'NEW YORK']\n"
     ]
    }
   ],
   "source": [
    "def count_now(places):                               # Defining function to count no of characters\n",
    "    output = []                                      # Initalising output empty list\n",
    "    for i in places:                                 # Iterating in elements of the list\n",
    "        if len(i)>5:                                 # Checking if length of element is more than 5\n",
    "            output.append(i)                         # appending in output list\n",
    "    return output\n",
    "\n",
    "def main():\n",
    "    user_input = input(\"Enter list of Places separated by ',': \")      # Taking the user input of places\n",
    "    places = list(map(str,user_input.split(',')))                      # Converting the user input into a list of places\n",
    "    print('The elements of the list entered which are greater than 5 characters is:','\\n',count_now(places))\n",
    "\n",
    "if __name__ == \"__main__\":                          \n",
    "  main()                                             # Calling the main function to start the program \n"
   ]
  },
  {
   "cell_type": "markdown",
   "id": "87c9cf4d-3427-4442-a142-14be211a14f6",
   "metadata": {},
   "source": [
    "Q23. Write a method in python to display the elements of list thrice if it is a number and display \n",
    " the element terminated with ‘#’ if it is not a number.\n",
    "\n",
    " For example, if the content of list is as follows :\n",
    " ThisList=[‘41’,‘DROND’,‘GIRIRAJ’, ‘13’,‘ZARA’]\n",
    " The output should be\n",
    " 414141\n",
    " DROND#\n",
    " GIRIRAJ#\n",
    " 131313\n",
    " ZARA#"
   ]
  },
  {
   "cell_type": "code",
   "execution_count": 9,
   "id": "b58aedc3-5d93-4f30-86f5-9346ebc3569a",
   "metadata": {},
   "outputs": [
    {
     "name": "stdin",
     "output_type": "stream",
     "text": [
      "Enter list of Places separated by ',':  41,DROND,GIRIRAJ,13,ZARA\n"
     ]
    },
    {
     "name": "stdout",
     "output_type": "stream",
     "text": [
      "414141\n",
      "DROND#\n",
      "GIRIRAJ#\n",
      "131313\n",
      "ZARA#\n"
     ]
    }
   ],
   "source": [
    "def list_elements(my_list):                                # Defining function \n",
    "    for item in my_list:       \n",
    "        try:                                               # Trying to convert the item to a number (int or float)\n",
    "            num = float(item)           \n",
    "            print(item * 3)                                # Printing the number thrice\n",
    "        except ValueError:                                 # if element is not an integer than adding '#' in the end\n",
    "            print(item + \"#\")\n",
    "\n",
    "def main():\n",
    "    user_input = input(\"Enter list of Places separated by ',': \")  # Taking the user input \n",
    "    ThisList = list(map(str,user_input.split(',')))                # Converting the user input into a list \n",
    "    list_elements(ThisList)\n",
    "\n",
    "if __name__ == \"__main__\":                          \n",
    "  main()                                                    # Calling the main function to start the program "
   ]
  },
  {
   "cell_type": "markdown",
   "id": "10326e28-f609-4140-a01c-25f999871432",
   "metadata": {},
   "source": [
    "Q24.  For a given list of values in descending order, write a method in python to search for a value with the help of Binary Search method. \n",
    "The method should return position of the value and should return -1 if the value not present in the list."
   ]
  },
  {
   "cell_type": "code",
   "execution_count": 1,
   "id": "77bfbb6e-dc61-4f4c-88e8-d0501a016450",
   "metadata": {},
   "outputs": [
    {
     "name": "stdin",
     "output_type": "stream",
     "text": [
      "Enter Integers in Decending order separated by ',':  100,90,80,70,60,50,40,30,20,10\n",
      "Enter value to be searched: 50\n"
     ]
    },
    {
     "name": "stdout",
     "output_type": "stream",
     "text": [
      "Value 50 found at Index position: 5\n"
     ]
    }
   ],
   "source": [
    "def binary_search_descending(lst, target):                    # Defining function    \n",
    "    low, high = 0, len(lst) - 1                               # dynamically assigning values to low=0 & high to length of string-1 \n",
    "\n",
    "    while low <= high:                                        # running while loop till low<=high\n",
    "        mid = (low + high) // 2                               # Carrying out floor division to optimise results\n",
    "        if lst[mid] == target:\n",
    "            return mid                                        # returning value of mid if mid==target value\n",
    "        elif lst[mid] < target:\n",
    "            high = mid - 1\n",
    "        else:\n",
    "            low = mid + 1  \n",
    "    return -1                                                 # returning -1 if value not found\n",
    "\n",
    "def main():\n",
    "    user_input = input(\"Enter Integers in Decending order separated by ',': \")  # Taking the user input \n",
    "    values = list(map(int,user_input.split(',')))             # Converting the user input into a list \n",
    "    target = int(input('Enter value to be searched:'))\n",
    "\n",
    "    result = binary_search_descending(values, target)\n",
    "\n",
    "    if result != -1:\n",
    "        print(f\"Value {target} found at Index position: {result}\")\n",
    "    else:\n",
    "        print(f\"Value {target} not found in the list\")\n",
    "\n",
    "if __name__ == \"__main__\":                          \n",
    "  main()                                                      # Calling the main function to start the program "
   ]
  },
  {
   "cell_type": "code",
   "execution_count": 2,
   "id": "59dca5dd-6635-4bb5-9af4-30710095420d",
   "metadata": {},
   "outputs": [
    {
     "data": {
      "text/plain": [
       "-1"
      ]
     },
     "execution_count": 2,
     "metadata": {},
     "output_type": "execute_result"
    }
   ],
   "source": [
    "binary_search_descending([100,90,80,70,60,50,40,30,20,10], 55)"
   ]
  },
  {
   "cell_type": "markdown",
   "id": "e52e16f2-9ab6-46ec-ab1d-411ac252b807",
   "metadata": {},
   "source": [
    "Q25.  Write a function half_and_half that takes in a list and change the list \n",
    " such that the elements of the second half are now in the first half.\n",
    "\n",
    " For example, if the size of list is even and content of list is as follows :\n",
    " my_liist = [10,20,30,40,50,60]\n",
    " The output should be\n",
    " [40,50,60,10,20,30]\n",
    " if the size of list is odd and content of list is as follows :\n",
    " my_liist = [10,20,30,40,50,60,70]\n",
    " The output should be\n",
    " [50,60,70,40,10,20,30]"
   ]
  },
  {
   "cell_type": "code",
   "execution_count": 4,
   "id": "0b84ef3e-0eee-44f4-b654-5dc63c393e61",
   "metadata": {},
   "outputs": [
    {
     "name": "stdin",
     "output_type": "stream",
     "text": [
      "Enter list of Integers separated by ',':  10, 20, 30, 40, 50, 60, 70, 80\n"
     ]
    },
    {
     "name": "stdout",
     "output_type": "stream",
     "text": [
      "The required output is: [50, 60, 70, 80, 10, 20, 30, 40]\n"
     ]
    }
   ],
   "source": [
    "def half_and_half(lst):                                     # Defining function              \n",
    "    n = len(lst)                                            # storing length of list as n\n",
    "    half = n // 2                                           # storing half length of list   \n",
    "    if n % 2 == 0:                                          # Checking if the list length is even\n",
    "        lst[:] = lst[half:] + lst[:half]                    # slicing the list and concatinating back second half first using indexing\n",
    "    else:                                                   # Going into else if the list length is odd\n",
    "        lst[:] = lst[half + 1:] + [lst[half]] + lst[:half]  # slicing the list and concatinating back second half first +1 using indexing\n",
    "\n",
    "    return lst                                              # returing new list for output\n",
    "\n",
    "\n",
    "def main():\n",
    "    user_input = input(\"Enter list of Integers separated by ',': \")    # Taking the user input \n",
    "    values = list(map(int,user_input.split(',')))                      # Converting the user input into a list \n",
    "    result = half_and_half(values)                                     # calling function to perform required operations on list\n",
    "    print('The required output is:',result)\n",
    "\n",
    "if __name__ == \"__main__\":                          \n",
    "  main()                                                     # Calling the main function to start the program \n"
   ]
  },
  {
   "cell_type": "code",
   "execution_count": 6,
   "id": "59248c02-923c-454f-b5a0-7bf1f7ac1eac",
   "metadata": {},
   "outputs": [
    {
     "data": {
      "text/plain": [
       "[50, 60, 70, 40, 10, 20, 30]"
      ]
     },
     "execution_count": 6,
     "metadata": {},
     "output_type": "execute_result"
    }
   ],
   "source": [
    "my_list = [10,20,30,40,50,60,70]\n",
    "half_and_half(my_list)"
   ]
  },
  {
   "cell_type": "markdown",
   "id": "64f9e4b6-912b-449a-a7b4-099d81cb0217",
   "metadata": {},
   "source": [
    "Q26. Write a function that accepts a dictionary as an argument. If the dictionary contains replicate values, return an empty dictionary, otherwise, return a new dictionary whose values are now the keys and whose keys are the values."
   ]
  },
  {
   "cell_type": "code",
   "execution_count": 7,
   "id": "603038c8-0e08-47aa-94ae-9c50d2d4cfd8",
   "metadata": {},
   "outputs": [
    {
     "name": "stdin",
     "output_type": "stream",
     "text": [
      "Enter keys separated by ',':  a,b,c,d,e,f,g\n",
      "Enter values separated by ',':  1,2,3,4,5,6,7\n"
     ]
    },
    {
     "name": "stdout",
     "output_type": "stream",
     "text": [
      "The required output is: {'1': 'a', '2': 'b', '3': 'c', '4': 'd', '5': 'e', '6': 'f', '7': 'g'}\n"
     ]
    }
   ],
   "source": [
    "def swap_keys_values(data):                               # defining function\n",
    "  if len(set(data.values())) != len(data):                # Check for duplicate values using set operations\n",
    "    return {}                                             # Return empty dictionary if duplicates exist\n",
    "  else:\n",
    "    return {value: key for key, value in data.items()}    # Swap keys and values (dictionary comprehension)\n",
    "\n",
    "def main():\n",
    "    user_input_keys = input(\"Enter keys separated by ',': \")        # Taking the user input of keys\n",
    "    user_input_values = input(\"Enter values separated by ',': \")    # Taking the user input of values\n",
    "    user_keys = user_input_keys.split(',')                          # splitting keys entered to store as separate element\n",
    "    user_values = user_input_values.split(',')                      # splitting values entered to store as separate element\n",
    "\n",
    "    user_dict = dict(zip(user_keys,user_values))                    # zipping keys and values elements and creating dictionary\n",
    "    print('The required output is:',swap_keys_values(user_dict))    # calling function to perform required operations\n",
    "\n",
    "if __name__ == \"__main__\":                          \n",
    "  main()                                                   # Calling the main function to start the program \n"
   ]
  },
  {
   "cell_type": "code",
   "execution_count": 9,
   "id": "d9010beb-e2b4-4ac2-98a6-793622c13658",
   "metadata": {},
   "outputs": [
    {
     "data": {
      "text/plain": [
       "{}"
      ]
     },
     "execution_count": 9,
     "metadata": {},
     "output_type": "execute_result"
    }
   ],
   "source": [
    "my_dict = {\"x\": 10, \"y\": 20, \"z\": 10}                     # taking duplicate value case\n",
    "swap_keys_values(my_dict)"
   ]
  },
  {
   "cell_type": "code",
   "execution_count": null,
   "id": "610d89bb-6e07-4252-b5c7-184d309544bc",
   "metadata": {},
   "outputs": [],
   "source": []
  }
 ],
 "metadata": {
  "kernelspec": {
   "display_name": "Python 3 (ipykernel)",
   "language": "python",
   "name": "python3"
  },
  "language_info": {
   "codemirror_mode": {
    "name": "ipython",
    "version": 3
   },
   "file_extension": ".py",
   "mimetype": "text/x-python",
   "name": "python",
   "nbconvert_exporter": "python",
   "pygments_lexer": "ipython3",
   "version": "3.11.7"
  }
 },
 "nbformat": 4,
 "nbformat_minor": 5
}
