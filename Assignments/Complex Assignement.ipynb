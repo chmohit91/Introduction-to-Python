{
 "cells": [
  {
   "cell_type": "markdown",
   "id": "b8f09db0-09c3-491d-bd15-aaa852700e4f",
   "metadata": {},
   "source": [
    "#LB_DSC_19thApril_WKDY_MR_2024\n",
    "\n",
    "Mohit Chaudhary 7011883015"
   ]
  },
  {
   "cell_type": "markdown",
   "id": "46c48e53-cae2-4ec8-87d0-050a64d3bdfb",
   "metadata": {},
   "source": [
    "Q1. Declare a complex number and store it in a variable.\n",
    "Check the type and print the id of the same."
   ]
  },
  {
   "cell_type": "code",
   "execution_count": 3,
   "id": "df80cce2-2fee-4662-8f66-5fe3aff80911",
   "metadata": {
    "tags": []
   },
   "outputs": [
    {
     "name": "stdout",
     "output_type": "stream",
     "text": [
      "The type of variable is: <class 'complex'>\n",
      "The id of variable is: 1930399528432\n"
     ]
    }
   ],
   "source": [
    "a = 25+15j       #Declaring a complex numeber and storing it in a variable. \n",
    "\n",
    "print('The type of variable is:',type(a))   #Checking the type of variable.\n",
    "print('The id of variable is:',id(a))       #Checking the id of variable"
   ]
  },
  {
   "cell_type": "markdown",
   "id": "b4eca2d4-a1d2-46b6-93ac-c806858ad1b3",
   "metadata": {},
   "source": [
    "Q2.  Q.  Arithmetic Operations on complex number\n",
    "Take two different complex numbers.\n",
    "Store them in two different variables.\n",
    "Do below operations on them:-\n",
    "Find sum of both numbers\n",
    "Find difference between them\n",
    "Find the product of both numbers.\n",
    "Find value after dividing first num with second number\n",
    "Find the result of the first num to the power of the second number."
   ]
  },
  {
   "cell_type": "code",
   "execution_count": 16,
   "id": "13e12454-855f-41e2-8723-74c715b3d0bb",
   "metadata": {
    "tags": []
   },
   "outputs": [
    {
     "name": "stdin",
     "output_type": "stream",
     "text": [
      "Enter any complex type number:  20+10j\n",
      "Enter another complex type number:  10+5j\n"
     ]
    },
    {
     "name": "stdout",
     "output_type": "stream",
     "text": [
      "sum of first and second value is (30+15j)\n",
      "Difference of first and second value is (10+5j)\n",
      "Product of first and second value is (150+200j)\n",
      "Division of first with second value is (2+0j)\n",
      "first value to the power of second value is (753245497723.408+2982827584595.662j)\n"
     ]
    }
   ],
   "source": [
    "a1 = complex(input('Enter any complex type number: '))      #Taking first complex number from user.\n",
    "a2 = complex(input('Enter another complex type number: '))  #Taking second complex number from user.\n",
    "\n",
    "print('sum of first and second value is', a1 + a2)                #Getting the sum of both values\n",
    "print('Difference of first and second value is', a1 - a2)         #Finding the differce between both values\n",
    "print('Product of first and second value is', a1 * a2)            #Finding the product of both values.\n",
    "print('Division of first with second value is',a1 / a2)         #dividing first value with second value\n",
    "print('first value to the power of second value is', a1 ** a2)    #first value to the power of second value."
   ]
  },
  {
   "cell_type": "markdown",
   "id": "db487f0f-fe1d-4756-bf9c-c79f87d4b825",
   "metadata": {},
   "source": [
    "Q3. Comparison Operation not applicable between instance of complex values.\n",
    "Object reusability concept is not applicable on complex number"
   ]
  },
  {
   "cell_type": "code",
   "execution_count": 19,
   "id": "358fd4c8-ea0e-4b0a-ad8d-e7bc1aeff538",
   "metadata": {
    "tags": []
   },
   "outputs": [
    {
     "name": "stdin",
     "output_type": "stream",
     "text": [
      "Enter any complex type number:  20+10j\n",
      "Enter another complex type number:  10+10j\n"
     ]
    },
    {
     "ename": "TypeError",
     "evalue": "'>' not supported between instances of 'complex' and 'complex'",
     "output_type": "error",
     "traceback": [
      "\u001b[1;31m---------------------------------------------------------------------------\u001b[0m",
      "\u001b[1;31mTypeError\u001b[0m                                 Traceback (most recent call last)",
      "Cell \u001b[1;32mIn[19], line 4\u001b[0m\n\u001b[0;32m      1\u001b[0m b1 \u001b[38;5;241m=\u001b[39m \u001b[38;5;28mcomplex\u001b[39m(\u001b[38;5;28minput\u001b[39m(\u001b[38;5;124m'\u001b[39m\u001b[38;5;124mEnter any complex type number: \u001b[39m\u001b[38;5;124m'\u001b[39m))      \u001b[38;5;66;03m#Taking first value from user.\u001b[39;00m\n\u001b[0;32m      2\u001b[0m b2 \u001b[38;5;241m=\u001b[39m \u001b[38;5;28mcomplex\u001b[39m(\u001b[38;5;28minput\u001b[39m(\u001b[38;5;124m'\u001b[39m\u001b[38;5;124mEnter another complex type number: \u001b[39m\u001b[38;5;124m'\u001b[39m))  \u001b[38;5;66;03m#Taking second value from user.\u001b[39;00m\n\u001b[1;32m----> 4\u001b[0m \u001b[38;5;28mprint\u001b[39m(\u001b[38;5;124m'\u001b[39m\u001b[38;5;124mIs first value Greater than second value:\u001b[39m\u001b[38;5;124m'\u001b[39m, b1 \u001b[38;5;241m>\u001b[39m b2)\n",
      "\u001b[1;31mTypeError\u001b[0m: '>' not supported between instances of 'complex' and 'complex'"
     ]
    }
   ],
   "source": [
    "b1 = complex(input('Enter any complex type number: '))      #Taking first value from user.\n",
    "b2 = complex(input('Enter another complex type number: '))  #Taking second value from user.\n",
    "\n",
    "print('Is first value Greater than second value:', b1 > b2)               #Greater than, '>'\n"
   ]
  },
  {
   "cell_type": "markdown",
   "id": "5c78b4bc-e5e5-4c7c-9b74-f4f776d74366",
   "metadata": {},
   "source": [
    "As we can observe that the comparison operation is not applicable between instances of complex"
   ]
  },
  {
   "cell_type": "markdown",
   "id": "44e0d379-0dd5-479d-a65f-322b395a9fbb",
   "metadata": {},
   "source": [
    "Let's check for Object reusiblity now,"
   ]
  },
  {
   "cell_type": "code",
   "execution_count": 24,
   "id": "1934c85a-82fe-4fa2-9329-9e8bfdc2f680",
   "metadata": {
    "tags": []
   },
   "outputs": [
    {
     "name": "stdout",
     "output_type": "stream",
     "text": [
      "The id of variable a is: 1930431365264\n",
      "The id of variable b is: 1930431365200\n"
     ]
    }
   ],
   "source": [
    "a = 10+20j\n",
    "b = 10+20j\n",
    "\n",
    "print('The id of variable a is:',id(a))\n",
    "print('The id of variable b is:',id(b))"
   ]
  },
  {
   "cell_type": "markdown",
   "id": "6cef1d90-a9a7-4d6d-b1ec-14f775efc14c",
   "metadata": {},
   "source": [
    "Id of complex numbers are different when the same value is assigned to two different variables because the memory reusibility is not applicable on complex datatypes"
   ]
  },
  {
   "cell_type": "markdown",
   "id": "801cea64-653d-4e13-9f8d-f5b51b62f0c6",
   "metadata": {},
   "source": [
    "Q4. Equality Operator\n",
    "Take two different complex numbers.\n",
    "Store them in two different variables.\n",
    "Equate them using equality operators (==, !=) Observe the output(return type should be boolean)"
   ]
  },
  {
   "cell_type": "code",
   "execution_count": 32,
   "id": "799b32f1-c047-4e01-bfaf-287f24379eee",
   "metadata": {
    "tags": []
   },
   "outputs": [
    {
     "name": "stdin",
     "output_type": "stream",
     "text": [
      "Enter any complex type number:  20+10j\n",
      "Enter another complex value type number:  10+10j\n"
     ]
    },
    {
     "name": "stdout",
     "output_type": "stream",
     "text": [
      "Checking if values are equal using == : False\n",
      "Checking if values are different using != : True\n"
     ]
    }
   ],
   "source": [
    "c1 = complex(input('Enter any complex type number: '))             #Taking first value from user.\n",
    "c2 = complex(input('Enter another complex value type number: '))   #Taking second value from user.\n",
    "print('Checking if values are equal using == :', c1 == c2)        #Checking if values are equal\n",
    "print('Checking if values are different using != :', c1 != c2)     #Checking if values are different"
   ]
  },
  {
   "cell_type": "markdown",
   "id": "593df670-2648-4697-9296-8601ee563535",
   "metadata": {},
   "source": [
    "As we can observe that the output we have obtained in all scenarios is Boolean (True/False), this is because Equality operator always gives us Either True or False"
   ]
  },
  {
   "cell_type": "markdown",
   "id": "89df17fe-bad3-485e-ad0f-a304b763cb79",
   "metadata": {
    "tags": []
   },
   "source": [
    "Q5.Logical operators\n",
    "Observe the output of below code\n",
    "Cross check the output manually\n",
    "print(10+20j and 20+30j)    #20+30j\n",
    "#----------------------------------------->Output is 20+30j\n",
    "print(0+0j and 20+30j)      #0+0j\n",
    "#----------------------------------------->Output is 0j\n",
    "print(20+30j and 0+0j)      #0+0j\n",
    "#----------------------------------------->Output is 0j\n",
    "print(0+0j and 0+0j)        #0+0j\n",
    "#----------------------------------------->Output is 0j\n",
    "print(10+20j or 20+30j)     #10+20j\n",
    "#----------------------------------------->Output is 10+20jprint(0+0j or 20+30j)       #20+30j\n",
    "#----------------------------------------->Output is 20+30j\n",
    "print(20+30j or 0+0j)       #20+30j\n",
    "#----------------------------------------->Output is 20+30j\n",
    "print(0+0j or 0+0j)         #0+0j\n",
    "#----------------------------------------->Output is 0j\n",
    "print(not 10+20j)           #False\n",
    "#----------------------------------------->Output is False\n",
    "print(not 0+0j)             #True\n",
    "#----------------------------------------->Output is TrueLogical operators\n",
    "Observe the output of below code\n",
    "Cross check the output manually\n",
    "print(10+20j and 20+30j)    #20+30j\n",
    "#----------------------------------------->Output is 20+30j\n",
    "print(0+0j and 20+30j)      #0+0j\n",
    "#----------------------------------------->Output is 0j\n",
    "print(20+30j and 0+0j)      #0+0j\n",
    "#----------------------------------------->Output is 0j\n",
    "print(0+0j and 0+0j)        #0+0j\n",
    "#----------------------------------------->Output is 0j\n",
    "print(10+20j or 20+30j)     #10+20j\n",
    "#----------------------------------------->Output is 10+20jprint(0+0j or 20+30j)       #20+30j\n",
    "#----------------------------------------->Output is 20+30j\n",
    "print(20+30j or 0+0j)       #20+30j\n",
    "#----------------------------------------->Output is 20+30j\n",
    "print(0+0j or 0+0j)         #0+0j\n",
    "#----------------------------------------->Output is 0j\n",
    "print(not 10+20j)           #False\n",
    "#----------------------------------------->Output is False\n",
    "print(not 0+0j)             #True\n",
    "#----------------------------------------->Output is True"
   ]
  },
  {
   "cell_type": "code",
   "execution_count": 35,
   "id": "215d7fab-5699-4a52-97e1-f3663828e02d",
   "metadata": {
    "tags": []
   },
   "outputs": [
    {
     "name": "stdout",
     "output_type": "stream",
     "text": [
      "(20+30j)\n",
      "0j\n",
      "0j\n",
      "0j\n",
      "(10+20j)\n",
      "(20+30j)\n",
      "(20+30j)\n",
      "0j\n",
      "False\n",
      "True\n"
     ]
    }
   ],
   "source": [
    "#Lets check the output manually:\n",
    "\n",
    "print(10+20j and 20+30j)    \n",
    "print(0+0j and 20+30j)     \n",
    "print(20+30j and 0+0j)      \n",
    "print(0+0j and 0+0j)        \n",
    "\n",
    "print(10+20j or 20+30j)     \n",
    "print(0+0j or 20+30j)       \n",
    "print(20+30j or 0+0j)       \n",
    "print(0+0j or 0+0j)         \n",
    "\n",
    "print(not 10+20j)          \n",
    "print(not 0+0j)             \n"
   ]
  },
  {
   "cell_type": "markdown",
   "id": "7e949b7c-1916-412f-988e-2aafb866f421",
   "metadata": {
    "tags": []
   },
   "source": [
    "Q6.What is the output of the expression inside the print statement. Cross check before running the program.\n",
    "a = 10+20j\n",
    "b = 10+20j\n",
    "print(a is b)       #False   #True or False?\n",
    "print(a is not b)   #True   #True or False?Q. What is the output of the expression inside the print statement. Cross check before running the program.\n",
    "a = 10+20j\n",
    "b = 10+20j\n",
    "print(a is b)       #False   #True or False?\n",
    "print(a is not b)   #True   #True or False?"
   ]
  },
  {
   "cell_type": "code",
   "execution_count": 38,
   "id": "33a46197-a940-4fdd-9e49-96f79932302e",
   "metadata": {
    "tags": []
   },
   "outputs": [
    {
     "name": "stdout",
     "output_type": "stream",
     "text": [
      "False\n",
      "True\n"
     ]
    }
   ],
   "source": [
    "#Lets check the output manually:\n",
    "\n",
    "a = 10+20j\n",
    "b = 10+20j\n",
    "\n",
    "print(a is b)       \n",
    "print(a is not b)   "
   ]
  },
  {
   "cell_type": "markdown",
   "id": "c848b8f9-274e-45ca-b0a9-ad7d6e8d01b5",
   "metadata": {},
   "source": [
    "Id of float values are different when the same value is assigned to two different variables because the memory reusibility is not applicable on float datatypes, but when only one value is stored and equality assignment (a=c) is done then both variables point to same memory address."
   ]
  },
  {
   "cell_type": "markdown",
   "id": "600da4ff-4463-465c-a09a-07fb8b952c98",
   "metadata": {},
   "source": [
    "Q7. Membership operation\n",
    "in, not in are two membership operators and it returns boolean value print('2.7' in 'Python2.7.8')                      #True print(10+20j in [10,10.20,10+20j,'Python'])        #True print(10+20j in (10,10.20,10+20j,'Python'))        #True print(30+40j in {1,20.30,30+40j})                  #True print(30+40j in {1:100, 2.3:200, 30+40j:300})      #True\n",
    "print(10 in range(20))                             #TrueMembership operation"
   ]
  },
  {
   "cell_type": "code",
   "execution_count": 41,
   "id": "a25bf7ae-15d3-4bf5-b5d5-652f8926f27a",
   "metadata": {
    "tags": []
   },
   "outputs": [
    {
     "name": "stdout",
     "output_type": "stream",
     "text": [
      "True\n",
      "True\n",
      "True\n",
      "True\n",
      "True\n",
      "True\n"
     ]
    }
   ],
   "source": [
    "#Lets check the output manually:\n",
    "\n",
    "print('2.7' in 'Python2.7.8')                       \n",
    "print(10+20j in [10,10.20,10+20j,'Python'])         \n",
    "print(10+20j in (10,10.20,10+20j,'Python'))        \n",
    "print(30+40j in {1,20.30,30+40j})                   \n",
    "print(30+40j in {1:100, 2.3:200, 30+40j:300})      \n",
    "print(10 in range(20))                                           "
   ]
  },
  {
   "cell_type": "code",
   "execution_count": null,
   "id": "b26cc832-d56c-4ff9-a63c-7296350120fe",
   "metadata": {},
   "outputs": [],
   "source": []
  }
 ],
 "metadata": {
  "kernelspec": {
   "display_name": "Python 3 (ipykernel)",
   "language": "python",
   "name": "python3"
  },
  "language_info": {
   "codemirror_mode": {
    "name": "ipython",
    "version": 3
   },
   "file_extension": ".py",
   "mimetype": "text/x-python",
   "name": "python",
   "nbconvert_exporter": "python",
   "pygments_lexer": "ipython3",
   "version": "3.11.5"
  }
 },
 "nbformat": 4,
 "nbformat_minor": 5
}
