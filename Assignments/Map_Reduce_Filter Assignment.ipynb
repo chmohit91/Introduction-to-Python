{
 "cells": [
  {
   "cell_type": "markdown",
   "id": "3d36854a-3b65-4efe-9f80-e84639522a87",
   "metadata": {},
   "source": [
    "LB_DSC_19thApril_WKDY_MR_2024\r\n",
    "\r\n",
    "Mohit Chaudhary 7011883015"
   ]
  },
  {
   "cell_type": "markdown",
   "id": "985e2095-4e97-4b6f-b9c5-62a412d43fe3",
   "metadata": {},
   "source": [
    "Q1. Write a Python program to triple all numbers of a given list of integers. Use Python map"
   ]
  },
  {
   "cell_type": "markdown",
   "id": "b09be46f-311a-40e3-9cce-e0e93624b3b2",
   "metadata": {},
   "source": [
    "#### Using function method"
   ]
  },
  {
   "cell_type": "code",
   "execution_count": 4,
   "id": "b8507a19-59b7-4011-8c46-f97c482c0a88",
   "metadata": {},
   "outputs": [
    {
     "name": "stdout",
     "output_type": "stream",
     "text": [
      "The list after tripling is: [3, 6, 9, 12, 15]\n"
     ]
    }
   ],
   "source": [
    "def triple_numbers(numbers):  \n",
    "    tripled = list(map(lambda x: x * 3, numbers))       # Using map to apply the lambda function to each element in the list\n",
    "    return tripled\n",
    "\n",
    "numbers = [1, 2, 3, 4, 5]\n",
    "tripled_numbers = triple_numbers(numbers)\n",
    "print('The list after tripling is:',tripled_numbers)\n"
   ]
  },
  {
   "cell_type": "markdown",
   "id": "dd2c155e-cd91-41a4-965f-e65a8825cf25",
   "metadata": {},
   "source": [
    "#### Alterate method"
   ]
  },
  {
   "cell_type": "code",
   "execution_count": 6,
   "id": "4c2c63a3-4aa1-40f9-87df-9b719e0640e5",
   "metadata": {},
   "outputs": [
    {
     "name": "stdout",
     "output_type": "stream",
     "text": [
      "The list after tripling is: [3, 6, 9, 12, 15]\n"
     ]
    }
   ],
   "source": [
    "numbers = [1, 2, 3, 4, 5]                              # list of integers\n",
    "\n",
    "tripled_numbers = list(map(lambda x: x * 3, numbers))  # Using map to triple each number in the list\n",
    "print('The list after tripling is:',tripled_numbers)"
   ]
  },
  {
   "cell_type": "markdown",
   "id": "98a12ba9-b0b4-4cda-908f-eb4e04b705e1",
   "metadata": {},
   "source": [
    "#### Using user defined list"
   ]
  },
  {
   "cell_type": "code",
   "execution_count": 7,
   "id": "d57e5700-77ec-4247-ae33-54d1890e51af",
   "metadata": {},
   "outputs": [
    {
     "name": "stdin",
     "output_type": "stream",
     "text": [
      "Enter a list of integers separated by ',':  1,9,15,10,12,25\n"
     ]
    },
    {
     "name": "stdout",
     "output_type": "stream",
     "text": [
      "The list after tripling is: [3, 27, 45, 30, 36, 75]\n"
     ]
    }
   ],
   "source": [
    "user_input = input(\"Enter a list of integers separated by ',': \")  # Taking the user input list of integers\n",
    "\n",
    "numbers = list(map(int, user_input.split(',')))                    # Converting the user input into a list of integers\n",
    "\n",
    "tripled_numbers = list(map(lambda x: x * 3, numbers))              # Tripling each number in the list \n",
    "print('The list after tripling is:',tripled_numbers)"
   ]
  },
  {
   "cell_type": "markdown",
   "id": "db555a8b-527b-4d30-94be-ab4504b6737d",
   "metadata": {},
   "source": [
    "Q2. Write a Python program to add three given lists using Python map and lambda"
   ]
  },
  {
   "cell_type": "code",
   "execution_count": 8,
   "id": "c80baf76-7188-4ab0-bd99-06e0e8092728",
   "metadata": {},
   "outputs": [
    {
     "name": "stdout",
     "output_type": "stream",
     "text": [
      "The output list after the sum of three list is: [18, 21, 24, 27, 30]\n"
     ]
    }
   ],
   "source": [
    "lst1 = [1,2,3,4,5]                               # Initialising list 1\n",
    "lst2 = [6,7,8,9,10]                              # Initialising list 2\n",
    "lst3 = [11,12,13,14,15]                          # Initialising list 3\n",
    "\n",
    "out_list = list(map((lambda x,y,z : x+y+z),lst1,lst2,lst3))          # Adding 3 lists using lambda and map \n",
    "print('The output list after the sum of three list is:',out_list)"
   ]
  },
  {
   "cell_type": "markdown",
   "id": "c14f4154-13a0-4c9d-92a1-d0d1352b6356",
   "metadata": {},
   "source": [
    "#### Using user defined list"
   ]
  },
  {
   "cell_type": "code",
   "execution_count": 9,
   "id": "28583e75-887a-4491-ad00-8afb515cc359",
   "metadata": {},
   "outputs": [
    {
     "name": "stdin",
     "output_type": "stream",
     "text": [
      "Enter First list of integers separated by ',':  1,2,3,4,5\n",
      "Enter Second list of integers separated by ',':  6,7,8,9,10\n",
      "Enter Third list of integers separated by ',':  11,12,13,14,15\n"
     ]
    },
    {
     "name": "stdout",
     "output_type": "stream",
     "text": [
      "The output list after the sum of three list is: [18, 21, 24, 27, 30]\n"
     ]
    }
   ],
   "source": [
    "user_input1 = input(\"Enter First list of integers separated by ',': \")   # Taking the first user input list of integers\n",
    "user_input2 = input(\"Enter Second list of integers separated by ',': \")  # Taking the second user input list of integers\n",
    "user_input3 = input(\"Enter Third list of integers separated by ',': \")   # Taking the third user input list of integers\n",
    "\n",
    "lst1 = list(map(int, user_input1.split(',')))                       # Converting the user input into a list of integers\n",
    "lst2 = list(map(int, user_input2.split(',')))                       # Converting the user input into a list of integers\n",
    "lst3 = list(map(int, user_input3.split(',')))                       # Converting the user input into a list of integers\n",
    "\n",
    "out_list = list(map((lambda x,y,z : x+y+z),lst1,lst2,lst3))          # Adding 3 lists using lambda and map \n",
    "print('The output list after the sum of three list is:',out_list)"
   ]
  },
  {
   "cell_type": "markdown",
   "id": "42eb2970-a386-4e60-9649-5a0aee27d29a",
   "metadata": {},
   "source": [
    "Q3. Write a Python program to add two given lists and find the difference between lists\n",
    "\n",
    "\"\"\"\n",
    "sample list\n",
    "nums1 = [6, 5, 3, 9]\n",
    "nums2 = [0, 1, 7, 7]\n",
    "\n",
    "\n",
    "output  - [(6, 6), (6, 4), (10, -4), (16, 2)]\n",
    "\n",
    "\"\"\""
   ]
  },
  {
   "cell_type": "code",
   "execution_count": 11,
   "id": "b2aea4d4-6dbd-412e-9dbc-b29a271990f3",
   "metadata": {},
   "outputs": [
    {
     "name": "stdout",
     "output_type": "stream",
     "text": [
      "The required output is: [(6, 6), (6, 4), (10, -4), (16, 2)]\n"
     ]
    }
   ],
   "source": [
    "nums1 = [6, 5, 3, 9]                                   # Initialising list 1\n",
    "nums2 = [0, 1, 7, 7]                                   # Initialising list 2\n",
    "\n",
    "add_1 = tuple(map((lambda x,y : x+y),nums1,nums2))     # Adding both lists and stroring as tuple\n",
    "sub_1 = tuple(map((lambda x,y : x-y),nums1,nums2))     # Subtracting list2 from list1 and storing as tuple\n",
    "\n",
    "out_list = list(zip(add_1,sub_1))                      # zipping both tuple together and storing as list\n",
    "print('The required output is:',out_list)"
   ]
  },
  {
   "cell_type": "markdown",
   "id": "a432e4b7-2ec8-4e19-8c91-5f96231104cf",
   "metadata": {},
   "source": [
    "#### Using user defined list"
   ]
  },
  {
   "cell_type": "code",
   "execution_count": 12,
   "id": "54075389-1a02-4211-8e0d-48487bbbc0e2",
   "metadata": {},
   "outputs": [
    {
     "name": "stdin",
     "output_type": "stream",
     "text": [
      "Enter First list of integers separated by ',':  6,5,3,9\n",
      "Enter Second list of integers separated by ',':  0,1,7,7\n"
     ]
    },
    {
     "name": "stdout",
     "output_type": "stream",
     "text": [
      "The required output is: [(6, 6), (6, 4), (10, -4), (16, 2)]\n"
     ]
    }
   ],
   "source": [
    "user_input1 = input(\"Enter First list of integers separated by ',': \")   # Taking the first user input list of integers\n",
    "user_input2 = input(\"Enter Second list of integers separated by ',': \")  # Taking the second user input list of integers\n",
    "\n",
    "nums1 = list(map(int, user_input1.split(',')))                       # Converting the user input into a list of integers\n",
    "nums2 = list(map(int, user_input2.split(',')))                       # Converting the user input into a list of integers\n",
    "\n",
    "add_1 = tuple(map((lambda x,y : x+y),nums1,nums2))     # Adding both lists and stroring as tuple\n",
    "sub_1 = tuple(map((lambda x,y : x-y),nums1,nums2))     # Subtracting list2 from list1 and storing as tuple\n",
    "\n",
    "out_list = list(zip(add_1,sub_1))                      # zipping both tuple together and storing as list\n",
    "print('The required output is:',out_list)"
   ]
  },
  {
   "cell_type": "markdown",
   "id": "333bf887-41c4-4caf-bfd1-a3aeb011dde7",
   "metadata": {},
   "source": [
    "Q4. Write a Python program to convert all the characters in uppercase \n",
    " and lowercase and eliminate duplicate letters from a given sequence\n",
    "a = 'this is PYTHONS class'"
   ]
  },
  {
   "cell_type": "code",
   "execution_count": 15,
   "id": "28f952b5-853d-44c5-b78e-1b994e1fbbe9",
   "metadata": {},
   "outputs": [
    {
     "name": "stdout",
     "output_type": "stream",
     "text": [
      "Required Uppercase string with no duplicates: THIS PYONCLA\n",
      "Required Lowercase string with no duplicates: this pyoncla\n"
     ]
    }
   ],
   "source": [
    "a = 'this is PYTHONS class'         # Taking the user input\n",
    "\n",
    "# Converting the string to uppercase and eliminating duplicate letters by making set \n",
    "upper_output = ''.join(map(lambda x: x.upper(), sorted(set(a.upper()), key=a.upper().index)))\n",
    "\n",
    "# Converting the string to lowercase and eliminating duplicate letters by making set \n",
    "lower_output = ''.join(map(lambda x: x.lower(), sorted(set(a.lower()), key=a.lower().index)))\n",
    "\n",
    "print(\"Required Uppercase string with no duplicates:\", upper_output)\n",
    "print(\"Required Lowercase string with no duplicates:\", lower_output)\n"
   ]
  },
  {
   "cell_type": "markdown",
   "id": "3f49460a-27a6-408b-92c7-b91e6080bd61",
   "metadata": {},
   "source": [
    "#### Using user defined string"
   ]
  },
  {
   "cell_type": "code",
   "execution_count": 16,
   "id": "53303ff6-7e79-4ded-87c7-8d4343905b7f",
   "metadata": {},
   "outputs": [
    {
     "name": "stdin",
     "output_type": "stream",
     "text": [
      "Enter a string: Python is a programming language\n"
     ]
    },
    {
     "name": "stdout",
     "output_type": "stream",
     "text": [
      "Required Uppercase string with no duplicates: PYTHON ISARGMLUE\n",
      "Required Lowercase string with no duplicates: python isargmlue\n"
     ]
    }
   ],
   "source": [
    "a = input('Enter a string:')\n",
    "\n",
    "# Converting the string to uppercase and eliminating duplicate letters by making set \n",
    "upper_output = ''.join(map(lambda x: x.upper(), sorted(set(a.upper()), key=a.upper().index)))\n",
    "\n",
    "# Converting the string to lowercase and eliminating duplicate letters by making set \n",
    "lower_output = ''.join(map(lambda x: x.lower(), sorted(set(a.lower()), key=a.lower().index)))\n",
    "\n",
    "print(\"Required Uppercase string with no duplicates:\", upper_output)\n",
    "print(\"Required Lowercase string with no duplicates:\", lower_output)\n"
   ]
  },
  {
   "cell_type": "markdown",
   "id": "858d2f18-3481-46ad-8c91-c05fc30b2777",
   "metadata": {},
   "source": [
    "Q5.Filter out the fruits that start with A "
   ]
  },
  {
   "cell_type": "code",
   "execution_count": 17,
   "id": "c706ebed-5f0b-440d-bca3-e699d413abf7",
   "metadata": {},
   "outputs": [
    {
     "name": "stdout",
     "output_type": "stream",
     "text": [
      "Required Fruits which are starting from 'A' are: ['Apple', 'Avocado', 'Apricot']\n"
     ]
    }
   ],
   "source": [
    "fruits = ['Apple','Grapefruit','Persimmon','Banana','Peach','Avocado','Cantaloupe','Orange','Plum','Honeydew','Melon','Apricot','Mango','Cherry','Blackberry','Pineapple','Pear','Kiwifruit','Watermelon','Grape','Mulberry']\n",
    "\n",
    "out_list = list(filter((lambda x : x[0].lower()=='a'),fruits))         # filtering elements in list fruits using filter\n",
    "print(\"Required Fruits which are starting from 'A' are:\", out_list)"
   ]
  },
  {
   "cell_type": "markdown",
   "id": "84a3f4e7-ce0f-4714-94dc-d8ea2f5f24e5",
   "metadata": {},
   "source": [
    "Q6. Filter out the positve number from a list"
   ]
  },
  {
   "cell_type": "code",
   "execution_count": 5,
   "id": "b7d5d48a-509b-4919-9c10-46c271742743",
   "metadata": {},
   "outputs": [
    {
     "name": "stdout",
     "output_type": "stream",
     "text": [
      "The positive numbers in the list are: [1, 2, 3, 5]\n"
     ]
    }
   ],
   "source": [
    "numbers = [1, 2, 3, -4, 5]                                             # list of integers\n",
    "positive_numbers = list(map(lambda x: x if x > 0 else None, numbers))  # Checking for positive numbers and assigning None to negative values\n",
    "positive_numbers = [x for x in positive_numbers if x is not None]      # Taking out non none values to display\n",
    "print('The positive numbers in the list are:',positive_numbers)"
   ]
  },
  {
   "cell_type": "markdown",
   "id": "cc009f92-5506-4eff-8550-92abdd5f5b25",
   "metadata": {},
   "source": [
    "#### Using user defined string"
   ]
  },
  {
   "cell_type": "code",
   "execution_count": 8,
   "id": "f8eea947-4360-4d51-b8a8-da7306ba103c",
   "metadata": {},
   "outputs": [
    {
     "name": "stdin",
     "output_type": "stream",
     "text": [
      "Enter list of integers separated by ',':  1,2,3,9,17,-50,-12,14,1,-5,-10\n"
     ]
    },
    {
     "name": "stdout",
     "output_type": "stream",
     "text": [
      "The positive numbers in the list are: [1, 2, 3, 9, 17, 14, 1]\n"
     ]
    }
   ],
   "source": [
    "user_input = input(\"Enter list of integers separated by ',': \")        # Taking the user input list of integers\n",
    "\n",
    "numbers = list(map(int, user_input.split(',')))                        # Converting the user input into a list of integers\n",
    "\n",
    "positive_numbers = list(map(lambda x: x if x > 0 else None, numbers))  # Checking for positive numbers and assigning None to negative values\n",
    "positive_numbers = [x for x in positive_numbers if x is not None]      # Taking out non none values to display\n",
    "\n",
    "print('The positive numbers in the list are:',positive_numbers)"
   ]
  },
  {
   "cell_type": "markdown",
   "id": "791d60fa-35ea-4e71-a7f5-891513179ad1",
   "metadata": {},
   "source": [
    "Q7. filter out the multiples of 3 and 5 from a list"
   ]
  },
  {
   "cell_type": "code",
   "execution_count": 7,
   "id": "d859db3c-a19f-452e-9640-3b0b4dd61c9c",
   "metadata": {},
   "outputs": [
    {
     "name": "stdout",
     "output_type": "stream",
     "text": [
      "The numbers who are multiples of 3 in the list are: [12, 15]\n",
      "The numbers who are multiples of 5 in the list are: [35, 15]\n"
     ]
    }
   ],
   "source": [
    "# for multiples of 3:\n",
    "numbers = [12, 22, 35, -14, 15]                                             # list of integers\n",
    "muliple_3 = list(map(lambda x: x if x%3==0 else None, numbers))        # Checking for numbers divisible by 3 and assigning None to other values\n",
    "num_by_3 = [x for x in muliple_3 if x is not None]                     # Taking out non none values to display\n",
    "print('The numbers who are multiples of 3 in the list are:',num_by_3)\n",
    "\n",
    "# for multiples of 5:\n",
    "numbers = [12, 22, 35, -14, 15]                                             # list of integers\n",
    "muliple_5 = list(map(lambda x: x if x%5==0 else None, numbers))        # Checking for numbers divisible by 3 and assigning None to other values\n",
    "num_by_5 = [x for x in muliple_5 if x is not None]                     # Taking out non none values to display\n",
    "print('The numbers who are multiples of 5 in the list are:',num_by_5)\n"
   ]
  },
  {
   "cell_type": "markdown",
   "id": "2a05cc50-1603-40e4-9c2d-ad79d5387efd",
   "metadata": {},
   "source": [
    "#### Using user defined string"
   ]
  },
  {
   "cell_type": "code",
   "execution_count": 9,
   "id": "35d10540-0a86-4368-85e8-316ac076f855",
   "metadata": {},
   "outputs": [
    {
     "name": "stdin",
     "output_type": "stream",
     "text": [
      "Enter list of integers separated by ',':  1,2,3,9,17,-50,-12,14,1,-5,-10,25,-15,20,-21\n"
     ]
    },
    {
     "name": "stdout",
     "output_type": "stream",
     "text": [
      "The numbers who are multiples of 3 in the list are: [3, 9, -12, -15, -21]\n",
      "The numbers who are multiples of 5 in the list are: [-50, -5, -10, 25, -15, 20]\n"
     ]
    }
   ],
   "source": [
    "# for multiples of 3:\n",
    "user_input = input(\"Enter list of integers separated by ',': \")        # Taking the user input list of integers\n",
    "\n",
    "numbers = list(map(int, user_input.split(',')))                        # Converting the user input into a list of integers\n",
    "\n",
    "muliple_3 = list(map(lambda x: x if x%3==0 else None, numbers))        # Checking for numbers divisible by 3 and assigning None to other values\n",
    "num_by_3 = [x for x in muliple_3 if x is not None]                     # Taking out non none values to display\n",
    "print('The numbers who are multiples of 3 in the list are:',num_by_3)\n",
    "\n",
    "# for multiples of 5:\n",
    "\n",
    "muliple_5 = list(map(lambda x: x if x%5==0 else None, numbers))        # Checking for numbers divisible by 3 and assigning None to other values\n",
    "num_by_5 = [x for x in muliple_5 if x is not None]                     # Taking out non none values to display\n",
    "print('The numbers who are multiples of 5 in the list are:',num_by_5)\n"
   ]
  },
  {
   "cell_type": "markdown",
   "id": "4169754b-6a84-46f9-86da-6a816ff1556b",
   "metadata": {},
   "source": [
    "Q8. find the max string using reuduce function"
   ]
  },
  {
   "cell_type": "code",
   "execution_count": 10,
   "id": "cdda3c75-68b9-4ded-b544-2df609d9c7a3",
   "metadata": {},
   "outputs": [
    {
     "name": "stdout",
     "output_type": "stream",
     "text": [
      "The longest string is: elderberry\n"
     ]
    }
   ],
   "source": [
    "from functools import reduce\n",
    "\n",
    "strings = ['apple', 'banana', 'cherry', 'date', 'elderberry', 'fig', 'grape']    # List of strings\n",
    "\n",
    "c = reduce((lambda a,b : a if len(a)>len(b) else b) , strings)                   # finding longest string using reduce\n",
    "print(f\"The longest string is: {c}\")\n"
   ]
  },
  {
   "cell_type": "markdown",
   "id": "d355d89d-d15f-4393-948c-d3aeff38a41e",
   "metadata": {},
   "source": [
    "Q9. # find the mean , max and min of a given list using reduce function"
   ]
  },
  {
   "cell_type": "code",
   "execution_count": 12,
   "id": "16ea0ccd-1e03-40e1-ad94-d2516c28c9ca",
   "metadata": {},
   "outputs": [
    {
     "name": "stdout",
     "output_type": "stream",
     "text": [
      "The mean of the list is: 14.0\n",
      "The minimum of the list is: -14\n",
      "The maximum of the list is: 35\n"
     ]
    }
   ],
   "source": [
    "from functools import reduce\n",
    "\n",
    "numbers = [12, 22, 35, -14, 15]                                   # List of integers\n",
    "\n",
    "total_sum = reduce(lambda a, b: a + b, numbers)                   # Use reduce to sum the numbers\n",
    "min_num = reduce(lambda a, b: a if a < b else b, numbers)         # Use reduce to find min of the numbers\n",
    "max_num = reduce(lambda a, b: a if a > b else b, numbers)         # Use reduce to find max of the numbers\n",
    "\n",
    "mean_num = total_sum / len(numbers)                               # Calculating the mean\n",
    "\n",
    "print(f\"The mean of the list is: {mean_num}\")\n",
    "print(f\"The minimum of the list is: {min_num}\")\n",
    "print(f\"The maximum of the list is: {max_num}\")"
   ]
  },
  {
   "cell_type": "code",
   "execution_count": 14,
   "id": "765ab59e-eb22-413f-b85d-96aed12c5d77",
   "metadata": {},
   "outputs": [
    {
     "name": "stdin",
     "output_type": "stream",
     "text": [
      "Enter list of integers separated by ',':  1,2,3,9,17,50,12,14,1,5,10,25,15,20,21\n"
     ]
    },
    {
     "name": "stdout",
     "output_type": "stream",
     "text": [
      "The mean of the list is: 13.666666666666666\n",
      "The minimum of the list is: 1\n",
      "The maximum of the list is: 50\n"
     ]
    }
   ],
   "source": [
    "from functools import reduce\n",
    "\n",
    "user_input = input(\"Enter list of integers separated by ',': \")   # Taking the user input list of integers\n",
    "\n",
    "numbers = list(map(int, user_input.split(',')))                   # Converting the user input into a list of integers\n",
    "\n",
    "total_sum = reduce(lambda a, b: a + b, numbers)                   # Use reduce to sum the numbers\n",
    "min_num = reduce(lambda a, b: a if a < b else b, numbers)         # Use reduce to find min of the numbers\n",
    "max_num = reduce(lambda a, b: a if a > b else b, numbers)         # Use reduce to find max of the numbers\n",
    "\n",
    "mean_num = total_sum / len(numbers)                               # Calculating the mean\n",
    "\n",
    "print(f\"The mean of the list is: {mean_num}\")\n",
    "print(f\"The minimum of the list is: {min_num}\")\n",
    "print(f\"The maximum of the list is: {max_num}\")"
   ]
  },
  {
   "cell_type": "code",
   "execution_count": null,
   "id": "d02da687-e84d-4f46-b058-18469f637ec5",
   "metadata": {},
   "outputs": [],
   "source": []
  }
 ],
 "metadata": {
  "kernelspec": {
   "display_name": "Python 3 (ipykernel)",
   "language": "python",
   "name": "python3"
  },
  "language_info": {
   "codemirror_mode": {
    "name": "ipython",
    "version": 3
   },
   "file_extension": ".py",
   "mimetype": "text/x-python",
   "name": "python",
   "nbconvert_exporter": "python",
   "pygments_lexer": "ipython3",
   "version": "3.11.7"
  }
 },
 "nbformat": 4,
 "nbformat_minor": 5
}
