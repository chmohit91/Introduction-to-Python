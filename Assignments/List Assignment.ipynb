{
 "cells": [
  {
   "cell_type": "markdown",
   "id": "5f4bd13b-9bc0-4a98-a2e1-253ca38ed118",
   "metadata": {},
   "source": [
    "LB_DSC_19thApril_WKDY_MR_2024\n",
    "\n",
    "Mohit Chaudhary 7011883015"
   ]
  },
  {
   "cell_type": "markdown",
   "id": "fdfe3854-3060-4926-b21d-c36f60d7bf9b",
   "metadata": {},
   "source": [
    "Q1. Write a Python program to find the sum of all elements in a list using loop.\n",
    "#Input:- [10,20,30,40]\n",
    "#Output:- 100\n"
   ]
  },
  {
   "cell_type": "code",
   "execution_count": 9,
   "id": "019ba2de-72d7-4873-a1d1-d30d7158b59a",
   "metadata": {
    "tags": []
   },
   "outputs": [
    {
     "name": "stdout",
     "output_type": "stream",
     "text": [
      "Sum of the elements of the list is:  100\n"
     ]
    }
   ],
   "source": [
    "lst = [10,20,30,40]       # Defining list\n",
    "sum_lst=0                 # Initialising sum of list=0\n",
    "for i in lst:             # Iterating in list defined lst\n",
    "    sum_lst+=i            # adding elements of the list to find the sum\n",
    "print('Sum of the elements of the list is: ',sum_lst)"
   ]
  },
  {
   "cell_type": "markdown",
   "id": "07d9fb0b-33b6-44fa-b533-16da2760ac2b",
   "metadata": {},
   "source": [
    "Q2.Write a Python program to find the multiplication of all elements in a list using loop.\n",
    "#Input:- [10,20,30,40]\n",
    "#Output:- 240000"
   ]
  },
  {
   "cell_type": "code",
   "execution_count": 16,
   "id": "0917f8bb-eaf9-45d7-83ab-9eba5e309fb0",
   "metadata": {
    "tags": []
   },
   "outputs": [
    {
     "name": "stdout",
     "output_type": "stream",
     "text": [
      "Multiplication of the elements of the list is:  240000\n"
     ]
    }
   ],
   "source": [
    "lst = [10,20,30,40]       # Defining list\n",
    "mul_lst=1                 # Initialising value = 1\n",
    "for i in lst:             # Iterating in list defined lst\n",
    "    mul_lst*=i            # multiplying elements of the list to find the multiplication\n",
    "print('Multiplication of the elements of the list is: ',mul_lst)"
   ]
  },
  {
   "cell_type": "markdown",
   "id": "1fc80434-e697-44af-a145-59eaa299a9a3",
   "metadata": {},
   "source": [
    "Q3. Write a Python program to find the largest number from a list using loop.\n",
    "#Input:- [10,100,2321, 1,200,2]\n",
    "#Output:- 2321"
   ]
  },
  {
   "cell_type": "code",
   "execution_count": 23,
   "id": "7489d1a4-53b0-4590-9daf-36c80b370b55",
   "metadata": {
    "tags": []
   },
   "outputs": [
    {
     "name": "stdout",
     "output_type": "stream",
     "text": [
      "The largest number in list is:  2321\n"
     ]
    }
   ],
   "source": [
    "lst = [10,100,2321,1,200,2]        # Defining list\n",
    "largest=lst[0]                     # Initialising greatest number = 0\n",
    "for i in lst:                      # Iterating in list defined lst\n",
    "   if i > largest:                 # Checking if i is greater than largest\n",
    "    largest=i                      # Storing largest equal to i\n",
    "print('The largest number in list is: ',largest)"
   ]
  },
  {
   "cell_type": "markdown",
   "id": "7be8d8f5-a6d7-4e5b-80d2-520ae08205b8",
   "metadata": {},
   "source": [
    "Q4. Write a Python program to find the smallest number from a list using loop.\n",
    "#Input:- [10,100,2321, 1,200,2]\n",
    "#Output:- 1"
   ]
  },
  {
   "cell_type": "code",
   "execution_count": 32,
   "id": "26811910-8247-40f8-91b1-96246215646a",
   "metadata": {
    "tags": []
   },
   "outputs": [
    {
     "name": "stdout",
     "output_type": "stream",
     "text": [
      "The Smallest number in list is:  1\n"
     ]
    }
   ],
   "source": [
    "lst = [10,100,2321,1,200,2]        # Defining list\n",
    "smallest=lst[0]                    # Initialising greatest number = 0\n",
    "for i in lst:                      # Iterating in list defined as lst\n",
    "   if i < smallest:                # Checking if i is smaller than largest\n",
    "    smallest=i                     # Storing smallest equal to i\n",
    "print('The Smallest number in list is: ',smallest)"
   ]
  },
  {
   "cell_type": "markdown",
   "id": "9930f8d9-8a70-43e1-90d3-8eb41641ec78",
   "metadata": {},
   "source": [
    "Q5. Write a Python program which takes a list of numbers as input and prints a new list after removing even numbers from it.\n",
    "#Input:- [10,21,22,98,87,45,33,1,2,100]\n",
    "#Output:- [21,87,45,33,1]"
   ]
  },
  {
   "cell_type": "code",
   "execution_count": 37,
   "id": "162f976f-808c-42d9-a73a-2cadc0ad479b",
   "metadata": {
    "tags": []
   },
   "outputs": [
    {
     "name": "stdout",
     "output_type": "stream",
     "text": [
      "New list after removing even number is:  [21, 87, 45, 33, 1]\n"
     ]
    }
   ],
   "source": [
    "lst = [10,21,22,98,87,45,33,1,2,100]        # Defining list\n",
    "new_lst=[]                                  # Defining new empty list\n",
    "for i in lst:                               # Iterating in list defined as lst\n",
    "    if i%2!=0:                              # Checking if element of the list is a odd number \n",
    "        new_lst.append(i)                   # appending values in empty list(new_lst)\n",
    "print('New list after removing even number is: ',new_lst)"
   ]
  },
  {
   "cell_type": "markdown",
   "id": "69ca2ba1-01da-4314-a128-07fadf2d0a43",
   "metadata": {},
   "source": [
    "Q6.Write a Python program to count the number of strings having length more than 2 and are palindrome in a list using loop.\n",
    "#Input:- ['ab', 'abc', 'aba', 'xyz', '1991']\n",
    "#Output:- 2"
   ]
  },
  {
   "cell_type": "code",
   "execution_count": 41,
   "id": "c4272d10-8ae2-4dd5-a1ee-fd5741f058ac",
   "metadata": {
    "tags": []
   },
   "outputs": [
    {
     "name": "stdout",
     "output_type": "stream",
     "text": [
      "The number of strings having length more than 2 and are palindrome is:  2\n"
     ]
    }
   ],
   "source": [
    "lst = ['ab', 'abc', 'aba', 'xyz', '1991']   # Defining list\n",
    "count=0                                     # Initializing count = 0\n",
    "for i in lst:                               # Iterating in list defined as lst\n",
    "    if len(i) > 2 and i==i[::-1]:           # Checking if element of the list is of length>2 and Palindrom\n",
    "        count+=1\n",
    "print('The number of strings having length more than 2 and are palindrome is: ',count)       "
   ]
  },
  {
   "cell_type": "markdown",
   "id": "09ac123b-6d14-4998-a68e-a5f33bf0588f",
   "metadata": {},
   "source": [
    "Q7. Write a Python program to sort a list in ascending order using loop.\n",
    "#Input:- [100,10,1,298,65,483,49876,2,80,9,9213]\n",
    "#Output:- [1,2,9,10,65,80,100,298,483,9213,49876]\n"
   ]
  },
  {
   "cell_type": "code",
   "execution_count": 47,
   "id": "fcf096f2-ed7a-485f-b507-1eb3c1aa0ad1",
   "metadata": {
    "tags": []
   },
   "outputs": [
    {
     "name": "stdout",
     "output_type": "stream",
     "text": [
      "The sorted list in ascending order is:  [1, 2, 9, 10, 65, 80, 100, 298, 483, 9213, 49876]\n"
     ]
    }
   ],
   "source": [
    "lst = [100, 10, 1, 298, 65, 483, 49876, 2, 80, 9, 9213]     # defining input list\n",
    "n = len(lst)                                                # storing length of string in n\n",
    "greater = True                                              # initializing greater as true\n",
    "\n",
    "while greater:                                              # Looping in list lst\n",
    "    greater = False\n",
    "    for i in range(1, n):                                   # looping in range of lenght of string\n",
    "        if lst[i-1] > lst[i]:                               # checking if previous element is greater than current element\n",
    "            lst[i-1], lst[i] = lst[i], lst[i-1]             # swapping and storing values in acending order\n",
    "            greater = True\n",
    "    n -= 1\n",
    "\n",
    "print('The sorted list in ascending order is: ', lst)  "
   ]
  },
  {
   "cell_type": "markdown",
   "id": "51ab9a3a-185d-4d74-b1c6-05f7d5cc5ecf",
   "metadata": {
    "tags": []
   },
   "source": [
    "Q8. Write a Python program to get a sorted list in increasing order of last element in each tuple in a given list using loop.\n",
    "#Input:- [(5,4),(9,1),(2,3),(5,9),(7,6),(5,5)]\n",
    "#output:- [(9,1),(2,3),(5,4),(5,5),(7,6),(5,9)]"
   ]
  },
  {
   "cell_type": "code",
   "execution_count": 53,
   "id": "aa53b4f6-c582-4fc4-a45a-57830a61e2e4",
   "metadata": {
    "tags": []
   },
   "outputs": [
    {
     "name": "stdout",
     "output_type": "stream",
     "text": [
      "The sorted list in ascending order is:  [(9, 1), (2, 3), (5, 4), (5, 5), (7, 6), (5, 9)]\n"
     ]
    }
   ],
   "source": [
    "lst = [(5,4),(9,1),(2,3),(5,9),(7,6),(5,5)]                 # defining input list of tuples\n",
    "n = len(lst)                                                # storing length of string in n\n",
    "greater = True                                              # initializing greater as true\n",
    "\n",
    "while greater:                                              # Looping in list lst\n",
    "    greater = False\n",
    "    for i in range(1, n):                                   # looping in range of lenght of string\n",
    "        if lst[i-1][1] > lst[i][1]:                         # checking if previous element is greater than current element\n",
    "            lst[i-1], lst[i] = lst[i], lst[i-1]             # swapping and storing values in acending order based on last element in tuple\n",
    "            greater = True\n",
    "    n -= 1\n",
    "\n",
    "print('The sorted list in ascending order is: ', lst)"
   ]
  },
  {
   "cell_type": "markdown",
   "id": "99881e49-448e-488f-8593-2bf8db05b75e",
   "metadata": {},
   "source": [
    "Q9. Write a Python program to check a list is empty or not?\n",
    "#Input:- []\n",
    "#Output:- List is empty\n",
    "#Input:- [10,20,30]\n",
    "#Output:- List is not empty"
   ]
  },
  {
   "cell_type": "code",
   "execution_count": 60,
   "id": "d924eac6-9b1b-4e6a-8744-0002ef49e4cb",
   "metadata": {
    "tags": []
   },
   "outputs": [
    {
     "name": "stdin",
     "output_type": "stream",
     "text": [
      "Enter a list:  []\n"
     ]
    },
    {
     "name": "stdout",
     "output_type": "stream",
     "text": [
      "List is empty\n"
     ]
    }
   ],
   "source": [
    "lst = eval(input('Enter a list: '))                         # Taking input from user\n",
    "if len(lst) == 0:                                           # Checking length of string\n",
    "  print('List is empty')                                    # List is empty\n",
    "else:\n",
    "  print('List is not empty')                                # list not empty"
   ]
  },
  {
   "cell_type": "code",
   "execution_count": 62,
   "id": "b5772934-fd82-4509-b35c-94a9ce3f7c72",
   "metadata": {
    "tags": []
   },
   "outputs": [
    {
     "name": "stdin",
     "output_type": "stream",
     "text": [
      "Enter a list:  [10,20,30]\n"
     ]
    },
    {
     "name": "stdout",
     "output_type": "stream",
     "text": [
      "List is not empty\n"
     ]
    }
   ],
   "source": [
    "lst = eval(input('Enter a list: '))                         # Taking input from user\n",
    "if len(lst) == 0:                                           # Checking length of string\n",
    "  print('List is empty')                                    # List is empty\n",
    "else:\n",
    "  print('List is not empty')                                # list not empty"
   ]
  },
  {
   "cell_type": "markdown",
   "id": "6d3b23e1-8f3f-4d30-b7e3-61a69630b708",
   "metadata": {},
   "source": [
    "Q10. #Write a Python program to copy a list using loop.\n",
    "#inp_lst = [10,10.20,10+20j, 'Python', [10,20], (10,20)]\n",
    "#out_lst = [10,10.20,10+20j, 'Python', [10,20], (10,20)]"
   ]
  },
  {
   "cell_type": "code",
   "execution_count": 70,
   "id": "6005ade9-1056-4ebd-8fbd-7ea68a5b059a",
   "metadata": {
    "tags": []
   },
   "outputs": [
    {
     "name": "stdout",
     "output_type": "stream",
     "text": [
      "The Copied list is:  [10, 10.2, (10+20j), 'Python', [10, 20], (10, 20)]\n"
     ]
    }
   ],
   "source": [
    "lst=[10,10.20,10+20j, 'Python', [10,20], (10,20)]            # defining input list as lst\n",
    "copy_lst=[]                                                  # creating empty list for copying lst\n",
    "for i in lst:                                                # Looping in list lst\n",
    "    copy_lst.append(i)                                       # appending values of lst in copy_lst\n",
    "print('The Copied list is: ',copy_lst)"
   ]
  },
  {
   "cell_type": "markdown",
   "id": "db637b85-0494-4c32-ae0d-0c2b2720a977",
   "metadata": {
    "tags": []
   },
   "source": [
    "Q11. Write a Python program to find the list of words that are longer than or equal to 4 from a given string.\n",
    "#Input:- 'How much wood would a woodchuck chuck if a woodchuck could chuck wood'\n",
    "#Output:- ['much', 'wood', 'would', 'woodchuck', 'chuck', 'could']\n",
    "#Note:- Duplicate should be avoided."
   ]
  },
  {
   "cell_type": "code",
   "execution_count": 77,
   "id": "229eb643-6fa6-48f7-8fcf-1d53ade5c228",
   "metadata": {
    "tags": []
   },
   "outputs": [
    {
     "name": "stdout",
     "output_type": "stream",
     "text": [
      "The required output is:  ['much', 'wood', 'would', 'woodchuck', 'chuck', 'could']\n"
     ]
    }
   ],
   "source": [
    "str_1 = 'How much wood would a woodchuck chuck if a woodchuck could chuck wood'    # defining string as str_1\n",
    "lst_1 = str_1.split( )                                                             # splitting the string as per space\n",
    "new_lst = []                                                                       # creating new empty list\n",
    "for i in lst_1:                                                                    # Looping in list lst_1\n",
    "    if len(i)>=4 and i not in new_lst:                                             # checking for length >4 and avoiding duplicates\n",
    "        new_lst.append(i)                                                          # appending into new_lst\n",
    "print('The required output is: ',new_lst)"
   ]
  },
  {
   "cell_type": "markdown",
   "id": "bd9c5473-f20b-4f1c-b024-0666a1bdcd94",
   "metadata": {},
   "source": [
    "Q12. Write a Python program which takes two list as input and returns True if they have at least 3 common elements.\n",
    "#inp_lst1 = [10,20,'Python', 10.20, 10+20j, [10,20,30], (10,20,30)]\n",
    "#inp_lst2 = [(10,20,30),1,20+3j,100.2, 10+20j, [10,20,30],'Python']\n",
    "#Output:- True"
   ]
  },
  {
   "cell_type": "code",
   "execution_count": 81,
   "id": "0ae6e023-3112-4bfc-acbd-d9c0f561cba2",
   "metadata": {
    "tags": []
   },
   "outputs": [
    {
     "name": "stdout",
     "output_type": "stream",
     "text": [
      "True\n"
     ]
    }
   ],
   "source": [
    "lst1 = [10,20,'Python', 10.20, 10+20j, [10,20,30], (10,20,30)]     # List 1\n",
    "lst2 = [(10,20,30),1,20+3j,100.2, 10+20j, [10,20,30],'Python']     # List 2\n",
    "count=0                                                            # insitalizing count=0\n",
    "for i in lst1:                                                     # iterating in lst1\n",
    "        if i in lst2:                                              # checking if element is also present in lst2 \n",
    "            count+=1                                               # incrementing count if element is found in lst 2\n",
    "if count>=3:\n",
    "    print('True')\n",
    "else:\n",
    "    print('False')"
   ]
  },
  {
   "cell_type": "markdown",
   "id": "60d356a7-2670-419e-aa54-e89de6d3009f",
   "metadata": {},
   "source": [
    "Q13. Write a Python program to create a 4X4 2D matrix with below elements using loop and list comprehension both.\n",
    "#Output:- [[0,0,0,0],[0,1,2,3],[0,2,4,6],[0,3,6,9]]"
   ]
  },
  {
   "cell_type": "markdown",
   "id": "1ea17dbc-9ed1-4845-b75c-4cb122673f0d",
   "metadata": {},
   "source": [
    "#### Using Loop"
   ]
  },
  {
   "cell_type": "code",
   "execution_count": 88,
   "id": "ec20c123-7c1d-4ebe-8e4c-f3d7c6353988",
   "metadata": {
    "tags": []
   },
   "outputs": [
    {
     "name": "stdout",
     "output_type": "stream",
     "text": [
      "The required 4x4 2D Matrix is:  [[0, 0, 0, 0], [0, 1, 2, 3], [0, 2, 4, 6], [0, 3, 6, 9]]\n"
     ]
    }
   ],
   "source": [
    "outer_lst=[]                              # creating empty outerlist\n",
    "for i in range(4):                        # looping in range of 4 for outer list\n",
    "    inner_lst=[]                          # creating empty innerlist\n",
    "    for j in range(4):                    # looping again in range of 4 for inner list\n",
    "        inner_lst.append(i*j)             # Appending i*j in inner list\n",
    "    outer_lst.append(inner_lst)           # Appending inner list in outer list\n",
    "print('The required 4x4 2D Matrix is: ',outer_lst)"
   ]
  },
  {
   "cell_type": "markdown",
   "id": "162cbc31-b5e7-4f2b-9e4d-69070ea279fb",
   "metadata": {},
   "source": [
    "#### Using List comprehension"
   ]
  },
  {
   "cell_type": "code",
   "execution_count": 94,
   "id": "48400a0e-023b-41e5-bbe9-16b6618e0cbf",
   "metadata": {
    "tags": []
   },
   "outputs": [
    {
     "name": "stdout",
     "output_type": "stream",
     "text": [
      "The required 4x4 2D Matrix is:  [[0, 0, 0, 0], [0, 1, 2, 3], [0, 2, 4, 6], [0, 3, 6, 9]]\n"
     ]
    }
   ],
   "source": [
    "outer_list = [[i*j for j in range(4)]for i in range(4)]\n",
    "print('The required 4x4 2D Matrix is: ',outer_lst)"
   ]
  },
  {
   "cell_type": "markdown",
   "id": "8b1154cb-d3c6-4d83-a24d-eb9d9ea0a081",
   "metadata": {},
   "source": [
    "Q14. #Write a Python program to create a 3X4X6 3D matrix wiith below elements using loop\n",
    "#Output:- \n",
    "[\n",
    "    [[0,0,0,0,0,0],[0,0,0,0,0,0],[0,0,0,0,0,0],[0,0,0,0,0,0]],\n",
    "    [[0,0,0,0,0,0],[1,1,1,1,1,1],[2,2,2,2,2,2],[3,3,3,3,3,3]],\n",
    "    [[0,0,0,0,0,0],[2,2,2,2,2,2],[4,4,4,4,4,4],[6,6,6,6,6,6]]\n",
    "]\n"
   ]
  },
  {
   "cell_type": "code",
   "execution_count": 101,
   "id": "4e213736-ef0e-405a-a566-6d4c9f11b1eb",
   "metadata": {
    "tags": []
   },
   "outputs": [
    {
     "name": "stdout",
     "output_type": "stream",
     "text": [
      "The required 3X4X6 3D matrix is:  [[[0, 0, 0, 0, 0, 0], [0, 0, 0, 0, 0, 0], [0, 0, 0, 0, 0, 0], [0, 0, 0, 0, 0, 0]], [[0, 0, 0, 0, 0, 0], [1, 1, 1, 1, 1, 1], [2, 2, 2, 2, 2, 2], [3, 3, 3, 3, 3, 3]], [[0, 0, 0, 0, 0, 0], [2, 2, 2, 2, 2, 2], [4, 4, 4, 4, 4, 4], [6, 6, 6, 6, 6, 6]]]\n"
     ]
    }
   ],
   "source": [
    "outer_lst = []                                          # creating empty outerlist\n",
    "for i in range(3):                                      # looping in range of 3 for outer list\n",
    "    inner_lst1 = []                                     # creating empty innerlist 1   \n",
    "    for j in range(4):                                  # looping again in range of 4 for inner list1\n",
    "        inner_lst2 = [i * j for k in range(6)]          # Appending i*j in inner list2 via list comprehension\n",
    "        inner_lst1.append(inner_lst2)                   # Appending inner list1 in inner list2\n",
    "    outer_lst.append(inner_lst1)                        # Appending inner list1 to outer list\n",
    "print('The required 3X4X6 3D matrix is: ',outer_lst)"
   ]
  },
  {
   "cell_type": "markdown",
   "id": "2eb57ee4-e789-4a47-a537-d245cf6b4c30",
   "metadata": {},
   "source": [
    "Q15. #Write a Python program which takes a list of numbers as input and prints a new list after removing even numbers from it.\n",
    "#Input:- [10,21,22,98,87,45,33,1,2,100]\n",
    "#Output:- [21,87,45,33,1]"
   ]
  },
  {
   "cell_type": "code",
   "execution_count": 104,
   "id": "a2e8d41b-d8d1-4db5-a0f5-886333079a75",
   "metadata": {
    "tags": []
   },
   "outputs": [
    {
     "name": "stdout",
     "output_type": "stream",
     "text": [
      "New list after removing even number is:  [21, 87, 45, 33, 1]\n"
     ]
    }
   ],
   "source": [
    "lst = [10,21,22,98,87,45,33,1,2,100]        # Defining list\n",
    "new_lst=[]                                  # Defining new empty list\n",
    "for i in lst:                               # Iterating in list defined as lst\n",
    "    if i%2!=0:                              # Checking if element of the list is a odd number \n",
    "        new_lst.append(i)                   # appending values in empty list(new_lst)\n",
    "print('New list after removing even number is: ',new_lst)"
   ]
  },
  {
   "cell_type": "code",
   "execution_count": null,
   "id": "71daaeeb-e9f2-4da3-894f-652c2485c84c",
   "metadata": {},
   "outputs": [],
   "source": []
  }
 ],
 "metadata": {
  "kernelspec": {
   "display_name": "Python 3 (ipykernel)",
   "language": "python",
   "name": "python3"
  },
  "language_info": {
   "codemirror_mode": {
    "name": "ipython",
    "version": 3
   },
   "file_extension": ".py",
   "mimetype": "text/x-python",
   "name": "python",
   "nbconvert_exporter": "python",
   "pygments_lexer": "ipython3",
   "version": "3.11.7"
  }
 },
 "nbformat": 4,
 "nbformat_minor": 5
}
