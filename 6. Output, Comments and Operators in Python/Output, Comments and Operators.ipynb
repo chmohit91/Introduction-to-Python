{
 "cells": [
  {
   "cell_type": "markdown",
   "id": "9ea689ed",
   "metadata": {},
   "source": [
    "## Ways of Writing an Output"
   ]
  },
  {
   "cell_type": "code",
   "execution_count": 2,
   "id": "6f3e6447",
   "metadata": {},
   "outputs": [
    {
     "name": "stdout",
     "output_type": "stream",
     "text": [
      "30\n"
     ]
    }
   ],
   "source": [
    "a = 10\n",
    "b = 20\n",
    "\n",
    "c = a+b\n",
    "\n",
    "print(c)"
   ]
  },
  {
   "cell_type": "code",
   "execution_count": 3,
   "id": "e3d5ac23",
   "metadata": {},
   "outputs": [
    {
     "name": "stdout",
     "output_type": "stream",
     "text": [
      "10 20 30\n"
     ]
    }
   ],
   "source": [
    "print(a,b,c)"
   ]
  },
  {
   "cell_type": "code",
   "execution_count": 4,
   "id": "8649b7f5",
   "metadata": {},
   "outputs": [
    {
     "name": "stdout",
     "output_type": "stream",
     "text": [
      "The result is 30\n"
     ]
    }
   ],
   "source": [
    "# Normal ways \n",
    "a = 10\n",
    "b = 20\n",
    "c = a+b\n",
    "print('The result is', c)"
   ]
  },
  {
   "cell_type": "code",
   "execution_count": 11,
   "id": "db6b46c3",
   "metadata": {
    "scrolled": true
   },
   "outputs": [
    {
     "name": "stdout",
     "output_type": "stream",
     "text": [
      "The sum of  10 and  20 is  30\n"
     ]
    }
   ],
   "source": [
    "print(\"The sum of \",a,\"and \",b,\"is \",c) \n"
   ]
  },
  {
   "cell_type": "code",
   "execution_count": 5,
   "id": "86b474cd",
   "metadata": {},
   "outputs": [
    {
     "name": "stdout",
     "output_type": "stream",
     "text": [
      "The sum of 10 and 20 is 30\n"
     ]
    }
   ],
   "source": [
    "print('The sum of 10 and 20 is', c)"
   ]
  },
  {
   "cell_type": "code",
   "execution_count": 8,
   "id": "e19caee1",
   "metadata": {},
   "outputs": [
    {
     "name": "stdout",
     "output_type": "stream",
     "text": [
      "The sum of 10 and 20 is 30\n"
     ]
    }
   ],
   "source": [
    "print('The sum of'+' '+str(a)+' '+ 'and'+ ' '+ str(b) + ' '+ 'is'+ ' '+ str(c))"
   ]
  },
  {
   "cell_type": "code",
   "execution_count": 9,
   "id": "77acdb77",
   "metadata": {},
   "outputs": [
    {
     "name": "stdout",
     "output_type": "stream",
     "text": [
      "The sum of 10 and 20 is 30\n"
     ]
    }
   ],
   "source": [
    "# using the format function \n",
    "print('The sum of {} and {} is {}'.format(a,b,c)) #here order matters "
   ]
  },
  {
   "cell_type": "code",
   "execution_count": 10,
   "id": "e8c42a2d",
   "metadata": {},
   "outputs": [
    {
     "name": "stdout",
     "output_type": "stream",
     "text": [
      "The sum of 20 and 10 is 30\n"
     ]
    }
   ],
   "source": [
    "print('The sum of {} and {} is {}'.format(b,a,c))"
   ]
  },
  {
   "cell_type": "code",
   "execution_count": 12,
   "id": "86dc9d1f",
   "metadata": {},
   "outputs": [
    {
     "name": "stdout",
     "output_type": "stream",
     "text": [
      "The sum of 10 and 20 is 30\n"
     ]
    }
   ],
   "source": [
    "#f formatting method\n",
    "print(f'The sum of {a} and {b} is {c}')"
   ]
  },
  {
   "cell_type": "markdown",
   "id": "2219855a",
   "metadata": {},
   "source": [
    "#### Escape Characters in Programming Language \n",
    "\n",
    "- '\\' ---------- new line continuation\n",
    "- ' \\\\' ---------- display an inverted backslash\n",
    "- \" \\' \" -------- display a single quote in my output \n",
    "- \" \\\" \" --------- display double quotes in my output \n",
    "- ' \\b ' ------- display a backspace \n",
    "- '\\r' -------- enter\n",
    "- '\\t' ------- horizontal tab space \n",
    "- '\\v' -------- vertical tab\n",
    "- '\\n' -----new line "
   ]
  },
  {
   "cell_type": "code",
   "execution_count": 16,
   "id": "0f4395f0",
   "metadata": {},
   "outputs": [
    {
     "name": "stdout",
     "output_type": "stream",
     "text": [
      "10\n",
      "20\n",
      "30\n"
     ]
    }
   ],
   "source": [
    "print(a,b,c, sep = '\\n')"
   ]
  },
  {
   "cell_type": "markdown",
   "id": "7f13f6b9",
   "metadata": {},
   "source": [
    "## comments \n",
    "\n",
    "- Comments are used to improve thr readability of the code written by any other person or even for me \n",
    "- anything written in '#' will be ignored by the translators "
   ]
  },
  {
   "cell_type": "code",
   "execution_count": 17,
   "id": "e7e528e0",
   "metadata": {},
   "outputs": [
    {
     "name": "stdout",
     "output_type": "stream",
     "text": [
      "The result when we add 10 and 20 is 30\n"
     ]
    }
   ],
   "source": [
    "a = 10 #initialising a variable with value 10 in it\n",
    "b = 20 #initilaising a varible with a value 20 in it \n",
    "c = a+b # initialising a variable that is going to store the sum of the two varibales\n",
    "print(f'The result when we add {a} and {b} is {c}') #Here the output is shown "
   ]
  },
  {
   "cell_type": "code",
   "execution_count": 19,
   "id": "a962273b",
   "metadata": {},
   "outputs": [
    {
     "name": "stdout",
     "output_type": "stream",
     "text": [
      "The result when we multiply 10 and 20 is 200\n"
     ]
    }
   ],
   "source": [
    "# initialising the variable a and b with some value in it\n",
    "a = 10\n",
    "b = 20\n",
    "\n",
    "# multiply the values storede in a and b and storing the result in a variable c\n",
    "c = a * b\n",
    "\n",
    "#printing the output \n",
    "print(f'The result when we multiply {a} and {b} is {c}')"
   ]
  },
  {
   "cell_type": "markdown",
   "id": "6b047c0e",
   "metadata": {},
   "source": [
    "### Operators \n",
    "\n",
    "- will be used to perform different kinds of operations on different set of values"
   ]
  },
  {
   "cell_type": "markdown",
   "id": "9af64a04",
   "metadata": {},
   "source": [
    "##### Type of Operators \n",
    "\n",
    "-  Arithmetic Operators\n",
    "- Logical Operators\n",
    "- Comparison Operator\n",
    "- Equality Operator \n",
    "- Assignmnet Operator \n",
    "- Membership Operator \n",
    "- Identity Operator \n",
    "- Bitwise Operator \n",
    "- Ternary Operator "
   ]
  },
  {
   "cell_type": "markdown",
   "id": "76d375a1",
   "metadata": {},
   "source": [
    "#### - Arithmetic Operators \n",
    "\n",
    "- Will going to arithmetic operations over the values stored in a variable \n",
    "\n",
    "- '+'  ------- addition \n",
    "- '-' --------- subtraction \n",
    "- '*' (astrick) -------  multiplication \n",
    "- / (float division) ------- the result will be ib float data type (the ouput will be the quotient)\n",
    "- // (floor division) --------- the result will be in int data type (th ouput will be quotient)\n",
    "- % modulus ---------- remainder \n",
    "- ** (exponential) -------- it is used in power "
   ]
  },
  {
   "cell_type": "code",
   "execution_count": 20,
   "id": "a2f3e10a",
   "metadata": {},
   "outputs": [
    {
     "data": {
      "text/plain": [
       "0.4"
      ]
     },
     "execution_count": 20,
     "metadata": {},
     "output_type": "execute_result"
    }
   ],
   "source": [
    "2/5"
   ]
  },
  {
   "cell_type": "code",
   "execution_count": 21,
   "id": "521628e4",
   "metadata": {},
   "outputs": [
    {
     "data": {
      "text/plain": [
       "5.0"
      ]
     },
     "execution_count": 21,
     "metadata": {},
     "output_type": "execute_result"
    }
   ],
   "source": [
    "10/2"
   ]
  },
  {
   "cell_type": "code",
   "execution_count": 22,
   "id": "8fd88821",
   "metadata": {},
   "outputs": [
    {
     "data": {
      "text/plain": [
       "5"
      ]
     },
     "execution_count": 22,
     "metadata": {},
     "output_type": "execute_result"
    }
   ],
   "source": [
    "10//2"
   ]
  },
  {
   "cell_type": "code",
   "execution_count": 23,
   "id": "9b479bf4",
   "metadata": {},
   "outputs": [
    {
     "data": {
      "text/plain": [
       "0"
      ]
     },
     "execution_count": 23,
     "metadata": {},
     "output_type": "execute_result"
    }
   ],
   "source": [
    "2//5"
   ]
  },
  {
   "cell_type": "code",
   "execution_count": null,
   "id": "d3e5e4ce",
   "metadata": {},
   "outputs": [],
   "source": [
    "floor          value          ceil \n",
    "   6            6.7854          7 "
   ]
  },
  {
   "cell_type": "code",
   "execution_count": 24,
   "id": "ff70c79b",
   "metadata": {},
   "outputs": [
    {
     "data": {
      "text/plain": [
       "2.5"
      ]
     },
     "execution_count": 24,
     "metadata": {},
     "output_type": "execute_result"
    }
   ],
   "source": [
    "5/2"
   ]
  },
  {
   "cell_type": "code",
   "execution_count": 25,
   "id": "875b5de6",
   "metadata": {},
   "outputs": [
    {
     "data": {
      "text/plain": [
       "2"
      ]
     },
     "execution_count": 25,
     "metadata": {},
     "output_type": "execute_result"
    }
   ],
   "source": [
    "5//2"
   ]
  },
  {
   "cell_type": "code",
   "execution_count": 28,
   "id": "420fd995",
   "metadata": {},
   "outputs": [
    {
     "data": {
      "text/plain": [
       "1"
      ]
     },
     "execution_count": 28,
     "metadata": {},
     "output_type": "execute_result"
    }
   ],
   "source": [
    "5//3"
   ]
  },
  {
   "cell_type": "code",
   "execution_count": 29,
   "id": "b0838351",
   "metadata": {},
   "outputs": [
    {
     "data": {
      "text/plain": [
       "-2"
      ]
     },
     "execution_count": 29,
     "metadata": {},
     "output_type": "execute_result"
    }
   ],
   "source": [
    "-5//3 #output will be the lowest value "
   ]
  },
  {
   "cell_type": "code",
   "execution_count": null,
   "id": "5d7af9d4",
   "metadata": {},
   "outputs": [],
   "source": [
    "Dividend = Divisor * Quotient + Remainder "
   ]
  },
  {
   "cell_type": "code",
   "execution_count": 30,
   "id": "067dfd27",
   "metadata": {},
   "outputs": [
    {
     "data": {
      "text/plain": [
       "2.5"
      ]
     },
     "execution_count": 30,
     "metadata": {},
     "output_type": "execute_result"
    }
   ],
   "source": [
    "5/2"
   ]
  },
  {
   "cell_type": "code",
   "execution_count": 31,
   "id": "2965647f",
   "metadata": {},
   "outputs": [
    {
     "data": {
      "text/plain": [
       "1"
      ]
     },
     "execution_count": 31,
     "metadata": {},
     "output_type": "execute_result"
    }
   ],
   "source": [
    "5%2"
   ]
  },
  {
   "cell_type": "code",
   "execution_count": 32,
   "id": "53b8dc49",
   "metadata": {},
   "outputs": [
    {
     "data": {
      "text/plain": [
       "0"
      ]
     },
     "execution_count": 32,
     "metadata": {},
     "output_type": "execute_result"
    }
   ],
   "source": [
    "10%2"
   ]
  },
  {
   "cell_type": "code",
   "execution_count": 34,
   "id": "9997826c",
   "metadata": {},
   "outputs": [
    {
     "data": {
      "text/plain": [
       "8"
      ]
     },
     "execution_count": 34,
     "metadata": {},
     "output_type": "execute_result"
    }
   ],
   "source": [
    "2**3 #---- 2*2*2"
   ]
  },
  {
   "cell_type": "code",
   "execution_count": 36,
   "id": "cd24a9ee",
   "metadata": {},
   "outputs": [
    {
     "data": {
      "text/plain": [
       "625"
      ]
     },
     "execution_count": 36,
     "metadata": {},
     "output_type": "execute_result"
    }
   ],
   "source": [
    "5**4"
   ]
  },
  {
   "cell_type": "code",
   "execution_count": 37,
   "id": "ed54ce5f",
   "metadata": {},
   "outputs": [
    {
     "name": "stdout",
     "output_type": "stream",
     "text": [
      "7\n"
     ]
    }
   ],
   "source": [
    "import math \n",
    "print(math.ceil(6.785))"
   ]
  },
  {
   "cell_type": "code",
   "execution_count": 38,
   "id": "7123c090",
   "metadata": {},
   "outputs": [
    {
     "data": {
      "text/plain": [
       "7"
      ]
     },
     "execution_count": 38,
     "metadata": {},
     "output_type": "execute_result"
    }
   ],
   "source": [
    "math.ceil(6.25)"
   ]
  },
  {
   "cell_type": "code",
   "execution_count": 40,
   "id": "77d46dd1",
   "metadata": {},
   "outputs": [
    {
     "data": {
      "text/plain": [
       "6"
      ]
     },
     "execution_count": 40,
     "metadata": {},
     "output_type": "execute_result"
    }
   ],
   "source": [
    "math.floor(6.25)"
   ]
  },
  {
   "cell_type": "code",
   "execution_count": 44,
   "id": "df001ffb",
   "metadata": {},
   "outputs": [
    {
     "data": {
      "text/plain": [
       "6"
      ]
     },
     "execution_count": 44,
     "metadata": {},
     "output_type": "execute_result"
    }
   ],
   "source": [
    "round(6.25)"
   ]
  },
  {
   "cell_type": "code",
   "execution_count": 45,
   "id": "3d5c6a5e",
   "metadata": {},
   "outputs": [
    {
     "data": {
      "text/plain": [
       "7"
      ]
     },
     "execution_count": 45,
     "metadata": {},
     "output_type": "execute_result"
    }
   ],
   "source": [
    "round(6.75)"
   ]
  },
  {
   "cell_type": "markdown",
   "id": "5fad1217",
   "metadata": {},
   "source": [
    "// floor division involves two steps  \n",
    "\n",
    "- Normal Divison\n",
    "- typycasting the result to int datatype"
   ]
  },
  {
   "cell_type": "code",
   "execution_count": 50,
   "id": "f75c3dbd",
   "metadata": {},
   "outputs": [],
   "source": [
    "a = 2/5"
   ]
  },
  {
   "cell_type": "code",
   "execution_count": 51,
   "id": "c7268010",
   "metadata": {},
   "outputs": [
    {
     "data": {
      "text/plain": [
       "0.4"
      ]
     },
     "execution_count": 51,
     "metadata": {},
     "output_type": "execute_result"
    }
   ],
   "source": [
    "a"
   ]
  },
  {
   "cell_type": "code",
   "execution_count": 52,
   "id": "255cb782",
   "metadata": {},
   "outputs": [
    {
     "data": {
      "text/plain": [
       "0"
      ]
     },
     "execution_count": 52,
     "metadata": {},
     "output_type": "execute_result"
    }
   ],
   "source": [
    "int(a)"
   ]
  },
  {
   "cell_type": "markdown",
   "id": "7c00f541",
   "metadata": {},
   "source": [
    "Order of execution -\n",
    "\n",
    "- First Parenthese are evaluated \n",
    "- Exponentials are done \n",
    "- Multiplcation, float division, floor division and modulus \n",
    "- Addition, subtraction "
   ]
  },
  {
   "cell_type": "code",
   "execution_count": 53,
   "id": "5f83508a",
   "metadata": {},
   "outputs": [],
   "source": [
    "a = (1+2)*3**2//2+3"
   ]
  },
  {
   "cell_type": "code",
   "execution_count": null,
   "id": "efb46b40",
   "metadata": {},
   "outputs": [],
   "source": [
    "a = (3)*3**2//2+3"
   ]
  },
  {
   "cell_type": "code",
   "execution_count": null,
   "id": "7386e5e0",
   "metadata": {},
   "outputs": [],
   "source": [
    "a = 3*9//2+3"
   ]
  },
  {
   "cell_type": "code",
   "execution_count": null,
   "id": "d6ccd180",
   "metadata": {},
   "outputs": [],
   "source": [
    "a = 27//2+3"
   ]
  },
  {
   "cell_type": "code",
   "execution_count": null,
   "id": "963a6cb7",
   "metadata": {},
   "outputs": [],
   "source": [
    "a = 13+3"
   ]
  },
  {
   "cell_type": "code",
   "execution_count": null,
   "id": "33474517",
   "metadata": {},
   "outputs": [],
   "source": [
    "a = 16"
   ]
  },
  {
   "cell_type": "code",
   "execution_count": 54,
   "id": "5e1b7971",
   "metadata": {},
   "outputs": [
    {
     "data": {
      "text/plain": [
       "16"
      ]
     },
     "execution_count": 54,
     "metadata": {},
     "output_type": "execute_result"
    }
   ],
   "source": [
    "a"
   ]
  },
  {
   "cell_type": "code",
   "execution_count": null,
   "id": "c2558b60",
   "metadata": {},
   "outputs": [],
   "source": [
    "b = (9+3)**3//2%5"
   ]
  },
  {
   "cell_type": "code",
   "execution_count": null,
   "id": "bc6c921b",
   "metadata": {},
   "outputs": [],
   "source": [
    "b = 12**3//2%5"
   ]
  },
  {
   "cell_type": "code",
   "execution_count": null,
   "id": "8586b5cf",
   "metadata": {},
   "outputs": [],
   "source": [
    "b = 1728//2%5"
   ]
  },
  {
   "cell_type": "code",
   "execution_count": null,
   "id": "5106c608",
   "metadata": {},
   "outputs": [],
   "source": [
    "b = 864%5"
   ]
  },
  {
   "cell_type": "code",
   "execution_count": null,
   "id": "8a69bd08",
   "metadata": {},
   "outputs": [],
   "source": [
    "b = 4"
   ]
  },
  {
   "cell_type": "markdown",
   "id": "2f3d337b",
   "metadata": {},
   "source": [
    "- Logical Operators\n",
    "- Comparison Operator \n",
    "- Equality Operator \n",
    "\n",
    "- The answer is going to be either True or False , i.e. it is going to return a Boolean Value"
   ]
  },
  {
   "cell_type": "code",
   "execution_count": null,
   "id": "e4b49de1",
   "metadata": {},
   "outputs": [],
   "source": [
    "Primitive and Derived \n",
    "\n",
    "-primitive \n",
    "    - int\n",
    "    - floatr\n",
    "    - complex\n",
    "    - boolean\n",
    "    - string\n",
    "    - none \n",
    "    - range\n",
    "\n",
    "-Derived\n",
    "    - list\n",
    "    - tuples\n",
    "    - dictionary\n",
    "    - sets \n",
    "    - frozensets "
   ]
  },
  {
   "cell_type": "code",
   "execution_count": null,
   "id": "e6c669c6",
   "metadata": {},
   "outputs": [],
   "source": [
    "- Numerical Data type \n",
    "    - int : 0 is False else True\n",
    "    - float: 0.0 is False else True \n",
    "    - complex : 0+0j is False else True \n",
    "        \n",
    "- Sequential Datatype \n",
    "    - string : empty string ('' or \"\") is False else True\n",
    "    - list : empty list ([]) is False else True \n",
    "    - Tuple: empty tuple (()) is False else True \n",
    "        \n",
    "- Non sequential Datatype \n",
    "    - set : empty set ({}) is False else True \n",
    "    - Frozenset : empty frozenset (frozrenset()) is False else True "
   ]
  },
  {
   "cell_type": "code",
   "execution_count": 55,
   "id": "b82459ba",
   "metadata": {},
   "outputs": [
    {
     "data": {
      "text/plain": [
       "True"
      ]
     },
     "execution_count": 55,
     "metadata": {},
     "output_type": "execute_result"
    }
   ],
   "source": [
    "bool(100)"
   ]
  },
  {
   "cell_type": "code",
   "execution_count": 56,
   "id": "6df1b4a6",
   "metadata": {},
   "outputs": [
    {
     "data": {
      "text/plain": [
       "True"
      ]
     },
     "execution_count": 56,
     "metadata": {},
     "output_type": "execute_result"
    }
   ],
   "source": [
    "bool(-1)"
   ]
  },
  {
   "cell_type": "code",
   "execution_count": 57,
   "id": "6832e09e",
   "metadata": {},
   "outputs": [
    {
     "data": {
      "text/plain": [
       "False"
      ]
     },
     "execution_count": 57,
     "metadata": {},
     "output_type": "execute_result"
    }
   ],
   "source": [
    "bool(0)"
   ]
  },
  {
   "cell_type": "code",
   "execution_count": 58,
   "id": "cabab489",
   "metadata": {},
   "outputs": [
    {
     "data": {
      "text/plain": [
       "False"
      ]
     },
     "execution_count": 58,
     "metadata": {},
     "output_type": "execute_result"
    }
   ],
   "source": [
    "bool('')"
   ]
  },
  {
   "cell_type": "code",
   "execution_count": 59,
   "id": "663e35a5",
   "metadata": {},
   "outputs": [
    {
     "data": {
      "text/plain": [
       "False"
      ]
     },
     "execution_count": 59,
     "metadata": {},
     "output_type": "execute_result"
    }
   ],
   "source": [
    "bool(\"\")"
   ]
  },
  {
   "cell_type": "code",
   "execution_count": 60,
   "id": "2e2f8e12",
   "metadata": {},
   "outputs": [
    {
     "data": {
      "text/plain": [
       "frozenset()"
      ]
     },
     "execution_count": 60,
     "metadata": {},
     "output_type": "execute_result"
    }
   ],
   "source": [
    "s = \"\"\n",
    "f = frozenset(s)\n",
    "f"
   ]
  },
  {
   "cell_type": "code",
   "execution_count": 61,
   "id": "9d7e4573",
   "metadata": {},
   "outputs": [
    {
     "data": {
      "text/plain": [
       "False"
      ]
     },
     "execution_count": 61,
     "metadata": {},
     "output_type": "execute_result"
    }
   ],
   "source": [
    "bool(f)"
   ]
  },
  {
   "cell_type": "code",
   "execution_count": 69,
   "id": "dc8c04cd",
   "metadata": {},
   "outputs": [],
   "source": [
    "f = frozenset()"
   ]
  },
  {
   "cell_type": "code",
   "execution_count": 70,
   "id": "d203f0db",
   "metadata": {},
   "outputs": [
    {
     "data": {
      "text/plain": [
       "frozenset()"
      ]
     },
     "execution_count": 70,
     "metadata": {},
     "output_type": "execute_result"
    }
   ],
   "source": [
    "f"
   ]
  },
  {
   "cell_type": "code",
   "execution_count": 71,
   "id": "de1b0fd7",
   "metadata": {},
   "outputs": [
    {
     "data": {
      "text/plain": [
       "False"
      ]
     },
     "execution_count": 71,
     "metadata": {},
     "output_type": "execute_result"
    }
   ],
   "source": [
    "bool(f)"
   ]
  },
  {
   "cell_type": "code",
   "execution_count": null,
   "id": "09068f8d",
   "metadata": {},
   "outputs": [],
   "source": [
    " M A Y A N K\n",
    " 0 1 2 3 4 5\n",
    "\n",
    "STRING\n",
    "LIST \n",
    "TUPLE "
   ]
  },
  {
   "cell_type": "code",
   "execution_count": 72,
   "id": "f281b178",
   "metadata": {},
   "outputs": [
    {
     "name": "stdout",
     "output_type": "stream",
     "text": [
      "m\n",
      "a\n",
      "y\n",
      "a\n",
      "n\n",
      "k\n"
     ]
    }
   ],
   "source": [
    "for i in 'mayank':\n",
    "    print(i)"
   ]
  },
  {
   "cell_type": "code",
   "execution_count": 73,
   "id": "0a9313d5",
   "metadata": {},
   "outputs": [
    {
     "name": "stdout",
     "output_type": "stream",
     "text": [
      "{'k', 'a', 'm', 'y', 'n'}\n"
     ]
    }
   ],
   "source": [
    "a = set('mayank')\n",
    "print(a)"
   ]
  },
  {
   "cell_type": "code",
   "execution_count": 74,
   "id": "80339291",
   "metadata": {},
   "outputs": [
    {
     "name": "stdout",
     "output_type": "stream",
     "text": [
      "k\n",
      "a\n",
      "m\n",
      "y\n",
      "n\n"
     ]
    }
   ],
   "source": [
    "for i in a:\n",
    "    print(i)"
   ]
  },
  {
   "cell_type": "code",
   "execution_count": null,
   "id": "dbe521ae",
   "metadata": {},
   "outputs": [],
   "source": []
  }
 ],
 "metadata": {
  "kernelspec": {
   "display_name": "Python 3 (ipykernel)",
   "language": "python",
   "name": "python3"
  },
  "language_info": {
   "codemirror_mode": {
    "name": "ipython",
    "version": 3
   },
   "file_extension": ".py",
   "mimetype": "text/x-python",
   "name": "python",
   "nbconvert_exporter": "python",
   "pygments_lexer": "ipython3",
   "version": "3.11.5"
  }
 },
 "nbformat": 4,
 "nbformat_minor": 5
}
