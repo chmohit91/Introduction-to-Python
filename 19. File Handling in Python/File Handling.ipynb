{
 "cells": [
  {
   "cell_type": "markdown",
   "id": "fd09c99b",
   "metadata": {},
   "source": [
    "# File Handling"
   ]
  },
  {
   "cell_type": "code",
   "execution_count": null,
   "id": "fb1de83a",
   "metadata": {},
   "outputs": [],
   "source": [
    "# Whether in real life or in the digital world - we use files to store data. Files are a collection of data which can be\n",
    "# stored, extracted and manipulated. \n",
    "\n",
    "# Python allows us to handle two types of files:\n",
    "\n",
    "# Text - where the information is stored as a sequence of characters\n",
    "# Binary - where the data is stored in Bytes(8 bit sequences)\n",
    "\n",
    "# Internally, even text in text files is stored as bytes. However, we can operate directly in text form on Text files unlike\n",
    "# binary files which are used to store text, images, video, audio and other types of files. \n",
    "\n",
    "# Each line of code in a file terminates with an End Of Line (EOL) character, '\\n' by default in Python, but different\n",
    "# for different operating systems (e.g. '\\r\\n' in Windows. Internally, Python will change the '\\r\\n' to '\\n' when it is \n",
    "# run. \n",
    "\n",
    "# Previously End of File markers were used to indicate the End Of File. As per my understanding, since a couple of decades\n",
    "# now, end of file is handled by most languages by checking the length. You may still encounter the 'End Of File (EOF)' \n",
    "# word but as far as I know - there is no particular marker any more. \n",
    "\n"
   ]
  },
  {
   "cell_type": "code",
   "execution_count": null,
   "id": "0e801713",
   "metadata": {},
   "outputs": [],
   "source": []
  },
  {
   "cell_type": "code",
   "execution_count": null,
   "id": "37174cec",
   "metadata": {},
   "outputs": [],
   "source": [
    "# File Handling\n",
    "\n",
    "# Types of files we can open with file handling. \n",
    "\n",
    "# 1. Text files\n",
    "# 2. Binary files \n",
    "\n",
    "# ioTextWrapper class (file object) -----> Buffer ---------> File\n",
    "\n",
    "# While opening a file we have to give permissions - default is text, read only.\n",
    "\n",
    "#Different type of permissions : \n",
    "\n",
    "# read only -   'r', 'rb', Handle - Beginning. If file does not exit - IO error. \n",
    "# read and write - 'r+', 'rb+', Handle - Beginning - If filed does not exit - IO error\n",
    "# write only - 'w', 'wb', Handle - Beginning. If file does not exist, creates a new file for writing. If file exists - \n",
    "# truncates the file. \n",
    "# write and read - 'w+', 'wb+' - Handle - Beginning. If file does not exist, creates a new file for writing. If file exists - \n",
    "# truncates the file. \n",
    "# append only - 'a', 'ab', Handle - At the end. If file does not exist, creates a new one. If it exists, handle will be at\n",
    "# the end to continue writing in file. \n",
    "# append and read - 'a+', 'ab+'. Handle - At the end. If file does not exist, creates a new one. If it exists, handle will be at\n",
    "# the end to continue writing in file. \n",
    "\n",
    "# Exclusive create - 'x'. Checks to see if file exists - if not, creates a new file otherwise error. \n",
    "# text - 't'\n",
    "\n",
    "\n",
    "# Difference between using and not using context manager : \n",
    "\n",
    "# 1. Syntax of not using context manager:\n",
    "\n",
    "# var_name(for file object) = open('filename', 'permissions')\n",
    "\n",
    "# for using context manager:\n",
    "\n",
    "# with open('filename', permissions) as var_name:\n",
    "\n",
    "# 2. Without context manager, no indentation required. With context manager - indented code will perform operations on \n",
    "# file object. \n",
    "\n",
    "#3. Without context manager, explicit close function/method to be called on file object. With context manager - automatically closes\n",
    "# file once indented block is over or script finishes running. \n",
    "\n",
    "\n",
    "# Optional parameters while opening:\n",
    "\n",
    "# Buffer - By default takes system defined buffer size usually 4096, 8192 bytes. If 0 - means no buffer, if 1 means till \n",
    "# end of line. Specific value means that size of buffer in bytes. \n",
    "\n",
    "# Only for TEXT FILES\n",
    "# Encoding - What type of encoding to use to translate the text input(strings).\n",
    "# Errors - How to handle errors when there is a character that cannot be converted using specified encoding."
   ]
  },
  {
   "cell_type": "code",
   "execution_count": null,
   "id": "4d7f7ed2",
   "metadata": {},
   "outputs": [],
   "source": [
    "# r,w,a - r \n",
    "\n",
    "# t,b - t"
   ]
  },
  {
   "cell_type": "code",
   "execution_count": null,
   "id": "33858480",
   "metadata": {},
   "outputs": [],
   "source": [
    "# 'r' - read\n",
    "# 't' - text - Default opening mode\n",
    "# 'b' - binary\n",
    "\n",
    "\n",
    "# 'rt', 'r' - read\n",
    "# 'rb' - read binary"
   ]
  },
  {
   "cell_type": "code",
   "execution_count": null,
   "id": "dd788737",
   "metadata": {},
   "outputs": [],
   "source": [
    "# When opening a file for performing operations on them in Python - we open the file characters specifying what operations\n",
    "# we are permitting to be performed on the file at the time of opening. This is called the 'mode'"
   ]
  },
  {
   "cell_type": "code",
   "execution_count": null,
   "id": "49d3cd48",
   "metadata": {},
   "outputs": [],
   "source": [
    "'rt' - read text"
   ]
  },
  {
   "cell_type": "code",
   "execution_count": null,
   "id": "c15a2fed",
   "metadata": {},
   "outputs": [],
   "source": [
    "# Operations permitted  Text Mode  Binary Mode  Handle Position     Notes\n",
    "\n",
    "# read only             'r'        'rb'         Beginning of file   Default mode of file opening. If file does not exist, \n",
    "#                                                                   raises an I/O error.\n",
    "# read and write        'r+'       'rb+'        Beginning of file   If file does not exist, raises an I/O error. By default,\n",
    "#                                                                   any write operations are performed at beginning of file.\n",
    "# write only            'w'        'wb'         Beginning of file   If file exists, truncates file(deletes all contents)\n",
    "#                                                                   else creates a file for writing into\n",
    "# write and read        'w+'       'wb+'        Beginning of file   If file exists, truncates file(deletes all contents)\n",
    "#                                                                   else creates a file for writing into\n",
    "# append                'a'        'ab'         End of file         If file does not exist, creates file. If file exists, \n",
    "#                                                                   new data will be written at end of file. \n",
    "# append and read       'a+'       'ab+'        End of file         If file does not exist, creates file. If file exists, \n",
    "#                                                                   new data will be written at end of file\n",
    "\n",
    "# Exclusive creation     'x'        'xb'        Beginning of file   Opens a file for exclusive creation(new file). If \n",
    "#                                                                   the file already exists raises an error.\n",
    "# Text mode              't'                    Beginning of file   Default mode. You could say, a file without mode\n",
    "#                                                                   specified opens a file in Text mode for reading (both\n",
    "#                                                                   are defaults)\n",
    "\n",
    "# Please remember that handle(cursor) position mentioned above are Default positions. However, once operations have been \n",
    "# performed and cursor has been moved - write, read operations are performed from the current cursor position. \n"
   ]
  },
  {
   "cell_type": "code",
   "execution_count": null,
   "id": "74ab1384",
   "metadata": {},
   "outputs": [],
   "source": [
    "# Start at beginning of file - we have the seek() function to send the cursor to some other point. "
   ]
  },
  {
   "cell_type": "code",
   "execution_count": null,
   "id": "f14797f0",
   "metadata": {},
   "outputs": [],
   "source": [
    "# read, write, append\n",
    "# text, binary\n",
    "\n",
    "# rt,rb,wt,wb, at,ab, rt+wt, rb+wb, wt+rt, wb+rb, at+rt, ab+rb\n",
    "\n",
    "\n",
    "# read, text are defaults. \n",
    "\n"
   ]
  },
  {
   "cell_type": "code",
   "execution_count": 5,
   "id": "a2a2a09e",
   "metadata": {},
   "outputs": [
    {
     "name": "stdout",
     "output_type": "stream",
     "text": [
      "<_io.TextIOWrapper name='animal_jokes.txt' mode='w+' encoding='cp1252'>\n",
      "w+\n",
      "False\n",
      "True\n"
     ]
    }
   ],
   "source": [
    "f = open('animal_jokes.txt', 'w+')\n",
    "print(f)\n",
    "print(f.mode)\n",
    "print(f.closed)\n",
    "f.close()\n",
    "print(f.closed)"
   ]
  },
  {
   "cell_type": "code",
   "execution_count": 2,
   "id": "6b92587a",
   "metadata": {},
   "outputs": [],
   "source": [
    "# from another location rawstring+path+file name\n"
   ]
  },
  {
   "cell_type": "code",
   "execution_count": null,
   "id": "1dcc635d",
   "metadata": {},
   "outputs": [],
   "source": [
    "for i in range(3):\n",
    "    print('Shrishti wants to understand the role of indentation')\n",
    "    \n",
    "print('Shrishti understood the role of indentation')"
   ]
  },
  {
   "cell_type": "code",
   "execution_count": 11,
   "id": "17386ee7",
   "metadata": {},
   "outputs": [
    {
     "name": "stdout",
     "output_type": "stream",
     "text": [
      "False\n",
      "<_io.TextIOWrapper name='animal_jokes.txt' mode='w+' encoding='cp1252'>\n",
      "True\n"
     ]
    }
   ],
   "source": [
    "with open('animal_jokes.txt', 'w+') as aj:\n",
    "    print(aj.closed)\n",
    "    print(aj)\n",
    "    \n",
    "    \n",
    "print(aj.closed)\n",
    "    \n",
    "    \n"
   ]
  },
  {
   "cell_type": "code",
   "execution_count": 7,
   "id": "b952cea9",
   "metadata": {},
   "outputs": [
    {
     "name": "stdout",
     "output_type": "stream",
     "text": [
      "True\n"
     ]
    }
   ],
   "source": [
    "print(aj.closed)"
   ]
  },
  {
   "cell_type": "code",
   "execution_count": 9,
   "id": "8a6a0b6b",
   "metadata": {},
   "outputs": [],
   "source": [
    "# with keyword along with open function opens a context manager. \n",
    "\n",
    "# Among other benefits of context manager - internally it has an 'end' function/command which closes the file object \n",
    "# automatically once indentation is broken OR script finishes running OR script faces an error."
   ]
  },
  {
   "cell_type": "code",
   "execution_count": 10,
   "id": "5cedbd3c",
   "metadata": {},
   "outputs": [
    {
     "name": "stdout",
     "output_type": "stream",
     "text": [
      "<_io.TextIOWrapper name='animal_jokes.txt' mode='r' encoding='cp1252'>\n"
     ]
    }
   ],
   "source": [
    "# To open a file we use the open function with the following syntax:\n",
    "\n",
    "#<variable_name> = open(file_name, mode)\n",
    "\n",
    "f = open('animal_jokes.txt')\n",
    "print(f)\n",
    "# for x in f.readlines(100):\n",
    "#     print(x)"
   ]
  },
  {
   "cell_type": "code",
   "execution_count": 7,
   "id": "82abfcc1",
   "metadata": {},
   "outputs": [
    {
     "name": "stdout",
     "output_type": "stream",
     "text": [
      "False\n"
     ]
    }
   ],
   "source": [
    "print(f.closed)"
   ]
  },
  {
   "cell_type": "code",
   "execution_count": 9,
   "id": "94c5073f",
   "metadata": {},
   "outputs": [],
   "source": [
    "f.close()"
   ]
  },
  {
   "cell_type": "code",
   "execution_count": 10,
   "id": "8002e07a",
   "metadata": {},
   "outputs": [
    {
     "name": "stdout",
     "output_type": "stream",
     "text": [
      "True\n"
     ]
    }
   ],
   "source": [
    "print(f.closed)"
   ]
  },
  {
   "cell_type": "code",
   "execution_count": null,
   "id": "bc02f5d0",
   "metadata": {},
   "outputs": [],
   "source": [
    "# Context manager"
   ]
  },
  {
   "cell_type": "code",
   "execution_count": 11,
   "id": "dc986d7f",
   "metadata": {},
   "outputs": [
    {
     "name": "stdout",
     "output_type": "stream",
     "text": [
      "<_io.TextIOWrapper name='animal_jokes.txt' mode='r' encoding='cp1252'>\n",
      "False\n",
      "True\n"
     ]
    }
   ],
   "source": [
    "with open('animal_jokes.txt') as f:\n",
    "    print(f)\n",
    "    for x in f.readlines():\n",
    "        print(x)\n",
    "    print(f.closed)\n",
    "print(f.closed)"
   ]
  },
  {
   "cell_type": "code",
   "execution_count": null,
   "id": "44d19368",
   "metadata": {},
   "outputs": [],
   "source": [
    "# 1314 = utf8 escape\n",
    "\n",
    "# 1314 = Error"
   ]
  },
  {
   "cell_type": "code",
   "execution_count": 13,
   "id": "d0844774",
   "metadata": {},
   "outputs": [],
   "source": [
    "with open('animal_jokes.txt', 'w') as aj, open('animal_jokes_Copy.txt') as ajc:\n",
    "    aj.writelines(ajc)"
   ]
  },
  {
   "cell_type": "code",
   "execution_count": 17,
   "id": "4e46659b",
   "metadata": {},
   "outputs": [
    {
     "name": "stdout",
     "output_type": "stream",
     "text": [
      "Q: What do you call a sleeping bull?\n",
      "\n",
      "A: A bull-dozer.\n",
      "\n",
      "Q: How does a lion greet the other animals in the field?\n",
      "\n",
      "A: Pleased to eat you.\n",
      "\n",
      "Q: What did the farmer call the cow that had no milk?\n",
      "\n",
      "A: An udder failure.\n",
      "\n",
      "Q: Why do gorillas have big nostrils?\n",
      "\n",
      "A: Because they have big fingers!\n",
      "\n",
      "Q: Why are teddy bears never hungry?\n",
      "\n",
      "A: They are always stuffed!\n",
      "\n",
      "Q: Why do fish live in salt water?\n",
      "\n",
      "A: Because pepper makes them sneeze!\n",
      "\n",
      "Q: What do you get from a pampered cow?\n",
      "\n",
      "A: Spoiled milk.\n",
      "\n",
      "Q: Where do polar bears vote?\n",
      "\n",
      "A: The North Poll\n",
      "\n",
      "Q: Why did the snake cross the road?\n",
      "\n",
      "A: To get to the other ssssssside!\n",
      "\n",
      "Q: Why are fish so smart?\n",
      "\n",
      "A: Because they live in schools.\n",
      "\n",
      "Q: What fish only swims at night?\n",
      "\n",
      "A: A starfish!\n",
      "\n",
      "Q: Why is a fish easy to weigh?\n",
      "\n",
      "A: Because it has its own scales!\n",
      "\n",
      "Q: What do you get when a chicken lays an egg on top of a barn?\n",
      "\n",
      "A: An eggroll!\n",
      "\n",
      "Q: Why didn't the chicken cross the road?\n",
      "\n",
      "A: Because there was a KFC on the other side!\n",
      "\n",
      "Q: Why did the chicken cross the road?\n",
      "\n",
      "A: To show everyone he wasn't chicken!\n",
      "\n",
      "Q: Why did the lion spit out the clown?\n",
      "\n",
      "A: Because he tasted funny!\n",
      "\n",
      "Q: What animals are on legal documents?\n",
      "\n",
      "A: Seals!\n",
      "\n",
      "Q: What do you get when you cross a snake and a pie?\n",
      "\n",
      "A: A pie-thon!\n",
      "\n",
      "Q: What did the buffalo say to his son when he went away on a trip?\n",
      "\n",
      "A: Bison!\n",
      "\n",
      "Q: How do bees get to school?\n",
      "\n",
      "A: By school buzz!\n",
      "\n",
      "Q: What do you call a bear with no ears?\n",
      "\n",
      "A: B!\n"
     ]
    }
   ],
   "source": [
    "with open('animal_jokes.txt', encoding = 'ascii', errors='ignore') as f:\n",
    "    for x in f.readlines():\n",
    "        print(x)"
   ]
  },
  {
   "cell_type": "code",
   "execution_count": null,
   "id": "0a1e64ca",
   "metadata": {},
   "outputs": [],
   "source": []
  },
  {
   "cell_type": "code",
   "execution_count": 20,
   "id": "40efc185",
   "metadata": {},
   "outputs": [
    {
     "ename": "LookupError",
     "evalue": "unknown error handler name 'xmlcharreplace'",
     "output_type": "error",
     "traceback": [
      "\u001b[1;31m---------------------------------------------------------------------------\u001b[0m",
      "\u001b[1;31mLookupError\u001b[0m                               Traceback (most recent call last)",
      "\u001b[1;32m~\\AppData\\Local\\Temp\\ipykernel_8268\\3858970132.py\u001b[0m in \u001b[0;36m<module>\u001b[1;34m\u001b[0m\n\u001b[0;32m      2\u001b[0m \u001b[1;31m# data = f.readlines()\u001b[0m\u001b[1;33m\u001b[0m\u001b[1;33m\u001b[0m\u001b[0m\n\u001b[0;32m      3\u001b[0m \u001b[1;31m# print(data)\u001b[0m\u001b[1;33m\u001b[0m\u001b[1;33m\u001b[0m\u001b[0m\n\u001b[1;32m----> 4\u001b[1;33m \u001b[1;32mfor\u001b[0m \u001b[0mx\u001b[0m \u001b[1;32min\u001b[0m \u001b[0mf\u001b[0m\u001b[1;33m.\u001b[0m\u001b[0mreadlines\u001b[0m\u001b[1;33m(\u001b[0m\u001b[1;33m)\u001b[0m\u001b[1;33m:\u001b[0m\u001b[1;33m\u001b[0m\u001b[1;33m\u001b[0m\u001b[0m\n\u001b[0m\u001b[0;32m      5\u001b[0m     \u001b[0mprint\u001b[0m\u001b[1;33m(\u001b[0m\u001b[0mx\u001b[0m\u001b[1;33m)\u001b[0m\u001b[1;33m\u001b[0m\u001b[1;33m\u001b[0m\u001b[0m\n\u001b[0;32m      6\u001b[0m \u001b[0mf\u001b[0m\u001b[1;33m.\u001b[0m\u001b[0mclose\u001b[0m\u001b[1;33m(\u001b[0m\u001b[1;33m)\u001b[0m\u001b[1;33m\u001b[0m\u001b[1;33m\u001b[0m\u001b[0m\n",
      "\u001b[1;32mC:\\ProgramData\\Anaconda3\\lib\\encodings\\ascii.py\u001b[0m in \u001b[0;36mdecode\u001b[1;34m(self, input, final)\u001b[0m\n\u001b[0;32m     24\u001b[0m \u001b[1;32mclass\u001b[0m \u001b[0mIncrementalDecoder\u001b[0m\u001b[1;33m(\u001b[0m\u001b[0mcodecs\u001b[0m\u001b[1;33m.\u001b[0m\u001b[0mIncrementalDecoder\u001b[0m\u001b[1;33m)\u001b[0m\u001b[1;33m:\u001b[0m\u001b[1;33m\u001b[0m\u001b[1;33m\u001b[0m\u001b[0m\n\u001b[0;32m     25\u001b[0m     \u001b[1;32mdef\u001b[0m \u001b[0mdecode\u001b[0m\u001b[1;33m(\u001b[0m\u001b[0mself\u001b[0m\u001b[1;33m,\u001b[0m \u001b[0minput\u001b[0m\u001b[1;33m,\u001b[0m \u001b[0mfinal\u001b[0m\u001b[1;33m=\u001b[0m\u001b[1;32mFalse\u001b[0m\u001b[1;33m)\u001b[0m\u001b[1;33m:\u001b[0m\u001b[1;33m\u001b[0m\u001b[1;33m\u001b[0m\u001b[0m\n\u001b[1;32m---> 26\u001b[1;33m         \u001b[1;32mreturn\u001b[0m \u001b[0mcodecs\u001b[0m\u001b[1;33m.\u001b[0m\u001b[0mascii_decode\u001b[0m\u001b[1;33m(\u001b[0m\u001b[0minput\u001b[0m\u001b[1;33m,\u001b[0m \u001b[0mself\u001b[0m\u001b[1;33m.\u001b[0m\u001b[0merrors\u001b[0m\u001b[1;33m)\u001b[0m\u001b[1;33m[\u001b[0m\u001b[1;36m0\u001b[0m\u001b[1;33m]\u001b[0m\u001b[1;33m\u001b[0m\u001b[1;33m\u001b[0m\u001b[0m\n\u001b[0m\u001b[0;32m     27\u001b[0m \u001b[1;33m\u001b[0m\u001b[0m\n\u001b[0;32m     28\u001b[0m \u001b[1;32mclass\u001b[0m \u001b[0mStreamWriter\u001b[0m\u001b[1;33m(\u001b[0m\u001b[0mCodec\u001b[0m\u001b[1;33m,\u001b[0m\u001b[0mcodecs\u001b[0m\u001b[1;33m.\u001b[0m\u001b[0mStreamWriter\u001b[0m\u001b[1;33m)\u001b[0m\u001b[1;33m:\u001b[0m\u001b[1;33m\u001b[0m\u001b[1;33m\u001b[0m\u001b[0m\n",
      "\u001b[1;31mLookupError\u001b[0m: unknown error handler name 'xmlcharreplace'"
     ]
    }
   ],
   "source": [
    "f = open('animal_jokes.txt', 'r', encoding = 'ascii', errors = 'xmlcharreplace')\n",
    "# data = f.readlines()\n",
    "# print(data)\n",
    "for x in f.readlines():\n",
    "    print(x)\n",
    "f.close()"
   ]
  },
  {
   "cell_type": "code",
   "execution_count": 19,
   "id": "97f34d5e",
   "metadata": {},
   "outputs": [
    {
     "name": "stdout",
     "output_type": "stream",
     "text": [
      "<_io.TextIOWrapper name='animal_jokes.txt' mode='r' encoding='ascii'>\n",
      "\\xef\\xbb\\xbfQ: What do you call a sleeping bull?\n",
      "\n",
      "A: A bull-dozer.\n",
      "\n",
      "Q: How does a lion greet the other animals in the field?\n",
      "\n",
      "A: Pleased to eat you.\n",
      "\n",
      "Q: What did the farmer call the cow that had no milk?\n",
      "\n",
      "A: An udder failure.\n",
      "\n",
      "Q: Why do gorillas have big nostrils?\n",
      "\n",
      "A: Because they have big fingers!\n",
      "\n",
      "Q: Why are teddy bears never hungry?\n",
      "\n",
      "A: They are always stuffed!\n",
      "\n",
      "Q: Why do fish live in salt water?\n",
      "\n",
      "A: Because pepper makes them sneeze!\n",
      "\n",
      "Q: What do you get from a pampered cow?\n",
      "\n",
      "A: Spoiled milk.\n",
      "\n",
      "Q: Where do polar bears vote?\n",
      "\n",
      "A: The North Poll\n",
      "\n",
      "Q: Why did the snake cross the road?\n",
      "\n",
      "A: To get to the other ssssssside!\n",
      "\n",
      "Q: Why are fish so smart?\n",
      "\n",
      "A: Because they live in schools.\n",
      "\n",
      "Q: What fish only swims at night?\n",
      "\n",
      "A: A starfish!\n",
      "\n",
      "Q: Why is a fish easy to weigh?\n",
      "\n",
      "A: Because it has its own scales!\n",
      "\n",
      "Q: What do you get when a chicken lays an egg on top of a barn?\n",
      "\n",
      "A: An eggroll!\n",
      "\n",
      "Q: Why didn't the chicken cross the road?\n",
      "\n",
      "A: Because there was a KFC on the other side!\n",
      "\n",
      "Q: Why did the chicken cross the road?\n",
      "\n",
      "A: To show everyone he wasn't chicken!\n",
      "\n",
      "Q: Why did the lion spit out the clown?\n",
      "\n",
      "A: Because he tasted funny!\n",
      "\n",
      "Q: What animals are on legal documents?\n",
      "\n",
      "A: Seals!\n",
      "\n",
      "Q: What do you get when you cross a snake and a pie?\n",
      "\n",
      "A: A pie-thon!\n",
      "\n",
      "Q: What did the buffalo say to his son when he went away on a trip?\n",
      "\n",
      "A: Bison!\n",
      "\n",
      "Q: How do bees get to school?\n",
      "\n",
      "A: By school buzz!\n",
      "\n",
      "Q: What do you call a bear with no ears?\n",
      "\n",
      "A: B!\n"
     ]
    }
   ],
   "source": [
    "f = open('animal_jokes.txt', 'r', encoding = 'ascii', errors = 'backslashreplace')\n",
    "print(f)\n",
    "for x in f.readlines():\n",
    "    print(x)\n",
    "\n",
    "f.close()"
   ]
  },
  {
   "cell_type": "code",
   "execution_count": null,
   "id": "44d03005",
   "metadata": {},
   "outputs": [],
   "source": [
    "# The open function takes several parameters. Some of these are:\n",
    "\n",
    "#1. File name (including path if required) as string - mandatory\n",
    "#2. Mode - optional. If not specified opens as a text file in read only mode. \n",
    "#3. Buffer size - optional - Default is system dependent (usually 4096 or 8192 bytes). 0 means no buffering, 1 means until\n",
    "# new line. Otherwise buffersize can be specified. \n",
    "#4. Encoding - Optional Specifies encoding (Unicode - <UTF8,UTF16, UTF32>, ascii, cp1252 etc.)\n",
    "#5. Errors - Optional - \n",
    "#   'strict’ (Default) - raises an UnicodeError exception on failure\n",
    "#   ‘backslashreplace’ - the unencodable character is replaced by a backslash   --------\n",
    "#   ‘ignore’ - the unencodable character is ignored\n",
    "#   ‘namereplace’ - the unencodable character is replaced by its name  -------\n",
    "#   ‘replace’ - the unencodable character is replaced by questionmark\n",
    "#   ‘xmlcharreplace’ - the unencodable character is replaced by an xml characterine --------\n",
    "\n",
    "# Buffering is storing the information from the input(writing to file) into a buffer and not directly sending it to the file\n",
    "# Therefore, if 1 is specified as the buffer, then input is written to file once a newline is reached. If a buffer size of\n",
    "# 500 is specified, when the buffer is full, input is written to file. If 0 is specified, then buffering is off and files\n",
    "# are written directly to the file. By default, writing to the file happens when file object is closed(removed from\n",
    "# temporary memory).\n",
    "\n",
    "# It is useful when using large file sizes with high latency (i.e. input from source is slow, then with buffering the \n",
    "# program has to make fewer system calls to write and program speed is faster). On the other hand, working with large file\n",
    "# sizes with fast streaming data may overflow the buffer causing a system issue (like a crash).\n",
    "\n",
    "# The effects of buffering will not be visible until we have huge file sizes and/or latency - therefore, we shall skip \n",
    "# examples of buffering parameter.\n",
    "\n",
    "#Encoding and errors - parameters are the same as for bytes objects.\n",
    "\n"
   ]
  },
  {
   "cell_type": "code",
   "execution_count": null,
   "id": "1ddcf3a4",
   "metadata": {},
   "outputs": [],
   "source": [
    "#                        \\n  , \\r, \\r\\n"
   ]
  },
  {
   "cell_type": "code",
   "execution_count": 30,
   "id": "e3a3efd5",
   "metadata": {},
   "outputs": [
    {
     "name": "stdout",
     "output_type": "stream",
     "text": [
      "['ï»¿Q: What do you call a sleeping bull?\\n', 'A: A bull-dozer.\\n', 'Q: How does a lion greet the other animals in the field?\\n', 'A: Pleased to eat you.\\n', 'Q: What did the farmer call the cow that had no milk?\\n', 'A: An udder failure.\\n', 'Q: Why do gorillas have big nostrils?\\n', 'A: Because they have big fingers!\\n', 'Q: Why are teddy bears never hungry?\\n', 'A: They are always stuffed!\\n', 'Q: Why do fish live in salt water?\\n', 'A: Because pepper makes them sneeze!\\n', 'Q: What do you get from a pampered cow?\\n', 'A: Spoiled milk.\\n', 'Q: Where do polar bears vote?\\n', 'A: The North Poll\\n', 'Q: Why did the snake cross the road?\\n', 'A: To get to the other ssssssside!\\n', 'Q: Why are fish so smart?\\n', 'A: Because they live in schools.\\n', 'Q: What fish only swims at night?\\n', 'A: A starfish!\\n', 'Q: Why is a fish easy to weigh?\\n', 'A: Because it has its own scales!\\n', 'Q: What do you get when a chicken lays an egg on top of a barn?\\n', 'A: An eggroll!\\n', \"Q: Why didn't the chicken cross the road?\\n\", 'A: Because there was a KFC on the other side!\\n', 'Q: Why did the chicken cross the road?\\n', \"A: To show everyone he wasn't chicken!\\n\", 'Q: Why did the lion spit out the clown?\\n', 'A: Because he tasted funny!\\n', 'Q: What animals are on legal documents?\\n', 'A: Seals!\\n', 'Q: What do you get when you cross a snake and a pie?\\n', 'A: A pie-thon!\\n', 'Q: What did the buffalo say to his son when he went away on a trip?\\n', 'A: Bison!\\n', 'Q: How do bees get to school?\\n', 'A: By school buzz!\\n', 'Q: What do you call a bear with no ears?\\n', 'A: B!']\n"
     ]
    }
   ],
   "source": [
    "with open('animal_jokes.txt', buffering = 500) as aj:\n",
    "    data = aj.readlines()\n",
    "    print(data)"
   ]
  },
  {
   "cell_type": "code",
   "execution_count": null,
   "id": "b7b74882",
   "metadata": {},
   "outputs": [],
   "source": [
    "f = open('animal_jokes.txt', 'a+')\n",
    "f.write('Jokes file beginning')\n",
    "# f.flush()\n",
    "f.seek(0)\n",
    "print(f.tell())\n",
    "for x in f.readlines():\n",
    "    print(x)\n",
    "f.write('\\nJokes file ended')\n",
    "print(f.tell())\n",
    "\n",
    "f.close()"
   ]
  },
  {
   "cell_type": "code",
   "execution_count": null,
   "id": "c1676719",
   "metadata": {},
   "outputs": [],
   "source": [
    "# We need to open the file saved on our hard disk in primary(RAM) memory for working on the file. Therefore, the need to \n",
    "# specify a variable to create the file object and perform operations. Several methods can now be applied to this file\n",
    "# object"
   ]
  },
  {
   "cell_type": "code",
   "execution_count": null,
   "id": "da9a8b5c",
   "metadata": {},
   "outputs": [],
   "source": []
  },
  {
   "cell_type": "code",
   "execution_count": null,
   "id": "e4102fbf",
   "metadata": {},
   "outputs": [],
   "source": [
    "f = open('animal_jokes.txt', 'a')\n",
    "\n",
    "f.write('''\\n Hello there Dec 9 batch. Hope you are enjoying Python','\\n The whole class exclaims LOUDLY \"YES\"''')\n",
    "\n",
    "f.close()\n",
    "\n"
   ]
  },
  {
   "cell_type": "code",
   "execution_count": null,
   "id": "134d4639",
   "metadata": {},
   "outputs": [],
   "source": [
    "print(f.closed)"
   ]
  },
  {
   "cell_type": "code",
   "execution_count": null,
   "id": "a50df951",
   "metadata": {},
   "outputs": [],
   "source": [
    "f = open('animal_jokes.txt', 'r')\n",
    "\n",
    "for x in f.readlines():\n",
    "    print(x)\n",
    "\n",
    "\n",
    "f.close()"
   ]
  },
  {
   "cell_type": "code",
   "execution_count": null,
   "id": "6f637d1a",
   "metadata": {},
   "outputs": [],
   "source": [
    "# 1. Syntax is different for without context manager and with context manager. Context manager needs the with keyword and\n",
    "# as keyword to perform the aliaising.\n",
    "# 2. Indentation not required without context manager. With context manager at least one indented line is required and once\n",
    "# indented block ends, file object is closed. \n",
    "# 3. Explicit close method is required without context manager. With context manager, automatically file is closed on exiting\n",
    "# indentation."
   ]
  },
  {
   "cell_type": "code",
   "execution_count": null,
   "id": "67227496",
   "metadata": {},
   "outputs": [],
   "source": [
    "with open('animal_jokes.txt', 'r') as f1:\n",
    "    for x in f1.readlines():\n",
    "        print(x)\n",
    "        \n",
    "        \n",
    "print('File object closed')"
   ]
  },
  {
   "cell_type": "code",
   "execution_count": null,
   "id": "dfa25b9b",
   "metadata": {},
   "outputs": [],
   "source": [
    "context manager - once you finish the indentation then it closes the file automatically. "
   ]
  },
  {
   "cell_type": "code",
   "execution_count": null,
   "id": "9fda761f",
   "metadata": {},
   "outputs": [],
   "source": [
    "print(f1.closed)"
   ]
  },
  {
   "cell_type": "code",
   "execution_count": null,
   "id": "bb68a0a6",
   "metadata": {},
   "outputs": [],
   "source": [
    "ascii table = numbers - character - 0-255\n",
    "cp1252 = numbers - character = 0-255\n",
    "\n",
    "Unicode\n",
    "utf8 = numbers - character = 114,000\n",
    "utf16 = numbers - character = 65000 (but can be extended to 140000)\n",
    "utf32 = about 65000"
   ]
  },
  {
   "cell_type": "code",
   "execution_count": null,
   "id": "b2be43c1",
   "metadata": {},
   "outputs": [],
   "source": [
    "with open('animal_jokes.txt', 'r') as f:\n",
    "    for x in f.readlines():\n",
    "        print(x)"
   ]
  },
  {
   "cell_type": "code",
   "execution_count": null,
   "id": "e335e97e",
   "metadata": {},
   "outputs": [],
   "source": [
    "# open files need to be closed with the close function using the following syntax:\n",
    "\n",
    "# <variable_name>.close()\n",
    "\n",
    "# However, to ensure that in case of any errors that data is not lost or files do not get corrupted (since we have not\n",
    "# closed the file properly), it is good practice to build in exception handling as follows : \n",
    "\n",
    "f = open('animal_jokes.txt', 'r', errors = 'strict')\n",
    "try:\n",
    "    data = f.read()\n",
    "    print(data)\n",
    "finally:\n",
    "    f.close()"
   ]
  },
  {
   "cell_type": "code",
   "execution_count": 49,
   "id": "5d44b7f0",
   "metadata": {},
   "outputs": [
    {
     "ename": "ValueError",
     "evalue": "negative seek position -100",
     "output_type": "error",
     "traceback": [
      "\u001b[1;31m---------------------------------------------------------------------------\u001b[0m",
      "\u001b[1;31mValueError\u001b[0m                                Traceback (most recent call last)",
      "\u001b[1;32m~\\AppData\\Local\\Temp\\ipykernel_14296\\3923185717.py\u001b[0m in \u001b[0;36m<module>\u001b[1;34m\u001b[0m\n\u001b[0;32m      4\u001b[0m \u001b[1;33m\u001b[0m\u001b[0m\n\u001b[0;32m      5\u001b[0m \u001b[1;32mwith\u001b[0m \u001b[0mopen\u001b[0m\u001b[1;33m(\u001b[0m\u001b[1;34m'animal_jokes.txt'\u001b[0m\u001b[1;33m,\u001b[0m \u001b[1;34m'r'\u001b[0m\u001b[1;33m)\u001b[0m \u001b[1;32mas\u001b[0m \u001b[0mf\u001b[0m\u001b[1;33m:\u001b[0m\u001b[1;33m\u001b[0m\u001b[1;33m\u001b[0m\u001b[0m\n\u001b[1;32m----> 6\u001b[1;33m     \u001b[0mf\u001b[0m\u001b[1;33m.\u001b[0m\u001b[0mseek\u001b[0m\u001b[1;33m(\u001b[0m\u001b[1;33m-\u001b[0m\u001b[1;36m100\u001b[0m\u001b[1;33m)\u001b[0m\u001b[1;33m\u001b[0m\u001b[1;33m\u001b[0m\u001b[0m\n\u001b[0m\u001b[0;32m      7\u001b[0m     \u001b[1;32mfor\u001b[0m \u001b[0mx\u001b[0m \u001b[1;32min\u001b[0m \u001b[0mf\u001b[0m\u001b[1;33m.\u001b[0m\u001b[0mreadlines\u001b[0m\u001b[1;33m(\u001b[0m\u001b[1;36m50\u001b[0m\u001b[1;33m)\u001b[0m\u001b[1;33m:\u001b[0m\u001b[1;33m\u001b[0m\u001b[1;33m\u001b[0m\u001b[0m\n\u001b[0;32m      8\u001b[0m         \u001b[0mprint\u001b[0m\u001b[1;33m(\u001b[0m\u001b[0mx\u001b[0m\u001b[1;33m)\u001b[0m\u001b[1;33m\u001b[0m\u001b[1;33m\u001b[0m\u001b[0m\n",
      "\u001b[1;31mValueError\u001b[0m: negative seek position -100"
     ]
    }
   ],
   "source": [
    "#An alternate way to open files is with the 'with' keyword which opens a context manager. Internally, the context manager\n",
    "# calls the __enter__ constructor and open the files with this context and upon completing the execution automatically calls\n",
    "# the __exit__ constructor to close the file. \n",
    "\n",
    "with open('animal_jokes.txt', 'r') as f:\n",
    "    f.seek(-100)\n",
    "    for x in f.readlines(50):\n",
    "        print(x)\n",
    "        "
   ]
  },
  {
   "cell_type": "code",
   "execution_count": null,
   "id": "32bb46bc",
   "metadata": {},
   "outputs": [],
   "source": [
    "print(f.closed)"
   ]
  },
  {
   "cell_type": "code",
   "execution_count": null,
   "id": "05ec1754",
   "metadata": {},
   "outputs": [],
   "source": [
    "# As you can notice the file has already been closed."
   ]
  },
  {
   "cell_type": "code",
   "execution_count": null,
   "id": "68e2658f",
   "metadata": {},
   "outputs": [],
   "source": [
    "f = open('animal_jokes.txt', 'r')\n",
    "for x in f.readlines(50):\n",
    "    print(x)\n",
    "\n"
   ]
  },
  {
   "cell_type": "code",
   "execution_count": null,
   "id": "3e8ca82b",
   "metadata": {},
   "outputs": [],
   "source": [
    "print(f'Closing file object, {f.close()}.')\n",
    "\n",
    "print(f.closed)"
   ]
  },
  {
   "cell_type": "code",
   "execution_count": null,
   "id": "7b2a71a0",
   "metadata": {},
   "outputs": [],
   "source": [
    "with open('animal_jokes.txt', 'a') as f:\n",
    "    #data = f.readlines()\n",
    "    #print(len(data))\n",
    "    f.write('No more jokes')\n",
    "    "
   ]
  },
  {
   "cell_type": "code",
   "execution_count": 42,
   "id": "c5ad1268",
   "metadata": {},
   "outputs": [],
   "source": [
    "with open('animal_jokes.txt', 'w') as aj, open('animal_jokes_copy.txt') as ajcopy:\n",
    "    aj.writelines(ajcopy)"
   ]
  },
  {
   "cell_type": "code",
   "execution_count": 48,
   "id": "d2628d5b",
   "metadata": {},
   "outputs": [
    {
     "name": "stdout",
     "output_type": "stream",
     "text": [
      "125\n"
     ]
    }
   ],
   "source": [
    "with open('animal_jokes.txt', 'r+') as f:\n",
    "    f.seek(100)\n",
    "    f.write('Learning file permissions')\n",
    "    f.flush()\n",
    "    print(f.tell())\n",
    "    \n",
    "#     for x in f.readlines():\n",
    "#         print(x)"
   ]
  },
  {
   "cell_type": "code",
   "execution_count": null,
   "id": "51e4eef4",
   "metadata": {},
   "outputs": [],
   "source": []
  },
  {
   "cell_type": "code",
   "execution_count": null,
   "id": "fb7d58ac",
   "metadata": {},
   "outputs": [],
   "source": [
    "# As we can see a text file with read only permissions has been opened which when we tried to write to gave us an\n",
    "# UnsupportedOperation error : 'not writable'"
   ]
  },
  {
   "cell_type": "code",
   "execution_count": 49,
   "id": "7b0797da",
   "metadata": {},
   "outputs": [
    {
     "name": "stdout",
     "output_type": "stream",
     "text": [
      "1000\n",
      "road?\n",
      "\n",
      "A: To show everyone he wasn't chicken!\n",
      "\n",
      "Q: Why did the lion spit out the clown?\n",
      "\n",
      "A: Because he tasted funny!\n",
      "\n",
      "Q: What animals are on legal documents?\n",
      "\n",
      "A: Seals!\n",
      "\n",
      "Q: What do you get when you cross a snake and a pie?\n",
      "\n",
      "A: A pie-thon!\n",
      "\n",
      "Q: What did the buffalo say to his son when he went away on a trip?\n",
      "\n",
      "A: Bison!\n",
      "\n",
      "Q: How do bees get to school?\n",
      "\n",
      "A: By school buzz!\n",
      "\n",
      "Q: What do you call a bear with no ears?\n",
      "\n",
      "A: B!\n",
      "\n",
      "File ends here\n"
     ]
    }
   ],
   "source": [
    "with open('animal_jokes.txt', 'a+') as f:\n",
    "#     f.write('\\nFile ends here')\n",
    "    f.seek(1000)\n",
    "    print(f.tell())\n",
    "    for x in f.readlines():\n",
    "        print(x)"
   ]
  },
  {
   "cell_type": "code",
   "execution_count": null,
   "id": "d501a81f",
   "metadata": {},
   "outputs": [],
   "source": [
    "with open('animal_jokes.txt', 'r') as f:\n",
    "    f.write('\\nXYZ')"
   ]
  },
  {
   "cell_type": "code",
   "execution_count": null,
   "id": "83e7384a",
   "metadata": {},
   "outputs": [],
   "source": [
    "# As with default mode (i.e without specifying 'r', we cannot write to the file)"
   ]
  },
  {
   "cell_type": "code",
   "execution_count": null,
   "id": "7b9a886d",
   "metadata": {},
   "outputs": [],
   "source": [
    "with open('animal_jokes.txt', 'r+') as f:\n",
    "    f.write('\\nXYZ')\n",
    "    "
   ]
  },
  {
   "cell_type": "code",
   "execution_count": null,
   "id": "5b10852e",
   "metadata": {},
   "outputs": [],
   "source": [
    "with open('animal_jokes.txt', 'r') as f:\n",
    "    for x in f.readlines():\n",
    "        print(x)"
   ]
  },
  {
   "cell_type": "code",
   "execution_count": null,
   "id": "49a23f10",
   "metadata": {},
   "outputs": [],
   "source": [
    "with open('animal_jokes.txt', 'r+') as f:\n",
    "    for i in f.readlines():\n",
    "        print(i)\n",
    "    f.write('Sept 23rd Batch')"
   ]
  },
  {
   "cell_type": "code",
   "execution_count": null,
   "id": "81a2a8c5",
   "metadata": {},
   "outputs": [],
   "source": [
    "# r+ = Read mode but allowing to write. And your cursor is at beginning of file by default.\n",
    "# w+ = Write mode - that means file is truncated. Your cursor at beginning file. "
   ]
  },
  {
   "cell_type": "code",
   "execution_count": null,
   "id": "82c46678",
   "metadata": {},
   "outputs": [],
   "source": [
    "# opening files in write only mode. \n",
    "\n",
    "with open('animal_jokes.txt', 'w') as f:\n",
    "    f.write('\\nXYZ')"
   ]
  },
  {
   "cell_type": "code",
   "execution_count": null,
   "id": "36a64509",
   "metadata": {},
   "outputs": [],
   "source": [
    "with open('animal_jokes.txt', 'r') as f:\n",
    "    for x in f.readlines():\n",
    "        print(x)"
   ]
  },
  {
   "cell_type": "code",
   "execution_count": null,
   "id": "8f536a72",
   "metadata": {},
   "outputs": [],
   "source": [
    "with open('animal_jokes.txt', 'w+') as f:\n",
    "    for x in f.readlines():\n",
    "        print(x)"
   ]
  },
  {
   "cell_type": "code",
   "execution_count": null,
   "id": "53040712",
   "metadata": {},
   "outputs": [],
   "source": [
    "# Note the not readable error."
   ]
  },
  {
   "cell_type": "code",
   "execution_count": null,
   "id": "efcaeb36",
   "metadata": {},
   "outputs": [],
   "source": [
    "with open('animal_jokes.txt', 'r') as f:\n",
    "    for x in f.readlines():\n",
    "        print(x)\n",
    "    "
   ]
  },
  {
   "cell_type": "code",
   "execution_count": null,
   "id": "f9575b49",
   "metadata": {},
   "outputs": [],
   "source": [
    "# Note how there is no output - because w and w+ erase the contents of the file when opening in these modes. Therefore in\n",
    "# the second example also we have no content to read."
   ]
  },
  {
   "cell_type": "code",
   "execution_count": null,
   "id": "3371ddc5",
   "metadata": {},
   "outputs": [],
   "source": [
    "writelines(takes a list of strings)"
   ]
  },
  {
   "cell_type": "code",
   "execution_count": null,
   "id": "7f774ca2",
   "metadata": {},
   "outputs": [],
   "source": []
  },
  {
   "cell_type": "code",
   "execution_count": null,
   "id": "b0f5269a",
   "metadata": {},
   "outputs": [],
   "source": [
    "with open('animal_jokes.txt', 'r') as f, open('animal_jokes_copy.txt', 'r') as f1:\n",
    "    print(len(f.readlines()))\n",
    "    print(len(f1.readlines()))"
   ]
  },
  {
   "cell_type": "code",
   "execution_count": null,
   "id": "66eb1369",
   "metadata": {},
   "outputs": [],
   "source": [
    "# Re-writing the text to the animals_jokes file using multiple with open\n",
    "\n",
    "with open('animal_jokes.txt', 'w+') as aj, open('animal_jokes_Copy.txt', 'r') as ajCopy:\n",
    "#     data = ajCopy.readlines()\n",
    "#     print(data)\n",
    "     aj.writelines(ajCopy)\n"
   ]
  },
  {
   "cell_type": "code",
   "execution_count": null,
   "id": "422a8d5e",
   "metadata": {},
   "outputs": [],
   "source": [
    "#Write mode to create a file"
   ]
  },
  {
   "cell_type": "code",
   "execution_count": null,
   "id": "c6c4e5c6",
   "metadata": {},
   "outputs": [],
   "source": [
    "with open('animal_jokes.txt', 'r+') as f:\n",
    "    f.truncate(500)"
   ]
  },
  {
   "cell_type": "code",
   "execution_count": 54,
   "id": "642490a3",
   "metadata": {},
   "outputs": [
    {
     "name": "stdout",
     "output_type": "stream",
     "text": [
      "0\n"
     ]
    }
   ],
   "source": [
    "with open('New_file2.txt', 'a') as nf:\n",
    "    print(nf.tell())"
   ]
  },
  {
   "cell_type": "code",
   "execution_count": null,
   "id": "e5911b09",
   "metadata": {},
   "outputs": [],
   "source": [
    "with open('New_file.txt', 'r') as nf:\n",
    "    for x in nf:\n",
    "        print(x)"
   ]
  },
  {
   "cell_type": "code",
   "execution_count": null,
   "id": "4a53efde",
   "metadata": {},
   "outputs": [],
   "source": [
    "fileobjectname.seek(indexposition) - will send the cursor to the specified index position.\n",
    "\n",
    "fileobjectname.tell() - will tell the index position of the cursor."
   ]
  },
  {
   "cell_type": "code",
   "execution_count": null,
   "id": "911ca3fd",
   "metadata": {},
   "outputs": [],
   "source": [
    "with open('animal_jokes.txt', 'a') as aj:\n",
    "    #print(aj.seek(100))\n",
    "    print(aj.tell())"
   ]
  },
  {
   "cell_type": "code",
   "execution_count": null,
   "id": "b77e8a18",
   "metadata": {},
   "outputs": [],
   "source": [
    "# w+ mode to create a file\n",
    "with open('New_file2.txt', 'w+') as nf:\n",
    "    print(nf.tell())\n",
    "    nf.write('XYZ new file')\n",
    "    print(nf.tell())\n",
    "    nf.seek(0)\n",
    "    print(nf.tell())\n",
    "    for x in nf.readlines():\n",
    "        print(x)\n",
    "    "
   ]
  },
  {
   "cell_type": "code",
   "execution_count": null,
   "id": "0ca1fc36",
   "metadata": {},
   "outputs": [],
   "source": [
    "#Append mode and append+ mode."
   ]
  },
  {
   "cell_type": "code",
   "execution_count": null,
   "id": "dff8e637",
   "metadata": {},
   "outputs": [],
   "source": [
    "with open('animal_jokes.txt', 'a') as f:\n",
    "    f.write('\\nABC')"
   ]
  },
  {
   "cell_type": "code",
   "execution_count": null,
   "id": "002840c8",
   "metadata": {},
   "outputs": [],
   "source": [
    "with open('animal_jokes.txt', 'a+') as f:\n",
    "    f.seek(0)\n",
    "    for x in f.readlines():\n",
    "        print(x)"
   ]
  },
  {
   "cell_type": "code",
   "execution_count": null,
   "id": "f786487c",
   "metadata": {},
   "outputs": [],
   "source": [
    "# Note how when opened in 'a' mode - file is not readable."
   ]
  },
  {
   "cell_type": "code",
   "execution_count": null,
   "id": "663dbe96",
   "metadata": {},
   "outputs": [],
   "source": [
    "with open('animal_jokes.txt', 'a+') as f:\n",
    "    #f.seek(0)\n",
    "    for x in f.readlines():\n",
    "        print(x)"
   ]
  },
  {
   "cell_type": "code",
   "execution_count": null,
   "id": "281e178f",
   "metadata": {},
   "outputs": [],
   "source": [
    "with open('animal_jokes.txt', 'r') as f:\n",
    "    for x in f.readlines():\n",
    "        print(x)"
   ]
  },
  {
   "cell_type": "code",
   "execution_count": null,
   "id": "e91b33c4",
   "metadata": {},
   "outputs": [],
   "source": [
    "# Note no output since the cursor is at end of file. "
   ]
  },
  {
   "cell_type": "code",
   "execution_count": null,
   "id": "17008e2b",
   "metadata": {},
   "outputs": [],
   "source": [
    "when running a for on a file object : file_object.readlines() is the default i.e. \n",
    "    \n",
    "for var_name in f   = for var_name in f.readlines()\n"
   ]
  },
  {
   "cell_type": "code",
   "execution_count": null,
   "id": "0a7630e5",
   "metadata": {},
   "outputs": [],
   "source": [
    "with open('animal_jokes.txt', 'r') as f:\n",
    "    for x in f:\n",
    "        print(x)"
   ]
  },
  {
   "cell_type": "code",
   "execution_count": null,
   "id": "c31a487e",
   "metadata": {},
   "outputs": [],
   "source": [
    "with open('animal_jokes.txt', 'w+') as aj ; "
   ]
  },
  {
   "cell_type": "code",
   "execution_count": null,
   "id": "cd70315f",
   "metadata": {},
   "outputs": [],
   "source": [
    "# Text, binary files opened using Python / file handling. \n",
    "\n",
    "# Modes / Permissions - \n",
    "\n",
    "r, rb, r+, rb+ - Read if file not found - throws error. And cursor at beginning of file\n",
    "w, wb, w+, wb+ - If file found, truncates. If not found, creates new file and cursor at beginning of file. \n",
    "a, ap, a+, ab+ - If file found, cursor at end of file. If not found, creates the file. \n",
    "\n",
    "# Open function - File name, mode, buffersize, encoding and errors.\n",
    "# Close function\n",
    "\n",
    "# with keyword to open a context manager to open file object and work on it. \n",
    "\n",
    "# File, buffer and file object.\n",
    "\n",
    "# Some functions - read, readlines, flush, tell, seek, write, writelines. \n"
   ]
  },
  {
   "cell_type": "code",
   "execution_count": null,
   "id": "7b1369a0",
   "metadata": {},
   "outputs": [],
   "source": [
    "# Before we go on to the binary file types in Python, let us study the methods available on file objects in Python."
   ]
  },
  {
   "cell_type": "code",
   "execution_count": null,
   "id": "bcab4cfb",
   "metadata": {},
   "outputs": [],
   "source": [
    "#Method          Description\n",
    "# close()        Closes the file\n",
    "# detach()       Returns the separated raw stream from the buffer\n",
    "# fileno()       Returns a number that represents the stream, from the operating system's perspective\n",
    "# flush()        Flushes the internal buffer\n",
    "# isatty()       Returns whether the file stream is interactive or not\n",
    "# read()         Returns the file content\n",
    "# readable()     Returns whether the file stream can be read or not\n",
    "# readline()     Returns one line from the file\n",
    "# readlines()    Returns a list of lines from the file\n",
    "# seek()         Change the file handle position\n",
    "# seekable()     Returns whether the file allows us to change the handle position\n",
    "# tell()         Returns the current file handle position\n",
    "# truncate()     Resizes the file to a specified size\n",
    "# writable()     Returns whether the file can be written to or not\n",
    "# write()        Writes the specified string to the file\n",
    "# writelines()   Writes a list of strings to the file"
   ]
  },
  {
   "cell_type": "code",
   "execution_count": null,
   "id": "8e8dc404",
   "metadata": {},
   "outputs": [],
   "source": [
    "# Hello there \\n\n",
    "# Hi \\n\n",
    "# Bon Jour \\n\n",
    "# Namaste \\n\n",
    "# Buenos Dias \\n\n",
    "# Arigato \\n\n",
    "# Ni Hao \\n\n"
   ]
  },
  {
   "cell_type": "code",
   "execution_count": 69,
   "id": "e7156c4f",
   "metadata": {},
   "outputs": [
    {
     "name": "stdout",
     "output_type": "stream",
     "text": [
      "x is :  ['ï»¿Q: What do you call a sleeping bull?\\n', 'A: A bull-dozer.\\n']\n",
      "2\n"
     ]
    }
   ],
   "source": [
    "with open('animal_jokes.txt', 'r') as f:\n",
    "    x = f.readlines(50)\n",
    "    print('x is : ', x)\n",
    "    print(len(x))"
   ]
  },
  {
   "cell_type": "code",
   "execution_count": 72,
   "id": "0a37eee8",
   "metadata": {},
   "outputs": [
    {
     "name": "stdout",
     "output_type": "stream",
     "text": [
      "ï»¿Q: What do you call a sleeping bull?\n",
      "A: A bull-dozer.\n",
      "\n",
      "57\n"
     ]
    }
   ],
   "source": [
    "lines = ''\n",
    "\n",
    "with open('animal_jokes.txt', 'r') as f:\n",
    "    for line in x:\n",
    "        lines += line\n",
    "    \n",
    "print(lines)\n",
    "print(len(lines))"
   ]
  },
  {
   "cell_type": "code",
   "execution_count": 75,
   "id": "4c2af496",
   "metadata": {},
   "outputs": [],
   "source": [
    "with open('animal_jokes.txt', 'a+') as aj:\n",
    "    aj.writelines(['\\nI can write a single line using write', '\\n2nd line to be written '])\n",
    "    "
   ]
  },
  {
   "cell_type": "code",
   "execution_count": 84,
   "id": "863755ff",
   "metadata": {},
   "outputs": [],
   "source": [
    "with open('animal_jokes.txt', 'w') as aj, open('animal_jokes_Copy.txt', 'r') as ajc:\n",
    "    aj.writelines(ajc)\n",
    "    "
   ]
  },
  {
   "cell_type": "code",
   "execution_count": 85,
   "id": "7d566f7c",
   "metadata": {},
   "outputs": [],
   "source": [
    "with open('animal_jokes.txt', 'r+') as aj:\n",
    "    aj.seek(500)\n",
    "    aj.truncate(500)"
   ]
  },
  {
   "cell_type": "code",
   "execution_count": null,
   "id": "942f03e6",
   "metadata": {},
   "outputs": [],
   "source": [
    "with open('animal_jokes.txt', 'r') as aj:\n",
    "    for x in aj.readlines():\n",
    "        print(x)\n"
   ]
  },
  {
   "cell_type": "code",
   "execution_count": null,
   "id": "1dc70f1b",
   "metadata": {},
   "outputs": [],
   "source": [
    "with open('animal_jokes.txt', 'r') as aj:\n",
    "    print(aj.readline())\n",
    "    print(aj.readline())"
   ]
  },
  {
   "cell_type": "code",
   "execution_count": null,
   "id": "2239cc5a",
   "metadata": {},
   "outputs": [],
   "source": [
    "f = open('animal_jokes.txt', 'r')\n",
    "\n",
    "print(f.readline())"
   ]
  },
  {
   "cell_type": "code",
   "execution_count": null,
   "id": "a20f0c98",
   "metadata": {},
   "outputs": [],
   "source": [
    "print(f.readline())"
   ]
  },
  {
   "cell_type": "code",
   "execution_count": 10,
   "id": "12803f8e",
   "metadata": {},
   "outputs": [
    {
     "name": "stdout",
     "output_type": "stream",
     "text": [
      "True\n",
      "True\n",
      "True\n"
     ]
    }
   ],
   "source": [
    "with open('animal_jokes.txt', 'a+') as aj:\n",
    "    print(aj.readable())\n",
    "    print(aj.writable())\n",
    "    print(aj.seekable())"
   ]
  },
  {
   "cell_type": "code",
   "execution_count": 13,
   "id": "daa74a4e",
   "metadata": {},
   "outputs": [
    {
     "name": "stdout",
     "output_type": "stream",
     "text": [
      "0\n",
      "200\n"
     ]
    }
   ],
   "source": [
    "with open('animal_jokes.txt', 'r') as aj:\n",
    "    print(aj.tell())\n",
    "    aj.seek(200)\n",
    "    print(aj.tell())"
   ]
  },
  {
   "cell_type": "code",
   "execution_count": 26,
   "id": "dcb39061",
   "metadata": {},
   "outputs": [],
   "source": [
    "with open('animal_jokes.txt', 'w+') as aj, open('animal_jokes_copy.txt') as ajcopy:\n",
    "    aj.writelines(ajcopy)\n",
    "#     aj.seek(500)\n",
    "#     print(aj.readline())"
   ]
  },
  {
   "cell_type": "code",
   "execution_count": 23,
   "id": "b2194f29",
   "metadata": {},
   "outputs": [
    {
     "name": "stdout",
     "output_type": "stream",
     "text": [
      "do you get from a pampered cow?\n",
      "\n"
     ]
    }
   ],
   "source": [
    "with open('animal_jokes.txt', 'r') as aj:\n",
    "    aj.seek(500)\n",
    "    print(aj.readline())\n",
    "    "
   ]
  },
  {
   "cell_type": "code",
   "execution_count": 24,
   "id": "8c8a16cf",
   "metadata": {},
   "outputs": [],
   "source": [
    "with open('animal_jokes.txt', 'r+') as aj:\n",
    "    aj.truncate(500)"
   ]
  },
  {
   "cell_type": "code",
   "execution_count": 33,
   "id": "c4cf232c",
   "metadata": {},
   "outputs": [],
   "source": [
    "with open('animal_jokes.txt', 'a+') as aj:\n",
    "    aj.write('\\n Lets see if this works \\n')\n",
    "    "
   ]
  },
  {
   "cell_type": "code",
   "execution_count": 35,
   "id": "77a5c8f0",
   "metadata": {},
   "outputs": [],
   "source": [
    "with open('animal_jokes.txt', 'a+') as aj:\n",
    "    aj.writelines(['\\n Lets see if this works \\n', 'This should also work', 'This one too'])"
   ]
  },
  {
   "cell_type": "code",
   "execution_count": 91,
   "id": "2a878f54",
   "metadata": {},
   "outputs": [
    {
     "name": "stdout",
     "output_type": "stream",
     "text": [
      "True\n",
      "True\n"
     ]
    }
   ],
   "source": [
    "with open('animal_jokes.txt', 'a+') as aj:\n",
    "    print(aj.readable())\n",
    "    print(aj.writable())"
   ]
  },
  {
   "cell_type": "code",
   "execution_count": 92,
   "id": "63665f0a",
   "metadata": {},
   "outputs": [
    {
     "name": "stdout",
     "output_type": "stream",
     "text": [
      "True\n"
     ]
    }
   ],
   "source": [
    "with open('animal_jokes.txt', 'a+') as aj:\n",
    "    print(aj.seekable())"
   ]
  },
  {
   "cell_type": "code",
   "execution_count": null,
   "id": "a533163e",
   "metadata": {},
   "outputs": [],
   "source": []
  },
  {
   "cell_type": "code",
   "execution_count": null,
   "id": "6caaa196",
   "metadata": {},
   "outputs": [],
   "source": [
    "# Attributes:\n",
    "\n",
    "# closed - Returns True if the file is closed and False when the file is open.\n",
    "# encoding - Encoding used for the file.\n",
    "# mode - Value of mode parameter.\n",
    "# name: If the file object was created using open(), the name of the file.\n",
    "# newlines: A file object that has been opened in universal newline mode has this attribute which reflects the newline\n",
    "# convention used in the file. The value for this attribute are “\\r”, “\\n”, “\\r\\n”, None or a tuple containing all the\n",
    "# newline types seen.\n"
   ]
  },
  {
   "cell_type": "code",
   "execution_count": 93,
   "id": "db9da76b",
   "metadata": {},
   "outputs": [
    {
     "name": "stdout",
     "output_type": "stream",
     "text": [
      "False\n",
      "cp1252\n",
      "r\n",
      "animal_jokes.txt\n"
     ]
    }
   ],
   "source": [
    "with open('animal_jokes.txt', 'r') as f:\n",
    "    print(f.closed)\n",
    "    print(f.encoding)\n",
    "    print(f.mode)\n",
    "    print(f.name)\n",
    "    #print(f.newlines)"
   ]
  },
  {
   "cell_type": "code",
   "execution_count": null,
   "id": "5b3c076a",
   "metadata": {},
   "outputs": [],
   "source": []
  },
  {
   "cell_type": "code",
   "execution_count": null,
   "id": "90bb9ed5",
   "metadata": {},
   "outputs": [],
   "source": [
    "with open('animal_jokes.txt', 'r+') as f:\n",
    "    data = f.readlines()\n",
    "    print(data)\n",
    "    data.pop(2)\n",
    "    print(data)\n",
    "    f.seek(0)\n",
    "    f.writelines(data)\n",
    "    f.seek(0)\n",
    "    for x in f:\n",
    "        print(x)"
   ]
  },
  {
   "cell_type": "code",
   "execution_count": null,
   "id": "d40f5663",
   "metadata": {},
   "outputs": [],
   "source": [
    "with open('animal_jokes.txt', 'w+') as f, open('animal_jokes_copy.txt') as f1:\n",
    "    f.writelines(f1)"
   ]
  },
  {
   "cell_type": "code",
   "execution_count": null,
   "id": "c2262f74",
   "metadata": {},
   "outputs": [],
   "source": [
    "# File Handling\n",
    "\n",
    "1. Text and Binary files can be handled. Text is also binary but encoding is specified so characters can be dispalyed. \n",
    "2. File, buffer and file object in script and interaction between these.\n",
    "3. Open function - we need to specify filename and give a reference to the file object opened. \n",
    "4. Optional to use - context manager using the with keyword. \n",
    "5. Open function - Filename, permissions/mode, encoding, buffering, errors\n",
    "\n",
    "\n",
    "Permissions/mode that can be specified\n",
    "r,r+, rb, rb+ - Cursor at beginning of file. If no file exists - error. \n",
    "w,w+, wb, wb+ - Cursor at beginning of file. If no file exists - creates. If file exists, truncates\n",
    "a,a+, ab, ab+ - Cursor at end of file. If no file exits - creates. If file exists, appends to end of file. \n",
    "t - to open as text\n",
    "x - Exculsive creation. If file exists, error. If does not exist - creates new file. \n",
    "\n",
    "\n",
    "readlines, write, writelines, seek, tell methods in brief."
   ]
  },
  {
   "cell_type": "code",
   "execution_count": null,
   "id": "9f6270d5",
   "metadata": {},
   "outputs": [],
   "source": [
    "# close() function call and close attribute\n",
    "f = open('animal_jokes.txt', 'r')\n",
    "print(f.closed)\n",
    "f.close()\n",
    "print(f.closed)"
   ]
  },
  {
   "cell_type": "code",
   "execution_count": null,
   "id": "500638fc",
   "metadata": {},
   "outputs": [],
   "source": [
    "#Note - close() function call closes the file while closed attribute returns True or False indicating the state of the \n",
    "# file object."
   ]
  },
  {
   "cell_type": "code",
   "execution_count": null,
   "id": "dd8dfe92",
   "metadata": {},
   "outputs": [],
   "source": [
    "# read method - extracts the contents of the file character by character. It can take one parameter, the size (characters or\n",
    "# bytes) to be read."
   ]
  },
  {
   "cell_type": "code",
   "execution_count": null,
   "id": "36a219dc",
   "metadata": {},
   "outputs": [],
   "source": [
    "with open('animal_jokes.txt', 'r') as f:\n",
    "#     print(f.readline(20))\n",
    "#     print(f.readline())\n",
    "    for x in range(len(f.readlines())):\n",
    "        print(f.readline())\n"
   ]
  },
  {
   "cell_type": "code",
   "execution_count": null,
   "id": "60c3bd3e",
   "metadata": {},
   "outputs": [],
   "source": [
    "with open('animal_jokes.txt', 'r') as f1:\n",
    "    for x in f1.readlines():\n",
    "        print(x)"
   ]
  },
  {
   "cell_type": "code",
   "execution_count": null,
   "id": "0eaf2099",
   "metadata": {},
   "outputs": [],
   "source": [
    "with open('animal_jokes.txt', 'a+') as f:\n",
    "    print(f.tell())\n",
    "    print(f.seek(10))\n",
    "    print(f.tell())\n",
    "    "
   ]
  },
  {
   "cell_type": "code",
   "execution_count": null,
   "id": "8182004c",
   "metadata": {},
   "outputs": [],
   "source": [
    "f = open('animal_jokes.txt', 'r+')\n",
    "f.write('Hi There')\n",
    "f.flush()\n"
   ]
  },
  {
   "cell_type": "code",
   "execution_count": null,
   "id": "290e381c",
   "metadata": {},
   "outputs": [],
   "source": [
    "with open('animal_jokes.txt', 'r+') as f:\n",
    "    f.write('Hi There')\n",
    "    #f.flush()\n",
    "    f.seek(0)\n",
    "    for x in f.readline(200):\n",
    "        print(x)"
   ]
  },
  {
   "cell_type": "code",
   "execution_count": null,
   "id": "6080e0f4",
   "metadata": {},
   "outputs": [],
   "source": [
    "f = open('animal_jokes.txt', 'r')\n",
    "for x in f.read(50):\n",
    "    print(x)\n",
    "\n",
    "f.close()"
   ]
  },
  {
   "cell_type": "code",
   "execution_count": null,
   "id": "17002320",
   "metadata": {},
   "outputs": [],
   "source": [
    "f = open('animal_jokes.txt', 'r')\n",
    "\n"
   ]
  },
  {
   "cell_type": "code",
   "execution_count": null,
   "id": "9f32da9b",
   "metadata": {},
   "outputs": [],
   "source": [
    "data = f.readlines()\n"
   ]
  },
  {
   "cell_type": "code",
   "execution_count": null,
   "id": "df8b6417",
   "metadata": {},
   "outputs": [],
   "source": [
    "for x in data:\n",
    "    print(x)"
   ]
  },
  {
   "cell_type": "code",
   "execution_count": null,
   "id": "f3b1a64e",
   "metadata": {},
   "outputs": [],
   "source": [
    "# Note how the second for loop gives no output? That is because file objects themselves are iterators i.e. the iter() \n",
    "# function is called on creating the file object. And once exhausted cannot be used. \n",
    "\n",
    "f.close()\n",
    "\n",
    "#Therefore, it is best to save the output of read, readlines etc to another variable, perform operations and then write back\n",
    "# to file.\n",
    "\n",
    "with open('animal_jokes.txt', 'r+') as f:\n",
    "    data = f.readlines()\n",
    "    data.insert(2,'\\nBreak from animal jokes \\n\\n')\n",
    "    data[0] = 'Q: What do you call a sleeping BULL?\\n'\n",
    "    f.seek(0)\n",
    "    f.writelines(data)\n",
    "print(data)"
   ]
  },
  {
   "cell_type": "code",
   "execution_count": null,
   "id": "c4b5a48b",
   "metadata": {},
   "outputs": [],
   "source": [
    "f = open('animal_jokes.txt', 'r')\n",
    "\n",
    "data = f.read()\n",
    "\n",
    "print(data)\n",
    "print(type(data))\n",
    "\n",
    "f.close()"
   ]
  },
  {
   "cell_type": "code",
   "execution_count": null,
   "id": "8b81f1d6",
   "metadata": {},
   "outputs": [],
   "source": [
    "print(f.readline())"
   ]
  },
  {
   "cell_type": "code",
   "execution_count": null,
   "id": "7724a0c4",
   "metadata": {},
   "outputs": [],
   "source": [
    "f.close()"
   ]
  },
  {
   "cell_type": "code",
   "execution_count": null,
   "id": "7b08516c",
   "metadata": {},
   "outputs": [],
   "source": [
    "with open('animal_jokes.txt', 'r+') as f:\n",
    "    f.write('\\nI hope you like animal jokes\\n\\n')\n",
    "\n",
    "#Note how - since we did not do any read operations, cursor is at beginning of file and overwrote the portion of file till\n",
    "# the inserted string."
   ]
  },
  {
   "cell_type": "code",
   "execution_count": null,
   "id": "da4f3124",
   "metadata": {},
   "outputs": [],
   "source": [
    "with open('animal_jokes.txt', 'r+') as f:\n",
    "    f.seek(200)\n",
    "    f.write('\\nBreak from animal jokes \\n\\n')\n",
    "\n",
    "# Inserted the specified string at specified index position."
   ]
  },
  {
   "cell_type": "code",
   "execution_count": null,
   "id": "f5a420a4",
   "metadata": {},
   "outputs": [],
   "source": []
  },
  {
   "cell_type": "code",
   "execution_count": null,
   "id": "cc798302",
   "metadata": {},
   "outputs": [],
   "source": [
    "with open('animal_jokes.txt', 'r') as f:\n",
    "    print(len(f.read()))"
   ]
  },
  {
   "cell_type": "code",
   "execution_count": null,
   "id": "27e3190f",
   "metadata": {},
   "outputs": [],
   "source": [
    "with open('animal_jokes.txt', 'r') as f:\n",
    "    print(len(f.readlines()))"
   ]
  },
  {
   "cell_type": "code",
   "execution_count": null,
   "id": "84e775ab",
   "metadata": {},
   "outputs": [],
   "source": [
    "with open('animal_jokes.txt', 'r') as f:\n",
    "    print(f.readlines())\n",
    "    print(f.tell())\n"
   ]
  },
  {
   "cell_type": "code",
   "execution_count": null,
   "id": "0558ccb1",
   "metadata": {},
   "outputs": [],
   "source": [
    "# readline method for file objects - reads until the newline character is reached. On next readline call - it will read\n",
    "# from where the handle/cursor stopped at last iteration."
   ]
  },
  {
   "cell_type": "code",
   "execution_count": null,
   "id": "a09c0973",
   "metadata": {},
   "outputs": [],
   "source": [
    "with open('animal_jokes.txt', 'w+') as aj, open('animal_jokes_Copy.txt', 'r') as ajCopy:\n",
    "    data = ajCopy.readlines()\n",
    "    aj.writelines(data)\n"
   ]
  },
  {
   "cell_type": "code",
   "execution_count": null,
   "id": "a1e4fe24",
   "metadata": {},
   "outputs": [],
   "source": [
    "read - each character is the output for the read function. \n",
    "readlines - reads each line till end of line marker and puts all the lines in a list\n",
    "readline - reads only ONE line till end of line and waits for next readline to be called to go to next line."
   ]
  },
  {
   "cell_type": "code",
   "execution_count": null,
   "id": "15787377",
   "metadata": {},
   "outputs": [],
   "source": [
    "with open('animal_jokes.txt', 'r') as f:\n",
    "    dataread = f.read()\n",
    "    print('dataread', '-'*100, dataread)\n",
    "    f.seek(0)\n",
    "    datareadline = f.readline()\n",
    "    print('datareadline', '-'*100,datareadline)\n",
    "    f.seek(0)\n",
    "    datareadlines = f.readlines()\n",
    "    print('datareadlines', '-'*100, datareadlines)\n",
    "    \n",
    "    "
   ]
  },
  {
   "cell_type": "code",
   "execution_count": null,
   "id": "3147cd80",
   "metadata": {},
   "outputs": [],
   "source": []
  },
  {
   "cell_type": "code",
   "execution_count": null,
   "id": "5d57a858",
   "metadata": {},
   "outputs": [],
   "source": [
    "with open('animal_jokes.txt', 'r') as f:\n",
    "    print(f.readline())\n",
    "    print(f.readline())\n",
    "    print(f.readline())\n",
    "    print(f.readline())"
   ]
  },
  {
   "cell_type": "code",
   "execution_count": null,
   "id": "d3ac2a7f",
   "metadata": {},
   "outputs": [],
   "source": [
    "f = open('animal_jokes.txt', 'r')\n",
    "print(f.readline())"
   ]
  },
  {
   "cell_type": "code",
   "execution_count": null,
   "id": "e516ec49",
   "metadata": {},
   "outputs": [],
   "source": [
    "print(f.readline())"
   ]
  },
  {
   "cell_type": "code",
   "execution_count": null,
   "id": "dafbde68",
   "metadata": {},
   "outputs": [],
   "source": [
    "print(f.readline())"
   ]
  },
  {
   "cell_type": "code",
   "execution_count": null,
   "id": "5c0bcc8a",
   "metadata": {},
   "outputs": [],
   "source": [
    "print(f.readline())"
   ]
  },
  {
   "cell_type": "code",
   "execution_count": null,
   "id": "36e70032",
   "metadata": {},
   "outputs": [],
   "source": [
    "f.close()"
   ]
  },
  {
   "cell_type": "code",
   "execution_count": null,
   "id": "18f53bd5",
   "metadata": {},
   "outputs": [],
   "source": [
    "#Readlines method returns all the lines in the document in the form of a list. \n",
    "with open('animal_jokes.txt', 'r') as f:\n",
    "    print(f.readlines()[:5])\n",
    "    "
   ]
  },
  {
   "cell_type": "code",
   "execution_count": null,
   "id": "06f30857",
   "metadata": {},
   "outputs": [],
   "source": [
    "f = open('animal_jokes.txt', 'r')\n",
    "for x in f.readlines():\n",
    "    print(x)"
   ]
  },
  {
   "cell_type": "code",
   "execution_count": null,
   "id": "51de396e",
   "metadata": {},
   "outputs": [],
   "source": [
    "#If you notice, in the list of lines from the readlines method, each line ends with a newline character - '\\n'. To suppress\n",
    "# this we could use the splitlines method.\n",
    "\n",
    "with open('animal_jokes.txt', 'r+') as f:\n",
    "    data = f.read().splitlines()\n",
    "    print(data)"
   ]
  },
  {
   "cell_type": "code",
   "execution_count": null,
   "id": "195db05e",
   "metadata": {},
   "outputs": [],
   "source": [
    "for x in data:\n",
    "    print(x)"
   ]
  },
  {
   "cell_type": "code",
   "execution_count": null,
   "id": "370c26bf",
   "metadata": {},
   "outputs": [],
   "source": [
    "#Please remember that splitlines is a string method and not a file object method. "
   ]
  },
  {
   "cell_type": "code",
   "execution_count": null,
   "id": "62328e74",
   "metadata": {},
   "outputs": [],
   "source": []
  },
  {
   "cell_type": "code",
   "execution_count": null,
   "id": "afc66b4e",
   "metadata": {},
   "outputs": [],
   "source": [
    "#Also, the use of readlines method since Python 2.3 has been somewhat deprecated. We can get the same result with : "
   ]
  },
  {
   "cell_type": "code",
   "execution_count": null,
   "id": "bb190af5",
   "metadata": {},
   "outputs": [],
   "source": [
    "f = open('animal_jokes.txt', 'r+')\n",
    "for x in f:\n",
    "    print(x)"
   ]
  },
  {
   "cell_type": "code",
   "execution_count": null,
   "id": "fba4c637",
   "metadata": {},
   "outputs": [],
   "source": []
  },
  {
   "cell_type": "code",
   "execution_count": null,
   "id": "2b787f3a",
   "metadata": {},
   "outputs": [],
   "source": []
  },
  {
   "cell_type": "code",
   "execution_count": null,
   "id": "318ed29f",
   "metadata": {},
   "outputs": [],
   "source": [
    "f = open('animal_jokes.txt', 'a+')\n",
    "f.seek(0)\n",
    "print(len(f.readlines()))"
   ]
  },
  {
   "cell_type": "code",
   "execution_count": null,
   "id": "4bd8843a",
   "metadata": {},
   "outputs": [],
   "source": [
    "# If you remember the example from input cell 62 above which was as follows to re-write contents to another file: "
   ]
  },
  {
   "cell_type": "code",
   "execution_count": null,
   "id": "53f1d44c",
   "metadata": {},
   "outputs": [],
   "source": [
    "# # Re-writing the text to the animals_jokes file using multiple with open\n",
    "\n",
    "# with open('animal_jokes.txt', 'w+') as aj, open('animal_jokes_Copy.txt', 'r') as ajCopy:\n",
    "#     data = ajCopy.readlines()\n",
    "#     aj.writelines(data)\n",
    "\n",
    "# We used the above."
   ]
  },
  {
   "cell_type": "code",
   "execution_count": null,
   "id": "54fbc5bd",
   "metadata": {},
   "outputs": [],
   "source": [
    "with open('animal_jokes.txt', 'r') as f:\n",
    "    for x in f:\n",
    "        print(x)"
   ]
  },
  {
   "cell_type": "code",
   "execution_count": null,
   "id": "719011fd",
   "metadata": {},
   "outputs": [],
   "source": [
    "# Clearing contents of animal_jokes.txt and only inputting XYZ.\n",
    "\n",
    "with open('animal_jokes.txt', 'w') as f:\n",
    "    f.write('xyz')\n",
    "\n"
   ]
  },
  {
   "cell_type": "code",
   "execution_count": null,
   "id": "41b4ab58",
   "metadata": {},
   "outputs": [],
   "source": [
    "# r = read mode\n",
    "# r+ = read mode + permission to write\n",
    "# w = write mode\n",
    "# w+ = write mode + permission to read\n",
    "# a = append mode\n",
    "# a+ = append mode + permission to read"
   ]
  },
  {
   "cell_type": "code",
   "execution_count": null,
   "id": "e44afa54",
   "metadata": {},
   "outputs": [],
   "source": [
    "with open('animal_jokes.txt', 'w+') as aj, open('animal_jokes_Copy.txt', 'r') as ajCopy:\n",
    "    data = ajCopy.readlines()\n",
    "    aj.writelines(data)"
   ]
  },
  {
   "cell_type": "code",
   "execution_count": null,
   "id": "1fa62a1b",
   "metadata": {},
   "outputs": [],
   "source": [
    "# Rewriting contents of animal_jokes_copy.txt to animal_jokes.txt with cleaner syntax.\n",
    "\n",
    "with open('animal_jokes.txt', 'w+') as aj, open('animal_jokes_Copy.txt', 'r') as ajCopy:\n",
    "    aj.writelines(ajCopy)\n"
   ]
  },
  {
   "cell_type": "code",
   "execution_count": null,
   "id": "f3bdca0a",
   "metadata": {},
   "outputs": [],
   "source": [
    "# readable() method returns whether the file object has reading permissions (True) or not (False).\n",
    "\n",
    "with open('animal_jokes.txt', 'r') as f:\n",
    "    data = f.read()\n",
    "    print(len(data))\n",
    "    print(data)"
   ]
  },
  {
   "cell_type": "code",
   "execution_count": null,
   "id": "ef8c0d9a",
   "metadata": {},
   "outputs": [],
   "source": [
    "with open('animal_jokes.txt', 'w') as f:\n",
    "    print(f.readable())"
   ]
  },
  {
   "cell_type": "code",
   "execution_count": null,
   "id": "d05e269b",
   "metadata": {},
   "outputs": [],
   "source": [
    "#Method          Description\n",
    "# close()        Closes the file\n",
    "# detach()       Returns the separated raw stream from the buffer\n",
    "# fileno()       Returns a number that represents the stream, from the operating system's perspective\n",
    "# flush()        Flushes the internal buffer\n",
    "# isatty()       Returns whether the file stream is interactive or not\n",
    "# read()         Returns the file content\n",
    "# readable()     Returns whether the file stream can be read or not\n",
    "# readline()     Returns one line from the file\n",
    "# readlines()    Returns a list of lines from the file\n",
    "# seek()         Change the file handle position\n",
    "# seekable()     Returns whether the file allows us to change the handle position\n",
    "# tell()         Returns the current file handle position\n",
    "# truncate()     Resizes the file to a specified size\n",
    "# writable()     Returns whether the file can be written to or not\n",
    "# write()        Writes the specified string to the file\n",
    "# writelines()   Writes a list of strings to the file"
   ]
  },
  {
   "cell_type": "code",
   "execution_count": 6,
   "id": "1f78444b",
   "metadata": {},
   "outputs": [
    {
     "name": "stdout",
     "output_type": "stream",
     "text": [
      "True\n",
      "False\n"
     ]
    }
   ],
   "source": [
    "with open('animal_jokes.txt', 'r') as f:\n",
    "    print(f.readable())\n",
    "    print(f.writable())"
   ]
  },
  {
   "cell_type": "code",
   "execution_count": null,
   "id": "db3d5a4b",
   "metadata": {},
   "outputs": [],
   "source": [
    "# read, readlines, readline methods"
   ]
  },
  {
   "cell_type": "code",
   "execution_count": 14,
   "id": "1f726fb3",
   "metadata": {},
   "outputs": [
    {
     "name": "stdout",
     "output_type": "stream",
     "text": [
      "ï\n",
      "»\n",
      "¿\n",
      "Q\n",
      ":\n",
      " \n",
      "W\n",
      "h\n",
      "a\n",
      "t\n",
      " \n",
      "d\n",
      "o\n",
      " \n",
      "y\n",
      "o\n",
      "u\n",
      " \n",
      "c\n",
      "a\n"
     ]
    }
   ],
   "source": [
    "with open('animal_jokes.txt', 'r') as f:\n",
    "    for x in f.read(20):\n",
    "        print(x)"
   ]
  },
  {
   "cell_type": "code",
   "execution_count": 9,
   "id": "0b73d614",
   "metadata": {},
   "outputs": [],
   "source": [
    "with open('animal_jokes.txt', 'w') as f, open('animal_jokes_copy.txt') as nf:\n",
    "    f.writelines(nf.readlines())"
   ]
  },
  {
   "cell_type": "code",
   "execution_count": 16,
   "id": "58edaea8",
   "metadata": {},
   "outputs": [
    {
     "name": "stdout",
     "output_type": "stream",
     "text": [
      "ï»¿Q: What do you ca\n",
      "<class 'str'>\n",
      "20\n"
     ]
    }
   ],
   "source": [
    "with open('animal_jokes.txt', 'r') as f:\n",
    "    var = f.read(20)\n",
    "    print(var)\n",
    "    print(type(var))\n",
    "    print(len(var))"
   ]
  },
  {
   "cell_type": "code",
   "execution_count": 19,
   "id": "de9623c8",
   "metadata": {},
   "outputs": [
    {
     "name": "stdout",
     "output_type": "stream",
     "text": [
      "['ï»¿Q: What do you call a sleeping bull?\\n', 'A: A bull-dozer.\\n', 'Q: How does a lion greet the other animals in the field?\\n']\n",
      "<class 'list'>\n"
     ]
    }
   ],
   "source": [
    "with open('animal_jokes.txt', 'r') as f:\n",
    "    data = f.readlines(100)\n",
    "    print(data)\n",
    "    print(type(data))"
   ]
  },
  {
   "cell_type": "code",
   "execution_count": 22,
   "id": "102d05c9",
   "metadata": {},
   "outputs": [
    {
     "name": "stdout",
     "output_type": "stream",
     "text": [
      "ï»¿Q: What do you call a sleeping bull?\n",
      "\n",
      "A: A bull-dozer.\n",
      "\n"
     ]
    }
   ],
   "source": [
    "with open('animal_jokes.txt', 'r') as f:\n",
    "    print(f.readline())\n",
    "    print(f.readline())"
   ]
  },
  {
   "cell_type": "code",
   "execution_count": 25,
   "id": "f3700d70",
   "metadata": {},
   "outputs": [
    {
     "ename": "TypeError",
     "evalue": "write() argument must be str, not list",
     "output_type": "error",
     "traceback": [
      "\u001b[1;31m---------------------------------------------------------------------------\u001b[0m",
      "\u001b[1;31mTypeError\u001b[0m                                 Traceback (most recent call last)",
      "\u001b[1;32m~\\AppData\\Local\\Temp\\ipykernel_8100\\1818732377.py\u001b[0m in \u001b[0;36m<module>\u001b[1;34m\u001b[0m\n\u001b[0;32m      2\u001b[0m \u001b[1;33m\u001b[0m\u001b[0m\n\u001b[0;32m      3\u001b[0m \u001b[1;32mwith\u001b[0m \u001b[0mopen\u001b[0m\u001b[1;33m(\u001b[0m\u001b[1;34m'animal_jokes.txt'\u001b[0m\u001b[1;33m,\u001b[0m \u001b[1;34m'a+'\u001b[0m\u001b[1;33m)\u001b[0m \u001b[1;32mas\u001b[0m \u001b[0mf\u001b[0m\u001b[1;33m:\u001b[0m\u001b[1;33m\u001b[0m\u001b[1;33m\u001b[0m\u001b[0m\n\u001b[1;32m----> 4\u001b[1;33m     \u001b[0mf\u001b[0m\u001b[1;33m.\u001b[0m\u001b[0mwrite\u001b[0m\u001b[1;33m(\u001b[0m\u001b[1;33m[\u001b[0m\u001b[1;34m'\\n\\n No more animal jokes'\u001b[0m\u001b[1;33m,\u001b[0m \u001b[1;34m'2nd string'\u001b[0m\u001b[1;33m]\u001b[0m\u001b[1;33m)\u001b[0m\u001b[1;33m\u001b[0m\u001b[1;33m\u001b[0m\u001b[0m\n\u001b[0m\u001b[0;32m      5\u001b[0m \u001b[1;33m\u001b[0m\u001b[0m\n",
      "\u001b[1;31mTypeError\u001b[0m: write() argument must be str, not list"
     ]
    }
   ],
   "source": [
    "# write method - writes the specified string to the file object.\n",
    "\n",
    "with open('animal_jokes.txt', 'a+') as f:\n",
    "    f.write(['\\n\\n No more animal jokes', '2nd string'])\n",
    "    "
   ]
  },
  {
   "cell_type": "code",
   "execution_count": 26,
   "id": "291c196f",
   "metadata": {},
   "outputs": [],
   "source": [
    "with open('animal_jokes.txt', 'a+') as f:\n",
    "    f.writelines('\\n\\n Really no more animal jokes')"
   ]
  },
  {
   "cell_type": "code",
   "execution_count": null,
   "id": "236f4045",
   "metadata": {},
   "outputs": [],
   "source": [
    "with open('animal_jokes.txt', 'r') as f:\n",
    "    f.seek(1400)\n",
    "    for x in f.readlines():\n",
    "        print(x)"
   ]
  },
  {
   "cell_type": "code",
   "execution_count": 31,
   "id": "0f70f86a",
   "metadata": {},
   "outputs": [
    {
     "name": "stdout",
     "output_type": "stream",
     "text": [
      "True\n"
     ]
    }
   ],
   "source": [
    "with open('animal_jokes.txt', 'w+') as f:\n",
    "    print(f.seekable())"
   ]
  },
  {
   "cell_type": "code",
   "execution_count": null,
   "id": "0a90f319",
   "metadata": {},
   "outputs": [],
   "source": [
    "# Note the error when trying to write more than one string. "
   ]
  },
  {
   "cell_type": "code",
   "execution_count": null,
   "id": "377e1af5",
   "metadata": {},
   "outputs": [],
   "source": [
    "x = '\\nJokes keep the mood light hearted.\\n\\n'\n",
    "\n",
    "with open('animal_jokes.txt', 'a+') as f:\n",
    "    f.write(x)"
   ]
  },
  {
   "cell_type": "code",
   "execution_count": null,
   "id": "6eb3d429",
   "metadata": {},
   "outputs": [],
   "source": [
    "#writelines method"
   ]
  },
  {
   "cell_type": "code",
   "execution_count": null,
   "id": "69f0def7",
   "metadata": {},
   "outputs": [],
   "source": [
    "add_jokes = ('Q: What do you get when you cross a snake and a pie?\\n', 'A: A pie-thon!\\n','Q: What did the buffalo say to\\\n",
    "his son when he went away on a trip?\\n','A: Bison!\\n','Q: How do bees get to school?\\n','A: By school buzz!\\n','Q: What do\\\n",
    "you call a bear with no ears?\\n','A: B!\\n')"
   ]
  },
  {
   "cell_type": "code",
   "execution_count": null,
   "id": "9a22c0f9",
   "metadata": {},
   "outputs": [],
   "source": [
    "with open('animal_jokes.txt', 'a+') as f:\n",
    "    f.writelines(('\\nToo many animal jokes\\n', 'I am completely bored by them now'))"
   ]
  },
  {
   "cell_type": "code",
   "execution_count": null,
   "id": "0addc0f5",
   "metadata": {},
   "outputs": [],
   "source": [
    "with open('animal_jokes.txt', 'w') as f:\n",
    "    f.write('XY')"
   ]
  },
  {
   "cell_type": "code",
   "execution_count": null,
   "id": "d4351b7d",
   "metadata": {},
   "outputs": [],
   "source": [
    "add_jokes_tup = tuple(add_jokes)\n",
    "print(add_jokes_tup)"
   ]
  },
  {
   "cell_type": "code",
   "execution_count": null,
   "id": "ea5e6396",
   "metadata": {},
   "outputs": [],
   "source": [
    "# Writelines can take any iterable. \n",
    "\n",
    "with open('animal_jokes.txt', 'w+') as f:\n",
    "    f.writelines(add_jokes)\n",
    "    \n",
    "    "
   ]
  },
  {
   "cell_type": "code",
   "execution_count": null,
   "id": "3cc6239c",
   "metadata": {},
   "outputs": [],
   "source": [
    "f = open('animal_jokes.txt', 'a+')\n",
    "f.write('Omkar wants to know if write method internally calls flush method')\n",
    "f.close()"
   ]
  },
  {
   "cell_type": "code",
   "execution_count": null,
   "id": "5ee0a5ef",
   "metadata": {},
   "outputs": [],
   "source": [
    "    \n",
    "with open('animal_jokes.txt', 'w') as f:\n",
    "    print(f.seekable())\n",
    "        "
   ]
  },
  {
   "cell_type": "code",
   "execution_count": 42,
   "id": "c1f79b80",
   "metadata": {},
   "outputs": [],
   "source": [
    "with open('animal_jokes.txt', 'w+') as aj, open('animal_jokes_copy.txt', 'r') as ajCopy:\n",
    "    aj.writelines(ajCopy)\n",
    "    "
   ]
  },
  {
   "cell_type": "code",
   "execution_count": null,
   "id": "fef85d65",
   "metadata": {},
   "outputs": [],
   "source": []
  },
  {
   "cell_type": "code",
   "execution_count": null,
   "id": "92196a60",
   "metadata": {},
   "outputs": [],
   "source": [
    "# writable method returns True if file object is able to be written into, False if not."
   ]
  },
  {
   "cell_type": "code",
   "execution_count": null,
   "id": "463cf2c7",
   "metadata": {},
   "outputs": [],
   "source": [
    "with open('animal_jokes.txt', 'r+') as f:\n",
    "    print(f.writable())"
   ]
  },
  {
   "cell_type": "code",
   "execution_count": null,
   "id": "e6a13390",
   "metadata": {},
   "outputs": [],
   "source": [
    "with open('animal_jokes.txt', 'r') as f:\n",
    "    print(f.writable())\n"
   ]
  },
  {
   "cell_type": "code",
   "execution_count": null,
   "id": "223686ef",
   "metadata": {},
   "outputs": [],
   "source": [
    "# seek method sends the cursor/handle to the specified index number.\n",
    "# tell method tells you the cursor position\n"
   ]
  },
  {
   "cell_type": "code",
   "execution_count": null,
   "id": "68cd9dfd",
   "metadata": {},
   "outputs": [],
   "source": [
    "with open('animal_jokes.txt', 'r') as f:\n",
    "    print(f.tell())\n",
    "    f.seek(-100,2)\n",
    "    print(f.tell())"
   ]
  },
  {
   "cell_type": "code",
   "execution_count": 29,
   "id": "ef5967d7",
   "metadata": {},
   "outputs": [
    {
     "name": "stdout",
     "output_type": "stream",
     "text": [
      "1575\n"
     ]
    }
   ],
   "source": [
    "# Until Python 3.2, we could use a second parameter - \n",
    "# 1 for seek relative to current position i.e. if cursor is at 100 and we specified f.seek(100,1) cursor would go to 200.\n",
    "# 2 for seek relative to end of file i.e. if cursor was at end of file, then f.seek(-100,2) would take cursor 100 steps\n",
    "# back. However, these have been deprecated from Python 3.2 and now the only relative seek that works is complete end of\n",
    "# file i.e.\n",
    "\n",
    "with open('animal_jokes.txt', 'r') as f:\n",
    "    f.seek(0,2)\n",
    "    print(f.tell())\n"
   ]
  },
  {
   "cell_type": "code",
   "execution_count": null,
   "id": "0e1594c2",
   "metadata": {},
   "outputs": [],
   "source": [
    "seek(100) - relative to beginning of file. \n",
    "#seek(-100,1) - relative to current position - deprecated\n",
    "seek(0,2) - relative to end of file"
   ]
  },
  {
   "cell_type": "code",
   "execution_count": null,
   "id": "91bb10ea",
   "metadata": {},
   "outputs": [],
   "source": [
    "with open('animal_jokes.txt', 'r') as f:\n",
    "    print(f.read())"
   ]
  },
  {
   "cell_type": "code",
   "execution_count": null,
   "id": "401b1166",
   "metadata": {},
   "outputs": [],
   "source": [
    "with open('animal_jokes.txt', 'r') as f:\n",
    "    print(len(f.read()))"
   ]
  },
  {
   "cell_type": "code",
   "execution_count": null,
   "id": "b523db8b",
   "metadata": {},
   "outputs": [],
   "source": [
    "with open('animal_jokes.txt', 'r') as f:\n",
    "    print(len(f.readlines()))"
   ]
  },
  {
   "cell_type": "code",
   "execution_count": null,
   "id": "3e67c244",
   "metadata": {},
   "outputs": [],
   "source": [
    "# As noticed, in the read, newline characters are already parsed and not counted. However, as you can see in the readlines\n",
    "# there are 44 lines, so read characters (1432) + lines (44) is adding up to the cursor being at the end index i.e. 1476"
   ]
  },
  {
   "cell_type": "code",
   "execution_count": null,
   "id": "fb52313c",
   "metadata": {},
   "outputs": [],
   "source": [
    "# seekable - Returns True if the file allows us to change the cursor/handle/file position else False.\n",
    "\n",
    "with open('animal_jokes.txt', 'r') as f:\n",
    "    print(f.seekable())\n",
    "\n",
    "# Assumption is that when working with very large file sizes overflowing the buffer, the seekable() function \n",
    "# may return False. Not sure of the use since have not come across a use case for this."
   ]
  },
  {
   "cell_type": "code",
   "execution_count": 38,
   "id": "2f9b0359",
   "metadata": {},
   "outputs": [
    {
     "name": "stdout",
     "output_type": "stream",
     "text": [
      "ï»¿Q: What do you call a sleeping bull?\n",
      "\n",
      "A: A bull-dozer.\n",
      "\n",
      "Q: How does a lion greet the other animals in the field?\n",
      "\n",
      "A: Pleased to eat you.\n",
      "\n",
      "Q: What did the farmer call the cow that had no milk?\n",
      "\n",
      "A: An udder failure.\n",
      "\n",
      "Q: Why do gorillas have big nostrils?\n",
      "\n",
      "A: Because they have big fingers!\n",
      "\n",
      "Q: Why are teddy bears never hungry?\n",
      "\n",
      "A: They are always stuffed!\n",
      "\n",
      "Q: Why do fish live in salt water?\n",
      "\n",
      "A: Because pepper makes them sneeze!\n",
      "\n",
      "Q: What do you get from a pampered cow?\n",
      "\n",
      "A: Spoiled milk.\n",
      "\n",
      "Q: Where do polar bears vote?\n",
      "\n",
      "A: The North Poll\n",
      "\n",
      "Q: Why did the snake cross the road?\n",
      "\n",
      "A: To get to the other ssssssside!\n",
      "\n",
      "Q: Why are fish so smart?\n",
      "\n",
      "A: Because they live in schools.\n",
      "\n",
      "Q: What fish only swims at night?\n",
      "\n",
      "A: A starfish!\n",
      "\n",
      "Q: Why is a fish easy to weigh?\n",
      "\n",
      "A: Because it has its own scales!\n",
      "\n",
      "Q: What do you get when a chicken lays an egg on top of a barn?\n",
      "\n",
      "A: An eggroll!\n",
      "\n",
      "Q: Why didn't the chicken cross the road?\n",
      "\n",
      "A: Because there was a KFC on the other side!\n",
      "\n",
      "Q: Why did the chicken cross the \n"
     ]
    }
   ],
   "source": [
    "with open('animal_jokes.txt', 'r') as f:\n",
    "    for x in f:\n",
    "        print(x)"
   ]
  },
  {
   "cell_type": "code",
   "execution_count": 33,
   "id": "8b61c57e",
   "metadata": {},
   "outputs": [],
   "source": [
    "with open('animal_jokes.txt', 'w') as f, open('animal_jokes_copy.txt') as nf:\n",
    "    f.writelines(nf)"
   ]
  },
  {
   "cell_type": "code",
   "execution_count": 34,
   "id": "7c5404e7",
   "metadata": {},
   "outputs": [],
   "source": [
    "# truncate() resizes the file to the specified size.\n",
    "\n",
    "with open('animal_jokes.txt', 'r+') as f:\n",
    "    f.truncate(1000)"
   ]
  },
  {
   "cell_type": "code",
   "execution_count": null,
   "id": "28968e27",
   "metadata": {},
   "outputs": [],
   "source": [
    "with open('animal_jokes.txt', 'r+') as f:\n",
    "    f.truncate(1000)\n",
    "    for x in f:\n",
    "        print(x)\n",
    "    f.seek(0)\n",
    "    data = f.read()\n",
    "    print(len(data))\n",
    "    f.seek(0)\n",
    "    data_list = f.readlines()\n",
    "    print(len(data_list))"
   ]
  },
  {
   "cell_type": "code",
   "execution_count": null,
   "id": "df0ca8f0",
   "metadata": {},
   "outputs": [],
   "source": [
    "#flush method - flushes the internal buffer and writes to file (or if no write call given, disposes the data)\n",
    "\n",
    "# If you recall, we had an example above where we did a write procedure but the result was not displayed till we closed, \n",
    "# the file object and then displayed in the next file object creation call with open."
   ]
  },
  {
   "cell_type": "code",
   "execution_count": null,
   "id": "803efa2c",
   "metadata": {},
   "outputs": [],
   "source": [
    "ajCopy = ajcopy.readlines()"
   ]
  },
  {
   "cell_type": "code",
   "execution_count": null,
   "id": "b6755b60",
   "metadata": {},
   "outputs": [],
   "source": [
    "# Rewriting contents of animal_jokes_copy.txt to animal_jokes.txt with cleaner syntax.\n",
    "\n",
    "with open('animal_jokes3.txt', 'w+') as aj, open('animal_jokes_Copy.txt', 'r') as ajCopy:\n",
    "    aj.writelines(ajCopy)\n",
    "    \n"
   ]
  },
  {
   "cell_type": "code",
   "execution_count": null,
   "id": "d9d3ae00",
   "metadata": {},
   "outputs": [],
   "source": [
    "f = open('animal_jokes.txt', 'r+')\n",
    "\n",
    "f.write('\\nNo more animal jokes\\n\\n')\n",
    "f.flush()\n",
    "f.seek(0)\n",
    "for x in f.readlines():\n",
    "    print(x)\n",
    "f.close()"
   ]
  },
  {
   "cell_type": "code",
   "execution_count": null,
   "id": "206278c5",
   "metadata": {},
   "outputs": [],
   "source": [
    "with open('animal_jokes.txt', 'r+') as f:\n",
    "    f.write('\\nNo more animal jokes\\n\\n')\n",
    "    #f.flush()\n",
    "    f.seek(0)\n",
    "    for x in f.readlines(200):\n",
    "        print(x)\n",
    "    "
   ]
  },
  {
   "cell_type": "code",
   "execution_count": null,
   "id": "e81df09e",
   "metadata": {},
   "outputs": [],
   "source": [
    "# fileno() Returns a number that represents the stream. \n",
    "\n",
    "with open('animal_jokes.txt', 'r') as f:\n",
    "    print(f.fileno())"
   ]
  },
  {
   "cell_type": "code",
   "execution_count": null,
   "id": "3a20b584",
   "metadata": {},
   "outputs": [],
   "source": [
    "# detach method used to detach input rawstream from file buffer. \n",
    "\n",
    "f = open('animal_jokes.txt', 'r')\n",
    "f.detach()\n",
    "for x in f.readlines():\n",
    "    print(x)\n",
    "f.close()"
   ]
  },
  {
   "cell_type": "code",
   "execution_count": 39,
   "id": "0bc50aa3",
   "metadata": {},
   "outputs": [
    {
     "name": "stdout",
     "output_type": "stream",
     "text": [
      "False\n",
      "True\n"
     ]
    }
   ],
   "source": [
    "# Attributes. \n",
    "\n",
    "# We have already seen the closed attribute. \n",
    "\n",
    "f = open('animal_jokes.txt', 'r')\n",
    "print(f.closed)\n",
    "f.close()\n",
    "print(f.closed)"
   ]
  },
  {
   "cell_type": "code",
   "execution_count": 45,
   "id": "ad22e689",
   "metadata": {},
   "outputs": [
    {
     "name": "stdout",
     "output_type": "stream",
     "text": [
      "cp1252\n"
     ]
    }
   ],
   "source": [
    "# encoding - displays the encoding used on the file.\n",
    "\n",
    "f = open('animal_jokes.txt', 'r+')\n",
    "print(f.encoding)"
   ]
  },
  {
   "cell_type": "code",
   "execution_count": 44,
   "id": "5f96a681",
   "metadata": {},
   "outputs": [],
   "source": [
    "#f.close()"
   ]
  },
  {
   "cell_type": "code",
   "execution_count": null,
   "id": "a99a0de8",
   "metadata": {},
   "outputs": [],
   "source": [
    "# If you recall, when discussing encoding in Bytes and Bytearrays - we had discussed that - by default Python uses UTF-8\n",
    "# encoding BUT open function will be system dependent. Windows uses cp1252 and therefore the encoding on this file is \n",
    "# cp1252. Your outputs may be different depending on your systems."
   ]
  },
  {
   "cell_type": "code",
   "execution_count": 46,
   "id": "c60f466d",
   "metadata": {},
   "outputs": [
    {
     "name": "stdout",
     "output_type": "stream",
     "text": [
      "r+\n"
     ]
    }
   ],
   "source": [
    "# mode - displays the mode of the file object i.e. the permissions. \n",
    "\n",
    "print(f.mode)"
   ]
  },
  {
   "cell_type": "code",
   "execution_count": null,
   "id": "0de1571e",
   "metadata": {},
   "outputs": [],
   "source": [
    "8 bit binary - using only 2 bits in hexadecimal"
   ]
  },
  {
   "cell_type": "code",
   "execution_count": 47,
   "id": "f2c22639",
   "metadata": {},
   "outputs": [
    {
     "name": "stdout",
     "output_type": "stream",
     "text": [
      "animal_jokes.txt\n"
     ]
    }
   ],
   "source": [
    "# name displays the file name if the file has been opened as a file object. \n",
    "\n",
    "print(f.name)"
   ]
  },
  {
   "cell_type": "code",
   "execution_count": null,
   "id": "4d0b105b",
   "metadata": {},
   "outputs": [],
   "source": [
    "data = f.readlines()\n",
    "print(data)"
   ]
  },
  {
   "cell_type": "code",
   "execution_count": null,
   "id": "7930ab64",
   "metadata": {},
   "outputs": [],
   "source": [
    "print(f.newlines)"
   ]
  },
  {
   "cell_type": "code",
   "execution_count": null,
   "id": "ed9ca0a7",
   "metadata": {},
   "outputs": [],
   "source": [
    "f.close()"
   ]
  },
  {
   "cell_type": "code",
   "execution_count": null,
   "id": "76b072c7",
   "metadata": {},
   "outputs": [],
   "source": [
    "with open('animal_jokes.txt', 'r') as f:\n",
    "    f.seek(630)\n",
    "    for x in f:\n",
    "        print(x)"
   ]
  },
  {
   "cell_type": "code",
   "execution_count": 10,
   "id": "6a3d37a3",
   "metadata": {},
   "outputs": [],
   "source": [
    "with open('animal_jokes.txt', 'w') as aj, open('animal_jokes_Copy.txt', 'r') as ajc:\n",
    "    aj.writelines(ajc)"
   ]
  },
  {
   "cell_type": "code",
   "execution_count": 11,
   "id": "6029d611",
   "metadata": {},
   "outputs": [
    {
     "name": "stdout",
     "output_type": "stream",
     "text": [
      "['ï»¿Q: What do you call a sleeping bull?\\n', 'A: A bull-dozer.\\n', 'Q: How does a lion greet the other animals in the field?\\n', 'A: Pleased to eat you.\\n', 'Q: What did the farmer call the cow that had no milk?\\n', 'A: An udder failure.\\n', 'Q: Why do gorillas have big nostrils?\\n', 'A: Because they have big fingers!\\n', 'Q: Why are teddy bears never hungry?\\n', 'A: They are always stuffed!\\n', 'Q: Why do fish live in salt water?\\n', 'A: Because pepper makes them sneeze!\\n', 'Q: What do you get from a pampered cow?\\n', 'A: Spoiled milk.\\n', 'Q: Where do polar bears vote?\\n', 'A: The North Poll\\n', 'Q: Why did the snake cross the road?\\n', 'A: To get to the other ssssssside!\\n', 'Q: Why are fish so smart?\\n', 'A: Because they live in schools.\\n', 'Q: What fish only swims at night?\\n', 'A: A starfish!\\n', 'Q: Why is a fish easy to weigh?\\n', 'A: Because it has its own scales!\\n', 'Q: What do you get when a chicken lays an egg on top of a barn?\\n', 'A: An eggroll!\\n', \"Q: Why didn't the chicken cross the road?\\n\", 'A: Because there was a KFC on the other side!\\n', 'Q: Why did the chicken cross the road?\\n', \"A: To show everyone he wasn't chicken!\\n\", 'Q: Why did the lion spit out the clown?\\n', 'A: Because he tasted funny!\\n', 'Q: What animals are on legal documents?\\n', 'A: Seals!\\n', 'Q: What do you get when you cross a snake and a pie?\\n', 'A: A pie-thon!\\n', 'Q: What did the buffalo say to his son when he went away on a trip?\\n', 'A: Bison!\\n', 'Q: How do bees get to school?\\n', 'A: By school buzz!\\n', 'Q: What do you call a bear with no ears?\\n', 'A: B!']\n"
     ]
    }
   ],
   "source": [
    "with open('animal_jokes.txt') as f:\n",
    "    data = f.readlines()\n",
    "    print(data)"
   ]
  },
  {
   "cell_type": "code",
   "execution_count": 12,
   "id": "a64af328",
   "metadata": {},
   "outputs": [
    {
     "name": "stdout",
     "output_type": "stream",
     "text": [
      "ï»¿Q: What do you call a sleeping bull?\n",
      "\n",
      "A: A bull-dozer.\n",
      "\n",
      "Q: How does a lion greet the other animals in the field?\n",
      "\n",
      "A: Pleased to eat you.\n",
      "\n",
      "Q: What did the farmer call the cow that had no milk?\n",
      "\n",
      "A: An udder failure.\n",
      "\n",
      "Q: Why do gorillas have big nostrils?\n",
      "\n",
      "A: Because they have big fingers!\n",
      "\n",
      "Q: Why are teddy bears never hungry?\n",
      "\n",
      "A: They are always stuffed!\n",
      "\n",
      "Q: Why do fish live in salt water?\n",
      "\n",
      "A: Because pepper makes them sneeze!\n",
      "\n",
      "Q: What do you get from a pampered cow?\n",
      "\n",
      "A: Spoiled milk.\n",
      "\n",
      "Q: Where do polar bears vote?\n",
      "\n",
      "A: The North Poll\n",
      "\n",
      "Q: Why did the snake cross the road?\n",
      "\n",
      "A: To get to the other ssssssside!\n",
      "\n",
      "Q: Why are fish so smart?\n",
      "\n",
      "A: Because they live in schools.\n",
      "\n",
      "Q: What fish only swims at night?\n",
      "\n",
      "A: A starfish!\n",
      "\n",
      "Q: Why is a fish easy to weigh?\n",
      "\n",
      "A: Because it has its own scales!\n",
      "\n",
      "Q: What do you get when a chicken lays an egg on top of a barn?\n",
      "\n",
      "A: An eggroll!\n",
      "\n",
      "Q: Why didn't the chicken cross the road?\n",
      "\n",
      "A: Because there was a KFC on the other side!\n",
      "\n",
      "Q: Why did the chicken cross the road?\n",
      "\n",
      "A: To show everyone he wasn't chicken!\n",
      "\n",
      "Q: Why did the lion spit out the clown?\n",
      "\n",
      "A: Because he tasted funny!\n",
      "\n",
      "Q: What animals are on legal documents?\n",
      "\n",
      "A: Seals!\n",
      "\n",
      "Q: What do you get when you cross a snake and a pie?\n",
      "\n",
      "A: A pie-thon!\n",
      "\n",
      "Q: What did the buffalo say to his son when he went away on a trip?\n",
      "\n",
      "A: Bison!\n",
      "\n",
      "Q: How do bees get to school?\n",
      "\n",
      "A: By school buzz!\n",
      "\n",
      "Q: What do you call a bear with no ears?\n",
      "\n",
      "A: B!\n"
     ]
    }
   ],
   "source": [
    "with open('animal_jokes.txt') as f:\n",
    "    for line in f:\n",
    "        print(line)"
   ]
  },
  {
   "cell_type": "code",
   "execution_count": 17,
   "id": "c94a7262",
   "metadata": {},
   "outputs": [
    {
     "name": "stdout",
     "output_type": "stream",
     "text": [
      "Q: What do you call a sleeping BULL?\n",
      "\n",
      "A: A bull-dozer.\n",
      "\n",
      "Q: How does a lion greet the other animals in the field?\n",
      "\n"
     ]
    }
   ],
   "source": [
    "with open('animal_jokes.txt', 'r+') as aj:\n",
    "    data = aj.readlines()\n",
    "    data[0] = 'Q: What do you call a sleeping BULL?\\n'\n",
    "    #print(data)\n",
    "    aj.seek(0)\n",
    "    aj.writelines(data)\n",
    "    aj.seek(0)\n",
    "    for line in aj.readlines(100):\n",
    "        print(line)"
   ]
  },
  {
   "cell_type": "code",
   "execution_count": null,
   "id": "00aa0884",
   "metadata": {},
   "outputs": [],
   "source": []
  },
  {
   "cell_type": "code",
   "execution_count": null,
   "id": "2e669b59",
   "metadata": {},
   "outputs": [],
   "source": []
  },
  {
   "cell_type": "code",
   "execution_count": null,
   "id": "533d2caa",
   "metadata": {},
   "outputs": [],
   "source": []
  },
  {
   "cell_type": "code",
   "execution_count": null,
   "id": "ead67280",
   "metadata": {},
   "outputs": [],
   "source": []
  },
  {
   "cell_type": "code",
   "execution_count": null,
   "id": "ff90201c",
   "metadata": {},
   "outputs": [],
   "source": [
    "#Binary files"
   ]
  },
  {
   "cell_type": "code",
   "execution_count": null,
   "id": "68f57e3a",
   "metadata": {},
   "outputs": [],
   "source": [
    "# The modes to open binary files are the same as text file, only add b before the mode to specify opening in binary format."
   ]
  },
  {
   "cell_type": "code",
   "execution_count": null,
   "id": "559ba7da",
   "metadata": {},
   "outputs": [],
   "source": []
  },
  {
   "cell_type": "code",
   "execution_count": null,
   "id": "afa292ea",
   "metadata": {},
   "outputs": [],
   "source": []
  },
  {
   "cell_type": "code",
   "execution_count": null,
   "id": "f7567923",
   "metadata": {},
   "outputs": [],
   "source": []
  },
  {
   "cell_type": "code",
   "execution_count": null,
   "id": "1f80beb7",
   "metadata": {},
   "outputs": [],
   "source": []
  },
  {
   "cell_type": "code",
   "execution_count": null,
   "id": "ecd65ef3",
   "metadata": {},
   "outputs": [],
   "source": []
  },
  {
   "cell_type": "code",
   "execution_count": null,
   "id": "77faff9c",
   "metadata": {},
   "outputs": [],
   "source": []
  },
  {
   "cell_type": "code",
   "execution_count": null,
   "id": "21096e5b",
   "metadata": {},
   "outputs": [],
   "source": []
  },
  {
   "cell_type": "code",
   "execution_count": 18,
   "id": "4abde90f",
   "metadata": {},
   "outputs": [
    {
     "name": "stdout",
     "output_type": "stream",
     "text": [
      "Line no. 0, length : 158 and type : <class 'bytes'>.\n",
      "-----------------------------------------------------------------------------------------------------------------------------\n",
      "Data : b'\\xff\\xd8\\xff\\xe0\\x00\\x10JFIF\\x00\\x01\\x01\\x01\\x00x\\x00x\\x00\\x00\\xff\\xe1\\x00ZExif\\x00\\x00MM\\x00*\\x00\\x00\\x00\\x08\\x00\\x05\\x03\\x01\\x00\\x05\\x00\\x00\\x00\\x01\\x00\\x00\\x00J\\x03\\x03\\x00\\x01\\x00\\x00\\x00\\x01\\x00\\x00\\x00\\x00Q\\x10\\x00\\x01\\x00\\x00\\x00\\x01\\x01\\x00\\x00\\x00Q\\x11\\x00\\x04\\x00\\x00\\x00\\x01\\x00\\x00\\x12tQ\\x12\\x00\\x04\\x00\\x00\\x00\\x01\\x00\\x00\\x12t\\x00\\x00\\x00\\x00\\x00\\x01\\x86\\xa0\\x00\\x00\\xb1\\x8f\\xff\\xdb\\x00C\\x00\\x02\\x01\\x01\\x02\\x01\\x01\\x02\\x02\\x02\\x02\\x02\\x02\\x02\\x02\\x03\\x05\\x03\\x03\\x03\\x03\\x03\\x06\\x04\\x04\\x03\\x05\\x07\\x06\\x07\\x07\\x07\\x06\\x07\\x07\\x08\\t\\x0b\\t\\x08\\x08\\n'.\n",
      "Line no. 1, length : 4 and type : <class 'bytes'>.\n",
      "-----------------------------------------------------------------------------------------------------------------------------\n",
      "Data : b'\\x08\\x07\\x07\\n'.\n",
      "Line no. 2, length : 2 and type : <class 'bytes'>.\n",
      "-----------------------------------------------------------------------------------------------------------------------------\n",
      "Data : b'\\r\\n'.\n",
      "Line no. 3, length : 1 and type : <class 'bytes'>.\n",
      "-----------------------------------------------------------------------------------------------------------------------------\n",
      "Data : b'\\n'.\n",
      "Line no. 4, length : 136 and type : <class 'bytes'>.\n",
      "-----------------------------------------------------------------------------------------------------------------------------\n",
      "Data : b'\\x0b\\x0c\\x0c\\x0c\\x0c\\x07\\t\\x0e\\x0f\\r\\x0c\\x0e\\x0b\\x0c\\x0c\\x0c\\xff\\xdb\\x00C\\x01\\x02\\x02\\x02\\x03\\x03\\x03\\x06\\x03\\x03\\x06\\x0c\\x08\\x07\\x08\\x0c\\x0c\\x0c\\x0c\\x0c\\x0c\\x0c\\x0c\\x0c\\x0c\\x0c\\x0c\\x0c\\x0c\\x0c\\x0c\\x0c\\x0c\\x0c\\x0c\\x0c\\x0c\\x0c\\x0c\\x0c\\x0c\\x0c\\x0c\\x0c\\x0c\\x0c\\x0c\\x0c\\x0c\\x0c\\x0c\\x0c\\x0c\\x0c\\x0c\\x0c\\x0c\\x0c\\x0c\\x0c\\x0c\\x0c\\x0c\\x0c\\x0c\\xff\\xc0\\x00\\x11\\x08\\x00\\xe9\\x00\\xd8\\x03\\x01\"\\x00\\x02\\x11\\x01\\x03\\x11\\x01\\xff\\xc4\\x00\\x1f\\x00\\x00\\x01\\x05\\x01\\x01\\x01\\x01\\x01\\x01\\x00\\x00\\x00\\x00\\x00\\x00\\x00\\x00\\x01\\x02\\x03\\x04\\x05\\x06\\x07\\x08\\t\\n'.\n",
      "Line no. 5, length : 61 and type : <class 'bytes'>.\n",
      "-----------------------------------------------------------------------------------------------------------------------------\n",
      "Data : b'\\x0b\\xff\\xc4\\x00\\xb5\\x10\\x00\\x02\\x01\\x03\\x03\\x02\\x04\\x03\\x05\\x05\\x04\\x04\\x00\\x00\\x01}\\x01\\x02\\x03\\x00\\x04\\x11\\x05\\x12!1A\\x06\\x13Qa\\x07\"q\\x142\\x81\\x91\\xa1\\x08#B\\xb1\\xc1\\x15R\\xd1\\xf0$3br\\x82\\t\\n'.\n",
      "Line no. 6, length : 155 and type : <class 'bytes'>.\n",
      "-----------------------------------------------------------------------------------------------------------------------------\n",
      "Data : b\"\\x16\\x17\\x18\\x19\\x1a%&'()*456789:CDEFGHIJSTUVWXYZcdefghijstuvwxyz\\x83\\x84\\x85\\x86\\x87\\x88\\x89\\x8a\\x92\\x93\\x94\\x95\\x96\\x97\\x98\\x99\\x9a\\xa2\\xa3\\xa4\\xa5\\xa6\\xa7\\xa8\\xa9\\xaa\\xb2\\xb3\\xb4\\xb5\\xb6\\xb7\\xb8\\xb9\\xba\\xc2\\xc3\\xc4\\xc5\\xc6\\xc7\\xc8\\xc9\\xca\\xd2\\xd3\\xd4\\xd5\\xd6\\xd7\\xd8\\xd9\\xda\\xe1\\xe2\\xe3\\xe4\\xe5\\xe6\\xe7\\xe8\\xe9\\xea\\xf1\\xf2\\xf3\\xf4\\xf5\\xf6\\xf7\\xf8\\xf9\\xfa\\xff\\xc4\\x00\\x1f\\x01\\x00\\x03\\x01\\x01\\x01\\x01\\x01\\x01\\x01\\x01\\x01\\x00\\x00\\x00\\x00\\x00\\x00\\x01\\x02\\x03\\x04\\x05\\x06\\x07\\x08\\t\\n\".\n",
      "Line no. 7, length : 59 and type : <class 'bytes'>.\n",
      "-----------------------------------------------------------------------------------------------------------------------------\n",
      "Data : b'\\x0b\\xff\\xc4\\x00\\xb5\\x11\\x00\\x02\\x01\\x02\\x04\\x04\\x03\\x04\\x07\\x05\\x04\\x04\\x00\\x01\\x02w\\x00\\x01\\x02\\x03\\x11\\x04\\x05!1\\x06\\x12AQ\\x07aq\\x13\"2\\x81\\x08\\x14B\\x91\\xa1\\xb1\\xc1\\t#3R\\xf0\\x15br\\xd1\\n'.\n",
      "Line no. 8, length : 496 and type : <class 'bytes'>.\n",
      "-----------------------------------------------------------------------------------------------------------------------------\n",
      "Data : b\"\\x16$4\\xe1%\\xf1\\x17\\x18\\x19\\x1a&'()*56789:CDEFGHIJSTUVWXYZcdefghijstuvwxyz\\x82\\x83\\x84\\x85\\x86\\x87\\x88\\x89\\x8a\\x92\\x93\\x94\\x95\\x96\\x97\\x98\\x99\\x9a\\xa2\\xa3\\xa4\\xa5\\xa6\\xa7\\xa8\\xa9\\xaa\\xb2\\xb3\\xb4\\xb5\\xb6\\xb7\\xb8\\xb9\\xba\\xc2\\xc3\\xc4\\xc5\\xc6\\xc7\\xc8\\xc9\\xca\\xd2\\xd3\\xd4\\xd5\\xd6\\xd7\\xd8\\xd9\\xda\\xe2\\xe3\\xe4\\xe5\\xe6\\xe7\\xe8\\xe9\\xea\\xf2\\xf3\\xf4\\xf5\\xf6\\xf7\\xf8\\xf9\\xfa\\xff\\xda\\x00\\x0c\\x03\\x01\\x00\\x02\\x11\\x03\\x11\\x00?\\x00\\xfd\\xfc\\xa2\\x8a(\\x00\\xa2\\x8a(\\x00\\xa2\\x8a(\\x00\\xa2\\x8a(\\x00\\xa2\\x8a(\\x00\\xa2\\x8a(\\x00\\xa2\\x8a(\\x00\\xa2\\x8a(\\x00\\xa2\\x8a(\\x00\\xa2\\x8a(\\x00\\xa2\\x8a(\\x00\\xa2\\x8a(\\x00\\xa2\\x8a(\\x00\\xa2\\x8a(\\x00\\xa2\\x8a(\\x00\\xa2\\x8a(\\x00\\xa2\\x8a(\\x00\\xa2\\x8a(\\x00\\xa2\\x8a(\\x00\\xa2\\x80r(\\xcd\\x00\\x14QE\\x00\\x14Q\\x9a3@\\x05\\x14g4P\\x01E\\x14P\\x01E\\x14P\\x01E\\x14P\\x01E\\x14P\\x01E\\x14P\\x01E\\x14P\\x01E\\x14P\\x01E\\x14P\\x01E\\x14P\\x01A\\x19\\x14PzP\\x05\\x14\\xdd\\x0f\\xdd_nOj\\xf3\\xff\\x00\\xda+\\xe2\\xd5\\xc7\\xc1O\\x85:\\x96\\xbfmko\\xa9\\\\\\xd9\\xcd\\x10[y[\\x03\\xe7\\x91\\x13\\xb7<n\\xae7\\xf6\\xcb\\xfd\\xb7t/\\xd8\\xb3\\xc3\\x9a-\\xfe\\xb9\\xa5\\xeb\\x1a\\x82\\xeb\\xd3\\xbd\\x9c?\\xd9\\xf1\\xc4\\xe2\\t\\x15\\x0b\\xfc\\xfb\\xe4OC_\\x94\\xff\\x00\\xb5w\\xed\\x83g\\xf1\\xb6\\xcf\\xc4\\t\\xa4\\xae\\xb5f\\xfe \\xd4\\xde\\xfa/\\xb6<q\\x08W~\\xfd\\x8f\\xb2G\\xaf\\x0f9\\xce\\xa1\\x84\\\\\\xb0\\xf8\\xcf\\xd6\\xbc7\\xf0\\xa73\\xe2\\x1a\\xb4\\xf12\\xa6\\xfe\\xaf\\xcd\\xf1t\\x95\\x9e\\xaa\\xf7G\\xd4\\x7f\\x16\\x7f\\xe0\\xb9\\xda\\xef\\xc3\\xaf\\x19\\\\i\\x96\\xfe\\x00\\xd3\\xeeB\\xc3\\x1c\\xe6o\\xb74Y\\xdf\\xf8W8\\x7f\\xe0\\xe0o\\x12\\x8e\\x9f\\x0f\\xf4\\xb5\\xfajM\\xfe\\x15\\xf9\\xf1y}\\x8f\\xf4\\xaa\\xad\\xa4k\\x9f\\xda\\x82\\xbe\\x0f\\xfb{0oI\\x1f\\xd9\\xd9\\x7f\\x81<\\x17\\n\".\n",
      "Line no. 9, length : 650 and type : <class 'bytes'>.\n",
      "-----------------------------------------------------------------------------------------------------------------------------\n",
      "Data : b'P\\xa7\\x8a\\xc2G\\x9f\\xfcS\\xff\\x003\\xf4\\xef\\xe0\\x8f\\xfc\\x16\\xe7Z\\xf8\\xad\\xe2\\xbb\\x9d6\\xe3\\xc1\\x1am\\xabC\\x07\\x9d\\x8f\\xb6\\xb4\\xd8\\xc3\\xa2\\x7f\\xec\\xf5\\xf7\\x8f\\xc1\\x0f\\x89\\r\\xf1G\\xe1n\\x93\\xae\\\\B-n\\xb5K\\x7f8\\xdb\\x86\\xcbE\\x9a\\xfew\\xed\\xe7!>c\\xf55\\xf5\\xef\\xec\\x1d\\xfbg\\xe8\\xbf\\x0e~ \\xf8J\\xcfP\\xfe\\xdc\\xbc:O\\x99\\xe7yF<\\x7f\\xa8\\x9b\\xfb\\xf2\\xd7\\xb7\\x95\\xf1=GW\\xd9bO\\xca\\xbcT\\xf0\\x1f\\x03\\x0c,\\xf1|?K\\x93\\x93[.i^\\xc9\\xe9\\xab\\xefn\\xe7\\xec\\xccED\\\\g\\x14\\xecy\\x9fJ\\xf3\\x7f\\x81_\\x1c\\xec>>\\xf8:\\xe3X\\xd3\\xadu\\x0b[{9\\xde\\xdc\\x8b\\xb5\\x8cJ\\x1dQ\\x1f\\xf8K\\xff\\x00\\x7f\\xff\\x00\\xad^\\x8d\\xe6*\\x8f\\xc6\\xbe\\xf2\\x9dE5t\\x7f\\x19\\xe20\\xf5(Tt\\xaa\\xfcKrj(\\x07\"\\x8af\\x01E\\x14P\\x01E\\x14P\\x01E\\x14P\\x01E\\x14P\\x01E\\x14P\\x01E\\x14P\\x01E\\x14P\\x01E\\x14\\x1a\\x00b\\x9a\\x86\\xe2\\xf1aGg!U\\x06\\xe2}*`q\\\\7\\xc4O\\x8a\\xbe\\x1d\\xf0M\\x8c\\xd6\\xba\\xb6\\xb5\\xa3i\\xb7W\\x917\\xd9\\xe0\\xbc\\xbb\\x8e\\xdeV\\xf9{\\x0647e\\xa9\\xb6\\x1f\\x0f:\\xf5cN\\x9ao\\xd0\\xfc\\xcb\\xff\\x00\\x82\\xc6\\xfe\\xdb\\x7f\\x0b\\xff\\x00h\\x7f\\x86>\\x15\\xd3\\xfc#\\xe2\\x8b}R\\xe6\\xd3Tu\\x9a\\x13cu\\x1f\\x92\\x8f\\x03m\\x7f\\x9a*\\xfc\\xf0\\x86\\xfa\\xeb\\xfbG\\xedW_\\xf2\\x0b\\xff\\x00;*\\xfe\\xa5ao\\xa8Eo\\xe7\\xdcnl\\x93\\x83\\xfe\\xe5fC}\\xfd\\xa7\\xa9\\x7ff]\\x7f\\xc7\\xaf\\xff\\x00\\x11_\\x8f\\xe3\\xb1U15\\xfd\\xa5C\\xfdB\\xe0\\xbe\\x17\\xa1\\xc39],\\xab\\x0b>zI\\xb6\\xb9\\x9a\\xbd\\xde\\xae\\xf6KK\\xfe\\x84\\xb7\\x93\\xddjZ\\x97\\xda\\xad\\x7f\\xe4\\x15\\xfew\\xd7\\x91\\xfe\\xd4\\xbe:\\xd6\\xbc-\\xac\\xe9_\\xf0\\x84\\xea\\x17V\\xe9u\\x15\\xcf\\xdaD\\x07\\xef?\\xc9\\xb3\\xef\\xd7\\xab\\xcdq\\xfd\\x99\\xfe\\x8bk\\xff\\x00\\x1e\\xbf\\xfc_\\xdf\\xf9\\xeb\\xc5?l\\x8d\\x1bT\\xd3\\xf5/\\x0c\\xff\\x00a\\xe9\\xba\\x9e\\xad\\xfb\\x8b\\x9f?1Iu\\xe4\\x7f\\xa9\\xd9\\xf7)\\xe5p\\xe6\\xc4r3\\xc9\\xf1?\\x1d\\x8a\\xc3\\xe4\\x95q8Nk\\xfb\\xbf\\r\\xef\\xf1-\\xac{7\\x81>0\\xf8o\\xc77\\xff\\x00\\xd9\\xba\\x1e\\xa7\\xf6\\xcb\\xab8>\\xd1?\\xee.?\\xd8G\\xfb\\xff\\x00\\xef\\xd7\\xa6|\\x1a\\xd6\\xed|7\\xf1\\x1bC\\xd4\\xf5K\\xaf\\xb2\\xdaY\\xf9\\x9e|\\xff\\x00\\xf6\\xcd\\xd2\\xbe7\\xfd\\x92t\\xddK\\xc3?\\x13u[\\xcf\\xec\\xfb\\xabF\\xfe\\xcbl\\t\\xe1\\x93\\xfb\\xf6\\xf9\\xfe\\x9f\\x9d}1\\xa6\\xdf\\xff\\x00i\\xe9\\xb6\\xbf\\xf3\\xf5Ych{\\n'.\n",
      "Line no. 10, length : 494 and type : <class 'bytes'>.\n",
      "-----------------------------------------------------------------------------------------------------------------------------\n",
      "Data : b'\\xb7G\\xd1p\\x9em_:\\xca93\\x08\\xf2JW\\xd8\\xfd\\x94\\xff\\x00\\x82v~\\xd5>\\t\\xd3>\\x0e]X\\xdcx\\x81\\xda\\xe6\\xf3Zqo\\x8b)\\xff\\x00\\x8e8Q\\x07\\xfa\\xba\\xfb>\\x16[\\x95V\\xf9[\\xba\\x9a\\xfcP\\xfd\\x865\\xfd7K\\xd2\\xf4\\xef\\xb4\\xddZ\\xda\\xff\\x00\\xc5I\\x1b~\\xfeX\\xe2\\xff\\x00\\x9e5\\xfb%\\xe1O\\x14\\xe9\\xbe#\\xb3_\\xec\\xfdJ\\xce\\xf3\\xec\\xaa\\x04\\xa2\\t\\x92O$\\xe3\\xbe\\xda\\xfd\\x1f\\x87\\xb1J\\xae\\x1c\\xfe\\r\\xf1\\x9f\\x84id\\xd9\\xc4\\xeaa\\xf9\\x9a\\xa9)=}W\\x92:j(\\xcd\\x15\\xee\\x9f\\x8e\\x85\\x14Q@\\x05\\x14Q@\\x05\\x14Q@\\x05\\x14Q@\\x05\\x14Q@\\x05\\x14Q@\\x05\\x14Q@\\x05\\x04\\xe2\\x8c\\xe2\\x82x\\xa0\\x0f7\\xfd\\xa4~/\\x7f\\xc2\\x89\\xf8\\x1b\\xe2O\\x17\\x7ff\\xb6\\xab\\xff\\x00\\x08\\xfd\\x8c\\x97\\xbff\\x13\\xf9>v\\xcev\\xee\\xfe\\x1a\\xfcU\\xfd\\xbd?l\\xe7\\xfd\\xb6\\xfe#\\xe9:\\xf4z=\\xc6\\x86t\\xdd/\\xec_g]K\\xcc\\xf3v;\\xbe\\xfd\\xfeZ\\x7fz\\xbe\\xfd\\xff\\x00\\x82\\x92~\\xdf\\xbe\\x07\\xd1\\xbc\\'\\xf1\\x13\\xe1%\\xdf\\xf6\\xac~\"\\xb8\\xd3d\\xb1r`_\\xb3\\xb3\\xcd\\x02\\xba\\x8d\\xfb\\xff\\x00\\xba\\xe9_\\x8e\\xbe5\\xb9\\xdf\\xa8\\xf1\\xff\\x00>\\xf5\\xf9\\xff\\x00\\x12\\xe3\\xa5R\\xbf\\xd5\\xe9O\\xdc\\xfdO\\xec?\\xa3\\xff\\x00\\x02{\\x0c\\x15L\\xf70\\xa0\\xe3U\\x7f\\x0eN\\xf6q\\x94z-\\x9d\\xfb\\xbf\\x91\\x93\\xe1\\xbf\\x0e\\x7fi\\xd1g\\xa5\\x7f\\xc4\\xcb\\xec\\xb5Z\\x19\\xeaM2\\x0b\\xadSR\\xff\\x00E\\xff\\x00\\x8f\\xaa\\xf9\\xb3\\xfao\\x0b8\\xfb\\x90q7<\\xff\\x00\\xec\\xcf\\xf8\\x96\\x7f\\xe4\\xc7\\xfb\\xf5$W\\xdf\\xf0\\xac\\xff\\x00\\xe9\\xef\\xed\\x95\\x89ycu\\xfd\\xa5\\xf6_\\xf9z\\xad\\xbb9\\xff\\x00\\xe1\\x19\\x1f\\xf13\\xff\\x00K\\xff\\x00\\xc8\\xd5\\x9f\\xb3=8\\xc9I^^\\xe8y\\x1f\\xf0\\x8c\\xff\\x00\\xa5\\x7f\\xc7\\xdf\\xdb(\\xd34\\xaf\\xedMG\\xfbr\\xabC\\x07\\xf6o\\xfaU\\xd7\\xfcz\\xff\\x00\\xdf\\xea\\x92\\x18q\\xa9\\x7fi\\xff\\x00\\xcb\\xaf\\xf9\\xfe\\n'.\n",
      "Line no. 11, length : 131 and type : <class 'bytes'>.\n",
      "-----------------------------------------------------------------------------------------------------------------------------\n",
      "Data : b'\\xcfVkF\\x9cc\\xee(\\xff\\x00\\xc0\\xf3:\\x9d\"\\xe3\\xfb3R\\xb6\\xb9\\xff\\x00\\x9f9\\xe3\\xb8\\xff\\x00\\xbe+\\xefo\\xf8\\'\\x7f\\xfc\\x14\\x02o\\x05?\\x89[\\xfe\\x11\\xf9\\xae\\x8d\\xd4\\x16y\\xff\\x00J\\xeb\\xb3\\xce\\xff\\x00c\\xfd\\xba\\xfc\\xf7\\xd3u_\\xed:\\xf5O\\xd9\\xc3\\xe2\\xe6\\x99\\xf0\\x88\\xeb\\x9f\\xdaF\\xe8\\xfd\\xa8\\xc5\\xe4\\xf9\\x10y\\xdfs\\x7f\\xff\\x00\\x17]\\xb9F2Xj\\xbc\\xe7\\xcbx\\x85\\xc2\\xf8L\\xf7(\\xa9B\\xa5\\x1fi--\\xbft~\\xf7x\\'\\xc4\\x87\\xc5\\x9e\\n'.\n",
      "Line no. 12, length : 66 and type : <class 'bytes'>.\n",
      "-----------------------------------------------------------------------------------------------------------------------------\n",
      "Data : b'\\xd35F\\xb7\\xfb/\\xf6\\x95\\xa4w\\x02/\\xf9\\xe7\\xbd7\\xe3\\xfaWC\\xda\\xbez\\xfd\\x96?ko\\x0f\\xfcY\\xd3<?\\xe1\\xdb5\\xd4\\x17Rm\\x1e+\\x852C\\xe5\\xc7\\x84T\\r\\xc6\\xff\\x00z\\xfa\\x13o\\x1dk\\xf5\\xbau#R\\n'.\n",
      "Line no. 13, length : 23 and type : <class 'bytes'>.\n",
      "-----------------------------------------------------------------------------------------------------------------------------\n",
      "Data : b'\\xa2?\\xccL\\xe3)\\xaf\\x80\\xc6\\xcf\\r\\x88\\x87#\\xed\\xf3&\\xa2\\x8a+C\\xcd\\n'.\n",
      "Line no. 14, length : 4 and type : <class 'bytes'>.\n",
      "-----------------------------------------------------------------------------------------------------------------------------\n",
      "Data : b'(\\xa2\\x80\\n'.\n",
      "Line no. 15, length : 4 and type : <class 'bytes'>.\n",
      "-----------------------------------------------------------------------------------------------------------------------------\n",
      "Data : b'(\\xa2\\x80\\n'.\n",
      "Line no. 16, length : 4 and type : <class 'bytes'>.\n",
      "-----------------------------------------------------------------------------------------------------------------------------\n",
      "Data : b'(\\xa2\\x80\\n'.\n",
      "Line no. 17, length : 4 and type : <class 'bytes'>.\n",
      "-----------------------------------------------------------------------------------------------------------------------------\n",
      "Data : b'(\\xa2\\x80\\n'.\n",
      "Line no. 18, length : 4 and type : <class 'bytes'>.\n",
      "-----------------------------------------------------------------------------------------------------------------------------\n",
      "Data : b'(\\xa2\\x80\\n'.\n",
      "Line no. 19, length : 1600 and type : <class 'bytes'>.\n",
      "-----------------------------------------------------------------------------------------------------------------------------\n",
      "Data : b'\\t\\xc0\\xa2\\x83\\xd2\\x80*\\xba+\\xa9\\xf5lf\\xb8\\xef\\x8b_\\x19\\xfc3\\xf0?\\xc2\\x12k\\x9e(\\xd6mt]-g\\x8e\\xdcOv\\xdeT~c\\xf0\\x89\\x9a\\xeb\\xee\\xe6\\xf2-%e\\xda\\xcd\\x1a\\x13\\xf4\\xaf\\xc4\\xff\\x00\\xf8)7\\xfc\\x14s\\xc7\\x1f\\x14,\\xfcA\\xe0\\x1dSK\\xf0\\xec:^\\x97\\xaf\\xcbmm$pM\\x13\\xaf\\x91$\\xb1.\\xfd\\xd2l\\xec?\\x83\\x15\\xe4\\xe6\\x99\\x82\\xc2\\xd2\\xe6\\xfbG\\xdf\\xf8w\\xc08\\x9e)\\xcc=\\x8d=)B\\xce\\xa3\\xd2\\xea-\\xee\\xaf\\xb9\\xe7_\\xf0S\\x8f\\x8c\\x1a?\\xc4\\xbf\\xdb+\\xc7:\\xf7\\x87\\xf5\\x8b]KN\\xbeKW\\xb1\\x96\\x0f\\xdfC0\\x16Q\\xa3l\\xff\\x00\\x81\\xa3\\xd7\\xcc\\xd7\\x97\\xd7Z\\x9f\\xfc}U\\x7f\\x15k\\x9f\\xf1-\\xb9\\xd4\\xeb\\'\\xc1>)\\xba\\xf16\\x9busu\\xff\\x00?\\x15\\xf9\\xc4\\xa5\\xed\\xe5:\\xc7\\xfa\\x0f\\x97\\xfb\\x0c\\xb7\\x05C\\'\\xa16\\xd58F>\\xbc\\xbajg~\\xd4\\xde#\\xb8\\xf0\\xcf\\x86\\xf4\\xdf\\xf8Dn>\\xcbu\\xf6\\xf9|\\xec~\\xfb\\xf7~_\\xfbuk\\xe1\\xaf\\xc4\\x9b]WM\\xd1m\\xd3\\\\\\xb7\\xff\\x00\\x84\\x9b\\xecX\\x9e\\x02?}\\xe6y\\x7f\\xbd\\xae+\\xf6\\xae\\xd7.\\xb4\\xcf\\x04\\xe9\\x7fe\\xb5\\xfb_\\xfaD\\xbf\\xfa-+\\x92\\xfd\\x97\\xa0\\xfe\\xd2\\xf8\\xf9\\xa6\\x9b\\x8f\\xf4_\\xb5[\\xdfq\\xff\\x00n\\xf3W\\xa2\\xb0j8>y\\x9f\\x99V\\xe2\\xece.4\\xfe\\xcd\\xa7\\x17\\xcb.H\\xf5\\xb4omWC\\xe8\\x7f\\xb7\\xddjz\\x97\\xfd=T\\xba\\xc5\\xc5\\xd7\\xfc\\xbdQ\\xa8\\xc1\\xfd\\x99\\xa9\\x7f\\xa2\\xd1\\xafj\\xbf\\xdau\\xe3\\x9f\\xb7\\xcf\\xdcr\\xa7P\\xd7\\xb4\\xfbV?\\xe2g\\xff\\x00\\x1e\\xbf\\xfbR\\xa2\\xed\\xff\\x00P\\xbf\\xfd\\xa7T\\xb5-r\\xebS\\xd3j\\xc6\\x9b\\xaa\\xff\\x00i\\xff\\x00\\xc4\\xb3\\xfe]h\\xe4:\\xa3\\xcd9\\xfb:G\\x97|t\\xf8\\xb1\\xabx\\x0f\\xe2\\xfe\\x97k\\xa2k\\x0bm\\xa2\\xf96\\x97\\x17\\x07\\xca\\x86L\\x0f9\\xb3\\xf3\\xbf\\xcf\\xf7\\x135\\xec~\\x16\\xf8\\x81\\xa2x\\xde\\xfa\\xe7\\xfb\\x0fQ\\xb5\\xd5\\x96\\xd3\\xfd\\x7f\\xd9\\xc7\\xfa\\xad\\xff\\x00s\\xff\\x00@\\xaf\\x99\\xbfl[\\xfb\\xaf\\r|X\\xd2\\xed\\xad\\xad~\\xd5k\\xfd\\x91\\x17\\xfc\\xb0\\xff\\x00\\xa6\\x93\\x7fr\\xba\\xdf\\xd8.\\x12.\\xfc[\\xc7\\xcb\\xe4\\xd9\\xff\\x00\\xed\\xc5z\\x18\\x9c,~\\xaf\\xed\\x0f\\xc78o\\x8d\\xb1\\xff\\x00\\xeb\\xa6\\'\\x87\\xea\\xc5\\xf2\\xb9o\\xad\\x95\\x93zt?f\\xbf\\xe0\\x9a\\xdf\\x1d|+\\xe1\\xaf\\x88\\xdao\\xdb\\xbcI\\xa6[\\xfd\\x8fHx\\x1f\\xf7\\xdf\\xc5\\xfb\\xaa\\xfd$\\xf0w\\x8bt\\xff\\x00\\x1bxv\\xdfP\\xd0\\xee-\\xef\\xb4\\xcb\\xa5\\xcc7\\x16\\xe4\\x00E\\x7f<_\\r~!]|7\\xf1\\x17\\xf6\\x95\\xac\\x16\\xb77^G\\xd9\\xff\\x00}\\xfe\\xdf\\xfb\\x95\\xfaY\\xff\\x00\\x04\\xf9\\xfd\\xb6|M\\xe2/\\x0e\\xf87@\\xb8\\xb3\\xd1\\xedm\\xef/\\r\\xbc\\xea\"\\x7f1w\\xce\\xfd?y^\\xe7\\x0f\\xe7\\xb7^\\xc6\\xa1\\xf9/\\x8e\\xfe\\x14\\xe2i\\xd4y\\xd6\\x1aW\\xbe\\xfa\\xad\\xb5}\\x8f\\xd1QE\"\\x1c\\xa8\\xa5\\xcd}\\xc1\\xfc\\x94\\x14QE\\x00\\x14QE\\x00\\x14QE\\x00\\x14QE\\x00\\x14QA\\xe9@\\r\\x1f5$\\x8e\\x15i\\x03dW\\x0b\\xf1\\xf6\\xf2\\xe3J\\xf8+\\xe2\\x8b\\xab{\\x8f\\xb2\\xdd[\\xe8\\xb7\\x93Aq\\x00\\xfd\\xe4\\x12\\x08\\\\\\x87O\\xa7QC\\xd1\\\\\\xdb\\x0fG\\xdbUT\\x97Wc\\xc7\\xff\\x00n\\xaf\\xdb\\xebM\\xfd\\x88\\xc6\\x81\\xf6\\xdd\\x12\\xfb\\\\\\x7f\\x12\\xac\\xfeY\\x82T\\x8b\\xc9\\xf2\\xfc\\xb1\\xf3\\xef\\xff\\x00\\xae\\xb5\\xf8#\\xfbI\\xde\\x7f\\xc2\\xf0\\xf8\\xb1\\xe2]J\\xd7\\xfd\\x0f\\xfe\\x12-~\\xe7X\\xff\\x00H\\xff\\x00\\x96\\x1b\\xee\\x1d\\xf6\\x7f\\xe3\\xf5\\xda|w\\xf8\\xe1\\xe2\\x8f\\x8c\\xc7E\\xff\\x00\\x84\\x83\\xc5Z\\xd6\\xa1\\xf6[\\x99D_l\\xd6g\\xb9\\xf2\\xb7\\xec\\xdf\\xb3\\xce\\xfb\\x9fv\\xbcG^\\xf1\\x1f\\xfc$\\xc7\\xec\\xbae\\xd5\\xd7\\xda\\xbe\\xd1\\xff\\x00\\\\\\x7f\\xdf\\xf9\\xeb\\xf3|vc<m[\\xad\\x91\\xfd\\xed\\xc1\\x1e\\x1e\\xe0xK.J\\xb4y\\xb1s\\xd2R\\xbb\\xd5^\\xf1I?+\\\\\\xd2\\xd3`\\xff\\x00\\x84\\x1b\\xc3\\x7f\\xf3\\xf7\\xfd\\x91Rx[\\xc5_\\xf0\\x93\\xe9\\xb7W_e\\xac\\xdd\\x1f\\\\\\xb5\\xff\\x00E\\xd35?\\xf8\\xfa\\xff\\x00\\x96\\xff\\x00\\xf2\\xda\\xba\\x0b;\\x1b],\\xff\\x00\\xa2\\xda\\xfd\\x92\\xbc\\xedO\\xd10\\xb5\\'\\xcf\\x17C\\xe1\\xecdx?\\xc7\\xff\\x00\\xf0\\x93\\x7f\\xcb\\xaf\\xd9+~i\\xeb\\x03\\xc1\\xfa\\xae\\x99\\xa9\\xff\\x00\\xc82\\xd7\\xff\\x00 y5-\\x9f\\x8a\\xadu=G\\xfb3\\xfe^\\xbf\\xf8\\x8a\\xcf\\x96F\\xd8<b\\x8d8\\xfbZ\\x8anGIe\\xe1\\xcf\\xf8\\x97}\\xaa\\xb2\\xea\\xd47\\xd7_\\xf3\\xf5\\\\\\xcf\\x8d\\xbe+h\\x7f\\x0e\\xa4\\xb5]F\\xe6\\xea\\xd5\\xaf?\\xe9\\x84\\x92}\\xcaTh\\x9d\\x98\\xccn\\x16\\x84}\\xa5Y\\xf2D\\xee5\\xef\\x11\\xff\\x00i\\xe9\\xbfe\\xa8\\xff\\x00\\xe1#\\xff\\x00\\x8ao\\xec\\xd5\\x1e\\xa3\\xa5]i\\x9aw\\xdaj\\xc4\\xd7\\xd6\\xa7\\xc3\\x7f\\xf4\\xf5\\xff\\x00\\\\+\\x97\\xd9\\x9e\\xc5:\\xd5y\\xa5\\xce\\x1e\\x1b\\xf1\\x1f\\xf6f\\x9b\\xf6Z\\xbd\\xe7\\xff\\x00\\xc2\\r\\xff\\x00O\\x7fl\\xaa:\\r\\xf5\\xaf\\xf6o\\xfaW\\xfc}Tz\\x0e\\xabjO\\xfcL\\xff\\x00\\xd2\\xff\\x00\\xf25\\x174\\xc2\\xc6\\x10\\x9e\\xea\\xfd\\xce\\xb6\\x19\\xeb\\xe9O\\xd8\\xaf\\xf6\\xa9\\xd3\\xbe\\x14x\\xaf\\xc1vs\\xe9\\xd7W\\'L\\xbd`\\xa6\\x19c\\xe3\\xe6w\\xaf\\x93,\\xc5\\xd6\\x99\\xa9\\xfd\\xaa\\xeb\\xfe=\\x7f\\xce\\xca\\xdf\\xd1\\xf5\\xcd\\xc2\\xda\\xe6\\xd6\\xeb\\xec\\x9f\\xf3\\xc2\\xe3\\xfe[Vtk{\\x1a\\xbe\\xda\\x99\\x9ey\\x92\\xe1\\xb3\\xbc\\rL\\xbf\\x13\\xfdic\\xfa\\x07\\xfd\\x9d\\xff\\x00h+_\\x8f~\\x1b\\xbc\\xbe\\x86\\xcem6KK\\x8f\\xb3\\xe2\\xe0\\xef-\\xfb\\xb4\\x7f\\xfd\\x9e\\xbd=\\x06\\xd4m\\xbf7\\xa5~,~\\xc6\\xbf\\x18\\xfcQi\\xe0\\xeb\\x83\\x0f\\x89\\xbcE\\x00\\xfbp\\x19\\x87Qs\\xfc\\t_\\xb46\\xef\\xbe\\xd46\\xe2\\xa4\\xfc\\xc7\\xf15\\xfa\\xb6O\\x99,]+\\x9f\\xe7\\x0f\\x8a\\x1c\\x04\\xf8c2\\xf6Q\\x92t\\xe6\\xe5o.[\\x7f\\x99~\\x8aE?--z\\xc7\\xe6aE\\x14P\\x01E\\x14P\\x01E\\x14P\\x01A\\xe9E\\x04\\xe0P\\x07\\x1f\\xe3\\xcf\\x88Z\\x17\\xc2\\xcf\\x0b\\xddkZ\\xf6\\xa5\\xa7\\xe8z]\\x98\\x8f\\xcf\\xbd\\xbb\\x95!\\x8a-\\xef\\xb5w;\\x7f\\xb7\\xef\\xd6\\xbf5\\x7f\\xe0\\xa6\\x7f\\xf0S\\xef\\x10\\xf8?\\xe2C\\xf8\\x7f\\xe1\\xe7\\x8a|;}\\xe1]CBAs,>M\\xe6\\xe9\\xa5{\\x84\\x94y\\x9f\\xee\\xa2W\\xd5_\\xf0Y\\x0b\\xd9\\xec\\x7f\\xe0\\x9e\\x1f\\x11.\\xad\\xdb,\\xb1\\xd90\\x07\\xb7\\xfal\\x03\\xfck\\xf9\\xf1\\xf8\\x85\\xf16\\xeb\\xfe\\x12O\\xb2\\xfd\\x96\\xd7\\xfd2\\xdf\\xec\\xff\\x00\\xe9\\x13\\xff\\x00~\\xbe?\\x88\\xb3\\n'.\n",
      "Line no. 20, length : 322 and type : <class 'bytes'>.\n",
      "-----------------------------------------------------------------------------------------------------------------------------\n",
      "Data : b\"\\x8a\\x7fV\\xa2\\xf9|\\xcf\\xe9?\\x038?(\\xc4\\xd0|A\\x99\\xfb\\xee\\x9c\\xdd?g(\\xf3'\\xee\\xa6\\xa5\\xea\\x9b%\\xf1\\xdf\\x8f\\xb5=K\\xec\\xbf\\xd9w?\\xda\\xdf\\xf3\\xdf\\xfb?\\xfd.\\xb1&\\x82\\xd7M\\xff\\x00J\\xd3?\\xe4`\\xff\\x00\\x96\\xff\\x00\\xf2\\xdb\\xfe\\xbb|\\x95%\\xe0\\xff\\x00\\x85?\\xff\\x00\\x1e\\xbf\\xe9\\x7fl\\xff\\x00\\x9f\\x8f\\xf6?\\xfd\\xba\\x8ek\\x1f\\xf8A\\xff\\x00\\xe2\\xa6\\xff\\x00\\x8f\\xaf\\xed\\x8f\\xf9w\\xff\\x00\\xae\\xdf=|\\xdd3\\xfas\\x1d\\x8a\\x96&\\xac\\xaa\\xd4\\xf8\\xa3\\xbfh.\\xf1\\xf3\\xeay\\xbe\\xbd\\xe3\\x9dsK\\xf8\\x91\\xfe\\x95\\xfe\\x89\\xfe\\x91\\x17\\xfc|A\\xff\\x00L\\xeb\\xd5\\xbe\\x1e\\xf8\\xfe\\xd7\\xc4\\xdam\\xd7\\xda\\xb5-+\\xfe>?\\xe7\\xbcu\\xf3\\xe7\\xc6\\x0f\\x8a\\x9f\\xda\\x7f\\x125;_\\xb2\\xda\\xff\\x00\\xa6}\\x9b\\xff\\x00I\\xd2\\xbb\\xff\\x00\\xd9\\xe3\\xc0\\x90x\\xdb\\xc2\\xf7\\x97\\r;/\\xfcM8\\xf7\\x1bV\\xbd\\x1cf\\x16Q\\xa7\\xcf?t\\xfc\\xbb\\x83x\\x93\\x13\\x88\\xcd\\xf18L<\\xb9\\xa3\\tKW\\xe4z\\xd6\\x8f\\xe1[_\\r\\x7f\\xc7\\xadV\\xb3\\xd2\\xb4\\xcf\\xf8H\\xfe\\xd5ku\\xfe\\x95\\xfb\\xdf\\xf9o\\xff\\x00}\\xfc\\x95[\\xc0~8\\xff\\x00\\x84\\x9bR\\xba\\xff\\x00E\\xab6~\\x07\\xfe\\xcc\\xf1'\\xf6\\x9f\\xda\\xbf\\xe7\\xaf\\xfe?^G\\xc0~\\xbdG\\x96\\xbd\\n\".\n",
      "Line no. 21, length : 384 and type : <class 'bytes'>.\n",
      "-----------------------------------------------------------------------------------------------------------------------------\n",
      "Data : b'3\\xc2B<\\xbc\\xc6\\x94\\xda\\xa5\\xae~\\xcb\\xf6\\xab_\\xb5W\\x93~\\xd5\\r\\xa6\\x8dKC\\xfbM\\xd7\\xfc\\xb0\\xb9\\xff\\x00\\x96\\xff\\x00\\xf5\\xc6\\xbd\\x0bR\\xf0\\x07\\xf6\\x97\\x89?\\xb5>\\xd5\\xff\\x00<\\xbf\\xf1\\xca\\xc9\\xf8\\xc1\\xf0*\\xdf\\xe2\\xfe\\xa5kuu\\xa9j\\xb6\\x9fd\\xfbO\\xfc{\\xc1\\xff\\x00=\\xbf\\xfd\\x8a\\xdb\\x07*~\\xd7\\xf7\\x87\\xcd\\xf1\\xde_\\x9a\\xe3\\xf2\\xaa\\xd40\\x94\\xbd\\xff\\x00w\\x97\\xde\\xf3^fW\\xc1/\\x8d~&\\xf8\\x97\\xe3\\x0b\\xad;\\\\\\xb9\\x17V\\x96ZW\\x9f\\x0f\\xd9\\xec\\xfb\\xa4\\x88\\x9f\\xfb=z\\\\\\xd5\\xc9\\xfc\\x19\\xf8Ko\\xf0\\x87\\xc47Z\\xdd\\xad\\xd5\\xd5\\xe2\\xdeA\\xf6\\x0f\\xf4\\x8f\\xfa\\xe8\\x8f\\xff\\x00\\xb2WE\\xe3o\\x11\\xff\\x00fi\\x97Z\\x9dN+\\xd9\\xfbO\\xdd\\x1e\\xf7\\r\\xfdg\\x0b\\x96(\\xe63\\xe6\\xa9\\xaf\\xc5\\xef{\\xbe\\xa7A\\xa3\\xd8i\\x9f\\xd9\\xbf\\xe9_\\xf1\\xf5\\xff\\x00]\\xea\\xbf\\x86\\xe0\\xb5\\x1fj\\xfbUs~\\x15\\xf1W\\xfc$\\xde\\x1b\\xba\\xba\\xff\\x00\\xae\\xb5W\\xc0~1\\xff\\x00\\x84\\x9b\\xed_\\xe8\\xbfd\\xfb\\x1f\\x95\\\\\\xbe\\xcc\\xf7\\xa9\\xe7T?r\\xa9}\\xa0\\xf8\\xef\\xe3\\xfdO\\xc3^\\t\\xff\\x00\\x89g\\xfc\\xff\\x00\\xc5\\xff\\x00,<\\xef\\xdd\\xd6\\xa7\\xc0\\xcf\\x8b\\xdan\\xa9\\xf0\\xdbCms\\\\\\xd0muO\\xde\\xfd\\xa2\\t\\xe7\\x8e\\x19\\x7f\\xe3\\xe1\\xf6|\\x9f\\xeeW5\\xfbY[7\\x82~\\x01\\x7fiz\\xdc[\\x0e\\xbf\\xdf\\xaf\\x02\\xf8F\\x96\\xfe:\\xf8\\x8f\\xe1\\xcf\\xf9u\\xfbU\\xf4p\\x1f\\xf6k\\xbf\\x0f\\x97\\xcaxOh\\xe3\\xee\\x9f\\x9a\\xf1\\x07\\x1ac\\xf2\\xce1\\x86\\n'.\n",
      "Line no. 22, length : 708 and type : <class 'bytes'>.\n",
      "-----------------------------------------------------------------------------------------------------------------------------\n",
      "Data : b'\\x8a\\xe7s\\xa7\\x1fv\\xfaj\\xeds\\xf43\\xe1w\\xc7\\xbdG\\xc3\\x8dqo\\xe1\\x9dJ\\xd7\\xec\\xa9q\\xfb\\xff\\x00\\xb3\\xf9s~\\xf2\\xbf]\\x7fc\\xcf\\xdb\\xba\\xdb\\xe2\\x9f\\x8auK/\\x15x\\xb3\\xc3\\x86\\xce\\xce\\xde)m\\xc7\\x9d\\x0cd6\\xee\\xf5\\xf8\\x9d\\xf0\\xf7\\xe1\\xcf\\xfc!\\x1ae\\xdd\\xad\\xad\\xd1\\xba\\xfb\\\\\\xff\\x00h\\xcd}\\t\\xfb\\x18\\x9c\\xf8\\x97\\\\\\xff\\x00\\x8f\\xce,\"\\xff\\x00\\xd1\\x95\\x8eW\\x99O\\x0bW\\x96;\\x1d\\xde(p>_\\x9c\\xe4\\xf2\\xc4\\xe6\\x16\\xa7Z;Y\\'k\\xf2\\xdfS\\xf7sF\\xd7m|Q\\xa5\\xdb\\xdeY\\xdcZ\\xddZ\\xdd/\\x9d\\x04\\xd07\\x9b\\x14\\xc9\\xd9\\x95\\x87\\x15\\xa8\\x99\\xff\\x00\\xc7k\\x81\\xfd\\x9aff\\xf8\\x05\\xe0\\xbd\\xdf\\xf4\\x07\\xb2\\x1c\\xf7\\x1eBW\\xa1D\\xbc}8\\xaf\\xd5\\xa9\\xcd8]\\x1f\\xe7^&\\x92\\xa7VTW\\xd9\\x91%\\x14QL\\xcc(\\xa2\\x8a\\x00(\\xa2\\x8a\\x00)\\x1c\\xe1\\x0f\\xd2\\x96\\x86\\xe9@\\x1f\\x06\\xfcv\\xfd\\xb2\\xfc3\\xe1\\xaf\\x8e\\xfe#\\xf0\\xcd\\xd6\\x9b\\xaf^]Y\\xde\\x8by\\xca\\x08\\xfc\\x9f\\xf5{\\xff\\x00\\x8e\\xbeX\\xfd\\xb3\\xbfd\\x1ds\\xf6\\xd1\\xd4\\xae\\xbe!xgR\\xf0\\xfe\\x93\\xa5i\\x1a\\x07\\xd9\\xfe\\xc1q\\xf6\\x8f\\xb6y\\x96\\xdet\\xee\\xff\\x00\\xb9\\xb6\\x92?\\xf9m\\x1dyG\\xfc\\x14[\\xf6\\x84\\xd3<\\r\\xfbt|L\\xb5\\xfe\\xdc\\xba\\xb3\\xba\\xb3\\xd7\\xa2\\xff\\x00\\x9e\\x9f\\xb8\\xfd\\xda\\x7f\\xd3:\\xb5\\xfb=\\xfe\\xd7\\xba\\x9e\\xa7\\xa6\\xda\\xda\\xff\\x00\\xc2a\\xaa\\xff\\x00\\xc2?y\\x7f.\\x9f\\x7foq\\x04\\x9eL\\xf1\\xbci\\xbf\\x7f\\xee\\xeb\\xf0\\xdcn\\x17\\x0c\\xf3\\x19\\xd5\\xa3x\\xcf]e\\xf0\\xf5\\xfc\\xcf\\x87\\xe1\\xfe5\\xe2\\x8e\\x11\\xce\\x7f\\xb4S\\xe7\\xa1v\\x9a\\x8a\\xbb\\xf7\\x9f\\x9fd|#\\xa6\\xff\\x00\\xc5\\xa0\\xff\\x00\\x8f\\xaf\\xf4\\xbf\\xb6\\x7f\\xcf\\xbf\\xfb\\x1f\\xef\\xff\\x00\\xbfQ\\xd9\\xd8\\xff\\x00\\xc23\\xa9\\x7f\\xc2Mu\\xfe\\x97k\\xab\\xff\\x00\\xcb\\xbd\\xbf\\xfa\\xef\\xdfW\\xe8\\x97\\xed\\x99\\xfb!xC\\xf6\\x98\\xfe\\xc3\\xff\\x00\\x85\\x1b\\xe0\\xff\\x00\\x0f\\xea\\xdf\\xd9\\x1eo\\xf6\\xef\\xd8 \\x8fN\\xf27\\xec\\xf2w\\xf9\\xde^\\xff\\x00\\xe3\\xff\\x00W_\\x9f\\xfa\\xc7\\x875?\\x03x\\x93R\\xd3<am\\xf6K]\"y4\\xf8-\\xee<\\xb9\\xbc\\x89\\x12M\\x89\\x1f\\xc9\\xfe\\xe3\\xd7\\xa7\\x81\\xc5{}\\xe3\\xcbo\\xb3\\xd4\\xff\\x00J\\xb8\\x1f\\x8d\\xb2\\xee#\\xc0S\\xc5\\xe5\\xd3\\x8f,\\xb6\\x8d\\xd3\\xe4\\xd5\\xab\\xce\\xcd\\xe8\\xed\\xf8\\x94f\\xb2\\xba\\xd4\\xf5/\\xf8L>\\xd5u\\xf6_\\xf8\\xf8\\xfb?\\xfc\\xbe|\\x9f%G\\xa9X\\xff\\x00\\xc2\\xdf\\xff\\x00J\\xd3?\\xd0\\xfe\\xc7\\xfe\\x8f\\xfe\\x91\\xff\\x00\\xd8T\\x9f\\xe9_\\xda_j\\xb5\\xff\\x00\\x91/\\xff\\x00 \\xf9\\x7f\\xc7\\xf2\\x7f\\xac\\xfb\\xf5\\x1d\\xe7\\xda\\xb5?\\xf9\\x13\\xff\\x00\\xe3\\xd7\\xfe\\x9d\\xff\\x00s\\xfb\\xcf\\xf8\\x1dw\\xf3\\\\\\xfa\\xe9S\\xa3Itq\\xfbKf\\xe5\\xfc\\xcb\\xfb\\xa5\\x8dcV\\xff\\x00\\x85\\xbf\\xfe\\x8b\\xa6\\x7f\\xa2}\\x8f\\xfe~?\\xfb\\n'.\n",
      "Line no. 23, length : 262 and type : <class 'bytes'>.\n",
      "-----------------------------------------------------------------------------------------------------------------------------\n",
      "Data : b\"\\xbd\\xe1\\xbf\\x15Z\\xff\\x00iZ\\xe8\\x7f\\xe9_j\\xd2\\x7f\\xd1\\xfe\\xd1\\xff\\x00,~J\\xf3_\\x89?\\x15\\xf4[\\xdd>\\xd4\\xfc?\\xd6-\\xbe\\xd4\\xdc\\xce,\\xad\\xe4\\x871\\x7f\\x07\\xfa\\xea\\xe8\\xbc1\\xe3\\x1d/\\xc4\\xde\\x1d\\xb7\\xb5\\xd2\\xee\\xbf\\xe2\\xbe\\xf2#\\xf3\\xf3\\x04\\x9ew\\x99\\xff\\x00/??\\xfa\\xbf\\xef\\xd1S\\x0bS\\xfa\\xfb'\\x9b\\x96\\xf1F\\x02\\xae.\\xd8Z\\xb1\\x94\\xfb\\xc5\\xa6\\x9f\\xf7U\\xb4\\xbf\\xeau\\x1a\\xc7\\x83\\xae\\xb5?\\x12Z\\xea_j\\xb5\\xfb/\\xee\\xbf\\xf1\\xca<{\\xe0{\\xaf\\x13}\\x97\\xec\\xb7V\\xb4h\\x1e#\\xfe\\xcc\\x16\\xb6\\xba\\x9d\\xd7\\xfcM\\xbf\\xf8\\xbf\\xb9G\\x8f \\xd7?\\xd1\\x7f\\xb3?\\xed\\xbdr\\xfd\\xb3\\xea%N\\x8dL4\\xab(\\xcb\\xde\\xf8\\xa3\\xd4\\xb3\\xe3o\\x0e]x\\x9bM\\xb5\\xb5\\xb5\\xab0\\xb7\\xfc#>\\x1b\\xff\\x00J\\xff\\x00K\\xfe\\xc8\\xaa\\xde0\\x83S\\xfe\\xcd\\xb5\\xfe\\xcc\\xff\\x00\\x8f\\xaa\\xb3\\xa6\\xd9\\x7fjxn\\xd6\\xd7S\\xff\\x00\\xb6\\xf4}\\x83\\xa24\\\\k\\xcaT\\xe1\\xf6~A\\xa0\\xf8\\x8e\\xd7R\\xd3n\\xae\\xadj?\\n\".\n",
      "Line no. 24, length : 579 and type : <class 'bytes'>.\n",
      "-----------------------------------------------------------------------------------------------------------------------------\n",
      "Data : b'\\xf8\\xc6\\xd7\\xc4\\xdfj\\xfb-\\xaf\\xfcy\\xd7\\x98|^\\xd7\\xf5/\\x0b\\xfcE\\xb5\\xb5\\xd3\\xa7\\xba\\xb5\\xd2\\xfe\\xcfoqq\\x04\\x07\\xf7?\\xeb\\x1fw\\xfe9^\\x97\\xe0\\xfdWC\\xd5>\\xd3\\xfd\\x87\\xff\\x00m\\xff\\x00qq\\x0f\\xfb\\x9f\\xeb\\xabJ\\x94\\xd5:~\\xd0\\xf02\\x9e\"\\xa5S0\\xfa\\x974y\\xe9\\xfb\\xb2\\x8f\\xda\\x97\\xf8\\x7fRM\\x1f\\xc7\\x16\\xba\\xa6\\xa5\\xfd\\x99\\xf6[\\xaf\\xff\\x00b\\xa1\\xbc\\xf1\\xc5\\xae\\x9b\\xe2?\\xec\\xcf\\xb2\\xff\\x00\\xa5\\xd2\\xe8\\xf7\\x1a\\x1f\\xfc$\\x9f\\xe8\\xbf\\xf1\\xf5\\xfb\\xdf\\xfe\\xce\\xbd#\\xf6?\\xf0\\xe7\\x83\\xfcs\\xfbc|=\\xd0\\xf5\\xcb[][\\xfb_W\\xb6\\xb7\\xff\\x00H\\x83\\xfd\\x7f\\xdc\\xf9\\x1e\\xb3\\xab^4\\xa8\\xfbC\\xaf3\\xcc\\xde\\x0f.\\xa9\\x8e\\xac\\xe1z|\\xd2\\xe9~X\\xeb\\xcb\\xeau?\\x01\\xbf\\xe0\\x99~&\\xfd\\xb4t\\xeb\\xadsC\\xf17\\x85t\\x9b]\"x\\xed\\xe7\\xfe\\xd0\\x9e\\xe2\\x19\\xbc\\xcf-&\\xf3\\x13dr|\\x9f=~\\xb6|O\\xf1\\xfe\\x99\\xf0\\x83N\\xb5\\xba\\xb9\\xd3>\\xd7\\xf6\\xcf\\xfaa\\x1f\\xfb\\xf5\\xcf\\xff\\x00n|)\\xfd\\x95?\\xe2G\\xff\\x00\\x12\\xaf\\x04\\x7fk\\xff\\x00\\xc4\\xc3\\xec\\xf6\\x162~\\xff\\x00\\xf87\\xfc\\x91\\xff\\x00\\xb1_\\x9f\\x7f\\x1b?l\\xbf\\x13\\x1f\\r\\xe9\\x9f\\xdb\\x9e0\\xd5\\x7f\\xe3\\xe3\\xf7\\x1f\\xf2\\xc7\\xfeY\\xff\\x00\\xd3\\x18\\xeb\\xe2\\xfd\\x9c\\xb1\\xbf\\xed8\\x8f\\x83\\xec\\xc7\\xedK\\xd3\\xb9\\xfeg\\xf8\\xc7\\xe3&?\\x89\\xf1\\x8f\\x01\\x96M\\xf3;\\xfb=\\x13\\xf6[?~\\xda\\xebm\\x0f\\xd2\\x1f\\xd9k\\xf6\\xc2\\xd0~$|y\\xd3<5mm\\xaa}\\xab7\\x0b\\xf6\\x86?\\xb9\\xf9 w\\xfe\\x0f\\xf7+\\xed\\x84|\\x9f\\xe5_\\x88_\\xf0H\\xdf\\x8e:O\\xc4\\x0f\\xf8(7\\x84- \\xd6n5\\x0b\\x9b\\xb8u\\x16\\xc1\\x12v\\xb0\\x98\\xff\\x00\\xcf>\\xd8\\xaf\\xdb\\xe0v\\xae\\xea\\xfds\\x83cEe\\xedQ\\x8c\\xa2\\xb9\\xbe\\xd6\\xfd\\x0f\\x9e\\xe1:y\\x95<\\x1f.iR3\\xa9\\xde$\\xd4P\\x0eE\\x15\\xf6G\\xd3\\x85\\x14Q@\\x05\\x14Q@\\x05\\x06\\x8a\\x0f\"\\x80?&\\x7f\\xe0\\xba\\x9f\\xf0L\\xcf\\x86\\x9e\\x02\\xfd\\x9c\\xbe-~\\xd0V\\xbf\\xf0\\x907\\x8f\\x9a\\xe2\\xc6\\xfb\\xf7\\xf7\\xf9\\xd3\\xc4\\x93_\\xd9\\xdb?\\xee|\\xbf\\xf9\\xe6\\xd5\\xf9#\\xf0c\\xe3\\xbe\\xa7\\xe1\\x93kk\\xff\\x00\\x12\\xaf\\xb2\\xfd\\xbf\\xfe^?\\xe0\\x15\\xfd.\\x7f\\xc1@\\xff\\x00d\\x9f\\xf8nO\\xd97\\xc5\\x7f\\n'.\n",
      "Line no. 25, length : 1116 and type : <class 'bytes'>.\n",
      "-----------------------------------------------------------------------------------------------------------------------------\n",
      "Data : b'\\xdb\\\\\\xff\\x00\\x84t\\xf8\\xab\\xecy\\xd4M\\x97\\xdb>\\xce \\xbc\\x86\\xe7\\xfdW\\x99\\x1e\\xfc\\xf9!?\\xd6\\x0f\\xbf_\\xce\\x97\\xfc\\x15\\x13\\xf6\\x17\\xb6\\xff\\x00\\x82j\\xfe\\xd3\\xd6\\xbf\\x0f\\x7f\\xe1-o\\x15}\\xb3@\\xb6\\xf1\\x07\\xdb\\x8d\\x8f\\xf6v<\\xeb\\x8b\\xa4\\xf2\\xf6y\\xb2\\x7f\\xcf\\xb7\\xfe?_;\\x9bd41\\x14\\xef\\x1d\\xcf\\x8e\\xe2\\x18\\xd7\\xa7>\\x7f\\xf9v}\\x93\\xfb7\\xfe\\xd6\\xda\\xe7\\xc3?\\xed\\xcf\\xec;\\xaf\\x0f\\xdd\\xfd\\xb3\\xca\\xf3\\xfe\\xd1\\xfe\\xc6\\xfd\\x9frO\\xf6\\xeb\\x7f\\xf6\\xea\\xfd\\x82\\xbc\\x1f\\xe2o\\x82\\x7f\\xf0\\x98xf\\xd7\\xc4\\x1a\\xb7\\x8d|E\\x7f\\x16\\xa1\\x7foo\\xfe\\x99\\xff\\x00\\x1f1\\xcd;\\xba\"G\\xe6}\\xf7\\xaf\\xce\\x8f\\x82\\x7f\\x1a\\x7f\\xe1\\x06\\xfe\\xd3\\xff\\x00\\x89o\\xda\\xfe\\xd9\\xe5\\x7f\\xcb\\x7f\\xf7\\xeb\\xf4\\x83\\xf69\\xfd\\xaa?\\xb3<I\\xa6\\x7f\\xc4\\x8f\\xed\\x7f\\xf1(\\xfbG\\xfc\\x7f\\x7f\\xb8\\x9f\\xf3\\xce\\xbf+\\xafF\\xbd\\x1a\\xfc\\x93\\xfe*\\xff\\x00\\xc9\\xfc\\x99\\xcb\\xc2\\xfci\\x99\\xf0^:\\x19\\xae[\\xfb\\xcc\\x1b\\xfe,y\\xb9TR\\xd7e\\xab\\xbfT\\x8f\\x82u\\x8f\\x83\\x9e9\\xf0\\xcf\\xda\\xb4\\xcb\\xaf\\x07\\xf8\\xaa\\xd3\\xc3\\xf6\\x7f\\xeb\\xef\\xee4;\\xc8a\\x82?\\xbe\\xee\\xf3<~ZW+y\\xaa\\xdd|3\\xd4\\xadmt?\\xf4\\xbb_\\xfc\\x0c\\xfd\\xe7\\xfc\\x02\\xbfd~&|T\\xff\\x00\\x86\\xbd\\xf0F\\xb9\\xf0\\xcf\\xfb3\\xfe\\x11\\xff\\x00\\xf8N\\xac%\\xd1\\xfe\\xdf\\xe7\\xfd\\xb3\\xec;\\xff\\x00\\x8fg\\xee\\xf7\\xd7\\x87x?\\xfe\\x089\\xff\\x00\\x08\\xce\\x9buk\\xff\\x00\\x0b\\x0b\\xed_\\xf7\\x03\\xff\\x00\\xee\\x9a\\xe8\\xfe\\xda\\x8e\\x17\\xdd\\xc6\\xc3\\x94\\xfe\\xb6\\xe0?\\xa4\\xcf\\x0e\\xf1.\\x1e\\xadLeoag\\xcb\\xcc\\xa3\\'m\\x9d\\xbe\\x13\\xf0\\xf7\\xc20\\xeb\\xbaq\\xff\\x00E\\xd3.\\xff\\x00\\xf0\\x06J\\xef>\\x12\\xdd\\xea\\x9ao\\x8c\\xed\\xee\\xbe\\xcdu\\xf6\\xaf\\xb3\\xc9\\xff\\x00.R\\x7f\\xcf\\xbd}\\xf5\\xfbo\\x7f\\xc1?.\\xbf\\xe0\\x9c^\\t\\xd35\\xcf\\xf8L.\\xbcY\\xff\\x00\\t\\x15\\xc4\\xba\\x7f\\xd9\\xfc\\x8f\\xec\\xef#d{\\xf7\\xef\\xf3d\\xdf_5\\xfd\\x87\\xfb3\\xfe*o\\xf9\\xfc\\xff\\x00H\\xfb\\x07\\xfdv\\xff\\x00o\\xfe\\x07_]S>\\x862\\x97\\xb6\\xa5\\x1f\\x88\\xfbo\\r\\xf8?,\\x9d\\x1ay\\x9eW\\x8ds\\x8c[{8\\xda\\xddB\\xce\\x0b]OM\\xfe\\xdc\\xba\\xff\\x00\\x90\\xaf\\xfc\\xfb\\xff\\x00\\xb9\\xf7>J\\xd6\\xf0O\\x8a\\xae\\xb5_\\xb5\\x7fi\\xfd\\x96\\xd7\\xff\\x00 \\xd6/\\xf6O\\xfc$\\xa7\\xfe\\x12o\\xf9\\xf3\\xff\\x00\\x97\\x7f#\\xfex\\xff\\x00\\xb7R}\\x87\\xfe\\x17\\x97\\xfd:}\\x8f\\xfe\\x98y\\xdf~\\xbc\\xcb\\xc0\\xfd\\xea\\x9e*p\\x97\\xb4\\x83\\\\\\xdd\\xaf\\xf1\\xff\\x00y\\x97|!\\xe2\\xab\\xadSR\\xba\\xfe\\xd3\\xff\\x00D\\xb5\\xff\\x00\\xbf4\\xb0\\xf8\\xaa\\xeb\\xfe\\x12O\\xb3\\x7f\\xcc+\\xfe~?\\xfb:\\xa3\\xfd\\xab\\xff\\x00\\x0b\\x7f\\xfe%\\x9fe\\xfb\\'\\xd8\\xff\\x00\\xd2?\\xd7\\xf9\\xdf\\xec\\x7f\\xec\\xf4}\\xbf\\xfee\\x0f\\xfbv\\xf3\\xff\\x00\\xf1\\xff\\x00\\xb9K\\xdc\\xfeR>\\xbdV\\x9d=d\\xff\\x00\\xba\\xef\\xbf\\xf7O;\\xfd\\xa5\\xb5MO\\xfe\\x16E\\xaf\\xf6e\\xad\\xd5\\xdd\\xaf\\xd8\"\\xff\\x00H\\xb7\\x82I\\xbfy\\xe6?\\xf1\\xd2\\xfc\\x19\\xf1\\x8e\\xb9\\xa6\\x7fi}\\x96\\xd7\\xfe}\\xbf\\xe5\\x84\\x9f\\xf4\\xda\\xbfC\\x7f`\\x9f\\xf8%}\\xd7\\xed\\x0b\\xf0\\x07S\\xd4\\xff\\x00\\xe10\\xba\\xd2\\x7f\\xe2os\\xa7\\xfd\\x9f\\xec?\\xf4\\xce\\xd9\\xf7\\xef\\xf3?\\xdb\\xafQ\\xf0O\\xfc\\x10C\\xfe\\x11\\x81\\xff\\x00%2\\xea\\xeb\\xed_\\xf5\\x03\\xff\\x00\\xee\\x9a\\xf3q\\x1cI\\x83\\x8a\\xfa\\xbc\\x97\\xbf\\x13\\xf9\\xc70\\xe2\\xce\\x16\\xca\\xb8\\x92\\xa6a\\x89\\xc7\\xb8\\xd7\\xe6\\x93\\x949e\\xeeJ\\xd6i;>\\xe7\\x88\\x7f\\xc1?\\x7fa\\x1d3\\xe2g\\xc5\\xab[\\xaf\\x1dh~ \\xd2t\\xbb\\xcd\"]C\\xed\\xf7\\x10Ig\\x0f\\xda?s\\xf7\\x1d\\xe3\\xf2\\xff\\x00\\x8d\\xeb\\xeb=c\\xfe\\t\\xcf\\xf0_\\xf6z\\xd4\\xae\\xbe&xgS\\xf1\\x07\\xfc%^\\x1d\\xf2\\xb5\\x8d\\'\\xcf\\xd7-\\xe6\\x87\\xed\\t\\x1f\\xc9\\xbe\\x1f/\\xe7\\xad\\x1f\\x8d\\x9f\\x1b\\xff\\x00\\xb3>\\x13\\xda\\xf8\\x1f\\xfb\\x0f\\xfeE\\xbf\\xb3i\\xfe\\x7f\\x9f\\xfe\\xbf\\xec\\xd1\\xec\\xf36\\x7f\\x07\\x99\\xb2\\xbe^\\xf8\\xcd\\xf1\\xdf\\xfb3\\xc1:\\xe7\\xfa/\\xfc\\xbb\\xcb\\xff\\x00-\\xff\\x00\\xfb]qK\\x0fZ\\xb5\\x0f\\xaeb\\xa7\\xcb\\xfd\\xce\\x92\\xff\\x00\\x87?\\x8ex\\xe7\\xe9\\x19\\xc4<Y\\x9b\\xd4\\xc0p\\xf5?\\xdc|2jn+\\xaar\\xb3J\\xfb\\xfc\\xcd\\xbf\\xda[\\xf6\\xa8\\xd4\\xfe%\\xf8\\x93M\\xba\\xd7.\\xbc?\\xf6\\xab;\\x7f\\xdc\\x7f\\xcb\\x1f\\xdd\\xf9\\x9f\\xf5\\xd2\\xbe\\x07\\xf8\\xa9\\xf1\\xc3S\\xf1\\xce\\x9bkku\\xf6_\\xf49\\xff\\x00\\xe5\\xde\\n'.\n",
      "Line no. 26, length : 226 and type : <class 'bytes'>.\n",
      "-----------------------------------------------------------------------------------------------------------------------------\n",
      "Data : b'>6|b\\xff\\x00\\x84\\xe7S\\xb6\\xba\\xfe\\xcd\\xfb/\\xfa?\\xfc\\xf7\\xaf\\\\\\xff\\x00\\x82O\\xff\\x00\\xc16-\\xff\\x00\\xe0\\xa7\\xdf\\x11\\xbc]\\xe1\\x95\\xf1\\xa3x3\\xfe\\x11\\x1d*+\\xff\\x00=t\\xa1\\xa8y\\xc1\\xe4\\xd9\\xb7a\\x96=\\x95\\xf4|;\\x90\\xfbz\\xb0\\xc4\\xe2~\\x0f\\xb3\\x1f\\xe5\\xdc\\xf9L.\\x07\\xea\\x8f\\xd8\\xe1\\xfd\\xfa\\xf3\\xf8\\xe5\\xd7M\\x8f\\xd6\\x9f\\xf8#\\xf7\\xfc\\x12\\xc7\\xe1g\\x81\\xbe\\x13|\\x19\\xf8\\xf5\\xa6\\x9f\\x14\\x0f\\x1ej\\xde\\x12\\xb4\\xd5\\xe6\\xfbE\\xf7\\xfa!\\x96\\xf6\\xc3\\xf7\\xc3\\xc9\\xf2\\xc7\\xca|\\xe7\\xc7\\xf9\\x15\\xfa5\\x9f\\xe7^c\\xfb,\\xfc\\x17o\\xd9\\xab\\xf6^\\xf8\\x7f\\xf0\\xf4\\xeaGUo\\x03\\xe8\\x16\\x1a\\x00\\xbf\\xf2<\\xaf\\xb6\\xfd\\x9a\\x04\\x80I\\xb3\\xe7\\xdb\\xbffq\\xef^\\x9d\\x8c\\x03_\\xa3a\\xf0\\xf4\\xe9C\\xd9\\xd3?Q\\xc3\\xc6\\xd4\\xd0\\xfa(\\xa2\\xba\\x8d\\x82\\x8a(\\xa0\\x02\\x8a(\\xa0\\x02\\x8a(\\xa0\\x00\\x9c\\n'.\n",
      "Line no. 27, length : 960 and type : <class 'bytes'>.\n",
      "-----------------------------------------------------------------------------------------------------------------------------\n",
      "Data : b'\\xf2\\xbf\\xda\\x07\\xe0\\x06\\x85\\xf1\\xbb\\xe1\\xdf\\x89m\\xae\\xbc9\\xe1\\x8b\\xcf\\x10jzE\\xce\\x9da}\\x7fe\\x1c\\xb2\\xc1$\\x91\\xba\\'\\xcec\\xde\\xa8\\x1d\\xbbW\\xa9\\x83\\xb8R\\x81\\x8a\\t\\x9c\\x14\\x95\\x99\\xfc\\xad\\xfe\\xde_\\xf0K\\xbf\\x89_\\xf0ME\\xf0y\\xf8\\x81u\\xe1k\\xbf\\xf8K\\xbe\\xd3\\xf6\\x0f\\xec\\x1b\\xdb\\x9b\\xbf\\xf8\\xf5\\xf2w\\xef\\xdf\\x14\\x7f\\xf3\\xd9+\\x93\\xf8\\x0f\\xf1\\xc3\\xfe\\x11\\x9f\\x12\\xfd\\xaa\\xea\\xebT\\xff\\x00\\x8f\\x0f\\xb3\\xff\\x00\\xa3\\xcf\\xfe\\xe5\\x7fK\\x1f\\xb5\\x9f\\xec\\x11\\xf0\\x9f\\xf6\\xe4M\\x0b\\xfe\\x16\\x8f\\x85?\\xe1(o\\x0e\\x9b\\x8f\\xec\\xa0\\xf7\\xd7v\\xbfg3y~p\\xfd\\xcc\\xb1\\xee\\xcf\\x93\\x1f\\xdf\\xcf\\xdc\\xaf\\xc0\\x9f\\x8c\\x7f\\xf0F\\xdf\\xda3H\\xf8\\xd9\\xe2\\xff\\x00\\xf8D~\\x0c\\xf8\\xa1|+\\xfd\\xbd}\\xfd\\x93\\xe4\\x1bya\\xfb\\x17\\xda\\x1f\\xec\\xdb7\\xcb\\xe6\\x7f\\xab\\xd9\\xfe\\xb2\\xbew<\\xc9\\xa1\\x8c\\x87$w>\\x1f\\x17\\x96O\\x05R\\xd4!\\xfb\\xb7\\xf36<\\x07\\xfbTZ\\xea~7\\xd2\\xedmu?\\x15}\\xab\\xed\\x1f\\xe7\\xfeZW\\xb2\\x7f\\xc2\\xfc\\xd4\\xff\\x00\\xe89\\xe2\\x0f\\xfb\\xff\\x00\\xff\\x00\\xdb+\\xe5O\\x11\\x7f\\xc1:?io\\xd9\\xf3\\xc3\\xb7\\x1e.\\xf17\\xc3_\\x14x\\x7f\\xc3\\xfe\\x1d\\x83\\xed\\xf7\\xd7\\xf3\\x9bo&\\xc68\\xff\\x00\\x8d\\xff\\x00{\\\\\\'\\xfc4n\\xbd\\xff\\x00A\\xef\\xfc\\x81\\x1f\\xff\\x00\\x1b\\xaf\\x83\\xc4d\\xb9\\x86\\r\\xfb:*/\\xd6\\xe7\\xcd\\xe6\\x1c/\\x80\\xc7\\xcb\\x99\\xf3R\\xf4|\\xa7\\xea\\x8f\\xc1/\\xda\\x9f\\xc1\\xe7R\\xd4\\xff\\x00\\xe1/\\xb5\\xbb\\xf1\\x15\\xaf\\xd9\\xe2\\xb8\\xb7\\xfe\\xd7\\xd2\\xad\\xe6\\xf2$\\xfe?\\xbf\\xf7+\\xd3\\x7f\\xe1\\xa8~\\x06\\xff\\x00\\xd0\\xa1i\\xff\\x00\\x84\\xe5\\xbd~O\\xfc\\x07\\xfd\\xa3.\\x7f\\xb4\\xb5?\\xedO\\x13\\x7f\\xcb\\xbc^G\\xee#\\xff\\x00\\xe3u\\xe9\\x9f\\xf0\\xd0\\xba_\\xfd\\x07m+\\xc2\\xc6\\xc3\\r\\x1a\\xf6\\xc6Q\\x9f?\\xf7>\\x13\\x9f\\x0b\\x85\\xe2|\\xb9}W\"\\xae\\xbd\\x87\\xf7\\x9c\\xaf\\xe7\\xaa?J\\xb4\\x7f\\x8e\\x1f\\x05\\xf5=7\\xfd\\x17\\xc1\\xfa_\\xd9\\x7f\\xec\\x07oVa\\xf8\\xb7\\xf0\\x87\\xfe\\x84\\xfd+\\xff\\x00\\t\\xcb\\x7f\\xfe7_\\x9a\\xd6\\x7f\\xb5\\r\\xae\\x99\\xfe\\x8bk\\xe2k_\\xfc\\x87\\xff\\x00\\xc6\\xea_\\xf8k\\x1f\\xfa\\x99\\xad\\x7f\\xef\\xc4\\x7f\\xfcj\\xb9?\\xe1/\\xfe}U\\xfc\\x07,w\\x88~\\xd3\\xf7u\\xe9}\\xf5?\\xc8\\xfd\\x17\\xd4\\xbe8|\\x17\\xf0\\xcf\\xfaW\\xfc!\\xfaW\\xfe\\x08\\xed\\xeb7\\xfe\\x1as\\xe0w\\xfd\\t\\xf6\\x9f\\xf8J\\xdb\\xd7\\xe7\\xae\\xa5\\xfbP\\xda\\xea\\x7f\\xf1\\xf5\\xe2k_\\xfc\\x87\\xff\\x00\\xc6\\xea\\xaf\\xfc/\\xdd7\\xfe\\x83\\x96\\xb5_\\xf0\\x97\\xff\\x00>\\xeb~\\x03\\xa7\\x8a\\xf1\\x03\\xd9\\xfb:\\x95\\xe1\\xf7\\xcf\\xfc\\x8f\\xae\\xbe<~\\xd6\\x1e\\x19\\xff\\x00\\x84\\x93\\xec\\xbe\\x19\\xb5\\xd5t\\x9d+\\xec\\x1f\\xf1\\xefac\\x1d\\x9c>c\\xefM\\xfb\\x12O\\xf6\\x12\\xbc\\x87\\xfe\\x17\\xe6\\xa7\\xff\\x00A\\xcf\\x10\\x7f\\xdf\\xff\\x00\\xfe\\xd9_\\'\\xfcl\\xfd\\xa3.\\xbf\\xe15\\xff\\x00\\x89g\\x89\\xbf\\xd1~\\xcf\\x15\\xbf\\xfa\\x88\\xff\\x00\\xd6y\\x8f\\xff\\x00L\\xeb\\x88\\xff\\x00\\x86\\x8b\\xd6\\xff\\x00\\xe8f\\xff\\x00\\xc8\\x11\\xff\\x00\\xf1\\xba\\xf6hR\\xc7*1\\xfa\\xad?s\\xec\\xf3G\\xde\\xf9\\xd8\\xe7\\xff\\x00RhU\\xab\\xf5\\xbc\\xce\\xbbu\\xe7\\xf1\\xf2\\xd4\\xd3\\x9b\\xcb\\xc8\\xf7_\\x12~\\xd5:g\\xfc$wV\\xb7Z\\x9f\\x8a\\xae\\xbf\\xd2%\\xff\\x00\\x96\\xff\\x00\\xf4\\xd3\\xfe\\xbaW\\x80\\xfcl\\xf8\\xb7\\xff\\x00\\t7\\x895?\\xb2\\xddj\\xbfe\\xbc\\xf2\\xbf\\xf4ZW\\xa9i\\xff\\x00\\xf0K\\x9f\\xda\\x9f\\xc6\\xfa]\\xa6\\xb9\\xa6|!\\xf1]\\xd6\\x9b\\xac\\x7f\\xc4\\xc2\\t\\xe06\\xdf\\xbf\\x8eo\\x9d\\x1f\\xfdg\\xf7\\x1e\\xbd\\x1b\\xf6?\\xff\\x00\\x823|r\\xf1\\x1f\\xed[\\xf0\\xfe\\xdb\\xe2\\xa7\\xc1\\x9f\\x14/\\x80n\\xb5h\\xff\\x00\\xe1#73\\xc7\\x14\"\\xcf\\xf8\\xf7\\xbc2\\x87O\\xfbg_K\\x93\\xf0\\x9b\\xa7_\\xeb\\x15\\xff\\x00S\\xea=\\x8b\\x7f\\xba\\xc2\\xd1p\\xfb7\\xb7\\xd9\\xd8\\xf3\\xff\\x00\\xd8K\\xfe\\t%\\xf1{\\xfe\\n'.\n",
      "Line no. 28, length : 613 and type : <class 'bytes'>.\n",
      "-----------------------------------------------------------------------------------------------------------------------------\n",
      "Data : b'3\\xf0\\xefZ\\xf1\\'\\xc3\\xddO\\xc1vz^\\x81\\xab\\xff\\x00c\\xcf\\xfd\\xbd{si/\\x99\\xf6xf\\xf9\\x11-\\xa4\\xf96M\\x1d\\x7fK\\xde\\t\\xf8O\\xe1\\xbf\\x87\\xd7w\\x17:/\\x87t=&\\xee\\xf0~\\xfek+(\\xed\\x8c\\xdf\\xef\\x14\\x19?\\x8dq?\\xb2o\\xecW\\xf0\\xd3\\xf6\"\\xf0~\\xa9\\xa1\\xfc-\\xf0\\xca\\xf8WI\\xd5\\xaf\\xbf\\xb4/-\\xc5\\xed\\xc5\\xdf\\x9dpcH\\xfc\\xcd\\xf3I!\\xfb\\x88\\x83\\xafj\\xf5\\xe1_\\xa0\\xd1\\xa2\\xa9\\xad\\x0f\\xab\\xcar\\x8axH_\\xa9%\\x14QZ\\x9e\\xc8QE\\x14\\x00QE\\x14\\x00QE\\x14\\x00QE\\x14\\x00QE\\x14\\x00PE\\x14P\\x07\\x99\\xfe\\xd2\\x9f\\x00\\xf4\\xcf\\xdao\\xe0\\'\\x89\\xfe\\x1f\\xeb\\xd7Z\\xa5\\x9e\\x93\\xe2\\xcb\\t4\\xfb\\xeb\\x9b\\x03\\x18\\xbb\\x8a7\\x1c\\x94\\xdf\\x1c\\x89\\xbb\\xfe\\x00k\\xf3\\xfa\\xf3\\xfe\\r[\\xf8\\x1b\\xa6ZOp>!|h\\xff\\x00S\\x83\\xfe\\x9f\\xa5\\x7f\\xf2\\xba\\xbfR{\\xf5\\xa7\\x12\\xadYV\\xa4\\xaanq\\xe2\\xb0\\x141\\x0b\\xf7\\x91?\\x8e\\xff\\x00\\x0exO\\xc4\\xda^\\x9d\\xf6\\x9f\\xf8Fu\\xff\\x00\\xf4\\xcb\\x7f\\xfa\\x05\\\\V\\xb7\\xf6\\x0f\\x8c?\\xe8Y\\xd5\\xbf\\xf0U%\\x7f^\\x9eB\\xff\\x00u[\\xdb\\x14\\xa2\\x04\\xef\\x1a\\x8f\\xc2\\xb8*d\\xf8Z\\xbf\\xc4\\x89\\xe0R\\xe1\\xfa\\xf4}\\xdaU\\xad\\xf2?\\x90\\xaf\\xec\\x1f\\x18\\x7f\\xd0\\xb3\\xab\\x7f\\xe0\\xaaJ?\\xb0|a\\xff\\x00B\\xce\\xad\\xff\\x00\\x82\\xa9+\\xfa\\xf9\\xf2\\x94\\xf6\\x1f\\x95\\x1eH\\xf6\\xfc\\xab\\x1f\\xec\\x1c\\x17\\xf2\\x1a\\xff\\x00a\\xe2\\x7f\\xe7\\xff\\x00\\xfeJ\\x8f\\xe4\\x1b\\xfb\\x07\\xc6\\x1f\\xf4,\\xea\\xdf\\xf8*\\x92\\x8f\\xec\\x1f\\x18\\x7f\\xd0\\xb3\\xab\\x7f\\xe0\\xaaJ\\xfe\\xbe6\\xff\\x00\\xd35\\xa3o\\xfd3Z\\x7f\\xd8x?\\xe54\\xfe\\xc4\\xc4\\x7f\\xcf\\xff\\x00\\xfc\\x95\\x1f\\xc8\\xaf\\xc3\\xcf\\x85\\xba\\xe7\\xc4\\xbf\\x8b^\\x19\\xd35=\\x0b_\\xb5\\xb4\\xd65{\\x1d>y\\xed\\xecd\\xfd\\xc4s\\\\\"<\\x89\\xbe?\\xee=~\\xd2\\x9f\\xf857\\xe0+(\\xdd\\xf1\\x03\\xe3Plr>\\xdf\\xa4\\xff\\x00\\xf2\\xba\\xbfP|\\x95S\\xb9U\\x7f*{\\x1c7\\x03\\xf1\\xafF\\x8e\\x16\\x9d=\\x83\\x0b\\xc3\\xd4)\\xb9N\\xbf\\xbe\\xe4s\\x7f\\x0c\\xbc\\x01o\\xf0\\xd3\\xe1\\xb6\\x83\\xe1\\x98\\'\\xb9\\xba\\xb5\\xf0\\xee\\x9fm\\xa7\\xc34\\xe73O\\x1c1\\xa2+\\xbe\\xdc|\\xdf%u\\x00b\\x91Ni\\xd5\\xd0}\\x12\\xd1Y\\x05\\x14Q@\\x05\\x14Q@\\x05\\x14Q@\\x05\\x14Q@\\x05\\x14Q@\\x05\\x14Q@\\x05\\x14Q@\\x05\\x14Q@\\x05\\x14Q@\\x07J(\\xa2\\x80\\n'.\n",
      "Line no. 29, length : 4 and type : <class 'bytes'>.\n",
      "-----------------------------------------------------------------------------------------------------------------------------\n",
      "Data : b'(\\xa2\\x80\\n'.\n",
      "Line no. 30, length : 4 and type : <class 'bytes'>.\n",
      "-----------------------------------------------------------------------------------------------------------------------------\n",
      "Data : b'(\\xa2\\x80\\n'.\n",
      "Line no. 31, length : 4 and type : <class 'bytes'>.\n",
      "-----------------------------------------------------------------------------------------------------------------------------\n",
      "Data : b'(\\xa2\\x80\\n'.\n",
      "Line no. 32, length : 4 and type : <class 'bytes'>.\n",
      "-----------------------------------------------------------------------------------------------------------------------------\n",
      "Data : b'(\\xa2\\x80\\n'.\n",
      "Line no. 33, length : 4 and type : <class 'bytes'>.\n",
      "-----------------------------------------------------------------------------------------------------------------------------\n",
      "Data : b'(\\xa2\\x80\\n'.\n",
      "Line no. 34, length : 4 and type : <class 'bytes'>.\n",
      "-----------------------------------------------------------------------------------------------------------------------------\n",
      "Data : b'(\\xa2\\x80\\n'.\n",
      "Line no. 35, length : 4 and type : <class 'bytes'>.\n",
      "-----------------------------------------------------------------------------------------------------------------------------\n",
      "Data : b'(\\xa2\\x80\\n'.\n",
      "Line no. 36, length : 884 and type : <class 'bytes'>.\n",
      "-----------------------------------------------------------------------------------------------------------------------------\n",
      "Data : b'(\\xa2\\x801\\xbf\\xe1.\\xd0\\xff\\x00\\xe8\\'\\xa5\\x7f\\xe0Dt\\x7f\\xc2]\\xa1\\xff\\x00\\xd0OJ\\xff\\x00\\xc0\\x88\\xeb\\xf8z\\xf0w\\xc3\\xd6\\xf1\\xc7\\x89\\xadt=3M\\xb5\\xbb\\xd5\\xb5o\\xf4{h3\\x1c>t\\x9f\\xc0\\x9b\\xdf\\xf8\\xe4\\xfb\\x9f\\xf5\\xd2\\xb5!\\xf8\\x03\\xe2\\t\\xbc\\x19\\xa5\\xeb\\x96\\xbe\\x10\\xd5\\xaft\\x1d`f\\x0b\\xfb}.I\\xa1\\xc3\\xce\\xf6\\xc8\\x8e\\xe9\\x1f\\xc8\\xef2lD\\xff\\x00X\\xfb\\xd3\\xfb\\xf1\\xd7w\\xf6x\\x1f\\xdb\\x87\\xfc%\\xba\\x1f\\xfd\\x04\\xf4\\xbf\\xfc\\x08\\x8f\\xfch\\xff\\x00\\x84\\xb7D\\xff\\x00\\xa0\\x96\\x97\\xff\\x00\\x81\\x11\\xff\\x00\\x8d\\x7f\\x14z\\x97\\xec\\x99\\xe3\\xdbQ\\xa7\\x9f\\xf8V\\xbe*?\\xda\\xd6\\xf2\\xdc\\xc3\\x04>\\x1f\\xb8\\x96hc\\x86_\"m\\xe8\\xb1\\xf9\\x8b\\xe5\\xc8S\\xef\\xff\\x00}?\\xbe\\x95\\xb5\\xa1\\xfe\\xc3>3\\xf1\\x17\\x82\\x9b\\xc4\\x9f\\xd8\\xba_\\x87\\xf4\\xab\\xeb\\xf8\\xb4\\x9b\\x1f\\xed\\xddB\\xdfC\\x9bV\\xb8\\xf2\\xa1\\x9fe\\xa47\\x1b\\x1eo\\xdd\\xcf\\x0b\\xfc\\x9f\\x7f\\xccM\\x9ee\\x1fP\\xfe\\xf8\\x1f\\xda\\x17\\xfc%\\xba\\x1f\\xfd\\x04\\xf4\\xbf\\xfc\\x08\\x8f\\xfch\\xff\\x00\\x84\\xb7C\\xff\\x00\\xa0\\x9e\\x99\\xff\\x00\\x81\\x11\\xff\\x00\\x8d\\x7f\\x16\\x1e1\\xfd\\x8a>\\'x\\x17\\xc47\\x1an\\xa5\\xf0\\xaf\\xc6\\xdfj]~_\\x0c\\x0f\\xb3\\xf8^\\xe2hou\\x14\\x91\\xd3\\xec\\xb0\\xcc\\x91\\xec\\x9a\\x7f\\x91\\xfeH\\xea}K\\xf6$\\xf1\\xe7\\x86\\x7f\\xb2\\xff\\x00\\xb7<\"\\xde\\x1e\\xfbe\\x84\\xba\\x87\\xda5x~\\xc7\\r\\x8e\\xd9/`6\\x97.\\xf1\\xfe\\xe6\\xeb}\\x85\\xd6\\xc8$\\xfd\\xe7\\xeek?\\xaa\\xff\\x00x\\x0f\\xed\\'\\xfe\\x12\\xdd\\x0f\\xfe\\x82\\x9a_\\xfe\\x04GG\\xfc%\\xda\\x1f\\xfd\\x04\\xf4\\xaf\\xfc\\x08\\x8e\\xbf\\x86\\x8f\\xec+_\\xf9\\xf5\\xb5\\xff\\x00\\xbf\\x14\\x7faZ\\xff\\x00\\xcf\\xad\\xaf\\xfd\\xf8\\xad?\\xb3\\xc0\\xfe\\xe5\\xff\\x00\\xe1.\\xd0\\xff\\x00\\xe8\\'\\xa5\\x7f\\xe0Dt\\x7f\\xc2]\\xa1\\xff\\x00\\xd0OJ\\xff\\x00\\xc0\\x88\\xeb\\xf8h\\xfe\\xc2\\xb5\\xff\\x00\\x9f[_\\xfb\\xf1G\\xf6\\x15\\xaf\\xfc\\xfa\\xda\\xff\\x00\\xdf\\x8a?\\xb3\\xc0\\xfe\\xe5\\xff\\x00\\xe1.\\xd0\\xff\\x00\\xe8\\'\\xa5\\x7f\\xe0Dt\\x7f\\xc2]\\xa1\\xff\\x00\\xd0OJ\\xff\\x00\\xc0\\x88\\xeb\\xf8h\\xfe\\xc2\\xb5\\xff\\x00\\x9f[_\\xfb\\xf1G\\xf6\\x15\\xaf\\xfc\\xfa\\xda\\xff\\x00\\xdf\\x8a?\\xb3\\xc0\\xfe\\xe5\\xff\\x00\\xe1.\\xd0\\xff\\x00\\xe8\\'\\xa5\\x7f\\xe0Dt\\x7f\\xc2]\\xa1\\xff\\x00\\xd0OJ\\xff\\x00\\xc0\\x88\\xeb\\xf8h\\xfe\\xc2\\xb5\\xff\\x00\\x9f[_\\xfb\\xf1G\\xf6\\x15\\xaf\\xfc\\xfa\\xda\\xff\\x00\\xdf\\x8a?\\xb3\\xc0\\xfe\\xe5\\xff\\x00\\xe1.\\xd0\\xff\\x00\\xe8\\'\\xa5\\x7f\\xe0Dt\\x7f\\xc2]\\xa1\\xff\\x00\\xd0OJ\\xff\\x00\\xc0\\x88\\xeb\\xf8h\\xfe\\xc2\\xb5\\xff\\x00\\x9f[_\\xfb\\xf1G\\xf6\\x15\\xaf\\xfc\\xfa\\xda\\xff\\x00\\xdf\\x8a?\\xb3\\xc0\\xfe\\xe5\\xff\\x00\\xe1.\\xd0\\xff\\x00\\xe8\\'\\xa5\\x7f\\xe0Dt\\x7f\\xc2]\\xa1\\xff\\x00\\xd0OJ\\xff\\x00\\xc0\\x88\\xeb\\xf8h\\xfe\\xc2\\xb5\\xff\\x00\\x9f[_\\xfb\\xf1G\\xf6\\x15\\xaf\\xfc\\xfa\\xda\\xff\\x00\\xdf\\x8a?\\xb3\\xc0\\xfe\\xe5\\xff\\x00\\xe1.\\xd0\\xff\\x00\\xe8\\'\\xa5\\x7f\\xe0Dt\\x7f\\xc2]\\xa1\\xff\\x00\\xd0OJ\\xff\\x00\\xc0\\x88\\xeb\\xf8h\\xfe\\xc2\\xb5\\xff\\x00\\x9f[_\\xfb\\xf1I\\xfd\\x93o\\xff\\x00>\\xb6\\xbf\\xf7\\xe2\\x8f\\xec\\xf0?\\xb9\\x8f\\xf8K\\xb4?\\xfa\\t\\xe9_\\xf8\\x11\\x1d\\x1f\\xf0\\x97h\\x7f\\xf4\\x13\\xd2\\xbf\\xf0\":\\xfe\\x1a?\\xb0\\xad\\x7f\\xe7\\xd6\\xd7\\xfe\\xfcT?\\xd9\\x9ao\\xfc\\xfbZ\\xff\\x00\\xdf\\x8a?\\xb3\\xc0\\xfe\\xe7\\x7f\\xe1.\\xd0\\xff\\x00\\xe8\\'\\xa5\\x7f\\xe0Dt\\x7f\\xc2]\\xa1\\xff\\x00\\xd0OJ\\xff\\x00\\xc0\\x88\\xeb\\xf8b\\xfe\\xcc\\xd3\\x7f\\xe7\\xda\\xd7\\xfe\\xfcT\\xdf\\xd8V\\xbf\\xf3\\xebk\\xff\\x00~)\\x7fg\\xb0?\\xb9\\x7f\\xf8Kt?\\xfa\\n'.\n",
      "Line no. 37, length : 555 and type : <class 'bytes'>.\n",
      "-----------------------------------------------------------------------------------------------------------------------------\n",
      "Data : b'i\\x7f\\xf8\\x11\\x1d\\x1f\\xf0\\x96\\xe8\\x7f\\xf4\\x14\\xd2\\xff\\x00\\xf0\":\\xfe\\x18\\xbf\\xb2t\\xef\\xf9\\xf5\\xb5\\xff\\x00\\xbf\\x14}\\x87K\\xff\\x00\\x9fk_\\xfc\\x87O\\xea2\\x03\\xfb\\x9d\\xff\\x00\\x84\\xb7C\\xff\\x00\\xa0\\xa6\\x97\\xff\\x00\\x81\\x11\\xd1_\\xc3G\\xf6\\x15\\xaf\\xfc\\xfa\\xda\\xff\\x00\\xdf\\x8a)\\x7fg\\xb0/h\\xba\\xed\\xc7\\x86uK]SM\\xba\\xfb.\\xa9\\xa4\\\\E\\xa8X\\xcf\\x9f\\xf5\\x17\\t&\\xf4\\x7f\\xfb\\xed+\\xdfn\\xbf\\xe0\\xa1Z\\xe7\\xf6\\x97\\xda\\xad|3\\xa0\\xe9?c\\xb8\\xff\\x00\\x89M\\xbd\\xbf\\xfa\\x9b\\x1d9\\xfe\\xcc\\x8fb\\xff\\x00\\xba\\xf3\\xdd6[\\'\\xcf\\x1c\\x90~\\xf1\\xdeO\\xde~\\xef\\xcb\\xf9\\xe2\\x8a\\xf5\\xcc\\xcf]\\xf0\\xcf\\xed?\\xa6\\xf8[\\xc3\\xban\\x87k\\xe0U\\xfe\\xc9\\xf0\\xed\\xf5\\xb5\\xfe\\x93\\xf6\\x8dI\\xfe\\xd9\\x04\\x96\\xd7\\x13][y\\xd3$Q\\xf9\\xc9\\x1c\\xf7\\x97\\xdebyq\\xf9\\x91\\xdd\\'\\xfa\\xbf\"9+\\xb1\\xf8k\\xff\\x00\\x05\\x0f\\xd7>\\x18\\xea~8\\xd4\\xf4\\xdd\\x0f:\\xff\\x00\\x8e|\\xcf\\xb4O6\\xbby\\xfd\\x93\\xf3\\xdb\\xa5\\xaf\\xef\\xb4\\xa4\\x91 \\xbcx\\xfew\\x81\\xe4\\xff\\x00W#\\xf9\\x9f\\xbc\\xf2\\xe3\\xaf\\x9ch\\xac\\xfd\\x9a\\x03\\xebi\\x7f\\xe0\\xad\\x1a\\xe2j\\x1a\\x95\\xd5\\xb7\\xc3?\\x0b\\xda\\xddx\\x8a\\x0b\\x9d\\x03U\\xff\\x00\\x89\\xae\\xa1\\x89\\xb4+\\x9b\\xcb\\xcb\\xd9\\xb4\\xe4\\t\"y/\\xe7_\\xdd\\x7f\\xa5G\\xfb\\xc8\\xe3\\xf2\\xff\\x00\\xe5\\xa7\\x99$\\x9eo\\xf1\\xe7\\xf6\\xc6\\xff\\x00\\x85\\xef\\xf0\\x0b\\xc0\\xff\\x00\\r[\\xc2:^\\x93\\xa1\\xfc0\\xfbQ\\xf0\\xa1\\x82\\xfaI\\xaf4\\xb8\\xee\\xaf.\\xa7\\xb9\\x81\\xdd\\xff\\x00\\xd7$\\x9eu\\xaf\\xfa\\xcf\\xf5\\x7f\\xd9\\xe9\\xe5\\xfd\\xf9#\\xaf\\x11\\xa2\\x97\\xd5\\xe2\\x01E\\x14V\\xa6<\\xc1E\\x14P\\x1c\\xc1E\\x14P\\x1c\\xc1E\\x14P\\x1c\\xc1E\\x14P\\x1c\\xc1E\\x14P\\x1c\\xcc+\\xd1>\\x06~\\xd0\\xba\\x97\\xc0\\xdf\\xedO\\xb3h~\\x1f\\xf1\\x05\\xae\\xaf=\\x8d\\xc4\\xf6\\xfa\\xbd\\x8f\\x9d\\x0f\\xeedw\\xf9\\x13\\xfe\\x9aF\\xf3\\xc1\\'\\xfd3\\x99\\xeb\\xce\\xe8\\xa0\\xd8\\xf7\\x0b?\\xdbK\\xfb3\\xfeiO\\xc2\\xbb\\xcf\\xf4\\x7f\\xf8\\xf7\\xb8\\xd0\\xe3\\xf2|\\xc7\\xf2w\\xbe\\xcf\\xfbb\\x9f\\xf6\\xd1\\xe7\\xff\\x00\\x9e\\x9e]Ky\\xfbs\\xddjzn\\x99k\\xa9\\xfc=\\xf8k\\xe2\\x1b\\xad\"\\xc2->\\x0b\\x8d_J\\xfbg\\x9f\\x1aG\\n'.\n",
      "Line no. 38, length : 251 and type : <class 'bytes'>.\n",
      "-----------------------------------------------------------------------------------------------------------------------------\n",
      "Data : b'|\\xff\\x00\\xbc\\xfb\\x9f\\xb9\\x8f\\xe4\\x8f\\xcb\\xf2\\xff\\x00\\xef\\xe7\\x99\\xe1TT\\xf2 =\\xa2\\xf3\\xf6\\xbe\\xfe\\xd3\\xf1\\x1f\\xf6\\x95\\xd7\\xc3\\xdf\\x00]]}\\x82\\xdbO\\xff\\x00H\\xb1\\xff\\x00\\x96v\\xdfq\\xff\\x00\\xdf\\xd9\\xf2H\\xff\\x00\\xf2\\xd3\\xc8\\x83\\xfey\\xfe\\xf2\\xec\\xbf\\xb7\\x05\\xd7\\xf6\\x95\\xad\\xd6\\x9b\\xf0\\xf7\\xe1\\xaf\\x87n\\xac\\xee,n \\xfe\\xc8\\xd2\\xbf\\xb3\\xbc\\x8f&H]\\xd1\\x1d?y\\xb2G\\x87\\xfeZy\\x9f~\\xbc*\\x8a9P\\x1fF^\\x7f\\xc1K|s\\xa9\\xf8\\x93M\\xd4\\xff\\x00\\xb3<?i\\xf6?+\\xcf\\xb7\\xb7\\xfbg\\x93?\\x93\\x1c\\xc8\\x88\\xff\\x00\\xbc\\xf36|\\xe8\\xfb?\\xe7\\xa2y\\x9f\\xeb*?\\x13\\xff\\x00\\xc1F|]\\xe2O\\x0e\\xeaZm\\xdf\\x86|\\x17yg\\xab\\xc1}\\x91<7\\x12\\xcd\\x0f\\xdbt\\xf9\\xb4\\xf7x_\\xcc\\xde\\x9f\\xbb\\x9a\\x7f\\xe3\\xff\\x00W\\xb2?\\xf9g_;\\xd1Z{\\x18\\x81\\xd2|c\\xf8\\x9du\\xf1\\x83\\xe2F\\xa5\\xe2mR\\xda\\xd6\\xd6\\xebV\\xf2\\xbc\\xebx?\\xd4\\xfc\\x96\\xe9\\n'.\n",
      "Line no. 39, length : 20 and type : <class 'bytes'>.\n",
      "-----------------------------------------------------------------------------------------------------------------------------\n",
      "Data : b'}\\xff\\x00\\xf6\\x13\\xff\\x00\\xdd\\xff\\x00\\xab\\xa2\\xb9\\xba*Ly\\x8f\\xff\\xd9'.\n"
     ]
    }
   ],
   "source": [
    "with open('watermelon32x32.jpg', 'rb+') as img_f:\n",
    "    data = img_f.readlines()\n",
    "    for x in range(len(data)):\n",
    "        print(f'Line no. {x}, length : {len(data[x])} and type : {type(data[x])}.')\n",
    "        print('-'*125)\n",
    "        print(f'Data : {data[x]}.')"
   ]
  },
  {
   "cell_type": "code",
   "execution_count": null,
   "id": "d4c03d00",
   "metadata": {},
   "outputs": [],
   "source": []
  },
  {
   "cell_type": "code",
   "execution_count": 24,
   "id": "3388e215",
   "metadata": {},
   "outputs": [
    {
     "name": "stdout",
     "output_type": "stream",
     "text": [
      "b'(\\xa2\\x80\\n'\n",
      "40\n",
      "b'\\x02\\x11\\xdc\\x18'\n"
     ]
    }
   ],
   "source": [
    "with open('watermelon32x32.jpg', 'rb+') as img_f, open('watermelon_rev2.png', 'wb+') as img_rev:\n",
    "    data = img_f.readlines()\n",
    "    print(data[16])\n",
    "    print(data[16][0])\n",
    "    data[16] = bytes([2,17,220,24])\n",
    "    print(data[16])\n",
    "    img_rev.writelines(data)\n",
    "#     rev_data = bytearray(data[8])\n",
    "#     for x in range(len(rev_data)):\n",
    "#         rev_data[x] = (rev_data[x] + 100)%255\n",
    "        \n",
    "#     data[16] = bytes(rev_data)\n",
    "#     #data[16]= bytes([2,17,252,42,83,49])\n",
    "#     img_rev.writelines(data)\n",
    "    "
   ]
  },
  {
   "cell_type": "code",
   "execution_count": 29,
   "id": "23ce35a4",
   "metadata": {},
   "outputs": [],
   "source": [
    "with open('watermelon32x32.jpg', 'rb+') as img_f, open('watermelon_rev2.png', 'wb+') as img_rev:\n",
    "    data = img_f.readlines()\n",
    "    data[16] = bytearray(data[16])\n",
    "    data[16][0] = 220\n",
    "    img_rev.writelines(data)\n"
   ]
  },
  {
   "cell_type": "code",
   "execution_count": 49,
   "id": "29ff9981",
   "metadata": {},
   "outputs": [],
   "source": [
    "with open('watermelon32x32.jpg', 'rb+') as img_f, open('watermelon_rev2.jpg', 'wb+') as img_rev2:\n",
    "    data = img_f.readlines()\n",
    "    data[19] = bytes([5])\n",
    "    img_rev2.writelines(data)"
   ]
  },
  {
   "cell_type": "code",
   "execution_count": 19,
   "id": "c6103591",
   "metadata": {},
   "outputs": [
    {
     "name": "stdout",
     "output_type": "stream",
     "text": [
      "[b'RIFF:`\\x10\\x00WAVEfmt \\x10\\x00\\x00\\x00\\x01\\x00\\x02\\x00@\\x1f\\x00\\x00\\x00}\\x00\\x00\\x04\\x00\\x10\\x00data4_\\x10\\x00\\x8e\\xff\\x17\\x00\\x0f\\xff\\x03\\x00\\xe3\\xfe\\xe3\\xff\\x93\\xff,\\x00\\xce\\xff\\x0c\\x00M\\x00\\x14\\x00\\xc5\\x00C\\x00e\\x00v\\x00x\\x00c\\x009\\x00\\xe3\\xff\\xb8\\x00\\xe7\\xff=\\x00\\xb4\\xff\\xbb\\xff\\x8b\\xff1\\x00\\xa8\\xff\\xe4\\xff\\xc0\\xff\\x85\\xff\\x14\\x00\\xc6\\xff\\xd8\\xff\\xde\\xff\\xed\\xff\\xe0\\xff!\\x00\\xe7\\xff\\x00\\x00\\x92\\xff\\x10\\x00\\x98\\xff\\xe0\\xff\\xd4\\xffC\\x00\\x92\\xff_\\x00\\xae\\xffb\\x00\\xb7\\xff-\\x00\\x91\\xff\\xd3\\xff\\xc1\\xff\\x05\\x00)\\x00\\xd4\\xff\\xa0\\x00\\xc3\\xff\\x80\\x00\\xd4\\xff\\xe2\\x00=\\x00\\x1e\\x00K\\x00\\xd6\\xff\\xd2\\xffQ\\x00\\xfe\\xffD\\x00\\xde\\xff\\xb2\\xff\\x80\\xff\\xf4\\xff\\xa4\\xff\\x92\\xff\\x94\\xff\\xc1\\xfe\\xae\\xff\\x80\\xff\\xe6\\xff\\xad\\xff\\x0b\\x00\\x15\\x00\\x82\\x00\\x16\\x00\\x96\\x00%\\x00c\\x00;\\x00\\xdf\\xff\\xd5\\xff\\xba\\xff\\xe6\\xff\\xf1\\xff\\xe6\\xff\\xd1\\xff\\xc2\\xff\\x90\\xff\\xeb\\xff\\xdf\\xff$\\xff\\xe7\\xff\\xa4\\xff\\xf4\\xffx\\x004\\x00\\xc1\\x00\\x12\\x008\\x01$\\x00S\\x00\\x97\\xff\\xad\\xff\\xa6\\xff\\r\\xff\\xb2\\xff\\xfb\\xfe\\xab\\xffW\\xff\\xf6\\xff\\x94\\xff\\xc3\\xff^\\x00\\xd1\\xff\\xa1\\x00|\\x00\\xca\\x00]\\x00j\\x01\\x1b\\x00\\xae\\x01/\\x00|\\x00I\\x00~\\xff\\xe4\\xff\\xea\\xfem\\xffR\\xfe\\xc2\\xffE\\xfe\\xf3\\xff\\xa6\\xfe\\xf6\\xffQ\\x009\\x00\\xf5\\x00w\\x00\\x17\\x01Z\\x00\\x1b\\x01Z\\x00\\xbb\\x008\\x00\\xf0\\x00\\x0b\\x00c\\x00\\x08\\x00\\x95\\xff\\xd8\\xff!\\xff\\xa1\\xff\\x17\\xff\\xb2\\xffJ\\xff\\xaa\\xff\\xff\\xfe\\xa1\\xff\\xb3\\xffE\\xff\\x17\\x00j\\xff\\xdb\\xff\\xfb\\xff\\xab\\x00\\xf7\\xff\\xec\\x00\"\\x00\\x05\\x015\\x00\\xea\\x00\\x91\\x00\\xfc\\x00\\xa7\\x009\\x00\\x13\\x005\\xff\\xd8\\xffj\\xfe\\xa1\\xff\\xc4\\xfdR\\xff\\xbc\\xfe\\xb0\\xff4\\xff\\x8b\\xff&\\x00\\'\\x00\\xbc\\x001\\x00u\\x01W\\x00?\\x02\\xdf\\x00\\x89\\x01j\\x00\\xb6\\x00G\\x00\\x06\\x00\\xa3\\xffO\\xff\\x8b\\xff\\xe2\\xfe\\xe8\\xff\\xb8\\xfe\\x9a\\xffx\\xff\\xb6\\xff&\\x00\\xc0\\xff&\\x00\\xdf\\xffJ\\x00-\\x00C\\x00\\xe3\\xffH\\x00\\xec\\xff\\xcf\\xff\\xc4\\xff\\xa9\\xff\\xcb\\xff9\\x00m\\x00a\\x00\\x91\\x00w\\xff\\x9d\\x00\\xb3\\xffd\\x00\\x98\\xff\\xf5\\xff\\x9e\\xff\\xbe\\xff,\\x00\\xa0\\xff\\xe0\\xffq\\xff5\\x00\\x95\\xffd\\x00\\xfc\\xff\\xca\\x00\\x9d\\x00\\x0b\\x01{\\x00\\xf1\\x00W\\x00\\xd4\\x00+\\x00\\x8f\\xff\\x97\\xff\\xfd\\xfe[\\xff\\x12\\xff\\xf2\\xfe\\xd7\\xfeQ\\xff\\xda\\xfe\\xcc\\xff\\xf7\\xfe\\xe9\\xffM\\x00b\\x00\\xeb\\xffU\\x00@\\x00\\xb1\\x00\\xeb\\x00\\xd8\\x00\\xce\\x00Y\\x00\\xe6\\x00W\\x00\\xe2\\xff\\xa6\\xff\\x93\\xff\\x08\\x00\\xe8\\xffK\\x00\\xd8\\xff\\xd1\\xff\\x82\\xff\\x12\\x000\\xff\\xc0\\xff\\xac\\xff\\xe2\\xff\\xef\\xff\\xba\\xff&\\x00\\xe3\\xff\\x83\\x00%\\x00E\\x00\\xd7\\xff>\\x00\\'\\x00\\xcc\\xffB\\x00>\\xff\\xf6\\xffo\\xff\\xae\\xff\"\\x00\\x17\\x00\\x9c\\xff0\\x00\\x8d\\x00\\x11\\x00\\xb3\\x00\\x12\\x00\\xe1\\x00\\x1f\\x00c\\x00\\xe3\\xff\\x99\\xff\\xe3\\xff\\xe7\\xff\\xe7\\xff\\xd7\\xfe\\x04\\x00\\x1d\\xff\\n']\n"
     ]
    }
   ],
   "source": [
    "with open('audio_sample.WAV', 'rb') as audio:\n",
    "    data = audio.readlines(200)\n",
    "    print(data)"
   ]
  },
  {
   "cell_type": "code",
   "execution_count": 20,
   "id": "41eaf367",
   "metadata": {},
   "outputs": [
    {
     "name": "stdout",
     "output_type": "stream",
     "text": [
      "[b'\\x00\\x00\\x00 ftypisom\\x00\\x00\\x02\\x00isomiso2avc1mp41\\x00\\x00\\x00\\x08free\\x00\\x10\\x0bKmdat\\x01\\x02\\x14\\x19\\x14&3\\x86\\x02\\xc1D\\x90\\x85O~\\x13&\\xfb\\xfb\\xf7r\\xa4\\xefW)*]\\x12\\xf4\\x94*\\xc2\\x7f\\x1a;,\\xef\\xec\\xb6\\xedyl\\xe1\\xd3\\xb3@\\x7f\\x8f\\xc2\\xd9*\\xe9f\\x7fU\\xc2\\xdd\\xd9\\r!\\x85\\xdfj\\n', b'\\xfe\\x92\\xf2A\\x83\\xfei\\x98Nk[\\xba\\xd6.A\\xd4\\xeb\\xce\\x8b\\xb8\\x0e\\xd5\\xdfj\\xfe\\xc9-\\xa6\\x1e\\x0f]\\x05j\\xce\\x8d\\xd4\\xd0\\xdb\\x85\\x01]\\xfcYJ\\xe1\\xbaF\\xd6{\\x9c\\xf8\\x0fp\\xc4L\\x7f\\xa0\\xc6tg=\\x15z\\xf3\\xa1.{\"X\\xad\\xc4%\\xf9\\xe8\\xab\\x9dp\\xa9\\xe2\\xaa\\xb44\\x11\\xbbH\\x9cZ\\xd7(B3#(\\xe9*\\xe4\\x11^t\\x9dEP\\x94Wi\\xe7\\x10!\\n']\n"
     ]
    }
   ],
   "source": [
    "with open('video_sample.mp4', 'rb') as video:\n",
    "    data = video.readlines(200)\n",
    "    print(data)"
   ]
  },
  {
   "cell_type": "code",
   "execution_count": null,
   "id": "04665df0",
   "metadata": {},
   "outputs": [],
   "source": [
    "170/210/45 - 170, 210,45\n",
    "\n",
    "B1D430"
   ]
  },
  {
   "cell_type": "code",
   "execution_count": null,
   "id": "58489909",
   "metadata": {},
   "outputs": [],
   "source": []
  },
  {
   "cell_type": "code",
   "execution_count": null,
   "id": "80b31d87",
   "metadata": {},
   "outputs": [],
   "source": [
    "display.Image('watermelon_rev.jpg', 'r+')"
   ]
  },
  {
   "cell_type": "code",
   "execution_count": null,
   "id": "72fad6bb",
   "metadata": {},
   "outputs": [],
   "source": [
    "display.Image('watermelon_rev2.jpg')"
   ]
  },
  {
   "cell_type": "code",
   "execution_count": null,
   "id": "f0e3ebf8",
   "metadata": {},
   "outputs": [],
   "source": [
    "with open('text_bin.bin', 'wb+') as f:\n",
    "    f.write(bytes('Python', encoding = 'utf-8'))"
   ]
  },
  {
   "cell_type": "code",
   "execution_count": null,
   "id": "c9b32fad",
   "metadata": {},
   "outputs": [],
   "source": [
    "with open('text_bin.bin', 'rb') as f:\n",
    "    data = bytearray(f.read())\n",
    "    for x in range(len(data)):\n",
    "        print('Python'[x],' ', data[x])\n",
    "    data[2] = 84\n",
    "\n",
    "print(data)\n",
    "\n",
    "print(ord('T'))"
   ]
  },
  {
   "cell_type": "code",
   "execution_count": null,
   "id": "030920d2",
   "metadata": {},
   "outputs": [],
   "source": [
    "with open('text_bin_rev.bin', 'wb+') as f:\n",
    "    f.write(data)"
   ]
  },
  {
   "cell_type": "code",
   "execution_count": null,
   "id": "f802c754",
   "metadata": {},
   "outputs": [],
   "source": [
    "with open('text_bin2.bin', 'wb+') as tf:\n",
    "    tf.write(bytearray('Core Python is almost complete', encoding = 'UTF8'))\n",
    "    "
   ]
  },
  {
   "cell_type": "code",
   "execution_count": null,
   "id": "6f92c207",
   "metadata": {},
   "outputs": [],
   "source": [
    "with open('text_bin2.bin', 'rb+') as tf:\n",
    "    for x in tf:\n",
    "        print(x)"
   ]
  },
  {
   "cell_type": "code",
   "execution_count": null,
   "id": "8636fc63",
   "metadata": {},
   "outputs": [],
   "source": [
    "with open('text_bin2.bin', 'rb') as tf:\n",
    "    data = tf.readlines()\n",
    "    print(len(data))\n",
    "    print(data)\n",
    "    print(type(data[0]))\n",
    "    print(data[0])\n",
    "    data.append(bytearray('O', encoding = 'UTF8'))\n",
    "    with open('text_bin2.bin', 'rb+') as tf2:\n",
    "        tf2.writelines(data)\n",
    "    print(data[1])"
   ]
  },
  {
   "cell_type": "code",
   "execution_count": null,
   "id": "5b2f2d95",
   "metadata": {},
   "outputs": [],
   "source": [
    "with open('text_bin3.bin', 'wb+') as tf:\n",
    "    str1 = 'Core Python is almost done\\n'\n",
    "    str2 = 'Cool\\n'\n",
    "    data = [str1, str2]\n",
    "    data2 = []\n",
    "    for x in data:\n",
    "        data2.append(bytes(x, encoding='UTF8'))\n",
    "    tf.writelines(data2)"
   ]
  },
  {
   "cell_type": "code",
   "execution_count": null,
   "id": "27786f40",
   "metadata": {},
   "outputs": [],
   "source": [
    "with open('text_bin3.bin', 'rb+') as tf:\n",
    "    for x in tf:\n",
    "        print(x)"
   ]
  },
  {
   "cell_type": "code",
   "execution_count": null,
   "id": "b0b90e07",
   "metadata": {},
   "outputs": [],
   "source": [
    "with open('text_bin2.bin', 'rb') as tf:\n",
    "    for x in tf:\n",
    "        print(x)"
   ]
  },
  {
   "cell_type": "code",
   "execution_count": null,
   "id": "345b9def",
   "metadata": {},
   "outputs": [],
   "source": [
    "with open('text_bin_rev.bin', 'a+') as f:\n",
    "    f.seek(0)\n",
    "    print(f.read())"
   ]
  },
  {
   "cell_type": "code",
   "execution_count": null,
   "id": "e15ba4e1",
   "metadata": {},
   "outputs": [],
   "source": [
    "with open('animal_jokes.txt', 'r') as f:\n",
    "    data = f.read(20)\n",
    "    with open('animal_jokes.txt', 'wb+') as f2:\n",
    "        for x in data:\n",
    "            f2.write(bytes(x), encoding = 'UTF8')"
   ]
  },
  {
   "cell_type": "code",
   "execution_count": null,
   "id": "3a101dd1",
   "metadata": {},
   "outputs": [],
   "source": [
    "f = open('my_file', 'w+b')\n",
    "byte_arr = [120, 3, 255, 0, 100]\n",
    "binary_format = bytearray(byte_arr)\n",
    "f.write(binary_format)\n",
    "f.close()"
   ]
  },
  {
   "cell_type": "code",
   "execution_count": null,
   "id": "38c76ef8",
   "metadata": {},
   "outputs": [],
   "source": [
    "f = open('my_file', 'r')"
   ]
  },
  {
   "cell_type": "code",
   "execution_count": null,
   "id": "64aad4ce",
   "metadata": {},
   "outputs": [],
   "source": [
    "data = [100,24,255]\n",
    "buffer = bytes(data)\n",
    "print(buffer)\n",
    "f = open(\"binary.txt\", \"bw\")\n",
    "f.write(buffer)\n",
    "f.close()"
   ]
  },
  {
   "cell_type": "code",
   "execution_count": null,
   "id": "ff6b521c",
   "metadata": {},
   "outputs": [],
   "source": [
    "f = open(\"binary.txt\", \"br\")\n",
    "binary = f.read()\n",
    "print(binary)\n",
    "data = list(binary)\n",
    "print(data)\n",
    "f.close()"
   ]
  },
  {
   "cell_type": "code",
   "execution_count": 30,
   "id": "367d5746",
   "metadata": {},
   "outputs": [
    {
     "data": {
      "image/jpeg": "[encoded data removed]",
      "text/plain": [
       "<IPython.core.display.Image object>"
      ]
     },
     "metadata": {},
     "output_type": "display_data"
    }
   ],
   "source": [
    "from IPython.display import Image, display\n",
    "display(Image(filename='watermelon32x32.jpg'))"
   ]
  },
  {
   "cell_type": "code",
   "execution_count": 36,
   "id": "83924375",
   "metadata": {},
   "outputs": [],
   "source": [
    "import IPython.display"
   ]
  },
  {
   "cell_type": "code",
   "execution_count": 37,
   "id": "d2c3e34b",
   "metadata": {},
   "outputs": [
    {
     "name": "stdout",
     "output_type": "stream",
     "text": [
      "['Audio', 'Code', 'DisplayHandle', 'DisplayObject', 'FileLink', 'FileLinks', 'GeoJSON', 'HTML', 'IFrame', 'Image', 'JSON', 'Javascript', 'Latex', 'Markdown', 'Math', 'Pretty', 'ProgressBar', 'SVG', 'ScribdDocument', 'TextDisplayObject', 'Video', 'VimeoVideo', 'YouTubeVideo', '__builtins__', '__cached__', '__doc__', '__file__', '__loader__', '__name__', '__package__', '__spec__', 'clear_output', 'display', 'display_html', 'display_javascript', 'display_jpeg', 'display_json', 'display_latex', 'display_markdown', 'display_pdf', 'display_png', 'display_pretty', 'display_svg', 'publish_display_data', 'set_matplotlib_close', 'set_matplotlib_formats', 'update_display']\n"
     ]
    }
   ],
   "source": [
    "print(dir(IPython.display))"
   ]
  },
  {
   "cell_type": "code",
   "execution_count": null,
   "id": "3e007342",
   "metadata": {},
   "outputs": [],
   "source": []
  },
  {
   "cell_type": "code",
   "execution_count": null,
   "id": "886287a1",
   "metadata": {},
   "outputs": [],
   "source": [
    "# Pickling / Unpickling. "
   ]
  },
  {
   "cell_type": "code",
   "execution_count": 38,
   "id": "f6a078e6",
   "metadata": {},
   "outputs": [],
   "source": [
    "# The Python pickle module allows one to save the state of Python objects in a file and re-builds them on load. Therefore,\n",
    "# user-built classes and objects can be preserved and transferred for re-initialising one the an interpreter is run again. \n",
    "\n",
    "\n",
    "ex_dict = {'a':20, 'b': 30, 'c':40}\n",
    "ex_dict4 = {1:100, 2:200}\n",
    "\n",
    "# To save the above dictionary to a file, one would have to convert everything including the curly braces to a string and\n",
    "# then while opening - re-convert the key, value pairs into a dictionary.\n",
    "\n",
    "# Pickle makes it simple."
   ]
  },
  {
   "cell_type": "code",
   "execution_count": null,
   "id": "cb7e0d0f",
   "metadata": {},
   "outputs": [],
   "source": [
    "library Mala\n",
    "\n",
    "class fantabulousmodelforML\n",
    "\n",
    "\n",
    "functions ouput model instance of - class fmfML"
   ]
  },
  {
   "cell_type": "code",
   "execution_count": null,
   "id": "e74572b2",
   "metadata": {},
   "outputs": [],
   "source": [
    "print(dir(pickle))"
   ]
  },
  {
   "cell_type": "code",
   "execution_count": 40,
   "id": "dc9aab60",
   "metadata": {},
   "outputs": [],
   "source": [
    "import pickle\n",
    "\n",
    "with open('dict_file.bin','wb') as f:\n",
    "    pickle.dump(ex_dict, f)\n",
    "    pickle.dump(ex_dict4,f)"
   ]
  },
  {
   "cell_type": "code",
   "execution_count": 41,
   "id": "e2695859",
   "metadata": {},
   "outputs": [],
   "source": [
    "with open('dict_file.bin','rb') as f:\n",
    "    ex_dict2 = pickle.load(f)\n",
    "    ex_dict5 = pickle.load(f)\n",
    "    "
   ]
  },
  {
   "cell_type": "code",
   "execution_count": null,
   "id": "ad3cb6b2",
   "metadata": {},
   "outputs": [],
   "source": [
    "print(dir(pickle))"
   ]
  },
  {
   "cell_type": "code",
   "execution_count": 42,
   "id": "a5cc31e0",
   "metadata": {},
   "outputs": [
    {
     "name": "stdout",
     "output_type": "stream",
     "text": [
      "{'a': 20, 'b': 30, 'c': 40}\n",
      "<class 'dict'>\n"
     ]
    }
   ],
   "source": [
    "print(ex_dict2)\n",
    "print(type(ex_dict2))"
   ]
  },
  {
   "cell_type": "code",
   "execution_count": null,
   "id": "8030af61",
   "metadata": {},
   "outputs": [],
   "source": [
    "print(type(ex_dict2))"
   ]
  },
  {
   "cell_type": "code",
   "execution_count": null,
   "id": "7fe69cbd",
   "metadata": {},
   "outputs": [],
   "source": [
    "ex_dict2['a']"
   ]
  },
  {
   "cell_type": "code",
   "execution_count": 43,
   "id": "34e3b8ba",
   "metadata": {},
   "outputs": [
    {
     "name": "stdout",
     "output_type": "stream",
     "text": [
      "{1: 100, 2: 200}\n"
     ]
    }
   ],
   "source": [
    "print(ex_dict5)"
   ]
  },
  {
   "cell_type": "code",
   "execution_count": 56,
   "id": "e51f3413",
   "metadata": {},
   "outputs": [
    {
     "name": "stdout",
     "output_type": "stream",
     "text": [
      "<class 'dict'>\n"
     ]
    }
   ],
   "source": [
    "print(type(ex_dict5))"
   ]
  },
  {
   "cell_type": "code",
   "execution_count": null,
   "id": "6e361b29",
   "metadata": {},
   "outputs": [],
   "source": [
    "# Heart disease prediction\n",
    "\n",
    "# Features - age, blood pressure, gender, weight, height, activity levels, smoker/non-smokers\n",
    "# 100,000 peoples data - \n",
    "\n",
    "# Model which will predict if a person has heart disease\n",
    "\n",
    "# UI - Please enter whatever details\n",
    "\n",
    "# Details - your model will make prediction - \n",
    "\n",
    "# Models - you will be using pre-existing libraries - will have their own classes and objects. \n",
    "\n",
    "# pickle - module to preserve the model object as well as its class properties."
   ]
  },
  {
   "cell_type": "code",
   "execution_count": null,
   "id": "987bb815",
   "metadata": {},
   "outputs": [],
   "source": [
    "# Data = Data engineering - cleaning, imputing, analysis, visualisation\n",
    "\n",
    "# Train your model - \n",
    "# Test your model - \n",
    "\n",
    "# Model (new data - give prediction)"
   ]
  },
  {
   "cell_type": "code",
   "execution_count": null,
   "id": "2c9cdd35",
   "metadata": {},
   "outputs": [],
   "source": [
    "# RegEx\n",
    "# Numpy\n",
    "# Pandas\n",
    "# Matplotlib\n",
    "# Seaborn"
   ]
  },
  {
   "cell_type": "code",
   "execution_count": null,
   "id": "98ded6c3",
   "metadata": {},
   "outputs": [],
   "source": []
  },
  {
   "cell_type": "code",
   "execution_count": null,
   "id": "ffce2f39",
   "metadata": {},
   "outputs": [],
   "source": [
    "# It can be used with lists, sets, dictionaries, JSON files and any user defined classes and objects."
   ]
  },
  {
   "cell_type": "code",
   "execution_count": null,
   "id": "c6e4b089",
   "metadata": {},
   "outputs": [],
   "source": [
    "# File Handling"
   ]
  },
  {
   "cell_type": "code",
   "execution_count": null,
   "id": "51bb3249",
   "metadata": {},
   "outputs": [],
   "source": [
    "# 1. We can handle two types of files in Python - text, binary\n",
    "# 2. The types of permissions - \n",
    "\n",
    "# r, rb - read only  - beginning of file - Error if file does not exist\n",
    "# r+, rb+ - read and write - beginning of file - Error if file does not exist\n",
    "# w, wb - write only - beginning of file - Creates a new file\n",
    "# w+, wb+ - write and read - beginning of file - Creates a new file\n",
    "# a, ab - append - end of file - Creates new file\n",
    "# a+, ab+ - append and read - end of file - Creates new file. \n",
    "# x - Exclusive creation - beginning of file\n",
    "# t - open as text - beginning of file.\n",
    "\n",
    "# file, buffer and file object - the roles\n",
    "\n",
    "# Two different ways to open the file. \n",
    "\n",
    "# f = open('filename', permissions)\n",
    "\n",
    "# code\n",
    "\n",
    "# f.close()\n",
    "\n",
    "# with open('filename', permissions) as f:\n",
    "#     indented code\n",
    "    \n",
    "# <no need to close>\n",
    "\n",
    "# f.closed<attribute> will return True or False whether file is open."
   ]
  },
  {
   "cell_type": "code",
   "execution_count": null,
   "id": "9cf53c0d",
   "metadata": {},
   "outputs": [],
   "source": [
    "with open('hotel_bookings_copy.csv', 'r') as hb:\n",
    "    file = hb.readlines()\n",
    "    for line in file:\n",
    "        print(line)"
   ]
  },
  {
   "cell_type": "code",
   "execution_count": null,
   "id": "ce741b6b",
   "metadata": {},
   "outputs": [],
   "source": [
    "with open('sample2.json') as js:\n",
    "    for line in js:\n",
    "        print(line)"
   ]
  },
  {
   "cell_type": "code",
   "execution_count": null,
   "id": "024e4354",
   "metadata": {},
   "outputs": [],
   "source": [
    "re - RegEx\n",
    "numpy - to deal with arrays\n",
    "pandas - to deal with tabular data\n",
    "matplotlib - graphs/visualisations\n",
    "seaborn - a library of wrappers on matplotlib to make the functionality of matplotlib easy and rich and intuitive"
   ]
  }
 ],
 "metadata": {
  "kernelspec": {
   "display_name": "Python 3 (ipykernel)",
   "language": "python",
   "name": "python3"
  },
  "language_info": {
   "codemirror_mode": {
    "name": "ipython",
    "version": 3
   },
   "file_extension": ".py",
   "mimetype": "text/x-python",
   "name": "python",
   "nbconvert_exporter": "python",
   "pygments_lexer": "ipython3",
   "version": "3.9.13"
  }
 },
 "nbformat": 4,
 "nbformat_minor": 5
}
