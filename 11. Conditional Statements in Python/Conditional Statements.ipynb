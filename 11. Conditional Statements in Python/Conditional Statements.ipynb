{
 "cells": [
  {
   "cell_type": "markdown",
   "id": "c580a96d",
   "metadata": {},
   "source": [
    "### startswith()\n",
    "\n",
    "- It returns True if the string starts with a specified character else it will return False"
   ]
  },
  {
   "cell_type": "code",
   "execution_count": 1,
   "id": "6c39c16c",
   "metadata": {},
   "outputs": [
    {
     "name": "stdout",
     "output_type": "stream",
     "text": [
      "True\n"
     ]
    }
   ],
   "source": [
    "a = 'This is a Python class'\n",
    "print(a.startswith('T'))"
   ]
  },
  {
   "cell_type": "code",
   "execution_count": 3,
   "id": "50f9a1a6",
   "metadata": {},
   "outputs": [
    {
     "name": "stdout",
     "output_type": "stream",
     "text": [
      "False\n"
     ]
    }
   ],
   "source": [
    "print(a.startswith('t'))"
   ]
  },
  {
   "cell_type": "code",
   "execution_count": 4,
   "id": "a580fdbb",
   "metadata": {},
   "outputs": [
    {
     "name": "stdout",
     "output_type": "stream",
     "text": [
      "True\n"
     ]
    }
   ],
   "source": [
    "a = '+91-8360984479'\n",
    "print(a.startswith('+91'))"
   ]
  },
  {
   "cell_type": "markdown",
   "id": "a5c48130",
   "metadata": {},
   "source": [
    "### endswith()\n",
    "\n",
    "- It return True if the string ends with a specified character else it will return False"
   ]
  },
  {
   "cell_type": "code",
   "execution_count": 5,
   "id": "9a8c2f28",
   "metadata": {},
   "outputs": [
    {
     "name": "stdout",
     "output_type": "stream",
     "text": [
      "True\n",
      "True\n",
      "False\n",
      "False\n",
      "True\n"
     ]
    }
   ],
   "source": [
    "my_str = 'Data Science'\n",
    "print(my_str.endswith('e'))\n",
    "print(my_str.endswith('ce'))\n",
    "print(my_str.endswith('ne'))\n",
    "print(my_str.endswith('de'))\n",
    "print(my_str.endswith('nce'))\n"
   ]
  },
  {
   "cell_type": "markdown",
   "id": "821e5f52",
   "metadata": {},
   "source": [
    "### Identifiers\n",
    "\n",
    "- An identifier is a name in Python\n",
    "- variable_name, function_name, class_name, file_name etc"
   ]
  },
  {
   "cell_type": "markdown",
   "id": "77e7f987",
   "metadata": {},
   "source": [
    "### Properties of a Valid identifier \n",
    "\n",
    "- An identifier may have alphanumeric characters (A-Z, a-z, 0-9) and also an underscore(_)\n",
    "- An identifier may begin with an alphabet or an underscore(_) but it should never begin with a number \n",
    "- An identifier may have numbers but after the alphabet or an underscore(_)\n",
    "- No special characters are allowed\n",
    "- It is case sensitive, i.e, a and A are treated differently"
   ]
  },
  {
   "cell_type": "markdown",
   "id": "1fbd978d",
   "metadata": {},
   "source": [
    "### isidentifier()\n",
    "\n",
    "- It will return a True if the string is a valid identifer else False"
   ]
  },
  {
   "cell_type": "code",
   "execution_count": 6,
   "id": "c2dd1847",
   "metadata": {},
   "outputs": [
    {
     "name": "stdout",
     "output_type": "stream",
     "text": [
      "True\n"
     ]
    }
   ],
   "source": [
    "name = 'mayank'\n",
    "print(name.isidentifier())"
   ]
  },
  {
   "cell_type": "code",
   "execution_count": 7,
   "id": "76da8675",
   "metadata": {},
   "outputs": [
    {
     "name": "stdout",
     "output_type": "stream",
     "text": [
      "False\n"
     ]
    }
   ],
   "source": [
    "name = '1_mayank'\n",
    "print(name.isidentifier())"
   ]
  },
  {
   "cell_type": "code",
   "execution_count": 8,
   "id": "0f1b34e0",
   "metadata": {},
   "outputs": [
    {
     "name": "stdout",
     "output_type": "stream",
     "text": [
      "True\n"
     ]
    }
   ],
   "source": [
    "name = '_mayank'\n",
    "print(name.isidentifier())"
   ]
  },
  {
   "cell_type": "code",
   "execution_count": 9,
   "id": "b82e2379",
   "metadata": {},
   "outputs": [
    {
     "name": "stdout",
     "output_type": "stream",
     "text": [
      "False\n"
     ]
    }
   ],
   "source": [
    "name = '_mayank@!#$%^&**'\n",
    "print(name.isidentifier())"
   ]
  },
  {
   "cell_type": "markdown",
   "id": "238fb6f6",
   "metadata": {},
   "source": [
    "### isprintable()\n",
    "\n",
    "- It returns True if the elements in the string can be printable else False"
   ]
  },
  {
   "cell_type": "code",
   "execution_count": 22,
   "id": "35b44364",
   "metadata": {
    "scrolled": true
   },
   "outputs": [
    {
     "name": "stdout",
     "output_type": "stream",
     "text": [
      "True\n"
     ]
    }
   ],
   "source": [
    "my_str = 'hello python'\n",
    "print(my_str.isprintable())"
   ]
  },
  {
   "cell_type": "code",
   "execution_count": 23,
   "id": "e203228c",
   "metadata": {},
   "outputs": [
    {
     "data": {
      "text/plain": [
       "'hello python'"
      ]
     },
     "execution_count": 23,
     "metadata": {},
     "output_type": "execute_result"
    }
   ],
   "source": [
    "my_str"
   ]
  },
  {
   "cell_type": "code",
   "execution_count": 24,
   "id": "45ad63ee",
   "metadata": {},
   "outputs": [
    {
     "name": "stdout",
     "output_type": "stream",
     "text": [
      "True\n"
     ]
    }
   ],
   "source": [
    "my_str = 'hello\\python'\n",
    "print(my_str.isprintable())"
   ]
  },
  {
   "cell_type": "code",
   "execution_count": 12,
   "id": "828afe5e",
   "metadata": {},
   "outputs": [
    {
     "data": {
      "text/plain": [
       "'hello\\\\python'"
      ]
     },
     "execution_count": 12,
     "metadata": {},
     "output_type": "execute_result"
    }
   ],
   "source": [
    "my_str"
   ]
  },
  {
   "cell_type": "code",
   "execution_count": 25,
   "id": "adb4cc02",
   "metadata": {},
   "outputs": [
    {
     "name": "stdout",
     "output_type": "stream",
     "text": [
      "False\n"
     ]
    }
   ],
   "source": [
    "my_str = 'hello\\npython'\n",
    "print(my_str.isprintable())"
   ]
  },
  {
   "cell_type": "code",
   "execution_count": 26,
   "id": "4111df5e",
   "metadata": {},
   "outputs": [
    {
     "data": {
      "text/plain": [
       "'hello\\npython'"
      ]
     },
     "execution_count": 26,
     "metadata": {},
     "output_type": "execute_result"
    }
   ],
   "source": [
    "my_str"
   ]
  },
  {
   "cell_type": "code",
   "execution_count": 19,
   "id": "abc42b3e",
   "metadata": {},
   "outputs": [
    {
     "name": "stdout",
     "output_type": "stream",
     "text": [
      "Hello\n",
      "Python\n"
     ]
    }
   ],
   "source": [
    "sub='Hello\\nPython'\n",
    "print(sub)\n",
    "# …..m getting output as Hello and python in next line\n"
   ]
  },
  {
   "cell_type": "code",
   "execution_count": 21,
   "id": "90471e4c",
   "metadata": {},
   "outputs": [
    {
     "name": "stdout",
     "output_type": "stream",
     "text": [
      "hello\tPython\n"
     ]
    }
   ],
   "source": [
    "sub = \"hello\\tPython\"\n",
    "print(sub)"
   ]
  },
  {
   "cell_type": "markdown",
   "id": "8822c868",
   "metadata": {},
   "source": [
    "#### replace()\n",
    "\n",
    "- It replaces the existing character or a sub-string with a new character or sub-string\n",
    "- it does not make any changes in the existing string\n",
    "- It will return me a new string\n",
    "\n",
    "Syntax:-\n",
    "\n",
    "        my_str.replace(sub_string, new_sub_string)"
   ]
  },
  {
   "cell_type": "code",
   "execution_count": 28,
   "id": "fb4879fe",
   "metadata": {},
   "outputs": [
    {
     "name": "stdout",
     "output_type": "stream",
     "text": [
      "Hello Java\n"
     ]
    }
   ],
   "source": [
    "my_str = 'Hello Python'\n",
    "b = my_str.replace('Python', 'Java')\n",
    "print(b)"
   ]
  },
  {
   "cell_type": "code",
   "execution_count": 29,
   "id": "ffa94348",
   "metadata": {},
   "outputs": [
    {
     "name": "stdout",
     "output_type": "stream",
     "text": [
      "2220007078000 2220007053744\n"
     ]
    }
   ],
   "source": [
    "print(id(my_str), id(b))"
   ]
  },
  {
   "cell_type": "code",
   "execution_count": 32,
   "id": "57bc5a1d",
   "metadata": {},
   "outputs": [
    {
     "name": "stdout",
     "output_type": "stream",
     "text": [
      "Hello SoSan\n"
     ]
    }
   ],
   "source": [
    "a = 'Hello RoRan'\n",
    "b = a.replace('R', 'S')\n",
    "print(b)"
   ]
  },
  {
   "cell_type": "code",
   "execution_count": 31,
   "id": "c3288fe0",
   "metadata": {},
   "outputs": [
    {
     "name": "stdout",
     "output_type": "stream",
     "text": [
      "2220007058736 2220007049200\n"
     ]
    }
   ],
   "source": [
    "print(id(a), id(b))"
   ]
  },
  {
   "cell_type": "markdown",
   "id": "bb2e6915",
   "metadata": {},
   "source": [
    "### isnumeric(), isdigit() and isdecimal()\n",
    "\n",
    "#### isnumeric()\n",
    "    \n",
    "    - it returns True if all the characters in the string are digits or superscript, subscript, vulgar fractions, or Roman numbers else False\n",
    " \n",
    "##### isdigit()\n",
    "    \n",
    "    - it returns a True for digits, superscript and subscript else False\n",
    "    \n",
    "#### is decimal()\n",
    "    \n",
    "    - It returns True for digits only else False"
   ]
  },
  {
   "cell_type": "code",
   "execution_count": 33,
   "id": "10a37786",
   "metadata": {},
   "outputs": [
    {
     "name": "stdout",
     "output_type": "stream",
     "text": [
      "True\n",
      "True\n",
      "True\n"
     ]
    }
   ],
   "source": [
    "a = '10'\n",
    "print(a.isnumeric())\n",
    "print(a.isdigit())\n",
    "print(a.isdecimal())"
   ]
  },
  {
   "cell_type": "code",
   "execution_count": 34,
   "id": "361713cc",
   "metadata": {},
   "outputs": [],
   "source": [
    "a = '2\\u00b3'"
   ]
  },
  {
   "cell_type": "code",
   "execution_count": 35,
   "id": "8b9af6d7",
   "metadata": {},
   "outputs": [
    {
     "data": {
      "text/plain": [
       "'2³'"
      ]
     },
     "execution_count": 35,
     "metadata": {},
     "output_type": "execute_result"
    }
   ],
   "source": [
    "a"
   ]
  },
  {
   "cell_type": "code",
   "execution_count": 36,
   "id": "c69d1137",
   "metadata": {},
   "outputs": [
    {
     "name": "stdout",
     "output_type": "stream",
     "text": [
      "True\n",
      "True\n",
      "False\n"
     ]
    }
   ],
   "source": [
    "print(a.isnumeric())\n",
    "print(a.isdigit())\n",
    "print(a.isdecimal())"
   ]
  },
  {
   "cell_type": "code",
   "execution_count": 37,
   "id": "2997d996",
   "metadata": {},
   "outputs": [],
   "source": [
    "a = '12345\\u0394'"
   ]
  },
  {
   "cell_type": "code",
   "execution_count": 38,
   "id": "81ee8707",
   "metadata": {},
   "outputs": [
    {
     "data": {
      "text/plain": [
       "'12345Δ'"
      ]
     },
     "execution_count": 38,
     "metadata": {},
     "output_type": "execute_result"
    }
   ],
   "source": [
    "a"
   ]
  },
  {
   "cell_type": "code",
   "execution_count": 39,
   "id": "3ddcf033",
   "metadata": {},
   "outputs": [
    {
     "name": "stdout",
     "output_type": "stream",
     "text": [
      "False\n",
      "False\n",
      "False\n"
     ]
    }
   ],
   "source": [
    "print(a.isnumeric())\n",
    "print(a.isdigit())\n",
    "print(a.isdecimal())"
   ]
  },
  {
   "cell_type": "code",
   "execution_count": 40,
   "id": "e2cf9548",
   "metadata": {},
   "outputs": [
    {
     "data": {
      "text/plain": [
       "'5½'"
      ]
     },
     "execution_count": 40,
     "metadata": {},
     "output_type": "execute_result"
    }
   ],
   "source": [
    "a = '5'+chr(189)\n",
    "a"
   ]
  },
  {
   "cell_type": "code",
   "execution_count": 41,
   "id": "75303436",
   "metadata": {},
   "outputs": [
    {
     "name": "stdout",
     "output_type": "stream",
     "text": [
      "True\n",
      "False\n",
      "False\n"
     ]
    }
   ],
   "source": [
    "print(a.isnumeric())\n",
    "print(a.isdigit())\n",
    "print(a.isdecimal())"
   ]
  },
  {
   "cell_type": "markdown",
   "id": "943ac116",
   "metadata": {},
   "source": [
    "### Conditional Statements or Control Statement \n",
    "\n",
    "- They are used when we want a piece of code to be executed if a particular condition is True or false\n",
    "- if Key will be used to write a conditional statement"
   ]
  },
  {
   "cell_type": "markdown",
   "id": "f84e37cd",
   "metadata": {},
   "source": [
    "### Different Types of Conditional Statement \n",
    "\n",
    "- if statement\n",
    "- if......else statement \n",
    "- multiple if statement\n",
    "- if.....elif.....else statement\n",
    "- Nested if Statement"
   ]
  },
  {
   "cell_type": "markdown",
   "id": "e0e9ca02",
   "metadata": {},
   "source": [
    "### Identation\n",
    "\n",
    "Suite ----> A Group of statement written together in python \n",
    "\n",
    "- Identation refer to the space that are used in the beginning of a statement , the statement with same identation will belong to the same suite.\n",
    "\n",
    "- By default, python uses 4 spaces but it can be increased or decreased by the programmer "
   ]
  },
  {
   "cell_type": "markdown",
   "id": "758773b0",
   "metadata": {},
   "source": [
    "### 1. If Statement \n",
    "\n",
    "Syntax :- \n",
    "\n",
    "    if condition:\n",
    "        code_1\n",
    "        code-2\n",
    "        \n",
    "- when the if condition is True then the code inside the if block will get executed"
   ]
  },
  {
   "cell_type": "code",
   "execution_count": 45,
   "id": "00ac3fcf",
   "metadata": {},
   "outputs": [
    {
     "name": "stdout",
     "output_type": "stream",
     "text": [
      "Enter eithe yes or no: yes\n",
      "Yes\n",
      "this is what i said\n",
      "your response is good\n"
     ]
    }
   ],
   "source": [
    "my_str = input('Enter eithe yes or no: ')\n",
    "\n",
    "if my_str == 'yes':\n",
    "    print('Yes')\n",
    "    print('this is what i said')\n",
    "print('your response is good')"
   ]
  },
  {
   "cell_type": "code",
   "execution_count": 46,
   "id": "5b20c1fa",
   "metadata": {},
   "outputs": [
    {
     "name": "stdout",
     "output_type": "stream",
     "text": [
      "Enter eithe yes or no: no\n",
      "your response is good\n"
     ]
    }
   ],
   "source": [
    "my_str = input('Enter eithe yes or no: ')\n",
    "\n",
    "if my_str == 'yes':\n",
    "    print('Yes')\n",
    "    print('this is what i said')\n",
    "print('your response is good')"
   ]
  },
  {
   "cell_type": "code",
   "execution_count": 48,
   "id": "258dd4c7",
   "metadata": {},
   "outputs": [
    {
     "name": "stdout",
     "output_type": "stream",
     "text": [
      "Enter a number: 24\n",
      "24 is an even number\n",
      "Good Day!\n"
     ]
    }
   ],
   "source": [
    "a = int(input(\"Enter a number: \"))\n",
    "\n",
    "if a%2 == 0: # to check the whether the number is even or not\n",
    "    print(f'{a} is an even number')\n",
    "\n",
    "print('Good Day!')"
   ]
  },
  {
   "cell_type": "code",
   "execution_count": 50,
   "id": "faa14090",
   "metadata": {},
   "outputs": [
    {
     "name": "stdout",
     "output_type": "stream",
     "text": [
      "Enter a number: 17\n",
      "Good Day!\n"
     ]
    }
   ],
   "source": [
    "a = int(input(\"Enter a number: \"))\n",
    "\n",
    "if a%2== 0: # to check the whether the number is even or not\n",
    "    print(f'{a} is an even number')\n",
    "\n",
    "print('Good Day!')"
   ]
  },
  {
   "cell_type": "markdown",
   "id": "4752c5a7",
   "metadata": {},
   "source": [
    "### 2. If.....else Statement "
   ]
  },
  {
   "cell_type": "markdown",
   "id": "54a07371",
   "metadata": {},
   "source": [
    "Syntax: - \n",
    "    \n",
    "    if condition:\n",
    "        \n",
    "        code_1\n",
    "        \n",
    "    else:\n",
    "        \n",
    "        code_2\n",
    "        \n",
    "        \n",
    "- When if condition is True then the code inside the if statement will be executed else the code inside the else statement will be executed"
   ]
  },
  {
   "cell_type": "code",
   "execution_count": 52,
   "id": "fd6ef9f0",
   "metadata": {},
   "outputs": [
    {
     "name": "stdout",
     "output_type": "stream",
     "text": [
      "Enter a number: 18\n",
      "18 is an Even number\n"
     ]
    }
   ],
   "source": [
    "a = int(input('Enter a number: '))\n",
    "\n",
    "if a % 2 == 0:\n",
    "    print(f'{a} is an Even number')\n",
    "else:\n",
    "    print(f'{a} is an Odd number')"
   ]
  },
  {
   "cell_type": "code",
   "execution_count": 53,
   "id": "0829b8a3",
   "metadata": {},
   "outputs": [
    {
     "name": "stdout",
     "output_type": "stream",
     "text": [
      "Enter a number: 99\n",
      "99 is an Odd number\n"
     ]
    }
   ],
   "source": [
    "a = int(input('Enter a number: '))\n",
    "\n",
    "if a % 2 == 0:\n",
    "    print(f'{a} is an Even number')\n",
    "else:\n",
    "    print(f'{a} is an Odd number')"
   ]
  },
  {
   "cell_type": "markdown",
   "id": "5703da06",
   "metadata": {},
   "source": [
    "### 3. Multiple if Statement "
   ]
  },
  {
   "cell_type": "code",
   "execution_count": null,
   "id": "ead55a5a",
   "metadata": {},
   "outputs": [],
   "source": [
    "Syntax: -\n",
    "    \n",
    "    if condition_1:\n",
    "        \n",
    "        code_1\n",
    "        \n",
    "    if condition_2:\n",
    "        \n",
    "        code_2\n",
    "        \n",
    "    if condition_3:\n",
    "        \n",
    "        code_3\n",
    "    .\n",
    "    .\n",
    "    .\n",
    "    .\n",
    "    .\n",
    "    if condition:\n",
    "        \n",
    "        code_n "
   ]
  },
  {
   "cell_type": "code",
   "execution_count": 56,
   "id": "2bb0e14b",
   "metadata": {},
   "outputs": [
    {
     "name": "stdout",
     "output_type": "stream",
     "text": [
      "Enter a number: 5\n"
     ]
    }
   ],
   "source": [
    "a = int(input('Enter a number: '))\n",
    "\n",
    "if a == 0:\n",
    "    print('zero')\n",
    "\n",
    "if a == 1:\n",
    "    print('one')\n",
    "    \n",
    "if a == 2:\n",
    "    print('Two')\n",
    "\n",
    "# else:\n",
    "#     print('Not a valid input')"
   ]
  },
  {
   "cell_type": "code",
   "execution_count": 81,
   "id": "41e19ba4",
   "metadata": {},
   "outputs": [
    {
     "name": "stdout",
     "output_type": "stream",
     "text": [
      "1700756920.9191809\n",
      "Enter a number: 7\n",
      "1700756921.9714146\n",
      "1.0522336959838867\n"
     ]
    }
   ],
   "source": [
    "# write a program to tell me that a given number is divisble by 2, 3 or 5\n",
    "\n",
    "import time \n",
    "\n",
    "ss = time.time()\n",
    "print(ss)\n",
    "a = int(input('Enter a number: '))\n",
    "\n",
    "if a % 2 == 0 and a % 3 !=0 and a % 5 !=0: \n",
    "    print(f'{a} is divisble by 2')\n",
    "\n",
    "if a%2 != 0 and a%3 ==0 and a%5!=0:\n",
    "    print(f'{a} is divisble by 3')\n",
    "    \n",
    "if a%2 != 0 and a%3 !=0 and a%5==0:\n",
    "    print(f'{a} is divisble by 5')\n",
    "    \n",
    "if a % 2 == 0 and a % 3 ==0 and a % 5 !=0:\n",
    "    print(f'{a} is divisble by 2 and 3')\n",
    "\n",
    "if a%2 == 0 and a%3 !=0 and a%5==0:\n",
    "    print(f'{a} is divisble by 2 and 5')\n",
    "    \n",
    "if a%2 != 0 and a%3 ==0 and a%5==0:\n",
    "    print(f'{a} is divisble by 3 and 5')\n",
    "    \n",
    "if a % 2 == 0 and a % 3 ==0 and a % 5 ==0:\n",
    "    print(f'{a} is divisble by 2, 3 and 5')\n",
    "    \n",
    "end = time.time()\n",
    "print(end)\n",
    "\n",
    "delta = end-ss\n",
    "print(delta)\n"
   ]
  },
  {
   "cell_type": "code",
   "execution_count": 90,
   "id": "aef69714",
   "metadata": {},
   "outputs": [
    {
     "name": "stdout",
     "output_type": "stream",
     "text": [
      "1700757173.967481\n",
      "Enter a number: 14\n",
      "14 is divisble by 2\n",
      "14 is divisibke by 7\n",
      "0.777320384979248\n"
     ]
    }
   ],
   "source": [
    "import time \n",
    "\n",
    "ss = time.time()\n",
    "print(ss)\n",
    "a = int(input('Enter a number: '))\n",
    "\n",
    "if a % 2 == 0 : \n",
    "    print(f'{a} is divisble by 2')\n",
    "\n",
    "if a%3 ==0 :\n",
    "    print(f'{a} is divisble by 3')\n",
    "    \n",
    "if  a%5==0:\n",
    "    print(f'{a} is divisble by 5')\n",
    "\n",
    "if a%7 ==0 :\n",
    "    print(f'{a} is divisibke by 7')\n",
    "\n",
    "end = time.time()\n",
    "\n",
    "    \n",
    "delta = end-ss\n",
    "print(delta)"
   ]
  },
  {
   "cell_type": "code",
   "execution_count": null,
   "id": "cb80d0f5",
   "metadata": {},
   "outputs": [],
   "source": []
  },
  {
   "cell_type": "code",
   "execution_count": null,
   "id": "273946ce",
   "metadata": {},
   "outputs": [],
   "source": []
  }
 ],
 "metadata": {
  "kernelspec": {
   "display_name": "Python 3 (ipykernel)",
   "language": "python",
   "name": "python3"
  },
  "language_info": {
   "codemirror_mode": {
    "name": "ipython",
    "version": 3
   },
   "file_extension": ".py",
   "mimetype": "text/x-python",
   "name": "python",
   "nbconvert_exporter": "python",
   "pygments_lexer": "ipython3",
   "version": "3.11.5"
  }
 },
 "nbformat": 4,
 "nbformat_minor": 5
}
