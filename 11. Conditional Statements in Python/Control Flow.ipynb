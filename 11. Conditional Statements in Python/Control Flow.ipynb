{
 "cells": [
  {
   "cell_type": "markdown",
   "id": "4b95194f",
   "metadata": {},
   "source": [
    "### Control Flow statements\n",
    "\n",
    "Three types of control flow:\n",
    "\n",
    "1. Sequential - Line by line execution of code takes place, so the order we want our program to flow must be in correct \n",
    "sequence.\n",
    "2. Conditional - If/elif/else statements to guide your program based on conditions\n",
    "3. Loops"
   ]
  },
  {
   "cell_type": "code",
   "execution_count": null,
   "id": "3f4f972c",
   "metadata": {},
   "outputs": [],
   "source": [
    "a = 10\n",
    "b = 20\n",
    "c = a+b\n",
    "\n",
    "print(c)"
   ]
  },
  {
   "cell_type": "code",
   "execution_count": null,
   "id": "2de37674",
   "metadata": {},
   "outputs": [],
   "source": [
    "principal = 100\n",
    "interest = 0.1\n",
    "tenure = 1\n",
    "\n",
    "tenure = 5\n",
    "\n",
    "for x in range(tenure):\n",
    "    principal = principal * (1+interest)\n",
    "    print(x, principal)\n",
    "    \n",
    "tenure = 5\n",
    "    \n",
    "print(principal)"
   ]
  },
  {
   "cell_type": "code",
   "execution_count": null,
   "id": "2a33ff66",
   "metadata": {},
   "outputs": [],
   "source": [
    "0 - 1 - 2 - 3 -4\n",
    "x = 0\n",
    "x = 1\n",
    "x = 2\n",
    "x = 3\n",
    "x = 4"
   ]
  },
  {
   "cell_type": "code",
   "execution_count": null,
   "id": "5392019a",
   "metadata": {},
   "outputs": [],
   "source": [
    "# If / elif / Else statements\n",
    "\n",
    "# If statement can exist on its own - without elif, without else.\n",
    "# There can only be one if for an if/elif/else suite.\n",
    "\n",
    "# Elifs - we can have as many as we want in an if/elif/else - suite.\n",
    "# Elifs - Must have an if to exist. They can exist with or without an else.\n",
    "\n",
    "\n",
    "# Else does not take a condition. It is a catch all - if all the ifs and elifs fail - then else is executed (since it has\n",
    "# no condition - it WILL execute if the ifs/elifs have failed.)\n",
    "# One if/else suite can only have ONE else block which is catch-all. \n",
    "# Else CANNOT exist without an if. It CAN exist with or without an elif.\n",
    "\n",
    "# In an if/elif/else suite - if is evaluated first, then all the elifs in sequence and finally (if present) the else is \n",
    "# executed if all ifs and elifs fail. Between if/elifs/else ONLY ONE BLOCK OF CODE WILL BE EXECUTED. As soon as one of \n",
    "# the blocks is deemed true - the rest are NOT even evaluated.\n",
    "\n",
    "# The sequence of writing the statements is:\n",
    "\n",
    "# if statement - ALWAYS first part of the suite\n",
    "# elifs (if any, multiple) - always after if but before else\n",
    "# else - always last part of the suite.\n",
    "\n",
    "\n",
    "a = 10\n",
    "\n",
    "if a > 5:\n",
    "    print('Namaste')"
   ]
  },
  {
   "cell_type": "code",
   "execution_count": null,
   "id": "98962093",
   "metadata": {},
   "outputs": [],
   "source": [
    "a = 4\n",
    "\n",
    "if a > 5:\n",
    "    print('Namaste')\n",
    "else:\n",
    "    print('Hi there')"
   ]
  },
  {
   "cell_type": "code",
   "execution_count": null,
   "id": "7c05f620",
   "metadata": {},
   "outputs": [],
   "source": [
    "a = 4\n",
    "\n",
    "if a > 5:\n",
    "    print('Namaste')\n",
    "else:\n",
    "    print('Hi there')\n",
    "else:\n",
    "    print('Bonjour')"
   ]
  },
  {
   "cell_type": "code",
   "execution_count": null,
   "id": "2899bd4d",
   "metadata": {},
   "outputs": [],
   "source": [
    "# If can exist without else and elifs. \n",
    "# You can only have ONE if for a if/elif/else suite (Remember elifs and else are optional)"
   ]
  },
  {
   "cell_type": "code",
   "execution_count": null,
   "id": "42e14d6c",
   "metadata": {},
   "outputs": [],
   "source": [
    "a = 10\n",
    "\n",
    "if a > 5:\n",
    "    print('Namaste')\n",
    "if a == 10:\n",
    "    print('Hi There')\n",
    "if a < 5:\n",
    "    print('Bonjour')\n",
    "else:\n",
    "    print('Hola')"
   ]
  },
  {
   "cell_type": "code",
   "execution_count": null,
   "id": "b504c54c",
   "metadata": {},
   "outputs": [],
   "source": [
    "a = 4\n",
    "\n",
    "if a > 5:\n",
    "    print('Namaste')\n",
    "elif a == 5:\n",
    "    print('Hi There')\n",
    "elif a < 0:\n",
    "    print('Bonjour')\n",
    "else:\n",
    "    print('Hola')"
   ]
  },
  {
   "cell_type": "code",
   "execution_count": null,
   "id": "773d9814",
   "metadata": {},
   "outputs": [],
   "source": [
    "a = 16\n",
    "\n",
    "if a > 20:\n",
    "    print('Namaste')\n",
    "elif a > 15:\n",
    "    print('Hi There')\n",
    "elif a > 10:\n",
    "    print('Bonjour')\n",
    "else:\n",
    "    print('Hola')"
   ]
  },
  {
   "cell_type": "code",
   "execution_count": null,
   "id": "5dec1dd6",
   "metadata": {},
   "outputs": [],
   "source": [
    "a = 5\n",
    "\n",
    "if a > 20:\n",
    "    print('Namaste')\n",
    "elif a > 15:\n",
    "    print('Hi There')\n",
    "elif a > 10:\n",
    "    print('Bonjour')\n"
   ]
  },
  {
   "cell_type": "code",
   "execution_count": null,
   "id": "73ae5a8b",
   "metadata": {},
   "outputs": [],
   "source": [
    "a = 10\n",
    "\n",
    "elif a > 15:\n",
    "    print('Hi There')\n",
    "elif a > 10:\n",
    "    print('Bonjour')\n"
   ]
  },
  {
   "cell_type": "code",
   "execution_count": null,
   "id": "1f93e0b1",
   "metadata": {},
   "outputs": [],
   "source": [
    "# Nested if/elifs/else"
   ]
  },
  {
   "cell_type": "code",
   "execution_count": null,
   "id": "0b91acd8",
   "metadata": {},
   "outputs": [],
   "source": [
    "a = 5\n",
    "\n",
    "if a > 5:\n",
    "    print('Greater than 5')\n",
    "    if a > 10:\n",
    "        print('Also greater than 10')\n",
    "    else:\n",
    "        print('Not greater than 10')\n",
    "else:\n",
    "    print('Not greater than 5')"
   ]
  },
  {
   "cell_type": "code",
   "execution_count": null,
   "id": "3abf0bb7",
   "metadata": {},
   "outputs": [],
   "source": [
    "if:\n",
    "    if\n",
    "      if\n",
    "        if\n",
    "        else\n",
    "      elif\n",
    "      elif\n",
    "      else\n",
    "    else\n",
    "else"
   ]
  },
  {
   "cell_type": "code",
   "execution_count": null,
   "id": "57e63511",
   "metadata": {},
   "outputs": [],
   "source": [
    "# Sequential - Execution happens line by line - so we need to ensure the flow is running as expected line by line.\n",
    "# Conditional flow - If/elif/else conditions to make the program flow based on conditions provided. "
   ]
  },
  {
   "cell_type": "markdown",
   "id": "9fb263a1",
   "metadata": {},
   "source": [
    "### Loops"
   ]
  },
  {
   "cell_type": "code",
   "execution_count": null,
   "id": "ba7f0ea5",
   "metadata": {},
   "outputs": [],
   "source": [
    "# To keep doing some piece of code repeatedly till asked to stop."
   ]
  },
  {
   "cell_type": "code",
   "execution_count": null,
   "id": "0e0f95a3",
   "metadata": {},
   "outputs": [],
   "source": [
    "# For loop - which runs through each element of an iterable and stops when it reaches the end of the iterable\n",
    "# While loop - which we set the condition of when the loop should stop. "
   ]
  },
  {
   "cell_type": "code",
   "execution_count": null,
   "id": "18ec324f",
   "metadata": {},
   "outputs": [],
   "source": [
    "# For loop - grocery list <iterable> - run through grocery list till all items purchased. \n",
    "\n",
    "# while - money is not finished - continue buying. "
   ]
  },
  {
   "cell_type": "code",
   "execution_count": null,
   "id": "0cd8cdbb",
   "metadata": {},
   "outputs": [],
   "source": [
    "# while loop"
   ]
  },
  {
   "cell_type": "code",
   "execution_count": null,
   "id": "1c6d60de",
   "metadata": {},
   "outputs": [],
   "source": [
    "num = 1\n",
    "\n",
    "while num <= 5:\n",
    "    print('Hi', f'Value of num is : {num}')\n",
    "    num += 1 # Update parameter"
   ]
  },
  {
   "cell_type": "code",
   "execution_count": null,
   "id": "8fb12942",
   "metadata": {},
   "outputs": [],
   "source": [
    "num = 1\n",
    "\n",
    "while num <= 5:\n",
    "    print('Hi')\n",
    "    "
   ]
  },
  {
   "cell_type": "code",
   "execution_count": null,
   "id": "4611764a",
   "metadata": {},
   "outputs": [],
   "source": [
    "str1 = 'Betty had some butter but the butter was bitter so Betty bought some better butter to make the bitter butter better'\n",
    "\n",
    "lst1 = str1.split()\n",
    "\n",
    "print(lst1)"
   ]
  },
  {
   "cell_type": "code",
   "execution_count": null,
   "id": "2983cfa8",
   "metadata": {},
   "outputs": [],
   "source": [
    "# pop\n",
    "\n",
    "lst2 = list(range(0,100,10))\n",
    "\n",
    "print(lst2)"
   ]
  },
  {
   "cell_type": "code",
   "execution_count": null,
   "id": "b5a63a06",
   "metadata": {},
   "outputs": [],
   "source": [
    "lst2.pop()\n",
    "\n",
    "print(lst2)"
   ]
  },
  {
   "cell_type": "code",
   "execution_count": null,
   "id": "8a647884",
   "metadata": {},
   "outputs": [],
   "source": [
    "lst2.pop()\n",
    "\n",
    "print(lst2)"
   ]
  },
  {
   "cell_type": "code",
   "execution_count": null,
   "id": "95f51683",
   "metadata": {},
   "outputs": [],
   "source": [
    "print(lst1)"
   ]
  },
  {
   "cell_type": "code",
   "execution_count": null,
   "id": "10ec3e53",
   "metadata": {},
   "outputs": [],
   "source": [
    "while 'bitter' in lst1:      # ----> Header\n",
    "    lst1.pop()\n",
    "\n",
    "print(lst1)"
   ]
  },
  {
   "cell_type": "code",
   "execution_count": null,
   "id": "4a8f65e7",
   "metadata": {},
   "outputs": [],
   "source": [
    "# For loops - run through an iterable\n",
    "\n",
    "# syntax is:\n",
    "\n",
    "# for <temp_var> in iterable:      -----> Header\n",
    "    # code to be repeated -  Indented block of code, can be infinite number of lines. \n",
    "    \n",
    "    \n",
    "# Once indentation is broken - we are out of the loop"
   ]
  },
  {
   "cell_type": "code",
   "execution_count": null,
   "id": "13e1c855",
   "metadata": {},
   "outputs": [],
   "source": [
    "x = 100\n",
    "\n",
    "print(x)\n",
    "\n",
    "for x in range(5):\n",
    "    print('Hi')\n",
    "print('Hello')\n",
    "\n",
    "\n",
    "print(f'New value of x is : {x}')"
   ]
  },
  {
   "cell_type": "code",
   "execution_count": null,
   "id": "15a95a58",
   "metadata": {},
   "outputs": [],
   "source": [
    "y = 100\n",
    "\n",
    "for x in range(5):\n",
    "    print('Ebi')\n",
    "    \n",
    "print(f'Ebis salary is {1000 * y} dollars')"
   ]
  },
  {
   "cell_type": "code",
   "execution_count": null,
   "id": "a80dbbb1",
   "metadata": {},
   "outputs": [],
   "source": [
    "for x in range(1,21):\n",
    "    print('*'*x)"
   ]
  },
  {
   "cell_type": "code",
   "execution_count": null,
   "id": "cb5c53aa",
   "metadata": {},
   "outputs": [],
   "source": [
    "count = 1\n",
    "\n",
    "while count <= 20:\n",
    "    print('*'*count)\n",
    "    count += 1"
   ]
  },
  {
   "cell_type": "code",
   "execution_count": null,
   "id": "41c70f78",
   "metadata": {},
   "outputs": [],
   "source": [
    "x = 15\n",
    "count = 0\n",
    "\n",
    "while x in range(1,21):\n",
    "    print('*'*x)\n",
    "    count += 1\n",
    "    if count >= 5:\n",
    "        break"
   ]
  },
  {
   "cell_type": "code",
   "execution_count": null,
   "id": "35d06838",
   "metadata": {},
   "outputs": [],
   "source": [
    "# while <condition>:\n",
    "#   code"
   ]
  },
  {
   "cell_type": "code",
   "execution_count": null,
   "id": "48006f0f",
   "metadata": {},
   "outputs": [],
   "source": [
    "while True:\n",
    "    print('Hi')\n",
    "    for x in range(5):\n",
    "        print(x)\n",
    "    if x > 3:\n",
    "        break"
   ]
  },
  {
   "cell_type": "code",
   "execution_count": null,
   "id": "874e1ac2",
   "metadata": {},
   "outputs": [],
   "source": [
    "# append - on lists. \n",
    "\n",
    "# fibonnaci : \n",
    "\n",
    "# 0,1,1,2,3,5,8,13,21,34 \n",
    "\n",
    "\n",
    "# Write a program to find the largest fibonnaci number which is less than 100. \n",
    "\n",
    "# Hints : Use a while loop, start with a list containing only 0,1\n",
    "\n",
    "# "
   ]
  },
  {
   "cell_type": "code",
   "execution_count": null,
   "id": "f490ef9f",
   "metadata": {},
   "outputs": [],
   "source": [
    "# Sandeep\n",
    "\n",
    "lst = [0,1]\n",
    "index = 1\n",
    "while True:\n",
    "    lst.append(lst[index]+lst[index-1])\n",
    "    index+=1\n",
    "    if(lst[index])>100:\n",
    "        print(lst[index-1])\n",
    "        break\n",
    "\n",
    "print(lst)"
   ]
  },
  {
   "cell_type": "code",
   "execution_count": null,
   "id": "f65d26c6",
   "metadata": {},
   "outputs": [],
   "source": [
    "# Sachin\n",
    "\n",
    "n1, n2 = 0, 1\n",
    "count = 0\n",
    "maxFibo = 100\n",
    "nth=0\n",
    "while n1 < maxFibo:\n",
    "   print(n1)\n",
    "   nth = n1 + n2\n",
    "   n1 = n2\n",
    "   n2 = nth\n",
    "\n",
    "\n"
   ]
  },
  {
   "cell_type": "code",
   "execution_count": null,
   "id": "4c828948",
   "metadata": {},
   "outputs": [],
   "source": [
    "# Swapnil\n",
    "\n",
    "ans = [0,1]\n",
    "while ans[-1]<100:\n",
    "    ans.append(ans[-1]+ans[-2])\n",
    "if ans[-1]>100:\n",
    "    ans.pop()\n",
    "print(ans[-1])\n"
   ]
  },
  {
   "cell_type": "code",
   "execution_count": null,
   "id": "a392f8bd",
   "metadata": {},
   "outputs": [],
   "source": [
    "# Karthikeyan\n",
    "\n",
    "X=0 \n",
    "Y=1\n",
    "Sum=0\n",
    "while Sum<100:\n",
    "     Sum=X+Y\n",
    "     X=Y\n",
    "     Y=Sum\n",
    "\n",
    "print(Sum)\n"
   ]
  },
  {
   "cell_type": "code",
   "execution_count": null,
   "id": "e73ec61e",
   "metadata": {},
   "outputs": [],
   "source": [
    "# Taniya\n",
    "\n",
    "for x in range(0,100):\n",
    "    list1=list(x) \n",
    "    count=0 \n",
    "    while count<=100:  \n",
    "        for elem in range(0, len(list1)): \n",
    "            count=list1[elem] +list1[elem+1]\n",
    "            print (count)\n"
   ]
  },
  {
   "cell_type": "code",
   "execution_count": 3,
   "id": "bb0ecbc5",
   "metadata": {},
   "outputs": [
    {
     "name": "stdout",
     "output_type": "stream",
     "text": [
      "1\n",
      "3\n",
      "5\n",
      "7\n",
      "9\n",
      "11\n",
      "13\n",
      "15\n",
      "17\n",
      "19\n",
      "21\n",
      "23\n",
      "25\n",
      "27\n",
      "29\n",
      "31\n",
      "33\n",
      "35\n",
      "37\n",
      "39\n",
      "41\n",
      "43\n",
      "45\n",
      "47\n",
      "49\n",
      "51\n",
      "53\n",
      "55\n",
      "57\n",
      "59\n",
      "61\n",
      "63\n",
      "65\n",
      "67\n",
      "69\n",
      "71\n",
      "73\n",
      "75\n",
      "77\n",
      "79\n",
      "81\n",
      "83\n",
      "85\n",
      "87\n",
      "89\n",
      "91\n",
      "93\n",
      "95\n",
      "97\n",
      "99\n",
      "101\n",
      "103\n",
      "105\n",
      "107\n",
      "109\n",
      "111\n",
      "113\n",
      "115\n",
      "117\n",
      "119\n",
      "121\n",
      "123\n",
      "125\n",
      "127\n",
      "129\n",
      "131\n",
      "133\n",
      "135\n",
      "137\n",
      "139\n",
      "141\n",
      "143\n",
      "145\n",
      "147\n",
      "149\n",
      "151\n",
      "153\n",
      "155\n",
      "157\n",
      "159\n",
      "161\n",
      "163\n",
      "165\n",
      "167\n",
      "169\n",
      "171\n",
      "173\n",
      "175\n",
      "177\n",
      "179\n",
      "181\n",
      "183\n",
      "185\n",
      "187\n",
      "189\n",
      "191\n",
      "193\n",
      "195\n",
      "197\n"
     ]
    },
    {
     "ename": "IndexError",
     "evalue": "list index out of range",
     "output_type": "error",
     "traceback": [
      "\u001b[1;31m---------------------------------------------------------------------------\u001b[0m",
      "\u001b[1;31mIndexError\u001b[0m                                Traceback (most recent call last)",
      "\u001b[1;32m~\\AppData\\Local\\Temp\\ipykernel_5304\\1776928005.py\u001b[0m in \u001b[0;36m<module>\u001b[1;34m\u001b[0m\n\u001b[0;32m      3\u001b[0m \u001b[1;32mwhile\u001b[0m \u001b[0mcount\u001b[0m\u001b[1;33m<=\u001b[0m\u001b[1;36m100\u001b[0m\u001b[1;33m:\u001b[0m\u001b[1;33m\u001b[0m\u001b[1;33m\u001b[0m\u001b[0m\n\u001b[0;32m      4\u001b[0m     \u001b[1;32mfor\u001b[0m \u001b[0melem\u001b[0m \u001b[1;32min\u001b[0m \u001b[0mrange\u001b[0m\u001b[1;33m(\u001b[0m\u001b[1;36m0\u001b[0m\u001b[1;33m,\u001b[0m \u001b[0mlen\u001b[0m\u001b[1;33m(\u001b[0m\u001b[0mlist1\u001b[0m\u001b[1;33m)\u001b[0m\u001b[1;33m)\u001b[0m\u001b[1;33m:\u001b[0m\u001b[1;33m\u001b[0m\u001b[1;33m\u001b[0m\u001b[0m\n\u001b[1;32m----> 5\u001b[1;33m             \u001b[0mcount\u001b[0m\u001b[1;33m=\u001b[0m\u001b[0mlist1\u001b[0m\u001b[1;33m[\u001b[0m\u001b[0melem\u001b[0m\u001b[1;33m]\u001b[0m \u001b[1;33m+\u001b[0m\u001b[0mlist1\u001b[0m\u001b[1;33m[\u001b[0m\u001b[0melem\u001b[0m\u001b[1;33m+\u001b[0m\u001b[1;36m1\u001b[0m\u001b[1;33m]\u001b[0m\u001b[1;33m\u001b[0m\u001b[1;33m\u001b[0m\u001b[0m\n\u001b[0m\u001b[0;32m      6\u001b[0m             \u001b[0mprint\u001b[0m \u001b[1;33m(\u001b[0m\u001b[0mcount\u001b[0m\u001b[1;33m)\u001b[0m\u001b[1;33m\u001b[0m\u001b[1;33m\u001b[0m\u001b[0m\n",
      "\u001b[1;31mIndexError\u001b[0m: list index out of range"
     ]
    }
   ],
   "source": [
    "list1 = list(range(0,100))\n",
    "count=0 \n",
    "while count<=100:  \n",
    "    for elem in range(0, len(list1)): \n",
    "            count=list1[elem] +list1[elem+1]\n",
    "            print (count)\n"
   ]
  },
  {
   "cell_type": "code",
   "execution_count": 4,
   "id": "82ec0029",
   "metadata": {},
   "outputs": [
    {
     "name": "stdout",
     "output_type": "stream",
     "text": [
      "[0, 1, 1]\n",
      "[0, 1, 1, 2]\n",
      "[0, 1, 1, 2, 3]\n",
      "[0, 1, 1, 2, 3, 5]\n",
      "[0, 1, 1, 2, 3, 5, 8]\n",
      "[0, 1, 1, 2, 3, 5, 8, 13]\n",
      "[0, 1, 1, 2, 3, 5, 8, 13, 21]\n",
      "[0, 1, 1, 2, 3, 5, 8, 13, 21, 34]\n",
      "[0, 1, 1, 2, 3, 5, 8, 13, 21, 34, 55]\n",
      "[0, 1, 1, 2, 3, 5, 8, 13, 21, 34, 55, 89]\n",
      "[0, 1, 1, 2, 3, 5, 8, 13, 21, 34, 55, 89]\n"
     ]
    }
   ],
   "source": [
    "lst1 = [0,1]\n",
    "\n",
    "while (lst1[-2]+lst1[-1]) < 100:\n",
    "    lst1.append(lst1[-2]+lst1[-1])\n",
    "    print(lst1)\n",
    "\n",
    "print(lst1)"
   ]
  },
  {
   "cell_type": "code",
   "execution_count": null,
   "id": "d76f4e15",
   "metadata": {},
   "outputs": [],
   "source": [
    "# Nested loops\n",
    "\n",
    "# for in for\n",
    "# while in while\n",
    "# for in while\n",
    "# while in for"
   ]
  },
  {
   "cell_type": "code",
   "execution_count": 6,
   "id": "21dd2ccc",
   "metadata": {},
   "outputs": [
    {
     "name": "stdout",
     "output_type": "stream",
     "text": [
      "Value of x is 0 and value of y is 0.\n",
      "Value of x is 0 and value of y is 1.\n",
      "Value of x is 0 and value of y is 2.\n",
      "Value of x is 0 and value of y is 3.\n",
      "Value of x is 0 and value of y is 4.\n",
      "---------------Y loop ended here-----------------\n",
      "Value of x is 1 and value of y is 0.\n",
      "Value of x is 1 and value of y is 1.\n",
      "Value of x is 1 and value of y is 2.\n",
      "Value of x is 1 and value of y is 3.\n",
      "Value of x is 1 and value of y is 4.\n",
      "---------------Y loop ended here-----------------\n",
      "Value of x is 2 and value of y is 0.\n",
      "Value of x is 2 and value of y is 1.\n",
      "Value of x is 2 and value of y is 2.\n",
      "Value of x is 2 and value of y is 3.\n",
      "Value of x is 2 and value of y is 4.\n",
      "---------------Y loop ended here-----------------\n"
     ]
    }
   ],
   "source": [
    "for x in range(3):\n",
    "    for y in range(5):\n",
    "        print(f'Value of x is {x} and value of y is {y}.')\n",
    "    print('---------------Y loop ended here-----------------')"
   ]
  },
  {
   "cell_type": "code",
   "execution_count": 8,
   "id": "41e0d2c5",
   "metadata": {},
   "outputs": [
    {
     "name": "stdout",
     "output_type": "stream",
     "text": [
      "1, 2, 3, 4, 5, 6, 7, 8, 9, 10, \n",
      "2, 4, 6, 8, 10, 12, 14, 16, 18, 20, \n",
      "3, 6, 9, 12, 15, 18, 21, 24, 27, 30, \n",
      "4, 8, 12, 16, 20, 24, 28, 32, 36, 40, \n",
      "5, 10, 15, 20, 25, 30, 35, 40, 45, 50, \n"
     ]
    }
   ],
   "source": [
    "num = 1\n",
    "#table = 1\n",
    "while num <= 5:\n",
    "    table = 1\n",
    "    while table <= 10:\n",
    "        print(num*table, end = ', ')\n",
    "        table +=1\n",
    "    print()\n",
    "    num += 1"
   ]
  },
  {
   "cell_type": "code",
   "execution_count": 9,
   "id": "08e55543",
   "metadata": {},
   "outputs": [
    {
     "name": "stdout",
     "output_type": "stream",
     "text": [
      "Python Python Python Python Python \n",
      "is is is is is is is is is is \n",
      "easy easy easy easy easy easy \n",
      "peasy peasy peasy peasy peasy \n"
     ]
    }
   ],
   "source": [
    "lst1 = ['Python', 'is', 'easy', 'peasy']\n",
    "\n",
    "for elem in lst1:\n",
    "    empty_str = ''\n",
    "    while len(empty_str) < 30:\n",
    "        empty_str += elem + ' '\n",
    "        print(empty_str)\n",
    "    print(empty_str)\n"
   ]
  },
  {
   "cell_type": "code",
   "execution_count": null,
   "id": "a8d73b7d",
   "metadata": {},
   "outputs": [],
   "source": []
  },
  {
   "cell_type": "code",
   "execution_count": 12,
   "id": "4b745dd4",
   "metadata": {},
   "outputs": [
    {
     "name": "stdout",
     "output_type": "stream",
     "text": [
      "Python is easy peasy Python is easy peasy Python is easy peasy Python is easy peasy Python is easy peasy Python is easy peasy \n",
      "126\n"
     ]
    }
   ],
   "source": [
    "lst1 = ['Python', 'is', 'easy', 'peasy']\n",
    "\n",
    "empty_str = ''\n",
    "while len(empty_str) < 120:\n",
    "    for elem in lst1:\n",
    "        empty_str += elem + ' '\n",
    "\n",
    "print(empty_str)\n",
    "print(len(empty_str))"
   ]
  },
  {
   "cell_type": "code",
   "execution_count": 15,
   "id": "c0602459",
   "metadata": {},
   "outputs": [
    {
     "name": "stdout",
     "output_type": "stream",
     "text": [
      "0\n",
      "0 squared is 0.\n",
      "This statement is after break\n",
      "1\n",
      "1 squared is 1.\n",
      "This statement is after break\n",
      "2\n",
      "2 squared is 4.\n",
      "This statement is after break\n",
      "3\n",
      "3 squared is 9.\n",
      "This statement is after break\n",
      "4\n",
      "4 squared is 16.\n",
      "This statement is after break\n",
      "5\n",
      "5 squared is 25.\n",
      "This statement is after break\n",
      "6\n",
      "6 squared is 36.\n",
      "This statement is after break\n",
      "7\n",
      "7 squared is 49.\n",
      "This statement is after break\n",
      "8\n",
      "8 squared is 64.\n",
      "This statement is after break\n",
      "9\n",
      "9 squared is 81.\n",
      "This statement is after break\n",
      "10\n",
      "10 squared is 100.\n",
      "This statement is after break\n",
      "11\n",
      "11 squared is 121.\n",
      "11\n"
     ]
    }
   ],
   "source": [
    "# Break, continue and pass keywords\n",
    "\n",
    "x = 0\n",
    "\n",
    "while True:\n",
    "    print(x)\n",
    "    print(f'{x} squared is {x**2}.')\n",
    "    if x**2 > 100:\n",
    "        break\n",
    "    print('This statement is after break')\n",
    "    x += 1\n",
    "    \n",
    "    \n",
    "print(x)\n",
    "    "
   ]
  },
  {
   "cell_type": "code",
   "execution_count": 16,
   "id": "72fc71ad",
   "metadata": {},
   "outputs": [
    {
     "name": "stdout",
     "output_type": "stream",
     "text": [
      "0\n",
      "0 squared is 0.\n",
      "1\n",
      "1 squared is 1.\n",
      "4\n",
      "2 squared is 4.\n",
      "9\n",
      "3 squared is 9.\n",
      "16\n",
      "4 squared is 16.\n",
      "25\n",
      "5 squared is 25.\n",
      "36\n",
      "6 squared is 36.\n",
      "49\n",
      "7 squared is 49.\n",
      "64\n"
     ]
    }
   ],
   "source": [
    "for x in range(10):\n",
    "    print(x**2)\n",
    "    if x**2 > 50:\n",
    "        break\n",
    "    print(f'{x} squared is {x**2}.')"
   ]
  },
  {
   "cell_type": "code",
   "execution_count": 18,
   "id": "4ec7c8f5",
   "metadata": {},
   "outputs": [
    {
     "name": "stdout",
     "output_type": "stream",
     "text": [
      "0\n",
      "0 squared is 0.\n",
      "1\n",
      "1 squared is 1.\n",
      "4\n",
      "2 squared is 4.\n",
      "9\n",
      "3 squared is 9.\n",
      "16\n",
      "4 squared is 16.\n",
      "25\n",
      "5 squared is 25.\n",
      "36\n",
      "6 squared is 36.\n",
      "49\n",
      "7 squared is 49.\n",
      "64\n",
      "81\n",
      "100\n"
     ]
    }
   ],
   "source": [
    "for x in range(11):\n",
    "    print(x**2)\n",
    "    if x**2 > 50:\n",
    "        continue\n",
    "    print(f'{x} squared is {x**2}.')"
   ]
  },
  {
   "cell_type": "code",
   "execution_count": null,
   "id": "ae5d99fc",
   "metadata": {},
   "outputs": [],
   "source": [
    "# Break - when the keyword is hit - the loop 'breaks' i.e. does not continue any further iterations AT ALL. \n",
    "\n",
    "# Continue - when the keyword is hit - sends the execution back to the loop header, does not execute anything in the \n",
    "# loop that came after the continue keyword - BUT NOTE - execution of loop has NOT stopped unlike break where execution of\n",
    "# loop has stopped!\n",
    "\n",
    "# pass - when the keyword is hit - it does 'nothing' - passes control on to the next line for execution. This is USUALLY\n",
    "# only used as a place holder. "
   ]
  },
  {
   "cell_type": "code",
   "execution_count": 19,
   "id": "514dbe7d",
   "metadata": {},
   "outputs": [
    {
     "name": "stdout",
     "output_type": "stream",
     "text": [
      "0\n",
      "0 squared is 0.\n",
      "1\n",
      "1 squared is 1.\n",
      "4\n",
      "2 squared is 4.\n",
      "9\n",
      "3 squared is 9.\n",
      "16\n",
      "4 squared is 16.\n",
      "25\n",
      "5 squared is 25.\n",
      "36\n",
      "6 squared is 36.\n",
      "49\n",
      "7 squared is 49.\n",
      "64\n",
      "8 squared is 64.\n",
      "81\n",
      "9 squared is 81.\n",
      "100\n",
      "10 squared is 100.\n"
     ]
    }
   ],
   "source": [
    "for x in range(11):\n",
    "    print(x**2)\n",
    "    if x**2 > 50:\n",
    "        pass\n",
    "    print(f'{x} squared is {x**2}.')"
   ]
  },
  {
   "cell_type": "code",
   "execution_count": 21,
   "id": "7b0f7bec",
   "metadata": {},
   "outputs": [
    {
     "ename": "IndentationError",
     "evalue": "expected an indented block (2439960721.py, line 8)",
     "output_type": "error",
     "traceback": [
      "\u001b[1;36m  File \u001b[1;32m\"C:\\Users\\Lenovo\\AppData\\Local\\Temp\\ipykernel_5304\\2439960721.py\"\u001b[1;36m, line \u001b[1;32m8\u001b[0m\n\u001b[1;33m    # code 510 to 1000\u001b[0m\n\u001b[1;37m                      ^\u001b[0m\n\u001b[1;31mIndentationError\u001b[0m\u001b[1;31m:\u001b[0m expected an indented block\n"
     ]
    }
   ],
   "source": [
    "# code 1 to 500\n",
    "\n",
    "\n",
    "def rakesh():\n",
    "    pass\n",
    "\n",
    "\n",
    "# code 510 to 1000\n"
   ]
  },
  {
   "cell_type": "code",
   "execution_count": null,
   "id": "fcf82e8b",
   "metadata": {},
   "outputs": [],
   "source": [
    "# code 1 to 500\n",
    "\n",
    "#file_to_import = readfile('?????????')\n",
    "pass\n",
    "\n",
    "# code 510 to 1000\n"
   ]
  },
  {
   "cell_type": "code",
   "execution_count": null,
   "id": "76f19956",
   "metadata": {},
   "outputs": [],
   "source": []
  },
  {
   "cell_type": "code",
   "execution_count": null,
   "id": "4275d4e4",
   "metadata": {},
   "outputs": [],
   "source": []
  },
  {
   "cell_type": "code",
   "execution_count": null,
   "id": "868d8905",
   "metadata": {},
   "outputs": [],
   "source": []
  },
  {
   "cell_type": "code",
   "execution_count": null,
   "id": "a8242169",
   "metadata": {},
   "outputs": [],
   "source": []
  }
 ],
 "metadata": {
  "kernelspec": {
   "display_name": "Python 3 (ipykernel)",
   "language": "python",
   "name": "python3"
  },
  "language_info": {
   "codemirror_mode": {
    "name": "ipython",
    "version": 3
   },
   "file_extension": ".py",
   "mimetype": "text/x-python",
   "name": "python",
   "nbconvert_exporter": "python",
   "pygments_lexer": "ipython3",
   "version": "3.9.13"
  }
 },
 "nbformat": 4,
 "nbformat_minor": 5
}
