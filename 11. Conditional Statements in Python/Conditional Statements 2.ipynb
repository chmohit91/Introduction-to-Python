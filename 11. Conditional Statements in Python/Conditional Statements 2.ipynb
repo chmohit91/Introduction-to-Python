{
 "cells": [
  {
   "cell_type": "markdown",
   "id": "cdcb5431",
   "metadata": {},
   "source": [
    "### 4. if -elif- else Statement\n",
    "\n",
    "Syntax:-\n",
    "    \n",
    "    if condition:\n",
    "       code\n",
    "    elif condition:\n",
    "        code \n",
    "    else:\n",
    "        code "
   ]
  },
  {
   "cell_type": "code",
   "execution_count": 1,
   "id": "d8ef2d1e",
   "metadata": {},
   "outputs": [
    {
     "name": "stdout",
     "output_type": "stream",
     "text": [
      "Enter the first number: 3\n",
      "Enter the second number: 5\n",
      "Enter the Third number: 10\n",
      "10 is the maximum among the three\n"
     ]
    }
   ],
   "source": [
    "#take 3 numbers from the user and going to check the maximum among the three\n",
    "\n",
    "a = int(input('Enter the first number: '))\n",
    "b = int(input('Enter the second number: '))\n",
    "c = int(input('Enter the Third number: '))\n",
    "\n",
    "if a>b and a>c:\n",
    "    print(f'{a} is the maximum among the three')\n",
    "elif b>a and b>c:\n",
    "    print(f'{b} is the maximum among the three')\n",
    "else:\n",
    "    print(f'{c} is the maximum among the three')"
   ]
  },
  {
   "cell_type": "code",
   "execution_count": 3,
   "id": "31159364",
   "metadata": {},
   "outputs": [
    {
     "name": "stdout",
     "output_type": "stream",
     "text": [
      "Enter the first number: 3\n",
      "Enter the second number: 10\n",
      "Enter the Third number: 5\n",
      "Enter the fourth number: 7\n",
      "10 is the maximum among the four\n"
     ]
    }
   ],
   "source": [
    "#take 4 numbers from the user and going to check the maximum among the four\n",
    "\n",
    "a = int(input('Enter the first number: '))\n",
    "b = int(input('Enter the second number: '))\n",
    "c = int(input('Enter the Third number: '))\n",
    "d = int(input('Enter the fourth number: '))\n",
    "\n",
    "if a>b and a>c and a>d:\n",
    "    print(f'{a} is the maximum among the four')\n",
    "elif b>a and b>c and b>d:\n",
    "    print(f'{b} is the maximum among the four')\n",
    "elif c>a and c>b and c>d:\n",
    "    print(f'{c} is the maximum among the four')\n",
    "else:\n",
    "    print(f'{d} is the maximum among the four')"
   ]
  },
  {
   "cell_type": "markdown",
   "id": "46ed9f77",
   "metadata": {},
   "source": [
    "### Nested if.....else Statemenst\n",
    "\n",
    "Syntax:-\n",
    "    \n",
    "       if condition_1:\n",
    "           code -1\n",
    "           if condition_2:\n",
    "               code -3 \n",
    "               if codition_3:\n",
    "                   code-5\n",
    "                else:\n",
    "                   code - 6\n",
    "           else:\n",
    "               code -4\n",
    "       else:\n",
    "           CODE -2\n",
    "        "
   ]
  },
  {
   "cell_type": "markdown",
   "id": "b707f170",
   "metadata": {},
   "source": [
    "##### if a student score 90 or more in all the three subjects(math, science and english) then the student has Well done!!! , \n",
    "##### if a student score <90 marks in any subject then it should try again"
   ]
  },
  {
   "cell_type": "code",
   "execution_count": 5,
   "id": "0ca58828",
   "metadata": {},
   "outputs": [
    {
     "name": "stdout",
     "output_type": "stream",
     "text": [
      "Enter the marks in Maths: 91\n",
      "Enter the marks in Science: 87\n",
      "Enter the marks in English: 93\n",
      "Try again in Science\n"
     ]
    }
   ],
   "source": [
    "math = int(input('Enter the marks in Maths: '))\n",
    "science = int(input('Enter the marks in Science: '))\n",
    "eng = int(input('Enter the marks in English: '))\n",
    "\n",
    "if math >= 90:\n",
    "    if eng >= 90:\n",
    "        if science >= 90:\n",
    "            print('Well done')\n",
    "        else:\n",
    "            print('Try again in Science')\n",
    "    else:\n",
    "        print('Try again in english')\n",
    "else:\n",
    "    print('Try again in Maths')"
   ]
  },
  {
   "cell_type": "code",
   "execution_count": 11,
   "id": "02b094c3",
   "metadata": {},
   "outputs": [
    {
     "name": "stdout",
     "output_type": "stream",
     "text": [
      "Enter the marks in Maths: 10\n",
      "Enter the marks in Science: 20\n",
      "Enter the marks in English: 30\n",
      "Try again in Maths \n"
     ]
    }
   ],
   "source": [
    "math = int(input('Enter the marks in Maths: '))\n",
    "science = int(input('Enter the marks in Science: '))\n",
    "eng = int(input('Enter the marks in English: '))\n",
    "\n",
    "if math >= 90 :\n",
    "    if eng >= 90:\n",
    "        if science >= 90\n",
    "            print('Well done')\n",
    "        else:\n",
    "            print('Try again in Science')\n",
    "    else:\n",
    "        print('Try again in English')\n",
    "else:\n",
    "    print('Try again in Maths ')"
   ]
  },
  {
   "cell_type": "code",
   "execution_count": 17,
   "id": "d5c55351",
   "metadata": {},
   "outputs": [
    {
     "name": "stdout",
     "output_type": "stream",
     "text": [
      "Enter an alphabet: p\n",
      "p is a consonant\n"
     ]
    }
   ],
   "source": [
    "# Take an alphabet from the user and check whetehr the alphabet is a vowel or a consonant\n",
    "\n",
    "vowels = 'aeiouAEIOU'\n",
    "\n",
    "a = input('Enter an alphabet: ')\n",
    "if a.isalpha():\n",
    "    if a in vowels:\n",
    "        print(f'{a} is a Vowel')\n",
    "    else:\n",
    "        print(f'{a} is a consonant')\n",
    "else:\n",
    "    print(f'{a} is not an alphabet')\n",
    "            "
   ]
  },
  {
   "cell_type": "code",
   "execution_count": 28,
   "id": "b1f0a027",
   "metadata": {},
   "outputs": [
    {
     "name": "stdout",
     "output_type": "stream",
     "text": [
      "Enter a number: h\n",
      "Invalid Input!, Enter a valid number\n"
     ]
    }
   ],
   "source": [
    "num = input('Enter a number: ') #input - string\n",
    "if num.isnumeric():\n",
    "    if int(num) % 2 == 0:\n",
    "        print('Even number')\n",
    "    else:\n",
    "        print('odd number')\n",
    "else:\n",
    "    print('Invalid Input!, Enter a valid number')"
   ]
  },
  {
   "cell_type": "markdown",
   "id": "3a33094f",
   "metadata": {},
   "source": [
    "### Loops\n",
    "\n",
    "- Loops is a concept that we use to execute a code repeatedly"
   ]
  },
  {
   "cell_type": "code",
   "execution_count": 30,
   "id": "236d0740",
   "metadata": {
    "scrolled": true
   },
   "outputs": [
    {
     "name": "stdout",
     "output_type": "stream",
     "text": [
      "Hello\n",
      "Hello\n",
      "Hello\n",
      "Hello\n",
      "Hello\n",
      "Hello\n",
      "Hello\n"
     ]
    }
   ],
   "source": [
    "#Print Hello\n",
    "print('Hello')\n",
    "print('Hello')\n",
    "print('Hello')\n",
    "print('Hello')\n",
    "print('Hello')\n",
    "print('Hello')\n",
    "print('Hello')\n",
    "print('Hello')\n",
    "print('Hello')\n",
    "print('Hello')"
   ]
  },
  {
   "cell_type": "code",
   "execution_count": 32,
   "id": "6fc8b12c",
   "metadata": {},
   "outputs": [
    {
     "name": "stdout",
     "output_type": "stream",
     "text": [
      "Hello\n",
      "Hello\n",
      "Hello\n",
      "Hello\n",
      "Hello\n",
      "\n"
     ]
    }
   ],
   "source": [
    "print('Hello\\n'*5)"
   ]
  },
  {
   "cell_type": "code",
   "execution_count": null,
   "id": "ab313f1d",
   "metadata": {},
   "outputs": [],
   "source": [
    "my_str = 'Python'\n",
    "\n",
    "my_str[0] = p\n",
    "my_str[1] = y"
   ]
  },
  {
   "cell_type": "markdown",
   "id": "10cd8ff0",
   "metadata": {},
   "source": [
    "### Types of Loops \n",
    "\n",
    "- for loop  \n",
    "- while loop"
   ]
  },
  {
   "cell_type": "markdown",
   "id": "7e5a5bd1",
   "metadata": {},
   "source": [
    "### for loop `\n",
    "\n",
    "- It is always applied on an iterable object (string, list, tuples, range, dictionary, set, frozenset)\n",
    "\n",
    "Syntax:\n",
    "    \n",
    "    for variable in iterable:\n",
    "        code\n",
    "        code\n",
    "        \n",
    " The variable is a place holder which is going to hold the element of the iterable for a specific periof of time "
   ]
  },
  {
   "cell_type": "code",
   "execution_count": 33,
   "id": "630f9eb7",
   "metadata": {},
   "outputs": [
    {
     "name": "stdout",
     "output_type": "stream",
     "text": [
      "P\n",
      "y\n",
      "t\n",
      "h\n",
      "o\n",
      "n\n",
      " \n",
      "C\n",
      "l\n",
      "a\n",
      "s\n",
      "s\n"
     ]
    }
   ],
   "source": [
    "my_str = 'Python Class' # \"p\"+'y'+'t'.............\n",
    "\n",
    "for i in my_str:\n",
    "    print(i)"
   ]
  },
  {
   "cell_type": "code",
   "execution_count": 34,
   "id": "00504f12",
   "metadata": {},
   "outputs": [
    {
     "name": "stdout",
     "output_type": "stream",
     "text": [
      "10\n",
      "12\n",
      "13\n",
      "14\n",
      "15\n",
      "16\n"
     ]
    }
   ],
   "source": [
    "lst = [10,12,13,14,15,16]\n",
    "\n",
    "for i in lst:\n",
    "    print(i)"
   ]
  },
  {
   "cell_type": "markdown",
   "id": "5156beea",
   "metadata": {},
   "source": [
    "### Iteration\n",
    "\n",
    "- Transversing upon the elements of an iterable from the beginning to the end is known as iteration\n",
    "- The number of iteration is equal to the number of elements inside the iterable object"
   ]
  },
  {
   "cell_type": "code",
   "execution_count": 35,
   "id": "a587479d",
   "metadata": {},
   "outputs": [
    {
     "name": "stdout",
     "output_type": "stream",
     "text": [
      "True\n",
      "Python\n",
      "{1, 2, 3}\n",
      "50\n",
      "(10+20j)\n"
     ]
    }
   ],
   "source": [
    "t = (True, 'Python', {1,2,3}, 50, 10+20j)\n",
    "\n",
    "for i in t:\n",
    "    print(i)"
   ]
  },
  {
   "cell_type": "code",
   "execution_count": 36,
   "id": "dae3f9a7",
   "metadata": {},
   "outputs": [
    {
     "name": "stdout",
     "output_type": "stream",
     "text": [
      "name\n",
      "age\n",
      "City\n",
      "Company\n"
     ]
    }
   ],
   "source": [
    "d = {'name':'Mayank Ghai', 'age':28, 'City':'Bengaluru', 'Company':'TCS'}\n",
    "\n",
    "for i in d:\n",
    "    print(i)"
   ]
  },
  {
   "cell_type": "code",
   "execution_count": 38,
   "id": "42750b37",
   "metadata": {},
   "outputs": [
    {
     "name": "stdout",
     "output_type": "stream",
     "text": [
      "Mayank Ghai\n",
      "28\n",
      "Bengaluru\n",
      "TCS\n"
     ]
    }
   ],
   "source": [
    "for i in d.values():\n",
    "    print(i)"
   ]
  },
  {
   "cell_type": "code",
   "execution_count": 39,
   "id": "1bee5769",
   "metadata": {},
   "outputs": [
    {
     "name": "stdout",
     "output_type": "stream",
     "text": [
      "('name', 'Mayank Ghai')\n",
      "('age', 28)\n",
      "('City', 'Bengaluru')\n",
      "('Company', 'TCS')\n"
     ]
    }
   ],
   "source": [
    "for i in d.items():\n",
    "    print(i)"
   ]
  },
  {
   "cell_type": "markdown",
   "id": "df40f390",
   "metadata": {},
   "source": [
    "#### for loop does not work over Numeric data-types (int, float, complex)"
   ]
  },
  {
   "cell_type": "code",
   "execution_count": 40,
   "id": "4c55f888",
   "metadata": {},
   "outputs": [
    {
     "ename": "TypeError",
     "evalue": "'int' object is not iterable",
     "output_type": "error",
     "traceback": [
      "\u001b[1;31m---------------------------------------------------------------------------\u001b[0m",
      "\u001b[1;31mTypeError\u001b[0m                                 Traceback (most recent call last)",
      "Cell \u001b[1;32mIn[40], line 1\u001b[0m\n\u001b[1;32m----> 1\u001b[0m \u001b[38;5;28;01mfor\u001b[39;00m i \u001b[38;5;129;01min\u001b[39;00m \u001b[38;5;241m11\u001b[39m:\n\u001b[0;32m      2\u001b[0m     \u001b[38;5;28mprint\u001b[39m(i)\n",
      "\u001b[1;31mTypeError\u001b[0m: 'int' object is not iterable"
     ]
    }
   ],
   "source": [
    "for i in 11:\n",
    "    print(i)"
   ]
  },
  {
   "cell_type": "code",
   "execution_count": 41,
   "id": "a78232e4",
   "metadata": {},
   "outputs": [
    {
     "ename": "TypeError",
     "evalue": "'float' object is not iterable",
     "output_type": "error",
     "traceback": [
      "\u001b[1;31m---------------------------------------------------------------------------\u001b[0m",
      "\u001b[1;31mTypeError\u001b[0m                                 Traceback (most recent call last)",
      "Cell \u001b[1;32mIn[41], line 1\u001b[0m\n\u001b[1;32m----> 1\u001b[0m \u001b[38;5;28;01mfor\u001b[39;00m i \u001b[38;5;129;01min\u001b[39;00m \u001b[38;5;241m100.00\u001b[39m:\n\u001b[0;32m      2\u001b[0m     \u001b[38;5;28mprint\u001b[39m(i)\n",
      "\u001b[1;31mTypeError\u001b[0m: 'float' object is not iterable"
     ]
    }
   ],
   "source": [
    "for i in 100.00:\n",
    "    print(i)"
   ]
  },
  {
   "cell_type": "code",
   "execution_count": 42,
   "id": "fb5de5f7",
   "metadata": {},
   "outputs": [
    {
     "ename": "TypeError",
     "evalue": "'complex' object is not iterable",
     "output_type": "error",
     "traceback": [
      "\u001b[1;31m---------------------------------------------------------------------------\u001b[0m",
      "\u001b[1;31mTypeError\u001b[0m                                 Traceback (most recent call last)",
      "Cell \u001b[1;32mIn[42], line 1\u001b[0m\n\u001b[1;32m----> 1\u001b[0m \u001b[38;5;28;01mfor\u001b[39;00m i \u001b[38;5;129;01min\u001b[39;00m \u001b[38;5;241m10\u001b[39m\u001b[38;5;241m+\u001b[39m\u001b[38;5;241m30\u001b[39mj:\n\u001b[0;32m      2\u001b[0m     \u001b[38;5;28mprint\u001b[39m(i)\n",
      "\u001b[1;31mTypeError\u001b[0m: 'complex' object is not iterable"
     ]
    }
   ],
   "source": [
    "for i in 10+30j:\n",
    "    print(i)"
   ]
  },
  {
   "cell_type": "code",
   "execution_count": 43,
   "id": "e9372d8d",
   "metadata": {},
   "outputs": [
    {
     "name": "stdout",
     "output_type": "stream",
     "text": [
      "0\n",
      "1\n",
      "2\n",
      "3\n",
      "4\n"
     ]
    }
   ],
   "source": [
    "for i in range(0,5):\n",
    "    print(i)"
   ]
  },
  {
   "cell_type": "code",
   "execution_count": 44,
   "id": "7790ca0d",
   "metadata": {},
   "outputs": [
    {
     "name": "stdout",
     "output_type": "stream",
     "text": [
      "1\n",
      "3\n",
      "6\n",
      "10\n",
      "15\n",
      "21\n",
      "28\n",
      "36\n",
      "45\n",
      "55\n",
      "the total sum will be 55\n"
     ]
    }
   ],
   "source": [
    "#cummulative sum\n",
    "\n",
    "lst = [1,2,3,4,5,6,7,8,9,10]\n",
    "\n",
    "sum = 0\n",
    "for i in lst:\n",
    "    sum = sum+i\n",
    "    print(sum)\n",
    "\n",
    "print(f\"the total sum will be {sum}\")"
   ]
  },
  {
   "cell_type": "code",
   "execution_count": null,
   "id": "0e678db2",
   "metadata": {},
   "outputs": [],
   "source": [
    "sum = 0\n",
    "i = 1\n",
    "sum = 0+1 ---->sum = 1\n",
    "\n",
    "sum =1 \n",
    "i = 2\n",
    "sum = 1+2 -----> sum = 3"
   ]
  },
  {
   "cell_type": "code",
   "execution_count": 45,
   "id": "05d47f0e",
   "metadata": {},
   "outputs": [
    {
     "name": "stdout",
     "output_type": "stream",
     "text": [
      "0 P\n",
      "1 y\n",
      "2 t\n",
      "3 h\n",
      "4 o\n",
      "5 n\n",
      "6  \n",
      "7 C\n",
      "8 l\n",
      "9 a\n",
      "10 s\n",
      "11 s\n"
     ]
    }
   ],
   "source": [
    "# a program to mimc the enumerate \n",
    "\n",
    "my_str = 'Python Class'\n",
    "\n",
    "for i in range(len(my_str)):\n",
    "    print(i, my_str[i])"
   ]
  },
  {
   "cell_type": "code",
   "execution_count": 46,
   "id": "35b18e48",
   "metadata": {},
   "outputs": [
    {
     "name": "stdout",
     "output_type": "stream",
     "text": [
      "0 P\n",
      "1 y\n",
      "2 t\n",
      "3 h\n",
      "4 o\n",
      "5 n\n",
      "6  \n",
      "7 C\n",
      "8 l\n",
      "9 a\n",
      "10 s\n",
      "11 s\n"
     ]
    }
   ],
   "source": [
    "for i, j in enumerate(my_str):\n",
    "    print(i,j)"
   ]
  },
  {
   "cell_type": "code",
   "execution_count": 48,
   "id": "701bc6e2",
   "metadata": {},
   "outputs": [
    {
     "name": "stdout",
     "output_type": "stream",
     "text": [
      "12\n"
     ]
    }
   ],
   "source": [
    "# Length \n",
    "count = 0\n",
    "for i in range(len(my_str)):\n",
    "    count = count+1\n",
    "    \n",
    "print(count)"
   ]
  },
  {
   "cell_type": "code",
   "execution_count": 49,
   "id": "98762a02",
   "metadata": {},
   "outputs": [
    {
     "name": "stdout",
     "output_type": "stream",
     "text": [
      "5 n\n",
      "4 o\n",
      "3 h\n",
      "2 t\n",
      "1 y\n",
      "0 P\n"
     ]
    }
   ],
   "source": [
    "for i in range(5, -1, -1):\n",
    "    print(i, my_str[i])"
   ]
  },
  {
   "cell_type": "code",
   "execution_count": 50,
   "id": "4d8b00e6",
   "metadata": {},
   "outputs": [
    {
     "name": "stdout",
     "output_type": "stream",
     "text": [
      "-1 n\n",
      "-2 o\n",
      "-3 h\n",
      "-4 t\n",
      "-5 y\n",
      "-6 P\n"
     ]
    }
   ],
   "source": [
    "my_str = 'Python' #[-1,-2, -3, -4, -5, -6]\n",
    "\n",
    "for i in range(-1, -7, -1):\n",
    "    print(i, my_str[i])"
   ]
  },
  {
   "cell_type": "code",
   "execution_count": 51,
   "id": "0db8bd7f",
   "metadata": {},
   "outputs": [
    {
     "name": "stdout",
     "output_type": "stream",
     "text": [
      "-1 n\n",
      "-2 o\n",
      "-3 h\n",
      "-4 t\n",
      "-5 y\n",
      "-6 P\n"
     ]
    }
   ],
   "source": [
    "for i in range(-1, -len(my_str)-1, -1):\n",
    "    print(i, my_str[i])"
   ]
  },
  {
   "cell_type": "code",
   "execution_count": 57,
   "id": "fc9ad204",
   "metadata": {},
   "outputs": [
    {
     "name": "stdout",
     "output_type": "stream",
     "text": [
      "10\n",
      "30\n",
      "50\n",
      "70\n"
     ]
    }
   ],
   "source": [
    "#Print every alternate elements inside a list using loops\n",
    "lst = [10,20,30,40,50,60,70,80]\n",
    "\n",
    "for i in range(0, len(lst), 2):\n",
    "    print(lst[i])"
   ]
  },
  {
   "cell_type": "code",
   "execution_count": 58,
   "id": "857fe583",
   "metadata": {},
   "outputs": [
    {
     "name": "stdout",
     "output_type": "stream",
     "text": [
      "80\n",
      "60\n",
      "40\n",
      "20\n"
     ]
    }
   ],
   "source": [
    "#Print every alternate elements inside a list using loops but in reverse\n",
    "for p in range(-1,-len(lst),-2):\n",
    "    print(lst[p])\n"
   ]
  },
  {
   "cell_type": "code",
   "execution_count": 59,
   "id": "b54d8e57",
   "metadata": {},
   "outputs": [
    {
     "name": "stdout",
     "output_type": "stream",
     "text": [
      "9\n"
     ]
    }
   ],
   "source": [
    "my_str = \"Peter piper picked a pack of pickeled peppers\"\n",
    "\n",
    "#count all the occurance of p \n",
    "count = 0\n",
    "\n",
    "for i in my_str:\n",
    "    if i == 'P' or i == 'p':\n",
    "        count += 1 # count = count + 1\n",
    "\n",
    "print(count)"
   ]
  },
  {
   "cell_type": "code",
   "execution_count": 60,
   "id": "32b9bf76",
   "metadata": {},
   "outputs": [
    {
     "name": "stdout",
     "output_type": "stream",
     "text": [
      "0\n",
      "6\n",
      "8\n",
      "12\n",
      "21\n",
      "29\n",
      "38\n",
      "40\n",
      "41\n"
     ]
    }
   ],
   "source": [
    "my_str = \"Peter piper picked a pack of pickeled peppers\"\n",
    "\n",
    "# print all the index for all the occurance of the P\n",
    "\n",
    "for i in range(0, len(my_str)):\n",
    "    if my_str[i] == 'P' or my_str[i] == 'p':\n",
    "        print(i)"
   ]
  },
  {
   "cell_type": "code",
   "execution_count": 62,
   "id": "4deec743",
   "metadata": {},
   "outputs": [
    {
     "name": "stdout",
     "output_type": "stream",
     "text": [
      "0\n",
      "12\n",
      "29\n",
      "40\n"
     ]
    }
   ],
   "source": [
    "my_str = \"Peter piper Picked a pack of Pickeled pePpers\"\n",
    "\n",
    "# print all the index for all the occurance of the P\n",
    "\n",
    "for i in range(0, len(my_str)):\n",
    "    if my_str[i] == 'P' :\n",
    "        print(i)"
   ]
  },
  {
   "cell_type": "code",
   "execution_count": 64,
   "id": "e7c710e4",
   "metadata": {},
   "outputs": [
    {
     "name": "stdout",
     "output_type": "stream",
     "text": [
      "0 t\n",
      "2 i\n",
      "4  \n",
      "6 s\n",
      "8 a\n",
      "10 P\n",
      "12 t\n",
      "14 o\n",
      "16  \n",
      "18 l\n",
      "20 s\n"
     ]
    }
   ],
   "source": [
    "my_str = \"this is a Python class\"\n",
    "\n",
    "# Print all the characters that are available at the even index\n",
    "for i in range(0,len(my_str)):\n",
    "    if(i%2==0):\n",
    "        print(i, my_str[i])\n"
   ]
  },
  {
   "cell_type": "code",
   "execution_count": 68,
   "id": "e59c8691",
   "metadata": {},
   "outputs": [
    {
     "data": {
      "text/plain": [
       "['This', 'is', 'a', 'Python', 'class.']"
      ]
     },
     "execution_count": 68,
     "metadata": {},
     "output_type": "execute_result"
    }
   ],
   "source": [
    "my_str = 'This is a Python class.'\n",
    "my_str.split()"
   ]
  },
  {
   "cell_type": "code",
   "execution_count": null,
   "id": "468f604c",
   "metadata": {},
   "outputs": [],
   "source": [
    "This\n",
    "is\n",
    "a\n",
    "Python\n",
    "Class"
   ]
  },
  {
   "cell_type": "code",
   "execution_count": 70,
   "id": "7089f572",
   "metadata": {},
   "outputs": [
    {
     "name": "stdout",
     "output_type": "stream",
     "text": [
      "This\n",
      "is\n",
      "a\n",
      "Python\n",
      "class\n"
     ]
    }
   ],
   "source": [
    "j=0\n",
    "for i in range(j,len(my_str)):\n",
    "  if(my_str[i]==' ' or my_str[i] == '.'):\n",
    "    print(my_str[j:i])\n",
    "    j=i+1\n",
    "    i=j+1\n"
   ]
  },
  {
   "cell_type": "code",
   "execution_count": null,
   "id": "3bc23aba",
   "metadata": {},
   "outputs": [],
   "source": []
  }
 ],
 "metadata": {
  "kernelspec": {
   "display_name": "Python 3 (ipykernel)",
   "language": "python",
   "name": "python3"
  },
  "language_info": {
   "codemirror_mode": {
    "name": "ipython",
    "version": 3
   },
   "file_extension": ".py",
   "mimetype": "text/x-python",
   "name": "python",
   "nbconvert_exporter": "python",
   "pygments_lexer": "ipython3",
   "version": "3.11.5"
  }
 },
 "nbformat": 4,
 "nbformat_minor": 5
}
