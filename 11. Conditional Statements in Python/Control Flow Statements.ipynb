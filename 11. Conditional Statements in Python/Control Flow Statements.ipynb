{
 "cells": [
  {
   "cell_type": "markdown",
   "id": "9fd9456b",
   "metadata": {},
   "source": [
    "### Control Flow Statements"
   ]
  },
  {
   "cell_type": "code",
   "execution_count": null,
   "id": "b26a51e4",
   "metadata": {},
   "outputs": [],
   "source": [
    "# Control Flow is the order in which a program executes. Control flow statements are the statements in Python that control\n",
    "# the order of execution ('flow') of your program. The logic for what the next step is, what should the program do on\n",
    "# encountering certain conditions and whether the steps are to be repeated and how often make up the bulk of the flow logic. "
   ]
  },
  {
   "cell_type": "code",
   "execution_count": null,
   "id": "ebb951a7",
   "metadata": {},
   "outputs": [],
   "source": [
    "# There are three types of control flow statements\n",
    "\n",
    "#1. Sequential - Simply the sequence in which code will be executed and is always from top to bottom. The logic of the \n",
    "# program should be written such that steps to be taken are written in their expected execution order.\n",
    "#2. Decision control statements - Conditional statements - if elif else statements. \n",
    "#3. Repetion - How many times or until which point should a set of code (one or multiple lines) be run. Loops\n",
    "\n",
    "\n",
    "#4. Exception handling.\n",
    "\n",
    "# To assist in control flow, we use break, continue & pass statements along with loops. \n",
    "# We also use try / except blocks (called exception handling) to mitigate the effect of exceptions being raised during\n",
    "# the running of our program."
   ]
  },
  {
   "cell_type": "markdown",
   "id": "c1cd8372",
   "metadata": {},
   "source": [
    "### 1. Sequential"
   ]
  },
  {
   "cell_type": "code",
   "execution_count": null,
   "id": "c0d4668a",
   "metadata": {},
   "outputs": [],
   "source": [
    "a = 10\n",
    "#c = a+b\n",
    "b = 20\n",
    "c = a+b\n",
    "\n",
    "print(c)\n"
   ]
  },
  {
   "cell_type": "code",
   "execution_count": null,
   "id": "408b2bc6",
   "metadata": {},
   "outputs": [],
   "source": [
    "a = 6\n",
    "\n",
    "if a > 5:\n",
    "    print('Greater than 5')\n",
    "    if a > 10 :\n",
    "        print('Greater than 10')"
   ]
  },
  {
   "cell_type": "code",
   "execution_count": null,
   "id": "42ded852",
   "metadata": {},
   "outputs": [],
   "source": [
    "# The above is simply sequential flow. To get the value of c, we have to define a and b and only then can we display(print)\n",
    "# the value of c. We could define b before a without breaking our program or simply print(a+b) if we did not need to store\n",
    "# the value c without breaking our program. But not defining either a or b breaks the sequence of the program and renders\n",
    "# the program unusable. "
   ]
  },
  {
   "cell_type": "markdown",
   "id": "62ca3173",
   "metadata": {},
   "source": [
    "### 2. Decision control - Conditional statements - if / elif / else"
   ]
  },
  {
   "cell_type": "code",
   "execution_count": null,
   "id": "265f999e",
   "metadata": {},
   "outputs": [],
   "source": [
    "#Conditional statements are meant to manipulate the flow of the program when and whether to execute a set of code."
   ]
  },
  {
   "cell_type": "code",
   "execution_count": null,
   "id": "bbcd045a",
   "metadata": {},
   "outputs": [],
   "source": [
    "#The if statement\n",
    "\n",
    "# The if statement is used to check if a given condition(or conditions) are true. If true, then the indented block of code\n",
    "# after the if statement is executed. \n",
    "\n",
    "# The syntax is:\n",
    "# if <condition(s)>:\n",
    "    #<Code to be executed>\n",
    "    # Infinite lines can be written in this block but indentation for the flow logic has to be maintained.\n",
    "\n",
    "\n",
    "num = 2\n",
    "\n",
    "if num >1:\n",
    "    print('Execute')"
   ]
  },
  {
   "cell_type": "code",
   "execution_count": null,
   "id": "e9384471",
   "metadata": {},
   "outputs": [],
   "source": [
    "#They can be used in conjunction with logical operators\n",
    "\n",
    "if num >0 or num == 0 or num==-1:\n",
    "    print('Execute')"
   ]
  },
  {
   "cell_type": "code",
   "execution_count": null,
   "id": "51b10194",
   "metadata": {},
   "outputs": [],
   "source": [
    "num = 2\n",
    "\n",
    "if num <=1 and num <0:\n",
    "    print('Execute')"
   ]
  },
  {
   "cell_type": "code",
   "execution_count": null,
   "id": "a02e51b7",
   "metadata": {},
   "outputs": [],
   "source": [
    "#Note how the if block was not at all executed since the 2nd condition of the and statement was not satisfied. "
   ]
  },
  {
   "cell_type": "code",
   "execution_count": null,
   "id": "838b7d17",
   "metadata": {},
   "outputs": [],
   "source": [
    "num = -5\n",
    "\n",
    "if num <= 1 or num > 0:\n",
    "    print('Number is less than one')\n",
    "    print(f'Number multiplied by 5 is {num*5}.')"
   ]
  },
  {
   "cell_type": "code",
   "execution_count": null,
   "id": "587b24a1",
   "metadata": {},
   "outputs": [],
   "source": [
    "# We can have multiple lines of code after the if condition (infinite - as much as program logic dictates)."
   ]
  },
  {
   "cell_type": "code",
   "execution_count": null,
   "id": "3f8c57bc",
   "metadata": {},
   "outputs": [],
   "source": [
    "# We can have nested if conditions.\n",
    "\n",
    "num = 10\n",
    "\n",
    "if num <=1:\n",
    "    print('Number is less than one')\n",
    "    if num > 0:\n",
    "        print('It is a positive number')\n",
    "    else:\n",
    "        print('Number is negative')"
   ]
  },
  {
   "cell_type": "code",
   "execution_count": null,
   "id": "ea507de1",
   "metadata": {},
   "outputs": [],
   "source": [
    "num = -1\n",
    "\n",
    "if num <=1:\n",
    "    print('Number is less than one')\n",
    "    if num > 0:\n",
    "        print('It is a positive number')"
   ]
  },
  {
   "cell_type": "code",
   "execution_count": null,
   "id": "9b391aef",
   "metadata": {},
   "outputs": [],
   "source": [
    "#Note how the second if block was not executed since the 2nd if condition was not met. "
   ]
  },
  {
   "cell_type": "code",
   "execution_count": null,
   "id": "ed29da1b",
   "metadata": {},
   "outputs": [],
   "source": [
    "#The indented block after the if statement (which ends with a colon) is called a suite(of that if statement).\n",
    "\n",
    "# if num <=1:\n",
    "#     print('Number is less than one') # Suite of 1st if condition\n",
    "#     if num > 0: #Suite of 1st if condition\n",
    "#         print('It is a positive number') # Suite of 1st and 2nd if condition. "
   ]
  },
  {
   "cell_type": "code",
   "execution_count": null,
   "id": "b637497f",
   "metadata": {},
   "outputs": [],
   "source": [
    "# We can have a second if condition to check if the first if condition is not satisfied. Note how this is different from\n",
    "# a nested if condition. In a nested if - the nested if condition is only checked if the outer if condition is met / is \n",
    "# True. In an elif statement, the elif statement(s) is/are checked in sequence only when the if condition of that \n",
    "# if-elif-else block is not met / is false.\n",
    "\n",
    "num = 1\n",
    "\n",
    "if num <=1 or num == 0:\n",
    "    print('Number less than 1')\n",
    "elif num <= 2:\n",
    "    print('Number less than 2')\n",
    "    #print('Number less than 2x')"
   ]
  },
  {
   "cell_type": "code",
   "execution_count": null,
   "id": "d96106bb",
   "metadata": {},
   "outputs": [],
   "source": [
    "#Note how the inner if condition is also met by number and both statements are printed. "
   ]
  },
  {
   "cell_type": "code",
   "execution_count": null,
   "id": "154effc7",
   "metadata": {},
   "outputs": [],
   "source": [
    "num = 1\n",
    "\n",
    "if num <= 1:\n",
    "    print('Number less than 1')\n",
    "if num <=2:\n",
    "    print('Number less than 2')\n",
    "    \n"
   ]
  },
  {
   "cell_type": "code",
   "execution_count": null,
   "id": "d8453459",
   "metadata": {},
   "outputs": [],
   "source": [
    "if/elif/else - In an if block - we can have only ONE if condition\n",
    "we can have MULTIPLE elifs to check conditions sequentially\n",
    "we can have ONE else which is a catchall and does not take any conditions. It executes only if all the ifs and elifs have\n",
    "failed.\n",
    "\n",
    "In a decision control statement - if is mandatory and can exist alone without elifs and else\n",
    "elif (or multiple elifs) can exist with or without an else but not without an if\n",
    "else can exist with or without elifs but not without an if\n",
    "\n"
   ]
  },
  {
   "cell_type": "code",
   "execution_count": null,
   "id": "e7612014",
   "metadata": {},
   "outputs": [],
   "source": [
    "if condition <>:\n",
    "    code \n",
    "    \n",
    "    \n",
    "if condition<>:\n",
    "    code\n",
    "elif condition<>:\n",
    "    code\n",
    "    \n",
    "    \n",
    "if condition<>:\n",
    "    code\n",
    "else:\n",
    "    code<>\n",
    "    \n",
    "\n",
    "if condition<>:\n",
    "    code\n",
    "elif condition<>:\n",
    "    code\n",
    "else:\n",
    "    code\n",
    "    \n",
    "    \n",
    "#The following will not work.\n",
    "    \n",
    "elif condition<>:\n",
    "    code\n",
    "else:\n",
    "    code\n",
    "    \n",
    "    \n",
    "elif condition<>:\n",
    "    code\n",
    "    \n",
    "else:\n",
    "    code\n",
    "    "
   ]
  },
  {
   "cell_type": "code",
   "execution_count": null,
   "id": "4aee2a4a",
   "metadata": {},
   "outputs": [],
   "source": [
    "num = -10\n",
    "\n",
    "if num > 10:\n",
    "    print('Positive number greater than 10')\n",
    "elif num > 5:\n",
    "    print('Positive number greater than 5')\n",
    "elif num == 0:\n",
    "    print('This is zero')\n",
    "else:\n",
    "    print('Negative number')"
   ]
  },
  {
   "cell_type": "code",
   "execution_count": null,
   "id": "52d62f13",
   "metadata": {},
   "outputs": [],
   "source": []
  },
  {
   "cell_type": "code",
   "execution_count": null,
   "id": "d632e81b",
   "metadata": {},
   "outputs": [],
   "source": [
    "elif num == -10:\n",
    "    print('Negative 10')"
   ]
  },
  {
   "cell_type": "code",
   "execution_count": null,
   "id": "80a77cf1",
   "metadata": {},
   "outputs": [],
   "source": [
    "age = 18\n",
    "\n",
    "if age < 18:\n",
    "    print('Not eligible to work')\n",
    "else:\n",
    "    print('Any age doesnt matter')"
   ]
  },
  {
   "cell_type": "code",
   "execution_count": null,
   "id": "e74f7656",
   "metadata": {},
   "outputs": [],
   "source": [
    "num = 1\n",
    "\n",
    "if num <= 1:\n",
    "    print('Number less than 1')\n",
    "elif num <=2:\n",
    "    print('Number less than 2')\n",
    "    \n",
    "#elif(x100)\n"
   ]
  },
  {
   "cell_type": "code",
   "execution_count": null,
   "id": "bcb98d23",
   "metadata": {},
   "outputs": [],
   "source": [
    "#Note how the elif condition is not entered since the if condition was already satisfied. "
   ]
  },
  {
   "cell_type": "code",
   "execution_count": null,
   "id": "7daf24db",
   "metadata": {},
   "outputs": [],
   "source": [
    "num = 2\n",
    "\n",
    "if num <= 1:\n",
    "    print('Number less than 1')\n",
    "elif num <=2:\n",
    "    print('Number less than 2')"
   ]
  },
  {
   "cell_type": "code",
   "execution_count": null,
   "id": "b446108f",
   "metadata": {},
   "outputs": [],
   "source": [
    "# Note here how the elif condition is only entered after the if condition is not met/is false. "
   ]
  },
  {
   "cell_type": "code",
   "execution_count": null,
   "id": "1f3a1554",
   "metadata": {},
   "outputs": [],
   "source": [
    "# We can have multiple elif conditions in an if-elif-else block. \n",
    "\n",
    "num = 5\n",
    "\n",
    "if num <= 1:\n",
    "    print('Number less than 1')\n",
    "elif num <= 2:\n",
    "    print('Number less than 2')\n",
    "elif num <= 3:\n",
    "    print('Number less than 3')\n",
    "elif num <= 4:\n",
    "    print('Number less than 4')\n",
    "elif num <= 5:\n",
    "    print('Number less than equal to 5')"
   ]
  },
  {
   "cell_type": "code",
   "execution_count": null,
   "id": "fcf2b854",
   "metadata": {},
   "outputs": [],
   "source": [
    "#Note how all the if elif statements are skipped because their conditions are not satisfied - till the last elif statement\n",
    "# which was satisfied and the elif block was entered. "
   ]
  },
  {
   "cell_type": "code",
   "execution_count": null,
   "id": "79d01939",
   "metadata": {},
   "outputs": [],
   "source": [
    "num = 5\n",
    "\n",
    "if num <= 1:\n",
    "    print('Number less than 1')\n",
    "elif num <= 2:\n",
    "    print('Number less than 2')\n",
    "elif num <= 3:\n",
    "    print('Number less than 3')\n",
    "elif num <= 4:\n",
    "    print('Number less than 4')\n",
    "elif num <= 5:\n",
    "    print('Number less than 5')\n",
    "else:\n",
    "    print('Number more than 5')\n",
    "        "
   ]
  },
  {
   "cell_type": "code",
   "execution_count": null,
   "id": "deeb42c6",
   "metadata": {},
   "outputs": [],
   "source": [
    "#Note, as long as one of the if or elif conditions is met, we do not enter the else block. \n",
    "\n",
    "num = -5\n",
    "\n",
    "if num >= 1:\n",
    "    print('Number less than 1')\n",
    "elif num >= 2:\n",
    "    print('Number less than 2')\n",
    "elif num >= 3:\n",
    "    print('Number less than 3')\n",
    "elif num >= 4:\n",
    "    print('Number less than 4')\n",
    "elif num >= 5:\n",
    "    print('Number less than 5')\n",
    "else:\n",
    "    print('Number more than 5')"
   ]
  },
  {
   "cell_type": "code",
   "execution_count": null,
   "id": "39d6ad8b",
   "metadata": {},
   "outputs": [],
   "source": [
    "#The else statement is a catch-all - if none of the if or elif conditions are met only then does the else block get\n",
    "# executed. \n",
    "\n",
    "#Do carefully note the difference in syntax betwee if / elif and else. In the if and elif statements - we are giving the\n",
    "# conditions to be satisified on the same line as the if and elif statements - before the colon. However, since the else\n",
    "# is a catch all - and there is NO CONDITION TO BE EVALUATED - there is no expression after the else keyword and directly\n",
    "# a colon. If there IS a condition to be evaluated then you need an if or elif but not an else. \n",
    "\n",
    "num = 15\n",
    "\n",
    "if num <= 1:\n",
    "    print('Number less than 1')\n",
    "elif num <= 2:\n",
    "    print('Number less than 2')\n",
    "elif num <= 3:\n",
    "    print('Number less than 3')\n",
    "elif num <= 4:\n",
    "    print('Number less than 4')\n",
    "elif num <= 5:\n",
    "    print('Number less than 5')\n",
    "else:\n",
    "    if num <= 10:\n",
    "        print('Between 6 and 10')\n",
    "    elif num <= 20:\n",
    "        print('Between 11 and 20')\n",
    "    else:\n",
    "        print('More than 20')"
   ]
  },
  {
   "cell_type": "code",
   "execution_count": null,
   "id": "bac3056a",
   "metadata": {},
   "outputs": [],
   "source": [
    "if - One if condition\n",
    "elifs - Infinite\n",
    "else - only one\n",
    "\n",
    "if can exist without elifs and else\n",
    "elif cannot exist without if, elif can exist without else\n",
    "else cannot exist without if, else can exist without elif"
   ]
  },
  {
   "cell_type": "code",
   "execution_count": null,
   "id": "fea7d231",
   "metadata": {},
   "outputs": [],
   "source": [
    "# We can only have one if and else statement in one if -elif - else block. This does not count nested if - elif - else\n",
    "# blocks which are another set of conditional statements with their own count. We can have multiple elif statements. \n",
    "\n",
    "# if statement - Single\n",
    "    #Nested if - elif - else - Single if, Single Else, Multiple elifs - OPTIONAL \n",
    "# elif statements - multiple - (Optional)\n",
    "    #Nested if - elif - else - Single if, Single Else, Multiple elifs - OPTIONAL\n",
    "# else statement - Single - (Optional)\n",
    "    #Nested if - elif - else - Single if, Single Else, Multiple elifs - OPTIONAL\n",
    "    \n",
    "if \n",
    "  if\n",
    "  elif\n",
    "    if\n",
    "    elif\n",
    "    elif\n",
    "    else\n",
    "  elif\n",
    "  else\n",
    "elif\n",
    "elif\n",
    "else"
   ]
  },
  {
   "cell_type": "code",
   "execution_count": null,
   "id": "5b798073",
   "metadata": {},
   "outputs": [],
   "source": [
    "# If statements can exist without elif or else statements depending on the program logic. However, elif and else cannot\n",
    "# exist without the if statement. Elif and Else can also exist without each other(examples of which we have already seen) \n",
    "\n",
    "num = 1\n",
    "\n",
    "elif num == 1:\n",
    "    print('Number is less than 1')"
   ]
  },
  {
   "cell_type": "code",
   "execution_count": null,
   "id": "969b7b6b",
   "metadata": {},
   "outputs": [],
   "source": [
    "num = 1\n",
    "\n",
    "else:\n",
    "    print('Number is less than 1')"
   ]
  },
  {
   "cell_type": "code",
   "execution_count": null,
   "id": "cc4fd2b6",
   "metadata": {},
   "outputs": [],
   "source": [
    "num = 2\n",
    "\n",
    "if num < 1:\n",
    "    print('Number less than 1')\n",
    "elif num <=2 :\n",
    "    print('Number less than 2')"
   ]
  },
  {
   "cell_type": "code",
   "execution_count": null,
   "id": "86a02007",
   "metadata": {},
   "outputs": [],
   "source": [
    "num = 2\n",
    "\n",
    "if num <= 1:\n",
    "    print('Number less than 1')\n",
    "else:\n",
    "    print('Number more than 1')"
   ]
  },
  {
   "cell_type": "code",
   "execution_count": null,
   "id": "519f5e00",
   "metadata": {},
   "outputs": [],
   "source": [
    "num = 2\n",
    "\n",
    "if num <= 1:\n",
    "    print('Number less than 1')\n",
    "elif num > 1:\n",
    "    print('Are you trying to trick me. You cant Im smart Python')\n",
    "else:\n",
    "    print('Number more than 1')\n",
    "    "
   ]
  },
  {
   "cell_type": "code",
   "execution_count": null,
   "id": "03ee33db",
   "metadata": {},
   "outputs": [],
   "source": [
    "# while loops through a code as long as the condition supplied with while keyword remains True. Once the condition becomes False\n",
    "# the while loop stops. \n",
    "\n",
    "# For loops - iterate through an iterable. \n",
    "\n",
    "# while <condition(s)>:\n",
    "#       indented code block <infinite lines - whatever needs to be looped>\n",
    "\n",
    "\n",
    "# for temp_var in iterable:\n",
    "#     indented code block <infinite lines - whatever needs to be looped>\n",
    "\n"
   ]
  },
  {
   "cell_type": "code",
   "execution_count": null,
   "id": "847055a6",
   "metadata": {},
   "outputs": [],
   "source": [
    "x = 100\n",
    "\n",
    "print(f'{x} value before loop.')\n",
    "\n",
    "for x in range(5):\n",
    "    print(x)\n",
    "    \n",
    "    \n",
    "print(f'{x} value after loop.')"
   ]
  },
  {
   "cell_type": "code",
   "execution_count": null,
   "id": "8d7e6922",
   "metadata": {},
   "outputs": [],
   "source": [
    "dictionary : {x : 4}\n",
    "    \n",
    "    "
   ]
  },
  {
   "cell_type": "code",
   "execution_count": null,
   "id": "09c138d6",
   "metadata": {},
   "outputs": [],
   "source": []
  },
  {
   "cell_type": "code",
   "execution_count": null,
   "id": "7f64d37a",
   "metadata": {},
   "outputs": [],
   "source": []
  },
  {
   "cell_type": "code",
   "execution_count": null,
   "id": "df36812c",
   "metadata": {},
   "outputs": [],
   "source": []
  },
  {
   "cell_type": "code",
   "execution_count": null,
   "id": "38c8890f",
   "metadata": {},
   "outputs": [],
   "source": []
  },
  {
   "cell_type": "code",
   "execution_count": null,
   "id": "7153ac25",
   "metadata": {},
   "outputs": [],
   "source": []
  },
  {
   "cell_type": "code",
   "execution_count": null,
   "id": "02896ce6",
   "metadata": {},
   "outputs": [],
   "source": []
  },
  {
   "cell_type": "code",
   "execution_count": null,
   "id": "429bc62d",
   "metadata": {},
   "outputs": [],
   "source": [
    "# For loops\n",
    "1. For loop runs over an iterable and stops at the end of the iterable. \n",
    "\n",
    "# While loop\n",
    "1. Runs based on condition, the condition put in the While loop must turn False for the While loop to stop. \n",
    "2. The While loop condition to stop, can be internal(with an update parameter) or external. \n",
    "\n"
   ]
  },
  {
   "cell_type": "code",
   "execution_count": null,
   "id": "d5f6bedb",
   "metadata": {},
   "outputs": [],
   "source": [
    "a = 4\n",
    "b = 2\n",
    "c = 5\n",
    "if a>b:\n",
    "    if a>c:\n",
    "        print('a is big')\n",
    "    else:\n",
    "        print('c is big')\n",
    "else:\n",
    "    if b>c:\n",
    "        print('b is big')\n",
    "    else:\n",
    "        print('c is big')\n"
   ]
  },
  {
   "cell_type": "code",
   "execution_count": null,
   "id": "5d5d6089",
   "metadata": {},
   "outputs": [],
   "source": []
  },
  {
   "cell_type": "code",
   "execution_count": null,
   "id": "2fce36f8",
   "metadata": {},
   "outputs": [],
   "source": []
  },
  {
   "cell_type": "code",
   "execution_count": null,
   "id": "0fd09135",
   "metadata": {},
   "outputs": [],
   "source": []
  },
  {
   "cell_type": "code",
   "execution_count": null,
   "id": "3a6bbf89",
   "metadata": {},
   "outputs": [],
   "source": []
  },
  {
   "cell_type": "code",
   "execution_count": null,
   "id": "d7c7aa17",
   "metadata": {},
   "outputs": [],
   "source": []
  },
  {
   "cell_type": "code",
   "execution_count": null,
   "id": "10361d15",
   "metadata": {},
   "outputs": [],
   "source": [
    "for x in range(5):"
   ]
  },
  {
   "cell_type": "code",
   "execution_count": null,
   "id": "5d14f292",
   "metadata": {},
   "outputs": [],
   "source": []
  },
  {
   "cell_type": "code",
   "execution_count": null,
   "id": "43647911",
   "metadata": {},
   "outputs": [],
   "source": []
  },
  {
   "cell_type": "code",
   "execution_count": null,
   "id": "df4e48d3",
   "metadata": {},
   "outputs": [],
   "source": []
  },
  {
   "cell_type": "markdown",
   "id": "677e5967",
   "metadata": {},
   "source": [
    "### Loops"
   ]
  },
  {
   "cell_type": "code",
   "execution_count": null,
   "id": "4d72a4fe",
   "metadata": {},
   "outputs": [],
   "source": [
    "# We have two kinds of loops in Python. \n",
    "\n",
    "#1. The for loop. It is finite and loops over an iterable i.e. it goes over each element of the iterable and performs the\n",
    "# specified operations. Internally, whenever a for loop is initiated, an iterator function calls an iterator object that \n",
    "# holds a value from beginning of the length of the iterable till its end. After execution of the code specified in the for\n",
    "# loop, the iterator object calls the next() function for the next value. Once all the values are exhausted, the iterator \n",
    "# object ceases to exist. Next time a for loop is called, a new iterator object is created. \n",
    "\n",
    "# Iterator objects can only go forwards. This does not mean negative range object cannot be called. What it means is that\n",
    "# once next() is called and the next element of the iterator object is called, we cannot go back to the previous element \n",
    "# during that particular iteration.\n",
    "\n",
    "#2. While loop - It is infinte i.e. until a certain condition is met, it will keep running. Therefore, when using while \n",
    "# loops it is imperative that the stop condition is something sensible and likely to be met AND there is an update parameter\n",
    "# which when met can instruct the while loop to stop. \n",
    "\n",
    "# FAILURE TO ADHERE TO THE TWO ABOVE CONDITIONS FOR STOPPING A WHILE LOOP WILL RESULT IN AN INFINITE LOOP AND DEPENDING ON\n",
    "# THE PROCESSING BEING DONE INSIDE THE WHILE LOOP, MAY CAUSE YOUR MACHINE TO CRASH. "
   ]
  },
  {
   "cell_type": "code",
   "execution_count": null,
   "id": "c67d8dd2",
   "metadata": {},
   "outputs": [],
   "source": [
    "# for temp_var in iterable:                               <Built-in iter function on all iterables>. It can only go forward\n",
    "#       "
   ]
  },
  {
   "cell_type": "code",
   "execution_count": null,
   "id": "55c5740c",
   "metadata": {},
   "outputs": [],
   "source": [
    "# Technically your while loop starts without a defined end point. Can go into infinite loops easily. \n",
    "# For loops have a defined end point. But of course, if program logic is fault you can throw it into an infinite loop too. "
   ]
  },
  {
   "cell_type": "code",
   "execution_count": null,
   "id": "66d6c415",
   "metadata": {},
   "outputs": [],
   "source": [
    "count = 0\n",
    "\n",
    "while count < 5:\n",
    "    print('Hi')\n",
    "    count += 1"
   ]
  },
  {
   "cell_type": "code",
   "execution_count": 1,
   "id": "f995a2b7",
   "metadata": {},
   "outputs": [
    {
     "name": "stdout",
     "output_type": "stream",
     "text": [
      "['Betty', 'bought', 'some', 'butter', 'but', 'the', 'butter', 'was', 'bitter', 'so', 'Betty', 'bought', 'some', 'better', 'butter', 'to', 'make', 'the', 'bitter', 'butter', 'better']\n"
     ]
    }
   ],
   "source": [
    "str1 = 'Betty bought some butter but the butter was bitter so Betty bought some better butter to make the bitter butter better'\n",
    "\n",
    "\n",
    "lst1 = str1.split()\n",
    "\n",
    "print(lst1)"
   ]
  },
  {
   "cell_type": "code",
   "execution_count": 2,
   "id": "c33de021",
   "metadata": {},
   "outputs": [
    {
     "name": "stdout",
     "output_type": "stream",
     "text": [
      "['Betty', 'bought', 'some', 'butter', 'but', 'the', 'butter']\n"
     ]
    }
   ],
   "source": [
    "while 'was' in lst1:\n",
    "    lst1.pop()\n",
    "    \n",
    "print(lst1)"
   ]
  },
  {
   "cell_type": "code",
   "execution_count": null,
   "id": "f1649ccb",
   "metadata": {},
   "outputs": [],
   "source": [
    "lst1 = [2,5,7,8,9]\n",
    "\n",
    "for x in lst1:\n",
    "    lst1.append(x*1)\n",
    "    print(lst1)\n",
    "    \n"
   ]
  },
  {
   "cell_type": "code",
   "execution_count": 3,
   "id": "81ab9445",
   "metadata": {},
   "outputs": [
    {
     "name": "stdout",
     "output_type": "stream",
     "text": [
      "Hello\n",
      "Hello\n",
      "Hello\n",
      "Hello\n",
      "Hello\n"
     ]
    }
   ],
   "source": [
    "i = 0\n",
    "\n",
    "while i < 5:\n",
    "    print('Hello')\n",
    "    i += 1"
   ]
  },
  {
   "cell_type": "code",
   "execution_count": null,
   "id": "d9ea2725",
   "metadata": {},
   "outputs": [],
   "source": [
    "#For loops - are used to iterate over an iterable. Since we are iterating over an object of finite length - there is a fixed\n",
    "# amount of loops that will be run (unless we keep adding to the iterable being iterated over in the code executed inside\n",
    "# the for loop - in which case, we will get thrown into an infinite loop as well. More on that in a bit). The syntax is:\n",
    "\n",
    "# for <temp_variable> in <iterable>:\n",
    "    #lines of code to be repeated. Usually (but not always) on the elements in the iterable.\n",
    "    #lines of code to be repeated.\n",
    "    #lines of code to be repeated.\n",
    "    \n",
    "\n",
    "# The temporary variable - temporarily and sequentially(one by one), stores the elements in the iterable. \n",
    "x = 20\n",
    "print(x)"
   ]
  },
  {
   "cell_type": "code",
   "execution_count": null,
   "id": "15e94a1b",
   "metadata": {},
   "outputs": [],
   "source": [
    "list1 = [1,2,3,4] #-----------> Iterable to be iterated over.\n",
    "\n",
    "x = 100\n",
    "\n",
    "print(x)"
   ]
  },
  {
   "cell_type": "code",
   "execution_count": null,
   "id": "2d352774",
   "metadata": {},
   "outputs": [],
   "source": [
    "for x in list1:                                   # Here x is the temporary variable and list1 is the iterable to be\n",
    "                                                  # iterated over\n",
    "    print(f'Temp variable {x}.')       # Lines of code to execute inside the for loop. Note the indentation\n",
    "    #print(f'Temp variable x 5 is {x * 5}.')       # inside the for loop to indicate the code to be run repeatedly.\n",
    "\n",
    "print(f'Outside the for loop : {x}.')            # NOTE - how this print statement is outside the for loop and does not \n",
    "                                                  # repeat."
   ]
  },
  {
   "cell_type": "markdown",
   "id": "7e04e6eb",
   "metadata": {},
   "source": [
    "10100\n",
    "00010\n",
    "\n",
    "1010\n",
    "0010\n"
   ]
  },
  {
   "cell_type": "code",
   "execution_count": null,
   "id": "0bf2115b",
   "metadata": {},
   "outputs": [],
   "source": [
    "globaldict = {'x' : 100}\n",
    "\n",
    "globaldict['x'] = 1\n",
    "globaldict['x'] = 2\n",
    "globaldict['x'] = 3\n",
    "globaldict['x'] = 4\n",
    "\n",
    "print(globaldict['x'])"
   ]
  },
  {
   "cell_type": "code",
   "execution_count": null,
   "id": "ed20a724",
   "metadata": {},
   "outputs": [],
   "source": [
    "list1 = [1,2,3,4] #-----------> Iterable\n",
    "\n",
    "x = 25\n",
    "\n",
    "for x in list1:                                # Here x is the temporary variable and list1 is the iterable to be\n",
    "                                               # iterated over\n",
    "    print(f'Temp variable x 2 is {x * 2}.')    # Lines of code to execute inside the for loop. Note the indentation\n",
    "    print(f'Temp variable x 5 is {x * 5}.')    # inside the for loop to indicate the code to be run repeatedly.\n",
    "\n",
    "    \n",
    "print(f'Outside the for loop - {x * 10}.')     # NOTE - how this print statement is outside the for loop and does not repeat.\n",
    "\n",
    "          \n",
    "print(f'What is the value of x now? {x}.')"
   ]
  },
  {
   "cell_type": "code",
   "execution_count": null,
   "id": "55a8d202",
   "metadata": {},
   "outputs": [],
   "source": [
    "#Observe how x has taken the last value of the temporary variable x used inside the for loop. Be careful while choosing\n",
    "# names for your temporary variables. Ensure no conflict with any global variables (or local variables if running a for\n",
    "# loop in a function. More on Global and Local variables in Functions) in your program."
   ]
  },
  {
   "cell_type": "code",
   "execution_count": null,
   "id": "9426724f",
   "metadata": {},
   "outputs": [],
   "source": [
    "globaldict = {'example_var': 20, 'temp_var': 1}\n",
    "\n",
    "globaldict['temp_var'] = 2\n",
    "globaldict['temp_var'] = 3\n",
    "globaldict['temp_var'] = 4"
   ]
  },
  {
   "cell_type": "code",
   "execution_count": null,
   "id": "c3cd4cee",
   "metadata": {},
   "outputs": [],
   "source": [
    "list1 = [1,2,3,4] #-----------> Iterable\n",
    "\n",
    "example_var = 20\n",
    "\n",
    "for temp_var in list1:                                # Here x is the temporary variable and list1 is the iterable to be\n",
    "                                               # iterated over\n",
    "    print(f'Temp variable {temp_var}.')    # Lines of code to execute inside the for loop. Note the indentation\n",
    "    #rint(f'Temp variable x 5 is {temp_var * 5}.')    # inside the for loop to indicate the code to be run repeatedly.\n",
    "print(f'Outside the for loop - {temp_var}.')     # NOTE - how this print statement is outside the for loop and does\n",
    "                                                      # not repeat.\n",
    "\n",
    "          \n",
    "print(f'Example Variable does not change {example_var}.')"
   ]
  },
  {
   "cell_type": "code",
   "execution_count": null,
   "id": "84023d2f",
   "metadata": {},
   "outputs": [],
   "source": [
    "# x = list('abcdefghij')\n",
    "\n",
    "\n",
    "# y = list(range(len(x)))\n",
    "# print(y)\n",
    "# z = []\n",
    "# for a in y:\n",
    "#     if a%2 == 0:\n",
    "#         z.append(x[a])\n",
    "        \n",
    "# print(z)"
   ]
  },
  {
   "cell_type": "code",
   "execution_count": 4,
   "id": "e175b9b0",
   "metadata": {},
   "outputs": [
    {
     "name": "stdout",
     "output_type": "stream",
     "text": [
      "H\n",
      "e\n",
      "l\n",
      "l\n",
      "o\n"
     ]
    }
   ],
   "source": [
    "# Iterating over an iterable using the range function as a proxy for the index numbers. \n",
    "\n",
    "# We have seen while discussing the range and list datatypes, how a range object iterating from 0 to length of an iterable\n",
    "# can be used as a proxy of the index numbers of each element in an iterable. \n",
    "\n",
    "str1 = 'Hello'\n",
    "\n",
    "for temp in str1:\n",
    "    print(temp)\n"
   ]
  },
  {
   "cell_type": "code",
   "execution_count": 5,
   "id": "920e88cc",
   "metadata": {},
   "outputs": [
    {
     "name": "stdout",
     "output_type": "stream",
     "text": [
      "0\n",
      "1\n",
      "2\n",
      "3\n",
      "4\n"
     ]
    }
   ],
   "source": [
    "str1 = 'Hello'\n",
    "\n",
    "for temp in range(len(str1)):\n",
    "    print(temp)"
   ]
  },
  {
   "cell_type": "code",
   "execution_count": 8,
   "id": "ce3d31df",
   "metadata": {},
   "outputs": [
    {
     "name": "stdout",
     "output_type": "stream",
     "text": [
      "e\n"
     ]
    }
   ],
   "source": [
    "str1 = 'Hello'\n",
    "\n",
    "print(str1[1])"
   ]
  },
  {
   "cell_type": "code",
   "execution_count": 6,
   "id": "ff719562",
   "metadata": {},
   "outputs": [
    {
     "name": "stdout",
     "output_type": "stream",
     "text": [
      "H\n",
      "e\n",
      "l\n",
      "l\n",
      "o\n"
     ]
    }
   ],
   "source": [
    "#Note how - when using the range object as a proxy for the index numbers - the <temp> variable is holding the elements of \n",
    "# str1 in the first example and NUMBERS in the second example. We can easily see that the numbers being held in the second\n",
    "# case are the numbers 0 through 4 - which corresponds exactly to the index numbers of the elements in 'Hello'\n",
    "\n",
    "# H e l l o ------> Elements of str1\n",
    "# 0 1 2 3 4 ------> Index numbers of the elements of str1\n",
    "\n",
    "str1 = 'Hello'\n",
    "\n",
    "for temp in range(len(str1)):\n",
    "    print(str1[temp])\n",
    "    \n",
    "# Along with item indexing which works with most derived datatypes in Python (except Sets) - we can access the elements\n",
    "# of the original iterable or even of another iterable. "
   ]
  },
  {
   "cell_type": "code",
   "execution_count": 9,
   "id": "ac5bbcd5",
   "metadata": {},
   "outputs": [
    {
     "name": "stdout",
     "output_type": "stream",
     "text": [
      "0 h-H\n",
      "1 e-E\n",
      "2 l-L\n",
      "3 l-L\n",
      "4 o-O\n"
     ]
    }
   ],
   "source": [
    "str1 = 'hello'\n",
    "str2 = 'HELLO'\n",
    "\n",
    "for temp in range(len(str1)):\n",
    "    print(temp, str1[temp]+\"-\"+str2[temp])"
   ]
  },
  {
   "cell_type": "code",
   "execution_count": null,
   "id": "167d06ad",
   "metadata": {},
   "outputs": [],
   "source": [
    "str1 = 'HELLO MR. CHAPLIN'\n",
    "str2 = 'hello'\n",
    "\n",
    "for temp in range(len(str2)):\n",
    "    print(str1[temp]+\"-\"+str2[temp])"
   ]
  },
  {
   "cell_type": "code",
   "execution_count": null,
   "id": "fbc88925",
   "metadata": {},
   "outputs": [],
   "source": []
  },
  {
   "cell_type": "code",
   "execution_count": null,
   "id": "faa93550",
   "metadata": {},
   "outputs": [],
   "source": [
    "#Note above - since we have only specified that the loop should run till the length of str1 - which is till index 4, rest\n",
    "# of the str2 i.e. \" MR. CHAPLIN\" does not get accessed. \n",
    "\n",
    "str1 = 'hello'\n",
    "str2 = 'HELLO MR. CHAPLIN'\n",
    "\n",
    "for temp in range(len(str2)):\n",
    "    print(str1[temp]+\"-\"+str2[temp])"
   ]
  },
  {
   "cell_type": "code",
   "execution_count": null,
   "id": "c78dcd39",
   "metadata": {},
   "outputs": [],
   "source": [
    "# Note how we are thrown an IndexError. In the second example above - we changed the for loop to run through till the length\n",
    "# of the str2 variable - which is longer than str1. So, when reaching number 5 in the for loop and trying to access the \n",
    "# element at index 5 for str1 - it finds that the Index is 'out of range'. When receiving such an error in your programs\n",
    "# take a long hard look at the length of the variables you are calling the range function on. "
   ]
  },
  {
   "cell_type": "code",
   "execution_count": null,
   "id": "f1f5a5c2",
   "metadata": {},
   "outputs": [],
   "source": [
    "lst1 = [10,20,30,40]\n",
    "\n",
    "print(lst1)\n",
    "\n",
    "lst1[2] = 300\n",
    "\n",
    "print(lst1)"
   ]
  },
  {
   "cell_type": "code",
   "execution_count": null,
   "id": "c7856d27",
   "metadata": {},
   "outputs": [],
   "source": [
    "lst1 = [10,20,30,40]\n",
    "\n",
    "for x in range(len(lst1)):\n",
    "    lst1[x] = lst1[x]+5\n",
    "    \n",
    "\n",
    "print(lst1)\n",
    "    \n"
   ]
  },
  {
   "cell_type": "code",
   "execution_count": 11,
   "id": "4867d492",
   "metadata": {},
   "outputs": [],
   "source": [
    "str1 = 'one flew over the cuckoos nest by ernest hemingway'\n",
    "new_str = ''\n",
    "\n"
   ]
  },
  {
   "cell_type": "code",
   "execution_count": 22,
   "id": "e021c42b",
   "metadata": {},
   "outputs": [
    {
     "name": "stdout",
     "output_type": "stream",
     "text": [
      "Lst1 contents : ['one', 'flew', 'over', 'the', 'cuckoos', 'nest', 'by', 'ernest', 'hemingway']\n",
      "lst2 contents at this point []\n",
      "one\n",
      "Word was changed to first letter upper case at this point --> One\n",
      "lst2 contents after each iteration - ['One']\n",
      "flew\n",
      "Word was changed to first letter upper case at this point --> Flew\n",
      "lst2 contents after each iteration - ['One', 'Flew']\n",
      "over\n",
      "Word was changed to first letter upper case at this point --> Over\n",
      "lst2 contents after each iteration - ['One', 'Flew', 'Over']\n",
      "the\n",
      "Word was changed to first letter upper case at this point --> The\n",
      "lst2 contents after each iteration - ['One', 'Flew', 'Over', 'The']\n",
      "cuckoos\n",
      "Word was changed to first letter upper case at this point --> Cuckoos\n",
      "lst2 contents after each iteration - ['One', 'Flew', 'Over', 'The', 'Cuckoos']\n",
      "nest\n",
      "Word was changed to first letter upper case at this point --> Nest\n",
      "lst2 contents after each iteration - ['One', 'Flew', 'Over', 'The', 'Cuckoos', 'Nest']\n",
      "by\n",
      "Word was changed to first letter upper case at this point --> By\n",
      "lst2 contents after each iteration - ['One', 'Flew', 'Over', 'The', 'Cuckoos', 'Nest', 'By']\n",
      "ernest\n",
      "Word was changed to first letter upper case at this point --> Ernest\n",
      "lst2 contents after each iteration - ['One', 'Flew', 'Over', 'The', 'Cuckoos', 'Nest', 'By', 'Ernest']\n",
      "hemingway\n",
      "Word was changed to first letter upper case at this point --> Hemingway\n",
      "lst2 contents after each iteration - ['One', 'Flew', 'Over', 'The', 'Cuckoos', 'Nest', 'By', 'Ernest', 'Hemingway']\n",
      "One Flew Over The Cuckoos Nest By Ernest Hemingway\n"
     ]
    }
   ],
   "source": [
    "str1 = 'one flew over the cuckoos nest by ernest hemingway'\n",
    "lst1 = str1.split()\n",
    "print(f'Lst1 contents : {lst1}')\n",
    "lst2 = []\n",
    "print(f'lst2 contents at this point {lst2}')    \n",
    "for temp in lst1:\n",
    "    print(temp)\n",
    "    temp_str = temp[0].upper()+temp[1:]\n",
    "    print(f'Word was changed to first letter upper case at this point --> {temp_str}')\n",
    "    lst2.append(temp_str)\n",
    "    print(f'lst2 contents after each iteration - {lst2}')\n",
    "y = ' '.join(lst2)\n",
    "print(y)"
   ]
  },
  {
   "cell_type": "code",
   "execution_count": 14,
   "id": "5fc3219a",
   "metadata": {},
   "outputs": [
    {
     "data": {
      "text/plain": [
       "'One Flew Over The Cuckoos Nest By Ernest Hemingway'"
      ]
     },
     "execution_count": 14,
     "metadata": {},
     "output_type": "execute_result"
    }
   ],
   "source": [
    "lst2 = []\n",
    "for temp in lst1:\n",
    "    temp_str = temp[0].upper()+temp[1:]\n",
    "    lst2.append(temp_str)\n",
    "' '.join(lst2)"
   ]
  },
  {
   "cell_type": "code",
   "execution_count": 23,
   "id": "8f5c76a9",
   "metadata": {},
   "outputs": [
    {
     "name": "stdout",
     "output_type": "stream",
     "text": [
      "O\n",
      "On\n",
      "One\n",
      "One \n",
      "One F\n",
      "One Fl\n",
      "One Fle\n",
      "One Flew\n",
      "One Flew \n",
      "One Flew O\n",
      "One Flew Ov\n",
      "One Flew Ove\n",
      "One Flew Over\n",
      "One Flew Over \n",
      "One Flew Over T\n",
      "One Flew Over Th\n",
      "One Flew Over The\n",
      "One Flew Over The \n",
      "One Flew Over The C\n",
      "One Flew Over The Cu\n",
      "One Flew Over The Cuc\n",
      "One Flew Over The Cuck\n",
      "One Flew Over The Cucko\n",
      "One Flew Over The Cuckoo\n",
      "One Flew Over The Cuckoos\n",
      "One Flew Over The Cuckoos \n",
      "One Flew Over The Cuckoos N\n",
      "One Flew Over The Cuckoos Ne\n",
      "One Flew Over The Cuckoos Nes\n",
      "One Flew Over The Cuckoos Nest\n",
      "One Flew Over The Cuckoos Nest \n",
      "One Flew Over The Cuckoos Nest B\n",
      "One Flew Over The Cuckoos Nest By\n",
      "One Flew Over The Cuckoos Nest By \n",
      "One Flew Over The Cuckoos Nest By E\n",
      "One Flew Over The Cuckoos Nest By Er\n",
      "One Flew Over The Cuckoos Nest By Ern\n",
      "One Flew Over The Cuckoos Nest By Erne\n",
      "One Flew Over The Cuckoos Nest By Ernes\n",
      "One Flew Over The Cuckoos Nest By Ernest\n",
      "One Flew Over The Cuckoos Nest By Ernest \n",
      "One Flew Over The Cuckoos Nest By Ernest H\n",
      "One Flew Over The Cuckoos Nest By Ernest He\n",
      "One Flew Over The Cuckoos Nest By Ernest Hem\n",
      "One Flew Over The Cuckoos Nest By Ernest Hemi\n",
      "One Flew Over The Cuckoos Nest By Ernest Hemin\n",
      "One Flew Over The Cuckoos Nest By Ernest Heming\n",
      "One Flew Over The Cuckoos Nest By Ernest Hemingw\n",
      "One Flew Over The Cuckoos Nest By Ernest Hemingwa\n",
      "One Flew Over The Cuckoos Nest By Ernest Hemingway\n"
     ]
    }
   ],
   "source": [
    "str1 = 'one flew over the cuckoos nest by ernest hemingway'\n",
    "new_str = str1[0].upper()\n",
    "\n",
    "for x in range(1,len(str1)):\n",
    "    print(new_str)\n",
    "    if str1[x-1] == ' ':\n",
    "        new_str += str1[x].upper()\n",
    "    else:\n",
    "        new_str += str1[x]\n",
    "        \n",
    "        \n",
    "        \n",
    "print(new_str)\n",
    "\n",
    "\n",
    "    "
   ]
  },
  {
   "cell_type": "code",
   "execution_count": null,
   "id": "a319615a",
   "metadata": {},
   "outputs": [],
   "source": []
  },
  {
   "cell_type": "code",
   "execution_count": null,
   "id": "35031679",
   "metadata": {},
   "outputs": [],
   "source": [
    "lst1 = str1.split()\n",
    "\n",
    "print(lst1)"
   ]
  },
  {
   "cell_type": "code",
   "execution_count": null,
   "id": "1043d735",
   "metadata": {},
   "outputs": [],
   "source": [
    "lst2 = []"
   ]
  },
  {
   "cell_type": "code",
   "execution_count": null,
   "id": "c1e2ceeb",
   "metadata": {},
   "outputs": [],
   "source": [
    "for x in lst1:\n",
    "    lst2.append(x[0].upper() + x[1:])\n",
    "\n",
    "print(\" \".join(lst2))    \n",
    "    \n",
    "print(lst1)\n",
    "    "
   ]
  },
  {
   "cell_type": "code",
   "execution_count": null,
   "id": "8c6d8353",
   "metadata": {},
   "outputs": [],
   "source": []
  },
  {
   "cell_type": "code",
   "execution_count": null,
   "id": "0df5886a",
   "metadata": {},
   "outputs": [],
   "source": []
  },
  {
   "cell_type": "code",
   "execution_count": null,
   "id": "80fd7bbb",
   "metadata": {},
   "outputs": [],
   "source": []
  },
  {
   "cell_type": "code",
   "execution_count": null,
   "id": "9275a632",
   "metadata": {},
   "outputs": [],
   "source": []
  },
  {
   "cell_type": "code",
   "execution_count": null,
   "id": "3ad452af",
   "metadata": {},
   "outputs": [],
   "source": []
  },
  {
   "cell_type": "code",
   "execution_count": null,
   "id": "f55e1078",
   "metadata": {},
   "outputs": [],
   "source": []
  },
  {
   "cell_type": "code",
   "execution_count": null,
   "id": "995247f9",
   "metadata": {},
   "outputs": [],
   "source": []
  },
  {
   "cell_type": "code",
   "execution_count": 25,
   "id": "1affc3b3",
   "metadata": {},
   "outputs": [],
   "source": [
    "new_str = ''"
   ]
  },
  {
   "cell_type": "code",
   "execution_count": 26,
   "id": "ad08d4a6",
   "metadata": {},
   "outputs": [
    {
     "name": "stdout",
     "output_type": "stream",
     "text": [
      "One Flew Over The Cuckoos Nest By Ernest Hemingway\n"
     ]
    }
   ],
   "source": [
    "for i in range(len(str1)):\n",
    "    if i == 0 or str1[i-1] == ' ':\n",
    "        new_str += str1[i].upper()\n",
    "    else:\n",
    "        new_str += str1[i]\n",
    "#     print(id(new_str))\n",
    "#     print(new_str)\n",
    "print(new_str)\n",
    "        "
   ]
  },
  {
   "cell_type": "code",
   "execution_count": null,
   "id": "494d2ac4",
   "metadata": {},
   "outputs": [],
   "source": []
  },
  {
   "cell_type": "code",
   "execution_count": null,
   "id": "023498c7",
   "metadata": {},
   "outputs": [],
   "source": []
  },
  {
   "cell_type": "code",
   "execution_count": null,
   "id": "02a34be1",
   "metadata": {},
   "outputs": [],
   "source": []
  },
  {
   "cell_type": "code",
   "execution_count": null,
   "id": "f2343c25",
   "metadata": {},
   "outputs": [],
   "source": []
  },
  {
   "cell_type": "code",
   "execution_count": null,
   "id": "fd915268",
   "metadata": {},
   "outputs": [],
   "source": []
  },
  {
   "cell_type": "code",
   "execution_count": null,
   "id": "275c53fa",
   "metadata": {},
   "outputs": [],
   "source": []
  },
  {
   "cell_type": "code",
   "execution_count": null,
   "id": "6e6e2771",
   "metadata": {},
   "outputs": [],
   "source": []
  },
  {
   "cell_type": "code",
   "execution_count": 24,
   "id": "eab05534",
   "metadata": {},
   "outputs": [],
   "source": [
    "new_str = ''"
   ]
  },
  {
   "cell_type": "code",
   "execution_count": null,
   "id": "f677023b",
   "metadata": {},
   "outputs": [],
   "source": [
    "for x in range(len(str1)):\n",
    "    if str1[x-1] == ' ':\n",
    "        new_str += str1[x].upper()\n",
    "    else:\n",
    "        new_str += str1[x]\n",
    "        \n",
    "print(new_str)\n",
    "        "
   ]
  },
  {
   "cell_type": "code",
   "execution_count": null,
   "id": "0ea3834a",
   "metadata": {},
   "outputs": [],
   "source": [
    "lststr = str1.split()\n",
    "\n",
    "print(lststr)"
   ]
  },
  {
   "cell_type": "code",
   "execution_count": null,
   "id": "a4827899",
   "metadata": {},
   "outputs": [],
   "source": [
    "new_str = []\n",
    "\n",
    "y = str1.split()\n",
    "\n",
    "for x in y:\n",
    "    new_str.append(x[0].upper() + x[1:])\n",
    "\n",
    "print (' '.join(new_str))\n"
   ]
  },
  {
   "cell_type": "code",
   "execution_count": null,
   "id": "795d1655",
   "metadata": {},
   "outputs": [],
   "source": []
  },
  {
   "cell_type": "code",
   "execution_count": null,
   "id": "f37cd361",
   "metadata": {},
   "outputs": [],
   "source": []
  },
  {
   "cell_type": "code",
   "execution_count": null,
   "id": "2bae2daa",
   "metadata": {},
   "outputs": [],
   "source": []
  },
  {
   "cell_type": "code",
   "execution_count": null,
   "id": "0870f07d",
   "metadata": {},
   "outputs": [],
   "source": []
  },
  {
   "cell_type": "code",
   "execution_count": null,
   "id": "417bef33",
   "metadata": {},
   "outputs": [],
   "source": []
  },
  {
   "cell_type": "code",
   "execution_count": null,
   "id": "78db1961",
   "metadata": {},
   "outputs": [],
   "source": []
  },
  {
   "cell_type": "code",
   "execution_count": null,
   "id": "b1a11284",
   "metadata": {},
   "outputs": [],
   "source": []
  },
  {
   "cell_type": "code",
   "execution_count": null,
   "id": "8c9eceff",
   "metadata": {},
   "outputs": [],
   "source": [
    "for x in range(len(str1)):\n",
    "    if str1[x-1] == ' ':\n",
    "        new_str += str1[x].upper()\n",
    "    else:\n",
    "        new_str += str1[x]\n",
    "        \n",
    "print(new_str)"
   ]
  },
  {
   "cell_type": "code",
   "execution_count": 27,
   "id": "9be992b7",
   "metadata": {},
   "outputs": [
    {
     "name": "stdout",
     "output_type": "stream",
     "text": [
      "*\n",
      "**\n",
      "***\n",
      "****\n",
      "*****\n",
      "******\n",
      "*******\n",
      "********\n",
      "*********\n",
      "**********\n",
      "***********\n",
      "************\n",
      "*************\n",
      "**************\n",
      "***************\n",
      "****************\n",
      "*****************\n",
      "******************\n",
      "*******************\n",
      "********************\n"
     ]
    }
   ],
   "source": [
    "for x in range(1,21):\n",
    "    print('*'*x)"
   ]
  },
  {
   "cell_type": "code",
   "execution_count": 28,
   "id": "f5766b69",
   "metadata": {},
   "outputs": [
    {
     "name": "stdout",
     "output_type": "stream",
     "text": [
      "          *          \n",
      "          **         \n",
      "         ***         \n",
      "         ****        \n",
      "        *****        \n",
      "        ******       \n",
      "       *******       \n",
      "       ********      \n",
      "      *********      \n",
      "      **********     \n",
      "     ***********     \n",
      "     ************    \n",
      "    *************    \n",
      "    **************   \n",
      "   ***************   \n",
      "   ****************  \n",
      "  *****************  \n",
      "  ****************** \n",
      " ******************* \n",
      " ********************\n"
     ]
    }
   ],
   "source": [
    "y = 21\n",
    "for x in range(1,y):\n",
    "    print(('*'*x).center(y))\n",
    "    "
   ]
  },
  {
   "cell_type": "code",
   "execution_count": null,
   "id": "a379db77",
   "metadata": {},
   "outputs": [],
   "source": [
    "# Nested loops. We can write loops inside loops - called nested loops. \n",
    "\n",
    "# We can write:\n",
    "# for loops inside for loops, \n",
    "# while loops inside while loops\n",
    "# for loops in while loops and \n",
    "# while loops inside for loops\n",
    "\n",
    "# (be very careful using while loops inside for loops. They can be tricky to ensure your update counter does reach a \n",
    "# satisfying condition to have your while loop not get thrown for an infinite loop).\n",
    "\n",
    "# For now, we shall discuss for loops in for loops. "
   ]
  },
  {
   "cell_type": "code",
   "execution_count": null,
   "id": "24d2dced",
   "metadata": {},
   "outputs": [],
   "source": []
  },
  {
   "cell_type": "code",
   "execution_count": 29,
   "id": "9dddec20",
   "metadata": {},
   "outputs": [
    {
     "name": "stdout",
     "output_type": "stream",
     "text": [
      "Outer Loop Value : 0 \t Inner Loop Value : 0.\n",
      "Outer Loop Value : 0 \t Inner Loop Value : 1.\n",
      "Outer Loop Value : 0 \t Inner Loop Value : 2.\n",
      "Outer Loop Value : 1 \t Inner Loop Value : 0.\n",
      "Outer Loop Value : 1 \t Inner Loop Value : 1.\n",
      "Outer Loop Value : 1 \t Inner Loop Value : 2.\n",
      "Outer Loop Value : 2 \t Inner Loop Value : 0.\n",
      "Outer Loop Value : 2 \t Inner Loop Value : 1.\n",
      "Outer Loop Value : 2 \t Inner Loop Value : 2.\n"
     ]
    }
   ],
   "source": [
    "for outer_l in range(3):     \n",
    "    for inner_l in range(3):   \n",
    "        print(f'Outer Loop Value : {outer_l} \\t Inner Loop Value : {inner_l}.')\n",
    "#     print('='*100)\n",
    "#     print('Inner loop reset to 0. Outer loop count increased by 1.')\n",
    "#     print('='*100)"
   ]
  },
  {
   "cell_type": "code",
   "execution_count": null,
   "id": "6d8cd3bc",
   "metadata": {},
   "outputs": [],
   "source": [
    "[[0,0,0,0], [0,1,2,3], [0,2,4,6], [0,3,6,9]]"
   ]
  },
  {
   "cell_type": "code",
   "execution_count": 32,
   "id": "c459c5ec",
   "metadata": {},
   "outputs": [
    {
     "name": "stdout",
     "output_type": "stream",
     "text": [
      "[0]\n",
      "[0, 0]\n",
      "[0, 0, 0]\n",
      "[0, 0, 0, 0]\n",
      "[[0, 0, 0, 0]]\n",
      "[0]\n",
      "[0, 1]\n",
      "[0, 1, 2]\n",
      "[0, 1, 2, 3]\n",
      "[[0, 0, 0, 0], [0, 1, 2, 3]]\n",
      "[0]\n",
      "[0, 2]\n",
      "[0, 2, 4]\n",
      "[0, 2, 4, 6]\n",
      "[[0, 0, 0, 0], [0, 1, 2, 3], [0, 2, 4, 6]]\n",
      "[0]\n",
      "[0, 3]\n",
      "[0, 3, 6]\n",
      "[0, 3, 6, 9]\n",
      "[[0, 0, 0, 0], [0, 1, 2, 3], [0, 2, 4, 6], [0, 3, 6, 9]]\n",
      "[[0, 0, 0, 0], [0, 1, 2, 3], [0, 2, 4, 6], [0, 3, 6, 9]]\n"
     ]
    }
   ],
   "source": [
    "\n",
    "outer_loop = []\n",
    "for outer in range(4):\n",
    "    inner_loop = []\n",
    "    for inner in range(4):\n",
    "        inner_loop.append(outer*inner)\n",
    "        print(inner_loop)\n",
    "    outer_loop.append(inner_loop)\n",
    "    print(outer_loop)\n",
    "    \n",
    "print(outer_loop)\n",
    "        "
   ]
  },
  {
   "cell_type": "code",
   "execution_count": 33,
   "id": "6b13c7e1",
   "metadata": {},
   "outputs": [
    {
     "name": "stdout",
     "output_type": "stream",
     "text": [
      "[[0, 0, 0, 0], [0, 1, 2, 3], [0, 2, 4, 6], [0, 3, 6, 9]]\n"
     ]
    }
   ],
   "source": [
    "outer_loop = [[x*y for y in range(4)] for x in range(4)]\n",
    "\n",
    "print(outer_loop)"
   ]
  },
  {
   "cell_type": "code",
   "execution_count": null,
   "id": "66397d1d",
   "metadata": {},
   "outputs": [],
   "source": [
    "#1 Initialises a list\n",
    "#2 Runs a loop\n",
    "#3 Adds the elements of your output to the initialised list(appends)."
   ]
  },
  {
   "cell_type": "code",
   "execution_count": null,
   "id": "a2215663",
   "metadata": {},
   "outputs": [],
   "source": []
  },
  {
   "cell_type": "code",
   "execution_count": null,
   "id": "b11d5e06",
   "metadata": {},
   "outputs": [],
   "source": []
  },
  {
   "cell_type": "code",
   "execution_count": null,
   "id": "786850cc",
   "metadata": {},
   "outputs": [],
   "source": []
  },
  {
   "cell_type": "code",
   "execution_count": null,
   "id": "3aea1594",
   "metadata": {},
   "outputs": [],
   "source": []
  },
  {
   "cell_type": "code",
   "execution_count": null,
   "id": "5b97ed0d",
   "metadata": {},
   "outputs": [],
   "source": []
  },
  {
   "cell_type": "code",
   "execution_count": null,
   "id": "debf096c",
   "metadata": {},
   "outputs": [],
   "source": [
    "lst1 = []\n",
    "\n",
    "for x in range(4):\n",
    "    inner_lst = []\n",
    "    for y in range(4):\n",
    "        inner_lst.append(x*y)\n",
    "    lst1.append(inner_lst)\n",
    "print(lst1)"
   ]
  },
  {
   "cell_type": "code",
   "execution_count": null,
   "id": "f961062b",
   "metadata": {},
   "outputs": [],
   "source": [
    "lst1 = [[x*y for x in range(4)] for y in range(4)]\n",
    "\n",
    "print(lst1)"
   ]
  },
  {
   "cell_type": "code",
   "execution_count": null,
   "id": "502056ab",
   "metadata": {},
   "outputs": [],
   "source": []
  },
  {
   "cell_type": "code",
   "execution_count": null,
   "id": "2aa5187f",
   "metadata": {},
   "outputs": [],
   "source": []
  },
  {
   "cell_type": "code",
   "execution_count": null,
   "id": "dbb41e92",
   "metadata": {},
   "outputs": [],
   "source": []
  },
  {
   "cell_type": "code",
   "execution_count": null,
   "id": "ae94316c",
   "metadata": {},
   "outputs": [],
   "source": []
  },
  {
   "cell_type": "code",
   "execution_count": null,
   "id": "a896c19d",
   "metadata": {},
   "outputs": [],
   "source": []
  },
  {
   "cell_type": "code",
   "execution_count": null,
   "id": "3fb6fd3a",
   "metadata": {},
   "outputs": [],
   "source": []
  },
  {
   "cell_type": "code",
   "execution_count": null,
   "id": "1f0d2e8f",
   "metadata": {},
   "outputs": [],
   "source": []
  },
  {
   "cell_type": "code",
   "execution_count": null,
   "id": "acd1652e",
   "metadata": {},
   "outputs": [],
   "source": []
  },
  {
   "cell_type": "code",
   "execution_count": null,
   "id": "3ce6aa7d",
   "metadata": {},
   "outputs": [],
   "source": []
  },
  {
   "cell_type": "code",
   "execution_count": null,
   "id": "4a850ab2",
   "metadata": {},
   "outputs": [],
   "source": []
  },
  {
   "cell_type": "code",
   "execution_count": null,
   "id": "8d28dc24",
   "metadata": {},
   "outputs": [],
   "source": [
    "outer_loop = []\n",
    "#inner_loop = []\n",
    "for temp1 in range(1,5): #0,1,2,3,4\n",
    "    inner_loop=[]\n",
    "    for temp2 in range(3): # 0,1,2\n",
    "        inner_loop.append(temp1 * temp2)\n",
    "    outer_loop.append(inner_loop)\n",
    "    \n",
    "print(outer_loop)"
   ]
  },
  {
   "cell_type": "code",
   "execution_count": null,
   "id": "50bef611",
   "metadata": {},
   "outputs": [],
   "source": [
    "outer_loop[0][5] = 4444\n",
    "\n",
    "print(outer_loop)"
   ]
  },
  {
   "cell_type": "code",
   "execution_count": null,
   "id": "2a2d0db5",
   "metadata": {},
   "outputs": [],
   "source": [
    "for x in outer_loop:\n",
    "    print(id(x))"
   ]
  },
  {
   "cell_type": "code",
   "execution_count": null,
   "id": "8aa84bf3",
   "metadata": {},
   "outputs": [],
   "source": [
    "[[0,0,0],[0,0,0,0,1,2], [0,0,0, 0,1,2,0,2,4], [0,0,0, 0,1,2,0,2,4,0,3,6],[0,0,0, 0,1,2,0,2,4,0,3,6,0,4,8]]"
   ]
  },
  {
   "cell_type": "code",
   "execution_count": null,
   "id": "02ea6323",
   "metadata": {},
   "outputs": [],
   "source": [
    "#[0, 0, 0, 0, 1, 2,0,2,4,0,3,6,0,4,8]"
   ]
  },
  {
   "cell_type": "code",
   "execution_count": null,
   "id": "5cffbabd",
   "metadata": {},
   "outputs": [],
   "source": [
    "outer_loop_count = 0\n",
    "inner_loop_count = 0\n",
    "total_count = 1\n",
    "\n",
    "for temp1 in range(5): # ------> The for loop will iterate 5 times - from 0 to 4 with temp1 holding values 0 to 4 sequentially.\n",
    "    inner_loop_count = 0\n",
    "    \n",
    "    for temp2 in range(3): #---> The for loop will iterate 3 times - from 0 to 3 with temp2 holding values 0 to 2 sequentially.\n",
    "        print(f'Outer loop on number {outer_loop_count}.')\n",
    "        print(f'Inner loop on number {inner_loop_count}.')\n",
    "        x = '-'*10 + '>'\n",
    "        y = '<'+'-'*10\n",
    "        print(f'{x}  {temp1} x {temp2} is: {temp1 * temp2}  {y}')\n",
    "        print(f'Total iterations Count {total_count}.')\n",
    "        print('-'*100)\n",
    "        inner_loop_count += 1\n",
    "        total_count += 1\n",
    "    print('='*100)\n",
    "    print(f'Inner loop count reset to 0. Outer loop count increased by 1')\n",
    "    print('='*100)\n",
    "    outer_loop_count += 1"
   ]
  },
  {
   "cell_type": "code",
   "execution_count": null,
   "id": "37ef5b55",
   "metadata": {},
   "outputs": [],
   "source": [
    "str1 = 'abc'\n",
    "\n",
    "for x in str1: # a , b, c\n",
    "    for y in range(5): # 0,1,2,3,4\n",
    "        print(x*y)"
   ]
  },
  {
   "cell_type": "code",
   "execution_count": null,
   "id": "d99ef1d8",
   "metadata": {},
   "outputs": [],
   "source": [
    "print()\n",
    "print()\n",
    "print()"
   ]
  },
  {
   "cell_type": "code",
   "execution_count": null,
   "id": "5f4a602e",
   "metadata": {},
   "outputs": [],
   "source": [
    "print('X')\n",
    "print()\n",
    "print('Y')"
   ]
  },
  {
   "cell_type": "code",
   "execution_count": 34,
   "id": "b80b2152",
   "metadata": {},
   "outputs": [
    {
     "name": "stdout",
     "output_type": "stream",
     "text": [
      "*\n",
      "**\n",
      "***\n",
      "****\n",
      "*****\n",
      "******\n",
      "*******\n",
      "********\n",
      "*********\n",
      "**********\n",
      "***********\n",
      "************\n",
      "*************\n",
      "**************\n",
      "***************\n",
      "****************\n",
      "*****************\n",
      "******************\n",
      "*******************\n",
      "********************\n"
     ]
    }
   ],
   "source": [
    "#Another way to write our cascading stars program shown previously is with a nested for loop. \n",
    "\n",
    "#y = 20\n",
    "for i in range(1,21): # 1,2,3....20\n",
    "    for j in range(1,i+1):   \n",
    "        print('*', end='')\n",
    "    print()\n",
    "\n",
    "# In the above program - line 6 - end=\"\" in the print statement tells the program not to end with \\n which is the default\n",
    "# print parameter but to instead end with nothing ''. Dont send the program to the next line.\n",
    "\n",
    "#However, in line 7 - after having printed the requisite number of stars - we wish the program to print nothin AND move\n",
    "# to the next line. (since '\\n' is anyway the default end parameter - it will just move to the next line)."
   ]
  },
  {
   "cell_type": "code",
   "execution_count": 35,
   "id": "5641c2dc",
   "metadata": {},
   "outputs": [
    {
     "name": "stdout",
     "output_type": "stream",
     "text": [
      "*|\n",
      "*|*|\n",
      "*|*|*|\n",
      "*|*|*|*|\n",
      "*|*|*|*|*|\n",
      "*|*|*|*|*|*|\n",
      "*|*|*|*|*|*|*|\n",
      "*|*|*|*|*|*|*|*|\n",
      "*|*|*|*|*|*|*|*|*|\n",
      "*|*|*|*|*|*|*|*|*|*|\n",
      "*|*|*|*|*|*|*|*|*|*|*|\n",
      "*|*|*|*|*|*|*|*|*|*|*|*|\n",
      "*|*|*|*|*|*|*|*|*|*|*|*|*|\n",
      "*|*|*|*|*|*|*|*|*|*|*|*|*|*|\n",
      "*|*|*|*|*|*|*|*|*|*|*|*|*|*|*|\n",
      "*|*|*|*|*|*|*|*|*|*|*|*|*|*|*|*|\n",
      "*|*|*|*|*|*|*|*|*|*|*|*|*|*|*|*|*|\n",
      "*|*|*|*|*|*|*|*|*|*|*|*|*|*|*|*|*|*|\n",
      "*|*|*|*|*|*|*|*|*|*|*|*|*|*|*|*|*|*|*|\n"
     ]
    }
   ],
   "source": [
    "y = 20\n",
    "for i in range(1,y):\n",
    "    for j in range(1,i+1):\n",
    "        print('*',end='|')\n",
    "    print(end='\\n')\n",
    "\n",
    "# Above - the program will print a '|' after each star and not go to the next line. print() in previous program is the same\n",
    "# as print(end='\\n') in line 5. \n"
   ]
  },
  {
   "cell_type": "code",
   "execution_count": null,
   "id": "19b719d7",
   "metadata": {},
   "outputs": [],
   "source": [
    "# # Types of control flow statements\n",
    "\n",
    "# 1. Sequential statements\n",
    "# 2. Conditional statements\n",
    "\n",
    "# if : 1 If for a suite. If can exist with or without elif and else statements\n",
    "\n",
    "# elif : multiple for a suite. Cannot exist without if. But can be with or without else.\n",
    "\n",
    "\n",
    "# else : 1 for a suite. Cannot exist without if. But can be with or without elif.\n",
    "\n",
    "\n",
    "# 3. Loops\n",
    "\n",
    "# a. For loops - Loops iterate over an iterable. They will run a finite number of times (unless of course logical errors are\n",
    "# made).\n",
    "\n",
    "# b. While loops\n",
    "\n",
    "# Loops are run until while condition becomes false. \n",
    "\n"
   ]
  },
  {
   "cell_type": "code",
   "execution_count": null,
   "id": "919a53e1",
   "metadata": {},
   "outputs": [],
   "source": [
    "# Infinite for loop\n",
    "\n",
    "lst1 = [10,20,30,12]\n",
    "\n",
    "for x in lst1:\n",
    "    lst1.append(x+5)\n",
    "    print(lst1)"
   ]
  },
  {
   "cell_type": "markdown",
   "id": "f5e50246",
   "metadata": {},
   "source": [
    "# While loops"
   ]
  },
  {
   "cell_type": "code",
   "execution_count": null,
   "id": "9bc7baf8",
   "metadata": {},
   "outputs": [],
   "source": [
    "# While loops are useful when we want to run a loop till a certain condition is met. As explained previously, when running\n",
    "# a while loop, it is imperative to give a condition to be met AND to provide an update parameter (there is no compunction\n",
    "# that the update parameter should be inside the while loop - as long as there IS a condition that is updating and gives\n",
    "# indication to the While loop to stop. Usually though the update condition is in the While loop). "
   ]
  },
  {
   "cell_type": "code",
   "execution_count": null,
   "id": "e819df31",
   "metadata": {},
   "outputs": [],
   "source": [
    "count = 0\n",
    "\n",
    "while count < 5:\n",
    "    print('Hi there!')\n",
    "    count += 1"
   ]
  },
  {
   "cell_type": "code",
   "execution_count": 36,
   "id": "a04e03ee",
   "metadata": {},
   "outputs": [
    {
     "name": "stdout",
     "output_type": "stream",
     "text": [
      "\n",
      "*\n",
      "**\n",
      "***\n",
      "****\n",
      "*****\n",
      "******\n",
      "*******\n",
      "********\n",
      "*********\n",
      "**********\n",
      "***********\n",
      "************\n",
      "*************\n",
      "**************\n",
      "***************\n",
      "****************\n",
      "*****************\n",
      "******************\n",
      "*******************\n",
      "********************\n"
     ]
    }
   ],
   "source": [
    "str1 = ''\n",
    "\n",
    "while len(str1) < 20:\n",
    "    print(str1)\n",
    "    str1 += '*'\n",
    "    \n",
    "print(str1)"
   ]
  },
  {
   "cell_type": "code",
   "execution_count": null,
   "id": "a4c0ef60",
   "metadata": {},
   "outputs": [],
   "source": [
    "str1 = 'Betty bought some butter but the butter was bitter so Betty bought some better butter to make the bitter butter better.'\n",
    "lst1 = str1.split()\n",
    "\n",
    "print(lst1)"
   ]
  },
  {
   "cell_type": "code",
   "execution_count": null,
   "id": "9ee2eb51",
   "metadata": {},
   "outputs": [],
   "source": [
    "while 'was' in lst1:\n",
    "    lst1.pop()\n",
    "    \n",
    "print(lst1)"
   ]
  },
  {
   "cell_type": "code",
   "execution_count": null,
   "id": "ceedd292",
   "metadata": {},
   "outputs": [],
   "source": [
    "# Note how we have not specifically updated a parameter inside the while loop, but there IS a condition to be met which is\n",
    "# going to be met due to the execution of our program."
   ]
  },
  {
   "cell_type": "code",
   "execution_count": null,
   "id": "21c94a2d",
   "metadata": {},
   "outputs": [],
   "source": [
    "count = 0\n",
    "\n",
    "while count < 5:\n",
    "    print('Stop me if you can!')\n",
    "    count += 1"
   ]
  },
  {
   "cell_type": "code",
   "execution_count": null,
   "id": "c396352f",
   "metadata": {},
   "outputs": [],
   "source": [
    "# Note the hazardous effects of using the while loop where condition parameter is not updated. "
   ]
  },
  {
   "cell_type": "markdown",
   "id": "73ad9977",
   "metadata": {},
   "source": [
    "#[0,1,1,2,3,5,8] = Fibonnacci sequence"
   ]
  },
  {
   "cell_type": "code",
   "execution_count": null,
   "id": "491d8ffa",
   "metadata": {},
   "outputs": [],
   "source": [
    "[0,1,1,2,3,5,8]"
   ]
  },
  {
   "cell_type": "code",
   "execution_count": 38,
   "id": "8f72fe55",
   "metadata": {},
   "outputs": [
    {
     "name": "stdout",
     "output_type": "stream",
     "text": [
      "[0, 1, 1, 2, 3, 5, 8, 13, 21, 34, 55, 89]\n"
     ]
    }
   ],
   "source": [
    "fibo = [0,1]\n",
    "\n",
    "while fibo[-1]+fibo[-2] < 100:\n",
    "    fibo.append(fibo[-1]+fibo[-2])\n",
    "    \n",
    "print(fibo)"
   ]
  },
  {
   "cell_type": "code",
   "execution_count": null,
   "id": "d418cf9c",
   "metadata": {},
   "outputs": [],
   "source": [
    "fibo = [0,1]\n",
    "\n",
    "\n",
    "while fibo[-1]+fibo[-2] < 100:\n",
    "    fibo.append(fibo[-1]+fibo[-2])\n",
    "\n",
    "print(fibo)"
   ]
  },
  {
   "cell_type": "code",
   "execution_count": null,
   "id": "a97f8cc7",
   "metadata": {},
   "outputs": [],
   "source": []
  },
  {
   "cell_type": "code",
   "execution_count": null,
   "id": "824ded14",
   "metadata": {},
   "outputs": [],
   "source": []
  },
  {
   "cell_type": "code",
   "execution_count": null,
   "id": "084d4ba7",
   "metadata": {},
   "outputs": [],
   "source": []
  },
  {
   "cell_type": "code",
   "execution_count": null,
   "id": "5fe3605b",
   "metadata": {},
   "outputs": [],
   "source": []
  },
  {
   "cell_type": "code",
   "execution_count": null,
   "id": "c5db52da",
   "metadata": {},
   "outputs": [],
   "source": []
  },
  {
   "cell_type": "code",
   "execution_count": null,
   "id": "8d1ce7ae",
   "metadata": {},
   "outputs": [],
   "source": []
  },
  {
   "cell_type": "code",
   "execution_count": null,
   "id": "3f44da23",
   "metadata": {},
   "outputs": [],
   "source": [
    "fibo = [0,1]\n",
    "\n",
    "while fibo[-2]+fibo[-1] < 100:\n",
    "    fibo.append(fibo[-2]+fibo[-1])\n",
    "    #print(fibo)\n",
    "    \n",
    "print(fibo)\n"
   ]
  },
  {
   "cell_type": "code",
   "execution_count": 41,
   "id": "6673623f",
   "metadata": {},
   "outputs": [
    {
     "name": "stdout",
     "output_type": "stream",
     "text": [
      "Python Python Python Python Python \n",
      "is is is is is is is is is is \n",
      "easy easy easy easy easy easy \n",
      "peasy peasy peasy peasy peasy \n"
     ]
    }
   ],
   "source": [
    "lst1 = ['Python', 'is', 'easy', 'peasy']\n",
    "\n",
    "for elem in lst1:\n",
    "    empty_str = ''\n",
    "    while len(empty_str) < 30:\n",
    "        empty_str += elem + ' '\n",
    "    print(empty_str)\n",
    "#Note the use of while loop nested in for loop."
   ]
  },
  {
   "cell_type": "code",
   "execution_count": 42,
   "id": "bed114e2",
   "metadata": {},
   "outputs": [
    {
     "name": "stdout",
     "output_type": "stream",
     "text": [
      "['Python', 'is', 'easy', 'peasy']\n"
     ]
    }
   ],
   "source": [
    "print(lst1)"
   ]
  },
  {
   "cell_type": "code",
   "execution_count": 43,
   "id": "ecc9803d",
   "metadata": {},
   "outputs": [
    {
     "name": "stdout",
     "output_type": "stream",
     "text": [
      "Python is easy peasy Python is easy peasy Python is easy peasy Python is easy peasy Python is easy peasy Python is easy peasy \n"
     ]
    }
   ],
   "source": [
    "x = ''\n",
    "while len(x) < 120:\n",
    "    for i in lst1:\n",
    "        x += i + ' '\n",
    "#         print(x)\n",
    "#     print(len(x))\n",
    "\n",
    "print(x)"
   ]
  },
  {
   "cell_type": "code",
   "execution_count": null,
   "id": "5bc201de",
   "metadata": {},
   "outputs": [],
   "source": [
    "#Note the use of for loop nested in a while loop. "
   ]
  },
  {
   "cell_type": "code",
   "execution_count": null,
   "id": "1ac4b596",
   "metadata": {},
   "outputs": [],
   "source": [
    "#What are the types of control flow statements?\n",
    "#1. Sequential - The program will execute line by line in the order we write it.\n",
    "#2. Decision - Conditional statements which we write if/elif/else\n",
    "#3. Repetition - Code that needs to be repeated n number of times or till certain conditions are met. For loops for iterating\n",
    "# over an iterable and while loop for repeating code till condition is met.\n",
    "\n",
    "#4. Exception Handling\n",
    "\n",
    "#If/elif/else - Can have only one if in a if/elif/else block\n",
    "# Multiple elifs can be there in one block\n",
    "# One else in a block. \n",
    "\n",
    "# if is mandatory for any if/elif/else block.\n",
    "# elif and else are optional\n",
    "\n",
    "# For loops - iterate through an iterable - takes the value of each element in the iterable till iterable reaches end.\n",
    "# while loops - takes a condition and as long as condition is true the code will continue to repeat. \n",
    "\n",
    "# For loops are finite\n",
    "# While loops are infinte by nature - need a condition to become false to stop.\n",
    "\n",
    "# List and dictionary comprehensions are another way to write for loops\n",
    "\n",
    "\n",
    "\n",
    "\n",
    "\n"
   ]
  },
  {
   "cell_type": "code",
   "execution_count": 31,
   "id": "965fbe39",
   "metadata": {},
   "outputs": [],
   "source": [
    "#100s of lines of code\n",
    "\n",
    "def givemedalstostudents():\n",
    "    pass\n",
    "\n",
    "def otherfunction():\n",
    "    print('Hi')\n",
    "\n"
   ]
  },
  {
   "cell_type": "code",
   "execution_count": null,
   "id": "369819cb",
   "metadata": {},
   "outputs": [],
   "source": [
    "pass"
   ]
  },
  {
   "cell_type": "code",
   "execution_count": null,
   "id": "d5f1d8ce",
   "metadata": {},
   "outputs": [],
   "source": []
  },
  {
   "cell_type": "code",
   "execution_count": null,
   "id": "bb5b9130",
   "metadata": {},
   "outputs": [],
   "source": []
  },
  {
   "cell_type": "markdown",
   "id": "d11adfb6",
   "metadata": {},
   "source": [
    "### Break, Continue and Pass keywords."
   ]
  },
  {
   "cell_type": "code",
   "execution_count": 24,
   "id": "ca55f0c9",
   "metadata": {},
   "outputs": [
    {
     "name": "stdout",
     "output_type": "stream",
     "text": [
      "0\n",
      "Hello\n",
      "1\n",
      "Hello\n",
      "2\n",
      "Hello\n",
      "3\n",
      "Hi\n",
      "Hello\n",
      "4\n",
      "Hello\n",
      "5\n",
      "Hi\n",
      "Hello\n",
      "6\n",
      "Hello\n",
      "7\n",
      "Hi\n",
      "Hello\n",
      "8\n",
      "Hello\n",
      "9\n",
      "Hello\n"
     ]
    }
   ],
   "source": [
    "for x in range(10):\n",
    "    print(x)\n",
    "    if x == 5 or x == 7 or x == 3:\n",
    "        print('Hi')\n",
    "    print('Hello')"
   ]
  },
  {
   "cell_type": "code",
   "execution_count": 9,
   "id": "ef943e95",
   "metadata": {},
   "outputs": [
    {
     "name": "stdout",
     "output_type": "stream",
     "text": [
      "x value is 1\n",
      "y value is 1.\n",
      "x+y is 2.\n",
      "y value is 2.\n",
      "x+y is 3.\n",
      "y value is 3.\n",
      "x+y is 4.\n",
      "y value is 4 which is greater than 3 so inner loop breaks here.\n",
      "Inner loop done\n",
      "x value is 2\n",
      "y value is 1.\n",
      "x+y is 3.\n",
      "y value is 2.\n",
      "x+y is 4.\n",
      "y value is 3.\n",
      "x+y is 5.\n",
      "y value is 4 which is greater than 3 so inner loop breaks here.\n",
      "Inner loop done\n"
     ]
    }
   ],
   "source": [
    "for x in range(1,3):\n",
    "    print(f'x value is {x}')\n",
    "    for y in range(1,5):\n",
    "        if y > 3:\n",
    "            print(f'y value is {y} which is greater than 3 so inner loop breaks here.')\n",
    "            break\n",
    "        else:\n",
    "            print(f'y value is {y}.')\n",
    "            print(f'x+y is {x+y}.')\n",
    "    print('Inner loop done')"
   ]
  },
  {
   "cell_type": "code",
   "execution_count": null,
   "id": "c44bc190",
   "metadata": {},
   "outputs": [],
   "source": [
    "for x in range(10):\n",
    "    print('Hello')\n",
    "    if x > 5:\n",
    "        #print('Break keyword is coming')\n",
    "        break\n",
    "        \n",
    "    print('Hi')\n",
    "    "
   ]
  },
  {
   "cell_type": "code",
   "execution_count": null,
   "id": "7ff11729",
   "metadata": {},
   "outputs": [],
   "source": [
    "# The break statement is used in a loop (for or while) to come out of the loop i.e. to break the loop and not continue with\n",
    "# the next iteration. "
   ]
  },
  {
   "cell_type": "code",
   "execution_count": 12,
   "id": "a72c481c",
   "metadata": {},
   "outputs": [
    {
     "name": "stdout",
     "output_type": "stream",
     "text": [
      "{'Kobe Bryant': 1978, 'Michael Jordan': 1963, 'LeBron James': 1984, 'Kareem Abdul-Jabbar': 1947, 'Jerry West': 1938, 'Elgin Baylor': 1934, 'Earvin \"Magic\" Johnson': 1959, 'Larry Bird': 1956}\n"
     ]
    }
   ],
   "source": [
    "legends_NBA = ('Kobe Bryant', 'Michael Jordan', 'LeBron James', 'Kareem Abdul-Jabbar', 'Jerry West', 'Elgin Baylor',\n",
    "               'Earvin \"Magic\" Johnson', 'Larry Bird') \n",
    "               \n",
    "legends_ages = (1978, 1963, 1984, 1947, 1938, 1934,1959, 1956)\n",
    "\n",
    "\n",
    "#print(list(zip(legends_NBA, legends_ages)))\n",
    "\n",
    "dict1 = dict(zip(legends_NBA, legends_ages))\n",
    "\n",
    "print(dict1)"
   ]
  },
  {
   "cell_type": "code",
   "execution_count": null,
   "id": "4c620d7a",
   "metadata": {},
   "outputs": [],
   "source": [
    "for x in range(1,6):\n",
    "    print(f'x is {x}')\n",
    "    print(x*2)\n",
    "    if x == 3 or x == 5:\n",
    "        pass\n",
    "    # another 100 lines\n",
    "    print(x*3)"
   ]
  },
  {
   "cell_type": "code",
   "execution_count": null,
   "id": "7e14e651",
   "metadata": {},
   "outputs": [],
   "source": [
    "break - stops the loop, comes out of it and anything after break is not executed. \n",
    "continue - continues on to the next iteration of the loop, without executing the code that is written below it in that loop\n",
    "pass - passes execution to the next line of code. Usually only used as a placeholder."
   ]
  },
  {
   "cell_type": "code",
   "execution_count": 21,
   "id": "cdf79f46",
   "metadata": {},
   "outputs": [
    {
     "name": "stdout",
     "output_type": "stream",
     "text": [
      "{'Kobe Bryant': 1978, 'Michael Jordan': 1963, 'LeBron James': 1984, 'Kareem Abdul-Jabbar': 1947, 'Jerry West': 1938, 'Elgin Baylor': 1934, 'Earvin \"Magic\" Johnson': 1959, 'Larry Bird': 1956}\n"
     ]
    }
   ],
   "source": [
    "print(dict1)"
   ]
  },
  {
   "cell_type": "code",
   "execution_count": null,
   "id": "a7829558",
   "metadata": {},
   "outputs": [],
   "source": [
    "for x in dict: == for x in dict.keys()"
   ]
  },
  {
   "cell_type": "code",
   "execution_count": 17,
   "id": "c1accab1",
   "metadata": {},
   "outputs": [
    {
     "data": {
      "text/plain": [
       "1978"
      ]
     },
     "execution_count": 17,
     "metadata": {},
     "output_type": "execute_result"
    }
   ],
   "source": [
    "dict1['Kobe Bryant']"
   ]
  },
  {
   "cell_type": "code",
   "execution_count": 32,
   "id": "e24c941f",
   "metadata": {},
   "outputs": [
    {
     "name": "stdout",
     "output_type": "stream",
     "text": [
      "Kobe Bryant was born in 1978.\n",
      "Michael Jordan was born in 1963.\n",
      "LeBron James was born in 1984.\n",
      "Kareem Abdul-Jabbar was born in 1947.\n",
      "Jerry West was born in 1938.\n",
      "Elgin Baylor is the oldest of the NBA Legends and was born in 1934.\n",
      "Elgin Baylor was born in 1934.\n",
      "Earvin \"Magic\" Johnson was born in 1959.\n",
      "Larry Bird was born in 1956.\n"
     ]
    }
   ],
   "source": [
    "for x in dict1:\n",
    "    if dict1[x] == min(dict1.values()):\n",
    "        print(f'{x} is the oldest of the NBA Legends and was born in {dict1[x]}.')\n",
    "        pass\n",
    "    print(f'{x} was born in {dict1[x]}.')"
   ]
  },
  {
   "cell_type": "code",
   "execution_count": null,
   "id": "c1e4aaa1",
   "metadata": {},
   "outputs": [],
   "source": [
    "#Note above how the loop did not continue after the break statement. "
   ]
  },
  {
   "cell_type": "code",
   "execution_count": null,
   "id": "fb9d7372",
   "metadata": {},
   "outputs": [],
   "source": [
    "break - stops the loop immediately as soon as hit\n",
    "continue - stops the rest of the code in that iteration from executing and moves on to the next iteration and begins\n",
    "executing loop from top again. "
   ]
  },
  {
   "cell_type": "code",
   "execution_count": 38,
   "id": "63570635",
   "metadata": {},
   "outputs": [],
   "source": [
    "for x in range(10):\n",
    "    ..."
   ]
  },
  {
   "cell_type": "code",
   "execution_count": null,
   "id": "681877c3",
   "metadata": {},
   "outputs": [],
   "source": [
    "pass is USUALLY (not always used as a place holder)\n",
    "\n"
   ]
  },
  {
   "cell_type": "code",
   "execution_count": 35,
   "id": "4375b918",
   "metadata": {},
   "outputs": [
    {
     "name": "stdout",
     "output_type": "stream",
     "text": [
      "1\n",
      "1\n",
      "2\n",
      "4\n",
      "3\n",
      "9\n",
      "4\n",
      "4 squared is greater than 15\n",
      "16\n",
      "5\n",
      "5 squared is greater than 15\n",
      "25\n",
      "6\n",
      "6 squared is greater than 15\n",
      "36\n",
      "7\n",
      "7 squared is greater than 15\n",
      "49\n",
      "8\n",
      "8 squared is greater than 15\n",
      "64\n",
      "9\n",
      "9 squared is greater than 15\n",
      "81\n"
     ]
    }
   ],
   "source": [
    "for x in range(1,10):\n",
    "    print(x)\n",
    "    if x**2 > 15:\n",
    "        print(f'{x} squared is greater than 15')\n",
    "        pass\n",
    "    print(x**2)"
   ]
  },
  {
   "cell_type": "code",
   "execution_count": null,
   "id": "70e25400",
   "metadata": {},
   "outputs": [],
   "source": [
    "print(dict1)"
   ]
  },
  {
   "cell_type": "code",
   "execution_count": null,
   "id": "d87ed49a",
   "metadata": {},
   "outputs": [],
   "source": [
    "#Continue statement is used in loops to tell the program to go to the next iteration immediately and ignore the rest of \n",
    "# the execution following the continue statement.\n",
    "\n",
    "# for y in dict1:\n",
    "#     print(y)\n",
    "  \n",
    "    \n",
    "for x in dict1:\n",
    "    if dict1[x] == min(dict1.values()):\n",
    "        print((f'----->>  {x} is the oldest of the NBA Legends <<------'))\n",
    "        continue\n",
    "    print(f'{x} was born in {dict1[x]}.')"
   ]
  },
  {
   "cell_type": "code",
   "execution_count": null,
   "id": "81fb7c8f",
   "metadata": {},
   "outputs": [],
   "source": [
    "print(dict1)"
   ]
  },
  {
   "cell_type": "code",
   "execution_count": null,
   "id": "991941fc",
   "metadata": {},
   "outputs": [],
   "source": [
    "for x in dict1:\n",
    "    if dict1[x] == min(dict1.values()):\n",
    "        z = '-'*10 + '>'\n",
    "        print(f'{z}{x} is the oldest of the NBA Legends and was born in {dict1[x]}')\n",
    "        continue\n",
    "    print(f'{x} was born in {dict1[x]}.')"
   ]
  },
  {
   "cell_type": "code",
   "execution_count": null,
   "id": "cf9cfa50",
   "metadata": {},
   "outputs": [],
   "source": [
    "#Note how in the 2nd example, the print statement in line 5 was not executed for 'Elgin Baylor' since the continue\n",
    "# statement was before the print statement in line 5. So, as soon as the if condition was satisfied, we asked the program\n",
    "# to not run the rest of the code and to go to the next iteration immediately."
   ]
  },
  {
   "cell_type": "code",
   "execution_count": null,
   "id": "96abcc21",
   "metadata": {},
   "outputs": [],
   "source": [
    "# The pass statement - is used in Python when we need a statement syntactically but do not want any execution to be done. \n",
    "# The most likely use for it is as a place holder - for some code to be added later. \n"
   ]
  },
  {
   "cell_type": "code",
   "execution_count": null,
   "id": "8aef8599",
   "metadata": {},
   "outputs": [],
   "source": [
    "for x in dict1:\n",
    "    if dict1[x] == min(dict1.values()):\n",
    "        print(f'{x} is the oldest of the NBA Legends and was born in {dict1[x]}')\n",
    "    \n",
    "    \n",
    "    \n",
    "    \n",
    "    \n",
    "    \n",
    "    \n",
    "    print(f'{x} was born in {dict1[x]}.')"
   ]
  },
  {
   "cell_type": "code",
   "execution_count": null,
   "id": "894809cb",
   "metadata": {},
   "outputs": [],
   "source": []
  },
  {
   "cell_type": "code",
   "execution_count": null,
   "id": "3482232c",
   "metadata": {},
   "outputs": [],
   "source": [
    "x = 20\n",
    "\n",
    "if x == 20:\n",
    "    pass\n",
    "else:\n",
    "    print('Something')\n",
    "    \n",
    "    "
   ]
  },
  {
   "cell_type": "code",
   "execution_count": null,
   "id": "8a65ed4a",
   "metadata": {},
   "outputs": [],
   "source": [
    "# Note how after setting y = x, the pass statement allowed the program to continue as if nothing happened. For e.g. \n",
    "# we could not think of the lines to print (or maybe were waiting for the exact wording from our client) - we put a pass \n",
    "# statement there for adding on code later and continue with our program and testing for the time being. Maybe there is a\n",
    "# file that needs to be incorporated in this step but we do not have the file name yet. Or many other examples in real life\n",
    "# where the pass statement could come in handy."
   ]
  },
  {
   "cell_type": "code",
   "execution_count": null,
   "id": "ac0032f5",
   "metadata": {},
   "outputs": [],
   "source": [
    "else with if/elif - else executes ONLY if ifs and elifs have FAILED.\n",
    "else with loops   - else executes ONLY if loop has SUCCEEDED\n",
    "else with try/except blocks - else executes only if try block has SUCCEEDED"
   ]
  },
  {
   "cell_type": "markdown",
   "id": "acac8d44",
   "metadata": {},
   "source": [
    "### The else keyword / suite with loops"
   ]
  },
  {
   "cell_type": "code",
   "execution_count": null,
   "id": "4f9f7d07",
   "metadata": {},
   "outputs": [],
   "source": [
    "for or while loop COMPLETES successfully - then only the else executes.\n",
    "    "
   ]
  },
  {
   "cell_type": "code",
   "execution_count": null,
   "id": "ea54632c",
   "metadata": {},
   "outputs": [],
   "source": [
    "# The else suite. In Python the else condition can be used with for or while loop. This is called an else suite. \n",
    "# It instructs python to run the block of code in the else suite after running the for loop - unless the loop is broken \n",
    "# with the break statement. \n",
    "\n",
    "# If you recall, we could not run the else statement in an if-else conditional statement without the if statement. \n",
    "\n",
    "# Here the else keyword is used with the loop and not as part of an if-elif-else conditional statement."
   ]
  },
  {
   "cell_type": "code",
   "execution_count": null,
   "id": "5d4e9350",
   "metadata": {},
   "outputs": [],
   "source": [
    "else - is used with if / elif block\n",
    "else - is used with for/while loops\n",
    "else - is used with try/except blocks"
   ]
  },
  {
   "cell_type": "code",
   "execution_count": null,
   "id": "ca377e5f",
   "metadata": {},
   "outputs": [],
   "source": [
    "when used with if/elif blocks - else ONLY runs if all the if / elif conditions fail. \n",
    "\n",
    "when used with for/while loops - else ONLY runs if the for/while loop ran successfully\n",
    "\n",
    "when used with try/except blocks - else ONLY runs if the try block ran without exceptions i.e. try block ran successfully."
   ]
  },
  {
   "cell_type": "code",
   "execution_count": 39,
   "id": "f8e51855",
   "metadata": {},
   "outputs": [
    {
     "name": "stdout",
     "output_type": "stream",
     "text": [
      "0\n",
      "1\n",
      "2\n",
      "3\n",
      "4\n",
      "For loop completed successfully\n"
     ]
    }
   ],
   "source": [
    "for x in range(5):\n",
    "    print(x)\n",
    "else:\n",
    "    print('For loop completed successfully')"
   ]
  },
  {
   "cell_type": "code",
   "execution_count": 40,
   "id": "41110575",
   "metadata": {},
   "outputs": [
    {
     "name": "stdout",
     "output_type": "stream",
     "text": [
      "0\n",
      "1\n",
      "2\n",
      "3\n",
      "4\n",
      "While loop completed successfully\n"
     ]
    }
   ],
   "source": [
    "count = 0\n",
    "\n",
    "while count < 5:\n",
    "    print(count)\n",
    "    count += 1\n",
    "else:\n",
    "    print('While loop completed successfully')"
   ]
  },
  {
   "cell_type": "code",
   "execution_count": 50,
   "id": "98f12312",
   "metadata": {},
   "outputs": [
    {
     "name": "stdout",
     "output_type": "stream",
     "text": [
      "a\n",
      "b\n",
      "c\n",
      "d\n",
      "e\n",
      "f\n",
      "value of x is f.\n",
      "value of x outside the for loop f.\n"
     ]
    }
   ],
   "source": [
    "for x in 'abcdef':\n",
    "    print(x)\n",
    "    if x == 'D':\n",
    "        break\n",
    "else:\n",
    "    print(f'value of x is {x}.')\n",
    "    \n",
    "    \n",
    "print(f'value of x outside the for loop {x}.')"
   ]
  },
  {
   "cell_type": "code",
   "execution_count": 46,
   "id": "c44d7059",
   "metadata": {},
   "outputs": [
    {
     "name": "stdout",
     "output_type": "stream",
     "text": [
      "0\n",
      "1\n",
      "2\n",
      "3\n",
      "4\n",
      "5\n",
      "6\n",
      "7\n",
      "8\n",
      "9\n",
      "Loop completed successfully\n"
     ]
    }
   ],
   "source": [
    "for x in range(10):\n",
    "    print(x)\n",
    "    if x > 5:\n",
    "        continue\n",
    "        print('Hi')\n",
    "else:\n",
    "    print('Loop completed successfully')"
   ]
  },
  {
   "cell_type": "code",
   "execution_count": null,
   "id": "cecedb3f",
   "metadata": {},
   "outputs": [],
   "source": []
  },
  {
   "cell_type": "code",
   "execution_count": null,
   "id": "1bb4cc2a",
   "metadata": {},
   "outputs": [],
   "source": []
  },
  {
   "cell_type": "code",
   "execution_count": null,
   "id": "80cea8b1",
   "metadata": {},
   "outputs": [],
   "source": []
  },
  {
   "cell_type": "code",
   "execution_count": null,
   "id": "94ab9354",
   "metadata": {},
   "outputs": [],
   "source": []
  },
  {
   "cell_type": "code",
   "execution_count": 51,
   "id": "91792eda",
   "metadata": {},
   "outputs": [
    {
     "name": "stdout",
     "output_type": "stream",
     "text": [
      "{'Kobe Bryant': 1978, 'Michael Jordan': 1963, 'LeBron James': 1984, 'Kareem Abdul-Jabbar': 1947, 'Jerry West': 1938, 'Elgin Baylor': 1934, 'Earvin \"Magic\" Johnson': 1959, 'Larry Bird': 1956}\n"
     ]
    }
   ],
   "source": [
    "legends_NBA = ('Kobe Bryant', 'Michael Jordan', 'LeBron James', 'Kareem Abdul-Jabbar', 'Jerry West', 'Elgin Baylor',\n",
    "               'Earvin \"Magic\" Johnson', 'Larry Bird') \n",
    "               \n",
    "legends_ages = (1978, 1963, 1984, 1947, 1938, 1934,1959, 1956)\n",
    "\n",
    "dict1 = dict(zip(legends_NBA, legends_ages))\n",
    "\n",
    "print(dict1)"
   ]
  },
  {
   "cell_type": "code",
   "execution_count": null,
   "id": "a6ee908c",
   "metadata": {},
   "outputs": [],
   "source": [
    "if suite, else keyword is used to execute code if the if / elifs conditions FAIL\n",
    "\n",
    "\n",
    "In a loop (for or while loop), the else keyword is used to execute code that runs only when the loop is successful."
   ]
  },
  {
   "cell_type": "code",
   "execution_count": 53,
   "id": "75d8fec5",
   "metadata": {},
   "outputs": [
    {
     "name": "stdout",
     "output_type": "stream",
     "text": [
      "Kobe Bryant was born in 1978.\n",
      "Michael Jordan was born in 1963.\n",
      "LeBron James was born in 1984.\n",
      "Kareem Abdul-Jabbar was born in 1947.\n",
      "Jerry West was born in 1938.\n",
      "Elgin Baylor was born in 1934.\n",
      "Earvin \"Magic\" Johnson was born in 1959.\n",
      "Larry Bird was born in 1956.\n",
      "There is no NBA Legend born in 1960.\n"
     ]
    }
   ],
   "source": [
    "y = 1960\n",
    "\n",
    "for x in dict1:\n",
    "    print(f'{x} was born in {dict1[x]}.')\n",
    "    if dict1[x] == y:\n",
    "        print(f'{x} was an NBA player and born in {y}.')\n",
    "        break\n",
    "else:\n",
    "    print(f'There is no NBA Legend born in {y}.')"
   ]
  },
  {
   "cell_type": "code",
   "execution_count": 55,
   "id": "cd090f39",
   "metadata": {},
   "outputs": [
    {
     "name": "stdout",
     "output_type": "stream",
     "text": [
      "Indian Rupee Send me some!\n",
      "US Dollar Send me some!\n",
      "Euro Send me some!\n",
      "Canadian Dollar Send me some!\n",
      "Monopoly Money?? That is not currency. Thats tissue paper!\n",
      "British Pound Send me some!\n",
      "Singapore Dollar Send me some!\n",
      "UAE Dirham Send me some!\n",
      "Zimbabwe Dollar Send me some!\n",
      "Mexican Peso Send me some!\n",
      "Japanese Yen Send me some!\n",
      "All the rest are valid currencies. Want to send some to my bank account?\n"
     ]
    }
   ],
   "source": [
    "curr = ['Indian Rupee', 'US Dollar', 'Euro', 'Canadian Dollar', 'Monopoly Money', 'British Pound','Singapore Dollar',\n",
    "        'UAE Dirham', 'Zimbabwe Dollar', 'Mexican Peso', 'Japanese Yen']\n",
    "\n",
    "invalid_curr = 'Monopoly Money'\n",
    "idx = 0\n",
    "\n",
    "while idx < len(curr): \n",
    "    if curr[idx] == invalid_curr:\n",
    "        print(f'{curr[idx]}?? That is not currency. Thats tissue paper!')\n",
    "        idx += 1\n",
    "        continue\n",
    "    print(curr[idx], 'Send me some!')\n",
    "    idx += 1\n",
    "else:\n",
    "    print(f'All the rest are valid currencies. Want to send some to my bank account?')"
   ]
  },
  {
   "cell_type": "code",
   "execution_count": null,
   "id": "1697c350",
   "metadata": {},
   "outputs": [],
   "source": [
    "for x in range(3):\n",
    "    print(f'Outer loop value is : {x}.')\n",
    "    if x > 1:\n",
    "        break\n",
    "    else:\n",
    "        for y in range(5):\n",
    "            if y > 3:\n",
    "                break\n",
    "            else:\n",
    "                print(f'Inner loop value is {y}')"
   ]
  },
  {
   "cell_type": "code",
   "execution_count": 1,
   "id": "91163512",
   "metadata": {},
   "outputs": [
    {
     "name": "stdout",
     "output_type": "stream",
     "text": [
      "1510\n"
     ]
    }
   ],
   "source": [
    "print(-(-3020>>1))"
   ]
  },
  {
   "cell_type": "code",
   "execution_count": null,
   "id": "98dd4aec",
   "metadata": {},
   "outputs": [],
   "source": []
  }
 ],
 "metadata": {
  "kernelspec": {
   "display_name": "Python 3 (ipykernel)",
   "language": "python",
   "name": "python3"
  },
  "language_info": {
   "codemirror_mode": {
    "name": "ipython",
    "version": 3
   },
   "file_extension": ".py",
   "mimetype": "text/x-python",
   "name": "python",
   "nbconvert_exporter": "python",
   "pygments_lexer": "ipython3",
   "version": "3.9.13"
  }
 },
 "nbformat": 4,
 "nbformat_minor": 5
}
