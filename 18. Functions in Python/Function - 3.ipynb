{
 "cells": [
  {
   "cell_type": "markdown",
   "id": "0c07a6a2",
   "metadata": {},
   "source": [
    "### Map()\n",
    "\n",
    "- It also takes two arguments, where the first argument is a function (named function or anonymous function) and the second element will have to be an iterable\n",
    "- The function that we will pass in the map() that should have 1 argument only\n",
    "- It performs a specific operation on each element of the iterable and retrurns us a map object\n",
    "- To fetch the values from the map object we have to typecast it to either a list or a tuple \n",
    "\n",
    "        Syntax:\n",
    "        \n",
    "                map(function, iterable) ----> named function\n",
    "                map(lambda argument: operation, iterable)------> anonynous function"
   ]
  },
  {
   "cell_type": "code",
   "execution_count": 1,
   "id": "2af0dc3b",
   "metadata": {},
   "outputs": [
    {
     "data": {
      "text/plain": [
       "[1, 2, 3, 4, 5, 6, 7, 8, 9, 10]"
      ]
     },
     "execution_count": 1,
     "metadata": {},
     "output_type": "execute_result"
    }
   ],
   "source": [
    "lst = [i for i in range(1,11)]\n",
    "lst"
   ]
  },
  {
   "cell_type": "code",
   "execution_count": 2,
   "id": "971d81ef",
   "metadata": {},
   "outputs": [
    {
     "name": "stdout",
     "output_type": "stream",
     "text": [
      "[5, 10, 15, 20, 25, 30, 35, 40, 45, 50]\n"
     ]
    }
   ],
   "source": [
    "# write a program which multiple every element of the list with 5\n",
    "\n",
    "res = []\n",
    "\n",
    "for i in lst:\n",
    "    res.append(i*5)\n",
    "    \n",
    "print(res)"
   ]
  },
  {
   "cell_type": "code",
   "execution_count": 6,
   "id": "f8577d8f",
   "metadata": {},
   "outputs": [],
   "source": [
    "# named function\n",
    "def multiple(a):\n",
    "    x = a*5\n",
    "    return x"
   ]
  },
  {
   "cell_type": "code",
   "execution_count": 7,
   "id": "fd8c9101",
   "metadata": {},
   "outputs": [],
   "source": [
    "a = list(map(multiple, lst))"
   ]
  },
  {
   "cell_type": "code",
   "execution_count": 8,
   "id": "bc66b3af",
   "metadata": {},
   "outputs": [
    {
     "data": {
      "text/plain": [
       "[5, 10, 15, 20, 25, 30, 35, 40, 45, 50]"
      ]
     },
     "execution_count": 8,
     "metadata": {},
     "output_type": "execute_result"
    }
   ],
   "source": [
    "a"
   ]
  },
  {
   "cell_type": "code",
   "execution_count": 9,
   "id": "f2f954b1",
   "metadata": {},
   "outputs": [
    {
     "data": {
      "text/plain": [
       "[5, 10, 15, 20, 25, 30, 35, 40, 45, 50]"
      ]
     },
     "execution_count": 9,
     "metadata": {},
     "output_type": "execute_result"
    }
   ],
   "source": [
    "# anonymous function\n",
    "\n",
    "res = list(map(lambda x:x*5, lst))\n",
    "res"
   ]
  },
  {
   "cell_type": "code",
   "execution_count": 10,
   "id": "6de84074",
   "metadata": {},
   "outputs": [
    {
     "data": {
      "text/plain": [
       "[1, 4, 9, 16, 25, 36, 49, 64, 81, 100]"
      ]
     },
     "execution_count": 10,
     "metadata": {},
     "output_type": "execute_result"
    }
   ],
   "source": [
    "# write a function to give the square of the elemenst inside the list\n",
    "\n",
    "res = list(map(lambda x : x**2, lst))\n",
    "res\n"
   ]
  },
  {
   "cell_type": "code",
   "execution_count": 14,
   "id": "6ba67e38",
   "metadata": {},
   "outputs": [
    {
     "data": {
      "text/plain": [
       "[1, 3, 5, 7, 9]"
      ]
     },
     "execution_count": 14,
     "metadata": {},
     "output_type": "execute_result"
    }
   ],
   "source": [
    "# write a program to get the odd values form the list\n",
    "\n",
    "r = list(filter(lambda i:i%2!=0,lst))\n",
    "r"
   ]
  },
  {
   "cell_type": "markdown",
   "id": "8372bddf",
   "metadata": {},
   "source": [
    "#### write a program to filter first the numbers divisible by both 2 and 5 between 1 tp 50 and then get the cube of all the elements inside the list"
   ]
  },
  {
   "cell_type": "code",
   "execution_count": 16,
   "id": "3a4dcbe5",
   "metadata": {},
   "outputs": [
    {
     "name": "stdout",
     "output_type": "stream",
     "text": [
      "[10, 20, 30, 40, 50]\n",
      "[1000, 8000, 27000, 64000, 125000]\n"
     ]
    }
   ],
   "source": [
    "lst = [i for i in range(1,51)]\n",
    "lst\n",
    "res = list(filter(lambda x :  x % 2 == 0 and x % 5 == 0 , lst))\n",
    "cube = list(map(lambda x : x**3, res))\n",
    "print(res)\n",
    "print(cube)\n"
   ]
  },
  {
   "cell_type": "code",
   "execution_count": 19,
   "id": "b484d7c2",
   "metadata": {},
   "outputs": [
    {
     "data": {
      "text/plain": [
       "[1000, 8000, 27000, 64000, 125000]"
      ]
     },
     "execution_count": 19,
     "metadata": {},
     "output_type": "execute_result"
    }
   ],
   "source": [
    "lst = [i for i in range(1,51)]\n",
    "lst\n",
    "lst2 = list(map(lambda x:x**3, filter(lambda x:x%2==0 and x%5 ==0 , lst)))\n",
    "lst2"
   ]
  },
  {
   "cell_type": "code",
   "execution_count": 20,
   "id": "8fb8f7ca",
   "metadata": {},
   "outputs": [
    {
     "data": {
      "text/plain": [
       "[1000, 8000, 27000, 64000, 125000]"
      ]
     },
     "execution_count": 20,
     "metadata": {},
     "output_type": "execute_result"
    }
   ],
   "source": [
    "lst3 = list(filter(lambda x:x %2 ==0 and x%5==0, map(lambda x:x**3, lst)))\n",
    "lst3"
   ]
  },
  {
   "cell_type": "code",
   "execution_count": 22,
   "id": "41c36722",
   "metadata": {},
   "outputs": [
    {
     "data": {
      "text/plain": [
       "[1,\n",
       " 8,\n",
       " 27,\n",
       " 64,\n",
       " 125,\n",
       " 216,\n",
       " 343,\n",
       " 512,\n",
       " 729,\n",
       " 1000,\n",
       " 1331,\n",
       " 1728,\n",
       " 2197,\n",
       " 2744,\n",
       " 3375,\n",
       " 4096,\n",
       " 4913,\n",
       " 5832,\n",
       " 6859,\n",
       " 8000,\n",
       " 9261,\n",
       " 10648,\n",
       " 12167,\n",
       " 13824,\n",
       " 15625,\n",
       " 17576,\n",
       " 19683,\n",
       " 21952,\n",
       " 24389,\n",
       " 27000,\n",
       " 29791,\n",
       " 32768,\n",
       " 35937,\n",
       " 39304,\n",
       " 42875,\n",
       " 46656,\n",
       " 50653,\n",
       " 54872,\n",
       " 59319,\n",
       " 64000,\n",
       " 68921,\n",
       " 74088,\n",
       " 79507,\n",
       " 85184,\n",
       " 91125,\n",
       " 97336,\n",
       " 103823,\n",
       " 110592,\n",
       " 117649,\n",
       " 125000]"
      ]
     },
     "execution_count": 22,
     "metadata": {},
     "output_type": "execute_result"
    }
   ],
   "source": [
    "a = list(map(lambda x:x**3, lst))\n",
    "a"
   ]
  },
  {
   "cell_type": "code",
   "execution_count": 23,
   "id": "19c10d60",
   "metadata": {},
   "outputs": [
    {
     "data": {
      "text/plain": [
       "[1000, 8000, 27000, 64000, 125000]"
      ]
     },
     "execution_count": 23,
     "metadata": {},
     "output_type": "execute_result"
    }
   ],
   "source": [
    "res = list(filter(lambda x:x %2 ==0 and x%5==0, a))\n",
    "res\n",
    "    "
   ]
  },
  {
   "cell_type": "code",
   "execution_count": 24,
   "id": "159ef3e4",
   "metadata": {},
   "outputs": [
    {
     "data": {
      "text/plain": [
       "[1000, 8000, 27000, 64000, 125000]"
      ]
     },
     "execution_count": 24,
     "metadata": {},
     "output_type": "execute_result"
    }
   ],
   "source": [
    "lst4 = list(map(lambda x:x**3, filter(lambda x: x%2 ==0 and x%5==0, [i for i in range(1,51)])))\n",
    "lst4"
   ]
  },
  {
   "cell_type": "markdown",
   "id": "6a8b24cd",
   "metadata": {},
   "source": [
    "map(funcion, filter(function, list comprehension))"
   ]
  },
  {
   "cell_type": "markdown",
   "id": "0bede225",
   "metadata": {},
   "source": [
    "### Reduce()\n",
    "\n",
    "- It is available in the functool module of python\n",
    "- It is used to perform aggregation operations on the value of an iterable\n",
    "- Aggregation operations - Sum, multiple, division, max, min and average \n",
    "- It will take two arguments, where the first argument is a function and the second argument is an itearble\n",
    "- The function that we will pass in the reduce function should have two arguments in it\n",
    "- It is going to return 1 single value\n",
    "- To use reduce(), we have to import functool module first"
   ]
  },
  {
   "cell_type": "code",
   "execution_count": 27,
   "id": "5167e3ef",
   "metadata": {},
   "outputs": [
    {
     "data": {
      "text/plain": [
       "[1, 2, 3, 4, 5, 6, 7, 8, 9, 10]"
      ]
     },
     "execution_count": 27,
     "metadata": {},
     "output_type": "execute_result"
    }
   ],
   "source": [
    "lst = [i for i in range(1,11)]\n",
    "lst"
   ]
  },
  {
   "cell_type": "code",
   "execution_count": 28,
   "id": "8d900787",
   "metadata": {},
   "outputs": [
    {
     "name": "stdout",
     "output_type": "stream",
     "text": [
      "55\n"
     ]
    }
   ],
   "source": [
    "#cummilative sum\n",
    "\n",
    "s = 0\n",
    "\n",
    "for i in lst:\n",
    "    s = s+i\n",
    "    \n",
    "print(s)"
   ]
  },
  {
   "cell_type": "code",
   "execution_count": 31,
   "id": "c48ff38d",
   "metadata": {},
   "outputs": [
    {
     "data": {
      "text/plain": [
       "55"
      ]
     },
     "execution_count": 31,
     "metadata": {},
     "output_type": "execute_result"
    }
   ],
   "source": [
    "from functools import reduce\n",
    "\n",
    "reduce(lambda x,y :x+y, lst)"
   ]
  },
  {
   "cell_type": "code",
   "execution_count": null,
   "id": "0e39575f",
   "metadata": {},
   "outputs": [],
   "source": [
    "x = 1, y = 2------x+y = 3\n",
    "x = 3, y = 3 -----x+y = 6\n",
    "x = 6, y = 4 ----- x+y = 10\n",
    "x = 10, y = 5 ----- x+y = 15\\\n",
    "x = 15, y = 6 ------ x+y = 21\n",
    "x = 21, y = 7 ----- x+y = 28\n",
    "x = 28, y = 8 -----x +y = 36\n",
    "x = 36, y = 9 ------x+y = 45\n",
    "x = 45, y =10 ----- x+y = 55"
   ]
  },
  {
   "cell_type": "code",
   "execution_count": 32,
   "id": "ca1de7d4",
   "metadata": {},
   "outputs": [
    {
     "data": {
      "text/plain": [
       "3628800"
      ]
     },
     "execution_count": 32,
     "metadata": {},
     "output_type": "execute_result"
    }
   ],
   "source": [
    "reduce(lambda x, y: x*y, lst)"
   ]
  },
  {
   "cell_type": "code",
   "execution_count": 34,
   "id": "d40addb7",
   "metadata": {},
   "outputs": [
    {
     "data": {
      "text/plain": [
       "10"
      ]
     },
     "execution_count": 34,
     "metadata": {},
     "output_type": "execute_result"
    }
   ],
   "source": [
    "reduce(lambda x, y: x if x>y else y, lst)"
   ]
  },
  {
   "cell_type": "markdown",
   "id": "a3225949",
   "metadata": {},
   "source": [
    "### Map vs Reduce\n",
    "\n",
    "- Map() perform a specific operation on each element of the iterable seperately\n",
    "- Reduce() perform the aggregation on all the element (not one by one seperately)"
   ]
  },
  {
   "cell_type": "markdown",
   "id": "527b2a17",
   "metadata": {},
   "source": [
    "### Recursive function\n",
    "\n",
    "- When a function calls itself then they are called recursive functions\n",
    "- Once the process is initited, it will execute the code infinite times if we don't terminate the code"
   ]
  },
  {
   "cell_type": "code",
   "execution_count": 35,
   "id": "b604cc35",
   "metadata": {},
   "outputs": [],
   "source": [
    "def recursive():\n",
    "    code\n",
    "    code\n",
    "    recursive()"
   ]
  },
  {
   "cell_type": "code",
   "execution_count": 60,
   "id": "e283f2cb",
   "metadata": {},
   "outputs": [],
   "source": [
    "def password(pas):\n",
    "    \n",
    "    face_pas = 'ABC@123'\n",
    "    \n",
    "    if pas == face_pas:\n",
    "        print('You have successfully logged in')\n",
    "    else:\n",
    "        print('Incorrect Password')\n",
    "        password(input('Enter the Password: ')) # this is a function call which is calling the function itself"
   ]
  },
  {
   "cell_type": "code",
   "execution_count": 61,
   "id": "2c2764b9",
   "metadata": {},
   "outputs": [
    {
     "name": "stdout",
     "output_type": "stream",
     "text": [
      "Enter the Password: makckqnsk\n",
      "Incorrect Password\n",
      "Enter the Password: jsdbfjkbsak\n",
      "Incorrect Password\n",
      "Enter the Password: asdjkbvksbvdkjbk\n",
      "Incorrect Password\n",
      "Enter the Password: hscvhsbdkbv\n",
      "Incorrect Password\n",
      "Enter the Password: ABC@123\n",
      "You have successfully logged in\n"
     ]
    }
   ],
   "source": [
    "password(input('Enter the Password: '))"
   ]
  },
  {
   "cell_type": "code",
   "execution_count": 43,
   "id": "949897ba",
   "metadata": {},
   "outputs": [],
   "source": [
    "def factorial(n):\n",
    "    '''Functionality: This function gives me the factorial of any number'''\n",
    "    if n == 0:\n",
    "        return 1\n",
    "    else:\n",
    "        return n*factorial(n-1)"
   ]
  },
  {
   "cell_type": "code",
   "execution_count": 44,
   "id": "5372289a",
   "metadata": {},
   "outputs": [
    {
     "data": {
      "text/plain": [
       "120"
      ]
     },
     "execution_count": 44,
     "metadata": {},
     "output_type": "execute_result"
    }
   ],
   "source": [
    "factorial(5)"
   ]
  },
  {
   "cell_type": "code",
   "execution_count": null,
   "id": "15909562",
   "metadata": {},
   "outputs": [],
   "source": [
    "n = 5 ---- 5*24\n",
    "n = 4 -----4 *6\n",
    "n = 3 ----- 3*2\n",
    "n = 2 ---- 2* 1\n",
    "n = 1 ----- 1 *1\n",
    "n = 0 -----1"
   ]
  },
  {
   "cell_type": "code",
   "execution_count": null,
   "id": "09966c70",
   "metadata": {},
   "outputs": [],
   "source": [
    "a = 0, b =1, c= a+b = 1\n",
    "a = 1, b = 1, c = a+b = 2\n",
    "a = 1, b = 2, c = a+vb = 3\n",
    "a = 2, b = 3, c = a+b = 5, "
   ]
  },
  {
   "cell_type": "code",
   "execution_count": null,
   "id": "5b2b3b07",
   "metadata": {},
   "outputs": [],
   "source": [
    "0,1,1,2,3,5,8,13,21"
   ]
  },
  {
   "cell_type": "code",
   "execution_count": 57,
   "id": "346107f3",
   "metadata": {},
   "outputs": [
    {
     "data": {
      "text/plain": [
       "[0, 1, 1, 2, 3]"
      ]
     },
     "execution_count": 57,
     "metadata": {},
     "output_type": "execute_result"
    }
   ],
   "source": [
    "def fibbo(n):\n",
    "    '''Functionality: It will give me the fibbonaci series till the given number element'''\n",
    "    \n",
    "    if n<=0:\n",
    "        print ('Invalid Input')\n",
    "    elif n == 1:\n",
    "        return [0]\n",
    "    elif n == 2:\n",
    "        return [0,1]\n",
    "    else:\n",
    "        fib_series = fibbo(n-1) #[0,1,1]\n",
    "        \n",
    "        \n",
    "    fib_series.append(fib_series[-1]+fib_series[-2])\n",
    "    return fib_series\n",
    "\n",
    "n = 5\n",
    "result = fibbo(n)\n",
    "result\n",
    "        "
   ]
  },
  {
   "cell_type": "code",
   "execution_count": 54,
   "id": "7a6eb97a",
   "metadata": {},
   "outputs": [
    {
     "ename": "SyntaxError",
     "evalue": "cannot assign to expression (902357965.py, line 1)",
     "output_type": "error",
     "traceback": [
      "\u001b[1;36m  Cell \u001b[1;32mIn[54], line 1\u001b[1;36m\u001b[0m\n\u001b[1;33m    n = 5 ---- fib_series = fibbo(4)\u001b[0m\n\u001b[1;37m        ^\u001b[0m\n\u001b[1;31mSyntaxError\u001b[0m\u001b[1;31m:\u001b[0m cannot assign to expression\n"
     ]
    }
   ],
   "source": [
    "n = 5 ---- fib_series = [0,1,1,2,3]\n",
    "n = 4 ------ fib_series = [0,1,1,2]\n",
    "n = 3 ----- fib_series = [0,1,1]\n",
    "n = 2 ------ fib_Series = [0,1]"
   ]
  },
  {
   "cell_type": "markdown",
   "id": "81a05a1a",
   "metadata": {},
   "source": [
    "### Function Properties\n",
    "\n",
    "- Function aliasing\n",
    "- A function can be passed as an argument to another function \n",
    "- A function definition can be written inside another function (nested function)\n",
    "- A function can be called inside another function (recursive function)\n",
    "- A function may return as a function "
   ]
  },
  {
   "cell_type": "markdown",
   "id": "f70800b8",
   "metadata": {},
   "source": [
    "### Function aliasing\n",
    "\n",
    "- Assigning a function to a variable is known as function aliasing\n",
    "- Giving some other name to an existing function is knowns as function aliasing"
   ]
  },
  {
   "cell_type": "code",
   "execution_count": 1,
   "id": "9f333544",
   "metadata": {},
   "outputs": [],
   "source": [
    "def add(x,y):\n",
    "    c = x+y\n",
    "    return c"
   ]
  },
  {
   "cell_type": "code",
   "execution_count": 9,
   "id": "8102f0d4",
   "metadata": {},
   "outputs": [],
   "source": [
    "x = add # function aliasing"
   ]
  },
  {
   "cell_type": "code",
   "execution_count": 10,
   "id": "09cc623f",
   "metadata": {},
   "outputs": [
    {
     "name": "stdout",
     "output_type": "stream",
     "text": [
      "<function add at 0x000002129E2FDC60> <class 'function'>\n"
     ]
    }
   ],
   "source": [
    "print(add, type(add))"
   ]
  },
  {
   "cell_type": "code",
   "execution_count": 11,
   "id": "a18709d1",
   "metadata": {},
   "outputs": [
    {
     "name": "stdout",
     "output_type": "stream",
     "text": [
      "<function add at 0x000002129E2FDC60> <class 'function'>\n"
     ]
    }
   ],
   "source": [
    "print(x, type(x))"
   ]
  },
  {
   "cell_type": "code",
   "execution_count": 12,
   "id": "a8e16f17",
   "metadata": {},
   "outputs": [
    {
     "data": {
      "text/plain": [
       "3"
      ]
     },
     "execution_count": 12,
     "metadata": {},
     "output_type": "execute_result"
    }
   ],
   "source": [
    "add(1,2)"
   ]
  },
  {
   "cell_type": "code",
   "execution_count": 13,
   "id": "0caeccb1",
   "metadata": {},
   "outputs": [
    {
     "data": {
      "text/plain": [
       "3"
      ]
     },
     "execution_count": 13,
     "metadata": {},
     "output_type": "execute_result"
    }
   ],
   "source": [
    "x(1,2)"
   ]
  },
  {
   "cell_type": "code",
   "execution_count": 14,
   "id": "40af784a",
   "metadata": {},
   "outputs": [
    {
     "data": {
      "text/plain": [
       "150"
      ]
     },
     "execution_count": 14,
     "metadata": {},
     "output_type": "execute_result"
    }
   ],
   "source": [
    "add(100,50)"
   ]
  },
  {
   "cell_type": "code",
   "execution_count": 15,
   "id": "e3f103b2",
   "metadata": {},
   "outputs": [
    {
     "data": {
      "text/plain": [
       "150"
      ]
     },
     "execution_count": 15,
     "metadata": {},
     "output_type": "execute_result"
    }
   ],
   "source": [
    "x(100,50)"
   ]
  },
  {
   "cell_type": "markdown",
   "id": "2daba900",
   "metadata": {},
   "source": [
    "#### A function can be passed as an argumnet inside another function "
   ]
  },
  {
   "cell_type": "code",
   "execution_count": 30,
   "id": "1ceabf8b",
   "metadata": {},
   "outputs": [],
   "source": [
    "def add(x,y):\n",
    "    c = x+y\n",
    "    return c\n",
    "\n",
    "def sub(a,b):\n",
    "    return a-b\n",
    "\n",
    "def mul(a,b):\n",
    "    return a*b"
   ]
  },
  {
   "cell_type": "code",
   "execution_count": 27,
   "id": "aec72268",
   "metadata": {},
   "outputs": [],
   "source": [
    "def squaring_of_num(func,a,b):\n",
    "    '''Sqaure is going to call an existing function(add or sub)\n",
    "        x and y are the parameter which the square function will pass to the existing function as an argument\n",
    "        and it will first perform the function (add or sub) on the values of x and y \n",
    "        and then return the square of that function'''\n",
    "    s = func(a,b) #----> add(1,2) ---->3\n",
    "    print(s) #---->3 \n",
    "    return s**2 #----> 9"
   ]
  },
  {
   "cell_type": "code",
   "execution_count": 29,
   "id": "5257c0be",
   "metadata": {},
   "outputs": [
    {
     "name": "stdout",
     "output_type": "stream",
     "text": [
      "9\n"
     ]
    },
    {
     "data": {
      "text/plain": [
       "81"
      ]
     },
     "execution_count": 29,
     "metadata": {},
     "output_type": "execute_result"
    }
   ],
   "source": [
    "squaring_of_num(add,5,4)"
   ]
  },
  {
   "cell_type": "code",
   "execution_count": 24,
   "id": "ee647a9b",
   "metadata": {},
   "outputs": [
    {
     "name": "stdout",
     "output_type": "stream",
     "text": [
      "2\n"
     ]
    },
    {
     "data": {
      "text/plain": [
       "4"
      ]
     },
     "execution_count": 24,
     "metadata": {},
     "output_type": "execute_result"
    }
   ],
   "source": [
    "square(sub,9,7)"
   ]
  },
  {
   "cell_type": "code",
   "execution_count": 25,
   "id": "58e55181",
   "metadata": {},
   "outputs": [
    {
     "name": "stdout",
     "output_type": "stream",
     "text": [
      "300\n"
     ]
    },
    {
     "data": {
      "text/plain": [
       "90000"
      ]
     },
     "execution_count": 25,
     "metadata": {},
     "output_type": "execute_result"
    }
   ],
   "source": [
    "square(add, 100, 200)"
   ]
  },
  {
   "cell_type": "code",
   "execution_count": null,
   "id": "c9b415ba",
   "metadata": {},
   "outputs": [],
   "source": [
    "def add(a,b):\n",
    "    return a+b\n",
    "\n",
    "def sq(x,y):\n",
    "    s=add(x,y)\n",
    "    return s**2\n",
    "\n",
    "print(sq(1,2))\n"
   ]
  },
  {
   "cell_type": "code",
   "execution_count": 31,
   "id": "47dbd087",
   "metadata": {},
   "outputs": [
    {
     "name": "stdout",
     "output_type": "stream",
     "text": [
      "63\n"
     ]
    },
    {
     "data": {
      "text/plain": [
       "3969"
      ]
     },
     "execution_count": 31,
     "metadata": {},
     "output_type": "execute_result"
    }
   ],
   "source": [
    "squaring_of_num(mul,9,7)"
   ]
  },
  {
   "cell_type": "markdown",
   "id": "206d4628",
   "metadata": {},
   "source": [
    "#### A function can return another function "
   ]
  },
  {
   "cell_type": "code",
   "execution_count": 39,
   "id": "6e1bc294",
   "metadata": {},
   "outputs": [],
   "source": [
    "def outer():\n",
    "    def inner():\n",
    "        c = 'Hello guys'\n",
    "        return c\n",
    "    return inner()"
   ]
  },
  {
   "cell_type": "code",
   "execution_count": 40,
   "id": "a617cb85",
   "metadata": {},
   "outputs": [
    {
     "name": "stdout",
     "output_type": "stream",
     "text": [
      "Hello guys\n"
     ]
    }
   ],
   "source": [
    "s = outer()\n",
    "print(s)"
   ]
  },
  {
   "cell_type": "code",
   "execution_count": 43,
   "id": "64bc61f7",
   "metadata": {},
   "outputs": [],
   "source": [
    "# function returning another function and a function defined in another function\n",
    "def create_multipler(factor):\n",
    "    def multiplier(x):\n",
    "        return x*factor\n",
    "    return multiplier"
   ]
  },
  {
   "cell_type": "code",
   "execution_count": 47,
   "id": "c507c349",
   "metadata": {},
   "outputs": [
    {
     "name": "stdout",
     "output_type": "stream",
     "text": [
      "70\n"
     ]
    }
   ],
   "source": [
    "multiply_by_5 = create_multipler(7) # function aliasing\n",
    "\n",
    "result = multiply_by_5(10)\n",
    "print(result)"
   ]
  },
  {
   "cell_type": "markdown",
   "id": "094bd351",
   "metadata": {},
   "source": [
    "### Decorator "
   ]
  },
  {
   "cell_type": "code",
   "execution_count": 62,
   "id": "d51c8ed2",
   "metadata": {},
   "outputs": [
    {
     "name": "stdout",
     "output_type": "stream",
     "text": [
      "division by zero\n",
      "None\n"
     ]
    }
   ],
   "source": [
    "def handle_divide_by_zero(func):\n",
    "    def wrapper(a,b):\n",
    "        try:\n",
    "            result = func(a,b)\n",
    "            return result\n",
    "        except Exception as e:\n",
    "            print(e)\n",
    "            \n",
    "    return wrapper \n",
    "@handle_divide_by_zero\n",
    "def divide(a,b):\n",
    "    return a/b\n",
    "\n",
    "result = divide(10,0)\n",
    "print(result)\n",
    "        \n",
    "            \n",
    "            "
   ]
  },
  {
   "cell_type": "code",
   "execution_count": null,
   "id": "17460f99",
   "metadata": {},
   "outputs": [],
   "source": [
    "Compile type error(syntax) and run time error(exception)"
   ]
  }
 ],
 "metadata": {
  "kernelspec": {
   "display_name": "Python 3 (ipykernel)",
   "language": "python",
   "name": "python3"
  },
  "language_info": {
   "codemirror_mode": {
    "name": "ipython",
    "version": 3
   },
   "file_extension": ".py",
   "mimetype": "text/x-python",
   "name": "python",
   "nbconvert_exporter": "python",
   "pygments_lexer": "ipython3",
   "version": "3.11.5"
  }
 },
 "nbformat": 4,
 "nbformat_minor": 5
}
