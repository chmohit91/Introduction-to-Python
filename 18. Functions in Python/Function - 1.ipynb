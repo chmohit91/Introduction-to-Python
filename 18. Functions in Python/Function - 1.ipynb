{
 "cells": [
  {
   "cell_type": "markdown",
   "id": "ead12125",
   "metadata": {},
   "source": [
    "### Functions"
   ]
  },
  {
   "cell_type": "code",
   "execution_count": null,
   "id": "9da41624",
   "metadata": {},
   "outputs": [],
   "source": [
    "# What are functions?\n",
    "\n",
    "# We are writing a program for a banking application. \n",
    "\n",
    "# Once a client has clicked on check balance - we send him sms with balance\n",
    "# once a client has sent out a payment - we send sms with balance\n",
    "# Once client has received a payment - we send sms with balance\n",
    "# Once bank has deducted charges - we send sms with balance.\n",
    "\n",
    "# funtion to send sms. <fsms> \n",
    "\n",
    "\n",
    "# 1 Click on check balance - fsms\n",
    "# 2 Sent out payment - fsms\n",
    "# 3 Received payment - fsms\n",
    "# 4 Deducted charges - fsms"
   ]
  },
  {
   "cell_type": "code",
   "execution_count": null,
   "id": "5614b993",
   "metadata": {},
   "outputs": [],
   "source": [
    "def funct1(a,b):\n",
    "    print(a*b)"
   ]
  },
  {
   "cell_type": "code",
   "execution_count": null,
   "id": "72ea0ebc",
   "metadata": {},
   "outputs": [],
   "source": [
    "funct1(10,20)"
   ]
  },
  {
   "cell_type": "code",
   "execution_count": null,
   "id": "f70093a0",
   "metadata": {},
   "outputs": [],
   "source": [
    "funct1(5,50)"
   ]
  },
  {
   "cell_type": "code",
   "execution_count": null,
   "id": "a85e3a6c",
   "metadata": {},
   "outputs": [],
   "source": [
    "funct1('Rikki',7)"
   ]
  },
  {
   "cell_type": "code",
   "execution_count": null,
   "id": "f2fa5b75",
   "metadata": {},
   "outputs": [],
   "source": [
    "funct1(35,0.2)"
   ]
  },
  {
   "cell_type": "code",
   "execution_count": null,
   "id": "c0011a4b",
   "metadata": {},
   "outputs": [],
   "source": [
    "# Parameters <required values> are passed in function definitions. \n",
    "# Arguments are values passed to parameters."
   ]
  },
  {
   "cell_type": "code",
   "execution_count": null,
   "id": "c233fb0a",
   "metadata": {},
   "outputs": [],
   "source": [
    "# How to create a function - defining a function.\n",
    "\n",
    "# Function header\n",
    "\n",
    "# 1. def keyword\n",
    "# 2. Followed by a function name - (user-defined) which must follow identifier rules.\n",
    "# 3. Followed by parenthesis - which may or may not include temporary variable names <positional or keyword - more on \n",
    "# this later> which are the parameters the function requires. \n",
    "# 4. The function header ends with : <colon>\n",
    "    \n",
    "# Indented block of code\n",
    "\n",
    "# A. docstring - Text that the user may input to explain about the function - maybe its uses, the parameters required and \n",
    "# their datatype limitations, outputs expected from function, default parameters being taken etc. It MUST come immediately\n",
    "# after header and usually is put in triple quotes <though single or double quotes can be used, if required>.\n",
    "\n",
    "# 1. To signify the code that is part of the function. \n",
    "# 2. This may or may not include a return keyword. Return keyword makes some output of the function accessible outside the\n",
    "# function.  \n",
    "#    - without return keyword - the function will only perform a desired action with no output. \n",
    "#    - with return keyword - the values following the return keyword are output from the function and made available outside \n",
    "#    the function.\n",
    "# 3. Once indentation ends - the function body ends i.e. rest of the code is NOT considered part of the function.\n",
    "\n",
    "# How to use a function - function calls. \n",
    "\n",
    "# We call a function by writing the function name followed by parenthesis and pass the arguments required for the parameters\n",
    "# <if any> before closing the parenthesis."
   ]
  },
  {
   "cell_type": "code",
   "execution_count": null,
   "id": "9f4ab03b",
   "metadata": {},
   "outputs": [],
   "source": [
    "# Function Definition\n",
    "\n",
    "def vidhya_M():    # Function header\n",
    "    ''' Docstring'''     # Docstring\n",
    "    print('Hi There')\n",
    "    return 'Hello'"
   ]
  },
  {
   "cell_type": "code",
   "execution_count": null,
   "id": "ce72c9f9",
   "metadata": {},
   "outputs": [],
   "source": [
    "\n",
    "# Function call \n",
    "\n",
    "vidhya_M()\n",
    "\n",
    "b = 20\n",
    "b"
   ]
  },
  {
   "cell_type": "code",
   "execution_count": null,
   "id": "279e2904",
   "metadata": {},
   "outputs": [],
   "source": [
    "var1 = vidhya_M()"
   ]
  },
  {
   "cell_type": "code",
   "execution_count": null,
   "id": "7eb4e849",
   "metadata": {},
   "outputs": [],
   "source": [
    "print(var1)"
   ]
  },
  {
   "cell_type": "code",
   "execution_count": null,
   "id": "7e796879",
   "metadata": {},
   "outputs": [],
   "source": [
    "def vidhya_M():    # Function header\n",
    "    ''' Docstring'''     # Docstring\n",
    "    print('Hi There')\n",
    "    "
   ]
  },
  {
   "cell_type": "code",
   "execution_count": null,
   "id": "0b147d8e",
   "metadata": {},
   "outputs": [],
   "source": [
    "vidhya_M()"
   ]
  },
  {
   "cell_type": "code",
   "execution_count": null,
   "id": "80ad80d3",
   "metadata": {},
   "outputs": [],
   "source": [
    "var1 = vidhya_M()\n"
   ]
  },
  {
   "cell_type": "code",
   "execution_count": null,
   "id": "581f5c3f",
   "metadata": {},
   "outputs": [],
   "source": [
    "print(var1)"
   ]
  },
  {
   "cell_type": "code",
   "execution_count": null,
   "id": "5799e81f",
   "metadata": {},
   "outputs": [],
   "source": [
    "def vidhya_M(rakesh):    # Function header\n",
    "    ''' Docstring'''     # Docstring\n",
    "    print('Hi There'*rakesh)\n",
    "    return 'Hello' * rakesh"
   ]
  },
  {
   "cell_type": "code",
   "execution_count": null,
   "id": "568e5bf5",
   "metadata": {},
   "outputs": [],
   "source": [
    "var1 = vidhya_M(3)\n",
    "\n"
   ]
  },
  {
   "cell_type": "code",
   "execution_count": null,
   "id": "ad70da05",
   "metadata": {},
   "outputs": [],
   "source": [
    "print(var1)"
   ]
  },
  {
   "cell_type": "code",
   "execution_count": null,
   "id": "a5e80b23",
   "metadata": {},
   "outputs": [],
   "source": [
    "# Docstring - used to explain about the function by user."
   ]
  },
  {
   "cell_type": "code",
   "execution_count": null,
   "id": "a9aa3d4a",
   "metadata": {},
   "outputs": [],
   "source": [
    "def funct1():\n",
    "    '''Some information about the function\n",
    "    Some more information\n",
    "    Some more information\n",
    "    Some more information\n",
    "    Some more information'''\n",
    "    return 1000"
   ]
  },
  {
   "cell_type": "code",
   "execution_count": null,
   "id": "c562ddaf",
   "metadata": {},
   "outputs": [],
   "source": [
    "funct1()"
   ]
  },
  {
   "cell_type": "code",
   "execution_count": null,
   "id": "5a9f4643",
   "metadata": {},
   "outputs": [],
   "source": [
    "# must come immediately after the header\n",
    "def funct1():\n",
    "    x = 10\n",
    "    '''Some information about the function\n",
    "    Some more information\n",
    "    Some more information\n",
    "    Some more information\n",
    "    Some more information'''\n",
    "    return 1000"
   ]
  },
  {
   "cell_type": "code",
   "execution_count": null,
   "id": "55313c5c",
   "metadata": {},
   "outputs": [],
   "source": [
    "funct1()"
   ]
  },
  {
   "cell_type": "code",
   "execution_count": null,
   "id": "a3c2e4c6",
   "metadata": {},
   "outputs": [],
   "source": [
    "def funct1():\n",
    "    '''Some information about the function\n",
    "    Some more information\n",
    "    Some more information\n",
    "    Some more information\n",
    "    Some more information'''\n",
    "    return 1000"
   ]
  },
  {
   "cell_type": "code",
   "execution_count": null,
   "id": "a79e0b5b",
   "metadata": {},
   "outputs": [],
   "source": [
    "funct1()"
   ]
  },
  {
   "cell_type": "code",
   "execution_count": null,
   "id": "90c25b9a",
   "metadata": {},
   "outputs": [],
   "source": [
    "# __doc__ is the variable where the docstring is stored."
   ]
  },
  {
   "cell_type": "code",
   "execution_count": null,
   "id": "61c9c6e0",
   "metadata": {},
   "outputs": [],
   "source": [
    "print(funct1.__doc__)"
   ]
  },
  {
   "cell_type": "code",
   "execution_count": null,
   "id": "9d452a9e",
   "metadata": {},
   "outputs": [],
   "source": [
    "funct1.__doc__ = ''' New Docstring\n",
    "New Docstring\n",
    "New Docstring'''"
   ]
  },
  {
   "cell_type": "code",
   "execution_count": null,
   "id": "ebf84d85",
   "metadata": {},
   "outputs": [],
   "source": [
    "print(funct1.__doc__)"
   ]
  },
  {
   "cell_type": "code",
   "execution_count": null,
   "id": "4502ecc6",
   "metadata": {},
   "outputs": [],
   "source": [
    "# help on the function - by using the help function. This will include all pertinent information about your function - \n",
    "# including the docstring\n",
    "\n",
    "print(help(funct1))"
   ]
  },
  {
   "cell_type": "code",
   "execution_count": null,
   "id": "fcb70b48",
   "metadata": {},
   "outputs": [],
   "source": [
    "help(funct1)"
   ]
  },
  {
   "cell_type": "code",
   "execution_count": null,
   "id": "c05246df",
   "metadata": {},
   "outputs": [],
   "source": [
    "def funct1(a,b):\n",
    "    return a+b, a*b\n",
    "\n",
    "\n"
   ]
  },
  {
   "cell_type": "code",
   "execution_count": null,
   "id": "52fa0648",
   "metadata": {},
   "outputs": [],
   "source": [
    "var1,var2 = funct1(10,20)\n",
    "\n",
    "print(var1)\n",
    "print(var2)"
   ]
  },
  {
   "cell_type": "code",
   "execution_count": null,
   "id": "fc89dde6",
   "metadata": {},
   "outputs": [],
   "source": [
    "var1 = 30,200\n",
    "\n",
    "print(var1)\n",
    "print(type(var1))"
   ]
  },
  {
   "cell_type": "code",
   "execution_count": null,
   "id": "aa2263ef",
   "metadata": {},
   "outputs": [],
   "source": [
    "# Parameters - arguments that functions take. \n",
    "\n",
    "# Positional\n",
    "  # - arbitary (*args)\n",
    "\n",
    "# Keyword arguments\n",
    "  # - keyword arbitary (**kwargs)"
   ]
  },
  {
   "cell_type": "code",
   "execution_count": null,
   "id": "0e9842b2",
   "metadata": {},
   "outputs": [],
   "source": [
    "def funct1(a,b):\n",
    "    return a/b\n",
    "\n"
   ]
  },
  {
   "cell_type": "code",
   "execution_count": null,
   "id": "c0b40c55",
   "metadata": {},
   "outputs": [],
   "source": [
    "print(funct1(100,20))"
   ]
  },
  {
   "cell_type": "code",
   "execution_count": null,
   "id": "50d5e002",
   "metadata": {},
   "outputs": [],
   "source": [
    "def welcome(name, hotel):\n",
    "    print(f'Welcome {name} to {hotel}.')"
   ]
  },
  {
   "cell_type": "code",
   "execution_count": null,
   "id": "e2b2832b",
   "metadata": {},
   "outputs": [],
   "source": [
    "welcome('Bharath', 'The Four Seasons')"
   ]
  },
  {
   "cell_type": "code",
   "execution_count": null,
   "id": "2371164c",
   "metadata": {},
   "outputs": [],
   "source": [
    "welcome('The Four Seasons', 'Bharath')"
   ]
  },
  {
   "cell_type": "code",
   "execution_count": null,
   "id": "9a1aaafa",
   "metadata": {},
   "outputs": [],
   "source": [
    "def welcome(name, hotel):\n",
    "    print(f'{hotel} welcomes {name} to our hotel. We hope you enjoy your stay {name}')\n",
    "    \n",
    "    "
   ]
  },
  {
   "cell_type": "code",
   "execution_count": null,
   "id": "12e9c7f5",
   "metadata": {},
   "outputs": [],
   "source": [
    "welcome('Rafiya', 'The Ritz-Carlton')"
   ]
  },
  {
   "cell_type": "code",
   "execution_count": null,
   "id": "a5c09eae",
   "metadata": {},
   "outputs": [],
   "source": [
    "# We can give arguments to positional parameters - as if they were keywords\n",
    "\n",
    "welcome(hotel='The Ritz-Carlton', name = 'Rafiya')"
   ]
  },
  {
   "cell_type": "code",
   "execution_count": null,
   "id": "063e900c",
   "metadata": {},
   "outputs": [],
   "source": [
    "welcome('Rafiya', hotel = 'The Ritz-Carlton')"
   ]
  },
  {
   "cell_type": "code",
   "execution_count": null,
   "id": "c5ca60ea",
   "metadata": {},
   "outputs": [],
   "source": [
    "# One limitation of mixing and matching positional and keyword arguments is that keyword arguments must ALWAYS follow \n",
    "# positional arguments being settled.\n",
    "\n",
    "welcome(hotel='The Ritz-Carlton', 'Rafiya')"
   ]
  },
  {
   "cell_type": "code",
   "execution_count": null,
   "id": "51512126",
   "metadata": {},
   "outputs": [],
   "source": [
    "# Second limitation <sort of> - is that we must know the positions of the parameters and/or the keyword variable names\n",
    "\n",
    "welcome('Rafiya', Hotel='The Ritz-Carlton')"
   ]
  },
  {
   "cell_type": "code",
   "execution_count": null,
   "id": "7b18fedd",
   "metadata": {},
   "outputs": [],
   "source": [
    "def bankbalance(balance, payments, receipts):\n",
    "    return balance - payments + receipts"
   ]
  },
  {
   "cell_type": "code",
   "execution_count": null,
   "id": "71dc4069",
   "metadata": {},
   "outputs": [],
   "source": [
    "bal1 = bankbalance(100000,20000,30000)\n",
    "\n",
    "print(bal1)"
   ]
  },
  {
   "cell_type": "code",
   "execution_count": null,
   "id": "0574607c",
   "metadata": {},
   "outputs": [],
   "source": [
    "bal2 = bankbalance(100000,20000,receipts = 30000)\n",
    "\n",
    "print(bal2)"
   ]
  },
  {
   "cell_type": "code",
   "execution_count": null,
   "id": "e0083156",
   "metadata": {},
   "outputs": [],
   "source": [
    "bal2 = bankbalance(100000,20000,rcpts = 30000)\n",
    "\n",
    "print(bal2)"
   ]
  },
  {
   "cell_type": "code",
   "execution_count": null,
   "id": "5fa0d110",
   "metadata": {},
   "outputs": [],
   "source": [
    "# keyword arguments\n",
    "\n",
    "def welcome(name = None, hotel = None):\n",
    "    print(f'Welcome {name} to {hotel}')"
   ]
  },
  {
   "cell_type": "code",
   "execution_count": null,
   "id": "c955a431",
   "metadata": {},
   "outputs": [],
   "source": [
    "welcome(name = 'Bharath', hotel = 'The Holiday Inn')"
   ]
  },
  {
   "cell_type": "code",
   "execution_count": null,
   "id": "f3be9e05",
   "metadata": {},
   "outputs": [],
   "source": [
    "welcome()"
   ]
  },
  {
   "cell_type": "code",
   "execution_count": null,
   "id": "2a09d9a9",
   "metadata": {},
   "outputs": [],
   "source": [
    "def welcome(name = 'Bharath', hotel = 'The Holiday Inn'):\n",
    "    print(f'Welcome {name} to {hotel}')"
   ]
  },
  {
   "cell_type": "code",
   "execution_count": null,
   "id": "83679c21",
   "metadata": {},
   "outputs": [],
   "source": [
    "welcome()"
   ]
  },
  {
   "cell_type": "code",
   "execution_count": null,
   "id": "5667f42f",
   "metadata": {},
   "outputs": [],
   "source": [
    "welcome(name = 'Taniya', hotel = 'The Taj')"
   ]
  },
  {
   "cell_type": "code",
   "execution_count": null,
   "id": "d06540e4",
   "metadata": {},
   "outputs": [],
   "source": [
    "welcome(name = 'Taniya')"
   ]
  },
  {
   "cell_type": "code",
   "execution_count": null,
   "id": "861f9c70",
   "metadata": {},
   "outputs": [],
   "source": [
    "welcome(hotel = 'The Taj')"
   ]
  },
  {
   "cell_type": "code",
   "execution_count": null,
   "id": "3b8e6d82",
   "metadata": {},
   "outputs": [],
   "source": [
    "welcome('Taniya', 'The Taj')"
   ]
  },
  {
   "cell_type": "code",
   "execution_count": null,
   "id": "ae3f93ea",
   "metadata": {},
   "outputs": [],
   "source": [
    "welcome(hotel = 'The Taj', 'Taniya')"
   ]
  },
  {
   "cell_type": "code",
   "execution_count": null,
   "id": "bff37947",
   "metadata": {},
   "outputs": [],
   "source": [
    "def welcome(hotel = 'The Holiday Inn', 'Bharath'):\n",
    "    print(f'Welcome Bharat to {hotel}')"
   ]
  },
  {
   "cell_type": "code",
   "execution_count": null,
   "id": "1b650bad",
   "metadata": {},
   "outputs": [],
   "source": [
    "# Arbitary arguments\n",
    "\n",
    "def funct1(x,y,z,a,b,c):\n",
    "    classmarks = {}\n",
    "    classmarks[x] = None\n",
    "    classmarks[y] = None\n",
    "    classmarks[z] = None\n",
    "    classmarks[a] = None\n",
    "    classmarks[b] = None\n",
    "    classmarks[c] = None\n",
    "    return classmarks"
   ]
  },
  {
   "cell_type": "code",
   "execution_count": null,
   "id": "e896a23f",
   "metadata": {},
   "outputs": [],
   "source": [
    "cMarks = funct1('Bharath', 'Ashish', 'Taniya', 'Minati','Antara','Sachin')\n",
    "\n",
    "print(cMarks)"
   ]
  },
  {
   "cell_type": "code",
   "execution_count": null,
   "id": "0ef56b14",
   "metadata": {},
   "outputs": [],
   "source": [
    "def funct1(*names):\n",
    "    print(names)\n",
    "    print(type(names))\n",
    "    classmarks = {}\n",
    "    for name in names:\n",
    "        classmarks[name] = None\n",
    "    return classmarks"
   ]
  },
  {
   "cell_type": "code",
   "execution_count": null,
   "id": "21780bb1",
   "metadata": {},
   "outputs": [],
   "source": [
    "cMarks = funct1('Bharath', 'Ashish', 'Taniya', 'Minati','Antara','Sachin')\n",
    "\n",
    "print(cMarks)"
   ]
  },
  {
   "cell_type": "code",
   "execution_count": null,
   "id": "f9f6cb21",
   "metadata": {},
   "outputs": [],
   "source": [
    "cMarks = funct1('Bharath', 'Ashish', 'Taniya', 'Minati','Antara','Sachin', 'Sameer', 'Ravi')\n",
    "\n",
    "print(cMarks)"
   ]
  },
  {
   "cell_type": "code",
   "execution_count": null,
   "id": "059dd2be",
   "metadata": {},
   "outputs": [],
   "source": [
    "cMarks = funct1('Bharath', 'Ashish', 'Taniya', 'Minati')\n",
    "\n",
    "print(cMarks)"
   ]
  },
  {
   "cell_type": "code",
   "execution_count": null,
   "id": "de0b66cc",
   "metadata": {},
   "outputs": [],
   "source": [
    "def funct2(*arguments):\n",
    "    a,*b = arguments\n",
    "    print(a)\n",
    "    print(b)"
   ]
  },
  {
   "cell_type": "code",
   "execution_count": null,
   "id": "8d77b21c",
   "metadata": {},
   "outputs": [],
   "source": [
    "funct2('Bharath', 'Ashish', 'Taniya', 'Minati')\n"
   ]
  },
  {
   "cell_type": "code",
   "execution_count": null,
   "id": "d041f417",
   "metadata": {},
   "outputs": [],
   "source": [
    "def hotel_greetings_mass(*names, hotel='The Ritz-Carlton'):\n",
    "    for name in names:\n",
    "        print(f'Welcome {name} to {hotel}!')"
   ]
  },
  {
   "cell_type": "code",
   "execution_count": null,
   "id": "eb7025cf",
   "metadata": {},
   "outputs": [],
   "source": [
    "hotel_greetings_mass('Bharath', 'Ashish', 'Taniya', 'Minati')\n",
    "\n"
   ]
  },
  {
   "cell_type": "code",
   "execution_count": null,
   "id": "87efe851",
   "metadata": {},
   "outputs": [],
   "source": [
    "hotel_greetings_mass('Bharath', 'Ashish', 'Taniya', 'Minati', hotel = 'The Four Seasons')\n"
   ]
  },
  {
   "cell_type": "code",
   "execution_count": null,
   "id": "ffa2a196",
   "metadata": {},
   "outputs": [],
   "source": [
    "hotel_greetings_mass(hotel = 'The Four Seasons','Bharath', 'Ashish', 'Taniya', 'Minati')\n"
   ]
  },
  {
   "cell_type": "code",
   "execution_count": null,
   "id": "d46f6c6e",
   "metadata": {},
   "outputs": [],
   "source": [
    "hotel_greetings_mass('Bharath', 'Ashish', 'Taniya', 'Minati','The Four Seasons')\n"
   ]
  },
  {
   "cell_type": "code",
   "execution_count": null,
   "id": "f812dacb",
   "metadata": {},
   "outputs": [],
   "source": [
    "def funct1(name, *subject, felicitation = 'Great Job'):\n",
    "    print(name)\n",
    "    print(subject)\n",
    "    for sub in subject:\n",
    "        print(f'{name}, you passed {sub}, {felicitation}')"
   ]
  },
  {
   "cell_type": "code",
   "execution_count": null,
   "id": "c3b9cd87",
   "metadata": {},
   "outputs": [],
   "source": [
    "funct1('Ravi', 'Geog','Hist','Math','Science', felicitation = 'Keep going!')"
   ]
  },
  {
   "cell_type": "code",
   "execution_count": null,
   "id": "b2a7c12b",
   "metadata": {},
   "outputs": [],
   "source": []
  },
  {
   "cell_type": "code",
   "execution_count": null,
   "id": "022ea6ca",
   "metadata": {},
   "outputs": [],
   "source": [
    "# arbitary keyword arguments **kwargs\n",
    "\n",
    "rocket = {'Thrust':0, 'Load':0, 'Acceleration':0}\n",
    "\n",
    "def cFunct(**new_values):\n",
    "    print(f'New Values Dictionary -------> {new_values}')\n",
    "    rocket.update(new_values)\n",
    "    print(f'Rocket updated Dictionary ---------> {rocket}')\n",
    "    for param in rocket:\n",
    "        print(rocket[param]*20)\n",
    "        \n",
    "print(rocket)"
   ]
  },
  {
   "cell_type": "code",
   "execution_count": null,
   "id": "04671bf0",
   "metadata": {},
   "outputs": [],
   "source": [
    "cFunct(Thrust = 100, Load = 20, Acceleration = 10)"
   ]
  },
  {
   "cell_type": "code",
   "execution_count": null,
   "id": "e097ed80",
   "metadata": {},
   "outputs": [],
   "source": [
    "cFunct(Thrust = 200, Load = 50)"
   ]
  },
  {
   "cell_type": "code",
   "execution_count": null,
   "id": "5ade3621",
   "metadata": {},
   "outputs": [],
   "source": [
    "cFunct(Thrust=50, Load = 15, Acceleration = 8, rafiya = 72)"
   ]
  },
  {
   "cell_type": "code",
   "execution_count": null,
   "id": "a7c06418",
   "metadata": {},
   "outputs": [],
   "source": [
    "# String interning\n",
    "\n",
    "# variable names are stored in the backend as strings. Therefore, to avoid same variable name being used over and over in \n",
    "# memory - we have string interning. And THAT IS WHY - strings that are interned follow IDENTIFIER RULES. "
   ]
  },
  {
   "cell_type": "code",
   "execution_count": null,
   "id": "7226b8d1",
   "metadata": {},
   "outputs": [],
   "source": [
    "# Function object and function calls are different things. When we store the function object in a variable name then the\n",
    "# variable name behaves as the function object since all we have done is ALIASING. A function call on the other hand \n",
    "# executes a function and if there is a return from the function outputs the return <which can be stored in a variable> - \n",
    "# if not, just performs an action and outputs None."
   ]
  },
  {
   "cell_type": "code",
   "execution_count": null,
   "id": "f9eff796",
   "metadata": {},
   "outputs": [],
   "source": []
  },
  {
   "cell_type": "code",
   "execution_count": null,
   "id": "5f4000a5",
   "metadata": {},
   "outputs": [],
   "source": [
    "def funct1():\n",
    "    return 1000"
   ]
  },
  {
   "cell_type": "code",
   "execution_count": null,
   "id": "717d8115",
   "metadata": {},
   "outputs": [],
   "source": [
    "var1 = funct1\n",
    "var2 = funct1()\n",
    "\n",
    "\n",
    "print(var1)\n",
    "print(var2)"
   ]
  },
  {
   "cell_type": "code",
   "execution_count": null,
   "id": "8e101ff1",
   "metadata": {},
   "outputs": [],
   "source": [
    "a = 10\n",
    "b = a\n",
    "\n",
    "print(b)"
   ]
  },
  {
   "cell_type": "code",
   "execution_count": null,
   "id": "7dd111b5",
   "metadata": {},
   "outputs": [],
   "source": [
    "var1 = funct1\n",
    "\n",
    "\n",
    "var3 = var1()"
   ]
  },
  {
   "cell_type": "code",
   "execution_count": null,
   "id": "8be1486f",
   "metadata": {},
   "outputs": [],
   "source": [
    "# Now var1 is an alias of funct1"
   ]
  },
  {
   "cell_type": "code",
   "execution_count": null,
   "id": "6d77e8e7",
   "metadata": {},
   "outputs": [],
   "source": [
    "print(id(var1))\n",
    "print(id(funct1))"
   ]
  },
  {
   "cell_type": "code",
   "execution_count": null,
   "id": "6fd15b91",
   "metadata": {},
   "outputs": [],
   "source": [
    "def funct1():\n",
    "    return 10\n",
    "\n",
    "def funct2():\n",
    "    return 20\n",
    "\n",
    "def funct3():\n",
    "    return 30\n",
    "\n",
    "\n",
    "lst1 = [funct1, funct2, funct3]\n",
    "\n",
    "lst2 = [funct1(), funct2(), funct3()]"
   ]
  },
  {
   "cell_type": "code",
   "execution_count": null,
   "id": "49ebecf9",
   "metadata": {},
   "outputs": [],
   "source": [
    "for item in lst1:\n",
    "    print(item)"
   ]
  },
  {
   "cell_type": "code",
   "execution_count": null,
   "id": "ed9990e8",
   "metadata": {},
   "outputs": [],
   "source": [
    "for item2 in lst2:\n",
    "    print(item2)"
   ]
  },
  {
   "cell_type": "code",
   "execution_count": null,
   "id": "22946cb1",
   "metadata": {},
   "outputs": [],
   "source": [
    "for item1 in lst1:\n",
    "    print(item1())"
   ]
  },
  {
   "cell_type": "code",
   "execution_count": null,
   "id": "e78ddfb6",
   "metadata": {},
   "outputs": [],
   "source": [
    "# Function objects and function calls can be stored to almost any object including lists, tuples, dictionaries etc INCLUDING\n",
    "# to other functions as arguments or parameters"
   ]
  },
  {
   "cell_type": "code",
   "execution_count": null,
   "id": "9f5e255e",
   "metadata": {},
   "outputs": [],
   "source": [
    "def bill(f, value):\n",
    "    return f()*value\n",
    "\n",
    "def gst():\n",
    "    return 18/100\n",
    "\n",
    "def service_tax():\n",
    "    return 15/100\n",
    "\n",
    "\n",
    "\n",
    "amount = bill(gst,200)\n",
    "\n",
    "print(amount)"
   ]
  },
  {
   "cell_type": "code",
   "execution_count": null,
   "id": "5346f98f",
   "metadata": {},
   "outputs": [],
   "source": [
    "amount = bill(service_tax, 200)\n",
    "print(amount)"
   ]
  },
  {
   "cell_type": "markdown",
   "id": "32bb0348",
   "metadata": {},
   "source": [
    "#### Lambda functions"
   ]
  },
  {
   "cell_type": "code",
   "execution_count": null,
   "id": "ccda77ff",
   "metadata": {},
   "outputs": [],
   "source": [
    "# Lambda functions are 'anonymous' functions, usually simpler than regular functions since they can only evaluate expressions\n",
    "# to ONE return line. Also usually, 'use and throw'.\n",
    "# They do not use the def keyword. They use lambda keyword to be defined. \n",
    "# They do not use the return keyword. But there IS a return from the lambda function. \n",
    "# Lambda functions like regular functions ARE defined and therefore ARE stored in memory so they can also be aliased. \n",
    "# Lambda functions are IIFE<'Iffy'> - Immediately Invoked Function Expressions - while regular functions are not."
   ]
  },
  {
   "cell_type": "code",
   "execution_count": null,
   "id": "b56caafc",
   "metadata": {},
   "outputs": [],
   "source": [
    "def funct1(x,y):\n",
    "    return x*y"
   ]
  },
  {
   "cell_type": "code",
   "execution_count": null,
   "id": "d7937ab5",
   "metadata": {},
   "outputs": [],
   "source": [
    "# syntax to define lambda function:\n",
    "\n",
    "#<lambda parameter(s): expression>"
   ]
  },
  {
   "cell_type": "code",
   "execution_count": null,
   "id": "172b93ae",
   "metadata": {},
   "outputs": [],
   "source": [
    "lambda1 = lambda x,y: x*y"
   ]
  },
  {
   "cell_type": "code",
   "execution_count": null,
   "id": "f35e305b",
   "metadata": {},
   "outputs": [],
   "source": [
    "var1 = funct1(10,20)\n",
    "print(var1)"
   ]
  },
  {
   "cell_type": "code",
   "execution_count": null,
   "id": "36a266a9",
   "metadata": {},
   "outputs": [],
   "source": [
    "var2Lambda = lambda1(10,20)\n",
    "print(var2Lambda)"
   ]
  },
  {
   "cell_type": "code",
   "execution_count": null,
   "id": "a48c6f35",
   "metadata": {},
   "outputs": [],
   "source": [
    "print(funct1)"
   ]
  },
  {
   "cell_type": "code",
   "execution_count": null,
   "id": "42729289",
   "metadata": {},
   "outputs": [],
   "source": [
    "print(lambda1)"
   ]
  },
  {
   "cell_type": "code",
   "execution_count": null,
   "id": "b5ea4920",
   "metadata": {},
   "outputs": [],
   "source": [
    "lambda2 = lambda x,y: x*y"
   ]
  },
  {
   "cell_type": "code",
   "execution_count": null,
   "id": "3bd09230",
   "metadata": {},
   "outputs": [],
   "source": [
    "print(lambda2)"
   ]
  },
  {
   "cell_type": "code",
   "execution_count": null,
   "id": "64e24b7c",
   "metadata": {},
   "outputs": [],
   "source": [
    "def funct1(x,y):\n",
    "    x*y\n",
    "    \n",
    "lambda1 = lambda x,y : x*y\n",
    "\n",
    "\n",
    "var1 = funct1(10,20)\n",
    "\n",
    "var2 = lambda1(10,20)\n",
    "\n",
    "\n",
    "print(f'Output of Var1 : ',var1)\n",
    "print(f'Output of Var2 : ', var2)"
   ]
  },
  {
   "cell_type": "code",
   "execution_count": null,
   "id": "aa70f1c6",
   "metadata": {},
   "outputs": [],
   "source": [
    "print((lambda x,y:x*y)(10,20))"
   ]
  },
  {
   "cell_type": "code",
   "execution_count": null,
   "id": "af242f11",
   "metadata": {},
   "outputs": [],
   "source": [
    "print(10*20)"
   ]
  },
  {
   "cell_type": "code",
   "execution_count": null,
   "id": "848a638c",
   "metadata": {},
   "outputs": [],
   "source": [
    "lambda1 = lambda x,y : (x*y,x+y)\n",
    "\n",
    "print(lambda1(10,20))"
   ]
  },
  {
   "cell_type": "code",
   "execution_count": null,
   "id": "c6f9cfe8",
   "metadata": {},
   "outputs": [],
   "source": [
    "lambda2 = lambda x: for value in range(x)"
   ]
  },
  {
   "cell_type": "code",
   "execution_count": null,
   "id": "5fb0c459",
   "metadata": {},
   "outputs": [],
   "source": [
    "lambda2 = lambda x: [value for value in range(x)]"
   ]
  },
  {
   "cell_type": "code",
   "execution_count": null,
   "id": "1a2f80ec",
   "metadata": {},
   "outputs": [],
   "source": [
    "print(lambda2(5))"
   ]
  },
  {
   "cell_type": "code",
   "execution_count": null,
   "id": "1299ed2b",
   "metadata": {},
   "outputs": [],
   "source": [
    "lambda3 = lambda x,y : x*2 if y > 10 else x*5 if y > 5 else x*3\n",
    "\n",
    "print(lambda3(10,4))"
   ]
  },
  {
   "cell_type": "code",
   "execution_count": null,
   "id": "b18f6bc1",
   "metadata": {},
   "outputs": [],
   "source": [
    "import numpy as np\n",
    "\n",
    "studmarks = [('Abhijeet',80), ('Antara', 90),('Adit',85), ('Dipali',75)]\n",
    "\n",
    "print(studmarks)"
   ]
  },
  {
   "cell_type": "code",
   "execution_count": null,
   "id": "85943363",
   "metadata": {},
   "outputs": [],
   "source": [
    "def funct1(x):\n",
    "    return x[1]"
   ]
  },
  {
   "cell_type": "code",
   "execution_count": null,
   "id": "3e48d083",
   "metadata": {},
   "outputs": [],
   "source": [
    "studmarks.sort(key = funct1)\n",
    "\n",
    "print(studmarks)"
   ]
  },
  {
   "cell_type": "code",
   "execution_count": null,
   "id": "1617df0b",
   "metadata": {},
   "outputs": [],
   "source": [
    "studmarks.sort(key = lambda x : x[1])\n",
    "\n",
    "print(studmarks)"
   ]
  },
  {
   "cell_type": "code",
   "execution_count": null,
   "id": "b6ff385a",
   "metadata": {},
   "outputs": [],
   "source": [
    "# Functions in functions - regular and lambda"
   ]
  },
  {
   "cell_type": "code",
   "execution_count": null,
   "id": "3e0e5f41",
   "metadata": {},
   "outputs": [],
   "source": [
    "def addition(x,y):\n",
    "    return x + y\n",
    "\n",
    "def subtractON(x,y):\n",
    "    return x - y\n",
    "\n",
    "def add_on(function1,function2,a,b,c):\n",
    "    return function1(a,b)*c + function2(a,b)\n"
   ]
  },
  {
   "cell_type": "code",
   "execution_count": null,
   "id": "7c0ff66e",
   "metadata": {},
   "outputs": [],
   "source": [
    "print(add_on(addition, subtractON,10,20,5))"
   ]
  },
  {
   "cell_type": "code",
   "execution_count": null,
   "id": "5967153f",
   "metadata": {},
   "outputs": [],
   "source": [
    "#lambda\n",
    "\n",
    "lambdaAdd = lambda x,y: x+y\n",
    "lambdaSub = lambda x,y: x-y\n",
    "\n",
    "lambdaAddOn = lambda f1,f2,a,b,c: f1(a,b)*c + f2(a,b)"
   ]
  },
  {
   "cell_type": "code",
   "execution_count": null,
   "id": "d7003de0",
   "metadata": {},
   "outputs": [],
   "source": [
    "print(lambdaAddOn(lambdaAdd,lambdaSub,10,20,5))"
   ]
  },
  {
   "cell_type": "code",
   "execution_count": null,
   "id": "ded5a1bb",
   "metadata": {},
   "outputs": [],
   "source": [
    "print(lambdaAddOn(addition, lambdaSub, 10,20,5))"
   ]
  },
  {
   "cell_type": "code",
   "execution_count": null,
   "id": "00f8785b",
   "metadata": {},
   "outputs": [],
   "source": [
    "# Lambda with filter, map, reduce, \n",
    "import numpy as np\n",
    "lst1 = list(np.random.randint(0,3,20))\n",
    "\n",
    "print(lst1)"
   ]
  },
  {
   "cell_type": "code",
   "execution_count": null,
   "id": "c5d8d022",
   "metadata": {},
   "outputs": [],
   "source": [
    "# filter function - FILTERS Non True values from a given iterable. \n",
    "\n",
    "# It takes two MANDATORY parameters:\n",
    "# 1. Function whose output will be evaluated whether true or false to perform filtering.\n",
    "# 2. The iterable to be evaluated.\n",
    "\n",
    "# It outputs a filter object which needs to be converted to an iterable.\n",
    "\n",
    "\n",
    "lst2 = list(filter(bool, lst1))\n",
    "\n",
    "print(lst2)"
   ]
  },
  {
   "cell_type": "code",
   "execution_count": null,
   "id": "a2999b0a",
   "metadata": {},
   "outputs": [],
   "source": [
    "lst2 = list(filter(float, lst1))\n",
    "\n",
    "print(lst2)"
   ]
  },
  {
   "cell_type": "code",
   "execution_count": null,
   "id": "2ee25150",
   "metadata": {},
   "outputs": [],
   "source": [
    "lstnew = [0,3*5,'','Dipali',0.0, 0+0j, 1111*0]\n",
    "\n",
    "lstnew2 = list(filter(bool,lstnew))\n",
    "\n",
    "print(lstnew2)"
   ]
  },
  {
   "cell_type": "code",
   "execution_count": null,
   "id": "436b6b1d",
   "metadata": {},
   "outputs": [],
   "source": [
    "lstnames = ['Antara','Sreenivas',\"\",'Sameer','Ashish',\"\",'Dipali',\"\",'Rakesh']\n",
    "\n",
    "lstnamesfiltered = list(filter(len,lstnames))\n",
    "\n",
    "print(lstnamesfiltered)"
   ]
  },
  {
   "cell_type": "code",
   "execution_count": null,
   "id": "19a697b7",
   "metadata": {},
   "outputs": [],
   "source": [
    "lstnamesF = list(filter(lambda x : 'e' in x, lstnames))\n",
    "\n",
    "print(lstnamesF)"
   ]
  },
  {
   "cell_type": "code",
   "execution_count": null,
   "id": "db9dfb45",
   "metadata": {},
   "outputs": [],
   "source": [
    "# Step 1 - Function applied to each element of iterable. \n",
    "# Step 2 - True False outputs generated (with mapping to the original element that gave this output)\n",
    "# Step 3 - Whatever element gave True output is retained, rest are filtered out."
   ]
  },
  {
   "cell_type": "code",
   "execution_count": null,
   "id": "3ddecc63",
   "metadata": {},
   "outputs": [],
   "source": [
    "# map function - maps the output of the function applied to each element of the iterable(s) and puts it in a map iterator\n",
    "# object<as with other iterator objects, can only be iterated over once - alternately typecast to another datatype to reuse>\n",
    "\n",
    "# It takes 2 mandatory and infinite additional parameters:\n",
    "# 1. Function to apply - Mandatory\n",
    "# 2. Iterable object - Mandatory - Minimum one iterable object to be supplied. \n",
    "\n",
    "#3. INFINITE iterable objects - Optional - that can be used with the map function."
   ]
  },
  {
   "cell_type": "code",
   "execution_count": null,
   "id": "1846937f",
   "metadata": {},
   "outputs": [],
   "source": [
    "lst1 = ['Python', 'Hello', 'Butter', 'Fantastic', \"\"]\n",
    "lst2 = ['Learnbay', 'Yashoda', 'Betty', 'Four', 'string']\n",
    "\n",
    "\n",
    "lengths = list(map(len, lst1))\n",
    "\n",
    "print(lengths)"
   ]
  },
  {
   "cell_type": "code",
   "execution_count": null,
   "id": "e61ed27d",
   "metadata": {},
   "outputs": [],
   "source": [
    "lstnames = ['Antara','Sreenivas',\"\",'Sameer','Ashish',\"\",'Dipali',\"\",'Rakesh']\n",
    "\n",
    "output = list(map(lambda x : 'e' in x, lstnames))\n",
    "\n",
    "print(output)"
   ]
  },
  {
   "cell_type": "code",
   "execution_count": null,
   "id": "4001a1b2",
   "metadata": {},
   "outputs": [],
   "source": [
    "lstnames = ['Antara','Sreenivas',\"\",'Sameer','Ashish',\"\",'Dipali',\"\",'Rakesh']\n",
    "output = []\n",
    "\n",
    "for name in lstnames:\n",
    "    output.append((lambda x : 'e' in x)(name))\n",
    "    \n",
    "print(output)\n"
   ]
  },
  {
   "cell_type": "code",
   "execution_count": null,
   "id": "24eb855b",
   "metadata": {},
   "outputs": [],
   "source": [
    "lstnames = ['Antara','Sreenivas',\"\",'Sameer','Ashish',\"\",'Dipali',\"\",'Rakesh']\n",
    "lstnames2 = ['Minati', 'Bharath','Ebi','Sachin', 'Rashmika', 'Taniya']\n",
    "multi = [1,2,3,1,2,3]\n",
    "\n",
    "output = list(map(lambda x,y,z : (len(x)+len(y))*z, lstnames,lstnames2,multi))\n",
    "\n",
    "print(output)"
   ]
  },
  {
   "cell_type": "code",
   "execution_count": null,
   "id": "745e7d84",
   "metadata": {},
   "outputs": [],
   "source": [
    "lstnames = ['Antara','Sreenivas',\"\",'Sameer','Ashish',\"\",'Dipali',\"\",'Rakesh']\n",
    "lstnames2 = ['Minati', 'Bharath','Ebi','Sachin', 'Rashmika', 'Taniya']\n",
    "multi = [1,2,3,1,2,3]\n",
    "\n",
    "output = list(map(lambda x,y : (len(x)+len(y)), lstnames,lstnames2, multi))\n",
    "\n",
    "print(output)"
   ]
  },
  {
   "cell_type": "code",
   "execution_count": null,
   "id": "f29a2d62",
   "metadata": {},
   "outputs": [],
   "source": [
    "# reduce function - reduces the elements of the given iterable to one single element."
   ]
  },
  {
   "cell_type": "code",
   "execution_count": null,
   "id": "039de054",
   "metadata": {},
   "outputs": [],
   "source": [
    "import functools\n",
    "\n",
    "lst1 = list(np.random.randint(-100,100,10))\n",
    "\n",
    "print(lst1)"
   ]
  },
  {
   "cell_type": "code",
   "execution_count": null,
   "id": "925d7624",
   "metadata": {},
   "outputs": [],
   "source": [
    "var1 = functools.reduce(lambda x,y: x+y, lst1)\n",
    "\n",
    "print(var1)"
   ]
  },
  {
   "cell_type": "code",
   "execution_count": null,
   "id": "eb6d6e94",
   "metadata": {},
   "outputs": [],
   "source": [
    "-56 + -81 = -137\n",
    "-137 + 7 = -130\n",
    "-130 + -19 = -149\n",
    "-149 + 54 = -95\n",
    "-95 + -41 = -136\n",
    "-136 + 80 = -56\n",
    "-56 + -60 = -116\n",
    "-116 + -33 = -149\n",
    "-149 + 80 = -69"
   ]
  },
  {
   "cell_type": "code",
   "execution_count": null,
   "id": "f3cdb0a4",
   "metadata": {},
   "outputs": [],
   "source": [
    "print((lambda x,y : x+ y)(lst1))"
   ]
  },
  {
   "cell_type": "code",
   "execution_count": null,
   "id": "e0634a59",
   "metadata": {},
   "outputs": [],
   "source": [
    "print(lst1)"
   ]
  },
  {
   "cell_type": "code",
   "execution_count": null,
   "id": "04bdf986",
   "metadata": {},
   "outputs": [],
   "source": [
    "var2 = functools.reduce(lambda x,y: x if x > y else y, lst1)\n",
    "\n",
    "print(var2)"
   ]
  },
  {
   "cell_type": "code",
   "execution_count": null,
   "id": "e9910bc8",
   "metadata": {},
   "outputs": [],
   "source": [
    "-56 > -81 = -56\n",
    "-56 > 7 = 7\n",
    "7 > -19 = 7\n",
    ".....\n"
   ]
  },
  {
   "cell_type": "code",
   "execution_count": null,
   "id": "40336208",
   "metadata": {},
   "outputs": [],
   "source": [
    "lstnames = ['Ashish Kumar', 'Abdul Rafiyaa', 'Vivek Gautttam','Mehak Potdar']\n",
    "\n",
    "var3 = functools.reduce(lambda x,y: x if len(x.split()[1])> len(y.split()[1]) else y, lstnames)"
   ]
  },
  {
   "cell_type": "code",
   "execution_count": null,
   "id": "f7a53812",
   "metadata": {},
   "outputs": [],
   "source": [
    "print(var3)"
   ]
  },
  {
   "cell_type": "code",
   "execution_count": null,
   "id": "5d938447",
   "metadata": {},
   "outputs": [],
   "source": [
    "# kumar > rafiyaa = rafiyaa\n",
    "# rafiyaa > gautttam = gautttam\n",
    "# gautttam > potdar = gautttam"
   ]
  },
  {
   "cell_type": "code",
   "execution_count": null,
   "id": "bdfdd1b2",
   "metadata": {},
   "outputs": [],
   "source": [
    "# accumulate function - gives us the same output as reduce i.e. passes the first two elements of the iterable as first \n",
    "# two arguments to function then output of first iteration is passed as the first argument and next element is the 2nd argument, \n",
    "# output of the 2nd iteration is passed as first argument, next element as 2nd argument and so on....\n",
    "\n",
    "# Takes two mandatory parameters:\n",
    "\n",
    "#1. Iterable\n",
    "#2. Function\n",
    "\n",
    "# In reduce - only final output is given, in accumulate - step by step output is given. \n",
    "# In reduce - function is the first parameter, iterable is the 2nd parameter. In accumulate - iterable is first parameter, \n",
    "# function is 2nd parameter.\n",
    "# Reduce is imported from functools, accumulate is imported from itertools "
   ]
  },
  {
   "cell_type": "code",
   "execution_count": null,
   "id": "048df1c2",
   "metadata": {},
   "outputs": [],
   "source": [
    "import itertools\n",
    "\n",
    "print(lst1)"
   ]
  },
  {
   "cell_type": "code",
   "execution_count": null,
   "id": "607d8797",
   "metadata": {},
   "outputs": [],
   "source": [
    "newlst = list(itertools.accumulate(lst1, lambda x,y : x+y))"
   ]
  },
  {
   "cell_type": "code",
   "execution_count": null,
   "id": "76b46a27",
   "metadata": {},
   "outputs": [],
   "source": [
    "print(newlst)"
   ]
  },
  {
   "cell_type": "code",
   "execution_count": null,
   "id": "f093ccf5",
   "metadata": {},
   "outputs": [],
   "source": [
    "-56 + -81 = -137\n",
    "-137 + 7 = -130\n",
    "-130 + -19 = -149\n",
    "-149 + 54 = -95\n",
    "-95 + -41 = -136\n",
    "-136 + 80 = -56\n",
    "-56 + -60 = -116\n",
    "-116 + -33 = -149\n",
    "-149 + 80 = -69"
   ]
  },
  {
   "cell_type": "code",
   "execution_count": null,
   "id": "7d014226",
   "metadata": {},
   "outputs": [],
   "source": [
    "newlst2 = list(itertools.accumulate(lst1, lambda x,y : x if x > y else y))\n",
    "\n",
    "print(lst1)\n",
    "print(newlst2)"
   ]
  },
  {
   "cell_type": "code",
   "execution_count": null,
   "id": "c7f048ae",
   "metadata": {},
   "outputs": [],
   "source": [
    "lstnames = ['Ashish Kumar', 'Abdul Rafiyaa', 'Vivek Gautttam','Mehak Potdar']\n",
    "\n",
    "var3 = list(itertools.accumulate(lstnames, lambda x,y: x if len(x.split()[1])> len(y.split()[1]) else y))\n",
    "\n",
    "print(var3)"
   ]
  },
  {
   "cell_type": "code",
   "execution_count": null,
   "id": "a06103d9",
   "metadata": {},
   "outputs": [],
   "source": [
    "# What are functions?\n",
    "\n",
    "# Block of code that can be reused by putting it in a function. \n",
    "\n",
    "# Advantage of functions? - We can define parameters and supply arguments therefore same block of code can be reused with\n",
    "# different values as inputs. \n",
    "\n",
    "# Syntax of function definitions:\n",
    "\n",
    "# def functionname(parameters - if any):                         # Function header\n",
    "    # Docstring - if any                                         # Function body    \n",
    "    # code to be reused - infinite lines                         # Function body\n",
    "    # return - if any return required from function              # Function body\n",
    "    \n",
    "    \n",
    "    \n",
    "# syntax for function call:\n",
    "\n",
    "# functionname(arguments if any)\n",
    "\n",
    "\n",
    "# Function object and function call?\n",
    "\n",
    "# the function itself where it is stored in memory - that object. The function object can be 'aliased' - the alias will\n",
    "# behave exactly like the function.\n",
    "\n",
    "# Function call - is the execution of the function and if the function has a return - the object that is returned from the\n",
    "# execution will be stored at a certain location which we can access by assigning return to a variable. \n",
    "\n",
    "# Parameters and arguments:\n",
    "\n",
    "# Positional (including arbitary positional - *args)\n",
    "# Keyword (including arbitary keyword - **kwargs)\n",
    "\n",
    "\n",
    "# Lambda functions\n",
    "\n",
    "# Simple (usually single line functions) and the syntax for them. \n",
    "\n",
    "# syntax:\n",
    "\n",
    "# lambda parameter(s) : expression\n",
    "\n",
    "# Lambda function differs from regular functions:\n",
    "\n",
    "# lambda instead of def to define. \n",
    "# No return keyword required but lambda will always have a return. \n",
    "# IIFE (immediately invoked function expression) unlike regular functions which are not IIFE\n",
    "# Single output, single evaluation - in regular functions we can have multiple evaluations. \n",
    "# Anonymous i.e. does not take a function name like regular functions. if we need to reuse the lambda function then we need\n",
    "# to alias the lambda function.\n",
    "\n",
    "# Similarities with regular functions?\n",
    "\n",
    "# Used to run a block of code with parameters/arguments.\n",
    "# Is stored as an object in memory which can be aliased. \n",
    "\n",
    "\n",
    "\n",
    "\n",
    "# \n"
   ]
  },
  {
   "cell_type": "markdown",
   "id": "06da51b6",
   "metadata": {},
   "source": [
    "### Global scope and local scope"
   ]
  },
  {
   "cell_type": "code",
   "execution_count": null,
   "id": "af1195ca",
   "metadata": {},
   "outputs": [],
   "source": [
    "x = 100\n",
    "\n",
    "print(x)"
   ]
  },
  {
   "cell_type": "code",
   "execution_count": null,
   "id": "7e145d71",
   "metadata": {},
   "outputs": [],
   "source": [
    "x = 200\n",
    "print(x)"
   ]
  },
  {
   "cell_type": "code",
   "execution_count": null,
   "id": "e8a72da9",
   "metadata": {},
   "outputs": [],
   "source": [
    "globalscope = {'x':100, 'y':111}\n",
    "\n",
    "print(globalscope['x'])\n",
    "\n",
    "#globalscope['x'] = 200"
   ]
  },
  {
   "cell_type": "code",
   "execution_count": null,
   "id": "6c9c5f9e",
   "metadata": {},
   "outputs": [],
   "source": [
    "globalscope['x'] = 200\n",
    "\n",
    "print(globalscope['x'])"
   ]
  },
  {
   "cell_type": "code",
   "execution_count": null,
   "id": "96661cb7",
   "metadata": {},
   "outputs": [],
   "source": [
    "def funct1():\n",
    "    x = 1000\n",
    "    print(x)"
   ]
  },
  {
   "cell_type": "code",
   "execution_count": null,
   "id": "7c35419c",
   "metadata": {},
   "outputs": [],
   "source": [
    "localscopef1 = {'x':1000}"
   ]
  },
  {
   "cell_type": "code",
   "execution_count": null,
   "id": "74cbe39b",
   "metadata": {},
   "outputs": [],
   "source": [
    "x = 100\n",
    "\n",
    "print(f'x in globalscope : {x}')\n",
    "\n",
    "def funct1():\n",
    "    x = 1001\n",
    "    print(f'x in localscope : {x}')\n",
    "    \n",
    "funct1()    \n",
    "print(f'x in globalscope - did it change? Value : {x}')"
   ]
  },
  {
   "cell_type": "code",
   "execution_count": 2,
   "id": "bd211b91",
   "metadata": {},
   "outputs": [
    {
     "name": "stdout",
     "output_type": "stream",
     "text": [
      "x in globalscope : 100\n",
      "x in localscope : 100\n",
      "x in globalscope - did it change? Value : 100\n"
     ]
    }
   ],
   "source": [
    "x = 100\n",
    "\n",
    "print(f'x in globalscope : {x}')\n",
    "\n",
    "def funct1():\n",
    "    print(f'x in localscope : {x}')\n",
    "    \n",
    "funct1()    \n",
    "print(f'x in globalscope - did it change? Value : {x}')"
   ]
  },
  {
   "cell_type": "code",
   "execution_count": 1,
   "id": "848522e3",
   "metadata": {},
   "outputs": [
    {
     "name": "stdout",
     "output_type": "stream",
     "text": [
      "x in localscope : 100\n",
      "Does x exist in globalscope? Can I access the x that was in localscope in the globalscope?\n"
     ]
    },
    {
     "ename": "NameError",
     "evalue": "name 'x' is not defined",
     "output_type": "error",
     "traceback": [
      "\u001b[1;31m---------------------------------------------------------------------------\u001b[0m",
      "\u001b[1;31mNameError\u001b[0m                                 Traceback (most recent call last)",
      "\u001b[1;32m~\\AppData\\Local\\Temp\\ipykernel_18764\\2123753746.py\u001b[0m in \u001b[0;36m<module>\u001b[1;34m\u001b[0m\n\u001b[0;32m      7\u001b[0m \u001b[0mprint\u001b[0m\u001b[1;33m(\u001b[0m\u001b[1;34mf'Does x exist in globalscope? Can I access the x that was in localscope in the globalscope?'\u001b[0m\u001b[1;33m)\u001b[0m\u001b[1;33m\u001b[0m\u001b[1;33m\u001b[0m\u001b[0m\n\u001b[0;32m      8\u001b[0m \u001b[1;33m\u001b[0m\u001b[0m\n\u001b[1;32m----> 9\u001b[1;33m \u001b[0mprint\u001b[0m\u001b[1;33m(\u001b[0m\u001b[0mx\u001b[0m\u001b[1;33m)\u001b[0m\u001b[1;33m\u001b[0m\u001b[1;33m\u001b[0m\u001b[0m\n\u001b[0m",
      "\u001b[1;31mNameError\u001b[0m: name 'x' is not defined"
     ]
    }
   ],
   "source": [
    "def funct1():\n",
    "    x = 100\n",
    "    print(f'x in localscope : {x}')\n",
    "\n",
    "funct1()\n",
    "    \n",
    "print(f'Does x exist in globalscope? Can I access the x that was in localscope in the globalscope?')\n",
    "\n",
    "print(x)"
   ]
  },
  {
   "cell_type": "code",
   "execution_count": null,
   "id": "d47463ef",
   "metadata": {},
   "outputs": [],
   "source": [
    "# Globalscope can be accessed anywhere for reading, but for altering - must be done in globalscope(except with global keyword).\n",
    "\n",
    "# Localscope can be accessed only inside the function for reading and altering. \n",
    "\n",
    "\n",
    "# When running a function, the code will look for the variables value in localscope first and if not found then will search in\n",
    "# globalscope.\n",
    "\n"
   ]
  },
  {
   "cell_type": "code",
   "execution_count": 3,
   "id": "ecafd9ca",
   "metadata": {},
   "outputs": [
    {
     "name": "stdout",
     "output_type": "stream",
     "text": [
      "x value in funct2 localscope : 200\n",
      "x value in funct1 localscope, [funct2 nonlocal scope] : 100\n"
     ]
    }
   ],
   "source": [
    "def funct1():\n",
    "    x = 100\n",
    "    def funct2():\n",
    "        x = 200\n",
    "        print(f'x value in funct2 localscope : {x}')\n",
    "    funct2()\n",
    "    print(f'x value in funct1 localscope, [funct2 nonlocal scope] : {x}')\n",
    "    \n",
    "funct1()\n",
    "    "
   ]
  },
  {
   "cell_type": "code",
   "execution_count": 4,
   "id": "5272718c",
   "metadata": {},
   "outputs": [
    {
     "name": "stdout",
     "output_type": "stream",
     "text": [
      "x value in funct2 localscope : 100\n",
      "x value in funct1 localscope, [funct2 nonlocal scope] : 100\n"
     ]
    }
   ],
   "source": [
    "def funct1():\n",
    "    x = 100\n",
    "    def funct2():\n",
    "        print(f'x value in funct2 localscope : {x}')\n",
    "    funct2()\n",
    "    print(f'x value in funct1 localscope, [funct2 nonlocal scope] : {x}')\n",
    "    \n",
    "funct1()\n",
    "    "
   ]
  },
  {
   "cell_type": "code",
   "execution_count": null,
   "id": "b8deb94e",
   "metadata": {},
   "outputs": [],
   "source": [
    "# Hierarchy:\n",
    "\n",
    "# First look in local scope of function. \n",
    "# Then look in nonlocal scope of funtion(if it is function in function)\n",
    "# Else look in Globalscope\n",
    "\n",
    "# Globalscope - can be read anywhere but altered only in globalscope(except when using global keyword)\n",
    "# nonlocalscope - can be read and altered in localscope when function is running, when inner function is running it can only\n",
    "# be read by the inner function but not altered.(except when using nonlocal keyword)\n",
    "# localscope - can be read and altered in local scope only. It cannot be read or altered by nonlocal and by globalscope.\n"
   ]
  },
  {
   "cell_type": "code",
   "execution_count": 6,
   "id": "488620cb",
   "metadata": {},
   "outputs": [
    {
     "name": "stdout",
     "output_type": "stream",
     "text": [
      "x value is 200 in local scope\n",
      "y value is 400 in local scope\n",
      "y value is 400 in nonlocalcope\n",
      "x value is 200 in globalscope now\n"
     ]
    }
   ],
   "source": [
    "x = 100\n",
    "\n",
    "def funct1():\n",
    "    global x\n",
    "    x = 200\n",
    "    print(f'x value is {x} in local scope')\n",
    "    y = 300\n",
    "    def funct2():\n",
    "        nonlocal y\n",
    "        y = 400\n",
    "        print(f'y value is {y} in local scope')\n",
    "    funct2()\n",
    "    print(f'y value is {y} in nonlocalcope')\n",
    "\n",
    "funct1()\n",
    "print(f'x value is {x} in globalscope now')\n",
    "\n"
   ]
  },
  {
   "cell_type": "code",
   "execution_count": 7,
   "id": "b85ff6e6",
   "metadata": {},
   "outputs": [
    {
     "ename": "SyntaxError",
     "evalue": "name 'x' is assigned to before global declaration (4285245513.py, line 5)",
     "output_type": "error",
     "traceback": [
      "\u001b[1;36m  File \u001b[1;32m\"C:\\Users\\Lenovo\\AppData\\Local\\Temp\\ipykernel_18764\\4285245513.py\"\u001b[1;36m, line \u001b[1;32m5\u001b[0m\n\u001b[1;33m    global x\u001b[0m\n\u001b[1;37m    ^\u001b[0m\n\u001b[1;31mSyntaxError\u001b[0m\u001b[1;31m:\u001b[0m name 'x' is assigned to before global declaration\n"
     ]
    }
   ],
   "source": [
    "x = 100\n",
    "\n",
    "def funct1():\n",
    "    x = 2000\n",
    "    global x\n",
    "    x = 200\n",
    "    print(f'x value is {x} in local scope')\n",
    "    y = 300\n",
    "    def funct2():\n",
    "        nonlocal y\n",
    "        y = 400\n",
    "        print(f'y value is {y} in local scope')\n",
    "    funct2()\n",
    "    print(f'y value is {y} in nonlocalcope')\n",
    "\n",
    "funct1()\n",
    "print(f'x value is {x} in globalscope now')\n",
    "\n"
   ]
  },
  {
   "cell_type": "code",
   "execution_count": 9,
   "id": "8c4601a8",
   "metadata": {},
   "outputs": [
    {
     "ename": "SyntaxError",
     "evalue": "no binding for nonlocal 'x' found (1836572453.py, line 9)",
     "output_type": "error",
     "traceback": [
      "\u001b[1;36m  File \u001b[1;32m\"C:\\Users\\Lenovo\\AppData\\Local\\Temp\\ipykernel_18764\\1836572453.py\"\u001b[1;36m, line \u001b[1;32m9\u001b[0m\n\u001b[1;33m    nonlocal x\u001b[0m\n\u001b[1;37m    ^\u001b[0m\n\u001b[1;31mSyntaxError\u001b[0m\u001b[1;31m:\u001b[0m no binding for nonlocal 'x' found\n"
     ]
    }
   ],
   "source": [
    "x = 100\n",
    "\n",
    "def funct1():\n",
    "    global x\n",
    "    x = 200\n",
    "    print(f'x value is {x} in local scope')\n",
    "    y = 300\n",
    "    def funct2():\n",
    "        nonlocal x\n",
    "        nonlocal y\n",
    "        y = 400\n",
    "        print(f'y value is {y} in local scope')\n",
    "    funct2()\n",
    "    print(f'y value is {y} in nonlocalcope')\n",
    "\n",
    "funct1()\n",
    "print(f'x value is {x} in globalscope now')\n"
   ]
  },
  {
   "cell_type": "markdown",
   "id": "f071548f",
   "metadata": {},
   "source": [
    "#### Yield keyword and generator objects"
   ]
  },
  {
   "cell_type": "code",
   "execution_count": null,
   "id": "e31bb3e4",
   "metadata": {},
   "outputs": [],
   "source": [
    "# yield keyword helps us make generator objects - which are just like iterator objects (a sub class of iterator objects). \n",
    "# The difference is iterator objects are used in conjunction with __iter__ function used while defining classes."
   ]
  },
  {
   "cell_type": "code",
   "execution_count": null,
   "id": "5137140d",
   "metadata": {},
   "outputs": [],
   "source": [
    "# yield - like return keyword helps us to get an output from a function. But yield returns one output at a time while return\n",
    "# finishes executing the full function and then returns the output. Yield - is used together with next function. "
   ]
  },
  {
   "cell_type": "code",
   "execution_count": 12,
   "id": "ae172747",
   "metadata": {},
   "outputs": [
    {
     "name": "stdout",
     "output_type": "stream",
     "text": [
      "[0, 1, 2, 3, 4, 5, 6, 7, 8, 9]\n"
     ]
    }
   ],
   "source": [
    "def funct1():\n",
    "    lst1 = []\n",
    "    for x in range(10):\n",
    "        lst1.append(x)\n",
    "    return lst1\n",
    "\n",
    "print(funct1())\n",
    "\n"
   ]
  },
  {
   "cell_type": "code",
   "execution_count": 13,
   "id": "412dc9f8",
   "metadata": {},
   "outputs": [],
   "source": [
    "def funct2():\n",
    "    for x in range(10):\n",
    "        yield x"
   ]
  },
  {
   "cell_type": "code",
   "execution_count": 14,
   "id": "adf18a91",
   "metadata": {},
   "outputs": [
    {
     "name": "stdout",
     "output_type": "stream",
     "text": [
      "<generator object funct2 at 0x000002253A190D60>\n"
     ]
    }
   ],
   "source": [
    "print(funct2())"
   ]
  },
  {
   "cell_type": "code",
   "execution_count": 22,
   "id": "13abd844",
   "metadata": {},
   "outputs": [
    {
     "name": "stdout",
     "output_type": "stream",
     "text": [
      "<generator object funct2 at 0x000002253A1BB3C0>\n"
     ]
    }
   ],
   "source": [
    "genobject = funct2()\n",
    "\n",
    "print(genobject)"
   ]
  },
  {
   "cell_type": "code",
   "execution_count": 16,
   "id": "b30ad8b2",
   "metadata": {},
   "outputs": [
    {
     "name": "stdout",
     "output_type": "stream",
     "text": [
      "0\n"
     ]
    }
   ],
   "source": [
    "print(next(genobject))"
   ]
  },
  {
   "cell_type": "code",
   "execution_count": 17,
   "id": "e9214ae0",
   "metadata": {},
   "outputs": [
    {
     "name": "stdout",
     "output_type": "stream",
     "text": [
      "1\n"
     ]
    }
   ],
   "source": [
    "print(next(genobject))"
   ]
  },
  {
   "cell_type": "code",
   "execution_count": 18,
   "id": "65aaa416",
   "metadata": {},
   "outputs": [
    {
     "name": "stdout",
     "output_type": "stream",
     "text": [
      "2\n"
     ]
    }
   ],
   "source": [
    "print(next(genobject))"
   ]
  },
  {
   "cell_type": "code",
   "execution_count": 19,
   "id": "efaf90cb",
   "metadata": {},
   "outputs": [
    {
     "name": "stdout",
     "output_type": "stream",
     "text": [
      "3\n"
     ]
    }
   ],
   "source": [
    "print(next(genobject))"
   ]
  },
  {
   "cell_type": "code",
   "execution_count": 24,
   "id": "4ef43ac4",
   "metadata": {},
   "outputs": [],
   "source": [
    "# for loop internally calls the next() function.\n",
    "\n",
    "for x in genobject:\n",
    "    print(x)"
   ]
  },
  {
   "cell_type": "code",
   "execution_count": 25,
   "id": "d3358932",
   "metadata": {},
   "outputs": [
    {
     "name": "stdout",
     "output_type": "stream",
     "text": [
      "[0, 1, 2, 3, 4, 5, 6, 7, 8, 9]\n"
     ]
    }
   ],
   "source": [
    "genobject = list(funct2())\n",
    "\n",
    "print(genobject)"
   ]
  },
  {
   "cell_type": "code",
   "execution_count": 28,
   "id": "658b5b6b",
   "metadata": {},
   "outputs": [
    {
     "name": "stdout",
     "output_type": "stream",
     "text": [
      "0\n",
      "1\n",
      "2\n",
      "3\n",
      "4\n",
      "5\n",
      "6\n",
      "7\n",
      "8\n",
      "9\n"
     ]
    }
   ],
   "source": [
    "for x in genobject:\n",
    "    print(x)"
   ]
  },
  {
   "cell_type": "code",
   "execution_count": 29,
   "id": "e4252d7c",
   "metadata": {},
   "outputs": [
    {
     "name": "stdout",
     "output_type": "stream",
     "text": [
      "<generator object funct2 at 0x000002253A1BB900>\n"
     ]
    }
   ],
   "source": [
    "genobject = funct2()\n",
    "\n",
    "print(genobject)"
   ]
  },
  {
   "cell_type": "code",
   "execution_count": 30,
   "id": "c926627d",
   "metadata": {},
   "outputs": [
    {
     "name": "stdout",
     "output_type": "stream",
     "text": [
      "0\n"
     ]
    }
   ],
   "source": [
    "print(next(genobject))"
   ]
  },
  {
   "cell_type": "code",
   "execution_count": 31,
   "id": "525aabb3",
   "metadata": {},
   "outputs": [
    {
     "name": "stdout",
     "output_type": "stream",
     "text": [
      "1\n"
     ]
    }
   ],
   "source": [
    "print(next(genobject))"
   ]
  },
  {
   "cell_type": "code",
   "execution_count": 32,
   "id": "087c4b33",
   "metadata": {},
   "outputs": [
    {
     "name": "stdout",
     "output_type": "stream",
     "text": [
      "2\n"
     ]
    }
   ],
   "source": [
    "print(next(genobject))"
   ]
  },
  {
   "cell_type": "code",
   "execution_count": 33,
   "id": "1f34e3e0",
   "metadata": {},
   "outputs": [
    {
     "name": "stdout",
     "output_type": "stream",
     "text": [
      "3\n",
      "4\n",
      "5\n",
      "6\n",
      "7\n",
      "8\n",
      "9\n"
     ]
    }
   ],
   "source": [
    "for x in genobject:\n",
    "    print(x)"
   ]
  },
  {
   "cell_type": "code",
   "execution_count": 45,
   "id": "ef6214ed",
   "metadata": {},
   "outputs": [],
   "source": [
    "def gen_even(x):\n",
    "    for num in range(x):\n",
    "        if num % 2 == 0:\n",
    "            yield num\n",
    "            \n",
    "            \n",
    "def multiply(genobject):\n",
    "    lst1 = []\n",
    "    for every_num in genobject:\n",
    "        lst1.append(every_num*100)\n",
    "    return lst1"
   ]
  },
  {
   "cell_type": "code",
   "execution_count": 46,
   "id": "f3fd19ef",
   "metadata": {},
   "outputs": [
    {
     "name": "stdout",
     "output_type": "stream",
     "text": [
      "<generator object gen_even at 0x000002253A1C03C0>\n"
     ]
    }
   ],
   "source": [
    "genobject = gen_even(100)\n",
    "\n",
    "print(genobject)"
   ]
  },
  {
   "cell_type": "code",
   "execution_count": 47,
   "id": "c445fd9e",
   "metadata": {},
   "outputs": [
    {
     "name": "stdout",
     "output_type": "stream",
     "text": [
      "[0, 200, 400, 600, 800, 1000, 1200, 1400, 1600, 1800, 2000, 2200, 2400, 2600, 2800, 3000, 3200, 3400, 3600, 3800, 4000, 4200, 4400, 4600, 4800, 5000, 5200, 5400, 5600, 5800, 6000, 6200, 6400, 6600, 6800, 7000, 7200, 7400, 7600, 7800, 8000, 8200, 8400, 8600, 8800, 9000, 9200, 9400, 9600, 9800]\n"
     ]
    }
   ],
   "source": [
    "multi_100 = multiply(genobject)\n",
    "\n",
    "print(multi_100)"
   ]
  },
  {
   "cell_type": "code",
   "execution_count": 50,
   "id": "25e935ea",
   "metadata": {},
   "outputs": [],
   "source": [
    "def newfunctR(c):\n",
    "    for x in c:\n",
    "        if x%2 == 0:\n",
    "            return 'Even'\n",
    "        else:\n",
    "            return 'Odd'\n"
   ]
  },
  {
   "cell_type": "code",
   "execution_count": 49,
   "id": "14a79bad",
   "metadata": {},
   "outputs": [
    {
     "name": "stdout",
     "output_type": "stream",
     "text": [
      "[95, 88, 2, 31, 90, 76, 10, 79, 54, 94]\n"
     ]
    }
   ],
   "source": [
    "import numpy as np\n",
    "\n",
    "lst1 = list(np.random.randint(1,100,10))\n",
    "\n",
    "print(lst1)"
   ]
  },
  {
   "cell_type": "code",
   "execution_count": 51,
   "id": "afef780e",
   "metadata": {},
   "outputs": [
    {
     "name": "stdout",
     "output_type": "stream",
     "text": [
      "Odd\n"
     ]
    }
   ],
   "source": [
    "var1 = newfunctR(lst1)\n",
    "\n",
    "print(var1)"
   ]
  },
  {
   "cell_type": "code",
   "execution_count": 52,
   "id": "f9cd756f",
   "metadata": {},
   "outputs": [],
   "source": [
    "def newfunctG(c):\n",
    "    for x in c:\n",
    "        if x%2 == 0:\n",
    "            yield 'Even'\n",
    "        else:\n",
    "            yield 'Odd'\n"
   ]
  },
  {
   "cell_type": "code",
   "execution_count": 54,
   "id": "f7a3e728",
   "metadata": {},
   "outputs": [
    {
     "name": "stdout",
     "output_type": "stream",
     "text": [
      "<generator object newfunctG at 0x000002253B5A0270>\n"
     ]
    }
   ],
   "source": [
    "genobject = newfunctG(lst1)\n",
    "\n",
    "print(genobject)"
   ]
  },
  {
   "cell_type": "code",
   "execution_count": 55,
   "id": "3f2f77c7",
   "metadata": {},
   "outputs": [
    {
     "name": "stdout",
     "output_type": "stream",
     "text": [
      "Odd\n",
      "Even\n",
      "Even\n",
      "Odd\n",
      "Even\n",
      "Even\n",
      "Even\n",
      "Odd\n",
      "Even\n",
      "Even\n"
     ]
    }
   ],
   "source": [
    "for x in genobject:\n",
    "    print(x)"
   ]
  },
  {
   "cell_type": "code",
   "execution_count": 58,
   "id": "a5df4cfc",
   "metadata": {},
   "outputs": [
    {
     "name": "stdout",
     "output_type": "stream",
     "text": [
      "[94, 43, 95, 93, 21, 37, 27, 49, 15, 74]\n",
      "[81, 84, 10, 70, 39, 9, 9, 2, 37, 22]\n"
     ]
    }
   ],
   "source": [
    "lst1 = list(np.random.randint(1,100,10))\n",
    "lst2 = list(np.random.randint(1,100,10))\n",
    "\n",
    "print(lst1)\n",
    "print(lst2)"
   ]
  },
  {
   "cell_type": "code",
   "execution_count": 56,
   "id": "d8afb015",
   "metadata": {},
   "outputs": [],
   "source": [
    "def multi_yield(a, b):\n",
    "    for i in range(len(a)):\n",
    "        #code\n",
    "        yield a[i]*10\n",
    "        #code\n",
    "        \n",
    "        yield b[i]\n",
    "\n",
    "        \n",
    "\n",
    "def alt_lst(m_y):\n",
    "    fin_lst = []\n",
    "    for g in m_y:\n",
    "        fin_lst.append(g)\n",
    "    return fin_lst"
   ]
  },
  {
   "cell_type": "code",
   "execution_count": 59,
   "id": "93030eda",
   "metadata": {},
   "outputs": [
    {
     "name": "stdout",
     "output_type": "stream",
     "text": [
      "[940, 81, 430, 84, 950, 10, 930, 70, 210, 39, 370, 9, 270, 9, 490, 2, 150, 37, 740, 22]\n"
     ]
    }
   ],
   "source": [
    "final_list = alt_lst(multi_yield(lst1,lst2))\n",
    "\n",
    "print(final_list)"
   ]
  },
  {
   "cell_type": "code",
   "execution_count": 60,
   "id": "fe2ec82d",
   "metadata": {},
   "outputs": [
    {
     "name": "stdout",
     "output_type": "stream",
     "text": [
      "1100\n"
     ]
    }
   ],
   "source": [
    "def sum_sq_n_cube(x):\n",
    "    return next(x) + next(x)\n",
    "\n",
    "def sq_n_cube(l):\n",
    "    # -----code \n",
    "    yield l*l\n",
    "    # ----- code\n",
    "    yield l*l*l\n",
    "\n",
    "print(sum_sq_n_cube(sq_n_cube(10)))"
   ]
  },
  {
   "cell_type": "code",
   "execution_count": 62,
   "id": "18c93c85",
   "metadata": {},
   "outputs": [
    {
     "name": "stdout",
     "output_type": "stream",
     "text": [
      "0\n",
      "2\n",
      "12\n",
      "36\n",
      "80\n",
      "150\n",
      "252\n",
      "392\n",
      "576\n",
      "810\n",
      "1100\n"
     ]
    }
   ],
   "source": [
    "for x in range(11):\n",
    "    print(sum_sq_n_cube(sq_n_cube(x)))"
   ]
  },
  {
   "cell_type": "markdown",
   "id": "c4fc9b72",
   "metadata": {},
   "source": [
    "#### Recursive functions"
   ]
  },
  {
   "cell_type": "code",
   "execution_count": null,
   "id": "bdaf3228",
   "metadata": {},
   "outputs": [],
   "source": [
    "# Recursive functions are functions that call themselves in the function body i.e. while defining the function.\n",
    "\n",
    "# As with our while loops, there MUST be something to tell the function to stop calling itself.\n",
    "\n",
    "# What can be done with recursive functions can usually be done with nested loops - we only need to know the depth of the \n",
    "# nested loops."
   ]
  },
  {
   "cell_type": "code",
   "execution_count": null,
   "id": "ae5072eb",
   "metadata": {},
   "outputs": [],
   "source": [
    "# function is calling itself - \n",
    "\n",
    "# rf1 ----- > executing\n",
    "# rf2 ......> executing\n",
    "# rf3 ......> executing\n",
    "....\n",
    "\n",
    "\n",
    "# rf100 ----> closes - gives an output"
   ]
  },
  {
   "cell_type": "code",
   "execution_count": null,
   "id": "06ef34c9",
   "metadata": {},
   "outputs": [],
   "source": [
    "# def recursivefunction():\n",
    "#      code ---- \n",
    "#      recursivefunction()"
   ]
  },
  {
   "cell_type": "code",
   "execution_count": 1,
   "id": "d34698fe",
   "metadata": {},
   "outputs": [
    {
     "name": "stdout",
     "output_type": "stream",
     "text": [
      "4\n"
     ]
    }
   ],
   "source": [
    "a = 20\n",
    "\n",
    "for x in range(10):\n",
    "    if x*x > a:\n",
    "        print(x-1)\n",
    "        break"
   ]
  },
  {
   "cell_type": "code",
   "execution_count": 2,
   "id": "44d2ccf2",
   "metadata": {},
   "outputs": [],
   "source": [
    "def highest_sq_rt(x,a):\n",
    "    if x*x>a:\n",
    "        return x-1\n",
    "    return highest_sq_rt(x+1,a)"
   ]
  },
  {
   "cell_type": "code",
   "execution_count": 3,
   "id": "0639530b",
   "metadata": {},
   "outputs": [
    {
     "data": {
      "text/plain": [
       "4"
      ]
     },
     "execution_count": 3,
     "metadata": {},
     "output_type": "execute_result"
    }
   ],
   "source": [
    "highest_sq_rt(0,20)"
   ]
  },
  {
   "cell_type": "code",
   "execution_count": 4,
   "id": "dc735744",
   "metadata": {},
   "outputs": [
    {
     "name": "stdout",
     "output_type": "stream",
     "text": [
      "120\n"
     ]
    }
   ],
   "source": [
    "def factorial(n):\n",
    "    if n == 0 or n == 1:\n",
    "        result = 1\n",
    "    else:\n",
    "        result = n * factorial(n-1)\n",
    "    return result\n",
    "\n",
    "print(factorial(5))"
   ]
  },
  {
   "cell_type": "code",
   "execution_count": null,
   "id": "4a47375f",
   "metadata": {},
   "outputs": [],
   "source": [
    "# f(5) = 1 x 2 x 3 x 4 x 5\n",
    "# f(5) = 5 x 4 x 3 x 2 x 1 = 5 x 72\n",
    "f(5) = 5 x f(4) # value? # result = 120\n",
    "f(5) = 5 x 4 x f(3) # value? # result = 24\n",
    "f(5) = 5 x 4 x 3 x f(2) # value? # result = 6\n",
    "f(5) = 5 x 4 x 3 x 2 x f(1) # value? # result = 2\n",
    "f(5) = 5 x 4 x 3 x 2 x 1 # result = 1"
   ]
  },
  {
   "cell_type": "code",
   "execution_count": null,
   "id": "6dd1be65",
   "metadata": {},
   "outputs": [],
   "source": [
    "#Disadvantages of recursive functions\n",
    "\n",
    "# Can end up consuming lot of processing memory and memory space. \n",
    "# If the stop condition has not been set (or set incorrectly) we will have infinite function calls - guaranteeing at some \n",
    "# point a system crash.\n",
    "# Usually a little hard to read and debug. The logic can be confusing.\n",
    "\n",
    "# Advantages\n",
    "# When depth of recurssion is not known - better to use recursion\n",
    "# Code can be broken down into elegant and neat blocks."
   ]
  },
  {
   "cell_type": "code",
   "execution_count": null,
   "id": "813c9575",
   "metadata": {},
   "outputs": [],
   "source": [
    "# def findfile(path, file):\n",
    "#     path = path\n",
    "#     if file in path:\n",
    "#         return path\n",
    "#     for folder in path:\n",
    "#         path = path + '\\\\' + file\n",
    "#         findfile(path,file)\n",
    "#     return path\n",
    "        "
   ]
  },
  {
   "cell_type": "markdown",
   "id": "be43e85c",
   "metadata": {},
   "source": [
    "### Wrappers and Decorators"
   ]
  },
  {
   "cell_type": "code",
   "execution_count": null,
   "id": "00248d38",
   "metadata": {},
   "outputs": [],
   "source": [
    "# Wrappers are functions that add functionality to other functions.\n",
    "\n",
    "# Banking app. \n",
    "# Banking app sends SMS - once some transaction is made?\n",
    "\n",
    "\n",
    "# Outgoing money\n",
    "# Incoming Money\n",
    "# Information - kyc or other updates\n",
    "# Check balance\n",
    "# Credit Card transaction\n",
    "# Auto Deduction on account\n",
    "# Auto Deduction on card\n",
    "# Add/Remove Beneficiary\n",
    "# End of month statement. \n",
    "\n",
    "\n",
    "\n",
    "# def fSendSMS():\n",
    "     # Connect to Airtel server\n",
    "    # Give banks login credentials\n",
    "    # Create the sms message\n",
    "    # Pass message to airtel server\n",
    "    # send the sms\n",
    "    "
   ]
  },
  {
   "cell_type": "code",
   "execution_count": null,
   "id": "2ce24a17",
   "metadata": {},
   "outputs": [],
   "source": []
  },
  {
   "cell_type": "code",
   "execution_count": null,
   "id": "3131a6f8",
   "metadata": {},
   "outputs": [],
   "source": []
  },
  {
   "cell_type": "code",
   "execution_count": null,
   "id": "1529fad6",
   "metadata": {},
   "outputs": [],
   "source": []
  }
 ],
 "metadata": {
  "kernelspec": {
   "display_name": "Python 3 (ipykernel)",
   "language": "python",
   "name": "python3"
  },
  "language_info": {
   "codemirror_mode": {
    "name": "ipython",
    "version": 3
   },
   "file_extension": ".py",
   "mimetype": "text/x-python",
   "name": "python",
   "nbconvert_exporter": "python",
   "pygments_lexer": "ipython3",
   "version": "3.9.13"
  }
 },
 "nbformat": 4,
 "nbformat_minor": 5
}
