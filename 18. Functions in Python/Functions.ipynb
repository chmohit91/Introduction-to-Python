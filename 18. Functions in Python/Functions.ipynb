{
 "cells": [
  {
   "cell_type": "markdown",
   "id": "89016445",
   "metadata": {},
   "source": [
    "# Functions"
   ]
  },
  {
   "cell_type": "code",
   "execution_count": null,
   "id": "e60ae49a",
   "metadata": {},
   "outputs": [],
   "source": [
    "%autosave 60"
   ]
  },
  {
   "cell_type": "markdown",
   "id": "aada6d76",
   "metadata": {},
   "source": [
    "In programming, as we start to write bigger and more complex programs, we will often have to repeat the same set of steps in many different places in our program. Functions are a convenient way to group our code into reusable blocks. A function contains a sequence of steps that can be performed repeatedly throughout a program without having to repeat the process of writing the same code again. \n",
    "\n",
    "One of the many advantages of a function is that it takes 'parameters' i.e. we can put in different values as parameters and the same operations defined in the function will be performed on those parameters. Rather than copy paste the same block of code and then manually change wherever the values need to be changed, we just define a function with the required\n",
    "parameters and the function takes care of changing the values in the code (as long as we have defined the function correctly). "
   ]
  },
  {
   "cell_type": "code",
   "execution_count": null,
   "id": "2ffd8fdf",
   "metadata": {},
   "outputs": [],
   "source": [
    "x = list(range(1,11))\n",
    "y = list(range(101,111))\n",
    "\n",
    "if len(x)>= len(y):\n",
    "    rangelen = len(x)\n",
    "else:\n",
    "    rangelen = len(y)\n",
    "\n",
    "new_lst = []\n",
    "for idx in range(rangelen):\n",
    "    new_lst.append(x[idx]+y[idx])\n",
    "\n",
    "print(new_lst)"
   ]
  },
  {
   "cell_type": "code",
   "execution_count": null,
   "id": "261d8ecf",
   "metadata": {},
   "outputs": [],
   "source": [
    "#sequence of code that we are going to use repeatedly\n",
    "\n",
    "lst1 = list(range(30,90,5))\n",
    "lst2 = list(range(80,90))\n",
    "\n",
    "def sumtwolists(x,y):\n",
    "    if len(x)>= len(y):\n",
    "        rangelen = len(y)\n",
    "    else:\n",
    "        rangelen = len(x)\n",
    "    new_lst = []\n",
    "    for idx in range(rangelen):\n",
    "        new_lst.append(x[idx]+y[idx])\n",
    "    return new_lst"
   ]
  },
  {
   "cell_type": "code",
   "execution_count": null,
   "id": "0a9bf44f",
   "metadata": {},
   "outputs": [],
   "source": [
    "firstcall = sumtwolists(x,y)\n",
    "\n",
    "secondcall = sumtwolists(lst1, lst2)\n",
    "\n",
    "print(firstcall)\n",
    "print(secondcall)"
   ]
  },
  {
   "cell_type": "code",
   "execution_count": null,
   "id": "cfa060d9",
   "metadata": {},
   "outputs": [],
   "source": [
    "for x in range(10):\n",
    "    print(x)"
   ]
  },
  {
   "cell_type": "code",
   "execution_count": null,
   "id": "d6d8d3ca",
   "metadata": {},
   "outputs": [],
   "source": [
    "for x in range(5):\n",
    "    print(x)"
   ]
  },
  {
   "cell_type": "code",
   "execution_count": null,
   "id": "a75aa2db",
   "metadata": {},
   "outputs": [],
   "source": [
    "def printx(x):\n",
    "    for i in range(x):\n",
    "        print(i)"
   ]
  },
  {
   "cell_type": "code",
   "execution_count": null,
   "id": "bf1ce3cd",
   "metadata": {},
   "outputs": [],
   "source": [
    "printx(10)"
   ]
  },
  {
   "cell_type": "code",
   "execution_count": null,
   "id": "8437423a",
   "metadata": {},
   "outputs": [],
   "source": [
    "printx(5)"
   ]
  },
  {
   "cell_type": "code",
   "execution_count": null,
   "id": "4e9a8e83",
   "metadata": {},
   "outputs": [],
   "source": []
  },
  {
   "cell_type": "code",
   "execution_count": null,
   "id": "af06e55a",
   "metadata": {},
   "outputs": [],
   "source": [
    "print(10+20)\n"
   ]
  },
  {
   "cell_type": "code",
   "execution_count": null,
   "id": "6d76e0b7",
   "metadata": {},
   "outputs": [],
   "source": [
    "print(30+40)"
   ]
  },
  {
   "cell_type": "code",
   "execution_count": null,
   "id": "ffab333d",
   "metadata": {},
   "outputs": [],
   "source": [
    "def add_s(x,y):\n",
    "    return x+y\n",
    "\n",
    "print(add_s(30,40))"
   ]
  },
  {
   "cell_type": "code",
   "execution_count": null,
   "id": "b3382086",
   "metadata": {},
   "outputs": [],
   "source": [
    "print(add_s('Ri','kki'))"
   ]
  },
  {
   "cell_type": "code",
   "execution_count": null,
   "id": "1b15a2cb",
   "metadata": {},
   "outputs": [],
   "source": [
    "print(1)"
   ]
  },
  {
   "cell_type": "code",
   "execution_count": null,
   "id": "be1ec07e",
   "metadata": {},
   "outputs": [],
   "source": [
    "a = sum(lst1)\n",
    "\n",
    "print(a)\n"
   ]
  },
  {
   "cell_type": "code",
   "execution_count": null,
   "id": "78f5d1b0",
   "metadata": {},
   "outputs": [],
   "source": []
  },
  {
   "cell_type": "markdown",
   "id": "c8f0cc85",
   "metadata": {},
   "source": [
    "The Python built-in functions are defined as the functions whose functionality is pre-defined in Python. These functions\n",
    "that are always present for use. These functions are known as Built-in Functions.There are 68 of them in Python 3 and can be viewed here : \n",
    "\n",
    "https://docs.python.org/3/library/functions.html"
   ]
  },
  {
   "cell_type": "markdown",
   "id": "b99221d7",
   "metadata": {},
   "source": [
    "##### User-defined functions are - as the name suggests - code defined by the user to run whenever the function is called."
   ]
  },
  {
   "cell_type": "markdown",
   "id": "3ca086e9",
   "metadata": {},
   "source": [
    "Defining a function\n",
    "\n",
    "1. The def keyword indicates the beginning of a function (also known as a function header). The function header is followed\n",
    "by a name in snake_case format that describes the task the function performs. It’s best practice to give your functions a\n",
    "descriptive yet concise name.\n",
    "\n",
    "    - The rules for naming a function are a lot like rules for naming a variable:\n",
    "    - They must start with a letter or an underscore: _.\n",
    "    - They can have numbers.\n",
    "    - They can be any length (within reason), but keep them short.\n",
    "    - They can't be the same as a Python keyword.\n",
    "    - Not a rule but general convention - function names should be descriptive i.e. in a word or two describe what the\n",
    "      function does. A noun in the function name for returning a value and a verb if changing the state of a program.\n",
    "\n",
    "2. Following the function name is a pair of parenthesis ( ) that can hold input values known as parameters. When calling a \n",
    "function(see below for function calls) these same 'parameters' are called arguments. More on parameters/arguments below.\n",
    "\n",
    "3. A colon : to mark the end of the function header.\n",
    "\n",
    "4. DocString - A simple function may not require DocString explaining the use, required parameters or any other \n",
    "explanations. However, it is expected to have multi-line comments beginning and ending with triple double-quotes \"\"\"xxx\"\"\"\n",
    "when the function and code are complex. Not having documentation may render your code un-usable in the real world. This \n",
    "is also not a rule but general convention. \n",
    "\n",
    "5. Lastly, we have one or more valid python statements that make up the function body. \n",
    "   - The function body(code inside the function - must be indented! When the indent is stopped/broken - the function ends)\n",
    "   - The function may or may not have a return statement in the body. A return statement is used when we require a certain\n",
    "     output for later use. And if the function is to only perform a task such as print a statement or call another function\n",
    "     then a return statement may not be necessary.\n",
    "   - There may be one or more outputs from a return statement\n",
    "\n",
    "Function Calls\n",
    "\n",
    "1. A function can be called simply by writing it with parenthesis after the name of the function. Any mandatory arguments(\n",
    "   or keyword arguments that need to be changed from their default) must be put in these parenthesis e.g.\n",
    "\n",
    "def doHomework(a, b): ----> Function definition which takes two parameters (a and b)\n",
    "    <super code by Rikki for Robot> - 'Robot - do my homework!'\n",
    "\n",
    "doHomework('Descriptive', 'Inferential') ----> Function call with two arguments ('Descriptive', 'Inferential')\n",
    "\n",
    "Parameters and Arguments are discussed in detail later in the session."
   ]
  },
  {
   "cell_type": "code",
   "execution_count": null,
   "id": "9412345c",
   "metadata": {},
   "outputs": [],
   "source": [
    "\n",
    "def funct_name(x):    # Function header\n",
    "    '''Docstring for funct_name made on June 24, 2023. It can be single or multi-line so either single, double or triple\n",
    "    quotes can be used. However, please remember the limitation of single and double quotes i.e. unless using the \\ to end\n",
    "    a line cannot be used for multi-line quotes. Usually docstrings are long so triple quotes are used to create docstrings\n",
    "    It is just convention nothing to stop you from using single or double line quotes.'''\n",
    "    return x\n",
    "    "
   ]
  },
  {
   "cell_type": "code",
   "execution_count": null,
   "id": "e3b3327d",
   "metadata": {},
   "outputs": [],
   "source": [
    "print(funct_name(20))"
   ]
  },
  {
   "cell_type": "code",
   "execution_count": null,
   "id": "461c6eca",
   "metadata": {},
   "outputs": [],
   "source": [
    "print(funct_name.__doc__)"
   ]
  },
  {
   "cell_type": "code",
   "execution_count": null,
   "id": "35d6fd6b",
   "metadata": {},
   "outputs": [],
   "source": [
    "funct_name()"
   ]
  },
  {
   "cell_type": "code",
   "execution_count": null,
   "id": "fe9d7343",
   "metadata": {},
   "outputs": [],
   "source": [
    "funct_name.__doc__ = 'New docstrings - simple and short'"
   ]
  },
  {
   "cell_type": "code",
   "execution_count": null,
   "id": "85cf0938",
   "metadata": {},
   "outputs": [],
   "source": [
    "funct_name()"
   ]
  },
  {
   "cell_type": "code",
   "execution_count": null,
   "id": "6d876d28",
   "metadata": {},
   "outputs": [],
   "source": [
    "print(help(funct_name))"
   ]
  },
  {
   "cell_type": "code",
   "execution_count": null,
   "id": "0d6be5ff",
   "metadata": {},
   "outputs": [],
   "source": [
    "x = print(10 > 20)\n",
    "\n",
    "print(x)"
   ]
  },
  {
   "cell_type": "code",
   "execution_count": null,
   "id": "e1a0f28e",
   "metadata": {},
   "outputs": [],
   "source": [
    "def print(x):\n",
    "    whatever is x send it to terminal"
   ]
  },
  {
   "cell_type": "code",
   "execution_count": null,
   "id": "8526e759",
   "metadata": {},
   "outputs": [],
   "source": [
    "# Defining a function\n",
    "\n",
    "def funct1(a,b):\n",
    "    if a > b:\n",
    "        return 'a is greater than b'\n",
    "    else:\n",
    "        #print('This part is not executed at all since after return execution stops')\n",
    "        return 'b is greater than or equal to a'\n",
    "    \n"
   ]
  },
  {
   "cell_type": "code",
   "execution_count": null,
   "id": "4166501c",
   "metadata": {},
   "outputs": [],
   "source": [
    "# function calls\n",
    "\n",
    "funct1(10,20)\n",
    "\n"
   ]
  },
  {
   "cell_type": "code",
   "execution_count": null,
   "id": "cb22d902",
   "metadata": {},
   "outputs": [],
   "source": [
    "def <name>(parameters<s>):\n",
    "    docstring\n",
    "    code\n",
    "    code\n",
    "    returnkeyword"
   ]
  },
  {
   "cell_type": "code",
   "execution_count": null,
   "id": "8c70d7a7",
   "metadata": {},
   "outputs": [],
   "source": [
    "print()"
   ]
  },
  {
   "cell_type": "code",
   "execution_count": null,
   "id": "83846b54",
   "metadata": {},
   "outputs": [],
   "source": [
    "def funct_doc():\n",
    "    '''This is a docstring which can can be multiline used to describe the function and parameters or other important \n",
    "    information. \n",
    "    xxxxxxxxxxxxxxxxxxxxxxxxxxxxxxxxxxxx\n",
    "    xxxxxxxxxxxxxxxxxxxxxxxxxxxxxxxxxxxx'''\n",
    "    print('funct_doc')\n",
    "    return 'Hi There'\n",
    "    \n",
    "    \n",
    "    \n",
    "    \n",
    "print('I am outside the function')\n",
    "    \n",
    "funct_doc()"
   ]
  },
  {
   "cell_type": "code",
   "execution_count": null,
   "id": "58d67369",
   "metadata": {},
   "outputs": [],
   "source": [
    "def twonumbers(x,y):\n",
    "    if len(x) >= len(y):\n",
    "        rangelen = len(y)\n",
    "    else:\n",
    "        rangelen = len(x)\n",
    "    new_lst = []\n",
    "    for idx in range(rangelen):\n",
    "        if x[idx] > y[idx]:\n",
    "            return x[idx]\n",
    "        else:\n",
    "            new_lst.append(y[idx])\n",
    "            print(new_lst)\n",
    "    "
   ]
  },
  {
   "cell_type": "code",
   "execution_count": null,
   "id": "d921baf5",
   "metadata": {},
   "outputs": [],
   "source": [
    "lst1 = [8,20,21,7,9,6]\n",
    "lst2 = [9,21,22,14,16,18]\n",
    "\n",
    "print(twonumbers(lst1,lst2))"
   ]
  },
  {
   "cell_type": "code",
   "execution_count": null,
   "id": "cb4a31a3",
   "metadata": {},
   "outputs": [],
   "source": [
    "print(funct_doc.__doc__)"
   ]
  },
  {
   "cell_type": "code",
   "execution_count": null,
   "id": "d24517a6",
   "metadata": {},
   "outputs": [],
   "source": [
    "x = funct_doc()\n",
    "\n",
    "print(x)"
   ]
  },
  {
   "cell_type": "code",
   "execution_count": null,
   "id": "24686af2",
   "metadata": {},
   "outputs": [],
   "source": [
    "funct_doc()"
   ]
  },
  {
   "cell_type": "code",
   "execution_count": null,
   "id": "b74cdb77",
   "metadata": {},
   "outputs": [],
   "source": [
    "print(funct_doc.__doc__)"
   ]
  },
  {
   "cell_type": "code",
   "execution_count": null,
   "id": "0e84cd0e",
   "metadata": {},
   "outputs": [],
   "source": [
    "print(help(funct_doc))"
   ]
  },
  {
   "cell_type": "code",
   "execution_count": null,
   "id": "b54f0e72",
   "metadata": {},
   "outputs": [],
   "source": [
    "print(funct_doc)"
   ]
  },
  {
   "cell_type": "code",
   "execution_count": null,
   "id": "8c5de54b",
   "metadata": {},
   "outputs": [],
   "source": [
    "print(funct_doc())"
   ]
  },
  {
   "cell_type": "code",
   "execution_count": null,
   "id": "a4a6b653",
   "metadata": {},
   "outputs": [],
   "source": [
    "print(id(funct_doc))\n",
    "print(id(funct_doc()))"
   ]
  },
  {
   "cell_type": "code",
   "execution_count": null,
   "id": "f3154523",
   "metadata": {},
   "outputs": [],
   "source": [
    "# def funct_name(parameter<s>):      - This is the function header\n",
    "#     '''Docstring <can be multiline and describes the function, parameters etc'''\n",
    "#     code for the function - Infinite lines\n",
    "#     return keyword (if function needs to give an output) - Return keyword is not mandatory if function is only going to \n",
    "#     perform an action. \n",
    "\n",
    "\n",
    "\n",
    "# Yield keyword also behaves similarly to return but there are major differences which we shall see later. "
   ]
  },
  {
   "cell_type": "code",
   "execution_count": null,
   "id": "8041c792",
   "metadata": {},
   "outputs": [],
   "source": []
  },
  {
   "cell_type": "code",
   "execution_count": null,
   "id": "40a0d77c",
   "metadata": {},
   "outputs": [],
   "source": [
    "def add_sum(a,b):\n",
    "    return a+b\n",
    "\n",
    "\n",
    "print(add_sum(10,20))\n",
    "print(add_sum(50,100))\n",
    "print(add_sum([1,2,3], [4,5,6]))"
   ]
  },
  {
   "cell_type": "code",
   "execution_count": null,
   "id": "417d02af",
   "metadata": {},
   "outputs": [],
   "source": [
    "#Examples:\n",
    "# With no return statement - will execute the code/task and then return None\n",
    "def welcome_message():\n",
    "    print('Welcome!')\n",
    "\n",
    "\n",
    "x = welcome_message()\n"
   ]
  },
  {
   "cell_type": "code",
   "execution_count": null,
   "id": "49a61874",
   "metadata": {},
   "outputs": [],
   "source": [
    "print(x)\n",
    "\n",
    "\n",
    "#print(welcome_message())"
   ]
  },
  {
   "cell_type": "code",
   "execution_count": null,
   "id": "9379e31d",
   "metadata": {},
   "outputs": [],
   "source": [
    "lst1 = [1,2,3,4]\n",
    "\n",
    "x = lst1.append(5)\n",
    "\n",
    "print(lst1)\n",
    "print(x)"
   ]
  },
  {
   "cell_type": "code",
   "execution_count": null,
   "id": "b63065f5",
   "metadata": {},
   "outputs": [],
   "source": [
    "def append_list(x, y):\n",
    "    x += [y]\n",
    "    \n",
    "\n",
    "z = [1,2,3,4]\n",
    "a = append_list(z, 5)\n",
    "\n",
    "print(z)\n",
    "print(a) \n",
    "\n",
    "\n",
    "#z = [1,2,3,4]                     z = [1,2,3,4,5]\n"
   ]
  },
  {
   "cell_type": "code",
   "execution_count": null,
   "id": "e5811dec",
   "metadata": {},
   "outputs": [],
   "source": [
    "a = 1,2\n",
    "\n",
    "print(type(a))"
   ]
  },
  {
   "cell_type": "code",
   "execution_count": null,
   "id": "04693c84",
   "metadata": {},
   "outputs": [],
   "source": [
    "b = 'Welcome One', 'Welcome all!'\n",
    "\n",
    "print(type(b))"
   ]
  },
  {
   "cell_type": "code",
   "execution_count": null,
   "id": "6f23ba96",
   "metadata": {},
   "outputs": [],
   "source": [
    "#With return statement\n",
    "def welcome_again():\n",
    "    return 'Welcome one and all'\n",
    "\n",
    "#print(welcome_again())"
   ]
  },
  {
   "cell_type": "code",
   "execution_count": null,
   "id": "18977532",
   "metadata": {},
   "outputs": [],
   "source": [
    "x = welcome_again()\n"
   ]
  },
  {
   "cell_type": "code",
   "execution_count": null,
   "id": "43300de4",
   "metadata": {},
   "outputs": [],
   "source": [
    "print(x)\n",
    "print(type(x))"
   ]
  },
  {
   "cell_type": "code",
   "execution_count": null,
   "id": "4e4d6563",
   "metadata": {},
   "outputs": [],
   "source": [
    "def funct():\n",
    "    if 20 > 10:\n",
    "        return 20\n",
    "    else:\n",
    "        return 30"
   ]
  },
  {
   "cell_type": "code",
   "execution_count": null,
   "id": "2021d355",
   "metadata": {},
   "outputs": [],
   "source": [
    "#With multiple return statements and with docstring\n",
    "def welcome_again_N_again():\n",
    "    '''Notice the comma's between 'Welcome one!' and 'Welcome all!' - indicating they are two outputs seperated by a comma. \n",
    "    The outputs are returned in the form of a tuple by default. It is the COMMA which makes this into a tuple. To return\n",
    "    as different datatypes is possible as given in code later in the session.'''\n",
    "\n",
    "    return 'Welcome one!', 'Welcome All'\n",
    "\n"
   ]
  },
  {
   "cell_type": "code",
   "execution_count": null,
   "id": "debcd677",
   "metadata": {},
   "outputs": [],
   "source": [
    "x = welcome_again_N_again()"
   ]
  },
  {
   "cell_type": "code",
   "execution_count": null,
   "id": "d0d8363c",
   "metadata": {},
   "outputs": [],
   "source": [
    "print(x)\n",
    "print(type(x))"
   ]
  },
  {
   "cell_type": "code",
   "execution_count": null,
   "id": "5e8b918e",
   "metadata": {},
   "outputs": [],
   "source": [
    "a,b = welcome_again_N_again()\n",
    "\n",
    "print(a)\n",
    "print(b)"
   ]
  },
  {
   "cell_type": "code",
   "execution_count": null,
   "id": "f87e296f",
   "metadata": {},
   "outputs": [],
   "source": [
    "print(welcome_again_N_again.__doc__)"
   ]
  },
  {
   "cell_type": "code",
   "execution_count": null,
   "id": "0c922456",
   "metadata": {},
   "outputs": [],
   "source": [
    "print(help(welcome_again_N_again))"
   ]
  },
  {
   "cell_type": "code",
   "execution_count": null,
   "id": "332f2a8e",
   "metadata": {},
   "outputs": [],
   "source": [
    "welcome_again_N_again.__doc__ = 'Docstring changed'"
   ]
  },
  {
   "cell_type": "code",
   "execution_count": null,
   "id": "3bdbb20c",
   "metadata": {},
   "outputs": [],
   "source": [
    "print(welcome_again_N_again.__doc__)"
   ]
  },
  {
   "cell_type": "code",
   "execution_count": null,
   "id": "dae6abc0",
   "metadata": {},
   "outputs": [],
   "source": [
    "print(type(welcome_again_N_again()))"
   ]
  },
  {
   "cell_type": "code",
   "execution_count": null,
   "id": "52fa1956",
   "metadata": {},
   "outputs": [],
   "source": [
    "tup1 = 1,2\n",
    "\n",
    "print(tup1)\n",
    "print(type(tup1))"
   ]
  },
  {
   "cell_type": "code",
   "execution_count": null,
   "id": "24bf3048",
   "metadata": {},
   "outputs": [],
   "source": [
    "import numpy\n",
    "\n",
    "print(dir(numpy))"
   ]
  },
  {
   "cell_type": "markdown",
   "id": "9d2d086c",
   "metadata": {},
   "source": [
    "## Now starts the fun!!"
   ]
  },
  {
   "cell_type": "code",
   "execution_count": null,
   "id": "972a48d0",
   "metadata": {},
   "outputs": [],
   "source": [
    "def welcome_message():\n",
    "    print('Welcome!')\n",
    "    \n",
    "def welcome_again():\n",
    "    return 'Welcome one and all!'\n",
    "\n"
   ]
  },
  {
   "cell_type": "code",
   "execution_count": null,
   "id": "84a0b8e4",
   "metadata": {},
   "outputs": [],
   "source": [
    "welcome_message() #Since we have printed here - note below output is printed as would appear to a user. "
   ]
  },
  {
   "cell_type": "code",
   "execution_count": null,
   "id": "4fce9c8f",
   "metadata": {},
   "outputs": [],
   "source": [
    "x = welcome_again()\n",
    "\n",
    "\n",
    "print(x)\n",
    "\n",
    "#Since there is no print command here - this is the return or output. On another IDE this would not be\n",
    "#thrown out at all. \n",
    "print('-'*100)"
   ]
  },
  {
   "cell_type": "code",
   "execution_count": null,
   "id": "6ffe5243",
   "metadata": {},
   "outputs": [],
   "source": [
    "welcome_again_N_again() #Again, note here that only because it is Jupyter you are getting an output below. On any other interpreter\n",
    "# you would not be able to see any output unless you printed it. "
   ]
  },
  {
   "cell_type": "code",
   "execution_count": null,
   "id": "be42bf99",
   "metadata": {},
   "outputs": [],
   "source": [
    "# Example of using help on a function to view its DocString\n",
    "\n",
    "help(welcome_again_N_again)"
   ]
  },
  {
   "cell_type": "code",
   "execution_count": null,
   "id": "684b3964",
   "metadata": {},
   "outputs": [],
   "source": [
    "# Using __doc__ method to view docstring\n",
    "print(welcome_again_N_again.__doc__)"
   ]
  },
  {
   "cell_type": "code",
   "execution_count": null,
   "id": "c6890038",
   "metadata": {},
   "outputs": [],
   "source": [
    "print(dir(welcome_again_N_again))"
   ]
  },
  {
   "cell_type": "code",
   "execution_count": null,
   "id": "8bb7adbc",
   "metadata": {},
   "outputs": [],
   "source": [
    "#Use dir(function) to see available methods of class or function\n",
    "dir(welcome_again_N_again)"
   ]
  },
  {
   "cell_type": "code",
   "execution_count": null,
   "id": "f18d79a3",
   "metadata": {},
   "outputs": [],
   "source": [
    "#Setting DocString for a function after having defined the function\n",
    "# This REPLACES any DocString that was implemented during function definition. \n",
    "\n",
    "welcome_again_N_again.__doc__ = 'Set DocString after defining function'"
   ]
  },
  {
   "cell_type": "code",
   "execution_count": null,
   "id": "8894ea70",
   "metadata": {},
   "outputs": [],
   "source": [
    "help(welcome_again_N_again)"
   ]
  },
  {
   "cell_type": "code",
   "execution_count": null,
   "id": "9d3bcc73",
   "metadata": {},
   "outputs": [],
   "source": [
    "print(welcome_again_N_again.__doc__)"
   ]
  },
  {
   "cell_type": "code",
   "execution_count": null,
   "id": "a206428e",
   "metadata": {},
   "outputs": [],
   "source": []
  },
  {
   "cell_type": "code",
   "execution_count": null,
   "id": "0ae6543d",
   "metadata": {},
   "outputs": [],
   "source": [
    "#Examples:\n",
    "# With no return statement - will execute the code/task and then return None\n",
    "def welcome_message():\n",
    "    print('Welcome!')\n",
    "    \n",
    "print(welcome_message())"
   ]
  },
  {
   "cell_type": "code",
   "execution_count": null,
   "id": "5e685a0a",
   "metadata": {},
   "outputs": [],
   "source": [
    "#With return statement\n",
    "def welcome_again():\n",
    "    return 'Welcome one and all!'\n",
    "\n",
    "print(welcome_again())\n",
    "\n"
   ]
  },
  {
   "cell_type": "code",
   "execution_count": null,
   "id": "4d5846fa",
   "metadata": {},
   "outputs": [],
   "source": [
    "#With multiple return statements and with docstring\n",
    "def welcome_again_N_again():\n",
    "    \"\"\"Notice the comma's between 'Welcome one!' and 'Welcome all!' - indicating they are two outputs seperated by a comma. \n",
    "    The outputs are returned in the form of a tuple by default. It is the COMMA which makes this into a tuple. To return\n",
    "    as different datatypes is possible as given in code later in the session.\"\"\"\n",
    "\n",
    "    return 'Welcome one!', 'Welcome one and All'"
   ]
  },
  {
   "cell_type": "code",
   "execution_count": null,
   "id": "80be13e1",
   "metadata": {},
   "outputs": [],
   "source": [
    "print(welcome_again_N_again.__doc__)"
   ]
  },
  {
   "cell_type": "code",
   "execution_count": null,
   "id": "65b2bcc3",
   "metadata": {},
   "outputs": [],
   "source": [
    "welcome_again_N_again.__doc__ = '''Notice the comma's between 'Welcome one!' and 'Welcome all!' - indicating they are two outputs seperated by a comma. \n",
    "    The outputs are returned in the form of a tuple by default. It is the COMMA which makes this into a tuple. To return\n",
    "    as different datatypes is possible as given in code later in the session. Rajesh wants to know what happens when we change \n",
    "    docstring'''"
   ]
  },
  {
   "cell_type": "code",
   "execution_count": null,
   "id": "53efc770",
   "metadata": {},
   "outputs": [],
   "source": [
    "print(welcome_again_N_again.__doc__)"
   ]
  },
  {
   "cell_type": "code",
   "execution_count": null,
   "id": "68240d32",
   "metadata": {},
   "outputs": [],
   "source": [
    "print(welcome_again_N_again())"
   ]
  },
  {
   "cell_type": "code",
   "execution_count": null,
   "id": "3f7ca3ba",
   "metadata": {},
   "outputs": [],
   "source": [
    "print(id(welcome_again_N_again))\n",
    "print(id(welcome_again_N_again()))"
   ]
  },
  {
   "cell_type": "code",
   "execution_count": null,
   "id": "86a545d2",
   "metadata": {},
   "outputs": [],
   "source": [
    "\n",
    "print(welcome_again_N_again())"
   ]
  },
  {
   "cell_type": "code",
   "execution_count": null,
   "id": "9a114850",
   "metadata": {},
   "outputs": [],
   "source": [
    "a,b = welcome_again_N_again()\n",
    "\n",
    "print(a)\n",
    "print(b)"
   ]
  },
  {
   "cell_type": "code",
   "execution_count": null,
   "id": "8b542cf5",
   "metadata": {},
   "outputs": [],
   "source": [
    "print(type(welcome_again_N_again()))"
   ]
  },
  {
   "cell_type": "code",
   "execution_count": null,
   "id": "45bf8876",
   "metadata": {},
   "outputs": [],
   "source": [
    "print(welcome_again_N_again.__doc__)"
   ]
  },
  {
   "cell_type": "code",
   "execution_count": null,
   "id": "08b19bde",
   "metadata": {},
   "outputs": [],
   "source": [
    "# In case of multiple returns from a function, the variables are returned in a tuple by default. Tuples are the easiest to \n",
    "# pack and unpack so one may not need to use anything but the default. However, the function can be altered to return the\n",
    "# variables in a different datatype format as evidenced below.\n",
    "\n",
    "test = welcome_again_N_again()\n",
    "\n",
    "print(test)\n",
    "print(type(test))"
   ]
  },
  {
   "cell_type": "code",
   "execution_count": null,
   "id": "869fa20f",
   "metadata": {},
   "outputs": [],
   "source": [
    "a = functionnameverylongfunctionwhichistedioustotype"
   ]
  },
  {
   "cell_type": "code",
   "execution_count": null,
   "id": "feb2898a",
   "metadata": {},
   "outputs": [],
   "source": [
    "# We could directly unpack the returns if we wished to.\n",
    "\n",
    "a,b = welcome_again_N_again()\n",
    "\n",
    "print(a)\n",
    "print(b)"
   ]
  },
  {
   "cell_type": "code",
   "execution_count": null,
   "id": "2a10fbf5",
   "metadata": {},
   "outputs": [],
   "source": [
    "def welcome_message_again_N_again_list():\n",
    "    return ['Welcome one!', 'Welcome all!']\n",
    "\n",
    "test1 = welcome_message_again_N_again_list()\n",
    "\n",
    "print(test1)\n",
    "print(type(test1))"
   ]
  },
  {
   "cell_type": "code",
   "execution_count": null,
   "id": "d3feb22e",
   "metadata": {},
   "outputs": [],
   "source": [
    "def funct1():\n",
    "    return 'Hi'\n",
    "\n",
    "\n"
   ]
  },
  {
   "cell_type": "code",
   "execution_count": null,
   "id": "7966967e",
   "metadata": {},
   "outputs": [],
   "source": [
    "a = funct1\n",
    "b = funct1()\n",
    "\n",
    "\n",
    "print(a)"
   ]
  },
  {
   "cell_type": "code",
   "execution_count": null,
   "id": "66663ecb",
   "metadata": {},
   "outputs": [],
   "source": [
    "print(b)"
   ]
  },
  {
   "cell_type": "code",
   "execution_count": null,
   "id": "1c86815d",
   "metadata": {},
   "outputs": [],
   "source": [
    "c = a()\n",
    "\n",
    "print(c)"
   ]
  },
  {
   "cell_type": "code",
   "execution_count": null,
   "id": "175d5238",
   "metadata": {},
   "outputs": [],
   "source": [
    "# Please remember that function object and return from a function execution are COMPLETELY two different things."
   ]
  },
  {
   "cell_type": "code",
   "execution_count": null,
   "id": "3daef7f2",
   "metadata": {},
   "outputs": [],
   "source": [
    "# a function object can be aliased"
   ]
  },
  {
   "cell_type": "code",
   "execution_count": null,
   "id": "c3a98e25",
   "metadata": {},
   "outputs": [],
   "source": [
    "def functionwithverylongname():\n",
    "    print('Very long name'*5)\n",
    "    "
   ]
  },
  {
   "cell_type": "code",
   "execution_count": null,
   "id": "4a99f40a",
   "metadata": {},
   "outputs": [],
   "source": [
    "obj1 = functionwithverylongname() #Function call"
   ]
  },
  {
   "cell_type": "code",
   "execution_count": null,
   "id": "eaadea42",
   "metadata": {},
   "outputs": [],
   "source": [
    "print(obj1)"
   ]
  },
  {
   "cell_type": "code",
   "execution_count": null,
   "id": "0b139b90",
   "metadata": {},
   "outputs": [],
   "source": [
    "obj2 = functionwithverylongname\n",
    "\n"
   ]
  },
  {
   "cell_type": "code",
   "execution_count": null,
   "id": "a38a04b3",
   "metadata": {},
   "outputs": [],
   "source": [
    "print(obj2)"
   ]
  },
  {
   "cell_type": "code",
   "execution_count": null,
   "id": "7c396ea4",
   "metadata": {},
   "outputs": [],
   "source": [
    "obj2()"
   ]
  },
  {
   "cell_type": "code",
   "execution_count": null,
   "id": "e1ac3f8f",
   "metadata": {},
   "outputs": [],
   "source": [
    "def welcome_message_again_N_again_set():\n",
    "    return {'Welcome one!', 'Welcome all!'}\n",
    "\n",
    "test2 = welcome_message_again_N_again_set()\n",
    "\n",
    "print(test2)\n",
    "print(type(test2))"
   ]
  },
  {
   "cell_type": "code",
   "execution_count": null,
   "id": "583a0d8f",
   "metadata": {},
   "outputs": [],
   "source": [
    "def welcome_again_N_again_dict():\n",
    "    a = 'Welcome One'\n",
    "    b = 'Welcome all'\n",
    "    return {'a':a, 'b': b}\n",
    "\n",
    "test3 = welcome_again_N_again_dict()\n",
    "\n",
    "print(test3)\n",
    "print(type(test3))"
   ]
  },
  {
   "cell_type": "code",
   "execution_count": null,
   "id": "194282e5",
   "metadata": {},
   "outputs": [],
   "source": [
    "# Function Calls continued\n",
    "# Functions can be called by simply stating them with the following syntax:\n",
    "\n",
    "welcome_again_N_again()\n",
    "\n",
    "x = 10\n",
    "\n"
   ]
  },
  {
   "cell_type": "code",
   "execution_count": null,
   "id": "d6838bef",
   "metadata": {},
   "outputs": [],
   "source": [
    "#Or an object can be created where the output of the function is stored in the variable/object\n",
    "\n",
    "test4 = welcome_again_N_again() #No output since the return is only stored in the object"
   ]
  },
  {
   "cell_type": "code",
   "execution_count": null,
   "id": "25c35b22",
   "metadata": {},
   "outputs": [],
   "source": [
    "print(test4) #Print the output that was stored in variable/object."
   ]
  },
  {
   "cell_type": "code",
   "execution_count": null,
   "id": "649c3182",
   "metadata": {},
   "outputs": [],
   "source": [
    "#Please also remember that function<object> and function<call> are two different things stored in two different memory IDs'.\n",
    "# A function<object> - the code that we want to re-use is stored at one memory location. While the return (or output) of\n",
    "# the function i.e. function<call> is stored at a different location. "
   ]
  },
  {
   "cell_type": "code",
   "execution_count": null,
   "id": "e544e2ea",
   "metadata": {},
   "outputs": [],
   "source": [
    "print(welcome_again_N_again())"
   ]
  },
  {
   "cell_type": "code",
   "execution_count": null,
   "id": "22341273",
   "metadata": {},
   "outputs": [],
   "source": [
    "def funct1():\n",
    "    return 10\n",
    "\n",
    "def funct2():\n",
    "    return 20\n",
    "\n",
    "def funct3():\n",
    "    return 30"
   ]
  },
  {
   "cell_type": "code",
   "execution_count": null,
   "id": "baefeb58",
   "metadata": {},
   "outputs": [],
   "source": [
    "functlst = [funct1(), funct2(), funct3()]"
   ]
  },
  {
   "cell_type": "code",
   "execution_count": null,
   "id": "2702fc0c",
   "metadata": {},
   "outputs": [],
   "source": [
    "for x in functlst:\n",
    "    print(x)"
   ]
  },
  {
   "cell_type": "code",
   "execution_count": null,
   "id": "02691ce7",
   "metadata": {},
   "outputs": [],
   "source": [
    "function object in the list\n",
    "\n",
    "print function object\n",
    "print function call\n",
    "\n",
    "\n",
    "function call itself stored in the list\n",
    "\n",
    "print the function call values"
   ]
  },
  {
   "cell_type": "code",
   "execution_count": null,
   "id": "3d2a2802",
   "metadata": {},
   "outputs": [],
   "source": []
  },
  {
   "cell_type": "code",
   "execution_count": null,
   "id": "e1b8b638",
   "metadata": {},
   "outputs": [],
   "source": []
  },
  {
   "cell_type": "code",
   "execution_count": null,
   "id": "9ebf32c3",
   "metadata": {},
   "outputs": [],
   "source": []
  },
  {
   "cell_type": "code",
   "execution_count": null,
   "id": "5d2c4198",
   "metadata": {},
   "outputs": [],
   "source": [
    "a = 10\n",
    "b = a\n",
    "\n",
    "print(b)"
   ]
  },
  {
   "cell_type": "code",
   "execution_count": null,
   "id": "66481183",
   "metadata": {},
   "outputs": [],
   "source": [
    "a = b\n",
    "\n"
   ]
  },
  {
   "cell_type": "code",
   "execution_count": null,
   "id": "9cfbe759",
   "metadata": {},
   "outputs": [],
   "source": [
    "def x_funct():\n",
    "    return 1000"
   ]
  },
  {
   "cell_type": "code",
   "execution_count": null,
   "id": "f5fc0ca4",
   "metadata": {},
   "outputs": [],
   "source": [
    "print(x_funct)"
   ]
  },
  {
   "cell_type": "code",
   "execution_count": null,
   "id": "467e4992",
   "metadata": {},
   "outputs": [],
   "source": [
    "x = x_funct()\n",
    "\n",
    "\n",
    "print(x)"
   ]
  },
  {
   "cell_type": "code",
   "execution_count": null,
   "id": "111a0e88",
   "metadata": {},
   "outputs": [],
   "source": [
    "y = x_funct"
   ]
  },
  {
   "cell_type": "code",
   "execution_count": null,
   "id": "e0638e32",
   "metadata": {},
   "outputs": [],
   "source": [
    "print(y)"
   ]
  },
  {
   "cell_type": "code",
   "execution_count": null,
   "id": "4860cc34",
   "metadata": {},
   "outputs": [],
   "source": [
    "def welcome_again_N_again():\n",
    "    return 'Welcome one', 'Welcome one and all'"
   ]
  },
  {
   "cell_type": "code",
   "execution_count": null,
   "id": "50e40539",
   "metadata": {},
   "outputs": [],
   "source": [
    "x = welcome_again_N_again\n",
    "\n",
    "\n",
    "print(x)"
   ]
  },
  {
   "cell_type": "code",
   "execution_count": null,
   "id": "c7a2e184",
   "metadata": {},
   "outputs": [],
   "source": [
    "y = welcome_again_N_again()\n",
    "\n",
    "#print(x)\n",
    "print(y)"
   ]
  },
  {
   "cell_type": "code",
   "execution_count": null,
   "id": "fd5f3777",
   "metadata": {},
   "outputs": [],
   "source": [
    "print(x())"
   ]
  },
  {
   "cell_type": "code",
   "execution_count": null,
   "id": "990b0782",
   "metadata": {},
   "outputs": [],
   "source": [
    "print(y())"
   ]
  },
  {
   "cell_type": "code",
   "execution_count": null,
   "id": "d6d3db48",
   "metadata": {},
   "outputs": [],
   "source": [
    "print(x())\n",
    "\n",
    "print(id(x))\n",
    "\n",
    "print(welcome_again_N_again())"
   ]
  },
  {
   "cell_type": "code",
   "execution_count": null,
   "id": "a23cc2fe",
   "metadata": {},
   "outputs": [],
   "source": [
    "print(welcome_again_N_again)\n",
    "print(id(welcome_again_N_again)) # Note no parenthesis so function has not been called\n",
    "print(x)\n",
    "print(id(x))"
   ]
  },
  {
   "cell_type": "code",
   "execution_count": null,
   "id": "4c7d7e34",
   "metadata": {},
   "outputs": [],
   "source": [
    "print(welcome_again_N_again())\n",
    "print(id(welcome_again_N_again())) # Note the parenthesis. Function has been called."
   ]
  },
  {
   "cell_type": "code",
   "execution_count": null,
   "id": "b69015e4",
   "metadata": {},
   "outputs": [],
   "source": [
    "testA = welcome_again_N_again # Note no parenthesis so function has not been called\n",
    "testB = welcome_again_N_again() # Note the parenthesis. Function has been called.\n",
    "\n",
    "print(id(testA))\n",
    "print(id(testB))\n",
    "#print(id(welcome_again_N_again))"
   ]
  },
  {
   "cell_type": "code",
   "execution_count": null,
   "id": "d9c1a5a3",
   "metadata": {},
   "outputs": [],
   "source": [
    "#-5 to 256 = \n",
    "\n",
    "a = 257\n",
    "b = 257\n",
    "\n",
    "print(id(a))\n",
    "print(id(b))"
   ]
  },
  {
   "cell_type": "code",
   "execution_count": null,
   "id": "80af0388",
   "metadata": {},
   "outputs": [],
   "source": [
    "print(testA)"
   ]
  },
  {
   "cell_type": "code",
   "execution_count": null,
   "id": "863ea214",
   "metadata": {},
   "outputs": [],
   "source": [
    "print(testB)"
   ]
  },
  {
   "cell_type": "markdown",
   "id": "411b7d73",
   "metadata": {},
   "source": [
    "As we see the id for Function {object} and function {call} are different. However, when stored in a variable - the variable\n",
    "points to the function{object} or function{call} id - expounding on the idea of variables as labels and memory re-usability\n",
    "in Python. "
   ]
  },
  {
   "cell_type": "code",
   "execution_count": null,
   "id": "6ce1ffe6",
   "metadata": {},
   "outputs": [],
   "source": [
    "# What are functions?\n",
    "\n",
    "# Standard set of code that we may need to run again and again are put in functions instead rewriting over and over. \n",
    "# Functions can take arguments for their parameters - thereby being able to run the same code but on different inputs. \n",
    "\n",
    "# Syntax of a function:\n",
    "\n",
    "# def <function_name>(parameter<s>):\n",
    "#        <Docstring>\n",
    "#        Code that needs to be repeated. \n",
    "#        May or may not have a return from the function call. \n",
    "\n",
    "# When do we use return keyword in a function ? When function is supposed to give us an ouput. \n",
    "# When do we not use a return keyword? When the function is only going to perform an action and no output is required. \n",
    "\n",
    "# What is the difference between function object and function call? \n",
    "\n",
    "# Object is the set of code that has been written and stored. This can be 'aliased' thereby making the alias also behave\n",
    "# like the original function.\n",
    "\n",
    "\n",
    "# Call is to execute the function. \n",
    "\n",
    "# Docstring - Description and any other information that developer thinks is important for the use of the function. \n",
    "\n",
    "#1. Shift + Tab in jupyter\n",
    "# function_name._doc__\n",
    "# help(function_name)\n",
    "\n"
   ]
  },
  {
   "cell_type": "code",
   "execution_count": null,
   "id": "52925bef",
   "metadata": {},
   "outputs": [],
   "source": [
    "print(add_tax(1000))"
   ]
  },
  {
   "cell_type": "code",
   "execution_count": null,
   "id": "15cfdc2c",
   "metadata": {},
   "outputs": [],
   "source": [
    "# Functions can be 'nested' or called inside other functions. \n",
    "\n",
    "def add_tax(a):\n",
    "    b = a*0.18\n",
    "    return b\n",
    "\n",
    "def add_taxdiscounted(a):\n",
    "    b = a*0.09\n",
    "    return b\n",
    "\n",
    "# def billing_statement(name, payables):\n",
    "#     x = sum(payables)\n",
    "#     y = x + add_tax(x)\n",
    "#     return f'{name}, your payables are {x} and including GST works out to {y}.'\n",
    "\n",
    "\n",
    "def billing_statement(name, payables, funct):\n",
    "    x = sum(payables)\n",
    "    y = x + funct(x)\n",
    "    return f'{name}, your payables are {x} and including GST works out to {y}.'\n",
    " \n",
    "new_var = billing_statement('Rikki', [100, 500, 300], add_taxdiscounted)\n",
    "\n",
    "print(new_var)"
   ]
  },
  {
   "cell_type": "code",
   "execution_count": null,
   "id": "6d5bea8c",
   "metadata": {},
   "outputs": [],
   "source": [
    "# Interestingly a function can be stored in lists, dictionaries, tuples and sets and of course in a\n",
    "# variable. Note - function call and function <object> are two different things. And either of them can be stored in a \n",
    "# variable or list, dict, tuple and set datatypes\n",
    "\n",
    "def welcome_message():\n",
    "    return 'Welcome!'\n",
    "    \n",
    "variable1 = welcome_message\n",
    "variable2 = welcome_message()\n",
    "#variable3 = variable1()\n",
    "\n",
    "\n",
    "print(variable1)\n",
    "print(variable2)\n",
    "#print(variable3)"
   ]
  },
  {
   "cell_type": "code",
   "execution_count": null,
   "id": "1b2b22ac",
   "metadata": {},
   "outputs": [],
   "source": [
    "print(welcome_message())"
   ]
  },
  {
   "cell_type": "code",
   "execution_count": null,
   "id": "dc47d8ec",
   "metadata": {},
   "outputs": [],
   "source": [
    "print(welcome_again_N_again())"
   ]
  },
  {
   "cell_type": "code",
   "execution_count": null,
   "id": "fde26553",
   "metadata": {},
   "outputs": [],
   "source": [
    "lst1 = [welcome_message, welcome_again_N_again]\n",
    "\n",
    "for f in lst1:\n",
    "    print(f())"
   ]
  },
  {
   "cell_type": "code",
   "execution_count": null,
   "id": "1c6c3ac6",
   "metadata": {},
   "outputs": [],
   "source": [
    "dict1 = {'a': welcome_message(), 'b':welcome_again_N_again()}\n",
    "\n",
    "print(dict1)"
   ]
  },
  {
   "cell_type": "code",
   "execution_count": null,
   "id": "f50e60dc",
   "metadata": {},
   "outputs": [],
   "source": [
    "def add_sum(x,y):\n",
    "    z = x+y\n",
    "    return z"
   ]
  },
  {
   "cell_type": "code",
   "execution_count": null,
   "id": "8752a882",
   "metadata": {},
   "outputs": [],
   "source": [
    "x = id(add_sum)\n",
    "\n",
    "print(x)"
   ]
  },
  {
   "cell_type": "code",
   "execution_count": null,
   "id": "bbc05217",
   "metadata": {},
   "outputs": [],
   "source": [
    "b = id(add_sum)\n",
    "\n",
    "print(b)"
   ]
  },
  {
   "cell_type": "code",
   "execution_count": null,
   "id": "35def0c4",
   "metadata": {},
   "outputs": [],
   "source": [
    "def ret_num():\n",
    "    return 10\n",
    "\n",
    "def add_sum(a,b):\n",
    "    print(a()+b)\n",
    "    \n",
    "def add_names():\n",
    "    return 'Neha'\n",
    "\n",
    "add_sum(ret_num,20)\n",
    "\n",
    "add_sum(add_names, ' says hello')"
   ]
  },
  {
   "cell_type": "code",
   "execution_count": null,
   "id": "ebb6e484",
   "metadata": {},
   "outputs": [],
   "source": []
  },
  {
   "cell_type": "code",
   "execution_count": null,
   "id": "5fca09f8",
   "metadata": {},
   "outputs": [],
   "source": [
    "def functinfunct(a):\n",
    "    print(a())\n",
    "    "
   ]
  },
  {
   "cell_type": "code",
   "execution_count": null,
   "id": "f6c1e54c",
   "metadata": {},
   "outputs": [],
   "source": [
    "functinfunct(welcome_message)"
   ]
  },
  {
   "cell_type": "code",
   "execution_count": null,
   "id": "3772fdb1",
   "metadata": {},
   "outputs": [],
   "source": []
  },
  {
   "cell_type": "code",
   "execution_count": null,
   "id": "fd089ab0",
   "metadata": {},
   "outputs": [],
   "source": []
  },
  {
   "cell_type": "code",
   "execution_count": null,
   "id": "75a6c398",
   "metadata": {},
   "outputs": [],
   "source": [
    "print(variable1)"
   ]
  },
  {
   "cell_type": "code",
   "execution_count": null,
   "id": "e70f07ba",
   "metadata": {},
   "outputs": [],
   "source": [
    "print(variable2)"
   ]
  },
  {
   "cell_type": "code",
   "execution_count": null,
   "id": "0f348ac5",
   "metadata": {},
   "outputs": [],
   "source": [
    "variable1()"
   ]
  },
  {
   "cell_type": "code",
   "execution_count": null,
   "id": "5ad3d69c",
   "metadata": {},
   "outputs": [],
   "source": [
    "function itself, and the return from your function call - lists, tuples, dictionaries, pass them as parameters or arguments \n",
    "of other functions"
   ]
  },
  {
   "cell_type": "code",
   "execution_count": null,
   "id": "fc4f6502",
   "metadata": {},
   "outputs": [],
   "source": [
    "#When a function <object> is stored to a variable - the variable now starts acting exactly like the function and you can \n",
    "#now call this variable as a function.\n",
    "\n",
    "def wel_mes(x,y):\n",
    "    return f'Welcome to {x}, Adarsh!'"
   ]
  },
  {
   "cell_type": "code",
   "execution_count": null,
   "id": "7d05e807",
   "metadata": {},
   "outputs": [],
   "source": [
    "x = wel_mes\n",
    "\n",
    "print(x('the Bahamas', 'Adarsh'))"
   ]
  },
  {
   "cell_type": "code",
   "execution_count": null,
   "id": "4ebd2b7b",
   "metadata": {},
   "outputs": [],
   "source": [
    "print(wel_mes('the Bahamas', 'Adarsh'))"
   ]
  },
  {
   "cell_type": "code",
   "execution_count": null,
   "id": "6b65977e",
   "metadata": {},
   "outputs": [],
   "source": [
    "print(type(first_iter)) #Note no parenthisis on the function while assigning - so function not called and object stored.\n",
    "variable3 = wel_mes"
   ]
  },
  {
   "cell_type": "code",
   "execution_count": null,
   "id": "b883d10e",
   "metadata": {},
   "outputs": [],
   "source": [
    "a = 10\n",
    "\n",
    "b = a\n",
    "\n"
   ]
  },
  {
   "cell_type": "code",
   "execution_count": null,
   "id": "19676468",
   "metadata": {},
   "outputs": [],
   "source": [
    "print(variable3('the Bahamas'))"
   ]
  },
  {
   "cell_type": "code",
   "execution_count": null,
   "id": "cbb0687e",
   "metadata": {},
   "outputs": [],
   "source": [
    "id1 = variable3('the Bahamas')\n",
    "id2 = variable3('Jamaica')\n",
    "\n",
    "print(id(id1))\n",
    "print(id(id2))"
   ]
  },
  {
   "cell_type": "code",
   "execution_count": null,
   "id": "d33ac799",
   "metadata": {},
   "outputs": [],
   "source": [
    "# function object - id - >>>> Change function object its ID will change, a = funct, b = funct, \n",
    "\n",
    "# function call () - return objects, likely to have different memory IDs UNLESS they fall under Python initialisation\n",
    "# or string interning rules.\n",
    "\n",
    "# print(id(variable3))\n",
    "# print(id1)\n",
    "# print(id2)\n",
    "\n",
    "def a_b(x):\n",
    "    if x == 'a':\n",
    "        return 10\n",
    "    elif x == 'b':\n",
    "        return 20\n",
    "    \n",
    "    \n",
    "idx = id(a_b('a'))\n",
    "idxx = id(a_b('b'))\n",
    "\n",
    "print(idx)\n",
    "print(idxx)"
   ]
  },
  {
   "cell_type": "code",
   "execution_count": null,
   "id": "16af77ee",
   "metadata": {},
   "outputs": [],
   "source": [
    "def wel_mes(x):\n",
    "    return f'Welcome {x}'\n",
    "\n",
    "var = wel_mes\n",
    "print(var)\n",
    "print(id(var))\n",
    "print(var('Python'))\n",
    "print(wel_mes('Pyht'))"
   ]
  },
  {
   "cell_type": "code",
   "execution_count": null,
   "id": "6aa39a8f",
   "metadata": {},
   "outputs": [],
   "source": [
    "def wel_mes(x):\n",
    "    return f'Welcome {x}*4'\n",
    "\n",
    "print(var('Python'))\n",
    "print(wel_mes('Pyht'))\n"
   ]
  },
  {
   "cell_type": "code",
   "execution_count": null,
   "id": "9163aca8",
   "metadata": {},
   "outputs": [],
   "source": []
  },
  {
   "cell_type": "code",
   "execution_count": null,
   "id": "d7b11e7f",
   "metadata": {},
   "outputs": [],
   "source": []
  },
  {
   "cell_type": "code",
   "execution_count": null,
   "id": "0740d52d",
   "metadata": {},
   "outputs": [],
   "source": [
    "print(wel_mes('the Bahamas'))"
   ]
  },
  {
   "cell_type": "code",
   "execution_count": null,
   "id": "29bbf92c",
   "metadata": {},
   "outputs": [],
   "source": [
    "list1 = [10, 'Rikki', welcome_again_N_again()]\n",
    "\n",
    "for x in list1:\n",
    "    print(x)"
   ]
  },
  {
   "cell_type": "code",
   "execution_count": null,
   "id": "4b382bcf",
   "metadata": {},
   "outputs": [],
   "source": [
    "test5 = list1[2]\n",
    "\n",
    "print(test5)"
   ]
  },
  {
   "cell_type": "code",
   "execution_count": null,
   "id": "053ca6f2",
   "metadata": {},
   "outputs": [],
   "source": [
    "tuple1 = (10, 'Rikki', welcome_again_N_again())\n",
    "print(type(tuple1))"
   ]
  },
  {
   "cell_type": "code",
   "execution_count": null,
   "id": "bbd39042",
   "metadata": {},
   "outputs": [],
   "source": [
    "for x in tuple1:\n",
    "    print(x)"
   ]
  },
  {
   "cell_type": "code",
   "execution_count": null,
   "id": "b39d81fe",
   "metadata": {},
   "outputs": [],
   "source": [
    "set1 = {10, 'Rikki', welcome_again_N_again()}\n",
    "for x in set1:\n",
    "    print(x)"
   ]
  },
  {
   "cell_type": "code",
   "execution_count": null,
   "id": "e3127802",
   "metadata": {},
   "outputs": [],
   "source": [
    "test5 = set1[1]"
   ]
  },
  {
   "cell_type": "code",
   "execution_count": null,
   "id": "08ce37de",
   "metadata": {},
   "outputs": [],
   "source": [
    "dict1 = {1 : 10, 2:'Rikki', 3:welcome_again_N_again()}\n",
    "\n",
    "\n",
    "print(id(welcome_again_N_again))\n",
    "\n",
    "for x in dict1.values():\n",
    "    print(x)"
   ]
  },
  {
   "cell_type": "code",
   "execution_count": null,
   "id": "4c6a0477",
   "metadata": {},
   "outputs": [],
   "source": [
    "test5 = dict1[3]()\n",
    "\n",
    "print(test5)"
   ]
  },
  {
   "cell_type": "code",
   "execution_count": null,
   "id": "7f3dadd7",
   "metadata": {},
   "outputs": [],
   "source": []
  },
  {
   "cell_type": "code",
   "execution_count": null,
   "id": "78146435",
   "metadata": {},
   "outputs": [],
   "source": [
    "#Examples:\n",
    "# With no return statement - will execute the code/task and then return None\n",
    "def welcome_message():\n",
    "    print('Welcome!')\n",
    "    \n",
    "print(welcome_message())"
   ]
  },
  {
   "cell_type": "code",
   "execution_count": null,
   "id": "38249ef7",
   "metadata": {},
   "outputs": [],
   "source": [
    "#With return statement\n",
    "def welcome_again():\n",
    "    return 'Welcome one and all!'\n",
    "\n",
    "welcome_again()\n",
    "\n"
   ]
  },
  {
   "cell_type": "code",
   "execution_count": null,
   "id": "0e2fe788",
   "metadata": {},
   "outputs": [],
   "source": [
    "#With multiple return statements and with docstring\n",
    "def welcome_again_N_again():\n",
    "    \"\"\"Notice the comma's between 'Welcome one!' and 'Welcome all!' - indicating they are two outputs seperated by a comma. \n",
    "    The outputs are returned in the form of a tuple by default. It is the COMMA which makes this into a tuple. To return\n",
    "    as different datatypes is possible as given in code later in the session.\"\"\"\n",
    "\n",
    "    return 'Welcome one!', 'Welcome all!'\n",
    "\n",
    "print(welcome_again_N_again())"
   ]
  },
  {
   "cell_type": "code",
   "execution_count": null,
   "id": "1f8f093c",
   "metadata": {},
   "outputs": [],
   "source": [
    "list2 = [welcome_message, welcome_again, welcome_again_N_again]\n",
    "\n",
    "for x in list2:\n",
    "    print(x())\n",
    "    \n"
   ]
  },
  {
   "cell_type": "code",
   "execution_count": null,
   "id": "24e67225",
   "metadata": {},
   "outputs": [],
   "source": [
    "for x in list2:\n",
    "    print(f'Return of {x} execution is {x()}.')"
   ]
  },
  {
   "cell_type": "code",
   "execution_count": null,
   "id": "80684c00",
   "metadata": {},
   "outputs": [],
   "source": [
    "\n",
    "\n",
    "def welcome():\n",
    "    return 'Welcome!'\n",
    "\n",
    "# Functions can be passed as arguments to other functions. \n",
    "\n",
    "def wel_mes_wFunc(x, y):\n",
    "    '''x expects a string and y expects a function object(without call)'''\n",
    "    print(x+' ' + y())"
   ]
  },
  {
   "cell_type": "code",
   "execution_count": null,
   "id": "ade1fcd0",
   "metadata": {},
   "outputs": [],
   "source": [
    "wel_mes_wFunc('Rikki', welcome)"
   ]
  },
  {
   "cell_type": "code",
   "execution_count": null,
   "id": "2e09d6e1",
   "metadata": {},
   "outputs": [],
   "source": [
    "# What are functions?\n",
    "\n",
    "# Piece of code that we intend to use repeatedly can be put inside a function so it is easily callable(re-usable).\n",
    "\n",
    "# Function syntax:\n",
    "\n",
    "def function_name(parameter<s>):\n",
    "    docstring\n",
    "    function body\n",
    "    return keyword (which outputs result of the execution of function. Once return kword is hit, function stops executing).\n",
    "\n",
    "\n",
    "def(keyword) function_name(must follow identifier rules) parenthesis(containing parameters to be supplied to the functi\n",
    "if any) and :\n",
    "    \n",
    "    Docstring (if any)\n",
    "    \n",
    "    Function body\n",
    "    \n",
    "    return keyword(optional)\n",
    "\n",
    "\n",
    "# One can have multiple return keywords in a function - as soon as the first one is hit, function stops executing. \n",
    "\n",
    "# Difference between a function object and a function return object.\n",
    "\n",
    "# Function object can be aliased. \n"
   ]
  },
  {
   "cell_type": "code",
   "execution_count": null,
   "id": "b21f6a3d",
   "metadata": {},
   "outputs": [],
   "source": []
  },
  {
   "cell_type": "code",
   "execution_count": null,
   "id": "43b5235d",
   "metadata": {},
   "outputs": [],
   "source": []
  },
  {
   "cell_type": "code",
   "execution_count": null,
   "id": "28542d87",
   "metadata": {},
   "outputs": [],
   "source": []
  },
  {
   "cell_type": "markdown",
   "id": "98280647",
   "metadata": {},
   "source": [
    "### Function parameters and function arguments"
   ]
  },
  {
   "cell_type": "code",
   "execution_count": null,
   "id": "87096436",
   "metadata": {},
   "outputs": [],
   "source": [
    "# While defining the function, parameters that we mandate for the code to run are inserted in the parenthesis and called\n",
    "# the function parameters\n",
    "# When calling the function, the data (variable, literal or object) that we input within parenthesis are called the arguments.\n",
    "# Basically, while defining the function and asking for parameters - the required input is called parameters and while\n",
    "# calling the function, these same inputs are called the arguments. "
   ]
  },
  {
   "cell_type": "code",
   "execution_count": null,
   "id": "f70d080d",
   "metadata": {},
   "outputs": [],
   "source": [
    "def add_sum(x,y):   #----> x,y are called parameters\n",
    "    return x+y\n",
    "\n",
    "\n",
    "\n",
    "add_sum(10,20) #-----> 10,20 Arguments to the parameters"
   ]
  },
  {
   "cell_type": "code",
   "execution_count": null,
   "id": "a59d0df4",
   "metadata": {},
   "outputs": [],
   "source": [
    "# There are mainly two types of parameters:\n",
    "# 1. Positional\n",
    "#    1b - Positional arbitary arguments\n",
    "# 2. Keyword\n",
    "\n",
    "# 1. Positional arguments \n",
    "# Arguments that get assigned to variables by their position while calling the function are positional arguments\n",
    "\n",
    "# Example:\n",
    "\n",
    "def hotel_greet(name, hotel):\n",
    "    return f'Welcome {name} to the {hotel}!'\n",
    "\n",
    "print(hotel_greet('Rikki', 'Ritz-Carlton'))"
   ]
  },
  {
   "cell_type": "code",
   "execution_count": null,
   "id": "aeab23d0",
   "metadata": {},
   "outputs": [],
   "source": [
    "# Note that the positional arguments are assigned while CALLING the function. Thereafter, you may use the variables inside\n",
    "# the function code in no particular order. \n",
    "\n",
    "def hotel_greet(name, hotel):\n",
    "    return f'Welcome to the {hotel} {name}! {hotel} is a fantastic hotel which we are sure you will agree with after\\\n",
    "    staying here'\n",
    "\n",
    "print(hotel_greet('Rikki','Ritz'))"
   ]
  },
  {
   "cell_type": "code",
   "execution_count": null,
   "id": "af28b92a",
   "metadata": {},
   "outputs": [],
   "source": [
    "print(hotel_greet(hotel='Ritz', name='Rikki'))"
   ]
  },
  {
   "cell_type": "code",
   "execution_count": null,
   "id": "84cbab06",
   "metadata": {},
   "outputs": [],
   "source": [
    "# 2. Keyword arguments\n",
    "\n",
    "# However, remembering the order of the arguments while using positional arguments can be tedious or impractical. After\n",
    "# all - incorrect order of positional arguments may result in unusable or silly code. \n",
    "\n",
    "print(hotel_greet('Ritz-Carlton', 'Rikki'))"
   ]
  },
  {
   "cell_type": "code",
   "execution_count": null,
   "id": "6cf6b00b",
   "metadata": {},
   "outputs": [],
   "source": [
    "# Python allows us to use keyword arguments to resolve this. \n",
    "\n",
    "# Positional parameters may also be called using Keyword arguments!\n",
    "\n",
    "print(hotel_greet(hotel = 'Ritz-Carlton', name = 'Rikki'))"
   ]
  },
  {
   "cell_type": "code",
   "execution_count": null,
   "id": "19f77993",
   "metadata": {},
   "outputs": [],
   "source": [
    "lst1 = [10,20,30,40]\n",
    "\n",
    "print(sum(lst1))"
   ]
  },
  {
   "cell_type": "code",
   "execution_count": null,
   "id": "0cbcff5a",
   "metadata": {},
   "outputs": [],
   "source": [
    "obj1 = range(1,10)\n",
    "\n",
    "print(obj1)"
   ]
  },
  {
   "cell_type": "code",
   "execution_count": null,
   "id": "57ff462f",
   "metadata": {},
   "outputs": [],
   "source": [
    "hotel1 = 'Ritz-Carlton'\n",
    "name1= 'Rikki'\n",
    "\n",
    "print(hotel_greet(name1, hotel1))"
   ]
  },
  {
   "cell_type": "code",
   "execution_count": null,
   "id": "a66b6bbc",
   "metadata": {},
   "outputs": [],
   "source": [
    "# Note that the positional arguments are assigned while CALLING the function. Thereafter, you may use the variables inside\n",
    "# the function code in no particular order. \n",
    "\n",
    "def hotel_greet(name, hotel):\n",
    "    return f'Welcome to the {hotel} {name}!'"
   ]
  },
  {
   "cell_type": "code",
   "execution_count": null,
   "id": "397fb45a",
   "metadata": {},
   "outputs": [],
   "source": [
    "print(hotel_greet('Astoria', 'Shankar'))"
   ]
  },
  {
   "cell_type": "code",
   "execution_count": null,
   "id": "11b86582",
   "metadata": {},
   "outputs": [],
   "source": [
    "def addn(x,y):\n",
    "    return x + y\n",
    "\n",
    "print(addn(10,5))"
   ]
  },
  {
   "cell_type": "code",
   "execution_count": null,
   "id": "748eda7c",
   "metadata": {},
   "outputs": [],
   "source": [
    "def divis(x,y):\n",
    "    return x / y\n",
    "\n",
    "print(divis(10,5))\n",
    "\n",
    "print(divis(5,10))"
   ]
  },
  {
   "cell_type": "code",
   "execution_count": null,
   "id": "c34eff91",
   "metadata": {},
   "outputs": [],
   "source": [
    "# Alternately, while defining the parameters itself - we could ask the arguments to be provided as keywords. In case \n",
    "# keyword arguments are not provided while calling the function, the keyword arguments can take their default arguments.\n",
    "\n",
    "def hotel_greeting(name='Rikki', hotel='Ritz-Carlton'):\n",
    "    return f'Welcome {name} to the {hotel}!'"
   ]
  },
  {
   "cell_type": "code",
   "execution_count": null,
   "id": "ca516ab9",
   "metadata": {},
   "outputs": [],
   "source": []
  },
  {
   "cell_type": "code",
   "execution_count": null,
   "id": "fc4e7aad",
   "metadata": {},
   "outputs": [],
   "source": [
    "print(hotel_greeting())\n",
    "\n",
    "\n"
   ]
  },
  {
   "cell_type": "code",
   "execution_count": null,
   "id": "8fb1fdb6",
   "metadata": {},
   "outputs": [],
   "source": [
    "#Example of interchanging the order of the keyword arguments without affecting the code\n",
    "\n",
    "print(hotel_greeting(hotel = 'Taj Hotel', name = 'Darshana'))"
   ]
  },
  {
   "cell_type": "code",
   "execution_count": null,
   "id": "664cbf4b",
   "metadata": {},
   "outputs": [],
   "source": [
    "# Here we can also only change only 1 of the arguments and the rest of the arguments will have the default value. \n",
    "\n",
    "print(hotel_greeting(hotel = 'Four Seasons'))"
   ]
  },
  {
   "cell_type": "code",
   "execution_count": null,
   "id": "6bf833ff",
   "metadata": {},
   "outputs": [],
   "source": [
    "# Of course, if the function has more than two keywords (example 5), you could change 1 to 4(or also 5) arguments and the \n",
    "# rest values would default. \n",
    "\n",
    "# We can mix and match positional and keyword arguments\n",
    "\n",
    "def hotel_greetings(hotel, name = 'Rikki'):\n",
    "    return f'Welcome to {hotel}, {name}!'"
   ]
  },
  {
   "cell_type": "code",
   "execution_count": null,
   "id": "3360b6ee",
   "metadata": {},
   "outputs": [],
   "source": [
    "print(hotel_greetings('Holiday Inn', name = 'Pinto')) #Keyword argument takes default"
   ]
  },
  {
   "cell_type": "code",
   "execution_count": null,
   "id": "ca4eea89",
   "metadata": {},
   "outputs": [],
   "source": [
    "print(hotel_greetings('Hell', name = 'Steve Jobs')) # Keyword argument changed"
   ]
  },
  {
   "cell_type": "code",
   "execution_count": null,
   "id": "91823217",
   "metadata": {},
   "outputs": [],
   "source": [
    "# One very important thing to note is that POSITIONAL arguments must ALWAYS ALWAYS ALWAYS be settled (i.e. ALL positional\n",
    "# arguments should have been assigned values before assigning/altering Keyword arguments)\n",
    "\n",
    "def hotel_greetings(hotel, name='Rikki'):\n",
    "     return f'Welcome to {hotel}, {name}!'"
   ]
  },
  {
   "cell_type": "code",
   "execution_count": null,
   "id": "e72cabc0",
   "metadata": {},
   "outputs": [],
   "source": [
    "1. Positional parameters must be settled while calling function AND they must be settled before settling keyword arguments. \n",
    "2. Keyword parameters if not supplied while calling will take defaults.\n",
    "3. Keyword parameters can be changed from their defaults (either all or some) while calling the function. "
   ]
  },
  {
   "cell_type": "code",
   "execution_count": null,
   "id": "cd3b9d96",
   "metadata": {},
   "outputs": [],
   "source": [
    "print(hotel_greetings(name='Steve Jobs', 'Hell')) # This will throw an error"
   ]
  },
  {
   "cell_type": "code",
   "execution_count": null,
   "id": "8a3f558c",
   "metadata": {},
   "outputs": [],
   "source": [
    "print(hotel_greetings('Hell', 'Steve Jobs'))"
   ]
  },
  {
   "cell_type": "code",
   "execution_count": null,
   "id": "4d11e2ea",
   "metadata": {},
   "outputs": [],
   "source": [
    "print(hotel_greetings('Hell', name = 'Steve Jobs'))"
   ]
  },
  {
   "cell_type": "code",
   "execution_count": null,
   "id": "c141c3e6",
   "metadata": {},
   "outputs": [],
   "source": [
    "# Funnily, this works as well though the orders have been changed. The positional argument has been assigned using it like\n",
    "# a keyword argument!\n",
    "\n",
    "print(hotel_greetings(name = 'Steve Jobs', hotel='Hell')) # This works"
   ]
  },
  {
   "cell_type": "code",
   "execution_count": null,
   "id": "6eedbcc3",
   "metadata": {},
   "outputs": [],
   "source": []
  },
  {
   "cell_type": "code",
   "execution_count": null,
   "id": "641c9231",
   "metadata": {},
   "outputs": [],
   "source": [
    "# Arbitary parameters. \n",
    "\n",
    "# When we do not know in advance the number of arguments to be passed into a function, while defining the function we can\n",
    "# prefix the parameter with an asterisk(*) denoting multiple arbitary arguments. \n",
    "\n",
    "# Python wraps arbitary(multiple) parameters in a tuple and accesses them using this tuple."
   ]
  },
  {
   "cell_type": "code",
   "execution_count": null,
   "id": "c5db90b7",
   "metadata": {},
   "outputs": [],
   "source": [
    "def greetings_mass(*names):\n",
    "    print(names)\n",
    "    print(type(names))\n",
    "    a,b, *c = names\n",
    "    print(f'{a} is a VIP member')\n",
    "    print(f'{b} is a Platinum member')\n",
    "    for name in c:\n",
    "        print(f'Welcome {name} to the Four Seasons!')"
   ]
  },
  {
   "cell_type": "code",
   "execution_count": null,
   "id": "a306284c",
   "metadata": {},
   "outputs": [],
   "source": [
    "shrishti1 = 'Pinto', 'Shabnam', 'Mayank', 'Ananya', 'Rahul', 'Aman', 'Prasanth', 'Sudheendra'\n",
    "\n",
    "print(shrishti1)\n",
    "print(type(shrishti1))\n"
   ]
  },
  {
   "cell_type": "code",
   "execution_count": null,
   "id": "4fee6e59",
   "metadata": {},
   "outputs": [],
   "source": [
    "greetings_mass('Pinto', 'Shabnam', 'Mayank', 'Ananya', 'Rahul', 'Aman', 'Prashanth','Sudheendra')"
   ]
  },
  {
   "cell_type": "code",
   "execution_count": null,
   "id": "a4bb3bf2",
   "metadata": {},
   "outputs": [],
   "source": [
    "lst1 = ['Pinto', 'Shabnam', 'Mayank']\n",
    "\n",
    "\n",
    "greetings_mass(lst1)"
   ]
  },
  {
   "cell_type": "code",
   "execution_count": null,
   "id": "0f40b555",
   "metadata": {},
   "outputs": [],
   "source": [
    "def greetings_mass(names):\n",
    "    print(names)\n",
    "    print(type(names))\n",
    "    for name in names:\n",
    "        print(f'Welcome {name}!')\n",
    "\n",
    "\n",
    "greetings_mass('Rikki','Rocky', 'Mickey','Hickey', 'Vikki', 'Lucky', 'Shakey')"
   ]
  },
  {
   "cell_type": "code",
   "execution_count": null,
   "id": "44051d8e",
   "metadata": {},
   "outputs": [],
   "source": []
  },
  {
   "cell_type": "code",
   "execution_count": null,
   "id": "6da90b77",
   "metadata": {},
   "outputs": [],
   "source": [
    "def greetings_mass_tup(*names, a):\n",
    "    real_name = a\n",
    "    aliases = names    \n",
    "    print('a is :', real_name)\n",
    "    print('aliases are :', aliases)\n",
    "    \n",
    "greetings_mass_tup('Rikki', 'Rocky', 'Vikki', 'Mickey', 'Lucky', 'Nikki', a = 'Shabnam')"
   ]
  },
  {
   "cell_type": "code",
   "execution_count": null,
   "id": "8c0ff038",
   "metadata": {},
   "outputs": [],
   "source": []
  },
  {
   "cell_type": "code",
   "execution_count": null,
   "id": "345dc728",
   "metadata": {},
   "outputs": [],
   "source": [
    "#Of course, the same thing accomplished by *args can be accomplished by passing a list as an argument in a function.\n",
    "\n",
    "def greetings_mass_list(a):\n",
    "    for x in a:\n",
    "        print(x)\n",
    "\n",
    "greetings_mass_list(['Rikki', 'Rocky', 'Vicky', 'Mickey'])"
   ]
  },
  {
   "cell_type": "code",
   "execution_count": null,
   "id": "b1a5c4bc",
   "metadata": {},
   "outputs": [],
   "source": []
  },
  {
   "cell_type": "code",
   "execution_count": null,
   "id": "aa53a34b",
   "metadata": {},
   "outputs": [],
   "source": [
    "# However, the fun starts when you combine *args (arbitary arguments) with lists. \n",
    "\n",
    "def asteriskargs_n_lists(*a):\n",
    "    print(a)\n",
    "    for x in a:\n",
    "        x += list('abcd')\n",
    "        print(x)\n",
    "    return a\n",
    "\n",
    "\n",
    "lst1 = [1,2,3,4]\n",
    "lst2 = [11,12,13,14]\n",
    "lst3 = [21,22,23,24]\n",
    "\n",
    "b = asteriskargs_n_lists(lst1, lst2,lst3)"
   ]
  },
  {
   "cell_type": "code",
   "execution_count": null,
   "id": "4231f235",
   "metadata": {},
   "outputs": [],
   "source": [
    "print(b)"
   ]
  },
  {
   "cell_type": "code",
   "execution_count": null,
   "id": "631138ec",
   "metadata": {},
   "outputs": [],
   "source": [
    "print(lst1)\n",
    "print(lst2)\n",
    "print(lst3)"
   ]
  },
  {
   "cell_type": "code",
   "execution_count": null,
   "id": "71c5de22",
   "metadata": {},
   "outputs": [],
   "source": [
    "def hotel_greetings_mass(*names, hotel=None):\n",
    "    if hotel == None:\n",
    "        for x in names:\n",
    "            print(f'Welcome {x}')\n",
    "    else:\n",
    "        for name in names:\n",
    "            print(f'Welcome {name} to {hotel}!')\n",
    "        "
   ]
  },
  {
   "cell_type": "code",
   "execution_count": null,
   "id": "92c50426",
   "metadata": {},
   "outputs": [],
   "source": [
    "hotel_greetings_mass('Ritz-Carlton', 'Rikki', 'Rocky', 'Vicky', 'Mickey') # This will throw an error since the\n",
    "#variable 'hotel' has not been defined."
   ]
  },
  {
   "cell_type": "code",
   "execution_count": null,
   "id": "303c99b7",
   "metadata": {},
   "outputs": [],
   "source": []
  },
  {
   "cell_type": "code",
   "execution_count": null,
   "id": "a16c959b",
   "metadata": {},
   "outputs": [],
   "source": [
    "def hotel_greetings_mass(*names, hotel='The Ritz-Carlton'):\n",
    "    for name in names:\n",
    "        print(f'Welcome {name} to {hotel}!')"
   ]
  },
  {
   "cell_type": "code",
   "execution_count": null,
   "id": "5cd62919",
   "metadata": {},
   "outputs": [],
   "source": [
    "hotel_greetings_mass('Rikki', 'Rocky', 'Vicky', 'Mickey') #This works - So, even though while\n",
    "# defining the function 'hotel' was a positional argument, in this case it has to be treated as a keyword argument since\n",
    "# Python doesnt know where the arbitary argument (denoted by *name) ends and which value to assign to hotel. "
   ]
  },
  {
   "cell_type": "code",
   "execution_count": null,
   "id": "72a00ed4",
   "metadata": {},
   "outputs": [],
   "source": [
    "hotel_greetings_mass2('Rikki', 'Rocky', 'Vicky', 'Mickey') # This works since the keyword argument 'hotel' picked up the\n",
    "# default value"
   ]
  },
  {
   "cell_type": "code",
   "execution_count": null,
   "id": "53f44072",
   "metadata": {},
   "outputs": [],
   "source": [
    "hotel_greetings_mass('Rikki', 'Rocky', 'Vicky', 'Mickey', hotel = 'The Holiday Inn') #This also works since the keyword\n",
    "# # argument value has only been changed."
   ]
  },
  {
   "cell_type": "code",
   "execution_count": null,
   "id": "9db1a067",
   "metadata": {},
   "outputs": [],
   "source": [
    "def hotel_greetings_mass3(hotel, *names):\n",
    "    for name in names:\n",
    "        print(f'Welcome {name} to {hotel}')\n",
    "        "
   ]
  },
  {
   "cell_type": "code",
   "execution_count": null,
   "id": "6b6a1821",
   "metadata": {},
   "outputs": [],
   "source": [
    "hotel_greetings_mass3('The Ritz-Carlton', 'Rikki', 'Rocky', 'Vicky', 'Mickey') #This works also because the positional\n",
    "# argument 'hotel' has been settled before the arbitary positional arguments 'name'"
   ]
  },
  {
   "cell_type": "code",
   "execution_count": null,
   "id": "119d52d2",
   "metadata": {},
   "outputs": [],
   "source": [
    "*args = arbitary positional arguments"
   ]
  },
  {
   "cell_type": "code",
   "execution_count": null,
   "id": "b24e2592",
   "metadata": {},
   "outputs": [],
   "source": [
    "#Dictionary type Arbitary Keyword arguments - **kwargs\n",
    "\n",
    "# Functions can take unlimited values as part of a dictionary passed as **kwargs\n",
    "\n",
    "def greetings_mass_dict(a):\n",
    "    for i in a:\n",
    "        print(i, a[i])\n",
    "        \n",
    "greetings_mass_dict({'name1':'Rikki', 'name2':'Rocky', 'name3': 'Vicky', 'name4':'Mickey'})"
   ]
  },
  {
   "cell_type": "code",
   "execution_count": null,
   "id": "67ec0e4f",
   "metadata": {},
   "outputs": [],
   "source": [
    "# initialization - \n",
    "\n",
    "# -5-256 - numbers\n",
    "# 0-255 - Ascii values\n",
    "# None\n",
    "# True/False\n",
    "\n",
    "\n",
    "# String Interning\n",
    "\n",
    "a = 'Python'\n",
    "b = 'Python'    \n",
    "\n",
    "print(a is b)\n",
    "\n",
    "\n",
    "# If the string follows identifier rules, then it gets put in a common pool. And any other strings that follow identifier rules\n",
    "# are checked against this common pool/list. If NOT present then they get put in this common list - otherwise - the new object\n",
    "# is NOT created and both variables point to the same object. "
   ]
  },
  {
   "cell_type": "code",
   "execution_count": null,
   "id": "a8452ad5",
   "metadata": {},
   "outputs": [],
   "source": [
    "# graphs\n",
    "\n",
    "\n",
    "\n",
    "plt.plot(color = 'blue', linewidth = 10)\n",
    "\n",
    "def plot(**x):\n",
    "    dictionary = {'color' = 'red', 'linewidth'=5, backgroundcolor = 'white', marker = 'circle'}\n",
    "    dictionary.update(x)\n",
    "    ---color = 'blue'\n",
    "    ---linewidth = 10"
   ]
  },
  {
   "cell_type": "code",
   "execution_count": null,
   "id": "f3d55fb4",
   "metadata": {},
   "outputs": [],
   "source": [
    "def greetings_mass_dict_kwarg(**a):\n",
    "    print(a)\n",
    "    print(type(a))\n",
    "    for i in a:\n",
    "        print(type(i))\n",
    "        print(i, a[i])"
   ]
  },
  {
   "cell_type": "code",
   "execution_count": null,
   "id": "e87a2ade",
   "metadata": {},
   "outputs": [],
   "source": [
    "greetings_mass_dict_kwarg(name1 = \"Rikki\", name2 = \"Rocky\", name3 = 'Vicky', name4 = 'Mickey')"
   ]
  },
  {
   "cell_type": "code",
   "execution_count": null,
   "id": "85b5d72f",
   "metadata": {},
   "outputs": [],
   "source": [
    "print(greetings_mass_dict_kwarg)"
   ]
  },
  {
   "cell_type": "markdown",
   "id": "9363eb54",
   "metadata": {},
   "source": [
    "### Lambda functions"
   ]
  },
  {
   "cell_type": "code",
   "execution_count": null,
   "id": "bdd901c2",
   "metadata": {},
   "outputs": [],
   "source": [
    "# Lambda functions are one liner functions. They are anonymous.\n",
    "\n",
    "def funct_A():\n",
    "    return 10\n",
    "\n",
    "def funct_B():\n",
    "    return 20\n",
    "\n",
    "lambda1 = lambda x: 10\n",
    "lambda2 = lambda x: 20\n",
    "\n",
    "print(funct_A)\n",
    "print(funct_B)\n",
    "print(lambda1)\n",
    "print(lambda2)"
   ]
  },
  {
   "cell_type": "code",
   "execution_count": null,
   "id": "97fde17a",
   "metadata": {},
   "outputs": [],
   "source": [
    "# Lambda functions are a special type of function in Python that can only evaluate expressions to one return line and have\n",
    "# no return keyword i.e They DO return an output but without specificying the return keyword. They are anonymous i.e. have\n",
    "# no name unlike normal functions which we name using the def keyword. However, lambda functions ARE defined i.e. what they\n",
    "# will do is stated - the difference is that normal functions are defined with the def keyword while lambda functions are\n",
    "# defined with the lambda keyword. "
   ]
  },
  {
   "cell_type": "code",
   "execution_count": null,
   "id": "69c2ce75",
   "metadata": {},
   "outputs": [],
   "source": [
    "# The syntax for lambda is :\n",
    "\n",
    "# lambda parameter(s): parameter(s) included in an expression\n",
    "\n",
    "# A lambda function can have as many number of variables as we need but only ONE return output. We can use other functions\n",
    "# (including other lambda functions) inside a lambda function as long as everything results only in one return. "
   ]
  },
  {
   "cell_type": "code",
   "execution_count": null,
   "id": "6b08462d",
   "metadata": {},
   "outputs": [],
   "source": [
    "# Regular function vs lamdba function\n",
    "\n",
    "#1. Regular function is defined by def. Lambda function is defined by lambda keyword\n",
    "#2. Regular function requires a function name. Lambda functions are anonymous - they do not take a name by default\n",
    "#3. Regular functions take parameters inside a pair of parenthesis. Lambda functions do not require the parameters to be\n",
    "# enclosed in parenthesis\n",
    "#4. Colon to end function header is common to both regular and lambda functions. \n",
    "#5. Regular functions can take a docstring. Lambda functions do not take a docstring\n",
    "#6. Function body begins in indented block after the function header. Lambda function, body begins immediately after the \n",
    "# colon.\n",
    "#7. Regular functions may or may not take a return keyword. Lambda functions - take no return keyword but DO output a return.\n",
    "#8. Regular functions may  evaluate multiple expressions in their body. Lambda functions will only evaluate ONE expression.\n",
    "#9. Regular functions have to be defined first and then called. Lambda functions are IIFE (Immediately Invoked Function \n",
    "# Expression)\n",
    "\n",
    "# Similarities between regular function and lambda function\n",
    "\n",
    "#1. Both are functions. \n",
    "#2. Both are stored in memory\n",
    "#3. Both can be aliased\n",
    "#4. Both can be nested"
   ]
  },
  {
   "cell_type": "code",
   "execution_count": null,
   "id": "a087440a",
   "metadata": {},
   "outputs": [],
   "source": [
    "lambda x,y: x+y"
   ]
  },
  {
   "cell_type": "code",
   "execution_count": null,
   "id": "bb80e687",
   "metadata": {},
   "outputs": [],
   "source": [
    "lambda1 = lambda x,y: x+y\n",
    "\n",
    "outputlambda = lambda1(10,20)\n",
    "\n",
    "print(outputlambda)"
   ]
  },
  {
   "cell_type": "code",
   "execution_count": null,
   "id": "9b310a25",
   "metadata": {},
   "outputs": [],
   "source": []
  },
  {
   "cell_type": "code",
   "execution_count": null,
   "id": "6daeefe2",
   "metadata": {},
   "outputs": [],
   "source": [
    "def funct1(x,y,z):\n",
    "    if x > y:\n",
    "        print(x)\n",
    "    if isinstance(z, str):\n",
    "        print(z)\n",
    "    return 10\n",
    "        \n",
    "        "
   ]
  },
  {
   "cell_type": "code",
   "execution_count": null,
   "id": "642aa9d3",
   "metadata": {},
   "outputs": [],
   "source": [
    "funct1(10,5,100)"
   ]
  },
  {
   "cell_type": "code",
   "execution_count": null,
   "id": "fa1b16f3",
   "metadata": {},
   "outputs": [],
   "source": [
    "print(isinstance([1,2,3],(int,float,list)))"
   ]
  },
  {
   "cell_type": "code",
   "execution_count": null,
   "id": "ea3015fc",
   "metadata": {},
   "outputs": [],
   "source": [
    "print((lambda x,y : x*y)(100,20))"
   ]
  },
  {
   "cell_type": "code",
   "execution_count": null,
   "id": "f126c4ca",
   "metadata": {},
   "outputs": [],
   "source": [
    "dict1 = dict(zip(list('bldaj'), [7,3,2,9,4]))\n",
    "\n",
    "print(dict1)"
   ]
  },
  {
   "cell_type": "code",
   "execution_count": null,
   "id": "002885a0",
   "metadata": {},
   "outputs": [],
   "source": [
    "a = dict1.items()\n",
    "\n",
    "print(a)"
   ]
  },
  {
   "cell_type": "code",
   "execution_count": null,
   "id": "44d55597",
   "metadata": {},
   "outputs": [],
   "source": [
    "def sortkey(x):\n",
    "    return x[1]"
   ]
  },
  {
   "cell_type": "code",
   "execution_count": null,
   "id": "828b86a9",
   "metadata": {},
   "outputs": [],
   "source": [
    "dict2 = dict(sorted(dict1.items(), key = lambda x : x[1]))\n",
    "\n",
    "print(dict2)"
   ]
  },
  {
   "cell_type": "code",
   "execution_count": null,
   "id": "28510443",
   "metadata": {},
   "outputs": [],
   "source": []
  },
  {
   "cell_type": "code",
   "execution_count": null,
   "id": "b3f447e3",
   "metadata": {},
   "outputs": [],
   "source": [
    "def simple_funct():\n",
    "    if 10 > 20:\n",
    "        print('Hi')\n",
    "    else:\n",
    "        print('Hello')\n",
    "    z = 10**3\n",
    "    \n",
    "    return z"
   ]
  },
  {
   "cell_type": "code",
   "execution_count": null,
   "id": "50916a2d",
   "metadata": {},
   "outputs": [],
   "source": [
    "def funct1(x):\n",
    "    return x+1"
   ]
  },
  {
   "cell_type": "code",
   "execution_count": null,
   "id": "376ebedc",
   "metadata": {},
   "outputs": [],
   "source": [
    "lambda_funct = lambda x : x + 1"
   ]
  },
  {
   "cell_type": "code",
   "execution_count": null,
   "id": "1be06a28",
   "metadata": {},
   "outputs": [],
   "source": [
    "print(funct1)"
   ]
  },
  {
   "cell_type": "code",
   "execution_count": null,
   "id": "e9a6418c",
   "metadata": {},
   "outputs": [],
   "source": [
    "print(lambda_funct)"
   ]
  },
  {
   "cell_type": "code",
   "execution_count": null,
   "id": "ef0467d3",
   "metadata": {},
   "outputs": [],
   "source": [
    "lambda_funct2 = lambda x,y,z: (x+y) * z"
   ]
  },
  {
   "cell_type": "code",
   "execution_count": null,
   "id": "36d06438",
   "metadata": {},
   "outputs": [],
   "source": [
    "print(lambda_funct2)"
   ]
  },
  {
   "cell_type": "code",
   "execution_count": null,
   "id": "25a64ed7",
   "metadata": {},
   "outputs": [],
   "source": [
    "def sorttup(x):\n",
    "    return x[1]"
   ]
  },
  {
   "cell_type": "code",
   "execution_count": null,
   "id": "6f20ffa3",
   "metadata": {},
   "outputs": [],
   "source": [
    "tup1 = (('Yamini', 99), ('Dhananjay', 95), ('Sideshwari',98))"
   ]
  },
  {
   "cell_type": "code",
   "execution_count": null,
   "id": "1a19c834",
   "metadata": {},
   "outputs": [],
   "source": [
    "tup2 = tuple(sorted(tup1, key = sorttup))\n",
    "\n",
    "print(tup2)"
   ]
  },
  {
   "cell_type": "code",
   "execution_count": null,
   "id": "39e76ed5",
   "metadata": {},
   "outputs": [],
   "source": [
    "tup3 = tuple(sorted(tup1, key = lambda x : x[1]))\n",
    "\n",
    "print(tup3)"
   ]
  },
  {
   "cell_type": "code",
   "execution_count": null,
   "id": "d4aa70df",
   "metadata": {},
   "outputs": [],
   "source": [
    "print(lambda_funct2(10,20,30))"
   ]
  },
  {
   "cell_type": "code",
   "execution_count": null,
   "id": "f5f5fe7e",
   "metadata": {},
   "outputs": [],
   "source": [
    "print(funct1)"
   ]
  },
  {
   "cell_type": "code",
   "execution_count": null,
   "id": "80c3ee31",
   "metadata": {},
   "outputs": [],
   "source": [
    "print(lambda_funct)"
   ]
  },
  {
   "cell_type": "code",
   "execution_count": null,
   "id": "29573499",
   "metadata": {},
   "outputs": [],
   "source": [
    "def funct1(x):\n",
    "    return x[1]"
   ]
  },
  {
   "cell_type": "code",
   "execution_count": null,
   "id": "cbbad61b",
   "metadata": {},
   "outputs": [],
   "source": [
    "lst1 = [(21,32), (79,42), (42,33), (81,12), (64,27)]\n",
    "\n",
    "lst1.sort(key = lambda x : x[1])\n",
    "\n",
    "print(lst1)"
   ]
  },
  {
   "cell_type": "code",
   "execution_count": null,
   "id": "3b537009",
   "metadata": {},
   "outputs": [],
   "source": [
    "print(lambda x : x *)"
   ]
  },
  {
   "cell_type": "code",
   "execution_count": null,
   "id": "b0f422f8",
   "metadata": {},
   "outputs": [],
   "source": [
    "print(funct1(100))"
   ]
  },
  {
   "cell_type": "code",
   "execution_count": null,
   "id": "a9c2cdb4",
   "metadata": {},
   "outputs": [],
   "source": [
    "print(lambda_funct(100))"
   ]
  },
  {
   "cell_type": "code",
   "execution_count": null,
   "id": "82fc3fd2",
   "metadata": {},
   "outputs": [],
   "source": [
    "def funct2(a,b):\n",
    "    if a > b:\n",
    "        print('Happy Halloween')\n",
    "    else:\n",
    "        print('Merry Christmas')\n",
    "    if a > b:\n",
    "        print('Sending you ghosts and ghouls to keep you company')\n",
    "    else:\n",
    "        print('Santa is on his way coz you been good')"
   ]
  },
  {
   "cell_type": "code",
   "execution_count": null,
   "id": "24c5f561",
   "metadata": {},
   "outputs": [],
   "source": [
    "def addsum(a,b):\n",
    "    return a+b"
   ]
  },
  {
   "cell_type": "code",
   "execution_count": null,
   "id": "bffbbdbb",
   "metadata": {},
   "outputs": [],
   "source": [
    "lambda_funct2 = lambda x : x*5"
   ]
  },
  {
   "cell_type": "code",
   "execution_count": null,
   "id": "7e33684f",
   "metadata": {},
   "outputs": [],
   "source": [
    "print((lambda x : x +1)(10)) \n",
    "\n",
    "# Immediately Invoked Function Expression    (IIFE of iffy)"
   ]
  },
  {
   "cell_type": "code",
   "execution_count": null,
   "id": "8cb8289d",
   "metadata": {},
   "outputs": [],
   "source": [
    "lambdaalias = lambda x : x +1\n",
    "\n",
    "print(lambdaalias(10))\n",
    "print(lambdaalias(20))"
   ]
  },
  {
   "cell_type": "code",
   "execution_count": null,
   "id": "0e0bf7c9",
   "metadata": {},
   "outputs": [],
   "source": [
    "print(simple_funct)\n",
    "\n",
    "print(lambda_funct)\n",
    "print(lambda_funct2)"
   ]
  },
  {
   "cell_type": "code",
   "execution_count": null,
   "id": "bfa316e9",
   "metadata": {},
   "outputs": [],
   "source": [
    "lambda_funct(10)"
   ]
  },
  {
   "cell_type": "code",
   "execution_count": null,
   "id": "2b98d034",
   "metadata": {},
   "outputs": [],
   "source": [
    "x = lambda x : x+1\n",
    "\n",
    "print(x)"
   ]
  },
  {
   "cell_type": "code",
   "execution_count": null,
   "id": "dec8a8f5",
   "metadata": {},
   "outputs": [],
   "source": [
    "\n"
   ]
  },
  {
   "cell_type": "code",
   "execution_count": null,
   "id": "cc0f52c2",
   "metadata": {},
   "outputs": [],
   "source": [
    "print(lambda x : x)"
   ]
  },
  {
   "cell_type": "code",
   "execution_count": null,
   "id": "f956c1bc",
   "metadata": {},
   "outputs": [],
   "source": [
    "print(lambda x : x+5)"
   ]
  },
  {
   "cell_type": "code",
   "execution_count": null,
   "id": "efd27ac8",
   "metadata": {},
   "outputs": [],
   "source": [
    "# As we see above, we have only received a lambda function object when we printed. We have not called the lambda function\n",
    "# yet. "
   ]
  },
  {
   "cell_type": "code",
   "execution_count": null,
   "id": "ff7a7844",
   "metadata": {},
   "outputs": [],
   "source": [
    "# Lets compare regular functions with lambda function syntax. \n",
    "\n",
    "def addition(x,y):\n",
    "    return x + y\n",
    "\n",
    "print(addition(10,20))"
   ]
  },
  {
   "cell_type": "code",
   "execution_count": null,
   "id": "3f076ca3",
   "metadata": {},
   "outputs": [],
   "source": [
    "print(addition)"
   ]
  },
  {
   "cell_type": "code",
   "execution_count": null,
   "id": "c3533224",
   "metadata": {},
   "outputs": [],
   "source": [
    "print((lambda x,y : x+y)(10,20))"
   ]
  },
  {
   "cell_type": "code",
   "execution_count": null,
   "id": "6fb4c0c1",
   "metadata": {},
   "outputs": [],
   "source": [
    "# Difference between lambda and regular functions\n",
    "\n",
    "#1. Regular functions take an identifier name. Lambda functions are anonymous i.e. they do not take identifier name. \n",
    "#2. Regular functions take a return keyword to output something. Lamdba functions do not require or take the return keyword.\n",
    "#3. Lambda functions are IIFE - i.e can be called immediately. Regular functions are not. \n",
    "#4. Regular functions can evaluate multiple expressions. Lambda functions can only evaluate a single expression. "
   ]
  },
  {
   "cell_type": "code",
   "execution_count": null,
   "id": "129586b3",
   "metadata": {},
   "outputs": [],
   "source": [
    "lambdalias = lambda x,y : x+y\n",
    "\n",
    "print(lambdalias(10,20))\n",
    "print(lambdalias(50,100))"
   ]
  },
  {
   "cell_type": "code",
   "execution_count": null,
   "id": "33dd34e2",
   "metadata": {},
   "outputs": [],
   "source": [
    "lambdalias(1000,2000)"
   ]
  },
  {
   "cell_type": "code",
   "execution_count": null,
   "id": "c1bd3d30",
   "metadata": {},
   "outputs": [],
   "source": [
    "def trial(x,y):\n",
    "    return x+y, x*y"
   ]
  },
  {
   "cell_type": "code",
   "execution_count": null,
   "id": "8cc1e5e8",
   "metadata": {},
   "outputs": [],
   "source": [
    "print(trial(10,20))"
   ]
  },
  {
   "cell_type": "code",
   "execution_count": null,
   "id": "8498ba5e",
   "metadata": {},
   "outputs": [],
   "source": [
    "lambda1 = lambda x,y : (x+y, x*y)"
   ]
  },
  {
   "cell_type": "code",
   "execution_count": null,
   "id": "c42f0848",
   "metadata": {},
   "outputs": [],
   "source": [
    "print(lambda1(10,20))"
   ]
  },
  {
   "cell_type": "code",
   "execution_count": null,
   "id": "b37a01c5",
   "metadata": {},
   "outputs": [],
   "source": [
    "a = 5\n",
    "b = 10\n",
    "c = 20\n",
    "\n",
    "def funct1(a,b,c):\n",
    "    if a > b:\n",
    "        print(a)\n",
    "    else:\n",
    "        print(b)\n",
    "    if c > b:\n",
    "        print('Hi')\n",
    "    else:\n",
    "        print('Hello')\n",
    "        \n",
    "        \n",
    "funct1(a,b,c)\n",
    "    \n",
    "    \n",
    "    "
   ]
  },
  {
   "cell_type": "code",
   "execution_count": null,
   "id": "23cf0ffa",
   "metadata": {},
   "outputs": [],
   "source": [
    "lambda1 = lambda x : [i*5 for i in range(x)]\n",
    "\n",
    "print(lambda1(5))"
   ]
  },
  {
   "cell_type": "code",
   "execution_count": null,
   "id": "6dac5e6e",
   "metadata": {},
   "outputs": [],
   "source": [
    "lambda1 = lambda a,b: a if a>b else b\n",
    "\n",
    "print(lambda1(30,20))"
   ]
  },
  {
   "cell_type": "code",
   "execution_count": null,
   "id": "0660ab4d",
   "metadata": {},
   "outputs": [],
   "source": [
    "lambda1 = lambda a,b,c: a if a>b else b if b > c else c\n",
    "\n",
    "print(lambda1(10,20,30))"
   ]
  },
  {
   "cell_type": "code",
   "execution_count": null,
   "id": "8c81918d",
   "metadata": {},
   "outputs": [],
   "source": [
    "lambda1 = lambda a,b,c : a if a>b else 'Hi' if c > b else 'Hello'\n",
    "\n",
    "print(lambda1(5,30,20))"
   ]
  },
  {
   "cell_type": "code",
   "execution_count": null,
   "id": "747721f2",
   "metadata": {},
   "outputs": [],
   "source": [
    "lambda1 = lambda a,b,c : a if a>b else 'Hi'\n",
    "\n",
    "print(lambda1(5,20,10))"
   ]
  },
  {
   "cell_type": "code",
   "execution_count": null,
   "id": "d1c1aaa8",
   "metadata": {},
   "outputs": [],
   "source": [
    "# What are the similarities between a regular function and a lambda function\n",
    "\n",
    "# both are function objects\n",
    "# both can be aliased and the alias used. \n",
    "# Both can be called. \n",
    "# Both can take parameters. \n",
    "# Both can nest other functions i.e. lambda can nest lambda or regular functions while regular functions can nest regular\n",
    "# functions or lambda functions. \n",
    "\n",
    "# What are the differences?\n",
    "\n",
    "#1. Lambda will always return an output. With a function we need to use return keyword to return an output. \n",
    "#2. Lambda will only evaluate and output a single expression while regular functions can evaluate multiple expressions. \n",
    "#3. lambda is used to define a lambda function while def is used to define a regular function. \n",
    "#4. lambda functions are anonymous i.e. they do not take a name while regular functions need an identifier while defining. \n",
    "#5. lambda is Invoked Immediately Function Expression (IIFE). Regular functions cannot be immediately invoked.\n"
   ]
  },
  {
   "cell_type": "code",
   "execution_count": null,
   "id": "10a97fe7",
   "metadata": {},
   "outputs": [],
   "source": [
    "lst1 = []\n",
    "\n",
    "lambda10 = lambda x,y : ([i+10 for i in range(5)],[j+2 for j in range(5)]) \n",
    "\n",
    "\n",
    "lambda10(5,5)"
   ]
  },
  {
   "cell_type": "code",
   "execution_count": null,
   "id": "ccbad330",
   "metadata": {},
   "outputs": [],
   "source": [
    "lambda1 = lambda x,y : x+y\n",
    "\n",
    "print(lambda1(10,20))\n",
    "\n",
    "#Differences:\n",
    "# 1. Def keyword to define normal function. Lambda keyword to define lambda function. \n",
    "# 2. The parameter(s) required by the function (x,y in these cases) are in parentheses in the regular function. In lambda\n",
    "# function the variables do not need to be enclosed by parentheses irrespective of whether it is a single variable or \n",
    "# multiple. They only need to be seperated by commas(,) in case of more than one variable(just like normal functions)."
   ]
  },
  {
   "cell_type": "code",
   "execution_count": null,
   "id": "d95570ad",
   "metadata": {},
   "outputs": [],
   "source": [
    "lambda1 = lambda x,y, z = 20 :(x+y)*z"
   ]
  },
  {
   "cell_type": "code",
   "execution_count": null,
   "id": "9cb9c711",
   "metadata": {},
   "outputs": [],
   "source": [
    "print(lambda1(5,10))"
   ]
  },
  {
   "cell_type": "code",
   "execution_count": null,
   "id": "1b73ae52",
   "metadata": {},
   "outputs": [],
   "source": [
    "def addsum(x,y):\n",
    "    return x+y (10,20)"
   ]
  },
  {
   "cell_type": "code",
   "execution_count": null,
   "id": "855986a5",
   "metadata": {},
   "outputs": [],
   "source": [
    "print(addsum(1,2))"
   ]
  },
  {
   "cell_type": "code",
   "execution_count": null,
   "id": "13049b76",
   "metadata": {},
   "outputs": [],
   "source": [
    "print((lambda x,y: x+y)(1,2))"
   ]
  },
  {
   "cell_type": "code",
   "execution_count": null,
   "id": "8b10582a",
   "metadata": {},
   "outputs": [],
   "source": [
    "str1 = 'abc'+'def'\n",
    "\n",
    "print(str1)"
   ]
  },
  {
   "cell_type": "code",
   "execution_count": null,
   "id": "a7c36aba",
   "metadata": {},
   "outputs": [],
   "source": [
    "lst1 = [10,20]+[30,40]\n",
    "\n",
    "print(lst1)"
   ]
  },
  {
   "cell_type": "code",
   "execution_count": null,
   "id": "4bab6f2e",
   "metadata": {},
   "outputs": [],
   "source": [
    "# Lambda with multiple variables\n",
    "\n",
    "print((lambda x,y : x+y)([10, 20], [30,40]))"
   ]
  },
  {
   "cell_type": "code",
   "execution_count": null,
   "id": "bd15d232",
   "metadata": {},
   "outputs": [],
   "source": [
    "lambda1 = (lambda x: x+10)\n",
    "\n",
    "print(lambda1)"
   ]
  },
  {
   "cell_type": "code",
   "execution_count": null,
   "id": "7027f502",
   "metadata": {},
   "outputs": [],
   "source": [
    "print(lambda1(5))"
   ]
  },
  {
   "cell_type": "code",
   "execution_count": null,
   "id": "17f25280",
   "metadata": {},
   "outputs": [],
   "source": []
  },
  {
   "cell_type": "code",
   "execution_count": null,
   "id": "94a768e9",
   "metadata": {},
   "outputs": [],
   "source": [
    "#3. Lambda functions can only have one expression to be finally evaluated to output."
   ]
  },
  {
   "cell_type": "code",
   "execution_count": null,
   "id": "9e1daa8d",
   "metadata": {
    "scrolled": true
   },
   "outputs": [],
   "source": [
    "\n",
    "print(lambda x,y : x+y, x*y)(2,3)"
   ]
  },
  {
   "cell_type": "code",
   "execution_count": null,
   "id": "522a5cf6",
   "metadata": {},
   "outputs": [],
   "source": [
    "print((lambda x, y : (x+y, x*y))(2,3))"
   ]
  },
  {
   "cell_type": "code",
   "execution_count": null,
   "id": "78d2d3b3",
   "metadata": {},
   "outputs": [],
   "source": [
    "lambda1 = (lambda x,y : (x+y, x*y))\n",
    "\n",
    "a,b = lambda1(2,3)\n",
    "\n",
    "print(a)\n",
    "print(b)"
   ]
  },
  {
   "cell_type": "code",
   "execution_count": null,
   "id": "aecad277",
   "metadata": {},
   "outputs": [],
   "source": [
    "ansh = [10,20,30,40]\n",
    "\n",
    "pushpa = (lambda y : [x+10 for x in y])(ansh)\n",
    "\n",
    "abc = [x + 10 for x in ansh]\n",
    "\n",
    "print(pushpa)"
   ]
  },
  {
   "cell_type": "code",
   "execution_count": null,
   "id": "ed3127d9",
   "metadata": {},
   "outputs": [],
   "source": [
    "y = (lambda x : [x+i for i in range(5)])(5)\n",
    "print(y)"
   ]
  },
  {
   "cell_type": "code",
   "execution_count": null,
   "id": "4ab7fd8d",
   "metadata": {},
   "outputs": [],
   "source": [
    "z = (lambda x : ([x+i for i in range(5)], [x*2+1 for j in range(5)]))(5)\n",
    "print(z)"
   ]
  },
  {
   "cell_type": "code",
   "execution_count": null,
   "id": "6923a581",
   "metadata": {},
   "outputs": [],
   "source": []
  },
  {
   "cell_type": "code",
   "execution_count": null,
   "id": "6cc992ce",
   "metadata": {},
   "outputs": [],
   "source": [
    "#4 A lambda function can be immediately called i.e. it is 'iffy' or precisely IIFE-Immediately Invoked Function Expression\n",
    "# while a normal function cannot be invoked until after definition. \n",
    "\n",
    "print((lambda x,y : x/y)(21,3)) #------> Immediately invoked with function call."
   ]
  },
  {
   "cell_type": "code",
   "execution_count": null,
   "id": "e6fd1492",
   "metadata": {},
   "outputs": [],
   "source": [
    "# Similarities with normal function\n",
    "#1. Can be stored to variable which begins acting as the function. \n",
    "\n",
    "def addition(x,y):\n",
    "    return x + y\n",
    "\n",
    "addition1 = addition\n",
    "lamb_add = lambda x,y : x+y\n",
    "\n",
    "print(addition1)\n",
    "print(lamb_add)"
   ]
  },
  {
   "cell_type": "code",
   "execution_count": null,
   "id": "4d69e69d",
   "metadata": {},
   "outputs": [],
   "source": [
    "#2. In the function call, parenthesis encloses the arguments. \n",
    "\n",
    "print(addition1(2,3)) # Normal function call\n",
    "\n",
    "print(lamb_add(2,3)) # Lambda function call"
   ]
  },
  {
   "cell_type": "code",
   "execution_count": null,
   "id": "c5982522",
   "metadata": {},
   "outputs": [],
   "source": [
    "#3. As with normal functions, we can call a function inside a lambda function or assign a function as an argument\n",
    "\n",
    "def addition(x,y):\n",
    "    return x + y\n",
    "\n",
    "def subtractON(x,y):\n",
    "    return x - y\n",
    "\n",
    "def add_on(function1,function2,a,b,c):\n",
    "    return function1(a,b)*c + function2(a,b)\n",
    "\n",
    "\n",
    "\n",
    "print(add_on(addition, subtractON, 2,3,4))"
   ]
  },
  {
   "cell_type": "code",
   "execution_count": null,
   "id": "2a566f36",
   "metadata": {},
   "outputs": [],
   "source": [
    "addition(2,3)"
   ]
  },
  {
   "cell_type": "code",
   "execution_count": null,
   "id": "081a4914",
   "metadata": {},
   "outputs": [],
   "source": [
    "subtractON(2,3)"
   ]
  },
  {
   "cell_type": "code",
   "execution_count": null,
   "id": "47b7cf4e",
   "metadata": {},
   "outputs": [],
   "source": [
    "lamb_add = lambda x,y : x+y\n",
    "lamb_sub = lambda x,y : x-y\n",
    "\n",
    "lamb_2 = lambda function1, function2, a,b,c : function1(a,b) * c + function2(a,b)"
   ]
  },
  {
   "cell_type": "code",
   "execution_count": null,
   "id": "40363fe5",
   "metadata": {},
   "outputs": [],
   "source": [
    "print(lamb_2(lamb_add,subtractON,2,3,4))"
   ]
  },
  {
   "cell_type": "code",
   "execution_count": null,
   "id": "59ad87bc",
   "metadata": {},
   "outputs": [],
   "source": [
    "print((lambda function1, function2, y,z,a : function1(y,z)*a + function2(y,z))(lamb_add,lamb_sub,2,3,4))"
   ]
  },
  {
   "cell_type": "code",
   "execution_count": null,
   "id": "9fb62ad3",
   "metadata": {},
   "outputs": [],
   "source": [
    "single_lamb = (lambda x : x*x)"
   ]
  },
  {
   "cell_type": "code",
   "execution_count": null,
   "id": "54678011",
   "metadata": {},
   "outputs": [],
   "source": [
    "double_lamb = lambda a, func : a + func(a) # a + return from funct with value a passed to it."
   ]
  },
  {
   "cell_type": "code",
   "execution_count": null,
   "id": "2ce24a3e",
   "metadata": {},
   "outputs": [],
   "source": [
    "xyz = double_lamb(5,single_lamb)\n",
    "\n",
    "print(xyz)"
   ]
  },
  {
   "cell_type": "code",
   "execution_count": null,
   "id": "af75420b",
   "metadata": {},
   "outputs": [],
   "source": [
    "print(double_lamb(5, lambda x : x*x))"
   ]
  },
  {
   "cell_type": "code",
   "execution_count": null,
   "id": "89142994",
   "metadata": {},
   "outputs": [],
   "source": [
    "#Lambda with if-else"
   ]
  },
  {
   "cell_type": "code",
   "execution_count": null,
   "id": "8615ff9b",
   "metadata": {},
   "outputs": [],
   "source": [
    "max_lamb = lambda a,b : a if a>b else b\n",
    "\n",
    "print(max_lamb(10,20))"
   ]
  },
  {
   "cell_type": "code",
   "execution_count": null,
   "id": "53b072f9",
   "metadata": {},
   "outputs": [],
   "source": [
    "def idx1(a):\n",
    "    return a[1]"
   ]
  },
  {
   "cell_type": "code",
   "execution_count": null,
   "id": "59e8c5b2",
   "metadata": {},
   "outputs": [],
   "source": [
    "import numpy as np\n",
    "lst1 = np.random.randint(1,10,5)\n",
    "lst2 = np.random.randint(100,120,5)\n",
    "\n",
    "ziplst = list(zip(lst1,lst2))\n",
    "\n",
    "print(ziplst)"
   ]
  },
  {
   "cell_type": "code",
   "execution_count": null,
   "id": "e7e038ad",
   "metadata": {},
   "outputs": [],
   "source": [
    "def sort_key(x):\n",
    "    return x[1]"
   ]
  },
  {
   "cell_type": "code",
   "execution_count": null,
   "id": "469a0b7a",
   "metadata": {},
   "outputs": [],
   "source": [
    "z = sorted(ziplst, key= sort_key)\n",
    "print(z)"
   ]
  },
  {
   "cell_type": "code",
   "execution_count": null,
   "id": "4e9a64d3",
   "metadata": {},
   "outputs": [],
   "source": [
    "sorted_lst = sorted(ziplst, key = lambda x : x[1])\n",
    "\n",
    "print(sorted_lst)"
   ]
  },
  {
   "cell_type": "code",
   "execution_count": null,
   "id": "000f028a",
   "metadata": {},
   "outputs": [],
   "source": [
    "print((lambda x : sum(x))([10,20,30]))"
   ]
  },
  {
   "cell_type": "code",
   "execution_count": null,
   "id": "a637351c",
   "metadata": {},
   "outputs": [],
   "source": [
    "#Lambda with filter, map, reduce functions in Python\n",
    "\n",
    "# Filter built-in function in Python - returns a filtered iterator based on evaluation whether True or False. \n",
    "\n",
    "# It takes two arguments:\n",
    "# 1. The function to be used to evaluate\n",
    "# 2. The iterable (string, list, tuples, sets, dicts etc.)\n",
    "\n",
    "list1 = [100,0,0.0,2032, '10', '0']\n",
    "\n",
    "filt_list1 = list(filter(int, list1))\n",
    "\n",
    "print(filt_list1)"
   ]
  },
  {
   "cell_type": "code",
   "execution_count": null,
   "id": "c5d0b785",
   "metadata": {},
   "outputs": [],
   "source": [
    "for x in list1:\n",
    "    print(int(x))"
   ]
  },
  {
   "cell_type": "code",
   "execution_count": null,
   "id": "3533c888",
   "metadata": {},
   "outputs": [],
   "source": [
    "print(int('10'))"
   ]
  },
  {
   "cell_type": "code",
   "execution_count": null,
   "id": "7f3018b2",
   "metadata": {},
   "outputs": [],
   "source": [
    "lst1 = ['abc', \"\", (\"\", 200), 'Python', [], {}]\n",
    "\n",
    "filtlst1 = list(filter(len,lst1))\n",
    "\n",
    "print(filtlst1)"
   ]
  },
  {
   "cell_type": "code",
   "execution_count": null,
   "id": "70301eb3",
   "metadata": {},
   "outputs": [],
   "source": []
  },
  {
   "cell_type": "code",
   "execution_count": null,
   "id": "1a6b5a31",
   "metadata": {},
   "outputs": [],
   "source": [
    "filter(function, iterable)\n",
    "\n",
    "\n",
    "function(iterable1) = 3\n",
    "function(iterable2) = 0\n",
    "function(iterable3) = 2\n",
    "function(iterable4) = 6\n",
    "function(iterable5) = 0\n",
    "\n",
    "'abc',(\"\",200), 'Python'"
   ]
  },
  {
   "cell_type": "code",
   "execution_count": null,
   "id": "5ef69712",
   "metadata": {},
   "outputs": [],
   "source": [
    "x = bool(10)\n",
    "\n",
    "print(x)"
   ]
  },
  {
   "cell_type": "code",
   "execution_count": null,
   "id": "c375b9c0",
   "metadata": {},
   "outputs": [],
   "source": [
    "print(int(12.75))"
   ]
  },
  {
   "cell_type": "code",
   "execution_count": null,
   "id": "91ccd92b",
   "metadata": {},
   "outputs": [],
   "source": [
    "lst2 = [11,0,14,12.75,0.0,17,79,31*0,(4*6), 0/(4*6)]\n",
    "    "
   ]
  },
  {
   "cell_type": "code",
   "execution_count": null,
   "id": "462f19e8",
   "metadata": {},
   "outputs": [],
   "source": [
    "filt_list = list(filter(int, lst2))\n",
    "\n",
    "print(filt_list)"
   ]
  },
  {
   "cell_type": "code",
   "execution_count": null,
   "id": "c0acbfaa",
   "metadata": {},
   "outputs": [],
   "source": [
    "list1 = range(10)\n",
    "\n",
    "print(list1)"
   ]
  },
  {
   "cell_type": "code",
   "execution_count": null,
   "id": "1c17df58",
   "metadata": {},
   "outputs": [],
   "source": [
    "filt_list2 = list(filter(bool, lst2))\n",
    "\n",
    "print(filt_list2)"
   ]
  },
  {
   "cell_type": "code",
   "execution_count": null,
   "id": "4f6a38db",
   "metadata": {},
   "outputs": [],
   "source": [
    "for x in filt_list:\n",
    "    print(x)"
   ]
  },
  {
   "cell_type": "code",
   "execution_count": null,
   "id": "30c21c05",
   "metadata": {},
   "outputs": [],
   "source": []
  },
  {
   "cell_type": "code",
   "execution_count": null,
   "id": "aad2d34a",
   "metadata": {},
   "outputs": [],
   "source": [
    "list1 = range(1,100,10)\n",
    "\n",
    "print(list(list1))\n",
    "\n",
    "\n",
    "lst2 = list('cvakgjnvahljg')\n",
    "enumerated_list1 = list(enumerate(lst2))\n",
    "\n",
    "print(enumerated_list1)"
   ]
  },
  {
   "cell_type": "code",
   "execution_count": null,
   "id": "a3c665f7",
   "metadata": {},
   "outputs": [],
   "source": [
    "lst_enum = []\n",
    "for x in range(len(list1)):\n",
    "    lst_enum.append((x, list1[x]))\n",
    "    \n",
    "print(lst_enum)"
   ]
  },
  {
   "cell_type": "code",
   "execution_count": null,
   "id": "123b8d7d",
   "metadata": {},
   "outputs": [],
   "source": [
    "dict1 = dict(enumerated_list1)\n",
    "\n",
    "print(dict1)"
   ]
  },
  {
   "cell_type": "code",
   "execution_count": null,
   "id": "9247f9a2",
   "metadata": {},
   "outputs": [],
   "source": [
    "print(lst1)"
   ]
  },
  {
   "cell_type": "code",
   "execution_count": null,
   "id": "3677eeea",
   "metadata": {},
   "outputs": [],
   "source": [
    "lst2 = lst1\n",
    "\n",
    "lst2.append(20)\n",
    "\n",
    "print(lst2)\n",
    "\n",
    "print(lst2.pop())"
   ]
  },
  {
   "cell_type": "code",
   "execution_count": null,
   "id": "86ce4d5e",
   "metadata": {},
   "outputs": [],
   "source": [
    "lst1.pop()\n",
    "\n",
    "print(lst1)"
   ]
  },
  {
   "cell_type": "code",
   "execution_count": null,
   "id": "790d1b65",
   "metadata": {},
   "outputs": [],
   "source": [
    "lst1 = ['Rinkey', 'Amar', 'Akbar', 'Anthony', \"\", 'Jai', 'Veeru', \"\",'RRR']"
   ]
  },
  {
   "cell_type": "code",
   "execution_count": null,
   "id": "40c0df9e",
   "metadata": {},
   "outputs": [],
   "source": [
    "#print(list(filter(len, lst1)))\n",
    "\n",
    "list2 = list(filter(len,lst1))\n",
    "\n",
    "print(list2)"
   ]
  },
  {
   "cell_type": "code",
   "execution_count": null,
   "id": "0b4bae0e",
   "metadata": {},
   "outputs": [],
   "source": [
    "print(len(list2[1][0]))"
   ]
  },
  {
   "cell_type": "code",
   "execution_count": null,
   "id": "0a1d8354",
   "metadata": {},
   "outputs": [],
   "source": [
    "for x in list2:\n",
    "    print(x)"
   ]
  },
  {
   "cell_type": "code",
   "execution_count": null,
   "id": "d10b8940",
   "metadata": {},
   "outputs": [],
   "source": [
    "list3 = filter(None, lst1)\n",
    "\n",
    "print(list3)"
   ]
  },
  {
   "cell_type": "code",
   "execution_count": null,
   "id": "ebf4bfca",
   "metadata": {},
   "outputs": [],
   "source": [
    "print(type(list3))\n",
    "print(list(list3))"
   ]
  },
  {
   "cell_type": "code",
   "execution_count": null,
   "id": "dedc41cd",
   "metadata": {},
   "outputs": [],
   "source": [
    "for x in list3:\n",
    "    print(x)"
   ]
  },
  {
   "cell_type": "code",
   "execution_count": null,
   "id": "26b78277",
   "metadata": {},
   "outputs": [],
   "source": [
    "print(type(list3))"
   ]
  },
  {
   "cell_type": "code",
   "execution_count": null,
   "id": "44d40807",
   "metadata": {},
   "outputs": [],
   "source": [
    "# Note here how the list applied to the filter object returns an empty list. This is because filter function returns\n",
    "# an iterator object. \n",
    "\n",
    "# The iterator objects are similar to generator objects which we will learn about below. However, iterators are a class\n",
    "# object implementing iter() and next() method to initialise iterator and call the next item in iteration while \n",
    "# generator objects use the 'yield' keyword to create a generator."
   ]
  },
  {
   "cell_type": "code",
   "execution_count": null,
   "id": "b52679b2",
   "metadata": {},
   "outputs": [],
   "source": [
    "#Lambda with filter\n",
    "\n",
    "lst2 = [x for x in range(10)]\n",
    "\n",
    "print(lst2)"
   ]
  },
  {
   "cell_type": "code",
   "execution_count": null,
   "id": "ca6cc3e1",
   "metadata": {},
   "outputs": [],
   "source": [
    "def odd(x):\n",
    "    return x%2 == 1"
   ]
  },
  {
   "cell_type": "code",
   "execution_count": null,
   "id": "4b43fc40",
   "metadata": {},
   "outputs": [],
   "source": [
    "print(65%3 == 0)"
   ]
  },
  {
   "cell_type": "code",
   "execution_count": null,
   "id": "75d6c5e4",
   "metadata": {},
   "outputs": [],
   "source": [
    "print(lst2)"
   ]
  },
  {
   "cell_type": "code",
   "execution_count": null,
   "id": "4335b779",
   "metadata": {},
   "outputs": [],
   "source": [
    "x_lst = list(filter(lambda x : x%2==1, lst2))\n",
    "\n",
    "\n",
    "               \n",
    "print(x_lst)"
   ]
  },
  {
   "cell_type": "code",
   "execution_count": null,
   "id": "cc3223b3",
   "metadata": {},
   "outputs": [],
   "source": [
    "# False, True, False, True, False, True, False, True, False, True\n",
    "# 0      1     2      3     4      5     6      7     8      9\n",
    "\n",
    "# 1,3,5,7,9"
   ]
  },
  {
   "cell_type": "code",
   "execution_count": null,
   "id": "204ff6e1",
   "metadata": {},
   "outputs": [],
   "source": [
    "stud_names = ['Shabnam', 'Mayank', 'Aniket', 'Ananya', 'Rahul', 'Aman','Rikki', 'Hritik']\n",
    "\n",
    "\n",
    "new_names = list(filter(lambda x : 'a' in x, stud_names))\n",
    "\n",
    "print(new_names)"
   ]
  },
  {
   "cell_type": "code",
   "execution_count": null,
   "id": "38805aac",
   "metadata": {},
   "outputs": [],
   "source": [
    "# True, True, False, True, True, True, False, False\n",
    "\n",
    "# Shabnam, Mayank, Ananya, Rahul, Aman"
   ]
  },
  {
   "cell_type": "code",
   "execution_count": null,
   "id": "98ef41eb",
   "metadata": {},
   "outputs": [],
   "source": [
    "st2= [11,'shrey',52,99.3]\n",
    "\n",
    "fltr_lst = filter(int,st2)"
   ]
  },
  {
   "cell_type": "code",
   "execution_count": null,
   "id": "5b8f773f",
   "metadata": {},
   "outputs": [],
   "source": [
    "for x in fltr_lst:\n",
    "    print(x)\n"
   ]
  },
  {
   "cell_type": "code",
   "execution_count": null,
   "id": "3bc29e73",
   "metadata": {},
   "outputs": [],
   "source": [
    "lst3 = ['Python', 'great', 'is', 'Student', 'Class']\n",
    "\n",
    "print(list(filter(lambda x : 't' in x, lst3)))"
   ]
  },
  {
   "cell_type": "code",
   "execution_count": null,
   "id": "581d8420",
   "metadata": {},
   "outputs": [],
   "source": [
    "stud_list = ['Kishore', 'Vidya', 'Rahul', 'Prajwal', 'Mamta']\n",
    "\n",
    "lst_alpha = ['a','r']\n",
    "\n",
    "lamb_in = lambda x: y in x.lower()\n",
    "\n",
    "for x in stud_list:\n",
    "    for y in lst_alpha:\n",
    "        print(y)\n",
    "        print(lamb_in(x))"
   ]
  },
  {
   "cell_type": "code",
   "execution_count": null,
   "id": "901f37b6",
   "metadata": {},
   "outputs": [],
   "source": [
    "filt_stud = filter(lamb_in, stud_list)\n",
    "\n",
    "for i in filt_stud:\n",
    "    print(i)"
   ]
  },
  {
   "cell_type": "code",
   "execution_count": null,
   "id": "dcbad58d",
   "metadata": {},
   "outputs": [],
   "source": [
    "print(stud_list)"
   ]
  },
  {
   "cell_type": "code",
   "execution_count": null,
   "id": "ef9b6cd0",
   "metadata": {},
   "outputs": [],
   "source": [
    "lamb_in2 = lambda x, y : y in x\n",
    "\n",
    "for i in stud_list:\n",
    "    print(lamb_in2(i, 'V'))"
   ]
  },
  {
   "cell_type": "code",
   "execution_count": null,
   "id": "f41eab9b",
   "metadata": {},
   "outputs": [],
   "source": [
    "# #Functions\n",
    "\n",
    "# 1. Set of code that we can resuse by calling the function. \n",
    "# 2. Syntax of a function:\n",
    "    \n",
    "# def funct_name(parameters optional):\n",
    "#     Docstring\n",
    "#     code\n",
    "#     code\n",
    "    \n",
    "# 3. Functions can be with or without return keyword.\n",
    "\n",
    "# 4. Aliasing of function object itself so that aliased function name now behaves like the function itself. \n",
    "# 5. Parameters/arguments - Positional, keyword arguments and default arguments. \n",
    "# 6. Arbitary positional and keyword arguments, including dictionary type. \n",
    "# 7. Lambda functions - \n",
    "# a. Lambda functions are used to define a function in one line. \n",
    "# b. No return keyword\n",
    "# c. Instead of def we use lambda to define the function. \n",
    "# d. Lambda functions are anonymous i.e. they are called lambda and dont take a function name. \n",
    "# e. Lambda functions can only have one expression(and therefore only one if/else condition - if multiple are passed they get\\\n",
    "# treated as nested conditions).\n",
    "# f. Lambda is IFFE. \n",
    "\n",
    "\n",
    "# enumerate function\n",
    "# filter function (along with lambda)\n"
   ]
  },
  {
   "cell_type": "code",
   "execution_count": null,
   "id": "6d1d2453",
   "metadata": {},
   "outputs": [],
   "source": []
  },
  {
   "cell_type": "code",
   "execution_count": null,
   "id": "34a78bec",
   "metadata": {},
   "outputs": [],
   "source": [
    "# Map built-in function in Python - takes minimum two parameters and returns a map object which is an iterator(not iterable).\n",
    "\n",
    "#1. The first parameter is a function to be applied to each element in the second (or more) parameter(s) which is(are)\n",
    "# iterables.\n",
    "#2. The second parameter onwards are the iterables that are to be evaluated to the map function. "
   ]
  },
  {
   "cell_type": "code",
   "execution_count": null,
   "id": "ed3dddef",
   "metadata": {},
   "outputs": [],
   "source": [
    "lst1 = ['Python', 'Hello', 'Butter', 'Fantastic', \"\"]\n",
    "lst2 = ['Learnbay', 'Yashoda', 'Betty', 'Four', 'string']\n",
    "\n",
    "\n",
    "lengths = list(map(lambda x,y : x+y, lst1,lst2))\n",
    "\n",
    "print(lengths)"
   ]
  },
  {
   "cell_type": "code",
   "execution_count": null,
   "id": "08c4556a",
   "metadata": {},
   "outputs": [],
   "source": [
    "lambdalen = lambda x, y : [len(lst1[x])+len(lst2[x]) for x in range(len(lst1))]\n",
    "\n",
    "print(lambdalen(lst1,lst2))"
   ]
  },
  {
   "cell_type": "code",
   "execution_count": null,
   "id": "6241709a",
   "metadata": {},
   "outputs": [],
   "source": [
    "lst1 = ['Python', 'Hello', 'Butter', 'Fantastic', \"\"]\n",
    "lst2 = ['Learnbay', 'Yashoda', 'Betty', 'Four', 'string']\n",
    "lst3 = [2,3,1,4,1]\n",
    "\n",
    "lengths = list(map(lambda x,y,z : (x + ' ' + y)*z, lst1, lst2, lst3))\n",
    "#filterlst1 = list(filter(len, lst1))\n",
    "\n",
    "print(lengths)\n",
    "#print(filterlst1)"
   ]
  },
  {
   "cell_type": "code",
   "execution_count": null,
   "id": "3c142080",
   "metadata": {},
   "outputs": [],
   "source": [
    "outputlambda = lambda x,y : x+y\n",
    "\n",
    "print(outputlambda(lst1,lst2))"
   ]
  },
  {
   "cell_type": "code",
   "execution_count": null,
   "id": "cd4259ac",
   "metadata": {},
   "outputs": [],
   "source": [
    "# def map1(*iterables):\n",
    "#     a,b,c = iterables\n",
    "#     returnlst = []\n",
    "#     for x in range(len(a)):\n",
    "#         returnlst.append(a[x]+b[x]+c[x])\n",
    "#     return returnlst"
   ]
  },
  {
   "cell_type": "code",
   "execution_count": null,
   "id": "652b837d",
   "metadata": {},
   "outputs": [],
   "source": [
    "str1 = 'Rahul Mishra'\n",
    "str2 = 'RikkiSabnani'\n",
    "multiply = [2,4,7,1,3,8]\n",
    "\n",
    "new_lst = []\n",
    "\n",
    "if len(str1) < len(str2) and len(str1) < len(multiply):\n",
    "    rangelen = len(str1)\n",
    "elif len(str2) < len(multiply):\n",
    "    rangelen = len(str2)\n",
    "else:\n",
    "    rangelen = len(multiply)\n",
    "    \n",
    "for i in range(rangelen):\n",
    "    new_lst.append((str1[i]+str2[i])*multiply[i])\n",
    "print(new_lst)\n",
    "    \n",
    "\n"
   ]
  },
  {
   "cell_type": "code",
   "execution_count": null,
   "id": "b59294b0",
   "metadata": {},
   "outputs": [],
   "source": [
    "new_lst1 = list(map(lambda x,y,z: x+y*z, str1, str2, multiply))\n",
    "\n",
    "print(new_lst1)"
   ]
  },
  {
   "cell_type": "code",
   "execution_count": null,
   "id": "ae366623",
   "metadata": {},
   "outputs": [],
   "source": [
    "length_idx = list(map(lambda x, y : x*y, lst1,lst2))\n",
    "\n",
    "print(length_idx)"
   ]
  },
  {
   "cell_type": "code",
   "execution_count": null,
   "id": "30410c7a",
   "metadata": {},
   "outputs": [],
   "source": [
    "lengths1 = [len(x) for x in lst1]\n",
    "\n",
    "print(lengths1)"
   ]
  },
  {
   "cell_type": "code",
   "execution_count": null,
   "id": "5a381672",
   "metadata": {},
   "outputs": [],
   "source": [
    "lst2 = []\n",
    "for x in lst1:\n",
    "    lst2.append(len(x))\n",
    "    \n",
    "    \n",
    "print(lst2)"
   ]
  },
  {
   "cell_type": "code",
   "execution_count": null,
   "id": "7d3bc685",
   "metadata": {},
   "outputs": [],
   "source": [
    "map_length = map(len,lst1)\n",
    "\n",
    "print(map_length)\n",
    "\n",
    "for x in map_length:\n",
    "    print(x)"
   ]
  },
  {
   "cell_type": "code",
   "execution_count": null,
   "id": "ae7fda38",
   "metadata": {},
   "outputs": [],
   "source": [
    "print(lengths)"
   ]
  },
  {
   "cell_type": "code",
   "execution_count": null,
   "id": "6108ff6c",
   "metadata": {},
   "outputs": [],
   "source": [
    "lst3 = []\n",
    "\n",
    "for i in range(len(lengths)):\n",
    "    lst4 = []\n",
    "    lst4.append(lengths[i])\n",
    "    lst4.append(lst1[i])\n",
    "    lst3.append(lst4)\n",
    "    \n",
    "print(lst3)\n",
    "    "
   ]
  },
  {
   "cell_type": "code",
   "execution_count": null,
   "id": "9e8df05e",
   "metadata": {},
   "outputs": [],
   "source": [
    "print(list(lengths))"
   ]
  },
  {
   "cell_type": "code",
   "execution_count": null,
   "id": "c44787c8",
   "metadata": {},
   "outputs": [],
   "source": [
    "# As with filter function, map function also returns an iterator."
   ]
  },
  {
   "cell_type": "code",
   "execution_count": null,
   "id": "ba15c0a7",
   "metadata": {},
   "outputs": [],
   "source": [
    "lengths = list(map(len, lst1))\n",
    "\n",
    "print(lengths)"
   ]
  },
  {
   "cell_type": "code",
   "execution_count": null,
   "id": "3c02844f",
   "metadata": {},
   "outputs": [],
   "source": [
    "for x in lengths:\n",
    "    print(x)"
   ]
  },
  {
   "cell_type": "code",
   "execution_count": null,
   "id": "2df449c4",
   "metadata": {},
   "outputs": [],
   "source": [
    "lengths2 = [x for x in lengths]\n",
    "print(lengths2)"
   ]
  },
  {
   "cell_type": "code",
   "execution_count": null,
   "id": "da5dcb5e",
   "metadata": {},
   "outputs": [],
   "source": [
    "lst1 = [1,2,3,4,5,6,7]\n",
    "lst2 = [10,20,30,40,50,60]\n",
    "lst3 = [100,200,300,400,500,600]\n",
    "lst4 = list(map(lambda x,y,z : x*y+z,lst1, lst2, lst3))\n",
    "\n",
    "print(lst4)"
   ]
  },
  {
   "cell_type": "code",
   "execution_count": null,
   "id": "6ccf80a5",
   "metadata": {},
   "outputs": [],
   "source": [
    "map function takes first parameter is mandatory i.e. a function. \n",
    "2nd parameter onwards has to be at least 1 iterable but can be more than 1. "
   ]
  },
  {
   "cell_type": "code",
   "execution_count": null,
   "id": "2ae9911b",
   "metadata": {},
   "outputs": [],
   "source": [
    "# reduce function from functools module and accumulate from itertools module of Python"
   ]
  },
  {
   "cell_type": "code",
   "execution_count": null,
   "id": "e0965245",
   "metadata": {},
   "outputs": [],
   "source": [
    "# Reduce function - Reduces the values of an iterable to a single output by taking two parameters - \n",
    "\n",
    "#1. The function to be applied\n",
    "#2. The iterable on which to perform the operation"
   ]
  },
  {
   "cell_type": "code",
   "execution_count": null,
   "id": "96cb0932",
   "metadata": {},
   "outputs": [],
   "source": [
    "import functools\n",
    "\n",
    "#print(dir(functools))"
   ]
  },
  {
   "cell_type": "code",
   "execution_count": null,
   "id": "b482e548",
   "metadata": {},
   "outputs": [],
   "source": [
    "lst1 = [2,7,14,20,11,1,6]\n",
    "lst_alpha = ['Python', 'Learnbay', 'April 21', 'Class']\n",
    "print(lst1)"
   ]
  },
  {
   "cell_type": "code",
   "execution_count": null,
   "id": "5fda18a6",
   "metadata": {},
   "outputs": [],
   "source": [
    "2,7 = 9\n",
    "14 = 23\n",
    "20 = 43\n",
    "11 = 54\n",
    "1 = 55\n",
    "6 = 61"
   ]
  },
  {
   "cell_type": "code",
   "execution_count": null,
   "id": "437c225c",
   "metadata": {},
   "outputs": [],
   "source": [
    "lamb_add = lambda x, y: x-y\n",
    "\n",
    "num_sum = functools.reduce(lamb_add, lst1)\n",
    "print(num_sum)"
   ]
  },
  {
   "cell_type": "code",
   "execution_count": null,
   "id": "de6927fb",
   "metadata": {},
   "outputs": [],
   "source": [
    "# filter(function, 1)\n",
    "# map(function, multiple)\n",
    "# reduce(function,1 - but the first two elements of my iterable will be passed to the function as two inputs - thereafter \n",
    "#       # output of first iteration is first input to second iteration and third element in iterable is 2nd input for 2nd iteration\n",
    "#       # and so on.)"
   ]
  },
  {
   "cell_type": "code",
   "execution_count": null,
   "id": "ca3fdefc",
   "metadata": {},
   "outputs": [],
   "source": [
    "print(lst_alpha)\n"
   ]
  },
  {
   "cell_type": "code",
   "execution_count": null,
   "id": "1d08d8ed",
   "metadata": {},
   "outputs": [],
   "source": [
    "output = functools.reduce(lamb_add,lst_alpha)\n",
    "\n",
    "print(output)"
   ]
  },
  {
   "cell_type": "code",
   "execution_count": null,
   "id": "ac0e5d62",
   "metadata": {},
   "outputs": [],
   "source": [
    "lst1 = [10000, 10,4,5,0.2, 5,0.1]\n",
    "\n",
    "lst1red = functools.reduce(lambda x,y : x/y, lst1)\n",
    "\n",
    "print(lst1red)"
   ]
  },
  {
   "cell_type": "code",
   "execution_count": null,
   "id": "f08ca9a9",
   "metadata": {},
   "outputs": [],
   "source": [
    "alpha_sum = functools.reduce(lamb_add, lst_alpha)\n",
    "print(alpha_sum)"
   ]
  },
  {
   "cell_type": "code",
   "execution_count": null,
   "id": "dc05bf19",
   "metadata": {},
   "outputs": [],
   "source": [
    "print(lst1)"
   ]
  },
  {
   "cell_type": "code",
   "execution_count": null,
   "id": "cd901c01",
   "metadata": {},
   "outputs": [],
   "source": [
    "# reduce to find max element"
   ]
  },
  {
   "cell_type": "code",
   "execution_count": null,
   "id": "03611fb7",
   "metadata": {},
   "outputs": [],
   "source": [
    "lst1 = [20,100,31,792, 421, 109111, 131415, 21231]"
   ]
  },
  {
   "cell_type": "code",
   "execution_count": null,
   "id": "a103c8c3",
   "metadata": {},
   "outputs": [],
   "source": [
    "lamb_max = lambda a,b : a if a > b else b\n",
    "\n",
    "maxelem = functools.reduce(lamb_max, lst1)\n",
    "\n",
    "print(maxelem)"
   ]
  },
  {
   "cell_type": "code",
   "execution_count": null,
   "id": "16581ff9",
   "metadata": {},
   "outputs": [],
   "source": []
  },
  {
   "cell_type": "code",
   "execution_count": null,
   "id": "ac3a9924",
   "metadata": {},
   "outputs": [],
   "source": [
    "import numpy as np\n",
    "\n",
    "lst1 = list(np.random.randint(1,100,10))\n",
    "\n",
    "print(lst1)"
   ]
  },
  {
   "cell_type": "code",
   "execution_count": null,
   "id": "b96c4e65",
   "metadata": {},
   "outputs": [],
   "source": [
    "num_max = functools.reduce(lamb_max, lst1)\n",
    "print(num_max)"
   ]
  },
  {
   "cell_type": "code",
   "execution_count": null,
   "id": "fba70c47",
   "metadata": {},
   "outputs": [],
   "source": [
    "print(lst_alpha)"
   ]
  },
  {
   "cell_type": "code",
   "execution_count": null,
   "id": "c821a569",
   "metadata": {},
   "outputs": [],
   "source": [
    "names = ['Navin', 'Divyavani','Chirag','Yatindra']"
   ]
  },
  {
   "cell_type": "code",
   "execution_count": null,
   "id": "7589f3c7",
   "metadata": {},
   "outputs": [],
   "source": [
    "alpha_max = functools.reduce(lamb_max, names)\n",
    "print(alpha_max)"
   ]
  },
  {
   "cell_type": "code",
   "execution_count": null,
   "id": "25e65801",
   "metadata": {},
   "outputs": [],
   "source": [
    "#Accumulate function - whereas reduce gives one final output, accumulate works exactly as reduce but:\n",
    "\n",
    "#1. Gives an iterable as the output at every stage and the last number in the list output of accumulate is the same output\n",
    "# as with the reduce function. \n",
    "#2. Takes the output first and the function as second parameter(whereas reduce takes function first and iterable second)\n",
    "#3. Returns an itertools.accumulate object which needs to be converted to an iterable.\n",
    "\n",
    "# Another difference is the accumulate takes the iterable first and function as second parameter. \n",
    "\n",
    "import itertools\n",
    "\n",
    "print(lst1)"
   ]
  },
  {
   "cell_type": "code",
   "execution_count": null,
   "id": "71025e8f",
   "metadata": {},
   "outputs": [],
   "source": [
    "outputnew = list(itertools.accumulate(lst1, lamb_max))\n",
    "\n",
    "print(outputnew)"
   ]
  },
  {
   "cell_type": "code",
   "execution_count": null,
   "id": "44809c5c",
   "metadata": {},
   "outputs": [],
   "source": [
    "lst1 = [2,7,14,20,11,1,6]\n"
   ]
  },
  {
   "cell_type": "code",
   "execution_count": null,
   "id": "8e363c11",
   "metadata": {},
   "outputs": [],
   "source": [
    "lamb_add = lambda x,y : x+y"
   ]
  },
  {
   "cell_type": "code",
   "execution_count": null,
   "id": "0b7b6663",
   "metadata": {},
   "outputs": [],
   "source": [
    "num_sum = list(itertools.accumulate(lst1, lamb_add))\n",
    "\n",
    "print(num_sum)"
   ]
  },
  {
   "cell_type": "code",
   "execution_count": null,
   "id": "df18ba75",
   "metadata": {},
   "outputs": [],
   "source": [
    "num_sum_red = functools.reduce(lamb_add, lst1)\n",
    "\n",
    "print(num_sum_red)"
   ]
  },
  {
   "cell_type": "code",
   "execution_count": null,
   "id": "7dc6f4b2",
   "metadata": {},
   "outputs": [],
   "source": [
    "print(lst1)"
   ]
  },
  {
   "cell_type": "code",
   "execution_count": null,
   "id": "0e298ead",
   "metadata": {},
   "outputs": [],
   "source": [
    "max_accum = list(itertools.accumulate(lst1, lamb_max))"
   ]
  },
  {
   "cell_type": "code",
   "execution_count": null,
   "id": "fd3716b3",
   "metadata": {},
   "outputs": [],
   "source": [
    "print(max_accum)"
   ]
  },
  {
   "cell_type": "code",
   "execution_count": null,
   "id": "f77fc057",
   "metadata": {},
   "outputs": [],
   "source": [
    "print(lamb_add)\n",
    "print(lst1)"
   ]
  },
  {
   "cell_type": "code",
   "execution_count": null,
   "id": "360d970d",
   "metadata": {},
   "outputs": [],
   "source": [
    "    \n",
    "print(f'Output using reduce is {functools.reduce(lambda x,y : x+y, lst1)}.')\n",
    "print(f'Last element using accumulate is : {num_sum[-1]}.')"
   ]
  },
  {
   "cell_type": "code",
   "execution_count": null,
   "id": "8793f498",
   "metadata": {},
   "outputs": [],
   "source": [
    "from functools import reduce as red\n",
    "\n",
    "num_sum_red = red(lamb_add, lst1)\n",
    "\n",
    "print(num_sum_red)"
   ]
  },
  {
   "cell_type": "code",
   "execution_count": null,
   "id": "1ba28dc6",
   "metadata": {},
   "outputs": [],
   "source": [
    "alpha_sum = list(itertools.accumulate(lst_alpha, lamb_add))\n",
    "\n",
    "print(alpha_sum)"
   ]
  },
  {
   "cell_type": "code",
   "execution_count": null,
   "id": "5ea51408",
   "metadata": {},
   "outputs": [],
   "source": [
    "x = input('Please enter a number')"
   ]
  },
  {
   "cell_type": "code",
   "execution_count": null,
   "id": "af17f6cf",
   "metadata": {},
   "outputs": [],
   "source": [
    "print(x)"
   ]
  },
  {
   "cell_type": "code",
   "execution_count": null,
   "id": "a47740b1",
   "metadata": {},
   "outputs": [],
   "source": [
    "print(type(x))"
   ]
  },
  {
   "cell_type": "code",
   "execution_count": null,
   "id": "121d1230",
   "metadata": {},
   "outputs": [],
   "source": [
    "y = eval('100*30+25')\n",
    "\n",
    "print(y)"
   ]
  },
  {
   "cell_type": "code",
   "execution_count": null,
   "id": "dca4e156",
   "metadata": {},
   "outputs": [],
   "source": [
    "print(type(y))"
   ]
  },
  {
   "cell_type": "code",
   "execution_count": null,
   "id": "64e81320",
   "metadata": {},
   "outputs": [],
   "source": [
    "# global\n",
    "\n",
    "# function\n",
    "#      local variables\n",
    "\n",
    "    \n",
    "# function can access global variables\n",
    "# from outside function i.e. in the global space you cannot access local variables. "
   ]
  },
  {
   "cell_type": "code",
   "execution_count": null,
   "id": "da345fec",
   "metadata": {},
   "outputs": [],
   "source": [
    "# What are parameters and arguments?\n",
    "\n",
    "# Parameters are variables that a function may need to execute and these variables are called parameters in the function\n",
    "# definition. \n",
    "\n",
    "# The values that we pass to these parameters while calling the function are called arguments. \n",
    "\n",
    "\n",
    "# What are the two types of parameters?\n",
    "\n",
    "# Positional parameters - For which the arguments are accepted by the function, based on position/sequence. \n",
    "# Keyword parameters - Keyword parameters while defining the function take a default value. \n",
    "\n",
    "# Both positional and keyword argument values can be provided in the function call by using the parameter name\n",
    "\n",
    "# Arbitary parameters - (called *args) - When we do not know the number of arguments that are going to be passed to a \n",
    "# positional parameter, we use a special syntax *var_name to save all the arguments provided into a tuple in the function.\n",
    "\n",
    "# Arbitary Keyword parameters - (called *kwargs) - Keyword parameters that are provided in a dictionary-like\n",
    "# (var_name = value) syntax and saved in the function as a dictionary are called arbitary keyword parameters.\n",
    "\n",
    "# Lambda functions\n",
    "\n",
    "# 1. Easier syntax to write simple functions.\n",
    "# 2. They are anonymous i.e. they cannot take a name like regular functions. If we wish to use a lambda function at a later\n",
    "# point in our script we need to alias the function object.\n",
    "# 3. lambda keyword is used to define a lambda function whereas def keyword is used to define a regular function.\n",
    "# 4. lambda returns an output but does not use the return keyword.\n",
    "# 5. Syntax - lambda parameter<s> : expression\n",
    "# 6. Lambda functions can only evaluate a single expression with a singular output. \n",
    "# 7. They can be Immediately Invoked Function Expression.\n",
    "\n"
   ]
  },
  {
   "cell_type": "code",
   "execution_count": null,
   "id": "b157fd59",
   "metadata": {},
   "outputs": [],
   "source": [
    "lambda1 = lambda x : print(x)\n",
    "\n",
    "print(lambda1(10))"
   ]
  },
  {
   "cell_type": "code",
   "execution_count": null,
   "id": "aa879d8e",
   "metadata": {},
   "outputs": [],
   "source": [
    "print(print(10))"
   ]
  },
  {
   "cell_type": "code",
   "execution_count": null,
   "id": "8e7c2099",
   "metadata": {},
   "outputs": [],
   "source": [
    "def lambda2(x):\n",
    "    print(x)\n",
    "    \n",
    "    \n",
    "print(lambda2(10))"
   ]
  },
  {
   "cell_type": "code",
   "execution_count": null,
   "id": "76ede06f",
   "metadata": {},
   "outputs": [],
   "source": []
  },
  {
   "cell_type": "markdown",
   "id": "ca510239",
   "metadata": {},
   "source": [
    "### Global and Local variables in Python"
   ]
  },
  {
   "cell_type": "code",
   "execution_count": null,
   "id": "b76f8963",
   "metadata": {},
   "outputs": [],
   "source": [
    "x = 100\n",
    "\n",
    "\n",
    "print(x)"
   ]
  },
  {
   "cell_type": "code",
   "execution_count": null,
   "id": "f5484185",
   "metadata": {},
   "outputs": [],
   "source": [
    "x = 200\n",
    "\n",
    "print(x)"
   ]
  },
  {
   "cell_type": "code",
   "execution_count": null,
   "id": "a21c0219",
   "metadata": {},
   "outputs": [],
   "source": [
    "# globalnamespace is a dictionary that is being maintained by python (PVM) in the backend and can be accessed anywhere in\n",
    "# your script."
   ]
  },
  {
   "cell_type": "code",
   "execution_count": null,
   "id": "d8d201a1",
   "metadata": {},
   "outputs": [],
   "source": [
    "x = 100\n",
    "y = 20\n",
    "z = 22\n",
    "a = 10\n",
    "b = 11"
   ]
  },
  {
   "cell_type": "code",
   "execution_count": null,
   "id": "cc16d780",
   "metadata": {},
   "outputs": [],
   "source": [
    "globalnamespace = {'x':100, 'y':20, 'z':22, 'a' : 10, 'b':11}"
   ]
  },
  {
   "cell_type": "code",
   "execution_count": null,
   "id": "48c68ec4",
   "metadata": {},
   "outputs": [],
   "source": [
    "print(globalnamespace)"
   ]
  },
  {
   "cell_type": "code",
   "execution_count": null,
   "id": "f5d66b1e",
   "metadata": {},
   "outputs": [],
   "source": [
    "x = 200\n",
    "\n",
    "globalnamespace['x'] = 200"
   ]
  },
  {
   "cell_type": "code",
   "execution_count": null,
   "id": "6bd54431",
   "metadata": {},
   "outputs": [],
   "source": [
    "print(globalnamespace)"
   ]
  },
  {
   "cell_type": "code",
   "execution_count": null,
   "id": "ed4ca019",
   "metadata": {},
   "outputs": [],
   "source": [
    "i = 20\n",
    "print(f'{i} before being changed in the for loop')\n",
    "\n",
    "for i in range(5):\n",
    "    print(i)\n",
    "    \n",
    "print(f'{i} after the for loop has run.')"
   ]
  },
  {
   "cell_type": "code",
   "execution_count": null,
   "id": "1cdb9cf4",
   "metadata": {},
   "outputs": [],
   "source": [
    "globalnamespace['i'] = 20\n",
    "print(globalnamespace)\n",
    "\n",
    "\n",
    "globalnamespace['i'] = 0\n",
    "print(globalnamespace)\n",
    "globalnamespace['i'] = 1\n",
    "print(globalnamespace)\n",
    "globalnamespace['i'] = 2\n",
    "print(globalnamespace)\n",
    "globalnamespace['i'] = 3\n",
    "print(globalnamespace)\n",
    "globalnamespace['i'] = 4\n",
    "print(globalnamespace)\n"
   ]
  },
  {
   "cell_type": "code",
   "execution_count": null,
   "id": "6f1ff02a",
   "metadata": {},
   "outputs": [],
   "source": []
  },
  {
   "cell_type": "code",
   "execution_count": null,
   "id": "10790854",
   "metadata": {},
   "outputs": [],
   "source": []
  },
  {
   "cell_type": "code",
   "execution_count": null,
   "id": "7c59fdaf",
   "metadata": {},
   "outputs": [],
   "source": [
    "globalnamespace = {'x' : 100, 'y' : 200}\n",
    "\n",
    "print(globalnamespace)"
   ]
  },
  {
   "cell_type": "code",
   "execution_count": null,
   "id": "43f06d85",
   "metadata": {},
   "outputs": [],
   "source": [
    "globalnamespace['x'] = 200\n",
    "\n",
    "print(globalnamespace)"
   ]
  },
  {
   "cell_type": "code",
   "execution_count": null,
   "id": "a6abe6af",
   "metadata": {},
   "outputs": [],
   "source": [
    "x = 1000\n",
    "\n",
    "def newfunct():\n",
    "    print(x)\n",
    "    \n"
   ]
  },
  {
   "cell_type": "code",
   "execution_count": null,
   "id": "845891f0",
   "metadata": {},
   "outputs": [],
   "source": [
    "newfunct()"
   ]
  },
  {
   "cell_type": "code",
   "execution_count": null,
   "id": "18598d93",
   "metadata": {},
   "outputs": [],
   "source": [
    "def newfunctL():\n",
    "    x = 100\n",
    "    abhi = 2000\n",
    "    print(x)\n",
    "    print(abhi)"
   ]
  },
  {
   "cell_type": "code",
   "execution_count": null,
   "id": "c916375a",
   "metadata": {},
   "outputs": [],
   "source": [
    "#newfunctlocalnamespace = {'x':100}\n",
    "\n",
    "newfunctL()"
   ]
  },
  {
   "cell_type": "code",
   "execution_count": null,
   "id": "ad718cee",
   "metadata": {},
   "outputs": [],
   "source": [
    "print(abhi)"
   ]
  },
  {
   "cell_type": "code",
   "execution_count": null,
   "id": "5ebacbc6",
   "metadata": {},
   "outputs": [],
   "source": [
    "def functxyz():\n",
    "    x = 1000\n",
    "    y = 1000\n",
    "    print(x)\n",
    "    \n",
    "\n",
    "\n",
    "# functxyzlocalnamespace = {'x':1000, 'y':1000}\n",
    "# globalspace = {'x':200, 'y':200}"
   ]
  },
  {
   "cell_type": "code",
   "execution_count": null,
   "id": "1d85bf01",
   "metadata": {},
   "outputs": [],
   "source": []
  },
  {
   "cell_type": "code",
   "execution_count": null,
   "id": "c635bf13",
   "metadata": {},
   "outputs": [],
   "source": [
    "#Global namespace - can be read anywhere but written only in global namespace (Except with global keyword which we will see\n",
    "# later)\n",
    "\n",
    "#Local namespace - can be read and modified(written) only in local namespace. \n",
    "\n",
    "\n",
    "# Hierarchy\n",
    "\n",
    "# functionallocalnamespace - First will look for variable required by function in this local namespace, if not found will \n",
    "# look in global namespace"
   ]
  },
  {
   "cell_type": "code",
   "execution_count": null,
   "id": "9bbafb5d",
   "metadata": {},
   "outputs": [],
   "source": [
    "x = 100\n",
    "y = 5000\n",
    "\n",
    "def funct1():\n",
    "    x = 200\n",
    "    y = 300\n",
    "    return x, y\n",
    "    \n",
    "    \n",
    "f1,f2 = funct1()\n",
    "\n",
    "print(f1)\n",
    "print(f2)\n",
    "\n",
    "print(x)\n",
    "print(y)"
   ]
  },
  {
   "cell_type": "code",
   "execution_count": null,
   "id": "0768da59",
   "metadata": {},
   "outputs": [],
   "source": [
    "x = 100\n",
    "y = 5000\n",
    "\n",
    "def funct1():\n",
    "    a = 200\n",
    "    b = 300\n",
    "    return a, b\n",
    "    \n",
    "p,q = funct1()\n",
    "\n",
    "print(p)\n",
    "print(q)\n",
    "\n",
    "print(x)\n",
    "print(y)"
   ]
  },
  {
   "cell_type": "code",
   "execution_count": null,
   "id": "b99f1039",
   "metadata": {},
   "outputs": [],
   "source": [
    "x = 100\n",
    "print(x)\n",
    "\n",
    "for x in [1,2,3,4]:\n",
    "    print(x)\n",
    "    \n",
    "    \n",
    "print(x)"
   ]
  },
  {
   "cell_type": "code",
   "execution_count": null,
   "id": "72dd6c71",
   "metadata": {},
   "outputs": [],
   "source": [
    "# Global and nonlocal keyword"
   ]
  },
  {
   "cell_type": "code",
   "execution_count": null,
   "id": "9803e152",
   "metadata": {},
   "outputs": [],
   "source": [
    "x = 1000\n",
    "y = 2000\n",
    "\n",
    "def outerfunct():\n",
    "    x = 10\n",
    "    def innerfunct():\n",
    "        #x = 1111\n",
    "        print(x)\n",
    "        y = 20\n",
    "        print(y)\n",
    "    innerfunct()\n",
    "    print(y)\n",
    "    "
   ]
  },
  {
   "cell_type": "code",
   "execution_count": null,
   "id": "e37fe8c4",
   "metadata": {},
   "outputs": [],
   "source": [
    "outerfunct()"
   ]
  },
  {
   "cell_type": "code",
   "execution_count": null,
   "id": "64abcbfd",
   "metadata": {},
   "outputs": [],
   "source": [
    "# local\n",
    "# nonlocal\n",
    "# global"
   ]
  },
  {
   "cell_type": "code",
   "execution_count": null,
   "id": "79c718d9",
   "metadata": {},
   "outputs": [],
   "source": [
    "# Global variables can be accessed anywhere in the script including inside functions for read purposes. Modification can\n",
    "# only happen in globalnamespace\n",
    "# Non local variables can be read in localnamespace but modified only in nonlocal namespace. They cannot be read in global\n",
    "# namespace\n",
    "# Local variables can be read in localnamespace only and modified in local namespace only.\n",
    "\n",
    "# Above rules should have an addendume which is 'UNLESS WE USE THE GLOBAL AND/OR NON LOCAL KEYWORDS'\n",
    "\n",
    "# Hierarchy\n",
    "\n",
    "# Check first in local namespace, then nonlocal namespace(if there is) and finally in globalnamespace"
   ]
  },
  {
   "cell_type": "code",
   "execution_count": null,
   "id": "fbf1d994",
   "metadata": {},
   "outputs": [],
   "source": []
  },
  {
   "cell_type": "code",
   "execution_count": null,
   "id": "12e7d889",
   "metadata": {},
   "outputs": [],
   "source": []
  },
  {
   "cell_type": "code",
   "execution_count": null,
   "id": "8d82143e",
   "metadata": {},
   "outputs": [],
   "source": [
    "x = 100\n",
    "\n",
    "def funct1():\n",
    "    global x\n",
    "    x = 200\n",
    "    return x\n",
    "\n",
    "\n",
    "f1 = funct1()\n",
    "\n",
    "print(f1)\n",
    "print(x)"
   ]
  },
  {
   "cell_type": "code",
   "execution_count": null,
   "id": "8a9063e7",
   "metadata": {},
   "outputs": [],
   "source": [
    "def outer():\n",
    "    x = 100\n",
    "    def inner():\n",
    "        nonlocal x\n",
    "        x = 200\n",
    "        print(f'Value of x in inner function is {x}')\n",
    "    inner()\n",
    "    return x\n",
    "\n",
    "print(f'Value returned from outer function x is now {outer()}')"
   ]
  },
  {
   "cell_type": "code",
   "execution_count": null,
   "id": "da7c126b",
   "metadata": {},
   "outputs": [],
   "source": [
    "x = 100\n",
    "y = 200\n",
    "\n",
    "def outer():\n",
    "    global x\n",
    "    global y\n",
    "    x = 1000\n",
    "    y = 2000\n",
    "    z = 3000\n",
    "    def inner():\n",
    "        nonlocal z\n",
    "        z = 3001\n",
    "    inner()\n",
    "    return x,y,z\n",
    "\n",
    "\n",
    "p,q,r = outer()\n",
    "\n",
    "print(p,q,r)\n",
    "        \n",
    "    \n",
    "print(x,y)"
   ]
  },
  {
   "cell_type": "code",
   "execution_count": null,
   "id": "3d0eb15e",
   "metadata": {},
   "outputs": [],
   "source": [
    "x = 100\n",
    "y = 200\n",
    "\n",
    "def outerfunct():\n",
    "    x = 1000              # nonlocal namespace\n",
    "    y = 2000\n",
    "    def innerfunct():\n",
    "        nonlocal x\n",
    "        nonlocal y\n",
    "        x = 1001\n",
    "        y = 2001\n",
    "    innerfunct()\n",
    "    print(f'outerfunction x value is : {x} and y value is {y}.')\n",
    "    \n",
    "    \n",
    "outerfunct()"
   ]
  },
  {
   "cell_type": "code",
   "execution_count": null,
   "id": "c15e11be",
   "metadata": {},
   "outputs": [],
   "source": []
  },
  {
   "cell_type": "code",
   "execution_count": null,
   "id": "a42343d1",
   "metadata": {},
   "outputs": [],
   "source": [
    "localvardict = {x = 1000, z = 300}"
   ]
  },
  {
   "cell_type": "code",
   "execution_count": null,
   "id": "4ae75a13",
   "metadata": {},
   "outputs": [],
   "source": [
    "globalnamespace = {'a':100}\n",
    "\n",
    "\n",
    "globalnamespace['a'] = 0\n",
    "globalnamespace['a'] = 1\n",
    "globalnamespace['a'] = 2\n",
    "globalnamespace['a'] = 3\n",
    "globalnamespace['a'] = 4\n",
    "\n"
   ]
  },
  {
   "cell_type": "code",
   "execution_count": null,
   "id": "9c3651ee",
   "metadata": {},
   "outputs": [],
   "source": [
    "a = 100\n",
    "\n",
    "for a in range(5):\n",
    "    print(a)\n",
    "    \n",
    "print(a)"
   ]
  },
  {
   "cell_type": "code",
   "execution_count": null,
   "id": "200ed9ca",
   "metadata": {},
   "outputs": [],
   "source": [
    "dict1 = {'x':100, 'y':200}\n",
    "dict2 = {'x': 1001, 'z': 300}\n",
    "\n",
    "print(dict1)\n",
    "print(dict2)"
   ]
  },
  {
   "cell_type": "code",
   "execution_count": null,
   "id": "40b4bac8",
   "metadata": {},
   "outputs": [],
   "source": [
    "globalnamespace\n",
    "------nonlocal\n",
    "          ------local"
   ]
  },
  {
   "cell_type": "code",
   "execution_count": null,
   "id": "4a3a5547",
   "metadata": {},
   "outputs": [],
   "source": [
    "local, non-local, global\n",
    "\n"
   ]
  },
  {
   "cell_type": "code",
   "execution_count": null,
   "id": "37ed15a1",
   "metadata": {},
   "outputs": [],
   "source": [
    "import keyword\n",
    "\n",
    "print(keyword.kwlist)"
   ]
  },
  {
   "cell_type": "code",
   "execution_count": null,
   "id": "cc6108ed",
   "metadata": {},
   "outputs": [],
   "source": [
    "# Global variables are variables that are defined outside a function and can be accessed and changed anywhere in a program. \n",
    "# Local variables on the other hand only exist inside a function.\n",
    "\n",
    "# Everything in Python is an object and the variable names we assign are only references to these objects. However, we may\n",
    "# have one variable name pointing to different objects at different points in the program(example - inside and outside a\n",
    "# function). Python keeps a dicitionary type mapping for these different references which are called 'namespaces'.\n",
    "\n",
    "# It also maintains an hierarchy of namespaces. Global variables are accessible anywhere in the program (but may not be\n",
    "# changed from inside a function without using the global keyword. More on that in a bit). \n",
    "\n",
    "# Then we can have several layers of non-local name spaces\n",
    "\n",
    "# And finally, the local namespace of the function being run. \n",
    "\n",
    "x = 10\n",
    "y = 20\n",
    "z = 30\n",
    "\n",
    "\n",
    "def outer_funct():\n",
    "    \n",
    "    x = 100\n",
    "    y = 200\n",
    "    #z = 300\n",
    "    #return x,y,z\n",
    "\n",
    "# g = x : 10, y : 20, z : 30\n",
    "# l = x : 100, y : 200, z : 300\n",
    "print(outer_funct())\n",
    "\n",
    "print(x)"
   ]
  },
  {
   "cell_type": "code",
   "execution_count": null,
   "id": "b15680d2",
   "metadata": {},
   "outputs": [],
   "source": [
    "print(outer_funct())"
   ]
  },
  {
   "cell_type": "code",
   "execution_count": null,
   "id": "095f9e15",
   "metadata": {},
   "outputs": [],
   "source": [
    "# E.g. \n",
    "\n",
    "# global namespace is {x = 10, y = 20, z = 30} - Read anywhere, write only in global namespace\n",
    "# local namespace while in outer_funct is {x = 100, y = 200, z = 300} - Read and write in local namespace but can only read\n",
    "# global variables (not modify them) without global keyword\n",
    "p = 10\n",
    "q = 20\n",
    "r = 30\n",
    "\n",
    "def outer_funct():\n",
    "    a = 100\n",
    "    b = 200\n",
    "    c = 300\n",
    "    p = 101\n",
    "    q = 201\n",
    "    r = 301\n",
    "    #return a+b+c\n",
    "    def inner_funct():\n",
    "        x = 1000\n",
    "        y = 2000\n",
    "        z = 3000\n",
    "        return a,b,c,x,y,z, p,q,r\n",
    "    return inner_funct\n",
    "funct = outer_funct()\n",
    "\n",
    "print(funct())\n",
    "\n",
    "# Now, the outer_funct is a non local namespace while inside the inner_funct BUT a local namespace while running the outer_\n",
    "# funct. \n",
    "\n",
    "# global namespace is {x = 10, y = 20, z = 30} - Read anywhere, write only in global namespace\n",
    "# non_local namespace while in outer_funct is {x = 100, y = 200, z = 300} - Read and write in outer_funct but can only read\n",
    "# global variables without global keyword\n",
    "# local namespace while in innerr_funct is {x = 1000, y = 2000, z = 3000} - Read and write in inner_funct but can only read\n",
    "# global variables (without global keyword) and non_local variables(without nonlocal keyword)"
   ]
  },
  {
   "cell_type": "code",
   "execution_count": null,
   "id": "1ecd7c59",
   "metadata": {},
   "outputs": [],
   "source": [
    "# Global variables. \n",
    "\n",
    "str1 = 'Hello'\n",
    "\n",
    "print(str1)"
   ]
  },
  {
   "cell_type": "code",
   "execution_count": null,
   "id": "0d17a3aa",
   "metadata": {},
   "outputs": [],
   "source": [
    "str2 = 'Hi'\n",
    "print(str2)"
   ]
  },
  {
   "cell_type": "code",
   "execution_count": null,
   "id": "7473c529",
   "metadata": {},
   "outputs": [],
   "source": [
    "def greet(x):\n",
    "    str1 = x\n",
    "    str2 = 'Hello there'\n",
    "    print(str1)\n",
    "    print(str2)\n",
    "    return str1, str2\n",
    "\n",
    "\n",
    "tuhin = greet('Hello handsome')"
   ]
  },
  {
   "cell_type": "code",
   "execution_count": null,
   "id": "85a90a57",
   "metadata": {},
   "outputs": [],
   "source": [
    "print(tuhin)"
   ]
  },
  {
   "cell_type": "code",
   "execution_count": null,
   "id": "d0afcb29",
   "metadata": {},
   "outputs": [],
   "source": [
    "print(str21)"
   ]
  },
  {
   "cell_type": "code",
   "execution_count": null,
   "id": "65e11f0c",
   "metadata": {},
   "outputs": [],
   "source": [
    "print(str22)"
   ]
  },
  {
   "cell_type": "code",
   "execution_count": null,
   "id": "5e472085",
   "metadata": {},
   "outputs": [],
   "source": [
    "def greet(x):\n",
    "    str1 = x\n",
    "    print(str1)\n",
    "    \n",
    "greet('Hello handsome')"
   ]
  },
  {
   "cell_type": "code",
   "execution_count": null,
   "id": "7dd620ee",
   "metadata": {},
   "outputs": [],
   "source": [
    "print(str1)\n",
    "print(str2)"
   ]
  },
  {
   "cell_type": "code",
   "execution_count": null,
   "id": "5b3f56b1",
   "metadata": {},
   "outputs": [],
   "source": [
    "# Inside a function i.e. locally, if we assign a value to a variable that already exists outside the function i.e. globally,\n",
    "# it does not affect the global variable. However, if we explicitly wanted to change the value of a global variable from\n",
    "# inside afunction, we have to use the global keyword. More on that later. "
   ]
  },
  {
   "cell_type": "code",
   "execution_count": null,
   "id": "4bcecb5d",
   "metadata": {},
   "outputs": [],
   "source": [
    "#Global variables can be accessed inside a function but local variables cannot be accessed outside the function(as we have\n",
    "# already seen).\n",
    "\n",
    "x = 'Hello handsome'\n",
    "\n",
    "def greet():\n",
    "    print(x)\n",
    "greet()"
   ]
  },
  {
   "cell_type": "code",
   "execution_count": null,
   "id": "d49c4ff8",
   "metadata": {},
   "outputs": [],
   "source": [
    "\n",
    "def greet():\n",
    "    strx = 'Hi There'\n",
    "    print(strx)\n",
    "    #print(x)\n",
    "\n",
    "greet()"
   ]
  },
  {
   "cell_type": "code",
   "execution_count": null,
   "id": "8503594e",
   "metadata": {},
   "outputs": [],
   "source": [
    "print(x)"
   ]
  },
  {
   "cell_type": "code",
   "execution_count": null,
   "id": "00cc48c5",
   "metadata": {},
   "outputs": [],
   "source": [
    "print(strx)"
   ]
  },
  {
   "cell_type": "code",
   "execution_count": null,
   "id": "f8ca7572",
   "metadata": {},
   "outputs": [],
   "source": [
    "total = 51\n",
    "\n",
    "def total_x(a,b):\n",
    "    total = a+b\n",
    "    print(total)\n",
    "    \n",
    "    \n",
    "total_x(10,20)"
   ]
  },
  {
   "cell_type": "code",
   "execution_count": null,
   "id": "304a29e7",
   "metadata": {},
   "outputs": [],
   "source": [
    "print(total)"
   ]
  },
  {
   "cell_type": "code",
   "execution_count": null,
   "id": "7f236f8d",
   "metadata": {},
   "outputs": [],
   "source": [
    "total = 51\n",
    "\n",
    "def total_x(a,b):\n",
    "    global total\n",
    "    total = a+b\n",
    "    print(total)\n",
    "    \n",
    "total_x(10,20)"
   ]
  },
  {
   "cell_type": "code",
   "execution_count": null,
   "id": "56b442b1",
   "metadata": {},
   "outputs": [],
   "source": [
    "print(total)"
   ]
  },
  {
   "cell_type": "code",
   "execution_count": null,
   "id": "fa98d49f",
   "metadata": {},
   "outputs": [],
   "source": [
    "x = 10\n",
    "\n",
    "def no_local():\n",
    "    print(x+10)\n",
    "    \n",
    "no_local()\n"
   ]
  },
  {
   "cell_type": "code",
   "execution_count": null,
   "id": "dde484c2",
   "metadata": {},
   "outputs": [],
   "source": [
    "print(x)"
   ]
  },
  {
   "cell_type": "code",
   "execution_count": null,
   "id": "9d44533f",
   "metadata": {},
   "outputs": [],
   "source": [
    "# localvardict = {x = 10, y = 20}\n",
    "\n",
    "# globaldict = {x = 10, z = 300}"
   ]
  },
  {
   "cell_type": "code",
   "execution_count": null,
   "id": "de2aa237",
   "metadata": {},
   "outputs": [],
   "source": [
    "def w_local():\n",
    "    global x\n",
    "    x = 20\n",
    "    x += 10\n",
    "    print(x)\n",
    "\n",
    "w_local()"
   ]
  },
  {
   "cell_type": "code",
   "execution_count": null,
   "id": "839536a0",
   "metadata": {},
   "outputs": [],
   "source": [
    "print(x)"
   ]
  },
  {
   "cell_type": "code",
   "execution_count": null,
   "id": "a7bdcfa8",
   "metadata": {},
   "outputs": [],
   "source": [
    "print(f'Global variable remeains the same : {x}.')"
   ]
  },
  {
   "cell_type": "code",
   "execution_count": null,
   "id": "6c02b4c1",
   "metadata": {},
   "outputs": [],
   "source": [
    "x = 100\n",
    "\n"
   ]
  },
  {
   "cell_type": "code",
   "execution_count": null,
   "id": "a017b5b1",
   "metadata": {},
   "outputs": [],
   "source": [
    "def w_global():\n",
    "    global x\n",
    "    x += 10\n",
    "    y = 100\n",
    "    print(x)\n",
    "    \n",
    "w_global()\n",
    "print(f'Global variable changed to : {x}.')"
   ]
  },
  {
   "cell_type": "code",
   "execution_count": null,
   "id": "3a48dacb",
   "metadata": {},
   "outputs": [],
   "source": [
    "    \n",
    "    \n"
   ]
  },
  {
   "cell_type": "code",
   "execution_count": null,
   "id": "f2c8056a",
   "metadata": {},
   "outputs": [],
   "source": [
    "def non_local_no_kw():\n",
    "    x = 10\n",
    "    def inner_no_kw():\n",
    "        x = 20\n",
    "        return x\n",
    "    return f'Inner variable x value : {inner_no_kw()}. \\nOuter funct x value : {x}.'\n",
    "\n",
    "print(non_local_no_kw())"
   ]
  },
  {
   "cell_type": "code",
   "execution_count": null,
   "id": "c2436228",
   "metadata": {},
   "outputs": [],
   "source": [
    "\n",
    "# Global namespace\n",
    "# nonlocal namespace\n",
    "\n",
    "\n",
    "globalnamespace = {}\n",
    "\n",
    "localnamespace1 = {}\n",
    "\n",
    "inner function = localnamespace2 = {}, ------> localnamespace1"
   ]
  },
  {
   "cell_type": "code",
   "execution_count": null,
   "id": "9bda74aa",
   "metadata": {},
   "outputs": [],
   "source": [
    "x = 1111\n",
    "y = 1001\n",
    "\n",
    "\n",
    "# globalspace\n",
    "# nonlocal = outer function of an inner function\n",
    "\n",
    "\n",
    "def non_local_w_kw():\n",
    "    global x\n",
    "    global y\n",
    "    x = 10\n",
    "    y = 100\n",
    "    def inner_w_kw():\n",
    "        global x\n",
    "        x = 20\n",
    "        return x\n",
    "    return f'Inner variable x value : {inner_w_kw()}. \\nOuter funct y value : {y}. Outer function x value {x}.'\n",
    "print(non_local_w_kw())"
   ]
  },
  {
   "cell_type": "code",
   "execution_count": null,
   "id": "59672031",
   "metadata": {},
   "outputs": [],
   "source": [
    "print(x)\n",
    "print(y)"
   ]
  },
  {
   "cell_type": "code",
   "execution_count": null,
   "id": "b25271ca",
   "metadata": {},
   "outputs": [],
   "source": []
  },
  {
   "cell_type": "code",
   "execution_count": null,
   "id": "d62b4934",
   "metadata": {},
   "outputs": [],
   "source": [
    "def non_local_2():\n",
    "    y = 2000\n",
    "    def non_local_w_kw():\n",
    "        y = 100\n",
    "        return y\n",
    "        def inner_w_kw():\n",
    "            nonlocal y\n",
    "            y = 20\n",
    "            return y\n",
    "    return f'''inner function y value is {inner_w_kw()}, \\n Outer function y values is : {non_local_w_kw()}. Outermost functions y value is {y}.'''\n",
    "\n",
    "\n",
    "print(non_local_w_kw())\n",
    "    \n"
   ]
  },
  {
   "cell_type": "code",
   "execution_count": null,
   "id": "83b8a372",
   "metadata": {},
   "outputs": [],
   "source": [
    "def funct_outer():\n",
    "    y = 2000\n",
    "    def funct_inner1():\n",
    "        y = 100\n",
    "        def funct_inner2():\n",
    "            nonlocal y\n",
    "            y = 20\n",
    "            return y\n",
    "        return funct_inner2, y\n",
    "    return f'''inner function y value is {funct_inner1()[0]()}, \\n Outer function y values is : {funct_inner1()[1]}. Outermost functions y value is {y}.'''\n",
    "\n",
    "\n",
    "print(funct_outer())\n"
   ]
  },
  {
   "cell_type": "code",
   "execution_count": null,
   "id": "27eb60d7",
   "metadata": {},
   "outputs": [],
   "source": [
    "x = 100\n",
    "print(f'x before loops is {x}')\n",
    "for x in range(5):\n",
    "    print(x)\n",
    "    \n",
    "    \n",
    "    \n",
    "print(f'x outside the loop is now {x}')"
   ]
  },
  {
   "cell_type": "code",
   "execution_count": null,
   "id": "23ecf20f",
   "metadata": {},
   "outputs": [],
   "source": [
    "import copy"
   ]
  },
  {
   "cell_type": "code",
   "execution_count": null,
   "id": "bb65c33a",
   "metadata": {},
   "outputs": [],
   "source": []
  },
  {
   "cell_type": "code",
   "execution_count": null,
   "id": "db56a959",
   "metadata": {},
   "outputs": [],
   "source": []
  },
  {
   "cell_type": "code",
   "execution_count": null,
   "id": "d233ae01",
   "metadata": {},
   "outputs": [],
   "source": [
    "x = 1001"
   ]
  },
  {
   "cell_type": "code",
   "execution_count": null,
   "id": "06251287",
   "metadata": {},
   "outputs": [],
   "source": [
    "def outer():\n",
    "    x = 10\n",
    "    def first_inner():\n",
    "        nonlocal x\n",
    "        print(x)\n",
    "        x = 50\n",
    "        y = 30\n",
    "        print(f'First Inner function original x value is {x} and y is {y}.')\n",
    "        def inner_w_kw():\n",
    "            nonlocal x\n",
    "            nonlocal y\n",
    "            print(x)\n",
    "            x = 20\n",
    "            y = 40\n",
    "            print(f'Inner function original x, y values are : {x,y}.')\n",
    "            return x,y\n",
    "        inner_w_kw()\n",
    "        print(f'First Inner function x value is now {x} and y is now .')\n",
    "    first_inner()\n",
    "    return f'Outer function x value is now {x}.'\n",
    "\n",
    "\n",
    "print(outer())\n",
    "print(x)"
   ]
  },
  {
   "cell_type": "code",
   "execution_count": null,
   "id": "a7b01ad8",
   "metadata": {},
   "outputs": [],
   "source": [
    "def non_local_w_kw():\n",
    "    x = 10\n",
    "    def first_inner():\n",
    "        y = 30\n",
    "        nonlocal x\n",
    "        x = 50\n",
    "        def inner_w_kw():\n",
    "            nonlocal x\n",
    "            nonlocal y\n",
    "            x = 20\n",
    "            y = 40\n",
    "            print(f'Inner function x, y values : {x,y}.')\n",
    "            return x,y\n",
    "        inner_w_kw()\n",
    "        return x,y\n",
    "    return f'Outer funct x value : {x}\\nFirst inner funct y value {first_inner()}.'\n",
    "\n",
    "\n",
    "print(non_local_w_kw())"
   ]
  },
  {
   "cell_type": "markdown",
   "id": "24682087",
   "metadata": {},
   "source": [
    "### yield keyword and generator functions/objects"
   ]
  },
  {
   "cell_type": "code",
   "execution_count": null,
   "id": "853eb246",
   "metadata": {},
   "outputs": [],
   "source": [
    "# We have seen how we can create list, tuple, dictionary etc object. Python has another object type called 'generator'. \n",
    "# When we use the 'yield' keyword instead of a 'return' statement in a function, we have created a generator object."
   ]
  },
  {
   "cell_type": "code",
   "execution_count": null,
   "id": "346d7775",
   "metadata": {},
   "outputs": [],
   "source": [
    "#iterator objects - class in itself in Python. __iter()\n",
    "\n",
    "# Generator objects ----> iterator"
   ]
  },
  {
   "cell_type": "code",
   "execution_count": null,
   "id": "0a9e99e1",
   "metadata": {},
   "outputs": [],
   "source": [
    "def newfunct():\n",
    "    yield 10\n",
    "    yield 20\n",
    "    \n",
    "    \n",
    "x = newfunct()\n",
    "\n",
    "print(x)"
   ]
  },
  {
   "cell_type": "code",
   "execution_count": null,
   "id": "46c14dde",
   "metadata": {},
   "outputs": [],
   "source": [
    "print(next(x))"
   ]
  },
  {
   "cell_type": "code",
   "execution_count": null,
   "id": "700823da",
   "metadata": {},
   "outputs": [],
   "source": [
    "print(next(x))"
   ]
  },
  {
   "cell_type": "code",
   "execution_count": null,
   "id": "a4a9cb36",
   "metadata": {},
   "outputs": [],
   "source": [
    "for i in x:\n",
    "    print(i)"
   ]
  },
  {
   "cell_type": "code",
   "execution_count": null,
   "id": "50b4c623",
   "metadata": {},
   "outputs": [],
   "source": [
    "#iterator object\n",
    "# ---- generator objects"
   ]
  },
  {
   "cell_type": "code",
   "execution_count": null,
   "id": "9a5922f7",
   "metadata": {},
   "outputs": [],
   "source": [
    "def list_gen(x):\n",
    "    ret_list = []\n",
    "    for i in range(x):\n",
    "        if i % 2 == 0:\n",
    "            ret_list.append(i)\n",
    "    return ret_list\n",
    "\n",
    "list_even = list_gen(20)\n",
    "\n",
    "print(list_even)"
   ]
  },
  {
   "cell_type": "code",
   "execution_count": null,
   "id": "3e8191d3",
   "metadata": {},
   "outputs": [],
   "source": [
    "yield also returns something from the function"
   ]
  },
  {
   "cell_type": "code",
   "execution_count": null,
   "id": "7029ce53",
   "metadata": {},
   "outputs": [],
   "source": []
  },
  {
   "cell_type": "code",
   "execution_count": null,
   "id": "e35e31bc",
   "metadata": {},
   "outputs": [],
   "source": [
    "print(list_gen)"
   ]
  },
  {
   "cell_type": "code",
   "execution_count": null,
   "id": "bddef27a",
   "metadata": {},
   "outputs": [],
   "source": [
    "# As expected, we got a list saved in the list_even variable. \n",
    "\n",
    "# And on iterating over it, we get the expected output. \n",
    "\n",
    "for i in list_even:\n",
    "    print(i, end=' ')"
   ]
  },
  {
   "cell_type": "code",
   "execution_count": null,
   "id": "02b4c587",
   "metadata": {},
   "outputs": [],
   "source": [
    "# In the below program, we use yield instead of return. \n",
    "\n",
    "\n",
    "def gen_gen(x):\n",
    "    for i in range(x):\n",
    "        if i%2 == 0:\n",
    "            yield i\n",
    "\n",
    "gen_even = gen_gen(20)"
   ]
  },
  {
   "cell_type": "code",
   "execution_count": null,
   "id": "6310fa6d",
   "metadata": {},
   "outputs": [],
   "source": [
    "yield keyword - we make our function into a generator object. \n",
    "\n",
    "# A generator object is nothing but subclass of iterator object. "
   ]
  },
  {
   "cell_type": "code",
   "execution_count": null,
   "id": "1598c0bd",
   "metadata": {},
   "outputs": [],
   "source": [
    "print(gen_even)"
   ]
  },
  {
   "cell_type": "code",
   "execution_count": null,
   "id": "83717d3b",
   "metadata": {},
   "outputs": [],
   "source": [
    "# Gen Function - returns final output\n",
    "# Generator object function - only executes till it hits yield keyword on each next function call\n",
    "\n",
    "# Gen Function - Function object with return keyword\n",
    "# yield keyword - generator object\n",
    "\n",
    "# Gen Function - if returns an iterable can be iterated over innumerable times\n",
    "# Gen object - can only be iterated over once. "
   ]
  },
  {
   "cell_type": "code",
   "execution_count": null,
   "id": "ab857021",
   "metadata": {},
   "outputs": [],
   "source": [
    "print(next(gen_even))"
   ]
  },
  {
   "cell_type": "code",
   "execution_count": null,
   "id": "73425f7e",
   "metadata": {},
   "outputs": [],
   "source": [
    "for x in gen_even: # <next is already inside the for loop>\n",
    "    print(x)"
   ]
  },
  {
   "cell_type": "code",
   "execution_count": null,
   "id": "e514b5b1",
   "metadata": {},
   "outputs": [],
   "source": [
    "print(next(gen_even))"
   ]
  },
  {
   "cell_type": "code",
   "execution_count": null,
   "id": "cf579b68",
   "metadata": {},
   "outputs": [],
   "source": [
    "# for loop internally calls next function\n",
    "# generator and iterator objects can only be iterated over once."
   ]
  },
  {
   "cell_type": "code",
   "execution_count": null,
   "id": "abfaac14",
   "metadata": {},
   "outputs": [],
   "source": [
    "for x in gen_even:\n",
    "    print(x)"
   ]
  },
  {
   "cell_type": "code",
   "execution_count": null,
   "id": "714f41b2",
   "metadata": {},
   "outputs": [],
   "source": [
    "lst1 = list(gen_even)\n",
    "\n",
    "print(lst1)"
   ]
  },
  {
   "cell_type": "code",
   "execution_count": null,
   "id": "ed785178",
   "metadata": {},
   "outputs": [],
   "source": [
    "for x in lst1:\n",
    "    print(x)"
   ]
  },
  {
   "cell_type": "code",
   "execution_count": null,
   "id": "63521da0",
   "metadata": {},
   "outputs": [],
   "source": [
    "a = next(gen_even)\n",
    "b = next(gen_even)\n",
    "c = next(gen_even)"
   ]
  },
  {
   "cell_type": "code",
   "execution_count": null,
   "id": "b67e8ce0",
   "metadata": {},
   "outputs": [],
   "source": [
    "print(a, b, c)"
   ]
  },
  {
   "cell_type": "code",
   "execution_count": null,
   "id": "dd3227c6",
   "metadata": {},
   "outputs": [],
   "source": [
    "for j in gen_even:\n",
    "    print(j)"
   ]
  },
  {
   "cell_type": "code",
   "execution_count": null,
   "id": "8bfd47a8",
   "metadata": {},
   "outputs": [],
   "source": []
  },
  {
   "cell_type": "code",
   "execution_count": null,
   "id": "6a09551a",
   "metadata": {},
   "outputs": [],
   "source": [
    "range1 = range(20)\n",
    "\n",
    "for x in range1:\n",
    "    print(x)"
   ]
  },
  {
   "cell_type": "code",
   "execution_count": null,
   "id": "3fe8e9bb",
   "metadata": {},
   "outputs": [],
   "source": [
    "print(next(gen_even))"
   ]
  },
  {
   "cell_type": "code",
   "execution_count": null,
   "id": "ec0a9733",
   "metadata": {},
   "outputs": [],
   "source": [
    "print(next(gen_even))"
   ]
  },
  {
   "cell_type": "code",
   "execution_count": null,
   "id": "810437bb",
   "metadata": {},
   "outputs": [],
   "source": [
    "for x in gen_even:\n",
    "    print(x)"
   ]
  },
  {
   "cell_type": "code",
   "execution_count": null,
   "id": "a2e518d2",
   "metadata": {},
   "outputs": [],
   "source": [
    "print(next(gen_even))"
   ]
  },
  {
   "cell_type": "code",
   "execution_count": null,
   "id": "6fd2fdfc",
   "metadata": {},
   "outputs": [],
   "source": [
    "print(next(gen_even))"
   ]
  },
  {
   "cell_type": "code",
   "execution_count": null,
   "id": "fb6dedc2",
   "metadata": {},
   "outputs": [],
   "source": [
    "# generator object helps us save memory space and processing time for BIG data.\n",
    "\n",
    "# For smaller data - better to make function with return keyword."
   ]
  },
  {
   "cell_type": "code",
   "execution_count": null,
   "id": "95a250f2",
   "metadata": {},
   "outputs": [],
   "source": [
    "# Processing with return will be marginally faster than using yield.\n",
    "\n",
    "# Yield keyword has lots of advantages when dealing with huge or dynamic data.\n",
    "\n",
    "# 1. For big data total processing time will be faster due to pipelining (sort of).\n",
    "# 2. Negligible memory utilisation\n",
    "\n",
    "\n"
   ]
  },
  {
   "cell_type": "code",
   "execution_count": null,
   "id": "8df631eb",
   "metadata": {},
   "outputs": [],
   "source": [
    "# lst1 = [10 million data]\n",
    "\n",
    "# function:\n",
    "#     complicated code\n",
    "#     yield x\n",
    "    \n",
    "    \n",
    "# function2:\n",
    "#     complicated code on x\n",
    "#     next function\n",
    "#     return new list"
   ]
  },
  {
   "cell_type": "code",
   "execution_count": null,
   "id": "57f133ce",
   "metadata": {},
   "outputs": [],
   "source": [
    "lst1 = [17, 12,14,6, 11, 3]\n",
    "\n",
    "lst2 = reversed(lst1)\n",
    "\n",
    "print(lst2)"
   ]
  },
  {
   "cell_type": "code",
   "execution_count": null,
   "id": "a269de13",
   "metadata": {},
   "outputs": [],
   "source": []
  },
  {
   "cell_type": "code",
   "execution_count": null,
   "id": "62eb9b9a",
   "metadata": {},
   "outputs": [],
   "source": [
    "for x in lst2:\n",
    "    print(x)"
   ]
  },
  {
   "cell_type": "code",
   "execution_count": null,
   "id": "45b7ae4a",
   "metadata": {},
   "outputs": [],
   "source": []
  },
  {
   "cell_type": "code",
   "execution_count": null,
   "id": "a4decd82",
   "metadata": {},
   "outputs": [],
   "source": []
  },
  {
   "cell_type": "code",
   "execution_count": null,
   "id": "2b26b1a3",
   "metadata": {},
   "outputs": [],
   "source": []
  },
  {
   "cell_type": "code",
   "execution_count": null,
   "id": "c7b77513",
   "metadata": {},
   "outputs": [],
   "source": []
  },
  {
   "cell_type": "code",
   "execution_count": null,
   "id": "40d0a4e4",
   "metadata": {},
   "outputs": [],
   "source": [
    "# Note how we got a generator object instead of actually getting all the values. \n",
    "for i in gen_even:\n",
    "    print(i)\n",
    "\n",
    "    "
   ]
  },
  {
   "cell_type": "code",
   "execution_count": null,
   "id": "484c0c2d",
   "metadata": {},
   "outputs": [],
   "source": [
    "print(next(gen_even))\n",
    "print(next(gen_even))"
   ]
  },
  {
   "cell_type": "code",
   "execution_count": null,
   "id": "ed99cb0e",
   "metadata": {},
   "outputs": [],
   "source": [
    "# Iterating over the generator object, we got the expected output of even numbers. \n",
    "\n",
    "# However, observe now how iterating over the list a second time, gives us the expected output. \n",
    "\n",
    "# But iterating over the generator object a second time(without calling the generator function which contains yield), does\n",
    "# NOT work. There is no output.\n",
    "\n",
    "# This is because by using 'yield' instead of 'return', we have changed the working of our function. \n",
    "\n",
    "# In the case of the first function, we are processing the whole function, adding values to a list object and outputting a\n",
    "# list with the values we need. \n",
    "\n",
    "# However, in the case of the generator object, the function runs till it hits the FIRST yield statement. Then stops until\n",
    "# another call to the generator object is made e.g. when we iterate over the generator object and require the next value.\n",
    "\n",
    "# Once all the processing of the generator is done - the generator is 'exhausted.'. It has NOT stored the resulting output\n",
    "# in memory and same cannot be accessed again. What can be done is to call the generator object again. \n",
    "\n",
    "# When we are using a few values - like 20 - it may not matter. But when running iterations over 1000's (or even millions)\n",
    "# of items - the generator object comes in handy. \n",
    "\n",
    "# Imagine we need to process a million rows of data - \n",
    "# (Don't be amazed, its not only possible but likely in the Data Science field). \n",
    "\n",
    "#  When we use a return function the whole function must run and return the resulting object. Imagine requiring a\n",
    "#  list or array containing a million rows. \n",
    "# - The resulting object must be stored in memory and will require a huge amount of space. \n",
    "# - The process of accumulating the list must be completed before we can process the elements of the list. So, this requires\n",
    "# longer processing time. \n",
    "\n",
    "# The advantage of a generator object in such cases is that - \n",
    "# - The processing is being done almost simultaneously. So faster processing time. \n",
    "# - Since the resulting output is not stored in memory, there is hardly - if any - memory usage. "
   ]
  },
  {
   "cell_type": "code",
   "execution_count": null,
   "id": "6e69d3f0",
   "metadata": {},
   "outputs": [],
   "source": [
    "def gen_gen(x):\n",
    "    for i in range(x):\n",
    "        if i%2 == 0:\n",
    "            yield i\n"
   ]
  },
  {
   "cell_type": "code",
   "execution_count": null,
   "id": "aabdad24",
   "metadata": {},
   "outputs": [],
   "source": [
    "# As we have seen before function objects or calls can be passed to other functions: \n",
    "\n",
    "def mult_ply(x):\n",
    "    for i in x:\n",
    "        print(i*100)\n",
    "        \n",
    "multi_100 = mult_ply(gen_gen(20))\n",
    "\n",
    "print(multi_100)"
   ]
  },
  {
   "cell_type": "code",
   "execution_count": null,
   "id": "546430f7",
   "metadata": {},
   "outputs": [],
   "source": [
    "# Another advantage of using the generator object is that we can call the next output of the generator object one by one:\n",
    "\n",
    "gentry = gen_gen(10)\n",
    "\n",
    "print(next(gentry))"
   ]
  },
  {
   "cell_type": "code",
   "execution_count": null,
   "id": "57122678",
   "metadata": {},
   "outputs": [],
   "source": [
    "print(next(gentry))"
   ]
  },
  {
   "cell_type": "code",
   "execution_count": null,
   "id": "2a875729",
   "metadata": {},
   "outputs": [],
   "source": [
    "print(next(gentry))"
   ]
  },
  {
   "cell_type": "code",
   "execution_count": null,
   "id": "b30cdb6f",
   "metadata": {},
   "outputs": [],
   "source": [
    "print(next(gentry))"
   ]
  },
  {
   "cell_type": "code",
   "execution_count": null,
   "id": "978b89b0",
   "metadata": {},
   "outputs": [],
   "source": [
    "print(next(gentry))"
   ]
  },
  {
   "cell_type": "code",
   "execution_count": null,
   "id": "6be62e90",
   "metadata": {},
   "outputs": [],
   "source": [
    "print(next(gentry))\n",
    "\n",
    "# Once the generator is exhausted - we get a stop iteration error. "
   ]
  },
  {
   "cell_type": "code",
   "execution_count": null,
   "id": "1c8346f0",
   "metadata": {},
   "outputs": [],
   "source": [
    "gentry = gen_gen(10)\n",
    "\n",
    "for i in range(3):\n",
    "    print(next(gentry))"
   ]
  },
  {
   "cell_type": "code",
   "execution_count": null,
   "id": "07411285",
   "metadata": {},
   "outputs": [],
   "source": [
    "print(next(gentry))"
   ]
  },
  {
   "cell_type": "code",
   "execution_count": null,
   "id": "666f14a6",
   "metadata": {},
   "outputs": [],
   "source": [
    "print(next(gentry))"
   ]
  },
  {
   "cell_type": "code",
   "execution_count": null,
   "id": "645754d2",
   "metadata": {},
   "outputs": [],
   "source": [
    "print(next(gentry))"
   ]
  },
  {
   "cell_type": "code",
   "execution_count": null,
   "id": "a8d34bbd",
   "metadata": {},
   "outputs": [],
   "source": [
    "gentry = gen_gen(10)\n",
    "\n",
    "print(next(gentry))"
   ]
  },
  {
   "cell_type": "code",
   "execution_count": null,
   "id": "b3c8cb87",
   "metadata": {},
   "outputs": [],
   "source": [
    "print(next(gentry))"
   ]
  },
  {
   "cell_type": "code",
   "execution_count": null,
   "id": "82aeef80",
   "metadata": {},
   "outputs": [],
   "source": [
    "def xyz(a,b):\n",
    "    if a > b:\n",
    "        return a\n",
    "    if b>a:\n",
    "        return b\n",
    "    \n",
    "print(xyz(40,30))\n"
   ]
  },
  {
   "cell_type": "code",
   "execution_count": null,
   "id": "5e51d5de",
   "metadata": {},
   "outputs": [],
   "source": [
    "for i in range(3):\n",
    "    print(next(gentry))"
   ]
  },
  {
   "cell_type": "code",
   "execution_count": null,
   "id": "2c653e31",
   "metadata": {},
   "outputs": [],
   "source": [
    "def first_even_odd(x):\n",
    "    for i in x:\n",
    "        if i % 2== 0:\n",
    "            return i * 10\n",
    "        else:\n",
    "            return i*100\n",
    "        \n",
    "print(first_even_odd([8,7,2,5,4]))"
   ]
  },
  {
   "cell_type": "code",
   "execution_count": null,
   "id": "1c64daf8",
   "metadata": {},
   "outputs": [],
   "source": [
    "yield does not stop the function execution but waits for next to be called so it can move on to the next time yield is hit."
   ]
  },
  {
   "cell_type": "code",
   "execution_count": null,
   "id": "d0c69c7e",
   "metadata": {},
   "outputs": [],
   "source": [
    "def newfunctR(c):\n",
    "    for x in c:\n",
    "        if x%2 == 0:\n",
    "            return 'Even'\n",
    "        else:\n",
    "            return 'Odd'\n",
    "        \n",
    "        \n",
    "        "
   ]
  },
  {
   "cell_type": "code",
   "execution_count": null,
   "id": "9f64d03d",
   "metadata": {},
   "outputs": [],
   "source": [
    "lst1 = [10,17,20,21,42]"
   ]
  },
  {
   "cell_type": "code",
   "execution_count": null,
   "id": "2e6cda52",
   "metadata": {},
   "outputs": [],
   "source": [
    "print(newfunctR(lst1))"
   ]
  },
  {
   "cell_type": "code",
   "execution_count": null,
   "id": "fa3a7abf",
   "metadata": {},
   "outputs": [],
   "source": [
    "def newfunctY(c):\n",
    "    for x in c:\n",
    "        if x%2 == 0:\n",
    "            yield 'Even'\n",
    "        else:\n",
    "            yield 'Odd'\n"
   ]
  },
  {
   "cell_type": "code",
   "execution_count": null,
   "id": "a79c87ff",
   "metadata": {},
   "outputs": [],
   "source": [
    "oddeven = newfunctY(lst1)"
   ]
  },
  {
   "cell_type": "code",
   "execution_count": null,
   "id": "9e80177d",
   "metadata": {},
   "outputs": [],
   "source": [
    "print(oddeven)"
   ]
  },
  {
   "cell_type": "code",
   "execution_count": null,
   "id": "b46a3a43",
   "metadata": {},
   "outputs": [],
   "source": [
    "for num in oddeven:\n",
    "    print(num)"
   ]
  },
  {
   "cell_type": "code",
   "execution_count": null,
   "id": "5113a2ae",
   "metadata": {},
   "outputs": [],
   "source": [
    "# Multiple yield statements in a generator\n",
    "\n",
    "\n",
    "def multi_yield(a, b):\n",
    "    for i in range(len(a)):\n",
    "        #code\n",
    "        yield a[i]*10\n",
    "        #code\n",
    "        \n",
    "        yield b[i]\n",
    "\n",
    "        \n",
    "\n",
    "def alt_lst(m_y):\n",
    "    fin_lst = []\n",
    "    for g in m_y:\n",
    "        fin_lst.append(g)\n",
    "    return fin_lst\n",
    "        "
   ]
  },
  {
   "cell_type": "code",
   "execution_count": null,
   "id": "eed56d8b",
   "metadata": {},
   "outputs": [],
   "source": [
    "lst1 = [1,5,10,15,20]\n",
    "lst2 = [2,4,6,8,10]\n",
    "\n",
    "# m_yield = multi_yield(lst1, lst2)\n",
    "\n",
    "# print(m_yield)\n",
    "\n",
    "\n",
    "\n",
    "abc = alt_lst(multi_yield(lst1, lst2))\n",
    "\n",
    "print(abc)"
   ]
  },
  {
   "cell_type": "code",
   "execution_count": null,
   "id": "8159d987",
   "metadata": {},
   "outputs": [],
   "source": [
    "abc = alt_lst(multi_yield(lst1, lst2))\n",
    "\n",
    "print(abc)"
   ]
  },
  {
   "cell_type": "code",
   "execution_count": null,
   "id": "5618a0a6",
   "metadata": {},
   "outputs": [],
   "source": [
    "def sum_sq_n_cube(x):\n",
    "    return next(x) + next(x)\n",
    "\n",
    "def sq_n_cube(l):\n",
    "    # -----code \n",
    "    yield l*l\n",
    "    # ----- code\n",
    "    yield l*l*l\n",
    "\n",
    "print(sum_sq_n_cube(sq_n_cube(10)))"
   ]
  },
  {
   "cell_type": "code",
   "execution_count": null,
   "id": "82db4d33",
   "metadata": {},
   "outputs": [],
   "source": [
    "genobj = sq_n_cube(10)\n",
    "\n",
    "print(genobj)"
   ]
  },
  {
   "cell_type": "code",
   "execution_count": null,
   "id": "193db8c7",
   "metadata": {},
   "outputs": [],
   "source": [
    "for i in range(5):\n",
    "    print(sum_sq_n_cube(sq_n_cube(i)))\n",
    "\n"
   ]
  },
  {
   "cell_type": "code",
   "execution_count": null,
   "id": "7cb78294",
   "metadata": {},
   "outputs": [],
   "source": [
    "# Note however, the utility of generator objects really is observed when there is large information to process and at this\n",
    "# point in the python journey - it may not be possible to elaborate further. However, one may (or may not) require it \n",
    "# on immersing oneself in Advanced AI. At that point, do remember these generator objects and dig deeper. "
   ]
  },
  {
   "cell_type": "code",
   "execution_count": null,
   "id": "302e6348",
   "metadata": {},
   "outputs": [],
   "source": [
    "# Global and local namespaces\n",
    "\n",
    "# Global namespace - Namespace where variables and their values are accessible to the whole script. \n",
    "# Local namespace - Namespace where a function stores its variables and values. These are accessible only while within the\n",
    "# function (except if we use nonlocal keyword for nonlocal namespace)\n",
    "# Nonlocal namespace - If there is a nested function, while the inner function is running, the outer functions namespace is\n",
    "# nonlocal for the inner function. \n",
    "\n",
    "# A function will first look for variables in local namespace then to nonlocal(if it exists) and then to global namespace.\n",
    "\n",
    "# Global variables can be read anywhere but modified only in global namespace. \n",
    "# Local variables can be read and modified only in local namespace. \n",
    "\n",
    "# With the global and nonlocal keywords - we can modify global namespace and nonlocal namespace variables. \n",
    "\n",
    "# generator function or generator object. \n",
    "# It is created by using yield keyword instead of return. \n",
    "\n",
    "# Properties of generator functions. \n",
    "# It is an iterator object. \n",
    "# It can only be looped over once. \n",
    "# On using the next function with a generator object - the function will execute once till it hits yield keyword then waits \n",
    "# for next call of next function. It does so till the end of generator object is reached. \n",
    "# Since it is only executing once every time - it uses minimal memory. \n",
    "# And since it is also throwing out the output one at a time - we can begin processing parallelly.\n",
    "# it is marginally slower than using return keyword.\n",
    "# Also, unlike return keyword - yield keyword does not end the function execution - i.e. on next call function will execute\n",
    "# till next yield keyword is hit. "
   ]
  },
  {
   "cell_type": "markdown",
   "id": "149ea9d8",
   "metadata": {},
   "source": [
    "# Functions\n",
    "\n",
    "Use of functions - Piece of code which we can re-use over and over. \n",
    "\n",
    "def <function_name>(parameters if required):\n",
    "    Docstring\n",
    "    Code Body\n",
    "    Can be with or without return or yield keyword so that something is output from the function. If no return/yield keyword then function is expected to perform some action without any output.\n",
    "\n",
    "\n",
    "How to use a function - \n",
    "\n",
    "We simply call it by name with any arguments supplied to the parameters if required. \n",
    "\n",
    "<function_name>(arguments if any).\n",
    "\n",
    "Variablename = <function_name> {without parenthesis i.e. function is not called} will store the function object (technically will just give the function object another name which it can be referred by and now the new variable name can\n",
    "also be used as a function object)\n",
    "\n",
    "variablename = <functionName>(arguments) - {with parenthesis is 'calling' the function i.e. asking the function to execute\n",
    "and if the function returns anything - either by using the return or yield keywords - then the RETURN from the function is stored to the variable name. If no return or yield - then the variablename will store NONE.}\n",
    "    \n",
    "    \n",
    "Function parameters and arguments. \n",
    "    \n",
    "1. Positional parameters and arguments - the arguments are supplied to the parameters in the order in which they are input. \n",
    "2. Keyword parameters - arguments are supplied to the parameters based on the parameter_name. \n",
    "\n",
    "Arbitary positional arguments - 0 to infinite positional arguments can be supplied by using a * in front of the parameter name. The values are stored in the form of a tuple. \n",
    "    \n",
    "Keyword Arbitary arguments - 0 to infinite keyword arguments - supplied as key:value pair arguments to the parameters by putting ** in front of the keyword argument parameter name. Stores the key:values as a dictionary.\n",
    "\n",
    "Rule between positional and keyword arguments - Positional arguments must be settled(supplied) before keyword arguments. \n",
    "\n",
    "Lambda functions\n",
    "    \n",
    "1. One line functions - basically evaluates only one expression. \n",
    "2. Do not take a function name i.e. they are anonymous and just referred to as 'lambda' functions in the memory.\n",
    "3. Return keyword is not required (even though there IS a return from the lambda function). Unlike regular functions. \n",
    "4. Lambda functions are defined by the lambda keyword and regular functions by the def keyword. \n",
    "5. Lambda functions are IFFE - can be immediately invoked. \n",
    "    \n",
    "    \n",
    "Lambda with map, reduce, filter, accumulate functions. \n",
    "    \n",
    "    \n",
    "Global and local variables, nonlocal variables\n",
    "    \n",
    "1. Global variables are available to read and modify throughout the script (except from inside a function). \n",
    "2. Local variables are availabe to read and modify only in the scope of the function. Global variable can be read from inside a function if the same variable name has not been used in the local scope. \n",
    "3. Non local variables are available to read only by an inner function of an outer function. \n",
    "    \n",
    "  \n",
    "Above rules are rendered canceled if we use global and nonlocal keywords to access global and nonlocal variables from inside a function. \n",
    "    \n",
    "    \n",
    "Yield keyword / generator objects. \n",
    "    \n",
    "1. Yield keyword executes the function till the yield keyword is hit. Then waits for the next function to be called before executing again. \n",
    "2. Using yield keyword instead of return makes the function a generator object - which can only be looped through once. Once the function is exhausted - it needs to be reinitialised to execute again. \n",
    "3. When a return keyword is hit - the function stops executing further. So - if multiple returns are there in a function - on reaching ONE of the return keywords the function stops executing. While with multiple yield keywords in a function - function executes till first yeild keyword is hit, on the next function call using next function - it executes till the next yield keyword is hit and so on. \n",
    "    \n",
    "    \n",
    "Advantage of a generator object?\n",
    "    \n",
    "1. Processing of next execution block can begin even though data to be operated on may be huge. \n",
    "2. Since the function runs only till yield keyword is hit at every step - there is hardly any memory storage that is taking place. \n",
    "    \n",
    "    \n"
   ]
  },
  {
   "cell_type": "code",
   "execution_count": null,
   "id": "611eda38",
   "metadata": {},
   "outputs": [],
   "source": [
    "# Continue is used in loops\n",
    "\n",
    "for x in range(10):\n",
    "    print(x)\n",
    "    continue"
   ]
  },
  {
   "cell_type": "code",
   "execution_count": null,
   "id": "b7e88410",
   "metadata": {},
   "outputs": [],
   "source": [
    "def funct1(y):\n",
    "    for x in range(y):\n",
    "        yield x\n",
    "        \n",
    "        \n",
    "objfunct = funct1(10)\n",
    "\n",
    "print(objfunct)\n"
   ]
  },
  {
   "cell_type": "code",
   "execution_count": null,
   "id": "e65b870f",
   "metadata": {},
   "outputs": [],
   "source": [
    "print(next(objfunct))"
   ]
  },
  {
   "cell_type": "code",
   "execution_count": null,
   "id": "d1b6c604",
   "metadata": {},
   "outputs": [],
   "source": []
  },
  {
   "cell_type": "markdown",
   "id": "aecd1dbe",
   "metadata": {},
   "source": [
    "### Recursive functions"
   ]
  },
  {
   "cell_type": "code",
   "execution_count": null,
   "id": "5e0ed6a2",
   "metadata": {},
   "outputs": [],
   "source": [
    "# Function that calls itself in its function definition is called a recursive function. Basically, asking it to perform a\n",
    "# certain task repeatedly to its own output until asked to stop. IMPORTANT - as we saw with While loops - we must give a\n",
    "# recursive function a stop condition which gets updated and checked and DOES change state i.e. from true/false, a certain\n",
    "# amount of steps etc. Otherwise a recursive function will end up in an infinite loop and is much more dangerous than a \n",
    "# a while loop because in recursive functions, the function itself is getting stored to a memory location"
   ]
  },
  {
   "cell_type": "code",
   "execution_count": null,
   "id": "d5a83f86",
   "metadata": {},
   "outputs": [],
   "source": [
    "# def recursive_f():\n",
    "#     recursive_f()"
   ]
  },
  {
   "cell_type": "code",
   "execution_count": null,
   "id": "cceffeee",
   "metadata": {},
   "outputs": [],
   "source": [
    "# Finding out the highest square before hitting the target number.\n",
    "\n",
    "#Using list\n",
    "\n",
    "a = 20\n",
    "\n",
    "for x in range(10):\n",
    "    if x*x > a:\n",
    "        print(x-1)\n",
    "        break"
   ]
  },
  {
   "cell_type": "code",
   "execution_count": null,
   "id": "6ee3514a",
   "metadata": {},
   "outputs": [],
   "source": [
    "# Recursive functions MUST be given a condition to stop calling itself otherwise they will keep calling itself indefinitely\n",
    "# causing infinite loop and your system to crash."
   ]
  },
  {
   "cell_type": "code",
   "execution_count": null,
   "id": "fddcce0b",
   "metadata": {},
   "outputs": [],
   "source": [
    "def highest_sq_rt(x,a):\n",
    "    if x*x>a:\n",
    "        return x-1\n",
    "    return highest_sq_rt(x+1,a)"
   ]
  },
  {
   "cell_type": "code",
   "execution_count": null,
   "id": "79765442",
   "metadata": {},
   "outputs": [],
   "source": [
    "print(highest_sq_rt(0,2000))"
   ]
  },
  {
   "cell_type": "code",
   "execution_count": null,
   "id": "3ac132ea",
   "metadata": {},
   "outputs": [],
   "source": [
    "1 x 2 x 3 x 4 x 5\n",
    "\n",
    "\n",
    "5 x 4 x 3 x 2 x 1\n",
    "\n",
    "5 x (factorial4)\n",
    "\n",
    "5 x 4 x factorial3\n",
    "\n",
    "5 x 4 x 3 x factorial2\n",
    "\n",
    "5 x 4 x 3 x 2 x factorial1\n",
    "\n",
    "\n",
    "\n",
    "5 x 4 x 3 x 2 x 1"
   ]
  },
  {
   "cell_type": "code",
   "execution_count": null,
   "id": "843bacf6",
   "metadata": {},
   "outputs": [],
   "source": [
    "#5 x (4) x (3) x (2) x 1"
   ]
  },
  {
   "cell_type": "code",
   "execution_count": null,
   "id": "03087880",
   "metadata": {},
   "outputs": [],
   "source": [
    "1x 2 x 3 x 4 x 5"
   ]
  },
  {
   "cell_type": "code",
   "execution_count": null,
   "id": "3148e3ba",
   "metadata": {},
   "outputs": [],
   "source": [
    "# Factorial of a number through recursion\n",
    "\n",
    "def factorial(n):\n",
    "    if n == 0 or n == 1:\n",
    "        result = 1\n",
    "    else:\n",
    "        result = n * factorial(n-1)\n",
    "    return result\n",
    "\n",
    "print(factorial(5))\n",
    "\n",
    "\n"
   ]
  },
  {
   "cell_type": "code",
   "execution_count": null,
   "id": "688dd409",
   "metadata": {},
   "outputs": [],
   "source": [
    "5 x (4) x (3) x (2) x (1)"
   ]
  },
  {
   "cell_type": "code",
   "execution_count": null,
   "id": "a3bf9b81",
   "metadata": {},
   "outputs": [],
   "source": [
    "# how many functions are being opened i.e. occupying memory?"
   ]
  },
  {
   "cell_type": "code",
   "execution_count": null,
   "id": "081805d2",
   "metadata": {},
   "outputs": [],
   "source": [
    "factorial of 0 and 1 is always 1"
   ]
  },
  {
   "cell_type": "code",
   "execution_count": null,
   "id": "02c45f90",
   "metadata": {},
   "outputs": [],
   "source": [
    "1 x 2 x 3 x 4 x 5 \n",
    "\n",
    "\n",
    "5 x 4 x 3 x 2 x 1\n",
    "\n",
    "5 x 4 x 3 x 2 x 1 = 120\n"
   ]
  },
  {
   "cell_type": "code",
   "execution_count": null,
   "id": "a8e723eb",
   "metadata": {},
   "outputs": [],
   "source": [
    "#Disadvantages of recursive functions\n",
    "\n",
    "# Can end up consuming lot of processing memory and memory space. \n",
    "# If the stop condition has not been set (or set incorrectly) we will have infinite function calls - guaranteeing at some \n",
    "# point a system crash.\n",
    "# Usually a little hard to read and debug. The logic can be confusing.\n",
    "\n",
    "# Advantages\n",
    "# When depth of recurssion is not known - better to use recursion\n",
    "# Code can be broken down into elegant and neat blocks."
   ]
  },
  {
   "cell_type": "code",
   "execution_count": null,
   "id": "eba48eb7",
   "metadata": {},
   "outputs": [],
   "source": [
    "#"
   ]
  },
  {
   "cell_type": "code",
   "execution_count": null,
   "id": "8181f268",
   "metadata": {},
   "outputs": [],
   "source": [
    "#6 x 5 x 4 x 3 x 2 x 1 = 720"
   ]
  },
  {
   "cell_type": "code",
   "execution_count": null,
   "id": "be9cfbff",
   "metadata": {},
   "outputs": [],
   "source": [
    "for i in range(7):\n",
    "    print(f'Factorial of {i} is {factorial(i)}.')"
   ]
  },
  {
   "cell_type": "code",
   "execution_count": null,
   "id": "8acc1b42",
   "metadata": {},
   "outputs": [],
   "source": []
  },
  {
   "cell_type": "code",
   "execution_count": null,
   "id": "c0b124c2",
   "metadata": {},
   "outputs": [],
   "source": [
    "def fibo(n):\n",
    "    if n == 0:\n",
    "        return 0\n",
    "    elif n == 1:\n",
    "        return 1\n",
    "    return fibo(n-1) + fibo(n-2)\n",
    "\n",
    "print(fibo(10))"
   ]
  },
  {
   "cell_type": "code",
   "execution_count": null,
   "id": "06b72206",
   "metadata": {},
   "outputs": [],
   "source": [
    "[0,1,1, 2,3,5,8,13,21,34,55]"
   ]
  },
  {
   "cell_type": "code",
   "execution_count": null,
   "id": "5be1247b",
   "metadata": {},
   "outputs": [],
   "source": [
    "for i in range(2,11):\n",
    "    print(f'Fibonnaci at {i} is {fibo(i)}.')\n"
   ]
  },
  {
   "cell_type": "code",
   "execution_count": null,
   "id": "e372a637",
   "metadata": {},
   "outputs": [],
   "source": [
    "#Using list\n",
    "\n",
    "y = [0,1]\n",
    "for x in range(1,11):\n",
    "    y.append(y[-2]+y[-1])\n",
    "    print(f'Fibonnaci at position {x} is {y[x]}.')"
   ]
  },
  {
   "cell_type": "code",
   "execution_count": null,
   "id": "7bcdf93e",
   "metadata": {},
   "outputs": [],
   "source": [
    "# Advantages and disadvantages of recursion\n",
    "\n",
    "#Advantages of Recursion\n",
    "# Recursive functions make the code look clean and elegant.\n",
    "# A complex task can be broken down into simpler sub-problems using recursion.\n",
    "# Sequence generation is easier with recursion than using some nested iteration.\n",
    "\n",
    "# Disadvantages of Recursion\n",
    "# Sometimes the logic behind recursion is hard to follow through.\n",
    "# Recursive calls are expensive (inefficient) as they take up a lot of memory and time.\n",
    "# Recursive functions are hard to debug."
   ]
  },
  {
   "cell_type": "markdown",
   "id": "46c68713",
   "metadata": {},
   "source": [
    "### Function wrappers\n"
   ]
  },
  {
   "cell_type": "code",
   "execution_count": null,
   "id": "ba74c202",
   "metadata": {},
   "outputs": [],
   "source": [
    "# Wrappers or decorators are a tool in Python which allows us to add functionality to the function being wrapped without\n",
    "# modifying it. Also, decorators can be used to wrap many different functions extending each of them. \n",
    "\n",
    "\n",
    "# A decorator will take another function as its parameter, process the inner function and return the result."
   ]
  },
  {
   "cell_type": "code",
   "execution_count": null,
   "id": "c374f177",
   "metadata": {},
   "outputs": [],
   "source": [
    "def num():\n",
    "    return 10\n",
    "\n",
    "def num1():\n",
    "    return 20"
   ]
  },
  {
   "cell_type": "code",
   "execution_count": null,
   "id": "f90d79f0",
   "metadata": {},
   "outputs": [],
   "source": [
    "def inner(funct):\n",
    "    value = funct()+2\n",
    "    return value"
   ]
  },
  {
   "cell_type": "code",
   "execution_count": null,
   "id": "174c7bed",
   "metadata": {},
   "outputs": [],
   "source": [
    "print(inner(num))"
   ]
  },
  {
   "cell_type": "code",
   "execution_count": null,
   "id": "441faeb6",
   "metadata": {},
   "outputs": [],
   "source": [
    "def funct2():\n",
    "    return 1000\n",
    "\n",
    "\n",
    "print(funct2)"
   ]
  },
  {
   "cell_type": "code",
   "execution_count": null,
   "id": "a2c1e0c1",
   "metadata": {},
   "outputs": [],
   "source": [
    "def decor(funct):\n",
    "    def inner():\n",
    "        value = funct()+2\n",
    "        return value\n",
    "    return inner\n",
    "\n",
    "result = decor(num)\n",
    "\n",
    "result1 = decor(num1)\n",
    "\n",
    "print(result)\n",
    "print(result1)"
   ]
  },
  {
   "cell_type": "code",
   "execution_count": null,
   "id": "7efaa92f",
   "metadata": {},
   "outputs": [],
   "source": [
    "def inner():\n",
    "    value = num() + 2\n",
    "    return value"
   ]
  },
  {
   "cell_type": "code",
   "execution_count": null,
   "id": "0773db47",
   "metadata": {},
   "outputs": [],
   "source": [
    "print(result())"
   ]
  },
  {
   "cell_type": "code",
   "execution_count": null,
   "id": "3c201ea6",
   "metadata": {},
   "outputs": [],
   "source": [
    "print(result1())"
   ]
  },
  {
   "cell_type": "code",
   "execution_count": null,
   "id": "66213f05",
   "metadata": {},
   "outputs": [],
   "source": [
    "result = inner function object - bound to num function"
   ]
  },
  {
   "cell_type": "code",
   "execution_count": null,
   "id": "311c6292",
   "metadata": {},
   "outputs": [],
   "source": [
    "print(result())"
   ]
  },
  {
   "cell_type": "code",
   "execution_count": null,
   "id": "ee776368",
   "metadata": {},
   "outputs": [],
   "source": [
    "result1 = inner function object - bound to num1 function"
   ]
  },
  {
   "cell_type": "code",
   "execution_count": null,
   "id": "50b54807",
   "metadata": {},
   "outputs": [],
   "source": [
    "print(result1())"
   ]
  },
  {
   "cell_type": "code",
   "execution_count": null,
   "id": "a5eba7bd",
   "metadata": {},
   "outputs": [],
   "source": [
    "print(result)"
   ]
  },
  {
   "cell_type": "code",
   "execution_count": null,
   "id": "ec7585bc",
   "metadata": {},
   "outputs": [],
   "source": [
    "print(result())"
   ]
  },
  {
   "cell_type": "code",
   "execution_count": null,
   "id": "0a3d84ae",
   "metadata": {},
   "outputs": [],
   "source": [
    "\n",
    "\n",
    "def decorator(func): \n",
    "    def inner1(): \n",
    "        print(\"Before function execution\")\n",
    "        func()     \n",
    "        print(\"After function execution\")          \n",
    "    return inner1\n",
    "\n",
    "# Note how we are not calling the inner1 function. It will return a function object i.e. the wrapper function. \n",
    "\n",
    "def function_to_use():    # Function to be decorated\n",
    "    print(\"Wrapped\")\n",
    "       \n",
    "wrapped_func = decorator(function_to_use) \n",
    "    \n",
    "print(wrapped_func)"
   ]
  },
  {
   "cell_type": "code",
   "execution_count": null,
   "id": "64ad0832",
   "metadata": {},
   "outputs": [],
   "source": [
    "wrapped_func()"
   ]
  },
  {
   "cell_type": "code",
   "execution_count": null,
   "id": "93145a29",
   "metadata": {},
   "outputs": [],
   "source": [
    "def funct2():\n",
    "    print('1000')"
   ]
  },
  {
   "cell_type": "code",
   "execution_count": null,
   "id": "54a5292d",
   "metadata": {},
   "outputs": [],
   "source": [
    "funct2x = decorator(funct2)\n",
    "\n",
    "print(funct2x)"
   ]
  },
  {
   "cell_type": "code",
   "execution_count": null,
   "id": "056f33e9",
   "metadata": {},
   "outputs": [],
   "source": [
    "funct2x()"
   ]
  },
  {
   "cell_type": "code",
   "execution_count": null,
   "id": "5f38910e",
   "metadata": {},
   "outputs": [],
   "source": [
    "def decor(funct):\n",
    "    def inner(x,y):\n",
    "        print('Before Funct')\n",
    "        print(funct(x,y))\n",
    "        print('After funct')\n",
    "    return inner"
   ]
  },
  {
   "cell_type": "code",
   "execution_count": null,
   "id": "6164979a",
   "metadata": {},
   "outputs": [],
   "source": [
    "def add_2nums(x,y):\n",
    "    return x + y"
   ]
  },
  {
   "cell_type": "code",
   "execution_count": null,
   "id": "13ecc18b",
   "metadata": {},
   "outputs": [],
   "source": [
    "def add_3nums(x,y,z):\n",
    "    return x + y + z"
   ]
  },
  {
   "cell_type": "code",
   "execution_count": null,
   "id": "df41e492",
   "metadata": {},
   "outputs": [],
   "source": [
    "add2 = decor(add_2nums)\n",
    "\n",
    "print(add2)"
   ]
  },
  {
   "cell_type": "code",
   "execution_count": null,
   "id": "167f3a87",
   "metadata": {},
   "outputs": [],
   "source": [
    "add2(10,20)"
   ]
  },
  {
   "cell_type": "code",
   "execution_count": null,
   "id": "ce007b91",
   "metadata": {},
   "outputs": [],
   "source": [
    "add3 = decor(add_3nums)\n",
    "\n",
    "print(add3)"
   ]
  },
  {
   "cell_type": "code",
   "execution_count": null,
   "id": "98fc1355",
   "metadata": {},
   "outputs": [],
   "source": [
    "add3(10,20)"
   ]
  },
  {
   "cell_type": "code",
   "execution_count": null,
   "id": "82d43c7f",
   "metadata": {},
   "outputs": [],
   "source": [
    "add3(10,20,30)"
   ]
  },
  {
   "cell_type": "code",
   "execution_count": null,
   "id": "1eab59c7",
   "metadata": {},
   "outputs": [],
   "source": [
    "round(100.723105, 5)\n"
   ]
  },
  {
   "cell_type": "code",
   "execution_count": null,
   "id": "4df3e638",
   "metadata": {},
   "outputs": [],
   "source": [
    "def decor(funct):\n",
    "    def inner(*args,**kwargs):\n",
    "        print('Before Funct')\n",
    "        print(funct(*args,**kwargs))\n",
    "        print('After funct')\n",
    "    return inner"
   ]
  },
  {
   "cell_type": "code",
   "execution_count": null,
   "id": "81d8d102",
   "metadata": {},
   "outputs": [],
   "source": [
    "add2 = decor(add_2nums)\n",
    "add3 = decor(add_3nums)\n",
    "\n"
   ]
  },
  {
   "cell_type": "code",
   "execution_count": null,
   "id": "a9d00d06",
   "metadata": {},
   "outputs": [],
   "source": [
    "add2(10,20)"
   ]
  },
  {
   "cell_type": "code",
   "execution_count": null,
   "id": "5cb656e2",
   "metadata": {},
   "outputs": [],
   "source": [
    "add3(10,20,30)"
   ]
  },
  {
   "cell_type": "code",
   "execution_count": null,
   "id": "6aa7c8a5",
   "metadata": {},
   "outputs": [],
   "source": [
    "round(10.1314113151,5)"
   ]
  },
  {
   "cell_type": "code",
   "execution_count": null,
   "id": "410bec4a",
   "metadata": {},
   "outputs": [],
   "source": [
    "# Wrapper function\n",
    "\n",
    "def add_gst(funct):\n",
    "    def inner(*args, **kwargs):\n",
    "        value = round(funct(*args, **kwargs)*1.18,2)\n",
    "        return f'Bill is {funct(*args, **kwargs)} and with GST works out to {value}.'\n",
    "    return inner"
   ]
  },
  {
   "cell_type": "code",
   "execution_count": null,
   "id": "3e17b0e3",
   "metadata": {},
   "outputs": [],
   "source": [
    "def trial():\n",
    "    return 100\n",
    "\n",
    "\n",
    "abc = add_gst(trial)\n",
    "\n",
    "print(abc)"
   ]
  },
  {
   "cell_type": "code",
   "execution_count": null,
   "id": "126d77f2",
   "metadata": {},
   "outputs": [],
   "source": [
    "abc()"
   ]
  },
  {
   "cell_type": "code",
   "execution_count": null,
   "id": "9791dd39",
   "metadata": {},
   "outputs": [],
   "source": [
    "def laundry_bill(x,y):\n",
    "    return x+y\n",
    "\n",
    "laundry_gst = add_gst(laundry_bill)\n",
    "\n",
    "\n",
    "print(laundry_gst)\n"
   ]
  },
  {
   "cell_type": "code",
   "execution_count": null,
   "id": "2adc96c0",
   "metadata": {},
   "outputs": [],
   "source": [
    "print(laundry_gst(10,20))"
   ]
  },
  {
   "cell_type": "code",
   "execution_count": null,
   "id": "d7dc8b4e",
   "metadata": {},
   "outputs": [],
   "source": [
    "# matplotlib for graphs and visualisations. \n",
    "\n",
    "# seaborn - wrappers for matplotlib functions = "
   ]
  },
  {
   "cell_type": "markdown",
   "id": "9d0eb7bc",
   "metadata": {},
   "source": []
  },
  {
   "cell_type": "code",
   "execution_count": null,
   "id": "a76eef53",
   "metadata": {},
   "outputs": [],
   "source": [
    "def resto_bill(x):\n",
    "    total = 0\n",
    "    for i in x:\n",
    "        total += i\n",
    "    return total\n",
    "\n",
    "resto_gst = add_gst(resto_bill)\n",
    "\n",
    "\n",
    "print(resto_gst)"
   ]
  },
  {
   "cell_type": "code",
   "execution_count": null,
   "id": "a2f37969",
   "metadata": {},
   "outputs": [],
   "source": [
    "print(resto_gst([10,20,30]))"
   ]
  },
  {
   "cell_type": "code",
   "execution_count": null,
   "id": "31c5ac8a",
   "metadata": {},
   "outputs": [],
   "source": [
    "def transport(x,y):\n",
    "    km = x\n",
    "    rate = y\n",
    "    return km*rate\n",
    "\n",
    "transport_gst = add_gst(transport)\n",
    "\n",
    "print(transport_gst)"
   ]
  },
  {
   "cell_type": "code",
   "execution_count": null,
   "id": "e959eb33",
   "metadata": {},
   "outputs": [],
   "source": [
    "print(transport_gst(100,5))"
   ]
  },
  {
   "cell_type": "code",
   "execution_count": null,
   "id": "09682934",
   "metadata": {},
   "outputs": [],
   "source": [
    "def room_bar(**kwargs):\n",
    "    #print(kwargs)\n",
    "    x = kwargs.items()\n",
    "    #print(x)\n",
    "    total = 0\n",
    "    for i in x:\n",
    "        total += i[1]\n",
    "        \n",
    "    return total\n",
    "\n",
    "\n",
    "room_gst = add_gst(room_bar)\n",
    "\n",
    "print(room_gst)"
   ]
  },
  {
   "cell_type": "code",
   "execution_count": null,
   "id": "f562a420",
   "metadata": {},
   "outputs": [],
   "source": [
    "print(room_gst(a=5,b=7,c=10,d=12,e=20))"
   ]
  },
  {
   "cell_type": "code",
   "execution_count": null,
   "id": "2b86bbe1",
   "metadata": {},
   "outputs": [],
   "source": [
    "# Easier syntax - Python allows us an easier way to wrap functions. \n",
    "\n",
    "def serv_charge(funct):\n",
    "    def inner(*args, **kwargs):\n",
    "        value = round(funct(*args, **kwargs)*1.10,2)\n",
    "        return value\n",
    "    return inner"
   ]
  },
  {
   "cell_type": "code",
   "execution_count": null,
   "id": "7bec7805",
   "metadata": {},
   "outputs": [],
   "source": [
    "def trial1():\n",
    "    return 100"
   ]
  },
  {
   "cell_type": "code",
   "execution_count": null,
   "id": "fab1d671",
   "metadata": {},
   "outputs": [],
   "source": [
    "serv_charge_dec = serv_charge(trial1)\n",
    "\n",
    "\n",
    "print(serv_charge_dec)"
   ]
  },
  {
   "cell_type": "code",
   "execution_count": null,
   "id": "56817ad9",
   "metadata": {},
   "outputs": [],
   "source": [
    "trial1 = serv_charge(trial1)"
   ]
  },
  {
   "cell_type": "code",
   "execution_count": null,
   "id": "e734777a",
   "metadata": {},
   "outputs": [],
   "source": [
    "serv_charge_dec()"
   ]
  },
  {
   "cell_type": "code",
   "execution_count": null,
   "id": "a1678e9c",
   "metadata": {},
   "outputs": [],
   "source": [
    "trial1()"
   ]
  },
  {
   "cell_type": "code",
   "execution_count": null,
   "id": "fdebca81",
   "metadata": {},
   "outputs": [],
   "source": [
    "trial2 = trial1"
   ]
  },
  {
   "cell_type": "code",
   "execution_count": null,
   "id": "f39b1ac5",
   "metadata": {},
   "outputs": [],
   "source": [
    "trial2()"
   ]
  },
  {
   "cell_type": "code",
   "execution_count": null,
   "id": "04f8723e",
   "metadata": {},
   "outputs": [],
   "source": [
    "@serv_charge\n",
    "def trial1():\n",
    "    return 100\n",
    "\n",
    "#print(trial1)\n",
    "trial1()"
   ]
  },
  {
   "cell_type": "code",
   "execution_count": null,
   "id": "cc72118f",
   "metadata": {},
   "outputs": [],
   "source": [
    "# Decoration syntax\n",
    "\n",
    "# easier syntax and steps to wrap a function.\n",
    "# Allows us to use the original function name to call. "
   ]
  },
  {
   "cell_type": "code",
   "execution_count": null,
   "id": "6bb2c97a",
   "metadata": {},
   "outputs": [],
   "source": [
    "trial2 = trial1"
   ]
  },
  {
   "cell_type": "code",
   "execution_count": null,
   "id": "10169cb3",
   "metadata": {},
   "outputs": [],
   "source": [
    "trial2()"
   ]
  },
  {
   "cell_type": "code",
   "execution_count": null,
   "id": "f1b8dd96",
   "metadata": {},
   "outputs": [],
   "source": []
  },
  {
   "cell_type": "code",
   "execution_count": null,
   "id": "4248a129",
   "metadata": {},
   "outputs": [],
   "source": [
    "trial1()"
   ]
  },
  {
   "cell_type": "code",
   "execution_count": null,
   "id": "28ead500",
   "metadata": {},
   "outputs": [],
   "source": [
    "@serv_charge\n",
    "def laundry_bill(x,y):\n",
    "    return x+y\n",
    "\n",
    "print(laundry_bill(50,100))"
   ]
  },
  {
   "cell_type": "code",
   "execution_count": null,
   "id": "ed832f5d",
   "metadata": {},
   "outputs": [],
   "source": [
    "laundry_bill(100,200)"
   ]
  },
  {
   "cell_type": "code",
   "execution_count": null,
   "id": "285e66f4",
   "metadata": {},
   "outputs": [],
   "source": []
  },
  {
   "cell_type": "code",
   "execution_count": null,
   "id": "b5aaf497",
   "metadata": {},
   "outputs": [],
   "source": [
    "#Note here how the decorator was applied directly to the function and we did not need to create a new variable with the \n",
    "# wrapper object. Now, every time laundry bill is called, it will be decorated with the the serv_charge decorator."
   ]
  },
  {
   "cell_type": "code",
   "execution_count": null,
   "id": "a66cf3a9",
   "metadata": {},
   "outputs": [],
   "source": []
  },
  {
   "cell_type": "code",
   "execution_count": null,
   "id": "280bb23e",
   "metadata": {},
   "outputs": [],
   "source": [
    "@serv_charge\n",
    "def resto_bill(x):\n",
    "    total = 0\n",
    "    for i in x:\n",
    "        total += i\n",
    "    return total\n",
    "\n",
    "print(resto_bill([5,11,4]))"
   ]
  },
  {
   "cell_type": "code",
   "execution_count": null,
   "id": "4802e0d5",
   "metadata": {},
   "outputs": [],
   "source": [
    "@serv_charge\n",
    "def transport(x,y):\n",
    "    km = x\n",
    "    rate = y\n",
    "    return km*rate\n",
    "\n",
    "print(transport(10,6))"
   ]
  },
  {
   "cell_type": "code",
   "execution_count": null,
   "id": "08e61bab",
   "metadata": {},
   "outputs": [],
   "source": [
    "@serv_charge\n",
    "def room_bar(x):\n",
    "    total = 0\n",
    "    for i in x:\n",
    "        total += i\n",
    "    return total\n",
    "\n",
    "print(room_bar([5,17,7,6]))"
   ]
  },
  {
   "cell_type": "code",
   "execution_count": null,
   "id": "97296048",
   "metadata": {},
   "outputs": [],
   "source": [
    "# We can apply multiple decorators to functions. \n",
    "\n",
    "@add_gst\n",
    "@serv_charge\n",
    "def laundry_bill(x,y):\n",
    "    return x+y\n",
    "\n",
    "print(laundry_bill(10,20))\n"
   ]
  },
  {
   "cell_type": "code",
   "execution_count": null,
   "id": "72c7618c",
   "metadata": {},
   "outputs": [],
   "source": [
    "@add_gst\n",
    "@serv_charge\n",
    "def resto_bill(x):\n",
    "    total = 0\n",
    "    for i in x:\n",
    "        total += i\n",
    "    return total\n",
    "\n",
    "print(resto_bill([5,11,4]))"
   ]
  },
  {
   "cell_type": "code",
   "execution_count": null,
   "id": "3409faf5",
   "metadata": {},
   "outputs": [],
   "source": [
    "@add_gst\n",
    "@serv_charge\n",
    "def transport(x,y):\n",
    "    km = x\n",
    "    rate = y\n",
    "    return km*rate\n",
    "\n",
    "print(transport(10,6))"
   ]
  },
  {
   "cell_type": "code",
   "execution_count": null,
   "id": "82ec0402",
   "metadata": {},
   "outputs": [],
   "source": [
    "@add_gst\n",
    "@serv_charge\n",
    "def room_bar(x):\n",
    "    total = 0\n",
    "    for i in x:\n",
    "        total += i\n",
    "    return total\n",
    "\n",
    "print(room_bar([5,17,7,6]))"
   ]
  },
  {
   "cell_type": "code",
   "execution_count": null,
   "id": "8e167f22",
   "metadata": {},
   "outputs": [],
   "source": [
    "wrapper function - is the function that outputs you the inner function that has added functionality to original function."
   ]
  },
  {
   "cell_type": "code",
   "execution_count": null,
   "id": "ef12d970",
   "metadata": {},
   "outputs": [],
   "source": [
    "Syntax - is called decorator syntax"
   ]
  },
  {
   "cell_type": "code",
   "execution_count": null,
   "id": "be219886",
   "metadata": {},
   "outputs": [],
   "source": [
    "'Decorator syntax for the wrapper function'"
   ]
  },
  {
   "cell_type": "code",
   "execution_count": null,
   "id": "422744a0",
   "metadata": {},
   "outputs": [],
   "source": []
  },
  {
   "cell_type": "code",
   "execution_count": null,
   "id": "6d228d84",
   "metadata": {},
   "outputs": [],
   "source": [
    "# Recursive Functions\n",
    "\n",
    "# Functions that call themselves are called recursive functions. \n",
    "# A condition that can exit the recursion. The condition must turn true at some point so we can stop the recursion otherwise\n",
    "# we will end up with an infinite recursion and a system crash. \n",
    "# Anything that recursive functions can do, can also be done by loops - the only problem being that we need to know before\n",
    "# hand how many nested loops we need to program. \n",
    "\n",
    "# Advantages of recursive function. \n",
    "# 1. Clean code, efficient. \n",
    "# 2. Breaks down the task into smaller manageable sections. \n",
    "\n",
    "# Disadvantages of recursive functions. \n",
    "# 1. Difficult to understand and debug\n",
    "# 2. Costly to execute - both memory and processing. \n",
    "# 3. If not written correctly, very easy to crash a system. \n",
    "\n",
    "# Decorators and wrappers. \n",
    "\n",
    "# Decorators/wrappers - functions that extend the functionality of other functions without altering the original function.\n",
    "# Parameter passed to the decorator is the function to be extended/'Decorated'. The decorator function will return an \n",
    "# inner function which when called will have extended the original function that had to be decorated.\n",
    "\n",
    "# Syntax to define a decorator function\n",
    "\n",
    "# def decorator_function(orig_funct):\n",
    "#     def inner_function(*args, **kwargs):\n",
    "#         code to extend orig_funct (with *args and **kwargs passed into it while calling)\n",
    "#         return or action performed. \n",
    "#     return inner_function\n",
    "\n",
    "\n",
    "\n",
    "# How to use the decorator function:\n",
    "\n",
    "# var_name = decorator_function(orig_funct)\n",
    "\n",
    "# call var_name() - which will now be aliased with inner_function and behave as programmed to extend the orig_funct\n",
    "\n",
    "\n",
    "# Easier syntax to decorate a function:\n",
    "\n",
    "# @decorator_function\n",
    "# def orig_funct():\n",
    "#     code\n",
    "\n",
    "\n",
    "# Limitation of using decorator syntax : Once original function is decorated it will always be extended by the decorator \n",
    "# whenever called. "
   ]
  },
  {
   "cell_type": "markdown",
   "id": "99e8d8dc",
   "metadata": {},
   "source": [
    "### Modules"
   ]
  },
  {
   "cell_type": "code",
   "execution_count": null,
   "id": "8e35bb9f",
   "metadata": {},
   "outputs": [],
   "source": [
    "# Modules refer to a file containing Python statements and definitions. A file containing Python code, for example:Pgm.py, \n",
    "# is called a module, and its module name would be Pgm. We use modules to break down large programs into small manageable\n",
    "# and organized files.\n",
    "\n",
    "# Furthermore, modules provide reusability of code.We can define our most used functions in a module and import it, \n",
    "# instead of copying their definitions into different programs.\n"
   ]
  },
  {
   "cell_type": "code",
   "execution_count": null,
   "id": "2f870e7d",
   "metadata": {},
   "outputs": [],
   "source": [
    "import module"
   ]
  },
  {
   "cell_type": "code",
   "execution_count": null,
   "id": "e336ad0d",
   "metadata": {},
   "outputs": [],
   "source": [
    "module.add_sumXYZ(10,20)"
   ]
  },
  {
   "cell_type": "code",
   "execution_count": null,
   "id": "a05152ff",
   "metadata": {},
   "outputs": [],
   "source": [
    "#Note how we needed to use the function defined with the following syntax:\n",
    "\n",
    "# modulename.function(arguments)"
   ]
  },
  {
   "cell_type": "code",
   "execution_count": null,
   "id": "f9de5664",
   "metadata": {},
   "outputs": [],
   "source": [
    "#Note that importing notebooks like jupyter as modules is much more complex than just .py files and requires 'hooks'. For\n",
    "# all practical purposes, it is sufficient to create modules in .py format and import them. "
   ]
  },
  {
   "cell_type": "code",
   "execution_count": null,
   "id": "aa005253",
   "metadata": {},
   "outputs": [],
   "source": [
    "# numpy as np\n",
    "# pandas as pd\n",
    "# matplotlib.pyplot as plt\n",
    "# seaborn as sns"
   ]
  },
  {
   "cell_type": "code",
   "execution_count": null,
   "id": "6a0a528f",
   "metadata": {},
   "outputs": [],
   "source": [
    "print(module.xyz123)"
   ]
  },
  {
   "cell_type": "code",
   "execution_count": null,
   "id": "8e270988",
   "metadata": {},
   "outputs": [],
   "source": [
    "module.sub_numXYZ(20,10)"
   ]
  },
  {
   "cell_type": "code",
   "execution_count": null,
   "id": "097615e2",
   "metadata": {},
   "outputs": [],
   "source": [
    "import keyword\n",
    "\n",
    "print(keyword.kwlist)"
   ]
  },
  {
   "cell_type": "code",
   "execution_count": null,
   "id": "5087ed5e",
   "metadata": {},
   "outputs": [],
   "source": [
    "#keyword\n",
    "\n",
    "\n",
    "#kwlist = ['False', 'None', 'True', '__peg_parser__', 'and', 'as', 'assert', 'async', 'await', 'break', 'class', 'continue',\\\n",
    "#'def', 'del', 'elif', 'else', 'except', 'finally', 'for', 'from', 'global', 'if', 'import', 'in', 'is', 'lambda', \\\n",
    "#'nonlocal', 'not', 'or', 'pass', 'raise', 'return', 'try', 'while', 'with', 'yield']"
   ]
  },
  {
   "cell_type": "code",
   "execution_count": null,
   "id": "ea70ce2b",
   "metadata": {},
   "outputs": [],
   "source": [
    "print(keyword.iskeyword('abc'))"
   ]
  },
  {
   "cell_type": "code",
   "execution_count": null,
   "id": "29533d35",
   "metadata": {},
   "outputs": [],
   "source": [
    "# def iskeyword(x):\n",
    "#     return x in kwlist"
   ]
  },
  {
   "cell_type": "code",
   "execution_count": 1,
   "id": "b3863c36",
   "metadata": {},
   "outputs": [],
   "source": [
    "# We can import modules as aliases\n",
    "\n",
    "import module as m"
   ]
  },
  {
   "cell_type": "code",
   "execution_count": 2,
   "id": "571091aa",
   "metadata": {},
   "outputs": [
    {
     "data": {
      "text/plain": [
       "300"
      ]
     },
     "execution_count": 2,
     "metadata": {},
     "output_type": "execute_result"
    }
   ],
   "source": [
    "m.add_sumXYZ(100,200)"
   ]
  },
  {
   "cell_type": "code",
   "execution_count": null,
   "id": "c05a3644",
   "metadata": {},
   "outputs": [],
   "source": [
    "# module.add_sumXYZ(100,200)\n",
    "# m.add_sumXYZ(100,200)"
   ]
  },
  {
   "cell_type": "code",
   "execution_count": null,
   "id": "18039ad2",
   "metadata": {},
   "outputs": [],
   "source": []
  },
  {
   "cell_type": "code",
   "execution_count": 3,
   "id": "26f6dba9",
   "metadata": {},
   "outputs": [
    {
     "ename": "NameError",
     "evalue": "name 'module' is not defined",
     "output_type": "error",
     "traceback": [
      "\u001b[1;31m---------------------------------------------------------------------------\u001b[0m",
      "\u001b[1;31mNameError\u001b[0m                                 Traceback (most recent call last)",
      "\u001b[1;32m~\\AppData\\Local\\Temp\\ipykernel_21312\\4017478861.py\u001b[0m in \u001b[0;36m<module>\u001b[1;34m\u001b[0m\n\u001b[1;32m----> 1\u001b[1;33m \u001b[0mprint\u001b[0m\u001b[1;33m(\u001b[0m\u001b[0mmodule\u001b[0m\u001b[1;33m.\u001b[0m\u001b[0madd_sumXYZ\u001b[0m\u001b[1;33m(\u001b[0m\u001b[1;36m100\u001b[0m\u001b[1;33m,\u001b[0m\u001b[1;36m200\u001b[0m\u001b[1;33m)\u001b[0m\u001b[1;33m)\u001b[0m\u001b[1;33m\u001b[0m\u001b[1;33m\u001b[0m\u001b[0m\n\u001b[0m",
      "\u001b[1;31mNameError\u001b[0m: name 'module' is not defined"
     ]
    }
   ],
   "source": [
    "print(module.add_sumXYZ(100,200))"
   ]
  },
  {
   "cell_type": "code",
   "execution_count": 4,
   "id": "f6d7c070",
   "metadata": {},
   "outputs": [
    {
     "data": {
      "text/plain": [
       "300"
      ]
     },
     "execution_count": 4,
     "metadata": {},
     "output_type": "execute_result"
    }
   ],
   "source": [
    "import module\n",
    "\n",
    "module.add_sumXYZ(100,200)"
   ]
  },
  {
   "cell_type": "code",
   "execution_count": null,
   "id": "344a88ee",
   "metadata": {},
   "outputs": [],
   "source": [
    "d = 20\n",
    "\n",
    "print('Hello')\n",
    "\n",
    "d"
   ]
  },
  {
   "cell_type": "code",
   "execution_count": null,
   "id": "3da486fa",
   "metadata": {},
   "outputs": [],
   "source": [
    "print(module.add_sumXYZ(5,10))"
   ]
  },
  {
   "cell_type": "code",
   "execution_count": null,
   "id": "d3e93812",
   "metadata": {},
   "outputs": [],
   "source": [
    "module.sub_numXYZ(10,5)"
   ]
  },
  {
   "cell_type": "code",
   "execution_count": null,
   "id": "4c5b2bc7",
   "metadata": {},
   "outputs": [],
   "source": [
    "module.xyz123"
   ]
  },
  {
   "cell_type": "code",
   "execution_count": null,
   "id": "ffae7c3b",
   "metadata": {},
   "outputs": [],
   "source": [
    "# Note however, that if we had imported module as an alias directly i.e. without importing module then module would not\n",
    "# have been part of our local scope and unavailable to run and only modu would be available. "
   ]
  },
  {
   "cell_type": "code",
   "execution_count": null,
   "id": "bba15ed2",
   "metadata": {},
   "outputs": [],
   "source": [
    "# We can import a specific names and attributes from a module."
   ]
  },
  {
   "cell_type": "code",
   "execution_count": null,
   "id": "4b1f3b7e",
   "metadata": {},
   "outputs": [],
   "source": [
    "# def ad():\n",
    "#     return 100"
   ]
  },
  {
   "cell_type": "code",
   "execution_count": 10,
   "id": "c7556a4a",
   "metadata": {},
   "outputs": [
    {
     "name": "stdout",
     "output_type": "stream",
     "text": [
      "20000\n"
     ]
    }
   ],
   "source": [
    "def add_sumXYZ(x,y):\n",
    "    return x*y\n",
    "\n",
    "print(add_sumXYZ(100,200))"
   ]
  },
  {
   "cell_type": "code",
   "execution_count": 12,
   "id": "b68f8744",
   "metadata": {},
   "outputs": [],
   "source": [
    "from module import add_sumXYZ"
   ]
  },
  {
   "cell_type": "code",
   "execution_count": 13,
   "id": "b40bd53a",
   "metadata": {},
   "outputs": [
    {
     "data": {
      "text/plain": [
       "300"
      ]
     },
     "execution_count": 13,
     "metadata": {},
     "output_type": "execute_result"
    }
   ],
   "source": [
    "add_sumXYZ(100,200)"
   ]
  },
  {
   "cell_type": "code",
   "execution_count": 14,
   "id": "cb09f494",
   "metadata": {},
   "outputs": [],
   "source": [
    "from module import add_sumXYZ as ad"
   ]
  },
  {
   "cell_type": "code",
   "execution_count": 15,
   "id": "c856d457",
   "metadata": {},
   "outputs": [
    {
     "data": {
      "text/plain": [
       "300"
      ]
     },
     "execution_count": 15,
     "metadata": {},
     "output_type": "execute_result"
    }
   ],
   "source": [
    "ad(100,200)"
   ]
  },
  {
   "cell_type": "code",
   "execution_count": null,
   "id": "e25284ce",
   "metadata": {},
   "outputs": [],
   "source": []
  },
  {
   "cell_type": "code",
   "execution_count": 16,
   "id": "5f9b54ee",
   "metadata": {},
   "outputs": [],
   "source": [
    "from module import add_sumXYZ as ad, sub_numXYZ as sub"
   ]
  },
  {
   "cell_type": "code",
   "execution_count": 19,
   "id": "f54de74d",
   "metadata": {},
   "outputs": [
    {
     "data": {
      "text/plain": [
       "30"
      ]
     },
     "execution_count": 19,
     "metadata": {},
     "output_type": "execute_result"
    }
   ],
   "source": [
    "ad(10,20)"
   ]
  },
  {
   "cell_type": "code",
   "execution_count": 20,
   "id": "c10bb26f",
   "metadata": {},
   "outputs": [
    {
     "data": {
      "text/plain": [
       "-10"
      ]
     },
     "execution_count": 20,
     "metadata": {},
     "output_type": "execute_result"
    }
   ],
   "source": [
    "sub(10,20)"
   ]
  },
  {
   "cell_type": "code",
   "execution_count": 17,
   "id": "0b88a905",
   "metadata": {},
   "outputs": [
    {
     "data": {
      "text/plain": [
       "30"
      ]
     },
     "execution_count": 17,
     "metadata": {},
     "output_type": "execute_result"
    }
   ],
   "source": [
    "add_sumXYZ(10,20)"
   ]
  },
  {
   "cell_type": "code",
   "execution_count": 18,
   "id": "fc78f466",
   "metadata": {},
   "outputs": [
    {
     "ename": "NameError",
     "evalue": "name 'sub_numXYZ' is not defined",
     "output_type": "error",
     "traceback": [
      "\u001b[1;31m---------------------------------------------------------------------------\u001b[0m",
      "\u001b[1;31mNameError\u001b[0m                                 Traceback (most recent call last)",
      "\u001b[1;32m~\\AppData\\Local\\Temp\\ipykernel_21312\\3515352101.py\u001b[0m in \u001b[0;36m<module>\u001b[1;34m\u001b[0m\n\u001b[1;32m----> 1\u001b[1;33m \u001b[0msub_numXYZ\u001b[0m\u001b[1;33m(\u001b[0m\u001b[1;36m10\u001b[0m\u001b[1;33m,\u001b[0m\u001b[1;36m20\u001b[0m\u001b[1;33m)\u001b[0m\u001b[1;33m\u001b[0m\u001b[1;33m\u001b[0m\u001b[0m\n\u001b[0m",
      "\u001b[1;31mNameError\u001b[0m: name 'sub_numXYZ' is not defined"
     ]
    }
   ],
   "source": [
    "sub_numXYZ(10,20)"
   ]
  },
  {
   "cell_type": "code",
   "execution_count": null,
   "id": "d3e8cd10",
   "metadata": {},
   "outputs": [],
   "source": [
    "add_sumXYZ()"
   ]
  },
  {
   "cell_type": "code",
   "execution_count": null,
   "id": "4d540795",
   "metadata": {},
   "outputs": [],
   "source": [
    "sub_numXYZ(10,5)"
   ]
  },
  {
   "cell_type": "code",
   "execution_count": null,
   "id": "90dd0329",
   "metadata": {},
   "outputs": [],
   "source": [
    "from module import add_sumXYZ as ad, sub_numXYZ as sb"
   ]
  },
  {
   "cell_type": "code",
   "execution_count": null,
   "id": "7e617529",
   "metadata": {},
   "outputs": [],
   "source": [
    "ad(10,20)"
   ]
  },
  {
   "cell_type": "code",
   "execution_count": null,
   "id": "74edbc1b",
   "metadata": {},
   "outputs": [],
   "source": [
    "sb(10,5)"
   ]
  },
  {
   "cell_type": "code",
   "execution_count": null,
   "id": "1acea433",
   "metadata": {},
   "outputs": [],
   "source": [
    "def add_sumXYZ(x,y):\n",
    "    return x*y"
   ]
  },
  {
   "cell_type": "code",
   "execution_count": 21,
   "id": "48331494",
   "metadata": {},
   "outputs": [],
   "source": [
    "from module import *   # Possible to use * to import all functions but not recommended."
   ]
  },
  {
   "cell_type": "code",
   "execution_count": null,
   "id": "c470ca18",
   "metadata": {},
   "outputs": [],
   "source": [
    "add_sumXYZ(10,20)"
   ]
  },
  {
   "cell_type": "code",
   "execution_count": null,
   "id": "9b84a245",
   "metadata": {},
   "outputs": [],
   "source": [
    "sub_numXYZ(10,5)"
   ]
  },
  {
   "cell_type": "code",
   "execution_count": null,
   "id": "dd01b03c",
   "metadata": {},
   "outputs": [],
   "source": [
    "import module\n",
    "\n",
    "module.add_sumXYZ()"
   ]
  },
  {
   "cell_type": "code",
   "execution_count": null,
   "id": "c50a5187",
   "metadata": {},
   "outputs": [],
   "source": [
    "from module import *\n",
    "\n",
    "add_sumXYZ()"
   ]
  },
  {
   "cell_type": "code",
   "execution_count": null,
   "id": "9f96d903",
   "metadata": {},
   "outputs": [],
   "source": [
    "print(dir(__builtins__))"
   ]
  },
  {
   "cell_type": "code",
   "execution_count": null,
   "id": "60d054e2",
   "metadata": {},
   "outputs": [],
   "source": [
    "# Note here how we no longer had to use the module name before the function. So, the syntax has changed to:\n",
    "\n",
    "# function(arguments) instead of module.function(arguments)"
   ]
  },
  {
   "cell_type": "code",
   "execution_count": null,
   "id": "fe97b643",
   "metadata": {},
   "outputs": [],
   "source": [
    "# However, other functions in the module have not been imported. \n",
    "\n",
    "sub_numXYZ(20,10)"
   ]
  },
  {
   "cell_type": "code",
   "execution_count": null,
   "id": "6f8a35f6",
   "metadata": {},
   "outputs": [],
   "source": [
    "module.sub_numXYZ(20,10)"
   ]
  },
  {
   "cell_type": "code",
   "execution_count": null,
   "id": "40c9e25e",
   "metadata": {},
   "outputs": [],
   "source": [
    "from module import sub_numXYZ\n",
    "\n",
    "sub_numXYZ(20,10)"
   ]
  },
  {
   "cell_type": "code",
   "execution_count": null,
   "id": "9e281fa0",
   "metadata": {},
   "outputs": [],
   "source": [
    "# Now that we have imported the sub_numXYZ attribute seperately, it works."
   ]
  },
  {
   "cell_type": "code",
   "execution_count": null,
   "id": "392a6e27",
   "metadata": {},
   "outputs": [],
   "source": [
    "from module import add_sumXYZ as ads\n",
    "\n",
    "ads(100,25)"
   ]
  },
  {
   "cell_type": "code",
   "execution_count": null,
   "id": "b551ce53",
   "metadata": {},
   "outputs": [],
   "source": [
    "import module\n",
    "\n",
    "print(module.xyz123)"
   ]
  },
  {
   "cell_type": "code",
   "execution_count": null,
   "id": "95944f44",
   "metadata": {},
   "outputs": [],
   "source": [
    "# Aliasing on the attributes also works. (Show in Thonny)"
   ]
  },
  {
   "cell_type": "code",
   "execution_count": null,
   "id": "2d21da13",
   "metadata": {},
   "outputs": [],
   "source": [
    "function()"
   ]
  },
  {
   "cell_type": "code",
   "execution_count": null,
   "id": "5fa28230",
   "metadata": {},
   "outputs": [],
   "source": [
    "# We can also import all the attributes and methods using the * syntax. \n",
    "\n",
    "from module import *\n",
    "\n",
    "print(add_sumXYZ(1,2))"
   ]
  },
  {
   "cell_type": "code",
   "execution_count": null,
   "id": "d4032114",
   "metadata": {},
   "outputs": [],
   "source": [
    "print(sub_numXYZ(2,1))"
   ]
  },
  {
   "cell_type": "markdown",
   "id": "5407c9a6",
   "metadata": {},
   "source": [
    "#### However, the method to import all the functions and attributes with * is not recommended. While writing long pieces of codes it is possible (or even likely) to re-define some attributes and functions of the original module corrupting the program (sometimes fatally). "
   ]
  },
  {
   "cell_type": "code",
   "execution_count": 22,
   "id": "7a6de89b",
   "metadata": {},
   "outputs": [
    {
     "ename": "ModuleNotFoundError",
     "evalue": "No module named 'LostPython'",
     "output_type": "error",
     "traceback": [
      "\u001b[1;31m---------------------------------------------------------------------------\u001b[0m",
      "\u001b[1;31mModuleNotFoundError\u001b[0m                       Traceback (most recent call last)",
      "\u001b[1;32m~\\AppData\\Local\\Temp\\ipykernel_21312\\891873580.py\u001b[0m in \u001b[0;36m<module>\u001b[1;34m\u001b[0m\n\u001b[1;32m----> 1\u001b[1;33m \u001b[1;32mimport\u001b[0m \u001b[0mLostPython\u001b[0m\u001b[1;33m\u001b[0m\u001b[1;33m\u001b[0m\u001b[0m\n\u001b[0m",
      "\u001b[1;31mModuleNotFoundError\u001b[0m: No module named 'LostPython'"
     ]
    }
   ],
   "source": [
    "import LostPython"
   ]
  },
  {
   "cell_type": "code",
   "execution_count": null,
   "id": "d325b114",
   "metadata": {},
   "outputs": [],
   "source": [
    "# First we will search in the current working directory\n",
    "# System environment variables - For the file we are looking for. \n",
    "\n"
   ]
  },
  {
   "cell_type": "code",
   "execution_count": 23,
   "id": "2a047619",
   "metadata": {},
   "outputs": [],
   "source": [
    "#Importing from other directories. \n",
    "\n",
    "# To import from other directories we need to tell Python to look in other directories as well. For that we need the sys\n",
    "# module and the append funtion from that module. \n",
    "\n",
    "import sys\n",
    "\n",
    "sys.path.append(r'D:\\MyDocuments\\Computer Learning\\Learnbay Training Programs\\Python\\Class 12 - Functions\\Inner File')      "
   ]
  },
  {
   "cell_type": "code",
   "execution_count": null,
   "id": "a2c6a8a0",
   "metadata": {},
   "outputs": [],
   "source": [
    "current working directory\n",
    "environment variables\n",
    "system variables + path added via sys.path.append"
   ]
  },
  {
   "cell_type": "code",
   "execution_count": 24,
   "id": "b7d6186a",
   "metadata": {},
   "outputs": [],
   "source": [
    "import LostPython"
   ]
  },
  {
   "cell_type": "code",
   "execution_count": 25,
   "id": "5be0b348",
   "metadata": {},
   "outputs": [
    {
     "name": "stdout",
     "output_type": "stream",
     "text": [
      "80\n"
     ]
    }
   ],
   "source": [
    "print(LostPython.multi_XYZ(10,8))"
   ]
  },
  {
   "cell_type": "code",
   "execution_count": null,
   "id": "3856ed9e",
   "metadata": {},
   "outputs": [],
   "source": [
    "print(module.xyz123)"
   ]
  },
  {
   "cell_type": "code",
   "execution_count": 26,
   "id": "c21b831a",
   "metadata": {},
   "outputs": [
    {
     "name": "stdout",
     "output_type": "stream",
     "text": [
      "['__builtins__', '__cached__', '__doc__', '__file__', '__loader__', '__name__', '__package__', '__spec__', 'multi_XYZ']\n"
     ]
    }
   ],
   "source": [
    "# Dir built-in function returns all the variables, functions and attributes in the local scope. \n",
    "\n",
    "print(dir(LostPython))"
   ]
  },
  {
   "cell_type": "code",
   "execution_count": null,
   "id": "8b8c64ff",
   "metadata": {},
   "outputs": [],
   "source": [
    "import module\n",
    "\n",
    "print(dir(module))"
   ]
  },
  {
   "cell_type": "code",
   "execution_count": null,
   "id": "78ccd24d",
   "metadata": {},
   "outputs": [],
   "source": [
    "# Special Name variable. Look at Thonny files"
   ]
  },
  {
   "cell_type": "code",
   "execution_count": null,
   "id": "d1c441d7",
   "metadata": {},
   "outputs": [],
   "source": [
    "if __name__ == \"__main__\":\n",
    "    main()\n",
    "    #starting func\n"
   ]
  },
  {
   "cell_type": "code",
   "execution_count": null,
   "id": "9e96e21a",
   "metadata": {},
   "outputs": [],
   "source": []
  },
  {
   "cell_type": "code",
   "execution_count": null,
   "id": "422f5703",
   "metadata": {},
   "outputs": [],
   "source": []
  },
  {
   "cell_type": "code",
   "execution_count": null,
   "id": "a0e0ea90",
   "metadata": {},
   "outputs": [],
   "source": []
  },
  {
   "cell_type": "code",
   "execution_count": null,
   "id": "15461d1f",
   "metadata": {},
   "outputs": [],
   "source": []
  },
  {
   "cell_type": "code",
   "execution_count": null,
   "id": "2932c348",
   "metadata": {},
   "outputs": [],
   "source": [
    "# File Handling - Mostly easy, only binary files - little complicated with bytes objects. \n",
    "\n",
    "# Regex - Not difficult, but can be confusing till you practise. \n",
    "\n",
    "# Numpy - Axis of NUMPY _ difficult. Rest is only methods - which you need to KNOW - that you have this method and then \n",
    "# either refer to notes(mine or your own), videos or GOOGLE or ChatGPT. \n",
    "\n",
    "# Pandas - Just methods to remember\n",
    "\n",
    "# Matplotlib - Little conceptual understanding of the foundation - then all else is just methods. \n",
    "\n",
    "#Seaborn - Cakewalk"
   ]
  },
  {
   "cell_type": "code",
   "execution_count": null,
   "id": "50cddcb4",
   "metadata": {},
   "outputs": [],
   "source": [
    "import sys\n",
    "\n",
    "print(sys.path)"
   ]
  },
  {
   "cell_type": "code",
   "execution_count": null,
   "id": "634e588a",
   "metadata": {},
   "outputs": [],
   "source": [
    "sys.path.append(r'D:\\MyDocuments\\Computer Learning\\Learnbay Training Programs\\Python\\Class 12 - Functions\\Inner File')"
   ]
  },
  {
   "cell_type": "code",
   "execution_count": null,
   "id": "5d563deb",
   "metadata": {},
   "outputs": [],
   "source": [
    "print(sys.path)"
   ]
  },
  {
   "cell_type": "code",
   "execution_count": null,
   "id": "692b10aa",
   "metadata": {},
   "outputs": [],
   "source": []
  }
 ],
 "metadata": {
  "kernelspec": {
   "display_name": "Python 3 (ipykernel)",
   "language": "python",
   "name": "python3"
  },
  "language_info": {
   "codemirror_mode": {
    "name": "ipython",
    "version": 3
   },
   "file_extension": ".py",
   "mimetype": "text/x-python",
   "name": "python",
   "nbconvert_exporter": "python",
   "pygments_lexer": "ipython3",
   "version": "3.9.13"
  }
 },
 "nbformat": 4,
 "nbformat_minor": 5
}
