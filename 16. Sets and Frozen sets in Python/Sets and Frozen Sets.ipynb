{
 "cells": [
  {
   "cell_type": "markdown",
   "id": "f1826da1",
   "metadata": {},
   "source": [
    "### Sets and Frozen Sets"
   ]
  },
  {
   "cell_type": "code",
   "execution_count": null,
   "id": "6cea220c",
   "metadata": {},
   "outputs": [],
   "source": [
    "# Sets are a datatype in Python that helps us deal with mathematical sets. \n",
    "\n",
    "# Properties:\n",
    "\n",
    "# 1. Derived Datatype\n",
    "# 2. Sets themselves are mutable\n",
    "# 3. But sets can only hold IMMUTABLE Datatypes that are Unique. i.e. No duplicates. The elements can be heterogenous as\n",
    "# long as all the elements are immutable.\n",
    "# 4. Sets are unordered i.e. the input output order is not maintained and cannot be guaranteed. \n",
    "     # -Since they are unordered they do not support subscription.\n",
    "# 5. Iteration is supported but output order of the iteration cannot be guaranteed. "
   ]
  },
  {
   "cell_type": "code",
   "execution_count": 1,
   "id": "9b677f99",
   "metadata": {},
   "outputs": [
    {
     "name": "stdout",
     "output_type": "stream",
     "text": [
      "{'w', 'b', 'z', 'd', 'f', 'i', 'm', 'l', 'v', 'k', 'r', 'h', 't', 'g', 'o', 'y', 'u', 'c', 'j', 'q', 'e', 'n', 'p', 'x', 's', 'a'}\n"
     ]
    }
   ],
   "source": [
    "set1 = set('abcdefghijklmnopqrstuvwxyz')\n",
    "\n",
    "print(set1)"
   ]
  },
  {
   "cell_type": "code",
   "execution_count": 2,
   "id": "21f589c3",
   "metadata": {},
   "outputs": [
    {
     "name": "stdout",
     "output_type": "stream",
     "text": [
      "{'w', 10, 'b', 'z', 'd', 'f', 'i', 'm', 'l', 'v', 'k', 'r', 'h', 't', 'g', 'o', 'y', 'u', 'c', 'j', 'q', 'e', 'n', 'p', 'x', 's', 'a'}\n"
     ]
    }
   ],
   "source": [
    "set1.add(10)\n",
    "\n",
    "print(set1)"
   ]
  },
  {
   "cell_type": "code",
   "execution_count": 3,
   "id": "c86f7d3a",
   "metadata": {},
   "outputs": [
    {
     "ename": "TypeError",
     "evalue": "'set' object is not subscriptable",
     "output_type": "error",
     "traceback": [
      "\u001b[1;31m---------------------------------------------------------------------------\u001b[0m",
      "\u001b[1;31mTypeError\u001b[0m                                 Traceback (most recent call last)",
      "\u001b[1;32m~\\AppData\\Local\\Temp\\ipykernel_4252\\958820074.py\u001b[0m in \u001b[0;36m<module>\u001b[1;34m\u001b[0m\n\u001b[1;32m----> 1\u001b[1;33m \u001b[0mset1\u001b[0m\u001b[1;33m[\u001b[0m\u001b[1;36m5\u001b[0m\u001b[1;33m]\u001b[0m\u001b[1;33m\u001b[0m\u001b[1;33m\u001b[0m\u001b[0m\n\u001b[0m",
      "\u001b[1;31mTypeError\u001b[0m: 'set' object is not subscriptable"
     ]
    }
   ],
   "source": [
    "set1[5]"
   ]
  },
  {
   "cell_type": "code",
   "execution_count": 4,
   "id": "6229a290",
   "metadata": {},
   "outputs": [
    {
     "name": "stdout",
     "output_type": "stream",
     "text": [
      "{8, 2, 4, 6}\n"
     ]
    }
   ],
   "source": [
    "set1 = {2,4,6,8,4}\n",
    "\n",
    "print(set1)"
   ]
  },
  {
   "cell_type": "code",
   "execution_count": 5,
   "id": "921baa53",
   "metadata": {},
   "outputs": [
    {
     "ename": "TypeError",
     "evalue": "unhashable type: 'list'",
     "output_type": "error",
     "traceback": [
      "\u001b[1;31m---------------------------------------------------------------------------\u001b[0m",
      "\u001b[1;31mTypeError\u001b[0m                                 Traceback (most recent call last)",
      "\u001b[1;32m~\\AppData\\Local\\Temp\\ipykernel_4252\\2044318816.py\u001b[0m in \u001b[0;36m<module>\u001b[1;34m\u001b[0m\n\u001b[1;32m----> 1\u001b[1;33m \u001b[0mset1\u001b[0m \u001b[1;33m=\u001b[0m \u001b[1;33m{\u001b[0m\u001b[1;36m2\u001b[0m\u001b[1;33m,\u001b[0m\u001b[1;36m10.2\u001b[0m\u001b[1;33m,\u001b[0m\u001b[1;36m2\u001b[0m\u001b[1;33m+\u001b[0m\u001b[1;36m3j\u001b[0m\u001b[1;33m,\u001b[0m\u001b[1;34m'Ashish'\u001b[0m\u001b[1;33m,\u001b[0m\u001b[1;33m[\u001b[0m\u001b[1;36m2\u001b[0m\u001b[1;33m,\u001b[0m\u001b[1;36m4\u001b[0m\u001b[1;33m,\u001b[0m\u001b[1;36m6\u001b[0m\u001b[1;33m,\u001b[0m\u001b[1;36m8\u001b[0m\u001b[1;33m]\u001b[0m\u001b[1;33m}\u001b[0m\u001b[1;33m\u001b[0m\u001b[1;33m\u001b[0m\u001b[0m\n\u001b[0m\u001b[0;32m      2\u001b[0m \u001b[1;33m\u001b[0m\u001b[0m\n\u001b[0;32m      3\u001b[0m \u001b[0mprint\u001b[0m\u001b[1;33m(\u001b[0m\u001b[0mset1\u001b[0m\u001b[1;33m)\u001b[0m\u001b[1;33m\u001b[0m\u001b[1;33m\u001b[0m\u001b[0m\n",
      "\u001b[1;31mTypeError\u001b[0m: unhashable type: 'list'"
     ]
    }
   ],
   "source": [
    "set1 = {2,10.2,2+3j,'Ashish',[2,4,6,8]}\n",
    "\n",
    "print(set1)"
   ]
  },
  {
   "cell_type": "code",
   "execution_count": 6,
   "id": "4eedb6a9",
   "metadata": {},
   "outputs": [
    {
     "name": "stdout",
     "output_type": "stream",
     "text": [
      "{2, 10.2, (2+3j), 'Ashish'}\n"
     ]
    }
   ],
   "source": [
    "set1 = {2,10.2,2+3j,'Ashish'}\n",
    "\n",
    "print(set1)"
   ]
  },
  {
   "cell_type": "code",
   "execution_count": null,
   "id": "82e10368",
   "metadata": {},
   "outputs": [],
   "source": [
    "# No duplicate elements and no mutable elements\n",
    "\n",
    "# x = [1,2,3]\n",
    "# y = [1,2,4]\n",
    "# set1 = [2,10.2,2+3j,'Ashish',x,y]\n",
    "\n",
    "# y[2] = 3\n",
    "\n",
    "# y = [1,2,3]"
   ]
  },
  {
   "cell_type": "code",
   "execution_count": 7,
   "id": "98270e4e",
   "metadata": {},
   "outputs": [
    {
     "name": "stdout",
     "output_type": "stream",
     "text": [
      "2\n",
      "10.2\n",
      "(2+3j)\n",
      "Ashish\n"
     ]
    }
   ],
   "source": [
    "for elem in set1:\n",
    "    print(elem)"
   ]
  },
  {
   "cell_type": "code",
   "execution_count": 8,
   "id": "6a4526cf",
   "metadata": {},
   "outputs": [],
   "source": [
    "# initialisation of sets"
   ]
  },
  {
   "cell_type": "code",
   "execution_count": 9,
   "id": "33cb5ea1",
   "metadata": {},
   "outputs": [
    {
     "name": "stdout",
     "output_type": "stream",
     "text": [
      "{8, 2, 4, 6}\n"
     ]
    }
   ],
   "source": [
    "set1 = {2,4,6,8}\n",
    "\n",
    "print(set1)"
   ]
  },
  {
   "cell_type": "code",
   "execution_count": 11,
   "id": "6f3dbc59",
   "metadata": {},
   "outputs": [],
   "source": [
    "lst1 = [1,10.2,'Bharath', 10.2,100,100]"
   ]
  },
  {
   "cell_type": "code",
   "execution_count": 12,
   "id": "122323a8",
   "metadata": {},
   "outputs": [
    {
     "name": "stdout",
     "output_type": "stream",
     "text": [
      "{1, 10.2, 'Bharath', 100}\n"
     ]
    }
   ],
   "source": [
    "set1 = set(lst1)\n",
    "\n",
    "print(set1)"
   ]
  },
  {
   "cell_type": "code",
   "execution_count": 13,
   "id": "471bdcd2",
   "metadata": {},
   "outputs": [
    {
     "name": "stdout",
     "output_type": "stream",
     "text": [
      "{'i', 's', 'a', 'h'}\n"
     ]
    }
   ],
   "source": [
    "set1 = set('ashish')\n",
    "\n",
    "print(set1)"
   ]
  },
  {
   "cell_type": "code",
   "execution_count": 14,
   "id": "2a8c717b",
   "metadata": {},
   "outputs": [
    {
     "name": "stdout",
     "output_type": "stream",
     "text": [
      "{10, 'Ashish', 20, 'Dipali', (1, 2, 3, 4, 'Bharath', 10.2)}\n"
     ]
    }
   ],
   "source": [
    "tup1 = (1,2,3,4,'Bharath', 10.2)\n",
    "\n",
    "set1 = {10,20,'Ashish', 'Dipali',tup1}\n",
    "\n",
    "print(set1)"
   ]
  },
  {
   "cell_type": "code",
   "execution_count": 15,
   "id": "a0d26f7e",
   "metadata": {},
   "outputs": [
    {
     "ename": "TypeError",
     "evalue": "unhashable type: 'list'",
     "output_type": "error",
     "traceback": [
      "\u001b[1;31m---------------------------------------------------------------------------\u001b[0m",
      "\u001b[1;31mTypeError\u001b[0m                                 Traceback (most recent call last)",
      "\u001b[1;32m~\\AppData\\Local\\Temp\\ipykernel_4252\\3719029173.py\u001b[0m in \u001b[0;36m<module>\u001b[1;34m\u001b[0m\n\u001b[0;32m      1\u001b[0m \u001b[0mtup1\u001b[0m \u001b[1;33m=\u001b[0m \u001b[1;33m(\u001b[0m\u001b[1;36m1\u001b[0m\u001b[1;33m,\u001b[0m\u001b[1;36m2\u001b[0m\u001b[1;33m,\u001b[0m\u001b[1;36m3\u001b[0m\u001b[1;33m,\u001b[0m\u001b[1;36m4\u001b[0m\u001b[1;33m,\u001b[0m\u001b[1;34m'Bharath'\u001b[0m\u001b[1;33m,\u001b[0m \u001b[1;36m10.2\u001b[0m\u001b[1;33m,\u001b[0m \u001b[1;33m[\u001b[0m\u001b[1;36m10\u001b[0m\u001b[1;33m,\u001b[0m\u001b[1;36m20\u001b[0m\u001b[1;33m,\u001b[0m\u001b[1;36m30\u001b[0m\u001b[1;33m]\u001b[0m\u001b[1;33m)\u001b[0m\u001b[1;33m\u001b[0m\u001b[1;33m\u001b[0m\u001b[0m\n\u001b[0;32m      2\u001b[0m \u001b[1;33m\u001b[0m\u001b[0m\n\u001b[1;32m----> 3\u001b[1;33m \u001b[0mset1\u001b[0m \u001b[1;33m=\u001b[0m \u001b[1;33m{\u001b[0m\u001b[1;36m10\u001b[0m\u001b[1;33m,\u001b[0m\u001b[1;36m20\u001b[0m\u001b[1;33m,\u001b[0m\u001b[1;34m'Ashish'\u001b[0m\u001b[1;33m,\u001b[0m \u001b[1;34m'Dipali'\u001b[0m\u001b[1;33m,\u001b[0m\u001b[0mtup1\u001b[0m\u001b[1;33m}\u001b[0m\u001b[1;33m\u001b[0m\u001b[1;33m\u001b[0m\u001b[0m\n\u001b[0m\u001b[0;32m      4\u001b[0m \u001b[1;33m\u001b[0m\u001b[0m\n\u001b[0;32m      5\u001b[0m \u001b[0mprint\u001b[0m\u001b[1;33m(\u001b[0m\u001b[0mset1\u001b[0m\u001b[1;33m)\u001b[0m\u001b[1;33m\u001b[0m\u001b[1;33m\u001b[0m\u001b[0m\n",
      "\u001b[1;31mTypeError\u001b[0m: unhashable type: 'list'"
     ]
    }
   ],
   "source": [
    "tup1 = (1,2,3,4,'Bharath', 10.2, [10,20,30])\n",
    "tup2 = (1,2,3,4,'Bharath', 10.2, [10,20,40])\n",
    "\n",
    "set1 = {10,20,'Ashish', 'Dipali',tup1}\n",
    "\n",
    "print(set1)"
   ]
  },
  {
   "cell_type": "code",
   "execution_count": 16,
   "id": "c1dbc504",
   "metadata": {},
   "outputs": [
    {
     "name": "stdout",
     "output_type": "stream",
     "text": [
      "[23 62 14 86 18 32 35 99 45 55 78 47 80 97 64 83 23 58  2 27 46 78 18 23\n",
      " 47]\n"
     ]
    }
   ],
   "source": [
    "import numpy as np\n",
    "\n",
    "range1 = np.random.randint(1,100,25)\n",
    "\n",
    "print(range1)"
   ]
  },
  {
   "cell_type": "code",
   "execution_count": 18,
   "id": "6bdddaad",
   "metadata": {},
   "outputs": [
    {
     "name": "stdout",
     "output_type": "stream",
     "text": [
      "{2, 14, 18, 23, 27, 32, 35, 45, 46, 47, 55, 58, 62, 64, 78, 80, 83, 86, 97, 99}\n"
     ]
    }
   ],
   "source": [
    "set1 = set(range1)\n",
    "\n",
    "print(set1)"
   ]
  },
  {
   "cell_type": "code",
   "execution_count": 19,
   "id": "9dbaf7ee",
   "metadata": {},
   "outputs": [
    {
     "name": "stdout",
     "output_type": "stream",
     "text": [
      "[2, 14, 18, 23, 27, 32, 35, 45, 46, 47, 55, 58, 62, 64, 78, 80, 83, 86, 97, 99]\n"
     ]
    }
   ],
   "source": [
    "set2 = sorted(set1)\n",
    "\n",
    "print(set2)"
   ]
  },
  {
   "cell_type": "code",
   "execution_count": 20,
   "id": "1a23efe4",
   "metadata": {},
   "outputs": [
    {
     "name": "stdout",
     "output_type": "stream",
     "text": [
      "{2, 14, 18, 23, 27, 32, 35, 45, 46, 47, 55, 58, 62, 64, 78, 80, 83, 86, 97, 99}\n"
     ]
    }
   ],
   "source": [
    "set3 = set(sorted(set1))\n",
    "\n",
    "print(set3)"
   ]
  },
  {
   "cell_type": "code",
   "execution_count": 21,
   "id": "bc2b8d27",
   "metadata": {},
   "outputs": [
    {
     "name": "stdout",
     "output_type": "stream",
     "text": [
      "['__and__', '__class__', '__class_getitem__', '__contains__', '__delattr__', '__dir__', '__doc__', '__eq__', '__format__', '__ge__', '__getattribute__', '__gt__', '__hash__', '__iand__', '__init__', '__init_subclass__', '__ior__', '__isub__', '__iter__', '__ixor__', '__le__', '__len__', '__lt__', '__ne__', '__new__', '__or__', '__rand__', '__reduce__', '__reduce_ex__', '__repr__', '__ror__', '__rsub__', '__rxor__', '__setattr__', '__sizeof__', '__str__', '__sub__', '__subclasshook__', '__xor__', 'add', 'clear', 'copy', 'difference', 'difference_update', 'discard', 'intersection', 'intersection_update', 'isdisjoint', 'issubset', 'issuperset', 'pop', 'remove', 'symmetric_difference', 'symmetric_difference_update', 'union', 'update']\n"
     ]
    }
   ],
   "source": [
    "print(dir(set))"
   ]
  },
  {
   "cell_type": "code",
   "execution_count": null,
   "id": "20646586",
   "metadata": {},
   "outputs": [],
   "source": [
    "# Set methods\n",
    "\n",
    "# add\n",
    "# clear\n",
    "# copy\n",
    "# discard\n",
    "# pop\n",
    "# remove\n",
    "\n",
    "# difference\n",
    "# difference_update\n",
    "# intersection\n",
    "# intersection_update\n",
    "# symmetric_difference\n",
    "# symmetric_difference_update\n",
    "# union\n",
    "# update\n",
    "\n",
    "# isdisjoint\n",
    "# isssubset\n",
    "# issuperset\n"
   ]
  },
  {
   "cell_type": "code",
   "execution_count": 26,
   "id": "03b9ea54",
   "metadata": {},
   "outputs": [
    {
     "name": "stdout",
     "output_type": "stream",
     "text": [
      "{'j', 'e', 'g', 'b', 'd', 'f', 'i', 'h', 'a', 'c'}\n"
     ]
    }
   ],
   "source": [
    "set1 = set('abcdefghij')\n",
    "\n",
    "print(set1)"
   ]
  },
  {
   "cell_type": "code",
   "execution_count": 23,
   "id": "5bcf9e3e",
   "metadata": {},
   "outputs": [
    {
     "name": "stdout",
     "output_type": "stream",
     "text": [
      "None\n",
      "{'j', 'e', 'g', 'b', 'd', 'f', 'i', 'k', 'h', 'a', 'c'}\n"
     ]
    }
   ],
   "source": [
    "# add method - adds an element to the set at a random position\n",
    "\n",
    "var1 = set1.add('k')\n",
    "\n",
    "print(var1)\n",
    "print(set1)"
   ]
  },
  {
   "cell_type": "code",
   "execution_count": 24,
   "id": "60a0a66b",
   "metadata": {},
   "outputs": [
    {
     "name": "stdout",
     "output_type": "stream",
     "text": [
      "2639274138080\n",
      "2639274138080\n"
     ]
    }
   ],
   "source": [
    "# clear method - clears the set\n",
    "\n",
    "print(id(set1))\n",
    "\n",
    "set1.clear()\n",
    "\n",
    "print(id(set1))"
   ]
  },
  {
   "cell_type": "code",
   "execution_count": 25,
   "id": "bb57e666",
   "metadata": {},
   "outputs": [
    {
     "name": "stdout",
     "output_type": "stream",
     "text": [
      "set()\n"
     ]
    }
   ],
   "source": [
    "print(set1)"
   ]
  },
  {
   "cell_type": "code",
   "execution_count": 27,
   "id": "7339ab37",
   "metadata": {},
   "outputs": [
    {
     "name": "stdout",
     "output_type": "stream",
     "text": [
      "{'j', 'e', 'g', 'b', 'd', 'f', 'i', 'h', 'a', 'c'}\n"
     ]
    }
   ],
   "source": [
    "set1 = set('abcdefghij')\n",
    "\n",
    "print(set1)"
   ]
  },
  {
   "cell_type": "code",
   "execution_count": 28,
   "id": "392a7c51",
   "metadata": {},
   "outputs": [
    {
     "name": "stdout",
     "output_type": "stream",
     "text": [
      "2639274138080\n",
      "{'j', 'e', 'g', 'b', 'd', 'f', 'i', 'h', 'a', 'c'}\n",
      "2639274138304\n"
     ]
    }
   ],
   "source": [
    "print(id(set1))\n",
    "\n",
    "set2 = set1.copy()\n",
    "\n",
    "print(set2)\n",
    "print(id(set2))"
   ]
  },
  {
   "cell_type": "code",
   "execution_count": 29,
   "id": "346a3662",
   "metadata": {},
   "outputs": [
    {
     "name": "stdout",
     "output_type": "stream",
     "text": [
      "[6 1 7 8 9 4 1 9 4 4 2 8 6 3 7 9 9 4 9 4 6 3 8 9 7]\n"
     ]
    }
   ],
   "source": [
    "lst1 = np.random.randint(1,10,25)\n",
    "\n",
    "print(lst1)"
   ]
  },
  {
   "cell_type": "code",
   "execution_count": 30,
   "id": "2660b32c",
   "metadata": {},
   "outputs": [
    {
     "name": "stdout",
     "output_type": "stream",
     "text": [
      "[1, 2, 3, 4, 6, 7, 8, 9]\n"
     ]
    }
   ],
   "source": [
    "lst2 = list(set(lst1))\n",
    "\n",
    "print(lst2)"
   ]
  },
  {
   "cell_type": "code",
   "execution_count": 36,
   "id": "a9c4b00c",
   "metadata": {},
   "outputs": [
    {
     "name": "stdout",
     "output_type": "stream",
     "text": [
      "{'j', 'e', 'g', 'b', 'd', 'f', 'i', 'h', 'a', 'c'}\n"
     ]
    }
   ],
   "source": [
    "# discard - removes the specified element from the set and if the element is not present the set remains unchanged. \n",
    "# remove - removes the specified element from the set and if the element is not present throws an error.\n",
    "\n",
    "# They take one parameter the element to be removed. \n",
    "# Modifies original set - no return.\n",
    "\n",
    "\n",
    "set1 = set('abcdefghij')\n",
    "\n",
    "print(set1)"
   ]
  },
  {
   "cell_type": "code",
   "execution_count": 33,
   "id": "487edb55",
   "metadata": {},
   "outputs": [
    {
     "name": "stdout",
     "output_type": "stream",
     "text": [
      "{'j', 'e', 'g', 'b', 'd', 'i', 'h', 'a', 'c'}\n"
     ]
    }
   ],
   "source": [
    "set1.remove('f')\n",
    "\n",
    "print(set1)"
   ]
  },
  {
   "cell_type": "code",
   "execution_count": 35,
   "id": "a0cc758e",
   "metadata": {},
   "outputs": [
    {
     "name": "stdout",
     "output_type": "stream",
     "text": [
      "{'j', 'e', 'g', 'b', 'd', 'i', 'h', 'a', 'c'}\n"
     ]
    }
   ],
   "source": [
    "set1.discard('f')\n",
    "\n",
    "print(set1)"
   ]
  },
  {
   "cell_type": "code",
   "execution_count": 37,
   "id": "bc5ab31a",
   "metadata": {},
   "outputs": [
    {
     "name": "stdout",
     "output_type": "stream",
     "text": [
      "{'j', 'e', 'g', 'b', 'd', 'f', 'i', 'h', 'a', 'c'}\n"
     ]
    }
   ],
   "source": [
    "set1.discard('F')\n",
    "\n",
    "print(set1)"
   ]
  },
  {
   "cell_type": "code",
   "execution_count": 38,
   "id": "96a83e1b",
   "metadata": {},
   "outputs": [
    {
     "ename": "KeyError",
     "evalue": "'F'",
     "output_type": "error",
     "traceback": [
      "\u001b[1;31m---------------------------------------------------------------------------\u001b[0m",
      "\u001b[1;31mKeyError\u001b[0m                                  Traceback (most recent call last)",
      "\u001b[1;32m~\\AppData\\Local\\Temp\\ipykernel_4252\\3663139637.py\u001b[0m in \u001b[0;36m<module>\u001b[1;34m\u001b[0m\n\u001b[1;32m----> 1\u001b[1;33m \u001b[0mset1\u001b[0m\u001b[1;33m.\u001b[0m\u001b[0mremove\u001b[0m\u001b[1;33m(\u001b[0m\u001b[1;34m'F'\u001b[0m\u001b[1;33m)\u001b[0m\u001b[1;33m\u001b[0m\u001b[1;33m\u001b[0m\u001b[0m\n\u001b[0m\u001b[0;32m      2\u001b[0m \u001b[1;33m\u001b[0m\u001b[0m\n\u001b[0;32m      3\u001b[0m \u001b[0mprint\u001b[0m\u001b[1;33m(\u001b[0m\u001b[0mset1\u001b[0m\u001b[1;33m)\u001b[0m\u001b[1;33m\u001b[0m\u001b[1;33m\u001b[0m\u001b[0m\n",
      "\u001b[1;31mKeyError\u001b[0m: 'F'"
     ]
    }
   ],
   "source": [
    "set1.remove('F')\n",
    "\n",
    "print(set1)"
   ]
  },
  {
   "cell_type": "code",
   "execution_count": 43,
   "id": "b0c9f1ae",
   "metadata": {},
   "outputs": [
    {
     "name": "stdout",
     "output_type": "stream",
     "text": [
      "{'j', 'e', 'g', 'b', 'd', 'f', 'i', 'h', 'a', 'c'}\n"
     ]
    }
   ],
   "source": [
    "# pop - removes a RANDOM element from the set. Though it is noticed that USUALLY the FIRST element of the set is 'popped', \n",
    "# this CANNOT be guaranteed to run the same way every time.\n",
    "\n",
    "set1 = set('abcdefghij')\n",
    "\n",
    "print(set1)"
   ]
  },
  {
   "cell_type": "code",
   "execution_count": 44,
   "id": "a0d639cc",
   "metadata": {},
   "outputs": [
    {
     "name": "stdout",
     "output_type": "stream",
     "text": [
      "j\n",
      "{'e', 'g', 'b', 'd', 'f', 'i', 'h', 'a', 'c'}\n"
     ]
    }
   ],
   "source": [
    "popped = set1.pop()\n",
    "\n",
    "print(popped)\n",
    "print(set1)"
   ]
  },
  {
   "cell_type": "code",
   "execution_count": 48,
   "id": "507efc63",
   "metadata": {},
   "outputs": [
    {
     "name": "stdout",
     "output_type": "stream",
     "text": [
      "{'j', 'e', 'b', 'd', 'k', 'a', 'c'}\n"
     ]
    }
   ],
   "source": [
    "# Union and union update\n",
    "\n",
    "set1 = set('abcde')\n",
    "set2 = set('bcjka')\n",
    "set3 = set('jbcml')\n",
    "set3 = set1.union(set2)\n",
    "\n",
    "print(set3)"
   ]
  },
  {
   "cell_type": "code",
   "execution_count": 46,
   "id": "3b350aa4",
   "metadata": {},
   "outputs": [
    {
     "name": "stdout",
     "output_type": "stream",
     "text": [
      "{'j', 'e', 'b', 'd', 'k', 'a', 'c'}\n"
     ]
    }
   ],
   "source": [
    "# operators - Union operator - |\n",
    "\n",
    "set4 = set1 | set2\n",
    "\n",
    "print(set4)"
   ]
  },
  {
   "cell_type": "code",
   "execution_count": 49,
   "id": "279c91f1",
   "metadata": {},
   "outputs": [
    {
     "name": "stdout",
     "output_type": "stream",
     "text": [
      "{'l', 'j', 'e', 'b', 'd', 'k', 'm', 'a', 'c'}\n"
     ]
    }
   ],
   "source": [
    "set1 = set('abcde')\n",
    "set2 = set('bcjka')\n",
    "set3 = set('jbcml')\n",
    "set5 = set1.union(set2,set3)\n",
    "\n",
    "print(set5)"
   ]
  },
  {
   "cell_type": "code",
   "execution_count": 50,
   "id": "1c5d6de3",
   "metadata": {},
   "outputs": [
    {
     "name": "stdout",
     "output_type": "stream",
     "text": [
      "{'l', 'j', 'e', 'b', 'd', 'k', 'm', 'a', 'c'}\n"
     ]
    }
   ],
   "source": [
    "set6 = set1 | set2 | set3\n",
    "\n",
    "print(set6)"
   ]
  },
  {
   "cell_type": "code",
   "execution_count": 53,
   "id": "cba08397",
   "metadata": {},
   "outputs": [
    {
     "name": "stdout",
     "output_type": "stream",
     "text": [
      "['j', 'b', 'c', 'm', 'l']\n"
     ]
    }
   ],
   "source": [
    "lst3 = list('jbcml')\n",
    "\n",
    "print(lst1)"
   ]
  },
  {
   "cell_type": "code",
   "execution_count": 54,
   "id": "53abd1dd",
   "metadata": {},
   "outputs": [
    {
     "name": "stdout",
     "output_type": "stream",
     "text": [
      "{'l', 'j', 'e', 'b', 'd', 'k', 'm', 'a', 'c'}\n"
     ]
    }
   ],
   "source": [
    "# Difference between using union function and operators.\n",
    "\n",
    "set7 = set1.union(set2, lst3)\n",
    "\n",
    "print(set7)"
   ]
  },
  {
   "cell_type": "code",
   "execution_count": 55,
   "id": "57c79135",
   "metadata": {},
   "outputs": [],
   "source": [
    "# overloaded operators like +, >,<,|, &...etc will ONLY work between the same datatypes."
   ]
  },
  {
   "cell_type": "code",
   "execution_count": 56,
   "id": "7b659f85",
   "metadata": {},
   "outputs": [
    {
     "ename": "TypeError",
     "evalue": "unsupported operand type(s) for |: 'set' and 'list'",
     "output_type": "error",
     "traceback": [
      "\u001b[1;31m---------------------------------------------------------------------------\u001b[0m",
      "\u001b[1;31mTypeError\u001b[0m                                 Traceback (most recent call last)",
      "\u001b[1;32m~\\AppData\\Local\\Temp\\ipykernel_4252\\3788039514.py\u001b[0m in \u001b[0;36m<module>\u001b[1;34m\u001b[0m\n\u001b[1;32m----> 1\u001b[1;33m \u001b[0mset8\u001b[0m \u001b[1;33m=\u001b[0m \u001b[0mset1\u001b[0m \u001b[1;33m|\u001b[0m \u001b[0mset2\u001b[0m \u001b[1;33m|\u001b[0m \u001b[0mlst3\u001b[0m\u001b[1;33m\u001b[0m\u001b[1;33m\u001b[0m\u001b[0m\n\u001b[0m",
      "\u001b[1;31mTypeError\u001b[0m: unsupported operand type(s) for |: 'set' and 'list'"
     ]
    }
   ],
   "source": [
    "set8 = set1 | set2 | lst3"
   ]
  },
  {
   "cell_type": "code",
   "execution_count": 57,
   "id": "af1812b8",
   "metadata": {},
   "outputs": [
    {
     "name": "stdout",
     "output_type": "stream",
     "text": [
      "{'l', 'j', 'e', 'b', 'd', 'k', 'a', 'c'}\n"
     ]
    }
   ],
   "source": [
    "# update methods of each function - i.e. union(update), intersection(intersection_update), difference(difference_update) &\n",
    "# symmetric_difference(symmetric_difference_update) will UPDATE the original set and have NO output.\n",
    "\n",
    "set1 = set('abcde')\n",
    "set2 = set('jkbcla')\n",
    "set3 = set('dmlen')\n",
    "\n",
    "\n",
    "set3 = set1.union(set2)\n",
    "\n",
    "print(set3)"
   ]
  },
  {
   "cell_type": "code",
   "execution_count": 58,
   "id": "9a9778c8",
   "metadata": {},
   "outputs": [
    {
     "name": "stdout",
     "output_type": "stream",
     "text": [
      "{'e', 'b', 'd', 'a', 'c'}\n",
      "{'l', 'j', 'b', 'k', 'a', 'c'}\n"
     ]
    }
   ],
   "source": [
    "print(set1)\n",
    "print(set2)"
   ]
  },
  {
   "cell_type": "code",
   "execution_count": 59,
   "id": "4a634c4a",
   "metadata": {},
   "outputs": [
    {
     "name": "stdout",
     "output_type": "stream",
     "text": [
      "2639274138976\n",
      "None\n",
      "{'l', 'j', 'e', 'b', 'd', 'k', 'a', 'c'}\n",
      "2639274138976\n",
      "{'l', 'j', 'b', 'k', 'a', 'c'}\n"
     ]
    }
   ],
   "source": [
    "print(id(set1))\n",
    "\n",
    "set4Up = set1.update(set2)\n",
    "\n",
    "print(set4Up)\n",
    "print(set1)\n",
    "print(id(set1))\n",
    "print(set2)"
   ]
  },
  {
   "cell_type": "code",
   "execution_count": 62,
   "id": "c7009054",
   "metadata": {},
   "outputs": [
    {
     "name": "stdout",
     "output_type": "stream",
     "text": [
      "{'c', 'a', 'b'}\n"
     ]
    }
   ],
   "source": [
    "# intersection & intersection update\n",
    "\n",
    "set1 = set('abcde')\n",
    "set2 = set('jkbcla')\n",
    "set3 = set('dmlbcen')\n",
    "\n",
    "set4 = set1.intersection(set2)\n",
    "\n",
    "print(set4)"
   ]
  },
  {
   "cell_type": "code",
   "execution_count": 63,
   "id": "613fccaf",
   "metadata": {},
   "outputs": [
    {
     "name": "stdout",
     "output_type": "stream",
     "text": [
      "{'b', 'c'}\n"
     ]
    }
   ],
   "source": [
    "set5 = set1.intersection(set2,set3)\n",
    "\n",
    "print(set5)"
   ]
  },
  {
   "cell_type": "code",
   "execution_count": 64,
   "id": "47aa8cd4",
   "metadata": {},
   "outputs": [
    {
     "name": "stdout",
     "output_type": "stream",
     "text": [
      "['d', 'm', 'l', 'b', 'c', 'e', 'n']\n"
     ]
    }
   ],
   "source": [
    "lst3 = list('dmlbcen')\n",
    "\n",
    "print(lst3)"
   ]
  },
  {
   "cell_type": "code",
   "execution_count": 65,
   "id": "316b55d5",
   "metadata": {},
   "outputs": [
    {
     "name": "stdout",
     "output_type": "stream",
     "text": [
      "{'c', 'b'}\n"
     ]
    }
   ],
   "source": [
    "set6 = set1.intersection(set2, lst3)\n",
    "\n",
    "print(set6)"
   ]
  },
  {
   "cell_type": "code",
   "execution_count": 66,
   "id": "036d2eed",
   "metadata": {},
   "outputs": [
    {
     "name": "stdout",
     "output_type": "stream",
     "text": [
      "{'c', 'a', 'b'}\n"
     ]
    }
   ],
   "source": [
    "#intersection operator - &\n",
    "\n",
    "set7 = set1 & set2\n",
    "\n",
    "print(set7)"
   ]
  },
  {
   "cell_type": "code",
   "execution_count": 67,
   "id": "03c10847",
   "metadata": {},
   "outputs": [
    {
     "name": "stdout",
     "output_type": "stream",
     "text": [
      "{'b', 'c'}\n"
     ]
    }
   ],
   "source": [
    "set8 = set1 & set2 & set3\n",
    "\n",
    "print(set8)"
   ]
  },
  {
   "cell_type": "code",
   "execution_count": 68,
   "id": "6bc572d7",
   "metadata": {},
   "outputs": [
    {
     "ename": "TypeError",
     "evalue": "unsupported operand type(s) for &: 'set' and 'list'",
     "output_type": "error",
     "traceback": [
      "\u001b[1;31m---------------------------------------------------------------------------\u001b[0m",
      "\u001b[1;31mTypeError\u001b[0m                                 Traceback (most recent call last)",
      "\u001b[1;32m~\\AppData\\Local\\Temp\\ipykernel_4252\\3141498548.py\u001b[0m in \u001b[0;36m<module>\u001b[1;34m\u001b[0m\n\u001b[1;32m----> 1\u001b[1;33m \u001b[0mset9\u001b[0m \u001b[1;33m=\u001b[0m \u001b[0mset1\u001b[0m \u001b[1;33m&\u001b[0m \u001b[0mset2\u001b[0m \u001b[1;33m&\u001b[0m \u001b[0mlst3\u001b[0m\u001b[1;33m\u001b[0m\u001b[1;33m\u001b[0m\u001b[0m\n\u001b[0m\u001b[0;32m      2\u001b[0m \u001b[1;33m\u001b[0m\u001b[0m\n",
      "\u001b[1;31mTypeError\u001b[0m: unsupported operand type(s) for &: 'set' and 'list'"
     ]
    }
   ],
   "source": [
    "set9 = set1 & set2 & lst3\n",
    "\n"
   ]
  },
  {
   "cell_type": "code",
   "execution_count": 69,
   "id": "3beb7112",
   "metadata": {},
   "outputs": [
    {
     "name": "stdout",
     "output_type": "stream",
     "text": [
      "None\n",
      "{'c', 'a', 'b'}\n",
      "{'l', 'j', 'b', 'k', 'a', 'c'}\n"
     ]
    }
   ],
   "source": [
    "set1 = set('abcde')\n",
    "set2 = set('jkbcla')\n",
    "set3 = set('dmlbcen')\n",
    "\n",
    "set4In = set1.intersection_update(set2)\n",
    "\n",
    "print(set4In)\n",
    "print(set1)\n",
    "print(set2)\n"
   ]
  },
  {
   "cell_type": "code",
   "execution_count": null,
   "id": "272f5e4e",
   "metadata": {},
   "outputs": [],
   "source": [
    "# set1.union(set2) or set2.union(set1)\n",
    "# set1.intersection(set2) or set2.intersection(set1)\n",
    "# set1.symmetric_difference(set2) or set2.symmetric_difference(set1)\n",
    "\n",
    "# All the above have no difference in the output. \n",
    "\n",
    "# Difference method though will have a difference in the output depending on the order of the input sets.\n",
    "\n",
    "# set1.difference(set2) or set2.difference(set1) - are not the same. "
   ]
  },
  {
   "cell_type": "code",
   "execution_count": null,
   "id": "b7198d1c",
   "metadata": {},
   "outputs": [],
   "source": [
    "# difference and difference_update"
   ]
  },
  {
   "cell_type": "code",
   "execution_count": 73,
   "id": "26aaa138",
   "metadata": {},
   "outputs": [
    {
     "name": "stdout",
     "output_type": "stream",
     "text": [
      "{'d', 'e'}\n"
     ]
    }
   ],
   "source": [
    "set1 = set('abcde')\n",
    "set2 = set('jkbcla')\n",
    "set3 = set('mlcen')\n",
    "\n",
    "set4 = set1.difference(set2)\n",
    "\n",
    "print(set4)"
   ]
  },
  {
   "cell_type": "code",
   "execution_count": 71,
   "id": "44237c66",
   "metadata": {},
   "outputs": [
    {
     "name": "stdout",
     "output_type": "stream",
     "text": [
      "{'l', 'j', 'k'}\n"
     ]
    }
   ],
   "source": [
    "set4Inv = set2.difference(set1)\n",
    "\n",
    "print(set4Inv)"
   ]
  },
  {
   "cell_type": "code",
   "execution_count": 74,
   "id": "18aa8d0a",
   "metadata": {},
   "outputs": [
    {
     "name": "stdout",
     "output_type": "stream",
     "text": [
      "{'d'}\n"
     ]
    }
   ],
   "source": [
    "set5 = set1.difference(set2, set3)\n",
    "\n",
    "print(set5)"
   ]
  },
  {
   "cell_type": "code",
   "execution_count": 75,
   "id": "7ab5bedb",
   "metadata": {},
   "outputs": [
    {
     "name": "stdout",
     "output_type": "stream",
     "text": [
      "{'d'}\n"
     ]
    }
   ],
   "source": [
    "lst3 = list('mlcen')\n",
    "\n",
    "set6 = set1.difference(set2, lst3)\n",
    "\n",
    "print(set6)"
   ]
  },
  {
   "cell_type": "code",
   "execution_count": null,
   "id": "8ac346ab",
   "metadata": {},
   "outputs": [],
   "source": []
  },
  {
   "cell_type": "code",
   "execution_count": 76,
   "id": "1828a9a4",
   "metadata": {},
   "outputs": [
    {
     "name": "stdout",
     "output_type": "stream",
     "text": [
      "{'d', 'e'}\n"
     ]
    }
   ],
   "source": [
    "# difference operator = -\n",
    "\n",
    "set5 = set1 - set2\n",
    "\n",
    "print(set5)"
   ]
  },
  {
   "cell_type": "code",
   "execution_count": 77,
   "id": "a7f0a892",
   "metadata": {},
   "outputs": [
    {
     "ename": "TypeError",
     "evalue": "unsupported operand type(s) for -: 'set' and 'list'",
     "output_type": "error",
     "traceback": [
      "\u001b[1;31m---------------------------------------------------------------------------\u001b[0m",
      "\u001b[1;31mTypeError\u001b[0m                                 Traceback (most recent call last)",
      "\u001b[1;32m~\\AppData\\Local\\Temp\\ipykernel_4252\\3569565176.py\u001b[0m in \u001b[0;36m<module>\u001b[1;34m\u001b[0m\n\u001b[1;32m----> 1\u001b[1;33m \u001b[0mset6\u001b[0m \u001b[1;33m=\u001b[0m \u001b[0mset1\u001b[0m \u001b[1;33m-\u001b[0m \u001b[0mset2\u001b[0m \u001b[1;33m-\u001b[0m \u001b[0mlst3\u001b[0m\u001b[1;33m\u001b[0m\u001b[1;33m\u001b[0m\u001b[0m\n\u001b[0m\u001b[0;32m      2\u001b[0m \u001b[1;33m\u001b[0m\u001b[0m\n",
      "\u001b[1;31mTypeError\u001b[0m: unsupported operand type(s) for -: 'set' and 'list'"
     ]
    }
   ],
   "source": [
    "set6 = set1 - set2 - lst3\n",
    "\n"
   ]
  },
  {
   "cell_type": "code",
   "execution_count": 78,
   "id": "9be995c2",
   "metadata": {},
   "outputs": [
    {
     "name": "stdout",
     "output_type": "stream",
     "text": [
      "None\n",
      "{'b', 'd', 'a'}\n"
     ]
    }
   ],
   "source": [
    "# difference_update\n",
    "\n",
    "set1 = set('abcde')\n",
    "set2 = set('jkbcla')\n",
    "lst3 = list('mlcen')\n",
    "\n",
    "set4DU = set1.difference_update(lst3)\n",
    "\n",
    "print(set4DU)\n",
    "print(set1)"
   ]
  },
  {
   "cell_type": "code",
   "execution_count": 79,
   "id": "879d565b",
   "metadata": {},
   "outputs": [
    {
     "name": "stdout",
     "output_type": "stream",
     "text": [
      "{'l', 'j', 'k', 'e', 'd'}\n"
     ]
    }
   ],
   "source": [
    "# symmetric_difference and symmetric_difference_update \n",
    "\n",
    "set1 = set('abcde')\n",
    "set2 = set('jkbcla')\n",
    "set3 = set('mlcen')\n",
    "\n",
    "set4 = set1.symmetric_difference(set2)\n",
    "\n",
    "print(set4)"
   ]
  },
  {
   "cell_type": "code",
   "execution_count": 80,
   "id": "06ca8160",
   "metadata": {},
   "outputs": [
    {
     "ename": "TypeError",
     "evalue": "set.symmetric_difference() takes exactly one argument (2 given)",
     "output_type": "error",
     "traceback": [
      "\u001b[1;31m---------------------------------------------------------------------------\u001b[0m",
      "\u001b[1;31mTypeError\u001b[0m                                 Traceback (most recent call last)",
      "\u001b[1;32m~\\AppData\\Local\\Temp\\ipykernel_4252\\1562213181.py\u001b[0m in \u001b[0;36m<module>\u001b[1;34m\u001b[0m\n\u001b[1;32m----> 1\u001b[1;33m \u001b[0mset5\u001b[0m \u001b[1;33m=\u001b[0m \u001b[0mset1\u001b[0m\u001b[1;33m.\u001b[0m\u001b[0msymmetric_difference\u001b[0m\u001b[1;33m(\u001b[0m\u001b[0mset2\u001b[0m\u001b[1;33m,\u001b[0m\u001b[0mset3\u001b[0m\u001b[1;33m)\u001b[0m\u001b[1;33m\u001b[0m\u001b[1;33m\u001b[0m\u001b[0m\n\u001b[0m\u001b[0;32m      2\u001b[0m \u001b[1;33m\u001b[0m\u001b[0m\n\u001b[0;32m      3\u001b[0m \u001b[0mprint\u001b[0m\u001b[1;33m(\u001b[0m\u001b[0mset5\u001b[0m\u001b[1;33m)\u001b[0m\u001b[1;33m\u001b[0m\u001b[1;33m\u001b[0m\u001b[0m\n",
      "\u001b[1;31mTypeError\u001b[0m: set.symmetric_difference() takes exactly one argument (2 given)"
     ]
    }
   ],
   "source": [
    "set5 = set1.symmetric_difference(set2,set3)\n",
    "\n",
    "print(set5)"
   ]
  },
  {
   "cell_type": "code",
   "execution_count": 81,
   "id": "235fcd41",
   "metadata": {},
   "outputs": [
    {
     "name": "stdout",
     "output_type": "stream",
     "text": [
      "{'l', 'j', 'k', 'e', 'd'}\n"
     ]
    }
   ],
   "source": [
    "# symmetric_difference operator ^\n",
    "\n",
    "set6 = set1 ^ set2\n",
    "\n",
    "print(set6)"
   ]
  },
  {
   "cell_type": "code",
   "execution_count": 82,
   "id": "9c6800f1",
   "metadata": {},
   "outputs": [
    {
     "name": "stdout",
     "output_type": "stream",
     "text": [
      "None\n",
      "{'l', 'j', 'e', 'd', 'k'}\n",
      "{'l', 'j', 'b', 'k', 'a', 'c'}\n"
     ]
    }
   ],
   "source": [
    "# symmetric_difference_update\n",
    "\n",
    "set7SDU = set1.symmetric_difference_update(set2)\n",
    "\n",
    "print(set7SDU)\n",
    "print(set1)\n",
    "print(set2)"
   ]
  },
  {
   "cell_type": "code",
   "execution_count": 83,
   "id": "e3678f8a",
   "metadata": {},
   "outputs": [
    {
     "name": "stdout",
     "output_type": "stream",
     "text": [
      "True\n"
     ]
    }
   ],
   "source": [
    "#subset, superset, isdisjoint\n",
    "\n",
    "set1 = set('abc')\n",
    "set2 = set('abcde')\n",
    "\n",
    "print(set1.issubset(set2))\n",
    "\n"
   ]
  },
  {
   "cell_type": "code",
   "execution_count": 84,
   "id": "caed3307",
   "metadata": {},
   "outputs": [
    {
     "name": "stdout",
     "output_type": "stream",
     "text": [
      "True\n"
     ]
    }
   ],
   "source": [
    "# operator for subset - <=\n",
    "\n",
    "print(set1 <= set2)\n",
    "\n"
   ]
  },
  {
   "cell_type": "code",
   "execution_count": 85,
   "id": "d0802fa9",
   "metadata": {},
   "outputs": [
    {
     "name": "stdout",
     "output_type": "stream",
     "text": [
      "True\n"
     ]
    }
   ],
   "source": [
    "set1 = set('abcde')\n",
    "set2 = set('abcde')\n",
    "\n",
    "print(set1.issubset(set2))\n"
   ]
  },
  {
   "cell_type": "code",
   "execution_count": 86,
   "id": "f4daedeb",
   "metadata": {},
   "outputs": [
    {
     "name": "stdout",
     "output_type": "stream",
     "text": [
      "True\n"
     ]
    }
   ],
   "source": [
    "print(set1 <= set2)"
   ]
  },
  {
   "cell_type": "code",
   "execution_count": 87,
   "id": "71fde5e6",
   "metadata": {},
   "outputs": [
    {
     "name": "stdout",
     "output_type": "stream",
     "text": [
      "False\n"
     ]
    }
   ],
   "source": [
    "# Operator for PROPER subset - <\n",
    "\n",
    "print(set1 < set2)"
   ]
  },
  {
   "cell_type": "code",
   "execution_count": 88,
   "id": "09849245",
   "metadata": {},
   "outputs": [
    {
     "name": "stdout",
     "output_type": "stream",
     "text": [
      "True\n"
     ]
    }
   ],
   "source": [
    "set1 = set('abc')\n",
    "set2 = set('abcde')\n",
    "\n",
    "print(set2.issuperset(set1))\n",
    "\n"
   ]
  },
  {
   "cell_type": "code",
   "execution_count": 89,
   "id": "5436d064",
   "metadata": {},
   "outputs": [
    {
     "name": "stdout",
     "output_type": "stream",
     "text": [
      "False\n"
     ]
    }
   ],
   "source": [
    "print(set1.issuperset(set2))"
   ]
  },
  {
   "cell_type": "code",
   "execution_count": 90,
   "id": "7122f207",
   "metadata": {},
   "outputs": [
    {
     "name": "stdout",
     "output_type": "stream",
     "text": [
      "True\n"
     ]
    }
   ],
   "source": [
    "# operator for superset - >= \n",
    "print(set2 >= set1)"
   ]
  },
  {
   "cell_type": "code",
   "execution_count": 91,
   "id": "a358b4f9",
   "metadata": {},
   "outputs": [
    {
     "name": "stdout",
     "output_type": "stream",
     "text": [
      "False\n"
     ]
    }
   ],
   "source": [
    "#operator for PROPER supserset\n",
    "\n",
    "set1 = set('abcde')\n",
    "set2 = set('abcde')\n",
    "\n",
    "print(set2 > set1)\n",
    "\n"
   ]
  },
  {
   "cell_type": "code",
   "execution_count": 92,
   "id": "71ebd0a3",
   "metadata": {},
   "outputs": [
    {
     "name": "stdout",
     "output_type": "stream",
     "text": [
      "True\n"
     ]
    }
   ],
   "source": [
    "# isdisjoint\n",
    "\n",
    "set1 = set('abcde')\n",
    "set2 = set('jklmno')\n",
    "set3 = set('abclmn')\n",
    "\n",
    "\n",
    "print(set1.isdisjoint(set2))\n"
   ]
  },
  {
   "cell_type": "code",
   "execution_count": 93,
   "id": "912187c4",
   "metadata": {},
   "outputs": [
    {
     "name": "stdout",
     "output_type": "stream",
     "text": [
      "False\n"
     ]
    }
   ],
   "source": [
    "print(set2.isdisjoint(set3))"
   ]
  },
  {
   "cell_type": "code",
   "execution_count": 94,
   "id": "e56a5174",
   "metadata": {},
   "outputs": [
    {
     "name": "stdout",
     "output_type": "stream",
     "text": [
      "True\n",
      "False\n"
     ]
    }
   ],
   "source": [
    "set1 = set('abcde')\n",
    "set2 = set('abcde')\n",
    "set3 = set('abc')\n",
    "\n",
    "print(set1 == set2)\n",
    "\n",
    "print(set2 == set3)"
   ]
  },
  {
   "cell_type": "code",
   "execution_count": 95,
   "id": "396796f9",
   "metadata": {},
   "outputs": [],
   "source": [
    "# Can we have NESTED sets i.e. set in a set - NO\n",
    "\n",
    "# Can we have nested FROZEN sets - i.e. frozenset in frozenset - Yes"
   ]
  },
  {
   "cell_type": "markdown",
   "id": "b3857307",
   "metadata": {},
   "source": [
    "### Frozen sets"
   ]
  },
  {
   "cell_type": "code",
   "execution_count": null,
   "id": "cca74292",
   "metadata": {},
   "outputs": [],
   "source": [
    "# Frozen sets are simply IMMUTABLE sets. \n",
    "\n",
    "#1. Derived\n",
    "#2. Immutable\n",
    "#3. Immutable and Unique (can be heterogenous immutable types)\n",
    "#4. Unordered\n",
    "#5. Subscription - not supported\n",
    "#6. Iterable."
   ]
  },
  {
   "cell_type": "code",
   "execution_count": 96,
   "id": "5606450a",
   "metadata": {},
   "outputs": [],
   "source": [
    "# FrozenSet methods\n",
    "\n",
    "# copy\n",
    "\n",
    "# difference\n",
    "# intersection\n",
    "# symmetric_difference\n",
    "# union\n",
    "\n",
    "# isdisjoint\n",
    "# isssubset\n",
    "# issuperset\n"
   ]
  },
  {
   "cell_type": "code",
   "execution_count": 97,
   "id": "ce098176",
   "metadata": {},
   "outputs": [
    {
     "name": "stdout",
     "output_type": "stream",
     "text": [
      "['__and__', '__class__', '__class_getitem__', '__contains__', '__delattr__', '__dir__', '__doc__', '__eq__', '__format__', '__ge__', '__getattribute__', '__gt__', '__hash__', '__init__', '__init_subclass__', '__iter__', '__le__', '__len__', '__lt__', '__ne__', '__new__', '__or__', '__rand__', '__reduce__', '__reduce_ex__', '__repr__', '__ror__', '__rsub__', '__rxor__', '__setattr__', '__sizeof__', '__str__', '__sub__', '__subclasshook__', '__xor__', 'copy', 'difference', 'intersection', 'isdisjoint', 'issubset', 'issuperset', 'symmetric_difference', 'union']\n"
     ]
    }
   ],
   "source": [
    "print(dir(frozenset))"
   ]
  },
  {
   "cell_type": "code",
   "execution_count": 98,
   "id": "aa2715de",
   "metadata": {},
   "outputs": [
    {
     "name": "stdout",
     "output_type": "stream",
     "text": [
      "frozenset({1, 2, 3, 4})\n"
     ]
    }
   ],
   "source": [
    "fset1 = frozenset([1,2,3,4])\n",
    "\n",
    "print(fset1)"
   ]
  },
  {
   "cell_type": "code",
   "execution_count": 99,
   "id": "a050d75f",
   "metadata": {},
   "outputs": [
    {
     "ename": "AttributeError",
     "evalue": "'frozenset' object has no attribute 'add'",
     "output_type": "error",
     "traceback": [
      "\u001b[1;31m---------------------------------------------------------------------------\u001b[0m",
      "\u001b[1;31mAttributeError\u001b[0m                            Traceback (most recent call last)",
      "\u001b[1;32m~\\AppData\\Local\\Temp\\ipykernel_4252\\2120502487.py\u001b[0m in \u001b[0;36m<module>\u001b[1;34m\u001b[0m\n\u001b[1;32m----> 1\u001b[1;33m \u001b[0mfset1\u001b[0m\u001b[1;33m.\u001b[0m\u001b[0madd\u001b[0m\u001b[1;33m(\u001b[0m\u001b[1;36m5\u001b[0m\u001b[1;33m)\u001b[0m\u001b[1;33m\u001b[0m\u001b[1;33m\u001b[0m\u001b[0m\n\u001b[0m",
      "\u001b[1;31mAttributeError\u001b[0m: 'frozenset' object has no attribute 'add'"
     ]
    }
   ],
   "source": [
    "fset1.add(5)"
   ]
  },
  {
   "cell_type": "code",
   "execution_count": 100,
   "id": "55f9be0c",
   "metadata": {},
   "outputs": [
    {
     "name": "stdout",
     "output_type": "stream",
     "text": [
      "<class 'frozenset'>\n"
     ]
    }
   ],
   "source": [
    "print(type(fset1))"
   ]
  },
  {
   "cell_type": "code",
   "execution_count": null,
   "id": "7ce30981",
   "metadata": {},
   "outputs": [],
   "source": []
  }
 ],
 "metadata": {
  "kernelspec": {
   "display_name": "Python 3 (ipykernel)",
   "language": "python",
   "name": "python3"
  },
  "language_info": {
   "codemirror_mode": {
    "name": "ipython",
    "version": 3
   },
   "file_extension": ".py",
   "mimetype": "text/x-python",
   "name": "python",
   "nbconvert_exporter": "python",
   "pygments_lexer": "ipython3",
   "version": "3.9.13"
  }
 },
 "nbformat": 4,
 "nbformat_minor": 5
}
