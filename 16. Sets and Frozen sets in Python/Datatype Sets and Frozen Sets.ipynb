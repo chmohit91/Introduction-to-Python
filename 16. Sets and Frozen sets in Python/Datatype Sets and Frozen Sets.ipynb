{
 "cells": [
  {
   "cell_type": "markdown",
   "id": "461dcbef",
   "metadata": {},
   "source": [
    "# Datatype Sets (and Frozen Sets)"
   ]
  },
  {
   "cell_type": "code",
   "execution_count": null,
   "id": "17c01754",
   "metadata": {},
   "outputs": [],
   "source": [
    "#Sets are a special datatype in Python. They are loosely meant to perform mathematical set operations such as union, \n",
    "# intercection etc. \n",
    "\n",
    "# As in mathematical sets, a set in Python cannot have duplicate elements. \n",
    "\n",
    "#Sets in Python are : \n",
    "\n",
    "#1. A derived data type. \n",
    "#2. They are mutable themselves.\n",
    "#3. However, the objects (references) in sets must be of immutable type. They must be unique\n",
    "#4. Sequential i.e. containing other objects(or specifically the reference to the memory id of those objects)\n",
    "#5. UNORDERED - here is where sets differ from most(all?) other datatypes. The sequence of input in sets is not maintained\n",
    "# i.e. the elements in the set may appear in any order and may even differ from iteration to iteration. (Note - mostly, if \n",
    "# run iteration one after the other in same program - USUALLY the output order is the same - but no guarantees. However, \n",
    "# users have noticed that output differs when program is stopped and restarted - output order changes. All this is because\n",
    "# of a Hash seed randomisation which is default in Python and is a security measure).\n",
    "#6. Since Sets are unordered - the do not support indexing or slicing. \n",
    "#7. Since they are sequential, they can be iterated over but the output order cannot be guaranteed. \n",
    "#8. Heterogenous"
   ]
  },
  {
   "cell_type": "code",
   "execution_count": null,
   "id": "a23eac91",
   "metadata": {},
   "outputs": [],
   "source": [
    "set1 = set('abcdefghijklmnopqrstuvwxyz')\n",
    "\n",
    "print(set1)"
   ]
  },
  {
   "cell_type": "code",
   "execution_count": null,
   "id": "c602f76c",
   "metadata": {},
   "outputs": [],
   "source": [
    "set1 = {7,14,2,3,17,19,75, 4, 'a', 'Z', 2+3j}\n",
    "set2 = {10.2, 14,3,21, 'Z', 'x', 100}\n",
    "\n",
    "set3 = set1.union(set2)\n",
    "\n",
    "print(set3)"
   ]
  },
  {
   "cell_type": "code",
   "execution_count": null,
   "id": "1ef23be4",
   "metadata": {},
   "outputs": [],
   "source": [
    "lst1 = list('abcdefabcdeghijklmnop')\n",
    "\n",
    "print(lst1)"
   ]
  },
  {
   "cell_type": "code",
   "execution_count": null,
   "id": "6255d7b0",
   "metadata": {},
   "outputs": [],
   "source": [
    "set1 = set('abcdefghijklmnop')\n",
    "\n",
    "print(set1)"
   ]
  },
  {
   "cell_type": "code",
   "execution_count": null,
   "id": "2afa5a45",
   "metadata": {},
   "outputs": [],
   "source": [
    "for x in set1:\n",
    "    print(x)"
   ]
  },
  {
   "cell_type": "code",
   "execution_count": null,
   "id": "f5a05823",
   "metadata": {},
   "outputs": [],
   "source": [
    "#Initialising sets\n",
    "set1 = {1,2,3,4,1,7,3}\n",
    "\n",
    "print(set1)\n",
    "print(type(set1))"
   ]
  },
  {
   "cell_type": "code",
   "execution_count": null,
   "id": "f358738a",
   "metadata": {},
   "outputs": [],
   "source": [
    "set2 = {}\n",
    "\n",
    "print(set2)\n",
    "print(type(set2))"
   ]
  },
  {
   "cell_type": "code",
   "execution_count": null,
   "id": "7c7024df",
   "metadata": {},
   "outputs": [],
   "source": [
    "import numpy as np\n",
    "\n",
    "lst1 = list(np.random.randint(1,100,200))\n",
    "\n",
    "print(lst1)\n",
    "print(len(lst1))"
   ]
  },
  {
   "cell_type": "code",
   "execution_count": null,
   "id": "8b24acf9",
   "metadata": {},
   "outputs": [],
   "source": [
    "lst2 = list(set(lst1))\n",
    "\n",
    "\n",
    "# lst2 = []\n",
    "# for x in lst1:\n",
    "#     if x not in lst2:\n",
    "#         lst2.append(x)\n",
    "print(lst2)\n",
    "print(len(lst2))"
   ]
  },
  {
   "cell_type": "code",
   "execution_count": null,
   "id": "38a7aaae",
   "metadata": {},
   "outputs": [],
   "source": [
    "lst2.sort()\n",
    "\n",
    "print(lst2)"
   ]
  },
  {
   "cell_type": "code",
   "execution_count": null,
   "id": "6c2b7284",
   "metadata": {},
   "outputs": [],
   "source": [
    "set2 = set(lst2)\n",
    "\n",
    "print(set2)"
   ]
  },
  {
   "cell_type": "code",
   "execution_count": null,
   "id": "020a834b",
   "metadata": {},
   "outputs": [],
   "source": [
    "lst = list((1,2,3,4))\n",
    "\n",
    "print(lst)"
   ]
  },
  {
   "cell_type": "code",
   "execution_count": null,
   "id": "fc94bca8",
   "metadata": {},
   "outputs": [],
   "source": [
    "set2 = set((1,2,3,4,1,7,3))\n",
    "\n",
    "#As with other constructors we have seen for lists and tuples, there must be only one iterable in the call to the set \n",
    "# constructor or it throws an error\n",
    "\n",
    "print(set2)"
   ]
  },
  {
   "cell_type": "code",
   "execution_count": null,
   "id": "d216ae79",
   "metadata": {},
   "outputs": [],
   "source": []
  },
  {
   "cell_type": "code",
   "execution_count": null,
   "id": "ecad8578",
   "metadata": {},
   "outputs": [],
   "source": [
    "set2 = set([1,2,3,4,1,7,3])\n",
    "\n",
    "print(set2)"
   ]
  },
  {
   "cell_type": "code",
   "execution_count": null,
   "id": "a656052e",
   "metadata": {},
   "outputs": [],
   "source": [
    "set3 = set('abcdef')\n",
    "\n",
    "print(set3)"
   ]
  },
  {
   "cell_type": "code",
   "execution_count": null,
   "id": "8a8992dc",
   "metadata": {},
   "outputs": [],
   "source": [
    "print(set3[0])"
   ]
  },
  {
   "cell_type": "code",
   "execution_count": null,
   "id": "5744c66e",
   "metadata": {},
   "outputs": [],
   "source": [
    "for x in set3:\n",
    "    print(x)"
   ]
  },
  {
   "cell_type": "code",
   "execution_count": null,
   "id": "925ae9c7",
   "metadata": {},
   "outputs": [],
   "source": [
    "set4 = set()\n",
    "\n",
    "print(type(set4))"
   ]
  },
  {
   "cell_type": "code",
   "execution_count": null,
   "id": "0e7deaa2",
   "metadata": {},
   "outputs": [],
   "source": [
    "set5 = {}\n",
    "\n",
    "print(set5)\n",
    "print(type(set5))"
   ]
  },
  {
   "cell_type": "code",
   "execution_count": null,
   "id": "ff8ada86",
   "metadata": {},
   "outputs": [],
   "source": [
    "#Note how the input order has not been maintained in the above case. "
   ]
  },
  {
   "cell_type": "code",
   "execution_count": null,
   "id": "436943a1",
   "metadata": {},
   "outputs": [],
   "source": [
    "#Set operations and Methods"
   ]
  },
  {
   "cell_type": "code",
   "execution_count": 2,
   "id": "1f82ad50",
   "metadata": {},
   "outputs": [
    {
     "ename": "TypeError",
     "evalue": "unhashable type: 'list'",
     "output_type": "error",
     "traceback": [
      "\u001b[1;31m---------------------------------------------------------------------------\u001b[0m",
      "\u001b[1;31mTypeError\u001b[0m                                 Traceback (most recent call last)",
      "\u001b[1;32m~\\AppData\\Local\\Temp\\ipykernel_10496\\3115944942.py\u001b[0m in \u001b[0;36m<module>\u001b[1;34m\u001b[0m\n\u001b[1;32m----> 1\u001b[1;33m \u001b[0mset4\u001b[0m \u001b[1;33m=\u001b[0m \u001b[0mset\u001b[0m\u001b[1;33m(\u001b[0m\u001b[1;33m[\u001b[0m\u001b[1;36m1\u001b[0m\u001b[1;33m,\u001b[0m\u001b[1;36m2\u001b[0m\u001b[1;33m,\u001b[0m\u001b[1;33m(\u001b[0m\u001b[1;36m7\u001b[0m\u001b[1;33m,\u001b[0m\u001b[1;36m8\u001b[0m\u001b[1;33m,\u001b[0m\u001b[1;36m9\u001b[0m\u001b[1;33m)\u001b[0m\u001b[1;33m,\u001b[0m\u001b[1;34m'abc'\u001b[0m\u001b[1;33m,\u001b[0m\u001b[1;33m(\u001b[0m\u001b[1;34m'xyz'\u001b[0m\u001b[1;33m,\u001b[0m \u001b[1;33m[\u001b[0m\u001b[1;36m100\u001b[0m\u001b[1;33m,\u001b[0m\u001b[1;36m200\u001b[0m\u001b[1;33m]\u001b[0m\u001b[1;33m)\u001b[0m\u001b[1;33m]\u001b[0m\u001b[1;33m)\u001b[0m\u001b[1;33m\u001b[0m\u001b[1;33m\u001b[0m\u001b[0m\n\u001b[0m\u001b[0;32m      2\u001b[0m \u001b[1;33m\u001b[0m\u001b[0m\n\u001b[0;32m      3\u001b[0m \u001b[0mprint\u001b[0m\u001b[1;33m(\u001b[0m\u001b[0mset4\u001b[0m\u001b[1;33m)\u001b[0m\u001b[1;33m\u001b[0m\u001b[1;33m\u001b[0m\u001b[0m\n",
      "\u001b[1;31mTypeError\u001b[0m: unhashable type: 'list'"
     ]
    }
   ],
   "source": [
    " set4 = set([1,2,(7,8,9),'abc',('xyz', [100,200])])\n",
    "    \n",
    "print(set4)"
   ]
  },
  {
   "cell_type": "code",
   "execution_count": null,
   "id": "158ac641",
   "metadata": {},
   "outputs": [],
   "source": [
    "#Note the error above since we are trying to use a mutable datatype in sets. \n",
    "\n",
    "set5 = set([1,2,'abc',['xyz', 'pqrst']])\n",
    "print(set5)"
   ]
  },
  {
   "cell_type": "code",
   "execution_count": null,
   "id": "b11f707d",
   "metadata": {},
   "outputs": [],
   "source": [
    "tup1 = (1,2,3,[100,200,300])\n",
    "\n",
    "print(tup1)\n",
    "print(type(tup1))\n",
    "\n",
    "set5 = set(tup1)"
   ]
  },
  {
   "cell_type": "code",
   "execution_count": null,
   "id": "868187e7",
   "metadata": {},
   "outputs": [],
   "source": [
    "set6 = {1,2,'abc',('xyz', 'pqrst'),tup1}\n",
    "\n",
    "print(set6)"
   ]
  },
  {
   "cell_type": "code",
   "execution_count": null,
   "id": "9746b22c",
   "metadata": {},
   "outputs": [],
   "source": [
    "#Note how I cannot trick the set into accepting a mutable type inside the immutable tup1 object. \n",
    "\n",
    "tup2 = 1,2,3\n",
    "\n",
    "print(tup2)\n",
    "print(type(tup2))"
   ]
  },
  {
   "cell_type": "code",
   "execution_count": null,
   "id": "810d0be1",
   "metadata": {},
   "outputs": [],
   "source": [
    "set7 = set([1,2,'abc',('xyz', 'pqrst'),tup2])\n",
    "\n",
    "print(set7)"
   ]
  },
  {
   "cell_type": "code",
   "execution_count": null,
   "id": "792bcc71",
   "metadata": {},
   "outputs": [],
   "source": [
    "#"
   ]
  },
  {
   "cell_type": "code",
   "execution_count": 3,
   "id": "d818095a",
   "metadata": {},
   "outputs": [
    {
     "name": "stdout",
     "output_type": "stream",
     "text": [
      "5\n"
     ]
    }
   ],
   "source": [
    "#len() - Python built-in len() function works on Sets since they are sequential or collection of objects. \n",
    "\n",
    "set_len = len(set4)\n",
    "\n",
    "print(set_len)"
   ]
  },
  {
   "cell_type": "code",
   "execution_count": null,
   "id": "4b923de9",
   "metadata": {},
   "outputs": [],
   "source": [
    "#Iteration on sets works.\n",
    "\n",
    "set7 = set(range(20))\n",
    "print(set7)\n",
    "\n",
    "\n"
   ]
  },
  {
   "cell_type": "code",
   "execution_count": null,
   "id": "9cd4f8a5",
   "metadata": {},
   "outputs": [],
   "source": [
    "for x in set7:\n",
    "    print(x)"
   ]
  },
  {
   "cell_type": "code",
   "execution_count": null,
   "id": "24c93cb1",
   "metadata": {},
   "outputs": [],
   "source": [
    "lst1 = list(range(1,100))\n",
    "lst2 = list(range(1,1000,10))\n",
    "\n",
    "#print(lst1)\n"
   ]
  },
  {
   "cell_type": "code",
   "execution_count": null,
   "id": "ab8fb110",
   "metadata": {},
   "outputs": [],
   "source": [
    "#print(lst2)"
   ]
  },
  {
   "cell_type": "code",
   "execution_count": null,
   "id": "f29cbca0",
   "metadata": {},
   "outputs": [],
   "source": [
    "lst3 = lst1+lst2\n",
    "\n",
    "print(lst3)"
   ]
  },
  {
   "cell_type": "code",
   "execution_count": null,
   "id": "ee1e4fc2",
   "metadata": {},
   "outputs": [],
   "source": [
    "setset = set(lst3)\n",
    "\n",
    "print(setset)"
   ]
  },
  {
   "cell_type": "code",
   "execution_count": null,
   "id": "99fafd69",
   "metadata": {},
   "outputs": [],
   "source": [
    "set_lst = sorted(setset)\n",
    "\n",
    "print(set_lst)"
   ]
  },
  {
   "cell_type": "code",
   "execution_count": null,
   "id": "0ba9fd5c",
   "metadata": {},
   "outputs": [],
   "source": [
    "print(setset)"
   ]
  },
  {
   "cell_type": "code",
   "execution_count": null,
   "id": "721df0ba",
   "metadata": {},
   "outputs": [],
   "source": [
    "set_lst = sorted(set(lst3))\n",
    "\n",
    "print(set_lst)"
   ]
  },
  {
   "cell_type": "code",
   "execution_count": null,
   "id": "d0aa0bec",
   "metadata": {},
   "outputs": [],
   "source": [
    "print(set7)"
   ]
  },
  {
   "cell_type": "code",
   "execution_count": null,
   "id": "c313e16e",
   "metadata": {},
   "outputs": [],
   "source": [
    "for x in set7:\n",
    "    print(x)"
   ]
  },
  {
   "cell_type": "code",
   "execution_count": null,
   "id": "b2a698df",
   "metadata": {},
   "outputs": [],
   "source": [
    "set1 = sorted(set('xyzabcpqrdef'))\n",
    "\n",
    "print(set1)"
   ]
  },
  {
   "cell_type": "code",
   "execution_count": null,
   "id": "1cb4d113",
   "metadata": {},
   "outputs": [],
   "source": [
    "set2 = set(set1)\n",
    "\n",
    "print(set2)"
   ]
  },
  {
   "cell_type": "code",
   "execution_count": null,
   "id": "8cb862ec",
   "metadata": {},
   "outputs": [],
   "source": [
    "print(max(set2))"
   ]
  },
  {
   "cell_type": "code",
   "execution_count": null,
   "id": "3de63d44",
   "metadata": {},
   "outputs": [],
   "source": [
    "#Note however, the output order cannot be guaranteed, if output order needs to be maintained, it is best to convert the\n",
    "#set to another datatype. \n",
    "\n",
    "lst3 = list(set7)\n",
    "\n",
    "print(lst3)"
   ]
  },
  {
   "cell_type": "code",
   "execution_count": null,
   "id": "fe8e13da",
   "metadata": {},
   "outputs": [],
   "source": []
  },
  {
   "cell_type": "code",
   "execution_count": null,
   "id": "2f1cf044",
   "metadata": {},
   "outputs": [],
   "source": [
    "#Once converted to list, the order of lst3 will be maintained from iteration to iteration, program run to program run, \n",
    "# machine to machine, Python Interpreter and implementation version to Python interpreter and implementation. "
   ]
  },
  {
   "cell_type": "code",
   "execution_count": null,
   "id": "33fc4d81",
   "metadata": {},
   "outputs": [],
   "source": [
    "print(dir(list))"
   ]
  },
  {
   "cell_type": "code",
   "execution_count": null,
   "id": "9006e231",
   "metadata": {},
   "outputs": [],
   "source": [
    "lst1 = [7, 8, 9, 12, 14, 12, 23]\n",
    "lst2 = [0, 13, 3, 8, 9, 14, 37,31,27, 8.0]\n",
    "set4x = [7,8, 21, 17, 47, 51]\n",
    "\n",
    "setl1 = set(lst1)\n",
    "setl2 = set(lst2)\n",
    "set1 = setl1.union(lst2, set4x)\n",
    "\n",
    "print(set1)\n",
    "print(setl1)\n",
    "print(setl2)\n",
    "\n"
   ]
  },
  {
   "cell_type": "code",
   "execution_count": null,
   "id": "c9ec9610",
   "metadata": {},
   "outputs": [],
   "source": []
  },
  {
   "cell_type": "code",
   "execution_count": null,
   "id": "2cb4c857",
   "metadata": {},
   "outputs": [],
   "source": [
    "set4 = setl1.update(setl2, set4x)\n",
    "\n",
    "print(set4)\n",
    "print(setl1)\n",
    "print(setl2)"
   ]
  },
  {
   "cell_type": "code",
   "execution_count": null,
   "id": "fe82a173",
   "metadata": {},
   "outputs": [],
   "source": [
    "set1a = setl1|lst2\n",
    "print(set1a)"
   ]
  },
  {
   "cell_type": "code",
   "execution_count": 5,
   "id": "0491e35a",
   "metadata": {},
   "outputs": [],
   "source": [
    "set1 = {7, 8, 9, 12, 14, 12, 23}"
   ]
  },
  {
   "cell_type": "code",
   "execution_count": 6,
   "id": "f7c8f3e2",
   "metadata": {},
   "outputs": [
    {
     "name": "stdout",
     "output_type": "stream",
     "text": [
      "{23, 7, 8, 9, 12, 14}\n"
     ]
    }
   ],
   "source": [
    "#Membership operators in sets work as we have seen in other datatypes.\n",
    "print(set1)"
   ]
  },
  {
   "cell_type": "code",
   "execution_count": 7,
   "id": "e6b386d7",
   "metadata": {},
   "outputs": [
    {
     "name": "stdout",
     "output_type": "stream",
     "text": [
      "False\n"
     ]
    }
   ],
   "source": [
    "print(2 in set1)"
   ]
  },
  {
   "cell_type": "code",
   "execution_count": 8,
   "id": "59548820",
   "metadata": {},
   "outputs": [
    {
     "name": "stdout",
     "output_type": "stream",
     "text": [
      "True\n"
     ]
    }
   ],
   "source": [
    "print(8 in set1)"
   ]
  },
  {
   "cell_type": "code",
   "execution_count": 9,
   "id": "fd7dad6c",
   "metadata": {},
   "outputs": [
    {
     "name": "stdout",
     "output_type": "stream",
     "text": [
      "True\n"
     ]
    }
   ],
   "source": [
    "print(2 not in set1)\n"
   ]
  },
  {
   "cell_type": "code",
   "execution_count": 10,
   "id": "663cd669",
   "metadata": {},
   "outputs": [
    {
     "name": "stdout",
     "output_type": "stream",
     "text": [
      "False\n"
     ]
    }
   ],
   "source": [
    "print(8 not in set1)"
   ]
  },
  {
   "cell_type": "code",
   "execution_count": 11,
   "id": "ef436f49",
   "metadata": {},
   "outputs": [
    {
     "name": "stdout",
     "output_type": "stream",
     "text": [
      "{'f', 'a', 'i', 'e', 'b', 'g', 'd', 'h', 'j', 'c'}\n",
      "2081999208224\n"
     ]
    }
   ],
   "source": [
    "#.add() method adds an element to a python set. \n",
    "\n",
    "set1 = set('abcdefghij')\n",
    "print(set1)\n",
    "id1 = id(set1)\n",
    "print(id1)"
   ]
  },
  {
   "cell_type": "code",
   "execution_count": 12,
   "id": "4f412f30",
   "metadata": {},
   "outputs": [
    {
     "name": "stdout",
     "output_type": "stream",
     "text": [
      "{'f', 'a', 'i', 'e', 'b', 'g', 'd', 'h', 'j', 'k', 'c'}\n",
      "2081999208224\n"
     ]
    }
   ],
   "source": [
    "set1.add('k')\n",
    "\n",
    "print(set1)\n",
    "print(id(set1))"
   ]
  },
  {
   "cell_type": "code",
   "execution_count": null,
   "id": "e846264c",
   "metadata": {},
   "outputs": [],
   "source": [
    "returnset = set1.add('l')\n",
    "\n",
    "print(returnset)\n",
    "print(set1)\n",
    "print(id(set1))"
   ]
  },
  {
   "cell_type": "code",
   "execution_count": null,
   "id": "9bb0e60e",
   "metadata": {},
   "outputs": [],
   "source": [
    "set1.add('a')\n",
    "\n",
    "print(set1)\n",
    "print(id(set1))"
   ]
  },
  {
   "cell_type": "code",
   "execution_count": null,
   "id": "b54e195c",
   "metadata": {},
   "outputs": [],
   "source": [
    "id2 = id(set1)\n",
    "print(set1)"
   ]
  },
  {
   "cell_type": "code",
   "execution_count": null,
   "id": "9d6a08a7",
   "metadata": {},
   "outputs": [],
   "source": [
    "print(returnset)"
   ]
  },
  {
   "cell_type": "code",
   "execution_count": null,
   "id": "77b32bc5",
   "metadata": {},
   "outputs": [],
   "source": [
    "print(id1, id2)"
   ]
  },
  {
   "cell_type": "code",
   "execution_count": null,
   "id": "b2cc11b1",
   "metadata": {},
   "outputs": [],
   "source": [
    "#A set is mutable (but elements of a set should be immutable) so the memory id after add does not change. Add modifies the\n",
    "# original set\n",
    "\n",
    "set2 = set1.add(200)\n",
    "\n",
    "print(set1)\n",
    "print(set2)"
   ]
  },
  {
   "cell_type": "code",
   "execution_count": null,
   "id": "725b54ef",
   "metadata": {},
   "outputs": [],
   "source": [
    "#As you can see, there is no return from the add method and therefore variable set2 returned None. "
   ]
  },
  {
   "cell_type": "code",
   "execution_count": null,
   "id": "b90f3b12",
   "metadata": {},
   "outputs": [],
   "source": [
    "set1.add(20200)\n",
    "\n",
    "print(set1)"
   ]
  },
  {
   "cell_type": "code",
   "execution_count": null,
   "id": "b81fb835",
   "metadata": {},
   "outputs": [],
   "source": [
    "set1.add(20200)\n",
    "\n",
    "print(set1)"
   ]
  },
  {
   "cell_type": "code",
   "execution_count": null,
   "id": "5b2f046a",
   "metadata": {},
   "outputs": [],
   "source": [
    "#As you see, the element was not added to set as it was already present and sets cannot hold duplicate values. "
   ]
  },
  {
   "cell_type": "code",
   "execution_count": null,
   "id": "11a9486b",
   "metadata": {},
   "outputs": [],
   "source": [
    "set1.add(201,1001)\n",
    "\n",
    "print(set1)"
   ]
  },
  {
   "cell_type": "code",
   "execution_count": null,
   "id": "6d31b7fc",
   "metadata": {},
   "outputs": [],
   "source": [
    "#We cannot add two elements at a time using the add function. \n",
    "\n",
    "#As lists and dictionaries are mutable, they cannot be added to sets. Tuples can be added but they will added as one single\n",
    "# element of the set (with the caveat that the tuple itself does not contain a mutable object as we saw previously)"
   ]
  },
  {
   "cell_type": "code",
   "execution_count": 14,
   "id": "45b70a76",
   "metadata": {},
   "outputs": [
    {
     "ename": "TypeError",
     "evalue": "set.add() takes exactly one argument (2 given)",
     "output_type": "error",
     "traceback": [
      "\u001b[1;31m---------------------------------------------------------------------------\u001b[0m",
      "\u001b[1;31mTypeError\u001b[0m                                 Traceback (most recent call last)",
      "\u001b[1;32m~\\AppData\\Local\\Temp\\ipykernel_10496\\1664150482.py\u001b[0m in \u001b[0;36m<module>\u001b[1;34m\u001b[0m\n\u001b[1;32m----> 1\u001b[1;33m \u001b[0mset1\u001b[0m\u001b[1;33m.\u001b[0m\u001b[0madd\u001b[0m\u001b[1;33m(\u001b[0m\u001b[1;36m1\u001b[0m\u001b[1;33m,\u001b[0m\u001b[1;36m2\u001b[0m\u001b[1;33m)\u001b[0m\u001b[1;33m\u001b[0m\u001b[1;33m\u001b[0m\u001b[0m\n\u001b[0m\u001b[0;32m      2\u001b[0m \u001b[1;33m\u001b[0m\u001b[0m\n\u001b[0;32m      3\u001b[0m \u001b[0mprint\u001b[0m\u001b[1;33m(\u001b[0m\u001b[0mset1\u001b[0m\u001b[1;33m)\u001b[0m\u001b[1;33m\u001b[0m\u001b[1;33m\u001b[0m\u001b[0m\n",
      "\u001b[1;31mTypeError\u001b[0m: set.add() takes exactly one argument (2 given)"
     ]
    }
   ],
   "source": [
    "set1.add(1,2)\n",
    "\n",
    "print(set1)"
   ]
  },
  {
   "cell_type": "code",
   "execution_count": 13,
   "id": "b623767b",
   "metadata": {},
   "outputs": [
    {
     "name": "stdout",
     "output_type": "stream",
     "text": [
      "{'f', 'a', 'i', 'e', 'b', 'g', 'd', 'h', 'j', 'k', 'c'}\n"
     ]
    }
   ],
   "source": [
    "print(set1)"
   ]
  },
  {
   "cell_type": "code",
   "execution_count": 16,
   "id": "5f037639",
   "metadata": {},
   "outputs": [
    {
     "name": "stdout",
     "output_type": "stream",
     "text": [
      "{'f', 'a', 'i', 'e', 'b', 'g', 'd', 'h', 'j', 'k'}\n",
      "None\n"
     ]
    }
   ],
   "source": [
    "#.discard() method for sets removes an element from the set. It takes one parameter the element to be removed. If the\n",
    "# element is present, it is removed, if not the original set is unchanged. \n",
    "\n",
    "set2 = set1.discard('c')\n",
    "\n",
    "print(set1)\n",
    "print(set2)"
   ]
  },
  {
   "cell_type": "code",
   "execution_count": null,
   "id": "cedd2f4e",
   "metadata": {},
   "outputs": [],
   "source": [
    "#Note - no return from the discard method."
   ]
  },
  {
   "cell_type": "code",
   "execution_count": 17,
   "id": "0b8755d4",
   "metadata": {},
   "outputs": [
    {
     "name": "stdout",
     "output_type": "stream",
     "text": [
      "{'f', 'a', 'i', 'e', 'b', 'g', 'd', 'h', 'j', 'k'}\n"
     ]
    }
   ],
   "source": [
    "set1.discard(1001)\n",
    "\n",
    "print(set1)"
   ]
  },
  {
   "cell_type": "code",
   "execution_count": null,
   "id": "0063825e",
   "metadata": {},
   "outputs": [],
   "source": [
    "set1.discard(1,2)\n",
    "print(set1)"
   ]
  },
  {
   "cell_type": "code",
   "execution_count": null,
   "id": "48952ef5",
   "metadata": {},
   "outputs": [],
   "source": [
    "#Note - how there is no error if element not found and set remains unchanged."
   ]
  },
  {
   "cell_type": "code",
   "execution_count": 18,
   "id": "756c3a04",
   "metadata": {},
   "outputs": [
    {
     "name": "stdout",
     "output_type": "stream",
     "text": [
      "{'f', 'a', 'i', 'e', 'b', 'g', 'd', 'h', 'j', 'k'}\n"
     ]
    }
   ],
   "source": [
    "#.remove() method for sets removes specified element from the set. It takes one parameter, the element to be removed. If the\n",
    "# element is present it removes it, if not it raises a KeyError\n",
    "\n",
    "print(set1)"
   ]
  },
  {
   "cell_type": "code",
   "execution_count": null,
   "id": "2de1a900",
   "metadata": {},
   "outputs": [],
   "source": [
    "set1.add(200)"
   ]
  },
  {
   "cell_type": "code",
   "execution_count": null,
   "id": "103bfe7c",
   "metadata": {},
   "outputs": [],
   "source": [
    "print(set1)"
   ]
  },
  {
   "cell_type": "code",
   "execution_count": 19,
   "id": "c4c73af9",
   "metadata": {},
   "outputs": [
    {
     "name": "stdout",
     "output_type": "stream",
     "text": [
      "{'f', 'a', 'i', 'e', 'b', 'g', 'd', 'h', 'k'}\n",
      "None\n"
     ]
    }
   ],
   "source": [
    "set2 = set1.remove('j')\n",
    "\n",
    "print(set1)\n",
    "print(set2)"
   ]
  },
  {
   "cell_type": "code",
   "execution_count": null,
   "id": "61c896d0",
   "metadata": {},
   "outputs": [],
   "source": [
    "#Note how the element is removed from set1 but the original set is modified and there is no return. "
   ]
  },
  {
   "cell_type": "code",
   "execution_count": null,
   "id": "9b34bb55",
   "metadata": {},
   "outputs": [],
   "source": [
    "print(set1)"
   ]
  },
  {
   "cell_type": "code",
   "execution_count": 20,
   "id": "f2360b36",
   "metadata": {},
   "outputs": [
    {
     "ename": "KeyError",
     "evalue": "72",
     "output_type": "error",
     "traceback": [
      "\u001b[1;31m---------------------------------------------------------------------------\u001b[0m",
      "\u001b[1;31mKeyError\u001b[0m                                  Traceback (most recent call last)",
      "\u001b[1;32m~\\AppData\\Local\\Temp\\ipykernel_10496\\363099811.py\u001b[0m in \u001b[0;36m<module>\u001b[1;34m\u001b[0m\n\u001b[1;32m----> 1\u001b[1;33m \u001b[0mset1\u001b[0m\u001b[1;33m.\u001b[0m\u001b[0mremove\u001b[0m\u001b[1;33m(\u001b[0m\u001b[1;36m72\u001b[0m\u001b[1;33m)\u001b[0m\u001b[1;33m\u001b[0m\u001b[1;33m\u001b[0m\u001b[0m\n\u001b[0m\u001b[0;32m      2\u001b[0m \u001b[1;33m\u001b[0m\u001b[0m\n\u001b[0;32m      3\u001b[0m \u001b[0mprint\u001b[0m\u001b[1;33m(\u001b[0m\u001b[0mset1\u001b[0m\u001b[1;33m)\u001b[0m\u001b[1;33m\u001b[0m\u001b[1;33m\u001b[0m\u001b[0m\n",
      "\u001b[1;31mKeyError\u001b[0m: 72"
     ]
    }
   ],
   "source": [
    "set1.remove(72)\n",
    "\n",
    "print(set1)"
   ]
  },
  {
   "cell_type": "code",
   "execution_count": null,
   "id": "0c17a152",
   "metadata": {},
   "outputs": [],
   "source": [
    "#.pop() method on sets - removes a random element from the set (usually the top printed element from the set). .pop() method\n",
    "# returns the popped element which we can save to a variable. It takes no arguments. \n",
    "\n",
    "print(set1)"
   ]
  },
  {
   "cell_type": "code",
   "execution_count": 21,
   "id": "9a1660ed",
   "metadata": {},
   "outputs": [
    {
     "name": "stdout",
     "output_type": "stream",
     "text": [
      "{'a', 'i', 'e', 'b', 'g', 'd', 'h', 'k'}\n",
      "f\n"
     ]
    }
   ],
   "source": [
    "set_pop = set1.pop()\n",
    "\n",
    "print(set1)\n",
    "print(set_pop)"
   ]
  },
  {
   "cell_type": "code",
   "execution_count": null,
   "id": "c67c801d",
   "metadata": {},
   "outputs": [],
   "source": [
    "print(type(set1.pop()))"
   ]
  },
  {
   "cell_type": "code",
   "execution_count": null,
   "id": "374ddb99",
   "metadata": {},
   "outputs": [],
   "source": [
    "print(type(set.pop))"
   ]
  },
  {
   "cell_type": "code",
   "execution_count": null,
   "id": "8d77fbeb",
   "metadata": {},
   "outputs": [],
   "source": [
    "set2 = {'xyz','abc', 'Python', 'Abracadabra', 'Rikki'}\n",
    "\n",
    "print(set2)"
   ]
  },
  {
   "cell_type": "code",
   "execution_count": null,
   "id": "5ceabc1b",
   "metadata": {},
   "outputs": [],
   "source": [
    "set_pop2 = set2.pop()\n",
    "\n",
    "print(set2)\n",
    "print(set_pop2)\n",
    "\n"
   ]
  },
  {
   "cell_type": "code",
   "execution_count": 22,
   "id": "38136290",
   "metadata": {},
   "outputs": [
    {
     "name": "stdout",
     "output_type": "stream",
     "text": [
      "{'a', 'i', 'e', 'b', 'g', 'd', 'h', 'k'}\n",
      "2081999208224\n"
     ]
    }
   ],
   "source": [
    "print(set1)\n",
    "print(id(set1))"
   ]
  },
  {
   "cell_type": "code",
   "execution_count": 23,
   "id": "f94bfdb5",
   "metadata": {},
   "outputs": [
    {
     "name": "stdout",
     "output_type": "stream",
     "text": [
      "set()\n",
      "2081999208224\n"
     ]
    }
   ],
   "source": [
    "set1.clear()\n",
    "\n",
    "print(set1)\n",
    "print(id(set1))"
   ]
  },
  {
   "cell_type": "code",
   "execution_count": null,
   "id": "23bd717b",
   "metadata": {},
   "outputs": [],
   "source": [
    "#.update() method on set - takes any element(or iterable), converts it to sets and updates the original set. There is no\n",
    "# return in the output. \n",
    "\n",
    "set1 = {1,2,3,4,7,8}"
   ]
  },
  {
   "cell_type": "code",
   "execution_count": null,
   "id": "851e0af7",
   "metadata": {},
   "outputs": [],
   "source": [
    "# set2 = sorted(set1)\n",
    "\n",
    "# print(set2)"
   ]
  },
  {
   "cell_type": "code",
   "execution_count": null,
   "id": "b46eeebe",
   "metadata": {},
   "outputs": [],
   "source": [
    "lst1 = list(range(5))\n",
    "lst2 = list(range(10,15))\n",
    "lst3 = list(range(20,25))\n",
    "\n",
    "\n",
    "print(lst1)\n",
    "print(lst2)\n",
    "print(lst3)\n"
   ]
  },
  {
   "cell_type": "code",
   "execution_count": null,
   "id": "6224d1d0",
   "metadata": {},
   "outputs": [],
   "source": [
    "zipd = list(zip(lst1,lst2,lst3))\n",
    "\n",
    "print(zipd)"
   ]
  },
  {
   "cell_type": "code",
   "execution_count": null,
   "id": "643350dd",
   "metadata": {},
   "outputs": [],
   "source": [
    "a,b,c = zip(*zipd)\n",
    "a = list(a)\n",
    "b = list(b)\n",
    "c = list(c)\n",
    "\n",
    "print(a)\n",
    "print(b)\n",
    "print(c)"
   ]
  },
  {
   "cell_type": "code",
   "execution_count": null,
   "id": "02f84367",
   "metadata": {},
   "outputs": [],
   "source": [
    "print(dir(set))"
   ]
  },
  {
   "cell_type": "code",
   "execution_count": null,
   "id": "a6292e42",
   "metadata": {},
   "outputs": [],
   "source": []
  },
  {
   "cell_type": "code",
   "execution_count": null,
   "id": "24e8dc73",
   "metadata": {},
   "outputs": [],
   "source": [
    "lst1 = list(range(100))\n",
    "\n",
    "lst100 = list(range(1,1000,10))\n",
    "\n",
    "set1 = sorted(set(lst1+lst100))\n",
    "\n",
    "print(set1)"
   ]
  },
  {
   "cell_type": "code",
   "execution_count": null,
   "id": "3a952800",
   "metadata": {},
   "outputs": [],
   "source": [
    "print(dir(set))"
   ]
  },
  {
   "cell_type": "code",
   "execution_count": null,
   "id": "9b5239b7",
   "metadata": {},
   "outputs": [],
   "source": [
    "set1 = {1,2,3,4,5,6}\n",
    "set2 = {5,6,7,8}\n",
    "\n",
    "print(set1)\n",
    "print(set2)"
   ]
  },
  {
   "cell_type": "code",
   "execution_count": 2,
   "id": "a480bc7d",
   "metadata": {},
   "outputs": [],
   "source": [
    "# Properties of sets\n",
    "\n",
    "#1. Derived datatype\n",
    "#2. Mutable themselves\n",
    "#3. Holds immutable objects and Unique\n",
    "#4. The objects in sets can be heterogenous\n",
    "#5. Unordered therefore do not support subscription.\n",
    "#6. Iterable - (but output order cannot be guaranteed)\n",
    "\n",
    "# Methods seen so far:\n",
    "\n",
    "add, clear, copy, discard, pop, remove\n",
    "\n",
    "# Difference discard - wont throw error if element not present, remove will. \n",
    "\n",
    "# Pop - removes random element from set (usually the first element but cannot be guaranteed)\n",
    "\n",
    "# Remove and discard - do not return anything - modify the original set. \n",
    "# pop - returns the element that was popped. \n"
   ]
  },
  {
   "cell_type": "code",
   "execution_count": 3,
   "id": "07d91619",
   "metadata": {},
   "outputs": [
    {
     "name": "stdout",
     "output_type": "stream",
     "text": [
      "['__and__', '__class__', '__class_getitem__', '__contains__', '__delattr__', '__dir__', '__doc__', '__eq__', '__format__', '__ge__', '__getattribute__', '__gt__', '__hash__', '__iand__', '__init__', '__init_subclass__', '__ior__', '__isub__', '__iter__', '__ixor__', '__le__', '__len__', '__lt__', '__ne__', '__new__', '__or__', '__rand__', '__reduce__', '__reduce_ex__', '__repr__', '__ror__', '__rsub__', '__rxor__', '__setattr__', '__sizeof__', '__str__', '__sub__', '__subclasshook__', '__xor__', 'add', 'clear', 'copy', 'difference', 'difference_update', 'discard', 'intersection', 'intersection_update', 'isdisjoint', 'issubset', 'issuperset', 'pop', 'remove', 'symmetric_difference', 'symmetric_difference_update', 'union', 'update']\n"
     ]
    }
   ],
   "source": [
    "print(dir(set))"
   ]
  },
  {
   "cell_type": "code",
   "execution_count": null,
   "id": "1aa9a962",
   "metadata": {},
   "outputs": [],
   "source": [
    "+, -, /, *.... when used in overloaded form - cannot be used between different datatypes. "
   ]
  },
  {
   "cell_type": "markdown",
   "id": "e9b8812b",
   "metadata": {},
   "source": [
    "### Union Method"
   ]
  },
  {
   "cell_type": "code",
   "execution_count": 12,
   "id": "37488de0",
   "metadata": {},
   "outputs": [],
   "source": [
    "set1 = {1,2,3,4,5,6}\n",
    "set2 = {5,6,7,8,6}"
   ]
  },
  {
   "cell_type": "code",
   "execution_count": 13,
   "id": "57d09022",
   "metadata": {},
   "outputs": [
    {
     "name": "stdout",
     "output_type": "stream",
     "text": [
      "{1, 2, 3, 4, 5, 6}\n",
      "{8, 5, 6, 7}\n",
      "{1, 2, 3, 4, 5, 6, 7, 8}\n"
     ]
    }
   ],
   "source": [
    "set3 = set1.union(set2)\n",
    "\n",
    "print(set1)\n",
    "print(set2)\n",
    "print(set3)"
   ]
  },
  {
   "cell_type": "code",
   "execution_count": 11,
   "id": "533764be",
   "metadata": {},
   "outputs": [
    {
     "name": "stdout",
     "output_type": "stream",
     "text": [
      "Before update {1, 2, 3, 4, 5, 6}\n",
      "After update {1, 2, 3, 4, 5, 6, 7, 8}\n",
      "{8, 5, 6, 7}\n",
      "None\n"
     ]
    }
   ],
   "source": [
    "print('Before update', set1)\n",
    "\n",
    "set4 = set1.update(set2)\n",
    "\n",
    "print('After update', set1)\n",
    "print(set2)\n",
    "#print(set3)\n",
    "print(set4)"
   ]
  },
  {
   "cell_type": "code",
   "execution_count": null,
   "id": "8cb9f28d",
   "metadata": {},
   "outputs": [],
   "source": [
    "# Duplicates are not allowed.\n",
    "\n",
    "\n",
    "# Sets are mutable\n",
    "# They can only contain immutable objects."
   ]
  },
  {
   "cell_type": "code",
   "execution_count": 14,
   "id": "21b37596",
   "metadata": {},
   "outputs": [],
   "source": [
    "set5 = {9,10,11,12}\n",
    "set6 = {14,15,16}"
   ]
  },
  {
   "cell_type": "code",
   "execution_count": 16,
   "id": "05120b85",
   "metadata": {},
   "outputs": [
    {
     "name": "stdout",
     "output_type": "stream",
     "text": [
      "{1, 2, 3, 4, 5, 6, 7, 8, 9, 10, 11, 12, 14, 15, 16}\n"
     ]
    }
   ],
   "source": [
    "set7 = set1.union(set2,set5,set6)\n",
    "\n",
    "print(set7)"
   ]
  },
  {
   "cell_type": "code",
   "execution_count": 17,
   "id": "41ded00f",
   "metadata": {},
   "outputs": [
    {
     "name": "stdout",
     "output_type": "stream",
     "text": [
      "None\n",
      "{1, 2, 3, 4, 5, 6, 7, 8, 9, 10, 11, 12, 14, 15, 16}\n"
     ]
    }
   ],
   "source": [
    "set8 = set1.update(set2,set5,set6)\n",
    "\n",
    "print(set8)\n",
    "print(set1)"
   ]
  },
  {
   "cell_type": "code",
   "execution_count": 19,
   "id": "f7160d59",
   "metadata": {},
   "outputs": [
    {
     "name": "stdout",
     "output_type": "stream",
     "text": [
      "[17, 18, 19, 20]\n"
     ]
    }
   ],
   "source": [
    "lst1 = list(range(17,21))\n",
    "\n",
    "print(lst1)"
   ]
  },
  {
   "cell_type": "code",
   "execution_count": 20,
   "id": "e59b3663",
   "metadata": {},
   "outputs": [
    {
     "name": "stdout",
     "output_type": "stream",
     "text": [
      "{1, 2, 3, 4, 5, 6, 7, 8, 9, 10, 11, 12, 14, 15, 16, 17, 18, 19, 20}\n"
     ]
    }
   ],
   "source": [
    "set9 = set1.union(lst1)\n",
    "\n",
    "print(set9)"
   ]
  },
  {
   "cell_type": "code",
   "execution_count": 21,
   "id": "2bf7bf26",
   "metadata": {},
   "outputs": [
    {
     "name": "stdout",
     "output_type": "stream",
     "text": [
      "{1, 2, 3, 4, 5, 6, 7, 8, 9, 10, 11, 12, 14, 15, 16, 17, 18, 19, 20}\n",
      "None\n"
     ]
    }
   ],
   "source": [
    "set10 = set1.update(lst1)\n",
    "\n",
    "print(set1)\n",
    "print(set10)"
   ]
  },
  {
   "cell_type": "code",
   "execution_count": 30,
   "id": "393bdb39",
   "metadata": {},
   "outputs": [],
   "source": [
    "set1 = set(range(5))\n",
    "set2 = set(range(5,11))\n",
    "set3 = set(range(11,16))\n",
    "set4 = range(16,21)"
   ]
  },
  {
   "cell_type": "code",
   "execution_count": 26,
   "id": "6545cb8c",
   "metadata": {},
   "outputs": [
    {
     "name": "stdout",
     "output_type": "stream",
     "text": [
      "{0, 1, 2, 3, 4}\n",
      "{5, 6, 7, 8, 9, 10}\n",
      "{11, 12, 13, 14, 15}\n",
      "[16, 17, 18, 19, 20]\n"
     ]
    }
   ],
   "source": [
    "print(set1)\n",
    "print(set2)\n",
    "print(set3)\n",
    "print(set4)"
   ]
  },
  {
   "cell_type": "code",
   "execution_count": 28,
   "id": "d7c6913d",
   "metadata": {},
   "outputs": [
    {
     "ename": "TypeError",
     "evalue": "unsupported operand type(s) for |: 'set' and 'list'",
     "output_type": "error",
     "traceback": [
      "\u001b[1;31m---------------------------------------------------------------------------\u001b[0m",
      "\u001b[1;31mTypeError\u001b[0m                                 Traceback (most recent call last)",
      "\u001b[1;32m~\\AppData\\Local\\Temp\\ipykernel_12860\\1319038858.py\u001b[0m in \u001b[0;36m<module>\u001b[1;34m\u001b[0m\n\u001b[1;32m----> 1\u001b[1;33m \u001b[0mset5\u001b[0m \u001b[1;33m=\u001b[0m \u001b[0mset1\u001b[0m \u001b[1;33m|\u001b[0m \u001b[0mset2\u001b[0m \u001b[1;33m|\u001b[0m \u001b[0mset3\u001b[0m \u001b[1;33m|\u001b[0m \u001b[0mset4\u001b[0m\u001b[1;33m\u001b[0m\u001b[1;33m\u001b[0m\u001b[0m\n\u001b[0m\u001b[0;32m      2\u001b[0m \u001b[1;33m\u001b[0m\u001b[0m\n\u001b[0;32m      3\u001b[0m \u001b[0mprint\u001b[0m\u001b[1;33m(\u001b[0m\u001b[0mset5\u001b[0m\u001b[1;33m)\u001b[0m\u001b[1;33m\u001b[0m\u001b[1;33m\u001b[0m\u001b[0m\n",
      "\u001b[1;31mTypeError\u001b[0m: unsupported operand type(s) for |: 'set' and 'list'"
     ]
    }
   ],
   "source": [
    "set5 = set1 | set2 | set3 | set4\n",
    "\n",
    "print(set5)"
   ]
  },
  {
   "cell_type": "code",
   "execution_count": 31,
   "id": "c02e2282",
   "metadata": {},
   "outputs": [
    {
     "name": "stdout",
     "output_type": "stream",
     "text": [
      "{0, 1, 2, 3, 4, 5, 6, 7, 8, 9, 10, 11, 12, 13, 14, 15, 16, 17, 18, 19, 20}\n"
     ]
    }
   ],
   "source": [
    "set5 = set1.union(set2,set3,set4)\n",
    "\n",
    "print(set5)"
   ]
  },
  {
   "cell_type": "code",
   "execution_count": null,
   "id": "10dec730",
   "metadata": {},
   "outputs": [],
   "source": []
  },
  {
   "cell_type": "code",
   "execution_count": null,
   "id": "2c5c93ba",
   "metadata": {},
   "outputs": [],
   "source": [
    "set1 = {1,2,3,4,5,6}\n",
    "\n",
    "print(set1)"
   ]
  },
  {
   "cell_type": "code",
   "execution_count": null,
   "id": "26cd701f",
   "metadata": {},
   "outputs": [],
   "source": [
    "setlst = set1.union(lst1)\n",
    "\n",
    "print(setlst)"
   ]
  },
  {
   "cell_type": "code",
   "execution_count": null,
   "id": "7f3a7d45",
   "metadata": {},
   "outputs": [],
   "source": [
    "# union method is only a set method. Can I do : \n"
   ]
  },
  {
   "cell_type": "code",
   "execution_count": null,
   "id": "1fa194c3",
   "metadata": {},
   "outputs": [],
   "source": [
    "set12 = set1 | set1\n",
    "\n",
    "print(set12)\n",
    "\n"
   ]
  },
  {
   "cell_type": "code",
   "execution_count": null,
   "id": "c73f2ac9",
   "metadata": {},
   "outputs": [],
   "source": [
    "set1 = set(list(range(5)))\n",
    "set2 = set(list(range(1,51,10)))\n",
    "set3 = list(range(100,501, 100))\n",
    "\n",
    "print(set1)\n",
    "print(set2)\n",
    "print(set3)"
   ]
  },
  {
   "cell_type": "code",
   "execution_count": null,
   "id": "adaeb96e",
   "metadata": {},
   "outputs": [],
   "source": [
    "set4 = set1.union(set2,set3)\n",
    "\n",
    "print(set4)"
   ]
  },
  {
   "cell_type": "code",
   "execution_count": null,
   "id": "f13b4f89",
   "metadata": {},
   "outputs": [],
   "source": [
    "set5 = set1 | set2 | set3\n",
    "\n",
    "print(set5)"
   ]
  },
  {
   "cell_type": "code",
   "execution_count": null,
   "id": "b1a0a63c",
   "metadata": {},
   "outputs": [],
   "source": [
    "# Operators can only work between same datatype"
   ]
  },
  {
   "cell_type": "code",
   "execution_count": null,
   "id": "5e1fc46c",
   "metadata": {},
   "outputs": [],
   "source": [
    "set6 = set1.update(set2, set3)\n",
    "\n",
    "print(set1)"
   ]
  },
  {
   "cell_type": "code",
   "execution_count": null,
   "id": "d403bd69",
   "metadata": {},
   "outputs": [],
   "source": [
    "set1 = set('abcdef')\n",
    "\n",
    "str2 = 'efghij'\n",
    "\n",
    "print(set1)\n",
    "print(str2)"
   ]
  },
  {
   "cell_type": "code",
   "execution_count": null,
   "id": "6d91695d",
   "metadata": {},
   "outputs": [],
   "source": [
    "set3 = set1.update(str2)\n",
    "print(set1)"
   ]
  },
  {
   "cell_type": "code",
   "execution_count": null,
   "id": "4a22afcb",
   "metadata": {},
   "outputs": [],
   "source": [
    "#Note here how the object 'efghij' was converted to a set of individual characters since it is an iterable before the \n",
    "# update was performed. To actually perform update operation using single element 'efghij', we can put it in another \n",
    "# iterable. \n",
    "\n",
    "set3 = ['efghij']\n",
    "\n",
    "\n",
    "set3x = set(set3)\n",
    "\n",
    "print(set3x)"
   ]
  },
  {
   "cell_type": "code",
   "execution_count": null,
   "id": "05537a0e",
   "metadata": {},
   "outputs": [],
   "source": [
    "set1.update(set3)\n",
    "print(set1)"
   ]
  },
  {
   "cell_type": "code",
   "execution_count": null,
   "id": "7250389e",
   "metadata": {},
   "outputs": [],
   "source": [
    "set1.update(set2)\n",
    "print(set1)"
   ]
  },
  {
   "cell_type": "code",
   "execution_count": null,
   "id": "b654c066",
   "metadata": {},
   "outputs": [],
   "source": [
    "dict1 = dict.fromkeys(set2)\n",
    "\n",
    "print(dict1)"
   ]
  },
  {
   "cell_type": "code",
   "execution_count": null,
   "id": "a1f61645",
   "metadata": {},
   "outputs": [],
   "source": [
    "set1 = set('abcd')\n",
    "\n",
    "set1.update(dict1)\n",
    "print(set1)\n",
    "\n",
    "#Note how only the keys from dictionary are upated to set."
   ]
  },
  {
   "cell_type": "code",
   "execution_count": null,
   "id": "70a7c748",
   "metadata": {},
   "outputs": [],
   "source": [
    "# Note how set object does not support indexing. \n",
    "\n",
    "print(set1[0])"
   ]
  },
  {
   "cell_type": "code",
   "execution_count": null,
   "id": "ee376c57",
   "metadata": {},
   "outputs": [],
   "source": [
    "#Or slicing\n",
    "\n",
    "print(set1[:-2])"
   ]
  },
  {
   "cell_type": "code",
   "execution_count": null,
   "id": "58e55193",
   "metadata": {},
   "outputs": [],
   "source": [
    "#Or item assigment\n",
    "\n",
    "set2[0] = 'x'\n",
    "\n",
    "print(set2)"
   ]
  },
  {
   "cell_type": "code",
   "execution_count": null,
   "id": "e06f3880",
   "metadata": {},
   "outputs": [],
   "source": [
    "#.clear() method on sets. It takes no parameters and returns no value. It clears the set on which it has been called on. \n",
    "\n",
    "\n",
    "set4 = set1.clear()\n",
    "\n",
    "print(set1)\n",
    "print(type(set1))\n",
    "print(len(set1))\n",
    "print(set4)\n",
    "\n"
   ]
  },
  {
   "cell_type": "code",
   "execution_count": null,
   "id": "9df18bcb",
   "metadata": {},
   "outputs": [],
   "source": [
    "#Aliasing on sets works the same as any other datatype. \n",
    "\n",
    "#While aliasing, all changes in original and vice-versa will reflect on both variables since it is only a reference.\n",
    "\n",
    "#While copying - immutable objects will not show a change between original and the copy since memory id of the object\n",
    "# contained will change if the immutable object is changed. "
   ]
  },
  {
   "cell_type": "code",
   "execution_count": null,
   "id": "de37dfd2",
   "metadata": {},
   "outputs": [],
   "source": [
    "a = someset \n",
    "\n",
    "b = a\n",
    "\n",
    "c = a.copy()\n",
    "\n"
   ]
  },
  {
   "cell_type": "code",
   "execution_count": null,
   "id": "603ef552",
   "metadata": {},
   "outputs": [],
   "source": [
    "#However, since sets, though mutable themselves, cannot hold a mutable datatype - there is no purpose of deepcopy in this\n",
    "#case. Copy and deepcopy will behave the same./\n",
    "\n",
    "#Sets do not support slicing so there is no copy from slicing.\n",
    "\n",
    "p = set('abcde')\n",
    "\n",
    "q = p\n",
    "\n",
    "r = p.copy()\n",
    "\n",
    "import copy\n",
    "\n",
    "s = copy.deepcopy(p)\n",
    "\n",
    "print(p,q,r,s, sep='\\n')"
   ]
  },
  {
   "cell_type": "code",
   "execution_count": null,
   "id": "83639485",
   "metadata": {},
   "outputs": [],
   "source": [
    "p.add('f')"
   ]
  },
  {
   "cell_type": "code",
   "execution_count": null,
   "id": "500bf37e",
   "metadata": {},
   "outputs": [],
   "source": [
    "print(f'Original object p = {p}.', '\\n')"
   ]
  },
  {
   "cell_type": "code",
   "execution_count": null,
   "id": "c2203462",
   "metadata": {},
   "outputs": [],
   "source": [
    "print(f'Aliased variable q = {q}.', '\\n')"
   ]
  },
  {
   "cell_type": "code",
   "execution_count": null,
   "id": "25a311bd",
   "metadata": {},
   "outputs": [],
   "source": [
    "print(f'Copied object r = {r}.', '\\n')"
   ]
  },
  {
   "cell_type": "code",
   "execution_count": null,
   "id": "d381ed5c",
   "metadata": {},
   "outputs": [],
   "source": [
    "print(f'Deep Copied object s = {s}.', '\\n')"
   ]
  },
  {
   "cell_type": "code",
   "execution_count": null,
   "id": "6c8ab0a4",
   "metadata": {},
   "outputs": [],
   "source": [
    "#.union() method returns a set of unique values of all the iterables defined in parameters. Parameters can be any number of\n",
    "#iterables.\n",
    "\n",
    "set1 = set('abcde')\n",
    "set2 = set('fghij')\n",
    "set3 = set('acegxyz')\n",
    "\n",
    "print(set1)\n",
    "print(set2)\n",
    "print(set3)"
   ]
  },
  {
   "cell_type": "code",
   "execution_count": null,
   "id": "9622e7f6",
   "metadata": {},
   "outputs": [],
   "source": [
    "set4 = set1.union(set2,set3)"
   ]
  },
  {
   "cell_type": "code",
   "execution_count": null,
   "id": "8398ce1f",
   "metadata": {},
   "outputs": [],
   "source": [
    "print(set4)"
   ]
  },
  {
   "cell_type": "code",
   "execution_count": null,
   "id": "84fb2464",
   "metadata": {},
   "outputs": [],
   "source": [
    "print(sorted(set4))"
   ]
  },
  {
   "cell_type": "code",
   "execution_count": null,
   "id": "e363ce8f",
   "metadata": {},
   "outputs": [],
   "source": [
    "set1 = set('abcde')\n",
    "lst2 = list(set2)\n",
    "lst3 = list(set3)\n",
    "\n",
    "print(type(lst2), type(lst3))"
   ]
  },
  {
   "cell_type": "code",
   "execution_count": null,
   "id": "bb720444",
   "metadata": {},
   "outputs": [],
   "source": [
    "set5 = set1.union(lst2, lst3)\n",
    "\n",
    "print(set1)\n",
    "print(lst2)\n",
    "print(lst3)\n",
    "print(set5)"
   ]
  },
  {
   "cell_type": "code",
   "execution_count": null,
   "id": "acf89a09",
   "metadata": {},
   "outputs": [],
   "source": [
    "#Union operation can also be performed with the | operator\n",
    "\n",
    "set6 = set1 | set2 | set3\n",
    "\n",
    "print(set6)"
   ]
  },
  {
   "cell_type": "code",
   "execution_count": null,
   "id": "713b6736",
   "metadata": {},
   "outputs": [],
   "source": [
    "# However, the | operator does not allow using other datatypes except sets. \n",
    "\n",
    "set7 = set1 | lst2 | lst3\n",
    "\n",
    "print(set7)"
   ]
  },
  {
   "cell_type": "code",
   "execution_count": null,
   "id": "49ee840b",
   "metadata": {},
   "outputs": [],
   "source": [
    "print(set1)"
   ]
  },
  {
   "cell_type": "code",
   "execution_count": null,
   "id": "b5eae054",
   "metadata": {},
   "outputs": [],
   "source": [
    "print(set1)\n",
    "print(set2)"
   ]
  },
  {
   "cell_type": "code",
   "execution_count": null,
   "id": "fb256b0c",
   "metadata": {},
   "outputs": [],
   "source": [
    "set11 = set('abcde')\n",
    "set12 = set('cdefgh')\n",
    "\n",
    "set6 = set11 | set12\n",
    "\n",
    "print(set6)\n",
    "\n",
    "print(set11)\n",
    "print(set12)"
   ]
  },
  {
   "cell_type": "code",
   "execution_count": null,
   "id": "ee4bcf49",
   "metadata": {},
   "outputs": [],
   "source": [
    "#Note how the original set from a Union method or | operator remains unchanged. "
   ]
  },
  {
   "cell_type": "code",
   "execution_count": null,
   "id": "8f5c13f1",
   "metadata": {},
   "outputs": [],
   "source": [
    "#set14 = set1.union_update(set2)\n",
    "\n",
    "\n",
    "print(dir(set))"
   ]
  },
  {
   "cell_type": "code",
   "execution_count": null,
   "id": "42b02881",
   "metadata": {},
   "outputs": [],
   "source": [
    "#.intersection() method of sets. Returns the values that are common across all sets. "
   ]
  },
  {
   "cell_type": "code",
   "execution_count": null,
   "id": "a8bc473f",
   "metadata": {},
   "outputs": [],
   "source": [
    "set1 = set('abcde')\n",
    "set2 = set(list('cdefghij'))\n",
    "set3 = set('xyzcde')"
   ]
  },
  {
   "cell_type": "code",
   "execution_count": 42,
   "id": "88d720ad",
   "metadata": {},
   "outputs": [
    {
     "name": "stdout",
     "output_type": "stream",
     "text": [
      "{0, 1, 2, 3, 4}\n",
      "{3, 4, 5, 6}\n",
      "{4, 5, 6, 7}\n",
      "[0, 1, 2, 3, 4, 5, 6, 7, 8, 9]\n"
     ]
    }
   ],
   "source": [
    "set1 = set(range(5))\n",
    "set2 = set(range(3,7))\n",
    "set3 = set(range(4,8))\n",
    "set4 = list(range(10))\n",
    "\n",
    "print(set1)\n",
    "print(set2)\n",
    "print(set3)\n",
    "print(set4)"
   ]
  },
  {
   "cell_type": "code",
   "execution_count": 37,
   "id": "a68ebaf8",
   "metadata": {},
   "outputs": [
    {
     "name": "stdout",
     "output_type": "stream",
     "text": [
      "{4}\n"
     ]
    }
   ],
   "source": [
    "set14 = set1.intersection(set2, set3, set4)\n",
    "\n",
    "\n",
    "\n",
    "print(set14)"
   ]
  },
  {
   "cell_type": "code",
   "execution_count": null,
   "id": "dbd5e7e8",
   "metadata": {},
   "outputs": [],
   "source": [
    "lst2 = list(set2)\n",
    "lst3 = list(set3)\n",
    "\n",
    "set5 = set1.intersection(lst2, lst3)\n",
    "\n",
    "print(set1,lst2, lst3, set4, sep = '\\n')\n",
    "\n",
    "#Works with different iterable datatypes"
   ]
  },
  {
   "cell_type": "code",
   "execution_count": 38,
   "id": "d0bc8c55",
   "metadata": {},
   "outputs": [
    {
     "name": "stdout",
     "output_type": "stream",
     "text": [
      "{0, 1, 2, 3, 4}\n",
      "{3, 4, 5, 6}\n",
      "{4, 5, 6, 7}\n"
     ]
    }
   ],
   "source": [
    "print(set1)\n",
    "print(set2)\n",
    "print(set3)"
   ]
  },
  {
   "cell_type": "code",
   "execution_count": 39,
   "id": "941b044a",
   "metadata": {},
   "outputs": [
    {
     "name": "stdout",
     "output_type": "stream",
     "text": [
      "{3, 4}\n",
      "None\n"
     ]
    }
   ],
   "source": [
    "set4 = set1.intersection_update(set2)\n",
    "\n",
    "print(set1)\n",
    "print(set4)"
   ]
  },
  {
   "cell_type": "code",
   "execution_count": 43,
   "id": "5c36dab8",
   "metadata": {},
   "outputs": [
    {
     "name": "stdout",
     "output_type": "stream",
     "text": [
      "[0, 1, 2, 3, 4, 5, 6, 7, 8, 9]\n"
     ]
    }
   ],
   "source": [
    "print(set4)"
   ]
  },
  {
   "cell_type": "code",
   "execution_count": 44,
   "id": "f1700dd4",
   "metadata": {},
   "outputs": [
    {
     "ename": "TypeError",
     "evalue": "unsupported operand type(s) for &: 'set' and 'list'",
     "output_type": "error",
     "traceback": [
      "\u001b[1;31m---------------------------------------------------------------------------\u001b[0m",
      "\u001b[1;31mTypeError\u001b[0m                                 Traceback (most recent call last)",
      "\u001b[1;32m~\\AppData\\Local\\Temp\\ipykernel_12860\\960596971.py\u001b[0m in \u001b[0;36m<module>\u001b[1;34m\u001b[0m\n\u001b[0;32m      1\u001b[0m \u001b[1;31m# & operator for intersection\u001b[0m\u001b[1;33m\u001b[0m\u001b[1;33m\u001b[0m\u001b[0m\n\u001b[0;32m      2\u001b[0m \u001b[1;33m\u001b[0m\u001b[0m\n\u001b[1;32m----> 3\u001b[1;33m \u001b[0mset6\u001b[0m \u001b[1;33m=\u001b[0m \u001b[0mset1\u001b[0m \u001b[1;33m&\u001b[0m \u001b[0mset2\u001b[0m \u001b[1;33m&\u001b[0m \u001b[0mset3\u001b[0m \u001b[1;33m&\u001b[0m \u001b[0mset4\u001b[0m\u001b[1;33m\u001b[0m\u001b[1;33m\u001b[0m\u001b[0m\n\u001b[0m\u001b[0;32m      4\u001b[0m \u001b[1;33m\u001b[0m\u001b[0m\n\u001b[0;32m      5\u001b[0m \u001b[0mprint\u001b[0m\u001b[1;33m(\u001b[0m\u001b[0mset6\u001b[0m\u001b[1;33m)\u001b[0m\u001b[1;33m\u001b[0m\u001b[1;33m\u001b[0m\u001b[0m\n",
      "\u001b[1;31mTypeError\u001b[0m: unsupported operand type(s) for &: 'set' and 'list'"
     ]
    }
   ],
   "source": [
    "# & operator for intersection\n",
    "\n",
    "set6 = set1 & set2 & set3 & set4\n",
    "\n",
    "print(set6)"
   ]
  },
  {
   "cell_type": "code",
   "execution_count": null,
   "id": "fa5105dd",
   "metadata": {},
   "outputs": [],
   "source": [
    "set3 = list(set3)\n",
    "\n",
    "print(set3)"
   ]
  },
  {
   "cell_type": "code",
   "execution_count": null,
   "id": "7c73b724",
   "metadata": {},
   "outputs": [],
   "source": [
    "lst1 = list('abcd')\n",
    "lst2 = list('befg')\n",
    "lst3 = list('bhij')\n",
    "\n",
    "\n",
    "set4 = lst1 & lst2 & lst3\n",
    "\n",
    "\n",
    "print(set4)"
   ]
  },
  {
   "cell_type": "code",
   "execution_count": null,
   "id": "bca29659",
   "metadata": {},
   "outputs": [],
   "source": [
    "# & operator doesnt work with different datatypes\n",
    "\n",
    "set7 = set1 & set2 & lst3\n",
    "\n",
    "print(set7)"
   ]
  },
  {
   "cell_type": "code",
   "execution_count": null,
   "id": "3eb835b0",
   "metadata": {},
   "outputs": [],
   "source": [
    "print(set1)\n",
    "print(set2)\n",
    "print(set3)"
   ]
  },
  {
   "cell_type": "code",
   "execution_count": null,
   "id": "d8c85ae0",
   "metadata": {},
   "outputs": [],
   "source": [
    "set3 = set(set3)\n",
    "set4 = set('xyzpqrst')\n",
    "\n",
    "print(set1)\n",
    "print(set2)\n",
    "print(set3)\n",
    "print(set4)"
   ]
  },
  {
   "cell_type": "code",
   "execution_count": null,
   "id": "fb1e158a",
   "metadata": {},
   "outputs": [],
   "source": [
    "set5 = set1 | set2 & set3 ^ set4\n",
    "\n",
    "print(set5)"
   ]
  },
  {
   "cell_type": "code",
   "execution_count": null,
   "id": "77d0c476",
   "metadata": {},
   "outputs": [],
   "source": [
    "print(set1 | set2)\n",
    "print(set2 & set3)\n",
    "print(set3 ^ set4)"
   ]
  },
  {
   "cell_type": "code",
   "execution_count": null,
   "id": "912cbc60",
   "metadata": {},
   "outputs": [],
   "source": [
    "#intersecton_update() method - updates the caller set with the elements common across all the sets. \n",
    "\n",
    "set8 = set1.intersection_update(set2,set3)\n",
    "\n",
    "print(set1)\n",
    "print(set2)\n",
    "print(set3)\n",
    "print(set8)\n",
    "\n"
   ]
  },
  {
   "cell_type": "code",
   "execution_count": null,
   "id": "04649d25",
   "metadata": {},
   "outputs": [],
   "source": [
    "#As seen, it updates the original set and there is no return value."
   ]
  },
  {
   "cell_type": "code",
   "execution_count": null,
   "id": "e981c2d6",
   "metadata": {},
   "outputs": [],
   "source": [
    "set1 = set('abcde')\n",
    "lst2 = list('cdefghij')\n",
    "lst3 = list('xyzcde')\n",
    "\n",
    "set1.intersection_update(lst2, lst3)\n",
    "\n",
    "print(set1)"
   ]
  },
  {
   "cell_type": "code",
   "execution_count": null,
   "id": "c5a43ddd",
   "metadata": {},
   "outputs": [],
   "source": [
    "#Works with other iterables as well.\n",
    "\n",
    "set1 = set('abcde')\n",
    "elem1 = ['c', 'd', 'e','abcde']\n",
    "elem2 = ['xyz', 'c','d','e']\n",
    "\n",
    "set1.intersection_update(elem1, elem2)\n",
    "\n",
    "print(set1)"
   ]
  },
  {
   "cell_type": "code",
   "execution_count": null,
   "id": "3991c3c5",
   "metadata": {},
   "outputs": [],
   "source": [
    "a union b = b union a\n",
    "a intersection b = b intersection a\n",
    "\n",
    "a difference b not same as b difference a"
   ]
  },
  {
   "cell_type": "code",
   "execution_count": null,
   "id": "f9bbd3ae",
   "metadata": {},
   "outputs": [],
   "source": [
    "#.difference() method in sets. Returns a new set which has only the values from the first set which are not present in\n",
    "# the other sets. It can take multiple sets as parameters at a time but remember that only whatever is not present in the\n",
    "# other sets from first set will be returned.\n",
    "\n",
    "set1 = set('abcdepqr')\n",
    "set2 = set('efghicde')\n",
    "\n",
    "set3 = set1.difference(set2)"
   ]
  },
  {
   "cell_type": "code",
   "execution_count": 45,
   "id": "73c35fd7",
   "metadata": {},
   "outputs": [
    {
     "name": "stdout",
     "output_type": "stream",
     "text": [
      "{0, 1, 2, 3, 4}\n",
      "{3, 4, 5, 6}\n",
      "{4, 5, 6, 7}\n",
      "[0, 1, 2, 3, 4, 5, 6, 7, 8, 9]\n"
     ]
    }
   ],
   "source": [
    "print(set1)\n",
    "print(set2)\n",
    "print(set3)\n",
    "print(set4)"
   ]
  },
  {
   "cell_type": "code",
   "execution_count": null,
   "id": "e86eb064",
   "metadata": {},
   "outputs": [],
   "source": [
    "#Note how the set1 and set2 remain unchanged and a new set with the different elements is returned."
   ]
  },
  {
   "cell_type": "code",
   "execution_count": 48,
   "id": "82db4ae9",
   "metadata": {},
   "outputs": [
    {
     "name": "stdout",
     "output_type": "stream",
     "text": [
      "{0, 1, 2}\n"
     ]
    }
   ],
   "source": [
    "set4 = set1.difference(set2,set3)\n",
    "\n",
    "print(set4)"
   ]
  },
  {
   "cell_type": "code",
   "execution_count": null,
   "id": "86034e3b",
   "metadata": {},
   "outputs": [],
   "source": [
    "set1 = set('abcdepqr')\n",
    "set2 = set('efghicde')\n",
    "set4 = set('xyzpq')\n",
    "\n",
    "set3 = set1.difference(set2, set4)\n",
    "\n",
    "print(set1)\n",
    "print(set2)\n",
    "print(set4)\n",
    "print(set3)\n"
   ]
  },
  {
   "cell_type": "code",
   "execution_count": null,
   "id": "7a8e1d1e",
   "metadata": {},
   "outputs": [],
   "source": [
    "#So far, with union and intersection, the order of the set on which the function is being called did not matter. \n",
    "\n",
    "#set1.union(set2) is the same as set2.union(set1) (even if more iterables were used as parameters)\n",
    "\n",
    "#Or\n",
    "\n",
    "# set1.intersection(set2) is the same as set2.intersection(set1) (even if more iterables were used as parameters)"
   ]
  },
  {
   "cell_type": "code",
   "execution_count": null,
   "id": "39d52015",
   "metadata": {},
   "outputs": [],
   "source": [
    "set1 = set('abcdepqr')\n",
    "set2 = set('efghicdex')\n",
    "set4 = set('xyzfg')\n",
    "\n",
    "\n",
    "print(sorted(set1))\n",
    "print(sorted(set2))\n",
    "\n",
    "#However, for difference method, the order provided to the sets matters since it is only returning output as items from\n",
    "#left hand side set which are not present in the right hand side set. The difference items from set 2 are not considered\n",
    "# part of the output UNLESS we change the order. "
   ]
  },
  {
   "cell_type": "code",
   "execution_count": null,
   "id": "e6848a0c",
   "metadata": {},
   "outputs": [],
   "source": [
    "print(set2)\n",
    "print(set1)\n",
    "print(set4)"
   ]
  },
  {
   "cell_type": "code",
   "execution_count": null,
   "id": "85621c2a",
   "metadata": {},
   "outputs": [],
   "source": [
    "set3 = set1.difference(set2)\n",
    "set4 = set2.difference(set1)\n",
    "\n",
    "print(set3)\n",
    "print(set4)"
   ]
  },
  {
   "cell_type": "code",
   "execution_count": null,
   "id": "bea11967",
   "metadata": {},
   "outputs": [],
   "source": [
    "print(set1)\n",
    "print(set2)\n",
    "print(set4)"
   ]
  },
  {
   "cell_type": "code",
   "execution_count": null,
   "id": "c497e947",
   "metadata": {},
   "outputs": [],
   "source": [
    "set5 = set2.difference(set1, set4)\n",
    "print(set5)"
   ]
  },
  {
   "cell_type": "code",
   "execution_count": null,
   "id": "7fbacb99",
   "metadata": {},
   "outputs": [],
   "source": [
    "print(set1)\n",
    "print(set2)"
   ]
  },
  {
   "cell_type": "code",
   "execution_count": null,
   "id": "c08e1983",
   "metadata": {},
   "outputs": [],
   "source": [
    "#The difference method will take any iterable, convert to sets and perform the difference\n",
    "# operation. But the '-' operator will only take sets as input to perform the difference operator.\n",
    "\n",
    "set4 = set1 - set2\n",
    "\n",
    "print(set1)\n",
    "print(set2)\n",
    "print(set4)"
   ]
  },
  {
   "cell_type": "code",
   "execution_count": null,
   "id": "ce2ce703",
   "metadata": {},
   "outputs": [],
   "source": [
    "set1 = set('abcdepqr')\n",
    "set2 = set('efghicdex')\n",
    "set3 = set('xyzcdepq')"
   ]
  },
  {
   "cell_type": "code",
   "execution_count": 53,
   "id": "f4bbdf5d",
   "metadata": {},
   "outputs": [],
   "source": [
    "set4 = list(range(10))"
   ]
  },
  {
   "cell_type": "code",
   "execution_count": 54,
   "id": "fdb17922",
   "metadata": {},
   "outputs": [
    {
     "name": "stdout",
     "output_type": "stream",
     "text": [
      "{0, 1, 2, 3, 4}\n",
      "{3, 4, 5, 6}\n",
      "{4, 5, 6, 7}\n",
      "[0, 1, 2, 3, 4, 5, 6, 7, 8, 9]\n"
     ]
    }
   ],
   "source": [
    "print(set1)\n",
    "print(set2)\n",
    "print(set3)\n",
    "print(set4)"
   ]
  },
  {
   "cell_type": "code",
   "execution_count": 56,
   "id": "f5dfb855",
   "metadata": {},
   "outputs": [
    {
     "ename": "TypeError",
     "evalue": "unsupported operand type(s) for -: 'set' and 'list'",
     "output_type": "error",
     "traceback": [
      "\u001b[1;31m---------------------------------------------------------------------------\u001b[0m",
      "\u001b[1;31mTypeError\u001b[0m                                 Traceback (most recent call last)",
      "\u001b[1;32m~\\AppData\\Local\\Temp\\ipykernel_12860\\4034513097.py\u001b[0m in \u001b[0;36m<module>\u001b[1;34m\u001b[0m\n\u001b[1;32m----> 1\u001b[1;33m \u001b[0mset5\u001b[0m \u001b[1;33m=\u001b[0m \u001b[0mset1\u001b[0m \u001b[1;33m-\u001b[0m \u001b[0mset2\u001b[0m \u001b[1;33m-\u001b[0m \u001b[0mset3\u001b[0m \u001b[1;33m-\u001b[0m \u001b[0mset4\u001b[0m\u001b[1;33m\u001b[0m\u001b[1;33m\u001b[0m\u001b[0m\n\u001b[0m\u001b[0;32m      2\u001b[0m \u001b[1;33m\u001b[0m\u001b[0m\n\u001b[0;32m      3\u001b[0m \u001b[0mprint\u001b[0m\u001b[1;33m(\u001b[0m\u001b[0mset5\u001b[0m\u001b[1;33m)\u001b[0m\u001b[1;33m\u001b[0m\u001b[1;33m\u001b[0m\u001b[0m\n",
      "\u001b[1;31mTypeError\u001b[0m: unsupported operand type(s) for -: 'set' and 'list'"
     ]
    }
   ],
   "source": [
    "set5 = set1 - set2 - set3\n",
    "\n",
    "print(set5)"
   ]
  },
  {
   "cell_type": "code",
   "execution_count": null,
   "id": "8badaad7",
   "metadata": {},
   "outputs": [],
   "source": [
    "lst2 = list('efghicdex')\n",
    "\n",
    "set5 = set1 - lst2\n",
    "\n",
    "print(set5)"
   ]
  },
  {
   "cell_type": "code",
   "execution_count": null,
   "id": "1f453253",
   "metadata": {},
   "outputs": [],
   "source": [
    "#difference_update() method - updates the original set with the difference of two or more sets. "
   ]
  },
  {
   "cell_type": "code",
   "execution_count": null,
   "id": "9346d712",
   "metadata": {},
   "outputs": [],
   "source": [
    "set1 = set('abcdepqr')\n",
    "set2 = set('efghicdex')\n",
    "set3 = set('xyzcdepq')\n",
    "\n",
    "print(sorted(set1))\n",
    "print(sorted(set2))\n",
    "print(sorted(set3))"
   ]
  },
  {
   "cell_type": "code",
   "execution_count": 49,
   "id": "862e4dc7",
   "metadata": {},
   "outputs": [
    {
     "name": "stdout",
     "output_type": "stream",
     "text": [
      "{0, 1, 2, 3, 4}\n",
      "{3, 4, 5, 6}\n"
     ]
    }
   ],
   "source": [
    "print(set1)\n",
    "print(set2)"
   ]
  },
  {
   "cell_type": "code",
   "execution_count": 50,
   "id": "84026bab",
   "metadata": {},
   "outputs": [
    {
     "name": "stdout",
     "output_type": "stream",
     "text": [
      "{0, 1, 2}\n",
      "None\n"
     ]
    }
   ],
   "source": [
    "set4 = set1.difference_update(set2)\n",
    "\n",
    "print(set1)\n",
    "print(set4)"
   ]
  },
  {
   "cell_type": "code",
   "execution_count": 51,
   "id": "ffd18ba3",
   "metadata": {},
   "outputs": [],
   "source": [
    "set1 = set(range(5))"
   ]
  },
  {
   "cell_type": "code",
   "execution_count": null,
   "id": "69cb1cc9",
   "metadata": {},
   "outputs": [],
   "source": [
    "#As seen, there is no return from the difference_update method and original set is updated."
   ]
  },
  {
   "cell_type": "code",
   "execution_count": null,
   "id": "2d65694a",
   "metadata": {},
   "outputs": [],
   "source": [
    "#symmetric_difference() method in Python returns the elements that are present in either of the sets but not in both i.e. \n",
    "\n",
    "# symemetric_difference = set union - set intersection\n",
    "\n",
    "set1 = set('abcdepqr')\n",
    "set2 = set('efghicdex')\n",
    "set3 = set('xyzcdepq')\n",
    "\n",
    "print(sorted(set1))\n",
    "print(sorted(set2))"
   ]
  },
  {
   "cell_type": "code",
   "execution_count": 57,
   "id": "1c420c9a",
   "metadata": {},
   "outputs": [
    {
     "name": "stdout",
     "output_type": "stream",
     "text": [
      "{0, 1, 2, 3, 4}\n",
      "{3, 4, 5, 6}\n",
      "{4, 5, 6, 7}\n",
      "[0, 1, 2, 3, 4, 5, 6, 7, 8, 9]\n"
     ]
    }
   ],
   "source": [
    "print(set1)\n",
    "print(set2)\n",
    "print(set3)\n",
    "print(set4)"
   ]
  },
  {
   "cell_type": "code",
   "execution_count": 59,
   "id": "f1fceecb",
   "metadata": {},
   "outputs": [
    {
     "ename": "TypeError",
     "evalue": "set.symmetric_difference() takes exactly one argument (2 given)",
     "output_type": "error",
     "traceback": [
      "\u001b[1;31m---------------------------------------------------------------------------\u001b[0m",
      "\u001b[1;31mTypeError\u001b[0m                                 Traceback (most recent call last)",
      "\u001b[1;32m~\\AppData\\Local\\Temp\\ipykernel_12860\\237382155.py\u001b[0m in \u001b[0;36m<module>\u001b[1;34m\u001b[0m\n\u001b[1;32m----> 1\u001b[1;33m \u001b[0mset4\u001b[0m \u001b[1;33m=\u001b[0m \u001b[0mset1\u001b[0m\u001b[1;33m.\u001b[0m\u001b[0msymmetric_difference\u001b[0m\u001b[1;33m(\u001b[0m\u001b[0mset2\u001b[0m\u001b[1;33m,\u001b[0m \u001b[0mset3\u001b[0m\u001b[1;33m)\u001b[0m\u001b[1;33m\u001b[0m\u001b[1;33m\u001b[0m\u001b[0m\n\u001b[0m\u001b[0;32m      2\u001b[0m \u001b[1;33m\u001b[0m\u001b[0m\n\u001b[0;32m      3\u001b[0m \u001b[0mprint\u001b[0m\u001b[1;33m(\u001b[0m\u001b[0mset1\u001b[0m\u001b[1;33m)\u001b[0m\u001b[1;33m\u001b[0m\u001b[1;33m\u001b[0m\u001b[0m\n\u001b[0;32m      4\u001b[0m \u001b[0mprint\u001b[0m\u001b[1;33m(\u001b[0m\u001b[0mset2\u001b[0m\u001b[1;33m)\u001b[0m\u001b[1;33m\u001b[0m\u001b[1;33m\u001b[0m\u001b[0m\n\u001b[0;32m      5\u001b[0m \u001b[0mprint\u001b[0m\u001b[1;33m(\u001b[0m\u001b[0mset4\u001b[0m\u001b[1;33m)\u001b[0m\u001b[1;33m\u001b[0m\u001b[1;33m\u001b[0m\u001b[0m\n",
      "\u001b[1;31mTypeError\u001b[0m: set.symmetric_difference() takes exactly one argument (2 given)"
     ]
    }
   ],
   "source": [
    "set4 = set1.symmetric_difference(set2, set3)\n",
    "\n",
    "print(set1)\n",
    "print(set2)\n",
    "print(set4)"
   ]
  },
  {
   "cell_type": "code",
   "execution_count": null,
   "id": "4ddfb925",
   "metadata": {},
   "outputs": [],
   "source": [
    "# Unlike the other operations of union, intersection and difference though - symmetric_difference takes only one argument.\n",
    "\n",
    "\n",
    "set5 = set1.symmetric_difference(set2)\n",
    "\n",
    "print(set5)"
   ]
  },
  {
   "cell_type": "code",
   "execution_count": null,
   "id": "2def3de2",
   "metadata": {},
   "outputs": [],
   "source": [
    "# And the ^ (caret) operator is used for symmetric_differnce in Python. As with the other methods, ^ operator will only\n",
    "# allow operation to be performed between two sets. \n",
    "\n",
    "set1 = set('abcde')\n",
    "lst2 = list('fghicde')\n",
    "\n",
    "set3 = set1.symmetric_difference(lst2)\n",
    "\n",
    "print(set1)\n",
    "print(lst2)\n",
    "print(set3)"
   ]
  },
  {
   "cell_type": "code",
   "execution_count": null,
   "id": "61be460e",
   "metadata": {},
   "outputs": [],
   "source": [
    "set1 = set('abcde')\n",
    "set2 = set('fghicde')"
   ]
  },
  {
   "cell_type": "code",
   "execution_count": 60,
   "id": "87c42a47",
   "metadata": {},
   "outputs": [
    {
     "name": "stdout",
     "output_type": "stream",
     "text": [
      "{0, 1, 2, 3, 4}\n",
      "{3, 4, 5, 6}\n",
      "{0, 1, 2, 5, 6}\n"
     ]
    }
   ],
   "source": [
    "set3 = set1 ^ set2\n",
    "\n",
    "print(set1)\n",
    "print(set2)\n",
    "print(set3)"
   ]
  },
  {
   "cell_type": "code",
   "execution_count": null,
   "id": "549e0b17",
   "metadata": {},
   "outputs": [],
   "source": [
    "set1 = set('abcde')\n",
    "lst2 = list('fghicde')\n",
    "\n",
    "set3 = set1 ^ lst2\n",
    "\n",
    "print(set1)\n",
    "print(lst2)\n",
    "print(set3)"
   ]
  },
  {
   "cell_type": "code",
   "execution_count": null,
   "id": "64b3023c",
   "metadata": {},
   "outputs": [],
   "source": [
    "#.symmetric_difference_update method updates the original set and takes only 1 parameter. It modifies the original set\n",
    "# and returns nothing. "
   ]
  },
  {
   "cell_type": "code",
   "execution_count": 61,
   "id": "afcdb139",
   "metadata": {},
   "outputs": [
    {
     "name": "stdout",
     "output_type": "stream",
     "text": [
      "{0, 1, 2, 5, 6}\n",
      "{3, 4, 5, 6}\n",
      "None\n"
     ]
    }
   ],
   "source": [
    "set1 = set(range(5))\n",
    "set2 = set(range(3,7))\n",
    "\n",
    "set3 = set1.symmetric_difference_update(set2)\n",
    "\n",
    "print(set1)\n",
    "print(set2)\n",
    "print(set3)\n",
    "\n"
   ]
  },
  {
   "cell_type": "code",
   "execution_count": null,
   "id": "e87ae70d",
   "metadata": {},
   "outputs": [],
   "source": [
    "b is subset of a if all elements of b are present in a\n",
    "a is superset of b if it contains all the elements of b\n",
    "\n",
    "\n",
    "every set is a subset and superset of itself by definition. \n",
    "\n",
    "Besides the elements contained in b, if a has more elements, then a is a PROPER superset of b and b is a PROPER subset of a."
   ]
  },
  {
   "cell_type": "code",
   "execution_count": null,
   "id": "3e2e54cd",
   "metadata": {},
   "outputs": [],
   "source": []
  },
  {
   "cell_type": "code",
   "execution_count": 71,
   "id": "32bc27f2",
   "metadata": {},
   "outputs": [
    {
     "name": "stdout",
     "output_type": "stream",
     "text": [
      "True\n"
     ]
    }
   ],
   "source": [
    "#issubset() method on sets - checks if ALL the elements are present in another. The set which we have to check for (whether\n",
    "# it is a subset) will be passed as the caller object i.e. on the left and the superset(the set which is supposed to \n",
    "#contain all the elements) is on the right. It returns a boolean value True or False\n",
    "\n",
    "set1 = set('abc')\n",
    "set2 = set('abcde')\n",
    "\n",
    "set3 = set1.issubset(set2)\n",
    "\n",
    "print(set3)"
   ]
  },
  {
   "cell_type": "code",
   "execution_count": 72,
   "id": "c8b7d049",
   "metadata": {},
   "outputs": [
    {
     "name": "stdout",
     "output_type": "stream",
     "text": [
      "True\n"
     ]
    }
   ],
   "source": [
    "print(set1 < set2) # Proper subset"
   ]
  },
  {
   "cell_type": "code",
   "execution_count": null,
   "id": "f94e763a",
   "metadata": {},
   "outputs": [],
   "source": []
  },
  {
   "cell_type": "code",
   "execution_count": 73,
   "id": "8b0ed626",
   "metadata": {},
   "outputs": [
    {
     "name": "stdout",
     "output_type": "stream",
     "text": [
      "True\n"
     ]
    }
   ],
   "source": [
    "print(set1 <= set2) # Same as issubset"
   ]
  },
  {
   "cell_type": "code",
   "execution_count": null,
   "id": "aaf2466b",
   "metadata": {},
   "outputs": [],
   "source": [
    "x = 10\n",
    "\n",
    "lst1.insert(x+10,'hello')"
   ]
  },
  {
   "cell_type": "code",
   "execution_count": null,
   "id": "c18b4a38",
   "metadata": {},
   "outputs": [],
   "source": [
    "set4 = set('abcxy')\n",
    "\n",
    "print(set1.issubset(set2, set4))"
   ]
  },
  {
   "cell_type": "code",
   "execution_count": 74,
   "id": "f8d5ca0c",
   "metadata": {},
   "outputs": [
    {
     "name": "stdout",
     "output_type": "stream",
     "text": [
      "{'c', 'a', 'b'}\n",
      "{'b', 'd', 'c', 'a', 'e'}\n"
     ]
    }
   ],
   "source": [
    "print(set1)\n",
    "print(set2)"
   ]
  },
  {
   "cell_type": "code",
   "execution_count": 75,
   "id": "965c383b",
   "metadata": {},
   "outputs": [
    {
     "name": "stdout",
     "output_type": "stream",
     "text": [
      "True\n"
     ]
    }
   ],
   "source": [
    "#It can only check for one subset at a time. \n",
    "\n",
    "#Meanwhile, if a is subset of b, b is not neccessarily a subset of a. It MAY be but is more likely a superset of a. \n",
    "\n",
    "print(set2.issuperset(set1))"
   ]
  },
  {
   "cell_type": "code",
   "execution_count": null,
   "id": "66eedf10",
   "metadata": {},
   "outputs": [],
   "source": [
    "#We can also use operators to check for whether a set is a subset of another(or superset of another - more on that later)."
   ]
  },
  {
   "cell_type": "code",
   "execution_count": null,
   "id": "bf0fec07",
   "metadata": {},
   "outputs": [],
   "source": [
    "Do not have function to check proper subset and superset. But we DO have operators to check for proper subset and superset."
   ]
  },
  {
   "cell_type": "code",
   "execution_count": null,
   "id": "0d8dd661",
   "metadata": {},
   "outputs": [],
   "source": []
  },
  {
   "cell_type": "code",
   "execution_count": 80,
   "id": "99ea2485",
   "metadata": {},
   "outputs": [
    {
     "name": "stdout",
     "output_type": "stream",
     "text": [
      "{'c', 'a', 'b'}\n",
      "{'c', 'a', 'b'}\n"
     ]
    }
   ],
   "source": [
    "set1 = set('abc')\n",
    "set2 = set('abc')\n",
    "print(set1)\n",
    "print(set2)"
   ]
  },
  {
   "cell_type": "code",
   "execution_count": 81,
   "id": "6b217da1",
   "metadata": {},
   "outputs": [
    {
     "name": "stdout",
     "output_type": "stream",
     "text": [
      "True\n"
     ]
    }
   ],
   "source": [
    "print(set2.issuperset(set1))"
   ]
  },
  {
   "cell_type": "code",
   "execution_count": 82,
   "id": "4eed3449",
   "metadata": {},
   "outputs": [
    {
     "name": "stdout",
     "output_type": "stream",
     "text": [
      "True\n"
     ]
    }
   ],
   "source": [
    "print(set2 >= set1) #set1 is subset of set2"
   ]
  },
  {
   "cell_type": "code",
   "execution_count": 83,
   "id": "4a985bea",
   "metadata": {},
   "outputs": [
    {
     "name": "stdout",
     "output_type": "stream",
     "text": [
      "False\n"
     ]
    }
   ],
   "source": [
    "print(set2 > set1) # Proper superset"
   ]
  },
  {
   "cell_type": "code",
   "execution_count": null,
   "id": "f2ca314f",
   "metadata": {},
   "outputs": [],
   "source": [
    "print(set1.issubset(set2))"
   ]
  },
  {
   "cell_type": "code",
   "execution_count": null,
   "id": "9e82b45c",
   "metadata": {},
   "outputs": [],
   "source": [
    "print(set1 < set2)"
   ]
  },
  {
   "cell_type": "code",
   "execution_count": null,
   "id": "4653ced3",
   "metadata": {},
   "outputs": [],
   "source": [
    "set4 = set('abcde')\n",
    "\n",
    "print(set2)\n",
    "print(set4)"
   ]
  },
  {
   "cell_type": "code",
   "execution_count": null,
   "id": "1956b8a6",
   "metadata": {},
   "outputs": [],
   "source": [
    "print(set4 < set2) #set4 is proper subset"
   ]
  },
  {
   "cell_type": "code",
   "execution_count": null,
   "id": "0914df07",
   "metadata": {},
   "outputs": [],
   "source": [
    "print(set1)\n",
    "print(set2)"
   ]
  },
  {
   "cell_type": "code",
   "execution_count": null,
   "id": "5d2a0517",
   "metadata": {},
   "outputs": [],
   "source": [
    "result = set1 > set2\n",
    "print(result)\n",
    "\n",
    "#As with issubset - it returns True if set1 if all elements of set1 are present in set2."
   ]
  },
  {
   "cell_type": "code",
   "execution_count": null,
   "id": "771e7c36",
   "metadata": {},
   "outputs": [],
   "source": [
    "result = set1 < set2\n",
    "\n",
    "print(result)"
   ]
  },
  {
   "cell_type": "code",
   "execution_count": null,
   "id": "9d3c1835",
   "metadata": {},
   "outputs": [],
   "source": [
    "print(set1)"
   ]
  },
  {
   "cell_type": "code",
   "execution_count": null,
   "id": "169f958c",
   "metadata": {},
   "outputs": [],
   "source": [
    "set3 = set('abcde')\n",
    "\n",
    "print(set1 < set3)\n",
    "\n"
   ]
  },
  {
   "cell_type": "code",
   "execution_count": null,
   "id": "f80aa99f",
   "metadata": {},
   "outputs": [],
   "source": [
    "set1 = set('abc')\n",
    "set2 = set('abcde')\n",
    "set3 = set('abcde')"
   ]
  },
  {
   "cell_type": "code",
   "execution_count": null,
   "id": "ed6d930a",
   "metadata": {},
   "outputs": [],
   "source": [
    "print(set2 > set3)"
   ]
  },
  {
   "cell_type": "code",
   "execution_count": null,
   "id": "6b14a72b",
   "metadata": {},
   "outputs": [],
   "source": []
  },
  {
   "cell_type": "code",
   "execution_count": null,
   "id": "bd963dd0",
   "metadata": {},
   "outputs": [],
   "source": []
  },
  {
   "cell_type": "code",
   "execution_count": null,
   "id": "6f904b18",
   "metadata": {},
   "outputs": [],
   "source": []
  },
  {
   "cell_type": "code",
   "execution_count": null,
   "id": "57c93360",
   "metadata": {},
   "outputs": [],
   "source": [
    "set1 = set('abcde')\n",
    "set2 = set('cdefghij')\n",
    "\n",
    "print(set1 <= set2)"
   ]
  },
  {
   "cell_type": "code",
   "execution_count": null,
   "id": "d2cb88f6",
   "metadata": {},
   "outputs": [],
   "source": [
    "set1 = set('abcde')\n",
    "set2 = set('abcde')\n",
    "\n",
    "print(set1.issubset(set2))\n",
    "print(set2.issubset(set1))"
   ]
  },
  {
   "cell_type": "code",
   "execution_count": null,
   "id": "e5389dc2",
   "metadata": {},
   "outputs": [],
   "source": [
    "# A set is considered a subset of itself. It fits the definition - all elements of the set are present in itself.\n",
    "\n",
    "\n",
    "print(set1.issubset(set1))"
   ]
  },
  {
   "cell_type": "code",
   "execution_count": null,
   "id": "108806a4",
   "metadata": {},
   "outputs": [],
   "source": [
    "#However, for practical purposes we may need to check if a set is a PROPER subset of another i.e. all elements of set1 are\n",
    "# present in set2 AND Set1 and Set2 are NOT equal. For this, we can use the < operator on sets. \n",
    "\n",
    "set1 = set('abcde')\n",
    "set2 = set('abcdefghi')\n",
    "\n",
    "print(set1 < set2)"
   ]
  },
  {
   "cell_type": "code",
   "execution_count": null,
   "id": "7db5714f",
   "metadata": {},
   "outputs": [],
   "source": [
    "set1 = set('abcde')\n",
    "set2 = set('abcde')\n",
    "\n",
    "print(set1 < set2)\n"
   ]
  },
  {
   "cell_type": "code",
   "execution_count": null,
   "id": "86e51c62",
   "metadata": {},
   "outputs": [],
   "source": [
    "#We can also check for equality of sets. \n",
    "\n",
    "print(set1 == set2)"
   ]
  },
  {
   "cell_type": "code",
   "execution_count": null,
   "id": "112e2e52",
   "metadata": {},
   "outputs": [],
   "source": [
    "print(set1 != set2) # -   !# denotes NOT equal"
   ]
  },
  {
   "cell_type": "code",
   "execution_count": null,
   "id": "94f7a4e8",
   "metadata": {},
   "outputs": [],
   "source": [
    "set1 = set('abcde')\n",
    "set2 = set('fghij')\n",
    "\n",
    "print(set1 == set2)\n",
    "print(set1 != set2)"
   ]
  },
  {
   "cell_type": "code",
   "execution_count": null,
   "id": "90961931",
   "metadata": {},
   "outputs": [],
   "source": [
    "set1 = set('abc')\n",
    "lst2 = list('abcde')\n",
    "\n",
    "print(set1.issubset(lst2))\n",
    "\n",
    "#Allows any other iterable to be used.\n",
    "\n"
   ]
  },
  {
   "cell_type": "code",
   "execution_count": null,
   "id": "00a5e479",
   "metadata": {},
   "outputs": [],
   "source": [
    "lst2 = list('abcde')\n",
    "\n",
    "print(set1 < lst2)"
   ]
  },
  {
   "cell_type": "code",
   "execution_count": null,
   "id": "0b761c2a",
   "metadata": {},
   "outputs": [],
   "source": [
    "#The operators do not allow different datatypes to be compared. \n",
    "\n",
    "print(set1 <= lst2)"
   ]
  },
  {
   "cell_type": "code",
   "execution_count": null,
   "id": "e62fc9e0",
   "metadata": {},
   "outputs": [],
   "source": [
    "print(set1)"
   ]
  },
  {
   "cell_type": "code",
   "execution_count": null,
   "id": "3c25be83",
   "metadata": {},
   "outputs": [],
   "source": [
    "print(set1.issubset('abcde') #Note here how the 'abcde' is converted to a set and then checked returning true."
   ]
  },
  {
   "cell_type": "code",
   "execution_count": null,
   "id": "94cf85ba",
   "metadata": {},
   "outputs": [],
   "source": [
    "print(set1.issubset(['a','b','c','d','e']))"
   ]
  },
  {
   "cell_type": "code",
   "execution_count": null,
   "id": "fe8accd9",
   "metadata": {},
   "outputs": [],
   "source": [
    "#A set will return True for both a subset and a superset of itself. "
   ]
  },
  {
   "cell_type": "code",
   "execution_count": null,
   "id": "981cded0",
   "metadata": {},
   "outputs": [],
   "source": [
    "#issuperset() method checks if a set contains all the elements of another set. The super set which is supposed to contain\n",
    "# all the elements of the second set is called the superset and is on the left. Meanwhile, the subset or the set which \n",
    "# may contain the elements of the superset, is on the right. If a is a superset of b, b is subset of a. \n",
    "\n",
    "set1 = set('abcde')\n",
    "set2 = set('abc')\n",
    "\n",
    "print(set1.issuperset(set2))"
   ]
  },
  {
   "cell_type": "code",
   "execution_count": null,
   "id": "5d98b024",
   "metadata": {},
   "outputs": [],
   "source": [
    "print(set2.issuperset(set1))"
   ]
  },
  {
   "cell_type": "code",
   "execution_count": null,
   "id": "c2bd7db2",
   "metadata": {},
   "outputs": [],
   "source": [
    "set1 = set('abcde')\n",
    "set2 = set('abcde')\n",
    "\n",
    "print(set1.issubset(set2))\n",
    "print(set2.issuperset(set1))"
   ]
  },
  {
   "cell_type": "code",
   "execution_count": null,
   "id": "018efaea",
   "metadata": {},
   "outputs": [],
   "source": [
    "#A set will return as super set of itself. \n",
    "\n",
    "print(set1.issuperset(set1))"
   ]
  },
  {
   "cell_type": "code",
   "execution_count": null,
   "id": "21b99cd9",
   "metadata": {},
   "outputs": [],
   "source": [
    "#We can also use operators to check if a set is a superset of another. \n",
    "\n",
    "set1 = set('abcdefghij')\n",
    "set2 = set('abcde')\n",
    "\n",
    "print(set1 > set2)"
   ]
  },
  {
   "cell_type": "code",
   "execution_count": null,
   "id": "87b245c7",
   "metadata": {},
   "outputs": [],
   "source": [
    "set1 = set('abcde')\n",
    "set2 = set('abcde')\n",
    "\n",
    "print(set1 >= set2)"
   ]
  },
  {
   "cell_type": "code",
   "execution_count": null,
   "id": "31352dc1",
   "metadata": {},
   "outputs": [],
   "source": [
    "print(set1 > set2)"
   ]
  },
  {
   "cell_type": "code",
   "execution_count": null,
   "id": "a6cde4f4",
   "metadata": {},
   "outputs": [],
   "source": [
    "#As with subsets - the > operator returns True only if set 1 contains all the elements of set2 AND is not\n",
    "# equal to set 2. "
   ]
  },
  {
   "cell_type": "code",
   "execution_count": 85,
   "id": "deac6241",
   "metadata": {},
   "outputs": [
    {
     "name": "stdout",
     "output_type": "stream",
     "text": [
      "True\n"
     ]
    }
   ],
   "source": [
    "#Allows any other iterable to be used.  \n",
    "\n",
    "set1 = set('abcde')\n",
    "lst2 = set('abc')\n",
    "set3 = set('fghi')\n",
    "print(set1.issuperset(lst2))"
   ]
  },
  {
   "cell_type": "code",
   "execution_count": null,
   "id": "9f1281c0",
   "metadata": {},
   "outputs": [],
   "source": [
    "#isdisjoint() - will check that two sets have no common elements between them. Returns true if it finds no common elements\n",
    "# false if one or more common elements found.\n",
    "\n",
    "set1 = set('abcde')\n",
    "set2 = set('fghij')\n",
    "set3 = set('xyz')\n",
    "\n",
    "print(set1.isdisjoint(set2))"
   ]
  },
  {
   "cell_type": "code",
   "execution_count": null,
   "id": "43f09fc0",
   "metadata": {},
   "outputs": [],
   "source": [
    "# It takes only one parameter\n",
    "print(set1.isdisjoint(set2,set3))"
   ]
  },
  {
   "cell_type": "code",
   "execution_count": null,
   "id": "2c2e5372",
   "metadata": {},
   "outputs": [],
   "source": [
    "set1 = set('abc')\n",
    "set2 = set('abcde')\n",
    "set3 = set('fghij')"
   ]
  },
  {
   "cell_type": "code",
   "execution_count": 88,
   "id": "4e0608a7",
   "metadata": {},
   "outputs": [
    {
     "name": "stdout",
     "output_type": "stream",
     "text": [
      "True\n"
     ]
    }
   ],
   "source": [
    "print(set1.isdisjoint(set3))"
   ]
  },
  {
   "cell_type": "code",
   "execution_count": null,
   "id": "9185c8bc",
   "metadata": {},
   "outputs": [],
   "source": [
    "#Allows other datatypes to be used.\n",
    "\n",
    "lst2 = list('fghijjgkghiiiff')\n",
    "\n",
    "print(set1.isdisjoint(lst2))"
   ]
  },
  {
   "cell_type": "code",
   "execution_count": null,
   "id": "b0cbbb83",
   "metadata": {},
   "outputs": [],
   "source": [
    "set1 = set()\n",
    "set2 = set()\n",
    "\n",
    "print(set1.isdisjoint(set2))"
   ]
  },
  {
   "cell_type": "code",
   "execution_count": null,
   "id": "fc77ba99",
   "metadata": {},
   "outputs": [],
   "source": [
    "\n",
    "print(set1.isdisjoint('fghij'))"
   ]
  },
  {
   "cell_type": "code",
   "execution_count": null,
   "id": "4371f2ba",
   "metadata": {},
   "outputs": [],
   "source": [
    "set1 = set('abcde')\n",
    "lst1 = list('fghij')\n",
    "print(set1.isdisjoint(lst1))\n"
   ]
  },
  {
   "cell_type": "code",
   "execution_count": null,
   "id": "5644a11f",
   "metadata": {},
   "outputs": [],
   "source": [
    "set1.add('x')\n",
    "\n",
    "print(set1)"
   ]
  },
  {
   "cell_type": "code",
   "execution_count": null,
   "id": "977fa0cd",
   "metadata": {},
   "outputs": [],
   "source": [
    "set4 = set()\n",
    "\n",
    "print(set4)\n",
    "print(type(set4))"
   ]
  },
  {
   "cell_type": "code",
   "execution_count": null,
   "id": "d92a94b4",
   "metadata": {},
   "outputs": [],
   "source": [
    "print(set1.isdisjoint(set4))"
   ]
  },
  {
   "cell_type": "code",
   "execution_count": null,
   "id": "65dc1838",
   "metadata": {},
   "outputs": [],
   "source": [
    "set1 = set('abcde')\n",
    "set2 = set('xyzpq')\n",
    "\n",
    "print(set2 < set1)"
   ]
  },
  {
   "cell_type": "code",
   "execution_count": null,
   "id": "979d7c16",
   "metadata": {},
   "outputs": [],
   "source": [
    "sets are mutable\n",
    "can contain only immutable datatypes\n",
    "\n",
    "\n",
    "\n",
    "# Frozensets are simply IMMUTABLE sets"
   ]
  },
  {
   "cell_type": "code",
   "execution_count": null,
   "id": "2f175efa",
   "metadata": {},
   "outputs": [],
   "source": [
    "#As we have seen - sets themselves are mutable but contain immutable objects. However, if we need AN IMMUTABLE set which\n",
    "# only contains unique values, we can use Frozen sets - another built-in datatype in Python.\\\n",
    "\n",
    "#1. Frozensets are derived datatypes.\n",
    "#2. They are immutable. \n",
    "#3. The elements in a frozenset are immutable. So, unlike sets - no addition or removal of elements can be performed.\n",
    "#4. They are sequential\n",
    "#5. They are unordered. \n",
    "#6. They do not support slicing, indexing or item assignment\n",
    "#7. They are iterable.\n",
    "\n",
    "#They can take any iterable and be converted to a frozenset. "
   ]
  },
  {
   "cell_type": "code",
   "execution_count": null,
   "id": "5f3252c8",
   "metadata": {},
   "outputs": [],
   "source": []
  },
  {
   "cell_type": "code",
   "execution_count": 89,
   "id": "bfc50b29",
   "metadata": {},
   "outputs": [
    {
     "name": "stdout",
     "output_type": "stream",
     "text": [
      "{'b', 'd', 'c', 'a', 'e'}\n",
      "frozenset({'b', 'd', 'c', 'a', 'e'})\n",
      "<class 'frozenset'>\n"
     ]
    }
   ],
   "source": [
    "set1 = set('abcde')\n",
    "\n",
    "fset1 = frozenset('abcde')\n",
    "\n",
    "print(set1)\n",
    "print(fset1)\n",
    "print(type(fset1))"
   ]
  },
  {
   "cell_type": "code",
   "execution_count": 90,
   "id": "337a77c8",
   "metadata": {},
   "outputs": [
    {
     "name": "stdout",
     "output_type": "stream",
     "text": [
      "['__and__', '__class__', '__class_getitem__', '__contains__', '__delattr__', '__dir__', '__doc__', '__eq__', '__format__', '__ge__', '__getattribute__', '__gt__', '__hash__', '__iand__', '__init__', '__init_subclass__', '__ior__', '__isub__', '__iter__', '__ixor__', '__le__', '__len__', '__lt__', '__ne__', '__new__', '__or__', '__rand__', '__reduce__', '__reduce_ex__', '__repr__', '__ror__', '__rsub__', '__rxor__', '__setattr__', '__sizeof__', '__str__', '__sub__', '__subclasshook__', '__xor__', 'add', 'clear', 'copy', 'difference', 'difference_update', 'discard', 'intersection', 'intersection_update', 'isdisjoint', 'issubset', 'issuperset', 'pop', 'remove', 'symmetric_difference', 'symmetric_difference_update', 'union', 'update']\n"
     ]
    }
   ],
   "source": [
    "print(dir(set))"
   ]
  },
  {
   "cell_type": "code",
   "execution_count": null,
   "id": "62130084",
   "metadata": {},
   "outputs": [],
   "source": [
    "# Methods that work on sets    - Do Not work on Frozen sets\n",
    "\n",
    "add - No\n",
    "clear - No\n",
    "copy - Yes\n",
    "difference - Yes\n",
    "difference_update - No\n",
    "discard - No\n",
    "intersection - Yes\n",
    "intersection_update - No\n",
    "isdisjoint - Yes\n",
    "issubset - Yes\n",
    "issuperset - Yes\n",
    "pop - No\n",
    "remove - No\n",
    "symmetric_difference - Yes\n",
    "symmetric_difference_update - No\n",
    "union - Yes\n",
    "update - No\n"
   ]
  },
  {
   "cell_type": "code",
   "execution_count": null,
   "id": "b67a8be2",
   "metadata": {},
   "outputs": [],
   "source": [
    "# Cannot use the following methods from sets for frozensets\n",
    "# add, remove, discard, pop, update, intersection_update, difference_update, sym_diff_update, clear"
   ]
  },
  {
   "cell_type": "code",
   "execution_count": null,
   "id": "d7a884df",
   "metadata": {},
   "outputs": [],
   "source": [
    "frozensets are immutable with immutable datatype stored"
   ]
  },
  {
   "cell_type": "code",
   "execution_count": null,
   "id": "500d0ec3",
   "metadata": {},
   "outputs": [],
   "source": [
    "print(dir(frozenset))"
   ]
  },
  {
   "cell_type": "code",
   "execution_count": null,
   "id": "816be86d",
   "metadata": {},
   "outputs": [],
   "source": [
    "fset1.add('f')"
   ]
  },
  {
   "cell_type": "code",
   "execution_count": null,
   "id": "84ddc192",
   "metadata": {},
   "outputs": [],
   "source": [
    "fset1.remove('e')"
   ]
  },
  {
   "cell_type": "code",
   "execution_count": null,
   "id": "0e6e3912",
   "metadata": {},
   "outputs": [],
   "source": [
    "fset2 = frozenset('fghij')\n",
    "\n",
    "print(fset2)"
   ]
  },
  {
   "cell_type": "code",
   "execution_count": null,
   "id": "e411e607",
   "metadata": {},
   "outputs": [],
   "source": [
    "fset1 | fset2"
   ]
  },
  {
   "cell_type": "code",
   "execution_count": null,
   "id": "ef41e3af",
   "metadata": {},
   "outputs": [],
   "source": [
    "fset3 = fset1|fset2\n",
    "\n",
    "print(fset3)"
   ]
  },
  {
   "cell_type": "code",
   "execution_count": null,
   "id": "f73cf5b4",
   "metadata": {},
   "outputs": [],
   "source": [
    "#Though we can perform some operations on frozensets which will all create new frozenset objects. More on that later."
   ]
  },
  {
   "cell_type": "code",
   "execution_count": null,
   "id": "44c9b3fb",
   "metadata": {},
   "outputs": [],
   "source": [
    "print(dir(frozenset))"
   ]
  },
  {
   "cell_type": "code",
   "execution_count": null,
   "id": "203cc8d1",
   "metadata": {},
   "outputs": [],
   "source": [
    "fset4 = fset1.union(fset2)\n",
    "\n",
    "print(fset4)"
   ]
  },
  {
   "cell_type": "code",
   "execution_count": null,
   "id": "ec8108e1",
   "metadata": {},
   "outputs": [],
   "source": [
    "print(dir(frozenset))"
   ]
  },
  {
   "cell_type": "code",
   "execution_count": null,
   "id": "bbea694b",
   "metadata": {},
   "outputs": [],
   "source": [
    "fset5 = fset1.update(fset2)\n",
    "\n",
    "print(fset5)"
   ]
  },
  {
   "cell_type": "code",
   "execution_count": null,
   "id": "d8e15a77",
   "metadata": {},
   "outputs": [],
   "source": [
    "lst1 = list('abcde')\n",
    "\n",
    "print(lst1)\n",
    "\n",
    "fset3 = frozenset(lst1)\n",
    "\n",
    "print(fset3)"
   ]
  },
  {
   "cell_type": "code",
   "execution_count": null,
   "id": "6901eca6",
   "metadata": {},
   "outputs": [],
   "source": [
    "tup1 = tuple('abcde')\n",
    "\n",
    "fset4 = frozenset(tup1)\n",
    "print(fset4)"
   ]
  },
  {
   "cell_type": "code",
   "execution_count": null,
   "id": "77c20011",
   "metadata": {},
   "outputs": [],
   "source": [
    "dict1 = dict.fromkeys(tup1)\n",
    "\n",
    "print(dict1)"
   ]
  },
  {
   "cell_type": "code",
   "execution_count": null,
   "id": "9c52115f",
   "metadata": {},
   "outputs": [],
   "source": [
    "fset5 = frozenset(dict1)\n",
    "\n",
    "print(fset5)"
   ]
  },
  {
   "cell_type": "code",
   "execution_count": null,
   "id": "7871e881",
   "metadata": {},
   "outputs": [],
   "source": [
    "#As you will see, frozenset takes only the key values of the dictionary. Though we could convert the key, value pairs to \n",
    "# tuples and then put them in a frozenset. \n",
    "\n",
    "tup2 = tuple(dict1.items())\n",
    "print(tup2)"
   ]
  },
  {
   "cell_type": "code",
   "execution_count": null,
   "id": "a569378e",
   "metadata": {},
   "outputs": [],
   "source": [
    "fset6 = frozenset(tup2)\n",
    "\n",
    "print(fset6)\n",
    "\n",
    "set6x = set(tup2)\n",
    "\n",
    "print(set6x)"
   ]
  },
  {
   "cell_type": "code",
   "execution_count": null,
   "id": "730dd1d8",
   "metadata": {},
   "outputs": [],
   "source": [
    "lst3 = [1,2,3,4,[5,6,7],8,9]\n",
    "\n",
    "fset7 = frozenset(lst3)"
   ]
  },
  {
   "cell_type": "code",
   "execution_count": null,
   "id": "4663ffc4",
   "metadata": {},
   "outputs": [],
   "source": [
    "#Note - just like with sets - we cannot trick frozenset to accept a mutable object as its element. Once frozenset is created\n",
    "# it cannot be modified. It is very useful when we want to save sensitive information, like in cybersecurity or in \n",
    "# identity management on financial applications or government official information. Once saved the frozenset object\n",
    "# associated with a user or id, has to be completely replaced in case of modificiations. \n",
    "\n",
    "#However, we can perform certain operations on frozen sets. \n",
    "\n",
    "fset1 = frozenset('abcde')\n",
    "fset2 = frozenset('cdefghij')\n",
    "\n",
    "fset3 = fset1.union(fset2)\n",
    "\n",
    "print(fset1)\n",
    "print(fset2)\n",
    "print(fset3)"
   ]
  },
  {
   "cell_type": "code",
   "execution_count": null,
   "id": "1acd3135",
   "metadata": {},
   "outputs": [],
   "source": [
    "fset3x = fset1 | fset2\n",
    "\n",
    "print(fset3x)"
   ]
  },
  {
   "cell_type": "code",
   "execution_count": null,
   "id": "5a58d2cc",
   "metadata": {},
   "outputs": [],
   "source": [
    "fset4 = frozenset('xyz')\n",
    "\n",
    "fset3y = fset1.union(fset2, fset4)\n",
    "\n",
    "print(fset3y)"
   ]
  },
  {
   "cell_type": "code",
   "execution_count": null,
   "id": "472c2f31",
   "metadata": {},
   "outputs": [],
   "source": [
    "fset3xx = fset1 | fset2 | fset4\n",
    "\n",
    "print(fset3xx)\n",
    "\n",
    "#Multiple union operations are possible with both the method and the operator."
   ]
  },
  {
   "cell_type": "code",
   "execution_count": null,
   "id": "60da61b1",
   "metadata": {},
   "outputs": [],
   "source": [
    "fset1 = frozenset('abcde')\n",
    "lst2 = list('fghij')\n",
    "\n",
    "fset2 = fset1.union(lst2)\n",
    "\n",
    "print(fset2)"
   ]
  },
  {
   "cell_type": "code",
   "execution_count": null,
   "id": "e03f6907",
   "metadata": {},
   "outputs": [],
   "source": [
    "fset3 = fset1 | lst2\n",
    "\n",
    "print(fset3)"
   ]
  },
  {
   "cell_type": "code",
   "execution_count": null,
   "id": "c32fc3c9",
   "metadata": {},
   "outputs": [],
   "source": [
    "fset14 = frozenset('xyzabcd')\n",
    "fset15 = frozenset('abcd')\n",
    "\n",
    "fset16 = fset14.intersection(fset15)\n",
    "print(fset16)"
   ]
  },
  {
   "cell_type": "code",
   "execution_count": null,
   "id": "42e36e2a",
   "metadata": {},
   "outputs": [],
   "source": [
    "#As with sets, the operator does not allow other datatypes to perform the union function. "
   ]
  },
  {
   "cell_type": "markdown",
   "id": "bf91fb74",
   "metadata": {},
   "source": [
    "#### Going forward, please hold true that operators between derived datatypes will not permit operations between different\n",
    "#### datatypes (Except the * operator in the case of lists and tuples - where duplicate elements is not an issue - which \n",
    "#### performs a multiplication operation between the elements of the datatype and the integer). <For dictionaries, sets and \n",
    "#### frozensets - since the elements must be unique - the multiplication operator is not available.\n",
    "\n",
    "### As such, will not be performing tests of operators between different datatypes. "
   ]
  },
  {
   "cell_type": "code",
   "execution_count": null,
   "id": "b1e70dcc",
   "metadata": {},
   "outputs": [],
   "source": [
    "#Intersection\n",
    "\n",
    "fset1 = frozenset('abcde')\n",
    "fset2 = frozenset('cdefghij')\n",
    "fset3 = frozenset('cdexyz')\n",
    "\n",
    "fset4 = fset1.intersection(fset2, fset3)\n",
    "\n",
    "print(fset4)"
   ]
  },
  {
   "cell_type": "code",
   "execution_count": null,
   "id": "21de0249",
   "metadata": {},
   "outputs": [],
   "source": [
    "fset5 = fset1 & fset2 & fset3\n",
    "\n",
    "print(fset5)"
   ]
  },
  {
   "cell_type": "code",
   "execution_count": null,
   "id": "d65618a4",
   "metadata": {},
   "outputs": [],
   "source": [
    "#Difference.  \n",
    "\n",
    "fset6 = fset1.difference(fset2)\n",
    "\n",
    "print(fset6)"
   ]
  },
  {
   "cell_type": "code",
   "execution_count": null,
   "id": "be6a22c4",
   "metadata": {},
   "outputs": [],
   "source": [
    "fset6 = fset1 - fset2\n",
    "\n",
    "print(fset6)"
   ]
  },
  {
   "cell_type": "code",
   "execution_count": null,
   "id": "7c64237e",
   "metadata": {},
   "outputs": [],
   "source": [
    "fset7 = fset1.difference(fset2, fset3)\n",
    "print(fset7)"
   ]
  },
  {
   "cell_type": "code",
   "execution_count": null,
   "id": "0074e712",
   "metadata": {},
   "outputs": [],
   "source": [
    "fset8 = fset1 - fset2 - fset3\n",
    "\n",
    "print(fset8)"
   ]
  },
  {
   "cell_type": "code",
   "execution_count": null,
   "id": "df6d57a1",
   "metadata": {},
   "outputs": [],
   "source": [
    "#Symmetric difference. Can only be performed between two sets. Not more. \n",
    "\n",
    "fset1 = frozenset('abcde')\n",
    "fset2 = frozenset('cdefghi')\n",
    "\n",
    "fset3 = fset1.symmetric_difference(fset2)\n",
    "\n",
    "print(fset3)"
   ]
  },
  {
   "cell_type": "code",
   "execution_count": null,
   "id": "9e1eaeb7",
   "metadata": {},
   "outputs": [],
   "source": [
    "fset4 = fset1 ^ fset2\n",
    "\n",
    "print(fset4)"
   ]
  },
  {
   "cell_type": "code",
   "execution_count": null,
   "id": "9ff6789b",
   "metadata": {},
   "outputs": [],
   "source": [
    "fset5 = frozenset('xyz')\n",
    "\n",
    "fset6 = fset1.symmetric_difference(fset2)\n",
    "\n",
    "print(fset6)"
   ]
  },
  {
   "cell_type": "code",
   "execution_count": null,
   "id": "15eb8d07",
   "metadata": {},
   "outputs": [],
   "source": [
    "set20 = set(fset5)\n",
    "\n",
    "print(set20)"
   ]
  },
  {
   "cell_type": "code",
   "execution_count": null,
   "id": "5b31fb6b",
   "metadata": {},
   "outputs": [],
   "source": [
    "set4 = set('1,2,3,4')\n",
    "print(set4)\n",
    "print(type(set4))"
   ]
  },
  {
   "cell_type": "code",
   "execution_count": null,
   "id": "8c4b4d93",
   "metadata": {},
   "outputs": [],
   "source": [
    "set5 = set([1,2,3,4])\n",
    "print(set5)\n",
    "print(type(set5))"
   ]
  },
  {
   "cell_type": "code",
   "execution_count": null,
   "id": "779f403b",
   "metadata": {},
   "outputs": [],
   "source": [
    "set6 = set('praju')\n",
    "print(set6)\n",
    "print(type(set6))"
   ]
  },
  {
   "cell_type": "code",
   "execution_count": null,
   "id": "b2cb1360",
   "metadata": {},
   "outputs": [],
   "source": [
    "print(dir(frozenset))"
   ]
  },
  {
   "cell_type": "code",
   "execution_count": null,
   "id": "515b6225",
   "metadata": {},
   "outputs": [],
   "source": []
  },
  {
   "cell_type": "code",
   "execution_count": 1,
   "id": "49368b9b",
   "metadata": {},
   "outputs": [],
   "source": [
    "# Properties of sets\n",
    "\n",
    "#1. Derived\n",
    "#2. Mutable\n",
    "#3. Iterable\n",
    "#4. Does not support subcription\n",
    "#5. Heterogenous\n",
    "#6. Values in set must be unique and immutable type.\n",
    "#7. Unordered"
   ]
  },
  {
   "cell_type": "code",
   "execution_count": null,
   "id": "cc3cac6d",
   "metadata": {},
   "outputs": [],
   "source": [
    "# Operations on sets\n",
    "\n",
    "# union, intersection, difference, symmetric_difference"
   ]
  },
  {
   "cell_type": "code",
   "execution_count": 6,
   "id": "64ec1b2d",
   "metadata": {},
   "outputs": [
    {
     "name": "stdout",
     "output_type": "stream",
     "text": [
      "['a', 'b', 'c', 'd', 'e', 'f', 'g', 'h', 'i', 'j']\n"
     ]
    }
   ],
   "source": [
    "set1 = set('abcde')\n",
    "set2 = list('cfg')\n",
    "set3 = list('cdehij')\n",
    "\n",
    "set4 = set1.union(set2, set3)\n",
    "\n",
    "print(sorted(list(set4)))\n"
   ]
  },
  {
   "cell_type": "code",
   "execution_count": 7,
   "id": "2ffc980e",
   "metadata": {},
   "outputs": [
    {
     "name": "stdout",
     "output_type": "stream",
     "text": [
      "['__and__', '__class__', '__class_getitem__', '__contains__', '__delattr__', '__dir__', '__doc__', '__eq__', '__format__', '__ge__', '__getattribute__', '__gt__', '__hash__', '__iand__', '__init__', '__init_subclass__', '__ior__', '__isub__', '__iter__', '__ixor__', '__le__', '__len__', '__lt__', '__ne__', '__new__', '__or__', '__rand__', '__reduce__', '__reduce_ex__', '__repr__', '__ror__', '__rsub__', '__rxor__', '__setattr__', '__sizeof__', '__str__', '__sub__', '__subclasshook__', '__xor__', 'add', 'clear', 'copy', 'difference', 'difference_update', 'discard', 'intersection', 'intersection_update', 'isdisjoint', 'issubset', 'issuperset', 'pop', 'remove', 'symmetric_difference', 'symmetric_difference_update', 'union', 'update']\n"
     ]
    }
   ],
   "source": [
    "print(dir(set))"
   ]
  },
  {
   "cell_type": "code",
   "execution_count": 8,
   "id": "357a20c5",
   "metadata": {},
   "outputs": [
    {
     "name": "stdout",
     "output_type": "stream",
     "text": [
      "['__add__', '__class__', '__class_getitem__', '__contains__', '__delattr__', '__delitem__', '__dir__', '__doc__', '__eq__', '__format__', '__ge__', '__getattribute__', '__getitem__', '__gt__', '__hash__', '__iadd__', '__imul__', '__init__', '__init_subclass__', '__iter__', '__le__', '__len__', '__lt__', '__mul__', '__ne__', '__new__', '__reduce__', '__reduce_ex__', '__repr__', '__reversed__', '__rmul__', '__setattr__', '__setitem__', '__sizeof__', '__str__', '__subclasshook__', 'append', 'clear', 'copy', 'count', 'extend', 'index', 'insert', 'pop', 'remove', 'reverse', 'sort']\n"
     ]
    }
   ],
   "source": [
    "print(dir(list))"
   ]
  },
  {
   "cell_type": "code",
   "execution_count": null,
   "id": "be30471f",
   "metadata": {},
   "outputs": [],
   "source": [
    "set1 = set('abcde')\n",
    "set2 = set('cfg')\n",
    "set3 = set('cdehij')\n",
    "\n",
    "set4 = set1\n",
    "\n",
    "print(sorted(list(set4)))\n"
   ]
  }
 ],
 "metadata": {
  "kernelspec": {
   "display_name": "Python 3 (ipykernel)",
   "language": "python",
   "name": "python3"
  },
  "language_info": {
   "codemirror_mode": {
    "name": "ipython",
    "version": 3
   },
   "file_extension": ".py",
   "mimetype": "text/x-python",
   "name": "python",
   "nbconvert_exporter": "python",
   "pygments_lexer": "ipython3",
   "version": "3.9.13"
  }
 },
 "nbformat": 4,
 "nbformat_minor": 5
}
