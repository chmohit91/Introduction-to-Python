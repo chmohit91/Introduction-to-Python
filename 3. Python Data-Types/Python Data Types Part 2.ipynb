{
 "cells": [
  {
   "cell_type": "markdown",
   "id": "a5f7a8e8",
   "metadata": {},
   "source": [
    "## How list and tuples are actually different ?\n"
   ]
  },
  {
   "cell_type": "code",
   "execution_count": 1,
   "id": "c7604201",
   "metadata": {},
   "outputs": [
    {
     "name": "stdout",
     "output_type": "stream",
     "text": [
      "[1, 2, 3, 4, 5]\n"
     ]
    }
   ],
   "source": [
    "lst = [1,2,3,4,5]\n",
    "print(lst)"
   ]
  },
  {
   "cell_type": "code",
   "execution_count": 3,
   "id": "bb817503",
   "metadata": {},
   "outputs": [
    {
     "name": "stdout",
     "output_type": "stream",
     "text": [
      "2104038551872\n"
     ]
    }
   ],
   "source": [
    "print(id(lst))"
   ]
  },
  {
   "cell_type": "code",
   "execution_count": 4,
   "id": "9061fb2e",
   "metadata": {},
   "outputs": [],
   "source": [
    "lst.append(9)"
   ]
  },
  {
   "cell_type": "code",
   "execution_count": 5,
   "id": "6b5f8767",
   "metadata": {},
   "outputs": [
    {
     "data": {
      "text/plain": [
       "[1, 2, 3, 4, 5, 9]"
      ]
     },
     "execution_count": 5,
     "metadata": {},
     "output_type": "execute_result"
    }
   ],
   "source": [
    "lst"
   ]
  },
  {
   "cell_type": "code",
   "execution_count": 6,
   "id": "f8597145",
   "metadata": {},
   "outputs": [
    {
     "name": "stdout",
     "output_type": "stream",
     "text": [
      "2104038551872\n"
     ]
    }
   ],
   "source": [
    "print(id(lst))"
   ]
  },
  {
   "cell_type": "code",
   "execution_count": 9,
   "id": "59e0e50d",
   "metadata": {},
   "outputs": [],
   "source": [
    "lst.remove(2)"
   ]
  },
  {
   "cell_type": "code",
   "execution_count": 10,
   "id": "7b140291",
   "metadata": {},
   "outputs": [
    {
     "data": {
      "text/plain": [
       "[1, 3, 4, 5, 9]"
      ]
     },
     "execution_count": 10,
     "metadata": {},
     "output_type": "execute_result"
    }
   ],
   "source": [
    "lst"
   ]
  },
  {
   "cell_type": "code",
   "execution_count": 11,
   "id": "9255fd63",
   "metadata": {},
   "outputs": [],
   "source": [
    "lst.extend(['mayank', 2+8j, True])"
   ]
  },
  {
   "cell_type": "code",
   "execution_count": 15,
   "id": "526a28aa",
   "metadata": {},
   "outputs": [
    {
     "ename": "TypeError",
     "evalue": "'int' object is not iterable",
     "output_type": "error",
     "traceback": [
      "\u001b[1;31m---------------------------------------------------------------------------\u001b[0m",
      "\u001b[1;31mTypeError\u001b[0m                                 Traceback (most recent call last)",
      "Cell \u001b[1;32mIn[15], line 1\u001b[0m\n\u001b[1;32m----> 1\u001b[0m lst\u001b[38;5;241m.\u001b[39mextend(\u001b[38;5;241m99\u001b[39m)\n",
      "\u001b[1;31mTypeError\u001b[0m: 'int' object is not iterable"
     ]
    }
   ],
   "source": [
    "lst.extend(99)"
   ]
  },
  {
   "cell_type": "code",
   "execution_count": 13,
   "id": "b1ce2eee",
   "metadata": {},
   "outputs": [],
   "source": [
    "b = lst #aliasing"
   ]
  },
  {
   "cell_type": "code",
   "execution_count": 14,
   "id": "878a8dba",
   "metadata": {},
   "outputs": [
    {
     "data": {
      "text/plain": [
       "[1, 3, 4, 5, 9, 'mayank', (2+8j), True]"
      ]
     },
     "execution_count": 14,
     "metadata": {},
     "output_type": "execute_result"
    }
   ],
   "source": [
    "b"
   ]
  },
  {
   "cell_type": "code",
   "execution_count": null,
   "id": "fbba04ec",
   "metadata": {},
   "outputs": [],
   "source": []
  },
  {
   "cell_type": "code",
   "execution_count": null,
   "id": "b0f013f3",
   "metadata": {},
   "outputs": [],
   "source": []
  },
  {
   "cell_type": "code",
   "execution_count": 7,
   "id": "bd7c540a",
   "metadata": {},
   "outputs": [
    {
     "name": "stdout",
     "output_type": "stream",
     "text": [
      "(1, 2, 3, 4, 5)\n"
     ]
    }
   ],
   "source": [
    "t = (1,2,3,4,5)\n",
    "print(t)"
   ]
  },
  {
   "cell_type": "code",
   "execution_count": 8,
   "id": "529b30b0",
   "metadata": {},
   "outputs": [
    {
     "ename": "AttributeError",
     "evalue": "'tuple' object has no attribute 'append'",
     "output_type": "error",
     "traceback": [
      "\u001b[1;31m---------------------------------------------------------------------------\u001b[0m",
      "\u001b[1;31mAttributeError\u001b[0m                            Traceback (most recent call last)",
      "Cell \u001b[1;32mIn[8], line 1\u001b[0m\n\u001b[1;32m----> 1\u001b[0m t\u001b[38;5;241m.\u001b[39mappend(\u001b[38;5;241m9\u001b[39m)\n",
      "\u001b[1;31mAttributeError\u001b[0m: 'tuple' object has no attribute 'append'"
     ]
    }
   ],
   "source": [
    "t.append(9)"
   ]
  },
  {
   "cell_type": "code",
   "execution_count": 16,
   "id": "aa42e5bf",
   "metadata": {},
   "outputs": [],
   "source": [
    "t_1 = t + (9,8,'mayabk')"
   ]
  },
  {
   "cell_type": "code",
   "execution_count": 17,
   "id": "c1041f91",
   "metadata": {},
   "outputs": [
    {
     "data": {
      "text/plain": [
       "(1, 2, 3, 4, 5, 9, 8, 'mayabk')"
      ]
     },
     "execution_count": 17,
     "metadata": {},
     "output_type": "execute_result"
    }
   ],
   "source": [
    "t_1"
   ]
  },
  {
   "cell_type": "code",
   "execution_count": 18,
   "id": "56be0d43",
   "metadata": {},
   "outputs": [
    {
     "name": "stdout",
     "output_type": "stream",
     "text": [
      "2104051552944 2104053644224\n"
     ]
    }
   ],
   "source": [
    "print(id(t), id(t_1))"
   ]
  },
  {
   "cell_type": "markdown",
   "id": "d70e1a79",
   "metadata": {},
   "source": [
    "## Dictionary \n",
    "\n",
    "- a dictionary is a collection of a key and a value pair \n",
    "- it will be in curly bracket {}\n",
    "- every key:value pair is seperated by a comma(,)\n",
    "    - keys can have immutable datatype such as int, float, strings, tuples\n",
    "    - values can have mutable datatype \n",
    "- key has to be unique and values can be duplicated "
   ]
  },
  {
   "cell_type": "code",
   "execution_count": 19,
   "id": "a92ce9f6",
   "metadata": {},
   "outputs": [
    {
     "data": {
      "text/plain": [
       "{'name': 'Mayank', 'age': 32, 'city': 'Bengaluru'}"
      ]
     },
     "execution_count": 19,
     "metadata": {},
     "output_type": "execute_result"
    }
   ],
   "source": [
    "d = {'name':'Mayank', 'age':32, 'city':'Bengaluru'}\n",
    "d"
   ]
  },
  {
   "cell_type": "code",
   "execution_count": 20,
   "id": "0029997b",
   "metadata": {},
   "outputs": [],
   "source": [
    "e = {'name':['mayank', 'priya', 'ajay', 'abha'], 'age': [32,28,24,31], 'city':['bengaluru', 'indore', 'goa', 'chandigarh']}"
   ]
  },
  {
   "cell_type": "code",
   "execution_count": 21,
   "id": "40d0442c",
   "metadata": {},
   "outputs": [
    {
     "data": {
      "text/plain": [
       "{'name': ['mayank', 'priya', 'ajay', 'abha'],\n",
       " 'age': [32, 28, 24, 31],\n",
       " 'city': ['bengaluru', 'indore', 'goa', 'chandigarh']}"
      ]
     },
     "execution_count": 21,
     "metadata": {},
     "output_type": "execute_result"
    }
   ],
   "source": [
    "e"
   ]
  },
  {
   "cell_type": "code",
   "execution_count": 22,
   "id": "25ef03e0",
   "metadata": {},
   "outputs": [
    {
     "data": {
      "text/plain": [
       "dict"
      ]
     },
     "execution_count": 22,
     "metadata": {},
     "output_type": "execute_result"
    }
   ],
   "source": [
    "type(d)"
   ]
  },
  {
   "cell_type": "code",
   "execution_count": 23,
   "id": "87554351",
   "metadata": {},
   "outputs": [
    {
     "data": {
      "text/plain": [
       "dict_keys(['name', 'age', 'city'])"
      ]
     },
     "execution_count": 23,
     "metadata": {},
     "output_type": "execute_result"
    }
   ],
   "source": [
    "e.keys()"
   ]
  },
  {
   "cell_type": "code",
   "execution_count": 24,
   "id": "859435a0",
   "metadata": {},
   "outputs": [
    {
     "data": {
      "text/plain": [
       "dict_values([['mayank', 'priya', 'ajay', 'abha'], [32, 28, 24, 31], ['bengaluru', 'indore', 'goa', 'chandigarh']])"
      ]
     },
     "execution_count": 24,
     "metadata": {},
     "output_type": "execute_result"
    }
   ],
   "source": [
    "e.values()"
   ]
  },
  {
   "cell_type": "code",
   "execution_count": 26,
   "id": "03cfac4d",
   "metadata": {},
   "outputs": [
    {
     "data": {
      "text/plain": [
       "['mayank', 'priya', 'ajay', 'abha']"
      ]
     },
     "execution_count": 26,
     "metadata": {},
     "output_type": "execute_result"
    }
   ],
   "source": [
    "e['name']"
   ]
  },
  {
   "cell_type": "code",
   "execution_count": 27,
   "id": "e716890b",
   "metadata": {},
   "outputs": [
    {
     "data": {
      "text/plain": [
       "[32, 28, 24, 31]"
      ]
     },
     "execution_count": 27,
     "metadata": {},
     "output_type": "execute_result"
    }
   ],
   "source": [
    "e['age']"
   ]
  },
  {
   "cell_type": "code",
   "execution_count": 28,
   "id": "b79bf408",
   "metadata": {},
   "outputs": [
    {
     "data": {
      "text/plain": [
       "['bengaluru', 'indore', 'goa', 'chandigarh']"
      ]
     },
     "execution_count": 28,
     "metadata": {},
     "output_type": "execute_result"
    }
   ],
   "source": [
    "e['city']"
   ]
  },
  {
   "cell_type": "markdown",
   "id": "9d4358bd",
   "metadata": {},
   "source": [
    "## Set\n",
    "\n",
    "- Anything which we can be written in a curly backet {}\n",
    "- comma is used to seperate different elements \n",
    "- a set can have hetrogenous (diffetent types) datatype\n",
    "- a set does not allow any duplicate elements \n",
    "- a non sequence datatype mean it doesnot follow indexing\n",
    "- it is an unordered collection \n",
    "- sets are going to be mutable"
   ]
  },
  {
   "cell_type": "code",
   "execution_count": 29,
   "id": "33ee6371",
   "metadata": {},
   "outputs": [
    {
     "data": {
      "text/plain": [
       "{1, 2, 3, 4, 5, 6, 7, 8, 9}"
      ]
     },
     "execution_count": 29,
     "metadata": {},
     "output_type": "execute_result"
    }
   ],
   "source": [
    "s = {4,1,2,3,4,5,6,7,8,9,8,7,6,5,4,3,2,1}\n",
    "s"
   ]
  },
  {
   "cell_type": "code",
   "execution_count": 45,
   "id": "8d7eb283",
   "metadata": {},
   "outputs": [],
   "source": [
    "a = 'mayank ghai'"
   ]
  },
  {
   "cell_type": "code",
   "execution_count": 46,
   "id": "b714004e",
   "metadata": {},
   "outputs": [
    {
     "name": "stdout",
     "output_type": "stream",
     "text": [
      "{'k', 'a', 'n', 'h', 'g', 'i', 'm', ' ', 'y'}\n"
     ]
    }
   ],
   "source": [
    "print(set(a))"
   ]
  },
  {
   "cell_type": "code",
   "execution_count": 47,
   "id": "3793ca12",
   "metadata": {},
   "outputs": [],
   "source": [
    "b = \"MaYaNk GhAi 123456\""
   ]
  },
  {
   "cell_type": "code",
   "execution_count": 49,
   "id": "d84c01e4",
   "metadata": {},
   "outputs": [
    {
     "name": "stdout",
     "output_type": "stream",
     "text": [
      "{'k', 'a', 'A', 'G', '5', '6', 'M', 'Y', 'h', '1', '2', 'i', '3', 'N', ' ', '4'}\n"
     ]
    }
   ],
   "source": [
    "print(set(b))"
   ]
  },
  {
   "cell_type": "code",
   "execution_count": 36,
   "id": "aa7e4783",
   "metadata": {},
   "outputs": [
    {
     "data": {
      "text/plain": [
       "49"
      ]
     },
     "execution_count": 36,
     "metadata": {},
     "output_type": "execute_result"
    }
   ],
   "source": [
    "ord('1') # is a function to find an ASCII code of a particular alphabet "
   ]
  },
  {
   "cell_type": "markdown",
   "id": "e349d304",
   "metadata": {},
   "source": [
    "### Frozenset\n",
    "\n",
    "- whenever we pass an iterable (String, list, tuple, sets) inside a frozenset() then it will become a frozenset\n",
    "- comma is used to seperate different elements \n",
    "- a frozenset can have hetrogenous (diffetent types) datatype\n",
    "- a frozenset does not allow any duplicate elements \n",
    "- a non sequence datatype mean it doesnot follow indexing\n",
    "- it is an unordered collection \n",
    "- they are immuatble "
   ]
  },
  {
   "cell_type": "code",
   "execution_count": 37,
   "id": "b3450007",
   "metadata": {},
   "outputs": [
    {
     "data": {
      "text/plain": [
       "{1, 2, 3, 4, 5, 6, 7, 8, 9}"
      ]
     },
     "execution_count": 37,
     "metadata": {},
     "output_type": "execute_result"
    }
   ],
   "source": [
    "s"
   ]
  },
  {
   "cell_type": "code",
   "execution_count": 38,
   "id": "143ae681",
   "metadata": {},
   "outputs": [
    {
     "name": "stdout",
     "output_type": "stream",
     "text": [
      "frozenset({1, 2, 3, 4, 5, 6, 7, 8, 9}) <class 'frozenset'>\n"
     ]
    }
   ],
   "source": [
    "a = frozenset(s)\n",
    "print(a,type(a))"
   ]
  },
  {
   "cell_type": "code",
   "execution_count": 40,
   "id": "e954326a",
   "metadata": {},
   "outputs": [
    {
     "data": {
      "text/plain": [
       "'MaYaNk GhAi 123456'"
      ]
     },
     "execution_count": 40,
     "metadata": {},
     "output_type": "execute_result"
    }
   ],
   "source": [
    "b"
   ]
  },
  {
   "cell_type": "code",
   "execution_count": 43,
   "id": "464d2ddc",
   "metadata": {},
   "outputs": [
    {
     "name": "stdout",
     "output_type": "stream",
     "text": [
      "frozenset({'k', 'a', 'A', 'G', '5', '6', 'M', 'Y', 'h', '1', '2', 'i', '3', 'N', ' ', '4'})\n"
     ]
    }
   ],
   "source": [
    "d = frozenset(b)\n",
    "print(d)"
   ]
  },
  {
   "cell_type": "markdown",
   "id": "c9db8177",
   "metadata": {},
   "source": [
    "### Mutable and Immutable\n",
    "\n",
    "##### Mutable data-types \n",
    "\n",
    "- any datatype where we can change the values or we can add or remove the values are called mutable datatype\n",
    "- if something is added or removed the memory space where the things are added or removed will going to remain the same as when the object was first declared \n",
    "##### - list, dictionary, sets "
   ]
  },
  {
   "cell_type": "code",
   "execution_count": 52,
   "id": "31fc22cc",
   "metadata": {},
   "outputs": [],
   "source": [
    "lst = [1,2,4,5,6]"
   ]
  },
  {
   "cell_type": "code",
   "execution_count": 53,
   "id": "c7e4ca4b",
   "metadata": {
    "scrolled": true
   },
   "outputs": [
    {
     "name": "stdout",
     "output_type": "stream",
     "text": [
      "2104055357696\n"
     ]
    }
   ],
   "source": [
    "print(id(lst))"
   ]
  },
  {
   "cell_type": "code",
   "execution_count": 54,
   "id": "74027096",
   "metadata": {},
   "outputs": [],
   "source": [
    "lst.append(10)"
   ]
  },
  {
   "cell_type": "code",
   "execution_count": 55,
   "id": "8c2d2447",
   "metadata": {
    "scrolled": true
   },
   "outputs": [
    {
     "data": {
      "text/plain": [
       "[1, 2, 4, 5, 6, 10]"
      ]
     },
     "execution_count": 55,
     "metadata": {},
     "output_type": "execute_result"
    }
   ],
   "source": [
    "lst"
   ]
  },
  {
   "cell_type": "code",
   "execution_count": 56,
   "id": "a7775260",
   "metadata": {},
   "outputs": [
    {
     "name": "stdout",
     "output_type": "stream",
     "text": [
      "2104055357696\n"
     ]
    }
   ],
   "source": [
    "print(id(lst))"
   ]
  },
  {
   "cell_type": "markdown",
   "id": "5adc6ada",
   "metadata": {},
   "source": [
    "#### Immutable Datatype\n",
    "\n",
    "- any datatype where change cannot happen that means one an object is created they have a fixed space \n",
    "- we cannot add anything to them \n",
    "##### - int, float, complex, string, boolean, tuples, frozenset, None"
   ]
  },
  {
   "cell_type": "code",
   "execution_count": 50,
   "id": "eb36f9f7",
   "metadata": {},
   "outputs": [],
   "source": [
    "a = 'Rohan'"
   ]
  },
  {
   "cell_type": "code",
   "execution_count": 51,
   "id": "3f7ced33",
   "metadata": {},
   "outputs": [
    {
     "ename": "TypeError",
     "evalue": "'str' object does not support item assignment",
     "output_type": "error",
     "traceback": [
      "\u001b[1;31m---------------------------------------------------------------------------\u001b[0m",
      "\u001b[1;31mTypeError\u001b[0m                                 Traceback (most recent call last)",
      "Cell \u001b[1;32mIn[51], line 1\u001b[0m\n\u001b[1;32m----> 1\u001b[0m a[\u001b[38;5;241m0\u001b[39m] \u001b[38;5;241m=\u001b[39m \u001b[38;5;124m'\u001b[39m\u001b[38;5;124mS\u001b[39m\u001b[38;5;124m'\u001b[39m\n",
      "\u001b[1;31mTypeError\u001b[0m: 'str' object does not support item assignment"
     ]
    }
   ],
   "source": [
    "a[0] = 'S'"
   ]
  },
  {
   "cell_type": "code",
   "execution_count": null,
   "id": "5a81a5be",
   "metadata": {},
   "outputs": [],
   "source": [
    "Classification of Datatype \n",
    "\n",
    "- Primitive and Derived \n",
    "- Numerical, Sequenec and Mapping\n",
    "        - Numerical ----> int, float and complex\n",
    "        - Sequenec ------> strings, list, tuples range, sets and frozenset\n",
    "        - Mapping ------> Dictionary "
   ]
  },
  {
   "cell_type": "markdown",
   "id": "49728ac6",
   "metadata": {},
   "source": [
    "## Type-Casting\n",
    "\n",
    "- it convert a datatype to another datatype"
   ]
  },
  {
   "cell_type": "code",
   "execution_count": 61,
   "id": "98047998",
   "metadata": {},
   "outputs": [
    {
     "name": "stdout",
     "output_type": "stream",
     "text": [
      "10 <class 'int'>\n"
     ]
    }
   ],
   "source": [
    "a = 10\n",
    "print(a, type(a))"
   ]
  },
  {
   "cell_type": "code",
   "execution_count": 62,
   "id": "8976c104",
   "metadata": {},
   "outputs": [
    {
     "name": "stdout",
     "output_type": "stream",
     "text": [
      "10.0 <class 'float'>\n"
     ]
    }
   ],
   "source": [
    "b = float(a)\n",
    "print(b,type(b))"
   ]
  },
  {
   "cell_type": "code",
   "execution_count": 63,
   "id": "f92921ed",
   "metadata": {},
   "outputs": [
    {
     "name": "stdout",
     "output_type": "stream",
     "text": [
      "10 <class 'str'>\n"
     ]
    }
   ],
   "source": [
    "c = str(a)\n",
    "print(c, type(c))"
   ]
  },
  {
   "cell_type": "code",
   "execution_count": 65,
   "id": "7b8840c0",
   "metadata": {},
   "outputs": [
    {
     "name": "stdout",
     "output_type": "stream",
     "text": [
      "(10+0j) <class 'complex'>\n"
     ]
    }
   ],
   "source": [
    "d = complex(a)\n",
    "print(d,type(d))"
   ]
  },
  {
   "cell_type": "code",
   "execution_count": 66,
   "id": "f23acd66",
   "metadata": {
    "scrolled": true
   },
   "outputs": [
    {
     "name": "stdout",
     "output_type": "stream",
     "text": [
      "True <class 'bool'>\n"
     ]
    }
   ],
   "source": [
    "e = bool(a)\n",
    "print(e, type(e))"
   ]
  },
  {
   "cell_type": "markdown",
   "id": "f14adfa2",
   "metadata": {},
   "source": [
    "### Types of Type Casting\n",
    "\n",
    "- implicit type casting -----> this will be done by the interpreter on its own\n",
    "- explicit type casting -----> these are  done by us "
   ]
  },
  {
   "cell_type": "code",
   "execution_count": 68,
   "id": "54830c89",
   "metadata": {},
   "outputs": [
    {
     "name": "stdout",
     "output_type": "stream",
     "text": [
      "(17.9+0j) <class 'complex'>\n"
     ]
    }
   ],
   "source": [
    "#implicit type casting\n",
    "\n",
    "a = 2  #2.0+0j\n",
    "b = 5.9 #5.9+oj\n",
    "c = 10+0j #10.0+0j\n",
    "\n",
    "d = a+b+c\n",
    "\n",
    "print(d, type(d))"
   ]
  },
  {
   "cell_type": "markdown",
   "id": "b9f7beb1",
   "metadata": {},
   "source": [
    "#### Precedence ------> int<float<complex"
   ]
  },
  {
   "cell_type": "code",
   "execution_count": 69,
   "id": "9c792eb7",
   "metadata": {},
   "outputs": [
    {
     "name": "stdout",
     "output_type": "stream",
     "text": [
      "Enter a NUmber: 1234\n"
     ]
    }
   ],
   "source": [
    "# explicit type casting\n",
    "\n",
    "a = input('Enter a NUmber: ')"
   ]
  },
  {
   "cell_type": "code",
   "execution_count": 70,
   "id": "2fad8a03",
   "metadata": {},
   "outputs": [
    {
     "name": "stdout",
     "output_type": "stream",
     "text": [
      "<class 'str'>\n"
     ]
    }
   ],
   "source": [
    "print(type(a))"
   ]
  },
  {
   "cell_type": "code",
   "execution_count": 73,
   "id": "6032960d",
   "metadata": {},
   "outputs": [
    {
     "name": "stdout",
     "output_type": "stream",
     "text": [
      "Enter a Number: 1234\n"
     ]
    }
   ],
   "source": [
    "b = int(input('Enter a Number: '))"
   ]
  },
  {
   "cell_type": "code",
   "execution_count": 74,
   "id": "6b30ca0f",
   "metadata": {},
   "outputs": [
    {
     "name": "stdout",
     "output_type": "stream",
     "text": [
      "<class 'int'>\n"
     ]
    }
   ],
   "source": [
    "print(type(b))"
   ]
  },
  {
   "cell_type": "code",
   "execution_count": 75,
   "id": "3214bcc8",
   "metadata": {},
   "outputs": [
    {
     "name": "stdout",
     "output_type": "stream",
     "text": [
      "Enter a Number: 1234'\n"
     ]
    },
    {
     "ename": "ValueError",
     "evalue": "invalid literal for int() with base 10: \"1234'\"",
     "output_type": "error",
     "traceback": [
      "\u001b[1;31m---------------------------------------------------------------------------\u001b[0m",
      "\u001b[1;31mValueError\u001b[0m                                Traceback (most recent call last)",
      "Cell \u001b[1;32mIn[75], line 1\u001b[0m\n\u001b[1;32m----> 1\u001b[0m c \u001b[38;5;241m=\u001b[39m \u001b[38;5;28mint\u001b[39m(\u001b[38;5;28minput\u001b[39m(\u001b[38;5;124m'\u001b[39m\u001b[38;5;124mEnter a Number: \u001b[39m\u001b[38;5;124m'\u001b[39m))\n",
      "\u001b[1;31mValueError\u001b[0m: invalid literal for int() with base 10: \"1234'\""
     ]
    }
   ],
   "source": [
    "c = int(input('Enter a Number: '))"
   ]
  },
  {
   "cell_type": "code",
   "execution_count": 76,
   "id": "0e3494a1",
   "metadata": {},
   "outputs": [
    {
     "name": "stdout",
     "output_type": "stream",
     "text": [
      "Enter a Number: 1234\n"
     ]
    }
   ],
   "source": [
    "d = float(input('Enter a Number: '))"
   ]
  },
  {
   "cell_type": "code",
   "execution_count": 77,
   "id": "c2e3610b",
   "metadata": {},
   "outputs": [
    {
     "data": {
      "text/plain": [
       "1234.0"
      ]
     },
     "execution_count": 77,
     "metadata": {},
     "output_type": "execute_result"
    }
   ],
   "source": [
    "d"
   ]
  },
  {
   "cell_type": "markdown",
   "id": "4ca15e65",
   "metadata": {},
   "source": [
    "# Input and Output functions\n",
    "\n",
    "- Input function -----> takes the argument from the user \n",
    "- Ouput function ------> display the outcome on the screen (print function)"
   ]
  },
  {
   "cell_type": "code",
   "execution_count": 78,
   "id": "9a9ef13f",
   "metadata": {},
   "outputs": [
    {
     "name": "stdout",
     "output_type": "stream",
     "text": [
      "Enter you name: Mayank Atul Ghai\n"
     ]
    }
   ],
   "source": [
    "a = input('Enter you name: ')"
   ]
  },
  {
   "cell_type": "code",
   "execution_count": 79,
   "id": "2e8936fc",
   "metadata": {},
   "outputs": [
    {
     "name": "stdout",
     "output_type": "stream",
     "text": [
      "Mayank Atul Ghai\n"
     ]
    }
   ],
   "source": [
    "print(a)"
   ]
  },
  {
   "cell_type": "markdown",
   "id": "ed1d4d1e",
   "metadata": {},
   "source": [
    "### Variable Naming Conventions \n",
    "\n",
    "- Variable can have any alphabet (A-Z, a-z)\n",
    "- Variable can have any number (0-9)\n",
    "- you can use _(underscore) as well but you cannot use any special characters in a variable name (!,@,#,$,%,^,&,*,(,),-,+)\n",
    "- you variable can be a alpha-numeric term -----> combination of aphabets and numbers\n",
    "- you cannnot used any of the reserved keywords\n",
    "- you variable name should always start from an alphabet \n",
    "- variables are case sensitive \n",
    "- Always try toi write you variable in lowercase (exception of Constant)"
   ]
  },
  {
   "cell_type": "code",
   "execution_count": 80,
   "id": "71be3a8c",
   "metadata": {},
   "outputs": [
    {
     "name": "stdout",
     "output_type": "stream",
     "text": [
      "['False', 'None', 'True', 'and', 'as', 'assert', 'async', 'await', 'break', 'class', 'continue', 'def', 'del', 'elif', 'else', 'except', 'finally', 'for', 'from', 'global', 'if', 'import', 'in', 'is', 'lambda', 'nonlocal', 'not', 'or', 'pass', 'raise', 'return', 'try', 'while', 'with', 'yield']\n"
     ]
    }
   ],
   "source": [
    "import keyword\n",
    "print(keyword.kwlist)"
   ]
  },
  {
   "cell_type": "markdown",
   "id": "a5e0216b",
   "metadata": {},
   "source": [
    "### mayank, mayank_ghai, m3, M_3 -------> valid variable names"
   ]
  },
  {
   "cell_type": "markdown",
   "id": "fe57d54d",
   "metadata": {},
   "source": [
    "### 9mayank, 123_mayank ------> invalid"
   ]
  },
  {
   "cell_type": "code",
   "execution_count": 82,
   "id": "c805cf5c",
   "metadata": {},
   "outputs": [],
   "source": [
    "Mayank = 'Ghai'"
   ]
  },
  {
   "cell_type": "code",
   "execution_count": 84,
   "id": "ebdded9e",
   "metadata": {},
   "outputs": [
    {
     "data": {
      "text/plain": [
       "'Ghai'"
      ]
     },
     "execution_count": 84,
     "metadata": {},
     "output_type": "execute_result"
    }
   ],
   "source": [
    "Mayank"
   ]
  },
  {
   "cell_type": "markdown",
   "id": "b8ca2e76",
   "metadata": {},
   "source": [
    "### mayank_atul_ghai -----> snake type writting\n"
   ]
  },
  {
   "cell_type": "code",
   "execution_count": 85,
   "id": "be6b1835",
   "metadata": {},
   "outputs": [],
   "source": [
    "mayank = 10\n",
    "Mayank = 20\n",
    "MAYANK = 30"
   ]
  },
  {
   "cell_type": "code",
   "execution_count": 86,
   "id": "4f51c75d",
   "metadata": {},
   "outputs": [
    {
     "data": {
      "text/plain": [
       "[1, 2, 3, 4, 5, 6, 5, 4, 3, 2, 1]"
      ]
     },
     "execution_count": 86,
     "metadata": {},
     "output_type": "execute_result"
    }
   ],
   "source": [
    "lst"
   ]
  },
  {
   "cell_type": "code",
   "execution_count": null,
   "id": "5301ba01",
   "metadata": {},
   "outputs": [],
   "source": []
  }
 ],
 "metadata": {
  "kernelspec": {
   "display_name": "Python 3 (ipykernel)",
   "language": "python",
   "name": "python3"
  },
  "language_info": {
   "codemirror_mode": {
    "name": "ipython",
    "version": 3
   },
   "file_extension": ".py",
   "mimetype": "text/x-python",
   "name": "python",
   "nbconvert_exporter": "python",
   "pygments_lexer": "ipython3",
   "version": "3.11.5"
  }
 },
 "nbformat": 4,
 "nbformat_minor": 5
}
