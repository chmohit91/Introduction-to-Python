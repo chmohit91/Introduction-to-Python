{
 "cells": [
  {
   "cell_type": "markdown",
   "id": "11639abc",
   "metadata": {},
   "source": [
    "### update()\n",
    "\n",
    "- It is used to update the elements of one dictionary to another dictionary\n",
    "- It is used to combine two dictionary \n",
    "\n",
    "Syntax: \n",
    "\n",
    "    dict_1.update(dict_2)\n",
    "    \n",
    "  update() method takes a dictionary as an argument or as an input\n",
    "  \n",
    "__Note__:- The elements of dictionary 2 will be added or updated to the dictionary 1"
   ]
  },
  {
   "cell_type": "code",
   "execution_count": 1,
   "id": "c76a2783",
   "metadata": {},
   "outputs": [
    {
     "name": "stdout",
     "output_type": "stream",
     "text": [
      "{2: 4, 4: 16, 6: 36, 8: 64, 10: 100}\n"
     ]
    }
   ],
   "source": [
    "d = {i:i**2 for i in range(1,11) if i%2 ==0}\n",
    "print(d)"
   ]
  },
  {
   "cell_type": "code",
   "execution_count": 2,
   "id": "b43f0600",
   "metadata": {},
   "outputs": [
    {
     "name": "stdout",
     "output_type": "stream",
     "text": [
      "{1: 1, 3: 27, 5: 125, 7: 343, 9: 729}\n"
     ]
    }
   ],
   "source": [
    "d2 = {i:i**3 for i in range(1,11) if i%2 !=0}\n",
    "print(d2)"
   ]
  },
  {
   "cell_type": "code",
   "execution_count": 3,
   "id": "965777b1",
   "metadata": {},
   "outputs": [],
   "source": [
    "d.update(d2)"
   ]
  },
  {
   "cell_type": "code",
   "execution_count": 4,
   "id": "a2a13afa",
   "metadata": {},
   "outputs": [
    {
     "name": "stdout",
     "output_type": "stream",
     "text": [
      "{2: 4, 4: 16, 6: 36, 8: 64, 10: 100, 1: 1, 3: 27, 5: 125, 7: 343, 9: 729}\n"
     ]
    }
   ],
   "source": [
    "print(d)"
   ]
  },
  {
   "cell_type": "code",
   "execution_count": 5,
   "id": "0b916248",
   "metadata": {},
   "outputs": [
    {
     "name": "stdout",
     "output_type": "stream",
     "text": [
      "{1: 1, 2: 8, 3: 27}\n"
     ]
    }
   ],
   "source": [
    "d1 = {1:1, 2:4}\n",
    "d2 = {1:1, 2:8, 3:27}\n",
    "d1.update(d2)\n",
    "print(d1)"
   ]
  },
  {
   "cell_type": "code",
   "execution_count": 6,
   "id": "6ed5124e",
   "metadata": {},
   "outputs": [],
   "source": [
    "dict_a = {'name':'Shyam','age':25, 'salary':24000, 'Isworking':True}\n",
    "dict_b = {'name':'Ram', 'age': 55, 'salary': 55000, 'Isworking':False}\n",
    "\n",
    "dict_a.update(dict_b)\n"
   ]
  },
  {
   "cell_type": "code",
   "execution_count": 7,
   "id": "4ace12fa",
   "metadata": {},
   "outputs": [
    {
     "name": "stdout",
     "output_type": "stream",
     "text": [
      "{'name': 'Ram', 'age': 55, 'salary': 55000, 'Isworking': False}\n"
     ]
    }
   ],
   "source": [
    "print(dict_a)"
   ]
  },
  {
   "cell_type": "markdown",
   "id": "b63a5c13",
   "metadata": {},
   "source": [
    "### pop()\n",
    "\n",
    "- It returns the value at a specified key from the dictionary and removes the element at that particular key from the dictionary.\n",
    "- For all the invalid keys, it will raise an error \n",
    "\n",
    "Syntax: \n",
    "\n",
    "    dictionary_name.pop(key)"
   ]
  },
  {
   "cell_type": "code",
   "execution_count": 8,
   "id": "6a0717b9",
   "metadata": {},
   "outputs": [
    {
     "name": "stdout",
     "output_type": "stream",
     "text": [
      "{2: 4, 4: 16, 6: 36, 8: 64, 10: 100, 1: 1, 3: 27, 5: 125, 7: 343, 9: 729}\n"
     ]
    }
   ],
   "source": [
    "print(d)"
   ]
  },
  {
   "cell_type": "code",
   "execution_count": 9,
   "id": "5d2d0241",
   "metadata": {},
   "outputs": [
    {
     "data": {
      "text/plain": [
       "343"
      ]
     },
     "execution_count": 9,
     "metadata": {},
     "output_type": "execute_result"
    }
   ],
   "source": [
    "d.pop(7)"
   ]
  },
  {
   "cell_type": "code",
   "execution_count": 10,
   "id": "d5e56867",
   "metadata": {},
   "outputs": [
    {
     "name": "stdout",
     "output_type": "stream",
     "text": [
      "{2: 4, 4: 16, 6: 36, 8: 64, 10: 100, 1: 1, 3: 27, 5: 125, 9: 729}\n"
     ]
    }
   ],
   "source": [
    "print(d)"
   ]
  },
  {
   "cell_type": "code",
   "execution_count": 11,
   "id": "3eec2838",
   "metadata": {},
   "outputs": [
    {
     "data": {
      "text/plain": [
       "64"
      ]
     },
     "execution_count": 11,
     "metadata": {},
     "output_type": "execute_result"
    }
   ],
   "source": [
    "d.pop(8)"
   ]
  },
  {
   "cell_type": "code",
   "execution_count": 12,
   "id": "6d3191a9",
   "metadata": {},
   "outputs": [
    {
     "name": "stdout",
     "output_type": "stream",
     "text": [
      "{2: 4, 4: 16, 6: 36, 10: 100, 1: 1, 3: 27, 5: 125, 9: 729}\n"
     ]
    }
   ],
   "source": [
    "print(d)"
   ]
  },
  {
   "cell_type": "markdown",
   "id": "b3b9cfc9",
   "metadata": {},
   "source": [
    "### popitem()\n",
    "\n",
    "- It returns the last element and removes it from the dictioanry "
   ]
  },
  {
   "cell_type": "code",
   "execution_count": 13,
   "id": "3a533d73",
   "metadata": {},
   "outputs": [
    {
     "name": "stdout",
     "output_type": "stream",
     "text": [
      "{1: 3, 2: 6, 3: 9, 4: 12, 5: 15, 6: 18, 7: 21, 8: 24, 9: 27, 10: 30, 11: 33, 12: 36, 13: 39, 14: 42, 15: 45, 16: 48, 17: 51, 18: 54, 19: 57}\n"
     ]
    }
   ],
   "source": [
    "d = {i:i*3 for i in range(1,20)}\n",
    "print(d)"
   ]
  },
  {
   "cell_type": "code",
   "execution_count": 15,
   "id": "26dbb8f6",
   "metadata": {},
   "outputs": [
    {
     "data": {
      "text/plain": [
       "(19, 57)"
      ]
     },
     "execution_count": 15,
     "metadata": {},
     "output_type": "execute_result"
    }
   ],
   "source": [
    "d.popitem()"
   ]
  },
  {
   "cell_type": "code",
   "execution_count": 16,
   "id": "8e2e6f60",
   "metadata": {},
   "outputs": [
    {
     "name": "stdout",
     "output_type": "stream",
     "text": [
      "{1: 3, 2: 6, 3: 9, 4: 12, 5: 15, 6: 18, 7: 21, 8: 24, 9: 27, 10: 30, 11: 33, 12: 36, 13: 39, 14: 42, 15: 45, 16: 48, 17: 51, 18: 54}\n"
     ]
    }
   ],
   "source": [
    "print(d)"
   ]
  },
  {
   "cell_type": "markdown",
   "id": "283c2374",
   "metadata": {},
   "source": [
    "### fromkeys()\n",
    "\n",
    "- It is used to assign the same value to mutiple keys.\n",
    "\n",
    "Synatx: \n",
    "        \n",
    "        dict.fromkeys(iterable, value)\n",
    "        \n",
    " __Note__:- The iterable should have keys "
   ]
  },
  {
   "cell_type": "code",
   "execution_count": 19,
   "id": "7052f12f",
   "metadata": {},
   "outputs": [],
   "source": [
    "names = {'Rajesh', 'Karan', 'Aman', 'Priya', 'Abha'} # they will act as keys\n",
    "# {'Rajesh':'Learnbay', 'Karan':'Learnbay', 'Aman':'Learnbay', 'Priya':'Learnbay', 'Abha':Learnbay}"
   ]
  },
  {
   "cell_type": "code",
   "execution_count": 22,
   "id": "432465ff",
   "metadata": {},
   "outputs": [
    {
     "name": "stdout",
     "output_type": "stream",
     "text": [
      "{'Rajesh': 'Learnbay', 'Abha': 'Learnbay', 'Priya': 'Learnbay', 'Karan': 'Learnbay', 'Aman': 'Learnbay'}\n"
     ]
    }
   ],
   "source": [
    "comp = dict.fromkeys(names, 'Learnbay')\n",
    "print(comp)"
   ]
  },
  {
   "cell_type": "markdown",
   "id": "236caf32",
   "metadata": {},
   "source": [
    "### get()\n",
    "\n",
    "- It takes a key as an argument or an input and returns the value at that particular key\n",
    "- For a invalid key, it will return None\n",
    "\n",
    "Synatx:\n",
    "\n",
    "    comp.get('Abha')"
   ]
  },
  {
   "cell_type": "code",
   "execution_count": 23,
   "id": "8ee851b4",
   "metadata": {},
   "outputs": [
    {
     "data": {
      "text/plain": [
       "'Learnbay'"
      ]
     },
     "execution_count": 23,
     "metadata": {},
     "output_type": "execute_result"
    }
   ],
   "source": [
    "comp.get('Abha')"
   ]
  },
  {
   "cell_type": "code",
   "execution_count": 27,
   "id": "e48a3310",
   "metadata": {},
   "outputs": [
    {
     "name": "stdout",
     "output_type": "stream",
     "text": [
      "None\n"
     ]
    }
   ],
   "source": [
    "print(comp.get('Mayank'))"
   ]
  },
  {
   "cell_type": "code",
   "execution_count": 24,
   "id": "3a42ef3a",
   "metadata": {},
   "outputs": [
    {
     "data": {
      "text/plain": [
       "{1: 3,\n",
       " 2: 6,\n",
       " 3: 9,\n",
       " 4: 12,\n",
       " 5: 15,\n",
       " 6: 18,\n",
       " 7: 21,\n",
       " 8: 24,\n",
       " 9: 27,\n",
       " 10: 30,\n",
       " 11: 33,\n",
       " 12: 36,\n",
       " 13: 39,\n",
       " 14: 42,\n",
       " 15: 45,\n",
       " 16: 48,\n",
       " 17: 51,\n",
       " 18: 54}"
      ]
     },
     "execution_count": 24,
     "metadata": {},
     "output_type": "execute_result"
    }
   ],
   "source": [
    "d"
   ]
  },
  {
   "cell_type": "code",
   "execution_count": 25,
   "id": "916234f5",
   "metadata": {},
   "outputs": [
    {
     "data": {
      "text/plain": [
       "33"
      ]
     },
     "execution_count": 25,
     "metadata": {},
     "output_type": "execute_result"
    }
   ],
   "source": [
    "d.get(11)"
   ]
  },
  {
   "cell_type": "markdown",
   "id": "b3922b8b",
   "metadata": {},
   "source": [
    "### setdefaults()\n",
    "\n",
    "- It takes a key as an argument \n",
    "- If the key is already there, then it will return the value at that particular key\n",
    "- It the key does not exist, then it creates one and assign None to that key\n",
    "- We can pass both the keys and the values as well"
   ]
  },
  {
   "cell_type": "code",
   "execution_count": 28,
   "id": "61b9d7c0",
   "metadata": {},
   "outputs": [
    {
     "data": {
      "text/plain": [
       "{'Abha', 'Aman', 'Karan', 'Priya', 'Rajesh'}"
      ]
     },
     "execution_count": 28,
     "metadata": {},
     "output_type": "execute_result"
    }
   ],
   "source": [
    "names"
   ]
  },
  {
   "cell_type": "code",
   "execution_count": 29,
   "id": "15913ff8",
   "metadata": {},
   "outputs": [],
   "source": [
    "names = list(names)"
   ]
  },
  {
   "cell_type": "code",
   "execution_count": 30,
   "id": "f209e604",
   "metadata": {},
   "outputs": [
    {
     "data": {
      "text/plain": [
       "['Rajesh', 'Abha', 'Priya', 'Karan', 'Aman']"
      ]
     },
     "execution_count": 30,
     "metadata": {},
     "output_type": "execute_result"
    }
   ],
   "source": [
    "names"
   ]
  },
  {
   "cell_type": "code",
   "execution_count": 31,
   "id": "09e13d0e",
   "metadata": {},
   "outputs": [],
   "source": [
    "cities = ['Chennai', 'Bengaluru', 'Noida', 'Mumbai', 'Chandigarh']"
   ]
  },
  {
   "cell_type": "code",
   "execution_count": 32,
   "id": "bab8ee35",
   "metadata": {},
   "outputs": [
    {
     "name": "stdout",
     "output_type": "stream",
     "text": [
      "{'Rajesh': 'Chennai', 'Abha': 'Bengaluru', 'Priya': 'Noida', 'Karan': 'Mumbai', 'Aman': 'Chandigarh'}\n"
     ]
    }
   ],
   "source": [
    "emp = dict(zip(names, cities))\n",
    "print(emp)"
   ]
  },
  {
   "cell_type": "code",
   "execution_count": 33,
   "id": "c8b5f361",
   "metadata": {},
   "outputs": [
    {
     "name": "stdout",
     "output_type": "stream",
     "text": [
      "Noida\n"
     ]
    }
   ],
   "source": [
    "print(emp.setdefault('Priya'))"
   ]
  },
  {
   "cell_type": "code",
   "execution_count": 34,
   "id": "a4e3d53e",
   "metadata": {},
   "outputs": [
    {
     "name": "stdout",
     "output_type": "stream",
     "text": [
      "None\n"
     ]
    }
   ],
   "source": [
    "print(emp.setdefault('Mayank'))"
   ]
  },
  {
   "cell_type": "code",
   "execution_count": 35,
   "id": "d28e0827",
   "metadata": {},
   "outputs": [
    {
     "name": "stdout",
     "output_type": "stream",
     "text": [
      "{'Rajesh': 'Chennai', 'Abha': 'Bengaluru', 'Priya': 'Noida', 'Karan': 'Mumbai', 'Aman': 'Chandigarh', 'Mayank': None}\n"
     ]
    }
   ],
   "source": [
    "print(emp)"
   ]
  },
  {
   "cell_type": "code",
   "execution_count": 36,
   "id": "5cdd2f85",
   "metadata": {},
   "outputs": [
    {
     "name": "stdout",
     "output_type": "stream",
     "text": [
      "Jalandhar\n"
     ]
    }
   ],
   "source": [
    "print(emp.setdefault('Chandni', 'Jalandhar'))"
   ]
  },
  {
   "cell_type": "code",
   "execution_count": 37,
   "id": "739ad007",
   "metadata": {},
   "outputs": [
    {
     "name": "stdout",
     "output_type": "stream",
     "text": [
      "{'Rajesh': 'Chennai', 'Abha': 'Bengaluru', 'Priya': 'Noida', 'Karan': 'Mumbai', 'Aman': 'Chandigarh', 'Mayank': None, 'Chandni': 'Jalandhar'}\n"
     ]
    }
   ],
   "source": [
    "print(emp)"
   ]
  },
  {
   "cell_type": "markdown",
   "id": "16257732",
   "metadata": {},
   "source": [
    "#### clear()\n",
    "\n",
    "- It removes all the elements from the dictionary and makes the dictionary empty"
   ]
  },
  {
   "cell_type": "code",
   "execution_count": 38,
   "id": "7e7a6624",
   "metadata": {},
   "outputs": [
    {
     "data": {
      "text/plain": [
       "{'Rajesh': 'Learnbay',\n",
       " 'Abha': 'Learnbay',\n",
       " 'Priya': 'Learnbay',\n",
       " 'Karan': 'Learnbay',\n",
       " 'Aman': 'Learnbay'}"
      ]
     },
     "execution_count": 38,
     "metadata": {},
     "output_type": "execute_result"
    }
   ],
   "source": [
    "comp"
   ]
  },
  {
   "cell_type": "code",
   "execution_count": 39,
   "id": "c53dcee5",
   "metadata": {},
   "outputs": [],
   "source": [
    "comp.clear()"
   ]
  },
  {
   "cell_type": "code",
   "execution_count": 40,
   "id": "18394ac8",
   "metadata": {},
   "outputs": [
    {
     "data": {
      "text/plain": [
       "{}"
      ]
     },
     "execution_count": 40,
     "metadata": {},
     "output_type": "execute_result"
    }
   ],
   "source": [
    "comp"
   ]
  },
  {
   "cell_type": "markdown",
   "id": "e31d1e89",
   "metadata": {},
   "source": [
    "### copy()\n",
    "\n",
    "- It copies all the element of a dictioanry and going to create a new dictionary"
   ]
  },
  {
   "cell_type": "code",
   "execution_count": 41,
   "id": "3a217fbe",
   "metadata": {},
   "outputs": [
    {
     "data": {
      "text/plain": [
       "{1: 1, 2: 4, 3: 9, 4: 16, 5: 25, 6: 36, 7: 49, 8: 64, 9: 81, 10: 100}"
      ]
     },
     "execution_count": 41,
     "metadata": {},
     "output_type": "execute_result"
    }
   ],
   "source": [
    "d = {i:i**2 for i in range(1,11)}\n",
    "d"
   ]
  },
  {
   "cell_type": "code",
   "execution_count": 42,
   "id": "d7a165ad",
   "metadata": {},
   "outputs": [],
   "source": [
    "d2 = d.copy()"
   ]
  },
  {
   "cell_type": "code",
   "execution_count": 43,
   "id": "48b8d8b4",
   "metadata": {},
   "outputs": [
    {
     "data": {
      "text/plain": [
       "{1: 1, 2: 4, 3: 9, 4: 16, 5: 25, 6: 36, 7: 49, 8: 64, 9: 81, 10: 100}"
      ]
     },
     "execution_count": 43,
     "metadata": {},
     "output_type": "execute_result"
    }
   ],
   "source": [
    "d2"
   ]
  },
  {
   "cell_type": "code",
   "execution_count": 44,
   "id": "967b7948",
   "metadata": {
    "scrolled": true
   },
   "outputs": [
    {
     "name": "stdout",
     "output_type": "stream",
     "text": [
      "2610342476672 2610327777088\n"
     ]
    }
   ],
   "source": [
    "print(id(d), id(d2))"
   ]
  },
  {
   "cell_type": "markdown",
   "id": "e5904b4a",
   "metadata": {},
   "source": [
    "### Functions\n",
    "\n",
    "- A function is a block of code that gets executed as and when it is called \n",
    "- A function is used to reuse a code over and over again\n",
    "- By using function, we write the code once and we can use it n number of time in the same program\n",
    "- A function helps us to reduce the lines of code in a program\n",
    "\n",
    "Synatax: \n",
    "\n",
    "##### function declaration or declaring a function\n",
    "    def function_name(): \n",
    "        code \n",
    "        return some_value\n",
    "        \n",
    "##### calling a function\n",
    "         function_name()"
   ]
  },
  {
   "cell_type": "code",
   "execution_count": 49,
   "id": "9b288368",
   "metadata": {},
   "outputs": [
    {
     "data": {
      "text/plain": [
       "17"
      ]
     },
     "execution_count": 49,
     "metadata": {},
     "output_type": "execute_result"
    }
   ],
   "source": [
    "# declaring a function\n",
    "def sum_of_two_number(a,b):\n",
    "    c = a+b\n",
    "    return c\n",
    "\n",
    "#calling a function\n",
    "sum_of_two_number(9,8)"
   ]
  },
  {
   "cell_type": "code",
   "execution_count": 51,
   "id": "b327f5f1",
   "metadata": {},
   "outputs": [
    {
     "data": {
      "text/plain": [
       "7"
      ]
     },
     "execution_count": 51,
     "metadata": {},
     "output_type": "execute_result"
    }
   ],
   "source": [
    "sum_of_two_number(1,6)"
   ]
  },
  {
   "cell_type": "code",
   "execution_count": 52,
   "id": "cbb313a7",
   "metadata": {},
   "outputs": [
    {
     "data": {
      "text/plain": [
       "100100"
      ]
     },
     "execution_count": 52,
     "metadata": {},
     "output_type": "execute_result"
    }
   ],
   "source": [
    "sum_of_two_number(100,100000)"
   ]
  },
  {
   "cell_type": "code",
   "execution_count": 53,
   "id": "e24ee466",
   "metadata": {},
   "outputs": [
    {
     "ename": "NameError",
     "evalue": "name 'a' is not defined",
     "output_type": "error",
     "traceback": [
      "\u001b[1;31m---------------------------------------------------------------------------\u001b[0m",
      "\u001b[1;31mNameError\u001b[0m                                 Traceback (most recent call last)",
      "Cell \u001b[1;32mIn[53], line 1\u001b[0m\n\u001b[1;32m----> 1\u001b[0m \u001b[38;5;28mprint\u001b[39m(a)\n",
      "\u001b[1;31mNameError\u001b[0m: name 'a' is not defined"
     ]
    }
   ],
   "source": [
    "print(a)"
   ]
  },
  {
   "cell_type": "code",
   "execution_count": 54,
   "id": "802900ff",
   "metadata": {},
   "outputs": [
    {
     "ename": "NameError",
     "evalue": "name 'b' is not defined",
     "output_type": "error",
     "traceback": [
      "\u001b[1;31m---------------------------------------------------------------------------\u001b[0m",
      "\u001b[1;31mNameError\u001b[0m                                 Traceback (most recent call last)",
      "Cell \u001b[1;32mIn[54], line 1\u001b[0m\n\u001b[1;32m----> 1\u001b[0m \u001b[38;5;28mprint\u001b[39m(b)\n",
      "\u001b[1;31mNameError\u001b[0m: name 'b' is not defined"
     ]
    }
   ],
   "source": [
    "print(b)"
   ]
  },
  {
   "cell_type": "code",
   "execution_count": 55,
   "id": "8c66393f",
   "metadata": {
    "scrolled": true
   },
   "outputs": [
    {
     "ename": "NameError",
     "evalue": "name 'c' is not defined",
     "output_type": "error",
     "traceback": [
      "\u001b[1;31m---------------------------------------------------------------------------\u001b[0m",
      "\u001b[1;31mNameError\u001b[0m                                 Traceback (most recent call last)",
      "Cell \u001b[1;32mIn[55], line 1\u001b[0m\n\u001b[1;32m----> 1\u001b[0m \u001b[38;5;28mprint\u001b[39m(c)\n",
      "\u001b[1;31mNameError\u001b[0m: name 'c' is not defined"
     ]
    }
   ],
   "source": [
    "print(c)"
   ]
  },
  {
   "cell_type": "markdown",
   "id": "6644dd39",
   "metadata": {},
   "source": [
    "### Return and print\n",
    "\n",
    "- A function may or may not have a return value \n",
    "- return statement is used to return a value form a function\n",
    "- return statment returns a value back to the function\n",
    "- we assign a function call to a variable, so that it can be handles later on\n",
    "- If we want to use a result of a function, we have to assign it to a variable\n",
    "- return statement will terminate the function \n",
    "\n",
    "__Note__: - print statement does not return anything, it returns a none datatype "
   ]
  },
  {
   "cell_type": "markdown",
   "id": "0a8362e4",
   "metadata": {},
   "source": [
    "### Global Variable vs local variable \n",
    "\n",
    "- Global variables\n",
    "\n",
    "        - These are those variables that once declared have the scope everywhere in the entire program \n",
    "        \n",
    "- Local variable \n",
    "\n",
    "        - These are those variable which are defined from a function, which have a limited scope and it can be accessed outside that function"
   ]
  },
  {
   "cell_type": "code",
   "execution_count": 59,
   "id": "01cb69bb",
   "metadata": {},
   "outputs": [
    {
     "name": "stdout",
     "output_type": "stream",
     "text": [
      "10\n",
      "5\n"
     ]
    }
   ],
   "source": [
    "a = 10 # global variable \n",
    "\n",
    "def abc():\n",
    "    a = 5 # local variable \n",
    "    print(a)\n",
    "    \n",
    "print(a)\n",
    "abc()"
   ]
  },
  {
   "cell_type": "code",
   "execution_count": 78,
   "id": "53ecc9c1",
   "metadata": {
    "scrolled": true
   },
   "outputs": [
    {
     "name": "stdout",
     "output_type": "stream",
     "text": [
      "10\n"
     ]
    },
    {
     "data": {
      "text/plain": [
       "6"
      ]
     },
     "execution_count": 78,
     "metadata": {},
     "output_type": "execute_result"
    }
   ],
   "source": [
    "a = 10 # global variable\n",
    "\n",
    "def dummy():\n",
    "    a = 5\n",
    "    x = a+1\n",
    "    return x\n",
    "    a = 5 # local \n",
    "print(a)\n",
    "dummy()"
   ]
  },
  {
   "cell_type": "code",
   "execution_count": 81,
   "id": "1bd36387",
   "metadata": {},
   "outputs": [
    {
     "name": "stdout",
     "output_type": "stream",
     "text": [
      "10\n"
     ]
    },
    {
     "data": {
      "text/plain": [
       "10"
      ]
     },
     "execution_count": 81,
     "metadata": {},
     "output_type": "execute_result"
    }
   ],
   "source": [
    "a = 10\n",
    "\n",
    "def dummy():\n",
    "    '''a function will give preference to a local variable, \n",
    "    if no ther then it will give the preference to the global variable declared'''\n",
    "     \n",
    "#     a = 100\n",
    "    x = a -99\n",
    "    return a\n",
    "\n",
    "print(a)\n",
    "dummy()"
   ]
  },
  {
   "cell_type": "code",
   "execution_count": 84,
   "id": "3fb708f0",
   "metadata": {},
   "outputs": [
    {
     "ename": "UnboundLocalError",
     "evalue": "cannot access local variable 'a' where it is not associated with a value",
     "output_type": "error",
     "traceback": [
      "\u001b[1;31m---------------------------------------------------------------------------\u001b[0m",
      "\u001b[1;31mUnboundLocalError\u001b[0m                         Traceback (most recent call last)",
      "Cell \u001b[1;32mIn[84], line 10\u001b[0m\n\u001b[0;32m      6\u001b[0m \ta\u001b[38;5;241m=\u001b[39m\u001b[38;5;241m7\u001b[39m\n\u001b[0;32m      7\u001b[0m \t\u001b[38;5;28;01mreturn\u001b[39;00m a\n\u001b[1;32m---> 10\u001b[0m dummy()\n",
      "Cell \u001b[1;32mIn[84], line 4\u001b[0m, in \u001b[0;36mdummy\u001b[1;34m()\u001b[0m\n\u001b[0;32m      2\u001b[0m \u001b[38;5;28;01mdef\u001b[39;00m \u001b[38;5;21mdummy\u001b[39m():\n\u001b[0;32m      3\u001b[0m \u001b[38;5;66;03m# \tglobal a\u001b[39;00m\n\u001b[1;32m----> 4\u001b[0m \tx\u001b[38;5;241m=\u001b[39ma\u001b[38;5;241m+\u001b[39m\u001b[38;5;241m10\u001b[39m\n\u001b[0;32m      5\u001b[0m \t\u001b[38;5;28mprint\u001b[39m(x)\n\u001b[0;32m      6\u001b[0m \ta\u001b[38;5;241m=\u001b[39m\u001b[38;5;241m7\u001b[39m\n",
      "\u001b[1;31mUnboundLocalError\u001b[0m: cannot access local variable 'a' where it is not associated with a value"
     ]
    }
   ],
   "source": [
    "a=5\n",
    "def dummy():\n",
    "# \tglobal a\n",
    "\tx=a+10\n",
    "\tprint(x)\n",
    "\ta=7\n",
    "\treturn a\n",
    "\n",
    "\n",
    "dummy()"
   ]
  },
  {
   "cell_type": "code",
   "execution_count": 92,
   "id": "84b87c06",
   "metadata": {},
   "outputs": [
    {
     "ename": "UnboundLocalError",
     "evalue": "cannot access local variable 'a' where it is not associated with a value",
     "output_type": "error",
     "traceback": [
      "\u001b[1;31m---------------------------------------------------------------------------\u001b[0m",
      "\u001b[1;31mUnboundLocalError\u001b[0m                         Traceback (most recent call last)",
      "Cell \u001b[1;32mIn[92], line 8\u001b[0m\n\u001b[0;32m      5\u001b[0m     \u001b[38;5;28;01mreturn\u001b[39;00m x\n\u001b[0;32m      7\u001b[0m \u001b[38;5;66;03m# umm sir what about this one\u001b[39;00m\n\u001b[1;32m----> 8\u001b[0m dummy()\n",
      "Cell \u001b[1;32mIn[92], line 3\u001b[0m, in \u001b[0;36mdummy\u001b[1;34m()\u001b[0m\n\u001b[0;32m      2\u001b[0m \u001b[38;5;28;01mdef\u001b[39;00m \u001b[38;5;21mdummy\u001b[39m():\n\u001b[1;32m----> 3\u001b[0m     x \u001b[38;5;241m=\u001b[39m a\u001b[38;5;241m+\u001b[39m\u001b[38;5;241m1\u001b[39m\n\u001b[0;32m      4\u001b[0m     a \u001b[38;5;241m=\u001b[39m \u001b[38;5;241m5\u001b[39m\n\u001b[0;32m      5\u001b[0m     \u001b[38;5;28;01mreturn\u001b[39;00m x\n",
      "\u001b[1;31mUnboundLocalError\u001b[0m: cannot access local variable 'a' where it is not associated with a value"
     ]
    }
   ],
   "source": [
    "# since we have declared the local variable after the operation it will noit going to have any value stored in it\n",
    "# and it will not take the global variable since we have declared the local variable inside the function\n",
    "a = 10\n",
    "def dummy():\n",
    "    x = a+1\n",
    "#     a = 5\n",
    "    return x\n",
    "\n",
    "# umm sir what about this one\n",
    "dummy()"
   ]
  },
  {
   "cell_type": "code",
   "execution_count": 91,
   "id": "f3467688",
   "metadata": {},
   "outputs": [
    {
     "data": {
      "text/plain": [
       "11"
      ]
     },
     "execution_count": 91,
     "metadata": {},
     "output_type": "execute_result"
    }
   ],
   "source": [
    "a = 10\n",
    "def dummy():\n",
    "    a = 5\n",
    "    x = a+1\n",
    "    return x\n",
    "\n",
    "# so this will work\n",
    "dummy()"
   ]
  },
  {
   "cell_type": "code",
   "execution_count": 94,
   "id": "52b56c02",
   "metadata": {},
   "outputs": [
    {
     "data": {
      "text/plain": [
       "7"
      ]
     },
     "execution_count": 94,
     "metadata": {},
     "output_type": "execute_result"
    }
   ],
   "source": [
    "def vowels(input_string):\n",
    "    vowels = \"aeiouAEIOU\"\n",
    "    count = 0\n",
    "\n",
    "    for char in input_string:\n",
    "        if char in vowels:\n",
    "            count += 1\n",
    "\n",
    "    return count\n",
    "\n",
    "vowels('My name is Mayank ghai')\n"
   ]
  },
  {
   "cell_type": "code",
   "execution_count": null,
   "id": "b4d6e4a7",
   "metadata": {},
   "outputs": [],
   "source": []
  }
 ],
 "metadata": {
  "kernelspec": {
   "display_name": "Python 3 (ipykernel)",
   "language": "python",
   "name": "python3"
  },
  "language_info": {
   "codemirror_mode": {
    "name": "ipython",
    "version": 3
   },
   "file_extension": ".py",
   "mimetype": "text/x-python",
   "name": "python",
   "nbconvert_exporter": "python",
   "pygments_lexer": "ipython3",
   "version": "3.11.5"
  }
 },
 "nbformat": 4,
 "nbformat_minor": 5
}
