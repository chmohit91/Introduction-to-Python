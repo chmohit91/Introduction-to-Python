{
 "cells": [
  {
   "cell_type": "markdown",
   "id": "69c8510b",
   "metadata": {},
   "source": [
    "# String Datatype"
   ]
  },
  {
   "cell_type": "code",
   "execution_count": null,
   "id": "93e43f75",
   "metadata": {},
   "outputs": [],
   "source": [
    "# # Dec 22, 2022\n",
    "\n",
    "# # \n",
    "# Encoding\n",
    "\n",
    "# Table\n",
    "# Number - character\n",
    "\n",
    "# # Ascii encoding\n",
    "# 0-255 - Values - 255 characters\n",
    "\n",
    "# # cp1252 - Windows system encoding\n",
    "\n",
    "# 0-255 - Values - 255 characters\n",
    "\n",
    "# #Unicode encoding\n",
    "# UTF-8 = 114,000 characters\n",
    "# UTF-16 = 65,000 characters - but there is a way to make this upto 140,000 characters\n",
    "# UTF-32 = 114000"
   ]
  },
  {
   "cell_type": "code",
   "execution_count": null,
   "id": "742ee741",
   "metadata": {},
   "outputs": [],
   "source": [
    "# # Properties of strings\n",
    "# 1. Fundamental\n",
    "# 2. Sequential (made up of other objects)\n",
    "# 3. Immutable\n",
    "# 4. Subscriptable (indexing, slicing). Item assignment is not supported (since they are immutable)\n",
    "# 5. Iterable\n",
    "\n",
    "\n",
    "# # Initializing strings\n",
    "# 1. Enclosed in quotation marks - single, double or triple. Triple quotes can be used for multiline strings whereas single\n",
    "# and double cannot (unless we put the \\).\n",
    "# 2. String function (str) to convert a different datatype to strings."
   ]
  },
  {
   "cell_type": "code",
   "execution_count": null,
   "id": "2b6011fc",
   "metadata": {},
   "outputs": [],
   "source": [
    "x = 'learnbay'\n",
    "\n",
    "print(x)\n",
    "print(type(x))\n",
    "\n",
    "for i in x:\n",
    "    print(i)"
   ]
  },
  {
   "cell_type": "code",
   "execution_count": null,
   "id": "c587d87e",
   "metadata": {},
   "outputs": [],
   "source": [
    "lst1 = [1,2,3,4,5]\n",
    "\n",
    "print(lst1)"
   ]
  },
  {
   "cell_type": "code",
   "execution_count": null,
   "id": "a02284f3",
   "metadata": {},
   "outputs": [],
   "source": [
    "x = str(10)\n",
    "\n",
    "print(x)\n",
    "print(type(x))\n",
    "\n",
    "print(x + '20')"
   ]
  },
  {
   "cell_type": "code",
   "execution_count": null,
   "id": "aa629266",
   "metadata": {},
   "outputs": [],
   "source": [
    "strlst = str([1,2,3,4])\n",
    "\n",
    "print(strlst)\n",
    "print(type(strlst))"
   ]
  },
  {
   "cell_type": "code",
   "execution_count": null,
   "id": "52857c97",
   "metadata": {},
   "outputs": [],
   "source": [
    "for x in strlst:\n",
    "    print(x)"
   ]
  },
  {
   "cell_type": "code",
   "execution_count": null,
   "id": "8f0fcf1f",
   "metadata": {},
   "outputs": [],
   "source": [
    "lst1[0] = 100\n",
    "\n",
    "\n",
    "print(lst1)"
   ]
  },
  {
   "cell_type": "code",
   "execution_count": null,
   "id": "cf474a2e",
   "metadata": {},
   "outputs": [],
   "source": [
    "str1 = 'learnbay'\n",
    "\n",
    "print(str1)"
   ]
  },
  {
   "cell_type": "code",
   "execution_count": null,
   "id": "eec33c3f",
   "metadata": {},
   "outputs": [],
   "source": [
    "str1[0] = 'L'\n",
    "\n",
    "\n"
   ]
  },
  {
   "cell_type": "code",
   "execution_count": null,
   "id": "1d92ae28",
   "metadata": {},
   "outputs": [],
   "source": [
    "y = 'var 1'\n",
    "\n",
    "print(id(x), id(y))\n",
    "print(x is y)"
   ]
  },
  {
   "cell_type": "code",
   "execution_count": null,
   "id": "d94c3d12",
   "metadata": {},
   "outputs": [],
   "source": [
    "# When we create a new string - python :\n",
    "\n",
    "# Python maintains a pool (list) of strings\n",
    "# 1. 1st checks if a new string follows identifier rules\n",
    "# 2. If yes, then it checks whether that string already exists in the pool (list) . If yes, then doesnt assign new memory.\n",
    "# users the memory object already in the pool. \n",
    "# 3. If no, then adds this new string to the pool(list)"
   ]
  },
  {
   "cell_type": "code",
   "execution_count": null,
   "id": "77cf00b0",
   "metadata": {},
   "outputs": [],
   "source": [
    "# Pythons Pool\n",
    "\n",
    "# var1\n"
   ]
  },
  {
   "cell_type": "code",
   "execution_count": null,
   "id": "5e9f9ae3",
   "metadata": {},
   "outputs": [],
   "source": [
    "a = 1000\n",
    "b = 1000\n",
    "\n",
    "print(id(a), id(b))\n",
    "print(a is b)"
   ]
  },
  {
   "cell_type": "code",
   "execution_count": null,
   "id": "74f1f3c4",
   "metadata": {},
   "outputs": [],
   "source": [
    "# The strings must be able to be created at compile time itself. \n",
    "\n",
    "a = 'HelloWorld'\n",
    "b = 'HelloWorld'\n",
    "\n",
    "c = 'Hello'\n",
    "d = 'World'\n",
    "\n",
    "x = c+d\n",
    "\n",
    "print(id(a), id(b))\n",
    "print(a is b)\n",
    "\n",
    "print(id(a), id(x))\n",
    "print(a is x)"
   ]
  },
  {
   "cell_type": "code",
   "execution_count": null,
   "id": "16af5691",
   "metadata": {},
   "outputs": [],
   "source": [
    "# Strings in Python refers to text or one or more characters datatype. It is an important datatype since most things in life\n",
    "# are not numeric - names, addresses, genders, citizenship, brands or alphanumeric like vehicle plate numbers, credit card\n",
    "# numbers, National ID numbers etc. Furthermore, we communicate with other humans(and even in some cases our pets!) with\n",
    "# language or text characters. When we want to write an email or tweet - we are dealing in strings of characters. \n",
    "\n",
    "# A computer on the other hand understands binary only. So, all the characters and text we see on the screen gets encoded\n",
    "# behind the scenes to numeric characters. Python uses the Unicode UTF-8 system behind the scenes for encoding characters\n",
    "# to unicode values.\n",
    "\n",
    "# String datatype in Python handles text or characters. \n",
    "\n",
    "# As we have seen in previous discussions, the properties of Strings are:\n",
    "\n",
    "# a. Fundamental Datatype\n",
    "# b. Immutable\n",
    "# c. Sequential\n",
    "# d. Indexable\n",
    "# e. Slicing works\n",
    "# f. Iterable\n",
    "\n",
    "# We can simply create strings by enclosing any text (even other datatypes like numbers and floats) in either single quotes\n",
    "#'text', Double quotes \"text\" or triple single quotes '''text'''"
   ]
  },
  {
   "cell_type": "code",
   "execution_count": null,
   "id": "d91c4b9c",
   "metadata": {},
   "outputs": [],
   "source": [
    "a = 'Rikki is taking Sept 25th class'\n",
    "\n",
    "print(a)"
   ]
  },
  {
   "cell_type": "code",
   "execution_count": null,
   "id": "1462c7b5",
   "metadata": {},
   "outputs": [],
   "source": []
  },
  {
   "cell_type": "code",
   "execution_count": null,
   "id": "71b33b43",
   "metadata": {},
   "outputs": [],
   "source": [
    "str1 = 'a'\n",
    "\n",
    "for i in str1:\n",
    "    print(i)"
   ]
  },
  {
   "cell_type": "code",
   "execution_count": null,
   "id": "4595162a",
   "metadata": {},
   "outputs": [],
   "source": [
    "str1 = 'Python'\n",
    "\n",
    "print(type(str1))"
   ]
  },
  {
   "cell_type": "code",
   "execution_count": null,
   "id": "c31e0263",
   "metadata": {},
   "outputs": [],
   "source": [
    "str2 = '10'\n",
    "\n",
    "print(type(str2))"
   ]
  },
  {
   "cell_type": "code",
   "execution_count": null,
   "id": "cec8d793",
   "metadata": {},
   "outputs": [],
   "source": [
    "str3 = '0.13'\n",
    "\n",
    "print(type(str3))"
   ]
  },
  {
   "cell_type": "code",
   "execution_count": null,
   "id": "c5b38b28",
   "metadata": {},
   "outputs": [],
   "source": [
    "str4 = 'None'\n",
    "\n",
    "print(type(str4))"
   ]
  },
  {
   "cell_type": "code",
   "execution_count": null,
   "id": "bce71b9c",
   "metadata": {},
   "outputs": [],
   "source": [
    "str5 = 'False'\n",
    "\n",
    "print(type(str5))"
   ]
  },
  {
   "cell_type": "code",
   "execution_count": null,
   "id": "3b91cf40",
   "metadata": {},
   "outputs": [],
   "source": [
    "str6 = '3+5j'\n",
    "\n",
    "print(type(str6))"
   ]
  },
  {
   "cell_type": "code",
   "execution_count": null,
   "id": "ed30c968",
   "metadata": {},
   "outputs": [],
   "source": [
    "# Another way to initialise a string datatype is to enclose it in the str function. This is Explicit Typecasting."
   ]
  },
  {
   "cell_type": "code",
   "execution_count": null,
   "id": "4d5aa89d",
   "metadata": {},
   "outputs": [],
   "source": [
    "str1 = '1,2,3,4'\n",
    "\n",
    "print(str1)\n",
    "print(type(str1))"
   ]
  },
  {
   "cell_type": "code",
   "execution_count": null,
   "id": "76f487e4",
   "metadata": {},
   "outputs": [],
   "source": [
    "str2 = str(2)\n",
    "\n",
    "print(str2)\n",
    "print(type(str2))"
   ]
  },
  {
   "cell_type": "code",
   "execution_count": null,
   "id": "2570ec73",
   "metadata": {},
   "outputs": [],
   "source": [
    "lst1 = list((1,2,3,4))\n",
    "\n",
    "\n",
    "print(lst1)\n",
    "print(type(lst1))"
   ]
  },
  {
   "cell_type": "code",
   "execution_count": null,
   "id": "538a8113",
   "metadata": {},
   "outputs": [],
   "source": [
    "strlst = str(lst1)\n",
    "\n",
    "for x in strlst:\n",
    "    print(x)"
   ]
  },
  {
   "cell_type": "code",
   "execution_count": null,
   "id": "81d14805",
   "metadata": {},
   "outputs": [],
   "source": [
    "str3 = str(1000)\n",
    "\n",
    "print(str3)\n",
    "print(type(str3))"
   ]
  },
  {
   "cell_type": "code",
   "execution_count": null,
   "id": "023be53d",
   "metadata": {},
   "outputs": [],
   "source": [
    "for x in str3:\n",
    "    print(x)"
   ]
  },
  {
   "cell_type": "code",
   "execution_count": null,
   "id": "bbaac4d7",
   "metadata": {},
   "outputs": [],
   "source": [
    "str7 = str([1,2,3,4])\n",
    "print(str7, type(str7))"
   ]
  },
  {
   "cell_type": "code",
   "execution_count": null,
   "id": "c394681b",
   "metadata": {},
   "outputs": [],
   "source": [
    "for x in str7:\n",
    "    print(x)"
   ]
  },
  {
   "cell_type": "code",
   "execution_count": null,
   "id": "4ce83d14",
   "metadata": {},
   "outputs": [],
   "source": [
    "str8 = str(True)\n",
    "print(str8, type(str8))"
   ]
  },
  {
   "cell_type": "code",
   "execution_count": null,
   "id": "6a059375",
   "metadata": {},
   "outputs": [],
   "source": [
    "for x in str8:\n",
    "    print(x)"
   ]
  },
  {
   "cell_type": "code",
   "execution_count": null,
   "id": "6d273c9c",
   "metadata": {},
   "outputs": [],
   "source": [
    "comp1 = 5+10j\n",
    "\n",
    "print(comp1)"
   ]
  },
  {
   "cell_type": "code",
   "execution_count": null,
   "id": "8c66f1bd",
   "metadata": {},
   "outputs": [],
   "source": [
    "str9 = str(2+3j)\n",
    "print(str9, type(str9))"
   ]
  },
  {
   "cell_type": "code",
   "execution_count": null,
   "id": "6b7e3e1c",
   "metadata": {},
   "outputs": [],
   "source": [
    "for x in str9:\n",
    "    print(x)"
   ]
  },
  {
   "cell_type": "code",
   "execution_count": null,
   "id": "d624fdae",
   "metadata": {},
   "outputs": [],
   "source": [
    "comp1 = 2+3j\n",
    "\n",
    "print(comp1)"
   ]
  },
  {
   "cell_type": "code",
   "execution_count": null,
   "id": "7ae33153",
   "metadata": {},
   "outputs": [],
   "source": [
    "tup1 = 1,2,3,4\n",
    "\n",
    "print(tup1)"
   ]
  },
  {
   "cell_type": "code",
   "execution_count": null,
   "id": "fa0c50b5",
   "metadata": {},
   "outputs": [],
   "source": [
    "str10 = str((10, 20))\n",
    "print(str10, type(str10))"
   ]
  },
  {
   "cell_type": "code",
   "execution_count": null,
   "id": "5aa61b9d",
   "metadata": {},
   "outputs": [],
   "source": [
    "str10a = '10,20'\n",
    "\n",
    "print(str10a, type(str10a))"
   ]
  },
  {
   "cell_type": "code",
   "execution_count": null,
   "id": "74b3a289",
   "metadata": {},
   "outputs": [],
   "source": [
    "strif = str(False)\n",
    "\n",
    "print(strif)"
   ]
  },
  {
   "cell_type": "code",
   "execution_count": null,
   "id": "8ddf824c",
   "metadata": {},
   "outputs": [],
   "source": [
    "str10b = str(10,20)"
   ]
  },
  {
   "cell_type": "code",
   "execution_count": null,
   "id": "816ce0e8",
   "metadata": {},
   "outputs": [],
   "source": [
    "str11 = str(10.2)\n",
    "print(str11, type(str11))"
   ]
  },
  {
   "cell_type": "code",
   "execution_count": null,
   "id": "75dbf0c0",
   "metadata": {},
   "outputs": [],
   "source": [
    "Python = 'Learnbay Class on Strings'\n",
    "str12 = str(Python)\n",
    "print(str12, type(str12))"
   ]
  },
  {
   "cell_type": "code",
   "execution_count": null,
   "id": "4d04cc12",
   "metadata": {},
   "outputs": [],
   "source": [
    "str1 = str([1,2,3,4])\n",
    "\n",
    "print(str1)\n",
    "print(type(str1))"
   ]
  },
  {
   "cell_type": "code",
   "execution_count": null,
   "id": "fb1b4d9d",
   "metadata": {},
   "outputs": [],
   "source": [
    "a = 'X'"
   ]
  },
  {
   "cell_type": "code",
   "execution_count": null,
   "id": "2baaa315",
   "metadata": {},
   "outputs": [],
   "source": [
    "for x in a:\n",
    "    print(x)"
   ]
  },
  {
   "cell_type": "code",
   "execution_count": null,
   "id": "d11de9be",
   "metadata": {},
   "outputs": [],
   "source": [
    "print(str1)"
   ]
  },
  {
   "cell_type": "code",
   "execution_count": null,
   "id": "4f3c85f6",
   "metadata": {},
   "outputs": [],
   "source": [
    "print(str1[:5])"
   ]
  },
  {
   "cell_type": "code",
   "execution_count": null,
   "id": "6c24feee",
   "metadata": {},
   "outputs": [],
   "source": [
    "str2 = '[1,2,3,4]'\n",
    "\n",
    "print(str2, type(str2))"
   ]
  },
  {
   "cell_type": "code",
   "execution_count": null,
   "id": "8684c60b",
   "metadata": {},
   "outputs": [],
   "source": [
    "str1 = 'Aakanksha'\n",
    "\n",
    "print(str1)\n",
    "print(id(str1))"
   ]
  },
  {
   "cell_type": "code",
   "execution_count": null,
   "id": "01b2a692",
   "metadata": {},
   "outputs": [],
   "source": [
    "str2 = 'Aakanksha'\n",
    "print(str1)\n",
    "print(id(str1))\n",
    "print(str1 is str2)"
   ]
  },
  {
   "cell_type": "code",
   "execution_count": null,
   "id": "3e91d023",
   "metadata": {},
   "outputs": [],
   "source": [
    "str3 = 'A@kanksh@'\n",
    "\n",
    "print(str3)\n",
    "print(id(str3))\n"
   ]
  },
  {
   "cell_type": "code",
   "execution_count": null,
   "id": "aacbf540",
   "metadata": {},
   "outputs": [],
   "source": [
    "str4 = 'A@kanksh@'\n",
    "\n",
    "print(str4)\n",
    "print(id(str4))\n",
    "print(str3 is str4)"
   ]
  },
  {
   "cell_type": "code",
   "execution_count": null,
   "id": "5701b45e",
   "metadata": {},
   "outputs": [],
   "source": []
  },
  {
   "cell_type": "code",
   "execution_count": null,
   "id": "3682135d",
   "metadata": {},
   "outputs": [],
   "source": []
  },
  {
   "cell_type": "code",
   "execution_count": null,
   "id": "da1b19e8",
   "metadata": {},
   "outputs": [],
   "source": []
  },
  {
   "cell_type": "code",
   "execution_count": null,
   "id": "bdf42767",
   "metadata": {},
   "outputs": [],
   "source": [
    "for x in str1:\n",
    "    print(x)\n",
    "    \n",
    "#print(str1[2])"
   ]
  },
  {
   "cell_type": "code",
   "execution_count": null,
   "id": "a412cb5a",
   "metadata": {},
   "outputs": [],
   "source": [
    "#Note as we have seen previously, Python infers datatypes automatically. This is called Implicit Typecast.\n"
   ]
  },
  {
   "cell_type": "code",
   "execution_count": null,
   "id": "9dfd6ff0",
   "metadata": {},
   "outputs": [],
   "source": [
    "# Strings initialised (created) with either single, double or triple will still give you a string datatype. But the uses could\n",
    "# slightly differ depending on user."
   ]
  },
  {
   "cell_type": "code",
   "execution_count": null,
   "id": "8fb22eb7",
   "metadata": {},
   "outputs": [],
   "source": [
    "print(type('Python'))\n",
    "print(type(\"Python\"))\n",
    "print(type('''Python'''))"
   ]
  },
  {
   "cell_type": "code",
   "execution_count": null,
   "id": "fa8972d7",
   "metadata": {},
   "outputs": [],
   "source": [
    "# Whether we use single, double or triple quotes - it all creates a string object. \n",
    "# we could use single quotes to create string which has double quotes in it and vice versa. \n",
    "# Triple quotes can contain both single and double quotes in the string to be created. \n",
    "# Triple quotes also allow you to create multiline quotes by default while single/double quotes do not. \n",
    "\n",
    "# Triple quotes are usually used in the docstring. "
   ]
  },
  {
   "cell_type": "code",
   "execution_count": null,
   "id": "3324ac87",
   "metadata": {},
   "outputs": [],
   "source": []
  },
  {
   "cell_type": "code",
   "execution_count": null,
   "id": "f26eaca3",
   "metadata": {},
   "outputs": [],
   "source": []
  },
  {
   "cell_type": "code",
   "execution_count": null,
   "id": "4cce95f1",
   "metadata": {},
   "outputs": [],
   "source": [
    "#Single or double quotation marks can be used any time and are interchangeable. However, if you wish to use single quotes\n",
    "# in your text, use double quotation marks to enclose the text with the single quotes inside it. Vice versa - if you wish\n",
    "# to use double quotes in your text, use single quotes to enclose the text and double quotes.\n",
    "\n",
    "print('He asked me \"What are you upto?\"')\n",
    "#print(\"He asked me \"What are you upto?\"\")"
   ]
  },
  {
   "cell_type": "code",
   "execution_count": null,
   "id": "4d4ae01b",
   "metadata": {},
   "outputs": [],
   "source": [
    "print(\"Don't think I don't know what you are upto!\")"
   ]
  },
  {
   "cell_type": "code",
   "execution_count": null,
   "id": "b869fbfc",
   "metadata": {},
   "outputs": [],
   "source": [
    "#In both above cases, if you wish to use either single, double (or both) quotation marks - you can also use triple quotes.\n",
    "\n",
    "print('''He asked me \"What are you upto?\" Don't think I don't know what you are upto!''')"
   ]
  },
  {
   "cell_type": "code",
   "execution_count": null,
   "id": "8bed9fa8",
   "metadata": {},
   "outputs": [],
   "source": [
    "#You can also use triple quotes to write multi-line text\n",
    "print('''He asked me What are you upto?\n",
    "Dont think I dont know what you are upto!''')"
   ]
  },
  {
   "cell_type": "code",
   "execution_count": null,
   "id": "c6eb9691",
   "metadata": {},
   "outputs": [],
   "source": [
    "print('Hello there Rikki \\nthere!')"
   ]
  },
  {
   "cell_type": "code",
   "execution_count": null,
   "id": "3eafaec6",
   "metadata": {},
   "outputs": [],
   "source": [
    "#We also use triple quotes to define a docstring of a function. A docstring is good practice when writing a function. It is used to describe\n",
    "# what the function does, what parameters it takes, what is the expected output and any other information that a programmer\n",
    "# may find neccessary to elaborate on. We will learn more about functions and docstrings in the related lecture.\n",
    "\n",
    "def temp_func(x,y):\n",
    "    '''The function takes 2 parameters which are numbers.\n",
    "It returns the sum of the two numbers\n",
    "I am also writing some gibberish just to extend the docstring'''\n",
    "    return x + y\n",
    "\n",
    "print(temp_func(10,12))"
   ]
  },
  {
   "cell_type": "code",
   "execution_count": null,
   "id": "396d50e1",
   "metadata": {},
   "outputs": [],
   "source": [
    "print(len.__doc__)"
   ]
  },
  {
   "cell_type": "code",
   "execution_count": null,
   "id": "a6022b51",
   "metadata": {},
   "outputs": [],
   "source": [
    "print(temp_func.__doc__)\n",
    "\n",
    "# Of course, as we have seen before, we can also use the \\ for multiline typing in Python but if one already knows that\n",
    "# we will be writing long text, (like writing a book or summary or docstring of a complex function, it would be best \n",
    "# practice to prefix with 3 single quotes continue writing and only in the end suffix with 3 single quotes."
   ]
  },
  {
   "cell_type": "code",
   "execution_count": null,
   "id": "d52ee59f",
   "metadata": {},
   "outputs": [],
   "source": [
    "str1 = 'Hello \\\\n Hi'\n",
    "\n",
    "print(str1)"
   ]
  },
  {
   "cell_type": "code",
   "execution_count": null,
   "id": "df386045",
   "metadata": {},
   "outputs": [],
   "source": [
    "print(\"He said \\\"What are you upto?\\\"\")"
   ]
  },
  {
   "cell_type": "code",
   "execution_count": null,
   "id": "7afaf422",
   "metadata": {},
   "outputs": [],
   "source": [
    "print('''Hello \\''' pqr''')"
   ]
  },
  {
   "cell_type": "code",
   "execution_count": null,
   "id": "f29b1cab",
   "metadata": {},
   "outputs": [],
   "source": [
    "# Length of a string"
   ]
  },
  {
   "cell_type": "code",
   "execution_count": null,
   "id": "564b4ed6",
   "metadata": {},
   "outputs": [],
   "source": [
    "print(len('Hello'))"
   ]
  },
  {
   "cell_type": "code",
   "execution_count": null,
   "id": "46c34ac2",
   "metadata": {},
   "outputs": [],
   "source": [
    "print(len('Happy birthday to you!'))"
   ]
  },
  {
   "cell_type": "code",
   "execution_count": null,
   "id": "141767ac",
   "metadata": {},
   "outputs": [],
   "source": [
    "print(len('''Happy birthday to you,\n",
    "You were born in the zoo\n",
    "With the donkeys and the monkeys\n",
    "and the gorilla is you!'''))"
   ]
  },
  {
   "cell_type": "code",
   "execution_count": null,
   "id": "6367d742",
   "metadata": {},
   "outputs": [],
   "source": [
    "# Indexing and slicing on Strings. \n",
    "\n",
    "# We have already discussed indexing and slicing in Python. However, just for a referesher - \n",
    "\n",
    "# To get the element at a certain index position use the following syntax:\n",
    "\n",
    "# str[index_position]\n",
    "\n",
    "print('Boss Baby'[7])"
   ]
  },
  {
   "cell_type": "code",
   "execution_count": null,
   "id": "4c5ea3d9",
   "metadata": {},
   "outputs": [],
   "source": [
    "str1 = 'Boss Baby'\n",
    "\n",
    "print(str1[7])"
   ]
  },
  {
   "cell_type": "code",
   "execution_count": null,
   "id": "07d8621d",
   "metadata": {},
   "outputs": [],
   "source": [
    "y = 5\n",
    "print(str1[y])"
   ]
  },
  {
   "cell_type": "code",
   "execution_count": null,
   "id": "f12852a4",
   "metadata": {},
   "outputs": [],
   "source": [
    "# We have also already covered slicing in string. But just to refresh :\n",
    "\n",
    "str1 = 'I love India!'\n",
    "print(str1)"
   ]
  },
  {
   "cell_type": "code",
   "execution_count": null,
   "id": "ed609453",
   "metadata": {},
   "outputs": [],
   "source": [
    "print('I love India!'[2:6])"
   ]
  },
  {
   "cell_type": "code",
   "execution_count": null,
   "id": "6e84f630",
   "metadata": {},
   "outputs": [],
   "source": [
    "print(str1[7:])"
   ]
  },
  {
   "cell_type": "code",
   "execution_count": null,
   "id": "1300cb97",
   "metadata": {},
   "outputs": [],
   "source": [
    "print(str1)"
   ]
  },
  {
   "cell_type": "code",
   "execution_count": null,
   "id": "1dd97adb",
   "metadata": {},
   "outputs": [],
   "source": [
    "x = 2 ; y = 10\n",
    "\n",
    "print(str1[x:y])"
   ]
  },
  {
   "cell_type": "code",
   "execution_count": null,
   "id": "483cfa87",
   "metadata": {},
   "outputs": [],
   "source": [
    "print(str1)"
   ]
  },
  {
   "cell_type": "code",
   "execution_count": null,
   "id": "b8cff18a",
   "metadata": {},
   "outputs": [],
   "source": [
    "# The last parameter that slicing accepts is the step parameter. \n",
    "print(str1[x:y:2])"
   ]
  },
  {
   "cell_type": "code",
   "execution_count": null,
   "id": "a456b15e",
   "metadata": {},
   "outputs": [],
   "source": []
  },
  {
   "cell_type": "code",
   "execution_count": null,
   "id": "cc64cc5d",
   "metadata": {},
   "outputs": [],
   "source": [
    "print(str1)\n",
    "print(x)\n",
    "print(y)\n",
    "# And it accepts negative steps"
   ]
  },
  {
   "cell_type": "code",
   "execution_count": null,
   "id": "e3ea829a",
   "metadata": {},
   "outputs": [],
   "source": [
    "print(str1[10])"
   ]
  },
  {
   "cell_type": "code",
   "execution_count": null,
   "id": "9c5c8570",
   "metadata": {},
   "outputs": [],
   "source": [
    "print(str1)"
   ]
  },
  {
   "cell_type": "code",
   "execution_count": null,
   "id": "3bc6587f",
   "metadata": {},
   "outputs": [],
   "source": [
    "print(str1[10])"
   ]
  },
  {
   "cell_type": "code",
   "execution_count": null,
   "id": "3a725dba",
   "metadata": {},
   "outputs": [],
   "source": [
    "I   l o v e   I n d i  a  !\n",
    "\n",
    "0 1 2 3 4 5 6 7 8 9 10 11 12 "
   ]
  },
  {
   "cell_type": "code",
   "execution_count": null,
   "id": "095f1a1c",
   "metadata": {},
   "outputs": [],
   "source": [
    "print(y)\n",
    "print(x)"
   ]
  },
  {
   "cell_type": "code",
   "execution_count": null,
   "id": "4cbce17a",
   "metadata": {},
   "outputs": [],
   "source": [
    "print(str1[y:x:-2])"
   ]
  },
  {
   "cell_type": "code",
   "execution_count": null,
   "id": "578d5e6e",
   "metadata": {},
   "outputs": [],
   "source": [
    "print(str1[10:2:-2])"
   ]
  },
  {
   "cell_type": "code",
   "execution_count": null,
   "id": "41eb37fe",
   "metadata": {},
   "outputs": [],
   "source": [
    "start index default : beginning of iterable (or end of string if negative indexing)\n",
    "stop index default : end of iterable (or beginning if negative indexing)\n",
    "step Default : 1, If we need to have step - start and stop also must be given"
   ]
  },
  {
   "cell_type": "code",
   "execution_count": null,
   "id": "bb9879cf",
   "metadata": {},
   "outputs": [],
   "source": []
  },
  {
   "cell_type": "code",
   "execution_count": null,
   "id": "32821ee7",
   "metadata": {},
   "outputs": [],
   "source": [
    "# Any of the parameters left empty, will take up defualt values:\n",
    "# Start value - First index number of indexable object i.e. 0\n",
    "# Stop value - Last index number of indexable object that is length of the string - 1\n",
    "# A REMINDER THAT THE STOP VALUE IS ALWAYS EXCLUSIVE so to slice a string upto the 6th index, we would mention the stop\n",
    "# values a 7. \n",
    "# Step value - Defaults to 1\n",
    "\n",
    "print(str1[:])\n",
    "\n"
   ]
  },
  {
   "cell_type": "code",
   "execution_count": null,
   "id": "0e30a07d",
   "metadata": {},
   "outputs": [],
   "source": [
    "print(str1[::])"
   ]
  },
  {
   "cell_type": "code",
   "execution_count": null,
   "id": "32be145b",
   "metadata": {},
   "outputs": [],
   "source": [
    "print(str1)"
   ]
  },
  {
   "cell_type": "code",
   "execution_count": null,
   "id": "1493210e",
   "metadata": {},
   "outputs": [],
   "source": [
    "\n",
    "print(str1[3:])"
   ]
  },
  {
   "cell_type": "code",
   "execution_count": null,
   "id": "c18c4184",
   "metadata": {},
   "outputs": [],
   "source": [
    "print(str1)"
   ]
  },
  {
   "cell_type": "code",
   "execution_count": null,
   "id": "d30f3d1d",
   "metadata": {},
   "outputs": [],
   "source": [
    "print(str1[:7])"
   ]
  },
  {
   "cell_type": "code",
   "execution_count": null,
   "id": "eaebf935",
   "metadata": {},
   "outputs": [],
   "source": [
    "print(str1[:11:2])"
   ]
  },
  {
   "cell_type": "code",
   "execution_count": null,
   "id": "2ec6240b",
   "metadata": {},
   "outputs": [],
   "source": [
    "str1 = 'I love India!'\n",
    "print(str1[11::-2])\n",
    "print(len(str1[11::-2]))"
   ]
  },
  {
   "cell_type": "code",
   "execution_count": null,
   "id": "51684734",
   "metadata": {},
   "outputs": [],
   "source": [
    "print(str1[2::3])"
   ]
  },
  {
   "cell_type": "code",
   "execution_count": null,
   "id": "1178cd60",
   "metadata": {},
   "outputs": [],
   "source": [
    "print(str1[0:13:1])"
   ]
  },
  {
   "cell_type": "code",
   "execution_count": null,
   "id": "433670a7",
   "metadata": {},
   "outputs": [],
   "source": [
    "print(len(str1))"
   ]
  },
  {
   "cell_type": "code",
   "execution_count": null,
   "id": "71957abc",
   "metadata": {},
   "outputs": [],
   "source": [
    "print(str1)"
   ]
  },
  {
   "cell_type": "code",
   "execution_count": null,
   "id": "031e6aaa",
   "metadata": {},
   "outputs": [],
   "source": [
    "print(str1[2:len(str1)-4:3])"
   ]
  },
  {
   "cell_type": "code",
   "execution_count": null,
   "id": "a6e79a3f",
   "metadata": {},
   "outputs": [],
   "source": [
    "print(str1)"
   ]
  },
  {
   "cell_type": "code",
   "execution_count": null,
   "id": "5e9b6463",
   "metadata": {},
   "outputs": [],
   "source": [
    "print(str1[2:-4:3])"
   ]
  },
  {
   "cell_type": "code",
   "execution_count": null,
   "id": "b230f1ba",
   "metadata": {},
   "outputs": [],
   "source": [
    "print(str1)"
   ]
  },
  {
   "cell_type": "code",
   "execution_count": null,
   "id": "2b38ef24",
   "metadata": {},
   "outputs": [],
   "source": [
    "print(str1[0:-13])"
   ]
  },
  {
   "cell_type": "code",
   "execution_count": null,
   "id": "1db6f652",
   "metadata": {},
   "outputs": [],
   "source": [
    "## String repetiton"
   ]
  },
  {
   "cell_type": "code",
   "execution_count": null,
   "id": "f537b0bd",
   "metadata": {},
   "outputs": [],
   "source": [
    "print('Hello! \\n'*3, 'Hi there')  # sep = ' ' keyword used to separate multiple INPUTS to the print function. sep default is\n",
    "# space\n",
    "# end is used for telling the print statement what to do once finished printing all the inputs. end default is new line."
   ]
  },
  {
   "cell_type": "code",
   "execution_count": null,
   "id": "88899e9b",
   "metadata": {},
   "outputs": [],
   "source": [
    "print('Hi', 'Hello', sep = ' | ', end = ' xxx ')"
   ]
  },
  {
   "cell_type": "code",
   "execution_count": null,
   "id": "befef998",
   "metadata": {},
   "outputs": [],
   "source": [
    "print('Hi', end = '')\n",
    "print('Arigato', 'Bonjour', 'Buenos Dias', 'Mabuhay', sep = ' ! ', end = 'XXXX')"
   ]
  },
  {
   "cell_type": "code",
   "execution_count": null,
   "id": "3f7c65bd",
   "metadata": {},
   "outputs": [],
   "source": [
    "print('Bye ! '*20)"
   ]
  },
  {
   "cell_type": "code",
   "execution_count": null,
   "id": "66736fe2",
   "metadata": {},
   "outputs": [],
   "source": [
    "print(' *!* '*30)"
   ]
  },
  {
   "cell_type": "code",
   "execution_count": null,
   "id": "287e5b61",
   "metadata": {},
   "outputs": [],
   "source": [
    "var1 = '*'*120\n",
    "\n",
    "print(var1)"
   ]
  },
  {
   "cell_type": "code",
   "execution_count": null,
   "id": "0cc53cd9",
   "metadata": {},
   "outputs": [],
   "source": [
    "# Concatenation\n",
    "\n",
    "# The plus operator on strings performs what is called 'concatenation'.  \n",
    "\n",
    "# But what it basically does is adds or joins (not mathematically) one series of text characters to another to make it\n",
    "# one big text. See 'adds' or 'joins'? Easy words. But early programmers needed to feel big and important - so they came\n",
    "# up with the fancy word 'concatenation' for adding two non-mathematical objects together to make one big object.\n",
    "\n",
    "print('Hello ' + 'one and all!')"
   ]
  },
  {
   "cell_type": "code",
   "execution_count": null,
   "id": "85daab55",
   "metadata": {},
   "outputs": [],
   "source": []
  },
  {
   "cell_type": "code",
   "execution_count": null,
   "id": "ed0e7884",
   "metadata": {},
   "outputs": [],
   "source": [
    "str_c = 'Hello'\n",
    "str_d = 'one and all'\n",
    "\n",
    "print(str_c + str_d)"
   ]
  },
  {
   "cell_type": "code",
   "execution_count": null,
   "id": "aa0d7e10",
   "metadata": {},
   "outputs": [],
   "source": [
    "print(str_c + ' ' + str_d)"
   ]
  },
  {
   "cell_type": "code",
   "execution_count": null,
   "id": "6a1a5254",
   "metadata": {},
   "outputs": [],
   "source": [
    "# Operators = will work only between the same datatype (exception between integer and float)\n",
    "\n",
    "\n",
    "# *, +, >,<,== String and string, list and list, tuple and tuple, dictionary and dictionary, set and set etc - \n",
    "\n",
    "# Cannot be done between string and list, list and tuple"
   ]
  },
  {
   "cell_type": "code",
   "execution_count": null,
   "id": "2f8657da",
   "metadata": {},
   "outputs": [],
   "source": [
    "print('abc' + ['d','e','f'])"
   ]
  },
  {
   "cell_type": "code",
   "execution_count": null,
   "id": "7a02fe05",
   "metadata": {},
   "outputs": [],
   "source": [
    "lst1 = list('abc')\n",
    "lst2 = list('def')\n",
    "\n",
    "print(lst1)\n",
    "print(lst2)\n",
    "\n",
    "print(lst1+lst2)"
   ]
  },
  {
   "cell_type": "code",
   "execution_count": null,
   "id": "85675fd3",
   "metadata": {},
   "outputs": [],
   "source": [
    "print(str_c + str_d)"
   ]
  },
  {
   "cell_type": "code",
   "execution_count": null,
   "id": "29c2c91c",
   "metadata": {},
   "outputs": [],
   "source": [
    "str_f = str_c + str_d"
   ]
  },
  {
   "cell_type": "code",
   "execution_count": null,
   "id": "91e5f7a8",
   "metadata": {},
   "outputs": [],
   "source": [
    "print(str_c + \"*\"*10 + str_d)"
   ]
  },
  {
   "cell_type": "code",
   "execution_count": null,
   "id": "ae86810e",
   "metadata": {},
   "outputs": [],
   "source": [
    "# Take note that strings are immutable. The original strings have NOT been modified. \n",
    "str_e = str_c + ' ' + str_d"
   ]
  },
  {
   "cell_type": "code",
   "execution_count": null,
   "id": "8cea75d8",
   "metadata": {},
   "outputs": [],
   "source": [
    "print(str_c)\n",
    "print(str_d)\n",
    "print(str_e)"
   ]
  },
  {
   "cell_type": "code",
   "execution_count": null,
   "id": "90e3b3d1",
   "metadata": {},
   "outputs": [],
   "source": [
    "# If we wanted to use this newly formed string for operations other than printing - we would have to save it to a new \n",
    "# variable(new object).\n",
    "\n",
    "str_e = str_c + ' ' + str_d\n",
    "\n",
    "print(str_e)"
   ]
  },
  {
   "cell_type": "code",
   "execution_count": null,
   "id": "cd22d86b",
   "metadata": {},
   "outputs": [],
   "source": [
    "str_e[2] = 'L'"
   ]
  },
  {
   "cell_type": "code",
   "execution_count": null,
   "id": "70c16337",
   "metadata": {},
   "outputs": [],
   "source": [
    "lst1 = list('abcde')\n",
    "\n",
    "print(lst1)"
   ]
  },
  {
   "cell_type": "code",
   "execution_count": null,
   "id": "27d12cbc",
   "metadata": {},
   "outputs": [],
   "source": [
    "print(lst1[2])"
   ]
  },
  {
   "cell_type": "code",
   "execution_count": null,
   "id": "e3fd8840",
   "metadata": {},
   "outputs": [],
   "source": [
    "lst1[2] = 'X'\n",
    "\n",
    "print(lst1)"
   ]
  },
  {
   "cell_type": "code",
   "execution_count": null,
   "id": "74c2161a",
   "metadata": {},
   "outputs": [],
   "source": [
    "print(str_e)"
   ]
  },
  {
   "cell_type": "code",
   "execution_count": null,
   "id": "70b19e4b",
   "metadata": {},
   "outputs": [],
   "source": [
    "str_e[2] = 'X'\n",
    "\n",
    "print(str_e)"
   ]
  },
  {
   "cell_type": "code",
   "execution_count": null,
   "id": "10cf92d5",
   "metadata": {},
   "outputs": [],
   "source": []
  },
  {
   "cell_type": "code",
   "execution_count": null,
   "id": "5730851f",
   "metadata": {},
   "outputs": [],
   "source": []
  },
  {
   "cell_type": "code",
   "execution_count": null,
   "id": "d020a108",
   "metadata": {},
   "outputs": [],
   "source": [
    "# Checking for membership\n",
    "\n",
    "# We can check if a set of characters(1 or more) called substring is present in another string using in an not in operators\n",
    "\n",
    "print(' ' in 'Python is great')"
   ]
  },
  {
   "cell_type": "code",
   "execution_count": null,
   "id": "260a4966",
   "metadata": {},
   "outputs": [],
   "source": [
    "print(' ' not in 'Python is great')"
   ]
  },
  {
   "cell_type": "code",
   "execution_count": null,
   "id": "c6b92639",
   "metadata": {},
   "outputs": [],
   "source": [
    "print('x' in 'Python')\n"
   ]
  },
  {
   "cell_type": "code",
   "execution_count": null,
   "id": "20d80ab7",
   "metadata": {},
   "outputs": [],
   "source": [
    "print('x' not in 'Python')"
   ]
  },
  {
   "cell_type": "code",
   "execution_count": null,
   "id": "09a0baa5",
   "metadata": {},
   "outputs": [],
   "source": [
    "sub_str = 'India'\n",
    "o_string = 'I love India!'\n",
    "\n",
    "print(sub_str in o_string)"
   ]
  },
  {
   "cell_type": "code",
   "execution_count": null,
   "id": "9db4bd59",
   "metadata": {},
   "outputs": [],
   "source": [
    "print(sub_str not in o_string)"
   ]
  },
  {
   "cell_type": "code",
   "execution_count": null,
   "id": "7c43c4fb",
   "metadata": {},
   "outputs": [],
   "source": [
    "sub_str = '&'\n",
    "o_string = 'I love India and Indian cuisine'\n",
    "\n",
    "print(sub_str in o_string)"
   ]
  },
  {
   "cell_type": "code",
   "execution_count": null,
   "id": "97d9a2fa",
   "metadata": {},
   "outputs": [],
   "source": [
    "print(sub_str not in o_string)"
   ]
  },
  {
   "cell_type": "code",
   "execution_count": null,
   "id": "74353c84",
   "metadata": {},
   "outputs": [],
   "source": [
    "# Membership operations on strings are case-sensitive"
   ]
  },
  {
   "cell_type": "code",
   "execution_count": null,
   "id": "37228c9d",
   "metadata": {},
   "outputs": [],
   "source": [
    "print('p' in 'Python')"
   ]
  },
  {
   "cell_type": "code",
   "execution_count": null,
   "id": "fe4fbe0e",
   "metadata": {},
   "outputs": [],
   "source": [
    "print('p' not in 'Python')"
   ]
  },
  {
   "cell_type": "code",
   "execution_count": null,
   "id": "a89fb524",
   "metadata": {},
   "outputs": [],
   "source": [
    "# We can compare strings using comparison operators i.e. == which means equal to, > than which means greater than, >= which\n",
    "# means greater than or equal to, < which means less than and <= which means less than or equal to."
   ]
  },
  {
   "cell_type": "code",
   "execution_count": null,
   "id": "404f9a6f",
   "metadata": {},
   "outputs": [],
   "source": [
    "# == Equality\n",
    "# > Left greater than right\n",
    "# < Left less than right\n",
    "# >= Left greater than OR equal to right\n",
    "# <= Left less than OR equal to right\n",
    "# != Not equal to"
   ]
  },
  {
   "cell_type": "code",
   "execution_count": null,
   "id": "43e05dda",
   "metadata": {},
   "outputs": [],
   "source": [
    "print(ord('A'))"
   ]
  },
  {
   "cell_type": "code",
   "execution_count": null,
   "id": "0efb9c7c",
   "metadata": {},
   "outputs": [],
   "source": [
    "print(ord('Z'))"
   ]
  },
  {
   "cell_type": "code",
   "execution_count": null,
   "id": "871acf6a",
   "metadata": {},
   "outputs": [],
   "source": [
    "print(ord('a'))"
   ]
  },
  {
   "cell_type": "code",
   "execution_count": null,
   "id": "a8a09723",
   "metadata": {},
   "outputs": [],
   "source": [
    "print(ord('z'))"
   ]
  },
  {
   "cell_type": "code",
   "execution_count": null,
   "id": "eb01f9d1",
   "metadata": {},
   "outputs": [],
   "source": [
    "print('A' < 'a')"
   ]
  },
  {
   "cell_type": "code",
   "execution_count": null,
   "id": "40feadd0",
   "metadata": {},
   "outputs": [],
   "source": [
    "print('python' == 'python')"
   ]
  },
  {
   "cell_type": "code",
   "execution_count": null,
   "id": "51b5e60f",
   "metadata": {},
   "outputs": [],
   "source": [
    "print('python' != 'python')"
   ]
  },
  {
   "cell_type": "code",
   "execution_count": null,
   "id": "3afa80bf",
   "metadata": {},
   "outputs": [],
   "source": [
    "print(ord('p'))\n",
    "print(ord('q'))\n",
    "print(ord('y'))\n",
    "print(ord('z'))"
   ]
  },
  {
   "cell_type": "code",
   "execution_count": null,
   "id": "e6826d1f",
   "metadata": {},
   "outputs": [],
   "source": [
    "print('pz' == 'qy')"
   ]
  },
  {
   "cell_type": "code",
   "execution_count": null,
   "id": "8226ccbb",
   "metadata": {},
   "outputs": [],
   "source": [
    "print('pz' > 'py')"
   ]
  },
  {
   "cell_type": "code",
   "execution_count": null,
   "id": "3a61513d",
   "metadata": {},
   "outputs": [],
   "source": [
    "# For equality operator between strings - checks if both the strings are the same - using hashvalues. \n",
    "\n",
    "# For other comparative operators - checks ascii values character by character in the strings. Wherever, it finds firs unequal\n",
    "# characters, applies the comparison operator and returns output."
   ]
  },
  {
   "cell_type": "code",
   "execution_count": null,
   "id": "8209025a",
   "metadata": {},
   "outputs": [],
   "source": [
    "print('python' < 'Python')"
   ]
  },
  {
   "cell_type": "code",
   "execution_count": null,
   "id": "19675561",
   "metadata": {},
   "outputs": [],
   "source": [
    "print('python' >= 'python')"
   ]
  },
  {
   "cell_type": "code",
   "execution_count": null,
   "id": "006cf888",
   "metadata": {},
   "outputs": [],
   "source": [
    "print('python' >= 'Python')"
   ]
  },
  {
   "cell_type": "code",
   "execution_count": null,
   "id": "2eaa4d67",
   "metadata": {},
   "outputs": [],
   "source": [
    "a = 'H!there'\n",
    "\n",
    "b = a\n",
    "\n",
    "c = 'H!there'\n",
    "\n",
    "print(id(a))\n",
    "print(id(b))\n",
    "print(id(c))\n",
    "\n"
   ]
  },
  {
   "cell_type": "code",
   "execution_count": null,
   "id": "9e9b76fe",
   "metadata": {},
   "outputs": [],
   "source": [
    "print(a is not b)\n",
    "print(a is not c)"
   ]
  },
  {
   "cell_type": "code",
   "execution_count": null,
   "id": "a3256f02",
   "metadata": {},
   "outputs": [],
   "source": []
  },
  {
   "cell_type": "code",
   "execution_count": null,
   "id": "5be63041",
   "metadata": {},
   "outputs": [],
   "source": []
  },
  {
   "cell_type": "code",
   "execution_count": null,
   "id": "bd42b5e4",
   "metadata": {},
   "outputs": [],
   "source": []
  },
  {
   "cell_type": "code",
   "execution_count": null,
   "id": "20a92277",
   "metadata": {},
   "outputs": [],
   "source": []
  },
  {
   "cell_type": "code",
   "execution_count": null,
   "id": "033ef3b5",
   "metadata": {},
   "outputs": [],
   "source": [
    "is operator checks if both OBJECTs are the same\n",
    "\n",
    "== operator checks if VALUES are the same. \n",
    "\n",
    "\n"
   ]
  },
  {
   "cell_type": "code",
   "execution_count": null,
   "id": "e8f6cfa1",
   "metadata": {},
   "outputs": [],
   "source": []
  },
  {
   "cell_type": "code",
   "execution_count": null,
   "id": "c5d77114",
   "metadata": {},
   "outputs": [],
   "source": [
    "x = 1000\n",
    "y = 1000\n",
    "\n",
    "print(id(x), id(y))\n",
    "print(x is y)\n",
    "\n",
    "print(x == y)"
   ]
  },
  {
   "cell_type": "code",
   "execution_count": null,
   "id": "d3738809",
   "metadata": {},
   "outputs": [],
   "source": [
    "print('Python' == 'Python')"
   ]
  },
  {
   "cell_type": "code",
   "execution_count": null,
   "id": "03419c26",
   "metadata": {},
   "outputs": [],
   "source": []
  },
  {
   "cell_type": "code",
   "execution_count": null,
   "id": "b832dea1",
   "metadata": {},
   "outputs": [],
   "source": [
    "print('Python' <= 'python')"
   ]
  },
  {
   "cell_type": "code",
   "execution_count": null,
   "id": "f9229c3e",
   "metadata": {},
   "outputs": [],
   "source": [
    "a = 10"
   ]
  },
  {
   "cell_type": "code",
   "execution_count": null,
   "id": "0e4e808b",
   "metadata": {},
   "outputs": [],
   "source": [
    "print('Python' != 'Python')"
   ]
  },
  {
   "cell_type": "code",
   "execution_count": null,
   "id": "fe7f87fc",
   "metadata": {},
   "outputs": [],
   "source": [
    "x = 'Python#'\n",
    "y = 'Python#'\n",
    "z = x\n",
    "\n",
    "print(x is y)\n",
    "print(x == y)\n",
    "\n",
    "print(id(x), id(y))"
   ]
  },
  {
   "cell_type": "code",
   "execution_count": null,
   "id": "d7e387c4",
   "metadata": {},
   "outputs": [],
   "source": [
    "# Hashcode\n",
    "\n",
    "# Algorithm at the back end which takes in - that what are the object that make up this \n"
   ]
  },
  {
   "cell_type": "code",
   "execution_count": null,
   "id": "b48d7153",
   "metadata": {},
   "outputs": [],
   "source": [
    "print('p', ord('p'))\n",
    "print('q', ord('q'))\n",
    "print('y', ord('y'))\n",
    "print('x', ord('x'))\n",
    "print('w', ord('w'))"
   ]
  },
  {
   "cell_type": "code",
   "execution_count": null,
   "id": "2fb9dac1",
   "metadata": {},
   "outputs": [],
   "source": [
    "print(dir(__builtins__))"
   ]
  },
  {
   "cell_type": "code",
   "execution_count": null,
   "id": "cd35caac",
   "metadata": {},
   "outputs": [],
   "source": [
    "print('py'>='qw')"
   ]
  },
  {
   "cell_type": "code",
   "execution_count": null,
   "id": "a9eaaba7",
   "metadata": {},
   "outputs": [],
   "source": [
    "print(chr(112))"
   ]
  },
  {
   "cell_type": "code",
   "execution_count": null,
   "id": "030bb110",
   "metadata": {},
   "outputs": [],
   "source": [
    "str1 = 'python'\n",
    "str2 = 'pyth'\n",
    "\n",
    "print(str1 > str2)"
   ]
  },
  {
   "cell_type": "code",
   "execution_count": null,
   "id": "9c0bc09a",
   "metadata": {},
   "outputs": [],
   "source": [
    "print(ord('a'))\n",
    "\n",
    "print(ord('y'))"
   ]
  },
  {
   "cell_type": "code",
   "execution_count": null,
   "id": "4431f8b4",
   "metadata": {},
   "outputs": [],
   "source": [
    "print('p' > 'q')"
   ]
  },
  {
   "cell_type": "code",
   "execution_count": null,
   "id": "cd37b54a",
   "metadata": {},
   "outputs": [],
   "source": []
  },
  {
   "cell_type": "code",
   "execution_count": null,
   "id": "d4baff89",
   "metadata": {},
   "outputs": [],
   "source": [
    "print('py' == 'px')"
   ]
  },
  {
   "cell_type": "code",
   "execution_count": null,
   "id": "47c8c379",
   "metadata": {},
   "outputs": [],
   "source": [
    "step 1 = Check if their hashvalues are same. If they are - then equal objects. \n",
    "\n",
    "step 2 - if hashvalues are not same, check for comparison ascii values between 1st object of both operands. If not same, \n",
    "then give result. If same, move to the next object and check comparison and so on........"
   ]
  },
  {
   "cell_type": "code",
   "execution_count": null,
   "id": "1fc04280",
   "metadata": {},
   "outputs": [],
   "source": [
    "print('Python' <= 'Python')"
   ]
  },
  {
   "cell_type": "code",
   "execution_count": null,
   "id": "ec866a3a",
   "metadata": {},
   "outputs": [],
   "source": [
    "print('Python' < 'Python')"
   ]
  },
  {
   "cell_type": "code",
   "execution_count": null,
   "id": "c8af9c59",
   "metadata": {},
   "outputs": [],
   "source": [
    "print(ord('P'), ord('p'))"
   ]
  },
  {
   "cell_type": "code",
   "execution_count": null,
   "id": "397495c5",
   "metadata": {},
   "outputs": [],
   "source": [
    "print('Python' <= 'python')"
   ]
  },
  {
   "cell_type": "code",
   "execution_count": null,
   "id": "1adc5890",
   "metadata": {},
   "outputs": [],
   "source": [
    "print(ord(\"P\"))"
   ]
  },
  {
   "cell_type": "code",
   "execution_count": null,
   "id": "050ac151",
   "metadata": {},
   "outputs": [],
   "source": [
    "print(ord('p'))"
   ]
  },
  {
   "cell_type": "code",
   "execution_count": null,
   "id": "16efa81e",
   "metadata": {},
   "outputs": [],
   "source": [
    "print(chr(80))"
   ]
  },
  {
   "cell_type": "code",
   "execution_count": null,
   "id": "611d0963",
   "metadata": {},
   "outputs": [],
   "source": [
    "print(chr(112))"
   ]
  },
  {
   "cell_type": "code",
   "execution_count": null,
   "id": "03414ec1",
   "metadata": {},
   "outputs": [],
   "source": [
    "print('p' > 'P')"
   ]
  },
  {
   "cell_type": "code",
   "execution_count": null,
   "id": "1f00339b",
   "metadata": {},
   "outputs": [],
   "source": [
    "print('P' > 'p')"
   ]
  },
  {
   "cell_type": "code",
   "execution_count": null,
   "id": "d5b7b9eb",
   "metadata": {},
   "outputs": [],
   "source": [
    "print('Python' > 'Python')"
   ]
  },
  {
   "cell_type": "code",
   "execution_count": null,
   "id": "403ae49e",
   "metadata": {},
   "outputs": [],
   "source": [
    "print('Python' >= 'Python')"
   ]
  },
  {
   "cell_type": "code",
   "execution_count": null,
   "id": "67a6cf91",
   "metadata": {},
   "outputs": [],
   "source": [
    "print('Python' > 'python')"
   ]
  },
  {
   "cell_type": "code",
   "execution_count": null,
   "id": "af4c341e",
   "metadata": {},
   "outputs": [],
   "source": [
    "print('Python' >= 'python')"
   ]
  },
  {
   "cell_type": "code",
   "execution_count": null,
   "id": "d708d6c1",
   "metadata": {},
   "outputs": [],
   "source": [
    "# When we are 'comparing' strings in Python. The equal to operator intutitively makes some sense if Python is checking\n",
    "# for equality. \n",
    "# Therefore :"
   ]
  },
  {
   "cell_type": "code",
   "execution_count": null,
   "id": "1719135a",
   "metadata": {},
   "outputs": [],
   "source": [
    "print(ord('e'))\n",
    "print(ord('h'))"
   ]
  },
  {
   "cell_type": "code",
   "execution_count": null,
   "id": "b7557fbf",
   "metadata": {},
   "outputs": [],
   "source": [
    "a = 'qyteon'\n",
    "b = 'qython'\n",
    "\n",
    "print(a < b)\n",
    "\n"
   ]
  },
  {
   "cell_type": "code",
   "execution_count": null,
   "id": "df0eb41f",
   "metadata": {},
   "outputs": [],
   "source": [
    "a = 'q'"
   ]
  },
  {
   "cell_type": "code",
   "execution_count": null,
   "id": "755de137",
   "metadata": {},
   "outputs": [],
   "source": [
    "print(a > b)"
   ]
  },
  {
   "cell_type": "code",
   "execution_count": null,
   "id": "6643190d",
   "metadata": {},
   "outputs": [],
   "source": [
    "print(ord('p'))\n",
    "print(ord('*'))"
   ]
  },
  {
   "cell_type": "code",
   "execution_count": null,
   "id": "b07e92f4",
   "metadata": {},
   "outputs": [],
   "source": [
    "# What are methods?\n",
    "\n",
    "# Functions are a piece of code, that we can call to execute whenever required. \n",
    "\n",
    "def addsum(x,y):\n",
    "    print(x+y)\n",
    "    \n",
    "    \n",
    "addsum(71,42)\n",
    "\n",
    "\n",
    "class string:\n",
    "    \n",
    "    \n",
    "    \n",
    "    \n",
    "    def split():\n",
    "        \n",
    "        \n",
    "        \n",
    "\n",
    "        \n",
    "class list:\n",
    "    \n",
    "    \n",
    "    \n",
    "    def split()\n",
    "        \n",
    "        \n",
    "        "
   ]
  },
  {
   "cell_type": "code",
   "execution_count": null,
   "id": "37b5f330",
   "metadata": {},
   "outputs": [],
   "source": []
  },
  {
   "cell_type": "code",
   "execution_count": null,
   "id": "24dbf766",
   "metadata": {},
   "outputs": [],
   "source": []
  },
  {
   "cell_type": "code",
   "execution_count": null,
   "id": "c92a30da",
   "metadata": {},
   "outputs": [],
   "source": [
    "# Stripping a string. \n",
    "\n",
    "# Python offers a method to remove leading and trailing characters from a string. Sometimes, some whitespace of characters \n",
    "# may have been put at the beginning or end of a string. Now, while searching for the specific string, we are unable to \n",
    "# find it due to the white spaces. \n",
    "\n",
    "# Example : \n",
    "\n",
    "p = 'python'\n",
    "p1 = '   python'\n",
    "p2 = 'python   '\n",
    "p3 = '  python  '\n",
    "p4 = '   python      is      great     '\n",
    "print(p == p1)\n",
    "print(p == p2)\n",
    "print(p == p3)\n"
   ]
  },
  {
   "cell_type": "code",
   "execution_count": null,
   "id": "6928f42d",
   "metadata": {},
   "outputs": [],
   "source": [
    "print(p4)\n",
    "print(len(p4))"
   ]
  },
  {
   "cell_type": "code",
   "execution_count": null,
   "id": "6ee9a187",
   "metadata": {},
   "outputs": [],
   "source": [
    "p5 = p4.strip()\n",
    "print(p5)\n",
    "print(len(p5))"
   ]
  },
  {
   "cell_type": "code",
   "execution_count": null,
   "id": "c87f5533",
   "metadata": {},
   "outputs": [],
   "source": []
  },
  {
   "cell_type": "code",
   "execution_count": null,
   "id": "cf2a1f47",
   "metadata": {},
   "outputs": [],
   "source": [
    "# We can use the strip method to remove these whitespaces (or other characters) from the end or beginning of string.\n",
    "\n",
    "print(len(p1))\n",
    "\n",
    "p10 = p4.strip()\n",
    "print(p10)\n",
    "\n",
    "print(p4)"
   ]
  },
  {
   "cell_type": "code",
   "execution_count": null,
   "id": "d72befd1",
   "metadata": {},
   "outputs": [],
   "source": [
    "print(len(p4))\n",
    "print(p4)\n",
    "print(p10)\n",
    "\n",
    "# As you can see, the strip method returns A NEW STRING OBJECT without modifying the original string(the original string\n",
    "# cannot be modified since it is immutable)"
   ]
  },
  {
   "cell_type": "code",
   "execution_count": null,
   "id": "c1cbd22d",
   "metadata": {},
   "outputs": [],
   "source": [
    "# The strip method removes the character only leading and trailing characters NOT characters from in between the string."
   ]
  },
  {
   "cell_type": "code",
   "execution_count": null,
   "id": "062bdf0d",
   "metadata": {},
   "outputs": [],
   "source": [
    "x = '   Python Rocks  '\n",
    "\n",
    "print(x.strip())"
   ]
  },
  {
   "cell_type": "code",
   "execution_count": null,
   "id": "8f2edeb0",
   "metadata": {},
   "outputs": [],
   "source": [
    "x = '     Python                 Rocks               '\n",
    "\n",
    "print(x.strip())\n",
    "\n",
    "import numpy\n",
    "\n",
    "print(dir(numpy))"
   ]
  },
  {
   "cell_type": "code",
   "execution_count": null,
   "id": "84eef752",
   "metadata": {},
   "outputs": [],
   "source": [
    "import keyword\n",
    "\n",
    "print(dir(keyword))"
   ]
  },
  {
   "cell_type": "code",
   "execution_count": null,
   "id": "9c120263",
   "metadata": {},
   "outputs": [],
   "source": [
    "# The strip method can take one parameter i.e. the character to be removed. The default to be stripped is whitespace but\n",
    "# this can be changed to the character(s) of choice."
   ]
  },
  {
   "cell_type": "code",
   "execution_count": null,
   "id": "f60bc46d",
   "metadata": {},
   "outputs": [],
   "source": [
    "# built-in functions or user defined functions syntax is:\n",
    "    \n",
    "# functionname(one or more parameters)\n",
    "\n",
    "# Instance of class (object) syntax is:\n",
    "    \n",
    "# object(or var pointing to that object).functionname<called methods when they are part of a class>(0 or more parameters)\n",
    "\n",
    "# Also when importing a file/library syntax is:\n",
    "\n",
    "#filename.method(0 or more parameters)"
   ]
  },
  {
   "cell_type": "code",
   "execution_count": null,
   "id": "b117fe9f",
   "metadata": {},
   "outputs": [],
   "source": [
    "print(dir(str))"
   ]
  },
  {
   "cell_type": "code",
   "execution_count": null,
   "id": "eb056364",
   "metadata": {},
   "outputs": [],
   "source": [
    "x = '***Python***'\n",
    "\n",
    "print(x.strip('*'))"
   ]
  },
  {
   "cell_type": "code",
   "execution_count": null,
   "id": "1b7bb8f1",
   "metadata": {},
   "outputs": [],
   "source": [
    "x = '*   * *   Python    * **   '\n",
    "print(x.strip(' *'))"
   ]
  },
  {
   "cell_type": "code",
   "execution_count": null,
   "id": "d437b1ad",
   "metadata": {},
   "outputs": [],
   "source": [
    "x = '****Py *xy thon***'\n",
    "\n",
    "print(x.strip('P*'))"
   ]
  },
  {
   "cell_type": "code",
   "execution_count": null,
   "id": "0f5296d3",
   "metadata": {},
   "outputs": [],
   "source": [
    "x = 'yxyxyxyPythonxyxyxyxy'\n",
    "\n",
    "print(x.strip('Xy'))"
   ]
  },
  {
   "cell_type": "code",
   "execution_count": null,
   "id": "a927e558",
   "metadata": {},
   "outputs": [],
   "source": [
    "x = 'x xx xxxxxx      x x Python xxxxxxx             x x x x x '\n",
    "print(x.strip('x '))\n"
   ]
  },
  {
   "cell_type": "code",
   "execution_count": null,
   "id": "bc902b32",
   "metadata": {},
   "outputs": [],
   "source": [
    "#The rstrip method removes whitespace or characters from the right side of the string.\n",
    "\n",
    "x = '    Python     '\n",
    "\n",
    "print(len(x))\n",
    "\n",
    "y = x.rstrip()\n",
    "\n",
    "print(y)\n",
    "\n",
    "print(len(y))\n",
    "\n",
    "#The same as strip method, the original string cannot be mutated and a new string object is returned."
   ]
  },
  {
   "cell_type": "code",
   "execution_count": null,
   "id": "5597efba",
   "metadata": {},
   "outputs": [],
   "source": [
    "x = 'xxxx Python xxxxx'\n",
    "\n",
    "print(x.rstrip('x '))"
   ]
  },
  {
   "cell_type": "code",
   "execution_count": null,
   "id": "90bcb970",
   "metadata": {},
   "outputs": [],
   "source": [
    "# And on the left side we use lstrip exactly the same as strip and rstrip methods\n",
    "\n",
    "x = '    Python     '\n",
    "\n",
    "print(len(x))\n",
    "\n",
    "y = x.lstrip()\n",
    "\n",
    "print(y)\n",
    "\n",
    "print(len(y))\n",
    "\n",
    "#The same as strip method, the original string cannot be mutated and a new string object is returned."
   ]
  },
  {
   "cell_type": "code",
   "execution_count": null,
   "id": "604358ea",
   "metadata": {},
   "outputs": [],
   "source": [
    "Z = 'xxxx Python xxxx'\n",
    "print(Z.lstrip(' x'))\n",
    "\n",
    "y = 'xxx Python xxxxx'"
   ]
  },
  {
   "cell_type": "code",
   "execution_count": null,
   "id": "485e0095",
   "metadata": {},
   "outputs": [],
   "source": [
    "find, index - FIRST OCCURRENCE of the input substring"
   ]
  },
  {
   "cell_type": "code",
   "execution_count": null,
   "id": "cf462246",
   "metadata": {},
   "outputs": [],
   "source": [
    "# Finding a substring from a string. We can use find method to find a substring from a string. It returns the starting index\n",
    "# number of THE FIRST OCCURENCE where the substring was found in the original string.\n",
    "\n",
    "print('Python Python'.find('h'))"
   ]
  },
  {
   "cell_type": "code",
   "execution_count": null,
   "id": "9d490ab8",
   "metadata": {},
   "outputs": [],
   "source": [
    "print('Python Python'.rfind('h'))"
   ]
  },
  {
   "cell_type": "code",
   "execution_count": null,
   "id": "b63d7fbc",
   "metadata": {},
   "outputs": [],
   "source": [
    "print('Python Python'.index('h'))\n",
    "\n",
    "print('Python Python'.rindex('h'))"
   ]
  },
  {
   "cell_type": "code",
   "execution_count": null,
   "id": "dc2bf0ee",
   "metadata": {},
   "outputs": [],
   "source": []
  },
  {
   "cell_type": "code",
   "execution_count": null,
   "id": "bb63db24",
   "metadata": {},
   "outputs": [],
   "source": [
    "a = 'Python Python'\n",
    "b = 'x'\n",
    "\n",
    "print('line4 output ------>', 'Python Python'.find('P'))\n",
    "print('line5 output ------>', a.find(b))\n",
    "\n",
    "\n",
    "print('Next line of code')"
   ]
  },
  {
   "cell_type": "code",
   "execution_count": null,
   "id": "ca19950a",
   "metadata": {},
   "outputs": [],
   "source": [
    "print(x.index(y))\n",
    "\n",
    "\n",
    "print('Next line of code')"
   ]
  },
  {
   "cell_type": "code",
   "execution_count": null,
   "id": "95559ba2",
   "metadata": {},
   "outputs": [],
   "source": [
    "find - if substring is not found will get -1 as output\n",
    "index - if substring not found will raise an error\n",
    "\n"
   ]
  },
  {
   "cell_type": "code",
   "execution_count": null,
   "id": "fed04bef",
   "metadata": {},
   "outputs": [],
   "source": [
    "str1 = 'Betty bought some butter but the butter was bitter'\n",
    "\n",
    "print(str1.rfind('but',0,33))\n",
    "\n",
    "\n"
   ]
  },
  {
   "cell_type": "code",
   "execution_count": null,
   "id": "a1dff484",
   "metadata": {},
   "outputs": [],
   "source": [
    "# split, join, upper, strip, rstrip, lstrip"
   ]
  },
  {
   "cell_type": "code",
   "execution_count": null,
   "id": "75ffd9b2",
   "metadata": {},
   "outputs": [],
   "source": [
    "find, index, rfind, rindex - \n",
    "\n",
    "start defaults to beginnning of string\n",
    "stop defaults to end of string\n",
    "\n",
    "You can have start without stop but not stop without start in the arguments. "
   ]
  },
  {
   "cell_type": "code",
   "execution_count": null,
   "id": "6a5a7443",
   "metadata": {},
   "outputs": [],
   "source": [
    "# Find all the occurrences of 'but' in above string. print their start index, stop index and total number of occurrences. \n",
    "# hint use a for or a while loop. Use find method. You will need to use start parameter of find method. \n",
    "\n",
    "\n",
    "str1 = 'Betty bought some butter but the butter was bitter'\n",
    "search_str = 'but'\n",
    "pos = 0\n",
    "count = 0\n",
    "\n",
    "\n",
    "while str1.find(search_str, pos) != -1:\n",
    "    pos = str1.find(search_str, pos)\n",
    "    print(pos, pos+len(search_str))\n",
    "    count += 1\n",
    "    pos += 1\n",
    "    \n",
    "    \n",
    "print('Total Count', count)\n",
    "    \n",
    "\n",
    "\n",
    "\n",
    "\n"
   ]
  },
  {
   "cell_type": "code",
   "execution_count": null,
   "id": "188cf911",
   "metadata": {},
   "outputs": [],
   "source": [
    "count = 0\n",
    "for x in range(len(str1)):\n",
    "    if str1[x:x+len(search_str)] == search_str:\n",
    "        print(x, x+len(search_str))\n",
    "        count += 1\n",
    "        \n",
    "        \n",
    "        \n",
    "print('Total count', count)\n",
    "\n"
   ]
  },
  {
   "cell_type": "code",
   "execution_count": null,
   "id": "850b1c65",
   "metadata": {},
   "outputs": [],
   "source": [
    "str1= \"Betty bought some butter but the butter was bitter\"\n",
    "index = 0\n",
    "\n",
    "while True:\n",
    "    index = str1.find(\"but\", index)\n",
    "    if index == -1:\n",
    "        break\n",
    "    print(index)\n",
    "    index += 1"
   ]
  },
  {
   "cell_type": "code",
   "execution_count": null,
   "id": "3d4cad9b",
   "metadata": {},
   "outputs": [],
   "source": [
    "print(str1[str1.rfind('but'):str1.rfind('but')+len('but')])"
   ]
  },
  {
   "cell_type": "code",
   "execution_count": null,
   "id": "f5c84f06",
   "metadata": {},
   "outputs": [],
   "source": [
    "print(str1.index('but'))\n",
    "print(str1.rindex('but'))"
   ]
  },
  {
   "cell_type": "code",
   "execution_count": null,
   "id": "fc50a66d",
   "metadata": {},
   "outputs": [],
   "source": [
    "print('Python Python'.find('hon'))"
   ]
  },
  {
   "cell_type": "code",
   "execution_count": null,
   "id": "efb34c5e",
   "metadata": {},
   "outputs": [],
   "source": [
    "x = 'Python Python'\n",
    "y = 'hon'\n",
    "print(x.find(y))"
   ]
  },
  {
   "cell_type": "code",
   "execution_count": null,
   "id": "f84b5b52",
   "metadata": {},
   "outputs": [],
   "source": [
    "# The index method does the same operation as the find method.\n",
    "print('Python Python'.index('t'))"
   ]
  },
  {
   "cell_type": "code",
   "execution_count": null,
   "id": "81134e85",
   "metadata": {},
   "outputs": [],
   "source": [
    "x = 'PytthonPython'\n",
    "y = 't'\n",
    "print(x.index(y))"
   ]
  },
  {
   "cell_type": "code",
   "execution_count": null,
   "id": "775140f2",
   "metadata": {},
   "outputs": [],
   "source": [
    "print('Python Python'.index('hon'))"
   ]
  },
  {
   "cell_type": "code",
   "execution_count": null,
   "id": "7dc79dff",
   "metadata": {},
   "outputs": [],
   "source": [
    "x = 'Python Python'\n",
    "y = 'ho'\n",
    "print(x.index(y))"
   ]
  },
  {
   "cell_type": "code",
   "execution_count": null,
   "id": "22dae111",
   "metadata": {},
   "outputs": [],
   "source": [
    "# The only differnce between the find and index method is that if the find method doesnt find the substring it returns -1\n",
    "# while the index method returns an error\n",
    "\n",
    "print('Python Python'.find('x'))"
   ]
  },
  {
   "cell_type": "code",
   "execution_count": null,
   "id": "b174a06c",
   "metadata": {},
   "outputs": [],
   "source": [
    "print('Python Python'.index('x'))"
   ]
  },
  {
   "cell_type": "code",
   "execution_count": null,
   "id": "625db271",
   "metadata": {},
   "outputs": [],
   "source": []
  },
  {
   "cell_type": "code",
   "execution_count": null,
   "id": "b84edc36",
   "metadata": {},
   "outputs": [],
   "source": []
  },
  {
   "cell_type": "code",
   "execution_count": null,
   "id": "6bc100fc",
   "metadata": {},
   "outputs": [],
   "source": []
  },
  {
   "cell_type": "code",
   "execution_count": null,
   "id": "80939b97",
   "metadata": {},
   "outputs": [],
   "source": [
    "#The difference between them and the uses can be further explained by exception handling. In case you wish to get the output\n",
    "# of your application in such a way that the rest of your code continues to run but only account for the fact that the\n",
    "# substring was not found and you would get a -1 value, the you would use find. If however, on not finding a substring, you\n",
    "# wish your program to do something completely different - then you would let the exception be thrown BUT specify to the\n",
    "# program that on getting a ValueError do something else.\n",
    "\n",
    "def find_sub(x,y):\n",
    "    try:\n",
    "        print(f'Substring found at position {x.index(y)}.')\n",
    "    \n",
    "    except:\n",
    "        print(f'Please provide a correct substring')\n",
    "    print('Hello')\n",
    "              \n",
    "find_sub('Python Python', 'x')\n",
    "\n",
    "# We shall get into the detail of try and except blocks in a separate lecture."
   ]
  },
  {
   "cell_type": "code",
   "execution_count": null,
   "id": "47c0ac38",
   "metadata": {},
   "outputs": [],
   "source": [
    "# The rfind method searches the string from the right to left instead of conventional left to right i.e. you can look for\n",
    "# the substring starting from the back of the string. Remember that it will return the index number of the FIRST OCCURENCE\n",
    "# of the substring but starting from right to left. It DOES NOT give the negative index number. It still gives the positive\n",
    "# index number but starts searching from the end of the string.\n",
    "\n",
    "x = 'Python Python'\n",
    "print(x.rfind('x'))"
   ]
  },
  {
   "cell_type": "code",
   "execution_count": null,
   "id": "5c2d659a",
   "metadata": {},
   "outputs": [],
   "source": [
    "# Similarly the rindex method searches for the FIRST OCCURENCE of the substring from right to left and throws an exception\n",
    "# if the string is not found.\n",
    "\n",
    "print('Python Python'.rindex('x'))"
   ]
  },
  {
   "cell_type": "code",
   "execution_count": null,
   "id": "e37a2b74",
   "metadata": {},
   "outputs": [],
   "source": [
    "# Both the find(and rfind) and index(and rindex) methods take 3 parameters. \n",
    "\n",
    "# 1. Substring to be found - Mandatory\n",
    "# 2. Start index - Optional. If not provided defaults to 0\n",
    "# 3. Stop index - Optional. If not provided defaults to end of string(length of string - 1)\n",
    "\n",
    "print('Python Pythoxn'.find('t',3, 10))\n",
    "print('Python Pythoxn'.index('t',3, 10))"
   ]
  },
  {
   "cell_type": "code",
   "execution_count": null,
   "id": "c5b02b25",
   "metadata": {},
   "outputs": [],
   "source": [
    "\n",
    "print('Python Python'.find('t',0,30))\n",
    "print('Python Python'.index('t',0,30))"
   ]
  },
  {
   "cell_type": "code",
   "execution_count": null,
   "id": "bc48f239",
   "metadata": {},
   "outputs": [],
   "source": [
    "# find, index - only gives me index number of first occurrence of the substring if found. \n",
    "\n",
    "# Problem statement - find index numbers of ALL occurrence of the substring and count of occurrences found.\n",
    "\n",
    "# find, index - I can also give the start and stop parameters of where to find. \n",
    "\n"
   ]
  },
  {
   "cell_type": "code",
   "execution_count": null,
   "id": "74c95446",
   "metadata": {},
   "outputs": [],
   "source": [
    "'Python Python Python Python tttt Ptyhon Lets try'\n",
    "\n",
    "\n",
    "# Find all the occurrences of t but must use the string find method."
   ]
  },
  {
   "cell_type": "code",
   "execution_count": null,
   "id": "d60924b1",
   "metadata": {},
   "outputs": [],
   "source": [
    "lst1 = []\n",
    "\n",
    "print(lst1)"
   ]
  },
  {
   "cell_type": "code",
   "execution_count": null,
   "id": "1d3b5d80",
   "metadata": {},
   "outputs": [],
   "source": [
    "lst1.append(1000)\n",
    "\n",
    "print(lst1)"
   ]
  },
  {
   "cell_type": "code",
   "execution_count": null,
   "id": "006b24c8",
   "metadata": {},
   "outputs": [],
   "source": [
    "lst1 = []\n"
   ]
  },
  {
   "cell_type": "code",
   "execution_count": null,
   "id": "f1694fe3",
   "metadata": {},
   "outputs": [],
   "source": [
    "str1 = 'Python Python Python Python tttt Ptyhon Lets try'\n",
    "\n",
    "start_param = 0\n",
    "count = 0\n",
    "idx_pos = []\n",
    "x = 0\n",
    "while x != -1:\n",
    "    x = str1.find('t', start_param)\n",
    "    if x != -1:\n",
    "        idx_pos.append(x)\n",
    "        count += 1\n",
    "        start_param = x + 1\n",
    "    \n",
    " \n",
    "    \n",
    "print(count)\n",
    "print(idx_pos)"
   ]
  },
  {
   "cell_type": "code",
   "execution_count": null,
   "id": "ca51ac08",
   "metadata": {},
   "outputs": [],
   "source": [
    "lst1 = [1,2,3,4]\n",
    "\n",
    "for x in lst1:\n",
    "    print(x)"
   ]
  },
  {
   "cell_type": "code",
   "execution_count": null,
   "id": "79363daa",
   "metadata": {},
   "outputs": [],
   "source": [
    "i = 0\n",
    "\n",
    "\n",
    "while i < 5:\n",
    "    if i < 3:\n",
    "        print('Hello')\n",
    "    i = i + 1"
   ]
  },
  {
   "cell_type": "code",
   "execution_count": null,
   "id": "387ec8dc",
   "metadata": {},
   "outputs": [],
   "source": [
    "i = 0 \n",
    "if i < 5:\n",
    "    print('Hello')"
   ]
  },
  {
   "cell_type": "code",
   "execution_count": null,
   "id": "8e5f733f",
   "metadata": {},
   "outputs": [],
   "source": []
  },
  {
   "cell_type": "code",
   "execution_count": null,
   "id": "356221a6",
   "metadata": {},
   "outputs": [],
   "source": []
  },
  {
   "cell_type": "code",
   "execution_count": null,
   "id": "f086fcc8",
   "metadata": {},
   "outputs": [],
   "source": [
    "# cnt=0\n",
    "# for x in range(len(str1)):\n",
    "#     if x == str1.find('t',x):\n",
    "#         cnt +=1\n",
    "#         print(f'Index {x}')\n",
    "\n",
    "# print(cnt)\n"
   ]
  },
  {
   "cell_type": "code",
   "execution_count": null,
   "id": "6a0bf6ae",
   "metadata": {},
   "outputs": [],
   "source": []
  },
  {
   "cell_type": "code",
   "execution_count": null,
   "id": "31a49710",
   "metadata": {},
   "outputs": [],
   "source": []
  },
  {
   "cell_type": "code",
   "execution_count": null,
   "id": "a829ea94",
   "metadata": {},
   "outputs": [],
   "source": []
  },
  {
   "cell_type": "code",
   "execution_count": null,
   "id": "2b886fe9",
   "metadata": {},
   "outputs": [],
   "source": [
    "print('Python Python'.index('t', , 8))\n",
    "print('Python Python'.find('t', , 8))"
   ]
  },
  {
   "cell_type": "code",
   "execution_count": null,
   "id": "d4646870",
   "metadata": {},
   "outputs": [],
   "source": [
    "print('Python Python'.find('t',11))\n",
    "print('Python Python'.index('t',11))\n",
    "\n",
    "# Note - though both start and stop parameters are optional - to be able to provide the stop parameter, the start parameter\n",
    "# must be provided or you will get a syntax error i.e. if the function receives the substring to search which is mandatory,\n",
    "# plus only one parameter - it will assume that is the start parameter and default to end of string for the stop parameter.\n",
    "\n",
    "# That means - you can have the following parameters\n",
    "# Only Substring to be found\n",
    "# Substring to be found and start parameter. No stop parameter\n",
    "# Substring, start and stop parameters\n",
    "\n",
    "# You cannot have:\n",
    "# Substring and stop parameter - no start parameter"
   ]
  },
  {
   "cell_type": "code",
   "execution_count": null,
   "id": "34105f0c",
   "metadata": {},
   "outputs": [],
   "source": [
    "sub_str = 'love'\n",
    "\n",
    "o_str = 'I love India'\n",
    "\n",
    "print(o_str.find(sub_str))"
   ]
  },
  {
   "cell_type": "markdown",
   "id": "dfa3fb99",
   "metadata": {},
   "source": [
    "# Excercise for class. \n",
    "\n",
    "### Find the starting AND ENDING index of the LAST occurrence of 'butter' in the above string. "
   ]
  },
  {
   "cell_type": "code",
   "execution_count": null,
   "id": "d51bb956",
   "metadata": {},
   "outputs": [],
   "source": [
    "find, index - 1st occurrence of beginning of the substring\n",
    "\n",
    "xyz = first occurrence of XYZ - index position of x. \n",
    "\n",
    "LAST Occurrence and "
   ]
  },
  {
   "cell_type": "code",
   "execution_count": null,
   "id": "81771402",
   "metadata": {},
   "outputs": [],
   "source": [
    "rfind, len(xyz)"
   ]
  },
  {
   "cell_type": "code",
   "execution_count": null,
   "id": "01a9e903",
   "metadata": {},
   "outputs": [],
   "source": [
    "beginning index position + length of sub_str - 1"
   ]
  },
  {
   "cell_type": "code",
   "execution_count": null,
   "id": "511fc63a",
   "metadata": {},
   "outputs": [],
   "source": [
    "orig_string = 'betty bought some butter but the butter was bitter so betty bought some better butter to make the bitter butter better'\n",
    "sub_str = 'butter'"
   ]
  },
  {
   "cell_type": "code",
   "execution_count": null,
   "id": "1f7445bd",
   "metadata": {},
   "outputs": [],
   "source": [
    "x = orig_string.rfind('butter')\n",
    "idx_pos = x + len(sub_str)-1\n",
    "\n",
    "print(x, idx_pos)"
   ]
  },
  {
   "cell_type": "code",
   "execution_count": null,
   "id": "b97f68b7",
   "metadata": {},
   "outputs": [],
   "source": [
    "print(orig_string[105:111])"
   ]
  },
  {
   "cell_type": "code",
   "execution_count": null,
   "id": "8e0dc479",
   "metadata": {},
   "outputs": [],
   "source": []
  },
  {
   "cell_type": "code",
   "execution_count": null,
   "id": "3828c621",
   "metadata": {},
   "outputs": [],
   "source": []
  },
  {
   "cell_type": "code",
   "execution_count": null,
   "id": "3f094a6a",
   "metadata": {},
   "outputs": [],
   "source": []
  },
  {
   "cell_type": "code",
   "execution_count": null,
   "id": "93a37261",
   "metadata": {},
   "outputs": [],
   "source": []
  },
  {
   "cell_type": "code",
   "execution_count": null,
   "id": "8961f106",
   "metadata": {},
   "outputs": [],
   "source": []
  },
  {
   "cell_type": "code",
   "execution_count": null,
   "id": "35393096",
   "metadata": {},
   "outputs": [],
   "source": []
  },
  {
   "cell_type": "code",
   "execution_count": null,
   "id": "b93f7a9c",
   "metadata": {},
   "outputs": [],
   "source": []
  },
  {
   "cell_type": "code",
   "execution_count": null,
   "id": "4199b2fc",
   "metadata": {},
   "outputs": [],
   "source": []
  },
  {
   "cell_type": "code",
   "execution_count": null,
   "id": "73a8085b",
   "metadata": {},
   "outputs": [],
   "source": [
    "x = orig_string.rfind(sub_str)\n",
    "y = x+len(sub_str)\n",
    "print(x)\n",
    "print(y)\n",
    "\n",
    "print(orig_string[x:y])"
   ]
  },
  {
   "cell_type": "code",
   "execution_count": null,
   "id": "62b19621",
   "metadata": {},
   "outputs": [],
   "source": [
    "# Count method for strings. Counts the number of occurrences of the substring in the original string.\n",
    "\n",
    "print('Pythoxoooxoooxooon'.count('xo'))"
   ]
  },
  {
   "cell_type": "code",
   "execution_count": null,
   "id": "16be0050",
   "metadata": {},
   "outputs": [],
   "source": [
    "x = 'Pythooooon'\n",
    "y = 'o'\n",
    "\n",
    "print(x.count(y))"
   ]
  },
  {
   "cell_type": "code",
   "execution_count": null,
   "id": "837dc7d3",
   "metadata": {},
   "outputs": [],
   "source": [
    "print('Pythonxxxx0000PythonxxoooPython'.count('Python'))"
   ]
  },
  {
   "cell_type": "code",
   "execution_count": null,
   "id": "eed2c2a0",
   "metadata": {},
   "outputs": [],
   "source": [
    "x = 'Python'*3\n",
    "y = 'Python'\n",
    "\n",
    "print(x.count(y))"
   ]
  },
  {
   "cell_type": "code",
   "execution_count": null,
   "id": "0948fa51",
   "metadata": {},
   "outputs": [],
   "source": [
    "#print(('Python'*7).count('Python'))"
   ]
  },
  {
   "cell_type": "code",
   "execution_count": null,
   "id": "b527ff98",
   "metadata": {},
   "outputs": [],
   "source": [
    "x = 'Betty bought some butter but the butter was bitter so Betty bought some better butter to make the bitter butter better'\n",
    "\n",
    "print(x.count('b'))"
   ]
  },
  {
   "cell_type": "code",
   "execution_count": null,
   "id": "0540721d",
   "metadata": {},
   "outputs": [],
   "source": [
    "x = 'betty bought some butter but the butter was bitter so betty bought some better butter to make the bitter butter better'\n",
    "y = 'b'\n",
    "print(x.count('b',15,32))"
   ]
  },
  {
   "cell_type": "code",
   "execution_count": null,
   "id": "9078ba4b",
   "metadata": {},
   "outputs": [],
   "source": [
    "x.find('butter')"
   ]
  },
  {
   "cell_type": "code",
   "execution_count": null,
   "id": "6c180ba0",
   "metadata": {},
   "outputs": [],
   "source": [
    "x = 'betty bought some butter but the butter was bitter so betty bought some better butter to make the bitter butter better'\n",
    "y = 'butter'\n",
    "print(x.count(y,19,105))"
   ]
  },
  {
   "cell_type": "code",
   "execution_count": null,
   "id": "b10c78db",
   "metadata": {},
   "outputs": [],
   "source": [
    "# The count method takes 3 parameters. \n",
    "\n",
    "#1. The substring to be counted - Mandatory\n",
    "#2. The start index - Optional\n",
    "#3. The stop index - Optional\n",
    "\n",
    "# Just as the find, rfind, index and rindex methods - for the count method also to provide a stop index, start index must be\n",
    "# provided."
   ]
  },
  {
   "cell_type": "code",
   "execution_count": null,
   "id": "dc84f836",
   "metadata": {},
   "outputs": [],
   "source": [
    "print(len(x))"
   ]
  },
  {
   "cell_type": "code",
   "execution_count": null,
   "id": "279a1333",
   "metadata": {},
   "outputs": [],
   "source": [
    "print(x)\n",
    "print(y)"
   ]
  },
  {
   "cell_type": "code",
   "execution_count": null,
   "id": "24d47daa",
   "metadata": {},
   "outputs": [],
   "source": [
    "print(x)"
   ]
  },
  {
   "cell_type": "code",
   "execution_count": null,
   "id": "2c52b6cc",
   "metadata": {},
   "outputs": [],
   "source": [
    "print(len(x))"
   ]
  },
  {
   "cell_type": "code",
   "execution_count": null,
   "id": "13bcf126",
   "metadata": {},
   "outputs": [],
   "source": [
    "print(x)"
   ]
  },
  {
   "cell_type": "code",
   "execution_count": null,
   "id": "4f8b095a",
   "metadata": {},
   "outputs": [],
   "source": [
    "y = 'butter'\n",
    "print(x.count('butter', 8,100))"
   ]
  },
  {
   "cell_type": "code",
   "execution_count": null,
   "id": "289b9101",
   "metadata": {},
   "outputs": [],
   "source": [
    "print(x.count(y,8))"
   ]
  },
  {
   "cell_type": "code",
   "execution_count": null,
   "id": "aeb2260a",
   "metadata": {},
   "outputs": [],
   "source": [
    "print(x.count(y,26))"
   ]
  },
  {
   "cell_type": "code",
   "execution_count": null,
   "id": "111fa8d4",
   "metadata": {},
   "outputs": [],
   "source": [
    "print(x.count(y,26,100))"
   ]
  },
  {
   "cell_type": "code",
   "execution_count": null,
   "id": "f5664cfa",
   "metadata": {},
   "outputs": [],
   "source": [
    "# Replace method in Python\n",
    "\n",
    "orig_str = 'My name is Rikki'\n",
    "str1 = 'Rikki'\n",
    "str2 = 'Vishal'"
   ]
  },
  {
   "cell_type": "code",
   "execution_count": null,
   "id": "6fbf11a7",
   "metadata": {},
   "outputs": [],
   "source": [
    "print(orig_str.replace(str1, str2))"
   ]
  },
  {
   "cell_type": "code",
   "execution_count": null,
   "id": "26dee856",
   "metadata": {},
   "outputs": [],
   "source": [
    "print(orig_str)\n",
    "print(str1)\n",
    "print(str2)"
   ]
  },
  {
   "cell_type": "code",
   "execution_count": null,
   "id": "63c7e33f",
   "metadata": {},
   "outputs": [],
   "source": [
    "var1 = orig_str.replace(str1, str2)\n",
    "\n",
    "print(var1)"
   ]
  },
  {
   "cell_type": "code",
   "execution_count": null,
   "id": "c578b8cc",
   "metadata": {},
   "outputs": [],
   "source": [
    "print(var1.replace('is', 'Prasad'))"
   ]
  },
  {
   "cell_type": "code",
   "execution_count": null,
   "id": "07537d05",
   "metadata": {},
   "outputs": [],
   "source": []
  },
  {
   "cell_type": "code",
   "execution_count": null,
   "id": "b152a71b",
   "metadata": {},
   "outputs": [],
   "source": [
    "print(dir(str))"
   ]
  },
  {
   "cell_type": "code",
   "execution_count": null,
   "id": "1e2be7cd",
   "metadata": {},
   "outputs": [],
   "source": [
    "print(orig_str)"
   ]
  },
  {
   "cell_type": "code",
   "execution_count": null,
   "id": "6e678564",
   "metadata": {},
   "outputs": [],
   "source": [
    "# Just like the concatenation and strip methods - the original strings remain unchanged. To use the string formed from the\n",
    "# replace function - the output needs to be saved to a variable.\n",
    "\n",
    "str3 = orig_str.replace(str1, str2)\n",
    "\n",
    "print(str3)"
   ]
  },
  {
   "cell_type": "code",
   "execution_count": null,
   "id": "f670c04b",
   "metadata": {},
   "outputs": [],
   "source": [
    "strx = 'PYothoYoYoYon'\n",
    "strx1 = 'Yo'\n",
    "strx2 = 'x'\n",
    "\n",
    "str_repl = strx.replace(strx1, strx2)\n",
    "\n",
    "print(str_repl)"
   ]
  },
  {
   "cell_type": "code",
   "execution_count": null,
   "id": "098bf94c",
   "metadata": {},
   "outputs": [],
   "source": [
    "strx = '1010202013'\n",
    "strx1 = '1'\n",
    "strx2 = '9'\n",
    "\n",
    "str_repl = strx.replace(strx1, strx2)\n",
    "\n",
    "print(str_repl)"
   ]
  },
  {
   "cell_type": "code",
   "execution_count": null,
   "id": "5a05dc77",
   "metadata": {},
   "outputs": [],
   "source": [
    "# Besides the sub_string to be replaced and the string that will replace it, replace also takes an optional parameter\n",
    "# maxcount.\n",
    "\n",
    "# 1. substr1 - Mandatory. The piece of string inside the original string that has to be replaced.\n",
    "# 2. substr2 - Mandatory. The string that will replace substr1\n",
    "# 3. Maxcount - Maximum number of times to replace the substring with new piece of string. This is optional. If this is\n",
    "# not provided then all the occurrences of the substr1 are replaced with substr2.\n",
    "\n",
    "orig_str = 'Python '*10\n",
    "\n",
    "print(orig_str)"
   ]
  },
  {
   "cell_type": "code",
   "execution_count": null,
   "id": "ae0e246b",
   "metadata": {},
   "outputs": [],
   "source": [
    "str1 = 'y'\n",
    "str2 = 'i'\n",
    "\n",
    "str3 = orig_str.replace(str1, str2)\n",
    "\n",
    "print(str3)"
   ]
  },
  {
   "cell_type": "code",
   "execution_count": null,
   "id": "a74835dd",
   "metadata": {},
   "outputs": [],
   "source": [
    "str4 = orig_str.replace(str1, str2, 11)\n",
    "\n",
    "print(str4)"
   ]
  },
  {
   "cell_type": "code",
   "execution_count": null,
   "id": "81219780",
   "metadata": {},
   "outputs": [],
   "source": [
    "# Splitting strings. The split method in Python spllts a string based on white spacces into a list.\n",
    "\n",
    "x = 'Betty bought some butter but the butter Was bitter. So betty bought some better butter to make the bitter butter better.'\n",
    "\n",
    "y = x.split()\n",
    "\n",
    "print(y)"
   ]
  },
  {
   "cell_type": "code",
   "execution_count": null,
   "id": "d75ef350",
   "metadata": {},
   "outputs": [],
   "source": [
    "z = '|'.join('abcde')\n",
    "\n",
    "print(z)"
   ]
  },
  {
   "cell_type": "code",
   "execution_count": null,
   "id": "3d6b9802",
   "metadata": {},
   "outputs": [],
   "source": [
    "lst1 = ['a', 2, 2+3j]\n",
    "\n",
    "p = ' '.join(lst1)"
   ]
  },
  {
   "cell_type": "code",
   "execution_count": null,
   "id": "fe09f4c3",
   "metadata": {},
   "outputs": [],
   "source": []
  },
  {
   "cell_type": "code",
   "execution_count": null,
   "id": "f28ecb8e",
   "metadata": {},
   "outputs": [],
   "source": []
  },
  {
   "cell_type": "code",
   "execution_count": null,
   "id": "4f91c84e",
   "metadata": {},
   "outputs": [],
   "source": [
    "for word in y:\n",
    "    print(word)"
   ]
  },
  {
   "cell_type": "code",
   "execution_count": null,
   "id": "eb8a7df7",
   "metadata": {},
   "outputs": [],
   "source": [
    "print(x)"
   ]
  },
  {
   "cell_type": "code",
   "execution_count": null,
   "id": "961c791f",
   "metadata": {},
   "outputs": [],
   "source": [
    "# The split method returns a list object. As with the other methods, if we need to use this list later, it must be saved\n",
    "# to a variable.\n",
    "\n",
    "y = x.split('but', maxsplit=2)\n",
    "\n",
    "print(y)\n",
    "print(type(y))\n",
    "print(len(y))"
   ]
  },
  {
   "cell_type": "code",
   "execution_count": null,
   "id": "3578e2ab",
   "metadata": {},
   "outputs": [],
   "source": [
    "z = []\n",
    "\n",
    "for temp in y:\n",
    "    zz = temp.split('.')\n",
    "    for temp1 in zz:\n",
    "        z.append(temp1)\n",
    "    \n",
    "print(z)"
   ]
  },
  {
   "cell_type": "code",
   "execution_count": null,
   "id": "08382a83",
   "metadata": {},
   "outputs": [],
   "source": [
    "# However, we could perform some operations directly on the returned list if we do not require the output list again. For\n",
    "# example:\n",
    "\n",
    "for i in x.split():\n",
    "    print(i)\n",
    "\n",
    "# We will delve into for and while loops in a later lecture in deep and see other uses of loops.\n",
    "\n",
    "#This above implementation saves memory space as after splitting and performing the operation, the split list is removed\n",
    "# from memory."
   ]
  },
  {
   "cell_type": "code",
   "execution_count": null,
   "id": "c342b1d9",
   "metadata": {},
   "outputs": [],
   "source": [
    "# The split method can take two parameters.\n",
    "\n",
    "#1. Separator - what we want to use to separate the list. Optional - if not provided the default is space. \n",
    "# SPECIAL NOTE - the separator is NOT included in the output list. Therefore to join the list back - the same separator\n",
    "# must be used. More on that later.\n",
    "# Maxcount - Maximum number of splits we want to do - from left to right.Optional. If not provided then the string will be\n",
    "# split at every occurrence of the separator.\n",
    "\n",
    "x = 'betty bo__ught some butter b_ut the butter was b__itter so betty bough_t some better b*utter to make the bitter*butter b*etter'\n",
    "\n",
    "y = x.split('_')\n",
    "\n",
    "print(y)"
   ]
  },
  {
   "cell_type": "code",
   "execution_count": null,
   "id": "4fed7bb5",
   "metadata": {},
   "outputs": [],
   "source": [
    "var1 = 'Kishore'\n",
    "\n",
    "print(var1.split())"
   ]
  },
  {
   "cell_type": "code",
   "execution_count": null,
   "id": "7e216fd2",
   "metadata": {},
   "outputs": [],
   "source": [
    "y = x[3:3]\n",
    "\n",
    "print(y, end = '*')"
   ]
  },
  {
   "cell_type": "code",
   "execution_count": null,
   "id": "17d1dc40",
   "metadata": {},
   "outputs": [],
   "source": [
    "print(y[1])"
   ]
  },
  {
   "cell_type": "code",
   "execution_count": null,
   "id": "ffbc83bb",
   "metadata": {},
   "outputs": [],
   "source": [
    "z = 'bettty bought some butter but the butter was bitter so betty bought some better butter to make the bitter butter better'\n",
    "sub_str = 't'\n",
    "idx = 0\n",
    "\n",
    "lst1 = []\n",
    "for i in range(len(z)):\n",
    "    if z[i] == sub_str:\n",
    "        lst1.append(z[idx:i])\n",
    "        idx = i+1\n",
    "    elif i == len(z)-1:\n",
    "        lst1.append(z[idx:])\n",
    "        \n",
    "print(lst1)\n",
    "print(z.split('t'))\n"
   ]
  },
  {
   "cell_type": "code",
   "execution_count": null,
   "id": "144beba6",
   "metadata": {},
   "outputs": [],
   "source": [
    "def split_string(iterable, sub_str):\n",
    "    lst1 = []\n",
    "    idx = 0\n",
    "    for i in range(len(iterable)):\n",
    "        if iterable[i] == sub_str:\n",
    "            lst1.append(iterable[idx:i])\n",
    "            idx = i + 1\n",
    "        elif i == len(iterable)-1:\n",
    "            lst1.append(iterable[idx:])\n",
    "    return lst1\n",
    "\n",
    "output_split = split_string(z,sub_str)\n",
    "\n",
    "print(output_split)"
   ]
  },
  {
   "cell_type": "code",
   "execution_count": null,
   "id": "f47a7890",
   "metadata": {},
   "outputs": [],
   "source": [
    "new_str = 'Google turns to machine learning to advance translation of text out in the real world'\n",
    "sub_str = 'o'\n",
    "\n",
    "output_split = split_string(new_str,sub_str)\n",
    "\n",
    "print(output_split)"
   ]
  },
  {
   "cell_type": "code",
   "execution_count": null,
   "id": "a06b7fe7",
   "metadata": {},
   "outputs": [],
   "source": [
    "print(x)"
   ]
  },
  {
   "cell_type": "code",
   "execution_count": null,
   "id": "37532505",
   "metadata": {},
   "outputs": [],
   "source": [
    "y = x.split('butter', 2)\n",
    "\n",
    "print(y)"
   ]
  },
  {
   "cell_type": "code",
   "execution_count": null,
   "id": "e69beaac",
   "metadata": {},
   "outputs": [],
   "source": [
    "# Join method on strings. The join method works on iterables - like lists, tuples, sets etc. For ease of explanation, we\n",
    "# will work with lists today. Once other datatypes are covered, you may try using the join method on other iterables.\n",
    "# The separator must be provided on which the strings in the iterable will be joined. \n",
    "\n",
    "# If the join method finds a NON-STRING in the iterable, it will throw a TypeError\n",
    "\n",
    "x = 'betty bought some butter but the butter was bitter so betty bought some better butter to make the bitter butter better'\n",
    "y = x.split()\n",
    "\n",
    "print(y)"
   ]
  },
  {
   "cell_type": "code",
   "execution_count": null,
   "id": "a893f27f",
   "metadata": {},
   "outputs": [],
   "source": [
    "ytup = tuple(y)\n",
    "\n",
    "print(ytup)\n",
    "print(type(ytup))"
   ]
  },
  {
   "cell_type": "code",
   "execution_count": null,
   "id": "c5d200c0",
   "metadata": {},
   "outputs": [],
   "source": [
    "joinedlst = \"!\".join('Akansha')\n",
    "\n",
    "print(joinedlst)"
   ]
  },
  {
   "cell_type": "code",
   "execution_count": null,
   "id": "13bb7968",
   "metadata": {},
   "outputs": [],
   "source": [
    "def joinmethod(x, y):\n",
    "    str1 = x[0]+y\n",
    "    for a in range(1,len(x)-1):\n",
    "        str1 += x[a]+y\n",
    "    str1 += x[-1]\n",
    "    return str1\n",
    "\n",
    "\n",
    "print(joinmethod('Akansha', '!'))\n",
    "\n",
    "\n"
   ]
  },
  {
   "cell_type": "code",
   "execution_count": null,
   "id": "474da204",
   "metadata": {},
   "outputs": [],
   "source": [
    "str1 = ' Hello '"
   ]
  },
  {
   "cell_type": "code",
   "execution_count": null,
   "id": "3d3eb0b5",
   "metadata": {},
   "outputs": [],
   "source": [
    "lst1= ['Akanksha', 'Abhishek', 'Anushka', 'David']"
   ]
  },
  {
   "cell_type": "code",
   "execution_count": null,
   "id": "a5eb28dc",
   "metadata": {},
   "outputs": [],
   "source": [
    "z = 10.join(lst1)\n",
    "\n",
    "print(z)\n",
    "print(type(z))"
   ]
  },
  {
   "cell_type": "code",
   "execution_count": null,
   "id": "5dbc0c4b",
   "metadata": {},
   "outputs": [],
   "source": [
    "tup1 = tuple(y)\n",
    "\n",
    "print(tup1)\n",
    "print(type(tup1))"
   ]
  },
  {
   "cell_type": "code",
   "execution_count": null,
   "id": "37786579",
   "metadata": {},
   "outputs": [],
   "source": [
    "print(\"**\".join(tup1))"
   ]
  },
  {
   "cell_type": "code",
   "execution_count": null,
   "id": "bfb7bd1c",
   "metadata": {},
   "outputs": [],
   "source": [
    "print(tup1)"
   ]
  },
  {
   "cell_type": "code",
   "execution_count": null,
   "id": "4a553666",
   "metadata": {},
   "outputs": [],
   "source": [
    "print('*'.join('abcdefghij',))"
   ]
  },
  {
   "cell_type": "code",
   "execution_count": null,
   "id": "d6903164",
   "metadata": {},
   "outputs": [],
   "source": [
    "print(y)"
   ]
  },
  {
   "cell_type": "code",
   "execution_count": null,
   "id": "bd9bd28d",
   "metadata": {},
   "outputs": [],
   "source": [
    "y.append(20)\n",
    "\n",
    "print(y)"
   ]
  },
  {
   "cell_type": "code",
   "execution_count": null,
   "id": "c1ca9e5a",
   "metadata": {},
   "outputs": [],
   "source": [
    "print(\" \".join(y))"
   ]
  },
  {
   "cell_type": "code",
   "execution_count": null,
   "id": "f163e541",
   "metadata": {},
   "outputs": [],
   "source": [
    "tup1str = \" \".join(tup1)\n",
    "\n",
    "print(tup1str)"
   ]
  },
  {
   "cell_type": "code",
   "execution_count": null,
   "id": "c1028550",
   "metadata": {},
   "outputs": [],
   "source": [
    "for x in 'abcde':\n",
    "    print(x)"
   ]
  },
  {
   "cell_type": "code",
   "execution_count": null,
   "id": "0b84eec6",
   "metadata": {},
   "outputs": [],
   "source": [
    "lst1str = list('abcde')\n",
    "\n",
    "print(lst1str)"
   ]
  },
  {
   "cell_type": "code",
   "execution_count": null,
   "id": "46cdee58",
   "metadata": {},
   "outputs": [],
   "source": [
    "print(\"*\".join(lst1str))"
   ]
  },
  {
   "cell_type": "code",
   "execution_count": null,
   "id": "530b89ab",
   "metadata": {},
   "outputs": [],
   "source": [
    "str1str = \"*\".join('abcde')\n",
    "\n",
    "print(str1str)"
   ]
  },
  {
   "cell_type": "code",
   "execution_count": null,
   "id": "42f3666a",
   "metadata": {},
   "outputs": [],
   "source": [
    "z = \"*\".join(y)\n",
    "print(z)\n",
    "print(type(z))"
   ]
  },
  {
   "cell_type": "code",
   "execution_count": null,
   "id": "27f44d98",
   "metadata": {},
   "outputs": [],
   "source": []
  },
  {
   "cell_type": "code",
   "execution_count": null,
   "id": "1030576a",
   "metadata": {},
   "outputs": [],
   "source": [
    "z = \" \".join(y)\n",
    "print(z)"
   ]
  },
  {
   "cell_type": "code",
   "execution_count": null,
   "id": "ea04a8d2",
   "metadata": {},
   "outputs": [],
   "source": [
    "y += [10,20]\n",
    "print(y)"
   ]
  },
  {
   "cell_type": "code",
   "execution_count": null,
   "id": "e7654f44",
   "metadata": {},
   "outputs": [],
   "source": [
    "print(type(y[-1]))"
   ]
  },
  {
   "cell_type": "code",
   "execution_count": null,
   "id": "16e7ea1e",
   "metadata": {},
   "outputs": [],
   "source": [
    "x = list(range(5))\n",
    "\n",
    "print(x)"
   ]
  },
  {
   "cell_type": "code",
   "execution_count": null,
   "id": "59cd939d",
   "metadata": {},
   "outputs": [],
   "source": [
    "y = \" \".join(x)"
   ]
  },
  {
   "cell_type": "code",
   "execution_count": null,
   "id": "fc5d82e9",
   "metadata": {},
   "outputs": [],
   "source": [
    "print(type(y))"
   ]
  },
  {
   "cell_type": "code",
   "execution_count": null,
   "id": "8e5aa6d3",
   "metadata": {},
   "outputs": [],
   "source": [
    "z = \" \".join(y)\n",
    "print(z)"
   ]
  },
  {
   "cell_type": "code",
   "execution_count": null,
   "id": "c8aa8675",
   "metadata": {},
   "outputs": [],
   "source": [
    "# Case changing methods in strings. \n",
    "\n",
    "# There are six methods on strings which we can use to change the case (upper or lower) of a string.\n",
    "\n",
    "# As with other methods, the original string remains unchanged and if the output of the methods needs to be used later, \n",
    "# it must be saved.\n",
    "\n",
    "x = 'Betty bought some butter but the butter? was bitter! so Betty bought some better butter to make the bitter butter better'"
   ]
  },
  {
   "cell_type": "code",
   "execution_count": null,
   "id": "946089d0",
   "metadata": {},
   "outputs": [],
   "source": [
    "print(x)"
   ]
  },
  {
   "cell_type": "code",
   "execution_count": null,
   "id": "6b68d362",
   "metadata": {},
   "outputs": [],
   "source": [
    "#ida = id(x)\n",
    "#1. upper() method - changes string characters to upper case(if they are already upper case, they remain unchnaged)\n",
    "\n",
    "y = x.upper()\n",
    "\n",
    "#idaa = id(y)\n",
    "print(y)\n",
    "print(x)"
   ]
  },
  {
   "cell_type": "code",
   "execution_count": null,
   "id": "9f5be2a4",
   "metadata": {},
   "outputs": [],
   "source": [
    "print(dir(str))"
   ]
  },
  {
   "cell_type": "code",
   "execution_count": null,
   "id": "2ba1056f",
   "metadata": {},
   "outputs": [],
   "source": [
    "print(ida, idaa)"
   ]
  },
  {
   "cell_type": "code",
   "execution_count": null,
   "id": "2afde990",
   "metadata": {},
   "outputs": [],
   "source": [
    "#2. lower() method - changes string characters to lower case(if they are already lower case, they remain unchanged)\n",
    "\n",
    "y = x.lower()\n",
    "print(y)"
   ]
  },
  {
   "cell_type": "code",
   "execution_count": null,
   "id": "206224ad",
   "metadata": {},
   "outputs": [],
   "source": [
    "x = 'Betty bought some butter but the butter was bitter so Betty bought some better butter to make the bitter butter better'\n",
    "y = ''\n",
    "z = x.split()\n",
    "\n",
    "zz = []\n",
    "print(z)"
   ]
  },
  {
   "cell_type": "code",
   "execution_count": null,
   "id": "67567f8d",
   "metadata": {},
   "outputs": [],
   "source": [
    "# Assignment - get this output from previous string\n",
    "# 'Betty Bought Some Butter But The Butter Was Bitter So Betty Bought Some Better Butter To Make The Bitter Butter Better'"
   ]
  },
  {
   "cell_type": "code",
   "execution_count": null,
   "id": "d04854c6",
   "metadata": {},
   "outputs": [],
   "source": [
    "x = 'Betty bought some butter but the butter was bitter so Betty bought some better butter to make the bitter butter better'\n",
    "\n",
    "str_lst = x.split()\n",
    "output_var = []\n",
    "for word in str_lst:\n",
    "    word_var = ''\n",
    "    for y in range(len(word)):\n",
    "        if y == 0:\n",
    "            word_var += word[y].upper()\n",
    "        else:\n",
    "            word_var += word[y].lower()\n",
    "    output_var.append(word_var)\n",
    "\n",
    "final_output = \" \".join(output_var)\n",
    "print(final_output)\n",
    "        "
   ]
  },
  {
   "cell_type": "code",
   "execution_count": null,
   "id": "d5a73a90",
   "metadata": {},
   "outputs": [],
   "source": [
    "print(x)"
   ]
  },
  {
   "cell_type": "code",
   "execution_count": null,
   "id": "de6e3cca",
   "metadata": {},
   "outputs": [],
   "source": [
    "q = ''\n",
    "\n",
    "for i in range(len(x)):\n",
    "    if i%2 == 0:\n",
    "        q = q+x[i].upper()\n",
    "    else:\n",
    "        q = q + x[i].lower()\n",
    "\n",
    "print(q)"
   ]
  },
  {
   "cell_type": "code",
   "execution_count": null,
   "id": "35dd62e5",
   "metadata": {},
   "outputs": [],
   "source": [
    "a = range(10)\n",
    "\n",
    "for x in a:\n",
    "    print(x)"
   ]
  },
  {
   "cell_type": "code",
   "execution_count": null,
   "id": "3af6262e",
   "metadata": {},
   "outputs": [],
   "source": [
    "for i in range(len(z)):\n",
    "    if i%2==0:\n",
    "        zz.append(z[i].upper())\n",
    "    else:\n",
    "        zz.append(z[i].lower())\n",
    "\n",
    "print(zz)"
   ]
  },
  {
   "cell_type": "code",
   "execution_count": null,
   "id": "42fcee71",
   "metadata": {},
   "outputs": [],
   "source": [
    "y = \" \".join(zz)\n",
    "print(y)"
   ]
  },
  {
   "cell_type": "code",
   "execution_count": null,
   "id": "a922daff",
   "metadata": {},
   "outputs": [],
   "source": [
    "# Lower / Casefold. Casefolding method is almost exactly like lower method except for some foreign languages it removes the \n",
    "# case distinction. "
   ]
  },
  {
   "cell_type": "code",
   "execution_count": null,
   "id": "f0d95747",
   "metadata": {},
   "outputs": [],
   "source": [
    "x = '\\u03B2'\n",
    "\n",
    "print(x)\n",
    "print(x.upper())"
   ]
  },
  {
   "cell_type": "code",
   "execution_count": null,
   "id": "c7955af8",
   "metadata": {},
   "outputs": [],
   "source": [
    "x = '\\u0392'\n",
    "\n",
    "print(x)\n",
    "print(x.lower())\n",
    "print(x.casefold())"
   ]
  },
  {
   "cell_type": "code",
   "execution_count": null,
   "id": "7de8e527",
   "metadata": {},
   "outputs": [],
   "source": [
    "x = \"\\u1E9E\"\n",
    "\n",
    "print(x)\n",
    "print(x.lower())\n",
    "print(x.casefold())"
   ]
  },
  {
   "cell_type": "code",
   "execution_count": null,
   "id": "e923d134",
   "metadata": {},
   "outputs": [],
   "source": [
    "x = \"\\u00DC\"\n",
    "\n",
    "print(x)\n",
    "print(x.lower())\n",
    "print(x.casefold())"
   ]
  },
  {
   "cell_type": "code",
   "execution_count": null,
   "id": "f7e40f78",
   "metadata": {},
   "outputs": [],
   "source": [
    "x = \"Straße\"\n",
    "print(x.lower())\n",
    "print(x.casefold())\n",
    "\n"
   ]
  },
  {
   "cell_type": "code",
   "execution_count": null,
   "id": "fc3a3bc7",
   "metadata": {},
   "outputs": [],
   "source": [
    "x = 'Stra\\u1E9Ee'\n",
    "print(x.lower())\n",
    "print(x.casefold())"
   ]
  },
  {
   "cell_type": "code",
   "execution_count": null,
   "id": "ea9a03de",
   "metadata": {},
   "outputs": [],
   "source": [
    "x = '\\u1E9E'\n",
    "\n",
    "print(x.lower())\n",
    "print(x.casefold())"
   ]
  },
  {
   "cell_type": "code",
   "execution_count": null,
   "id": "61d05724",
   "metadata": {},
   "outputs": [],
   "source": [
    "x = \"Mañana\"\n",
    "\n",
    "print(x)\n",
    "print(x.lower())\n",
    "print(x.casefold())\n",
    "print(x.lower())"
   ]
  },
  {
   "cell_type": "code",
   "execution_count": null,
   "id": "36805d48",
   "metadata": {},
   "outputs": [],
   "source": [
    "s2 = \"MANANA\"\n",
    "print(x.lower() == s2.lower())"
   ]
  },
  {
   "cell_type": "code",
   "execution_count": null,
   "id": "9df6cc7f",
   "metadata": {},
   "outputs": [],
   "source": [
    "s1 = \"Mañana\"\n",
    "s2 = \"MANANA\"\n",
    "print(s1.lower() == s2.lower())\n",
    "print(s1.casefold() == s2.casefold())\n"
   ]
  },
  {
   "cell_type": "code",
   "execution_count": null,
   "id": "3ba9d1bf",
   "metadata": {},
   "outputs": [],
   "source": [
    "#3. title() method - changes the first alphabet of every word to upper case and the others become lower case.\n",
    "\n",
    "y = 'Betty bOUGHt sOMe butter but tHE butter was bITTer. So Betty bOUght some better! butter to make the bitter! butter better'\n",
    "\n",
    "z = y.title()\n",
    "\n",
    "print(z)\n"
   ]
  },
  {
   "cell_type": "code",
   "execution_count": null,
   "id": "c144c3bc",
   "metadata": {},
   "outputs": [],
   "source": [
    "y = y.lower()\n",
    "\n",
    "print(y)"
   ]
  },
  {
   "cell_type": "code",
   "execution_count": null,
   "id": "b41233f4",
   "metadata": {},
   "outputs": [],
   "source": [
    "#4. Capitalize() method - changes the first letter of the string to upper case and the rest to lower.\n",
    "\n",
    "z = y.capitalize()\n",
    "print(z)"
   ]
  },
  {
   "cell_type": "code",
   "execution_count": null,
   "id": "22c6c1ea",
   "metadata": {},
   "outputs": [],
   "source": [
    "x = 'java is gREAt not as great as python. \\n python is the best'\n",
    "\n",
    "z = x.capitalize()\n",
    "print(z)\n",
    "\n",
    "#Note how it does not understand to change the letter after the period to capital and also the first letter of Python to\n",
    "# capital."
   ]
  },
  {
   "cell_type": "code",
   "execution_count": null,
   "id": "45a65ae7",
   "metadata": {},
   "outputs": [],
   "source": [
    "'I did not like the icecream so..............I bought gelato instead'\n",
    "\n",
    "'What are you doing? I am baking bread.'\n",
    "\n",
    "'I asked \"What are you doing?\" and she replied \"I am breaking bread.\"'"
   ]
  },
  {
   "cell_type": "code",
   "execution_count": null,
   "id": "f48a8753",
   "metadata": {},
   "outputs": [],
   "source": [
    "#5. Swapcase() method - interchanges the case of the alphabets in the string.\n",
    "\n",
    "x = 'Betty bought some butter but the butter was bitter so Betty bought some better butter to make the bitter butter better'\n",
    "\n",
    "z = x.swapcase()\n",
    "print(z)"
   ]
  },
  {
   "cell_type": "code",
   "execution_count": null,
   "id": "65fe29aa",
   "metadata": {},
   "outputs": [],
   "source": [
    "# Startswith and endswith methods for strings. The startswith and endswith methods in Python check if the string respectively\n",
    "# starts with or ends with substring. Returns True or False.\n",
    "\n",
    "\n",
    "x = 'Python is great for Data Scientists.'\n",
    "sw = 'Pyt'\n",
    "ew = '.'\n",
    "\n",
    "print(x.startswith(sw))\n",
    "\n"
   ]
  },
  {
   "cell_type": "code",
   "execution_count": null,
   "id": "8f83a83e",
   "metadata": {},
   "outputs": [],
   "source": [
    "print(x.endswith(ew))"
   ]
  },
  {
   "cell_type": "code",
   "execution_count": null,
   "id": "97b8f461",
   "metadata": {},
   "outputs": [],
   "source": [
    "print('Python'.startswith('Py'))"
   ]
  },
  {
   "cell_type": "code",
   "execution_count": null,
   "id": "e8207741",
   "metadata": {},
   "outputs": [],
   "source": [
    "print('Python'.endswith('on'))"
   ]
  },
  {
   "cell_type": "code",
   "execution_count": null,
   "id": "e5f77898",
   "metadata": {},
   "outputs": [],
   "source": [
    "print(x.startswith('t'))"
   ]
  },
  {
   "cell_type": "code",
   "execution_count": null,
   "id": "4aaef9e4",
   "metadata": {},
   "outputs": [],
   "source": [
    "print(x.endswith('t'))"
   ]
  },
  {
   "cell_type": "code",
   "execution_count": null,
   "id": "399ce34f",
   "metadata": {},
   "outputs": [],
   "source": [
    "print(x.startswith('Python '))"
   ]
  },
  {
   "cell_type": "code",
   "execution_count": null,
   "id": "6838ba7a",
   "metadata": {},
   "outputs": [],
   "source": [
    "print(x.endswith(' Python'))"
   ]
  },
  {
   "cell_type": "code",
   "execution_count": null,
   "id": "3c3364d0",
   "metadata": {},
   "outputs": [],
   "source": [
    "# Startswith and endswith methods takes 3 parameters:\n",
    "\n",
    "#1. substring - The string to check the original string against for beginning or ending respectively.\n",
    "#2. Start index - Optional. Defaults to index of beginning of string (0)\n",
    "#3. End Index - Optional. Defaults to index of end of string (length of string - 1)\n",
    "\n",
    "# As with other methods, to be able to provide a stop index, one must provide a start index.\n",
    "\n",
    "x = 'I love Python'\n",
    "\n",
    "print(x.find('P'))\n",
    "print(len(x))"
   ]
  },
  {
   "cell_type": "code",
   "execution_count": null,
   "id": "55b98a6f",
   "metadata": {},
   "outputs": [],
   "source": [
    "print(x.startswith('Pyth',7,15))"
   ]
  },
  {
   "cell_type": "code",
   "execution_count": null,
   "id": "d4b0638e",
   "metadata": {},
   "outputs": [],
   "source": [
    "print(x.endswith('h',7,11))"
   ]
  },
  {
   "cell_type": "code",
   "execution_count": null,
   "id": "02dd6ac4",
   "metadata": {},
   "outputs": [],
   "source": [
    "print(x.startswith('P',7))"
   ]
  },
  {
   "cell_type": "code",
   "execution_count": null,
   "id": "ec075f74",
   "metadata": {},
   "outputs": [],
   "source": [
    "print(x.startswith('P',13))"
   ]
  },
  {
   "cell_type": "code",
   "execution_count": null,
   "id": "95f54bbf",
   "metadata": {},
   "outputs": [],
   "source": [
    "print(x.startswith('P',,13))"
   ]
  },
  {
   "cell_type": "code",
   "execution_count": null,
   "id": "487a740f",
   "metadata": {},
   "outputs": [],
   "source": [
    "print(x.startswith(\"I\",0,13))"
   ]
  },
  {
   "cell_type": "code",
   "execution_count": null,
   "id": "43bf689b",
   "metadata": {},
   "outputs": [],
   "source": [
    "print(x)"
   ]
  },
  {
   "cell_type": "code",
   "execution_count": null,
   "id": "4bbb9c67",
   "metadata": {},
   "outputs": [],
   "source": [
    "print(x[0:8])"
   ]
  },
  {
   "cell_type": "code",
   "execution_count": null,
   "id": "5ccc24f0",
   "metadata": {},
   "outputs": [],
   "source": [
    "print(x.endswith('P',0,8))"
   ]
  },
  {
   "cell_type": "code",
   "execution_count": null,
   "id": "2b26e6b9",
   "metadata": {},
   "outputs": [],
   "source": [
    "print(x.endswith('P',0,6))"
   ]
  },
  {
   "cell_type": "code",
   "execution_count": null,
   "id": "c13c79bc",
   "metadata": {},
   "outputs": [],
   "source": [
    "# Strings Datatypes\n",
    "\n",
    "# 1. Fundamental\n",
    "# 2. Immutable\n",
    "# 3. Iterable\n",
    "# 4. Indexable, Slicable\n",
    "# 5. Sequential\n",
    "\n",
    "# Iniitialise strings\n",
    "\n",
    "#1. With single, double or triple quotes. \n",
    "#2. str function\n",
    "\n",
    "# Indexing and slicing on strings. When indexing and slicing the original object remains unchanged. New object must be \n",
    "# saved to variable if needed to be reference/accessed later. \n",
    "\n",
    "# Methods\n",
    "\n",
    "# strip, rstip, lstrip,\n",
    "# find, index, rfind, rindex\n",
    "# count\n",
    "# replace\n",
    "# split\n",
    "# join\n",
    "# Case changing methods - upper, lower, title, capitalize and swapcase\n",
    "# startswith, endswith"
   ]
  },
  {
   "cell_type": "code",
   "execution_count": null,
   "id": "c45b4902",
   "metadata": {},
   "outputs": [],
   "source": []
  },
  {
   "cell_type": "code",
   "execution_count": null,
   "id": "ec05e291",
   "metadata": {},
   "outputs": [],
   "source": []
  },
  {
   "cell_type": "code",
   "execution_count": null,
   "id": "f3751dd0",
   "metadata": {},
   "outputs": [],
   "source": []
  },
  {
   "cell_type": "code",
   "execution_count": null,
   "id": "8986293e",
   "metadata": {},
   "outputs": [],
   "source": [
    "# center method in strings - Creates an output string of specified length and centers the original text string in the new\n",
    "# output string. It pads both sides of the centered text with whitespaces by default. Default can be changed to any\n",
    "# character\n",
    "\n",
    "#ljust method in strings - creates an output string of specified length and puts the original string on the left of the\n",
    "# padding characters(whitespace by default)\n",
    "\n",
    "#rjust method in strings - creates an output string of specified length and puts the original string on the right of the\n",
    "# padding characters(whitespace by default)\n",
    "\n",
    "\n",
    "\n",
    "\n",
    "a = 'Peter'\n",
    "b = a.center(4, '*')\n",
    "print(b)\n",
    "print(len(b))\n",
    "\n",
    "\n",
    "#print(b.index('H'))"
   ]
  },
  {
   "cell_type": "code",
   "execution_count": null,
   "id": "0ee600d8",
   "metadata": {},
   "outputs": [],
   "source": [
    "'       Hello        '\n",
    "\n",
    "7 + 5 + 8 = 20"
   ]
  },
  {
   "cell_type": "code",
   "execution_count": null,
   "id": "5e252217",
   "metadata": {},
   "outputs": [],
   "source": [
    "# The mandatory parameter that center, rjust and ljust take i.e. lenght of output - IS NOT \n",
    "\n",
    "mandatory parameter + length of string to be centered/adjusted. \n",
    "'          Hello          '\n",
    "\n",
    "10 + 5 + 10 = 25  \n",
    "\n",
    "\n",
    "\n",
    "\n",
    "\n",
    "It IS total output length(INCLUSIVE OF THE STRING TO BE CENTERED/ADJUSTED)\n",
    "\n",
    "'       Hello        '\n",
    "\n",
    "7 + 5 + 8 = 20"
   ]
  },
  {
   "cell_type": "code",
   "execution_count": null,
   "id": "fbc172ec",
   "metadata": {},
   "outputs": [],
   "source": [
    "fillchar = '*'"
   ]
  },
  {
   "cell_type": "code",
   "execution_count": null,
   "id": "021a3ef5",
   "metadata": {},
   "outputs": [],
   "source": [
    "c = a.ljust(20,'!')\n",
    "print(c)"
   ]
  },
  {
   "cell_type": "code",
   "execution_count": null,
   "id": "0568a6e4",
   "metadata": {},
   "outputs": [],
   "source": [
    "c = a.ljust(20,fillchar)\n",
    "print(c)\n",
    "print(len(c))"
   ]
  },
  {
   "cell_type": "code",
   "execution_count": null,
   "id": "64a9bf1e",
   "metadata": {},
   "outputs": [],
   "source": [
    "c = a.ljust(20,'*')\n",
    "print(c)"
   ]
  },
  {
   "cell_type": "code",
   "execution_count": null,
   "id": "61f54eaf",
   "metadata": {},
   "outputs": [],
   "source": [
    "d = a.rjust(20,'*!')\n",
    "print(d)\n",
    "print(len(d))\n",
    "\n",
    "#print(d.index('H'))"
   ]
  },
  {
   "cell_type": "code",
   "execution_count": null,
   "id": "c311960b",
   "metadata": {},
   "outputs": [],
   "source": [
    "# These methods can take two parameters. \n",
    "\n",
    "#1. The size of the final string required - mandatory\n",
    "#2. The fill character - optional. If not specified it defaults to whitespace. \n",
    "\n",
    "b = a.center(20,\"*\")\n",
    "print(len(b))\n",
    "print(b)"
   ]
  },
  {
   "cell_type": "code",
   "execution_count": null,
   "id": "076ceb16",
   "metadata": {},
   "outputs": [],
   "source": [
    "print('Hello')"
   ]
  },
  {
   "cell_type": "code",
   "execution_count": null,
   "id": "245524a3",
   "metadata": {},
   "outputs": [],
   "source": [
    "c = a.ljust(20, '*')\n",
    "print(c)\n",
    "print(len(c))"
   ]
  },
  {
   "cell_type": "code",
   "execution_count": null,
   "id": "cb270c3a",
   "metadata": {},
   "outputs": [],
   "source": [
    "a = 'Hello'"
   ]
  },
  {
   "cell_type": "code",
   "execution_count": null,
   "id": "8d53c361",
   "metadata": {},
   "outputs": [],
   "source": [
    "d = a.rjust(20, '*')\n",
    "print(d)\n",
    "#print(len(d))"
   ]
  },
  {
   "cell_type": "code",
   "execution_count": null,
   "id": "c2ec5bbb",
   "metadata": {},
   "outputs": [],
   "source": [
    "b = a.center(20,'X')\n",
    "print(b)\n",
    "print(len(b))\n",
    "\n",
    "#print character can only be 1 character long."
   ]
  },
  {
   "cell_type": "code",
   "execution_count": null,
   "id": "f0bb2c28",
   "metadata": {},
   "outputs": [],
   "source": [
    "c = a.ljust(20, '* x')\n",
    "print(c)"
   ]
  },
  {
   "cell_type": "code",
   "execution_count": null,
   "id": "4a218a20",
   "metadata": {},
   "outputs": [],
   "source": [
    "d = a.rjust(20, '*')\n",
    "print(d)"
   ]
  },
  {
   "cell_type": "code",
   "execution_count": null,
   "id": "69b7ea05",
   "metadata": {},
   "outputs": [],
   "source": [
    "isinstance(10, int)"
   ]
  },
  {
   "cell_type": "code",
   "execution_count": null,
   "id": "3501337e",
   "metadata": {},
   "outputs": [],
   "source": [
    "print(a)"
   ]
  },
  {
   "cell_type": "code",
   "execution_count": null,
   "id": "9bb35073",
   "metadata": {},
   "outputs": [],
   "source": [
    "b = a.center(4, '*')\n",
    "print(b)\n",
    "print(len(b))\n",
    "\n",
    "#If the new output string length specified is less than or equal to the original string - the original string is returned."
   ]
  },
  {
   "cell_type": "code",
   "execution_count": null,
   "id": "2e3a64d1",
   "metadata": {},
   "outputs": [],
   "source": [
    "c = a.ljust(4,'*')\n",
    "print(c)\n",
    "print(len(c))"
   ]
  },
  {
   "cell_type": "code",
   "execution_count": null,
   "id": "d4e005c1",
   "metadata": {},
   "outputs": [],
   "source": [
    "d = a.rjust(4,'*')\n",
    "print(d)\n",
    "print(len(d))"
   ]
  },
  {
   "cell_type": "code",
   "execution_count": null,
   "id": "4306636c",
   "metadata": {},
   "outputs": [],
   "source": [
    "# Lets build the rjust function ourselves\n",
    "\n",
    "# def rikki_just(original_str, req_width, fill_char):\n",
    "#     return fill_char*(req_width-len(original_str))+original_str\n",
    "                      \n",
    "# outp = rikki_just('Rikki', 20, '*')\n",
    "# print(outp)\n",
    "# print(len(outp))"
   ]
  },
  {
   "cell_type": "code",
   "execution_count": null,
   "id": "6fbb7a14",
   "metadata": {},
   "outputs": [],
   "source": [
    "# class stRingg:\n",
    "#     def __init__(self,x):\n",
    "#         self.x = str(x)\n",
    "#         #print(self.x)\n",
    "#     def rikki_just(self, req_width, fill_char):\n",
    "#         original_str = self.x\n",
    "#         return fill_char*(req_width-len(original_str))+original_str\n",
    "    \n",
    "# hello = stRingg('hello')\n",
    "\n",
    "# print(hello.rikki_just(20,'*'))\n",
    "\n",
    "# print(type(hello))\n"
   ]
  },
  {
   "cell_type": "code",
   "execution_count": null,
   "id": "57f57eea",
   "metadata": {},
   "outputs": [],
   "source": [
    "#partition, rpartition methods take one parameter - the separator, and returns a tuple object containing 3 elements. \n",
    "\n",
    "#Partition method works from left to right so -\n",
    "\n",
    "#First element is the original string until the first occurrence of the separator\n",
    "# Second element of the tuple is the separator itself\n",
    "# Third element is the separators end till the end of the original string. \n",
    "\n",
    "#rpartition method works from right to left so - \n",
    "\n",
    "#First element is the first occurrence of separators end, from right to left to the end of original string\n",
    "#Second element is the separator\n",
    "#Third element is the beginning of original string to the beginning of separator.\n",
    "\n",
    "a = 'Jack and Jill went up the hill to fetch a pail of water, Jack fell down and broke his crown, and Jill came tumbling after'\n",
    "\n",
    "y = a.split(',')\n",
    "\n",
    "print(y)"
   ]
  },
  {
   "cell_type": "code",
   "execution_count": null,
   "id": "306709b4",
   "metadata": {},
   "outputs": [],
   "source": [
    "#print(a.partition('Jack'))\n",
    "\n",
    "x = a.partition(',')\n",
    "\n",
    "print(x)"
   ]
  },
  {
   "cell_type": "code",
   "execution_count": null,
   "id": "52ba3e78",
   "metadata": {},
   "outputs": [],
   "source": [
    "# Partition gives a TUPLE of THREE elements (No more, no less)\n",
    "\n",
    "# 1st element is string before first occurrence of separator\n",
    "# 2nd element is seperator itself\n",
    "# 3rd element is string after seperator. "
   ]
  },
  {
   "cell_type": "code",
   "execution_count": null,
   "id": "0ff532b3",
   "metadata": {},
   "outputs": [],
   "source": [
    "# Difference between split and partitition\n",
    "\n",
    "#1. Split seperates based on EVERY occurrence of the seperator while partition will only split based on the FIRST occurrence\n",
    "# of the seperator. So, split can have infinite elements in output, partition always has THREE. \n",
    "#2. Split gives us a list as output, partition gives us a tuple. \n",
    "#3. Seperator is NOT included in split, in partition it is included as part of the output."
   ]
  },
  {
   "cell_type": "code",
   "execution_count": null,
   "id": "380dedec",
   "metadata": {},
   "outputs": [],
   "source": [
    "# Difference between split and partition\n",
    "\n",
    "# 1. Split will split on all occurrences of the separator and can have multiple outputs. Partition will only split on the \n",
    "# first occurrence of the separator and will always have 3 elements as output. \n",
    "# 2. Split outputs a list of string elements. Partition outputs a tuple of string elements. \n",
    "# 3. Separator is not included in output of split, while in partitition it is. "
   ]
  },
  {
   "cell_type": "markdown",
   "id": "62cc9c1f",
   "metadata": {},
   "source": [
    "<!-- # Partition\n",
    "\n",
    "Output - is only three elements.\n",
    "Output - separator is part of the output\n",
    "Output - tuple\n",
    "No default separator\n",
    "\n",
    "\n",
    "# Split\n",
    "\n",
    "Output - n number - depending on how many separators were found. \n",
    "Separator is not part of the output\n",
    "Output - list\n",
    "Default separator is space\n",
    " -->"
   ]
  },
  {
   "cell_type": "code",
   "execution_count": null,
   "id": "80abe4c6",
   "metadata": {},
   "outputs": [],
   "source": [
    "y = a.split('!')\n",
    "\n",
    "print(y)"
   ]
  },
  {
   "cell_type": "code",
   "execution_count": null,
   "id": "36c21797",
   "metadata": {},
   "outputs": [],
   "source": [
    "print(a)"
   ]
  },
  {
   "cell_type": "code",
   "execution_count": null,
   "id": "bfb64e1d",
   "metadata": {},
   "outputs": [],
   "source": [
    "x = a.partition('!')\n",
    "\n",
    "print(x)"
   ]
  },
  {
   "cell_type": "code",
   "execution_count": null,
   "id": "772af6eb",
   "metadata": {},
   "outputs": [],
   "source": [
    "print(a)"
   ]
  },
  {
   "cell_type": "code",
   "execution_count": null,
   "id": "5abc224c",
   "metadata": {},
   "outputs": [],
   "source": [
    "y = a.rpartition(',')\n",
    "\n",
    "print(y)"
   ]
  },
  {
   "cell_type": "code",
   "execution_count": null,
   "id": "25d05a6a",
   "metadata": {},
   "outputs": [],
   "source": [
    "print(a)"
   ]
  },
  {
   "cell_type": "code",
   "execution_count": null,
   "id": "d9be368b",
   "metadata": {},
   "outputs": [],
   "source": [
    "p = a.rpartition('!')\n",
    "\n",
    "print(p)"
   ]
  },
  {
   "cell_type": "code",
   "execution_count": null,
   "id": "bc3736cd",
   "metadata": {},
   "outputs": [],
   "source": [
    "print(a)"
   ]
  },
  {
   "cell_type": "code",
   "execution_count": null,
   "id": "14f003e4",
   "metadata": {},
   "outputs": [],
   "source": [
    "q = a.rpartition('!')\n",
    "\n",
    "print(q)"
   ]
  },
  {
   "cell_type": "code",
   "execution_count": null,
   "id": "db564799",
   "metadata": {},
   "outputs": [],
   "source": []
  },
  {
   "cell_type": "code",
   "execution_count": null,
   "id": "81e86c28",
   "metadata": {},
   "outputs": [],
   "source": []
  },
  {
   "cell_type": "code",
   "execution_count": null,
   "id": "57905cd3",
   "metadata": {},
   "outputs": [],
   "source": []
  },
  {
   "cell_type": "code",
   "execution_count": null,
   "id": "41a891b7",
   "metadata": {},
   "outputs": [],
   "source": [
    "for i in x:\n",
    "    print(i)"
   ]
  },
  {
   "cell_type": "code",
   "execution_count": null,
   "id": "73a8ab82",
   "metadata": {},
   "outputs": [],
   "source": []
  },
  {
   "cell_type": "code",
   "execution_count": null,
   "id": "662276fd",
   "metadata": {},
   "outputs": [],
   "source": [
    "print(x[0])"
   ]
  },
  {
   "cell_type": "code",
   "execution_count": null,
   "id": "56118980",
   "metadata": {},
   "outputs": [],
   "source": [
    "b = 'Jack and Jill went up the hill,\\nto fetch a pail of water,\\nJack fell down and broke his crown,\\nAnd Jill came tumbling after\\n'\n",
    "print(b)\n"
   ]
  },
  {
   "cell_type": "code",
   "execution_count": null,
   "id": "68ed0b51",
   "metadata": {},
   "outputs": [],
   "source": [
    "print(b.partition('\\n'))"
   ]
  },
  {
   "cell_type": "code",
   "execution_count": null,
   "id": "674a7ba9",
   "metadata": {},
   "outputs": [],
   "source": [
    "print(b.rpartition('\\n'))"
   ]
  },
  {
   "cell_type": "code",
   "execution_count": null,
   "id": "d734404c",
   "metadata": {},
   "outputs": [],
   "source": [
    "c = b.partition('\\n')\n",
    "print(c)"
   ]
  },
  {
   "cell_type": "code",
   "execution_count": null,
   "id": "8c81a39d",
   "metadata": {},
   "outputs": [],
   "source": [
    "print(c[2])"
   ]
  },
  {
   "cell_type": "code",
   "execution_count": null,
   "id": "684c37d8",
   "metadata": {},
   "outputs": [],
   "source": [
    "print(a)"
   ]
  },
  {
   "cell_type": "code",
   "execution_count": null,
   "id": "7689c689",
   "metadata": {},
   "outputs": [],
   "source": [
    "print(dir(str))"
   ]
  },
  {
   "cell_type": "code",
   "execution_count": null,
   "id": "799fa699",
   "metadata": {},
   "outputs": [],
   "source": [
    "# If the separator is not found - partitition returns the original string in first element and two other empty elements.\n",
    "#rpartition first returns two empty elements and the original string as third element.\n",
    "c = a.partition('!')\n",
    "print(c)"
   ]
  },
  {
   "cell_type": "code",
   "execution_count": null,
   "id": "f1c6d55f",
   "metadata": {},
   "outputs": [],
   "source": [
    "tup1 = (1,2,3)\n",
    "\n",
    "print(tup1)\n",
    "print(type(tup1))"
   ]
  },
  {
   "cell_type": "code",
   "execution_count": null,
   "id": "10b37fbb",
   "metadata": {},
   "outputs": [],
   "source": [
    "c = 'Text'"
   ]
  },
  {
   "cell_type": "code",
   "execution_count": null,
   "id": "d539993e",
   "metadata": {},
   "outputs": [],
   "source": []
  },
  {
   "cell_type": "code",
   "execution_count": null,
   "id": "53cfd852",
   "metadata": {},
   "outputs": [],
   "source": [
    "tup2 = 1,2,3\n",
    "\n",
    "print(tup2)\n",
    "print(type(tup2))"
   ]
  },
  {
   "cell_type": "code",
   "execution_count": null,
   "id": "3d1eba9c",
   "metadata": {},
   "outputs": [],
   "source": []
  },
  {
   "cell_type": "code",
   "execution_count": null,
   "id": "2ddecaba",
   "metadata": {},
   "outputs": [],
   "source": [
    "def add_funct(x,y):\n",
    "    return x+y, x*y\n",
    "\n",
    "ret_fun = add_funct(2,3)\n",
    "\n",
    "print(ret_fun)\n",
    "print(type(ret_fun))"
   ]
  },
  {
   "cell_type": "code",
   "execution_count": null,
   "id": "5b6280f3",
   "metadata": {},
   "outputs": [],
   "source": [
    "# Difference between split and partition\n",
    "\n",
    "# 1. Split function splits based on how many ever occurrences there are of the separator. Partition splits only on FIRST \\\n",
    "# occurrence of separator.\n",
    "# 2. Split returns list, partition returns a tuple.\n",
    "# 3. Split output does not include the separator. Partition output does include the separator in the output tuple.\n",
    "# 4. Split output can be 1 to infinite. Partition output will only be 3 elements always."
   ]
  },
  {
   "cell_type": "code",
   "execution_count": null,
   "id": "0fbab84d",
   "metadata": {},
   "outputs": [],
   "source": []
  },
  {
   "cell_type": "code",
   "execution_count": null,
   "id": "f1ad9d7d",
   "metadata": {},
   "outputs": [],
   "source": []
  },
  {
   "cell_type": "code",
   "execution_count": null,
   "id": "5d839477",
   "metadata": {},
   "outputs": [],
   "source": [
    "print(c[1])\n",
    "print(c[2])"
   ]
  },
  {
   "cell_type": "code",
   "execution_count": null,
   "id": "6ac21cbf",
   "metadata": {},
   "outputs": [],
   "source": [
    "c = a.rpartition('Jack')\n",
    "print(c)"
   ]
  },
  {
   "cell_type": "code",
   "execution_count": null,
   "id": "f6370fd3",
   "metadata": {},
   "outputs": [],
   "source": [
    "print(c[0])\n",
    "print(c[1])"
   ]
  },
  {
   "cell_type": "code",
   "execution_count": null,
   "id": "48737733",
   "metadata": {},
   "outputs": [],
   "source": [
    "\\n\n",
    "\\r\\n\n",
    "\\r\n",
    "\n",
    "\n",
    "Another 5 line boundaries - \n",
    "\n",
    "\n",
    "\n",
    "\\t # IS NOT considered a line boundary."
   ]
  },
  {
   "cell_type": "code",
   "execution_count": null,
   "id": "d8c110ab",
   "metadata": {},
   "outputs": [],
   "source": [
    "a = 'Jack and Jill \\rwent up the hill,\\n to fetch a\\npail of water,\\nJack fell down \\t and broke his crown,\\r\\nAnd Jill came tumbling after\\n'\n",
    "\n",
    "print(a)"
   ]
  },
  {
   "cell_type": "code",
   "execution_count": null,
   "id": "5b6c56e3",
   "metadata": {},
   "outputs": [],
   "source": [
    "#splitlines method on strings. Splits the lines in a string based on line boundaries. The useful line boundaries are :\n",
    "# \\n line-feed (new line)\n",
    "# \\r return-carriage\n",
    "# \\r\\n return-carriage, new-line\n",
    "\n",
    "# The line boundaries also have some other unicode characters. However, this syntax in programming is a hold over from the\n",
    "# days of type-writers and besides applications for printing to a physical printer - are unlikely to be of use. \n",
    "\n",
    "#The splitlines method returns a list of the lines in a string split on line boundaries. \n",
    "\n",
    "a = 'Jack and Jill went up the hill \\r to fetch a\\npail of water \\nJack fell down \\t and broke his crown,\\r\\nAnd Jill came tumbling after\\n'\n",
    "print(a)"
   ]
  },
  {
   "cell_type": "code",
   "execution_count": null,
   "id": "c3d433a1",
   "metadata": {},
   "outputs": [],
   "source": [
    "x = 'Hi There Hello There I am learning full stack & \\r My name is Jack'\n",
    "\n",
    "print(x)"
   ]
  },
  {
   "cell_type": "code",
   "execution_count": null,
   "id": "d4ca2b2e",
   "metadata": {},
   "outputs": [],
   "source": [
    "# a = 'Jack and Jill went up the hill,\\rto fetch a pail of water'\n",
    "# print(a)"
   ]
  },
  {
   "cell_type": "code",
   "execution_count": null,
   "id": "5eb29fcd",
   "metadata": {},
   "outputs": [],
   "source": [
    "b = a.splitlines(keepends = True)\n",
    "print(b)"
   ]
  },
  {
   "cell_type": "code",
   "execution_count": null,
   "id": "eca57481",
   "metadata": {},
   "outputs": [],
   "source": [
    "print(\" \".join(b))"
   ]
  },
  {
   "cell_type": "code",
   "execution_count": null,
   "id": "ccf38f9d",
   "metadata": {},
   "outputs": [],
   "source": [
    "b[0] = 'John and Jill went up the hill \\r'\n",
    "\n",
    "print(b)"
   ]
  },
  {
   "cell_type": "code",
   "execution_count": null,
   "id": "325fcc53",
   "metadata": {},
   "outputs": [],
   "source": [
    "print(\" \".join(b))"
   ]
  },
  {
   "cell_type": "code",
   "execution_count": null,
   "id": "73c15f92",
   "metadata": {},
   "outputs": [],
   "source": [
    "x = a.partition(' ')\n",
    "\n",
    "print(x)"
   ]
  },
  {
   "cell_type": "code",
   "execution_count": null,
   "id": "34870a77",
   "metadata": {},
   "outputs": [],
   "source": []
  },
  {
   "cell_type": "code",
   "execution_count": null,
   "id": "15d117da",
   "metadata": {},
   "outputs": [],
   "source": [
    "y = 'Jack and Jill went up the hill, to fetch a pail of water, Jack fell down and broke his crown, And Jill came tumbling after '\n",
    "\n",
    "print(y.splitlines())"
   ]
  },
  {
   "cell_type": "code",
   "execution_count": null,
   "id": "a7729d03",
   "metadata": {},
   "outputs": [],
   "source": [
    "b = a.splitlines()\n",
    "print(b)"
   ]
  },
  {
   "cell_type": "code",
   "execution_count": null,
   "id": "c3f153f5",
   "metadata": {},
   "outputs": [],
   "source": [
    "#It can take one optional parameter 'keepends'. This is set to False by default. If set to True it keeps the end of the\n",
    "# lines boundaries at the end of the string. \n",
    "\n",
    "c = a.splitlines(keepends=True)\n",
    "print(c)"
   ]
  },
  {
   "cell_type": "code",
   "execution_count": null,
   "id": "52031238",
   "metadata": {},
   "outputs": [],
   "source": [
    "c2 = \" \".join(c)\n",
    "\n",
    "print(c2)"
   ]
  },
  {
   "cell_type": "code",
   "execution_count": null,
   "id": "fb9d73cc",
   "metadata": {},
   "outputs": [],
   "source": [
    "c[2] = 'tail of water,\\n'\n",
    "\n",
    "print(c)"
   ]
  },
  {
   "cell_type": "code",
   "execution_count": null,
   "id": "12c8793e",
   "metadata": {},
   "outputs": [],
   "source": [
    "x = ''.join(c)\n",
    "# y = ''.join(b)\n",
    "\n",
    "print(x)\n",
    "# print(y)"
   ]
  },
  {
   "cell_type": "code",
   "execution_count": null,
   "id": "fec921b0",
   "metadata": {},
   "outputs": [],
   "source": [
    "# Difference between split and splitlines methods\n",
    "\n",
    "1. "
   ]
  },
  {
   "cell_type": "code",
   "execution_count": null,
   "id": "d4e8b63d",
   "metadata": {},
   "outputs": [],
   "source": []
  },
  {
   "cell_type": "code",
   "execution_count": null,
   "id": "c20c8912",
   "metadata": {},
   "outputs": [],
   "source": []
  },
  {
   "cell_type": "code",
   "execution_count": null,
   "id": "a918719a",
   "metadata": {},
   "outputs": [],
   "source": []
  },
  {
   "cell_type": "code",
   "execution_count": null,
   "id": "c46605be",
   "metadata": {},
   "outputs": [],
   "source": [
    "x = 1+2+3+4 \\\n",
    "+5 + 6\n",
    "\n",
    "print(x)"
   ]
  },
  {
   "cell_type": "code",
   "execution_count": null,
   "id": "ab36e694",
   "metadata": {},
   "outputs": [],
   "source": [
    "#Difference between the split and splitlines method is that:\n",
    "\n",
    "#1. Split can seperate on any separator. \n",
    "#2. Splitlines will only split of sepearators which are classified as line-boundaries.\n",
    "#3. Split does not keep the seperator in the returned list\n",
    "#4. By setting the default for 'keepends' to true in the splitlines method, the line-boundaries at end of strings are kept."
   ]
  },
  {
   "cell_type": "code",
   "execution_count": null,
   "id": "59d61aca",
   "metadata": {},
   "outputs": [],
   "source": [
    "for i in b:\n",
    "    print(i)"
   ]
  },
  {
   "cell_type": "code",
   "execution_count": null,
   "id": "95aaf1c5",
   "metadata": {},
   "outputs": [],
   "source": [
    "for i in c:\n",
    "    print(i)"
   ]
  },
  {
   "cell_type": "code",
   "execution_count": null,
   "id": "1abd0dc0",
   "metadata": {},
   "outputs": [],
   "source": [
    "\\r return carriage \n",
    "\\n newline\n",
    "\n",
    "\\r\\n = return carriage and newline\n",
    "\n",
    "\\n = newline\n",
    "\n",
    "\\r\\n = \\n\n",
    "\n",
    "\n",
    "--------------------------------------\n",
    "\n",
    "\\r"
   ]
  },
  {
   "cell_type": "code",
   "execution_count": null,
   "id": "fa22a8b5",
   "metadata": {},
   "outputs": [],
   "source": [
    "#zfill method on strings adds padding before the characters and returns a new string of specified width. \n",
    "\n",
    "print('52'.zfill(8))\n",
    "\n",
    "x = '52'.zfill(8)\n",
    "\n",
    "print(len(x))"
   ]
  },
  {
   "cell_type": "code",
   "execution_count": null,
   "id": "e6a1df8a",
   "metadata": {},
   "outputs": [],
   "source": []
  },
  {
   "cell_type": "code",
   "execution_count": null,
   "id": "dbda7c65",
   "metadata": {},
   "outputs": [],
   "source": [
    "print('abc'.zfill(8))"
   ]
  },
  {
   "cell_type": "code",
   "execution_count": null,
   "id": "9b084ff1",
   "metadata": {},
   "outputs": [],
   "source": [
    "# However, in case of signed characters it returns padding after the sign and before the original string.\n",
    "\n",
    "print('-42'.zfill(8))"
   ]
  },
  {
   "cell_type": "code",
   "execution_count": null,
   "id": "6c1b0375",
   "metadata": {},
   "outputs": [],
   "source": [
    "print('+42'.zfill(8))"
   ]
  },
  {
   "cell_type": "code",
   "execution_count": null,
   "id": "cecc2aa5",
   "metadata": {},
   "outputs": [],
   "source": [
    "# 101 = 5\n",
    "# 1010 = 10\n",
    "# 101111 = 47"
   ]
  },
  {
   "cell_type": "code",
   "execution_count": null,
   "id": "9f091afd",
   "metadata": {},
   "outputs": [],
   "source": [
    "print('-101'.zfill(16))"
   ]
  },
  {
   "cell_type": "code",
   "execution_count": null,
   "id": "b3596d80",
   "metadata": {},
   "outputs": [],
   "source": [
    "print('-1010'.zfill(16))"
   ]
  },
  {
   "cell_type": "code",
   "execution_count": null,
   "id": "1068b7c2",
   "metadata": {},
   "outputs": [],
   "source": [
    "print('-101111'.zfill(16))"
   ]
  },
  {
   "cell_type": "code",
   "execution_count": null,
   "id": "1913c058",
   "metadata": {},
   "outputs": [],
   "source": [
    "#However, if speficied weight is less than the original string lenght, original string is returned.\n",
    "\n",
    "print('1110010111'.zfill(8))"
   ]
  },
  {
   "cell_type": "code",
   "execution_count": null,
   "id": "2f488c83",
   "metadata": {},
   "outputs": [],
   "source": [
    "1110010111\n",
    "\n",
    "1010\n",
    "111000\n",
    "\n",
    "\n",
    "# Options\n",
    "\n",
    "1. if input > 8 then input[:8]\n",
    "2. max(input_data) - 10  - make the standard bit size 16 instead of 8. \n"
   ]
  },
  {
   "cell_type": "code",
   "execution_count": null,
   "id": "b730ac18",
   "metadata": {},
   "outputs": [],
   "source": [
    "print('-Learnbay Batch'.zfill(8))"
   ]
  },
  {
   "cell_type": "code",
   "execution_count": null,
   "id": "c4da199f",
   "metadata": {},
   "outputs": [],
   "source": [
    "# String testing methods. There are several methods for testing the contents of a string. \n",
    "\n",
    "# 1. isalpha() method - checks if all the characters in a string are alphabets (upper or lower case)\n",
    "x = 'Python'\n",
    "print(x.isalpha())"
   ]
  },
  {
   "cell_type": "code",
   "execution_count": null,
   "id": "68cf3261",
   "metadata": {},
   "outputs": [],
   "source": [
    "print('Pyth0n'.isalpha())"
   ]
  },
  {
   "cell_type": "code",
   "execution_count": null,
   "id": "1fc13847",
   "metadata": {},
   "outputs": [],
   "source": [
    "print(' Python'.isalpha())"
   ]
  },
  {
   "cell_type": "code",
   "execution_count": null,
   "id": "82211b85",
   "metadata": {},
   "outputs": [],
   "source": [
    "print('_Python'.isalpha())"
   ]
  },
  {
   "cell_type": "code",
   "execution_count": null,
   "id": "0be010a3",
   "metadata": {},
   "outputs": [],
   "source": [
    "print('Py$thon'.isalpha())"
   ]
  },
  {
   "cell_type": "code",
   "execution_count": null,
   "id": "e10df3ce",
   "metadata": {},
   "outputs": [],
   "source": [
    "print(\"\".isalpha())"
   ]
  },
  {
   "cell_type": "code",
   "execution_count": null,
   "id": "28eede91",
   "metadata": {},
   "outputs": [],
   "source": [
    "print('βython'.isalpha()) #small case greek alphabet beta"
   ]
  },
  {
   "cell_type": "code",
   "execution_count": null,
   "id": "eba514a7",
   "metadata": {},
   "outputs": [],
   "source": [
    "str1 = '\\u03B2ython'\n",
    "\n",
    "print(str1)"
   ]
  },
  {
   "cell_type": "code",
   "execution_count": null,
   "id": "055077ef",
   "metadata": {},
   "outputs": [],
   "source": [
    "# 1. ascii, 0-255\n",
    "\n",
    "# 2. cp1252 Windows systems []\n",
    "\n",
    "# 3. Unicode\n",
    "# UTF-8 - 114,200+\n",
    "# UTF-16 - 65,000 (upto 135000)\n",
    "# UTF-32 - 65,000"
   ]
  },
  {
   "cell_type": "code",
   "execution_count": null,
   "id": "9bf29561",
   "metadata": {},
   "outputs": [],
   "source": [
    "print('Ԉython'.isalpha()) #capital cryllic alphabet 'H'"
   ]
  },
  {
   "cell_type": "code",
   "execution_count": null,
   "id": "2d1b9fc3",
   "metadata": {},
   "outputs": [],
   "source": [
    "print('©Python'.isalpha())"
   ]
  },
  {
   "cell_type": "code",
   "execution_count": null,
   "id": "4c374e57",
   "metadata": {},
   "outputs": [],
   "source": [
    "#2. isalnum() method - returns true if all the characters in the string are either alphabets(upper, lower, any kind) or \n",
    "#numbers.\n",
    "\n",
    "print('Python'.isalnum())"
   ]
  },
  {
   "cell_type": "code",
   "execution_count": null,
   "id": "5e09bd5e",
   "metadata": {},
   "outputs": [],
   "source": [
    "print('Pyth0n'.isalnum())"
   ]
  },
  {
   "cell_type": "code",
   "execution_count": null,
   "id": "b8a03b87",
   "metadata": {},
   "outputs": [],
   "source": [
    "print(' Pyth0n'.isalnum())"
   ]
  },
  {
   "cell_type": "code",
   "execution_count": null,
   "id": "888e5af6",
   "metadata": {},
   "outputs": [],
   "source": [
    "print('Pyt_th0n'.isalnum())"
   ]
  },
  {
   "cell_type": "code",
   "execution_count": null,
   "id": "3b99e98e",
   "metadata": {},
   "outputs": [],
   "source": [
    "print('#PyTH_()n'.isalnum())"
   ]
  },
  {
   "cell_type": "code",
   "execution_count": null,
   "id": "197516b7",
   "metadata": {},
   "outputs": [],
   "source": [
    "print('βy111thon'.isalnum())"
   ]
  },
  {
   "cell_type": "code",
   "execution_count": null,
   "id": "00de4adc",
   "metadata": {},
   "outputs": [],
   "source": [
    "print('Ԉy111th0n'.isalnum())"
   ]
  },
  {
   "cell_type": "code",
   "execution_count": null,
   "id": "d472f911",
   "metadata": {},
   "outputs": [],
   "source": [
    "print('©Py111th0n'.isalnum())"
   ]
  },
  {
   "cell_type": "code",
   "execution_count": null,
   "id": "3aa288f0",
   "metadata": {},
   "outputs": [],
   "source": [
    "#3 isupper() method - checks if all the alphabets in the string are upper case. Allows other characters (numbers, symbols\n",
    "#etc to go unchecked.)\n",
    "\n",
    "print('PYTHON'.isupper())"
   ]
  },
  {
   "cell_type": "code",
   "execution_count": null,
   "id": "43eb9a91",
   "metadata": {},
   "outputs": [],
   "source": [
    "print('Python'.isupper())"
   ]
  },
  {
   "cell_type": "code",
   "execution_count": null,
   "id": "4b7fc142",
   "metadata": {},
   "outputs": [],
   "source": [
    "print('PYTH0N'.isupper())\n",
    "\n",
    "#As we can see - it allows a number to be present and obviously numbers cannot be checked for upper or lower case."
   ]
  },
  {
   "cell_type": "code",
   "execution_count": null,
   "id": "480e7dbe",
   "metadata": {},
   "outputs": [],
   "source": [
    "print('PYT_TH0N'.isupper())\n",
    "\n",
    "#It also allows special characters to be present. It is ONLY checking if the ALPHABETS are in upper case."
   ]
  },
  {
   "cell_type": "code",
   "execution_count": null,
   "id": "9d97c0cc",
   "metadata": {},
   "outputs": [],
   "source": [
    "print('PYT$TH0N'.isupper())\n"
   ]
  },
  {
   "cell_type": "code",
   "execution_count": null,
   "id": "ccce83b4",
   "metadata": {},
   "outputs": [],
   "source": [
    "print('βYTHON'.isupper())"
   ]
  },
  {
   "cell_type": "code",
   "execution_count": null,
   "id": "1acf7c6f",
   "metadata": {},
   "outputs": [],
   "source": [
    "#Here it correctly identifies the small greek letter beta as NOT being in upper case and returns False."
   ]
  },
  {
   "cell_type": "code",
   "execution_count": null,
   "id": "db324b82",
   "metadata": {},
   "outputs": [],
   "source": [
    "print('βython'.islower())"
   ]
  },
  {
   "cell_type": "code",
   "execution_count": null,
   "id": "a8fd7dff",
   "metadata": {},
   "outputs": [],
   "source": [
    "#Eureka! It DOES identify the small greek letter beta as being in lower case."
   ]
  },
  {
   "cell_type": "code",
   "execution_count": null,
   "id": "a2586c33",
   "metadata": {},
   "outputs": [],
   "source": [
    "print('ԈYTHON'.isupper())"
   ]
  },
  {
   "cell_type": "code",
   "execution_count": null,
   "id": "16ff4f79",
   "metadata": {},
   "outputs": [],
   "source": [
    "#Here it correctly identifies the Cryllic Capital letter Komi Lje as upper case and returns True."
   ]
  },
  {
   "cell_type": "code",
   "execution_count": null,
   "id": "02cf51c6",
   "metadata": {},
   "outputs": [],
   "source": [
    "print('Ԉython'.islower())"
   ]
  },
  {
   "cell_type": "code",
   "execution_count": null,
   "id": "d812d4ab",
   "metadata": {},
   "outputs": [],
   "source": [
    "#Smart Python! It identified the Cryllic Capital letter Komi Lje as NOT being lower case."
   ]
  },
  {
   "cell_type": "code",
   "execution_count": null,
   "id": "5affc5f2",
   "metadata": {},
   "outputs": [],
   "source": [
    "#That said - there is a lengthy ongoing debate online about what upper SHOULD classify as upper and what should not be\n",
    "#accepted as upper. Different language users(experts?) have different opinions. So, if you come across some letters that you\n",
    "#think should be accepted as upper but is not - congratulations on finding a hidden gem! This information I just put in\n",
    "# for your knowledge and to make things interesting but its not worth discussing too much."
   ]
  },
  {
   "cell_type": "code",
   "execution_count": null,
   "id": "53a077cc",
   "metadata": {},
   "outputs": [],
   "source": [
    "print('©PY111TH0N'.isupper())\n",
    "\n",
    "#Note how it also allows the copyright symbol (c). "
   ]
  },
  {
   "cell_type": "code",
   "execution_count": null,
   "id": "9e98c3c8",
   "metadata": {},
   "outputs": [],
   "source": [
    "#3.Islower() method in Python checks if the alphabets in the string are lower case. Allows other characters to be unchecked.\n",
    "\n",
    "print('python'.islower())"
   ]
  },
  {
   "cell_type": "code",
   "execution_count": null,
   "id": "4aaa2c70",
   "metadata": {},
   "outputs": [],
   "source": [
    "print('Python'.islower())"
   ]
  },
  {
   "cell_type": "code",
   "execution_count": null,
   "id": "61c99338",
   "metadata": {},
   "outputs": [],
   "source": [
    "print('pyth0n'.islower())"
   ]
  },
  {
   "cell_type": "code",
   "execution_count": null,
   "id": "ac7f6bb8",
   "metadata": {},
   "outputs": [],
   "source": [
    "print('_pyth#on0'.islower())"
   ]
  },
  {
   "cell_type": "code",
   "execution_count": null,
   "id": "f3b4d3ed",
   "metadata": {},
   "outputs": [],
   "source": [
    "print('©py111th0n'.islower())\n"
   ]
  },
  {
   "cell_type": "code",
   "execution_count": null,
   "id": "b5ff52db",
   "metadata": {},
   "outputs": [],
   "source": [
    "#4 isspace() - method in Python checks if the string contains only spaces. Returns false if any other characters found.\n",
    "\n",
    "print(\" \".isspace())\n"
   ]
  },
  {
   "cell_type": "code",
   "execution_count": null,
   "id": "4d6b3f28",
   "metadata": {},
   "outputs": [],
   "source": [
    "print('      '.isspace())"
   ]
  },
  {
   "cell_type": "code",
   "execution_count": null,
   "id": "34779fb2",
   "metadata": {},
   "outputs": [],
   "source": [
    "print((\" \"*100).isspace())"
   ]
  },
  {
   "cell_type": "code",
   "execution_count": null,
   "id": "1c355af6",
   "metadata": {},
   "outputs": [],
   "source": [
    "print(\"  a   \".isspace())"
   ]
  },
  {
   "cell_type": "code",
   "execution_count": null,
   "id": "2ad1e983",
   "metadata": {},
   "outputs": [],
   "source": [
    "print(\"   0   \".isspace())"
   ]
  },
  {
   "cell_type": "code",
   "execution_count": null,
   "id": "3c01eea7",
   "metadata": {},
   "outputs": [],
   "source": [
    "print('    _   '.isspace())"
   ]
  },
  {
   "cell_type": "code",
   "execution_count": null,
   "id": "494fbac6",
   "metadata": {},
   "outputs": [],
   "source": [
    "print('  $'.isspace())\n",
    "print('#   '.isspace())"
   ]
  },
  {
   "cell_type": "code",
   "execution_count": null,
   "id": "0e700a95",
   "metadata": {},
   "outputs": [],
   "source": [
    "print('_'.isspace())"
   ]
  },
  {
   "cell_type": "code",
   "execution_count": null,
   "id": "07973b8f",
   "metadata": {},
   "outputs": [],
   "source": [
    "print(''.isspace())"
   ]
  },
  {
   "cell_type": "code",
   "execution_count": null,
   "id": "215e67ce",
   "metadata": {},
   "outputs": [],
   "source": [
    "print('\\t'.isspace())"
   ]
  },
  {
   "cell_type": "code",
   "execution_count": null,
   "id": "07b6ec29",
   "metadata": {},
   "outputs": [],
   "source": [
    "x = ' '*5\n",
    "\n",
    "print(x.isspace())"
   ]
  },
  {
   "cell_type": "code",
   "execution_count": null,
   "id": "2ed5bb55",
   "metadata": {},
   "outputs": [],
   "source": [
    "b = ' '*4"
   ]
  },
  {
   "cell_type": "code",
   "execution_count": null,
   "id": "2a09315f",
   "metadata": {},
   "outputs": [],
   "source": [
    "print('\\t' == ' '*4)"
   ]
  },
  {
   "cell_type": "code",
   "execution_count": null,
   "id": "39f64ef8",
   "metadata": {},
   "outputs": [],
   "source": [
    "x = '1\\t2'\n",
    "\n",
    "print(x)\n",
    "\n",
    "print(len(x))"
   ]
  },
  {
   "cell_type": "code",
   "execution_count": null,
   "id": "41455e62",
   "metadata": {},
   "outputs": [],
   "source": [
    "z = '1\t2'\n",
    "\n",
    "print(len(z))"
   ]
  },
  {
   "cell_type": "code",
   "execution_count": null,
   "id": "9e677396",
   "metadata": {},
   "outputs": [],
   "source": [
    "print(('1\\t2'))"
   ]
  },
  {
   "cell_type": "code",
   "execution_count": null,
   "id": "7d1d8574",
   "metadata": {},
   "outputs": [],
   "source": [
    "print(b.isspace())"
   ]
  },
  {
   "cell_type": "code",
   "execution_count": null,
   "id": "0558d0b6",
   "metadata": {},
   "outputs": [],
   "source": [
    "x = len('hi\\n')\n",
    "y = 'hi\\n'\n",
    "\n",
    "print(x)\n",
    "print(len(y))"
   ]
  },
  {
   "cell_type": "code",
   "execution_count": null,
   "id": "28668d86",
   "metadata": {},
   "outputs": [],
   "source": [
    "#5. Istitle() method - Returns true if all the words in the string start with a capital AND all other letters are lower \n",
    "# case and False otherwise\n",
    "\n",
    "#DISCLAIMER - Very Very Peculiar behaviour by the istitle() method of Python. On researching in Python Documentation &\n",
    "# other online sites and forums, could not find any explanation of why it exhibits this behaviour. Some posters have even\n",
    "# suggested not to use istitle() at all or to be very very very careful using it."
   ]
  },
  {
   "cell_type": "code",
   "execution_count": null,
   "id": "b353579d",
   "metadata": {},
   "outputs": [],
   "source": [
    "print('\\n')"
   ]
  },
  {
   "cell_type": "code",
   "execution_count": null,
   "id": "76541dd6",
   "metadata": {},
   "outputs": [],
   "source": [
    "print('Python Rocks'.istitle())"
   ]
  },
  {
   "cell_type": "code",
   "execution_count": null,
   "id": "b08fb6ee",
   "metadata": {},
   "outputs": [],
   "source": [
    "print('Python rocks'.istitle())"
   ]
  },
  {
   "cell_type": "code",
   "execution_count": null,
   "id": "7f256788",
   "metadata": {},
   "outputs": [],
   "source": [
    "print('Pyth0n R0cks'.istitle()) #Does not allow numbers as part of the words"
   ]
  },
  {
   "cell_type": "code",
   "execution_count": null,
   "id": "e2e4cc4a",
   "metadata": {},
   "outputs": [],
   "source": [
    "print('Python 0 Rocks'.istitle()) #But allows between the words"
   ]
  },
  {
   "cell_type": "code",
   "execution_count": null,
   "id": "341d27a5",
   "metadata": {},
   "outputs": [],
   "source": [
    "print('Python_rocks'.istitle()) #Does not allow underscore as part of the words"
   ]
  },
  {
   "cell_type": "code",
   "execution_count": null,
   "id": "2de7db3b",
   "metadata": {},
   "outputs": [],
   "source": [
    "print('Python Rocks _ And So Does Java'.istitle()) #But allows between words"
   ]
  },
  {
   "cell_type": "code",
   "execution_count": null,
   "id": "a4e8818f",
   "metadata": {},
   "outputs": [],
   "source": [
    "print('Python Rock $ And So Does Java'.istitle()) #Allows special character between words"
   ]
  },
  {
   "cell_type": "code",
   "execution_count": null,
   "id": "c12c2071",
   "metadata": {},
   "outputs": [],
   "source": [
    "print('Python Roc$k And So Does Java'.istitle()) #Does not allow special character as part of the word"
   ]
  },
  {
   "cell_type": "code",
   "execution_count": null,
   "id": "2358ab1d",
   "metadata": {},
   "outputs": [],
   "source": [
    "print('Python Rock$ And So Does Java'.istitle()) #But allows the special character at the end of the word???"
   ]
  },
  {
   "cell_type": "code",
   "execution_count": null,
   "id": "12016fef",
   "metadata": {},
   "outputs": [],
   "source": [
    "print(\"Father's Daughter\".istitle()) #Why does this throw False?"
   ]
  },
  {
   "cell_type": "code",
   "execution_count": null,
   "id": "91f6110c",
   "metadata": {},
   "outputs": [],
   "source": [
    "print(\"Fathers' Daughters\".istitle()) #And this one True?? In real life, most of the time the ' will be before s but sometimes at the\n",
    "#end of the word."
   ]
  },
  {
   "cell_type": "code",
   "execution_count": null,
   "id": "717e636b",
   "metadata": {},
   "outputs": [],
   "source": [
    "#isascii, #isprintable, #isidentifier\n",
    "\n",
    "#isascii() - if the string is empty or all the characters are ascii encodable. \n",
    "\n",
    "print('Python'.isascii())"
   ]
  },
  {
   "cell_type": "code",
   "execution_count": null,
   "id": "691637b9",
   "metadata": {},
   "outputs": [],
   "source": [
    "print('Python'.isascii())"
   ]
  },
  {
   "cell_type": "code",
   "execution_count": null,
   "id": "2adb6e2e",
   "metadata": {},
   "outputs": [],
   "source": [
    "print('PYTH0N'.isascii())"
   ]
  },
  {
   "cell_type": "code",
   "execution_count": null,
   "id": "0d4e9232",
   "metadata": {},
   "outputs": [],
   "source": [
    "print('PYT_TH0N'.isascii())"
   ]
  },
  {
   "cell_type": "code",
   "execution_count": null,
   "id": "38c89de4",
   "metadata": {},
   "outputs": [],
   "source": [
    "print('PYT$TH0N'.isascii())"
   ]
  },
  {
   "cell_type": "code",
   "execution_count": null,
   "id": "18ce36a5",
   "metadata": {},
   "outputs": [],
   "source": [
    "print('βYTHON'.isascii())"
   ]
  },
  {
   "cell_type": "code",
   "execution_count": null,
   "id": "573cb72e",
   "metadata": {},
   "outputs": [],
   "source": [
    "#Here it correctly identifies the small greek letter beta as NOT being an ASCII character and returns False."
   ]
  },
  {
   "cell_type": "code",
   "execution_count": null,
   "id": "3ab350c3",
   "metadata": {},
   "outputs": [],
   "source": [
    "print(ord(' '))"
   ]
  },
  {
   "cell_type": "code",
   "execution_count": null,
   "id": "b36189ee",
   "metadata": {},
   "outputs": [],
   "source": [
    "print('βython'.isascii()) #Same here"
   ]
  },
  {
   "cell_type": "code",
   "execution_count": null,
   "id": "fba29e0a",
   "metadata": {},
   "outputs": [],
   "source": [
    "print('ԈYTHON'.isascii()) #And here"
   ]
  },
  {
   "cell_type": "code",
   "execution_count": null,
   "id": "dd6d7954",
   "metadata": {},
   "outputs": [],
   "source": [
    "#isprintable - Checks if a character is printable (loosely based on the ASCII) but in strict sense Non printable characters\n",
    "# are those that are identified by Unicode as 'Other', 'Separator'"
   ]
  },
  {
   "cell_type": "code",
   "execution_count": null,
   "id": "c9d13bad",
   "metadata": {},
   "outputs": [],
   "source": [
    "print('\\t'.isprintable())"
   ]
  },
  {
   "cell_type": "code",
   "execution_count": null,
   "id": "73e67892",
   "metadata": {},
   "outputs": [],
   "source": [
    "x = '\\t'\n",
    "\n",
    "print(x.isspace())"
   ]
  },
  {
   "cell_type": "code",
   "execution_count": null,
   "id": "1278e65f",
   "metadata": {},
   "outputs": [],
   "source": []
  },
  {
   "cell_type": "code",
   "execution_count": null,
   "id": "6173792b",
   "metadata": {},
   "outputs": [],
   "source": [
    "print('Python'.isprintable())"
   ]
  },
  {
   "cell_type": "code",
   "execution_count": null,
   "id": "9f8aa2b5",
   "metadata": {},
   "outputs": [],
   "source": [
    "print('Python'.isprintable())"
   ]
  },
  {
   "cell_type": "code",
   "execution_count": null,
   "id": "387850c6",
   "metadata": {},
   "outputs": [],
   "source": [
    "print('PYTH0N'.isprintable()) \n",
    "\n",
    "#As we can see - it allows a number to be present and obviously numbers cannot be checked for upper or lower case."
   ]
  },
  {
   "cell_type": "code",
   "execution_count": null,
   "id": "5dd756d8",
   "metadata": {},
   "outputs": [],
   "source": [
    "print('PYT_TH0N'.isprintable())\n",
    "\n"
   ]
  },
  {
   "cell_type": "code",
   "execution_count": null,
   "id": "efac49ea",
   "metadata": {},
   "outputs": [],
   "source": [
    "print('PYT$TH0N\\''.isprintable())\n",
    "\n"
   ]
  },
  {
   "cell_type": "code",
   "execution_count": null,
   "id": "a6475a68",
   "metadata": {},
   "outputs": [],
   "source": [
    "print('βYTHON'.isprintable()) #Greek letter Beta seems as not identified as 'Other' or 'Separator' in Unicode"
   ]
  },
  {
   "cell_type": "code",
   "execution_count": null,
   "id": "b65770cf",
   "metadata": {},
   "outputs": [],
   "source": []
  },
  {
   "cell_type": "code",
   "execution_count": null,
   "id": "2b0b6975",
   "metadata": {},
   "outputs": [],
   "source": [
    "print(chr(8).isprintable())"
   ]
  },
  {
   "cell_type": "code",
   "execution_count": null,
   "id": "1bdf7c25",
   "metadata": {},
   "outputs": [],
   "source": [
    "print(chr(65).isprintable())"
   ]
  },
  {
   "cell_type": "code",
   "execution_count": null,
   "id": "57199b57",
   "metadata": {},
   "outputs": [],
   "source": [
    "print('βython'.isprintable()) #Same here"
   ]
  },
  {
   "cell_type": "code",
   "execution_count": null,
   "id": "a4463318",
   "metadata": {},
   "outputs": [],
   "source": [
    "print('ԈYTHON'.isprintable()) #Same here"
   ]
  },
  {
   "cell_type": "code",
   "execution_count": null,
   "id": "cf261828",
   "metadata": {},
   "outputs": [],
   "source": [
    "print('\\n')"
   ]
  },
  {
   "cell_type": "code",
   "execution_count": null,
   "id": "6a71da6b",
   "metadata": {},
   "outputs": [],
   "source": [
    "print('\\t'.isprintable())\n",
    "print('\\t'.isascii())"
   ]
  },
  {
   "cell_type": "code",
   "execution_count": null,
   "id": "fe278474",
   "metadata": {},
   "outputs": [],
   "source": [
    "print(' '.isascii())"
   ]
  },
  {
   "cell_type": "code",
   "execution_count": null,
   "id": "6e69583e",
   "metadata": {},
   "outputs": [],
   "source": [
    "#isidentifier() - checks if a string is a valid identifier. Does NOT check if it is a valid keyword. Best to use along with\n",
    "#iskeyword() function from keyword module"
   ]
  },
  {
   "cell_type": "code",
   "execution_count": null,
   "id": "579c3be1",
   "metadata": {},
   "outputs": [],
   "source": [
    "# What are identifiers?\n",
    "\n",
    "# Labels/names that we give to variables, function names, class names and object so we can reference them. \n",
    "\n",
    "# "
   ]
  },
  {
   "cell_type": "markdown",
   "id": "85a7f54d",
   "metadata": {},
   "source": [
    "1. Alphabets and number and _\n",
    "2. No special characters(including spaces)\n",
    "3. Should not start with number\n",
    "4. Should not be a keyword  - isidentifier does not check for keyword"
   ]
  },
  {
   "cell_type": "code",
   "execution_count": null,
   "id": "aa80d4c7",
   "metadata": {},
   "outputs": [],
   "source": [
    "x = '2ab'"
   ]
  },
  {
   "cell_type": "code",
   "execution_count": null,
   "id": "35d62564",
   "metadata": {},
   "outputs": [],
   "source": [
    "print(x.isidentifier(), keyword.iskeyword(x))"
   ]
  },
  {
   "cell_type": "code",
   "execution_count": null,
   "id": "9b655a45",
   "metadata": {},
   "outputs": [],
   "source": []
  },
  {
   "cell_type": "code",
   "execution_count": null,
   "id": "48dd599c",
   "metadata": {},
   "outputs": [],
   "source": [
    "import keyword\n",
    "\n",
    "print(keyword.kwlist)"
   ]
  },
  {
   "cell_type": "code",
   "execution_count": null,
   "id": "2aadfd3b",
   "metadata": {},
   "outputs": [],
   "source": [
    "print(keyword.iskeyword('abc'))"
   ]
  },
  {
   "cell_type": "code",
   "execution_count": null,
   "id": "4c1288f9",
   "metadata": {},
   "outputs": [],
   "source": [
    "from keyword import iskeyword\n",
    "\n",
    "print('abc'.isidentifier()) ;  print(iskeyword('abc'))"
   ]
  },
  {
   "cell_type": "code",
   "execution_count": null,
   "id": "f1be2f97",
   "metadata": {},
   "outputs": [],
   "source": [
    "x = str(10)\n",
    "\n",
    "print(x)\n",
    "print(type(x))"
   ]
  },
  {
   "cell_type": "code",
   "execution_count": null,
   "id": "780ce765",
   "metadata": {},
   "outputs": [],
   "source": [
    "print('aBc'.isidentifier()) ;  print(iskeyword('aBC'))\n",
    "\n",
    "#Note here that .isidentifier() is a method in the string datatype or class i.e. applicable on any string object. \n",
    "# While iskeyword is a function available in the keyword module of Python i.e. not native to Python and is a separate\n",
    "# module in the available Python libraries."
   ]
  },
  {
   "cell_type": "code",
   "execution_count": null,
   "id": "b3ca8a0f",
   "metadata": {},
   "outputs": [],
   "source": [
    "print('None'.isidentifier()) ; print(iskeyword('None'))"
   ]
  },
  {
   "cell_type": "code",
   "execution_count": null,
   "id": "adc9a990",
   "metadata": {},
   "outputs": [],
   "source": []
  },
  {
   "cell_type": "code",
   "execution_count": null,
   "id": "6d9277d6",
   "metadata": {},
   "outputs": [],
   "source": [
    "print('2ab'.isidentifier()) ; print(iskeyword('2ab'))"
   ]
  },
  {
   "cell_type": "code",
   "execution_count": null,
   "id": "3fd06b43",
   "metadata": {},
   "outputs": [],
   "source": [
    "print('*ab'.isidentifier()) ; print(iskeyword('*ab'))"
   ]
  },
  {
   "cell_type": "code",
   "execution_count": null,
   "id": "d08b88e3",
   "metadata": {},
   "outputs": [],
   "source": [
    "print('Abc'.isidentifier()) ; print(iskeyword('Abc'))"
   ]
  },
  {
   "cell_type": "code",
   "execution_count": null,
   "id": "6e10c062",
   "metadata": {},
   "outputs": [],
   "source": [
    "print('_ab'.isidentifier()) ; print(iskeyword('_ab'))"
   ]
  },
  {
   "cell_type": "code",
   "execution_count": null,
   "id": "94d094d9",
   "metadata": {},
   "outputs": [],
   "source": [
    "print('a_bc'.isidentifier()) ; print(iskeyword('a_bc'))"
   ]
  },
  {
   "cell_type": "code",
   "execution_count": null,
   "id": "ce21a635",
   "metadata": {},
   "outputs": [],
   "source": [
    "print('ab__'.isidentifier()) ; print(iskeyword('ab__'))"
   ]
  },
  {
   "cell_type": "code",
   "execution_count": null,
   "id": "03685d9d",
   "metadata": {},
   "outputs": [],
   "source": [
    "print('ab__'.isidentifier()) ; print(iskeyword('ab__'))"
   ]
  },
  {
   "cell_type": "code",
   "execution_count": null,
   "id": "1c05acd9",
   "metadata": {},
   "outputs": [],
   "source": [
    "print('a2bc'.isidentifier()) ; print(iskeyword('a2bc'))"
   ]
  },
  {
   "cell_type": "code",
   "execution_count": null,
   "id": "1b904821",
   "metadata": {},
   "outputs": [],
   "source": [
    "print('__ab'.isidentifier()) ; print(iskeyword('__ab'))"
   ]
  },
  {
   "cell_type": "code",
   "execution_count": null,
   "id": "2230a735",
   "metadata": {},
   "outputs": [],
   "source": [
    "print('a_bc'.isidentifier()) ; print(iskeyword('a_bc'))"
   ]
  },
  {
   "cell_type": "code",
   "execution_count": null,
   "id": "130ced15",
   "metadata": {},
   "outputs": [],
   "source": []
  },
  {
   "cell_type": "code",
   "execution_count": null,
   "id": "ce76619f",
   "metadata": {},
   "outputs": [],
   "source": [
    "print('ab_'.isidentifier()) ; print(iskeyword('ab_'))"
   ]
  },
  {
   "cell_type": "code",
   "execution_count": null,
   "id": "ec3877c6",
   "metadata": {},
   "outputs": [],
   "source": [
    "print('a_2'.isidentifier()) ; print(iskeyword('a_2'))"
   ]
  },
  {
   "cell_type": "code",
   "execution_count": null,
   "id": "769befa9",
   "metadata": {},
   "outputs": [],
   "source": [
    "'10'.isdecimal()"
   ]
  },
  {
   "cell_type": "code",
   "execution_count": null,
   "id": "9e1b040d",
   "metadata": {},
   "outputs": [],
   "source": [
    "print('2/8'.isnumeric())"
   ]
  },
  {
   "cell_type": "code",
   "execution_count": null,
   "id": "1f008b2d",
   "metadata": {},
   "outputs": [],
   "source": [
    "print('\\u2164')"
   ]
  },
  {
   "cell_type": "code",
   "execution_count": 1,
   "id": "4e3290d3",
   "metadata": {},
   "outputs": [
    {
     "name": "stdout",
     "output_type": "stream",
     "text": [
      "True\n",
      "True\n",
      "True\n"
     ]
    }
   ],
   "source": [
    "#6. isdigit(), isnumeric() and isdecimal() methods. To check if a string in Python \n",
    "\n",
    "# isdigit() - numbers between 0 to 9\n",
    "# isnumeric() - is a numeric value\n",
    "# isdecimal() - is a decimal value\n",
    "\n",
    "print('0123'.isdecimal())\n",
    "print('0123'.isdigit())\n",
    "print('0123'.isnumeric())\n",
    "\n",
    "#All three allow base ten numbers"
   ]
  },
  {
   "cell_type": "code",
   "execution_count": 2,
   "id": "7fe54af5",
   "metadata": {},
   "outputs": [
    {
     "name": "stdout",
     "output_type": "stream",
     "text": [
      "False\n",
      "True\n",
      "True\n"
     ]
    }
   ],
   "source": [
    "print('2²'.isdecimal())\n",
    "print('2²'.isdigit())\n",
    "print('2²'.isnumeric()) \n",
    "\n",
    "#Isdecimal doesnt allow exponents, while isdigit and isnumeric do."
   ]
  },
  {
   "cell_type": "code",
   "execution_count": 3,
   "id": "065d0f9e",
   "metadata": {},
   "outputs": [
    {
     "name": "stdout",
     "output_type": "stream",
     "text": [
      "False\n",
      "False\n",
      "True\n",
      "1\n"
     ]
    }
   ],
   "source": [
    "print('⅔'.isdecimal())\n",
    "print('⅔'.isdigit())\n",
    "print('⅔'.isnumeric()) \n",
    "print(len('⅔'))\n",
    "\n",
    "#isdecimal and isdigit do not allow fractions while isnumeric does"
   ]
  },
  {
   "cell_type": "code",
   "execution_count": 4,
   "id": "5d0a125a",
   "metadata": {},
   "outputs": [
    {
     "name": "stdout",
     "output_type": "stream",
     "text": [
      "False\n"
     ]
    }
   ],
   "source": [
    "print('2/3'.isnumeric())"
   ]
  },
  {
   "cell_type": "code",
   "execution_count": null,
   "id": "81d9c459",
   "metadata": {},
   "outputs": [],
   "source": [
    "print('2'.isnumeric())\n",
    "print('/'.isnumeric())\n",
    "print('3'.isnumeric())\n"
   ]
  },
  {
   "cell_type": "code",
   "execution_count": 5,
   "id": "3bc94328",
   "metadata": {},
   "outputs": [
    {
     "name": "stdout",
     "output_type": "stream",
     "text": [
      "Roman numeral 5: Ⅴ.\n"
     ]
    }
   ],
   "source": [
    "x = '\\u2164'\n",
    "print(f'Roman numeral 5: {x}.')"
   ]
  },
  {
   "cell_type": "code",
   "execution_count": 6,
   "id": "073cea24",
   "metadata": {},
   "outputs": [
    {
     "name": "stdout",
     "output_type": "stream",
     "text": [
      "False\n"
     ]
    }
   ],
   "source": [
    "print(x == 'V')"
   ]
  },
  {
   "cell_type": "code",
   "execution_count": 7,
   "id": "ebeef7bb",
   "metadata": {},
   "outputs": [
    {
     "name": "stdout",
     "output_type": "stream",
     "text": [
      "False\n",
      "False\n",
      "True\n",
      "False\n"
     ]
    }
   ],
   "source": [
    "print(x.isdecimal())\n",
    "print(x.isdigit())\n",
    "print(x.isnumeric())\n",
    "print(x.isalpha())\n",
    "\n",
    "# Isdecimal and isdigit do not allow roman or other numerals. isnumeric allows. "
   ]
  },
  {
   "cell_type": "code",
   "execution_count": 8,
   "id": "d00f536d",
   "metadata": {},
   "outputs": [
    {
     "name": "stdout",
     "output_type": "stream",
     "text": [
      "βython\n"
     ]
    }
   ],
   "source": [
    "print('\\u03B2ython')"
   ]
  },
  {
   "cell_type": "code",
   "execution_count": 9,
   "id": "fb172d0d",
   "metadata": {},
   "outputs": [
    {
     "name": "stdout",
     "output_type": "stream",
     "text": [
      "Roman numeral 1000 (CD): ↀ.\n"
     ]
    }
   ],
   "source": [
    "x = '\\u2180'\n",
    "print(f'Roman numeral 1000 (CD): {x}.')"
   ]
  },
  {
   "cell_type": "code",
   "execution_count": 10,
   "id": "06c010aa",
   "metadata": {},
   "outputs": [
    {
     "name": "stdout",
     "output_type": "stream",
     "text": [
      "False\n",
      "False\n",
      "True\n",
      "False\n"
     ]
    }
   ],
   "source": [
    "print(x.isdecimal())\n",
    "print(x.isdigit())\n",
    "print(x.isnumeric())\n",
    "print(x.isalpha())"
   ]
  },
  {
   "cell_type": "code",
   "execution_count": 11,
   "id": "b0f353b4",
   "metadata": {},
   "outputs": [
    {
     "name": "stdout",
     "output_type": "stream",
     "text": [
      "False\n",
      "False\n",
      "False\n"
     ]
    }
   ],
   "source": [
    "print('10%2'.isdecimal())\n",
    "print('10%2'.isdigit())\n",
    "print('10%2'.isnumeric())"
   ]
  },
  {
   "cell_type": "code",
   "execution_count": 12,
   "id": "e96f99a8",
   "metadata": {},
   "outputs": [
    {
     "name": "stdout",
     "output_type": "stream",
     "text": [
      "False\n",
      "False\n",
      "False\n"
     ]
    }
   ],
   "source": [
    "print('10.2'.isdecimal())\n",
    "print('10.2'.isdigit())\n",
    "print('10.2'.isnumeric())\n",
    "\n",
    "#All three do not allow floats."
   ]
  },
  {
   "cell_type": "code",
   "execution_count": null,
   "id": "0aa57ea3",
   "metadata": {},
   "outputs": [],
   "source": [
    "# program to check if input is a float or not. "
   ]
  },
  {
   "cell_type": "code",
   "execution_count": null,
   "id": "f945a928",
   "metadata": {},
   "outputs": [],
   "source": []
  },
  {
   "cell_type": "code",
   "execution_count": null,
   "id": "17a7c79c",
   "metadata": {},
   "outputs": [],
   "source": []
  },
  {
   "cell_type": "code",
   "execution_count": null,
   "id": "c319c513",
   "metadata": {},
   "outputs": [],
   "source": []
  },
  {
   "cell_type": "code",
   "execution_count": null,
   "id": "10d9782d",
   "metadata": {},
   "outputs": [],
   "source": []
  },
  {
   "cell_type": "code",
   "execution_count": null,
   "id": "a7763289",
   "metadata": {},
   "outputs": [],
   "source": [
    "a = '100.34637247'\n",
    "b = '.'"
   ]
  },
  {
   "cell_type": "code",
   "execution_count": null,
   "id": "235660f0",
   "metadata": {},
   "outputs": [],
   "source": [
    "y = a.find('.')\n",
    "\n",
    "print(y)"
   ]
  },
  {
   "cell_type": "code",
   "execution_count": null,
   "id": "7dc6ab5a",
   "metadata": {},
   "outputs": [],
   "source": [
    "a[:3]"
   ]
  },
  {
   "cell_type": "code",
   "execution_count": null,
   "id": "ef1f1853",
   "metadata": {},
   "outputs": [],
   "source": [
    "a[3+1:]"
   ]
  },
  {
   "cell_type": "code",
   "execution_count": null,
   "id": "9558a7ea",
   "metadata": {},
   "outputs": [],
   "source": []
  },
  {
   "cell_type": "code",
   "execution_count": null,
   "id": "c31b0667",
   "metadata": {},
   "outputs": [],
   "source": [
    "print(a.find(b))"
   ]
  },
  {
   "cell_type": "code",
   "execution_count": null,
   "id": "a8892b5f",
   "metadata": {},
   "outputs": [],
   "source": [
    "def isfloat(x):\n",
    "    y = x.find('.')\n",
    "    if y != -1:\n",
    "        a = x[:y]\n",
    "        b = x[y+1:]\n",
    "        if a.isdigit() and b.isdigit():\n",
    "            return True\n",
    "        else:\n",
    "            return False\n",
    "    else:\n",
    "        return False\n",
    "    \n",
    "    \n",
    "    "
   ]
  },
  {
   "cell_type": "code",
   "execution_count": null,
   "id": "2cdc18d0",
   "metadata": {},
   "outputs": [],
   "source": [
    "isfloat('100')"
   ]
  },
  {
   "cell_type": "code",
   "execution_count": null,
   "id": "083f33b9",
   "metadata": {},
   "outputs": [],
   "source": [
    "#String formatting. Python keeps updating the ways to format string outputs. The latest method(as far as I am aware) is\n",
    "#f-string formatting."
   ]
  },
  {
   "cell_type": "code",
   "execution_count": null,
   "id": "13f76ecf",
   "metadata": {},
   "outputs": [],
   "source": [
    "printf%, .format(), f-string"
   ]
  },
  {
   "cell_type": "code",
   "execution_count": null,
   "id": "88afcb90",
   "metadata": {},
   "outputs": [],
   "source": [
    "names = ['Divya', 'Sankar', 'Lovish', 'Dhanu', 'Santosh']\n",
    "fav = ['Art','Business Today', 'Chess','Dancing','Cricket']\n",
    "billvalue = [100, 200, 250, 1000, 2000]"
   ]
  },
  {
   "cell_type": "code",
   "execution_count": null,
   "id": "297e8a19",
   "metadata": {},
   "outputs": [],
   "source": [
    "var1 = 'Sankar'\n",
    "var2 = 'Business Today'"
   ]
  },
  {
   "cell_type": "code",
   "execution_count": null,
   "id": "14887eb0",
   "metadata": {},
   "outputs": [],
   "source": [
    "counter = 1\n",
    "\n",
    "print(f'Bill no. {counter}')\n",
    "\n",
    "counter += 1\n",
    "\n"
   ]
  },
  {
   "cell_type": "code",
   "execution_count": null,
   "id": "1ca0cb78",
   "metadata": {},
   "outputs": [],
   "source": [
    "\n",
    "for num in range(1,100):\n",
    "    print(f'Bill no. {num}.')\n",
    "    "
   ]
  },
  {
   "cell_type": "code",
   "execution_count": null,
   "id": "0cdb5ed6",
   "metadata": {},
   "outputs": [],
   "source": [
    "print(f'Hello {var1} here is your bill for {var2} subscription which comes out to {billvalue[val]}.')"
   ]
  },
  {
   "cell_type": "code",
   "execution_count": null,
   "id": "6cf495e6",
   "metadata": {},
   "outputs": [],
   "source": [
    "for val in range(len(names)):\n",
    "    print(f'Hello {names[val]} here is your bill for {fav[val]} subscription which comes out to {billvalue[val]*1.18} with GST.')"
   ]
  },
  {
   "cell_type": "code",
   "execution_count": null,
   "id": "3f670cf7",
   "metadata": {},
   "outputs": [],
   "source": [
    "print('Hello Divya here is your bill for Art subscription')"
   ]
  },
  {
   "cell_type": "code",
   "execution_count": null,
   "id": "7fbbbda4",
   "metadata": {},
   "outputs": [],
   "source": [
    "print('Hello Sankar here is your bill for Business Today subscription')"
   ]
  },
  {
   "cell_type": "code",
   "execution_count": null,
   "id": "b5d956ee",
   "metadata": {},
   "outputs": [],
   "source": [
    "print('Hello Lovish here is your bill for Grandmaster Strategies Monthly subscription')"
   ]
  },
  {
   "cell_type": "code",
   "execution_count": null,
   "id": "41da2f63",
   "metadata": {},
   "outputs": [],
   "source": [
    "var = 'Pooja'\n",
    "var2 = 'Amazon and Spotify'\n",
    "\n",
    "print(f'Hello {var} here is your bill for {var2} subscription')"
   ]
  },
  {
   "cell_type": "code",
   "execution_count": null,
   "id": "4981155d",
   "metadata": {},
   "outputs": [],
   "source": [
    "print('Hello Anil here is your bill for the restaurant')"
   ]
  },
  {
   "cell_type": "code",
   "execution_count": null,
   "id": "22ba5621",
   "metadata": {},
   "outputs": [],
   "source": [
    "def funct_str():\n",
    "    return 100"
   ]
  },
  {
   "cell_type": "code",
   "execution_count": null,
   "id": "d5454627",
   "metadata": {},
   "outputs": [],
   "source": [
    "print(f'Hello {var} here is your bill for {var2}')"
   ]
  },
  {
   "cell_type": "code",
   "execution_count": null,
   "id": "18fe2d2b",
   "metadata": {},
   "outputs": [],
   "source": [
    "print(range(len(lst)))\n",
    "\n",
    "print(range(4))"
   ]
  },
  {
   "cell_type": "code",
   "execution_count": null,
   "id": "4559ddd9",
   "metadata": {},
   "outputs": [],
   "source": [
    "for i in range(len(lst)):\n",
    "    print(i)"
   ]
  },
  {
   "cell_type": "code",
   "execution_count": null,
   "id": "98b5deb2",
   "metadata": {},
   "outputs": [],
   "source": [
    "lst = ['Vaibhav', 'Robin', 'Hema']\n",
    "favorite = ['Gym', 'Kalari Paitu', 'ClubMed subscription']\n",
    "\n",
    "for i in range(len(lst)):\n",
    "    print(f'Hello {lst[i]} here is your free coupon for {favorite[i]}.')"
   ]
  },
  {
   "cell_type": "code",
   "execution_count": null,
   "id": "6e0d0a9f",
   "metadata": {},
   "outputs": [],
   "source": [
    "print(list(range(len(lst))))"
   ]
  },
  {
   "cell_type": "code",
   "execution_count": null,
   "id": "38799feb",
   "metadata": {},
   "outputs": [],
   "source": [
    "print('Hello Neelima here is your room bill')"
   ]
  },
  {
   "cell_type": "code",
   "execution_count": null,
   "id": "a81c3312",
   "metadata": {},
   "outputs": [],
   "source": [
    "print('Hello Neelima here is your food bill')\n",
    "print('Hello Neelima here is your transport bill')"
   ]
  },
  {
   "cell_type": "code",
   "execution_count": null,
   "id": "f7e79ab9",
   "metadata": {},
   "outputs": [],
   "source": [
    "\n",
    "\n",
    "print('Your bill is 1')\n",
    "print('Your bill is 2')\n",
    "print('Your bill is 3')"
   ]
  },
  {
   "cell_type": "code",
   "execution_count": null,
   "id": "13099771",
   "metadata": {},
   "outputs": [],
   "source": [
    "lst1 = ['Tahir', 'Mala', 'Trupti', 'Reshma']\n",
    "lst2 = ['Gym', 'Supplements', 'Software', 'Grocery']\n",
    "lst3 = [1000, 500, 2000, 300]\n",
    "\n"
   ]
  },
  {
   "cell_type": "code",
   "execution_count": null,
   "id": "65a7988f",
   "metadata": {},
   "outputs": [],
   "source": [
    "x = list(range(len(lst1)))\n",
    "print(x)"
   ]
  },
  {
   "cell_type": "code",
   "execution_count": null,
   "id": "73032f7b",
   "metadata": {},
   "outputs": [],
   "source": [
    "for i in range(len(lst1)):\n",
    "    print(f'{lst1[i]}, Your bill for {lst2[i]} is {lst3[i]}.')"
   ]
  },
  {
   "cell_type": "code",
   "execution_count": null,
   "id": "7a5b1ced",
   "metadata": {},
   "outputs": [],
   "source": [
    "def funct1(x):\n",
    "    return x+10"
   ]
  },
  {
   "cell_type": "code",
   "execution_count": null,
   "id": "3f781704",
   "metadata": {},
   "outputs": [],
   "source": [
    "print(funct1(20))"
   ]
  },
  {
   "cell_type": "code",
   "execution_count": null,
   "id": "dbeab640",
   "metadata": {},
   "outputs": [],
   "source": [
    "a = 101\n",
    "\n",
    "b = 202\n",
    "\n",
    "print(f'a = {a*3} and b = {b-1}.')\n",
    "\n",
    "# Simply put the variable to be formatted inside curly braces and prefix the string with f. The curly braces and values\n",
    "# inside them are called 'placeholders'"
   ]
  },
  {
   "cell_type": "code",
   "execution_count": null,
   "id": "a1c17f22",
   "metadata": {},
   "outputs": [],
   "source": []
  },
  {
   "cell_type": "code",
   "execution_count": null,
   "id": "dbe03e3e",
   "metadata": {},
   "outputs": [],
   "source": [
    "print(int(20/4))"
   ]
  },
  {
   "cell_type": "code",
   "execution_count": null,
   "id": "1b9959a7",
   "metadata": {},
   "outputs": [],
   "source": [
    "a = 101\n",
    "b = 202"
   ]
  },
  {
   "cell_type": "code",
   "execution_count": null,
   "id": "1da7a3cf",
   "metadata": {},
   "outputs": [],
   "source": [
    "print(f'a = {a} and b = {b}.')"
   ]
  },
  {
   "cell_type": "code",
   "execution_count": null,
   "id": "91ea513d",
   "metadata": {},
   "outputs": [],
   "source": [
    "#Another way to format(before f-string formatting) was with the .format way.\n",
    "\n",
    "print('a = {} and b = {}'.format(a, b))\n",
    "\n",
    "#The format method takes the values to be input in order i.e. first curly brace will have first value specified, second will\n",
    "#have second and so on."
   ]
  },
  {
   "cell_type": "code",
   "execution_count": null,
   "id": "eac862ef",
   "metadata": {},
   "outputs": [],
   "source": [
    "# You can have any datatype be the values - not necessarily variables\n",
    "\n",
    "print('a = {}, b = {}, c = {}, d = {} and e = {}'.format('Python', 2+3j, None, 10, [1,2,3,4]))"
   ]
  },
  {
   "cell_type": "code",
   "execution_count": null,
   "id": "0f6dedb2",
   "metadata": {},
   "outputs": [],
   "source": [
    "# You can also assign each value by index number inside the format parameters as per index number\n",
    "\n",
    "print('a = {3}, b = {0}, c = {2}, d = {4} and e = {1}'.format('Python', 2+3j, None, 10, [1,2,3,4]))"
   ]
  },
  {
   "cell_type": "code",
   "execution_count": null,
   "id": "6ee7b6ba",
   "metadata": {},
   "outputs": [],
   "source": [
    "#Or you can identify them by using temporary variables and then assign values to those temporary variables. \n",
    "\n",
    "print('a = {p}, b = {q}, c = {r}, d = {s} and e = {t}'.format(r='Python', s=2+3j, q=None, t=10, p=[1,2,3,4]))"
   ]
  },
  {
   "cell_type": "code",
   "execution_count": null,
   "id": "4a9f3993",
   "metadata": {},
   "outputs": [],
   "source": [
    "#There is also the r-string or raw string. This tells python to ignore escape characters in the string. \n",
    "\n",
    "print('Jack and\\\\t Ji\\\\nll went \\\\r\\\\nupt the hill,\\\\nto fetch \\\\t a pail of water.')"
   ]
  },
  {
   "cell_type": "code",
   "execution_count": null,
   "id": "2fdf7b10",
   "metadata": {},
   "outputs": [],
   "source": [
    "print(r'Jack and\\t Ji\\bll went \\r\\nupt the hill,\\nto fetch \\t a pail of water.')"
   ]
  },
  {
   "cell_type": "code",
   "execution_count": null,
   "id": "6f35cf4e",
   "metadata": {},
   "outputs": [],
   "source": [
    "#Note how in the first case the \\n results in new line. While with the r(rawstring) the \\n is not treated as an escape\n",
    "#character."
   ]
  },
  {
   "cell_type": "code",
   "execution_count": null,
   "id": "9bdbae0b",
   "metadata": {},
   "outputs": [],
   "source": [
    "pathname = r'D:\\MyDocuments\\Computer Learning\\Learnbay\\training Programs\\Python\\Class 4 - Data Type - Strings'"
   ]
  },
  {
   "cell_type": "code",
   "execution_count": null,
   "id": "3d77dd59",
   "metadata": {},
   "outputs": [],
   "source": [
    "print(pathname)\n",
    "print(type(pathname))"
   ]
  },
  {
   "cell_type": "code",
   "execution_count": null,
   "id": "6225e2a1",
   "metadata": {},
   "outputs": [],
   "source": [
    "x = input('Please enter anything')\n",
    "\n",
    "print(x)\n",
    "print(type(x))"
   ]
  },
  {
   "cell_type": "code",
   "execution_count": null,
   "id": "f9ce1bdb",
   "metadata": {},
   "outputs": [],
   "source": [
    "#To use a variable text as rawstring. \n",
    "\n",
    "a = 'Jack and Jill went upt the hill,\\\\nto fetch a pail of water.'\n",
    "\n",
    "print(r'{}'.format(a))\n",
    "\n",
    "#One of the few times that .format method is more useful than the f-string method.\n",
    "\n",
    "# x = input(r'jack and jill \\n went up the hill')\n",
    "# print(r'{}'.format(x))"
   ]
  },
  {
   "cell_type": "code",
   "execution_count": null,
   "id": "1e4e46f6",
   "metadata": {},
   "outputs": [],
   "source": [
    "#Rawstring 'r' method will come in very handy in later parts where you have to import files from a path into your\n",
    "# work environment. \n",
    "\n",
    "#The \\ in the path for a file location on our systems need to be escaped so the file can be imported. \n",
    "\n",
    "# 'C:\\Users\\Vikas\\Documents\\Computer Learning\\Data Science and AI Machine Learning' --> This will not work since Python\n",
    "# will get confused and escape the characters after the \\\n",
    "\n",
    "# r'C:\\Users\\Rikki\\Documents\\Computer Learning\\Data Science and AI Machine Learning' --> This will work since now the\n",
    "# \\ are being used as correctly intended - i.e. part of the path of the files location."
   ]
  },
  {
   "cell_type": "code",
   "execution_count": null,
   "id": "0aafb87a",
   "metadata": {},
   "outputs": [],
   "source": [
    "Python - Stats - Break - revise python, revise stats - Stats - Deep Learning / OOPs - Deployment - Visualisation - SQL - MongoDB -\n",
    "Visualisation - Project Management - Advanced Machine Learning"
   ]
  },
  {
   "cell_type": "code",
   "execution_count": null,
   "id": "971be4fc",
   "metadata": {},
   "outputs": [],
   "source": []
  },
  {
   "cell_type": "code",
   "execution_count": null,
   "id": "3468bf29",
   "metadata": {},
   "outputs": [],
   "source": [
    "str1='blacked'\n",
    "str2='horse'\n",
    "a=len(str1)>=len(str2)\n",
    "if(a==True):\n",
    "    high=str1\n",
    "    small= str2\n",
    "else:\n",
    "    high=str2\n",
    "    small=str1\n",
    "print('high=',high,\"small=\",small )\n",
    "\n",
    "for x in range(len(high)):\n",
    "    if x<len(small):\n",
    "        print(str1[x]+str2[x])\n",
    "        \n",
    "    else:\n",
    "        if(a==True):\n",
    "            print(str1[x]+'*')\n",
    "        else:\n",
    "            print('*'+str2[x])\n"
   ]
  },
  {
   "cell_type": "code",
   "execution_count": null,
   "id": "cc6a99fa",
   "metadata": {},
   "outputs": [],
   "source": [
    "print(dir(str))"
   ]
  },
  {
   "cell_type": "code",
   "execution_count": null,
   "id": "7bd431f8",
   "metadata": {},
   "outputs": [],
   "source": [
    "str1 = 'Hi \\tThere'\n",
    "\n",
    "str1.encode(encoding = 'ascii')"
   ]
  },
  {
   "cell_type": "code",
   "execution_count": null,
   "id": "e02dbb5f",
   "metadata": {},
   "outputs": [],
   "source": [
    "str1.expandtabs(tabsize = 20)"
   ]
  },
  {
   "cell_type": "code",
   "execution_count": null,
   "id": "197a8c0f",
   "metadata": {},
   "outputs": [],
   "source": [
    "str1 = 'Rikki Sabnaniee'"
   ]
  },
  {
   "cell_type": "code",
   "execution_count": null,
   "id": "bcd57794",
   "metadata": {},
   "outputs": [],
   "source": [
    "table = str1.maketrans('R','V')\n",
    "\n",
    "str2 = str1.translate(table)\n",
    "\n",
    "print(str2)"
   ]
  },
  {
   "cell_type": "code",
   "execution_count": null,
   "id": "a06844ab",
   "metadata": {},
   "outputs": [],
   "source": [
    "#  From str1 find ALL the occurrences of 'but' and their index positions. \n",
    "# print(count <till that point>, index position)\n",
    "# Finally print total count of 'but' in the string. \n",
    "\n",
    "# MUST use find function. DO NOT use count, do not use slicing logic. \n",
    "\n",
    "# Hint : Using find, you will need to use the start parameter\n"
   ]
  },
  {
   "cell_type": "code",
   "execution_count": null,
   "id": "4166dbb6",
   "metadata": {},
   "outputs": [],
   "source": [
    "\n",
    "str1 = 'Betty bought some butter but the butter was bitter so Betty bought some better butter to make the bitter butter \\\n",
    "better'\n",
    "\n"
   ]
  },
  {
   "cell_type": "code",
   "execution_count": null,
   "id": "7943ba0a",
   "metadata": {},
   "outputs": [],
   "source": []
  }
 ],
 "metadata": {
  "kernelspec": {
   "display_name": "Python 3 (ipykernel)",
   "language": "python",
   "name": "python3"
  },
  "language_info": {
   "codemirror_mode": {
    "name": "ipython",
    "version": 3
   },
   "file_extension": ".py",
   "mimetype": "text/x-python",
   "name": "python",
   "nbconvert_exporter": "python",
   "pygments_lexer": "ipython3",
   "version": "3.9.13"
  }
 },
 "nbformat": 4,
 "nbformat_minor": 5
}
