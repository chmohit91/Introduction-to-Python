{
 "cells": [
  {
   "cell_type": "markdown",
   "id": "f6fdc705",
   "metadata": {},
   "source": [
    "### Index\n",
    "\n",
    "- It returns the index of the first occurance of specific character or a sub-string from left to right \n",
    "- If the character or the sub-string is not found then it will throw a value error "
   ]
  },
  {
   "cell_type": "markdown",
   "id": "fdbd6b79",
   "metadata": {},
   "source": [
    "Syntax: -\n",
    "    \n",
    "    my_str.index('character')\n",
    "    my_str.index('chaarcter', starting_index)\n",
    "    my_str.index('character', starting_index, ending_inex) #ending_index will be excluded"
   ]
  },
  {
   "cell_type": "code",
   "execution_count": 5,
   "id": "c2ce699a",
   "metadata": {},
   "outputs": [
    {
     "name": "stdout",
     "output_type": "stream",
     "text": [
      "1\n",
      "3\n"
     ]
    },
    {
     "ename": "ValueError",
     "evalue": "substring not found",
     "output_type": "error",
     "traceback": [
      "\u001b[1;31m---------------------------------------------------------------------------\u001b[0m",
      "\u001b[1;31mValueError\u001b[0m                                Traceback (most recent call last)",
      "Cell \u001b[1;32mIn[5], line 4\u001b[0m\n\u001b[0;32m      2\u001b[0m \u001b[38;5;28mprint\u001b[39m(my_str\u001b[38;5;241m.\u001b[39mindex(\u001b[38;5;124m'\u001b[39m\u001b[38;5;124ma\u001b[39m\u001b[38;5;124m'\u001b[39m))\n\u001b[0;32m      3\u001b[0m \u001b[38;5;28mprint\u001b[39m(my_str\u001b[38;5;241m.\u001b[39mindex(\u001b[38;5;124m'\u001b[39m\u001b[38;5;124ma\u001b[39m\u001b[38;5;124m'\u001b[39m, \u001b[38;5;241m3\u001b[39m))\n\u001b[1;32m----> 4\u001b[0m \u001b[38;5;28mprint\u001b[39m(my_str\u001b[38;5;241m.\u001b[39mindex(\u001b[38;5;124m'\u001b[39m\u001b[38;5;124ma\u001b[39m\u001b[38;5;124m'\u001b[39m, \u001b[38;5;241m4\u001b[39m,\u001b[38;5;241m7\u001b[39m))\n",
      "\u001b[1;31mValueError\u001b[0m: substring not found"
     ]
    }
   ],
   "source": [
    "my_str = 'mayank atul ghai'\n",
    "print(my_str.index('a'))\n",
    "print(my_str.index('a', 3))\n",
    "print(my_str.index('a', 4,7))"
   ]
  },
  {
   "cell_type": "code",
   "execution_count": 6,
   "id": "558fbede",
   "metadata": {},
   "outputs": [
    {
     "data": {
      "text/plain": [
       "7"
      ]
     },
     "execution_count": 6,
     "metadata": {},
     "output_type": "execute_result"
    }
   ],
   "source": [
    "my_str.index('atul')"
   ]
  },
  {
   "cell_type": "markdown",
   "id": "d0c8e688",
   "metadata": {},
   "source": [
    "### find()\n",
    "\n",
    "- It returns the index of the first occurance of a specific character or a sub-string from left to right\n",
    "- if the character or a substring is not found, the it will return -1\n",
    "- it will return me the lowest index "
   ]
  },
  {
   "cell_type": "markdown",
   "id": "92846003",
   "metadata": {},
   "source": [
    "Syntax: -\n",
    "    \n",
    "    my_str.find('character')\n",
    "    my_str.find('chaarcter', starting_index)\n",
    "    my_str.find('character', starting_index, ending_inex) #ending_index will be excluded"
   ]
  },
  {
   "cell_type": "code",
   "execution_count": 7,
   "id": "9aa1a124",
   "metadata": {},
   "outputs": [
    {
     "data": {
      "text/plain": [
       "'mayank atul ghai'"
      ]
     },
     "execution_count": 7,
     "metadata": {},
     "output_type": "execute_result"
    }
   ],
   "source": [
    "my_str"
   ]
  },
  {
   "cell_type": "code",
   "execution_count": 8,
   "id": "b21f57d5",
   "metadata": {},
   "outputs": [
    {
     "name": "stdout",
     "output_type": "stream",
     "text": [
      "7\n"
     ]
    }
   ],
   "source": [
    "print(my_str.find('atul'))"
   ]
  },
  {
   "cell_type": "code",
   "execution_count": 9,
   "id": "548920e2",
   "metadata": {},
   "outputs": [
    {
     "name": "stdout",
     "output_type": "stream",
     "text": [
      "-1\n"
     ]
    }
   ],
   "source": [
    "print(my_str.find('f'))"
   ]
  },
  {
   "cell_type": "markdown",
   "id": "dd83a433",
   "metadata": {},
   "source": [
    "### rfind()\n",
    "\n",
    "- It read the string frpm right to left\n",
    "- it returns the index of the first occurance of a specified character or a sub-string from right to left\n",
    "- if the character or a substring is not found, then it will return -1\n",
    "- it will return me the highest index"
   ]
  },
  {
   "cell_type": "code",
   "execution_count": null,
   "id": "c789aea5",
   "metadata": {},
   "outputs": [],
   "source": [
    "Syntax: -\n",
    "    \n",
    "    my_str.rfind('character')\n",
    "    my_str.rfind('chaarcter', starting_index)\n",
    "    my_str.rfind('character', starting_index, ending_inex) #ending_index will be excluded\n",
    "    \n",
    "    The answer will always be according to Positive indexing"
   ]
  },
  {
   "cell_type": "code",
   "execution_count": 10,
   "id": "53ccd2e5",
   "metadata": {},
   "outputs": [
    {
     "data": {
      "text/plain": [
       "'mayank atul ghai'"
      ]
     },
     "execution_count": 10,
     "metadata": {},
     "output_type": "execute_result"
    }
   ],
   "source": [
    "my_str"
   ]
  },
  {
   "cell_type": "code",
   "execution_count": 11,
   "id": "96c61ff2",
   "metadata": {},
   "outputs": [
    {
     "data": {
      "text/plain": [
       "14"
      ]
     },
     "execution_count": 11,
     "metadata": {},
     "output_type": "execute_result"
    }
   ],
   "source": [
    "my_str.rfind('a')"
   ]
  },
  {
   "cell_type": "code",
   "execution_count": 12,
   "id": "1f3686ab",
   "metadata": {},
   "outputs": [
    {
     "data": {
      "text/plain": [
       "25"
      ]
     },
     "execution_count": 12,
     "metadata": {},
     "output_type": "execute_result"
    }
   ],
   "source": [
    "a = 'hello this is a python class'\n",
    "a.rfind('a', 20)"
   ]
  },
  {
   "cell_type": "code",
   "execution_count": 17,
   "id": "15d8a7c0",
   "metadata": {},
   "outputs": [
    {
     "data": {
      "text/plain": [
       "14"
      ]
     },
     "execution_count": 17,
     "metadata": {},
     "output_type": "execute_result"
    }
   ],
   "source": [
    "my_str.rfind('a', 10)"
   ]
  },
  {
   "cell_type": "code",
   "execution_count": 13,
   "id": "926beff0",
   "metadata": {},
   "outputs": [
    {
     "name": "stdout",
     "output_type": "stream",
     "text": [
      "0 h\n",
      "1 e\n",
      "2 l\n",
      "3 l\n",
      "4 o\n",
      "5  \n",
      "6 t\n",
      "7 h\n",
      "8 i\n",
      "9 s\n",
      "10  \n",
      "11 i\n",
      "12 s\n",
      "13  \n",
      "14 a\n",
      "15  \n",
      "16 p\n",
      "17 y\n",
      "18 t\n",
      "19 h\n",
      "20 o\n",
      "21 n\n",
      "22  \n",
      "23 c\n",
      "24 l\n",
      "25 a\n",
      "26 s\n",
      "27 s\n"
     ]
    }
   ],
   "source": [
    "for i, j in enumerate(a):\n",
    "    print(i,j)"
   ]
  },
  {
   "cell_type": "code",
   "execution_count": 14,
   "id": "5d173a26",
   "metadata": {},
   "outputs": [
    {
     "data": {
      "text/plain": [
       "'on class'"
      ]
     },
     "execution_count": 14,
     "metadata": {},
     "output_type": "execute_result"
    }
   ],
   "source": [
    "a[20:]"
   ]
  },
  {
   "cell_type": "code",
   "execution_count": 15,
   "id": "28004604",
   "metadata": {},
   "outputs": [
    {
     "data": {
      "text/plain": [
       "'l ghai'"
      ]
     },
     "execution_count": 15,
     "metadata": {},
     "output_type": "execute_result"
    }
   ],
   "source": [
    "my_str[10:]"
   ]
  },
  {
   "cell_type": "code",
   "execution_count": 18,
   "id": "20abbb41",
   "metadata": {},
   "outputs": [
    {
     "data": {
      "text/plain": [
       "'mayank atul ghai'"
      ]
     },
     "execution_count": 18,
     "metadata": {},
     "output_type": "execute_result"
    }
   ],
   "source": [
    "my_str"
   ]
  },
  {
   "cell_type": "code",
   "execution_count": 19,
   "id": "3f9997f6",
   "metadata": {},
   "outputs": [
    {
     "data": {
      "text/plain": [
       "'nk atul '"
      ]
     },
     "execution_count": 19,
     "metadata": {},
     "output_type": "execute_result"
    }
   ],
   "source": [
    "my_str[4:12]"
   ]
  },
  {
   "cell_type": "code",
   "execution_count": 20,
   "id": "4c550fc6",
   "metadata": {},
   "outputs": [
    {
     "data": {
      "text/plain": [
       "7"
      ]
     },
     "execution_count": 20,
     "metadata": {},
     "output_type": "execute_result"
    }
   ],
   "source": [
    "my_str.rfind('a', 4, 12)"
   ]
  },
  {
   "cell_type": "code",
   "execution_count": 21,
   "id": "829845e0",
   "metadata": {},
   "outputs": [
    {
     "data": {
      "text/plain": [
       "1"
      ]
     },
     "execution_count": 21,
     "metadata": {},
     "output_type": "execute_result"
    }
   ],
   "source": [
    "my_str.find('a')"
   ]
  },
  {
   "cell_type": "code",
   "execution_count": 26,
   "id": "64db287b",
   "metadata": {},
   "outputs": [
    {
     "data": {
      "text/plain": [
       "12"
      ]
     },
     "execution_count": 26,
     "metadata": {},
     "output_type": "execute_result"
    }
   ],
   "source": [
    "my_str.rfind('g', -6, -1)"
   ]
  },
  {
   "cell_type": "code",
   "execution_count": 27,
   "id": "56b11d58",
   "metadata": {},
   "outputs": [
    {
     "data": {
      "text/plain": [
       "'l gha'"
      ]
     },
     "execution_count": 27,
     "metadata": {},
     "output_type": "execute_result"
    }
   ],
   "source": [
    "my_str[-6:-1]"
   ]
  },
  {
   "cell_type": "markdown",
   "id": "31f4fc33",
   "metadata": {},
   "source": [
    "### Spilt()\n",
    "\n",
    "- It splits the string from a specified character and returns me the list\n",
    "- By default, in split the default character is the space "
   ]
  },
  {
   "cell_type": "code",
   "execution_count": 28,
   "id": "a25d8d22",
   "metadata": {},
   "outputs": [
    {
     "data": {
      "text/plain": [
       "'mayank atul ghai'"
      ]
     },
     "execution_count": 28,
     "metadata": {},
     "output_type": "execute_result"
    }
   ],
   "source": [
    "my_str"
   ]
  },
  {
   "cell_type": "code",
   "execution_count": 29,
   "id": "11c05b09",
   "metadata": {},
   "outputs": [
    {
     "data": {
      "text/plain": [
       "['mayank', 'atul', 'ghai']"
      ]
     },
     "execution_count": 29,
     "metadata": {},
     "output_type": "execute_result"
    }
   ],
   "source": [
    "my_str.split()"
   ]
  },
  {
   "cell_type": "code",
   "execution_count": 30,
   "id": "eb49066c",
   "metadata": {},
   "outputs": [
    {
     "data": {
      "text/plain": [
       "['mayank-atul-ghai']"
      ]
     },
     "execution_count": 30,
     "metadata": {},
     "output_type": "execute_result"
    }
   ],
   "source": [
    "my_str = 'mayank-atul-ghai'\n",
    "my_str.split()\n",
    "# it will give me just one answer because there is no space to do segmentation"
   ]
  },
  {
   "cell_type": "code",
   "execution_count": 31,
   "id": "0dcabbf9",
   "metadata": {},
   "outputs": [
    {
     "data": {
      "text/plain": [
       "['mayank', 'atul', 'ghai']"
      ]
     },
     "execution_count": 31,
     "metadata": {},
     "output_type": "execute_result"
    }
   ],
   "source": [
    "my_str = 'mayank-atul-ghai'\n",
    "my_str.split('-')"
   ]
  },
  {
   "cell_type": "code",
   "execution_count": 32,
   "id": "e19d396d",
   "metadata": {},
   "outputs": [
    {
     "data": {
      "text/plain": [
       "['maynakatulghai', 'gmail.com']"
      ]
     },
     "execution_count": 32,
     "metadata": {},
     "output_type": "execute_result"
    }
   ],
   "source": [
    "a = 'maynakatulghai@gmail.com'\n",
    "a.split('@')"
   ]
  },
  {
   "cell_type": "code",
   "execution_count": 33,
   "id": "5bcf6d01",
   "metadata": {},
   "outputs": [
    {
     "ename": "ValueError",
     "evalue": "empty separator",
     "output_type": "error",
     "traceback": [
      "\u001b[1;31m---------------------------------------------------------------------------\u001b[0m",
      "\u001b[1;31mValueError\u001b[0m                                Traceback (most recent call last)",
      "Cell \u001b[1;32mIn[33], line 2\u001b[0m\n\u001b[0;32m      1\u001b[0m my_str \u001b[38;5;241m=\u001b[39m \u001b[38;5;124m'\u001b[39m\u001b[38;5;124mmayank atul ghai\u001b[39m\u001b[38;5;124m'\u001b[39m\n\u001b[1;32m----> 2\u001b[0m my_str\u001b[38;5;241m.\u001b[39msplit(\u001b[38;5;124m'\u001b[39m\u001b[38;5;124m'\u001b[39m)\n",
      "\u001b[1;31mValueError\u001b[0m: empty separator"
     ]
    }
   ],
   "source": [
    "my_str = 'mayank atul ghai'\n",
    "my_str.split('') #empty string , i do have to pass some arguments "
   ]
  },
  {
   "cell_type": "code",
   "execution_count": 34,
   "id": "c5906677",
   "metadata": {},
   "outputs": [
    {
     "data": {
      "text/plain": [
       "'mayank atul ghai'"
      ]
     },
     "execution_count": 34,
     "metadata": {},
     "output_type": "execute_result"
    }
   ],
   "source": [
    "my_str"
   ]
  },
  {
   "cell_type": "code",
   "execution_count": 35,
   "id": "8f333a3d",
   "metadata": {},
   "outputs": [
    {
     "data": {
      "text/plain": [
       "['mayank ', ' ghai']"
      ]
     },
     "execution_count": 35,
     "metadata": {},
     "output_type": "execute_result"
    }
   ],
   "source": [
    "my_str.split('atul')"
   ]
  },
  {
   "cell_type": "code",
   "execution_count": 36,
   "id": "3c942af2",
   "metadata": {},
   "outputs": [
    {
     "data": {
      "text/plain": [
       "['m', 'y', 'nk ', 'tul gh', 'i']"
      ]
     },
     "execution_count": 36,
     "metadata": {},
     "output_type": "execute_result"
    }
   ],
   "source": [
    "my_str.split('a')"
   ]
  },
  {
   "cell_type": "code",
   "execution_count": 37,
   "id": "4c470667",
   "metadata": {},
   "outputs": [],
   "source": [
    "my_str = '''My name is Mayank Ghai\n",
    "I am a trainer at Learnbay\n",
    "I also works as a Data Analyst'''"
   ]
  },
  {
   "cell_type": "code",
   "execution_count": 39,
   "id": "5be0cab3",
   "metadata": {},
   "outputs": [],
   "source": [
    "b = my_str.split()"
   ]
  },
  {
   "cell_type": "code",
   "execution_count": 40,
   "id": "8701f3f5",
   "metadata": {},
   "outputs": [
    {
     "name": "stdout",
     "output_type": "stream",
     "text": [
      "['My', 'name', 'is', 'Mayank', 'Ghai', 'I', 'am', 'a', 'trainer', 'at', 'Learnbay', 'I', 'also', 'works', 'as', 'a', 'Data', 'Analyst'] <class 'list'>\n"
     ]
    }
   ],
   "source": [
    "print(b, type(b))"
   ]
  },
  {
   "cell_type": "markdown",
   "id": "627296d2",
   "metadata": {},
   "source": [
    "### Splitlines()\n",
    "\n",
    "- \\n ------> new line\n",
    "- it will by default will split the values as it encounter a \\n"
   ]
  },
  {
   "cell_type": "code",
   "execution_count": 43,
   "id": "80a00093",
   "metadata": {},
   "outputs": [],
   "source": [
    "my_str = '''My name is Mayank Atul Ghai. \\nI am a Trainer at Learnbay. \\nI also work as Sr. Data Analyst'''"
   ]
  },
  {
   "cell_type": "code",
   "execution_count": 44,
   "id": "c429ac34",
   "metadata": {},
   "outputs": [
    {
     "name": "stdout",
     "output_type": "stream",
     "text": [
      "My name is Mayank Atul Ghai. \n",
      "I am a Trainer at Learnbay. \n",
      "I also work as Sr. Data Analyst\n"
     ]
    }
   ],
   "source": [
    "print(my_str)"
   ]
  },
  {
   "cell_type": "code",
   "execution_count": 45,
   "id": "960c9e25",
   "metadata": {},
   "outputs": [
    {
     "data": {
      "text/plain": [
       "['My name is Mayank Atul Ghai. ',\n",
       " 'I am a Trainer at Learnbay. ',\n",
       " 'I also work as Sr. Data Analyst']"
      ]
     },
     "execution_count": 45,
     "metadata": {},
     "output_type": "execute_result"
    }
   ],
   "source": [
    "my_str.splitlines()"
   ]
  },
  {
   "cell_type": "code",
   "execution_count": 47,
   "id": "03fc7a2e",
   "metadata": {},
   "outputs": [],
   "source": [
    "my_str1 = '''My name is Mayank Ghai\n",
    "I am a trainer at Learnbay\n",
    "I also works as a Data Analyst'''"
   ]
  },
  {
   "cell_type": "code",
   "execution_count": 48,
   "id": "baaf0d43",
   "metadata": {},
   "outputs": [
    {
     "data": {
      "text/plain": [
       "['My name is Mayank Ghai',\n",
       " 'I am a trainer at Learnbay',\n",
       " 'I also works as a Data Analyst']"
      ]
     },
     "execution_count": 48,
     "metadata": {},
     "output_type": "execute_result"
    }
   ],
   "source": [
    "my_str1.splitlines()"
   ]
  },
  {
   "cell_type": "markdown",
   "id": "595c950c",
   "metadata": {},
   "source": [
    "### Join()\n",
    "\n",
    "- It combines the element of a list seperated by a specified character and return a string\n"
   ]
  },
  {
   "cell_type": "markdown",
   "id": "ed460324",
   "metadata": {},
   "source": [
    "Syntax:-\n",
    "    \n",
    "    'character'.join(lst)"
   ]
  },
  {
   "cell_type": "code",
   "execution_count": 50,
   "id": "2c8b80aa",
   "metadata": {},
   "outputs": [],
   "source": [
    "lst = ['hello', 'this', 'is', 'a', 'Python', 'Class']"
   ]
  },
  {
   "cell_type": "code",
   "execution_count": 51,
   "id": "208667fc",
   "metadata": {},
   "outputs": [
    {
     "name": "stdout",
     "output_type": "stream",
     "text": [
      "hello this is a Python Class\n"
     ]
    }
   ],
   "source": [
    "x = ' '.join(lst) #take space in between \n",
    "print(x)"
   ]
  },
  {
   "cell_type": "code",
   "execution_count": 52,
   "id": "b6a9927f",
   "metadata": {},
   "outputs": [
    {
     "data": {
      "text/plain": [
       "str"
      ]
     },
     "execution_count": 52,
     "metadata": {},
     "output_type": "execute_result"
    }
   ],
   "source": [
    "type(x)"
   ]
  },
  {
   "cell_type": "code",
   "execution_count": 53,
   "id": "12abd675",
   "metadata": {},
   "outputs": [],
   "source": [
    "y = '@'.join(lst) #take @ in between "
   ]
  },
  {
   "cell_type": "code",
   "execution_count": 54,
   "id": "d7df1976",
   "metadata": {},
   "outputs": [
    {
     "data": {
      "text/plain": [
       "'hello@this@is@a@Python@Class'"
      ]
     },
     "execution_count": 54,
     "metadata": {},
     "output_type": "execute_result"
    }
   ],
   "source": [
    "y"
   ]
  },
  {
   "cell_type": "code",
   "execution_count": 55,
   "id": "efa70a72",
   "metadata": {},
   "outputs": [],
   "source": [
    "z = ''.join(lst) #take no space in between"
   ]
  },
  {
   "cell_type": "code",
   "execution_count": 56,
   "id": "5e0238aa",
   "metadata": {},
   "outputs": [
    {
     "data": {
      "text/plain": [
       "'hellothisisaPythonClass'"
      ]
     },
     "execution_count": 56,
     "metadata": {},
     "output_type": "execute_result"
    }
   ],
   "source": [
    "z"
   ]
  },
  {
   "cell_type": "markdown",
   "id": "fa7a687e",
   "metadata": {},
   "source": [
    "### Strip()\n",
    "\n",
    "- It removes the specified character from left to right side of the string\n",
    "- by default it removes the space character from left to right \n",
    "\n",
    "#### Note:- It removes the boundary character not the character in between"
   ]
  },
  {
   "cell_type": "code",
   "execution_count": 57,
   "id": "fd537800",
   "metadata": {},
   "outputs": [
    {
     "data": {
      "text/plain": [
       "'150'"
      ]
     },
     "execution_count": 57,
     "metadata": {},
     "output_type": "execute_result"
    }
   ],
   "source": [
    "my_str = '$150$'\n",
    "my_str.strip('$')"
   ]
  },
  {
   "cell_type": "code",
   "execution_count": 58,
   "id": "4604030c",
   "metadata": {},
   "outputs": [
    {
     "data": {
      "text/plain": [
       "'1$5$0'"
      ]
     },
     "execution_count": 58,
     "metadata": {},
     "output_type": "execute_result"
    }
   ],
   "source": [
    "my_str = '$1$5$0$'\n",
    "my_str.strip('$')"
   ]
  },
  {
   "cell_type": "code",
   "execution_count": 59,
   "id": "6038f32f",
   "metadata": {},
   "outputs": [
    {
     "data": {
      "text/plain": [
       "'Mayank         Atul        Ghai'"
      ]
     },
     "execution_count": 59,
     "metadata": {},
     "output_type": "execute_result"
    }
   ],
   "source": [
    "my_str = '      Mayank         Atul        Ghai                 '\n",
    "p = my_str.strip()\n",
    "p"
   ]
  },
  {
   "cell_type": "markdown",
   "id": "1259c42d",
   "metadata": {},
   "source": [
    "### lstrip()\n",
    "\n",
    "- It removes the specified character from the left side of the strong\n",
    "- By default, it will remove space character"
   ]
  },
  {
   "cell_type": "code",
   "execution_count": 60,
   "id": "b4754c62",
   "metadata": {},
   "outputs": [
    {
     "data": {
      "text/plain": [
       "'150$$$'"
      ]
     },
     "execution_count": 60,
     "metadata": {},
     "output_type": "execute_result"
    }
   ],
   "source": [
    "my_str = '$$$150$$$'\n",
    "my_str.lstrip('$')"
   ]
  },
  {
   "cell_type": "markdown",
   "id": "a226daf6",
   "metadata": {},
   "source": [
    "### rstrip()\n",
    "\n",
    "- It removes the specified character from the right side of the strong\n",
    "- By default, it will remove space character"
   ]
  },
  {
   "cell_type": "code",
   "execution_count": 61,
   "id": "94736308",
   "metadata": {},
   "outputs": [
    {
     "data": {
      "text/plain": [
       "'$$$150'"
      ]
     },
     "execution_count": 61,
     "metadata": {},
     "output_type": "execute_result"
    }
   ],
   "source": [
    "my_str = '$$$150$$$'\n",
    "my_str.rstrip('$')"
   ]
  },
  {
   "cell_type": "code",
   "execution_count": 63,
   "id": "9eb7bcba",
   "metadata": {
    "scrolled": true
   },
   "outputs": [
    {
     "name": "stdout",
     "output_type": "stream",
     "text": [
      "Python\n",
      "Python********\n",
      "*******Python\n"
     ]
    }
   ],
   "source": [
    "my_str = '*******Python********'\n",
    "print(my_str.strip('*'))\n",
    "print(my_str.lstrip('*'))\n",
    "print(my_str.rstrip('*'))"
   ]
  },
  {
   "cell_type": "code",
   "execution_count": 66,
   "id": "b2dab8ef",
   "metadata": {},
   "outputs": [
    {
     "data": {
      "text/plain": [
       "'Mayank         Atul        Ghai'"
      ]
     },
     "execution_count": 66,
     "metadata": {},
     "output_type": "execute_result"
    }
   ],
   "source": [
    "my_str = '      Mayank         Atul        Ghai                 '\n",
    "my_str.strip()"
   ]
  },
  {
   "cell_type": "code",
   "execution_count": 67,
   "id": "61fa3116",
   "metadata": {},
   "outputs": [
    {
     "data": {
      "text/plain": [
       "'Mayank         Atul        Ghai                 '"
      ]
     },
     "execution_count": 67,
     "metadata": {},
     "output_type": "execute_result"
    }
   ],
   "source": [
    "my_str.lstrip()"
   ]
  },
  {
   "cell_type": "code",
   "execution_count": 68,
   "id": "71fb21de",
   "metadata": {},
   "outputs": [
    {
     "data": {
      "text/plain": [
       "'      Mayank         Atul        Ghai'"
      ]
     },
     "execution_count": 68,
     "metadata": {},
     "output_type": "execute_result"
    }
   ],
   "source": [
    "my_str.rstrip()"
   ]
  },
  {
   "cell_type": "markdown",
   "id": "2bbafb02",
   "metadata": {},
   "source": [
    "### ljust, rjust and center\n",
    "\n",
    "- these are the justification methods\n",
    "- these function are used to add a specified character on the left or on the right or in the center of a string"
   ]
  },
  {
   "cell_type": "markdown",
   "id": "516f1655",
   "metadata": {},
   "source": [
    "### ljust()\n",
    "\n",
    "- It reads the string form left to right\n",
    "- It adds the specified character to the right of the string"
   ]
  },
  {
   "cell_type": "markdown",
   "id": "0a423b53",
   "metadata": {},
   "source": [
    "Syntax:- \n",
    "    \n",
    "    my_str.ljust('length of the resultant string', 'Character ')\n",
    "    my_str.ljust(len(string)+number of character, 'character ')"
   ]
  },
  {
   "cell_type": "code",
   "execution_count": 70,
   "id": "bdf57916",
   "metadata": {},
   "outputs": [
    {
     "data": {
      "text/plain": [
       "'python---'"
      ]
     },
     "execution_count": 70,
     "metadata": {},
     "output_type": "execute_result"
    }
   ],
   "source": [
    "my_str = \"python\" #python---\n",
    "my_str.ljust(len(my_str)+3, '-')"
   ]
  },
  {
   "cell_type": "code",
   "execution_count": 71,
   "id": "ec337920",
   "metadata": {},
   "outputs": [
    {
     "data": {
      "text/plain": [
       "'python@@@@@'"
      ]
     },
     "execution_count": 71,
     "metadata": {},
     "output_type": "execute_result"
    }
   ],
   "source": [
    "my_str = \"python\" #python@@@@@\n",
    "my_str.ljust(len(my_str)+5, '@')"
   ]
  },
  {
   "cell_type": "code",
   "execution_count": 72,
   "id": "bac1eb72",
   "metadata": {},
   "outputs": [
    {
     "data": {
      "text/plain": [
       "'Hello Everyone*******'"
      ]
     },
     "execution_count": 72,
     "metadata": {},
     "output_type": "execute_result"
    }
   ],
   "source": [
    "my_str = 'Hello Everyone' # Hello Everyone*******\n",
    "my_str.ljust(len(my_str)+7, '*')"
   ]
  },
  {
   "cell_type": "code",
   "execution_count": 73,
   "id": "83b7a1bf",
   "metadata": {},
   "outputs": [
    {
     "data": {
      "text/plain": [
       "'Hello Everyone'"
      ]
     },
     "execution_count": 73,
     "metadata": {},
     "output_type": "execute_result"
    }
   ],
   "source": [
    "my_str = 'Hello Everyone' # Hello Everyone*******\n",
    "my_str.ljust(len(my_str), '*')"
   ]
  },
  {
   "cell_type": "code",
   "execution_count": 74,
   "id": "3ee2c47d",
   "metadata": {},
   "outputs": [
    {
     "data": {
      "text/plain": [
       "'Hello Everyone'"
      ]
     },
     "execution_count": 74,
     "metadata": {},
     "output_type": "execute_result"
    }
   ],
   "source": [
    "my_str.ljust(len(my_str)-2, '*')"
   ]
  },
  {
   "cell_type": "code",
   "execution_count": 75,
   "id": "893e70fa",
   "metadata": {},
   "outputs": [
    {
     "data": {
      "text/plain": [
       "'Hello Everyone  '"
      ]
     },
     "execution_count": 75,
     "metadata": {},
     "output_type": "execute_result"
    }
   ],
   "source": [
    "my_str = 'Hello Everyone  ' # Hello Everyone*******\n",
    "my_str.ljust(len(my_str)-2, '*')"
   ]
  },
  {
   "cell_type": "code",
   "execution_count": 76,
   "id": "b2630df3",
   "metadata": {},
   "outputs": [
    {
     "ename": "TypeError",
     "evalue": "The fill character must be exactly one character long",
     "output_type": "error",
     "traceback": [
      "\u001b[1;31m---------------------------------------------------------------------------\u001b[0m",
      "\u001b[1;31mTypeError\u001b[0m                                 Traceback (most recent call last)",
      "Cell \u001b[1;32mIn[76], line 2\u001b[0m\n\u001b[0;32m      1\u001b[0m my_str \u001b[38;5;241m=\u001b[39m \u001b[38;5;124m'\u001b[39m\u001b[38;5;124mPython\u001b[39m\u001b[38;5;124m'\u001b[39m \u001b[38;5;66;03m# Hello Everyone*******\u001b[39;00m\n\u001b[1;32m----> 2\u001b[0m my_str\u001b[38;5;241m.\u001b[39mljust(\u001b[38;5;28mlen\u001b[39m(my_str)\u001b[38;5;241m+\u001b[39m\u001b[38;5;241m6\u001b[39m, \u001b[38;5;124m'\u001b[39m\u001b[38;5;124m Class\u001b[39m\u001b[38;5;124m'\u001b[39m)\n",
      "\u001b[1;31mTypeError\u001b[0m: The fill character must be exactly one character long"
     ]
    }
   ],
   "source": [
    "my_str = 'Python' # Hello Everyone*******\n",
    "my_str.ljust(len(my_str)+6, ' Class')"
   ]
  },
  {
   "cell_type": "markdown",
   "id": "b44c7dbf",
   "metadata": {},
   "source": [
    "### rjust()\n",
    "\n",
    "- It will read from right to left\n",
    "- It adds specified character on left side of the string"
   ]
  },
  {
   "cell_type": "markdown",
   "id": "22f73e50",
   "metadata": {},
   "source": [
    "Syntax:- \n",
    "    \n",
    "    my_str.rjust('length of the resultant string', 'Character ')\n",
    "    my_str.rjust(len(string)+number of character, 'character ')"
   ]
  },
  {
   "cell_type": "code",
   "execution_count": 78,
   "id": "ef7d60bf",
   "metadata": {},
   "outputs": [
    {
     "data": {
      "text/plain": [
       "'Python'"
      ]
     },
     "execution_count": 78,
     "metadata": {},
     "output_type": "execute_result"
    }
   ],
   "source": [
    "my_str"
   ]
  },
  {
   "cell_type": "code",
   "execution_count": 79,
   "id": "bb75d615",
   "metadata": {},
   "outputs": [
    {
     "data": {
      "text/plain": [
       "'#####Python'"
      ]
     },
     "execution_count": 79,
     "metadata": {},
     "output_type": "execute_result"
    }
   ],
   "source": [
    "my_str.rjust(len(my_str)+5, '#')"
   ]
  },
  {
   "cell_type": "markdown",
   "id": "0a095911",
   "metadata": {},
   "source": [
    "### Center()\n",
    "\n",
    "- It adds the specified character on both the side of the string"
   ]
  },
  {
   "cell_type": "markdown",
   "id": "f953ddee",
   "metadata": {},
   "source": [
    "Syntax:- \n",
    "    \n",
    "    my_str.center('length of the resultant string', 'Character ')\n",
    "    my_str.center(len(string)+number of character, 'character ')"
   ]
  },
  {
   "cell_type": "code",
   "execution_count": 83,
   "id": "74e44069",
   "metadata": {},
   "outputs": [
    {
     "data": {
      "text/plain": [
       "'Python'"
      ]
     },
     "execution_count": 83,
     "metadata": {},
     "output_type": "execute_result"
    }
   ],
   "source": [
    "my_str"
   ]
  },
  {
   "cell_type": "code",
   "execution_count": 84,
   "id": "117bfcec",
   "metadata": {},
   "outputs": [
    {
     "data": {
      "text/plain": [
       "'**********Python*********'"
      ]
     },
     "execution_count": 84,
     "metadata": {},
     "output_type": "execute_result"
    }
   ],
   "source": [
    "my_str.center(len(my_str)+19, '*')"
   ]
  },
  {
   "cell_type": "markdown",
   "id": "5f433082",
   "metadata": {},
   "source": [
    "### To add one specified character in the left hand side and the other specified character on the right side"
   ]
  },
  {
   "cell_type": "code",
   "execution_count": null,
   "id": "aaf864ba",
   "metadata": {},
   "outputs": [],
   "source": [
    "my_str = 'Data'\n",
    "Output = '++Data--'\n",
    "\n",
    "my_str.ljust(len(my_str)+2,'-').rjust(len(my_str)+2+2, '+')"
   ]
  },
  {
   "cell_type": "code",
   "execution_count": 86,
   "id": "1d7880c6",
   "metadata": {},
   "outputs": [
    {
     "data": {
      "text/plain": [
       "'Python--'"
      ]
     },
     "execution_count": 86,
     "metadata": {},
     "output_type": "execute_result"
    }
   ],
   "source": [
    "b = my_str.ljust(len(my_str)+2,'-')\n",
    "b"
   ]
  },
  {
   "cell_type": "code",
   "execution_count": 89,
   "id": "bf780e01",
   "metadata": {},
   "outputs": [
    {
     "data": {
      "text/plain": [
       "'++Python--'"
      ]
     },
     "execution_count": 89,
     "metadata": {},
     "output_type": "execute_result"
    }
   ],
   "source": [
    "b.rjust(len(my_str)+2+2, '+')"
   ]
  },
  {
   "cell_type": "markdown",
   "id": "ab4fc004",
   "metadata": {},
   "source": [
    "### isalnum()\n",
    "\n",
    "- It will return me a True, if all the characters in the string are alphanumeric else it will return a False\n",
    "- Alphanumeric means it should have - A-Z, a-z, 0-9"
   ]
  },
  {
   "cell_type": "code",
   "execution_count": 90,
   "id": "fbaec3c5",
   "metadata": {},
   "outputs": [],
   "source": [
    "my_str = 'Data'"
   ]
  },
  {
   "cell_type": "code",
   "execution_count": 91,
   "id": "cd1b41d4",
   "metadata": {},
   "outputs": [
    {
     "name": "stdout",
     "output_type": "stream",
     "text": [
      "True\n"
     ]
    }
   ],
   "source": [
    "print(my_str.isalnum())"
   ]
  },
  {
   "cell_type": "code",
   "execution_count": 92,
   "id": "f17a54b2",
   "metadata": {},
   "outputs": [
    {
     "name": "stdout",
     "output_type": "stream",
     "text": [
      "True\n"
     ]
    }
   ],
   "source": [
    "my_str = 'Data123'\n",
    "print(my_str.isalnum())"
   ]
  },
  {
   "cell_type": "code",
   "execution_count": 93,
   "id": "e923583e",
   "metadata": {},
   "outputs": [
    {
     "name": "stdout",
     "output_type": "stream",
     "text": [
      "False\n"
     ]
    }
   ],
   "source": [
    "my_str = 'Data123@'\n",
    "print(my_str.isalnum())"
   ]
  },
  {
   "cell_type": "code",
   "execution_count": 94,
   "id": "958156cb",
   "metadata": {},
   "outputs": [
    {
     "name": "stdout",
     "output_type": "stream",
     "text": [
      "True\n"
     ]
    }
   ],
   "source": [
    "my_str = 'DATA'\n",
    "print(my_str.isalnum())"
   ]
  },
  {
   "cell_type": "markdown",
   "id": "893f1c97",
   "metadata": {},
   "source": [
    "### isalpha()\n",
    "\n",
    "- It returns True if all the characters in the string are alphabets else False\n",
    "- Here the string should be a combination of A-Z and a-z\n",
    "- NO digits and special characters are allowed "
   ]
  },
  {
   "cell_type": "code",
   "execution_count": 95,
   "id": "1196e3bf",
   "metadata": {},
   "outputs": [
    {
     "name": "stdout",
     "output_type": "stream",
     "text": [
      "True\n"
     ]
    }
   ],
   "source": [
    "my_str = 'DATA'\n",
    "print(my_str.isalpha())"
   ]
  },
  {
   "cell_type": "code",
   "execution_count": 96,
   "id": "fa3229fb",
   "metadata": {},
   "outputs": [
    {
     "name": "stdout",
     "output_type": "stream",
     "text": [
      "False\n"
     ]
    }
   ],
   "source": [
    "my_str = 'Data123@'\n",
    "print(my_str.isalpha())"
   ]
  },
  {
   "cell_type": "markdown",
   "id": "a37f9123",
   "metadata": {},
   "source": [
    "### isupper()\n",
    "\n",
    "- It returns True if all the alphabets in the string are in the upper case else False"
   ]
  },
  {
   "cell_type": "code",
   "execution_count": 97,
   "id": "a72cc0c9",
   "metadata": {},
   "outputs": [
    {
     "name": "stdout",
     "output_type": "stream",
     "text": [
      "True\n"
     ]
    }
   ],
   "source": [
    "my_str = 'DATA SCIENCE'\n",
    "print(my_str.isupper())"
   ]
  },
  {
   "cell_type": "code",
   "execution_count": 98,
   "id": "3c349b40",
   "metadata": {},
   "outputs": [
    {
     "name": "stdout",
     "output_type": "stream",
     "text": [
      "True\n"
     ]
    }
   ],
   "source": [
    "my_str = 'DATA SCIENCE12345@'\n",
    "print(my_str.isupper())"
   ]
  },
  {
   "cell_type": "code",
   "execution_count": 99,
   "id": "d08285fe",
   "metadata": {},
   "outputs": [
    {
     "name": "stdout",
     "output_type": "stream",
     "text": [
      "False\n"
     ]
    }
   ],
   "source": [
    "my_str = 'DATA SCIence12345@'\n",
    "print(my_str.isupper())"
   ]
  },
  {
   "cell_type": "markdown",
   "id": "85a901b0",
   "metadata": {},
   "source": [
    "### islower()\n",
    "\n",
    "- It returns True if all the alphabets in the string are in the lower case else False"
   ]
  },
  {
   "cell_type": "code",
   "execution_count": 100,
   "id": "b4dd8f6b",
   "metadata": {},
   "outputs": [
    {
     "name": "stdout",
     "output_type": "stream",
     "text": [
      "False\n"
     ]
    }
   ],
   "source": [
    "my_str = 'DATA SCIence12345@'\n",
    "print(my_str.islower())"
   ]
  },
  {
   "cell_type": "code",
   "execution_count": 101,
   "id": "29a3b2f6",
   "metadata": {},
   "outputs": [
    {
     "name": "stdout",
     "output_type": "stream",
     "text": [
      "True\n"
     ]
    }
   ],
   "source": [
    "my_str = 'data science12345@'\n",
    "print(my_str.islower())"
   ]
  },
  {
   "cell_type": "markdown",
   "id": "71502dbb",
   "metadata": {},
   "source": [
    "### istitle()\n",
    "\n",
    "- It returns True if the string is in Title case\n",
    "- Title case ----> The first character of each word should be in the uppercase"
   ]
  },
  {
   "cell_type": "code",
   "execution_count": 102,
   "id": "8ae2a118",
   "metadata": {},
   "outputs": [
    {
     "data": {
      "text/plain": [
       "True"
      ]
     },
     "execution_count": 102,
     "metadata": {},
     "output_type": "execute_result"
    }
   ],
   "source": [
    "my_str = 'This Is A Python Class @'\n",
    "my_str.istitle()"
   ]
  },
  {
   "cell_type": "code",
   "execution_count": 103,
   "id": "99a9aff8",
   "metadata": {},
   "outputs": [
    {
     "data": {
      "text/plain": [
       "True"
      ]
     },
     "execution_count": 103,
     "metadata": {},
     "output_type": "execute_result"
    }
   ],
   "source": [
    "my_str = 'This Is A Python Class'\n",
    "my_str.istitle()"
   ]
  },
  {
   "cell_type": "code",
   "execution_count": 104,
   "id": "2a49edec",
   "metadata": {},
   "outputs": [
    {
     "data": {
      "text/plain": [
       "False"
      ]
     },
     "execution_count": 104,
     "metadata": {},
     "output_type": "execute_result"
    }
   ],
   "source": [
    "my_str = 'Mayank atul Ghai'\n",
    "my_str.istitle()"
   ]
  },
  {
   "cell_type": "markdown",
   "id": "7e48f0fc",
   "metadata": {},
   "source": [
    "### isspace()\n",
    "\n",
    "- It will return a True if all the characters in the string are space characters \n",
    "- Space character ----> \\n, \\v, \\r, \\t, space"
   ]
  },
  {
   "cell_type": "code",
   "execution_count": 105,
   "id": "d8195951",
   "metadata": {},
   "outputs": [
    {
     "data": {
      "text/plain": [
       "True"
      ]
     },
     "execution_count": 105,
     "metadata": {},
     "output_type": "execute_result"
    }
   ],
   "source": [
    "my_str = ' '\n",
    "my_str.isspace()"
   ]
  },
  {
   "cell_type": "code",
   "execution_count": 106,
   "id": "8ebd42e4",
   "metadata": {},
   "outputs": [
    {
     "data": {
      "text/plain": [
       "True"
      ]
     },
     "execution_count": 106,
     "metadata": {},
     "output_type": "execute_result"
    }
   ],
   "source": [
    "my_str = '\\n'\n",
    "my_str.isspace()"
   ]
  },
  {
   "cell_type": "code",
   "execution_count": 107,
   "id": "b856da15",
   "metadata": {},
   "outputs": [
    {
     "data": {
      "text/plain": [
       "True"
      ]
     },
     "execution_count": 107,
     "metadata": {},
     "output_type": "execute_result"
    }
   ],
   "source": [
    "my_str = '\\t'\n",
    "my_str.isspace()"
   ]
  },
  {
   "cell_type": "code",
   "execution_count": 108,
   "id": "49c8a14b",
   "metadata": {},
   "outputs": [
    {
     "data": {
      "text/plain": [
       "False"
      ]
     },
     "execution_count": 108,
     "metadata": {},
     "output_type": "execute_result"
    }
   ],
   "source": [
    "my_str = '_'\n",
    "my_str.isspace()"
   ]
  },
  {
   "cell_type": "code",
   "execution_count": 113,
   "id": "88579634",
   "metadata": {},
   "outputs": [
    {
     "name": "stdout",
     "output_type": "stream",
     "text": [
      " Ghai\n"
     ]
    }
   ],
   "source": [
    "a = '''Mayank\\r Atul\\r Ghai'''\n",
    "print(a)"
   ]
  },
  {
   "cell_type": "code",
   "execution_count": 114,
   "id": "92e3b3d8",
   "metadata": {},
   "outputs": [
    {
     "name": "stdout",
     "output_type": "stream",
     "text": [
      "\\n\n"
     ]
    }
   ],
   "source": [
    "print('\\\\n')"
   ]
  },
  {
   "cell_type": "code",
   "execution_count": 117,
   "id": "0ddccbdb",
   "metadata": {},
   "outputs": [
    {
     "name": "stdout",
     "output_type": "stream",
     "text": [
      "Mayank '\n",
      "' GHai\n"
     ]
    }
   ],
   "source": [
    "print(\"Mayank '\\n' GHai\")"
   ]
  },
  {
   "cell_type": "code",
   "execution_count": 118,
   "id": "a71f2dbc",
   "metadata": {},
   "outputs": [
    {
     "data": {
      "text/plain": [
       "'0o23224'"
      ]
     },
     "execution_count": 118,
     "metadata": {},
     "output_type": "execute_result"
    }
   ],
   "source": [
    "oct(9876)"
   ]
  },
  {
   "cell_type": "code",
   "execution_count": 120,
   "id": "f6846f88",
   "metadata": {},
   "outputs": [
    {
     "data": {
      "text/plain": [
       "'0x2694'"
      ]
     },
     "execution_count": 120,
     "metadata": {},
     "output_type": "execute_result"
    }
   ],
   "source": [
    "hex(9876)"
   ]
  },
  {
   "cell_type": "code",
   "execution_count": null,
   "id": "8d74a8bb",
   "metadata": {},
   "outputs": [],
   "source": []
  }
 ],
 "metadata": {
  "kernelspec": {
   "display_name": "Python 3 (ipykernel)",
   "language": "python",
   "name": "python3"
  },
  "language_info": {
   "codemirror_mode": {
    "name": "ipython",
    "version": 3
   },
   "file_extension": ".py",
   "mimetype": "text/x-python",
   "name": "python",
   "nbconvert_exporter": "python",
   "pygments_lexer": "ipython3",
   "version": "3.11.5"
  }
 },
 "nbformat": 4,
 "nbformat_minor": 5
}
