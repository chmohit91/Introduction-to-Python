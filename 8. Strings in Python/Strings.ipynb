{
 "cells": [
  {
   "cell_type": "markdown",
   "id": "06055329",
   "metadata": {},
   "source": [
    "### Operation that we can do on a string \n",
    "\n",
    "- Length \n",
    "- Concatenation \n",
    "- Repetitions \n",
    "- Indexing and slicing (Important)"
   ]
  },
  {
   "cell_type": "markdown",
   "id": "56470c5a",
   "metadata": {},
   "source": [
    "#### Length of the string\n",
    "\n",
    "- How many number of the elements (character) are there inside the string\n",
    "- len() function is used to find the length of the string"
   ]
  },
  {
   "cell_type": "markdown",
   "id": "5d6c279c",
   "metadata": {},
   "source": [
    "Syntax:- \n",
    "\n",
    "    a = '........' or \"........\"\n",
    "    print(len(a))\n",
    "    \n",
    "len(a) -----> check the value stored in a ---- > count the number of characters in the word-----> return me the length of the string"
   ]
  },
  {
   "cell_type": "code",
   "execution_count": 1,
   "id": "2b7ee281",
   "metadata": {},
   "outputs": [
    {
     "name": "stdout",
     "output_type": "stream",
     "text": [
      "16\n"
     ]
    }
   ],
   "source": [
    "a = 'Mayank Atul Ghai'\n",
    "print(len(a))"
   ]
  },
  {
   "cell_type": "code",
   "execution_count": 2,
   "id": "395e5364",
   "metadata": {},
   "outputs": [
    {
     "name": "stdout",
     "output_type": "stream",
     "text": [
      "6\n"
     ]
    }
   ],
   "source": [
    "my_str = 'Python'\n",
    "print(len(my_str))"
   ]
  },
  {
   "cell_type": "markdown",
   "id": "93d7a014",
   "metadata": {},
   "source": [
    "#### Concatenation \n",
    "\n",
    "- Join two or more string together then this concept is used and this concept is known as concatenation\n",
    "- We have to use + operator (here in string + is not an arithematic operator)"
   ]
  },
  {
   "cell_type": "code",
   "execution_count": 3,
   "id": "f1af3b20",
   "metadata": {},
   "outputs": [
    {
     "name": "stdout",
     "output_type": "stream",
     "text": [
      "helloworld\n"
     ]
    }
   ],
   "source": [
    "my_str = 'hello'\n",
    "my_str2 = 'world'\n",
    "\n",
    "print(my_str + my_str2)"
   ]
  },
  {
   "cell_type": "code",
   "execution_count": 4,
   "id": "efa9185f",
   "metadata": {},
   "outputs": [
    {
     "name": "stdout",
     "output_type": "stream",
     "text": [
      "hello world\n"
     ]
    }
   ],
   "source": [
    "print(my_str +' '+ my_str2)"
   ]
  },
  {
   "cell_type": "code",
   "execution_count": 5,
   "id": "7743f9fc",
   "metadata": {},
   "outputs": [
    {
     "name": "stdout",
     "output_type": "stream",
     "text": [
      "1050\n"
     ]
    }
   ],
   "source": [
    "print('10'+'50')"
   ]
  },
  {
   "cell_type": "code",
   "execution_count": 7,
   "id": "650c9c5e",
   "metadata": {},
   "outputs": [
    {
     "name": "stdout",
     "output_type": "stream",
     "text": [
      "10+50\n"
     ]
    }
   ],
   "source": [
    "print('10'+'+'+'50')"
   ]
  },
  {
   "cell_type": "code",
   "execution_count": 8,
   "id": "6e951dbe",
   "metadata": {},
   "outputs": [
    {
     "ename": "TypeError",
     "evalue": "unsupported operand type(s) for +: 'int' and 'str'",
     "output_type": "error",
     "traceback": [
      "\u001b[1;31m---------------------------------------------------------------------------\u001b[0m",
      "\u001b[1;31mTypeError\u001b[0m                                 Traceback (most recent call last)",
      "Cell \u001b[1;32mIn[8], line 1\u001b[0m\n\u001b[1;32m----> 1\u001b[0m \u001b[38;5;28mprint\u001b[39m(\u001b[38;5;241m10\u001b[39m\u001b[38;5;241m+\u001b[39m\u001b[38;5;124m'\u001b[39m\u001b[38;5;124m50\u001b[39m\u001b[38;5;124m'\u001b[39m)\n",
      "\u001b[1;31mTypeError\u001b[0m: unsupported operand type(s) for +: 'int' and 'str'"
     ]
    }
   ],
   "source": [
    "print(10+'50')"
   ]
  },
  {
   "cell_type": "code",
   "execution_count": 9,
   "id": "19db6634",
   "metadata": {},
   "outputs": [
    {
     "name": "stdout",
     "output_type": "stream",
     "text": [
      "1050\n"
     ]
    }
   ],
   "source": [
    "print(str(10)+'50')"
   ]
  },
  {
   "cell_type": "markdown",
   "id": "40bc8008",
   "metadata": {},
   "source": [
    "#### Repeatition \n",
    "\n",
    "- (*) operator is used with the string (it will not act as the regular arithematic operator) instead it will repeat the string over and over again "
   ]
  },
  {
   "cell_type": "code",
   "execution_count": 11,
   "id": "4539ea76",
   "metadata": {},
   "outputs": [
    {
     "data": {
      "text/plain": [
       "'mayank mayank mayank mayank mayank mayank mayank mayank '"
      ]
     },
     "execution_count": 11,
     "metadata": {},
     "output_type": "execute_result"
    }
   ],
   "source": [
    "a = 'mayank '\n",
    "a*8"
   ]
  },
  {
   "cell_type": "code",
   "execution_count": 12,
   "id": "fc143535",
   "metadata": {},
   "outputs": [
    {
     "data": {
      "text/plain": [
       "56"
      ]
     },
     "execution_count": 12,
     "metadata": {},
     "output_type": "execute_result"
    }
   ],
   "source": [
    "len(a*8)"
   ]
  },
  {
   "cell_type": "markdown",
   "id": "21d0f538",
   "metadata": {},
   "source": [
    "### Indexing and Slicing "
   ]
  },
  {
   "cell_type": "markdown",
   "id": "9d4d4307",
   "metadata": {},
   "source": [
    "#### Indexing \n",
    "\n",
    "- A string is an ordered collection of data (characters) because it follows indexing \n",
    "- It is also known as sequence data type because it follows indexing\n",
    "- Each character or an element in a string is stored at a particular index\n",
    "- A string support both Positive index and negative index"
   ]
  },
  {
   "cell_type": "code",
   "execution_count": null,
   "id": "5fdf0c47",
   "metadata": {},
   "outputs": [],
   "source": [
    "    0 1 2 3 4 5\n",
    "    M A Y A N k"
   ]
  },
  {
   "cell_type": "code",
   "execution_count": 13,
   "id": "b780e6da",
   "metadata": {},
   "outputs": [],
   "source": [
    "a = 'Mayank'"
   ]
  },
  {
   "cell_type": "code",
   "execution_count": 14,
   "id": "89d0e047",
   "metadata": {},
   "outputs": [
    {
     "data": {
      "text/plain": [
       "'y'"
      ]
     },
     "execution_count": 14,
     "metadata": {},
     "output_type": "execute_result"
    }
   ],
   "source": [
    "a[2]"
   ]
  },
  {
   "cell_type": "code",
   "execution_count": 16,
   "id": "0cf4cd00",
   "metadata": {},
   "outputs": [
    {
     "ename": "NameError",
     "evalue": "name 't' is not defined",
     "output_type": "error",
     "traceback": [
      "\u001b[1;31m---------------------------------------------------------------------------\u001b[0m",
      "\u001b[1;31mNameError\u001b[0m                                 Traceback (most recent call last)",
      "Cell \u001b[1;32mIn[16], line 1\u001b[0m\n\u001b[1;32m----> 1\u001b[0m a[\u001b[38;5;241m2\u001b[39m] \u001b[38;5;241m=\u001b[39m t\n",
      "\u001b[1;31mNameError\u001b[0m: name 't' is not defined"
     ]
    }
   ],
   "source": [
    "a[2] ='t'"
   ]
  },
  {
   "cell_type": "markdown",
   "id": "6a388fcb",
   "metadata": {},
   "source": [
    "#### Positive indexing\n",
    "\n",
    "- It will start from left to right \n",
    "- It will start from 0 (by default)\n",
    "- The index of the last element is going to be len(string) -1 \n",
    "\n",
    "\n",
    "                            0 1 2 3 4 5 ------> Positive indexing\n",
    "                            M A Y A N k"
   ]
  },
  {
   "cell_type": "code",
   "execution_count": 17,
   "id": "085957c4",
   "metadata": {},
   "outputs": [
    {
     "data": {
      "text/plain": [
       "'Mayank'"
      ]
     },
     "execution_count": 17,
     "metadata": {},
     "output_type": "execute_result"
    }
   ],
   "source": [
    "a"
   ]
  },
  {
   "cell_type": "code",
   "execution_count": 18,
   "id": "89fe39d1",
   "metadata": {},
   "outputs": [
    {
     "data": {
      "text/plain": [
       "'y'"
      ]
     },
     "execution_count": 18,
     "metadata": {},
     "output_type": "execute_result"
    }
   ],
   "source": [
    "a[2]"
   ]
  },
  {
   "cell_type": "code",
   "execution_count": 19,
   "id": "bb092e45",
   "metadata": {},
   "outputs": [
    {
     "data": {
      "text/plain": [
       "'a'"
      ]
     },
     "execution_count": 19,
     "metadata": {},
     "output_type": "execute_result"
    }
   ],
   "source": [
    "a[1]"
   ]
  },
  {
   "cell_type": "code",
   "execution_count": 20,
   "id": "64fae825",
   "metadata": {},
   "outputs": [
    {
     "data": {
      "text/plain": [
       "'k'"
      ]
     },
     "execution_count": 20,
     "metadata": {},
     "output_type": "execute_result"
    }
   ],
   "source": [
    "a[5]"
   ]
  },
  {
   "cell_type": "code",
   "execution_count": 21,
   "id": "294ec83a",
   "metadata": {},
   "outputs": [
    {
     "data": {
      "text/plain": [
       "'M'"
      ]
     },
     "execution_count": 21,
     "metadata": {},
     "output_type": "execute_result"
    }
   ],
   "source": [
    "a[0]"
   ]
  },
  {
   "cell_type": "code",
   "execution_count": 22,
   "id": "e3b0851f",
   "metadata": {},
   "outputs": [
    {
     "ename": "IndexError",
     "evalue": "string index out of range",
     "output_type": "error",
     "traceback": [
      "\u001b[1;31m---------------------------------------------------------------------------\u001b[0m",
      "\u001b[1;31mIndexError\u001b[0m                                Traceback (most recent call last)",
      "Cell \u001b[1;32mIn[22], line 1\u001b[0m\n\u001b[1;32m----> 1\u001b[0m a[\u001b[38;5;241m6\u001b[39m]\n",
      "\u001b[1;31mIndexError\u001b[0m: string index out of range"
     ]
    }
   ],
   "source": [
    "a[6]"
   ]
  },
  {
   "cell_type": "markdown",
   "id": "9ed0a1e9",
   "metadata": {},
   "source": [
    "#### Negative Indexing\n",
    "\n",
    "- it will going to start from right to left \n",
    "- By default, it will start from -1 \n",
    "- the index of the last element is going to be -len(string)"
   ]
  },
  {
   "cell_type": "markdown",
   "id": "a4e41d84",
   "metadata": {},
   "source": [
    "                              M  A  Y  A  N  K\n",
    "                             -6 -5 -4 -3 -2 -1  ------> Negative index "
   ]
  },
  {
   "cell_type": "code",
   "execution_count": 24,
   "id": "c9f9854d",
   "metadata": {},
   "outputs": [
    {
     "data": {
      "text/plain": [
       "'Mayank'"
      ]
     },
     "execution_count": 24,
     "metadata": {},
     "output_type": "execute_result"
    }
   ],
   "source": [
    "a"
   ]
  },
  {
   "cell_type": "code",
   "execution_count": 25,
   "id": "5ad0e97d",
   "metadata": {},
   "outputs": [
    {
     "data": {
      "text/plain": [
       "'M'"
      ]
     },
     "execution_count": 25,
     "metadata": {},
     "output_type": "execute_result"
    }
   ],
   "source": [
    "a[-6]"
   ]
  },
  {
   "cell_type": "code",
   "execution_count": 26,
   "id": "9b5bbb69",
   "metadata": {},
   "outputs": [
    {
     "data": {
      "text/plain": [
       "'a'"
      ]
     },
     "execution_count": 26,
     "metadata": {},
     "output_type": "execute_result"
    }
   ],
   "source": [
    "a[-3]"
   ]
  },
  {
   "cell_type": "code",
   "execution_count": 27,
   "id": "fe2a44c6",
   "metadata": {},
   "outputs": [
    {
     "data": {
      "text/plain": [
       "'M'"
      ]
     },
     "execution_count": 27,
     "metadata": {},
     "output_type": "execute_result"
    }
   ],
   "source": [
    "a[0]"
   ]
  },
  {
   "cell_type": "code",
   "execution_count": null,
   "id": "5e0889bf",
   "metadata": {},
   "outputs": [],
   "source": [
    "                               0  1  2  3  4  5 ------Positive indexing\n",
    "                               M  A  Y  A  N  K\n",
    "                              -6 -5 -4 -3 -2 -1 ------- Negative indexing"
   ]
  },
  {
   "cell_type": "code",
   "execution_count": 28,
   "id": "fafc428d",
   "metadata": {},
   "outputs": [
    {
     "name": "stdout",
     "output_type": "stream",
     "text": [
      "y\n",
      "y\n"
     ]
    }
   ],
   "source": [
    "print(a[2])  # Positive indexing\n",
    "print(a[-4]) # Negative indexing"
   ]
  },
  {
   "cell_type": "code",
   "execution_count": 29,
   "id": "13fdbe2b",
   "metadata": {},
   "outputs": [
    {
     "name": "stdout",
     "output_type": "stream",
     "text": [
      "18\n"
     ]
    }
   ],
   "source": [
    "a = 'MOSIM IQBAL SAYYED'\n",
    "print(len(a))\n",
    "\n"
   ]
  },
  {
   "cell_type": "code",
   "execution_count": 31,
   "id": "c999271b",
   "metadata": {},
   "outputs": [
    {
     "name": "stdout",
     "output_type": "stream",
     "text": [
      "A\n",
      "Y\n"
     ]
    }
   ],
   "source": [
    "print(a[9])\n",
    "print(a[-4])"
   ]
  },
  {
   "cell_type": "code",
   "execution_count": 33,
   "id": "8d1d7e95",
   "metadata": {},
   "outputs": [],
   "source": [
    "a = 'Mayank Ghai'"
   ]
  },
  {
   "cell_type": "code",
   "execution_count": null,
   "id": "a26a97d0",
   "metadata": {},
   "outputs": [],
   "source": [
    "                0  1  2  3  4  5  6  7  8  9  10    ------ Positive indexing\n",
    "                M  A  Y  A  N  K     G  H  A  I \n",
    "              -11 -10 -9 -8 -7 -6 -5 -4 -3 -2 -1    ----- Negative indeing "
   ]
  },
  {
   "cell_type": "code",
   "execution_count": 34,
   "id": "ba5650e6",
   "metadata": {},
   "outputs": [
    {
     "name": "stdout",
     "output_type": "stream",
     "text": [
      "G\n",
      "G\n"
     ]
    }
   ],
   "source": [
    "print(a[7])  # Positive indexing \n",
    "print(a[-4])  # Negative indexing "
   ]
  },
  {
   "cell_type": "code",
   "execution_count": 35,
   "id": "b1747f55",
   "metadata": {},
   "outputs": [
    {
     "name": "stdout",
     "output_type": "stream",
     "text": [
      "y\n",
      "y\n"
     ]
    }
   ],
   "source": [
    "print(a[2])\n",
    "print(a[-9])"
   ]
  },
  {
   "cell_type": "markdown",
   "id": "74917a64",
   "metadata": {},
   "source": [
    "#### enumerate function \n",
    "\n",
    "- helps to get both the index and the character at that particular index \n",
    "- It will always going to give me the positive index only "
   ]
  },
  {
   "cell_type": "code",
   "execution_count": 36,
   "id": "07e6c68f",
   "metadata": {},
   "outputs": [
    {
     "data": {
      "text/plain": [
       "'Mayank Ghai'"
      ]
     },
     "execution_count": 36,
     "metadata": {},
     "output_type": "execute_result"
    }
   ],
   "source": [
    "a"
   ]
  },
  {
   "cell_type": "code",
   "execution_count": 40,
   "id": "63f3f799",
   "metadata": {},
   "outputs": [
    {
     "name": "stdout",
     "output_type": "stream",
     "text": [
      "0 M\n",
      "1 a\n",
      "2 y\n",
      "3 a\n",
      "4 n\n",
      "5 k\n",
      "6  \n",
      "7 G\n",
      "8 h\n",
      "9 a\n",
      "10 i\n"
     ]
    }
   ],
   "source": [
    "for i, j in enumerate(a):\n",
    "    print(i,j)"
   ]
  },
  {
   "cell_type": "code",
   "execution_count": 41,
   "id": "4d5545a3",
   "metadata": {},
   "outputs": [
    {
     "name": "stdout",
     "output_type": "stream",
     "text": [
      "0 M\n",
      "1 a\n",
      "2 y\n",
      "3 a\n",
      "4 n\n",
      "5 k\n",
      "6  \n",
      "7 G\n",
      "8 h\n",
      "9 a\n",
      "10 i\n"
     ]
    }
   ],
   "source": [
    "for a, b in enumerate(a):\n",
    "    print(a,b)"
   ]
  },
  {
   "cell_type": "code",
   "execution_count": 48,
   "id": "329d39ae",
   "metadata": {},
   "outputs": [],
   "source": [
    "a = \"Mayank Ghai\""
   ]
  },
  {
   "cell_type": "code",
   "execution_count": 49,
   "id": "3da0d282",
   "metadata": {},
   "outputs": [
    {
     "name": "stdout",
     "output_type": "stream",
     "text": [
      "0 M\n",
      "1 a\n",
      "2 y\n",
      "3 a\n",
      "4 n\n",
      "5 k\n",
      "6  \n",
      "7 G\n",
      "8 h\n",
      "9 a\n",
      "10 i\n"
     ]
    }
   ],
   "source": [
    "for ind, char in enumerate(a):\n",
    "    print(ind, char)"
   ]
  },
  {
   "cell_type": "markdown",
   "id": "7e7b2f5b",
   "metadata": {},
   "source": [
    "#### Slicing "
   ]
  },
  {
   "cell_type": "markdown",
   "id": "a702fb15",
   "metadata": {},
   "source": [
    "- Fetching a substring from a string is called slicing \n"
   ]
  },
  {
   "cell_type": "markdown",
   "id": "b1db5ed3",
   "metadata": {},
   "source": [
    "#### Positive Slicing\n",
    "\n",
    "- We will use Positive Indexing"
   ]
  },
  {
   "cell_type": "markdown",
   "id": "020efefb",
   "metadata": {},
   "source": [
    "Syntax:\n",
    "    \n",
    "    my_str[starting_index : ending_indexing(excluded)+1 : step_Size]\n",
    "    \n",
    "    where:\n",
    "        starting index - indexing from where we want the slicing to begin (by default it is going to take 0)\n",
    "        ending_index - indexing till we want to slice to be executed (excluded --- n+1), by default len(string)\n",
    "        step_size - how many jumps i want to make (by default, the value for step_size is 1)"
   ]
  },
  {
   "cell_type": "code",
   "execution_count": 52,
   "id": "39fc43d4",
   "metadata": {},
   "outputs": [],
   "source": [
    "a = 'Mayank Atul Ghai'"
   ]
  },
  {
   "cell_type": "code",
   "execution_count": 53,
   "id": "f0bb9fbc",
   "metadata": {},
   "outputs": [
    {
     "data": {
      "text/plain": [
       "'yank Atul Ghai'"
      ]
     },
     "execution_count": 53,
     "metadata": {},
     "output_type": "execute_result"
    }
   ],
   "source": [
    "a[2::]"
   ]
  },
  {
   "cell_type": "code",
   "execution_count": 54,
   "id": "19ea2ff7",
   "metadata": {},
   "outputs": [
    {
     "data": {
      "text/plain": [
       "'Mayan'"
      ]
     },
     "execution_count": 54,
     "metadata": {},
     "output_type": "execute_result"
    }
   ],
   "source": [
    "a[0:5]"
   ]
  },
  {
   "cell_type": "code",
   "execution_count": 55,
   "id": "3ba535a9",
   "metadata": {},
   "outputs": [
    {
     "data": {
      "text/plain": [
       "'Mayank'"
      ]
     },
     "execution_count": 55,
     "metadata": {},
     "output_type": "execute_result"
    }
   ],
   "source": [
    "a[0:6]"
   ]
  },
  {
   "cell_type": "code",
   "execution_count": 56,
   "id": "57756325",
   "metadata": {},
   "outputs": [
    {
     "data": {
      "text/plain": [
       "'Mayank Atul Ghai'"
      ]
     },
     "execution_count": 56,
     "metadata": {},
     "output_type": "execute_result"
    }
   ],
   "source": [
    "# i want to fetch the entire string\n",
    "\n",
    "a[::]"
   ]
  },
  {
   "cell_type": "code",
   "execution_count": 57,
   "id": "42ce8b59",
   "metadata": {},
   "outputs": [
    {
     "data": {
      "text/plain": [
       "'Mayank Atul Ghai'"
      ]
     },
     "execution_count": 57,
     "metadata": {},
     "output_type": "execute_result"
    }
   ],
   "source": [
    "a"
   ]
  },
  {
   "cell_type": "code",
   "execution_count": 58,
   "id": "8ffe994a",
   "metadata": {},
   "outputs": [
    {
     "name": "stdout",
     "output_type": "stream",
     "text": [
      "May\n",
      "May\n",
      "May\n"
     ]
    }
   ],
   "source": [
    "print(a[0:3])\n",
    "print(a[0:3:])\n",
    "print(a[0:3:1])"
   ]
  },
  {
   "cell_type": "code",
   "execution_count": 60,
   "id": "5b777080",
   "metadata": {},
   "outputs": [
    {
     "data": {
      "text/plain": [
       "'Myn tlGa'"
      ]
     },
     "execution_count": 60,
     "metadata": {},
     "output_type": "execute_result"
    }
   ],
   "source": [
    "# I want to fetch the entire string but at the jump of 2\n",
    "\n",
    "a[::2]"
   ]
  },
  {
   "cell_type": "code",
   "execution_count": 63,
   "id": "a867c959",
   "metadata": {},
   "outputs": [],
   "source": [
    "a = 'Python class by learnbay '\n",
    "\n",
    "b = a[0:6]"
   ]
  },
  {
   "cell_type": "code",
   "execution_count": 64,
   "id": "c9f08dab",
   "metadata": {},
   "outputs": [
    {
     "name": "stdout",
     "output_type": "stream",
     "text": [
      "2885135048880 2885143580720\n"
     ]
    }
   ],
   "source": [
    "print(id(a), id(b))"
   ]
  },
  {
   "cell_type": "code",
   "execution_count": 65,
   "id": "3aee7109",
   "metadata": {},
   "outputs": [
    {
     "name": "stdout",
     "output_type": "stream",
     "text": [
      "Python class by learnbay \n"
     ]
    }
   ],
   "source": [
    "print(a[:])"
   ]
  },
  {
   "cell_type": "code",
   "execution_count": 66,
   "id": "29bebcd0",
   "metadata": {},
   "outputs": [
    {
     "name": "stdout",
     "output_type": "stream",
     "text": [
      "Python class by learnbay \n"
     ]
    }
   ],
   "source": [
    "print(a[::])"
   ]
  },
  {
   "cell_type": "code",
   "execution_count": 67,
   "id": "cd50f947",
   "metadata": {},
   "outputs": [
    {
     "name": "stdout",
     "output_type": "stream",
     "text": [
      "Python class by learnbay \n"
     ]
    }
   ],
   "source": [
    "print(a[::1])"
   ]
  },
  {
   "cell_type": "code",
   "execution_count": 68,
   "id": "af63806a",
   "metadata": {},
   "outputs": [
    {
     "name": "stdout",
     "output_type": "stream",
     "text": [
      "2885135048880 2885135048880\n"
     ]
    }
   ],
   "source": [
    "b = a[:]\n",
    "c = a[::]\n",
    "print(id(b), id(c))"
   ]
  },
  {
   "cell_type": "code",
   "execution_count": 75,
   "id": "e8a7779c",
   "metadata": {},
   "outputs": [
    {
     "name": "stdout",
     "output_type": "stream",
     "text": [
      "2885142925104 2885142937136\n"
     ]
    }
   ],
   "source": [
    "a = 'Mayank Ghai'\n",
    "b = 'Mayank Ghai'\n",
    "print(id(a), id(b))"
   ]
  },
  {
   "cell_type": "code",
   "execution_count": 77,
   "id": "a35c4915",
   "metadata": {},
   "outputs": [],
   "source": [
    "my_str = \"python class\""
   ]
  },
  {
   "cell_type": "code",
   "execution_count": 78,
   "id": "dc64a0e9",
   "metadata": {},
   "outputs": [
    {
     "name": "stdout",
     "output_type": "stream",
     "text": [
      "python class\n",
      "python class\n",
      "python class\n",
      "python class\n",
      "python class\n"
     ]
    }
   ],
   "source": [
    "print(my_str[0:13])\n",
    "print(my_str[0:13:1])\n",
    "print(my_str[0:len(my_str):1])\n",
    "print(my_str[:len(my_str)])\n",
    "print(my_str[::])"
   ]
  },
  {
   "cell_type": "markdown",
   "id": "99d567a6",
   "metadata": {},
   "source": []
  },
  {
   "cell_type": "code",
   "execution_count": null,
   "id": "368458b3",
   "metadata": {},
   "outputs": [],
   "source": []
  }
 ],
 "metadata": {
  "kernelspec": {
   "display_name": "Python 3 (ipykernel)",
   "language": "python",
   "name": "python3"
  },
  "language_info": {
   "codemirror_mode": {
    "name": "ipython",
    "version": 3
   },
   "file_extension": ".py",
   "mimetype": "text/x-python",
   "name": "python",
   "nbconvert_exporter": "python",
   "pygments_lexer": "ipython3",
   "version": "3.11.5"
  }
 },
 "nbformat": 4,
 "nbformat_minor": 5
}
