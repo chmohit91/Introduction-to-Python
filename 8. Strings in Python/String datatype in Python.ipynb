{
 "cells": [
  {
   "cell_type": "markdown",
   "id": "2e4aa683",
   "metadata": {},
   "source": [
    "### Datatype Strings"
   ]
  },
  {
   "cell_type": "code",
   "execution_count": 4,
   "id": "d7b509ee",
   "metadata": {},
   "outputs": [],
   "source": [
    "# Universal Encoding systems are used to translate numbers to characters and vice versa. \n",
    "\n",
    "# The main 3 encoding systems used are : \n",
    "\n",
    "# Ascii - 128 characters\n",
    "# CP1252 - 128 characters. Similar to ASCII, used by Windows systems but with a different system of number to character mapping than ASCII. \n",
    "# Unicode - UTF8 - 114,000+ characters, UTF16 - 65,000 (or 134,000+) characters, UTF32 - 134000+ characters. \n",
    "\n",
    "# UTF8 is the most common of the Unicode encoding systems and is synonymous with Unicode - many a times used interchangeably."
   ]
  },
  {
   "cell_type": "code",
   "execution_count": 6,
   "id": "77f017f2",
   "metadata": {},
   "outputs": [
    {
     "name": "stdout",
     "output_type": "stream",
     "text": [
      "Hello Taniya <class 'str'>\n",
      "Hello Taniya <class 'str'>\n",
      "Hello Taniya <class 'str'>\n"
     ]
    }
   ],
   "source": [
    "# Initialising strings\n",
    "\n",
    "str1 = 'Hello Taniya'\n",
    "str2 = \"Hello Taniya\"\n",
    "str3 = '''Hello Taniya'''\n",
    "\n",
    "\n",
    "print(str1, type(str1))\n",
    "print(str2, type(str2))\n",
    "print(str3, type(str3))"
   ]
  },
  {
   "cell_type": "code",
   "execution_count": 8,
   "id": "64d7bae4",
   "metadata": {},
   "outputs": [
    {
     "name": "stdout",
     "output_type": "stream",
     "text": [
      "Dinesh's friend Ebi is asking a question\n"
     ]
    }
   ],
   "source": [
    "str1 = \"Dinesh's friend Ebi is asking a question\"\n",
    "\n",
    "print(str1)"
   ]
  },
  {
   "cell_type": "code",
   "execution_count": 9,
   "id": "7eea9aab",
   "metadata": {},
   "outputs": [
    {
     "name": "stdout",
     "output_type": "stream",
     "text": [
      "Ebi says \"Rikki, I dont think you have covered CP1252 and Unicode\"\n"
     ]
    }
   ],
   "source": [
    "str2 = 'Ebi says \"Rikki, I dont think you have covered CP1252 and Unicode\"'\n",
    "\n",
    "print(str2)"
   ]
  },
  {
   "cell_type": "code",
   "execution_count": 10,
   "id": "1be6272e",
   "metadata": {},
   "outputs": [
    {
     "name": "stdout",
     "output_type": "stream",
     "text": [
      "Dinesh's friend Ebi says \"Rikki, I dont think you have covered CP1252 and Unicode\".\n"
     ]
    }
   ],
   "source": [
    "str3 = '''Dinesh's friend Ebi says \"Rikki, I dont think you have covered CP1252 and Unicode\".'''\n",
    "\n",
    "print(str3)"
   ]
  },
  {
   "cell_type": "code",
   "execution_count": 11,
   "id": "56763a08",
   "metadata": {},
   "outputs": [
    {
     "name": "stdout",
     "output_type": "stream",
     "text": [
      "Dinesh kept repeating Betty had some butter but the butter was bitter so Betty bought some better butter to make the \n",
      "bitter butter better\n"
     ]
    }
   ],
   "source": [
    "str1 = '''Dinesh kept repeating Betty had some butter but the butter was bitter so Betty bought some better butter to make the \n",
    "bitter butter better'''\n",
    "\n",
    "print(str1)"
   ]
  },
  {
   "cell_type": "code",
   "execution_count": 12,
   "id": "5b2535cf",
   "metadata": {},
   "outputs": [],
   "source": [
    "str1 = 'Dinesh kept repeating Betty had some butter but the butter was bitter so Betty bought some better butter to make \\\n",
    "the bitter butter better'\n"
   ]
  },
  {
   "cell_type": "code",
   "execution_count": null,
   "id": "74243757",
   "metadata": {},
   "outputs": [],
   "source": [
    "# Use of single, double and triple quotes and the use of \\ to continue on next line. \n",
    "\n",
    "# Triple quotes are the most versatile amongst the 3 - can be used to enclose text containing single or double quotes as\n",
    "# well as for multiline strings. "
   ]
  },
  {
   "cell_type": "code",
   "execution_count": 13,
   "id": "260019ad",
   "metadata": {},
   "outputs": [
    {
     "name": "stdout",
     "output_type": "stream",
     "text": [
      "10 <class 'str'>\n"
     ]
    }
   ],
   "source": [
    "str1 = str(10)\n",
    "\n",
    "print(str1, type(str1))"
   ]
  },
  {
   "cell_type": "code",
   "execution_count": 14,
   "id": "2f85208f",
   "metadata": {},
   "outputs": [
    {
     "name": "stdout",
     "output_type": "stream",
     "text": [
      "10 <class 'int'>\n",
      "10 <class 'str'>\n"
     ]
    }
   ],
   "source": [
    "x = 10\n",
    "\n",
    "print(x, type(x))\n",
    "\n",
    "str1 = str(x)\n",
    "\n",
    "print(str1, type(str1))"
   ]
  },
  {
   "cell_type": "code",
   "execution_count": 15,
   "id": "9b1371b6",
   "metadata": {},
   "outputs": [
    {
     "name": "stdout",
     "output_type": "stream",
     "text": [
      "1 | 0 | "
     ]
    }
   ],
   "source": [
    "for char in str1:\n",
    "    print(char, end = ' | ')"
   ]
  },
  {
   "cell_type": "code",
   "execution_count": 16,
   "id": "4ff62b15",
   "metadata": {},
   "outputs": [
    {
     "name": "stdout",
     "output_type": "stream",
     "text": [
      "10.2 <class 'float'>\n",
      "10.2 <class 'str'>\n"
     ]
    }
   ],
   "source": [
    "y = 10.2\n",
    "\n",
    "print(y, type(y))\n",
    "\n",
    "strfloat = str(y)\n",
    "\n",
    "print(strfloat, type(strfloat))"
   ]
  },
  {
   "cell_type": "code",
   "execution_count": 17,
   "id": "02fce011",
   "metadata": {},
   "outputs": [
    {
     "name": "stdout",
     "output_type": "stream",
     "text": [
      "1 | 0 | . | 2 | "
     ]
    }
   ],
   "source": [
    "for char in strfloat:\n",
    "    print(char, end = ' | ')"
   ]
  },
  {
   "cell_type": "code",
   "execution_count": 18,
   "id": "b154ba83",
   "metadata": {},
   "outputs": [
    {
     "name": "stdout",
     "output_type": "stream",
     "text": [
      "[1, 2, 3, 4, 5]\n",
      "[1, 2, 3, 4, 5] <class 'str'>\n"
     ]
    }
   ],
   "source": [
    "lst1 = [1,2,3,4,5]\n",
    "\n",
    "print(lst1)\n",
    "\n",
    "strlst = str(lst1)\n",
    "\n",
    "print(strlst, type(strlst))"
   ]
  },
  {
   "cell_type": "code",
   "execution_count": 20,
   "id": "b6914f47",
   "metadata": {},
   "outputs": [
    {
     "name": "stdout",
     "output_type": "stream",
     "text": [
      "[\n",
      "1\n",
      ",\n",
      " \n",
      "2\n",
      ",\n",
      " \n",
      "3\n",
      ",\n",
      " \n",
      "4\n",
      ",\n",
      " \n",
      "5\n",
      "]\n"
     ]
    }
   ],
   "source": [
    "for char in strlst:\n",
    "    print(char)"
   ]
  },
  {
   "cell_type": "code",
   "execution_count": 21,
   "id": "4f97851d",
   "metadata": {},
   "outputs": [
    {
     "name": "stdout",
     "output_type": "stream",
     "text": [
      "(1, 2, 3)\n"
     ]
    }
   ],
   "source": [
    "tup1 = 1,2,3\n",
    "\n",
    "print(tup1)\n",
    "\n"
   ]
  },
  {
   "cell_type": "code",
   "execution_count": 22,
   "id": "768cc82b",
   "metadata": {},
   "outputs": [
    {
     "name": "stdout",
     "output_type": "stream",
     "text": [
      "(\n",
      "1\n",
      ",\n",
      " \n",
      "2\n",
      ",\n",
      " \n",
      "3\n",
      ")\n"
     ]
    }
   ],
   "source": [
    "strtup = str(tup1)\n",
    "\n",
    "for char in strtup:\n",
    "    print(char)"
   ]
  },
  {
   "cell_type": "code",
   "execution_count": 23,
   "id": "7cefc5dc",
   "metadata": {},
   "outputs": [
    {
     "name": "stdout",
     "output_type": "stream",
     "text": [
      "10\n"
     ]
    }
   ],
   "source": [
    "str1 = str(10)\n",
    "\n",
    "print(str1)"
   ]
  },
  {
   "cell_type": "code",
   "execution_count": 24,
   "id": "29a637fb",
   "metadata": {},
   "outputs": [
    {
     "ename": "TypeError",
     "evalue": "str() argument 2 must be str, not int",
     "output_type": "error",
     "traceback": [
      "\u001b[1;31m---------------------------------------------------------------------------\u001b[0m",
      "\u001b[1;31mTypeError\u001b[0m                                 Traceback (most recent call last)",
      "\u001b[1;32m~\\AppData\\Local\\Temp\\ipykernel_16640\\1558410659.py\u001b[0m in \u001b[0;36m<module>\u001b[1;34m\u001b[0m\n\u001b[1;32m----> 1\u001b[1;33m \u001b[0mstr2\u001b[0m \u001b[1;33m=\u001b[0m \u001b[0mstr\u001b[0m\u001b[1;33m(\u001b[0m\u001b[1;36m10\u001b[0m\u001b[1;33m,\u001b[0m\u001b[1;36m20\u001b[0m\u001b[1;33m)\u001b[0m\u001b[1;33m\u001b[0m\u001b[1;33m\u001b[0m\u001b[0m\n\u001b[0m\u001b[0;32m      2\u001b[0m \u001b[1;33m\u001b[0m\u001b[0m\n\u001b[0;32m      3\u001b[0m \u001b[0mprint\u001b[0m\u001b[1;33m(\u001b[0m\u001b[0mstr2\u001b[0m\u001b[1;33m)\u001b[0m\u001b[1;33m\u001b[0m\u001b[1;33m\u001b[0m\u001b[0m\n",
      "\u001b[1;31mTypeError\u001b[0m: str() argument 2 must be str, not int"
     ]
    }
   ],
   "source": [
    "str2 = str(10,20)\n",
    "\n",
    "print(str2)"
   ]
  },
  {
   "cell_type": "code",
   "execution_count": 25,
   "id": "4a4adcab",
   "metadata": {},
   "outputs": [
    {
     "name": "stdout",
     "output_type": "stream",
     "text": [
      "[10, 20]\n"
     ]
    }
   ],
   "source": [
    "str3 = str([10,20])\n",
    "\n",
    "print(str3)"
   ]
  },
  {
   "cell_type": "code",
   "execution_count": 26,
   "id": "b87e5de4",
   "metadata": {},
   "outputs": [
    {
     "name": "stdout",
     "output_type": "stream",
     "text": [
      "(10, 20)\n"
     ]
    }
   ],
   "source": [
    "str4 = str((10,20))\n",
    "\n",
    "print(str4)"
   ]
  },
  {
   "cell_type": "code",
   "execution_count": 27,
   "id": "fd0e1157",
   "metadata": {},
   "outputs": [],
   "source": [
    "# Properties\n",
    "\n",
    "# 1. Fundamental\n",
    "# 2. Single character string is single object but multi-character strings is a collection\n",
    "# 3. Iterable\n",
    "# 4. Immutable\n",
    "# 5. Subscription - Indexing and slicing are supported. Assignment is not supported. "
   ]
  },
  {
   "cell_type": "code",
   "execution_count": null,
   "id": "b0ce6e19",
   "metadata": {},
   "outputs": [],
   "source": [
    "# If a new string being initialised follows identifier rules then:\n",
    "\n",
    "# Checked against a pool of strings, if it does not exist - the object is created and added to the pool. \n",
    "# If it already exists, then new object not initialised and same memory ID given to the object we want to create. "
   ]
  },
  {
   "cell_type": "code",
   "execution_count": 29,
   "id": "7c3d74e3",
   "metadata": {},
   "outputs": [],
   "source": [
    "str1 = 'Betty bought some butter'"
   ]
  },
  {
   "cell_type": "code",
   "execution_count": null,
   "id": "1d820a1f",
   "metadata": {},
   "outputs": [],
   "source": [
    "# Extract 'u' from above string using positive indexing\n",
    "\n"
   ]
  },
  {
   "cell_type": "code",
   "execution_count": 30,
   "id": "af91b32f",
   "metadata": {},
   "outputs": [
    {
     "data": {
      "text/plain": [
       "'u'"
      ]
     },
     "execution_count": 30,
     "metadata": {},
     "output_type": "execute_result"
    }
   ],
   "source": [
    "str1[8]"
   ]
  },
  {
   "cell_type": "code",
   "execution_count": 31,
   "id": "14429d43",
   "metadata": {},
   "outputs": [
    {
     "data": {
      "text/plain": [
       "'u'"
      ]
     },
     "execution_count": 31,
     "metadata": {},
     "output_type": "execute_result"
    }
   ],
   "source": [
    "# Last 'u' using negative indexing\n",
    "\n",
    "str1[-5]\n"
   ]
  },
  {
   "cell_type": "code",
   "execution_count": 34,
   "id": "0a48c8b0",
   "metadata": {},
   "outputs": [
    {
     "data": {
      "text/plain": [
       "'some'"
      ]
     },
     "execution_count": 34,
     "metadata": {},
     "output_type": "execute_result"
    }
   ],
   "source": [
    "# Extract 'some'\n",
    "\n",
    "str1[13:17]"
   ]
  },
  {
   "cell_type": "code",
   "execution_count": 35,
   "id": "4345b8ad",
   "metadata": {},
   "outputs": [
    {
     "name": "stdout",
     "output_type": "stream",
     "text": [
      "Betty bought some butter\n"
     ]
    }
   ],
   "source": [
    "print(str1)"
   ]
  },
  {
   "cell_type": "code",
   "execution_count": 37,
   "id": "9fb011d2",
   "metadata": {},
   "outputs": [],
   "source": [
    "# From 'bought' only extract 'b','u' and 'h'"
   ]
  },
  {
   "cell_type": "code",
   "execution_count": 38,
   "id": "24ab7eaf",
   "metadata": {},
   "outputs": [
    {
     "data": {
      "text/plain": [
       "'buh'"
      ]
     },
     "execution_count": 38,
     "metadata": {},
     "output_type": "execute_result"
    }
   ],
   "source": [
    "str1[6:12:2]"
   ]
  },
  {
   "cell_type": "code",
   "execution_count": 40,
   "id": "0526534c",
   "metadata": {},
   "outputs": [
    {
     "data": {
      "text/plain": [
       "'hub'"
      ]
     },
     "execution_count": 40,
     "metadata": {},
     "output_type": "execute_result"
    }
   ],
   "source": [
    "str1[-14:-19:-2]"
   ]
  },
  {
   "cell_type": "code",
   "execution_count": 42,
   "id": "aa0da821",
   "metadata": {},
   "outputs": [
    {
     "data": {
      "text/plain": [
       "'hub'"
      ]
     },
     "execution_count": 42,
     "metadata": {},
     "output_type": "execute_result"
    }
   ],
   "source": [
    "str1[10:5:-2]"
   ]
  },
  {
   "cell_type": "code",
   "execution_count": 43,
   "id": "1c111291",
   "metadata": {},
   "outputs": [
    {
     "data": {
      "text/plain": [
       "''"
      ]
     },
     "execution_count": 43,
     "metadata": {},
     "output_type": "execute_result"
    }
   ],
   "source": [
    "str1[5:10:-2]"
   ]
  },
  {
   "cell_type": "code",
   "execution_count": 46,
   "id": "9da159b8",
   "metadata": {},
   "outputs": [
    {
     "name": "stdout",
     "output_type": "stream",
     "text": [
      "24\n"
     ]
    }
   ],
   "source": [
    "print(len(str1))"
   ]
  },
  {
   "cell_type": "code",
   "execution_count": 45,
   "id": "f1638673",
   "metadata": {},
   "outputs": [
    {
     "name": "stdout",
     "output_type": "stream",
     "text": [
      "100\n"
     ]
    }
   ],
   "source": [
    "lst1 = list(range(100))\n",
    "\n",
    "print(len(lst1))"
   ]
  },
  {
   "cell_type": "code",
   "execution_count": 47,
   "id": "dfe7dce1",
   "metadata": {},
   "outputs": [
    {
     "name": "stdout",
     "output_type": "stream",
     "text": [
      "I love India!\n"
     ]
    }
   ],
   "source": [
    "# Concatenation of strings\n",
    "\n",
    "# Joining of strings using the overloaded + operator\n",
    "\n",
    "str1 = 'I'\n",
    "str2 = 'India!'\n",
    "\n",
    "print(str1+ ' ' + 'love ' + str2)\n",
    "\n",
    "\n"
   ]
  },
  {
   "cell_type": "code",
   "execution_count": 48,
   "id": "d4006adc",
   "metadata": {},
   "outputs": [
    {
     "name": "stdout",
     "output_type": "stream",
     "text": [
      "I will not trouble Rikki in class!\n",
      "I will not trouble Rikki in class!\n",
      "I will not trouble Rikki in class!\n",
      "I will not trouble Rikki in class!\n",
      "I will not trouble Rikki in class!\n",
      "I will not trouble Rikki in class!\n",
      "I will not trouble Rikki in class!\n",
      "I will not trouble Rikki in class!\n",
      "I will not trouble Rikki in class!\n",
      "I will not trouble Rikki in class!\n",
      "I will not trouble Rikki in class!\n",
      "I will not trouble Rikki in class!\n",
      "I will not trouble Rikki in class!\n",
      "I will not trouble Rikki in class!\n",
      "I will not trouble Rikki in class!\n",
      "I will not trouble Rikki in class!\n",
      "I will not trouble Rikki in class!\n",
      "I will not trouble Rikki in class!\n",
      "I will not trouble Rikki in class!\n",
      "I will not trouble Rikki in class!\n",
      "I will not trouble Rikki in class!\n",
      "I will not trouble Rikki in class!\n",
      "I will not trouble Rikki in class!\n",
      "I will not trouble Rikki in class!\n",
      "I will not trouble Rikki in class!\n",
      "I will not trouble Rikki in class!\n",
      "I will not trouble Rikki in class!\n",
      "I will not trouble Rikki in class!\n",
      "I will not trouble Rikki in class!\n",
      "I will not trouble Rikki in class!\n",
      "I will not trouble Rikki in class!\n",
      "I will not trouble Rikki in class!\n",
      "I will not trouble Rikki in class!\n",
      "I will not trouble Rikki in class!\n",
      "I will not trouble Rikki in class!\n",
      "I will not trouble Rikki in class!\n",
      "I will not trouble Rikki in class!\n",
      "I will not trouble Rikki in class!\n",
      "I will not trouble Rikki in class!\n",
      "I will not trouble Rikki in class!\n",
      "I will not trouble Rikki in class!\n",
      "I will not trouble Rikki in class!\n",
      "I will not trouble Rikki in class!\n",
      "I will not trouble Rikki in class!\n",
      "I will not trouble Rikki in class!\n",
      "I will not trouble Rikki in class!\n",
      "I will not trouble Rikki in class!\n",
      "I will not trouble Rikki in class!\n",
      "I will not trouble Rikki in class!\n",
      "I will not trouble Rikki in class!\n",
      "I will not trouble Rikki in class!\n",
      "I will not trouble Rikki in class!\n",
      "I will not trouble Rikki in class!\n",
      "I will not trouble Rikki in class!\n",
      "I will not trouble Rikki in class!\n",
      "I will not trouble Rikki in class!\n",
      "I will not trouble Rikki in class!\n",
      "I will not trouble Rikki in class!\n",
      "I will not trouble Rikki in class!\n",
      "I will not trouble Rikki in class!\n",
      "I will not trouble Rikki in class!\n",
      "I will not trouble Rikki in class!\n",
      "I will not trouble Rikki in class!\n",
      "I will not trouble Rikki in class!\n",
      "I will not trouble Rikki in class!\n",
      "I will not trouble Rikki in class!\n",
      "I will not trouble Rikki in class!\n",
      "I will not trouble Rikki in class!\n",
      "I will not trouble Rikki in class!\n",
      "I will not trouble Rikki in class!\n",
      "I will not trouble Rikki in class!\n",
      "I will not trouble Rikki in class!\n",
      "I will not trouble Rikki in class!\n",
      "I will not trouble Rikki in class!\n",
      "I will not trouble Rikki in class!\n",
      "I will not trouble Rikki in class!\n",
      "I will not trouble Rikki in class!\n",
      "I will not trouble Rikki in class!\n",
      "I will not trouble Rikki in class!\n",
      "I will not trouble Rikki in class!\n",
      "I will not trouble Rikki in class!\n",
      "I will not trouble Rikki in class!\n",
      "I will not trouble Rikki in class!\n",
      "I will not trouble Rikki in class!\n",
      "I will not trouble Rikki in class!\n",
      "I will not trouble Rikki in class!\n",
      "I will not trouble Rikki in class!\n",
      "I will not trouble Rikki in class!\n",
      "I will not trouble Rikki in class!\n",
      "I will not trouble Rikki in class!\n",
      "I will not trouble Rikki in class!\n",
      "I will not trouble Rikki in class!\n",
      "I will not trouble Rikki in class!\n",
      "I will not trouble Rikki in class!\n",
      "I will not trouble Rikki in class!\n",
      "I will not trouble Rikki in class!\n",
      "I will not trouble Rikki in class!\n",
      "I will not trouble Rikki in class!\n",
      "I will not trouble Rikki in class!\n",
      "I will not trouble Rikki in class!\n",
      "\n"
     ]
    }
   ],
   "source": [
    "# Multiplication of strings\n",
    "\n",
    "str1 = 'I will not trouble Rikki in class!'\n",
    "\n",
    "print((str1+'\\n')*100)"
   ]
  },
  {
   "cell_type": "code",
   "execution_count": 49,
   "id": "ff007563",
   "metadata": {},
   "outputs": [],
   "source": [
    "# Operators = will work only between the same datatype (exception between integer and float where they are arithmetic operators)"
   ]
  },
  {
   "cell_type": "code",
   "execution_count": 50,
   "id": "bbaa4df5",
   "metadata": {},
   "outputs": [
    {
     "ename": "TypeError",
     "evalue": "can only concatenate str (not \"list\") to str",
     "output_type": "error",
     "traceback": [
      "\u001b[1;31m---------------------------------------------------------------------------\u001b[0m",
      "\u001b[1;31mTypeError\u001b[0m                                 Traceback (most recent call last)",
      "\u001b[1;32m~\\AppData\\Local\\Temp\\ipykernel_16640\\1442112146.py\u001b[0m in \u001b[0;36m<module>\u001b[1;34m\u001b[0m\n\u001b[1;32m----> 1\u001b[1;33m \u001b[0mprint\u001b[0m\u001b[1;33m(\u001b[0m\u001b[1;34m'I love'\u001b[0m \u001b[1;33m+\u001b[0m \u001b[1;33m[\u001b[0m\u001b[1;34m' India!'\u001b[0m\u001b[1;33m]\u001b[0m\u001b[1;33m)\u001b[0m\u001b[1;33m\u001b[0m\u001b[1;33m\u001b[0m\u001b[0m\n\u001b[0m",
      "\u001b[1;31mTypeError\u001b[0m: can only concatenate str (not \"list\") to str"
     ]
    }
   ],
   "source": [
    "print('I love' + [' India!'])"
   ]
  },
  {
   "cell_type": "code",
   "execution_count": null,
   "id": "ce6044d3",
   "metadata": {},
   "outputs": [],
   "source": [
    "# Comparison operators also between datatypes"
   ]
  },
  {
   "cell_type": "code",
   "execution_count": 51,
   "id": "af714a6a",
   "metadata": {},
   "outputs": [
    {
     "name": "stdout",
     "output_type": "stream",
     "text": [
      "True\n"
     ]
    }
   ],
   "source": [
    "str1 = 'Bharath'\n",
    "str2 = 'Bharath'\n",
    "\n",
    "print(str1 == str2)"
   ]
  },
  {
   "cell_type": "code",
   "execution_count": 72,
   "id": "5fb3f785",
   "metadata": {},
   "outputs": [
    {
     "name": "stdout",
     "output_type": "stream",
     "text": [
      "True\n"
     ]
    }
   ],
   "source": [
    "str1 = 'Bharath'\n",
    "str2 = 'Bharath'\n",
    "\n",
    "print(str1 == str2)"
   ]
  },
  {
   "cell_type": "code",
   "execution_count": 73,
   "id": "47d20278",
   "metadata": {},
   "outputs": [
    {
     "name": "stdout",
     "output_type": "stream",
     "text": [
      "False\n"
     ]
    }
   ],
   "source": [
    "print(str1 != str2)"
   ]
  },
  {
   "cell_type": "code",
   "execution_count": null,
   "id": "cc091db2",
   "metadata": {},
   "outputs": [],
   "source": [
    "#>, <, >=, <= between strings"
   ]
  },
  {
   "cell_type": "code",
   "execution_count": 53,
   "id": "04c3e7bd",
   "metadata": {},
   "outputs": [
    {
     "name": "stdout",
     "output_type": "stream",
     "text": [
      "66\n",
      "98\n"
     ]
    }
   ],
   "source": [
    "print(ord('B'))\n",
    "print(ord('b'))"
   ]
  },
  {
   "cell_type": "code",
   "execution_count": 54,
   "id": "f28facda",
   "metadata": {},
   "outputs": [
    {
     "name": "stdout",
     "output_type": "stream",
     "text": [
      "False\n"
     ]
    }
   ],
   "source": [
    "print('B' > 'b')"
   ]
  },
  {
   "cell_type": "code",
   "execution_count": 55,
   "id": "fc3b0523",
   "metadata": {},
   "outputs": [
    {
     "name": "stdout",
     "output_type": "stream",
     "text": [
      "True\n"
     ]
    }
   ],
   "source": [
    "print('B' < 'b')"
   ]
  },
  {
   "cell_type": "code",
   "execution_count": 60,
   "id": "f633e987",
   "metadata": {},
   "outputs": [
    {
     "name": "stdout",
     "output_type": "stream",
     "text": [
      "97\n",
      "107\n",
      "97\n",
      "115\n",
      "104\n",
      "520\n"
     ]
    }
   ],
   "source": [
    "str1 = 'akash'\n",
    "\n",
    "sum1 = 0\n",
    "for x in str1:\n",
    "    print(ord(x))\n",
    "    sum1 += ord(x)\n",
    "    \n",
    "print(sum1)"
   ]
  },
  {
   "cell_type": "code",
   "execution_count": 61,
   "id": "59dfd7a4",
   "metadata": {},
   "outputs": [
    {
     "name": "stdout",
     "output_type": "stream",
     "text": [
      "98\n",
      "106\n",
      "97\n",
      "115\n",
      "104\n",
      "520\n"
     ]
    }
   ],
   "source": [
    "str2 = 'bjash'\n",
    "\n",
    "sum2 = 0\n",
    "for x in str2:\n",
    "    print(ord(x))\n",
    "    sum2 += ord(x)\n",
    "    \n",
    "print(sum2)"
   ]
  },
  {
   "cell_type": "code",
   "execution_count": 62,
   "id": "64a624d5",
   "metadata": {},
   "outputs": [
    {
     "name": "stdout",
     "output_type": "stream",
     "text": [
      "False\n"
     ]
    }
   ],
   "source": [
    "print(str1 == str2)"
   ]
  },
  {
   "cell_type": "code",
   "execution_count": 63,
   "id": "ea405545",
   "metadata": {},
   "outputs": [
    {
     "name": "stdout",
     "output_type": "stream",
     "text": [
      "False\n"
     ]
    }
   ],
   "source": [
    "print(str1 > str2)"
   ]
  },
  {
   "cell_type": "code",
   "execution_count": 64,
   "id": "be3b0304",
   "metadata": {},
   "outputs": [
    {
     "name": "stdout",
     "output_type": "stream",
     "text": [
      "False\n"
     ]
    }
   ],
   "source": [
    "print(str1 >= str2)"
   ]
  },
  {
   "cell_type": "code",
   "execution_count": null,
   "id": "85f9444b",
   "metadata": {},
   "outputs": [],
   "source": [
    "# == Equality - then the strings are checked that each and every character is the same. "
   ]
  },
  {
   "cell_type": "code",
   "execution_count": null,
   "id": "4f7d7f53",
   "metadata": {},
   "outputs": [],
   "source": [
    "# Comparison operators >, <, >=, <=\n",
    "\n",
    "'akash'   > 'ajash'\n",
    "\n"
   ]
  },
  {
   "cell_type": "code",
   "execution_count": 65,
   "id": "05868df9",
   "metadata": {},
   "outputs": [
    {
     "name": "stdout",
     "output_type": "stream",
     "text": [
      "False\n"
     ]
    }
   ],
   "source": [
    "print('akash' > 'bjash')"
   ]
  },
  {
   "cell_type": "code",
   "execution_count": 66,
   "id": "eb186e09",
   "metadata": {},
   "outputs": [
    {
     "name": "stdout",
     "output_type": "stream",
     "text": [
      "True\n"
     ]
    }
   ],
   "source": [
    "print('akash' > 'ajash')"
   ]
  },
  {
   "cell_type": "code",
   "execution_count": 67,
   "id": "03bbd7ef",
   "metadata": {},
   "outputs": [
    {
     "name": "stdout",
     "output_type": "stream",
     "text": [
      "True\n"
     ]
    }
   ],
   "source": [
    "# Membership operators\n",
    "\n",
    "print('a' in 'akash')"
   ]
  },
  {
   "cell_type": "code",
   "execution_count": 68,
   "id": "d953e60c",
   "metadata": {},
   "outputs": [
    {
     "name": "stdout",
     "output_type": "stream",
     "text": [
      "False\n"
     ]
    }
   ],
   "source": [
    "print('a' not in 'akash')"
   ]
  },
  {
   "cell_type": "code",
   "execution_count": 69,
   "id": "11107da2",
   "metadata": {},
   "outputs": [
    {
     "name": "stdout",
     "output_type": "stream",
     "text": [
      "['a', 'b', 'c', 'd', 'e', 'f']\n"
     ]
    }
   ],
   "source": [
    "lst1 = list('abcdef')\n",
    "\n",
    "print(lst1)"
   ]
  },
  {
   "cell_type": "code",
   "execution_count": 70,
   "id": "a00bcd57",
   "metadata": {},
   "outputs": [
    {
     "name": "stdout",
     "output_type": "stream",
     "text": [
      "True\n"
     ]
    }
   ],
   "source": [
    "print('a' in lst1)"
   ]
  },
  {
   "cell_type": "code",
   "execution_count": 71,
   "id": "7a1672c8",
   "metadata": {},
   "outputs": [
    {
     "name": "stdout",
     "output_type": "stream",
     "text": [
      "False\n"
     ]
    }
   ],
   "source": [
    "print('a' not in lst1)"
   ]
  },
  {
   "cell_type": "code",
   "execution_count": 74,
   "id": "37896d2c",
   "metadata": {},
   "outputs": [
    {
     "name": "stdout",
     "output_type": "stream",
     "text": [
      "['__add__', '__class__', '__contains__', '__delattr__', '__dir__', '__doc__', '__eq__', '__format__', '__ge__', '__getattribute__', '__getitem__', '__getnewargs__', '__gt__', '__hash__', '__init__', '__init_subclass__', '__iter__', '__le__', '__len__', '__lt__', '__mod__', '__mul__', '__ne__', '__new__', '__reduce__', '__reduce_ex__', '__repr__', '__rmod__', '__rmul__', '__setattr__', '__sizeof__', '__str__', '__subclasshook__', 'capitalize', 'casefold', 'center', 'count', 'encode', 'endswith', 'expandtabs', 'find', 'format', 'format_map', 'index', 'isalnum', 'isalpha', 'isascii', 'isdecimal', 'isdigit', 'isidentifier', 'islower', 'isnumeric', 'isprintable', 'isspace', 'istitle', 'isupper', 'join', 'ljust', 'lower', 'lstrip', 'maketrans', 'partition', 'removeprefix', 'removesuffix', 'replace', 'rfind', 'rindex', 'rjust', 'rpartition', 'rsplit', 'rstrip', 'split', 'splitlines', 'startswith', 'strip', 'swapcase', 'title', 'translate', 'upper', 'zfill']\n"
     ]
    }
   ],
   "source": [
    "print(dir(str))"
   ]
  },
  {
   "cell_type": "markdown",
   "id": "7244ad10",
   "metadata": {},
   "source": [
    "#### String Methods\n",
    "\n",
    "count\n",
    "find\n",
    "rfind\n",
    "index\n",
    "rindex\n",
    "\n",
    "#### String changing methods\n",
    "replace\n",
    "strip\n",
    "lstrip\n",
    "rstrip\n",
    "\n",
    "split\n",
    "partition\n",
    "rpartition\n",
    "splitlines\n",
    "\n",
    "\n",
    "capitalize\n",
    "swapcase\n",
    "title\n",
    "upper\n",
    "casefold\n",
    "center\n",
    "ljust\n",
    "rjust\n",
    "\n",
    "join\n",
    "\n",
    "zfill\n",
    "\n",
    "\n",
    "\n",
    "\n",
    "\n",
    "##### String checking methods\n",
    "startswith\n",
    "endswith\n",
    "isalpha\n",
    "isalnum\n",
    "isascii\n",
    "isdecimal\n",
    "isdigit\n",
    "isidentifier\n",
    "islower\n",
    "isnumeric\n",
    "isprintable\n",
    "isspace\n",
    "istitle\n",
    "isupper\n",
    "\n",
    "# Other methods\n",
    "expandtabs\n",
    "maketrans, translate\n",
    "format"
   ]
  },
  {
   "cell_type": "code",
   "execution_count": 83,
   "id": "777095e6",
   "metadata": {},
   "outputs": [],
   "source": [
    "# Count method is used to count the number of occurrences of a substring in a string\n",
    "\n",
    "# It takes 3 parameters:\n",
    "\n",
    "# 1. Substring to be found - Mandatory\n",
    "# 2. Start index from where to start searching. Optional \n",
    "# 3. End index where to stop searching - Optional. If end is to be given, then start parameter must also be specified (even\n",
    "# if specified as 0 to denote beginning of string)"
   ]
  },
  {
   "cell_type": "code",
   "execution_count": 76,
   "id": "8eb713b2",
   "metadata": {},
   "outputs": [
    {
     "name": "stdout",
     "output_type": "stream",
     "text": [
      "11\n"
     ]
    }
   ],
   "source": [
    "str1 = 'Betty bought some butter but the butter was bitter so Betty bought some better butter to make the bitter butter \\\n",
    "better'\n",
    "\n",
    "\n",
    "x = str1.count('b')\n",
    "\n",
    "print(x)"
   ]
  },
  {
   "cell_type": "code",
   "execution_count": 77,
   "id": "4d4178b7",
   "metadata": {},
   "outputs": [
    {
     "name": "stdout",
     "output_type": "stream",
     "text": [
      "5\n"
     ]
    }
   ],
   "source": [
    "str1 = 'Betty bought some butter but the butter was bitter so Betty bought some better butter to make the bitter butter \\\n",
    "better'\n",
    "\n",
    "\n",
    "x = str1.count('but')\n",
    "\n",
    "print(x)"
   ]
  },
  {
   "cell_type": "code",
   "execution_count": 80,
   "id": "af28de56",
   "metadata": {},
   "outputs": [
    {
     "data": {
      "text/plain": [
       "105"
      ]
     },
     "execution_count": 80,
     "metadata": {},
     "output_type": "execute_result"
    }
   ],
   "source": [
    "str1.rfind('but')"
   ]
  },
  {
   "cell_type": "code",
   "execution_count": 79,
   "id": "c8552e4e",
   "metadata": {},
   "outputs": [
    {
     "name": "stdout",
     "output_type": "stream",
     "text": [
      "4\n"
     ]
    }
   ],
   "source": [
    "str1 = 'Betty bought some butter but the butter was bitter so Betty bought some better butter to make the bitter butter \\\n",
    "better'\n",
    "\n",
    "\n",
    "x = str1.count('but',19)\n",
    "\n",
    "print(x)"
   ]
  },
  {
   "cell_type": "code",
   "execution_count": 82,
   "id": "17ed65e2",
   "metadata": {},
   "outputs": [
    {
     "name": "stdout",
     "output_type": "stream",
     "text": [
      "4\n"
     ]
    }
   ],
   "source": [
    "str1 = 'Betty bought some butter but the butter was bitter so Betty bought some better butter to make the bitter butter \\\n",
    "better'\n",
    "\n",
    "\n",
    "x = str1.count('but',19,104)\n",
    "\n",
    "print(x)"
   ]
  },
  {
   "cell_type": "code",
   "execution_count": null,
   "id": "75bc6254",
   "metadata": {},
   "outputs": [],
   "source": [
    "# Find method, index method will look for the substring in the string and return the index position of the FIRST element of\n",
    "# the FIRST occurrence of the substring."
   ]
  },
  {
   "cell_type": "code",
   "execution_count": null,
   "id": "dc373c23",
   "metadata": {},
   "outputs": [],
   "source": [
    "# Difference between find and index (rfind and rindex also) is that if the substring is not found - find (and rfind) will\n",
    "# return -1 and we can let our program continue while accounting for return of -1. With index(and rindex) our program will\n",
    "# throw an error and stop at the point that substring is not found <this can be handled using exception handling but we shall\n",
    "# be covering that in later topics>.\n"
   ]
  },
  {
   "cell_type": "code",
   "execution_count": null,
   "id": "ba72d75e",
   "metadata": {},
   "outputs": [],
   "source": [
    "# find, index, rfind, rindex - take 3 parameters\n",
    "\n",
    "#1. Substring to be found - Mandatory\n",
    "#2. Start index - Optional\n",
    "#3. Stop index - optional"
   ]
  },
  {
   "cell_type": "code",
   "execution_count": null,
   "id": "9aad59be",
   "metadata": {},
   "outputs": [],
   "source": []
  },
  {
   "cell_type": "code",
   "execution_count": 84,
   "id": "ea76a0a1",
   "metadata": {},
   "outputs": [
    {
     "name": "stdout",
     "output_type": "stream",
     "text": [
      "6\n",
      "6\n"
     ]
    }
   ],
   "source": [
    "str1 = 'Betty bought some butter but the butter was bitter so Betty bought some better butter to make the bitter butter \\\n",
    "better'\n",
    "\n",
    "\n",
    "x = str1.find('b')\n",
    "y = str1.index('b')\n",
    "print(x)\n",
    "print(y)"
   ]
  },
  {
   "cell_type": "code",
   "execution_count": 85,
   "id": "7c9d72c5",
   "metadata": {},
   "outputs": [
    {
     "name": "stdout",
     "output_type": "stream",
     "text": [
      "18\n",
      "18\n"
     ]
    }
   ],
   "source": [
    "x = str1.find('but')\n",
    "y = str1.index('but')\n",
    "print(x)\n",
    "print(y)"
   ]
  },
  {
   "cell_type": "code",
   "execution_count": 86,
   "id": "5306665d",
   "metadata": {},
   "outputs": [
    {
     "data": {
      "text/plain": [
       "'but'"
      ]
     },
     "execution_count": 86,
     "metadata": {},
     "output_type": "execute_result"
    }
   ],
   "source": [
    "str1[18:21]"
   ]
  },
  {
   "cell_type": "code",
   "execution_count": 87,
   "id": "39dc484e",
   "metadata": {},
   "outputs": [
    {
     "data": {
      "text/plain": [
       "'but'"
      ]
     },
     "execution_count": 87,
     "metadata": {},
     "output_type": "execute_result"
    }
   ],
   "source": [
    "str1[x:x+len('but')]"
   ]
  },
  {
   "cell_type": "code",
   "execution_count": 88,
   "id": "ad423dc4",
   "metadata": {},
   "outputs": [
    {
     "name": "stdout",
     "output_type": "stream",
     "text": [
      "-1\n"
     ]
    }
   ],
   "source": [
    "x = str1.find('x')\n",
    "print(x)"
   ]
  },
  {
   "cell_type": "code",
   "execution_count": 89,
   "id": "0413ece8",
   "metadata": {},
   "outputs": [
    {
     "ename": "ValueError",
     "evalue": "substring not found",
     "output_type": "error",
     "traceback": [
      "\u001b[1;31m---------------------------------------------------------------------------\u001b[0m",
      "\u001b[1;31mValueError\u001b[0m                                Traceback (most recent call last)",
      "\u001b[1;32m~\\AppData\\Local\\Temp\\ipykernel_16640\\61989767.py\u001b[0m in \u001b[0;36m<module>\u001b[1;34m\u001b[0m\n\u001b[1;32m----> 1\u001b[1;33m \u001b[0my\u001b[0m \u001b[1;33m=\u001b[0m \u001b[0mstr1\u001b[0m\u001b[1;33m.\u001b[0m\u001b[0mindex\u001b[0m\u001b[1;33m(\u001b[0m\u001b[1;34m'x'\u001b[0m\u001b[1;33m)\u001b[0m\u001b[1;33m\u001b[0m\u001b[1;33m\u001b[0m\u001b[0m\n\u001b[0m\u001b[0;32m      2\u001b[0m \u001b[0mprint\u001b[0m\u001b[1;33m(\u001b[0m\u001b[0my\u001b[0m\u001b[1;33m)\u001b[0m\u001b[1;33m\u001b[0m\u001b[1;33m\u001b[0m\u001b[0m\n",
      "\u001b[1;31mValueError\u001b[0m: substring not found"
     ]
    }
   ],
   "source": [
    "y = str1.index('x')\n",
    "print(y)"
   ]
  },
  {
   "cell_type": "code",
   "execution_count": 90,
   "id": "8988c0ab",
   "metadata": {},
   "outputs": [
    {
     "name": "stdout",
     "output_type": "stream",
     "text": [
      "Betty bought some butter but the butter was bitter so Betty bought some better butter to make the bitter butter better\n"
     ]
    }
   ],
   "source": [
    "# rfind, rindex - Starts searching from right and goes to left and returns index position of FIRST element of FIRST \n",
    "# Occurrence of substring - WITH POSITIVE INDEX numbers!!!\n",
    "\n",
    "print(str1)"
   ]
  },
  {
   "cell_type": "code",
   "execution_count": 91,
   "id": "57809bd3",
   "metadata": {},
   "outputs": [
    {
     "name": "stdout",
     "output_type": "stream",
     "text": [
      "105\n",
      "105\n"
     ]
    }
   ],
   "source": [
    "a = str1.rfind('but')\n",
    "b = str1.rindex('but')\n",
    "\n",
    "print(a)\n",
    "print(b)"
   ]
  },
  {
   "cell_type": "code",
   "execution_count": 92,
   "id": "999ac8eb",
   "metadata": {},
   "outputs": [
    {
     "name": "stdout",
     "output_type": "stream",
     "text": [
      "118\n"
     ]
    }
   ],
   "source": [
    "print(len(str1))"
   ]
  },
  {
   "cell_type": "code",
   "execution_count": 95,
   "id": "16e6c68c",
   "metadata": {},
   "outputs": [
    {
     "name": "stdout",
     "output_type": "stream",
     "text": [
      "-13\n"
     ]
    }
   ],
   "source": [
    "print(a-len(str1))"
   ]
  },
  {
   "cell_type": "code",
   "execution_count": 96,
   "id": "bbe32ed8",
   "metadata": {},
   "outputs": [
    {
     "name": "stdout",
     "output_type": "stream",
     "text": [
      "but\n"
     ]
    }
   ],
   "source": [
    "print(str1[-13:-10])"
   ]
  },
  {
   "cell_type": "code",
   "execution_count": 98,
   "id": "c261d0ac",
   "metadata": {},
   "outputs": [
    {
     "name": "stdout",
     "output_type": "stream",
     "text": [
      "Betty bought some butter but the butter was bitter so Betty bought some better butter to make the bitter butter better\n",
      "25\n",
      "105\n"
     ]
    }
   ],
   "source": [
    "print(str1)\n",
    "\n",
    "a = str1.find('but', 19)\n",
    "b = str1.rfind('but', 100)\n",
    "\n",
    "print(a)\n",
    "print(b)"
   ]
  },
  {
   "cell_type": "code",
   "execution_count": 99,
   "id": "891e0a22",
   "metadata": {},
   "outputs": [
    {
     "name": "stdout",
     "output_type": "stream",
     "text": [
      "Betty bought some butter but the butter was bitter so Betty bought some better butter to make the bitter butter better\n",
      "25\n",
      "79\n"
     ]
    }
   ],
   "source": [
    "print(str1)\n",
    "\n",
    "a = str1.find('but', 19,100)\n",
    "b = str1.rfind('but', 19,100)\n",
    "\n",
    "print(a)\n",
    "print(b)"
   ]
  },
  {
   "cell_type": "code",
   "execution_count": null,
   "id": "a75e5162",
   "metadata": {},
   "outputs": [],
   "source": [
    "# Find ALL the occurences of 'but' in given string. Count the occurrences and print their index positions. In the end print\n",
    "# total count.\n",
    "\n",
    "# Must use find method!"
   ]
  },
  {
   "cell_type": "code",
   "execution_count": null,
   "id": "5b386ef3",
   "metadata": {},
   "outputs": [],
   "source": []
  },
  {
   "cell_type": "code",
   "execution_count": 1,
   "id": "d3c78ece",
   "metadata": {},
   "outputs": [
    {
     "name": "stdout",
     "output_type": "stream",
     "text": [
      "[18, 25, 33, 79, 105]\n",
      "5\n"
     ]
    }
   ],
   "source": [
    "# Deepayan\n",
    "\n",
    "str1='Betty bought some butter but the butter was bitter so Betty bought some better butter to make the bitter butter better'\n",
    "str2='but'\n",
    "b=[]\n",
    "while (str1.find(str2)!=-1):\n",
    "    b.append (str1.find(str2))\n",
    "    str1=str1.replace(str2,'*'*len(str2),1)\n",
    "print(b)\n",
    "print(len(b))\n"
   ]
  },
  {
   "cell_type": "code",
   "execution_count": 3,
   "id": "eeadb1a7",
   "metadata": {},
   "outputs": [
    {
     "name": "stdout",
     "output_type": "stream",
     "text": [
      "Count of occurances of but is 1 until index position 18 \n",
      "Count of occurances of but is 2 until index position 25 \n",
      "Count of occurances of but is 3 until index position 33 \n",
      "Count of occurances of but is 4 until index position 79 \n",
      "Count of occurances of but is 5 until index position 105 \n",
      "Total number of occurances : 5\n"
     ]
    }
   ],
   "source": [
    "# sandeep\n",
    "\n",
    "str1='Betty bought some butter but the butter was bitter so Betty bought some better butter to make the bitter butter better'\n",
    "number_of_occurances = 0\n",
    "search_string = \"but\"\n",
    "index = 0\n",
    "while index < len(str1):\n",
    "    if(str1.find(search_string,index,index+len(search_string)) != -1):\n",
    "        number_of_occurances+=1\n",
    "        print(f\"Count of occurances of {search_string} is {number_of_occurances} until index position {str1.find(search_string,index,index+len(search_string))} \")\n",
    "    index+=1              \n",
    "print(f\"Total number of occurances : {number_of_occurances}\")\n"
   ]
  },
  {
   "cell_type": "code",
   "execution_count": 7,
   "id": "d7bcba94",
   "metadata": {},
   "outputs": [
    {
     "name": "stdout",
     "output_type": "stream",
     "text": [
      "Count till this point 1 Index position 18\n",
      "Count till this point 2 Index position 25\n",
      "Count till this point 3 Index position 33\n",
      "Count till this point 4 Index position 79\n",
      "Count till this point 5 Index position 105\n",
      "Final count is  5\n"
     ]
    }
   ],
   "source": [
    "# rikki\n",
    "\n",
    "str1='Betty bought some butter but the butter was bitter so Betty bought some better butter to make the \\\n",
    "bitter butter better'\n",
    "\n",
    "count = 0\n",
    "idx = -1\n",
    "to_find = 'but'\n",
    "\n",
    "while True:\n",
    "    idx = str1.find(to_find, idx+1)\n",
    "    if idx != -1:\n",
    "        count += 1\n",
    "        print('Count till this point', count, 'Index position', idx)\n",
    "    else:\n",
    "        break\n",
    "\n",
    "print('Final count is ', count)\n",
    "    "
   ]
  },
  {
   "cell_type": "code",
   "execution_count": 8,
   "id": "8f3733d2",
   "metadata": {},
   "outputs": [
    {
     "data": {
      "text/plain": [
       "'but'"
      ]
     },
     "execution_count": 8,
     "metadata": {},
     "output_type": "execute_result"
    }
   ],
   "source": [
    "str1[105:108]"
   ]
  },
  {
   "cell_type": "code",
   "execution_count": 9,
   "id": "0498df9b",
   "metadata": {},
   "outputs": [
    {
     "name": "stdout",
     "output_type": "stream",
     "text": [
      "first position of but =  18\n",
      "first index of but =  18\n",
      "lenght of string =  118\n",
      "\n",
      " Betty bought some butter but the butter was bitter so Betty bought some better butter to make the bitter butter better \n",
      "\n",
      "value of find =  18\n",
      "value of index =  18\n",
      "value of x =  19\n",
      "value of find =  25\n",
      "value of index =  25\n",
      "value of x =  26\n",
      "value of find =  33\n",
      "value of index =  33\n",
      "value of x =  34\n",
      "value of find =  79\n",
      "value of index =  79\n",
      "value of x =  80\n",
      "value of find =  105\n",
      "value of index =  105\n",
      "value of x =  106\n"
     ]
    },
    {
     "ename": "ValueError",
     "evalue": "substring not found",
     "output_type": "error",
     "traceback": [
      "\u001b[1;31m---------------------------------------------------------------------------\u001b[0m",
      "\u001b[1;31mValueError\u001b[0m                                Traceback (most recent call last)",
      "\u001b[1;32m~\\AppData\\Local\\Temp\\ipykernel_240\\3434601456.py\u001b[0m in \u001b[0;36m<module>\u001b[1;34m\u001b[0m\n\u001b[0;32m     15\u001b[0m \u001b[1;33m\u001b[0m\u001b[0m\n\u001b[0;32m     16\u001b[0m     \u001b[0ma\u001b[0m \u001b[1;33m=\u001b[0m \u001b[0mstr1\u001b[0m\u001b[1;33m.\u001b[0m\u001b[0mfind\u001b[0m\u001b[1;33m(\u001b[0m\u001b[1;34m'but'\u001b[0m\u001b[1;33m,\u001b[0m \u001b[0mx\u001b[0m\u001b[1;33m,\u001b[0m \u001b[0mlen\u001b[0m\u001b[1;33m(\u001b[0m\u001b[0mstr1\u001b[0m\u001b[1;33m)\u001b[0m\u001b[1;33m)\u001b[0m\u001b[1;33m\u001b[0m\u001b[1;33m\u001b[0m\u001b[0m\n\u001b[1;32m---> 17\u001b[1;33m     \u001b[0mb\u001b[0m \u001b[1;33m=\u001b[0m \u001b[0mstr1\u001b[0m\u001b[1;33m.\u001b[0m\u001b[0mindex\u001b[0m\u001b[1;33m(\u001b[0m\u001b[1;34m'but'\u001b[0m\u001b[1;33m,\u001b[0m \u001b[0mx\u001b[0m\u001b[1;33m,\u001b[0m \u001b[0mlen\u001b[0m\u001b[1;33m(\u001b[0m\u001b[0mstr1\u001b[0m\u001b[1;33m)\u001b[0m\u001b[1;33m)\u001b[0m\u001b[1;33m\u001b[0m\u001b[1;33m\u001b[0m\u001b[0m\n\u001b[0m\u001b[0;32m     18\u001b[0m     \u001b[0mx\u001b[0m \u001b[1;33m=\u001b[0m \u001b[0ma\u001b[0m \u001b[1;33m+\u001b[0m\u001b[1;36m1\u001b[0m\u001b[1;33m\u001b[0m\u001b[1;33m\u001b[0m\u001b[0m\n\u001b[0;32m     19\u001b[0m     \u001b[0mprint\u001b[0m\u001b[1;33m(\u001b[0m\u001b[1;34m'value of find = '\u001b[0m\u001b[1;33m,\u001b[0m\u001b[0ma\u001b[0m\u001b[1;33m)\u001b[0m\u001b[1;33m\u001b[0m\u001b[1;33m\u001b[0m\u001b[0m\n",
      "\u001b[1;31mValueError\u001b[0m: substring not found"
     ]
    }
   ],
   "source": [
    "# Mehak\n",
    "\n",
    "str1 = 'Betty bought some butter but the butter was bitter so Betty bought some better butter to make the bitter butter \\\n",
    "better'\n",
    "\n",
    "a = str1.find('but')\n",
    "b = str1.index('but')    \n",
    "print('first position of but = ', a)\n",
    "print('first index of but = ', b)\n",
    "print('lenght of string = ', len(str1))\n",
    "\n",
    "x = 0 \n",
    "print('\\n', str1, '\\n')\n",
    "for char in str1:\n",
    "\n",
    "    a = str1.find('but', x, len(str1))\n",
    "    b = str1.index('but', x, len(str1))\n",
    "    x = a +1\n",
    "    print('value of find = ',a)\n",
    "    print('value of index = ',b)\n",
    "    print('value of x = ', x)\n"
   ]
  },
  {
   "cell_type": "code",
   "execution_count": 12,
   "id": "02db9ecf",
   "metadata": {},
   "outputs": [
    {
     "name": "stdout",
     "output_type": "stream",
     "text": [
      "5\n",
      "[18, 25, 33, 79, 105]\n"
     ]
    }
   ],
   "source": [
    "# Taniya\n",
    "\n",
    "count=0\n",
    "list1 = []\n",
    "str1 = 'Betty bought some butter but the butter was bitter so Betty bought some better butter to make the bitter butter \\\n",
    "better'\n",
    "sub_str = 'but'\n",
    "for i in range(0,len(str1)):\n",
    "    result=str1.find(sub_str,i,i+len(sub_str))\n",
    "    if (result!=-1):\n",
    "        count=count+1\n",
    "        list1.append(result)\n",
    "        \n",
    "print(count) #prints the number of occurences of sub_string\n",
    "print(list1) #prints the index of occurences of sub_string\n"
   ]
  },
  {
   "cell_type": "code",
   "execution_count": 13,
   "id": "e5bc25ab",
   "metadata": {},
   "outputs": [
    {
     "name": "stdout",
     "output_type": "stream",
     "text": [
      "1 18\n",
      "2 25\n",
      "3 33\n",
      "4 79\n",
      "5 105\n"
     ]
    }
   ],
   "source": [
    "count = 0\n",
    "\n",
    "str1 = 'Betty bought some butter but the butter was bitter so Betty bought some better butter to make the bitter butter \\\n",
    "better'\n",
    "sub_str = 'but'\n",
    "\n",
    "for idx in range(len(str1)):\n",
    "    if str1[idx:idx+len(sub_str)] == sub_str:\n",
    "        count += 1\n",
    "        print(count, idx)\n",
    "    "
   ]
  },
  {
   "cell_type": "code",
   "execution_count": null,
   "id": "953e8ac8",
   "metadata": {},
   "outputs": [],
   "source": [
    "# replace method - replaces sub_str to be found in original string with given substring\n",
    "\n",
    "# Replace method takes 3 parameters:\n",
    "\n",
    "#1. Sub string to be found - Mandatory\n",
    "#2. String to replace the found sub string - Mandatory\n",
    "#3. Count (not keyword) just integer - Optional - Max counts to replace. "
   ]
  },
  {
   "cell_type": "code",
   "execution_count": 15,
   "id": "1a2348db",
   "metadata": {},
   "outputs": [
    {
     "name": "stdout",
     "output_type": "stream",
     "text": [
      "Betty bought some ***ter *** the ***ter was bitter so Betty bought some better ***ter to make the bitter ***ter better\n"
     ]
    }
   ],
   "source": [
    "str1 = 'Betty bought some butter but the butter was bitter so Betty bought some better butter to make the bitter butter \\\n",
    "better'\n",
    "sub_str = 'but'\n",
    "sub_str_rep = '***'\n",
    "\n",
    "str2 = str1.replace(sub_str, sub_str_rep)\n",
    "\n",
    "print(str2)"
   ]
  },
  {
   "cell_type": "code",
   "execution_count": 16,
   "id": "701716ad",
   "metadata": {},
   "outputs": [
    {
     "name": "stdout",
     "output_type": "stream",
     "text": [
      "Betty bought some butter but the butter was bitter so Betty bought some better butter to make the bitter butter better\n"
     ]
    }
   ],
   "source": [
    "print(str1)"
   ]
  },
  {
   "cell_type": "code",
   "execution_count": 17,
   "id": "aef668a0",
   "metadata": {},
   "outputs": [
    {
     "name": "stdout",
     "output_type": "stream",
     "text": [
      "2280174355712\n",
      "Betty bought some ***ter *** the ***ter was bitter so Betty bought some better ***ter to make the bitter ***ter better\n",
      "2280174354832\n"
     ]
    }
   ],
   "source": [
    "str1 = 'Betty bought some butter but the butter was bitter so Betty bought some better butter to make the bitter butter \\\n",
    "better'\n",
    "print(id(str1))\n",
    "sub_str = 'but'\n",
    "sub_str_rep = '***'\n",
    "\n",
    "str1 = str1.replace(sub_str, sub_str_rep)\n",
    "\n",
    "print(str1)\n",
    "print(id(str1))"
   ]
  },
  {
   "cell_type": "code",
   "execution_count": 21,
   "id": "855c4bfa",
   "metadata": {},
   "outputs": [
    {
     "name": "stdout",
     "output_type": "stream",
     "text": [
      "Betty bought some ***ter *** the ***ter was bitter so Betty bought some better butter to make the bitter butter better\n"
     ]
    }
   ],
   "source": [
    "str1 = 'Betty bought some butter but the butter was bitter so Betty bought some better butter to make the bitter butter \\\n",
    "better'\n",
    "sub_str = 'but'\n",
    "sub_str_rep = '***'\n",
    "\n",
    "str2 = str1.replace(sub_str, sub_str_rep, 3)\n",
    "\n",
    "print(str2)\n"
   ]
  },
  {
   "cell_type": "code",
   "execution_count": null,
   "id": "d2198d11",
   "metadata": {},
   "outputs": [],
   "source": [
    "# strip method - defaults to removing white spaces from both sides of string. Can be asked to remove some other characters\n",
    "# instead of white spaces"
   ]
  },
  {
   "cell_type": "code",
   "execution_count": 22,
   "id": "db94c3ee",
   "metadata": {},
   "outputs": [
    {
     "name": "stdout",
     "output_type": "stream",
     "text": [
      "rikki 5\n",
      "rikki 5\n",
      "rikki 5\n",
      "rikki 5\n"
     ]
    }
   ],
   "source": [
    "str1 = 'rikki'\n",
    "str2 = '     rikki     '\n",
    "str3 = '   rikki'\n",
    "str4 = 'rikki      '\n",
    "\n",
    "a = str1.strip()\n",
    "b = str2.strip()\n",
    "c = str3.strip()\n",
    "d = str4.strip()\n",
    "\n",
    "print(a, len(a))\n",
    "print(b, len(b))\n",
    "print(c, len(c))\n",
    "print(d, len(d))"
   ]
  },
  {
   "cell_type": "code",
   "execution_count": 23,
   "id": "755754cf",
   "metadata": {},
   "outputs": [
    {
     "name": "stdout",
     "output_type": "stream",
     "text": [
      "rikki 5\n",
      "rikki 5\n",
      "rikki 5\n",
      "rikki 5\n",
      "r i k k i 9\n"
     ]
    }
   ],
   "source": [
    "str1 = 'rikki'\n",
    "str2 = '     rikki     '\n",
    "str3 = '   rikki'\n",
    "str4 = 'rikki      '\n",
    "str5 = '   r i k k i     '\n",
    "\n",
    "a = str1.strip()\n",
    "b = str2.strip()\n",
    "c = str3.strip()\n",
    "d = str4.strip()\n",
    "e = str5.strip()\n",
    "\n",
    "print(a, len(a))\n",
    "print(b, len(b))\n",
    "print(c, len(c))\n",
    "print(d, len(d))\n",
    "print(e, len(e))"
   ]
  },
  {
   "cell_type": "code",
   "execution_count": null,
   "id": "6ce1c588",
   "metadata": {},
   "outputs": [],
   "source": []
  },
  {
   "cell_type": "code",
   "execution_count": null,
   "id": "b4250e95",
   "metadata": {},
   "outputs": [],
   "source": []
  },
  {
   "cell_type": "code",
   "execution_count": null,
   "id": "38e5a28c",
   "metadata": {},
   "outputs": [],
   "source": []
  },
  {
   "cell_type": "code",
   "execution_count": 26,
   "id": "6d0026fc",
   "metadata": {},
   "outputs": [
    {
     "name": "stdout",
     "output_type": "stream",
     "text": [
      "rikki 5\n",
      "rikki 5\n",
      "rikki 5\n",
      "rikki 5\n"
     ]
    }
   ],
   "source": [
    "str1 = 'rikki'\n",
    "str2 = '***     rikki     ***'\n",
    "str3 = '**   rikki*'\n",
    "str4 = '**rikki     ***'\n",
    "\n",
    "a = str1.strip('* ')\n",
    "b = str2.strip('* ')\n",
    "c = str3.strip('* ')\n",
    "d = str4.strip('* ')\n",
    "\n",
    "print(a, len(a))\n",
    "print(b, len(b))\n",
    "print(c, len(c))\n",
    "print(d, len(d))"
   ]
  },
  {
   "cell_type": "code",
   "execution_count": 27,
   "id": "572b1081",
   "metadata": {},
   "outputs": [
    {
     "name": "stdout",
     "output_type": "stream",
     "text": [
      "rikki 5\n",
      "rikki 5\n",
      "rikki 5\n",
      "rikki 5\n"
     ]
    }
   ],
   "source": [
    "str1 = 'rikki'\n",
    "str2 = '* ** ***     rikki *** *   **    ***'\n",
    "str3 = '**   rikki*  ** ***   '\n",
    "str4 = '**rikki   **     ***'\n",
    "\n",
    "a = str1.strip('* ')\n",
    "b = str2.strip('* ')\n",
    "c = str3.strip('* ')\n",
    "d = str4.strip('* ')\n",
    "\n",
    "print(a, len(a))\n",
    "print(b, len(b))\n",
    "print(c, len(c))\n",
    "print(d, len(d))"
   ]
  },
  {
   "cell_type": "code",
   "execution_count": 30,
   "id": "8e6ec56a",
   "metadata": {},
   "outputs": [
    {
     "name": "stdout",
     "output_type": "stream",
     "text": [
      "rikki 5\n",
      "rikki 5\n",
      "rikki 5\n",
      "rikki 5\n"
     ]
    }
   ],
   "source": [
    "str1 = 'rikki'\n",
    "str2 = '* ** *X*X*     rikki *** *X   *X*    ***'\n",
    "str3 = '*X*   rikki*  *X* ***   '\n",
    "str4 = '*X*rikki   *X*     ***'\n",
    "\n",
    "a = str1.strip('X *')\n",
    "b = str2.strip('* X')\n",
    "c = str3.strip('* X')\n",
    "d = str4.strip('* X')\n",
    "\n",
    "print(a, len(a))\n",
    "print(b, len(b))\n",
    "print(c, len(c))\n",
    "print(d, len(d))"
   ]
  },
  {
   "cell_type": "code",
   "execution_count": null,
   "id": "c7e31a33",
   "metadata": {},
   "outputs": [],
   "source": [
    "# lstrip only strips specified(or default space) characters from left side\n",
    "# rstrip only strips specified(or default space) characters from right side"
   ]
  },
  {
   "cell_type": "code",
   "execution_count": 31,
   "id": "d5d84d5a",
   "metadata": {},
   "outputs": [
    {
     "name": "stdout",
     "output_type": "stream",
     "text": [
      "rikki 5\n",
      "rikki *** *X   *X*    *** 25\n",
      "rikki*  *X* ***    18\n",
      "rikki   *X*     *** 19\n"
     ]
    }
   ],
   "source": [
    "str1 = 'rikki'\n",
    "str2 = '* ** *X*X*     rikki *** *X   *X*    ***'\n",
    "str3 = '*X*   rikki*  *X* ***   '\n",
    "str4 = '*X*rikki   *X*     ***'\n",
    "\n",
    "a = str1.lstrip('X *')\n",
    "b = str2.lstrip('* X')\n",
    "c = str3.lstrip('* X')\n",
    "d = str4.lstrip('* X')\n",
    "\n",
    "print(a, len(a))\n",
    "print(b, len(b))\n",
    "print(c, len(c))\n",
    "print(d, len(d))"
   ]
  },
  {
   "cell_type": "code",
   "execution_count": 32,
   "id": "46233b3f",
   "metadata": {},
   "outputs": [
    {
     "name": "stdout",
     "output_type": "stream",
     "text": [
      "rikki 5\n",
      "* ** *X*X*     rikki 20\n",
      "*X*   rikki 11\n",
      "*X*rikki 8\n"
     ]
    }
   ],
   "source": [
    "str1 = 'rikki'\n",
    "str2 = '* ** *X*X*     rikki *** *X   *X*    ***'\n",
    "str3 = '*X*   rikki*  *X* ***   '\n",
    "str4 = '*X*rikki   *X*     ***'\n",
    "\n",
    "a = str1.rstrip('X *')\n",
    "b = str2.rstrip('* X')\n",
    "c = str3.rstrip('* X')\n",
    "d = str4.rstrip('* X')\n",
    "\n",
    "print(a, len(a))\n",
    "print(b, len(b))\n",
    "print(c, len(c))\n",
    "print(d, len(d))"
   ]
  },
  {
   "cell_type": "code",
   "execution_count": null,
   "id": "00b4d9e0",
   "metadata": {},
   "outputs": [],
   "source": [
    "# split function\n",
    "\n",
    "# Split function splits string at specified separator character (default is space).\n",
    "# Output from split is a list of separated strings.\n",
    "# Separator will NOT be part of output list.\n",
    "\n",
    "# It takes two parameters:\n",
    "\n",
    "#1. Separator - On which character(s) to perform the split (can take any substring). if not provided, will default to single\n",
    "# white space - Optional\n",
    "#2. maxsplit - Optional - Maximum number of times to perform a split."
   ]
  },
  {
   "cell_type": "code",
   "execution_count": 41,
   "id": "2a389bc1",
   "metadata": {},
   "outputs": [
    {
     "name": "stdout",
     "output_type": "stream",
     "text": [
      "['Betty ', 'ought some ', 'utter ', 'ut the ', 'utter was ', 'itter']\n"
     ]
    }
   ],
   "source": [
    "str1 = 'Betty bought some butter but the butter was bitter'\n",
    "\n",
    "output_lst = str1.split()\n",
    "\n",
    "print(output_lst)"
   ]
  },
  {
   "cell_type": "code",
   "execution_count": 43,
   "id": "fc8428ca",
   "metadata": {},
   "outputs": [
    {
     "name": "stdout",
     "output_type": "stream",
     "text": [
      "['Betty ', 'ought some ', 'utter ', 'ut the ', 'utter was ', 'itter']\n"
     ]
    }
   ],
   "source": [
    "str1 = 'Betty bought some butter but the butter was bitter'\n",
    "\n",
    "output_lst = str1.split('b')\n",
    "\n",
    "print(output_lst)"
   ]
  },
  {
   "cell_type": "code",
   "execution_count": 44,
   "id": "3b52f11e",
   "metadata": {},
   "outputs": [
    {
     "name": "stdout",
     "output_type": "stream",
     "text": [
      "Betty bought some butter but the butter was bitter\n"
     ]
    }
   ],
   "source": [
    "strX = 'b'.join(output_lst)\n",
    "\n",
    "print(strX)"
   ]
  },
  {
   "cell_type": "code",
   "execution_count": 47,
   "id": "405e927c",
   "metadata": {},
   "outputs": [
    {
     "name": "stdout",
     "output_type": "stream",
     "text": [
      "['Betty', 'bought', 'some', 'butter', 'but the butter was bitter']\n"
     ]
    }
   ],
   "source": [
    "str1 = 'Betty bought some butter but the butter was bitter'\n",
    "\n",
    "output_lst = str1.split(maxsplit = 4)\n",
    "\n",
    "print(output_lst)"
   ]
  },
  {
   "cell_type": "code",
   "execution_count": null,
   "id": "153b7eb6",
   "metadata": {},
   "outputs": [],
   "source": [
    "# join function - JOINS an input iterable of strings together on specified character."
   ]
  },
  {
   "cell_type": "code",
   "execution_count": 35,
   "id": "b6786f7d",
   "metadata": {},
   "outputs": [
    {
     "name": "stdout",
     "output_type": "stream",
     "text": [
      "Bettyboughtsomebutterbutthebutterwasbitter\n"
     ]
    }
   ],
   "source": [
    "str2 = ' '.join(output_lst)\n",
    "\n",
    "print(str2)"
   ]
  },
  {
   "cell_type": "code",
   "execution_count": 37,
   "id": "daebe3ad",
   "metadata": {},
   "outputs": [
    {
     "name": "stdout",
     "output_type": "stream",
     "text": [
      "('Betty', 'bought', 'some', 'butter', 'but', 'the', 'butter', 'was', 'bitter')\n"
     ]
    }
   ],
   "source": [
    "output_tup = tuple(output_lst)\n",
    "\n",
    "print(output_tup)"
   ]
  },
  {
   "cell_type": "code",
   "execution_count": 38,
   "id": "12aaa3af",
   "metadata": {},
   "outputs": [
    {
     "name": "stdout",
     "output_type": "stream",
     "text": [
      "Betty bought some butter but the butter was bitter\n"
     ]
    }
   ],
   "source": [
    "str3 = ' '.join(output_tup)\n",
    "\n",
    "print(str3)"
   ]
  },
  {
   "cell_type": "code",
   "execution_count": 39,
   "id": "da71854d",
   "metadata": {},
   "outputs": [
    {
     "name": "stdout",
     "output_type": "stream",
     "text": [
      "Betty*bought*some*butter*but*the*butter*was*bitter\n"
     ]
    }
   ],
   "source": [
    "str4 = '*'.join(output_tup)\n",
    "\n",
    "print(str4)"
   ]
  },
  {
   "cell_type": "code",
   "execution_count": null,
   "id": "60b16203",
   "metadata": {},
   "outputs": [],
   "source": [
    "str5 = '*'.join('Pallav')\n",
    "\n",
    "print(str5)"
   ]
  },
  {
   "cell_type": "code",
   "execution_count": 40,
   "id": "6546298e",
   "metadata": {},
   "outputs": [
    {
     "name": "stdout",
     "output_type": "stream",
     "text": [
      "['P', 'a', 'l', 'l', 'a', 'v']\n"
     ]
    }
   ],
   "source": [
    "lst1 = list('Pallav')\n",
    "\n",
    "print(lst1)"
   ]
  },
  {
   "cell_type": "code",
   "execution_count": null,
   "id": "31594c7f",
   "metadata": {},
   "outputs": [],
   "source": [
    "# partition, rpartition\n",
    "\n"
   ]
  },
  {
   "cell_type": "code",
   "execution_count": 49,
   "id": "5b36eaed",
   "metadata": {},
   "outputs": [
    {
     "name": "stdout",
     "output_type": "stream",
     "text": [
      "('Betty bought some ', 'butter', ' but the butter was bitter')\n"
     ]
    }
   ],
   "source": [
    "str1 = 'Betty bought some butter but the butter was bitter'\n",
    "\n",
    "part_lst = str1.partition('butter')\n",
    "\n",
    "print(part_lst)"
   ]
  },
  {
   "cell_type": "code",
   "execution_count": null,
   "id": "da7504a7",
   "metadata": {},
   "outputs": [],
   "source": [
    "# Difference between split and partition\n",
    "\n",
    "#1. Split - splits on EVERY occurrence of separator. Partition will only split on the FIRST occurrence of separator\n",
    "#2. Split - can have infinite elements as output in a list. Partition will ALWAYS have 3 outputs ONLY in a tuple. \n",
    "#3. Split - does not include separator in output list. Partition - DOES include separator in output tuple (if found).\n",
    "#4. Split - Defaults to white space if parameter not provided. Partition - MUST have the separator provided."
   ]
  },
  {
   "cell_type": "code",
   "execution_count": 50,
   "id": "b71f47ca",
   "metadata": {},
   "outputs": [
    {
     "name": "stdout",
     "output_type": "stream",
     "text": [
      "('Betty bought some butter but the ', 'butter', ' was bitter')\n"
     ]
    }
   ],
   "source": [
    "str1 = 'Betty bought some butter but the butter was bitter'\n",
    "\n",
    "part_lst = str1.rpartition('butter')\n",
    "\n",
    "print(part_lst)"
   ]
  },
  {
   "cell_type": "code",
   "execution_count": 51,
   "id": "3b549240",
   "metadata": {},
   "outputs": [
    {
     "name": "stdout",
     "output_type": "stream",
     "text": [
      "('Betty bought some butter but the butter was bitter', '', '')\n"
     ]
    }
   ],
   "source": [
    "str1 = 'Betty bought some butter but the butter was bitter'\n",
    "\n",
    "part_lst = str1.partition('mutter')\n",
    "\n",
    "print(part_lst)"
   ]
  },
  {
   "cell_type": "code",
   "execution_count": 53,
   "id": "d31748e7",
   "metadata": {},
   "outputs": [
    {
     "name": "stdout",
     "output_type": "stream",
     "text": [
      "('', '', 'Betty bought some butter but the butter was bitter')\n"
     ]
    }
   ],
   "source": [
    "str1 = 'Betty bought some butter but the butter was bitter'\n",
    "\n",
    "part_lst = str1.rpartition('mutter')\n",
    "\n",
    "print(part_lst)"
   ]
  },
  {
   "cell_type": "code",
   "execution_count": null,
   "id": "7a982474",
   "metadata": {},
   "outputs": [],
   "source": [
    "# splitlines - Splits a string on line boundaries. \n",
    "\n",
    "# \\n - New line\n",
    "# \\r - Return carriage\n",
    "# \\r\\n - Return carriage / New line"
   ]
  },
  {
   "cell_type": "code",
   "execution_count": 57,
   "id": "d5fcdc57",
   "metadata": {},
   "outputs": [
    {
     "name": "stdout",
     "output_type": "stream",
     "text": [
      "Jack and Jill went up the hill \n",
      "To fetch a pail of water \n",
      "Jack fell down and broke his crown\n",
      "and Jill came tumbling after\n"
     ]
    }
   ],
   "source": [
    "str1 = 'Jack and Jill went up the hill \\nTo fetch a pail of water \\nJack fell down and broke his crown\\nand Jill came \\\n",
    "tumbling after'\n",
    "\n",
    "print(str1)"
   ]
  },
  {
   "cell_type": "code",
   "execution_count": 59,
   "id": "0b7b21e9",
   "metadata": {},
   "outputs": [
    {
     "name": "stdout",
     "output_type": "stream",
     "text": [
      "Jack and Jill went up the hill \r\n",
      "To fetch a pail of water \n",
      "Jack fell down and broke his crown\n",
      "and Jill came tumbling after\n"
     ]
    }
   ],
   "source": [
    "str1 = 'Jack and Jill went up the hill \\nTo fetch a pail of water \\nJack fell down and broke his crown\\nand Jill came \\\n",
    "tumbling after'\n",
    "\n",
    "print(str1)"
   ]
  },
  {
   "cell_type": "code",
   "execution_count": 60,
   "id": "169e0317",
   "metadata": {},
   "outputs": [
    {
     "name": "stdout",
     "output_type": "stream",
     "text": [
      "['Jack and Jill went up the hill ', 'To fetch a pail of water ', 'Jack fell down and broke his crown', 'and Jill came tumbling after']\n"
     ]
    }
   ],
   "source": [
    "str1 = 'Jack and Jill went up the hill \\nTo fetch a pail of water \\nJack fell down and broke his crown\\nand Jill came \\\n",
    "tumbling after'\n",
    "\n",
    "split_str1 = str1.splitlines()\n",
    "print(split_str1)"
   ]
  },
  {
   "cell_type": "code",
   "execution_count": 61,
   "id": "2e290649",
   "metadata": {},
   "outputs": [
    {
     "name": "stdout",
     "output_type": "stream",
     "text": [
      "['Jack and Jill went up the hill ', 'To fetch a pail of water ', 'Jack fell down and broke his crown', 'and Jill came tumbling after']\n"
     ]
    }
   ],
   "source": [
    "str1 = 'Jack and Jill went up the hill \\rTo fetch a pail of water \\nJack fell down and broke his crown\\r\\nand Jill came \\\n",
    "tumbling after'\n",
    "\n",
    "split_str1 = str1.splitlines()\n",
    "print(split_str1)"
   ]
  },
  {
   "cell_type": "code",
   "execution_count": 63,
   "id": "82eae9c1",
   "metadata": {},
   "outputs": [
    {
     "name": "stdout",
     "output_type": "stream",
     "text": [
      "['Jack and Jill went up the hill ', 'To fetch a \\t pail of water ', 'Jack fell down and broke his crown', 'and Jill came tumbling after']\n"
     ]
    }
   ],
   "source": [
    "str1 = 'Jack and Jill went up the hill \\rTo fetch a \\t pail of water \\nJack fell down and broke his crown\\r\\nand Jill came \\\n",
    "tumbling after'\n",
    "\n",
    "\n",
    "#print(str1)\n",
    "split_str1 = str1.splitlines()\n",
    "print(split_str1)"
   ]
  },
  {
   "cell_type": "code",
   "execution_count": 80,
   "id": "5520b1ad",
   "metadata": {},
   "outputs": [
    {
     "name": "stdout",
     "output_type": "stream",
     "text": [
      "Jack and Jill went up the hill \r\n",
      "To fetch a pail of water \n",
      " Sagar fell down and broke his crown \n",
      "and Jill came tumbling after\n",
      "['Jack and Jill went up the hill \\r\\n', 'To fetch a pail of water \\n', ' Sagar fell down and broke his crown \\n', 'and Jill came tumbling after']\n"
     ]
    }
   ],
   "source": [
    "str1 = 'Jack and Jill went up the hill \\r\\nTo fetch a pail of water \\n Sagar fell down and broke his crown \\nand Jill came \\\n",
    "tumbling after'\n",
    "\n",
    "\n",
    "print(str1)\n",
    "split_str1 = str1.splitlines(keepends = True)\n",
    "print(split_str1)"
   ]
  },
  {
   "cell_type": "code",
   "execution_count": 81,
   "id": "e1294af6",
   "metadata": {},
   "outputs": [
    {
     "name": "stdout",
     "output_type": "stream",
     "text": [
      "['Jack and Jill went up the hill \\r\\n', 'To fetch a pail of water \\n', 'Jack fell down and broke his crown \\n', 'and Jill came tumbling after']\n"
     ]
    }
   ],
   "source": [
    " \n",
    "split_str1[2] = 'Jack' + split_str1[2][6:]\n",
    "print(split_str1)\n"
   ]
  },
  {
   "cell_type": "code",
   "execution_count": 82,
   "id": "cad92b5e",
   "metadata": {},
   "outputs": [
    {
     "name": "stdout",
     "output_type": "stream",
     "text": [
      "Jack and Jill went up the hill \r\n",
      "To fetch a pail of water \n",
      "Jack fell down and broke his crown \n",
      "and Jill came tumbling after\n"
     ]
    }
   ],
   "source": [
    "str3 = ''.join(split_str1)\n",
    "\n",
    "print(str3)"
   ]
  },
  {
   "cell_type": "code",
   "execution_count": 83,
   "id": "86f216bd",
   "metadata": {},
   "outputs": [
    {
     "name": "stdout",
     "output_type": "stream",
     "text": [
      "00011011\n"
     ]
    }
   ],
   "source": [
    "# zfill\n",
    "\n",
    "str1 = '11011'\n",
    "\n",
    "str1Z1 = str1.zfill(8)\n",
    "\n",
    "print(str1Z1)"
   ]
  },
  {
   "cell_type": "code",
   "execution_count": 84,
   "id": "1b03e113",
   "metadata": {},
   "outputs": [
    {
     "name": "stdout",
     "output_type": "stream",
     "text": [
      "0000000000011011\n"
     ]
    }
   ],
   "source": [
    "str1 = '11011'\n",
    "\n",
    "str1Z1 = str1.zfill(16)\n",
    "\n",
    "print(str1Z1)"
   ]
  },
  {
   "cell_type": "code",
   "execution_count": 86,
   "id": "3f32a715",
   "metadata": {},
   "outputs": [
    {
     "name": "stdout",
     "output_type": "stream",
     "text": [
      "-0011011\n"
     ]
    }
   ],
   "source": [
    "str1 = '-11011'\n",
    "\n",
    "str1Z1 = str1.zfill(8)\n",
    "\n",
    "print(str1Z1)"
   ]
  },
  {
   "cell_type": "code",
   "execution_count": 88,
   "id": "1845d310",
   "metadata": {},
   "outputs": [
    {
     "name": "stdout",
     "output_type": "stream",
     "text": [
      "+0011011\n"
     ]
    }
   ],
   "source": [
    "str1 = '+11011'\n",
    "\n",
    "str1Z1 = str1.zfill(8)\n",
    "\n",
    "print(str1Z1)"
   ]
  },
  {
   "cell_type": "code",
   "execution_count": 89,
   "id": "b9651c80",
   "metadata": {},
   "outputs": [
    {
     "name": "stdout",
     "output_type": "stream",
     "text": [
      "0000000rikki\n"
     ]
    }
   ],
   "source": [
    "str1 = 'rikki'\n",
    "\n",
    "str1R1 = str1.zfill(12)\n",
    "\n",
    "print(str1R1)"
   ]
  },
  {
   "cell_type": "code",
   "execution_count": 91,
   "id": "dd68fc26",
   "metadata": {},
   "outputs": [
    {
     "name": "stdout",
     "output_type": "stream",
     "text": [
      "['00001101', '00010100', '00100000']\n"
     ]
    }
   ],
   "source": [
    "# 1101 = 13\n",
    "# 10100 = 20\n",
    "# 100000 = 32\n",
    "\n",
    "lst1 = ['1101', '10100', '100000']\n",
    "lst2 = []\n",
    "for x in range(len(lst1)):\n",
    "    lst2.append(lst1[x].zfill(8))\n",
    "    \n",
    "    \n",
    "print(lst2)\n",
    "    "
   ]
  },
  {
   "cell_type": "code",
   "execution_count": 2,
   "id": "b77c9dd1",
   "metadata": {},
   "outputs": [
    {
     "name": "stdout",
     "output_type": "stream",
     "text": [
      "      Sandeep       \n",
      "20\n"
     ]
    }
   ],
   "source": [
    "# Center, ljust, rjust methods\n",
    "\n",
    "# Center method - Aligns the given input text in the middle of the output string. \n",
    "\n",
    "# It takes two parameters:\n",
    "\n",
    "#1. Length of output string required - Mandatory\n",
    "\n",
    "# - In case the number of characters to be added (after including the input string character length) is odd - then the\n",
    "# extra one character will come on the right. \n",
    "\n",
    "#2. Fill character - Optional. Defaults to space but can be specified. Only one character can be specified - no more. \n",
    "\n",
    "str1 = 'Sandeep'\n",
    "\n",
    "str2 = str1.center(20)\n",
    "\n",
    "print(str2)\n",
    "print(len(str2))"
   ]
  },
  {
   "cell_type": "code",
   "execution_count": 4,
   "id": "b6d74fea",
   "metadata": {},
   "outputs": [
    {
     "name": "stdout",
     "output_type": "stream",
     "text": [
      "*      Sandeep       *\n"
     ]
    }
   ],
   "source": [
    "print('*'+str2+'*')"
   ]
  },
  {
   "cell_type": "code",
   "execution_count": 5,
   "id": "7617abe7",
   "metadata": {},
   "outputs": [
    {
     "name": "stdout",
     "output_type": "stream",
     "text": [
      "22\n"
     ]
    }
   ],
   "source": [
    "print(len('*'+str2+'*'))"
   ]
  },
  {
   "cell_type": "code",
   "execution_count": 7,
   "id": "9cc4467c",
   "metadata": {},
   "outputs": [],
   "source": [
    "# 6 spaces + 7 char Sandeep + 7 spaces\n",
    "\n",
    "# 7 spaces + 6 char text + 7 spaces"
   ]
  },
  {
   "cell_type": "code",
   "execution_count": 8,
   "id": "1b6a5a98",
   "metadata": {},
   "outputs": [
    {
     "ename": "TypeError",
     "evalue": "The fill character must be exactly one character long",
     "output_type": "error",
     "traceback": [
      "\u001b[1;31m---------------------------------------------------------------------------\u001b[0m",
      "\u001b[1;31mTypeError\u001b[0m                                 Traceback (most recent call last)",
      "\u001b[1;32m~\\AppData\\Local\\Temp\\ipykernel_3604\\107219093.py\u001b[0m in \u001b[0;36m<module>\u001b[1;34m\u001b[0m\n\u001b[1;32m----> 1\u001b[1;33m \u001b[0mstr3\u001b[0m \u001b[1;33m=\u001b[0m \u001b[0mstr1\u001b[0m\u001b[1;33m.\u001b[0m\u001b[0mcenter\u001b[0m\u001b[1;33m(\u001b[0m\u001b[1;36m20\u001b[0m\u001b[1;33m,\u001b[0m \u001b[1;34m'$%'\u001b[0m\u001b[1;33m)\u001b[0m\u001b[1;33m\u001b[0m\u001b[1;33m\u001b[0m\u001b[0m\n\u001b[0m\u001b[0;32m      2\u001b[0m \u001b[1;33m\u001b[0m\u001b[0m\n\u001b[0;32m      3\u001b[0m \u001b[0mprint\u001b[0m\u001b[1;33m(\u001b[0m\u001b[0mstr3\u001b[0m\u001b[1;33m)\u001b[0m\u001b[1;33m\u001b[0m\u001b[1;33m\u001b[0m\u001b[0m\n",
      "\u001b[1;31mTypeError\u001b[0m: The fill character must be exactly one character long"
     ]
    }
   ],
   "source": [
    "str3 = str1.center(20, '$')\n",
    "\n",
    "print(str3)"
   ]
  },
  {
   "cell_type": "code",
   "execution_count": 9,
   "id": "62589d9e",
   "metadata": {},
   "outputs": [
    {
     "ename": "TypeError",
     "evalue": "The fill character must be exactly one character long",
     "output_type": "error",
     "traceback": [
      "\u001b[1;31m---------------------------------------------------------------------------\u001b[0m",
      "\u001b[1;31mTypeError\u001b[0m                                 Traceback (most recent call last)",
      "\u001b[1;32m~\\AppData\\Local\\Temp\\ipykernel_3604\\1796685519.py\u001b[0m in \u001b[0;36m<module>\u001b[1;34m\u001b[0m\n\u001b[0;32m      1\u001b[0m \u001b[1;31m# Will only allow to specify one fill character, not more. Below will not work.\u001b[0m\u001b[1;33m\u001b[0m\u001b[1;33m\u001b[0m\u001b[0m\n\u001b[0;32m      2\u001b[0m \u001b[1;33m\u001b[0m\u001b[0m\n\u001b[1;32m----> 3\u001b[1;33m \u001b[0mstr3\u001b[0m \u001b[1;33m=\u001b[0m \u001b[0mstr1\u001b[0m\u001b[1;33m.\u001b[0m\u001b[0mcenter\u001b[0m\u001b[1;33m(\u001b[0m\u001b[1;36m20\u001b[0m\u001b[1;33m,\u001b[0m \u001b[1;34m'$%'\u001b[0m\u001b[1;33m)\u001b[0m\u001b[1;33m\u001b[0m\u001b[1;33m\u001b[0m\u001b[0m\n\u001b[0m\u001b[0;32m      4\u001b[0m \u001b[1;33m\u001b[0m\u001b[0m\n\u001b[0;32m      5\u001b[0m \u001b[0mprint\u001b[0m\u001b[1;33m(\u001b[0m\u001b[0mstr3\u001b[0m\u001b[1;33m)\u001b[0m\u001b[1;33m\u001b[0m\u001b[1;33m\u001b[0m\u001b[0m\n",
      "\u001b[1;31mTypeError\u001b[0m: The fill character must be exactly one character long"
     ]
    }
   ],
   "source": [
    "# Will only allow to specify one fill character, not more. Below will not work. \n",
    "\n",
    "str3 = str1.center(20, '$%')\n",
    "\n",
    "print(str3)\n",
    "\n"
   ]
  },
  {
   "cell_type": "code",
   "execution_count": 15,
   "id": "af458099",
   "metadata": {},
   "outputs": [],
   "source": [
    "# ljust - justifies the input string to the left of the output string and fills extra characters on the right\n",
    "# rjust - justifies the input string to the right of the output string and fills extra characters on the left. \n",
    "\n",
    "# Like center method - they take two parameters. \n",
    "\n",
    "#1. Length of output string - mandatory\n",
    "#2. Fill character - optional. Defaults to white space and only one character can be specified. "
   ]
  },
  {
   "cell_type": "code",
   "execution_count": 10,
   "id": "f99e7f29",
   "metadata": {},
   "outputs": [
    {
     "name": "stdout",
     "output_type": "stream",
     "text": [
      "Rashmika            \n"
     ]
    }
   ],
   "source": [
    "str1 = 'Rashmika'\n",
    "\n",
    "str2 = str1.ljust(20)\n",
    "\n",
    "print(str2)"
   ]
  },
  {
   "cell_type": "code",
   "execution_count": 11,
   "id": "13a2d78a",
   "metadata": {},
   "outputs": [
    {
     "name": "stdout",
     "output_type": "stream",
     "text": [
      "Rashmika************\n"
     ]
    }
   ],
   "source": [
    "str1 = 'Rashmika'\n",
    "\n",
    "str2 = str1.ljust(20, '*')\n",
    "\n",
    "print(str2)"
   ]
  },
  {
   "cell_type": "code",
   "execution_count": 12,
   "id": "46ca52d7",
   "metadata": {},
   "outputs": [
    {
     "name": "stdout",
     "output_type": "stream",
     "text": [
      "            Rashmika\n"
     ]
    }
   ],
   "source": [
    "str1 = 'Rashmika'\n",
    "\n",
    "str2 = str1.rjust(20)\n",
    "\n",
    "print(str2)"
   ]
  },
  {
   "cell_type": "code",
   "execution_count": 14,
   "id": "03d259ae",
   "metadata": {},
   "outputs": [
    {
     "name": "stdout",
     "output_type": "stream",
     "text": [
      "************Rashmika\n"
     ]
    }
   ],
   "source": [
    "str1 = 'Rashmika'\n",
    "\n",
    "str2 = str1.rjust(20, '*')\n",
    "\n",
    "print(str2)"
   ]
  },
  {
   "cell_type": "code",
   "execution_count": 26,
   "id": "442c3c62",
   "metadata": {},
   "outputs": [],
   "source": [
    "# lower\n",
    "# upper\n",
    "# capitalize\n",
    "# swapcase\n",
    "# title"
   ]
  },
  {
   "cell_type": "code",
   "execution_count": 17,
   "id": "37a14324",
   "metadata": {},
   "outputs": [
    {
     "name": "stdout",
     "output_type": "stream",
     "text": [
      "BETTY BOUGHT SOME BUTTER BUT THE BUTTER WAS BITTER.\n"
     ]
    }
   ],
   "source": [
    "# upper - makes all the characters in the string in upper case.\n",
    "str1 = 'Betty bought some butter but the butter was bitter.'\n",
    "\n",
    "str2 = str1.upper()\n",
    "\n",
    "print(str2)"
   ]
  },
  {
   "cell_type": "code",
   "execution_count": 18,
   "id": "6cd33e3b",
   "metadata": {},
   "outputs": [
    {
     "name": "stdout",
     "output_type": "stream",
     "text": [
      "betty bought some butter but the butter was bitter.\n"
     ]
    }
   ],
   "source": [
    "# lower - makes ALL the characters in the string in lower case.\n",
    "\n",
    "str3 = str1.lower()\n",
    "\n",
    "print(str3)"
   ]
  },
  {
   "cell_type": "code",
   "execution_count": 19,
   "id": "a49f90e9",
   "metadata": {},
   "outputs": [
    {
     "name": "stdout",
     "output_type": "stream",
     "text": [
      "Betty bought some butter but the butter was bitter.\n"
     ]
    }
   ],
   "source": [
    "# capitalize makes only the FIRST character of the string in capital, all other characters are converted to lower case if\n",
    "# not already lower case. \n",
    "\n",
    "str4 = str1.capitalize()\n",
    "\n",
    "print(str4)"
   ]
  },
  {
   "cell_type": "code",
   "execution_count": 23,
   "id": "fe419ae7",
   "metadata": {},
   "outputs": [
    {
     "name": "stdout",
     "output_type": "stream",
     "text": [
      "Hi there.how are you doing?\n"
     ]
    }
   ],
   "source": [
    "\n",
    "str5 = 'Hi there.how Are you doing?'\n",
    "\n",
    "str6 = str5.capitalize()\n",
    "\n",
    "print(str6)"
   ]
  },
  {
   "cell_type": "code",
   "execution_count": 24,
   "id": "bc54e8b1",
   "metadata": {},
   "outputs": [
    {
     "name": "stdout",
     "output_type": "stream",
     "text": [
      "Betty Bought Some Butter But The Butter Was Bitter\n"
     ]
    }
   ],
   "source": [
    "# Title - makes the first character of every word into capital and rest lower case. \n",
    "\n",
    "str1 = 'betty bOugHT somE buttEr but the ButTer wAs biTTER'\n",
    "\n",
    "str2 = str1.title()\n",
    "\n",
    "print(str2)"
   ]
  },
  {
   "cell_type": "code",
   "execution_count": 25,
   "id": "7a630d91",
   "metadata": {},
   "outputs": [
    {
     "name": "stdout",
     "output_type": "stream",
     "text": [
      "bETTY bOUGHT sOME bUTTER bUT tHE bUTTER wAS bITTER\n"
     ]
    }
   ],
   "source": [
    "# Swapcase - swaps upper to lower and lower to upper case. \n",
    "\n",
    "str1 = 'Betty Bought Some Butter But The Butter Was Bitter'\n",
    "\n",
    "str2 = str1.swapcase()\n",
    "\n",
    "print(str2)"
   ]
  },
  {
   "cell_type": "markdown",
   "id": "a1867032",
   "metadata": {},
   "source": [
    "# String checking methods. \n",
    "\n",
    "startswith - X\n",
    "endswith - X\n",
    "isalpha - X\n",
    "isalnum - X\n",
    "isascii - X\n",
    "isdecimal \n",
    "isdigit\n",
    "isidentifier - X\n",
    "islower - X\n",
    "isnumeric\n",
    "isprintable - X\n",
    "isspace - X\n",
    "istitle - X\n",
    "isupper - X\n",
    "\n"
   ]
  },
  {
   "cell_type": "code",
   "execution_count": 27,
   "id": "45cab51d",
   "metadata": {},
   "outputs": [
    {
     "name": "stdout",
     "output_type": "stream",
     "text": [
      "True\n",
      "True\n"
     ]
    }
   ],
   "source": [
    "# Startwith, endswith - returns true false for whether specified string starts with or ends with the particular character(s)\n",
    "\n",
    "# They take 3 parameters:\n",
    "\n",
    "#1. SubString to be checked for at beginning or end of strings. - Mandatory\n",
    "#2. Start index - Optional - From input string - where to begin checking. \n",
    "#3. End index - optional - From input string - where to end checking\n",
    "\n",
    "str1 = 'Rajia says hello'\n",
    "\n",
    "print(str1.startswith('R'))\n",
    "print(str1.endswith('o'))"
   ]
  },
  {
   "cell_type": "code",
   "execution_count": 28,
   "id": "0e99349d",
   "metadata": {},
   "outputs": [
    {
     "name": "stdout",
     "output_type": "stream",
     "text": [
      "True\n",
      "True\n"
     ]
    }
   ],
   "source": [
    "str1 = 'Rajia says hello'\n",
    "\n",
    "print(str1.startswith('Raj'))\n",
    "print(str1.endswith('llo'))"
   ]
  },
  {
   "cell_type": "code",
   "execution_count": 29,
   "id": "980173dc",
   "metadata": {},
   "outputs": [
    {
     "name": "stdout",
     "output_type": "stream",
     "text": [
      "False\n",
      "False\n"
     ]
    }
   ],
   "source": [
    "str1 = ' Rajia says hello '\n",
    "\n",
    "print(str1.startswith('Raj'))\n",
    "print(str1.endswith('llo'))"
   ]
  },
  {
   "cell_type": "code",
   "execution_count": 34,
   "id": "ec509a2e",
   "metadata": {},
   "outputs": [
    {
     "name": "stdout",
     "output_type": "stream",
     "text": [
      "True\n",
      "True\n"
     ]
    }
   ],
   "source": [
    "str1 = ' Rajia says hello '\n",
    "\n",
    "print(str1.startswith('Raj', 1, len(str1)))\n",
    "print(str1.endswith('llo',0,-1))"
   ]
  },
  {
   "cell_type": "code",
   "execution_count": 38,
   "id": "ce4817b1",
   "metadata": {},
   "outputs": [
    {
     "name": "stdout",
     "output_type": "stream",
     "text": [
      "True\n",
      "False\n",
      "False\n"
     ]
    }
   ],
   "source": [
    "# isalpha - checks if all the characters are alphabets\n",
    "\n",
    "str1 = 'Vivek'\n",
    "str2 = 'Vivek93'\n",
    "str3 = 'Vivek@gmail.com'\n",
    "\n",
    "print(str1.isalpha())\n",
    "print(str2.isalpha())\n",
    "print(str3.isalpha())"
   ]
  },
  {
   "cell_type": "code",
   "execution_count": 39,
   "id": "d4a6145b",
   "metadata": {},
   "outputs": [
    {
     "name": "stdout",
     "output_type": "stream",
     "text": [
      "True\n",
      "True\n",
      "False\n"
     ]
    }
   ],
   "source": [
    "# isalnum - checks if all the characters are alphabets or numbers. Any others will throw false.\n",
    "str1 = 'Vivek'\n",
    "str2 = 'Vivek93'\n",
    "str3 = 'Vivek@gmail.com'\n",
    "\n",
    "print(str1.isalnum())\n",
    "print(str2.isalnum())\n",
    "print(str3.isalnum())"
   ]
  },
  {
   "cell_type": "code",
   "execution_count": 41,
   "id": "cadacfaf",
   "metadata": {},
   "outputs": [
    {
     "name": "stdout",
     "output_type": "stream",
     "text": [
      "False\n",
      "False\n",
      "False\n",
      "True\n",
      "True\n",
      "True\n"
     ]
    }
   ],
   "source": [
    "# islower - checks if the ALPHABETS are in lower case. Numbers and other characters are ignored.\n",
    "\n",
    "str1 = 'Vivek'\n",
    "str2 = 'Vivek93'\n",
    "str3 = 'Vivek@gmail.com'\n",
    "str4 = 'vivek'\n",
    "str5 = 'vivek@gmail.com'\n",
    "str6 = 'vivek93'\n",
    "\n",
    "print(str1.islower())\n",
    "print(str2.islower())\n",
    "print(str3.islower())\n",
    "print(str4.islower())\n",
    "print(str5.islower())\n",
    "print(str6.islower())"
   ]
  },
  {
   "cell_type": "code",
   "execution_count": 43,
   "id": "cb419650",
   "metadata": {},
   "outputs": [
    {
     "name": "stdout",
     "output_type": "stream",
     "text": [
      "True\n",
      "True\n",
      "True\n",
      "False\n",
      "False\n",
      "False\n"
     ]
    }
   ],
   "source": [
    "# isupper - checks if the ALPHABETS are in upper case. Numbers and other characters are ignored.\n",
    "\n",
    "str1 = 'VIVEK'\n",
    "str2 = 'VIVEK93'\n",
    "str3 = 'VIVEK@GMAIL.COM'\n",
    "str4 = 'vivek'\n",
    "str5 = 'vivek@gmail.com'\n",
    "str6 = 'vivek93'\n",
    "\n",
    "print(str1.isupper())\n",
    "print(str2.isupper())\n",
    "print(str3.isupper())\n",
    "print(str4.isupper())\n",
    "print(str5.isupper())\n",
    "print(str6.isupper())"
   ]
  },
  {
   "cell_type": "code",
   "execution_count": 47,
   "id": "d0a81443",
   "metadata": {},
   "outputs": [
    {
     "name": "stdout",
     "output_type": "stream",
     "text": [
      "Ravi\n",
      "ⅤRavi\n",
      "True\n",
      "False\n"
     ]
    }
   ],
   "source": [
    "# isascii - checks if the character(s) is(are) part of the ascii table. \n",
    "\n",
    "str1 = 'Ravi'\n",
    "str2 = '\\u2164Ravi'\n",
    "\n",
    "print(str1)\n",
    "print(str2)\n",
    "print(str1.isascii())\n",
    "print(str2.isascii())"
   ]
  },
  {
   "cell_type": "code",
   "execution_count": 48,
   "id": "6cccddb2",
   "metadata": {},
   "outputs": [
    {
     "name": "stdout",
     "output_type": "stream",
     "text": [
      "False\n",
      "False\n",
      "True\n",
      "True\n"
     ]
    }
   ],
   "source": [
    "#isspace - checks if all the characters in the string are spaces. \n",
    "\n",
    "str1 = 'Bharath'\n",
    "str2 = 'B h a r a t h'\n",
    "str3 = ' '\n",
    "str4 = ' '*20\n",
    "\n",
    "print(str1.isspace())\n",
    "print(str2.isspace())\n",
    "print(str3.isspace())\n",
    "print(str4.isspace())"
   ]
  },
  {
   "cell_type": "code",
   "execution_count": 49,
   "id": "fac593f8",
   "metadata": {},
   "outputs": [
    {
     "name": "stdout",
     "output_type": "stream",
     "text": [
      "0 ----> \u0000\n",
      "1 ----> \u0001\n",
      "2 ----> \u0002\n",
      "3 ----> \u0003\n",
      "4 ----> \u0004\n",
      "5 ----> \u0005\n",
      "6 ----> \u0006\n",
      "7 ----> \u0007\n",
      "8 ----> \b\n",
      "9 ----> \t\n"
     ]
    }
   ],
   "source": [
    "for x in range(10):\n",
    "    print(x, '---->', chr(x))"
   ]
  },
  {
   "cell_type": "code",
   "execution_count": 50,
   "id": "57934a29",
   "metadata": {},
   "outputs": [
    {
     "name": "stdout",
     "output_type": "stream",
     "text": [
      "65 ---> A\n",
      "66 ---> B\n",
      "67 ---> C\n",
      "68 ---> D\n",
      "69 ---> E\n",
      "70 ---> F\n",
      "71 ---> G\n",
      "72 ---> H\n",
      "73 ---> I\n",
      "74 ---> J\n",
      "75 ---> K\n",
      "76 ---> L\n",
      "77 ---> M\n",
      "78 ---> N\n",
      "79 ---> O\n",
      "80 ---> P\n",
      "81 ---> Q\n",
      "82 ---> R\n",
      "83 ---> S\n",
      "84 ---> T\n",
      "85 ---> U\n",
      "86 ---> V\n",
      "87 ---> W\n",
      "88 ---> X\n",
      "89 ---> Y\n",
      "90 ---> Z\n",
      "91 ---> [\n",
      "92 ---> \\\n",
      "93 ---> ]\n",
      "94 ---> ^\n",
      "95 ---> _\n",
      "96 ---> `\n",
      "97 ---> a\n",
      "98 ---> b\n",
      "99 ---> c\n",
      "100 ---> d\n",
      "101 ---> e\n",
      "102 ---> f\n",
      "103 ---> g\n",
      "104 ---> h\n",
      "105 ---> i\n",
      "106 ---> j\n",
      "107 ---> k\n",
      "108 ---> l\n",
      "109 ---> m\n",
      "110 ---> n\n",
      "111 ---> o\n",
      "112 ---> p\n",
      "113 ---> q\n",
      "114 ---> r\n",
      "115 ---> s\n",
      "116 ---> t\n",
      "117 ---> u\n",
      "118 ---> v\n",
      "119 ---> w\n",
      "120 ---> x\n",
      "121 ---> y\n",
      "122 ---> z\n",
      "123 ---> {\n",
      "124 ---> |\n",
      "125 ---> }\n",
      "126 ---> ~\n",
      "127 ---> \n"
     ]
    }
   ],
   "source": [
    "for x in range(65,128):\n",
    "    print(x, '--->', chr(x))"
   ]
  },
  {
   "cell_type": "code",
   "execution_count": null,
   "id": "0f9ffd78",
   "metadata": {},
   "outputs": [],
   "source": [
    "# isprintable - checks if the character(s) is/are printable characters. It checks this in the UNICODE table and if classified\n",
    "# as printable there will return True else False. "
   ]
  },
  {
   "cell_type": "code",
   "execution_count": 51,
   "id": "b2b114aa",
   "metadata": {},
   "outputs": [
    {
     "name": "stdout",
     "output_type": "stream",
     "text": [
      "\t\n"
     ]
    }
   ],
   "source": [
    "str1 = chr(9)\n",
    "\n",
    "print(str1)"
   ]
  },
  {
   "cell_type": "code",
   "execution_count": 52,
   "id": "9f52aee3",
   "metadata": {},
   "outputs": [
    {
     "name": "stdout",
     "output_type": "stream",
     "text": [
      "A\n"
     ]
    }
   ],
   "source": [
    "str2 = chr(65)\n",
    "\n",
    "print(str2)"
   ]
  },
  {
   "cell_type": "code",
   "execution_count": 53,
   "id": "fb41c238",
   "metadata": {},
   "outputs": [
    {
     "name": "stdout",
     "output_type": "stream",
     "text": [
      "False\n",
      "True\n"
     ]
    }
   ],
   "source": [
    "print(str1.isprintable())\n",
    "print(str2.isprintable())"
   ]
  },
  {
   "cell_type": "code",
   "execution_count": 54,
   "id": "e2ff2162",
   "metadata": {},
   "outputs": [
    {
     "name": "stdout",
     "output_type": "stream",
     "text": [
      "True\n",
      "False\n"
     ]
    }
   ],
   "source": [
    "# istitle method - is SUPPOSED to check if all the first characters of each word are capitalised. \n",
    "\n",
    "str1 = 'Betty Bought Some Butter'\n",
    "str2 = 'Betty bought some butter'\n",
    "\n",
    "print(str1.istitle())\n",
    "print(str2.istitle())"
   ]
  },
  {
   "cell_type": "code",
   "execution_count": 55,
   "id": "021080a2",
   "metadata": {},
   "outputs": [
    {
     "name": "stdout",
     "output_type": "stream",
     "text": [
      "True\n"
     ]
    }
   ],
   "source": [
    "# isidentifier - checks if the string follows identifier rules. However, DOES NOT check if it is already a keyword. For that\n",
    "# we can use the keyword library and iskeyword method\n",
    "\n",
    "str1 = 'antara'\n",
    "\n",
    "\n",
    "print(str1.isidentifier())"
   ]
  },
  {
   "cell_type": "code",
   "execution_count": 57,
   "id": "003c1f87",
   "metadata": {},
   "outputs": [
    {
     "name": "stdout",
     "output_type": "stream",
     "text": [
      "False\n"
     ]
    }
   ],
   "source": [
    "str1 = 'Antara B'\n",
    "\n",
    "\n",
    "print(str1.isidentifier())"
   ]
  },
  {
   "cell_type": "code",
   "execution_count": 60,
   "id": "237a5718",
   "metadata": {},
   "outputs": [
    {
     "name": "stdout",
     "output_type": "stream",
     "text": [
      "True\n"
     ]
    }
   ],
   "source": [
    "str2 = 'for'\n",
    "\n",
    "print(str2.isidentifier())"
   ]
  },
  {
   "cell_type": "code",
   "execution_count": 61,
   "id": "719b5096",
   "metadata": {},
   "outputs": [
    {
     "name": "stdout",
     "output_type": "stream",
     "text": [
      "['False', 'None', 'True', '__peg_parser__', 'and', 'as', 'assert', 'async', 'await', 'break', 'class', 'continue', 'def', 'del', 'elif', 'else', 'except', 'finally', 'for', 'from', 'global', 'if', 'import', 'in', 'is', 'lambda', 'nonlocal', 'not', 'or', 'pass', 'raise', 'return', 'try', 'while', 'with', 'yield']\n"
     ]
    }
   ],
   "source": [
    "import keyword\n",
    "\n",
    "print(keyword.kwlist)"
   ]
  },
  {
   "cell_type": "code",
   "execution_count": 64,
   "id": "8313290e",
   "metadata": {},
   "outputs": [
    {
     "name": "stdout",
     "output_type": "stream",
     "text": [
      "['__all__', '__builtins__', '__cached__', '__doc__', '__file__', '__loader__', '__name__', '__package__', '__spec__', 'iskeyword', 'issoftkeyword', 'kwlist', 'softkwlist']\n"
     ]
    }
   ],
   "source": [
    "print(dir(keyword))"
   ]
  },
  {
   "cell_type": "code",
   "execution_count": 65,
   "id": "84c9b0bc",
   "metadata": {},
   "outputs": [
    {
     "name": "stdout",
     "output_type": "stream",
     "text": [
      "True\n"
     ]
    }
   ],
   "source": [
    "print(keyword.iskeyword(str2))"
   ]
  },
  {
   "cell_type": "code",
   "execution_count": 66,
   "id": "5d3dba02",
   "metadata": {},
   "outputs": [
    {
     "name": "stdout",
     "output_type": "stream",
     "text": [
      "True True\n"
     ]
    }
   ],
   "source": [
    "print(str2.isidentifier(), keyword.iskeyword(str2))"
   ]
  },
  {
   "cell_type": "code",
   "execution_count": 67,
   "id": "0beb675b",
   "metadata": {},
   "outputs": [
    {
     "name": "stdout",
     "output_type": "stream",
     "text": [
      "True False\n"
     ]
    }
   ],
   "source": [
    "str2 = 'sameer'\n",
    "\n",
    "print(str2.isidentifier(), keyword.iskeyword(str2))"
   ]
  },
  {
   "cell_type": "code",
   "execution_count": 68,
   "id": "05a328c7",
   "metadata": {},
   "outputs": [
    {
     "name": "stdout",
     "output_type": "stream",
     "text": [
      "False False\n"
     ]
    }
   ],
   "source": [
    "str2 = 'Sameer S'\n",
    "\n",
    "print(str2.isidentifier(), keyword.iskeyword(str2))"
   ]
  },
  {
   "cell_type": "code",
   "execution_count": 69,
   "id": "316727a0",
   "metadata": {},
   "outputs": [
    {
     "name": "stdout",
     "output_type": "stream",
     "text": [
      "['A', 'B', 'C', 'D', 'E']\n"
     ]
    }
   ],
   "source": [
    "lst1 = list('ABCDE')\n",
    "\n",
    "print(lst1)"
   ]
  },
  {
   "cell_type": "code",
   "execution_count": 70,
   "id": "a0aff185",
   "metadata": {},
   "outputs": [
    {
     "ename": "AttributeError",
     "evalue": "'list' object has no attribute 'isupper'",
     "output_type": "error",
     "traceback": [
      "\u001b[1;31m---------------------------------------------------------------------------\u001b[0m",
      "\u001b[1;31mAttributeError\u001b[0m                            Traceback (most recent call last)",
      "\u001b[1;32m~\\AppData\\Local\\Temp\\ipykernel_3604\\2252796570.py\u001b[0m in \u001b[0;36m<module>\u001b[1;34m\u001b[0m\n\u001b[1;32m----> 1\u001b[1;33m \u001b[0mlst1\u001b[0m\u001b[1;33m.\u001b[0m\u001b[0misupper\u001b[0m\u001b[1;33m(\u001b[0m\u001b[1;33m)\u001b[0m\u001b[1;33m\u001b[0m\u001b[1;33m\u001b[0m\u001b[0m\n\u001b[0m",
      "\u001b[1;31mAttributeError\u001b[0m: 'list' object has no attribute 'isupper'"
     ]
    }
   ],
   "source": [
    "lst1.isupper()"
   ]
  },
  {
   "cell_type": "code",
   "execution_count": 77,
   "id": "60c1d4d1",
   "metadata": {},
   "outputs": [
    {
     "name": "stdout",
     "output_type": "stream",
     "text": [
      "Is float\n"
     ]
    }
   ],
   "source": [
    "# program to check if input is a float or not. \n",
    "\n",
    "str1 = '10000.27230131'\n",
    "\n",
    "splitstr = str1.split('.')\n",
    "\n",
    "if len(splitstr)== 2:\n",
    "    if splitstr[0].isdecimal() and splitstr[1].isdecimal():\n",
    "        print('Is float')\n",
    "    else:\n",
    "        print(\"Not float\")\n",
    "else:\n",
    "    print('Not float')"
   ]
  },
  {
   "cell_type": "code",
   "execution_count": 84,
   "id": "07d3b495",
   "metadata": {},
   "outputs": [
    {
     "name": "stdout",
     "output_type": "stream",
     "text": [
      "123.372Ⅴ\n",
      "False\n"
     ]
    }
   ],
   "source": [
    "#abhijeet\n",
    "\n",
    "str1 = '123.372\\u2164'\n",
    "\n",
    "print(str1)\n",
    "if str1.count('.') == 1 and str1.replace('.', \"\").isdecimal():\n",
    "    print('True')\n",
    "else:\n",
    "    print('False')\n"
   ]
  },
  {
   "cell_type": "code",
   "execution_count": 98,
   "id": "96a69f6e",
   "metadata": {},
   "outputs": [
    {
     "name": "stdout",
     "output_type": "stream",
     "text": [
      "False\n"
     ]
    }
   ],
   "source": [
    "#anshu\n",
    "\n",
    "str_float='-123.3\\u2164'\n",
    "if a[0] == '-' or a[0]=='+':\n",
    "    a = a[1:]\n",
    "\n",
    "\n",
    "x= str_float.replace('.','',1)\n",
    "print(x.isdecimal())\n"
   ]
  },
  {
   "cell_type": "code",
   "execution_count": 94,
   "id": "b13a90e0",
   "metadata": {},
   "outputs": [
    {
     "name": "stdout",
     "output_type": "stream",
     "text": [
      "0.123Ⅴ\n",
      "given number is not a float\n"
     ]
    }
   ],
   "source": [
    "#DS\n",
    "\n",
    "a = '-0.123\\u2164'\n",
    "if a[0] == '-' or a[0]=='+':\n",
    "    a = a[1:]\n",
    "print(a)\n",
    "b= a.split('.')\n",
    "\n",
    "\n",
    "if(len(b) == 2):\n",
    "    if(b[0].isdecimal() and b[1].isdecimal()):\n",
    "        print(\"given number is a float\")\n",
    "    else:\n",
    "        print(\"given number is not a float\")\n",
    "else:\n",
    "    print(\"given input is invalid for float\")\n"
   ]
  },
  {
   "cell_type": "code",
   "execution_count": 89,
   "id": "b6d9116b",
   "metadata": {},
   "outputs": [
    {
     "name": "stdout",
     "output_type": "stream",
     "text": [
      "False\n"
     ]
    }
   ],
   "source": [
    "print('-0'.isdecimal())"
   ]
  },
  {
   "cell_type": "code",
   "execution_count": 90,
   "id": "797996c9",
   "metadata": {},
   "outputs": [
    {
     "name": "stdout",
     "output_type": "stream",
     "text": [
      "False\n"
     ]
    }
   ],
   "source": [
    "print('-0'.isnumeric())"
   ]
  },
  {
   "cell_type": "code",
   "execution_count": 102,
   "id": "400e8972",
   "metadata": {},
   "outputs": [
    {
     "name": "stdout",
     "output_type": "stream",
     "text": [
      "Rikki\tSabnani\n",
      "13\n"
     ]
    }
   ],
   "source": [
    "# expandtabs\n",
    "\n",
    "str1 = 'Rikki\\tSabnani'\n",
    "\n",
    "print(str1)\n",
    "print(len(str1))"
   ]
  },
  {
   "cell_type": "code",
   "execution_count": 103,
   "id": "7b98215b",
   "metadata": {},
   "outputs": [
    {
     "name": "stdout",
     "output_type": "stream",
     "text": [
      "Rikki               Sabnani\n"
     ]
    }
   ],
   "source": [
    "str2 = str1.expandtabs(20)\n",
    "\n",
    "print(str2)"
   ]
  },
  {
   "cell_type": "code",
   "execution_count": 111,
   "id": "e91a635c",
   "metadata": {},
   "outputs": [
    {
     "name": "stdout",
     "output_type": "stream",
     "text": [
      "{82: 'V', 105: 'j'}\n"
     ]
    }
   ],
   "source": [
    "#maketrans, translate\n",
    "\n",
    "str1 = 'Rikki Ran over the Road'\n",
    "dicttable = str1.maketrans({'R':'V','i':'j'})\n",
    "\n",
    "print(dicttable)\n",
    "\n"
   ]
  },
  {
   "cell_type": "code",
   "execution_count": 105,
   "id": "b1d6f741",
   "metadata": {},
   "outputs": [
    {
     "name": "stdout",
     "output_type": "stream",
     "text": [
      "82\n",
      "86\n"
     ]
    }
   ],
   "source": [
    "print(ord('R'))\n",
    "print(ord('V'))"
   ]
  },
  {
   "cell_type": "code",
   "execution_count": 112,
   "id": "76f1293e",
   "metadata": {},
   "outputs": [
    {
     "name": "stdout",
     "output_type": "stream",
     "text": [
      "Vjkkj Van over the Voad\n"
     ]
    }
   ],
   "source": [
    "str3 = str1.translate(dicttable)\n",
    "\n",
    "print(str3)"
   ]
  },
  {
   "cell_type": "code",
   "execution_count": 113,
   "id": "3cd4a0e6",
   "metadata": {},
   "outputs": [
    {
     "name": "stdout",
     "output_type": "stream",
     "text": [
      "a = 100 b = 10.2 c = (2+3j) d = Sreenivas\n"
     ]
    }
   ],
   "source": [
    "# format method\n",
    "\n",
    "print('a = {} b = {} c = {} d = {}'.format(100, 10.2, 2+3j, 'Sreenivas'))"
   ]
  },
  {
   "cell_type": "code",
   "execution_count": 114,
   "id": "15b38e1f",
   "metadata": {},
   "outputs": [
    {
     "name": "stdout",
     "output_type": "stream",
     "text": [
      "Ashwinis hobby is dancing and has been doing this for 29 years\n",
      "Sreenivas hobby is Reading and has been doing this for 7 years\n",
      "Vivek hobby is Cricket and has been doing this for 88 years\n"
     ]
    }
   ],
   "source": [
    "names = ['Ashwini', 'Sreenivas', 'Vivek']\n",
    "hobbies = ['Dancing', 'Reading', 'Cricket']\n",
    "sinceyears = [29,7,88]\n",
    "\n",
    "print('Ashwinis hobby is dancing and has been doing this for 29 years')\n",
    "print('Sreenivas hobby is Reading and has been doing this for 7 years')\n",
    "print('Vivek hobby is Cricket and has been doing this for 88 years')\n"
   ]
  },
  {
   "cell_type": "code",
   "execution_count": 115,
   "id": "e590d247",
   "metadata": {},
   "outputs": [
    {
     "name": "stdout",
     "output_type": "stream",
     "text": [
      "Ashwini hobby is Dancing and has been doing this for 29 years\n",
      "Sreenivas hobby is Reading and has been doing this for 7 years\n",
      "Vivek hobby is Cricket and has been doing this for 88 years\n"
     ]
    }
   ],
   "source": [
    "for x in range(len(names)):\n",
    "    print('{} hobby is {} and has been doing this for {} years'.format(names[x], hobbies[x], sinceyears[x]))"
   ]
  },
  {
   "cell_type": "code",
   "execution_count": 122,
   "id": "7c86f8b0",
   "metadata": {},
   "outputs": [
    {
     "name": "stdout",
     "output_type": "stream",
     "text": [
      "a = 10.2 b = Sreenivas c = 100 d = (2+3j)\n"
     ]
    }
   ],
   "source": [
    "print('a = {1} b = {3} c = {0} d = {2}'.format(100, 10.2, 2+3j, 'Sreenivas'))"
   ]
  },
  {
   "cell_type": "code",
   "execution_count": 119,
   "id": "b705bbbc",
   "metadata": {},
   "outputs": [
    {
     "name": "stdout",
     "output_type": "stream",
     "text": [
      "a = (2+3j) b = 10.2 c = SreenivasSreenivasSreenivas d = 200\n"
     ]
    }
   ],
   "source": [
    "print('a = {q} b = {p} c = {r} d = {s}'.format(s=100*2, p=10.2, q=2+3j, r='Sreenivas'*3))"
   ]
  },
  {
   "cell_type": "code",
   "execution_count": 124,
   "id": "4f647a41",
   "metadata": {},
   "outputs": [
    {
     "name": "stdout",
     "output_type": "stream",
     "text": [
      "a = (2+3j), b = 10.2, c = SreenivasSreenivasSreenivas, d = 200\n"
     ]
    }
   ],
   "source": [
    "# Latest string formatting method is fstring\n",
    "\n",
    "p = 10.2\n",
    "s = 100\n",
    "q = 2+3j\n",
    "r = 'Sreenivas'\n",
    "print(f'a = {q}, b = {p}, c = {r*3}, d = {s*2}')"
   ]
  },
  {
   "cell_type": "code",
   "execution_count": 125,
   "id": "6f6399e0",
   "metadata": {},
   "outputs": [
    {
     "name": "stdout",
     "output_type": "stream",
     "text": [
      "Ashwini hobby is Dancing and has been doing this for 29\n",
      "Sreenivas hobby is Reading and has been doing this for 7\n",
      "Vivek hobby is Cricket and has been doing this for 88\n"
     ]
    }
   ],
   "source": [
    "for x in range(len(names)):\n",
    "    print(f'{names[x]} hobby is {hobbies[x]} and has been doing this for {sinceyears[x]}')"
   ]
  },
  {
   "cell_type": "code",
   "execution_count": 127,
   "id": "370f2bfa",
   "metadata": {},
   "outputs": [
    {
     "name": "stdout",
     "output_type": "stream",
     "text": [
      "Jack and Jill went up the hill\n",
      "to fetch a pail of water\n",
      "Jack fell down and broke his crown\tand Jill came tumbling after\n"
     ]
    }
   ],
   "source": [
    "# r string or raw string\n",
    "\n",
    "str1 = 'Jack and Jill went up the hill\\nto fetch a pail of water\\nJack fell down and broke his crown\\tand Jill came tumbling\\\n",
    " after'\n",
    "\n",
    "print(str1)"
   ]
  },
  {
   "cell_type": "code",
   "execution_count": 128,
   "id": "ba7f025a",
   "metadata": {},
   "outputs": [
    {
     "name": "stdout",
     "output_type": "stream",
     "text": [
      "Jack and Jill went up the hill\\nto fetch a pail of water\\nJack fell down and broke his crown\\tand Jill came tumbling\\\n",
      " after\n"
     ]
    }
   ],
   "source": [
    "str1 = r'Jack and Jill went up the hill\\nto fetch a pail of water\\nJack fell down and broke his crown\\tand Jill came tumbling\\\n",
    " after'\n",
    "\n",
    "print(str1)"
   ]
  },
  {
   "cell_type": "code",
   "execution_count": null,
   "id": "eaa93988",
   "metadata": {},
   "outputs": [],
   "source": [
    "path = r'D:\\MyDocuments\\Computer Learning\\tearnbay Training Programs\\Python\\Class 4 - Data Type - Strings'\n",
    "\n"
   ]
  },
  {
   "cell_type": "code",
   "execution_count": 130,
   "id": "cbe14c64",
   "metadata": {},
   "outputs": [
    {
     "name": "stdout",
     "output_type": "stream",
     "text": [
      "Ⅴ\n"
     ]
    }
   ],
   "source": [
    "str1 = '\\u2164'\n",
    "\n",
    "print(str1)"
   ]
  },
  {
   "cell_type": "code",
   "execution_count": null,
   "id": "8387701e",
   "metadata": {},
   "outputs": [],
   "source": []
  }
 ],
 "metadata": {
  "kernelspec": {
   "display_name": "Python 3 (ipykernel)",
   "language": "python",
   "name": "python3"
  },
  "language_info": {
   "codemirror_mode": {
    "name": "ipython",
    "version": 3
   },
   "file_extension": ".py",
   "mimetype": "text/x-python",
   "name": "python",
   "nbconvert_exporter": "python",
   "pygments_lexer": "ipython3",
   "version": "3.9.13"
  }
 },
 "nbformat": 4,
 "nbformat_minor": 5
}
