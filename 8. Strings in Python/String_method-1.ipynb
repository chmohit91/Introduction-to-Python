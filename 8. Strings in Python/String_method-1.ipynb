{
 "cells": [
  {
   "cell_type": "markdown",
   "id": "35392dce",
   "metadata": {},
   "source": [
    "### Negative Slicing\n",
    "\n",
    "\n",
    "\n",
    "                0  1  2  3  4  5  6  7  8  9  10    ------ Positive indexing\n",
    "                M  A  Y  A  N  K     G  H  A  I \n",
    "              -11 -10 -9 -8 -7 -6 -5 -4 -3 -2 -1    ----- Negative indeing \n",
    "            \n",
    "            \n",
    "Syntax:\n",
    "    \n",
    "    varaiable_name[Starting_index : ending_index(n+1) : Step_size]\n",
    "    \n",
    "    where :-\n",
    "        \n",
    "        Starting_index = will take -1 as my default value \n",
    "        ending_index will take -len(my_str)-1 as the default value \n",
    "        step_size = -1 (by default you step size will be 1)"
   ]
  },
  {
   "cell_type": "code",
   "execution_count": 2,
   "id": "6877cf7d",
   "metadata": {},
   "outputs": [
    {
     "name": "stdout",
     "output_type": "stream",
     "text": [
      "12\n"
     ]
    }
   ],
   "source": [
    "my_str = 'Python Class'\n",
    "print(len(my_str))"
   ]
  },
  {
   "cell_type": "code",
   "execution_count": 3,
   "id": "564818f1",
   "metadata": {},
   "outputs": [
    {
     "name": "stdout",
     "output_type": "stream",
     "text": [
      "ssalC nohtyP\n"
     ]
    }
   ],
   "source": [
    "# if we want to retrieve the reverse of the string\n",
    "print(my_str[::-1])"
   ]
  },
  {
   "cell_type": "code",
   "execution_count": null,
   "id": "95cb28ae",
   "metadata": {},
   "outputs": [],
   "source": [
    "my_str[::-1] -----> my_str[-1:-len(my_str)-1:-1]---->my_str[-1:-13:-1]"
   ]
  },
  {
   "cell_type": "code",
   "execution_count": 4,
   "id": "f3673d5d",
   "metadata": {},
   "outputs": [
    {
     "data": {
      "text/plain": [
       "'ssal'"
      ]
     },
     "execution_count": 4,
     "metadata": {},
     "output_type": "execute_result"
    }
   ],
   "source": [
    "my_str[-1]+my_str[-2]+my_str[-3]+my_str[-4]"
   ]
  },
  {
   "cell_type": "code",
   "execution_count": 6,
   "id": "0f7f5b3c",
   "metadata": {},
   "outputs": [],
   "source": [
    "a = 'mayank'"
   ]
  },
  {
   "cell_type": "code",
   "execution_count": 7,
   "id": "4561d0a8",
   "metadata": {},
   "outputs": [
    {
     "data": {
      "text/plain": [
       "'knayam'"
      ]
     },
     "execution_count": 7,
     "metadata": {},
     "output_type": "execute_result"
    }
   ],
   "source": [
    "a[-1:-len(a)-1:-1] #here i have taken the default values of negative indexing"
   ]
  },
  {
   "cell_type": "code",
   "execution_count": 8,
   "id": "5118b92c",
   "metadata": {},
   "outputs": [
    {
     "data": {
      "text/plain": [
       "'knayam'"
      ]
     },
     "execution_count": 8,
     "metadata": {},
     "output_type": "execute_result"
    }
   ],
   "source": [
    "a[::-1]"
   ]
  },
  {
   "cell_type": "code",
   "execution_count": 11,
   "id": "91364869",
   "metadata": {},
   "outputs": [
    {
     "data": {
      "text/plain": [
       "'Python Class'"
      ]
     },
     "execution_count": 11,
     "metadata": {},
     "output_type": "execute_result"
    }
   ],
   "source": [
    "my_str"
   ]
  },
  {
   "cell_type": "code",
   "execution_count": 9,
   "id": "cad03a67",
   "metadata": {
    "scrolled": true
   },
   "outputs": [
    {
     "ename": "IndexError",
     "evalue": "string index out of range",
     "output_type": "error",
     "traceback": [
      "\u001b[1;31m---------------------------------------------------------------------------\u001b[0m",
      "\u001b[1;31mIndexError\u001b[0m                                Traceback (most recent call last)",
      "Cell \u001b[1;32mIn[9], line 1\u001b[0m\n\u001b[1;32m----> 1\u001b[0m my_str[\u001b[38;5;241m-\u001b[39m\u001b[38;5;241m13\u001b[39m]\n",
      "\u001b[1;31mIndexError\u001b[0m: string index out of range"
     ]
    }
   ],
   "source": [
    "my_str[-13]"
   ]
  },
  {
   "cell_type": "code",
   "execution_count": null,
   "id": "ae66fc48",
   "metadata": {},
   "outputs": [],
   "source": [
    "my_str[-12:-1:1]"
   ]
  },
  {
   "cell_type": "code",
   "execution_count": 10,
   "id": "948cd364",
   "metadata": {},
   "outputs": [
    {
     "data": {
      "text/plain": [
       "'Pyt'"
      ]
     },
     "execution_count": 10,
     "metadata": {},
     "output_type": "execute_result"
    }
   ],
   "source": [
    "my_str[-12]+my_str[-11]+my_str[-10]"
   ]
  },
  {
   "cell_type": "code",
   "execution_count": 12,
   "id": "5ab8f3de",
   "metadata": {},
   "outputs": [
    {
     "data": {
      "text/plain": [
       "'Python Class'"
      ]
     },
     "execution_count": 12,
     "metadata": {},
     "output_type": "execute_result"
    }
   ],
   "source": [
    "my_str"
   ]
  },
  {
   "cell_type": "code",
   "execution_count": 14,
   "id": "d5ea86ae",
   "metadata": {},
   "outputs": [
    {
     "data": {
      "text/plain": [
       "''"
      ]
     },
     "execution_count": 14,
     "metadata": {},
     "output_type": "execute_result"
    }
   ],
   "source": [
    "my_str[-12:-1:-10]"
   ]
  },
  {
   "cell_type": "code",
   "execution_count": 15,
   "id": "1aca5dba",
   "metadata": {},
   "outputs": [
    {
     "data": {
      "text/plain": [
       "'Python Class'"
      ]
     },
     "execution_count": 15,
     "metadata": {},
     "output_type": "execute_result"
    }
   ],
   "source": [
    "my_str"
   ]
  },
  {
   "cell_type": "code",
   "execution_count": 16,
   "id": "ab34fead",
   "metadata": {},
   "outputs": [
    {
     "name": "stdout",
     "output_type": "stream",
     "text": [
      "P\n"
     ]
    }
   ],
   "source": [
    "print(my_str[-12])"
   ]
  },
  {
   "cell_type": "code",
   "execution_count": 17,
   "id": "4b2746b6",
   "metadata": {},
   "outputs": [
    {
     "name": "stdout",
     "output_type": "stream",
     "text": [
      "P\n"
     ]
    }
   ],
   "source": [
    "print(my_str[0])"
   ]
  },
  {
   "cell_type": "code",
   "execution_count": 20,
   "id": "66d5da96",
   "metadata": {},
   "outputs": [
    {
     "data": {
      "text/plain": [
       "'Python Class'"
      ]
     },
     "execution_count": 20,
     "metadata": {},
     "output_type": "execute_result"
    }
   ],
   "source": [
    "my_str[-12::1]"
   ]
  },
  {
   "cell_type": "code",
   "execution_count": 21,
   "id": "29bc2483",
   "metadata": {},
   "outputs": [
    {
     "data": {
      "text/plain": [
       "'Python Class'"
      ]
     },
     "execution_count": 21,
     "metadata": {},
     "output_type": "execute_result"
    }
   ],
   "source": [
    "my_str"
   ]
  },
  {
   "cell_type": "code",
   "execution_count": 23,
   "id": "4c76fb99",
   "metadata": {},
   "outputs": [
    {
     "name": "stdout",
     "output_type": "stream",
     "text": [
      "ssalC nohtyP\n",
      "ssalC nohtyP\n",
      "ssalC nohtyP\n",
      "ssalC nohtyP\n",
      "ssalC nohtyP\n"
     ]
    }
   ],
   "source": [
    "#different ways of getting the reverse of the string\n",
    "\n",
    "#Negative Indexing\n",
    "print(my_str[-1:-13:-1])\n",
    "print(my_str[-1:-len(my_str)-1:-1])\n",
    "print(my_str[:-len(my_str)-1:-1])\n",
    "print(my_str[-1::-1])\n",
    "print(my_str[::-1])\n",
    "\n",
    "#Positive Slicing\n",
    "print(my_str[12::-1])"
   ]
  },
  {
   "cell_type": "code",
   "execution_count": 31,
   "id": "633613e1",
   "metadata": {},
   "outputs": [
    {
     "name": "stdout",
     "output_type": "stream",
     "text": [
      "Python Class\n"
     ]
    }
   ],
   "source": [
    "#ways of getting normal strng\n",
    "\n",
    "#Negative indexing\n",
    "print(my_str[-len(my_str)::1])"
   ]
  },
  {
   "cell_type": "code",
   "execution_count": 24,
   "id": "fe5b50c5",
   "metadata": {},
   "outputs": [],
   "source": [
    "my_str = \"Although that way may not be obvious at first but that's the best choice we can have\""
   ]
  },
  {
   "cell_type": "code",
   "execution_count": 25,
   "id": "05fdc2a5",
   "metadata": {},
   "outputs": [
    {
     "data": {
      "text/plain": [
       "\"evah nac ew eciohc tseb eht s'taht tub tsrif ta suoivbo eb ton yam yaw taht hguohtlA\""
      ]
     },
     "execution_count": 25,
     "metadata": {},
     "output_type": "execute_result"
    }
   ],
   "source": [
    "my_str[::-1]"
   ]
  },
  {
   "cell_type": "code",
   "execution_count": 26,
   "id": "a1eab264",
   "metadata": {},
   "outputs": [],
   "source": [
    "my_str = 'Python Class'"
   ]
  },
  {
   "cell_type": "code",
   "execution_count": 28,
   "id": "ed89e974",
   "metadata": {},
   "outputs": [
    {
     "data": {
      "text/plain": [
       "'ssalC nohty'"
      ]
     },
     "execution_count": 28,
     "metadata": {},
     "output_type": "execute_result"
    }
   ],
   "source": [
    "my_str[12:0:-1]"
   ]
  },
  {
   "cell_type": "code",
   "execution_count": 29,
   "id": "0504bf0e",
   "metadata": {},
   "outputs": [
    {
     "data": {
      "text/plain": [
       "'ssalC nohtyP'"
      ]
     },
     "execution_count": 29,
     "metadata": {},
     "output_type": "execute_result"
    }
   ],
   "source": [
    "my_str[12::-1]"
   ]
  },
  {
   "cell_type": "code",
   "execution_count": 32,
   "id": "e2dd1a54",
   "metadata": {},
   "outputs": [
    {
     "data": {
      "text/plain": [
       "'saCnhy'"
      ]
     },
     "execution_count": 32,
     "metadata": {},
     "output_type": "execute_result"
    }
   ],
   "source": [
    "my_str[12::-2]"
   ]
  },
  {
   "cell_type": "code",
   "execution_count": 33,
   "id": "c66fc1f6",
   "metadata": {},
   "outputs": [
    {
     "data": {
      "text/plain": [
       "'Python Class'"
      ]
     },
     "execution_count": 33,
     "metadata": {},
     "output_type": "execute_result"
    }
   ],
   "source": [
    "my_str[-12::]"
   ]
  },
  {
   "cell_type": "markdown",
   "id": "74f5fe32",
   "metadata": {},
   "source": [
    "### String Methods\n",
    "\n",
    "- Methods are functions only but they are defined for a particular Class (such as string, list, tuple, dictionary, set, frozenset)\n",
    "- Function are a piece of code that once defined can be called independently and infinte number of times\n",
    "- Whenever a function which are  associated (written inside any class within the object) with an will be considered as a Method\n",
    "- We cannot call a method independently\n",
    "- Method defined to Class may or maybe be applicable to another object"
   ]
  },
  {
   "cell_type": "code",
   "execution_count": 34,
   "id": "6337412a",
   "metadata": {},
   "outputs": [],
   "source": [
    "my_str = 'Mayank'"
   ]
  },
  {
   "cell_type": "markdown",
   "id": "a3768d4f",
   "metadata": {},
   "source": [
    "To get the mehhod : \n",
    "                   \n",
    "                    variable name+.+tab in jupyter notebook\n",
    "\n",
    "                    variable name+.+wait in google colab\n",
    "        \n",
    "- In python a class is defined for any kind of a value (object)\n",
    "- When we define a variable it becomes an object for a particular class\n",
    "- In a class several methods are defined that we can apply on an object"
   ]
  },
  {
   "cell_type": "code",
   "execution_count": 36,
   "id": "0d1c9811",
   "metadata": {},
   "outputs": [
    {
     "name": "stdout",
     "output_type": "stream",
     "text": [
      "['__add__', '__class__', '__contains__', '__delattr__', '__dir__', '__doc__', '__eq__', '__format__', '__ge__', '__getattribute__', '__getitem__', '__getnewargs__', '__getstate__', '__gt__', '__hash__', '__init__', '__init_subclass__', '__iter__', '__le__', '__len__', '__lt__', '__mod__', '__mul__', '__ne__', '__new__', '__reduce__', '__reduce_ex__', '__repr__', '__rmod__', '__rmul__', '__setattr__', '__sizeof__', '__str__', '__subclasshook__', 'capitalize', 'casefold', 'center', 'count', 'encode', 'endswith', 'expandtabs', 'find', 'format', 'format_map', 'index', 'isalnum', 'isalpha', 'isascii', 'isdecimal', 'isdigit', 'isidentifier', 'islower', 'isnumeric', 'isprintable', 'isspace', 'istitle', 'isupper', 'join', 'ljust', 'lower', 'lstrip', 'maketrans', 'partition', 'removeprefix', 'removesuffix', 'replace', 'rfind', 'rindex', 'rjust', 'rpartition', 'rsplit', 'rstrip', 'split', 'splitlines', 'startswith', 'strip', 'swapcase', 'title', 'translate', 'upper', 'zfill']\n"
     ]
    }
   ],
   "source": [
    "print(dir(str))"
   ]
  },
  {
   "cell_type": "code",
   "execution_count": 37,
   "id": "63e48913",
   "metadata": {},
   "outputs": [
    {
     "name": "stdout",
     "output_type": "stream",
     "text": [
      "['__add__', '__class__', '__class_getitem__', '__contains__', '__delattr__', '__delitem__', '__dir__', '__doc__', '__eq__', '__format__', '__ge__', '__getattribute__', '__getitem__', '__getstate__', '__gt__', '__hash__', '__iadd__', '__imul__', '__init__', '__init_subclass__', '__iter__', '__le__', '__len__', '__lt__', '__mul__', '__ne__', '__new__', '__reduce__', '__reduce_ex__', '__repr__', '__reversed__', '__rmul__', '__setattr__', '__setitem__', '__sizeof__', '__str__', '__subclasshook__', 'append', 'clear', 'copy', 'count', 'extend', 'index', 'insert', 'pop', 'remove', 'reverse', 'sort']\n"
     ]
    }
   ],
   "source": [
    "print(dir(list))"
   ]
  },
  {
   "cell_type": "code",
   "execution_count": null,
   "id": "5c0cb0bc",
   "metadata": {},
   "outputs": [],
   "source": []
  },
  {
   "cell_type": "markdown",
   "id": "b39e29eb",
   "metadata": {},
   "source": [
    "### Capitalize ()\n",
    "\n",
    "- It converts the first letter in upper case in a sentenece\n",
    "- It returns a new object, it doesnot make any change in the existing object (because the strings are immuatble)"
   ]
  },
  {
   "cell_type": "code",
   "execution_count": 40,
   "id": "00980545",
   "metadata": {},
   "outputs": [
    {
     "data": {
      "text/plain": [
       "'This is a python class'"
      ]
     },
     "execution_count": 40,
     "metadata": {},
     "output_type": "execute_result"
    }
   ],
   "source": [
    "a = 'this is a python class'\n",
    "b = a.capitalize()\n",
    "b"
   ]
  },
  {
   "cell_type": "code",
   "execution_count": 41,
   "id": "b8795fee",
   "metadata": {},
   "outputs": [
    {
     "name": "stdout",
     "output_type": "stream",
     "text": [
      "3043129937792 3043132427440\n"
     ]
    }
   ],
   "source": [
    "print(id(a), id(b))"
   ]
  },
  {
   "cell_type": "code",
   "execution_count": 46,
   "id": "822030dc",
   "metadata": {},
   "outputs": [
    {
     "name": "stdout",
     "output_type": "stream",
     "text": [
      "3043129733936\n",
      "3043129723568\n"
     ]
    }
   ],
   "source": [
    "a = \"mayank ghai\"\n",
    "print(id(a))\n",
    "a = a.capitalize() #string reassigning \n",
    "print(id(a))"
   ]
  },
  {
   "cell_type": "markdown",
   "id": "1f0d146b",
   "metadata": {},
   "source": [
    "### title()\n",
    "\n",
    "- It convers the first letter of every word into uppercase in a sentence\n",
    "- it will return a new object, it doesnot make changes in the existing object"
   ]
  },
  {
   "cell_type": "code",
   "execution_count": 43,
   "id": "56a0e9a7",
   "metadata": {},
   "outputs": [
    {
     "data": {
      "text/plain": [
       "'This Is A Python Class'"
      ]
     },
     "execution_count": 43,
     "metadata": {},
     "output_type": "execute_result"
    }
   ],
   "source": [
    "my_str = 'this is a python class'\n",
    "my_str.title()"
   ]
  },
  {
   "cell_type": "markdown",
   "id": "27dad362",
   "metadata": {},
   "source": [
    "### Upper\n",
    "\n",
    "- It converts all the alphabets in a string into an upper case\n",
    "- it will return a new object/"
   ]
  },
  {
   "cell_type": "code",
   "execution_count": 47,
   "id": "2402a02e",
   "metadata": {},
   "outputs": [
    {
     "data": {
      "text/plain": [
       "'PYTHON'"
      ]
     },
     "execution_count": 47,
     "metadata": {},
     "output_type": "execute_result"
    }
   ],
   "source": [
    "my_str = 'python'\n",
    "my_str1 = my_str.upper()\n",
    "my_str1"
   ]
  },
  {
   "cell_type": "markdown",
   "id": "4e574a50",
   "metadata": {},
   "source": [
    "#### Lower()\n",
    "\n",
    "- it converts all the alphabets in a string to lowercase\n",
    "- it will return a new object"
   ]
  },
  {
   "cell_type": "code",
   "execution_count": 48,
   "id": "404c271a",
   "metadata": {},
   "outputs": [
    {
     "data": {
      "text/plain": [
       "'python'"
      ]
     },
     "execution_count": 48,
     "metadata": {},
     "output_type": "execute_result"
    }
   ],
   "source": [
    "c = my_str1.lower()\n",
    "c"
   ]
  },
  {
   "cell_type": "code",
   "execution_count": 49,
   "id": "a077cb32",
   "metadata": {},
   "outputs": [
    {
     "name": "stdout",
     "output_type": "stream",
     "text": [
      "3043060262896 3043131309744\n"
     ]
    }
   ],
   "source": [
    "print(id(my_str), id(c))"
   ]
  },
  {
   "cell_type": "markdown",
   "id": "961a1f3f",
   "metadata": {},
   "source": [
    "### swapcase()\n",
    "\n",
    "- It converts all the uppercase to lowercase and all the lowercase to upper\n",
    "- it will return a new object"
   ]
  },
  {
   "cell_type": "code",
   "execution_count": 50,
   "id": "b8ae32b7",
   "metadata": {},
   "outputs": [
    {
     "data": {
      "text/plain": [
       "'mAyAnK aTuL gHaI'"
      ]
     },
     "execution_count": 50,
     "metadata": {},
     "output_type": "execute_result"
    }
   ],
   "source": [
    "a = 'MaYaNk AtUl GhAi'\n",
    "b = a.swapcase()\n",
    "b"
   ]
  },
  {
   "cell_type": "code",
   "execution_count": 51,
   "id": "4147f234",
   "metadata": {},
   "outputs": [
    {
     "data": {
      "text/plain": [
       "'PYTHON@!#$%^&&*(())'"
      ]
     },
     "execution_count": 51,
     "metadata": {},
     "output_type": "execute_result"
    }
   ],
   "source": [
    "a = 'python@!#$%^&&*(())'\n",
    "b = a.swapcase()\n",
    "b"
   ]
  },
  {
   "cell_type": "markdown",
   "id": "1a4bb85f",
   "metadata": {},
   "source": [
    "### Casefold()\n",
    "\n",
    "- it converts the uppercase alphabets to lowercase"
   ]
  },
  {
   "cell_type": "code",
   "execution_count": 54,
   "id": "a9b810f1",
   "metadata": {},
   "outputs": [
    {
     "data": {
      "text/plain": [
       "'python'"
      ]
     },
     "execution_count": 54,
     "metadata": {},
     "output_type": "execute_result"
    }
   ],
   "source": [
    "my_str = 'PYTHON'\n",
    "b = my_str.casefold()\n",
    "b"
   ]
  },
  {
   "cell_type": "markdown",
   "id": "fa41e33b",
   "metadata": {},
   "source": [
    "### Casefold() vs lower()\n",
    "\n",
    "- lower() can convert only the ASCII character \n",
    "- casefold can convert the ASCII character and non ascii character "
   ]
  },
  {
   "cell_type": "code",
   "execution_count": 55,
   "id": "fe65c79e",
   "metadata": {},
   "outputs": [
    {
     "name": "stdout",
     "output_type": "stream",
     "text": [
      "aßcd\n",
      "asscd\n"
     ]
    }
   ],
   "source": [
    "my_str='AẞCD'\n",
    "\n",
    "print(my_str.lower())\n",
    "print(my_str.casefold())"
   ]
  },
  {
   "cell_type": "markdown",
   "id": "16e43d27",
   "metadata": {},
   "source": [
    "### Count()\n",
    "\n",
    "- It counts the number of occurance of a particular characteer or a sub-string"
   ]
  },
  {
   "cell_type": "code",
   "execution_count": null,
   "id": "32faf8e7",
   "metadata": {},
   "outputs": [],
   "source": [
    "my_str.count('Character')\n",
    "my_str.count('character', starting indexing)\n",
    "my_str.count('character', starting indexing, ending index)"
   ]
  },
  {
   "cell_type": "code",
   "execution_count": 58,
   "id": "0d27b786",
   "metadata": {},
   "outputs": [],
   "source": [
    "my_str = 'This is a Python class'"
   ]
  },
  {
   "cell_type": "code",
   "execution_count": 59,
   "id": "d3ea7a63",
   "metadata": {},
   "outputs": [
    {
     "data": {
      "text/plain": [
       "4"
      ]
     },
     "execution_count": 59,
     "metadata": {},
     "output_type": "execute_result"
    }
   ],
   "source": [
    "my_str.count('s')"
   ]
  },
  {
   "cell_type": "code",
   "execution_count": 60,
   "id": "69087762",
   "metadata": {},
   "outputs": [
    {
     "data": {
      "text/plain": [
       "1"
      ]
     },
     "execution_count": 60,
     "metadata": {},
     "output_type": "execute_result"
    }
   ],
   "source": [
    "my_str.count('Python')"
   ]
  },
  {
   "cell_type": "code",
   "execution_count": 61,
   "id": "34def582",
   "metadata": {},
   "outputs": [
    {
     "data": {
      "text/plain": [
       "0"
      ]
     },
     "execution_count": 61,
     "metadata": {},
     "output_type": "execute_result"
    }
   ],
   "source": [
    "my_str.count('Class')"
   ]
  },
  {
   "cell_type": "code",
   "execution_count": 62,
   "id": "42c0cde9",
   "metadata": {},
   "outputs": [
    {
     "data": {
      "text/plain": [
       "3"
      ]
     },
     "execution_count": 62,
     "metadata": {},
     "output_type": "execute_result"
    }
   ],
   "source": [
    "my_str.count('s', 5)"
   ]
  },
  {
   "cell_type": "code",
   "execution_count": 65,
   "id": "c942277e",
   "metadata": {},
   "outputs": [
    {
     "data": {
      "text/plain": [
       "2"
      ]
     },
     "execution_count": 65,
     "metadata": {},
     "output_type": "execute_result"
    }
   ],
   "source": [
    "my_str.count('s', 5, 21)"
   ]
  },
  {
   "cell_type": "code",
   "execution_count": 66,
   "id": "9e0a239d",
   "metadata": {},
   "outputs": [
    {
     "data": {
      "text/plain": [
       "22"
      ]
     },
     "execution_count": 66,
     "metadata": {},
     "output_type": "execute_result"
    }
   ],
   "source": [
    "len(my_str)"
   ]
  },
  {
   "cell_type": "code",
   "execution_count": 67,
   "id": "e09cd225",
   "metadata": {},
   "outputs": [
    {
     "name": "stdout",
     "output_type": "stream",
     "text": [
      "4\n"
     ]
    }
   ],
   "source": [
    "a = 'mayank atul ghai'\n",
    "\n",
    "print(a.count('a'))"
   ]
  },
  {
   "cell_type": "code",
   "execution_count": 68,
   "id": "7f6176b1",
   "metadata": {},
   "outputs": [
    {
     "name": "stdout",
     "output_type": "stream",
     "text": [
      "3\n"
     ]
    }
   ],
   "source": [
    "print(a.count('a', 3))"
   ]
  },
  {
   "cell_type": "code",
   "execution_count": 69,
   "id": "a0285cdf",
   "metadata": {},
   "outputs": [
    {
     "name": "stdout",
     "output_type": "stream",
     "text": [
      "2\n"
     ]
    }
   ],
   "source": [
    "print(a.count('a', 6))"
   ]
  },
  {
   "cell_type": "code",
   "execution_count": 70,
   "id": "a634f28f",
   "metadata": {},
   "outputs": [
    {
     "name": "stdout",
     "output_type": "stream",
     "text": [
      "2\n"
     ]
    }
   ],
   "source": [
    "print(a.count('a', 3, 14)) #here i am defining a range in which i am going to count the occurance of a particular character or sub-string"
   ]
  },
  {
   "cell_type": "code",
   "execution_count": 80,
   "id": "298693be",
   "metadata": {},
   "outputs": [
    {
     "name": "stdout",
     "output_type": "stream",
     "text": [
      "3\n"
     ]
    }
   ],
   "source": [
    "print(a.count('a', 3,15))"
   ]
  },
  {
   "cell_type": "code",
   "execution_count": 77,
   "id": "7326e9ff",
   "metadata": {},
   "outputs": [
    {
     "name": "stdout",
     "output_type": "stream",
     "text": [
      "0 m\n",
      "1 a\n",
      "2 y\n",
      "3 a\n",
      "4 n\n",
      "5 k\n",
      "6  \n",
      "7 a\n",
      "8 t\n",
      "9 u\n",
      "10 l\n",
      "11  \n",
      "12 g\n",
      "13 h\n",
      "14 a\n",
      "15 i\n"
     ]
    }
   ],
   "source": [
    "for i, j in enumerate(a):\n",
    "    print(i,j)"
   ]
  },
  {
   "cell_type": "code",
   "execution_count": 79,
   "id": "0418038d",
   "metadata": {},
   "outputs": [
    {
     "data": {
      "text/plain": [
       "'ank atul gha'"
      ]
     },
     "execution_count": 79,
     "metadata": {},
     "output_type": "execute_result"
    }
   ],
   "source": [
    "a[3:15]"
   ]
  },
  {
   "cell_type": "code",
   "execution_count": 81,
   "id": "8be26323",
   "metadata": {},
   "outputs": [
    {
     "data": {
      "text/plain": [
       "'mayank atul ghai'"
      ]
     },
     "execution_count": 81,
     "metadata": {},
     "output_type": "execute_result"
    }
   ],
   "source": [
    "a"
   ]
  },
  {
   "cell_type": "code",
   "execution_count": 82,
   "id": "0e1780f0",
   "metadata": {},
   "outputs": [
    {
     "data": {
      "text/plain": [
       "'i'"
      ]
     },
     "execution_count": 82,
     "metadata": {},
     "output_type": "execute_result"
    }
   ],
   "source": [
    "a[-1::1]"
   ]
  },
  {
   "cell_type": "code",
   "execution_count": 85,
   "id": "a2382fdb",
   "metadata": {},
   "outputs": [
    {
     "name": "stdout",
     "output_type": "stream",
     "text": [
      "4\n"
     ]
    }
   ],
   "source": [
    "print(a.count('a', -16, -1)) #this fashion of -ve indexing will return me the answer\n"
   ]
  },
  {
   "cell_type": "code",
   "execution_count": 86,
   "id": "ab6cedb5",
   "metadata": {},
   "outputs": [
    {
     "data": {
      "text/plain": [
       "'i'"
      ]
     },
     "execution_count": 86,
     "metadata": {},
     "output_type": "execute_result"
    }
   ],
   "source": [
    "a[-1:16:1]"
   ]
  },
  {
   "cell_type": "code",
   "execution_count": 89,
   "id": "afd0d82e",
   "metadata": {},
   "outputs": [
    {
     "data": {
      "text/plain": [
       "''"
      ]
     },
     "execution_count": 89,
     "metadata": {},
     "output_type": "execute_result"
    }
   ],
   "source": [
    "a[100:200]"
   ]
  },
  {
   "cell_type": "code",
   "execution_count": null,
   "id": "6572e151",
   "metadata": {},
   "outputs": [],
   "source": []
  }
 ],
 "metadata": {
  "kernelspec": {
   "display_name": "Python 3 (ipykernel)",
   "language": "python",
   "name": "python3"
  },
  "language_info": {
   "codemirror_mode": {
    "name": "ipython",
    "version": 3
   },
   "file_extension": ".py",
   "mimetype": "text/x-python",
   "name": "python",
   "nbconvert_exporter": "python",
   "pygments_lexer": "ipython3",
   "version": "3.11.5"
  }
 },
 "nbformat": 4,
 "nbformat_minor": 5
}
