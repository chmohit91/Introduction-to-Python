{
 "cells": [
  {
   "cell_type": "code",
   "execution_count": null,
   "id": "ac5a4524",
   "metadata": {},
   "outputs": [],
   "source": [
    "# properties of a dictionary\n",
    "\n",
    "#1. Derived datatype\n",
    "#2. Sequential, ordered\n",
    "#3. Iterable\n",
    "#4. Indexing and slicing via integer is not supported. However subscription - indexing and assignment via key is possible.\n",
    "#5. Mutable. \n",
    "\n",
    "# Keys must immutable and unique\n",
    "# Values have no restriction on mutable/immutable or unique/duplicate.\n",
    "\n",
    "\n",
    "# Initialising dictionaries:\n",
    "\n",
    "#1. Curly braces - key and value seperated by colon. Each key+value pair seperated by comma.\n",
    "#2. Dict function - takes ONE iterable as an argument. This one iterable must have other iterables as key value PAIRS inside\n",
    "# it. \n",
    "\n",
    "# Subscription\n",
    "\n",
    "# Indexing by index no is not possible only by key. When subscribed via key - we get the value of that key. \n",
    "# If the key value pair does NOT exist in the dictionary - then adds key,value pair to the dictionary. If key already exists - \n",
    "# then value is updated. "
   ]
  },
  {
   "cell_type": "markdown",
   "id": "bce70d1b",
   "metadata": {},
   "source": [
    "# Datatype Dictionary"
   ]
  },
  {
   "cell_type": "code",
   "execution_count": null,
   "id": "ed423e97",
   "metadata": {},
   "outputs": [],
   "source": [
    "#Dictionary datatype in Python provides mapping capability i.e. it is defined in key:value pairs. Each key corresponds to\n",
    "# a value in the dictionary. Each key and value is seperated by a colon : and each key:value pair is seperated from the next\n",
    "# by a comma.\n",
    "\n",
    "#1 - Derived datatype\n",
    "#2. Sequential and ordered\n",
    "#3. Iterable - but only on keys by default. We can use other functions to iterate over values.\n",
    "#4. Subscription - INTEGER subscription is NOT supported only by Key. Assignment by key is supported for single values.\n",
    "# slicing and slice assignment are not supported.\n",
    "\n",
    "\n",
    "# Dictionaries themselves are mutable.\n",
    "#1. The keys of a dictionary must be immutable objects. (String, Integers, Float, Complex, Boolean, None, Tuple) \n",
    "#2. The keys of a dictionary must be unique (i.e. no duplicates allowed in keys)\n",
    "#3. Values of a dictionary may take any type of object (mutable, immutable, variables, function definitions, function calls\n",
    "# etc.)\n",
    "#4. There is no restriction on duplicate values.\n",
    "\n",
    "#Examples of the use of dictionaries are:\n",
    "\n",
    "# Key : Value \n",
    "# Student Name : Marks\n",
    "# Menu item : Price\n",
    "# Room no : list(room tarriff, tax, list(peripherals to be billed))\n",
    "# Catalogue ID : {Product name : {price: value, width : Value2, height:value3, depth:value4}}\n",
    "\n",
    "#The properties of dictionaries are:\n",
    "\n",
    "#1. Derived datables\n",
    "#2. They are mutable datatypes. \n",
    "#3. Keys of a dictionary must be immutable and unique. Values can be of any datatype and duplicates are permitted. \n",
    "#4. They are sequential\n",
    "#5. They are ordered (as of Python 3.7)\n",
    "#6. They do not support slicing or indexing with integers, only with indexing using keys.\n",
    "#7. A dictionary can be iterated over"
   ]
  },
  {
   "cell_type": "code",
   "execution_count": null,
   "id": "e477e891",
   "metadata": {},
   "outputs": [],
   "source": [
    "dict1 = {'a':200, 'b':300, 'c':400}\n",
    "\n",
    "\n",
    "print(dict1)\n",
    "print(type(dict1))"
   ]
  },
  {
   "cell_type": "code",
   "execution_count": null,
   "id": "0009d3da",
   "metadata": {},
   "outputs": [],
   "source": [
    "lst1 = list('abcde')\n",
    "\n",
    "print(lst1[1])"
   ]
  },
  {
   "cell_type": "code",
   "execution_count": null,
   "id": "2a779f77",
   "metadata": {},
   "outputs": [],
   "source": [
    "# students : marks\n",
    "# brandname : product\n",
    "# employeeno : [employee name, salary, designation, {address : distance from work}]\n",
    "# customerid : customer information\n",
    "# census data - state : population or HDI\n",
    "# Country : capital city\n",
    "# items : {sizesavailable : prices}a\n",
    "# learnbaybatchno. : [student names]\n",
    "# cricketplayer : scoreduringIPL\n",
    "# librariesinthecity : {Bookname : {bookid:[location, genre]}}"
   ]
  },
  {
   "cell_type": "code",
   "execution_count": null,
   "id": "3d7fdc27",
   "metadata": {},
   "outputs": [],
   "source": [
    "# Dictionaries are themselves mutable\n",
    "\n",
    "# Keys of a dictionary must be immutable\n",
    "# Values of a dictionary maybe either immutable or mutable - no restriction\n",
    "\n",
    "# Keys of a dictionary must be unique (i.e. no duplicates)\n",
    "# Values of a dictionary can be non-unique or duplicates are allowed. "
   ]
  },
  {
   "cell_type": "code",
   "execution_count": null,
   "id": "bc4248c4",
   "metadata": {},
   "outputs": [],
   "source": []
  },
  {
   "cell_type": "code",
   "execution_count": 13,
   "id": "9c4dc335",
   "metadata": {},
   "outputs": [
    {
     "name": "stdout",
     "output_type": "stream",
     "text": [
      "{'a': 1, 200: 2, (2+3j): 2, range(0, 5): 4, None: [1, 2, 3, 4], 1234: None, (1, 2): [1, 2, 3, 4]}\n",
      "<class 'dict'>\n"
     ]
    }
   ],
   "source": [
    "dict1 = {'a':1, 200:2, 2+3j:2,range(5):4, None:[1,2,3,4], 1234:None, (1,2):[1,2,3,4]}\n",
    "\n",
    "print(dict1)\n",
    "print(type(dict1))"
   ]
  },
  {
   "cell_type": "code",
   "execution_count": null,
   "id": "34142c48",
   "metadata": {},
   "outputs": [],
   "source": [
    "dict1 = {}\n",
    "\n",
    "\n",
    "print(dict1)\n",
    "print(type(dict1))"
   ]
  },
  {
   "cell_type": "code",
   "execution_count": null,
   "id": "bc00de6b",
   "metadata": {},
   "outputs": [],
   "source": [
    "set1 = set()\n",
    "\n",
    "print(set1)\n",
    "print(type(set1))"
   ]
  },
  {
   "cell_type": "code",
   "execution_count": null,
   "id": "b9189dc2",
   "metadata": {},
   "outputs": [],
   "source": [
    "sets = {1,2,4,4,6}\n",
    "\n",
    "print(sets)\n",
    "print(type(sets))"
   ]
  },
  {
   "cell_type": "code",
   "execution_count": null,
   "id": "dd8f87eb",
   "metadata": {},
   "outputs": [],
   "source": [
    "x = (1,2,[3,4,5])\n",
    "y = (1,2,[3,4,6])\n",
    "\n",
    "\n",
    "dict1 = {x:100, y:200}\n",
    "\n",
    "y[2][2] = 5\n",
    "\n"
   ]
  },
  {
   "cell_type": "code",
   "execution_count": null,
   "id": "f131a114",
   "metadata": {},
   "outputs": [],
   "source": [
    "print(hash('abcde$'))"
   ]
  },
  {
   "cell_type": "code",
   "execution_count": null,
   "id": "c4a8a693",
   "metadata": {},
   "outputs": [],
   "source": [
    "lst1 = list('abcde')\n",
    "\n",
    "print(lst1)"
   ]
  },
  {
   "cell_type": "code",
   "execution_count": null,
   "id": "b534312e",
   "metadata": {},
   "outputs": [],
   "source": [
    "dict1 = dict((['a',100],('b',200), [0,300]))\n",
    "\n",
    "\n",
    "print(dict1)\n",
    "            "
   ]
  },
  {
   "cell_type": "code",
   "execution_count": null,
   "id": "3c24f2f1",
   "metadata": {},
   "outputs": [],
   "source": [
    "# Dict function will take ONE iterable - OUTER iterable\n",
    "\n",
    "# OUter iterable must contain - inner iterables which in turn MUST contain key,value PAIRs (infinite number of inner\n",
    "# iterables)"
   ]
  },
  {
   "cell_type": "code",
   "execution_count": null,
   "id": "20c89f9c",
   "metadata": {},
   "outputs": [],
   "source": [
    "str1 = 'Hello'\n",
    "\n",
    "lst1 = list('Hello')\n",
    "\n",
    "\n",
    "print(str1[0])\n",
    "print(lst1[0])"
   ]
  },
  {
   "cell_type": "code",
   "execution_count": null,
   "id": "9b2cb025",
   "metadata": {},
   "outputs": [],
   "source": [
    "print(dict1)"
   ]
  },
  {
   "cell_type": "code",
   "execution_count": null,
   "id": "b0d4954e",
   "metadata": {},
   "outputs": [],
   "source": [
    "print(dict1[0])"
   ]
  },
  {
   "cell_type": "code",
   "execution_count": null,
   "id": "af0f21dd",
   "metadata": {},
   "outputs": [],
   "source": [
    "print(dict1)"
   ]
  },
  {
   "cell_type": "code",
   "execution_count": null,
   "id": "a4fb2a50",
   "metadata": {},
   "outputs": [],
   "source": [
    "print(lst1)"
   ]
  },
  {
   "cell_type": "code",
   "execution_count": null,
   "id": "3d359c5c",
   "metadata": {},
   "outputs": [],
   "source": [
    "lst1[0] = 'h'\n",
    "\n",
    "print(lst1)"
   ]
  },
  {
   "cell_type": "code",
   "execution_count": null,
   "id": "1e7b40b5",
   "metadata": {},
   "outputs": [],
   "source": [
    "dict1['a'] = 101\n",
    "\n",
    "print(dict1)"
   ]
  },
  {
   "cell_type": "code",
   "execution_count": null,
   "id": "17cf1d7b",
   "metadata": {},
   "outputs": [],
   "source": [
    "lst1[5] = 'oooo'"
   ]
  },
  {
   "cell_type": "code",
   "execution_count": null,
   "id": "9c60572f",
   "metadata": {},
   "outputs": [],
   "source": [
    "print(dict1)"
   ]
  },
  {
   "cell_type": "code",
   "execution_count": null,
   "id": "3f1dfa7c",
   "metadata": {},
   "outputs": [],
   "source": [
    "dict1['c'] = 400\n",
    "\n",
    "print(dict1)"
   ]
  },
  {
   "cell_type": "code",
   "execution_count": null,
   "id": "47157393",
   "metadata": {},
   "outputs": [],
   "source": []
  },
  {
   "cell_type": "code",
   "execution_count": null,
   "id": "dc6ae122",
   "metadata": {},
   "outputs": [],
   "source": []
  },
  {
   "cell_type": "code",
   "execution_count": null,
   "id": "4565f603",
   "metadata": {},
   "outputs": [],
   "source": []
  },
  {
   "cell_type": "code",
   "execution_count": null,
   "id": "0dbe22a5",
   "metadata": {},
   "outputs": [],
   "source": []
  },
  {
   "cell_type": "code",
   "execution_count": null,
   "id": "256e37ce",
   "metadata": {},
   "outputs": [],
   "source": [
    "dict1 = dict(['ab', 'cd','ef'])\n",
    "\n",
    "\n",
    "print(dict1)"
   ]
  },
  {
   "cell_type": "code",
   "execution_count": null,
   "id": "257ce95d",
   "metadata": {},
   "outputs": [],
   "source": []
  },
  {
   "cell_type": "code",
   "execution_count": null,
   "id": "7f255d00",
   "metadata": {},
   "outputs": [],
   "source": []
  },
  {
   "cell_type": "code",
   "execution_count": null,
   "id": "3e988539",
   "metadata": {},
   "outputs": [],
   "source": []
  },
  {
   "cell_type": "code",
   "execution_count": null,
   "id": "61d073f7",
   "metadata": {},
   "outputs": [],
   "source": []
  },
  {
   "cell_type": "code",
   "execution_count": null,
   "id": "8e38aa34",
   "metadata": {},
   "outputs": [],
   "source": []
  },
  {
   "cell_type": "code",
   "execution_count": null,
   "id": "bd0fe9de",
   "metadata": {},
   "outputs": [],
   "source": [
    "str1 = 'he'"
   ]
  },
  {
   "cell_type": "code",
   "execution_count": null,
   "id": "ca5ef9e0",
   "metadata": {},
   "outputs": [],
   "source": [
    "print(dict1['a'])"
   ]
  },
  {
   "cell_type": "code",
   "execution_count": null,
   "id": "97abfe19",
   "metadata": {},
   "outputs": [],
   "source": [
    "dict1['a'] = 111\n",
    "\n",
    "print(dict1)"
   ]
  },
  {
   "cell_type": "code",
   "execution_count": null,
   "id": "a47f943b",
   "metadata": {},
   "outputs": [],
   "source": [
    "keys should be immutable and unique\n",
    "values can be any dtype and duplicates are also permitted. "
   ]
  },
  {
   "cell_type": "code",
   "execution_count": null,
   "id": "13965a11",
   "metadata": {},
   "outputs": [],
   "source": [
    "del(dict1[True])"
   ]
  },
  {
   "cell_type": "code",
   "execution_count": null,
   "id": "944b73b2",
   "metadata": {},
   "outputs": [],
   "source": [
    "print(dict1)\n",
    "print(id(dict1))"
   ]
  },
  {
   "cell_type": "code",
   "execution_count": null,
   "id": "2978e5ca",
   "metadata": {},
   "outputs": [],
   "source": [
    "dict1[True] = True"
   ]
  },
  {
   "cell_type": "code",
   "execution_count": null,
   "id": "d5fa3893",
   "metadata": {},
   "outputs": [],
   "source": [
    "print(dict1)"
   ]
  },
  {
   "cell_type": "code",
   "execution_count": null,
   "id": "3ede8a2a",
   "metadata": {},
   "outputs": [],
   "source": [
    "dict1['a'] = 11\n",
    "\n",
    "print(dict1)\n",
    "print(id(dict1))"
   ]
  },
  {
   "cell_type": "code",
   "execution_count": null,
   "id": "ebd9059f",
   "metadata": {},
   "outputs": [],
   "source": [
    "dict1['Tanuj'] = 50\n",
    "\n",
    "print(dict1)"
   ]
  },
  {
   "cell_type": "markdown",
   "id": "626b51b6",
   "metadata": {},
   "source": [
    "#### indexing to get value\n",
    "\n",
    "dict1[key]\n",
    "\n",
    "\n",
    "#### Assignment using key\n",
    "\n",
    "If key exists changes the value\n",
    "\n",
    "dict1[exists] : 100\n",
    "    \n",
    "    \n",
    "dict1[exists] = 200\n",
    "\n",
    "exists keys value is now 200\n",
    "\n",
    "\n",
    "If key does not exist then adds the key value pair. \n",
    "\n",
    "dnexists is not in the dictionary keys. \n",
    "\n",
    "dict1[dnexists] = 1000\n",
    "\n",
    "key of dnexists along with value of 1000 will be added to dict1"
   ]
  },
  {
   "cell_type": "code",
   "execution_count": null,
   "id": "2fb3322c",
   "metadata": {},
   "outputs": [],
   "source": [
    "dict1[True] = 44"
   ]
  },
  {
   "cell_type": "code",
   "execution_count": null,
   "id": "935afdc7",
   "metadata": {},
   "outputs": [],
   "source": [
    "print(dict1)"
   ]
  },
  {
   "cell_type": "code",
   "execution_count": null,
   "id": "a4d68b02",
   "metadata": {},
   "outputs": [],
   "source": [
    "dict1 = dict1.keys()"
   ]
  },
  {
   "cell_type": "code",
   "execution_count": null,
   "id": "aa362352",
   "metadata": {},
   "outputs": [],
   "source": [
    "dict1.keys()\n",
    "dict1.values()\n",
    "dict1.items()"
   ]
  },
  {
   "cell_type": "code",
   "execution_count": null,
   "id": "9a4e85a5",
   "metadata": {},
   "outputs": [],
   "source": [
    "for x in dict1.items():\n",
    "    \n",
    "    print(x)"
   ]
  },
  {
   "cell_type": "code",
   "execution_count": null,
   "id": "710c685c",
   "metadata": {},
   "outputs": [],
   "source": [
    "#Initialising dictionaries. To initialise a dictionary simply put the key value pairs inside curly braces. \n",
    "\n",
    "#An empty dictionary can be created simply by putting a pair of curly braces. \n",
    "\n",
    "dict0 = {}\n",
    "\n",
    "#Or calling the dict constructor\n",
    "\n",
    "dict01 = dict()\n",
    "\n",
    "print(type(dict0))\n",
    "print(type(dict01))"
   ]
  },
  {
   "cell_type": "code",
   "execution_count": null,
   "id": "c0add9af",
   "metadata": {},
   "outputs": [],
   "source": [
    "#To initialise a dictionary with elements (key:value), put the pairs inside curly braces with each pair seperated by a comma.\n",
    "\n",
    "y = {'p' : 100, 'q': 101}\n",
    "\n",
    "print(y)"
   ]
  },
  {
   "cell_type": "code",
   "execution_count": null,
   "id": "1a4f5a19",
   "metadata": {},
   "outputs": [],
   "source": [
    "dict1 = {'A':100, 'b':20, 30:['a', 'b', 'c', 'd'], 'x' : y}\n",
    "\n",
    "print(dict1)\n",
    "print(type(dict1))"
   ]
  },
  {
   "cell_type": "code",
   "execution_count": null,
   "id": "4ca1efe6",
   "metadata": {},
   "outputs": [],
   "source": [
    "y = [100,200]\n",
    "z = 100"
   ]
  },
  {
   "cell_type": "code",
   "execution_count": null,
   "id": "4bbfe58a",
   "metadata": {},
   "outputs": [],
   "source": [
    "#or using the constructor\n",
    "\n",
    "dict3 = {'A':100, 'b':20, 30:['a', 'b', 'c', 'd'], 'x' : z, z : 1001}\n",
    "dict2 = {'A':100, 'b':20, 30:['a', 'b', 'c', 'd'], 'x' : y}\n",
    "\n",
    "print(dict2)\n",
    "print(dict3)"
   ]
  },
  {
   "cell_type": "code",
   "execution_count": null,
   "id": "ac2434d5",
   "metadata": {},
   "outputs": [],
   "source": [
    "lst1 = list((1,2,3,4,5))\n",
    "\n",
    "print(lst1)\n"
   ]
  },
  {
   "cell_type": "code",
   "execution_count": null,
   "id": "18494d6c",
   "metadata": {},
   "outputs": [],
   "source": [
    "tup1 = tuple([1,2,3,4,5])\n",
    "\n",
    "print(tup1)"
   ]
  },
  {
   "cell_type": "code",
   "execution_count": null,
   "id": "2aa7cfbd",
   "metadata": {},
   "outputs": [],
   "source": [
    "set1 = {('a',1),('b',2)}\n",
    "\n",
    "\n",
    "print(set1)\n",
    "print(type(set1))"
   ]
  },
  {
   "cell_type": "code",
   "execution_count": null,
   "id": "60b2b4b2",
   "metadata": {},
   "outputs": [],
   "source": [
    "dictset1 = dict(('ab', 'xy'))\n",
    "\n",
    "print(dictset1)"
   ]
  },
  {
   "cell_type": "code",
   "execution_count": null,
   "id": "6a210491",
   "metadata": {},
   "outputs": [],
   "source": [
    "dict(iterable)\n",
    "\n",
    "\n",
    "iterable should be in the form of \n",
    "\n",
    "[key,value]\n",
    "[key1, value1, value2]"
   ]
  },
  {
   "cell_type": "code",
   "execution_count": null,
   "id": "7a571920",
   "metadata": {},
   "outputs": [],
   "source": [
    "dicttup1 = dict(tup1)"
   ]
  },
  {
   "cell_type": "code",
   "execution_count": null,
   "id": "199afe3c",
   "metadata": {},
   "outputs": [],
   "source": [
    "lst1 = list('abcde')\n",
    "\n",
    "\n",
    "print(lst1)"
   ]
  },
  {
   "cell_type": "code",
   "execution_count": null,
   "id": "ffe959d5",
   "metadata": {},
   "outputs": [],
   "source": [
    "dict1 = dict(enumerate('abcde'))\n",
    "\n",
    "print(dict1)"
   ]
  },
  {
   "cell_type": "code",
   "execution_count": null,
   "id": "4b8e8c82",
   "metadata": {},
   "outputs": [],
   "source": [
    "names = ['yashoda', 'mala', 'prakher', 'aakash', 'tushar']\n",
    "activity = ['music', 'art', 'driving', 'gaming', 'trekking']\n",
    "\n",
    "dictact = dict(zip(names,activity))\n",
    "\n",
    "print(dictact)"
   ]
  },
  {
   "cell_type": "code",
   "execution_count": null,
   "id": "74db9e87",
   "metadata": {},
   "outputs": [],
   "source": [
    "a,b = zip(*dictact.items())\n",
    "\n",
    "print(a,b, sep = '\\n')"
   ]
  },
  {
   "cell_type": "code",
   "execution_count": null,
   "id": "c76ab5ea",
   "metadata": {},
   "outputs": [],
   "source": []
  },
  {
   "cell_type": "code",
   "execution_count": null,
   "id": "7e2d3755",
   "metadata": {},
   "outputs": [],
   "source": [
    "tup2 = (('a', 100),('b', 200),('c', 300))\n",
    "\n",
    "print(type(tup2))"
   ]
  },
  {
   "cell_type": "code",
   "execution_count": null,
   "id": "72fd27b8",
   "metadata": {},
   "outputs": [],
   "source": [
    "dicttup = dict(tup2)\n",
    "\n",
    "print(dicttup)"
   ]
  },
  {
   "cell_type": "code",
   "execution_count": null,
   "id": "34efe687",
   "metadata": {},
   "outputs": [],
   "source": [
    "dict2 = dict((('a',100), ('b',200), ['c',300]))\n",
    "\n",
    "\n",
    "print(dict2)"
   ]
  },
  {
   "cell_type": "code",
   "execution_count": null,
   "id": "4695772b",
   "metadata": {},
   "outputs": [],
   "source": [
    "xyz = \"('a':100), ('b',200), ['c',300]\"\n",
    "\n",
    "\n",
    "for a in xyz:\n",
    "    print(a)"
   ]
  },
  {
   "cell_type": "code",
   "execution_count": null,
   "id": "842448a8",
   "metadata": {},
   "outputs": [],
   "source": [
    "# inside iterable as key value pair\n",
    "# n number of inside iterables in a outer iterable. \n",
    "\n",
    "# Outer iterable passed to dictionary function."
   ]
  },
  {
   "cell_type": "code",
   "execution_count": null,
   "id": "769fadd1",
   "metadata": {},
   "outputs": [],
   "source": []
  },
  {
   "cell_type": "code",
   "execution_count": null,
   "id": "ebd38c3b",
   "metadata": {},
   "outputs": [],
   "source": [
    "number1 = range(100,200,10)\n",
    "\n",
    "#dictnumber = {0:1000,1:1010, 2:1020......}\n",
    "\n",
    "print(number1)\n",
    "\n",
    "enumnum = list(enumerate(number1))\n",
    "\n",
    "\n",
    "print(enumnum)\n",
    "print(type(enumnum))\n",
    "\n",
    "print(enumnum[0])"
   ]
  },
  {
   "cell_type": "code",
   "execution_count": null,
   "id": "41b2a2fc",
   "metadata": {},
   "outputs": [],
   "source": [
    "dictnumber = dict(enumerate(number1))\n",
    "\n",
    "\n",
    "print(dictnumber)"
   ]
  },
  {
   "cell_type": "code",
   "execution_count": null,
   "id": "e831876b",
   "metadata": {},
   "outputs": [],
   "source": [
    "lst1 = list(range(11,21))\n",
    "\n",
    "lstcalpha = list('ABCDEFGHIJ')\n",
    "\n",
    "lstalpha = list('abcdefghij')\n",
    "\n",
    "\n",
    "\n",
    "print(lst1, len(lst1))\n",
    "\n",
    "print(lstcalpha, len(lstcalpha))\n",
    "print(lstalpha,len(lstalpha))"
   ]
  },
  {
   "cell_type": "code",
   "execution_count": null,
   "id": "1076cad5",
   "metadata": {},
   "outputs": [],
   "source": [
    "lst1alphazip = list(zip(lst1,lstalpha))\n",
    "\n",
    "print(lst1alphazip)"
   ]
  },
  {
   "cell_type": "code",
   "execution_count": null,
   "id": "408a9739",
   "metadata": {},
   "outputs": [],
   "source": [
    "lstalphas = dict(zip(lstalpha, lstcalpha))\n",
    "\n",
    "print(lstalphas)"
   ]
  },
  {
   "cell_type": "code",
   "execution_count": null,
   "id": "94a2ce9e",
   "metadata": {},
   "outputs": [],
   "source": [
    "print(dict2)"
   ]
  },
  {
   "cell_type": "code",
   "execution_count": null,
   "id": "d8e29383",
   "metadata": {},
   "outputs": [],
   "source": [
    "lst1 = list(range(11,18))\n",
    "\n",
    "lstcalpha = list('ABCDE')\n",
    "\n",
    "lstalpha = list('abcdefghij')\n",
    "\n",
    "\n",
    "lstzip = zip(lst1,lstcalpha,lstalpha)\n",
    "\n",
    "print(lstzip)\n",
    "print(id(lstzip))"
   ]
  },
  {
   "cell_type": "code",
   "execution_count": null,
   "id": "067b44a2",
   "metadata": {},
   "outputs": [],
   "source": [
    "for x in lstzip:\n",
    "    print(x)"
   ]
  },
  {
   "cell_type": "code",
   "execution_count": null,
   "id": "f052a829",
   "metadata": {},
   "outputs": [],
   "source": [
    "from itertools import zip_longest\n",
    "\n",
    "lstziplong = zip_longest(lst1,lstcalpha,lstalpha)\n",
    "\n",
    "print(lstziplong)\n",
    "\n"
   ]
  },
  {
   "cell_type": "code",
   "execution_count": null,
   "id": "70dc14db",
   "metadata": {},
   "outputs": [],
   "source": [
    "print(dict2)"
   ]
  },
  {
   "cell_type": "code",
   "execution_count": null,
   "id": "34aec41c",
   "metadata": {},
   "outputs": [],
   "source": [
    "dict2 = {'A':100, 'B':200, 'C':300}\n",
    "\n",
    "print(dict2)"
   ]
  },
  {
   "cell_type": "code",
   "execution_count": null,
   "id": "f3ae4f53",
   "metadata": {},
   "outputs": [],
   "source": [
    "print(dict2['A'])"
   ]
  },
  {
   "cell_type": "code",
   "execution_count": null,
   "id": "1831d528",
   "metadata": {},
   "outputs": [],
   "source": [
    "dict2['A'] = 1001\n",
    "print(dict2)"
   ]
  },
  {
   "cell_type": "code",
   "execution_count": null,
   "id": "bbf754c1",
   "metadata": {},
   "outputs": [],
   "source": [
    "dict2['Z'] = 2020\n",
    "\n",
    "print(dict2)"
   ]
  },
  {
   "cell_type": "code",
   "execution_count": null,
   "id": "4c944f2b",
   "metadata": {},
   "outputs": [],
   "source": [
    "lst1 = [1,2,3,4]\n",
    "\n",
    "print(lst1)"
   ]
  },
  {
   "cell_type": "code",
   "execution_count": null,
   "id": "a679f0f7",
   "metadata": {},
   "outputs": [],
   "source": [
    "lst1[2] = 33\n",
    "\n",
    "print(lst1)"
   ]
  },
  {
   "cell_type": "code",
   "execution_count": null,
   "id": "4e9b15ab",
   "metadata": {},
   "outputs": [],
   "source": [
    "lst1[4] = 55\n",
    "\n",
    "print(lst1)"
   ]
  },
  {
   "cell_type": "code",
   "execution_count": null,
   "id": "61669c25",
   "metadata": {},
   "outputs": [],
   "source": []
  },
  {
   "cell_type": "code",
   "execution_count": null,
   "id": "d107ce84",
   "metadata": {},
   "outputs": [],
   "source": []
  },
  {
   "cell_type": "code",
   "execution_count": null,
   "id": "ffbeccb3",
   "metadata": {},
   "outputs": [],
   "source": [
    "dict2['ZZ'] = {100:1001, 200:2001, 300:3001}"
   ]
  },
  {
   "cell_type": "code",
   "execution_count": null,
   "id": "1e5c5a3c",
   "metadata": {},
   "outputs": [],
   "source": [
    "dict2[{100:1001, 200:2001, 300:3001}] = 'ZZ'"
   ]
  },
  {
   "cell_type": "code",
   "execution_count": null,
   "id": "dd2eebd9",
   "metadata": {},
   "outputs": [],
   "source": []
  },
  {
   "cell_type": "code",
   "execution_count": null,
   "id": "19c6442b",
   "metadata": {},
   "outputs": [],
   "source": [
    "print(dict2)"
   ]
  },
  {
   "cell_type": "code",
   "execution_count": null,
   "id": "1874d3d1",
   "metadata": {},
   "outputs": [],
   "source": [
    "dict2['ZZ']['A'] = 1001\n",
    "\n",
    "print(dict2)"
   ]
  },
  {
   "cell_type": "code",
   "execution_count": null,
   "id": "3a1fe624",
   "metadata": {},
   "outputs": [],
   "source": [
    "print(dict2)"
   ]
  },
  {
   "cell_type": "code",
   "execution_count": null,
   "id": "ae22d6da",
   "metadata": {},
   "outputs": [],
   "source": [
    "print(dict2['ZZ'][200])"
   ]
  },
  {
   "cell_type": "code",
   "execution_count": null,
   "id": "024cac14",
   "metadata": {},
   "outputs": [],
   "source": [
    "dict2['ZZ'][400] = 4001"
   ]
  },
  {
   "cell_type": "code",
   "execution_count": null,
   "id": "43d4481d",
   "metadata": {},
   "outputs": [],
   "source": [
    "print(dict2)"
   ]
  },
  {
   "cell_type": "code",
   "execution_count": null,
   "id": "74dd7541",
   "metadata": {},
   "outputs": [],
   "source": [
    "dict2['ZZ']['D'] = 10101\n",
    "\n",
    "print(dict2)\n",
    "print(id(dict2['ZZ']))"
   ]
  },
  {
   "cell_type": "code",
   "execution_count": null,
   "id": "2bdc831c",
   "metadata": {},
   "outputs": [],
   "source": [
    "dict2['ZZ'] = {'D' : 10101}\n",
    "\n",
    "print(dict2)\n",
    "print(id(dict2['ZZ']))"
   ]
  },
  {
   "cell_type": "code",
   "execution_count": null,
   "id": "c089723c",
   "metadata": {},
   "outputs": [],
   "source": [
    "print(dict2['ZZ'])\n",
    "\n"
   ]
  },
  {
   "cell_type": "code",
   "execution_count": null,
   "id": "6e708044",
   "metadata": {},
   "outputs": [],
   "source": []
  },
  {
   "cell_type": "code",
   "execution_count": null,
   "id": "0aa3965b",
   "metadata": {},
   "outputs": [],
   "source": []
  },
  {
   "cell_type": "code",
   "execution_count": null,
   "id": "9d3d5091",
   "metadata": {},
   "outputs": [],
   "source": [
    "lst1 = [1,2,3,4]"
   ]
  },
  {
   "cell_type": "code",
   "execution_count": null,
   "id": "1e74cdee",
   "metadata": {},
   "outputs": [],
   "source": [
    "print(dict2)"
   ]
  },
  {
   "cell_type": "code",
   "execution_count": null,
   "id": "21ce2626",
   "metadata": {},
   "outputs": [],
   "source": [
    "dict2['A'] = 2002"
   ]
  },
  {
   "cell_type": "code",
   "execution_count": null,
   "id": "b1c6e073",
   "metadata": {},
   "outputs": [],
   "source": [
    "print(dict2)"
   ]
  },
  {
   "cell_type": "code",
   "execution_count": null,
   "id": "4a02dcbe",
   "metadata": {},
   "outputs": [],
   "source": [
    "dict2['XYZ'] = 'xyz'"
   ]
  },
  {
   "cell_type": "code",
   "execution_count": null,
   "id": "07d26dbb",
   "metadata": {},
   "outputs": [],
   "source": [
    "dict2['ABC'] = 'abc'"
   ]
  },
  {
   "cell_type": "code",
   "execution_count": null,
   "id": "035e8a56",
   "metadata": {},
   "outputs": [],
   "source": [
    "print(dict2)"
   ]
  },
  {
   "cell_type": "code",
   "execution_count": null,
   "id": "c6d73568",
   "metadata": {},
   "outputs": [],
   "source": [
    "print(dir(dict))"
   ]
  },
  {
   "cell_type": "code",
   "execution_count": null,
   "id": "9921b9bd",
   "metadata": {},
   "outputs": [],
   "source": [
    "tup1 = 'XYZ', 'ABC'\n",
    "\n",
    "print(type(tup1))"
   ]
  },
  {
   "cell_type": "code",
   "execution_count": null,
   "id": "edf87944",
   "metadata": {},
   "outputs": [],
   "source": [
    "dict2[tup1] = 'TUPPERWARE'\n",
    "\n",
    "print(dict2)"
   ]
  },
  {
   "cell_type": "code",
   "execution_count": null,
   "id": "8075a0a2",
   "metadata": {},
   "outputs": [],
   "source": [
    "print(dict2['XYZ', 'ABC'])"
   ]
  },
  {
   "cell_type": "code",
   "execution_count": null,
   "id": "0c2e9f88",
   "metadata": {},
   "outputs": [],
   "source": [
    "dict2['XYZ','ABC'] = 201\n",
    "\n"
   ]
  },
  {
   "cell_type": "code",
   "execution_count": null,
   "id": "9a74af85",
   "metadata": {},
   "outputs": [],
   "source": [
    "print(dict2)"
   ]
  },
  {
   "cell_type": "code",
   "execution_count": null,
   "id": "396a7887",
   "metadata": {},
   "outputs": [],
   "source": [
    "print(dict2[('XYZ','ABC')])"
   ]
  },
  {
   "cell_type": "code",
   "execution_count": null,
   "id": "df04b646",
   "metadata": {},
   "outputs": [],
   "source": [
    "dict2[(100,200)] = 100\n",
    "\n",
    "print(dict2)"
   ]
  },
  {
   "cell_type": "code",
   "execution_count": null,
   "id": "0506ee2c",
   "metadata": {},
   "outputs": [],
   "source": [
    "dict2['z'] = 1001\n",
    "\n",
    "print(dict2)"
   ]
  },
  {
   "cell_type": "code",
   "execution_count": null,
   "id": "d14c7b1c",
   "metadata": {},
   "outputs": [],
   "source": [
    "dict2[2+3j] = 1010\n",
    "print(dict2)"
   ]
  },
  {
   "cell_type": "code",
   "execution_count": null,
   "id": "eb42ba25",
   "metadata": {},
   "outputs": [],
   "source": [
    "dict2[None] = 100\n",
    "print(dict2)"
   ]
  },
  {
   "cell_type": "code",
   "execution_count": null,
   "id": "6dce1bc4",
   "metadata": {},
   "outputs": [],
   "source": [
    "print(dict2[None])"
   ]
  },
  {
   "cell_type": "code",
   "execution_count": null,
   "id": "9fe3f194",
   "metadata": {},
   "outputs": [],
   "source": [
    "dict2[False] = 333\n",
    "\n",
    "print(dict2)"
   ]
  },
  {
   "cell_type": "code",
   "execution_count": null,
   "id": "c1a8d9d6",
   "metadata": {},
   "outputs": [],
   "source": [
    "dict2[[1,2,3]] = 10001\n",
    "\n",
    "print(dict2)"
   ]
  },
  {
   "cell_type": "code",
   "execution_count": null,
   "id": "e5f09481",
   "metadata": {},
   "outputs": [],
   "source": [
    "dict2[(100,200,[1,2])] = 'ABC'\n",
    "\n",
    "print(dict2)"
   ]
  },
  {
   "cell_type": "code",
   "execution_count": null,
   "id": "b15802d3",
   "metadata": {},
   "outputs": [],
   "source": [
    "dict1 = dict(zip(range(5),'abcde'))\n",
    "\n",
    "print(dict1)"
   ]
  },
  {
   "cell_type": "code",
   "execution_count": null,
   "id": "89066dc1",
   "metadata": {},
   "outputs": [],
   "source": [
    "dict1[(2,3)] = 23\n",
    "\n",
    "print(dict1)"
   ]
  },
  {
   "cell_type": "code",
   "execution_count": null,
   "id": "58e7f4c8",
   "metadata": {},
   "outputs": [],
   "source": [
    "dict1[4] = 45\n",
    "\n",
    "print(dict1)"
   ]
  },
  {
   "cell_type": "code",
   "execution_count": null,
   "id": "6ddeecad",
   "metadata": {},
   "outputs": [],
   "source": [
    "a = [1,2]\n",
    "x = (100,200, a)\n",
    "\n",
    "print(x)"
   ]
  },
  {
   "cell_type": "code",
   "execution_count": null,
   "id": "d8717542",
   "metadata": {},
   "outputs": [],
   "source": [
    "a.append(3)"
   ]
  },
  {
   "cell_type": "code",
   "execution_count": null,
   "id": "52d6c0ae",
   "metadata": {},
   "outputs": [],
   "source": [
    "print(x)"
   ]
  },
  {
   "cell_type": "code",
   "execution_count": null,
   "id": "e921744b",
   "metadata": {},
   "outputs": [],
   "source": [
    "a = [1,2]\n",
    "b = [1,3]\n",
    "tup1 = (100,200, a)\n",
    "tup2 = (100,200, b)\n",
    "\n",
    "print(tup1)\n",
    "print(tup2)"
   ]
  },
  {
   "cell_type": "code",
   "execution_count": null,
   "id": "d4759d1c",
   "metadata": {},
   "outputs": [],
   "source": [
    "b[1] = 2\n",
    "\n",
    "print(b)"
   ]
  },
  {
   "cell_type": "code",
   "execution_count": null,
   "id": "5213a706",
   "metadata": {},
   "outputs": [],
   "source": [
    "print(tup1)\n",
    "print(tup2)"
   ]
  },
  {
   "cell_type": "code",
   "execution_count": null,
   "id": "3dadd666",
   "metadata": {},
   "outputs": [],
   "source": [
    "c = 1\n",
    "\n",
    "dict1 = {c:100, 'b':200, 2+3j : 300}\n",
    "\n",
    "print(dict1)"
   ]
  },
  {
   "cell_type": "code",
   "execution_count": null,
   "id": "b6540526",
   "metadata": {},
   "outputs": [],
   "source": []
  },
  {
   "cell_type": "code",
   "execution_count": null,
   "id": "95aa17cd",
   "metadata": {},
   "outputs": [],
   "source": [
    "print(dict1.keys())"
   ]
  },
  {
   "cell_type": "code",
   "execution_count": null,
   "id": "4663a4e9",
   "metadata": {},
   "outputs": [],
   "source": [
    "print(id(c))\n",
    "print(id(list(dict1.keys())[0]))"
   ]
  },
  {
   "cell_type": "code",
   "execution_count": null,
   "id": "db9c3538",
   "metadata": {},
   "outputs": [],
   "source": [
    "c += 100\n",
    "print(c)\n",
    "\n",
    "print(dict1)\n",
    "\n",
    "print(id(c))\n",
    "print(id(list(dict1.keys())[0]))"
   ]
  },
  {
   "cell_type": "code",
   "execution_count": null,
   "id": "840d2683",
   "metadata": {},
   "outputs": [],
   "source": []
  },
  {
   "cell_type": "code",
   "execution_count": null,
   "id": "3c0b2608",
   "metadata": {},
   "outputs": [],
   "source": [
    "nest_lst = [1,2,3,[5,6,7],0]\n",
    "\n",
    "print(nest_lst[3][1])"
   ]
  },
  {
   "cell_type": "code",
   "execution_count": null,
   "id": "01e05741",
   "metadata": {},
   "outputs": [],
   "source": [
    "print(dict2)"
   ]
  },
  {
   "cell_type": "code",
   "execution_count": null,
   "id": "d490b047",
   "metadata": {},
   "outputs": [],
   "source": [
    "dict2['x'] = dict((('p',20), ('q',30)))\n",
    "\n",
    "print(dict2)"
   ]
  },
  {
   "cell_type": "code",
   "execution_count": null,
   "id": "a51a66c8",
   "metadata": {},
   "outputs": [],
   "source": []
  },
  {
   "cell_type": "code",
   "execution_count": null,
   "id": "1cdd4ffe",
   "metadata": {},
   "outputs": [],
   "source": [
    "print(dict2['x']['p'])"
   ]
  },
  {
   "cell_type": "code",
   "execution_count": null,
   "id": "c8b768b1",
   "metadata": {},
   "outputs": [],
   "source": []
  },
  {
   "cell_type": "code",
   "execution_count": null,
   "id": "b58828a7",
   "metadata": {},
   "outputs": [],
   "source": [
    "dict2['x']['p'] = 200\n",
    "\n",
    "print(dict2)"
   ]
  },
  {
   "cell_type": "code",
   "execution_count": null,
   "id": "2916c099",
   "metadata": {},
   "outputs": [],
   "source": [
    "dict2[30][0] = 'AAA'\n",
    "\n",
    "print(dict2)"
   ]
  },
  {
   "cell_type": "code",
   "execution_count": null,
   "id": "fd7fd0a2",
   "metadata": {},
   "outputs": [],
   "source": [
    "tup3 = 1,\n",
    "\n",
    "print(type(tup3))"
   ]
  },
  {
   "cell_type": "code",
   "execution_count": null,
   "id": "a0d571b7",
   "metadata": {},
   "outputs": [],
   "source": [
    "lst1 = [1,2,3,4]\n",
    "set1 = {1,2,3,4}\n",
    "tuple1 = 1,2,3,4\n",
    "\n"
   ]
  },
  {
   "cell_type": "code",
   "execution_count": null,
   "id": "06a39cac",
   "metadata": {},
   "outputs": [],
   "source": [
    "dict1 = {'a':100, 'b':200}\n",
    "\n",
    "print(dict1)"
   ]
  },
  {
   "cell_type": "code",
   "execution_count": null,
   "id": "3384cd3e",
   "metadata": {},
   "outputs": [],
   "source": [
    "dict4 = dict({'a':100, 'b':200})\n",
    "\n",
    "print(dict4)"
   ]
  },
  {
   "cell_type": "code",
   "execution_count": null,
   "id": "81f7f97d",
   "metadata": {},
   "outputs": [],
   "source": [
    "lst1 = list(('abcde','defgh'))\n",
    "\n",
    "print(lst1)"
   ]
  },
  {
   "cell_type": "code",
   "execution_count": null,
   "id": "97695067",
   "metadata": {},
   "outputs": [],
   "source": [
    "lst1 = ['abcde']\n",
    "\n",
    "print(lst1)"
   ]
  },
  {
   "cell_type": "code",
   "execution_count": null,
   "id": "6fe6773f",
   "metadata": {},
   "outputs": [],
   "source": [
    "dict5 = dict([('a',[100,200]), ('b',200)])\n",
    "\n",
    "print(dict5)"
   ]
  },
  {
   "cell_type": "code",
   "execution_count": null,
   "id": "341beb7b",
   "metadata": {},
   "outputs": [],
   "source": [
    "#Note how the curly braces are still required inside the dict constructor while initialising a dictionary through this\n",
    "#method. In reality, one would probably not use the constructor to create a list in this way. \n",
    "\n",
    "#However, if initialising using elements as key:value pairs the constructor comes in handy. \n",
    "x = [('a',[100,101]),('b',[200,201])]\n",
    "dict3 = dict(x)\n",
    "\n",
    "print(dict3)\n",
    "print(type(dict3))"
   ]
  },
  {
   "cell_type": "code",
   "execution_count": null,
   "id": "f99be8f3",
   "metadata": {},
   "outputs": [],
   "source": [
    "#Note putting each key value pair tuple inside a list before passing to dictionary. \n",
    "\n",
    "dict3 = dict([['a',100]])\n",
    "\n",
    "print(dict3)\n",
    "print(type(dict3))\n",
    "\n",
    "#Any combination of tuple, list can be used as long as the syntax is being followed i.e. constructor brackets must be round\n",
    "# brackets, then the key:value pairs must be put inside a list or tuple and finally - each key, value pair must be inside a\n",
    "# tuple or list - of ONLY two objects. We CAN have the values as a mutable derived object with more than one element. But\n",
    "# for the dictionaries purpose - the value item is only one OBJECT. "
   ]
  },
  {
   "cell_type": "code",
   "execution_count": null,
   "id": "8293547b",
   "metadata": {},
   "outputs": [],
   "source": [
    "tup = (1,2,3,4)\n",
    "\n",
    "print(type(tup))"
   ]
  },
  {
   "cell_type": "code",
   "execution_count": null,
   "id": "e3397ff5",
   "metadata": {},
   "outputs": [],
   "source": [
    "tup = 1,2,3,4\n",
    "\n",
    "print(type(tup))"
   ]
  },
  {
   "cell_type": "code",
   "execution_count": null,
   "id": "0892f930",
   "metadata": {},
   "outputs": [],
   "source": [
    "tup = (1)\n",
    "\n",
    "print(type(tup))"
   ]
  },
  {
   "cell_type": "code",
   "execution_count": null,
   "id": "430c2221",
   "metadata": {},
   "outputs": [],
   "source": [
    "tup = 1,\n",
    "\n",
    "print(type(tup))"
   ]
  },
  {
   "cell_type": "code",
   "execution_count": null,
   "id": "fbba40f7",
   "metadata": {},
   "outputs": [],
   "source": [
    "dict3= dict([('h',400),])\n",
    "print(dict3)\n",
    "\n"
   ]
  },
  {
   "cell_type": "code",
   "execution_count": null,
   "id": "b582fb02",
   "metadata": {},
   "outputs": [],
   "source": [
    "dict7 = dict((('x',400),))\n",
    "\n",
    "print(dict7)"
   ]
  },
  {
   "cell_type": "code",
   "execution_count": null,
   "id": "189d5f8a",
   "metadata": {},
   "outputs": [],
   "source": [
    "y = (1)\n",
    "\n",
    "print(type(y))"
   ]
  },
  {
   "cell_type": "code",
   "execution_count": null,
   "id": "fe5ed078",
   "metadata": {},
   "outputs": [],
   "source": [
    "y = (1,)\n",
    "\n",
    "print(type(y))"
   ]
  },
  {
   "cell_type": "code",
   "execution_count": null,
   "id": "ac0b6790",
   "metadata": {},
   "outputs": [],
   "source": [
    "to use the dict function need to pass an iterable. \n",
    "\n",
    "iterable = key,value\n",
    "iterable1 = key1,value1"
   ]
  },
  {
   "cell_type": "code",
   "execution_count": null,
   "id": "62661057",
   "metadata": {},
   "outputs": [],
   "source": [
    "(('AG',10),)"
   ]
  },
  {
   "cell_type": "code",
   "execution_count": null,
   "id": "62df16f5",
   "metadata": {},
   "outputs": [],
   "source": [
    "dict5 = dict((('AG',10),))\n",
    "\n",
    "print(dict5)"
   ]
  },
  {
   "cell_type": "code",
   "execution_count": null,
   "id": "09c604a4",
   "metadata": {},
   "outputs": [],
   "source": [
    "#You can also pass on a two or more elements in a list inside the original list to create a dictionary. \n",
    "\n",
    "dict4 = dict((('z',100), ['b',101]))\n",
    "\n",
    "print(dict4)\n",
    "#More than 2 elements throws a Value error as the dictionary constructor only expects one key and one value inside the list\n",
    "#(or tuple)"
   ]
  },
  {
   "cell_type": "code",
   "execution_count": null,
   "id": "55c3a886",
   "metadata": {},
   "outputs": [],
   "source": [
    "dict5 = dict((('a', 'a'),))\n",
    "print(dict5)"
   ]
  },
  {
   "cell_type": "code",
   "execution_count": null,
   "id": "69236cca",
   "metadata": {},
   "outputs": [],
   "source": [
    "#However, besides the first immutable element in each list - the rest can be passed into a list(or tuple, or set) denoting\n",
    "# one value object. \n",
    "\n",
    "dict3 = dict([['a',[100,1001]], ['b',[101,1010]]])\n",
    "\n",
    "print(dict3)\n",
    "print(type(dict3))\n"
   ]
  },
  {
   "cell_type": "code",
   "execution_count": null,
   "id": "0b91de60",
   "metadata": {},
   "outputs": [],
   "source": [
    "dict3 = dict((('a',(100,1001)), ('b',(101,1010))))\n",
    "\n",
    "print(dict3)\n",
    "print(type(dict3))\n"
   ]
  },
  {
   "cell_type": "code",
   "execution_count": null,
   "id": "2fb1283d",
   "metadata": {},
   "outputs": [],
   "source": [
    "dict4 = {'a':100, 'b':200, 'c':201, 'b':2020}\n",
    "\n",
    "print(dict4)\n"
   ]
  },
  {
   "cell_type": "code",
   "execution_count": null,
   "id": "720200b1",
   "metadata": {},
   "outputs": [],
   "source": [
    "dict4 = dict((('a',100),('b',200), ('a',1001)))\n",
    "\n",
    "print(dict4)"
   ]
  },
  {
   "cell_type": "code",
   "execution_count": null,
   "id": "f1e60ef0",
   "metadata": {},
   "outputs": [],
   "source": [
    "#Note here how when finding two elements 'b' in the dictionary initialisation - it only keeps the latest value of 'b' in the\n",
    "# dictionary. Keys of a dictionary must be unique. \n",
    "\n",
    "#This works though since strings are case sensitive. \n",
    "\n",
    "dict4 = {'a':100, 'b':200, 'c':201, 'B':2020}\n",
    "\n",
    "print(dict4)\n"
   ]
  },
  {
   "cell_type": "code",
   "execution_count": null,
   "id": "2aeeb434",
   "metadata": {},
   "outputs": [],
   "source": [
    "#We already saw that values can be immutable or mutable datatypes. \n",
    "\n",
    "#Keys though must be immutable. \n",
    "\n",
    "dict5 = {(1,2,3) : 'abc', 21:200, 'abc':75, 2 + 3j : 75, 10.2 : 75, 'abc': 76, 'pqr': 'abc'}\n",
    "\n",
    "print(dict5)"
   ]
  },
  {
   "cell_type": "code",
   "execution_count": null,
   "id": "f43b6eb0",
   "metadata": {},
   "outputs": [],
   "source": [
    "x = 1,2,3\n",
    "\n",
    "dict5 = {x : 'abc', 21:200, 'abc':75, 2 + 3j : 75, 10.2 : 75}\n",
    "\n",
    "print(dict5)"
   ]
  },
  {
   "cell_type": "code",
   "execution_count": null,
   "id": "b4e76347",
   "metadata": {},
   "outputs": [],
   "source": [
    "x = 'PQR'\n",
    "\n",
    "dict5 = {x : 'abc', 21:200, 'abc':75, 2 + 3j : 75, 10.2 : 75}\n",
    "\n",
    "print(dict5)\n",
    "\n",
    "ida = id(dict5)\n",
    "\n",
    "print(ida)"
   ]
  },
  {
   "cell_type": "code",
   "execution_count": null,
   "id": "f9389659",
   "metadata": {},
   "outputs": [],
   "source": [
    "dict1 = {'a': 100, 'b':200, 'c':1001}\n",
    "\n",
    "print(dict1)"
   ]
  },
  {
   "cell_type": "code",
   "execution_count": null,
   "id": "078c9f36",
   "metadata": {},
   "outputs": [],
   "source": [
    "x = 'STU'"
   ]
  },
  {
   "cell_type": "code",
   "execution_count": null,
   "id": "6c202739",
   "metadata": {},
   "outputs": [],
   "source": [
    "print(dict5)"
   ]
  },
  {
   "cell_type": "code",
   "execution_count": null,
   "id": "d262fa60",
   "metadata": {},
   "outputs": [],
   "source": [
    "dict5['PQR']"
   ]
  },
  {
   "cell_type": "code",
   "execution_count": null,
   "id": "1c12ad6a",
   "metadata": {},
   "outputs": [],
   "source": []
  },
  {
   "cell_type": "code",
   "execution_count": null,
   "id": "299418c7",
   "metadata": {},
   "outputs": [],
   "source": [
    "print(dict5)"
   ]
  },
  {
   "cell_type": "code",
   "execution_count": null,
   "id": "47c66bcf",
   "metadata": {},
   "outputs": [],
   "source": [
    "dict1['PQR'] = 'ABC'\n",
    "\n",
    "print(dict1)"
   ]
  },
  {
   "cell_type": "code",
   "execution_count": null,
   "id": "8963fd0d",
   "metadata": {},
   "outputs": [],
   "source": [
    "del(dict1['PQR'])\n",
    "\n",
    "\n",
    "print(dict1)"
   ]
  },
  {
   "cell_type": "code",
   "execution_count": null,
   "id": "bdc41d3e",
   "metadata": {},
   "outputs": [],
   "source": [
    "dict5['pqr'] = 'xxx'\n",
    "print(dict5)"
   ]
  },
  {
   "cell_type": "code",
   "execution_count": null,
   "id": "8a7101c2",
   "metadata": {},
   "outputs": [],
   "source": [
    "dict5['STU'] = dict5['PQR']\n",
    "\n",
    "print(dict5)"
   ]
  },
  {
   "cell_type": "code",
   "execution_count": null,
   "id": "5ea93e80",
   "metadata": {},
   "outputs": [],
   "source": [
    "del dict5['PQR']\n",
    "\n",
    "print(dict5)"
   ]
  },
  {
   "cell_type": "code",
   "execution_count": null,
   "id": "10765f09",
   "metadata": {},
   "outputs": [],
   "source": [
    "dict5 = {x : 'abc', 21:200, 'abc':75, 2 + 3j : 75, 10.2 : 75}"
   ]
  },
  {
   "cell_type": "code",
   "execution_count": null,
   "id": "533b2867",
   "metadata": {},
   "outputs": [],
   "source": []
  },
  {
   "cell_type": "code",
   "execution_count": null,
   "id": "dab7abc5",
   "metadata": {},
   "outputs": [],
   "source": [
    "x = tuple()"
   ]
  },
  {
   "cell_type": "code",
   "execution_count": null,
   "id": "d250bb0f",
   "metadata": {},
   "outputs": [],
   "source": [
    "print(x)\n",
    "print(type(x))"
   ]
  },
  {
   "cell_type": "code",
   "execution_count": null,
   "id": "2025195d",
   "metadata": {},
   "outputs": [],
   "source": []
  },
  {
   "cell_type": "code",
   "execution_count": null,
   "id": "d1e293c5",
   "metadata": {},
   "outputs": [],
   "source": [
    "print(dict5)"
   ]
  },
  {
   "cell_type": "code",
   "execution_count": null,
   "id": "08700307",
   "metadata": {},
   "outputs": [],
   "source": [
    "print(dict5[x])"
   ]
  },
  {
   "cell_type": "code",
   "execution_count": null,
   "id": "495c5712",
   "metadata": {},
   "outputs": [],
   "source": [
    "print(dict5[1])"
   ]
  },
  {
   "cell_type": "code",
   "execution_count": null,
   "id": "9f7ee222",
   "metadata": {},
   "outputs": [],
   "source": [
    "#Note above how when we assigned an immutable value to x variable, we were able to use it as a key in a dictionary(as long\n",
    "# as the value of x was immutable datatype)/\n",
    "\n",
    "#But when we changed the value of x, we were also able to create dict5. What looks like we were able to change the\n",
    "# dictionary in dict5 wasnt really true. A new dictionary object was created. "
   ]
  },
  {
   "cell_type": "code",
   "execution_count": null,
   "id": "24aec64b",
   "metadata": {},
   "outputs": [],
   "source": [
    "print(ida, idaa)"
   ]
  },
  {
   "cell_type": "code",
   "execution_count": null,
   "id": "ea3e1a2c",
   "metadata": {},
   "outputs": [],
   "source": [
    "#As explained before, though dictionaries themselves are mutable i.e. we can add and delete key:value pairs, we can alter\n",
    "# the values, the keys MUST be immutable i.e. once created - keys cannot be changed. \n",
    "\n",
    "#We CAN change the keys of a dictionary in a round about way which creates a new dictionary object. "
   ]
  },
  {
   "cell_type": "code",
   "execution_count": null,
   "id": "d7543a92",
   "metadata": {},
   "outputs": [],
   "source": [
    "dict1 = {'a':100, 'b':200, 'c':300}\n",
    "\n",
    "print(dict1)\n",
    "print(id(dict1))"
   ]
  },
  {
   "cell_type": "code",
   "execution_count": null,
   "id": "13850bdd",
   "metadata": {},
   "outputs": [],
   "source": [
    "dict1['a']"
   ]
  },
  {
   "cell_type": "code",
   "execution_count": null,
   "id": "25e07bbf",
   "metadata": {},
   "outputs": [],
   "source": [
    "dict1['A'] = dict1['a']"
   ]
  },
  {
   "cell_type": "code",
   "execution_count": null,
   "id": "f7787612",
   "metadata": {},
   "outputs": [],
   "source": [
    "del dict1['a']"
   ]
  },
  {
   "cell_type": "code",
   "execution_count": null,
   "id": "70182845",
   "metadata": {},
   "outputs": [],
   "source": [
    "print(dict1)"
   ]
  },
  {
   "cell_type": "code",
   "execution_count": null,
   "id": "f6d87311",
   "metadata": {},
   "outputs": [],
   "source": []
  },
  {
   "cell_type": "code",
   "execution_count": null,
   "id": "ffaa2b46",
   "metadata": {},
   "outputs": [],
   "source": []
  },
  {
   "cell_type": "code",
   "execution_count": null,
   "id": "aab62a6c",
   "metadata": {},
   "outputs": [],
   "source": []
  },
  {
   "cell_type": "code",
   "execution_count": null,
   "id": "d9f8cb5a",
   "metadata": {},
   "outputs": [],
   "source": [
    "dict1['A'] = dict1['a']\n",
    "\n",
    "print(dict1)"
   ]
  },
  {
   "cell_type": "code",
   "execution_count": null,
   "id": "bb532dc8",
   "metadata": {},
   "outputs": [],
   "source": [
    "dict2 = {'b': 200, 'c': 300, 'a': 100}"
   ]
  },
  {
   "cell_type": "code",
   "execution_count": null,
   "id": "612db797",
   "metadata": {},
   "outputs": [],
   "source": [
    "del(dict2['a'])"
   ]
  },
  {
   "cell_type": "code",
   "execution_count": null,
   "id": "70ac868b",
   "metadata": {},
   "outputs": [],
   "source": [
    "print(dict2)\n",
    "print(id(dict2))"
   ]
  },
  {
   "cell_type": "code",
   "execution_count": null,
   "id": "0a65a936",
   "metadata": {},
   "outputs": [],
   "source": [
    "print(dict2['a'])"
   ]
  },
  {
   "cell_type": "code",
   "execution_count": null,
   "id": "dc69c913",
   "metadata": {},
   "outputs": [],
   "source": [
    "dict2['A'] = dict2['a']\n",
    "print(dict2)\n",
    "del(dict2['a'])\n",
    "print(dict2)"
   ]
  },
  {
   "cell_type": "code",
   "execution_count": null,
   "id": "9919dc06",
   "metadata": {},
   "outputs": [],
   "source": [
    "dict1['A'] = dict1['a']\n",
    "\n",
    "del(dict1['a'])\n",
    "\n",
    "print(dict1)"
   ]
  },
  {
   "cell_type": "code",
   "execution_count": null,
   "id": "8d117190",
   "metadata": {},
   "outputs": [],
   "source": [
    "print(dir(dict))"
   ]
  },
  {
   "cell_type": "code",
   "execution_count": null,
   "id": "73748b52",
   "metadata": {},
   "outputs": [],
   "source": [
    "print(dict1)"
   ]
  },
  {
   "cell_type": "code",
   "execution_count": null,
   "id": "97bc8375",
   "metadata": {},
   "outputs": [],
   "source": [
    "dict1['Z'] = 1000\n",
    "\n",
    "print(dict1)"
   ]
  },
  {
   "cell_type": "code",
   "execution_count": null,
   "id": "ad0e628b",
   "metadata": {},
   "outputs": [],
   "source": [
    "dict1['Y'] = 2000\n",
    "\n",
    "print(dict1)"
   ]
  },
  {
   "cell_type": "code",
   "execution_count": null,
   "id": "429ec6eb",
   "metadata": {},
   "outputs": [],
   "source": []
  },
  {
   "cell_type": "code",
   "execution_count": null,
   "id": "2ef55b36",
   "metadata": {},
   "outputs": [],
   "source": [
    "dict1 = list(enumerate('abcde'))\n",
    "\n",
    "print(dict1)"
   ]
  },
  {
   "cell_type": "code",
   "execution_count": null,
   "id": "e6132566",
   "metadata": {},
   "outputs": [],
   "source": [
    "dict1 = dict(dict1)\n",
    "\n",
    "print(dict1)"
   ]
  },
  {
   "cell_type": "code",
   "execution_count": null,
   "id": "b0d6643c",
   "metadata": {},
   "outputs": [],
   "source": [
    "dict1[5] = 'X'\n",
    "\n",
    "dict1[4] = 'E'\n",
    "\n",
    "print(dict1)"
   ]
  },
  {
   "cell_type": "code",
   "execution_count": null,
   "id": "2dc7db09",
   "metadata": {},
   "outputs": [],
   "source": [
    "#"
   ]
  },
  {
   "cell_type": "code",
   "execution_count": null,
   "id": "2bbd8976",
   "metadata": {},
   "outputs": [],
   "source": [
    "dictkeys = dict1.keys()\n",
    "dictvalues = dict1.values()\n",
    "dictitems = dict1.items()"
   ]
  },
  {
   "cell_type": "code",
   "execution_count": null,
   "id": "68523e33",
   "metadata": {},
   "outputs": [],
   "source": [
    "print(dictkeys, type(dictkeys), sep = '--->')\n",
    "print(dictvalues, type(dictvalues), sep = '--->')\n",
    "print(dictitems, type(dictitems), sep = '--->')"
   ]
  },
  {
   "cell_type": "code",
   "execution_count": null,
   "id": "9b01d6ce",
   "metadata": {},
   "outputs": [],
   "source": [
    "dictkeysl = list(dict1.keys())\n",
    "dictvaluesl = list(dict1.values())\n",
    "dictitemsl = list(dict1.items())\n"
   ]
  },
  {
   "cell_type": "code",
   "execution_count": null,
   "id": "3ce399e0",
   "metadata": {},
   "outputs": [],
   "source": [
    "print(dictkeys)\n",
    "print(dictvalues)\n",
    "print(dictitems)"
   ]
  },
  {
   "cell_type": "code",
   "execution_count": null,
   "id": "19d11ab1",
   "metadata": {},
   "outputs": [],
   "source": [
    "print(dictkeysl)\n",
    "print(dictvaluesl)\n",
    "print(dictitemsl)"
   ]
  },
  {
   "cell_type": "code",
   "execution_count": null,
   "id": "88632d1f",
   "metadata": {},
   "outputs": [],
   "source": [
    "dictvalues[0]"
   ]
  },
  {
   "cell_type": "code",
   "execution_count": null,
   "id": "692d0cfc",
   "metadata": {},
   "outputs": [],
   "source": [
    "dictvaluesl[0]"
   ]
  },
  {
   "cell_type": "code",
   "execution_count": null,
   "id": "4a70980b",
   "metadata": {},
   "outputs": [],
   "source": [
    "dict1[5] = 'f'\n",
    "\n",
    "print(dict1)"
   ]
  },
  {
   "cell_type": "code",
   "execution_count": null,
   "id": "200235f0",
   "metadata": {},
   "outputs": [],
   "source": [
    "for x in dict1.keys():\n",
    "    print(x)"
   ]
  },
  {
   "cell_type": "code",
   "execution_count": null,
   "id": "391bbfff",
   "metadata": {},
   "outputs": [],
   "source": [
    "for x in dict1:\n",
    "    print(x)"
   ]
  },
  {
   "cell_type": "code",
   "execution_count": null,
   "id": "37179777",
   "metadata": {},
   "outputs": [],
   "source": [
    "tosearch = 'd'\n",
    "\n",
    "for x in dict1:\n",
    "    if dict1[x] == 'd':\n",
    "        print(x)\n",
    "    "
   ]
  },
  {
   "cell_type": "code",
   "execution_count": null,
   "id": "7c8721f6",
   "metadata": {},
   "outputs": [],
   "source": [
    "a = 100\n",
    "b = 100\n"
   ]
  },
  {
   "cell_type": "code",
   "execution_count": null,
   "id": "a62bb6b4",
   "metadata": {},
   "outputs": [],
   "source": []
  },
  {
   "cell_type": "code",
   "execution_count": null,
   "id": "a80166f7",
   "metadata": {},
   "outputs": [],
   "source": [
    "for x in dictkeys:\n",
    "    print(x)"
   ]
  },
  {
   "cell_type": "code",
   "execution_count": null,
   "id": "4b4ce551",
   "metadata": {},
   "outputs": [],
   "source": [
    "# dictionary view objects(keys, values, items) are iterable but NOT subscriptable. \n",
    "\n",
    "# Convert to a different indexable datatype if absolutely need to use indexing on dict view objects. "
   ]
  },
  {
   "cell_type": "code",
   "execution_count": null,
   "id": "366216ad",
   "metadata": {},
   "outputs": [],
   "source": []
  },
  {
   "cell_type": "code",
   "execution_count": null,
   "id": "7d693280",
   "metadata": {},
   "outputs": [],
   "source": [
    "dict1 = dict((zip(list(range(5)),'abcde')))"
   ]
  },
  {
   "cell_type": "code",
   "execution_count": null,
   "id": "5ddb0e87",
   "metadata": {},
   "outputs": [],
   "source": [
    "print(dict1)"
   ]
  },
  {
   "cell_type": "code",
   "execution_count": null,
   "id": "b3e0590e",
   "metadata": {},
   "outputs": [],
   "source": [
    "dict1[0] = 'd'\n",
    "\n",
    "print(dict1)"
   ]
  },
  {
   "cell_type": "code",
   "execution_count": null,
   "id": "b2f79c03",
   "metadata": {},
   "outputs": [],
   "source": [
    "findvalue = 'd'\n",
    "\n",
    "for x in dict1.items():\n",
    "    if x[1] == findvalue:\n",
    "        print(x[0])"
   ]
  },
  {
   "cell_type": "code",
   "execution_count": null,
   "id": "d8aa7eec",
   "metadata": {},
   "outputs": [],
   "source": [
    "for x in dict1:\n",
    "    if dict1[x] == findvalue:\n",
    "        print(x)"
   ]
  },
  {
   "cell_type": "code",
   "execution_count": null,
   "id": "339aba64",
   "metadata": {},
   "outputs": [],
   "source": [
    "for x in range(len(dict1.values())):\n",
    "    if list(dict1.values())[x] == findvalue:\n",
    "               print(list(dict1.keys())[x])"
   ]
  },
  {
   "cell_type": "code",
   "execution_count": null,
   "id": "eab1faca",
   "metadata": {},
   "outputs": [],
   "source": [
    "print(dictkeys[0])"
   ]
  },
  {
   "cell_type": "code",
   "execution_count": null,
   "id": "a6906d86",
   "metadata": {},
   "outputs": [],
   "source": [
    "# Dictionaries\n",
    "\n",
    "#1. Derived datatype\n",
    "#2. Key and value pairs. \n",
    "- keys should be immutable and unique. Values are permitted to be mutable and non-unique.\n",
    "#3. Sequential type i.e. made up of other elements. Ordered. \n",
    "#4. Does not support integer indexing only indexing and assignment by key. \n",
    "#5. Iterable(by default on keys).\n",
    "\n",
    "# Initialising keys:\n",
    "\n",
    "# 1. With curly braces and key value pairs inside the braces, key : values seperated by a colon, each pair seperated by a\n",
    "# comma. \n",
    "# 2. dict funct which takes a single iterable which contains pairs of key, value inside other iterables. \n",
    "\n",
    "# Key, value and item view objects called by the dict.keys(), dict.values() and dict.items() functions.\n",
    "\n"
   ]
  },
  {
   "cell_type": "code",
   "execution_count": null,
   "id": "e4c658e2",
   "metadata": {},
   "outputs": [],
   "source": [
    "dict1 = dict((['a',1],['b',2], ['c', 3]))\n",
    "\n",
    "print(dict1)"
   ]
  },
  {
   "cell_type": "code",
   "execution_count": null,
   "id": "a615af67",
   "metadata": {},
   "outputs": [],
   "source": [
    "dict1['A'] = dict1['a']\n",
    "\n",
    "print(dict1)"
   ]
  },
  {
   "cell_type": "code",
   "execution_count": null,
   "id": "62430752",
   "metadata": {},
   "outputs": [],
   "source": [
    "del dict1['a']\n",
    "\n",
    "print(dict1)\n",
    "print(id(dict1))"
   ]
  },
  {
   "cell_type": "code",
   "execution_count": null,
   "id": "3f659ee1",
   "metadata": {},
   "outputs": [],
   "source": [
    "dict1['AAA'] = dict1['a']\n",
    "del dict1['a']\n",
    "\n",
    "print(dict1)"
   ]
  },
  {
   "cell_type": "code",
   "execution_count": null,
   "id": "3dd9260b",
   "metadata": {},
   "outputs": [],
   "source": [
    "# # Dictionary Datatype\n",
    "\n",
    "# Properties\n",
    "# 1. Dictionary is mutable, keys must be immutable, values can be mutable or immutable\n",
    "# 2. Keys cannot be duplicate. Values can be duplicated\n",
    "# 3. Derived datatype, Sequential\n",
    "# 4. Ordered\n",
    "# 5. Iterable\n",
    "# 6. Integer subscription cannot be performed. Indexing only with keys. Slicing cannot be performed.\n",
    "\n",
    "# # How to initialise a dictionary\n",
    "# 1. {} method\n",
    "# 2. dict function which only one iterable - which may contain multiple iterables as key, value pairs\n",
    "\n",
    "# # Dictionary assignment\n",
    "# 1. Key/value pairs can be added using dictionary subscription or if key already present, value can be updated using same\\\n",
    "# syntax\n",
    "\n"
   ]
  },
  {
   "cell_type": "code",
   "execution_count": null,
   "id": "62092cee",
   "metadata": {},
   "outputs": [],
   "source": []
  },
  {
   "cell_type": "code",
   "execution_count": null,
   "id": "cba9e942",
   "metadata": {},
   "outputs": [],
   "source": []
  },
  {
   "cell_type": "code",
   "execution_count": null,
   "id": "03df598b",
   "metadata": {},
   "outputs": [],
   "source": [
    "# Iterator objects are objects that have the __iter__ method in their class\n",
    "# Iterator object can only be iterated over once.  (unless of course you re-initialise the iterator object)\n",
    "# Some built-in functions of Python will output iterator object such as reverse iterator, zip iterator, enumerate iterator. \n",
    "\n",
    "\n"
   ]
  },
  {
   "cell_type": "code",
   "execution_count": null,
   "id": "1b740900",
   "metadata": {},
   "outputs": [],
   "source": [
    "x = list('abcd')\n",
    "y = range(len(x))\n",
    "\n",
    "for a in y:\n",
    "    print(x.pop())\n",
    "    print(len(x))"
   ]
  },
  {
   "cell_type": "code",
   "execution_count": null,
   "id": "c9da873f",
   "metadata": {},
   "outputs": [],
   "source": [
    "for a in x:"
   ]
  },
  {
   "cell_type": "code",
   "execution_count": null,
   "id": "6261d5ff",
   "metadata": {},
   "outputs": [],
   "source": [
    "for a in range(len(x)):\n",
    "    \n",
    "    \n",
    "    \n",
    "(0,3)"
   ]
  },
  {
   "cell_type": "code",
   "execution_count": null,
   "id": "fc4f7ac5",
   "metadata": {},
   "outputs": [],
   "source": [
    "# Dictionaries\n",
    "\n",
    "1. Derived datatype\n",
    "2. Mutable\n",
    "3. Iterable\n",
    "4. Sequential\n",
    "5. Must have key : value pair. Key should be immutable and unique. Value can be any datatype and not neccessarily unique\n",
    "6. Does not support slicing or integer indexing. But does support subscription using key. \n",
    "\n"
   ]
  },
  {
   "cell_type": "code",
   "execution_count": null,
   "id": "1edb4e38",
   "metadata": {},
   "outputs": [],
   "source": [
    "#Another way to create dictionaries is with the .fromkeys() method. It takes two parameters:\n",
    "\n",
    "#1. An iterable whose values will be used as keys - mandatory\n",
    "#2. Value - Optional\n",
    "\n",
    "lst1 = list('abcde')\n",
    "print(lst1)"
   ]
  },
  {
   "cell_type": "code",
   "execution_count": null,
   "id": "27652747",
   "metadata": {},
   "outputs": [],
   "source": [
    "x = [1,2,3]"
   ]
  },
  {
   "cell_type": "code",
   "execution_count": null,
   "id": "06a404b4",
   "metadata": {},
   "outputs": [],
   "source": [
    "x = True"
   ]
  },
  {
   "cell_type": "code",
   "execution_count": null,
   "id": "bdbb7982",
   "metadata": {},
   "outputs": [],
   "source": [
    "dict1 = dict.fromkeys('abc', x)\n",
    "\n",
    "print(dict1)\n",
    "\n",
    "#The default value has been set to None for later reassignment. "
   ]
  },
  {
   "cell_type": "code",
   "execution_count": null,
   "id": "d0261004",
   "metadata": {},
   "outputs": [],
   "source": [
    "x = False\n",
    "\n",
    "\n",
    "print(dict1)"
   ]
  },
  {
   "cell_type": "code",
   "execution_count": null,
   "id": "b727652c",
   "metadata": {},
   "outputs": [],
   "source": [
    "x[0] = 101\n",
    "\n",
    "\n",
    "print(dict1)"
   ]
  },
  {
   "cell_type": "code",
   "execution_count": null,
   "id": "7edd9f5f",
   "metadata": {},
   "outputs": [],
   "source": []
  },
  {
   "cell_type": "code",
   "execution_count": null,
   "id": "07f1935d",
   "metadata": {},
   "outputs": [],
   "source": [
    "#As always, all the keys must be immutable\n",
    "\n",
    "lst2 = list('abcde')\n",
    "lst2.append([1,2,3,4])\n",
    "print(lst2)"
   ]
  },
  {
   "cell_type": "code",
   "execution_count": null,
   "id": "636d1aec",
   "metadata": {},
   "outputs": [],
   "source": []
  },
  {
   "cell_type": "code",
   "execution_count": null,
   "id": "e2f105a0",
   "metadata": {},
   "outputs": [],
   "source": [
    "dict2 = dict.fromkeys(lst2)"
   ]
  },
  {
   "cell_type": "code",
   "execution_count": null,
   "id": "5b19e4dc",
   "metadata": {},
   "outputs": [],
   "source": [
    "#Values can be provided as optional parameter to the from keys method\n",
    "\n",
    "dict3 = dict.fromkeys('abcde', 100)\n",
    "print(dict3)"
   ]
  },
  {
   "cell_type": "code",
   "execution_count": null,
   "id": "bf1877ec",
   "metadata": {},
   "outputs": [],
   "source": [
    "lst1 = list('abcde')"
   ]
  },
  {
   "cell_type": "code",
   "execution_count": null,
   "id": "7281c0db",
   "metadata": {},
   "outputs": [],
   "source": [
    "#Note that only one default value can be provided in the value parameter and not a range of values. It will only take the\n",
    "# single object provided as the default value for all keys. \n",
    "\n",
    "val_dict1 = [1,2,3,4]\n",
    "\n",
    "dict3a = dict.fromkeys(lst1, val_dict1.copy())\n",
    "print(dict3a)"
   ]
  },
  {
   "cell_type": "code",
   "execution_count": null,
   "id": "5f8ef02e",
   "metadata": {},
   "outputs": [],
   "source": [
    "val_dict1.append(5)\n",
    "\n",
    "print(val_dict1)"
   ]
  },
  {
   "cell_type": "code",
   "execution_count": null,
   "id": "ccfc834a",
   "metadata": {},
   "outputs": [],
   "source": [
    "print(dict3a)"
   ]
  },
  {
   "cell_type": "code",
   "execution_count": null,
   "id": "4b1dbcc9",
   "metadata": {},
   "outputs": [],
   "source": [
    "dict3a['a'].append(50)\n",
    "\n",
    "print(dict3a)"
   ]
  },
  {
   "cell_type": "code",
   "execution_count": null,
   "id": "6911839c",
   "metadata": {},
   "outputs": [],
   "source": [
    "print(id(val_dict1))"
   ]
  },
  {
   "cell_type": "code",
   "execution_count": null,
   "id": "0d78f909",
   "metadata": {},
   "outputs": [],
   "source": [
    "for i in dict3a.values():\n",
    "    print(id(i))"
   ]
  },
  {
   "cell_type": "code",
   "execution_count": null,
   "id": "0c5c5828",
   "metadata": {},
   "outputs": [],
   "source": []
  },
  {
   "cell_type": "code",
   "execution_count": null,
   "id": "59b2b16d",
   "metadata": {},
   "outputs": [],
   "source": [
    "print(val_dict1)"
   ]
  },
  {
   "cell_type": "code",
   "execution_count": null,
   "id": "07710983",
   "metadata": {},
   "outputs": [],
   "source": [
    "print(dict3a)"
   ]
  },
  {
   "cell_type": "code",
   "execution_count": null,
   "id": "92107809",
   "metadata": {},
   "outputs": [],
   "source": [
    "#Note the behaviour of an immutable datatype passed to the value parameter of dictionary created using fromkeys method\n",
    "\n",
    "val_dict1 = 1\n",
    "\n",
    "dict3 = dict.fromkeys(lst1, val_dict1)\n",
    "\n",
    "print(dict3)\n",
    "print(lst1)"
   ]
  },
  {
   "cell_type": "code",
   "execution_count": null,
   "id": "ff62f180",
   "metadata": {},
   "outputs": [],
   "source": [
    "val_dict1 = 2\n",
    "print(dict3)"
   ]
  },
  {
   "cell_type": "code",
   "execution_count": null,
   "id": "6b84cca3",
   "metadata": {},
   "outputs": [],
   "source": [
    "#Now, note the behaviour of dictionary created with from keys method with mutable object as default value. \n",
    "\n",
    "val_dict2 = [1,2]\n",
    "\n",
    "dict4 = dict.fromkeys(lst1, val_dict2)\n",
    "print(dict4)"
   ]
  },
  {
   "cell_type": "code",
   "execution_count": null,
   "id": "57a246fa",
   "metadata": {},
   "outputs": [],
   "source": [
    "val_dict2.append(3)\n",
    "\n",
    "\n",
    "print(val_dict2)"
   ]
  },
  {
   "cell_type": "code",
   "execution_count": null,
   "id": "af972917",
   "metadata": {},
   "outputs": [],
   "source": [
    "print(dict4)"
   ]
  },
  {
   "cell_type": "code",
   "execution_count": null,
   "id": "334c4674",
   "metadata": {},
   "outputs": [],
   "source": [
    "dict5 = dict.fromkeys('abcde', [1,2,3])"
   ]
  },
  {
   "cell_type": "code",
   "execution_count": null,
   "id": "2f4c523f",
   "metadata": {},
   "outputs": [],
   "source": [
    "#This is the same as:\n",
    "\n",
    "\n",
    "dict5 = {'a':val_dict2, 'b':200}\n",
    "\n",
    "print(dict5)\n",
    "\n"
   ]
  },
  {
   "cell_type": "code",
   "execution_count": null,
   "id": "d3f1a80d",
   "metadata": {},
   "outputs": [],
   "source": [
    "val_dict2.append(4)\n",
    "print(dict5)"
   ]
  },
  {
   "cell_type": "code",
   "execution_count": null,
   "id": "a72cc499",
   "metadata": {},
   "outputs": [],
   "source": [
    "#We can avoid this by using Dictionary comprehension. \n",
    "print(lst1)\n",
    "print(val_dict2)"
   ]
  },
  {
   "cell_type": "code",
   "execution_count": 5,
   "id": "1b1e9b64",
   "metadata": {},
   "outputs": [
    {
     "name": "stdout",
     "output_type": "stream",
     "text": [
      "[20, 21, 22, 23, 24, 25, 26, 27, 28, 29]\n",
      "[10, 11, 12, 13, 14, 15, 16, 17, 18, 19]\n"
     ]
    }
   ],
   "source": [
    "lst1 = list(range(20,30))\n",
    "lst2 = list(range(10,20))\n",
    "\n",
    "print(lst1)\n",
    "print(lst2)"
   ]
  },
  {
   "cell_type": "code",
   "execution_count": null,
   "id": "17ec2eb0",
   "metadata": {},
   "outputs": [],
   "source": [
    "lstalpha = list('abcde')\n",
    "\n",
    "print(lstalpha)"
   ]
  },
  {
   "cell_type": "code",
   "execution_count": 1,
   "id": "edbeafdc",
   "metadata": {},
   "outputs": [
    {
     "name": "stdout",
     "output_type": "stream",
     "text": [
      "['a', 'b', 'c', 'd', 'e']\n"
     ]
    }
   ],
   "source": [
    "lstalpha = list('abcde')\n",
    "\n",
    "print(lstalpha)"
   ]
  },
  {
   "cell_type": "code",
   "execution_count": 2,
   "id": "ca992302",
   "metadata": {},
   "outputs": [
    {
     "name": "stdout",
     "output_type": "stream",
     "text": [
      "['aaa', 'bbb', 'ccc', 'ddd', 'eee']\n"
     ]
    }
   ],
   "source": [
    "lst3alpha = [x*3 for x in lstalpha]\n",
    "\n",
    "print(lst3alpha)"
   ]
  },
  {
   "cell_type": "code",
   "execution_count": null,
   "id": "6ad45dbe",
   "metadata": {},
   "outputs": [],
   "source": [
    "# list comprehension - if/else\n",
    "\n",
    "#1. Elif is not permitted in list comprehension\n",
    "#2. If / else can be used only once - if there is multiple it will be considered nested. \n",
    "#3. If only if condition is there then it after the for loop and if both if/else are there then BEFORE the for loop. \n",
    "\n",
    "\n",
    "# Same rules for dictionary comprehension - ONLY differences:\n",
    "\n",
    "#1. Instead of square brackets - curly braces. \n",
    "#2. We need key value pair to be provided (seperated by colon) instead of just one value."
   ]
  },
  {
   "cell_type": "code",
   "execution_count": 3,
   "id": "6569bf7b",
   "metadata": {},
   "outputs": [
    {
     "name": "stdout",
     "output_type": "stream",
     "text": [
      "{'a': 'aa', 'b': 'bb', 'c': 'cc', 'd': 'dd', 'e': 'ee'}\n"
     ]
    }
   ],
   "source": [
    "dictnew = {x:x*2 for x in lstalpha}\n",
    "\n",
    "print(dictnew)"
   ]
  },
  {
   "cell_type": "code",
   "execution_count": 6,
   "id": "82646aff",
   "metadata": {},
   "outputs": [
    {
     "name": "stdout",
     "output_type": "stream",
     "text": [
      "[20, 21, 22, 23, 24, 25, 26, 27, 28, 29]\n",
      "[10, 11, 12, 13, 14, 15, 16, 17, 18, 19]\n"
     ]
    }
   ],
   "source": [
    "print(lst1)\n",
    "print(lst2)"
   ]
  },
  {
   "cell_type": "code",
   "execution_count": 9,
   "id": "7ce27e39",
   "metadata": {},
   "outputs": [
    {
     "name": "stdout",
     "output_type": "stream",
     "text": [
      "{120: 10, 21: 211, 122: 12, 23: 213, 124: 14, 25: 215, 126: 16, 27: 217, 128: 18, 29: 219}\n"
     ]
    }
   ],
   "source": [
    "dictnew = {lst1[x]+100 if lst1[x]%2 == 0 else lst1[x]:lst2[x] if x % 2 == 0 else lst2[x]+200 for x in range(len(lst1))}\n",
    "\n",
    "print(dictnew)"
   ]
  },
  {
   "cell_type": "code",
   "execution_count": null,
   "id": "e4b56ef5",
   "metadata": {},
   "outputs": [],
   "source": [
    "#If else statements with dictionaries/lists\n",
    "\n",
    "#1. Only if condition then after for loop. If both if / else before for loop\n",
    "#2. No elifs\n",
    "#3. Multiple if elses will be treated as nested if else. \n"
   ]
  },
  {
   "cell_type": "code",
   "execution_count": null,
   "id": "f6873802",
   "metadata": {},
   "outputs": [],
   "source": [
    "dictnew1 = {}\n",
    "\n",
    "for x in range(10):\n",
    "    dictnew1[lst1[x]] = lst2[x]\n",
    "    \n",
    "print(dictnew1)"
   ]
  },
  {
   "cell_type": "code",
   "execution_count": null,
   "id": "ce024c4b",
   "metadata": {},
   "outputs": [],
   "source": [
    "val_dict2 = [1,2,3,4]\n",
    "dict6 = {x:list(val_dict2) for x in 'abcde'}\n",
    "\n",
    "print(dict6)\n"
   ]
  },
  {
   "cell_type": "code",
   "execution_count": null,
   "id": "65c0adad",
   "metadata": {},
   "outputs": [],
   "source": [
    "val_dict2.append(5)\n",
    "print(dict6)\n",
    "print(val_dict2)"
   ]
  },
  {
   "cell_type": "code",
   "execution_count": null,
   "id": "c840f4f7",
   "metadata": {},
   "outputs": [],
   "source": [
    "x = list(range(5))\n",
    "print(x)"
   ]
  },
  {
   "cell_type": "code",
   "execution_count": null,
   "id": "74cad3af",
   "metadata": {},
   "outputs": [],
   "source": [
    "y = [i+10 for i in x]\n",
    "\n",
    "print(y)"
   ]
  },
  {
   "cell_type": "code",
   "execution_count": null,
   "id": "aca3a53d",
   "metadata": {},
   "outputs": [],
   "source": [
    "# Zip inbuilt python function"
   ]
  },
  {
   "cell_type": "code",
   "execution_count": null,
   "id": "7f1bf40c",
   "metadata": {},
   "outputs": [],
   "source": [
    "zipd1 = zip(x,y)\n",
    "\n",
    "print(zipd1)\n",
    "print(type(zipd1))"
   ]
  },
  {
   "cell_type": "code",
   "execution_count": null,
   "id": "c8a34727",
   "metadata": {},
   "outputs": [],
   "source": [
    "for x in zipd1:\n",
    "    print(x)"
   ]
  },
  {
   "cell_type": "code",
   "execution_count": null,
   "id": "86cebd27",
   "metadata": {},
   "outputs": [],
   "source": [
    "zipd1list = list(zipd1)\n",
    "\n",
    "print(zipd1list)"
   ]
  },
  {
   "cell_type": "code",
   "execution_count": null,
   "id": "2f3c06a3",
   "metadata": {},
   "outputs": [],
   "source": [
    "for z in zipd1list:\n",
    "    print(z)"
   ]
  },
  {
   "cell_type": "code",
   "execution_count": null,
   "id": "834cd5e5",
   "metadata": {},
   "outputs": [],
   "source": [
    "((1,2), (2,3), (3,4))"
   ]
  },
  {
   "cell_type": "code",
   "execution_count": null,
   "id": "ca078136",
   "metadata": {},
   "outputs": [],
   "source": [
    "dict1 = dict(zip(x,y))\n",
    "\n",
    "print(dict1)"
   ]
  },
  {
   "cell_type": "code",
   "execution_count": null,
   "id": "b9477412",
   "metadata": {},
   "outputs": [],
   "source": [
    "names = list('abcde')\n",
    "\n",
    "prices = list(range(100,150,10))\n",
    "\n",
    "print(names)\n",
    "print(prices)\n",
    "\n",
    "\n",
    "dictprices = dict(zip(names,prices))\n",
    "\n",
    "print(dictprices)"
   ]
  },
  {
   "cell_type": "code",
   "execution_count": null,
   "id": "31ddfe6b",
   "metadata": {},
   "outputs": [],
   "source": [
    "dict1 = dict([('a',100),('b',200)])\n",
    "\n",
    "print(dict1)"
   ]
  },
  {
   "cell_type": "code",
   "execution_count": null,
   "id": "15dabd04",
   "metadata": {},
   "outputs": [],
   "source": [
    "dict1 = dict([(0,1), (11,2), (2,3)])\n",
    "\n",
    "print(dict1)"
   ]
  },
  {
   "cell_type": "code",
   "execution_count": null,
   "id": "82979032",
   "metadata": {},
   "outputs": [],
   "source": [
    "x = list('abcde')\n",
    "y = list(range(10))\n",
    "\n",
    "print(x)\n",
    "print(y)"
   ]
  },
  {
   "cell_type": "code",
   "execution_count": null,
   "id": "4e6d7c09",
   "metadata": {},
   "outputs": [],
   "source": [
    "lst1 = [x for x in range(10)]\n",
    "lst2 = [x*2 for x in lst1]\n",
    "lst3 = [x+5 for x in lst1]\n",
    "lst4 = [x-5 for x in lst1]\n",
    "lst5 = [x/2 for x in lst1]\n",
    "\n",
    "\n",
    "\n",
    "print(lst1, lst2, lst3, lst4, lst5, sep = '\\n')"
   ]
  },
  {
   "cell_type": "code",
   "execution_count": null,
   "id": "6d65bc25",
   "metadata": {},
   "outputs": [],
   "source": [
    "ziplists = list(zip(lst1, lst2, lst3, lst4, lst5))\n",
    "\n",
    "print(ziplists)"
   ]
  },
  {
   "cell_type": "code",
   "execution_count": null,
   "id": "f63e4d95",
   "metadata": {},
   "outputs": [],
   "source": []
  },
  {
   "cell_type": "code",
   "execution_count": null,
   "id": "aba810b1",
   "metadata": {},
   "outputs": [],
   "source": [
    "zipxy = list(zip(x,y))\n",
    "\n",
    "print(zipxy)"
   ]
  },
  {
   "cell_type": "code",
   "execution_count": null,
   "id": "b94b122c",
   "metadata": {},
   "outputs": [],
   "source": [
    "zipd = dict(zip(x,y))\n",
    "print(zipd)\n"
   ]
  },
  {
   "cell_type": "code",
   "execution_count": null,
   "id": "964cf59a",
   "metadata": {},
   "outputs": [],
   "source": [
    "lstalpha = list('abcde')\n",
    "lstnum = list(range(10))\n",
    "\n",
    "print(lstalpha)\n",
    "print(lstnum)"
   ]
  },
  {
   "cell_type": "code",
   "execution_count": null,
   "id": "4f05e47a",
   "metadata": {},
   "outputs": [],
   "source": [
    "lstan = list(zip(lstalpha, lstnum))\n",
    "\n",
    "print(lstan)"
   ]
  },
  {
   "cell_type": "code",
   "execution_count": null,
   "id": "2087155c",
   "metadata": {},
   "outputs": [],
   "source": [
    "from itertools import zip_longest\n",
    "\n",
    "ziplong = list(zip_longest(lstalpha, lstnum))\n",
    "\n",
    "print(ziplong)"
   ]
  },
  {
   "cell_type": "code",
   "execution_count": null,
   "id": "0b86eb1a",
   "metadata": {},
   "outputs": [],
   "source": [
    "dict1 = {'a':100, 'b':200, 'a':101}\n",
    "\n",
    "print(dict1)"
   ]
  },
  {
   "cell_type": "code",
   "execution_count": null,
   "id": "a4c731dd",
   "metadata": {},
   "outputs": [],
   "source": []
  },
  {
   "cell_type": "code",
   "execution_count": null,
   "id": "1869d7e4",
   "metadata": {},
   "outputs": [],
   "source": [
    "dictlong = dict(ziplong)\n",
    "\n",
    "print(dictlong)"
   ]
  },
  {
   "cell_type": "code",
   "execution_count": null,
   "id": "5a12ea29",
   "metadata": {},
   "outputs": [],
   "source": [
    "zipditer = zip(x,y)"
   ]
  },
  {
   "cell_type": "code",
   "execution_count": null,
   "id": "91141297",
   "metadata": {},
   "outputs": [],
   "source": [
    "for i in zipditer:\n",
    "    print(i)"
   ]
  },
  {
   "cell_type": "code",
   "execution_count": null,
   "id": "63dbd1bd",
   "metadata": {},
   "outputs": [],
   "source": [
    "lst1 = list(range(5))\n",
    "lst2 = list(range(10,81,10))\n",
    "\n",
    "print(lst1)\n",
    "print(lst2)"
   ]
  },
  {
   "cell_type": "code",
   "execution_count": null,
   "id": "303659fc",
   "metadata": {},
   "outputs": [],
   "source": [
    "zipd2 = list(zip(lst1,lst2))\n",
    "\n",
    "print(zipd2)"
   ]
  },
  {
   "cell_type": "code",
   "execution_count": null,
   "id": "4ec246b2",
   "metadata": {},
   "outputs": [],
   "source": [
    "from itertools import zip_longest\n",
    "\n",
    "zipd3 = list(zip_longest(lst1,lst2))\n",
    "\n",
    "print(zipd3)"
   ]
  },
  {
   "cell_type": "code",
   "execution_count": null,
   "id": "3ef0533f",
   "metadata": {},
   "outputs": [],
   "source": [
    "dict2 = {'a':100, 'b':200, 'a':300}"
   ]
  },
  {
   "cell_type": "code",
   "execution_count": null,
   "id": "a62e2ebc",
   "metadata": {},
   "outputs": [],
   "source": [
    "dict1 = dict(zipd3)\n",
    "\n",
    "print(dict1)"
   ]
  },
  {
   "cell_type": "code",
   "execution_count": null,
   "id": "b36698d4",
   "metadata": {},
   "outputs": [],
   "source": [
    "print(dict1[None])"
   ]
  },
  {
   "cell_type": "code",
   "execution_count": null,
   "id": "13c89848",
   "metadata": {},
   "outputs": [],
   "source": [
    "print(zipd2)"
   ]
  },
  {
   "cell_type": "code",
   "execution_count": null,
   "id": "6824426b",
   "metadata": {},
   "outputs": [],
   "source": [
    "new_dict = {x+2:y*5 for x, y in zipd2 }\n",
    "\n",
    "print(new_dict)"
   ]
  },
  {
   "cell_type": "code",
   "execution_count": null,
   "id": "e5123d20",
   "metadata": {},
   "outputs": [],
   "source": [
    "lst1 = list(range(5))\n",
    "lst2 = tuple([i + 1 for i in lst1])\n",
    "lst3 = 'abcde'\n",
    "lst4 = [i * 5 for i in lst1]\n",
    "lst5 = [i % 2 for i in lst1]\n",
    "lst6 = [i **2 for i in lst1]\n",
    "\n",
    "print(lst1)\n",
    "print(lst2)\n",
    "print(lst3)\n",
    "print(lst4)\n",
    "print(lst5)\n",
    "print(lst6)\n",
    "\n"
   ]
  },
  {
   "cell_type": "code",
   "execution_count": null,
   "id": "9d1b6af3",
   "metadata": {},
   "outputs": [],
   "source": [
    "zipdtogether = zip(lst1,lst2,lst3,lst4,lst5,lst6)\n",
    "\n",
    "zipd2getherlist = list(zipdtogether)\n",
    "\n",
    "print(zipd2getherlist)"
   ]
  },
  {
   "cell_type": "code",
   "execution_count": null,
   "id": "026221c8",
   "metadata": {},
   "outputs": [],
   "source": [
    "zipdtogether = zip('abcde',[0,1,2,3,4],(10,20,30,40,50))\n",
    "\n",
    "zipd2getherlist = list(zipdtogether)\n",
    "\n",
    "print(zipd2getherlist)"
   ]
  },
  {
   "cell_type": "code",
   "execution_count": null,
   "id": "6028d89e",
   "metadata": {},
   "outputs": [],
   "source": []
  },
  {
   "cell_type": "code",
   "execution_count": null,
   "id": "fd429013",
   "metadata": {},
   "outputs": [],
   "source": []
  },
  {
   "cell_type": "code",
   "execution_count": null,
   "id": "6b211aa0",
   "metadata": {},
   "outputs": [],
   "source": []
  },
  {
   "cell_type": "code",
   "execution_count": null,
   "id": "dff7f20b",
   "metadata": {},
   "outputs": [],
   "source": []
  },
  {
   "cell_type": "code",
   "execution_count": null,
   "id": "bb258c29",
   "metadata": {},
   "outputs": [],
   "source": []
  },
  {
   "cell_type": "code",
   "execution_count": null,
   "id": "2dd17816",
   "metadata": {},
   "outputs": [],
   "source": []
  },
  {
   "cell_type": "code",
   "execution_count": null,
   "id": "3e5c4b77",
   "metadata": {},
   "outputs": [],
   "source": [
    "dict6['a'].append(600)"
   ]
  },
  {
   "cell_type": "code",
   "execution_count": null,
   "id": "29e372b1",
   "metadata": {},
   "outputs": [],
   "source": [
    "print(dict6['a'])"
   ]
  },
  {
   "cell_type": "code",
   "execution_count": null,
   "id": "64175f3c",
   "metadata": {},
   "outputs": [],
   "source": [
    "print(dict6)"
   ]
  },
  {
   "cell_type": "code",
   "execution_count": null,
   "id": "08dd5c22",
   "metadata": {},
   "outputs": [],
   "source": [
    "dict6.append(77)"
   ]
  },
  {
   "cell_type": "code",
   "execution_count": null,
   "id": "13ee14f6",
   "metadata": {},
   "outputs": [],
   "source": [
    "print(dict6)"
   ]
  },
  {
   "cell_type": "code",
   "execution_count": null,
   "id": "d879d556",
   "metadata": {},
   "outputs": [],
   "source": [
    "val_dict2.append(6)\n",
    "\n",
    "print(dict6)"
   ]
  },
  {
   "cell_type": "code",
   "execution_count": null,
   "id": "56011c97",
   "metadata": {},
   "outputs": [],
   "source": [
    "dict1 = {'a':100, 'b':200, 'c':300}"
   ]
  },
  {
   "cell_type": "code",
   "execution_count": null,
   "id": "8de46f5c",
   "metadata": {},
   "outputs": [],
   "source": [
    "KObj = dict1.keys()\n",
    "VObj = dict1.values()\n",
    "IObj = dict1.items()\n",
    "\n",
    "\n",
    "print(KObj, VObj, IObj, sep = '\\n')"
   ]
  },
  {
   "cell_type": "code",
   "execution_count": null,
   "id": "0b746ef6",
   "metadata": {},
   "outputs": [],
   "source": [
    "print(type(KObj))\n",
    "print(type(VObj))\n",
    "print(type(IObj))\n"
   ]
  },
  {
   "cell_type": "code",
   "execution_count": null,
   "id": "60fc0cdb",
   "metadata": {},
   "outputs": [],
   "source": [
    "KList = list(dict1.keys())\n",
    "VList = list(dict1.values())\n",
    "IList = list(dict1.items())\n",
    "\n",
    "print(KList, VList, IList, sep = '\\n')"
   ]
  },
  {
   "cell_type": "code",
   "execution_count": null,
   "id": "bbc1b56c",
   "metadata": {},
   "outputs": [],
   "source": [
    "print(dict1)"
   ]
  },
  {
   "cell_type": "code",
   "execution_count": null,
   "id": "5c5330a8",
   "metadata": {},
   "outputs": [],
   "source": [
    "dict1['d'] = 400\n",
    "\n",
    "print(dict1)"
   ]
  },
  {
   "cell_type": "code",
   "execution_count": null,
   "id": "36b7d3f8",
   "metadata": {},
   "outputs": [],
   "source": [
    "dict1['b'] = 2001"
   ]
  },
  {
   "cell_type": "code",
   "execution_count": null,
   "id": "b3d15c1a",
   "metadata": {},
   "outputs": [],
   "source": [
    "print(KObj, VObj, IObj, sep = '\\n')"
   ]
  },
  {
   "cell_type": "code",
   "execution_count": null,
   "id": "f3356618",
   "metadata": {},
   "outputs": [],
   "source": [
    "print(id(dict1))\n",
    "print(id(KObj), id(VObj), id(IObj), sep = '-->')\n"
   ]
  },
  {
   "cell_type": "code",
   "execution_count": null,
   "id": "fcd0180d",
   "metadata": {},
   "outputs": [],
   "source": [
    "print(KList, VList, IList, sep = '\\n')"
   ]
  },
  {
   "cell_type": "code",
   "execution_count": null,
   "id": "2a78422e",
   "metadata": {},
   "outputs": [],
   "source": [
    "print(KObj[0])"
   ]
  },
  {
   "cell_type": "code",
   "execution_count": null,
   "id": "c3ce310f",
   "metadata": {},
   "outputs": [],
   "source": [
    "print(KList[0])"
   ]
  },
  {
   "cell_type": "code",
   "execution_count": null,
   "id": "63a3d9c6",
   "metadata": {},
   "outputs": [],
   "source": []
  },
  {
   "cell_type": "code",
   "execution_count": null,
   "id": "e6815480",
   "metadata": {},
   "outputs": [],
   "source": []
  },
  {
   "cell_type": "code",
   "execution_count": null,
   "id": "bfe99264",
   "metadata": {},
   "outputs": [],
   "source": [
    "#Here a new list object is created and assigned as the value for each key. More on Dictionary Comprehension below. "
   ]
  },
  {
   "cell_type": "code",
   "execution_count": null,
   "id": "ca84a625",
   "metadata": {},
   "outputs": [],
   "source": []
  },
  {
   "cell_type": "code",
   "execution_count": null,
   "id": "f8d25cbe",
   "metadata": {},
   "outputs": [],
   "source": []
  },
  {
   "cell_type": "code",
   "execution_count": null,
   "id": "24437a9d",
   "metadata": {},
   "outputs": [],
   "source": [
    "#To get the values of a key in dictionary we use the following syntax. \n",
    "\n",
    "dict5 = {'y' : 'abc', 21:200, 'abc':75, 2 + 3j : 75, 10.2 : 75}\n",
    "\n",
    "print(dict5)"
   ]
  },
  {
   "cell_type": "code",
   "execution_count": null,
   "id": "5e07d2ff",
   "metadata": {},
   "outputs": [],
   "source": [
    "print(dict5['y'])"
   ]
  },
  {
   "cell_type": "code",
   "execution_count": null,
   "id": "c6a69399",
   "metadata": {},
   "outputs": [],
   "source": [
    "#If the key is not found, it raises a key error.\n",
    "\n",
    "print(dict5['x'])"
   ]
  },
  {
   "cell_type": "code",
   "execution_count": null,
   "id": "20eff268",
   "metadata": {},
   "outputs": [],
   "source": [
    "print(dict5)"
   ]
  },
  {
   "cell_type": "code",
   "execution_count": null,
   "id": "a0dafec7",
   "metadata": {},
   "outputs": [],
   "source": [
    "#We can also assign the values to a key in one lline. \n",
    "\n",
    "dict5['y'] = 'xyz'\n",
    "\n",
    "print(dict5)"
   ]
  },
  {
   "cell_type": "code",
   "execution_count": null,
   "id": "c7a87b76",
   "metadata": {},
   "outputs": [],
   "source": [
    "#However, if the key is not found during value assignment, then a new key value pair will be created\n",
    "\n",
    "print(dict5)\n",
    "\n",
    "dict5['x'] = 1230\n",
    "\n",
    "print(dict5)"
   ]
  },
  {
   "cell_type": "code",
   "execution_count": null,
   "id": "52af9da5",
   "metadata": {},
   "outputs": [],
   "source": []
  },
  {
   "cell_type": "code",
   "execution_count": null,
   "id": "6c68d11d",
   "metadata": {},
   "outputs": [],
   "source": [
    "#Coming back to changing the key in a round about way - \n",
    "\n",
    "dict1 = {'x' : 'abc', 21:200, 'abc':75, 2 + 3j : 75, 10.2 : 75}\n",
    "\n",
    "ida = id(dict1)\n",
    "\n",
    "dict1['y'] = dict1['x']\n",
    "\n",
    "print(dict1)"
   ]
  },
  {
   "cell_type": "code",
   "execution_count": null,
   "id": "347c240d",
   "metadata": {},
   "outputs": [],
   "source": [
    "del(dict1['x'])"
   ]
  },
  {
   "cell_type": "code",
   "execution_count": null,
   "id": "a4bb4177",
   "metadata": {},
   "outputs": [],
   "source": [
    "print(dict1)"
   ]
  },
  {
   "cell_type": "code",
   "execution_count": null,
   "id": "499133d5",
   "metadata": {},
   "outputs": [],
   "source": [
    "idaa = id(dict1)\n",
    "#Above we assigned the value of 'x' to a new key 'y' (values can be duplicated but not keys). Then we went ahead and deleted\n",
    "# the old key to be changed. "
   ]
  },
  {
   "cell_type": "code",
   "execution_count": null,
   "id": "62f41f19",
   "metadata": {},
   "outputs": [],
   "source": [
    "print(ida, idaa)"
   ]
  },
  {
   "cell_type": "code",
   "execution_count": 10,
   "id": "706d7a75",
   "metadata": {},
   "outputs": [
    {
     "name": "stdout",
     "output_type": "stream",
     "text": [
      "{0: 'a', 1: 'b', 2: 'c', 3: 'd', 4: 'e', 5: 'f', 6: 'g', 7: 'h', 8: 'i', 9: 'j'}\n"
     ]
    }
   ],
   "source": [
    "dict1 = dict(enumerate(list('abcdefghij')))\n",
    "\n",
    "print(dict1)"
   ]
  },
  {
   "cell_type": "code",
   "execution_count": 11,
   "id": "d2d7da9e",
   "metadata": {},
   "outputs": [
    {
     "name": "stdout",
     "output_type": "stream",
     "text": [
      "9\n",
      "j\n"
     ]
    }
   ],
   "source": [
    "print(max(dict1.keys()))\n",
    "print(max(dict1.values()))"
   ]
  },
  {
   "cell_type": "code",
   "execution_count": null,
   "id": "57688c3c",
   "metadata": {},
   "outputs": [],
   "source": [
    "#Note how the id of the object did not change.\n",
    "\n",
    "#Therefore, Dictionaries are mutable, values can be mutable but keys of a dictionary are IMMUTABLE. "
   ]
  },
  {
   "cell_type": "code",
   "execution_count": 14,
   "id": "fbc95680",
   "metadata": {},
   "outputs": [
    {
     "name": "stdout",
     "output_type": "stream",
     "text": [
      "{'A': 100, 'b': 20, 30: 'b', 'x': {'x': 100, 'y': 101}}\n",
      "<class 'dict'>\n"
     ]
    }
   ],
   "source": [
    "#Note also though that even though keys of a dictionary may not be duplicated, there is no conflict created in case the \n",
    "# key of a dictionary is used in the values. \n",
    "\n",
    "dict1 = {'A':100, 'b':20, 30:'b', 'x' : {'x' : 100, 'y': 101}}\n",
    "\n",
    "print(dict1)\n",
    "print(type(dict1))"
   ]
  },
  {
   "cell_type": "code",
   "execution_count": 17,
   "id": "071bc796",
   "metadata": {},
   "outputs": [
    {
     "name": "stdout",
     "output_type": "stream",
     "text": [
      "100\n"
     ]
    }
   ],
   "source": [
    "print(dict1['x']['x'])"
   ]
  },
  {
   "cell_type": "code",
   "execution_count": null,
   "id": "8d24716a",
   "metadata": {},
   "outputs": [],
   "source": [
    "dict2 = {'x':'x', 'y':'z', 'z':'y'}\n",
    "print(dict2)"
   ]
  },
  {
   "cell_type": "code",
   "execution_count": null,
   "id": "96b198f7",
   "metadata": {},
   "outputs": [],
   "source": [
    "print(dict2)"
   ]
  },
  {
   "cell_type": "code",
   "execution_count": null,
   "id": "d6360e1d",
   "metadata": {},
   "outputs": [],
   "source": [
    "#Slicing and indexing (integers) in Dictionaries is not supported\n",
    "\n",
    "print(dict2[1])"
   ]
  },
  {
   "cell_type": "code",
   "execution_count": null,
   "id": "5ad3c55f",
   "metadata": {},
   "outputs": [],
   "source": [
    "dict2 = dict1[:4]\n",
    "\n",
    "print(dict2)"
   ]
  },
  {
   "cell_type": "code",
   "execution_count": null,
   "id": "efb628ae",
   "metadata": {},
   "outputs": [],
   "source": [
    "#We access the values of a key in a dictionary using the following syntax\n",
    "\n",
    "dict1 = {'A':100, 'b':20, 30:['a', 'b', 'c', 'd'], 'x' : {'x' : 100, 'y': 101}}\n",
    "\n",
    "print(dict1['b'])"
   ]
  },
  {
   "cell_type": "code",
   "execution_count": null,
   "id": "0b605816",
   "metadata": {},
   "outputs": [],
   "source": [
    "print(dict1[30])"
   ]
  },
  {
   "cell_type": "code",
   "execution_count": null,
   "id": "3250a0f1",
   "metadata": {},
   "outputs": [],
   "source": [
    "x = dict1[30]\n",
    "print(x)"
   ]
  },
  {
   "cell_type": "code",
   "execution_count": 18,
   "id": "37609d35",
   "metadata": {},
   "outputs": [
    {
     "name": "stdout",
     "output_type": "stream",
     "text": [
      "{'A': 100, 'b': 20, 30: 'b', 'x': {'x': 100, 'y': 101}}\n"
     ]
    }
   ],
   "source": [
    "#Please remember that here we are only accessing the values of the keys 'b' and 30\n",
    "\n",
    "#The .get() dictionary method does the same thing. \n",
    "print(dict1)"
   ]
  },
  {
   "cell_type": "code",
   "execution_count": 20,
   "id": "59c287a6",
   "metadata": {},
   "outputs": [
    {
     "ename": "KeyError",
     "evalue": "300",
     "output_type": "error",
     "traceback": [
      "\u001b[1;31m---------------------------------------------------------------------------\u001b[0m",
      "\u001b[1;31mKeyError\u001b[0m                                  Traceback (most recent call last)",
      "\u001b[1;32m~\\AppData\\Local\\Temp\\ipykernel_7200\\524454418.py\u001b[0m in \u001b[0;36m<module>\u001b[1;34m\u001b[0m\n\u001b[1;32m----> 1\u001b[1;33m \u001b[0mprint\u001b[0m\u001b[1;33m(\u001b[0m\u001b[0mdict1\u001b[0m\u001b[1;33m[\u001b[0m\u001b[1;36m300\u001b[0m\u001b[1;33m]\u001b[0m\u001b[1;33m)\u001b[0m\u001b[1;33m\u001b[0m\u001b[1;33m\u001b[0m\u001b[0m\n\u001b[0m",
      "\u001b[1;31mKeyError\u001b[0m: 300"
     ]
    }
   ],
   "source": [
    "print(dict1[300])"
   ]
  },
  {
   "cell_type": "code",
   "execution_count": 25,
   "id": "ec5f8c74",
   "metadata": {},
   "outputs": [],
   "source": [
    "def new_funct():\n",
    "    x = 100**2 / 32 + 71 \n",
    "    return x"
   ]
  },
  {
   "cell_type": "code",
   "execution_count": 29,
   "id": "8328aaff",
   "metadata": {},
   "outputs": [
    {
     "ename": "NameError",
     "evalue": "name 'code' is not defined",
     "output_type": "error",
     "traceback": [
      "\u001b[1;31m---------------------------------------------------------------------------\u001b[0m",
      "\u001b[1;31mNameError\u001b[0m                                 Traceback (most recent call last)",
      "\u001b[1;32m~\\AppData\\Local\\Temp\\ipykernel_7200\\560545633.py\u001b[0m in \u001b[0;36m<module>\u001b[1;34m\u001b[0m\n\u001b[1;32m----> 1\u001b[1;33m \u001b[1;33m-\u001b[0m\u001b[1;33m-\u001b[0m\u001b[1;33m-\u001b[0m\u001b[1;33m-\u001b[0m\u001b[0mcode\u001b[0m\u001b[1;33m\u001b[0m\u001b[1;33m\u001b[0m\u001b[0m\n\u001b[0m\u001b[0;32m      2\u001b[0m \u001b[1;33m\u001b[0m\u001b[0m\n\u001b[0;32m      3\u001b[0m \u001b[1;33m\u001b[0m\u001b[0m\n\u001b[0;32m      4\u001b[0m \u001b[1;33m-\u001b[0m\u001b[0mcode\u001b[0m\u001b[1;33m\u001b[0m\u001b[1;33m\u001b[0m\u001b[0m\n\u001b[0;32m      5\u001b[0m \u001b[1;33m\u001b[0m\u001b[0m\n",
      "\u001b[1;31mNameError\u001b[0m: name 'code' is not defined"
     ]
    }
   ],
   "source": [
    "# ----code\n",
    "\n",
    "\n",
    "# -code\n",
    "\n",
    "\n",
    "# dict1.get(300, callfunction())\n"
   ]
  },
  {
   "cell_type": "code",
   "execution_count": 30,
   "id": "62dc2b44",
   "metadata": {},
   "outputs": [
    {
     "name": "stdout",
     "output_type": "stream",
     "text": [
      "100\n"
     ]
    }
   ],
   "source": [
    "print(dict1.get(300, 100))"
   ]
  },
  {
   "cell_type": "code",
   "execution_count": null,
   "id": "90df5fc7",
   "metadata": {},
   "outputs": [],
   "source": []
  },
  {
   "cell_type": "code",
   "execution_count": null,
   "id": "a1cae9b0",
   "metadata": {},
   "outputs": [],
   "source": [
    "x = 'z', 100\n",
    "\n",
    "print(type(x))"
   ]
  },
  {
   "cell_type": "code",
   "execution_count": null,
   "id": "32ef74d1",
   "metadata": {},
   "outputs": [],
   "source": [
    "del(dict1['z', 100])\n",
    "\n",
    "print(dict1)"
   ]
  },
  {
   "cell_type": "code",
   "execution_count": null,
   "id": "ae1109d1",
   "metadata": {},
   "outputs": [],
   "source": [
    "print(dict1['z',100])"
   ]
  },
  {
   "cell_type": "code",
   "execution_count": null,
   "id": "55fa0970",
   "metadata": {},
   "outputs": [],
   "source": [
    "# ---- code\n",
    "\n",
    "# ---- code"
   ]
  },
  {
   "cell_type": "code",
   "execution_count": null,
   "id": "261d00f3",
   "metadata": {},
   "outputs": [],
   "source": [
    "print(dict1)"
   ]
  },
  {
   "cell_type": "code",
   "execution_count": null,
   "id": "781778f8",
   "metadata": {},
   "outputs": [],
   "source": [
    "lstdictkeys = list(dict1.keys())\n",
    "\n",
    "print(lstdictkeys)"
   ]
  },
  {
   "cell_type": "code",
   "execution_count": null,
   "id": "3d725d60",
   "metadata": {},
   "outputs": [],
   "source": [
    "for x in range(len(dict1)):\n",
    "    dict1[lstdictkeys[x]] = x\n",
    "               \n",
    "print(dict1)"
   ]
  },
  {
   "cell_type": "code",
   "execution_count": null,
   "id": "01558496",
   "metadata": {},
   "outputs": [],
   "source": [
    "print(dict1[200])"
   ]
  },
  {
   "cell_type": "code",
   "execution_count": null,
   "id": "24f9680c",
   "metadata": {},
   "outputs": [],
   "source": [
    "print(dict1)"
   ]
  },
  {
   "cell_type": "code",
   "execution_count": null,
   "id": "ceea0e4b",
   "metadata": {},
   "outputs": [],
   "source": [
    "def funct():\n",
    "    return 'Call function'"
   ]
  },
  {
   "cell_type": "code",
   "execution_count": null,
   "id": "d6b2dd65",
   "metadata": {},
   "outputs": [],
   "source": [
    "print(dict1.get('z', funct()))"
   ]
  },
  {
   "cell_type": "code",
   "execution_count": null,
   "id": "8274a410",
   "metadata": {},
   "outputs": [],
   "source": [
    "print(dict1)"
   ]
  },
  {
   "cell_type": "code",
   "execution_count": null,
   "id": "9a2dc06a",
   "metadata": {},
   "outputs": [],
   "source": [
    "#However, if dict[key] does not find the key in the dictionary - it raises a key error\n",
    "\n",
    "x = dict1['Romeo']"
   ]
  },
  {
   "cell_type": "code",
   "execution_count": null,
   "id": "93982a90",
   "metadata": {},
   "outputs": [],
   "source": [
    "#while the get method returns none by default. \n",
    "\n",
    "print(dict1.get('Romeo'))"
   ]
  },
  {
   "cell_type": "code",
   "execution_count": null,
   "id": "91f0e201",
   "metadata": {},
   "outputs": [],
   "source": []
  },
  {
   "cell_type": "code",
   "execution_count": null,
   "id": "cf15b9b0",
   "metadata": {},
   "outputs": [],
   "source": [
    "#The default return can be changed i.e. the get method takes two parameters\n",
    "\n",
    "#1. The key for which we need to find the value - Mandatory\n",
    "#2. Return value if key is not found. Optional and if not provided defaults to None. \n",
    "\n",
    "\n",
    "print(dict1.get(200, 0))\n"
   ]
  },
  {
   "cell_type": "code",
   "execution_count": null,
   "id": "f689f59e",
   "metadata": {},
   "outputs": [],
   "source": [
    "#Both the square brackets syntax and the get method - can only take one key in as parameter at once. "
   ]
  },
  {
   "cell_type": "code",
   "execution_count": 48,
   "id": "c4ee1558",
   "metadata": {},
   "outputs": [
    {
     "name": "stdout",
     "output_type": "stream",
     "text": [
      "{'A': 100, 'b': 20, 'c': 30, 'd': 40}\n"
     ]
    }
   ],
   "source": [
    "#Values to keys can be assigned using the following syntax:\n",
    "\n",
    "dict1 = {'A':100, 'b':20, 'c':30, 'd' : 40}\n",
    "\n",
    "print(dict1)"
   ]
  },
  {
   "cell_type": "code",
   "execution_count": 40,
   "id": "b6e6b467",
   "metadata": {},
   "outputs": [
    {
     "name": "stdout",
     "output_type": "stream",
     "text": [
      "{'A': 100, 'b': 20.101, 'c': 100, 'd': 50}\n"
     ]
    }
   ],
   "source": [
    "dict1['b'],dict1['c'],dict1['d'] = 20.101,100,50\n",
    "\n",
    "print(dict1)"
   ]
  },
  {
   "cell_type": "code",
   "execution_count": null,
   "id": "e6688dd7",
   "metadata": {},
   "outputs": [],
   "source": [
    "dict1 = dict.fromkeys('abcde', 100)\n",
    "\n",
    "print(dict1)"
   ]
  },
  {
   "cell_type": "code",
   "execution_count": null,
   "id": "791ac923",
   "metadata": {},
   "outputs": [],
   "source": [
    "dict1['a'] = 1001\n",
    "dict1['b'] = 2001\n",
    "dict1['c'] = 3001\n",
    "\n",
    "print(dict1)"
   ]
  },
  {
   "cell_type": "code",
   "execution_count": 49,
   "id": "f3e67569",
   "metadata": {},
   "outputs": [
    {
     "name": "stdout",
     "output_type": "stream",
     "text": [
      "{'A': 1010, 'b': 2020, 'c': 30, 'd': 40, 'x': 2222}\n"
     ]
    }
   ],
   "source": [
    "#Or we can use the update method which can be another dictionary or other iterable in key, value pairs\n",
    "\n",
    "dict1.update([('A',1010), ('b',2020), ('x',2222)])\n",
    "\n",
    "print(dict1)"
   ]
  },
  {
   "cell_type": "code",
   "execution_count": 43,
   "id": "86dcad5f",
   "metadata": {},
   "outputs": [],
   "source": [
    "dictnew = {'a':1111, 'b':2222, 'x' : 4444, 'z':5555}"
   ]
  },
  {
   "cell_type": "code",
   "execution_count": null,
   "id": "e0e1c016",
   "metadata": {},
   "outputs": [],
   "source": [
    "dictmemid = {memidkey1:memidvalue1, memidkey2:memidvalue2}\n",
    "\n",
    "update memidkey1,memidvalue100, memidkey3, memidvalue3\n",
    "\n",
    "\n",
    "dictmemid = {memidkey:memidvalue100, memidkey2:memidvalue2, memidkey3:memidvalue3}"
   ]
  },
  {
   "cell_type": "code",
   "execution_count": 47,
   "id": "bcbf6da6",
   "metadata": {},
   "outputs": [
    {
     "name": "stdout",
     "output_type": "stream",
     "text": [
      "{'a': 1111, 'b': 2222, 'x': 4444, 'z': 5555}\n"
     ]
    }
   ],
   "source": [
    "dictindict = dict(dictnew)\n",
    "\n",
    "print(dictindict)"
   ]
  },
  {
   "cell_type": "code",
   "execution_count": 1,
   "id": "4454b87e",
   "metadata": {},
   "outputs": [
    {
     "ename": "NameError",
     "evalue": "name 'dict1' is not defined",
     "output_type": "error",
     "traceback": [
      "\u001b[1;31m---------------------------------------------------------------------------\u001b[0m",
      "\u001b[1;31mNameError\u001b[0m                                 Traceback (most recent call last)",
      "\u001b[1;32m~\\AppData\\Local\\Temp\\ipykernel_19536\\333445588.py\u001b[0m in \u001b[0;36m<module>\u001b[1;34m\u001b[0m\n\u001b[1;32m----> 1\u001b[1;33m \u001b[0mdict1\u001b[0m\u001b[1;33m.\u001b[0m\u001b[0mupdate\u001b[0m\u001b[1;33m(\u001b[0m\u001b[0mdictnew\u001b[0m\u001b[1;33m)\u001b[0m\u001b[1;33m\u001b[0m\u001b[1;33m\u001b[0m\u001b[0m\n\u001b[0m",
      "\u001b[1;31mNameError\u001b[0m: name 'dict1' is not defined"
     ]
    }
   ],
   "source": [
    "dict1.update(dictnew)"
   ]
  },
  {
   "cell_type": "code",
   "execution_count": 46,
   "id": "4ca89905",
   "metadata": {},
   "outputs": [
    {
     "name": "stdout",
     "output_type": "stream",
     "text": [
      "{'A': 1010, 'b': 2222, 'c': 100, 'd': 50, 'x': 4444, 'a': 1111, 'z': 5555}\n"
     ]
    }
   ],
   "source": [
    "print(dict1)"
   ]
  },
  {
   "cell_type": "code",
   "execution_count": null,
   "id": "d7379849",
   "metadata": {},
   "outputs": [],
   "source": [
    "# inner iterable - key value pair\n",
    "# outer iterable - n number of inner iterables"
   ]
  },
  {
   "cell_type": "code",
   "execution_count": null,
   "id": "014cc14b",
   "metadata": {},
   "outputs": [],
   "source": [
    "# Dict funct \n",
    "\n",
    "1. Outer iterable with key, value pairs each inside another iterable."
   ]
  },
  {
   "cell_type": "code",
   "execution_count": null,
   "id": "f7114cb4",
   "metadata": {},
   "outputs": [],
   "source": [
    "dict3 = dict([('a',1001), ('b',2001), ('x',{1:1, 2:2}), ('z',3001), ('y' , 4001)])\n",
    "\n",
    "print(dict3)"
   ]
  },
  {
   "cell_type": "code",
   "execution_count": null,
   "id": "5033abaf",
   "metadata": {},
   "outputs": [],
   "source": [
    "dict2 = {}\n",
    "\n",
    "dict2.update([('a',1001), ('b',2001), ('x',{1:1, 2:2}), ('z',3001), ('y' , 4001)])\n",
    "\n",
    "print(dict2)"
   ]
  },
  {
   "cell_type": "code",
   "execution_count": null,
   "id": "820bb8a9",
   "metadata": {},
   "outputs": [],
   "source": [
    "dict1 = {'A':100, 'b':20, 30:['a', 'b', 'c', 'd'], 'x' : {'x' : 100, 'y': 101}}\n",
    "print(dict1)\n",
    "\n",
    "dict1.update([['z',2020], ['w',3030]])\n",
    "\n",
    "print(dict1)"
   ]
  },
  {
   "cell_type": "code",
   "execution_count": null,
   "id": "9b4c3d8e",
   "metadata": {},
   "outputs": [],
   "source": [
    "dict1.update([['z',2222], ['w',3333]])\n",
    "\n",
    "print(dict1)"
   ]
  },
  {
   "cell_type": "code",
   "execution_count": null,
   "id": "f814a8d4",
   "metadata": {},
   "outputs": [],
   "source": [
    "# Difference between update method and dict function:\n",
    "\n",
    "#1. dict function - starts with NO dictionary at all - initialises a dictionary. update method - the dictionary should already\n",
    "# be present so we can apply a method to it. \n",
    "\n",
    "\n",
    "#update method - \n",
    "#1. if key does not exist then creates key value pair. \n",
    "#2. If key already exists then just updates the value. \n"
   ]
  },
  {
   "cell_type": "code",
   "execution_count": null,
   "id": "b7aec3c0",
   "metadata": {},
   "outputs": [],
   "source": [
    "dict1 = {'A':100, 'b':20, 30:['a', 'b', 'c', 'd'], 'x' : {'x' : 100, 'y': 101}}\n",
    "print(dict1)\n",
    "\n",
    "dict1.update([('z',221), ('w',321)])\n",
    "\n",
    "print(dict1)\n",
    "\n",
    "#del dict1['z']\n",
    "\n",
    "#print(dict1)"
   ]
  },
  {
   "cell_type": "code",
   "execution_count": null,
   "id": "3308b910",
   "metadata": {},
   "outputs": [],
   "source": [
    "dict1 = {'A':100, 'b':20, 30:['a', 'b', 'c', 'd'], 'x' : {'x' : 100, 'y': 101}}\n",
    "print(dict1)\n"
   ]
  },
  {
   "cell_type": "code",
   "execution_count": null,
   "id": "4acd09b3",
   "metadata": {},
   "outputs": [],
   "source": [
    "dict1 = {'A':100, 'b':20, 30:['a', 'b', 'c', 'd'], 'x' : {'x' : 100, 'y': 101}}\n",
    "\n",
    "print(dict1)\n",
    "\n",
    "dict1.update((['z',201], ['w',301]))\n",
    "print(dict1)\n"
   ]
  },
  {
   "cell_type": "code",
   "execution_count": null,
   "id": "b8a9e306",
   "metadata": {},
   "outputs": [],
   "source": [
    "#Any combination of tuple and list (any other iterable as long as its a pair) can be given to the update method. As long as\n",
    "# the method is given ONE iterable - with the key value pairs as a dictionary or inside another tuple or list or iterable"
   ]
  },
  {
   "cell_type": "code",
   "execution_count": null,
   "id": "3644cf72",
   "metadata": {},
   "outputs": [],
   "source": [
    "print(dict1)"
   ]
  },
  {
   "cell_type": "code",
   "execution_count": null,
   "id": "48e3eff9",
   "metadata": {},
   "outputs": [],
   "source": [
    "#However, if the key already exists in the dictionary then the value of the key is only updated. \n",
    "\n",
    "dict1.update({'w':3001})\n",
    "\n",
    "print(dict1)"
   ]
  },
  {
   "cell_type": "code",
   "execution_count": 2,
   "id": "53f63054",
   "metadata": {},
   "outputs": [],
   "source": [
    "import copy"
   ]
  },
  {
   "cell_type": "code",
   "execution_count": 3,
   "id": "d5fa844e",
   "metadata": {},
   "outputs": [
    {
     "name": "stdout",
     "output_type": "stream",
     "text": [
      "1797714988736\n",
      "1797714988736\n",
      "1797714988992\n",
      "1797714989248\n"
     ]
    }
   ],
   "source": [
    "dict1 = {'a':100, 'b':[1,2,3],'x':'abc', 30:2+3j}\n",
    "\n",
    "dict2 = dict1\n",
    "dict3 = dict1.copy()\n",
    "dict4 = copy.deepcopy(dict1)\n",
    "\n",
    "print(id(dict1))\n",
    "print(id(dict2))\n",
    "print(id(dict3))\n",
    "print(id(dict4))\n"
   ]
  },
  {
   "cell_type": "code",
   "execution_count": 4,
   "id": "6cf0d7f0",
   "metadata": {},
   "outputs": [
    {
     "name": "stdout",
     "output_type": "stream",
     "text": [
      "{'a': 101, 'b': [1, 2, 3], 'x': 'abc', 30: (2+3j)}\n",
      "{'a': 101, 'b': [1, 2, 3], 'x': 'abc', 30: (2+3j)}\n",
      "{'a': 100, 'b': [1, 2, 3], 'x': 'abc', 30: (2+3j)}\n",
      "{'a': 100, 'b': [1, 2, 3], 'x': 'abc', 30: (2+3j)}\n"
     ]
    }
   ],
   "source": [
    "dict1['a'] = 101\n",
    "\n",
    "\n",
    "print(dict1)\n",
    "print(dict2)\n",
    "print(dict3)\n",
    "print(dict4)"
   ]
  },
  {
   "cell_type": "code",
   "execution_count": 5,
   "id": "70939b9f",
   "metadata": {},
   "outputs": [
    {
     "name": "stdout",
     "output_type": "stream",
     "text": [
      "{'a': 101, 'b': [11, 2, 3], 'x': 'abc', 30: (2+3j)}\n",
      "{'a': 101, 'b': [11, 2, 3], 'x': 'abc', 30: (2+3j)}\n",
      "{'a': 100, 'b': [11, 2, 3], 'x': 'abc', 30: (2+3j)}\n",
      "{'a': 100, 'b': [1, 2, 3], 'x': 'abc', 30: (2+3j)}\n"
     ]
    }
   ],
   "source": [
    "dict1['b'][0] = 11\n",
    "\n",
    "print(dict1)\n",
    "print(dict2)\n",
    "print(dict3)\n",
    "print(dict4)"
   ]
  },
  {
   "cell_type": "code",
   "execution_count": 17,
   "id": "c4123dde",
   "metadata": {},
   "outputs": [
    {
     "name": "stdout",
     "output_type": "stream",
     "text": [
      "{'a': 101, 'b': [11, 2, 3], 'x': 'abc', 30: (2+3j)}\n"
     ]
    }
   ],
   "source": [
    "#.setdefault() method in dictionaries. It returns the value of the key if they key is present and if not present adds the\n",
    "# key with value set as None and returns the default value None. We can also specify the default value parameter which is\n",
    "# optional.\n",
    "\n",
    "dict1 = {'a': 101, 'b': [11, 2, 3], 'x': 'abc', 30: (2+3j)}\n",
    "#.setdefault with key in dictionary and default value not provided. \n",
    "print(dict1)"
   ]
  },
  {
   "cell_type": "code",
   "execution_count": 18,
   "id": "a08296d9",
   "metadata": {},
   "outputs": [
    {
     "name": "stdout",
     "output_type": "stream",
     "text": [
      "Vishal\n"
     ]
    }
   ],
   "source": [
    "# the value of the key is printed\n",
    "\n",
    "print(dict1.setdefault('A', 'Vishal'))"
   ]
  },
  {
   "cell_type": "code",
   "execution_count": 19,
   "id": "fd545a12",
   "metadata": {},
   "outputs": [
    {
     "name": "stdout",
     "output_type": "stream",
     "text": [
      "{'a': 101, 'b': [11, 2, 3], 'x': 'abc', 30: (2+3j), 'A': 'Vishal'}\n"
     ]
    }
   ],
   "source": [
    "print(dict1)"
   ]
  },
  {
   "cell_type": "code",
   "execution_count": 10,
   "id": "6a8e3ee5",
   "metadata": {},
   "outputs": [
    {
     "name": "stdout",
     "output_type": "stream",
     "text": [
      "201\n"
     ]
    }
   ],
   "source": [
    "print(dict1.setdefault('X', 201))"
   ]
  },
  {
   "cell_type": "code",
   "execution_count": 11,
   "id": "9e646664",
   "metadata": {},
   "outputs": [
    {
     "name": "stdout",
     "output_type": "stream",
     "text": [
      "{'a': 101, 'b': [11, 2, 3], 'x': 'abc', 30: (2+3j), 'A': None, 'X': 201}\n"
     ]
    }
   ],
   "source": [
    "print(dict1)"
   ]
  },
  {
   "cell_type": "code",
   "execution_count": null,
   "id": "af8785dd",
   "metadata": {},
   "outputs": [],
   "source": [
    "#1 - Key is present, default(2nd parameter - optional) not provided. It will return value of the key which is present.\n",
    "#2 - Key is present, default(2nd parameter - optional) provided. It will return value of the key which is present. \n",
    "#3 - Key is not present, default(2nd param - optional) not provided. Will set key as provided, value as NONE and return NONE.\n",
    "#4 - Key is not present, default(2nd param - optional) provided - will set key as provided, value as default provided and\n",
    "# return the value that was set i.e. 2nd param."
   ]
  },
  {
   "cell_type": "code",
   "execution_count": null,
   "id": "477548e3",
   "metadata": {},
   "outputs": [],
   "source": [
    "# get method - key is present, optional parameter is provided\n",
    "\n",
    "print(dict1.get('A', 111))\n",
    "\n",
    "# the value of the key is printed\n",
    "\n",
    "print(dict1.setdefault('A', 111))"
   ]
  },
  {
   "cell_type": "code",
   "execution_count": null,
   "id": "b70419b2",
   "metadata": {},
   "outputs": [],
   "source": [
    "# get method - key is not present, optional parameter not provided\n",
    "\n",
    "print(dict1.get('y'))\n",
    "\n",
    "# None is the output\n",
    "\n",
    "# setdefault will add the key and value as none. \n",
    "\n",
    "print(dict1.setdefault('y'))\n",
    "\n",
    "\n",
    "print(dict1)"
   ]
  },
  {
   "cell_type": "code",
   "execution_count": null,
   "id": "fabf92a0",
   "metadata": {},
   "outputs": [],
   "source": [
    "# get method - key is not present, optional parameter provided\n",
    "\n",
    "print(dict1.get('p', 111))\n",
    "\n",
    "# prints the value of the optional parameter\n",
    "\n",
    "print(dict1)"
   ]
  },
  {
   "cell_type": "code",
   "execution_count": null,
   "id": "e04fee6e",
   "metadata": {},
   "outputs": [],
   "source": [
    "# setdefault - sets the key value pair and prints the value of the set key\n",
    "\n",
    "print(dict1.setdefault('p', 111))\n",
    "\n",
    "print(dict1)"
   ]
  },
  {
   "cell_type": "code",
   "execution_count": null,
   "id": "bdd5961c",
   "metadata": {},
   "outputs": [],
   "source": [
    "default = dict1.setdefault('a', 1000)\n",
    "\n",
    "print(default)\n",
    "print(dict1)"
   ]
  },
  {
   "cell_type": "code",
   "execution_count": null,
   "id": "a95da421",
   "metadata": {},
   "outputs": [],
   "source": [
    "default = dict1.setdefault('p', 2001)\n",
    "\n",
    "print(default)\n",
    "print(dict1)"
   ]
  },
  {
   "cell_type": "code",
   "execution_count": null,
   "id": "f99e7efe",
   "metadata": {},
   "outputs": [],
   "source": [
    "# Setdefault method\n",
    "\n",
    "1. Key is present and default value not provided. Returned the value of the key\n",
    "2. Key is present and default value provided. Returned the value of the key.\n",
    "3. Key is NOT present and default value is not provided. Returns None by default.\n",
    "4. Key is NOT present and default value is provided. Sets the key value pair and returns the set value of that key"
   ]
  },
  {
   "cell_type": "code",
   "execution_count": null,
   "id": "505bf44d",
   "metadata": {},
   "outputs": [],
   "source": [
    "#.setdefault if key is in dictionary and default value provided. \n",
    "\n",
    "default = dict1.setdefault('b', 2020)\n",
    "\n",
    "print(default)\n",
    "print(dict1)"
   ]
  },
  {
   "cell_type": "code",
   "execution_count": null,
   "id": "ae438fbb",
   "metadata": {},
   "outputs": [],
   "source": [
    "#.setdefault if key not in dictionary and default value not provided. \n",
    "\n",
    "default = dict1.setdefault(300)\n",
    "\n",
    "print(default)\n",
    "print(dict1)"
   ]
  },
  {
   "cell_type": "code",
   "execution_count": null,
   "id": "e92f9e90",
   "metadata": {},
   "outputs": [],
   "source": [
    "#Note how the key 300 has been added to the dictionary with default value of None."
   ]
  },
  {
   "cell_type": "code",
   "execution_count": null,
   "id": "f3b45787",
   "metadata": {},
   "outputs": [],
   "source": [
    "#.setdefault if key is not in dictionary with default value provided. "
   ]
  },
  {
   "cell_type": "code",
   "execution_count": null,
   "id": "51d652b0",
   "metadata": {},
   "outputs": [],
   "source": [
    "default = dict1.setdefault(400, '4x4x')\n",
    "\n",
    "print(default)\n",
    "print(dict1)"
   ]
  },
  {
   "cell_type": "code",
   "execution_count": null,
   "id": "40f5d85c",
   "metadata": {},
   "outputs": [],
   "source": [
    "# setdefault method\n",
    "\n",
    "# Takes one mandatory parameter - the key to be searched\n",
    "# Takes one optional parameter - value to be inserted if key is NOT present. \n",
    "\n",
    "# Options\n",
    "# 1. Key is present and default value not provided - it will return value of the key searched\n",
    "# 2. Key is present and default value provided - it will return value of the key searched, default value is ignored - no update.\n",
    "# 3. Key is not present and default value not provided - it will add the key to dictionary and set default value as None\n",
    "# 4. Key is not present and default value provided - it will add the key to dictionary and set default as provided. "
   ]
  },
  {
   "cell_type": "code",
   "execution_count": null,
   "id": "aeba22f1",
   "metadata": {},
   "outputs": [],
   "source": []
  },
  {
   "cell_type": "code",
   "execution_count": null,
   "id": "9d329092",
   "metadata": {},
   "outputs": [],
   "source": []
  },
  {
   "cell_type": "code",
   "execution_count": 20,
   "id": "4279c4ed",
   "metadata": {},
   "outputs": [
    {
     "name": "stdout",
     "output_type": "stream",
     "text": [
      "{'a': 101, 'b': [11, 2, 3], 'x': 'abc', 30: (2+3j), 'A': 'Vishal'}\n"
     ]
    }
   ],
   "source": [
    "#Membership operations on dictionaries. \n",
    "\n",
    "#We can use the in and not in operators to check if a key is present in the dictionary.\n",
    "\n",
    "print(dict1)"
   ]
  },
  {
   "cell_type": "code",
   "execution_count": 21,
   "id": "99000a3a",
   "metadata": {},
   "outputs": [
    {
     "name": "stdout",
     "output_type": "stream",
     "text": [
      "True\n"
     ]
    }
   ],
   "source": [
    "print('b' in dict1)"
   ]
  },
  {
   "cell_type": "code",
   "execution_count": 22,
   "id": "54bb70da",
   "metadata": {},
   "outputs": [
    {
     "name": "stdout",
     "output_type": "stream",
     "text": [
      "True\n"
     ]
    }
   ],
   "source": [
    "print('b' in dict1.keys())"
   ]
  },
  {
   "cell_type": "code",
   "execution_count": 24,
   "id": "f7d0b35f",
   "metadata": {},
   "outputs": [
    {
     "name": "stdout",
     "output_type": "stream",
     "text": [
      "False\n"
     ]
    }
   ],
   "source": [
    "print('Vishal' in dict1)"
   ]
  },
  {
   "cell_type": "code",
   "execution_count": 25,
   "id": "93565912",
   "metadata": {},
   "outputs": [
    {
     "name": "stdout",
     "output_type": "stream",
     "text": [
      "True\n"
     ]
    }
   ],
   "source": [
    "print('Vishal' in dict1.values())"
   ]
  },
  {
   "cell_type": "code",
   "execution_count": 26,
   "id": "db00bcd8",
   "metadata": {},
   "outputs": [
    {
     "name": "stdout",
     "output_type": "stream",
     "text": [
      "False\n"
     ]
    }
   ],
   "source": [
    "print('b' not in dict1)\n"
   ]
  },
  {
   "cell_type": "code",
   "execution_count": 27,
   "id": "a2b0c636",
   "metadata": {},
   "outputs": [
    {
     "name": "stdout",
     "output_type": "stream",
     "text": [
      "True\n"
     ]
    }
   ],
   "source": [
    "print('z' not in dict1)"
   ]
  },
  {
   "cell_type": "code",
   "execution_count": 28,
   "id": "f671ca34",
   "metadata": {},
   "outputs": [
    {
     "name": "stdout",
     "output_type": "stream",
     "text": [
      "False\n"
     ]
    }
   ],
   "source": [
    "print('abc' not in dict1.values())"
   ]
  },
  {
   "cell_type": "code",
   "execution_count": 34,
   "id": "e758381a",
   "metadata": {},
   "outputs": [
    {
     "name": "stdout",
     "output_type": "stream",
     "text": [
      "False\n"
     ]
    }
   ],
   "source": [
    "print('abc' in dict1.items())"
   ]
  },
  {
   "cell_type": "code",
   "execution_count": 29,
   "id": "75b376b5",
   "metadata": {},
   "outputs": [
    {
     "name": "stdout",
     "output_type": "stream",
     "text": [
      "dict_items([('a', 101), ('b', [11, 2, 3]), ('x', 'abc'), (30, (2+3j)), ('A', 'Vishal')])\n"
     ]
    }
   ],
   "source": [
    "print(dict1.items())"
   ]
  },
  {
   "cell_type": "code",
   "execution_count": null,
   "id": "207b0f91",
   "metadata": {},
   "outputs": [],
   "source": [
    "print(dict1)"
   ]
  },
  {
   "cell_type": "code",
   "execution_count": null,
   "id": "40f83bfe",
   "metadata": {},
   "outputs": [],
   "source": [
    "dict2 = dict(dict1)\n",
    "\n",
    "print(id(dict1), id(dict2))\n",
    "\n",
    "print(dict1 is dict2)"
   ]
  },
  {
   "cell_type": "code",
   "execution_count": null,
   "id": "c6fc16db",
   "metadata": {},
   "outputs": [],
   "source": [
    "dict1['A'] = 1010\n",
    "\n",
    "print(dict1)\n",
    "print(dict2)"
   ]
  },
  {
   "cell_type": "code",
   "execution_count": null,
   "id": "ec1de01a",
   "metadata": {
    "scrolled": true
   },
   "outputs": [],
   "source": [
    "dict1[30][1] = 'x'\n",
    "\n",
    "print(dict1)\n",
    "print(dict2)"
   ]
  },
  {
   "cell_type": "code",
   "execution_count": null,
   "id": "88a20b22",
   "metadata": {},
   "outputs": [],
   "source": [
    "#Aliasing\n",
    "\n",
    "dict1 = {'A':100, 'b':20, 30:['a', 'b', 'c', 'd'], 'x' : {'x' : 100, 'y': 101}}\n"
   ]
  },
  {
   "cell_type": "code",
   "execution_count": null,
   "id": "11988b4e",
   "metadata": {},
   "outputs": [],
   "source": [
    "dict2 = dict1"
   ]
  },
  {
   "cell_type": "code",
   "execution_count": null,
   "id": "3ce9daa8",
   "metadata": {},
   "outputs": [],
   "source": [
    "print(id(dict1), id(dict2))\n",
    "print(dict1 is dict2)"
   ]
  },
  {
   "cell_type": "code",
   "execution_count": null,
   "id": "d32f3a7e",
   "metadata": {},
   "outputs": [],
   "source": [
    "dict1['A'] = 1001\n",
    "\n",
    "print(dict1)\n",
    "print(dict2)"
   ]
  },
  {
   "cell_type": "code",
   "execution_count": null,
   "id": "b44a7e89",
   "metadata": {},
   "outputs": [],
   "source": [
    "#Copy in Dictionaries. \n",
    "\n",
    "#We have already covered shallow copy while covering lists. At the same time we coverered deepcopy for lists, tuples,\n",
    "# dictionaries and sets. We covered how the built-in copy module creates 'Shallow copies'. And how shallow copies do not\n",
    "# work for compound objects. \n",
    "\n",
    "dict1 = {'A':100, 'b':20, 30:['a', 'b', 'c', 'd'], 'x' : {'x' : 100, 'y': 101}}\n",
    "\n",
    "dict2 = dict1.copy()\n",
    "\n",
    "print(dict1)\n",
    "print(dict2)\n",
    "print(id(dict1), id(dict2))\n",
    "print(dict1 is dict2)"
   ]
  },
  {
   "cell_type": "code",
   "execution_count": null,
   "id": "423e26b1",
   "metadata": {},
   "outputs": [],
   "source": []
  },
  {
   "cell_type": "code",
   "execution_count": null,
   "id": "b1d8dbfd",
   "metadata": {},
   "outputs": [],
   "source": [
    "dict1['b'] = 2010\n",
    "\n",
    "print(dict1)\n",
    "print(dict2)"
   ]
  },
  {
   "cell_type": "code",
   "execution_count": null,
   "id": "0eda7b07",
   "metadata": {},
   "outputs": [],
   "source": [
    "dict1[30][1] = 'x'\n",
    "\n",
    "print(dict1)"
   ]
  },
  {
   "cell_type": "code",
   "execution_count": null,
   "id": "314e327c",
   "metadata": {},
   "outputs": [],
   "source": [
    "print(dict2)"
   ]
  },
  {
   "cell_type": "code",
   "execution_count": null,
   "id": "5ee4bf94",
   "metadata": {},
   "outputs": [],
   "source": []
  },
  {
   "cell_type": "code",
   "execution_count": null,
   "id": "c7dea990",
   "metadata": {},
   "outputs": [],
   "source": []
  },
  {
   "cell_type": "code",
   "execution_count": null,
   "id": "d31523ee",
   "metadata": {},
   "outputs": [],
   "source": [
    "#As with lists, if we created a copy of the object, changing one doesnt change the other UNLESS the object being changed\n",
    "# inside the list or dictionary is a mutable object in itself and the original list or dictionary object only contained\n",
    "# memory reference to the compound object. In which case, a change to the compound object will reflect on both copies of \n",
    "# the original list or dictionary object."
   ]
  },
  {
   "cell_type": "code",
   "execution_count": null,
   "id": "ed0d50af",
   "metadata": {},
   "outputs": [],
   "source": [
    "dict1['x']['y'] = 1010\n",
    "\n",
    "print(dict1)\n",
    "print(dict2)"
   ]
  },
  {
   "cell_type": "code",
   "execution_count": null,
   "id": "1d7b96fb",
   "metadata": {},
   "outputs": [],
   "source": [
    "#For such cases, we need the deepcopy()\n",
    "\n",
    "import copy\n",
    "\n",
    "dict1 = {'A':100, 'b':20, 30:['a', 'b', ['c', 'd'], 'e'], 'x' : {'x' : 100, 'y': 101}}\n",
    "dict1_alias = dict1\n",
    "\n",
    "dict2 = copy.deepcopy(dict1)\n",
    "\n",
    "print(dict1)\n",
    "\n",
    "print(dict2)\n",
    "\n",
    "# dict3 = dict1.copy()\n",
    "\n",
    "# #dict4 = copy.copy(dict1)\n",
    "\n",
    "# print(dict3)\n"
   ]
  },
  {
   "cell_type": "code",
   "execution_count": null,
   "id": "f4fe8361",
   "metadata": {},
   "outputs": [],
   "source": [
    "dict1[30][2][1] = 'Y'\n",
    "\n",
    "print(dict1)\n",
    "print(dict2)\n",
    "#print(dict3)"
   ]
  },
  {
   "cell_type": "code",
   "execution_count": null,
   "id": "c90fd6b9",
   "metadata": {},
   "outputs": [],
   "source": [
    "print(dict1)"
   ]
  },
  {
   "cell_type": "code",
   "execution_count": null,
   "id": "160af2de",
   "metadata": {},
   "outputs": [],
   "source": [
    "dict1 = {'A': 100, 'b': 20, 30: ['a', 'b', 'c', 'd'], 'x': {'x': 100, 'y': 101}, 'ZZ': 'learnbay'}\n",
    "\n",
    "print(dict1)"
   ]
  },
  {
   "cell_type": "code",
   "execution_count": null,
   "id": "c5508f07",
   "metadata": {},
   "outputs": [],
   "source": [
    "dKObj = dict1.keys()\n",
    "dVObj = dict1.values()\n",
    "dIObj = dict1.items()"
   ]
  },
  {
   "cell_type": "code",
   "execution_count": null,
   "id": "b54e64cb",
   "metadata": {},
   "outputs": [],
   "source": [
    "print(dKObj, type(dKObj))\n",
    "print(dVObj, type(dVObj))\n",
    "print(dIObj, type(dIObj))"
   ]
  },
  {
   "cell_type": "code",
   "execution_count": null,
   "id": "18fdf02f",
   "metadata": {},
   "outputs": [],
   "source": [
    "dict1['W'] = 'Hello'"
   ]
  },
  {
   "cell_type": "code",
   "execution_count": null,
   "id": "c483d026",
   "metadata": {},
   "outputs": [],
   "source": [
    "print(dKObj, type(dKObj))\n",
    "print(dVObj, type(dVObj))\n",
    "print(dIObj, type(dIObj))"
   ]
  },
  {
   "cell_type": "code",
   "execution_count": null,
   "id": "dfb4ef3c",
   "metadata": {},
   "outputs": [],
   "source": [
    "print(dKlst)\n",
    "print(dVlst)\n",
    "print(dIlst)"
   ]
  },
  {
   "cell_type": "code",
   "execution_count": null,
   "id": "78c0c5b7",
   "metadata": {},
   "outputs": [],
   "source": [
    "dKlst = list(dict1.keys())\n",
    "dVlst = list(dict1.values())\n",
    "dIlst = list(dict1.items())"
   ]
  },
  {
   "cell_type": "code",
   "execution_count": null,
   "id": "a2f9f970",
   "metadata": {},
   "outputs": [],
   "source": [
    "print(dKlst, type(dKlst))\n",
    "print(dVlst, type(dVlst))\n",
    "print(dIlst, type(dIlst))"
   ]
  },
  {
   "cell_type": "code",
   "execution_count": null,
   "id": "62f7da6d",
   "metadata": {},
   "outputs": [],
   "source": [
    "print(dKlst, type(dKlst))\n",
    "print(dVlst, type(dVlst))\n",
    "print(dIlst, type(dIlst))"
   ]
  },
  {
   "cell_type": "code",
   "execution_count": null,
   "id": "c7de82f4",
   "metadata": {},
   "outputs": [],
   "source": [
    "print(dKObj[0])"
   ]
  },
  {
   "cell_type": "code",
   "execution_count": null,
   "id": "51d01a1d",
   "metadata": {},
   "outputs": [],
   "source": [
    "print(dKlst[0])"
   ]
  },
  {
   "cell_type": "code",
   "execution_count": null,
   "id": "8fcaff41",
   "metadata": {},
   "outputs": [],
   "source": [
    "print(dict1.values())"
   ]
  },
  {
   "cell_type": "code",
   "execution_count": null,
   "id": "77b963fa",
   "metadata": {},
   "outputs": [],
   "source": [
    "for x in dict1.values():\n",
    "    print(x)"
   ]
  },
  {
   "cell_type": "code",
   "execution_count": null,
   "id": "3f135fa5",
   "metadata": {},
   "outputs": [],
   "source": []
  },
  {
   "cell_type": "code",
   "execution_count": null,
   "id": "0bb2e5f2",
   "metadata": {},
   "outputs": [],
   "source": []
  },
  {
   "cell_type": "code",
   "execution_count": null,
   "id": "13134c55",
   "metadata": {},
   "outputs": [],
   "source": [
    "#There is no syntax to get the keys of a dictionary from values. However, we can get the key by using programming logic \n",
    "# which we will see in a bit. "
   ]
  },
  {
   "cell_type": "code",
   "execution_count": null,
   "id": "f35c5723",
   "metadata": {},
   "outputs": [],
   "source": []
  },
  {
   "cell_type": "code",
   "execution_count": null,
   "id": "ca39cf94",
   "metadata": {},
   "outputs": [],
   "source": [
    "dict1.update([(30,'a'), ('x','y')])"
   ]
  },
  {
   "cell_type": "code",
   "execution_count": null,
   "id": "fb53049e",
   "metadata": {},
   "outputs": [],
   "source": [
    "dict1['p'] = 5555"
   ]
  },
  {
   "cell_type": "code",
   "execution_count": null,
   "id": "2d9d5094",
   "metadata": {},
   "outputs": [],
   "source": [
    "print(dict1)"
   ]
  },
  {
   "cell_type": "code",
   "execution_count": null,
   "id": "7861e0d5",
   "metadata": {},
   "outputs": [],
   "source": [
    "print(dict1.keys())"
   ]
  },
  {
   "cell_type": "code",
   "execution_count": null,
   "id": "3232306d",
   "metadata": {},
   "outputs": [],
   "source": [
    "tofind = 100\n",
    "\n",
    "for x in dict1:\n",
    "    if tofind == dict1[x]:\n",
    "        print(x)\n"
   ]
  },
  {
   "cell_type": "code",
   "execution_count": null,
   "id": "26ad0ce3",
   "metadata": {},
   "outputs": [],
   "source": [
    "for x in dict1:\n",
    "    code\n",
    "    \n",
    "    \n",
    "for x in dict1.keys():\n",
    "    code\n",
    "    \n",
    "    \n",
    "for x in dict1.values():\n",
    "    \n",
    "    \n",
    "for x in dict1.items():"
   ]
  },
  {
   "cell_type": "code",
   "execution_count": null,
   "id": "793ecacb",
   "metadata": {},
   "outputs": [],
   "source": [
    "print(dict1.items())"
   ]
  },
  {
   "cell_type": "code",
   "execution_count": null,
   "id": "d55492d2",
   "metadata": {},
   "outputs": [],
   "source": [
    "for x in dict1.items():\n",
    "    if x[1] == tofind:\n",
    "        print(x[0])"
   ]
  },
  {
   "cell_type": "code",
   "execution_count": null,
   "id": "5700caf0",
   "metadata": {},
   "outputs": [],
   "source": []
  },
  {
   "cell_type": "code",
   "execution_count": null,
   "id": "357bb808",
   "metadata": {},
   "outputs": [],
   "source": []
  },
  {
   "cell_type": "code",
   "execution_count": null,
   "id": "edec4ebd",
   "metadata": {},
   "outputs": [],
   "source": [
    "print(list(dict1.items()))"
   ]
  },
  {
   "cell_type": "code",
   "execution_count": null,
   "id": "dafcd3d9",
   "metadata": {},
   "outputs": [],
   "source": [
    "# keys() method for dictionaries gets the keys of the dictionary in a 'view object'.\n",
    "\n",
    "tosearch = 100\n",
    "\n",
    "for k,v in dict1.items():\n",
    "    if v == tosearch:\n",
    "        print(k)"
   ]
  },
  {
   "cell_type": "code",
   "execution_count": null,
   "id": "81909a51",
   "metadata": {},
   "outputs": [],
   "source": [
    "for k in dict1:\n",
    "    if dict1[k] == tosearch:\n",
    "        print(k)"
   ]
  },
  {
   "cell_type": "code",
   "execution_count": null,
   "id": "932bc502",
   "metadata": {},
   "outputs": [],
   "source": [
    "keylist = list(dict1.keys())\n",
    "valuelist = list(dict1.values())\n",
    "\n",
    "for x in range(len(keylist)):\n",
    "    if valuelist[x] == tosearch:\n",
    "        print(keylist[x])"
   ]
  },
  {
   "cell_type": "code",
   "execution_count": null,
   "id": "2f6c3c17",
   "metadata": {},
   "outputs": [],
   "source": []
  },
  {
   "cell_type": "code",
   "execution_count": null,
   "id": "457a25f9",
   "metadata": {},
   "outputs": [],
   "source": [
    "#Note how this is not a list. \n",
    "\n",
    "#Any changes to the keys of the dictionary(i.e. addition or deletion) reflects directly in this view object.\n",
    "print(dict1)"
   ]
  },
  {
   "cell_type": "code",
   "execution_count": null,
   "id": "9fcf27ea",
   "metadata": {},
   "outputs": [],
   "source": []
  },
  {
   "cell_type": "code",
   "execution_count": null,
   "id": "864f58c0",
   "metadata": {},
   "outputs": [],
   "source": [
    "dict1['Python'] = ['Great', 'Harsh']\n",
    "\n",
    "print(keys1)"
   ]
  },
  {
   "cell_type": "code",
   "execution_count": null,
   "id": "5750d0b6",
   "metadata": {},
   "outputs": [],
   "source": [
    "dict_keys = list(dict1.keys())\n",
    "\n",
    "print(dict_keys)"
   ]
  },
  {
   "cell_type": "code",
   "execution_count": null,
   "id": "f5f70f75",
   "metadata": {},
   "outputs": [],
   "source": [
    "dict1['July 8'] = 'Great Batch'\n",
    "\n",
    "print(dict1)\n",
    "print(keys1)\n",
    "print(dict_keys)"
   ]
  },
  {
   "cell_type": "code",
   "execution_count": null,
   "id": "2e50dcd7",
   "metadata": {},
   "outputs": [],
   "source": [
    "#Note - how we did not update the keys variable but the dict view object stored with reference variable keys was \n",
    "# automatically updated. \n",
    "\n",
    "#The same will hold true for .values() method and .items() method. "
   ]
  },
  {
   "cell_type": "code",
   "execution_count": null,
   "id": "7b31d53f",
   "metadata": {},
   "outputs": [],
   "source": [
    "#We can easily convert this dict view object to a list. \n",
    "\n",
    "key_list = list(dict1.keys())\n",
    "print(key_list)\n",
    "print(type(key_list))"
   ]
  },
  {
   "cell_type": "code",
   "execution_count": null,
   "id": "840be74e",
   "metadata": {},
   "outputs": [],
   "source": [
    "dict1['Students'] = 'Awesome'\n",
    "print(dict1)"
   ]
  },
  {
   "cell_type": "code",
   "execution_count": null,
   "id": "0e4721eb",
   "metadata": {},
   "outputs": [],
   "source": [
    "print(key_list)\n",
    "\n",
    "#Note here - how the key_list was not automatically updated since the list object from dict view object has already been\n",
    "# created and populated with the memory ref ids of the objects inside the dict view object. \n",
    "\n",
    "# In the case of the key variable we had set to the memory location of the dict view object itself and each update to\n",
    "# the dict view object was reflected in the variable key. "
   ]
  },
  {
   "cell_type": "code",
   "execution_count": null,
   "id": "0d1c66af",
   "metadata": {},
   "outputs": [],
   "source": [
    "#.values() method in dictionaries - returns a dict view object with the values of the dictionary. \n",
    "dict1 = {'A':100, 'b':20, 30:['a', 'b', ['c', 'd'], 'e'], 'x' : {'x' : 100, 'y': 101}}\n",
    "\n",
    "values1 = dict1.values()\n",
    "\n",
    "print(values1)\n",
    "print(type(values1))"
   ]
  },
  {
   "cell_type": "code",
   "execution_count": null,
   "id": "98182a30",
   "metadata": {},
   "outputs": [],
   "source": [
    "print(dict1)"
   ]
  },
  {
   "cell_type": "code",
   "execution_count": null,
   "id": "38d416ac",
   "metadata": {},
   "outputs": [],
   "source": [
    "dict1['Students'] = 'Fantastic'\n",
    "print(values1)"
   ]
  },
  {
   "cell_type": "code",
   "execution_count": null,
   "id": "cbbe72d4",
   "metadata": {},
   "outputs": [],
   "source": [
    "value_list = list(dict1.values())\n",
    "\n",
    "print(value_list)"
   ]
  },
  {
   "cell_type": "code",
   "execution_count": null,
   "id": "d72a2281",
   "metadata": {},
   "outputs": [],
   "source": [
    "dict1[30][2][0] = 'X'\n",
    "print(values1)\n",
    "print(value_list)\n",
    "\n",
    "\n"
   ]
  },
  {
   "cell_type": "code",
   "execution_count": null,
   "id": "7c9d1d59",
   "metadata": {},
   "outputs": [],
   "source": [
    "dict1['A'] = 1001\n",
    "\n",
    "print(values1)\n",
    "print(value_list)"
   ]
  },
  {
   "cell_type": "code",
   "execution_count": null,
   "id": "544d00ac",
   "metadata": {},
   "outputs": [],
   "source": [
    "dict1['Ameet'] = 'Good student'\n",
    "\n",
    "print(dict1)"
   ]
  },
  {
   "cell_type": "code",
   "execution_count": null,
   "id": "43bf5c6c",
   "metadata": {},
   "outputs": [],
   "source": [
    "dict1['A'] = 1111\n",
    "\n",
    "print(dict1)"
   ]
  },
  {
   "cell_type": "code",
   "execution_count": null,
   "id": "7e6f342e",
   "metadata": {},
   "outputs": [],
   "source": [
    "print(values1)\n",
    "print(value_list)"
   ]
  },
  {
   "cell_type": "code",
   "execution_count": null,
   "id": "1cd2065c",
   "metadata": {},
   "outputs": [],
   "source": [
    "dict1['x']['z'] = 202\n",
    "\n",
    "print(dict1)"
   ]
  },
  {
   "cell_type": "code",
   "execution_count": null,
   "id": "15206585",
   "metadata": {},
   "outputs": [],
   "source": [
    "print(values1)\n",
    "print(value_list)"
   ]
  },
  {
   "cell_type": "code",
   "execution_count": null,
   "id": "8594ee88",
   "metadata": {},
   "outputs": [],
   "source": []
  },
  {
   "cell_type": "code",
   "execution_count": null,
   "id": "b4acc7c3",
   "metadata": {},
   "outputs": [],
   "source": [
    "dict1 = {'A':100, 'b':20, 30:'e', 'x' : 20, 'w' : 'Learnbay'}\n"
   ]
  },
  {
   "cell_type": "code",
   "execution_count": null,
   "id": "60b2b8cc",
   "metadata": {},
   "outputs": [],
   "source": [
    "print(dict1.items())"
   ]
  },
  {
   "cell_type": "code",
   "execution_count": null,
   "id": "f6a09319",
   "metadata": {},
   "outputs": [],
   "source": [
    "tofind = 5555\n",
    "\n",
    "for x in dict1.items():\n",
    "    if x[1] == tofind:\n",
    "        print(x[0])"
   ]
  },
  {
   "cell_type": "code",
   "execution_count": null,
   "id": "99de4894",
   "metadata": {},
   "outputs": [],
   "source": [
    "\n",
    "for keys,values in dict1.items():\n",
    "    if values == tofind:\n",
    "        print(keys)"
   ]
  },
  {
   "cell_type": "code",
   "execution_count": null,
   "id": "8c70e758",
   "metadata": {},
   "outputs": [],
   "source": [
    "for keys in dict1.keys():\n",
    "    if dict1[keys] == var1:\n",
    "        print(keys)"
   ]
  },
  {
   "cell_type": "code",
   "execution_count": null,
   "id": "905d6c89",
   "metadata": {},
   "outputs": [],
   "source": [
    "print(dict1)"
   ]
  },
  {
   "cell_type": "code",
   "execution_count": null,
   "id": "38faabd4",
   "metadata": {},
   "outputs": [],
   "source": [
    "x = list(dict1.values())\n",
    "\n",
    "y = x.index(100)\n",
    "\n",
    "print(list(dict1.keys())[y])"
   ]
  },
  {
   "cell_type": "code",
   "execution_count": null,
   "id": "b90329e3",
   "metadata": {},
   "outputs": [],
   "source": []
  },
  {
   "cell_type": "code",
   "execution_count": null,
   "id": "60a44d65",
   "metadata": {},
   "outputs": [],
   "source": []
  },
  {
   "cell_type": "code",
   "execution_count": null,
   "id": "3aefb52b",
   "metadata": {},
   "outputs": [],
   "source": []
  },
  {
   "cell_type": "code",
   "execution_count": null,
   "id": "0e8a610e",
   "metadata": {},
   "outputs": [],
   "source": []
  },
  {
   "cell_type": "code",
   "execution_count": null,
   "id": "86c43941",
   "metadata": {},
   "outputs": [],
   "source": []
  },
  {
   "cell_type": "code",
   "execution_count": null,
   "id": "e0926ce0",
   "metadata": {},
   "outputs": [],
   "source": [
    "dictkeys = list(dict1.keys())\n",
    "dictvalues = list(dict1.values())\n",
    "tosearch = \"Learnbay\"\n",
    "\n",
    "for x in range(len(dictvalues)):\n",
    "    if dictvalues[x] == tosearch:\n",
    "        print(dictkeys[x])"
   ]
  },
  {
   "cell_type": "code",
   "execution_count": null,
   "id": "dbc1aaf8",
   "metadata": {},
   "outputs": [],
   "source": [
    "dictitems = list(dict1.items())\n",
    "\n",
    "print(dictitems)"
   ]
  },
  {
   "cell_type": "code",
   "execution_count": null,
   "id": "ce0b2ca5",
   "metadata": {},
   "outputs": [],
   "source": [
    "for x in range(len(dictitems)):\n",
    "    if dictitems[x][1] == tosearch:\n",
    "        print(dictitems[x][0])\n",
    "        \n",
    "        "
   ]
  },
  {
   "cell_type": "code",
   "execution_count": null,
   "id": "4fcc4868",
   "metadata": {},
   "outputs": [],
   "source": [
    "print(dictkeys)\n",
    "print(dictvalues)"
   ]
  },
  {
   "cell_type": "code",
   "execution_count": null,
   "id": "3f51f002",
   "metadata": {},
   "outputs": [],
   "source": [
    "dictvalues.index(tosearch)"
   ]
  },
  {
   "cell_type": "code",
   "execution_count": null,
   "id": "952ff9b7",
   "metadata": {},
   "outputs": [],
   "source": [
    "dictkeys[4]"
   ]
  },
  {
   "cell_type": "code",
   "execution_count": null,
   "id": "2b4d08e5",
   "metadata": {},
   "outputs": [],
   "source": [
    "print(dictkeys[dictvalues.index(tosearch)])"
   ]
  },
  {
   "cell_type": "code",
   "execution_count": null,
   "id": "fc948712",
   "metadata": {},
   "outputs": [],
   "source": [
    "dlstkeys = list(dict1.keys())\n",
    "dlstvalues = list(dict1.values())\n",
    "\n",
    "for x in range(len(dlstvalues)):\n",
    "    if dlstvalues[x] == 'Learnbay':\n",
    "        print(dlstkeys[x])\n",
    "    "
   ]
  },
  {
   "cell_type": "code",
   "execution_count": null,
   "id": "f5731d18",
   "metadata": {},
   "outputs": [],
   "source": [
    "dlstitems = list(dict1.items())\n",
    "var1 = 20\n",
    "for x in range(len(dlstitems)):\n",
    "    if dlstitems[x][1] == var1:\n",
    "        print(dlstitems[x][0])"
   ]
  },
  {
   "cell_type": "code",
   "execution_count": null,
   "id": "be987f6f",
   "metadata": {},
   "outputs": [],
   "source": [
    "for x in dict1.items():\n",
    "    print(x)"
   ]
  },
  {
   "cell_type": "code",
   "execution_count": null,
   "id": "92c31f18",
   "metadata": {},
   "outputs": [],
   "source": [
    "#.items() method in dictionaries in Python returns a dict view object containing key, value pairs\n",
    "print(dict1)"
   ]
  },
  {
   "cell_type": "code",
   "execution_count": null,
   "id": "3eddf4fa",
   "metadata": {},
   "outputs": [],
   "source": [
    "items1 = dict1.items()\n",
    "\n",
    "print(items1)\n",
    "print(type(items1))"
   ]
  },
  {
   "cell_type": "code",
   "execution_count": null,
   "id": "76c9c36c",
   "metadata": {},
   "outputs": [],
   "source": [
    "#Note, how the items are returned in tuple like form. \n",
    "\n",
    "item_list = list(dict1.items())\n",
    "print(item_list)"
   ]
  },
  {
   "cell_type": "code",
   "execution_count": null,
   "id": "ee61bf24",
   "metadata": {},
   "outputs": [],
   "source": [
    "dict1['Paris'] = 'Romantic'"
   ]
  },
  {
   "cell_type": "code",
   "execution_count": null,
   "id": "fb6ea54e",
   "metadata": {},
   "outputs": [],
   "source": [
    "print(items1)"
   ]
  },
  {
   "cell_type": "code",
   "execution_count": null,
   "id": "65304c9d",
   "metadata": {},
   "outputs": [],
   "source": [
    "print(item_list)"
   ]
  },
  {
   "cell_type": "code",
   "execution_count": null,
   "id": "2d8c5d8d",
   "metadata": {},
   "outputs": [],
   "source": [
    "print(list(dict1.items()))"
   ]
  },
  {
   "cell_type": "code",
   "execution_count": null,
   "id": "4eb91863",
   "metadata": {},
   "outputs": [],
   "source": [
    "tosearch = 'e'"
   ]
  },
  {
   "cell_type": "code",
   "execution_count": null,
   "id": "3ad3eefe",
   "metadata": {},
   "outputs": [],
   "source": [
    "for k,v in dict1.items():\n",
    "    if v == tosearch:\n",
    "        print(k)\n",
    "    "
   ]
  },
  {
   "cell_type": "code",
   "execution_count": null,
   "id": "de1ff532",
   "metadata": {},
   "outputs": [],
   "source": [
    "lst1 = [1,2,3,4,5,6]\n",
    "\n",
    "*a,b,c = lst1\n",
    "\n",
    "print(a,b,c, sep = '\\n')"
   ]
  },
  {
   "cell_type": "code",
   "execution_count": null,
   "id": "69dce706",
   "metadata": {},
   "outputs": [],
   "source": []
  },
  {
   "cell_type": "code",
   "execution_count": null,
   "id": "2e007ee3",
   "metadata": {},
   "outputs": [],
   "source": [
    "#Note again how items1 variable containing the dict view object was updated but the item_list was not. "
   ]
  },
  {
   "cell_type": "code",
   "execution_count": null,
   "id": "32e1655c",
   "metadata": {},
   "outputs": [],
   "source": [
    "#Iteration over a dictionary iterates over the keys. \n",
    "# To access the values we must use the syntax for accessing the values.\n",
    "for x in dict1:\n",
    "    print(x)"
   ]
  },
  {
   "cell_type": "code",
   "execution_count": null,
   "id": "20e34639",
   "metadata": {},
   "outputs": [],
   "source": [
    "for x in dict1.keys():\n",
    "    print(x)"
   ]
  },
  {
   "cell_type": "code",
   "execution_count": null,
   "id": "3a67f802",
   "metadata": {},
   "outputs": [],
   "source": [
    "list_dict = list(dict1)\n",
    "print(list_dict)"
   ]
  },
  {
   "cell_type": "code",
   "execution_count": null,
   "id": "831454db",
   "metadata": {},
   "outputs": [],
   "source": [
    "for x in dict1.values():\n",
    "    print(x)"
   ]
  },
  {
   "cell_type": "code",
   "execution_count": null,
   "id": "e7098b41",
   "metadata": {},
   "outputs": [],
   "source": [
    "for x in dict1.items():\n",
    "    print(x)"
   ]
  },
  {
   "cell_type": "code",
   "execution_count": null,
   "id": "81c935d1",
   "metadata": {},
   "outputs": [],
   "source": [
    "#Note again how the list_dict variable is only picking up the keys of the dictionary. "
   ]
  },
  {
   "cell_type": "code",
   "execution_count": null,
   "id": "76853703",
   "metadata": {},
   "outputs": [],
   "source": [
    "#If we have the value and wish to get the key corresponding to that value in the dictionary we have to use some programming\n",
    "# logic. \n",
    "\n",
    "print(dict1)"
   ]
  },
  {
   "cell_type": "code",
   "execution_count": null,
   "id": "9ebef936",
   "metadata": {},
   "outputs": [],
   "source": [
    "dict1['b'] = 1001\n",
    "\n",
    "find_key = 1001\n",
    "\n",
    "keys_l = list(dict1)\n",
    "val_l = list(dict1.values())\n",
    "\n",
    "print(keys_l)\n",
    "print(val_l)\n",
    "\n",
    "for x in range(len(val_l)):\n",
    "    if val_l[x] == find_key:\n",
    "        print(keys_l[x])\n",
    "            "
   ]
  },
  {
   "cell_type": "code",
   "execution_count": null,
   "id": "effe465a",
   "metadata": {},
   "outputs": [],
   "source": [
    "print(dict1)"
   ]
  },
  {
   "cell_type": "code",
   "execution_count": null,
   "id": "20a106f0",
   "metadata": {},
   "outputs": [],
   "source": [
    "idx_v = val_l.index(1001)\n",
    "\n",
    "print(keys_l[idx_v])"
   ]
  },
  {
   "cell_type": "code",
   "execution_count": null,
   "id": "f9882911",
   "metadata": {},
   "outputs": [],
   "source": [
    "keys_l = list(dict1)\n",
    "print(keys_l)\n",
    "val_l = list(dict1.values())\n",
    "\n",
    "print(keys_l[val_l.index(20)])"
   ]
  },
  {
   "cell_type": "code",
   "execution_count": null,
   "id": "2b0b38e5",
   "metadata": {},
   "outputs": [],
   "source": [
    "val_l = list(dict1.values())"
   ]
  },
  {
   "cell_type": "code",
   "execution_count": null,
   "id": "1c43d0c9",
   "metadata": {},
   "outputs": [],
   "source": [
    "#Or another way:\n",
    "\n",
    "for x in dict1.keys():\n",
    "    if dict1[x] == find_key:\n",
    "        print(x)"
   ]
  },
  {
   "cell_type": "code",
   "execution_count": null,
   "id": "d70ef5a0",
   "metadata": {},
   "outputs": [],
   "source": [
    "#Or:\n",
    "\n",
    "for x,y in dict1.items():\n",
    "    if y == find_key:\n",
    "        print(x)"
   ]
  },
  {
   "cell_type": "code",
   "execution_count": null,
   "id": "76e1d13d",
   "metadata": {},
   "outputs": [],
   "source": [
    "#Del on dictionaries"
   ]
  },
  {
   "cell_type": "code",
   "execution_count": 36,
   "id": "47c11d98",
   "metadata": {},
   "outputs": [
    {
     "name": "stdout",
     "output_type": "stream",
     "text": [
      "{'A': 100, 'b': 20, 30: ['a', 'b', 'c', 'd'], 'x': {'x': 100, 'y': 101}, 300: None}\n",
      "1797714979584\n"
     ]
    }
   ],
   "source": [
    "dict1 = {'A': 100, 'b': 20, 30: ['a', 'b', 'c', 'd'], 'x': {'x': 100, 'y': 101}, 300: None}\n",
    "print(dict1)\n",
    "print(id(dict1))"
   ]
  },
  {
   "cell_type": "code",
   "execution_count": 37,
   "id": "b67fc354",
   "metadata": {},
   "outputs": [
    {
     "name": "stdout",
     "output_type": "stream",
     "text": [
      "{}\n",
      "1797714979584\n"
     ]
    }
   ],
   "source": [
    "#To clear a dictionary use the clear() function.\n",
    "\n",
    "dict1.clear()\n",
    "\n",
    "print(dict1)\n",
    "print(id(dict1))\n"
   ]
  },
  {
   "cell_type": "code",
   "execution_count": 56,
   "id": "e61f101f",
   "metadata": {},
   "outputs": [
    {
     "name": "stdout",
     "output_type": "stream",
     "text": [
      "{'A': 100, 'b': 20, 30: ['a', 'b', 'c', 'd'], 'x': {'x': 100, 'y': 101}, 300: None}\n"
     ]
    }
   ],
   "source": [
    "#.pop() method in dictionary. Pops the specified key:value pair from the dictionary and returns the value of the specified\n",
    "# key. \n",
    "\n",
    "#It takes two parameters. \n",
    "\n",
    "#1. The key to be searched for - Mandatory\n",
    "#2. The value to be returned if the key is not found in dictionary. Raises a key error if the key is not found and the \n",
    "# default is not provided.\n",
    "\n",
    "dict1 = {'A': 100, 'b': 20, 30: ['a', 'b', 'c', 'd'], 'x': {'x': 100, 'y': 101}, 300: None}\n",
    "print(dict1)"
   ]
  },
  {
   "cell_type": "code",
   "execution_count": 39,
   "id": "f057af56",
   "metadata": {},
   "outputs": [
    {
     "ename": "TypeError",
     "evalue": "pop expected at least 1 argument, got 0",
     "output_type": "error",
     "traceback": [
      "\u001b[1;31m---------------------------------------------------------------------------\u001b[0m",
      "\u001b[1;31mTypeError\u001b[0m                                 Traceback (most recent call last)",
      "\u001b[1;32m~\\AppData\\Local\\Temp\\ipykernel_13840\\1267912594.py\u001b[0m in \u001b[0;36m<module>\u001b[1;34m\u001b[0m\n\u001b[1;32m----> 1\u001b[1;33m \u001b[0mprint\u001b[0m\u001b[1;33m(\u001b[0m\u001b[0mdict1\u001b[0m\u001b[1;33m.\u001b[0m\u001b[0mpop\u001b[0m\u001b[1;33m(\u001b[0m\u001b[1;33m)\u001b[0m\u001b[1;33m)\u001b[0m\u001b[1;33m\u001b[0m\u001b[1;33m\u001b[0m\u001b[0m\n\u001b[0m",
      "\u001b[1;31mTypeError\u001b[0m: pop expected at least 1 argument, got 0"
     ]
    }
   ],
   "source": [
    "print(dict1.pop())"
   ]
  },
  {
   "cell_type": "code",
   "execution_count": 52,
   "id": "639c94b1",
   "metadata": {},
   "outputs": [
    {
     "name": "stdout",
     "output_type": "stream",
     "text": [
      "{'A': 100, 'b': 20, 30: ['a', 'b', 'c', 'd'], 'x': {'x': 100, 'y': 101}, 300: None, 400: 4001, 500: 5002, 600: 6001}\n"
     ]
    }
   ],
   "source": [
    "print(dict1)"
   ]
  },
  {
   "cell_type": "code",
   "execution_count": 57,
   "id": "26268217",
   "metadata": {},
   "outputs": [
    {
     "name": "stdout",
     "output_type": "stream",
     "text": [
      "20\n"
     ]
    }
   ],
   "source": [
    "abc = dict1.pop('b')\n",
    "\n",
    "print(abc)"
   ]
  },
  {
   "cell_type": "code",
   "execution_count": 55,
   "id": "fe1275f0",
   "metadata": {},
   "outputs": [
    {
     "name": "stdout",
     "output_type": "stream",
     "text": [
      "{'A': 100, 30: ['a', 'b', 'c', 'd'], 'x': {'x': 100, 'y': 101}, 300: None}\n"
     ]
    }
   ],
   "source": [
    "print(dict1)"
   ]
  },
  {
   "cell_type": "code",
   "execution_count": 59,
   "id": "e236cb9c",
   "metadata": {},
   "outputs": [
    {
     "name": "stdout",
     "output_type": "stream",
     "text": [
      "Key is not found\n"
     ]
    }
   ],
   "source": [
    "xyz = dict1.pop('b', 'Key is not found')\n",
    "\n",
    "\n",
    "print(xyz)"
   ]
  },
  {
   "cell_type": "code",
   "execution_count": null,
   "id": "0e41ba4f",
   "metadata": {},
   "outputs": [],
   "source": [
    "#.pop method if key is in dictionary and default is not provided. \n",
    "\n",
    "popped = dict1.pop('b', 'Not Found')\n",
    "\n",
    "print(popped)\n",
    "print(dict1)"
   ]
  },
  {
   "cell_type": "code",
   "execution_count": null,
   "id": "27e850db",
   "metadata": {},
   "outputs": [],
   "source": [
    "#.pop method if key in dictionary and default provided. \n",
    "\n",
    "dict1 = {'A': 100, 'b': 20, 30: ['a', 'b', 'c', 'd'], 'x': {'x': 100, 'y': 101}, 300: None}"
   ]
  },
  {
   "cell_type": "code",
   "execution_count": null,
   "id": "c8fbb8f2",
   "metadata": {},
   "outputs": [],
   "source": [
    "popped = dict1.pop(301, 'Not found')\n",
    "\n",
    "print(popped)\n",
    "print(dict1)"
   ]
  },
  {
   "cell_type": "code",
   "execution_count": null,
   "id": "cefa4fd8",
   "metadata": {},
   "outputs": [],
   "source": [
    "#.pop method if key not in dictionary and default not provided. \n",
    "\n",
    "dict1 = {'A': 100, 'b': 20, 30: ['a', 'b', 'c', 'd'], 'x': {'x': 100, 'y': 101}, 300: None}\n",
    "\n",
    "popped = dict1.pop('xyz')\n",
    "\n",
    "print(popped)\n",
    "print(dict1)"
   ]
  },
  {
   "cell_type": "code",
   "execution_count": null,
   "id": "45c9ac47",
   "metadata": {},
   "outputs": [],
   "source": [
    "Pop method in Dictionary\n",
    "\n",
    "1. Key is present. Pops the key and returns the value - irrespective of whether a return value (which is optional) is provided\n",
    "or not. \n",
    "2. Key is not present. Return value not provided - throws an error\n",
    "3. Key is not present. Return value is provided - returns the return value provided. "
   ]
  },
  {
   "cell_type": "code",
   "execution_count": null,
   "id": "bbdfcdc8",
   "metadata": {},
   "outputs": [],
   "source": [
    "#.pop method if key not in dictionary and default provided. \n",
    "\n",
    "dict1 = {'A': 100, 'b': 20, 30: ['a', 'b', 'c', 'd'], 'x': {'x': 100, 'y': 101}, 300: None}\n",
    "\n",
    "popped = dict1.pop('xyz', 'Not found')\n",
    "\n",
    "print(popped)\n",
    "print(dict1)"
   ]
  },
  {
   "cell_type": "code",
   "execution_count": null,
   "id": "771af0cc",
   "metadata": {},
   "outputs": [],
   "source": [
    "popped = dict1.pop()\n",
    "\n",
    "print(popped)"
   ]
  },
  {
   "cell_type": "code",
   "execution_count": null,
   "id": "10f72781",
   "metadata": {},
   "outputs": [],
   "source": [
    "dict1 = {'A': 100, 'b': 100, 30:'a', 'x': 'b', 300: 100}\n",
    "\n",
    "dict1Keys = list(dict1)\n",
    "dict1Vals = list(dict1.values())\n",
    "\n",
    "\n",
    "print(dict1Keys)\n",
    "print(dict1Vals)"
   ]
  },
  {
   "cell_type": "code",
   "execution_count": null,
   "id": "2aa1745e",
   "metadata": {},
   "outputs": [],
   "source": [
    "var1 = 100\n",
    "\n",
    "for x in range(len(dict1Vals)):\n",
    "    if dict1Vals[x] == var1:\n",
    "        dict1.pop(dict1Keys[x])\n",
    "        \n",
    "print(dict1)"
   ]
  },
  {
   "cell_type": "code",
   "execution_count": null,
   "id": "e5e7c6db",
   "metadata": {},
   "outputs": [],
   "source": []
  },
  {
   "cell_type": "code",
   "execution_count": 60,
   "id": "2d4694cb",
   "metadata": {},
   "outputs": [
    {
     "name": "stdout",
     "output_type": "stream",
     "text": [
      "{'A': 100, 'b': 20, 30: ['a', 'b', 'c', 'd'], 'x': {'x': 100, 'y': 101}, 300: 'xyz'}\n"
     ]
    }
   ],
   "source": [
    "#.popitem() method removes the last element input in the dictionary and returns it. It takes no parameters\n",
    "\n",
    "dict1 = {'A': 100, 'b': 20, 30: ['a', 'b', 'c', 'd'], 'x': {'x': 100, 'y': 101}, 300: 'xyz'}\n",
    "\n",
    "print(dict1)"
   ]
  },
  {
   "cell_type": "code",
   "execution_count": 62,
   "id": "c70c1c40",
   "metadata": {},
   "outputs": [
    {
     "name": "stdout",
     "output_type": "stream",
     "text": [
      "(300, 'xyz')\n",
      "{'A': 100, 'b': 20, 30: ['a', 'b', 'c', 'd'], 'x': {'x': 100, 'y': 101}}\n"
     ]
    }
   ],
   "source": [
    "pop_item = dict1.popitem()\n",
    "\n",
    "print(pop_item)\n",
    "print(dict1)"
   ]
  },
  {
   "cell_type": "code",
   "execution_count": null,
   "id": "5168e24b",
   "metadata": {},
   "outputs": [],
   "source": [
    "dict1['x'].pop('y')\n",
    "\n",
    "print(dict1)"
   ]
  },
  {
   "cell_type": "code",
   "execution_count": null,
   "id": "8a99be07",
   "metadata": {},
   "outputs": [],
   "source": [
    "popped1 = dict1['x'].pop('y')\n",
    "\n",
    "\n",
    "print(popped1)\n",
    "print(dict1)"
   ]
  },
  {
   "cell_type": "code",
   "execution_count": null,
   "id": "f4d0ee8b",
   "metadata": {},
   "outputs": [],
   "source": [
    "popped_lst = dict1[30].pop(2)\n",
    "\n",
    "print(popped_lst)"
   ]
  },
  {
   "cell_type": "code",
   "execution_count": null,
   "id": "fb78dc5c",
   "metadata": {},
   "outputs": [],
   "source": [
    "print(dict1)"
   ]
  },
  {
   "cell_type": "code",
   "execution_count": null,
   "id": "3c15fbf6",
   "metadata": {},
   "outputs": [],
   "source": [
    "print(dict1)"
   ]
  },
  {
   "cell_type": "code",
   "execution_count": null,
   "id": "0c9518b6",
   "metadata": {},
   "outputs": [],
   "source": [
    "dict1[300] = '3xx'\n",
    "dict1[400] = '4xx'\n",
    "\n",
    "print(dict1)\n"
   ]
  },
  {
   "cell_type": "code",
   "execution_count": null,
   "id": "dacd8c9e",
   "metadata": {},
   "outputs": [],
   "source": [
    "pop_item = dict1.popitem()\n",
    "\n",
    "print(pop_item)\n",
    "print(dict1)"
   ]
  },
  {
   "cell_type": "code",
   "execution_count": null,
   "id": "9d25d422",
   "metadata": {},
   "outputs": [],
   "source": [
    "dict1['b'] = '2x'\n",
    "\n",
    "print(dict1)"
   ]
  },
  {
   "cell_type": "code",
   "execution_count": null,
   "id": "93a4da92",
   "metadata": {},
   "outputs": [],
   "source": [
    "pop_item = dict1.popitem()\n",
    "\n",
    "print(pop_item)\n",
    "print(dict1)"
   ]
  },
  {
   "cell_type": "code",
   "execution_count": null,
   "id": "f2b7d7f7",
   "metadata": {},
   "outputs": [],
   "source": [
    "keys = list(dict1.keys())[-1]\n",
    "print(keys)"
   ]
  },
  {
   "cell_type": "code",
   "execution_count": null,
   "id": "0d7fe8e5",
   "metadata": {},
   "outputs": [],
   "source": []
  },
  {
   "cell_type": "code",
   "execution_count": null,
   "id": "d995ae4c",
   "metadata": {},
   "outputs": [],
   "source": [
    "#Note how updating the value of a key is not considered as the last input."
   ]
  },
  {
   "cell_type": "code",
   "execution_count": null,
   "id": "4ffdf3dd",
   "metadata": {},
   "outputs": [],
   "source": [
    "#Zip function in Python. Can take several iterable objects and map them based on their positions. \n",
    "\n",
    "x = list('abcde')\n",
    "y = list(range(5))\n",
    "z = tuple('ABCDE')\n",
    "#dict1 = {'A': 'aBc', 'B':'aBc', 'C':'aBc', 'D':'aBc', 'E':'aBc'}\n",
    "\n",
    "print(x)\n",
    "print(y)\n",
    "print(z)\n",
    "#print(dict1)"
   ]
  },
  {
   "cell_type": "code",
   "execution_count": null,
   "id": "58666d1b",
   "metadata": {},
   "outputs": [],
   "source": [
    "zipd = zip(x,y,z)"
   ]
  },
  {
   "cell_type": "code",
   "execution_count": null,
   "id": "8d2d936c",
   "metadata": {},
   "outputs": [],
   "source": [
    "print(zipd)\n",
    "print(type(zipd))\n",
    "\n",
    "print(id(zipd))\n",
    "#Note that this is an iterator object - that means that once we have iterated over it - it is exhausted and empty. It cannot\n",
    "# be iterated over again. We will dig deeper into difference between iterable objects and iterators in the Built-In functions\n",
    "# part of the curriculum."
   ]
  },
  {
   "cell_type": "code",
   "execution_count": null,
   "id": "4604fd25",
   "metadata": {},
   "outputs": [],
   "source": [
    "for zipd1 in zipd:\n",
    "    print(zipd1)\n",
    "    print(type(zipd1))"
   ]
  },
  {
   "cell_type": "code",
   "execution_count": null,
   "id": "346e9eeb",
   "metadata": {},
   "outputs": [],
   "source": [
    "for zipd1 in zipd:\n",
    "    print(zipd1)\n",
    "    print(type(zipd1))"
   ]
  },
  {
   "cell_type": "code",
   "execution_count": null,
   "id": "0d5de8f5",
   "metadata": {},
   "outputs": [],
   "source": [
    "#We could also just simply convert the zip iterator object to a different datatype. \n",
    "\n",
    "zipdd = list(zip(x,y))\n",
    "\n",
    "print(zipdd)\n",
    "print(type(zipdd))"
   ]
  },
  {
   "cell_type": "code",
   "execution_count": null,
   "id": "1cb83f9b",
   "metadata": {},
   "outputs": [],
   "source": [
    "dictxxx = dict(zipdd)\n",
    "\n",
    "print(dictxxx)"
   ]
  },
  {
   "cell_type": "code",
   "execution_count": null,
   "id": "edfd6628",
   "metadata": {},
   "outputs": [],
   "source": [
    "#And now as many loops as we would like. \n",
    "\n",
    "for x in zipdd:\n",
    "    print(x)    "
   ]
  },
  {
   "cell_type": "code",
   "execution_count": null,
   "id": "fbd43809",
   "metadata": {},
   "outputs": [],
   "source": [
    "for x in zipdd:\n",
    "    print(x)"
   ]
  },
  {
   "cell_type": "code",
   "execution_count": null,
   "id": "3431a4ee",
   "metadata": {},
   "outputs": [],
   "source": [
    "#Zip function will return a zipped iterator object using the shortest iterable and corresponding values. The excess values\n",
    "# will be ignored. \n",
    "\n",
    "x = list('abcdefghij')\n",
    "y = list(range(5))\n",
    "z = list('ABCDE')\n",
    "zip_dict_short = list(zip(x,y,z))\n",
    "\n",
    "print(zip_dict_short)"
   ]
  },
  {
   "cell_type": "code",
   "execution_count": null,
   "id": "e7c1b29a",
   "metadata": {},
   "outputs": [],
   "source": [
    "#If the excess values are important use the zip_longest function from itertools module\n",
    "\n",
    "from itertools import zip_longest\n",
    "\n",
    "zip_dict_long = list(zip_longest(x,y))\n",
    "\n",
    "print(zip_dict_long)"
   ]
  },
  {
   "cell_type": "code",
   "execution_count": null,
   "id": "31038875",
   "metadata": {},
   "outputs": [],
   "source": [
    "zip_dict_long2 = list(zip_longest(y,x))\n",
    "\n",
    "print(zip_dict_long2)"
   ]
  },
  {
   "cell_type": "code",
   "execution_count": null,
   "id": "2084a637",
   "metadata": {},
   "outputs": [],
   "source": [
    "x = list(range(5))\n",
    "y = list('abcde')\n",
    "z = list(range(1,51,10))\n",
    "\n",
    "\n",
    "print(x)\n",
    "print(y)\n",
    "print(z)"
   ]
  },
  {
   "cell_type": "code",
   "execution_count": null,
   "id": "068eebfd",
   "metadata": {},
   "outputs": [],
   "source": [
    "lst4 = []\n",
    "\n",
    "lst4.append()\n",
    "\n",
    "print(lst4)"
   ]
  },
  {
   "cell_type": "code",
   "execution_count": null,
   "id": "8640ec6d",
   "metadata": {},
   "outputs": [],
   "source": [
    "lstzip = list(zip(x,y,z))\n",
    "\n",
    "print(lstzip)"
   ]
  },
  {
   "cell_type": "code",
   "execution_count": null,
   "id": "a76a4345",
   "metadata": {},
   "outputs": [],
   "source": [
    "#We can unzip zipped objects by passing a * in front of the zipped object. \n",
    "\n",
    "print(x)\n",
    "print(y)\n",
    "print(z)\n",
    "\n",
    "zipd = list(zip(x,y,z))\n",
    "\n",
    "print(zipd)"
   ]
  },
  {
   "cell_type": "code",
   "execution_count": null,
   "id": "e1bae701",
   "metadata": {},
   "outputs": [],
   "source": [
    "a,b,c,d,e = zipd\n",
    "\n",
    "print(a,b,c,d,e, sep = '\\n')"
   ]
  },
  {
   "cell_type": "code",
   "execution_count": null,
   "id": "7c5434c4",
   "metadata": {},
   "outputs": [],
   "source": [
    "p,q,r = zip(*zipd)\n",
    "\n",
    "print(p,q,r, sep = '\\n')"
   ]
  },
  {
   "cell_type": "code",
   "execution_count": null,
   "id": "ce4bb939",
   "metadata": {},
   "outputs": [],
   "source": [
    "print(len(b))"
   ]
  },
  {
   "cell_type": "code",
   "execution_count": null,
   "id": "4caecbcf",
   "metadata": {},
   "outputs": [],
   "source": [
    "#As we can see - the zip function returns a zipped object which has put the items at index no 0 of the first, second and\n",
    "# third iterable in tuples. We can use this in Dictionary comprehension to create dictionaries from iterables. \n",
    "\n",
    "x = list('abcde')\n",
    "y = list(range(5))\n",
    "\n",
    "dict1 = {key:value for key,value in zip(x,y)}\n",
    "\n",
    "print(dict1)"
   ]
  },
  {
   "cell_type": "code",
   "execution_count": null,
   "id": "064e6461",
   "metadata": {},
   "outputs": [],
   "source": [
    "#Or even easier, \n",
    "\n",
    "dict2 = dict(zip(x,y))\n",
    "\n",
    "print(dict2)"
   ]
  },
  {
   "cell_type": "code",
   "execution_count": null,
   "id": "52df7388",
   "metadata": {},
   "outputs": [],
   "source": [
    "lst1 = [1,2,3,4]\n",
    "lst2 = [10,20,30,40]\n",
    "lst3 = [100,200,300,400]\n",
    "\n",
    "zipd = list(zip(lst1,lst2,lst3))\n",
    "\n",
    "print(zipd)\n"
   ]
  },
  {
   "cell_type": "code",
   "execution_count": null,
   "id": "adf83806",
   "metadata": {},
   "outputs": [],
   "source": []
  },
  {
   "cell_type": "code",
   "execution_count": null,
   "id": "61450ee1",
   "metadata": {},
   "outputs": [],
   "source": []
  },
  {
   "cell_type": "code",
   "execution_count": null,
   "id": "2dc20bc0",
   "metadata": {},
   "outputs": [],
   "source": [
    "print(dict1)"
   ]
  },
  {
   "cell_type": "code",
   "execution_count": null,
   "id": "4a46ba50",
   "metadata": {},
   "outputs": [],
   "source": []
  },
  {
   "cell_type": "code",
   "execution_count": null,
   "id": "0160693f",
   "metadata": {},
   "outputs": [],
   "source": [
    "print(dict1.items())"
   ]
  },
  {
   "cell_type": "code",
   "execution_count": null,
   "id": "769b5583",
   "metadata": {},
   "outputs": [],
   "source": [
    "dict1[30] = 'Hi'\n",
    "dict1['x'] = 'Hello'"
   ]
  },
  {
   "cell_type": "code",
   "execution_count": null,
   "id": "7b0e14dd",
   "metadata": {},
   "outputs": [],
   "source": [
    "print(dict1)"
   ]
  },
  {
   "cell_type": "code",
   "execution_count": null,
   "id": "cadef73f",
   "metadata": {},
   "outputs": [],
   "source": [
    "#we can also do other operations with dictionary comprehension but it must follow the syntax \n",
    "# {key:value for key,value in iterable}\n",
    "\n",
    "dict2 = {x*3:v*2 for x,v in dict1.items()}\n",
    "print(dict2)"
   ]
  },
  {
   "cell_type": "code",
   "execution_count": null,
   "id": "3c61025b",
   "metadata": {},
   "outputs": [],
   "source": [
    "dict3 = {x:x*5 if x % 2 == 0 else x*3 for x in range(5)}\n",
    "\n",
    "print(dict3)"
   ]
  },
  {
   "cell_type": "code",
   "execution_count": null,
   "id": "066fab2b",
   "metadata": {},
   "outputs": [],
   "source": [
    "dict4 = {x:x*5 for x in 'abcde'}\n",
    "\n",
    "print(dict4)"
   ]
  },
  {
   "cell_type": "code",
   "execution_count": null,
   "id": "3918972b",
   "metadata": {},
   "outputs": [],
   "source": [
    "#If else conditions with dictionary comprehension. As with list comprehension we can use one if else condition with \n",
    "# a dictionary comprehension. (Note that nested ifs are considered 1 if condition). Basically, there is no elif possibility\n",
    "# with list, dictionary and set comprehensions.\n",
    "\n",
    "print(dict3)"
   ]
  },
  {
   "cell_type": "code",
   "execution_count": null,
   "id": "51a47489",
   "metadata": {},
   "outputs": [],
   "source": [
    "lst1 = [x*2 if x%2==0 else x*3 for x in range(5)]\n",
    "\n",
    "print(lst1)"
   ]
  },
  {
   "cell_type": "code",
   "execution_count": null,
   "id": "71e5ef77",
   "metadata": {},
   "outputs": [],
   "source": [
    "lst1 = list('abcdefghij')\n",
    "lst2 = list(range(10))\n",
    "\n",
    "dict3 = dict(zip(lst1,lst2))\n",
    "\n",
    "print(dict3)"
   ]
  },
  {
   "cell_type": "code",
   "execution_count": null,
   "id": "a1c7a3b7",
   "metadata": {},
   "outputs": [],
   "source": [
    "dict5 = {key:value for key,value in dict3.items() if value%2 == 0}\n",
    "\n",
    "print(dict5)"
   ]
  },
  {
   "cell_type": "code",
   "execution_count": null,
   "id": "1a8e908c",
   "metadata": {},
   "outputs": [],
   "source": [
    "#And as with lists - the syntax for if else changes (if else comes to the front of the for loop) in comprehension.\n",
    "\n",
    "print(dict3)"
   ]
  },
  {
   "cell_type": "code",
   "execution_count": null,
   "id": "17aca489",
   "metadata": {},
   "outputs": [],
   "source": [
    "print(list(dict3.items()))"
   ]
  },
  {
   "cell_type": "code",
   "execution_count": null,
   "id": "b6618101",
   "metadata": {},
   "outputs": [],
   "source": [
    "dict5 = {key: value*2 if value%2 == 1 else value for key,value in dict3.items()}\n",
    "\n",
    "print(dict5)"
   ]
  },
  {
   "cell_type": "code",
   "execution_count": null,
   "id": "e1e559f7",
   "metadata": {},
   "outputs": [],
   "source": [
    "#Aliasing, copying and Deepcopying in Dictionaries. \n",
    "\n",
    "#Effects of aliasing in Dictionaries is the same as for other datatypes. i.e. change in original object will affect the \n",
    "# aliased variable. \n",
    "\n",
    "#Effect of copying - (there is no copying by slicing in dictionaries) - Since the keys are anyway immutable, there are two\n",
    "# possibilities on the values. \n",
    "\n",
    "#1. If the value is an immutable object, then the effect of change on original does not affect a copied or deepcopied object.\n",
    "#2. However, if the value is mutable, then the effected change on original does effect the copy (but not the deepcopy) since\n",
    "# the copy also contains only a memory id reference to the same object.\n",
    "\n",
    "\n",
    "p = {'a':100, 'b':[1,2,3,4], 'c': 'xyz'}\n",
    "\n",
    "q = p\n",
    "r = p.copy()\n",
    "\n",
    "import copy\n",
    "\n",
    "s = copy.deepcopy(p)\n",
    "\n",
    "print(p,q,r,s, sep ='\\n')"
   ]
  },
  {
   "cell_type": "code",
   "execution_count": 63,
   "id": "480d45cc",
   "metadata": {},
   "outputs": [
    {
     "name": "stdout",
     "output_type": "stream",
     "text": [
      "3\n"
     ]
    }
   ],
   "source": [
    "dict1 = {'a':100, 'b':[1,2,3,4], 'c': 'xyz'}\n",
    "\n",
    "print(len(dict1))"
   ]
  },
  {
   "cell_type": "code",
   "execution_count": null,
   "id": "b8bf6c95",
   "metadata": {},
   "outputs": [],
   "source": [
    "p['a'] = 10101\n",
    "\n",
    "print(f'Original object p : {p}.', '\\n')\n",
    "print(f'Aliased variable q : {q}.', '\\n')\n",
    "print(f'Copy of p : {r}.', '\\n')\n",
    "print(f'Deepcopy of p : {s}.', '\\n')\n"
   ]
  },
  {
   "cell_type": "code",
   "execution_count": null,
   "id": "3dc8ac89",
   "metadata": {},
   "outputs": [],
   "source": [
    "p['b'][1] = 20202\n",
    "\n",
    "print(f'Original object p : {p}.', '\\n')\n",
    "print(f'Aliased variable q : {q}.', '\\n')\n",
    "print(f'Copy of p : {r}.', '\\n')\n",
    "print(f'Deepcopy of p : {s}.', '\\n')\n"
   ]
  },
  {
   "cell_type": "code",
   "execution_count": 65,
   "id": "c18e7f0f",
   "metadata": {},
   "outputs": [
    {
     "name": "stdout",
     "output_type": "stream",
     "text": [
      "{'e': 0, 'b': 1, 'd': 2, 'a': 3, 'c': 4}\n"
     ]
    }
   ],
   "source": [
    "dict1 = {'e': 0, 'b': 1, 'd': 2, 'a': 3, 'c': 4}\n",
    "\n",
    "print(dict1)"
   ]
  },
  {
   "cell_type": "code",
   "execution_count": 66,
   "id": "8d3e8042",
   "metadata": {},
   "outputs": [
    {
     "name": "stdout",
     "output_type": "stream",
     "text": [
      "{'e': 0, 'b': 1, 'd': 2, 'a': 3, 'c': 4}\n",
      "['a', 'b', 'c', 'd', 'e']\n"
     ]
    }
   ],
   "source": [
    "dict2 = sorted(dict1)\n",
    "\n",
    "print(dict1)\n",
    "print(dict2)"
   ]
  },
  {
   "cell_type": "code",
   "execution_count": 75,
   "id": "b746ab46",
   "metadata": {},
   "outputs": [
    {
     "name": "stdout",
     "output_type": "stream",
     "text": [
      "dict_items([('e', 3), ('b', 7), ('d', 2), ('a', 4), ('c', 1)])\n"
     ]
    }
   ],
   "source": [
    "#sorting on dictionaries\n",
    "\n",
    "dict1 = {'e': 3, 'b': 7, 'd': 2, 'a': 4, 'c': 1}\n",
    "\n",
    "print(dict1.items())"
   ]
  },
  {
   "cell_type": "code",
   "execution_count": 68,
   "id": "ea85f3b7",
   "metadata": {},
   "outputs": [
    {
     "name": "stdout",
     "output_type": "stream",
     "text": [
      "{'e': 0, 'b': 1, 'd': 2, 'a': 3, 'c': 4}\n"
     ]
    }
   ],
   "source": [
    "print(dict1)"
   ]
  },
  {
   "cell_type": "code",
   "execution_count": 76,
   "id": "04a19462",
   "metadata": {},
   "outputs": [
    {
     "name": "stdout",
     "output_type": "stream",
     "text": [
      "{'a': 4, 'b': 7, 'c': 1, 'd': 2, 'e': 3}\n"
     ]
    }
   ],
   "source": [
    "dict1sorted = dict(sorted(dict1.items()))\n",
    "\n",
    "print(dict1sorted)"
   ]
  },
  {
   "cell_type": "code",
   "execution_count": 78,
   "id": "5ca49cf4",
   "metadata": {},
   "outputs": [],
   "source": [
    "def sortp(x):\n",
    "    return x[1]"
   ]
  },
  {
   "cell_type": "code",
   "execution_count": 79,
   "id": "0452fe09",
   "metadata": {},
   "outputs": [
    {
     "name": "stdout",
     "output_type": "stream",
     "text": [
      "[('c', 1), ('d', 2), ('e', 3), ('a', 4), ('b', 7)]\n"
     ]
    }
   ],
   "source": [
    "dict1sortval = dict(sorted(dict1.items(), key = sortp)\n",
    "print(dict1sortval)"
   ]
  },
  {
   "cell_type": "code",
   "execution_count": null,
   "id": "08cb8d19",
   "metadata": {},
   "outputs": [],
   "source": []
  },
  {
   "cell_type": "code",
   "execution_count": null,
   "id": "2813d062",
   "metadata": {},
   "outputs": [],
   "source": []
  },
  {
   "cell_type": "code",
   "execution_count": null,
   "id": "ae384725",
   "metadata": {},
   "outputs": [],
   "source": []
  },
  {
   "cell_type": "code",
   "execution_count": null,
   "id": "6b93ad8d",
   "metadata": {},
   "outputs": [],
   "source": [
    "tup1 = ((10,100), (20,200), (11,111), (15,151))\n",
    "\n",
    "tup2 = tuple(sorted(tup1))\n",
    "\n",
    "print(tup2)"
   ]
  },
  {
   "cell_type": "code",
   "execution_count": null,
   "id": "4693face",
   "metadata": {},
   "outputs": [],
   "source": [
    "dict1 = dict(sorted(dict1.items()))\n",
    "\n",
    "print(dict1)"
   ]
  },
  {
   "cell_type": "code",
   "execution_count": null,
   "id": "e995b475",
   "metadata": {},
   "outputs": [],
   "source": [
    "dict2 = dict(sorted(dict1.items(), key = sort_dict))\n",
    "\n",
    "print(dict2)"
   ]
  },
  {
   "cell_type": "code",
   "execution_count": null,
   "id": "25a57783",
   "metadata": {},
   "outputs": [],
   "source": [
    "print(dir(dict))"
   ]
  },
  {
   "cell_type": "code",
   "execution_count": null,
   "id": "9983a0d8",
   "metadata": {},
   "outputs": [],
   "source": [
    "dict1 = dict(sorted(dict1.items()))\n",
    "\n",
    "print(dict1)"
   ]
  },
  {
   "cell_type": "code",
   "execution_count": null,
   "id": "03645b9d",
   "metadata": {},
   "outputs": [],
   "source": [
    "print(dict1.items())"
   ]
  },
  {
   "cell_type": "code",
   "execution_count": null,
   "id": "44a07875",
   "metadata": {},
   "outputs": [],
   "source": [
    "# first all the elements get passed to the funciton iteratively\n",
    "\n",
    "# output\n",
    "3,1,4,2,0\n",
    "\n",
    "# 0,1,2,3,4\n",
    "\n",
    "# Getting the corresponding element that gave the output above\n",
    "\n"
   ]
  },
  {
   "cell_type": "code",
   "execution_count": null,
   "id": "12702dbc",
   "metadata": {},
   "outputs": [],
   "source": [
    "def sort_dict(x):\n",
    "    return x[1]"
   ]
  },
  {
   "cell_type": "code",
   "execution_count": null,
   "id": "8b249eab",
   "metadata": {},
   "outputs": [],
   "source": [
    "dict2 = dict(sorted(dict1.items(), key = sort_dict))\n",
    "\n",
    "print(dict2)"
   ]
  },
  {
   "cell_type": "code",
   "execution_count": null,
   "id": "8f108f49",
   "metadata": {},
   "outputs": [],
   "source": [
    "print(dict1.items())\n",
    "print(dict1.values())\n",
    "print(dict1.keys())"
   ]
  },
  {
   "cell_type": "code",
   "execution_count": null,
   "id": "df01b6b4",
   "metadata": {},
   "outputs": [],
   "source": [
    "dict1 = dict(sorted(dict1.items(), key = sort_dict))\n",
    "\n",
    "\n",
    "print(dict1)"
   ]
  },
  {
   "cell_type": "code",
   "execution_count": null,
   "id": "a2e8b116",
   "metadata": {},
   "outputs": [],
   "source": [
    "dict2 = sorted(dict2)\n",
    "print(dict2)"
   ]
  },
  {
   "cell_type": "code",
   "execution_count": null,
   "id": "29a1135e",
   "metadata": {},
   "outputs": [],
   "source": [
    "lst1 = list('lkhga')\n",
    "lst2 = list('ANFTR')\n",
    "\n",
    "dict5 = dict(zip(lst1,lst2))\n",
    "\n",
    "print(dict5)"
   ]
  },
  {
   "cell_type": "code",
   "execution_count": null,
   "id": "813a285b",
   "metadata": {},
   "outputs": [],
   "source": [
    "keysdict = sorted(list(dict5.keys()))\n",
    "\n",
    "print(keysdict)"
   ]
  },
  {
   "cell_type": "code",
   "execution_count": null,
   "id": "fc00d201",
   "metadata": {},
   "outputs": [],
   "source": [
    "dict1 = {}\n",
    "\n",
    "for x in keysdict:\n",
    "    dict1[x] = dict5[x]\n",
    "    \n",
    "    \n",
    "print(dict1)"
   ]
  },
  {
   "cell_type": "code",
   "execution_count": null,
   "id": "afe2dd06",
   "metadata": {},
   "outputs": [],
   "source": [
    "valuedict = list(sorted(dict5.values()))\n",
    "\n",
    "print(valuedict)"
   ]
  },
  {
   "cell_type": "code",
   "execution_count": null,
   "id": "ffaf8923",
   "metadata": {},
   "outputs": [],
   "source": [
    "print(keysdict)"
   ]
  },
  {
   "cell_type": "code",
   "execution_count": null,
   "id": "3c433c1c",
   "metadata": {},
   "outputs": [],
   "source": [
    "dict2a = {}\n",
    "\n",
    "for x in valuedict:\n",
    "    if dict5[key]"
   ]
  },
  {
   "cell_type": "code",
   "execution_count": null,
   "id": "d12a0321",
   "metadata": {},
   "outputs": [],
   "source": [
    "def sort_dict(x):\n",
    "    return x[1]"
   ]
  },
  {
   "cell_type": "code",
   "execution_count": null,
   "id": "12cc6508",
   "metadata": {},
   "outputs": [],
   "source": [
    "print(list(dict5.items()))"
   ]
  },
  {
   "cell_type": "code",
   "execution_count": null,
   "id": "b92683ca",
   "metadata": {},
   "outputs": [],
   "source": [
    "print(sorted(dict5.items()))"
   ]
  },
  {
   "cell_type": "code",
   "execution_count": null,
   "id": "ad3e28a9",
   "metadata": {},
   "outputs": [],
   "source": [
    "A,N,F,T,R\n",
    "\n",
    "A,F,N,R,T\n",
    "\n"
   ]
  },
  {
   "cell_type": "code",
   "execution_count": null,
   "id": "a03155c4",
   "metadata": {},
   "outputs": [],
   "source": [
    "dict4 = dict(sorted(dict5.items()))\n",
    "\n",
    "print(dict4)"
   ]
  },
  {
   "cell_type": "code",
   "execution_count": null,
   "id": "8d0bc839",
   "metadata": {},
   "outputs": [],
   "source": [
    "print(sorted(dict1.items(), key = sort_dict))"
   ]
  },
  {
   "cell_type": "code",
   "execution_count": null,
   "id": "74dd8bcd",
   "metadata": {},
   "outputs": [],
   "source": [
    "dict2 = dict(sorted(dict5.items(), key = sort_dict))\n",
    "print(dict2)"
   ]
  },
  {
   "cell_type": "code",
   "execution_count": null,
   "id": "20dbae05",
   "metadata": {},
   "outputs": [],
   "source": [
    "# emp_lst = []\n",
    "# for i in dict1.items():\n",
    "#     emp_lst.append(sort_dict(i))\n",
    "    \n",
    "# print(emp_lst)"
   ]
  },
  {
   "cell_type": "code",
   "execution_count": null,
   "id": "e5ad473f",
   "metadata": {},
   "outputs": [],
   "source": [
    "{e : (e,0), b : (b,1), c:.....}\n",
    "    \n",
    "sorted(dict)"
   ]
  },
  {
   "cell_type": "code",
   "execution_count": null,
   "id": "68c5587b",
   "metadata": {},
   "outputs": [],
   "source": []
  },
  {
   "cell_type": "code",
   "execution_count": null,
   "id": "f31a4794",
   "metadata": {},
   "outputs": [],
   "source": []
  },
  {
   "cell_type": "code",
   "execution_count": null,
   "id": "73eb639a",
   "metadata": {},
   "outputs": [],
   "source": []
  },
  {
   "cell_type": "code",
   "execution_count": null,
   "id": "1597f58b",
   "metadata": {},
   "outputs": [],
   "source": [
    "print(dict1.items())"
   ]
  },
  {
   "cell_type": "code",
   "execution_count": null,
   "id": "3e507f69",
   "metadata": {},
   "outputs": [],
   "source": []
  },
  {
   "cell_type": "code",
   "execution_count": null,
   "id": "acf58a01",
   "metadata": {},
   "outputs": [],
   "source": [
    "dict_nit = list(dict1.items())\n",
    "print(dict_nit)"
   ]
  },
  {
   "cell_type": "code",
   "execution_count": null,
   "id": "95a266b2",
   "metadata": {},
   "outputs": [],
   "source": [
    "print(dict_nit[1][0])"
   ]
  },
  {
   "cell_type": "code",
   "execution_count": null,
   "id": "e9188748",
   "metadata": {},
   "outputs": [],
   "source": []
  },
  {
   "cell_type": "code",
   "execution_count": null,
   "id": "583d54e8",
   "metadata": {},
   "outputs": [],
   "source": [
    "print(dir(dict))"
   ]
  },
  {
   "cell_type": "code",
   "execution_count": null,
   "id": "7c9adfd0",
   "metadata": {},
   "outputs": [],
   "source": [
    "lst1 = list('xybctklmno')\n",
    "lst2 = list(range(10))\n",
    "\n",
    "dict4 = dict(zip(lst2, lst1))\n",
    "print(dict4)"
   ]
  },
  {
   "cell_type": "code",
   "execution_count": null,
   "id": "1e53761f",
   "metadata": {},
   "outputs": [],
   "source": [
    "print(dict3)"
   ]
  },
  {
   "cell_type": "code",
   "execution_count": null,
   "id": "00304bff",
   "metadata": {},
   "outputs": [],
   "source": []
  },
  {
   "cell_type": "code",
   "execution_count": null,
   "id": "8a4ed3ab",
   "metadata": {},
   "outputs": [],
   "source": [
    "dict3 = dict(sorted(dict1.items(), key = sort_dict))\n",
    "\n",
    "print(dict3)"
   ]
  },
  {
   "cell_type": "code",
   "execution_count": null,
   "id": "bb80c356",
   "metadata": {},
   "outputs": [],
   "source": [
    "print(dict2)"
   ]
  }
 ],
 "metadata": {
  "kernelspec": {
   "display_name": "Python 3 (ipykernel)",
   "language": "python",
   "name": "python3"
  },
  "language_info": {
   "codemirror_mode": {
    "name": "ipython",
    "version": 3
   },
   "file_extension": ".py",
   "mimetype": "text/x-python",
   "name": "python",
   "nbconvert_exporter": "python",
   "pygments_lexer": "ipython3",
   "version": "3.9.13"
  }
 },
 "nbformat": 4,
 "nbformat_minor": 5
}
