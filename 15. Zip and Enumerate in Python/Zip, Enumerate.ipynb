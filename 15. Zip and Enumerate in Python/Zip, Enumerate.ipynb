{
 "cells": [
  {
   "cell_type": "markdown",
   "id": "3a3bf132",
   "metadata": {},
   "source": [
    "### Enumerate, Zip functions, Dictionaries"
   ]
  },
  {
   "cell_type": "code",
   "execution_count": 2,
   "id": "87c63f6b",
   "metadata": {},
   "outputs": [
    {
     "name": "stdout",
     "output_type": "stream",
     "text": [
      "[(0, 'a'), (1, 'b'), (2, 'c'), (3, 'd'), (4, 'e'), (5, 'f'), (6, 'g'), (7, 'h'), (8, 'i'), (9, 'j')]\n"
     ]
    }
   ],
   "source": [
    "## Enumerate function\n",
    "# Adds a serial number <note the use of 'serial' number and not 'index'> to each element and gives the outputs as tuples. \n",
    "\n",
    "# It takes two parameters:\n",
    "\n",
    "#1. One iterable - mandatory - whose elements will be 'enumerated'\n",
    "#2. Starting number - optional - what number to start the enumeration from. If not, the default start is 0. \n",
    "lst1 = list('abcdefghij')\n",
    "\n",
    "enumlst1 = list(enumerate(lst1))\n",
    "\n",
    "print(enumlst1)\n",
    "\n"
   ]
  },
  {
   "cell_type": "code",
   "execution_count": 4,
   "id": "7df46a6e",
   "metadata": {},
   "outputs": [
    {
     "name": "stdout",
     "output_type": "stream",
     "text": [
      "<enumerate object at 0x0000018D98DBB140>\n"
     ]
    }
   ],
   "source": [
    "lst1 = list('abcdefghij')\n",
    "\n",
    "enumlst1 = enumerate(lst1)\n",
    "\n",
    "print(enumlst1)\n"
   ]
  },
  {
   "cell_type": "code",
   "execution_count": 3,
   "id": "559b45ff",
   "metadata": {},
   "outputs": [
    {
     "name": "stdout",
     "output_type": "stream",
     "text": [
      "(1000, 'a')\n",
      "(1001, 'b')\n",
      "(1002, 'c')\n",
      "(1003, 'd')\n",
      "(1004, 'e')\n",
      "(1005, 'f')\n",
      "(1006, 'g')\n",
      "(1007, 'h')\n",
      "(1008, 'i')\n",
      "(1009, 'j')\n"
     ]
    }
   ],
   "source": [
    "lst1 = list('abcdefghij')\n",
    "\n",
    "enumlst1 = enumerate(lst1, 1000)\n",
    "\n",
    "for elem in enumlst1:\n",
    "    print(elem)\n"
   ]
  },
  {
   "cell_type": "code",
   "execution_count": 10,
   "id": "d7fbe76d",
   "metadata": {},
   "outputs": [
    {
     "name": "stdout",
     "output_type": "stream",
     "text": [
      "(1000, 'a')\n",
      "(1001, 'b')\n",
      "(1002, 'c')\n",
      "(1003, 'd')\n",
      "(1004, 'e')\n",
      "(1005, 'f')\n",
      "(1006, 'g')\n",
      "(1007, 'h')\n",
      "(1008, 'i')\n",
      "(1009, 'j')\n"
     ]
    }
   ],
   "source": [
    "for elem in enumerate(lst1,1000):\n",
    "    print(elem)"
   ]
  },
  {
   "cell_type": "code",
   "execution_count": 6,
   "id": "999886a1",
   "metadata": {},
   "outputs": [
    {
     "name": "stdout",
     "output_type": "stream",
     "text": [
      "[(1, 'Mehak'), (2, 'Bharath'), (3, 'Rajnish'), (4, 'Monica'), (5, 'Rashmika')]\n"
     ]
    }
   ],
   "source": [
    "lstnames = ['Mehak','Bharath', 'Rajnish', 'Monica', 'Rashmika']\n",
    "\n",
    "rollnos = list(enumerate(lstnames,1))\n",
    "\n",
    "print(rollnos)"
   ]
  },
  {
   "cell_type": "code",
   "execution_count": 11,
   "id": "c1fb331a",
   "metadata": {},
   "outputs": [
    {
     "name": "stdout",
     "output_type": "stream",
     "text": [
      "[('Rashmika', 'S'), ('Sagar', 'D'), ('Ashish', 'K'), ('Sachin', 'P'), ('Manita', 'P')]\n"
     ]
    }
   ],
   "source": [
    "### Zip function\n",
    "\n",
    "# Zips the elements of multiple iterables together i.e. it takes the first element from each of the iterables passed as\n",
    "# arguments and puts them in a tuple, then the second element of each iterable and so on......\n",
    "\n",
    "# Parameters:\n",
    "\n",
    "# Infinite number of iterables to be zipped together (minimum 2)\n",
    "\n",
    "lstnames = ['Rashmika', 'Sagar', 'Ashish', 'Sachin', 'Manita']\n",
    "initials = ['S','D','K','P', 'P']\n",
    "rollnos = range(1,6)\n",
    "\n",
    "names_initials = list(zip(lstnames, initials))\n",
    "\n",
    "print(names_initials)"
   ]
  },
  {
   "cell_type": "code",
   "execution_count": 12,
   "id": "64a26504",
   "metadata": {},
   "outputs": [
    {
     "name": "stdout",
     "output_type": "stream",
     "text": [
      "[(1, 'Rashmika', 'S'), (2, 'Sagar', 'D'), (3, 'Ashish', 'K'), (4, 'Sachin', 'P'), (5, 'Manita', 'P')]\n"
     ]
    }
   ],
   "source": [
    "lstnames = ['Rashmika', 'Sagar', 'Ashish', 'Sachin', 'Manita']\n",
    "initials = ['S','D','K','P', 'P']\n",
    "rollnos = range(1,6)\n",
    "\n",
    "names_initials = list(zip(rollnos, lstnames, initials))\n",
    "\n",
    "print(names_initials)"
   ]
  },
  {
   "cell_type": "code",
   "execution_count": 22,
   "id": "765a0d83",
   "metadata": {},
   "outputs": [
    {
     "name": "stdout",
     "output_type": "stream",
     "text": [
      "[(1, 'Rashmika', 'S'), (2, 'Sagar', 'D'), (3, 'Ashish', 'K'), (4, 'Sachin', 'P'), (5, 'Manita', 'P')]\n"
     ]
    }
   ],
   "source": [
    "lstnames = ['Rashmika', 'Sagar', 'Ashish', 'Sachin', 'Manita', 'Monika', 'Rafiya']\n",
    "initials = ['S','D','K','P', 'P', 'H']\n",
    "rollnos = range(1,6)\n",
    "\n",
    "names_initials = list(zip(rollnos, lstnames, initials))\n",
    "print(names_initials)"
   ]
  },
  {
   "cell_type": "code",
   "execution_count": 20,
   "id": "87b13643",
   "metadata": {},
   "outputs": [
    {
     "data": {
      "text/plain": [
       "(2, 'Sagar', 'D')"
      ]
     },
     "execution_count": 20,
     "metadata": {},
     "output_type": "execute_result"
    }
   ],
   "source": [
    "names_initials[1]"
   ]
  },
  {
   "cell_type": "code",
   "execution_count": 15,
   "id": "ee6db510",
   "metadata": {},
   "outputs": [
    {
     "data": {
      "text/plain": [
       "[(1, 'Rashmika', 'S'), (2, 'Sagar', 'D'), (3, 'Ashish', 'K')]"
      ]
     },
     "execution_count": 15,
     "metadata": {},
     "output_type": "execute_result"
    }
   ],
   "source": [
    "names_initials[:3]"
   ]
  },
  {
   "cell_type": "code",
   "execution_count": 16,
   "id": "0a60d2bd",
   "metadata": {},
   "outputs": [
    {
     "name": "stdout",
     "output_type": "stream",
     "text": [
      "[(1, 'Rashmika', 'S'), (2, 'Monika', 'H'), (3, 'Ashish', 'K'), (4, 'Sachin', 'P'), (5, 'Manita', 'P')]\n"
     ]
    }
   ],
   "source": [
    "names_initials[1] = (2,'Monika','H')\n",
    "\n",
    "print(names_initials)"
   ]
  },
  {
   "cell_type": "code",
   "execution_count": 25,
   "id": "a89c6642",
   "metadata": {},
   "outputs": [
    {
     "name": "stdout",
     "output_type": "stream",
     "text": [
      "<itertools.zip_longest object at 0x0000018D98D83C20>\n"
     ]
    }
   ],
   "source": [
    "from itertools import zip_longest\n",
    "\n",
    "names_initials2 = zip_longest(rollnos, lstnames, initials)\n",
    "\n",
    "print(names_initials2)"
   ]
  },
  {
   "cell_type": "code",
   "execution_count": 26,
   "id": "204613a6",
   "metadata": {},
   "outputs": [
    {
     "name": "stdout",
     "output_type": "stream",
     "text": [
      "[(1, 'Rashmika', 'S'), (2, 'Sagar', 'D'), (3, 'Ashish', 'K'), (4, 'Sachin', 'P'), (5, 'Manita', 'P'), (None, 'Monika', 'H'), (None, 'Rafiya', None)]\n"
     ]
    }
   ],
   "source": [
    "names_initials2 = list(zip_longest(rollnos, lstnames, initials))\n",
    "\n",
    "print(names_initials2)"
   ]
  },
  {
   "cell_type": "code",
   "execution_count": 27,
   "id": "14e2b9d1",
   "metadata": {},
   "outputs": [
    {
     "name": "stdout",
     "output_type": "stream",
     "text": [
      "(1, 'Rashmika', 'S')\n",
      "(2, 'Sagar', 'D')\n",
      "(3, 'Ashish', 'K')\n",
      "(4, 'Sachin', 'P')\n",
      "(5, 'Manita', 'P')\n"
     ]
    }
   ],
   "source": [
    "a,b,c,d,e = names_initials\n",
    "\n",
    "print(a, b, c,d,e, sep = '\\n')"
   ]
  },
  {
   "cell_type": "code",
   "execution_count": 28,
   "id": "e7bfa37c",
   "metadata": {},
   "outputs": [
    {
     "name": "stdout",
     "output_type": "stream",
     "text": [
      "(1, 2, 3, 4, 5)\n",
      "('Rashmika', 'Sagar', 'Ashish', 'Sachin', 'Manita')\n",
      "('S', 'D', 'K', 'P', 'P')\n"
     ]
    }
   ],
   "source": [
    "x,y,z = zip(*names_initials)\n",
    "\n",
    "print(x)\n",
    "print(y)\n",
    "print(z)"
   ]
  },
  {
   "cell_type": "code",
   "execution_count": 29,
   "id": "0e331477",
   "metadata": {},
   "outputs": [
    {
     "name": "stdout",
     "output_type": "stream",
     "text": [
      "(1, 2, 3, 4, 5)\n",
      "('Rashmika', 'Sagar', 'Ashish', 'Sachin', 'Manita')\n",
      "('S', 'D', 'K', 'P', 'P')\n"
     ]
    }
   ],
   "source": [
    "rollnos, names, initials = zip(*names_initials)\n",
    "\n",
    "print(rollnos, names, initials, sep = '\\n')"
   ]
  },
  {
   "cell_type": "code",
   "execution_count": 30,
   "id": "59a7daae",
   "metadata": {},
   "outputs": [
    {
     "name": "stdout",
     "output_type": "stream",
     "text": [
      "(1, 2, 3, 4, 5, None, None)\n",
      "('Rashmika', 'Sagar', 'Ashish', 'Sachin', 'Manita', 'Monika', 'Rafiya')\n",
      "('S', 'D', 'K', 'P', 'P', 'H', None)\n"
     ]
    }
   ],
   "source": [
    "rollnos, names, initials = zip(*names_initials2)\n",
    "\n",
    "print(rollnos, names, initials, sep = '\\n')\n",
    "\n"
   ]
  },
  {
   "cell_type": "markdown",
   "id": "213ba558",
   "metadata": {},
   "source": [
    "### Dictionary Datatype"
   ]
  },
  {
   "cell_type": "code",
   "execution_count": 31,
   "id": "a2971f26",
   "metadata": {},
   "outputs": [
    {
     "name": "stdout",
     "output_type": "stream",
     "text": [
      "{'a': 100, 'b': 200, 'c': 300, 'd': 400}\n"
     ]
    }
   ],
   "source": [
    "# Dictionary datatype is used to store - key:value pairs. \n",
    "\n",
    "dict1 = {'a':100, 'b':200, 'c':300, 'd':400}\n",
    "\n",
    "print(dict1)"
   ]
  },
  {
   "cell_type": "code",
   "execution_count": 32,
   "id": "a074df86",
   "metadata": {},
   "outputs": [
    {
     "name": "stdout",
     "output_type": "stream",
     "text": [
      "200\n"
     ]
    }
   ],
   "source": [
    "print(dict1['b'])"
   ]
  },
  {
   "cell_type": "code",
   "execution_count": null,
   "id": "d4f9e512",
   "metadata": {},
   "outputs": [],
   "source": [
    "# Dictionaries are used to store pairs:\n",
    "\n",
    "# Employee ID : Name\n",
    "# State : Population\n",
    "# Name : Age\n",
    "# Subject : Marks\n",
    "# Institute : Course\n",
    "# Name : Gender\n",
    "# Player : Runs\n",
    "# Area : Pincode\n",
    "# Company : Designation\n",
    "# Menu : Price\n",
    "# DogName : Breed\n",
    "# Book : Author\n",
    "# Stock : Price (Dividend)\n",
    "# ElectronicItem : Brand\n",
    "# Movie : imdbRating\n"
   ]
  },
  {
   "cell_type": "code",
   "execution_count": null,
   "id": "825ef23c",
   "metadata": {},
   "outputs": [],
   "source": [
    "# Properties of dictionaries\n",
    "\n",
    "#1. Derived\n",
    "#2. Mutable datatype\n",
    "#3. Heterogenous\n",
    "  # - Keys - Keys MUST be IMMUTABLE and MUST be UNIQUE.\n",
    "  # - Values - Can be any datatype and are not necessarily unique(dictionaries themselves can be used as values)\n",
    "  # Key ----- > Value mapping is one way i.e. from key to value\n",
    "#4. Iterable (on keys by default, on values and key,value pairs by special functions)\n",
    "#5. Ordered (from Python 3.2)\n",
    "#6. Subscription - INTEGER Subscription is NOT supported. Only Key indexing is supported. "
   ]
  },
  {
   "cell_type": "code",
   "execution_count": null,
   "id": "574a4f28",
   "metadata": {},
   "outputs": [],
   "source": []
  },
  {
   "cell_type": "code",
   "execution_count": 33,
   "id": "66d2de1c",
   "metadata": {},
   "outputs": [
    {
     "data": {
      "text/plain": [
       "100"
      ]
     },
     "execution_count": 33,
     "metadata": {},
     "output_type": "execute_result"
    }
   ],
   "source": [
    "#dict1['a']"
   ]
  },
  {
   "cell_type": "code",
   "execution_count": null,
   "id": "fc58d3af",
   "metadata": {},
   "outputs": [],
   "source": [
    "# dict1 = {'a':200, 'b':200, 'c':200, 'd':200}\n",
    "\n",
    "# x = [1,2,3]\n",
    "# y = [1,2,4]\n",
    "# dict1 = [x:100, y : 200]\n",
    "\n",
    "# y[2] = 3\n",
    "\n"
   ]
  },
  {
   "cell_type": "code",
   "execution_count": 35,
   "id": "a5f8a93c",
   "metadata": {},
   "outputs": [
    {
     "name": "stdout",
     "output_type": "stream",
     "text": [
      "{'b': 600, 'd': 500, 'c': 200, 'a': 400}\n",
      "b\n",
      "d\n",
      "c\n",
      "a\n"
     ]
    }
   ],
   "source": [
    "dict1 = {'b': 600, 'd': 500, 'c': 200, 'a': 400}"
   ]
  },
  {
   "cell_type": "code",
   "execution_count": 36,
   "id": "e748fb9e",
   "metadata": {},
   "outputs": [
    {
     "data": {
      "text/plain": [
       "600"
      ]
     },
     "execution_count": 36,
     "metadata": {},
     "output_type": "execute_result"
    }
   ],
   "source": [
    "dict1['b']"
   ]
  },
  {
   "cell_type": "code",
   "execution_count": 37,
   "id": "a967d781",
   "metadata": {},
   "outputs": [
    {
     "ename": "KeyError",
     "evalue": "0",
     "output_type": "error",
     "traceback": [
      "\u001b[1;31m---------------------------------------------------------------------------\u001b[0m",
      "\u001b[1;31mKeyError\u001b[0m                                  Traceback (most recent call last)",
      "\u001b[1;32m~\\AppData\\Local\\Temp\\ipykernel_15832\\715492027.py\u001b[0m in \u001b[0;36m<module>\u001b[1;34m\u001b[0m\n\u001b[1;32m----> 1\u001b[1;33m \u001b[0mdict1\u001b[0m\u001b[1;33m[\u001b[0m\u001b[1;36m0\u001b[0m\u001b[1;33m]\u001b[0m\u001b[1;33m\u001b[0m\u001b[1;33m\u001b[0m\u001b[0m\n\u001b[0m",
      "\u001b[1;31mKeyError\u001b[0m: 0"
     ]
    }
   ],
   "source": [
    "dict1[0]"
   ]
  },
  {
   "cell_type": "code",
   "execution_count": 38,
   "id": "cc31cd3f",
   "metadata": {},
   "outputs": [
    {
     "name": "stdout",
     "output_type": "stream",
     "text": [
      "300\n"
     ]
    }
   ],
   "source": [
    "dict1 = {'b': 600, 'd': 500, 'c': 200, 'a': 400, 0 : 300}\n",
    "\n",
    "print(dict1[0])"
   ]
  },
  {
   "cell_type": "code",
   "execution_count": 39,
   "id": "207b9cb1",
   "metadata": {},
   "outputs": [
    {
     "ename": "TypeError",
     "evalue": "unhashable type: 'slice'",
     "output_type": "error",
     "traceback": [
      "\u001b[1;31m---------------------------------------------------------------------------\u001b[0m",
      "\u001b[1;31mTypeError\u001b[0m                                 Traceback (most recent call last)",
      "\u001b[1;32m~\\AppData\\Local\\Temp\\ipykernel_15832\\3538284911.py\u001b[0m in \u001b[0;36m<module>\u001b[1;34m\u001b[0m\n\u001b[1;32m----> 1\u001b[1;33m \u001b[0mdict1\u001b[0m\u001b[1;33m[\u001b[0m\u001b[1;34m'b'\u001b[0m\u001b[1;33m:\u001b[0m\u001b[1;34m'a'\u001b[0m\u001b[1;33m]\u001b[0m\u001b[1;33m\u001b[0m\u001b[1;33m\u001b[0m\u001b[0m\n\u001b[0m",
      "\u001b[1;31mTypeError\u001b[0m: unhashable type: 'slice'"
     ]
    }
   ],
   "source": [
    "dict1['b':'a']"
   ]
  },
  {
   "cell_type": "code",
   "execution_count": 40,
   "id": "fa703605",
   "metadata": {},
   "outputs": [
    {
     "ename": "TypeError",
     "evalue": "unhashable type: 'slice'",
     "output_type": "error",
     "traceback": [
      "\u001b[1;31m---------------------------------------------------------------------------\u001b[0m",
      "\u001b[1;31mTypeError\u001b[0m                                 Traceback (most recent call last)",
      "\u001b[1;32m~\\AppData\\Local\\Temp\\ipykernel_15832\\1023826512.py\u001b[0m in \u001b[0;36m<module>\u001b[1;34m\u001b[0m\n\u001b[0;32m      1\u001b[0m \u001b[0mdict1\u001b[0m \u001b[1;33m=\u001b[0m \u001b[1;33m{\u001b[0m\u001b[1;34m'a'\u001b[0m\u001b[1;33m:\u001b[0m \u001b[1;36m600\u001b[0m\u001b[1;33m,\u001b[0m \u001b[1;34m'b'\u001b[0m\u001b[1;33m:\u001b[0m \u001b[1;36m500\u001b[0m\u001b[1;33m,\u001b[0m \u001b[1;34m'c'\u001b[0m\u001b[1;33m:\u001b[0m \u001b[1;36m200\u001b[0m\u001b[1;33m,\u001b[0m \u001b[1;34m'd'\u001b[0m\u001b[1;33m:\u001b[0m \u001b[1;36m400\u001b[0m\u001b[1;33m}\u001b[0m\u001b[1;33m\u001b[0m\u001b[1;33m\u001b[0m\u001b[0m\n\u001b[0;32m      2\u001b[0m \u001b[1;33m\u001b[0m\u001b[0m\n\u001b[1;32m----> 3\u001b[1;33m \u001b[0mprint\u001b[0m\u001b[1;33m(\u001b[0m\u001b[0mdict1\u001b[0m\u001b[1;33m[\u001b[0m\u001b[1;34m'a'\u001b[0m\u001b[1;33m:\u001b[0m\u001b[1;34m'c'\u001b[0m\u001b[1;33m]\u001b[0m\u001b[1;33m)\u001b[0m\u001b[1;33m\u001b[0m\u001b[1;33m\u001b[0m\u001b[0m\n\u001b[0m",
      "\u001b[1;31mTypeError\u001b[0m: unhashable type: 'slice'"
     ]
    }
   ],
   "source": [
    "dict1 = {'a': 600, 'b': 500, 'c': 200, 'd': 400}\n",
    "\n",
    "print(dict1['a':'c'])\n"
   ]
  },
  {
   "cell_type": "code",
   "execution_count": 41,
   "id": "9a9b89d8",
   "metadata": {},
   "outputs": [
    {
     "name": "stdout",
     "output_type": "stream",
     "text": [
      "[0, 1, 2, 3, 4, 5, 6, 7, 8, 9]\n"
     ]
    }
   ],
   "source": [
    "range1 = range(10)\n",
    "\n",
    "lst1 = list(range1)\n",
    "\n",
    "print(lst1)"
   ]
  },
  {
   "cell_type": "code",
   "execution_count": 42,
   "id": "c568ed73",
   "metadata": {},
   "outputs": [
    {
     "name": "stdout",
     "output_type": "stream",
     "text": [
      "(0, 1, 2, 3, 4, 5, 6, 7, 8, 9)\n"
     ]
    }
   ],
   "source": [
    "tup1 = tuple(range1)\n",
    "\n",
    "print(tup1)"
   ]
  },
  {
   "cell_type": "code",
   "execution_count": null,
   "id": "c37c6ce7",
   "metadata": {},
   "outputs": [],
   "source": []
  },
  {
   "cell_type": "code",
   "execution_count": null,
   "id": "f395fddd",
   "metadata": {},
   "outputs": [],
   "source": []
  },
  {
   "cell_type": "code",
   "execution_count": 43,
   "id": "75c5db62",
   "metadata": {},
   "outputs": [
    {
     "name": "stdout",
     "output_type": "stream",
     "text": [
      "{'a': 100, 'b': 200, 'c': 300, 'd': 400}\n"
     ]
    }
   ],
   "source": [
    "# Dict function to initialise dictionaries\n",
    "\n",
    "# Dict function takes one iterable of infinite length. However, each element of the outer iterable must be another iterable \n",
    "# element of length 2 (first being the key, second being the value) - NO MORE NO LESS. \n",
    "\n",
    "\n",
    "dict1 = dict((('a',100),('b',200),('c',300),('d',400)))\n",
    "\n",
    "print(dict1)"
   ]
  },
  {
   "cell_type": "code",
   "execution_count": 45,
   "id": "596cebc3",
   "metadata": {},
   "outputs": [
    {
     "ename": "ValueError",
     "evalue": "dictionary update sequence element #0 has length 10; 2 is required",
     "output_type": "error",
     "traceback": [
      "\u001b[1;31m---------------------------------------------------------------------------\u001b[0m",
      "\u001b[1;31mValueError\u001b[0m                                Traceback (most recent call last)",
      "\u001b[1;32m~\\AppData\\Local\\Temp\\ipykernel_15832\\363296968.py\u001b[0m in \u001b[0;36m<module>\u001b[1;34m\u001b[0m\n\u001b[0;32m      2\u001b[0m \u001b[0mlst1\u001b[0m \u001b[1;33m=\u001b[0m \u001b[0mlist\u001b[0m\u001b[1;33m(\u001b[0m\u001b[1;34m'abcdefghij'\u001b[0m\u001b[1;33m)\u001b[0m\u001b[1;33m\u001b[0m\u001b[1;33m\u001b[0m\u001b[0m\n\u001b[0;32m      3\u001b[0m \u001b[1;33m\u001b[0m\u001b[0m\n\u001b[1;32m----> 4\u001b[1;33m \u001b[0mdict1\u001b[0m \u001b[1;33m=\u001b[0m \u001b[0mdict\u001b[0m\u001b[1;33m(\u001b[0m\u001b[1;33m(\u001b[0m\u001b[1;33m(\u001b[0m\u001b[0mrange1\u001b[0m\u001b[1;33m,\u001b[0m \u001b[0mlst1\u001b[0m\u001b[1;33m)\u001b[0m\u001b[1;33m)\u001b[0m\u001b[1;33m)\u001b[0m\u001b[1;33m\u001b[0m\u001b[1;33m\u001b[0m\u001b[0m\n\u001b[0m",
      "\u001b[1;31mValueError\u001b[0m: dictionary update sequence element #0 has length 10; 2 is required"
     ]
    }
   ],
   "source": [
    "range1 = range(10)\n",
    "lst1 = list('abcdefghij')\n",
    "\n",
    "dict1 = dict(((range1, lst1)))"
   ]
  },
  {
   "cell_type": "code",
   "execution_count": 46,
   "id": "96cbc6c6",
   "metadata": {},
   "outputs": [
    {
     "name": "stdout",
     "output_type": "stream",
     "text": [
      "{'a': 100, 'b': 200, 'c': 300, 'd': 400}\n"
     ]
    }
   ],
   "source": [
    "dict1 = dict([('a',100),('b',200),('c',300),('d',400)])\n",
    "\n",
    "print(dict1)\n"
   ]
  },
  {
   "cell_type": "code",
   "execution_count": 47,
   "id": "927ed8b1",
   "metadata": {},
   "outputs": [
    {
     "name": "stdout",
     "output_type": "stream",
     "text": [
      "{'a': 100, 'b': 200, 'c': 300, 'd': 400}\n"
     ]
    }
   ],
   "source": [
    "dict1 = dict((['a',100],['b',200],('c',300),('d',400)))\n",
    "\n",
    "print(dict1)\n"
   ]
  },
  {
   "cell_type": "code",
   "execution_count": 49,
   "id": "03eb66c6",
   "metadata": {},
   "outputs": [
    {
     "name": "stdout",
     "output_type": "stream",
     "text": [
      "{'a': 'b', 'c': 'd', 'e': 'f', 'g': 'h'}\n"
     ]
    }
   ],
   "source": [
    "dict1 = dict(('ab', 'cd','ef','gh'))\n",
    "\n",
    "print(dict1)"
   ]
  },
  {
   "cell_type": "code",
   "execution_count": 50,
   "id": "c8d16225",
   "metadata": {},
   "outputs": [
    {
     "name": "stdout",
     "output_type": "stream",
     "text": [
      "2\n"
     ]
    }
   ],
   "source": [
    "str1 = 'ab'\n",
    "\n",
    "print(len(str1))"
   ]
  },
  {
   "cell_type": "code",
   "execution_count": 51,
   "id": "5dbdc698",
   "metadata": {},
   "outputs": [
    {
     "name": "stdout",
     "output_type": "stream",
     "text": [
      "ab\n",
      "['a', 'b']\n"
     ]
    }
   ],
   "source": [
    "str1 = 'ab'\n",
    "lst1 = ['a','b']\n",
    "\n",
    "print(str1)\n",
    "print(lst1)"
   ]
  },
  {
   "cell_type": "code",
   "execution_count": 53,
   "id": "145d5632",
   "metadata": {},
   "outputs": [
    {
     "ename": "ValueError",
     "evalue": "dictionary update sequence element #0 has length 4; 2 is required",
     "output_type": "error",
     "traceback": [
      "\u001b[1;31m---------------------------------------------------------------------------\u001b[0m",
      "\u001b[1;31mValueError\u001b[0m                                Traceback (most recent call last)",
      "\u001b[1;32m~\\AppData\\Local\\Temp\\ipykernel_15832\\2755422906.py\u001b[0m in \u001b[0;36m<module>\u001b[1;34m\u001b[0m\n\u001b[1;32m----> 1\u001b[1;33m \u001b[0mdict1\u001b[0m \u001b[1;33m=\u001b[0m \u001b[0mdict\u001b[0m\u001b[1;33m(\u001b[0m\u001b[1;33m(\u001b[0m\u001b[1;33m[\u001b[0m\u001b[1;34m'a'\u001b[0m\u001b[1;33m,\u001b[0m\u001b[1;36m100\u001b[0m\u001b[1;33m,\u001b[0m\u001b[1;36m200\u001b[0m\u001b[1;33m,\u001b[0m\u001b[1;36m400\u001b[0m\u001b[1;33m]\u001b[0m\u001b[1;33m,\u001b[0m\u001b[1;33m[\u001b[0m\u001b[1;34m'b'\u001b[0m\u001b[1;33m,\u001b[0m\u001b[1;36m200\u001b[0m\u001b[1;33m]\u001b[0m\u001b[1;33m,\u001b[0m\u001b[1;33m(\u001b[0m\u001b[1;34m'c'\u001b[0m\u001b[1;33m,\u001b[0m\u001b[1;36m300\u001b[0m\u001b[1;33m)\u001b[0m\u001b[1;33m,\u001b[0m\u001b[1;33m(\u001b[0m\u001b[1;34m'd'\u001b[0m\u001b[1;33m,\u001b[0m\u001b[1;36m400\u001b[0m\u001b[1;33m)\u001b[0m\u001b[1;33m)\u001b[0m\u001b[1;33m)\u001b[0m\u001b[1;33m\u001b[0m\u001b[1;33m\u001b[0m\u001b[0m\n\u001b[0m",
      "\u001b[1;31mValueError\u001b[0m: dictionary update sequence element #0 has length 4; 2 is required"
     ]
    }
   ],
   "source": [
    "dict1 = dict((['a',100,200,400],['b',200],('c',300),('d',400)))"
   ]
  },
  {
   "cell_type": "code",
   "execution_count": 54,
   "id": "9d49e80c",
   "metadata": {},
   "outputs": [
    {
     "ename": "ValueError",
     "evalue": "dictionary update sequence element #0 has length 3; 2 is required",
     "output_type": "error",
     "traceback": [
      "\u001b[1;31m---------------------------------------------------------------------------\u001b[0m",
      "\u001b[1;31mValueError\u001b[0m                                Traceback (most recent call last)",
      "\u001b[1;32m~\\AppData\\Local\\Temp\\ipykernel_15832\\939618436.py\u001b[0m in \u001b[0;36m<module>\u001b[1;34m\u001b[0m\n\u001b[1;32m----> 1\u001b[1;33m \u001b[0mdict1\u001b[0m \u001b[1;33m=\u001b[0m \u001b[0mdict\u001b[0m\u001b[1;33m(\u001b[0m\u001b[1;33m(\u001b[0m\u001b[1;34m'abc'\u001b[0m\u001b[1;33m,\u001b[0m \u001b[1;34m'de'\u001b[0m\u001b[1;33m,\u001b[0m \u001b[1;34m'fg'\u001b[0m\u001b[1;33m,\u001b[0m\u001b[1;34m'hi'\u001b[0m\u001b[1;33m)\u001b[0m\u001b[1;33m)\u001b[0m\u001b[1;33m\u001b[0m\u001b[1;33m\u001b[0m\u001b[0m\n\u001b[0m",
      "\u001b[1;31mValueError\u001b[0m: dictionary update sequence element #0 has length 3; 2 is required"
     ]
    }
   ],
   "source": [
    "dict1 = dict(('abc', 'de', 'fg','hi'))"
   ]
  },
  {
   "cell_type": "code",
   "execution_count": 55,
   "id": "a6201fb9",
   "metadata": {},
   "outputs": [
    {
     "name": "stdout",
     "output_type": "stream",
     "text": [
      "{'a': 100, 'b': 200, 'c': 300, 'd': 400}\n"
     ]
    }
   ],
   "source": [
    "dict1 = {'a':100, 'b':200, 'c':300, 'd':400}\n",
    "\n",
    "print(dict1)"
   ]
  },
  {
   "cell_type": "code",
   "execution_count": 56,
   "id": "1cd8fcfc",
   "metadata": {},
   "outputs": [
    {
     "data": {
      "text/plain": [
       "100"
      ]
     },
     "execution_count": 56,
     "metadata": {},
     "output_type": "execute_result"
    }
   ],
   "source": [
    "dict1['a']"
   ]
  },
  {
   "cell_type": "code",
   "execution_count": 57,
   "id": "580f9c0a",
   "metadata": {},
   "outputs": [
    {
     "name": "stdout",
     "output_type": "stream",
     "text": [
      "{'a': 1000, 'b': 200, 'c': 300, 'd': 400}\n"
     ]
    }
   ],
   "source": [
    "dict1['a'] = 1000\n",
    "\n",
    "print(dict1)"
   ]
  },
  {
   "cell_type": "code",
   "execution_count": 58,
   "id": "aed40a28",
   "metadata": {},
   "outputs": [
    {
     "name": "stdout",
     "output_type": "stream",
     "text": [
      "{'a': 111, 'b': 200, 'c': 300, 'd': 400}\n"
     ]
    }
   ],
   "source": [
    "dict1 = {'a':100, 'b':200, 'c':300, 'd':400, 'a':111}\n",
    "\n",
    "print(dict1)\n",
    "\n",
    "# {'a':100}\n",
    "# {'a':100, 'b':200}\n",
    "# {'a':100, 'b':200, 'c':300}\n",
    "# {'a':100, 'b':200, 'c':300,'d':400}\n",
    "# {'a':111, 'b':200, 'c':300,'d':400}\n",
    "\n"
   ]
  },
  {
   "cell_type": "code",
   "execution_count": 59,
   "id": "5b37fdce",
   "metadata": {},
   "outputs": [
    {
     "name": "stdout",
     "output_type": "stream",
     "text": [
      "{'a': 111, 'b': 200, 'c': 300, 'd': 400}\n"
     ]
    }
   ],
   "source": [
    "dict1 = dict((['a',100],['b',200],('c',300),('d',400), ('a',111)))\n",
    "\n",
    "print(dict1)\n"
   ]
  },
  {
   "cell_type": "code",
   "execution_count": 60,
   "id": "6de4bbfe",
   "metadata": {},
   "outputs": [
    {
     "ename": "KeyError",
     "evalue": "'e'",
     "output_type": "error",
     "traceback": [
      "\u001b[1;31m---------------------------------------------------------------------------\u001b[0m",
      "\u001b[1;31mKeyError\u001b[0m                                  Traceback (most recent call last)",
      "\u001b[1;32m~\\AppData\\Local\\Temp\\ipykernel_15832\\3285641125.py\u001b[0m in \u001b[0;36m<module>\u001b[1;34m\u001b[0m\n\u001b[1;32m----> 1\u001b[1;33m \u001b[0mdict1\u001b[0m\u001b[1;33m[\u001b[0m\u001b[1;34m'e'\u001b[0m\u001b[1;33m]\u001b[0m\u001b[1;33m\u001b[0m\u001b[1;33m\u001b[0m\u001b[0m\n\u001b[0m",
      "\u001b[1;31mKeyError\u001b[0m: 'e'"
     ]
    }
   ],
   "source": [
    "dict1['e']"
   ]
  },
  {
   "cell_type": "code",
   "execution_count": 61,
   "id": "1ecbc3ec",
   "metadata": {},
   "outputs": [
    {
     "name": "stdout",
     "output_type": "stream",
     "text": [
      "{'a': 111, 'b': 200, 'c': 300, 'd': 400, 'e': 500}\n"
     ]
    }
   ],
   "source": [
    "dict1['e'] = 500\n",
    "\n",
    "print(dict1)"
   ]
  },
  {
   "cell_type": "code",
   "execution_count": null,
   "id": "0ef2e96e",
   "metadata": {},
   "outputs": [],
   "source": [
    "# Subscription using key indexing and assignment. \n",
    "\n",
    "# Key subscription\n",
    "\n",
    "# If key exists - outputs the value\n",
    "# If key does not exist - throws a key error\n",
    "\n",
    "# Key value assignment\n",
    "\n",
    "# If key exists - updates the value of existing key\n",
    "# If key does not exist - adds key value pair to the dictionary. "
   ]
  },
  {
   "cell_type": "code",
   "execution_count": null,
   "id": "8a5d3b92",
   "metadata": {},
   "outputs": [],
   "source": [
    "lstnames = ['Rashmika', 'Sagar', 'Ashish', 'Sachin', 'Manita']\n",
    "initials = ['S','D','K','P', 'P']\n",
    "rollnos = range(1,6)\n"
   ]
  },
  {
   "cell_type": "code",
   "execution_count": 62,
   "id": "2953e10e",
   "metadata": {},
   "outputs": [
    {
     "name": "stdout",
     "output_type": "stream",
     "text": [
      "[('Rashmika', 'S'), ('Sagar', 'D'), ('Ashish', 'K'), ('Sachin', 'P'), ('Manita', 'P'), ('Monika', 'H'), ('Rafiya', None)]\n"
     ]
    }
   ],
   "source": [
    "zip1 = list(zip(lstnames, initials))\n",
    "\n",
    "print(zip1)"
   ]
  },
  {
   "cell_type": "code",
   "execution_count": 63,
   "id": "c244b838",
   "metadata": {},
   "outputs": [
    {
     "name": "stdout",
     "output_type": "stream",
     "text": [
      "{'Rashmika': 'S', 'Sagar': 'D', 'Ashish': 'K', 'Sachin': 'P', 'Manita': 'P', 'Monika': 'H', 'Rafiya': None}\n"
     ]
    }
   ],
   "source": [
    "dict1 = dict(zip(lstnames, initials))\n",
    "\n",
    "print(dict1)"
   ]
  },
  {
   "cell_type": "code",
   "execution_count": 64,
   "id": "e9e3b766",
   "metadata": {},
   "outputs": [
    {
     "name": "stdout",
     "output_type": "stream",
     "text": [
      "{1: 'Rashmika', 2: 'Sagar', 3: 'Ashish', 4: 'Sachin', 5: 'Manita', None: 'Rafiya'}\n"
     ]
    }
   ],
   "source": [
    "dictrollnos = dict(zip(rollnos, lstnames))\n",
    "\n",
    "print(dictrollnos)"
   ]
  },
  {
   "cell_type": "code",
   "execution_count": 65,
   "id": "1a128a8a",
   "metadata": {},
   "outputs": [
    {
     "name": "stdout",
     "output_type": "stream",
     "text": [
      "{1: 'Rashmika', 2: 'Sagar', 3: 'Ashish', 4: 'Sachin', 5: 'Manita', 6: 'Monika', 7: 'Rafiya'}\n"
     ]
    }
   ],
   "source": [
    "dictrollnos2 = dict(enumerate(lstnames,1))\n",
    "\n",
    "print(dictrollnos2)"
   ]
  },
  {
   "cell_type": "code",
   "execution_count": 66,
   "id": "792b7658",
   "metadata": {},
   "outputs": [
    {
     "name": "stdout",
     "output_type": "stream",
     "text": [
      "{'a': 100, 'b': 200, 'c': 300}\n"
     ]
    }
   ],
   "source": [
    "dict1 = dict({'a':100,'b':200, 'c':300})\n",
    "\n",
    "print(dict1)"
   ]
  },
  {
   "cell_type": "code",
   "execution_count": 10,
   "id": "730176a3",
   "metadata": {},
   "outputs": [
    {
     "name": "stdout",
     "output_type": "stream",
     "text": [
      "['__class__', '__class_getitem__', '__contains__', '__delattr__', '__delitem__', '__dir__', '__doc__', '__eq__', '__format__', '__ge__', '__getattribute__', '__getitem__', '__gt__', '__hash__', '__init__', '__init_subclass__', '__ior__', '__iter__', '__le__', '__len__', '__lt__', '__ne__', '__new__', '__or__', '__reduce__', '__reduce_ex__', '__repr__', '__reversed__', '__ror__', '__setattr__', '__setitem__', '__sizeof__', '__str__', '__subclasshook__', 'clear', 'copy', 'fromkeys', 'get', 'items', 'keys', 'pop', 'popitem', 'setdefault', 'update', 'values']\n"
     ]
    }
   ],
   "source": [
    "print(dir(dict))"
   ]
  },
  {
   "cell_type": "code",
   "execution_count": 96,
   "id": "ab238961",
   "metadata": {},
   "outputs": [],
   "source": [
    "# Clear - X\n",
    "# copy - X\n",
    "# fromkeys - X\n",
    "# get - X\n",
    "# items - X\n",
    "# keys - X\n",
    "# pop - X\n",
    "# popitem - X\n",
    "# setdefault - X\n",
    "# update - X\n",
    "# values - X"
   ]
  },
  {
   "cell_type": "code",
   "execution_count": null,
   "id": "dccef0fa",
   "metadata": {},
   "outputs": [],
   "source": [
    "# fromkeys can be used to create a dictionary from a single iterable. The elements of the iterable become the keys and \n",
    "# values are set by default to None but can be provided. Only a SINGLE value can be provided which will become the value for\n",
    "# ALL the keys. \n",
    "\n",
    "# If the value provided to the fromkeys method is a mutable object, any change to the mutable object will reflect in ALL \n",
    "# the values. \n",
    "\n",
    "# It takes two parameters:\n",
    "#1. Iterable - Mandatory - the elements of which will become the keys of the dictionary\n",
    "#2. Value - Default is None. If provided, ALL the values will be this one value."
   ]
  },
  {
   "cell_type": "code",
   "execution_count": 15,
   "id": "45c81aee",
   "metadata": {},
   "outputs": [
    {
     "name": "stdout",
     "output_type": "stream",
     "text": [
      "['a', 'b', 'c', 'd', 'e']\n"
     ]
    }
   ],
   "source": [
    "lst1 = list('abcde')\n",
    "\n",
    "print(lst1)"
   ]
  },
  {
   "cell_type": "code",
   "execution_count": 16,
   "id": "2040fa9c",
   "metadata": {},
   "outputs": [
    {
     "name": "stdout",
     "output_type": "stream",
     "text": [
      "{'a': None, 'b': None, 'c': None, 'd': None, 'e': None}\n"
     ]
    }
   ],
   "source": [
    "dict1 = dict.fromkeys(lst1)\n",
    "\n",
    "print(dict1)"
   ]
  },
  {
   "cell_type": "code",
   "execution_count": 25,
   "id": "564f5c2b",
   "metadata": {},
   "outputs": [
    {
     "name": "stdout",
     "output_type": "stream",
     "text": [
      "{'a': 100, 'b': 100, 'c': 100, 'd': 100, 'e': 100}\n"
     ]
    }
   ],
   "source": [
    "dict2 = dict.fromkeys(lst1, 100)\n",
    "\n",
    "print(dict2)"
   ]
  },
  {
   "cell_type": "code",
   "execution_count": 18,
   "id": "476dec8f",
   "metadata": {},
   "outputs": [
    {
     "name": "stdout",
     "output_type": "stream",
     "text": [
      "{'a': [10, 20, 30, 40, 50], 'b': [10, 20, 30, 40, 50], 'c': [10, 20, 30, 40, 50], 'd': [10, 20, 30, 40, 50], 'e': [10, 20, 30, 40, 50]}\n"
     ]
    }
   ],
   "source": [
    "dict3 = dict.fromkeys(lst1, [10,20,30,40,50])\n",
    "\n",
    "print(dict3)"
   ]
  },
  {
   "cell_type": "code",
   "execution_count": 19,
   "id": "92a7d082",
   "metadata": {},
   "outputs": [
    {
     "name": "stdout",
     "output_type": "stream",
     "text": [
      "{'a': [100, 200, 300], 'b': [100, 200, 300], 'c': [100, 200, 300], 'd': [100, 200, 300], 'e': [100, 200, 300]}\n"
     ]
    }
   ],
   "source": [
    "x = [100,200,300]\n",
    "\n",
    "dict4 = dict.fromkeys(lst1, x)\n",
    "\n",
    "print(dict4)"
   ]
  },
  {
   "cell_type": "code",
   "execution_count": 20,
   "id": "b8d8ae75",
   "metadata": {},
   "outputs": [
    {
     "name": "stdout",
     "output_type": "stream",
     "text": [
      "{'a': [111, 200, 300], 'b': [111, 200, 300], 'c': [111, 200, 300], 'd': [111, 200, 300], 'e': [111, 200, 300]}\n"
     ]
    }
   ],
   "source": [
    "x[0] = 111\n",
    "\n",
    "print(dict4)"
   ]
  },
  {
   "cell_type": "code",
   "execution_count": null,
   "id": "db70a8f3",
   "metadata": {},
   "outputs": [],
   "source": [
    "# clear method - clears the dictionary"
   ]
  },
  {
   "cell_type": "code",
   "execution_count": 22,
   "id": "70207dae",
   "metadata": {},
   "outputs": [
    {
     "name": "stdout",
     "output_type": "stream",
     "text": [
      "1982702862720\n",
      "{'a': None, 'b': None, 'c': None, 'd': None, 'e': None}\n"
     ]
    }
   ],
   "source": [
    "print(id(dict1))\n",
    "print(dict1)"
   ]
  },
  {
   "cell_type": "code",
   "execution_count": 23,
   "id": "ca1a6166",
   "metadata": {},
   "outputs": [
    {
     "name": "stdout",
     "output_type": "stream",
     "text": [
      "{}\n",
      "1982702862720\n"
     ]
    }
   ],
   "source": [
    "dict1.clear()\n",
    "print(dict1)\n",
    "print(id(dict1))"
   ]
  },
  {
   "cell_type": "code",
   "execution_count": 24,
   "id": "13e6acea",
   "metadata": {},
   "outputs": [
    {
     "name": "stdout",
     "output_type": "stream",
     "text": [
      "None\n"
     ]
    }
   ],
   "source": [
    "x = dict1.clear()\n",
    "\n",
    "print(x)"
   ]
  },
  {
   "cell_type": "code",
   "execution_count": null,
   "id": "441c01a3",
   "metadata": {},
   "outputs": [],
   "source": [
    "# copy - Copies the original dictionary and returns a new object"
   ]
  },
  {
   "cell_type": "code",
   "execution_count": 26,
   "id": "27de9ee7",
   "metadata": {},
   "outputs": [
    {
     "name": "stdout",
     "output_type": "stream",
     "text": [
      "{'a': 100, 'b': 100, 'c': 100, 'd': 100, 'e': 100}\n"
     ]
    }
   ],
   "source": [
    "dict2a = dict2.copy()\n",
    "\n",
    "print(dict2a)"
   ]
  },
  {
   "cell_type": "code",
   "execution_count": 27,
   "id": "d1b9b4e5",
   "metadata": {},
   "outputs": [
    {
     "name": "stdout",
     "output_type": "stream",
     "text": [
      "1982703023104\n",
      "1982703100160\n"
     ]
    }
   ],
   "source": [
    "print(id(dict2))\n",
    "print(id(dict2a))"
   ]
  },
  {
   "cell_type": "code",
   "execution_count": 28,
   "id": "50d6ab78",
   "metadata": {},
   "outputs": [
    {
     "name": "stdout",
     "output_type": "stream",
     "text": [
      "{'a': [10, 20, 30], 'b': [10, 20, 30], 'c': [10, 20, 30], 'd': [10, 20, 30], 'e': [10, 20, 30]}\n"
     ]
    }
   ],
   "source": [
    "dict2 = dict.fromkeys(lst1, [10,20,30])\n",
    "\n",
    "print(dict2)"
   ]
  },
  {
   "cell_type": "code",
   "execution_count": 29,
   "id": "20546e65",
   "metadata": {},
   "outputs": [
    {
     "name": "stdout",
     "output_type": "stream",
     "text": [
      "{'a': [10, 20, 30], 'b': [10, 20, 30], 'c': [10, 20, 30], 'd': [10, 20, 30], 'e': [10, 20, 30]}\n",
      "{'a': [10, 20, 30], 'b': [10, 20, 30], 'c': [10, 20, 30], 'd': [10, 20, 30], 'e': [10, 20, 30]}\n"
     ]
    }
   ],
   "source": [
    "dict2a = dict2.copy()\n",
    "\n",
    "print(dict2)\n",
    "print(dict2a)"
   ]
  },
  {
   "cell_type": "code",
   "execution_count": 30,
   "id": "50e45968",
   "metadata": {},
   "outputs": [
    {
     "name": "stdout",
     "output_type": "stream",
     "text": [
      "{'a': [101, 20, 30], 'b': [101, 20, 30], 'c': [101, 20, 30], 'd': [101, 20, 30], 'e': [101, 20, 30]}\n",
      "{'a': [101, 20, 30], 'b': [101, 20, 30], 'c': [101, 20, 30], 'd': [101, 20, 30], 'e': [101, 20, 30]}\n"
     ]
    }
   ],
   "source": [
    "dict2['a'][0] = 101\n",
    "\n",
    "print(dict2)\n",
    "print(dict2a)"
   ]
  },
  {
   "cell_type": "code",
   "execution_count": null,
   "id": "62b6ed9b",
   "metadata": {},
   "outputs": [],
   "source": [
    "# dict2 = {memida:memidlstX, memidb : memidlstx.....}\n",
    "\n",
    "# dict2a = {memida:memidlstX, memidb : memidlstX....}"
   ]
  },
  {
   "cell_type": "code",
   "execution_count": null,
   "id": "e80ca9ab",
   "metadata": {},
   "outputs": [],
   "source": [
    "# get method - is used to get the value of the specified key. Unlike the subscription syntax, if key is not found, get \n",
    "# method does NOT throw an error and stop the program. It returns None by default and if the optional return value provided,\n",
    "# then returns the value.\n",
    "\n",
    "# It takes two parameters:\n",
    "# 1. key to look for - Mandatory. \n",
    "# 2. Value - Default is None. If provided AND key is not found, Value specified in function argument is returned."
   ]
  },
  {
   "cell_type": "code",
   "execution_count": 38,
   "id": "5cf2f485",
   "metadata": {},
   "outputs": [
    {
     "name": "stdout",
     "output_type": "stream",
     "text": [
      "{'a': 0, 'b': 1, 'c': 2, 'd': 3, 'e': 4}\n"
     ]
    }
   ],
   "source": [
    "dict1 = dict(zip(list('abcde'),range(5)))\n",
    "\n",
    "print(dict1)"
   ]
  },
  {
   "cell_type": "code",
   "execution_count": 33,
   "id": "ad4b3354",
   "metadata": {},
   "outputs": [
    {
     "ename": "KeyError",
     "evalue": "'B'",
     "output_type": "error",
     "traceback": [
      "\u001b[1;31m---------------------------------------------------------------------------\u001b[0m",
      "\u001b[1;31mKeyError\u001b[0m                                  Traceback (most recent call last)",
      "\u001b[1;32m~\\AppData\\Local\\Temp\\ipykernel_17064\\136108862.py\u001b[0m in \u001b[0;36m<module>\u001b[1;34m\u001b[0m\n\u001b[1;32m----> 1\u001b[1;33m \u001b[0mdict1\u001b[0m\u001b[1;33m[\u001b[0m\u001b[1;34m'B'\u001b[0m\u001b[1;33m]\u001b[0m\u001b[1;33m\u001b[0m\u001b[1;33m\u001b[0m\u001b[0m\n\u001b[0m",
      "\u001b[1;31mKeyError\u001b[0m: 'B'"
     ]
    }
   ],
   "source": [
    "dict1['B']"
   ]
  },
  {
   "cell_type": "code",
   "execution_count": 34,
   "id": "ac0b5868",
   "metadata": {},
   "outputs": [
    {
     "name": "stdout",
     "output_type": "stream",
     "text": [
      "1\n"
     ]
    }
   ],
   "source": [
    "var1 = dict1.get('b')\n",
    "\n",
    "print(var1)"
   ]
  },
  {
   "cell_type": "code",
   "execution_count": 35,
   "id": "1a682a1b",
   "metadata": {},
   "outputs": [
    {
     "name": "stdout",
     "output_type": "stream",
     "text": [
      "None\n"
     ]
    }
   ],
   "source": [
    "var1 = dict1.get('B')\n",
    "\n",
    "print(var1)"
   ]
  },
  {
   "cell_type": "code",
   "execution_count": 36,
   "id": "4132f01e",
   "metadata": {},
   "outputs": [
    {
     "name": "stdout",
     "output_type": "stream",
     "text": [
      "Username not found. Please recheck and enter correct user name.\n"
     ]
    }
   ],
   "source": [
    "var1 = dict1.get('B', 'Username not found. Please recheck and enter correct user name.')\n",
    "\n",
    "print(var1)"
   ]
  },
  {
   "cell_type": "code",
   "execution_count": 37,
   "id": "6f1d9be7",
   "metadata": {},
   "outputs": [
    {
     "name": "stdout",
     "output_type": "stream",
     "text": [
      "1\n"
     ]
    }
   ],
   "source": [
    "var1 = dict1.get('b', 'Username not found. Please recheck and enter correct user name.')\n",
    "\n",
    "print(var1)"
   ]
  },
  {
   "cell_type": "code",
   "execution_count": null,
   "id": "563f773d",
   "metadata": {},
   "outputs": [],
   "source": [
    "# pop method and popitem method\n",
    "\n",
    "# Pop method - pops the given key along with its value. It returns the value of the popped key. \n",
    "\n",
    "# It takes two parameters\n",
    "\n",
    "#1. Key - Mandatory - Key to look for.\n",
    "#2. Return value - Optional. \n",
    "#   - If NO return value provided AND the key is not found, then the function returns an error. \n",
    "#   - If return value is provided AND the key is not found, then returns the provided default return value. \n",
    "\n",
    "# popitem method - pops the LAST key of the dictionary along with its value and returns the (key,value) as a tuple of the\n",
    "# popped key. \n",
    "\n",
    "# Take NO parameters! Always, LAST element."
   ]
  },
  {
   "cell_type": "code",
   "execution_count": 43,
   "id": "ef9b7a2f",
   "metadata": {},
   "outputs": [
    {
     "name": "stdout",
     "output_type": "stream",
     "text": [
      "{'a': 0, 'b': 1, 'c': 2, 'd': 3, 'e': 4}\n"
     ]
    }
   ],
   "source": [
    "dict1 = dict(zip(list('abcde'), range(5)))\n",
    "\n",
    "print(dict1)"
   ]
  },
  {
   "cell_type": "code",
   "execution_count": 39,
   "id": "f917d11b",
   "metadata": {},
   "outputs": [
    {
     "name": "stdout",
     "output_type": "stream",
     "text": [
      "{'a': 0, 'b': 1, 'c': 2, 'd': 3, 'e': 4}\n"
     ]
    }
   ],
   "source": [
    "print(dict1)"
   ]
  },
  {
   "cell_type": "code",
   "execution_count": 40,
   "id": "6f766eab",
   "metadata": {},
   "outputs": [
    {
     "name": "stdout",
     "output_type": "stream",
     "text": [
      "{'b': 1, 'c': 2, 'd': 3, 'e': 4}\n",
      "0\n"
     ]
    }
   ],
   "source": [
    "var1 = dict1.pop('a')\n",
    "\n",
    "print(dict1)\n",
    "print(var1)"
   ]
  },
  {
   "cell_type": "code",
   "execution_count": 42,
   "id": "8d397cbb",
   "metadata": {},
   "outputs": [
    {
     "name": "stdout",
     "output_type": "stream",
     "text": [
      "{'a': 0, 'b': 1, 'c': 2, 'd': 3}\n",
      "('e', 4)\n"
     ]
    }
   ],
   "source": [
    "var2 = dict1.popitem()\n",
    "\n",
    "print(dict1)\n",
    "print(var2)"
   ]
  },
  {
   "cell_type": "code",
   "execution_count": 44,
   "id": "e6ec301c",
   "metadata": {},
   "outputs": [
    {
     "ename": "KeyError",
     "evalue": "'A'",
     "output_type": "error",
     "traceback": [
      "\u001b[1;31m---------------------------------------------------------------------------\u001b[0m",
      "\u001b[1;31mKeyError\u001b[0m                                  Traceback (most recent call last)",
      "\u001b[1;32m~\\AppData\\Local\\Temp\\ipykernel_17064\\2753395161.py\u001b[0m in \u001b[0;36m<module>\u001b[1;34m\u001b[0m\n\u001b[1;32m----> 1\u001b[1;33m \u001b[0mvar1\u001b[0m \u001b[1;33m=\u001b[0m \u001b[0mdict1\u001b[0m\u001b[1;33m.\u001b[0m\u001b[0mpop\u001b[0m\u001b[1;33m(\u001b[0m\u001b[1;34m'A'\u001b[0m\u001b[1;33m)\u001b[0m\u001b[1;33m\u001b[0m\u001b[1;33m\u001b[0m\u001b[0m\n\u001b[0m\u001b[0;32m      2\u001b[0m \u001b[1;33m\u001b[0m\u001b[0m\n\u001b[0;32m      3\u001b[0m \u001b[0mprint\u001b[0m\u001b[1;33m(\u001b[0m\u001b[0mdict1\u001b[0m\u001b[1;33m)\u001b[0m\u001b[1;33m\u001b[0m\u001b[1;33m\u001b[0m\u001b[0m\n\u001b[0;32m      4\u001b[0m \u001b[0mprint\u001b[0m\u001b[1;33m(\u001b[0m\u001b[0mvar1\u001b[0m\u001b[1;33m)\u001b[0m\u001b[1;33m\u001b[0m\u001b[1;33m\u001b[0m\u001b[0m\n",
      "\u001b[1;31mKeyError\u001b[0m: 'A'"
     ]
    }
   ],
   "source": [
    "var1 = dict1.pop('A')\n",
    "\n",
    "print(dict1)\n",
    "print(var1)"
   ]
  },
  {
   "cell_type": "code",
   "execution_count": 45,
   "id": "a35a70f5",
   "metadata": {},
   "outputs": [
    {
     "name": "stdout",
     "output_type": "stream",
     "text": [
      "{'a': 0, 'b': 1, 'c': 2, 'd': 3, 'e': 4}\n",
      "Key not found\n"
     ]
    }
   ],
   "source": [
    "var1 = dict1.pop('A', 'Key not found')\n",
    "\n",
    "print(dict1)\n",
    "print(var1)"
   ]
  },
  {
   "cell_type": "code",
   "execution_count": 56,
   "id": "14b3345e",
   "metadata": {},
   "outputs": [
    {
     "name": "stdout",
     "output_type": "stream",
     "text": [
      "{'a': 0, 'b': 1, 'c': 2, 'd': 3, 'e': 4}\n"
     ]
    }
   ],
   "source": [
    "dict1 = dict(zip('abcde', range(5)))\n",
    "\n",
    "print(dict1)"
   ]
  },
  {
   "cell_type": "code",
   "execution_count": 47,
   "id": "f7b858df",
   "metadata": {},
   "outputs": [
    {
     "name": "stdout",
     "output_type": "stream",
     "text": [
      "{'a': 100, 'b': 1, 'c': 200, 'd': 3, 'e': 4}\n"
     ]
    }
   ],
   "source": [
    "dict1['a'] = 100\n",
    "dict1['c'] = 200\n",
    "\n",
    "print(dict1)"
   ]
  },
  {
   "cell_type": "code",
   "execution_count": 51,
   "id": "e448db0f",
   "metadata": {},
   "outputs": [
    {
     "name": "stdout",
     "output_type": "stream",
     "text": [
      "{'a': 0, 'b': 1, 'c': 2, 'd': 3, 'e': 4, 'A': 1000}\n"
     ]
    }
   ],
   "source": [
    "dict1['A'] = 1000\n",
    "\n",
    "print(dict1)"
   ]
  },
  {
   "cell_type": "code",
   "execution_count": 53,
   "id": "557fdfac",
   "metadata": {},
   "outputs": [
    {
     "name": "stdout",
     "output_type": "stream",
     "text": [
      "{'a': 100, 'b': 1, 'c': 200, 'd': 3, 'e': 4, 'A': 1000}\n"
     ]
    }
   ],
   "source": [
    "dict1.update({'a':100,'c':200})\n",
    "\n",
    "print(dict1)\n"
   ]
  },
  {
   "cell_type": "code",
   "execution_count": 54,
   "id": "f644e1e7",
   "metadata": {},
   "outputs": [
    {
     "name": "stdout",
     "output_type": "stream",
     "text": [
      "{'a': 100, 'b': 1, 'c': 200, 'd': 3, 'e': 4, 'A': 1000}\n"
     ]
    }
   ],
   "source": [
    "dict1.update({'a':100,'c':200, 'A':1000})\n",
    "\n",
    "print(dict1)\n"
   ]
  },
  {
   "cell_type": "code",
   "execution_count": null,
   "id": "3f3d2408",
   "metadata": {},
   "outputs": [],
   "source": [
    "# dict method to create dictionary takes an iterable of infinite length which in turn contains elements which MUST be \n",
    "# two element iterables. \n",
    "\n",
    "#(('a',100),('b',200),('c',300))"
   ]
  },
  {
   "cell_type": "code",
   "execution_count": null,
   "id": "ce1375b4",
   "metadata": {},
   "outputs": [],
   "source": [
    "#dict0 = dict()"
   ]
  },
  {
   "cell_type": "code",
   "execution_count": 57,
   "id": "7ee87724",
   "metadata": {},
   "outputs": [],
   "source": [
    "dict1.update((('a',100), ('c',200),('A',1000)))"
   ]
  },
  {
   "cell_type": "code",
   "execution_count": 58,
   "id": "addd5c55",
   "metadata": {},
   "outputs": [
    {
     "name": "stdout",
     "output_type": "stream",
     "text": [
      "{'a': 100, 'b': 1, 'c': 200, 'd': 3, 'e': 4, 'A': 1000}\n"
     ]
    }
   ],
   "source": [
    "print(dict1)"
   ]
  },
  {
   "cell_type": "code",
   "execution_count": null,
   "id": "d3066c51",
   "metadata": {},
   "outputs": [],
   "source": [
    "# setdefault - returns the value of the key from dictionary. if the key does not exist - it adds the key and sets a default\n",
    "# value to the key.\n",
    "\n",
    "# It takes two parameters:\n",
    "# 1. key - Mandatory - Key to look for (or add). \n",
    "# 2. Default value - Optional - Defaults to None. Adds the default value as the key (if not provided - then adds value as none)"
   ]
  },
  {
   "cell_type": "code",
   "execution_count": 67,
   "id": "b6718b61",
   "metadata": {},
   "outputs": [
    {
     "name": "stdout",
     "output_type": "stream",
     "text": [
      "{'a': 0, 'b': 1, 'c': 2, 'd': 3, 'e': 4}\n"
     ]
    }
   ],
   "source": [
    "dict1 = dict(zip('abcde', range(5)))\n",
    "\n",
    "print(dict1)"
   ]
  },
  {
   "cell_type": "code",
   "execution_count": 63,
   "id": "b0006be6",
   "metadata": {},
   "outputs": [
    {
     "name": "stdout",
     "output_type": "stream",
     "text": [
      "{'a': 0, 'b': 1, 'c': 2, 'd': 3, 'e': 4}\n"
     ]
    }
   ],
   "source": [
    "print(dict1)"
   ]
  },
  {
   "cell_type": "code",
   "execution_count": 65,
   "id": "7ced9104",
   "metadata": {},
   "outputs": [
    {
     "name": "stdout",
     "output_type": "stream",
     "text": [
      "0\n"
     ]
    }
   ],
   "source": [
    "var1 = dict1.setdefault('a',101)\n",
    "\n",
    "print(var1)"
   ]
  },
  {
   "cell_type": "code",
   "execution_count": 66,
   "id": "2173392f",
   "metadata": {},
   "outputs": [
    {
     "name": "stdout",
     "output_type": "stream",
     "text": [
      "{'a': 0, 'b': 1, 'c': 2, 'd': 3, 'e': 4, 'x': None}\n",
      "None\n"
     ]
    }
   ],
   "source": [
    "var2 = dict1.setdefault('x')\n",
    "\n",
    "print(dict1)\n",
    "print(var2)"
   ]
  },
  {
   "cell_type": "code",
   "execution_count": 68,
   "id": "e1a4affd",
   "metadata": {},
   "outputs": [
    {
     "name": "stdout",
     "output_type": "stream",
     "text": [
      "{'a': 0, 'b': 1, 'c': 2, 'd': 3, 'e': 4, 'x': 101}\n",
      "101\n"
     ]
    }
   ],
   "source": [
    "var2 = dict1.setdefault('x', 101)\n",
    "\n",
    "print(dict1)\n",
    "print(var2)"
   ]
  },
  {
   "cell_type": "code",
   "execution_count": null,
   "id": "fb323b45",
   "metadata": {},
   "outputs": [],
   "source": [
    "# setdefault will ALWAYS return something.\n",
    "\n",
    "# Four options:\n",
    "\n",
    "# Default value NOT provided and:\n",
    "# 1. Key exists - returns the value of the given key\n",
    "# 2. Key does not exist - Adds the key with a value of None and returns none. \n",
    "\n",
    "# Default value provided. \n",
    "# 1. Key exists - returns value of the given key. Does nothing with the default value provided. \n",
    "# 2. Key does not exist - Adds the key with value as default value provided. Returns the default value provided. "
   ]
  },
  {
   "cell_type": "code",
   "execution_count": null,
   "id": "3a9a9b66",
   "metadata": {},
   "outputs": [],
   "source": [
    "# Difference between update and setdefault. \n",
    "\n",
    "# 1. Setdefault - returns the value of the key. Update modifies the original dictionary. no return."
   ]
  },
  {
   "cell_type": "code",
   "execution_count": 72,
   "id": "6483c45b",
   "metadata": {},
   "outputs": [
    {
     "name": "stdout",
     "output_type": "stream",
     "text": [
      "{'a': 0, 'b': 1, 'c': 2, 'd': 3, 'e': 4}\n"
     ]
    }
   ],
   "source": [
    "dict1 = dict(zip('abcde', range(5)))\n",
    "\n",
    "print(dict1)"
   ]
  },
  {
   "cell_type": "code",
   "execution_count": 71,
   "id": "21c1d7ed",
   "metadata": {},
   "outputs": [
    {
     "name": "stdout",
     "output_type": "stream",
     "text": [
      "{'a': 100, 'b': 1, 'c': 2, 'd': 3, 'e': 4}\n"
     ]
    }
   ],
   "source": [
    "dict1.update((('a',100),))\n",
    "\n",
    "print(dict1)"
   ]
  },
  {
   "cell_type": "code",
   "execution_count": 73,
   "id": "c409fec7",
   "metadata": {},
   "outputs": [
    {
     "name": "stdout",
     "output_type": "stream",
     "text": [
      "{'a': 0, 'b': 1, 'c': 2, 'd': 3, 'e': 4}\n",
      "0\n"
     ]
    }
   ],
   "source": [
    "var1 = dict1.setdefault('a', 100)\n",
    "\n",
    "print(dict1)\n",
    "print(var1)"
   ]
  },
  {
   "cell_type": "code",
   "execution_count": 75,
   "id": "307f10a1",
   "metadata": {},
   "outputs": [
    {
     "name": "stdout",
     "output_type": "stream",
     "text": [
      "{'Thrusters': 0, 'Boosters': 1, 'Temp': 2, 'LPV Flaps': 3}\n"
     ]
    }
   ],
   "source": [
    "chandrayan3 = ['Thrusters', 'Boosters', 'Temp', 'LPV Flaps']\n",
    "\n",
    "c3Dict = {}\n",
    "\n",
    "for x in range(len(chandrayan3)):\n",
    "    c3Dict.update(((chandrayan3[x],x),))\n",
    "    \n",
    "    \n",
    "print(c3Dict)"
   ]
  },
  {
   "cell_type": "code",
   "execution_count": 77,
   "id": "fe8377f2",
   "metadata": {},
   "outputs": [
    {
     "name": "stdout",
     "output_type": "stream",
     "text": [
      "{'Thrusters': 0, 'Boosters': 1, 'Temp': 2, 'LPV Flaps': 3}\n"
     ]
    }
   ],
   "source": [
    "chandrayan3 = ['Thrusters', 'Boosters', 'Temp', 'LPV Flaps']\n",
    "\n",
    "c3Dict = {}\n",
    "\n",
    "for x in range(len(chandrayan3)):\n",
    "    c3Dict.setdefault(chandrayan3[x],x)\n",
    "    \n",
    "    \n",
    "print(c3Dict)"
   ]
  },
  {
   "cell_type": "code",
   "execution_count": 79,
   "id": "035a4f59",
   "metadata": {},
   "outputs": [
    {
     "name": "stdout",
     "output_type": "stream",
     "text": [
      "{'Thrusters': 100, 'Boosters': 1, 'Temp': 2, 'LPV Flaps': 3}\n"
     ]
    }
   ],
   "source": [
    "c3Dict.update((('Thrusters',100),))\n",
    "\n",
    "print(c3Dict)"
   ]
  },
  {
   "cell_type": "code",
   "execution_count": 80,
   "id": "71405b4d",
   "metadata": {},
   "outputs": [
    {
     "name": "stdout",
     "output_type": "stream",
     "text": [
      "{'Thrusters': 100, 'Boosters': 1, 'Temp': 2, 'LPV Flaps': 3}\n",
      "100\n"
     ]
    }
   ],
   "source": [
    "value1 = c3Dict.setdefault('Thrusters',200)\n",
    "\n",
    "print(c3Dict)\n",
    "print(value1)"
   ]
  },
  {
   "cell_type": "code",
   "execution_count": 81,
   "id": "0d549ad3",
   "metadata": {},
   "outputs": [
    {
     "name": "stdout",
     "output_type": "stream",
     "text": [
      "{'Thrusters': 100, 'Boosters': 1, 'Temp': 2, 'LPV Flaps': 3, 'Coolant hose temp': -120}\n",
      "-120\n"
     ]
    }
   ],
   "source": [
    "value1 = c3Dict.setdefault('Coolant hose temp', -120)\n",
    "\n",
    "print(c3Dict)\n",
    "print(value1)"
   ]
  },
  {
   "cell_type": "code",
   "execution_count": null,
   "id": "bb5a6e69",
   "metadata": {},
   "outputs": [],
   "source": [
    "# dict keys, dict values and dict items methods"
   ]
  },
  {
   "cell_type": "code",
   "execution_count": 82,
   "id": "addda5c2",
   "metadata": {},
   "outputs": [
    {
     "name": "stdout",
     "output_type": "stream",
     "text": [
      "{'a': 0, 'b': 1, 'c': 2, 'd': 3, 'e': 4}\n"
     ]
    }
   ],
   "source": [
    "dict1 = dict(zip('abcde', range(5)))\n",
    "\n",
    "print(dict1)"
   ]
  },
  {
   "cell_type": "code",
   "execution_count": 83,
   "id": "1686b6de",
   "metadata": {},
   "outputs": [
    {
     "name": "stdout",
     "output_type": "stream",
     "text": [
      "dict_keys(['a', 'b', 'c', 'd', 'e'])\n",
      "dict_values([0, 1, 2, 3, 4])\n",
      "dict_items([('a', 0), ('b', 1), ('c', 2), ('d', 3), ('e', 4)])\n"
     ]
    }
   ],
   "source": [
    "print(dict1.keys())\n",
    "print(dict1.values())\n",
    "print(dict1.items())"
   ]
  },
  {
   "cell_type": "code",
   "execution_count": 84,
   "id": "7bc0d219",
   "metadata": {},
   "outputs": [
    {
     "name": "stdout",
     "output_type": "stream",
     "text": [
      "dict_keys(['a', 'b', 'c', 'd', 'e']) <class 'dict_keys'>\n",
      "dict_values([0, 1, 2, 3, 4]) <class 'dict_values'>\n",
      "dict_items([('a', 0), ('b', 1), ('c', 2), ('d', 3), ('e', 4)]) <class 'dict_items'>\n"
     ]
    }
   ],
   "source": [
    "dKeys = dict1.keys()\n",
    "dValues = dict1.values()\n",
    "dItems = dict1.items()\n",
    "\n",
    "print(dKeys, type(dKeys))\n",
    "print(dValues, type(dValues))\n",
    "print(dItems, type(dItems))\n"
   ]
  },
  {
   "cell_type": "code",
   "execution_count": 85,
   "id": "99a1c8af",
   "metadata": {},
   "outputs": [
    {
     "name": "stdout",
     "output_type": "stream",
     "text": [
      "dict_keys(['a', 'b', 'c', 'd', 'e']) <class 'dict_keys'>\n",
      "dict_values([0, 1, 2, 3, 4]) <class 'dict_values'>\n",
      "dict_items([('a', 0), ('b', 1), ('c', 2), ('d', 3), ('e', 4)]) <class 'dict_items'>\n",
      "['a', 'b', 'c', 'd', 'e'] <class 'list'>\n",
      "[0, 1, 2, 3, 4] <class 'list'>\n",
      "[('a', 0), ('b', 1), ('c', 2), ('d', 3), ('e', 4)] <class 'list'>\n"
     ]
    }
   ],
   "source": [
    "dKeys = dict1.keys()\n",
    "dValues = dict1.values()\n",
    "dItems = dict1.items()\n",
    "\n",
    "LdKeys = list(dict1.keys())\n",
    "LdValues = list(dict1.values())\n",
    "LdItems = list(dict1.items())\n",
    "\n",
    "print(dKeys, type(dKeys))\n",
    "print(dValues, type(dValues))\n",
    "print(dItems, type(dItems))\n",
    "\n",
    "print(LdKeys, type(LdKeys))\n",
    "print(LdValues, type(LdValues))\n",
    "print(LdItems, type(LdItems))"
   ]
  },
  {
   "cell_type": "code",
   "execution_count": null,
   "id": "355f67ae",
   "metadata": {},
   "outputs": [],
   "source": [
    "# Dict keys, values and items methods return dict_keys, dict_values and dict_items class objects which are VIEW objects!!\n",
    "\n",
    "# These view objects are iterable but NOT subscriptable."
   ]
  },
  {
   "cell_type": "code",
   "execution_count": 86,
   "id": "d6e0ce22",
   "metadata": {},
   "outputs": [
    {
     "name": "stdout",
     "output_type": "stream",
     "text": [
      "{'a': 0, 'b': 1, 'c': 2, 'd': 3, 'e': 4}\n"
     ]
    }
   ],
   "source": [
    "dict1 = dict(zip('abcde', range(5)))\n",
    "\n",
    "print(dict1)"
   ]
  },
  {
   "cell_type": "code",
   "execution_count": 87,
   "id": "4e4d32be",
   "metadata": {},
   "outputs": [
    {
     "name": "stdout",
     "output_type": "stream",
     "text": [
      "dict_keys(['a', 'b', 'c', 'd', 'e']) <class 'dict_keys'>\n",
      "dict_values([0, 1, 2, 3, 4]) <class 'dict_values'>\n",
      "dict_items([('a', 0), ('b', 1), ('c', 2), ('d', 3), ('e', 4)]) <class 'dict_items'>\n",
      "['a', 'b', 'c', 'd', 'e'] <class 'list'>\n",
      "[0, 1, 2, 3, 4] <class 'list'>\n",
      "[('a', 0), ('b', 1), ('c', 2), ('d', 3), ('e', 4)] <class 'list'>\n"
     ]
    }
   ],
   "source": [
    "dKeys = dict1.keys()\n",
    "dValues = dict1.values()\n",
    "dItems = dict1.items()\n",
    "\n",
    "LdKeys = list(dict1.keys())\n",
    "LdValues = list(dict1.values())\n",
    "LdItems = list(dict1.items())\n",
    "\n",
    "print(dKeys, type(dKeys))\n",
    "print(dValues, type(dValues))\n",
    "print(dItems, type(dItems))\n",
    "\n",
    "print(LdKeys, type(LdKeys))\n",
    "print(LdValues, type(LdValues))\n",
    "print(LdItems, type(LdItems))"
   ]
  },
  {
   "cell_type": "code",
   "execution_count": 88,
   "id": "f660d83e",
   "metadata": {},
   "outputs": [
    {
     "name": "stdout",
     "output_type": "stream",
     "text": [
      "{'a': 0, 'b': 1, 'c': 2, 'd': 3, 'e': 4, 'X': 5000}\n"
     ]
    }
   ],
   "source": [
    "dict1['X'] = 5000\n",
    "\n",
    "print(dict1)"
   ]
  },
  {
   "cell_type": "code",
   "execution_count": 89,
   "id": "d5279808",
   "metadata": {},
   "outputs": [
    {
     "name": "stdout",
     "output_type": "stream",
     "text": [
      "dict_keys(['a', 'b', 'c', 'd', 'e', 'X']) <class 'dict_keys'>\n",
      "dict_values([0, 1, 2, 3, 4, 5000]) <class 'dict_values'>\n",
      "dict_items([('a', 0), ('b', 1), ('c', 2), ('d', 3), ('e', 4), ('X', 5000)]) <class 'dict_items'>\n",
      "['a', 'b', 'c', 'd', 'e'] <class 'list'>\n",
      "[0, 1, 2, 3, 4] <class 'list'>\n",
      "[('a', 0), ('b', 1), ('c', 2), ('d', 3), ('e', 4)] <class 'list'>\n"
     ]
    }
   ],
   "source": [
    "print(dKeys, type(dKeys))\n",
    "print(dValues, type(dValues))\n",
    "print(dItems, type(dItems))\n",
    "\n",
    "print(LdKeys, type(LdKeys))\n",
    "print(LdValues, type(LdValues))\n",
    "print(LdItems, type(LdItems))"
   ]
  },
  {
   "cell_type": "code",
   "execution_count": 90,
   "id": "e5ac98bb",
   "metadata": {},
   "outputs": [
    {
     "data": {
      "text/plain": [
       "'a'"
      ]
     },
     "execution_count": 90,
     "metadata": {},
     "output_type": "execute_result"
    }
   ],
   "source": [
    "LdKeys[0]"
   ]
  },
  {
   "cell_type": "code",
   "execution_count": 91,
   "id": "3213b2d5",
   "metadata": {},
   "outputs": [
    {
     "ename": "TypeError",
     "evalue": "'dict_keys' object is not subscriptable",
     "output_type": "error",
     "traceback": [
      "\u001b[1;31m---------------------------------------------------------------------------\u001b[0m",
      "\u001b[1;31mTypeError\u001b[0m                                 Traceback (most recent call last)",
      "\u001b[1;32m~\\AppData\\Local\\Temp\\ipykernel_17064\\2053415328.py\u001b[0m in \u001b[0;36m<module>\u001b[1;34m\u001b[0m\n\u001b[1;32m----> 1\u001b[1;33m \u001b[0mdKeys\u001b[0m\u001b[1;33m[\u001b[0m\u001b[1;36m0\u001b[0m\u001b[1;33m]\u001b[0m\u001b[1;33m\u001b[0m\u001b[1;33m\u001b[0m\u001b[0m\n\u001b[0m",
      "\u001b[1;31mTypeError\u001b[0m: 'dict_keys' object is not subscriptable"
     ]
    }
   ],
   "source": [
    "dKeys[0]"
   ]
  },
  {
   "cell_type": "code",
   "execution_count": 92,
   "id": "45f51c23",
   "metadata": {},
   "outputs": [
    {
     "name": "stdout",
     "output_type": "stream",
     "text": [
      "a\n",
      "b\n",
      "c\n",
      "d\n",
      "e\n",
      "X\n"
     ]
    }
   ],
   "source": [
    "for x in dKeys:\n",
    "    print(x)"
   ]
  },
  {
   "cell_type": "code",
   "execution_count": 94,
   "id": "44a92ef2",
   "metadata": {},
   "outputs": [
    {
     "name": "stdout",
     "output_type": "stream",
     "text": [
      "('a', 0)\n",
      "('b', 1)\n",
      "('c', 2)\n",
      "('d', 3)\n",
      "('e', 4)\n",
      "('X', 5000)\n"
     ]
    }
   ],
   "source": [
    "for x in dict1.items():\n",
    "    print(x)"
   ]
  },
  {
   "cell_type": "code",
   "execution_count": 95,
   "id": "1ef09468",
   "metadata": {},
   "outputs": [
    {
     "name": "stdout",
     "output_type": "stream",
     "text": [
      "[('a', 5), ('b', 6), ('c', 7), ('d', 8), ('e', 9), ('X', 5005)]\n"
     ]
    }
   ],
   "source": [
    "lst1 = list(dict1.items())\n",
    "lst2 = []\n",
    "\n",
    "\n",
    "for x in range(len(lst1)):\n",
    "    lst2.append((lst1[x][0],lst1[x][1]+5),)\n",
    "    \n",
    "print(lst2)"
   ]
  },
  {
   "cell_type": "code",
   "execution_count": 97,
   "id": "33d78589",
   "metadata": {},
   "outputs": [
    {
     "name": "stdout",
     "output_type": "stream",
     "text": [
      "{'a': 0, 'b': 1, 'c': 2, 'd': 3, 'e': 4, 'X': 5000}\n"
     ]
    }
   ],
   "source": [
    "print(dict1)"
   ]
  },
  {
   "cell_type": "code",
   "execution_count": 100,
   "id": "8991108c",
   "metadata": {},
   "outputs": [
    {
     "name": "stdout",
     "output_type": "stream",
     "text": [
      "{'a': 0, 'b': 1, 'c': 2, 'd': 333, 'e': 4, 'X': 5000}\n"
     ]
    }
   ],
   "source": [
    "dict1['d'] = 333\n",
    "\n",
    "print(dict1)"
   ]
  },
  {
   "cell_type": "code",
   "execution_count": 105,
   "id": "f317b1f8",
   "metadata": {},
   "outputs": [
    {
     "name": "stdout",
     "output_type": "stream",
     "text": [
      "3\n"
     ]
    },
    {
     "data": {
      "text/plain": [
       "'d'"
      ]
     },
     "execution_count": 105,
     "metadata": {},
     "output_type": "execute_result"
    }
   ],
   "source": [
    "tofind = 333\n",
    "\n",
    "dKeys = list(dict1.keys())\n",
    "dValues = list(dict1.values())\n",
    "\n",
    "var1 = dValues.index(333)\n",
    "\n",
    "print(var1)\n",
    "\n",
    "dKeys[var1]\n"
   ]
  },
  {
   "cell_type": "code",
   "execution_count": 108,
   "id": "3180b0cc",
   "metadata": {},
   "outputs": [
    {
     "name": "stdout",
     "output_type": "stream",
     "text": [
      "{'a': 0, 'b': 1, 'c': 2, 'd': 333, 'e': 4, 'X': 5000}\n"
     ]
    }
   ],
   "source": [
    "print(dict1)"
   ]
  },
  {
   "cell_type": "code",
   "execution_count": 109,
   "id": "c7756e58",
   "metadata": {},
   "outputs": [
    {
     "name": "stdout",
     "output_type": "stream",
     "text": [
      "{'a': 0, 'b': 1, 'c': 2, 'd': 333, 'e': 4, 'X': 5000, 'Y': 333, 'Z': 333}\n"
     ]
    }
   ],
   "source": [
    "dict1['Y'] = 333\n",
    "dict1['Z'] = 333\n",
    "\n",
    "print(dict1)"
   ]
  },
  {
   "cell_type": "code",
   "execution_count": 110,
   "id": "68bcd4af",
   "metadata": {},
   "outputs": [
    {
     "name": "stdout",
     "output_type": "stream",
     "text": [
      "d\n"
     ]
    }
   ],
   "source": [
    "found = list(dict1.keys())[list(dict1.values()).index(tofind)]\n",
    "\n",
    "print(found)"
   ]
  },
  {
   "cell_type": "code",
   "execution_count": 114,
   "id": "543fadd3",
   "metadata": {},
   "outputs": [
    {
     "name": "stdout",
     "output_type": "stream",
     "text": [
      "dict_items([('a', 0), ('b', 1), ('c', 2), ('d', 333), ('e', 4), ('X', 5000), ('Y', 333), ('Z', 333)])\n"
     ]
    }
   ],
   "source": [
    "print(dict1.items())"
   ]
  },
  {
   "cell_type": "code",
   "execution_count": 115,
   "id": "8c3bf36e",
   "metadata": {},
   "outputs": [
    {
     "name": "stdout",
     "output_type": "stream",
     "text": [
      "('d', 333)\n",
      "Key of Value: 333 is d\n",
      "('Y', 333)\n",
      "Key of Value: 333 is Y\n",
      "('Z', 333)\n",
      "Key of Value: 333 is Z\n"
     ]
    }
   ],
   "source": [
    "find_val=333\n",
    "for i in list(dict1.items()):\n",
    "    if i[1]==find_val:\n",
    "        print(i)\n",
    "        key=i[0]\n",
    "        print(f\"Key of Value: {find_val} is {key}\")\n"
   ]
  },
  {
   "cell_type": "code",
   "execution_count": null,
   "id": "b381bedc",
   "metadata": {},
   "outputs": [],
   "source": []
  },
  {
   "cell_type": "markdown",
   "id": "771e271d",
   "metadata": {},
   "source": [
    "#### Dictionary Comprehension"
   ]
  },
  {
   "cell_type": "code",
   "execution_count": null,
   "id": "57b64619",
   "metadata": {},
   "outputs": [],
   "source": []
  },
  {
   "cell_type": "code",
   "execution_count": 120,
   "id": "5d7f0cd5",
   "metadata": {},
   "outputs": [
    {
     "name": "stdout",
     "output_type": "stream",
     "text": [
      "[('Bharath', 'Gokul'), ('Mehak', 'Mansie'), ('Monika', 'Lina'), ('Rafiya', 'Aish'), ('Sachin', 'Deepak')]\n"
     ]
    }
   ],
   "source": [
    "lst1 = ['Bharath', 'Mehak','Monika','Rafiya', 'Sachin']\n",
    "lst2 = ['Gokul', 'Mansie', 'Lina', 'Aish', 'Deepak']\n",
    "\n",
    "\n",
    "print(list(zip(lst1,lst2)))"
   ]
  },
  {
   "cell_type": "code",
   "execution_count": 121,
   "id": "18b54fc8",
   "metadata": {},
   "outputs": [
    {
     "name": "stdout",
     "output_type": "stream",
     "text": [
      "{'Bharath': 'Gokul', 'Mehak': 'Mansie', 'Monika': 'Lina', 'Rafiya': 'Aish', 'Sachin': 'Deepak'}\n"
     ]
    }
   ],
   "source": [
    "dict1 = {k:v for k,v in zip(lst1,lst2)}\n",
    "\n",
    "print(dict1)"
   ]
  },
  {
   "cell_type": "code",
   "execution_count": null,
   "id": "e17c05a0",
   "metadata": {},
   "outputs": [],
   "source": [
    "# In comprehension - if only IF - it comes after the for loop and if both if and else then BEFORE the for loop."
   ]
  },
  {
   "cell_type": "code",
   "execution_count": 123,
   "id": "b5a8fa72",
   "metadata": {},
   "outputs": [
    {
     "name": "stdout",
     "output_type": "stream",
     "text": [
      "{'No i in Bharath': 'No i in Gokul', 'No i in Mehak': 'Mansie', 'Monika': 'Lina', 'Rafiya': 'Aish', 'Sachin': 'No i in Deepak'}\n"
     ]
    }
   ],
   "source": [
    "dict2 = {k if 'i' in k else f'No i in {k}':v if 'i' in v else f'No i in {v}' for k,v in zip(lst1,lst2)}\n",
    "\n",
    "print(dict2)"
   ]
  },
  {
   "cell_type": "code",
   "execution_count": null,
   "id": "a22cf567",
   "metadata": {},
   "outputs": [],
   "source": []
  },
  {
   "cell_type": "code",
   "execution_count": null,
   "id": "b6b9ce36",
   "metadata": {},
   "outputs": [],
   "source": []
  },
  {
   "cell_type": "code",
   "execution_count": null,
   "id": "c2ddb9eb",
   "metadata": {},
   "outputs": [],
   "source": []
  },
  {
   "cell_type": "code",
   "execution_count": 1,
   "id": "fe8fb991",
   "metadata": {},
   "outputs": [
    {
     "name": "stdout",
     "output_type": "stream",
     "text": [
      "{2: 'two', 4: 'four'}\n"
     ]
    }
   ],
   "source": [
    "original_dict = {1: 'one', 2: 'two', 3: 'three', 4: 'four', 5: 'five'}\n",
    "\n",
    "even_keys_dict = {k: v for k, v in original_dict.items() if k % 2 == 0}\n",
    "print(even_keys_dict)\n"
   ]
  },
  {
   "cell_type": "code",
   "execution_count": 3,
   "id": "0419329e",
   "metadata": {},
   "outputs": [
    {
     "name": "stdout",
     "output_type": "stream",
     "text": [
      "{3: 'three', 4: 'four', 5: 'five'}\n"
     ]
    }
   ],
   "source": [
    "original_dict = {1: 'one', 2: 'two', 3: 'three', 4: 'four', 5: 'five'}\n",
    "\n",
    "long_value_dict = {k: v for k, v in original_dict.items() if len(v) > 3}\n",
    "print(long_value_dict)\n"
   ]
  },
  {
   "cell_type": "code",
   "execution_count": 4,
   "id": "c4dc26fb",
   "metadata": {},
   "outputs": [
    {
     "name": "stdout",
     "output_type": "stream",
     "text": [
      "{1: 1, 2: 4, 3: 27, 4: 16, 5: 125}\n"
     ]
    }
   ],
   "source": [
    "numbers_dict = {x: x**2 if x % 2 == 0 else x**3 for x in range(1, 6)}\n",
    "print(numbers_dict)\n"
   ]
  },
  {
   "cell_type": "code",
   "execution_count": 5,
   "id": "1a77b7a0",
   "metadata": {},
   "outputs": [
    {
     "name": "stdout",
     "output_type": "stream",
     "text": [
      "{1: 0.5, 2: 1.0, 3: 9, 4: 2.0, 5: 2.5, 6: 36, 7: 3.5, 8: 4.0, 9: 81, 10: 5.0}\n"
     ]
    }
   ],
   "source": [
    "numbers_dict = {x: x**2 if x % 3 == 0 else x/2 for x in range(1, 11)}\n",
    "print(numbers_dict)\n"
   ]
  },
  {
   "cell_type": "code",
   "execution_count": 6,
   "id": "54c955c9",
   "metadata": {},
   "outputs": [
    {
     "name": "stdout",
     "output_type": "stream",
     "text": [
      "{'APPLE': 25, 'BANANA': 36, 'CHERRY': 36, 'DATE': 16, 'ELDERBERRY': 100}\n"
     ]
    }
   ],
   "source": [
    "words_dict = {'apple': 5, 'banana': 6, 'cherry': 6, 'date': 4, 'elderberry': 10}\n",
    "\n",
    "transformed_dict = {k.upper(): v**2 for k, v in words_dict.items() if len(k) > 3}\n",
    "print(transformed_dict)\n"
   ]
  },
  {
   "cell_type": "code",
   "execution_count": 7,
   "id": "3adf6a96",
   "metadata": {},
   "outputs": [
    {
     "name": "stdout",
     "output_type": "stream",
     "text": [
      "{'APPLE': 0, 'BANANA': 36, 'CHERRY': 36, 'DATE': 0, 'ELDERBERRY': 100}\n"
     ]
    }
   ],
   "source": [
    "words_dict = {'apple': 5, 'banana': 6, 'cherry': 6, 'date': 4, 'elderberry': 10}\n",
    "\n",
    "transformed_dict = {k.upper(): v**2 if len(k) > 5 else 0 for k, v in words_dict.items()}\n",
    "print(transformed_dict)\n"
   ]
  },
  {
   "cell_type": "code",
   "execution_count": 8,
   "id": "d9d3981f",
   "metadata": {},
   "outputs": [
    {
     "name": "stdout",
     "output_type": "stream",
     "text": [
      "{1: 1, 'even': 8, 3: 3, 5: 5}\n"
     ]
    }
   ],
   "source": [
    "numbers_dict = {x if x % 2 != 0 else 'even': x*2 if x % 2 == 0 else x for x in range(1, 6)}\n",
    "print(numbers_dict)\n"
   ]
  },
  {
   "cell_type": "code",
   "execution_count": 9,
   "id": "aaeb0d94",
   "metadata": {},
   "outputs": [
    {
     "name": "stdout",
     "output_type": "stream",
     "text": [
      "{'short': 0, 'BANANA': 36, 'CHERRY': 36, 'ELDERBERRY': 100}\n"
     ]
    }
   ],
   "source": [
    "words_dict = {'apple': 5, 'banana': 6, 'cherry': 6, 'date': 4, 'elderberry': 10}\n",
    "\n",
    "transformed_dict = {k.upper() if len(k) > 5 else 'short': v**2 if len(k) > 5 else 0 for k, v in words_dict.items()}\n",
    "print(transformed_dict)\n"
   ]
  },
  {
   "cell_type": "code",
   "execution_count": null,
   "id": "17b3b85e",
   "metadata": {},
   "outputs": [],
   "source": []
  }
 ],
 "metadata": {
  "kernelspec": {
   "display_name": "Python 3 (ipykernel)",
   "language": "python",
   "name": "python3"
  },
  "language_info": {
   "codemirror_mode": {
    "name": "ipython",
    "version": 3
   },
   "file_extension": ".py",
   "mimetype": "text/x-python",
   "name": "python",
   "nbconvert_exporter": "python",
   "pygments_lexer": "ipython3",
   "version": "3.9.13"
  }
 },
 "nbformat": 4,
 "nbformat_minor": 5
}
