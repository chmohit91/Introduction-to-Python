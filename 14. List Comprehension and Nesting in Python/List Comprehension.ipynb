{
 "cells": [
  {
   "cell_type": "markdown",
   "id": "3e44c20f",
   "metadata": {},
   "source": [
    "## How to create a list "
   ]
  },
  {
   "cell_type": "markdown",
   "id": "34698bfc",
   "metadata": {},
   "source": [
    "### Case - 1 \n",
    "\n",
    "- When we already know the element "
   ]
  },
  {
   "cell_type": "code",
   "execution_count": 1,
   "id": "3410e4ec",
   "metadata": {},
   "outputs": [
    {
     "name": "stdout",
     "output_type": "stream",
     "text": [
      "[1, 1.0, (10+2j), True, 'mayank', [1, 2, 3]] <class 'list'>\n"
     ]
    }
   ],
   "source": [
    "lst = [1,1.0,10+2j, True, 'mayank', [1,2,3]]\n",
    "print(lst, type(lst))"
   ]
  },
  {
   "cell_type": "markdown",
   "id": "cf437959",
   "metadata": {},
   "source": [
    "Case -2 \n",
    "\n",
    "- using list() \n",
    "- we always need an iterable that we are type casting\n",
    "- list() take an iterable as an argument and returns a list\n",
    "- Iterable - String, tuples, dictionary, set, frozenset"
   ]
  },
  {
   "cell_type": "code",
   "execution_count": 3,
   "id": "2dd94883",
   "metadata": {},
   "outputs": [
    {
     "name": "stdout",
     "output_type": "stream",
     "text": [
      "Python <class 'str'>\n"
     ]
    }
   ],
   "source": [
    "my_str = 'Python'\n",
    "print(my_str, type(my_str))"
   ]
  },
  {
   "cell_type": "code",
   "execution_count": 4,
   "id": "40f6dd11",
   "metadata": {},
   "outputs": [
    {
     "name": "stdout",
     "output_type": "stream",
     "text": [
      "['P', 'y', 't', 'h', 'o', 'n'] <class 'list'>\n"
     ]
    }
   ],
   "source": [
    "lst = list(my_str)\n",
    "print(lst, type(lst))"
   ]
  },
  {
   "cell_type": "code",
   "execution_count": 5,
   "id": "ee276c30",
   "metadata": {},
   "outputs": [
    {
     "name": "stdout",
     "output_type": "stream",
     "text": [
      "(1, 2, 3, 4, 5, 6) <class 'tuple'>\n"
     ]
    }
   ],
   "source": [
    "t = (1,2,3,4,5,6)\n",
    "print(t, type(t))"
   ]
  },
  {
   "cell_type": "code",
   "execution_count": 6,
   "id": "782ce35f",
   "metadata": {},
   "outputs": [
    {
     "name": "stdout",
     "output_type": "stream",
     "text": [
      "[1, 2, 3, 4, 5, 6] <class 'list'>\n"
     ]
    }
   ],
   "source": [
    "lst_1 = list(t)\n",
    "print(lst_1, type(lst_1))"
   ]
  },
  {
   "cell_type": "code",
   "execution_count": 7,
   "id": "fdfd0890",
   "metadata": {},
   "outputs": [
    {
     "name": "stdout",
     "output_type": "stream",
     "text": [
      "[1, 2, 3, 4, 5, 6] <class 'list'>\n"
     ]
    }
   ],
   "source": [
    "s = {1,2,3,4,5,6}\n",
    "lst_2 = list(s)\n",
    "print(lst_2, type(lst_2))"
   ]
  },
  {
   "cell_type": "code",
   "execution_count": 8,
   "id": "5b8c7422",
   "metadata": {},
   "outputs": [
    {
     "name": "stdout",
     "output_type": "stream",
     "text": [
      "{1: 100, 2: 200, 3: 300, 4: 400} <class 'dict'>\n"
     ]
    }
   ],
   "source": [
    "d = {1:100, 2:200, 3:300, 4:400}\n",
    "print(d, type(d))"
   ]
  },
  {
   "cell_type": "code",
   "execution_count": 9,
   "id": "0f45faaf",
   "metadata": {},
   "outputs": [
    {
     "name": "stdout",
     "output_type": "stream",
     "text": [
      "[1, 2, 3, 4] <class 'list'>\n"
     ]
    }
   ],
   "source": [
    "lst = list(d)\n",
    "print(lst, type(lst))"
   ]
  },
  {
   "cell_type": "code",
   "execution_count": 10,
   "id": "c1de41d6",
   "metadata": {},
   "outputs": [
    {
     "name": "stdout",
     "output_type": "stream",
     "text": [
      "[100, 200, 300, 400] <class 'list'>\n"
     ]
    }
   ],
   "source": [
    "lst_1 = list(d.values())\n",
    "print(lst_1, type(lst_1))"
   ]
  },
  {
   "cell_type": "code",
   "execution_count": 13,
   "id": "0320b346",
   "metadata": {},
   "outputs": [
    {
     "data": {
      "text/plain": [
       "[(1, 100), (2, 200), (3, 300), (4, 400)]"
      ]
     },
     "execution_count": 13,
     "metadata": {},
     "output_type": "execute_result"
    }
   ],
   "source": [
    "lst = list(d.items())\n",
    "lst"
   ]
  },
  {
   "cell_type": "code",
   "execution_count": 14,
   "id": "11c4d9e1",
   "metadata": {},
   "outputs": [
    {
     "ename": "TypeError",
     "evalue": "list expected at most 1 argument, got 2",
     "output_type": "error",
     "traceback": [
      "\u001b[1;31m---------------------------------------------------------------------------\u001b[0m",
      "\u001b[1;31mTypeError\u001b[0m                                 Traceback (most recent call last)",
      "Cell \u001b[1;32mIn[14], line 1\u001b[0m\n\u001b[1;32m----> 1\u001b[0m lst \u001b[38;5;241m=\u001b[39m \u001b[38;5;28mlist\u001b[39m(d, d\u001b[38;5;241m.\u001b[39mvalues())\n\u001b[0;32m      2\u001b[0m lst\n",
      "\u001b[1;31mTypeError\u001b[0m: list expected at most 1 argument, got 2"
     ]
    }
   ],
   "source": [
    "lst = list(d, d.values())\n",
    "lst"
   ]
  },
  {
   "cell_type": "code",
   "execution_count": 11,
   "id": "b5e12490",
   "metadata": {},
   "outputs": [
    {
     "name": "stdout",
     "output_type": "stream",
     "text": [
      "[0, 1, 2, 3, 4] <class 'list'>\n"
     ]
    }
   ],
   "source": [
    "r = range(0,5)\n",
    "lst = list(r)\n",
    "print(lst, type(lst))"
   ]
  },
  {
   "cell_type": "markdown",
   "id": "a62c8fdc",
   "metadata": {},
   "source": [
    "### Case - 3\n",
    "\n",
    "- By taking the input from the user "
   ]
  },
  {
   "cell_type": "code",
   "execution_count": 17,
   "id": "4f62d925",
   "metadata": {},
   "outputs": [
    {
     "name": "stdout",
     "output_type": "stream",
     "text": [
      "Enter some values - 123456\n",
      "['1', '2', '3', '4', '5', '6'] <class 'list'>\n"
     ]
    }
   ],
   "source": [
    "lst = list(input('Enter some values - '))\n",
    "print(lst, type(lst))"
   ]
  },
  {
   "cell_type": "code",
   "execution_count": 18,
   "id": "582b69ce",
   "metadata": {},
   "outputs": [
    {
     "name": "stdout",
     "output_type": "stream",
     "text": [
      "Enter a value - Hello Python\n",
      "['Hello', 'Python'] <class 'list'>\n"
     ]
    }
   ],
   "source": [
    "s = input('Enter a value - ')\n",
    "lst = s.split()\n",
    "print(lst, type(lst))"
   ]
  },
  {
   "cell_type": "code",
   "execution_count": 19,
   "id": "2483f0f6",
   "metadata": {},
   "outputs": [
    {
     "name": "stdout",
     "output_type": "stream",
     "text": [
      "Enter a value - 10 20 30 40 50 \n",
      "['10', '20', '30', '40', '50'] <class 'list'>\n"
     ]
    }
   ],
   "source": [
    "s = input('Enter a value - ')\n",
    "lst = s.split()\n",
    "print(lst, type(lst))"
   ]
  },
  {
   "cell_type": "code",
   "execution_count": 20,
   "id": "87b4a749",
   "metadata": {},
   "outputs": [
    {
     "name": "stdout",
     "output_type": "stream",
     "text": [
      "Enter a value with a comma - 10,20,30,40,mayank\n",
      "['10', '20', '30', '40', 'mayank'] <class 'list'>\n"
     ]
    }
   ],
   "source": [
    "s = input('Enter a value with a comma - ')\n",
    "lst = s.split(',')\n",
    "print(lst, type(lst))"
   ]
  },
  {
   "cell_type": "markdown",
   "id": "e469abff",
   "metadata": {},
   "source": [
    "### Eval function()\n",
    "\n",
    "- it evaluates the type of the value stored in a particular variable "
   ]
  },
  {
   "cell_type": "code",
   "execution_count": 22,
   "id": "2e0a5403",
   "metadata": {},
   "outputs": [
    {
     "name": "stdout",
     "output_type": "stream",
     "text": [
      "10 <class 'int'>\n"
     ]
    }
   ],
   "source": [
    "a = eval('10')\n",
    "print(a, type(a))"
   ]
  },
  {
   "cell_type": "code",
   "execution_count": 27,
   "id": "a8dd44fe",
   "metadata": {},
   "outputs": [
    {
     "name": "stdout",
     "output_type": "stream",
     "text": [
      "Enter a number: 10.0\n",
      "10.0 <class 'float'>\n"
     ]
    }
   ],
   "source": [
    "num = eval(input('Enter a number: '))\n",
    "print(num, type(num))"
   ]
  },
  {
   "cell_type": "code",
   "execution_count": 28,
   "id": "e6494e74",
   "metadata": {},
   "outputs": [
    {
     "name": "stdout",
     "output_type": "stream",
     "text": [
      "Enter a number: 5+7j\n",
      "(5+7j) <class 'complex'>\n"
     ]
    }
   ],
   "source": [
    "num = eval(input('Enter a number: '))\n",
    "print(num, type(num))"
   ]
  },
  {
   "cell_type": "code",
   "execution_count": 30,
   "id": "d8103fd2",
   "metadata": {},
   "outputs": [
    {
     "name": "stdout",
     "output_type": "stream",
     "text": [
      "Enter a string: 'mayank'\n",
      "mayank <class 'str'>\n"
     ]
    }
   ],
   "source": [
    "num = eval(input('Enter a string: '))\n",
    "print(num, type(num))"
   ]
  },
  {
   "cell_type": "code",
   "execution_count": 31,
   "id": "ede64d1b",
   "metadata": {},
   "outputs": [
    {
     "name": "stdout",
     "output_type": "stream",
     "text": [
      "Enter a boolean value: True\n",
      "True <class 'bool'>\n"
     ]
    }
   ],
   "source": [
    "num = eval(input('Enter a boolean value: '))\n",
    "print(num, type(num))"
   ]
  },
  {
   "cell_type": "code",
   "execution_count": 32,
   "id": "ff378707",
   "metadata": {},
   "outputs": [
    {
     "name": "stdout",
     "output_type": "stream",
     "text": [
      "Enter a None value: None\n",
      "None <class 'NoneType'>\n"
     ]
    }
   ],
   "source": [
    "num = eval(input('Enter a None value: '))\n",
    "print(num, type(num))"
   ]
  },
  {
   "cell_type": "markdown",
   "id": "71e5add8",
   "metadata": {},
   "source": [
    "### Case-4\n",
    "\n",
    "#### List Comprehension"
   ]
  },
  {
   "cell_type": "code",
   "execution_count": 33,
   "id": "3a9eb582",
   "metadata": {},
   "outputs": [
    {
     "name": "stdout",
     "output_type": "stream",
     "text": [
      "[1, 2, 3, 4, 5, 6, 7, 8, 9, 10, 11, 12, 13, 14, 15, 16, 17, 18, 19, 20, 21, 22, 23, 24, 25, 26, 27, 28, 29, 30, 31, 32, 33, 34, 35, 36, 37, 38, 39, 40, 41, 42, 43, 44, 45, 46, 47, 48, 49, 50]\n"
     ]
    }
   ],
   "source": [
    "#Generate a list having elements from 1 to 50 in a conventional way \n",
    "\n",
    "a = [] # -------> creating an empty list\n",
    "\n",
    "for i in range(1,51): # ----->iterating over the range from 1 to 50\n",
    "    a.append(i)# -----> appending every element into the list\n",
    "    \n",
    "print(a)"
   ]
  },
  {
   "cell_type": "code",
   "execution_count": 35,
   "id": "1b2fbda9",
   "metadata": {},
   "outputs": [
    {
     "name": "stdout",
     "output_type": "stream",
     "text": [
      "[1, 2, 3, 4, 5, 6, 7, 8, 9, 10, 11, 12, 13, 14, 15, 16, 17, 18, 19, 20, 21, 22, 23, 24, 25, 26, 27, 28, 29, 30, 31, 32, 33, 34, 35, 36, 37, 38, 39, 40, 41, 42, 43, 44, 45, 46, 47, 48, 49, 50]\n"
     ]
    }
   ],
   "source": [
    "a = [i for i in range(1,51)]\n",
    "print(a)"
   ]
  },
  {
   "cell_type": "code",
   "execution_count": 36,
   "id": "3ff1bfc8",
   "metadata": {},
   "outputs": [
    {
     "name": "stdout",
     "output_type": "stream",
     "text": [
      "[2, 4, 6, 8, 10, 12, 14, 16, 18, 20, 22, 24, 26, 28, 30, 32, 34, 36, 38, 40, 42, 44, 46, 48, 50]\n",
      "[1, 3, 5, 7, 9, 11, 13, 15, 17, 19, 21, 23, 25, 27, 29, 31, 33, 35, 37, 39, 41, 43, 45, 47, 49]\n"
     ]
    }
   ],
   "source": [
    "# Even and odd list from a list already create \n",
    "\n",
    "Even_lst = []\n",
    "Odd_lst = []\n",
    "\n",
    "for i in a:\n",
    "    if i % 2 == 0:\n",
    "        Even_lst.append(i)\n",
    "    else:\n",
    "        Odd_lst.append(i)\n",
    "\n",
    "print(Even_lst)\n",
    "print(Odd_lst)"
   ]
  },
  {
   "cell_type": "code",
   "execution_count": 38,
   "id": "6ae9d798",
   "metadata": {},
   "outputs": [
    {
     "name": "stdout",
     "output_type": "stream",
     "text": [
      "[2, 4, 6, 8, 10, 12, 14, 16, 18, 20, 22, 24, 26, 28, 30, 32, 34, 36, 38, 40, 42, 44, 46, 48, 50]\n"
     ]
    }
   ],
   "source": [
    "even_lst = [i for i in a if i % 2 == 0]\n",
    "print(even_lst)"
   ]
  },
  {
   "cell_type": "code",
   "execution_count": 41,
   "id": "4330e598",
   "metadata": {},
   "outputs": [
    {
     "name": "stdout",
     "output_type": "stream",
     "text": [
      "[1, 3, 5, 7, 9, 11, 13, 15, 17, 19, 21, 23, 25, 27, 29, 31, 33, 35, 37, 39, 41, 43, 45, 47, 49]\n"
     ]
    }
   ],
   "source": [
    "odd_lst = [i for i in a if i %2 != 0]\n",
    "print(odd_lst)"
   ]
  },
  {
   "cell_type": "code",
   "execution_count": 43,
   "id": "88ef8bb5",
   "metadata": {},
   "outputs": [
    {
     "name": "stdout",
     "output_type": "stream",
     "text": [
      "['A', 'B', 'C', 'D', 'E', 'F', 'G', 'H', 'I', 'J', 'K', 'L', 'M', 'N', 'O', 'P', 'Q', 'R', 'S', 'T', 'U', 'V', 'W', 'X', 'Y', 'Z']\n"
     ]
    }
   ],
   "source": [
    "# generate a list of letter from A to Z using conventional method \n",
    "\n",
    "lst=[]\n",
    "for i in range(65,91):\n",
    "        lst.append(chr(i))\n",
    "print(lst)\n"
   ]
  },
  {
   "cell_type": "code",
   "execution_count": 44,
   "id": "d3ecef89",
   "metadata": {},
   "outputs": [
    {
     "name": "stdout",
     "output_type": "stream",
     "text": [
      "['A', 'B', 'C', 'D', 'E', 'F', 'G', 'H', 'I', 'J', 'K', 'L', 'M', 'N', 'O', 'P', 'Q', 'R', 'S', 'T', 'U', 'V', 'W', 'X', 'Y', 'Z']\n"
     ]
    }
   ],
   "source": [
    "lst=[]\n",
    "for i in range(ord('A'), ord('Z')+1): #[65-91]\n",
    "        lst.append(chr(i))\n",
    "print(lst)\n"
   ]
  },
  {
   "cell_type": "code",
   "execution_count": 51,
   "id": "e02226bf",
   "metadata": {},
   "outputs": [
    {
     "name": "stdout",
     "output_type": "stream",
     "text": [
      "['A', 'B', 'C', 'D', 'E', 'F', 'G', 'H', 'I', 'J', 'K', 'L', 'M', 'N', 'O', 'P', 'Q', 'R', 'S', 'T', 'U', 'V', 'W', 'X', 'Y', 'Z']\n"
     ]
    }
   ],
   "source": [
    "# Generate the same code using list comprehension\n",
    "\n",
    "lst = [chr(i) for i in range(ord('A'), ord('Z')+1)]\n",
    "print(lst)"
   ]
  },
  {
   "cell_type": "code",
   "execution_count": 48,
   "id": "e2d52518",
   "metadata": {},
   "outputs": [
    {
     "name": "stdout",
     "output_type": "stream",
     "text": [
      "['A', 'B', 'C', 'D', 'E', 'F', 'G', 'H', 'I', 'J', 'K', 'L', 'M', 'N', 'O', 'P', 'Q', 'R', 'S', 'T', 'U', 'V', 'W', 'X', 'Y', 'Z']\n"
     ]
    }
   ],
   "source": [
    "alphabet_list = [chr(ord('A') + i) for i in range(26)]\n",
    "print(alphabet_list)\n"
   ]
  },
  {
   "cell_type": "code",
   "execution_count": 54,
   "id": "a8b47a9a",
   "metadata": {},
   "outputs": [
    {
     "name": "stdout",
     "output_type": "stream",
     "text": [
      "[10, 20, 30, 40, 50, 60, 70, 80, 90]\n"
     ]
    }
   ],
   "source": [
    "#generate a list of number divisble by 2 and 5 both by conventional way and list comprehension\n",
    "\n",
    "lst = []\n",
    "for i in range(1, 100):\n",
    "    if i%2==0 and i%5==0:\n",
    "        lst.append(i)\n",
    "print(lst)\n"
   ]
  },
  {
   "cell_type": "code",
   "execution_count": 57,
   "id": "136131a0",
   "metadata": {},
   "outputs": [
    {
     "name": "stdout",
     "output_type": "stream",
     "text": [
      "[10, 20, 30, 40, 50, 60, 70, 80, 90]\n"
     ]
    }
   ],
   "source": [
    "lst =[ i for i in range(1,100) if i%2==0 and i%5==0 ]\n",
    "\n",
    "print(lst)\n"
   ]
  },
  {
   "cell_type": "markdown",
   "id": "056c8b41",
   "metadata": {},
   "source": [
    "### if else statement in list comprehension \n",
    "\n",
    "Syntax:\n",
    "\n",
    "    [expression_true if condition_true else expression_false for i in range()]"
   ]
  },
  {
   "cell_type": "code",
   "execution_count": 58,
   "id": "18abe29e",
   "metadata": {},
   "outputs": [
    {
     "name": "stdout",
     "output_type": "stream",
     "text": [
      "[1, 4, 27, 16, 125, 36, 343, 64, 729, 100]\n"
     ]
    }
   ],
   "source": [
    "# Create a list in which every even element is squared and every odd element is cubed \n",
    "\n",
    "val = []\n",
    "\n",
    "for i in range(1,11):\n",
    "    if i % 2 == 0:\n",
    "        val.append(i**2)\n",
    "    else:\n",
    "        val.append(i**3)\n",
    "\n",
    "print(val)"
   ]
  },
  {
   "cell_type": "code",
   "execution_count": 60,
   "id": "6bf2ef00",
   "metadata": {},
   "outputs": [
    {
     "data": {
      "text/plain": [
       "[1, 4, 27, 16, 125, 36, 343, 64, 729, 100]"
      ]
     },
     "execution_count": 60,
     "metadata": {},
     "output_type": "execute_result"
    }
   ],
   "source": [
    "#list comprehension\n",
    "\n",
    "lst = [i**2 if i%2 ==0 else i**3 for i in range(1,11)]\n",
    "lst"
   ]
  },
  {
   "cell_type": "markdown",
   "id": "eb1eaf2d",
   "metadata": {},
   "source": [
    "Advantages:--\n",
    "    \n",
    "    1. Readability\n",
    "    2. Concise code \n",
    "    3. Improved Performance \n",
    "    4. Functional Programming\n",
    "    5. Avoiding Side Effects \n",
    "    \n",
    "    "
   ]
  },
  {
   "cell_type": "code",
   "execution_count": null,
   "id": "e6e82ca4",
   "metadata": {},
   "outputs": [],
   "source": [
    "Disadvanatage:--\n",
    "    \n",
    "    1. Limited to Simple Operation\n",
    "    2. Nested Comprehsion\n",
    "    3. Readability trade off \n",
    "    4. Debugging challenges "
   ]
  },
  {
   "cell_type": "code",
   "execution_count": null,
   "id": "f69c0421",
   "metadata": {},
   "outputs": [],
   "source": []
  },
  {
   "cell_type": "code",
   "execution_count": null,
   "id": "884dcd8d",
   "metadata": {},
   "outputs": [],
   "source": []
  },
  {
   "cell_type": "code",
   "execution_count": null,
   "id": "025cc490",
   "metadata": {},
   "outputs": [],
   "source": []
  }
 ],
 "metadata": {
  "kernelspec": {
   "display_name": "Python 3 (ipykernel)",
   "language": "python",
   "name": "python3"
  },
  "language_info": {
   "codemirror_mode": {
    "name": "ipython",
    "version": 3
   },
   "file_extension": ".py",
   "mimetype": "text/x-python",
   "name": "python",
   "nbconvert_exporter": "python",
   "pygments_lexer": "ipython3",
   "version": "3.11.5"
  }
 },
 "nbformat": 4,
 "nbformat_minor": 5
}
