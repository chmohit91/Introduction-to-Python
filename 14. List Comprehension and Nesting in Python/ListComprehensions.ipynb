{
 "cells": [
  {
   "cell_type": "markdown",
   "metadata": {},
   "source": [
    "## List comprehensions"
   ]
  },
  {
   "cell_type": "markdown",
   "metadata": {},
   "source": [
    "A *list comprehension* is a compact way to construct a new collection by performing operations on some or all of the elements of another collection\n",
    "\n",
    "It is a powerful and succinct way to specify a data transformation (from one collection to another).\n",
    "\n",
    "General form:  `[ expression for-clause conditional ]`\n",
    "\n",
    "Note that the condition is optional!"
   ]
  },
  {
   "cell_type": "code",
   "execution_count": 4,
   "metadata": {},
   "outputs": [
    {
     "name": "stdout",
     "output_type": "stream",
     "text": [
      "[0, 2, 4, 6, 8, 10, 12, 14, 16, 18]\n"
     ]
    }
   ],
   "source": [
    "#           *expr*  *for-clause*           *conditional*\n",
    "new_list = [value   for value in range(20) if value % 2 == 0]\n",
    "print(new_list)"
   ]
  },
  {
   "cell_type": "markdown",
   "metadata": {},
   "source": [
    "The optional condition is like other Python defaults:"
   ]
  },
  {
   "cell_type": "code",
   "execution_count": null,
   "metadata": {},
   "outputs": [],
   "source": [
    "new_list[::]"
   ]
  },
  {
   "cell_type": "markdown",
   "metadata": {},
   "source": [
    "First reference to value is what we're adding to the list, but it's an expression based on the value in the for loop."
   ]
  },
  {
   "cell_type": "code",
   "execution_count": 5,
   "metadata": {},
   "outputs": [
    {
     "name": "stdout",
     "output_type": "stream",
     "text": [
      "[0, 2, 4, 6, 8, 10, 12, 14, 16, 18, 20, 22, 24, 26, 28, 30, 32, 34, 36, 38]\n"
     ]
    }
   ],
   "source": [
    "new_list = [ value * 2 for value in range(20) ]  # expression evaluated before appending to list\n",
    "print(new_list)"
   ]
  },
  {
   "cell_type": "markdown",
   "metadata": {},
   "source": [
    "First element (expression) is only evaluated if the condition is true:"
   ]
  },
  {
   "cell_type": "code",
   "execution_count": 6,
   "metadata": {},
   "outputs": [
    {
     "name": "stdout",
     "output_type": "stream",
     "text": [
      "[11, 12, 13, 14, 15, 16, 17, 18, 19, 20, 21, 22, 23, 24]\n"
     ]
    }
   ],
   "source": [
    "new_list = [ value + 5 for value in range(20) if value > 5 ]\n",
    "print(new_list)"
   ]
  },
  {
   "cell_type": "markdown",
   "metadata": {},
   "source": [
    "A more realistic example:"
   ]
  },
  {
   "cell_type": "code",
   "execution_count": 28,
   "metadata": {},
   "outputs": [
    {
     "name": "stdout",
     "output_type": "stream",
     "text": [
      "[('AAPL', 54000000), ('FCBK', 23000000), ('TED', 19000000), ('DEF', 44000000)]\n"
     ]
    }
   ],
   "source": [
    "TICKER_IDX = 0\n",
    "SAL_IDX = 1\n",
    "\n",
    "CEO_salaries = [(\"GE\", 1), (\"AMT\", 3), (\"AAPL\", 54), (\"AMZN\", 2),\n",
    "                (\"FCBK\", 23), (\"IBM\", 7), (\"TED\", 19), (\"XRX\", 4),\n",
    "                (\"ABC\", 6), (\"DEF\", 44)]\n",
    "high_salaries = [(salary[TICKER_IDX],\n",
    "                  salary[SAL_IDX] * 1000000)  # expression\n",
    "                 for salary in CEO_salaries   # for loop\n",
    "                 if salary[SAL_IDX] >= 10]    # conditional\n",
    "print(high_salaries)"
   ]
  },
  {
   "cell_type": "markdown",
   "metadata": {},
   "source": [
    "Equivalent code in a loop:"
   ]
  },
  {
   "cell_type": "code",
   "execution_count": 9,
   "metadata": {},
   "outputs": [
    {
     "name": "stdout",
     "output_type": "stream",
     "text": [
      "[54000000, 23000000, 19000000, 44000000]\n"
     ]
    }
   ],
   "source": [
    "high_salaries = []\n",
    "for salary in CEO_salaries:\n",
    "    if salary[SAL_IDX] >= 10:\n",
    "        high_salaries.append(salary[SAL_IDX] * 1000000)\n",
    "print(high_salaries)"
   ]
  },
  {
   "cell_type": "markdown",
   "metadata": {},
   "source": [
    "More complexity..."
   ]
  },
  {
   "cell_type": "code",
   "execution_count": 10,
   "metadata": {},
   "outputs": [
    {
     "name": "stdout",
     "output_type": "stream",
     "text": [
      "[(0, 0, 0), (2, 4, 8), (4, 16, 64), (6, 36, 216), (8, 64, 512), (10, 100, 1000), (12, 144, 1728), (14, 196, 2744)]\n"
     ]
    }
   ],
   "source": [
    "list_o_tuples = [(value, value**2, value**3)  # expression\n",
    "                 for value in range(16)       # for loop\n",
    "                 if value % 2 == 0 ]          # conditonal\n",
    "print(list_o_tuples)"
   ]
  },
  {
   "cell_type": "markdown",
   "metadata": {},
   "source": [
    "Nested loops in comprehensions:"
   ]
  },
  {
   "cell_type": "code",
   "execution_count": 24,
   "metadata": {},
   "outputs": [
    {
     "name": "stdout",
     "output_type": "stream",
     "text": [
      "[(2, 0), (2, 1), (3, 0), (3, 1), (4, 0), (4, 1), (5, 0), (5, 1)]\n"
     ]
    }
   ],
   "source": [
    "GRID_WIDTH = 6\n",
    "GRID_HEIGHT = 4\n",
    "\n",
    "coords_list = [(x, y)\n",
    "               for x in range(GRID_WIDTH) if x > 1\n",
    "               for y in range(GRID_HEIGHT) if y < 2]\n",
    "print(coords_list)"
   ]
  },
  {
   "cell_type": "markdown",
   "metadata": {},
   "source": [
    "Similar loop:"
   ]
  },
  {
   "cell_type": "code",
   "execution_count": 21,
   "metadata": {},
   "outputs": [
    {
     "name": "stdout",
     "output_type": "stream",
     "text": [
      "(0, 0), (0, 1), (0, 2), (0, 3), (1, 0), (1, 1), (1, 2), (1, 3), (2, 0), (2, 1), (2, 2), (2, 3), (3, 0), (3, 1), (3, 2), (3, 3), (4, 0), (4, 1), (4, 2), (4, 3), (5, 0), (5, 1), (5, 2), (5, 3), "
     ]
    }
   ],
   "source": [
    "for x in range(GRID_WIDTH):\n",
    "    for y in range(GRID_HEIGHT):\n",
    "        print(\"({}, {}),\".format(x, y), end=' ')"
   ]
  },
  {
   "cell_type": "markdown",
   "metadata": {},
   "source": [
    "Comprehension on a string:"
   ]
  },
  {
   "cell_type": "code",
   "execution_count": 25,
   "metadata": {},
   "outputs": [
    {
     "name": "stdout",
     "output_type": "stream",
     "text": [
      "['T', 'S', 'S', 'L', 'S', 'S', 'O', 'U', 'T', 'P', 'Y', 'T', 'O', 'N']\n"
     ]
    }
   ],
   "source": [
    "some_string = 'this is a class about python'\n",
    "new_list = [char.upper() for char in some_string if char > 'j']\n",
    "print(new_list)"
   ]
  },
  {
   "cell_type": "markdown",
   "metadata": {},
   "source": [
    "Comprehension on a dictionary:"
   ]
  },
  {
   "cell_type": "code",
   "execution_count": 27,
   "metadata": {},
   "outputs": [
    {
     "name": "stdout",
     "output_type": "stream",
     "text": [
      "[('PIRATE', 'Aargh!'), ('HELLO', 'Hello world!')]\n"
     ]
    }
   ],
   "source": [
    "game_constants = {'MAX_KNIVES': 6, 'PIRATE': \"Aargh!\", 'C': coords_list, \n",
    "                  'PI': 3.14, 'SAO_PAOLO': (3, 7), 'HELLO': \"Hello world!\"}\n",
    "string_constants = [(key, val) \n",
    "                    for (key, val) in game_constants.items()\n",
    "                    if isinstance(val, str)]\n",
    "print(string_constants)"
   ]
  },
  {
   "cell_type": "markdown",
   "metadata": {},
   "source": [
    "Let's get a list of booleans marking which items in another list meet some condition:"
   ]
  },
  {
   "cell_type": "code",
   "execution_count": 31,
   "metadata": {},
   "outputs": [
    {
     "name": "stdout",
     "output_type": "stream",
     "text": [
      "[False, False, True, False, True, False, True, False, False, True]\n"
     ]
    }
   ],
   "source": [
    "target_companies = [sal[SAL_IDX] >= 10 for sal in CEO_salaries]\n",
    "print(target_companies)"
   ]
  },
  {
   "cell_type": "code",
   "execution_count": null,
   "metadata": {},
   "outputs": [],
   "source": []
  }
 ],
 "metadata": {
  "kernelspec": {
   "display_name": "Python 3",
   "language": "python",
   "name": "python3"
  },
  "language_info": {
   "codemirror_mode": {
    "name": "ipython",
    "version": 3
   },
   "file_extension": ".py",
   "mimetype": "text/x-python",
   "name": "python",
   "nbconvert_exporter": "python",
   "pygments_lexer": "ipython3",
   "version": "3.9.0"
  }
 },
 "nbformat": 4,
 "nbformat_minor": 2
}
