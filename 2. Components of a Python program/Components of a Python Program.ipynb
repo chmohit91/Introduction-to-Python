{
 "cells": [
  {
   "cell_type": "markdown",
   "id": "9a02775e",
   "metadata": {},
   "source": [
    "# Components of a Python program\n",
    "\n",
    "1. Literals - Literal Collections\n",
    "2. Identifiers - Variables, Function names, class names, Reserved keywords\n",
    "3. (Operators - Part - Arithmetic operators, comparison operators, identity operators, membership operators)\n",
    "4. Statements - Expressions (Difference between Statements and Expressions)\n",
    "5. Suites - Blocks (difference between Suites and Blocks)"
   ]
  },
  {
   "cell_type": "code",
   "execution_count": null,
   "id": "6ce5835c",
   "metadata": {},
   "outputs": [],
   "source": [
    "# Literals\n",
    "\n",
    "a = 1000\n",
    "\n",
    "\n",
    "print(id(a))"
   ]
  },
  {
   "cell_type": "code",
   "execution_count": null,
   "id": "e8f2ec3b",
   "metadata": {},
   "outputs": [],
   "source": [
    "b = 1000\n",
    "\n",
    "print(id(b))"
   ]
  },
  {
   "cell_type": "code",
   "execution_count": null,
   "id": "0969d597",
   "metadata": {},
   "outputs": [],
   "source": [
    "# is keyword - checks if memory location of both objects is the same\n",
    "# == operator - checks if the VALUE of both objects is the same\n",
    "\n",
    "print(a == b)\n",
    "print(a is b)"
   ]
  },
  {
   "cell_type": "code",
   "execution_count": null,
   "id": "a0d0321a",
   "metadata": {},
   "outputs": [],
   "source": [
    "c = a\n",
    "\n",
    "print(a == c)\n",
    "print(a is c)"
   ]
  },
  {
   "cell_type": "code",
   "execution_count": null,
   "id": "e3bbd287",
   "metadata": {},
   "outputs": [],
   "source": [
    "d = 10.2\n",
    "e = 10.2\n",
    "f = d\n",
    "\n",
    "print(d is e)\n",
    "print(d is f)"
   ]
  },
  {
   "cell_type": "code",
   "execution_count": null,
   "id": "bfc42bd0",
   "metadata": {},
   "outputs": [],
   "source": [
    "# Assignment operator '='"
   ]
  },
  {
   "cell_type": "code",
   "execution_count": null,
   "id": "d77aa55f",
   "metadata": {},
   "outputs": [],
   "source": [
    "a = 10\n",
    "b = a # bs value is equal to a - assingment, b = a\n",
    "\n"
   ]
  },
  {
   "cell_type": "code",
   "execution_count": null,
   "id": "4bba9a79",
   "metadata": {},
   "outputs": [],
   "source": [
    "# Operators\n",
    "\n",
    "a = 10   # single = - is for assignment of a value\n",
    "\n",
    "\n",
    "print(a==10)\n",
    "\n"
   ]
  },
  {
   "cell_type": "code",
   "execution_count": null,
   "id": "1fc99b02",
   "metadata": {},
   "outputs": [],
   "source": [
    "# Comparison operators\n",
    "\n",
    "#>, <, >=, <=, ==, !=\n",
    "\n",
    "print(20<=20)"
   ]
  },
  {
   "cell_type": "code",
   "execution_count": null,
   "id": "42e78254",
   "metadata": {},
   "outputs": [],
   "source": [
    "# Arithmetic operators\n",
    "\n",
    "# + - Addition\n",
    "# - - Subtraction\n",
    "# * - Multiplication\n",
    "# / - Division\n",
    "# // - Floor division (i.e. only the quotient is output after doing division)\n",
    "# % - Modulo (i.e. only the remainder is output after doing division)\n",
    "# ** - Exponentiation (to the power of)\n",
    "# **(1/n) - Roots"
   ]
  },
  {
   "cell_type": "code",
   "execution_count": null,
   "id": "03d8a663",
   "metadata": {},
   "outputs": [],
   "source": [
    "print(10 / 20)"
   ]
  },
  {
   "cell_type": "code",
   "execution_count": null,
   "id": "4282bed4",
   "metadata": {},
   "outputs": [],
   "source": [
    "print(97//10)"
   ]
  },
  {
   "cell_type": "code",
   "execution_count": null,
   "id": "c8dd7a9f",
   "metadata": {},
   "outputs": [],
   "source": [
    "print(97%10)"
   ]
  },
  {
   "cell_type": "code",
   "execution_count": null,
   "id": "3f0d3597",
   "metadata": {},
   "outputs": [],
   "source": [
    "a = 73\n",
    "\n",
    "print(a%2==0)"
   ]
  },
  {
   "cell_type": "code",
   "execution_count": null,
   "id": "05dfcdd5",
   "metadata": {},
   "outputs": [],
   "source": [
    "print(5**3)"
   ]
  },
  {
   "cell_type": "code",
   "execution_count": null,
   "id": "dc8c13d1",
   "metadata": {},
   "outputs": [],
   "source": [
    "print(int(9**(1/3)))"
   ]
  },
  {
   "cell_type": "code",
   "execution_count": null,
   "id": "e364da0b",
   "metadata": {},
   "outputs": [],
   "source": [
    "print(125**(1/3))"
   ]
  },
  {
   "cell_type": "code",
   "execution_count": null,
   "id": "a05d83d0",
   "metadata": {},
   "outputs": [],
   "source": [
    "print(10/2)"
   ]
  },
  {
   "cell_type": "code",
   "execution_count": null,
   "id": "3236b071",
   "metadata": {},
   "outputs": [],
   "source": [
    "# membership operator\n",
    "\n",
    "x = 'Learnbay'\n",
    "\n",
    "print('b' in x)"
   ]
  },
  {
   "cell_type": "code",
   "execution_count": null,
   "id": "70981620",
   "metadata": {},
   "outputs": [],
   "source": [
    "print('b' not in x)"
   ]
  },
  {
   "cell_type": "code",
   "execution_count": null,
   "id": "96577fca",
   "metadata": {},
   "outputs": [],
   "source": [
    "name = 'Mehak'\n",
    "\n",
    "print('m' in name)"
   ]
  },
  {
   "cell_type": "code",
   "execution_count": null,
   "id": "840b5063",
   "metadata": {},
   "outputs": [],
   "source": [
    "namelist = list(name)\n",
    "\n",
    "print(namelist)"
   ]
  },
  {
   "cell_type": "code",
   "execution_count": null,
   "id": "63d1e2b3",
   "metadata": {},
   "outputs": [],
   "source": [
    "print('a' in namelist)"
   ]
  },
  {
   "cell_type": "code",
   "execution_count": null,
   "id": "c6cfffe8",
   "metadata": {},
   "outputs": [],
   "source": [
    "listnum = list(range(1,100,5))\n",
    "\n",
    "print(listnum)"
   ]
  },
  {
   "cell_type": "code",
   "execution_count": null,
   "id": "0bf49151",
   "metadata": {},
   "outputs": [],
   "source": [
    "print(42 in listnum)"
   ]
  },
  {
   "cell_type": "code",
   "execution_count": null,
   "id": "30c5af57",
   "metadata": {},
   "outputs": [],
   "source": [
    "# Literals\n",
    "\n",
    "# Numeric literals\n",
    "\n",
    "# Integers\n",
    "\n",
    "a = 10\n",
    "\n",
    "print(a)\n",
    "print(type(a))"
   ]
  },
  {
   "cell_type": "code",
   "execution_count": null,
   "id": "0d6a42b2",
   "metadata": {},
   "outputs": [],
   "source": [
    "b = 10.2 \n",
    "\n",
    "print(type(b))"
   ]
  },
  {
   "cell_type": "code",
   "execution_count": null,
   "id": "43d54900",
   "metadata": {},
   "outputs": [],
   "source": [
    "x = print(float(a))\n",
    "\n",
    "print(x)"
   ]
  },
  {
   "cell_type": "code",
   "execution_count": null,
   "id": "5a5b1827",
   "metadata": {},
   "outputs": [],
   "source": [
    "# Typecasting between int and float\n",
    "\n",
    "afloat = float(a)\n",
    "\n",
    "print(afloat)\n",
    "\n",
    "print(type(afloat))"
   ]
  },
  {
   "cell_type": "code",
   "execution_count": null,
   "id": "f92c1d55",
   "metadata": {},
   "outputs": [],
   "source": [
    "bint = int(b)\n",
    "\n",
    "print(bint)\n",
    "print(type(bint))"
   ]
  },
  {
   "cell_type": "code",
   "execution_count": null,
   "id": "8e92d62c",
   "metadata": {},
   "outputs": [],
   "source": [
    "# Complex numbers\n",
    "\n",
    "# -25 = 25 x -1   = -1 - Square root -1 is an imaginary number that we need for higher mathematical operations\n",
    "\n",
    "# i - stands for iota (j also stands for iota in some programming languages including python)\n",
    "\n",
    "# 5* sqroot -1\n",
    "# 5i\n",
    "\n",
    "# real + imaginary number\n",
    "\n",
    "# 3 + 5j - complex number\n",
    "\n",
    "# used in higher maths and some specialised fields. \n",
    "\n",
    "x = 2+3j\n",
    "\n",
    "print(x)\n",
    "print(type(x))"
   ]
  },
  {
   "cell_type": "code",
   "execution_count": null,
   "id": "640d2466",
   "metadata": {},
   "outputs": [],
   "source": [
    "y = -7+8j\n",
    "\n",
    "print(x+y)"
   ]
  },
  {
   "cell_type": "code",
   "execution_count": null,
   "id": "c091c895",
   "metadata": {},
   "outputs": [],
   "source": [
    "print(x*y)"
   ]
  },
  {
   "cell_type": "code",
   "execution_count": null,
   "id": "a7ee9969",
   "metadata": {},
   "outputs": [],
   "source": [
    "#-1 sqroot is imaginary"
   ]
  },
  {
   "cell_type": "code",
   "execution_count": null,
   "id": "5fd86226",
   "metadata": {},
   "outputs": [],
   "source": [
    "# bin, hex, oct - Skipping for now. "
   ]
  },
  {
   "cell_type": "code",
   "execution_count": null,
   "id": "9f26c873",
   "metadata": {},
   "outputs": [],
   "source": [
    "# Strings - Literals\n",
    "\n",
    "a = 'Akash'\n",
    "\n",
    "print(a)\n",
    "print(type(a))"
   ]
  },
  {
   "cell_type": "code",
   "execution_count": null,
   "id": "b834cb9d",
   "metadata": {},
   "outputs": [],
   "source": [
    "a = 'Akash'\n",
    "b = \"Akash\"\n",
    "c = '''Akash'''\n",
    "\n",
    "print(a == b)\n",
    "print(a == c)\n",
    "print(c == a)"
   ]
  },
  {
   "cell_type": "code",
   "execution_count": null,
   "id": "eba40e27",
   "metadata": {},
   "outputs": [],
   "source": [
    "# Implicit typecasting\n",
    "\n",
    "a = 10\n",
    "\n",
    "print(type(a))"
   ]
  },
  {
   "cell_type": "code",
   "execution_count": null,
   "id": "d8f1a172",
   "metadata": {},
   "outputs": [],
   "source": [
    "# Explicit typecasting\n",
    "b = str(a)\n",
    "\n",
    "print(b)\n",
    "print(type(b))"
   ]
  },
  {
   "cell_type": "code",
   "execution_count": null,
   "id": "353acb54",
   "metadata": {},
   "outputs": [],
   "source": [
    "c = 10.2\n",
    "\n",
    "d = str(c)\n",
    "\n",
    "print(d)\n",
    "print(type(d))"
   ]
  },
  {
   "cell_type": "code",
   "execution_count": null,
   "id": "4dcbeb7a",
   "metadata": {},
   "outputs": [],
   "source": [
    "x = '10'\n",
    "\n",
    "y = int(x)\n",
    "\n",
    "print(y)\n",
    "print(type(y))"
   ]
  },
  {
   "cell_type": "code",
   "execution_count": null,
   "id": "1c576174",
   "metadata": {},
   "outputs": [],
   "source": [
    "p = '10.2'\n",
    "\n",
    "q = int(p)\n",
    "\n",
    "print(q)\n",
    "print(type(q))"
   ]
  },
  {
   "cell_type": "code",
   "execution_count": null,
   "id": "6322e780",
   "metadata": {},
   "outputs": [],
   "source": [
    "r = '10.2'\n",
    "s = float(r)\n",
    "\n",
    "print(s)\n",
    "print(type(s))"
   ]
  },
  {
   "cell_type": "code",
   "execution_count": null,
   "id": "857505ff",
   "metadata": {},
   "outputs": [],
   "source": [
    "# Implicit typecasting - dynamic typecasting\n",
    "\n",
    "# Explicit typecasting - Where we are clearly changing the datatypes ourselves. \n",
    "\n",
    "# IN GENERAL USAGE WHEN WE SAY TYPECASTING - we are referring to EXPLICIT TYPECASTING. "
   ]
  },
  {
   "cell_type": "code",
   "execution_count": null,
   "id": "ac3d6113",
   "metadata": {},
   "outputs": [],
   "source": [
    "# "
   ]
  },
  {
   "cell_type": "code",
   "execution_count": null,
   "id": "07d9145c",
   "metadata": {},
   "outputs": [],
   "source": [
    "a = 10 # Implicit typecasting / dynamic typecasting\n",
    "\n",
    "print(type(a))"
   ]
  },
  {
   "cell_type": "code",
   "execution_count": null,
   "id": "1d9f4560",
   "metadata": {},
   "outputs": [],
   "source": [
    "b = str(a) # Explicit typecasting - \n",
    "\n",
    "# Typecast = Explicit typecasting"
   ]
  },
  {
   "cell_type": "code",
   "execution_count": null,
   "id": "a93903d3",
   "metadata": {},
   "outputs": [],
   "source": []
  },
  {
   "cell_type": "code",
   "execution_count": null,
   "id": "0c9df939",
   "metadata": {},
   "outputs": [],
   "source": [
    "# Boolean literals\n",
    "\n",
    "# True / False"
   ]
  },
  {
   "cell_type": "code",
   "execution_count": null,
   "id": "69c46447",
   "metadata": {},
   "outputs": [],
   "source": [
    "a = True\n",
    "\n",
    "print(a)\n",
    "print(type(a))"
   ]
  },
  {
   "cell_type": "code",
   "execution_count": null,
   "id": "633d854f",
   "metadata": {},
   "outputs": [],
   "source": [
    "b = False\n",
    "\n",
    "print(b)\n",
    "print(type(b))"
   ]
  },
  {
   "cell_type": "code",
   "execution_count": null,
   "id": "3e59a5ff",
   "metadata": {},
   "outputs": [],
   "source": [
    "# True equals 1, False equals 0 BUT any non empty string or non zero number EVALUATES to True while zero and empty strings\n",
    "# and None EVALUATE to False."
   ]
  },
  {
   "cell_type": "code",
   "execution_count": null,
   "id": "fc7b4664",
   "metadata": {},
   "outputs": [],
   "source": [
    "x = False\n",
    "\n",
    "print(x)\n",
    "print(type(x))"
   ]
  },
  {
   "cell_type": "code",
   "execution_count": null,
   "id": "dcaa89bc",
   "metadata": {},
   "outputs": [],
   "source": [
    "y = int(False)\n",
    "\n",
    "print(y)\n",
    "print(type(y))"
   ]
  },
  {
   "cell_type": "code",
   "execution_count": null,
   "id": "64adc25c",
   "metadata": {},
   "outputs": [],
   "source": [
    "a = True\n",
    "\n",
    "print(a)\n",
    "print(type(a))"
   ]
  },
  {
   "cell_type": "code",
   "execution_count": null,
   "id": "4df76f61",
   "metadata": {},
   "outputs": [],
   "source": [
    "b = int(True)\n",
    "\n",
    "print(b)\n",
    "print(type(b))"
   ]
  },
  {
   "cell_type": "code",
   "execution_count": null,
   "id": "1fc9dee9",
   "metadata": {},
   "outputs": [],
   "source": [
    "# any non empty string or non zero number EVALUATES to True while zero and empty strings\n",
    "# EVALUATE to False.\n",
    "\n",
    "a = 0\n",
    "\n",
    "print(a)\n",
    "print(type(a))"
   ]
  },
  {
   "cell_type": "code",
   "execution_count": null,
   "id": "7d1e0b73",
   "metadata": {},
   "outputs": [],
   "source": [
    "b = bool(a)\n",
    "\n",
    "print(b)\n",
    "print(type(b))"
   ]
  },
  {
   "cell_type": "code",
   "execution_count": null,
   "id": "99b55018",
   "metadata": {},
   "outputs": [],
   "source": [
    "a = -0.00000\n",
    "\n",
    "print(a)\n",
    "print(type(a))\n"
   ]
  },
  {
   "cell_type": "code",
   "execution_count": null,
   "id": "0b35065e",
   "metadata": {},
   "outputs": [],
   "source": [
    "b = bool(a)\n",
    "\n",
    "print(b)\n",
    "print(type(b))"
   ]
  },
  {
   "cell_type": "code",
   "execution_count": null,
   "id": "050e5513",
   "metadata": {},
   "outputs": [],
   "source": [
    "name = 'Ashish'\n",
    "\n",
    "print(name)\n",
    "print(type(name))"
   ]
  },
  {
   "cell_type": "code",
   "execution_count": null,
   "id": "59137296",
   "metadata": {},
   "outputs": [],
   "source": [
    "namebool = bool(name)\n",
    "\n",
    "print(namebool)\n",
    "print(type(namebool))"
   ]
  },
  {
   "cell_type": "code",
   "execution_count": null,
   "id": "815e83f7",
   "metadata": {},
   "outputs": [],
   "source": [
    "empty = ''\n",
    "\n",
    "print(empty)\n",
    "print(type(empty))\n"
   ]
  },
  {
   "cell_type": "code",
   "execution_count": null,
   "id": "143259c8",
   "metadata": {},
   "outputs": [],
   "source": [
    "emptybool = int(bool(empty))\n",
    "\n",
    "print(emptybool)\n",
    "print(type(emptybool))"
   ]
  },
  {
   "cell_type": "code",
   "execution_count": null,
   "id": "bb3a77e0",
   "metadata": {},
   "outputs": [],
   "source": [
    "a = 'swati'\n",
    "\n",
    "print(bool(a))\n",
    "\n",
    "if a:\n",
    "    print('Hi')"
   ]
  },
  {
   "cell_type": "code",
   "execution_count": null,
   "id": "04f06499",
   "metadata": {},
   "outputs": [],
   "source": [
    "a = ''\n",
    "\n",
    "print(bool(a))\n",
    "\n",
    "if a:\n",
    "    print('Hi')"
   ]
  },
  {
   "cell_type": "code",
   "execution_count": null,
   "id": "624e6dbd",
   "metadata": {},
   "outputs": [],
   "source": [
    "a = None\n",
    "\n",
    "if a:\n",
    "    print('Hi')"
   ]
  },
  {
   "cell_type": "code",
   "execution_count": null,
   "id": "67ceaf68",
   "metadata": {},
   "outputs": [],
   "source": []
  },
  {
   "cell_type": "code",
   "execution_count": null,
   "id": "92498c3f",
   "metadata": {},
   "outputs": [],
   "source": []
  },
  {
   "cell_type": "markdown",
   "id": "fffc14c8",
   "metadata": {},
   "source": [
    "### None"
   ]
  },
  {
   "cell_type": "code",
   "execution_count": null,
   "id": "00de0f21",
   "metadata": {},
   "outputs": [],
   "source": [
    "a = None\n",
    "\n",
    "print(a)\n",
    "print(type(a))"
   ]
  },
  {
   "cell_type": "code",
   "execution_count": null,
   "id": "ee96bf8b",
   "metadata": {},
   "outputs": [],
   "source": [
    "print(0 == None)"
   ]
  },
  {
   "cell_type": "code",
   "execution_count": null,
   "id": "21b42557",
   "metadata": {},
   "outputs": [],
   "source": [
    "print(False == None)"
   ]
  },
  {
   "cell_type": "code",
   "execution_count": null,
   "id": "fddbc0d4",
   "metadata": {},
   "outputs": [],
   "source": [
    "print(bool(None))"
   ]
  },
  {
   "cell_type": "code",
   "execution_count": null,
   "id": "089d36f2",
   "metadata": {},
   "outputs": [],
   "source": [
    "# literals ALMOST = Fundamental Datatypes / Primitive Datatypes\n",
    "# literal collections = Derived datatypes\n"
   ]
  },
  {
   "cell_type": "code",
   "execution_count": null,
   "id": "724f3021",
   "metadata": {},
   "outputs": [],
   "source": [
    "# Literal collections\n",
    "\n",
    "lst = ['a', 100, 10.2, 2+3j, ['x', 'y'], 'Ranjana']\n",
    "\n",
    "print(lst)\n",
    "print(type(lst))\n",
    "\n",
    "\n"
   ]
  },
  {
   "cell_type": "code",
   "execution_count": null,
   "id": "10746a3c",
   "metadata": {},
   "outputs": [],
   "source": [
    "tup1 = ('a', 100, 10.2, 2+3j, ('x', 'y'), 'Ranjana')\n",
    "\n",
    "print(tup1)\n",
    "print(type(tup1))"
   ]
  },
  {
   "cell_type": "code",
   "execution_count": null,
   "id": "4da110eb",
   "metadata": {},
   "outputs": [],
   "source": [
    "dictionary = {'Abdul':100, 'Swati': 101, 'preeti':102 }\n",
    "\n",
    "print(dictionary)\n",
    "print(type(dictionary))"
   ]
  },
  {
   "cell_type": "code",
   "execution_count": null,
   "id": "8b672ded",
   "metadata": {},
   "outputs": [],
   "source": [
    "str1 = 'Sachin'\n",
    "\n",
    "for char in str1:\n",
    "    print(char, end = '\\n'+'*'*125+'\\n')\n",
    "\n"
   ]
  },
  {
   "cell_type": "code",
   "execution_count": null,
   "id": "680ef75c",
   "metadata": {},
   "outputs": [],
   "source": [
    "# Strings are an exceptional datatype in Python - which are classified as Fundamental Datatype / Literals. They are also\n",
    "# immutable (more on that later) <All other fundamental datatypes in Python are ALSO immutable>. HOWEVER, they exhibit the\n",
    "# property of collections/derived datatypes in that they are MADE UP OF individual characters which we can individually\n",
    "# access. "
   ]
  },
  {
   "cell_type": "code",
   "execution_count": null,
   "id": "856babfe",
   "metadata": {},
   "outputs": [],
   "source": [
    "lstname = list('Sachin')\n",
    "\n",
    "print(lstname)"
   ]
  },
  {
   "cell_type": "code",
   "execution_count": null,
   "id": "27a29ecb",
   "metadata": {},
   "outputs": [],
   "source": [
    "for char in lstname:\n",
    "    print(char, end = '\\n'+'-'*125+'\\n')"
   ]
  },
  {
   "cell_type": "code",
   "execution_count": null,
   "id": "e78acca1",
   "metadata": {},
   "outputs": [],
   "source": [
    "a = 1000\n",
    "b = 1000\n",
    "\n",
    "print(id(a))\n",
    "print(id(b))"
   ]
  },
  {
   "cell_type": "code",
   "execution_count": null,
   "id": "f1929b36",
   "metadata": {},
   "outputs": [],
   "source": [
    "lst1 = [1000,1001,1002]\n",
    "\n",
    "lst2 = [1000,1001,1002]\n",
    "\n",
    "for idx in range(len(lst1)):\n",
    "    print(lst1[idx], id(lst1[idx]), id(lst2[idx]))"
   ]
  },
  {
   "cell_type": "code",
   "execution_count": null,
   "id": "8ea77144",
   "metadata": {},
   "outputs": [],
   "source": [
    "lst1 = [100,200,250]\n",
    "\n",
    "lst2 = [100,200,250]\n",
    "\n",
    "lst3 = [100,200,250]\n",
    "\n",
    "for idx in range(len(lst1)):\n",
    "    print(lst1[idx], id(lst1[idx]), id(lst2[idx]), id(lst3[idx]))"
   ]
  },
  {
   "cell_type": "code",
   "execution_count": null,
   "id": "fa8fd386",
   "metadata": {},
   "outputs": [],
   "source": [
    "str1 = 'Sachin'\n",
    "lst1 = list('Sachin')\n",
    "lst2 = ['Sachin', 'Akash']\n",
    "\n",
    "print(lst1)\n",
    "print(lst2)"
   ]
  },
  {
   "cell_type": "code",
   "execution_count": null,
   "id": "8fb54150",
   "metadata": {},
   "outputs": [],
   "source": [
    "lstx = list('Akash')\n",
    "\n",
    "print(lstx)"
   ]
  },
  {
   "cell_type": "code",
   "execution_count": null,
   "id": "8c292e55",
   "metadata": {},
   "outputs": [],
   "source": [
    "print(id(str1))\n",
    "print(id(lst1))"
   ]
  },
  {
   "cell_type": "code",
   "execution_count": null,
   "id": "20f33f29",
   "metadata": {},
   "outputs": [],
   "source": [
    "lst3 = [str1]\n",
    "\n",
    "print(id(str1))\n",
    "print(id(lst3))"
   ]
  },
  {
   "cell_type": "code",
   "execution_count": null,
   "id": "6fabd710",
   "metadata": {},
   "outputs": [],
   "source": [
    "a = 1000\n",
    "b = 1000\n",
    "\n",
    "print(id(a))\n",
    "print(id(b))"
   ]
  },
  {
   "cell_type": "code",
   "execution_count": null,
   "id": "7cd15bb8",
   "metadata": {},
   "outputs": [],
   "source": [
    "x = 10\n",
    "y = 10\n",
    "\n",
    "print(id(x))\n",
    "print(id(y))"
   ]
  },
  {
   "cell_type": "code",
   "execution_count": null,
   "id": "cfd14d1e",
   "metadata": {},
   "outputs": [],
   "source": [
    "# Literal collection - is made up of multiple objects\n",
    "\n",
    "lst1 = ['a', 10, 30.2]\n",
    "\n",
    "print(lst1)"
   ]
  },
  {
   "cell_type": "markdown",
   "id": "deadbe3a",
   "metadata": {},
   "source": [
    "### Identifiers\n",
    "\n",
    "Names given to variables, function names or class names so that they can be 'identified' and used in our program. \n",
    "\n",
    "They follow the following rules and conventions:\n",
    "\n",
    "#### Rules\n",
    "1. Must only contain alphabets, numbers and _<underscore> i.e. no other special symbols like @, !,   <space>, etc allowed\n",
    "2. Must not begin with a number\n",
    "3. Must not be a reserved keyword\n",
    "    \n",
    "    \n",
    "*Property of identifiers is that they are case-sensitive i.e. a = 10 is NOT the same as A = 10. or abc is not the same as aBc. \n",
    "    "
   ]
  },
  {
   "cell_type": "code",
   "execution_count": null,
   "id": "095dcd7a",
   "metadata": {},
   "outputs": [],
   "source": [
    "import keyword\n",
    "\n",
    "print(keyword.kwlist)"
   ]
  },
  {
   "cell_type": "code",
   "execution_count": null,
   "id": "abfadd76",
   "metadata": {},
   "outputs": [],
   "source": [
    "pass = 10\n",
    "\n",
    "print(pass)"
   ]
  },
  {
   "cell_type": "code",
   "execution_count": null,
   "id": "877c356e",
   "metadata": {},
   "outputs": [],
   "source": [
    "print('Pallav')"
   ]
  },
  {
   "cell_type": "code",
   "execution_count": null,
   "id": "58b0a79a",
   "metadata": {},
   "outputs": [],
   "source": [
    "x = int('10')\n",
    "\n",
    "print(x)\n",
    "print(type(x))"
   ]
  },
  {
   "cell_type": "code",
   "execution_count": null,
   "id": "1c2f5c48",
   "metadata": {},
   "outputs": [],
   "source": [
    "int = 100\n",
    "\n",
    "x = int('10')\n",
    "\n",
    "print(x)\n",
    "print(type(x))\n"
   ]
  },
  {
   "cell_type": "code",
   "execution_count": null,
   "id": "0b90123a",
   "metadata": {},
   "outputs": [],
   "source": [
    "list1 = [10,20,30]\n",
    "\n",
    "list = [10,20,30]"
   ]
  },
  {
   "cell_type": "code",
   "execution_count": null,
   "id": "aa861b59",
   "metadata": {},
   "outputs": [],
   "source": [
    "_abc\n",
    "__abc\n",
    "__abc__"
   ]
  },
  {
   "cell_type": "code",
   "execution_count": 2,
   "id": "9c08831d",
   "metadata": {},
   "outputs": [
    {
     "name": "stdout",
     "output_type": "stream",
     "text": [
      "10\n"
     ]
    }
   ],
   "source": [
    "abc = 10\n",
    "\n",
    "print(abc)"
   ]
  },
  {
   "cell_type": "code",
   "execution_count": 3,
   "id": "f828eece",
   "metadata": {},
   "outputs": [
    {
     "name": "stdout",
     "output_type": "stream",
     "text": [
      "10\n"
     ]
    }
   ],
   "source": [
    "abc2 = 10\n",
    "\n",
    "print(abc2)"
   ]
  },
  {
   "cell_type": "code",
   "execution_count": 4,
   "id": "9702b700",
   "metadata": {},
   "outputs": [
    {
     "ename": "SyntaxError",
     "evalue": "invalid syntax (2413962423.py, line 1)",
     "output_type": "error",
     "traceback": [
      "\u001b[1;36m  File \u001b[1;32m\"C:\\Users\\Lenovo\\AppData\\Local\\Temp\\ipykernel_11232\\2413962423.py\"\u001b[1;36m, line \u001b[1;32m1\u001b[0m\n\u001b[1;33m    2abc = 10\u001b[0m\n\u001b[1;37m     ^\u001b[0m\n\u001b[1;31mSyntaxError\u001b[0m\u001b[1;31m:\u001b[0m invalid syntax\n"
     ]
    }
   ],
   "source": [
    "2abc = 10\n",
    "\n",
    "print(2abc)"
   ]
  },
  {
   "cell_type": "markdown",
   "id": "672b6376",
   "metadata": {},
   "source": [
    "### Conventions for identifiers\n",
    "\n",
    "1. Please do not use built-in python function names OR function names that are imported from other libraries as identifiers.\n",
    "2. Do NOT use __doubleunderscore__ identifier names. They are RESERVED for python developers.\n",
    "3. Before using _underscore or __precedingdoubleunderscore identifiers please ensure that they have not been used in any \n",
    "imported libraries. Single or double underscore PRECEDING an identifier is used by developers to tell other developers that\n",
    "changing the function will end up causing their imported libraries to stop working as expected. \n",
    "4. Constants are conventionally stored as capital letter variables i.e.\n",
    "\n",
    "PI is understood to be a constant \n",
    "\n",
    "and ALL constants are stored in a separate file if used in a library."
   ]
  },
  {
   "cell_type": "markdown",
   "id": "c1c000f9",
   "metadata": {},
   "source": [
    "script1\n",
    "\n",
    "\n",
    "code\n",
    "code\n",
    "Constant\n",
    "\n",
    "code\n",
    "\n",
    "code\n",
    "constant"
   ]
  },
  {
   "cell_type": "code",
   "execution_count": null,
   "id": "41357aee",
   "metadata": {},
   "outputs": [],
   "source": [
    "script2\n",
    "import script3\n",
    "\n",
    "code\n",
    "code\n",
    "code\n",
    "script3.constant"
   ]
  },
  {
   "cell_type": "code",
   "execution_count": null,
   "id": "6fae5a52",
   "metadata": {},
   "outputs": [],
   "source": [
    "script3\n",
    "\n",
    "constant\n",
    "constant1"
   ]
  },
  {
   "cell_type": "code",
   "execution_count": null,
   "id": "221f7bf6",
   "metadata": {},
   "outputs": [],
   "source": []
  },
  {
   "cell_type": "code",
   "execution_count": null,
   "id": "90d8b433",
   "metadata": {},
   "outputs": [],
   "source": []
  },
  {
   "cell_type": "code",
   "execution_count": null,
   "id": "c69102f9",
   "metadata": {},
   "outputs": [],
   "source": []
  },
  {
   "cell_type": "code",
   "execution_count": 1,
   "id": "c646842b",
   "metadata": {},
   "outputs": [
    {
     "name": "stdout",
     "output_type": "stream",
     "text": [
      "['__add__', '__class__', '__class_getitem__', '__contains__', '__delattr__', '__delitem__', '__dir__', '__doc__', '__eq__', '__format__', '__ge__', '__getattribute__', '__getitem__', '__gt__', '__hash__', '__iadd__', '__imul__', '__init__', '__init_subclass__', '__iter__', '__le__', '__len__', '__lt__', '__mul__', '__ne__', '__new__', '__reduce__', '__reduce_ex__', '__repr__', '__reversed__', '__rmul__', '__setattr__', '__setitem__', '__sizeof__', '__str__', '__subclasshook__', 'append', 'clear', 'copy', 'count', 'extend', 'index', 'insert', 'pop', 'remove', 'reverse', 'sort']\n"
     ]
    }
   ],
   "source": [
    "print(dir(list))"
   ]
  },
  {
   "cell_type": "markdown",
   "id": "a02bd75b",
   "metadata": {},
   "source": [
    "### Statements and Expressions\n",
    "\n",
    "##### Difference between statements and expressions\n",
    "\n",
    "#### Expressions are STATEMENTS that need to be evaluated"
   ]
  },
  {
   "cell_type": "code",
   "execution_count": 5,
   "id": "f2770705",
   "metadata": {},
   "outputs": [
    {
     "name": "stdout",
     "output_type": "stream",
     "text": [
      "10\n",
      "Wah ustad! Ajee huzoor wah Taj kahiye\n"
     ]
    }
   ],
   "source": [
    "a = 10\n",
    "\n",
    "print(a)\n",
    "if a >5:\n",
    "    print('Wah ustad! Ajee huzoor wah Taj kahiye')\n",
    "else:\n",
    "    print('Washing powder nirma! '*3)\n"
   ]
  },
  {
   "cell_type": "code",
   "execution_count": null,
   "id": "67d28271",
   "metadata": {},
   "outputs": [],
   "source": [
    "a = 10*3\n",
    "a = 'Washing Powder Nirma! '*3"
   ]
  },
  {
   "cell_type": "code",
   "execution_count": null,
   "id": "0ce9447e",
   "metadata": {},
   "outputs": [],
   "source": [
    "# All expressions are statements. True or False? === True\n",
    "\n",
    "# All statements are expressions. True or False? == False"
   ]
  },
  {
   "cell_type": "markdown",
   "id": "ba99ee1e",
   "metadata": {},
   "source": [
    "#### Blocks and Suites\n",
    "\n",
    "##### A code header with indented lines of code(same indentation) are meant to be run/executed together. Such syntax is \n",
    "##### called block or suite."
   ]
  },
  {
   "cell_type": "code",
   "execution_count": null,
   "id": "e72d3f82",
   "metadata": {},
   "outputs": [],
   "source": [
    "a = 10\n",
    "\n",
    "if a > 5:\n",
    "    print('Hi')\n",
    "else:\n",
    "    print('Hello')"
   ]
  },
  {
   "cell_type": "code",
   "execution_count": null,
   "id": "6ae9514f",
   "metadata": {},
   "outputs": [],
   "source": [
    "for x in 'Bharat':\n",
    "    print(x)"
   ]
  },
  {
   "cell_type": "markdown",
   "id": "775d6d2e",
   "metadata": {},
   "source": [
    "## For loops (part)\n",
    "\n",
    "1. For loops can only be run on some DERIVED datatypes(literal collections) <iterables> NOT on singular objects= literals = fundamental datatypes \n",
    "2. It goes through each element of the iterable in sequence from beginning to end and finally stops after processing the \n",
    "last element. \n",
    "3. They CANNOT be asked to start or end at some midpoint in the iterable - they WILL run from beginning to end of the iterable. However, we can use programming logic to shorten the iterable to begin where we want to begin or end where we \n",
    "want to end and THEN run the for loop. \n"
   ]
  },
  {
   "cell_type": "code",
   "execution_count": 7,
   "id": "70b65269",
   "metadata": {},
   "outputs": [
    {
     "name": "stdout",
     "output_type": "stream",
     "text": [
      "Mehak is a very good student!\n",
      "Rashmi is a very good student!\n",
      "Akash is a very good student!\n",
      "Dinesh is a very good student!\n",
      "Manasa is a very good student!\n",
      "Raheela is a very good student!\n",
      "Ebi is a very good student!\n",
      "dipali is a very good student!\n",
      "Rohan is a very good student!\n",
      "Akash is a very good student!\n",
      "Antara is a very good student!\n",
      "Prem is a very good student!\n"
     ]
    }
   ],
   "source": [
    "\n",
    "listnames = ['Mehak', 'Rashmi', 'Akash', 'Dinesh','Manasa', 'Raheela', 'Ebi', 'dipali','Rohan','Akash', 'Antara', 'Prem']\n",
    "\n",
    "for name in listnames:\n",
    "    print(name + ' is a very good student!')\n",
    "    \n"
   ]
  },
  {
   "cell_type": "code",
   "execution_count": 8,
   "id": "17745d9e",
   "metadata": {},
   "outputs": [
    {
     "name": "stdout",
     "output_type": "stream",
     "text": [
      "['Manasa', 'Raheela', 'Ebi', 'dipali', 'Rohan', 'Akash', 'Antara', 'Prem']\n"
     ]
    }
   ],
   "source": [
    "listnames2 = listnames[4:]\n",
    "\n",
    "print(listnames2)"
   ]
  },
  {
   "cell_type": "code",
   "execution_count": 10,
   "id": "79461a67",
   "metadata": {},
   "outputs": [
    {
     "name": "stdout",
     "output_type": "stream",
     "text": [
      "Manasa is a very good student!\n",
      "Raheela is a very good student!\n",
      "Ebi is a very good student!\n",
      "dipali is a very good student!\n",
      "Rohan is a very good student!\n",
      "Akash is a very good student!\n",
      "Antara is a very good student!\n",
      "Prem is a very good student!\n"
     ]
    }
   ],
   "source": [
    "for name in listnames2:\n",
    "    print(name + ' is a very good student!')"
   ]
  },
  {
   "cell_type": "code",
   "execution_count": 11,
   "id": "e64818f0",
   "metadata": {},
   "outputs": [
    {
     "ename": "TypeError",
     "evalue": "'int' object is not iterable",
     "output_type": "error",
     "traceback": [
      "\u001b[1;31m---------------------------------------------------------------------------\u001b[0m",
      "\u001b[1;31mTypeError\u001b[0m                                 Traceback (most recent call last)",
      "\u001b[1;32m~\\AppData\\Local\\Temp\\ipykernel_11232\\2514096689.py\u001b[0m in \u001b[0;36m<module>\u001b[1;34m\u001b[0m\n\u001b[1;32m----> 1\u001b[1;33m \u001b[1;32mfor\u001b[0m \u001b[0mx\u001b[0m \u001b[1;32min\u001b[0m \u001b[1;36m1077803592\u001b[0m\u001b[1;33m:\u001b[0m\u001b[1;33m\u001b[0m\u001b[1;33m\u001b[0m\u001b[0m\n\u001b[0m\u001b[0;32m      2\u001b[0m     \u001b[0mprint\u001b[0m\u001b[1;33m(\u001b[0m\u001b[0mx\u001b[0m\u001b[1;33m)\u001b[0m\u001b[1;33m\u001b[0m\u001b[1;33m\u001b[0m\u001b[0m\n",
      "\u001b[1;31mTypeError\u001b[0m: 'int' object is not iterable"
     ]
    }
   ],
   "source": [
    "for x in 1077803592:\n",
    "    print(x)"
   ]
  },
  {
   "cell_type": "code",
   "execution_count": 13,
   "id": "c1bd41b0",
   "metadata": {},
   "outputs": [
    {
     "name": "stdout",
     "output_type": "stream",
     "text": [
      "Mehak is a very good student!\n",
      "Rashmi is a very good student!\n",
      "Akash is a very good student!\n",
      "Dinesh is a very good student!\n",
      "Manasa is a very good student!\n",
      "Raheela is a very good student!\n",
      "Ebi is a very good student!\n",
      "dipali is a very good student!\n",
      "Rohan is a very good student!\n",
      "Akash is a very good student!\n",
      "Antara is a very good student!\n",
      "Prem is a very good student!\n"
     ]
    }
   ],
   "source": [
    "# Syntax of a for loop\n",
    "\n",
    "# for <tempvar> in <iterable>:\n",
    "#     code\n",
    "#     code\n",
    "#     code\n",
    "#     code\n",
    "    \n",
    "    \n",
    "    \n",
    "listnames = ['Mehak', 'Rashmi', 'Akash', 'Dinesh','Manasa', 'Raheela', 'Ebi', 'dipali','Rohan','Akash', 'Antara', 'Prem']\n",
    "\n",
    "for name in listnames:\n",
    "    print(name + ' is a very good student!')\n"
   ]
  },
  {
   "cell_type": "code",
   "execution_count": 18,
   "id": "9eebadf9",
   "metadata": {},
   "outputs": [
    {
     "name": "stdout",
     "output_type": "stream",
     "text": [
      "Prem is a very good student!\n"
     ]
    }
   ],
   "source": [
    "name = 'Prem'\n",
    "\n",
    "print(name + ' is a very good student!')"
   ]
  },
  {
   "cell_type": "code",
   "execution_count": 19,
   "id": "63d55363",
   "metadata": {},
   "outputs": [
    {
     "name": "stdout",
     "output_type": "stream",
     "text": [
      "E\n",
      "s\n",
      "h\n",
      "i\n",
      "t\n",
      "a\n"
     ]
    }
   ],
   "source": [
    "for char in 'Eshita':\n",
    "    print(char)"
   ]
  },
  {
   "cell_type": "code",
   "execution_count": 21,
   "id": "bdf4961a",
   "metadata": {},
   "outputs": [
    {
     "name": "stdout",
     "output_type": "stream",
     "text": [
      "Eshita\n",
      "Rikki\n"
     ]
    }
   ],
   "source": [
    "#print(for name + ' is a very good student \\n')\n",
    "\n",
    "\n",
    "print('Eshita')\n",
    "print('Rikki')"
   ]
  },
  {
   "cell_type": "code",
   "execution_count": 22,
   "id": "3c52b9e8",
   "metadata": {},
   "outputs": [
    {
     "name": "stdout",
     "output_type": "stream",
     "text": [
      "E\n",
      "s\n",
      "h\n",
      "i\n",
      "t\n",
      "a\n"
     ]
    }
   ],
   "source": [
    "print('E')\n",
    "print('s')\n",
    "print('h')\n",
    "print('i')\n",
    "print('t')\n",
    "print('a')"
   ]
  },
  {
   "cell_type": "code",
   "execution_count": 30,
   "id": "4a781cc7",
   "metadata": {},
   "outputs": [
    {
     "name": "stdout",
     "output_type": "stream",
     "text": [
      "PremHello\n"
     ]
    }
   ],
   "source": [
    "name = ['Prem']\n",
    "\n",
    "for name in name:\n",
    "    print(name+'Hello')"
   ]
  },
  {
   "cell_type": "code",
   "execution_count": 24,
   "id": "8d237bc7",
   "metadata": {},
   "outputs": [
    {
     "name": "stdout",
     "output_type": "stream",
     "text": [
      "PHello\n",
      "rHello\n",
      "eHello\n",
      "mHello\n"
     ]
    }
   ],
   "source": [
    "for name in 'Prem':\n",
    "    print(name+'Hello')"
   ]
  },
  {
   "cell_type": "code",
   "execution_count": 25,
   "id": "e5ee3cda",
   "metadata": {},
   "outputs": [
    {
     "name": "stdout",
     "output_type": "stream",
     "text": [
      "PHello\n"
     ]
    }
   ],
   "source": [
    "name = 'P'\n",
    "\n",
    "print('P'+'Hello')"
   ]
  },
  {
   "cell_type": "code",
   "execution_count": 26,
   "id": "2dee3a82",
   "metadata": {},
   "outputs": [
    {
     "name": "stdout",
     "output_type": "stream",
     "text": [
      "rHello\n"
     ]
    }
   ],
   "source": [
    "name = 'r'\n",
    "\n",
    "print(name+'Hello')"
   ]
  },
  {
   "cell_type": "code",
   "execution_count": 27,
   "id": "65d53b3c",
   "metadata": {},
   "outputs": [
    {
     "name": "stdout",
     "output_type": "stream",
     "text": [
      "eHello\n"
     ]
    }
   ],
   "source": [
    "name = 'e'\n",
    "\n",
    "print(name+'Hello')"
   ]
  },
  {
   "cell_type": "code",
   "execution_count": 28,
   "id": "54ed5b4d",
   "metadata": {},
   "outputs": [
    {
     "name": "stdout",
     "output_type": "stream",
     "text": [
      "fHello\n"
     ]
    }
   ],
   "source": [
    "name = 'f'\n",
    "\n",
    "print(name+'Hello')"
   ]
  },
  {
   "cell_type": "code",
   "execution_count": null,
   "id": "4fac1bd5",
   "metadata": {},
   "outputs": [],
   "source": []
  }
 ],
 "metadata": {
  "kernelspec": {
   "display_name": "Python 3 (ipykernel)",
   "language": "python",
   "name": "python3"
  },
  "language_info": {
   "codemirror_mode": {
    "name": "ipython",
    "version": 3
   },
   "file_extension": ".py",
   "mimetype": "text/x-python",
   "name": "python",
   "nbconvert_exporter": "python",
   "pygments_lexer": "ipython3",
   "version": "3.9.13"
  }
 },
 "nbformat": 4,
 "nbformat_minor": 5
}
