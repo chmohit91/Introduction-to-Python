{
 "cells": [
  {
   "cell_type": "markdown",
   "id": "aecf108c",
   "metadata": {},
   "source": [
    "# Datatypes - Tuples"
   ]
  },
  {
   "cell_type": "code",
   "execution_count": null,
   "id": "7ec05bbb",
   "metadata": {},
   "outputs": [],
   "source": [
    "#Tuples are another derived datatype in Python. They retain some of the versatility of lists except that they are immutable\n",
    "# unlike Lists. Since they are immutable, a lot of functions like append, extend, remove, pop and clear which can be used\n",
    "# on lists cannot be used on Tuples. \n",
    "\n",
    "# Tuples come in handy when we need a datatype that can store different types of elements but cannot be mutated. \n",
    "\n",
    "# Special Note - if the elements in the Tuple are mutable objects - since the tuple is only saving the memory location of \n",
    "# the object AND tuples support indexing - one CAN access the mutable object inside the tuple and mutate that particular\n",
    "# element - indirectly mutating the tuple. More on that - with examples - later. \n",
    "\n",
    "# Tuples have the following properties : \n",
    "#a. Derived datatype\n",
    "#b. Sequential and Ordered\n",
    "#c. Immutable\n",
    "#d. Can hold different kinds of datatypes - including mutable objects. Heterogenous. \n",
    "#e. Indexing and Slicing is supported. Item assignment - Not supported\n",
    "#f. Iterable\n",
    "#g. Nesting is possible.\n"
   ]
  },
  {
   "cell_type": "code",
   "execution_count": null,
   "id": "0ddafe8f",
   "metadata": {},
   "outputs": [],
   "source": [
    "# Derived datatype\n",
    "# heterogenous\n",
    "# iterable\n",
    "# immutable\n",
    "# nesting is possible\n",
    "# subscription - only indexing and slicing are supported but since it is immutable - assignment is not supported."
   ]
  },
  {
   "cell_type": "code",
   "execution_count": 1,
   "id": "e37c793c",
   "metadata": {},
   "outputs": [
    {
     "name": "stdout",
     "output_type": "stream",
     "text": [
      "(2, 2, 2, 2)\n",
      "<class 'tuple'>\n"
     ]
    }
   ],
   "source": [
    "tup1 = 2,2,2,2\n",
    "\n",
    "print(tup1)\n",
    "print(type(tup1))"
   ]
  },
  {
   "cell_type": "code",
   "execution_count": 8,
   "id": "6514622d",
   "metadata": {},
   "outputs": [
    {
     "name": "stdout",
     "output_type": "stream",
     "text": [
      "<class 'tuple'>\n"
     ]
    }
   ],
   "source": [
    "stu_marks = ('SID0010', 'Rajeev', [30,40,50,60])\n",
    "print(type(stu_marks))"
   ]
  },
  {
   "cell_type": "code",
   "execution_count": 6,
   "id": "d36c44b0",
   "metadata": {},
   "outputs": [
    {
     "name": "stdout",
     "output_type": "stream",
     "text": [
      "['SID0011', 'Rajeev', [30, 40, 50, 60]]\n"
     ]
    }
   ],
   "source": [
    "stu_marks_list = ['SID0010', 'Rajeev', [30,40,50,60]]\n",
    "\n",
    "stu_marks_list[0] = 'SID0011'\n",
    "print(stu_marks_list)"
   ]
  },
  {
   "cell_type": "code",
   "execution_count": 13,
   "id": "705f0c20",
   "metadata": {},
   "outputs": [
    {
     "name": "stdout",
     "output_type": "stream",
     "text": [
      "(100,)\n",
      "<class 'tuple'>\n"
     ]
    }
   ],
   "source": [
    "x = 100,\n",
    "\n",
    "print(x)\n",
    "print(type(x))"
   ]
  },
  {
   "cell_type": "code",
   "execution_count": 17,
   "id": "d3397e95",
   "metadata": {},
   "outputs": [],
   "source": [
    "# tuple function to initialise a tuple will take maximum ONE iterable as its argument."
   ]
  },
  {
   "cell_type": "code",
   "execution_count": 15,
   "id": "df964cb5",
   "metadata": {},
   "outputs": [
    {
     "name": "stdout",
     "output_type": "stream",
     "text": [
      "('SID0011', 'Rajeev', [30, 40, 50, 60])\n"
     ]
    }
   ],
   "source": [
    "tup1 = tuple(stu_marks_list)\n",
    "\n",
    "print(tup1)"
   ]
  },
  {
   "cell_type": "code",
   "execution_count": 16,
   "id": "424300a6",
   "metadata": {},
   "outputs": [
    {
     "name": "stdout",
     "output_type": "stream",
     "text": [
      "()\n",
      "<class 'tuple'>\n"
     ]
    }
   ],
   "source": [
    "tup2 = tuple()\n",
    "\n",
    "print(tup2)\n",
    "print(type(tup2))"
   ]
  },
  {
   "cell_type": "code",
   "execution_count": 3,
   "id": "e3a6e3ed",
   "metadata": {},
   "outputs": [
    {
     "name": "stdout",
     "output_type": "stream",
     "text": [
      "(1, 2, 3, 4, 4)\n",
      "<class 'tuple'>\n"
     ]
    }
   ],
   "source": [
    "#To initiate a tuple, just use round brackets around the elements, separated by a comma. \n",
    "\n",
    "tup1 = (1,2,3,4,4)\n",
    "\n",
    "print(tup1)\n",
    "print(type(tup1))"
   ]
  },
  {
   "cell_type": "code",
   "execution_count": 4,
   "id": "d19f816e",
   "metadata": {},
   "outputs": [
    {
     "name": "stdout",
     "output_type": "stream",
     "text": [
      "(1, 2, 3, 4, 4)\n",
      "<class 'tuple'>\n"
     ]
    }
   ],
   "source": [
    "tup2 = 1,2,3,4,4\n",
    "\n",
    "print(tup2)\n",
    "print(type(tup2))"
   ]
  },
  {
   "cell_type": "code",
   "execution_count": 5,
   "id": "ce48ca31",
   "metadata": {},
   "outputs": [
    {
     "name": "stdout",
     "output_type": "stream",
     "text": [
      "(1,)\n",
      "<class 'tuple'>\n"
     ]
    }
   ],
   "source": [
    "tup3 = (1,)\n",
    "\n",
    "print(tup3)\n",
    "print(type(tup3))"
   ]
  },
  {
   "cell_type": "code",
   "execution_count": 6,
   "id": "6a6b3847",
   "metadata": {},
   "outputs": [
    {
     "name": "stdout",
     "output_type": "stream",
     "text": [
      "(1,)\n",
      "<class 'tuple'>\n"
     ]
    }
   ],
   "source": [
    "tup4 = 1,\n",
    "\n",
    "print(tup4)\n",
    "print(type(tup4))"
   ]
  },
  {
   "cell_type": "code",
   "execution_count": 12,
   "id": "f9f84cd9",
   "metadata": {},
   "outputs": [
    {
     "name": "stdout",
     "output_type": "stream",
     "text": [
      "('a', 'b', 'c', 'd', 'e')\n",
      "<class 'tuple'>\n"
     ]
    }
   ],
   "source": [
    "tup1 = tuple('abcde')\n",
    "\n",
    "print(tup1)\n",
    "print(type(tup1))"
   ]
  },
  {
   "cell_type": "code",
   "execution_count": 13,
   "id": "366ae51b",
   "metadata": {},
   "outputs": [
    {
     "name": "stdout",
     "output_type": "stream",
     "text": [
      "a\n",
      "b\n",
      "c\n",
      "d\n",
      "e\n"
     ]
    }
   ],
   "source": [
    "for x in tup1:\n",
    "    print(x)"
   ]
  },
  {
   "cell_type": "code",
   "execution_count": 7,
   "id": "58bb6d43",
   "metadata": {},
   "outputs": [
    {
     "name": "stdout",
     "output_type": "stream",
     "text": [
      "('a', 'b', 'c', 'd', 'e')\n"
     ]
    }
   ],
   "source": [
    "tupnumber = tuple('abcde')\n",
    "print(tupnumber)"
   ]
  },
  {
   "cell_type": "code",
   "execution_count": 8,
   "id": "ec02d79f",
   "metadata": {},
   "outputs": [
    {
     "name": "stdout",
     "output_type": "stream",
     "text": [
      "(0, 1, 2, 3, 4, 5, 6, 7, 8, 9)\n",
      "<class 'tuple'>\n"
     ]
    }
   ],
   "source": [
    "range1 = range(10)\n",
    "\n",
    "tuprange = tuple(range1)\n",
    "\n",
    "print(tuprange)\n",
    "print(type(tuprange))"
   ]
  },
  {
   "cell_type": "code",
   "execution_count": null,
   "id": "6502550b",
   "metadata": {},
   "outputs": [],
   "source": [
    "# Alternately use the tuple constructor with an iterable as a parameter. Just like lists. \n",
    "\n",
    "tup2 = tuple('abcde')\n",
    "\n",
    "print(tup2)\n",
    "print(type(tup2))"
   ]
  },
  {
   "cell_type": "code",
   "execution_count": 9,
   "id": "82043394",
   "metadata": {},
   "outputs": [
    {
     "name": "stdout",
     "output_type": "stream",
     "text": [
      "('abcde',)\n",
      "<class 'tuple'>\n"
     ]
    }
   ],
   "source": [
    "#If you wish to save the iterable(sequential) object as just one object - use the parenthesis.\n",
    "\n",
    "tup3 = ('abcde',)\n",
    "\n",
    "print(tup3)\n",
    "print(type(tup3))\n",
    "\n",
    "# print(len(tup3))\n",
    "\n",
    "# for x in tup3:\n",
    "#     print(x)"
   ]
  },
  {
   "cell_type": "code",
   "execution_count": 14,
   "id": "4efceb5d",
   "metadata": {},
   "outputs": [
    {
     "name": "stdout",
     "output_type": "stream",
     "text": [
      "([1, 2, 3, 4], [100, 200], 'a')\n",
      "<class 'tuple'>\n"
     ]
    }
   ],
   "source": [
    "tuplist = tuple([[1,2,3,4],[100,200],'a'])\n",
    "\n",
    "print(tuplist)\n",
    "print(type(tuplist))"
   ]
  },
  {
   "cell_type": "code",
   "execution_count": 15,
   "id": "aae9c493",
   "metadata": {},
   "outputs": [
    {
     "name": "stdout",
     "output_type": "stream",
     "text": [
      "(1, 'a', 10.2, [100, 200])\n"
     ]
    }
   ],
   "source": [
    "tup1 = (1,'a', 10.2, [100,200])\n",
    "\n",
    "\n",
    "print(tup1)"
   ]
  },
  {
   "cell_type": "code",
   "execution_count": 18,
   "id": "73e7e614",
   "metadata": {},
   "outputs": [
    {
     "name": "stdout",
     "output_type": "stream",
     "text": [
      "(1, 'a', 10.2, [100, 200])\n"
     ]
    }
   ],
   "source": [
    "import copy\n",
    "\n",
    "tup2 = copy.copy(tup1)\n",
    "\n",
    "print(tup2)"
   ]
  },
  {
   "cell_type": "code",
   "execution_count": 19,
   "id": "bc72392b",
   "metadata": {},
   "outputs": [
    {
     "name": "stdout",
     "output_type": "stream",
     "text": [
      "1752425108352\n",
      "1752425108352\n",
      "True\n"
     ]
    }
   ],
   "source": [
    "print(id(tup1[3]))\n",
    "\n",
    "print(id(tup2[3]))\n",
    "\n",
    "print(id(tup1[3]) == id(tup2[3]))"
   ]
  },
  {
   "cell_type": "code",
   "execution_count": 20,
   "id": "a1e764cc",
   "metadata": {},
   "outputs": [
    {
     "name": "stdout",
     "output_type": "stream",
     "text": [
      "(1, 'a', 10.2, [101, 200])\n",
      "(1, 'a', 10.2, [101, 200])\n"
     ]
    }
   ],
   "source": [
    "tup1[3][0] = 101\n",
    "\n",
    "\n",
    "print(tup1)\n",
    "print(tup2)"
   ]
  },
  {
   "cell_type": "code",
   "execution_count": 24,
   "id": "97560937",
   "metadata": {},
   "outputs": [
    {
     "name": "stdout",
     "output_type": "stream",
     "text": [
      "(1, 'a', 10.2, [1111, 200])\n",
      "(1, 'a', 10.2, [1111, 200])\n",
      "(1, 'a', 10.2, [111, 200])\n"
     ]
    }
   ],
   "source": [
    "import copy\n",
    "\n",
    "tup3 = copy.deepcopy(tup1)\n",
    "\n",
    "tup1[3][0] = 1111\n",
    "\n",
    "print(tup1)\n",
    "print(tup2)\n",
    "print(tup3)\n"
   ]
  },
  {
   "cell_type": "code",
   "execution_count": 25,
   "id": "a6b9bd53",
   "metadata": {},
   "outputs": [
    {
     "name": "stdout",
     "output_type": "stream",
     "text": [
      "(1, 'a', 10.2, -1, [100, 200, (10, 20, 30)])\n"
     ]
    }
   ],
   "source": [
    "lst2 = (1,'a', 10.2,-1, [100,200, (10,20,30)])\n",
    "\n",
    "print(lst2)"
   ]
  },
  {
   "cell_type": "code",
   "execution_count": 28,
   "id": "b4ca9e0f",
   "metadata": {},
   "outputs": [
    {
     "name": "stdout",
     "output_type": "stream",
     "text": [
      "(1, 'a', 10.2, -1, [100, 200, (11, 22, 33)])\n"
     ]
    }
   ],
   "source": [
    "lst2[4][-1] = (11,22,33)\n",
    "\n",
    "print(lst2)"
   ]
  },
  {
   "cell_type": "code",
   "execution_count": 22,
   "id": "d27fc8a0",
   "metadata": {},
   "outputs": [
    {
     "name": "stdout",
     "output_type": "stream",
     "text": [
      "1 1754489186608 1754489186608 1754489186608\n",
      "a 1754493798000 1754493798000 1754493798000\n",
      "10.2 1752424806800 1752424806800 1752424806800\n",
      "[111, 200] 1752425108352 1752425108352 1752425104256\n"
     ]
    }
   ],
   "source": [
    "for x in range(len(tup1)):\n",
    "    print(tup1[x], id(tup1[x]), id(tup2[x]), id(tup3[x]))"
   ]
  },
  {
   "cell_type": "code",
   "execution_count": null,
   "id": "b641fcca",
   "metadata": {},
   "outputs": [],
   "source": [
    "tup3 = (10*10,)\n",
    "print(tup3)\n",
    "print(type(tup3))"
   ]
  },
  {
   "cell_type": "code",
   "execution_count": null,
   "id": "a3898d6e",
   "metadata": {},
   "outputs": [],
   "source": [
    "tup3 = 10,20,30\n",
    "\n",
    "print(tup3)\n",
    "print(type(tup3))"
   ]
  },
  {
   "cell_type": "code",
   "execution_count": null,
   "id": "40d824d5",
   "metadata": {},
   "outputs": [],
   "source": [
    "tup3 = 1,\n",
    "\n",
    "print(tup3)\n",
    "print(type(tup3))"
   ]
  },
  {
   "cell_type": "code",
   "execution_count": null,
   "id": "a4ce7f98",
   "metadata": {},
   "outputs": [],
   "source": [
    "#Note the comma after the element in the above syntax. This tells Python that we did not mean to just put a single element\n",
    "# inside the variable but to create a tuple which contains one element. \n",
    "\n",
    "tup4 = ('abcde')\n",
    "\n",
    "print(tup4)\n",
    "print(type(tup4))"
   ]
  },
  {
   "cell_type": "code",
   "execution_count": null,
   "id": "1ffe132e",
   "metadata": {},
   "outputs": [],
   "source": [
    "#Note, how in the above case (since it was without a comma after the element), Python understood it as a single element\n",
    "# and not a tuple. "
   ]
  },
  {
   "cell_type": "code",
   "execution_count": null,
   "id": "a1a830ef",
   "metadata": {},
   "outputs": [],
   "source": [
    "# A tuple can even be initialised without the round brackets. \n",
    "\n",
    "tup5 = (1,)\n",
    "\n",
    "print(tup5)\n",
    "print(type(tup5))"
   ]
  },
  {
   "cell_type": "code",
   "execution_count": null,
   "id": "d8b576e4",
   "metadata": {},
   "outputs": [],
   "source": [
    "tup6 = 'abcde',\n",
    "\n",
    "print(tup6)\n",
    "print(type(tup6))"
   ]
  },
  {
   "cell_type": "code",
   "execution_count": null,
   "id": "b0df6237",
   "metadata": {},
   "outputs": [],
   "source": [
    "#As with the syntax of element without comma - while using brackets - the same holds true if you do not use brackets. \n",
    "\n",
    "tup7 = 'abcde'\n",
    "\n",
    "print(tup7)\n",
    "print(type(tup7))"
   ]
  },
  {
   "cell_type": "code",
   "execution_count": 19,
   "id": "54dfcad9",
   "metadata": {},
   "outputs": [
    {
     "name": "stdout",
     "output_type": "stream",
     "text": [
      "(1, 'abcde', 2001, 10.2, [1, 2, 3, 4], {'a': 1001, 200: ['Rock', 'Paper', 'Scissors']}, ('BMW', 'Audi', 'Merc', 'Rolls', 'Maybach'), (10+11j))\n",
      "<class 'tuple'>\n"
     ]
    }
   ],
   "source": [
    "#Tuples can hold different datatypes. \n",
    "\n",
    "tup1 = (1,'abcde', 2001, 10.2, [1,2,3,4], {'a':1001, 200 : ['Rock', 'Paper', 'Scissors']}, \n",
    "        ('BMW', 'Audi', 'Merc', 'Rolls', 'Maybach'), 10 + 11j)\n",
    "\n",
    "print(tup1)\n",
    "print(type(tup1))"
   ]
  },
  {
   "cell_type": "code",
   "execution_count": 20,
   "id": "a9fc41c3",
   "metadata": {},
   "outputs": [
    {
     "name": "stdout",
     "output_type": "stream",
     "text": [
      "['__add__', '__class__', '__class_getitem__', '__contains__', '__delattr__', '__dir__', '__doc__', '__eq__', '__format__', '__ge__', '__getattribute__', '__getitem__', '__getnewargs__', '__gt__', '__hash__', '__init__', '__init_subclass__', '__iter__', '__le__', '__len__', '__lt__', '__mul__', '__ne__', '__new__', '__reduce__', '__reduce_ex__', '__repr__', '__rmul__', '__setattr__', '__sizeof__', '__str__', '__subclasshook__', 'count', 'index']\n"
     ]
    }
   ],
   "source": [
    "print(dir(tuple))"
   ]
  },
  {
   "cell_type": "code",
   "execution_count": 30,
   "id": "8bde1877",
   "metadata": {},
   "outputs": [
    {
     "name": "stdout",
     "output_type": "stream",
     "text": [
      "3\n"
     ]
    }
   ],
   "source": [
    "#As with other sequential objects we have learnt - they support indexing and slicing. \n",
    "\n",
    "print(tup1[4][2])"
   ]
  },
  {
   "cell_type": "code",
   "execution_count": null,
   "id": "bd2ace87",
   "metadata": {},
   "outputs": [],
   "source": []
  },
  {
   "cell_type": "code",
   "execution_count": 31,
   "id": "e86d9475",
   "metadata": {},
   "outputs": [
    {
     "name": "stdout",
     "output_type": "stream",
     "text": [
      "(1, 'abcde', 2001, 10.2, [1, 2, 3, 4], {'a': 1001, 200: ['Rock', 'Paper', 'Scissors']})\n",
      "<class 'tuple'>\n"
     ]
    }
   ],
   "source": [
    "tup2 = tup1[:6]\n",
    "\n",
    "print(tup2)\n",
    "print(type(tup2))"
   ]
  },
  {
   "cell_type": "code",
   "execution_count": 32,
   "id": "ca3913ac",
   "metadata": {},
   "outputs": [
    {
     "ename": "TypeError",
     "evalue": "'tuple' object does not support item assignment",
     "output_type": "error",
     "traceback": [
      "\u001b[1;31m---------------------------------------------------------------------------\u001b[0m",
      "\u001b[1;31mTypeError\u001b[0m                                 Traceback (most recent call last)",
      "\u001b[1;32m~\\AppData\\Local\\Temp\\ipykernel_18836\\1859906517.py\u001b[0m in \u001b[0;36m<module>\u001b[1;34m\u001b[0m\n\u001b[0;32m      1\u001b[0m \u001b[1;31m#However, they do not support assignment on the immutable objects in them i.e. the tuples themselves are immutable.\u001b[0m\u001b[1;33m\u001b[0m\u001b[1;33m\u001b[0m\u001b[0m\n\u001b[0;32m      2\u001b[0m \u001b[1;33m\u001b[0m\u001b[0m\n\u001b[1;32m----> 3\u001b[1;33m \u001b[0mtup2\u001b[0m\u001b[1;33m[\u001b[0m\u001b[1;36m2\u001b[0m\u001b[1;33m]\u001b[0m \u001b[1;33m=\u001b[0m \u001b[1;36m20\u001b[0m\u001b[1;33m\u001b[0m\u001b[1;33m\u001b[0m\u001b[0m\n\u001b[0m\u001b[0;32m      4\u001b[0m \u001b[1;33m\u001b[0m\u001b[0m\n\u001b[0;32m      5\u001b[0m \u001b[0mprint\u001b[0m\u001b[1;33m(\u001b[0m\u001b[0mtup2\u001b[0m\u001b[1;33m)\u001b[0m\u001b[1;33m\u001b[0m\u001b[1;33m\u001b[0m\u001b[0m\n",
      "\u001b[1;31mTypeError\u001b[0m: 'tuple' object does not support item assignment"
     ]
    }
   ],
   "source": [
    "#However, they do not support assignment on the immutable objects in them i.e. the tuples themselves are immutable. \n",
    "\n",
    "tup2[2] = 20\n",
    "\n",
    "print(tup2)"
   ]
  },
  {
   "cell_type": "code",
   "execution_count": null,
   "id": "6ac1e3d8",
   "metadata": {},
   "outputs": [],
   "source": []
  },
  {
   "cell_type": "code",
   "execution_count": null,
   "id": "2762d624",
   "metadata": {},
   "outputs": [],
   "source": [
    "tup2[4][1] = 20\n",
    "\n",
    "print(tup2)"
   ]
  },
  {
   "cell_type": "code",
   "execution_count": null,
   "id": "1db0bd09",
   "metadata": {},
   "outputs": [],
   "source": [
    "aliasing and copying in Tuples - is the same thing. Because anyway even if I were to alias - I would not be able to change\n",
    "the \n",
    "immutable elements in a tuple. "
   ]
  },
  {
   "cell_type": "code",
   "execution_count": null,
   "id": "a82db892",
   "metadata": {},
   "outputs": [],
   "source": [
    "lst1 = list(tup2)\n",
    "\n",
    "print(lst1)"
   ]
  },
  {
   "cell_type": "code",
   "execution_count": null,
   "id": "faca9fb5",
   "metadata": {},
   "outputs": [],
   "source": [
    "#In lists we could have reassigned the item at index 0. \n",
    "\n",
    "lst1[0] = 2\n",
    "\n",
    "print(lst1)"
   ]
  },
  {
   "cell_type": "code",
   "execution_count": null,
   "id": "2f780ed8",
   "metadata": {},
   "outputs": [],
   "source": [
    "print(tup2)"
   ]
  },
  {
   "cell_type": "code",
   "execution_count": null,
   "id": "01c5fd4a",
   "metadata": {},
   "outputs": [],
   "source": [
    "lst1 = [1,2,[100,200]]\n",
    "\n",
    "lst1[2] = [1000,2000]\n",
    "\n",
    "print(lst1)"
   ]
  },
  {
   "cell_type": "code",
   "execution_count": null,
   "id": "a7f55911",
   "metadata": {},
   "outputs": [],
   "source": [
    "#However, in a tuple, the mutable elements can be altered. The idea is - since the tuple is holding the memory ids of the\n",
    "# objects inside it, we cannot change the objects that it is holding. However, if we were to alter the mutable object that\n",
    "# is inside the tuple, the id of that object does not change and the immutability idea of tuples is not violated. \n",
    "print(tup2)"
   ]
  },
  {
   "cell_type": "code",
   "execution_count": null,
   "id": "b2fceabe",
   "metadata": {},
   "outputs": [],
   "source": [
    "tup2[4][0] = 101\n",
    "\n",
    "print(tup2)"
   ]
  },
  {
   "cell_type": "code",
   "execution_count": null,
   "id": "3644c979",
   "metadata": {},
   "outputs": [],
   "source": [
    "# tup2[5][200][1] = 'Fire'\n",
    "\n",
    "# print(tup2)"
   ]
  },
  {
   "cell_type": "code",
   "execution_count": null,
   "id": "266531e7",
   "metadata": {},
   "outputs": [],
   "source": [
    "print(tup2)"
   ]
  },
  {
   "cell_type": "code",
   "execution_count": null,
   "id": "829aefa8",
   "metadata": {},
   "outputs": [],
   "source": [
    "# We can perform iteration on tuples. \n",
    "\n",
    "for a in tup2:\n",
    "    print(a)"
   ]
  },
  {
   "cell_type": "code",
   "execution_count": null,
   "id": "f895e30f",
   "metadata": {},
   "outputs": [],
   "source": [
    "print(tup2)"
   ]
  },
  {
   "cell_type": "code",
   "execution_count": 33,
   "id": "313053eb",
   "metadata": {},
   "outputs": [
    {
     "name": "stdout",
     "output_type": "stream",
     "text": [
      "6\n"
     ]
    }
   ],
   "source": [
    "#All basic operations such as len(), concatenation, repetition and membership can be performed.\n",
    "\n",
    "print(len(tup2))"
   ]
  },
  {
   "cell_type": "code",
   "execution_count": 21,
   "id": "62ccaf9f",
   "metadata": {},
   "outputs": [
    {
     "name": "stdout",
     "output_type": "stream",
     "text": [
      "('a', 'b', 'c', 'd', 'e')\n",
      "(1, 2, 3, 4)\n"
     ]
    }
   ],
   "source": [
    "#Concatenation in tuples \n",
    "\n",
    "tup1 = tuple('abcde')\n",
    "\n",
    "tup2 = 1,2,3,4\n",
    "\n",
    "print(tup1)\n",
    "print(tup2)"
   ]
  },
  {
   "cell_type": "code",
   "execution_count": null,
   "id": "e0a1b567",
   "metadata": {},
   "outputs": [],
   "source": [
    "# +, -, <, >, ==, >=, =< - for arithmetic operations will work between numbers"
   ]
  },
  {
   "cell_type": "code",
   "execution_count": null,
   "id": "507fd959",
   "metadata": {},
   "outputs": [],
   "source": [
    "# +, -, <, >, ==, >=, =< - Overloaded operators when used for concatenation or repetition etc they will only work between \n",
    "# same datatype."
   ]
  },
  {
   "cell_type": "code",
   "execution_count": 40,
   "id": "2c109f4e",
   "metadata": {},
   "outputs": [
    {
     "ename": "TypeError",
     "evalue": "can only concatenate tuple (not \"list\") to tuple",
     "output_type": "error",
     "traceback": [
      "\u001b[1;31m---------------------------------------------------------------------------\u001b[0m",
      "\u001b[1;31mTypeError\u001b[0m                                 Traceback (most recent call last)",
      "\u001b[1;32m~\\AppData\\Local\\Temp\\ipykernel_18836\\3964678003.py\u001b[0m in \u001b[0;36m<module>\u001b[1;34m\u001b[0m\n\u001b[1;32m----> 1\u001b[1;33m \u001b[0mtup3\u001b[0m \u001b[1;33m=\u001b[0m \u001b[0mtup1\u001b[0m \u001b[1;33m+\u001b[0m \u001b[0mtup2\u001b[0m\u001b[1;33m\u001b[0m\u001b[1;33m\u001b[0m\u001b[0m\n\u001b[0m\u001b[0;32m      2\u001b[0m \u001b[1;33m\u001b[0m\u001b[0m\n\u001b[0;32m      3\u001b[0m \u001b[0mprint\u001b[0m\u001b[1;33m(\u001b[0m\u001b[0mtup3\u001b[0m\u001b[1;33m)\u001b[0m\u001b[1;33m\u001b[0m\u001b[1;33m\u001b[0m\u001b[0m\n",
      "\u001b[1;31mTypeError\u001b[0m: can only concatenate tuple (not \"list\") to tuple"
     ]
    }
   ],
   "source": [
    "tup3 = tup1 + tup2\n",
    "\n",
    "print(tup3)"
   ]
  },
  {
   "cell_type": "code",
   "execution_count": 41,
   "id": "67b55d1b",
   "metadata": {},
   "outputs": [
    {
     "name": "stdout",
     "output_type": "stream",
     "text": [
      "('a', 'b', 'c', 'd', 'e')\n"
     ]
    }
   ],
   "source": [
    "print(tup1)"
   ]
  },
  {
   "cell_type": "code",
   "execution_count": 42,
   "id": "048a7cb7",
   "metadata": {},
   "outputs": [
    {
     "name": "stdout",
     "output_type": "stream",
     "text": [
      "('a', 'b', 'c', 'd', 'e', 'a', 'b', 'c', 'd', 'e', 'a', 'b', 'c', 'd', 'e')\n"
     ]
    }
   ],
   "source": [
    "tup4 = tup1*3\n",
    "\n",
    "print(tup4)"
   ]
  },
  {
   "cell_type": "code",
   "execution_count": 37,
   "id": "eca0d32e",
   "metadata": {},
   "outputs": [
    {
     "name": "stdout",
     "output_type": "stream",
     "text": [
      "['__add__', '__class__', '__class_getitem__', '__contains__', '__delattr__', '__dir__', '__doc__', '__eq__', '__format__', '__ge__', '__getattribute__', '__getitem__', '__getnewargs__', '__gt__', '__hash__', '__init__', '__init_subclass__', '__iter__', '__le__', '__len__', '__lt__', '__mul__', '__ne__', '__new__', '__reduce__', '__reduce_ex__', '__repr__', '__rmul__', '__setattr__', '__sizeof__', '__str__', '__subclasshook__', 'count', 'index']\n"
     ]
    }
   ],
   "source": [
    "print(dir(tuple))"
   ]
  },
  {
   "cell_type": "code",
   "execution_count": null,
   "id": "593057d5",
   "metadata": {},
   "outputs": [],
   "source": [
    "#Note how tup1 and tup2 have not changed. \n",
    "\n",
    "print(tup1)\n",
    "print(tup2)"
   ]
  },
  {
   "cell_type": "code",
   "execution_count": null,
   "id": "76962d48",
   "metadata": {},
   "outputs": [],
   "source": [
    "print(id(tup1))\n",
    "print(id(tup2))\n",
    "print(id(tup3))"
   ]
  },
  {
   "cell_type": "code",
   "execution_count": null,
   "id": "0b45f654",
   "metadata": {},
   "outputs": [],
   "source": [
    "#Even if we were to assign the same variable name to tup1, the ids of both objects would be different since a new object\n",
    "# has been created. \n",
    "\n",
    "id_1 = id(tup1)\n",
    "\n",
    "tup1 = tup1 + tup2\n",
    "\n",
    "print(tup1)\n",
    "\n",
    "id_2 = id(tup1)"
   ]
  },
  {
   "cell_type": "code",
   "execution_count": null,
   "id": "86eebe67",
   "metadata": {},
   "outputs": [],
   "source": [
    "print(id_1, id_2)\n",
    "print(id_1 is id_2)"
   ]
  },
  {
   "cell_type": "code",
   "execution_count": null,
   "id": "d29d1105",
   "metadata": {},
   "outputs": [],
   "source": [
    "#Repetition in Tuples"
   ]
  },
  {
   "cell_type": "code",
   "execution_count": null,
   "id": "b55a071a",
   "metadata": {},
   "outputs": [],
   "source": [
    "print(tup2)"
   ]
  },
  {
   "cell_type": "code",
   "execution_count": null,
   "id": "9ecc114d",
   "metadata": {},
   "outputs": [],
   "source": []
  },
  {
   "cell_type": "code",
   "execution_count": null,
   "id": "bfcc3a0c",
   "metadata": {},
   "outputs": [],
   "source": [
    "print(tup2*4)"
   ]
  },
  {
   "cell_type": "code",
   "execution_count": null,
   "id": "c036dcad",
   "metadata": {},
   "outputs": [],
   "source": [
    "tup3 = tup2*4\n",
    "\n",
    "print(tup3)"
   ]
  },
  {
   "cell_type": "code",
   "execution_count": null,
   "id": "a55caba5",
   "metadata": {},
   "outputs": [],
   "source": [
    "tup_rev = []\n",
    "for x in range(3):\n",
    "    tup_rev.append(tup2)\n",
    "tup_rev = tuple(tup_rev)\n",
    "\n",
    "print(tup_rev)"
   ]
  },
  {
   "cell_type": "code",
   "execution_count": null,
   "id": "42883377",
   "metadata": {},
   "outputs": [],
   "source": [
    "#Note again, that tuples are immutable themselves, repetition returns a new tuple object."
   ]
  },
  {
   "cell_type": "code",
   "execution_count": 43,
   "id": "8eeac6ae",
   "metadata": {},
   "outputs": [
    {
     "name": "stdout",
     "output_type": "stream",
     "text": [
      "(1, 'abc', [100, 200, 2012, 10.2], 'xyz')\n",
      "<class 'tuple'>\n"
     ]
    }
   ],
   "source": [
    "#Membership in tuples\n",
    "\n",
    "tup1 = (1,'abc', [100, 200, 2012, 10.2], 'xyz')\n",
    "\n",
    "print(tup1)\n",
    "print(type(tup1))"
   ]
  },
  {
   "cell_type": "code",
   "execution_count": null,
   "id": "613d45d9",
   "metadata": {},
   "outputs": [],
   "source": [
    "print('abc' in tup1)"
   ]
  },
  {
   "cell_type": "code",
   "execution_count": null,
   "id": "b6389fb5",
   "metadata": {},
   "outputs": [],
   "source": [
    "print(100 in tup1)"
   ]
  },
  {
   "cell_type": "code",
   "execution_count": null,
   "id": "c2cc9284",
   "metadata": {},
   "outputs": [],
   "source": [
    "print(100 in tup1[2])"
   ]
  },
  {
   "cell_type": "code",
   "execution_count": null,
   "id": "f18a8c82",
   "metadata": {},
   "outputs": [],
   "source": [
    "print(100 not in tup1)"
   ]
  },
  {
   "cell_type": "code",
   "execution_count": null,
   "id": "e1815d95",
   "metadata": {},
   "outputs": [],
   "source": [
    "print(100 not in tup1[2])"
   ]
  },
  {
   "cell_type": "code",
   "execution_count": 44,
   "id": "9ef29a4b",
   "metadata": {},
   "outputs": [
    {
     "name": "stdout",
     "output_type": "stream",
     "text": [
      "3\n"
     ]
    }
   ],
   "source": [
    "#index() method returns the index no. of the first occurrence of the element being searched.\n",
    "\n",
    "tup1 = (1,'abc', [100, 200, 2012, 10.2], 'xyz')\n",
    "\n",
    "print(tup1.index('xyz'))"
   ]
  },
  {
   "cell_type": "code",
   "execution_count": 45,
   "id": "f0a02617",
   "metadata": {},
   "outputs": [
    {
     "ename": "ValueError",
     "evalue": "tuple.index(x): x not in tuple",
     "output_type": "error",
     "traceback": [
      "\u001b[1;31m---------------------------------------------------------------------------\u001b[0m",
      "\u001b[1;31mValueError\u001b[0m                                Traceback (most recent call last)",
      "\u001b[1;32m~\\AppData\\Local\\Temp\\ipykernel_18836\\1351874463.py\u001b[0m in \u001b[0;36m<module>\u001b[1;34m\u001b[0m\n\u001b[0;32m      1\u001b[0m \u001b[1;31m#It returns a value error if the item is not found in the tuple.\u001b[0m\u001b[1;33m\u001b[0m\u001b[1;33m\u001b[0m\u001b[0m\n\u001b[0;32m      2\u001b[0m \u001b[1;33m\u001b[0m\u001b[0m\n\u001b[1;32m----> 3\u001b[1;33m \u001b[0mprint\u001b[0m\u001b[1;33m(\u001b[0m\u001b[0mtup1\u001b[0m\u001b[1;33m.\u001b[0m\u001b[0mindex\u001b[0m\u001b[1;33m(\u001b[0m\u001b[1;34m'Python'\u001b[0m\u001b[1;33m)\u001b[0m\u001b[1;33m)\u001b[0m\u001b[1;33m\u001b[0m\u001b[1;33m\u001b[0m\u001b[0m\n\u001b[0m",
      "\u001b[1;31mValueError\u001b[0m: tuple.index(x): x not in tuple"
     ]
    }
   ],
   "source": [
    "#It returns a value error if the item is not found in the tuple. \n",
    "\n",
    "print(tup1.index('Python'))"
   ]
  },
  {
   "cell_type": "code",
   "execution_count": null,
   "id": "46aeb7a3",
   "metadata": {},
   "outputs": [],
   "source": []
  },
  {
   "cell_type": "code",
   "execution_count": 47,
   "id": "dd5cb182",
   "metadata": {},
   "outputs": [
    {
     "name": "stdout",
     "output_type": "stream",
     "text": [
      "4\n"
     ]
    }
   ],
   "source": [
    "#It takes 3 parameters\n",
    "\n",
    "#1. The element to be found  Mandatory\n",
    "#2. The start index. Optional - Defaults to 0\n",
    "#3. The stop index. Optional - Defaults to length of tuple. \n",
    "\n",
    "tup1 = (1, 'abc',[100, 200, 2012, 10.2], 'xyz', 'abc')\n",
    "\n",
    "print(tup1.index('abc',3))"
   ]
  },
  {
   "cell_type": "code",
   "execution_count": null,
   "id": "a5a3e05e",
   "metadata": {},
   "outputs": [],
   "source": [
    "str1 = 'hello there'\n",
    "str2 = ''\n",
    "\n",
    "for i in str1:\n",
    "    str2 = i + str2\n",
    "    \n",
    "print(str2)"
   ]
  },
  {
   "cell_type": "code",
   "execution_count": null,
   "id": "21a93534",
   "metadata": {},
   "outputs": [],
   "source": [
    "str1 = 'hello there'\n",
    "\n",
    "str2 = ''\n",
    "\n",
    "for i in range(len(str1)-1,-1,-1):\n",
    "    str2 += str1[i]\n",
    "    \n",
    "print(str2)"
   ]
  },
  {
   "cell_type": "code",
   "execution_count": null,
   "id": "d47bde14",
   "metadata": {},
   "outputs": [],
   "source": [
    "print(dir(tuple))"
   ]
  },
  {
   "cell_type": "code",
   "execution_count": null,
   "id": "1ab1038e",
   "metadata": {},
   "outputs": [],
   "source": [
    "print(tup1.index('xyz',1))"
   ]
  },
  {
   "cell_type": "code",
   "execution_count": null,
   "id": "cf6f39a0",
   "metadata": {},
   "outputs": [],
   "source": [
    "print(tup1)"
   ]
  },
  {
   "cell_type": "code",
   "execution_count": null,
   "id": "dbf01c5a",
   "metadata": {},
   "outputs": [],
   "source": [
    "print(tup1.index(1,1,-1))"
   ]
  },
  {
   "cell_type": "code",
   "execution_count": null,
   "id": "5a8d1d5f",
   "metadata": {},
   "outputs": [],
   "source": [
    "print(tup1.index(1,-1))"
   ]
  },
  {
   "cell_type": "code",
   "execution_count": 49,
   "id": "ac0220b0",
   "metadata": {},
   "outputs": [
    {
     "name": "stdout",
     "output_type": "stream",
     "text": [
      "<class 'tuple'>\n"
     ]
    }
   ],
   "source": [
    "# min() Pyton built-in method on Tuples returns the minimum value of the elements of the tuple. Can not be performed with\n",
    "# different datatypes inside the tuple. \n",
    "\n",
    "tup1 = 1,2,3,4\n",
    "\n",
    "print(type(tup1))"
   ]
  },
  {
   "cell_type": "code",
   "execution_count": 50,
   "id": "98d6eb7b",
   "metadata": {},
   "outputs": [
    {
     "name": "stdout",
     "output_type": "stream",
     "text": [
      "1\n"
     ]
    }
   ],
   "source": [
    "print(min(tup1))"
   ]
  },
  {
   "cell_type": "code",
   "execution_count": 51,
   "id": "41abeaa1",
   "metadata": {},
   "outputs": [
    {
     "name": "stdout",
     "output_type": "stream",
     "text": [
      "4\n"
     ]
    }
   ],
   "source": [
    "#max() Python built-in method on tuples returns the maximum value of the elements of the tuple. Can not be performed with\n",
    "# different datatypes(unless between float and integer) inside the tuple. \n",
    "\n",
    "print(max(tup1))"
   ]
  },
  {
   "cell_type": "code",
   "execution_count": null,
   "id": "3ff8113c",
   "metadata": {},
   "outputs": [],
   "source": [
    "tup2 = 1,10.2,4\n",
    "\n",
    "print(max(tup2))"
   ]
  },
  {
   "cell_type": "code",
   "execution_count": null,
   "id": "c6a30990",
   "metadata": {},
   "outputs": [],
   "source": [
    "tup3 = 1,2,10.2,4,1001,3, 7, 14"
   ]
  },
  {
   "cell_type": "code",
   "execution_count": null,
   "id": "a025ab1f",
   "metadata": {},
   "outputs": [],
   "source": [
    "print(tup3.index(max(tup3)))"
   ]
  },
  {
   "cell_type": "code",
   "execution_count": null,
   "id": "b24d66ac",
   "metadata": {},
   "outputs": [],
   "source": [
    "for i in range(len(tup3)):\n",
    "    if tup3[i] == max(tup3):\n",
    "        print(i)"
   ]
  },
  {
   "cell_type": "code",
   "execution_count": null,
   "id": "56fc6716",
   "metadata": {},
   "outputs": [],
   "source": []
  },
  {
   "cell_type": "code",
   "execution_count": null,
   "id": "d85f5db1",
   "metadata": {},
   "outputs": [],
   "source": []
  },
  {
   "cell_type": "code",
   "execution_count": null,
   "id": "9bf6a88c",
   "metadata": {},
   "outputs": [],
   "source": []
  },
  {
   "cell_type": "code",
   "execution_count": null,
   "id": "2ca96f63",
   "metadata": {},
   "outputs": [],
   "source": []
  },
  {
   "cell_type": "code",
   "execution_count": null,
   "id": "58d5a484",
   "metadata": {},
   "outputs": [],
   "source": []
  },
  {
   "cell_type": "code",
   "execution_count": null,
   "id": "9a8dcc9c",
   "metadata": {},
   "outputs": [],
   "source": []
  },
  {
   "cell_type": "code",
   "execution_count": null,
   "id": "ac24a546",
   "metadata": {},
   "outputs": [],
   "source": []
  },
  {
   "cell_type": "code",
   "execution_count": null,
   "id": "d5908372",
   "metadata": {},
   "outputs": [],
   "source": [
    "#print(tup3.index(max(tup3)))\n",
    "\n",
    "for i in range(len(tup3)):\n",
    "    if tup3[i] == max(tup3):\n",
    "        print(i)\n",
    "\n",
    "#Note how even though the element at 2nd index is a float, Python can compare the values and decide the max and min values. "
   ]
  },
  {
   "cell_type": "code",
   "execution_count": null,
   "id": "0a1702d8",
   "metadata": {},
   "outputs": [],
   "source": [
    "tup3 = 1,2,10.2,4,1001,3, 7, 14, 1001\n",
    "\n",
    "var1 = float('-inf')\n",
    "\n",
    "for i in tup3:\n",
    "    if i > var1:\n",
    "        var1 = i\n",
    "        \n",
    "print(var1)"
   ]
  },
  {
   "cell_type": "code",
   "execution_count": 52,
   "id": "b03fe911",
   "metadata": {},
   "outputs": [
    {
     "name": "stdout",
     "output_type": "stream",
     "text": [
      "2\n"
     ]
    }
   ],
   "source": [
    "tup3 = 1,2,10.2,4,1001,3,4, 7, 14, 1001\n",
    "\n",
    "\n",
    "print(tup3.count(1001))"
   ]
  },
  {
   "cell_type": "code",
   "execution_count": null,
   "id": "f050194d",
   "metadata": {},
   "outputs": [],
   "source": [
    "var1 = tup3[0]\n",
    "\n",
    "for i in tup3:\n",
    "    if i > var1:\n",
    "        var1 = i\n",
    "        \n",
    "print(var1)"
   ]
  },
  {
   "cell_type": "code",
   "execution_count": null,
   "id": "869c3d6c",
   "metadata": {},
   "outputs": [],
   "source": [
    "tup4 = 1,2,4,[100,200,1000]\n",
    "\n",
    "print(type(tup4))"
   ]
  },
  {
   "cell_type": "code",
   "execution_count": null,
   "id": "123a7eae",
   "metadata": {},
   "outputs": [],
   "source": [
    "print(min(tup4))"
   ]
  },
  {
   "cell_type": "code",
   "execution_count": null,
   "id": "11284eda",
   "metadata": {},
   "outputs": [],
   "source": [
    "#Note how even though the elements in the list are all numbers, Python has no way of comparing an integer to a list. "
   ]
  },
  {
   "cell_type": "code",
   "execution_count": null,
   "id": "e780d7a2",
   "metadata": {},
   "outputs": [],
   "source": [
    "print(dir(tuple))"
   ]
  },
  {
   "cell_type": "code",
   "execution_count": 54,
   "id": "c24560c2",
   "metadata": {},
   "outputs": [],
   "source": [
    "#Unlike lists, tuples do not have a sort method. But we can use the Python built-in sorted function to sort tuples. \n",
    "\n",
    "tup1 = 101,11, 79.2, 23.12, 2, 82"
   ]
  },
  {
   "cell_type": "code",
   "execution_count": 55,
   "id": "13415052",
   "metadata": {},
   "outputs": [
    {
     "name": "stdout",
     "output_type": "stream",
     "text": [
      "(101, 11, 79.2, 23.12, 2, 82)\n",
      "(2, 11, 23.12, 79.2, 82, 101)\n"
     ]
    }
   ],
   "source": [
    "tup2 = tuple(sorted(tup1))\n",
    "print(tup1)\n",
    "print(tup2)"
   ]
  },
  {
   "cell_type": "code",
   "execution_count": null,
   "id": "a23f0aab",
   "metadata": {},
   "outputs": [],
   "source": [
    "tup2 = 101,'abc', 79, 23, 2,82\n",
    "\n",
    "print(sorted(tup2))"
   ]
  },
  {
   "cell_type": "code",
   "execution_count": 1,
   "id": "234bd4e1",
   "metadata": {},
   "outputs": [
    {
     "name": "stdout",
     "output_type": "stream",
     "text": [
      "['__add__', '__class__', '__class_getitem__', '__contains__', '__delattr__', '__dir__', '__doc__', '__eq__', '__format__', '__ge__', '__getattribute__', '__getitem__', '__getnewargs__', '__gt__', '__hash__', '__init__', '__init_subclass__', '__iter__', '__le__', '__len__', '__lt__', '__mul__', '__ne__', '__new__', '__reduce__', '__reduce_ex__', '__repr__', '__rmul__', '__setattr__', '__sizeof__', '__str__', '__subclasshook__', 'count', 'index']\n"
     ]
    }
   ],
   "source": [
    "print(dir(tuple))"
   ]
  },
  {
   "cell_type": "code",
   "execution_count": null,
   "id": "2899e2d6",
   "metadata": {},
   "outputs": [],
   "source": [
    "#Note again how sorted does not work with different datatypes in the tuple. "
   ]
  },
  {
   "cell_type": "code",
   "execution_count": null,
   "id": "c1069479",
   "metadata": {},
   "outputs": [],
   "source": [
    "#Sorted function takes 3 parameters\n",
    "\n",
    "#1. Iterable to be sorted - Mandatory\n",
    "#2. reverse key = False by default. And returns the tuple sorted in ascending order. To get a tuple in descending order \n",
    "# change this parameter to True. \n",
    "#3. Key - Optional. Sorts by value by default. However, if provided can use any function to evaluate the elements and sort\n",
    "# them based on the output. \n",
    "\n",
    "tup3 = 'Abracadabra', 'Python', 'X', 'National Basketball Association', 'RRR'\n",
    "\n",
    "print(sorted(tup3))"
   ]
  },
  {
   "cell_type": "code",
   "execution_count": null,
   "id": "0680c609",
   "metadata": {},
   "outputs": [],
   "source": [
    "print(sorted(tup3, reverse=True))"
   ]
  },
  {
   "cell_type": "code",
   "execution_count": null,
   "id": "fdf4eba6",
   "metadata": {},
   "outputs": [],
   "source": [
    "print(sorted(tup3, key = len, reverse = True))"
   ]
  },
  {
   "cell_type": "code",
   "execution_count": null,
   "id": "cc766c59",
   "metadata": {},
   "outputs": [],
   "source": [
    "print(tup3)"
   ]
  },
  {
   "cell_type": "code",
   "execution_count": null,
   "id": "12089046",
   "metadata": {},
   "outputs": [],
   "source": [
    "#Note how the original tup3 has not been changed. Sorted returns a new list object and type cast to tuple (if we need a tuple\n",
    "# which needs to be assigned to a variable in case we need to use the output tuple further. \n",
    "\n",
    "tup4 = sorted(tup3, reverse = True, key = len)\n",
    "\n",
    "print(tup4)"
   ]
  },
  {
   "cell_type": "code",
   "execution_count": null,
   "id": "644c81e1",
   "metadata": {},
   "outputs": [],
   "source": []
  },
  {
   "cell_type": "code",
   "execution_count": null,
   "id": "1cfa6c5a",
   "metadata": {},
   "outputs": [],
   "source": [
    "tup1 = (18,16,22)\n",
    "\n",
    "def mod_tup(x):\n",
    "    return x%5\n",
    "\n",
    "print(mod_tup(16))"
   ]
  },
  {
   "cell_type": "code",
   "execution_count": null,
   "id": "c38504a9",
   "metadata": {},
   "outputs": [],
   "source": [
    "tup4 = sorted(tup1, key = mod_tup)\n",
    "\n",
    "print(tup4)"
   ]
  },
  {
   "cell_type": "code",
   "execution_count": 57,
   "id": "0ebe8407",
   "metadata": {},
   "outputs": [
    {
     "name": "stdout",
     "output_type": "stream",
     "text": [
      "((1, 'jkl', [62, 70, 82], 21), (2, 'ghi', [51, 100, 51], 22), (3, 'abc', [60, 100, 70], 24), (4, 'def', [62, 81, 71], 20), (5, 'xyz', [55, 75, 86], 19), (3, 'pqr', [91, 99, 92], 24))\n"
     ]
    }
   ],
   "source": [
    "#Nested Tuples - We can create tuples nested inside each other. \n",
    "\n",
    "tup_nest = ((1, 'jkl', [62,70,82], 21),(2, 'ghi', [51,100,51], 22),(3, 'abc', [60,100,70], 24),\n",
    "           (4, 'def', [62,81,71], 20),(5, 'xyz', [55,75,86], 19),(3, 'pqr', [91,99,92], 24))\n",
    "\n",
    "print(tup_nest)"
   ]
  },
  {
   "cell_type": "code",
   "execution_count": 2,
   "id": "539d7adb",
   "metadata": {},
   "outputs": [
    {
     "name": "stdout",
     "output_type": "stream",
     "text": [
      "[(1, 'jkl', [62, 70, 82], 21), (2, 'ghi', [51, 100, 51], 22), (3, 'abc', [60, 100, 70], 24), (3, 'pqr', [91, 99, 92], 24), (4, 'def', [62, 81, 71], 20), (5, 'xyz', [55, 75, 86], 19)]\n"
     ]
    }
   ],
   "source": [
    "print(sorted(tup_nest))"
   ]
  },
  {
   "cell_type": "code",
   "execution_count": 59,
   "id": "37d27971",
   "metadata": {},
   "outputs": [],
   "source": [
    "def sort_max(x):\n",
    "    return max(x[2])"
   ]
  },
  {
   "cell_type": "code",
   "execution_count": 61,
   "id": "495e3c52",
   "metadata": {},
   "outputs": [
    {
     "name": "stdout",
     "output_type": "stream",
     "text": [
      "[(2, 'ghi', [51, 100, 51], 22), (3, 'abc', [60, 100, 70], 24), (3, 'pqr', [91, 99, 92], 24), (5, 'xyz', [55, 75, 86], 19), (1, 'jkl', [62, 70, 82], 21), (4, 'def', [62, 81, 71], 20)]\n"
     ]
    }
   ],
   "source": [
    "tupnestsorted = sorted(tup_nest, key = sort_max, reverse = True)\n",
    "\n",
    "print(tupnestsorted)"
   ]
  },
  {
   "cell_type": "code",
   "execution_count": 3,
   "id": "5e3fba91",
   "metadata": {},
   "outputs": [],
   "source": [
    "def sort_func(x):\n",
    "    return x[1]"
   ]
  },
  {
   "cell_type": "code",
   "execution_count": 4,
   "id": "1a6d9666",
   "metadata": {},
   "outputs": [
    {
     "name": "stdout",
     "output_type": "stream",
     "text": [
      "((3, 'abc', [60, 100, 70], 24), (4, 'def', [62, 81, 71], 20), (2, 'ghi', [51, 100, 51], 22), (1, 'jkl', [62, 70, 82], 21), (3, 'pqr', [91, 99, 92], 24), (5, 'xyz', [55, 75, 86], 19))\n"
     ]
    }
   ],
   "source": [
    "sorted_tup = tuple(sorted(tup_nest, key = sort_func))\n",
    "\n",
    "print(sorted_tup)"
   ]
  },
  {
   "cell_type": "code",
   "execution_count": null,
   "id": "a45e2ad9",
   "metadata": {},
   "outputs": [],
   "source": [
    "a = (1,'jkl', [62,70,82], 21)\n",
    "\n",
    "print(a[1])"
   ]
  },
  {
   "cell_type": "code",
   "execution_count": 5,
   "id": "c82316f5",
   "metadata": {},
   "outputs": [
    {
     "ename": "SyntaxError",
     "evalue": "invalid syntax (<ipython-input-5-ad8612beab57>, line 1)",
     "output_type": "error",
     "traceback": [
      "\u001b[1;36m  File \u001b[1;32m\"<ipython-input-5-ad8612beab57>\"\u001b[1;36m, line \u001b[1;32m1\u001b[0m\n\u001b[1;33m    'jkl', 'ghi', 'abc', 'pqr', 'def', 'xyz' = output of the function\u001b[0m\n\u001b[1;37m                                                      ^\u001b[0m\n\u001b[1;31mSyntaxError\u001b[0m\u001b[1;31m:\u001b[0m invalid syntax\n"
     ]
    }
   ],
   "source": [
    "# 'jkl', 'ghi', 'abc', 'pqr', 'def', 'xyz' = output of the function\n",
    "\n",
    "# 'abc', 'def', 'ghi', 'jkl', 'pqr', 'xyz' = sorting happens\n",
    "\n",
    "# Objects that output above results get sorted accordingly.\n",
    "\n",
    "\n"
   ]
  },
  {
   "cell_type": "code",
   "execution_count": 56,
   "id": "4331b474",
   "metadata": {},
   "outputs": [
    {
     "ename": "NameError",
     "evalue": "name 'tup_nest' is not defined",
     "output_type": "error",
     "traceback": [
      "\u001b[1;31m---------------------------------------------------------------------------\u001b[0m",
      "\u001b[1;31mNameError\u001b[0m                                 Traceback (most recent call last)",
      "\u001b[1;32m~\\AppData\\Local\\Temp\\ipykernel_18836\\2428850319.py\u001b[0m in \u001b[0;36m<module>\u001b[1;34m\u001b[0m\n\u001b[1;32m----> 1\u001b[1;33m \u001b[0mprint\u001b[0m\u001b[1;33m(\u001b[0m\u001b[0mtup_nest\u001b[0m\u001b[1;33m)\u001b[0m\u001b[1;33m\u001b[0m\u001b[1;33m\u001b[0m\u001b[0m\n\u001b[0m",
      "\u001b[1;31mNameError\u001b[0m: name 'tup_nest' is not defined"
     ]
    }
   ],
   "source": [
    "print(tup_nest)"
   ]
  },
  {
   "cell_type": "code",
   "execution_count": 10,
   "id": "9c9494f5",
   "metadata": {},
   "outputs": [],
   "source": [
    "def max_sort(x):\n",
    "    return max(x[2])"
   ]
  },
  {
   "cell_type": "code",
   "execution_count": 12,
   "id": "022291d8",
   "metadata": {},
   "outputs": [
    {
     "name": "stdout",
     "output_type": "stream",
     "text": [
      "((2, 'ghi', [51, 100, 51], 22), (3, 'abc', [60, 100, 70], 24), (3, 'pqr', [91, 99, 92], 24), (5, 'xyz', [55, 75, 86], 19), (1, 'jkl', [62, 70, 82], 21), (4, 'def', [62, 81, 71], 20))\n"
     ]
    }
   ],
   "source": [
    "max_sorted_lst = tuple(sorted(tup_nest, key = max_sort, reverse = True))\n",
    "\n",
    "print(max_sorted_lst)"
   ]
  },
  {
   "cell_type": "code",
   "execution_count": 14,
   "id": "bd233ce7",
   "metadata": {},
   "outputs": [
    {
     "name": "stdout",
     "output_type": "stream",
     "text": [
      "3\n"
     ]
    }
   ],
   "source": [
    "# 82, 100, 100, 81, 86, 99\n",
    "\n",
    "# 100,100,99,86,82,81\n",
    "\n",
    "\n",
    "lst1 = list('abcde')\n",
    "\n",
    "print(lst1.index('d'))\n"
   ]
  },
  {
   "cell_type": "code",
   "execution_count": 15,
   "id": "a5333025",
   "metadata": {},
   "outputs": [
    {
     "name": "stdout",
     "output_type": "stream",
     "text": [
      "(1, 'jkl', [62, 70, 82], 21)\n",
      "[62, 70, 82]\n",
      "2\n",
      "(2, 'ghi', [51, 100, 51], 22)\n",
      "[51, 100, 51]\n",
      "1\n",
      "(3, 'abc', [60, 100, 70], 24)\n",
      "[60, 100, 70]\n",
      "1\n",
      "(4, 'def', [62, 81, 71], 20)\n",
      "[62, 81, 71]\n",
      "1\n",
      "(5, 'xyz', [55, 75, 86], 19)\n",
      "[55, 75, 86]\n",
      "2\n",
      "(3, 'pqr', [91, 99, 92], 24)\n",
      "[91, 99, 92]\n",
      "1\n"
     ]
    }
   ],
   "source": [
    "for i in tup_nest:\n",
    "    print(i)\n",
    "    print(i[2])\n",
    "    print(i[2].index(max(i[2])))"
   ]
  },
  {
   "cell_type": "code",
   "execution_count": null,
   "id": "ef204175",
   "metadata": {},
   "outputs": [],
   "source": []
  },
  {
   "cell_type": "code",
   "execution_count": null,
   "id": "58e4412e",
   "metadata": {},
   "outputs": [],
   "source": []
  },
  {
   "cell_type": "code",
   "execution_count": null,
   "id": "74ef70b9",
   "metadata": {},
   "outputs": [],
   "source": [
    "def sort_funct(x):\n",
    "    return max(x[2])\n",
    "\n",
    "sort_tup = tuple(sorted(tup_nest, key = sort_funct))\n",
    "\n",
    "print(sort_tup)"
   ]
  },
  {
   "cell_type": "code",
   "execution_count": 12,
   "id": "2b3a9d8b",
   "metadata": {},
   "outputs": [
    {
     "name": "stdout",
     "output_type": "stream",
     "text": [
      "(1, 11, 21, 31, 41, 51, 61, 71, 81, 91)\n",
      "<class 'tuple'>\n"
     ]
    }
   ],
   "source": [
    "lst1 = tuple(range(1,100,10))\n",
    "\n",
    "print(lst1)\n",
    "print(type(lst1))"
   ]
  },
  {
   "cell_type": "code",
   "execution_count": 11,
   "id": "f448186f",
   "metadata": {},
   "outputs": [
    {
     "name": "stdout",
     "output_type": "stream",
     "text": [
      "[(1000, 1), (1001, 11), (1002, 21), (1003, 31), (1004, 41), (1005, 51), (1006, 61), (1007, 71), (1008, 81), (1009, 91)]\n"
     ]
    }
   ],
   "source": [
    "lstenum = []\n",
    "for x in range(len(lst1)):\n",
    "    lstenum.append((x+1000,lst1[x]))\n",
    "    \n",
    "print(lstenum)"
   ]
  },
  {
   "cell_type": "code",
   "execution_count": 19,
   "id": "41680075",
   "metadata": {},
   "outputs": [
    {
     "name": "stdout",
     "output_type": "stream",
     "text": [
      "[(1000, 'a'), (1001, 'b'), (1002, 'c'), (1003, 'd'), (1004, 'e'), (1005, 'f'), (1006, 'g'), (1007, 'h'), (1008, 'i'), (1009, 'j')]\n",
      "<class 'list'>\n"
     ]
    }
   ],
   "source": [
    "enum = list(enumerate('abcdefghij', 1000))\n",
    "\n",
    "print(enum)\n",
    "print(type(enum))"
   ]
  },
  {
   "cell_type": "code",
   "execution_count": 22,
   "id": "f7582097",
   "metadata": {},
   "outputs": [
    {
     "name": "stdout",
     "output_type": "stream",
     "text": [
      "(1000, 'a')\n",
      "(1001, 'b')\n",
      "(1002, 'c')\n",
      "(1003, 'd')\n",
      "(1004, 'e')\n",
      "(1005, 'f')\n",
      "(1006, 'g')\n",
      "(1007, 'h')\n",
      "(1008, 'i')\n",
      "(1009, 'j')\n"
     ]
    }
   ],
   "source": [
    "for x in enum:\n",
    "    print(x)"
   ]
  },
  {
   "cell_type": "code",
   "execution_count": null,
   "id": "17dd4231",
   "metadata": {},
   "outputs": [],
   "source": [
    "#Note how the sorting has been performed on the first element of each nested tuple i.e. tuple - (3,'pqr', (100,100,100))\n",
    "# has changed from last position to 4th. \n",
    "\n",
    "#However, by using functions in the key parameter of the sort function we can sort based on some other value. \n",
    "\n",
    "def sort_ind(x):\n",
    "    return x[1]\n",
    "\n",
    "tup_sortK = sorted(tup_nest, key = sort_ind)\n",
    "\n",
    "print(tup_sortK)"
   ]
  },
  {
   "cell_type": "code",
   "execution_count": null,
   "id": "a29723ac",
   "metadata": {},
   "outputs": [],
   "source": [
    "def sort_max_lst(x):\n",
    "    return max(x[2])\n",
    "\n",
    "print(tup_nest)"
   ]
  },
  {
   "cell_type": "code",
   "execution_count": null,
   "id": "97e9ee18",
   "metadata": {},
   "outputs": [],
   "source": [
    "tup_sortK = sorted(tup_nest, key = sort_max_lst, reverse=True)\n",
    "\n",
    "print(tup_sortK)\n",
    "\n",
    "# tup_sortK = sorted(tup_nest, key = lambda x : max(x[2]), reverse = True)\n",
    "\n",
    "# print(tup_sortK)"
   ]
  },
  {
   "cell_type": "code",
   "execution_count": null,
   "id": "a79a8947",
   "metadata": {},
   "outputs": [],
   "source": []
  },
  {
   "cell_type": "code",
   "execution_count": null,
   "id": "5ebe2bf5",
   "metadata": {},
   "outputs": [],
   "source": [
    "#Tuples are immutable(though as shown the elements inside tuples if are mutable, those can be mutated) so they are very\n",
    "# useful in storing data like the above example where you can imagine the first item in each tuple is the roll no, the 2nd\n",
    "# is the name, the third is the marks received put inside a list (which is mutable) in exam for 3 subjects and 4th is\n",
    "# the age. \n",
    "\n",
    "#If while creating the tuple, we have kept mutable objects inside the tuple, it stands to reason that we likely wish the\n",
    "# flexibility of changing the items inside that mutable object. For example - the above tuple set may be for the first\n",
    "# exam of the year but we wish to be able to change the marks when we use our program for the 2nd and 3rd exam of the year\n",
    "# and so forth. However, we do not expect the other elements of the tuple (such as roll no, name and age to change).\n",
    "\n",
    "#NOTE - THIS IS NOT A RULE BUT A GENERAL GUIDELINE FOR UNDERSTANDING THE USE OF TUPLES. \n",
    "\n"
   ]
  },
  {
   "cell_type": "code",
   "execution_count": 62,
   "id": "d3c075da",
   "metadata": {},
   "outputs": [
    {
     "name": "stdout",
     "output_type": "stream",
     "text": [
      "((1, 'jkl', [62, 70, 82], 21), (2, 'ghi', [91, 100, 63], 22), (3, 'abc', [51, 42, 51], 24), (4, 'def', [62, 81, 71], 20), (5, 'xyz', [55, 75, 86], 19), (3, 'pqr', [91, 99, 92], 24))\n"
     ]
    }
   ],
   "source": [
    "#Mutating a tuple - is not possible. But we can - with a lot of manipulation change the items in the tuple object and create\n",
    "# a new one - if our application demands it. E.g\n",
    "\n",
    "#I wish to change the name of the student with roll call no. 1 to 'kkk'.\n",
    "\n",
    "tup_nest = ((1, 'jkl', [62,70,82], 21),(2, 'ghi', [91,100,63], 22),(3, 'abc', [51,42,51], 24),\n",
    "           (4, 'def', [62,81,71], 20),(5, 'xyz', [55,75,86], 19),(3, 'pqr', [91,99,92], 24))\n",
    "print(tup_nest)"
   ]
  },
  {
   "cell_type": "code",
   "execution_count": 75,
   "id": "c1696d18",
   "metadata": {},
   "outputs": [
    {
     "name": "stdout",
     "output_type": "stream",
     "text": [
      "[(1, 'jkl', [62, 70, 82], 21), (2, 'ghi', [91, 100, 63], 22), (3, 'abc', [51, 42, 51], 24), (4, 'def', [62, 81, 71], 20), (5, 'xyz', [55, 75, 86], 19), (3, 'pqr', [91, 99, 92], 24)]\n"
     ]
    }
   ],
   "source": [
    "x = list(tup_nest)\n",
    "\n",
    "print(x)"
   ]
  },
  {
   "cell_type": "code",
   "execution_count": 65,
   "id": "8e600e6d",
   "metadata": {},
   "outputs": [
    {
     "name": "stdout",
     "output_type": "stream",
     "text": [
      "[1, 'jkl', [62, 70, 82], 21]\n"
     ]
    }
   ],
   "source": [
    "lst_nest1 = list(tup_nest[0])\n",
    "\n",
    "print(lst_nest1)"
   ]
  },
  {
   "cell_type": "code",
   "execution_count": 67,
   "id": "e652674e",
   "metadata": {},
   "outputs": [
    {
     "name": "stdout",
     "output_type": "stream",
     "text": [
      "(1, 'kkk', [62, 70, 82], 21)\n"
     ]
    }
   ],
   "source": [
    "lst_nest1[1] = 'kkk'\n",
    "\n",
    "lst_nest1 = tuple(lst_nest1)\n",
    "\n",
    "print(lst_nest1)\n"
   ]
  },
  {
   "cell_type": "code",
   "execution_count": 79,
   "id": "339f71c8",
   "metadata": {},
   "outputs": [
    {
     "name": "stdout",
     "output_type": "stream",
     "text": [
      "((1, 'kkk', [62, 70, 82], 21), (2, 'ghi', [91, 100, 63], 22), (3, 'abc', [51, 42, 51], 24), (4, 'def', [62, 81, 71], 20), (5, 'xyz', [55, 75, 86], 19), (3, 'pqr', [91, 99, 92], 24))\n"
     ]
    }
   ],
   "source": [
    "tup_nest1 = ((tuple(lst_nest1),)) + tup_nest[1:]\n",
    "\n",
    "print(tup_nest1)"
   ]
  },
  {
   "cell_type": "code",
   "execution_count": 72,
   "id": "ec2b0630",
   "metadata": {},
   "outputs": [
    {
     "name": "stdout",
     "output_type": "stream",
     "text": [
      "[[1, 'jkl', [62, 70, 82], 21], [2, 'ghi', [91, 100, 63], 22], [3, 'abc', [51, 42, 51], 24], [4, 'def', [62, 81, 71], 20], [5, 'xyz', [55, 75, 86], 19], [3, 'pqr', [91, 99, 92], 24]]\n"
     ]
    }
   ],
   "source": [
    "lst_nest = []\n",
    "\n",
    "for x in tup_nest:\n",
    "    lst_nest.append(list(x))\n",
    "    \n",
    "print(lst_nest)"
   ]
  },
  {
   "cell_type": "code",
   "execution_count": 73,
   "id": "9257ef3f",
   "metadata": {},
   "outputs": [
    {
     "name": "stdout",
     "output_type": "stream",
     "text": [
      "[[1, 'kkk', [62, 70, 82], 21], [2, 'ghi', [91, 100, 63], 22], [3, 'abc', [51, 42, 51], 24], [4, 'def', [62, 81, 71], 20], [5, 'xyz', [55, 75, 86], 19], [3, 'pqr', [91, 99, 92], 24]]\n"
     ]
    }
   ],
   "source": [
    "lst_nest[0][1] = 'kkk'\n",
    "\n",
    "print(lst_nest)"
   ]
  },
  {
   "cell_type": "code",
   "execution_count": 74,
   "id": "9455e957",
   "metadata": {},
   "outputs": [
    {
     "name": "stdout",
     "output_type": "stream",
     "text": [
      "((1, 'kkk', [62, 70, 82], 21), (2, 'ghi', [91, 100, 63], 22), (3, 'abc', [51, 42, 51], 24), (4, 'def', [62, 81, 71], 20), (5, 'xyz', [55, 75, 86], 19), (3, 'pqr', [91, 99, 92], 24))\n"
     ]
    }
   ],
   "source": [
    "tup_nest_lst = []\n",
    "\n",
    "for x in lst_nest:\n",
    "    tup_nest_lst.append(tuple(x))\n",
    "    \n",
    "tup_nest_lst = tuple(tup_nest_lst)\n",
    "\n",
    "print(tup_nest_lst)"
   ]
  },
  {
   "cell_type": "code",
   "execution_count": 86,
   "id": "5f3c7b7c",
   "metadata": {},
   "outputs": [
    {
     "name": "stdout",
     "output_type": "stream",
     "text": [
      "[(1000, 'yashoda'), (1001, 'aakash'), (1002, 'prakher'), (1003, 'prashant'), (1004, 'sachin')]\n"
     ]
    }
   ],
   "source": [
    "lst1 = ['yashoda', 'aakash', 'prakher', 'prashant', 'sachin']\n",
    "lst2 \n",
    "rollcall = list(enumerate(lst1, 1000))\n",
    "\n",
    "print(rollcall)"
   ]
  },
  {
   "cell_type": "code",
   "execution_count": 82,
   "id": "aa71ee8f",
   "metadata": {},
   "outputs": [],
   "source": [
    "for x in rollcall:\n",
    "    print(x)"
   ]
  },
  {
   "cell_type": "code",
   "execution_count": 69,
   "id": "8f11618c",
   "metadata": {},
   "outputs": [
    {
     "name": "stdout",
     "output_type": "stream",
     "text": [
      "((1,), 'kkk', [62, 70, 82], 21)\n"
     ]
    }
   ],
   "source": [
    "name_c = (tup_nest[0][:1])+ ('kkk',) +tup_nest[0][2:]\n",
    "\n",
    "print(name_c)"
   ]
  },
  {
   "cell_type": "code",
   "execution_count": 18,
   "id": "68b25038",
   "metadata": {},
   "outputs": [
    {
     "name": "stdout",
     "output_type": "stream",
     "text": [
      "((2, 'ghi', [91, 100, 63], 22), (3, 'abc', [51, 42, 51], 24), (4, 'def', [62, 81, 71], 20), (5, 'xyz', [55, 75, 86], 19), (3, 'pqr', [91, 99, 92], 24))\n"
     ]
    }
   ],
   "source": [
    "tup3x = tup_nest[1:]\n",
    "\n",
    "print(tup3x)"
   ]
  },
  {
   "cell_type": "code",
   "execution_count": 19,
   "id": "1aeddeda",
   "metadata": {},
   "outputs": [
    {
     "name": "stdout",
     "output_type": "stream",
     "text": [
      "((1, 'kkk', [62, 70, 82], 21), (2, 'ghi', [91, 100, 63], 22), (3, 'abc', [51, 42, 51], 24), (4, 'def', [62, 81, 71], 20), (5, 'xyz', [55, 75, 86], 19), (3, 'pqr', [91, 99, 92], 24))\n"
     ]
    }
   ],
   "source": [
    "tup_nest_rev = (name_c,) + tup3x\n",
    "\n",
    "print(tup_nest_rev)"
   ]
  },
  {
   "cell_type": "code",
   "execution_count": 21,
   "id": "9e59b4bb",
   "metadata": {},
   "outputs": [
    {
     "name": "stdout",
     "output_type": "stream",
     "text": [
      "((1, 'jkl', [62, 70, 82], 21), (2, 'ghi', [91, 100, 63], 22), (3, 'abc', [51, 42, 51], 24), (4, 'def', [62, 81, 71], 20), (5, 'xyz', [55, 75, 86], 19), (3, 'pqr', [91, 99, 92], 24))\n"
     ]
    }
   ],
   "source": [
    "print(tup_nest)"
   ]
  },
  {
   "cell_type": "code",
   "execution_count": 20,
   "id": "16adbf95",
   "metadata": {},
   "outputs": [
    {
     "name": "stdout",
     "output_type": "stream",
     "text": [
      "((1, 'kkk', [62, 70, 82], 21), (2, 'ghi', [91, 100, 63], 22), (3, 'abc', [51, 42, 51], 24), (4, 'def', [62, 81, 71], 20), (5, 'xyz', [55, 75, 86], 19), (3, 'pqr', [91, 99, 92], 24))\n"
     ]
    }
   ],
   "source": [
    "#Of course, as one gets more proficient, we could do away with the intermediate variable and object and save space. \n",
    "\n",
    "name_c1 = (tup_nest[0][0]+ ('kkk',) + tup_nest[0][2:],) + tup_nest[1:]\n",
    "\n",
    "print(name_c1)"
   ]
  },
  {
   "cell_type": "code",
   "execution_count": null,
   "id": "861c901d",
   "metadata": {},
   "outputs": [],
   "source": [
    "#Aliasing Tuples"
   ]
  },
  {
   "cell_type": "code",
   "execution_count": null,
   "id": "cf6ba3aa",
   "metadata": {},
   "outputs": [],
   "source": [
    "tup1 = 1,2,3,[10,20,30]\n",
    "print(tup1)\n",
    "print(type(tup1))"
   ]
  },
  {
   "cell_type": "code",
   "execution_count": null,
   "id": "f15637e7",
   "metadata": {},
   "outputs": [],
   "source": [
    "tup2 = tup1\n",
    "\n",
    "# print(tup1)\n",
    "# print(tup2)\n",
    "print(id(tup1), id(tup2))\n",
    "print(tup1 is tup2)"
   ]
  },
  {
   "cell_type": "code",
   "execution_count": null,
   "id": "ac519d0e",
   "metadata": {},
   "outputs": [],
   "source": [
    "tup1[3][1] = 201\n",
    "print(tup1)\n",
    "print(tup2)"
   ]
  },
  {
   "cell_type": "code",
   "execution_count": null,
   "id": "7adb9042",
   "metadata": {},
   "outputs": [],
   "source": [
    "#Since tuples are immutable only the mutable objects inside them can be mutated, there really is no point in making a \n",
    "# shallow copy of a tuple and does not have a copy method"
   ]
  },
  {
   "cell_type": "code",
   "execution_count": null,
   "id": "d6bb4253",
   "metadata": {},
   "outputs": [],
   "source": [
    "tup1 = 1,2,3,[10,20,30]\n",
    "\n",
    "tup3 = tup1[:]\n",
    "\n",
    "print(tup1)\n",
    "print(tup3)\n",
    "\n"
   ]
  },
  {
   "cell_type": "code",
   "execution_count": null,
   "id": "926397e9",
   "metadata": {},
   "outputs": [],
   "source": [
    "print(id(tup1), id(tup3))\n",
    "print(tup1 is tup3)"
   ]
  },
  {
   "cell_type": "code",
   "execution_count": null,
   "id": "b4eb1233",
   "metadata": {},
   "outputs": [],
   "source": [
    "tup4 = tup1[1:]\n",
    "\n",
    "print(tup4)\n",
    "\n",
    "print(id(tup1), id(tup4))\n",
    "print(tup1 is tup4)"
   ]
  },
  {
   "cell_type": "code",
   "execution_count": null,
   "id": "e9ee62aa",
   "metadata": {},
   "outputs": [],
   "source": []
  },
  {
   "cell_type": "code",
   "execution_count": null,
   "id": "f2c4c0b8",
   "metadata": {},
   "outputs": [],
   "source": [
    "#Note however, that even though tup4 and tup1 are different objects they still contain only a memory reference to the last\n",
    "# list object in them. So, a change in that list object will reflect in both of them. They exact same problem we had with\n",
    "# shallow copy in lists. \n",
    "\n",
    "\n",
    "print(tup1)\n",
    "print(tup4)"
   ]
  },
  {
   "cell_type": "code",
   "execution_count": null,
   "id": "2d8dacdc",
   "metadata": {},
   "outputs": [],
   "source": [
    "tup1[3][1] = '2x2x'\n",
    "\n",
    "print(tup1)\n",
    "print(tup4)"
   ]
  },
  {
   "cell_type": "code",
   "execution_count": null,
   "id": "44b53b12",
   "metadata": {},
   "outputs": [],
   "source": [
    "#So, just like lists (and dictionaries and sets), if we need copies of the original object where even the compound objects\n",
    "# should be recursively copied with the elements contained in them - use the deepcopy function from the copy module. \n",
    "\n",
    "import copy\n",
    "tup1 = (1,2,3,[10,2020,30])\n",
    "\n",
    "tup2 = copy.deepcopy(tup1)\n",
    "\n",
    "print(tup1)\n",
    "print(tup2)"
   ]
  },
  {
   "cell_type": "code",
   "execution_count": null,
   "id": "07b92a52",
   "metadata": {},
   "outputs": [],
   "source": [
    "tup1[3][1] = 20201\n",
    "\n",
    "print(tup1)\n",
    "print(tup2)"
   ]
  },
  {
   "cell_type": "code",
   "execution_count": null,
   "id": "0eddc136",
   "metadata": {},
   "outputs": [],
   "source": [
    "print(dir(list))"
   ]
  },
  {
   "cell_type": "code",
   "execution_count": 10,
   "id": "47ccb2c4",
   "metadata": {},
   "outputs": [
    {
     "name": "stdout",
     "output_type": "stream",
     "text": [
      "['__add__', '__class__', '__class_getitem__', '__contains__', '__delattr__', '__delitem__', '__dir__', '__doc__', '__eq__', '__format__', '__ge__', '__getattribute__', '__getitem__', '__gt__', '__hash__', '__iadd__', '__imul__', '__init__', '__init_subclass__', '__iter__', '__le__', '__len__', '__lt__', '__mul__', '__ne__', '__new__', '__reduce__', '__reduce_ex__', '__repr__', '__reversed__', '__rmul__', '__setattr__', '__setitem__', '__sizeof__', '__str__', '__subclasshook__', 'append', 'clear', 'copy', 'count', 'extend', 'index', 'insert', 'pop', 'remove', 'reverse', 'sort']\n"
     ]
    }
   ],
   "source": [
    "print('Hi')"
   ]
  },
  {
   "cell_type": "code",
   "execution_count": 11,
   "id": "828a1548",
   "metadata": {},
   "outputs": [
    {
     "name": "stdout",
     "output_type": "stream",
     "text": [
      "['__add__', '__class__', '__class_getitem__', '__contains__', '__delattr__', '__dir__', '__doc__', '__eq__', '__format__', '__ge__', '__getattribute__', '__getitem__', '__getnewargs__', '__gt__', '__hash__', '__init__', '__init_subclass__', '__iter__', '__le__', '__len__', '__lt__', '__mul__', '__ne__', '__new__', '__reduce__', '__reduce_ex__', '__repr__', '__rmul__', '__setattr__', '__sizeof__', '__str__', '__subclasshook__', 'count', 'index']\n"
     ]
    }
   ],
   "source": [
    "print(dir(tuple))"
   ]
  },
  {
   "cell_type": "code",
   "execution_count": 27,
   "id": "27640a23",
   "metadata": {},
   "outputs": [
    {
     "name": "stdout",
     "output_type": "stream",
     "text": [
      "<class 'tuple'>\n",
      "<class 'tuple'>\n",
      "<class 'tuple'>\n"
     ]
    }
   ],
   "source": [
    "#Tuple packing and unpacking. In tuples there is a very power tuple assignment feature called unpacking. \n",
    "\n",
    "#Packing a tuple is nothing but putting elements in a tuple. We have already seen the ways to 'pack' a tuple. \n",
    "\n",
    "tup1 = 1,2,3,4\n",
    "print(type(tup1))\n",
    "\n",
    "tup2 = (10,20,30,40)\n",
    "print(type(tup2))\n",
    "\n",
    "tup3 = tuple('abcde')\n",
    "print(type(tup3))"
   ]
  },
  {
   "cell_type": "code",
   "execution_count": null,
   "id": "85136783",
   "metadata": {},
   "outputs": [],
   "source": [
    "p = tup1[0]\n",
    "q = tup1[1]\n",
    "r = tup1[2]\n",
    "s = tup1[3]"
   ]
  },
  {
   "cell_type": "code",
   "execution_count": 34,
   "id": "31b82ced",
   "metadata": {},
   "outputs": [
    {
     "name": "stdout",
     "output_type": "stream",
     "text": [
      "1\n",
      "2\n",
      "3\n",
      "4\n"
     ]
    }
   ],
   "source": [
    "#Unpacking is assigning tuple values to variables i.e. multiple variables on the left corresponding to the the values to\n",
    "# be assigned on the right. \n",
    "\n",
    "p,q,r,s = tup1\n",
    "\n",
    "print(p,q,r,s, sep= '\\n')"
   ]
  },
  {
   "cell_type": "code",
   "execution_count": 29,
   "id": "5f2d7b43",
   "metadata": {},
   "outputs": [
    {
     "name": "stdout",
     "output_type": "stream",
     "text": [
      "(10, 20, 30, 40)\n"
     ]
    }
   ],
   "source": [
    "print(tup2)"
   ]
  },
  {
   "cell_type": "code",
   "execution_count": 30,
   "id": "3dd9c35b",
   "metadata": {},
   "outputs": [
    {
     "name": "stdout",
     "output_type": "stream",
     "text": [
      "10\n",
      "20\n",
      "30\n",
      "40\n"
     ]
    }
   ],
   "source": [
    "p,q,r,s = tup2\n",
    "\n",
    "print(p,q,r,s, sep= '\\n')"
   ]
  },
  {
   "cell_type": "code",
   "execution_count": 31,
   "id": "f8319cc3",
   "metadata": {},
   "outputs": [
    {
     "name": "stdout",
     "output_type": "stream",
     "text": [
      "('a', 'b', 'c', 'd', 'e')\n"
     ]
    }
   ],
   "source": [
    "print(tup3)"
   ]
  },
  {
   "cell_type": "code",
   "execution_count": 37,
   "id": "b1ba2bbe",
   "metadata": {},
   "outputs": [
    {
     "name": "stdout",
     "output_type": "stream",
     "text": [
      "a\n",
      "b\n",
      "c\n",
      "d\n",
      "e\n"
     ]
    }
   ],
   "source": [
    "p,q,r,s,t= tup3\n",
    "\n",
    "print(p,q,r,s,t, sep= '\\n')"
   ]
  },
  {
   "cell_type": "code",
   "execution_count": 33,
   "id": "8d3b700a",
   "metadata": {},
   "outputs": [
    {
     "ename": "ValueError",
     "evalue": "too many values to unpack (expected 3)",
     "output_type": "error",
     "traceback": [
      "\u001b[1;31m---------------------------------------------------------------------------\u001b[0m",
      "\u001b[1;31mValueError\u001b[0m                                Traceback (most recent call last)",
      "\u001b[1;32m<ipython-input-33-00746a31e469>\u001b[0m in \u001b[0;36m<module>\u001b[1;34m\u001b[0m\n\u001b[1;32m----> 1\u001b[1;33m \u001b[0mp\u001b[0m\u001b[1;33m,\u001b[0m\u001b[0mq\u001b[0m\u001b[1;33m,\u001b[0m\u001b[0mr\u001b[0m \u001b[1;33m=\u001b[0m \u001b[0mtup3\u001b[0m\u001b[1;33m\u001b[0m\u001b[1;33m\u001b[0m\u001b[0m\n\u001b[0m\u001b[0;32m      2\u001b[0m \u001b[1;33m\u001b[0m\u001b[0m\n",
      "\u001b[1;31mValueError\u001b[0m: too many values to unpack (expected 3)"
     ]
    }
   ],
   "source": [
    "p,q,r = tup3\n",
    "\n"
   ]
  },
  {
   "cell_type": "code",
   "execution_count": null,
   "id": "fe529341",
   "metadata": {},
   "outputs": [],
   "source": [
    "#In case we want only a couple of values assigned and the rest to be assigned to a single variabel(list by default) we\n",
    "# can use the * symbol in front of the variable to show multiple arguments passed (*args)\n",
    "\n",
    "print(tup3)"
   ]
  },
  {
   "cell_type": "code",
   "execution_count": 40,
   "id": "9a5507ab",
   "metadata": {},
   "outputs": [
    {
     "name": "stdout",
     "output_type": "stream",
     "text": [
      "a\n",
      "b\n",
      "('c', 'd', 'e')\n"
     ]
    }
   ],
   "source": [
    "p,q, *s = tup3\n",
    "\n",
    "s = tuple(s)\n",
    "\n",
    "print(p,q,s, sep= '\\n')"
   ]
  },
  {
   "cell_type": "code",
   "execution_count": 41,
   "id": "a40261ae",
   "metadata": {},
   "outputs": [
    {
     "name": "stdout",
     "output_type": "stream",
     "text": [
      "['a', 'b', 'c']\n",
      "d\n",
      "e\n"
     ]
    }
   ],
   "source": [
    "*p,q,s = tup3\n",
    "\n",
    "print(p,q,s, sep = '\\n')"
   ]
  },
  {
   "cell_type": "code",
   "execution_count": null,
   "id": "1d496966",
   "metadata": {},
   "outputs": [],
   "source": [
    "#Note, the order of the assignment of the regular variables and the *variable doesnt matter. First the n number of elements\n",
    "# in tuple (n being equal to the number of regular variables passed) are passed to the regular variables and all the rest\n",
    "# of the values are assigned to a single * prefixed variable. \n",
    "\n",
    "p,*s,q,r = tup3\n",
    "\n",
    "print(p,s,q,r, sep = '\\n')"
   ]
  },
  {
   "cell_type": "code",
   "execution_count": null,
   "id": "711e645b",
   "metadata": {},
   "outputs": [],
   "source": [
    "p,*s,*t = tup3\n",
    "\n",
    "print(p,s,t, sep = '\\n')"
   ]
  },
  {
   "cell_type": "code",
   "execution_count": null,
   "id": "37f80428",
   "metadata": {},
   "outputs": [],
   "source": [
    "#using this logic of tuple unpacking we can assign a single tuple with all the parameters to be used in a function into\n",
    "# the function prefixed with a star and Python will automatically unpack the tuple and assign values to the parameters. \n",
    "\n",
    "def just_a_func(x,y,z,p,q):\n",
    "    return p+q, (x+y*z)\n",
    "\n",
    "func_tup = (2,2,3,'Rikki ', 'Rocks ')"
   ]
  },
  {
   "cell_type": "code",
   "execution_count": null,
   "id": "81c64c8c",
   "metadata": {
    "scrolled": true
   },
   "outputs": [],
   "source": [
    "print(just_a_func(*func_tup))\n",
    "\n",
    "#Do not forget the star in front of the tuple before passing into the function"
   ]
  },
  {
   "cell_type": "code",
   "execution_count": null,
   "id": "7f4c1eb3",
   "metadata": {},
   "outputs": [],
   "source": [
    "a,b = just_a_func(*func_tup)\n",
    "\n",
    "print(a, b, sep = '\\n')"
   ]
  },
  {
   "cell_type": "code",
   "execution_count": null,
   "id": "a858e466",
   "metadata": {},
   "outputs": [],
   "source": [
    "y = 10,20\n",
    "\n",
    "print(y)\n",
    "print(type(y))"
   ]
  },
  {
   "cell_type": "code",
   "execution_count": null,
   "id": "7653bbfc",
   "metadata": {},
   "outputs": [],
   "source": []
  },
  {
   "cell_type": "code",
   "execution_count": null,
   "id": "ecfd5218",
   "metadata": {},
   "outputs": [],
   "source": [
    "def tup_output_func():\n",
    "    return 10,20\n",
    "\n",
    "\n"
   ]
  },
  {
   "cell_type": "code",
   "execution_count": null,
   "id": "ff7d28a6",
   "metadata": {},
   "outputs": [],
   "source": [
    "x,y = tup_output_func()\n",
    "\n",
    "print(x)\n",
    "print(type(x))"
   ]
  },
  {
   "cell_type": "code",
   "execution_count": null,
   "id": "0b79aa99",
   "metadata": {},
   "outputs": [],
   "source": [
    "# We can also use the * in front of a parameter in a function definition when the number of elements (parameters) for the\n",
    "# function are not known or defined. We will discuss this in deep in Functions. But for now, this is a simple idea. "
   ]
  },
  {
   "cell_type": "code",
   "execution_count": null,
   "id": "449de959",
   "metadata": {},
   "outputs": [],
   "source": [
    "# def func_lst_r(*param):\n",
    "#     for i in param:\n",
    "#         print(i*20)\n",
    "        \n",
    "# lst_r = list(range(10))\n",
    "\n",
    "# func_lst_r(*lst_r)\n",
    "\n",
    "# #Note how the * in front of both the function parameter and the argument to the function call both have * prefixed - in the\n",
    "# # first case - * in front of parameter - we are telling the program - we do not know how many elements will be passed to \n",
    "# # the function. In the second case - * in front of the argument - we are asking Python to unpack the elements in the list\n",
    "# # into the variables defined in the function parameters. Since we already prefixed the parameters with a star signifying\n",
    "# # unpack how many ever elements show up - everything works fine. "
   ]
  },
  {
   "cell_type": "code",
   "execution_count": null,
   "id": "ad71acc9",
   "metadata": {},
   "outputs": [],
   "source": [
    "#Note what happens when either of the * is missing. \n",
    "\n",
    "# def func_lst_r(param):\n",
    "#     for i in param:\n",
    "#         print(i*20)\n",
    "        \n",
    "# lst_r = list(range(10))\n",
    "\n",
    "# func_lst_r(*lst_r)\n"
   ]
  },
  {
   "cell_type": "code",
   "execution_count": null,
   "id": "94aa4db4",
   "metadata": {},
   "outputs": [],
   "source": [
    "#Here we see the program throwing us an error saying only one argument was expected but there were 10 elements unpacked from\n",
    "# the list. "
   ]
  },
  {
   "cell_type": "code",
   "execution_count": null,
   "id": "12310122",
   "metadata": {},
   "outputs": [],
   "source": [
    "# def func_lst_r(*param):\n",
    "#     for i in param:\n",
    "#         print(i*20)\n",
    "        \n",
    "# lst_r = list(range(10))\n",
    "\n",
    "# func_lst_r(lst_r)\n"
   ]
  },
  {
   "cell_type": "code",
   "execution_count": null,
   "id": "7c4d57de",
   "metadata": {},
   "outputs": [],
   "source": [
    "# # Of course, in this simple program we could have just not any *s and it would work but this was just an example of packing\n",
    "# # and unpacking. \n",
    "\n",
    "# def func_lst_r(param):\n",
    "#     for i in param:\n",
    "#         print(i*20)\n",
    "        \n",
    "# lst_r = list(range(10))\n",
    "\n",
    "# func_lst_r(lst_r)\n"
   ]
  },
  {
   "cell_type": "code",
   "execution_count": null,
   "id": "f0e6a62a",
   "metadata": {},
   "outputs": [],
   "source": [
    "# #or the range object directly\n",
    "\n",
    "# def func_lst_r(param):\n",
    "#     for i in param:\n",
    "#         print(i*20)\n",
    "        \n",
    "# lst_r = range(10)\n",
    "\n",
    "# func_lst_r(lst_r)\n"
   ]
  },
  {
   "cell_type": "code",
   "execution_count": null,
   "id": "efdd20cc",
   "metadata": {},
   "outputs": [],
   "source": [
    "x = 'Python'\n",
    "y = 'Python'\n",
    "\n",
    "z = 'Python#'\n",
    "zz = 'Python#'\n",
    "\n",
    "\n",
    "print(z is zz)"
   ]
  },
  {
   "cell_type": "code",
   "execution_count": null,
   "id": "82e0562c",
   "metadata": {},
   "outputs": [],
   "source": [
    "print(dir(tuple))"
   ]
  },
  {
   "cell_type": "code",
   "execution_count": 43,
   "id": "2306b867",
   "metadata": {},
   "outputs": [
    {
     "name": "stdout",
     "output_type": "stream",
     "text": [
      "['a', 'b', 'c', 'd', 'e']\n"
     ]
    }
   ],
   "source": [
    "lst1 = list('abcde')\n",
    "\n",
    "print(lst1)"
   ]
  },
  {
   "cell_type": "code",
   "execution_count": 56,
   "id": "ad486e18",
   "metadata": {},
   "outputs": [
    {
     "name": "stdout",
     "output_type": "stream",
     "text": [
      "[(10, 'A'), (11, 'B'), (12, 'C'), (13, 'D'), (14, 'E')]\n"
     ]
    }
   ],
   "source": [
    "enum_lst1 = list(enumerate('ABCDE', 10))\n",
    "\n",
    "print(enum_lst1)"
   ]
  },
  {
   "cell_type": "code",
   "execution_count": 57,
   "id": "0da4f412",
   "metadata": {},
   "outputs": [
    {
     "name": "stdout",
     "output_type": "stream",
     "text": [
      "0 AAAAA\n",
      "1 BBBBB\n",
      "2 CCCCC\n",
      "3 DDDDD\n",
      "4 EEEEE\n"
     ]
    }
   ],
   "source": [
    "for i in enumerate('ABCDE'):\n",
    "    print(i[0], i[1]*5)"
   ]
  },
  {
   "cell_type": "code",
   "execution_count": 61,
   "id": "fea997b3",
   "metadata": {},
   "outputs": [
    {
     "name": "stdout",
     "output_type": "stream",
     "text": [
      "<enumerate object at 0x00000258B3CA0B80>\n"
     ]
    }
   ],
   "source": [
    "enum_lst2 = enumerate('ABCDE')\n",
    "\n",
    "print(enum_lst2)"
   ]
  },
  {
   "cell_type": "code",
   "execution_count": 60,
   "id": "a43fe5f5",
   "metadata": {},
   "outputs": [],
   "source": [
    "for x in enum_lst2:\n",
    "    print(x)"
   ]
  },
  {
   "cell_type": "code",
   "execution_count": null,
   "id": "6c7c236e",
   "metadata": {},
   "outputs": [],
   "source": [
    "tup1 = tuple('abcdefghij')\n",
    "\n",
    "print(tup1)\n",
    "\n",
    "wIndex = list(enumerate(tup1, 101))\n",
    "\n",
    "print(wIndex)"
   ]
  },
  {
   "cell_type": "code",
   "execution_count": null,
   "id": "328cbd48",
   "metadata": {},
   "outputs": [],
   "source": [
    "lsttrial = [1,2,'a', 'f']\n",
    "\n",
    "print(sorted(lsttrial))"
   ]
  },
  {
   "cell_type": "code",
   "execution_count": null,
   "id": "750d0990",
   "metadata": {},
   "outputs": [],
   "source": [
    "print(10 > '20')"
   ]
  },
  {
   "cell_type": "code",
   "execution_count": null,
   "id": "ec8bdf3c",
   "metadata": {},
   "outputs": [],
   "source": [
    "lst1 = [21,2,4,5,11,2123,42,349, 82, 62]\n",
    "\n",
    "def sortedbyrikki(lst1):\n",
    "    for x in lst1:\n",
    "        for y in range(len(lst1)-1):\n",
    "            print(lst1)\n",
    "            if lst1[y]>lst1[y+1]:\n",
    "                lst1[y], lst1[y+1] = lst1[y+1], lst1[y]\n",
    "    return lst1\n",
    "            \n",
    "sortedbyrikki(lst1)\n"
   ]
  },
  {
   "cell_type": "code",
   "execution_count": 22,
   "id": "e98048eb",
   "metadata": {},
   "outputs": [
    {
     "name": "stdout",
     "output_type": "stream",
     "text": [
      "['__add__', '__class__', '__class_getitem__', '__contains__', '__delattr__', '__delitem__', '__dir__', '__doc__', '__eq__', '__format__', '__ge__', '__getattribute__', '__getitem__', '__gt__', '__hash__', '__iadd__', '__imul__', '__init__', '__init_subclass__', '__iter__', '__le__', '__len__', '__lt__', '__mul__', '__ne__', '__new__', '__reduce__', '__reduce_ex__', '__repr__', '__reversed__', '__rmul__', '__setattr__', '__setitem__', '__sizeof__', '__str__', '__subclasshook__', 'append', 'clear', 'copy', 'count', 'extend', 'index', 'insert', 'pop', 'remove', 'reverse', 'sort']\n"
     ]
    }
   ],
   "source": [
    "print(dir(list))"
   ]
  }
 ],
 "metadata": {
  "kernelspec": {
   "display_name": "Python 3 (ipykernel)",
   "language": "python",
   "name": "python3"
  },
  "language_info": {
   "codemirror_mode": {
    "name": "ipython",
    "version": 3
   },
   "file_extension": ".py",
   "mimetype": "text/x-python",
   "name": "python",
   "nbconvert_exporter": "python",
   "pygments_lexer": "ipython3",
   "version": "3.9.13"
  }
 },
 "nbformat": 4,
 "nbformat_minor": 5
}
