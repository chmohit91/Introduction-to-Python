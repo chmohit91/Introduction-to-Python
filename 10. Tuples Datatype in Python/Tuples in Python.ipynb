{
 "cells": [
  {
   "cell_type": "markdown",
   "id": "65497f5f",
   "metadata": {},
   "source": [
    "### Datatype - Tuples, Aliasing/Copying/Deepcopying"
   ]
  },
  {
   "cell_type": "code",
   "execution_count": null,
   "id": "72db852b",
   "metadata": {},
   "outputs": [],
   "source": [
    "# Properties of tuples\n",
    "\n",
    "#1. Derived\n",
    "#2. Immutable\n",
    "#3. Iterable\n",
    "#4. Subscription - Indexing, slicing - supported, Assignemnt(indexing, slicing) - Not supported\n",
    "#5. Can contain heterogenous datatypes\n",
    "#6. Nesting is supported. \n",
    "#7. Ordered. Input - output order is maintained. "
   ]
  },
  {
   "cell_type": "code",
   "execution_count": 1,
   "id": "c211f32f",
   "metadata": {},
   "outputs": [
    {
     "name": "stdout",
     "output_type": "stream",
     "text": [
      "{'v', 'r', 'o', 'q', 'm', 'b', 'i', 't', 'x', 'a', 'l', 's', 'h', 'w', 'e', 'p', 'j', 'u', 'f', 'y', 'g', 'k', 'd', 'n', 'z', 'c'}\n"
     ]
    }
   ],
   "source": [
    "set1 = set('abcdefghijklmnopqrstuvwxyz')\n",
    "\n",
    "print(set1)"
   ]
  },
  {
   "cell_type": "code",
   "execution_count": 2,
   "id": "c5bc66b8",
   "metadata": {},
   "outputs": [
    {
     "name": "stdout",
     "output_type": "stream",
     "text": [
      "('a', 'b', 'c', 'd', 'e', 'f', 'g', 'h', 'i', 'j', 'k', 'l', 'm', 'n', 'o', 'p', 'q', 'r', 's', 't', 'u', 'v', 'w', 'x', 'y', 'z')\n"
     ]
    }
   ],
   "source": [
    "tup1 = tuple('abcdefghijklmnopqrstuvwxyz')\n",
    "\n",
    "print(tup1)"
   ]
  },
  {
   "cell_type": "code",
   "execution_count": 3,
   "id": "bdb5bb50",
   "metadata": {},
   "outputs": [
    {
     "name": "stdout",
     "output_type": "stream",
     "text": [
      "['a', 'b', 'c', 'd', 'e', 'f', 'g', 'h', 'i', 'j', 'k', 'l', 'm', 'n', 'o', 'p', 'q', 'r', 's', 't', 'u', 'v', 'w', 'x', 'y', 'z']\n"
     ]
    }
   ],
   "source": [
    "lst1 = list('abcdefghijklmnopqrstuvwxyz')\n",
    "\n",
    "print(lst1)"
   ]
  },
  {
   "cell_type": "code",
   "execution_count": null,
   "id": "d62e7b15",
   "metadata": {},
   "outputs": [],
   "source": [
    "# Dictionaries used to be unordered, now they are ordered. "
   ]
  },
  {
   "cell_type": "code",
   "execution_count": null,
   "id": "4526c193",
   "metadata": {},
   "outputs": [],
   "source": [
    "# Initialising tuples"
   ]
  },
  {
   "cell_type": "code",
   "execution_count": 4,
   "id": "f1d76a61",
   "metadata": {},
   "outputs": [
    {
     "name": "stdout",
     "output_type": "stream",
     "text": [
      "(1, 2, 3)\n"
     ]
    }
   ],
   "source": [
    "tup1 = (1,2,3)\n",
    "\n",
    "print(tup1)"
   ]
  },
  {
   "cell_type": "code",
   "execution_count": 5,
   "id": "2531ca81",
   "metadata": {},
   "outputs": [
    {
     "name": "stdout",
     "output_type": "stream",
     "text": [
      "(1, 2, 3)\n"
     ]
    }
   ],
   "source": [
    "tup2 = 1,2,3\n",
    "\n",
    "print(tup2)"
   ]
  },
  {
   "cell_type": "code",
   "execution_count": 6,
   "id": "d3cc3296",
   "metadata": {},
   "outputs": [
    {
     "name": "stdout",
     "output_type": "stream",
     "text": [
      "(1,)\n"
     ]
    }
   ],
   "source": [
    "tup3 = 1,\n",
    "\n",
    "print(tup3)"
   ]
  },
  {
   "cell_type": "code",
   "execution_count": 7,
   "id": "46821877",
   "metadata": {},
   "outputs": [
    {
     "name": "stdout",
     "output_type": "stream",
     "text": [
      "(1,)\n"
     ]
    }
   ],
   "source": [
    "tup4 = (1,)\n",
    "\n",
    "print(tup4)"
   ]
  },
  {
   "cell_type": "code",
   "execution_count": 8,
   "id": "1a8c1fe8",
   "metadata": {},
   "outputs": [
    {
     "name": "stdout",
     "output_type": "stream",
     "text": [
      "1\n",
      "<class 'int'>\n"
     ]
    }
   ],
   "source": [
    "tup5 = (1)\n",
    "\n",
    "print(tup5)\n",
    "print(type(tup5))"
   ]
  },
  {
   "cell_type": "code",
   "execution_count": 9,
   "id": "faecdd8f",
   "metadata": {},
   "outputs": [
    {
     "name": "stdout",
     "output_type": "stream",
     "text": [
      "('a', 'b', 'c', 'd', 'e')\n"
     ]
    }
   ],
   "source": [
    "tup1 = tuple('abcde') # Explicit typecasting\n",
    "\n",
    "print(tup1)"
   ]
  },
  {
   "cell_type": "code",
   "execution_count": 11,
   "id": "46857714",
   "metadata": {},
   "outputs": [
    {
     "name": "stdout",
     "output_type": "stream",
     "text": [
      "(1, 2, 3, 4)\n"
     ]
    }
   ],
   "source": [
    "tup1 = tuple((1,2,3,4))\n",
    "\n",
    "print(tup1)"
   ]
  },
  {
   "cell_type": "code",
   "execution_count": 12,
   "id": "e3bb3902",
   "metadata": {},
   "outputs": [
    {
     "name": "stdout",
     "output_type": "stream",
     "text": [
      "(1, 2, 3, 4)\n"
     ]
    }
   ],
   "source": [
    "tup1 = tuple([1,2,3,4])\n",
    "\n",
    "print(tup1)"
   ]
  },
  {
   "cell_type": "code",
   "execution_count": 13,
   "id": "890e728e",
   "metadata": {},
   "outputs": [
    {
     "name": "stdout",
     "output_type": "stream",
     "text": [
      "(0, 1, 2, 3, 4, 5, 6, 7, 8, 9)\n"
     ]
    }
   ],
   "source": [
    "tuprange = tuple(range(10))\n",
    "\n",
    "print(tuprange)"
   ]
  },
  {
   "cell_type": "code",
   "execution_count": null,
   "id": "835b69e2",
   "metadata": {},
   "outputs": [],
   "source": [
    "# Indexing, Slicing on tuples"
   ]
  },
  {
   "cell_type": "code",
   "execution_count": 14,
   "id": "1845c624",
   "metadata": {},
   "outputs": [],
   "source": [
    "tup1 = tuple(range(1,11))"
   ]
  },
  {
   "cell_type": "code",
   "execution_count": 15,
   "id": "4d7bbb8c",
   "metadata": {},
   "outputs": [
    {
     "name": "stdout",
     "output_type": "stream",
     "text": [
      "(1, 2, 3, 4, 5, 6, 7, 8, 9, 10)\n"
     ]
    }
   ],
   "source": [
    "print(tup1)"
   ]
  },
  {
   "cell_type": "code",
   "execution_count": 16,
   "id": "75b88d79",
   "metadata": {},
   "outputs": [
    {
     "data": {
      "text/plain": [
       "(5, 6, 7)"
      ]
     },
     "execution_count": 16,
     "metadata": {},
     "output_type": "execute_result"
    }
   ],
   "source": [
    "tup1[4:7]"
   ]
  },
  {
   "cell_type": "code",
   "execution_count": 17,
   "id": "4d66fa7e",
   "metadata": {},
   "outputs": [
    {
     "data": {
      "text/plain": [
       "(8, 6, 4)"
      ]
     },
     "execution_count": 17,
     "metadata": {},
     "output_type": "execute_result"
    }
   ],
   "source": [
    "tup1[7:2:-2]"
   ]
  },
  {
   "cell_type": "code",
   "execution_count": 18,
   "id": "2444d147",
   "metadata": {},
   "outputs": [
    {
     "data": {
      "text/plain": [
       "4"
      ]
     },
     "execution_count": 18,
     "metadata": {},
     "output_type": "execute_result"
    }
   ],
   "source": [
    "tup1[3]"
   ]
  },
  {
   "cell_type": "code",
   "execution_count": 20,
   "id": "c3c83ddb",
   "metadata": {},
   "outputs": [
    {
     "ename": "TypeError",
     "evalue": "'tuple' object does not support item assignment",
     "output_type": "error",
     "traceback": [
      "\u001b[1;31m---------------------------------------------------------------------------\u001b[0m",
      "\u001b[1;31mTypeError\u001b[0m                                 Traceback (most recent call last)",
      "\u001b[1;32m~\\AppData\\Local\\Temp\\ipykernel_612\\2241057598.py\u001b[0m in \u001b[0;36m<module>\u001b[1;34m\u001b[0m\n\u001b[1;32m----> 1\u001b[1;33m \u001b[0mtup1\u001b[0m\u001b[1;33m[\u001b[0m\u001b[1;36m3\u001b[0m\u001b[1;33m]\u001b[0m \u001b[1;33m=\u001b[0m \u001b[1;36m40\u001b[0m \u001b[1;31m# Assignment is not supported\u001b[0m\u001b[1;33m\u001b[0m\u001b[1;33m\u001b[0m\u001b[0m\n\u001b[0m",
      "\u001b[1;31mTypeError\u001b[0m: 'tuple' object does not support item assignment"
     ]
    }
   ],
   "source": [
    "tup1[3] = 40 # Assignment is not supported"
   ]
  },
  {
   "cell_type": "code",
   "execution_count": 21,
   "id": "56f9f792",
   "metadata": {},
   "outputs": [
    {
     "name": "stdout",
     "output_type": "stream",
     "text": [
      "1\n",
      "2\n",
      "3\n",
      "4\n",
      "5\n",
      "6\n",
      "7\n",
      "8\n",
      "9\n",
      "10\n"
     ]
    }
   ],
   "source": [
    "for x in tup1:\n",
    "    print(x)"
   ]
  },
  {
   "cell_type": "code",
   "execution_count": 22,
   "id": "324e3b00",
   "metadata": {},
   "outputs": [
    {
     "name": "stdout",
     "output_type": "stream",
     "text": [
      "(1, 2, 3, 4)\n",
      "<class 'tuple'>\n",
      "('a', 'b', 'c', 'd', 'e')\n",
      "<class 'tuple'>\n"
     ]
    }
   ],
   "source": [
    "# Concatenation\n",
    "\n",
    "tup1 = tuple((1,2,3,4))\n",
    "tup2 = tuple('abcde')\n",
    "\n",
    "print(tup1)\n",
    "print(type(tup1))\n",
    "\n",
    "print(tup2)\n",
    "print(type(tup2))"
   ]
  },
  {
   "cell_type": "code",
   "execution_count": 23,
   "id": "70257bfa",
   "metadata": {},
   "outputs": [
    {
     "name": "stdout",
     "output_type": "stream",
     "text": [
      "(1, 2, 3, 4, 'a', 'b', 'c', 'd', 'e')\n"
     ]
    }
   ],
   "source": [
    "tup3 = tup1 + tup2\n",
    "\n",
    "print(tup3)"
   ]
  },
  {
   "cell_type": "code",
   "execution_count": 24,
   "id": "fa0db949",
   "metadata": {},
   "outputs": [
    {
     "name": "stdout",
     "output_type": "stream",
     "text": [
      "2937696310992\n",
      "2937695560464\n",
      "2937663039856\n"
     ]
    }
   ],
   "source": [
    "print(id(tup1), id(tup2), id(tup3), sep = '\\n')"
   ]
  },
  {
   "cell_type": "code",
   "execution_count": 25,
   "id": "9a40cd2c",
   "metadata": {},
   "outputs": [
    {
     "name": "stdout",
     "output_type": "stream",
     "text": [
      "(1, 2, 3, 4, 1, 2, 3, 4, 1, 2, 3, 4, 1, 2, 3, 4, 1, 2, 3, 4)\n"
     ]
    }
   ],
   "source": [
    "tup4 = tup1*5\n",
    "\n",
    "print(tup4)"
   ]
  },
  {
   "cell_type": "code",
   "execution_count": 26,
   "id": "79e5eee9",
   "metadata": {},
   "outputs": [
    {
     "name": "stdout",
     "output_type": "stream",
     "text": [
      "['__add__', '__class__', '__class_getitem__', '__contains__', '__delattr__', '__dir__', '__doc__', '__eq__', '__format__', '__ge__', '__getattribute__', '__getitem__', '__getnewargs__', '__gt__', '__hash__', '__init__', '__init_subclass__', '__iter__', '__le__', '__len__', '__lt__', '__mul__', '__ne__', '__new__', '__reduce__', '__reduce_ex__', '__repr__', '__rmul__', '__setattr__', '__sizeof__', '__str__', '__subclasshook__', 'count', 'index']\n"
     ]
    }
   ],
   "source": [
    "print(dir(tuple))"
   ]
  },
  {
   "cell_type": "code",
   "execution_count": 27,
   "id": "7d4436fa",
   "metadata": {},
   "outputs": [
    {
     "name": "stdout",
     "output_type": "stream",
     "text": [
      "('x', 'y', 'z', 'a', 'h', 'g', 'j', 'a', 'g', 'b', 'b', 'b', 'a', 'a', 'c', 'd', 'e', 'f', 'f', 'e')\n"
     ]
    }
   ],
   "source": [
    "tup1 = tuple('xyzahgjagbbbaacdeffe')\n",
    "\n",
    "print(tup1)"
   ]
  },
  {
   "cell_type": "code",
   "execution_count": 28,
   "id": "791bc406",
   "metadata": {},
   "outputs": [
    {
     "name": "stdout",
     "output_type": "stream",
     "text": [
      "4\n"
     ]
    }
   ],
   "source": [
    "x = tup1.count('a')\n",
    "\n",
    "print(x)"
   ]
  },
  {
   "cell_type": "code",
   "execution_count": 29,
   "id": "2a2fde8e",
   "metadata": {},
   "outputs": [
    {
     "name": "stdout",
     "output_type": "stream",
     "text": [
      "3\n"
     ]
    }
   ],
   "source": [
    "y = tup1.index('a')\n",
    "\n",
    "print(y)"
   ]
  },
  {
   "cell_type": "code",
   "execution_count": 37,
   "id": "6a1f4e4d",
   "metadata": {},
   "outputs": [
    {
     "name": "stdout",
     "output_type": "stream",
     "text": [
      "(0, 2, 4, 6, 8, 10, 12, 14, 16, 18)\n"
     ]
    }
   ],
   "source": [
    "tup1 = tuple(x*2 for x in range(10))\n",
    "\n",
    "print(tup1)"
   ]
  },
  {
   "cell_type": "code",
   "execution_count": 36,
   "id": "81156f99",
   "metadata": {},
   "outputs": [],
   "source": [
    "for x in tup1:\n",
    "    print(x)"
   ]
  },
  {
   "cell_type": "code",
   "execution_count": null,
   "id": "e139cbb5",
   "metadata": {},
   "outputs": [],
   "source": [
    "# Generator object is a subclass of iterator objects. Its a datatype in Python. "
   ]
  },
  {
   "cell_type": "code",
   "execution_count": null,
   "id": "aafa9693",
   "metadata": {},
   "outputs": [],
   "source": [
    "# A generator object can only be iterated over once.\n",
    "# It is created using the 'yield' keyword while defining the function to create it <instead of the normal 'return' keyword>"
   ]
  },
  {
   "cell_type": "code",
   "execution_count": 38,
   "id": "d86b783b",
   "metadata": {},
   "outputs": [
    {
     "name": "stdout",
     "output_type": "stream",
     "text": [
      "<generator object <genexpr> at 0x000002ABFC67D510>\n"
     ]
    }
   ],
   "source": [
    "tup1 = (x*2 for x in range(10))\n",
    "\n",
    "print(tup1)"
   ]
  },
  {
   "cell_type": "code",
   "execution_count": 40,
   "id": "24c07dee",
   "metadata": {},
   "outputs": [],
   "source": [
    "for x in tup1:\n",
    "    print(x)"
   ]
  },
  {
   "cell_type": "code",
   "execution_count": 41,
   "id": "b74c2905",
   "metadata": {},
   "outputs": [
    {
     "name": "stdout",
     "output_type": "stream",
     "text": [
      "(0, 2, 4, 6, 8, 10, 12, 14, 16, 18)\n",
      "<class 'tuple'>\n"
     ]
    }
   ],
   "source": [
    "tup2 = tuple(x*2 for x in range(10))\n",
    "\n",
    "print(tup2)\n",
    "print(type(tup2))"
   ]
  },
  {
   "cell_type": "code",
   "execution_count": 44,
   "id": "f760f073",
   "metadata": {},
   "outputs": [
    {
     "name": "stdout",
     "output_type": "stream",
     "text": [
      "0\n",
      "2\n",
      "4\n",
      "6\n",
      "8\n",
      "10\n",
      "12\n",
      "14\n",
      "16\n",
      "18\n"
     ]
    }
   ],
   "source": [
    "for x in tup2:\n",
    "    print(x)"
   ]
  },
  {
   "cell_type": "code",
   "execution_count": 59,
   "id": "b9d1c1ca",
   "metadata": {},
   "outputs": [
    {
     "name": "stdout",
     "output_type": "stream",
     "text": [
      "((1, 'jkl', [62, 70, 82], 21), (2, 'ghi', [51, 100, 51], 22), (3, 'abc', [60, 100, 70], 24), (4, 'def', [62, 81, 71], 20), (5, 'xyz', [55, 75, 86], 19), (3, 'pqr', [91, 99, 92], 24))\n"
     ]
    }
   ],
   "source": [
    "# Excercise for class:\n",
    "\n",
    "tup1 = ((1, 'jkl', [62, 70, 82], 21), (2, 'ghi', [51, 100, 51], 22), (3, 'abc', [60, 100, 70], 24), (4, 'def', [62, 81, 71], 20), (5, 'xyz', [55, 75, 86], 19), (3, 'pqr', [91, 99, 92], 24))\n",
    "\n",
    "print(tup1)"
   ]
  },
  {
   "cell_type": "code",
   "execution_count": 47,
   "id": "4e8cf753",
   "metadata": {},
   "outputs": [],
   "source": [
    "# Change 'jkl' to 'kkk' in tup1. You can (and WILL HAVE TO) create a new tuple <name it tup2> since tuples are immutable. \n",
    "\n",
    "# Hint - Slicing and indexing are permitted in tuples. \n",
    "\n",
    "# BTW - There are at least two ways to do this - one to convert the tuple to a list, alter it and then convert it back. This\n",
    "# is the easy way. \n",
    "\n",
    "# But I also want to see the hard way i.e. without converting to list. "
   ]
  },
  {
   "cell_type": "code",
   "execution_count": 55,
   "id": "db02931b",
   "metadata": {},
   "outputs": [
    {
     "ename": "TypeError",
     "evalue": "unsupported operand type(s) for +: 'int' and 'str'",
     "output_type": "error",
     "traceback": [
      "\u001b[1;31m---------------------------------------------------------------------------\u001b[0m",
      "\u001b[1;31mTypeError\u001b[0m                                 Traceback (most recent call last)",
      "\u001b[1;32m~\\AppData\\Local\\Temp\\ipykernel_612\\337785662.py\u001b[0m in \u001b[0;36m<module>\u001b[1;34m\u001b[0m\n\u001b[0;32m      1\u001b[0m \u001b[1;31m# swapnil\u001b[0m\u001b[1;33m\u001b[0m\u001b[1;33m\u001b[0m\u001b[0m\n\u001b[0;32m      2\u001b[0m \u001b[1;33m\u001b[0m\u001b[0m\n\u001b[1;32m----> 3\u001b[1;33m \u001b[0mtup2\u001b[0m \u001b[1;33m=\u001b[0m \u001b[1;33m(\u001b[0m\u001b[1;33m(\u001b[0m\u001b[0mtup1\u001b[0m\u001b[1;33m[\u001b[0m\u001b[1;36m0\u001b[0m\u001b[1;33m]\u001b[0m\u001b[1;33m[\u001b[0m\u001b[1;36m0\u001b[0m\u001b[1;33m]\u001b[0m\u001b[1;33m+\u001b[0m\u001b[1;34m'kkk'\u001b[0m\u001b[1;33m,\u001b[0m\u001b[1;33m)\u001b[0m \u001b[1;33m+\u001b[0m \u001b[1;33m(\u001b[0m\u001b[0mtup1\u001b[0m\u001b[1;33m[\u001b[0m\u001b[1;36m0\u001b[0m\u001b[1;33m]\u001b[0m\u001b[1;33m[\u001b[0m\u001b[1;36m2\u001b[0m\u001b[1;33m:\u001b[0m\u001b[1;33m]\u001b[0m\u001b[1;33m,\u001b[0m\u001b[1;33m)\u001b[0m\u001b[1;33m)\u001b[0m \u001b[1;33m+\u001b[0m \u001b[0mtup1\u001b[0m\u001b[1;33m[\u001b[0m\u001b[1;36m1\u001b[0m\u001b[1;33m:\u001b[0m\u001b[1;33m]\u001b[0m\u001b[1;33m\u001b[0m\u001b[1;33m\u001b[0m\u001b[0m\n\u001b[0m\u001b[0;32m      4\u001b[0m \u001b[1;33m\u001b[0m\u001b[0m\n\u001b[0;32m      5\u001b[0m \u001b[0mprint\u001b[0m\u001b[1;33m(\u001b[0m\u001b[0mtup2\u001b[0m\u001b[1;33m)\u001b[0m\u001b[1;33m\u001b[0m\u001b[1;33m\u001b[0m\u001b[0m\n",
      "\u001b[1;31mTypeError\u001b[0m: unsupported operand type(s) for +: 'int' and 'str'"
     ]
    }
   ],
   "source": [
    "# swapnil\n",
    "\n",
    "tup2 = tup1[0][:1]+('kkk',) + tup1[0][2:] + tup1[2:]\n",
    "\n",
    "print(tup2)"
   ]
  },
  {
   "cell_type": "code",
   "execution_count": 57,
   "id": "2040d30f",
   "metadata": {},
   "outputs": [
    {
     "name": "stdout",
     "output_type": "stream",
     "text": [
      "(1, 'aaa', [62, 70, 82])\n"
     ]
    }
   ],
   "source": [
    "# Parth\n",
    "tup1 = ((1,'jkl',[62,70,82]))\n",
    "\n",
    "lst1 = list(tup1)\n",
    "lst1[1] = 'aaa'\n",
    "\n",
    "tup2 = tuple(lst1)\n",
    "print(tup2)\n"
   ]
  },
  {
   "cell_type": "code",
   "execution_count": 68,
   "id": "b103918b",
   "metadata": {},
   "outputs": [
    {
     "name": "stdout",
     "output_type": "stream",
     "text": [
      "(1, 'kkk', ([62, 70, 82], 21), (2, 'ghi', [51, 100, 51], 22), (3, 'abc', [60, 100, 70], 24), (4, 'def', [62, 81, 71], 20), (5, 'xyz', [55, 75, 86], 19), (3, 'pqr', [91, 99, 92], 24))\n"
     ]
    }
   ],
   "source": [
    "# Sandeep\n",
    "\n",
    "tup2 = (((tup1[0][0],'kkk',tup1[0][2:]) + tup1[1:]))\n",
    "\n",
    "print(tup2)"
   ]
  },
  {
   "cell_type": "code",
   "execution_count": 61,
   "id": "8cfd2e16",
   "metadata": {},
   "outputs": [
    {
     "name": "stdout",
     "output_type": "stream",
     "text": [
      "(1, 'kkk', ([62, 70, 82], 21))\n"
     ]
    }
   ],
   "source": [
    "print(tup2[0])"
   ]
  },
  {
   "cell_type": "code",
   "execution_count": 62,
   "id": "f27d866e",
   "metadata": {},
   "outputs": [
    {
     "name": "stdout",
     "output_type": "stream",
     "text": [
      "2\n"
     ]
    }
   ],
   "source": [
    "print(len(tup2))"
   ]
  },
  {
   "cell_type": "code",
   "execution_count": 69,
   "id": "a83cb4aa",
   "metadata": {},
   "outputs": [
    {
     "name": "stdout",
     "output_type": "stream",
     "text": [
      "(1, 'kkk', ([62, 70, 82], 21), ((2, 'ghi', [51, 100, 51], 22), (3, 'abc', [60, 100, 70], 24), (4, 'def', [62, 81, 71], 20), (5, 'xyz', [55, 75, 86], 19), (3, 'pqr', [91, 99, 92], 24)))\n"
     ]
    }
   ],
   "source": [
    "# Sandeep 2\n",
    "\n",
    "tup2 = (tup1[0][0],'kkk',tup1[0][2:],tup1[1:])\n",
    "\n",
    "print(tup2)"
   ]
  },
  {
   "cell_type": "code",
   "execution_count": 71,
   "id": "0bc5a071",
   "metadata": {},
   "outputs": [
    {
     "name": "stdout",
     "output_type": "stream",
     "text": [
      "(1, 'kkk', ([62, 70, 82], 21), ((2, 'ghi', [51, 100, 51], 22), (3, 'abc', [60, 100, 70], 24), (4, 'def', [62, 81, 71], 20), (5, 'xyz', [55, 75, 86], 19), (3, 'pqr', [91, 99, 92], 24)))\n",
      "4\n"
     ]
    }
   ],
   "source": [
    "tup2 = tuple((tup1[0][0],)+('kkk',)+(tup1[0][2:],)+(tup1[1:],))\n",
    "\n",
    "print(tup2)\n",
    "print(len(tup2))"
   ]
  },
  {
   "cell_type": "code",
   "execution_count": 72,
   "id": "a5f324c2",
   "metadata": {},
   "outputs": [
    {
     "data": {
      "text/plain": [
       "1"
      ]
     },
     "execution_count": 72,
     "metadata": {},
     "output_type": "execute_result"
    }
   ],
   "source": [
    "tup2[0]"
   ]
  },
  {
   "cell_type": "code",
   "execution_count": 73,
   "id": "42f1ea97",
   "metadata": {},
   "outputs": [
    {
     "name": "stdout",
     "output_type": "stream",
     "text": [
      "(1, 'hmk', ([1, 2, 3, 4], 21), ((2, 'abr', [2, 34]), ('hhh', [2, 'h'])))\n"
     ]
    }
   ],
   "source": [
    "# Rafiya\n",
    "\n",
    "tup1=((1,'jkl',[1,2,3,4],21),(2,'abr',[2,34]),('hhh',[2,'h']))\n",
    "tup2=()\n",
    "tup2=(tup1[0][0],('hmk'),(tup1[0][2:]),(tup1[1:]))\n",
    "print(tup2)\n"
   ]
  },
  {
   "cell_type": "code",
   "execution_count": 74,
   "id": "9842cacb",
   "metadata": {},
   "outputs": [
    {
     "name": "stdout",
     "output_type": "stream",
     "text": [
      "((1, 'xyz', [62, 45, 65]), (2, 'ghj', [51, 'abc']))\n"
     ]
    }
   ],
   "source": [
    "# rakesh\n",
    "\n",
    "tup1 = ((1, 'jkl', [62, 45, 65]), (2, 'ghj', [51, 'abc']))\n",
    "\n",
    "list1 = list(tup1)\n",
    "\n",
    "list1[0] = list1[0][:1] + ('xyz',) + list1[0][2:]\n",
    "tup2 = tuple(list1)\n",
    "print(tup2)\n"
   ]
  },
  {
   "cell_type": "code",
   "execution_count": 75,
   "id": "ef3ebfd3",
   "metadata": {},
   "outputs": [
    {
     "name": "stdout",
     "output_type": "stream",
     "text": [
      "(1, 'kkk', ([62, 70, 82], 21), (2, 'ghi', [51, 100, 51], 22))\n"
     ]
    }
   ],
   "source": [
    "# Mehak\n",
    "\n",
    "tup1 = ((1, 'jkl', [62,70,82], 21), (2,'ghi',[51,100,51],22))\n",
    "\n",
    "\n",
    "tup3 = tuple((tup1[0][0] , 'kkk' , tup1[0][2:] )) + tup1[1:]\n",
    "print(tup3)\n"
   ]
  },
  {
   "cell_type": "code",
   "execution_count": 77,
   "id": "62a8e91b",
   "metadata": {},
   "outputs": [
    {
     "name": "stdout",
     "output_type": "stream",
     "text": [
      "1\n"
     ]
    }
   ],
   "source": [
    "print(tup3[0])"
   ]
  },
  {
   "cell_type": "code",
   "execution_count": 78,
   "id": "28a1e7fc",
   "metadata": {},
   "outputs": [
    {
     "name": "stdout",
     "output_type": "stream",
     "text": [
      "((1, 'jkl', [62, 70, 82], 21), (2, 'ghi', [51, 100, 51], 22), (3, 'abc', [60, 100, 70], 24), (4, 'def', [62, 81, 71], 20), (5, 'xyz', [55, 75, 86], 19), (3, 'pqr', [91, 99, 92], 24))\n"
     ]
    }
   ],
   "source": [
    "#\n",
    "\n",
    "tup1 = ((1, 'jkl', [62, 70, 82], 21), (2, 'ghi', [51, 100, 51], 22), (3, 'abc', [60, 100, 70], 24), (4, 'def', [62, 81, 71], 20), (5, 'xyz', [55, 75, 86], 19), (3, 'pqr', [91, 99, 92], 24))\n",
    "\n",
    "print(tup1)"
   ]
  },
  {
   "cell_type": "code",
   "execution_count": 87,
   "id": "d3147aa5",
   "metadata": {},
   "outputs": [
    {
     "name": "stdout",
     "output_type": "stream",
     "text": [
      "(1, 'jkl', [62, 70, 82], 21)\n"
     ]
    }
   ],
   "source": [
    "tup1X0 = tup1[0]\n",
    "\n",
    "print(tup1X0)"
   ]
  },
  {
   "cell_type": "code",
   "execution_count": null,
   "id": "3f6cea14",
   "metadata": {},
   "outputs": [],
   "source": [
    "tup1Xstep1 = (tup1X0[0],)+('kkk',)+tup1X0[2:]"
   ]
  },
  {
   "cell_type": "code",
   "execution_count": 88,
   "id": "310e2aed",
   "metadata": {},
   "outputs": [
    {
     "name": "stdout",
     "output_type": "stream",
     "text": [
      "(1, 'kkk', [62, 70, 82], 21)\n"
     ]
    }
   ],
   "source": [
    "tup1X = (tup1[0][0],)+('kkk',)+tup1[0][2:]\n",
    "\n",
    "# (1,) + ('kkk',)+ ([62,70,82],21)\n",
    "\n",
    "print(tup1X)"
   ]
  },
  {
   "cell_type": "code",
   "execution_count": 89,
   "id": "b8170365",
   "metadata": {},
   "outputs": [
    {
     "name": "stdout",
     "output_type": "stream",
     "text": [
      "((1, 'kkk', [62, 70, 82], 21), (2, 'ghi', [51, 100, 51], 22), (3, 'abc', [60, 100, 70], 24), (4, 'def', [62, 81, 71], 20), (5, 'xyz', [55, 75, 86], 19), (3, 'pqr', [91, 99, 92], 24))\n"
     ]
    }
   ],
   "source": [
    "tup2 = (tup1X,)+tup1[1:]\n",
    "\n",
    "print(tup2)"
   ]
  },
  {
   "cell_type": "code",
   "execution_count": 84,
   "id": "2daa039d",
   "metadata": {},
   "outputs": [
    {
     "name": "stdout",
     "output_type": "stream",
     "text": [
      "((1, 'kkk', [62, 70, 82], 21), (2, 'ghi', [51, 100, 51], 22), (3, 'abc', [60, 100, 70], 24), (4, 'def', [62, 81, 71], 20), (5, 'xyz', [55, 75, 86], 19), (3, 'pqr', [91, 99, 92], 24))\n"
     ]
    }
   ],
   "source": [
    "tup2 = ((tup1[0][0],)+('kkk',)+tup1[0][2:],)+ tup1[1:]\n",
    "\n",
    "print(tup2)"
   ]
  },
  {
   "cell_type": "code",
   "execution_count": 90,
   "id": "ccebde5e",
   "metadata": {},
   "outputs": [],
   "source": [
    "# Difference between properties of lists and tuples?\n",
    "\n",
    "# Tuples are immutable lists. Rest all properties are same i.e only assignment not supported in tuples (due to immutability)"
   ]
  },
  {
   "cell_type": "markdown",
   "id": "010d2ec0",
   "metadata": {},
   "source": [
    "### Aliasing, copying, deepcopying"
   ]
  },
  {
   "cell_type": "code",
   "execution_count": 91,
   "id": "b44a1ab5",
   "metadata": {},
   "outputs": [],
   "source": [
    "import copy"
   ]
  },
  {
   "cell_type": "code",
   "execution_count": 92,
   "id": "14392ca7",
   "metadata": {},
   "outputs": [
    {
     "name": "stdout",
     "output_type": "stream",
     "text": [
      "[0, 1, 2, 3, 4, 5, 6, 7, 8, 9] 2937697224192\n",
      "[0, 1, 2, 3, 4, 5, 6, 7, 8, 9] 2937697228032\n",
      "[0, 1, 2, 3, 4, 5, 6, 7, 8, 9] 2937697199296\n",
      "[0, 1, 2, 3, 4, 5, 6, 7, 8, 9] 2937697209152\n"
     ]
    }
   ],
   "source": [
    "lst1 = list(range(10))\n",
    "\n",
    "lst2 = lst1[:]\n",
    "lst3 = lst1.copy()\n",
    "lst4 = copy.copy(lst1)\n",
    "\n",
    "print(lst1, id(lst1))\n",
    "print(lst2, id(lst2))\n",
    "print(lst3, id(lst3))\n",
    "print(lst4, id(lst4))"
   ]
  },
  {
   "cell_type": "code",
   "execution_count": 96,
   "id": "f6c5bbae",
   "metadata": {},
   "outputs": [
    {
     "name": "stdout",
     "output_type": "stream",
     "text": [
      "[1, 'a', 10.2, [1000, 2000, 3000]] 2937697243392\n",
      "[1, 'a', 10.2, [1000, 2000, 3000]] 2937697243392\n",
      "[1, 'a', 10.2, [1000, 2000, 3000]] 2937697191424\n",
      "[1, 'a', 10.2, [1000, 2000, 3000]] 2937697155712\n"
     ]
    }
   ],
   "source": [
    "lst1 = [1,'a', 10.2,[1000,2000,3000]]\n",
    "\n",
    "lst2 = lst1\n",
    "lst3 = lst1.copy()\n",
    "lst4 = copy.deepcopy(lst1)\n",
    "\n",
    "\n",
    "\n",
    "print(lst1, id(lst1))\n",
    "print(lst2, id(lst2))\n",
    "print(lst3, id(lst3))\n",
    "print(lst4, id(lst4))"
   ]
  },
  {
   "cell_type": "code",
   "execution_count": 94,
   "id": "9b828416",
   "metadata": {},
   "outputs": [
    {
     "name": "stdout",
     "output_type": "stream",
     "text": [
      "[2, 'a', 10.2, [1000, 2000, 3000]]\n",
      "[2, 'a', 10.2, [1000, 2000, 3000]]\n",
      "[1, 'a', 10.2, [1000, 2000, 3000]]\n",
      "[1, 'a', 10.2, [1000, 2000, 3000]]\n"
     ]
    }
   ],
   "source": [
    "lst1[0] = 2\n",
    "\n",
    "print(lst1)\n",
    "print(lst2)\n",
    "print(lst3)\n",
    "print(lst4)"
   ]
  },
  {
   "cell_type": "code",
   "execution_count": 95,
   "id": "a505b12c",
   "metadata": {},
   "outputs": [
    {
     "name": "stdout",
     "output_type": "stream",
     "text": [
      "[2, 'a', 10.2, [1111, 2000, 3000]]\n",
      "[2, 'a', 10.2, [1111, 2000, 3000]]\n",
      "[1, 'a', 10.2, [1111, 2000, 3000]]\n",
      "[1, 'a', 10.2, [1000, 2000, 3000]]\n"
     ]
    }
   ],
   "source": [
    "lst1[3][0] = 1111\n",
    "\n",
    "print(lst1)\n",
    "print(lst2)\n",
    "print(lst3)\n",
    "print(lst4)"
   ]
  },
  {
   "cell_type": "code",
   "execution_count": 97,
   "id": "420598cf",
   "metadata": {},
   "outputs": [
    {
     "name": "stdout",
     "output_type": "stream",
     "text": [
      "[1, 'a', 10.2, [1000, 2000, 3000]]\n",
      "[1, 'a', 10.2, [1000, 2000, 3000]]\n",
      "[1, 'a', 10.2, [1000, 2000, 3000]]\n",
      "[1, 'a', 10.2, [1000, 2000, 3000]]\n"
     ]
    }
   ],
   "source": [
    "print(lst1, lst2, lst3, lst4, sep = '\\n')"
   ]
  },
  {
   "cell_type": "code",
   "execution_count": 98,
   "id": "1db82809",
   "metadata": {},
   "outputs": [
    {
     "name": "stdout",
     "output_type": "stream",
     "text": [
      "1 is the object.\n",
      "2937616361776---2937616361776---2937616361776---2937616361776\n",
      "a is the object.\n",
      "2937618810352---2937618810352---2937618810352---2937618810352\n",
      "10.2 is the object.\n",
      "2937696268752---2937696268752---2937696268752---2937696268752\n",
      "[1000, 2000, 3000] is the object.\n",
      "2937697209152---2937697209152---2937697209152---2937697200640\n"
     ]
    }
   ],
   "source": [
    "for x in range(len(lst1)):\n",
    "    print(f'{lst1[x]} is the object.')\n",
    "    print(id(lst1[x]), id(lst2[x]), id(lst3[x]), id(lst4[x]), sep = '---')"
   ]
  },
  {
   "cell_type": "code",
   "execution_count": 99,
   "id": "60737167",
   "metadata": {},
   "outputs": [
    {
     "name": "stdout",
     "output_type": "stream",
     "text": [
      "[1, 'a', 10.2, [1000, [2000, 3000, [4000, 5000]]]]\n",
      "[1, 'a', 10.2, [1000, [2000, 3000, [4000, 5000]]]]\n"
     ]
    }
   ],
   "source": [
    "lst1 = [1,'a',10.2,[1000,[2000,3000,[4000,5000]]]]\n",
    "\n",
    "lst2 = copy.deepcopy(lst1)\n",
    "\n",
    "print(lst1)\n",
    "print(lst2)"
   ]
  },
  {
   "cell_type": "code",
   "execution_count": 100,
   "id": "a4f70ba0",
   "metadata": {},
   "outputs": [
    {
     "name": "stdout",
     "output_type": "stream",
     "text": [
      "2937697244096\n",
      "2937696320768\n"
     ]
    }
   ],
   "source": [
    "print(id(lst1[3]))\n",
    "print(id(lst2[3]))"
   ]
  },
  {
   "cell_type": "code",
   "execution_count": 101,
   "id": "4e76d4a0",
   "metadata": {},
   "outputs": [
    {
     "name": "stdout",
     "output_type": "stream",
     "text": [
      "2937697262912\n",
      "2937697223104\n"
     ]
    }
   ],
   "source": [
    "print(id(lst1[3][1]))\n",
    "print(id(lst2[3][1]))"
   ]
  },
  {
   "cell_type": "code",
   "execution_count": 102,
   "id": "5f32df82",
   "metadata": {},
   "outputs": [
    {
     "name": "stdout",
     "output_type": "stream",
     "text": [
      "2937697200704\n",
      "2937697244032\n"
     ]
    }
   ],
   "source": [
    "print(id(lst1[3][1][2]))\n",
    "print(id(lst2[3][1][2]))"
   ]
  },
  {
   "cell_type": "code",
   "execution_count": null,
   "id": "41cd70d3",
   "metadata": {},
   "outputs": [],
   "source": []
  }
 ],
 "metadata": {
  "kernelspec": {
   "display_name": "Python 3 (ipykernel)",
   "language": "python",
   "name": "python3"
  },
  "language_info": {
   "codemirror_mode": {
    "name": "ipython",
    "version": 3
   },
   "file_extension": ".py",
   "mimetype": "text/x-python",
   "name": "python",
   "nbconvert_exporter": "python",
   "pygments_lexer": "ipython3",
   "version": "3.9.13"
  }
 },
 "nbformat": 4,
 "nbformat_minor": 5
}
