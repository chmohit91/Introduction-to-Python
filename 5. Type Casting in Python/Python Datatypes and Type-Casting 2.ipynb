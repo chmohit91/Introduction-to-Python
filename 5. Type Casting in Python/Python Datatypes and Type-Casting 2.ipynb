{
 "cells": [
  {
   "cell_type": "markdown",
   "id": "b21b1972-b4a4-48f2-8371-61a928d07544",
   "metadata": {},
   "source": [
    "# Data types\n",
    "\n",
    "1. Fundamental (Basic )\n",
    "\n",
    "- int :- Any number without any decimal point eg -99 , 0 , 99 \n",
    "- float :- Any number with any decimal point eg -99.5434 , 0.0 , 99.54354 \n",
    "- complex :- Any number that can be written in a form of a+bj wher a is the real number b is the imag\n",
    "- bool :- True / False\n",
    "- string :- Anything written inside '..' , \"..\" , '''...''' , \"\"\"..\"\"\"\n",
    "- None\n",
    "\n",
    "\n",
    "2. Derived data types\n",
    "   \n",
    "- list\n",
    "- tuple\n",
    "- dictionary\n",
    "- set\n"
   ]
  },
  {
   "cell_type": "code",
   "execution_count": 10,
   "id": "e5ea3b40-d33c-4b4a-96b4-d866e6dacd78",
   "metadata": {},
   "outputs": [
    {
     "name": "stdout",
     "output_type": "stream",
     "text": [
      "35 <class 'int'>\n"
     ]
    }
   ],
   "source": [
    "a = 35\n",
    "\n",
    "\n",
    "print(a , type(a))"
   ]
  },
  {
   "cell_type": "code",
   "execution_count": 13,
   "id": "ae32cdcd-0f13-40c8-bc0d-c762b908a74e",
   "metadata": {},
   "outputs": [
    {
     "name": "stdout",
     "output_type": "stream",
     "text": [
      "-34.65 <class 'float'>\n"
     ]
    }
   ],
   "source": [
    "a = -34.65\n",
    "\n",
    "\n",
    "print(a , type(a))"
   ]
  },
  {
   "cell_type": "code",
   "execution_count": 14,
   "id": "d6dbfff1-82bd-4c94-a5c4-38139998b192",
   "metadata": {},
   "outputs": [
    {
     "name": "stdout",
     "output_type": "stream",
     "text": [
      "0.0 <class 'float'>\n"
     ]
    }
   ],
   "source": [
    "a = 0.0\n",
    "\n",
    "\n",
    "print(a , type(a))"
   ]
  },
  {
   "cell_type": "code",
   "execution_count": 19,
   "id": "c00af65f-68d9-4c32-95b6-efcabb6d3130",
   "metadata": {},
   "outputs": [
    {
     "name": "stdout",
     "output_type": "stream",
     "text": [
      "(23+7j) <class 'complex'>\n",
      "23.0\n",
      "7.0\n"
     ]
    }
   ],
   "source": [
    "a = 23+7j\n",
    "\n",
    "print(a , type(a))\n",
    "print(a.real)\n",
    "print(a.imag)"
   ]
  },
  {
   "cell_type": "code",
   "execution_count": 20,
   "id": "7024d206-8edd-44bf-a4b9-48299256f083",
   "metadata": {},
   "outputs": [
    {
     "name": "stdout",
     "output_type": "stream",
     "text": [
      "True <class 'bool'>\n"
     ]
    }
   ],
   "source": [
    "a = True\n",
    "\n",
    "\n",
    "print(a , type(a))"
   ]
  },
  {
   "cell_type": "code",
   "execution_count": 21,
   "id": "13536529-360a-40fa-86df-b8dbb110afde",
   "metadata": {},
   "outputs": [
    {
     "name": "stdout",
     "output_type": "stream",
     "text": [
      "False <class 'bool'>\n"
     ]
    }
   ],
   "source": [
    "a = False\n",
    "\n",
    "\n",
    "print(a , type(a))"
   ]
  },
  {
   "cell_type": "code",
   "execution_count": 22,
   "id": "8361def7-152e-44cc-bd72-41b1887ddea2",
   "metadata": {},
   "outputs": [
    {
     "data": {
      "text/plain": [
       "3"
      ]
     },
     "execution_count": 22,
     "metadata": {},
     "output_type": "execute_result"
    }
   ],
   "source": [
    "True + True + True"
   ]
  },
  {
   "cell_type": "code",
   "execution_count": null,
   "id": "09407a87-3602-40e6-a65b-1642b453fbf7",
   "metadata": {},
   "outputs": [],
   "source": [
    "True ---> 1\n",
    "False ---> 0"
   ]
  },
  {
   "cell_type": "code",
   "execution_count": 23,
   "id": "4c09bd7e-6b2c-493c-9e93-6e6b5b606f98",
   "metadata": {},
   "outputs": [
    {
     "name": "stdout",
     "output_type": "stream",
     "text": [
      "Hello world <class 'str'>\n"
     ]
    }
   ],
   "source": [
    "a = 'Hello world' \n",
    "\n",
    "\n",
    "print(a , type(a))"
   ]
  },
  {
   "cell_type": "code",
   "execution_count": 24,
   "id": "b2514be3-62ce-450a-96e5-46fe087d3b3b",
   "metadata": {},
   "outputs": [
    {
     "name": "stdout",
     "output_type": "stream",
     "text": [
      "43 <class 'str'>\n"
     ]
    }
   ],
   "source": [
    "a = '43' \n",
    "\n",
    "\n",
    "print(a , type(a))"
   ]
  },
  {
   "cell_type": "code",
   "execution_count": 25,
   "id": "cc9bf1d7-ef43-4fbd-8d83-aff2eb27e5d7",
   "metadata": {},
   "outputs": [
    {
     "name": "stdout",
     "output_type": "stream",
     "text": [
      "True <class 'str'>\n"
     ]
    }
   ],
   "source": [
    "a = 'True' \n",
    "\n",
    "print(a , type(a))"
   ]
  },
  {
   "cell_type": "code",
   "execution_count": 31,
   "id": "b0da8112-cd6d-4634-9bdf-382a2fe384e8",
   "metadata": {},
   "outputs": [
    {
     "name": "stdout",
     "output_type": "stream",
     "text": [
      "this is pythons class <class 'str'>\n"
     ]
    }
   ],
   "source": [
    "a = 'this is pythons class' \n",
    "\n",
    "print(a , type(a))"
   ]
  },
  {
   "cell_type": "code",
   "execution_count": 32,
   "id": "98b3a142-c47a-48ce-bbaf-891d1f6ae865",
   "metadata": {},
   "outputs": [
    {
     "ename": "SyntaxError",
     "evalue": "unterminated string literal (detected at line 1) (4002252862.py, line 1)",
     "output_type": "error",
     "traceback": [
      "\u001b[1;36m  Cell \u001b[1;32mIn[32], line 1\u001b[1;36m\u001b[0m\n\u001b[1;33m    a = 'this is python's class'\u001b[0m\n\u001b[1;37m                               ^\u001b[0m\n\u001b[1;31mSyntaxError\u001b[0m\u001b[1;31m:\u001b[0m unterminated string literal (detected at line 1)\n"
     ]
    }
   ],
   "source": [
    "a = 'this is python's class' \n",
    "\n",
    "print(a , type(a))"
   ]
  },
  {
   "cell_type": "code",
   "execution_count": 40,
   "id": "232c5f55-a5a4-4832-aec2-f95de9b045fd",
   "metadata": {},
   "outputs": [
    {
     "name": "stdout",
     "output_type": "stream",
     "text": [
      "this is python's. class <class 'str'>\n"
     ]
    }
   ],
   "source": [
    "a = \"this is python's. class\" \n",
    "\n",
    "print(a , type(a))"
   ]
  },
  {
   "cell_type": "code",
   "execution_count": 34,
   "id": "e5bdb98e-3f08-4326-a3d1-ec71d4e7a529",
   "metadata": {},
   "outputs": [
    {
     "ename": "SyntaxError",
     "evalue": "unterminated string literal (detected at line 1) (4147176953.py, line 1)",
     "output_type": "error",
     "traceback": [
      "\u001b[1;36m  Cell \u001b[1;32mIn[34], line 1\u001b[1;36m\u001b[0m\n\u001b[1;33m    a = \"this\u001b[0m\n\u001b[1;37m        ^\u001b[0m\n\u001b[1;31mSyntaxError\u001b[0m\u001b[1;31m:\u001b[0m unterminated string literal (detected at line 1)\n"
     ]
    }
   ],
   "source": [
    "a = \"this \n",
    "is python's \n",
    "class\" \n",
    "\n",
    "print(a , type(a))"
   ]
  },
  {
   "cell_type": "code",
   "execution_count": 35,
   "id": "f6f680ff-3489-497c-914e-2893e0d4189c",
   "metadata": {},
   "outputs": [
    {
     "name": "stdout",
     "output_type": "stream",
     "text": [
      "this \n",
      "is python's \n",
      "class <class 'str'>\n"
     ]
    }
   ],
   "source": [
    "a = '''this \n",
    "is python's \n",
    "class''' \n",
    "\n",
    "print(a , type(a))"
   ]
  },
  {
   "cell_type": "code",
   "execution_count": 36,
   "id": "e81ba94a-2d47-42db-94f9-1bc33b0d399c",
   "metadata": {},
   "outputs": [
    {
     "name": "stdout",
     "output_type": "stream",
     "text": [
      "this \n",
      "is python's \n",
      "class <class 'str'>\n"
     ]
    }
   ],
   "source": [
    "a = \"\"\"this \n",
    "is python's \n",
    "class\"\"\" \n",
    "\n",
    "print(a , type(a))"
   ]
  },
  {
   "cell_type": "code",
   "execution_count": null,
   "id": "bebf354f-8879-465a-9e1c-ec76918b0b00",
   "metadata": {},
   "outputs": [],
   "source": [
    "a = \"\"\"this \n",
    "is python's \n",
    "class\"\"\" \n",
    "\n",
    "print(a , type(a))"
   ]
  },
  {
   "cell_type": "code",
   "execution_count": 39,
   "id": "145214e7-6c73-4975-805f-8de5326f463b",
   "metadata": {},
   "outputs": [
    {
     "name": "stdout",
     "output_type": "stream",
     "text": [
      "Today is the anniversary of the publication of Robert Frost’s \n",
      "iconic poem “Stopping by Woods on a Snowy Evening,” a fact that spurred the\n",
      "Literary Hub office into a long conversation about their favorite poems, the most \n",
      "iconic poems written in English, and which poems we should all have already read \n",
      "(or at least be reading next). Turns out, despite frequent (false) claims that poetry is dead and/or irrelevant\n",
      "and/or boring, there are plenty of poems that have sunk deep into our collective consciousness as cultural icons. \n",
      "(What makes a poem iconic? For our purposes here, it’s primarily a matter of cultural ubiquity, \n",
      "though unimpeachable excellence helps any case.) So for those. of you who were not present for our \n",
      "epic office argument, I have listed some of them here. <class 'str'>\n"
     ]
    }
   ],
   "source": [
    "a = '''Today is the anniversary of the publication of Robert Frost’s \n",
    "iconic poem “Stopping by Woods on a Snowy Evening,” a fact that spurred the\n",
    "Literary Hub office into a long conversation about their favorite poems, the most \n",
    "iconic poems written in English, and which poems we should all have already read \n",
    "(or at least be reading next). Turns out, despite frequent (false) claims that poetry is dead and/or irrelevant\n",
    "and/or boring, there are plenty of poems that have sunk deep into our collective consciousness as cultural icons. \n",
    "(What makes a poem iconic? For our purposes here, it’s primarily a matter of cultural ubiquity, \n",
    "though unimpeachable excellence helps any case.) So for those. of you who were not present for our \n",
    "epic office argument, I have listed some of them here.'''\n",
    "\n",
    "print(a , type(a))"
   ]
  },
  {
   "cell_type": "code",
   "execution_count": 41,
   "id": "3673e527-cb0a-4f46-8fa4-f7e0b6b94308",
   "metadata": {},
   "outputs": [
    {
     "name": "stdout",
     "output_type": "stream",
     "text": [
      "None <class 'NoneType'>\n"
     ]
    }
   ],
   "source": [
    "a = None \n",
    "\n",
    "print(a , type(a))"
   ]
  },
  {
   "cell_type": "code",
   "execution_count": null,
   "id": "5e26e976-03f5-495b-92a1-bdef8aa7067d",
   "metadata": {},
   "outputs": [],
   "source": [
    "     emp_name      salary      age\n",
    "\n",
    "        xyz        5345345      23\n",
    "        abc         None        34\n",
    "        lmn        5432234      None"
   ]
  },
  {
   "cell_type": "code",
   "execution_count": 45,
   "id": "4da91550-c294-48cc-990f-71a73068bdfd",
   "metadata": {},
   "outputs": [],
   "source": [
    "s = [1,2,None,4,5]"
   ]
  },
  {
   "cell_type": "code",
   "execution_count": 46,
   "id": "83d9a381-c959-47a9-aa55-aabebc23ed59",
   "metadata": {},
   "outputs": [],
   "source": [
    "s = [1,2,0,4,5]"
   ]
  },
  {
   "cell_type": "code",
   "execution_count": 48,
   "id": "cba05a4e-421e-4869-9933-7d5e60846375",
   "metadata": {},
   "outputs": [
    {
     "data": {
      "text/plain": [
       "3.0"
      ]
     },
     "execution_count": 48,
     "metadata": {},
     "output_type": "execute_result"
    }
   ],
   "source": [
    "[1,2,3,4,5]\n",
    "\n",
    "15/5"
   ]
  },
  {
   "cell_type": "code",
   "execution_count": 49,
   "id": "2e76db9b-d99c-40d6-a755-c8ae7e28550a",
   "metadata": {},
   "outputs": [
    {
     "data": {
      "text/plain": [
       "2.4"
      ]
     },
     "execution_count": 49,
     "metadata": {},
     "output_type": "execute_result"
    }
   ],
   "source": [
    "[1,2,0,4,5]\n",
    "\n",
    "12/5"
   ]
  },
  {
   "cell_type": "code",
   "execution_count": 50,
   "id": "3929a09e-dc89-4aed-986b-8a149443bc14",
   "metadata": {},
   "outputs": [
    {
     "data": {
      "text/plain": [
       "3.0"
      ]
     },
     "execution_count": 50,
     "metadata": {},
     "output_type": "execute_result"
    }
   ],
   "source": [
    "[1,2,None,4,5]\n",
    "\n",
    "12/4"
   ]
  },
  {
   "cell_type": "markdown",
   "id": "2c34f9b4-da67-45df-9e30-fef07c994649",
   "metadata": {},
   "source": [
    "# List\n",
    "\n",
    "\n",
    "- Anything written inside [] and each elements are seperated by ,\n",
    "- mutable"
   ]
  },
  {
   "cell_type": "code",
   "execution_count": 51,
   "id": "dc8d72b2-1c42-4909-a94a-b57ec0302416",
   "metadata": {},
   "outputs": [
    {
     "name": "stdout",
     "output_type": "stream",
     "text": [
      "[23, 34, 345, 56] <class 'list'>\n"
     ]
    }
   ],
   "source": [
    "a = [23,34,345,56]\n",
    "\n",
    "print(a , type(a))"
   ]
  },
  {
   "cell_type": "markdown",
   "id": "b93a6ebd-6790-4bd9-aad6-f77a69d185bd",
   "metadata": {},
   "source": [
    "# tuple\n",
    "\n",
    "\n",
    "- Anything written inside () and each elements are seperated by ,\n",
    "- immutable"
   ]
  },
  {
   "cell_type": "code",
   "execution_count": 57,
   "id": "9495aeff-f1b3-4f4a-ad83-31ed31b39a97",
   "metadata": {},
   "outputs": [
    {
     "name": "stdout",
     "output_type": "stream",
     "text": [
      "('abc', 34, 34.5, 56, (23, 34, 543)) <class 'tuple'>\n"
     ]
    }
   ],
   "source": [
    "a = ('abc',34,34.5,56 , (23,34,543))\n",
    "\n",
    "print(a , type(a))"
   ]
  },
  {
   "cell_type": "code",
   "execution_count": 54,
   "id": "563b1146-1279-44a9-839e-32cb0ceba712",
   "metadata": {},
   "outputs": [
    {
     "data": {
      "text/plain": [
       "[999999999, 34, 345, 56]"
      ]
     },
     "execution_count": 54,
     "metadata": {},
     "output_type": "execute_result"
    }
   ],
   "source": [
    "a = [23,34,345,56]\n",
    "\n",
    "a[0] = 999999999\n",
    "\n",
    "a"
   ]
  },
  {
   "cell_type": "code",
   "execution_count": 55,
   "id": "870a81cd-8787-46f3-920a-08a0daa1d3cb",
   "metadata": {},
   "outputs": [
    {
     "ename": "TypeError",
     "evalue": "'tuple' object does not support item assignment",
     "output_type": "error",
     "traceback": [
      "\u001b[1;31m---------------------------------------------------------------------------\u001b[0m",
      "\u001b[1;31mTypeError\u001b[0m                                 Traceback (most recent call last)",
      "Cell \u001b[1;32mIn[55], line 3\u001b[0m\n\u001b[0;32m      1\u001b[0m a \u001b[38;5;241m=\u001b[39m (\u001b[38;5;241m23\u001b[39m,\u001b[38;5;241m34\u001b[39m,\u001b[38;5;241m345\u001b[39m,\u001b[38;5;241m56\u001b[39m)\n\u001b[1;32m----> 3\u001b[0m a[\u001b[38;5;241m0\u001b[39m] \u001b[38;5;241m=\u001b[39m \u001b[38;5;241m999999999\u001b[39m\n\u001b[0;32m      5\u001b[0m a\n",
      "\u001b[1;31mTypeError\u001b[0m: 'tuple' object does not support item assignment"
     ]
    }
   ],
   "source": [
    "a = (23,34,345,56)\n",
    "\n",
    "a[0] = 999999999\n",
    "\n",
    "a"
   ]
  },
  {
   "cell_type": "code",
   "execution_count": null,
   "id": "d312f469-a87b-4855-9b85-5bec70890f2f",
   "metadata": {},
   "outputs": [],
   "source": [
    "     emp_name      salary      age       adhar       pan\n",
    "\n",
    "        xyz        5345345      23        345345     435345\n",
    "        abc         534534      34        34534       345345\n",
    "        lmn        5432234      23        345        654"
   ]
  },
  {
   "cell_type": "markdown",
   "id": "10a3967c-f914-47ef-8a5f-18f426879da6",
   "metadata": {},
   "source": [
    "# set\n",
    "\n",
    "\n",
    "- Anything written inside {} and each elements are seperated by ,\n",
    "- collection of unique value"
   ]
  },
  {
   "cell_type": "code",
   "execution_count": 58,
   "id": "190dc262-197f-40a5-83fc-f61fee15c0f8",
   "metadata": {},
   "outputs": [
    {
     "name": "stdout",
     "output_type": "stream",
     "text": [
      "{56, 345, 34, 23} <class 'set'>\n"
     ]
    }
   ],
   "source": [
    "a = {23,34,345,56 ,56,56,56,56,56,56,56,56}\n",
    "\n",
    "print(a , type(a))"
   ]
  },
  {
   "cell_type": "code",
   "execution_count": 59,
   "id": "b1d20231-1055-4963-bba7-3a5d7e1c28a9",
   "metadata": {},
   "outputs": [
    {
     "name": "stdout",
     "output_type": "stream",
     "text": [
      "{'abc', 'xyz', 'lmn'} <class 'set'>\n"
     ]
    }
   ],
   "source": [
    "a = {'xyz' , 'abc' , 'lmn' , 'xyz' , 'xyz'}\n",
    "\n",
    "print(a , type(a))"
   ]
  },
  {
   "cell_type": "markdown",
   "id": "47b50bd5-6e3e-44c3-8a80-a607104ce889",
   "metadata": {},
   "source": [
    "# Dictionary\n",
    "\n",
    "- Anything written inside {}\n",
    "- It is a collection of a key and a value"
   ]
  },
  {
   "cell_type": "code",
   "execution_count": 60,
   "id": "4d401980-b413-45bb-bda3-8b1a224d2d16",
   "metadata": {},
   "outputs": [
    {
     "name": "stdout",
     "output_type": "stream",
     "text": [
      "{'name': 'xyz', 'age': 45, 'salary': 6757567} <class 'dict'>\n"
     ]
    }
   ],
   "source": [
    "a = {'name' : 'xyz' , 'age':45 , 'salary':6757567}\n",
    "\n",
    "print(a , type(a))"
   ]
  },
  {
   "cell_type": "code",
   "execution_count": 61,
   "id": "da4f4f64-9c51-4562-9c26-059fbfa9f69c",
   "metadata": {},
   "outputs": [
    {
     "name": "stdout",
     "output_type": "stream",
     "text": [
      "{'name': 'xyz', 'age': 45, 'salary': 6757567} <class 'dict'>\n"
     ]
    },
    {
     "data": {
      "text/plain": [
       "3"
      ]
     },
     "execution_count": 61,
     "metadata": {},
     "output_type": "execute_result"
    }
   ],
   "source": [
    "a = {'name' : 'xyz' , 'age':45 , 'salary':6757567}\n",
    "\n",
    "print(a , type(a))\n",
    "\n",
    "len(a)"
   ]
  },
  {
   "cell_type": "code",
   "execution_count": 63,
   "id": "fe1b802e-dfda-463d-b56f-0291c572c6c7",
   "metadata": {},
   "outputs": [
    {
     "name": "stdout",
     "output_type": "stream",
     "text": [
      "{'name': 'xyz', 'age': 45, 'salary': 6757567} <class 'dict'>\n"
     ]
    }
   ],
   "source": [
    "a = {'name' : 'xyz' , 'age':45 , 'salary':6757567}\n",
    "\n",
    "print(a , type(a))"
   ]
  },
  {
   "cell_type": "code",
   "execution_count": 65,
   "id": "9ef6993b-6df8-40f2-ac1e-09bfaa26f33c",
   "metadata": {},
   "outputs": [
    {
     "name": "stdout",
     "output_type": "stream",
     "text": [
      "Name :  xyz\n",
      "Age :  45\n",
      "Salary :  6757567\n"
     ]
    }
   ],
   "source": [
    "a = ['xyz' , 45 , 6757567]\n",
    "\n",
    "print('Name : ' , a[0])\n",
    "print('Age : ' , a[1])\n",
    "print('Salary : ' , a[2])"
   ]
  },
  {
   "cell_type": "code",
   "execution_count": 66,
   "id": "329d0e21-6449-4a9a-877d-2f05249fe0d0",
   "metadata": {},
   "outputs": [
    {
     "name": "stdout",
     "output_type": "stream",
     "text": [
      "Name :  45\n",
      "Age :  6757567\n",
      "Salary :  xyz\n"
     ]
    }
   ],
   "source": [
    "a = [ 45 , 6757567 , 'xyz']\n",
    "\n",
    "print('Name : ' , a[0])\n",
    "print('Age : ' , a[1])\n",
    "print('Salary : ' , a[2])"
   ]
  },
  {
   "cell_type": "code",
   "execution_count": 67,
   "id": "a5955227-9232-4f59-b08e-237af17e6849",
   "metadata": {},
   "outputs": [
    {
     "name": "stdout",
     "output_type": "stream",
     "text": [
      "Name :  xyz\n",
      "Age :  45\n",
      "Salary :  6757567\n"
     ]
    }
   ],
   "source": [
    "a = {'name' : 'xyz' , 'age':45 , 'salary':6757567}\n",
    "\n",
    "print('Name : ' , a['name'])\n",
    "print('Age : ' , a['age'])\n",
    "print('Salary : ' , a['salary'])"
   ]
  },
  {
   "cell_type": "code",
   "execution_count": 71,
   "id": "9ff407f8-a358-42f1-aa46-0467f74b26ef",
   "metadata": {},
   "outputs": [
    {
     "name": "stdout",
     "output_type": "stream",
     "text": [
      "Name :  xyz\n",
      "Age :  45\n",
      "Salary :  6757567\n"
     ]
    }
   ],
   "source": [
    "a = { \"age\":45 , 'salary':6757567 , 'name' : 'xyz'}\n",
    "\n",
    "print('Name : ' , a['name'])\n",
    "print('Age : ' , a['age'])\n",
    "print('Salary : ' , a['salary'])"
   ]
  },
  {
   "cell_type": "code",
   "execution_count": null,
   "id": "676fece8-1e2d-4372-b97b-83daadc96fd8",
   "metadata": {},
   "outputs": [],
   "source": [
    "a = { \"age\":45 , 'salary':6757567 , 'name' : 'xyz'}\n",
    "\n",
    "print('Name : ' , a['name'])\n",
    "print('Age : ' , a['age'])\n",
    "print('Salary : ' , a['salary'])"
   ]
  },
  {
   "cell_type": "markdown",
   "id": "245e4400-799e-4900-8666-60745b5261d6",
   "metadata": {},
   "source": [
    "# Type casting\n",
    "\n",
    "- Converting 1 data type to another"
   ]
  },
  {
   "cell_type": "code",
   "execution_count": null,
   "id": "677f4211-b33a-48bd-a1c9-f776a4c72e5d",
   "metadata": {},
   "outputs": [],
   "source": [
    "a = 78\n",
    "\n",
    "print(a , type(a))"
   ]
  },
  {
   "cell_type": "code",
   "execution_count": 76,
   "id": "e7945ea9-3521-4938-b091-9f377b6f80f9",
   "metadata": {},
   "outputs": [
    {
     "name": "stdout",
     "output_type": "stream",
     "text": [
      "78.0 <class 'float'>\n"
     ]
    }
   ],
   "source": [
    "# Syntax 1\n",
    "\n",
    "a = 78\n",
    "\n",
    "print(float(a) , type(float(a)))"
   ]
  },
  {
   "cell_type": "code",
   "execution_count": 77,
   "id": "3129c6d8-b07f-43b5-91e2-071fd9af4d64",
   "metadata": {},
   "outputs": [
    {
     "data": {
      "text/plain": [
       "78"
      ]
     },
     "execution_count": 77,
     "metadata": {},
     "output_type": "execute_result"
    }
   ],
   "source": [
    "a"
   ]
  },
  {
   "cell_type": "code",
   "execution_count": 79,
   "id": "7aa1cfd4-e7c6-4231-8aa6-eb6323e57d94",
   "metadata": {},
   "outputs": [
    {
     "name": "stdout",
     "output_type": "stream",
     "text": [
      "78.0 <class 'float'>\n"
     ]
    }
   ],
   "source": [
    "# Syntax 2\n",
    "\n",
    "a = float(78)\n",
    "\n",
    "print(a , type(a))"
   ]
  },
  {
   "cell_type": "code",
   "execution_count": 80,
   "id": "53d9143a-ae0b-4ebf-a644-cbf14fdbcf8a",
   "metadata": {},
   "outputs": [
    {
     "data": {
      "text/plain": [
       "78.0"
      ]
     },
     "execution_count": 80,
     "metadata": {},
     "output_type": "execute_result"
    }
   ],
   "source": [
    "a"
   ]
  },
  {
   "cell_type": "code",
   "execution_count": 88,
   "id": "9bd75974-2416-45f3-ba4d-238b94b69cda",
   "metadata": {},
   "outputs": [
    {
     "name": "stdout",
     "output_type": "stream",
     "text": [
      "123 <class 'int'>\n"
     ]
    }
   ],
   "source": [
    "a = int(123.9999999)\n",
    "\n",
    "print(a , type(a))"
   ]
  },
  {
   "cell_type": "code",
   "execution_count": 90,
   "id": "3d6aa1b3-0c8a-4d0f-9d78-90ce3c4074ab",
   "metadata": {},
   "outputs": [
    {
     "name": "stdout",
     "output_type": "stream",
     "text": [
      "123 <class 'int'>\n"
     ]
    }
   ],
   "source": [
    "a = round(123.2345)\n",
    "\n",
    "print(a , type(a))"
   ]
  },
  {
   "cell_type": "code",
   "execution_count": null,
   "id": "a8342e5c-3653-4ca6-af22-c83dd83fbd32",
   "metadata": {},
   "outputs": [],
   "source": [
    "0.5---> bigger"
   ]
  },
  {
   "cell_type": "code",
   "execution_count": 98,
   "id": "d28ec065-eab2-4b01-beae-b32d20327099",
   "metadata": {},
   "outputs": [
    {
     "name": "stdout",
     "output_type": "stream",
     "text": [
      "True <class 'bool'>\n"
     ]
    }
   ],
   "source": [
    "a = bool(345345)\n",
    "\n",
    "print(a , type(a))"
   ]
  },
  {
   "cell_type": "code",
   "execution_count": 95,
   "id": "cd3bff15-fd01-4370-852d-a76cfa63a7ad",
   "metadata": {},
   "outputs": [
    {
     "name": "stdout",
     "output_type": "stream",
     "text": [
      "True <class 'bool'>\n"
     ]
    }
   ],
   "source": [
    "a = bool(0.00000001)\n",
    "\n",
    "print(a , type(a))"
   ]
  },
  {
   "cell_type": "code",
   "execution_count": 96,
   "id": "169e0180-7338-48f0-910d-4d31bd15264d",
   "metadata": {},
   "outputs": [
    {
     "name": "stdout",
     "output_type": "stream",
     "text": [
      "False <class 'bool'>\n"
     ]
    }
   ],
   "source": [
    "a = bool(0+0j)\n",
    "\n",
    "print(a , type(a))"
   ]
  },
  {
   "cell_type": "code",
   "execution_count": 99,
   "id": "8cab14d0-0a4e-4660-9efe-1beac06e24d7",
   "metadata": {},
   "outputs": [
    {
     "name": "stdout",
     "output_type": "stream",
     "text": [
      "False <class 'bool'>\n"
     ]
    }
   ],
   "source": [
    "a = bool(None)\n",
    "\n",
    "print(a , type(a))"
   ]
  },
  {
   "cell_type": "code",
   "execution_count": 101,
   "id": "868275a1-b376-4b5a-8cfc-03412d47dd64",
   "metadata": {},
   "outputs": [
    {
     "name": "stdout",
     "output_type": "stream",
     "text": [
      "False <class 'bool'>\n"
     ]
    }
   ],
   "source": [
    "a = bool('')\n",
    "\n",
    "print(a , type(a))"
   ]
  },
  {
   "cell_type": "code",
   "execution_count": null,
   "id": "a162de16-7f7c-4fbd-bfd0-bed0f9e269b3",
   "metadata": {},
   "outputs": [],
   "source": [
    "int --> 0 is false and rest all are True\n",
    "float ---> 0.0 is False and rest all are True\n",
    "complex --> 0+0j is false rest all are True\n",
    "None --> Is always False\n",
    "string --> empty string is false and rest all are True\n",
    "\n",
    "\n",
    "[] , () , {}"
   ]
  },
  {
   "cell_type": "code",
   "execution_count": 102,
   "id": "4d77459b-3f8b-4f31-8c39-a13af57a2f2e",
   "metadata": {},
   "outputs": [
    {
     "name": "stdout",
     "output_type": "stream",
     "text": [
      "1234 <class 'str'>\n"
     ]
    }
   ],
   "source": [
    "a = '1234'\n",
    "\n",
    "print(a , type(a))"
   ]
  },
  {
   "cell_type": "code",
   "execution_count": 103,
   "id": "d64b3816-6fcf-4da3-a68f-0d9815bb5e7e",
   "metadata": {},
   "outputs": [
    {
     "name": "stdout",
     "output_type": "stream",
     "text": [
      "1234 <class 'int'>\n"
     ]
    }
   ],
   "source": [
    "a = int('1234')\n",
    "\n",
    "print(a , type(a))"
   ]
  },
  {
   "cell_type": "code",
   "execution_count": 104,
   "id": "333b2dc3-cc49-4565-8b2e-d79adfaceafb",
   "metadata": {},
   "outputs": [
    {
     "ename": "ValueError",
     "evalue": "invalid literal for int() with base 10: '1234abc'",
     "output_type": "error",
     "traceback": [
      "\u001b[1;31m---------------------------------------------------------------------------\u001b[0m",
      "\u001b[1;31mValueError\u001b[0m                                Traceback (most recent call last)",
      "Cell \u001b[1;32mIn[104], line 1\u001b[0m\n\u001b[1;32m----> 1\u001b[0m a \u001b[38;5;241m=\u001b[39m \u001b[38;5;28mint\u001b[39m(\u001b[38;5;124m'\u001b[39m\u001b[38;5;124m1234abc\u001b[39m\u001b[38;5;124m'\u001b[39m)\n\u001b[0;32m      3\u001b[0m \u001b[38;5;28mprint\u001b[39m(a , \u001b[38;5;28mtype\u001b[39m(a))\n",
      "\u001b[1;31mValueError\u001b[0m: invalid literal for int() with base 10: '1234abc'"
     ]
    }
   ],
   "source": [
    "a = int('1234abc')\n",
    "\n",
    "print(a , type(a))"
   ]
  },
  {
   "cell_type": "code",
   "execution_count": 105,
   "id": "c3395d11-c387-4d3a-bb85-2548681c1db6",
   "metadata": {},
   "outputs": [
    {
     "ename": "ValueError",
     "evalue": "invalid literal for int() with base 10: '123.456'",
     "output_type": "error",
     "traceback": [
      "\u001b[1;31m---------------------------------------------------------------------------\u001b[0m",
      "\u001b[1;31mValueError\u001b[0m                                Traceback (most recent call last)",
      "Cell \u001b[1;32mIn[105], line 1\u001b[0m\n\u001b[1;32m----> 1\u001b[0m a \u001b[38;5;241m=\u001b[39m \u001b[38;5;28mint\u001b[39m(\u001b[38;5;124m'\u001b[39m\u001b[38;5;124m123.456\u001b[39m\u001b[38;5;124m'\u001b[39m)\n\u001b[0;32m      3\u001b[0m \u001b[38;5;28mprint\u001b[39m(a , \u001b[38;5;28mtype\u001b[39m(a))\n",
      "\u001b[1;31mValueError\u001b[0m: invalid literal for int() with base 10: '123.456'"
     ]
    }
   ],
   "source": [
    "a = int('123.456')\n",
    "\n",
    "print(a , type(a))"
   ]
  },
  {
   "cell_type": "code",
   "execution_count": 106,
   "id": "45be3bde-6fd3-484e-a481-fd97a92fcf31",
   "metadata": {},
   "outputs": [
    {
     "name": "stdout",
     "output_type": "stream",
     "text": [
      "123.456 <class 'float'>\n"
     ]
    }
   ],
   "source": [
    "a = float('123.456')\n",
    "\n",
    "print(a , type(a))"
   ]
  },
  {
   "cell_type": "code",
   "execution_count": 107,
   "id": "31069e01-fc13-4da1-b25d-88e9da6d61f6",
   "metadata": {},
   "outputs": [
    {
     "name": "stdout",
     "output_type": "stream",
     "text": [
      "123.0 <class 'float'>\n"
     ]
    }
   ],
   "source": [
    "a = float('123')\n",
    "\n",
    "print(a , type(a))"
   ]
  },
  {
   "cell_type": "code",
   "execution_count": 108,
   "id": "188307f9-929f-4db0-b57c-db2a87ad4de4",
   "metadata": {},
   "outputs": [
    {
     "name": "stdout",
     "output_type": "stream",
     "text": [
      "123 <class 'int'>\n"
     ]
    }
   ],
   "source": [
    "a = int('123')\n",
    "\n",
    "print(a , type(a))"
   ]
  },
  {
   "cell_type": "code",
   "execution_count": 112,
   "id": "ea52ded0-5fc4-40a6-9fcd-7bfb4e50581e",
   "metadata": {},
   "outputs": [
    {
     "ename": "ValueError",
     "evalue": "invalid literal for int() with base 10: '123.567'",
     "output_type": "error",
     "traceback": [
      "\u001b[1;31m---------------------------------------------------------------------------\u001b[0m",
      "\u001b[1;31mValueError\u001b[0m                                Traceback (most recent call last)",
      "Cell \u001b[1;32mIn[112], line 1\u001b[0m\n\u001b[1;32m----> 1\u001b[0m a \u001b[38;5;241m=\u001b[39m \u001b[38;5;28mint\u001b[39m(\u001b[38;5;124m'\u001b[39m\u001b[38;5;124m123.567\u001b[39m\u001b[38;5;124m'\u001b[39m)\n\u001b[0;32m      3\u001b[0m \u001b[38;5;28mprint\u001b[39m(a , \u001b[38;5;28mtype\u001b[39m(a))\n",
      "\u001b[1;31mValueError\u001b[0m: invalid literal for int() with base 10: '123.567'"
     ]
    }
   ],
   "source": [
    "a = int('123.567')\n",
    "\n",
    "print(a , type(a))"
   ]
  },
  {
   "cell_type": "code",
   "execution_count": 118,
   "id": "e0d8bddd-84cf-437f-bdd4-074101913697",
   "metadata": {},
   "outputs": [
    {
     "name": "stdout",
     "output_type": "stream",
     "text": [
      "123.0 <class 'float'>\n"
     ]
    }
   ],
   "source": [
    "a = float('123')\n",
    "\n",
    "print(a , type(a))"
   ]
  },
  {
   "cell_type": "markdown",
   "id": "4b7f03f1-e3bb-4b5c-95a3-f22dccfdc936",
   "metadata": {},
   "source": [
    "# eval"
   ]
  },
  {
   "cell_type": "code",
   "execution_count": 113,
   "id": "e241f375-8fd2-4221-9d8e-635f1d263074",
   "metadata": {},
   "outputs": [
    {
     "name": "stdout",
     "output_type": "stream",
     "text": [
      "123 <class 'int'>\n"
     ]
    }
   ],
   "source": [
    "a = eval('123')\n",
    "\n",
    "print(a , type(a))"
   ]
  },
  {
   "cell_type": "code",
   "execution_count": 114,
   "id": "941602a0-f024-457f-b8f5-f77ddd4cb81a",
   "metadata": {},
   "outputs": [
    {
     "name": "stdout",
     "output_type": "stream",
     "text": [
      "123.565 <class 'float'>\n"
     ]
    }
   ],
   "source": [
    "a = eval('123.565')\n",
    "\n",
    "print(a , type(a))"
   ]
  },
  {
   "cell_type": "code",
   "execution_count": 115,
   "id": "c138df6d-28ec-4d77-bc3a-07b6c162f6d6",
   "metadata": {},
   "outputs": [
    {
     "name": "stdout",
     "output_type": "stream",
     "text": [
      "(12+7j) <class 'complex'>\n"
     ]
    }
   ],
   "source": [
    "a = eval('12+7j')\n",
    "\n",
    "print(a , type(a))"
   ]
  },
  {
   "cell_type": "code",
   "execution_count": 116,
   "id": "6f7d880f-5088-4a2d-b823-071723c53b2a",
   "metadata": {},
   "outputs": [
    {
     "name": "stdout",
     "output_type": "stream",
     "text": [
      "[2, 3, 4, 5] <class 'list'>\n"
     ]
    }
   ],
   "source": [
    "a = eval('[2,3,4,5]')\n",
    "\n",
    "print(a , type(a))"
   ]
  },
  {
   "cell_type": "code",
   "execution_count": 126,
   "id": "b62425e2-20c9-4bb5-8be6-e6b6f7055cf3",
   "metadata": {},
   "outputs": [
    {
     "name": "stdout",
     "output_type": "stream",
     "text": [
      "123 <class 'str'>\n"
     ]
    }
   ],
   "source": [
    "a = '123'\n",
    "\n",
    "print(a , type(a))"
   ]
  },
  {
   "cell_type": "code",
   "execution_count": null,
   "id": "cd5d084f-b3fa-4287-b618-405575c636c8",
   "metadata": {},
   "outputs": [],
   "source": []
  }
 ],
 "metadata": {
  "kernelspec": {
   "display_name": "Python 3 (ipykernel)",
   "language": "python",
   "name": "python3"
  },
  "language_info": {
   "codemirror_mode": {
    "name": "ipython",
    "version": 3
   },
   "file_extension": ".py",
   "mimetype": "text/x-python",
   "name": "python",
   "nbconvert_exporter": "python",
   "pygments_lexer": "ipython3",
   "version": "3.11.7"
  }
 },
 "nbformat": 4,
 "nbformat_minor": 5
}
